{
 "cells": [
  {
   "cell_type": "code",
   "metadata": {
    "tags": [],
    "cell_id": "00000-06bf70df-04ac-4912-a8b6-10c3b3322839",
    "deepnote_to_be_reexecuted": false,
    "source_hash": "f5487b90",
    "execution_start": 1637352040807,
    "execution_millis": 6031,
    "deepnote_cell_type": "code"
   },
   "source": "!pip install nbmerge\n",
   "outputs": [
    {
     "name": "stdout",
     "text": "Collecting nbmerge\n  Downloading nbmerge-0.0.4.tar.gz (7.6 kB)\nBuilding wheels for collected packages: nbmerge\n  Building wheel for nbmerge (setup.py) ... \u001b[?25ldone\n\u001b[?25h  Created wheel for nbmerge: filename=nbmerge-0.0.4-py2.py3-none-any.whl size=6413 sha256=4ef36d3499af2a83e6310e3a7d33eac3ff4f1ebb622f5ad403c8596b41d904d2\n  Stored in directory: /root/.cache/pip/wheels/0b/a8/31/4ae563f674b488c82ee72cfe0f86487c21532db97ae910b264\nSuccessfully built nbmerge\nInstalling collected packages: nbmerge\nSuccessfully installed nbmerge-0.0.4\n\u001b[33mWARNING: You are using pip version 21.2.3; however, version 21.3.1 is available.\nYou should consider upgrading via the '/root/venv/bin/python -m pip install --upgrade pip' command.\u001b[0m\n",
     "output_type": "stream"
    }
   ],
   "execution_count": null
  },
  {
   "cell_type": "code",
   "metadata": {
    "tags": [],
    "cell_id": "00001-63fd46d0-d76d-4f05-8e2c-2712bf292abf",
    "deepnote_to_be_reexecuted": false,
    "source_hash": "daf41387",
    "execution_start": 1637354019605,
    "execution_millis": 7152,
    "deepnote_output_heights": [
     78.796875
    ],
    "deepnote_cell_type": "code"
   },
   "source": "\n\n!nbmerge merged.ipynb randomForest.ipynb hyperparams3500for\\ catboost.ipynb combined.ipynb catboost_clean.ipynb traindatacleaning-Outliers.ipynb xgb.ipynb testcat.ipynb > merged1.ipynb",
   "outputs": [],
   "execution_count": null
  },
  {
   "cell_type": "code",
   "metadata": {
    "tags": [],
    "cell_id": "00000-3fd6051e-c3ef-4042-997d-11677e401171",
    "deepnote_to_be_reexecuted": false,
    "source_hash": "7958d4a9",
    "execution_start": 1637337968712,
    "execution_millis": 4971,
    "deepnote_cell_type": "code"
   },
   "source": "!pip install -r requirements.txt",
   "outputs": [
    {
     "name": "stdout",
     "text": "Requirement already satisfied: xgboost in /root/venv/lib/python3.9/site-packages (from -r requirements.txt (line 1)) (1.5.0)\nRequirement already satisfied: catboost in /root/venv/lib/python3.9/site-packages (from -r requirements.txt (line 2)) (1.0.3)\nRequirement already satisfied: ipywidgets in /root/venv/lib/python3.9/site-packages (from -r requirements.txt (line 3)) (7.6.5)\nRequirement already satisfied: LightGBM in /root/venv/lib/python3.9/site-packages (from -r requirements.txt (line 4)) (3.3.1)\nRequirement already satisfied: numpy in /shared-libs/python3.9/py/lib/python3.9/site-packages (from xgboost->-r requirements.txt (line 1)) (1.21.4)\nRequirement already satisfied: scipy in /shared-libs/python3.9/py/lib/python3.9/site-packages (from xgboost->-r requirements.txt (line 1)) (1.7.2)\nRequirement already satisfied: matplotlib in /shared-libs/python3.9/py/lib/python3.9/site-packages (from catboost->-r requirements.txt (line 2)) (3.4.3)\nRequirement already satisfied: graphviz in /root/venv/lib/python3.9/site-packages (from catboost->-r requirements.txt (line 2)) (0.18.2)\nRequirement already satisfied: pandas>=0.24.0 in /shared-libs/python3.9/py/lib/python3.9/site-packages (from catboost->-r requirements.txt (line 2)) (1.2.5)\nRequirement already satisfied: six in /shared-libs/python3.9/py-core/lib/python3.9/site-packages (from catboost->-r requirements.txt (line 2)) (1.16.0)\nRequirement already satisfied: plotly in /shared-libs/python3.9/py/lib/python3.9/site-packages (from catboost->-r requirements.txt (line 2)) (5.3.1)\nRequirement already satisfied: ipython-genutils~=0.2.0 in /shared-libs/python3.9/py-core/lib/python3.9/site-packages (from ipywidgets->-r requirements.txt (line 3)) (0.2.0)\nRequirement already satisfied: jupyterlab-widgets>=1.0.0 in /root/venv/lib/python3.9/site-packages (from ipywidgets->-r requirements.txt (line 3)) (1.0.2)\nRequirement already satisfied: widgetsnbextension~=3.5.0 in /root/venv/lib/python3.9/site-packages (from ipywidgets->-r requirements.txt (line 3)) (3.5.2)\nRequirement already satisfied: traitlets>=4.3.1 in /shared-libs/python3.9/py-core/lib/python3.9/site-packages (from ipywidgets->-r requirements.txt (line 3)) (4.3.3)\nRequirement already satisfied: nbformat>=4.2.0 in /shared-libs/python3.9/py-core/lib/python3.9/site-packages (from ipywidgets->-r requirements.txt (line 3)) (5.1.3)\nRequirement already satisfied: ipython>=4.0.0 in /shared-libs/python3.9/py-core/lib/python3.9/site-packages (from ipywidgets->-r requirements.txt (line 3)) (7.29.0)\nRequirement already satisfied: ipykernel>=4.5.1 in /shared-libs/python3.9/py-core/lib/python3.9/site-packages (from ipywidgets->-r requirements.txt (line 3)) (5.5.5)\nRequirement already satisfied: scikit-learn!=0.22.0 in /shared-libs/python3.9/py/lib/python3.9/site-packages (from LightGBM->-r requirements.txt (line 4)) (1.0.1)\nRequirement already satisfied: wheel in /usr/local/lib/python3.9/site-packages (from LightGBM->-r requirements.txt (line 4)) (0.37.0)\nRequirement already satisfied: tornado>=4.2 in /shared-libs/python3.9/py-core/lib/python3.9/site-packages (from ipykernel>=4.5.1->ipywidgets->-r requirements.txt (line 3)) (6.1)\nRequirement already satisfied: jupyter-client in /shared-libs/python3.9/py-core/lib/python3.9/site-packages (from ipykernel>=4.5.1->ipywidgets->-r requirements.txt (line 3)) (6.1.12)\nRequirement already satisfied: pygments in /shared-libs/python3.9/py-core/lib/python3.9/site-packages (from ipython>=4.0.0->ipywidgets->-r requirements.txt (line 3)) (2.10.0)\nRequirement already satisfied: setuptools>=18.5 in /root/venv/lib/python3.9/site-packages (from ipython>=4.0.0->ipywidgets->-r requirements.txt (line 3)) (57.4.0)\nRequirement already satisfied: jedi>=0.16 in /shared-libs/python3.9/py-core/lib/python3.9/site-packages (from ipython>=4.0.0->ipywidgets->-r requirements.txt (line 3)) (0.17.2)\nRequirement already satisfied: backcall in /shared-libs/python3.9/py-core/lib/python3.9/site-packages (from ipython>=4.0.0->ipywidgets->-r requirements.txt (line 3)) (0.2.0)\nRequirement already satisfied: matplotlib-inline in /shared-libs/python3.9/py-core/lib/python3.9/site-packages (from ipython>=4.0.0->ipywidgets->-r requirements.txt (line 3)) (0.1.3)\nRequirement already satisfied: pexpect>4.3 in /shared-libs/python3.9/py-core/lib/python3.9/site-packages (from ipython>=4.0.0->ipywidgets->-r requirements.txt (line 3)) (4.8.0)\nRequirement already satisfied: pickleshare in /shared-libs/python3.9/py-core/lib/python3.9/site-packages (from ipython>=4.0.0->ipywidgets->-r requirements.txt (line 3)) (0.7.5)\nRequirement already satisfied: decorator in /shared-libs/python3.9/py-core/lib/python3.9/site-packages (from ipython>=4.0.0->ipywidgets->-r requirements.txt (line 3)) (5.1.0)\nRequirement already satisfied: prompt-toolkit!=3.0.0,!=3.0.1,<3.1.0,>=2.0.0 in /shared-libs/python3.9/py-core/lib/python3.9/site-packages (from ipython>=4.0.0->ipywidgets->-r requirements.txt (line 3)) (3.0.22)\nRequirement already satisfied: parso<0.8.0,>=0.7.0 in /shared-libs/python3.9/py-core/lib/python3.9/site-packages (from jedi>=0.16->ipython>=4.0.0->ipywidgets->-r requirements.txt (line 3)) (0.7.1)\nRequirement already satisfied: jupyter-core in /shared-libs/python3.9/py-core/lib/python3.9/site-packages (from nbformat>=4.2.0->ipywidgets->-r requirements.txt (line 3)) (4.7.1)\nRequirement already satisfied: jsonschema!=2.5.0,>=2.4 in /shared-libs/python3.9/py-core/lib/python3.9/site-packages (from nbformat>=4.2.0->ipywidgets->-r requirements.txt (line 3)) (3.2.0)\nRequirement already satisfied: attrs>=17.4.0 in /shared-libs/python3.9/py-core/lib/python3.9/site-packages (from jsonschema!=2.5.0,>=2.4->nbformat>=4.2.0->ipywidgets->-r requirements.txt (line 3)) (21.2.0)\nRequirement already satisfied: pyrsistent>=0.14.0 in /shared-libs/python3.9/py-core/lib/python3.9/site-packages (from jsonschema!=2.5.0,>=2.4->nbformat>=4.2.0->ipywidgets->-r requirements.txt (line 3)) (0.18.0)\nRequirement already satisfied: pytz>=2017.3 in /shared-libs/python3.9/py/lib/python3.9/site-packages (from pandas>=0.24.0->catboost->-r requirements.txt (line 2)) (2021.3)\nRequirement already satisfied: python-dateutil>=2.7.3 in /shared-libs/python3.9/py-core/lib/python3.9/site-packages (from pandas>=0.24.0->catboost->-r requirements.txt (line 2)) (2.8.2)\nRequirement already satisfied: ptyprocess>=0.5 in /shared-libs/python3.9/py-core/lib/python3.9/site-packages (from pexpect>4.3->ipython>=4.0.0->ipywidgets->-r requirements.txt (line 3)) (0.7.0)\nRequirement already satisfied: wcwidth in /shared-libs/python3.9/py-core/lib/python3.9/site-packages (from prompt-toolkit!=3.0.0,!=3.0.1,<3.1.0,>=2.0.0->ipython>=4.0.0->ipywidgets->-r requirements.txt (line 3)) (0.2.5)\nRequirement already satisfied: threadpoolctl>=2.0.0 in /shared-libs/python3.9/py/lib/python3.9/site-packages (from scikit-learn!=0.22.0->LightGBM->-r requirements.txt (line 4)) (3.0.0)\nRequirement already satisfied: joblib>=0.11 in /shared-libs/python3.9/py/lib/python3.9/site-packages (from scikit-learn!=0.22.0->LightGBM->-r requirements.txt (line 4)) (1.1.0)\nRequirement already satisfied: notebook>=4.4.1 in /shared-libs/python3.9/py-core/lib/python3.9/site-packages (from widgetsnbextension~=3.5.0->ipywidgets->-r requirements.txt (line 3)) (6.3.0)\nRequirement already satisfied: argon2-cffi in /shared-libs/python3.9/py-core/lib/python3.9/site-packages (from notebook>=4.4.1->widgetsnbextension~=3.5.0->ipywidgets->-r requirements.txt (line 3)) (21.1.0)\nRequirement already satisfied: prometheus-client in /shared-libs/python3.9/py-core/lib/python3.9/site-packages (from notebook>=4.4.1->widgetsnbextension~=3.5.0->ipywidgets->-r requirements.txt (line 3)) (0.12.0)\nRequirement already satisfied: Send2Trash>=1.5.0 in /shared-libs/python3.9/py-core/lib/python3.9/site-packages (from notebook>=4.4.1->widgetsnbextension~=3.5.0->ipywidgets->-r requirements.txt (line 3)) (1.8.0)\nRequirement already satisfied: nbconvert==6.0.7 in /shared-libs/python3.9/py-core/lib/python3.9/site-packages (from notebook>=4.4.1->widgetsnbextension~=3.5.0->ipywidgets->-r requirements.txt (line 3)) (6.0.7)\nRequirement already satisfied: terminado>=0.8.3 in /shared-libs/python3.9/py-core/lib/python3.9/site-packages (from notebook>=4.4.1->widgetsnbextension~=3.5.0->ipywidgets->-r requirements.txt (line 3)) (0.12.1)\nRequirement already satisfied: jinja2 in /shared-libs/python3.9/py-core/lib/python3.9/site-packages (from notebook>=4.4.1->widgetsnbextension~=3.5.0->ipywidgets->-r requirements.txt (line 3)) (3.0.3)\nRequirement already satisfied: pyzmq>=17 in /shared-libs/python3.9/py-core/lib/python3.9/site-packages (from notebook>=4.4.1->widgetsnbextension~=3.5.0->ipywidgets->-r requirements.txt (line 3)) (22.3.0)\nRequirement already satisfied: mistune<2,>=0.8.1 in /shared-libs/python3.9/py-core/lib/python3.9/site-packages (from nbconvert==6.0.7->notebook>=4.4.1->widgetsnbextension~=3.5.0->ipywidgets->-r requirements.txt (line 3)) (0.8.4)\nRequirement already satisfied: entrypoints>=0.2.2 in /shared-libs/python3.9/py-core/lib/python3.9/site-packages (from nbconvert==6.0.7->notebook>=4.4.1->widgetsnbextension~=3.5.0->ipywidgets->-r requirements.txt (line 3)) (0.3)\nRequirement already satisfied: nbclient<0.6.0,>=0.5.0 in /shared-libs/python3.9/py-core/lib/python3.9/site-packages (from nbconvert==6.0.7->notebook>=4.4.1->widgetsnbextension~=3.5.0->ipywidgets->-r requirements.txt (line 3)) (0.5.8)\nRequirement already satisfied: jupyterlab-pygments in /shared-libs/python3.9/py-core/lib/python3.9/site-packages (from nbconvert==6.0.7->notebook>=4.4.1->widgetsnbextension~=3.5.0->ipywidgets->-r requirements.txt (line 3)) (0.1.2)\nRequirement already satisfied: bleach in /shared-libs/python3.9/py-core/lib/python3.9/site-packages (from nbconvert==6.0.7->notebook>=4.4.1->widgetsnbextension~=3.5.0->ipywidgets->-r requirements.txt (line 3)) (4.1.0)\nRequirement already satisfied: defusedxml in /shared-libs/python3.9/py-core/lib/python3.9/site-packages (from nbconvert==6.0.7->notebook>=4.4.1->widgetsnbextension~=3.5.0->ipywidgets->-r requirements.txt (line 3)) (0.7.1)\nRequirement already satisfied: pandocfilters>=1.4.1 in /shared-libs/python3.9/py-core/lib/python3.9/site-packages (from nbconvert==6.0.7->notebook>=4.4.1->widgetsnbextension~=3.5.0->ipywidgets->-r requirements.txt (line 3)) (1.5.0)\nRequirement already satisfied: testpath in /shared-libs/python3.9/py-core/lib/python3.9/site-packages (from nbconvert==6.0.7->notebook>=4.4.1->widgetsnbextension~=3.5.0->ipywidgets->-r requirements.txt (line 3)) (0.5.0)\nRequirement already satisfied: MarkupSafe>=2.0 in /shared-libs/python3.9/py-core/lib/python3.9/site-packages (from jinja2->notebook>=4.4.1->widgetsnbextension~=3.5.0->ipywidgets->-r requirements.txt (line 3)) (2.0.1)\nRequirement already satisfied: nest-asyncio in /shared-libs/python3.9/py-core/lib/python3.9/site-packages (from nbclient<0.6.0,>=0.5.0->nbconvert==6.0.7->notebook>=4.4.1->widgetsnbextension~=3.5.0->ipywidgets->-r requirements.txt (line 3)) (1.5.1)\nRequirement already satisfied: cffi>=1.0.0 in /shared-libs/python3.9/py-core/lib/python3.9/site-packages (from argon2-cffi->notebook>=4.4.1->widgetsnbextension~=3.5.0->ipywidgets->-r requirements.txt (line 3)) (1.15.0)\nRequirement already satisfied: pycparser in /shared-libs/python3.9/py-core/lib/python3.9/site-packages (from cffi>=1.0.0->argon2-cffi->notebook>=4.4.1->widgetsnbextension~=3.5.0->ipywidgets->-r requirements.txt (line 3)) (2.21)\nRequirement already satisfied: webencodings in /shared-libs/python3.9/py-core/lib/python3.9/site-packages (from bleach->nbconvert==6.0.7->notebook>=4.4.1->widgetsnbextension~=3.5.0->ipywidgets->-r requirements.txt (line 3)) (0.5.1)\nRequirement already satisfied: packaging in /shared-libs/python3.9/py-core/lib/python3.9/site-packages (from bleach->nbconvert==6.0.7->notebook>=4.4.1->widgetsnbextension~=3.5.0->ipywidgets->-r requirements.txt (line 3)) (21.2)\nRequirement already satisfied: kiwisolver>=1.0.1 in /shared-libs/python3.9/py/lib/python3.9/site-packages (from matplotlib->catboost->-r requirements.txt (line 2)) (1.3.2)\nRequirement already satisfied: pyparsing>=2.2.1 in /shared-libs/python3.9/py-core/lib/python3.9/site-packages (from matplotlib->catboost->-r requirements.txt (line 2)) (2.4.7)\nRequirement already satisfied: cycler>=0.10 in /shared-libs/python3.9/py/lib/python3.9/site-packages (from matplotlib->catboost->-r requirements.txt (line 2)) (0.11.0)\nRequirement already satisfied: pillow>=6.2.0 in /shared-libs/python3.9/py/lib/python3.9/site-packages (from matplotlib->catboost->-r requirements.txt (line 2)) (8.4.0)\nRequirement already satisfied: tenacity>=6.2.0 in /shared-libs/python3.9/py/lib/python3.9/site-packages (from plotly->catboost->-r requirements.txt (line 2)) (8.0.1)\n\u001b[33mWARNING: You are using pip version 21.2.3; however, version 21.3.1 is available.\nYou should consider upgrading via the '/root/venv/bin/python -m pip install --upgrade pip' command.\u001b[0m\n",
     "output_type": "stream"
    }
   ],
   "execution_count": null
  },
  {
   "cell_type": "code",
   "metadata": {
    "tags": [],
    "cell_id": "00000-844aef7b-9550-4ac4-b310-b3edd713fba6",
    "deepnote_to_be_reexecuted": false,
    "source_hash": "76b914af",
    "execution_start": 1637337973692,
    "execution_millis": 2560,
    "deepnote_cell_type": "code"
   },
   "source": "import json\nimport pandas as pd\nimport numpy as np\nimport math as math\nimport matplotlib.pyplot as plt\nimport seaborn as sns\nimport sklearn.model_selection as model_selection\nimport sklearn.tree as tree\nfrom sklearn.linear_model import LogisticRegression\nfrom sklearn.linear_model import LinearRegression\nimport time\nfrom sklearn.model_selection import GridSearchCV\nfrom sklearn.tree import DecisionTreeRegressor\nimport catboost\n\nfrom sklearn.model_selection import train_test_split",
   "outputs": [],
   "execution_count": null
  },
  {
   "cell_type": "code",
   "metadata": {
    "tags": [],
    "cell_id": "00001-69598aef-f4aa-48e5-8dc4-d99d69a81a39",
    "deepnote_to_be_reexecuted": false,
    "source_hash": "c403fc3d",
    "execution_start": 1637337976262,
    "execution_millis": 126,
    "deepnote_cell_type": "code"
   },
   "source": "data_train = pd.read_csv('Training_clean5.csv')\ndef root_mean_squared_log_error(y_true, y_pred):\n    # Alternatively: sklearn.metrics.mean_squared_log_error(y_true, y_pred) ** 0.5\n    assert (y_true >= 0).all() \n    assert (y_pred >= 0).all()\n    log_error = np.log1p(y_pred) - np.log1p(y_true)  # Note: log1p(x) = log(1 + x)\n    return np.mean(log_error ** 2) ** 0.5\ndata_test = pd.read_csv('Test_clean3.csv')",
   "outputs": [],
   "execution_count": null
  },
  {
   "cell_type": "code",
   "metadata": {
    "tags": [],
    "cell_id": "00003-d8aa1d3f-8fb9-4be4-b5f7-7c894f2b5052",
    "deepnote_to_be_reexecuted": false,
    "source_hash": "1312e91e",
    "execution_start": 1637337976395,
    "execution_millis": 131,
    "deepnote_cell_type": "code"
   },
   "source": "#data_train['floor/stories'] = data_train.floor/data_train.stories\n#data_test['floor/stories'] = data_test.floor/data_test.stories\n\ndata_train['distance'] = np.sqrt((37.6 - data_train['longitude'])**2 + (55.75 - data_train['latitude'])**2)\ndata_test['distance'] = np.sqrt((37.6 - data_test['longitude'])**2 + (55.75 - data_test['latitude'])**2)\n\n#data_train.drop(['floor', 'stories', 'longitude', 'latitude'], axis=1, inplace=True)\ndata_train.drop(['longitude', 'latitude'], axis=1, inplace=True)\n#data_test.drop(['floor', 'stories', 'longitude', 'latitude'], axis=1, inplace=True)\ndata_test.drop(['longitude', 'latitude'], axis=1, inplace=True)\ndata_train.head()\n",
   "outputs": [
    {
     "output_type": "execute_result",
     "execution_count": 4,
     "data": {
      "application/vnd.deepnote.dataframe.v2+json": {
       "row_count": 5,
       "column_count": 32,
       "columns": [
        {
         "name": "id",
         "dtype": "int64",
         "stats": {
          "unique_count": 5,
          "nan_count": 0,
          "min": "0",
          "max": "4",
          "histogram": [
           {
            "bin_start": 0,
            "bin_end": 0.4,
            "count": 1
           },
           {
            "bin_start": 0.4,
            "bin_end": 0.8,
            "count": 0
           },
           {
            "bin_start": 0.8,
            "bin_end": 1.2000000000000002,
            "count": 1
           },
           {
            "bin_start": 1.2000000000000002,
            "bin_end": 1.6,
            "count": 0
           },
           {
            "bin_start": 1.6,
            "bin_end": 2,
            "count": 0
           },
           {
            "bin_start": 2,
            "bin_end": 2.4000000000000004,
            "count": 1
           },
           {
            "bin_start": 2.4000000000000004,
            "bin_end": 2.8000000000000003,
            "count": 0
           },
           {
            "bin_start": 2.8000000000000003,
            "bin_end": 3.2,
            "count": 1
           },
           {
            "bin_start": 3.2,
            "bin_end": 3.6,
            "count": 0
           },
           {
            "bin_start": 3.6,
            "bin_end": 4,
            "count": 1
           }
          ]
         }
        },
        {
         "name": "seller",
         "dtype": "int64",
         "stats": {
          "unique_count": 3,
          "nan_count": 0,
          "min": "0",
          "max": "3",
          "histogram": [
           {
            "bin_start": 0,
            "bin_end": 0.3,
            "count": 2
           },
           {
            "bin_start": 0.3,
            "bin_end": 0.6,
            "count": 0
           },
           {
            "bin_start": 0.6,
            "bin_end": 0.8999999999999999,
            "count": 0
           },
           {
            "bin_start": 0.8999999999999999,
            "bin_end": 1.2,
            "count": 1
           },
           {
            "bin_start": 1.2,
            "bin_end": 1.5,
            "count": 0
           },
           {
            "bin_start": 1.5,
            "bin_end": 1.7999999999999998,
            "count": 0
           },
           {
            "bin_start": 1.7999999999999998,
            "bin_end": 2.1,
            "count": 0
           },
           {
            "bin_start": 2.1,
            "bin_end": 2.4,
            "count": 0
           },
           {
            "bin_start": 2.4,
            "bin_end": 2.6999999999999997,
            "count": 0
           },
           {
            "bin_start": 2.6999999999999997,
            "bin_end": 3,
            "count": 2
           }
          ]
         }
        },
        {
         "name": "price",
         "dtype": "float64",
         "stats": {
          "unique_count": 4,
          "nan_count": 0,
          "min": "7139520.0",
          "max": "13900000.0",
          "histogram": [
           {
            "bin_start": 7139520,
            "bin_end": 7815568,
            "count": 1
           },
           {
            "bin_start": 7815568,
            "bin_end": 8491616,
            "count": 0
           },
           {
            "bin_start": 8491616,
            "bin_end": 9167664,
            "count": 1
           },
           {
            "bin_start": 9167664,
            "bin_end": 9843712,
            "count": 0
           },
           {
            "bin_start": 9843712,
            "bin_end": 10519760,
            "count": 2
           },
           {
            "bin_start": 10519760,
            "bin_end": 11195808,
            "count": 0
           },
           {
            "bin_start": 11195808,
            "bin_end": 11871856,
            "count": 0
           },
           {
            "bin_start": 11871856,
            "bin_end": 12547904,
            "count": 0
           },
           {
            "bin_start": 12547904,
            "bin_end": 13223952,
            "count": 0
           },
           {
            "bin_start": 13223952,
            "bin_end": 13900000,
            "count": 1
           }
          ]
         }
        },
        {
         "name": "area_total",
         "dtype": "float64",
         "stats": {
          "unique_count": 4,
          "nan_count": 0,
          "min": "59.2",
          "max": "88.0",
          "histogram": [
           {
            "bin_start": 59.2,
            "bin_end": 62.080000000000005,
            "count": 1
           },
           {
            "bin_start": 62.080000000000005,
            "bin_end": 64.96000000000001,
            "count": 0
           },
           {
            "bin_start": 64.96000000000001,
            "bin_end": 67.84,
            "count": 0
           },
           {
            "bin_start": 67.84,
            "bin_end": 70.72,
            "count": 0
           },
           {
            "bin_start": 70.72,
            "bin_end": 73.6,
            "count": 0
           },
           {
            "bin_start": 73.6,
            "bin_end": 76.48,
            "count": 0
           },
           {
            "bin_start": 76.48,
            "bin_end": 79.36,
            "count": 2
           },
           {
            "bin_start": 79.36,
            "bin_end": 82.24000000000001,
            "count": 0
           },
           {
            "bin_start": 82.24000000000001,
            "bin_end": 85.12,
            "count": 0
           },
           {
            "bin_start": 85.12,
            "bin_end": 88,
            "count": 2
           }
          ]
         }
        },
        {
         "name": "area_kitchen",
         "dtype": "float64",
         "stats": {
          "unique_count": 5,
          "nan_count": 0,
          "min": "12.5",
          "max": "22.5",
          "histogram": [
           {
            "bin_start": 12.5,
            "bin_end": 13.5,
            "count": 1
           },
           {
            "bin_start": 13.5,
            "bin_end": 14.5,
            "count": 2
           },
           {
            "bin_start": 14.5,
            "bin_end": 15.5,
            "count": 0
           },
           {
            "bin_start": 15.5,
            "bin_end": 16.5,
            "count": 0
           },
           {
            "bin_start": 16.5,
            "bin_end": 17.5,
            "count": 1
           },
           {
            "bin_start": 17.5,
            "bin_end": 18.5,
            "count": 0
           },
           {
            "bin_start": 18.5,
            "bin_end": 19.5,
            "count": 0
           },
           {
            "bin_start": 19.5,
            "bin_end": 20.5,
            "count": 0
           },
           {
            "bin_start": 20.5,
            "bin_end": 21.5,
            "count": 0
           },
           {
            "bin_start": 21.5,
            "bin_end": 22.5,
            "count": 1
           }
          ]
         }
        },
        {
         "name": "area_living",
         "dtype": "float64",
         "stats": {
          "unique_count": 4,
          "nan_count": 0,
          "min": "31.0",
          "max": "48.0",
          "histogram": [
           {
            "bin_start": 31,
            "bin_end": 32.7,
            "count": 1
           },
           {
            "bin_start": 32.7,
            "bin_end": 34.4,
            "count": 0
           },
           {
            "bin_start": 34.4,
            "bin_end": 36.1,
            "count": 1
           },
           {
            "bin_start": 36.1,
            "bin_end": 37.8,
            "count": 0
           },
           {
            "bin_start": 37.8,
            "bin_end": 39.5,
            "count": 0
           },
           {
            "bin_start": 39.5,
            "bin_end": 41.2,
            "count": 1
           },
           {
            "bin_start": 41.2,
            "bin_end": 42.9,
            "count": 0
           },
           {
            "bin_start": 42.9,
            "bin_end": 44.6,
            "count": 0
           },
           {
            "bin_start": 44.6,
            "bin_end": 46.3,
            "count": 0
           },
           {
            "bin_start": 46.3,
            "bin_end": 48,
            "count": 2
           }
          ]
         }
        },
        {
         "name": "floor",
         "dtype": "int64",
         "stats": {
          "unique_count": 4,
          "nan_count": 0,
          "min": "2",
          "max": "18",
          "histogram": [
           {
            "bin_start": 2,
            "bin_end": 3.6,
            "count": 1
           },
           {
            "bin_start": 3.6,
            "bin_end": 5.2,
            "count": 0
           },
           {
            "bin_start": 5.2,
            "bin_end": 6.800000000000001,
            "count": 0
           },
           {
            "bin_start": 6.800000000000001,
            "bin_end": 8.4,
            "count": 1
           },
           {
            "bin_start": 8.4,
            "bin_end": 10,
            "count": 0
           },
           {
            "bin_start": 10,
            "bin_end": 11.600000000000001,
            "count": 0
           },
           {
            "bin_start": 11.600000000000001,
            "bin_end": 13.200000000000001,
            "count": 1
           },
           {
            "bin_start": 13.200000000000001,
            "bin_end": 14.8,
            "count": 0
           },
           {
            "bin_start": 14.8,
            "bin_end": 16.4,
            "count": 0
           },
           {
            "bin_start": 16.4,
            "bin_end": 18,
            "count": 2
           }
          ]
         }
        },
        {
         "name": "rooms",
         "dtype": "int64",
         "stats": {
          "unique_count": 2,
          "nan_count": 0,
          "min": "2",
          "max": "3",
          "histogram": [
           {
            "bin_start": 2,
            "bin_end": 2.1,
            "count": 2
           },
           {
            "bin_start": 2.1,
            "bin_end": 2.2,
            "count": 0
           },
           {
            "bin_start": 2.2,
            "bin_end": 2.3,
            "count": 0
           },
           {
            "bin_start": 2.3,
            "bin_end": 2.4,
            "count": 0
           },
           {
            "bin_start": 2.4,
            "bin_end": 2.5,
            "count": 0
           },
           {
            "bin_start": 2.5,
            "bin_end": 2.6,
            "count": 0
           },
           {
            "bin_start": 2.6,
            "bin_end": 2.7,
            "count": 0
           },
           {
            "bin_start": 2.7,
            "bin_end": 2.8,
            "count": 0
           },
           {
            "bin_start": 2.8,
            "bin_end": 2.9,
            "count": 0
           },
           {
            "bin_start": 2.9,
            "bin_end": 3,
            "count": 3
           }
          ]
         }
        },
        {
         "name": "layout",
         "dtype": "int64",
         "stats": {
          "unique_count": 1,
          "nan_count": 0,
          "min": "1",
          "max": "1",
          "histogram": [
           {
            "bin_start": 0.5,
            "bin_end": 0.6,
            "count": 0
           },
           {
            "bin_start": 0.6,
            "bin_end": 0.7,
            "count": 0
           },
           {
            "bin_start": 0.7,
            "bin_end": 0.8,
            "count": 0
           },
           {
            "bin_start": 0.8,
            "bin_end": 0.9,
            "count": 0
           },
           {
            "bin_start": 0.9,
            "bin_end": 1,
            "count": 0
           },
           {
            "bin_start": 1,
            "bin_end": 1.1,
            "count": 5
           },
           {
            "bin_start": 1.1,
            "bin_end": 1.2000000000000002,
            "count": 0
           },
           {
            "bin_start": 1.2000000000000002,
            "bin_end": 1.3,
            "count": 0
           },
           {
            "bin_start": 1.3,
            "bin_end": 1.4,
            "count": 0
           },
           {
            "bin_start": 1.4,
            "bin_end": 1.5,
            "count": 0
           }
          ]
         }
        },
        {
         "name": "ceiling",
         "dtype": "int64",
         "stats": {
          "unique_count": 1,
          "nan_count": 0,
          "min": "3",
          "max": "3",
          "histogram": [
           {
            "bin_start": 2.5,
            "bin_end": 2.6,
            "count": 0
           },
           {
            "bin_start": 2.6,
            "bin_end": 2.7,
            "count": 0
           },
           {
            "bin_start": 2.7,
            "bin_end": 2.8,
            "count": 0
           },
           {
            "bin_start": 2.8,
            "bin_end": 2.9,
            "count": 0
           },
           {
            "bin_start": 2.9,
            "bin_end": 3,
            "count": 0
           },
           {
            "bin_start": 3,
            "bin_end": 3.1,
            "count": 5
           },
           {
            "bin_start": 3.1,
            "bin_end": 3.2,
            "count": 0
           },
           {
            "bin_start": 3.2,
            "bin_end": 3.3,
            "count": 0
           },
           {
            "bin_start": 3.3,
            "bin_end": 3.4,
            "count": 0
           },
           {
            "bin_start": 3.4,
            "bin_end": 3.5,
            "count": 0
           }
          ]
         }
        },
        {
         "name": "bathrooms_shared",
         "dtype": "int64",
         "stats": {
          "unique_count": 3,
          "nan_count": 0,
          "min": "0",
          "max": "2",
          "histogram": [
           {
            "bin_start": 0,
            "bin_end": 0.2,
            "count": 3
           },
           {
            "bin_start": 0.2,
            "bin_end": 0.4,
            "count": 0
           },
           {
            "bin_start": 0.4,
            "bin_end": 0.6000000000000001,
            "count": 0
           },
           {
            "bin_start": 0.6000000000000001,
            "bin_end": 0.8,
            "count": 0
           },
           {
            "bin_start": 0.8,
            "bin_end": 1,
            "count": 0
           },
           {
            "bin_start": 1,
            "bin_end": 1.2000000000000002,
            "count": 1
           },
           {
            "bin_start": 1.2000000000000002,
            "bin_end": 1.4000000000000001,
            "count": 0
           },
           {
            "bin_start": 1.4000000000000001,
            "bin_end": 1.6,
            "count": 0
           },
           {
            "bin_start": 1.6,
            "bin_end": 1.8,
            "count": 0
           },
           {
            "bin_start": 1.8,
            "bin_end": 2,
            "count": 1
           }
          ]
         }
        },
        {
         "name": "bathrooms_private",
         "dtype": "int64",
         "stats": {
          "unique_count": 2,
          "nan_count": 0,
          "min": "0",
          "max": "2",
          "histogram": [
           {
            "bin_start": 0,
            "bin_end": 0.2,
            "count": 2
           },
           {
            "bin_start": 0.2,
            "bin_end": 0.4,
            "count": 0
           },
           {
            "bin_start": 0.4,
            "bin_end": 0.6000000000000001,
            "count": 0
           },
           {
            "bin_start": 0.6000000000000001,
            "bin_end": 0.8,
            "count": 0
           },
           {
            "bin_start": 0.8,
            "bin_end": 1,
            "count": 0
           },
           {
            "bin_start": 1,
            "bin_end": 1.2000000000000002,
            "count": 0
           },
           {
            "bin_start": 1.2000000000000002,
            "bin_end": 1.4000000000000001,
            "count": 0
           },
           {
            "bin_start": 1.4000000000000001,
            "bin_end": 1.6,
            "count": 0
           },
           {
            "bin_start": 1.6,
            "bin_end": 1.8,
            "count": 0
           },
           {
            "bin_start": 1.8,
            "bin_end": 2,
            "count": 3
           }
          ]
         }
        },
        {
         "name": "windows_court",
         "dtype": "int64",
         "stats": {
          "unique_count": 2,
          "nan_count": 0,
          "min": "0",
          "max": "1",
          "histogram": [
           {
            "bin_start": 0,
            "bin_end": 0.1,
            "count": 1
           },
           {
            "bin_start": 0.1,
            "bin_end": 0.2,
            "count": 0
           },
           {
            "bin_start": 0.2,
            "bin_end": 0.30000000000000004,
            "count": 0
           },
           {
            "bin_start": 0.30000000000000004,
            "bin_end": 0.4,
            "count": 0
           },
           {
            "bin_start": 0.4,
            "bin_end": 0.5,
            "count": 0
           },
           {
            "bin_start": 0.5,
            "bin_end": 0.6000000000000001,
            "count": 0
           },
           {
            "bin_start": 0.6000000000000001,
            "bin_end": 0.7000000000000001,
            "count": 0
           },
           {
            "bin_start": 0.7000000000000001,
            "bin_end": 0.8,
            "count": 0
           },
           {
            "bin_start": 0.8,
            "bin_end": 0.9,
            "count": 0
           },
           {
            "bin_start": 0.9,
            "bin_end": 1,
            "count": 4
           }
          ]
         }
        },
        {
         "name": "windows_street",
         "dtype": "int64",
         "stats": {
          "unique_count": 1,
          "nan_count": 0,
          "min": "1",
          "max": "1",
          "histogram": [
           {
            "bin_start": 0.5,
            "bin_end": 0.6,
            "count": 0
           },
           {
            "bin_start": 0.6,
            "bin_end": 0.7,
            "count": 0
           },
           {
            "bin_start": 0.7,
            "bin_end": 0.8,
            "count": 0
           },
           {
            "bin_start": 0.8,
            "bin_end": 0.9,
            "count": 0
           },
           {
            "bin_start": 0.9,
            "bin_end": 1,
            "count": 0
           },
           {
            "bin_start": 1,
            "bin_end": 1.1,
            "count": 5
           },
           {
            "bin_start": 1.1,
            "bin_end": 1.2000000000000002,
            "count": 0
           },
           {
            "bin_start": 1.2000000000000002,
            "bin_end": 1.3,
            "count": 0
           },
           {
            "bin_start": 1.3,
            "bin_end": 1.4,
            "count": 0
           },
           {
            "bin_start": 1.4,
            "bin_end": 1.5,
            "count": 0
           }
          ]
         }
        },
        {
         "name": "balconies",
         "dtype": "int64",
         "stats": {
          "unique_count": 2,
          "nan_count": 0,
          "min": "0",
          "max": "1",
          "histogram": [
           {
            "bin_start": 0,
            "bin_end": 0.1,
            "count": 2
           },
           {
            "bin_start": 0.1,
            "bin_end": 0.2,
            "count": 0
           },
           {
            "bin_start": 0.2,
            "bin_end": 0.30000000000000004,
            "count": 0
           },
           {
            "bin_start": 0.30000000000000004,
            "bin_end": 0.4,
            "count": 0
           },
           {
            "bin_start": 0.4,
            "bin_end": 0.5,
            "count": 0
           },
           {
            "bin_start": 0.5,
            "bin_end": 0.6000000000000001,
            "count": 0
           },
           {
            "bin_start": 0.6000000000000001,
            "bin_end": 0.7000000000000001,
            "count": 0
           },
           {
            "bin_start": 0.7000000000000001,
            "bin_end": 0.8,
            "count": 0
           },
           {
            "bin_start": 0.8,
            "bin_end": 0.9,
            "count": 0
           },
           {
            "bin_start": 0.9,
            "bin_end": 1,
            "count": 3
           }
          ]
         }
        },
        {
         "name": "loggias",
         "dtype": "int64",
         "stats": {
          "unique_count": 2,
          "nan_count": 0,
          "min": "0",
          "max": "1",
          "histogram": [
           {
            "bin_start": 0,
            "bin_end": 0.1,
            "count": 2
           },
           {
            "bin_start": 0.1,
            "bin_end": 0.2,
            "count": 0
           },
           {
            "bin_start": 0.2,
            "bin_end": 0.30000000000000004,
            "count": 0
           },
           {
            "bin_start": 0.30000000000000004,
            "bin_end": 0.4,
            "count": 0
           },
           {
            "bin_start": 0.4,
            "bin_end": 0.5,
            "count": 0
           },
           {
            "bin_start": 0.5,
            "bin_end": 0.6000000000000001,
            "count": 0
           },
           {
            "bin_start": 0.6000000000000001,
            "bin_end": 0.7000000000000001,
            "count": 0
           },
           {
            "bin_start": 0.7000000000000001,
            "bin_end": 0.8,
            "count": 0
           },
           {
            "bin_start": 0.8,
            "bin_end": 0.9,
            "count": 0
           },
           {
            "bin_start": 0.9,
            "bin_end": 1,
            "count": 3
           }
          ]
         }
        },
        {
         "name": "condition",
         "dtype": "int64",
         "stats": {
          "unique_count": 3,
          "nan_count": 0,
          "min": "1",
          "max": "3",
          "histogram": [
           {
            "bin_start": 1,
            "bin_end": 1.2,
            "count": 2
           },
           {
            "bin_start": 1.2,
            "bin_end": 1.4,
            "count": 0
           },
           {
            "bin_start": 1.4,
            "bin_end": 1.6,
            "count": 0
           },
           {
            "bin_start": 1.6,
            "bin_end": 1.8,
            "count": 0
           },
           {
            "bin_start": 1.8,
            "bin_end": 2,
            "count": 0
           },
           {
            "bin_start": 2,
            "bin_end": 2.2,
            "count": 1
           },
           {
            "bin_start": 2.2,
            "bin_end": 2.4000000000000004,
            "count": 0
           },
           {
            "bin_start": 2.4000000000000004,
            "bin_end": 2.6,
            "count": 0
           },
           {
            "bin_start": 2.6,
            "bin_end": 2.8,
            "count": 0
           },
           {
            "bin_start": 2.8,
            "bin_end": 3,
            "count": 2
           }
          ]
         }
        },
        {
         "name": "phones",
         "dtype": "int64",
         "stats": {
          "unique_count": 1,
          "nan_count": 0,
          "min": "1",
          "max": "1",
          "histogram": [
           {
            "bin_start": 0.5,
            "bin_end": 0.6,
            "count": 0
           },
           {
            "bin_start": 0.6,
            "bin_end": 0.7,
            "count": 0
           },
           {
            "bin_start": 0.7,
            "bin_end": 0.8,
            "count": 0
           },
           {
            "bin_start": 0.8,
            "bin_end": 0.9,
            "count": 0
           },
           {
            "bin_start": 0.9,
            "bin_end": 1,
            "count": 0
           },
           {
            "bin_start": 1,
            "bin_end": 1.1,
            "count": 5
           },
           {
            "bin_start": 1.1,
            "bin_end": 1.2000000000000002,
            "count": 0
           },
           {
            "bin_start": 1.2000000000000002,
            "bin_end": 1.3,
            "count": 0
           },
           {
            "bin_start": 1.3,
            "bin_end": 1.4,
            "count": 0
           },
           {
            "bin_start": 1.4,
            "bin_end": 1.5,
            "count": 0
           }
          ]
         }
        },
        {
         "name": "building_id",
         "dtype": "int64",
         "stats": {
          "unique_count": 4,
          "nan_count": 0,
          "min": "1893",
          "max": "6604",
          "histogram": [
           {
            "bin_start": 1893,
            "bin_end": 2364.1,
            "count": 2
           },
           {
            "bin_start": 2364.1,
            "bin_end": 2835.2,
            "count": 0
           },
           {
            "bin_start": 2835.2,
            "bin_end": 3306.3,
            "count": 0
           },
           {
            "bin_start": 3306.3,
            "bin_end": 3777.4,
            "count": 0
           },
           {
            "bin_start": 3777.4,
            "bin_end": 4248.5,
            "count": 1
           },
           {
            "bin_start": 4248.5,
            "bin_end": 4719.6,
            "count": 0
           },
           {
            "bin_start": 4719.6,
            "bin_end": 5190.700000000001,
            "count": 1
           },
           {
            "bin_start": 5190.700000000001,
            "bin_end": 5661.8,
            "count": 0
           },
           {
            "bin_start": 5661.8,
            "bin_end": 6132.900000000001,
            "count": 0
           },
           {
            "bin_start": 6132.900000000001,
            "bin_end": 6604,
            "count": 1
           }
          ]
         }
        },
        {
         "name": "new",
         "dtype": "int64",
         "stats": {
          "unique_count": 2,
          "nan_count": 0,
          "min": "0",
          "max": "1",
          "histogram": [
           {
            "bin_start": 0,
            "bin_end": 0.1,
            "count": 3
           },
           {
            "bin_start": 0.1,
            "bin_end": 0.2,
            "count": 0
           },
           {
            "bin_start": 0.2,
            "bin_end": 0.30000000000000004,
            "count": 0
           },
           {
            "bin_start": 0.30000000000000004,
            "bin_end": 0.4,
            "count": 0
           },
           {
            "bin_start": 0.4,
            "bin_end": 0.5,
            "count": 0
           },
           {
            "bin_start": 0.5,
            "bin_end": 0.6000000000000001,
            "count": 0
           },
           {
            "bin_start": 0.6000000000000001,
            "bin_end": 0.7000000000000001,
            "count": 0
           },
           {
            "bin_start": 0.7000000000000001,
            "bin_end": 0.8,
            "count": 0
           },
           {
            "bin_start": 0.8,
            "bin_end": 0.9,
            "count": 0
           },
           {
            "bin_start": 0.9,
            "bin_end": 1,
            "count": 2
           }
          ]
         }
        },
        {
         "name": "district",
         "dtype": "int64",
         "stats": {
          "unique_count": 3,
          "nan_count": 0,
          "min": "2",
          "max": "11",
          "histogram": [
           {
            "bin_start": 2,
            "bin_end": 2.9,
            "count": 2
           },
           {
            "bin_start": 2.9,
            "bin_end": 3.8,
            "count": 0
           },
           {
            "bin_start": 3.8,
            "bin_end": 4.7,
            "count": 0
           },
           {
            "bin_start": 4.7,
            "bin_end": 5.6,
            "count": 0
           },
           {
            "bin_start": 5.6,
            "bin_end": 6.5,
            "count": 1
           },
           {
            "bin_start": 6.5,
            "bin_end": 7.4,
            "count": 0
           },
           {
            "bin_start": 7.4,
            "bin_end": 8.3,
            "count": 0
           },
           {
            "bin_start": 8.3,
            "bin_end": 9.2,
            "count": 0
           },
           {
            "bin_start": 9.2,
            "bin_end": 10.1,
            "count": 0
           },
           {
            "bin_start": 10.1,
            "bin_end": 11,
            "count": 2
           }
          ]
         }
        },
        {
         "name": "constructed",
         "dtype": "int64",
         "stats": {
          "unique_count": 3,
          "nan_count": 0,
          "min": "2010",
          "max": "2021",
          "histogram": [
           {
            "bin_start": 2010,
            "bin_end": 2011.1,
            "count": 2
           },
           {
            "bin_start": 2011.1,
            "bin_end": 2012.2,
            "count": 0
           },
           {
            "bin_start": 2012.2,
            "bin_end": 2013.3,
            "count": 0
           },
           {
            "bin_start": 2013.3,
            "bin_end": 2014.4,
            "count": 0
           },
           {
            "bin_start": 2014.4,
            "bin_end": 2015.5,
            "count": 0
           },
           {
            "bin_start": 2015.5,
            "bin_end": 2016.6,
            "count": 0
           },
           {
            "bin_start": 2016.6,
            "bin_end": 2017.7,
            "count": 1
           },
           {
            "bin_start": 2017.7,
            "bin_end": 2018.8,
            "count": 0
           },
           {
            "bin_start": 2018.8,
            "bin_end": 2019.9,
            "count": 0
           },
           {
            "bin_start": 2019.9,
            "bin_end": 2021,
            "count": 2
           }
          ]
         }
        },
        {
         "name": "material",
         "dtype": "int64",
         "stats": {
          "unique_count": 2,
          "nan_count": 0,
          "min": "2",
          "max": "3",
          "histogram": [
           {
            "bin_start": 2,
            "bin_end": 2.1,
            "count": 1
           },
           {
            "bin_start": 2.1,
            "bin_end": 2.2,
            "count": 0
           },
           {
            "bin_start": 2.2,
            "bin_end": 2.3,
            "count": 0
           },
           {
            "bin_start": 2.3,
            "bin_end": 2.4,
            "count": 0
           },
           {
            "bin_start": 2.4,
            "bin_end": 2.5,
            "count": 0
           },
           {
            "bin_start": 2.5,
            "bin_end": 2.6,
            "count": 0
           },
           {
            "bin_start": 2.6,
            "bin_end": 2.7,
            "count": 0
           },
           {
            "bin_start": 2.7,
            "bin_end": 2.8,
            "count": 0
           },
           {
            "bin_start": 2.8,
            "bin_end": 2.9,
            "count": 0
           },
           {
            "bin_start": 2.9,
            "bin_end": 3,
            "count": 4
           }
          ]
         }
        },
        {
         "name": "stories",
         "dtype": "int64",
         "stats": {
          "unique_count": 3,
          "nan_count": 0,
          "min": "9",
          "max": "25",
          "histogram": [
           {
            "bin_start": 9,
            "bin_end": 10.6,
            "count": 1
           },
           {
            "bin_start": 10.6,
            "bin_end": 12.2,
            "count": 0
           },
           {
            "bin_start": 12.2,
            "bin_end": 13.8,
            "count": 0
           },
           {
            "bin_start": 13.8,
            "bin_end": 15.4,
            "count": 2
           },
           {
            "bin_start": 15.4,
            "bin_end": 17,
            "count": 0
           },
           {
            "bin_start": 17,
            "bin_end": 18.6,
            "count": 0
           },
           {
            "bin_start": 18.6,
            "bin_end": 20.200000000000003,
            "count": 0
           },
           {
            "bin_start": 20.200000000000003,
            "bin_end": 21.8,
            "count": 0
           },
           {
            "bin_start": 21.8,
            "bin_end": 23.4,
            "count": 0
           },
           {
            "bin_start": 23.4,
            "bin_end": 25,
            "count": 2
           }
          ]
         }
        },
        {
         "name": "elevator_without",
         "dtype": "int64",
         "stats": {
          "unique_count": 1,
          "nan_count": 0,
          "min": "0",
          "max": "0",
          "histogram": [
           {
            "bin_start": -0.5,
            "bin_end": -0.4,
            "count": 0
           },
           {
            "bin_start": -0.4,
            "bin_end": -0.3,
            "count": 0
           },
           {
            "bin_start": -0.3,
            "bin_end": -0.19999999999999996,
            "count": 0
           },
           {
            "bin_start": -0.19999999999999996,
            "bin_end": -0.09999999999999998,
            "count": 0
           },
           {
            "bin_start": -0.09999999999999998,
            "bin_end": 0,
            "count": 0
           },
           {
            "bin_start": 0,
            "bin_end": 0.10000000000000009,
            "count": 5
           },
           {
            "bin_start": 0.10000000000000009,
            "bin_end": 0.20000000000000007,
            "count": 0
           },
           {
            "bin_start": 0.20000000000000007,
            "bin_end": 0.30000000000000004,
            "count": 0
           },
           {
            "bin_start": 0.30000000000000004,
            "bin_end": 0.4,
            "count": 0
           },
           {
            "bin_start": 0.4,
            "bin_end": 0.5,
            "count": 0
           }
          ]
         }
        },
        {
         "name": "elevator_passenger",
         "dtype": "int64",
         "stats": {
          "unique_count": 1,
          "nan_count": 0,
          "min": "1",
          "max": "1",
          "histogram": [
           {
            "bin_start": 0.5,
            "bin_end": 0.6,
            "count": 0
           },
           {
            "bin_start": 0.6,
            "bin_end": 0.7,
            "count": 0
           },
           {
            "bin_start": 0.7,
            "bin_end": 0.8,
            "count": 0
           },
           {
            "bin_start": 0.8,
            "bin_end": 0.9,
            "count": 0
           },
           {
            "bin_start": 0.9,
            "bin_end": 1,
            "count": 0
           },
           {
            "bin_start": 1,
            "bin_end": 1.1,
            "count": 5
           },
           {
            "bin_start": 1.1,
            "bin_end": 1.2000000000000002,
            "count": 0
           },
           {
            "bin_start": 1.2000000000000002,
            "bin_end": 1.3,
            "count": 0
           },
           {
            "bin_start": 1.3,
            "bin_end": 1.4,
            "count": 0
           },
           {
            "bin_start": 1.4,
            "bin_end": 1.5,
            "count": 0
           }
          ]
         }
        },
        {
         "name": "elevator_service",
         "dtype": "int64",
         "stats": {
          "unique_count": 1,
          "nan_count": 0,
          "min": "1",
          "max": "1",
          "histogram": [
           {
            "bin_start": 0.5,
            "bin_end": 0.6,
            "count": 0
           },
           {
            "bin_start": 0.6,
            "bin_end": 0.7,
            "count": 0
           },
           {
            "bin_start": 0.7,
            "bin_end": 0.8,
            "count": 0
           },
           {
            "bin_start": 0.8,
            "bin_end": 0.9,
            "count": 0
           },
           {
            "bin_start": 0.9,
            "bin_end": 1,
            "count": 0
           },
           {
            "bin_start": 1,
            "bin_end": 1.1,
            "count": 5
           },
           {
            "bin_start": 1.1,
            "bin_end": 1.2000000000000002,
            "count": 0
           },
           {
            "bin_start": 1.2000000000000002,
            "bin_end": 1.3,
            "count": 0
           },
           {
            "bin_start": 1.3,
            "bin_end": 1.4,
            "count": 0
           },
           {
            "bin_start": 1.4,
            "bin_end": 1.5,
            "count": 0
           }
          ]
         }
        },
        {
         "name": "parking",
         "dtype": "int64",
         "stats": {
          "unique_count": 1,
          "nan_count": 0,
          "min": "1",
          "max": "1",
          "histogram": [
           {
            "bin_start": 0.5,
            "bin_end": 0.6,
            "count": 0
           },
           {
            "bin_start": 0.6,
            "bin_end": 0.7,
            "count": 0
           },
           {
            "bin_start": 0.7,
            "bin_end": 0.8,
            "count": 0
           },
           {
            "bin_start": 0.8,
            "bin_end": 0.9,
            "count": 0
           },
           {
            "bin_start": 0.9,
            "bin_end": 1,
            "count": 0
           },
           {
            "bin_start": 1,
            "bin_end": 1.1,
            "count": 5
           },
           {
            "bin_start": 1.1,
            "bin_end": 1.2000000000000002,
            "count": 0
           },
           {
            "bin_start": 1.2000000000000002,
            "bin_end": 1.3,
            "count": 0
           },
           {
            "bin_start": 1.3,
            "bin_end": 1.4,
            "count": 0
           },
           {
            "bin_start": 1.4,
            "bin_end": 1.5,
            "count": 0
           }
          ]
         }
        },
        {
         "name": "garbage_chute",
         "dtype": "int64",
         "stats": {
          "unique_count": 2,
          "nan_count": 0,
          "min": "0",
          "max": "1",
          "histogram": [
           {
            "bin_start": 0,
            "bin_end": 0.1,
            "count": 2
           },
           {
            "bin_start": 0.1,
            "bin_end": 0.2,
            "count": 0
           },
           {
            "bin_start": 0.2,
            "bin_end": 0.30000000000000004,
            "count": 0
           },
           {
            "bin_start": 0.30000000000000004,
            "bin_end": 0.4,
            "count": 0
           },
           {
            "bin_start": 0.4,
            "bin_end": 0.5,
            "count": 0
           },
           {
            "bin_start": 0.5,
            "bin_end": 0.6000000000000001,
            "count": 0
           },
           {
            "bin_start": 0.6000000000000001,
            "bin_end": 0.7000000000000001,
            "count": 0
           },
           {
            "bin_start": 0.7000000000000001,
            "bin_end": 0.8,
            "count": 0
           },
           {
            "bin_start": 0.8,
            "bin_end": 0.9,
            "count": 0
           },
           {
            "bin_start": 0.9,
            "bin_end": 1,
            "count": 3
           }
          ]
         }
        },
        {
         "name": "heating",
         "dtype": "int64",
         "stats": {
          "unique_count": 1,
          "nan_count": 0,
          "min": "0",
          "max": "0",
          "histogram": [
           {
            "bin_start": -0.5,
            "bin_end": -0.4,
            "count": 0
           },
           {
            "bin_start": -0.4,
            "bin_end": -0.3,
            "count": 0
           },
           {
            "bin_start": -0.3,
            "bin_end": -0.19999999999999996,
            "count": 0
           },
           {
            "bin_start": -0.19999999999999996,
            "bin_end": -0.09999999999999998,
            "count": 0
           },
           {
            "bin_start": -0.09999999999999998,
            "bin_end": 0,
            "count": 0
           },
           {
            "bin_start": 0,
            "bin_end": 0.10000000000000009,
            "count": 5
           },
           {
            "bin_start": 0.10000000000000009,
            "bin_end": 0.20000000000000007,
            "count": 0
           },
           {
            "bin_start": 0.20000000000000007,
            "bin_end": 0.30000000000000004,
            "count": 0
           },
           {
            "bin_start": 0.30000000000000004,
            "bin_end": 0.4,
            "count": 0
           },
           {
            "bin_start": 0.4,
            "bin_end": 0.5,
            "count": 0
           }
          ]
         }
        },
        {
         "name": "street",
         "dtype": "object",
         "stats": {
          "unique_count": 4,
          "nan_count": 0,
          "categories": [
           {
            "name": "улица Радужная",
            "count": 2
           },
           {
            "name": "Бунинские Луга ЖК",
            "count": 1
           },
           {
            "name": "2 others",
            "count": 2
           }
          ]
         }
        },
        {
         "name": "distance",
         "dtype": "float64",
         "stats": {
          "unique_count": 4,
          "nan_count": 0,
          "min": "0.12118261272146193",
          "max": "0.2393483510304599",
          "histogram": [
           {
            "bin_start": 0.12118261272146193,
            "bin_end": 0.13299918655236173,
            "count": 3
           },
           {
            "bin_start": 0.13299918655236173,
            "bin_end": 0.14481576038326152,
            "count": 0
           },
           {
            "bin_start": 0.14481576038326152,
            "bin_end": 0.1566323342141613,
            "count": 0
           },
           {
            "bin_start": 0.1566323342141613,
            "bin_end": 0.16844890804506113,
            "count": 0
           },
           {
            "bin_start": 0.16844890804506113,
            "bin_end": 0.18026548187596092,
            "count": 0
           },
           {
            "bin_start": 0.18026548187596092,
            "bin_end": 0.1920820557068607,
            "count": 0
           },
           {
            "bin_start": 0.1920820557068607,
            "bin_end": 0.2038986295377605,
            "count": 0
           },
           {
            "bin_start": 0.2038986295377605,
            "bin_end": 0.2157152033686603,
            "count": 0
           },
           {
            "bin_start": 0.2157152033686603,
            "bin_end": 0.22753177719956008,
            "count": 1
           },
           {
            "bin_start": 0.22753177719956008,
            "bin_end": 0.2393483510304599,
            "count": 1
           }
          ]
         }
        },
        {
         "name": "_deepnote_index_column",
         "dtype": "int64"
        }
       ],
       "rows_top": [
        {
         "id": 0,
         "seller": 3,
         "price": 7139520,
         "area_total": 59.2,
         "area_kitchen": 12.5,
         "area_living": 31,
         "floor": 2,
         "rooms": 2,
         "layout": 1,
         "ceiling": 3,
         "bathrooms_shared": 0,
         "bathrooms_private": 2,
         "windows_court": 0,
         "windows_street": 1,
         "balconies": 1,
         "loggias": 1,
         "condition": 1,
         "phones": 1,
         "building_id": 4076,
         "new": 1,
         "district": 11,
         "constructed": 2021,
         "material": 3,
         "stories": 9,
         "elevator_without": 0,
         "elevator_passenger": 1,
         "elevator_service": 1,
         "parking": 1,
         "garbage_chute": 1,
         "heating": 0,
         "street": "Бунинские Луга ЖК",
         "distance": 0.2393483510304599,
         "_deepnote_index_column": 0
        },
        {
         "id": 1,
         "seller": 0,
         "price": 10500000,
         "area_total": 88,
         "area_kitchen": 14.2,
         "area_living": 48,
         "floor": 18,
         "rooms": 3,
         "layout": 1,
         "ceiling": 3,
         "bathrooms_shared": 2,
         "bathrooms_private": 0,
         "windows_court": 1,
         "windows_street": 1,
         "balconies": 1,
         "loggias": 0,
         "condition": 3,
         "phones": 1,
         "building_id": 1893,
         "new": 0,
         "district": 2,
         "constructed": 2010,
         "material": 3,
         "stories": 25,
         "elevator_without": 0,
         "elevator_passenger": 1,
         "elevator_service": 1,
         "parking": 1,
         "garbage_chute": 1,
         "heating": 0,
         "street": "улица Радужная",
         "distance": 0.1297131686953954,
         "_deepnote_index_column": 1
        },
        {
         "id": 2,
         "seller": 3,
         "price": 9019650,
         "area_total": 78.5,
         "area_kitchen": 22.5,
         "area_living": 40.8,
         "floor": 12,
         "rooms": 3,
         "layout": 1,
         "ceiling": 3,
         "bathrooms_shared": 0,
         "bathrooms_private": 2,
         "windows_court": 1,
         "windows_street": 1,
         "balconies": 1,
         "loggias": 0,
         "condition": 1,
         "phones": 1,
         "building_id": 5176,
         "new": 1,
         "district": 6,
         "constructed": 2021,
         "material": 3,
         "stories": 15,
         "elevator_without": 0,
         "elevator_passenger": 1,
         "elevator_service": 1,
         "parking": 1,
         "garbage_chute": 0,
         "heating": 0,
         "street": "Саларьево Парк ЖК",
         "distance": 0.12118261272146193,
         "_deepnote_index_column": 2
        },
        {
         "id": 3,
         "seller": 0,
         "price": 10500000,
         "area_total": 88,
         "area_kitchen": 14,
         "area_living": 48,
         "floor": 18,
         "rooms": 3,
         "layout": 1,
         "ceiling": 3,
         "bathrooms_shared": 0,
         "bathrooms_private": 2,
         "windows_court": 1,
         "windows_street": 1,
         "balconies": 0,
         "loggias": 1,
         "condition": 2,
         "phones": 1,
         "building_id": 1893,
         "new": 0,
         "district": 2,
         "constructed": 2010,
         "material": 3,
         "stories": 25,
         "elevator_without": 0,
         "elevator_passenger": 1,
         "elevator_service": 1,
         "parking": 1,
         "garbage_chute": 1,
         "heating": 0,
         "street": "улица Радужная",
         "distance": 0.1297131686953954,
         "_deepnote_index_column": 3
        },
        {
         "id": 4,
         "seller": 1,
         "price": 13900000,
         "area_total": 78,
         "area_kitchen": 17,
         "area_living": 35,
         "floor": 7,
         "rooms": 2,
         "layout": 1,
         "ceiling": 3,
         "bathrooms_shared": 1,
         "bathrooms_private": 0,
         "windows_court": 1,
         "windows_street": 1,
         "balconies": 0,
         "loggias": 1,
         "condition": 3,
         "phones": 1,
         "building_id": 6604,
         "new": 0,
         "district": 11,
         "constructed": 2017,
         "material": 2,
         "stories": 15,
         "elevator_without": 0,
         "elevator_passenger": 1,
         "elevator_service": 1,
         "parking": 1,
         "garbage_chute": 0,
         "heating": 0,
         "street": "улица Сервантеса",
         "distance": 0.21776153027796374,
         "_deepnote_index_column": 4
        }
       ],
       "rows_bottom": null
      },
      "text/plain": "   id  seller       price  area_total  area_kitchen  area_living  floor  \\\n0   0       3   7139520.0        59.2          12.5         31.0      2   \n1   1       0  10500000.0        88.0          14.2         48.0     18   \n2   2       3   9019650.0        78.5          22.5         40.8     12   \n3   3       0  10500000.0        88.0          14.0         48.0     18   \n4   4       1  13900000.0        78.0          17.0         35.0      7   \n\n   rooms  layout  ceiling  ...  material  stories  elevator_without  \\\n0      2       1        3  ...         3        9                 0   \n1      3       1        3  ...         3       25                 0   \n2      3       1        3  ...         3       15                 0   \n3      3       1        3  ...         3       25                 0   \n4      2       1        3  ...         2       15                 0   \n\n   elevator_passenger  elevator_service  parking  garbage_chute  heating  \\\n0                   1                 1        1              1        0   \n1                   1                 1        1              1        0   \n2                   1                 1        1              0        0   \n3                   1                 1        1              1        0   \n4                   1                 1        1              0        0   \n\n              street  distance  \n0  Бунинские Луга ЖК  0.239348  \n1     улица Радужная  0.129713  \n2  Саларьево Парк ЖК  0.121183  \n3     улица Радужная  0.129713  \n4   улица Сервантеса  0.217762  \n\n[5 rows x 32 columns]",
      "text/html": "<div>\n<style scoped>\n    .dataframe tbody tr th:only-of-type {\n        vertical-align: middle;\n    }\n\n    .dataframe tbody tr th {\n        vertical-align: top;\n    }\n\n    .dataframe thead th {\n        text-align: right;\n    }\n</style>\n<table border=\"1\" class=\"dataframe\">\n  <thead>\n    <tr style=\"text-align: right;\">\n      <th></th>\n      <th>id</th>\n      <th>seller</th>\n      <th>price</th>\n      <th>area_total</th>\n      <th>area_kitchen</th>\n      <th>area_living</th>\n      <th>floor</th>\n      <th>rooms</th>\n      <th>layout</th>\n      <th>ceiling</th>\n      <th>...</th>\n      <th>material</th>\n      <th>stories</th>\n      <th>elevator_without</th>\n      <th>elevator_passenger</th>\n      <th>elevator_service</th>\n      <th>parking</th>\n      <th>garbage_chute</th>\n      <th>heating</th>\n      <th>street</th>\n      <th>distance</th>\n    </tr>\n  </thead>\n  <tbody>\n    <tr>\n      <th>0</th>\n      <td>0</td>\n      <td>3</td>\n      <td>7139520.0</td>\n      <td>59.2</td>\n      <td>12.5</td>\n      <td>31.0</td>\n      <td>2</td>\n      <td>2</td>\n      <td>1</td>\n      <td>3</td>\n      <td>...</td>\n      <td>3</td>\n      <td>9</td>\n      <td>0</td>\n      <td>1</td>\n      <td>1</td>\n      <td>1</td>\n      <td>1</td>\n      <td>0</td>\n      <td>Бунинские Луга ЖК</td>\n      <td>0.239348</td>\n    </tr>\n    <tr>\n      <th>1</th>\n      <td>1</td>\n      <td>0</td>\n      <td>10500000.0</td>\n      <td>88.0</td>\n      <td>14.2</td>\n      <td>48.0</td>\n      <td>18</td>\n      <td>3</td>\n      <td>1</td>\n      <td>3</td>\n      <td>...</td>\n      <td>3</td>\n      <td>25</td>\n      <td>0</td>\n      <td>1</td>\n      <td>1</td>\n      <td>1</td>\n      <td>1</td>\n      <td>0</td>\n      <td>улица Радужная</td>\n      <td>0.129713</td>\n    </tr>\n    <tr>\n      <th>2</th>\n      <td>2</td>\n      <td>3</td>\n      <td>9019650.0</td>\n      <td>78.5</td>\n      <td>22.5</td>\n      <td>40.8</td>\n      <td>12</td>\n      <td>3</td>\n      <td>1</td>\n      <td>3</td>\n      <td>...</td>\n      <td>3</td>\n      <td>15</td>\n      <td>0</td>\n      <td>1</td>\n      <td>1</td>\n      <td>1</td>\n      <td>0</td>\n      <td>0</td>\n      <td>Саларьево Парк ЖК</td>\n      <td>0.121183</td>\n    </tr>\n    <tr>\n      <th>3</th>\n      <td>3</td>\n      <td>0</td>\n      <td>10500000.0</td>\n      <td>88.0</td>\n      <td>14.0</td>\n      <td>48.0</td>\n      <td>18</td>\n      <td>3</td>\n      <td>1</td>\n      <td>3</td>\n      <td>...</td>\n      <td>3</td>\n      <td>25</td>\n      <td>0</td>\n      <td>1</td>\n      <td>1</td>\n      <td>1</td>\n      <td>1</td>\n      <td>0</td>\n      <td>улица Радужная</td>\n      <td>0.129713</td>\n    </tr>\n    <tr>\n      <th>4</th>\n      <td>4</td>\n      <td>1</td>\n      <td>13900000.0</td>\n      <td>78.0</td>\n      <td>17.0</td>\n      <td>35.0</td>\n      <td>7</td>\n      <td>2</td>\n      <td>1</td>\n      <td>3</td>\n      <td>...</td>\n      <td>2</td>\n      <td>15</td>\n      <td>0</td>\n      <td>1</td>\n      <td>1</td>\n      <td>1</td>\n      <td>0</td>\n      <td>0</td>\n      <td>улица Сервантеса</td>\n      <td>0.217762</td>\n    </tr>\n  </tbody>\n</table>\n<p>5 rows × 32 columns</p>\n</div>"
     },
     "metadata": {}
    }
   ],
   "execution_count": null
  },
  {
   "cell_type": "code",
   "metadata": {
    "tags": [],
    "cell_id": "00004-111e3c05-9011-490e-8f87-663700676e5a",
    "deepnote_to_be_reexecuted": false,
    "source_hash": "b93c055",
    "execution_start": 1637337976529,
    "execution_millis": 104,
    "deepnote_cell_type": "code"
   },
   "source": "data_test.head()",
   "outputs": [
    {
     "output_type": "execute_result",
     "execution_count": 5,
     "data": {
      "application/vnd.deepnote.dataframe.v2+json": {
       "row_count": 5,
       "column_count": 31,
       "columns": [
        {
         "name": "id",
         "dtype": "int64",
         "stats": {
          "unique_count": 5,
          "nan_count": 0,
          "min": "23285",
          "max": "23289",
          "histogram": [
           {
            "bin_start": 23285,
            "bin_end": 23285.4,
            "count": 1
           },
           {
            "bin_start": 23285.4,
            "bin_end": 23285.8,
            "count": 0
           },
           {
            "bin_start": 23285.8,
            "bin_end": 23286.2,
            "count": 1
           },
           {
            "bin_start": 23286.2,
            "bin_end": 23286.6,
            "count": 0
           },
           {
            "bin_start": 23286.6,
            "bin_end": 23287,
            "count": 0
           },
           {
            "bin_start": 23287,
            "bin_end": 23287.4,
            "count": 1
           },
           {
            "bin_start": 23287.4,
            "bin_end": 23287.8,
            "count": 0
           },
           {
            "bin_start": 23287.8,
            "bin_end": 23288.2,
            "count": 1
           },
           {
            "bin_start": 23288.2,
            "bin_end": 23288.6,
            "count": 0
           },
           {
            "bin_start": 23288.6,
            "bin_end": 23289,
            "count": 1
           }
          ]
         }
        },
        {
         "name": "seller",
         "dtype": "int64",
         "stats": {
          "unique_count": 2,
          "nan_count": 0,
          "min": "1",
          "max": "3",
          "histogram": [
           {
            "bin_start": 1,
            "bin_end": 1.2,
            "count": 1
           },
           {
            "bin_start": 1.2,
            "bin_end": 1.4,
            "count": 0
           },
           {
            "bin_start": 1.4,
            "bin_end": 1.6,
            "count": 0
           },
           {
            "bin_start": 1.6,
            "bin_end": 1.8,
            "count": 0
           },
           {
            "bin_start": 1.8,
            "bin_end": 2,
            "count": 0
           },
           {
            "bin_start": 2,
            "bin_end": 2.2,
            "count": 0
           },
           {
            "bin_start": 2.2,
            "bin_end": 2.4000000000000004,
            "count": 0
           },
           {
            "bin_start": 2.4000000000000004,
            "bin_end": 2.6,
            "count": 0
           },
           {
            "bin_start": 2.6,
            "bin_end": 2.8,
            "count": 0
           },
           {
            "bin_start": 2.8,
            "bin_end": 3,
            "count": 4
           }
          ]
         }
        },
        {
         "name": "area_total",
         "dtype": "float64",
         "stats": {
          "unique_count": 5,
          "nan_count": 0,
          "min": "34.0",
          "max": "71.4",
          "histogram": [
           {
            "bin_start": 34,
            "bin_end": 37.74,
            "count": 1
           },
           {
            "bin_start": 37.74,
            "bin_end": 41.480000000000004,
            "count": 1
           },
           {
            "bin_start": 41.480000000000004,
            "bin_end": 45.22,
            "count": 0
           },
           {
            "bin_start": 45.22,
            "bin_end": 48.96,
            "count": 0
           },
           {
            "bin_start": 48.96,
            "bin_end": 52.7,
            "count": 0
           },
           {
            "bin_start": 52.7,
            "bin_end": 56.440000000000005,
            "count": 1
           },
           {
            "bin_start": 56.440000000000005,
            "bin_end": 60.18000000000001,
            "count": 0
           },
           {
            "bin_start": 60.18000000000001,
            "bin_end": 63.92,
            "count": 1
           },
           {
            "bin_start": 63.92,
            "bin_end": 67.66,
            "count": 0
           },
           {
            "bin_start": 67.66,
            "bin_end": 71.4,
            "count": 1
           }
          ]
         }
        },
        {
         "name": "area_kitchen",
         "dtype": "float64",
         "stats": {
          "unique_count": 5,
          "nan_count": 0,
          "min": "4.0",
          "max": "19.6",
          "histogram": [
           {
            "bin_start": 4,
            "bin_end": 5.5600000000000005,
            "count": 1
           },
           {
            "bin_start": 5.5600000000000005,
            "bin_end": 7.12,
            "count": 0
           },
           {
            "bin_start": 7.12,
            "bin_end": 8.68,
            "count": 0
           },
           {
            "bin_start": 8.68,
            "bin_end": 10.24,
            "count": 1
           },
           {
            "bin_start": 10.24,
            "bin_end": 11.8,
            "count": 0
           },
           {
            "bin_start": 11.8,
            "bin_end": 13.36,
            "count": 1
           },
           {
            "bin_start": 13.36,
            "bin_end": 14.92,
            "count": 0
           },
           {
            "bin_start": 14.92,
            "bin_end": 16.48,
            "count": 1
           },
           {
            "bin_start": 16.48,
            "bin_end": 18.04,
            "count": 0
           },
           {
            "bin_start": 18.04,
            "bin_end": 19.6,
            "count": 1
           }
          ]
         }
        },
        {
         "name": "area_living",
         "dtype": "float64",
         "stats": {
          "unique_count": 5,
          "nan_count": 0,
          "min": "11.2",
          "max": "55.56",
          "histogram": [
           {
            "bin_start": 11.2,
            "bin_end": 15.636,
            "count": 1
           },
           {
            "bin_start": 15.636,
            "bin_end": 20.072,
            "count": 1
           },
           {
            "bin_start": 20.072,
            "bin_end": 24.508,
            "count": 0
           },
           {
            "bin_start": 24.508,
            "bin_end": 28.944,
            "count": 0
           },
           {
            "bin_start": 28.944,
            "bin_end": 33.379999999999995,
            "count": 1
           },
           {
            "bin_start": 33.379999999999995,
            "bin_end": 37.816,
            "count": 0
           },
           {
            "bin_start": 37.816,
            "bin_end": 42.251999999999995,
            "count": 0
           },
           {
            "bin_start": 42.251999999999995,
            "bin_end": 46.688,
            "count": 0
           },
           {
            "bin_start": 46.688,
            "bin_end": 51.123999999999995,
            "count": 1
           },
           {
            "bin_start": 51.123999999999995,
            "bin_end": 55.56,
            "count": 1
           }
          ]
         }
        },
        {
         "name": "floor",
         "dtype": "int64",
         "stats": {
          "unique_count": 5,
          "nan_count": 0,
          "min": "2",
          "max": "14",
          "histogram": [
           {
            "bin_start": 2,
            "bin_end": 3.2,
            "count": 1
           },
           {
            "bin_start": 3.2,
            "bin_end": 4.4,
            "count": 1
           },
           {
            "bin_start": 4.4,
            "bin_end": 5.6,
            "count": 1
           },
           {
            "bin_start": 5.6,
            "bin_end": 6.8,
            "count": 0
           },
           {
            "bin_start": 6.8,
            "bin_end": 8,
            "count": 0
           },
           {
            "bin_start": 8,
            "bin_end": 9.2,
            "count": 0
           },
           {
            "bin_start": 9.2,
            "bin_end": 10.4,
            "count": 1
           },
           {
            "bin_start": 10.4,
            "bin_end": 11.6,
            "count": 0
           },
           {
            "bin_start": 11.6,
            "bin_end": 12.799999999999999,
            "count": 0
           },
           {
            "bin_start": 12.799999999999999,
            "bin_end": 14,
            "count": 1
           }
          ]
         }
        },
        {
         "name": "rooms",
         "dtype": "int64",
         "stats": {
          "unique_count": 2,
          "nan_count": 0,
          "min": "1",
          "max": "2",
          "histogram": [
           {
            "bin_start": 1,
            "bin_end": 1.1,
            "count": 4
           },
           {
            "bin_start": 1.1,
            "bin_end": 1.2,
            "count": 0
           },
           {
            "bin_start": 1.2,
            "bin_end": 1.3,
            "count": 0
           },
           {
            "bin_start": 1.3,
            "bin_end": 1.4,
            "count": 0
           },
           {
            "bin_start": 1.4,
            "bin_end": 1.5,
            "count": 0
           },
           {
            "bin_start": 1.5,
            "bin_end": 1.6,
            "count": 0
           },
           {
            "bin_start": 1.6,
            "bin_end": 1.7000000000000002,
            "count": 0
           },
           {
            "bin_start": 1.7000000000000002,
            "bin_end": 1.8,
            "count": 0
           },
           {
            "bin_start": 1.8,
            "bin_end": 1.9,
            "count": 0
           },
           {
            "bin_start": 1.9,
            "bin_end": 2,
            "count": 1
           }
          ]
         }
        },
        {
         "name": "layout",
         "dtype": "int64",
         "stats": {
          "unique_count": 1,
          "nan_count": 0,
          "min": "1",
          "max": "1",
          "histogram": [
           {
            "bin_start": 0.5,
            "bin_end": 0.6,
            "count": 0
           },
           {
            "bin_start": 0.6,
            "bin_end": 0.7,
            "count": 0
           },
           {
            "bin_start": 0.7,
            "bin_end": 0.8,
            "count": 0
           },
           {
            "bin_start": 0.8,
            "bin_end": 0.9,
            "count": 0
           },
           {
            "bin_start": 0.9,
            "bin_end": 1,
            "count": 0
           },
           {
            "bin_start": 1,
            "bin_end": 1.1,
            "count": 5
           },
           {
            "bin_start": 1.1,
            "bin_end": 1.2000000000000002,
            "count": 0
           },
           {
            "bin_start": 1.2000000000000002,
            "bin_end": 1.3,
            "count": 0
           },
           {
            "bin_start": 1.3,
            "bin_end": 1.4,
            "count": 0
           },
           {
            "bin_start": 1.4,
            "bin_end": 1.5,
            "count": 0
           }
          ]
         }
        },
        {
         "name": "ceiling",
         "dtype": "int64",
         "stats": {
          "unique_count": 1,
          "nan_count": 0,
          "min": "3",
          "max": "3",
          "histogram": [
           {
            "bin_start": 2.5,
            "bin_end": 2.6,
            "count": 0
           },
           {
            "bin_start": 2.6,
            "bin_end": 2.7,
            "count": 0
           },
           {
            "bin_start": 2.7,
            "bin_end": 2.8,
            "count": 0
           },
           {
            "bin_start": 2.8,
            "bin_end": 2.9,
            "count": 0
           },
           {
            "bin_start": 2.9,
            "bin_end": 3,
            "count": 0
           },
           {
            "bin_start": 3,
            "bin_end": 3.1,
            "count": 5
           },
           {
            "bin_start": 3.1,
            "bin_end": 3.2,
            "count": 0
           },
           {
            "bin_start": 3.2,
            "bin_end": 3.3,
            "count": 0
           },
           {
            "bin_start": 3.3,
            "bin_end": 3.4,
            "count": 0
           },
           {
            "bin_start": 3.4,
            "bin_end": 3.5,
            "count": 0
           }
          ]
         }
        },
        {
         "name": "bathrooms_shared",
         "dtype": "int64",
         "stats": {
          "unique_count": 1,
          "nan_count": 0,
          "min": "1",
          "max": "1",
          "histogram": [
           {
            "bin_start": 0.5,
            "bin_end": 0.6,
            "count": 0
           },
           {
            "bin_start": 0.6,
            "bin_end": 0.7,
            "count": 0
           },
           {
            "bin_start": 0.7,
            "bin_end": 0.8,
            "count": 0
           },
           {
            "bin_start": 0.8,
            "bin_end": 0.9,
            "count": 0
           },
           {
            "bin_start": 0.9,
            "bin_end": 1,
            "count": 0
           },
           {
            "bin_start": 1,
            "bin_end": 1.1,
            "count": 5
           },
           {
            "bin_start": 1.1,
            "bin_end": 1.2000000000000002,
            "count": 0
           },
           {
            "bin_start": 1.2000000000000002,
            "bin_end": 1.3,
            "count": 0
           },
           {
            "bin_start": 1.3,
            "bin_end": 1.4,
            "count": 0
           },
           {
            "bin_start": 1.4,
            "bin_end": 1.5,
            "count": 0
           }
          ]
         }
        },
        {
         "name": "bathrooms_private",
         "dtype": "int64",
         "stats": {
          "unique_count": 2,
          "nan_count": 0,
          "min": "0",
          "max": "1",
          "histogram": [
           {
            "bin_start": 0,
            "bin_end": 0.1,
            "count": 3
           },
           {
            "bin_start": 0.1,
            "bin_end": 0.2,
            "count": 0
           },
           {
            "bin_start": 0.2,
            "bin_end": 0.30000000000000004,
            "count": 0
           },
           {
            "bin_start": 0.30000000000000004,
            "bin_end": 0.4,
            "count": 0
           },
           {
            "bin_start": 0.4,
            "bin_end": 0.5,
            "count": 0
           },
           {
            "bin_start": 0.5,
            "bin_end": 0.6000000000000001,
            "count": 0
           },
           {
            "bin_start": 0.6000000000000001,
            "bin_end": 0.7000000000000001,
            "count": 0
           },
           {
            "bin_start": 0.7000000000000001,
            "bin_end": 0.8,
            "count": 0
           },
           {
            "bin_start": 0.8,
            "bin_end": 0.9,
            "count": 0
           },
           {
            "bin_start": 0.9,
            "bin_end": 1,
            "count": 2
           }
          ]
         }
        },
        {
         "name": "windows_court",
         "dtype": "int64",
         "stats": {
          "unique_count": 2,
          "nan_count": 0,
          "min": "0",
          "max": "1",
          "histogram": [
           {
            "bin_start": 0,
            "bin_end": 0.1,
            "count": 1
           },
           {
            "bin_start": 0.1,
            "bin_end": 0.2,
            "count": 0
           },
           {
            "bin_start": 0.2,
            "bin_end": 0.30000000000000004,
            "count": 0
           },
           {
            "bin_start": 0.30000000000000004,
            "bin_end": 0.4,
            "count": 0
           },
           {
            "bin_start": 0.4,
            "bin_end": 0.5,
            "count": 0
           },
           {
            "bin_start": 0.5,
            "bin_end": 0.6000000000000001,
            "count": 0
           },
           {
            "bin_start": 0.6000000000000001,
            "bin_end": 0.7000000000000001,
            "count": 0
           },
           {
            "bin_start": 0.7000000000000001,
            "bin_end": 0.8,
            "count": 0
           },
           {
            "bin_start": 0.8,
            "bin_end": 0.9,
            "count": 0
           },
           {
            "bin_start": 0.9,
            "bin_end": 1,
            "count": 4
           }
          ]
         }
        },
        {
         "name": "windows_street",
         "dtype": "int64",
         "stats": {
          "unique_count": 2,
          "nan_count": 0,
          "min": "0",
          "max": "1",
          "histogram": [
           {
            "bin_start": 0,
            "bin_end": 0.1,
            "count": 4
           },
           {
            "bin_start": 0.1,
            "bin_end": 0.2,
            "count": 0
           },
           {
            "bin_start": 0.2,
            "bin_end": 0.30000000000000004,
            "count": 0
           },
           {
            "bin_start": 0.30000000000000004,
            "bin_end": 0.4,
            "count": 0
           },
           {
            "bin_start": 0.4,
            "bin_end": 0.5,
            "count": 0
           },
           {
            "bin_start": 0.5,
            "bin_end": 0.6000000000000001,
            "count": 0
           },
           {
            "bin_start": 0.6000000000000001,
            "bin_end": 0.7000000000000001,
            "count": 0
           },
           {
            "bin_start": 0.7000000000000001,
            "bin_end": 0.8,
            "count": 0
           },
           {
            "bin_start": 0.8,
            "bin_end": 0.9,
            "count": 0
           },
           {
            "bin_start": 0.9,
            "bin_end": 1,
            "count": 1
           }
          ]
         }
        },
        {
         "name": "balconies",
         "dtype": "int64",
         "stats": {
          "unique_count": 2,
          "nan_count": 0,
          "min": "0",
          "max": "1",
          "histogram": [
           {
            "bin_start": 0,
            "bin_end": 0.1,
            "count": 4
           },
           {
            "bin_start": 0.1,
            "bin_end": 0.2,
            "count": 0
           },
           {
            "bin_start": 0.2,
            "bin_end": 0.30000000000000004,
            "count": 0
           },
           {
            "bin_start": 0.30000000000000004,
            "bin_end": 0.4,
            "count": 0
           },
           {
            "bin_start": 0.4,
            "bin_end": 0.5,
            "count": 0
           },
           {
            "bin_start": 0.5,
            "bin_end": 0.6000000000000001,
            "count": 0
           },
           {
            "bin_start": 0.6000000000000001,
            "bin_end": 0.7000000000000001,
            "count": 0
           },
           {
            "bin_start": 0.7000000000000001,
            "bin_end": 0.8,
            "count": 0
           },
           {
            "bin_start": 0.8,
            "bin_end": 0.9,
            "count": 0
           },
           {
            "bin_start": 0.9,
            "bin_end": 1,
            "count": 1
           }
          ]
         }
        },
        {
         "name": "loggias",
         "dtype": "int64",
         "stats": {
          "unique_count": 2,
          "nan_count": 0,
          "min": "0",
          "max": "1",
          "histogram": [
           {
            "bin_start": 0,
            "bin_end": 0.1,
            "count": 1
           },
           {
            "bin_start": 0.1,
            "bin_end": 0.2,
            "count": 0
           },
           {
            "bin_start": 0.2,
            "bin_end": 0.30000000000000004,
            "count": 0
           },
           {
            "bin_start": 0.30000000000000004,
            "bin_end": 0.4,
            "count": 0
           },
           {
            "bin_start": 0.4,
            "bin_end": 0.5,
            "count": 0
           },
           {
            "bin_start": 0.5,
            "bin_end": 0.6000000000000001,
            "count": 0
           },
           {
            "bin_start": 0.6000000000000001,
            "bin_end": 0.7000000000000001,
            "count": 0
           },
           {
            "bin_start": 0.7000000000000001,
            "bin_end": 0.8,
            "count": 0
           },
           {
            "bin_start": 0.8,
            "bin_end": 0.9,
            "count": 0
           },
           {
            "bin_start": 0.9,
            "bin_end": 1,
            "count": 4
           }
          ]
         }
        },
        {
         "name": "condition",
         "dtype": "int64",
         "stats": {
          "unique_count": 4,
          "nan_count": 0,
          "min": "0",
          "max": "3",
          "histogram": [
           {
            "bin_start": 0,
            "bin_end": 0.3,
            "count": 2
           },
           {
            "bin_start": 0.3,
            "bin_end": 0.6,
            "count": 0
           },
           {
            "bin_start": 0.6,
            "bin_end": 0.8999999999999999,
            "count": 0
           },
           {
            "bin_start": 0.8999999999999999,
            "bin_end": 1.2,
            "count": 1
           },
           {
            "bin_start": 1.2,
            "bin_end": 1.5,
            "count": 0
           },
           {
            "bin_start": 1.5,
            "bin_end": 1.7999999999999998,
            "count": 0
           },
           {
            "bin_start": 1.7999999999999998,
            "bin_end": 2.1,
            "count": 1
           },
           {
            "bin_start": 2.1,
            "bin_end": 2.4,
            "count": 0
           },
           {
            "bin_start": 2.4,
            "bin_end": 2.6999999999999997,
            "count": 0
           },
           {
            "bin_start": 2.6999999999999997,
            "bin_end": 3,
            "count": 1
           }
          ]
         }
        },
        {
         "name": "phones",
         "dtype": "int64",
         "stats": {
          "unique_count": 1,
          "nan_count": 0,
          "min": "1",
          "max": "1",
          "histogram": [
           {
            "bin_start": 0.5,
            "bin_end": 0.6,
            "count": 0
           },
           {
            "bin_start": 0.6,
            "bin_end": 0.7,
            "count": 0
           },
           {
            "bin_start": 0.7,
            "bin_end": 0.8,
            "count": 0
           },
           {
            "bin_start": 0.8,
            "bin_end": 0.9,
            "count": 0
           },
           {
            "bin_start": 0.9,
            "bin_end": 1,
            "count": 0
           },
           {
            "bin_start": 1,
            "bin_end": 1.1,
            "count": 5
           },
           {
            "bin_start": 1.1,
            "bin_end": 1.2000000000000002,
            "count": 0
           },
           {
            "bin_start": 1.2000000000000002,
            "bin_end": 1.3,
            "count": 0
           },
           {
            "bin_start": 1.3,
            "bin_end": 1.4,
            "count": 0
           },
           {
            "bin_start": 1.4,
            "bin_end": 1.5,
            "count": 0
           }
          ]
         }
        },
        {
         "name": "building_id",
         "dtype": "int64",
         "stats": {
          "unique_count": 5,
          "nan_count": 0,
          "min": "681",
          "max": "7530",
          "histogram": [
           {
            "bin_start": 681,
            "bin_end": 1365.9,
            "count": 2
           },
           {
            "bin_start": 1365.9,
            "bin_end": 2050.8,
            "count": 0
           },
           {
            "bin_start": 2050.8,
            "bin_end": 2735.7,
            "count": 0
           },
           {
            "bin_start": 2735.7,
            "bin_end": 3420.6,
            "count": 0
           },
           {
            "bin_start": 3420.6,
            "bin_end": 4105.5,
            "count": 0
           },
           {
            "bin_start": 4105.5,
            "bin_end": 4790.4,
            "count": 1
           },
           {
            "bin_start": 4790.4,
            "bin_end": 5475.3,
            "count": 1
           },
           {
            "bin_start": 5475.3,
            "bin_end": 6160.2,
            "count": 0
           },
           {
            "bin_start": 6160.2,
            "bin_end": 6845.099999999999,
            "count": 0
           },
           {
            "bin_start": 6845.099999999999,
            "bin_end": 7530,
            "count": 1
           }
          ]
         }
        },
        {
         "name": "new",
         "dtype": "int64",
         "stats": {
          "unique_count": 2,
          "nan_count": 0,
          "min": "0",
          "max": "1",
          "histogram": [
           {
            "bin_start": 0,
            "bin_end": 0.1,
            "count": 4
           },
           {
            "bin_start": 0.1,
            "bin_end": 0.2,
            "count": 0
           },
           {
            "bin_start": 0.2,
            "bin_end": 0.30000000000000004,
            "count": 0
           },
           {
            "bin_start": 0.30000000000000004,
            "bin_end": 0.4,
            "count": 0
           },
           {
            "bin_start": 0.4,
            "bin_end": 0.5,
            "count": 0
           },
           {
            "bin_start": 0.5,
            "bin_end": 0.6000000000000001,
            "count": 0
           },
           {
            "bin_start": 0.6000000000000001,
            "bin_end": 0.7000000000000001,
            "count": 0
           },
           {
            "bin_start": 0.7000000000000001,
            "bin_end": 0.8,
            "count": 0
           },
           {
            "bin_start": 0.8,
            "bin_end": 0.9,
            "count": 0
           },
           {
            "bin_start": 0.9,
            "bin_end": 1,
            "count": 1
           }
          ]
         }
        },
        {
         "name": "district",
         "dtype": "int64",
         "stats": {
          "unique_count": 2,
          "nan_count": 0,
          "min": "0",
          "max": "11",
          "histogram": [
           {
            "bin_start": 0,
            "bin_end": 1.1,
            "count": 1
           },
           {
            "bin_start": 1.1,
            "bin_end": 2.2,
            "count": 0
           },
           {
            "bin_start": 2.2,
            "bin_end": 3.3000000000000003,
            "count": 0
           },
           {
            "bin_start": 3.3000000000000003,
            "bin_end": 4.4,
            "count": 0
           },
           {
            "bin_start": 4.4,
            "bin_end": 5.5,
            "count": 0
           },
           {
            "bin_start": 5.5,
            "bin_end": 6.6000000000000005,
            "count": 0
           },
           {
            "bin_start": 6.6000000000000005,
            "bin_end": 7.700000000000001,
            "count": 0
           },
           {
            "bin_start": 7.700000000000001,
            "bin_end": 8.8,
            "count": 0
           },
           {
            "bin_start": 8.8,
            "bin_end": 9.9,
            "count": 0
           },
           {
            "bin_start": 9.9,
            "bin_end": 11,
            "count": 4
           }
          ]
         }
        },
        {
         "name": "constructed",
         "dtype": "int64",
         "stats": {
          "unique_count": 4,
          "nan_count": 0,
          "min": "2014",
          "max": "2021",
          "histogram": [
           {
            "bin_start": 2014,
            "bin_end": 2014.7,
            "count": 1
           },
           {
            "bin_start": 2014.7,
            "bin_end": 2015.4,
            "count": 0
           },
           {
            "bin_start": 2015.4,
            "bin_end": 2016.1,
            "count": 1
           },
           {
            "bin_start": 2016.1,
            "bin_end": 2016.8,
            "count": 0
           },
           {
            "bin_start": 2016.8,
            "bin_end": 2017.5,
            "count": 2
           },
           {
            "bin_start": 2017.5,
            "bin_end": 2018.2,
            "count": 0
           },
           {
            "bin_start": 2018.2,
            "bin_end": 2018.9,
            "count": 0
           },
           {
            "bin_start": 2018.9,
            "bin_end": 2019.6,
            "count": 0
           },
           {
            "bin_start": 2019.6,
            "bin_end": 2020.3,
            "count": 0
           },
           {
            "bin_start": 2020.3,
            "bin_end": 2021,
            "count": 1
           }
          ]
         }
        },
        {
         "name": "material",
         "dtype": "int64",
         "stats": {
          "unique_count": 2,
          "nan_count": 0,
          "min": "2",
          "max": "3",
          "histogram": [
           {
            "bin_start": 2,
            "bin_end": 2.1,
            "count": 4
           },
           {
            "bin_start": 2.1,
            "bin_end": 2.2,
            "count": 0
           },
           {
            "bin_start": 2.2,
            "bin_end": 2.3,
            "count": 0
           },
           {
            "bin_start": 2.3,
            "bin_end": 2.4,
            "count": 0
           },
           {
            "bin_start": 2.4,
            "bin_end": 2.5,
            "count": 0
           },
           {
            "bin_start": 2.5,
            "bin_end": 2.6,
            "count": 0
           },
           {
            "bin_start": 2.6,
            "bin_end": 2.7,
            "count": 0
           },
           {
            "bin_start": 2.7,
            "bin_end": 2.8,
            "count": 0
           },
           {
            "bin_start": 2.8,
            "bin_end": 2.9,
            "count": 0
           },
           {
            "bin_start": 2.9,
            "bin_end": 3,
            "count": 1
           }
          ]
         }
        },
        {
         "name": "stories",
         "dtype": "int64",
         "stats": {
          "unique_count": 4,
          "nan_count": 0,
          "min": "9",
          "max": "20",
          "histogram": [
           {
            "bin_start": 9,
            "bin_end": 10.1,
            "count": 1
           },
           {
            "bin_start": 10.1,
            "bin_end": 11.2,
            "count": 0
           },
           {
            "bin_start": 11.2,
            "bin_end": 12.3,
            "count": 0
           },
           {
            "bin_start": 12.3,
            "bin_end": 13.4,
            "count": 0
           },
           {
            "bin_start": 13.4,
            "bin_end": 14.5,
            "count": 0
           },
           {
            "bin_start": 14.5,
            "bin_end": 15.600000000000001,
            "count": 1
           },
           {
            "bin_start": 15.600000000000001,
            "bin_end": 16.700000000000003,
            "count": 0
           },
           {
            "bin_start": 16.700000000000003,
            "bin_end": 17.8,
            "count": 2
           },
           {
            "bin_start": 17.8,
            "bin_end": 18.9,
            "count": 0
           },
           {
            "bin_start": 18.9,
            "bin_end": 20,
            "count": 1
           }
          ]
         }
        },
        {
         "name": "elevator_without",
         "dtype": "int64",
         "stats": {
          "unique_count": 2,
          "nan_count": 0,
          "min": "0",
          "max": "1",
          "histogram": [
           {
            "bin_start": 0,
            "bin_end": 0.1,
            "count": 3
           },
           {
            "bin_start": 0.1,
            "bin_end": 0.2,
            "count": 0
           },
           {
            "bin_start": 0.2,
            "bin_end": 0.30000000000000004,
            "count": 0
           },
           {
            "bin_start": 0.30000000000000004,
            "bin_end": 0.4,
            "count": 0
           },
           {
            "bin_start": 0.4,
            "bin_end": 0.5,
            "count": 0
           },
           {
            "bin_start": 0.5,
            "bin_end": 0.6000000000000001,
            "count": 0
           },
           {
            "bin_start": 0.6000000000000001,
            "bin_end": 0.7000000000000001,
            "count": 0
           },
           {
            "bin_start": 0.7000000000000001,
            "bin_end": 0.8,
            "count": 0
           },
           {
            "bin_start": 0.8,
            "bin_end": 0.9,
            "count": 0
           },
           {
            "bin_start": 0.9,
            "bin_end": 1,
            "count": 2
           }
          ]
         }
        },
        {
         "name": "elevator_passenger",
         "dtype": "int64",
         "stats": {
          "unique_count": 1,
          "nan_count": 0,
          "min": "1",
          "max": "1",
          "histogram": [
           {
            "bin_start": 0.5,
            "bin_end": 0.6,
            "count": 0
           },
           {
            "bin_start": 0.6,
            "bin_end": 0.7,
            "count": 0
           },
           {
            "bin_start": 0.7,
            "bin_end": 0.8,
            "count": 0
           },
           {
            "bin_start": 0.8,
            "bin_end": 0.9,
            "count": 0
           },
           {
            "bin_start": 0.9,
            "bin_end": 1,
            "count": 0
           },
           {
            "bin_start": 1,
            "bin_end": 1.1,
            "count": 5
           },
           {
            "bin_start": 1.1,
            "bin_end": 1.2000000000000002,
            "count": 0
           },
           {
            "bin_start": 1.2000000000000002,
            "bin_end": 1.3,
            "count": 0
           },
           {
            "bin_start": 1.3,
            "bin_end": 1.4,
            "count": 0
           },
           {
            "bin_start": 1.4,
            "bin_end": 1.5,
            "count": 0
           }
          ]
         }
        },
        {
         "name": "elevator_service",
         "dtype": "int64",
         "stats": {
          "unique_count": 2,
          "nan_count": 0,
          "min": "0",
          "max": "1",
          "histogram": [
           {
            "bin_start": 0,
            "bin_end": 0.1,
            "count": 1
           },
           {
            "bin_start": 0.1,
            "bin_end": 0.2,
            "count": 0
           },
           {
            "bin_start": 0.2,
            "bin_end": 0.30000000000000004,
            "count": 0
           },
           {
            "bin_start": 0.30000000000000004,
            "bin_end": 0.4,
            "count": 0
           },
           {
            "bin_start": 0.4,
            "bin_end": 0.5,
            "count": 0
           },
           {
            "bin_start": 0.5,
            "bin_end": 0.6000000000000001,
            "count": 0
           },
           {
            "bin_start": 0.6000000000000001,
            "bin_end": 0.7000000000000001,
            "count": 0
           },
           {
            "bin_start": 0.7000000000000001,
            "bin_end": 0.8,
            "count": 0
           },
           {
            "bin_start": 0.8,
            "bin_end": 0.9,
            "count": 0
           },
           {
            "bin_start": 0.9,
            "bin_end": 1,
            "count": 4
           }
          ]
         }
        },
        {
         "name": "parking",
         "dtype": "int64",
         "stats": {
          "unique_count": 2,
          "nan_count": 0,
          "min": "0",
          "max": "1",
          "histogram": [
           {
            "bin_start": 0,
            "bin_end": 0.1,
            "count": 2
           },
           {
            "bin_start": 0.1,
            "bin_end": 0.2,
            "count": 0
           },
           {
            "bin_start": 0.2,
            "bin_end": 0.30000000000000004,
            "count": 0
           },
           {
            "bin_start": 0.30000000000000004,
            "bin_end": 0.4,
            "count": 0
           },
           {
            "bin_start": 0.4,
            "bin_end": 0.5,
            "count": 0
           },
           {
            "bin_start": 0.5,
            "bin_end": 0.6000000000000001,
            "count": 0
           },
           {
            "bin_start": 0.6000000000000001,
            "bin_end": 0.7000000000000001,
            "count": 0
           },
           {
            "bin_start": 0.7000000000000001,
            "bin_end": 0.8,
            "count": 0
           },
           {
            "bin_start": 0.8,
            "bin_end": 0.9,
            "count": 0
           },
           {
            "bin_start": 0.9,
            "bin_end": 1,
            "count": 3
           }
          ]
         }
        },
        {
         "name": "garbage_chute",
         "dtype": "int64",
         "stats": {
          "unique_count": 2,
          "nan_count": 0,
          "min": "0",
          "max": "1",
          "histogram": [
           {
            "bin_start": 0,
            "bin_end": 0.1,
            "count": 1
           },
           {
            "bin_start": 0.1,
            "bin_end": 0.2,
            "count": 0
           },
           {
            "bin_start": 0.2,
            "bin_end": 0.30000000000000004,
            "count": 0
           },
           {
            "bin_start": 0.30000000000000004,
            "bin_end": 0.4,
            "count": 0
           },
           {
            "bin_start": 0.4,
            "bin_end": 0.5,
            "count": 0
           },
           {
            "bin_start": 0.5,
            "bin_end": 0.6000000000000001,
            "count": 0
           },
           {
            "bin_start": 0.6000000000000001,
            "bin_end": 0.7000000000000001,
            "count": 0
           },
           {
            "bin_start": 0.7000000000000001,
            "bin_end": 0.8,
            "count": 0
           },
           {
            "bin_start": 0.8,
            "bin_end": 0.9,
            "count": 0
           },
           {
            "bin_start": 0.9,
            "bin_end": 1,
            "count": 4
           }
          ]
         }
        },
        {
         "name": "heating",
         "dtype": "int64",
         "stats": {
          "unique_count": 2,
          "nan_count": 0,
          "min": "0",
          "max": "3",
          "histogram": [
           {
            "bin_start": 0,
            "bin_end": 0.3,
            "count": 4
           },
           {
            "bin_start": 0.3,
            "bin_end": 0.6,
            "count": 0
           },
           {
            "bin_start": 0.6,
            "bin_end": 0.8999999999999999,
            "count": 0
           },
           {
            "bin_start": 0.8999999999999999,
            "bin_end": 1.2,
            "count": 0
           },
           {
            "bin_start": 1.2,
            "bin_end": 1.5,
            "count": 0
           },
           {
            "bin_start": 1.5,
            "bin_end": 1.7999999999999998,
            "count": 0
           },
           {
            "bin_start": 1.7999999999999998,
            "bin_end": 2.1,
            "count": 0
           },
           {
            "bin_start": 2.1,
            "bin_end": 2.4,
            "count": 0
           },
           {
            "bin_start": 2.4,
            "bin_end": 2.6999999999999997,
            "count": 0
           },
           {
            "bin_start": 2.6999999999999997,
            "bin_end": 3,
            "count": 1
           }
          ]
         }
        },
        {
         "name": "street",
         "dtype": "object",
         "stats": {
          "unique_count": 5,
          "nan_count": 0,
          "categories": [
           {
            "name": "2-я Черногрязская улица",
            "count": 1
           },
           {
            "name": "улица Сервантеса",
            "count": 1
           },
           {
            "name": "3 others",
            "count": 3
           }
          ]
         }
        },
        {
         "name": "distance",
         "dtype": "float64",
         "stats": {
          "unique_count": 5,
          "nan_count": 0,
          "min": "0.05241097794355376",
          "max": "0.345584373087098",
          "histogram": [
           {
            "bin_start": 0.05241097794355376,
            "bin_end": 0.08172831745790818,
            "count": 1
           },
           {
            "bin_start": 0.08172831745790818,
            "bin_end": 0.11104565697226261,
            "count": 0
           },
           {
            "bin_start": 0.11104565697226261,
            "bin_end": 0.14036299648661704,
            "count": 0
           },
           {
            "bin_start": 0.14036299648661704,
            "bin_end": 0.16968033600097146,
            "count": 0
           },
           {
            "bin_start": 0.16968033600097146,
            "bin_end": 0.19899767551532588,
            "count": 0
           },
           {
            "bin_start": 0.19899767551532588,
            "bin_end": 0.22831501502968032,
            "count": 2
           },
           {
            "bin_start": 0.22831501502968032,
            "bin_end": 0.25763235454403477,
            "count": 1
           },
           {
            "bin_start": 0.25763235454403477,
            "bin_end": 0.28694969405838916,
            "count": 0
           },
           {
            "bin_start": 0.28694969405838916,
            "bin_end": 0.3162670335727436,
            "count": 0
           },
           {
            "bin_start": 0.3162670335727436,
            "bin_end": 0.345584373087098,
            "count": 1
           }
          ]
         }
        },
        {
         "name": "_deepnote_index_column",
         "dtype": "int64"
        }
       ],
       "rows_top": [
        {
         "id": 23285,
         "seller": 3,
         "area_total": 71.4,
         "area_kitchen": 13.16,
         "area_living": 29.44,
         "floor": 2,
         "rooms": 1,
         "layout": 1,
         "ceiling": 3,
         "bathrooms_shared": 1,
         "bathrooms_private": 1,
         "windows_court": 1,
         "windows_street": 0,
         "balconies": 1,
         "loggias": 0,
         "condition": 0,
         "phones": 1,
         "building_id": 5148,
         "new": 0,
         "district": 0,
         "constructed": 2017,
         "material": 2,
         "stories": 20,
         "elevator_without": 1,
         "elevator_passenger": 1,
         "elevator_service": 1,
         "parking": 1,
         "garbage_chute": 1,
         "heating": 0,
         "street": "2-я Черногрязская улица",
         "distance": 0.05241097794355376,
         "_deepnote_index_column": 0
        },
        {
         "id": 23286,
         "seller": 1,
         "area_total": 54,
         "area_kitchen": 4,
         "area_living": 50,
         "floor": 4,
         "rooms": 1,
         "layout": 1,
         "ceiling": 3,
         "bathrooms_shared": 1,
         "bathrooms_private": 1,
         "windows_court": 1,
         "windows_street": 0,
         "balconies": 0,
         "loggias": 1,
         "condition": 3,
         "phones": 1,
         "building_id": 1290,
         "new": 0,
         "district": 11,
         "constructed": 2017,
         "material": 2,
         "stories": 15,
         "elevator_without": 0,
         "elevator_passenger": 1,
         "elevator_service": 1,
         "parking": 0,
         "garbage_chute": 0,
         "heating": 0,
         "street": "улица Сервантеса",
         "distance": 0.21643576388850122,
         "_deepnote_index_column": 1
        },
        {
         "id": 23287,
         "seller": 3,
         "area_total": 39.4,
         "area_kitchen": 19.6,
         "area_living": 11.2,
         "floor": 10,
         "rooms": 1,
         "layout": 1,
         "ceiling": 3,
         "bathrooms_shared": 1,
         "bathrooms_private": 0,
         "windows_court": 1,
         "windows_street": 0,
         "balconies": 0,
         "loggias": 1,
         "condition": 2,
         "phones": 1,
         "building_id": 681,
         "new": 1,
         "district": 11,
         "constructed": 2021,
         "material": 3,
         "stories": 9,
         "elevator_without": 0,
         "elevator_passenger": 1,
         "elevator_service": 1,
         "parking": 1,
         "garbage_chute": 1,
         "heating": 0,
         "street": "Саларьево Парк ЖК",
         "distance": 0.22887870545990124,
         "_deepnote_index_column": 2
        },
        {
         "id": 23288,
         "seller": 3,
         "area_total": 60.9,
         "area_kitchen": 15.68,
         "area_living": 55.56,
         "floor": 5,
         "rooms": 2,
         "layout": 1,
         "ceiling": 3,
         "bathrooms_shared": 1,
         "bathrooms_private": 0,
         "windows_court": 0,
         "windows_street": 1,
         "balconies": 0,
         "loggias": 1,
         "condition": 0,
         "phones": 1,
         "building_id": 4261,
         "new": 0,
         "district": 11,
         "constructed": 2014,
         "material": 2,
         "stories": 17,
         "elevator_without": 1,
         "elevator_passenger": 1,
         "elevator_service": 0,
         "parking": 0,
         "garbage_chute": 1,
         "heating": 3,
         "street": "улица Александры Монаховой",
         "distance": 0.21739369540996625,
         "_deepnote_index_column": 3
        },
        {
         "id": 23289,
         "seller": 3,
         "area_total": 34,
         "area_kitchen": 9,
         "area_living": 17,
         "floor": 14,
         "rooms": 1,
         "layout": 1,
         "ceiling": 3,
         "bathrooms_shared": 1,
         "bathrooms_private": 0,
         "windows_court": 1,
         "windows_street": 0,
         "balconies": 0,
         "loggias": 1,
         "condition": 1,
         "phones": 1,
         "building_id": 7530,
         "new": 0,
         "district": 11,
         "constructed": 2016,
         "material": 2,
         "stories": 17,
         "elevator_without": 0,
         "elevator_passenger": 1,
         "elevator_service": 1,
         "parking": 1,
         "garbage_chute": 1,
         "heating": 0,
         "street": "улица 3-я Нововатутинская",
         "distance": 0.345584373087098,
         "_deepnote_index_column": 4
        }
       ],
       "rows_bottom": null
      },
      "text/plain": "      id  seller  area_total  area_kitchen  area_living  floor  rooms  layout  \\\n0  23285       3        71.4         13.16        29.44      2      1       1   \n1  23286       1        54.0          4.00        50.00      4      1       1   \n2  23287       3        39.4         19.60        11.20     10      1       1   \n3  23288       3        60.9         15.68        55.56      5      2       1   \n4  23289       3        34.0          9.00        17.00     14      1       1   \n\n   ceiling  bathrooms_shared  ...  material  stories  elevator_without  \\\n0        3                 1  ...         2       20                 1   \n1        3                 1  ...         2       15                 0   \n2        3                 1  ...         3        9                 0   \n3        3                 1  ...         2       17                 1   \n4        3                 1  ...         2       17                 0   \n\n   elevator_passenger  elevator_service  parking  garbage_chute  heating  \\\n0                   1                 1        1              1        0   \n1                   1                 1        0              0        0   \n2                   1                 1        1              1        0   \n3                   1                 0        0              1        3   \n4                   1                 1        1              1        0   \n\n                       street  distance  \n0     2-я Черногрязская улица  0.052411  \n1            улица Сервантеса  0.216436  \n2           Саларьево Парк ЖК  0.228879  \n3  улица Александры Монаховой  0.217394  \n4   улица 3-я Нововатутинская  0.345584  \n\n[5 rows x 31 columns]",
      "text/html": "<div>\n<style scoped>\n    .dataframe tbody tr th:only-of-type {\n        vertical-align: middle;\n    }\n\n    .dataframe tbody tr th {\n        vertical-align: top;\n    }\n\n    .dataframe thead th {\n        text-align: right;\n    }\n</style>\n<table border=\"1\" class=\"dataframe\">\n  <thead>\n    <tr style=\"text-align: right;\">\n      <th></th>\n      <th>id</th>\n      <th>seller</th>\n      <th>area_total</th>\n      <th>area_kitchen</th>\n      <th>area_living</th>\n      <th>floor</th>\n      <th>rooms</th>\n      <th>layout</th>\n      <th>ceiling</th>\n      <th>bathrooms_shared</th>\n      <th>...</th>\n      <th>material</th>\n      <th>stories</th>\n      <th>elevator_without</th>\n      <th>elevator_passenger</th>\n      <th>elevator_service</th>\n      <th>parking</th>\n      <th>garbage_chute</th>\n      <th>heating</th>\n      <th>street</th>\n      <th>distance</th>\n    </tr>\n  </thead>\n  <tbody>\n    <tr>\n      <th>0</th>\n      <td>23285</td>\n      <td>3</td>\n      <td>71.4</td>\n      <td>13.16</td>\n      <td>29.44</td>\n      <td>2</td>\n      <td>1</td>\n      <td>1</td>\n      <td>3</td>\n      <td>1</td>\n      <td>...</td>\n      <td>2</td>\n      <td>20</td>\n      <td>1</td>\n      <td>1</td>\n      <td>1</td>\n      <td>1</td>\n      <td>1</td>\n      <td>0</td>\n      <td>2-я Черногрязская улица</td>\n      <td>0.052411</td>\n    </tr>\n    <tr>\n      <th>1</th>\n      <td>23286</td>\n      <td>1</td>\n      <td>54.0</td>\n      <td>4.00</td>\n      <td>50.00</td>\n      <td>4</td>\n      <td>1</td>\n      <td>1</td>\n      <td>3</td>\n      <td>1</td>\n      <td>...</td>\n      <td>2</td>\n      <td>15</td>\n      <td>0</td>\n      <td>1</td>\n      <td>1</td>\n      <td>0</td>\n      <td>0</td>\n      <td>0</td>\n      <td>улица Сервантеса</td>\n      <td>0.216436</td>\n    </tr>\n    <tr>\n      <th>2</th>\n      <td>23287</td>\n      <td>3</td>\n      <td>39.4</td>\n      <td>19.60</td>\n      <td>11.20</td>\n      <td>10</td>\n      <td>1</td>\n      <td>1</td>\n      <td>3</td>\n      <td>1</td>\n      <td>...</td>\n      <td>3</td>\n      <td>9</td>\n      <td>0</td>\n      <td>1</td>\n      <td>1</td>\n      <td>1</td>\n      <td>1</td>\n      <td>0</td>\n      <td>Саларьево Парк ЖК</td>\n      <td>0.228879</td>\n    </tr>\n    <tr>\n      <th>3</th>\n      <td>23288</td>\n      <td>3</td>\n      <td>60.9</td>\n      <td>15.68</td>\n      <td>55.56</td>\n      <td>5</td>\n      <td>2</td>\n      <td>1</td>\n      <td>3</td>\n      <td>1</td>\n      <td>...</td>\n      <td>2</td>\n      <td>17</td>\n      <td>1</td>\n      <td>1</td>\n      <td>0</td>\n      <td>0</td>\n      <td>1</td>\n      <td>3</td>\n      <td>улица Александры Монаховой</td>\n      <td>0.217394</td>\n    </tr>\n    <tr>\n      <th>4</th>\n      <td>23289</td>\n      <td>3</td>\n      <td>34.0</td>\n      <td>9.00</td>\n      <td>17.00</td>\n      <td>14</td>\n      <td>1</td>\n      <td>1</td>\n      <td>3</td>\n      <td>1</td>\n      <td>...</td>\n      <td>2</td>\n      <td>17</td>\n      <td>0</td>\n      <td>1</td>\n      <td>1</td>\n      <td>1</td>\n      <td>1</td>\n      <td>0</td>\n      <td>улица 3-я Нововатутинская</td>\n      <td>0.345584</td>\n    </tr>\n  </tbody>\n</table>\n<p>5 rows × 31 columns</p>\n</div>"
     },
     "metadata": {}
    }
   ],
   "execution_count": null
  },
  {
   "cell_type": "code",
   "metadata": {
    "tags": [],
    "cell_id": "00005-69a34a3f-1f7c-48c3-96fe-54290dd4fdc8",
    "deepnote_to_be_reexecuted": false,
    "source_hash": "131de100",
    "execution_start": 1637337976634,
    "execution_millis": 1,
    "deepnote_cell_type": "code"
   },
   "source": "target_train = data_train.price/data_train.area_total\ny_train_area_total = data_train.area_total\ny_test_area_total = data_test.area_total\ndata_train.drop(['price', 'area_total'], axis=1, inplace=True)\ndata_train.head()\ndata_test.drop(['area_total'], axis=1, inplace=True)\n",
   "outputs": [],
   "execution_count": null
  },
  {
   "cell_type": "code",
   "metadata": {
    "tags": [],
    "cell_id": "00011-7f9f43ce-2bbe-4fb8-8e71-4884e0c1a719",
    "deepnote_to_be_reexecuted": false,
    "source_hash": "7afa3823",
    "execution_start": 1637337976687,
    "execution_millis": 94,
    "deepnote_cell_type": "code"
   },
   "source": "from sklearn.preprocessing import OrdinalEncoder\n\nord_enc = OrdinalEncoder()\ndata_train['street'] = ord_enc.fit_transform(data_train[[\"street\"]]).astype(int)\ndata_train.head()",
   "outputs": [
    {
     "output_type": "execute_result",
     "execution_count": 7,
     "data": {
      "application/vnd.deepnote.dataframe.v2+json": {
       "row_count": 5,
       "column_count": 30,
       "columns": [
        {
         "name": "id",
         "dtype": "int64",
         "stats": {
          "unique_count": 5,
          "nan_count": 0,
          "min": "0",
          "max": "4",
          "histogram": [
           {
            "bin_start": 0,
            "bin_end": 0.4,
            "count": 1
           },
           {
            "bin_start": 0.4,
            "bin_end": 0.8,
            "count": 0
           },
           {
            "bin_start": 0.8,
            "bin_end": 1.2000000000000002,
            "count": 1
           },
           {
            "bin_start": 1.2000000000000002,
            "bin_end": 1.6,
            "count": 0
           },
           {
            "bin_start": 1.6,
            "bin_end": 2,
            "count": 0
           },
           {
            "bin_start": 2,
            "bin_end": 2.4000000000000004,
            "count": 1
           },
           {
            "bin_start": 2.4000000000000004,
            "bin_end": 2.8000000000000003,
            "count": 0
           },
           {
            "bin_start": 2.8000000000000003,
            "bin_end": 3.2,
            "count": 1
           },
           {
            "bin_start": 3.2,
            "bin_end": 3.6,
            "count": 0
           },
           {
            "bin_start": 3.6,
            "bin_end": 4,
            "count": 1
           }
          ]
         }
        },
        {
         "name": "seller",
         "dtype": "int64",
         "stats": {
          "unique_count": 3,
          "nan_count": 0,
          "min": "0",
          "max": "3",
          "histogram": [
           {
            "bin_start": 0,
            "bin_end": 0.3,
            "count": 2
           },
           {
            "bin_start": 0.3,
            "bin_end": 0.6,
            "count": 0
           },
           {
            "bin_start": 0.6,
            "bin_end": 0.8999999999999999,
            "count": 0
           },
           {
            "bin_start": 0.8999999999999999,
            "bin_end": 1.2,
            "count": 1
           },
           {
            "bin_start": 1.2,
            "bin_end": 1.5,
            "count": 0
           },
           {
            "bin_start": 1.5,
            "bin_end": 1.7999999999999998,
            "count": 0
           },
           {
            "bin_start": 1.7999999999999998,
            "bin_end": 2.1,
            "count": 0
           },
           {
            "bin_start": 2.1,
            "bin_end": 2.4,
            "count": 0
           },
           {
            "bin_start": 2.4,
            "bin_end": 2.6999999999999997,
            "count": 0
           },
           {
            "bin_start": 2.6999999999999997,
            "bin_end": 3,
            "count": 2
           }
          ]
         }
        },
        {
         "name": "area_kitchen",
         "dtype": "float64",
         "stats": {
          "unique_count": 5,
          "nan_count": 0,
          "min": "12.5",
          "max": "22.5",
          "histogram": [
           {
            "bin_start": 12.5,
            "bin_end": 13.5,
            "count": 1
           },
           {
            "bin_start": 13.5,
            "bin_end": 14.5,
            "count": 2
           },
           {
            "bin_start": 14.5,
            "bin_end": 15.5,
            "count": 0
           },
           {
            "bin_start": 15.5,
            "bin_end": 16.5,
            "count": 0
           },
           {
            "bin_start": 16.5,
            "bin_end": 17.5,
            "count": 1
           },
           {
            "bin_start": 17.5,
            "bin_end": 18.5,
            "count": 0
           },
           {
            "bin_start": 18.5,
            "bin_end": 19.5,
            "count": 0
           },
           {
            "bin_start": 19.5,
            "bin_end": 20.5,
            "count": 0
           },
           {
            "bin_start": 20.5,
            "bin_end": 21.5,
            "count": 0
           },
           {
            "bin_start": 21.5,
            "bin_end": 22.5,
            "count": 1
           }
          ]
         }
        },
        {
         "name": "area_living",
         "dtype": "float64",
         "stats": {
          "unique_count": 4,
          "nan_count": 0,
          "min": "31.0",
          "max": "48.0",
          "histogram": [
           {
            "bin_start": 31,
            "bin_end": 32.7,
            "count": 1
           },
           {
            "bin_start": 32.7,
            "bin_end": 34.4,
            "count": 0
           },
           {
            "bin_start": 34.4,
            "bin_end": 36.1,
            "count": 1
           },
           {
            "bin_start": 36.1,
            "bin_end": 37.8,
            "count": 0
           },
           {
            "bin_start": 37.8,
            "bin_end": 39.5,
            "count": 0
           },
           {
            "bin_start": 39.5,
            "bin_end": 41.2,
            "count": 1
           },
           {
            "bin_start": 41.2,
            "bin_end": 42.9,
            "count": 0
           },
           {
            "bin_start": 42.9,
            "bin_end": 44.6,
            "count": 0
           },
           {
            "bin_start": 44.6,
            "bin_end": 46.3,
            "count": 0
           },
           {
            "bin_start": 46.3,
            "bin_end": 48,
            "count": 2
           }
          ]
         }
        },
        {
         "name": "floor",
         "dtype": "int64",
         "stats": {
          "unique_count": 4,
          "nan_count": 0,
          "min": "2",
          "max": "18",
          "histogram": [
           {
            "bin_start": 2,
            "bin_end": 3.6,
            "count": 1
           },
           {
            "bin_start": 3.6,
            "bin_end": 5.2,
            "count": 0
           },
           {
            "bin_start": 5.2,
            "bin_end": 6.800000000000001,
            "count": 0
           },
           {
            "bin_start": 6.800000000000001,
            "bin_end": 8.4,
            "count": 1
           },
           {
            "bin_start": 8.4,
            "bin_end": 10,
            "count": 0
           },
           {
            "bin_start": 10,
            "bin_end": 11.600000000000001,
            "count": 0
           },
           {
            "bin_start": 11.600000000000001,
            "bin_end": 13.200000000000001,
            "count": 1
           },
           {
            "bin_start": 13.200000000000001,
            "bin_end": 14.8,
            "count": 0
           },
           {
            "bin_start": 14.8,
            "bin_end": 16.4,
            "count": 0
           },
           {
            "bin_start": 16.4,
            "bin_end": 18,
            "count": 2
           }
          ]
         }
        },
        {
         "name": "rooms",
         "dtype": "int64",
         "stats": {
          "unique_count": 2,
          "nan_count": 0,
          "min": "2",
          "max": "3",
          "histogram": [
           {
            "bin_start": 2,
            "bin_end": 2.1,
            "count": 2
           },
           {
            "bin_start": 2.1,
            "bin_end": 2.2,
            "count": 0
           },
           {
            "bin_start": 2.2,
            "bin_end": 2.3,
            "count": 0
           },
           {
            "bin_start": 2.3,
            "bin_end": 2.4,
            "count": 0
           },
           {
            "bin_start": 2.4,
            "bin_end": 2.5,
            "count": 0
           },
           {
            "bin_start": 2.5,
            "bin_end": 2.6,
            "count": 0
           },
           {
            "bin_start": 2.6,
            "bin_end": 2.7,
            "count": 0
           },
           {
            "bin_start": 2.7,
            "bin_end": 2.8,
            "count": 0
           },
           {
            "bin_start": 2.8,
            "bin_end": 2.9,
            "count": 0
           },
           {
            "bin_start": 2.9,
            "bin_end": 3,
            "count": 3
           }
          ]
         }
        },
        {
         "name": "layout",
         "dtype": "int64",
         "stats": {
          "unique_count": 1,
          "nan_count": 0,
          "min": "1",
          "max": "1",
          "histogram": [
           {
            "bin_start": 0.5,
            "bin_end": 0.6,
            "count": 0
           },
           {
            "bin_start": 0.6,
            "bin_end": 0.7,
            "count": 0
           },
           {
            "bin_start": 0.7,
            "bin_end": 0.8,
            "count": 0
           },
           {
            "bin_start": 0.8,
            "bin_end": 0.9,
            "count": 0
           },
           {
            "bin_start": 0.9,
            "bin_end": 1,
            "count": 0
           },
           {
            "bin_start": 1,
            "bin_end": 1.1,
            "count": 5
           },
           {
            "bin_start": 1.1,
            "bin_end": 1.2000000000000002,
            "count": 0
           },
           {
            "bin_start": 1.2000000000000002,
            "bin_end": 1.3,
            "count": 0
           },
           {
            "bin_start": 1.3,
            "bin_end": 1.4,
            "count": 0
           },
           {
            "bin_start": 1.4,
            "bin_end": 1.5,
            "count": 0
           }
          ]
         }
        },
        {
         "name": "ceiling",
         "dtype": "int64",
         "stats": {
          "unique_count": 1,
          "nan_count": 0,
          "min": "3",
          "max": "3",
          "histogram": [
           {
            "bin_start": 2.5,
            "bin_end": 2.6,
            "count": 0
           },
           {
            "bin_start": 2.6,
            "bin_end": 2.7,
            "count": 0
           },
           {
            "bin_start": 2.7,
            "bin_end": 2.8,
            "count": 0
           },
           {
            "bin_start": 2.8,
            "bin_end": 2.9,
            "count": 0
           },
           {
            "bin_start": 2.9,
            "bin_end": 3,
            "count": 0
           },
           {
            "bin_start": 3,
            "bin_end": 3.1,
            "count": 5
           },
           {
            "bin_start": 3.1,
            "bin_end": 3.2,
            "count": 0
           },
           {
            "bin_start": 3.2,
            "bin_end": 3.3,
            "count": 0
           },
           {
            "bin_start": 3.3,
            "bin_end": 3.4,
            "count": 0
           },
           {
            "bin_start": 3.4,
            "bin_end": 3.5,
            "count": 0
           }
          ]
         }
        },
        {
         "name": "bathrooms_shared",
         "dtype": "int64",
         "stats": {
          "unique_count": 3,
          "nan_count": 0,
          "min": "0",
          "max": "2",
          "histogram": [
           {
            "bin_start": 0,
            "bin_end": 0.2,
            "count": 3
           },
           {
            "bin_start": 0.2,
            "bin_end": 0.4,
            "count": 0
           },
           {
            "bin_start": 0.4,
            "bin_end": 0.6000000000000001,
            "count": 0
           },
           {
            "bin_start": 0.6000000000000001,
            "bin_end": 0.8,
            "count": 0
           },
           {
            "bin_start": 0.8,
            "bin_end": 1,
            "count": 0
           },
           {
            "bin_start": 1,
            "bin_end": 1.2000000000000002,
            "count": 1
           },
           {
            "bin_start": 1.2000000000000002,
            "bin_end": 1.4000000000000001,
            "count": 0
           },
           {
            "bin_start": 1.4000000000000001,
            "bin_end": 1.6,
            "count": 0
           },
           {
            "bin_start": 1.6,
            "bin_end": 1.8,
            "count": 0
           },
           {
            "bin_start": 1.8,
            "bin_end": 2,
            "count": 1
           }
          ]
         }
        },
        {
         "name": "bathrooms_private",
         "dtype": "int64",
         "stats": {
          "unique_count": 2,
          "nan_count": 0,
          "min": "0",
          "max": "2",
          "histogram": [
           {
            "bin_start": 0,
            "bin_end": 0.2,
            "count": 2
           },
           {
            "bin_start": 0.2,
            "bin_end": 0.4,
            "count": 0
           },
           {
            "bin_start": 0.4,
            "bin_end": 0.6000000000000001,
            "count": 0
           },
           {
            "bin_start": 0.6000000000000001,
            "bin_end": 0.8,
            "count": 0
           },
           {
            "bin_start": 0.8,
            "bin_end": 1,
            "count": 0
           },
           {
            "bin_start": 1,
            "bin_end": 1.2000000000000002,
            "count": 0
           },
           {
            "bin_start": 1.2000000000000002,
            "bin_end": 1.4000000000000001,
            "count": 0
           },
           {
            "bin_start": 1.4000000000000001,
            "bin_end": 1.6,
            "count": 0
           },
           {
            "bin_start": 1.6,
            "bin_end": 1.8,
            "count": 0
           },
           {
            "bin_start": 1.8,
            "bin_end": 2,
            "count": 3
           }
          ]
         }
        },
        {
         "name": "windows_court",
         "dtype": "int64",
         "stats": {
          "unique_count": 2,
          "nan_count": 0,
          "min": "0",
          "max": "1",
          "histogram": [
           {
            "bin_start": 0,
            "bin_end": 0.1,
            "count": 1
           },
           {
            "bin_start": 0.1,
            "bin_end": 0.2,
            "count": 0
           },
           {
            "bin_start": 0.2,
            "bin_end": 0.30000000000000004,
            "count": 0
           },
           {
            "bin_start": 0.30000000000000004,
            "bin_end": 0.4,
            "count": 0
           },
           {
            "bin_start": 0.4,
            "bin_end": 0.5,
            "count": 0
           },
           {
            "bin_start": 0.5,
            "bin_end": 0.6000000000000001,
            "count": 0
           },
           {
            "bin_start": 0.6000000000000001,
            "bin_end": 0.7000000000000001,
            "count": 0
           },
           {
            "bin_start": 0.7000000000000001,
            "bin_end": 0.8,
            "count": 0
           },
           {
            "bin_start": 0.8,
            "bin_end": 0.9,
            "count": 0
           },
           {
            "bin_start": 0.9,
            "bin_end": 1,
            "count": 4
           }
          ]
         }
        },
        {
         "name": "windows_street",
         "dtype": "int64",
         "stats": {
          "unique_count": 1,
          "nan_count": 0,
          "min": "1",
          "max": "1",
          "histogram": [
           {
            "bin_start": 0.5,
            "bin_end": 0.6,
            "count": 0
           },
           {
            "bin_start": 0.6,
            "bin_end": 0.7,
            "count": 0
           },
           {
            "bin_start": 0.7,
            "bin_end": 0.8,
            "count": 0
           },
           {
            "bin_start": 0.8,
            "bin_end": 0.9,
            "count": 0
           },
           {
            "bin_start": 0.9,
            "bin_end": 1,
            "count": 0
           },
           {
            "bin_start": 1,
            "bin_end": 1.1,
            "count": 5
           },
           {
            "bin_start": 1.1,
            "bin_end": 1.2000000000000002,
            "count": 0
           },
           {
            "bin_start": 1.2000000000000002,
            "bin_end": 1.3,
            "count": 0
           },
           {
            "bin_start": 1.3,
            "bin_end": 1.4,
            "count": 0
           },
           {
            "bin_start": 1.4,
            "bin_end": 1.5,
            "count": 0
           }
          ]
         }
        },
        {
         "name": "balconies",
         "dtype": "int64",
         "stats": {
          "unique_count": 2,
          "nan_count": 0,
          "min": "0",
          "max": "1",
          "histogram": [
           {
            "bin_start": 0,
            "bin_end": 0.1,
            "count": 2
           },
           {
            "bin_start": 0.1,
            "bin_end": 0.2,
            "count": 0
           },
           {
            "bin_start": 0.2,
            "bin_end": 0.30000000000000004,
            "count": 0
           },
           {
            "bin_start": 0.30000000000000004,
            "bin_end": 0.4,
            "count": 0
           },
           {
            "bin_start": 0.4,
            "bin_end": 0.5,
            "count": 0
           },
           {
            "bin_start": 0.5,
            "bin_end": 0.6000000000000001,
            "count": 0
           },
           {
            "bin_start": 0.6000000000000001,
            "bin_end": 0.7000000000000001,
            "count": 0
           },
           {
            "bin_start": 0.7000000000000001,
            "bin_end": 0.8,
            "count": 0
           },
           {
            "bin_start": 0.8,
            "bin_end": 0.9,
            "count": 0
           },
           {
            "bin_start": 0.9,
            "bin_end": 1,
            "count": 3
           }
          ]
         }
        },
        {
         "name": "loggias",
         "dtype": "int64",
         "stats": {
          "unique_count": 2,
          "nan_count": 0,
          "min": "0",
          "max": "1",
          "histogram": [
           {
            "bin_start": 0,
            "bin_end": 0.1,
            "count": 2
           },
           {
            "bin_start": 0.1,
            "bin_end": 0.2,
            "count": 0
           },
           {
            "bin_start": 0.2,
            "bin_end": 0.30000000000000004,
            "count": 0
           },
           {
            "bin_start": 0.30000000000000004,
            "bin_end": 0.4,
            "count": 0
           },
           {
            "bin_start": 0.4,
            "bin_end": 0.5,
            "count": 0
           },
           {
            "bin_start": 0.5,
            "bin_end": 0.6000000000000001,
            "count": 0
           },
           {
            "bin_start": 0.6000000000000001,
            "bin_end": 0.7000000000000001,
            "count": 0
           },
           {
            "bin_start": 0.7000000000000001,
            "bin_end": 0.8,
            "count": 0
           },
           {
            "bin_start": 0.8,
            "bin_end": 0.9,
            "count": 0
           },
           {
            "bin_start": 0.9,
            "bin_end": 1,
            "count": 3
           }
          ]
         }
        },
        {
         "name": "condition",
         "dtype": "int64",
         "stats": {
          "unique_count": 3,
          "nan_count": 0,
          "min": "1",
          "max": "3",
          "histogram": [
           {
            "bin_start": 1,
            "bin_end": 1.2,
            "count": 2
           },
           {
            "bin_start": 1.2,
            "bin_end": 1.4,
            "count": 0
           },
           {
            "bin_start": 1.4,
            "bin_end": 1.6,
            "count": 0
           },
           {
            "bin_start": 1.6,
            "bin_end": 1.8,
            "count": 0
           },
           {
            "bin_start": 1.8,
            "bin_end": 2,
            "count": 0
           },
           {
            "bin_start": 2,
            "bin_end": 2.2,
            "count": 1
           },
           {
            "bin_start": 2.2,
            "bin_end": 2.4000000000000004,
            "count": 0
           },
           {
            "bin_start": 2.4000000000000004,
            "bin_end": 2.6,
            "count": 0
           },
           {
            "bin_start": 2.6,
            "bin_end": 2.8,
            "count": 0
           },
           {
            "bin_start": 2.8,
            "bin_end": 3,
            "count": 2
           }
          ]
         }
        },
        {
         "name": "phones",
         "dtype": "int64",
         "stats": {
          "unique_count": 1,
          "nan_count": 0,
          "min": "1",
          "max": "1",
          "histogram": [
           {
            "bin_start": 0.5,
            "bin_end": 0.6,
            "count": 0
           },
           {
            "bin_start": 0.6,
            "bin_end": 0.7,
            "count": 0
           },
           {
            "bin_start": 0.7,
            "bin_end": 0.8,
            "count": 0
           },
           {
            "bin_start": 0.8,
            "bin_end": 0.9,
            "count": 0
           },
           {
            "bin_start": 0.9,
            "bin_end": 1,
            "count": 0
           },
           {
            "bin_start": 1,
            "bin_end": 1.1,
            "count": 5
           },
           {
            "bin_start": 1.1,
            "bin_end": 1.2000000000000002,
            "count": 0
           },
           {
            "bin_start": 1.2000000000000002,
            "bin_end": 1.3,
            "count": 0
           },
           {
            "bin_start": 1.3,
            "bin_end": 1.4,
            "count": 0
           },
           {
            "bin_start": 1.4,
            "bin_end": 1.5,
            "count": 0
           }
          ]
         }
        },
        {
         "name": "building_id",
         "dtype": "int64",
         "stats": {
          "unique_count": 4,
          "nan_count": 0,
          "min": "1893",
          "max": "6604",
          "histogram": [
           {
            "bin_start": 1893,
            "bin_end": 2364.1,
            "count": 2
           },
           {
            "bin_start": 2364.1,
            "bin_end": 2835.2,
            "count": 0
           },
           {
            "bin_start": 2835.2,
            "bin_end": 3306.3,
            "count": 0
           },
           {
            "bin_start": 3306.3,
            "bin_end": 3777.4,
            "count": 0
           },
           {
            "bin_start": 3777.4,
            "bin_end": 4248.5,
            "count": 1
           },
           {
            "bin_start": 4248.5,
            "bin_end": 4719.6,
            "count": 0
           },
           {
            "bin_start": 4719.6,
            "bin_end": 5190.700000000001,
            "count": 1
           },
           {
            "bin_start": 5190.700000000001,
            "bin_end": 5661.8,
            "count": 0
           },
           {
            "bin_start": 5661.8,
            "bin_end": 6132.900000000001,
            "count": 0
           },
           {
            "bin_start": 6132.900000000001,
            "bin_end": 6604,
            "count": 1
           }
          ]
         }
        },
        {
         "name": "new",
         "dtype": "int64",
         "stats": {
          "unique_count": 2,
          "nan_count": 0,
          "min": "0",
          "max": "1",
          "histogram": [
           {
            "bin_start": 0,
            "bin_end": 0.1,
            "count": 3
           },
           {
            "bin_start": 0.1,
            "bin_end": 0.2,
            "count": 0
           },
           {
            "bin_start": 0.2,
            "bin_end": 0.30000000000000004,
            "count": 0
           },
           {
            "bin_start": 0.30000000000000004,
            "bin_end": 0.4,
            "count": 0
           },
           {
            "bin_start": 0.4,
            "bin_end": 0.5,
            "count": 0
           },
           {
            "bin_start": 0.5,
            "bin_end": 0.6000000000000001,
            "count": 0
           },
           {
            "bin_start": 0.6000000000000001,
            "bin_end": 0.7000000000000001,
            "count": 0
           },
           {
            "bin_start": 0.7000000000000001,
            "bin_end": 0.8,
            "count": 0
           },
           {
            "bin_start": 0.8,
            "bin_end": 0.9,
            "count": 0
           },
           {
            "bin_start": 0.9,
            "bin_end": 1,
            "count": 2
           }
          ]
         }
        },
        {
         "name": "district",
         "dtype": "int64",
         "stats": {
          "unique_count": 3,
          "nan_count": 0,
          "min": "2",
          "max": "11",
          "histogram": [
           {
            "bin_start": 2,
            "bin_end": 2.9,
            "count": 2
           },
           {
            "bin_start": 2.9,
            "bin_end": 3.8,
            "count": 0
           },
           {
            "bin_start": 3.8,
            "bin_end": 4.7,
            "count": 0
           },
           {
            "bin_start": 4.7,
            "bin_end": 5.6,
            "count": 0
           },
           {
            "bin_start": 5.6,
            "bin_end": 6.5,
            "count": 1
           },
           {
            "bin_start": 6.5,
            "bin_end": 7.4,
            "count": 0
           },
           {
            "bin_start": 7.4,
            "bin_end": 8.3,
            "count": 0
           },
           {
            "bin_start": 8.3,
            "bin_end": 9.2,
            "count": 0
           },
           {
            "bin_start": 9.2,
            "bin_end": 10.1,
            "count": 0
           },
           {
            "bin_start": 10.1,
            "bin_end": 11,
            "count": 2
           }
          ]
         }
        },
        {
         "name": "constructed",
         "dtype": "int64",
         "stats": {
          "unique_count": 3,
          "nan_count": 0,
          "min": "2010",
          "max": "2021",
          "histogram": [
           {
            "bin_start": 2010,
            "bin_end": 2011.1,
            "count": 2
           },
           {
            "bin_start": 2011.1,
            "bin_end": 2012.2,
            "count": 0
           },
           {
            "bin_start": 2012.2,
            "bin_end": 2013.3,
            "count": 0
           },
           {
            "bin_start": 2013.3,
            "bin_end": 2014.4,
            "count": 0
           },
           {
            "bin_start": 2014.4,
            "bin_end": 2015.5,
            "count": 0
           },
           {
            "bin_start": 2015.5,
            "bin_end": 2016.6,
            "count": 0
           },
           {
            "bin_start": 2016.6,
            "bin_end": 2017.7,
            "count": 1
           },
           {
            "bin_start": 2017.7,
            "bin_end": 2018.8,
            "count": 0
           },
           {
            "bin_start": 2018.8,
            "bin_end": 2019.9,
            "count": 0
           },
           {
            "bin_start": 2019.9,
            "bin_end": 2021,
            "count": 2
           }
          ]
         }
        },
        {
         "name": "material",
         "dtype": "int64",
         "stats": {
          "unique_count": 2,
          "nan_count": 0,
          "min": "2",
          "max": "3",
          "histogram": [
           {
            "bin_start": 2,
            "bin_end": 2.1,
            "count": 1
           },
           {
            "bin_start": 2.1,
            "bin_end": 2.2,
            "count": 0
           },
           {
            "bin_start": 2.2,
            "bin_end": 2.3,
            "count": 0
           },
           {
            "bin_start": 2.3,
            "bin_end": 2.4,
            "count": 0
           },
           {
            "bin_start": 2.4,
            "bin_end": 2.5,
            "count": 0
           },
           {
            "bin_start": 2.5,
            "bin_end": 2.6,
            "count": 0
           },
           {
            "bin_start": 2.6,
            "bin_end": 2.7,
            "count": 0
           },
           {
            "bin_start": 2.7,
            "bin_end": 2.8,
            "count": 0
           },
           {
            "bin_start": 2.8,
            "bin_end": 2.9,
            "count": 0
           },
           {
            "bin_start": 2.9,
            "bin_end": 3,
            "count": 4
           }
          ]
         }
        },
        {
         "name": "stories",
         "dtype": "int64",
         "stats": {
          "unique_count": 3,
          "nan_count": 0,
          "min": "9",
          "max": "25",
          "histogram": [
           {
            "bin_start": 9,
            "bin_end": 10.6,
            "count": 1
           },
           {
            "bin_start": 10.6,
            "bin_end": 12.2,
            "count": 0
           },
           {
            "bin_start": 12.2,
            "bin_end": 13.8,
            "count": 0
           },
           {
            "bin_start": 13.8,
            "bin_end": 15.4,
            "count": 2
           },
           {
            "bin_start": 15.4,
            "bin_end": 17,
            "count": 0
           },
           {
            "bin_start": 17,
            "bin_end": 18.6,
            "count": 0
           },
           {
            "bin_start": 18.6,
            "bin_end": 20.200000000000003,
            "count": 0
           },
           {
            "bin_start": 20.200000000000003,
            "bin_end": 21.8,
            "count": 0
           },
           {
            "bin_start": 21.8,
            "bin_end": 23.4,
            "count": 0
           },
           {
            "bin_start": 23.4,
            "bin_end": 25,
            "count": 2
           }
          ]
         }
        },
        {
         "name": "elevator_without",
         "dtype": "int64",
         "stats": {
          "unique_count": 1,
          "nan_count": 0,
          "min": "0",
          "max": "0",
          "histogram": [
           {
            "bin_start": -0.5,
            "bin_end": -0.4,
            "count": 0
           },
           {
            "bin_start": -0.4,
            "bin_end": -0.3,
            "count": 0
           },
           {
            "bin_start": -0.3,
            "bin_end": -0.19999999999999996,
            "count": 0
           },
           {
            "bin_start": -0.19999999999999996,
            "bin_end": -0.09999999999999998,
            "count": 0
           },
           {
            "bin_start": -0.09999999999999998,
            "bin_end": 0,
            "count": 0
           },
           {
            "bin_start": 0,
            "bin_end": 0.10000000000000009,
            "count": 5
           },
           {
            "bin_start": 0.10000000000000009,
            "bin_end": 0.20000000000000007,
            "count": 0
           },
           {
            "bin_start": 0.20000000000000007,
            "bin_end": 0.30000000000000004,
            "count": 0
           },
           {
            "bin_start": 0.30000000000000004,
            "bin_end": 0.4,
            "count": 0
           },
           {
            "bin_start": 0.4,
            "bin_end": 0.5,
            "count": 0
           }
          ]
         }
        },
        {
         "name": "elevator_passenger",
         "dtype": "int64",
         "stats": {
          "unique_count": 1,
          "nan_count": 0,
          "min": "1",
          "max": "1",
          "histogram": [
           {
            "bin_start": 0.5,
            "bin_end": 0.6,
            "count": 0
           },
           {
            "bin_start": 0.6,
            "bin_end": 0.7,
            "count": 0
           },
           {
            "bin_start": 0.7,
            "bin_end": 0.8,
            "count": 0
           },
           {
            "bin_start": 0.8,
            "bin_end": 0.9,
            "count": 0
           },
           {
            "bin_start": 0.9,
            "bin_end": 1,
            "count": 0
           },
           {
            "bin_start": 1,
            "bin_end": 1.1,
            "count": 5
           },
           {
            "bin_start": 1.1,
            "bin_end": 1.2000000000000002,
            "count": 0
           },
           {
            "bin_start": 1.2000000000000002,
            "bin_end": 1.3,
            "count": 0
           },
           {
            "bin_start": 1.3,
            "bin_end": 1.4,
            "count": 0
           },
           {
            "bin_start": 1.4,
            "bin_end": 1.5,
            "count": 0
           }
          ]
         }
        },
        {
         "name": "elevator_service",
         "dtype": "int64",
         "stats": {
          "unique_count": 1,
          "nan_count": 0,
          "min": "1",
          "max": "1",
          "histogram": [
           {
            "bin_start": 0.5,
            "bin_end": 0.6,
            "count": 0
           },
           {
            "bin_start": 0.6,
            "bin_end": 0.7,
            "count": 0
           },
           {
            "bin_start": 0.7,
            "bin_end": 0.8,
            "count": 0
           },
           {
            "bin_start": 0.8,
            "bin_end": 0.9,
            "count": 0
           },
           {
            "bin_start": 0.9,
            "bin_end": 1,
            "count": 0
           },
           {
            "bin_start": 1,
            "bin_end": 1.1,
            "count": 5
           },
           {
            "bin_start": 1.1,
            "bin_end": 1.2000000000000002,
            "count": 0
           },
           {
            "bin_start": 1.2000000000000002,
            "bin_end": 1.3,
            "count": 0
           },
           {
            "bin_start": 1.3,
            "bin_end": 1.4,
            "count": 0
           },
           {
            "bin_start": 1.4,
            "bin_end": 1.5,
            "count": 0
           }
          ]
         }
        },
        {
         "name": "parking",
         "dtype": "int64",
         "stats": {
          "unique_count": 1,
          "nan_count": 0,
          "min": "1",
          "max": "1",
          "histogram": [
           {
            "bin_start": 0.5,
            "bin_end": 0.6,
            "count": 0
           },
           {
            "bin_start": 0.6,
            "bin_end": 0.7,
            "count": 0
           },
           {
            "bin_start": 0.7,
            "bin_end": 0.8,
            "count": 0
           },
           {
            "bin_start": 0.8,
            "bin_end": 0.9,
            "count": 0
           },
           {
            "bin_start": 0.9,
            "bin_end": 1,
            "count": 0
           },
           {
            "bin_start": 1,
            "bin_end": 1.1,
            "count": 5
           },
           {
            "bin_start": 1.1,
            "bin_end": 1.2000000000000002,
            "count": 0
           },
           {
            "bin_start": 1.2000000000000002,
            "bin_end": 1.3,
            "count": 0
           },
           {
            "bin_start": 1.3,
            "bin_end": 1.4,
            "count": 0
           },
           {
            "bin_start": 1.4,
            "bin_end": 1.5,
            "count": 0
           }
          ]
         }
        },
        {
         "name": "garbage_chute",
         "dtype": "int64",
         "stats": {
          "unique_count": 2,
          "nan_count": 0,
          "min": "0",
          "max": "1",
          "histogram": [
           {
            "bin_start": 0,
            "bin_end": 0.1,
            "count": 2
           },
           {
            "bin_start": 0.1,
            "bin_end": 0.2,
            "count": 0
           },
           {
            "bin_start": 0.2,
            "bin_end": 0.30000000000000004,
            "count": 0
           },
           {
            "bin_start": 0.30000000000000004,
            "bin_end": 0.4,
            "count": 0
           },
           {
            "bin_start": 0.4,
            "bin_end": 0.5,
            "count": 0
           },
           {
            "bin_start": 0.5,
            "bin_end": 0.6000000000000001,
            "count": 0
           },
           {
            "bin_start": 0.6000000000000001,
            "bin_end": 0.7000000000000001,
            "count": 0
           },
           {
            "bin_start": 0.7000000000000001,
            "bin_end": 0.8,
            "count": 0
           },
           {
            "bin_start": 0.8,
            "bin_end": 0.9,
            "count": 0
           },
           {
            "bin_start": 0.9,
            "bin_end": 1,
            "count": 3
           }
          ]
         }
        },
        {
         "name": "heating",
         "dtype": "int64",
         "stats": {
          "unique_count": 1,
          "nan_count": 0,
          "min": "0",
          "max": "0",
          "histogram": [
           {
            "bin_start": -0.5,
            "bin_end": -0.4,
            "count": 0
           },
           {
            "bin_start": -0.4,
            "bin_end": -0.3,
            "count": 0
           },
           {
            "bin_start": -0.3,
            "bin_end": -0.19999999999999996,
            "count": 0
           },
           {
            "bin_start": -0.19999999999999996,
            "bin_end": -0.09999999999999998,
            "count": 0
           },
           {
            "bin_start": -0.09999999999999998,
            "bin_end": 0,
            "count": 0
           },
           {
            "bin_start": 0,
            "bin_end": 0.10000000000000009,
            "count": 5
           },
           {
            "bin_start": 0.10000000000000009,
            "bin_end": 0.20000000000000007,
            "count": 0
           },
           {
            "bin_start": 0.20000000000000007,
            "bin_end": 0.30000000000000004,
            "count": 0
           },
           {
            "bin_start": 0.30000000000000004,
            "bin_end": 0.4,
            "count": 0
           },
           {
            "bin_start": 0.4,
            "bin_end": 0.5,
            "count": 0
           }
          ]
         }
        },
        {
         "name": "street",
         "dtype": "int64",
         "stats": {
          "unique_count": 4,
          "nan_count": 0,
          "min": "267",
          "max": "1589",
          "histogram": [
           {
            "bin_start": 267,
            "bin_end": 399.2,
            "count": 1
           },
           {
            "bin_start": 399.2,
            "bin_end": 531.4,
            "count": 0
           },
           {
            "bin_start": 531.4,
            "bin_end": 663.5999999999999,
            "count": 0
           },
           {
            "bin_start": 663.5999999999999,
            "bin_end": 795.8,
            "count": 1
           },
           {
            "bin_start": 795.8,
            "bin_end": 928,
            "count": 0
           },
           {
            "bin_start": 928,
            "bin_end": 1060.1999999999998,
            "count": 0
           },
           {
            "bin_start": 1060.1999999999998,
            "bin_end": 1192.3999999999999,
            "count": 0
           },
           {
            "bin_start": 1192.3999999999999,
            "bin_end": 1324.6,
            "count": 0
           },
           {
            "bin_start": 1324.6,
            "bin_end": 1456.8,
            "count": 0
           },
           {
            "bin_start": 1456.8,
            "bin_end": 1589,
            "count": 3
           }
          ]
         }
        },
        {
         "name": "distance",
         "dtype": "float64",
         "stats": {
          "unique_count": 4,
          "nan_count": 0,
          "min": "0.12118261272146193",
          "max": "0.2393483510304599",
          "histogram": [
           {
            "bin_start": 0.12118261272146193,
            "bin_end": 0.13299918655236173,
            "count": 3
           },
           {
            "bin_start": 0.13299918655236173,
            "bin_end": 0.14481576038326152,
            "count": 0
           },
           {
            "bin_start": 0.14481576038326152,
            "bin_end": 0.1566323342141613,
            "count": 0
           },
           {
            "bin_start": 0.1566323342141613,
            "bin_end": 0.16844890804506113,
            "count": 0
           },
           {
            "bin_start": 0.16844890804506113,
            "bin_end": 0.18026548187596092,
            "count": 0
           },
           {
            "bin_start": 0.18026548187596092,
            "bin_end": 0.1920820557068607,
            "count": 0
           },
           {
            "bin_start": 0.1920820557068607,
            "bin_end": 0.2038986295377605,
            "count": 0
           },
           {
            "bin_start": 0.2038986295377605,
            "bin_end": 0.2157152033686603,
            "count": 0
           },
           {
            "bin_start": 0.2157152033686603,
            "bin_end": 0.22753177719956008,
            "count": 1
           },
           {
            "bin_start": 0.22753177719956008,
            "bin_end": 0.2393483510304599,
            "count": 1
           }
          ]
         }
        },
        {
         "name": "_deepnote_index_column",
         "dtype": "int64"
        }
       ],
       "rows_top": [
        {
         "id": 0,
         "seller": 3,
         "area_kitchen": 12.5,
         "area_living": 31,
         "floor": 2,
         "rooms": 2,
         "layout": 1,
         "ceiling": 3,
         "bathrooms_shared": 0,
         "bathrooms_private": 2,
         "windows_court": 0,
         "windows_street": 1,
         "balconies": 1,
         "loggias": 1,
         "condition": 1,
         "phones": 1,
         "building_id": 4076,
         "new": 1,
         "district": 11,
         "constructed": 2021,
         "material": 3,
         "stories": 9,
         "elevator_without": 0,
         "elevator_passenger": 1,
         "elevator_service": 1,
         "parking": 1,
         "garbage_chute": 1,
         "heating": 0,
         "street": 267,
         "distance": 0.2393483510304599,
         "_deepnote_index_column": 0
        },
        {
         "id": 1,
         "seller": 0,
         "area_kitchen": 14.2,
         "area_living": 48,
         "floor": 18,
         "rooms": 3,
         "layout": 1,
         "ceiling": 3,
         "bathrooms_shared": 2,
         "bathrooms_private": 0,
         "windows_court": 1,
         "windows_street": 1,
         "balconies": 1,
         "loggias": 0,
         "condition": 3,
         "phones": 1,
         "building_id": 1893,
         "new": 0,
         "district": 2,
         "constructed": 2010,
         "material": 3,
         "stories": 25,
         "elevator_without": 0,
         "elevator_passenger": 1,
         "elevator_service": 1,
         "parking": 1,
         "garbage_chute": 1,
         "heating": 0,
         "street": 1561,
         "distance": 0.1297131686953954,
         "_deepnote_index_column": 1
        },
        {
         "id": 2,
         "seller": 3,
         "area_kitchen": 22.5,
         "area_living": 40.8,
         "floor": 12,
         "rooms": 3,
         "layout": 1,
         "ceiling": 3,
         "bathrooms_shared": 0,
         "bathrooms_private": 2,
         "windows_court": 1,
         "windows_street": 1,
         "balconies": 1,
         "loggias": 0,
         "condition": 1,
         "phones": 1,
         "building_id": 5176,
         "new": 1,
         "district": 6,
         "constructed": 2021,
         "material": 3,
         "stories": 15,
         "elevator_without": 0,
         "elevator_passenger": 1,
         "elevator_service": 1,
         "parking": 1,
         "garbage_chute": 0,
         "heating": 0,
         "street": 774,
         "distance": 0.12118261272146193,
         "_deepnote_index_column": 2
        },
        {
         "id": 3,
         "seller": 0,
         "area_kitchen": 14,
         "area_living": 48,
         "floor": 18,
         "rooms": 3,
         "layout": 1,
         "ceiling": 3,
         "bathrooms_shared": 0,
         "bathrooms_private": 2,
         "windows_court": 1,
         "windows_street": 1,
         "balconies": 0,
         "loggias": 1,
         "condition": 2,
         "phones": 1,
         "building_id": 1893,
         "new": 0,
         "district": 2,
         "constructed": 2010,
         "material": 3,
         "stories": 25,
         "elevator_without": 0,
         "elevator_passenger": 1,
         "elevator_service": 1,
         "parking": 1,
         "garbage_chute": 1,
         "heating": 0,
         "street": 1561,
         "distance": 0.1297131686953954,
         "_deepnote_index_column": 3
        },
        {
         "id": 4,
         "seller": 1,
         "area_kitchen": 17,
         "area_living": 35,
         "floor": 7,
         "rooms": 2,
         "layout": 1,
         "ceiling": 3,
         "bathrooms_shared": 1,
         "bathrooms_private": 0,
         "windows_court": 1,
         "windows_street": 1,
         "balconies": 0,
         "loggias": 1,
         "condition": 3,
         "phones": 1,
         "building_id": 6604,
         "new": 0,
         "district": 11,
         "constructed": 2017,
         "material": 2,
         "stories": 15,
         "elevator_without": 0,
         "elevator_passenger": 1,
         "elevator_service": 1,
         "parking": 1,
         "garbage_chute": 0,
         "heating": 0,
         "street": 1589,
         "distance": 0.21776153027796374,
         "_deepnote_index_column": 4
        }
       ],
       "rows_bottom": null
      },
      "text/plain": "   id  seller  area_kitchen  area_living  floor  rooms  layout  ceiling  \\\n0   0       3          12.5         31.0      2      2       1        3   \n1   1       0          14.2         48.0     18      3       1        3   \n2   2       3          22.5         40.8     12      3       1        3   \n3   3       0          14.0         48.0     18      3       1        3   \n4   4       1          17.0         35.0      7      2       1        3   \n\n   bathrooms_shared  bathrooms_private  ...  material  stories  \\\n0                 0                  2  ...         3        9   \n1                 2                  0  ...         3       25   \n2                 0                  2  ...         3       15   \n3                 0                  2  ...         3       25   \n4                 1                  0  ...         2       15   \n\n   elevator_without  elevator_passenger  elevator_service  parking  \\\n0                 0                   1                 1        1   \n1                 0                   1                 1        1   \n2                 0                   1                 1        1   \n3                 0                   1                 1        1   \n4                 0                   1                 1        1   \n\n   garbage_chute  heating  street  distance  \n0              1        0     267  0.239348  \n1              1        0    1561  0.129713  \n2              0        0     774  0.121183  \n3              1        0    1561  0.129713  \n4              0        0    1589  0.217762  \n\n[5 rows x 30 columns]",
      "text/html": "<div>\n<style scoped>\n    .dataframe tbody tr th:only-of-type {\n        vertical-align: middle;\n    }\n\n    .dataframe tbody tr th {\n        vertical-align: top;\n    }\n\n    .dataframe thead th {\n        text-align: right;\n    }\n</style>\n<table border=\"1\" class=\"dataframe\">\n  <thead>\n    <tr style=\"text-align: right;\">\n      <th></th>\n      <th>id</th>\n      <th>seller</th>\n      <th>area_kitchen</th>\n      <th>area_living</th>\n      <th>floor</th>\n      <th>rooms</th>\n      <th>layout</th>\n      <th>ceiling</th>\n      <th>bathrooms_shared</th>\n      <th>bathrooms_private</th>\n      <th>...</th>\n      <th>material</th>\n      <th>stories</th>\n      <th>elevator_without</th>\n      <th>elevator_passenger</th>\n      <th>elevator_service</th>\n      <th>parking</th>\n      <th>garbage_chute</th>\n      <th>heating</th>\n      <th>street</th>\n      <th>distance</th>\n    </tr>\n  </thead>\n  <tbody>\n    <tr>\n      <th>0</th>\n      <td>0</td>\n      <td>3</td>\n      <td>12.5</td>\n      <td>31.0</td>\n      <td>2</td>\n      <td>2</td>\n      <td>1</td>\n      <td>3</td>\n      <td>0</td>\n      <td>2</td>\n      <td>...</td>\n      <td>3</td>\n      <td>9</td>\n      <td>0</td>\n      <td>1</td>\n      <td>1</td>\n      <td>1</td>\n      <td>1</td>\n      <td>0</td>\n      <td>267</td>\n      <td>0.239348</td>\n    </tr>\n    <tr>\n      <th>1</th>\n      <td>1</td>\n      <td>0</td>\n      <td>14.2</td>\n      <td>48.0</td>\n      <td>18</td>\n      <td>3</td>\n      <td>1</td>\n      <td>3</td>\n      <td>2</td>\n      <td>0</td>\n      <td>...</td>\n      <td>3</td>\n      <td>25</td>\n      <td>0</td>\n      <td>1</td>\n      <td>1</td>\n      <td>1</td>\n      <td>1</td>\n      <td>0</td>\n      <td>1561</td>\n      <td>0.129713</td>\n    </tr>\n    <tr>\n      <th>2</th>\n      <td>2</td>\n      <td>3</td>\n      <td>22.5</td>\n      <td>40.8</td>\n      <td>12</td>\n      <td>3</td>\n      <td>1</td>\n      <td>3</td>\n      <td>0</td>\n      <td>2</td>\n      <td>...</td>\n      <td>3</td>\n      <td>15</td>\n      <td>0</td>\n      <td>1</td>\n      <td>1</td>\n      <td>1</td>\n      <td>0</td>\n      <td>0</td>\n      <td>774</td>\n      <td>0.121183</td>\n    </tr>\n    <tr>\n      <th>3</th>\n      <td>3</td>\n      <td>0</td>\n      <td>14.0</td>\n      <td>48.0</td>\n      <td>18</td>\n      <td>3</td>\n      <td>1</td>\n      <td>3</td>\n      <td>0</td>\n      <td>2</td>\n      <td>...</td>\n      <td>3</td>\n      <td>25</td>\n      <td>0</td>\n      <td>1</td>\n      <td>1</td>\n      <td>1</td>\n      <td>1</td>\n      <td>0</td>\n      <td>1561</td>\n      <td>0.129713</td>\n    </tr>\n    <tr>\n      <th>4</th>\n      <td>4</td>\n      <td>1</td>\n      <td>17.0</td>\n      <td>35.0</td>\n      <td>7</td>\n      <td>2</td>\n      <td>1</td>\n      <td>3</td>\n      <td>1</td>\n      <td>0</td>\n      <td>...</td>\n      <td>2</td>\n      <td>15</td>\n      <td>0</td>\n      <td>1</td>\n      <td>1</td>\n      <td>1</td>\n      <td>0</td>\n      <td>0</td>\n      <td>1589</td>\n      <td>0.217762</td>\n    </tr>\n  </tbody>\n</table>\n<p>5 rows × 30 columns</p>\n</div>"
     },
     "metadata": {}
    }
   ],
   "execution_count": null
  },
  {
   "cell_type": "code",
   "metadata": {
    "tags": [],
    "cell_id": "00006-6f67b1d9-1f53-4ca5-83cd-f014a5c91a37",
    "deepnote_to_be_reexecuted": false,
    "source_hash": "b623e53d",
    "execution_start": 1637337976772,
    "execution_millis": 831875,
    "deepnote_cell_type": "code"
   },
   "source": "",
   "outputs": [],
   "execution_count": null
  },
  {
   "cell_type": "code",
   "metadata": {
    "tags": [],
    "cell_id": "00006-5efb1a67-b906-496a-aa52-1b49b6ec7139",
    "deepnote_to_be_reexecuted": false,
    "source_hash": "8a389816",
    "execution_start": 1637337976772,
    "execution_millis": 49,
    "deepnote_cell_type": "code"
   },
   "source": "import lightgbm",
   "outputs": [],
   "execution_count": null
  },
  {
   "cell_type": "code",
   "metadata": {
    "tags": [],
    "cell_id": "00007-b27aff17-42fb-4117-b388-59e1f8c68c31",
    "deepnote_to_be_reexecuted": false,
    "source_hash": "84b84625",
    "execution_start": 1637337976879,
    "execution_millis": 0,
    "deepnote_output_heights": [
     21.1875
    ],
    "deepnote_cell_type": "code"
   },
   "source": "X_train1, X_val1, y_train, y_val = train_test_split(data_train, target_train, test_size = 0.2, random_state=42)\n\nX_train1.shape, X_val1.shape, y_train.shape, y_val.shape\nX_train = X_train1.drop(['id'], axis=1)\nX_val = X_val1.drop(['id'], axis=1)",
   "outputs": [],
   "execution_count": null
  },
  {
   "cell_type": "code",
   "metadata": {
    "tags": [],
    "cell_id": "00009-93c0e819-f497-4c22-aa6a-d704a8f29487",
    "deepnote_to_be_reexecuted": false,
    "source_hash": "185dcdb9",
    "execution_start": 1637337976880,
    "execution_millis": 831886,
    "deepnote_cell_type": "code"
   },
   "source": "\n\n#cat_feature\n#cat_feature_indices = np.array([ 3,6,10,15,16,20,21,24,25])",
   "outputs": [],
   "execution_count": null
  },
  {
   "cell_type": "code",
   "metadata": {
    "tags": [],
    "cell_id": "00007-38145f9a-5bf9-41d5-8e50-24fe75ec32d4",
    "deepnote_to_be_reexecuted": false,
    "source_hash": "e4028ab5",
    "execution_start": 1637337976915,
    "execution_millis": 831885,
    "deepnote_cell_type": "code"
   },
   "source": "train_data = lightgbm.Dataset(X_train, label = y_train)\ntest_data = lightgbm.Dataset(X_val, label = y_val)",
   "outputs": [],
   "execution_count": null
  },
  {
   "cell_type": "code",
   "metadata": {
    "tags": [],
    "cell_id": "00008-efde6946-8c5a-40d2-a7c1-0876a1fb0422",
    "deepnote_to_be_reexecuted": false,
    "source_hash": "eb4cb6a4",
    "execution_start": 1637338498557,
    "execution_millis": 4,
    "deepnote_cell_type": "code"
   },
   "source": "hyper_params = {\n    'task': 'train',\n    'boosting_type': 'dart',\n    'objective': 'regression',\n    'metric': ['l1','l2'],\n    'learning_rate': 0.05,\n    'feature_fraction': 0.8,\n    'bagging_fraction': 0.8,\n    'bagging_freq': 10,\n    'verbose': 0,\n    \"max_depth\": 8,\n    \"num_leaves\": 128,  \n    \"max_bin\": 512,\n    \"num_iterations\": 10000\n}",
   "outputs": [],
   "execution_count": null
  },
  {
   "cell_type": "code",
   "metadata": {
    "tags": [],
    "cell_id": "00008-55223c37-3628-4805-8df8-8f0bf67bfbaa",
    "deepnote_to_be_reexecuted": false,
    "source_hash": "3e3f8767",
    "execution_start": 1637338502216,
    "execution_millis": 2,
    "deepnote_cell_type": "code"
   },
   "source": "gbm = lightgbm.LGBMRegressor(**hyper_params)",
   "outputs": [],
   "execution_count": null
  },
  {
   "cell_type": "code",
   "metadata": {
    "tags": [],
    "cell_id": "00014-fda338c7-d132-45d4-a739-9d8c1fd2afd6",
    "deepnote_to_be_reexecuted": false,
    "source_hash": "e1ec141d",
    "execution_start": 1637337976920,
    "execution_millis": 831871,
    "deepnote_cell_type": "code"
   },
   "source": "X_train.drop(['layout', 'ceiling', 'windows_court', 'new','elevator_passenger', 'elevator_service', 'garbage_chute', 'heating'], axis=1, inplace=True)",
   "outputs": [],
   "execution_count": null
  },
  {
   "cell_type": "code",
   "metadata": {
    "tags": [],
    "cell_id": "00015-dbb707c0-adb8-4541-bfe3-da20aa7387fc",
    "deepnote_to_be_reexecuted": false,
    "source_hash": "8cc83605",
    "execution_start": 1637337976929,
    "execution_millis": 831877,
    "deepnote_cell_type": "code"
   },
   "source": "X_val.drop(['layout', 'ceiling', 'windows_court', 'new','elevator_passenger', 'elevator_service', 'garbage_chute', 'heating'], axis=1, inplace=True)",
   "outputs": [],
   "execution_count": null
  },
  {
   "cell_type": "code",
   "metadata": {
    "tags": [],
    "cell_id": "00010-2d2a2cfe-5d45-4862-aad2-0fcb0f563fcc",
    "deepnote_to_be_reexecuted": false,
    "source_hash": "ca0b175c",
    "execution_start": 1637338506366,
    "execution_millis": 1582885,
    "deepnote_output_heights": [
     null,
     78.796875
    ],
    "deepnote_cell_type": "code"
   },
   "source": "gbm.fit(X_train, y_train, eval_set=[(X_val, y_val)], eval_metric='RMSE', early_stopping_rounds=1000)",
   "outputs": [
    {
     "name": "stdout",
     "text": "[LightGBM] [Warning] No further splits with positive gain, best gain: -inf\n[9487]\tvalid_0's rmse: 51611.6\tvalid_0's l1: 25231.9\tvalid_0's l2: 2.66376e+09\n[LightGBM] [Warning] No further splits with positive gain, best gain: -inf\n[9488]\tvalid_0's rmse: 51612.8\tvalid_0's l1: 25232.4\tvalid_0's l2: 2.66388e+09\n[LightGBM] [Warning] No further splits with positive gain, best gain: -inf\n[9489]\tvalid_0's rmse: 51614\tvalid_0's l1: 25233.9\tvalid_0's l2: 2.664e+09\n[LightGBM] [Warning] No further splits with positive gain, best gain: -inf\n[9490]\tvalid_0's rmse: 51611.4\tvalid_0's l1: 25234.5\tvalid_0's l2: 2.66373e+09\n[LightGBM] [Warning] No further splits with positive gain, best gain: -inf\n[9491]\tvalid_0's rmse: 51608.5\tvalid_0's l1: 25232.8\tvalid_0's l2: 2.66344e+09\n[LightGBM] [Warning] No further splits with positive gain, best gain: -inf\n[9492]\tvalid_0's rmse: 51609.5\tvalid_0's l1: 25234.3\tvalid_0's l2: 2.66354e+09\n[LightGBM] [Warning] No further splits with positive gain, best gain: -inf\n[9493]\tvalid_0's rmse: 51607.3\tvalid_0's l1: 25233\tvalid_0's l2: 2.66331e+09\n[LightGBM] [Warning] No further splits with positive gain, best gain: -inf\n[9494]\tvalid_0's rmse: 51605.4\tvalid_0's l1: 25231.9\tvalid_0's l2: 2.66312e+09\n[LightGBM] [Warning] No further splits with positive gain, best gain: -inf\n[9495]\tvalid_0's rmse: 51603.8\tvalid_0's l1: 25230.7\tvalid_0's l2: 2.66296e+09\n[LightGBM] [Warning] No further splits with positive gain, best gain: -inf\n[9496]\tvalid_0's rmse: 51604.4\tvalid_0's l1: 25229.9\tvalid_0's l2: 2.66301e+09\n[LightGBM] [Warning] No further splits with positive gain, best gain: -inf\n[9497]\tvalid_0's rmse: 51601.8\tvalid_0's l1: 25228.4\tvalid_0's l2: 2.66274e+09\n[LightGBM] [Warning] No further splits with positive gain, best gain: -inf\n[9498]\tvalid_0's rmse: 51600.9\tvalid_0's l1: 25230\tvalid_0's l2: 2.66265e+09\n[LightGBM] [Warning] No further splits with positive gain, best gain: -inf\n[9499]\tvalid_0's rmse: 51601.7\tvalid_0's l1: 25229.8\tvalid_0's l2: 2.66273e+09\n[LightGBM] [Warning] No further splits with positive gain, best gain: -inf\n[9500]\tvalid_0's rmse: 51600.4\tvalid_0's l1: 25230.6\tvalid_0's l2: 2.66261e+09\n[LightGBM] [Warning] No further splits with positive gain, best gain: -inf\n[9501]\tvalid_0's rmse: 51597.7\tvalid_0's l1: 25229.1\tvalid_0's l2: 2.66233e+09\n[LightGBM] [Warning] No further splits with positive gain, best gain: -inf\n[9502]\tvalid_0's rmse: 51596.3\tvalid_0's l1: 25228.1\tvalid_0's l2: 2.66218e+09\n[LightGBM] [Warning] No further splits with positive gain, best gain: -inf\n[9503]\tvalid_0's rmse: 51593.9\tvalid_0's l1: 25227\tvalid_0's l2: 2.66193e+09\n[LightGBM] [Warning] No further splits with positive gain, best gain: -inf\n[9504]\tvalid_0's rmse: 51592.1\tvalid_0's l1: 25226.1\tvalid_0's l2: 2.66175e+09\n[LightGBM] [Warning] No further splits with positive gain, best gain: -inf\n[9505]\tvalid_0's rmse: 51589.8\tvalid_0's l1: 25225\tvalid_0's l2: 2.66151e+09\n[LightGBM] [Warning] No further splits with positive gain, best gain: -inf\n[9506]\tvalid_0's rmse: 51593.5\tvalid_0's l1: 25226.2\tvalid_0's l2: 2.66189e+09\n[LightGBM] [Warning] No further splits with positive gain, best gain: -inf\n[9507]\tvalid_0's rmse: 51594.7\tvalid_0's l1: 25227.2\tvalid_0's l2: 2.66201e+09\n[LightGBM] [Warning] No further splits with positive gain, best gain: -inf\n[9508]\tvalid_0's rmse: 51593.5\tvalid_0's l1: 25226.3\tvalid_0's l2: 2.66189e+09\n[LightGBM] [Warning] No further splits with positive gain, best gain: -inf\n[9509]\tvalid_0's rmse: 51591.8\tvalid_0's l1: 25225.4\tvalid_0's l2: 2.66172e+09\n[LightGBM] [Warning] No further splits with positive gain, best gain: -inf\n[9510]\tvalid_0's rmse: 51590.1\tvalid_0's l1: 25224.2\tvalid_0's l2: 2.66154e+09\n[LightGBM] [Warning] No further splits with positive gain, best gain: -inf\n[9511]\tvalid_0's rmse: 51588.1\tvalid_0's l1: 25223.1\tvalid_0's l2: 2.66133e+09\n[LightGBM] [Warning] No further splits with positive gain, best gain: -inf\n[9512]\tvalid_0's rmse: 51594.6\tvalid_0's l1: 25225.2\tvalid_0's l2: 2.66201e+09\n[LightGBM] [Warning] No further splits with positive gain, best gain: -inf\n[9513]\tvalid_0's rmse: 51593.2\tvalid_0's l1: 25224.3\tvalid_0's l2: 2.66186e+09\n[LightGBM] [Warning] No further splits with positive gain, best gain: -inf\n[9514]\tvalid_0's rmse: 51596.9\tvalid_0's l1: 25225.3\tvalid_0's l2: 2.66224e+09\n[LightGBM] [Warning] No further splits with positive gain, best gain: -inf\n[9515]\tvalid_0's rmse: 51602.8\tvalid_0's l1: 25227.2\tvalid_0's l2: 2.66285e+09\n[LightGBM] [Warning] No further splits with positive gain, best gain: -inf\n[9516]\tvalid_0's rmse: 51605.3\tvalid_0's l1: 25228.7\tvalid_0's l2: 2.6631e+09\n[LightGBM] [Warning] No further splits with positive gain, best gain: -inf\n[9517]\tvalid_0's rmse: 51611.7\tvalid_0's l1: 25230.6\tvalid_0's l2: 2.66376e+09\n[LightGBM] [Warning] No further splits with positive gain, best gain: -inf\n[9518]\tvalid_0's rmse: 51615.7\tvalid_0's l1: 25233.4\tvalid_0's l2: 2.66418e+09\n[LightGBM] [Warning] No further splits with positive gain, best gain: -inf\n[9519]\tvalid_0's rmse: 51614\tvalid_0's l1: 25232.4\tvalid_0's l2: 2.664e+09\n[LightGBM] [Warning] No further splits with positive gain, best gain: -inf\n[9520]\tvalid_0's rmse: 51617.5\tvalid_0's l1: 25233.5\tvalid_0's l2: 2.66437e+09\n[LightGBM] [Warning] No further splits with positive gain, best gain: -inf\n[9521]\tvalid_0's rmse: 51616.4\tvalid_0's l1: 25232.7\tvalid_0's l2: 2.66425e+09\n[LightGBM] [Warning] No further splits with positive gain, best gain: -inf\n[9522]\tvalid_0's rmse: 51614.3\tvalid_0's l1: 25231.6\tvalid_0's l2: 2.66403e+09\n[LightGBM] [Warning] No further splits with positive gain, best gain: -inf\n[9523]\tvalid_0's rmse: 51617.7\tvalid_0's l1: 25232.2\tvalid_0's l2: 2.66439e+09\n[LightGBM] [Warning] No further splits with positive gain, best gain: -inf\n[9524]\tvalid_0's rmse: 51615.4\tvalid_0's l1: 25231.1\tvalid_0's l2: 2.66415e+09\n[LightGBM] [Warning] No further splits with positive gain, best gain: -inf\n[9525]\tvalid_0's rmse: 51613.3\tvalid_0's l1: 25229.8\tvalid_0's l2: 2.66393e+09\n[LightGBM] [Warning] No further splits with positive gain, best gain: -inf\n[9526]\tvalid_0's rmse: 51615.9\tvalid_0's l1: 25232.1\tvalid_0's l2: 2.6642e+09\n[LightGBM] [Warning] No further splits with positive gain, best gain: -inf\n[9527]\tvalid_0's rmse: 51613.1\tvalid_0's l1: 25230.6\tvalid_0's l2: 2.66392e+09\n[LightGBM] [Warning] No further splits with positive gain, best gain: -inf\n[9528]\tvalid_0's rmse: 51611.1\tvalid_0's l1: 25229.4\tvalid_0's l2: 2.66371e+09\n[LightGBM] [Warning] No further splits with positive gain, best gain: -inf\n[9529]\tvalid_0's rmse: 51611.2\tvalid_0's l1: 25230.7\tvalid_0's l2: 2.66372e+09\n[LightGBM] [Warning] No further splits with positive gain, best gain: -inf\n[9530]\tvalid_0's rmse: 51613.2\tvalid_0's l1: 25231.6\tvalid_0's l2: 2.66392e+09\n[LightGBM] [Warning] No further splits with positive gain, best gain: -inf\n[9531]\tvalid_0's rmse: 51615.3\tvalid_0's l1: 25231.8\tvalid_0's l2: 2.66414e+09\n[LightGBM] [Warning] No further splits with positive gain, best gain: -inf\n[9532]\tvalid_0's rmse: 51620.1\tvalid_0's l1: 25232.7\tvalid_0's l2: 2.66464e+09\n[LightGBM] [Warning] No further splits with positive gain, best gain: -inf\n[9533]\tvalid_0's rmse: 51618.4\tvalid_0's l1: 25231.7\tvalid_0's l2: 2.66446e+09\n[LightGBM] [Warning] No further splits with positive gain, best gain: -inf\n[9534]\tvalid_0's rmse: 51620.2\tvalid_0's l1: 25232\tvalid_0's l2: 2.66464e+09\n[LightGBM] [Warning] No further splits with positive gain, best gain: -inf\n[9535]\tvalid_0's rmse: 51618.9\tvalid_0's l1: 25230.8\tvalid_0's l2: 2.66451e+09\n[LightGBM] [Warning] No further splits with positive gain, best gain: -inf\n[9536]\tvalid_0's rmse: 51620.3\tvalid_0's l1: 25231.1\tvalid_0's l2: 2.66465e+09\n[LightGBM] [Warning] No further splits with positive gain, best gain: -inf\n[9537]\tvalid_0's rmse: 51618.4\tvalid_0's l1: 25229.9\tvalid_0's l2: 2.66446e+09\n[LightGBM] [Warning] No further splits with positive gain, best gain: -inf\n[9538]\tvalid_0's rmse: 51619.1\tvalid_0's l1: 25229.7\tvalid_0's l2: 2.66453e+09\n[LightGBM] [Warning] No further splits with positive gain, best gain: -inf\n[9539]\tvalid_0's rmse: 51616.9\tvalid_0's l1: 25228.5\tvalid_0's l2: 2.6643e+09\n[LightGBM] [Warning] No further splits with positive gain, best gain: -inf\n[9540]\tvalid_0's rmse: 51615.3\tvalid_0's l1: 25228.7\tvalid_0's l2: 2.66414e+09\n[LightGBM] [Warning] No further splits with positive gain, best gain: -inf\n[9541]\tvalid_0's rmse: 51612.8\tvalid_0's l1: 25227.6\tvalid_0's l2: 2.66388e+09\n[LightGBM] [Warning] No further splits with positive gain, best gain: -inf\n[9542]\tvalid_0's rmse: 51610\tvalid_0's l1: 25226.2\tvalid_0's l2: 2.66359e+09\n[LightGBM] [Warning] No further splits with positive gain, best gain: -inf\n[9543]\tvalid_0's rmse: 51611\tvalid_0's l1: 25226.5\tvalid_0's l2: 2.6637e+09\n[LightGBM] [Warning] No further splits with positive gain, best gain: -inf\n[9544]\tvalid_0's rmse: 51608.7\tvalid_0's l1: 25225.5\tvalid_0's l2: 2.66345e+09\n[LightGBM] [Warning] No further splits with positive gain, best gain: -inf\n[9545]\tvalid_0's rmse: 51605.7\tvalid_0's l1: 25224\tvalid_0's l2: 2.66315e+09\n[LightGBM] [Warning] No further splits with positive gain, best gain: -inf\n[9546]\tvalid_0's rmse: 51610.5\tvalid_0's l1: 25227\tvalid_0's l2: 2.66364e+09\n[LightGBM] [Warning] No further splits with positive gain, best gain: -inf\n[9547]\tvalid_0's rmse: 51616.8\tvalid_0's l1: 25229.9\tvalid_0's l2: 2.6643e+09\n[LightGBM] [Warning] No further splits with positive gain, best gain: -inf\n[9548]\tvalid_0's rmse: 51617.4\tvalid_0's l1: 25231.2\tvalid_0's l2: 2.66435e+09\n[LightGBM] [Warning] No further splits with positive gain, best gain: -inf\n[9549]\tvalid_0's rmse: 51616.1\tvalid_0's l1: 25230.6\tvalid_0's l2: 2.66422e+09\n[LightGBM] [Warning] No further splits with positive gain, best gain: -inf\n[9550]\tvalid_0's rmse: 51617.6\tvalid_0's l1: 25232.1\tvalid_0's l2: 2.66438e+09\n[LightGBM] [Warning] No further splits with positive gain, best gain: -inf\n[9551]\tvalid_0's rmse: 51615.3\tvalid_0's l1: 25230.8\tvalid_0's l2: 2.66414e+09\n[LightGBM] [Warning] No further splits with positive gain, best gain: -inf\n[9552]\tvalid_0's rmse: 51613.2\tvalid_0's l1: 25229.5\tvalid_0's l2: 2.66393e+09\n[LightGBM] [Warning] No further splits with positive gain, best gain: -inf\n[9553]\tvalid_0's rmse: 51619.6\tvalid_0's l1: 25232.2\tvalid_0's l2: 2.66458e+09\n[9554]\tvalid_0's rmse: 51617.3\tvalid_0's l1: 25230.8\tvalid_0's l2: 2.66434e+09\n[9555]\tvalid_0's rmse: 51615.2\tvalid_0's l1: 25229.7\tvalid_0's l2: 2.66413e+09\n[9556]\tvalid_0's rmse: 51613.1\tvalid_0's l1: 25228.6\tvalid_0's l2: 2.66392e+09\n[LightGBM] [Warning] No further splits with positive gain, best gain: -inf\n[9557]\tvalid_0's rmse: 51615\tvalid_0's l1: 25229.5\tvalid_0's l2: 2.66411e+09\n[LightGBM] [Warning] No further splits with positive gain, best gain: -inf\n[9558]\tvalid_0's rmse: 51616.9\tvalid_0's l1: 25230.6\tvalid_0's l2: 2.66431e+09\n[LightGBM] [Warning] No further splits with positive gain, best gain: -inf\n[9559]\tvalid_0's rmse: 51614.9\tvalid_0's l1: 25229.6\tvalid_0's l2: 2.66409e+09\n[9560]\tvalid_0's rmse: 51613.1\tvalid_0's l1: 25228.6\tvalid_0's l2: 2.66391e+09\n[LightGBM] [Warning] No further splits with positive gain, best gain: -inf\n[9561]\tvalid_0's rmse: 51611.1\tvalid_0's l1: 25227.8\tvalid_0's l2: 2.66371e+09\n[9562]\tvalid_0's rmse: 51607.4\tvalid_0's l1: 25226.1\tvalid_0's l2: 2.66332e+09\n[LightGBM] [Warning] No further splits with positive gain, best gain: -inf\n[9563]\tvalid_0's rmse: 51609\tvalid_0's l1: 25227.6\tvalid_0's l2: 2.66349e+09\n[LightGBM] [Warning] No further splits with positive gain, best gain: -inf\n[9564]\tvalid_0's rmse: 51611.1\tvalid_0's l1: 25227.5\tvalid_0's l2: 2.6637e+09\n[LightGBM] [Warning] No further splits with positive gain, best gain: -inf\n[9565]\tvalid_0's rmse: 51615.8\tvalid_0's l1: 25229.2\tvalid_0's l2: 2.66419e+09\n[LightGBM] [Warning] No further splits with positive gain, best gain: -inf\n[9566]\tvalid_0's rmse: 51621.5\tvalid_0's l1: 25231.7\tvalid_0's l2: 2.66478e+09\n[LightGBM] [Warning] No further splits with positive gain, best gain: -inf\n[9567]\tvalid_0's rmse: 51625\tvalid_0's l1: 25231.9\tvalid_0's l2: 2.66514e+09\n[9568]\tvalid_0's rmse: 51623.5\tvalid_0's l1: 25231\tvalid_0's l2: 2.66499e+09\n[LightGBM] [Warning] No further splits with positive gain, best gain: -inf\n[9569]\tvalid_0's rmse: 51627.4\tvalid_0's l1: 25233.3\tvalid_0's l2: 2.66539e+09\n[LightGBM] [Warning] No further splits with positive gain, best gain: -inf\n[9570]\tvalid_0's rmse: 51631.5\tvalid_0's l1: 25236.2\tvalid_0's l2: 2.66581e+09\n[LightGBM] [Warning] No further splits with positive gain, best gain: -inf\n[9571]\tvalid_0's rmse: 51633.5\tvalid_0's l1: 25237.5\tvalid_0's l2: 2.66602e+09\n[LightGBM] [Warning] No further splits with positive gain, best gain: -inf\n[9572]\tvalid_0's rmse: 51635.6\tvalid_0's l1: 25238.8\tvalid_0's l2: 2.66624e+09\n[LightGBM] [Warning] No further splits with positive gain, best gain: -inf\n[9573]\tvalid_0's rmse: 51637.2\tvalid_0's l1: 25239.8\tvalid_0's l2: 2.6664e+09\n[LightGBM] [Warning] No further splits with positive gain, best gain: -inf\n[9574]\tvalid_0's rmse: 51635.2\tvalid_0's l1: 25238.5\tvalid_0's l2: 2.66619e+09\n[LightGBM] [Warning] No further splits with positive gain, best gain: -inf\n[9575]\tvalid_0's rmse: 51633.8\tvalid_0's l1: 25237.5\tvalid_0's l2: 2.66605e+09\n[LightGBM] [Warning] No further splits with positive gain, best gain: -inf\n[9576]\tvalid_0's rmse: 51632\tvalid_0's l1: 25236.6\tvalid_0's l2: 2.66587e+09\n[LightGBM] [Warning] No further splits with positive gain, best gain: -inf\n[9577]\tvalid_0's rmse: 51630.2\tvalid_0's l1: 25235.3\tvalid_0's l2: 2.66568e+09\n[LightGBM] [Warning] No further splits with positive gain, best gain: -inf\n[9578]\tvalid_0's rmse: 51627.8\tvalid_0's l1: 25233.9\tvalid_0's l2: 2.66543e+09\n[LightGBM] [Warning] No further splits with positive gain, best gain: -inf\n[9579]\tvalid_0's rmse: 51625.8\tvalid_0's l1: 25232.8\tvalid_0's l2: 2.66522e+09\n[LightGBM] [Warning] No further splits with positive gain, best gain: -inf\n[9580]\tvalid_0's rmse: 51624.6\tvalid_0's l1: 25232.1\tvalid_0's l2: 2.6651e+09\n[LightGBM] [Warning] No further splits with positive gain, best gain: -inf\n[9581]\tvalid_0's rmse: 51630\tvalid_0's l1: 25233.5\tvalid_0's l2: 2.66566e+09\n[LightGBM] [Warning] No further splits with positive gain, best gain: -inf\n[9582]\tvalid_0's rmse: 51635.2\tvalid_0's l1: 25236.3\tvalid_0's l2: 2.66619e+09\n[LightGBM] [Warning] No further splits with positive gain, best gain: -inf\n[9583]\tvalid_0's rmse: 51638.5\tvalid_0's l1: 25238.3\tvalid_0's l2: 2.66654e+09\n[LightGBM] [Warning] No further splits with positive gain, best gain: -inf\n[9584]\tvalid_0's rmse: 51640.3\tvalid_0's l1: 25239.2\tvalid_0's l2: 2.66672e+09\n[LightGBM] [Warning] No further splits with positive gain, best gain: -inf\n[9585]\tvalid_0's rmse: 51638.8\tvalid_0's l1: 25238.2\tvalid_0's l2: 2.66657e+09\n[LightGBM] [Warning] No further splits with positive gain, best gain: -inf\n[9586]\tvalid_0's rmse: 51643.2\tvalid_0's l1: 25240.8\tvalid_0's l2: 2.66702e+09\n[LightGBM] [Warning] No further splits with positive gain, best gain: -inf\n[9587]\tvalid_0's rmse: 51640.8\tvalid_0's l1: 25239.7\tvalid_0's l2: 2.66678e+09\n[LightGBM] [Warning] No further splits with positive gain, best gain: -inf\n[9588]\tvalid_0's rmse: 51641.3\tvalid_0's l1: 25239.2\tvalid_0's l2: 2.66682e+09\n[LightGBM] [Warning] No further splits with positive gain, best gain: -inf\n[9589]\tvalid_0's rmse: 51638.9\tvalid_0's l1: 25237.8\tvalid_0's l2: 2.66658e+09\n[LightGBM] [Warning] No further splits with positive gain, best gain: -inf\n[9590]\tvalid_0's rmse: 51641.1\tvalid_0's l1: 25237.5\tvalid_0's l2: 2.66681e+09\n[LightGBM] [Warning] No further splits with positive gain, best gain: -inf\n[9591]\tvalid_0's rmse: 51644.6\tvalid_0's l1: 25237.9\tvalid_0's l2: 2.66717e+09\n[LightGBM] [Warning] No further splits with positive gain, best gain: -inf\n[9592]\tvalid_0's rmse: 51642.3\tvalid_0's l1: 25236.5\tvalid_0's l2: 2.66692e+09\n[LightGBM] [Warning] No further splits with positive gain, best gain: -inf\n[9593]\tvalid_0's rmse: 51643.2\tvalid_0's l1: 25237.8\tvalid_0's l2: 2.66702e+09\n[LightGBM] [Warning] No further splits with positive gain, best gain: -inf\n[9594]\tvalid_0's rmse: 51641.3\tvalid_0's l1: 25236.7\tvalid_0's l2: 2.66683e+09\n[LightGBM] [Warning] No further splits with positive gain, best gain: -inf\n[9595]\tvalid_0's rmse: 51640.3\tvalid_0's l1: 25235.9\tvalid_0's l2: 2.66673e+09\n[LightGBM] [Warning] No further splits with positive gain, best gain: -inf\n[9596]\tvalid_0's rmse: 51641\tvalid_0's l1: 25235.2\tvalid_0's l2: 2.6668e+09\n[LightGBM] [Warning] No further splits with positive gain, best gain: -inf\n[9597]\tvalid_0's rmse: 51644.6\tvalid_0's l1: 25236\tvalid_0's l2: 2.66716e+09\n[LightGBM] [Warning] No further splits with positive gain, best gain: -inf\n[9598]\tvalid_0's rmse: 51643\tvalid_0's l1: 25235.1\tvalid_0's l2: 2.667e+09\n[LightGBM] [Warning] No further splits with positive gain, best gain: -inf\n[9599]\tvalid_0's rmse: 51641.6\tvalid_0's l1: 25234.1\tvalid_0's l2: 2.66685e+09\n[LightGBM] [Warning] No further splits with positive gain, best gain: -inf\n[9600]\tvalid_0's rmse: 51645.4\tvalid_0's l1: 25236.4\tvalid_0's l2: 2.66724e+09\n[LightGBM] [Warning] No further splits with positive gain, best gain: -inf\n[9601]\tvalid_0's rmse: 51647.8\tvalid_0's l1: 25238.2\tvalid_0's l2: 2.66749e+09\n[LightGBM] [Warning] No further splits with positive gain, best gain: -inf\n[9602]\tvalid_0's rmse: 51650.7\tvalid_0's l1: 25238.9\tvalid_0's l2: 2.66779e+09\n[LightGBM] [Warning] No further splits with positive gain, best gain: -inf\n[9603]\tvalid_0's rmse: 51650.3\tvalid_0's l1: 25239.3\tvalid_0's l2: 2.66776e+09\n[LightGBM] [Warning] No further splits with positive gain, best gain: -inf\n[9604]\tvalid_0's rmse: 51647.9\tvalid_0's l1: 25237.4\tvalid_0's l2: 2.6675e+09\n[LightGBM] [Warning] No further splits with positive gain, best gain: -inf\n[9605]\tvalid_0's rmse: 51646.5\tvalid_0's l1: 25236.7\tvalid_0's l2: 2.66736e+09\n[LightGBM] [Warning] No further splits with positive gain, best gain: -inf\n[9606]\tvalid_0's rmse: 51650.7\tvalid_0's l1: 25238.8\tvalid_0's l2: 2.6678e+09\n[LightGBM] [Warning] No further splits with positive gain, best gain: -inf\n[9607]\tvalid_0's rmse: 51653.2\tvalid_0's l1: 25239.6\tvalid_0's l2: 2.66805e+09\n[LightGBM] [Warning] No further splits with positive gain, best gain: -inf\n[9608]\tvalid_0's rmse: 51655.8\tvalid_0's l1: 25241.1\tvalid_0's l2: 2.66832e+09\n[LightGBM] [Warning] No further splits with positive gain, best gain: -inf\n[9609]\tvalid_0's rmse: 51653.9\tvalid_0's l1: 25239.9\tvalid_0's l2: 2.66812e+09\n[LightGBM] [Warning] No further splits with positive gain, best gain: -inf\n[9610]\tvalid_0's rmse: 51652.4\tvalid_0's l1: 25238.9\tvalid_0's l2: 2.66797e+09\n[LightGBM] [Warning] No further splits with positive gain, best gain: -inf\n[9611]\tvalid_0's rmse: 51653.8\tvalid_0's l1: 25239.2\tvalid_0's l2: 2.66811e+09\n[LightGBM] [Warning] No further splits with positive gain, best gain: -inf\n[9612]\tvalid_0's rmse: 51652\tvalid_0's l1: 25238.2\tvalid_0's l2: 2.66793e+09\n[LightGBM] [Warning] No further splits with positive gain, best gain: -inf\n[9613]\tvalid_0's rmse: 51653.1\tvalid_0's l1: 25238.2\tvalid_0's l2: 2.66805e+09\n[LightGBM] [Warning] No further splits with positive gain, best gain: -inf\n[9614]\tvalid_0's rmse: 51655.1\tvalid_0's l1: 25239.8\tvalid_0's l2: 2.66824e+09\n[LightGBM] [Warning] No further splits with positive gain, best gain: -inf\n[9615]\tvalid_0's rmse: 51653.5\tvalid_0's l1: 25238.8\tvalid_0's l2: 2.66808e+09\n[LightGBM] [Warning] No further splits with positive gain, best gain: -inf\n[9616]\tvalid_0's rmse: 51651.4\tvalid_0's l1: 25237.6\tvalid_0's l2: 2.66787e+09\n[LightGBM] [Warning] No further splits with positive gain, best gain: -inf\n[9617]\tvalid_0's rmse: 51649.2\tvalid_0's l1: 25236.4\tvalid_0's l2: 2.66764e+09\n[LightGBM] [Warning] No further splits with positive gain, best gain: -inf\n[9618]\tvalid_0's rmse: 51651.5\tvalid_0's l1: 25237.7\tvalid_0's l2: 2.66788e+09\n[LightGBM] [Warning] No further splits with positive gain, best gain: -inf\n[9619]\tvalid_0's rmse: 51652.1\tvalid_0's l1: 25238.5\tvalid_0's l2: 2.66794e+09\n[LightGBM] [Warning] No further splits with positive gain, best gain: -inf\n[9620]\tvalid_0's rmse: 51650\tvalid_0's l1: 25237.1\tvalid_0's l2: 2.66772e+09\n[LightGBM] [Warning] No further splits with positive gain, best gain: -inf\n[9621]\tvalid_0's rmse: 51651.3\tvalid_0's l1: 25237.9\tvalid_0's l2: 2.66786e+09\n[LightGBM] [Warning] No further splits with positive gain, best gain: -inf\n[9622]\tvalid_0's rmse: 51654.1\tvalid_0's l1: 25239.8\tvalid_0's l2: 2.66814e+09\n[LightGBM] [Warning] No further splits with positive gain, best gain: -inf\n[9623]\tvalid_0's rmse: 51649.6\tvalid_0's l1: 25237.2\tvalid_0's l2: 2.66768e+09\n[LightGBM] [Warning] No further splits with positive gain, best gain: -inf\n[9624]\tvalid_0's rmse: 51647.8\tvalid_0's l1: 25236.2\tvalid_0's l2: 2.66749e+09\n[LightGBM] [Warning] No further splits with positive gain, best gain: -inf\n[9625]\tvalid_0's rmse: 51646.5\tvalid_0's l1: 25235.6\tvalid_0's l2: 2.66736e+09\n[LightGBM] [Warning] No further splits with positive gain, best gain: -inf\n[9626]\tvalid_0's rmse: 51644.7\tvalid_0's l1: 25234.5\tvalid_0's l2: 2.66718e+09\n[LightGBM] [Warning] No further splits with positive gain, best gain: -inf\n[9627]\tvalid_0's rmse: 51646.9\tvalid_0's l1: 25235.1\tvalid_0's l2: 2.66741e+09\n[LightGBM] [Warning] No further splits with positive gain, best gain: -inf\n[9628]\tvalid_0's rmse: 51649.5\tvalid_0's l1: 25235.8\tvalid_0's l2: 2.66767e+09\n[LightGBM] [Warning] No further splits with positive gain, best gain: -inf\n[9629]\tvalid_0's rmse: 51645.8\tvalid_0's l1: 25234.3\tvalid_0's l2: 2.66729e+09\n[LightGBM] [Warning] No further splits with positive gain, best gain: -inf\n[9630]\tvalid_0's rmse: 51644.3\tvalid_0's l1: 25233.5\tvalid_0's l2: 2.66713e+09\n[LightGBM] [Warning] No further splits with positive gain, best gain: -inf\n[9631]\tvalid_0's rmse: 51645.7\tvalid_0's l1: 25234.7\tvalid_0's l2: 2.66728e+09\n[LightGBM] [Warning] No further splits with positive gain, best gain: -inf\n[9632]\tvalid_0's rmse: 51643.7\tvalid_0's l1: 25233.7\tvalid_0's l2: 2.66708e+09\n[LightGBM] [Warning] No further splits with positive gain, best gain: -inf\n[9633]\tvalid_0's rmse: 51641.4\tvalid_0's l1: 25232.6\tvalid_0's l2: 2.66684e+09\n[LightGBM] [Warning] No further splits with positive gain, best gain: -inf\n[9634]\tvalid_0's rmse: 51646.2\tvalid_0's l1: 25235.1\tvalid_0's l2: 2.66733e+09\n[LightGBM] [Warning] No further splits with positive gain, best gain: -inf\n[9635]\tvalid_0's rmse: 51643.9\tvalid_0's l1: 25233.9\tvalid_0's l2: 2.66709e+09\n[LightGBM] [Warning] No further splits with positive gain, best gain: -inf\n[9636]\tvalid_0's rmse: 51645.6\tvalid_0's l1: 25235.4\tvalid_0's l2: 2.66727e+09\n[LightGBM] [Warning] No further splits with positive gain, best gain: -inf\n[9637]\tvalid_0's rmse: 51643.9\tvalid_0's l1: 25234.3\tvalid_0's l2: 2.66709e+09\n[9638]\tvalid_0's rmse: 51646.4\tvalid_0's l1: 25236.2\tvalid_0's l2: 2.66735e+09\n[LightGBM] [Warning] No further splits with positive gain, best gain: -inf\n[9639]\tvalid_0's rmse: 51644.2\tvalid_0's l1: 25235\tvalid_0's l2: 2.66712e+09\n[9640]\tvalid_0's rmse: 51642.1\tvalid_0's l1: 25234\tvalid_0's l2: 2.66691e+09\n[LightGBM] [Warning] No further splits with positive gain, best gain: -inf\n[9641]\tvalid_0's rmse: 51643.4\tvalid_0's l1: 25235.2\tvalid_0's l2: 2.66704e+09\n[LightGBM] [Warning] No further splits with positive gain, best gain: -inf\n[9642]\tvalid_0's rmse: 51642.3\tvalid_0's l1: 25234.5\tvalid_0's l2: 2.66692e+09\n[LightGBM] [Warning] No further splits with positive gain, best gain: -inf\n[9643]\tvalid_0's rmse: 51644.8\tvalid_0's l1: 25235.2\tvalid_0's l2: 2.66718e+09\n[LightGBM] [Warning] No further splits with positive gain, best gain: -inf\n[9644]\tvalid_0's rmse: 51647.9\tvalid_0's l1: 25235.9\tvalid_0's l2: 2.6675e+09\n[LightGBM] [Warning] No further splits with positive gain, best gain: -inf\n[9645]\tvalid_0's rmse: 51645.6\tvalid_0's l1: 25234.6\tvalid_0's l2: 2.66727e+09\n[LightGBM] [Warning] No further splits with positive gain, best gain: -inf\n[9646]\tvalid_0's rmse: 51646.8\tvalid_0's l1: 25235\tvalid_0's l2: 2.66739e+09\n[LightGBM] [Warning] No further splits with positive gain, best gain: -inf\n[9647]\tvalid_0's rmse: 51649.6\tvalid_0's l1: 25235.2\tvalid_0's l2: 2.66769e+09\n[LightGBM] [Warning] No further splits with positive gain, best gain: -inf\n[9648]\tvalid_0's rmse: 51648.3\tvalid_0's l1: 25234.6\tvalid_0's l2: 2.66755e+09\n[LightGBM] [Warning] No further splits with positive gain, best gain: -inf\n[9649]\tvalid_0's rmse: 51651.7\tvalid_0's l1: 25236.5\tvalid_0's l2: 2.6679e+09\n[LightGBM] [Warning] No further splits with positive gain, best gain: -inf\n[9650]\tvalid_0's rmse: 51650.3\tvalid_0's l1: 25235.7\tvalid_0's l2: 2.66775e+09\n[9651]\tvalid_0's rmse: 51647.1\tvalid_0's l1: 25233.9\tvalid_0's l2: 2.66743e+09\n[LightGBM] [Warning] No further splits with positive gain, best gain: -inf\n[9652]\tvalid_0's rmse: 51645.2\tvalid_0's l1: 25232.9\tvalid_0's l2: 2.66723e+09\n[LightGBM] [Warning] No further splits with positive gain, best gain: -inf\n[9653]\tvalid_0's rmse: 51642.6\tvalid_0's l1: 25232.4\tvalid_0's l2: 2.66696e+09\n[LightGBM] [Warning] No further splits with positive gain, best gain: -inf\n[9654]\tvalid_0's rmse: 51644.3\tvalid_0's l1: 25233.8\tvalid_0's l2: 2.66713e+09\n[LightGBM] [Warning] No further splits with positive gain, best gain: -inf\n[9655]\tvalid_0's rmse: 51642.3\tvalid_0's l1: 25232.7\tvalid_0's l2: 2.66693e+09\n[LightGBM] [Warning] No further splits with positive gain, best gain: -inf\n[9656]\tvalid_0's rmse: 51637.9\tvalid_0's l1: 25232.7\tvalid_0's l2: 2.66647e+09\n[LightGBM] [Warning] No further splits with positive gain, best gain: -inf\n[9657]\tvalid_0's rmse: 51636\tvalid_0's l1: 25231.6\tvalid_0's l2: 2.66628e+09\n[LightGBM] [Warning] No further splits with positive gain, best gain: -inf\n[9658]\tvalid_0's rmse: 51631.7\tvalid_0's l1: 25230.1\tvalid_0's l2: 2.66584e+09\n[9659]\tvalid_0's rmse: 51628.3\tvalid_0's l1: 25228.2\tvalid_0's l2: 2.66548e+09\n[LightGBM] [Warning] No further splits with positive gain, best gain: -inf\n[9660]\tvalid_0's rmse: 51626.5\tvalid_0's l1: 25228.1\tvalid_0's l2: 2.6653e+09\n[LightGBM] [Warning] No further splits with positive gain, best gain: -inf\n[9661]\tvalid_0's rmse: 51625\tvalid_0's l1: 25228.1\tvalid_0's l2: 2.66515e+09\n[LightGBM] [Warning] No further splits with positive gain, best gain: -inf\n[9662]\tvalid_0's rmse: 51626.9\tvalid_0's l1: 25229.7\tvalid_0's l2: 2.66534e+09\n[LightGBM] [Warning] No further splits with positive gain, best gain: -inf\n[9663]\tvalid_0's rmse: 51625\tvalid_0's l1: 25228.8\tvalid_0's l2: 2.66514e+09\n[LightGBM] [Warning] No further splits with positive gain, best gain: -inf\n[9664]\tvalid_0's rmse: 51627.9\tvalid_0's l1: 25229.6\tvalid_0's l2: 2.66544e+09\n[LightGBM] [Warning] No further splits with positive gain, best gain: -inf\n[9665]\tvalid_0's rmse: 51628\tvalid_0's l1: 25230.3\tvalid_0's l2: 2.66546e+09\n[LightGBM] [Warning] No further splits with positive gain, best gain: -inf\n[9666]\tvalid_0's rmse: 51625.7\tvalid_0's l1: 25229\tvalid_0's l2: 2.66521e+09\n[LightGBM] [Warning] No further splits with positive gain, best gain: -inf\n[9667]\tvalid_0's rmse: 51623.2\tvalid_0's l1: 25227.7\tvalid_0's l2: 2.66495e+09\n[LightGBM] [Warning] No further splits with positive gain, best gain: -inf\n[9668]\tvalid_0's rmse: 51624.2\tvalid_0's l1: 25227.9\tvalid_0's l2: 2.66506e+09\n[LightGBM] [Warning] No further splits with positive gain, best gain: -inf\n[9669]\tvalid_0's rmse: 51622\tvalid_0's l1: 25226.8\tvalid_0's l2: 2.66483e+09\n[LightGBM] [Warning] No further splits with positive gain, best gain: -inf\n[9670]\tvalid_0's rmse: 51620.1\tvalid_0's l1: 25225.4\tvalid_0's l2: 2.66463e+09\n[LightGBM] [Warning] No further splits with positive gain, best gain: -inf\n[9671]\tvalid_0's rmse: 51618.5\tvalid_0's l1: 25224.4\tvalid_0's l2: 2.66447e+09\n[LightGBM] [Warning] No further splits with positive gain, best gain: -inf\n[9672]\tvalid_0's rmse: 51616.1\tvalid_0's l1: 25223.3\tvalid_0's l2: 2.66423e+09\n[LightGBM] [Warning] No further splits with positive gain, best gain: -inf\n[9673]\tvalid_0's rmse: 51620.3\tvalid_0's l1: 25225.3\tvalid_0's l2: 2.66465e+09\n[LightGBM] [Warning] No further splits with positive gain, best gain: -inf\n[9674]\tvalid_0's rmse: 51617.7\tvalid_0's l1: 25224\tvalid_0's l2: 2.66439e+09\n[LightGBM] [Warning] No further splits with positive gain, best gain: -inf\n[9675]\tvalid_0's rmse: 51622.2\tvalid_0's l1: 25226.9\tvalid_0's l2: 2.66485e+09\n[LightGBM] [Warning] No further splits with positive gain, best gain: -inf\n[9676]\tvalid_0's rmse: 51620.7\tvalid_0's l1: 25226\tvalid_0's l2: 2.66469e+09\n[LightGBM] [Warning] No further splits with positive gain, best gain: -inf\n[9677]\tvalid_0's rmse: 51618.8\tvalid_0's l1: 25225.1\tvalid_0's l2: 2.6645e+09\n[LightGBM] [Warning] No further splits with positive gain, best gain: -inf\n[9678]\tvalid_0's rmse: 51620.4\tvalid_0's l1: 25226.1\tvalid_0's l2: 2.66466e+09\n[LightGBM] [Warning] No further splits with positive gain, best gain: -inf\n[9679]\tvalid_0's rmse: 51622.3\tvalid_0's l1: 25227.1\tvalid_0's l2: 2.66486e+09\n[LightGBM] [Warning] No further splits with positive gain, best gain: -inf\n[9680]\tvalid_0's rmse: 51624.7\tvalid_0's l1: 25228.8\tvalid_0's l2: 2.6651e+09\n[LightGBM] [Warning] No further splits with positive gain, best gain: -inf\n[9681]\tvalid_0's rmse: 51627.2\tvalid_0's l1: 25231.3\tvalid_0's l2: 2.66537e+09\n[LightGBM] [Warning] No further splits with positive gain, best gain: -inf\n[9682]\tvalid_0's rmse: 51628.5\tvalid_0's l1: 25232.7\tvalid_0's l2: 2.6655e+09\n[LightGBM] [Warning] No further splits with positive gain, best gain: -inf\n[9683]\tvalid_0's rmse: 51631.8\tvalid_0's l1: 25235.1\tvalid_0's l2: 2.66584e+09\n[LightGBM] [Warning] No further splits with positive gain, best gain: -inf\n[9684]\tvalid_0's rmse: 51632.7\tvalid_0's l1: 25235.9\tvalid_0's l2: 2.66593e+09\n[LightGBM] [Warning] No further splits with positive gain, best gain: -inf\n[9685]\tvalid_0's rmse: 51634.5\tvalid_0's l1: 25237.1\tvalid_0's l2: 2.66612e+09\n[LightGBM] [Warning] No further splits with positive gain, best gain: -inf\n[9686]\tvalid_0's rmse: 51636.2\tvalid_0's l1: 25237.8\tvalid_0's l2: 2.6663e+09\n[LightGBM] [Warning] No further splits with positive gain, best gain: -inf\n[9687]\tvalid_0's rmse: 51634.7\tvalid_0's l1: 25236.8\tvalid_0's l2: 2.66614e+09\n[LightGBM] [Warning] No further splits with positive gain, best gain: -inf\n[9688]\tvalid_0's rmse: 51637.5\tvalid_0's l1: 25238.3\tvalid_0's l2: 2.66643e+09\n[LightGBM] [Warning] No further splits with positive gain, best gain: -inf\n[9689]\tvalid_0's rmse: 51635.7\tvalid_0's l1: 25237.3\tvalid_0's l2: 2.66625e+09\n[LightGBM] [Warning] No further splits with positive gain, best gain: -inf\n[9690]\tvalid_0's rmse: 51634.4\tvalid_0's l1: 25236.1\tvalid_0's l2: 2.66611e+09\n[LightGBM] [Warning] No further splits with positive gain, best gain: -inf\n[9691]\tvalid_0's rmse: 51633.2\tvalid_0's l1: 25236.1\tvalid_0's l2: 2.66599e+09\n[LightGBM] [Warning] No further splits with positive gain, best gain: -inf\n[9692]\tvalid_0's rmse: 51634.4\tvalid_0's l1: 25236.8\tvalid_0's l2: 2.66611e+09\n[LightGBM] [Warning] No further splits with positive gain, best gain: -inf\n[9693]\tvalid_0's rmse: 51632.8\tvalid_0's l1: 25235.8\tvalid_0's l2: 2.66594e+09\n[LightGBM] [Warning] No further splits with positive gain, best gain: -inf\n[9694]\tvalid_0's rmse: 51634.4\tvalid_0's l1: 25237.3\tvalid_0's l2: 2.66611e+09\n[9695]\tvalid_0's rmse: 51632.5\tvalid_0's l1: 25236.2\tvalid_0's l2: 2.66592e+09\n[LightGBM] [Warning] No further splits with positive gain, best gain: -inf\n[9696]\tvalid_0's rmse: 51633.1\tvalid_0's l1: 25236.1\tvalid_0's l2: 2.66597e+09\n[LightGBM] [Warning] No further splits with positive gain, best gain: -inf\n[9697]\tvalid_0's rmse: 51631.1\tvalid_0's l1: 25234.8\tvalid_0's l2: 2.66577e+09\n[LightGBM] [Warning] No further splits with positive gain, best gain: -inf\n[9698]\tvalid_0's rmse: 51631.9\tvalid_0's l1: 25236.8\tvalid_0's l2: 2.66585e+09\n[9699]\tvalid_0's rmse: 51630.1\tvalid_0's l1: 25235.7\tvalid_0's l2: 2.66567e+09\n[LightGBM] [Warning] No further splits with positive gain, best gain: -inf\n[9700]\tvalid_0's rmse: 51628.2\tvalid_0's l1: 25234.5\tvalid_0's l2: 2.66547e+09\n[LightGBM] [Warning] No further splits with positive gain, best gain: -inf\n[9701]\tvalid_0's rmse: 51626.7\tvalid_0's l1: 25235.2\tvalid_0's l2: 2.66532e+09\n[LightGBM] [Warning] No further splits with positive gain, best gain: -inf\n[9702]\tvalid_0's rmse: 51628.4\tvalid_0's l1: 25235\tvalid_0's l2: 2.66549e+09\n[LightGBM] [Warning] No further splits with positive gain, best gain: -inf\n[9703]\tvalid_0's rmse: 51628.9\tvalid_0's l1: 25235\tvalid_0's l2: 2.66555e+09\n[LightGBM] [Warning] No further splits with positive gain, best gain: -inf\n[9704]\tvalid_0's rmse: 51631.8\tvalid_0's l1: 25237.4\tvalid_0's l2: 2.66585e+09\n[LightGBM] [Warning] No further splits with positive gain, best gain: -inf\n[9705]\tvalid_0's rmse: 51630.1\tvalid_0's l1: 25236.2\tvalid_0's l2: 2.66567e+09\n[LightGBM] [Warning] No further splits with positive gain, best gain: -inf\n[9706]\tvalid_0's rmse: 51631.8\tvalid_0's l1: 25237.1\tvalid_0's l2: 2.66584e+09\n[LightGBM] [Warning] No further splits with positive gain, best gain: -inf\n[9707]\tvalid_0's rmse: 51629.2\tvalid_0's l1: 25237.3\tvalid_0's l2: 2.66557e+09\n[LightGBM] [Warning] No further splits with positive gain, best gain: -inf\n[9708]\tvalid_0's rmse: 51631.7\tvalid_0's l1: 25238.7\tvalid_0's l2: 2.66583e+09\n[LightGBM] [Warning] No further splits with positive gain, best gain: -inf\n[9709]\tvalid_0's rmse: 51627.8\tvalid_0's l1: 25238.6\tvalid_0's l2: 2.66543e+09\n[LightGBM] [Warning] No further splits with positive gain, best gain: -inf\n[9710]\tvalid_0's rmse: 51626.8\tvalid_0's l1: 25238.7\tvalid_0's l2: 2.66533e+09\n[LightGBM] [Warning] No further splits with positive gain, best gain: -inf\n[9711]\tvalid_0's rmse: 51625.6\tvalid_0's l1: 25237.9\tvalid_0's l2: 2.66521e+09\n[LightGBM] [Warning] No further splits with positive gain, best gain: -inf\n[9712]\tvalid_0's rmse: 51627.5\tvalid_0's l1: 25239.8\tvalid_0's l2: 2.6654e+09\n[LightGBM] [Warning] No further splits with positive gain, best gain: -inf\n[9713]\tvalid_0's rmse: 51631\tvalid_0's l1: 25241.5\tvalid_0's l2: 2.66576e+09\n[LightGBM] [Warning] No further splits with positive gain, best gain: -inf\n[9714]\tvalid_0's rmse: 51631.9\tvalid_0's l1: 25241.2\tvalid_0's l2: 2.66585e+09\n[LightGBM] [Warning] No further splits with positive gain, best gain: -inf\n[9715]\tvalid_0's rmse: 51629.6\tvalid_0's l1: 25240.3\tvalid_0's l2: 2.66562e+09\n[LightGBM] [Warning] No further splits with positive gain, best gain: -inf\n[9716]\tvalid_0's rmse: 51628.5\tvalid_0's l1: 25239.6\tvalid_0's l2: 2.6655e+09\n[LightGBM] [Warning] No further splits with positive gain, best gain: -inf\n[9717]\tvalid_0's rmse: 51625.9\tvalid_0's l1: 25237.9\tvalid_0's l2: 2.66524e+09\n[LightGBM] [Warning] No further splits with positive gain, best gain: -inf\n[9718]\tvalid_0's rmse: 51623.7\tvalid_0's l1: 25236.4\tvalid_0's l2: 2.665e+09\n[LightGBM] [Warning] No further splits with positive gain, best gain: -inf\n[9719]\tvalid_0's rmse: 51623.7\tvalid_0's l1: 25236\tvalid_0's l2: 2.66501e+09\n[LightGBM] [Warning] No further splits with positive gain, best gain: -inf\n[9720]\tvalid_0's rmse: 51621.9\tvalid_0's l1: 25234.6\tvalid_0's l2: 2.66482e+09\n[LightGBM] [Warning] No further splits with positive gain, best gain: -inf\n[9721]\tvalid_0's rmse: 51619.9\tvalid_0's l1: 25233.3\tvalid_0's l2: 2.66461e+09\n[LightGBM] [Warning] No further splits with positive gain, best gain: -inf\n[9722]\tvalid_0's rmse: 51617.7\tvalid_0's l1: 25232\tvalid_0's l2: 2.66439e+09\n[LightGBM] [Warning] No further splits with positive gain, best gain: -inf\n[9723]\tvalid_0's rmse: 51619.1\tvalid_0's l1: 25232.8\tvalid_0's l2: 2.66453e+09\n[LightGBM] [Warning] No further splits with positive gain, best gain: -inf\n[9724]\tvalid_0's rmse: 51622.8\tvalid_0's l1: 25234.7\tvalid_0's l2: 2.66491e+09\n[LightGBM] [Warning] No further splits with positive gain, best gain: -inf\n[9725]\tvalid_0's rmse: 51620.8\tvalid_0's l1: 25233.3\tvalid_0's l2: 2.6647e+09\n[LightGBM] [Warning] No further splits with positive gain, best gain: -inf\n[9726]\tvalid_0's rmse: 51623\tvalid_0's l1: 25234.1\tvalid_0's l2: 2.66493e+09\n[LightGBM] [Warning] No further splits with positive gain, best gain: -inf\n[9727]\tvalid_0's rmse: 51623.5\tvalid_0's l1: 25234.2\tvalid_0's l2: 2.66499e+09\n[LightGBM] [Warning] No further splits with positive gain, best gain: -inf\n[9728]\tvalid_0's rmse: 51623.9\tvalid_0's l1: 25234.3\tvalid_0's l2: 2.66502e+09\n[LightGBM] [Warning] No further splits with positive gain, best gain: -inf\n[9729]\tvalid_0's rmse: 51623.3\tvalid_0's l1: 25234.3\tvalid_0's l2: 2.66496e+09\n[LightGBM] [Warning] No further splits with positive gain, best gain: -inf\n[9730]\tvalid_0's rmse: 51621.5\tvalid_0's l1: 25233.1\tvalid_0's l2: 2.66478e+09\n[LightGBM] [Warning] No further splits with positive gain, best gain: -inf\n[9731]\tvalid_0's rmse: 51619.3\tvalid_0's l1: 25231.7\tvalid_0's l2: 2.66455e+09\n[LightGBM] [Warning] No further splits with positive gain, best gain: -inf\n[9732]\tvalid_0's rmse: 51617.5\tvalid_0's l1: 25230.6\tvalid_0's l2: 2.66437e+09\n[LightGBM] [Warning] No further splits with positive gain, best gain: -inf\n[9733]\tvalid_0's rmse: 51620.5\tvalid_0's l1: 25232\tvalid_0's l2: 2.66468e+09\n[LightGBM] [Warning] No further splits with positive gain, best gain: -inf\n[9734]\tvalid_0's rmse: 51621.6\tvalid_0's l1: 25232.4\tvalid_0's l2: 2.66479e+09\n[LightGBM] [Warning] No further splits with positive gain, best gain: -inf\n[9735]\tvalid_0's rmse: 51620\tvalid_0's l1: 25231.3\tvalid_0's l2: 2.66462e+09\n[LightGBM] [Warning] No further splits with positive gain, best gain: -inf\n[9736]\tvalid_0's rmse: 51622.2\tvalid_0's l1: 25232.2\tvalid_0's l2: 2.66485e+09\n[LightGBM] [Warning] No further splits with positive gain, best gain: -inf\n[9737]\tvalid_0's rmse: 51624.4\tvalid_0's l1: 25233.9\tvalid_0's l2: 2.66508e+09\n[LightGBM] [Warning] No further splits with positive gain, best gain: -inf\n[9738]\tvalid_0's rmse: 51627.5\tvalid_0's l1: 25235.7\tvalid_0's l2: 2.6654e+09\n[LightGBM] [Warning] No further splits with positive gain, best gain: -inf\n[9739]\tvalid_0's rmse: 51623.4\tvalid_0's l1: 25233.3\tvalid_0's l2: 2.66497e+09\n[LightGBM] [Warning] No further splits with positive gain, best gain: -inf\n[9740]\tvalid_0's rmse: 51622.4\tvalid_0's l1: 25232.5\tvalid_0's l2: 2.66487e+09\n[LightGBM] [Warning] No further splits with positive gain, best gain: -inf\n[9741]\tvalid_0's rmse: 51626.2\tvalid_0's l1: 25233.9\tvalid_0's l2: 2.66526e+09\n[LightGBM] [Warning] No further splits with positive gain, best gain: -inf\n[9742]\tvalid_0's rmse: 51629.6\tvalid_0's l1: 25234.6\tvalid_0's l2: 2.66561e+09\n[LightGBM] [Warning] No further splits with positive gain, best gain: -inf\n[9743]\tvalid_0's rmse: 51628\tvalid_0's l1: 25233.6\tvalid_0's l2: 2.66545e+09\n[LightGBM] [Warning] No further splits with positive gain, best gain: -inf\n[9744]\tvalid_0's rmse: 51626\tvalid_0's l1: 25232.1\tvalid_0's l2: 2.66524e+09\n[LightGBM] [Warning] No further splits with positive gain, best gain: -inf\n[9745]\tvalid_0's rmse: 51628.7\tvalid_0's l1: 25233.6\tvalid_0's l2: 2.66553e+09\n[LightGBM] [Warning] No further splits with positive gain, best gain: -inf\n[9746]\tvalid_0's rmse: 51626.9\tvalid_0's l1: 25232.3\tvalid_0's l2: 2.66533e+09\n[LightGBM] [Warning] No further splits with positive gain, best gain: -inf\n[9747]\tvalid_0's rmse: 51625.1\tvalid_0's l1: 25231.2\tvalid_0's l2: 2.66515e+09\n[LightGBM] [Warning] No further splits with positive gain, best gain: -inf\n[9748]\tvalid_0's rmse: 51624.1\tvalid_0's l1: 25230.4\tvalid_0's l2: 2.66505e+09\n[LightGBM] [Warning] No further splits with positive gain, best gain: -inf\n[9749]\tvalid_0's rmse: 51624.6\tvalid_0's l1: 25231.2\tvalid_0's l2: 2.6651e+09\n[LightGBM] [Warning] No further splits with positive gain, best gain: -inf\n[9750]\tvalid_0's rmse: 51622.6\tvalid_0's l1: 25230.1\tvalid_0's l2: 2.66489e+09\n[9751]\tvalid_0's rmse: 51621.2\tvalid_0's l1: 25229.1\tvalid_0's l2: 2.66475e+09\n[9752]\tvalid_0's rmse: 51619.1\tvalid_0's l1: 25227.6\tvalid_0's l2: 2.66453e+09\n[LightGBM] [Warning] No further splits with positive gain, best gain: -inf\n[9753]\tvalid_0's rmse: 51622\tvalid_0's l1: 25228.6\tvalid_0's l2: 2.66483e+09\n[LightGBM] [Warning] No further splits with positive gain, best gain: -inf\n[9754]\tvalid_0's rmse: 51624.2\tvalid_0's l1: 25230.3\tvalid_0's l2: 2.66506e+09\n[LightGBM] [Warning] No further splits with positive gain, best gain: -inf\n[9755]\tvalid_0's rmse: 51624.5\tvalid_0's l1: 25230.4\tvalid_0's l2: 2.66509e+09\n[LightGBM] [Warning] No further splits with positive gain, best gain: -inf\n[9756]\tvalid_0's rmse: 51631.2\tvalid_0's l1: 25231.6\tvalid_0's l2: 2.66578e+09\n[LightGBM] [Warning] No further splits with positive gain, best gain: -inf\n[9757]\tvalid_0's rmse: 51632.4\tvalid_0's l1: 25231.9\tvalid_0's l2: 2.6659e+09\n[9758]\tvalid_0's rmse: 51630.4\tvalid_0's l1: 25230.8\tvalid_0's l2: 2.6657e+09\n[9759]\tvalid_0's rmse: 51627.6\tvalid_0's l1: 25229\tvalid_0's l2: 2.66541e+09\n[LightGBM] [Warning] No further splits with positive gain, best gain: -inf\n[9760]\tvalid_0's rmse: 51626\tvalid_0's l1: 25228.3\tvalid_0's l2: 2.66524e+09\n[LightGBM] [Warning] No further splits with positive gain, best gain: -inf\n[9761]\tvalid_0's rmse: 51630.7\tvalid_0's l1: 25228.6\tvalid_0's l2: 2.66573e+09\n[9762]\tvalid_0's rmse: 51628.1\tvalid_0's l1: 25226.7\tvalid_0's l2: 2.66546e+09\n[LightGBM] [Warning] No further splits with positive gain, best gain: -inf\n[9763]\tvalid_0's rmse: 51631.8\tvalid_0's l1: 25228.4\tvalid_0's l2: 2.66584e+09\n[LightGBM] [Warning] No further splits with positive gain, best gain: -inf\n[9764]\tvalid_0's rmse: 51633.7\tvalid_0's l1: 25229\tvalid_0's l2: 2.66604e+09\n[LightGBM] [Warning] No further splits with positive gain, best gain: -inf\n[9765]\tvalid_0's rmse: 51631.8\tvalid_0's l1: 25227.8\tvalid_0's l2: 2.66584e+09\n[LightGBM] [Warning] No further splits with positive gain, best gain: -inf\n[9766]\tvalid_0's rmse: 51637.1\tvalid_0's l1: 25228.5\tvalid_0's l2: 2.66639e+09\n[LightGBM] [Warning] No further splits with positive gain, best gain: -inf\n[9767]\tvalid_0's rmse: 51635.2\tvalid_0's l1: 25227.4\tvalid_0's l2: 2.66619e+09\n[LightGBM] [Warning] No further splits with positive gain, best gain: -inf\n[9768]\tvalid_0's rmse: 51632.7\tvalid_0's l1: 25225.9\tvalid_0's l2: 2.66593e+09\n[9769]\tvalid_0's rmse: 51630.5\tvalid_0's l1: 25224.6\tvalid_0's l2: 2.6657e+09\n[LightGBM] [Warning] No further splits with positive gain, best gain: -inf\n[9770]\tvalid_0's rmse: 51631\tvalid_0's l1: 25225.2\tvalid_0's l2: 2.66576e+09\n[LightGBM] [Warning] No further splits with positive gain, best gain: -inf\n[9771]\tvalid_0's rmse: 51627.8\tvalid_0's l1: 25223.1\tvalid_0's l2: 2.66543e+09\n[LightGBM] [Warning] No further splits with positive gain, best gain: -inf\n[9772]\tvalid_0's rmse: 51625.9\tvalid_0's l1: 25222.1\tvalid_0's l2: 2.66524e+09\n[LightGBM] [Warning] No further splits with positive gain, best gain: -inf\n[9773]\tvalid_0's rmse: 51623\tvalid_0's l1: 25220.4\tvalid_0's l2: 2.66494e+09\n[LightGBM] [Warning] No further splits with positive gain, best gain: -inf\n[9774]\tvalid_0's rmse: 51621.6\tvalid_0's l1: 25219.7\tvalid_0's l2: 2.66479e+09\n[LightGBM] [Warning] No further splits with positive gain, best gain: -inf\n[9775]\tvalid_0's rmse: 51619.8\tvalid_0's l1: 25218.9\tvalid_0's l2: 2.66461e+09\n[LightGBM] [Warning] No further splits with positive gain, best gain: -inf\n[9776]\tvalid_0's rmse: 51618.4\tvalid_0's l1: 25218.2\tvalid_0's l2: 2.66446e+09\n[LightGBM] [Warning] No further splits with positive gain, best gain: -inf\n[9777]\tvalid_0's rmse: 51621.1\tvalid_0's l1: 25220\tvalid_0's l2: 2.66474e+09\n[LightGBM] [Warning] No further splits with positive gain, best gain: -inf\n[9778]\tvalid_0's rmse: 51623.7\tvalid_0's l1: 25221.8\tvalid_0's l2: 2.66501e+09\n[LightGBM] [Warning] No further splits with positive gain, best gain: -inf\n[9779]\tvalid_0's rmse: 51628.6\tvalid_0's l1: 25223.5\tvalid_0's l2: 2.66551e+09\n[LightGBM] [Warning] No further splits with positive gain, best gain: -inf\n[9780]\tvalid_0's rmse: 51631.9\tvalid_0's l1: 25226.3\tvalid_0's l2: 2.66586e+09\n[LightGBM] [Warning] No further splits with positive gain, best gain: -inf\n[9781]\tvalid_0's rmse: 51635.7\tvalid_0's l1: 25227.6\tvalid_0's l2: 2.66625e+09\n[LightGBM] [Warning] No further splits with positive gain, best gain: -inf\n[9782]\tvalid_0's rmse: 51637.9\tvalid_0's l1: 25228.2\tvalid_0's l2: 2.66647e+09\n[LightGBM] [Warning] No further splits with positive gain, best gain: -inf\n[9783]\tvalid_0's rmse: 51635\tvalid_0's l1: 25226.3\tvalid_0's l2: 2.66618e+09\n[LightGBM] [Warning] No further splits with positive gain, best gain: -inf\n[9784]\tvalid_0's rmse: 51632.1\tvalid_0's l1: 25224.8\tvalid_0's l2: 2.66587e+09\n[LightGBM] [Warning] No further splits with positive gain, best gain: -inf\n[9785]\tvalid_0's rmse: 51630.2\tvalid_0's l1: 25223.6\tvalid_0's l2: 2.66568e+09\n[LightGBM] [Warning] No further splits with positive gain, best gain: -inf\n[9786]\tvalid_0's rmse: 51631.9\tvalid_0's l1: 25223.7\tvalid_0's l2: 2.66586e+09\n[LightGBM] [Warning] No further splits with positive gain, best gain: -inf\n[9787]\tvalid_0's rmse: 51633.7\tvalid_0's l1: 25225.7\tvalid_0's l2: 2.66604e+09\n[LightGBM] [Warning] No further splits with positive gain, best gain: -inf\n[9788]\tvalid_0's rmse: 51634.8\tvalid_0's l1: 25225.9\tvalid_0's l2: 2.66615e+09\n[LightGBM] [Warning] No further splits with positive gain, best gain: -inf\n[9789]\tvalid_0's rmse: 51636\tvalid_0's l1: 25226.1\tvalid_0's l2: 2.66628e+09\n[LightGBM] [Warning] No further splits with positive gain, best gain: -inf\n[9790]\tvalid_0's rmse: 51635.9\tvalid_0's l1: 25225.7\tvalid_0's l2: 2.66627e+09\n[LightGBM] [Warning] No further splits with positive gain, best gain: -inf\n[9791]\tvalid_0's rmse: 51634.2\tvalid_0's l1: 25224.6\tvalid_0's l2: 2.66609e+09\n[LightGBM] [Warning] No further splits with positive gain, best gain: -inf\n[9792]\tvalid_0's rmse: 51632.9\tvalid_0's l1: 25223.7\tvalid_0's l2: 2.66596e+09\n[LightGBM] [Warning] No further splits with positive gain, best gain: -inf\n[9793]\tvalid_0's rmse: 51634.3\tvalid_0's l1: 25224.5\tvalid_0's l2: 2.6661e+09\n[LightGBM] [Warning] No further splits with positive gain, best gain: -inf\n[9794]\tvalid_0's rmse: 51633.7\tvalid_0's l1: 25225.7\tvalid_0's l2: 2.66604e+09\n[LightGBM] [Warning] No further splits with positive gain, best gain: -inf\n[9795]\tvalid_0's rmse: 51631.3\tvalid_0's l1: 25224.2\tvalid_0's l2: 2.66579e+09\n[LightGBM] [Warning] No further splits with positive gain, best gain: -inf\n[9796]\tvalid_0's rmse: 51629.2\tvalid_0's l1: 25223\tvalid_0's l2: 2.66558e+09\n[LightGBM] [Warning] No further splits with positive gain, best gain: -inf\n[9797]\tvalid_0's rmse: 51627.4\tvalid_0's l1: 25222\tvalid_0's l2: 2.66539e+09\n[9798]\tvalid_0's rmse: 51624\tvalid_0's l1: 25220.3\tvalid_0's l2: 2.66504e+09\n[9799]\tvalid_0's rmse: 51622.2\tvalid_0's l1: 25219.2\tvalid_0's l2: 2.66485e+09\n[LightGBM] [Warning] No further splits with positive gain, best gain: -inf\n[9800]\tvalid_0's rmse: 51620.4\tvalid_0's l1: 25218.5\tvalid_0's l2: 2.66467e+09\n[LightGBM] [Warning] No further splits with positive gain, best gain: -inf\n[9801]\tvalid_0's rmse: 51618.2\tvalid_0's l1: 25217.4\tvalid_0's l2: 2.66443e+09\n[LightGBM] [Warning] No further splits with positive gain, best gain: -inf\n[9802]\tvalid_0's rmse: 51616\tvalid_0's l1: 25215.9\tvalid_0's l2: 2.66421e+09\n[LightGBM] [Warning] No further splits with positive gain, best gain: -inf\n[9803]\tvalid_0's rmse: 51619.2\tvalid_0's l1: 25217\tvalid_0's l2: 2.66454e+09\n[LightGBM] [Warning] No further splits with positive gain, best gain: -inf\n[9804]\tvalid_0's rmse: 51615.6\tvalid_0's l1: 25214.9\tvalid_0's l2: 2.66417e+09\n[LightGBM] [Warning] No further splits with positive gain, best gain: -inf\n[9805]\tvalid_0's rmse: 51618.4\tvalid_0's l1: 25216\tvalid_0's l2: 2.66446e+09\n[LightGBM] [Warning] No further splits with positive gain, best gain: -inf\n[9806]\tvalid_0's rmse: 51622.4\tvalid_0's l1: 25216.1\tvalid_0's l2: 2.66488e+09\n[LightGBM] [Warning] No further splits with positive gain, best gain: -inf\n[9807]\tvalid_0's rmse: 51620.8\tvalid_0's l1: 25215\tvalid_0's l2: 2.66471e+09\n[LightGBM] [Warning] No further splits with positive gain, best gain: -inf\n[9808]\tvalid_0's rmse: 51619.8\tvalid_0's l1: 25214.3\tvalid_0's l2: 2.6646e+09\n[LightGBM] [Warning] No further splits with positive gain, best gain: -inf\n[9809]\tvalid_0's rmse: 51623\tvalid_0's l1: 25216\tvalid_0's l2: 2.66493e+09\n[LightGBM] [Warning] No further splits with positive gain, best gain: -inf\n[9810]\tvalid_0's rmse: 51625.4\tvalid_0's l1: 25216.3\tvalid_0's l2: 2.66518e+09\n[LightGBM] [Warning] No further splits with positive gain, best gain: -inf\n[9811]\tvalid_0's rmse: 51622.2\tvalid_0's l1: 25216.1\tvalid_0's l2: 2.66486e+09\n[LightGBM] [Warning] No further splits with positive gain, best gain: -inf\n[9812]\tvalid_0's rmse: 51620.1\tvalid_0's l1: 25214.9\tvalid_0's l2: 2.66464e+09\n[LightGBM] [Warning] No further splits with positive gain, best gain: -inf\n[9813]\tvalid_0's rmse: 51618.6\tvalid_0's l1: 25214.1\tvalid_0's l2: 2.66448e+09\n[LightGBM] [Warning] No further splits with positive gain, best gain: -inf\n[9814]\tvalid_0's rmse: 51620.2\tvalid_0's l1: 25216.1\tvalid_0's l2: 2.66464e+09\n[LightGBM] [Warning] No further splits with positive gain, best gain: -inf\n[9815]\tvalid_0's rmse: 51621.6\tvalid_0's l1: 25218.1\tvalid_0's l2: 2.66479e+09\n[LightGBM] [Warning] No further splits with positive gain, best gain: -inf\n[9816]\tvalid_0's rmse: 51623.7\tvalid_0's l1: 25219.2\tvalid_0's l2: 2.665e+09\n[LightGBM] [Warning] No further splits with positive gain, best gain: -inf\n[9817]\tvalid_0's rmse: 51622.8\tvalid_0's l1: 25220.5\tvalid_0's l2: 2.66491e+09\n[LightGBM] [Warning] No further splits with positive gain, best gain: -inf\n[9818]\tvalid_0's rmse: 51621.2\tvalid_0's l1: 25219.6\tvalid_0's l2: 2.66475e+09\n[LightGBM] [Warning] No further splits with positive gain, best gain: -inf\n[9819]\tvalid_0's rmse: 51621.6\tvalid_0's l1: 25220.4\tvalid_0's l2: 2.66479e+09\n[LightGBM] [Warning] No further splits with positive gain, best gain: -inf\n[9820]\tvalid_0's rmse: 51620\tvalid_0's l1: 25219.3\tvalid_0's l2: 2.66463e+09\n[LightGBM] [Warning] No further splits with positive gain, best gain: -inf\n[9821]\tvalid_0's rmse: 51618.1\tvalid_0's l1: 25219\tvalid_0's l2: 2.66443e+09\n[LightGBM] [Warning] No further splits with positive gain, best gain: -inf\n[9822]\tvalid_0's rmse: 51616.7\tvalid_0's l1: 25218\tvalid_0's l2: 2.66428e+09\n[LightGBM] [Warning] No further splits with positive gain, best gain: -inf\n[9823]\tvalid_0's rmse: 51613.8\tvalid_0's l1: 25216.2\tvalid_0's l2: 2.66399e+09\n[LightGBM] [Warning] No further splits with positive gain, best gain: -inf\n[9824]\tvalid_0's rmse: 51611.6\tvalid_0's l1: 25215.3\tvalid_0's l2: 2.66376e+09\n[LightGBM] [Warning] No further splits with positive gain, best gain: -inf\n[9825]\tvalid_0's rmse: 51610\tvalid_0's l1: 25214.3\tvalid_0's l2: 2.6636e+09\n[LightGBM] [Warning] No further splits with positive gain, best gain: -inf\n[9826]\tvalid_0's rmse: 51608.9\tvalid_0's l1: 25213.5\tvalid_0's l2: 2.66347e+09\n[LightGBM] [Warning] No further splits with positive gain, best gain: -inf\n[9827]\tvalid_0's rmse: 51609.6\tvalid_0's l1: 25214.7\tvalid_0's l2: 2.66355e+09\n[LightGBM] [Warning] No further splits with positive gain, best gain: -inf\n[9828]\tvalid_0's rmse: 51608.4\tvalid_0's l1: 25214\tvalid_0's l2: 2.66343e+09\n[LightGBM] [Warning] No further splits with positive gain, best gain: -inf\n[9829]\tvalid_0's rmse: 51610.9\tvalid_0's l1: 25216.5\tvalid_0's l2: 2.66369e+09\n[LightGBM] [Warning] No further splits with positive gain, best gain: -inf\n[9830]\tvalid_0's rmse: 51608.1\tvalid_0's l1: 25214.7\tvalid_0's l2: 2.6634e+09\n[LightGBM] [Warning] No further splits with positive gain, best gain: -inf\n[9831]\tvalid_0's rmse: 51606.5\tvalid_0's l1: 25213.8\tvalid_0's l2: 2.66324e+09\n[LightGBM] [Warning] No further splits with positive gain, best gain: -inf\n[9832]\tvalid_0's rmse: 51605\tvalid_0's l1: 25213\tvalid_0's l2: 2.66307e+09\n[LightGBM] [Warning] No further splits with positive gain, best gain: -inf\n[9833]\tvalid_0's rmse: 51603.3\tvalid_0's l1: 25212.1\tvalid_0's l2: 2.6629e+09\n[LightGBM] [Warning] No further splits with positive gain, best gain: -inf\n[9834]\tvalid_0's rmse: 51603.7\tvalid_0's l1: 25210.5\tvalid_0's l2: 2.66294e+09\n[LightGBM] [Warning] No further splits with positive gain, best gain: -inf\n[9835]\tvalid_0's rmse: 51602.3\tvalid_0's l1: 25209.6\tvalid_0's l2: 2.66279e+09\n[LightGBM] [Warning] No further splits with positive gain, best gain: -inf\n[9836]\tvalid_0's rmse: 51604.8\tvalid_0's l1: 25211.9\tvalid_0's l2: 2.66305e+09\n[LightGBM] [Warning] No further splits with positive gain, best gain: -inf\n[9837]\tvalid_0's rmse: 51607.2\tvalid_0's l1: 25212.8\tvalid_0's l2: 2.6633e+09\n[LightGBM] [Warning] No further splits with positive gain, best gain: -inf\n[9838]\tvalid_0's rmse: 51604.8\tvalid_0's l1: 25211.5\tvalid_0's l2: 2.66305e+09\n[LightGBM] [Warning] No further splits with positive gain, best gain: -inf\n[9839]\tvalid_0's rmse: 51604.2\tvalid_0's l1: 25211.7\tvalid_0's l2: 2.66299e+09\n[LightGBM] [Warning] No further splits with positive gain, best gain: -inf\n[9840]\tvalid_0's rmse: 51605.6\tvalid_0's l1: 25212.6\tvalid_0's l2: 2.66314e+09\n[LightGBM] [Warning] No further splits with positive gain, best gain: -inf\n[9841]\tvalid_0's rmse: 51605.2\tvalid_0's l1: 25213\tvalid_0's l2: 2.6631e+09\n[LightGBM] [Warning] No further splits with positive gain, best gain: -inf\n[9842]\tvalid_0's rmse: 51603.5\tvalid_0's l1: 25211.9\tvalid_0's l2: 2.66292e+09\n[LightGBM] [Warning] No further splits with positive gain, best gain: -inf\n[9843]\tvalid_0's rmse: 51602.5\tvalid_0's l1: 25211.3\tvalid_0's l2: 2.66281e+09\n[9844]\tvalid_0's rmse: 51600.7\tvalid_0's l1: 25210.4\tvalid_0's l2: 2.66263e+09\n[LightGBM] [Warning] No further splits with positive gain, best gain: -inf\n[9845]\tvalid_0's rmse: 51605.5\tvalid_0's l1: 25211.1\tvalid_0's l2: 2.66312e+09\n[9846]\tvalid_0's rmse: 51603.7\tvalid_0's l1: 25210.2\tvalid_0's l2: 2.66294e+09\n[LightGBM] [Warning] No further splits with positive gain, best gain: -inf\n[9847]\tvalid_0's rmse: 51602.3\tvalid_0's l1: 25209.4\tvalid_0's l2: 2.6628e+09\n[LightGBM] [Warning] No further splits with positive gain, best gain: -inf\n[9848]\tvalid_0's rmse: 51601.2\tvalid_0's l1: 25208.6\tvalid_0's l2: 2.66269e+09\n[LightGBM] [Warning] No further splits with positive gain, best gain: -inf\n[9849]\tvalid_0's rmse: 51606.9\tvalid_0's l1: 25211.4\tvalid_0's l2: 2.66327e+09\n[LightGBM] [Warning] No further splits with positive gain, best gain: -inf\n[9850]\tvalid_0's rmse: 51611.5\tvalid_0's l1: 25212\tvalid_0's l2: 2.66375e+09\n[LightGBM] [Warning] No further splits with positive gain, best gain: -inf\n[9851]\tvalid_0's rmse: 51612.7\tvalid_0's l1: 25212.1\tvalid_0's l2: 2.66387e+09\n[LightGBM] [Warning] No further splits with positive gain, best gain: -inf\n[9852]\tvalid_0's rmse: 51611\tvalid_0's l1: 25211.1\tvalid_0's l2: 2.6637e+09\n[LightGBM] [Warning] No further splits with positive gain, best gain: -inf\n[9853]\tvalid_0's rmse: 51610.7\tvalid_0's l1: 25211.2\tvalid_0's l2: 2.66366e+09\n[LightGBM] [Warning] No further splits with positive gain, best gain: -inf\n[9854]\tvalid_0's rmse: 51608.9\tvalid_0's l1: 25210.2\tvalid_0's l2: 2.66348e+09\n[LightGBM] [Warning] No further splits with positive gain, best gain: -inf\n[9855]\tvalid_0's rmse: 51607.2\tvalid_0's l1: 25209.3\tvalid_0's l2: 2.6633e+09\n[LightGBM] [Warning] No further splits with positive gain, best gain: -inf\n[9856]\tvalid_0's rmse: 51608\tvalid_0's l1: 25210.4\tvalid_0's l2: 2.66338e+09\n[LightGBM] [Warning] No further splits with positive gain, best gain: -inf\n[9857]\tvalid_0's rmse: 51610.9\tvalid_0's l1: 25210.7\tvalid_0's l2: 2.66369e+09\n[LightGBM] [Warning] No further splits with positive gain, best gain: -inf\n[9858]\tvalid_0's rmse: 51612.7\tvalid_0's l1: 25212.7\tvalid_0's l2: 2.66387e+09\n[LightGBM] [Warning] No further splits with positive gain, best gain: -inf\n[9859]\tvalid_0's rmse: 51611.4\tvalid_0's l1: 25211.8\tvalid_0's l2: 2.66374e+09\n[LightGBM] [Warning] No further splits with positive gain, best gain: -inf\n[9860]\tvalid_0's rmse: 51610.7\tvalid_0's l1: 25211.1\tvalid_0's l2: 2.66366e+09\n[LightGBM] [Warning] No further splits with positive gain, best gain: -inf\n[9861]\tvalid_0's rmse: 51610.6\tvalid_0's l1: 25212.2\tvalid_0's l2: 2.66366e+09\n[LightGBM] [Warning] No further splits with positive gain, best gain: -inf\n[9862]\tvalid_0's rmse: 51609.2\tvalid_0's l1: 25211.2\tvalid_0's l2: 2.66351e+09\n[LightGBM] [Warning] No further splits with positive gain, best gain: -inf\n[9863]\tvalid_0's rmse: 51609.4\tvalid_0's l1: 25212.6\tvalid_0's l2: 2.66353e+09\n[LightGBM] [Warning] No further splits with positive gain, best gain: -inf\n[9864]\tvalid_0's rmse: 51611.2\tvalid_0's l1: 25214\tvalid_0's l2: 2.66372e+09\n[LightGBM] [Warning] No further splits with positive gain, best gain: -inf\n[9865]\tvalid_0's rmse: 51608.9\tvalid_0's l1: 25212.5\tvalid_0's l2: 2.66348e+09\n[LightGBM] [Warning] No further splits with positive gain, best gain: -inf\n[9866]\tvalid_0's rmse: 51610.7\tvalid_0's l1: 25213.7\tvalid_0's l2: 2.66366e+09\n[LightGBM] [Warning] No further splits with positive gain, best gain: -inf\n[9867]\tvalid_0's rmse: 51610.2\tvalid_0's l1: 25214\tvalid_0's l2: 2.66361e+09\n[LightGBM] [Warning] No further splits with positive gain, best gain: -inf\n[9868]\tvalid_0's rmse: 51609.8\tvalid_0's l1: 25214.9\tvalid_0's l2: 2.66358e+09\n[LightGBM] [Warning] No further splits with positive gain, best gain: -inf\n[9869]\tvalid_0's rmse: 51611.6\tvalid_0's l1: 25216.1\tvalid_0's l2: 2.66375e+09\n[LightGBM] [Warning] No further splits with positive gain, best gain: -inf\n[9870]\tvalid_0's rmse: 51610.1\tvalid_0's l1: 25214.9\tvalid_0's l2: 2.66361e+09\n[LightGBM] [Warning] No further splits with positive gain, best gain: -inf\n[9871]\tvalid_0's rmse: 51608.6\tvalid_0's l1: 25213.9\tvalid_0's l2: 2.66345e+09\n[LightGBM] [Warning] No further splits with positive gain, best gain: -inf\n[9872]\tvalid_0's rmse: 51606.2\tvalid_0's l1: 25212.3\tvalid_0's l2: 2.6632e+09\n[LightGBM] [Warning] No further splits with positive gain, best gain: -inf\n[9873]\tvalid_0's rmse: 51607.5\tvalid_0's l1: 25213.8\tvalid_0's l2: 2.66334e+09\n[LightGBM] [Warning] No further splits with positive gain, best gain: -inf\n[9874]\tvalid_0's rmse: 51610\tvalid_0's l1: 25215.1\tvalid_0's l2: 2.66359e+09\n[LightGBM] [Warning] No further splits with positive gain, best gain: -inf\n[9875]\tvalid_0's rmse: 51610.7\tvalid_0's l1: 25215.3\tvalid_0's l2: 2.66366e+09\n[LightGBM] [Warning] No further splits with positive gain, best gain: -inf\n[9876]\tvalid_0's rmse: 51613.3\tvalid_0's l1: 25216.9\tvalid_0's l2: 2.66393e+09\n[LightGBM] [Warning] No further splits with positive gain, best gain: -inf\n[9877]\tvalid_0's rmse: 51615.5\tvalid_0's l1: 25217.9\tvalid_0's l2: 2.66416e+09\n[LightGBM] [Warning] No further splits with positive gain, best gain: -inf\n[9878]\tvalid_0's rmse: 51617.2\tvalid_0's l1: 25219\tvalid_0's l2: 2.66434e+09\n[LightGBM] [Warning] No further splits with positive gain, best gain: -inf\n[9879]\tvalid_0's rmse: 51618.2\tvalid_0's l1: 25219.8\tvalid_0's l2: 2.66444e+09\n[LightGBM] [Warning] No further splits with positive gain, best gain: -inf\n[9880]\tvalid_0's rmse: 51616.7\tvalid_0's l1: 25218.9\tvalid_0's l2: 2.66428e+09\n[LightGBM] [Warning] No further splits with positive gain, best gain: -inf\n[9881]\tvalid_0's rmse: 51615\tvalid_0's l1: 25217.7\tvalid_0's l2: 2.66411e+09\n[LightGBM] [Warning] No further splits with positive gain, best gain: -inf\n[9882]\tvalid_0's rmse: 51611.9\tvalid_0's l1: 25215.6\tvalid_0's l2: 2.66379e+09\n[LightGBM] [Warning] No further splits with positive gain, best gain: -inf\n[9883]\tvalid_0's rmse: 51609.1\tvalid_0's l1: 25213.6\tvalid_0's l2: 2.6635e+09\n[LightGBM] [Warning] No further splits with positive gain, best gain: -inf\n[9884]\tvalid_0's rmse: 51611.8\tvalid_0's l1: 25215.1\tvalid_0's l2: 2.66378e+09\n[LightGBM] [Warning] No further splits with positive gain, best gain: -inf\n[9885]\tvalid_0's rmse: 51612.2\tvalid_0's l1: 25215.6\tvalid_0's l2: 2.66382e+09\n[LightGBM] [Warning] No further splits with positive gain, best gain: -inf\n[9886]\tvalid_0's rmse: 51613.3\tvalid_0's l1: 25216.1\tvalid_0's l2: 2.66393e+09\n[LightGBM] [Warning] No further splits with positive gain, best gain: -inf\n[9887]\tvalid_0's rmse: 51610.7\tvalid_0's l1: 25214.6\tvalid_0's l2: 2.66366e+09\n[LightGBM] [Warning] No further splits with positive gain, best gain: -inf\n[9888]\tvalid_0's rmse: 51614.2\tvalid_0's l1: 25215.1\tvalid_0's l2: 2.66402e+09\n[LightGBM] [Warning] No further splits with positive gain, best gain: -inf\n[9889]\tvalid_0's rmse: 51612.5\tvalid_0's l1: 25213.9\tvalid_0's l2: 2.66385e+09\n[LightGBM] [Warning] No further splits with positive gain, best gain: -inf\n[9890]\tvalid_0's rmse: 51610.7\tvalid_0's l1: 25212.8\tvalid_0's l2: 2.66366e+09\n[LightGBM] [Warning] No further splits with positive gain, best gain: -inf\n[9891]\tvalid_0's rmse: 51609\tvalid_0's l1: 25211.8\tvalid_0's l2: 2.66349e+09\n[LightGBM] [Warning] No further splits with positive gain, best gain: -inf\n[9892]\tvalid_0's rmse: 51613.4\tvalid_0's l1: 25214.4\tvalid_0's l2: 2.66395e+09\n[LightGBM] [Warning] No further splits with positive gain, best gain: -inf\n[9893]\tvalid_0's rmse: 51611.2\tvalid_0's l1: 25213.8\tvalid_0's l2: 2.66371e+09\n[LightGBM] [Warning] No further splits with positive gain, best gain: -inf\n[9894]\tvalid_0's rmse: 51615.6\tvalid_0's l1: 25216.1\tvalid_0's l2: 2.66417e+09\n[LightGBM] [Warning] No further splits with positive gain, best gain: -inf\n[9895]\tvalid_0's rmse: 51613.4\tvalid_0's l1: 25217.6\tvalid_0's l2: 2.66394e+09\n[LightGBM] [Warning] No further splits with positive gain, best gain: -inf\n[9896]\tvalid_0's rmse: 51611.4\tvalid_0's l1: 25216.2\tvalid_0's l2: 2.66374e+09\n[LightGBM] [Warning] No further splits with positive gain, best gain: -inf\n[9897]\tvalid_0's rmse: 51613.2\tvalid_0's l1: 25217.7\tvalid_0's l2: 2.66392e+09\n[LightGBM] [Warning] No further splits with positive gain, best gain: -inf\n[9898]\tvalid_0's rmse: 51614.9\tvalid_0's l1: 25219.3\tvalid_0's l2: 2.6641e+09\n[LightGBM] [Warning] No further splits with positive gain, best gain: -inf\n[9899]\tvalid_0's rmse: 51613.1\tvalid_0's l1: 25218.2\tvalid_0's l2: 2.66391e+09\n[LightGBM] [Warning] No further splits with positive gain, best gain: -inf\n[9900]\tvalid_0's rmse: 51611.1\tvalid_0's l1: 25217.5\tvalid_0's l2: 2.6637e+09\n[LightGBM] [Warning] No further splits with positive gain, best gain: -inf\n[9901]\tvalid_0's rmse: 51610.6\tvalid_0's l1: 25218.3\tvalid_0's l2: 2.66366e+09\n[LightGBM] [Warning] No further splits with positive gain, best gain: -inf\n[9902]\tvalid_0's rmse: 51613\tvalid_0's l1: 25219.6\tvalid_0's l2: 2.6639e+09\n[LightGBM] [Warning] No further splits with positive gain, best gain: -inf\n[9903]\tvalid_0's rmse: 51616.6\tvalid_0's l1: 25222.2\tvalid_0's l2: 2.66427e+09\n[LightGBM] [Warning] No further splits with positive gain, best gain: -inf\n[9904]\tvalid_0's rmse: 51618.4\tvalid_0's l1: 25223.4\tvalid_0's l2: 2.66446e+09\n[LightGBM] [Warning] No further splits with positive gain, best gain: -inf\n[9905]\tvalid_0's rmse: 51616.5\tvalid_0's l1: 25222.1\tvalid_0's l2: 2.66426e+09\n[LightGBM] [Warning] No further splits with positive gain, best gain: -inf\n[9906]\tvalid_0's rmse: 51614.6\tvalid_0's l1: 25220.7\tvalid_0's l2: 2.66407e+09\n[LightGBM] [Warning] No further splits with positive gain, best gain: -inf\n[9907]\tvalid_0's rmse: 51616.1\tvalid_0's l1: 25220.9\tvalid_0's l2: 2.66422e+09\n[LightGBM] [Warning] No further splits with positive gain, best gain: -inf\n[9908]\tvalid_0's rmse: 51616.6\tvalid_0's l1: 25221.5\tvalid_0's l2: 2.66427e+09\n[LightGBM] [Warning] No further splits with positive gain, best gain: -inf\n[9909]\tvalid_0's rmse: 51615.1\tvalid_0's l1: 25220.4\tvalid_0's l2: 2.66412e+09\n[LightGBM] [Warning] No further splits with positive gain, best gain: -inf\n[9910]\tvalid_0's rmse: 51612.1\tvalid_0's l1: 25218.7\tvalid_0's l2: 2.66381e+09\n[LightGBM] [Warning] No further splits with positive gain, best gain: -inf\n[9911]\tvalid_0's rmse: 51608.7\tvalid_0's l1: 25216.8\tvalid_0's l2: 2.66346e+09\n[LightGBM] [Warning] No further splits with positive gain, best gain: -inf\n[9912]\tvalid_0's rmse: 51609.7\tvalid_0's l1: 25217.5\tvalid_0's l2: 2.66356e+09\n[LightGBM] [Warning] No further splits with positive gain, best gain: -inf\n[9913]\tvalid_0's rmse: 51607.3\tvalid_0's l1: 25215.8\tvalid_0's l2: 2.66331e+09\n[LightGBM] [Warning] No further splits with positive gain, best gain: -inf\n[9914]\tvalid_0's rmse: 51605.8\tvalid_0's l1: 25214.8\tvalid_0's l2: 2.66316e+09\n[LightGBM] [Warning] No further splits with positive gain, best gain: -inf\n[9915]\tvalid_0's rmse: 51606.9\tvalid_0's l1: 25216\tvalid_0's l2: 2.66327e+09\n[LightGBM] [Warning] No further splits with positive gain, best gain: -inf\n[9916]\tvalid_0's rmse: 51608.7\tvalid_0's l1: 25218\tvalid_0's l2: 2.66346e+09\n[LightGBM] [Warning] No further splits with positive gain, best gain: -inf\n[9917]\tvalid_0's rmse: 51606.6\tvalid_0's l1: 25216.7\tvalid_0's l2: 2.66324e+09\n[LightGBM] [Warning] No further splits with positive gain, best gain: -inf\n[9918]\tvalid_0's rmse: 51607.4\tvalid_0's l1: 25218.4\tvalid_0's l2: 2.66332e+09\n[LightGBM] [Warning] No further splits with positive gain, best gain: -inf\n[9919]\tvalid_0's rmse: 51606.1\tvalid_0's l1: 25217.4\tvalid_0's l2: 2.66319e+09\n[LightGBM] [Warning] No further splits with positive gain, best gain: -inf\n[9920]\tvalid_0's rmse: 51610.2\tvalid_0's l1: 25220.2\tvalid_0's l2: 2.66361e+09\n[LightGBM] [Warning] No further splits with positive gain, best gain: -inf\n[9921]\tvalid_0's rmse: 51611.5\tvalid_0's l1: 25221.4\tvalid_0's l2: 2.66375e+09\n[LightGBM] [Warning] No further splits with positive gain, best gain: -inf\n[9922]\tvalid_0's rmse: 51612.8\tvalid_0's l1: 25221.3\tvalid_0's l2: 2.66388e+09\n[LightGBM] [Warning] No further splits with positive gain, best gain: -inf\n[9923]\tvalid_0's rmse: 51612.7\tvalid_0's l1: 25221.7\tvalid_0's l2: 2.66388e+09\n[LightGBM] [Warning] No further splits with positive gain, best gain: -inf\n[9924]\tvalid_0's rmse: 51612.4\tvalid_0's l1: 25220.5\tvalid_0's l2: 2.66384e+09\n[9925]\tvalid_0's rmse: 51610.2\tvalid_0's l1: 25219.1\tvalid_0's l2: 2.66361e+09\n[9926]\tvalid_0's rmse: 51609.1\tvalid_0's l1: 25218.1\tvalid_0's l2: 2.66349e+09\n[9927]\tvalid_0's rmse: 51607.6\tvalid_0's l1: 25217.1\tvalid_0's l2: 2.66334e+09\n[LightGBM] [Warning] No further splits with positive gain, best gain: -inf\n[9928]\tvalid_0's rmse: 51605.9\tvalid_0's l1: 25216\tvalid_0's l2: 2.66317e+09\n[LightGBM] [Warning] No further splits with positive gain, best gain: -inf\n[9929]\tvalid_0's rmse: 51604.5\tvalid_0's l1: 25215\tvalid_0's l2: 2.66302e+09\n[LightGBM] [Warning] No further splits with positive gain, best gain: -inf\n[9930]\tvalid_0's rmse: 51607\tvalid_0's l1: 25216.4\tvalid_0's l2: 2.66328e+09\n[LightGBM] [Warning] No further splits with positive gain, best gain: -inf\n[9931]\tvalid_0's rmse: 51604.7\tvalid_0's l1: 25215\tvalid_0's l2: 2.66305e+09\n[LightGBM] [Warning] No further splits with positive gain, best gain: -inf\n[9932]\tvalid_0's rmse: 51602.5\tvalid_0's l1: 25213.7\tvalid_0's l2: 2.66282e+09\n[LightGBM] [Warning] No further splits with positive gain, best gain: -inf\n[9933]\tvalid_0's rmse: 51601\tvalid_0's l1: 25212.9\tvalid_0's l2: 2.66267e+09\n[LightGBM] [Warning] No further splits with positive gain, best gain: -inf\n[9934]\tvalid_0's rmse: 51599.5\tvalid_0's l1: 25211.9\tvalid_0's l2: 2.66251e+09\n[LightGBM] [Warning] No further splits with positive gain, best gain: -inf\n[9935]\tvalid_0's rmse: 51597.3\tvalid_0's l1: 25210.6\tvalid_0's l2: 2.66228e+09\n[LightGBM] [Warning] No further splits with positive gain, best gain: -inf\n[9936]\tvalid_0's rmse: 51601.1\tvalid_0's l1: 25213.2\tvalid_0's l2: 2.66267e+09\n[LightGBM] [Warning] No further splits with positive gain, best gain: -inf\n[9937]\tvalid_0's rmse: 51602.1\tvalid_0's l1: 25213.7\tvalid_0's l2: 2.66278e+09\n[LightGBM] [Warning] No further splits with positive gain, best gain: -inf\n[9938]\tvalid_0's rmse: 51604.6\tvalid_0's l1: 25214.7\tvalid_0's l2: 2.66303e+09\n[LightGBM] [Warning] No further splits with positive gain, best gain: -inf\n[9939]\tvalid_0's rmse: 51610.5\tvalid_0's l1: 25216.8\tvalid_0's l2: 2.66364e+09\n[LightGBM] [Warning] No further splits with positive gain, best gain: -inf\n[9940]\tvalid_0's rmse: 51613.4\tvalid_0's l1: 25218.2\tvalid_0's l2: 2.66394e+09\n[9941]\tvalid_0's rmse: 51606.6\tvalid_0's l1: 25210.6\tvalid_0's l2: 2.66324e+09\n[LightGBM] [Warning] No further splits with positive gain, best gain: -inf\n[9942]\tvalid_0's rmse: 51603.8\tvalid_0's l1: 25211\tvalid_0's l2: 2.66295e+09\n[LightGBM] [Warning] No further splits with positive gain, best gain: -inf\n[9943]\tvalid_0's rmse: 51606.4\tvalid_0's l1: 25212.8\tvalid_0's l2: 2.66322e+09\n[LightGBM] [Warning] No further splits with positive gain, best gain: -inf\n[9944]\tvalid_0's rmse: 51604.3\tvalid_0's l1: 25211.3\tvalid_0's l2: 2.663e+09\n[LightGBM] [Warning] No further splits with positive gain, best gain: -inf\n[9945]\tvalid_0's rmse: 51608.3\tvalid_0's l1: 25213.2\tvalid_0's l2: 2.66341e+09\n[LightGBM] [Warning] No further splits with positive gain, best gain: -inf\n[9946]\tvalid_0's rmse: 51605.7\tvalid_0's l1: 25211.6\tvalid_0's l2: 2.66315e+09\n[LightGBM] [Warning] No further splits with positive gain, best gain: -inf\n[9947]\tvalid_0's rmse: 51610.3\tvalid_0's l1: 25212.6\tvalid_0's l2: 2.66363e+09\n[LightGBM] [Warning] No further splits with positive gain, best gain: -inf\n[9948]\tvalid_0's rmse: 51607.8\tvalid_0's l1: 25211.3\tvalid_0's l2: 2.66337e+09\n[LightGBM] [Warning] No further splits with positive gain, best gain: -inf\n[9949]\tvalid_0's rmse: 51605.8\tvalid_0's l1: 25210.2\tvalid_0's l2: 2.66316e+09\n[LightGBM] [Warning] No further splits with positive gain, best gain: -inf\n[9950]\tvalid_0's rmse: 51604.6\tvalid_0's l1: 25209.3\tvalid_0's l2: 2.66304e+09\n[LightGBM] [Warning] No further splits with positive gain, best gain: -inf\n[9951]\tvalid_0's rmse: 51603.6\tvalid_0's l1: 25208.7\tvalid_0's l2: 2.66293e+09\n[LightGBM] [Warning] No further splits with positive gain, best gain: -inf\n[9952]\tvalid_0's rmse: 51608.5\tvalid_0's l1: 25210.8\tvalid_0's l2: 2.66344e+09\n[LightGBM] [Warning] No further splits with positive gain, best gain: -inf\n[9953]\tvalid_0's rmse: 51612.4\tvalid_0's l1: 25213.2\tvalid_0's l2: 2.66384e+09\n[LightGBM] [Warning] No further splits with positive gain, best gain: -inf\n[9954]\tvalid_0's rmse: 51611.3\tvalid_0's l1: 25213.1\tvalid_0's l2: 2.66373e+09\n[LightGBM] [Warning] No further splits with positive gain, best gain: -inf\n[9955]\tvalid_0's rmse: 51614.2\tvalid_0's l1: 25214.6\tvalid_0's l2: 2.66403e+09\n[LightGBM] [Warning] No further splits with positive gain, best gain: -inf\n[9956]\tvalid_0's rmse: 51612.7\tvalid_0's l1: 25213.8\tvalid_0's l2: 2.66387e+09\n[LightGBM] [Warning] No further splits with positive gain, best gain: -inf\n[9957]\tvalid_0's rmse: 51618.3\tvalid_0's l1: 25216.1\tvalid_0's l2: 2.66445e+09\n[LightGBM] [Warning] No further splits with positive gain, best gain: -inf\n[9958]\tvalid_0's rmse: 51616.6\tvalid_0's l1: 25214.8\tvalid_0's l2: 2.66427e+09\n[LightGBM] [Warning] No further splits with positive gain, best gain: -inf\n[9959]\tvalid_0's rmse: 51613.7\tvalid_0's l1: 25213.1\tvalid_0's l2: 2.66397e+09\n[LightGBM] [Warning] No further splits with positive gain, best gain: -inf\n[9960]\tvalid_0's rmse: 51608.5\tvalid_0's l1: 25207.2\tvalid_0's l2: 2.66344e+09\n[LightGBM] [Warning] No further splits with positive gain, best gain: -inf\n[9961]\tvalid_0's rmse: 51607\tvalid_0's l1: 25206.4\tvalid_0's l2: 2.66328e+09\n[9962]\tvalid_0's rmse: 51604.3\tvalid_0's l1: 25205.1\tvalid_0's l2: 2.66301e+09\n[9963]\tvalid_0's rmse: 51602.6\tvalid_0's l1: 25204.3\tvalid_0's l2: 2.66283e+09\n[LightGBM] [Warning] No further splits with positive gain, best gain: -inf\n[9964]\tvalid_0's rmse: 51601.6\tvalid_0's l1: 25203.9\tvalid_0's l2: 2.66273e+09\n[LightGBM] [Warning] No further splits with positive gain, best gain: -inf\n[9965]\tvalid_0's rmse: 51599.7\tvalid_0's l1: 25203\tvalid_0's l2: 2.66253e+09\n[LightGBM] [Warning] No further splits with positive gain, best gain: -inf\n[9966]\tvalid_0's rmse: 51601.4\tvalid_0's l1: 25204.8\tvalid_0's l2: 2.6627e+09\n[LightGBM] [Warning] No further splits with positive gain, best gain: -inf\n[9967]\tvalid_0's rmse: 51600.4\tvalid_0's l1: 25204.2\tvalid_0's l2: 2.6626e+09\n[LightGBM] [Warning] No further splits with positive gain, best gain: -inf\n[9968]\tvalid_0's rmse: 51600.7\tvalid_0's l1: 25204.7\tvalid_0's l2: 2.66263e+09\n[LightGBM] [Warning] No further splits with positive gain, best gain: -inf\n[9969]\tvalid_0's rmse: 51599.2\tvalid_0's l1: 25203.9\tvalid_0's l2: 2.66248e+09\n[LightGBM] [Warning] No further splits with positive gain, best gain: -inf\n[9970]\tvalid_0's rmse: 51598.2\tvalid_0's l1: 25204\tvalid_0's l2: 2.66238e+09\n[LightGBM] [Warning] No further splits with positive gain, best gain: -inf\n[9971]\tvalid_0's rmse: 51596.6\tvalid_0's l1: 25203.2\tvalid_0's l2: 2.66221e+09\n[LightGBM] [Warning] No further splits with positive gain, best gain: -inf\n[9972]\tvalid_0's rmse: 51602\tvalid_0's l1: 25205.6\tvalid_0's l2: 2.66277e+09\n[LightGBM] [Warning] No further splits with positive gain, best gain: -inf\n[9973]\tvalid_0's rmse: 51600\tvalid_0's l1: 25204.5\tvalid_0's l2: 2.66256e+09\n[LightGBM] [Warning] No further splits with positive gain, best gain: -inf\n[9974]\tvalid_0's rmse: 51601.4\tvalid_0's l1: 25204.7\tvalid_0's l2: 2.66271e+09\n[LightGBM] [Warning] No further splits with positive gain, best gain: -inf\n[9975]\tvalid_0's rmse: 51598.2\tvalid_0's l1: 25203\tvalid_0's l2: 2.66238e+09\n[LightGBM] [Warning] No further splits with positive gain, best gain: -inf\n[9976]\tvalid_0's rmse: 51595.9\tvalid_0's l1: 25201.8\tvalid_0's l2: 2.66214e+09\n[LightGBM] [Warning] No further splits with positive gain, best gain: -inf\n[9977]\tvalid_0's rmse: 51593.9\tvalid_0's l1: 25200.8\tvalid_0's l2: 2.66193e+09\n[LightGBM] [Warning] No further splits with positive gain, best gain: -inf\n[9978]\tvalid_0's rmse: 51595.7\tvalid_0's l1: 25201.5\tvalid_0's l2: 2.66212e+09\n[LightGBM] [Warning] No further splits with positive gain, best gain: -inf\n[9979]\tvalid_0's rmse: 51593.9\tvalid_0's l1: 25200.6\tvalid_0's l2: 2.66193e+09\n[LightGBM] [Warning] No further splits with positive gain, best gain: -inf\n[9980]\tvalid_0's rmse: 51595.2\tvalid_0's l1: 25202.6\tvalid_0's l2: 2.66207e+09\n[LightGBM] [Warning] No further splits with positive gain, best gain: -inf\n[9981]\tvalid_0's rmse: 51598.9\tvalid_0's l1: 25204.3\tvalid_0's l2: 2.66245e+09\n[LightGBM] [Warning] No further splits with positive gain, best gain: -inf\n[9982]\tvalid_0's rmse: 51596.2\tvalid_0's l1: 25203.2\tvalid_0's l2: 2.66217e+09\n[LightGBM] [Warning] No further splits with positive gain, best gain: -inf\n[9983]\tvalid_0's rmse: 51594.2\tvalid_0's l1: 25202.3\tvalid_0's l2: 2.66196e+09\n[LightGBM] [Warning] No further splits with positive gain, best gain: -inf\n[9984]\tvalid_0's rmse: 51593.7\tvalid_0's l1: 25202.7\tvalid_0's l2: 2.66191e+09\n[LightGBM] [Warning] No further splits with positive gain, best gain: -inf\n[9985]\tvalid_0's rmse: 51592\tvalid_0's l1: 25201.8\tvalid_0's l2: 2.66173e+09\n[LightGBM] [Warning] No further splits with positive gain, best gain: -inf\n[9986]\tvalid_0's rmse: 51590.2\tvalid_0's l1: 25201\tvalid_0's l2: 2.66155e+09\n[LightGBM] [Warning] No further splits with positive gain, best gain: -inf\n[9987]\tvalid_0's rmse: 51590.1\tvalid_0's l1: 25201.7\tvalid_0's l2: 2.66154e+09\n[LightGBM] [Warning] No further splits with positive gain, best gain: -inf\n[9988]\tvalid_0's rmse: 51592.9\tvalid_0's l1: 25202.8\tvalid_0's l2: 2.66183e+09\n[LightGBM] [Warning] No further splits with positive gain, best gain: -inf\n[9989]\tvalid_0's rmse: 51594.9\tvalid_0's l1: 25203.6\tvalid_0's l2: 2.66203e+09\n[LightGBM] [Warning] No further splits with positive gain, best gain: -inf\n[9990]\tvalid_0's rmse: 51593.6\tvalid_0's l1: 25202.9\tvalid_0's l2: 2.6619e+09\n[LightGBM] [Warning] No further splits with positive gain, best gain: -inf\n[9991]\tvalid_0's rmse: 51594.9\tvalid_0's l1: 25203.6\tvalid_0's l2: 2.66203e+09\n[LightGBM] [Warning] No further splits with positive gain, best gain: -inf\n[9992]\tvalid_0's rmse: 51596.6\tvalid_0's l1: 25203.6\tvalid_0's l2: 2.66221e+09\n[LightGBM] [Warning] No further splits with positive gain, best gain: -inf\n[9993]\tvalid_0's rmse: 51595.6\tvalid_0's l1: 25202.8\tvalid_0's l2: 2.66211e+09\n[LightGBM] [Warning] No further splits with positive gain, best gain: -inf\n[9994]\tvalid_0's rmse: 51599.2\tvalid_0's l1: 25205\tvalid_0's l2: 2.66248e+09\n[LightGBM] [Warning] No further splits with positive gain, best gain: -inf\n[9995]\tvalid_0's rmse: 51598.1\tvalid_0's l1: 25204.3\tvalid_0's l2: 2.66237e+09\n[LightGBM] [Warning] No further splits with positive gain, best gain: -inf\n[9996]\tvalid_0's rmse: 51597.3\tvalid_0's l1: 25203.7\tvalid_0's l2: 2.66228e+09\n[LightGBM] [Warning] No further splits with positive gain, best gain: -inf\n[9997]\tvalid_0's rmse: 51598.7\tvalid_0's l1: 25205\tvalid_0's l2: 2.66243e+09\n[LightGBM] [Warning] No further splits with positive gain, best gain: -inf\n[9998]\tvalid_0's rmse: 51599.5\tvalid_0's l1: 25206.4\tvalid_0's l2: 2.66251e+09\n[LightGBM] [Warning] No further splits with positive gain, best gain: -inf\n[9999]\tvalid_0's rmse: 51597.6\tvalid_0's l1: 25205.1\tvalid_0's l2: 2.66231e+09\n[10000]\tvalid_0's rmse: 51596.3\tvalid_0's l1: 25204.2\tvalid_0's l2: 2.66218e+09\n",
     "output_type": "stream"
    },
    {
     "output_type": "execute_result",
     "execution_count": 19,
     "data": {
      "text/plain": "LGBMRegressor(bagging_fraction=0.8, bagging_freq=10, boosting_type='dart',\n              feature_fraction=0.8, learning_rate=0.05, max_bin=512,\n              max_depth=8, metric=['l1', 'l2'], num_iterations=10000,\n              num_leaves=128, objective='regression', task='train', verbose=0)"
     },
     "metadata": {}
    }
   ],
   "execution_count": null
  },
  {
   "cell_type": "code",
   "metadata": {
    "tags": [],
    "cell_id": "00012-13035942-c090-4639-ad0e-b3978dec2d45",
    "deepnote_to_be_reexecuted": false,
    "source_hash": "92dfbdaf",
    "execution_start": 1637340093741,
    "execution_millis": 74177,
    "deepnote_cell_type": "code"
   },
   "source": "y_pred = gbm.predict(X_train, num_iteration=gbm.best_iteration_)",
   "outputs": [],
   "execution_count": null
  },
  {
   "cell_type": "code",
   "metadata": {
    "tags": [],
    "cell_id": "00013-9431851d-a303-4032-9efc-c2a27deb47bf",
    "deepnote_to_be_reexecuted": false,
    "source_hash": "61ebd01",
    "execution_start": 1637340174481,
    "execution_millis": 1,
    "deepnote_cell_type": "code"
   },
   "source": "from sklearn.metrics import mean_squared_log_error ",
   "outputs": [],
   "execution_count": null
  },
  {
   "cell_type": "code",
   "metadata": {
    "tags": [],
    "cell_id": "00013-d9b55a30-5e02-4f63-af68-f02fe9bae319",
    "deepnote_to_be_reexecuted": false,
    "source_hash": "2f81f952",
    "execution_start": 1637340177409,
    "execution_millis": 18495,
    "deepnote_cell_type": "code"
   },
   "source": "# Basic RMSE\nprint('The rmse of prediction is:', round(mean_squared_log_error(y_pred, y_train) ** 0.5, 5))\n\ny_val_pred = gbm.predict(X_val, num_iteration=gbm.best_iteration_)\nprint('The rmse of prediction is:', round(mean_squared_log_error(y_val_pred, y_val) ** 0.5, 5))\n\n#The rmse of prediction is: 0.01839\n#The rmse of prediction is: 0.15097",
   "outputs": [
    {
     "name": "stdout",
     "text": "The rmse of prediction is: 0.02946\nThe rmse of prediction is: 0.13968\n",
     "output_type": "stream"
    }
   ],
   "execution_count": null
  },
  {
   "cell_type": "code",
   "metadata": {
    "tags": [],
    "cell_id": "00015-6c1e7ae4-0adb-476d-b1c8-74d50bd53a17",
    "deepnote_to_be_reexecuted": false,
    "source_hash": "c4e300c1",
    "execution_start": 1637340207219,
    "execution_millis": 83,
    "deepnote_cell_type": "code"
   },
   "source": "\ndata_test['street'] = ord_enc.fit_transform(data_test[[\"street\"]]).astype(int)\ndata_test.head()\n#data_test\n",
   "outputs": [
    {
     "output_type": "execute_result",
     "execution_count": 23,
     "data": {
      "application/vnd.deepnote.dataframe.v2+json": {
       "row_count": 5,
       "column_count": 30,
       "columns": [
        {
         "name": "id",
         "dtype": "int64",
         "stats": {
          "unique_count": 5,
          "nan_count": 0,
          "min": "23285",
          "max": "23289",
          "histogram": [
           {
            "bin_start": 23285,
            "bin_end": 23285.4,
            "count": 1
           },
           {
            "bin_start": 23285.4,
            "bin_end": 23285.8,
            "count": 0
           },
           {
            "bin_start": 23285.8,
            "bin_end": 23286.2,
            "count": 1
           },
           {
            "bin_start": 23286.2,
            "bin_end": 23286.6,
            "count": 0
           },
           {
            "bin_start": 23286.6,
            "bin_end": 23287,
            "count": 0
           },
           {
            "bin_start": 23287,
            "bin_end": 23287.4,
            "count": 1
           },
           {
            "bin_start": 23287.4,
            "bin_end": 23287.8,
            "count": 0
           },
           {
            "bin_start": 23287.8,
            "bin_end": 23288.2,
            "count": 1
           },
           {
            "bin_start": 23288.2,
            "bin_end": 23288.6,
            "count": 0
           },
           {
            "bin_start": 23288.6,
            "bin_end": 23289,
            "count": 1
           }
          ]
         }
        },
        {
         "name": "seller",
         "dtype": "int64",
         "stats": {
          "unique_count": 2,
          "nan_count": 0,
          "min": "1",
          "max": "3",
          "histogram": [
           {
            "bin_start": 1,
            "bin_end": 1.2,
            "count": 1
           },
           {
            "bin_start": 1.2,
            "bin_end": 1.4,
            "count": 0
           },
           {
            "bin_start": 1.4,
            "bin_end": 1.6,
            "count": 0
           },
           {
            "bin_start": 1.6,
            "bin_end": 1.8,
            "count": 0
           },
           {
            "bin_start": 1.8,
            "bin_end": 2,
            "count": 0
           },
           {
            "bin_start": 2,
            "bin_end": 2.2,
            "count": 0
           },
           {
            "bin_start": 2.2,
            "bin_end": 2.4000000000000004,
            "count": 0
           },
           {
            "bin_start": 2.4000000000000004,
            "bin_end": 2.6,
            "count": 0
           },
           {
            "bin_start": 2.6,
            "bin_end": 2.8,
            "count": 0
           },
           {
            "bin_start": 2.8,
            "bin_end": 3,
            "count": 4
           }
          ]
         }
        },
        {
         "name": "area_kitchen",
         "dtype": "float64",
         "stats": {
          "unique_count": 5,
          "nan_count": 0,
          "min": "4.0",
          "max": "19.6",
          "histogram": [
           {
            "bin_start": 4,
            "bin_end": 5.5600000000000005,
            "count": 1
           },
           {
            "bin_start": 5.5600000000000005,
            "bin_end": 7.12,
            "count": 0
           },
           {
            "bin_start": 7.12,
            "bin_end": 8.68,
            "count": 0
           },
           {
            "bin_start": 8.68,
            "bin_end": 10.24,
            "count": 1
           },
           {
            "bin_start": 10.24,
            "bin_end": 11.8,
            "count": 0
           },
           {
            "bin_start": 11.8,
            "bin_end": 13.36,
            "count": 1
           },
           {
            "bin_start": 13.36,
            "bin_end": 14.92,
            "count": 0
           },
           {
            "bin_start": 14.92,
            "bin_end": 16.48,
            "count": 1
           },
           {
            "bin_start": 16.48,
            "bin_end": 18.04,
            "count": 0
           },
           {
            "bin_start": 18.04,
            "bin_end": 19.6,
            "count": 1
           }
          ]
         }
        },
        {
         "name": "area_living",
         "dtype": "float64",
         "stats": {
          "unique_count": 5,
          "nan_count": 0,
          "min": "11.2",
          "max": "55.56",
          "histogram": [
           {
            "bin_start": 11.2,
            "bin_end": 15.636,
            "count": 1
           },
           {
            "bin_start": 15.636,
            "bin_end": 20.072,
            "count": 1
           },
           {
            "bin_start": 20.072,
            "bin_end": 24.508,
            "count": 0
           },
           {
            "bin_start": 24.508,
            "bin_end": 28.944,
            "count": 0
           },
           {
            "bin_start": 28.944,
            "bin_end": 33.379999999999995,
            "count": 1
           },
           {
            "bin_start": 33.379999999999995,
            "bin_end": 37.816,
            "count": 0
           },
           {
            "bin_start": 37.816,
            "bin_end": 42.251999999999995,
            "count": 0
           },
           {
            "bin_start": 42.251999999999995,
            "bin_end": 46.688,
            "count": 0
           },
           {
            "bin_start": 46.688,
            "bin_end": 51.123999999999995,
            "count": 1
           },
           {
            "bin_start": 51.123999999999995,
            "bin_end": 55.56,
            "count": 1
           }
          ]
         }
        },
        {
         "name": "floor",
         "dtype": "int64",
         "stats": {
          "unique_count": 5,
          "nan_count": 0,
          "min": "2",
          "max": "14",
          "histogram": [
           {
            "bin_start": 2,
            "bin_end": 3.2,
            "count": 1
           },
           {
            "bin_start": 3.2,
            "bin_end": 4.4,
            "count": 1
           },
           {
            "bin_start": 4.4,
            "bin_end": 5.6,
            "count": 1
           },
           {
            "bin_start": 5.6,
            "bin_end": 6.8,
            "count": 0
           },
           {
            "bin_start": 6.8,
            "bin_end": 8,
            "count": 0
           },
           {
            "bin_start": 8,
            "bin_end": 9.2,
            "count": 0
           },
           {
            "bin_start": 9.2,
            "bin_end": 10.4,
            "count": 1
           },
           {
            "bin_start": 10.4,
            "bin_end": 11.6,
            "count": 0
           },
           {
            "bin_start": 11.6,
            "bin_end": 12.799999999999999,
            "count": 0
           },
           {
            "bin_start": 12.799999999999999,
            "bin_end": 14,
            "count": 1
           }
          ]
         }
        },
        {
         "name": "rooms",
         "dtype": "int64",
         "stats": {
          "unique_count": 2,
          "nan_count": 0,
          "min": "1",
          "max": "2",
          "histogram": [
           {
            "bin_start": 1,
            "bin_end": 1.1,
            "count": 4
           },
           {
            "bin_start": 1.1,
            "bin_end": 1.2,
            "count": 0
           },
           {
            "bin_start": 1.2,
            "bin_end": 1.3,
            "count": 0
           },
           {
            "bin_start": 1.3,
            "bin_end": 1.4,
            "count": 0
           },
           {
            "bin_start": 1.4,
            "bin_end": 1.5,
            "count": 0
           },
           {
            "bin_start": 1.5,
            "bin_end": 1.6,
            "count": 0
           },
           {
            "bin_start": 1.6,
            "bin_end": 1.7000000000000002,
            "count": 0
           },
           {
            "bin_start": 1.7000000000000002,
            "bin_end": 1.8,
            "count": 0
           },
           {
            "bin_start": 1.8,
            "bin_end": 1.9,
            "count": 0
           },
           {
            "bin_start": 1.9,
            "bin_end": 2,
            "count": 1
           }
          ]
         }
        },
        {
         "name": "layout",
         "dtype": "int64",
         "stats": {
          "unique_count": 1,
          "nan_count": 0,
          "min": "1",
          "max": "1",
          "histogram": [
           {
            "bin_start": 0.5,
            "bin_end": 0.6,
            "count": 0
           },
           {
            "bin_start": 0.6,
            "bin_end": 0.7,
            "count": 0
           },
           {
            "bin_start": 0.7,
            "bin_end": 0.8,
            "count": 0
           },
           {
            "bin_start": 0.8,
            "bin_end": 0.9,
            "count": 0
           },
           {
            "bin_start": 0.9,
            "bin_end": 1,
            "count": 0
           },
           {
            "bin_start": 1,
            "bin_end": 1.1,
            "count": 5
           },
           {
            "bin_start": 1.1,
            "bin_end": 1.2000000000000002,
            "count": 0
           },
           {
            "bin_start": 1.2000000000000002,
            "bin_end": 1.3,
            "count": 0
           },
           {
            "bin_start": 1.3,
            "bin_end": 1.4,
            "count": 0
           },
           {
            "bin_start": 1.4,
            "bin_end": 1.5,
            "count": 0
           }
          ]
         }
        },
        {
         "name": "ceiling",
         "dtype": "int64",
         "stats": {
          "unique_count": 1,
          "nan_count": 0,
          "min": "3",
          "max": "3",
          "histogram": [
           {
            "bin_start": 2.5,
            "bin_end": 2.6,
            "count": 0
           },
           {
            "bin_start": 2.6,
            "bin_end": 2.7,
            "count": 0
           },
           {
            "bin_start": 2.7,
            "bin_end": 2.8,
            "count": 0
           },
           {
            "bin_start": 2.8,
            "bin_end": 2.9,
            "count": 0
           },
           {
            "bin_start": 2.9,
            "bin_end": 3,
            "count": 0
           },
           {
            "bin_start": 3,
            "bin_end": 3.1,
            "count": 5
           },
           {
            "bin_start": 3.1,
            "bin_end": 3.2,
            "count": 0
           },
           {
            "bin_start": 3.2,
            "bin_end": 3.3,
            "count": 0
           },
           {
            "bin_start": 3.3,
            "bin_end": 3.4,
            "count": 0
           },
           {
            "bin_start": 3.4,
            "bin_end": 3.5,
            "count": 0
           }
          ]
         }
        },
        {
         "name": "bathrooms_shared",
         "dtype": "int64",
         "stats": {
          "unique_count": 1,
          "nan_count": 0,
          "min": "1",
          "max": "1",
          "histogram": [
           {
            "bin_start": 0.5,
            "bin_end": 0.6,
            "count": 0
           },
           {
            "bin_start": 0.6,
            "bin_end": 0.7,
            "count": 0
           },
           {
            "bin_start": 0.7,
            "bin_end": 0.8,
            "count": 0
           },
           {
            "bin_start": 0.8,
            "bin_end": 0.9,
            "count": 0
           },
           {
            "bin_start": 0.9,
            "bin_end": 1,
            "count": 0
           },
           {
            "bin_start": 1,
            "bin_end": 1.1,
            "count": 5
           },
           {
            "bin_start": 1.1,
            "bin_end": 1.2000000000000002,
            "count": 0
           },
           {
            "bin_start": 1.2000000000000002,
            "bin_end": 1.3,
            "count": 0
           },
           {
            "bin_start": 1.3,
            "bin_end": 1.4,
            "count": 0
           },
           {
            "bin_start": 1.4,
            "bin_end": 1.5,
            "count": 0
           }
          ]
         }
        },
        {
         "name": "bathrooms_private",
         "dtype": "int64",
         "stats": {
          "unique_count": 2,
          "nan_count": 0,
          "min": "0",
          "max": "1",
          "histogram": [
           {
            "bin_start": 0,
            "bin_end": 0.1,
            "count": 3
           },
           {
            "bin_start": 0.1,
            "bin_end": 0.2,
            "count": 0
           },
           {
            "bin_start": 0.2,
            "bin_end": 0.30000000000000004,
            "count": 0
           },
           {
            "bin_start": 0.30000000000000004,
            "bin_end": 0.4,
            "count": 0
           },
           {
            "bin_start": 0.4,
            "bin_end": 0.5,
            "count": 0
           },
           {
            "bin_start": 0.5,
            "bin_end": 0.6000000000000001,
            "count": 0
           },
           {
            "bin_start": 0.6000000000000001,
            "bin_end": 0.7000000000000001,
            "count": 0
           },
           {
            "bin_start": 0.7000000000000001,
            "bin_end": 0.8,
            "count": 0
           },
           {
            "bin_start": 0.8,
            "bin_end": 0.9,
            "count": 0
           },
           {
            "bin_start": 0.9,
            "bin_end": 1,
            "count": 2
           }
          ]
         }
        },
        {
         "name": "windows_court",
         "dtype": "int64",
         "stats": {
          "unique_count": 2,
          "nan_count": 0,
          "min": "0",
          "max": "1",
          "histogram": [
           {
            "bin_start": 0,
            "bin_end": 0.1,
            "count": 1
           },
           {
            "bin_start": 0.1,
            "bin_end": 0.2,
            "count": 0
           },
           {
            "bin_start": 0.2,
            "bin_end": 0.30000000000000004,
            "count": 0
           },
           {
            "bin_start": 0.30000000000000004,
            "bin_end": 0.4,
            "count": 0
           },
           {
            "bin_start": 0.4,
            "bin_end": 0.5,
            "count": 0
           },
           {
            "bin_start": 0.5,
            "bin_end": 0.6000000000000001,
            "count": 0
           },
           {
            "bin_start": 0.6000000000000001,
            "bin_end": 0.7000000000000001,
            "count": 0
           },
           {
            "bin_start": 0.7000000000000001,
            "bin_end": 0.8,
            "count": 0
           },
           {
            "bin_start": 0.8,
            "bin_end": 0.9,
            "count": 0
           },
           {
            "bin_start": 0.9,
            "bin_end": 1,
            "count": 4
           }
          ]
         }
        },
        {
         "name": "windows_street",
         "dtype": "int64",
         "stats": {
          "unique_count": 2,
          "nan_count": 0,
          "min": "0",
          "max": "1",
          "histogram": [
           {
            "bin_start": 0,
            "bin_end": 0.1,
            "count": 4
           },
           {
            "bin_start": 0.1,
            "bin_end": 0.2,
            "count": 0
           },
           {
            "bin_start": 0.2,
            "bin_end": 0.30000000000000004,
            "count": 0
           },
           {
            "bin_start": 0.30000000000000004,
            "bin_end": 0.4,
            "count": 0
           },
           {
            "bin_start": 0.4,
            "bin_end": 0.5,
            "count": 0
           },
           {
            "bin_start": 0.5,
            "bin_end": 0.6000000000000001,
            "count": 0
           },
           {
            "bin_start": 0.6000000000000001,
            "bin_end": 0.7000000000000001,
            "count": 0
           },
           {
            "bin_start": 0.7000000000000001,
            "bin_end": 0.8,
            "count": 0
           },
           {
            "bin_start": 0.8,
            "bin_end": 0.9,
            "count": 0
           },
           {
            "bin_start": 0.9,
            "bin_end": 1,
            "count": 1
           }
          ]
         }
        },
        {
         "name": "balconies",
         "dtype": "int64",
         "stats": {
          "unique_count": 2,
          "nan_count": 0,
          "min": "0",
          "max": "1",
          "histogram": [
           {
            "bin_start": 0,
            "bin_end": 0.1,
            "count": 4
           },
           {
            "bin_start": 0.1,
            "bin_end": 0.2,
            "count": 0
           },
           {
            "bin_start": 0.2,
            "bin_end": 0.30000000000000004,
            "count": 0
           },
           {
            "bin_start": 0.30000000000000004,
            "bin_end": 0.4,
            "count": 0
           },
           {
            "bin_start": 0.4,
            "bin_end": 0.5,
            "count": 0
           },
           {
            "bin_start": 0.5,
            "bin_end": 0.6000000000000001,
            "count": 0
           },
           {
            "bin_start": 0.6000000000000001,
            "bin_end": 0.7000000000000001,
            "count": 0
           },
           {
            "bin_start": 0.7000000000000001,
            "bin_end": 0.8,
            "count": 0
           },
           {
            "bin_start": 0.8,
            "bin_end": 0.9,
            "count": 0
           },
           {
            "bin_start": 0.9,
            "bin_end": 1,
            "count": 1
           }
          ]
         }
        },
        {
         "name": "loggias",
         "dtype": "int64",
         "stats": {
          "unique_count": 2,
          "nan_count": 0,
          "min": "0",
          "max": "1",
          "histogram": [
           {
            "bin_start": 0,
            "bin_end": 0.1,
            "count": 1
           },
           {
            "bin_start": 0.1,
            "bin_end": 0.2,
            "count": 0
           },
           {
            "bin_start": 0.2,
            "bin_end": 0.30000000000000004,
            "count": 0
           },
           {
            "bin_start": 0.30000000000000004,
            "bin_end": 0.4,
            "count": 0
           },
           {
            "bin_start": 0.4,
            "bin_end": 0.5,
            "count": 0
           },
           {
            "bin_start": 0.5,
            "bin_end": 0.6000000000000001,
            "count": 0
           },
           {
            "bin_start": 0.6000000000000001,
            "bin_end": 0.7000000000000001,
            "count": 0
           },
           {
            "bin_start": 0.7000000000000001,
            "bin_end": 0.8,
            "count": 0
           },
           {
            "bin_start": 0.8,
            "bin_end": 0.9,
            "count": 0
           },
           {
            "bin_start": 0.9,
            "bin_end": 1,
            "count": 4
           }
          ]
         }
        },
        {
         "name": "condition",
         "dtype": "int64",
         "stats": {
          "unique_count": 4,
          "nan_count": 0,
          "min": "0",
          "max": "3",
          "histogram": [
           {
            "bin_start": 0,
            "bin_end": 0.3,
            "count": 2
           },
           {
            "bin_start": 0.3,
            "bin_end": 0.6,
            "count": 0
           },
           {
            "bin_start": 0.6,
            "bin_end": 0.8999999999999999,
            "count": 0
           },
           {
            "bin_start": 0.8999999999999999,
            "bin_end": 1.2,
            "count": 1
           },
           {
            "bin_start": 1.2,
            "bin_end": 1.5,
            "count": 0
           },
           {
            "bin_start": 1.5,
            "bin_end": 1.7999999999999998,
            "count": 0
           },
           {
            "bin_start": 1.7999999999999998,
            "bin_end": 2.1,
            "count": 1
           },
           {
            "bin_start": 2.1,
            "bin_end": 2.4,
            "count": 0
           },
           {
            "bin_start": 2.4,
            "bin_end": 2.6999999999999997,
            "count": 0
           },
           {
            "bin_start": 2.6999999999999997,
            "bin_end": 3,
            "count": 1
           }
          ]
         }
        },
        {
         "name": "phones",
         "dtype": "int64",
         "stats": {
          "unique_count": 1,
          "nan_count": 0,
          "min": "1",
          "max": "1",
          "histogram": [
           {
            "bin_start": 0.5,
            "bin_end": 0.6,
            "count": 0
           },
           {
            "bin_start": 0.6,
            "bin_end": 0.7,
            "count": 0
           },
           {
            "bin_start": 0.7,
            "bin_end": 0.8,
            "count": 0
           },
           {
            "bin_start": 0.8,
            "bin_end": 0.9,
            "count": 0
           },
           {
            "bin_start": 0.9,
            "bin_end": 1,
            "count": 0
           },
           {
            "bin_start": 1,
            "bin_end": 1.1,
            "count": 5
           },
           {
            "bin_start": 1.1,
            "bin_end": 1.2000000000000002,
            "count": 0
           },
           {
            "bin_start": 1.2000000000000002,
            "bin_end": 1.3,
            "count": 0
           },
           {
            "bin_start": 1.3,
            "bin_end": 1.4,
            "count": 0
           },
           {
            "bin_start": 1.4,
            "bin_end": 1.5,
            "count": 0
           }
          ]
         }
        },
        {
         "name": "building_id",
         "dtype": "int64",
         "stats": {
          "unique_count": 5,
          "nan_count": 0,
          "min": "681",
          "max": "7530",
          "histogram": [
           {
            "bin_start": 681,
            "bin_end": 1365.9,
            "count": 2
           },
           {
            "bin_start": 1365.9,
            "bin_end": 2050.8,
            "count": 0
           },
           {
            "bin_start": 2050.8,
            "bin_end": 2735.7,
            "count": 0
           },
           {
            "bin_start": 2735.7,
            "bin_end": 3420.6,
            "count": 0
           },
           {
            "bin_start": 3420.6,
            "bin_end": 4105.5,
            "count": 0
           },
           {
            "bin_start": 4105.5,
            "bin_end": 4790.4,
            "count": 1
           },
           {
            "bin_start": 4790.4,
            "bin_end": 5475.3,
            "count": 1
           },
           {
            "bin_start": 5475.3,
            "bin_end": 6160.2,
            "count": 0
           },
           {
            "bin_start": 6160.2,
            "bin_end": 6845.099999999999,
            "count": 0
           },
           {
            "bin_start": 6845.099999999999,
            "bin_end": 7530,
            "count": 1
           }
          ]
         }
        },
        {
         "name": "new",
         "dtype": "int64",
         "stats": {
          "unique_count": 2,
          "nan_count": 0,
          "min": "0",
          "max": "1",
          "histogram": [
           {
            "bin_start": 0,
            "bin_end": 0.1,
            "count": 4
           },
           {
            "bin_start": 0.1,
            "bin_end": 0.2,
            "count": 0
           },
           {
            "bin_start": 0.2,
            "bin_end": 0.30000000000000004,
            "count": 0
           },
           {
            "bin_start": 0.30000000000000004,
            "bin_end": 0.4,
            "count": 0
           },
           {
            "bin_start": 0.4,
            "bin_end": 0.5,
            "count": 0
           },
           {
            "bin_start": 0.5,
            "bin_end": 0.6000000000000001,
            "count": 0
           },
           {
            "bin_start": 0.6000000000000001,
            "bin_end": 0.7000000000000001,
            "count": 0
           },
           {
            "bin_start": 0.7000000000000001,
            "bin_end": 0.8,
            "count": 0
           },
           {
            "bin_start": 0.8,
            "bin_end": 0.9,
            "count": 0
           },
           {
            "bin_start": 0.9,
            "bin_end": 1,
            "count": 1
           }
          ]
         }
        },
        {
         "name": "district",
         "dtype": "int64",
         "stats": {
          "unique_count": 2,
          "nan_count": 0,
          "min": "0",
          "max": "11",
          "histogram": [
           {
            "bin_start": 0,
            "bin_end": 1.1,
            "count": 1
           },
           {
            "bin_start": 1.1,
            "bin_end": 2.2,
            "count": 0
           },
           {
            "bin_start": 2.2,
            "bin_end": 3.3000000000000003,
            "count": 0
           },
           {
            "bin_start": 3.3000000000000003,
            "bin_end": 4.4,
            "count": 0
           },
           {
            "bin_start": 4.4,
            "bin_end": 5.5,
            "count": 0
           },
           {
            "bin_start": 5.5,
            "bin_end": 6.6000000000000005,
            "count": 0
           },
           {
            "bin_start": 6.6000000000000005,
            "bin_end": 7.700000000000001,
            "count": 0
           },
           {
            "bin_start": 7.700000000000001,
            "bin_end": 8.8,
            "count": 0
           },
           {
            "bin_start": 8.8,
            "bin_end": 9.9,
            "count": 0
           },
           {
            "bin_start": 9.9,
            "bin_end": 11,
            "count": 4
           }
          ]
         }
        },
        {
         "name": "constructed",
         "dtype": "int64",
         "stats": {
          "unique_count": 4,
          "nan_count": 0,
          "min": "2014",
          "max": "2021",
          "histogram": [
           {
            "bin_start": 2014,
            "bin_end": 2014.7,
            "count": 1
           },
           {
            "bin_start": 2014.7,
            "bin_end": 2015.4,
            "count": 0
           },
           {
            "bin_start": 2015.4,
            "bin_end": 2016.1,
            "count": 1
           },
           {
            "bin_start": 2016.1,
            "bin_end": 2016.8,
            "count": 0
           },
           {
            "bin_start": 2016.8,
            "bin_end": 2017.5,
            "count": 2
           },
           {
            "bin_start": 2017.5,
            "bin_end": 2018.2,
            "count": 0
           },
           {
            "bin_start": 2018.2,
            "bin_end": 2018.9,
            "count": 0
           },
           {
            "bin_start": 2018.9,
            "bin_end": 2019.6,
            "count": 0
           },
           {
            "bin_start": 2019.6,
            "bin_end": 2020.3,
            "count": 0
           },
           {
            "bin_start": 2020.3,
            "bin_end": 2021,
            "count": 1
           }
          ]
         }
        },
        {
         "name": "material",
         "dtype": "int64",
         "stats": {
          "unique_count": 2,
          "nan_count": 0,
          "min": "2",
          "max": "3",
          "histogram": [
           {
            "bin_start": 2,
            "bin_end": 2.1,
            "count": 4
           },
           {
            "bin_start": 2.1,
            "bin_end": 2.2,
            "count": 0
           },
           {
            "bin_start": 2.2,
            "bin_end": 2.3,
            "count": 0
           },
           {
            "bin_start": 2.3,
            "bin_end": 2.4,
            "count": 0
           },
           {
            "bin_start": 2.4,
            "bin_end": 2.5,
            "count": 0
           },
           {
            "bin_start": 2.5,
            "bin_end": 2.6,
            "count": 0
           },
           {
            "bin_start": 2.6,
            "bin_end": 2.7,
            "count": 0
           },
           {
            "bin_start": 2.7,
            "bin_end": 2.8,
            "count": 0
           },
           {
            "bin_start": 2.8,
            "bin_end": 2.9,
            "count": 0
           },
           {
            "bin_start": 2.9,
            "bin_end": 3,
            "count": 1
           }
          ]
         }
        },
        {
         "name": "stories",
         "dtype": "int64",
         "stats": {
          "unique_count": 4,
          "nan_count": 0,
          "min": "9",
          "max": "20",
          "histogram": [
           {
            "bin_start": 9,
            "bin_end": 10.1,
            "count": 1
           },
           {
            "bin_start": 10.1,
            "bin_end": 11.2,
            "count": 0
           },
           {
            "bin_start": 11.2,
            "bin_end": 12.3,
            "count": 0
           },
           {
            "bin_start": 12.3,
            "bin_end": 13.4,
            "count": 0
           },
           {
            "bin_start": 13.4,
            "bin_end": 14.5,
            "count": 0
           },
           {
            "bin_start": 14.5,
            "bin_end": 15.600000000000001,
            "count": 1
           },
           {
            "bin_start": 15.600000000000001,
            "bin_end": 16.700000000000003,
            "count": 0
           },
           {
            "bin_start": 16.700000000000003,
            "bin_end": 17.8,
            "count": 2
           },
           {
            "bin_start": 17.8,
            "bin_end": 18.9,
            "count": 0
           },
           {
            "bin_start": 18.9,
            "bin_end": 20,
            "count": 1
           }
          ]
         }
        },
        {
         "name": "elevator_without",
         "dtype": "int64",
         "stats": {
          "unique_count": 2,
          "nan_count": 0,
          "min": "0",
          "max": "1",
          "histogram": [
           {
            "bin_start": 0,
            "bin_end": 0.1,
            "count": 3
           },
           {
            "bin_start": 0.1,
            "bin_end": 0.2,
            "count": 0
           },
           {
            "bin_start": 0.2,
            "bin_end": 0.30000000000000004,
            "count": 0
           },
           {
            "bin_start": 0.30000000000000004,
            "bin_end": 0.4,
            "count": 0
           },
           {
            "bin_start": 0.4,
            "bin_end": 0.5,
            "count": 0
           },
           {
            "bin_start": 0.5,
            "bin_end": 0.6000000000000001,
            "count": 0
           },
           {
            "bin_start": 0.6000000000000001,
            "bin_end": 0.7000000000000001,
            "count": 0
           },
           {
            "bin_start": 0.7000000000000001,
            "bin_end": 0.8,
            "count": 0
           },
           {
            "bin_start": 0.8,
            "bin_end": 0.9,
            "count": 0
           },
           {
            "bin_start": 0.9,
            "bin_end": 1,
            "count": 2
           }
          ]
         }
        },
        {
         "name": "elevator_passenger",
         "dtype": "int64",
         "stats": {
          "unique_count": 1,
          "nan_count": 0,
          "min": "1",
          "max": "1",
          "histogram": [
           {
            "bin_start": 0.5,
            "bin_end": 0.6,
            "count": 0
           },
           {
            "bin_start": 0.6,
            "bin_end": 0.7,
            "count": 0
           },
           {
            "bin_start": 0.7,
            "bin_end": 0.8,
            "count": 0
           },
           {
            "bin_start": 0.8,
            "bin_end": 0.9,
            "count": 0
           },
           {
            "bin_start": 0.9,
            "bin_end": 1,
            "count": 0
           },
           {
            "bin_start": 1,
            "bin_end": 1.1,
            "count": 5
           },
           {
            "bin_start": 1.1,
            "bin_end": 1.2000000000000002,
            "count": 0
           },
           {
            "bin_start": 1.2000000000000002,
            "bin_end": 1.3,
            "count": 0
           },
           {
            "bin_start": 1.3,
            "bin_end": 1.4,
            "count": 0
           },
           {
            "bin_start": 1.4,
            "bin_end": 1.5,
            "count": 0
           }
          ]
         }
        },
        {
         "name": "elevator_service",
         "dtype": "int64",
         "stats": {
          "unique_count": 2,
          "nan_count": 0,
          "min": "0",
          "max": "1",
          "histogram": [
           {
            "bin_start": 0,
            "bin_end": 0.1,
            "count": 1
           },
           {
            "bin_start": 0.1,
            "bin_end": 0.2,
            "count": 0
           },
           {
            "bin_start": 0.2,
            "bin_end": 0.30000000000000004,
            "count": 0
           },
           {
            "bin_start": 0.30000000000000004,
            "bin_end": 0.4,
            "count": 0
           },
           {
            "bin_start": 0.4,
            "bin_end": 0.5,
            "count": 0
           },
           {
            "bin_start": 0.5,
            "bin_end": 0.6000000000000001,
            "count": 0
           },
           {
            "bin_start": 0.6000000000000001,
            "bin_end": 0.7000000000000001,
            "count": 0
           },
           {
            "bin_start": 0.7000000000000001,
            "bin_end": 0.8,
            "count": 0
           },
           {
            "bin_start": 0.8,
            "bin_end": 0.9,
            "count": 0
           },
           {
            "bin_start": 0.9,
            "bin_end": 1,
            "count": 4
           }
          ]
         }
        },
        {
         "name": "parking",
         "dtype": "int64",
         "stats": {
          "unique_count": 2,
          "nan_count": 0,
          "min": "0",
          "max": "1",
          "histogram": [
           {
            "bin_start": 0,
            "bin_end": 0.1,
            "count": 2
           },
           {
            "bin_start": 0.1,
            "bin_end": 0.2,
            "count": 0
           },
           {
            "bin_start": 0.2,
            "bin_end": 0.30000000000000004,
            "count": 0
           },
           {
            "bin_start": 0.30000000000000004,
            "bin_end": 0.4,
            "count": 0
           },
           {
            "bin_start": 0.4,
            "bin_end": 0.5,
            "count": 0
           },
           {
            "bin_start": 0.5,
            "bin_end": 0.6000000000000001,
            "count": 0
           },
           {
            "bin_start": 0.6000000000000001,
            "bin_end": 0.7000000000000001,
            "count": 0
           },
           {
            "bin_start": 0.7000000000000001,
            "bin_end": 0.8,
            "count": 0
           },
           {
            "bin_start": 0.8,
            "bin_end": 0.9,
            "count": 0
           },
           {
            "bin_start": 0.9,
            "bin_end": 1,
            "count": 3
           }
          ]
         }
        },
        {
         "name": "garbage_chute",
         "dtype": "int64",
         "stats": {
          "unique_count": 2,
          "nan_count": 0,
          "min": "0",
          "max": "1",
          "histogram": [
           {
            "bin_start": 0,
            "bin_end": 0.1,
            "count": 1
           },
           {
            "bin_start": 0.1,
            "bin_end": 0.2,
            "count": 0
           },
           {
            "bin_start": 0.2,
            "bin_end": 0.30000000000000004,
            "count": 0
           },
           {
            "bin_start": 0.30000000000000004,
            "bin_end": 0.4,
            "count": 0
           },
           {
            "bin_start": 0.4,
            "bin_end": 0.5,
            "count": 0
           },
           {
            "bin_start": 0.5,
            "bin_end": 0.6000000000000001,
            "count": 0
           },
           {
            "bin_start": 0.6000000000000001,
            "bin_end": 0.7000000000000001,
            "count": 0
           },
           {
            "bin_start": 0.7000000000000001,
            "bin_end": 0.8,
            "count": 0
           },
           {
            "bin_start": 0.8,
            "bin_end": 0.9,
            "count": 0
           },
           {
            "bin_start": 0.9,
            "bin_end": 1,
            "count": 4
           }
          ]
         }
        },
        {
         "name": "heating",
         "dtype": "int64",
         "stats": {
          "unique_count": 2,
          "nan_count": 0,
          "min": "0",
          "max": "3",
          "histogram": [
           {
            "bin_start": 0,
            "bin_end": 0.3,
            "count": 4
           },
           {
            "bin_start": 0.3,
            "bin_end": 0.6,
            "count": 0
           },
           {
            "bin_start": 0.6,
            "bin_end": 0.8999999999999999,
            "count": 0
           },
           {
            "bin_start": 0.8999999999999999,
            "bin_end": 1.2,
            "count": 0
           },
           {
            "bin_start": 1.2,
            "bin_end": 1.5,
            "count": 0
           },
           {
            "bin_start": 1.5,
            "bin_end": 1.7999999999999998,
            "count": 0
           },
           {
            "bin_start": 1.7999999999999998,
            "bin_end": 2.1,
            "count": 0
           },
           {
            "bin_start": 2.1,
            "bin_end": 2.4,
            "count": 0
           },
           {
            "bin_start": 2.4,
            "bin_end": 2.6999999999999997,
            "count": 0
           },
           {
            "bin_start": 2.6999999999999997,
            "bin_end": 3,
            "count": 1
           }
          ]
         }
        },
        {
         "name": "street",
         "dtype": "int64",
         "stats": {
          "unique_count": 5,
          "nan_count": 0,
          "min": "50",
          "max": "1112",
          "histogram": [
           {
            "bin_start": 50,
            "bin_end": 156.2,
            "count": 1
           },
           {
            "bin_start": 156.2,
            "bin_end": 262.4,
            "count": 0
           },
           {
            "bin_start": 262.4,
            "bin_end": 368.6,
            "count": 0
           },
           {
            "bin_start": 368.6,
            "bin_end": 474.8,
            "count": 0
           },
           {
            "bin_start": 474.8,
            "bin_end": 581,
            "count": 1
           },
           {
            "bin_start": 581,
            "bin_end": 687.2,
            "count": 0
           },
           {
            "bin_start": 687.2,
            "bin_end": 793.4,
            "count": 0
           },
           {
            "bin_start": 793.4,
            "bin_end": 899.6,
            "count": 2
           },
           {
            "bin_start": 899.6,
            "bin_end": 1005.8000000000001,
            "count": 0
           },
           {
            "bin_start": 1005.8000000000001,
            "bin_end": 1112,
            "count": 1
           }
          ]
         }
        },
        {
         "name": "distance",
         "dtype": "float64",
         "stats": {
          "unique_count": 5,
          "nan_count": 0,
          "min": "0.05241097794355376",
          "max": "0.345584373087098",
          "histogram": [
           {
            "bin_start": 0.05241097794355376,
            "bin_end": 0.08172831745790818,
            "count": 1
           },
           {
            "bin_start": 0.08172831745790818,
            "bin_end": 0.11104565697226261,
            "count": 0
           },
           {
            "bin_start": 0.11104565697226261,
            "bin_end": 0.14036299648661704,
            "count": 0
           },
           {
            "bin_start": 0.14036299648661704,
            "bin_end": 0.16968033600097146,
            "count": 0
           },
           {
            "bin_start": 0.16968033600097146,
            "bin_end": 0.19899767551532588,
            "count": 0
           },
           {
            "bin_start": 0.19899767551532588,
            "bin_end": 0.22831501502968032,
            "count": 2
           },
           {
            "bin_start": 0.22831501502968032,
            "bin_end": 0.25763235454403477,
            "count": 1
           },
           {
            "bin_start": 0.25763235454403477,
            "bin_end": 0.28694969405838916,
            "count": 0
           },
           {
            "bin_start": 0.28694969405838916,
            "bin_end": 0.3162670335727436,
            "count": 0
           },
           {
            "bin_start": 0.3162670335727436,
            "bin_end": 0.345584373087098,
            "count": 1
           }
          ]
         }
        },
        {
         "name": "_deepnote_index_column",
         "dtype": "int64"
        }
       ],
       "rows_top": [
        {
         "id": 23285,
         "seller": 3,
         "area_kitchen": 13.16,
         "area_living": 29.44,
         "floor": 2,
         "rooms": 1,
         "layout": 1,
         "ceiling": 3,
         "bathrooms_shared": 1,
         "bathrooms_private": 1,
         "windows_court": 1,
         "windows_street": 0,
         "balconies": 1,
         "loggias": 0,
         "condition": 0,
         "phones": 1,
         "building_id": 5148,
         "new": 0,
         "district": 0,
         "constructed": 2017,
         "material": 2,
         "stories": 20,
         "elevator_without": 1,
         "elevator_passenger": 1,
         "elevator_service": 1,
         "parking": 1,
         "garbage_chute": 1,
         "heating": 0,
         "street": 50,
         "distance": 0.05241097794355376,
         "_deepnote_index_column": 0
        },
        {
         "id": 23286,
         "seller": 1,
         "area_kitchen": 4,
         "area_living": 50,
         "floor": 4,
         "rooms": 1,
         "layout": 1,
         "ceiling": 3,
         "bathrooms_shared": 1,
         "bathrooms_private": 1,
         "windows_court": 1,
         "windows_street": 0,
         "balconies": 0,
         "loggias": 1,
         "condition": 3,
         "phones": 1,
         "building_id": 1290,
         "new": 0,
         "district": 11,
         "constructed": 2017,
         "material": 2,
         "stories": 15,
         "elevator_without": 0,
         "elevator_passenger": 1,
         "elevator_service": 1,
         "parking": 0,
         "garbage_chute": 0,
         "heating": 0,
         "street": 1112,
         "distance": 0.21643576388850122,
         "_deepnote_index_column": 1
        },
        {
         "id": 23287,
         "seller": 3,
         "area_kitchen": 19.6,
         "area_living": 11.2,
         "floor": 10,
         "rooms": 1,
         "layout": 1,
         "ceiling": 3,
         "bathrooms_shared": 1,
         "bathrooms_private": 0,
         "windows_court": 1,
         "windows_street": 0,
         "balconies": 0,
         "loggias": 1,
         "condition": 2,
         "phones": 1,
         "building_id": 681,
         "new": 1,
         "district": 11,
         "constructed": 2021,
         "material": 3,
         "stories": 9,
         "elevator_without": 0,
         "elevator_passenger": 1,
         "elevator_service": 1,
         "parking": 1,
         "garbage_chute": 1,
         "heating": 0,
         "street": 547,
         "distance": 0.22887870545990124,
         "_deepnote_index_column": 2
        },
        {
         "id": 23288,
         "seller": 3,
         "area_kitchen": 15.68,
         "area_living": 55.56,
         "floor": 5,
         "rooms": 2,
         "layout": 1,
         "ceiling": 3,
         "bathrooms_shared": 1,
         "bathrooms_private": 0,
         "windows_court": 0,
         "windows_street": 1,
         "balconies": 0,
         "loggias": 1,
         "condition": 0,
         "phones": 1,
         "building_id": 4261,
         "new": 0,
         "district": 11,
         "constructed": 2014,
         "material": 2,
         "stories": 17,
         "elevator_without": 1,
         "elevator_passenger": 1,
         "elevator_service": 0,
         "parking": 0,
         "garbage_chute": 1,
         "heating": 3,
         "street": 856,
         "distance": 0.21739369540996625,
         "_deepnote_index_column": 3
        },
        {
         "id": 23289,
         "seller": 3,
         "area_kitchen": 9,
         "area_living": 17,
         "floor": 14,
         "rooms": 1,
         "layout": 1,
         "ceiling": 3,
         "bathrooms_shared": 1,
         "bathrooms_private": 0,
         "windows_court": 1,
         "windows_street": 0,
         "balconies": 0,
         "loggias": 1,
         "condition": 1,
         "phones": 1,
         "building_id": 7530,
         "new": 0,
         "district": 11,
         "constructed": 2016,
         "material": 2,
         "stories": 17,
         "elevator_without": 0,
         "elevator_passenger": 1,
         "elevator_service": 1,
         "parking": 1,
         "garbage_chute": 1,
         "heating": 0,
         "street": 818,
         "distance": 0.345584373087098,
         "_deepnote_index_column": 4
        }
       ],
       "rows_bottom": null
      },
      "text/plain": "      id  seller  area_kitchen  area_living  floor  rooms  layout  ceiling  \\\n0  23285       3         13.16        29.44      2      1       1        3   \n1  23286       1          4.00        50.00      4      1       1        3   \n2  23287       3         19.60        11.20     10      1       1        3   \n3  23288       3         15.68        55.56      5      2       1        3   \n4  23289       3          9.00        17.00     14      1       1        3   \n\n   bathrooms_shared  bathrooms_private  ...  material  stories  \\\n0                 1                  1  ...         2       20   \n1                 1                  1  ...         2       15   \n2                 1                  0  ...         3        9   \n3                 1                  0  ...         2       17   \n4                 1                  0  ...         2       17   \n\n   elevator_without  elevator_passenger  elevator_service  parking  \\\n0                 1                   1                 1        1   \n1                 0                   1                 1        0   \n2                 0                   1                 1        1   \n3                 1                   1                 0        0   \n4                 0                   1                 1        1   \n\n   garbage_chute  heating  street  distance  \n0              1        0      50  0.052411  \n1              0        0    1112  0.216436  \n2              1        0     547  0.228879  \n3              1        3     856  0.217394  \n4              1        0     818  0.345584  \n\n[5 rows x 30 columns]",
      "text/html": "<div>\n<style scoped>\n    .dataframe tbody tr th:only-of-type {\n        vertical-align: middle;\n    }\n\n    .dataframe tbody tr th {\n        vertical-align: top;\n    }\n\n    .dataframe thead th {\n        text-align: right;\n    }\n</style>\n<table border=\"1\" class=\"dataframe\">\n  <thead>\n    <tr style=\"text-align: right;\">\n      <th></th>\n      <th>id</th>\n      <th>seller</th>\n      <th>area_kitchen</th>\n      <th>area_living</th>\n      <th>floor</th>\n      <th>rooms</th>\n      <th>layout</th>\n      <th>ceiling</th>\n      <th>bathrooms_shared</th>\n      <th>bathrooms_private</th>\n      <th>...</th>\n      <th>material</th>\n      <th>stories</th>\n      <th>elevator_without</th>\n      <th>elevator_passenger</th>\n      <th>elevator_service</th>\n      <th>parking</th>\n      <th>garbage_chute</th>\n      <th>heating</th>\n      <th>street</th>\n      <th>distance</th>\n    </tr>\n  </thead>\n  <tbody>\n    <tr>\n      <th>0</th>\n      <td>23285</td>\n      <td>3</td>\n      <td>13.16</td>\n      <td>29.44</td>\n      <td>2</td>\n      <td>1</td>\n      <td>1</td>\n      <td>3</td>\n      <td>1</td>\n      <td>1</td>\n      <td>...</td>\n      <td>2</td>\n      <td>20</td>\n      <td>1</td>\n      <td>1</td>\n      <td>1</td>\n      <td>1</td>\n      <td>1</td>\n      <td>0</td>\n      <td>50</td>\n      <td>0.052411</td>\n    </tr>\n    <tr>\n      <th>1</th>\n      <td>23286</td>\n      <td>1</td>\n      <td>4.00</td>\n      <td>50.00</td>\n      <td>4</td>\n      <td>1</td>\n      <td>1</td>\n      <td>3</td>\n      <td>1</td>\n      <td>1</td>\n      <td>...</td>\n      <td>2</td>\n      <td>15</td>\n      <td>0</td>\n      <td>1</td>\n      <td>1</td>\n      <td>0</td>\n      <td>0</td>\n      <td>0</td>\n      <td>1112</td>\n      <td>0.216436</td>\n    </tr>\n    <tr>\n      <th>2</th>\n      <td>23287</td>\n      <td>3</td>\n      <td>19.60</td>\n      <td>11.20</td>\n      <td>10</td>\n      <td>1</td>\n      <td>1</td>\n      <td>3</td>\n      <td>1</td>\n      <td>0</td>\n      <td>...</td>\n      <td>3</td>\n      <td>9</td>\n      <td>0</td>\n      <td>1</td>\n      <td>1</td>\n      <td>1</td>\n      <td>1</td>\n      <td>0</td>\n      <td>547</td>\n      <td>0.228879</td>\n    </tr>\n    <tr>\n      <th>3</th>\n      <td>23288</td>\n      <td>3</td>\n      <td>15.68</td>\n      <td>55.56</td>\n      <td>5</td>\n      <td>2</td>\n      <td>1</td>\n      <td>3</td>\n      <td>1</td>\n      <td>0</td>\n      <td>...</td>\n      <td>2</td>\n      <td>17</td>\n      <td>1</td>\n      <td>1</td>\n      <td>0</td>\n      <td>0</td>\n      <td>1</td>\n      <td>3</td>\n      <td>856</td>\n      <td>0.217394</td>\n    </tr>\n    <tr>\n      <th>4</th>\n      <td>23289</td>\n      <td>3</td>\n      <td>9.00</td>\n      <td>17.00</td>\n      <td>14</td>\n      <td>1</td>\n      <td>1</td>\n      <td>3</td>\n      <td>1</td>\n      <td>0</td>\n      <td>...</td>\n      <td>2</td>\n      <td>17</td>\n      <td>0</td>\n      <td>1</td>\n      <td>1</td>\n      <td>1</td>\n      <td>1</td>\n      <td>0</td>\n      <td>818</td>\n      <td>0.345584</td>\n    </tr>\n  </tbody>\n</table>\n<p>5 rows × 30 columns</p>\n</div>"
     },
     "metadata": {}
    }
   ],
   "execution_count": null
  },
  {
   "cell_type": "code",
   "metadata": {
    "tags": [],
    "cell_id": "00016-8d9f4f68-a0be-46c2-968a-24740f8b01a5",
    "deepnote_to_be_reexecuted": false,
    "source_hash": "570ca011",
    "execution_start": 1637340213320,
    "execution_millis": 38904,
    "deepnote_cell_type": "code"
   },
   "source": "data_test1 = data_test.drop([\"id\",'layout', 'ceiling', 'windows_court', 'new','elevator_passenger', 'elevator_service', 'garbage_chute', 'heating'],axis=1)\nprint(data_test1)\ny_test_pred = gbm.predict(data_test1, num_iteration = gbm.best_iteration_)",
   "outputs": [
    {
     "name": "stdout",
     "text": "      seller  area_kitchen  area_living  floor  rooms  bathrooms_shared  \\\n0          3         13.16        29.44      2      1                 1   \n1          1          4.00        50.00      4      1                 1   \n2          3         19.60        11.20     10      1                 1   \n3          3         15.68        55.56      5      2                 1   \n4          3          9.00        17.00     14      1                 1   \n...      ...           ...          ...    ...    ...               ...   \n9932       3         19.90        56.70     16      3                 1   \n9933       1          8.88        33.22      3      3                 2   \n9934       1         22.06        78.22     15      1                 1   \n9935       1         10.50        15.10     14      1                 1   \n9936       1          7.00        49.00      2      3                 0   \n\n      bathrooms_private  windows_street  balconies  loggias  ...  phones  \\\n0                     1               0          1        0  ...       1   \n1                     1               0          0        1  ...       1   \n2                     0               0          0        1  ...       1   \n3                     0               1          0        1  ...       1   \n4                     0               0          0        1  ...       1   \n...                 ...             ...        ...      ...  ...     ...   \n9932                  0               0          0        1  ...       1   \n9933                  0               0          1        0  ...       2   \n9934                  1               1          1        1  ...       1   \n9935                  0               1          0        1  ...       2   \n9936                  1               0          1        0  ...       0   \n\n      building_id  district  constructed  material  stories  elevator_without  \\\n0            5148         0         2017         2       20                 1   \n1            1290        11         2017         2       15                 0   \n2             681        11         2021         3        9                 0   \n3            4261        11         2014         2       17                 1   \n4            7530        11         2016         2       17                 0   \n...           ...       ...          ...       ...      ...               ...   \n9932         4252         8         2020         2       20                 0   \n9933         7380         7         2021         2       20                 0   \n9934         1480         7         2016         2       24                 0   \n9935         2154         5         2019         1       14                 1   \n9936         3007        10         1993         2        2                 1   \n\n      parking  street  distance  \n0           1      50  0.052411  \n1           0    1112  0.216436  \n2           1     547  0.228879  \n3           0     856  0.217394  \n4           1     818  0.345584  \n...       ...     ...       ...  \n9932        0    1067  0.148935  \n9933        1     258  0.083756  \n9934        0     537  0.225713  \n9935        0     865  0.062356  \n9936        1     284  0.407065  \n\n[9937 rows x 21 columns]\n",
     "output_type": "stream"
    }
   ],
   "execution_count": null
  },
  {
   "cell_type": "code",
   "metadata": {
    "tags": [],
    "cell_id": "00017-c6ed1e65-0c16-4452-9f1c-92413ee6ea9f",
    "deepnote_to_be_reexecuted": false,
    "source_hash": "31104273",
    "execution_start": 1637340262569,
    "execution_millis": 4,
    "deepnote_output_heights": [
     117.1875
    ],
    "deepnote_cell_type": "code"
   },
   "source": "final_labels = y_test_pred * y_test_area_total\nfinal_labels.head()",
   "outputs": [
    {
     "output_type": "execute_result",
     "execution_count": 25,
     "data": {
      "text/plain": "0    2.814662e+07\n1    1.179517e+07\n2    6.097245e+06\n3    9.359757e+06\n4    5.126253e+06\nName: area_total, dtype: float64"
     },
     "metadata": {}
    }
   ],
   "execution_count": null
  },
  {
   "cell_type": "code",
   "metadata": {
    "tags": [],
    "cell_id": "00018-516e4d21-65be-472a-b8f9-ff688a9c0177",
    "deepnote_to_be_reexecuted": false,
    "source_hash": "623c05ad",
    "execution_start": 1637340271822,
    "execution_millis": 869,
    "deepnote_cell_type": "code"
   },
   "source": "submission = pd.DataFrame()\nsubmission['id'] = data_test.id\nsubmission['price_prediction'] = final_labels # Predict on non-nan entries\n # Fill missing entries with mean predictor\nprint(f'Generated {len(submission)} predictions')\n\n# Export submission to csv with headers\n#submission.to_csv('sample_submission.csv', index=False)\n\nsubmission.to_csv('sample_submission17.csv', index=False)",
   "outputs": [
    {
     "name": "stdout",
     "text": "Generated 9937 predictions\n",
     "output_type": "stream"
    }
   ],
   "execution_count": null
  },
  {
   "cell_type": "code",
   "metadata": {
    "tags": [],
    "cell_id": "00019-5a679a58-ccc3-4bc0-8a71-83ae3ad6f70e",
    "deepnote_to_be_reexecuted": false,
    "source_hash": "5cbf768a",
    "execution_start": 1637340276469,
    "execution_millis": 30,
    "deepnote_cell_type": "code"
   },
   "source": "gbm.booster_.feature_importance()\nfea_imp_ = pd.DataFrame({'cols':X_train.columns, 'fea_imp':gbm.feature_importances_})\nfea_imp_.loc[fea_imp_.fea_imp > 0].sort_values(by=['fea_imp'], ascending = False)",
   "outputs": [
    {
     "output_type": "execute_result",
     "execution_count": 27,
     "data": {
      "application/vnd.deepnote.dataframe.v2+json": {
       "row_count": 21,
       "column_count": 2,
       "columns": [
        {
         "name": "cols",
         "dtype": "object",
         "stats": {
          "unique_count": 21,
          "nan_count": 0,
          "categories": [
           {
            "name": "distance",
            "count": 1
           },
           {
            "name": "area_living",
            "count": 1
           },
           {
            "name": "19 others",
            "count": 19
           }
          ]
         }
        },
        {
         "name": "fea_imp",
         "dtype": "int32",
         "stats": {
          "unique_count": 21,
          "nan_count": 0,
          "min": "8129",
          "max": "139107",
          "histogram": [
           {
            "bin_start": 8129,
            "bin_end": 21226.8,
            "count": 9
           },
           {
            "bin_start": 21226.8,
            "bin_end": 34324.6,
            "count": 3
           },
           {
            "bin_start": 34324.6,
            "bin_end": 47422.399999999994,
            "count": 1
           },
           {
            "bin_start": 47422.399999999994,
            "bin_end": 60520.2,
            "count": 0
           },
           {
            "bin_start": 60520.2,
            "bin_end": 73618,
            "count": 1
           },
           {
            "bin_start": 73618,
            "bin_end": 86715.79999999999,
            "count": 2
           },
           {
            "bin_start": 86715.79999999999,
            "bin_end": 99813.59999999999,
            "count": 3
           },
           {
            "bin_start": 99813.59999999999,
            "bin_end": 112911.4,
            "count": 0
           },
           {
            "bin_start": 112911.4,
            "bin_end": 126009.2,
            "count": 1
           },
           {
            "bin_start": 126009.2,
            "bin_end": 139107,
            "count": 1
           }
          ]
         }
        },
        {
         "name": "_deepnote_index_column",
         "dtype": "int64"
        }
       ],
       "rows_top": [
        {
         "cols": "distance",
         "fea_imp": 139107,
         "_deepnote_index_column": 20
        },
        {
         "cols": "area_living",
         "fea_imp": 115698,
         "_deepnote_index_column": 2
        },
        {
         "cols": "building_id",
         "fea_imp": 94181,
         "_deepnote_index_column": 12
        },
        {
         "cols": "area_kitchen",
         "fea_imp": 91902,
         "_deepnote_index_column": 1
        },
        {
         "cols": "constructed",
         "fea_imp": 91826,
         "_deepnote_index_column": 14
        },
        {
         "cols": "street",
         "fea_imp": 80956,
         "_deepnote_index_column": 19
        },
        {
         "cols": "stories",
         "fea_imp": 74534,
         "_deepnote_index_column": 16
        },
        {
         "cols": "floor",
         "fea_imp": 67646,
         "_deepnote_index_column": 3
        },
        {
         "cols": "district",
         "fea_imp": 46946,
         "_deepnote_index_column": 13
        },
        {
         "cols": "condition",
         "fea_imp": 29160,
         "_deepnote_index_column": 10
        },
        {
         "cols": "rooms",
         "fea_imp": 27955,
         "_deepnote_index_column": 4
        },
        {
         "cols": "seller",
         "fea_imp": 21436,
         "_deepnote_index_column": 0
        },
        {
         "cols": "material",
         "fea_imp": 18682,
         "_deepnote_index_column": 15
        },
        {
         "cols": "bathrooms_shared",
         "fea_imp": 16095,
         "_deepnote_index_column": 5
        },
        {
         "cols": "bathrooms_private",
         "fea_imp": 15566,
         "_deepnote_index_column": 6
        },
        {
         "cols": "parking",
         "fea_imp": 14110,
         "_deepnote_index_column": 18
        },
        {
         "cols": "balconies",
         "fea_imp": 12454,
         "_deepnote_index_column": 8
        },
        {
         "cols": "loggias",
         "fea_imp": 11212,
         "_deepnote_index_column": 9
        },
        {
         "cols": "elevator_without",
         "fea_imp": 11160,
         "_deepnote_index_column": 17
        },
        {
         "cols": "phones",
         "fea_imp": 8311,
         "_deepnote_index_column": 11
        },
        {
         "cols": "windows_street",
         "fea_imp": 8129,
         "_deepnote_index_column": 7
        }
       ],
       "rows_bottom": null
      },
      "text/plain": "                 cols  fea_imp\n20           distance   139107\n2         area_living   115698\n12        building_id    94181\n1        area_kitchen    91902\n14        constructed    91826\n19             street    80956\n16            stories    74534\n3               floor    67646\n13           district    46946\n10          condition    29160\n4               rooms    27955\n0              seller    21436\n15           material    18682\n5    bathrooms_shared    16095\n6   bathrooms_private    15566\n18            parking    14110\n8           balconies    12454\n9             loggias    11212\n17   elevator_without    11160\n11             phones     8311\n7      windows_street     8129",
      "text/html": "<div>\n<style scoped>\n    .dataframe tbody tr th:only-of-type {\n        vertical-align: middle;\n    }\n\n    .dataframe tbody tr th {\n        vertical-align: top;\n    }\n\n    .dataframe thead th {\n        text-align: right;\n    }\n</style>\n<table border=\"1\" class=\"dataframe\">\n  <thead>\n    <tr style=\"text-align: right;\">\n      <th></th>\n      <th>cols</th>\n      <th>fea_imp</th>\n    </tr>\n  </thead>\n  <tbody>\n    <tr>\n      <th>20</th>\n      <td>distance</td>\n      <td>139107</td>\n    </tr>\n    <tr>\n      <th>2</th>\n      <td>area_living</td>\n      <td>115698</td>\n    </tr>\n    <tr>\n      <th>12</th>\n      <td>building_id</td>\n      <td>94181</td>\n    </tr>\n    <tr>\n      <th>1</th>\n      <td>area_kitchen</td>\n      <td>91902</td>\n    </tr>\n    <tr>\n      <th>14</th>\n      <td>constructed</td>\n      <td>91826</td>\n    </tr>\n    <tr>\n      <th>19</th>\n      <td>street</td>\n      <td>80956</td>\n    </tr>\n    <tr>\n      <th>16</th>\n      <td>stories</td>\n      <td>74534</td>\n    </tr>\n    <tr>\n      <th>3</th>\n      <td>floor</td>\n      <td>67646</td>\n    </tr>\n    <tr>\n      <th>13</th>\n      <td>district</td>\n      <td>46946</td>\n    </tr>\n    <tr>\n      <th>10</th>\n      <td>condition</td>\n      <td>29160</td>\n    </tr>\n    <tr>\n      <th>4</th>\n      <td>rooms</td>\n      <td>27955</td>\n    </tr>\n    <tr>\n      <th>0</th>\n      <td>seller</td>\n      <td>21436</td>\n    </tr>\n    <tr>\n      <th>15</th>\n      <td>material</td>\n      <td>18682</td>\n    </tr>\n    <tr>\n      <th>5</th>\n      <td>bathrooms_shared</td>\n      <td>16095</td>\n    </tr>\n    <tr>\n      <th>6</th>\n      <td>bathrooms_private</td>\n      <td>15566</td>\n    </tr>\n    <tr>\n      <th>18</th>\n      <td>parking</td>\n      <td>14110</td>\n    </tr>\n    <tr>\n      <th>8</th>\n      <td>balconies</td>\n      <td>12454</td>\n    </tr>\n    <tr>\n      <th>9</th>\n      <td>loggias</td>\n      <td>11212</td>\n    </tr>\n    <tr>\n      <th>17</th>\n      <td>elevator_without</td>\n      <td>11160</td>\n    </tr>\n    <tr>\n      <th>11</th>\n      <td>phones</td>\n      <td>8311</td>\n    </tr>\n    <tr>\n      <th>7</th>\n      <td>windows_street</td>\n      <td>8129</td>\n    </tr>\n  </tbody>\n</table>\n</div>"
     },
     "metadata": {}
    }
   ],
   "execution_count": null
  },
  {
   "cell_type": "markdown",
   "source": "<a style='text-decoration:none;line-height:16px;display:flex;color:#5B5B62;padding:10px;justify-content:end;' href='https://deepnote.com?utm_source=created-in-deepnote-cell&projectId=99c1e030-46bc-40fa-835c-0661eae0d488' target=\"_blank\">\n<img alt='Created in deepnote.com' style='display:inline;max-height:16px;margin:0px;margin-right:7.5px;' src='data:image/svg+xml;base64,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' > </img>\nCreated in <span style='font-weight:600;margin-left:4px;'>Deepnote</span></a>",
   "metadata": {
    "tags": [],
    "created_in_deepnote_cell": true,
    "deepnote_cell_type": "markdown"
   }
  }
 ],
 "nbformat": 4,
 "nbformat_minor": 2,
 "metadata": {
  "orig_nbformat": 2,
  "deepnote": {
   "is_reactive": false
  },
  "deepnote_notebook_id": "6ffd7cf4-65b9-4531-8ade-dc7d5f13f336",
  "deepnote_execution_queue": []
 }
}