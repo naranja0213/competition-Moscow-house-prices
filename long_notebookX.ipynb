{
 "cells": [
  {
   "cell_type": "code",
   "metadata": {
    "tags": [],
    "deepnote_to_be_reexecuted": false,
    "source_hash": "275b9ea6",
    "execution_start": 1637349824103,
    "execution_millis": 15702,
    "cell_id": "00000-e4e4d20c-d3fe-4e6b-a2c0-bccb38bfd720",
    "deepnote_cell_type": "code"
   },
   "source": "# !pip install -r requirements.txt\n\n!pip install xgboost\n!pip install catboost\n!pip install ipywidgets\n!pip install LightGBM",
   "outputs": [
    {
     "name": "stdout",
     "text": "Requirement already satisfied: xgboost in /root/venv/lib/python3.9/site-packages (1.5.0)\nRequirement already satisfied: numpy in /shared-libs/python3.9/py/lib/python3.9/site-packages (from xgboost) (1.21.4)\nRequirement already satisfied: scipy in /shared-libs/python3.9/py/lib/python3.9/site-packages (from xgboost) (1.7.2)\n\u001b[33mWARNING: You are using pip version 21.2.3; however, version 21.3.1 is available.\nYou should consider upgrading via the '/root/venv/bin/python -m pip install --upgrade pip' command.\u001b[0m\nRequirement already satisfied: catboost in /root/venv/lib/python3.9/site-packages (1.0.3)\nRequirement already satisfied: pandas>=0.24.0 in /shared-libs/python3.9/py/lib/python3.9/site-packages (from catboost) (1.2.5)\nRequirement already satisfied: scipy in /shared-libs/python3.9/py/lib/python3.9/site-packages (from catboost) (1.7.2)\nRequirement already satisfied: numpy>=1.16.0 in /shared-libs/python3.9/py/lib/python3.9/site-packages (from catboost) (1.21.4)\nRequirement already satisfied: six in /shared-libs/python3.9/py-core/lib/python3.9/site-packages (from catboost) (1.16.0)\nRequirement already satisfied: matplotlib in /shared-libs/python3.9/py/lib/python3.9/site-packages (from catboost) (3.4.3)\nRequirement already satisfied: graphviz in /root/venv/lib/python3.9/site-packages (from catboost) (0.18.2)\nRequirement already satisfied: plotly in /shared-libs/python3.9/py/lib/python3.9/site-packages (from catboost) (5.3.1)\nRequirement already satisfied: pytz>=2017.3 in /shared-libs/python3.9/py/lib/python3.9/site-packages (from pandas>=0.24.0->catboost) (2021.3)\nRequirement already satisfied: python-dateutil>=2.7.3 in /shared-libs/python3.9/py-core/lib/python3.9/site-packages (from pandas>=0.24.0->catboost) (2.8.2)\nRequirement already satisfied: cycler>=0.10 in /shared-libs/python3.9/py/lib/python3.9/site-packages (from matplotlib->catboost) (0.11.0)\nRequirement already satisfied: kiwisolver>=1.0.1 in /shared-libs/python3.9/py/lib/python3.9/site-packages (from matplotlib->catboost) (1.3.2)\nRequirement already satisfied: pyparsing>=2.2.1 in /shared-libs/python3.9/py-core/lib/python3.9/site-packages (from matplotlib->catboost) (2.4.7)\nRequirement already satisfied: pillow>=6.2.0 in /shared-libs/python3.9/py/lib/python3.9/site-packages (from matplotlib->catboost) (8.4.0)\nRequirement already satisfied: tenacity>=6.2.0 in /shared-libs/python3.9/py/lib/python3.9/site-packages (from plotly->catboost) (8.0.1)\n\u001b[33mWARNING: You are using pip version 21.2.3; however, version 21.3.1 is available.\nYou should consider upgrading via the '/root/venv/bin/python -m pip install --upgrade pip' command.\u001b[0m\nRequirement already satisfied: ipywidgets in /root/venv/lib/python3.9/site-packages (7.6.5)\nRequirement already satisfied: traitlets>=4.3.1 in /shared-libs/python3.9/py-core/lib/python3.9/site-packages (from ipywidgets) (4.3.3)\nRequirement already satisfied: nbformat>=4.2.0 in /shared-libs/python3.9/py-core/lib/python3.9/site-packages (from ipywidgets) (5.1.3)\nRequirement already satisfied: ipykernel>=4.5.1 in /shared-libs/python3.9/py-core/lib/python3.9/site-packages (from ipywidgets) (5.5.5)\nRequirement already satisfied: ipython-genutils~=0.2.0 in /shared-libs/python3.9/py-core/lib/python3.9/site-packages (from ipywidgets) (0.2.0)\nRequirement already satisfied: jupyterlab-widgets>=1.0.0 in /root/venv/lib/python3.9/site-packages (from ipywidgets) (1.0.2)\nRequirement already satisfied: widgetsnbextension~=3.5.0 in /root/venv/lib/python3.9/site-packages (from ipywidgets) (3.5.2)\nRequirement already satisfied: ipython>=4.0.0 in /shared-libs/python3.9/py-core/lib/python3.9/site-packages (from ipywidgets) (7.29.0)\nRequirement already satisfied: tornado>=4.2 in /shared-libs/python3.9/py-core/lib/python3.9/site-packages (from ipykernel>=4.5.1->ipywidgets) (6.1)\nRequirement already satisfied: jupyter-client in /shared-libs/python3.9/py-core/lib/python3.9/site-packages (from ipykernel>=4.5.1->ipywidgets) (6.1.12)\nRequirement already satisfied: matplotlib-inline in /shared-libs/python3.9/py-core/lib/python3.9/site-packages (from ipython>=4.0.0->ipywidgets) (0.1.3)\nRequirement already satisfied: setuptools>=18.5 in /root/venv/lib/python3.9/site-packages (from ipython>=4.0.0->ipywidgets) (57.4.0)\nRequirement already satisfied: pickleshare in /shared-libs/python3.9/py-core/lib/python3.9/site-packages (from ipython>=4.0.0->ipywidgets) (0.7.5)\nRequirement already satisfied: pexpect>4.3 in /shared-libs/python3.9/py-core/lib/python3.9/site-packages (from ipython>=4.0.0->ipywidgets) (4.8.0)\nRequirement already satisfied: backcall in /shared-libs/python3.9/py-core/lib/python3.9/site-packages (from ipython>=4.0.0->ipywidgets) (0.2.0)\nRequirement already satisfied: pygments in /shared-libs/python3.9/py-core/lib/python3.9/site-packages (from ipython>=4.0.0->ipywidgets) (2.10.0)\nRequirement already satisfied: prompt-toolkit!=3.0.0,!=3.0.1,<3.1.0,>=2.0.0 in /shared-libs/python3.9/py-core/lib/python3.9/site-packages (from ipython>=4.0.0->ipywidgets) (3.0.22)\nRequirement already satisfied: decorator in /shared-libs/python3.9/py-core/lib/python3.9/site-packages (from ipython>=4.0.0->ipywidgets) (5.1.0)\nRequirement already satisfied: jedi>=0.16 in /shared-libs/python3.9/py-core/lib/python3.9/site-packages (from ipython>=4.0.0->ipywidgets) (0.17.2)\nRequirement already satisfied: parso<0.8.0,>=0.7.0 in /shared-libs/python3.9/py-core/lib/python3.9/site-packages (from jedi>=0.16->ipython>=4.0.0->ipywidgets) (0.7.1)\nRequirement already satisfied: jupyter-core in /shared-libs/python3.9/py-core/lib/python3.9/site-packages (from nbformat>=4.2.0->ipywidgets) (4.7.1)\nRequirement already satisfied: jsonschema!=2.5.0,>=2.4 in /shared-libs/python3.9/py-core/lib/python3.9/site-packages (from nbformat>=4.2.0->ipywidgets) (3.2.0)\nRequirement already satisfied: attrs>=17.4.0 in /shared-libs/python3.9/py-core/lib/python3.9/site-packages (from jsonschema!=2.5.0,>=2.4->nbformat>=4.2.0->ipywidgets) (21.2.0)\nRequirement already satisfied: six>=1.11.0 in /shared-libs/python3.9/py-core/lib/python3.9/site-packages (from jsonschema!=2.5.0,>=2.4->nbformat>=4.2.0->ipywidgets) (1.16.0)\nRequirement already satisfied: pyrsistent>=0.14.0 in /shared-libs/python3.9/py-core/lib/python3.9/site-packages (from jsonschema!=2.5.0,>=2.4->nbformat>=4.2.0->ipywidgets) (0.18.0)\nRequirement already satisfied: ptyprocess>=0.5 in /shared-libs/python3.9/py-core/lib/python3.9/site-packages (from pexpect>4.3->ipython>=4.0.0->ipywidgets) (0.7.0)\nRequirement already satisfied: wcwidth in /shared-libs/python3.9/py-core/lib/python3.9/site-packages (from prompt-toolkit!=3.0.0,!=3.0.1,<3.1.0,>=2.0.0->ipython>=4.0.0->ipywidgets) (0.2.5)\nRequirement already satisfied: notebook>=4.4.1 in /shared-libs/python3.9/py-core/lib/python3.9/site-packages (from widgetsnbextension~=3.5.0->ipywidgets) (6.3.0)\nRequirement already satisfied: prometheus-client in /shared-libs/python3.9/py-core/lib/python3.9/site-packages (from notebook>=4.4.1->widgetsnbextension~=3.5.0->ipywidgets) (0.12.0)\nRequirement already satisfied: Send2Trash>=1.5.0 in /shared-libs/python3.9/py-core/lib/python3.9/site-packages (from notebook>=4.4.1->widgetsnbextension~=3.5.0->ipywidgets) (1.8.0)\nRequirement already satisfied: argon2-cffi in /shared-libs/python3.9/py-core/lib/python3.9/site-packages (from notebook>=4.4.1->widgetsnbextension~=3.5.0->ipywidgets) (21.1.0)\nRequirement already satisfied: nbconvert==6.0.7 in /shared-libs/python3.9/py-core/lib/python3.9/site-packages (from notebook>=4.4.1->widgetsnbextension~=3.5.0->ipywidgets) (6.0.7)\nRequirement already satisfied: jinja2 in /shared-libs/python3.9/py-core/lib/python3.9/site-packages (from notebook>=4.4.1->widgetsnbextension~=3.5.0->ipywidgets) (3.0.3)\nRequirement already satisfied: pyzmq>=17 in /shared-libs/python3.9/py-core/lib/python3.9/site-packages (from notebook>=4.4.1->widgetsnbextension~=3.5.0->ipywidgets) (22.3.0)\nRequirement already satisfied: terminado>=0.8.3 in /shared-libs/python3.9/py-core/lib/python3.9/site-packages (from notebook>=4.4.1->widgetsnbextension~=3.5.0->ipywidgets) (0.12.1)\nRequirement already satisfied: python-dateutil>=2.1 in /shared-libs/python3.9/py-core/lib/python3.9/site-packages (from jupyter-client->ipykernel>=4.5.1->ipywidgets) (2.8.2)\nRequirement already satisfied: nbclient<0.6.0,>=0.5.0 in /shared-libs/python3.9/py-core/lib/python3.9/site-packages (from nbconvert==6.0.7->notebook>=4.4.1->widgetsnbextension~=3.5.0->ipywidgets) (0.5.8)\nRequirement already satisfied: entrypoints>=0.2.2 in /shared-libs/python3.9/py-core/lib/python3.9/site-packages (from nbconvert==6.0.7->notebook>=4.4.1->widgetsnbextension~=3.5.0->ipywidgets) (0.3)\nRequirement already satisfied: defusedxml in /shared-libs/python3.9/py-core/lib/python3.9/site-packages (from nbconvert==6.0.7->notebook>=4.4.1->widgetsnbextension~=3.5.0->ipywidgets) (0.7.1)\nRequirement already satisfied: bleach in /shared-libs/python3.9/py-core/lib/python3.9/site-packages (from nbconvert==6.0.7->notebook>=4.4.1->widgetsnbextension~=3.5.0->ipywidgets) (4.1.0)\nRequirement already satisfied: jupyterlab-pygments in /shared-libs/python3.9/py-core/lib/python3.9/site-packages (from nbconvert==6.0.7->notebook>=4.4.1->widgetsnbextension~=3.5.0->ipywidgets) (0.1.2)\nRequirement already satisfied: mistune<2,>=0.8.1 in /shared-libs/python3.9/py-core/lib/python3.9/site-packages (from nbconvert==6.0.7->notebook>=4.4.1->widgetsnbextension~=3.5.0->ipywidgets) (0.8.4)\nRequirement already satisfied: testpath in /shared-libs/python3.9/py-core/lib/python3.9/site-packages (from nbconvert==6.0.7->notebook>=4.4.1->widgetsnbextension~=3.5.0->ipywidgets) (0.5.0)\nRequirement already satisfied: pandocfilters>=1.4.1 in /shared-libs/python3.9/py-core/lib/python3.9/site-packages (from nbconvert==6.0.7->notebook>=4.4.1->widgetsnbextension~=3.5.0->ipywidgets) (1.5.0)\nRequirement already satisfied: MarkupSafe>=2.0 in /shared-libs/python3.9/py-core/lib/python3.9/site-packages (from jinja2->notebook>=4.4.1->widgetsnbextension~=3.5.0->ipywidgets) (2.0.1)\nRequirement already satisfied: nest-asyncio in /shared-libs/python3.9/py-core/lib/python3.9/site-packages (from nbclient<0.6.0,>=0.5.0->nbconvert==6.0.7->notebook>=4.4.1->widgetsnbextension~=3.5.0->ipywidgets) (1.5.1)\nRequirement already satisfied: cffi>=1.0.0 in /shared-libs/python3.9/py-core/lib/python3.9/site-packages (from argon2-cffi->notebook>=4.4.1->widgetsnbextension~=3.5.0->ipywidgets) (1.15.0)\nRequirement already satisfied: pycparser in /shared-libs/python3.9/py-core/lib/python3.9/site-packages (from cffi>=1.0.0->argon2-cffi->notebook>=4.4.1->widgetsnbextension~=3.5.0->ipywidgets) (2.21)\nRequirement already satisfied: packaging in /shared-libs/python3.9/py-core/lib/python3.9/site-packages (from bleach->nbconvert==6.0.7->notebook>=4.4.1->widgetsnbextension~=3.5.0->ipywidgets) (21.2)\nRequirement already satisfied: webencodings in /shared-libs/python3.9/py-core/lib/python3.9/site-packages (from bleach->nbconvert==6.0.7->notebook>=4.4.1->widgetsnbextension~=3.5.0->ipywidgets) (0.5.1)\nRequirement already satisfied: pyparsing<3,>=2.0.2 in /shared-libs/python3.9/py-core/lib/python3.9/site-packages (from packaging->bleach->nbconvert==6.0.7->notebook>=4.4.1->widgetsnbextension~=3.5.0->ipywidgets) (2.4.7)\n\u001b[33mWARNING: You are using pip version 21.2.3; however, version 21.3.1 is available.\nYou should consider upgrading via the '/root/venv/bin/python -m pip install --upgrade pip' command.\u001b[0m\nRequirement already satisfied: LightGBM in /root/venv/lib/python3.9/site-packages (3.3.1)\nRequirement already satisfied: scikit-learn!=0.22.0 in /shared-libs/python3.9/py/lib/python3.9/site-packages (from LightGBM) (1.0.1)\nRequirement already satisfied: numpy in /shared-libs/python3.9/py/lib/python3.9/site-packages (from LightGBM) (1.21.4)\nRequirement already satisfied: scipy in /shared-libs/python3.9/py/lib/python3.9/site-packages (from LightGBM) (1.7.2)\nRequirement already satisfied: wheel in /usr/local/lib/python3.9/site-packages (from LightGBM) (0.37.0)\nRequirement already satisfied: threadpoolctl>=2.0.0 in /shared-libs/python3.9/py/lib/python3.9/site-packages (from scikit-learn!=0.22.0->LightGBM) (3.0.0)\nRequirement already satisfied: joblib>=0.11 in /shared-libs/python3.9/py/lib/python3.9/site-packages (from scikit-learn!=0.22.0->LightGBM) (1.1.0)\n\u001b[33mWARNING: You are using pip version 21.2.3; however, version 21.3.1 is available.\nYou should consider upgrading via the '/root/venv/bin/python -m pip install --upgrade pip' command.\u001b[0m\n",
     "output_type": "stream"
    }
   ],
   "execution_count": null
  },
  {
   "cell_type": "code",
   "metadata": {
    "tags": [],
    "deepnote_to_be_reexecuted": false,
    "source_hash": "41fe310",
    "execution_start": 1637349890246,
    "execution_millis": 15,
    "cell_id": "00001-caf42e5c-133f-41cb-944e-cc718326aa24",
    "deepnote_cell_type": "code"
   },
   "source": "import json\nimport pandas as pd\nimport numpy as np\nimport math as math\nimport matplotlib.pyplot as plt\nimport seaborn as sns\nimport sklearn.model_selection as model_selection\nimport sklearn.tree as tree\nfrom sklearn.linear_model import LogisticRegression\nfrom sklearn.linear_model import LinearRegression\nimport time\nfrom sklearn.model_selection import GridSearchCV\nfrom sklearn.tree import DecisionTreeRegressor\nfrom sklearn.model_selection import train_test_split\nimport catboost\nfrom catboost import CatBoostRegressor\nfrom sklearn.impute import KNNImputer\n\n\n",
   "outputs": [],
   "execution_count": null
  },
  {
   "cell_type": "code",
   "metadata": {
    "tags": [],
    "deepnote_to_be_reexecuted": false,
    "source_hash": "81a86064",
    "execution_start": 1637349897957,
    "execution_millis": 155,
    "cell_id": "00002-b5fefd51-968e-4390-86f2-bab5b150ce1e",
    "deepnote_output_heights": [
     21
    ],
    "deepnote_cell_type": "code"
   },
   "source": "apartments_train = pd.read_csv('apartments_train.csv')\napartments_test = pd.read_csv('apartments_test.csv')\nwith open('apartments_meta.json') as f: \n    apartments_meta = json.load(f)\n\nbuildings_train = pd.read_csv('buildings_train.csv')\nbuildings_test = pd.read_csv('buildings_test.csv')\nwith open('buildings_meta.json') as f: \n    buildings_meta = json.load(f)\n#print(f'All apartments have an associated building: {apartments.building_id.isin(buildings.id).all()}')\ndf = pd.merge(apartments_train, buildings_train.set_index('id'), how='left', left_on='building_id', right_index=True)\ndf_test = pd.merge(apartments_test, buildings_test.set_index('id'), how='left', left_on='building_id', right_index=True)\ndf.head()\ndf['street'].isnull().sum()",
   "outputs": [
    {
     "output_type": "execute_result",
     "execution_count": 5,
     "data": {
      "text/plain": "0"
     },
     "metadata": {}
    }
   ],
   "execution_count": null
  },
  {
   "cell_type": "code",
   "metadata": {
    "tags": [],
    "deepnote_to_be_reexecuted": false,
    "source_hash": "f3dd26da",
    "execution_start": 1637349903163,
    "execution_millis": 25,
    "cell_id": "00003-a1dc6bb7-d791-41e3-91b6-b9c7393584c0",
    "deepnote_output_heights": [
     611
    ],
    "deepnote_cell_type": "code"
   },
   "source": "df.isnull().sum()",
   "outputs": [
    {
     "output_type": "execute_result",
     "execution_count": 6,
     "data": {
      "text/plain": "id                        0\nseller                 8830\nprice                     0\narea_total                0\narea_kitchen           4721\narea_living            3882\nfloor                     0\nrooms                     0\nlayout                17642\nceiling               11093\nbathrooms_shared       3872\nbathrooms_private      3872\nwindows_court          8072\nwindows_street         8072\nbalconies             10520\nloggias               10520\ncondition              9810\nphones                   80\nbuilding_id               0\nnew                     264\nlatitude                  0\nlongitude                 0\ndistrict                130\nstreet                    0\naddress                   0\nconstructed             794\nmaterial               3972\nstories                   0\nelevator_without        357\nelevator_passenger      357\nelevator_service        357\nparking                6788\ngarbage_chute          8811\nheating                8161\ndtype: int64"
     },
     "metadata": {}
    }
   ],
   "execution_count": null
  },
  {
   "cell_type": "code",
   "metadata": {
    "tags": [],
    "deepnote_to_be_reexecuted": false,
    "source_hash": "7039e6d3",
    "execution_start": 1637349907850,
    "execution_millis": 1373,
    "cell_id": "00004-cc0362fc-5926-40ca-8889-ba1d626553d0",
    "deepnote_output_heights": [
     21,
     333
    ],
    "deepnote_cell_type": "code"
   },
   "source": "sns.heatmap(df.isnull(), yticklabels=False, cbar=False, cmap='viridis')",
   "outputs": [
    {
     "output_type": "execute_result",
     "execution_count": 7,
     "data": {
      "text/plain": "<AxesSubplot:>"
     },
     "metadata": {}
    },
    {
     "data": {
      "text/plain": "<Figure size 432x288 with 1 Axes>",
      "image/png": "[encoded data removed]"
     },
     "metadata": {
      "needs_background": "light",
      "image/png": {
       "width": 349,
       "height": 331
      }
     },
     "output_type": "display_data"
    }
   ],
   "execution_count": null
  },
  {
   "cell_type": "code",
   "metadata": {
    "tags": [],
    "deepnote_to_be_reexecuted": false,
    "source_hash": "b6ebc297",
    "execution_start": 1637349914451,
    "execution_millis": 4,
    "cell_id": "00005-e4425b78-247b-4658-8258-a4c93c6d3819",
    "deepnote_output_heights": [
     21
    ],
    "deepnote_cell_type": "code"
   },
   "source": "df.shape\n",
   "outputs": [
    {
     "output_type": "execute_result",
     "execution_count": 8,
     "data": {
      "text/plain": "(23285, 34)"
     },
     "metadata": {}
    }
   ],
   "execution_count": null
  },
  {
   "cell_type": "code",
   "metadata": {
    "tags": [],
    "deepnote_to_be_reexecuted": false,
    "source_hash": "de1e323c",
    "execution_start": 1637349917720,
    "execution_millis": 25,
    "cell_id": "00006-cfc26ee1-0178-474f-82da-b5fceeee491d",
    "deepnote_cell_type": "code"
   },
   "source": "df.info()",
   "outputs": [
    {
     "name": "stdout",
     "text": "<class 'pandas.core.frame.DataFrame'>\nRangeIndex: 23285 entries, 0 to 23284\nData columns (total 34 columns):\n #   Column              Non-Null Count  Dtype  \n---  ------              --------------  -----  \n 0   id                  23285 non-null  int64  \n 1   seller              14455 non-null  float64\n 2   price               23285 non-null  float64\n 3   area_total          23285 non-null  float64\n 4   area_kitchen        18564 non-null  float64\n 5   area_living         19403 non-null  float64\n 6   floor               23285 non-null  float64\n 7   rooms               23285 non-null  float64\n 8   layout              5643 non-null   float64\n 9   ceiling             12192 non-null  float64\n 10  bathrooms_shared    19413 non-null  float64\n 11  bathrooms_private   19413 non-null  float64\n 12  windows_court       15213 non-null  float64\n 13  windows_street      15213 non-null  float64\n 14  balconies           12765 non-null  float64\n 15  loggias             12765 non-null  float64\n 16  condition           13475 non-null  float64\n 17  phones              23205 non-null  float64\n 18  building_id         23285 non-null  int64  \n 19  new                 23021 non-null  float64\n 20  latitude            23285 non-null  float64\n 21  longitude           23285 non-null  float64\n 22  district            23155 non-null  float64\n 23  street              23285 non-null  object \n 24  address             23285 non-null  object \n 25  constructed         22491 non-null  float64\n 26  material            19313 non-null  float64\n 27  stories             23285 non-null  float64\n 28  elevator_without    22928 non-null  float64\n 29  elevator_passenger  22928 non-null  float64\n 30  elevator_service    22928 non-null  float64\n 31  parking             16497 non-null  float64\n 32  garbage_chute       14474 non-null  float64\n 33  heating             15124 non-null  float64\ndtypes: float64(30), int64(2), object(2)\nmemory usage: 6.0+ MB\n",
     "output_type": "stream"
    }
   ],
   "execution_count": null
  },
  {
   "cell_type": "code",
   "metadata": {
    "tags": [],
    "cell_id": "00007-718e712f-357b-4edd-a843-56f1dc931520",
    "deepnote_to_be_reexecuted": false,
    "source_hash": "8762bfe5",
    "execution_start": 1637349923184,
    "execution_millis": 24,
    "deepnote_cell_type": "code"
   },
   "source": "df['price/area'] = df['price']/df['area_total']\n\n# The center of Moscow is at longitude: 37.6 and latitude: 55.75\ndf['distance'] = np.sqrt((37.6 - df['longitude'])**2 + (55.75 - df['latitude'])**2)\ndf_test['distance'] = np.sqrt((37.6 - df_test['longitude'])**2 + (55.75 - df_test['latitude'])**2)\n\ndf.drop(['longitude', 'latitude'], axis=1, inplace=True)\ndf_test.drop(['longitude', 'latitude'], axis=1, inplace=True)",
   "outputs": [],
   "execution_count": null
  },
  {
   "cell_type": "code",
   "metadata": {
    "tags": [],
    "cell_id": "00007-751f4619-c579-4d9b-9489-7a511ca53451",
    "deepnote_to_be_reexecuted": false,
    "source_hash": "7bcf20e9",
    "execution_start": 1637349927721,
    "execution_millis": 206,
    "deepnote_output_heights": [
     611
    ],
    "deepnote_cell_type": "code"
   },
   "source": "df2 = df[['id', 'price/area', 'distance']]\nmintreshold, maxtreshold = df2['price/area'].quantile([0.001, 0.999])\ndf[df2['price/area'] < mintreshold]",
   "outputs": [
    {
     "output_type": "execute_result",
     "execution_count": 11,
     "data": {
      "application/vnd.deepnote.dataframe.v2+json": {
       "row_count": 24,
       "column_count": 34,
       "columns": [
        {
         "name": "id",
         "dtype": "int64",
         "stats": {
          "unique_count": 24,
          "nan_count": 0,
          "min": "2215",
          "max": "23222",
          "histogram": [
           {
            "bin_start": 2215,
            "bin_end": 4315.7,
            "count": 4
           },
           {
            "bin_start": 4315.7,
            "bin_end": 6416.4,
            "count": 0
           },
           {
            "bin_start": 6416.4,
            "bin_end": 8517.099999999999,
            "count": 4
           },
           {
            "bin_start": 8517.099999999999,
            "bin_end": 10617.8,
            "count": 0
           },
           {
            "bin_start": 10617.8,
            "bin_end": 12718.5,
            "count": 1
           },
           {
            "bin_start": 12718.5,
            "bin_end": 14819.199999999999,
            "count": 6
           },
           {
            "bin_start": 14819.199999999999,
            "bin_end": 16919.899999999998,
            "count": 1
           },
           {
            "bin_start": 16919.899999999998,
            "bin_end": 19020.6,
            "count": 0
           },
           {
            "bin_start": 19020.6,
            "bin_end": 21121.3,
            "count": 4
           },
           {
            "bin_start": 21121.3,
            "bin_end": 23222,
            "count": 4
           }
          ]
         }
        },
        {
         "name": "seller",
         "dtype": "float64",
         "stats": {
          "unique_count": 3,
          "nan_count": 6,
          "min": "0.0",
          "max": "2.0",
          "histogram": [
           {
            "bin_start": 0,
            "bin_end": 0.2,
            "count": 4
           },
           {
            "bin_start": 0.2,
            "bin_end": 0.4,
            "count": 0
           },
           {
            "bin_start": 0.4,
            "bin_end": 0.6000000000000001,
            "count": 0
           },
           {
            "bin_start": 0.6000000000000001,
            "bin_end": 0.8,
            "count": 0
           },
           {
            "bin_start": 0.8,
            "bin_end": 1,
            "count": 0
           },
           {
            "bin_start": 1,
            "bin_end": 1.2000000000000002,
            "count": 11
           },
           {
            "bin_start": 1.2000000000000002,
            "bin_end": 1.4000000000000001,
            "count": 0
           },
           {
            "bin_start": 1.4000000000000001,
            "bin_end": 1.6,
            "count": 0
           },
           {
            "bin_start": 1.6,
            "bin_end": 1.8,
            "count": 0
           },
           {
            "bin_start": 1.8,
            "bin_end": 2,
            "count": 3
           }
          ]
         }
        },
        {
         "name": "price",
         "dtype": "float64",
         "stats": {
          "unique_count": 19,
          "nan_count": 0,
          "min": "1000000.0",
          "max": "13750000.0",
          "histogram": [
           {
            "bin_start": 1000000,
            "bin_end": 2275000,
            "count": 5
           },
           {
            "bin_start": 2275000,
            "bin_end": 3550000,
            "count": 12
           },
           {
            "bin_start": 3550000,
            "bin_end": 4825000,
            "count": 2
           },
           {
            "bin_start": 4825000,
            "bin_end": 6100000,
            "count": 2
           },
           {
            "bin_start": 6100000,
            "bin_end": 7375000,
            "count": 0
           },
           {
            "bin_start": 7375000,
            "bin_end": 8650000,
            "count": 2
           },
           {
            "bin_start": 8650000,
            "bin_end": 9925000,
            "count": 0
           },
           {
            "bin_start": 9925000,
            "bin_end": 11200000,
            "count": 0
           },
           {
            "bin_start": 11200000,
            "bin_end": 12475000,
            "count": 0
           },
           {
            "bin_start": 12475000,
            "bin_end": 13750000,
            "count": 1
           }
          ]
         }
        },
        {
         "name": "area_total",
         "dtype": "float64",
         "stats": {
          "unique_count": 19,
          "nan_count": 0,
          "min": "21.0",
          "max": "343.0",
          "histogram": [
           {
            "bin_start": 21,
            "bin_end": 53.2,
            "count": 5
           },
           {
            "bin_start": 53.2,
            "bin_end": 85.4,
            "count": 10
           },
           {
            "bin_start": 85.4,
            "bin_end": 117.60000000000001,
            "count": 4
           },
           {
            "bin_start": 117.60000000000001,
            "bin_end": 149.8,
            "count": 1
           },
           {
            "bin_start": 149.8,
            "bin_end": 182,
            "count": 2
           },
           {
            "bin_start": 182,
            "bin_end": 214.20000000000002,
            "count": 0
           },
           {
            "bin_start": 214.20000000000002,
            "bin_end": 246.40000000000003,
            "count": 0
           },
           {
            "bin_start": 246.40000000000003,
            "bin_end": 278.6,
            "count": 1
           },
           {
            "bin_start": 278.6,
            "bin_end": 310.8,
            "count": 0
           },
           {
            "bin_start": 310.8,
            "bin_end": 343,
            "count": 1
           }
          ]
         }
        },
        {
         "name": "area_kitchen",
         "dtype": "float64",
         "stats": {
          "unique_count": 10,
          "nan_count": 9,
          "min": "4.0",
          "max": "25.0",
          "histogram": [
           {
            "bin_start": 4,
            "bin_end": 6.1,
            "count": 3
           },
           {
            "bin_start": 6.1,
            "bin_end": 8.2,
            "count": 2
           },
           {
            "bin_start": 8.2,
            "bin_end": 10.3,
            "count": 3
           },
           {
            "bin_start": 10.3,
            "bin_end": 12.4,
            "count": 2
           },
           {
            "bin_start": 12.4,
            "bin_end": 14.5,
            "count": 0
           },
           {
            "bin_start": 14.5,
            "bin_end": 16.6,
            "count": 1
           },
           {
            "bin_start": 16.6,
            "bin_end": 18.700000000000003,
            "count": 1
           },
           {
            "bin_start": 18.700000000000003,
            "bin_end": 20.8,
            "count": 2
           },
           {
            "bin_start": 20.8,
            "bin_end": 22.900000000000002,
            "count": 0
           },
           {
            "bin_start": 22.900000000000002,
            "bin_end": 25,
            "count": 1
           }
          ]
         }
        },
        {
         "name": "area_living",
         "dtype": "float64",
         "stats": {
          "unique_count": 15,
          "nan_count": 4,
          "min": "14.0",
          "max": "222.0",
          "histogram": [
           {
            "bin_start": 14,
            "bin_end": 34.8,
            "count": 6
           },
           {
            "bin_start": 34.8,
            "bin_end": 55.6,
            "count": 7
           },
           {
            "bin_start": 55.6,
            "bin_end": 76.4,
            "count": 5
           },
           {
            "bin_start": 76.4,
            "bin_end": 97.2,
            "count": 0
           },
           {
            "bin_start": 97.2,
            "bin_end": 118,
            "count": 0
           },
           {
            "bin_start": 118,
            "bin_end": 138.8,
            "count": 0
           },
           {
            "bin_start": 138.8,
            "bin_end": 159.6,
            "count": 1
           },
           {
            "bin_start": 159.6,
            "bin_end": 180.4,
            "count": 0
           },
           {
            "bin_start": 180.4,
            "bin_end": 201.20000000000002,
            "count": 0
           },
           {
            "bin_start": 201.20000000000002,
            "bin_end": 222,
            "count": 1
           }
          ]
         }
        },
        {
         "name": "floor",
         "dtype": "float64",
         "stats": {
          "unique_count": 5,
          "nan_count": 0,
          "min": "1.0",
          "max": "5.0",
          "histogram": [
           {
            "bin_start": 1,
            "bin_end": 1.4,
            "count": 8
           },
           {
            "bin_start": 1.4,
            "bin_end": 1.8,
            "count": 0
           },
           {
            "bin_start": 1.8,
            "bin_end": 2.2,
            "count": 4
           },
           {
            "bin_start": 2.2,
            "bin_end": 2.6,
            "count": 0
           },
           {
            "bin_start": 2.6,
            "bin_end": 3,
            "count": 0
           },
           {
            "bin_start": 3,
            "bin_end": 3.4000000000000004,
            "count": 2
           },
           {
            "bin_start": 3.4000000000000004,
            "bin_end": 3.8000000000000003,
            "count": 0
           },
           {
            "bin_start": 3.8000000000000003,
            "bin_end": 4.2,
            "count": 8
           },
           {
            "bin_start": 4.2,
            "bin_end": 4.6,
            "count": 0
           },
           {
            "bin_start": 4.6,
            "bin_end": 5,
            "count": 2
           }
          ]
         }
        },
        {
         "name": "rooms",
         "dtype": "float64",
         "stats": {
          "unique_count": 5,
          "nan_count": 0,
          "min": "1.0",
          "max": "6.0",
          "histogram": [
           {
            "bin_start": 1,
            "bin_end": 1.5,
            "count": 9
           },
           {
            "bin_start": 1.5,
            "bin_end": 2,
            "count": 0
           },
           {
            "bin_start": 2,
            "bin_end": 2.5,
            "count": 5
           },
           {
            "bin_start": 2.5,
            "bin_end": 3,
            "count": 0
           },
           {
            "bin_start": 3,
            "bin_end": 3.5,
            "count": 7
           },
           {
            "bin_start": 3.5,
            "bin_end": 4,
            "count": 0
           },
           {
            "bin_start": 4,
            "bin_end": 4.5,
            "count": 1
           },
           {
            "bin_start": 4.5,
            "bin_end": 5,
            "count": 0
           },
           {
            "bin_start": 5,
            "bin_end": 5.5,
            "count": 0
           },
           {
            "bin_start": 5.5,
            "bin_end": 6,
            "count": 2
           }
          ]
         }
        },
        {
         "name": "layout",
         "dtype": "float64",
         "stats": {
          "unique_count": 1,
          "nan_count": 14,
          "min": "1.0",
          "max": "1.0",
          "histogram": [
           {
            "bin_start": 0.5,
            "bin_end": 0.6,
            "count": 0
           },
           {
            "bin_start": 0.6,
            "bin_end": 0.7,
            "count": 0
           },
           {
            "bin_start": 0.7,
            "bin_end": 0.8,
            "count": 0
           },
           {
            "bin_start": 0.8,
            "bin_end": 0.9,
            "count": 0
           },
           {
            "bin_start": 0.9,
            "bin_end": 1,
            "count": 0
           },
           {
            "bin_start": 1,
            "bin_end": 1.1,
            "count": 10
           },
           {
            "bin_start": 1.1,
            "bin_end": 1.2000000000000002,
            "count": 0
           },
           {
            "bin_start": 1.2000000000000002,
            "bin_end": 1.3,
            "count": 0
           },
           {
            "bin_start": 1.3,
            "bin_end": 1.4,
            "count": 0
           },
           {
            "bin_start": 1.4,
            "bin_end": 1.5,
            "count": 0
           }
          ]
         }
        },
        {
         "name": "ceiling",
         "dtype": "float64",
         "stats": {
          "unique_count": 3,
          "nan_count": 20,
          "min": "3.0",
          "max": "3.5",
          "histogram": [
           {
            "bin_start": 3,
            "bin_end": 3.05,
            "count": 2
           },
           {
            "bin_start": 3.05,
            "bin_end": 3.1,
            "count": 0
           },
           {
            "bin_start": 3.1,
            "bin_end": 3.15,
            "count": 0
           },
           {
            "bin_start": 3.15,
            "bin_end": 3.2,
            "count": 0
           },
           {
            "bin_start": 3.2,
            "bin_end": 3.25,
            "count": 1
           },
           {
            "bin_start": 3.25,
            "bin_end": 3.3,
            "count": 0
           },
           {
            "bin_start": 3.3,
            "bin_end": 3.35,
            "count": 0
           },
           {
            "bin_start": 3.35,
            "bin_end": 3.4,
            "count": 0
           },
           {
            "bin_start": 3.4,
            "bin_end": 3.45,
            "count": 0
           },
           {
            "bin_start": 3.45,
            "bin_end": 3.5,
            "count": 1
           }
          ]
         }
        },
        {
         "name": "bathrooms_shared",
         "dtype": "float64",
         "stats": {
          "unique_count": 2,
          "nan_count": 9,
          "min": "0.0",
          "max": "1.0",
          "histogram": [
           {
            "bin_start": 0,
            "bin_end": 0.1,
            "count": 7
           },
           {
            "bin_start": 0.1,
            "bin_end": 0.2,
            "count": 0
           },
           {
            "bin_start": 0.2,
            "bin_end": 0.30000000000000004,
            "count": 0
           },
           {
            "bin_start": 0.30000000000000004,
            "bin_end": 0.4,
            "count": 0
           },
           {
            "bin_start": 0.4,
            "bin_end": 0.5,
            "count": 0
           },
           {
            "bin_start": 0.5,
            "bin_end": 0.6000000000000001,
            "count": 0
           },
           {
            "bin_start": 0.6000000000000001,
            "bin_end": 0.7000000000000001,
            "count": 0
           },
           {
            "bin_start": 0.7000000000000001,
            "bin_end": 0.8,
            "count": 0
           },
           {
            "bin_start": 0.8,
            "bin_end": 0.9,
            "count": 0
           },
           {
            "bin_start": 0.9,
            "bin_end": 1,
            "count": 8
           }
          ]
         }
        },
        {
         "name": "bathrooms_private",
         "dtype": "float64",
         "stats": {
          "unique_count": 4,
          "nan_count": 9,
          "min": "0.0",
          "max": "3.0",
          "histogram": [
           {
            "bin_start": 0,
            "bin_end": 0.3,
            "count": 6
           },
           {
            "bin_start": 0.3,
            "bin_end": 0.6,
            "count": 0
           },
           {
            "bin_start": 0.6,
            "bin_end": 0.8999999999999999,
            "count": 0
           },
           {
            "bin_start": 0.8999999999999999,
            "bin_end": 1.2,
            "count": 6
           },
           {
            "bin_start": 1.2,
            "bin_end": 1.5,
            "count": 0
           },
           {
            "bin_start": 1.5,
            "bin_end": 1.7999999999999998,
            "count": 0
           },
           {
            "bin_start": 1.7999999999999998,
            "bin_end": 2.1,
            "count": 1
           },
           {
            "bin_start": 2.1,
            "bin_end": 2.4,
            "count": 0
           },
           {
            "bin_start": 2.4,
            "bin_end": 2.6999999999999997,
            "count": 0
           },
           {
            "bin_start": 2.6999999999999997,
            "bin_end": 3,
            "count": 2
           }
          ]
         }
        },
        {
         "name": "windows_court",
         "dtype": "float64",
         "stats": {
          "unique_count": 1,
          "nan_count": 12,
          "min": "1.0",
          "max": "1.0",
          "histogram": [
           {
            "bin_start": 0.5,
            "bin_end": 0.6,
            "count": 0
           },
           {
            "bin_start": 0.6,
            "bin_end": 0.7,
            "count": 0
           },
           {
            "bin_start": 0.7,
            "bin_end": 0.8,
            "count": 0
           },
           {
            "bin_start": 0.8,
            "bin_end": 0.9,
            "count": 0
           },
           {
            "bin_start": 0.9,
            "bin_end": 1,
            "count": 0
           },
           {
            "bin_start": 1,
            "bin_end": 1.1,
            "count": 12
           },
           {
            "bin_start": 1.1,
            "bin_end": 1.2000000000000002,
            "count": 0
           },
           {
            "bin_start": 1.2000000000000002,
            "bin_end": 1.3,
            "count": 0
           },
           {
            "bin_start": 1.3,
            "bin_end": 1.4,
            "count": 0
           },
           {
            "bin_start": 1.4,
            "bin_end": 1.5,
            "count": 0
           }
          ]
         }
        },
        {
         "name": "windows_street",
         "dtype": "float64",
         "stats": {
          "unique_count": 2,
          "nan_count": 12,
          "min": "0.0",
          "max": "1.0",
          "histogram": [
           {
            "bin_start": 0,
            "bin_end": 0.1,
            "count": 11
           },
           {
            "bin_start": 0.1,
            "bin_end": 0.2,
            "count": 0
           },
           {
            "bin_start": 0.2,
            "bin_end": 0.30000000000000004,
            "count": 0
           },
           {
            "bin_start": 0.30000000000000004,
            "bin_end": 0.4,
            "count": 0
           },
           {
            "bin_start": 0.4,
            "bin_end": 0.5,
            "count": 0
           },
           {
            "bin_start": 0.5,
            "bin_end": 0.6000000000000001,
            "count": 0
           },
           {
            "bin_start": 0.6000000000000001,
            "bin_end": 0.7000000000000001,
            "count": 0
           },
           {
            "bin_start": 0.7000000000000001,
            "bin_end": 0.8,
            "count": 0
           },
           {
            "bin_start": 0.8,
            "bin_end": 0.9,
            "count": 0
           },
           {
            "bin_start": 0.9,
            "bin_end": 1,
            "count": 1
           }
          ]
         }
        },
        {
         "name": "balconies",
         "dtype": "float64",
         "stats": {
          "unique_count": 2,
          "nan_count": 10,
          "min": "0.0",
          "max": "1.0",
          "histogram": [
           {
            "bin_start": 0,
            "bin_end": 0.1,
            "count": 6
           },
           {
            "bin_start": 0.1,
            "bin_end": 0.2,
            "count": 0
           },
           {
            "bin_start": 0.2,
            "bin_end": 0.30000000000000004,
            "count": 0
           },
           {
            "bin_start": 0.30000000000000004,
            "bin_end": 0.4,
            "count": 0
           },
           {
            "bin_start": 0.4,
            "bin_end": 0.5,
            "count": 0
           },
           {
            "bin_start": 0.5,
            "bin_end": 0.6000000000000001,
            "count": 0
           },
           {
            "bin_start": 0.6000000000000001,
            "bin_end": 0.7000000000000001,
            "count": 0
           },
           {
            "bin_start": 0.7000000000000001,
            "bin_end": 0.8,
            "count": 0
           },
           {
            "bin_start": 0.8,
            "bin_end": 0.9,
            "count": 0
           },
           {
            "bin_start": 0.9,
            "bin_end": 1,
            "count": 8
           }
          ]
         }
        },
        {
         "name": "loggias",
         "dtype": "float64",
         "stats": {
          "unique_count": 3,
          "nan_count": 10,
          "min": "0.0",
          "max": "2.0",
          "histogram": [
           {
            "bin_start": 0,
            "bin_end": 0.2,
            "count": 8
           },
           {
            "bin_start": 0.2,
            "bin_end": 0.4,
            "count": 0
           },
           {
            "bin_start": 0.4,
            "bin_end": 0.6000000000000001,
            "count": 0
           },
           {
            "bin_start": 0.6000000000000001,
            "bin_end": 0.8,
            "count": 0
           },
           {
            "bin_start": 0.8,
            "bin_end": 1,
            "count": 0
           },
           {
            "bin_start": 1,
            "bin_end": 1.2000000000000002,
            "count": 5
           },
           {
            "bin_start": 1.2000000000000002,
            "bin_end": 1.4000000000000001,
            "count": 0
           },
           {
            "bin_start": 1.4000000000000001,
            "bin_end": 1.6,
            "count": 0
           },
           {
            "bin_start": 1.6,
            "bin_end": 1.8,
            "count": 0
           },
           {
            "bin_start": 1.8,
            "bin_end": 2,
            "count": 1
           }
          ]
         }
        },
        {
         "name": "condition",
         "dtype": "float64",
         "stats": {
          "unique_count": 3,
          "nan_count": 8,
          "min": "0.0",
          "max": "2.0",
          "histogram": [
           {
            "bin_start": 0,
            "bin_end": 0.2,
            "count": 10
           },
           {
            "bin_start": 0.2,
            "bin_end": 0.4,
            "count": 0
           },
           {
            "bin_start": 0.4,
            "bin_end": 0.6000000000000001,
            "count": 0
           },
           {
            "bin_start": 0.6000000000000001,
            "bin_end": 0.8,
            "count": 0
           },
           {
            "bin_start": 0.8,
            "bin_end": 1,
            "count": 0
           },
           {
            "bin_start": 1,
            "bin_end": 1.2000000000000002,
            "count": 5
           },
           {
            "bin_start": 1.2000000000000002,
            "bin_end": 1.4000000000000001,
            "count": 0
           },
           {
            "bin_start": 1.4000000000000001,
            "bin_end": 1.6,
            "count": 0
           },
           {
            "bin_start": 1.6,
            "bin_end": 1.8,
            "count": 0
           },
           {
            "bin_start": 1.8,
            "bin_end": 2,
            "count": 1
           }
          ]
         }
        },
        {
         "name": "phones",
         "dtype": "float64",
         "stats": {
          "unique_count": 3,
          "nan_count": 1,
          "min": "0.0",
          "max": "2.0",
          "histogram": [
           {
            "bin_start": 0,
            "bin_end": 0.2,
            "count": 2
           },
           {
            "bin_start": 0.2,
            "bin_end": 0.4,
            "count": 0
           },
           {
            "bin_start": 0.4,
            "bin_end": 0.6000000000000001,
            "count": 0
           },
           {
            "bin_start": 0.6000000000000001,
            "bin_end": 0.8,
            "count": 0
           },
           {
            "bin_start": 0.8,
            "bin_end": 1,
            "count": 0
           },
           {
            "bin_start": 1,
            "bin_end": 1.2000000000000002,
            "count": 17
           },
           {
            "bin_start": 1.2000000000000002,
            "bin_end": 1.4000000000000001,
            "count": 0
           },
           {
            "bin_start": 1.4000000000000001,
            "bin_end": 1.6,
            "count": 0
           },
           {
            "bin_start": 1.6,
            "bin_end": 1.8,
            "count": 0
           },
           {
            "bin_start": 1.8,
            "bin_end": 2,
            "count": 4
           }
          ]
         }
        },
        {
         "name": "building_id",
         "dtype": "int64",
         "stats": {
          "unique_count": 17,
          "nan_count": 0,
          "min": "155",
          "max": "9436",
          "histogram": [
           {
            "bin_start": 155,
            "bin_end": 1083.1,
            "count": 4
           },
           {
            "bin_start": 1083.1,
            "bin_end": 2011.2,
            "count": 3
           },
           {
            "bin_start": 2011.2,
            "bin_end": 2939.3,
            "count": 1
           },
           {
            "bin_start": 2939.3,
            "bin_end": 3867.4,
            "count": 0
           },
           {
            "bin_start": 3867.4,
            "bin_end": 4795.5,
            "count": 2
           },
           {
            "bin_start": 4795.5,
            "bin_end": 5723.6,
            "count": 3
           },
           {
            "bin_start": 5723.6,
            "bin_end": 6651.7,
            "count": 4
           },
           {
            "bin_start": 6651.7,
            "bin_end": 7579.8,
            "count": 0
           },
           {
            "bin_start": 7579.8,
            "bin_end": 8507.9,
            "count": 3
           },
           {
            "bin_start": 8507.9,
            "bin_end": 9436,
            "count": 4
           }
          ]
         }
        },
        {
         "name": "new",
         "dtype": "float64",
         "stats": {
          "unique_count": 2,
          "nan_count": 1,
          "min": "0.0",
          "max": "1.0",
          "histogram": [
           {
            "bin_start": 0,
            "bin_end": 0.1,
            "count": 21
           },
           {
            "bin_start": 0.1,
            "bin_end": 0.2,
            "count": 0
           },
           {
            "bin_start": 0.2,
            "bin_end": 0.30000000000000004,
            "count": 0
           },
           {
            "bin_start": 0.30000000000000004,
            "bin_end": 0.4,
            "count": 0
           },
           {
            "bin_start": 0.4,
            "bin_end": 0.5,
            "count": 0
           },
           {
            "bin_start": 0.5,
            "bin_end": 0.6000000000000001,
            "count": 0
           },
           {
            "bin_start": 0.6000000000000001,
            "bin_end": 0.7000000000000001,
            "count": 0
           },
           {
            "bin_start": 0.7000000000000001,
            "bin_end": 0.8,
            "count": 0
           },
           {
            "bin_start": 0.8,
            "bin_end": 0.9,
            "count": 0
           },
           {
            "bin_start": 0.9,
            "bin_end": 1,
            "count": 2
           }
          ]
         }
        },
        {
         "name": "district",
         "dtype": "float64",
         "stats": {
          "unique_count": 5,
          "nan_count": 0,
          "min": "2.0",
          "max": "11.0",
          "histogram": [
           {
            "bin_start": 2,
            "bin_end": 2.9,
            "count": 4
           },
           {
            "bin_start": 2.9,
            "bin_end": 3.8,
            "count": 0
           },
           {
            "bin_start": 3.8,
            "bin_end": 4.7,
            "count": 0
           },
           {
            "bin_start": 4.7,
            "bin_end": 5.6,
            "count": 0
           },
           {
            "bin_start": 5.6,
            "bin_end": 6.5,
            "count": 0
           },
           {
            "bin_start": 6.5,
            "bin_end": 7.4,
            "count": 1
           },
           {
            "bin_start": 7.4,
            "bin_end": 8.3,
            "count": 4
           },
           {
            "bin_start": 8.3,
            "bin_end": 9.2,
            "count": 0
           },
           {
            "bin_start": 9.2,
            "bin_end": 10.1,
            "count": 14
           },
           {
            "bin_start": 10.1,
            "bin_end": 11,
            "count": 1
           }
          ]
         }
        },
        {
         "name": "street",
         "dtype": "object",
         "stats": {
          "unique_count": 9,
          "nan_count": 0,
          "categories": [
           {
            "name": "улица Березки",
            "count": 5
           },
           {
            "name": "База отдыха Витро Вилладж тер.",
            "count": 4
           },
           {
            "name": "7 others",
            "count": 15
           }
          ]
         }
        },
        {
         "name": "address",
         "dtype": "object",
         "stats": {
          "unique_count": 17,
          "nan_count": 0,
          "categories": [
           {
            "name": "10к2",
            "count": 3
           },
           {
            "name": "к4",
            "count": 2
           },
           {
            "name": "15 others",
            "count": 19
           }
          ]
         }
        },
        {
         "name": "constructed",
         "dtype": "float64",
         "stats": {
          "unique_count": 9,
          "nan_count": 5,
          "min": "2004.0",
          "max": "2018.0",
          "histogram": [
           {
            "bin_start": 2004,
            "bin_end": 2005.4,
            "count": 2
           },
           {
            "bin_start": 2005.4,
            "bin_end": 2006.8,
            "count": 0
           },
           {
            "bin_start": 2006.8,
            "bin_end": 2008.2,
            "count": 0
           },
           {
            "bin_start": 2008.2,
            "bin_end": 2009.6,
            "count": 2
           },
           {
            "bin_start": 2009.6,
            "bin_end": 2011,
            "count": 5
           },
           {
            "bin_start": 2011,
            "bin_end": 2012.4,
            "count": 2
           },
           {
            "bin_start": 2012.4,
            "bin_end": 2013.8,
            "count": 1
           },
           {
            "bin_start": 2013.8,
            "bin_end": 2015.2,
            "count": 0
           },
           {
            "bin_start": 2015.2,
            "bin_end": 2016.6,
            "count": 4
           },
           {
            "bin_start": 2016.6,
            "bin_end": 2018,
            "count": 3
           }
          ]
         }
        },
        {
         "name": "material",
         "dtype": "float64",
         "stats": {
          "unique_count": 3,
          "nan_count": 11,
          "min": "0.0",
          "max": "4.0",
          "histogram": [
           {
            "bin_start": 0,
            "bin_end": 0.4,
            "count": 1
           },
           {
            "bin_start": 0.4,
            "bin_end": 0.8,
            "count": 0
           },
           {
            "bin_start": 0.8,
            "bin_end": 1.2000000000000002,
            "count": 0
           },
           {
            "bin_start": 1.2000000000000002,
            "bin_end": 1.6,
            "count": 0
           },
           {
            "bin_start": 1.6,
            "bin_end": 2,
            "count": 0
           },
           {
            "bin_start": 2,
            "bin_end": 2.4000000000000004,
            "count": 10
           },
           {
            "bin_start": 2.4000000000000004,
            "bin_end": 2.8000000000000003,
            "count": 0
           },
           {
            "bin_start": 2.8000000000000003,
            "bin_end": 3.2,
            "count": 0
           },
           {
            "bin_start": 3.2,
            "bin_end": 3.6,
            "count": 0
           },
           {
            "bin_start": 3.6,
            "bin_end": 4,
            "count": 2
           }
          ]
         }
        },
        {
         "name": "stories",
         "dtype": "float64",
         "stats": {
          "unique_count": 5,
          "nan_count": 0,
          "min": "2.0",
          "max": "25.0",
          "histogram": [
           {
            "bin_start": 2,
            "bin_end": 4.3,
            "count": 14
           },
           {
            "bin_start": 4.3,
            "bin_end": 6.6,
            "count": 9
           },
           {
            "bin_start": 6.6,
            "bin_end": 8.899999999999999,
            "count": 0
           },
           {
            "bin_start": 8.899999999999999,
            "bin_end": 11.2,
            "count": 0
           },
           {
            "bin_start": 11.2,
            "bin_end": 13.5,
            "count": 0
           },
           {
            "bin_start": 13.5,
            "bin_end": 15.799999999999999,
            "count": 0
           },
           {
            "bin_start": 15.799999999999999,
            "bin_end": 18.099999999999998,
            "count": 0
           },
           {
            "bin_start": 18.099999999999998,
            "bin_end": 20.4,
            "count": 0
           },
           {
            "bin_start": 20.4,
            "bin_end": 22.7,
            "count": 0
           },
           {
            "bin_start": 22.7,
            "bin_end": 25,
            "count": 1
           }
          ]
         }
        },
        {
         "name": "elevator_without",
         "dtype": "float64",
         "stats": {
          "unique_count": 2,
          "nan_count": 7,
          "min": "0.0",
          "max": "1.0",
          "histogram": [
           {
            "bin_start": 0,
            "bin_end": 0.1,
            "count": 5
           },
           {
            "bin_start": 0.1,
            "bin_end": 0.2,
            "count": 0
           },
           {
            "bin_start": 0.2,
            "bin_end": 0.30000000000000004,
            "count": 0
           },
           {
            "bin_start": 0.30000000000000004,
            "bin_end": 0.4,
            "count": 0
           },
           {
            "bin_start": 0.4,
            "bin_end": 0.5,
            "count": 0
           },
           {
            "bin_start": 0.5,
            "bin_end": 0.6000000000000001,
            "count": 0
           },
           {
            "bin_start": 0.6000000000000001,
            "bin_end": 0.7000000000000001,
            "count": 0
           },
           {
            "bin_start": 0.7000000000000001,
            "bin_end": 0.8,
            "count": 0
           },
           {
            "bin_start": 0.8,
            "bin_end": 0.9,
            "count": 0
           },
           {
            "bin_start": 0.9,
            "bin_end": 1,
            "count": 12
           }
          ]
         }
        },
        {
         "name": "elevator_passenger",
         "dtype": "float64",
         "stats": {
          "unique_count": 2,
          "nan_count": 7,
          "min": "0.0",
          "max": "1.0",
          "histogram": [
           {
            "bin_start": 0,
            "bin_end": 0.1,
            "count": 10
           },
           {
            "bin_start": 0.1,
            "bin_end": 0.2,
            "count": 0
           },
           {
            "bin_start": 0.2,
            "bin_end": 0.30000000000000004,
            "count": 0
           },
           {
            "bin_start": 0.30000000000000004,
            "bin_end": 0.4,
            "count": 0
           },
           {
            "bin_start": 0.4,
            "bin_end": 0.5,
            "count": 0
           },
           {
            "bin_start": 0.5,
            "bin_end": 0.6000000000000001,
            "count": 0
           },
           {
            "bin_start": 0.6000000000000001,
            "bin_end": 0.7000000000000001,
            "count": 0
           },
           {
            "bin_start": 0.7000000000000001,
            "bin_end": 0.8,
            "count": 0
           },
           {
            "bin_start": 0.8,
            "bin_end": 0.9,
            "count": 0
           },
           {
            "bin_start": 0.9,
            "bin_end": 1,
            "count": 7
           }
          ]
         }
        },
        {
         "name": "elevator_service",
         "dtype": "float64",
         "stats": {
          "unique_count": 2,
          "nan_count": 7,
          "min": "0.0",
          "max": "1.0",
          "histogram": [
           {
            "bin_start": 0,
            "bin_end": 0.1,
            "count": 12
           },
           {
            "bin_start": 0.1,
            "bin_end": 0.2,
            "count": 0
           },
           {
            "bin_start": 0.2,
            "bin_end": 0.30000000000000004,
            "count": 0
           },
           {
            "bin_start": 0.30000000000000004,
            "bin_end": 0.4,
            "count": 0
           },
           {
            "bin_start": 0.4,
            "bin_end": 0.5,
            "count": 0
           },
           {
            "bin_start": 0.5,
            "bin_end": 0.6000000000000001,
            "count": 0
           },
           {
            "bin_start": 0.6000000000000001,
            "bin_end": 0.7000000000000001,
            "count": 0
           },
           {
            "bin_start": 0.7000000000000001,
            "bin_end": 0.8,
            "count": 0
           },
           {
            "bin_start": 0.8,
            "bin_end": 0.9,
            "count": 0
           },
           {
            "bin_start": 0.9,
            "bin_end": 1,
            "count": 5
           }
          ]
         }
        },
        {
         "name": "parking",
         "dtype": "float64",
         "stats": {
          "unique_count": 1,
          "nan_count": 11,
          "min": "1.0",
          "max": "1.0",
          "histogram": [
           {
            "bin_start": 0.5,
            "bin_end": 0.6,
            "count": 0
           },
           {
            "bin_start": 0.6,
            "bin_end": 0.7,
            "count": 0
           },
           {
            "bin_start": 0.7,
            "bin_end": 0.8,
            "count": 0
           },
           {
            "bin_start": 0.8,
            "bin_end": 0.9,
            "count": 0
           },
           {
            "bin_start": 0.9,
            "bin_end": 1,
            "count": 0
           },
           {
            "bin_start": 1,
            "bin_end": 1.1,
            "count": 13
           },
           {
            "bin_start": 1.1,
            "bin_end": 1.2000000000000002,
            "count": 0
           },
           {
            "bin_start": 1.2000000000000002,
            "bin_end": 1.3,
            "count": 0
           },
           {
            "bin_start": 1.3,
            "bin_end": 1.4,
            "count": 0
           },
           {
            "bin_start": 1.4,
            "bin_end": 1.5,
            "count": 0
           }
          ]
         }
        },
        {
         "name": "garbage_chute",
         "dtype": "float64",
         "stats": {
          "unique_count": 2,
          "nan_count": 16,
          "min": "0.0",
          "max": "1.0",
          "histogram": [
           {
            "bin_start": 0,
            "bin_end": 0.1,
            "count": 6
           },
           {
            "bin_start": 0.1,
            "bin_end": 0.2,
            "count": 0
           },
           {
            "bin_start": 0.2,
            "bin_end": 0.30000000000000004,
            "count": 0
           },
           {
            "bin_start": 0.30000000000000004,
            "bin_end": 0.4,
            "count": 0
           },
           {
            "bin_start": 0.4,
            "bin_end": 0.5,
            "count": 0
           },
           {
            "bin_start": 0.5,
            "bin_end": 0.6000000000000001,
            "count": 0
           },
           {
            "bin_start": 0.6000000000000001,
            "bin_end": 0.7000000000000001,
            "count": 0
           },
           {
            "bin_start": 0.7000000000000001,
            "bin_end": 0.8,
            "count": 0
           },
           {
            "bin_start": 0.8,
            "bin_end": 0.9,
            "count": 0
           },
           {
            "bin_start": 0.9,
            "bin_end": 1,
            "count": 2
           }
          ]
         }
        },
        {
         "name": "heating",
         "dtype": "float64",
         "stats": {
          "unique_count": 3,
          "nan_count": 16,
          "min": "0.0",
          "max": "3.0",
          "histogram": [
           {
            "bin_start": 0,
            "bin_end": 0.3,
            "count": 5
           },
           {
            "bin_start": 0.3,
            "bin_end": 0.6,
            "count": 0
           },
           {
            "bin_start": 0.6,
            "bin_end": 0.8999999999999999,
            "count": 0
           },
           {
            "bin_start": 0.8999999999999999,
            "bin_end": 1.2,
            "count": 2
           },
           {
            "bin_start": 1.2,
            "bin_end": 1.5,
            "count": 0
           },
           {
            "bin_start": 1.5,
            "bin_end": 1.7999999999999998,
            "count": 0
           },
           {
            "bin_start": 1.7999999999999998,
            "bin_end": 2.1,
            "count": 0
           },
           {
            "bin_start": 2.1,
            "bin_end": 2.4,
            "count": 0
           },
           {
            "bin_start": 2.4,
            "bin_end": 2.6999999999999997,
            "count": 0
           },
           {
            "bin_start": 2.6999999999999997,
            "bin_end": 3,
            "count": 1
           }
          ]
         }
        },
        {
         "name": "price/area",
         "dtype": "float64",
         "stats": {
          "unique_count": 22,
          "nan_count": 0,
          "min": "23323.61224489796",
          "max": "50738.0073800738",
          "histogram": [
           {
            "bin_start": 23323.61224489796,
            "bin_end": 26065.051758415542,
            "count": 2
           },
           {
            "bin_start": 26065.051758415542,
            "bin_end": 28806.491271933126,
            "count": 0
           },
           {
            "bin_start": 28806.491271933126,
            "bin_end": 31547.930785450713,
            "count": 1
           },
           {
            "bin_start": 31547.930785450713,
            "bin_end": 34289.37029896829,
            "count": 1
           },
           {
            "bin_start": 34289.37029896829,
            "bin_end": 37030.80981248588,
            "count": 1
           },
           {
            "bin_start": 37030.80981248588,
            "bin_end": 39772.24932600347,
            "count": 4
           },
           {
            "bin_start": 39772.24932600347,
            "bin_end": 42513.688839521055,
            "count": 1
           },
           {
            "bin_start": 42513.688839521055,
            "bin_end": 45255.128353038635,
            "count": 2
           },
           {
            "bin_start": 45255.128353038635,
            "bin_end": 47996.567866556215,
            "count": 2
           },
           {
            "bin_start": 47996.567866556215,
            "bin_end": 50738.0073800738,
            "count": 10
           }
          ]
         }
        },
        {
         "name": "distance",
         "dtype": "float64",
         "stats": {
          "unique_count": 16,
          "nan_count": 0,
          "min": "0.12808134682692718",
          "max": "0.7550836663344056",
          "histogram": [
           {
            "bin_start": 0.12808134682692718,
            "bin_end": 0.19078157877767501,
            "count": 4
           },
           {
            "bin_start": 0.19078157877767501,
            "bin_end": 0.25348181072842285,
            "count": 5
           },
           {
            "bin_start": 0.25348181072842285,
            "bin_end": 0.3161820426791707,
            "count": 1
           },
           {
            "bin_start": 0.3161820426791707,
            "bin_end": 0.3788822746299185,
            "count": 0
           },
           {
            "bin_start": 0.3788822746299185,
            "bin_end": 0.44158250658066633,
            "count": 2
           },
           {
            "bin_start": 0.44158250658066633,
            "bin_end": 0.5042827385314141,
            "count": 6
           },
           {
            "bin_start": 0.5042827385314141,
            "bin_end": 0.5669829704821621,
            "count": 0
           },
           {
            "bin_start": 0.5669829704821621,
            "bin_end": 0.6296832024329099,
            "count": 0
           },
           {
            "bin_start": 0.6296832024329099,
            "bin_end": 0.6923834343836577,
            "count": 0
           },
           {
            "bin_start": 0.6923834343836577,
            "bin_end": 0.7550836663344056,
            "count": 6
           }
          ]
         }
        },
        {
         "name": "_deepnote_index_column",
         "dtype": "int64"
        }
       ],
       "rows_top": [
        {
         "id": 2215,
         "seller": "nan",
         "price": 1900000,
         "area_total": 55.8,
         "area_kitchen": "nan",
         "area_living": 35,
         "floor": 1,
         "rooms": 1,
         "layout": "nan",
         "ceiling": "nan",
         "bathrooms_shared": "nan",
         "bathrooms_private": "nan",
         "windows_court": 1,
         "windows_street": 0,
         "balconies": 1,
         "loggias": 0,
         "condition": 0,
         "phones": 1,
         "building_id": 741,
         "new": 0,
         "district": 10,
         "street": "База отдыха Витро Вилладж тер.",
         "address": "к4",
         "constructed": 2010,
         "material": 2,
         "stories": 5,
         "elevator_without": 0,
         "elevator_passenger": 1,
         "elevator_service": 1,
         "parking": 1,
         "garbage_chute": 0,
         "heating": "nan",
         "price/area": 34050.179211469534,
         "distance": 0.49510152083890724,
         "_deepnote_index_column": 2215
        },
        {
         "id": 2236,
         "seller": 1,
         "price": 3000000,
         "area_total": 60,
         "area_kitchen": 8,
         "area_living": 45,
         "floor": 3,
         "rooms": 3,
         "layout": 1,
         "ceiling": "nan",
         "bathrooms_shared": 1,
         "bathrooms_private": 0,
         "windows_court": "nan",
         "windows_street": "nan",
         "balconies": 1,
         "loggias": 0,
         "condition": "nan",
         "phones": 1,
         "building_id": 4960,
         "new": 0,
         "district": 10,
         "street": "улица Березки",
         "address": "8к3",
         "constructed": 2017,
         "material": "nan",
         "stories": 4,
         "elevator_without": "nan",
         "elevator_passenger": "nan",
         "elevator_service": "nan",
         "parking": "nan",
         "garbage_chute": "nan",
         "heating": "nan",
         "price/area": 50000,
         "distance": 0.7539302153097458,
         "_deepnote_index_column": 2236
        },
        {
         "id": 2241,
         "seller": 1,
         "price": 3500000,
         "area_total": 75,
         "area_kitchen": 12,
         "area_living": 41,
         "floor": 2,
         "rooms": 3,
         "layout": 1,
         "ceiling": "nan",
         "bathrooms_shared": 0,
         "bathrooms_private": 1,
         "windows_court": "nan",
         "windows_street": "nan",
         "balconies": 1,
         "loggias": 0,
         "condition": "nan",
         "phones": 1,
         "building_id": 9053,
         "new": 1,
         "district": 11,
         "street": "улица Юбилейная",
         "address": "12к1",
         "constructed": "nan",
         "material": "nan",
         "stories": 5,
         "elevator_without": "nan",
         "elevator_passenger": "nan",
         "elevator_service": "nan",
         "parking": "nan",
         "garbage_chute": "nan",
         "heating": "nan",
         "price/area": 46666.666666666664,
         "distance": 0.24564372320293307,
         "_deepnote_index_column": 2241
        },
        {
         "id": 2363,
         "seller": 2,
         "price": 7999999,
         "area_total": 343,
         "area_kitchen": "nan",
         "area_living": 222,
         "floor": 2,
         "rooms": 6,
         "layout": "nan",
         "ceiling": "nan",
         "bathrooms_shared": "nan",
         "bathrooms_private": "nan",
         "windows_court": "nan",
         "windows_street": "nan",
         "balconies": "nan",
         "loggias": "nan",
         "condition": "nan",
         "phones": 0,
         "building_id": 4826,
         "new": 0,
         "district": 2,
         "street": "улица Радужная",
         "address": "9",
         "constructed": 2013,
         "material": 2,
         "stories": 25,
         "elevator_without": 1,
         "elevator_passenger": 1,
         "elevator_service": 1,
         "parking": 1,
         "garbage_chute": 1,
         "heating": 0,
         "price/area": 23323.61224489796,
         "distance": 0.12808134682692718,
         "_deepnote_index_column": 2363
        },
        {
         "id": 7512,
         "seller": 1,
         "price": 2950000,
         "area_total": 60,
         "area_kitchen": 8.3,
         "area_living": 34,
         "floor": 4,
         "rooms": 2,
         "layout": 1,
         "ceiling": "nan",
         "bathrooms_shared": 1,
         "bathrooms_private": 0,
         "windows_court": "nan",
         "windows_street": "nan",
         "balconies": 1,
         "loggias": 0,
         "condition": "nan",
         "phones": 1,
         "building_id": 4960,
         "new": 0,
         "district": 10,
         "street": "улица Березки",
         "address": "8к3",
         "constructed": 2017,
         "material": "nan",
         "stories": 4,
         "elevator_without": "nan",
         "elevator_passenger": "nan",
         "elevator_service": "nan",
         "parking": "nan",
         "garbage_chute": "nan",
         "heating": "nan",
         "price/area": 49166.666666666664,
         "distance": 0.7539302153097458,
         "_deepnote_index_column": 7512
        },
        {
         "id": 7513,
         "seller": 1,
         "price": 3000000,
         "area_total": 60.3,
         "area_kitchen": 9,
         "area_living": 48,
         "floor": 4,
         "rooms": 2,
         "layout": 1,
         "ceiling": "nan",
         "bathrooms_shared": 1,
         "bathrooms_private": 0,
         "windows_court": "nan",
         "windows_street": "nan",
         "balconies": 1,
         "loggias": 0,
         "condition": "nan",
         "phones": 1,
         "building_id": 6238,
         "new": 0,
         "district": 10,
         "street": "улица Березки",
         "address": "10к2",
         "constructed": 2016,
         "material": "nan",
         "stories": 4,
         "elevator_without": 1,
         "elevator_passenger": 0,
         "elevator_service": 0,
         "parking": 1,
         "garbage_chute": "nan",
         "heating": "nan",
         "price/area": 49751.24378109453,
         "distance": 0.7550836663344056,
         "_deepnote_index_column": 7513
        },
        {
         "id": 7514,
         "seller": 1,
         "price": 3350000,
         "area_total": 75,
         "area_kitchen": 12,
         "area_living": 41,
         "floor": 5,
         "rooms": 3,
         "layout": 1,
         "ceiling": "nan",
         "bathrooms_shared": 0,
         "bathrooms_private": 1,
         "windows_court": "nan",
         "windows_street": "nan",
         "balconies": 1,
         "loggias": 0,
         "condition": "nan",
         "phones": 1,
         "building_id": 1327,
         "new": 1,
         "district": 10,
         "street": "улица Юбилейная",
         "address": "2Б",
         "constructed": 2018,
         "material": "nan",
         "stories": 5,
         "elevator_without": "nan",
         "elevator_passenger": "nan",
         "elevator_service": "nan",
         "parking": "nan",
         "garbage_chute": "nan",
         "heating": "nan",
         "price/area": 44666.666666666664,
         "distance": 0.7489374021385223,
         "_deepnote_index_column": 7514
        },
        {
         "id": 7572,
         "seller": 0,
         "price": 1000000,
         "area_total": 21,
         "area_kitchen": 4,
         "area_living": 14,
         "floor": 1,
         "rooms": 1,
         "layout": "nan",
         "ceiling": "nan",
         "bathrooms_shared": "nan",
         "bathrooms_private": "nan",
         "windows_court": "nan",
         "windows_street": "nan",
         "balconies": "nan",
         "loggias": "nan",
         "condition": "nan",
         "phones": 0,
         "building_id": 5994,
         "new": 0,
         "district": 7,
         "street": "улица Парковая",
         "address": "11",
         "constructed": 2016,
         "material": 2,
         "stories": 4,
         "elevator_without": 1,
         "elevator_passenger": 0,
         "elevator_service": 0,
         "parking": 1,
         "garbage_chute": "nan",
         "heating": 0,
         "price/area": 47619.04761904762,
         "distance": 0.2547833564992063,
         "_deepnote_index_column": 7572
        },
        {
         "id": 11167,
         "seller": 1,
         "price": 13750000,
         "area_total": 271,
         "area_kitchen": 25,
         "area_living": 150,
         "floor": 4,
         "rooms": 6,
         "layout": 1,
         "ceiling": "nan",
         "bathrooms_shared": 0,
         "bathrooms_private": 3,
         "windows_court": 1,
         "windows_street": 1,
         "balconies": 1,
         "loggias": 0,
         "condition": 0,
         "phones": 1,
         "building_id": 2121,
         "new": 0,
         "district": 2,
         "street": "улица Радужная",
         "address": "1",
         "constructed": 2004,
         "material": 4,
         "stories": 5,
         "elevator_without": 1,
         "elevator_passenger": 0,
         "elevator_service": 0,
         "parking": "nan",
         "garbage_chute": "nan",
         "heating": 0,
         "price/area": 50738.0073800738,
         "distance": 0.13164740910477638,
         "_deepnote_index_column": 11167
        },
        {
         "id": 13201,
         "seller": 1,
         "price": 2900000,
         "area_total": 60,
         "area_kitchen": "nan",
         "area_living": 60,
         "floor": 1,
         "rooms": 1,
         "layout": "nan",
         "ceiling": "nan",
         "bathrooms_shared": 0,
         "bathrooms_private": 1,
         "windows_court": 1,
         "windows_street": 0,
         "balconies": "nan",
         "loggias": "nan",
         "condition": 0,
         "phones": 2,
         "building_id": 4782,
         "new": 0,
         "district": 8,
         "street": "улица Центральная",
         "address": "27",
         "constructed": 2010,
         "material": 2,
         "stories": 3,
         "elevator_without": 1,
         "elevator_passenger": 0,
         "elevator_service": 0,
         "parking": 1,
         "garbage_chute": 0,
         "heating": 1,
         "price/area": 48333.333333333336,
         "distance": 0.23861186161840303,
         "_deepnote_index_column": 13201
        },
        {
         "id": 13206,
         "seller": 0,
         "price": 1150000,
         "area_total": 29,
         "area_kitchen": 6,
         "area_living": 18,
         "floor": 1,
         "rooms": 1,
         "layout": "nan",
         "ceiling": "nan",
         "bathrooms_shared": "nan",
         "bathrooms_private": "nan",
         "windows_court": "nan",
         "windows_street": "nan",
         "balconies": "nan",
         "loggias": "nan",
         "condition": 1,
         "phones": 1,
         "building_id": 8670,
         "new": 0,
         "district": 10,
         "street": "д. Кузенево",
         "address": "8",
         "constructed": "nan",
         "material": "nan",
         "stories": 2,
         "elevator_without": "nan",
         "elevator_passenger": "nan",
         "elevator_service": "nan",
         "parking": "nan",
         "garbage_chute": "nan",
         "heating": "nan",
         "price/area": 39655.1724137931,
         "distance": 0.418336820058906,
         "_deepnote_index_column": 13206
        },
        {
         "id": 13207,
         "seller": 0,
         "price": 1400000,
         "area_total": 37,
         "area_kitchen": 6,
         "area_living": "nan",
         "floor": 2,
         "rooms": 2,
         "layout": "nan",
         "ceiling": "nan",
         "bathrooms_shared": "nan",
         "bathrooms_private": "nan",
         "windows_court": "nan",
         "windows_street": "nan",
         "balconies": "nan",
         "loggias": "nan",
         "condition": 1,
         "phones": 1,
         "building_id": 8670,
         "new": 0,
         "district": 10,
         "street": "д. Кузенево",
         "address": "8",
         "constructed": "nan",
         "material": "nan",
         "stories": 2,
         "elevator_without": "nan",
         "elevator_passenger": "nan",
         "elevator_service": "nan",
         "parking": "nan",
         "garbage_chute": "nan",
         "heating": "nan",
         "price/area": 37837.83783783784,
         "distance": 0.418336820058906,
         "_deepnote_index_column": 13207
        },
        {
         "id": 13642,
         "seller": 1,
         "price": 4200000,
         "area_total": 105.6,
         "area_kitchen": 20,
         "area_living": 30,
         "floor": 5,
         "rooms": 1,
         "layout": "nan",
         "ceiling": "nan",
         "bathrooms_shared": 1,
         "bathrooms_private": 0,
         "windows_court": 1,
         "windows_street": 0,
         "balconies": 0,
         "loggias": 1,
         "condition": 2,
         "phones": 1,
         "building_id": 8231,
         "new": 0,
         "district": 10,
         "street": "д. Киселево",
         "address": "6",
         "constructed": "nan",
         "material": 0,
         "stories": 5,
         "elevator_without": 0,
         "elevator_passenger": 1,
         "elevator_service": 0,
         "parking": "nan",
         "garbage_chute": "nan",
         "heating": "nan",
         "price/area": 39772.72727272727,
         "distance": 0.47701724495975856,
         "_deepnote_index_column": 13642
        },
        {
         "id": 13724,
         "seller": "nan",
         "price": 2950000,
         "area_total": 61,
         "area_kitchen": 8,
         "area_living": 34,
         "floor": 4,
         "rooms": 2,
         "layout": 1,
         "ceiling": 3,
         "bathrooms_shared": 0,
         "bathrooms_private": 1,
         "windows_court": 1,
         "windows_street": 0,
         "balconies": 0,
         "loggias": 1,
         "condition": 1,
         "phones": 1,
         "building_id": 6238,
         "new": 0,
         "district": 10,
         "street": "улица Березки",
         "address": "10к2",
         "constructed": 2016,
         "material": "nan",
         "stories": 4,
         "elevator_without": 1,
         "elevator_passenger": 0,
         "elevator_service": 0,
         "parking": 1,
         "garbage_chute": "nan",
         "heating": "nan",
         "price/area": 48360.65573770492,
         "distance": 0.7550836663344056,
         "_deepnote_index_column": 13724
        },
        {
         "id": 13725,
         "seller": "nan",
         "price": 2500000,
         "area_total": 101.9,
         "area_kitchen": "nan",
         "area_living": 55,
         "floor": 1,
         "rooms": 1,
         "layout": "nan",
         "ceiling": 3.5,
         "bathrooms_shared": "nan",
         "bathrooms_private": "nan",
         "windows_court": 1,
         "windows_street": 0,
         "balconies": 1,
         "loggias": 0,
         "condition": 0,
         "phones": 1,
         "building_id": 741,
         "new": 0,
         "district": 10,
         "street": "База отдыха Витро Вилладж тер.",
         "address": "к4",
         "constructed": 2010,
         "material": 2,
         "stories": 5,
         "elevator_without": 0,
         "elevator_passenger": 1,
         "elevator_service": 1,
         "parking": 1,
         "garbage_chute": 0,
         "heating": "nan",
         "price/area": 24533.85672227674,
         "distance": 0.49510152083890724,
         "_deepnote_index_column": 13725
        },
        {
         "id": 16636,
         "seller": 2,
         "price": 5500000,
         "area_total": 153.5,
         "area_kitchen": 18.1,
         "area_living": 61.1,
         "floor": 1,
         "rooms": 3,
         "layout": 1,
         "ceiling": "nan",
         "bathrooms_shared": 1,
         "bathrooms_private": 2,
         "windows_court": 1,
         "windows_street": 0,
         "balconies": 0,
         "loggias": 1,
         "condition": 0,
         "phones": 1,
         "building_id": 8038,
         "new": 0,
         "district": 2,
         "street": "улица Радужная",
         "address": "7",
         "constructed": 2004,
         "material": 4,
         "stories": 4,
         "elevator_without": 1,
         "elevator_passenger": 0,
         "elevator_service": 0,
         "parking": "nan",
         "garbage_chute": 0,
         "heating": 0,
         "price/area": 35830.618892508144,
         "distance": 0.12892314079326675,
         "_deepnote_index_column": 16636
        },
        {
         "id": 20314,
         "seller": 1,
         "price": 2900000,
         "area_total": 60,
         "area_kitchen": "nan",
         "area_living": 60,
         "floor": 1,
         "rooms": 1,
         "layout": "nan",
         "ceiling": "nan",
         "bathrooms_shared": 0,
         "bathrooms_private": 1,
         "windows_court": 1,
         "windows_street": 0,
         "balconies": "nan",
         "loggias": "nan",
         "condition": 0,
         "phones": 2,
         "building_id": 4782,
         "new": 0,
         "district": 8,
         "street": "улица Центральная",
         "address": "27",
         "constructed": 2010,
         "material": 2,
         "stories": 3,
         "elevator_without": 1,
         "elevator_passenger": 0,
         "elevator_service": 0,
         "parking": 1,
         "garbage_chute": 0,
         "heating": 1,
         "price/area": 48333.333333333336,
         "distance": 0.23861186161840303,
         "_deepnote_index_column": 20314
        },
        {
         "id": 20317,
         "seller": 2,
         "price": 3900000,
         "area_total": 99.3,
         "area_kitchen": 20,
         "area_living": 65,
         "floor": 3,
         "rooms": 3,
         "layout": 1,
         "ceiling": 3.2,
         "bathrooms_shared": 1,
         "bathrooms_private": 1,
         "windows_court": 1,
         "windows_street": 0,
         "balconies": 0,
         "loggias": 2,
         "condition": 0,
         "phones": 1,
         "building_id": 1157,
         "new": 0,
         "district": 10,
         "street": "База отдыха Витро Вилладж тер.",
         "address": "к1",
         "constructed": 2009,
         "material": 2,
         "stories": 5,
         "elevator_without": 0,
         "elevator_passenger": 1,
         "elevator_service": 1,
         "parking": 1,
         "garbage_chute": "nan",
         "heating": "nan",
         "price/area": 39274.92447129909,
         "distance": 0.4964174061754902,
         "_deepnote_index_column": 20317
        },
        {
         "id": 20329,
         "seller": "nan",
         "price": 1200000,
         "area_total": 32,
         "area_kitchen": "nan",
         "area_living": "nan",
         "floor": 1,
         "rooms": 1,
         "layout": "nan",
         "ceiling": "nan",
         "bathrooms_shared": 1,
         "bathrooms_private": 0,
         "windows_court": "nan",
         "windows_street": "nan",
         "balconies": "nan",
         "loggias": "nan",
         "condition": 1,
         "phones": 1,
         "building_id": 9436,
         "new": 0,
         "district": 8,
         "street": "улица Центральная",
         "address": "24",
         "constructed": 2010,
         "material": 2,
         "stories": 3,
         "elevator_without": 1,
         "elevator_passenger": 0,
         "elevator_service": 0,
         "parking": "nan",
         "garbage_chute": 0,
         "heating": 3,
         "price/area": 37500,
         "distance": 0.238880473546916,
         "_deepnote_index_column": 20329
        },
        {
         "id": 20333,
         "seller": "nan",
         "price": 8300000,
         "area_total": 165,
         "area_kitchen": "nan",
         "area_living": "nan",
         "floor": 4,
         "rooms": 4,
         "layout": "nan",
         "ceiling": "nan",
         "bathrooms_shared": "nan",
         "bathrooms_private": "nan",
         "windows_court": "nan",
         "windows_street": "nan",
         "balconies": "nan",
         "loggias": "nan",
         "condition": "nan",
         "phones": "nan",
         "building_id": 8250,
         "new": "nan",
         "district": 10,
         "street": "улица Кленово",
         "address": "111",
         "constructed": "nan",
         "material": "nan",
         "stories": 5,
         "elevator_without": "nan",
         "elevator_passenger": "nan",
         "elevator_service": "nan",
         "parking": "nan",
         "garbage_chute": "nan",
         "heating": "nan",
         "price/area": 50303.030303030304,
         "distance": 0.49635550476044676,
         "_deepnote_index_column": 20333
        },
        {
         "id": 21393,
         "seller": 1,
         "price": 3000000,
         "area_total": 61,
         "area_kitchen": 9,
         "area_living": 34,
         "floor": 4,
         "rooms": 2,
         "layout": "nan",
         "ceiling": "nan",
         "bathrooms_shared": "nan",
         "bathrooms_private": "nan",
         "windows_court": 1,
         "windows_street": 0,
         "balconies": 0,
         "loggias": 1,
         "condition": 0,
         "phones": 2,
         "building_id": 6238,
         "new": 0,
         "district": 10,
         "street": "улица Березки",
         "address": "10к2",
         "constructed": 2016,
         "material": "nan",
         "stories": 4,
         "elevator_without": 1,
         "elevator_passenger": 0,
         "elevator_service": 0,
         "parking": 1,
         "garbage_chute": "nan",
         "heating": "nan",
         "price/area": 49180.32786885246,
         "distance": 0.7550836663344056,
         "_deepnote_index_column": 21393
        },
        {
         "id": 21407,
         "seller": 0,
         "price": 5350000,
         "area_total": 124,
         "area_kitchen": 15,
         "area_living": 65,
         "floor": 2,
         "rooms": 3,
         "layout": 1,
         "ceiling": 3,
         "bathrooms_shared": 0,
         "bathrooms_private": 3,
         "windows_court": 1,
         "windows_street": 0,
         "balconies": "nan",
         "loggias": "nan",
         "condition": 0,
         "phones": 1,
         "building_id": 542,
         "new": 0,
         "district": 2,
         "street": "улица Радужная",
         "address": "12",
         "constructed": 2012,
         "material": "nan",
         "stories": 3,
         "elevator_without": 1,
         "elevator_passenger": 0,
         "elevator_service": 0,
         "parking": 1,
         "garbage_chute": "nan",
         "heating": "nan",
         "price/area": 43145.16129032258,
         "distance": 0.13006369252793093,
         "_deepnote_index_column": 21407
        },
        {
         "id": 22401,
         "seller": 1,
         "price": 2500000,
         "area_total": 50,
         "area_kitchen": "nan",
         "area_living": 38,
         "floor": 4,
         "rooms": 1,
         "layout": "nan",
         "ceiling": "nan",
         "bathrooms_shared": 1,
         "bathrooms_private": 0,
         "windows_court": 1,
         "windows_street": 0,
         "balconies": "nan",
         "loggias": "nan",
         "condition": 1,
         "phones": 2,
         "building_id": 155,
         "new": 0,
         "district": 8,
         "street": "улица Центральная",
         "address": "30",
         "constructed": 2011,
         "material": 2,
         "stories": 4,
         "elevator_without": 1,
         "elevator_passenger": 1,
         "elevator_service": 0,
         "parking": 1,
         "garbage_chute": 1,
         "heating": 0,
         "price/area": 50000,
         "distance": 0.238880473546916,
         "_deepnote_index_column": 22401
        },
        {
         "id": 23222,
         "seller": "nan",
         "price": 2800000,
         "area_total": 89.4,
         "area_kitchen": "nan",
         "area_living": "nan",
         "floor": 4,
         "rooms": 3,
         "layout": "nan",
         "ceiling": "nan",
         "bathrooms_shared": "nan",
         "bathrooms_private": "nan",
         "windows_court": "nan",
         "windows_street": "nan",
         "balconies": 0,
         "loggias": 1,
         "condition": 0,
         "phones": 1,
         "building_id": 1157,
         "new": 0,
         "district": 10,
         "street": "База отдыха Витро Вилладж тер.",
         "address": "к1",
         "constructed": 2009,
         "material": 2,
         "stories": 5,
         "elevator_without": 0,
         "elevator_passenger": 1,
         "elevator_service": 1,
         "parking": 1,
         "garbage_chute": "nan",
         "heating": "nan",
         "price/area": 31319.910514541385,
         "distance": 0.4964174061754902,
         "_deepnote_index_column": 23222
        }
       ],
       "rows_bottom": null
      },
      "text/plain": "          id  seller       price  area_total  area_kitchen  area_living  \\\n2215    2215     NaN   1900000.0        55.8           NaN         35.0   \n2236    2236     1.0   3000000.0        60.0           8.0         45.0   \n2241    2241     1.0   3500000.0        75.0          12.0         41.0   \n2363    2363     2.0   7999999.0       343.0           NaN        222.0   \n7512    7512     1.0   2950000.0        60.0           8.3         34.0   \n7513    7513     1.0   3000000.0        60.3           9.0         48.0   \n7514    7514     1.0   3350000.0        75.0          12.0         41.0   \n7572    7572     0.0   1000000.0        21.0           4.0         14.0   \n11167  11167     1.0  13750000.0       271.0          25.0        150.0   \n13201  13201     1.0   2900000.0        60.0           NaN         60.0   \n13206  13206     0.0   1150000.0        29.0           6.0         18.0   \n13207  13207     0.0   1400000.0        37.0           6.0          NaN   \n13642  13642     1.0   4200000.0       105.6          20.0         30.0   \n13724  13724     NaN   2950000.0        61.0           8.0         34.0   \n13725  13725     NaN   2500000.0       101.9           NaN         55.0   \n16636  16636     2.0   5500000.0       153.5          18.1         61.1   \n20314  20314     1.0   2900000.0        60.0           NaN         60.0   \n20317  20317     2.0   3900000.0        99.3          20.0         65.0   \n20329  20329     NaN   1200000.0        32.0           NaN          NaN   \n20333  20333     NaN   8300000.0       165.0           NaN          NaN   \n21393  21393     1.0   3000000.0        61.0           9.0         34.0   \n21407  21407     0.0   5350000.0       124.0          15.0         65.0   \n22401  22401     1.0   2500000.0        50.0           NaN         38.0   \n23222  23222     NaN   2800000.0        89.4           NaN          NaN   \n\n       floor  rooms  layout  ceiling  ...  material  stories  \\\n2215     1.0    1.0     NaN      NaN  ...       2.0      5.0   \n2236     3.0    3.0     1.0      NaN  ...       NaN      4.0   \n2241     2.0    3.0     1.0      NaN  ...       NaN      5.0   \n2363     2.0    6.0     NaN      NaN  ...       2.0     25.0   \n7512     4.0    2.0     1.0      NaN  ...       NaN      4.0   \n7513     4.0    2.0     1.0      NaN  ...       NaN      4.0   \n7514     5.0    3.0     1.0      NaN  ...       NaN      5.0   \n7572     1.0    1.0     NaN      NaN  ...       2.0      4.0   \n11167    4.0    6.0     1.0      NaN  ...       4.0      5.0   \n13201    1.0    1.0     NaN      NaN  ...       2.0      3.0   \n13206    1.0    1.0     NaN      NaN  ...       NaN      2.0   \n13207    2.0    2.0     NaN      NaN  ...       NaN      2.0   \n13642    5.0    1.0     NaN      NaN  ...       0.0      5.0   \n13724    4.0    2.0     1.0      3.0  ...       NaN      4.0   \n13725    1.0    1.0     NaN      3.5  ...       2.0      5.0   \n16636    1.0    3.0     1.0      NaN  ...       4.0      4.0   \n20314    1.0    1.0     NaN      NaN  ...       2.0      3.0   \n20317    3.0    3.0     1.0      3.2  ...       2.0      5.0   \n20329    1.0    1.0     NaN      NaN  ...       2.0      3.0   \n20333    4.0    4.0     NaN      NaN  ...       NaN      5.0   \n21393    4.0    2.0     NaN      NaN  ...       NaN      4.0   \n21407    2.0    3.0     1.0      3.0  ...       NaN      3.0   \n22401    4.0    1.0     NaN      NaN  ...       2.0      4.0   \n23222    4.0    3.0     NaN      NaN  ...       2.0      5.0   \n\n       elevator_without  elevator_passenger  elevator_service  parking  \\\n2215                0.0                 1.0               1.0      1.0   \n2236                NaN                 NaN               NaN      NaN   \n2241                NaN                 NaN               NaN      NaN   \n2363                1.0                 1.0               1.0      1.0   \n7512                NaN                 NaN               NaN      NaN   \n7513                1.0                 0.0               0.0      1.0   \n7514                NaN                 NaN               NaN      NaN   \n7572                1.0                 0.0               0.0      1.0   \n11167               1.0                 0.0               0.0      NaN   \n13201               1.0                 0.0               0.0      1.0   \n13206               NaN                 NaN               NaN      NaN   \n13207               NaN                 NaN               NaN      NaN   \n13642               0.0                 1.0               0.0      NaN   \n13724               1.0                 0.0               0.0      1.0   \n13725               0.0                 1.0               1.0      1.0   \n16636               1.0                 0.0               0.0      NaN   \n20314               1.0                 0.0               0.0      1.0   \n20317               0.0                 1.0               1.0      1.0   \n20329               1.0                 0.0               0.0      NaN   \n20333               NaN                 NaN               NaN      NaN   \n21393               1.0                 0.0               0.0      1.0   \n21407               1.0                 0.0               0.0      1.0   \n22401               1.0                 1.0               0.0      1.0   \n23222               0.0                 1.0               1.0      1.0   \n\n       garbage_chute  heating    price/area  distance  \n2215             0.0      NaN  34050.179211  0.495102  \n2236             NaN      NaN  50000.000000  0.753930  \n2241             NaN      NaN  46666.666667  0.245644  \n2363             1.0      0.0  23323.612245  0.128081  \n7512             NaN      NaN  49166.666667  0.753930  \n7513             NaN      NaN  49751.243781  0.755084  \n7514             NaN      NaN  44666.666667  0.748937  \n7572             NaN      0.0  47619.047619  0.254783  \n11167            NaN      0.0  50738.007380  0.131647  \n13201            0.0      1.0  48333.333333  0.238612  \n13206            NaN      NaN  39655.172414  0.418337  \n13207            NaN      NaN  37837.837838  0.418337  \n13642            NaN      NaN  39772.727273  0.477017  \n13724            NaN      NaN  48360.655738  0.755084  \n13725            0.0      NaN  24533.856722  0.495102  \n16636            0.0      0.0  35830.618893  0.128923  \n20314            0.0      1.0  48333.333333  0.238612  \n20317            NaN      NaN  39274.924471  0.496417  \n20329            0.0      3.0  37500.000000  0.238880  \n20333            NaN      NaN  50303.030303  0.496356  \n21393            NaN      NaN  49180.327869  0.755084  \n21407            NaN      NaN  43145.161290  0.130064  \n22401            1.0      0.0  50000.000000  0.238880  \n23222            NaN      NaN  31319.910515  0.496417  \n\n[24 rows x 34 columns]",
      "text/html": "<div>\n<style scoped>\n    .dataframe tbody tr th:only-of-type {\n        vertical-align: middle;\n    }\n\n    .dataframe tbody tr th {\n        vertical-align: top;\n    }\n\n    .dataframe thead th {\n        text-align: right;\n    }\n</style>\n<table border=\"1\" class=\"dataframe\">\n  <thead>\n    <tr style=\"text-align: right;\">\n      <th></th>\n      <th>id</th>\n      <th>seller</th>\n      <th>price</th>\n      <th>area_total</th>\n      <th>area_kitchen</th>\n      <th>area_living</th>\n      <th>floor</th>\n      <th>rooms</th>\n      <th>layout</th>\n      <th>ceiling</th>\n      <th>...</th>\n      <th>material</th>\n      <th>stories</th>\n      <th>elevator_without</th>\n      <th>elevator_passenger</th>\n      <th>elevator_service</th>\n      <th>parking</th>\n      <th>garbage_chute</th>\n      <th>heating</th>\n      <th>price/area</th>\n      <th>distance</th>\n    </tr>\n  </thead>\n  <tbody>\n    <tr>\n      <th>2215</th>\n      <td>2215</td>\n      <td>NaN</td>\n      <td>1900000.0</td>\n      <td>55.8</td>\n      <td>NaN</td>\n      <td>35.0</td>\n      <td>1.0</td>\n      <td>1.0</td>\n      <td>NaN</td>\n      <td>NaN</td>\n      <td>...</td>\n      <td>2.0</td>\n      <td>5.0</td>\n      <td>0.0</td>\n      <td>1.0</td>\n      <td>1.0</td>\n      <td>1.0</td>\n      <td>0.0</td>\n      <td>NaN</td>\n      <td>34050.179211</td>\n      <td>0.495102</td>\n    </tr>\n    <tr>\n      <th>2236</th>\n      <td>2236</td>\n      <td>1.0</td>\n      <td>3000000.0</td>\n      <td>60.0</td>\n      <td>8.0</td>\n      <td>45.0</td>\n      <td>3.0</td>\n      <td>3.0</td>\n      <td>1.0</td>\n      <td>NaN</td>\n      <td>...</td>\n      <td>NaN</td>\n      <td>4.0</td>\n      <td>NaN</td>\n      <td>NaN</td>\n      <td>NaN</td>\n      <td>NaN</td>\n      <td>NaN</td>\n      <td>NaN</td>\n      <td>50000.000000</td>\n      <td>0.753930</td>\n    </tr>\n    <tr>\n      <th>2241</th>\n      <td>2241</td>\n      <td>1.0</td>\n      <td>3500000.0</td>\n      <td>75.0</td>\n      <td>12.0</td>\n      <td>41.0</td>\n      <td>2.0</td>\n      <td>3.0</td>\n      <td>1.0</td>\n      <td>NaN</td>\n      <td>...</td>\n      <td>NaN</td>\n      <td>5.0</td>\n      <td>NaN</td>\n      <td>NaN</td>\n      <td>NaN</td>\n      <td>NaN</td>\n      <td>NaN</td>\n      <td>NaN</td>\n      <td>46666.666667</td>\n      <td>0.245644</td>\n    </tr>\n    <tr>\n      <th>2363</th>\n      <td>2363</td>\n      <td>2.0</td>\n      <td>7999999.0</td>\n      <td>343.0</td>\n      <td>NaN</td>\n      <td>222.0</td>\n      <td>2.0</td>\n      <td>6.0</td>\n      <td>NaN</td>\n      <td>NaN</td>\n      <td>...</td>\n      <td>2.0</td>\n      <td>25.0</td>\n      <td>1.0</td>\n      <td>1.0</td>\n      <td>1.0</td>\n      <td>1.0</td>\n      <td>1.0</td>\n      <td>0.0</td>\n      <td>23323.612245</td>\n      <td>0.128081</td>\n    </tr>\n    <tr>\n      <th>7512</th>\n      <td>7512</td>\n      <td>1.0</td>\n      <td>2950000.0</td>\n      <td>60.0</td>\n      <td>8.3</td>\n      <td>34.0</td>\n      <td>4.0</td>\n      <td>2.0</td>\n      <td>1.0</td>\n      <td>NaN</td>\n      <td>...</td>\n      <td>NaN</td>\n      <td>4.0</td>\n      <td>NaN</td>\n      <td>NaN</td>\n      <td>NaN</td>\n      <td>NaN</td>\n      <td>NaN</td>\n      <td>NaN</td>\n      <td>49166.666667</td>\n      <td>0.753930</td>\n    </tr>\n    <tr>\n      <th>7513</th>\n      <td>7513</td>\n      <td>1.0</td>\n      <td>3000000.0</td>\n      <td>60.3</td>\n      <td>9.0</td>\n      <td>48.0</td>\n      <td>4.0</td>\n      <td>2.0</td>\n      <td>1.0</td>\n      <td>NaN</td>\n      <td>...</td>\n      <td>NaN</td>\n      <td>4.0</td>\n      <td>1.0</td>\n      <td>0.0</td>\n      <td>0.0</td>\n      <td>1.0</td>\n      <td>NaN</td>\n      <td>NaN</td>\n      <td>49751.243781</td>\n      <td>0.755084</td>\n    </tr>\n    <tr>\n      <th>7514</th>\n      <td>7514</td>\n      <td>1.0</td>\n      <td>3350000.0</td>\n      <td>75.0</td>\n      <td>12.0</td>\n      <td>41.0</td>\n      <td>5.0</td>\n      <td>3.0</td>\n      <td>1.0</td>\n      <td>NaN</td>\n      <td>...</td>\n      <td>NaN</td>\n      <td>5.0</td>\n      <td>NaN</td>\n      <td>NaN</td>\n      <td>NaN</td>\n      <td>NaN</td>\n      <td>NaN</td>\n      <td>NaN</td>\n      <td>44666.666667</td>\n      <td>0.748937</td>\n    </tr>\n    <tr>\n      <th>7572</th>\n      <td>7572</td>\n      <td>0.0</td>\n      <td>1000000.0</td>\n      <td>21.0</td>\n      <td>4.0</td>\n      <td>14.0</td>\n      <td>1.0</td>\n      <td>1.0</td>\n      <td>NaN</td>\n      <td>NaN</td>\n      <td>...</td>\n      <td>2.0</td>\n      <td>4.0</td>\n      <td>1.0</td>\n      <td>0.0</td>\n      <td>0.0</td>\n      <td>1.0</td>\n      <td>NaN</td>\n      <td>0.0</td>\n      <td>47619.047619</td>\n      <td>0.254783</td>\n    </tr>\n    <tr>\n      <th>11167</th>\n      <td>11167</td>\n      <td>1.0</td>\n      <td>13750000.0</td>\n      <td>271.0</td>\n      <td>25.0</td>\n      <td>150.0</td>\n      <td>4.0</td>\n      <td>6.0</td>\n      <td>1.0</td>\n      <td>NaN</td>\n      <td>...</td>\n      <td>4.0</td>\n      <td>5.0</td>\n      <td>1.0</td>\n      <td>0.0</td>\n      <td>0.0</td>\n      <td>NaN</td>\n      <td>NaN</td>\n      <td>0.0</td>\n      <td>50738.007380</td>\n      <td>0.131647</td>\n    </tr>\n    <tr>\n      <th>13201</th>\n      <td>13201</td>\n      <td>1.0</td>\n      <td>2900000.0</td>\n      <td>60.0</td>\n      <td>NaN</td>\n      <td>60.0</td>\n      <td>1.0</td>\n      <td>1.0</td>\n      <td>NaN</td>\n      <td>NaN</td>\n      <td>...</td>\n      <td>2.0</td>\n      <td>3.0</td>\n      <td>1.0</td>\n      <td>0.0</td>\n      <td>0.0</td>\n      <td>1.0</td>\n      <td>0.0</td>\n      <td>1.0</td>\n      <td>48333.333333</td>\n      <td>0.238612</td>\n    </tr>\n    <tr>\n      <th>13206</th>\n      <td>13206</td>\n      <td>0.0</td>\n      <td>1150000.0</td>\n      <td>29.0</td>\n      <td>6.0</td>\n      <td>18.0</td>\n      <td>1.0</td>\n      <td>1.0</td>\n      <td>NaN</td>\n      <td>NaN</td>\n      <td>...</td>\n      <td>NaN</td>\n      <td>2.0</td>\n      <td>NaN</td>\n      <td>NaN</td>\n      <td>NaN</td>\n      <td>NaN</td>\n      <td>NaN</td>\n      <td>NaN</td>\n      <td>39655.172414</td>\n      <td>0.418337</td>\n    </tr>\n    <tr>\n      <th>13207</th>\n      <td>13207</td>\n      <td>0.0</td>\n      <td>1400000.0</td>\n      <td>37.0</td>\n      <td>6.0</td>\n      <td>NaN</td>\n      <td>2.0</td>\n      <td>2.0</td>\n      <td>NaN</td>\n      <td>NaN</td>\n      <td>...</td>\n      <td>NaN</td>\n      <td>2.0</td>\n      <td>NaN</td>\n      <td>NaN</td>\n      <td>NaN</td>\n      <td>NaN</td>\n      <td>NaN</td>\n      <td>NaN</td>\n      <td>37837.837838</td>\n      <td>0.418337</td>\n    </tr>\n    <tr>\n      <th>13642</th>\n      <td>13642</td>\n      <td>1.0</td>\n      <td>4200000.0</td>\n      <td>105.6</td>\n      <td>20.0</td>\n      <td>30.0</td>\n      <td>5.0</td>\n      <td>1.0</td>\n      <td>NaN</td>\n      <td>NaN</td>\n      <td>...</td>\n      <td>0.0</td>\n      <td>5.0</td>\n      <td>0.0</td>\n      <td>1.0</td>\n      <td>0.0</td>\n      <td>NaN</td>\n      <td>NaN</td>\n      <td>NaN</td>\n      <td>39772.727273</td>\n      <td>0.477017</td>\n    </tr>\n    <tr>\n      <th>13724</th>\n      <td>13724</td>\n      <td>NaN</td>\n      <td>2950000.0</td>\n      <td>61.0</td>\n      <td>8.0</td>\n      <td>34.0</td>\n      <td>4.0</td>\n      <td>2.0</td>\n      <td>1.0</td>\n      <td>3.0</td>\n      <td>...</td>\n      <td>NaN</td>\n      <td>4.0</td>\n      <td>1.0</td>\n      <td>0.0</td>\n      <td>0.0</td>\n      <td>1.0</td>\n      <td>NaN</td>\n      <td>NaN</td>\n      <td>48360.655738</td>\n      <td>0.755084</td>\n    </tr>\n    <tr>\n      <th>13725</th>\n      <td>13725</td>\n      <td>NaN</td>\n      <td>2500000.0</td>\n      <td>101.9</td>\n      <td>NaN</td>\n      <td>55.0</td>\n      <td>1.0</td>\n      <td>1.0</td>\n      <td>NaN</td>\n      <td>3.5</td>\n      <td>...</td>\n      <td>2.0</td>\n      <td>5.0</td>\n      <td>0.0</td>\n      <td>1.0</td>\n      <td>1.0</td>\n      <td>1.0</td>\n      <td>0.0</td>\n      <td>NaN</td>\n      <td>24533.856722</td>\n      <td>0.495102</td>\n    </tr>\n    <tr>\n      <th>16636</th>\n      <td>16636</td>\n      <td>2.0</td>\n      <td>5500000.0</td>\n      <td>153.5</td>\n      <td>18.1</td>\n      <td>61.1</td>\n      <td>1.0</td>\n      <td>3.0</td>\n      <td>1.0</td>\n      <td>NaN</td>\n      <td>...</td>\n      <td>4.0</td>\n      <td>4.0</td>\n      <td>1.0</td>\n      <td>0.0</td>\n      <td>0.0</td>\n      <td>NaN</td>\n      <td>0.0</td>\n      <td>0.0</td>\n      <td>35830.618893</td>\n      <td>0.128923</td>\n    </tr>\n    <tr>\n      <th>20314</th>\n      <td>20314</td>\n      <td>1.0</td>\n      <td>2900000.0</td>\n      <td>60.0</td>\n      <td>NaN</td>\n      <td>60.0</td>\n      <td>1.0</td>\n      <td>1.0</td>\n      <td>NaN</td>\n      <td>NaN</td>\n      <td>...</td>\n      <td>2.0</td>\n      <td>3.0</td>\n      <td>1.0</td>\n      <td>0.0</td>\n      <td>0.0</td>\n      <td>1.0</td>\n      <td>0.0</td>\n      <td>1.0</td>\n      <td>48333.333333</td>\n      <td>0.238612</td>\n    </tr>\n    <tr>\n      <th>20317</th>\n      <td>20317</td>\n      <td>2.0</td>\n      <td>3900000.0</td>\n      <td>99.3</td>\n      <td>20.0</td>\n      <td>65.0</td>\n      <td>3.0</td>\n      <td>3.0</td>\n      <td>1.0</td>\n      <td>3.2</td>\n      <td>...</td>\n      <td>2.0</td>\n      <td>5.0</td>\n      <td>0.0</td>\n      <td>1.0</td>\n      <td>1.0</td>\n      <td>1.0</td>\n      <td>NaN</td>\n      <td>NaN</td>\n      <td>39274.924471</td>\n      <td>0.496417</td>\n    </tr>\n    <tr>\n      <th>20329</th>\n      <td>20329</td>\n      <td>NaN</td>\n      <td>1200000.0</td>\n      <td>32.0</td>\n      <td>NaN</td>\n      <td>NaN</td>\n      <td>1.0</td>\n      <td>1.0</td>\n      <td>NaN</td>\n      <td>NaN</td>\n      <td>...</td>\n      <td>2.0</td>\n      <td>3.0</td>\n      <td>1.0</td>\n      <td>0.0</td>\n      <td>0.0</td>\n      <td>NaN</td>\n      <td>0.0</td>\n      <td>3.0</td>\n      <td>37500.000000</td>\n      <td>0.238880</td>\n    </tr>\n    <tr>\n      <th>20333</th>\n      <td>20333</td>\n      <td>NaN</td>\n      <td>8300000.0</td>\n      <td>165.0</td>\n      <td>NaN</td>\n      <td>NaN</td>\n      <td>4.0</td>\n      <td>4.0</td>\n      <td>NaN</td>\n      <td>NaN</td>\n      <td>...</td>\n      <td>NaN</td>\n      <td>5.0</td>\n      <td>NaN</td>\n      <td>NaN</td>\n      <td>NaN</td>\n      <td>NaN</td>\n      <td>NaN</td>\n      <td>NaN</td>\n      <td>50303.030303</td>\n      <td>0.496356</td>\n    </tr>\n    <tr>\n      <th>21393</th>\n      <td>21393</td>\n      <td>1.0</td>\n      <td>3000000.0</td>\n      <td>61.0</td>\n      <td>9.0</td>\n      <td>34.0</td>\n      <td>4.0</td>\n      <td>2.0</td>\n      <td>NaN</td>\n      <td>NaN</td>\n      <td>...</td>\n      <td>NaN</td>\n      <td>4.0</td>\n      <td>1.0</td>\n      <td>0.0</td>\n      <td>0.0</td>\n      <td>1.0</td>\n      <td>NaN</td>\n      <td>NaN</td>\n      <td>49180.327869</td>\n      <td>0.755084</td>\n    </tr>\n    <tr>\n      <th>21407</th>\n      <td>21407</td>\n      <td>0.0</td>\n      <td>5350000.0</td>\n      <td>124.0</td>\n      <td>15.0</td>\n      <td>65.0</td>\n      <td>2.0</td>\n      <td>3.0</td>\n      <td>1.0</td>\n      <td>3.0</td>\n      <td>...</td>\n      <td>NaN</td>\n      <td>3.0</td>\n      <td>1.0</td>\n      <td>0.0</td>\n      <td>0.0</td>\n      <td>1.0</td>\n      <td>NaN</td>\n      <td>NaN</td>\n      <td>43145.161290</td>\n      <td>0.130064</td>\n    </tr>\n    <tr>\n      <th>22401</th>\n      <td>22401</td>\n      <td>1.0</td>\n      <td>2500000.0</td>\n      <td>50.0</td>\n      <td>NaN</td>\n      <td>38.0</td>\n      <td>4.0</td>\n      <td>1.0</td>\n      <td>NaN</td>\n      <td>NaN</td>\n      <td>...</td>\n      <td>2.0</td>\n      <td>4.0</td>\n      <td>1.0</td>\n      <td>1.0</td>\n      <td>0.0</td>\n      <td>1.0</td>\n      <td>1.0</td>\n      <td>0.0</td>\n      <td>50000.000000</td>\n      <td>0.238880</td>\n    </tr>\n    <tr>\n      <th>23222</th>\n      <td>23222</td>\n      <td>NaN</td>\n      <td>2800000.0</td>\n      <td>89.4</td>\n      <td>NaN</td>\n      <td>NaN</td>\n      <td>4.0</td>\n      <td>3.0</td>\n      <td>NaN</td>\n      <td>NaN</td>\n      <td>...</td>\n      <td>2.0</td>\n      <td>5.0</td>\n      <td>0.0</td>\n      <td>1.0</td>\n      <td>1.0</td>\n      <td>1.0</td>\n      <td>NaN</td>\n      <td>NaN</td>\n      <td>31319.910515</td>\n      <td>0.496417</td>\n    </tr>\n  </tbody>\n</table>\n<p>24 rows × 34 columns</p>\n</div>"
     },
     "metadata": {}
    }
   ],
   "execution_count": null
  },
  {
   "cell_type": "code",
   "metadata": {
    "tags": [],
    "cell_id": "00009-fa7a2bb2-4d77-45d8-ab33-b506218cb8c7",
    "deepnote_to_be_reexecuted": false,
    "source_hash": "44a2eb40",
    "execution_start": 1637349934090,
    "execution_millis": 3,
    "deepnote_cell_type": "code"
   },
   "source": "a = list(df[df2['price/area'] > maxtreshold].id.values)\nb = list(df[df2['price/area'] < mintreshold].id.values)\nc = a + b",
   "outputs": [],
   "execution_count": null
  },
  {
   "cell_type": "code",
   "metadata": {
    "tags": [],
    "deepnote_to_be_reexecuted": false,
    "source_hash": "eec5f2e7",
    "execution_start": 1637349937039,
    "execution_millis": 14,
    "cell_id": "00009-d5e09ce7-9596-422b-a4d6-61d1492e6074",
    "deepnote_output_heights": [
     21
    ],
    "deepnote_cell_type": "code"
   },
   "source": "a = df.shape\ndf.drop(c, axis=0, inplace=True)\nb = df.shape\na,b",
   "outputs": [
    {
     "output_type": "execute_result",
     "execution_count": 13,
     "data": {
      "text/plain": "((23285, 34), (23237, 34))"
     },
     "metadata": {}
    }
   ],
   "execution_count": null
  },
  {
   "cell_type": "code",
   "metadata": {
    "tags": [],
    "cell_id": "00011-e662c68a-f148-405f-be0a-69ef5b140745",
    "deepnote_to_be_reexecuted": false,
    "source_hash": "de1e323c",
    "execution_start": 1637349941644,
    "execution_millis": 20,
    "deepnote_cell_type": "code"
   },
   "source": "df.info()",
   "outputs": [
    {
     "name": "stdout",
     "text": "<class 'pandas.core.frame.DataFrame'>\nInt64Index: 23237 entries, 0 to 23284\nData columns (total 34 columns):\n #   Column              Non-Null Count  Dtype  \n---  ------              --------------  -----  \n 0   id                  23237 non-null  int64  \n 1   seller              14435 non-null  float64\n 2   price               23237 non-null  float64\n 3   area_total          23237 non-null  float64\n 4   area_kitchen        18538 non-null  float64\n 5   area_living         19372 non-null  float64\n 6   floor               23237 non-null  float64\n 7   rooms               23237 non-null  float64\n 8   layout              5626 non-null   float64\n 9   ceiling             12181 non-null  float64\n 10  bathrooms_shared    19378 non-null  float64\n 11  bathrooms_private   19378 non-null  float64\n 12  windows_court       15188 non-null  float64\n 13  windows_street      15188 non-null  float64\n 14  balconies           12745 non-null  float64\n 15  loggias             12745 non-null  float64\n 16  condition           13440 non-null  float64\n 17  phones              23158 non-null  float64\n 18  building_id         23237 non-null  int64  \n 19  new                 22974 non-null  float64\n 20  district            23107 non-null  float64\n 21  street              23237 non-null  object \n 22  address             23237 non-null  object \n 23  constructed         22449 non-null  float64\n 24  material            19278 non-null  float64\n 25  stories             23237 non-null  float64\n 26  elevator_without    22887 non-null  float64\n 27  elevator_passenger  22887 non-null  float64\n 28  elevator_service    22887 non-null  float64\n 29  parking             16464 non-null  float64\n 30  garbage_chute       14450 non-null  float64\n 31  heating             15102 non-null  float64\n 32  price/area          23237 non-null  float64\n 33  distance            23237 non-null  float64\ndtypes: float64(30), int64(2), object(2)\nmemory usage: 6.2+ MB\n",
     "output_type": "stream"
    }
   ],
   "execution_count": null
  },
  {
   "cell_type": "code",
   "metadata": {
    "tags": [],
    "cell_id": "00012-9fe220db-49f8-4f24-b6c6-5ad2b7e4c3ef",
    "deepnote_to_be_reexecuted": false,
    "source_hash": "4633ff2e",
    "execution_start": 1637349955240,
    "execution_millis": 8,
    "deepnote_output_heights": [
     21
    ],
    "deepnote_cell_type": "code"
   },
   "source": "df['street'].isnull().sum()",
   "outputs": [
    {
     "output_type": "execute_result",
     "execution_count": 15,
     "data": {
      "text/plain": "0"
     },
     "metadata": {}
    }
   ],
   "execution_count": null
  },
  {
   "cell_type": "code",
   "metadata": {
    "tags": [],
    "deepnote_to_be_reexecuted": false,
    "source_hash": "a16d1239",
    "execution_start": 1637349959536,
    "execution_millis": 10,
    "cell_id": "00010-dd5f820c-7ed3-4d7a-ad43-20ba9e0861d0",
    "deepnote_output_heights": [
     154
    ],
    "deepnote_cell_type": "code"
   },
   "source": "df0 = df.drop(['street', 'address'], axis=1)\ndf0_test = df_test.drop(['street', 'address'], axis=1)\n\ndf0.columns",
   "outputs": [
    {
     "output_type": "execute_result",
     "execution_count": 16,
     "data": {
      "text/plain": "Index(['id', 'seller', 'price', 'area_total', 'area_kitchen', 'area_living',\n       'floor', 'rooms', 'layout', 'ceiling', 'bathrooms_shared',\n       'bathrooms_private', 'windows_court', 'windows_street', 'balconies',\n       'loggias', 'condition', 'phones', 'building_id', 'new', 'district',\n       'constructed', 'material', 'stories', 'elevator_without',\n       'elevator_passenger', 'elevator_service', 'parking', 'garbage_chute',\n       'heating', 'price/area', 'distance'],\n      dtype='object')"
     },
     "metadata": {}
    }
   ],
   "execution_count": null
  },
  {
   "cell_type": "code",
   "metadata": {
    "tags": [],
    "deepnote_to_be_reexecuted": false,
    "source_hash": "25f3507d",
    "execution_start": 1637349964183,
    "execution_millis": 107299,
    "deepnote_output_heights": [
     606.625
    ],
    "cell_id": "00011-054a294f-d5df-40f5-8fc0-6840e258b6f1",
    "deepnote_cell_type": "code"
   },
   "source": "import sys\n# 'seller', 'layout', 'ceiling', 'balconies', 'loggias', 'condition', 'garbage_chute', 'heating'\n\n#sys.setrecursionlimit(100000) #Increase the recursion limit of the OS\n\n# start the KNN training\nimputer = KNNImputer()\nimputer.fit(df0)\ndftrans = imputer.transform(df0)\n\nimputer.fit(df0_test)\ndftrans_test = imputer.transform(df0_test)\n",
   "outputs": [],
   "execution_count": null
  },
  {
   "cell_type": "code",
   "metadata": {
    "tags": [],
    "deepnote_to_be_reexecuted": false,
    "source_hash": "d9069334",
    "execution_start": 1637350123899,
    "execution_millis": 10,
    "cell_id": "00012-7daa93e0-271e-4ae3-850e-0277c5e52627",
    "deepnote_output_heights": [
     21
    ],
    "deepnote_cell_type": "code"
   },
   "source": "\"\"\"\ndf = df.drop(['seller', 'layout', 'ceiling', 'balconies', 'loggias', 'condition', 'garbage_chute', 'heating'], axis=1)\n\ndf.area_kitchen.fillna(df.area_total *0.20382557322076747, inplace=True)\ndf.area_living.fillna(df.area_total *0.5489437954371277, inplace=True)\ndf.bathrooms_shared.fillna(df.bathrooms_shared.mode()[0], inplace = True)\ndf.bathrooms_private.fillna(df.bathrooms_private.mode()[0], inplace = True)\ndf.windows_court.fillna(df.windows_court.mode()[0], inplace = True)\ndf.windows_street.fillna(df.windows_street.mode()[0], inplace = True)\ndf.phones.fillna(df.phones.mode()[0], inplace=True)\ndf.new.fillna(df.new.mode()[0], inplace = True)\ndf.latitude.fillna(df.latitude.mean(), inplace = True)\ndf.longitude.fillna(df.longitude.mean(), inplace = True)\ndf.district.fillna(df.district.mode()[0], inplace = True)\ndf.constructed.fillna(df.constructed.mode()[0], inplace = True)\ndf.material.fillna(df.material.mode()[0], inplace = True)\ndf.elevator_without.fillna(df.elevator_without.mode()[0], inplace = True)\ndf.elevator_passenger.fillna(df.elevator_passenger.mode()[0], inplace = True)\ndf.elevator_service.fillna(df.elevator_service.mode()[0], inplace = True)\ndf.parking.fillna(df.parking.mode()[0], inplace = True)\ndf.shape\ndf.isnull().sum()\n\"\"\"",
   "outputs": [
    {
     "output_type": "execute_result",
     "execution_count": 18,
     "data": {
      "text/plain": "\"\\ndf = df.drop(['seller', 'layout', 'ceiling', 'balconies', 'loggias', 'condition', 'garbage_chute', 'heating'], axis=1)\\n\\ndf.area_kitchen.fillna(df.area_total *0.20382557322076747, inplace=True)\\ndf.area_living.fillna(df.area_total *0.5489437954371277, inplace=True)\\ndf.bathrooms_shared.fillna(df.bathrooms_shared.mode()[0], inplace = True)\\ndf.bathrooms_private.fillna(df.bathrooms_private.mode()[0], inplace = True)\\ndf.windows_court.fillna(df.windows_court.mode()[0], inplace = True)\\ndf.windows_street.fillna(df.windows_street.mode()[0], inplace = True)\\ndf.phones.fillna(df.phones.mode()[0], inplace=True)\\ndf.new.fillna(df.new.mode()[0], inplace = True)\\ndf.latitude.fillna(df.latitude.mean(), inplace = True)\\ndf.longitude.fillna(df.longitude.mean(), inplace = True)\\ndf.district.fillna(df.district.mode()[0], inplace = True)\\ndf.constructed.fillna(df.constructed.mode()[0], inplace = True)\\ndf.material.fillna(df.material.mode()[0], inplace = True)\\ndf.elevator_without.fillna(df.elevator_without.mode()[0], inplace = True)\\ndf.elevator_passenger.fillna(df.elevator_passenger.mode()[0], inplace = True)\\ndf.elevator_service.fillna(df.elevator_service.mode()[0], inplace = True)\\ndf.parking.fillna(df.parking.mode()[0], inplace = True)\\ndf.shape\\ndf.isnull().sum()\\n\""
     },
     "metadata": {}
    }
   ],
   "execution_count": null
  },
  {
   "cell_type": "code",
   "metadata": {
    "tags": [],
    "deepnote_to_be_reexecuted": false,
    "source_hash": "71f4c532",
    "execution_start": 1637350126626,
    "execution_millis": 3,
    "cell_id": "00013-4a273d42-15c4-4925-9441-2784a757e85d",
    "deepnote_output_heights": [
     21
    ],
    "deepnote_cell_type": "code"
   },
   "source": "\"\"\"df.elevator_without = df.elevator_without.astype(int)\ndf.floor = df.floor.astype(int)\ndf.rooms = df.rooms.astype(int)\ndf.bathrooms_shared = df.bathrooms_shared.astype(int)\ndf.bathrooms_private = df.bathrooms_private.astype(int)\ndf.windows_court = df.windows_court.astype(int)\ndf.windows_street = df.windows_street.astype(int)\ndf.phones = df.phones.astype(int)\ndf.new = df.new.astype(int)\ndf.district = df.district.astype(int)\ndf.constructed = df.constructed.astype(int)\ndf.material = df.material.astype(int)\ndf.stories = df.stories.astype(int)\ndf.elevator_without = df.elevator_without.astype(int)\ndf.elevator_passenger = df.elevator_passenger.astype(int)\ndf.elevator_service = df.elevator_service.astype(int)\ndf.parking = df.parking.astype(int)\n\"\"\"",
   "outputs": [
    {
     "output_type": "execute_result",
     "execution_count": 19,
     "data": {
      "text/plain": "'df.elevator_without = df.elevator_without.astype(int)\\ndf.floor = df.floor.astype(int)\\ndf.rooms = df.rooms.astype(int)\\ndf.bathrooms_shared = df.bathrooms_shared.astype(int)\\ndf.bathrooms_private = df.bathrooms_private.astype(int)\\ndf.windows_court = df.windows_court.astype(int)\\ndf.windows_street = df.windows_street.astype(int)\\ndf.phones = df.phones.astype(int)\\ndf.new = df.new.astype(int)\\ndf.district = df.district.astype(int)\\ndf.constructed = df.constructed.astype(int)\\ndf.material = df.material.astype(int)\\ndf.stories = df.stories.astype(int)\\ndf.elevator_without = df.elevator_without.astype(int)\\ndf.elevator_passenger = df.elevator_passenger.astype(int)\\ndf.elevator_service = df.elevator_service.astype(int)\\ndf.parking = df.parking.astype(int)\\n'"
     },
     "metadata": {}
    }
   ],
   "execution_count": null
  },
  {
   "cell_type": "code",
   "metadata": {
    "tags": [],
    "deepnote_to_be_reexecuted": false,
    "source_hash": "17bd1d69",
    "execution_start": 1637350132066,
    "execution_millis": 11,
    "cell_id": "00014-6ff3302b-b646-4515-a0a6-af70fe89d19b",
    "deepnote_output_heights": [
     21
    ],
    "deepnote_cell_type": "code"
   },
   "source": "df1 = pd.DataFrame(dftrans, columns=list(df0.columns.values))\ndf1_test = pd.DataFrame(dftrans_test, columns=list(df0_test.columns.values))\ndf1.isnull().sum()\ndf1.shape\nlen(df.street)",
   "outputs": [
    {
     "output_type": "execute_result",
     "execution_count": 20,
     "data": {
      "text/plain": "23237"
     },
     "metadata": {}
    }
   ],
   "execution_count": null
  },
  {
   "cell_type": "code",
   "metadata": {
    "tags": [],
    "deepnote_to_be_reexecuted": false,
    "source_hash": "fde72d5b",
    "execution_start": 1637350134807,
    "execution_millis": 157,
    "cell_id": "00015-c60d9689-70a7-4bac-96d7-2b85242d4906",
    "deepnote_output_heights": [
     21
    ],
    "deepnote_cell_type": "code"
   },
   "source": "\"\"\"df1.elevator_without = df1.elevator_without.astype(int)\ndf1.floor = df1.floor.astype(int)\ndf1.rooms = df1.rooms.astype(int)\ndf1.bathrooms_shared = df1.bathrooms_shared.astype(int)\ndf1.bathrooms_private = df1.bathrooms_private.astype(int)\ndf1.windows_court = df1.windows_court.astype(int)\ndf1.windows_street = df1.windows_street.astype(int)\ndf1.phones = df1.phones.astype(int)\ndf1.new = df1.new.astype(int)\ndf1.district = df1.district.astype(int)\ndf1.constructed = df1.constructed.astype(int)\ndf1.material = df1.material.astype(int)\ndf1.stories = df1.stories.astype(int)\ndf1.elevator_without = df1.elevator_without.astype(int)\ndf1.elevator_passenger = df1.elevator_passenger.astype(int)\ndf1.elevator_service = df1.elevator_service.astype(int)\ndf1.parking = df1.parking.astype(int)\ndf1.garbage_chute = df1.garbage_chute.astype(int)\ndf1.heating = df1.heating.astype(int)\ndf1.building_id = df1.building_id.astype(int)\ndf1.condition = df1.condition.astype(int)\ndf1.loggias = df1.loggias.astype(int)\ndf1.balconies = df1.balconies.astype(int)\n#df1.ceiling = df1.ceiling.round(0)\n#df1.ceiling = df1.ceiling.astype(int)\"\"\"\n\n\n",
   "outputs": [
    {
     "output_type": "execute_result",
     "execution_count": 21,
     "data": {
      "text/plain": "'df1.elevator_without = df1.elevator_without.astype(int)\\ndf1.floor = df1.floor.astype(int)\\ndf1.rooms = df1.rooms.astype(int)\\ndf1.bathrooms_shared = df1.bathrooms_shared.astype(int)\\ndf1.bathrooms_private = df1.bathrooms_private.astype(int)\\ndf1.windows_court = df1.windows_court.astype(int)\\ndf1.windows_street = df1.windows_street.astype(int)\\ndf1.phones = df1.phones.astype(int)\\ndf1.new = df1.new.astype(int)\\ndf1.district = df1.district.astype(int)\\ndf1.constructed = df1.constructed.astype(int)\\ndf1.material = df1.material.astype(int)\\ndf1.stories = df1.stories.astype(int)\\ndf1.elevator_without = df1.elevator_without.astype(int)\\ndf1.elevator_passenger = df1.elevator_passenger.astype(int)\\ndf1.elevator_service = df1.elevator_service.astype(int)\\ndf1.parking = df1.parking.astype(int)\\ndf1.garbage_chute = df1.garbage_chute.astype(int)\\ndf1.heating = df1.heating.astype(int)\\ndf1.building_id = df1.building_id.astype(int)\\ndf1.condition = df1.condition.astype(int)\\ndf1.loggias = df1.loggias.astype(int)\\ndf1.balconies = df1.balconies.astype(int)\\n#df1.ceiling = df1.ceiling.round(0)\\n#df1.ceiling = df1.ceiling.astype(int)'"
     },
     "metadata": {}
    }
   ],
   "execution_count": null
  },
  {
   "cell_type": "code",
   "metadata": {
    "tags": [],
    "deepnote_to_be_reexecuted": false,
    "source_hash": "ea6c9ba",
    "execution_start": 1637350141625,
    "execution_millis": 111,
    "cell_id": "00016-6e68423a-002e-4f48-bb83-2fb6433d1e90",
    "deepnote_cell_type": "code"
   },
   "source": "df1.head()",
   "outputs": [
    {
     "output_type": "execute_result",
     "execution_count": 22,
     "data": {
      "application/vnd.deepnote.dataframe.v2+json": {
       "row_count": 5,
       "column_count": 32,
       "columns": [
        {
         "name": "id",
         "dtype": "float64",
         "stats": {
          "unique_count": 5,
          "nan_count": 0,
          "min": "0.0",
          "max": "4.0",
          "histogram": [
           {
            "bin_start": 0,
            "bin_end": 0.4,
            "count": 1
           },
           {
            "bin_start": 0.4,
            "bin_end": 0.8,
            "count": 0
           },
           {
            "bin_start": 0.8,
            "bin_end": 1.2000000000000002,
            "count": 1
           },
           {
            "bin_start": 1.2000000000000002,
            "bin_end": 1.6,
            "count": 0
           },
           {
            "bin_start": 1.6,
            "bin_end": 2,
            "count": 0
           },
           {
            "bin_start": 2,
            "bin_end": 2.4000000000000004,
            "count": 1
           },
           {
            "bin_start": 2.4000000000000004,
            "bin_end": 2.8000000000000003,
            "count": 0
           },
           {
            "bin_start": 2.8000000000000003,
            "bin_end": 3.2,
            "count": 1
           },
           {
            "bin_start": 3.2,
            "bin_end": 3.6,
            "count": 0
           },
           {
            "bin_start": 3.6,
            "bin_end": 4,
            "count": 1
           }
          ]
         }
        },
        {
         "name": "seller",
         "dtype": "float64",
         "stats": {
          "unique_count": 3,
          "nan_count": 0,
          "min": "1.2",
          "max": "3.0",
          "histogram": [
           {
            "bin_start": 1.2,
            "bin_end": 1.38,
            "count": 2
           },
           {
            "bin_start": 1.38,
            "bin_end": 1.56,
            "count": 0
           },
           {
            "bin_start": 1.56,
            "bin_end": 1.74,
            "count": 0
           },
           {
            "bin_start": 1.74,
            "bin_end": 1.92,
            "count": 1
           },
           {
            "bin_start": 1.92,
            "bin_end": 2.0999999999999996,
            "count": 0
           },
           {
            "bin_start": 2.0999999999999996,
            "bin_end": 2.2800000000000002,
            "count": 0
           },
           {
            "bin_start": 2.2800000000000002,
            "bin_end": 2.46,
            "count": 0
           },
           {
            "bin_start": 2.46,
            "bin_end": 2.6399999999999997,
            "count": 0
           },
           {
            "bin_start": 2.6399999999999997,
            "bin_end": 2.82,
            "count": 0
           },
           {
            "bin_start": 2.82,
            "bin_end": 3,
            "count": 2
           }
          ]
         }
        },
        {
         "name": "price",
         "dtype": "float64",
         "stats": {
          "unique_count": 4,
          "nan_count": 0,
          "min": "7139520.0",
          "max": "13900000.0",
          "histogram": [
           {
            "bin_start": 7139520,
            "bin_end": 7815568,
            "count": 1
           },
           {
            "bin_start": 7815568,
            "bin_end": 8491616,
            "count": 0
           },
           {
            "bin_start": 8491616,
            "bin_end": 9167664,
            "count": 1
           },
           {
            "bin_start": 9167664,
            "bin_end": 9843712,
            "count": 0
           },
           {
            "bin_start": 9843712,
            "bin_end": 10519760,
            "count": 2
           },
           {
            "bin_start": 10519760,
            "bin_end": 11195808,
            "count": 0
           },
           {
            "bin_start": 11195808,
            "bin_end": 11871856,
            "count": 0
           },
           {
            "bin_start": 11871856,
            "bin_end": 12547904,
            "count": 0
           },
           {
            "bin_start": 12547904,
            "bin_end": 13223952,
            "count": 0
           },
           {
            "bin_start": 13223952,
            "bin_end": 13900000,
            "count": 1
           }
          ]
         }
        },
        {
         "name": "area_total",
         "dtype": "float64",
         "stats": {
          "unique_count": 4,
          "nan_count": 0,
          "min": "59.2",
          "max": "88.0",
          "histogram": [
           {
            "bin_start": 59.2,
            "bin_end": 62.080000000000005,
            "count": 1
           },
           {
            "bin_start": 62.080000000000005,
            "bin_end": 64.96000000000001,
            "count": 0
           },
           {
            "bin_start": 64.96000000000001,
            "bin_end": 67.84,
            "count": 0
           },
           {
            "bin_start": 67.84,
            "bin_end": 70.72,
            "count": 0
           },
           {
            "bin_start": 70.72,
            "bin_end": 73.6,
            "count": 0
           },
           {
            "bin_start": 73.6,
            "bin_end": 76.48,
            "count": 0
           },
           {
            "bin_start": 76.48,
            "bin_end": 79.36,
            "count": 2
           },
           {
            "bin_start": 79.36,
            "bin_end": 82.24000000000001,
            "count": 0
           },
           {
            "bin_start": 82.24000000000001,
            "bin_end": 85.12,
            "count": 0
           },
           {
            "bin_start": 85.12,
            "bin_end": 88,
            "count": 2
           }
          ]
         }
        },
        {
         "name": "area_kitchen",
         "dtype": "float64",
         "stats": {
          "unique_count": 5,
          "nan_count": 0,
          "min": "12.5",
          "max": "22.5",
          "histogram": [
           {
            "bin_start": 12.5,
            "bin_end": 13.5,
            "count": 1
           },
           {
            "bin_start": 13.5,
            "bin_end": 14.5,
            "count": 2
           },
           {
            "bin_start": 14.5,
            "bin_end": 15.5,
            "count": 0
           },
           {
            "bin_start": 15.5,
            "bin_end": 16.5,
            "count": 0
           },
           {
            "bin_start": 16.5,
            "bin_end": 17.5,
            "count": 1
           },
           {
            "bin_start": 17.5,
            "bin_end": 18.5,
            "count": 0
           },
           {
            "bin_start": 18.5,
            "bin_end": 19.5,
            "count": 0
           },
           {
            "bin_start": 19.5,
            "bin_end": 20.5,
            "count": 0
           },
           {
            "bin_start": 20.5,
            "bin_end": 21.5,
            "count": 0
           },
           {
            "bin_start": 21.5,
            "bin_end": 22.5,
            "count": 1
           }
          ]
         }
        },
        {
         "name": "area_living",
         "dtype": "float64",
         "stats": {
          "unique_count": 4,
          "nan_count": 0,
          "min": "31.0",
          "max": "48.0",
          "histogram": [
           {
            "bin_start": 31,
            "bin_end": 32.7,
            "count": 1
           },
           {
            "bin_start": 32.7,
            "bin_end": 34.4,
            "count": 0
           },
           {
            "bin_start": 34.4,
            "bin_end": 36.1,
            "count": 1
           },
           {
            "bin_start": 36.1,
            "bin_end": 37.8,
            "count": 0
           },
           {
            "bin_start": 37.8,
            "bin_end": 39.5,
            "count": 0
           },
           {
            "bin_start": 39.5,
            "bin_end": 41.2,
            "count": 1
           },
           {
            "bin_start": 41.2,
            "bin_end": 42.9,
            "count": 0
           },
           {
            "bin_start": 42.9,
            "bin_end": 44.6,
            "count": 0
           },
           {
            "bin_start": 44.6,
            "bin_end": 46.3,
            "count": 0
           },
           {
            "bin_start": 46.3,
            "bin_end": 48,
            "count": 2
           }
          ]
         }
        },
        {
         "name": "floor",
         "dtype": "float64",
         "stats": {
          "unique_count": 4,
          "nan_count": 0,
          "min": "2.0",
          "max": "18.0",
          "histogram": [
           {
            "bin_start": 2,
            "bin_end": 3.6,
            "count": 1
           },
           {
            "bin_start": 3.6,
            "bin_end": 5.2,
            "count": 0
           },
           {
            "bin_start": 5.2,
            "bin_end": 6.800000000000001,
            "count": 0
           },
           {
            "bin_start": 6.800000000000001,
            "bin_end": 8.4,
            "count": 1
           },
           {
            "bin_start": 8.4,
            "bin_end": 10,
            "count": 0
           },
           {
            "bin_start": 10,
            "bin_end": 11.600000000000001,
            "count": 0
           },
           {
            "bin_start": 11.600000000000001,
            "bin_end": 13.200000000000001,
            "count": 1
           },
           {
            "bin_start": 13.200000000000001,
            "bin_end": 14.8,
            "count": 0
           },
           {
            "bin_start": 14.8,
            "bin_end": 16.4,
            "count": 0
           },
           {
            "bin_start": 16.4,
            "bin_end": 18,
            "count": 2
           }
          ]
         }
        },
        {
         "name": "rooms",
         "dtype": "float64",
         "stats": {
          "unique_count": 2,
          "nan_count": 0,
          "min": "2.0",
          "max": "3.0",
          "histogram": [
           {
            "bin_start": 2,
            "bin_end": 2.1,
            "count": 2
           },
           {
            "bin_start": 2.1,
            "bin_end": 2.2,
            "count": 0
           },
           {
            "bin_start": 2.2,
            "bin_end": 2.3,
            "count": 0
           },
           {
            "bin_start": 2.3,
            "bin_end": 2.4,
            "count": 0
           },
           {
            "bin_start": 2.4,
            "bin_end": 2.5,
            "count": 0
           },
           {
            "bin_start": 2.5,
            "bin_end": 2.6,
            "count": 0
           },
           {
            "bin_start": 2.6,
            "bin_end": 2.7,
            "count": 0
           },
           {
            "bin_start": 2.7,
            "bin_end": 2.8,
            "count": 0
           },
           {
            "bin_start": 2.8,
            "bin_end": 2.9,
            "count": 0
           },
           {
            "bin_start": 2.9,
            "bin_end": 3,
            "count": 3
           }
          ]
         }
        },
        {
         "name": "layout",
         "dtype": "float64",
         "stats": {
          "unique_count": 2,
          "nan_count": 0,
          "min": "0.8",
          "max": "1.0",
          "histogram": [
           {
            "bin_start": 0.8,
            "bin_end": 0.8200000000000001,
            "count": 1
           },
           {
            "bin_start": 0.8200000000000001,
            "bin_end": 0.8400000000000001,
            "count": 0
           },
           {
            "bin_start": 0.8400000000000001,
            "bin_end": 0.86,
            "count": 0
           },
           {
            "bin_start": 0.86,
            "bin_end": 0.88,
            "count": 0
           },
           {
            "bin_start": 0.88,
            "bin_end": 0.9,
            "count": 0
           },
           {
            "bin_start": 0.9,
            "bin_end": 0.92,
            "count": 0
           },
           {
            "bin_start": 0.92,
            "bin_end": 0.9400000000000001,
            "count": 0
           },
           {
            "bin_start": 0.9400000000000001,
            "bin_end": 0.96,
            "count": 0
           },
           {
            "bin_start": 0.96,
            "bin_end": 0.98,
            "count": 0
           },
           {
            "bin_start": 0.98,
            "bin_end": 1,
            "count": 4
           }
          ]
         }
        },
        {
         "name": "ceiling",
         "dtype": "float64",
         "stats": {
          "unique_count": 3,
          "nan_count": 0,
          "min": "2.65",
          "max": "2.9",
          "histogram": [
           {
            "bin_start": 2.65,
            "bin_end": 2.675,
            "count": 4
           },
           {
            "bin_start": 2.675,
            "bin_end": 2.6999999999999997,
            "count": 0
           },
           {
            "bin_start": 2.6999999999999997,
            "bin_end": 2.725,
            "count": 0
           },
           {
            "bin_start": 2.725,
            "bin_end": 2.75,
            "count": 0
           },
           {
            "bin_start": 2.75,
            "bin_end": 2.775,
            "count": 0
           },
           {
            "bin_start": 2.775,
            "bin_end": 2.8,
            "count": 0
           },
           {
            "bin_start": 2.8,
            "bin_end": 2.8249999999999997,
            "count": 0
           },
           {
            "bin_start": 2.8249999999999997,
            "bin_end": 2.85,
            "count": 0
           },
           {
            "bin_start": 2.85,
            "bin_end": 2.875,
            "count": 0
           },
           {
            "bin_start": 2.875,
            "bin_end": 2.9,
            "count": 1
           }
          ]
         }
        },
        {
         "name": "bathrooms_shared",
         "dtype": "float64",
         "stats": {
          "unique_count": 3,
          "nan_count": 0,
          "min": "0.0",
          "max": "2.0",
          "histogram": [
           {
            "bin_start": 0,
            "bin_end": 0.2,
            "count": 3
           },
           {
            "bin_start": 0.2,
            "bin_end": 0.4,
            "count": 0
           },
           {
            "bin_start": 0.4,
            "bin_end": 0.6000000000000001,
            "count": 0
           },
           {
            "bin_start": 0.6000000000000001,
            "bin_end": 0.8,
            "count": 0
           },
           {
            "bin_start": 0.8,
            "bin_end": 1,
            "count": 0
           },
           {
            "bin_start": 1,
            "bin_end": 1.2000000000000002,
            "count": 1
           },
           {
            "bin_start": 1.2000000000000002,
            "bin_end": 1.4000000000000001,
            "count": 0
           },
           {
            "bin_start": 1.4000000000000001,
            "bin_end": 1.6,
            "count": 0
           },
           {
            "bin_start": 1.6,
            "bin_end": 1.8,
            "count": 0
           },
           {
            "bin_start": 1.8,
            "bin_end": 2,
            "count": 1
           }
          ]
         }
        },
        {
         "name": "bathrooms_private",
         "dtype": "float64",
         "stats": {
          "unique_count": 2,
          "nan_count": 0,
          "min": "0.0",
          "max": "2.0",
          "histogram": [
           {
            "bin_start": 0,
            "bin_end": 0.2,
            "count": 2
           },
           {
            "bin_start": 0.2,
            "bin_end": 0.4,
            "count": 0
           },
           {
            "bin_start": 0.4,
            "bin_end": 0.6000000000000001,
            "count": 0
           },
           {
            "bin_start": 0.6000000000000001,
            "bin_end": 0.8,
            "count": 0
           },
           {
            "bin_start": 0.8,
            "bin_end": 1,
            "count": 0
           },
           {
            "bin_start": 1,
            "bin_end": 1.2000000000000002,
            "count": 0
           },
           {
            "bin_start": 1.2000000000000002,
            "bin_end": 1.4000000000000001,
            "count": 0
           },
           {
            "bin_start": 1.4000000000000001,
            "bin_end": 1.6,
            "count": 0
           },
           {
            "bin_start": 1.6,
            "bin_end": 1.8,
            "count": 0
           },
           {
            "bin_start": 1.8,
            "bin_end": 2,
            "count": 3
           }
          ]
         }
        },
        {
         "name": "windows_court",
         "dtype": "float64",
         "stats": {
          "unique_count": 2,
          "nan_count": 0,
          "min": "0.0",
          "max": "1.0",
          "histogram": [
           {
            "bin_start": 0,
            "bin_end": 0.1,
            "count": 1
           },
           {
            "bin_start": 0.1,
            "bin_end": 0.2,
            "count": 0
           },
           {
            "bin_start": 0.2,
            "bin_end": 0.30000000000000004,
            "count": 0
           },
           {
            "bin_start": 0.30000000000000004,
            "bin_end": 0.4,
            "count": 0
           },
           {
            "bin_start": 0.4,
            "bin_end": 0.5,
            "count": 0
           },
           {
            "bin_start": 0.5,
            "bin_end": 0.6000000000000001,
            "count": 0
           },
           {
            "bin_start": 0.6000000000000001,
            "bin_end": 0.7000000000000001,
            "count": 0
           },
           {
            "bin_start": 0.7000000000000001,
            "bin_end": 0.8,
            "count": 0
           },
           {
            "bin_start": 0.8,
            "bin_end": 0.9,
            "count": 0
           },
           {
            "bin_start": 0.9,
            "bin_end": 1,
            "count": 4
           }
          ]
         }
        },
        {
         "name": "windows_street",
         "dtype": "float64",
         "stats": {
          "unique_count": 1,
          "nan_count": 0,
          "min": "1.0",
          "max": "1.0",
          "histogram": [
           {
            "bin_start": 0.5,
            "bin_end": 0.6,
            "count": 0
           },
           {
            "bin_start": 0.6,
            "bin_end": 0.7,
            "count": 0
           },
           {
            "bin_start": 0.7,
            "bin_end": 0.8,
            "count": 0
           },
           {
            "bin_start": 0.8,
            "bin_end": 0.9,
            "count": 0
           },
           {
            "bin_start": 0.9,
            "bin_end": 1,
            "count": 0
           },
           {
            "bin_start": 1,
            "bin_end": 1.1,
            "count": 5
           },
           {
            "bin_start": 1.1,
            "bin_end": 1.2000000000000002,
            "count": 0
           },
           {
            "bin_start": 1.2000000000000002,
            "bin_end": 1.3,
            "count": 0
           },
           {
            "bin_start": 1.3,
            "bin_end": 1.4,
            "count": 0
           },
           {
            "bin_start": 1.4,
            "bin_end": 1.5,
            "count": 0
           }
          ]
         }
        },
        {
         "name": "balconies",
         "dtype": "float64",
         "stats": {
          "unique_count": 3,
          "nan_count": 0,
          "min": "0.0",
          "max": "1.0",
          "histogram": [
           {
            "bin_start": 0,
            "bin_end": 0.1,
            "count": 2
           },
           {
            "bin_start": 0.1,
            "bin_end": 0.2,
            "count": 0
           },
           {
            "bin_start": 0.2,
            "bin_end": 0.30000000000000004,
            "count": 0
           },
           {
            "bin_start": 0.30000000000000004,
            "bin_end": 0.4,
            "count": 0
           },
           {
            "bin_start": 0.4,
            "bin_end": 0.5,
            "count": 0
           },
           {
            "bin_start": 0.5,
            "bin_end": 0.6000000000000001,
            "count": 2
           },
           {
            "bin_start": 0.6000000000000001,
            "bin_end": 0.7000000000000001,
            "count": 0
           },
           {
            "bin_start": 0.7000000000000001,
            "bin_end": 0.8,
            "count": 0
           },
           {
            "bin_start": 0.8,
            "bin_end": 0.9,
            "count": 0
           },
           {
            "bin_start": 0.9,
            "bin_end": 1,
            "count": 1
           }
          ]
         }
        },
        {
         "name": "loggias",
         "dtype": "float64",
         "stats": {
          "unique_count": 4,
          "nan_count": 0,
          "min": "0.0",
          "max": "1.0",
          "histogram": [
           {
            "bin_start": 0,
            "bin_end": 0.1,
            "count": 1
           },
           {
            "bin_start": 0.1,
            "bin_end": 0.2,
            "count": 0
           },
           {
            "bin_start": 0.2,
            "bin_end": 0.30000000000000004,
            "count": 0
           },
           {
            "bin_start": 0.30000000000000004,
            "bin_end": 0.4,
            "count": 0
           },
           {
            "bin_start": 0.4,
            "bin_end": 0.5,
            "count": 1
           },
           {
            "bin_start": 0.5,
            "bin_end": 0.6000000000000001,
            "count": 0
           },
           {
            "bin_start": 0.6000000000000001,
            "bin_end": 0.7000000000000001,
            "count": 0
           },
           {
            "bin_start": 0.7000000000000001,
            "bin_end": 0.8,
            "count": 0
           },
           {
            "bin_start": 0.8,
            "bin_end": 0.9,
            "count": 1
           },
           {
            "bin_start": 0.9,
            "bin_end": 1,
            "count": 2
           }
          ]
         }
        },
        {
         "name": "condition",
         "dtype": "float64",
         "stats": {
          "unique_count": 3,
          "nan_count": 0,
          "min": "0.8",
          "max": "3.0",
          "histogram": [
           {
            "bin_start": 0.8,
            "bin_end": 1.02,
            "count": 2
           },
           {
            "bin_start": 1.02,
            "bin_end": 1.2400000000000002,
            "count": 0
           },
           {
            "bin_start": 1.2400000000000002,
            "bin_end": 1.4600000000000002,
            "count": 0
           },
           {
            "bin_start": 1.4600000000000002,
            "bin_end": 1.6800000000000002,
            "count": 0
           },
           {
            "bin_start": 1.6800000000000002,
            "bin_end": 1.9000000000000001,
            "count": 0
           },
           {
            "bin_start": 1.9000000000000001,
            "bin_end": 2.12,
            "count": 1
           },
           {
            "bin_start": 2.12,
            "bin_end": 2.3400000000000003,
            "count": 0
           },
           {
            "bin_start": 2.3400000000000003,
            "bin_end": 2.5600000000000005,
            "count": 0
           },
           {
            "bin_start": 2.5600000000000005,
            "bin_end": 2.7800000000000002,
            "count": 0
           },
           {
            "bin_start": 2.7800000000000002,
            "bin_end": 3,
            "count": 2
           }
          ]
         }
        },
        {
         "name": "phones",
         "dtype": "float64",
         "stats": {
          "unique_count": 1,
          "nan_count": 0,
          "min": "1.0",
          "max": "1.0",
          "histogram": [
           {
            "bin_start": 0.5,
            "bin_end": 0.6,
            "count": 0
           },
           {
            "bin_start": 0.6,
            "bin_end": 0.7,
            "count": 0
           },
           {
            "bin_start": 0.7,
            "bin_end": 0.8,
            "count": 0
           },
           {
            "bin_start": 0.8,
            "bin_end": 0.9,
            "count": 0
           },
           {
            "bin_start": 0.9,
            "bin_end": 1,
            "count": 0
           },
           {
            "bin_start": 1,
            "bin_end": 1.1,
            "count": 5
           },
           {
            "bin_start": 1.1,
            "bin_end": 1.2000000000000002,
            "count": 0
           },
           {
            "bin_start": 1.2000000000000002,
            "bin_end": 1.3,
            "count": 0
           },
           {
            "bin_start": 1.3,
            "bin_end": 1.4,
            "count": 0
           },
           {
            "bin_start": 1.4,
            "bin_end": 1.5,
            "count": 0
           }
          ]
         }
        },
        {
         "name": "building_id",
         "dtype": "float64",
         "stats": {
          "unique_count": 4,
          "nan_count": 0,
          "min": "1893.0",
          "max": "6604.0",
          "histogram": [
           {
            "bin_start": 1893,
            "bin_end": 2364.1,
            "count": 2
           },
           {
            "bin_start": 2364.1,
            "bin_end": 2835.2,
            "count": 0
           },
           {
            "bin_start": 2835.2,
            "bin_end": 3306.3,
            "count": 0
           },
           {
            "bin_start": 3306.3,
            "bin_end": 3777.4,
            "count": 0
           },
           {
            "bin_start": 3777.4,
            "bin_end": 4248.5,
            "count": 1
           },
           {
            "bin_start": 4248.5,
            "bin_end": 4719.6,
            "count": 0
           },
           {
            "bin_start": 4719.6,
            "bin_end": 5190.700000000001,
            "count": 1
           },
           {
            "bin_start": 5190.700000000001,
            "bin_end": 5661.8,
            "count": 0
           },
           {
            "bin_start": 5661.8,
            "bin_end": 6132.900000000001,
            "count": 0
           },
           {
            "bin_start": 6132.900000000001,
            "bin_end": 6604,
            "count": 1
           }
          ]
         }
        },
        {
         "name": "new",
         "dtype": "float64",
         "stats": {
          "unique_count": 2,
          "nan_count": 0,
          "min": "0.0",
          "max": "1.0",
          "histogram": [
           {
            "bin_start": 0,
            "bin_end": 0.1,
            "count": 3
           },
           {
            "bin_start": 0.1,
            "bin_end": 0.2,
            "count": 0
           },
           {
            "bin_start": 0.2,
            "bin_end": 0.30000000000000004,
            "count": 0
           },
           {
            "bin_start": 0.30000000000000004,
            "bin_end": 0.4,
            "count": 0
           },
           {
            "bin_start": 0.4,
            "bin_end": 0.5,
            "count": 0
           },
           {
            "bin_start": 0.5,
            "bin_end": 0.6000000000000001,
            "count": 0
           },
           {
            "bin_start": 0.6000000000000001,
            "bin_end": 0.7000000000000001,
            "count": 0
           },
           {
            "bin_start": 0.7000000000000001,
            "bin_end": 0.8,
            "count": 0
           },
           {
            "bin_start": 0.8,
            "bin_end": 0.9,
            "count": 0
           },
           {
            "bin_start": 0.9,
            "bin_end": 1,
            "count": 2
           }
          ]
         }
        },
        {
         "name": "district",
         "dtype": "float64",
         "stats": {
          "unique_count": 3,
          "nan_count": 0,
          "min": "2.0",
          "max": "11.0",
          "histogram": [
           {
            "bin_start": 2,
            "bin_end": 2.9,
            "count": 2
           },
           {
            "bin_start": 2.9,
            "bin_end": 3.8,
            "count": 0
           },
           {
            "bin_start": 3.8,
            "bin_end": 4.7,
            "count": 0
           },
           {
            "bin_start": 4.7,
            "bin_end": 5.6,
            "count": 0
           },
           {
            "bin_start": 5.6,
            "bin_end": 6.5,
            "count": 1
           },
           {
            "bin_start": 6.5,
            "bin_end": 7.4,
            "count": 0
           },
           {
            "bin_start": 7.4,
            "bin_end": 8.3,
            "count": 0
           },
           {
            "bin_start": 8.3,
            "bin_end": 9.2,
            "count": 0
           },
           {
            "bin_start": 9.2,
            "bin_end": 10.1,
            "count": 0
           },
           {
            "bin_start": 10.1,
            "bin_end": 11,
            "count": 2
           }
          ]
         }
        },
        {
         "name": "constructed",
         "dtype": "float64",
         "stats": {
          "unique_count": 3,
          "nan_count": 0,
          "min": "2010.0",
          "max": "2021.0",
          "histogram": [
           {
            "bin_start": 2010,
            "bin_end": 2011.1,
            "count": 2
           },
           {
            "bin_start": 2011.1,
            "bin_end": 2012.2,
            "count": 0
           },
           {
            "bin_start": 2012.2,
            "bin_end": 2013.3,
            "count": 0
           },
           {
            "bin_start": 2013.3,
            "bin_end": 2014.4,
            "count": 0
           },
           {
            "bin_start": 2014.4,
            "bin_end": 2015.5,
            "count": 0
           },
           {
            "bin_start": 2015.5,
            "bin_end": 2016.6,
            "count": 0
           },
           {
            "bin_start": 2016.6,
            "bin_end": 2017.7,
            "count": 1
           },
           {
            "bin_start": 2017.7,
            "bin_end": 2018.8,
            "count": 0
           },
           {
            "bin_start": 2018.8,
            "bin_end": 2019.9,
            "count": 0
           },
           {
            "bin_start": 2019.9,
            "bin_end": 2021,
            "count": 2
           }
          ]
         }
        },
        {
         "name": "material",
         "dtype": "float64",
         "stats": {
          "unique_count": 2,
          "nan_count": 0,
          "min": "2.0",
          "max": "3.0",
          "histogram": [
           {
            "bin_start": 2,
            "bin_end": 2.1,
            "count": 1
           },
           {
            "bin_start": 2.1,
            "bin_end": 2.2,
            "count": 0
           },
           {
            "bin_start": 2.2,
            "bin_end": 2.3,
            "count": 0
           },
           {
            "bin_start": 2.3,
            "bin_end": 2.4,
            "count": 0
           },
           {
            "bin_start": 2.4,
            "bin_end": 2.5,
            "count": 0
           },
           {
            "bin_start": 2.5,
            "bin_end": 2.6,
            "count": 0
           },
           {
            "bin_start": 2.6,
            "bin_end": 2.7,
            "count": 0
           },
           {
            "bin_start": 2.7,
            "bin_end": 2.8,
            "count": 0
           },
           {
            "bin_start": 2.8,
            "bin_end": 2.9,
            "count": 0
           },
           {
            "bin_start": 2.9,
            "bin_end": 3,
            "count": 4
           }
          ]
         }
        },
        {
         "name": "stories",
         "dtype": "float64",
         "stats": {
          "unique_count": 3,
          "nan_count": 0,
          "min": "9.0",
          "max": "25.0",
          "histogram": [
           {
            "bin_start": 9,
            "bin_end": 10.6,
            "count": 1
           },
           {
            "bin_start": 10.6,
            "bin_end": 12.2,
            "count": 0
           },
           {
            "bin_start": 12.2,
            "bin_end": 13.8,
            "count": 0
           },
           {
            "bin_start": 13.8,
            "bin_end": 15.4,
            "count": 2
           },
           {
            "bin_start": 15.4,
            "bin_end": 17,
            "count": 0
           },
           {
            "bin_start": 17,
            "bin_end": 18.6,
            "count": 0
           },
           {
            "bin_start": 18.6,
            "bin_end": 20.200000000000003,
            "count": 0
           },
           {
            "bin_start": 20.200000000000003,
            "bin_end": 21.8,
            "count": 0
           },
           {
            "bin_start": 21.8,
            "bin_end": 23.4,
            "count": 0
           },
           {
            "bin_start": 23.4,
            "bin_end": 25,
            "count": 2
           }
          ]
         }
        },
        {
         "name": "elevator_without",
         "dtype": "float64",
         "stats": {
          "unique_count": 1,
          "nan_count": 0,
          "min": "0.0",
          "max": "0.0",
          "histogram": [
           {
            "bin_start": -0.5,
            "bin_end": -0.4,
            "count": 0
           },
           {
            "bin_start": -0.4,
            "bin_end": -0.3,
            "count": 0
           },
           {
            "bin_start": -0.3,
            "bin_end": -0.19999999999999996,
            "count": 0
           },
           {
            "bin_start": -0.19999999999999996,
            "bin_end": -0.09999999999999998,
            "count": 0
           },
           {
            "bin_start": -0.09999999999999998,
            "bin_end": 0,
            "count": 0
           },
           {
            "bin_start": 0,
            "bin_end": 0.10000000000000009,
            "count": 5
           },
           {
            "bin_start": 0.10000000000000009,
            "bin_end": 0.20000000000000007,
            "count": 0
           },
           {
            "bin_start": 0.20000000000000007,
            "bin_end": 0.30000000000000004,
            "count": 0
           },
           {
            "bin_start": 0.30000000000000004,
            "bin_end": 0.4,
            "count": 0
           },
           {
            "bin_start": 0.4,
            "bin_end": 0.5,
            "count": 0
           }
          ]
         }
        },
        {
         "name": "elevator_passenger",
         "dtype": "float64",
         "stats": {
          "unique_count": 1,
          "nan_count": 0,
          "min": "1.0",
          "max": "1.0",
          "histogram": [
           {
            "bin_start": 0.5,
            "bin_end": 0.6,
            "count": 0
           },
           {
            "bin_start": 0.6,
            "bin_end": 0.7,
            "count": 0
           },
           {
            "bin_start": 0.7,
            "bin_end": 0.8,
            "count": 0
           },
           {
            "bin_start": 0.8,
            "bin_end": 0.9,
            "count": 0
           },
           {
            "bin_start": 0.9,
            "bin_end": 1,
            "count": 0
           },
           {
            "bin_start": 1,
            "bin_end": 1.1,
            "count": 5
           },
           {
            "bin_start": 1.1,
            "bin_end": 1.2000000000000002,
            "count": 0
           },
           {
            "bin_start": 1.2000000000000002,
            "bin_end": 1.3,
            "count": 0
           },
           {
            "bin_start": 1.3,
            "bin_end": 1.4,
            "count": 0
           },
           {
            "bin_start": 1.4,
            "bin_end": 1.5,
            "count": 0
           }
          ]
         }
        },
        {
         "name": "elevator_service",
         "dtype": "float64",
         "stats": {
          "unique_count": 1,
          "nan_count": 0,
          "min": "1.0",
          "max": "1.0",
          "histogram": [
           {
            "bin_start": 0.5,
            "bin_end": 0.6,
            "count": 0
           },
           {
            "bin_start": 0.6,
            "bin_end": 0.7,
            "count": 0
           },
           {
            "bin_start": 0.7,
            "bin_end": 0.8,
            "count": 0
           },
           {
            "bin_start": 0.8,
            "bin_end": 0.9,
            "count": 0
           },
           {
            "bin_start": 0.9,
            "bin_end": 1,
            "count": 0
           },
           {
            "bin_start": 1,
            "bin_end": 1.1,
            "count": 5
           },
           {
            "bin_start": 1.1,
            "bin_end": 1.2000000000000002,
            "count": 0
           },
           {
            "bin_start": 1.2000000000000002,
            "bin_end": 1.3,
            "count": 0
           },
           {
            "bin_start": 1.3,
            "bin_end": 1.4,
            "count": 0
           },
           {
            "bin_start": 1.4,
            "bin_end": 1.5,
            "count": 0
           }
          ]
         }
        },
        {
         "name": "parking",
         "dtype": "float64",
         "stats": {
          "unique_count": 1,
          "nan_count": 0,
          "min": "1.0",
          "max": "1.0",
          "histogram": [
           {
            "bin_start": 0.5,
            "bin_end": 0.6,
            "count": 0
           },
           {
            "bin_start": 0.6,
            "bin_end": 0.7,
            "count": 0
           },
           {
            "bin_start": 0.7,
            "bin_end": 0.8,
            "count": 0
           },
           {
            "bin_start": 0.8,
            "bin_end": 0.9,
            "count": 0
           },
           {
            "bin_start": 0.9,
            "bin_end": 1,
            "count": 0
           },
           {
            "bin_start": 1,
            "bin_end": 1.1,
            "count": 5
           },
           {
            "bin_start": 1.1,
            "bin_end": 1.2000000000000002,
            "count": 0
           },
           {
            "bin_start": 1.2000000000000002,
            "bin_end": 1.3,
            "count": 0
           },
           {
            "bin_start": 1.3,
            "bin_end": 1.4,
            "count": 0
           },
           {
            "bin_start": 1.4,
            "bin_end": 1.5,
            "count": 0
           }
          ]
         }
        },
        {
         "name": "garbage_chute",
         "dtype": "float64",
         "stats": {
          "unique_count": 3,
          "nan_count": 0,
          "min": "0.0",
          "max": "1.0",
          "histogram": [
           {
            "bin_start": 0,
            "bin_end": 0.1,
            "count": 1
           },
           {
            "bin_start": 0.1,
            "bin_end": 0.2,
            "count": 0
           },
           {
            "bin_start": 0.2,
            "bin_end": 0.30000000000000004,
            "count": 0
           },
           {
            "bin_start": 0.30000000000000004,
            "bin_end": 0.4,
            "count": 0
           },
           {
            "bin_start": 0.4,
            "bin_end": 0.5,
            "count": 0
           },
           {
            "bin_start": 0.5,
            "bin_end": 0.6000000000000001,
            "count": 0
           },
           {
            "bin_start": 0.6000000000000001,
            "bin_end": 0.7000000000000001,
            "count": 0
           },
           {
            "bin_start": 0.7000000000000001,
            "bin_end": 0.8,
            "count": 0
           },
           {
            "bin_start": 0.8,
            "bin_end": 0.9,
            "count": 2
           },
           {
            "bin_start": 0.9,
            "bin_end": 1,
            "count": 2
           }
          ]
         }
        },
        {
         "name": "heating",
         "dtype": "float64",
         "stats": {
          "unique_count": 2,
          "nan_count": 0,
          "min": "0.0",
          "max": "0.2",
          "histogram": [
           {
            "bin_start": 0,
            "bin_end": 0.02,
            "count": 3
           },
           {
            "bin_start": 0.02,
            "bin_end": 0.04,
            "count": 0
           },
           {
            "bin_start": 0.04,
            "bin_end": 0.06,
            "count": 0
           },
           {
            "bin_start": 0.06,
            "bin_end": 0.08,
            "count": 0
           },
           {
            "bin_start": 0.08,
            "bin_end": 0.1,
            "count": 0
           },
           {
            "bin_start": 0.1,
            "bin_end": 0.12,
            "count": 0
           },
           {
            "bin_start": 0.12,
            "bin_end": 0.14,
            "count": 0
           },
           {
            "bin_start": 0.14,
            "bin_end": 0.16,
            "count": 0
           },
           {
            "bin_start": 0.16,
            "bin_end": 0.18,
            "count": 0
           },
           {
            "bin_start": 0.18,
            "bin_end": 0.2,
            "count": 2
           }
          ]
         }
        },
        {
         "name": "price/area",
         "dtype": "float64",
         "stats": {
          "unique_count": 4,
          "nan_count": 0,
          "min": "114900.0",
          "max": "178205.12820512822",
          "histogram": [
           {
            "bin_start": 114900,
            "bin_end": 121230.51282051283,
            "count": 4
           },
           {
            "bin_start": 121230.51282051283,
            "bin_end": 127561.02564102564,
            "count": 0
           },
           {
            "bin_start": 127561.02564102564,
            "bin_end": 133891.53846153847,
            "count": 0
           },
           {
            "bin_start": 133891.53846153847,
            "bin_end": 140222.05128205128,
            "count": 0
           },
           {
            "bin_start": 140222.05128205128,
            "bin_end": 146552.56410256412,
            "count": 0
           },
           {
            "bin_start": 146552.56410256412,
            "bin_end": 152883.07692307694,
            "count": 0
           },
           {
            "bin_start": 152883.07692307694,
            "bin_end": 159213.58974358975,
            "count": 0
           },
           {
            "bin_start": 159213.58974358975,
            "bin_end": 165544.10256410256,
            "count": 0
           },
           {
            "bin_start": 165544.10256410256,
            "bin_end": 171874.6153846154,
            "count": 0
           },
           {
            "bin_start": 171874.6153846154,
            "bin_end": 178205.12820512822,
            "count": 1
           }
          ]
         }
        },
        {
         "name": "distance",
         "dtype": "float64",
         "stats": {
          "unique_count": 4,
          "nan_count": 0,
          "min": "0.12118261272146193",
          "max": "0.2393483510304599",
          "histogram": [
           {
            "bin_start": 0.12118261272146193,
            "bin_end": 0.13299918655236173,
            "count": 3
           },
           {
            "bin_start": 0.13299918655236173,
            "bin_end": 0.14481576038326152,
            "count": 0
           },
           {
            "bin_start": 0.14481576038326152,
            "bin_end": 0.1566323342141613,
            "count": 0
           },
           {
            "bin_start": 0.1566323342141613,
            "bin_end": 0.16844890804506113,
            "count": 0
           },
           {
            "bin_start": 0.16844890804506113,
            "bin_end": 0.18026548187596092,
            "count": 0
           },
           {
            "bin_start": 0.18026548187596092,
            "bin_end": 0.1920820557068607,
            "count": 0
           },
           {
            "bin_start": 0.1920820557068607,
            "bin_end": 0.2038986295377605,
            "count": 0
           },
           {
            "bin_start": 0.2038986295377605,
            "bin_end": 0.2157152033686603,
            "count": 0
           },
           {
            "bin_start": 0.2157152033686603,
            "bin_end": 0.22753177719956008,
            "count": 1
           },
           {
            "bin_start": 0.22753177719956008,
            "bin_end": 0.2393483510304599,
            "count": 1
           }
          ]
         }
        },
        {
         "name": "_deepnote_index_column",
         "dtype": "int64"
        }
       ],
       "rows_top": [
        {
         "id": 0,
         "seller": 3,
         "price": 7139520,
         "area_total": 59.2,
         "area_kitchen": 12.5,
         "area_living": 31,
         "floor": 2,
         "rooms": 2,
         "layout": 0.8,
         "ceiling": 2.65,
         "bathrooms_shared": 0,
         "bathrooms_private": 2,
         "windows_court": 0,
         "windows_street": 1,
         "balconies": 0.6,
         "loggias": 0.8,
         "condition": 0.8,
         "phones": 1,
         "building_id": 4076,
         "new": 1,
         "district": 11,
         "constructed": 2021,
         "material": 3,
         "stories": 9,
         "elevator_without": 0,
         "elevator_passenger": 1,
         "elevator_service": 1,
         "parking": 1,
         "garbage_chute": 0.8,
         "heating": 0.2,
         "price/area": 120600,
         "distance": 0.2393483510304599,
         "_deepnote_index_column": 0
        },
        {
         "id": 1,
         "seller": 1.2,
         "price": 10500000,
         "area_total": 88,
         "area_kitchen": 14.2,
         "area_living": 48,
         "floor": 18,
         "rooms": 3,
         "layout": 1,
         "ceiling": 2.652,
         "bathrooms_shared": 2,
         "bathrooms_private": 0,
         "windows_court": 1,
         "windows_street": 1,
         "balconies": 1,
         "loggias": 0,
         "condition": 3,
         "phones": 1,
         "building_id": 1893,
         "new": 0,
         "district": 2,
         "constructed": 2010,
         "material": 3,
         "stories": 25,
         "elevator_without": 0,
         "elevator_passenger": 1,
         "elevator_service": 1,
         "parking": 1,
         "garbage_chute": 1,
         "heating": 0,
         "price/area": 119318.18181818182,
         "distance": 0.1297131686953954,
         "_deepnote_index_column": 1
        },
        {
         "id": 2,
         "seller": 3,
         "price": 9019650,
         "area_total": 78.5,
         "area_kitchen": 22.5,
         "area_living": 40.8,
         "floor": 12,
         "rooms": 3,
         "layout": 1,
         "ceiling": 2.65,
         "bathrooms_shared": 0,
         "bathrooms_private": 2,
         "windows_court": 1,
         "windows_street": 1,
         "balconies": 0.6,
         "loggias": 0.4,
         "condition": 0.8,
         "phones": 1,
         "building_id": 5176,
         "new": 1,
         "district": 6,
         "constructed": 2021,
         "material": 3,
         "stories": 15,
         "elevator_without": 0,
         "elevator_passenger": 1,
         "elevator_service": 1,
         "parking": 1,
         "garbage_chute": 0.8,
         "heating": 0.2,
         "price/area": 114900,
         "distance": 0.12118261272146193,
         "_deepnote_index_column": 2
        },
        {
         "id": 3,
         "seller": 1.2,
         "price": 10500000,
         "area_total": 88,
         "area_kitchen": 14,
         "area_living": 48,
         "floor": 18,
         "rooms": 3,
         "layout": 1,
         "ceiling": 2.652,
         "bathrooms_shared": 0,
         "bathrooms_private": 2,
         "windows_court": 1,
         "windows_street": 1,
         "balconies": 0,
         "loggias": 1,
         "condition": 2,
         "phones": 1,
         "building_id": 1893,
         "new": 0,
         "district": 2,
         "constructed": 2010,
         "material": 3,
         "stories": 25,
         "elevator_without": 0,
         "elevator_passenger": 1,
         "elevator_service": 1,
         "parking": 1,
         "garbage_chute": 1,
         "heating": 0,
         "price/area": 119318.18181818182,
         "distance": 0.1297131686953954,
         "_deepnote_index_column": 3
        },
        {
         "id": 4,
         "seller": 1.8,
         "price": 13900000,
         "area_total": 78,
         "area_kitchen": 17,
         "area_living": 35,
         "floor": 7,
         "rooms": 2,
         "layout": 1,
         "ceiling": 2.9,
         "bathrooms_shared": 1,
         "bathrooms_private": 0,
         "windows_court": 1,
         "windows_street": 1,
         "balconies": 0,
         "loggias": 1,
         "condition": 3,
         "phones": 1,
         "building_id": 6604,
         "new": 0,
         "district": 11,
         "constructed": 2017,
         "material": 2,
         "stories": 15,
         "elevator_without": 0,
         "elevator_passenger": 1,
         "elevator_service": 1,
         "parking": 1,
         "garbage_chute": 0,
         "heating": 0,
         "price/area": 178205.12820512822,
         "distance": 0.21776153027796374,
         "_deepnote_index_column": 4
        }
       ],
       "rows_bottom": null
      },
      "text/plain": "    id  seller       price  area_total  area_kitchen  area_living  floor  \\\n0  0.0     3.0   7139520.0        59.2          12.5         31.0    2.0   \n1  1.0     1.2  10500000.0        88.0          14.2         48.0   18.0   \n2  2.0     3.0   9019650.0        78.5          22.5         40.8   12.0   \n3  3.0     1.2  10500000.0        88.0          14.0         48.0   18.0   \n4  4.0     1.8  13900000.0        78.0          17.0         35.0    7.0   \n\n   rooms  layout  ceiling  ...  material  stories  elevator_without  \\\n0    2.0     0.8    2.650  ...       3.0      9.0               0.0   \n1    3.0     1.0    2.652  ...       3.0     25.0               0.0   \n2    3.0     1.0    2.650  ...       3.0     15.0               0.0   \n3    3.0     1.0    2.652  ...       3.0     25.0               0.0   \n4    2.0     1.0    2.900  ...       2.0     15.0               0.0   \n\n   elevator_passenger  elevator_service  parking  garbage_chute  heating  \\\n0                 1.0               1.0      1.0            0.8      0.2   \n1                 1.0               1.0      1.0            1.0      0.0   \n2                 1.0               1.0      1.0            0.8      0.2   \n3                 1.0               1.0      1.0            1.0      0.0   \n4                 1.0               1.0      1.0            0.0      0.0   \n\n      price/area  distance  \n0  120600.000000  0.239348  \n1  119318.181818  0.129713  \n2  114900.000000  0.121183  \n3  119318.181818  0.129713  \n4  178205.128205  0.217762  \n\n[5 rows x 32 columns]",
      "text/html": "<div>\n<style scoped>\n    .dataframe tbody tr th:only-of-type {\n        vertical-align: middle;\n    }\n\n    .dataframe tbody tr th {\n        vertical-align: top;\n    }\n\n    .dataframe thead th {\n        text-align: right;\n    }\n</style>\n<table border=\"1\" class=\"dataframe\">\n  <thead>\n    <tr style=\"text-align: right;\">\n      <th></th>\n      <th>id</th>\n      <th>seller</th>\n      <th>price</th>\n      <th>area_total</th>\n      <th>area_kitchen</th>\n      <th>area_living</th>\n      <th>floor</th>\n      <th>rooms</th>\n      <th>layout</th>\n      <th>ceiling</th>\n      <th>...</th>\n      <th>material</th>\n      <th>stories</th>\n      <th>elevator_without</th>\n      <th>elevator_passenger</th>\n      <th>elevator_service</th>\n      <th>parking</th>\n      <th>garbage_chute</th>\n      <th>heating</th>\n      <th>price/area</th>\n      <th>distance</th>\n    </tr>\n  </thead>\n  <tbody>\n    <tr>\n      <th>0</th>\n      <td>0.0</td>\n      <td>3.0</td>\n      <td>7139520.0</td>\n      <td>59.2</td>\n      <td>12.5</td>\n      <td>31.0</td>\n      <td>2.0</td>\n      <td>2.0</td>\n      <td>0.8</td>\n      <td>2.650</td>\n      <td>...</td>\n      <td>3.0</td>\n      <td>9.0</td>\n      <td>0.0</td>\n      <td>1.0</td>\n      <td>1.0</td>\n      <td>1.0</td>\n      <td>0.8</td>\n      <td>0.2</td>\n      <td>120600.000000</td>\n      <td>0.239348</td>\n    </tr>\n    <tr>\n      <th>1</th>\n      <td>1.0</td>\n      <td>1.2</td>\n      <td>10500000.0</td>\n      <td>88.0</td>\n      <td>14.2</td>\n      <td>48.0</td>\n      <td>18.0</td>\n      <td>3.0</td>\n      <td>1.0</td>\n      <td>2.652</td>\n      <td>...</td>\n      <td>3.0</td>\n      <td>25.0</td>\n      <td>0.0</td>\n      <td>1.0</td>\n      <td>1.0</td>\n      <td>1.0</td>\n      <td>1.0</td>\n      <td>0.0</td>\n      <td>119318.181818</td>\n      <td>0.129713</td>\n    </tr>\n    <tr>\n      <th>2</th>\n      <td>2.0</td>\n      <td>3.0</td>\n      <td>9019650.0</td>\n      <td>78.5</td>\n      <td>22.5</td>\n      <td>40.8</td>\n      <td>12.0</td>\n      <td>3.0</td>\n      <td>1.0</td>\n      <td>2.650</td>\n      <td>...</td>\n      <td>3.0</td>\n      <td>15.0</td>\n      <td>0.0</td>\n      <td>1.0</td>\n      <td>1.0</td>\n      <td>1.0</td>\n      <td>0.8</td>\n      <td>0.2</td>\n      <td>114900.000000</td>\n      <td>0.121183</td>\n    </tr>\n    <tr>\n      <th>3</th>\n      <td>3.0</td>\n      <td>1.2</td>\n      <td>10500000.0</td>\n      <td>88.0</td>\n      <td>14.0</td>\n      <td>48.0</td>\n      <td>18.0</td>\n      <td>3.0</td>\n      <td>1.0</td>\n      <td>2.652</td>\n      <td>...</td>\n      <td>3.0</td>\n      <td>25.0</td>\n      <td>0.0</td>\n      <td>1.0</td>\n      <td>1.0</td>\n      <td>1.0</td>\n      <td>1.0</td>\n      <td>0.0</td>\n      <td>119318.181818</td>\n      <td>0.129713</td>\n    </tr>\n    <tr>\n      <th>4</th>\n      <td>4.0</td>\n      <td>1.8</td>\n      <td>13900000.0</td>\n      <td>78.0</td>\n      <td>17.0</td>\n      <td>35.0</td>\n      <td>7.0</td>\n      <td>2.0</td>\n      <td>1.0</td>\n      <td>2.900</td>\n      <td>...</td>\n      <td>2.0</td>\n      <td>15.0</td>\n      <td>0.0</td>\n      <td>1.0</td>\n      <td>1.0</td>\n      <td>1.0</td>\n      <td>0.0</td>\n      <td>0.0</td>\n      <td>178205.128205</td>\n      <td>0.217762</td>\n    </tr>\n  </tbody>\n</table>\n<p>5 rows × 32 columns</p>\n</div>"
     },
     "metadata": {}
    }
   ],
   "execution_count": null
  },
  {
   "cell_type": "code",
   "metadata": {
    "tags": [],
    "deepnote_to_be_reexecuted": false,
    "source_hash": "b26f84b6",
    "execution_start": 1637350149553,
    "execution_millis": 74,
    "cell_id": "00018-db43b018-ee1b-4047-9be4-94b9fd5a13a8",
    "deepnote_cell_type": "code"
   },
   "source": "# categorical features and integers that must be rounded and cast to int\n\nnames = ['seller', 'floor', 'rooms', 'layout', 'ceiling', \n'bathrooms_shared', 'bathrooms_private', 'windows_court', 'windows_street', 'balconies', 'loggias', 'condition', \n'phones', 'building_id', 'new', 'district', 'constructed', 'material', 'stories', 'elevator_without', \n'elevator_passenger', 'elevator_service', 'parking', 'garbage_chute', 'heating']\n#print(df.street.isnull().sum(),df1.street.isnull().sum())\nfor x in names:\n    df1[x] = df1[x].round(decimals = 0)\n    df1[x] = df1[x].astype(int)\n\n    df1_test[x] = df1_test[x].round(decimals = 0)\n    df1_test[x] = df1_test[x].astype(int)\n\n#df1['street'].isnull().sum()\nprint(df1.shape, df.shape)",
   "outputs": [
    {
     "name": "stdout",
     "text": "(23237, 32) (23237, 34)\n",
     "output_type": "stream"
    }
   ],
   "execution_count": null
  },
  {
   "cell_type": "code",
   "metadata": {
    "tags": [],
    "deepnote_to_be_reexecuted": false,
    "source_hash": "97ffdf9d",
    "execution_start": 1637350159346,
    "execution_millis": 214,
    "cell_id": "00019-ace5e199-c177-4d80-8c7e-4910707a7ebe",
    "deepnote_output_heights": [
     21,
     21
    ],
    "deepnote_cell_type": "code"
   },
   "source": "\ndf1['id'] = df1['id'].astype(int)\n\n\ndf1 = pd.merge(df1, df[['id', 'street']], on='id')\n\n\ndf1_test['id'] = df1_test['id'].astype(int)\ndf1_test['street'] = df_test.street\n\n#print(df1.shape, df.shape)\n#df1.head()\n#df1['street'].isnull().sum()\n#df1.to_csv('Training_clean.csv', index=False)\n#df1_test.to_csv('Test_clean.csv', index=False)",
   "outputs": [],
   "execution_count": null
  },
  {
   "cell_type": "code",
   "metadata": {
    "tags": [],
    "deepnote_to_be_reexecuted": false,
    "source_hash": "effe9690",
    "execution_start": 1637350162555,
    "execution_millis": 1,
    "cell_id": "00021-d1610151-7a4c-4b4e-ab79-fc0b4c8fa6e2",
    "deepnote_output_heights": [
     21
    ],
    "deepnote_cell_type": "code"
   },
   "source": "df1.shape",
   "outputs": [
    {
     "output_type": "execute_result",
     "execution_count": 25,
     "data": {
      "text/plain": "(23237, 33)"
     },
     "metadata": {}
    }
   ],
   "execution_count": null
  },
  {
   "cell_type": "code",
   "metadata": {
    "tags": [],
    "deepnote_to_be_reexecuted": false,
    "source_hash": "cbcab4db",
    "execution_start": 1637350168587,
    "execution_millis": 197,
    "cell_id": "00022-6ed12e2a-90c4-42ba-b8c5-e1cc605c325a",
    "deepnote_cell_type": "code"
   },
   "source": "df1[df1.id==455]",
   "outputs": [
    {
     "output_type": "execute_result",
     "execution_count": 26,
     "data": {
      "application/vnd.deepnote.dataframe.v2+json": {
       "row_count": 1,
       "column_count": 33,
       "columns": [
        {
         "name": "id",
         "dtype": "int64",
         "stats": {
          "unique_count": 1,
          "nan_count": 0,
          "min": "455",
          "max": "455",
          "histogram": [
           {
            "bin_start": 454.5,
            "bin_end": 454.6,
            "count": 0
           },
           {
            "bin_start": 454.6,
            "bin_end": 454.7,
            "count": 0
           },
           {
            "bin_start": 454.7,
            "bin_end": 454.8,
            "count": 0
           },
           {
            "bin_start": 454.8,
            "bin_end": 454.9,
            "count": 0
           },
           {
            "bin_start": 454.9,
            "bin_end": 455,
            "count": 0
           },
           {
            "bin_start": 455,
            "bin_end": 455.1,
            "count": 1
           },
           {
            "bin_start": 455.1,
            "bin_end": 455.2,
            "count": 0
           },
           {
            "bin_start": 455.2,
            "bin_end": 455.3,
            "count": 0
           },
           {
            "bin_start": 455.3,
            "bin_end": 455.4,
            "count": 0
           },
           {
            "bin_start": 455.4,
            "bin_end": 455.5,
            "count": 0
           }
          ]
         }
        },
        {
         "name": "seller",
         "dtype": "int64",
         "stats": {
          "unique_count": 1,
          "nan_count": 0,
          "min": "3",
          "max": "3",
          "histogram": [
           {
            "bin_start": 2.5,
            "bin_end": 2.6,
            "count": 0
           },
           {
            "bin_start": 2.6,
            "bin_end": 2.7,
            "count": 0
           },
           {
            "bin_start": 2.7,
            "bin_end": 2.8,
            "count": 0
           },
           {
            "bin_start": 2.8,
            "bin_end": 2.9,
            "count": 0
           },
           {
            "bin_start": 2.9,
            "bin_end": 3,
            "count": 0
           },
           {
            "bin_start": 3,
            "bin_end": 3.1,
            "count": 1
           },
           {
            "bin_start": 3.1,
            "bin_end": 3.2,
            "count": 0
           },
           {
            "bin_start": 3.2,
            "bin_end": 3.3,
            "count": 0
           },
           {
            "bin_start": 3.3,
            "bin_end": 3.4,
            "count": 0
           },
           {
            "bin_start": 3.4,
            "bin_end": 3.5,
            "count": 0
           }
          ]
         }
        },
        {
         "name": "price",
         "dtype": "float64",
         "stats": {
          "unique_count": 1,
          "nan_count": 0,
          "min": "32268200.0",
          "max": "32268200.0",
          "histogram": [
           {
            "bin_start": 32268199.5,
            "bin_end": 32268199.6,
            "count": 0
           },
           {
            "bin_start": 32268199.6,
            "bin_end": 32268199.7,
            "count": 0
           },
           {
            "bin_start": 32268199.7,
            "bin_end": 32268199.8,
            "count": 0
           },
           {
            "bin_start": 32268199.8,
            "bin_end": 32268199.9,
            "count": 0
           },
           {
            "bin_start": 32268199.9,
            "bin_end": 32268200,
            "count": 0
           },
           {
            "bin_start": 32268200,
            "bin_end": 32268200.1,
            "count": 1
           },
           {
            "bin_start": 32268200.1,
            "bin_end": 32268200.2,
            "count": 0
           },
           {
            "bin_start": 32268200.2,
            "bin_end": 32268200.3,
            "count": 0
           },
           {
            "bin_start": 32268200.3,
            "bin_end": 32268200.4,
            "count": 0
           },
           {
            "bin_start": 32268200.4,
            "bin_end": 32268200.5,
            "count": 0
           }
          ]
         }
        },
        {
         "name": "area_total",
         "dtype": "float64",
         "stats": {
          "unique_count": 1,
          "nan_count": 0,
          "min": "101.45",
          "max": "101.45",
          "histogram": [
           {
            "bin_start": 100.95,
            "bin_end": 101.05,
            "count": 0
           },
           {
            "bin_start": 101.05,
            "bin_end": 101.15,
            "count": 0
           },
           {
            "bin_start": 101.15,
            "bin_end": 101.25,
            "count": 0
           },
           {
            "bin_start": 101.25,
            "bin_end": 101.35000000000001,
            "count": 0
           },
           {
            "bin_start": 101.35000000000001,
            "bin_end": 101.45,
            "count": 0
           },
           {
            "bin_start": 101.45,
            "bin_end": 101.55,
            "count": 1
           },
           {
            "bin_start": 101.55,
            "bin_end": 101.65,
            "count": 0
           },
           {
            "bin_start": 101.65,
            "bin_end": 101.75,
            "count": 0
           },
           {
            "bin_start": 101.75,
            "bin_end": 101.85000000000001,
            "count": 0
           },
           {
            "bin_start": 101.85000000000001,
            "bin_end": 101.95,
            "count": 0
           }
          ]
         }
        },
        {
         "name": "area_kitchen",
         "dtype": "float64",
         "stats": {
          "unique_count": 1,
          "nan_count": 0,
          "min": "14.319999999999999",
          "max": "14.319999999999999",
          "histogram": [
           {
            "bin_start": 13.819999999999999,
            "bin_end": 13.919999999999998,
            "count": 0
           },
           {
            "bin_start": 13.919999999999998,
            "bin_end": 14.019999999999998,
            "count": 0
           },
           {
            "bin_start": 14.019999999999998,
            "bin_end": 14.12,
            "count": 0
           },
           {
            "bin_start": 14.12,
            "bin_end": 14.219999999999999,
            "count": 0
           },
           {
            "bin_start": 14.219999999999999,
            "bin_end": 14.319999999999999,
            "count": 0
           },
           {
            "bin_start": 14.319999999999999,
            "bin_end": 14.419999999999998,
            "count": 1
           },
           {
            "bin_start": 14.419999999999998,
            "bin_end": 14.519999999999998,
            "count": 0
           },
           {
            "bin_start": 14.519999999999998,
            "bin_end": 14.62,
            "count": 0
           },
           {
            "bin_start": 14.62,
            "bin_end": 14.719999999999999,
            "count": 0
           },
           {
            "bin_start": 14.719999999999999,
            "bin_end": 14.819999999999999,
            "count": 0
           }
          ]
         }
        },
        {
         "name": "area_living",
         "dtype": "float64",
         "stats": {
          "unique_count": 1,
          "nan_count": 0,
          "min": "78.16",
          "max": "78.16",
          "histogram": [
           {
            "bin_start": 77.66,
            "bin_end": 77.75999999999999,
            "count": 0
           },
           {
            "bin_start": 77.75999999999999,
            "bin_end": 77.86,
            "count": 0
           },
           {
            "bin_start": 77.86,
            "bin_end": 77.96,
            "count": 0
           },
           {
            "bin_start": 77.96,
            "bin_end": 78.06,
            "count": 0
           },
           {
            "bin_start": 78.06,
            "bin_end": 78.16,
            "count": 0
           },
           {
            "bin_start": 78.16,
            "bin_end": 78.25999999999999,
            "count": 1
           },
           {
            "bin_start": 78.25999999999999,
            "bin_end": 78.36,
            "count": 0
           },
           {
            "bin_start": 78.36,
            "bin_end": 78.46,
            "count": 0
           },
           {
            "bin_start": 78.46,
            "bin_end": 78.56,
            "count": 0
           },
           {
            "bin_start": 78.56,
            "bin_end": 78.66,
            "count": 0
           }
          ]
         }
        },
        {
         "name": "floor",
         "dtype": "int64",
         "stats": {
          "unique_count": 1,
          "nan_count": 0,
          "min": "1",
          "max": "1",
          "histogram": [
           {
            "bin_start": 0.5,
            "bin_end": 0.6,
            "count": 0
           },
           {
            "bin_start": 0.6,
            "bin_end": 0.7,
            "count": 0
           },
           {
            "bin_start": 0.7,
            "bin_end": 0.8,
            "count": 0
           },
           {
            "bin_start": 0.8,
            "bin_end": 0.9,
            "count": 0
           },
           {
            "bin_start": 0.9,
            "bin_end": 1,
            "count": 0
           },
           {
            "bin_start": 1,
            "bin_end": 1.1,
            "count": 1
           },
           {
            "bin_start": 1.1,
            "bin_end": 1.2000000000000002,
            "count": 0
           },
           {
            "bin_start": 1.2000000000000002,
            "bin_end": 1.3,
            "count": 0
           },
           {
            "bin_start": 1.3,
            "bin_end": 1.4,
            "count": 0
           },
           {
            "bin_start": 1.4,
            "bin_end": 1.5,
            "count": 0
           }
          ]
         }
        },
        {
         "name": "rooms",
         "dtype": "int64",
         "stats": {
          "unique_count": 1,
          "nan_count": 0,
          "min": "3",
          "max": "3",
          "histogram": [
           {
            "bin_start": 2.5,
            "bin_end": 2.6,
            "count": 0
           },
           {
            "bin_start": 2.6,
            "bin_end": 2.7,
            "count": 0
           },
           {
            "bin_start": 2.7,
            "bin_end": 2.8,
            "count": 0
           },
           {
            "bin_start": 2.8,
            "bin_end": 2.9,
            "count": 0
           },
           {
            "bin_start": 2.9,
            "bin_end": 3,
            "count": 0
           },
           {
            "bin_start": 3,
            "bin_end": 3.1,
            "count": 1
           },
           {
            "bin_start": 3.1,
            "bin_end": 3.2,
            "count": 0
           },
           {
            "bin_start": 3.2,
            "bin_end": 3.3,
            "count": 0
           },
           {
            "bin_start": 3.3,
            "bin_end": 3.4,
            "count": 0
           },
           {
            "bin_start": 3.4,
            "bin_end": 3.5,
            "count": 0
           }
          ]
         }
        },
        {
         "name": "layout",
         "dtype": "int64",
         "stats": {
          "unique_count": 1,
          "nan_count": 0,
          "min": "1",
          "max": "1",
          "histogram": [
           {
            "bin_start": 0.5,
            "bin_end": 0.6,
            "count": 0
           },
           {
            "bin_start": 0.6,
            "bin_end": 0.7,
            "count": 0
           },
           {
            "bin_start": 0.7,
            "bin_end": 0.8,
            "count": 0
           },
           {
            "bin_start": 0.8,
            "bin_end": 0.9,
            "count": 0
           },
           {
            "bin_start": 0.9,
            "bin_end": 1,
            "count": 0
           },
           {
            "bin_start": 1,
            "bin_end": 1.1,
            "count": 1
           },
           {
            "bin_start": 1.1,
            "bin_end": 1.2000000000000002,
            "count": 0
           },
           {
            "bin_start": 1.2000000000000002,
            "bin_end": 1.3,
            "count": 0
           },
           {
            "bin_start": 1.3,
            "bin_end": 1.4,
            "count": 0
           },
           {
            "bin_start": 1.4,
            "bin_end": 1.5,
            "count": 0
           }
          ]
         }
        },
        {
         "name": "ceiling",
         "dtype": "int64",
         "stats": {
          "unique_count": 1,
          "nan_count": 0,
          "min": "3",
          "max": "3",
          "histogram": [
           {
            "bin_start": 2.5,
            "bin_end": 2.6,
            "count": 0
           },
           {
            "bin_start": 2.6,
            "bin_end": 2.7,
            "count": 0
           },
           {
            "bin_start": 2.7,
            "bin_end": 2.8,
            "count": 0
           },
           {
            "bin_start": 2.8,
            "bin_end": 2.9,
            "count": 0
           },
           {
            "bin_start": 2.9,
            "bin_end": 3,
            "count": 0
           },
           {
            "bin_start": 3,
            "bin_end": 3.1,
            "count": 1
           },
           {
            "bin_start": 3.1,
            "bin_end": 3.2,
            "count": 0
           },
           {
            "bin_start": 3.2,
            "bin_end": 3.3,
            "count": 0
           },
           {
            "bin_start": 3.3,
            "bin_end": 3.4,
            "count": 0
           },
           {
            "bin_start": 3.4,
            "bin_end": 3.5,
            "count": 0
           }
          ]
         }
        },
        {
         "name": "bathrooms_shared",
         "dtype": "int64",
         "stats": {
          "unique_count": 1,
          "nan_count": 0,
          "min": "1",
          "max": "1",
          "histogram": [
           {
            "bin_start": 0.5,
            "bin_end": 0.6,
            "count": 0
           },
           {
            "bin_start": 0.6,
            "bin_end": 0.7,
            "count": 0
           },
           {
            "bin_start": 0.7,
            "bin_end": 0.8,
            "count": 0
           },
           {
            "bin_start": 0.8,
            "bin_end": 0.9,
            "count": 0
           },
           {
            "bin_start": 0.9,
            "bin_end": 1,
            "count": 0
           },
           {
            "bin_start": 1,
            "bin_end": 1.1,
            "count": 1
           },
           {
            "bin_start": 1.1,
            "bin_end": 1.2000000000000002,
            "count": 0
           },
           {
            "bin_start": 1.2000000000000002,
            "bin_end": 1.3,
            "count": 0
           },
           {
            "bin_start": 1.3,
            "bin_end": 1.4,
            "count": 0
           },
           {
            "bin_start": 1.4,
            "bin_end": 1.5,
            "count": 0
           }
          ]
         }
        },
        {
         "name": "bathrooms_private",
         "dtype": "int64",
         "stats": {
          "unique_count": 1,
          "nan_count": 0,
          "min": "1",
          "max": "1",
          "histogram": [
           {
            "bin_start": 0.5,
            "bin_end": 0.6,
            "count": 0
           },
           {
            "bin_start": 0.6,
            "bin_end": 0.7,
            "count": 0
           },
           {
            "bin_start": 0.7,
            "bin_end": 0.8,
            "count": 0
           },
           {
            "bin_start": 0.8,
            "bin_end": 0.9,
            "count": 0
           },
           {
            "bin_start": 0.9,
            "bin_end": 1,
            "count": 0
           },
           {
            "bin_start": 1,
            "bin_end": 1.1,
            "count": 1
           },
           {
            "bin_start": 1.1,
            "bin_end": 1.2000000000000002,
            "count": 0
           },
           {
            "bin_start": 1.2000000000000002,
            "bin_end": 1.3,
            "count": 0
           },
           {
            "bin_start": 1.3,
            "bin_end": 1.4,
            "count": 0
           },
           {
            "bin_start": 1.4,
            "bin_end": 1.5,
            "count": 0
           }
          ]
         }
        },
        {
         "name": "windows_court",
         "dtype": "int64",
         "stats": {
          "unique_count": 1,
          "nan_count": 0,
          "min": "1",
          "max": "1",
          "histogram": [
           {
            "bin_start": 0.5,
            "bin_end": 0.6,
            "count": 0
           },
           {
            "bin_start": 0.6,
            "bin_end": 0.7,
            "count": 0
           },
           {
            "bin_start": 0.7,
            "bin_end": 0.8,
            "count": 0
           },
           {
            "bin_start": 0.8,
            "bin_end": 0.9,
            "count": 0
           },
           {
            "bin_start": 0.9,
            "bin_end": 1,
            "count": 0
           },
           {
            "bin_start": 1,
            "bin_end": 1.1,
            "count": 1
           },
           {
            "bin_start": 1.1,
            "bin_end": 1.2000000000000002,
            "count": 0
           },
           {
            "bin_start": 1.2000000000000002,
            "bin_end": 1.3,
            "count": 0
           },
           {
            "bin_start": 1.3,
            "bin_end": 1.4,
            "count": 0
           },
           {
            "bin_start": 1.4,
            "bin_end": 1.5,
            "count": 0
           }
          ]
         }
        },
        {
         "name": "windows_street",
         "dtype": "int64",
         "stats": {
          "unique_count": 1,
          "nan_count": 0,
          "min": "1",
          "max": "1",
          "histogram": [
           {
            "bin_start": 0.5,
            "bin_end": 0.6,
            "count": 0
           },
           {
            "bin_start": 0.6,
            "bin_end": 0.7,
            "count": 0
           },
           {
            "bin_start": 0.7,
            "bin_end": 0.8,
            "count": 0
           },
           {
            "bin_start": 0.8,
            "bin_end": 0.9,
            "count": 0
           },
           {
            "bin_start": 0.9,
            "bin_end": 1,
            "count": 0
           },
           {
            "bin_start": 1,
            "bin_end": 1.1,
            "count": 1
           },
           {
            "bin_start": 1.1,
            "bin_end": 1.2000000000000002,
            "count": 0
           },
           {
            "bin_start": 1.2000000000000002,
            "bin_end": 1.3,
            "count": 0
           },
           {
            "bin_start": 1.3,
            "bin_end": 1.4,
            "count": 0
           },
           {
            "bin_start": 1.4,
            "bin_end": 1.5,
            "count": 0
           }
          ]
         }
        },
        {
         "name": "balconies",
         "dtype": "int64",
         "stats": {
          "unique_count": 1,
          "nan_count": 0,
          "min": "1",
          "max": "1",
          "histogram": [
           {
            "bin_start": 0.5,
            "bin_end": 0.6,
            "count": 0
           },
           {
            "bin_start": 0.6,
            "bin_end": 0.7,
            "count": 0
           },
           {
            "bin_start": 0.7,
            "bin_end": 0.8,
            "count": 0
           },
           {
            "bin_start": 0.8,
            "bin_end": 0.9,
            "count": 0
           },
           {
            "bin_start": 0.9,
            "bin_end": 1,
            "count": 0
           },
           {
            "bin_start": 1,
            "bin_end": 1.1,
            "count": 1
           },
           {
            "bin_start": 1.1,
            "bin_end": 1.2000000000000002,
            "count": 0
           },
           {
            "bin_start": 1.2000000000000002,
            "bin_end": 1.3,
            "count": 0
           },
           {
            "bin_start": 1.3,
            "bin_end": 1.4,
            "count": 0
           },
           {
            "bin_start": 1.4,
            "bin_end": 1.5,
            "count": 0
           }
          ]
         }
        },
        {
         "name": "loggias",
         "dtype": "int64",
         "stats": {
          "unique_count": 1,
          "nan_count": 0,
          "min": "0",
          "max": "0",
          "histogram": [
           {
            "bin_start": -0.5,
            "bin_end": -0.4,
            "count": 0
           },
           {
            "bin_start": -0.4,
            "bin_end": -0.3,
            "count": 0
           },
           {
            "bin_start": -0.3,
            "bin_end": -0.19999999999999996,
            "count": 0
           },
           {
            "bin_start": -0.19999999999999996,
            "bin_end": -0.09999999999999998,
            "count": 0
           },
           {
            "bin_start": -0.09999999999999998,
            "bin_end": 0,
            "count": 0
           },
           {
            "bin_start": 0,
            "bin_end": 0.10000000000000009,
            "count": 1
           },
           {
            "bin_start": 0.10000000000000009,
            "bin_end": 0.20000000000000007,
            "count": 0
           },
           {
            "bin_start": 0.20000000000000007,
            "bin_end": 0.30000000000000004,
            "count": 0
           },
           {
            "bin_start": 0.30000000000000004,
            "bin_end": 0.4,
            "count": 0
           },
           {
            "bin_start": 0.4,
            "bin_end": 0.5,
            "count": 0
           }
          ]
         }
        },
        {
         "name": "condition",
         "dtype": "int64",
         "stats": {
          "unique_count": 1,
          "nan_count": 0,
          "min": "1",
          "max": "1",
          "histogram": [
           {
            "bin_start": 0.5,
            "bin_end": 0.6,
            "count": 0
           },
           {
            "bin_start": 0.6,
            "bin_end": 0.7,
            "count": 0
           },
           {
            "bin_start": 0.7,
            "bin_end": 0.8,
            "count": 0
           },
           {
            "bin_start": 0.8,
            "bin_end": 0.9,
            "count": 0
           },
           {
            "bin_start": 0.9,
            "bin_end": 1,
            "count": 0
           },
           {
            "bin_start": 1,
            "bin_end": 1.1,
            "count": 1
           },
           {
            "bin_start": 1.1,
            "bin_end": 1.2000000000000002,
            "count": 0
           },
           {
            "bin_start": 1.2000000000000002,
            "bin_end": 1.3,
            "count": 0
           },
           {
            "bin_start": 1.3,
            "bin_end": 1.4,
            "count": 0
           },
           {
            "bin_start": 1.4,
            "bin_end": 1.5,
            "count": 0
           }
          ]
         }
        },
        {
         "name": "phones",
         "dtype": "int64",
         "stats": {
          "unique_count": 1,
          "nan_count": 0,
          "min": "1",
          "max": "1",
          "histogram": [
           {
            "bin_start": 0.5,
            "bin_end": 0.6,
            "count": 0
           },
           {
            "bin_start": 0.6,
            "bin_end": 0.7,
            "count": 0
           },
           {
            "bin_start": 0.7,
            "bin_end": 0.8,
            "count": 0
           },
           {
            "bin_start": 0.8,
            "bin_end": 0.9,
            "count": 0
           },
           {
            "bin_start": 0.9,
            "bin_end": 1,
            "count": 0
           },
           {
            "bin_start": 1,
            "bin_end": 1.1,
            "count": 1
           },
           {
            "bin_start": 1.1,
            "bin_end": 1.2000000000000002,
            "count": 0
           },
           {
            "bin_start": 1.2000000000000002,
            "bin_end": 1.3,
            "count": 0
           },
           {
            "bin_start": 1.3,
            "bin_end": 1.4,
            "count": 0
           },
           {
            "bin_start": 1.4,
            "bin_end": 1.5,
            "count": 0
           }
          ]
         }
        },
        {
         "name": "building_id",
         "dtype": "int64",
         "stats": {
          "unique_count": 1,
          "nan_count": 0,
          "min": "6542",
          "max": "6542",
          "histogram": [
           {
            "bin_start": 6541.5,
            "bin_end": 6541.6,
            "count": 0
           },
           {
            "bin_start": 6541.6,
            "bin_end": 6541.7,
            "count": 0
           },
           {
            "bin_start": 6541.7,
            "bin_end": 6541.8,
            "count": 0
           },
           {
            "bin_start": 6541.8,
            "bin_end": 6541.9,
            "count": 0
           },
           {
            "bin_start": 6541.9,
            "bin_end": 6542,
            "count": 0
           },
           {
            "bin_start": 6542,
            "bin_end": 6542.1,
            "count": 1
           },
           {
            "bin_start": 6542.1,
            "bin_end": 6542.2,
            "count": 0
           },
           {
            "bin_start": 6542.2,
            "bin_end": 6542.3,
            "count": 0
           },
           {
            "bin_start": 6542.3,
            "bin_end": 6542.4,
            "count": 0
           },
           {
            "bin_start": 6542.4,
            "bin_end": 6542.5,
            "count": 0
           }
          ]
         }
        },
        {
         "name": "new",
         "dtype": "int64",
         "stats": {
          "unique_count": 1,
          "nan_count": 0,
          "min": "1",
          "max": "1",
          "histogram": [
           {
            "bin_start": 0.5,
            "bin_end": 0.6,
            "count": 0
           },
           {
            "bin_start": 0.6,
            "bin_end": 0.7,
            "count": 0
           },
           {
            "bin_start": 0.7,
            "bin_end": 0.8,
            "count": 0
           },
           {
            "bin_start": 0.8,
            "bin_end": 0.9,
            "count": 0
           },
           {
            "bin_start": 0.9,
            "bin_end": 1,
            "count": 0
           },
           {
            "bin_start": 1,
            "bin_end": 1.1,
            "count": 1
           },
           {
            "bin_start": 1.1,
            "bin_end": 1.2000000000000002,
            "count": 0
           },
           {
            "bin_start": 1.2000000000000002,
            "bin_end": 1.3,
            "count": 0
           },
           {
            "bin_start": 1.3,
            "bin_end": 1.4,
            "count": 0
           },
           {
            "bin_start": 1.4,
            "bin_end": 1.5,
            "count": 0
           }
          ]
         }
        },
        {
         "name": "district",
         "dtype": "int64",
         "stats": {
          "unique_count": 1,
          "nan_count": 0,
          "min": "8",
          "max": "8",
          "histogram": [
           {
            "bin_start": 7.5,
            "bin_end": 7.6,
            "count": 0
           },
           {
            "bin_start": 7.6,
            "bin_end": 7.7,
            "count": 0
           },
           {
            "bin_start": 7.7,
            "bin_end": 7.8,
            "count": 0
           },
           {
            "bin_start": 7.8,
            "bin_end": 7.9,
            "count": 0
           },
           {
            "bin_start": 7.9,
            "bin_end": 8,
            "count": 0
           },
           {
            "bin_start": 8,
            "bin_end": 8.1,
            "count": 1
           },
           {
            "bin_start": 8.1,
            "bin_end": 8.2,
            "count": 0
           },
           {
            "bin_start": 8.2,
            "bin_end": 8.3,
            "count": 0
           },
           {
            "bin_start": 8.3,
            "bin_end": 8.4,
            "count": 0
           },
           {
            "bin_start": 8.4,
            "bin_end": 8.5,
            "count": 0
           }
          ]
         }
        },
        {
         "name": "constructed",
         "dtype": "int64",
         "stats": {
          "unique_count": 1,
          "nan_count": 0,
          "min": "2011",
          "max": "2011",
          "histogram": [
           {
            "bin_start": 2010.5,
            "bin_end": 2010.6,
            "count": 0
           },
           {
            "bin_start": 2010.6,
            "bin_end": 2010.7,
            "count": 0
           },
           {
            "bin_start": 2010.7,
            "bin_end": 2010.8,
            "count": 0
           },
           {
            "bin_start": 2010.8,
            "bin_end": 2010.9,
            "count": 0
           },
           {
            "bin_start": 2010.9,
            "bin_end": 2011,
            "count": 0
           },
           {
            "bin_start": 2011,
            "bin_end": 2011.1,
            "count": 1
           },
           {
            "bin_start": 2011.1,
            "bin_end": 2011.2,
            "count": 0
           },
           {
            "bin_start": 2011.2,
            "bin_end": 2011.3,
            "count": 0
           },
           {
            "bin_start": 2011.3,
            "bin_end": 2011.4,
            "count": 0
           },
           {
            "bin_start": 2011.4,
            "bin_end": 2011.5,
            "count": 0
           }
          ]
         }
        },
        {
         "name": "material",
         "dtype": "int64",
         "stats": {
          "unique_count": 1,
          "nan_count": 0,
          "min": "2",
          "max": "2",
          "histogram": [
           {
            "bin_start": 1.5,
            "bin_end": 1.6,
            "count": 0
           },
           {
            "bin_start": 1.6,
            "bin_end": 1.7,
            "count": 0
           },
           {
            "bin_start": 1.7,
            "bin_end": 1.8,
            "count": 0
           },
           {
            "bin_start": 1.8,
            "bin_end": 1.9,
            "count": 0
           },
           {
            "bin_start": 1.9,
            "bin_end": 2,
            "count": 0
           },
           {
            "bin_start": 2,
            "bin_end": 2.1,
            "count": 1
           },
           {
            "bin_start": 2.1,
            "bin_end": 2.2,
            "count": 0
           },
           {
            "bin_start": 2.2,
            "bin_end": 2.3,
            "count": 0
           },
           {
            "bin_start": 2.3,
            "bin_end": 2.4,
            "count": 0
           },
           {
            "bin_start": 2.4,
            "bin_end": 2.5,
            "count": 0
           }
          ]
         }
        },
        {
         "name": "stories",
         "dtype": "int64",
         "stats": {
          "unique_count": 1,
          "nan_count": 0,
          "min": "18",
          "max": "18",
          "histogram": [
           {
            "bin_start": 17.5,
            "bin_end": 17.6,
            "count": 0
           },
           {
            "bin_start": 17.6,
            "bin_end": 17.7,
            "count": 0
           },
           {
            "bin_start": 17.7,
            "bin_end": 17.8,
            "count": 0
           },
           {
            "bin_start": 17.8,
            "bin_end": 17.9,
            "count": 0
           },
           {
            "bin_start": 17.9,
            "bin_end": 18,
            "count": 0
           },
           {
            "bin_start": 18,
            "bin_end": 18.1,
            "count": 1
           },
           {
            "bin_start": 18.1,
            "bin_end": 18.2,
            "count": 0
           },
           {
            "bin_start": 18.2,
            "bin_end": 18.3,
            "count": 0
           },
           {
            "bin_start": 18.3,
            "bin_end": 18.4,
            "count": 0
           },
           {
            "bin_start": 18.4,
            "bin_end": 18.5,
            "count": 0
           }
          ]
         }
        },
        {
         "name": "elevator_without",
         "dtype": "int64",
         "stats": {
          "unique_count": 1,
          "nan_count": 0,
          "min": "0",
          "max": "0",
          "histogram": [
           {
            "bin_start": -0.5,
            "bin_end": -0.4,
            "count": 0
           },
           {
            "bin_start": -0.4,
            "bin_end": -0.3,
            "count": 0
           },
           {
            "bin_start": -0.3,
            "bin_end": -0.19999999999999996,
            "count": 0
           },
           {
            "bin_start": -0.19999999999999996,
            "bin_end": -0.09999999999999998,
            "count": 0
           },
           {
            "bin_start": -0.09999999999999998,
            "bin_end": 0,
            "count": 0
           },
           {
            "bin_start": 0,
            "bin_end": 0.10000000000000009,
            "count": 1
           },
           {
            "bin_start": 0.10000000000000009,
            "bin_end": 0.20000000000000007,
            "count": 0
           },
           {
            "bin_start": 0.20000000000000007,
            "bin_end": 0.30000000000000004,
            "count": 0
           },
           {
            "bin_start": 0.30000000000000004,
            "bin_end": 0.4,
            "count": 0
           },
           {
            "bin_start": 0.4,
            "bin_end": 0.5,
            "count": 0
           }
          ]
         }
        },
        {
         "name": "elevator_passenger",
         "dtype": "int64",
         "stats": {
          "unique_count": 1,
          "nan_count": 0,
          "min": "1",
          "max": "1",
          "histogram": [
           {
            "bin_start": 0.5,
            "bin_end": 0.6,
            "count": 0
           },
           {
            "bin_start": 0.6,
            "bin_end": 0.7,
            "count": 0
           },
           {
            "bin_start": 0.7,
            "bin_end": 0.8,
            "count": 0
           },
           {
            "bin_start": 0.8,
            "bin_end": 0.9,
            "count": 0
           },
           {
            "bin_start": 0.9,
            "bin_end": 1,
            "count": 0
           },
           {
            "bin_start": 1,
            "bin_end": 1.1,
            "count": 1
           },
           {
            "bin_start": 1.1,
            "bin_end": 1.2000000000000002,
            "count": 0
           },
           {
            "bin_start": 1.2000000000000002,
            "bin_end": 1.3,
            "count": 0
           },
           {
            "bin_start": 1.3,
            "bin_end": 1.4,
            "count": 0
           },
           {
            "bin_start": 1.4,
            "bin_end": 1.5,
            "count": 0
           }
          ]
         }
        },
        {
         "name": "elevator_service",
         "dtype": "int64",
         "stats": {
          "unique_count": 1,
          "nan_count": 0,
          "min": "1",
          "max": "1",
          "histogram": [
           {
            "bin_start": 0.5,
            "bin_end": 0.6,
            "count": 0
           },
           {
            "bin_start": 0.6,
            "bin_end": 0.7,
            "count": 0
           },
           {
            "bin_start": 0.7,
            "bin_end": 0.8,
            "count": 0
           },
           {
            "bin_start": 0.8,
            "bin_end": 0.9,
            "count": 0
           },
           {
            "bin_start": 0.9,
            "bin_end": 1,
            "count": 0
           },
           {
            "bin_start": 1,
            "bin_end": 1.1,
            "count": 1
           },
           {
            "bin_start": 1.1,
            "bin_end": 1.2000000000000002,
            "count": 0
           },
           {
            "bin_start": 1.2000000000000002,
            "bin_end": 1.3,
            "count": 0
           },
           {
            "bin_start": 1.3,
            "bin_end": 1.4,
            "count": 0
           },
           {
            "bin_start": 1.4,
            "bin_end": 1.5,
            "count": 0
           }
          ]
         }
        },
        {
         "name": "parking",
         "dtype": "int64",
         "stats": {
          "unique_count": 1,
          "nan_count": 0,
          "min": "0",
          "max": "0",
          "histogram": [
           {
            "bin_start": -0.5,
            "bin_end": -0.4,
            "count": 0
           },
           {
            "bin_start": -0.4,
            "bin_end": -0.3,
            "count": 0
           },
           {
            "bin_start": -0.3,
            "bin_end": -0.19999999999999996,
            "count": 0
           },
           {
            "bin_start": -0.19999999999999996,
            "bin_end": -0.09999999999999998,
            "count": 0
           },
           {
            "bin_start": -0.09999999999999998,
            "bin_end": 0,
            "count": 0
           },
           {
            "bin_start": 0,
            "bin_end": 0.10000000000000009,
            "count": 1
           },
           {
            "bin_start": 0.10000000000000009,
            "bin_end": 0.20000000000000007,
            "count": 0
           },
           {
            "bin_start": 0.20000000000000007,
            "bin_end": 0.30000000000000004,
            "count": 0
           },
           {
            "bin_start": 0.30000000000000004,
            "bin_end": 0.4,
            "count": 0
           },
           {
            "bin_start": 0.4,
            "bin_end": 0.5,
            "count": 0
           }
          ]
         }
        },
        {
         "name": "garbage_chute",
         "dtype": "int64",
         "stats": {
          "unique_count": 1,
          "nan_count": 0,
          "min": "1",
          "max": "1",
          "histogram": [
           {
            "bin_start": 0.5,
            "bin_end": 0.6,
            "count": 0
           },
           {
            "bin_start": 0.6,
            "bin_end": 0.7,
            "count": 0
           },
           {
            "bin_start": 0.7,
            "bin_end": 0.8,
            "count": 0
           },
           {
            "bin_start": 0.8,
            "bin_end": 0.9,
            "count": 0
           },
           {
            "bin_start": 0.9,
            "bin_end": 1,
            "count": 0
           },
           {
            "bin_start": 1,
            "bin_end": 1.1,
            "count": 1
           },
           {
            "bin_start": 1.1,
            "bin_end": 1.2000000000000002,
            "count": 0
           },
           {
            "bin_start": 1.2000000000000002,
            "bin_end": 1.3,
            "count": 0
           },
           {
            "bin_start": 1.3,
            "bin_end": 1.4,
            "count": 0
           },
           {
            "bin_start": 1.4,
            "bin_end": 1.5,
            "count": 0
           }
          ]
         }
        },
        {
         "name": "heating",
         "dtype": "int64",
         "stats": {
          "unique_count": 1,
          "nan_count": 0,
          "min": "0",
          "max": "0",
          "histogram": [
           {
            "bin_start": -0.5,
            "bin_end": -0.4,
            "count": 0
           },
           {
            "bin_start": -0.4,
            "bin_end": -0.3,
            "count": 0
           },
           {
            "bin_start": -0.3,
            "bin_end": -0.19999999999999996,
            "count": 0
           },
           {
            "bin_start": -0.19999999999999996,
            "bin_end": -0.09999999999999998,
            "count": 0
           },
           {
            "bin_start": -0.09999999999999998,
            "bin_end": 0,
            "count": 0
           },
           {
            "bin_start": 0,
            "bin_end": 0.10000000000000009,
            "count": 1
           },
           {
            "bin_start": 0.10000000000000009,
            "bin_end": 0.20000000000000007,
            "count": 0
           },
           {
            "bin_start": 0.20000000000000007,
            "bin_end": 0.30000000000000004,
            "count": 0
           },
           {
            "bin_start": 0.30000000000000004,
            "bin_end": 0.4,
            "count": 0
           },
           {
            "bin_start": 0.4,
            "bin_end": 0.5,
            "count": 0
           }
          ]
         }
        },
        {
         "name": "price/area",
         "dtype": "float64",
         "stats": {
          "unique_count": 1,
          "nan_count": 0,
          "min": "318069.9852143913",
          "max": "318069.9852143913",
          "histogram": [
           {
            "bin_start": 318069.4852143913,
            "bin_end": 318069.5852143913,
            "count": 0
           },
           {
            "bin_start": 318069.5852143913,
            "bin_end": 318069.6852143913,
            "count": 0
           },
           {
            "bin_start": 318069.6852143913,
            "bin_end": 318069.7852143913,
            "count": 0
           },
           {
            "bin_start": 318069.7852143913,
            "bin_end": 318069.88521439134,
            "count": 0
           },
           {
            "bin_start": 318069.88521439134,
            "bin_end": 318069.9852143913,
            "count": 0
           },
           {
            "bin_start": 318069.9852143913,
            "bin_end": 318070.0852143913,
            "count": 1
           },
           {
            "bin_start": 318070.0852143913,
            "bin_end": 318070.1852143913,
            "count": 0
           },
           {
            "bin_start": 318070.1852143913,
            "bin_end": 318070.2852143913,
            "count": 0
           },
           {
            "bin_start": 318070.2852143913,
            "bin_end": 318070.38521439134,
            "count": 0
           },
           {
            "bin_start": 318070.38521439134,
            "bin_end": 318070.4852143913,
            "count": 0
           }
          ]
         }
        },
        {
         "name": "distance",
         "dtype": "float64",
         "stats": {
          "unique_count": 1,
          "nan_count": 0,
          "min": "0.11514983501942284",
          "max": "0.11514983501942284",
          "histogram": [
           {
            "bin_start": -0.38485016498057717,
            "bin_end": -0.28485016498057714,
            "count": 0
           },
           {
            "bin_start": -0.28485016498057714,
            "bin_end": -0.18485016498057716,
            "count": 0
           },
           {
            "bin_start": -0.18485016498057716,
            "bin_end": -0.08485016498057713,
            "count": 0
           },
           {
            "bin_start": -0.08485016498057713,
            "bin_end": 0.015149835019422853,
            "count": 0
           },
           {
            "bin_start": 0.015149835019422853,
            "bin_end": 0.11514983501942283,
            "count": 0
           },
           {
            "bin_start": 0.11514983501942283,
            "bin_end": 0.21514983501942292,
            "count": 1
           },
           {
            "bin_start": 0.21514983501942292,
            "bin_end": 0.3151498350194229,
            "count": 0
           },
           {
            "bin_start": 0.3151498350194229,
            "bin_end": 0.4151498350194229,
            "count": 0
           },
           {
            "bin_start": 0.4151498350194229,
            "bin_end": 0.5151498350194228,
            "count": 0
           },
           {
            "bin_start": 0.5151498350194228,
            "bin_end": 0.6151498350194229,
            "count": 0
           }
          ]
         }
        },
        {
         "name": "street",
         "dtype": "object",
         "stats": {
          "unique_count": 1,
          "nan_count": 0,
          "categories": [
           {
            "name": "улица Маршала Рыбалко",
            "count": 1
           }
          ]
         }
        },
        {
         "name": "_deepnote_index_column",
         "dtype": "int64"
        }
       ],
       "rows_top": [
        {
         "id": 455,
         "seller": 3,
         "price": 32268200,
         "area_total": 101.45,
         "area_kitchen": 14.319999999999999,
         "area_living": 78.16,
         "floor": 1,
         "rooms": 3,
         "layout": 1,
         "ceiling": 3,
         "bathrooms_shared": 1,
         "bathrooms_private": 1,
         "windows_court": 1,
         "windows_street": 1,
         "balconies": 1,
         "loggias": 0,
         "condition": 1,
         "phones": 1,
         "building_id": 6542,
         "new": 1,
         "district": 8,
         "constructed": 2011,
         "material": 2,
         "stories": 18,
         "elevator_without": 0,
         "elevator_passenger": 1,
         "elevator_service": 1,
         "parking": 0,
         "garbage_chute": 1,
         "heating": 0,
         "price/area": 318069.9852143913,
         "distance": 0.11514983501942284,
         "street": "улица Маршала Рыбалко",
         "_deepnote_index_column": 455
        }
       ],
       "rows_bottom": null
      },
      "text/plain": "      id  seller       price  area_total  area_kitchen  area_living  floor  \\\n455  455       3  32268200.0      101.45         14.32        78.16      1   \n\n     rooms  layout  ceiling  ...  stories  elevator_without  \\\n455      3       1        3  ...       18                 0   \n\n     elevator_passenger  elevator_service  parking  garbage_chute  heating  \\\n455                   1                 1        0              1        0   \n\n        price/area  distance                 street  \n455  318069.985214   0.11515  улица Маршала Рыбалко  \n\n[1 rows x 33 columns]",
      "text/html": "<div>\n<style scoped>\n    .dataframe tbody tr th:only-of-type {\n        vertical-align: middle;\n    }\n\n    .dataframe tbody tr th {\n        vertical-align: top;\n    }\n\n    .dataframe thead th {\n        text-align: right;\n    }\n</style>\n<table border=\"1\" class=\"dataframe\">\n  <thead>\n    <tr style=\"text-align: right;\">\n      <th></th>\n      <th>id</th>\n      <th>seller</th>\n      <th>price</th>\n      <th>area_total</th>\n      <th>area_kitchen</th>\n      <th>area_living</th>\n      <th>floor</th>\n      <th>rooms</th>\n      <th>layout</th>\n      <th>ceiling</th>\n      <th>...</th>\n      <th>stories</th>\n      <th>elevator_without</th>\n      <th>elevator_passenger</th>\n      <th>elevator_service</th>\n      <th>parking</th>\n      <th>garbage_chute</th>\n      <th>heating</th>\n      <th>price/area</th>\n      <th>distance</th>\n      <th>street</th>\n    </tr>\n  </thead>\n  <tbody>\n    <tr>\n      <th>455</th>\n      <td>455</td>\n      <td>3</td>\n      <td>32268200.0</td>\n      <td>101.45</td>\n      <td>14.32</td>\n      <td>78.16</td>\n      <td>1</td>\n      <td>3</td>\n      <td>1</td>\n      <td>3</td>\n      <td>...</td>\n      <td>18</td>\n      <td>0</td>\n      <td>1</td>\n      <td>1</td>\n      <td>0</td>\n      <td>1</td>\n      <td>0</td>\n      <td>318069.985214</td>\n      <td>0.11515</td>\n      <td>улица Маршала Рыбалко</td>\n    </tr>\n  </tbody>\n</table>\n<p>1 rows × 33 columns</p>\n</div>"
     },
     "metadata": {}
    }
   ],
   "execution_count": null
  },
  {
   "cell_type": "code",
   "metadata": {
    "tags": [],
    "cell_id": "00023-1a541bd1-9c01-44c5-a6e3-b382a19e1423",
    "deepnote_to_be_reexecuted": false,
    "source_hash": "509fc3fe",
    "execution_start": 1637350183336,
    "execution_millis": 12,
    "deepnote_cell_type": "code"
   },
   "source": "#df_train['floor/stories'] = df_train.floor/df_train.stories\n#df_test['floor/stories'] = df_test.floor/df_test.stories\n\n#df_train['distance'] = np.sqrt((37.6 - df_train['longitude'])**2 + (55.75 - df_train['latitude'])**2)\n#df_test['distance'] = np.sqrt((37.6 - df_test['longitude'])**2 + (55.75 - df_test['latitude'])**2)\n# happens further up",
   "outputs": [],
   "execution_count": null
  },
  {
   "cell_type": "code",
   "metadata": {
    "tags": [],
    "cell_id": "00025-c7dcec12-f73c-493a-989b-4ce3679be906",
    "deepnote_to_be_reexecuted": false,
    "source_hash": "ada10ea4",
    "execution_start": 1637350595457,
    "execution_millis": 0,
    "deepnote_cell_type": "code"
   },
   "source": "df_train = df1\ndf_test = df1_test",
   "outputs": [],
   "execution_count": null
  },
  {
   "cell_type": "code",
   "metadata": {
    "tags": [],
    "cell_id": "00026-24543240-a80a-4d25-bf87-97c90f97da91",
    "deepnote_to_be_reexecuted": false,
    "source_hash": "b20afeba",
    "execution_start": 1637350211027,
    "execution_millis": 1,
    "deepnote_output_heights": [
     21
    ],
    "deepnote_cell_type": "code"
   },
   "source": "df_test.shape",
   "outputs": [
    {
     "output_type": "execute_result",
     "execution_count": 29,
     "data": {
      "text/plain": "(9937, 32)"
     },
     "metadata": {}
    }
   ],
   "execution_count": null
  },
  {
   "cell_type": "code",
   "metadata": {
    "tags": [],
    "cell_id": "00027-aa2b3c2c-28a2-4006-81ca-dd0ab8b5f414",
    "deepnote_to_be_reexecuted": false,
    "source_hash": "db981d08",
    "execution_start": 1637350221568,
    "execution_millis": 2,
    "deepnote_output_heights": [
     21
    ],
    "deepnote_cell_type": "code"
   },
   "source": "df_train.shape",
   "outputs": [
    {
     "output_type": "execute_result",
     "execution_count": 30,
     "data": {
      "text/plain": "(23237, 33)"
     },
     "metadata": {}
    }
   ],
   "execution_count": null
  },
  {
   "cell_type": "code",
   "metadata": {
    "tags": [],
    "cell_id": "00028-75faaede-8797-4bb8-bb07-da9206be0865",
    "deepnote_to_be_reexecuted": false,
    "source_hash": "6d8343f0",
    "execution_start": 1637350469659,
    "execution_millis": 166,
    "deepnote_cell_type": "code"
   },
   "source": "X1_test.head()",
   "outputs": [
    {
     "output_type": "execute_result",
     "execution_count": 40,
     "data": {
      "application/vnd.deepnote.dataframe.v2+json": {
       "row_count": 5,
       "column_count": 23,
       "columns": [
        {
         "name": "area_total",
         "dtype": "float64",
         "stats": {
          "unique_count": 5,
          "nan_count": 0,
          "min": "34.0",
          "max": "71.4",
          "histogram": [
           {
            "bin_start": 34,
            "bin_end": 37.74,
            "count": 1
           },
           {
            "bin_start": 37.74,
            "bin_end": 41.480000000000004,
            "count": 1
           },
           {
            "bin_start": 41.480000000000004,
            "bin_end": 45.22,
            "count": 0
           },
           {
            "bin_start": 45.22,
            "bin_end": 48.96,
            "count": 0
           },
           {
            "bin_start": 48.96,
            "bin_end": 52.7,
            "count": 0
           },
           {
            "bin_start": 52.7,
            "bin_end": 56.440000000000005,
            "count": 1
           },
           {
            "bin_start": 56.440000000000005,
            "bin_end": 60.18000000000001,
            "count": 0
           },
           {
            "bin_start": 60.18000000000001,
            "bin_end": 63.92,
            "count": 1
           },
           {
            "bin_start": 63.92,
            "bin_end": 67.66,
            "count": 0
           },
           {
            "bin_start": 67.66,
            "bin_end": 71.4,
            "count": 1
           }
          ]
         }
        },
        {
         "name": "area_kitchen",
         "dtype": "float64",
         "stats": {
          "unique_count": 3,
          "nan_count": 2,
          "min": "4.0",
          "max": "19.6",
          "histogram": [
           {
            "bin_start": 4,
            "bin_end": 5.5600000000000005,
            "count": 1
           },
           {
            "bin_start": 5.5600000000000005,
            "bin_end": 7.12,
            "count": 0
           },
           {
            "bin_start": 7.12,
            "bin_end": 8.68,
            "count": 0
           },
           {
            "bin_start": 8.68,
            "bin_end": 10.24,
            "count": 1
           },
           {
            "bin_start": 10.24,
            "bin_end": 11.8,
            "count": 0
           },
           {
            "bin_start": 11.8,
            "bin_end": 13.36,
            "count": 0
           },
           {
            "bin_start": 13.36,
            "bin_end": 14.92,
            "count": 0
           },
           {
            "bin_start": 14.92,
            "bin_end": 16.48,
            "count": 0
           },
           {
            "bin_start": 16.48,
            "bin_end": 18.04,
            "count": 0
           },
           {
            "bin_start": 18.04,
            "bin_end": 19.6,
            "count": 1
           }
          ]
         }
        },
        {
         "name": "area_living",
         "dtype": "float64",
         "stats": {
          "unique_count": 3,
          "nan_count": 2,
          "min": "11.2",
          "max": "50.0",
          "histogram": [
           {
            "bin_start": 11.2,
            "bin_end": 15.079999999999998,
            "count": 1
           },
           {
            "bin_start": 15.079999999999998,
            "bin_end": 18.96,
            "count": 1
           },
           {
            "bin_start": 18.96,
            "bin_end": 22.84,
            "count": 0
           },
           {
            "bin_start": 22.84,
            "bin_end": 26.72,
            "count": 0
           },
           {
            "bin_start": 26.72,
            "bin_end": 30.599999999999998,
            "count": 0
           },
           {
            "bin_start": 30.599999999999998,
            "bin_end": 34.480000000000004,
            "count": 0
           },
           {
            "bin_start": 34.480000000000004,
            "bin_end": 38.36,
            "count": 0
           },
           {
            "bin_start": 38.36,
            "bin_end": 42.239999999999995,
            "count": 0
           },
           {
            "bin_start": 42.239999999999995,
            "bin_end": 46.120000000000005,
            "count": 0
           },
           {
            "bin_start": 46.120000000000005,
            "bin_end": 50,
            "count": 1
           }
          ]
         }
        },
        {
         "name": "floor",
         "dtype": "float64",
         "stats": {
          "unique_count": 5,
          "nan_count": 0,
          "min": "2.0",
          "max": "14.0",
          "histogram": [
           {
            "bin_start": 2,
            "bin_end": 3.2,
            "count": 1
           },
           {
            "bin_start": 3.2,
            "bin_end": 4.4,
            "count": 1
           },
           {
            "bin_start": 4.4,
            "bin_end": 5.6,
            "count": 1
           },
           {
            "bin_start": 5.6,
            "bin_end": 6.8,
            "count": 0
           },
           {
            "bin_start": 6.8,
            "bin_end": 8,
            "count": 0
           },
           {
            "bin_start": 8,
            "bin_end": 9.2,
            "count": 0
           },
           {
            "bin_start": 9.2,
            "bin_end": 10.4,
            "count": 1
           },
           {
            "bin_start": 10.4,
            "bin_end": 11.6,
            "count": 0
           },
           {
            "bin_start": 11.6,
            "bin_end": 12.799999999999999,
            "count": 0
           },
           {
            "bin_start": 12.799999999999999,
            "bin_end": 14,
            "count": 1
           }
          ]
         }
        },
        {
         "name": "rooms",
         "dtype": "float64",
         "stats": {
          "unique_count": 2,
          "nan_count": 0,
          "min": "1.0",
          "max": "2.0",
          "histogram": [
           {
            "bin_start": 1,
            "bin_end": 1.1,
            "count": 4
           },
           {
            "bin_start": 1.1,
            "bin_end": 1.2,
            "count": 0
           },
           {
            "bin_start": 1.2,
            "bin_end": 1.3,
            "count": 0
           },
           {
            "bin_start": 1.3,
            "bin_end": 1.4,
            "count": 0
           },
           {
            "bin_start": 1.4,
            "bin_end": 1.5,
            "count": 0
           },
           {
            "bin_start": 1.5,
            "bin_end": 1.6,
            "count": 0
           },
           {
            "bin_start": 1.6,
            "bin_end": 1.7000000000000002,
            "count": 0
           },
           {
            "bin_start": 1.7000000000000002,
            "bin_end": 1.8,
            "count": 0
           },
           {
            "bin_start": 1.8,
            "bin_end": 1.9,
            "count": 0
           },
           {
            "bin_start": 1.9,
            "bin_end": 2,
            "count": 1
           }
          ]
         }
        },
        {
         "name": "layout",
         "dtype": "float64",
         "stats": {
          "unique_count": 1,
          "nan_count": 4,
          "min": "1.0",
          "max": "1.0",
          "histogram": [
           {
            "bin_start": 0.5,
            "bin_end": 0.6,
            "count": 0
           },
           {
            "bin_start": 0.6,
            "bin_end": 0.7,
            "count": 0
           },
           {
            "bin_start": 0.7,
            "bin_end": 0.8,
            "count": 0
           },
           {
            "bin_start": 0.8,
            "bin_end": 0.9,
            "count": 0
           },
           {
            "bin_start": 0.9,
            "bin_end": 1,
            "count": 0
           },
           {
            "bin_start": 1,
            "bin_end": 1.1,
            "count": 1
           },
           {
            "bin_start": 1.1,
            "bin_end": 1.2000000000000002,
            "count": 0
           },
           {
            "bin_start": 1.2000000000000002,
            "bin_end": 1.3,
            "count": 0
           },
           {
            "bin_start": 1.3,
            "bin_end": 1.4,
            "count": 0
           },
           {
            "bin_start": 1.4,
            "bin_end": 1.5,
            "count": 0
           }
          ]
         }
        },
        {
         "name": "windows_court",
         "dtype": "float64",
         "stats": {
          "unique_count": 2,
          "nan_count": 0,
          "min": "0.0",
          "max": "1.0",
          "histogram": [
           {
            "bin_start": 0,
            "bin_end": 0.1,
            "count": 1
           },
           {
            "bin_start": 0.1,
            "bin_end": 0.2,
            "count": 0
           },
           {
            "bin_start": 0.2,
            "bin_end": 0.30000000000000004,
            "count": 0
           },
           {
            "bin_start": 0.30000000000000004,
            "bin_end": 0.4,
            "count": 0
           },
           {
            "bin_start": 0.4,
            "bin_end": 0.5,
            "count": 0
           },
           {
            "bin_start": 0.5,
            "bin_end": 0.6000000000000001,
            "count": 0
           },
           {
            "bin_start": 0.6000000000000001,
            "bin_end": 0.7000000000000001,
            "count": 0
           },
           {
            "bin_start": 0.7000000000000001,
            "bin_end": 0.8,
            "count": 0
           },
           {
            "bin_start": 0.8,
            "bin_end": 0.9,
            "count": 0
           },
           {
            "bin_start": 0.9,
            "bin_end": 1,
            "count": 4
           }
          ]
         }
        },
        {
         "name": "windows_street",
         "dtype": "float64",
         "stats": {
          "unique_count": 2,
          "nan_count": 0,
          "min": "0.0",
          "max": "1.0",
          "histogram": [
           {
            "bin_start": 0,
            "bin_end": 0.1,
            "count": 4
           },
           {
            "bin_start": 0.1,
            "bin_end": 0.2,
            "count": 0
           },
           {
            "bin_start": 0.2,
            "bin_end": 0.30000000000000004,
            "count": 0
           },
           {
            "bin_start": 0.30000000000000004,
            "bin_end": 0.4,
            "count": 0
           },
           {
            "bin_start": 0.4,
            "bin_end": 0.5,
            "count": 0
           },
           {
            "bin_start": 0.5,
            "bin_end": 0.6000000000000001,
            "count": 0
           },
           {
            "bin_start": 0.6000000000000001,
            "bin_end": 0.7000000000000001,
            "count": 0
           },
           {
            "bin_start": 0.7000000000000001,
            "bin_end": 0.8,
            "count": 0
           },
           {
            "bin_start": 0.8,
            "bin_end": 0.9,
            "count": 0
           },
           {
            "bin_start": 0.9,
            "bin_end": 1,
            "count": 1
           }
          ]
         }
        },
        {
         "name": "balconies",
         "dtype": "float64",
         "stats": {
          "unique_count": 2,
          "nan_count": 3,
          "min": "0.0",
          "max": "1.0",
          "histogram": [
           {
            "bin_start": 0,
            "bin_end": 0.1,
            "count": 1
           },
           {
            "bin_start": 0.1,
            "bin_end": 0.2,
            "count": 0
           },
           {
            "bin_start": 0.2,
            "bin_end": 0.30000000000000004,
            "count": 0
           },
           {
            "bin_start": 0.30000000000000004,
            "bin_end": 0.4,
            "count": 0
           },
           {
            "bin_start": 0.4,
            "bin_end": 0.5,
            "count": 0
           },
           {
            "bin_start": 0.5,
            "bin_end": 0.6000000000000001,
            "count": 0
           },
           {
            "bin_start": 0.6000000000000001,
            "bin_end": 0.7000000000000001,
            "count": 0
           },
           {
            "bin_start": 0.7000000000000001,
            "bin_end": 0.8,
            "count": 0
           },
           {
            "bin_start": 0.8,
            "bin_end": 0.9,
            "count": 0
           },
           {
            "bin_start": 0.9,
            "bin_end": 1,
            "count": 1
           }
          ]
         }
        },
        {
         "name": "condition",
         "dtype": "float64",
         "stats": {
          "unique_count": 3,
          "nan_count": 1,
          "min": "0.0",
          "max": "3.0",
          "histogram": [
           {
            "bin_start": 0,
            "bin_end": 0.3,
            "count": 2
           },
           {
            "bin_start": 0.3,
            "bin_end": 0.6,
            "count": 0
           },
           {
            "bin_start": 0.6,
            "bin_end": 0.8999999999999999,
            "count": 0
           },
           {
            "bin_start": 0.8999999999999999,
            "bin_end": 1.2,
            "count": 1
           },
           {
            "bin_start": 1.2,
            "bin_end": 1.5,
            "count": 0
           },
           {
            "bin_start": 1.5,
            "bin_end": 1.7999999999999998,
            "count": 0
           },
           {
            "bin_start": 1.7999999999999998,
            "bin_end": 2.1,
            "count": 0
           },
           {
            "bin_start": 2.1,
            "bin_end": 2.4,
            "count": 0
           },
           {
            "bin_start": 2.4,
            "bin_end": 2.6999999999999997,
            "count": 0
           },
           {
            "bin_start": 2.6999999999999997,
            "bin_end": 3,
            "count": 1
           }
          ]
         }
        },
        {
         "name": "phones",
         "dtype": "float64",
         "stats": {
          "unique_count": 1,
          "nan_count": 0,
          "min": "1.0",
          "max": "1.0",
          "histogram": [
           {
            "bin_start": 0.5,
            "bin_end": 0.6,
            "count": 0
           },
           {
            "bin_start": 0.6,
            "bin_end": 0.7,
            "count": 0
           },
           {
            "bin_start": 0.7,
            "bin_end": 0.8,
            "count": 0
           },
           {
            "bin_start": 0.8,
            "bin_end": 0.9,
            "count": 0
           },
           {
            "bin_start": 0.9,
            "bin_end": 1,
            "count": 0
           },
           {
            "bin_start": 1,
            "bin_end": 1.1,
            "count": 5
           },
           {
            "bin_start": 1.1,
            "bin_end": 1.2000000000000002,
            "count": 0
           },
           {
            "bin_start": 1.2000000000000002,
            "bin_end": 1.3,
            "count": 0
           },
           {
            "bin_start": 1.3,
            "bin_end": 1.4,
            "count": 0
           },
           {
            "bin_start": 1.4,
            "bin_end": 1.5,
            "count": 0
           }
          ]
         }
        },
        {
         "name": "building_id",
         "dtype": "int64",
         "stats": {
          "unique_count": 5,
          "nan_count": 0,
          "min": "681",
          "max": "7530",
          "histogram": [
           {
            "bin_start": 681,
            "bin_end": 1365.9,
            "count": 2
           },
           {
            "bin_start": 1365.9,
            "bin_end": 2050.8,
            "count": 0
           },
           {
            "bin_start": 2050.8,
            "bin_end": 2735.7,
            "count": 0
           },
           {
            "bin_start": 2735.7,
            "bin_end": 3420.6,
            "count": 0
           },
           {
            "bin_start": 3420.6,
            "bin_end": 4105.5,
            "count": 0
           },
           {
            "bin_start": 4105.5,
            "bin_end": 4790.4,
            "count": 1
           },
           {
            "bin_start": 4790.4,
            "bin_end": 5475.3,
            "count": 1
           },
           {
            "bin_start": 5475.3,
            "bin_end": 6160.2,
            "count": 0
           },
           {
            "bin_start": 6160.2,
            "bin_end": 6845.099999999999,
            "count": 0
           },
           {
            "bin_start": 6845.099999999999,
            "bin_end": 7530,
            "count": 1
           }
          ]
         }
        },
        {
         "name": "new",
         "dtype": "float64",
         "stats": {
          "unique_count": 2,
          "nan_count": 0,
          "min": "0.0",
          "max": "1.0",
          "histogram": [
           {
            "bin_start": 0,
            "bin_end": 0.1,
            "count": 4
           },
           {
            "bin_start": 0.1,
            "bin_end": 0.2,
            "count": 0
           },
           {
            "bin_start": 0.2,
            "bin_end": 0.30000000000000004,
            "count": 0
           },
           {
            "bin_start": 0.30000000000000004,
            "bin_end": 0.4,
            "count": 0
           },
           {
            "bin_start": 0.4,
            "bin_end": 0.5,
            "count": 0
           },
           {
            "bin_start": 0.5,
            "bin_end": 0.6000000000000001,
            "count": 0
           },
           {
            "bin_start": 0.6000000000000001,
            "bin_end": 0.7000000000000001,
            "count": 0
           },
           {
            "bin_start": 0.7000000000000001,
            "bin_end": 0.8,
            "count": 0
           },
           {
            "bin_start": 0.8,
            "bin_end": 0.9,
            "count": 0
           },
           {
            "bin_start": 0.9,
            "bin_end": 1,
            "count": 1
           }
          ]
         }
        },
        {
         "name": "district",
         "dtype": "float64",
         "stats": {
          "unique_count": 2,
          "nan_count": 0,
          "min": "0.0",
          "max": "11.0",
          "histogram": [
           {
            "bin_start": 0,
            "bin_end": 1.1,
            "count": 1
           },
           {
            "bin_start": 1.1,
            "bin_end": 2.2,
            "count": 0
           },
           {
            "bin_start": 2.2,
            "bin_end": 3.3000000000000003,
            "count": 0
           },
           {
            "bin_start": 3.3000000000000003,
            "bin_end": 4.4,
            "count": 0
           },
           {
            "bin_start": 4.4,
            "bin_end": 5.5,
            "count": 0
           },
           {
            "bin_start": 5.5,
            "bin_end": 6.6000000000000005,
            "count": 0
           },
           {
            "bin_start": 6.6000000000000005,
            "bin_end": 7.700000000000001,
            "count": 0
           },
           {
            "bin_start": 7.700000000000001,
            "bin_end": 8.8,
            "count": 0
           },
           {
            "bin_start": 8.8,
            "bin_end": 9.9,
            "count": 0
           },
           {
            "bin_start": 9.9,
            "bin_end": 11,
            "count": 4
           }
          ]
         }
        },
        {
         "name": "street",
         "dtype": "object",
         "stats": {
          "unique_count": 5,
          "nan_count": 0,
          "categories": [
           {
            "name": "2-я Черногрязская улица",
            "count": 1
           },
           {
            "name": "улица Сервантеса",
            "count": 1
           },
           {
            "name": "3 others",
            "count": 3
           }
          ]
         }
        },
        {
         "name": "address",
         "dtype": "object",
         "stats": {
          "unique_count": 5,
          "nan_count": 0,
          "categories": [
           {
            "name": "6к3",
            "count": 1
           },
           {
            "name": "3к2",
            "count": 1
           },
           {
            "name": "3 others",
            "count": 3
           }
          ]
         }
        },
        {
         "name": "stories",
         "dtype": "float64",
         "stats": {
          "unique_count": 4,
          "nan_count": 0,
          "min": "9.0",
          "max": "20.0",
          "histogram": [
           {
            "bin_start": 9,
            "bin_end": 10.1,
            "count": 1
           },
           {
            "bin_start": 10.1,
            "bin_end": 11.2,
            "count": 0
           },
           {
            "bin_start": 11.2,
            "bin_end": 12.3,
            "count": 0
           },
           {
            "bin_start": 12.3,
            "bin_end": 13.4,
            "count": 0
           },
           {
            "bin_start": 13.4,
            "bin_end": 14.5,
            "count": 0
           },
           {
            "bin_start": 14.5,
            "bin_end": 15.600000000000001,
            "count": 1
           },
           {
            "bin_start": 15.600000000000001,
            "bin_end": 16.700000000000003,
            "count": 0
           },
           {
            "bin_start": 16.700000000000003,
            "bin_end": 17.8,
            "count": 2
           },
           {
            "bin_start": 17.8,
            "bin_end": 18.9,
            "count": 0
           },
           {
            "bin_start": 18.9,
            "bin_end": 20,
            "count": 1
           }
          ]
         }
        },
        {
         "name": "elevator_passenger",
         "dtype": "float64",
         "stats": {
          "unique_count": 1,
          "nan_count": 0,
          "min": "1.0",
          "max": "1.0",
          "histogram": [
           {
            "bin_start": 0.5,
            "bin_end": 0.6,
            "count": 0
           },
           {
            "bin_start": 0.6,
            "bin_end": 0.7,
            "count": 0
           },
           {
            "bin_start": 0.7,
            "bin_end": 0.8,
            "count": 0
           },
           {
            "bin_start": 0.8,
            "bin_end": 0.9,
            "count": 0
           },
           {
            "bin_start": 0.9,
            "bin_end": 1,
            "count": 0
           },
           {
            "bin_start": 1,
            "bin_end": 1.1,
            "count": 5
           },
           {
            "bin_start": 1.1,
            "bin_end": 1.2000000000000002,
            "count": 0
           },
           {
            "bin_start": 1.2000000000000002,
            "bin_end": 1.3,
            "count": 0
           },
           {
            "bin_start": 1.3,
            "bin_end": 1.4,
            "count": 0
           },
           {
            "bin_start": 1.4,
            "bin_end": 1.5,
            "count": 0
           }
          ]
         }
        },
        {
         "name": "elevator_service",
         "dtype": "float64",
         "stats": {
          "unique_count": 2,
          "nan_count": 0,
          "min": "0.0",
          "max": "1.0",
          "histogram": [
           {
            "bin_start": 0,
            "bin_end": 0.1,
            "count": 1
           },
           {
            "bin_start": 0.1,
            "bin_end": 0.2,
            "count": 0
           },
           {
            "bin_start": 0.2,
            "bin_end": 0.30000000000000004,
            "count": 0
           },
           {
            "bin_start": 0.30000000000000004,
            "bin_end": 0.4,
            "count": 0
           },
           {
            "bin_start": 0.4,
            "bin_end": 0.5,
            "count": 0
           },
           {
            "bin_start": 0.5,
            "bin_end": 0.6000000000000001,
            "count": 0
           },
           {
            "bin_start": 0.6000000000000001,
            "bin_end": 0.7000000000000001,
            "count": 0
           },
           {
            "bin_start": 0.7000000000000001,
            "bin_end": 0.8,
            "count": 0
           },
           {
            "bin_start": 0.8,
            "bin_end": 0.9,
            "count": 0
           },
           {
            "bin_start": 0.9,
            "bin_end": 1,
            "count": 4
           }
          ]
         }
        },
        {
         "name": "parking",
         "dtype": "float64",
         "stats": {
          "unique_count": 2,
          "nan_count": 3,
          "min": "0.0",
          "max": "1.0",
          "histogram": [
           {
            "bin_start": 0,
            "bin_end": 0.1,
            "count": 1
           },
           {
            "bin_start": 0.1,
            "bin_end": 0.2,
            "count": 0
           },
           {
            "bin_start": 0.2,
            "bin_end": 0.30000000000000004,
            "count": 0
           },
           {
            "bin_start": 0.30000000000000004,
            "bin_end": 0.4,
            "count": 0
           },
           {
            "bin_start": 0.4,
            "bin_end": 0.5,
            "count": 0
           },
           {
            "bin_start": 0.5,
            "bin_end": 0.6000000000000001,
            "count": 0
           },
           {
            "bin_start": 0.6000000000000001,
            "bin_end": 0.7000000000000001,
            "count": 0
           },
           {
            "bin_start": 0.7000000000000001,
            "bin_end": 0.8,
            "count": 0
           },
           {
            "bin_start": 0.8,
            "bin_end": 0.9,
            "count": 0
           },
           {
            "bin_start": 0.9,
            "bin_end": 1,
            "count": 1
           }
          ]
         }
        },
        {
         "name": "garbage_chute",
         "dtype": "float64",
         "stats": {
          "unique_count": 2,
          "nan_count": 1,
          "min": "0.0",
          "max": "1.0",
          "histogram": [
           {
            "bin_start": 0,
            "bin_end": 0.1,
            "count": 1
           },
           {
            "bin_start": 0.1,
            "bin_end": 0.2,
            "count": 0
           },
           {
            "bin_start": 0.2,
            "bin_end": 0.30000000000000004,
            "count": 0
           },
           {
            "bin_start": 0.30000000000000004,
            "bin_end": 0.4,
            "count": 0
           },
           {
            "bin_start": 0.4,
            "bin_end": 0.5,
            "count": 0
           },
           {
            "bin_start": 0.5,
            "bin_end": 0.6000000000000001,
            "count": 0
           },
           {
            "bin_start": 0.6000000000000001,
            "bin_end": 0.7000000000000001,
            "count": 0
           },
           {
            "bin_start": 0.7000000000000001,
            "bin_end": 0.8,
            "count": 0
           },
           {
            "bin_start": 0.8,
            "bin_end": 0.9,
            "count": 0
           },
           {
            "bin_start": 0.9,
            "bin_end": 1,
            "count": 3
           }
          ]
         }
        },
        {
         "name": "heating",
         "dtype": "float64",
         "stats": {
          "unique_count": 2,
          "nan_count": 1,
          "min": "0.0",
          "max": "3.0",
          "histogram": [
           {
            "bin_start": 0,
            "bin_end": 0.3,
            "count": 3
           },
           {
            "bin_start": 0.3,
            "bin_end": 0.6,
            "count": 0
           },
           {
            "bin_start": 0.6,
            "bin_end": 0.8999999999999999,
            "count": 0
           },
           {
            "bin_start": 0.8999999999999999,
            "bin_end": 1.2,
            "count": 0
           },
           {
            "bin_start": 1.2,
            "bin_end": 1.5,
            "count": 0
           },
           {
            "bin_start": 1.5,
            "bin_end": 1.7999999999999998,
            "count": 0
           },
           {
            "bin_start": 1.7999999999999998,
            "bin_end": 2.1,
            "count": 0
           },
           {
            "bin_start": 2.1,
            "bin_end": 2.4,
            "count": 0
           },
           {
            "bin_start": 2.4,
            "bin_end": 2.6999999999999997,
            "count": 0
           },
           {
            "bin_start": 2.6999999999999997,
            "bin_end": 3,
            "count": 1
           }
          ]
         }
        },
        {
         "name": "distance",
         "dtype": "float64",
         "stats": {
          "unique_count": 5,
          "nan_count": 0,
          "min": "0.05241097794355376",
          "max": "0.345584373087098",
          "histogram": [
           {
            "bin_start": 0.05241097794355376,
            "bin_end": 0.08172831745790818,
            "count": 1
           },
           {
            "bin_start": 0.08172831745790818,
            "bin_end": 0.11104565697226261,
            "count": 0
           },
           {
            "bin_start": 0.11104565697226261,
            "bin_end": 0.14036299648661704,
            "count": 0
           },
           {
            "bin_start": 0.14036299648661704,
            "bin_end": 0.16968033600097146,
            "count": 0
           },
           {
            "bin_start": 0.16968033600097146,
            "bin_end": 0.19899767551532588,
            "count": 0
           },
           {
            "bin_start": 0.19899767551532588,
            "bin_end": 0.22831501502968032,
            "count": 2
           },
           {
            "bin_start": 0.22831501502968032,
            "bin_end": 0.25763235454403477,
            "count": 1
           },
           {
            "bin_start": 0.25763235454403477,
            "bin_end": 0.28694969405838916,
            "count": 0
           },
           {
            "bin_start": 0.28694969405838916,
            "bin_end": 0.3162670335727436,
            "count": 0
           },
           {
            "bin_start": 0.3162670335727436,
            "bin_end": 0.345584373087098,
            "count": 1
           }
          ]
         }
        },
        {
         "name": "_deepnote_index_column",
         "dtype": "int64"
        }
       ],
       "rows_top": [
        {
         "area_total": 71.4,
         "area_kitchen": "nan",
         "area_living": "nan",
         "floor": 2,
         "rooms": 1,
         "layout": "nan",
         "windows_court": 1,
         "windows_street": 0,
         "balconies": 1,
         "condition": 0,
         "phones": 1,
         "building_id": 5148,
         "new": 0,
         "district": 0,
         "street": "2-я Черногрязская улица",
         "address": "6к3",
         "stories": 20,
         "elevator_passenger": 1,
         "elevator_service": 1,
         "parking": "nan",
         "garbage_chute": 1,
         "heating": 0,
         "distance": 0.05241097794355376,
         "_deepnote_index_column": 0
        },
        {
         "area_total": 54,
         "area_kitchen": 4,
         "area_living": 50,
         "floor": 4,
         "rooms": 1,
         "layout": "nan",
         "windows_court": 1,
         "windows_street": 0,
         "balconies": "nan",
         "condition": 3,
         "phones": 1,
         "building_id": 1290,
         "new": 0,
         "district": 11,
         "street": "улица Сервантеса",
         "address": "3к2",
         "stories": 15,
         "elevator_passenger": 1,
         "elevator_service": 1,
         "parking": 0,
         "garbage_chute": 0,
         "heating": 0,
         "distance": 0.21643576388850122,
         "_deepnote_index_column": 1
        },
        {
         "area_total": 39.4,
         "area_kitchen": 19.6,
         "area_living": 11.2,
         "floor": 10,
         "rooms": 1,
         "layout": "nan",
         "windows_court": 1,
         "windows_street": 0,
         "balconies": "nan",
         "condition": "nan",
         "phones": 1,
         "building_id": 681,
         "new": 1,
         "district": 11,
         "street": "Саларьево Парк ЖК",
         "address": "27",
         "stories": 9,
         "elevator_passenger": 1,
         "elevator_service": 1,
         "parking": 1,
         "garbage_chute": "nan",
         "heating": "nan",
         "distance": 0.22887870545990124,
         "_deepnote_index_column": 2
        },
        {
         "area_total": 60.9,
         "area_kitchen": "nan",
         "area_living": "nan",
         "floor": 5,
         "rooms": 2,
         "layout": 1,
         "windows_court": 0,
         "windows_street": 1,
         "balconies": "nan",
         "condition": 0,
         "phones": 1,
         "building_id": 4261,
         "new": 0,
         "district": 11,
         "street": "улица Александры Монаховой",
         "address": "23",
         "stories": 17,
         "elevator_passenger": 1,
         "elevator_service": 0,
         "parking": "nan",
         "garbage_chute": 1,
         "heating": 3,
         "distance": 0.21739369540996625,
         "_deepnote_index_column": 3
        },
        {
         "area_total": 34,
         "area_kitchen": 9,
         "area_living": 17,
         "floor": 14,
         "rooms": 1,
         "layout": "nan",
         "windows_court": 1,
         "windows_street": 0,
         "balconies": 0,
         "condition": 1,
         "phones": 1,
         "building_id": 7530,
         "new": 0,
         "district": 11,
         "street": "улица 3-я Нововатутинская",
         "address": "13к1",
         "stories": 17,
         "elevator_passenger": 1,
         "elevator_service": 1,
         "parking": "nan",
         "garbage_chute": 1,
         "heating": 0,
         "distance": 0.345584373087098,
         "_deepnote_index_column": 4
        }
       ],
       "rows_bottom": null
      },
      "text/plain": "   area_total  area_kitchen  area_living  floor  rooms  layout  windows_court  \\\n0        71.4           NaN          NaN    2.0    1.0     NaN            1.0   \n1        54.0           4.0         50.0    4.0    1.0     NaN            1.0   \n2        39.4          19.6         11.2   10.0    1.0     NaN            1.0   \n3        60.9           NaN          NaN    5.0    2.0     1.0            0.0   \n4        34.0           9.0         17.0   14.0    1.0     NaN            1.0   \n\n   windows_street  balconies  condition  ...  district  \\\n0             0.0        1.0        0.0  ...       0.0   \n1             0.0        NaN        3.0  ...      11.0   \n2             0.0        NaN        NaN  ...      11.0   \n3             1.0        NaN        0.0  ...      11.0   \n4             0.0        0.0        1.0  ...      11.0   \n\n                       street  address  stories elevator_passenger  \\\n0     2-я Черногрязская улица      6к3     20.0                1.0   \n1            улица Сервантеса      3к2     15.0                1.0   \n2           Саларьево Парк ЖК       27      9.0                1.0   \n3  улица Александры Монаховой       23     17.0                1.0   \n4   улица 3-я Нововатутинская     13к1     17.0                1.0   \n\n  elevator_service  parking  garbage_chute  heating  distance  \n0              1.0      NaN            1.0      0.0  0.052411  \n1              1.0      0.0            0.0      0.0  0.216436  \n2              1.0      1.0            NaN      NaN  0.228879  \n3              0.0      NaN            1.0      3.0  0.217394  \n4              1.0      NaN            1.0      0.0  0.345584  \n\n[5 rows x 23 columns]",
      "text/html": "<div>\n<style scoped>\n    .dataframe tbody tr th:only-of-type {\n        vertical-align: middle;\n    }\n\n    .dataframe tbody tr th {\n        vertical-align: top;\n    }\n\n    .dataframe thead th {\n        text-align: right;\n    }\n</style>\n<table border=\"1\" class=\"dataframe\">\n  <thead>\n    <tr style=\"text-align: right;\">\n      <th></th>\n      <th>area_total</th>\n      <th>area_kitchen</th>\n      <th>area_living</th>\n      <th>floor</th>\n      <th>rooms</th>\n      <th>layout</th>\n      <th>windows_court</th>\n      <th>windows_street</th>\n      <th>balconies</th>\n      <th>condition</th>\n      <th>...</th>\n      <th>district</th>\n      <th>street</th>\n      <th>address</th>\n      <th>stories</th>\n      <th>elevator_passenger</th>\n      <th>elevator_service</th>\n      <th>parking</th>\n      <th>garbage_chute</th>\n      <th>heating</th>\n      <th>distance</th>\n    </tr>\n  </thead>\n  <tbody>\n    <tr>\n      <th>0</th>\n      <td>71.4</td>\n      <td>NaN</td>\n      <td>NaN</td>\n      <td>2.0</td>\n      <td>1.0</td>\n      <td>NaN</td>\n      <td>1.0</td>\n      <td>0.0</td>\n      <td>1.0</td>\n      <td>0.0</td>\n      <td>...</td>\n      <td>0.0</td>\n      <td>2-я Черногрязская улица</td>\n      <td>6к3</td>\n      <td>20.0</td>\n      <td>1.0</td>\n      <td>1.0</td>\n      <td>NaN</td>\n      <td>1.0</td>\n      <td>0.0</td>\n      <td>0.052411</td>\n    </tr>\n    <tr>\n      <th>1</th>\n      <td>54.0</td>\n      <td>4.0</td>\n      <td>50.0</td>\n      <td>4.0</td>\n      <td>1.0</td>\n      <td>NaN</td>\n      <td>1.0</td>\n      <td>0.0</td>\n      <td>NaN</td>\n      <td>3.0</td>\n      <td>...</td>\n      <td>11.0</td>\n      <td>улица Сервантеса</td>\n      <td>3к2</td>\n      <td>15.0</td>\n      <td>1.0</td>\n      <td>1.0</td>\n      <td>0.0</td>\n      <td>0.0</td>\n      <td>0.0</td>\n      <td>0.216436</td>\n    </tr>\n    <tr>\n      <th>2</th>\n      <td>39.4</td>\n      <td>19.6</td>\n      <td>11.2</td>\n      <td>10.0</td>\n      <td>1.0</td>\n      <td>NaN</td>\n      <td>1.0</td>\n      <td>0.0</td>\n      <td>NaN</td>\n      <td>NaN</td>\n      <td>...</td>\n      <td>11.0</td>\n      <td>Саларьево Парк ЖК</td>\n      <td>27</td>\n      <td>9.0</td>\n      <td>1.0</td>\n      <td>1.0</td>\n      <td>1.0</td>\n      <td>NaN</td>\n      <td>NaN</td>\n      <td>0.228879</td>\n    </tr>\n    <tr>\n      <th>3</th>\n      <td>60.9</td>\n      <td>NaN</td>\n      <td>NaN</td>\n      <td>5.0</td>\n      <td>2.0</td>\n      <td>1.0</td>\n      <td>0.0</td>\n      <td>1.0</td>\n      <td>NaN</td>\n      <td>0.0</td>\n      <td>...</td>\n      <td>11.0</td>\n      <td>улица Александры Монаховой</td>\n      <td>23</td>\n      <td>17.0</td>\n      <td>1.0</td>\n      <td>0.0</td>\n      <td>NaN</td>\n      <td>1.0</td>\n      <td>3.0</td>\n      <td>0.217394</td>\n    </tr>\n    <tr>\n      <th>4</th>\n      <td>34.0</td>\n      <td>9.0</td>\n      <td>17.0</td>\n      <td>14.0</td>\n      <td>1.0</td>\n      <td>NaN</td>\n      <td>1.0</td>\n      <td>0.0</td>\n      <td>0.0</td>\n      <td>1.0</td>\n      <td>...</td>\n      <td>11.0</td>\n      <td>улица 3-я Нововатутинская</td>\n      <td>13к1</td>\n      <td>17.0</td>\n      <td>1.0</td>\n      <td>1.0</td>\n      <td>NaN</td>\n      <td>1.0</td>\n      <td>0.0</td>\n      <td>0.345584</td>\n    </tr>\n  </tbody>\n</table>\n<p>5 rows × 23 columns</p>\n</div>"
     },
     "metadata": {}
    }
   ],
   "execution_count": null
  },
  {
   "cell_type": "code",
   "metadata": {
    "tags": [],
    "cell_id": "00024-df8bd178-007e-4417-8e3b-6e613b5fd522",
    "deepnote_to_be_reexecuted": false,
    "source_hash": "86cc7b45",
    "execution_start": 1637350567134,
    "execution_millis": 1,
    "deepnote_cell_type": "code"
   },
   "source": "#y1 = df_train['price']\n\nX1_test = df_test.drop(['id', 'bathrooms_private', 'loggias', 'seller', 'bathrooms_shared', 'elevator_without', 'ceiling', 'material', 'constructed'], axis=1)\n\nX1_test_area_total = X1_test.area_total.values # Save area total values from training set so that we can use feature engineering on price/area as measure\n#df_train['price/area'] = df_train['price']/df_train['area_total'] #already done\ny1 = df_train['price/area'] # Don't drop area here because we need it for split\n\nX1 = df_train.drop(['price', 'id', 'price/area', 'bathrooms_private', 'loggias', 'seller', 'bathrooms_shared', 'elevator_without', 'ceiling', 'material', 'constructed'], axis=1)",
   "outputs": [],
   "execution_count": null
  },
  {
   "cell_type": "code",
   "metadata": {
    "tags": [],
    "cell_id": "00025-903153c7-b4a5-4b0c-ae0c-8d184b03d8ea",
    "deepnote_to_be_reexecuted": false,
    "source_hash": "2e0d2350",
    "execution_start": 1637350569714,
    "execution_millis": 23,
    "deepnote_output_heights": [
     21
    ],
    "deepnote_cell_type": "code"
   },
   "source": "X_train, X_val, y_train, y_val = train_test_split(X1, y1, test_size=0.2, random_state=1, shuffle=True)\nX_train.shape, X_val.shape, y_train.shape,y_val.shape, X1_test.shape",
   "outputs": [
    {
     "output_type": "execute_result",
     "execution_count": 44,
     "data": {
      "text/plain": "((18589, 22), (4648, 22), (18589,), (4648,), (9937, 22))"
     },
     "metadata": {}
    }
   ],
   "execution_count": null
  },
  {
   "cell_type": "code",
   "metadata": {
    "tags": [],
    "cell_id": "00030-2fdc794a-a1c3-46f0-94aa-52458a75e9fc",
    "deepnote_to_be_reexecuted": false,
    "source_hash": "6d8343f0",
    "execution_start": 1637350574806,
    "execution_millis": 16,
    "deepnote_cell_type": "code"
   },
   "source": "X1_test.head()",
   "outputs": [
    {
     "output_type": "execute_result",
     "execution_count": 45,
     "data": {
      "application/vnd.deepnote.dataframe.v2+json": {
       "row_count": 5,
       "column_count": 22,
       "columns": [
        {
         "name": "area_total",
         "dtype": "float64",
         "stats": {
          "unique_count": 5,
          "nan_count": 0,
          "min": "34.0",
          "max": "71.4",
          "histogram": [
           {
            "bin_start": 34,
            "bin_end": 37.74,
            "count": 1
           },
           {
            "bin_start": 37.74,
            "bin_end": 41.480000000000004,
            "count": 1
           },
           {
            "bin_start": 41.480000000000004,
            "bin_end": 45.22,
            "count": 0
           },
           {
            "bin_start": 45.22,
            "bin_end": 48.96,
            "count": 0
           },
           {
            "bin_start": 48.96,
            "bin_end": 52.7,
            "count": 0
           },
           {
            "bin_start": 52.7,
            "bin_end": 56.440000000000005,
            "count": 1
           },
           {
            "bin_start": 56.440000000000005,
            "bin_end": 60.18000000000001,
            "count": 0
           },
           {
            "bin_start": 60.18000000000001,
            "bin_end": 63.92,
            "count": 1
           },
           {
            "bin_start": 63.92,
            "bin_end": 67.66,
            "count": 0
           },
           {
            "bin_start": 67.66,
            "bin_end": 71.4,
            "count": 1
           }
          ]
         }
        },
        {
         "name": "area_kitchen",
         "dtype": "float64",
         "stats": {
          "unique_count": 5,
          "nan_count": 0,
          "min": "4.0",
          "max": "19.6",
          "histogram": [
           {
            "bin_start": 4,
            "bin_end": 5.5600000000000005,
            "count": 1
           },
           {
            "bin_start": 5.5600000000000005,
            "bin_end": 7.12,
            "count": 0
           },
           {
            "bin_start": 7.12,
            "bin_end": 8.68,
            "count": 0
           },
           {
            "bin_start": 8.68,
            "bin_end": 10.24,
            "count": 1
           },
           {
            "bin_start": 10.24,
            "bin_end": 11.8,
            "count": 0
           },
           {
            "bin_start": 11.8,
            "bin_end": 13.36,
            "count": 1
           },
           {
            "bin_start": 13.36,
            "bin_end": 14.92,
            "count": 0
           },
           {
            "bin_start": 14.92,
            "bin_end": 16.48,
            "count": 1
           },
           {
            "bin_start": 16.48,
            "bin_end": 18.04,
            "count": 0
           },
           {
            "bin_start": 18.04,
            "bin_end": 19.6,
            "count": 1
           }
          ]
         }
        },
        {
         "name": "area_living",
         "dtype": "float64",
         "stats": {
          "unique_count": 5,
          "nan_count": 0,
          "min": "11.2",
          "max": "55.56",
          "histogram": [
           {
            "bin_start": 11.2,
            "bin_end": 15.636,
            "count": 1
           },
           {
            "bin_start": 15.636,
            "bin_end": 20.072,
            "count": 1
           },
           {
            "bin_start": 20.072,
            "bin_end": 24.508,
            "count": 0
           },
           {
            "bin_start": 24.508,
            "bin_end": 28.944,
            "count": 0
           },
           {
            "bin_start": 28.944,
            "bin_end": 33.379999999999995,
            "count": 1
           },
           {
            "bin_start": 33.379999999999995,
            "bin_end": 37.816,
            "count": 0
           },
           {
            "bin_start": 37.816,
            "bin_end": 42.251999999999995,
            "count": 0
           },
           {
            "bin_start": 42.251999999999995,
            "bin_end": 46.688,
            "count": 0
           },
           {
            "bin_start": 46.688,
            "bin_end": 51.123999999999995,
            "count": 1
           },
           {
            "bin_start": 51.123999999999995,
            "bin_end": 55.56,
            "count": 1
           }
          ]
         }
        },
        {
         "name": "floor",
         "dtype": "int64",
         "stats": {
          "unique_count": 5,
          "nan_count": 0,
          "min": "2",
          "max": "14",
          "histogram": [
           {
            "bin_start": 2,
            "bin_end": 3.2,
            "count": 1
           },
           {
            "bin_start": 3.2,
            "bin_end": 4.4,
            "count": 1
           },
           {
            "bin_start": 4.4,
            "bin_end": 5.6,
            "count": 1
           },
           {
            "bin_start": 5.6,
            "bin_end": 6.8,
            "count": 0
           },
           {
            "bin_start": 6.8,
            "bin_end": 8,
            "count": 0
           },
           {
            "bin_start": 8,
            "bin_end": 9.2,
            "count": 0
           },
           {
            "bin_start": 9.2,
            "bin_end": 10.4,
            "count": 1
           },
           {
            "bin_start": 10.4,
            "bin_end": 11.6,
            "count": 0
           },
           {
            "bin_start": 11.6,
            "bin_end": 12.799999999999999,
            "count": 0
           },
           {
            "bin_start": 12.799999999999999,
            "bin_end": 14,
            "count": 1
           }
          ]
         }
        },
        {
         "name": "rooms",
         "dtype": "int64",
         "stats": {
          "unique_count": 2,
          "nan_count": 0,
          "min": "1",
          "max": "2",
          "histogram": [
           {
            "bin_start": 1,
            "bin_end": 1.1,
            "count": 4
           },
           {
            "bin_start": 1.1,
            "bin_end": 1.2,
            "count": 0
           },
           {
            "bin_start": 1.2,
            "bin_end": 1.3,
            "count": 0
           },
           {
            "bin_start": 1.3,
            "bin_end": 1.4,
            "count": 0
           },
           {
            "bin_start": 1.4,
            "bin_end": 1.5,
            "count": 0
           },
           {
            "bin_start": 1.5,
            "bin_end": 1.6,
            "count": 0
           },
           {
            "bin_start": 1.6,
            "bin_end": 1.7000000000000002,
            "count": 0
           },
           {
            "bin_start": 1.7000000000000002,
            "bin_end": 1.8,
            "count": 0
           },
           {
            "bin_start": 1.8,
            "bin_end": 1.9,
            "count": 0
           },
           {
            "bin_start": 1.9,
            "bin_end": 2,
            "count": 1
           }
          ]
         }
        },
        {
         "name": "layout",
         "dtype": "int64",
         "stats": {
          "unique_count": 1,
          "nan_count": 0,
          "min": "1",
          "max": "1",
          "histogram": [
           {
            "bin_start": 0.5,
            "bin_end": 0.6,
            "count": 0
           },
           {
            "bin_start": 0.6,
            "bin_end": 0.7,
            "count": 0
           },
           {
            "bin_start": 0.7,
            "bin_end": 0.8,
            "count": 0
           },
           {
            "bin_start": 0.8,
            "bin_end": 0.9,
            "count": 0
           },
           {
            "bin_start": 0.9,
            "bin_end": 1,
            "count": 0
           },
           {
            "bin_start": 1,
            "bin_end": 1.1,
            "count": 5
           },
           {
            "bin_start": 1.1,
            "bin_end": 1.2000000000000002,
            "count": 0
           },
           {
            "bin_start": 1.2000000000000002,
            "bin_end": 1.3,
            "count": 0
           },
           {
            "bin_start": 1.3,
            "bin_end": 1.4,
            "count": 0
           },
           {
            "bin_start": 1.4,
            "bin_end": 1.5,
            "count": 0
           }
          ]
         }
        },
        {
         "name": "windows_court",
         "dtype": "int64",
         "stats": {
          "unique_count": 2,
          "nan_count": 0,
          "min": "0",
          "max": "1",
          "histogram": [
           {
            "bin_start": 0,
            "bin_end": 0.1,
            "count": 1
           },
           {
            "bin_start": 0.1,
            "bin_end": 0.2,
            "count": 0
           },
           {
            "bin_start": 0.2,
            "bin_end": 0.30000000000000004,
            "count": 0
           },
           {
            "bin_start": 0.30000000000000004,
            "bin_end": 0.4,
            "count": 0
           },
           {
            "bin_start": 0.4,
            "bin_end": 0.5,
            "count": 0
           },
           {
            "bin_start": 0.5,
            "bin_end": 0.6000000000000001,
            "count": 0
           },
           {
            "bin_start": 0.6000000000000001,
            "bin_end": 0.7000000000000001,
            "count": 0
           },
           {
            "bin_start": 0.7000000000000001,
            "bin_end": 0.8,
            "count": 0
           },
           {
            "bin_start": 0.8,
            "bin_end": 0.9,
            "count": 0
           },
           {
            "bin_start": 0.9,
            "bin_end": 1,
            "count": 4
           }
          ]
         }
        },
        {
         "name": "windows_street",
         "dtype": "int64",
         "stats": {
          "unique_count": 2,
          "nan_count": 0,
          "min": "0",
          "max": "1",
          "histogram": [
           {
            "bin_start": 0,
            "bin_end": 0.1,
            "count": 4
           },
           {
            "bin_start": 0.1,
            "bin_end": 0.2,
            "count": 0
           },
           {
            "bin_start": 0.2,
            "bin_end": 0.30000000000000004,
            "count": 0
           },
           {
            "bin_start": 0.30000000000000004,
            "bin_end": 0.4,
            "count": 0
           },
           {
            "bin_start": 0.4,
            "bin_end": 0.5,
            "count": 0
           },
           {
            "bin_start": 0.5,
            "bin_end": 0.6000000000000001,
            "count": 0
           },
           {
            "bin_start": 0.6000000000000001,
            "bin_end": 0.7000000000000001,
            "count": 0
           },
           {
            "bin_start": 0.7000000000000001,
            "bin_end": 0.8,
            "count": 0
           },
           {
            "bin_start": 0.8,
            "bin_end": 0.9,
            "count": 0
           },
           {
            "bin_start": 0.9,
            "bin_end": 1,
            "count": 1
           }
          ]
         }
        },
        {
         "name": "balconies",
         "dtype": "int64",
         "stats": {
          "unique_count": 2,
          "nan_count": 0,
          "min": "0",
          "max": "1",
          "histogram": [
           {
            "bin_start": 0,
            "bin_end": 0.1,
            "count": 4
           },
           {
            "bin_start": 0.1,
            "bin_end": 0.2,
            "count": 0
           },
           {
            "bin_start": 0.2,
            "bin_end": 0.30000000000000004,
            "count": 0
           },
           {
            "bin_start": 0.30000000000000004,
            "bin_end": 0.4,
            "count": 0
           },
           {
            "bin_start": 0.4,
            "bin_end": 0.5,
            "count": 0
           },
           {
            "bin_start": 0.5,
            "bin_end": 0.6000000000000001,
            "count": 0
           },
           {
            "bin_start": 0.6000000000000001,
            "bin_end": 0.7000000000000001,
            "count": 0
           },
           {
            "bin_start": 0.7000000000000001,
            "bin_end": 0.8,
            "count": 0
           },
           {
            "bin_start": 0.8,
            "bin_end": 0.9,
            "count": 0
           },
           {
            "bin_start": 0.9,
            "bin_end": 1,
            "count": 1
           }
          ]
         }
        },
        {
         "name": "condition",
         "dtype": "int64",
         "stats": {
          "unique_count": 4,
          "nan_count": 0,
          "min": "0",
          "max": "3",
          "histogram": [
           {
            "bin_start": 0,
            "bin_end": 0.3,
            "count": 2
           },
           {
            "bin_start": 0.3,
            "bin_end": 0.6,
            "count": 0
           },
           {
            "bin_start": 0.6,
            "bin_end": 0.8999999999999999,
            "count": 0
           },
           {
            "bin_start": 0.8999999999999999,
            "bin_end": 1.2,
            "count": 1
           },
           {
            "bin_start": 1.2,
            "bin_end": 1.5,
            "count": 0
           },
           {
            "bin_start": 1.5,
            "bin_end": 1.7999999999999998,
            "count": 0
           },
           {
            "bin_start": 1.7999999999999998,
            "bin_end": 2.1,
            "count": 1
           },
           {
            "bin_start": 2.1,
            "bin_end": 2.4,
            "count": 0
           },
           {
            "bin_start": 2.4,
            "bin_end": 2.6999999999999997,
            "count": 0
           },
           {
            "bin_start": 2.6999999999999997,
            "bin_end": 3,
            "count": 1
           }
          ]
         }
        },
        {
         "name": "phones",
         "dtype": "int64",
         "stats": {
          "unique_count": 1,
          "nan_count": 0,
          "min": "1",
          "max": "1",
          "histogram": [
           {
            "bin_start": 0.5,
            "bin_end": 0.6,
            "count": 0
           },
           {
            "bin_start": 0.6,
            "bin_end": 0.7,
            "count": 0
           },
           {
            "bin_start": 0.7,
            "bin_end": 0.8,
            "count": 0
           },
           {
            "bin_start": 0.8,
            "bin_end": 0.9,
            "count": 0
           },
           {
            "bin_start": 0.9,
            "bin_end": 1,
            "count": 0
           },
           {
            "bin_start": 1,
            "bin_end": 1.1,
            "count": 5
           },
           {
            "bin_start": 1.1,
            "bin_end": 1.2000000000000002,
            "count": 0
           },
           {
            "bin_start": 1.2000000000000002,
            "bin_end": 1.3,
            "count": 0
           },
           {
            "bin_start": 1.3,
            "bin_end": 1.4,
            "count": 0
           },
           {
            "bin_start": 1.4,
            "bin_end": 1.5,
            "count": 0
           }
          ]
         }
        },
        {
         "name": "building_id",
         "dtype": "int64",
         "stats": {
          "unique_count": 5,
          "nan_count": 0,
          "min": "681",
          "max": "7530",
          "histogram": [
           {
            "bin_start": 681,
            "bin_end": 1365.9,
            "count": 2
           },
           {
            "bin_start": 1365.9,
            "bin_end": 2050.8,
            "count": 0
           },
           {
            "bin_start": 2050.8,
            "bin_end": 2735.7,
            "count": 0
           },
           {
            "bin_start": 2735.7,
            "bin_end": 3420.6,
            "count": 0
           },
           {
            "bin_start": 3420.6,
            "bin_end": 4105.5,
            "count": 0
           },
           {
            "bin_start": 4105.5,
            "bin_end": 4790.4,
            "count": 1
           },
           {
            "bin_start": 4790.4,
            "bin_end": 5475.3,
            "count": 1
           },
           {
            "bin_start": 5475.3,
            "bin_end": 6160.2,
            "count": 0
           },
           {
            "bin_start": 6160.2,
            "bin_end": 6845.099999999999,
            "count": 0
           },
           {
            "bin_start": 6845.099999999999,
            "bin_end": 7530,
            "count": 1
           }
          ]
         }
        },
        {
         "name": "new",
         "dtype": "int64",
         "stats": {
          "unique_count": 2,
          "nan_count": 0,
          "min": "0",
          "max": "1",
          "histogram": [
           {
            "bin_start": 0,
            "bin_end": 0.1,
            "count": 4
           },
           {
            "bin_start": 0.1,
            "bin_end": 0.2,
            "count": 0
           },
           {
            "bin_start": 0.2,
            "bin_end": 0.30000000000000004,
            "count": 0
           },
           {
            "bin_start": 0.30000000000000004,
            "bin_end": 0.4,
            "count": 0
           },
           {
            "bin_start": 0.4,
            "bin_end": 0.5,
            "count": 0
           },
           {
            "bin_start": 0.5,
            "bin_end": 0.6000000000000001,
            "count": 0
           },
           {
            "bin_start": 0.6000000000000001,
            "bin_end": 0.7000000000000001,
            "count": 0
           },
           {
            "bin_start": 0.7000000000000001,
            "bin_end": 0.8,
            "count": 0
           },
           {
            "bin_start": 0.8,
            "bin_end": 0.9,
            "count": 0
           },
           {
            "bin_start": 0.9,
            "bin_end": 1,
            "count": 1
           }
          ]
         }
        },
        {
         "name": "district",
         "dtype": "int64",
         "stats": {
          "unique_count": 2,
          "nan_count": 0,
          "min": "0",
          "max": "11",
          "histogram": [
           {
            "bin_start": 0,
            "bin_end": 1.1,
            "count": 1
           },
           {
            "bin_start": 1.1,
            "bin_end": 2.2,
            "count": 0
           },
           {
            "bin_start": 2.2,
            "bin_end": 3.3000000000000003,
            "count": 0
           },
           {
            "bin_start": 3.3000000000000003,
            "bin_end": 4.4,
            "count": 0
           },
           {
            "bin_start": 4.4,
            "bin_end": 5.5,
            "count": 0
           },
           {
            "bin_start": 5.5,
            "bin_end": 6.6000000000000005,
            "count": 0
           },
           {
            "bin_start": 6.6000000000000005,
            "bin_end": 7.700000000000001,
            "count": 0
           },
           {
            "bin_start": 7.700000000000001,
            "bin_end": 8.8,
            "count": 0
           },
           {
            "bin_start": 8.8,
            "bin_end": 9.9,
            "count": 0
           },
           {
            "bin_start": 9.9,
            "bin_end": 11,
            "count": 4
           }
          ]
         }
        },
        {
         "name": "stories",
         "dtype": "int64",
         "stats": {
          "unique_count": 4,
          "nan_count": 0,
          "min": "9",
          "max": "20",
          "histogram": [
           {
            "bin_start": 9,
            "bin_end": 10.1,
            "count": 1
           },
           {
            "bin_start": 10.1,
            "bin_end": 11.2,
            "count": 0
           },
           {
            "bin_start": 11.2,
            "bin_end": 12.3,
            "count": 0
           },
           {
            "bin_start": 12.3,
            "bin_end": 13.4,
            "count": 0
           },
           {
            "bin_start": 13.4,
            "bin_end": 14.5,
            "count": 0
           },
           {
            "bin_start": 14.5,
            "bin_end": 15.600000000000001,
            "count": 1
           },
           {
            "bin_start": 15.600000000000001,
            "bin_end": 16.700000000000003,
            "count": 0
           },
           {
            "bin_start": 16.700000000000003,
            "bin_end": 17.8,
            "count": 2
           },
           {
            "bin_start": 17.8,
            "bin_end": 18.9,
            "count": 0
           },
           {
            "bin_start": 18.9,
            "bin_end": 20,
            "count": 1
           }
          ]
         }
        },
        {
         "name": "elevator_passenger",
         "dtype": "int64",
         "stats": {
          "unique_count": 1,
          "nan_count": 0,
          "min": "1",
          "max": "1",
          "histogram": [
           {
            "bin_start": 0.5,
            "bin_end": 0.6,
            "count": 0
           },
           {
            "bin_start": 0.6,
            "bin_end": 0.7,
            "count": 0
           },
           {
            "bin_start": 0.7,
            "bin_end": 0.8,
            "count": 0
           },
           {
            "bin_start": 0.8,
            "bin_end": 0.9,
            "count": 0
           },
           {
            "bin_start": 0.9,
            "bin_end": 1,
            "count": 0
           },
           {
            "bin_start": 1,
            "bin_end": 1.1,
            "count": 5
           },
           {
            "bin_start": 1.1,
            "bin_end": 1.2000000000000002,
            "count": 0
           },
           {
            "bin_start": 1.2000000000000002,
            "bin_end": 1.3,
            "count": 0
           },
           {
            "bin_start": 1.3,
            "bin_end": 1.4,
            "count": 0
           },
           {
            "bin_start": 1.4,
            "bin_end": 1.5,
            "count": 0
           }
          ]
         }
        },
        {
         "name": "elevator_service",
         "dtype": "int64",
         "stats": {
          "unique_count": 2,
          "nan_count": 0,
          "min": "0",
          "max": "1",
          "histogram": [
           {
            "bin_start": 0,
            "bin_end": 0.1,
            "count": 1
           },
           {
            "bin_start": 0.1,
            "bin_end": 0.2,
            "count": 0
           },
           {
            "bin_start": 0.2,
            "bin_end": 0.30000000000000004,
            "count": 0
           },
           {
            "bin_start": 0.30000000000000004,
            "bin_end": 0.4,
            "count": 0
           },
           {
            "bin_start": 0.4,
            "bin_end": 0.5,
            "count": 0
           },
           {
            "bin_start": 0.5,
            "bin_end": 0.6000000000000001,
            "count": 0
           },
           {
            "bin_start": 0.6000000000000001,
            "bin_end": 0.7000000000000001,
            "count": 0
           },
           {
            "bin_start": 0.7000000000000001,
            "bin_end": 0.8,
            "count": 0
           },
           {
            "bin_start": 0.8,
            "bin_end": 0.9,
            "count": 0
           },
           {
            "bin_start": 0.9,
            "bin_end": 1,
            "count": 4
           }
          ]
         }
        },
        {
         "name": "parking",
         "dtype": "int64",
         "stats": {
          "unique_count": 2,
          "nan_count": 0,
          "min": "0",
          "max": "1",
          "histogram": [
           {
            "bin_start": 0,
            "bin_end": 0.1,
            "count": 2
           },
           {
            "bin_start": 0.1,
            "bin_end": 0.2,
            "count": 0
           },
           {
            "bin_start": 0.2,
            "bin_end": 0.30000000000000004,
            "count": 0
           },
           {
            "bin_start": 0.30000000000000004,
            "bin_end": 0.4,
            "count": 0
           },
           {
            "bin_start": 0.4,
            "bin_end": 0.5,
            "count": 0
           },
           {
            "bin_start": 0.5,
            "bin_end": 0.6000000000000001,
            "count": 0
           },
           {
            "bin_start": 0.6000000000000001,
            "bin_end": 0.7000000000000001,
            "count": 0
           },
           {
            "bin_start": 0.7000000000000001,
            "bin_end": 0.8,
            "count": 0
           },
           {
            "bin_start": 0.8,
            "bin_end": 0.9,
            "count": 0
           },
           {
            "bin_start": 0.9,
            "bin_end": 1,
            "count": 3
           }
          ]
         }
        },
        {
         "name": "garbage_chute",
         "dtype": "int64",
         "stats": {
          "unique_count": 2,
          "nan_count": 0,
          "min": "0",
          "max": "1",
          "histogram": [
           {
            "bin_start": 0,
            "bin_end": 0.1,
            "count": 1
           },
           {
            "bin_start": 0.1,
            "bin_end": 0.2,
            "count": 0
           },
           {
            "bin_start": 0.2,
            "bin_end": 0.30000000000000004,
            "count": 0
           },
           {
            "bin_start": 0.30000000000000004,
            "bin_end": 0.4,
            "count": 0
           },
           {
            "bin_start": 0.4,
            "bin_end": 0.5,
            "count": 0
           },
           {
            "bin_start": 0.5,
            "bin_end": 0.6000000000000001,
            "count": 0
           },
           {
            "bin_start": 0.6000000000000001,
            "bin_end": 0.7000000000000001,
            "count": 0
           },
           {
            "bin_start": 0.7000000000000001,
            "bin_end": 0.8,
            "count": 0
           },
           {
            "bin_start": 0.8,
            "bin_end": 0.9,
            "count": 0
           },
           {
            "bin_start": 0.9,
            "bin_end": 1,
            "count": 4
           }
          ]
         }
        },
        {
         "name": "heating",
         "dtype": "int64",
         "stats": {
          "unique_count": 2,
          "nan_count": 0,
          "min": "0",
          "max": "3",
          "histogram": [
           {
            "bin_start": 0,
            "bin_end": 0.3,
            "count": 4
           },
           {
            "bin_start": 0.3,
            "bin_end": 0.6,
            "count": 0
           },
           {
            "bin_start": 0.6,
            "bin_end": 0.8999999999999999,
            "count": 0
           },
           {
            "bin_start": 0.8999999999999999,
            "bin_end": 1.2,
            "count": 0
           },
           {
            "bin_start": 1.2,
            "bin_end": 1.5,
            "count": 0
           },
           {
            "bin_start": 1.5,
            "bin_end": 1.7999999999999998,
            "count": 0
           },
           {
            "bin_start": 1.7999999999999998,
            "bin_end": 2.1,
            "count": 0
           },
           {
            "bin_start": 2.1,
            "bin_end": 2.4,
            "count": 0
           },
           {
            "bin_start": 2.4,
            "bin_end": 2.6999999999999997,
            "count": 0
           },
           {
            "bin_start": 2.6999999999999997,
            "bin_end": 3,
            "count": 1
           }
          ]
         }
        },
        {
         "name": "distance",
         "dtype": "float64",
         "stats": {
          "unique_count": 5,
          "nan_count": 0,
          "min": "0.05241097794355376",
          "max": "0.345584373087098",
          "histogram": [
           {
            "bin_start": 0.05241097794355376,
            "bin_end": 0.08172831745790818,
            "count": 1
           },
           {
            "bin_start": 0.08172831745790818,
            "bin_end": 0.11104565697226261,
            "count": 0
           },
           {
            "bin_start": 0.11104565697226261,
            "bin_end": 0.14036299648661704,
            "count": 0
           },
           {
            "bin_start": 0.14036299648661704,
            "bin_end": 0.16968033600097146,
            "count": 0
           },
           {
            "bin_start": 0.16968033600097146,
            "bin_end": 0.19899767551532588,
            "count": 0
           },
           {
            "bin_start": 0.19899767551532588,
            "bin_end": 0.22831501502968032,
            "count": 2
           },
           {
            "bin_start": 0.22831501502968032,
            "bin_end": 0.25763235454403477,
            "count": 1
           },
           {
            "bin_start": 0.25763235454403477,
            "bin_end": 0.28694969405838916,
            "count": 0
           },
           {
            "bin_start": 0.28694969405838916,
            "bin_end": 0.3162670335727436,
            "count": 0
           },
           {
            "bin_start": 0.3162670335727436,
            "bin_end": 0.345584373087098,
            "count": 1
           }
          ]
         }
        },
        {
         "name": "street",
         "dtype": "object",
         "stats": {
          "unique_count": 5,
          "nan_count": 0,
          "categories": [
           {
            "name": "2-я Черногрязская улица",
            "count": 1
           },
           {
            "name": "улица Сервантеса",
            "count": 1
           },
           {
            "name": "3 others",
            "count": 3
           }
          ]
         }
        },
        {
         "name": "_deepnote_index_column",
         "dtype": "int64"
        }
       ],
       "rows_top": [
        {
         "area_total": 71.4,
         "area_kitchen": 13.16,
         "area_living": 29.440000000000005,
         "floor": 2,
         "rooms": 1,
         "layout": 1,
         "windows_court": 1,
         "windows_street": 0,
         "balconies": 1,
         "condition": 0,
         "phones": 1,
         "building_id": 5148,
         "new": 0,
         "district": 0,
         "stories": 20,
         "elevator_passenger": 1,
         "elevator_service": 1,
         "parking": 1,
         "garbage_chute": 1,
         "heating": 0,
         "distance": 0.05241097794355376,
         "street": "2-я Черногрязская улица",
         "_deepnote_index_column": 0
        },
        {
         "area_total": 54,
         "area_kitchen": 4,
         "area_living": 50,
         "floor": 4,
         "rooms": 1,
         "layout": 1,
         "windows_court": 1,
         "windows_street": 0,
         "balconies": 0,
         "condition": 3,
         "phones": 1,
         "building_id": 1290,
         "new": 0,
         "district": 11,
         "stories": 15,
         "elevator_passenger": 1,
         "elevator_service": 1,
         "parking": 0,
         "garbage_chute": 0,
         "heating": 0,
         "distance": 0.21643576388850122,
         "street": "улица Сервантеса",
         "_deepnote_index_column": 1
        },
        {
         "area_total": 39.4,
         "area_kitchen": 19.6,
         "area_living": 11.2,
         "floor": 10,
         "rooms": 1,
         "layout": 1,
         "windows_court": 1,
         "windows_street": 0,
         "balconies": 0,
         "condition": 2,
         "phones": 1,
         "building_id": 681,
         "new": 1,
         "district": 11,
         "stories": 9,
         "elevator_passenger": 1,
         "elevator_service": 1,
         "parking": 1,
         "garbage_chute": 1,
         "heating": 0,
         "distance": 0.22887870545990124,
         "street": "Саларьево Парк ЖК",
         "_deepnote_index_column": 2
        },
        {
         "area_total": 60.9,
         "area_kitchen": 15.680000000000001,
         "area_living": 55.56,
         "floor": 5,
         "rooms": 2,
         "layout": 1,
         "windows_court": 0,
         "windows_street": 1,
         "balconies": 0,
         "condition": 0,
         "phones": 1,
         "building_id": 4261,
         "new": 0,
         "district": 11,
         "stories": 17,
         "elevator_passenger": 1,
         "elevator_service": 0,
         "parking": 0,
         "garbage_chute": 1,
         "heating": 3,
         "distance": 0.21739369540996625,
         "street": "улица Александры Монаховой",
         "_deepnote_index_column": 3
        },
        {
         "area_total": 34,
         "area_kitchen": 9,
         "area_living": 17,
         "floor": 14,
         "rooms": 1,
         "layout": 1,
         "windows_court": 1,
         "windows_street": 0,
         "balconies": 0,
         "condition": 1,
         "phones": 1,
         "building_id": 7530,
         "new": 0,
         "district": 11,
         "stories": 17,
         "elevator_passenger": 1,
         "elevator_service": 1,
         "parking": 1,
         "garbage_chute": 1,
         "heating": 0,
         "distance": 0.345584373087098,
         "street": "улица 3-я Нововатутинская",
         "_deepnote_index_column": 4
        }
       ],
       "rows_bottom": null
      },
      "text/plain": "   area_total  area_kitchen  area_living  floor  rooms  layout  windows_court  \\\n0        71.4         13.16        29.44      2      1       1              1   \n1        54.0          4.00        50.00      4      1       1              1   \n2        39.4         19.60        11.20     10      1       1              1   \n3        60.9         15.68        55.56      5      2       1              0   \n4        34.0          9.00        17.00     14      1       1              1   \n\n   windows_street  balconies  condition  ...  new  district  stories  \\\n0               0          1          0  ...    0         0       20   \n1               0          0          3  ...    0        11       15   \n2               0          0          2  ...    1        11        9   \n3               1          0          0  ...    0        11       17   \n4               0          0          1  ...    0        11       17   \n\n   elevator_passenger  elevator_service  parking  garbage_chute  heating  \\\n0                   1                 1        1              1        0   \n1                   1                 1        0              0        0   \n2                   1                 1        1              1        0   \n3                   1                 0        0              1        3   \n4                   1                 1        1              1        0   \n\n   distance                      street  \n0  0.052411     2-я Черногрязская улица  \n1  0.216436            улица Сервантеса  \n2  0.228879           Саларьево Парк ЖК  \n3  0.217394  улица Александры Монаховой  \n4  0.345584   улица 3-я Нововатутинская  \n\n[5 rows x 22 columns]",
      "text/html": "<div>\n<style scoped>\n    .dataframe tbody tr th:only-of-type {\n        vertical-align: middle;\n    }\n\n    .dataframe tbody tr th {\n        vertical-align: top;\n    }\n\n    .dataframe thead th {\n        text-align: right;\n    }\n</style>\n<table border=\"1\" class=\"dataframe\">\n  <thead>\n    <tr style=\"text-align: right;\">\n      <th></th>\n      <th>area_total</th>\n      <th>area_kitchen</th>\n      <th>area_living</th>\n      <th>floor</th>\n      <th>rooms</th>\n      <th>layout</th>\n      <th>windows_court</th>\n      <th>windows_street</th>\n      <th>balconies</th>\n      <th>condition</th>\n      <th>...</th>\n      <th>new</th>\n      <th>district</th>\n      <th>stories</th>\n      <th>elevator_passenger</th>\n      <th>elevator_service</th>\n      <th>parking</th>\n      <th>garbage_chute</th>\n      <th>heating</th>\n      <th>distance</th>\n      <th>street</th>\n    </tr>\n  </thead>\n  <tbody>\n    <tr>\n      <th>0</th>\n      <td>71.4</td>\n      <td>13.16</td>\n      <td>29.44</td>\n      <td>2</td>\n      <td>1</td>\n      <td>1</td>\n      <td>1</td>\n      <td>0</td>\n      <td>1</td>\n      <td>0</td>\n      <td>...</td>\n      <td>0</td>\n      <td>0</td>\n      <td>20</td>\n      <td>1</td>\n      <td>1</td>\n      <td>1</td>\n      <td>1</td>\n      <td>0</td>\n      <td>0.052411</td>\n      <td>2-я Черногрязская улица</td>\n    </tr>\n    <tr>\n      <th>1</th>\n      <td>54.0</td>\n      <td>4.00</td>\n      <td>50.00</td>\n      <td>4</td>\n      <td>1</td>\n      <td>1</td>\n      <td>1</td>\n      <td>0</td>\n      <td>0</td>\n      <td>3</td>\n      <td>...</td>\n      <td>0</td>\n      <td>11</td>\n      <td>15</td>\n      <td>1</td>\n      <td>1</td>\n      <td>0</td>\n      <td>0</td>\n      <td>0</td>\n      <td>0.216436</td>\n      <td>улица Сервантеса</td>\n    </tr>\n    <tr>\n      <th>2</th>\n      <td>39.4</td>\n      <td>19.60</td>\n      <td>11.20</td>\n      <td>10</td>\n      <td>1</td>\n      <td>1</td>\n      <td>1</td>\n      <td>0</td>\n      <td>0</td>\n      <td>2</td>\n      <td>...</td>\n      <td>1</td>\n      <td>11</td>\n      <td>9</td>\n      <td>1</td>\n      <td>1</td>\n      <td>1</td>\n      <td>1</td>\n      <td>0</td>\n      <td>0.228879</td>\n      <td>Саларьево Парк ЖК</td>\n    </tr>\n    <tr>\n      <th>3</th>\n      <td>60.9</td>\n      <td>15.68</td>\n      <td>55.56</td>\n      <td>5</td>\n      <td>2</td>\n      <td>1</td>\n      <td>0</td>\n      <td>1</td>\n      <td>0</td>\n      <td>0</td>\n      <td>...</td>\n      <td>0</td>\n      <td>11</td>\n      <td>17</td>\n      <td>1</td>\n      <td>0</td>\n      <td>0</td>\n      <td>1</td>\n      <td>3</td>\n      <td>0.217394</td>\n      <td>улица Александры Монаховой</td>\n    </tr>\n    <tr>\n      <th>4</th>\n      <td>34.0</td>\n      <td>9.00</td>\n      <td>17.00</td>\n      <td>14</td>\n      <td>1</td>\n      <td>1</td>\n      <td>1</td>\n      <td>0</td>\n      <td>0</td>\n      <td>1</td>\n      <td>...</td>\n      <td>0</td>\n      <td>11</td>\n      <td>17</td>\n      <td>1</td>\n      <td>1</td>\n      <td>1</td>\n      <td>1</td>\n      <td>0</td>\n      <td>0.345584</td>\n      <td>улица 3-я Нововатутинская</td>\n    </tr>\n  </tbody>\n</table>\n<p>5 rows × 22 columns</p>\n</div>"
     },
     "metadata": {}
    }
   ],
   "execution_count": null
  },
  {
   "cell_type": "code",
   "metadata": {
    "tags": [],
    "cell_id": "00025-abfb2861-6ca9-4df8-9e0e-8b8e493377a4",
    "deepnote_to_be_reexecuted": false,
    "source_hash": "b1f3fed8",
    "execution_start": 1637350593017,
    "execution_millis": 60,
    "deepnote_cell_type": "code"
   },
   "source": "area_total_train = X_train.area_total.values\narea_total_val = X_val.area_total.values\nX_train = X_train.drop(['area_total'], axis=1)\nX_val = X_val.drop(['area_total'], axis=1)\nX_train.head()",
   "outputs": [
    {
     "output_type": "execute_result",
     "execution_count": 46,
     "data": {
      "application/vnd.deepnote.dataframe.v2+json": {
       "row_count": 5,
       "column_count": 21,
       "columns": [
        {
         "name": "area_kitchen",
         "dtype": "float64",
         "stats": {
          "unique_count": 5,
          "nan_count": 0,
          "min": "6.0",
          "max": "16.1",
          "histogram": [
           {
            "bin_start": 6,
            "bin_end": 7.01,
            "count": 1
           },
           {
            "bin_start": 7.01,
            "bin_end": 8.02,
            "count": 1
           },
           {
            "bin_start": 8.02,
            "bin_end": 9.030000000000001,
            "count": 0
           },
           {
            "bin_start": 9.030000000000001,
            "bin_end": 10.040000000000001,
            "count": 0
           },
           {
            "bin_start": 10.040000000000001,
            "bin_end": 11.05,
            "count": 0
           },
           {
            "bin_start": 11.05,
            "bin_end": 12.060000000000002,
            "count": 0
           },
           {
            "bin_start": 12.060000000000002,
            "bin_end": 13.070000000000002,
            "count": 1
           },
           {
            "bin_start": 13.070000000000002,
            "bin_end": 14.080000000000002,
            "count": 0
           },
           {
            "bin_start": 14.080000000000002,
            "bin_end": 15.090000000000002,
            "count": 1
           },
           {
            "bin_start": 15.090000000000002,
            "bin_end": 16.1,
            "count": 1
           }
          ]
         }
        },
        {
         "name": "area_living",
         "dtype": "float64",
         "stats": {
          "unique_count": 5,
          "nan_count": 0,
          "min": "15.7",
          "max": "33.0",
          "histogram": [
           {
            "bin_start": 15.7,
            "bin_end": 17.43,
            "count": 1
           },
           {
            "bin_start": 17.43,
            "bin_end": 19.16,
            "count": 0
           },
           {
            "bin_start": 19.16,
            "bin_end": 20.89,
            "count": 0
           },
           {
            "bin_start": 20.89,
            "bin_end": 22.619999999999997,
            "count": 0
           },
           {
            "bin_start": 22.619999999999997,
            "bin_end": 24.35,
            "count": 0
           },
           {
            "bin_start": 24.35,
            "bin_end": 26.08,
            "count": 0
           },
           {
            "bin_start": 26.08,
            "bin_end": 27.81,
            "count": 1
           },
           {
            "bin_start": 27.81,
            "bin_end": 29.54,
            "count": 1
           },
           {
            "bin_start": 29.54,
            "bin_end": 31.27,
            "count": 1
           },
           {
            "bin_start": 31.27,
            "bin_end": 33,
            "count": 1
           }
          ]
         }
        },
        {
         "name": "floor",
         "dtype": "int64",
         "stats": {
          "unique_count": 4,
          "nan_count": 0,
          "min": "3",
          "max": "18",
          "histogram": [
           {
            "bin_start": 3,
            "bin_end": 4.5,
            "count": 2
           },
           {
            "bin_start": 4.5,
            "bin_end": 6,
            "count": 0
           },
           {
            "bin_start": 6,
            "bin_end": 7.5,
            "count": 0
           },
           {
            "bin_start": 7.5,
            "bin_end": 9,
            "count": 0
           },
           {
            "bin_start": 9,
            "bin_end": 10.5,
            "count": 1
           },
           {
            "bin_start": 10.5,
            "bin_end": 12,
            "count": 0
           },
           {
            "bin_start": 12,
            "bin_end": 13.5,
            "count": 0
           },
           {
            "bin_start": 13.5,
            "bin_end": 15,
            "count": 1
           },
           {
            "bin_start": 15,
            "bin_end": 16.5,
            "count": 0
           },
           {
            "bin_start": 16.5,
            "bin_end": 18,
            "count": 1
           }
          ]
         }
        },
        {
         "name": "rooms",
         "dtype": "int64",
         "stats": {
          "unique_count": 2,
          "nan_count": 0,
          "min": "1",
          "max": "2",
          "histogram": [
           {
            "bin_start": 1,
            "bin_end": 1.1,
            "count": 1
           },
           {
            "bin_start": 1.1,
            "bin_end": 1.2,
            "count": 0
           },
           {
            "bin_start": 1.2,
            "bin_end": 1.3,
            "count": 0
           },
           {
            "bin_start": 1.3,
            "bin_end": 1.4,
            "count": 0
           },
           {
            "bin_start": 1.4,
            "bin_end": 1.5,
            "count": 0
           },
           {
            "bin_start": 1.5,
            "bin_end": 1.6,
            "count": 0
           },
           {
            "bin_start": 1.6,
            "bin_end": 1.7000000000000002,
            "count": 0
           },
           {
            "bin_start": 1.7000000000000002,
            "bin_end": 1.8,
            "count": 0
           },
           {
            "bin_start": 1.8,
            "bin_end": 1.9,
            "count": 0
           },
           {
            "bin_start": 1.9,
            "bin_end": 2,
            "count": 4
           }
          ]
         }
        },
        {
         "name": "layout",
         "dtype": "int64",
         "stats": {
          "unique_count": 1,
          "nan_count": 0,
          "min": "1",
          "max": "1",
          "histogram": [
           {
            "bin_start": 0.5,
            "bin_end": 0.6,
            "count": 0
           },
           {
            "bin_start": 0.6,
            "bin_end": 0.7,
            "count": 0
           },
           {
            "bin_start": 0.7,
            "bin_end": 0.8,
            "count": 0
           },
           {
            "bin_start": 0.8,
            "bin_end": 0.9,
            "count": 0
           },
           {
            "bin_start": 0.9,
            "bin_end": 1,
            "count": 0
           },
           {
            "bin_start": 1,
            "bin_end": 1.1,
            "count": 5
           },
           {
            "bin_start": 1.1,
            "bin_end": 1.2000000000000002,
            "count": 0
           },
           {
            "bin_start": 1.2000000000000002,
            "bin_end": 1.3,
            "count": 0
           },
           {
            "bin_start": 1.3,
            "bin_end": 1.4,
            "count": 0
           },
           {
            "bin_start": 1.4,
            "bin_end": 1.5,
            "count": 0
           }
          ]
         }
        },
        {
         "name": "windows_court",
         "dtype": "int64",
         "stats": {
          "unique_count": 2,
          "nan_count": 0,
          "min": "0",
          "max": "1",
          "histogram": [
           {
            "bin_start": 0,
            "bin_end": 0.1,
            "count": 1
           },
           {
            "bin_start": 0.1,
            "bin_end": 0.2,
            "count": 0
           },
           {
            "bin_start": 0.2,
            "bin_end": 0.30000000000000004,
            "count": 0
           },
           {
            "bin_start": 0.30000000000000004,
            "bin_end": 0.4,
            "count": 0
           },
           {
            "bin_start": 0.4,
            "bin_end": 0.5,
            "count": 0
           },
           {
            "bin_start": 0.5,
            "bin_end": 0.6000000000000001,
            "count": 0
           },
           {
            "bin_start": 0.6000000000000001,
            "bin_end": 0.7000000000000001,
            "count": 0
           },
           {
            "bin_start": 0.7000000000000001,
            "bin_end": 0.8,
            "count": 0
           },
           {
            "bin_start": 0.8,
            "bin_end": 0.9,
            "count": 0
           },
           {
            "bin_start": 0.9,
            "bin_end": 1,
            "count": 4
           }
          ]
         }
        },
        {
         "name": "windows_street",
         "dtype": "int64",
         "stats": {
          "unique_count": 2,
          "nan_count": 0,
          "min": "0",
          "max": "1",
          "histogram": [
           {
            "bin_start": 0,
            "bin_end": 0.1,
            "count": 3
           },
           {
            "bin_start": 0.1,
            "bin_end": 0.2,
            "count": 0
           },
           {
            "bin_start": 0.2,
            "bin_end": 0.30000000000000004,
            "count": 0
           },
           {
            "bin_start": 0.30000000000000004,
            "bin_end": 0.4,
            "count": 0
           },
           {
            "bin_start": 0.4,
            "bin_end": 0.5,
            "count": 0
           },
           {
            "bin_start": 0.5,
            "bin_end": 0.6000000000000001,
            "count": 0
           },
           {
            "bin_start": 0.6000000000000001,
            "bin_end": 0.7000000000000001,
            "count": 0
           },
           {
            "bin_start": 0.7000000000000001,
            "bin_end": 0.8,
            "count": 0
           },
           {
            "bin_start": 0.8,
            "bin_end": 0.9,
            "count": 0
           },
           {
            "bin_start": 0.9,
            "bin_end": 1,
            "count": 2
           }
          ]
         }
        },
        {
         "name": "balconies",
         "dtype": "int64",
         "stats": {
          "unique_count": 2,
          "nan_count": 0,
          "min": "0",
          "max": "1",
          "histogram": [
           {
            "bin_start": 0,
            "bin_end": 0.1,
            "count": 1
           },
           {
            "bin_start": 0.1,
            "bin_end": 0.2,
            "count": 0
           },
           {
            "bin_start": 0.2,
            "bin_end": 0.30000000000000004,
            "count": 0
           },
           {
            "bin_start": 0.30000000000000004,
            "bin_end": 0.4,
            "count": 0
           },
           {
            "bin_start": 0.4,
            "bin_end": 0.5,
            "count": 0
           },
           {
            "bin_start": 0.5,
            "bin_end": 0.6000000000000001,
            "count": 0
           },
           {
            "bin_start": 0.6000000000000001,
            "bin_end": 0.7000000000000001,
            "count": 0
           },
           {
            "bin_start": 0.7000000000000001,
            "bin_end": 0.8,
            "count": 0
           },
           {
            "bin_start": 0.8,
            "bin_end": 0.9,
            "count": 0
           },
           {
            "bin_start": 0.9,
            "bin_end": 1,
            "count": 4
           }
          ]
         }
        },
        {
         "name": "condition",
         "dtype": "int64",
         "stats": {
          "unique_count": 2,
          "nan_count": 0,
          "min": "0",
          "max": "1",
          "histogram": [
           {
            "bin_start": 0,
            "bin_end": 0.1,
            "count": 2
           },
           {
            "bin_start": 0.1,
            "bin_end": 0.2,
            "count": 0
           },
           {
            "bin_start": 0.2,
            "bin_end": 0.30000000000000004,
            "count": 0
           },
           {
            "bin_start": 0.30000000000000004,
            "bin_end": 0.4,
            "count": 0
           },
           {
            "bin_start": 0.4,
            "bin_end": 0.5,
            "count": 0
           },
           {
            "bin_start": 0.5,
            "bin_end": 0.6000000000000001,
            "count": 0
           },
           {
            "bin_start": 0.6000000000000001,
            "bin_end": 0.7000000000000001,
            "count": 0
           },
           {
            "bin_start": 0.7000000000000001,
            "bin_end": 0.8,
            "count": 0
           },
           {
            "bin_start": 0.8,
            "bin_end": 0.9,
            "count": 0
           },
           {
            "bin_start": 0.9,
            "bin_end": 1,
            "count": 3
           }
          ]
         }
        },
        {
         "name": "phones",
         "dtype": "int64",
         "stats": {
          "unique_count": 2,
          "nan_count": 0,
          "min": "1",
          "max": "2",
          "histogram": [
           {
            "bin_start": 1,
            "bin_end": 1.1,
            "count": 4
           },
           {
            "bin_start": 1.1,
            "bin_end": 1.2,
            "count": 0
           },
           {
            "bin_start": 1.2,
            "bin_end": 1.3,
            "count": 0
           },
           {
            "bin_start": 1.3,
            "bin_end": 1.4,
            "count": 0
           },
           {
            "bin_start": 1.4,
            "bin_end": 1.5,
            "count": 0
           },
           {
            "bin_start": 1.5,
            "bin_end": 1.6,
            "count": 0
           },
           {
            "bin_start": 1.6,
            "bin_end": 1.7000000000000002,
            "count": 0
           },
           {
            "bin_start": 1.7000000000000002,
            "bin_end": 1.8,
            "count": 0
           },
           {
            "bin_start": 1.8,
            "bin_end": 1.9,
            "count": 0
           },
           {
            "bin_start": 1.9,
            "bin_end": 2,
            "count": 1
           }
          ]
         }
        },
        {
         "name": "building_id",
         "dtype": "int64",
         "stats": {
          "unique_count": 5,
          "nan_count": 0,
          "min": "528",
          "max": "9636",
          "histogram": [
           {
            "bin_start": 528,
            "bin_end": 1438.8,
            "count": 2
           },
           {
            "bin_start": 1438.8,
            "bin_end": 2349.6,
            "count": 1
           },
           {
            "bin_start": 2349.6,
            "bin_end": 3260.3999999999996,
            "count": 0
           },
           {
            "bin_start": 3260.3999999999996,
            "bin_end": 4171.2,
            "count": 0
           },
           {
            "bin_start": 4171.2,
            "bin_end": 5082,
            "count": 0
           },
           {
            "bin_start": 5082,
            "bin_end": 5992.799999999999,
            "count": 0
           },
           {
            "bin_start": 5992.799999999999,
            "bin_end": 6903.599999999999,
            "count": 0
           },
           {
            "bin_start": 6903.599999999999,
            "bin_end": 7814.4,
            "count": 1
           },
           {
            "bin_start": 7814.4,
            "bin_end": 8725.199999999999,
            "count": 0
           },
           {
            "bin_start": 8725.199999999999,
            "bin_end": 9636,
            "count": 1
           }
          ]
         }
        },
        {
         "name": "new",
         "dtype": "int64",
         "stats": {
          "unique_count": 2,
          "nan_count": 0,
          "min": "0",
          "max": "1",
          "histogram": [
           {
            "bin_start": 0,
            "bin_end": 0.1,
            "count": 3
           },
           {
            "bin_start": 0.1,
            "bin_end": 0.2,
            "count": 0
           },
           {
            "bin_start": 0.2,
            "bin_end": 0.30000000000000004,
            "count": 0
           },
           {
            "bin_start": 0.30000000000000004,
            "bin_end": 0.4,
            "count": 0
           },
           {
            "bin_start": 0.4,
            "bin_end": 0.5,
            "count": 0
           },
           {
            "bin_start": 0.5,
            "bin_end": 0.6000000000000001,
            "count": 0
           },
           {
            "bin_start": 0.6000000000000001,
            "bin_end": 0.7000000000000001,
            "count": 0
           },
           {
            "bin_start": 0.7000000000000001,
            "bin_end": 0.8,
            "count": 0
           },
           {
            "bin_start": 0.8,
            "bin_end": 0.9,
            "count": 0
           },
           {
            "bin_start": 0.9,
            "bin_end": 1,
            "count": 2
           }
          ]
         }
        },
        {
         "name": "district",
         "dtype": "int64",
         "stats": {
          "unique_count": 5,
          "nan_count": 0,
          "min": "2",
          "max": "11",
          "histogram": [
           {
            "bin_start": 2,
            "bin_end": 2.9,
            "count": 1
           },
           {
            "bin_start": 2.9,
            "bin_end": 3.8,
            "count": 0
           },
           {
            "bin_start": 3.8,
            "bin_end": 4.7,
            "count": 1
           },
           {
            "bin_start": 4.7,
            "bin_end": 5.6,
            "count": 0
           },
           {
            "bin_start": 5.6,
            "bin_end": 6.5,
            "count": 1
           },
           {
            "bin_start": 6.5,
            "bin_end": 7.4,
            "count": 0
           },
           {
            "bin_start": 7.4,
            "bin_end": 8.3,
            "count": 1
           },
           {
            "bin_start": 8.3,
            "bin_end": 9.2,
            "count": 0
           },
           {
            "bin_start": 9.2,
            "bin_end": 10.1,
            "count": 0
           },
           {
            "bin_start": 10.1,
            "bin_end": 11,
            "count": 1
           }
          ]
         }
        },
        {
         "name": "stories",
         "dtype": "int64",
         "stats": {
          "unique_count": 4,
          "nan_count": 0,
          "min": "9",
          "max": "20",
          "histogram": [
           {
            "bin_start": 9,
            "bin_end": 10.1,
            "count": 1
           },
           {
            "bin_start": 10.1,
            "bin_end": 11.2,
            "count": 0
           },
           {
            "bin_start": 11.2,
            "bin_end": 12.3,
            "count": 0
           },
           {
            "bin_start": 12.3,
            "bin_end": 13.4,
            "count": 0
           },
           {
            "bin_start": 13.4,
            "bin_end": 14.5,
            "count": 1
           },
           {
            "bin_start": 14.5,
            "bin_end": 15.600000000000001,
            "count": 0
           },
           {
            "bin_start": 15.600000000000001,
            "bin_end": 16.700000000000003,
            "count": 0
           },
           {
            "bin_start": 16.700000000000003,
            "bin_end": 17.8,
            "count": 1
           },
           {
            "bin_start": 17.8,
            "bin_end": 18.9,
            "count": 0
           },
           {
            "bin_start": 18.9,
            "bin_end": 20,
            "count": 2
           }
          ]
         }
        },
        {
         "name": "elevator_passenger",
         "dtype": "int64",
         "stats": {
          "unique_count": 1,
          "nan_count": 0,
          "min": "1",
          "max": "1",
          "histogram": [
           {
            "bin_start": 0.5,
            "bin_end": 0.6,
            "count": 0
           },
           {
            "bin_start": 0.6,
            "bin_end": 0.7,
            "count": 0
           },
           {
            "bin_start": 0.7,
            "bin_end": 0.8,
            "count": 0
           },
           {
            "bin_start": 0.8,
            "bin_end": 0.9,
            "count": 0
           },
           {
            "bin_start": 0.9,
            "bin_end": 1,
            "count": 0
           },
           {
            "bin_start": 1,
            "bin_end": 1.1,
            "count": 5
           },
           {
            "bin_start": 1.1,
            "bin_end": 1.2000000000000002,
            "count": 0
           },
           {
            "bin_start": 1.2000000000000002,
            "bin_end": 1.3,
            "count": 0
           },
           {
            "bin_start": 1.3,
            "bin_end": 1.4,
            "count": 0
           },
           {
            "bin_start": 1.4,
            "bin_end": 1.5,
            "count": 0
           }
          ]
         }
        },
        {
         "name": "elevator_service",
         "dtype": "int64",
         "stats": {
          "unique_count": 2,
          "nan_count": 0,
          "min": "0",
          "max": "1",
          "histogram": [
           {
            "bin_start": 0,
            "bin_end": 0.1,
            "count": 1
           },
           {
            "bin_start": 0.1,
            "bin_end": 0.2,
            "count": 0
           },
           {
            "bin_start": 0.2,
            "bin_end": 0.30000000000000004,
            "count": 0
           },
           {
            "bin_start": 0.30000000000000004,
            "bin_end": 0.4,
            "count": 0
           },
           {
            "bin_start": 0.4,
            "bin_end": 0.5,
            "count": 0
           },
           {
            "bin_start": 0.5,
            "bin_end": 0.6000000000000001,
            "count": 0
           },
           {
            "bin_start": 0.6000000000000001,
            "bin_end": 0.7000000000000001,
            "count": 0
           },
           {
            "bin_start": 0.7000000000000001,
            "bin_end": 0.8,
            "count": 0
           },
           {
            "bin_start": 0.8,
            "bin_end": 0.9,
            "count": 0
           },
           {
            "bin_start": 0.9,
            "bin_end": 1,
            "count": 4
           }
          ]
         }
        },
        {
         "name": "parking",
         "dtype": "int64",
         "stats": {
          "unique_count": 2,
          "nan_count": 0,
          "min": "0",
          "max": "1",
          "histogram": [
           {
            "bin_start": 0,
            "bin_end": 0.1,
            "count": 1
           },
           {
            "bin_start": 0.1,
            "bin_end": 0.2,
            "count": 0
           },
           {
            "bin_start": 0.2,
            "bin_end": 0.30000000000000004,
            "count": 0
           },
           {
            "bin_start": 0.30000000000000004,
            "bin_end": 0.4,
            "count": 0
           },
           {
            "bin_start": 0.4,
            "bin_end": 0.5,
            "count": 0
           },
           {
            "bin_start": 0.5,
            "bin_end": 0.6000000000000001,
            "count": 0
           },
           {
            "bin_start": 0.6000000000000001,
            "bin_end": 0.7000000000000001,
            "count": 0
           },
           {
            "bin_start": 0.7000000000000001,
            "bin_end": 0.8,
            "count": 0
           },
           {
            "bin_start": 0.8,
            "bin_end": 0.9,
            "count": 0
           },
           {
            "bin_start": 0.9,
            "bin_end": 1,
            "count": 4
           }
          ]
         }
        },
        {
         "name": "garbage_chute",
         "dtype": "int64",
         "stats": {
          "unique_count": 1,
          "nan_count": 0,
          "min": "1",
          "max": "1",
          "histogram": [
           {
            "bin_start": 0.5,
            "bin_end": 0.6,
            "count": 0
           },
           {
            "bin_start": 0.6,
            "bin_end": 0.7,
            "count": 0
           },
           {
            "bin_start": 0.7,
            "bin_end": 0.8,
            "count": 0
           },
           {
            "bin_start": 0.8,
            "bin_end": 0.9,
            "count": 0
           },
           {
            "bin_start": 0.9,
            "bin_end": 1,
            "count": 0
           },
           {
            "bin_start": 1,
            "bin_end": 1.1,
            "count": 5
           },
           {
            "bin_start": 1.1,
            "bin_end": 1.2000000000000002,
            "count": 0
           },
           {
            "bin_start": 1.2000000000000002,
            "bin_end": 1.3,
            "count": 0
           },
           {
            "bin_start": 1.3,
            "bin_end": 1.4,
            "count": 0
           },
           {
            "bin_start": 1.4,
            "bin_end": 1.5,
            "count": 0
           }
          ]
         }
        },
        {
         "name": "heating",
         "dtype": "int64",
         "stats": {
          "unique_count": 1,
          "nan_count": 0,
          "min": "0",
          "max": "0",
          "histogram": [
           {
            "bin_start": -0.5,
            "bin_end": -0.4,
            "count": 0
           },
           {
            "bin_start": -0.4,
            "bin_end": -0.3,
            "count": 0
           },
           {
            "bin_start": -0.3,
            "bin_end": -0.19999999999999996,
            "count": 0
           },
           {
            "bin_start": -0.19999999999999996,
            "bin_end": -0.09999999999999998,
            "count": 0
           },
           {
            "bin_start": -0.09999999999999998,
            "bin_end": 0,
            "count": 0
           },
           {
            "bin_start": 0,
            "bin_end": 0.10000000000000009,
            "count": 5
           },
           {
            "bin_start": 0.10000000000000009,
            "bin_end": 0.20000000000000007,
            "count": 0
           },
           {
            "bin_start": 0.20000000000000007,
            "bin_end": 0.30000000000000004,
            "count": 0
           },
           {
            "bin_start": 0.30000000000000004,
            "bin_end": 0.4,
            "count": 0
           },
           {
            "bin_start": 0.4,
            "bin_end": 0.5,
            "count": 0
           }
          ]
         }
        },
        {
         "name": "distance",
         "dtype": "float64",
         "stats": {
          "unique_count": 5,
          "nan_count": 0,
          "min": "0.10353336320722606",
          "max": "0.34992914625249233",
          "histogram": [
           {
            "bin_start": 0.10353336320722606,
            "bin_end": 0.12817294151175268,
            "count": 2
           },
           {
            "bin_start": 0.12817294151175268,
            "bin_end": 0.1528125198162793,
            "count": 1
           },
           {
            "bin_start": 0.1528125198162793,
            "bin_end": 0.17745209812080595,
            "count": 0
           },
           {
            "bin_start": 0.17745209812080595,
            "bin_end": 0.20209167642533257,
            "count": 0
           },
           {
            "bin_start": 0.20209167642533257,
            "bin_end": 0.2267312547298592,
            "count": 1
           },
           {
            "bin_start": 0.2267312547298592,
            "bin_end": 0.25137083303438584,
            "count": 0
           },
           {
            "bin_start": 0.25137083303438584,
            "bin_end": 0.27601041133891246,
            "count": 0
           },
           {
            "bin_start": 0.27601041133891246,
            "bin_end": 0.3006499896434391,
            "count": 0
           },
           {
            "bin_start": 0.3006499896434391,
            "bin_end": 0.3252895679479657,
            "count": 0
           },
           {
            "bin_start": 0.3252895679479657,
            "bin_end": 0.34992914625249233,
            "count": 1
           }
          ]
         }
        },
        {
         "name": "street",
         "dtype": "object",
         "stats": {
          "unique_count": 5,
          "nan_count": 0,
          "categories": [
           {
            "name": "Скандинавия ЖК",
            "count": 1
           },
           {
            "name": "улица Вертолетчиков",
            "count": 1
           },
           {
            "name": "3 others",
            "count": 3
           }
          ]
         }
        },
        {
         "name": "_deepnote_index_column",
         "dtype": "int64"
        }
       ],
       "rows_top": [
        {
         "area_kitchen": 16.1,
         "area_living": 28.2,
         "floor": 3,
         "rooms": 2,
         "layout": 1,
         "windows_court": 1,
         "windows_street": 0,
         "balconies": 0,
         "condition": 1,
         "phones": 1,
         "building_id": 1602,
         "new": 1,
         "district": 11,
         "stories": 14,
         "elevator_passenger": 1,
         "elevator_service": 1,
         "parking": 0,
         "garbage_chute": 1,
         "heating": 0,
         "distance": 0.20941892997768477,
         "street": "Скандинавия ЖК",
         "_deepnote_index_column": 8161
        },
        {
         "area_kitchen": 7.8,
         "area_living": 15.7,
         "floor": 10,
         "rooms": 1,
         "layout": 1,
         "windows_court": 1,
         "windows_street": 0,
         "balconies": 1,
         "condition": 0,
         "phones": 1,
         "building_id": 1167,
         "new": 0,
         "district": 4,
         "stories": 17,
         "elevator_passenger": 1,
         "elevator_service": 1,
         "parking": 1,
         "garbage_chute": 1,
         "heating": 0,
         "distance": 0.34992914625249233,
         "street": "улица Вертолетчиков",
         "_deepnote_index_column": 10138
        },
        {
         "area_kitchen": 6,
         "area_living": 30,
         "floor": 3,
         "rooms": 2,
         "layout": 1,
         "windows_court": 0,
         "windows_street": 1,
         "balconies": 1,
         "condition": 1,
         "phones": 1,
         "building_id": 528,
         "new": 0,
         "district": 6,
         "stories": 9,
         "elevator_passenger": 1,
         "elevator_service": 0,
         "parking": 1,
         "garbage_chute": 1,
         "heating": 0,
         "distance": 0.14123842098381778,
         "street": "улица Островитянова",
         "_deepnote_index_column": 4845
        },
        {
         "area_kitchen": 12.4,
         "area_living": 33,
         "floor": 18,
         "rooms": 2,
         "layout": 1,
         "windows_court": 1,
         "windows_street": 1,
         "balconies": 1,
         "condition": 0,
         "phones": 2,
         "building_id": 9636,
         "new": 0,
         "district": 2,
         "stories": 20,
         "elevator_passenger": 1,
         "elevator_service": 1,
         "parking": 1,
         "garbage_chute": 1,
         "heating": 0,
         "distance": 0.10353336320722606,
         "street": "Нововладыкинский проезд",
         "_deepnote_index_column": 7189
        },
        {
         "area_kitchen": 14.4,
         "area_living": 27.1,
         "floor": 14,
         "rooms": 2,
         "layout": 1,
         "windows_court": 1,
         "windows_street": 0,
         "balconies": 1,
         "condition": 1,
         "phones": 1,
         "building_id": 7644,
         "new": 1,
         "district": 8,
         "stories": 20,
         "elevator_passenger": 1,
         "elevator_service": 1,
         "parking": 1,
         "garbage_chute": 1,
         "heating": 0,
         "distance": 0.10843678079415796,
         "street": "3-я Хорошевская улица",
         "_deepnote_index_column": 14728
        }
       ],
       "rows_bottom": null
      },
      "text/plain": "       area_kitchen  area_living  floor  rooms  layout  windows_court  \\\n8161           16.1         28.2      3      2       1              1   \n10138           7.8         15.7     10      1       1              1   \n4845            6.0         30.0      3      2       1              0   \n7189           12.4         33.0     18      2       1              1   \n14728          14.4         27.1     14      2       1              1   \n\n       windows_street  balconies  condition  phones  ...  new  district  \\\n8161                0          0          1       1  ...    1        11   \n10138               0          1          0       1  ...    0         4   \n4845                1          1          1       1  ...    0         6   \n7189                1          1          0       2  ...    0         2   \n14728               0          1          1       1  ...    1         8   \n\n       stories  elevator_passenger  elevator_service  parking  garbage_chute  \\\n8161        14                   1                 1        0              1   \n10138       17                   1                 1        1              1   \n4845         9                   1                 0        1              1   \n7189        20                   1                 1        1              1   \n14728       20                   1                 1        1              1   \n\n       heating  distance                   street  \n8161         0  0.209419           Скандинавия ЖК  \n10138        0  0.349929      улица Вертолетчиков  \n4845         0  0.141238      улица Островитянова  \n7189         0  0.103533  Нововладыкинский проезд  \n14728        0  0.108437    3-я Хорошевская улица  \n\n[5 rows x 21 columns]",
      "text/html": "<div>\n<style scoped>\n    .dataframe tbody tr th:only-of-type {\n        vertical-align: middle;\n    }\n\n    .dataframe tbody tr th {\n        vertical-align: top;\n    }\n\n    .dataframe thead th {\n        text-align: right;\n    }\n</style>\n<table border=\"1\" class=\"dataframe\">\n  <thead>\n    <tr style=\"text-align: right;\">\n      <th></th>\n      <th>area_kitchen</th>\n      <th>area_living</th>\n      <th>floor</th>\n      <th>rooms</th>\n      <th>layout</th>\n      <th>windows_court</th>\n      <th>windows_street</th>\n      <th>balconies</th>\n      <th>condition</th>\n      <th>phones</th>\n      <th>...</th>\n      <th>new</th>\n      <th>district</th>\n      <th>stories</th>\n      <th>elevator_passenger</th>\n      <th>elevator_service</th>\n      <th>parking</th>\n      <th>garbage_chute</th>\n      <th>heating</th>\n      <th>distance</th>\n      <th>street</th>\n    </tr>\n  </thead>\n  <tbody>\n    <tr>\n      <th>8161</th>\n      <td>16.1</td>\n      <td>28.2</td>\n      <td>3</td>\n      <td>2</td>\n      <td>1</td>\n      <td>1</td>\n      <td>0</td>\n      <td>0</td>\n      <td>1</td>\n      <td>1</td>\n      <td>...</td>\n      <td>1</td>\n      <td>11</td>\n      <td>14</td>\n      <td>1</td>\n      <td>1</td>\n      <td>0</td>\n      <td>1</td>\n      <td>0</td>\n      <td>0.209419</td>\n      <td>Скандинавия ЖК</td>\n    </tr>\n    <tr>\n      <th>10138</th>\n      <td>7.8</td>\n      <td>15.7</td>\n      <td>10</td>\n      <td>1</td>\n      <td>1</td>\n      <td>1</td>\n      <td>0</td>\n      <td>1</td>\n      <td>0</td>\n      <td>1</td>\n      <td>...</td>\n      <td>0</td>\n      <td>4</td>\n      <td>17</td>\n      <td>1</td>\n      <td>1</td>\n      <td>1</td>\n      <td>1</td>\n      <td>0</td>\n      <td>0.349929</td>\n      <td>улица Вертолетчиков</td>\n    </tr>\n    <tr>\n      <th>4845</th>\n      <td>6.0</td>\n      <td>30.0</td>\n      <td>3</td>\n      <td>2</td>\n      <td>1</td>\n      <td>0</td>\n      <td>1</td>\n      <td>1</td>\n      <td>1</td>\n      <td>1</td>\n      <td>...</td>\n      <td>0</td>\n      <td>6</td>\n      <td>9</td>\n      <td>1</td>\n      <td>0</td>\n      <td>1</td>\n      <td>1</td>\n      <td>0</td>\n      <td>0.141238</td>\n      <td>улица Островитянова</td>\n    </tr>\n    <tr>\n      <th>7189</th>\n      <td>12.4</td>\n      <td>33.0</td>\n      <td>18</td>\n      <td>2</td>\n      <td>1</td>\n      <td>1</td>\n      <td>1</td>\n      <td>1</td>\n      <td>0</td>\n      <td>2</td>\n      <td>...</td>\n      <td>0</td>\n      <td>2</td>\n      <td>20</td>\n      <td>1</td>\n      <td>1</td>\n      <td>1</td>\n      <td>1</td>\n      <td>0</td>\n      <td>0.103533</td>\n      <td>Нововладыкинский проезд</td>\n    </tr>\n    <tr>\n      <th>14728</th>\n      <td>14.4</td>\n      <td>27.1</td>\n      <td>14</td>\n      <td>2</td>\n      <td>1</td>\n      <td>1</td>\n      <td>0</td>\n      <td>1</td>\n      <td>1</td>\n      <td>1</td>\n      <td>...</td>\n      <td>1</td>\n      <td>8</td>\n      <td>20</td>\n      <td>1</td>\n      <td>1</td>\n      <td>1</td>\n      <td>1</td>\n      <td>0</td>\n      <td>0.108437</td>\n      <td>3-я Хорошевская улица</td>\n    </tr>\n  </tbody>\n</table>\n<p>5 rows × 21 columns</p>\n</div>"
     },
     "metadata": {}
    }
   ],
   "execution_count": null
  },
  {
   "cell_type": "code",
   "metadata": {
    "tags": [],
    "cell_id": "00027-ae80f1be-9786-407f-889e-98ebcacb4ce3",
    "deepnote_to_be_reexecuted": false,
    "source_hash": "80526b75",
    "execution_start": 1637350600275,
    "execution_millis": 11,
    "deepnote_output_heights": [
     21
    ],
    "deepnote_cell_type": "code"
   },
   "source": "df_final = X1\ndf_final['price/area'] = y1.values\n\n#df1.to_csv('Training_clean.csv', index=False)\n#X1_test.to_csv('Test_clean.csv', index=False)\n",
   "outputs": [],
   "execution_count": null
  },
  {
   "cell_type": "code",
   "metadata": {
    "tags": [],
    "cell_id": "00029-355c3f3e-69a1-40c9-9f86-2db9d5b65c13",
    "deepnote_to_be_reexecuted": false,
    "source_hash": "cb3e04b6",
    "execution_start": 1637350608159,
    "execution_millis": 1,
    "deepnote_cell_type": "code"
   },
   "source": "categorical_features_indices = np.where(X_train.dtypes != np.float64)[0]\n",
   "outputs": [],
   "execution_count": null
  },
  {
   "cell_type": "code",
   "metadata": {
    "tags": [],
    "cell_id": "00029-145079f6-1f2d-44d1-a756-447550bbe7d7",
    "deepnote_to_be_reexecuted": false,
    "source_hash": "39422f16",
    "execution_start": 1637350614522,
    "execution_millis": 0,
    "deepnote_cell_type": "code"
   },
   "source": "def root_mean_squared_log_error(y_true, y_pred):\n    # Alternatively: sklearn.metrics.mean_squared_log_error(y_true, y_pred) ** 0.5\n    assert (y_true >= 0).all() \n    assert (y_pred >= 0).all()\n    log_error = np.log1p(y_pred) - np.log1p(y_true)  # Note: log1p(x) = log(1 + x)\n    return np.mean(log_error ** 2) ** 0.5\n\n#df_train = df_final\n#df_test = X1_test",
   "outputs": [],
   "execution_count": null
  },
  {
   "cell_type": "code",
   "metadata": {
    "tags": [],
    "cell_id": "00031-195e3007-7586-4037-b095-068786d39b4a",
    "deepnote_to_be_reexecuted": false,
    "source_hash": "d99de540",
    "execution_start": 1637350391514,
    "execution_millis": 9,
    "deepnote_cell_type": "code"
   },
   "source": "#hyper parameter\nn_estimators=[100,500,900,1100,1500]\nmax_depth=[2,3,5,10,15]\nbooster=[\"gbtree\",\"gblinear\"]\nlearning_rate=\"[0.05,0.1,0.15,0.20]\"\nmin_child_weight=[1,2,3,4]\nbase_score=[0.25,0.5,0.75,1]\n\norg_params = {\n    'n_estimators': n_estimators,\n    'learning_rate': learning_rate,\n    \"booster\":booster,\n    'eval_metric': 'RMSE',\n    'use_best_model': True,\n    'loss_function': 'RMSE',\n    'max_depth': max_depth,\n    \"min_child_weight\":min_child_weight,\n    \"base_score\":base_score\n}",
   "outputs": [],
   "execution_count": null
  },
  {
   "cell_type": "code",
   "metadata": {
    "tags": [],
    "cell_id": "00032-3631bb12-c80d-4e8c-8cb9-6d852ed1824c",
    "deepnote_to_be_reexecuted": true,
    "source_hash": "b9dc394",
    "execution_start": 1637346485126,
    "execution_millis": 2,
    "deepnote_output_heights": [
     116
    ],
    "deepnote_cell_type": "code"
   },
   "source": "y_train.head()",
   "outputs": [
    {
     "output_type": "execute_result",
     "execution_count": 49,
     "data": {
      "text/plain": "8161     136249.667250\n10138    157407.407407\n4845     188888.888889\n7189     176130.000000\n14728    207950.000000\nName: price/area, dtype: float64"
     },
     "metadata": {}
    }
   ],
   "execution_count": null
  },
  {
   "cell_type": "code",
   "metadata": {
    "tags": [],
    "cell_id": "00034-c4de153f-525b-4a32-b0bf-8c8c233c9486",
    "deepnote_to_be_reexecuted": false,
    "source_hash": "432fb887",
    "execution_start": 1637350985292,
    "execution_millis": 2168,
    "deepnote_output_heights": [
     null,
     21
    ],
    "deepnote_cell_type": "code"
   },
   "source": "print(model.score(X_train, y_train))\nfrom sklearn.metrics import r2_score\n\ny_pred = model.predict(X_val)\ny_pred = y_pred.astype(float)\nprint(model.score(X_val, y_val)), print(r2_score(y_pred, model.predict(X_val)))",
   "outputs": [
    {
     "name": "stdout",
     "text": "0.9562967883861663\n0.8559142538872013\n1.0\n",
     "output_type": "stream"
    },
    {
     "output_type": "execute_result",
     "execution_count": 53,
     "data": {
      "text/plain": "(None, None)"
     },
     "metadata": {}
    }
   ],
   "execution_count": null
  },
  {
   "cell_type": "code",
   "metadata": {
    "tags": [],
    "cell_id": "00035-a6248885-f547-45b9-a7a9-50e58c132f04",
    "deepnote_to_be_reexecuted": false,
    "source_hash": "949a2162",
    "execution_start": 1637350996613,
    "execution_millis": 53,
    "deepnote_cell_type": "code"
   },
   "source": "df=pd.DataFrame({'Actual': y_val, 'Predicted':y_pred})\ndf",
   "outputs": [
    {
     "output_type": "execute_result",
     "execution_count": 54,
     "data": {
      "application/vnd.deepnote.dataframe.v2+json": {
       "row_count": 4648,
       "column_count": 2,
       "columns": [
        {
         "name": "Actual",
         "dtype": "float64",
         "stats": {
          "unique_count": 3892,
          "nan_count": 0,
          "min": "53846.153846153844",
          "max": "1671453.8959276017",
          "histogram": [
           {
            "bin_start": 53846.153846153844,
            "bin_end": 215606.92805429865,
            "count": 2786
           },
           {
            "bin_start": 215606.92805429865,
            "bin_end": 377367.7022624435,
            "count": 1322
           },
           {
            "bin_start": 377367.7022624435,
            "bin_end": 539128.4764705882,
            "count": 309
           },
           {
            "bin_start": 539128.4764705882,
            "bin_end": 700889.2506787331,
            "count": 106
           },
           {
            "bin_start": 700889.2506787331,
            "bin_end": 862650.0248868779,
            "count": 63
           },
           {
            "bin_start": 862650.0248868779,
            "bin_end": 1024410.7990950227,
            "count": 31
           },
           {
            "bin_start": 1024410.7990950227,
            "bin_end": 1186171.5733031675,
            "count": 9
           },
           {
            "bin_start": 1186171.5733031675,
            "bin_end": 1347932.3475113122,
            "count": 12
           },
           {
            "bin_start": 1347932.3475113122,
            "bin_end": 1509693.121719457,
            "count": 7
           },
           {
            "bin_start": 1509693.121719457,
            "bin_end": 1671453.8959276017,
            "count": 3
           }
          ]
         }
        },
        {
         "name": "Predicted",
         "dtype": "float64",
         "stats": {
          "unique_count": 4615,
          "nan_count": 0,
          "min": "50595.04890868848",
          "max": "1342567.3614125736",
          "histogram": [
           {
            "bin_start": 50595.04890868848,
            "bin_end": 179792.28015907697,
            "count": 1708
           },
           {
            "bin_start": 179792.28015907697,
            "bin_end": 308989.51140946546,
            "count": 2084
           },
           {
            "bin_start": 308989.51140946546,
            "bin_end": 438186.742659854,
            "count": 440
           },
           {
            "bin_start": 438186.742659854,
            "bin_end": 567383.9739102426,
            "count": 199
           },
           {
            "bin_start": 567383.9739102426,
            "bin_end": 696581.205160631,
            "count": 94
           },
           {
            "bin_start": 696581.205160631,
            "bin_end": 825778.4364110195,
            "count": 80
           },
           {
            "bin_start": 825778.4364110195,
            "bin_end": 954975.667661408,
            "count": 23
           },
           {
            "bin_start": 954975.667661408,
            "bin_end": 1084172.8989117965,
            "count": 13
           },
           {
            "bin_start": 1084172.8989117965,
            "bin_end": 1213370.130162185,
            "count": 5
           },
           {
            "bin_start": 1213370.130162185,
            "bin_end": 1342567.3614125736,
            "count": 2
           }
          ]
         }
        },
        {
         "name": "_deepnote_index_column",
         "dtype": "int64"
        }
       ],
       "rows_top": [
        {
         "Actual": 200000,
         "Predicted": 204027.26947619056,
         "_deepnote_index_column": 17722
        },
        {
         "Actual": 118300.00000000001,
         "Predicted": 122338.45240162248,
         "_deepnote_index_column": 10791
        },
        {
         "Actual": 182400,
         "Predicted": 176115.25954471016,
         "_deepnote_index_column": 13285
        },
        {
         "Actual": 195876.28865979382,
         "Predicted": 176551.53090227646,
         "_deepnote_index_column": 14456
        },
        {
         "Actual": 91836.73469387754,
         "Predicted": 104845.29865047801,
         "_deepnote_index_column": 2329
        },
        {
         "Actual": 184369.9990460746,
         "Predicted": 191860.9869348397,
         "_deepnote_index_column": 8357
        },
        {
         "Actual": 639947.6989247312,
         "Predicted": 556921.9610475881,
         "_deepnote_index_column": 16751
        },
        {
         "Actual": 180899.0014684288,
         "Predicted": 181130.42105783656,
         "_deepnote_index_column": 1475
        },
        {
         "Actual": 589743.5897435897,
         "Predicted": 591342.8185475899,
         "_deepnote_index_column": 10859
        },
        {
         "Actual": 236900,
         "Predicted": 249916.98902312192,
         "_deepnote_index_column": 1427
        },
        {
         "Actual": 157800,
         "Predicted": 169103.3674607434,
         "_deepnote_index_column": 4501
        },
        {
         "Actual": 116500,
         "Predicted": 120802.82845109736,
         "_deepnote_index_column": 246
        },
        {
         "Actual": 303000,
         "Predicted": 323335.08188162936,
         "_deepnote_index_column": 15752
        },
        {
         "Actual": 229281.7679558011,
         "Predicted": 202285.37384715624,
         "_deepnote_index_column": 16317
        },
        {
         "Actual": 199971.83869897114,
         "Predicted": 214951.14029080095,
         "_deepnote_index_column": 14921
        },
        {
         "Actual": 265200.5174644243,
         "Predicted": 275195.43473608105,
         "_deepnote_index_column": 5283
        },
        {
         "Actual": 197699.99999999997,
         "Predicted": 180638.69944442465,
         "_deepnote_index_column": 21858
        },
        {
         "Actual": 214473.68421052632,
         "Predicted": 188552.1882942759,
         "_deepnote_index_column": 12893
        },
        {
         "Actual": 170000,
         "Predicted": 176196.07167495374,
         "_deepnote_index_column": 1804
        },
        {
         "Actual": 145000,
         "Predicted": 173451.08616586094,
         "_deepnote_index_column": 15289
        },
        {
         "Actual": 243770.30162412993,
         "Predicted": 254622.46069114344,
         "_deepnote_index_column": 6525
        },
        {
         "Actual": 509090.9090909091,
         "Predicted": 464639.58606464777,
         "_deepnote_index_column": 1270
        },
        {
         "Actual": 200944.46322907862,
         "Predicted": 199408.55540482924,
         "_deepnote_index_column": 5696
        },
        {
         "Actual": 230357.14285714287,
         "Predicted": 240146.35378009567,
         "_deepnote_index_column": 17822
        },
        {
         "Actual": 231379.99685732243,
         "Predicted": 279629.96248819394,
         "_deepnote_index_column": 2072
        },
        {
         "Actual": 193600.00000000003,
         "Predicted": 187148.72980768114,
         "_deepnote_index_column": 20918
        },
        {
         "Actual": 407894.7368421053,
         "Predicted": 376480.03428150335,
         "_deepnote_index_column": 1251
        },
        {
         "Actual": 468750,
         "Predicted": 552875.7754615378,
         "_deepnote_index_column": 3008
        },
        {
         "Actual": 205800,
         "Predicted": 210571.8187536673,
         "_deepnote_index_column": 12322
        },
        {
         "Actual": 200000,
         "Predicted": 200081.43320194885,
         "_deepnote_index_column": 19199
        },
        {
         "Actual": 209864.70731707316,
         "Predicted": 215425.03644408117,
         "_deepnote_index_column": 13993
        },
        {
         "Actual": 180434.78260869565,
         "Predicted": 180357.03464051857,
         "_deepnote_index_column": 14258
        },
        {
         "Actual": 180672.26890756303,
         "Predicted": 201511.76611636576,
         "_deepnote_index_column": 18914
        },
        {
         "Actual": 218991.3544668588,
         "Predicted": 267742.13949922763,
         "_deepnote_index_column": 993
        },
        {
         "Actual": 124775.71100917431,
         "Predicted": 130627.95262981078,
         "_deepnote_index_column": 20169
        },
        {
         "Actual": 189923.95437262356,
         "Predicted": 183288.52692131136,
         "_deepnote_index_column": 8775
        },
        {
         "Actual": 165714.2857142857,
         "Predicted": 145195.75988089488,
         "_deepnote_index_column": 4355
        },
        {
         "Actual": 225000,
         "Predicted": 223618.47386125795,
         "_deepnote_index_column": 3946
        },
        {
         "Actual": 159090.9090909091,
         "Predicted": 153729.33357577136,
         "_deepnote_index_column": 21617
        },
        {
         "Actual": 267000,
         "Predicted": 285092.56789087504,
         "_deepnote_index_column": 7040
        },
        {
         "Actual": 354477.6119402985,
         "Predicted": 346494.403127442,
         "_deepnote_index_column": 16401
        },
        {
         "Actual": 116920.23474178404,
         "Predicted": 113658.17944981204,
         "_deepnote_index_column": 5604
        },
        {
         "Actual": 437823.83419689117,
         "Predicted": 599815.5330485873,
         "_deepnote_index_column": 7157
        },
        {
         "Actual": 143712.5748502994,
         "Predicted": 173583.3395037466,
         "_deepnote_index_column": 18600
        },
        {
         "Actual": 137209.3023255814,
         "Predicted": 141806.75029891334,
         "_deepnote_index_column": 20190
        },
        {
         "Actual": 160256.41025641025,
         "Predicted": 174247.36428584112,
         "_deepnote_index_column": 7367
        },
        {
         "Actual": 273000,
         "Predicted": 268784.85937551747,
         "_deepnote_index_column": 11945
        },
        {
         "Actual": 328658.9005930778,
         "Predicted": 324229.72428439924,
         "_deepnote_index_column": 481
        },
        {
         "Actual": 207547.16981132075,
         "Predicted": 236747.8319605341,
         "_deepnote_index_column": 16688
        },
        {
         "Actual": 336538.46153846156,
         "Predicted": 299765.8633378445,
         "_deepnote_index_column": 12998
        },
        {
         "Actual": 223333.33333333334,
         "Predicted": 240958.10748448825,
         "_deepnote_index_column": 2578
        },
        {
         "Actual": 104000,
         "Predicted": 117412.65918815242,
         "_deepnote_index_column": 22358
        },
        {
         "Actual": 225531.89361702127,
         "Predicted": 250291.46305541202,
         "_deepnote_index_column": 7915
        },
        {
         "Actual": 174048.00718132855,
         "Predicted": 160704.3899645392,
         "_deepnote_index_column": 21127
        },
        {
         "Actual": 213200,
         "Predicted": 194001.4676585297,
         "_deepnote_index_column": 9946
        },
        {
         "Actual": 96721.31147540984,
         "Predicted": 97623.08177970676,
         "_deepnote_index_column": 8224
        },
        {
         "Actual": 182300,
         "Predicted": 170108.70905710233,
         "_deepnote_index_column": 1945
        },
        {
         "Actual": 153225.8064516129,
         "Predicted": 173782.24109383413,
         "_deepnote_index_column": 16934
        },
        {
         "Actual": 150384.61538461538,
         "Predicted": 166425.8586756463,
         "_deepnote_index_column": 22004
        },
        {
         "Actual": 292307.6923076923,
         "Predicted": 293637.81121911184,
         "_deepnote_index_column": 8060
        },
        {
         "Actual": 161706.3492063492,
         "Predicted": 171681.52210940106,
         "_deepnote_index_column": 18511
        },
        {
         "Actual": 174000,
         "Predicted": 180391.5343803928,
         "_deepnote_index_column": 1925
        },
        {
         "Actual": 60329.0676416819,
         "Predicted": 50595.04890868848,
         "_deepnote_index_column": 8178
        },
        {
         "Actual": 219017.09401709403,
         "Predicted": 213121.58664703267,
         "_deepnote_index_column": 7597
        },
        {
         "Actual": 225974.02597402598,
         "Predicted": 229355.9963317466,
         "_deepnote_index_column": 4862
        },
        {
         "Actual": 207200,
         "Predicted": 227247.3170870575,
         "_deepnote_index_column": 6607
        },
        {
         "Actual": 168000.00000000003,
         "Predicted": 175853.68792148132,
         "_deepnote_index_column": 2939
        },
        {
         "Actual": 142500,
         "Predicted": 149521.30049605886,
         "_deepnote_index_column": 18736
        },
        {
         "Actual": 433333.3333333333,
         "Predicted": 427236.2724794508,
         "_deepnote_index_column": 3337
        },
        {
         "Actual": 116753.92670157069,
         "Predicted": 133497.66773858084,
         "_deepnote_index_column": 227
        },
        {
         "Actual": 243333.33333333334,
         "Predicted": 239313.6231622795,
         "_deepnote_index_column": 17962
        },
        {
         "Actual": 118518.51851851853,
         "Predicted": 132850.71887391826,
         "_deepnote_index_column": 4230
        },
        {
         "Actual": 147500,
         "Predicted": 170867.19501626713,
         "_deepnote_index_column": 14919
        },
        {
         "Actual": 85735.9635811836,
         "Predicted": 90475.48995615431,
         "_deepnote_index_column": 13718
        },
        {
         "Actual": 172222.22222222222,
         "Predicted": 196446.76198882525,
         "_deepnote_index_column": 19704
        },
        {
         "Actual": 191891.8918918919,
         "Predicted": 214271.13573039617,
         "_deepnote_index_column": 17853
        },
        {
         "Actual": 133333.33333333334,
         "Predicted": 151863.1854384333,
         "_deepnote_index_column": 4714
        },
        {
         "Actual": 218814.84897394513,
         "Predicted": 254774.5269177343,
         "_deepnote_index_column": 11969
        },
        {
         "Actual": 348837.20930232556,
         "Predicted": 263555.2844771055,
         "_deepnote_index_column": 19396
        },
        {
         "Actual": 219000,
         "Predicted": 216662.91717205697,
         "_deepnote_index_column": 20460
        },
        {
         "Actual": 148846.9601677149,
         "Predicted": 159414.2987797702,
         "_deepnote_index_column": 22892
        },
        {
         "Actual": 85144.92753623187,
         "Predicted": 153826.0668868189,
         "_deepnote_index_column": 8222
        },
        {
         "Actual": 549636.6083445492,
         "Predicted": 516892.1850799176,
         "_deepnote_index_column": 17491
        },
        {
         "Actual": 193750,
         "Predicted": 180571.5773073542,
         "_deepnote_index_column": 5388
        },
        {
         "Actual": 151138.98186889818,
         "Predicted": 161793.43835916856,
         "_deepnote_index_column": 11352
        },
        {
         "Actual": 177083.33333333334,
         "Predicted": 209090.26936655265,
         "_deepnote_index_column": 10620
        },
        {
         "Actual": 154700,
         "Predicted": 157487.9027625463,
         "_deepnote_index_column": 21682
        },
        {
         "Actual": 145000,
         "Predicted": 141883.40917711004,
         "_deepnote_index_column": 21310
        },
        {
         "Actual": 267459.1381872214,
         "Predicted": 309634.4935104699,
         "_deepnote_index_column": 14582
        },
        {
         "Actual": 200000,
         "Predicted": 219138.01747677286,
         "_deepnote_index_column": 11450
        },
        {
         "Actual": 256999.99999999997,
         "Predicted": 251950.76015235324,
         "_deepnote_index_column": 18333
        },
        {
         "Actual": 130000,
         "Predicted": 153803.65962495084,
         "_deepnote_index_column": 17140
        },
        {
         "Actual": 164414.4144144144,
         "Predicted": 162111.06528567255,
         "_deepnote_index_column": 8390
        },
        {
         "Actual": 180000,
         "Predicted": 208829.02707959004,
         "_deepnote_index_column": 4405
        },
        {
         "Actual": 157100,
         "Predicted": 153897.975056015,
         "_deepnote_index_column": 21853
        },
        {
         "Actual": 510562.4742268041,
         "Predicted": 437801.5856766193,
         "_deepnote_index_column": 10890
        },
        {
         "Actual": 267631.8622174381,
         "Predicted": 231950.56139927098,
         "_deepnote_index_column": 22416
        },
        {
         "Actual": 633356.8538011695,
         "Predicted": 643332.8397111179,
         "_deepnote_index_column": 2802
        },
        {
         "Actual": 216666.66666666666,
         "Predicted": 231245.28081526753,
         "_deepnote_index_column": 4841
        },
        {
         "Actual": 220930.23255813954,
         "Predicted": 271132.80447841255,
         "_deepnote_index_column": 551
        },
        {
         "Actual": 145121.9512195122,
         "Predicted": 140728.4432294509,
         "_deepnote_index_column": 18058
        },
        {
         "Actual": 155000,
         "Predicted": 163033.98801908386,
         "_deepnote_index_column": 5661
        },
        {
         "Actual": 156500,
         "Predicted": 148916.60324956587,
         "_deepnote_index_column": 11592
        },
        {
         "Actual": 189000,
         "Predicted": 195613.00599421927,
         "_deepnote_index_column": 22512
        },
        {
         "Actual": 133293.6344537815,
         "Predicted": 142874.60411301325,
         "_deepnote_index_column": 6260
        },
        {
         "Actual": 150862.06896551725,
         "Predicted": 204606.2523342592,
         "_deepnote_index_column": 6000
        },
        {
         "Actual": 184300,
         "Predicted": 183157.69191011932,
         "_deepnote_index_column": 22881
        },
        {
         "Actual": 244500.00000000003,
         "Predicted": 251393.9898048561,
         "_deepnote_index_column": 1541
        },
        {
         "Actual": 168000,
         "Predicted": 190857.57154796986,
         "_deepnote_index_column": 6927
        },
        {
         "Actual": 512500,
         "Predicted": 464780.21811245225,
         "_deepnote_index_column": 5344
        },
        {
         "Actual": 188976.37795275592,
         "Predicted": 224793.49599938636,
         "_deepnote_index_column": 5034
        },
        {
         "Actual": 347725.24544179527,
         "Predicted": 323085.79900665826,
         "_deepnote_index_column": 15361
        },
        {
         "Actual": 163017.0316301703,
         "Predicted": 170762.80394213542,
         "_deepnote_index_column": 10679
        },
        {
         "Actual": 185714.2857142857,
         "Predicted": 194945.58781177056,
         "_deepnote_index_column": 16970
        },
        {
         "Actual": 220430.1075268817,
         "Predicted": 299332.4182470952,
         "_deepnote_index_column": 5312
        },
        {
         "Actual": 148126.36165577342,
         "Predicted": 142782.50742090459,
         "_deepnote_index_column": 9428
        },
        {
         "Actual": 163888.88888888888,
         "Predicted": 165765.33044746547,
         "_deepnote_index_column": 3860
        },
        {
         "Actual": 114114.992,
         "Predicted": 108614.08385682656,
         "_deepnote_index_column": 5593
        },
        {
         "Actual": 138888.88888888888,
         "Predicted": 158837.58057625877,
         "_deepnote_index_column": 10543
        },
        {
         "Actual": 298210.7355864811,
         "Predicted": 288197.57455847773,
         "_deepnote_index_column": 22486
        },
        {
         "Actual": 118100,
         "Predicted": 113034.67742930472,
         "_deepnote_index_column": 17288
        },
        {
         "Actual": 127586.20689655172,
         "Predicted": 150489.52106876584,
         "_deepnote_index_column": 18342
        },
        {
         "Actual": 235000,
         "Predicted": 206367.87059042102,
         "_deepnote_index_column": 20474
        },
        {
         "Actual": 169076.92307692306,
         "Predicted": 203487.96375556674,
         "_deepnote_index_column": 12971
        },
        {
         "Actual": 176666.66666666666,
         "Predicted": 165579.61671189143,
         "_deepnote_index_column": 5985
        },
        {
         "Actual": 381388.2532418002,
         "Predicted": 517948.01067821024,
         "_deepnote_index_column": 17204
        },
        {
         "Actual": 234945.70582428432,
         "Predicted": 260756.66475562495,
         "_deepnote_index_column": 19157
        },
        {
         "Actual": 406504.0650406504,
         "Predicted": 500111.3726011235,
         "_deepnote_index_column": 3291
        },
        {
         "Actual": 228571.42857142858,
         "Predicted": 228722.92372266125,
         "_deepnote_index_column": 2887
        },
        {
         "Actual": 127536.23188405797,
         "Predicted": 153427.74430502026,
         "_deepnote_index_column": 5794
        },
        {
         "Actual": 191100,
         "Predicted": 197570.04467124533,
         "_deepnote_index_column": 456
        },
        {
         "Actual": 276296.90036900365,
         "Predicted": 264007.1033741589,
         "_deepnote_index_column": 1524
        },
        {
         "Actual": 128581.888,
         "Predicted": 141395.4225294439,
         "_deepnote_index_column": 5618
        },
        {
         "Actual": 229678.45016976233,
         "Predicted": 217801.66874677181,
         "_deepnote_index_column": 6604
        },
        {
         "Actual": 277198.21162444114,
         "Predicted": 224617.41576608905,
         "_deepnote_index_column": 6517
        },
        {
         "Actual": 251470.58823529413,
         "Predicted": 250266.563185317,
         "_deepnote_index_column": 22568
        },
        {
         "Actual": 572646.1579438008,
         "Predicted": 423969.108796068,
         "_deepnote_index_column": 3268
        },
        {
         "Actual": 179500,
         "Predicted": 175612.418813387,
         "_deepnote_index_column": 1421
        },
        {
         "Actual": 175000,
         "Predicted": 162142.89683148026,
         "_deepnote_index_column": 10521
        },
        {
         "Actual": 186936.93693693695,
         "Predicted": 178037.07308244653,
         "_deepnote_index_column": 12487
        },
        {
         "Actual": 255952.38095238095,
         "Predicted": 240842.00022289366,
         "_deepnote_index_column": 22625
        },
        {
         "Actual": 176785.7142857143,
         "Predicted": 168900.20617563877,
         "_deepnote_index_column": 4131
        },
        {
         "Actual": 225475.1966292135,
         "Predicted": 242351.7631669904,
         "_deepnote_index_column": 11398
        },
        {
         "Actual": 202614.3790849673,
         "Predicted": 194229.2148331385,
         "_deepnote_index_column": 8528
        },
        {
         "Actual": 184700,
         "Predicted": 185920.73359180367,
         "_deepnote_index_column": 1989
        },
        {
         "Actual": 195454.54545454544,
         "Predicted": 197761.39821902377,
         "_deepnote_index_column": 11734
        },
        {
         "Actual": 222101.69491525425,
         "Predicted": 244173.16446586177,
         "_deepnote_index_column": 11559
        },
        {
         "Actual": 321100.91743119265,
         "Predicted": 306174.976732658,
         "_deepnote_index_column": 15408
        },
        {
         "Actual": 133238.92448512584,
         "Predicted": 141353.39407694057,
         "_deepnote_index_column": 9940
        },
        {
         "Actual": 341341.46341463417,
         "Predicted": 354216.2319384401,
         "_deepnote_index_column": 881
        },
        {
         "Actual": 319000,
         "Predicted": 295912.84694088344,
         "_deepnote_index_column": 15610
        },
        {
         "Actual": 257126.99140401147,
         "Predicted": 276038.9494626086,
         "_deepnote_index_column": 10673
        },
        {
         "Actual": 208904.1095890411,
         "Predicted": 186499.66468381652,
         "_deepnote_index_column": 22148
        },
        {
         "Actual": 196875,
         "Predicted": 201212.33574544697,
         "_deepnote_index_column": 14817
        },
        {
         "Actual": 201133.1444759207,
         "Predicted": 208753.37779347965,
         "_deepnote_index_column": 17684
        },
        {
         "Actual": 133400,
         "Predicted": 130463.07161992224,
         "_deepnote_index_column": 20033
        },
        {
         "Actual": 234000,
         "Predicted": 240476.8528881408,
         "_deepnote_index_column": 22070
        },
        {
         "Actual": 121800,
         "Predicted": 116399.59902498528,
         "_deepnote_index_column": 11288
        },
        {
         "Actual": 153174.6031746032,
         "Predicted": 167588.61791192024,
         "_deepnote_index_column": 8507
        },
        {
         "Actual": 311764.70588235295,
         "Predicted": 374825.6491727733,
         "_deepnote_index_column": 17183
        },
        {
         "Actual": 244974.8743718593,
         "Predicted": 233977.54647948738,
         "_deepnote_index_column": 1260
        },
        {
         "Actual": 209302.32558139536,
         "Predicted": 248706.6516892264,
         "_deepnote_index_column": 6958
        },
        {
         "Actual": 410108.99529042386,
         "Predicted": 387422.0972869522,
         "_deepnote_index_column": 16475
        },
        {
         "Actual": 243856.3585951941,
         "Predicted": 273022.3791349238,
         "_deepnote_index_column": 565
        },
        {
         "Actual": 158567.14768883877,
         "Predicted": 156380.88795405242,
         "_deepnote_index_column": 10341
        },
        {
         "Actual": 280632.41106719367,
         "Predicted": 245057.09007741144,
         "_deepnote_index_column": 17700
        },
        {
         "Actual": 184222.22222222222,
         "Predicted": 189173.06787461822,
         "_deepnote_index_column": 4829
        },
        {
         "Actual": 171212.12121212122,
         "Predicted": 176568.53393664275,
         "_deepnote_index_column": 10148
        },
        {
         "Actual": 198817.20430107528,
         "Predicted": 177909.26522406825,
         "_deepnote_index_column": 6152
        },
        {
         "Actual": 250793.6507936508,
         "Predicted": 226656.17065557896,
         "_deepnote_index_column": 17430
        },
        {
         "Actual": 229166.66666666666,
         "Predicted": 217941.72674751916,
         "_deepnote_index_column": 10450
        },
        {
         "Actual": 152884.61538461538,
         "Predicted": 165471.38229602523,
         "_deepnote_index_column": 16063
        },
        {
         "Actual": 114800.00000000001,
         "Predicted": 104437.62231592016,
         "_deepnote_index_column": 6398
        },
        {
         "Actual": 425887.26513569936,
         "Predicted": 360265.75012115436,
         "_deepnote_index_column": 21233
        },
        {
         "Actual": 200000,
         "Predicted": 205180.2927395031,
         "_deepnote_index_column": 18903
        },
        {
         "Actual": 176500,
         "Predicted": 149457.29542610032,
         "_deepnote_index_column": 4172
        },
        {
         "Actual": 135000,
         "Predicted": 124829.82296546121,
         "_deepnote_index_column": 4281
        },
        {
         "Actual": 185185.1851851852,
         "Predicted": 189329.12070109154,
         "_deepnote_index_column": 7088
        },
        {
         "Actual": 135967.004482557,
         "Predicted": 134739.29414605282,
         "_deepnote_index_column": 8155
        },
        {
         "Actual": 386473.42995169084,
         "Predicted": 324915.5211243877,
         "_deepnote_index_column": 612
        },
        {
         "Actual": 375000,
         "Predicted": 326048.1291956894,
         "_deepnote_index_column": 15474
        },
        {
         "Actual": 234545.45454545456,
         "Predicted": 216984.4997596589,
         "_deepnote_index_column": 21975
        },
        {
         "Actual": 235772.71468144044,
         "Predicted": 257126.00823560133,
         "_deepnote_index_column": 20963
        },
        {
         "Actual": 542507.6452599388,
         "Predicted": 749287.5177302548,
         "_deepnote_index_column": 16639
        },
        {
         "Actual": 268235.29411764705,
         "Predicted": 301782.3297109071,
         "_deepnote_index_column": 1312
        },
        {
         "Actual": 90816.32653061225,
         "Predicted": 109709.76185641155,
         "_deepnote_index_column": 20279
        },
        {
         "Actual": 200000,
         "Predicted": 188303.33128529685,
         "_deepnote_index_column": 21904
        },
        {
         "Actual": 278232.40589198034,
         "Predicted": 254334.65064087673,
         "_deepnote_index_column": 14302
        },
        {
         "Actual": 174490.19607843139,
         "Predicted": 167019.2166689991,
         "_deepnote_index_column": 16198
        },
        {
         "Actual": 258964.14342629482,
         "Predicted": 268616.61838499195,
         "_deepnote_index_column": 16707
        },
        {
         "Actual": 196759.25925925924,
         "Predicted": 191998.4840508463,
         "_deepnote_index_column": 21533
        },
        {
         "Actual": 154411.76470588235,
         "Predicted": 148891.04923917854,
         "_deepnote_index_column": 11952
        },
        {
         "Actual": 180750,
         "Predicted": 327450.3702486224,
         "_deepnote_index_column": 18161
        },
        {
         "Actual": 169000,
         "Predicted": 183858.94199892765,
         "_deepnote_index_column": 10716
        },
        {
         "Actual": 222300.00000000003,
         "Predicted": 233918.52788990052,
         "_deepnote_index_column": 1883
        },
        {
         "Actual": 256529.9919623378,
         "Predicted": 277350.1821303023,
         "_deepnote_index_column": 10406
        },
        {
         "Actual": 241000,
         "Predicted": 241110.47848931758,
         "_deepnote_index_column": 12866
        },
        {
         "Actual": 388095.2380952381,
         "Predicted": 347174.21921056556,
         "_deepnote_index_column": 12082
        },
        {
         "Actual": 183769.99765972386,
         "Predicted": 198523.0043982123,
         "_deepnote_index_column": 5113
        },
        {
         "Actual": 180547.94520547945,
         "Predicted": 201037.57709238905,
         "_deepnote_index_column": 13144
        },
        {
         "Actual": 267108.16777041944,
         "Predicted": 277339.15874183935,
         "_deepnote_index_column": 11971
        },
        {
         "Actual": 184385.38205980064,
         "Predicted": 202895.5146553423,
         "_deepnote_index_column": 14115
        },
        {
         "Actual": 190000,
         "Predicted": 210864.34062858974,
         "_deepnote_index_column": 16700
        },
        {
         "Actual": 204300,
         "Predicted": 208791.67173175915,
         "_deepnote_index_column": 1841
        },
        {
         "Actual": 107812.5,
         "Predicted": 143750.33020529663,
         "_deepnote_index_column": 5322
        },
        {
         "Actual": 153225.8064516129,
         "Predicted": 156109.1456044581,
         "_deepnote_index_column": 1091
        },
        {
         "Actual": 242500,
         "Predicted": 252038.34379664954,
         "_deepnote_index_column": 5836
        },
        {
         "Actual": 302594.9942329873,
         "Predicted": 283315.2034944198,
         "_deepnote_index_column": 11728
        },
        {
         "Actual": 227388.37423312882,
         "Predicted": 229470.05108669846,
         "_deepnote_index_column": 19660
        },
        {
         "Actual": 508928.5714285714,
         "Predicted": 466763.7675645808,
         "_deepnote_index_column": 875
        },
        {
         "Actual": 334330,
         "Predicted": 292985.4775885517,
         "_deepnote_index_column": 16763
        },
        {
         "Actual": 283300.19880715705,
         "Predicted": 252323.96907769574,
         "_deepnote_index_column": 12877
        },
        {
         "Actual": 189155.1071878941,
         "Predicted": 228611.4337805043,
         "_deepnote_index_column": 20752
        },
        {
         "Actual": 248799.99999999997,
         "Predicted": 249030.40536372614,
         "_deepnote_index_column": 20010
        },
        {
         "Actual": 167992.0477137177,
         "Predicted": 169992.6232058983,
         "_deepnote_index_column": 14049
        },
        {
         "Actual": 188539.74121996303,
         "Predicted": 177768.20838032124,
         "_deepnote_index_column": 18245
        },
        {
         "Actual": 179028.1074168798,
         "Predicted": 197682.7257146324,
         "_deepnote_index_column": 13956
        },
        {
         "Actual": 133400,
         "Predicted": 132031.67462441028,
         "_deepnote_index_column": 13788
        },
        {
         "Actual": 180909.0909090909,
         "Predicted": 178666.30519623752,
         "_deepnote_index_column": 11504
        },
        {
         "Actual": 127041.74228675135,
         "Predicted": 130647.45360249694,
         "_deepnote_index_column": 21271
        },
        {
         "Actual": 149825.78397212544,
         "Predicted": 143668.1005539909,
         "_deepnote_index_column": 21872
        },
        {
         "Actual": 137681.14492753622,
         "Predicted": 157210.21617189172,
         "_deepnote_index_column": 20665
        },
        {
         "Actual": 433339.9,
         "Predicted": 589125.5715950457,
         "_deepnote_index_column": 13225
        },
        {
         "Actual": 267857.14285714284,
         "Predicted": 220678.3771829126,
         "_deepnote_index_column": 15409
        },
        {
         "Actual": 191116.7971530249,
         "Predicted": 200786.64818134293,
         "_deepnote_index_column": 10979
        },
        {
         "Actual": 315753.6650717703,
         "Predicted": 319352.7891225638,
         "_deepnote_index_column": 14541
        },
        {
         "Actual": 207956.60036166367,
         "Predicted": 218630.49810841313,
         "_deepnote_index_column": 11033
        },
        {
         "Actual": 120086.99690402478,
         "Predicted": 116740.4437021652,
         "_deepnote_index_column": 20926
        },
        {
         "Actual": 98663.3950351557,
         "Predicted": 108861.82166592925,
         "_deepnote_index_column": 18125
        },
        {
         "Actual": 178378.37837837837,
         "Predicted": 161412.61224856184,
         "_deepnote_index_column": 5306
        },
        {
         "Actual": 260000,
         "Predicted": 236497.3172034246,
         "_deepnote_index_column": 20310
        },
        {
         "Actual": 154200,
         "Predicted": 151956.40809647972,
         "_deepnote_index_column": 6098
        },
        {
         "Actual": 189473.68421052632,
         "Predicted": 205863.51942284324,
         "_deepnote_index_column": 9253
        },
        {
         "Actual": 95213.59440559441,
         "Predicted": 93616.22145354157,
         "_deepnote_index_column": 20218
        },
        {
         "Actual": 195000,
         "Predicted": 202866.74316775368,
         "_deepnote_index_column": 21448
        },
        {
         "Actual": 163793.10344827586,
         "Predicted": 159841.5649356612,
         "_deepnote_index_column": 11951
        },
        {
         "Actual": 164400,
         "Predicted": 178639.51724181557,
         "_deepnote_index_column": 7239
        },
        {
         "Actual": 136000,
         "Predicted": 157341.1844843438,
         "_deepnote_index_column": 16243
        },
        {
         "Actual": 202614.3790849673,
         "Predicted": 191201.19060412806,
         "_deepnote_index_column": 3670
        },
        {
         "Actual": 154672.13758079408,
         "Predicted": 182261.06864254017,
         "_deepnote_index_column": 19243
        },
        {
         "Actual": 193649.11304347825,
         "Predicted": 202143.64880202222,
         "_deepnote_index_column": 20638
        },
        {
         "Actual": 192105.26315789475,
         "Predicted": 191099.50419073965,
         "_deepnote_index_column": 21202
        },
        {
         "Actual": 913175.6607252613,
         "Predicted": 757211.4921054328,
         "_deepnote_index_column": 10277
        },
        {
         "Actual": 160795.45454545456,
         "Predicted": 145484.0819548282,
         "_deepnote_index_column": 10792
        },
        {
         "Actual": 274000,
         "Predicted": 286975.3978149091,
         "_deepnote_index_column": 9624
        },
        {
         "Actual": 183556.78221552374,
         "Predicted": 178527.59188671812,
         "_deepnote_index_column": 20312
        },
        {
         "Actual": 179987.5,
         "Predicted": 205177.10844539592,
         "_deepnote_index_column": 7420
        },
        {
         "Actual": 164444.44444444444,
         "Predicted": 167182.57358412756,
         "_deepnote_index_column": 9670
        },
        {
         "Actual": 525000,
         "Predicted": 574237.9763167414,
         "_deepnote_index_column": 22170
        },
        {
         "Actual": 199000,
         "Predicted": 207886.05309137853,
         "_deepnote_index_column": 20430
        }
       ],
       "rows_bottom": [
        {
         "Actual": 205000,
         "Predicted": 204919.10474905785,
         "_deepnote_index_column": 8395
        },
        {
         "Actual": 197916.66666666666,
         "Predicted": 184343.6355607677,
         "_deepnote_index_column": 15220
        },
        {
         "Actual": 193700,
         "Predicted": 207935.65490686503,
         "_deepnote_index_column": 7167
        },
        {
         "Actual": 255355,
         "Predicted": 243913.4590878542,
         "_deepnote_index_column": 16261
        },
        {
         "Actual": 176000,
         "Predicted": 200534.0898954115,
         "_deepnote_index_column": 10647
        },
        {
         "Actual": 211111.11111111112,
         "Predicted": 216965.17321720475,
         "_deepnote_index_column": 1092
        },
        {
         "Actual": 186834.73389355742,
         "Predicted": 185328.08519591967,
         "_deepnote_index_column": 4744
        },
        {
         "Actual": 142640.36418816386,
         "Predicted": 164335.27688239736,
         "_deepnote_index_column": 13082
        },
        {
         "Actual": 191000,
         "Predicted": 183285.88108520268,
         "_deepnote_index_column": 18684
        },
        {
         "Actual": 158823.5294117647,
         "Predicted": 173929.53217920515,
         "_deepnote_index_column": 10133
        },
        {
         "Actual": 94972.06703910616,
         "Predicted": 93101.6635718134,
         "_deepnote_index_column": 2238
        },
        {
         "Actual": 180000,
         "Predicted": 170999.0927480263,
         "_deepnote_index_column": 10428
        },
        {
         "Actual": 162900,
         "Predicted": 179280.00819238345,
         "_deepnote_index_column": 22805
        },
        {
         "Actual": 128400,
         "Predicted": 120155.91550597455,
         "_deepnote_index_column": 255
        },
        {
         "Actual": 167469.8795180723,
         "Predicted": 157153.04423662135,
         "_deepnote_index_column": 20104
        },
        {
         "Actual": 165400,
         "Predicted": 156382.78258215508,
         "_deepnote_index_column": 21656
        },
        {
         "Actual": 194103.19410319408,
         "Predicted": 239698.106587179,
         "_deepnote_index_column": 18912
        },
        {
         "Actual": 230600,
         "Predicted": 235725.3584685842,
         "_deepnote_index_column": 1831
        },
        {
         "Actual": 196500,
         "Predicted": 214834.85108456342,
         "_deepnote_index_column": 1358
        },
        {
         "Actual": 192105.82381729202,
         "Predicted": 192695.80040931172,
         "_deepnote_index_column": 6844
        },
        {
         "Actual": 288235.29411764705,
         "Predicted": 276349.6665361747,
         "_deepnote_index_column": 10430
        },
        {
         "Actual": 233333.33333333334,
         "Predicted": 308028.9058817894,
         "_deepnote_index_column": 10208
        },
        {
         "Actual": 214423.07692307694,
         "Predicted": 180574.03537942524,
         "_deepnote_index_column": 1320
        },
        {
         "Actual": 479678.6111111111,
         "Predicted": 559280.8495217322,
         "_deepnote_index_column": 16737
        },
        {
         "Actual": 325170.0680272109,
         "Predicted": 383279.413415894,
         "_deepnote_index_column": 4365
        },
        {
         "Actual": 217592.59259259258,
         "Predicted": 205916.67155571617,
         "_deepnote_index_column": 7668
        },
        {
         "Actual": 192307.6923076923,
         "Predicted": 183909.79475375955,
         "_deepnote_index_column": 4141
        },
        {
         "Actual": 271794.8717948718,
         "Predicted": 281901.2519015409,
         "_deepnote_index_column": 16325
        },
        {
         "Actual": 1238114,
         "Predicted": 859255.4692162864,
         "_deepnote_index_column": 3520
        },
        {
         "Actual": 198630.13698630137,
         "Predicted": 241090.15126482645,
         "_deepnote_index_column": 19052
        },
        {
         "Actual": 125683.43558282209,
         "Predicted": 126748.56778647653,
         "_deepnote_index_column": 17000
        },
        {
         "Actual": 154900,
         "Predicted": 148595.70690642332,
         "_deepnote_index_column": 21893
        },
        {
         "Actual": 1092438.9623529413,
         "Predicted": 1029970.308901316,
         "_deepnote_index_column": 7832
        },
        {
         "Actual": 259765.625,
         "Predicted": 242749.14288889887,
         "_deepnote_index_column": 22559
        },
        {
         "Actual": 375000,
         "Predicted": 342796.72662372666,
         "_deepnote_index_column": 8055
        },
        {
         "Actual": 250000,
         "Predicted": 237380.14750485594,
         "_deepnote_index_column": 21573
        },
        {
         "Actual": 200000,
         "Predicted": 161950.71917286707,
         "_deepnote_index_column": 11089
        },
        {
         "Actual": 103300.00000000001,
         "Predicted": 101496.06523817452,
         "_deepnote_index_column": 5773
        },
        {
         "Actual": 274362.0089104901,
         "Predicted": 311905.4858848598,
         "_deepnote_index_column": 867
        },
        {
         "Actual": 840000,
         "Predicted": 793976.8054082819,
         "_deepnote_index_column": 14696
        },
        {
         "Actual": 217391.30434782608,
         "Predicted": 217653.8354454754,
         "_deepnote_index_column": 4788
        },
        {
         "Actual": 293493.1506849315,
         "Predicted": 352674.49017996335,
         "_deepnote_index_column": 16818
        },
        {
         "Actual": 579804.5602605863,
         "Predicted": 554049.600883831,
         "_deepnote_index_column": 23035
        },
        {
         "Actual": 220930.23255813954,
         "Predicted": 215529.4983699685,
         "_deepnote_index_column": 16003
        },
        {
         "Actual": 118129.99474697952,
         "Predicted": 124307.78979778568,
         "_deepnote_index_column": 10815
        },
        {
         "Actual": 1238113.9964157706,
         "Predicted": 851623.9921515685,
         "_deepnote_index_column": 3517
        },
        {
         "Actual": 183023.8594164456,
         "Predicted": 196428.0102596289,
         "_deepnote_index_column": 15982
        },
        {
         "Actual": 205882.35294117648,
         "Predicted": 184558.74091272315,
         "_deepnote_index_column": 18512
        },
        {
         "Actual": 201724.1379310345,
         "Predicted": 219367.6787275064,
         "_deepnote_index_column": 22118
        },
        {
         "Actual": 133888.88888888888,
         "Predicted": 134127.5296755788,
         "_deepnote_index_column": 6247
        },
        {
         "Actual": 318446.9773880942,
         "Predicted": 313285.4558231719,
         "_deepnote_index_column": 22075
        },
        {
         "Actual": 87157.33015494636,
         "Predicted": 91010.49699265987,
         "_deepnote_index_column": 2219
        },
        {
         "Actual": 179411.76470588235,
         "Predicted": 155127.88486599206,
         "_deepnote_index_column": 16561
        },
        {
         "Actual": 223252.9903978052,
         "Predicted": 210744.3493868992,
         "_deepnote_index_column": 22455
        },
        {
         "Actual": 165000,
         "Predicted": 166260.1379149428,
         "_deepnote_index_column": 287
        },
        {
         "Actual": 151587.3015873016,
         "Predicted": 150345.64240333182,
         "_deepnote_index_column": 5978
        },
        {
         "Actual": 162893.01666666666,
         "Predicted": 159709.30641982672,
         "_deepnote_index_column": 10007
        },
        {
         "Actual": 250000,
         "Predicted": 212400.72862199318,
         "_deepnote_index_column": 22562
        },
        {
         "Actual": 199777.77777777778,
         "Predicted": 203544.97212843096,
         "_deepnote_index_column": 18568
        },
        {
         "Actual": 708454.8104956269,
         "Predicted": 789707.5791927775,
         "_deepnote_index_column": 10894
        },
        {
         "Actual": 201238.39009287927,
         "Predicted": 227083.5645918599,
         "_deepnote_index_column": 16709
        },
        {
         "Actual": 142857.14285714287,
         "Predicted": 196500.9010281401,
         "_deepnote_index_column": 16590
        },
        {
         "Actual": 434426.2295081967,
         "Predicted": 697138.6565841942,
         "_deepnote_index_column": 15859
        },
        {
         "Actual": 272000,
         "Predicted": 262610.8124537529,
         "_deepnote_index_column": 19696
        },
        {
         "Actual": 126232.99973663418,
         "Predicted": 135309.2984395679,
         "_deepnote_index_column": 22235
        },
        {
         "Actual": 146191.64619164617,
         "Predicted": 186718.68785514467,
         "_deepnote_index_column": 6238
        },
        {
         "Actual": 159436.00867678958,
         "Predicted": 219492.25928165737,
         "_deepnote_index_column": 11923
        },
        {
         "Actual": 159836.0655737705,
         "Predicted": 177400.96316083014,
         "_deepnote_index_column": 4527
        },
        {
         "Actual": 284090.9090909091,
         "Predicted": 405217.91794050473,
         "_deepnote_index_column": 17469
        },
        {
         "Actual": 99999.81530343008,
         "Predicted": 103676.33465111323,
         "_deepnote_index_column": 21824
        },
        {
         "Actual": 224000,
         "Predicted": 200706.36255099112,
         "_deepnote_index_column": 6620
        },
        {
         "Actual": 337837.8378378378,
         "Predicted": 463765.4355451,
         "_deepnote_index_column": 12579
        },
        {
         "Actual": 646153.8461538461,
         "Predicted": 552799.4090144826,
         "_deepnote_index_column": 17191
        },
        {
         "Actual": 195965.41786743514,
         "Predicted": 192084.00706649065,
         "_deepnote_index_column": 17910
        },
        {
         "Actual": 121999.99999999999,
         "Predicted": 116737.05830019218,
         "_deepnote_index_column": 12005
        },
        {
         "Actual": 240000,
         "Predicted": 211664.82478888216,
         "_deepnote_index_column": 19372
        },
        {
         "Actual": 159163.98713826365,
         "Predicted": 163233.21564872767,
         "_deepnote_index_column": 6005
        },
        {
         "Actual": 165338.6454183267,
         "Predicted": 163692.8511168457,
         "_deepnote_index_column": 4835
        },
        {
         "Actual": 157407.40740740742,
         "Predicted": 171208.52495265775,
         "_deepnote_index_column": 12719
        },
        {
         "Actual": 199900,
         "Predicted": 213229.91006842963,
         "_deepnote_index_column": 7218
        },
        {
         "Actual": 223529.41176470587,
         "Predicted": 214470.81373354793,
         "_deepnote_index_column": 1366
        },
        {
         "Actual": 228400,
         "Predicted": 222844.29187475203,
         "_deepnote_index_column": 14282
        },
        {
         "Actual": 300000,
         "Predicted": 323884.836538384,
         "_deepnote_index_column": 7122
        },
        {
         "Actual": 175230,
         "Predicted": 179141.54023088666,
         "_deepnote_index_column": 16917
        },
        {
         "Actual": 270000,
         "Predicted": 267608.8311375155,
         "_deepnote_index_column": 19738
        },
        {
         "Actual": 168000,
         "Predicted": 178912.72452366073,
         "_deepnote_index_column": 10595
        },
        {
         "Actual": 220064.72491909386,
         "Predicted": 193033.22284748429,
         "_deepnote_index_column": 11817
        },
        {
         "Actual": 100000,
         "Predicted": 135826.08321318286,
         "_deepnote_index_column": 22
        },
        {
         "Actual": 566326.5306122449,
         "Predicted": 483761.76930069714,
         "_deepnote_index_column": 2530
        },
        {
         "Actual": 216121.82654402105,
         "Predicted": 296447.2274059798,
         "_deepnote_index_column": 19694
        },
        {
         "Actual": 411764.70588235295,
         "Predicted": 374666.9698771847,
         "_deepnote_index_column": 18837
        },
        {
         "Actual": 433333.3333333333,
         "Predicted": 583383.9286254742,
         "_deepnote_index_column": 14676
        },
        {
         "Actual": 167286.24535315987,
         "Predicted": 164578.3240460973,
         "_deepnote_index_column": 9332
        },
        {
         "Actual": 134400,
         "Predicted": 135593.44121823012,
         "_deepnote_index_column": 18129
        },
        {
         "Actual": 280000,
         "Predicted": 271205.03984300286,
         "_deepnote_index_column": 6839
        },
        {
         "Actual": 391454.9653579677,
         "Predicted": 372390.9190833961,
         "_deepnote_index_column": 525
        },
        {
         "Actual": 697331.2380431811,
         "Predicted": 652017.9176043035,
         "_deepnote_index_column": 14643
        },
        {
         "Actual": 449610.13645224174,
         "Predicted": 447971.12229493354,
         "_deepnote_index_column": 22427
        },
        {
         "Actual": 979772.4399494312,
         "Predicted": 792729.7900007014,
         "_deepnote_index_column": 20520
        },
        {
         "Actual": 268172.3881706048,
         "Predicted": 265993.7761692939,
         "_deepnote_index_column": 771
        },
        {
         "Actual": 171606.864274571,
         "Predicted": 192663.51161002327,
         "_deepnote_index_column": 11092
        },
        {
         "Actual": 162544.88691281655,
         "Predicted": 158297.66673661483,
         "_deepnote_index_column": 11869
        },
        {
         "Actual": 227154.04699738906,
         "Predicted": 198698.70738063945,
         "_deepnote_index_column": 18268
        },
        {
         "Actual": 143300,
         "Predicted": 147449.46652403407,
         "_deepnote_index_column": 4403
        },
        {
         "Actual": 142400,
         "Predicted": 135323.20961048506,
         "_deepnote_index_column": 13152
        },
        {
         "Actual": 125000,
         "Predicted": 147154.94265926085,
         "_deepnote_index_column": 16362
        },
        {
         "Actual": 216981.1320754717,
         "Predicted": 203058.6481417511,
         "_deepnote_index_column": 5116
        },
        {
         "Actual": 853263.6,
         "Predicted": 747849.0355009431,
         "_deepnote_index_column": 15793
        },
        {
         "Actual": 154285.7142857143,
         "Predicted": 164543.60075588437,
         "_deepnote_index_column": 6043
        },
        {
         "Actual": 288000,
         "Predicted": 267617.59037785436,
         "_deepnote_index_column": 21376
        },
        {
         "Actual": 139639.63963963964,
         "Predicted": 121194.75749338916,
         "_deepnote_index_column": 18726
        },
        {
         "Actual": 211480.36253776433,
         "Predicted": 195884.60955236078,
         "_deepnote_index_column": 5459
        },
        {
         "Actual": 153900,
         "Predicted": 159956.47275393235,
         "_deepnote_index_column": 10932
        },
        {
         "Actual": 689989.7389123248,
         "Predicted": 693101.8325207089,
         "_deepnote_index_column": 3325
        },
        {
         "Actual": 222368.42105263157,
         "Predicted": 273876.33445340383,
         "_deepnote_index_column": 3102
        },
        {
         "Actual": 411764.70588235295,
         "Predicted": 560116.7877493311,
         "_deepnote_index_column": 2193
        },
        {
         "Actual": 267000,
         "Predicted": 257643.11904756067,
         "_deepnote_index_column": 13459
        },
        {
         "Actual": 735158.3952171176,
         "Predicted": 703103.1377610387,
         "_deepnote_index_column": 16634
        },
        {
         "Actual": 387931.0344827586,
         "Predicted": 473220.12708202936,
         "_deepnote_index_column": 12580
        },
        {
         "Actual": 162668.07870370368,
         "Predicted": 148915.36003923736,
         "_deepnote_index_column": 20120
        },
        {
         "Actual": 175275,
         "Predicted": 164446.4638688197,
         "_deepnote_index_column": 22372
        },
        {
         "Actual": 213200,
         "Predicted": 219632.282699833,
         "_deepnote_index_column": 9071
        },
        {
         "Actual": 186383.92857142858,
         "Predicted": 157265.98838865798,
         "_deepnote_index_column": 6353
        },
        {
         "Actual": 203697.47899159664,
         "Predicted": 175186.50673658156,
         "_deepnote_index_column": 5946
        },
        {
         "Actual": 165818.74788494076,
         "Predicted": 164574.4149880734,
         "_deepnote_index_column": 8767
        },
        {
         "Actual": 424390.243902439,
         "Predicted": 790394.1533952176,
         "_deepnote_index_column": 10292
        },
        {
         "Actual": 145161.29032258064,
         "Predicted": 144282.6946804468,
         "_deepnote_index_column": 4970
        },
        {
         "Actual": 128048.78048780488,
         "Predicted": 129792.39856503386,
         "_deepnote_index_column": 8786
        },
        {
         "Actual": 152006.39379347244,
         "Predicted": 152671.70617860358,
         "_deepnote_index_column": 15673
        },
        {
         "Actual": 317145.68880079285,
         "Predicted": 297442.6346583199,
         "_deepnote_index_column": 1150
        },
        {
         "Actual": 157894.7105263158,
         "Predicted": 171155.30974507635,
         "_deepnote_index_column": 3669
        },
        {
         "Actual": 162162.16216216216,
         "Predicted": 151664.1027621531,
         "_deepnote_index_column": 23128
        },
        {
         "Actual": 115628.22719449225,
         "Predicted": 116281.57550340905,
         "_deepnote_index_column": 22774
        },
        {
         "Actual": 150649.35064935064,
         "Predicted": 155806.8333515921,
         "_deepnote_index_column": 10155
        },
        {
         "Actual": 184259.74838245867,
         "Predicted": 196092.25374424076,
         "_deepnote_index_column": 15307
        },
        {
         "Actual": 185398.78787878787,
         "Predicted": 186150.57674321797,
         "_deepnote_index_column": 20587
        },
        {
         "Actual": 190807.79944289694,
         "Predicted": 192436.96573283005,
         "_deepnote_index_column": 651
        },
        {
         "Actual": 175504.32276657058,
         "Predicted": 165908.47995032032,
         "_deepnote_index_column": 19639
        },
        {
         "Actual": 438271.60493827163,
         "Predicted": 515287.73825929465,
         "_deepnote_index_column": 3208
        },
        {
         "Actual": 828579.9880167765,
         "Predicted": 640729.3292832193,
         "_deepnote_index_column": 3472
        },
        {
         "Actual": 445420,
         "Predicted": 333791.0200092569,
         "_deepnote_index_column": 11131
        },
        {
         "Actual": 276671.09340416116,
         "Predicted": 275895.11360238283,
         "_deepnote_index_column": 20743
        },
        {
         "Actual": 192913.38582677164,
         "Predicted": 201840.1035407661,
         "_deepnote_index_column": 5489
        },
        {
         "Actual": 139593.90862944163,
         "Predicted": 143216.7916747349,
         "_deepnote_index_column": 20878
        },
        {
         "Actual": 185230,
         "Predicted": 171895.53783561607,
         "_deepnote_index_column": 8414
        },
        {
         "Actual": 225333.33333333334,
         "Predicted": 208377.3187793754,
         "_deepnote_index_column": 7170
        },
        {
         "Actual": 196969.69696969696,
         "Predicted": 201560.92278109744,
         "_deepnote_index_column": 8598
        },
        {
         "Actual": 137500,
         "Predicted": 143573.92018347085,
         "_deepnote_index_column": 10929
        },
        {
         "Actual": 581560.2836879432,
         "Predicted": 490974.49002002383,
         "_deepnote_index_column": 21253
        },
        {
         "Actual": 178787.87878787878,
         "Predicted": 193541.59581414948,
         "_deepnote_index_column": 15257
        },
        {
         "Actual": 129458.38837516512,
         "Predicted": 142597.51349325362,
         "_deepnote_index_column": 12022
        },
        {
         "Actual": 196935.0368718916,
         "Predicted": 187308.99768038985,
         "_deepnote_index_column": 8419
        },
        {
         "Actual": 308151.0934393638,
         "Predicted": 244616.4159530223,
         "_deepnote_index_column": 22487
        },
        {
         "Actual": 95300.26109660575,
         "Predicted": 113492.52964805014,
         "_deepnote_index_column": 4253
        },
        {
         "Actual": 118593.75,
         "Predicted": 133123.30354799714,
         "_deepnote_index_column": 7537
        },
        {
         "Actual": 939759.0361445784,
         "Predicted": 662844.3943641213,
         "_deepnote_index_column": 20348
        },
        {
         "Actual": 268617.02127659577,
         "Predicted": 268280.0381430541,
         "_deepnote_index_column": 16356
        },
        {
         "Actual": 161016.94915254237,
         "Predicted": 179509.58335571078,
         "_deepnote_index_column": 5529
        },
        {
         "Actual": 204198.72204472843,
         "Predicted": 199680.97996294612,
         "_deepnote_index_column": 3625
        },
        {
         "Actual": 164000,
         "Predicted": 192454.92159469347,
         "_deepnote_index_column": 14109
        },
        {
         "Actual": 407843.137254902,
         "Predicted": 501555.1366426188,
         "_deepnote_index_column": 19017
        },
        {
         "Actual": 192187.5,
         "Predicted": 182287.7749337884,
         "_deepnote_index_column": 1728
        },
        {
         "Actual": 136912.75167785236,
         "Predicted": 150131.18971406855,
         "_deepnote_index_column": 4933
        },
        {
         "Actual": 82978.72340425532,
         "Predicted": 107686.58113905051,
         "_deepnote_index_column": 23164
        },
        {
         "Actual": 175700,
         "Predicted": 179846.2025191824,
         "_deepnote_index_column": 5181
        },
        {
         "Actual": 182608.69565217392,
         "Predicted": 160692.42326537648,
         "_deepnote_index_column": 9521
        },
        {
         "Actual": 287234.0425531915,
         "Predicted": 301981.59138090373,
         "_deepnote_index_column": 19165
        },
        {
         "Actual": 583657.5875486381,
         "Predicted": 597976.7647525958,
         "_deepnote_index_column": 1416
        },
        {
         "Actual": 176939.44206008583,
         "Predicted": 163598.9988803888,
         "_deepnote_index_column": 536
        },
        {
         "Actual": 272270.999581765,
         "Predicted": 264825.60181761876,
         "_deepnote_index_column": 2088
        },
        {
         "Actual": 513339.5099540582,
         "Predicted": 814999.4212203871,
         "_deepnote_index_column": 15804
        },
        {
         "Actual": 170930.23255813954,
         "Predicted": 190477.2002976384,
         "_deepnote_index_column": 19659
        },
        {
         "Actual": 181097.56097560975,
         "Predicted": 189100.78084217958,
         "_deepnote_index_column": 14325
        },
        {
         "Actual": 132100.39630118888,
         "Predicted": 153267.25205668248,
         "_deepnote_index_column": 5335
        },
        {
         "Actual": 219607.8431372549,
         "Predicted": 238043.30535606216,
         "_deepnote_index_column": 19154
        },
        {
         "Actual": 207673.07692307694,
         "Predicted": 254909.31775201904,
         "_deepnote_index_column": 15545
        },
        {
         "Actual": 265900,
         "Predicted": 261070.87470311308,
         "_deepnote_index_column": 2089
        },
        {
         "Actual": 153225.8064516129,
         "Predicted": 161334.4197252189,
         "_deepnote_index_column": 12155
        },
        {
         "Actual": 140892.601010101,
         "Predicted": 168234.58602407115,
         "_deepnote_index_column": 713
        },
        {
         "Actual": 473750,
         "Predicted": 634906.2772064115,
         "_deepnote_index_column": 3111
        },
        {
         "Actual": 308000,
         "Predicted": 326969.19152403885,
         "_deepnote_index_column": 793
        },
        {
         "Actual": 368000,
         "Predicted": 449482.12999034213,
         "_deepnote_index_column": 2985
        },
        {
         "Actual": 127986.3481228669,
         "Predicted": 142279.60726936377,
         "_deepnote_index_column": 15272
        },
        {
         "Actual": 189162.16216216216,
         "Predicted": 196656.5487605739,
         "_deepnote_index_column": 4499
        },
        {
         "Actual": 250000,
         "Predicted": 250187.76185548992,
         "_deepnote_index_column": 16264
        },
        {
         "Actual": 196016.7714884696,
         "Predicted": 192380.11787040462,
         "_deepnote_index_column": 17894
        },
        {
         "Actual": 163590.60402684563,
         "Predicted": 159994.66509524215,
         "_deepnote_index_column": 10213
        },
        {
         "Actual": 135281.38528138527,
         "Predicted": 149186.25701514736,
         "_deepnote_index_column": 22209
        },
        {
         "Actual": 376415.09433962265,
         "Predicted": 345266.55247384263,
         "_deepnote_index_column": 10747
        },
        {
         "Actual": 263245.0331125828,
         "Predicted": 297351.0371034412,
         "_deepnote_index_column": 12242
        },
        {
         "Actual": 124882.46896551724,
         "Predicted": 119099.77626775228,
         "_deepnote_index_column": 384
        },
        {
         "Actual": 177272.72727272726,
         "Predicted": 193020.85842184638,
         "_deepnote_index_column": 10159
        },
        {
         "Actual": 515000,
         "Predicted": 445079.4565605845,
         "_deepnote_index_column": 8221
        },
        {
         "Actual": 500000,
         "Predicted": 476168.4499939227,
         "_deepnote_index_column": 15825
        },
        {
         "Actual": 111289.0055467512,
         "Predicted": 100105.50674332201,
         "_deepnote_index_column": 14848
        },
        {
         "Actual": 199300,
         "Predicted": 189429.02156109782,
         "_deepnote_index_column": 1191
        },
        {
         "Actual": 161797.75280898876,
         "Predicted": 166841.38354397018,
         "_deepnote_index_column": 10325
        },
        {
         "Actual": 102739.72602739726,
         "Predicted": 126983.21593875781,
         "_deepnote_index_column": 23076
        },
        {
         "Actual": 180765.80587711488,
         "Predicted": 202784.71118552051,
         "_deepnote_index_column": 20486
        },
        {
         "Actual": 355714.28571428574,
         "Predicted": 473822.34625661524,
         "_deepnote_index_column": 8068
        },
        {
         "Actual": 217307.6923076923,
         "Predicted": 202058.65058232268,
         "_deepnote_index_column": 20808
        },
        {
         "Actual": 211853.1257344301,
         "Predicted": 208674.0614419637,
         "_deepnote_index_column": 5931
        },
        {
         "Actual": 113100,
         "Predicted": 105171.12384587587,
         "_deepnote_index_column": 6327
        },
        {
         "Actual": 151500,
         "Predicted": 171036.0946627367,
         "_deepnote_index_column": 11150
        },
        {
         "Actual": 221666.66666666666,
         "Predicted": 207973.18451106964,
         "_deepnote_index_column": 12135
        },
        {
         "Actual": 181333.33333333334,
         "Predicted": 173295.49169217626,
         "_deepnote_index_column": 2137
        },
        {
         "Actual": 175733.09832556968,
         "Predicted": 184445.92831419478,
         "_deepnote_index_column": 19379
        },
        {
         "Actual": 149855.90778097982,
         "Predicted": 156032.87483496574,
         "_deepnote_index_column": 19609
        },
        {
         "Actual": 173700,
         "Predicted": 163833.84416016145,
         "_deepnote_index_column": 14210
        },
        {
         "Actual": 203900,
         "Predicted": 197880.52870960883,
         "_deepnote_index_column": 15393
        },
        {
         "Actual": 90000,
         "Predicted": 91717.27003337516,
         "_deepnote_index_column": 2320
        },
        {
         "Actual": 173690,
         "Predicted": 156035.60594276903,
         "_deepnote_index_column": 20785
        },
        {
         "Actual": 312824.49701937404,
         "Predicted": 300301.66061458306,
         "_deepnote_index_column": 12234
        },
        {
         "Actual": 111700,
         "Predicted": 117902.83714471583,
         "_deepnote_index_column": 18145
        },
        {
         "Actual": 313700.38412291935,
         "Predicted": 318068.7176413796,
         "_deepnote_index_column": 7626
        },
        {
         "Actual": 112447.9926588667,
         "Predicted": 136811.51061373873,
         "_deepnote_index_column": 22281
        },
        {
         "Actual": 164102.5641025641,
         "Predicted": 166877.13787216306,
         "_deepnote_index_column": 17715
        },
        {
         "Actual": 147600,
         "Predicted": 135226.77236732,
         "_deepnote_index_column": 22335
        },
        {
         "Actual": 575000,
         "Predicted": 605635.4265433003,
         "_deepnote_index_column": 18281
        },
        {
         "Actual": 182339.4495412844,
         "Predicted": 173551.37025956062,
         "_deepnote_index_column": 15963
        },
        {
         "Actual": 208395.80209895052,
         "Predicted": 244232.4862494525,
         "_deepnote_index_column": 1506
        },
        {
         "Actual": 188573.2323232323,
         "Predicted": 201320.29090753366,
         "_deepnote_index_column": 5910
        },
        {
         "Actual": 182199.99999999997,
         "Predicted": 177764.2689484082,
         "_deepnote_index_column": 20674
        },
        {
         "Actual": 178300,
         "Predicted": 186112.8408057141,
         "_deepnote_index_column": 7324
        },
        {
         "Actual": 185185.18518518517,
         "Predicted": 176653.20181859337,
         "_deepnote_index_column": 20668
        },
        {
         "Actual": 190000,
         "Predicted": 190295.1607599638,
         "_deepnote_index_column": 17460
        },
        {
         "Actual": 221600,
         "Predicted": 219835.94865411342,
         "_deepnote_index_column": 21899
        },
        {
         "Actual": 427184.46601941745,
         "Predicted": 472676.48518314597,
         "_deepnote_index_column": 3272
        },
        {
         "Actual": 145000,
         "Predicted": 155620.7412741017,
         "_deepnote_index_column": 11833
        },
        {
         "Actual": 357000,
         "Predicted": 359052.0871430713,
         "_deepnote_index_column": 9445
        },
        {
         "Actual": 150000,
         "Predicted": 171161.50166569796,
         "_deepnote_index_column": 10329
        },
        {
         "Actual": 219230.76923076922,
         "Predicted": 218024.48084278495,
         "_deepnote_index_column": 6908
        },
        {
         "Actual": 240786.24078624079,
         "Predicted": 276932.2687291154,
         "_deepnote_index_column": 13438
        },
        {
         "Actual": 233459.67058823528,
         "Predicted": 209485.40639099025,
         "_deepnote_index_column": 6972
        },
        {
         "Actual": 123333.33333333333,
         "Predicted": 170484.09180344833,
         "_deepnote_index_column": 13176
        },
        {
         "Actual": 162820.5128205128,
         "Predicted": 202814.12330015848,
         "_deepnote_index_column": 16959
        },
        {
         "Actual": 238924.05063291139,
         "Predicted": 206269.62804889708,
         "_deepnote_index_column": 19254
        },
        {
         "Actual": 341463.4146341463,
         "Predicted": 382724.8423771673,
         "_deepnote_index_column": 19976
        },
        {
         "Actual": 206000,
         "Predicted": 209884.8368628311,
         "_deepnote_index_column": 13474
        },
        {
         "Actual": 228000,
         "Predicted": 254989.62671958108,
         "_deepnote_index_column": 8373
        },
        {
         "Actual": 220700,
         "Predicted": 219917.935203434,
         "_deepnote_index_column": 10005
        },
        {
         "Actual": 225714.2857142857,
         "Predicted": 206339.39418895886,
         "_deepnote_index_column": 16021
        },
        {
         "Actual": 404395.6043956044,
         "Predicted": 425821.0560535318,
         "_deepnote_index_column": 8577
        },
        {
         "Actual": 178571.42857142858,
         "Predicted": 195176.50889889713,
         "_deepnote_index_column": 11690
        },
        {
         "Actual": 263700,
         "Predicted": 292985.4774407333,
         "_deepnote_index_column": 9464
        },
        {
         "Actual": 181500,
         "Predicted": 172837.01033239617,
         "_deepnote_index_column": 5772
        },
        {
         "Actual": 323200,
         "Predicted": 297580.9431955845,
         "_deepnote_index_column": 10324
        },
        {
         "Actual": 173333.33333333334,
         "Predicted": 175463.32567123734,
         "_deepnote_index_column": 17535
        },
        {
         "Actual": 496470.6057441253,
         "Predicted": 364250.3180501737,
         "_deepnote_index_column": 10757
        },
        {
         "Actual": 223400,
         "Predicted": 222057.48335564457,
         "_deepnote_index_column": 20787
        }
       ]
      },
      "text/plain": "              Actual      Predicted\n17722  200000.000000  204027.269476\n10791  118300.000000  122338.452402\n13285  182400.000000  176115.259545\n14456  195876.288660  176551.530902\n2329    91836.734694  104845.298650\n...              ...            ...\n5772   181500.000000  172837.010332\n10324  323200.000000  297580.943196\n17535  173333.333333  175463.325671\n10757  496470.605744  364250.318050\n20787  223400.000000  222057.483356\n\n[4648 rows x 2 columns]",
      "text/html": "<div>\n<style scoped>\n    .dataframe tbody tr th:only-of-type {\n        vertical-align: middle;\n    }\n\n    .dataframe tbody tr th {\n        vertical-align: top;\n    }\n\n    .dataframe thead th {\n        text-align: right;\n    }\n</style>\n<table border=\"1\" class=\"dataframe\">\n  <thead>\n    <tr style=\"text-align: right;\">\n      <th></th>\n      <th>Actual</th>\n      <th>Predicted</th>\n    </tr>\n  </thead>\n  <tbody>\n    <tr>\n      <th>17722</th>\n      <td>200000.000000</td>\n      <td>204027.269476</td>\n    </tr>\n    <tr>\n      <th>10791</th>\n      <td>118300.000000</td>\n      <td>122338.452402</td>\n    </tr>\n    <tr>\n      <th>13285</th>\n      <td>182400.000000</td>\n      <td>176115.259545</td>\n    </tr>\n    <tr>\n      <th>14456</th>\n      <td>195876.288660</td>\n      <td>176551.530902</td>\n    </tr>\n    <tr>\n      <th>2329</th>\n      <td>91836.734694</td>\n      <td>104845.298650</td>\n    </tr>\n    <tr>\n      <th>...</th>\n      <td>...</td>\n      <td>...</td>\n    </tr>\n    <tr>\n      <th>5772</th>\n      <td>181500.000000</td>\n      <td>172837.010332</td>\n    </tr>\n    <tr>\n      <th>10324</th>\n      <td>323200.000000</td>\n      <td>297580.943196</td>\n    </tr>\n    <tr>\n      <th>17535</th>\n      <td>173333.333333</td>\n      <td>175463.325671</td>\n    </tr>\n    <tr>\n      <th>10757</th>\n      <td>496470.605744</td>\n      <td>364250.318050</td>\n    </tr>\n    <tr>\n      <th>20787</th>\n      <td>223400.000000</td>\n      <td>222057.483356</td>\n    </tr>\n  </tbody>\n</table>\n<p>4648 rows × 2 columns</p>\n</div>"
     },
     "metadata": {}
    }
   ],
   "execution_count": null
  },
  {
   "cell_type": "code",
   "metadata": {
    "tags": [],
    "cell_id": "00036-c7862473-f1f1-4b33-b5b4-f6684854c6f0",
    "deepnote_to_be_reexecuted": false,
    "source_hash": "ba868cf3",
    "execution_start": 1637351008774,
    "execution_millis": 634,
    "deepnote_output_heights": [
     40
    ],
    "deepnote_cell_type": "code"
   },
   "source": "final_labels = model.predict(X1_test.drop(['area_total'], axis=1))\nfinal_labels = final_labels.astype(float)\nfinal_labels",
   "outputs": [
    {
     "output_type": "execute_result",
     "execution_count": 55,
     "data": {
      "text/plain": "array([339873.2159254 , 196417.55119189, 159253.66558452, ...,\n       204424.58654717, 229127.39023595, 120500.71362481])"
     },
     "metadata": {}
    }
   ],
   "execution_count": null
  },
  {
   "cell_type": "code",
   "metadata": {
    "tags": [],
    "cell_id": "00037-295c99ce-09a7-4efa-89cd-d9236c1a6c30",
    "deepnote_to_be_reexecuted": false,
    "source_hash": "b9b6cf57",
    "execution_start": 1637351013833,
    "execution_millis": 17,
    "deepnote_output_heights": [
     21
    ],
    "deepnote_cell_type": "code"
   },
   "source": "final_labels = final_labels * df_test.area_total.values\nlen(final_labels)",
   "outputs": [
    {
     "output_type": "execute_result",
     "execution_count": 56,
     "data": {
      "text/plain": "9937"
     },
     "metadata": {}
    }
   ],
   "execution_count": null
  },
  {
   "cell_type": "code",
   "metadata": {
    "tags": [],
    "cell_id": "00038-554c458c-77b3-48ec-ba2f-e603733e6c0b",
    "deepnote_to_be_reexecuted": false,
    "source_hash": "b3d836d9",
    "execution_start": 1637351019031,
    "execution_millis": 2,
    "deepnote_output_heights": [
     21
    ],
    "deepnote_cell_type": "code"
   },
   "source": "df_train.area_total.values",
   "outputs": [
    {
     "output_type": "execute_result",
     "execution_count": 57,
     "data": {
      "text/plain": "array([ 59.2,  88. ,  78.5, ...,  73.4, 100.8,  57.7])"
     },
     "metadata": {}
    }
   ],
   "execution_count": null
  },
  {
   "cell_type": "code",
   "metadata": {
    "tags": [],
    "cell_id": "00039-3006515c-01ca-40da-a2d8-df030aacc1e5",
    "deepnote_to_be_reexecuted": false,
    "source_hash": "841995ab",
    "execution_start": 1637351024929,
    "execution_millis": 1545,
    "deepnote_cell_type": "code"
   },
   "source": "y_train_hat = model.predict(X_train) * area_total_train ## * edit\ny_valid_hat = model.predict(X_val) * area_total_val ## * edit\n\ny_train = y_train * area_total_train ## edit\ny_val = y_val * area_total_val ## edit\n\n#print(f'Train RMSLE: {root_mean_squared_log_error(y_true=y_train, y_pred=y_train_hat) :.4f}')\nprint(f'Valid RMSLE: {root_mean_squared_log_error(y_true=y_val, y_pred=y_valid_hat) :.4f}')\n\n#Train RMSLE: 0.1283\n#Valid RMSLE: 0.1761\n\n#Train RMSLE: 0.0489\n#Valid RMSLE: 0.1451\n\n#Train RMSLE: 0.0071\n#Valid RMSLE: 0.0187",
   "outputs": [
    {
     "name": "stdout",
     "text": "Valid RMSLE: 0.1406\n",
     "output_type": "stream"
    }
   ],
   "execution_count": null
  },
  {
   "cell_type": "code",
   "metadata": {
    "tags": [],
    "cell_id": "00040-dd836534-9fbc-4d93-9e04-0d944c26720c",
    "deepnote_to_be_reexecuted": false,
    "source_hash": "2939d586",
    "execution_start": 1637351038425,
    "execution_millis": 480,
    "deepnote_cell_type": "code"
   },
   "source": "submission = pd.DataFrame()\nsubmission['id'] = df_test.id\nsubmission['price_prediction'] = final_labels # Predict on non-nan entries\n # Fill missing entries with mean predictor\nprint(f'Generated {len(submission)} predictions')\n\n# Export submission to csv with headers\n#submission.to_csv('sample_submission.csv', index=False)\n\nsubmission.to_csv('sample_submission.csv', index=False)",
   "outputs": [
    {
     "name": "stdout",
     "text": "Generated 9937 predictions\n",
     "output_type": "stream"
    }
   ],
   "execution_count": null
  },
  {
   "cell_type": "markdown",
   "source": "<a style='text-decoration:none;line-height:16px;display:flex;color:#5B5B62;padding:10px;justify-content:end;' href='https://deepnote.com?utm_source=created-in-deepnote-cell&projectId=99c1e030-46bc-40fa-835c-0661eae0d488' target=\"_blank\">\n<img alt='Created in deepnote.com' style='display:inline;max-height:16px;margin:0px;margin-right:7.5px;' src='data:image/svg+xml;base64,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' > </img>\nCreated in <span style='font-weight:600;margin-left:4px;'>Deepnote</span></a>",
   "metadata": {
    "tags": [],
    "created_in_deepnote_cell": true,
    "deepnote_cell_type": "markdown"
   }
  }
 ],
 "nbformat": 4,
 "nbformat_minor": 2,
 "metadata": {
  "orig_nbformat": 2,
  "deepnote": {
   "is_reactive": false
  },
  "deepnote_notebook_id": "132a03d5-2153-4231-9340-9e38620fd7c6",
  "deepnote_execution_queue": []
 }
}