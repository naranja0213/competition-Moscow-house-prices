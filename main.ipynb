{
 "cells": [
  {
   "cell_type": "code",
   "metadata": {
    "tags": [],
    "cell_id": "00000-527da841-2a07-4db8-9fb5-1a8cd40617e9",
    "deepnote_to_be_reexecuted": false,
    "source_hash": "b623e53d",
    "execution_start": 1637172558683,
    "execution_millis": 0,
    "deepnote_cell_type": "code"
   },
   "source": "",
   "execution_count": null,
   "outputs": []
  },
  {
   "cell_type": "code",
   "metadata": {
    "tags": [],
    "cell_id": "00000-c185b4e2-b62b-4847-acba-783a32d60d00",
    "deepnote_to_be_reexecuted": false,
    "source_hash": "3c7d8cc1",
    "execution_start": 1637165092122,
    "execution_millis": 6,
    "deepnote_cell_type": "code"
   },
   "source": "import json\nimport pandas as pd\nimport numpy as np\nimport math as math\nimport matplotlib.pyplot as plt\nimport seaborn as sns\nimport sklearn.model_selection as model_selection\nimport sklearn.tree as tree\nfrom sklearn.linear_model import LogisticRegression\nfrom sklearn.linear_model import LinearRegression\nimport time\nfrom sklearn.model_selection import GridSearchCV\nfrom sklearn.tree import DecisionTreeRegressor\n",
   "execution_count": null,
   "outputs": []
  },
  {
   "cell_type": "code",
   "metadata": {
    "tags": [],
    "cell_id": "00002-7ddc4f6f-a569-4a4b-9b45-9cdbf06f3887",
    "deepnote_to_be_reexecuted": false,
    "source_hash": "be4985d0",
    "execution_start": 1637172564746,
    "execution_millis": 0,
    "deepnote_cell_type": "code"
   },
   "source": "\n\n",
   "execution_count": null,
   "outputs": []
  },
  {
   "cell_type": "code",
   "metadata": {
    "tags": [],
    "cell_id": "00001-8d81bb02-ba4a-413b-aae6-1ab397f32a31",
    "deepnote_to_be_reexecuted": false,
    "source_hash": "60656891",
    "execution_start": 1636651722746,
    "execution_millis": 812,
    "deepnote_cell_type": "code"
   },
   "source": "# Start writing code here...\nnp.random.seed(123)\nsns.set_style('darkgrid')\npd.set_option('display.max_colwidth', None)\n\ndef describe_column(meta):\n    \"\"\"\n    Utility function for describing a dataset column (see below for usage)\n    \"\"\"\n    def f(x):\n        d = pd.Series(name=x.name, dtype=object)\n        m = next(m for m in meta if m['name'] == x.name)\n        d['Type'] = m['type']\n        d['#NaN'] = x.isna().sum()\n        d['Description'] = m['desc']\n        if m['type'] == 'categorical':\n            counts = x.dropna().map(dict(enumerate(m['cats']))).value_counts().sort_index()\n            d['Statistics'] = ', '.join(f'{c}({n})' for c, n in counts.items())\n        elif m['type'] == 'real' or m['type'] == 'integer':\n            stats = x.dropna().agg(['mean', 'std', 'min', 'max'])\n            d['Statistics'] = ', '.join(f'{s}={v :.1f}' for s, v in stats.items())\n        elif m['type'] == 'boolean':\n            counts = x.dropna().astype(bool).value_counts().sort_index()\n            d['Statistics'] = ', '.join(f'{c}({n})' for c, n in counts.items())\n        else:\n            d['Statistics'] = f'#unique={x.nunique()}'\n        return d\n    return f\n\n\ndef describe_data(data, meta):\n    desc = data.apply(describe_column(meta)).T\n    desc = desc.style.set_properties(**{'text-align': 'left'})\n    desc = desc.set_table_styles([ dict(selector='th', props=[('text-align', 'left')])])\n    return desc\n    \n\napartments = pd.read_csv('apartments_train.csv')\n#print(f'Loaded {len(apartments)} apartments')\nwith open('apartments_meta.json') as f:\n    apartments_meta = json.load(f)\n(describe_data(apartments, apartments_meta))\n\nbuildings = pd.read_csv('buildings_train.csv')\n#print(f'Loaded {len(buildings)} buildings')\nwith open('buildings_meta.json') as f:\n    buildings_meta = json.load(f)\nbuildings.head()\ndescribe_data(buildings, buildings_meta)\n\n#print(f'All apartments have an associated building: {apartments.building_id.isin(buildings.id).all()}')\ndata = pd.merge(apartments, buildings.set_index('id'), how='left', left_on='building_id', right_index=True)\n#print(data.head())\n\n\ndef root_mean_squared_log_error(y_true, y_pred):\n    # Alternatively: sklearn.metrics.mean_squared_log_error(y_true, y_pred) ** 0.5\n    assert (y_true >= 0).all()\n    assert (y_pred >= 0).all()\n    log_error = np.log1p(y_pred) - np.log1p(y_true)  # Note: log1p(x) = log(1 + x)\n    return np.mean(log_error ** 2) ** 0.5\n",
   "execution_count": null,
   "outputs": []
  },
  {
   "cell_type": "code",
   "metadata": {
    "tags": [],
    "cell_id": "00003-0fd359e1-23c7-45b5-a462-f52aeeac728e",
    "deepnote_to_be_reexecuted": false,
    "source_hash": "b3763d63",
    "execution_start": 1636651723603,
    "execution_millis": 102,
    "deepnote_cell_type": "code"
   },
   "source": "def clean_data(data):\n    nan_replacements = [\n        # ('floor', 0), #no nans\n        # ('rooms', 1), #no nans\n        ('ceiling', data['ceiling'].mean()),\n        #('bathrooms_shared',),\n        #('bathrooms_private',),\n        ('condition', 3),\n        ('phones', 1),\n        ('new', 0),\n        #('contructed',),\n        ('material', 2),\n        ('elevator_without', 0),\n        ('elevator_passenger', 1),\n        ('elevator_service', 0),\n        ('parking', 1),\n        ('garbage_chute', 0),\n        ('heating', 0),\n        ('balconies', 0),\n        ('loggias', 0),\n        ('seller', 2),\n        ('district', 2), #idk change\n    ]\n\n    data = data.drop(columns=[\"id\", \"area_total\", \"building_id\",\n        \"street\", \"address\", \"stories\", 'bathrooms_shared', 'bathrooms_private',\n        'constructed', 'windows_street', 'windows_court', 'layout', 'area_kitchen', 'area_living' ])\n\n    for feature, value in nan_replacements:\n        data[feature] = data[feature].fillna(value)\n\n    return data\n\ndata_ = clean_data(data)\nprint(data_.head())\ndata_train, data_valid = model_selection.train_test_split(data_, test_size=0.33, stratify=np.log(data_.price).round())\n",
   "execution_count": null,
   "outputs": [
    {
     "name": "stdout",
     "text": "   seller       price  floor  rooms   ceiling  balconies  loggias  condition  \\\n0     3.0   7139520.0    2.0    2.0  2.650000        0.0      0.0        3.0   \n1     2.0  10500000.0   18.0    3.0  3.268374        1.0      0.0        3.0   \n2     3.0   9019650.0   12.0    3.0  2.650000        0.0      0.0        3.0   \n3     2.0  10500000.0   18.0    3.0  3.268374        0.0      1.0        2.0   \n4     2.0  13900000.0    7.0    2.0  2.900000        0.0      1.0        3.0   \n\n   phones  new   latitude  longitude  district  material  elevator_without  \\\n0     1.0  1.0  55.544046  37.478055      11.0       3.0               0.0   \n1     1.0  0.0  55.861282  37.666647       2.0       3.0               0.0   \n2     1.0  1.0  55.663299  37.515335       6.0       3.0               0.0   \n3     1.0  0.0  55.861282  37.666647       2.0       3.0               0.0   \n4     1.0  0.0  55.590785  37.451438      11.0       2.0               0.0   \n\n   elevator_passenger  elevator_service  parking  garbage_chute  heating  \n0                 1.0               1.0      1.0            0.0      0.0  \n1                 1.0               1.0      1.0            0.0      0.0  \n2                 1.0               1.0      1.0            0.0      0.0  \n3                 1.0               1.0      1.0            0.0      0.0  \n4                 1.0               1.0      1.0            0.0      0.0  \n",
     "output_type": "stream"
    }
   ]
  },
  {
   "cell_type": "code",
   "metadata": {
    "tags": [],
    "cell_id": "00004-408f9a9d-35be-47e9-b83d-4f7fbdc51a2d",
    "deepnote_to_be_reexecuted": false,
    "source_hash": "a516a721",
    "execution_start": 1636651723760,
    "execution_millis": 2,
    "deepnote_output_heights": [
     21.1875
    ],
    "deepnote_cell_type": "code"
   },
   "source": "\"\"\"\n#data.describe()\nX_train = data_train.drop(columns=[\"id\", \"building_id\", \"street\", \"address\"])\nX_valid = data_valid.drop(columns=[\"id\", \"building_id\", \"street\", \"address\"])\ny_train = data_train.price\ny_valid = data_valid.price\nmodel1 = DecisionTreeRegressor().fit(X_train, y_train)\ny_train_hat = model1.predict(X_train)\ny_valid_hat = model1.predict(X_valid)\nprint(f'Train RMSLE: {root_mean_squared_log_error(y_true=y_train, y_pred=y_train_hat) :.4f}')\nprint(f'Valid RMSLE: {root_mean_squared_log_error(y_true=y_valid, y_pred=y_valid_hat) :.4f}')\n\"\"\"\n",
   "execution_count": null,
   "outputs": [
    {
     "output_type": "execute_result",
     "execution_count": 4,
     "data": {
      "text/plain": "'\\n#data.describe()\\nX_train = data_train.drop(columns=[\"id\", \"building_id\", \"street\", \"address\"])\\nX_valid = data_valid.drop(columns=[\"id\", \"building_id\", \"street\", \"address\"])\\ny_train = data_train.price\\ny_valid = data_valid.price\\nmodel1 = DecisionTreeRegressor().fit(X_train, y_train)\\ny_train_hat = model1.predict(X_train)\\ny_valid_hat = model1.predict(X_valid)\\nprint(f\\'Train RMSLE: {root_mean_squared_log_error(y_true=y_train, y_pred=y_train_hat) :.4f}\\')\\nprint(f\\'Valid RMSLE: {root_mean_squared_log_error(y_true=y_valid, y_pred=y_valid_hat) :.4f}\\')\\n'"
     },
     "metadata": {}
    }
   ]
  },
  {
   "cell_type": "code",
   "metadata": {
    "tags": [],
    "cell_id": "00005-952d7388-a644-43c5-8e5e-766343078d01",
    "deepnote_to_be_reexecuted": false,
    "source_hash": "b06eafd8",
    "execution_start": 1636651723811,
    "execution_millis": 8939,
    "deepnote_cell_type": "code"
   },
   "source": "#Random forest\nfrom sklearn.ensemble import RandomForestRegressor\nX_train = data_train.drop(['id', 'price'], axis=1)\nX_valid = data_valid.drop(['id', 'price'], axis=1)\nprint(len(X_train))\nprint(len(X_valid))\ny_train = data_train.price\ny_valid = data_valid.price\n#model1 = LogisticRegression(random_state = 0).fit(X_train, y_train)\n#y_train_hat = model1.predict(X_train)\n#y_valid_hat = model1.predict(X_valid)\n#print(f'Train RMSLE: {root_mean_squared_log_error(y_true=y_train, y_pred=y_train_hat) :.4f}')\n#print(f'Valid RMSLE: {root_mean_squared_log_error(y_true=y_train, y_pred=y_train_hat) :.4f}')\n\nmodel = RandomForestRegressor(n_estimators=50).fit(X_train, y_train)\n\ny_train_hat = model.predict(X_train)\ny_valid_hat = model.predict(X_valid)\ny_tests = model.predict()\nprint(f'Train RMSLE: {root_mean_squared_log_error(y_true=y_train, y_pred=y_train_hat) :.4f}')\nprint(f'Valid RMSLE: {root_mean_squared_log_error(y_true=y_valid, y_pred=y_valid_hat) :.4f}')",
   "execution_count": null,
   "outputs": [
    {
     "name": "stdout",
     "text": "15600\n7685\nTrain RMSLE: 0.0031\nValid RMSLE: 0.0048\n",
     "output_type": "stream"
    }
   ]
  },
  {
   "cell_type": "code",
   "metadata": {
    "tags": [],
    "cell_id": "00005-e47c90f5-0ce2-4369-9deb-8a01da6f91d7",
    "deepnote_cell_type": "code"
   },
   "source": "submission = pd.DataFrame()\nsubmission['id'] = data_test.id\nsubmission['price_prediction'] = final_labels # Predict on non-nan entries\n # Fill missing entries with mean predictor\nprint(f'Generated {len(submission)} predictions')\n\n# Export submission to csv with headers\n#submission.to_csv('sample_submission.csv', index=False)\n\nsubmission.to_csv('sample_submission.csv', index=False)\n\n# Look at submitted csv\nprint('\\nLine count of submission')\n!wc -l sample_submission.csv\n\nprint('\\nFirst 5 rows of submission')\n!head -n 5 sample_submission.csv",
   "execution_count": null,
   "outputs": []
  },
  {
   "cell_type": "markdown",
   "source": "<a style='text-decoration:none;line-height:16px;display:flex;color:#5B5B62;padding:10px;justify-content:end;' href='https://deepnote.com?utm_source=created-in-deepnote-cell&projectId=99c1e030-46bc-40fa-835c-0661eae0d488' target=\"_blank\">\n<img alt='Created in deepnote.com' style='display:inline;max-height:16px;margin:0px;margin-right:7.5px;' src='data:image/svg+xml;base64,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' > </img>\nCreated in <span style='font-weight:600;margin-left:4px;'>Deepnote</span></a>",
   "metadata": {
    "tags": [],
    "created_in_deepnote_cell": true,
    "deepnote_cell_type": "markdown"
   }
  }
 ],
 "nbformat": 4,
 "nbformat_minor": 2,
 "metadata": {
  "orig_nbformat": 2,
  "deepnote": {
   "is_reactive": false
  },
  "deepnote_notebook_id": "50c730ae-216e-4050-9b15-dccf8d6ec83c",
  "deepnote_execution_queue": []
 }
}