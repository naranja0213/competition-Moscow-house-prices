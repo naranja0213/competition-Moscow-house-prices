{
 "cells": [
  {
   "cell_type": "code",
   "metadata": {
    "tags": [],
    "deepnote_to_be_reexecuted": false,
    "source_hash": "275b9ea6",
    "execution_start": 1637349824103,
    "execution_millis": 15702,
    "cell_id": "00000-709398a7-75a5-4ac6-a325-628e7d4c4c26",
    "deepnote_cell_type": "code"
   },
   "source": "# !pip install -r requirements.txt\n\n!pip install xgboost\n!pip install catboost\n!pip install ipywidgets\n!pip install LightGBM",
   "outputs": [
    {
     "name": "stdout",
     "text": "Requirement already satisfied: xgboost in /root/venv/lib/python3.9/site-packages (1.5.0)\nRequirement already satisfied: numpy in /shared-libs/python3.9/py/lib/python3.9/site-packages (from xgboost) (1.21.4)\nRequirement already satisfied: scipy in /shared-libs/python3.9/py/lib/python3.9/site-packages (from xgboost) (1.7.2)\n\u001b[33mWARNING: You are using pip version 21.2.3; however, version 21.3.1 is available.\nYou should consider upgrading via the '/root/venv/bin/python -m pip install --upgrade pip' command.\u001b[0m\nRequirement already satisfied: catboost in /root/venv/lib/python3.9/site-packages (1.0.3)\nRequirement already satisfied: pandas>=0.24.0 in /shared-libs/python3.9/py/lib/python3.9/site-packages (from catboost) (1.2.5)\nRequirement already satisfied: scipy in /shared-libs/python3.9/py/lib/python3.9/site-packages (from catboost) (1.7.2)\nRequirement already satisfied: numpy>=1.16.0 in /shared-libs/python3.9/py/lib/python3.9/site-packages (from catboost) (1.21.4)\nRequirement already satisfied: six in /shared-libs/python3.9/py-core/lib/python3.9/site-packages (from catboost) (1.16.0)\nRequirement already satisfied: matplotlib in /shared-libs/python3.9/py/lib/python3.9/site-packages (from catboost) (3.4.3)\nRequirement already satisfied: graphviz in /root/venv/lib/python3.9/site-packages (from catboost) (0.18.2)\nRequirement already satisfied: plotly in /shared-libs/python3.9/py/lib/python3.9/site-packages (from catboost) (5.3.1)\nRequirement already satisfied: pytz>=2017.3 in /shared-libs/python3.9/py/lib/python3.9/site-packages (from pandas>=0.24.0->catboost) (2021.3)\nRequirement already satisfied: python-dateutil>=2.7.3 in /shared-libs/python3.9/py-core/lib/python3.9/site-packages (from pandas>=0.24.0->catboost) (2.8.2)\nRequirement already satisfied: cycler>=0.10 in /shared-libs/python3.9/py/lib/python3.9/site-packages (from matplotlib->catboost) (0.11.0)\nRequirement already satisfied: kiwisolver>=1.0.1 in /shared-libs/python3.9/py/lib/python3.9/site-packages (from matplotlib->catboost) (1.3.2)\nRequirement already satisfied: pyparsing>=2.2.1 in /shared-libs/python3.9/py-core/lib/python3.9/site-packages (from matplotlib->catboost) (2.4.7)\nRequirement already satisfied: pillow>=6.2.0 in /shared-libs/python3.9/py/lib/python3.9/site-packages (from matplotlib->catboost) (8.4.0)\nRequirement already satisfied: tenacity>=6.2.0 in /shared-libs/python3.9/py/lib/python3.9/site-packages (from plotly->catboost) (8.0.1)\n\u001b[33mWARNING: You are using pip version 21.2.3; however, version 21.3.1 is available.\nYou should consider upgrading via the '/root/venv/bin/python -m pip install --upgrade pip' command.\u001b[0m\nRequirement already satisfied: ipywidgets in /root/venv/lib/python3.9/site-packages (7.6.5)\nRequirement already satisfied: traitlets>=4.3.1 in /shared-libs/python3.9/py-core/lib/python3.9/site-packages (from ipywidgets) (4.3.3)\nRequirement already satisfied: nbformat>=4.2.0 in /shared-libs/python3.9/py-core/lib/python3.9/site-packages (from ipywidgets) (5.1.3)\nRequirement already satisfied: ipykernel>=4.5.1 in /shared-libs/python3.9/py-core/lib/python3.9/site-packages (from ipywidgets) (5.5.5)\nRequirement already satisfied: ipython-genutils~=0.2.0 in /shared-libs/python3.9/py-core/lib/python3.9/site-packages (from ipywidgets) (0.2.0)\nRequirement already satisfied: jupyterlab-widgets>=1.0.0 in /root/venv/lib/python3.9/site-packages (from ipywidgets) (1.0.2)\nRequirement already satisfied: widgetsnbextension~=3.5.0 in /root/venv/lib/python3.9/site-packages (from ipywidgets) (3.5.2)\nRequirement already satisfied: ipython>=4.0.0 in /shared-libs/python3.9/py-core/lib/python3.9/site-packages (from ipywidgets) (7.29.0)\nRequirement already satisfied: tornado>=4.2 in /shared-libs/python3.9/py-core/lib/python3.9/site-packages (from ipykernel>=4.5.1->ipywidgets) (6.1)\nRequirement already satisfied: jupyter-client in /shared-libs/python3.9/py-core/lib/python3.9/site-packages (from ipykernel>=4.5.1->ipywidgets) (6.1.12)\nRequirement already satisfied: matplotlib-inline in /shared-libs/python3.9/py-core/lib/python3.9/site-packages (from ipython>=4.0.0->ipywidgets) (0.1.3)\nRequirement already satisfied: setuptools>=18.5 in /root/venv/lib/python3.9/site-packages (from ipython>=4.0.0->ipywidgets) (57.4.0)\nRequirement already satisfied: pickleshare in /shared-libs/python3.9/py-core/lib/python3.9/site-packages (from ipython>=4.0.0->ipywidgets) (0.7.5)\nRequirement already satisfied: pexpect>4.3 in /shared-libs/python3.9/py-core/lib/python3.9/site-packages (from ipython>=4.0.0->ipywidgets) (4.8.0)\nRequirement already satisfied: backcall in /shared-libs/python3.9/py-core/lib/python3.9/site-packages (from ipython>=4.0.0->ipywidgets) (0.2.0)\nRequirement already satisfied: pygments in /shared-libs/python3.9/py-core/lib/python3.9/site-packages (from ipython>=4.0.0->ipywidgets) (2.10.0)\nRequirement already satisfied: prompt-toolkit!=3.0.0,!=3.0.1,<3.1.0,>=2.0.0 in /shared-libs/python3.9/py-core/lib/python3.9/site-packages (from ipython>=4.0.0->ipywidgets) (3.0.22)\nRequirement already satisfied: decorator in /shared-libs/python3.9/py-core/lib/python3.9/site-packages (from ipython>=4.0.0->ipywidgets) (5.1.0)\nRequirement already satisfied: jedi>=0.16 in /shared-libs/python3.9/py-core/lib/python3.9/site-packages (from ipython>=4.0.0->ipywidgets) (0.17.2)\nRequirement already satisfied: parso<0.8.0,>=0.7.0 in /shared-libs/python3.9/py-core/lib/python3.9/site-packages (from jedi>=0.16->ipython>=4.0.0->ipywidgets) (0.7.1)\nRequirement already satisfied: jupyter-core in /shared-libs/python3.9/py-core/lib/python3.9/site-packages (from nbformat>=4.2.0->ipywidgets) (4.7.1)\nRequirement already satisfied: jsonschema!=2.5.0,>=2.4 in /shared-libs/python3.9/py-core/lib/python3.9/site-packages (from nbformat>=4.2.0->ipywidgets) (3.2.0)\nRequirement already satisfied: attrs>=17.4.0 in /shared-libs/python3.9/py-core/lib/python3.9/site-packages (from jsonschema!=2.5.0,>=2.4->nbformat>=4.2.0->ipywidgets) (21.2.0)\nRequirement already satisfied: six>=1.11.0 in /shared-libs/python3.9/py-core/lib/python3.9/site-packages (from jsonschema!=2.5.0,>=2.4->nbformat>=4.2.0->ipywidgets) (1.16.0)\nRequirement already satisfied: pyrsistent>=0.14.0 in /shared-libs/python3.9/py-core/lib/python3.9/site-packages (from jsonschema!=2.5.0,>=2.4->nbformat>=4.2.0->ipywidgets) (0.18.0)\nRequirement already satisfied: ptyprocess>=0.5 in /shared-libs/python3.9/py-core/lib/python3.9/site-packages (from pexpect>4.3->ipython>=4.0.0->ipywidgets) (0.7.0)\nRequirement already satisfied: wcwidth in /shared-libs/python3.9/py-core/lib/python3.9/site-packages (from prompt-toolkit!=3.0.0,!=3.0.1,<3.1.0,>=2.0.0->ipython>=4.0.0->ipywidgets) (0.2.5)\nRequirement already satisfied: notebook>=4.4.1 in /shared-libs/python3.9/py-core/lib/python3.9/site-packages (from widgetsnbextension~=3.5.0->ipywidgets) (6.3.0)\nRequirement already satisfied: prometheus-client in /shared-libs/python3.9/py-core/lib/python3.9/site-packages (from notebook>=4.4.1->widgetsnbextension~=3.5.0->ipywidgets) (0.12.0)\nRequirement already satisfied: Send2Trash>=1.5.0 in /shared-libs/python3.9/py-core/lib/python3.9/site-packages (from notebook>=4.4.1->widgetsnbextension~=3.5.0->ipywidgets) (1.8.0)\nRequirement already satisfied: argon2-cffi in /shared-libs/python3.9/py-core/lib/python3.9/site-packages (from notebook>=4.4.1->widgetsnbextension~=3.5.0->ipywidgets) (21.1.0)\nRequirement already satisfied: nbconvert==6.0.7 in /shared-libs/python3.9/py-core/lib/python3.9/site-packages (from notebook>=4.4.1->widgetsnbextension~=3.5.0->ipywidgets) (6.0.7)\nRequirement already satisfied: jinja2 in /shared-libs/python3.9/py-core/lib/python3.9/site-packages (from notebook>=4.4.1->widgetsnbextension~=3.5.0->ipywidgets) (3.0.3)\nRequirement already satisfied: pyzmq>=17 in /shared-libs/python3.9/py-core/lib/python3.9/site-packages (from notebook>=4.4.1->widgetsnbextension~=3.5.0->ipywidgets) (22.3.0)\nRequirement already satisfied: terminado>=0.8.3 in /shared-libs/python3.9/py-core/lib/python3.9/site-packages (from notebook>=4.4.1->widgetsnbextension~=3.5.0->ipywidgets) (0.12.1)\nRequirement already satisfied: python-dateutil>=2.1 in /shared-libs/python3.9/py-core/lib/python3.9/site-packages (from jupyter-client->ipykernel>=4.5.1->ipywidgets) (2.8.2)\nRequirement already satisfied: nbclient<0.6.0,>=0.5.0 in /shared-libs/python3.9/py-core/lib/python3.9/site-packages (from nbconvert==6.0.7->notebook>=4.4.1->widgetsnbextension~=3.5.0->ipywidgets) (0.5.8)\nRequirement already satisfied: entrypoints>=0.2.2 in /shared-libs/python3.9/py-core/lib/python3.9/site-packages (from nbconvert==6.0.7->notebook>=4.4.1->widgetsnbextension~=3.5.0->ipywidgets) (0.3)\nRequirement already satisfied: defusedxml in /shared-libs/python3.9/py-core/lib/python3.9/site-packages (from nbconvert==6.0.7->notebook>=4.4.1->widgetsnbextension~=3.5.0->ipywidgets) (0.7.1)\nRequirement already satisfied: bleach in /shared-libs/python3.9/py-core/lib/python3.9/site-packages (from nbconvert==6.0.7->notebook>=4.4.1->widgetsnbextension~=3.5.0->ipywidgets) (4.1.0)\nRequirement already satisfied: jupyterlab-pygments in /shared-libs/python3.9/py-core/lib/python3.9/site-packages (from nbconvert==6.0.7->notebook>=4.4.1->widgetsnbextension~=3.5.0->ipywidgets) (0.1.2)\nRequirement already satisfied: mistune<2,>=0.8.1 in /shared-libs/python3.9/py-core/lib/python3.9/site-packages (from nbconvert==6.0.7->notebook>=4.4.1->widgetsnbextension~=3.5.0->ipywidgets) (0.8.4)\nRequirement already satisfied: testpath in /shared-libs/python3.9/py-core/lib/python3.9/site-packages (from nbconvert==6.0.7->notebook>=4.4.1->widgetsnbextension~=3.5.0->ipywidgets) (0.5.0)\nRequirement already satisfied: pandocfilters>=1.4.1 in /shared-libs/python3.9/py-core/lib/python3.9/site-packages (from nbconvert==6.0.7->notebook>=4.4.1->widgetsnbextension~=3.5.0->ipywidgets) (1.5.0)\nRequirement already satisfied: MarkupSafe>=2.0 in /shared-libs/python3.9/py-core/lib/python3.9/site-packages (from jinja2->notebook>=4.4.1->widgetsnbextension~=3.5.0->ipywidgets) (2.0.1)\nRequirement already satisfied: nest-asyncio in /shared-libs/python3.9/py-core/lib/python3.9/site-packages (from nbclient<0.6.0,>=0.5.0->nbconvert==6.0.7->notebook>=4.4.1->widgetsnbextension~=3.5.0->ipywidgets) (1.5.1)\nRequirement already satisfied: cffi>=1.0.0 in /shared-libs/python3.9/py-core/lib/python3.9/site-packages (from argon2-cffi->notebook>=4.4.1->widgetsnbextension~=3.5.0->ipywidgets) (1.15.0)\nRequirement already satisfied: pycparser in /shared-libs/python3.9/py-core/lib/python3.9/site-packages (from cffi>=1.0.0->argon2-cffi->notebook>=4.4.1->widgetsnbextension~=3.5.0->ipywidgets) (2.21)\nRequirement already satisfied: packaging in /shared-libs/python3.9/py-core/lib/python3.9/site-packages (from bleach->nbconvert==6.0.7->notebook>=4.4.1->widgetsnbextension~=3.5.0->ipywidgets) (21.2)\nRequirement already satisfied: webencodings in /shared-libs/python3.9/py-core/lib/python3.9/site-packages (from bleach->nbconvert==6.0.7->notebook>=4.4.1->widgetsnbextension~=3.5.0->ipywidgets) (0.5.1)\nRequirement already satisfied: pyparsing<3,>=2.0.2 in /shared-libs/python3.9/py-core/lib/python3.9/site-packages (from packaging->bleach->nbconvert==6.0.7->notebook>=4.4.1->widgetsnbextension~=3.5.0->ipywidgets) (2.4.7)\n\u001b[33mWARNING: You are using pip version 21.2.3; however, version 21.3.1 is available.\nYou should consider upgrading via the '/root/venv/bin/python -m pip install --upgrade pip' command.\u001b[0m\nRequirement already satisfied: LightGBM in /root/venv/lib/python3.9/site-packages (3.3.1)\nRequirement already satisfied: scikit-learn!=0.22.0 in /shared-libs/python3.9/py/lib/python3.9/site-packages (from LightGBM) (1.0.1)\nRequirement already satisfied: numpy in /shared-libs/python3.9/py/lib/python3.9/site-packages (from LightGBM) (1.21.4)\nRequirement already satisfied: scipy in /shared-libs/python3.9/py/lib/python3.9/site-packages (from LightGBM) (1.7.2)\nRequirement already satisfied: wheel in /usr/local/lib/python3.9/site-packages (from LightGBM) (0.37.0)\nRequirement already satisfied: threadpoolctl>=2.0.0 in /shared-libs/python3.9/py/lib/python3.9/site-packages (from scikit-learn!=0.22.0->LightGBM) (3.0.0)\nRequirement already satisfied: joblib>=0.11 in /shared-libs/python3.9/py/lib/python3.9/site-packages (from scikit-learn!=0.22.0->LightGBM) (1.1.0)\n\u001b[33mWARNING: You are using pip version 21.2.3; however, version 21.3.1 is available.\nYou should consider upgrading via the '/root/venv/bin/python -m pip install --upgrade pip' command.\u001b[0m\n",
     "output_type": "stream"
    }
   ],
   "execution_count": null
  },
  {
   "cell_type": "code",
   "metadata": {
    "tags": [],
    "deepnote_to_be_reexecuted": false,
    "source_hash": "41fe310",
    "execution_start": 1637349890246,
    "execution_millis": 15,
    "cell_id": "00001-4cccf522-4a80-4611-8003-056b1e84893c",
    "deepnote_cell_type": "code"
   },
   "source": "import json\nimport pandas as pd\nimport numpy as np\nimport math as math\nimport matplotlib.pyplot as plt\nimport seaborn as sns\nimport sklearn.model_selection as model_selection\nimport sklearn.tree as tree\nfrom sklearn.linear_model import LogisticRegression\nfrom sklearn.linear_model import LinearRegression\nimport time\nfrom sklearn.model_selection import GridSearchCV\nfrom sklearn.tree import DecisionTreeRegressor\nfrom sklearn.model_selection import train_test_split\nimport catboost\nfrom catboost import CatBoostRegressor\nfrom sklearn.impute import KNNImputer\n\n\n",
   "outputs": [],
   "execution_count": null
  },
  {
   "cell_type": "code",
   "metadata": {
    "tags": [],
    "deepnote_to_be_reexecuted": false,
    "source_hash": "81a86064",
    "execution_start": 1637349897957,
    "execution_millis": 155,
    "deepnote_output_heights": [
     21
    ],
    "cell_id": "00002-39e19db3-08b2-4e39-87f6-f14a25008081",
    "deepnote_cell_type": "code"
   },
   "source": "apartments_train = pd.read_csv('apartments_train.csv')\napartments_test = pd.read_csv('apartments_test.csv')\nwith open('apartments_meta.json') as f: \n    apartments_meta = json.load(f)\n\nbuildings_train = pd.read_csv('buildings_train.csv')\nbuildings_test = pd.read_csv('buildings_test.csv')\nwith open('buildings_meta.json') as f: \n    buildings_meta = json.load(f)\n#print(f'All apartments have an associated building: {apartments.building_id.isin(buildings.id).all()}')\ndf = pd.merge(apartments_train, buildings_train.set_index('id'), how='left', left_on='building_id', right_index=True)\ndf_test = pd.merge(apartments_test, buildings_test.set_index('id'), how='left', left_on='building_id', right_index=True)\ndf.head()\ndf['street'].isnull().sum()",
   "outputs": [
    {
     "output_type": "execute_result",
     "execution_count": 5,
     "data": {
      "text/plain": "0"
     },
     "metadata": {}
    }
   ],
   "execution_count": null
  },
  {
   "cell_type": "code",
   "metadata": {
    "tags": [],
    "deepnote_to_be_reexecuted": false,
    "source_hash": "f3dd26da",
    "execution_start": 1637349903163,
    "execution_millis": 25,
    "deepnote_output_heights": [
     611
    ],
    "cell_id": "00003-43de4d88-96a0-497b-84fc-7560ea409831",
    "deepnote_cell_type": "code"
   },
   "source": "df.isnull().sum()",
   "outputs": [
    {
     "output_type": "execute_result",
     "execution_count": 6,
     "data": {
      "text/plain": "id                        0\nseller                 8830\nprice                     0\narea_total                0\narea_kitchen           4721\narea_living            3882\nfloor                     0\nrooms                     0\nlayout                17642\nceiling               11093\nbathrooms_shared       3872\nbathrooms_private      3872\nwindows_court          8072\nwindows_street         8072\nbalconies             10520\nloggias               10520\ncondition              9810\nphones                   80\nbuilding_id               0\nnew                     264\nlatitude                  0\nlongitude                 0\ndistrict                130\nstreet                    0\naddress                   0\nconstructed             794\nmaterial               3972\nstories                   0\nelevator_without        357\nelevator_passenger      357\nelevator_service        357\nparking                6788\ngarbage_chute          8811\nheating                8161\ndtype: int64"
     },
     "metadata": {}
    }
   ],
   "execution_count": null
  },
  {
   "cell_type": "code",
   "metadata": {
    "tags": [],
    "deepnote_to_be_reexecuted": false,
    "source_hash": "7039e6d3",
    "execution_start": 1637349907850,
    "execution_millis": 1373,
    "deepnote_output_heights": [
     21,
     333
    ],
    "cell_id": "00004-ebe89187-a745-4ea5-bbaf-989fbb273c2f",
    "deepnote_cell_type": "code"
   },
   "source": "sns.heatmap(df.isnull(), yticklabels=False, cbar=False, cmap='viridis')",
   "outputs": [
    {
     "output_type": "execute_result",
     "execution_count": 7,
     "data": {
      "text/plain": "<AxesSubplot:>"
     },
     "metadata": {}
    },
    {
     "data": {
      "text/plain": "<Figure size 432x288 with 1 Axes>",
      "image/png": "[encoded data removed]"
     },
     "metadata": {
      "needs_background": "light",
      "image/png": {
       "width": 349,
       "height": 331
      }
     },
     "output_type": "display_data"
    }
   ],
   "execution_count": null
  },
  {
   "cell_type": "code",
   "metadata": {
    "tags": [],
    "deepnote_to_be_reexecuted": false,
    "source_hash": "b6ebc297",
    "execution_start": 1637349914451,
    "execution_millis": 4,
    "deepnote_output_heights": [
     21
    ],
    "cell_id": "00005-43a4c1e5-639d-4eaf-9c4f-00ec294012d4",
    "deepnote_cell_type": "code"
   },
   "source": "df.shape\n",
   "outputs": [
    {
     "output_type": "execute_result",
     "execution_count": 8,
     "data": {
      "text/plain": "(23285, 34)"
     },
     "metadata": {}
    }
   ],
   "execution_count": null
  },
  {
   "cell_type": "code",
   "metadata": {
    "tags": [],
    "deepnote_to_be_reexecuted": false,
    "source_hash": "de1e323c",
    "execution_start": 1637349917720,
    "execution_millis": 25,
    "cell_id": "00006-82e7fca1-8784-48ac-abc3-3002cf23a461",
    "deepnote_cell_type": "code"
   },
   "source": "df.info()",
   "outputs": [
    {
     "name": "stdout",
     "text": "<class 'pandas.core.frame.DataFrame'>\nRangeIndex: 23285 entries, 0 to 23284\nData columns (total 34 columns):\n #   Column              Non-Null Count  Dtype  \n---  ------              --------------  -----  \n 0   id                  23285 non-null  int64  \n 1   seller              14455 non-null  float64\n 2   price               23285 non-null  float64\n 3   area_total          23285 non-null  float64\n 4   area_kitchen        18564 non-null  float64\n 5   area_living         19403 non-null  float64\n 6   floor               23285 non-null  float64\n 7   rooms               23285 non-null  float64\n 8   layout              5643 non-null   float64\n 9   ceiling             12192 non-null  float64\n 10  bathrooms_shared    19413 non-null  float64\n 11  bathrooms_private   19413 non-null  float64\n 12  windows_court       15213 non-null  float64\n 13  windows_street      15213 non-null  float64\n 14  balconies           12765 non-null  float64\n 15  loggias             12765 non-null  float64\n 16  condition           13475 non-null  float64\n 17  phones              23205 non-null  float64\n 18  building_id         23285 non-null  int64  \n 19  new                 23021 non-null  float64\n 20  latitude            23285 non-null  float64\n 21  longitude           23285 non-null  float64\n 22  district            23155 non-null  float64\n 23  street              23285 non-null  object \n 24  address             23285 non-null  object \n 25  constructed         22491 non-null  float64\n 26  material            19313 non-null  float64\n 27  stories             23285 non-null  float64\n 28  elevator_without    22928 non-null  float64\n 29  elevator_passenger  22928 non-null  float64\n 30  elevator_service    22928 non-null  float64\n 31  parking             16497 non-null  float64\n 32  garbage_chute       14474 non-null  float64\n 33  heating             15124 non-null  float64\ndtypes: float64(30), int64(2), object(2)\nmemory usage: 6.0+ MB\n",
     "output_type": "stream"
    }
   ],
   "execution_count": null
  },
  {
   "cell_type": "code",
   "metadata": {
    "tags": [],
    "deepnote_to_be_reexecuted": false,
    "source_hash": "8762bfe5",
    "execution_start": 1637349923184,
    "execution_millis": 24,
    "cell_id": "00007-2d3daa9e-1c55-41af-b2e2-4cac4ed3951e",
    "deepnote_cell_type": "code"
   },
   "source": "df['price/area'] = df['price']/df['area_total']\n\n# The center of Moscow is at longitude: 37.6 and latitude: 55.75\ndf['distance'] = np.sqrt((37.6 - df['longitude'])**2 + (55.75 - df['latitude'])**2)\ndf_test['distance'] = np.sqrt((37.6 - df_test['longitude'])**2 + (55.75 - df_test['latitude'])**2)\n\ndf.drop(['longitude', 'latitude'], axis=1, inplace=True)\ndf_test.drop(['longitude', 'latitude'], axis=1, inplace=True)",
   "outputs": [],
   "execution_count": null
  },
  {
   "cell_type": "code",
   "metadata": {
    "tags": [],
    "deepnote_to_be_reexecuted": false,
    "source_hash": "7bcf20e9",
    "execution_start": 1637349927721,
    "execution_millis": 206,
    "deepnote_output_heights": [
     611
    ],
    "cell_id": "00008-d7c31984-38c3-4095-904d-62a8ab8edc46",
    "deepnote_cell_type": "code"
   },
   "source": "df2 = df[['id', 'price/area', 'distance']]\nmintreshold, maxtreshold = df2['price/area'].quantile([0.001, 0.999])\ndf[df2['price/area'] < mintreshold]",
   "outputs": [
    {
     "output_type": "execute_result",
     "execution_count": 11,
     "data": {
      "application/vnd.deepnote.dataframe.v2+json": {
       "row_count": 24,
       "column_count": 34,
       "columns": [
        {
         "name": "id",
         "dtype": "int64",
         "stats": {
          "unique_count": 24,
          "nan_count": 0,
          "min": "2215",
          "max": "23222",
          "histogram": [
           {
            "bin_start": 2215,
            "bin_end": 4315.7,
            "count": 4
           },
           {
            "bin_start": 4315.7,
            "bin_end": 6416.4,
            "count": 0
           },
           {
            "bin_start": 6416.4,
            "bin_end": 8517.099999999999,
            "count": 4
           },
           {
            "bin_start": 8517.099999999999,
            "bin_end": 10617.8,
            "count": 0
           },
           {
            "bin_start": 10617.8,
            "bin_end": 12718.5,
            "count": 1
           },
           {
            "bin_start": 12718.5,
            "bin_end": 14819.199999999999,
            "count": 6
           },
           {
            "bin_start": 14819.199999999999,
            "bin_end": 16919.899999999998,
            "count": 1
           },
           {
            "bin_start": 16919.899999999998,
            "bin_end": 19020.6,
            "count": 0
           },
           {
            "bin_start": 19020.6,
            "bin_end": 21121.3,
            "count": 4
           },
           {
            "bin_start": 21121.3,
            "bin_end": 23222,
            "count": 4
           }
          ]
         }
        },
        {
         "name": "seller",
         "dtype": "float64",
         "stats": {
          "unique_count": 3,
          "nan_count": 6,
          "min": "0.0",
          "max": "2.0",
          "histogram": [
           {
            "bin_start": 0,
            "bin_end": 0.2,
            "count": 4
           },
           {
            "bin_start": 0.2,
            "bin_end": 0.4,
            "count": 0
           },
           {
            "bin_start": 0.4,
            "bin_end": 0.6000000000000001,
            "count": 0
           },
           {
            "bin_start": 0.6000000000000001,
            "bin_end": 0.8,
            "count": 0
           },
           {
            "bin_start": 0.8,
            "bin_end": 1,
            "count": 0
           },
           {
            "bin_start": 1,
            "bin_end": 1.2000000000000002,
            "count": 11
           },
           {
            "bin_start": 1.2000000000000002,
            "bin_end": 1.4000000000000001,
            "count": 0
           },
           {
            "bin_start": 1.4000000000000001,
            "bin_end": 1.6,
            "count": 0
           },
           {
            "bin_start": 1.6,
            "bin_end": 1.8,
            "count": 0
           },
           {
            "bin_start": 1.8,
            "bin_end": 2,
            "count": 3
           }
          ]
         }
        },
        {
         "name": "price",
         "dtype": "float64",
         "stats": {
          "unique_count": 19,
          "nan_count": 0,
          "min": "1000000.0",
          "max": "13750000.0",
          "histogram": [
           {
            "bin_start": 1000000,
            "bin_end": 2275000,
            "count": 5
           },
           {
            "bin_start": 2275000,
            "bin_end": 3550000,
            "count": 12
           },
           {
            "bin_start": 3550000,
            "bin_end": 4825000,
            "count": 2
           },
           {
            "bin_start": 4825000,
            "bin_end": 6100000,
            "count": 2
           },
           {
            "bin_start": 6100000,
            "bin_end": 7375000,
            "count": 0
           },
           {
            "bin_start": 7375000,
            "bin_end": 8650000,
            "count": 2
           },
           {
            "bin_start": 8650000,
            "bin_end": 9925000,
            "count": 0
           },
           {
            "bin_start": 9925000,
            "bin_end": 11200000,
            "count": 0
           },
           {
            "bin_start": 11200000,
            "bin_end": 12475000,
            "count": 0
           },
           {
            "bin_start": 12475000,
            "bin_end": 13750000,
            "count": 1
           }
          ]
         }
        },
        {
         "name": "area_total",
         "dtype": "float64",
         "stats": {
          "unique_count": 19,
          "nan_count": 0,
          "min": "21.0",
          "max": "343.0",
          "histogram": [
           {
            "bin_start": 21,
            "bin_end": 53.2,
            "count": 5
           },
           {
            "bin_start": 53.2,
            "bin_end": 85.4,
            "count": 10
           },
           {
            "bin_start": 85.4,
            "bin_end": 117.60000000000001,
            "count": 4
           },
           {
            "bin_start": 117.60000000000001,
            "bin_end": 149.8,
            "count": 1
           },
           {
            "bin_start": 149.8,
            "bin_end": 182,
            "count": 2
           },
           {
            "bin_start": 182,
            "bin_end": 214.20000000000002,
            "count": 0
           },
           {
            "bin_start": 214.20000000000002,
            "bin_end": 246.40000000000003,
            "count": 0
           },
           {
            "bin_start": 246.40000000000003,
            "bin_end": 278.6,
            "count": 1
           },
           {
            "bin_start": 278.6,
            "bin_end": 310.8,
            "count": 0
           },
           {
            "bin_start": 310.8,
            "bin_end": 343,
            "count": 1
           }
          ]
         }
        },
        {
         "name": "area_kitchen",
         "dtype": "float64",
         "stats": {
          "unique_count": 10,
          "nan_count": 9,
          "min": "4.0",
          "max": "25.0",
          "histogram": [
           {
            "bin_start": 4,
            "bin_end": 6.1,
            "count": 3
           },
           {
            "bin_start": 6.1,
            "bin_end": 8.2,
            "count": 2
           },
           {
            "bin_start": 8.2,
            "bin_end": 10.3,
            "count": 3
           },
           {
            "bin_start": 10.3,
            "bin_end": 12.4,
            "count": 2
           },
           {
            "bin_start": 12.4,
            "bin_end": 14.5,
            "count": 0
           },
           {
            "bin_start": 14.5,
            "bin_end": 16.6,
            "count": 1
           },
           {
            "bin_start": 16.6,
            "bin_end": 18.700000000000003,
            "count": 1
           },
           {
            "bin_start": 18.700000000000003,
            "bin_end": 20.8,
            "count": 2
           },
           {
            "bin_start": 20.8,
            "bin_end": 22.900000000000002,
            "count": 0
           },
           {
            "bin_start": 22.900000000000002,
            "bin_end": 25,
            "count": 1
           }
          ]
         }
        },
        {
         "name": "area_living",
         "dtype": "float64",
         "stats": {
          "unique_count": 15,
          "nan_count": 4,
          "min": "14.0",
          "max": "222.0",
          "histogram": [
           {
            "bin_start": 14,
            "bin_end": 34.8,
            "count": 6
           },
           {
            "bin_start": 34.8,
            "bin_end": 55.6,
            "count": 7
           },
           {
            "bin_start": 55.6,
            "bin_end": 76.4,
            "count": 5
           },
           {
            "bin_start": 76.4,
            "bin_end": 97.2,
            "count": 0
           },
           {
            "bin_start": 97.2,
            "bin_end": 118,
            "count": 0
           },
           {
            "bin_start": 118,
            "bin_end": 138.8,
            "count": 0
           },
           {
            "bin_start": 138.8,
            "bin_end": 159.6,
            "count": 1
           },
           {
            "bin_start": 159.6,
            "bin_end": 180.4,
            "count": 0
           },
           {
            "bin_start": 180.4,
            "bin_end": 201.20000000000002,
            "count": 0
           },
           {
            "bin_start": 201.20000000000002,
            "bin_end": 222,
            "count": 1
           }
          ]
         }
        },
        {
         "name": "floor",
         "dtype": "float64",
         "stats": {
          "unique_count": 5,
          "nan_count": 0,
          "min": "1.0",
          "max": "5.0",
          "histogram": [
           {
            "bin_start": 1,
            "bin_end": 1.4,
            "count": 8
           },
           {
            "bin_start": 1.4,
            "bin_end": 1.8,
            "count": 0
           },
           {
            "bin_start": 1.8,
            "bin_end": 2.2,
            "count": 4
           },
           {
            "bin_start": 2.2,
            "bin_end": 2.6,
            "count": 0
           },
           {
            "bin_start": 2.6,
            "bin_end": 3,
            "count": 0
           },
           {
            "bin_start": 3,
            "bin_end": 3.4000000000000004,
            "count": 2
           },
           {
            "bin_start": 3.4000000000000004,
            "bin_end": 3.8000000000000003,
            "count": 0
           },
           {
            "bin_start": 3.8000000000000003,
            "bin_end": 4.2,
            "count": 8
           },
           {
            "bin_start": 4.2,
            "bin_end": 4.6,
            "count": 0
           },
           {
            "bin_start": 4.6,
            "bin_end": 5,
            "count": 2
           }
          ]
         }
        },
        {
         "name": "rooms",
         "dtype": "float64",
         "stats": {
          "unique_count": 5,
          "nan_count": 0,
          "min": "1.0",
          "max": "6.0",
          "histogram": [
           {
            "bin_start": 1,
            "bin_end": 1.5,
            "count": 9
           },
           {
            "bin_start": 1.5,
            "bin_end": 2,
            "count": 0
           },
           {
            "bin_start": 2,
            "bin_end": 2.5,
            "count": 5
           },
           {
            "bin_start": 2.5,
            "bin_end": 3,
            "count": 0
           },
           {
            "bin_start": 3,
            "bin_end": 3.5,
            "count": 7
           },
           {
            "bin_start": 3.5,
            "bin_end": 4,
            "count": 0
           },
           {
            "bin_start": 4,
            "bin_end": 4.5,
            "count": 1
           },
           {
            "bin_start": 4.5,
            "bin_end": 5,
            "count": 0
           },
           {
            "bin_start": 5,
            "bin_end": 5.5,
            "count": 0
           },
           {
            "bin_start": 5.5,
            "bin_end": 6,
            "count": 2
           }
          ]
         }
        },
        {
         "name": "layout",
         "dtype": "float64",
         "stats": {
          "unique_count": 1,
          "nan_count": 14,
          "min": "1.0",
          "max": "1.0",
          "histogram": [
           {
            "bin_start": 0.5,
            "bin_end": 0.6,
            "count": 0
           },
           {
            "bin_start": 0.6,
            "bin_end": 0.7,
            "count": 0
           },
           {
            "bin_start": 0.7,
            "bin_end": 0.8,
            "count": 0
           },
           {
            "bin_start": 0.8,
            "bin_end": 0.9,
            "count": 0
           },
           {
            "bin_start": 0.9,
            "bin_end": 1,
            "count": 0
           },
           {
            "bin_start": 1,
            "bin_end": 1.1,
            "count": 10
           },
           {
            "bin_start": 1.1,
            "bin_end": 1.2000000000000002,
            "count": 0
           },
           {
            "bin_start": 1.2000000000000002,
            "bin_end": 1.3,
            "count": 0
           },
           {
            "bin_start": 1.3,
            "bin_end": 1.4,
            "count": 0
           },
           {
            "bin_start": 1.4,
            "bin_end": 1.5,
            "count": 0
           }
          ]
         }
        },
        {
         "name": "ceiling",
         "dtype": "float64",
         "stats": {
          "unique_count": 3,
          "nan_count": 20,
          "min": "3.0",
          "max": "3.5",
          "histogram": [
           {
            "bin_start": 3,
            "bin_end": 3.05,
            "count": 2
           },
           {
            "bin_start": 3.05,
            "bin_end": 3.1,
            "count": 0
           },
           {
            "bin_start": 3.1,
            "bin_end": 3.15,
            "count": 0
           },
           {
            "bin_start": 3.15,
            "bin_end": 3.2,
            "count": 0
           },
           {
            "bin_start": 3.2,
            "bin_end": 3.25,
            "count": 1
           },
           {
            "bin_start": 3.25,
            "bin_end": 3.3,
            "count": 0
           },
           {
            "bin_start": 3.3,
            "bin_end": 3.35,
            "count": 0
           },
           {
            "bin_start": 3.35,
            "bin_end": 3.4,
            "count": 0
           },
           {
            "bin_start": 3.4,
            "bin_end": 3.45,
            "count": 0
           },
           {
            "bin_start": 3.45,
            "bin_end": 3.5,
            "count": 1
           }
          ]
         }
        },
        {
         "name": "bathrooms_shared",
         "dtype": "float64",
         "stats": {
          "unique_count": 2,
          "nan_count": 9,
          "min": "0.0",
          "max": "1.0",
          "histogram": [
           {
            "bin_start": 0,
            "bin_end": 0.1,
            "count": 7
           },
           {
            "bin_start": 0.1,
            "bin_end": 0.2,
            "count": 0
           },
           {
            "bin_start": 0.2,
            "bin_end": 0.30000000000000004,
            "count": 0
           },
           {
            "bin_start": 0.30000000000000004,
            "bin_end": 0.4,
            "count": 0
           },
           {
            "bin_start": 0.4,
            "bin_end": 0.5,
            "count": 0
           },
           {
            "bin_start": 0.5,
            "bin_end": 0.6000000000000001,
            "count": 0
           },
           {
            "bin_start": 0.6000000000000001,
            "bin_end": 0.7000000000000001,
            "count": 0
           },
           {
            "bin_start": 0.7000000000000001,
            "bin_end": 0.8,
            "count": 0
           },
           {
            "bin_start": 0.8,
            "bin_end": 0.9,
            "count": 0
           },
           {
            "bin_start": 0.9,
            "bin_end": 1,
            "count": 8
           }
          ]
         }
        },
        {
         "name": "bathrooms_private",
         "dtype": "float64",
         "stats": {
          "unique_count": 4,
          "nan_count": 9,
          "min": "0.0",
          "max": "3.0",
          "histogram": [
           {
            "bin_start": 0,
            "bin_end": 0.3,
            "count": 6
           },
           {
            "bin_start": 0.3,
            "bin_end": 0.6,
            "count": 0
           },
           {
            "bin_start": 0.6,
            "bin_end": 0.8999999999999999,
            "count": 0
           },
           {
            "bin_start": 0.8999999999999999,
            "bin_end": 1.2,
            "count": 6
           },
           {
            "bin_start": 1.2,
            "bin_end": 1.5,
            "count": 0
           },
           {
            "bin_start": 1.5,
            "bin_end": 1.7999999999999998,
            "count": 0
           },
           {
            "bin_start": 1.7999999999999998,
            "bin_end": 2.1,
            "count": 1
           },
           {
            "bin_start": 2.1,
            "bin_end": 2.4,
            "count": 0
           },
           {
            "bin_start": 2.4,
            "bin_end": 2.6999999999999997,
            "count": 0
           },
           {
            "bin_start": 2.6999999999999997,
            "bin_end": 3,
            "count": 2
           }
          ]
         }
        },
        {
         "name": "windows_court",
         "dtype": "float64",
         "stats": {
          "unique_count": 1,
          "nan_count": 12,
          "min": "1.0",
          "max": "1.0",
          "histogram": [
           {
            "bin_start": 0.5,
            "bin_end": 0.6,
            "count": 0
           },
           {
            "bin_start": 0.6,
            "bin_end": 0.7,
            "count": 0
           },
           {
            "bin_start": 0.7,
            "bin_end": 0.8,
            "count": 0
           },
           {
            "bin_start": 0.8,
            "bin_end": 0.9,
            "count": 0
           },
           {
            "bin_start": 0.9,
            "bin_end": 1,
            "count": 0
           },
           {
            "bin_start": 1,
            "bin_end": 1.1,
            "count": 12
           },
           {
            "bin_start": 1.1,
            "bin_end": 1.2000000000000002,
            "count": 0
           },
           {
            "bin_start": 1.2000000000000002,
            "bin_end": 1.3,
            "count": 0
           },
           {
            "bin_start": 1.3,
            "bin_end": 1.4,
            "count": 0
           },
           {
            "bin_start": 1.4,
            "bin_end": 1.5,
            "count": 0
           }
          ]
         }
        },
        {
         "name": "windows_street",
         "dtype": "float64",
         "stats": {
          "unique_count": 2,
          "nan_count": 12,
          "min": "0.0",
          "max": "1.0",
          "histogram": [
           {
            "bin_start": 0,
            "bin_end": 0.1,
            "count": 11
           },
           {
            "bin_start": 0.1,
            "bin_end": 0.2,
            "count": 0
           },
           {
            "bin_start": 0.2,
            "bin_end": 0.30000000000000004,
            "count": 0
           },
           {
            "bin_start": 0.30000000000000004,
            "bin_end": 0.4,
            "count": 0
           },
           {
            "bin_start": 0.4,
            "bin_end": 0.5,
            "count": 0
           },
           {
            "bin_start": 0.5,
            "bin_end": 0.6000000000000001,
            "count": 0
           },
           {
            "bin_start": 0.6000000000000001,
            "bin_end": 0.7000000000000001,
            "count": 0
           },
           {
            "bin_start": 0.7000000000000001,
            "bin_end": 0.8,
            "count": 0
           },
           {
            "bin_start": 0.8,
            "bin_end": 0.9,
            "count": 0
           },
           {
            "bin_start": 0.9,
            "bin_end": 1,
            "count": 1
           }
          ]
         }
        },
        {
         "name": "balconies",
         "dtype": "float64",
         "stats": {
          "unique_count": 2,
          "nan_count": 10,
          "min": "0.0",
          "max": "1.0",
          "histogram": [
           {
            "bin_start": 0,
            "bin_end": 0.1,
            "count": 6
           },
           {
            "bin_start": 0.1,
            "bin_end": 0.2,
            "count": 0
           },
           {
            "bin_start": 0.2,
            "bin_end": 0.30000000000000004,
            "count": 0
           },
           {
            "bin_start": 0.30000000000000004,
            "bin_end": 0.4,
            "count": 0
           },
           {
            "bin_start": 0.4,
            "bin_end": 0.5,
            "count": 0
           },
           {
            "bin_start": 0.5,
            "bin_end": 0.6000000000000001,
            "count": 0
           },
           {
            "bin_start": 0.6000000000000001,
            "bin_end": 0.7000000000000001,
            "count": 0
           },
           {
            "bin_start": 0.7000000000000001,
            "bin_end": 0.8,
            "count": 0
           },
           {
            "bin_start": 0.8,
            "bin_end": 0.9,
            "count": 0
           },
           {
            "bin_start": 0.9,
            "bin_end": 1,
            "count": 8
           }
          ]
         }
        },
        {
         "name": "loggias",
         "dtype": "float64",
         "stats": {
          "unique_count": 3,
          "nan_count": 10,
          "min": "0.0",
          "max": "2.0",
          "histogram": [
           {
            "bin_start": 0,
            "bin_end": 0.2,
            "count": 8
           },
           {
            "bin_start": 0.2,
            "bin_end": 0.4,
            "count": 0
           },
           {
            "bin_start": 0.4,
            "bin_end": 0.6000000000000001,
            "count": 0
           },
           {
            "bin_start": 0.6000000000000001,
            "bin_end": 0.8,
            "count": 0
           },
           {
            "bin_start": 0.8,
            "bin_end": 1,
            "count": 0
           },
           {
            "bin_start": 1,
            "bin_end": 1.2000000000000002,
            "count": 5
           },
           {
            "bin_start": 1.2000000000000002,
            "bin_end": 1.4000000000000001,
            "count": 0
           },
           {
            "bin_start": 1.4000000000000001,
            "bin_end": 1.6,
            "count": 0
           },
           {
            "bin_start": 1.6,
            "bin_end": 1.8,
            "count": 0
           },
           {
            "bin_start": 1.8,
            "bin_end": 2,
            "count": 1
           }
          ]
         }
        },
        {
         "name": "condition",
         "dtype": "float64",
         "stats": {
          "unique_count": 3,
          "nan_count": 8,
          "min": "0.0",
          "max": "2.0",
          "histogram": [
           {
            "bin_start": 0,
            "bin_end": 0.2,
            "count": 10
           },
           {
            "bin_start": 0.2,
            "bin_end": 0.4,
            "count": 0
           },
           {
            "bin_start": 0.4,
            "bin_end": 0.6000000000000001,
            "count": 0
           },
           {
            "bin_start": 0.6000000000000001,
            "bin_end": 0.8,
            "count": 0
           },
           {
            "bin_start": 0.8,
            "bin_end": 1,
            "count": 0
           },
           {
            "bin_start": 1,
            "bin_end": 1.2000000000000002,
            "count": 5
           },
           {
            "bin_start": 1.2000000000000002,
            "bin_end": 1.4000000000000001,
            "count": 0
           },
           {
            "bin_start": 1.4000000000000001,
            "bin_end": 1.6,
            "count": 0
           },
           {
            "bin_start": 1.6,
            "bin_end": 1.8,
            "count": 0
           },
           {
            "bin_start": 1.8,
            "bin_end": 2,
            "count": 1
           }
          ]
         }
        },
        {
         "name": "phones",
         "dtype": "float64",
         "stats": {
          "unique_count": 3,
          "nan_count": 1,
          "min": "0.0",
          "max": "2.0",
          "histogram": [
           {
            "bin_start": 0,
            "bin_end": 0.2,
            "count": 2
           },
           {
            "bin_start": 0.2,
            "bin_end": 0.4,
            "count": 0
           },
           {
            "bin_start": 0.4,
            "bin_end": 0.6000000000000001,
            "count": 0
           },
           {
            "bin_start": 0.6000000000000001,
            "bin_end": 0.8,
            "count": 0
           },
           {
            "bin_start": 0.8,
            "bin_end": 1,
            "count": 0
           },
           {
            "bin_start": 1,
            "bin_end": 1.2000000000000002,
            "count": 17
           },
           {
            "bin_start": 1.2000000000000002,
            "bin_end": 1.4000000000000001,
            "count": 0
           },
           {
            "bin_start": 1.4000000000000001,
            "bin_end": 1.6,
            "count": 0
           },
           {
            "bin_start": 1.6,
            "bin_end": 1.8,
            "count": 0
           },
           {
            "bin_start": 1.8,
            "bin_end": 2,
            "count": 4
           }
          ]
         }
        },
        {
         "name": "building_id",
         "dtype": "int64",
         "stats": {
          "unique_count": 17,
          "nan_count": 0,
          "min": "155",
          "max": "9436",
          "histogram": [
           {
            "bin_start": 155,
            "bin_end": 1083.1,
            "count": 4
           },
           {
            "bin_start": 1083.1,
            "bin_end": 2011.2,
            "count": 3
           },
           {
            "bin_start": 2011.2,
            "bin_end": 2939.3,
            "count": 1
           },
           {
            "bin_start": 2939.3,
            "bin_end": 3867.4,
            "count": 0
           },
           {
            "bin_start": 3867.4,
            "bin_end": 4795.5,
            "count": 2
           },
           {
            "bin_start": 4795.5,
            "bin_end": 5723.6,
            "count": 3
           },
           {
            "bin_start": 5723.6,
            "bin_end": 6651.7,
            "count": 4
           },
           {
            "bin_start": 6651.7,
            "bin_end": 7579.8,
            "count": 0
           },
           {
            "bin_start": 7579.8,
            "bin_end": 8507.9,
            "count": 3
           },
           {
            "bin_start": 8507.9,
            "bin_end": 9436,
            "count": 4
           }
          ]
         }
        },
        {
         "name": "new",
         "dtype": "float64",
         "stats": {
          "unique_count": 2,
          "nan_count": 1,
          "min": "0.0",
          "max": "1.0",
          "histogram": [
           {
            "bin_start": 0,
            "bin_end": 0.1,
            "count": 21
           },
           {
            "bin_start": 0.1,
            "bin_end": 0.2,
            "count": 0
           },
           {
            "bin_start": 0.2,
            "bin_end": 0.30000000000000004,
            "count": 0
           },
           {
            "bin_start": 0.30000000000000004,
            "bin_end": 0.4,
            "count": 0
           },
           {
            "bin_start": 0.4,
            "bin_end": 0.5,
            "count": 0
           },
           {
            "bin_start": 0.5,
            "bin_end": 0.6000000000000001,
            "count": 0
           },
           {
            "bin_start": 0.6000000000000001,
            "bin_end": 0.7000000000000001,
            "count": 0
           },
           {
            "bin_start": 0.7000000000000001,
            "bin_end": 0.8,
            "count": 0
           },
           {
            "bin_start": 0.8,
            "bin_end": 0.9,
            "count": 0
           },
           {
            "bin_start": 0.9,
            "bin_end": 1,
            "count": 2
           }
          ]
         }
        },
        {
         "name": "district",
         "dtype": "float64",
         "stats": {
          "unique_count": 5,
          "nan_count": 0,
          "min": "2.0",
          "max": "11.0",
          "histogram": [
           {
            "bin_start": 2,
            "bin_end": 2.9,
            "count": 4
           },
           {
            "bin_start": 2.9,
            "bin_end": 3.8,
            "count": 0
           },
           {
            "bin_start": 3.8,
            "bin_end": 4.7,
            "count": 0
           },
           {
            "bin_start": 4.7,
            "bin_end": 5.6,
            "count": 0
           },
           {
            "bin_start": 5.6,
            "bin_end": 6.5,
            "count": 0
           },
           {
            "bin_start": 6.5,
            "bin_end": 7.4,
            "count": 1
           },
           {
            "bin_start": 7.4,
            "bin_end": 8.3,
            "count": 4
           },
           {
            "bin_start": 8.3,
            "bin_end": 9.2,
            "count": 0
           },
           {
            "bin_start": 9.2,
            "bin_end": 10.1,
            "count": 14
           },
           {
            "bin_start": 10.1,
            "bin_end": 11,
            "count": 1
           }
          ]
         }
        },
        {
         "name": "street",
         "dtype": "object",
         "stats": {
          "unique_count": 9,
          "nan_count": 0,
          "categories": [
           {
            "name": "улица Березки",
            "count": 5
           },
           {
            "name": "База отдыха Витро Вилладж тер.",
            "count": 4
           },
           {
            "name": "7 others",
            "count": 15
           }
          ]
         }
        },
        {
         "name": "address",
         "dtype": "object",
         "stats": {
          "unique_count": 17,
          "nan_count": 0,
          "categories": [
           {
            "name": "10к2",
            "count": 3
           },
           {
            "name": "к4",
            "count": 2
           },
           {
            "name": "15 others",
            "count": 19
           }
          ]
         }
        },
        {
         "name": "constructed",
         "dtype": "float64",
         "stats": {
          "unique_count": 9,
          "nan_count": 5,
          "min": "2004.0",
          "max": "2018.0",
          "histogram": [
           {
            "bin_start": 2004,
            "bin_end": 2005.4,
            "count": 2
           },
           {
            "bin_start": 2005.4,
            "bin_end": 2006.8,
            "count": 0
           },
           {
            "bin_start": 2006.8,
            "bin_end": 2008.2,
            "count": 0
           },
           {
            "bin_start": 2008.2,
            "bin_end": 2009.6,
            "count": 2
           },
           {
            "bin_start": 2009.6,
            "bin_end": 2011,
            "count": 5
           },
           {
            "bin_start": 2011,
            "bin_end": 2012.4,
            "count": 2
           },
           {
            "bin_start": 2012.4,
            "bin_end": 2013.8,
            "count": 1
           },
           {
            "bin_start": 2013.8,
            "bin_end": 2015.2,
            "count": 0
           },
           {
            "bin_start": 2015.2,
            "bin_end": 2016.6,
            "count": 4
           },
           {
            "bin_start": 2016.6,
            "bin_end": 2018,
            "count": 3
           }
          ]
         }
        },
        {
         "name": "material",
         "dtype": "float64",
         "stats": {
          "unique_count": 3,
          "nan_count": 11,
          "min": "0.0",
          "max": "4.0",
          "histogram": [
           {
            "bin_start": 0,
            "bin_end": 0.4,
            "count": 1
           },
           {
            "bin_start": 0.4,
            "bin_end": 0.8,
            "count": 0
           },
           {
            "bin_start": 0.8,
            "bin_end": 1.2000000000000002,
            "count": 0
           },
           {
            "bin_start": 1.2000000000000002,
            "bin_end": 1.6,
            "count": 0
           },
           {
            "bin_start": 1.6,
            "bin_end": 2,
            "count": 0
           },
           {
            "bin_start": 2,
            "bin_end": 2.4000000000000004,
            "count": 10
           },
           {
            "bin_start": 2.4000000000000004,
            "bin_end": 2.8000000000000003,
            "count": 0
           },
           {
            "bin_start": 2.8000000000000003,
            "bin_end": 3.2,
            "count": 0
           },
           {
            "bin_start": 3.2,
            "bin_end": 3.6,
            "count": 0
           },
           {
            "bin_start": 3.6,
            "bin_end": 4,
            "count": 2
           }
          ]
         }
        },
        {
         "name": "stories",
         "dtype": "float64",
         "stats": {
          "unique_count": 5,
          "nan_count": 0,
          "min": "2.0",
          "max": "25.0",
          "histogram": [
           {
            "bin_start": 2,
            "bin_end": 4.3,
            "count": 14
           },
           {
            "bin_start": 4.3,
            "bin_end": 6.6,
            "count": 9
           },
           {
            "bin_start": 6.6,
            "bin_end": 8.899999999999999,
            "count": 0
           },
           {
            "bin_start": 8.899999999999999,
            "bin_end": 11.2,
            "count": 0
           },
           {
            "bin_start": 11.2,
            "bin_end": 13.5,
            "count": 0
           },
           {
            "bin_start": 13.5,
            "bin_end": 15.799999999999999,
            "count": 0
           },
           {
            "bin_start": 15.799999999999999,
            "bin_end": 18.099999999999998,
            "count": 0
           },
           {
            "bin_start": 18.099999999999998,
            "bin_end": 20.4,
            "count": 0
           },
           {
            "bin_start": 20.4,
            "bin_end": 22.7,
            "count": 0
           },
           {
            "bin_start": 22.7,
            "bin_end": 25,
            "count": 1
           }
          ]
         }
        },
        {
         "name": "elevator_without",
         "dtype": "float64",
         "stats": {
          "unique_count": 2,
          "nan_count": 7,
          "min": "0.0",
          "max": "1.0",
          "histogram": [
           {
            "bin_start": 0,
            "bin_end": 0.1,
            "count": 5
           },
           {
            "bin_start": 0.1,
            "bin_end": 0.2,
            "count": 0
           },
           {
            "bin_start": 0.2,
            "bin_end": 0.30000000000000004,
            "count": 0
           },
           {
            "bin_start": 0.30000000000000004,
            "bin_end": 0.4,
            "count": 0
           },
           {
            "bin_start": 0.4,
            "bin_end": 0.5,
            "count": 0
           },
           {
            "bin_start": 0.5,
            "bin_end": 0.6000000000000001,
            "count": 0
           },
           {
            "bin_start": 0.6000000000000001,
            "bin_end": 0.7000000000000001,
            "count": 0
           },
           {
            "bin_start": 0.7000000000000001,
            "bin_end": 0.8,
            "count": 0
           },
           {
            "bin_start": 0.8,
            "bin_end": 0.9,
            "count": 0
           },
           {
            "bin_start": 0.9,
            "bin_end": 1,
            "count": 12
           }
          ]
         }
        },
        {
         "name": "elevator_passenger",
         "dtype": "float64",
         "stats": {
          "unique_count": 2,
          "nan_count": 7,
          "min": "0.0",
          "max": "1.0",
          "histogram": [
           {
            "bin_start": 0,
            "bin_end": 0.1,
            "count": 10
           },
           {
            "bin_start": 0.1,
            "bin_end": 0.2,
            "count": 0
           },
           {
            "bin_start": 0.2,
            "bin_end": 0.30000000000000004,
            "count": 0
           },
           {
            "bin_start": 0.30000000000000004,
            "bin_end": 0.4,
            "count": 0
           },
           {
            "bin_start": 0.4,
            "bin_end": 0.5,
            "count": 0
           },
           {
            "bin_start": 0.5,
            "bin_end": 0.6000000000000001,
            "count": 0
           },
           {
            "bin_start": 0.6000000000000001,
            "bin_end": 0.7000000000000001,
            "count": 0
           },
           {
            "bin_start": 0.7000000000000001,
            "bin_end": 0.8,
            "count": 0
           },
           {
            "bin_start": 0.8,
            "bin_end": 0.9,
            "count": 0
           },
           {
            "bin_start": 0.9,
            "bin_end": 1,
            "count": 7
           }
          ]
         }
        },
        {
         "name": "elevator_service",
         "dtype": "float64",
         "stats": {
          "unique_count": 2,
          "nan_count": 7,
          "min": "0.0",
          "max": "1.0",
          "histogram": [
           {
            "bin_start": 0,
            "bin_end": 0.1,
            "count": 12
           },
           {
            "bin_start": 0.1,
            "bin_end": 0.2,
            "count": 0
           },
           {
            "bin_start": 0.2,
            "bin_end": 0.30000000000000004,
            "count": 0
           },
           {
            "bin_start": 0.30000000000000004,
            "bin_end": 0.4,
            "count": 0
           },
           {
            "bin_start": 0.4,
            "bin_end": 0.5,
            "count": 0
           },
           {
            "bin_start": 0.5,
            "bin_end": 0.6000000000000001,
            "count": 0
           },
           {
            "bin_start": 0.6000000000000001,
            "bin_end": 0.7000000000000001,
            "count": 0
           },
           {
            "bin_start": 0.7000000000000001,
            "bin_end": 0.8,
            "count": 0
           },
           {
            "bin_start": 0.8,
            "bin_end": 0.9,
            "count": 0
           },
           {
            "bin_start": 0.9,
            "bin_end": 1,
            "count": 5
           }
          ]
         }
        },
        {
         "name": "parking",
         "dtype": "float64",
         "stats": {
          "unique_count": 1,
          "nan_count": 11,
          "min": "1.0",
          "max": "1.0",
          "histogram": [
           {
            "bin_start": 0.5,
            "bin_end": 0.6,
            "count": 0
           },
           {
            "bin_start": 0.6,
            "bin_end": 0.7,
            "count": 0
           },
           {
            "bin_start": 0.7,
            "bin_end": 0.8,
            "count": 0
           },
           {
            "bin_start": 0.8,
            "bin_end": 0.9,
            "count": 0
           },
           {
            "bin_start": 0.9,
            "bin_end": 1,
            "count": 0
           },
           {
            "bin_start": 1,
            "bin_end": 1.1,
            "count": 13
           },
           {
            "bin_start": 1.1,
            "bin_end": 1.2000000000000002,
            "count": 0
           },
           {
            "bin_start": 1.2000000000000002,
            "bin_end": 1.3,
            "count": 0
           },
           {
            "bin_start": 1.3,
            "bin_end": 1.4,
            "count": 0
           },
           {
            "bin_start": 1.4,
            "bin_end": 1.5,
            "count": 0
           }
          ]
         }
        },
        {
         "name": "garbage_chute",
         "dtype": "float64",
         "stats": {
          "unique_count": 2,
          "nan_count": 16,
          "min": "0.0",
          "max": "1.0",
          "histogram": [
           {
            "bin_start": 0,
            "bin_end": 0.1,
            "count": 6
           },
           {
            "bin_start": 0.1,
            "bin_end": 0.2,
            "count": 0
           },
           {
            "bin_start": 0.2,
            "bin_end": 0.30000000000000004,
            "count": 0
           },
           {
            "bin_start": 0.30000000000000004,
            "bin_end": 0.4,
            "count": 0
           },
           {
            "bin_start": 0.4,
            "bin_end": 0.5,
            "count": 0
           },
           {
            "bin_start": 0.5,
            "bin_end": 0.6000000000000001,
            "count": 0
           },
           {
            "bin_start": 0.6000000000000001,
            "bin_end": 0.7000000000000001,
            "count": 0
           },
           {
            "bin_start": 0.7000000000000001,
            "bin_end": 0.8,
            "count": 0
           },
           {
            "bin_start": 0.8,
            "bin_end": 0.9,
            "count": 0
           },
           {
            "bin_start": 0.9,
            "bin_end": 1,
            "count": 2
           }
          ]
         }
        },
        {
         "name": "heating",
         "dtype": "float64",
         "stats": {
          "unique_count": 3,
          "nan_count": 16,
          "min": "0.0",
          "max": "3.0",
          "histogram": [
           {
            "bin_start": 0,
            "bin_end": 0.3,
            "count": 5
           },
           {
            "bin_start": 0.3,
            "bin_end": 0.6,
            "count": 0
           },
           {
            "bin_start": 0.6,
            "bin_end": 0.8999999999999999,
            "count": 0
           },
           {
            "bin_start": 0.8999999999999999,
            "bin_end": 1.2,
            "count": 2
           },
           {
            "bin_start": 1.2,
            "bin_end": 1.5,
            "count": 0
           },
           {
            "bin_start": 1.5,
            "bin_end": 1.7999999999999998,
            "count": 0
           },
           {
            "bin_start": 1.7999999999999998,
            "bin_end": 2.1,
            "count": 0
           },
           {
            "bin_start": 2.1,
            "bin_end": 2.4,
            "count": 0
           },
           {
            "bin_start": 2.4,
            "bin_end": 2.6999999999999997,
            "count": 0
           },
           {
            "bin_start": 2.6999999999999997,
            "bin_end": 3,
            "count": 1
           }
          ]
         }
        },
        {
         "name": "price/area",
         "dtype": "float64",
         "stats": {
          "unique_count": 22,
          "nan_count": 0,
          "min": "23323.61224489796",
          "max": "50738.0073800738",
          "histogram": [
           {
            "bin_start": 23323.61224489796,
            "bin_end": 26065.051758415542,
            "count": 2
           },
           {
            "bin_start": 26065.051758415542,
            "bin_end": 28806.491271933126,
            "count": 0
           },
           {
            "bin_start": 28806.491271933126,
            "bin_end": 31547.930785450713,
            "count": 1
           },
           {
            "bin_start": 31547.930785450713,
            "bin_end": 34289.37029896829,
            "count": 1
           },
           {
            "bin_start": 34289.37029896829,
            "bin_end": 37030.80981248588,
            "count": 1
           },
           {
            "bin_start": 37030.80981248588,
            "bin_end": 39772.24932600347,
            "count": 4
           },
           {
            "bin_start": 39772.24932600347,
            "bin_end": 42513.688839521055,
            "count": 1
           },
           {
            "bin_start": 42513.688839521055,
            "bin_end": 45255.128353038635,
            "count": 2
           },
           {
            "bin_start": 45255.128353038635,
            "bin_end": 47996.567866556215,
            "count": 2
           },
           {
            "bin_start": 47996.567866556215,
            "bin_end": 50738.0073800738,
            "count": 10
           }
          ]
         }
        },
        {
         "name": "distance",
         "dtype": "float64",
         "stats": {
          "unique_count": 16,
          "nan_count": 0,
          "min": "0.12808134682692718",
          "max": "0.7550836663344056",
          "histogram": [
           {
            "bin_start": 0.12808134682692718,
            "bin_end": 0.19078157877767501,
            "count": 4
           },
           {
            "bin_start": 0.19078157877767501,
            "bin_end": 0.25348181072842285,
            "count": 5
           },
           {
            "bin_start": 0.25348181072842285,
            "bin_end": 0.3161820426791707,
            "count": 1
           },
           {
            "bin_start": 0.3161820426791707,
            "bin_end": 0.3788822746299185,
            "count": 0
           },
           {
            "bin_start": 0.3788822746299185,
            "bin_end": 0.44158250658066633,
            "count": 2
           },
           {
            "bin_start": 0.44158250658066633,
            "bin_end": 0.5042827385314141,
            "count": 6
           },
           {
            "bin_start": 0.5042827385314141,
            "bin_end": 0.5669829704821621,
            "count": 0
           },
           {
            "bin_start": 0.5669829704821621,
            "bin_end": 0.6296832024329099,
            "count": 0
           },
           {
            "bin_start": 0.6296832024329099,
            "bin_end": 0.6923834343836577,
            "count": 0
           },
           {
            "bin_start": 0.6923834343836577,
            "bin_end": 0.7550836663344056,
            "count": 6
           }
          ]
         }
        },
        {
         "name": "_deepnote_index_column",
         "dtype": "int64"
        }
       ],
       "rows_top": [
        {
         "id": 2215,
         "seller": "nan",
         "price": 1900000,
         "area_total": 55.8,
         "area_kitchen": "nan",
         "area_living": 35,
         "floor": 1,
         "rooms": 1,
         "layout": "nan",
         "ceiling": "nan",
         "bathrooms_shared": "nan",
         "bathrooms_private": "nan",
         "windows_court": 1,
         "windows_street": 0,
         "balconies": 1,
         "loggias": 0,
         "condition": 0,
         "phones": 1,
         "building_id": 741,
         "new": 0,
         "district": 10,
         "street": "База отдыха Витро Вилладж тер.",
         "address": "к4",
         "constructed": 2010,
         "material": 2,
         "stories": 5,
         "elevator_without": 0,
         "elevator_passenger": 1,
         "elevator_service": 1,
         "parking": 1,
         "garbage_chute": 0,
         "heating": "nan",
         "price/area": 34050.179211469534,
         "distance": 0.49510152083890724,
         "_deepnote_index_column": 2215
        },
        {
         "id": 2236,
         "seller": 1,
         "price": 3000000,
         "area_total": 60,
         "area_kitchen": 8,
         "area_living": 45,
         "floor": 3,
         "rooms": 3,
         "layout": 1,
         "ceiling": "nan",
         "bathrooms_shared": 1,
         "bathrooms_private": 0,
         "windows_court": "nan",
         "windows_street": "nan",
         "balconies": 1,
         "loggias": 0,
         "condition": "nan",
         "phones": 1,
         "building_id": 4960,
         "new": 0,
         "district": 10,
         "street": "улица Березки",
         "address": "8к3",
         "constructed": 2017,
         "material": "nan",
         "stories": 4,
         "elevator_without": "nan",
         "elevator_passenger": "nan",
         "elevator_service": "nan",
         "parking": "nan",
         "garbage_chute": "nan",
         "heating": "nan",
         "price/area": 50000,
         "distance": 0.7539302153097458,
         "_deepnote_index_column": 2236
        },
        {
         "id": 2241,
         "seller": 1,
         "price": 3500000,
         "area_total": 75,
         "area_kitchen": 12,
         "area_living": 41,
         "floor": 2,
         "rooms": 3,
         "layout": 1,
         "ceiling": "nan",
         "bathrooms_shared": 0,
         "bathrooms_private": 1,
         "windows_court": "nan",
         "windows_street": "nan",
         "balconies": 1,
         "loggias": 0,
         "condition": "nan",
         "phones": 1,
         "building_id": 9053,
         "new": 1,
         "district": 11,
         "street": "улица Юбилейная",
         "address": "12к1",
         "constructed": "nan",
         "material": "nan",
         "stories": 5,
         "elevator_without": "nan",
         "elevator_passenger": "nan",
         "elevator_service": "nan",
         "parking": "nan",
         "garbage_chute": "nan",
         "heating": "nan",
         "price/area": 46666.666666666664,
         "distance": 0.24564372320293307,
         "_deepnote_index_column": 2241
        },
        {
         "id": 2363,
         "seller": 2,
         "price": 7999999,
         "area_total": 343,
         "area_kitchen": "nan",
         "area_living": 222,
         "floor": 2,
         "rooms": 6,
         "layout": "nan",
         "ceiling": "nan",
         "bathrooms_shared": "nan",
         "bathrooms_private": "nan",
         "windows_court": "nan",
         "windows_street": "nan",
         "balconies": "nan",
         "loggias": "nan",
         "condition": "nan",
         "phones": 0,
         "building_id": 4826,
         "new": 0,
         "district": 2,
         "street": "улица Радужная",
         "address": "9",
         "constructed": 2013,
         "material": 2,
         "stories": 25,
         "elevator_without": 1,
         "elevator_passenger": 1,
         "elevator_service": 1,
         "parking": 1,
         "garbage_chute": 1,
         "heating": 0,
         "price/area": 23323.61224489796,
         "distance": 0.12808134682692718,
         "_deepnote_index_column": 2363
        },
        {
         "id": 7512,
         "seller": 1,
         "price": 2950000,
         "area_total": 60,
         "area_kitchen": 8.3,
         "area_living": 34,
         "floor": 4,
         "rooms": 2,
         "layout": 1,
         "ceiling": "nan",
         "bathrooms_shared": 1,
         "bathrooms_private": 0,
         "windows_court": "nan",
         "windows_street": "nan",
         "balconies": 1,
         "loggias": 0,
         "condition": "nan",
         "phones": 1,
         "building_id": 4960,
         "new": 0,
         "district": 10,
         "street": "улица Березки",
         "address": "8к3",
         "constructed": 2017,
         "material": "nan",
         "stories": 4,
         "elevator_without": "nan",
         "elevator_passenger": "nan",
         "elevator_service": "nan",
         "parking": "nan",
         "garbage_chute": "nan",
         "heating": "nan",
         "price/area": 49166.666666666664,
         "distance": 0.7539302153097458,
         "_deepnote_index_column": 7512
        },
        {
         "id": 7513,
         "seller": 1,
         "price": 3000000,
         "area_total": 60.3,
         "area_kitchen": 9,
         "area_living": 48,
         "floor": 4,
         "rooms": 2,
         "layout": 1,
         "ceiling": "nan",
         "bathrooms_shared": 1,
         "bathrooms_private": 0,
         "windows_court": "nan",
         "windows_street": "nan",
         "balconies": 1,
         "loggias": 0,
         "condition": "nan",
         "phones": 1,
         "building_id": 6238,
         "new": 0,
         "district": 10,
         "street": "улица Березки",
         "address": "10к2",
         "constructed": 2016,
         "material": "nan",
         "stories": 4,
         "elevator_without": 1,
         "elevator_passenger": 0,
         "elevator_service": 0,
         "parking": 1,
         "garbage_chute": "nan",
         "heating": "nan",
         "price/area": 49751.24378109453,
         "distance": 0.7550836663344056,
         "_deepnote_index_column": 7513
        },
        {
         "id": 7514,
         "seller": 1,
         "price": 3350000,
         "area_total": 75,
         "area_kitchen": 12,
         "area_living": 41,
         "floor": 5,
         "rooms": 3,
         "layout": 1,
         "ceiling": "nan",
         "bathrooms_shared": 0,
         "bathrooms_private": 1,
         "windows_court": "nan",
         "windows_street": "nan",
         "balconies": 1,
         "loggias": 0,
         "condition": "nan",
         "phones": 1,
         "building_id": 1327,
         "new": 1,
         "district": 10,
         "street": "улица Юбилейная",
         "address": "2Б",
         "constructed": 2018,
         "material": "nan",
         "stories": 5,
         "elevator_without": "nan",
         "elevator_passenger": "nan",
         "elevator_service": "nan",
         "parking": "nan",
         "garbage_chute": "nan",
         "heating": "nan",
         "price/area": 44666.666666666664,
         "distance": 0.7489374021385223,
         "_deepnote_index_column": 7514
        },
        {
         "id": 7572,
         "seller": 0,
         "price": 1000000,
         "area_total": 21,
         "area_kitchen": 4,
         "area_living": 14,
         "floor": 1,
         "rooms": 1,
         "layout": "nan",
         "ceiling": "nan",
         "bathrooms_shared": "nan",
         "bathrooms_private": "nan",
         "windows_court": "nan",
         "windows_street": "nan",
         "balconies": "nan",
         "loggias": "nan",
         "condition": "nan",
         "phones": 0,
         "building_id": 5994,
         "new": 0,
         "district": 7,
         "street": "улица Парковая",
         "address": "11",
         "constructed": 2016,
         "material": 2,
         "stories": 4,
         "elevator_without": 1,
         "elevator_passenger": 0,
         "elevator_service": 0,
         "parking": 1,
         "garbage_chute": "nan",
         "heating": 0,
         "price/area": 47619.04761904762,
         "distance": 0.2547833564992063,
         "_deepnote_index_column": 7572
        },
        {
         "id": 11167,
         "seller": 1,
         "price": 13750000,
         "area_total": 271,
         "area_kitchen": 25,
         "area_living": 150,
         "floor": 4,
         "rooms": 6,
         "layout": 1,
         "ceiling": "nan",
         "bathrooms_shared": 0,
         "bathrooms_private": 3,
         "windows_court": 1,
         "windows_street": 1,
         "balconies": 1,
         "loggias": 0,
         "condition": 0,
         "phones": 1,
         "building_id": 2121,
         "new": 0,
         "district": 2,
         "street": "улица Радужная",
         "address": "1",
         "constructed": 2004,
         "material": 4,
         "stories": 5,
         "elevator_without": 1,
         "elevator_passenger": 0,
         "elevator_service": 0,
         "parking": "nan",
         "garbage_chute": "nan",
         "heating": 0,
         "price/area": 50738.0073800738,
         "distance": 0.13164740910477638,
         "_deepnote_index_column": 11167
        },
        {
         "id": 13201,
         "seller": 1,
         "price": 2900000,
         "area_total": 60,
         "area_kitchen": "nan",
         "area_living": 60,
         "floor": 1,
         "rooms": 1,
         "layout": "nan",
         "ceiling": "nan",
         "bathrooms_shared": 0,
         "bathrooms_private": 1,
         "windows_court": 1,
         "windows_street": 0,
         "balconies": "nan",
         "loggias": "nan",
         "condition": 0,
         "phones": 2,
         "building_id": 4782,
         "new": 0,
         "district": 8,
         "street": "улица Центральная",
         "address": "27",
         "constructed": 2010,
         "material": 2,
         "stories": 3,
         "elevator_without": 1,
         "elevator_passenger": 0,
         "elevator_service": 0,
         "parking": 1,
         "garbage_chute": 0,
         "heating": 1,
         "price/area": 48333.333333333336,
         "distance": 0.23861186161840303,
         "_deepnote_index_column": 13201
        },
        {
         "id": 13206,
         "seller": 0,
         "price": 1150000,
         "area_total": 29,
         "area_kitchen": 6,
         "area_living": 18,
         "floor": 1,
         "rooms": 1,
         "layout": "nan",
         "ceiling": "nan",
         "bathrooms_shared": "nan",
         "bathrooms_private": "nan",
         "windows_court": "nan",
         "windows_street": "nan",
         "balconies": "nan",
         "loggias": "nan",
         "condition": 1,
         "phones": 1,
         "building_id": 8670,
         "new": 0,
         "district": 10,
         "street": "д. Кузенево",
         "address": "8",
         "constructed": "nan",
         "material": "nan",
         "stories": 2,
         "elevator_without": "nan",
         "elevator_passenger": "nan",
         "elevator_service": "nan",
         "parking": "nan",
         "garbage_chute": "nan",
         "heating": "nan",
         "price/area": 39655.1724137931,
         "distance": 0.418336820058906,
         "_deepnote_index_column": 13206
        },
        {
         "id": 13207,
         "seller": 0,
         "price": 1400000,
         "area_total": 37,
         "area_kitchen": 6,
         "area_living": "nan",
         "floor": 2,
         "rooms": 2,
         "layout": "nan",
         "ceiling": "nan",
         "bathrooms_shared": "nan",
         "bathrooms_private": "nan",
         "windows_court": "nan",
         "windows_street": "nan",
         "balconies": "nan",
         "loggias": "nan",
         "condition": 1,
         "phones": 1,
         "building_id": 8670,
         "new": 0,
         "district": 10,
         "street": "д. Кузенево",
         "address": "8",
         "constructed": "nan",
         "material": "nan",
         "stories": 2,
         "elevator_without": "nan",
         "elevator_passenger": "nan",
         "elevator_service": "nan",
         "parking": "nan",
         "garbage_chute": "nan",
         "heating": "nan",
         "price/area": 37837.83783783784,
         "distance": 0.418336820058906,
         "_deepnote_index_column": 13207
        },
        {
         "id": 13642,
         "seller": 1,
         "price": 4200000,
         "area_total": 105.6,
         "area_kitchen": 20,
         "area_living": 30,
         "floor": 5,
         "rooms": 1,
         "layout": "nan",
         "ceiling": "nan",
         "bathrooms_shared": 1,
         "bathrooms_private": 0,
         "windows_court": 1,
         "windows_street": 0,
         "balconies": 0,
         "loggias": 1,
         "condition": 2,
         "phones": 1,
         "building_id": 8231,
         "new": 0,
         "district": 10,
         "street": "д. Киселево",
         "address": "6",
         "constructed": "nan",
         "material": 0,
         "stories": 5,
         "elevator_without": 0,
         "elevator_passenger": 1,
         "elevator_service": 0,
         "parking": "nan",
         "garbage_chute": "nan",
         "heating": "nan",
         "price/area": 39772.72727272727,
         "distance": 0.47701724495975856,
         "_deepnote_index_column": 13642
        },
        {
         "id": 13724,
         "seller": "nan",
         "price": 2950000,
         "area_total": 61,
         "area_kitchen": 8,
         "area_living": 34,
         "floor": 4,
         "rooms": 2,
         "layout": 1,
         "ceiling": 3,
         "bathrooms_shared": 0,
         "bathrooms_private": 1,
         "windows_court": 1,
         "windows_street": 0,
         "balconies": 0,
         "loggias": 1,
         "condition": 1,
         "phones": 1,
         "building_id": 6238,
         "new": 0,
         "district": 10,
         "street": "улица Березки",
         "address": "10к2",
         "constructed": 2016,
         "material": "nan",
         "stories": 4,
         "elevator_without": 1,
         "elevator_passenger": 0,
         "elevator_service": 0,
         "parking": 1,
         "garbage_chute": "nan",
         "heating": "nan",
         "price/area": 48360.65573770492,
         "distance": 0.7550836663344056,
         "_deepnote_index_column": 13724
        },
        {
         "id": 13725,
         "seller": "nan",
         "price": 2500000,
         "area_total": 101.9,
         "area_kitchen": "nan",
         "area_living": 55,
         "floor": 1,
         "rooms": 1,
         "layout": "nan",
         "ceiling": 3.5,
         "bathrooms_shared": "nan",
         "bathrooms_private": "nan",
         "windows_court": 1,
         "windows_street": 0,
         "balconies": 1,
         "loggias": 0,
         "condition": 0,
         "phones": 1,
         "building_id": 741,
         "new": 0,
         "district": 10,
         "street": "База отдыха Витро Вилладж тер.",
         "address": "к4",
         "constructed": 2010,
         "material": 2,
         "stories": 5,
         "elevator_without": 0,
         "elevator_passenger": 1,
         "elevator_service": 1,
         "parking": 1,
         "garbage_chute": 0,
         "heating": "nan",
         "price/area": 24533.85672227674,
         "distance": 0.49510152083890724,
         "_deepnote_index_column": 13725
        },
        {
         "id": 16636,
         "seller": 2,
         "price": 5500000,
         "area_total": 153.5,
         "area_kitchen": 18.1,
         "area_living": 61.1,
         "floor": 1,
         "rooms": 3,
         "layout": 1,
         "ceiling": "nan",
         "bathrooms_shared": 1,
         "bathrooms_private": 2,
         "windows_court": 1,
         "windows_street": 0,
         "balconies": 0,
         "loggias": 1,
         "condition": 0,
         "phones": 1,
         "building_id": 8038,
         "new": 0,
         "district": 2,
         "street": "улица Радужная",
         "address": "7",
         "constructed": 2004,
         "material": 4,
         "stories": 4,
         "elevator_without": 1,
         "elevator_passenger": 0,
         "elevator_service": 0,
         "parking": "nan",
         "garbage_chute": 0,
         "heating": 0,
         "price/area": 35830.618892508144,
         "distance": 0.12892314079326675,
         "_deepnote_index_column": 16636
        },
        {
         "id": 20314,
         "seller": 1,
         "price": 2900000,
         "area_total": 60,
         "area_kitchen": "nan",
         "area_living": 60,
         "floor": 1,
         "rooms": 1,
         "layout": "nan",
         "ceiling": "nan",
         "bathrooms_shared": 0,
         "bathrooms_private": 1,
         "windows_court": 1,
         "windows_street": 0,
         "balconies": "nan",
         "loggias": "nan",
         "condition": 0,
         "phones": 2,
         "building_id": 4782,
         "new": 0,
         "district": 8,
         "street": "улица Центральная",
         "address": "27",
         "constructed": 2010,
         "material": 2,
         "stories": 3,
         "elevator_without": 1,
         "elevator_passenger": 0,
         "elevator_service": 0,
         "parking": 1,
         "garbage_chute": 0,
         "heating": 1,
         "price/area": 48333.333333333336,
         "distance": 0.23861186161840303,
         "_deepnote_index_column": 20314
        },
        {
         "id": 20317,
         "seller": 2,
         "price": 3900000,
         "area_total": 99.3,
         "area_kitchen": 20,
         "area_living": 65,
         "floor": 3,
         "rooms": 3,
         "layout": 1,
         "ceiling": 3.2,
         "bathrooms_shared": 1,
         "bathrooms_private": 1,
         "windows_court": 1,
         "windows_street": 0,
         "balconies": 0,
         "loggias": 2,
         "condition": 0,
         "phones": 1,
         "building_id": 1157,
         "new": 0,
         "district": 10,
         "street": "База отдыха Витро Вилладж тер.",
         "address": "к1",
         "constructed": 2009,
         "material": 2,
         "stories": 5,
         "elevator_without": 0,
         "elevator_passenger": 1,
         "elevator_service": 1,
         "parking": 1,
         "garbage_chute": "nan",
         "heating": "nan",
         "price/area": 39274.92447129909,
         "distance": 0.4964174061754902,
         "_deepnote_index_column": 20317
        },
        {
         "id": 20329,
         "seller": "nan",
         "price": 1200000,
         "area_total": 32,
         "area_kitchen": "nan",
         "area_living": "nan",
         "floor": 1,
         "rooms": 1,
         "layout": "nan",
         "ceiling": "nan",
         "bathrooms_shared": 1,
         "bathrooms_private": 0,
         "windows_court": "nan",
         "windows_street": "nan",
         "balconies": "nan",
         "loggias": "nan",
         "condition": 1,
         "phones": 1,
         "building_id": 9436,
         "new": 0,
         "district": 8,
         "street": "улица Центральная",
         "address": "24",
         "constructed": 2010,
         "material": 2,
         "stories": 3,
         "elevator_without": 1,
         "elevator_passenger": 0,
         "elevator_service": 0,
         "parking": "nan",
         "garbage_chute": 0,
         "heating": 3,
         "price/area": 37500,
         "distance": 0.238880473546916,
         "_deepnote_index_column": 20329
        },
        {
         "id": 20333,
         "seller": "nan",
         "price": 8300000,
         "area_total": 165,
         "area_kitchen": "nan",
         "area_living": "nan",
         "floor": 4,
         "rooms": 4,
         "layout": "nan",
         "ceiling": "nan",
         "bathrooms_shared": "nan",
         "bathrooms_private": "nan",
         "windows_court": "nan",
         "windows_street": "nan",
         "balconies": "nan",
         "loggias": "nan",
         "condition": "nan",
         "phones": "nan",
         "building_id": 8250,
         "new": "nan",
         "district": 10,
         "street": "улица Кленово",
         "address": "111",
         "constructed": "nan",
         "material": "nan",
         "stories": 5,
         "elevator_without": "nan",
         "elevator_passenger": "nan",
         "elevator_service": "nan",
         "parking": "nan",
         "garbage_chute": "nan",
         "heating": "nan",
         "price/area": 50303.030303030304,
         "distance": 0.49635550476044676,
         "_deepnote_index_column": 20333
        },
        {
         "id": 21393,
         "seller": 1,
         "price": 3000000,
         "area_total": 61,
         "area_kitchen": 9,
         "area_living": 34,
         "floor": 4,
         "rooms": 2,
         "layout": "nan",
         "ceiling": "nan",
         "bathrooms_shared": "nan",
         "bathrooms_private": "nan",
         "windows_court": 1,
         "windows_street": 0,
         "balconies": 0,
         "loggias": 1,
         "condition": 0,
         "phones": 2,
         "building_id": 6238,
         "new": 0,
         "district": 10,
         "street": "улица Березки",
         "address": "10к2",
         "constructed": 2016,
         "material": "nan",
         "stories": 4,
         "elevator_without": 1,
         "elevator_passenger": 0,
         "elevator_service": 0,
         "parking": 1,
         "garbage_chute": "nan",
         "heating": "nan",
         "price/area": 49180.32786885246,
         "distance": 0.7550836663344056,
         "_deepnote_index_column": 21393
        },
        {
         "id": 21407,
         "seller": 0,
         "price": 5350000,
         "area_total": 124,
         "area_kitchen": 15,
         "area_living": 65,
         "floor": 2,
         "rooms": 3,
         "layout": 1,
         "ceiling": 3,
         "bathrooms_shared": 0,
         "bathrooms_private": 3,
         "windows_court": 1,
         "windows_street": 0,
         "balconies": "nan",
         "loggias": "nan",
         "condition": 0,
         "phones": 1,
         "building_id": 542,
         "new": 0,
         "district": 2,
         "street": "улица Радужная",
         "address": "12",
         "constructed": 2012,
         "material": "nan",
         "stories": 3,
         "elevator_without": 1,
         "elevator_passenger": 0,
         "elevator_service": 0,
         "parking": 1,
         "garbage_chute": "nan",
         "heating": "nan",
         "price/area": 43145.16129032258,
         "distance": 0.13006369252793093,
         "_deepnote_index_column": 21407
        },
        {
         "id": 22401,
         "seller": 1,
         "price": 2500000,
         "area_total": 50,
         "area_kitchen": "nan",
         "area_living": 38,
         "floor": 4,
         "rooms": 1,
         "layout": "nan",
         "ceiling": "nan",
         "bathrooms_shared": 1,
         "bathrooms_private": 0,
         "windows_court": 1,
         "windows_street": 0,
         "balconies": "nan",
         "loggias": "nan",
         "condition": 1,
         "phones": 2,
         "building_id": 155,
         "new": 0,
         "district": 8,
         "street": "улица Центральная",
         "address": "30",
         "constructed": 2011,
         "material": 2,
         "stories": 4,
         "elevator_without": 1,
         "elevator_passenger": 1,
         "elevator_service": 0,
         "parking": 1,
         "garbage_chute": 1,
         "heating": 0,
         "price/area": 50000,
         "distance": 0.238880473546916,
         "_deepnote_index_column": 22401
        },
        {
         "id": 23222,
         "seller": "nan",
         "price": 2800000,
         "area_total": 89.4,
         "area_kitchen": "nan",
         "area_living": "nan",
         "floor": 4,
         "rooms": 3,
         "layout": "nan",
         "ceiling": "nan",
         "bathrooms_shared": "nan",
         "bathrooms_private": "nan",
         "windows_court": "nan",
         "windows_street": "nan",
         "balconies": 0,
         "loggias": 1,
         "condition": 0,
         "phones": 1,
         "building_id": 1157,
         "new": 0,
         "district": 10,
         "street": "База отдыха Витро Вилладж тер.",
         "address": "к1",
         "constructed": 2009,
         "material": 2,
         "stories": 5,
         "elevator_without": 0,
         "elevator_passenger": 1,
         "elevator_service": 1,
         "parking": 1,
         "garbage_chute": "nan",
         "heating": "nan",
         "price/area": 31319.910514541385,
         "distance": 0.4964174061754902,
         "_deepnote_index_column": 23222
        }
       ],
       "rows_bottom": null
      },
      "text/plain": "          id  seller       price  area_total  area_kitchen  area_living  \\\n2215    2215     NaN   1900000.0        55.8           NaN         35.0   \n2236    2236     1.0   3000000.0        60.0           8.0         45.0   \n2241    2241     1.0   3500000.0        75.0          12.0         41.0   \n2363    2363     2.0   7999999.0       343.0           NaN        222.0   \n7512    7512     1.0   2950000.0        60.0           8.3         34.0   \n7513    7513     1.0   3000000.0        60.3           9.0         48.0   \n7514    7514     1.0   3350000.0        75.0          12.0         41.0   \n7572    7572     0.0   1000000.0        21.0           4.0         14.0   \n11167  11167     1.0  13750000.0       271.0          25.0        150.0   \n13201  13201     1.0   2900000.0        60.0           NaN         60.0   \n13206  13206     0.0   1150000.0        29.0           6.0         18.0   \n13207  13207     0.0   1400000.0        37.0           6.0          NaN   \n13642  13642     1.0   4200000.0       105.6          20.0         30.0   \n13724  13724     NaN   2950000.0        61.0           8.0         34.0   \n13725  13725     NaN   2500000.0       101.9           NaN         55.0   \n16636  16636     2.0   5500000.0       153.5          18.1         61.1   \n20314  20314     1.0   2900000.0        60.0           NaN         60.0   \n20317  20317     2.0   3900000.0        99.3          20.0         65.0   \n20329  20329     NaN   1200000.0        32.0           NaN          NaN   \n20333  20333     NaN   8300000.0       165.0           NaN          NaN   \n21393  21393     1.0   3000000.0        61.0           9.0         34.0   \n21407  21407     0.0   5350000.0       124.0          15.0         65.0   \n22401  22401     1.0   2500000.0        50.0           NaN         38.0   \n23222  23222     NaN   2800000.0        89.4           NaN          NaN   \n\n       floor  rooms  layout  ceiling  ...  material  stories  \\\n2215     1.0    1.0     NaN      NaN  ...       2.0      5.0   \n2236     3.0    3.0     1.0      NaN  ...       NaN      4.0   \n2241     2.0    3.0     1.0      NaN  ...       NaN      5.0   \n2363     2.0    6.0     NaN      NaN  ...       2.0     25.0   \n7512     4.0    2.0     1.0      NaN  ...       NaN      4.0   \n7513     4.0    2.0     1.0      NaN  ...       NaN      4.0   \n7514     5.0    3.0     1.0      NaN  ...       NaN      5.0   \n7572     1.0    1.0     NaN      NaN  ...       2.0      4.0   \n11167    4.0    6.0     1.0      NaN  ...       4.0      5.0   \n13201    1.0    1.0     NaN      NaN  ...       2.0      3.0   \n13206    1.0    1.0     NaN      NaN  ...       NaN      2.0   \n13207    2.0    2.0     NaN      NaN  ...       NaN      2.0   \n13642    5.0    1.0     NaN      NaN  ...       0.0      5.0   \n13724    4.0    2.0     1.0      3.0  ...       NaN      4.0   \n13725    1.0    1.0     NaN      3.5  ...       2.0      5.0   \n16636    1.0    3.0     1.0      NaN  ...       4.0      4.0   \n20314    1.0    1.0     NaN      NaN  ...       2.0      3.0   \n20317    3.0    3.0     1.0      3.2  ...       2.0      5.0   \n20329    1.0    1.0     NaN      NaN  ...       2.0      3.0   \n20333    4.0    4.0     NaN      NaN  ...       NaN      5.0   \n21393    4.0    2.0     NaN      NaN  ...       NaN      4.0   \n21407    2.0    3.0     1.0      3.0  ...       NaN      3.0   \n22401    4.0    1.0     NaN      NaN  ...       2.0      4.0   \n23222    4.0    3.0     NaN      NaN  ...       2.0      5.0   \n\n       elevator_without  elevator_passenger  elevator_service  parking  \\\n2215                0.0                 1.0               1.0      1.0   \n2236                NaN                 NaN               NaN      NaN   \n2241                NaN                 NaN               NaN      NaN   \n2363                1.0                 1.0               1.0      1.0   \n7512                NaN                 NaN               NaN      NaN   \n7513                1.0                 0.0               0.0      1.0   \n7514                NaN                 NaN               NaN      NaN   \n7572                1.0                 0.0               0.0      1.0   \n11167               1.0                 0.0               0.0      NaN   \n13201               1.0                 0.0               0.0      1.0   \n13206               NaN                 NaN               NaN      NaN   \n13207               NaN                 NaN               NaN      NaN   \n13642               0.0                 1.0               0.0      NaN   \n13724               1.0                 0.0               0.0      1.0   \n13725               0.0                 1.0               1.0      1.0   \n16636               1.0                 0.0               0.0      NaN   \n20314               1.0                 0.0               0.0      1.0   \n20317               0.0                 1.0               1.0      1.0   \n20329               1.0                 0.0               0.0      NaN   \n20333               NaN                 NaN               NaN      NaN   \n21393               1.0                 0.0               0.0      1.0   \n21407               1.0                 0.0               0.0      1.0   \n22401               1.0                 1.0               0.0      1.0   \n23222               0.0                 1.0               1.0      1.0   \n\n       garbage_chute  heating    price/area  distance  \n2215             0.0      NaN  34050.179211  0.495102  \n2236             NaN      NaN  50000.000000  0.753930  \n2241             NaN      NaN  46666.666667  0.245644  \n2363             1.0      0.0  23323.612245  0.128081  \n7512             NaN      NaN  49166.666667  0.753930  \n7513             NaN      NaN  49751.243781  0.755084  \n7514             NaN      NaN  44666.666667  0.748937  \n7572             NaN      0.0  47619.047619  0.254783  \n11167            NaN      0.0  50738.007380  0.131647  \n13201            0.0      1.0  48333.333333  0.238612  \n13206            NaN      NaN  39655.172414  0.418337  \n13207            NaN      NaN  37837.837838  0.418337  \n13642            NaN      NaN  39772.727273  0.477017  \n13724            NaN      NaN  48360.655738  0.755084  \n13725            0.0      NaN  24533.856722  0.495102  \n16636            0.0      0.0  35830.618893  0.128923  \n20314            0.0      1.0  48333.333333  0.238612  \n20317            NaN      NaN  39274.924471  0.496417  \n20329            0.0      3.0  37500.000000  0.238880  \n20333            NaN      NaN  50303.030303  0.496356  \n21393            NaN      NaN  49180.327869  0.755084  \n21407            NaN      NaN  43145.161290  0.130064  \n22401            1.0      0.0  50000.000000  0.238880  \n23222            NaN      NaN  31319.910515  0.496417  \n\n[24 rows x 34 columns]",
      "text/html": "<div>\n<style scoped>\n    .dataframe tbody tr th:only-of-type {\n        vertical-align: middle;\n    }\n\n    .dataframe tbody tr th {\n        vertical-align: top;\n    }\n\n    .dataframe thead th {\n        text-align: right;\n    }\n</style>\n<table border=\"1\" class=\"dataframe\">\n  <thead>\n    <tr style=\"text-align: right;\">\n      <th></th>\n      <th>id</th>\n      <th>seller</th>\n      <th>price</th>\n      <th>area_total</th>\n      <th>area_kitchen</th>\n      <th>area_living</th>\n      <th>floor</th>\n      <th>rooms</th>\n      <th>layout</th>\n      <th>ceiling</th>\n      <th>...</th>\n      <th>material</th>\n      <th>stories</th>\n      <th>elevator_without</th>\n      <th>elevator_passenger</th>\n      <th>elevator_service</th>\n      <th>parking</th>\n      <th>garbage_chute</th>\n      <th>heating</th>\n      <th>price/area</th>\n      <th>distance</th>\n    </tr>\n  </thead>\n  <tbody>\n    <tr>\n      <th>2215</th>\n      <td>2215</td>\n      <td>NaN</td>\n      <td>1900000.0</td>\n      <td>55.8</td>\n      <td>NaN</td>\n      <td>35.0</td>\n      <td>1.0</td>\n      <td>1.0</td>\n      <td>NaN</td>\n      <td>NaN</td>\n      <td>...</td>\n      <td>2.0</td>\n      <td>5.0</td>\n      <td>0.0</td>\n      <td>1.0</td>\n      <td>1.0</td>\n      <td>1.0</td>\n      <td>0.0</td>\n      <td>NaN</td>\n      <td>34050.179211</td>\n      <td>0.495102</td>\n    </tr>\n    <tr>\n      <th>2236</th>\n      <td>2236</td>\n      <td>1.0</td>\n      <td>3000000.0</td>\n      <td>60.0</td>\n      <td>8.0</td>\n      <td>45.0</td>\n      <td>3.0</td>\n      <td>3.0</td>\n      <td>1.0</td>\n      <td>NaN</td>\n      <td>...</td>\n      <td>NaN</td>\n      <td>4.0</td>\n      <td>NaN</td>\n      <td>NaN</td>\n      <td>NaN</td>\n      <td>NaN</td>\n      <td>NaN</td>\n      <td>NaN</td>\n      <td>50000.000000</td>\n      <td>0.753930</td>\n    </tr>\n    <tr>\n      <th>2241</th>\n      <td>2241</td>\n      <td>1.0</td>\n      <td>3500000.0</td>\n      <td>75.0</td>\n      <td>12.0</td>\n      <td>41.0</td>\n      <td>2.0</td>\n      <td>3.0</td>\n      <td>1.0</td>\n      <td>NaN</td>\n      <td>...</td>\n      <td>NaN</td>\n      <td>5.0</td>\n      <td>NaN</td>\n      <td>NaN</td>\n      <td>NaN</td>\n      <td>NaN</td>\n      <td>NaN</td>\n      <td>NaN</td>\n      <td>46666.666667</td>\n      <td>0.245644</td>\n    </tr>\n    <tr>\n      <th>2363</th>\n      <td>2363</td>\n      <td>2.0</td>\n      <td>7999999.0</td>\n      <td>343.0</td>\n      <td>NaN</td>\n      <td>222.0</td>\n      <td>2.0</td>\n      <td>6.0</td>\n      <td>NaN</td>\n      <td>NaN</td>\n      <td>...</td>\n      <td>2.0</td>\n      <td>25.0</td>\n      <td>1.0</td>\n      <td>1.0</td>\n      <td>1.0</td>\n      <td>1.0</td>\n      <td>1.0</td>\n      <td>0.0</td>\n      <td>23323.612245</td>\n      <td>0.128081</td>\n    </tr>\n    <tr>\n      <th>7512</th>\n      <td>7512</td>\n      <td>1.0</td>\n      <td>2950000.0</td>\n      <td>60.0</td>\n      <td>8.3</td>\n      <td>34.0</td>\n      <td>4.0</td>\n      <td>2.0</td>\n      <td>1.0</td>\n      <td>NaN</td>\n      <td>...</td>\n      <td>NaN</td>\n      <td>4.0</td>\n      <td>NaN</td>\n      <td>NaN</td>\n      <td>NaN</td>\n      <td>NaN</td>\n      <td>NaN</td>\n      <td>NaN</td>\n      <td>49166.666667</td>\n      <td>0.753930</td>\n    </tr>\n    <tr>\n      <th>7513</th>\n      <td>7513</td>\n      <td>1.0</td>\n      <td>3000000.0</td>\n      <td>60.3</td>\n      <td>9.0</td>\n      <td>48.0</td>\n      <td>4.0</td>\n      <td>2.0</td>\n      <td>1.0</td>\n      <td>NaN</td>\n      <td>...</td>\n      <td>NaN</td>\n      <td>4.0</td>\n      <td>1.0</td>\n      <td>0.0</td>\n      <td>0.0</td>\n      <td>1.0</td>\n      <td>NaN</td>\n      <td>NaN</td>\n      <td>49751.243781</td>\n      <td>0.755084</td>\n    </tr>\n    <tr>\n      <th>7514</th>\n      <td>7514</td>\n      <td>1.0</td>\n      <td>3350000.0</td>\n      <td>75.0</td>\n      <td>12.0</td>\n      <td>41.0</td>\n      <td>5.0</td>\n      <td>3.0</td>\n      <td>1.0</td>\n      <td>NaN</td>\n      <td>...</td>\n      <td>NaN</td>\n      <td>5.0</td>\n      <td>NaN</td>\n      <td>NaN</td>\n      <td>NaN</td>\n      <td>NaN</td>\n      <td>NaN</td>\n      <td>NaN</td>\n      <td>44666.666667</td>\n      <td>0.748937</td>\n    </tr>\n    <tr>\n      <th>7572</th>\n      <td>7572</td>\n      <td>0.0</td>\n      <td>1000000.0</td>\n      <td>21.0</td>\n      <td>4.0</td>\n      <td>14.0</td>\n      <td>1.0</td>\n      <td>1.0</td>\n      <td>NaN</td>\n      <td>NaN</td>\n      <td>...</td>\n      <td>2.0</td>\n      <td>4.0</td>\n      <td>1.0</td>\n      <td>0.0</td>\n      <td>0.0</td>\n      <td>1.0</td>\n      <td>NaN</td>\n      <td>0.0</td>\n      <td>47619.047619</td>\n      <td>0.254783</td>\n    </tr>\n    <tr>\n      <th>11167</th>\n      <td>11167</td>\n      <td>1.0</td>\n      <td>13750000.0</td>\n      <td>271.0</td>\n      <td>25.0</td>\n      <td>150.0</td>\n      <td>4.0</td>\n      <td>6.0</td>\n      <td>1.0</td>\n      <td>NaN</td>\n      <td>...</td>\n      <td>4.0</td>\n      <td>5.0</td>\n      <td>1.0</td>\n      <td>0.0</td>\n      <td>0.0</td>\n      <td>NaN</td>\n      <td>NaN</td>\n      <td>0.0</td>\n      <td>50738.007380</td>\n      <td>0.131647</td>\n    </tr>\n    <tr>\n      <th>13201</th>\n      <td>13201</td>\n      <td>1.0</td>\n      <td>2900000.0</td>\n      <td>60.0</td>\n      <td>NaN</td>\n      <td>60.0</td>\n      <td>1.0</td>\n      <td>1.0</td>\n      <td>NaN</td>\n      <td>NaN</td>\n      <td>...</td>\n      <td>2.0</td>\n      <td>3.0</td>\n      <td>1.0</td>\n      <td>0.0</td>\n      <td>0.0</td>\n      <td>1.0</td>\n      <td>0.0</td>\n      <td>1.0</td>\n      <td>48333.333333</td>\n      <td>0.238612</td>\n    </tr>\n    <tr>\n      <th>13206</th>\n      <td>13206</td>\n      <td>0.0</td>\n      <td>1150000.0</td>\n      <td>29.0</td>\n      <td>6.0</td>\n      <td>18.0</td>\n      <td>1.0</td>\n      <td>1.0</td>\n      <td>NaN</td>\n      <td>NaN</td>\n      <td>...</td>\n      <td>NaN</td>\n      <td>2.0</td>\n      <td>NaN</td>\n      <td>NaN</td>\n      <td>NaN</td>\n      <td>NaN</td>\n      <td>NaN</td>\n      <td>NaN</td>\n      <td>39655.172414</td>\n      <td>0.418337</td>\n    </tr>\n    <tr>\n      <th>13207</th>\n      <td>13207</td>\n      <td>0.0</td>\n      <td>1400000.0</td>\n      <td>37.0</td>\n      <td>6.0</td>\n      <td>NaN</td>\n      <td>2.0</td>\n      <td>2.0</td>\n      <td>NaN</td>\n      <td>NaN</td>\n      <td>...</td>\n      <td>NaN</td>\n      <td>2.0</td>\n      <td>NaN</td>\n      <td>NaN</td>\n      <td>NaN</td>\n      <td>NaN</td>\n      <td>NaN</td>\n      <td>NaN</td>\n      <td>37837.837838</td>\n      <td>0.418337</td>\n    </tr>\n    <tr>\n      <th>13642</th>\n      <td>13642</td>\n      <td>1.0</td>\n      <td>4200000.0</td>\n      <td>105.6</td>\n      <td>20.0</td>\n      <td>30.0</td>\n      <td>5.0</td>\n      <td>1.0</td>\n      <td>NaN</td>\n      <td>NaN</td>\n      <td>...</td>\n      <td>0.0</td>\n      <td>5.0</td>\n      <td>0.0</td>\n      <td>1.0</td>\n      <td>0.0</td>\n      <td>NaN</td>\n      <td>NaN</td>\n      <td>NaN</td>\n      <td>39772.727273</td>\n      <td>0.477017</td>\n    </tr>\n    <tr>\n      <th>13724</th>\n      <td>13724</td>\n      <td>NaN</td>\n      <td>2950000.0</td>\n      <td>61.0</td>\n      <td>8.0</td>\n      <td>34.0</td>\n      <td>4.0</td>\n      <td>2.0</td>\n      <td>1.0</td>\n      <td>3.0</td>\n      <td>...</td>\n      <td>NaN</td>\n      <td>4.0</td>\n      <td>1.0</td>\n      <td>0.0</td>\n      <td>0.0</td>\n      <td>1.0</td>\n      <td>NaN</td>\n      <td>NaN</td>\n      <td>48360.655738</td>\n      <td>0.755084</td>\n    </tr>\n    <tr>\n      <th>13725</th>\n      <td>13725</td>\n      <td>NaN</td>\n      <td>2500000.0</td>\n      <td>101.9</td>\n      <td>NaN</td>\n      <td>55.0</td>\n      <td>1.0</td>\n      <td>1.0</td>\n      <td>NaN</td>\n      <td>3.5</td>\n      <td>...</td>\n      <td>2.0</td>\n      <td>5.0</td>\n      <td>0.0</td>\n      <td>1.0</td>\n      <td>1.0</td>\n      <td>1.0</td>\n      <td>0.0</td>\n      <td>NaN</td>\n      <td>24533.856722</td>\n      <td>0.495102</td>\n    </tr>\n    <tr>\n      <th>16636</th>\n      <td>16636</td>\n      <td>2.0</td>\n      <td>5500000.0</td>\n      <td>153.5</td>\n      <td>18.1</td>\n      <td>61.1</td>\n      <td>1.0</td>\n      <td>3.0</td>\n      <td>1.0</td>\n      <td>NaN</td>\n      <td>...</td>\n      <td>4.0</td>\n      <td>4.0</td>\n      <td>1.0</td>\n      <td>0.0</td>\n      <td>0.0</td>\n      <td>NaN</td>\n      <td>0.0</td>\n      <td>0.0</td>\n      <td>35830.618893</td>\n      <td>0.128923</td>\n    </tr>\n    <tr>\n      <th>20314</th>\n      <td>20314</td>\n      <td>1.0</td>\n      <td>2900000.0</td>\n      <td>60.0</td>\n      <td>NaN</td>\n      <td>60.0</td>\n      <td>1.0</td>\n      <td>1.0</td>\n      <td>NaN</td>\n      <td>NaN</td>\n      <td>...</td>\n      <td>2.0</td>\n      <td>3.0</td>\n      <td>1.0</td>\n      <td>0.0</td>\n      <td>0.0</td>\n      <td>1.0</td>\n      <td>0.0</td>\n      <td>1.0</td>\n      <td>48333.333333</td>\n      <td>0.238612</td>\n    </tr>\n    <tr>\n      <th>20317</th>\n      <td>20317</td>\n      <td>2.0</td>\n      <td>3900000.0</td>\n      <td>99.3</td>\n      <td>20.0</td>\n      <td>65.0</td>\n      <td>3.0</td>\n      <td>3.0</td>\n      <td>1.0</td>\n      <td>3.2</td>\n      <td>...</td>\n      <td>2.0</td>\n      <td>5.0</td>\n      <td>0.0</td>\n      <td>1.0</td>\n      <td>1.0</td>\n      <td>1.0</td>\n      <td>NaN</td>\n      <td>NaN</td>\n      <td>39274.924471</td>\n      <td>0.496417</td>\n    </tr>\n    <tr>\n      <th>20329</th>\n      <td>20329</td>\n      <td>NaN</td>\n      <td>1200000.0</td>\n      <td>32.0</td>\n      <td>NaN</td>\n      <td>NaN</td>\n      <td>1.0</td>\n      <td>1.0</td>\n      <td>NaN</td>\n      <td>NaN</td>\n      <td>...</td>\n      <td>2.0</td>\n      <td>3.0</td>\n      <td>1.0</td>\n      <td>0.0</td>\n      <td>0.0</td>\n      <td>NaN</td>\n      <td>0.0</td>\n      <td>3.0</td>\n      <td>37500.000000</td>\n      <td>0.238880</td>\n    </tr>\n    <tr>\n      <th>20333</th>\n      <td>20333</td>\n      <td>NaN</td>\n      <td>8300000.0</td>\n      <td>165.0</td>\n      <td>NaN</td>\n      <td>NaN</td>\n      <td>4.0</td>\n      <td>4.0</td>\n      <td>NaN</td>\n      <td>NaN</td>\n      <td>...</td>\n      <td>NaN</td>\n      <td>5.0</td>\n      <td>NaN</td>\n      <td>NaN</td>\n      <td>NaN</td>\n      <td>NaN</td>\n      <td>NaN</td>\n      <td>NaN</td>\n      <td>50303.030303</td>\n      <td>0.496356</td>\n    </tr>\n    <tr>\n      <th>21393</th>\n      <td>21393</td>\n      <td>1.0</td>\n      <td>3000000.0</td>\n      <td>61.0</td>\n      <td>9.0</td>\n      <td>34.0</td>\n      <td>4.0</td>\n      <td>2.0</td>\n      <td>NaN</td>\n      <td>NaN</td>\n      <td>...</td>\n      <td>NaN</td>\n      <td>4.0</td>\n      <td>1.0</td>\n      <td>0.0</td>\n      <td>0.0</td>\n      <td>1.0</td>\n      <td>NaN</td>\n      <td>NaN</td>\n      <td>49180.327869</td>\n      <td>0.755084</td>\n    </tr>\n    <tr>\n      <th>21407</th>\n      <td>21407</td>\n      <td>0.0</td>\n      <td>5350000.0</td>\n      <td>124.0</td>\n      <td>15.0</td>\n      <td>65.0</td>\n      <td>2.0</td>\n      <td>3.0</td>\n      <td>1.0</td>\n      <td>3.0</td>\n      <td>...</td>\n      <td>NaN</td>\n      <td>3.0</td>\n      <td>1.0</td>\n      <td>0.0</td>\n      <td>0.0</td>\n      <td>1.0</td>\n      <td>NaN</td>\n      <td>NaN</td>\n      <td>43145.161290</td>\n      <td>0.130064</td>\n    </tr>\n    <tr>\n      <th>22401</th>\n      <td>22401</td>\n      <td>1.0</td>\n      <td>2500000.0</td>\n      <td>50.0</td>\n      <td>NaN</td>\n      <td>38.0</td>\n      <td>4.0</td>\n      <td>1.0</td>\n      <td>NaN</td>\n      <td>NaN</td>\n      <td>...</td>\n      <td>2.0</td>\n      <td>4.0</td>\n      <td>1.0</td>\n      <td>1.0</td>\n      <td>0.0</td>\n      <td>1.0</td>\n      <td>1.0</td>\n      <td>0.0</td>\n      <td>50000.000000</td>\n      <td>0.238880</td>\n    </tr>\n    <tr>\n      <th>23222</th>\n      <td>23222</td>\n      <td>NaN</td>\n      <td>2800000.0</td>\n      <td>89.4</td>\n      <td>NaN</td>\n      <td>NaN</td>\n      <td>4.0</td>\n      <td>3.0</td>\n      <td>NaN</td>\n      <td>NaN</td>\n      <td>...</td>\n      <td>2.0</td>\n      <td>5.0</td>\n      <td>0.0</td>\n      <td>1.0</td>\n      <td>1.0</td>\n      <td>1.0</td>\n      <td>NaN</td>\n      <td>NaN</td>\n      <td>31319.910515</td>\n      <td>0.496417</td>\n    </tr>\n  </tbody>\n</table>\n<p>24 rows × 34 columns</p>\n</div>"
     },
     "metadata": {}
    }
   ],
   "execution_count": null
  },
  {
   "cell_type": "code",
   "metadata": {
    "tags": [],
    "deepnote_to_be_reexecuted": false,
    "source_hash": "44a2eb40",
    "execution_start": 1637349934090,
    "execution_millis": 3,
    "cell_id": "00009-06862af3-c822-4416-9e84-80b69886b998",
    "deepnote_cell_type": "code"
   },
   "source": "a = list(df[df2['price/area'] > maxtreshold].id.values)\nb = list(df[df2['price/area'] < mintreshold].id.values)\nc = a + b",
   "outputs": [],
   "execution_count": null
  },
  {
   "cell_type": "code",
   "metadata": {
    "tags": [],
    "deepnote_to_be_reexecuted": false,
    "source_hash": "eec5f2e7",
    "execution_start": 1637349937039,
    "execution_millis": 14,
    "deepnote_output_heights": [
     21
    ],
    "cell_id": "00010-4f6867fc-f15b-4b4c-b862-d90fe0fc8533",
    "deepnote_cell_type": "code"
   },
   "source": "a = df.shape\ndf.drop(c, axis=0, inplace=True)\nb = df.shape\na,b",
   "outputs": [
    {
     "output_type": "execute_result",
     "execution_count": 13,
     "data": {
      "text/plain": "((23285, 34), (23237, 34))"
     },
     "metadata": {}
    }
   ],
   "execution_count": null
  },
  {
   "cell_type": "code",
   "metadata": {
    "tags": [],
    "deepnote_to_be_reexecuted": false,
    "source_hash": "de1e323c",
    "execution_start": 1637349941644,
    "execution_millis": 20,
    "cell_id": "00011-5e6f9966-e2e5-4650-8d82-1d80a75557cb",
    "deepnote_cell_type": "code"
   },
   "source": "df.info()",
   "outputs": [
    {
     "name": "stdout",
     "text": "<class 'pandas.core.frame.DataFrame'>\nInt64Index: 23237 entries, 0 to 23284\nData columns (total 34 columns):\n #   Column              Non-Null Count  Dtype  \n---  ------              --------------  -----  \n 0   id                  23237 non-null  int64  \n 1   seller              14435 non-null  float64\n 2   price               23237 non-null  float64\n 3   area_total          23237 non-null  float64\n 4   area_kitchen        18538 non-null  float64\n 5   area_living         19372 non-null  float64\n 6   floor               23237 non-null  float64\n 7   rooms               23237 non-null  float64\n 8   layout              5626 non-null   float64\n 9   ceiling             12181 non-null  float64\n 10  bathrooms_shared    19378 non-null  float64\n 11  bathrooms_private   19378 non-null  float64\n 12  windows_court       15188 non-null  float64\n 13  windows_street      15188 non-null  float64\n 14  balconies           12745 non-null  float64\n 15  loggias             12745 non-null  float64\n 16  condition           13440 non-null  float64\n 17  phones              23158 non-null  float64\n 18  building_id         23237 non-null  int64  \n 19  new                 22974 non-null  float64\n 20  district            23107 non-null  float64\n 21  street              23237 non-null  object \n 22  address             23237 non-null  object \n 23  constructed         22449 non-null  float64\n 24  material            19278 non-null  float64\n 25  stories             23237 non-null  float64\n 26  elevator_without    22887 non-null  float64\n 27  elevator_passenger  22887 non-null  float64\n 28  elevator_service    22887 non-null  float64\n 29  parking             16464 non-null  float64\n 30  garbage_chute       14450 non-null  float64\n 31  heating             15102 non-null  float64\n 32  price/area          23237 non-null  float64\n 33  distance            23237 non-null  float64\ndtypes: float64(30), int64(2), object(2)\nmemory usage: 6.2+ MB\n",
     "output_type": "stream"
    }
   ],
   "execution_count": null
  },
  {
   "cell_type": "code",
   "metadata": {
    "tags": [],
    "deepnote_to_be_reexecuted": false,
    "source_hash": "4633ff2e",
    "execution_start": 1637349955240,
    "execution_millis": 8,
    "deepnote_output_heights": [
     21
    ],
    "cell_id": "00012-7b58f1b7-2f9f-494b-bd2a-68f67a0c9f38",
    "deepnote_cell_type": "code"
   },
   "source": "df['street'].isnull().sum()",
   "outputs": [
    {
     "output_type": "execute_result",
     "execution_count": 15,
     "data": {
      "text/plain": "0"
     },
     "metadata": {}
    }
   ],
   "execution_count": null
  },
  {
   "cell_type": "code",
   "metadata": {
    "tags": [],
    "deepnote_to_be_reexecuted": false,
    "source_hash": "a16d1239",
    "execution_start": 1637349959536,
    "execution_millis": 10,
    "deepnote_output_heights": [
     154
    ],
    "cell_id": "00013-8cddb702-6a75-49d6-959e-e9c0ac0a9e04",
    "deepnote_cell_type": "code"
   },
   "source": "df0 = df.drop(['street', 'address'], axis=1)\ndf0_test = df_test.drop(['street', 'address'], axis=1)\n\ndf0.columns",
   "outputs": [
    {
     "output_type": "execute_result",
     "execution_count": 16,
     "data": {
      "text/plain": "Index(['id', 'seller', 'price', 'area_total', 'area_kitchen', 'area_living',\n       'floor', 'rooms', 'layout', 'ceiling', 'bathrooms_shared',\n       'bathrooms_private', 'windows_court', 'windows_street', 'balconies',\n       'loggias', 'condition', 'phones', 'building_id', 'new', 'district',\n       'constructed', 'material', 'stories', 'elevator_without',\n       'elevator_passenger', 'elevator_service', 'parking', 'garbage_chute',\n       'heating', 'price/area', 'distance'],\n      dtype='object')"
     },
     "metadata": {}
    }
   ],
   "execution_count": null
  },
  {
   "cell_type": "code",
   "metadata": {
    "tags": [],
    "deepnote_to_be_reexecuted": false,
    "source_hash": "25f3507d",
    "execution_start": 1637349964183,
    "execution_millis": 107299,
    "deepnote_output_heights": [
     606.625
    ],
    "cell_id": "00014-da68a6f0-4500-4001-9729-b7dd3d083e22",
    "deepnote_cell_type": "code"
   },
   "source": "import sys\n# 'seller', 'layout', 'ceiling', 'balconies', 'loggias', 'condition', 'garbage_chute', 'heating'\n\n#sys.setrecursionlimit(100000) #Increase the recursion limit of the OS\n\n# start the KNN training\nimputer = KNNImputer()\nimputer.fit(df0)\ndftrans = imputer.transform(df0)\n\nimputer.fit(df0_test)\ndftrans_test = imputer.transform(df0_test)\n",
   "outputs": [],
   "execution_count": null
  },
  {
   "cell_type": "code",
   "metadata": {
    "tags": [],
    "deepnote_to_be_reexecuted": false,
    "source_hash": "d9069334",
    "execution_start": 1637350123899,
    "execution_millis": 10,
    "deepnote_output_heights": [
     21
    ],
    "cell_id": "00015-e44f38b6-9200-4a4e-bc89-f8e7710c0967",
    "deepnote_cell_type": "code"
   },
   "source": "\"\"\"\ndf = df.drop(['seller', 'layout', 'ceiling', 'balconies', 'loggias', 'condition', 'garbage_chute', 'heating'], axis=1)\n\ndf.area_kitchen.fillna(df.area_total *0.20382557322076747, inplace=True)\ndf.area_living.fillna(df.area_total *0.5489437954371277, inplace=True)\ndf.bathrooms_shared.fillna(df.bathrooms_shared.mode()[0], inplace = True)\ndf.bathrooms_private.fillna(df.bathrooms_private.mode()[0], inplace = True)\ndf.windows_court.fillna(df.windows_court.mode()[0], inplace = True)\ndf.windows_street.fillna(df.windows_street.mode()[0], inplace = True)\ndf.phones.fillna(df.phones.mode()[0], inplace=True)\ndf.new.fillna(df.new.mode()[0], inplace = True)\ndf.latitude.fillna(df.latitude.mean(), inplace = True)\ndf.longitude.fillna(df.longitude.mean(), inplace = True)\ndf.district.fillna(df.district.mode()[0], inplace = True)\ndf.constructed.fillna(df.constructed.mode()[0], inplace = True)\ndf.material.fillna(df.material.mode()[0], inplace = True)\ndf.elevator_without.fillna(df.elevator_without.mode()[0], inplace = True)\ndf.elevator_passenger.fillna(df.elevator_passenger.mode()[0], inplace = True)\ndf.elevator_service.fillna(df.elevator_service.mode()[0], inplace = True)\ndf.parking.fillna(df.parking.mode()[0], inplace = True)\ndf.shape\ndf.isnull().sum()\n\"\"\"",
   "outputs": [
    {
     "output_type": "execute_result",
     "execution_count": 18,
     "data": {
      "text/plain": "\"\\ndf = df.drop(['seller', 'layout', 'ceiling', 'balconies', 'loggias', 'condition', 'garbage_chute', 'heating'], axis=1)\\n\\ndf.area_kitchen.fillna(df.area_total *0.20382557322076747, inplace=True)\\ndf.area_living.fillna(df.area_total *0.5489437954371277, inplace=True)\\ndf.bathrooms_shared.fillna(df.bathrooms_shared.mode()[0], inplace = True)\\ndf.bathrooms_private.fillna(df.bathrooms_private.mode()[0], inplace = True)\\ndf.windows_court.fillna(df.windows_court.mode()[0], inplace = True)\\ndf.windows_street.fillna(df.windows_street.mode()[0], inplace = True)\\ndf.phones.fillna(df.phones.mode()[0], inplace=True)\\ndf.new.fillna(df.new.mode()[0], inplace = True)\\ndf.latitude.fillna(df.latitude.mean(), inplace = True)\\ndf.longitude.fillna(df.longitude.mean(), inplace = True)\\ndf.district.fillna(df.district.mode()[0], inplace = True)\\ndf.constructed.fillna(df.constructed.mode()[0], inplace = True)\\ndf.material.fillna(df.material.mode()[0], inplace = True)\\ndf.elevator_without.fillna(df.elevator_without.mode()[0], inplace = True)\\ndf.elevator_passenger.fillna(df.elevator_passenger.mode()[0], inplace = True)\\ndf.elevator_service.fillna(df.elevator_service.mode()[0], inplace = True)\\ndf.parking.fillna(df.parking.mode()[0], inplace = True)\\ndf.shape\\ndf.isnull().sum()\\n\""
     },
     "metadata": {}
    }
   ],
   "execution_count": null
  },
  {
   "cell_type": "code",
   "metadata": {
    "tags": [],
    "deepnote_to_be_reexecuted": false,
    "source_hash": "71f4c532",
    "execution_start": 1637350126626,
    "execution_millis": 3,
    "deepnote_output_heights": [
     21
    ],
    "cell_id": "00016-03f0c5c9-99fc-462d-9ed6-619d4448ba09",
    "deepnote_cell_type": "code"
   },
   "source": "\"\"\"df.elevator_without = df.elevator_without.astype(int)\ndf.floor = df.floor.astype(int)\ndf.rooms = df.rooms.astype(int)\ndf.bathrooms_shared = df.bathrooms_shared.astype(int)\ndf.bathrooms_private = df.bathrooms_private.astype(int)\ndf.windows_court = df.windows_court.astype(int)\ndf.windows_street = df.windows_street.astype(int)\ndf.phones = df.phones.astype(int)\ndf.new = df.new.astype(int)\ndf.district = df.district.astype(int)\ndf.constructed = df.constructed.astype(int)\ndf.material = df.material.astype(int)\ndf.stories = df.stories.astype(int)\ndf.elevator_without = df.elevator_without.astype(int)\ndf.elevator_passenger = df.elevator_passenger.astype(int)\ndf.elevator_service = df.elevator_service.astype(int)\ndf.parking = df.parking.astype(int)\n\"\"\"",
   "outputs": [
    {
     "output_type": "execute_result",
     "execution_count": 19,
     "data": {
      "text/plain": "'df.elevator_without = df.elevator_without.astype(int)\\ndf.floor = df.floor.astype(int)\\ndf.rooms = df.rooms.astype(int)\\ndf.bathrooms_shared = df.bathrooms_shared.astype(int)\\ndf.bathrooms_private = df.bathrooms_private.astype(int)\\ndf.windows_court = df.windows_court.astype(int)\\ndf.windows_street = df.windows_street.astype(int)\\ndf.phones = df.phones.astype(int)\\ndf.new = df.new.astype(int)\\ndf.district = df.district.astype(int)\\ndf.constructed = df.constructed.astype(int)\\ndf.material = df.material.astype(int)\\ndf.stories = df.stories.astype(int)\\ndf.elevator_without = df.elevator_without.astype(int)\\ndf.elevator_passenger = df.elevator_passenger.astype(int)\\ndf.elevator_service = df.elevator_service.astype(int)\\ndf.parking = df.parking.astype(int)\\n'"
     },
     "metadata": {}
    }
   ],
   "execution_count": null
  },
  {
   "cell_type": "code",
   "metadata": {
    "tags": [],
    "deepnote_to_be_reexecuted": false,
    "source_hash": "17bd1d69",
    "execution_start": 1637350132066,
    "execution_millis": 11,
    "deepnote_output_heights": [
     21
    ],
    "cell_id": "00017-bcd6d264-093d-4e4a-9b03-33c7bda1827b",
    "deepnote_cell_type": "code"
   },
   "source": "df1 = pd.DataFrame(dftrans, columns=list(df0.columns.values))\ndf1_test = pd.DataFrame(dftrans_test, columns=list(df0_test.columns.values))\ndf1.isnull().sum()\ndf1.shape\nlen(df.street)",
   "outputs": [
    {
     "output_type": "execute_result",
     "execution_count": 20,
     "data": {
      "text/plain": "23237"
     },
     "metadata": {}
    }
   ],
   "execution_count": null
  },
  {
   "cell_type": "code",
   "metadata": {
    "tags": [],
    "deepnote_to_be_reexecuted": false,
    "source_hash": "fde72d5b",
    "execution_start": 1637350134807,
    "execution_millis": 157,
    "deepnote_output_heights": [
     21
    ],
    "cell_id": "00018-d1f68b50-43c4-456d-ae4b-19acd4670aae",
    "deepnote_cell_type": "code"
   },
   "source": "\"\"\"df1.elevator_without = df1.elevator_without.astype(int)\ndf1.floor = df1.floor.astype(int)\ndf1.rooms = df1.rooms.astype(int)\ndf1.bathrooms_shared = df1.bathrooms_shared.astype(int)\ndf1.bathrooms_private = df1.bathrooms_private.astype(int)\ndf1.windows_court = df1.windows_court.astype(int)\ndf1.windows_street = df1.windows_street.astype(int)\ndf1.phones = df1.phones.astype(int)\ndf1.new = df1.new.astype(int)\ndf1.district = df1.district.astype(int)\ndf1.constructed = df1.constructed.astype(int)\ndf1.material = df1.material.astype(int)\ndf1.stories = df1.stories.astype(int)\ndf1.elevator_without = df1.elevator_without.astype(int)\ndf1.elevator_passenger = df1.elevator_passenger.astype(int)\ndf1.elevator_service = df1.elevator_service.astype(int)\ndf1.parking = df1.parking.astype(int)\ndf1.garbage_chute = df1.garbage_chute.astype(int)\ndf1.heating = df1.heating.astype(int)\ndf1.building_id = df1.building_id.astype(int)\ndf1.condition = df1.condition.astype(int)\ndf1.loggias = df1.loggias.astype(int)\ndf1.balconies = df1.balconies.astype(int)\n#df1.ceiling = df1.ceiling.round(0)\n#df1.ceiling = df1.ceiling.astype(int)\"\"\"\n\n\n",
   "outputs": [
    {
     "output_type": "execute_result",
     "execution_count": 21,
     "data": {
      "text/plain": "'df1.elevator_without = df1.elevator_without.astype(int)\\ndf1.floor = df1.floor.astype(int)\\ndf1.rooms = df1.rooms.astype(int)\\ndf1.bathrooms_shared = df1.bathrooms_shared.astype(int)\\ndf1.bathrooms_private = df1.bathrooms_private.astype(int)\\ndf1.windows_court = df1.windows_court.astype(int)\\ndf1.windows_street = df1.windows_street.astype(int)\\ndf1.phones = df1.phones.astype(int)\\ndf1.new = df1.new.astype(int)\\ndf1.district = df1.district.astype(int)\\ndf1.constructed = df1.constructed.astype(int)\\ndf1.material = df1.material.astype(int)\\ndf1.stories = df1.stories.astype(int)\\ndf1.elevator_without = df1.elevator_without.astype(int)\\ndf1.elevator_passenger = df1.elevator_passenger.astype(int)\\ndf1.elevator_service = df1.elevator_service.astype(int)\\ndf1.parking = df1.parking.astype(int)\\ndf1.garbage_chute = df1.garbage_chute.astype(int)\\ndf1.heating = df1.heating.astype(int)\\ndf1.building_id = df1.building_id.astype(int)\\ndf1.condition = df1.condition.astype(int)\\ndf1.loggias = df1.loggias.astype(int)\\ndf1.balconies = df1.balconies.astype(int)\\n#df1.ceiling = df1.ceiling.round(0)\\n#df1.ceiling = df1.ceiling.astype(int)'"
     },
     "metadata": {}
    }
   ],
   "execution_count": null
  },
  {
   "cell_type": "code",
   "metadata": {
    "tags": [],
    "deepnote_to_be_reexecuted": false,
    "source_hash": "ea6c9ba",
    "execution_start": 1637350141625,
    "execution_millis": 111,
    "cell_id": "00019-1e81ee5a-b965-4eab-a75a-1e049d276329",
    "deepnote_cell_type": "code"
   },
   "source": "df1.head()",
   "outputs": [
    {
     "output_type": "execute_result",
     "execution_count": 22,
     "data": {
      "application/vnd.deepnote.dataframe.v2+json": {
       "row_count": 5,
       "column_count": 32,
       "columns": [
        {
         "name": "id",
         "dtype": "float64",
         "stats": {
          "unique_count": 5,
          "nan_count": 0,
          "min": "0.0",
          "max": "4.0",
          "histogram": [
           {
            "bin_start": 0,
            "bin_end": 0.4,
            "count": 1
           },
           {
            "bin_start": 0.4,
            "bin_end": 0.8,
            "count": 0
           },
           {
            "bin_start": 0.8,
            "bin_end": 1.2000000000000002,
            "count": 1
           },
           {
            "bin_start": 1.2000000000000002,
            "bin_end": 1.6,
            "count": 0
           },
           {
            "bin_start": 1.6,
            "bin_end": 2,
            "count": 0
           },
           {
            "bin_start": 2,
            "bin_end": 2.4000000000000004,
            "count": 1
           },
           {
            "bin_start": 2.4000000000000004,
            "bin_end": 2.8000000000000003,
            "count": 0
           },
           {
            "bin_start": 2.8000000000000003,
            "bin_end": 3.2,
            "count": 1
           },
           {
            "bin_start": 3.2,
            "bin_end": 3.6,
            "count": 0
           },
           {
            "bin_start": 3.6,
            "bin_end": 4,
            "count": 1
           }
          ]
         }
        },
        {
         "name": "seller",
         "dtype": "float64",
         "stats": {
          "unique_count": 3,
          "nan_count": 0,
          "min": "1.2",
          "max": "3.0",
          "histogram": [
           {
            "bin_start": 1.2,
            "bin_end": 1.38,
            "count": 2
           },
           {
            "bin_start": 1.38,
            "bin_end": 1.56,
            "count": 0
           },
           {
            "bin_start": 1.56,
            "bin_end": 1.74,
            "count": 0
           },
           {
            "bin_start": 1.74,
            "bin_end": 1.92,
            "count": 1
           },
           {
            "bin_start": 1.92,
            "bin_end": 2.0999999999999996,
            "count": 0
           },
           {
            "bin_start": 2.0999999999999996,
            "bin_end": 2.2800000000000002,
            "count": 0
           },
           {
            "bin_start": 2.2800000000000002,
            "bin_end": 2.46,
            "count": 0
           },
           {
            "bin_start": 2.46,
            "bin_end": 2.6399999999999997,
            "count": 0
           },
           {
            "bin_start": 2.6399999999999997,
            "bin_end": 2.82,
            "count": 0
           },
           {
            "bin_start": 2.82,
            "bin_end": 3,
            "count": 2
           }
          ]
         }
        },
        {
         "name": "price",
         "dtype": "float64",
         "stats": {
          "unique_count": 4,
          "nan_count": 0,
          "min": "7139520.0",
          "max": "13900000.0",
          "histogram": [
           {
            "bin_start": 7139520,
            "bin_end": 7815568,
            "count": 1
           },
           {
            "bin_start": 7815568,
            "bin_end": 8491616,
            "count": 0
           },
           {
            "bin_start": 8491616,
            "bin_end": 9167664,
            "count": 1
           },
           {
            "bin_start": 9167664,
            "bin_end": 9843712,
            "count": 0
           },
           {
            "bin_start": 9843712,
            "bin_end": 10519760,
            "count": 2
           },
           {
            "bin_start": 10519760,
            "bin_end": 11195808,
            "count": 0
           },
           {
            "bin_start": 11195808,
            "bin_end": 11871856,
            "count": 0
           },
           {
            "bin_start": 11871856,
            "bin_end": 12547904,
            "count": 0
           },
           {
            "bin_start": 12547904,
            "bin_end": 13223952,
            "count": 0
           },
           {
            "bin_start": 13223952,
            "bin_end": 13900000,
            "count": 1
           }
          ]
         }
        },
        {
         "name": "area_total",
         "dtype": "float64",
         "stats": {
          "unique_count": 4,
          "nan_count": 0,
          "min": "59.2",
          "max": "88.0",
          "histogram": [
           {
            "bin_start": 59.2,
            "bin_end": 62.080000000000005,
            "count": 1
           },
           {
            "bin_start": 62.080000000000005,
            "bin_end": 64.96000000000001,
            "count": 0
           },
           {
            "bin_start": 64.96000000000001,
            "bin_end": 67.84,
            "count": 0
           },
           {
            "bin_start": 67.84,
            "bin_end": 70.72,
            "count": 0
           },
           {
            "bin_start": 70.72,
            "bin_end": 73.6,
            "count": 0
           },
           {
            "bin_start": 73.6,
            "bin_end": 76.48,
            "count": 0
           },
           {
            "bin_start": 76.48,
            "bin_end": 79.36,
            "count": 2
           },
           {
            "bin_start": 79.36,
            "bin_end": 82.24000000000001,
            "count": 0
           },
           {
            "bin_start": 82.24000000000001,
            "bin_end": 85.12,
            "count": 0
           },
           {
            "bin_start": 85.12,
            "bin_end": 88,
            "count": 2
           }
          ]
         }
        },
        {
         "name": "area_kitchen",
         "dtype": "float64",
         "stats": {
          "unique_count": 5,
          "nan_count": 0,
          "min": "12.5",
          "max": "22.5",
          "histogram": [
           {
            "bin_start": 12.5,
            "bin_end": 13.5,
            "count": 1
           },
           {
            "bin_start": 13.5,
            "bin_end": 14.5,
            "count": 2
           },
           {
            "bin_start": 14.5,
            "bin_end": 15.5,
            "count": 0
           },
           {
            "bin_start": 15.5,
            "bin_end": 16.5,
            "count": 0
           },
           {
            "bin_start": 16.5,
            "bin_end": 17.5,
            "count": 1
           },
           {
            "bin_start": 17.5,
            "bin_end": 18.5,
            "count": 0
           },
           {
            "bin_start": 18.5,
            "bin_end": 19.5,
            "count": 0
           },
           {
            "bin_start": 19.5,
            "bin_end": 20.5,
            "count": 0
           },
           {
            "bin_start": 20.5,
            "bin_end": 21.5,
            "count": 0
           },
           {
            "bin_start": 21.5,
            "bin_end": 22.5,
            "count": 1
           }
          ]
         }
        },
        {
         "name": "area_living",
         "dtype": "float64",
         "stats": {
          "unique_count": 4,
          "nan_count": 0,
          "min": "31.0",
          "max": "48.0",
          "histogram": [
           {
            "bin_start": 31,
            "bin_end": 32.7,
            "count": 1
           },
           {
            "bin_start": 32.7,
            "bin_end": 34.4,
            "count": 0
           },
           {
            "bin_start": 34.4,
            "bin_end": 36.1,
            "count": 1
           },
           {
            "bin_start": 36.1,
            "bin_end": 37.8,
            "count": 0
           },
           {
            "bin_start": 37.8,
            "bin_end": 39.5,
            "count": 0
           },
           {
            "bin_start": 39.5,
            "bin_end": 41.2,
            "count": 1
           },
           {
            "bin_start": 41.2,
            "bin_end": 42.9,
            "count": 0
           },
           {
            "bin_start": 42.9,
            "bin_end": 44.6,
            "count": 0
           },
           {
            "bin_start": 44.6,
            "bin_end": 46.3,
            "count": 0
           },
           {
            "bin_start": 46.3,
            "bin_end": 48,
            "count": 2
           }
          ]
         }
        },
        {
         "name": "floor",
         "dtype": "float64",
         "stats": {
          "unique_count": 4,
          "nan_count": 0,
          "min": "2.0",
          "max": "18.0",
          "histogram": [
           {
            "bin_start": 2,
            "bin_end": 3.6,
            "count": 1
           },
           {
            "bin_start": 3.6,
            "bin_end": 5.2,
            "count": 0
           },
           {
            "bin_start": 5.2,
            "bin_end": 6.800000000000001,
            "count": 0
           },
           {
            "bin_start": 6.800000000000001,
            "bin_end": 8.4,
            "count": 1
           },
           {
            "bin_start": 8.4,
            "bin_end": 10,
            "count": 0
           },
           {
            "bin_start": 10,
            "bin_end": 11.600000000000001,
            "count": 0
           },
           {
            "bin_start": 11.600000000000001,
            "bin_end": 13.200000000000001,
            "count": 1
           },
           {
            "bin_start": 13.200000000000001,
            "bin_end": 14.8,
            "count": 0
           },
           {
            "bin_start": 14.8,
            "bin_end": 16.4,
            "count": 0
           },
           {
            "bin_start": 16.4,
            "bin_end": 18,
            "count": 2
           }
          ]
         }
        },
        {
         "name": "rooms",
         "dtype": "float64",
         "stats": {
          "unique_count": 2,
          "nan_count": 0,
          "min": "2.0",
          "max": "3.0",
          "histogram": [
           {
            "bin_start": 2,
            "bin_end": 2.1,
            "count": 2
           },
           {
            "bin_start": 2.1,
            "bin_end": 2.2,
            "count": 0
           },
           {
            "bin_start": 2.2,
            "bin_end": 2.3,
            "count": 0
           },
           {
            "bin_start": 2.3,
            "bin_end": 2.4,
            "count": 0
           },
           {
            "bin_start": 2.4,
            "bin_end": 2.5,
            "count": 0
           },
           {
            "bin_start": 2.5,
            "bin_end": 2.6,
            "count": 0
           },
           {
            "bin_start": 2.6,
            "bin_end": 2.7,
            "count": 0
           },
           {
            "bin_start": 2.7,
            "bin_end": 2.8,
            "count": 0
           },
           {
            "bin_start": 2.8,
            "bin_end": 2.9,
            "count": 0
           },
           {
            "bin_start": 2.9,
            "bin_end": 3,
            "count": 3
           }
          ]
         }
        },
        {
         "name": "layout",
         "dtype": "float64",
         "stats": {
          "unique_count": 2,
          "nan_count": 0,
          "min": "0.8",
          "max": "1.0",
          "histogram": [
           {
            "bin_start": 0.8,
            "bin_end": 0.8200000000000001,
            "count": 1
           },
           {
            "bin_start": 0.8200000000000001,
            "bin_end": 0.8400000000000001,
            "count": 0
           },
           {
            "bin_start": 0.8400000000000001,
            "bin_end": 0.86,
            "count": 0
           },
           {
            "bin_start": 0.86,
            "bin_end": 0.88,
            "count": 0
           },
           {
            "bin_start": 0.88,
            "bin_end": 0.9,
            "count": 0
           },
           {
            "bin_start": 0.9,
            "bin_end": 0.92,
            "count": 0
           },
           {
            "bin_start": 0.92,
            "bin_end": 0.9400000000000001,
            "count": 0
           },
           {
            "bin_start": 0.9400000000000001,
            "bin_end": 0.96,
            "count": 0
           },
           {
            "bin_start": 0.96,
            "bin_end": 0.98,
            "count": 0
           },
           {
            "bin_start": 0.98,
            "bin_end": 1,
            "count": 4
           }
          ]
         }
        },
        {
         "name": "ceiling",
         "dtype": "float64",
         "stats": {
          "unique_count": 3,
          "nan_count": 0,
          "min": "2.65",
          "max": "2.9",
          "histogram": [
           {
            "bin_start": 2.65,
            "bin_end": 2.675,
            "count": 4
           },
           {
            "bin_start": 2.675,
            "bin_end": 2.6999999999999997,
            "count": 0
           },
           {
            "bin_start": 2.6999999999999997,
            "bin_end": 2.725,
            "count": 0
           },
           {
            "bin_start": 2.725,
            "bin_end": 2.75,
            "count": 0
           },
           {
            "bin_start": 2.75,
            "bin_end": 2.775,
            "count": 0
           },
           {
            "bin_start": 2.775,
            "bin_end": 2.8,
            "count": 0
           },
           {
            "bin_start": 2.8,
            "bin_end": 2.8249999999999997,
            "count": 0
           },
           {
            "bin_start": 2.8249999999999997,
            "bin_end": 2.85,
            "count": 0
           },
           {
            "bin_start": 2.85,
            "bin_end": 2.875,
            "count": 0
           },
           {
            "bin_start": 2.875,
            "bin_end": 2.9,
            "count": 1
           }
          ]
         }
        },
        {
         "name": "bathrooms_shared",
         "dtype": "float64",
         "stats": {
          "unique_count": 3,
          "nan_count": 0,
          "min": "0.0",
          "max": "2.0",
          "histogram": [
           {
            "bin_start": 0,
            "bin_end": 0.2,
            "count": 3
           },
           {
            "bin_start": 0.2,
            "bin_end": 0.4,
            "count": 0
           },
           {
            "bin_start": 0.4,
            "bin_end": 0.6000000000000001,
            "count": 0
           },
           {
            "bin_start": 0.6000000000000001,
            "bin_end": 0.8,
            "count": 0
           },
           {
            "bin_start": 0.8,
            "bin_end": 1,
            "count": 0
           },
           {
            "bin_start": 1,
            "bin_end": 1.2000000000000002,
            "count": 1
           },
           {
            "bin_start": 1.2000000000000002,
            "bin_end": 1.4000000000000001,
            "count": 0
           },
           {
            "bin_start": 1.4000000000000001,
            "bin_end": 1.6,
            "count": 0
           },
           {
            "bin_start": 1.6,
            "bin_end": 1.8,
            "count": 0
           },
           {
            "bin_start": 1.8,
            "bin_end": 2,
            "count": 1
           }
          ]
         }
        },
        {
         "name": "bathrooms_private",
         "dtype": "float64",
         "stats": {
          "unique_count": 2,
          "nan_count": 0,
          "min": "0.0",
          "max": "2.0",
          "histogram": [
           {
            "bin_start": 0,
            "bin_end": 0.2,
            "count": 2
           },
           {
            "bin_start": 0.2,
            "bin_end": 0.4,
            "count": 0
           },
           {
            "bin_start": 0.4,
            "bin_end": 0.6000000000000001,
            "count": 0
           },
           {
            "bin_start": 0.6000000000000001,
            "bin_end": 0.8,
            "count": 0
           },
           {
            "bin_start": 0.8,
            "bin_end": 1,
            "count": 0
           },
           {
            "bin_start": 1,
            "bin_end": 1.2000000000000002,
            "count": 0
           },
           {
            "bin_start": 1.2000000000000002,
            "bin_end": 1.4000000000000001,
            "count": 0
           },
           {
            "bin_start": 1.4000000000000001,
            "bin_end": 1.6,
            "count": 0
           },
           {
            "bin_start": 1.6,
            "bin_end": 1.8,
            "count": 0
           },
           {
            "bin_start": 1.8,
            "bin_end": 2,
            "count": 3
           }
          ]
         }
        },
        {
         "name": "windows_court",
         "dtype": "float64",
         "stats": {
          "unique_count": 2,
          "nan_count": 0,
          "min": "0.0",
          "max": "1.0",
          "histogram": [
           {
            "bin_start": 0,
            "bin_end": 0.1,
            "count": 1
           },
           {
            "bin_start": 0.1,
            "bin_end": 0.2,
            "count": 0
           },
           {
            "bin_start": 0.2,
            "bin_end": 0.30000000000000004,
            "count": 0
           },
           {
            "bin_start": 0.30000000000000004,
            "bin_end": 0.4,
            "count": 0
           },
           {
            "bin_start": 0.4,
            "bin_end": 0.5,
            "count": 0
           },
           {
            "bin_start": 0.5,
            "bin_end": 0.6000000000000001,
            "count": 0
           },
           {
            "bin_start": 0.6000000000000001,
            "bin_end": 0.7000000000000001,
            "count": 0
           },
           {
            "bin_start": 0.7000000000000001,
            "bin_end": 0.8,
            "count": 0
           },
           {
            "bin_start": 0.8,
            "bin_end": 0.9,
            "count": 0
           },
           {
            "bin_start": 0.9,
            "bin_end": 1,
            "count": 4
           }
          ]
         }
        },
        {
         "name": "windows_street",
         "dtype": "float64",
         "stats": {
          "unique_count": 1,
          "nan_count": 0,
          "min": "1.0",
          "max": "1.0",
          "histogram": [
           {
            "bin_start": 0.5,
            "bin_end": 0.6,
            "count": 0
           },
           {
            "bin_start": 0.6,
            "bin_end": 0.7,
            "count": 0
           },
           {
            "bin_start": 0.7,
            "bin_end": 0.8,
            "count": 0
           },
           {
            "bin_start": 0.8,
            "bin_end": 0.9,
            "count": 0
           },
           {
            "bin_start": 0.9,
            "bin_end": 1,
            "count": 0
           },
           {
            "bin_start": 1,
            "bin_end": 1.1,
            "count": 5
           },
           {
            "bin_start": 1.1,
            "bin_end": 1.2000000000000002,
            "count": 0
           },
           {
            "bin_start": 1.2000000000000002,
            "bin_end": 1.3,
            "count": 0
           },
           {
            "bin_start": 1.3,
            "bin_end": 1.4,
            "count": 0
           },
           {
            "bin_start": 1.4,
            "bin_end": 1.5,
            "count": 0
           }
          ]
         }
        },
        {
         "name": "balconies",
         "dtype": "float64",
         "stats": {
          "unique_count": 3,
          "nan_count": 0,
          "min": "0.0",
          "max": "1.0",
          "histogram": [
           {
            "bin_start": 0,
            "bin_end": 0.1,
            "count": 2
           },
           {
            "bin_start": 0.1,
            "bin_end": 0.2,
            "count": 0
           },
           {
            "bin_start": 0.2,
            "bin_end": 0.30000000000000004,
            "count": 0
           },
           {
            "bin_start": 0.30000000000000004,
            "bin_end": 0.4,
            "count": 0
           },
           {
            "bin_start": 0.4,
            "bin_end": 0.5,
            "count": 0
           },
           {
            "bin_start": 0.5,
            "bin_end": 0.6000000000000001,
            "count": 2
           },
           {
            "bin_start": 0.6000000000000001,
            "bin_end": 0.7000000000000001,
            "count": 0
           },
           {
            "bin_start": 0.7000000000000001,
            "bin_end": 0.8,
            "count": 0
           },
           {
            "bin_start": 0.8,
            "bin_end": 0.9,
            "count": 0
           },
           {
            "bin_start": 0.9,
            "bin_end": 1,
            "count": 1
           }
          ]
         }
        },
        {
         "name": "loggias",
         "dtype": "float64",
         "stats": {
          "unique_count": 4,
          "nan_count": 0,
          "min": "0.0",
          "max": "1.0",
          "histogram": [
           {
            "bin_start": 0,
            "bin_end": 0.1,
            "count": 1
           },
           {
            "bin_start": 0.1,
            "bin_end": 0.2,
            "count": 0
           },
           {
            "bin_start": 0.2,
            "bin_end": 0.30000000000000004,
            "count": 0
           },
           {
            "bin_start": 0.30000000000000004,
            "bin_end": 0.4,
            "count": 0
           },
           {
            "bin_start": 0.4,
            "bin_end": 0.5,
            "count": 1
           },
           {
            "bin_start": 0.5,
            "bin_end": 0.6000000000000001,
            "count": 0
           },
           {
            "bin_start": 0.6000000000000001,
            "bin_end": 0.7000000000000001,
            "count": 0
           },
           {
            "bin_start": 0.7000000000000001,
            "bin_end": 0.8,
            "count": 0
           },
           {
            "bin_start": 0.8,
            "bin_end": 0.9,
            "count": 1
           },
           {
            "bin_start": 0.9,
            "bin_end": 1,
            "count": 2
           }
          ]
         }
        },
        {
         "name": "condition",
         "dtype": "float64",
         "stats": {
          "unique_count": 3,
          "nan_count": 0,
          "min": "0.8",
          "max": "3.0",
          "histogram": [
           {
            "bin_start": 0.8,
            "bin_end": 1.02,
            "count": 2
           },
           {
            "bin_start": 1.02,
            "bin_end": 1.2400000000000002,
            "count": 0
           },
           {
            "bin_start": 1.2400000000000002,
            "bin_end": 1.4600000000000002,
            "count": 0
           },
           {
            "bin_start": 1.4600000000000002,
            "bin_end": 1.6800000000000002,
            "count": 0
           },
           {
            "bin_start": 1.6800000000000002,
            "bin_end": 1.9000000000000001,
            "count": 0
           },
           {
            "bin_start": 1.9000000000000001,
            "bin_end": 2.12,
            "count": 1
           },
           {
            "bin_start": 2.12,
            "bin_end": 2.3400000000000003,
            "count": 0
           },
           {
            "bin_start": 2.3400000000000003,
            "bin_end": 2.5600000000000005,
            "count": 0
           },
           {
            "bin_start": 2.5600000000000005,
            "bin_end": 2.7800000000000002,
            "count": 0
           },
           {
            "bin_start": 2.7800000000000002,
            "bin_end": 3,
            "count": 2
           }
          ]
         }
        },
        {
         "name": "phones",
         "dtype": "float64",
         "stats": {
          "unique_count": 1,
          "nan_count": 0,
          "min": "1.0",
          "max": "1.0",
          "histogram": [
           {
            "bin_start": 0.5,
            "bin_end": 0.6,
            "count": 0
           },
           {
            "bin_start": 0.6,
            "bin_end": 0.7,
            "count": 0
           },
           {
            "bin_start": 0.7,
            "bin_end": 0.8,
            "count": 0
           },
           {
            "bin_start": 0.8,
            "bin_end": 0.9,
            "count": 0
           },
           {
            "bin_start": 0.9,
            "bin_end": 1,
            "count": 0
           },
           {
            "bin_start": 1,
            "bin_end": 1.1,
            "count": 5
           },
           {
            "bin_start": 1.1,
            "bin_end": 1.2000000000000002,
            "count": 0
           },
           {
            "bin_start": 1.2000000000000002,
            "bin_end": 1.3,
            "count": 0
           },
           {
            "bin_start": 1.3,
            "bin_end": 1.4,
            "count": 0
           },
           {
            "bin_start": 1.4,
            "bin_end": 1.5,
            "count": 0
           }
          ]
         }
        },
        {
         "name": "building_id",
         "dtype": "float64",
         "stats": {
          "unique_count": 4,
          "nan_count": 0,
          "min": "1893.0",
          "max": "6604.0",
          "histogram": [
           {
            "bin_start": 1893,
            "bin_end": 2364.1,
            "count": 2
           },
           {
            "bin_start": 2364.1,
            "bin_end": 2835.2,
            "count": 0
           },
           {
            "bin_start": 2835.2,
            "bin_end": 3306.3,
            "count": 0
           },
           {
            "bin_start": 3306.3,
            "bin_end": 3777.4,
            "count": 0
           },
           {
            "bin_start": 3777.4,
            "bin_end": 4248.5,
            "count": 1
           },
           {
            "bin_start": 4248.5,
            "bin_end": 4719.6,
            "count": 0
           },
           {
            "bin_start": 4719.6,
            "bin_end": 5190.700000000001,
            "count": 1
           },
           {
            "bin_start": 5190.700000000001,
            "bin_end": 5661.8,
            "count": 0
           },
           {
            "bin_start": 5661.8,
            "bin_end": 6132.900000000001,
            "count": 0
           },
           {
            "bin_start": 6132.900000000001,
            "bin_end": 6604,
            "count": 1
           }
          ]
         }
        },
        {
         "name": "new",
         "dtype": "float64",
         "stats": {
          "unique_count": 2,
          "nan_count": 0,
          "min": "0.0",
          "max": "1.0",
          "histogram": [
           {
            "bin_start": 0,
            "bin_end": 0.1,
            "count": 3
           },
           {
            "bin_start": 0.1,
            "bin_end": 0.2,
            "count": 0
           },
           {
            "bin_start": 0.2,
            "bin_end": 0.30000000000000004,
            "count": 0
           },
           {
            "bin_start": 0.30000000000000004,
            "bin_end": 0.4,
            "count": 0
           },
           {
            "bin_start": 0.4,
            "bin_end": 0.5,
            "count": 0
           },
           {
            "bin_start": 0.5,
            "bin_end": 0.6000000000000001,
            "count": 0
           },
           {
            "bin_start": 0.6000000000000001,
            "bin_end": 0.7000000000000001,
            "count": 0
           },
           {
            "bin_start": 0.7000000000000001,
            "bin_end": 0.8,
            "count": 0
           },
           {
            "bin_start": 0.8,
            "bin_end": 0.9,
            "count": 0
           },
           {
            "bin_start": 0.9,
            "bin_end": 1,
            "count": 2
           }
          ]
         }
        },
        {
         "name": "district",
         "dtype": "float64",
         "stats": {
          "unique_count": 3,
          "nan_count": 0,
          "min": "2.0",
          "max": "11.0",
          "histogram": [
           {
            "bin_start": 2,
            "bin_end": 2.9,
            "count": 2
           },
           {
            "bin_start": 2.9,
            "bin_end": 3.8,
            "count": 0
           },
           {
            "bin_start": 3.8,
            "bin_end": 4.7,
            "count": 0
           },
           {
            "bin_start": 4.7,
            "bin_end": 5.6,
            "count": 0
           },
           {
            "bin_start": 5.6,
            "bin_end": 6.5,
            "count": 1
           },
           {
            "bin_start": 6.5,
            "bin_end": 7.4,
            "count": 0
           },
           {
            "bin_start": 7.4,
            "bin_end": 8.3,
            "count": 0
           },
           {
            "bin_start": 8.3,
            "bin_end": 9.2,
            "count": 0
           },
           {
            "bin_start": 9.2,
            "bin_end": 10.1,
            "count": 0
           },
           {
            "bin_start": 10.1,
            "bin_end": 11,
            "count": 2
           }
          ]
         }
        },
        {
         "name": "constructed",
         "dtype": "float64",
         "stats": {
          "unique_count": 3,
          "nan_count": 0,
          "min": "2010.0",
          "max": "2021.0",
          "histogram": [
           {
            "bin_start": 2010,
            "bin_end": 2011.1,
            "count": 2
           },
           {
            "bin_start": 2011.1,
            "bin_end": 2012.2,
            "count": 0
           },
           {
            "bin_start": 2012.2,
            "bin_end": 2013.3,
            "count": 0
           },
           {
            "bin_start": 2013.3,
            "bin_end": 2014.4,
            "count": 0
           },
           {
            "bin_start": 2014.4,
            "bin_end": 2015.5,
            "count": 0
           },
           {
            "bin_start": 2015.5,
            "bin_end": 2016.6,
            "count": 0
           },
           {
            "bin_start": 2016.6,
            "bin_end": 2017.7,
            "count": 1
           },
           {
            "bin_start": 2017.7,
            "bin_end": 2018.8,
            "count": 0
           },
           {
            "bin_start": 2018.8,
            "bin_end": 2019.9,
            "count": 0
           },
           {
            "bin_start": 2019.9,
            "bin_end": 2021,
            "count": 2
           }
          ]
         }
        },
        {
         "name": "material",
         "dtype": "float64",
         "stats": {
          "unique_count": 2,
          "nan_count": 0,
          "min": "2.0",
          "max": "3.0",
          "histogram": [
           {
            "bin_start": 2,
            "bin_end": 2.1,
            "count": 1
           },
           {
            "bin_start": 2.1,
            "bin_end": 2.2,
            "count": 0
           },
           {
            "bin_start": 2.2,
            "bin_end": 2.3,
            "count": 0
           },
           {
            "bin_start": 2.3,
            "bin_end": 2.4,
            "count": 0
           },
           {
            "bin_start": 2.4,
            "bin_end": 2.5,
            "count": 0
           },
           {
            "bin_start": 2.5,
            "bin_end": 2.6,
            "count": 0
           },
           {
            "bin_start": 2.6,
            "bin_end": 2.7,
            "count": 0
           },
           {
            "bin_start": 2.7,
            "bin_end": 2.8,
            "count": 0
           },
           {
            "bin_start": 2.8,
            "bin_end": 2.9,
            "count": 0
           },
           {
            "bin_start": 2.9,
            "bin_end": 3,
            "count": 4
           }
          ]
         }
        },
        {
         "name": "stories",
         "dtype": "float64",
         "stats": {
          "unique_count": 3,
          "nan_count": 0,
          "min": "9.0",
          "max": "25.0",
          "histogram": [
           {
            "bin_start": 9,
            "bin_end": 10.6,
            "count": 1
           },
           {
            "bin_start": 10.6,
            "bin_end": 12.2,
            "count": 0
           },
           {
            "bin_start": 12.2,
            "bin_end": 13.8,
            "count": 0
           },
           {
            "bin_start": 13.8,
            "bin_end": 15.4,
            "count": 2
           },
           {
            "bin_start": 15.4,
            "bin_end": 17,
            "count": 0
           },
           {
            "bin_start": 17,
            "bin_end": 18.6,
            "count": 0
           },
           {
            "bin_start": 18.6,
            "bin_end": 20.200000000000003,
            "count": 0
           },
           {
            "bin_start": 20.200000000000003,
            "bin_end": 21.8,
            "count": 0
           },
           {
            "bin_start": 21.8,
            "bin_end": 23.4,
            "count": 0
           },
           {
            "bin_start": 23.4,
            "bin_end": 25,
            "count": 2
           }
          ]
         }
        },
        {
         "name": "elevator_without",
         "dtype": "float64",
         "stats": {
          "unique_count": 1,
          "nan_count": 0,
          "min": "0.0",
          "max": "0.0",
          "histogram": [
           {
            "bin_start": -0.5,
            "bin_end": -0.4,
            "count": 0
           },
           {
            "bin_start": -0.4,
            "bin_end": -0.3,
            "count": 0
           },
           {
            "bin_start": -0.3,
            "bin_end": -0.19999999999999996,
            "count": 0
           },
           {
            "bin_start": -0.19999999999999996,
            "bin_end": -0.09999999999999998,
            "count": 0
           },
           {
            "bin_start": -0.09999999999999998,
            "bin_end": 0,
            "count": 0
           },
           {
            "bin_start": 0,
            "bin_end": 0.10000000000000009,
            "count": 5
           },
           {
            "bin_start": 0.10000000000000009,
            "bin_end": 0.20000000000000007,
            "count": 0
           },
           {
            "bin_start": 0.20000000000000007,
            "bin_end": 0.30000000000000004,
            "count": 0
           },
           {
            "bin_start": 0.30000000000000004,
            "bin_end": 0.4,
            "count": 0
           },
           {
            "bin_start": 0.4,
            "bin_end": 0.5,
            "count": 0
           }
          ]
         }
        },
        {
         "name": "elevator_passenger",
         "dtype": "float64",
         "stats": {
          "unique_count": 1,
          "nan_count": 0,
          "min": "1.0",
          "max": "1.0",
          "histogram": [
           {
            "bin_start": 0.5,
            "bin_end": 0.6,
            "count": 0
           },
           {
            "bin_start": 0.6,
            "bin_end": 0.7,
            "count": 0
           },
           {
            "bin_start": 0.7,
            "bin_end": 0.8,
            "count": 0
           },
           {
            "bin_start": 0.8,
            "bin_end": 0.9,
            "count": 0
           },
           {
            "bin_start": 0.9,
            "bin_end": 1,
            "count": 0
           },
           {
            "bin_start": 1,
            "bin_end": 1.1,
            "count": 5
           },
           {
            "bin_start": 1.1,
            "bin_end": 1.2000000000000002,
            "count": 0
           },
           {
            "bin_start": 1.2000000000000002,
            "bin_end": 1.3,
            "count": 0
           },
           {
            "bin_start": 1.3,
            "bin_end": 1.4,
            "count": 0
           },
           {
            "bin_start": 1.4,
            "bin_end": 1.5,
            "count": 0
           }
          ]
         }
        },
        {
         "name": "elevator_service",
         "dtype": "float64",
         "stats": {
          "unique_count": 1,
          "nan_count": 0,
          "min": "1.0",
          "max": "1.0",
          "histogram": [
           {
            "bin_start": 0.5,
            "bin_end": 0.6,
            "count": 0
           },
           {
            "bin_start": 0.6,
            "bin_end": 0.7,
            "count": 0
           },
           {
            "bin_start": 0.7,
            "bin_end": 0.8,
            "count": 0
           },
           {
            "bin_start": 0.8,
            "bin_end": 0.9,
            "count": 0
           },
           {
            "bin_start": 0.9,
            "bin_end": 1,
            "count": 0
           },
           {
            "bin_start": 1,
            "bin_end": 1.1,
            "count": 5
           },
           {
            "bin_start": 1.1,
            "bin_end": 1.2000000000000002,
            "count": 0
           },
           {
            "bin_start": 1.2000000000000002,
            "bin_end": 1.3,
            "count": 0
           },
           {
            "bin_start": 1.3,
            "bin_end": 1.4,
            "count": 0
           },
           {
            "bin_start": 1.4,
            "bin_end": 1.5,
            "count": 0
           }
          ]
         }
        },
        {
         "name": "parking",
         "dtype": "float64",
         "stats": {
          "unique_count": 1,
          "nan_count": 0,
          "min": "1.0",
          "max": "1.0",
          "histogram": [
           {
            "bin_start": 0.5,
            "bin_end": 0.6,
            "count": 0
           },
           {
            "bin_start": 0.6,
            "bin_end": 0.7,
            "count": 0
           },
           {
            "bin_start": 0.7,
            "bin_end": 0.8,
            "count": 0
           },
           {
            "bin_start": 0.8,
            "bin_end": 0.9,
            "count": 0
           },
           {
            "bin_start": 0.9,
            "bin_end": 1,
            "count": 0
           },
           {
            "bin_start": 1,
            "bin_end": 1.1,
            "count": 5
           },
           {
            "bin_start": 1.1,
            "bin_end": 1.2000000000000002,
            "count": 0
           },
           {
            "bin_start": 1.2000000000000002,
            "bin_end": 1.3,
            "count": 0
           },
           {
            "bin_start": 1.3,
            "bin_end": 1.4,
            "count": 0
           },
           {
            "bin_start": 1.4,
            "bin_end": 1.5,
            "count": 0
           }
          ]
         }
        },
        {
         "name": "garbage_chute",
         "dtype": "float64",
         "stats": {
          "unique_count": 3,
          "nan_count": 0,
          "min": "0.0",
          "max": "1.0",
          "histogram": [
           {
            "bin_start": 0,
            "bin_end": 0.1,
            "count": 1
           },
           {
            "bin_start": 0.1,
            "bin_end": 0.2,
            "count": 0
           },
           {
            "bin_start": 0.2,
            "bin_end": 0.30000000000000004,
            "count": 0
           },
           {
            "bin_start": 0.30000000000000004,
            "bin_end": 0.4,
            "count": 0
           },
           {
            "bin_start": 0.4,
            "bin_end": 0.5,
            "count": 0
           },
           {
            "bin_start": 0.5,
            "bin_end": 0.6000000000000001,
            "count": 0
           },
           {
            "bin_start": 0.6000000000000001,
            "bin_end": 0.7000000000000001,
            "count": 0
           },
           {
            "bin_start": 0.7000000000000001,
            "bin_end": 0.8,
            "count": 0
           },
           {
            "bin_start": 0.8,
            "bin_end": 0.9,
            "count": 2
           },
           {
            "bin_start": 0.9,
            "bin_end": 1,
            "count": 2
           }
          ]
         }
        },
        {
         "name": "heating",
         "dtype": "float64",
         "stats": {
          "unique_count": 2,
          "nan_count": 0,
          "min": "0.0",
          "max": "0.2",
          "histogram": [
           {
            "bin_start": 0,
            "bin_end": 0.02,
            "count": 3
           },
           {
            "bin_start": 0.02,
            "bin_end": 0.04,
            "count": 0
           },
           {
            "bin_start": 0.04,
            "bin_end": 0.06,
            "count": 0
           },
           {
            "bin_start": 0.06,
            "bin_end": 0.08,
            "count": 0
           },
           {
            "bin_start": 0.08,
            "bin_end": 0.1,
            "count": 0
           },
           {
            "bin_start": 0.1,
            "bin_end": 0.12,
            "count": 0
           },
           {
            "bin_start": 0.12,
            "bin_end": 0.14,
            "count": 0
           },
           {
            "bin_start": 0.14,
            "bin_end": 0.16,
            "count": 0
           },
           {
            "bin_start": 0.16,
            "bin_end": 0.18,
            "count": 0
           },
           {
            "bin_start": 0.18,
            "bin_end": 0.2,
            "count": 2
           }
          ]
         }
        },
        {
         "name": "price/area",
         "dtype": "float64",
         "stats": {
          "unique_count": 4,
          "nan_count": 0,
          "min": "114900.0",
          "max": "178205.12820512822",
          "histogram": [
           {
            "bin_start": 114900,
            "bin_end": 121230.51282051283,
            "count": 4
           },
           {
            "bin_start": 121230.51282051283,
            "bin_end": 127561.02564102564,
            "count": 0
           },
           {
            "bin_start": 127561.02564102564,
            "bin_end": 133891.53846153847,
            "count": 0
           },
           {
            "bin_start": 133891.53846153847,
            "bin_end": 140222.05128205128,
            "count": 0
           },
           {
            "bin_start": 140222.05128205128,
            "bin_end": 146552.56410256412,
            "count": 0
           },
           {
            "bin_start": 146552.56410256412,
            "bin_end": 152883.07692307694,
            "count": 0
           },
           {
            "bin_start": 152883.07692307694,
            "bin_end": 159213.58974358975,
            "count": 0
           },
           {
            "bin_start": 159213.58974358975,
            "bin_end": 165544.10256410256,
            "count": 0
           },
           {
            "bin_start": 165544.10256410256,
            "bin_end": 171874.6153846154,
            "count": 0
           },
           {
            "bin_start": 171874.6153846154,
            "bin_end": 178205.12820512822,
            "count": 1
           }
          ]
         }
        },
        {
         "name": "distance",
         "dtype": "float64",
         "stats": {
          "unique_count": 4,
          "nan_count": 0,
          "min": "0.12118261272146193",
          "max": "0.2393483510304599",
          "histogram": [
           {
            "bin_start": 0.12118261272146193,
            "bin_end": 0.13299918655236173,
            "count": 3
           },
           {
            "bin_start": 0.13299918655236173,
            "bin_end": 0.14481576038326152,
            "count": 0
           },
           {
            "bin_start": 0.14481576038326152,
            "bin_end": 0.1566323342141613,
            "count": 0
           },
           {
            "bin_start": 0.1566323342141613,
            "bin_end": 0.16844890804506113,
            "count": 0
           },
           {
            "bin_start": 0.16844890804506113,
            "bin_end": 0.18026548187596092,
            "count": 0
           },
           {
            "bin_start": 0.18026548187596092,
            "bin_end": 0.1920820557068607,
            "count": 0
           },
           {
            "bin_start": 0.1920820557068607,
            "bin_end": 0.2038986295377605,
            "count": 0
           },
           {
            "bin_start": 0.2038986295377605,
            "bin_end": 0.2157152033686603,
            "count": 0
           },
           {
            "bin_start": 0.2157152033686603,
            "bin_end": 0.22753177719956008,
            "count": 1
           },
           {
            "bin_start": 0.22753177719956008,
            "bin_end": 0.2393483510304599,
            "count": 1
           }
          ]
         }
        },
        {
         "name": "_deepnote_index_column",
         "dtype": "int64"
        }
       ],
       "rows_top": [
        {
         "id": 0,
         "seller": 3,
         "price": 7139520,
         "area_total": 59.2,
         "area_kitchen": 12.5,
         "area_living": 31,
         "floor": 2,
         "rooms": 2,
         "layout": 0.8,
         "ceiling": 2.65,
         "bathrooms_shared": 0,
         "bathrooms_private": 2,
         "windows_court": 0,
         "windows_street": 1,
         "balconies": 0.6,
         "loggias": 0.8,
         "condition": 0.8,
         "phones": 1,
         "building_id": 4076,
         "new": 1,
         "district": 11,
         "constructed": 2021,
         "material": 3,
         "stories": 9,
         "elevator_without": 0,
         "elevator_passenger": 1,
         "elevator_service": 1,
         "parking": 1,
         "garbage_chute": 0.8,
         "heating": 0.2,
         "price/area": 120600,
         "distance": 0.2393483510304599,
         "_deepnote_index_column": 0
        },
        {
         "id": 1,
         "seller": 1.2,
         "price": 10500000,
         "area_total": 88,
         "area_kitchen": 14.2,
         "area_living": 48,
         "floor": 18,
         "rooms": 3,
         "layout": 1,
         "ceiling": 2.652,
         "bathrooms_shared": 2,
         "bathrooms_private": 0,
         "windows_court": 1,
         "windows_street": 1,
         "balconies": 1,
         "loggias": 0,
         "condition": 3,
         "phones": 1,
         "building_id": 1893,
         "new": 0,
         "district": 2,
         "constructed": 2010,
         "material": 3,
         "stories": 25,
         "elevator_without": 0,
         "elevator_passenger": 1,
         "elevator_service": 1,
         "parking": 1,
         "garbage_chute": 1,
         "heating": 0,
         "price/area": 119318.18181818182,
         "distance": 0.1297131686953954,
         "_deepnote_index_column": 1
        },
        {
         "id": 2,
         "seller": 3,
         "price": 9019650,
         "area_total": 78.5,
         "area_kitchen": 22.5,
         "area_living": 40.8,
         "floor": 12,
         "rooms": 3,
         "layout": 1,
         "ceiling": 2.65,
         "bathrooms_shared": 0,
         "bathrooms_private": 2,
         "windows_court": 1,
         "windows_street": 1,
         "balconies": 0.6,
         "loggias": 0.4,
         "condition": 0.8,
         "phones": 1,
         "building_id": 5176,
         "new": 1,
         "district": 6,
         "constructed": 2021,
         "material": 3,
         "stories": 15,
         "elevator_without": 0,
         "elevator_passenger": 1,
         "elevator_service": 1,
         "parking": 1,
         "garbage_chute": 0.8,
         "heating": 0.2,
         "price/area": 114900,
         "distance": 0.12118261272146193,
         "_deepnote_index_column": 2
        },
        {
         "id": 3,
         "seller": 1.2,
         "price": 10500000,
         "area_total": 88,
         "area_kitchen": 14,
         "area_living": 48,
         "floor": 18,
         "rooms": 3,
         "layout": 1,
         "ceiling": 2.652,
         "bathrooms_shared": 0,
         "bathrooms_private": 2,
         "windows_court": 1,
         "windows_street": 1,
         "balconies": 0,
         "loggias": 1,
         "condition": 2,
         "phones": 1,
         "building_id": 1893,
         "new": 0,
         "district": 2,
         "constructed": 2010,
         "material": 3,
         "stories": 25,
         "elevator_without": 0,
         "elevator_passenger": 1,
         "elevator_service": 1,
         "parking": 1,
         "garbage_chute": 1,
         "heating": 0,
         "price/area": 119318.18181818182,
         "distance": 0.1297131686953954,
         "_deepnote_index_column": 3
        },
        {
         "id": 4,
         "seller": 1.8,
         "price": 13900000,
         "area_total": 78,
         "area_kitchen": 17,
         "area_living": 35,
         "floor": 7,
         "rooms": 2,
         "layout": 1,
         "ceiling": 2.9,
         "bathrooms_shared": 1,
         "bathrooms_private": 0,
         "windows_court": 1,
         "windows_street": 1,
         "balconies": 0,
         "loggias": 1,
         "condition": 3,
         "phones": 1,
         "building_id": 6604,
         "new": 0,
         "district": 11,
         "constructed": 2017,
         "material": 2,
         "stories": 15,
         "elevator_without": 0,
         "elevator_passenger": 1,
         "elevator_service": 1,
         "parking": 1,
         "garbage_chute": 0,
         "heating": 0,
         "price/area": 178205.12820512822,
         "distance": 0.21776153027796374,
         "_deepnote_index_column": 4
        }
       ],
       "rows_bottom": null
      },
      "text/plain": "    id  seller       price  area_total  area_kitchen  area_living  floor  \\\n0  0.0     3.0   7139520.0        59.2          12.5         31.0    2.0   \n1  1.0     1.2  10500000.0        88.0          14.2         48.0   18.0   \n2  2.0     3.0   9019650.0        78.5          22.5         40.8   12.0   \n3  3.0     1.2  10500000.0        88.0          14.0         48.0   18.0   \n4  4.0     1.8  13900000.0        78.0          17.0         35.0    7.0   \n\n   rooms  layout  ceiling  ...  material  stories  elevator_without  \\\n0    2.0     0.8    2.650  ...       3.0      9.0               0.0   \n1    3.0     1.0    2.652  ...       3.0     25.0               0.0   \n2    3.0     1.0    2.650  ...       3.0     15.0               0.0   \n3    3.0     1.0    2.652  ...       3.0     25.0               0.0   \n4    2.0     1.0    2.900  ...       2.0     15.0               0.0   \n\n   elevator_passenger  elevator_service  parking  garbage_chute  heating  \\\n0                 1.0               1.0      1.0            0.8      0.2   \n1                 1.0               1.0      1.0            1.0      0.0   \n2                 1.0               1.0      1.0            0.8      0.2   \n3                 1.0               1.0      1.0            1.0      0.0   \n4                 1.0               1.0      1.0            0.0      0.0   \n\n      price/area  distance  \n0  120600.000000  0.239348  \n1  119318.181818  0.129713  \n2  114900.000000  0.121183  \n3  119318.181818  0.129713  \n4  178205.128205  0.217762  \n\n[5 rows x 32 columns]",
      "text/html": "<div>\n<style scoped>\n    .dataframe tbody tr th:only-of-type {\n        vertical-align: middle;\n    }\n\n    .dataframe tbody tr th {\n        vertical-align: top;\n    }\n\n    .dataframe thead th {\n        text-align: right;\n    }\n</style>\n<table border=\"1\" class=\"dataframe\">\n  <thead>\n    <tr style=\"text-align: right;\">\n      <th></th>\n      <th>id</th>\n      <th>seller</th>\n      <th>price</th>\n      <th>area_total</th>\n      <th>area_kitchen</th>\n      <th>area_living</th>\n      <th>floor</th>\n      <th>rooms</th>\n      <th>layout</th>\n      <th>ceiling</th>\n      <th>...</th>\n      <th>material</th>\n      <th>stories</th>\n      <th>elevator_without</th>\n      <th>elevator_passenger</th>\n      <th>elevator_service</th>\n      <th>parking</th>\n      <th>garbage_chute</th>\n      <th>heating</th>\n      <th>price/area</th>\n      <th>distance</th>\n    </tr>\n  </thead>\n  <tbody>\n    <tr>\n      <th>0</th>\n      <td>0.0</td>\n      <td>3.0</td>\n      <td>7139520.0</td>\n      <td>59.2</td>\n      <td>12.5</td>\n      <td>31.0</td>\n      <td>2.0</td>\n      <td>2.0</td>\n      <td>0.8</td>\n      <td>2.650</td>\n      <td>...</td>\n      <td>3.0</td>\n      <td>9.0</td>\n      <td>0.0</td>\n      <td>1.0</td>\n      <td>1.0</td>\n      <td>1.0</td>\n      <td>0.8</td>\n      <td>0.2</td>\n      <td>120600.000000</td>\n      <td>0.239348</td>\n    </tr>\n    <tr>\n      <th>1</th>\n      <td>1.0</td>\n      <td>1.2</td>\n      <td>10500000.0</td>\n      <td>88.0</td>\n      <td>14.2</td>\n      <td>48.0</td>\n      <td>18.0</td>\n      <td>3.0</td>\n      <td>1.0</td>\n      <td>2.652</td>\n      <td>...</td>\n      <td>3.0</td>\n      <td>25.0</td>\n      <td>0.0</td>\n      <td>1.0</td>\n      <td>1.0</td>\n      <td>1.0</td>\n      <td>1.0</td>\n      <td>0.0</td>\n      <td>119318.181818</td>\n      <td>0.129713</td>\n    </tr>\n    <tr>\n      <th>2</th>\n      <td>2.0</td>\n      <td>3.0</td>\n      <td>9019650.0</td>\n      <td>78.5</td>\n      <td>22.5</td>\n      <td>40.8</td>\n      <td>12.0</td>\n      <td>3.0</td>\n      <td>1.0</td>\n      <td>2.650</td>\n      <td>...</td>\n      <td>3.0</td>\n      <td>15.0</td>\n      <td>0.0</td>\n      <td>1.0</td>\n      <td>1.0</td>\n      <td>1.0</td>\n      <td>0.8</td>\n      <td>0.2</td>\n      <td>114900.000000</td>\n      <td>0.121183</td>\n    </tr>\n    <tr>\n      <th>3</th>\n      <td>3.0</td>\n      <td>1.2</td>\n      <td>10500000.0</td>\n      <td>88.0</td>\n      <td>14.0</td>\n      <td>48.0</td>\n      <td>18.0</td>\n      <td>3.0</td>\n      <td>1.0</td>\n      <td>2.652</td>\n      <td>...</td>\n      <td>3.0</td>\n      <td>25.0</td>\n      <td>0.0</td>\n      <td>1.0</td>\n      <td>1.0</td>\n      <td>1.0</td>\n      <td>1.0</td>\n      <td>0.0</td>\n      <td>119318.181818</td>\n      <td>0.129713</td>\n    </tr>\n    <tr>\n      <th>4</th>\n      <td>4.0</td>\n      <td>1.8</td>\n      <td>13900000.0</td>\n      <td>78.0</td>\n      <td>17.0</td>\n      <td>35.0</td>\n      <td>7.0</td>\n      <td>2.0</td>\n      <td>1.0</td>\n      <td>2.900</td>\n      <td>...</td>\n      <td>2.0</td>\n      <td>15.0</td>\n      <td>0.0</td>\n      <td>1.0</td>\n      <td>1.0</td>\n      <td>1.0</td>\n      <td>0.0</td>\n      <td>0.0</td>\n      <td>178205.128205</td>\n      <td>0.217762</td>\n    </tr>\n  </tbody>\n</table>\n<p>5 rows × 32 columns</p>\n</div>"
     },
     "metadata": {}
    }
   ],
   "execution_count": null
  },
  {
   "cell_type": "code",
   "metadata": {
    "tags": [],
    "deepnote_to_be_reexecuted": false,
    "source_hash": "b26f84b6",
    "execution_start": 1637350149553,
    "execution_millis": 74,
    "cell_id": "00020-1ef5a733-b39e-47d3-88d2-438c60f79eda",
    "deepnote_cell_type": "code"
   },
   "source": "# categorical features and integers that must be rounded and cast to int\n\nnames = ['seller', 'floor', 'rooms', 'layout', 'ceiling', \n'bathrooms_shared', 'bathrooms_private', 'windows_court', 'windows_street', 'balconies', 'loggias', 'condition', \n'phones', 'building_id', 'new', 'district', 'constructed', 'material', 'stories', 'elevator_without', \n'elevator_passenger', 'elevator_service', 'parking', 'garbage_chute', 'heating']\n#print(df.street.isnull().sum(),df1.street.isnull().sum())\nfor x in names:\n    df1[x] = df1[x].round(decimals = 0)\n    df1[x] = df1[x].astype(int)\n\n    df1_test[x] = df1_test[x].round(decimals = 0)\n    df1_test[x] = df1_test[x].astype(int)\n\n#df1['street'].isnull().sum()\nprint(df1.shape, df.shape)",
   "outputs": [
    {
     "name": "stdout",
     "text": "(23237, 32) (23237, 34)\n",
     "output_type": "stream"
    }
   ],
   "execution_count": null
  },
  {
   "cell_type": "code",
   "metadata": {
    "tags": [],
    "deepnote_to_be_reexecuted": false,
    "source_hash": "97ffdf9d",
    "execution_start": 1637350159346,
    "execution_millis": 214,
    "deepnote_output_heights": [
     21,
     21
    ],
    "cell_id": "00021-9eff3530-1a67-4524-9e54-3a3d9dbb0168",
    "deepnote_cell_type": "code"
   },
   "source": "\ndf1['id'] = df1['id'].astype(int)\n\n\ndf1 = pd.merge(df1, df[['id', 'street']], on='id')\n\n\ndf1_test['id'] = df1_test['id'].astype(int)\ndf1_test['street'] = df_test.street\n\n#print(df1.shape, df.shape)\n#df1.head()\n#df1['street'].isnull().sum()\n#df1.to_csv('Training_clean.csv', index=False)\n#df1_test.to_csv('Test_clean.csv', index=False)",
   "outputs": [],
   "execution_count": null
  },
  {
   "cell_type": "code",
   "metadata": {
    "tags": [],
    "deepnote_to_be_reexecuted": false,
    "source_hash": "effe9690",
    "execution_start": 1637350162555,
    "execution_millis": 1,
    "deepnote_output_heights": [
     21
    ],
    "cell_id": "00022-f28a13b7-2fb4-446c-b48e-7de58f376d5d",
    "deepnote_cell_type": "code"
   },
   "source": "df1.shape",
   "outputs": [
    {
     "output_type": "execute_result",
     "execution_count": 25,
     "data": {
      "text/plain": "(23237, 33)"
     },
     "metadata": {}
    }
   ],
   "execution_count": null
  },
  {
   "cell_type": "code",
   "metadata": {
    "tags": [],
    "deepnote_to_be_reexecuted": false,
    "source_hash": "cbcab4db",
    "execution_start": 1637350168587,
    "execution_millis": 197,
    "cell_id": "00023-abf2fdb7-4f7c-468c-a89c-11733e2ca7d2",
    "deepnote_cell_type": "code"
   },
   "source": "df1[df1.id==455]",
   "outputs": [
    {
     "output_type": "execute_result",
     "execution_count": 26,
     "data": {
      "application/vnd.deepnote.dataframe.v2+json": {
       "row_count": 1,
       "column_count": 33,
       "columns": [
        {
         "name": "id",
         "dtype": "int64",
         "stats": {
          "unique_count": 1,
          "nan_count": 0,
          "min": "455",
          "max": "455",
          "histogram": [
           {
            "bin_start": 454.5,
            "bin_end": 454.6,
            "count": 0
           },
           {
            "bin_start": 454.6,
            "bin_end": 454.7,
            "count": 0
           },
           {
            "bin_start": 454.7,
            "bin_end": 454.8,
            "count": 0
           },
           {
            "bin_start": 454.8,
            "bin_end": 454.9,
            "count": 0
           },
           {
            "bin_start": 454.9,
            "bin_end": 455,
            "count": 0
           },
           {
            "bin_start": 455,
            "bin_end": 455.1,
            "count": 1
           },
           {
            "bin_start": 455.1,
            "bin_end": 455.2,
            "count": 0
           },
           {
            "bin_start": 455.2,
            "bin_end": 455.3,
            "count": 0
           },
           {
            "bin_start": 455.3,
            "bin_end": 455.4,
            "count": 0
           },
           {
            "bin_start": 455.4,
            "bin_end": 455.5,
            "count": 0
           }
          ]
         }
        },
        {
         "name": "seller",
         "dtype": "int64",
         "stats": {
          "unique_count": 1,
          "nan_count": 0,
          "min": "3",
          "max": "3",
          "histogram": [
           {
            "bin_start": 2.5,
            "bin_end": 2.6,
            "count": 0
           },
           {
            "bin_start": 2.6,
            "bin_end": 2.7,
            "count": 0
           },
           {
            "bin_start": 2.7,
            "bin_end": 2.8,
            "count": 0
           },
           {
            "bin_start": 2.8,
            "bin_end": 2.9,
            "count": 0
           },
           {
            "bin_start": 2.9,
            "bin_end": 3,
            "count": 0
           },
           {
            "bin_start": 3,
            "bin_end": 3.1,
            "count": 1
           },
           {
            "bin_start": 3.1,
            "bin_end": 3.2,
            "count": 0
           },
           {
            "bin_start": 3.2,
            "bin_end": 3.3,
            "count": 0
           },
           {
            "bin_start": 3.3,
            "bin_end": 3.4,
            "count": 0
           },
           {
            "bin_start": 3.4,
            "bin_end": 3.5,
            "count": 0
           }
          ]
         }
        },
        {
         "name": "price",
         "dtype": "float64",
         "stats": {
          "unique_count": 1,
          "nan_count": 0,
          "min": "32268200.0",
          "max": "32268200.0",
          "histogram": [
           {
            "bin_start": 32268199.5,
            "bin_end": 32268199.6,
            "count": 0
           },
           {
            "bin_start": 32268199.6,
            "bin_end": 32268199.7,
            "count": 0
           },
           {
            "bin_start": 32268199.7,
            "bin_end": 32268199.8,
            "count": 0
           },
           {
            "bin_start": 32268199.8,
            "bin_end": 32268199.9,
            "count": 0
           },
           {
            "bin_start": 32268199.9,
            "bin_end": 32268200,
            "count": 0
           },
           {
            "bin_start": 32268200,
            "bin_end": 32268200.1,
            "count": 1
           },
           {
            "bin_start": 32268200.1,
            "bin_end": 32268200.2,
            "count": 0
           },
           {
            "bin_start": 32268200.2,
            "bin_end": 32268200.3,
            "count": 0
           },
           {
            "bin_start": 32268200.3,
            "bin_end": 32268200.4,
            "count": 0
           },
           {
            "bin_start": 32268200.4,
            "bin_end": 32268200.5,
            "count": 0
           }
          ]
         }
        },
        {
         "name": "area_total",
         "dtype": "float64",
         "stats": {
          "unique_count": 1,
          "nan_count": 0,
          "min": "101.45",
          "max": "101.45",
          "histogram": [
           {
            "bin_start": 100.95,
            "bin_end": 101.05,
            "count": 0
           },
           {
            "bin_start": 101.05,
            "bin_end": 101.15,
            "count": 0
           },
           {
            "bin_start": 101.15,
            "bin_end": 101.25,
            "count": 0
           },
           {
            "bin_start": 101.25,
            "bin_end": 101.35000000000001,
            "count": 0
           },
           {
            "bin_start": 101.35000000000001,
            "bin_end": 101.45,
            "count": 0
           },
           {
            "bin_start": 101.45,
            "bin_end": 101.55,
            "count": 1
           },
           {
            "bin_start": 101.55,
            "bin_end": 101.65,
            "count": 0
           },
           {
            "bin_start": 101.65,
            "bin_end": 101.75,
            "count": 0
           },
           {
            "bin_start": 101.75,
            "bin_end": 101.85000000000001,
            "count": 0
           },
           {
            "bin_start": 101.85000000000001,
            "bin_end": 101.95,
            "count": 0
           }
          ]
         }
        },
        {
         "name": "area_kitchen",
         "dtype": "float64",
         "stats": {
          "unique_count": 1,
          "nan_count": 0,
          "min": "14.319999999999999",
          "max": "14.319999999999999",
          "histogram": [
           {
            "bin_start": 13.819999999999999,
            "bin_end": 13.919999999999998,
            "count": 0
           },
           {
            "bin_start": 13.919999999999998,
            "bin_end": 14.019999999999998,
            "count": 0
           },
           {
            "bin_start": 14.019999999999998,
            "bin_end": 14.12,
            "count": 0
           },
           {
            "bin_start": 14.12,
            "bin_end": 14.219999999999999,
            "count": 0
           },
           {
            "bin_start": 14.219999999999999,
            "bin_end": 14.319999999999999,
            "count": 0
           },
           {
            "bin_start": 14.319999999999999,
            "bin_end": 14.419999999999998,
            "count": 1
           },
           {
            "bin_start": 14.419999999999998,
            "bin_end": 14.519999999999998,
            "count": 0
           },
           {
            "bin_start": 14.519999999999998,
            "bin_end": 14.62,
            "count": 0
           },
           {
            "bin_start": 14.62,
            "bin_end": 14.719999999999999,
            "count": 0
           },
           {
            "bin_start": 14.719999999999999,
            "bin_end": 14.819999999999999,
            "count": 0
           }
          ]
         }
        },
        {
         "name": "area_living",
         "dtype": "float64",
         "stats": {
          "unique_count": 1,
          "nan_count": 0,
          "min": "78.16",
          "max": "78.16",
          "histogram": [
           {
            "bin_start": 77.66,
            "bin_end": 77.75999999999999,
            "count": 0
           },
           {
            "bin_start": 77.75999999999999,
            "bin_end": 77.86,
            "count": 0
           },
           {
            "bin_start": 77.86,
            "bin_end": 77.96,
            "count": 0
           },
           {
            "bin_start": 77.96,
            "bin_end": 78.06,
            "count": 0
           },
           {
            "bin_start": 78.06,
            "bin_end": 78.16,
            "count": 0
           },
           {
            "bin_start": 78.16,
            "bin_end": 78.25999999999999,
            "count": 1
           },
           {
            "bin_start": 78.25999999999999,
            "bin_end": 78.36,
            "count": 0
           },
           {
            "bin_start": 78.36,
            "bin_end": 78.46,
            "count": 0
           },
           {
            "bin_start": 78.46,
            "bin_end": 78.56,
            "count": 0
           },
           {
            "bin_start": 78.56,
            "bin_end": 78.66,
            "count": 0
           }
          ]
         }
        },
        {
         "name": "floor",
         "dtype": "int64",
         "stats": {
          "unique_count": 1,
          "nan_count": 0,
          "min": "1",
          "max": "1",
          "histogram": [
           {
            "bin_start": 0.5,
            "bin_end": 0.6,
            "count": 0
           },
           {
            "bin_start": 0.6,
            "bin_end": 0.7,
            "count": 0
           },
           {
            "bin_start": 0.7,
            "bin_end": 0.8,
            "count": 0
           },
           {
            "bin_start": 0.8,
            "bin_end": 0.9,
            "count": 0
           },
           {
            "bin_start": 0.9,
            "bin_end": 1,
            "count": 0
           },
           {
            "bin_start": 1,
            "bin_end": 1.1,
            "count": 1
           },
           {
            "bin_start": 1.1,
            "bin_end": 1.2000000000000002,
            "count": 0
           },
           {
            "bin_start": 1.2000000000000002,
            "bin_end": 1.3,
            "count": 0
           },
           {
            "bin_start": 1.3,
            "bin_end": 1.4,
            "count": 0
           },
           {
            "bin_start": 1.4,
            "bin_end": 1.5,
            "count": 0
           }
          ]
         }
        },
        {
         "name": "rooms",
         "dtype": "int64",
         "stats": {
          "unique_count": 1,
          "nan_count": 0,
          "min": "3",
          "max": "3",
          "histogram": [
           {
            "bin_start": 2.5,
            "bin_end": 2.6,
            "count": 0
           },
           {
            "bin_start": 2.6,
            "bin_end": 2.7,
            "count": 0
           },
           {
            "bin_start": 2.7,
            "bin_end": 2.8,
            "count": 0
           },
           {
            "bin_start": 2.8,
            "bin_end": 2.9,
            "count": 0
           },
           {
            "bin_start": 2.9,
            "bin_end": 3,
            "count": 0
           },
           {
            "bin_start": 3,
            "bin_end": 3.1,
            "count": 1
           },
           {
            "bin_start": 3.1,
            "bin_end": 3.2,
            "count": 0
           },
           {
            "bin_start": 3.2,
            "bin_end": 3.3,
            "count": 0
           },
           {
            "bin_start": 3.3,
            "bin_end": 3.4,
            "count": 0
           },
           {
            "bin_start": 3.4,
            "bin_end": 3.5,
            "count": 0
           }
          ]
         }
        },
        {
         "name": "layout",
         "dtype": "int64",
         "stats": {
          "unique_count": 1,
          "nan_count": 0,
          "min": "1",
          "max": "1",
          "histogram": [
           {
            "bin_start": 0.5,
            "bin_end": 0.6,
            "count": 0
           },
           {
            "bin_start": 0.6,
            "bin_end": 0.7,
            "count": 0
           },
           {
            "bin_start": 0.7,
            "bin_end": 0.8,
            "count": 0
           },
           {
            "bin_start": 0.8,
            "bin_end": 0.9,
            "count": 0
           },
           {
            "bin_start": 0.9,
            "bin_end": 1,
            "count": 0
           },
           {
            "bin_start": 1,
            "bin_end": 1.1,
            "count": 1
           },
           {
            "bin_start": 1.1,
            "bin_end": 1.2000000000000002,
            "count": 0
           },
           {
            "bin_start": 1.2000000000000002,
            "bin_end": 1.3,
            "count": 0
           },
           {
            "bin_start": 1.3,
            "bin_end": 1.4,
            "count": 0
           },
           {
            "bin_start": 1.4,
            "bin_end": 1.5,
            "count": 0
           }
          ]
         }
        },
        {
         "name": "ceiling",
         "dtype": "int64",
         "stats": {
          "unique_count": 1,
          "nan_count": 0,
          "min": "3",
          "max": "3",
          "histogram": [
           {
            "bin_start": 2.5,
            "bin_end": 2.6,
            "count": 0
           },
           {
            "bin_start": 2.6,
            "bin_end": 2.7,
            "count": 0
           },
           {
            "bin_start": 2.7,
            "bin_end": 2.8,
            "count": 0
           },
           {
            "bin_start": 2.8,
            "bin_end": 2.9,
            "count": 0
           },
           {
            "bin_start": 2.9,
            "bin_end": 3,
            "count": 0
           },
           {
            "bin_start": 3,
            "bin_end": 3.1,
            "count": 1
           },
           {
            "bin_start": 3.1,
            "bin_end": 3.2,
            "count": 0
           },
           {
            "bin_start": 3.2,
            "bin_end": 3.3,
            "count": 0
           },
           {
            "bin_start": 3.3,
            "bin_end": 3.4,
            "count": 0
           },
           {
            "bin_start": 3.4,
            "bin_end": 3.5,
            "count": 0
           }
          ]
         }
        },
        {
         "name": "bathrooms_shared",
         "dtype": "int64",
         "stats": {
          "unique_count": 1,
          "nan_count": 0,
          "min": "1",
          "max": "1",
          "histogram": [
           {
            "bin_start": 0.5,
            "bin_end": 0.6,
            "count": 0
           },
           {
            "bin_start": 0.6,
            "bin_end": 0.7,
            "count": 0
           },
           {
            "bin_start": 0.7,
            "bin_end": 0.8,
            "count": 0
           },
           {
            "bin_start": 0.8,
            "bin_end": 0.9,
            "count": 0
           },
           {
            "bin_start": 0.9,
            "bin_end": 1,
            "count": 0
           },
           {
            "bin_start": 1,
            "bin_end": 1.1,
            "count": 1
           },
           {
            "bin_start": 1.1,
            "bin_end": 1.2000000000000002,
            "count": 0
           },
           {
            "bin_start": 1.2000000000000002,
            "bin_end": 1.3,
            "count": 0
           },
           {
            "bin_start": 1.3,
            "bin_end": 1.4,
            "count": 0
           },
           {
            "bin_start": 1.4,
            "bin_end": 1.5,
            "count": 0
           }
          ]
         }
        },
        {
         "name": "bathrooms_private",
         "dtype": "int64",
         "stats": {
          "unique_count": 1,
          "nan_count": 0,
          "min": "1",
          "max": "1",
          "histogram": [
           {
            "bin_start": 0.5,
            "bin_end": 0.6,
            "count": 0
           },
           {
            "bin_start": 0.6,
            "bin_end": 0.7,
            "count": 0
           },
           {
            "bin_start": 0.7,
            "bin_end": 0.8,
            "count": 0
           },
           {
            "bin_start": 0.8,
            "bin_end": 0.9,
            "count": 0
           },
           {
            "bin_start": 0.9,
            "bin_end": 1,
            "count": 0
           },
           {
            "bin_start": 1,
            "bin_end": 1.1,
            "count": 1
           },
           {
            "bin_start": 1.1,
            "bin_end": 1.2000000000000002,
            "count": 0
           },
           {
            "bin_start": 1.2000000000000002,
            "bin_end": 1.3,
            "count": 0
           },
           {
            "bin_start": 1.3,
            "bin_end": 1.4,
            "count": 0
           },
           {
            "bin_start": 1.4,
            "bin_end": 1.5,
            "count": 0
           }
          ]
         }
        },
        {
         "name": "windows_court",
         "dtype": "int64",
         "stats": {
          "unique_count": 1,
          "nan_count": 0,
          "min": "1",
          "max": "1",
          "histogram": [
           {
            "bin_start": 0.5,
            "bin_end": 0.6,
            "count": 0
           },
           {
            "bin_start": 0.6,
            "bin_end": 0.7,
            "count": 0
           },
           {
            "bin_start": 0.7,
            "bin_end": 0.8,
            "count": 0
           },
           {
            "bin_start": 0.8,
            "bin_end": 0.9,
            "count": 0
           },
           {
            "bin_start": 0.9,
            "bin_end": 1,
            "count": 0
           },
           {
            "bin_start": 1,
            "bin_end": 1.1,
            "count": 1
           },
           {
            "bin_start": 1.1,
            "bin_end": 1.2000000000000002,
            "count": 0
           },
           {
            "bin_start": 1.2000000000000002,
            "bin_end": 1.3,
            "count": 0
           },
           {
            "bin_start": 1.3,
            "bin_end": 1.4,
            "count": 0
           },
           {
            "bin_start": 1.4,
            "bin_end": 1.5,
            "count": 0
           }
          ]
         }
        },
        {
         "name": "windows_street",
         "dtype": "int64",
         "stats": {
          "unique_count": 1,
          "nan_count": 0,
          "min": "1",
          "max": "1",
          "histogram": [
           {
            "bin_start": 0.5,
            "bin_end": 0.6,
            "count": 0
           },
           {
            "bin_start": 0.6,
            "bin_end": 0.7,
            "count": 0
           },
           {
            "bin_start": 0.7,
            "bin_end": 0.8,
            "count": 0
           },
           {
            "bin_start": 0.8,
            "bin_end": 0.9,
            "count": 0
           },
           {
            "bin_start": 0.9,
            "bin_end": 1,
            "count": 0
           },
           {
            "bin_start": 1,
            "bin_end": 1.1,
            "count": 1
           },
           {
            "bin_start": 1.1,
            "bin_end": 1.2000000000000002,
            "count": 0
           },
           {
            "bin_start": 1.2000000000000002,
            "bin_end": 1.3,
            "count": 0
           },
           {
            "bin_start": 1.3,
            "bin_end": 1.4,
            "count": 0
           },
           {
            "bin_start": 1.4,
            "bin_end": 1.5,
            "count": 0
           }
          ]
         }
        },
        {
         "name": "balconies",
         "dtype": "int64",
         "stats": {
          "unique_count": 1,
          "nan_count": 0,
          "min": "1",
          "max": "1",
          "histogram": [
           {
            "bin_start": 0.5,
            "bin_end": 0.6,
            "count": 0
           },
           {
            "bin_start": 0.6,
            "bin_end": 0.7,
            "count": 0
           },
           {
            "bin_start": 0.7,
            "bin_end": 0.8,
            "count": 0
           },
           {
            "bin_start": 0.8,
            "bin_end": 0.9,
            "count": 0
           },
           {
            "bin_start": 0.9,
            "bin_end": 1,
            "count": 0
           },
           {
            "bin_start": 1,
            "bin_end": 1.1,
            "count": 1
           },
           {
            "bin_start": 1.1,
            "bin_end": 1.2000000000000002,
            "count": 0
           },
           {
            "bin_start": 1.2000000000000002,
            "bin_end": 1.3,
            "count": 0
           },
           {
            "bin_start": 1.3,
            "bin_end": 1.4,
            "count": 0
           },
           {
            "bin_start": 1.4,
            "bin_end": 1.5,
            "count": 0
           }
          ]
         }
        },
        {
         "name": "loggias",
         "dtype": "int64",
         "stats": {
          "unique_count": 1,
          "nan_count": 0,
          "min": "0",
          "max": "0",
          "histogram": [
           {
            "bin_start": -0.5,
            "bin_end": -0.4,
            "count": 0
           },
           {
            "bin_start": -0.4,
            "bin_end": -0.3,
            "count": 0
           },
           {
            "bin_start": -0.3,
            "bin_end": -0.19999999999999996,
            "count": 0
           },
           {
            "bin_start": -0.19999999999999996,
            "bin_end": -0.09999999999999998,
            "count": 0
           },
           {
            "bin_start": -0.09999999999999998,
            "bin_end": 0,
            "count": 0
           },
           {
            "bin_start": 0,
            "bin_end": 0.10000000000000009,
            "count": 1
           },
           {
            "bin_start": 0.10000000000000009,
            "bin_end": 0.20000000000000007,
            "count": 0
           },
           {
            "bin_start": 0.20000000000000007,
            "bin_end": 0.30000000000000004,
            "count": 0
           },
           {
            "bin_start": 0.30000000000000004,
            "bin_end": 0.4,
            "count": 0
           },
           {
            "bin_start": 0.4,
            "bin_end": 0.5,
            "count": 0
           }
          ]
         }
        },
        {
         "name": "condition",
         "dtype": "int64",
         "stats": {
          "unique_count": 1,
          "nan_count": 0,
          "min": "1",
          "max": "1",
          "histogram": [
           {
            "bin_start": 0.5,
            "bin_end": 0.6,
            "count": 0
           },
           {
            "bin_start": 0.6,
            "bin_end": 0.7,
            "count": 0
           },
           {
            "bin_start": 0.7,
            "bin_end": 0.8,
            "count": 0
           },
           {
            "bin_start": 0.8,
            "bin_end": 0.9,
            "count": 0
           },
           {
            "bin_start": 0.9,
            "bin_end": 1,
            "count": 0
           },
           {
            "bin_start": 1,
            "bin_end": 1.1,
            "count": 1
           },
           {
            "bin_start": 1.1,
            "bin_end": 1.2000000000000002,
            "count": 0
           },
           {
            "bin_start": 1.2000000000000002,
            "bin_end": 1.3,
            "count": 0
           },
           {
            "bin_start": 1.3,
            "bin_end": 1.4,
            "count": 0
           },
           {
            "bin_start": 1.4,
            "bin_end": 1.5,
            "count": 0
           }
          ]
         }
        },
        {
         "name": "phones",
         "dtype": "int64",
         "stats": {
          "unique_count": 1,
          "nan_count": 0,
          "min": "1",
          "max": "1",
          "histogram": [
           {
            "bin_start": 0.5,
            "bin_end": 0.6,
            "count": 0
           },
           {
            "bin_start": 0.6,
            "bin_end": 0.7,
            "count": 0
           },
           {
            "bin_start": 0.7,
            "bin_end": 0.8,
            "count": 0
           },
           {
            "bin_start": 0.8,
            "bin_end": 0.9,
            "count": 0
           },
           {
            "bin_start": 0.9,
            "bin_end": 1,
            "count": 0
           },
           {
            "bin_start": 1,
            "bin_end": 1.1,
            "count": 1
           },
           {
            "bin_start": 1.1,
            "bin_end": 1.2000000000000002,
            "count": 0
           },
           {
            "bin_start": 1.2000000000000002,
            "bin_end": 1.3,
            "count": 0
           },
           {
            "bin_start": 1.3,
            "bin_end": 1.4,
            "count": 0
           },
           {
            "bin_start": 1.4,
            "bin_end": 1.5,
            "count": 0
           }
          ]
         }
        },
        {
         "name": "building_id",
         "dtype": "int64",
         "stats": {
          "unique_count": 1,
          "nan_count": 0,
          "min": "6542",
          "max": "6542",
          "histogram": [
           {
            "bin_start": 6541.5,
            "bin_end": 6541.6,
            "count": 0
           },
           {
            "bin_start": 6541.6,
            "bin_end": 6541.7,
            "count": 0
           },
           {
            "bin_start": 6541.7,
            "bin_end": 6541.8,
            "count": 0
           },
           {
            "bin_start": 6541.8,
            "bin_end": 6541.9,
            "count": 0
           },
           {
            "bin_start": 6541.9,
            "bin_end": 6542,
            "count": 0
           },
           {
            "bin_start": 6542,
            "bin_end": 6542.1,
            "count": 1
           },
           {
            "bin_start": 6542.1,
            "bin_end": 6542.2,
            "count": 0
           },
           {
            "bin_start": 6542.2,
            "bin_end": 6542.3,
            "count": 0
           },
           {
            "bin_start": 6542.3,
            "bin_end": 6542.4,
            "count": 0
           },
           {
            "bin_start": 6542.4,
            "bin_end": 6542.5,
            "count": 0
           }
          ]
         }
        },
        {
         "name": "new",
         "dtype": "int64",
         "stats": {
          "unique_count": 1,
          "nan_count": 0,
          "min": "1",
          "max": "1",
          "histogram": [
           {
            "bin_start": 0.5,
            "bin_end": 0.6,
            "count": 0
           },
           {
            "bin_start": 0.6,
            "bin_end": 0.7,
            "count": 0
           },
           {
            "bin_start": 0.7,
            "bin_end": 0.8,
            "count": 0
           },
           {
            "bin_start": 0.8,
            "bin_end": 0.9,
            "count": 0
           },
           {
            "bin_start": 0.9,
            "bin_end": 1,
            "count": 0
           },
           {
            "bin_start": 1,
            "bin_end": 1.1,
            "count": 1
           },
           {
            "bin_start": 1.1,
            "bin_end": 1.2000000000000002,
            "count": 0
           },
           {
            "bin_start": 1.2000000000000002,
            "bin_end": 1.3,
            "count": 0
           },
           {
            "bin_start": 1.3,
            "bin_end": 1.4,
            "count": 0
           },
           {
            "bin_start": 1.4,
            "bin_end": 1.5,
            "count": 0
           }
          ]
         }
        },
        {
         "name": "district",
         "dtype": "int64",
         "stats": {
          "unique_count": 1,
          "nan_count": 0,
          "min": "8",
          "max": "8",
          "histogram": [
           {
            "bin_start": 7.5,
            "bin_end": 7.6,
            "count": 0
           },
           {
            "bin_start": 7.6,
            "bin_end": 7.7,
            "count": 0
           },
           {
            "bin_start": 7.7,
            "bin_end": 7.8,
            "count": 0
           },
           {
            "bin_start": 7.8,
            "bin_end": 7.9,
            "count": 0
           },
           {
            "bin_start": 7.9,
            "bin_end": 8,
            "count": 0
           },
           {
            "bin_start": 8,
            "bin_end": 8.1,
            "count": 1
           },
           {
            "bin_start": 8.1,
            "bin_end": 8.2,
            "count": 0
           },
           {
            "bin_start": 8.2,
            "bin_end": 8.3,
            "count": 0
           },
           {
            "bin_start": 8.3,
            "bin_end": 8.4,
            "count": 0
           },
           {
            "bin_start": 8.4,
            "bin_end": 8.5,
            "count": 0
           }
          ]
         }
        },
        {
         "name": "constructed",
         "dtype": "int64",
         "stats": {
          "unique_count": 1,
          "nan_count": 0,
          "min": "2011",
          "max": "2011",
          "histogram": [
           {
            "bin_start": 2010.5,
            "bin_end": 2010.6,
            "count": 0
           },
           {
            "bin_start": 2010.6,
            "bin_end": 2010.7,
            "count": 0
           },
           {
            "bin_start": 2010.7,
            "bin_end": 2010.8,
            "count": 0
           },
           {
            "bin_start": 2010.8,
            "bin_end": 2010.9,
            "count": 0
           },
           {
            "bin_start": 2010.9,
            "bin_end": 2011,
            "count": 0
           },
           {
            "bin_start": 2011,
            "bin_end": 2011.1,
            "count": 1
           },
           {
            "bin_start": 2011.1,
            "bin_end": 2011.2,
            "count": 0
           },
           {
            "bin_start": 2011.2,
            "bin_end": 2011.3,
            "count": 0
           },
           {
            "bin_start": 2011.3,
            "bin_end": 2011.4,
            "count": 0
           },
           {
            "bin_start": 2011.4,
            "bin_end": 2011.5,
            "count": 0
           }
          ]
         }
        },
        {
         "name": "material",
         "dtype": "int64",
         "stats": {
          "unique_count": 1,
          "nan_count": 0,
          "min": "2",
          "max": "2",
          "histogram": [
           {
            "bin_start": 1.5,
            "bin_end": 1.6,
            "count": 0
           },
           {
            "bin_start": 1.6,
            "bin_end": 1.7,
            "count": 0
           },
           {
            "bin_start": 1.7,
            "bin_end": 1.8,
            "count": 0
           },
           {
            "bin_start": 1.8,
            "bin_end": 1.9,
            "count": 0
           },
           {
            "bin_start": 1.9,
            "bin_end": 2,
            "count": 0
           },
           {
            "bin_start": 2,
            "bin_end": 2.1,
            "count": 1
           },
           {
            "bin_start": 2.1,
            "bin_end": 2.2,
            "count": 0
           },
           {
            "bin_start": 2.2,
            "bin_end": 2.3,
            "count": 0
           },
           {
            "bin_start": 2.3,
            "bin_end": 2.4,
            "count": 0
           },
           {
            "bin_start": 2.4,
            "bin_end": 2.5,
            "count": 0
           }
          ]
         }
        },
        {
         "name": "stories",
         "dtype": "int64",
         "stats": {
          "unique_count": 1,
          "nan_count": 0,
          "min": "18",
          "max": "18",
          "histogram": [
           {
            "bin_start": 17.5,
            "bin_end": 17.6,
            "count": 0
           },
           {
            "bin_start": 17.6,
            "bin_end": 17.7,
            "count": 0
           },
           {
            "bin_start": 17.7,
            "bin_end": 17.8,
            "count": 0
           },
           {
            "bin_start": 17.8,
            "bin_end": 17.9,
            "count": 0
           },
           {
            "bin_start": 17.9,
            "bin_end": 18,
            "count": 0
           },
           {
            "bin_start": 18,
            "bin_end": 18.1,
            "count": 1
           },
           {
            "bin_start": 18.1,
            "bin_end": 18.2,
            "count": 0
           },
           {
            "bin_start": 18.2,
            "bin_end": 18.3,
            "count": 0
           },
           {
            "bin_start": 18.3,
            "bin_end": 18.4,
            "count": 0
           },
           {
            "bin_start": 18.4,
            "bin_end": 18.5,
            "count": 0
           }
          ]
         }
        },
        {
         "name": "elevator_without",
         "dtype": "int64",
         "stats": {
          "unique_count": 1,
          "nan_count": 0,
          "min": "0",
          "max": "0",
          "histogram": [
           {
            "bin_start": -0.5,
            "bin_end": -0.4,
            "count": 0
           },
           {
            "bin_start": -0.4,
            "bin_end": -0.3,
            "count": 0
           },
           {
            "bin_start": -0.3,
            "bin_end": -0.19999999999999996,
            "count": 0
           },
           {
            "bin_start": -0.19999999999999996,
            "bin_end": -0.09999999999999998,
            "count": 0
           },
           {
            "bin_start": -0.09999999999999998,
            "bin_end": 0,
            "count": 0
           },
           {
            "bin_start": 0,
            "bin_end": 0.10000000000000009,
            "count": 1
           },
           {
            "bin_start": 0.10000000000000009,
            "bin_end": 0.20000000000000007,
            "count": 0
           },
           {
            "bin_start": 0.20000000000000007,
            "bin_end": 0.30000000000000004,
            "count": 0
           },
           {
            "bin_start": 0.30000000000000004,
            "bin_end": 0.4,
            "count": 0
           },
           {
            "bin_start": 0.4,
            "bin_end": 0.5,
            "count": 0
           }
          ]
         }
        },
        {
         "name": "elevator_passenger",
         "dtype": "int64",
         "stats": {
          "unique_count": 1,
          "nan_count": 0,
          "min": "1",
          "max": "1",
          "histogram": [
           {
            "bin_start": 0.5,
            "bin_end": 0.6,
            "count": 0
           },
           {
            "bin_start": 0.6,
            "bin_end": 0.7,
            "count": 0
           },
           {
            "bin_start": 0.7,
            "bin_end": 0.8,
            "count": 0
           },
           {
            "bin_start": 0.8,
            "bin_end": 0.9,
            "count": 0
           },
           {
            "bin_start": 0.9,
            "bin_end": 1,
            "count": 0
           },
           {
            "bin_start": 1,
            "bin_end": 1.1,
            "count": 1
           },
           {
            "bin_start": 1.1,
            "bin_end": 1.2000000000000002,
            "count": 0
           },
           {
            "bin_start": 1.2000000000000002,
            "bin_end": 1.3,
            "count": 0
           },
           {
            "bin_start": 1.3,
            "bin_end": 1.4,
            "count": 0
           },
           {
            "bin_start": 1.4,
            "bin_end": 1.5,
            "count": 0
           }
          ]
         }
        },
        {
         "name": "elevator_service",
         "dtype": "int64",
         "stats": {
          "unique_count": 1,
          "nan_count": 0,
          "min": "1",
          "max": "1",
          "histogram": [
           {
            "bin_start": 0.5,
            "bin_end": 0.6,
            "count": 0
           },
           {
            "bin_start": 0.6,
            "bin_end": 0.7,
            "count": 0
           },
           {
            "bin_start": 0.7,
            "bin_end": 0.8,
            "count": 0
           },
           {
            "bin_start": 0.8,
            "bin_end": 0.9,
            "count": 0
           },
           {
            "bin_start": 0.9,
            "bin_end": 1,
            "count": 0
           },
           {
            "bin_start": 1,
            "bin_end": 1.1,
            "count": 1
           },
           {
            "bin_start": 1.1,
            "bin_end": 1.2000000000000002,
            "count": 0
           },
           {
            "bin_start": 1.2000000000000002,
            "bin_end": 1.3,
            "count": 0
           },
           {
            "bin_start": 1.3,
            "bin_end": 1.4,
            "count": 0
           },
           {
            "bin_start": 1.4,
            "bin_end": 1.5,
            "count": 0
           }
          ]
         }
        },
        {
         "name": "parking",
         "dtype": "int64",
         "stats": {
          "unique_count": 1,
          "nan_count": 0,
          "min": "0",
          "max": "0",
          "histogram": [
           {
            "bin_start": -0.5,
            "bin_end": -0.4,
            "count": 0
           },
           {
            "bin_start": -0.4,
            "bin_end": -0.3,
            "count": 0
           },
           {
            "bin_start": -0.3,
            "bin_end": -0.19999999999999996,
            "count": 0
           },
           {
            "bin_start": -0.19999999999999996,
            "bin_end": -0.09999999999999998,
            "count": 0
           },
           {
            "bin_start": -0.09999999999999998,
            "bin_end": 0,
            "count": 0
           },
           {
            "bin_start": 0,
            "bin_end": 0.10000000000000009,
            "count": 1
           },
           {
            "bin_start": 0.10000000000000009,
            "bin_end": 0.20000000000000007,
            "count": 0
           },
           {
            "bin_start": 0.20000000000000007,
            "bin_end": 0.30000000000000004,
            "count": 0
           },
           {
            "bin_start": 0.30000000000000004,
            "bin_end": 0.4,
            "count": 0
           },
           {
            "bin_start": 0.4,
            "bin_end": 0.5,
            "count": 0
           }
          ]
         }
        },
        {
         "name": "garbage_chute",
         "dtype": "int64",
         "stats": {
          "unique_count": 1,
          "nan_count": 0,
          "min": "1",
          "max": "1",
          "histogram": [
           {
            "bin_start": 0.5,
            "bin_end": 0.6,
            "count": 0
           },
           {
            "bin_start": 0.6,
            "bin_end": 0.7,
            "count": 0
           },
           {
            "bin_start": 0.7,
            "bin_end": 0.8,
            "count": 0
           },
           {
            "bin_start": 0.8,
            "bin_end": 0.9,
            "count": 0
           },
           {
            "bin_start": 0.9,
            "bin_end": 1,
            "count": 0
           },
           {
            "bin_start": 1,
            "bin_end": 1.1,
            "count": 1
           },
           {
            "bin_start": 1.1,
            "bin_end": 1.2000000000000002,
            "count": 0
           },
           {
            "bin_start": 1.2000000000000002,
            "bin_end": 1.3,
            "count": 0
           },
           {
            "bin_start": 1.3,
            "bin_end": 1.4,
            "count": 0
           },
           {
            "bin_start": 1.4,
            "bin_end": 1.5,
            "count": 0
           }
          ]
         }
        },
        {
         "name": "heating",
         "dtype": "int64",
         "stats": {
          "unique_count": 1,
          "nan_count": 0,
          "min": "0",
          "max": "0",
          "histogram": [
           {
            "bin_start": -0.5,
            "bin_end": -0.4,
            "count": 0
           },
           {
            "bin_start": -0.4,
            "bin_end": -0.3,
            "count": 0
           },
           {
            "bin_start": -0.3,
            "bin_end": -0.19999999999999996,
            "count": 0
           },
           {
            "bin_start": -0.19999999999999996,
            "bin_end": -0.09999999999999998,
            "count": 0
           },
           {
            "bin_start": -0.09999999999999998,
            "bin_end": 0,
            "count": 0
           },
           {
            "bin_start": 0,
            "bin_end": 0.10000000000000009,
            "count": 1
           },
           {
            "bin_start": 0.10000000000000009,
            "bin_end": 0.20000000000000007,
            "count": 0
           },
           {
            "bin_start": 0.20000000000000007,
            "bin_end": 0.30000000000000004,
            "count": 0
           },
           {
            "bin_start": 0.30000000000000004,
            "bin_end": 0.4,
            "count": 0
           },
           {
            "bin_start": 0.4,
            "bin_end": 0.5,
            "count": 0
           }
          ]
         }
        },
        {
         "name": "price/area",
         "dtype": "float64",
         "stats": {
          "unique_count": 1,
          "nan_count": 0,
          "min": "318069.9852143913",
          "max": "318069.9852143913",
          "histogram": [
           {
            "bin_start": 318069.4852143913,
            "bin_end": 318069.5852143913,
            "count": 0
           },
           {
            "bin_start": 318069.5852143913,
            "bin_end": 318069.6852143913,
            "count": 0
           },
           {
            "bin_start": 318069.6852143913,
            "bin_end": 318069.7852143913,
            "count": 0
           },
           {
            "bin_start": 318069.7852143913,
            "bin_end": 318069.88521439134,
            "count": 0
           },
           {
            "bin_start": 318069.88521439134,
            "bin_end": 318069.9852143913,
            "count": 0
           },
           {
            "bin_start": 318069.9852143913,
            "bin_end": 318070.0852143913,
            "count": 1
           },
           {
            "bin_start": 318070.0852143913,
            "bin_end": 318070.1852143913,
            "count": 0
           },
           {
            "bin_start": 318070.1852143913,
            "bin_end": 318070.2852143913,
            "count": 0
           },
           {
            "bin_start": 318070.2852143913,
            "bin_end": 318070.38521439134,
            "count": 0
           },
           {
            "bin_start": 318070.38521439134,
            "bin_end": 318070.4852143913,
            "count": 0
           }
          ]
         }
        },
        {
         "name": "distance",
         "dtype": "float64",
         "stats": {
          "unique_count": 1,
          "nan_count": 0,
          "min": "0.11514983501942284",
          "max": "0.11514983501942284",
          "histogram": [
           {
            "bin_start": -0.38485016498057717,
            "bin_end": -0.28485016498057714,
            "count": 0
           },
           {
            "bin_start": -0.28485016498057714,
            "bin_end": -0.18485016498057716,
            "count": 0
           },
           {
            "bin_start": -0.18485016498057716,
            "bin_end": -0.08485016498057713,
            "count": 0
           },
           {
            "bin_start": -0.08485016498057713,
            "bin_end": 0.015149835019422853,
            "count": 0
           },
           {
            "bin_start": 0.015149835019422853,
            "bin_end": 0.11514983501942283,
            "count": 0
           },
           {
            "bin_start": 0.11514983501942283,
            "bin_end": 0.21514983501942292,
            "count": 1
           },
           {
            "bin_start": 0.21514983501942292,
            "bin_end": 0.3151498350194229,
            "count": 0
           },
           {
            "bin_start": 0.3151498350194229,
            "bin_end": 0.4151498350194229,
            "count": 0
           },
           {
            "bin_start": 0.4151498350194229,
            "bin_end": 0.5151498350194228,
            "count": 0
           },
           {
            "bin_start": 0.5151498350194228,
            "bin_end": 0.6151498350194229,
            "count": 0
           }
          ]
         }
        },
        {
         "name": "street",
         "dtype": "object",
         "stats": {
          "unique_count": 1,
          "nan_count": 0,
          "categories": [
           {
            "name": "улица Маршала Рыбалко",
            "count": 1
           }
          ]
         }
        },
        {
         "name": "_deepnote_index_column",
         "dtype": "int64"
        }
       ],
       "rows_top": [
        {
         "id": 455,
         "seller": 3,
         "price": 32268200,
         "area_total": 101.45,
         "area_kitchen": 14.319999999999999,
         "area_living": 78.16,
         "floor": 1,
         "rooms": 3,
         "layout": 1,
         "ceiling": 3,
         "bathrooms_shared": 1,
         "bathrooms_private": 1,
         "windows_court": 1,
         "windows_street": 1,
         "balconies": 1,
         "loggias": 0,
         "condition": 1,
         "phones": 1,
         "building_id": 6542,
         "new": 1,
         "district": 8,
         "constructed": 2011,
         "material": 2,
         "stories": 18,
         "elevator_without": 0,
         "elevator_passenger": 1,
         "elevator_service": 1,
         "parking": 0,
         "garbage_chute": 1,
         "heating": 0,
         "price/area": 318069.9852143913,
         "distance": 0.11514983501942284,
         "street": "улица Маршала Рыбалко",
         "_deepnote_index_column": 455
        }
       ],
       "rows_bottom": null
      },
      "text/plain": "      id  seller       price  area_total  area_kitchen  area_living  floor  \\\n455  455       3  32268200.0      101.45         14.32        78.16      1   \n\n     rooms  layout  ceiling  ...  stories  elevator_without  \\\n455      3       1        3  ...       18                 0   \n\n     elevator_passenger  elevator_service  parking  garbage_chute  heating  \\\n455                   1                 1        0              1        0   \n\n        price/area  distance                 street  \n455  318069.985214   0.11515  улица Маршала Рыбалко  \n\n[1 rows x 33 columns]",
      "text/html": "<div>\n<style scoped>\n    .dataframe tbody tr th:only-of-type {\n        vertical-align: middle;\n    }\n\n    .dataframe tbody tr th {\n        vertical-align: top;\n    }\n\n    .dataframe thead th {\n        text-align: right;\n    }\n</style>\n<table border=\"1\" class=\"dataframe\">\n  <thead>\n    <tr style=\"text-align: right;\">\n      <th></th>\n      <th>id</th>\n      <th>seller</th>\n      <th>price</th>\n      <th>area_total</th>\n      <th>area_kitchen</th>\n      <th>area_living</th>\n      <th>floor</th>\n      <th>rooms</th>\n      <th>layout</th>\n      <th>ceiling</th>\n      <th>...</th>\n      <th>stories</th>\n      <th>elevator_without</th>\n      <th>elevator_passenger</th>\n      <th>elevator_service</th>\n      <th>parking</th>\n      <th>garbage_chute</th>\n      <th>heating</th>\n      <th>price/area</th>\n      <th>distance</th>\n      <th>street</th>\n    </tr>\n  </thead>\n  <tbody>\n    <tr>\n      <th>455</th>\n      <td>455</td>\n      <td>3</td>\n      <td>32268200.0</td>\n      <td>101.45</td>\n      <td>14.32</td>\n      <td>78.16</td>\n      <td>1</td>\n      <td>3</td>\n      <td>1</td>\n      <td>3</td>\n      <td>...</td>\n      <td>18</td>\n      <td>0</td>\n      <td>1</td>\n      <td>1</td>\n      <td>0</td>\n      <td>1</td>\n      <td>0</td>\n      <td>318069.985214</td>\n      <td>0.11515</td>\n      <td>улица Маршала Рыбалко</td>\n    </tr>\n  </tbody>\n</table>\n<p>1 rows × 33 columns</p>\n</div>"
     },
     "metadata": {}
    }
   ],
   "execution_count": null
  },
  {
   "cell_type": "code",
   "metadata": {
    "tags": [],
    "deepnote_to_be_reexecuted": false,
    "source_hash": "509fc3fe",
    "execution_start": 1637350183336,
    "execution_millis": 12,
    "cell_id": "00024-8e425fb6-2397-4e95-b47a-10264f8b4e73",
    "deepnote_cell_type": "code"
   },
   "source": "#df_train['floor/stories'] = df_train.floor/df_train.stories\n#df_test['floor/stories'] = df_test.floor/df_test.stories\n\n#df_train['distance'] = np.sqrt((37.6 - df_train['longitude'])**2 + (55.75 - df_train['latitude'])**2)\n#df_test['distance'] = np.sqrt((37.6 - df_test['longitude'])**2 + (55.75 - df_test['latitude'])**2)\n# happens further up",
   "outputs": [],
   "execution_count": null
  },
  {
   "cell_type": "code",
   "metadata": {
    "tags": [],
    "deepnote_to_be_reexecuted": false,
    "source_hash": "ada10ea4",
    "execution_start": 1637350595457,
    "execution_millis": 0,
    "cell_id": "00025-e846125b-be68-4133-b90a-778a59ce1c2b",
    "deepnote_cell_type": "code"
   },
   "source": "df_train = df1\ndf_test = df1_test",
   "outputs": [],
   "execution_count": null
  },
  {
   "cell_type": "code",
   "metadata": {
    "tags": [],
    "deepnote_to_be_reexecuted": false,
    "source_hash": "b20afeba",
    "execution_start": 1637350211027,
    "execution_millis": 1,
    "deepnote_output_heights": [
     21
    ],
    "cell_id": "00026-fb4428d9-467a-4df1-89bb-def945a17ab4",
    "deepnote_cell_type": "code"
   },
   "source": "df_test.shape",
   "outputs": [
    {
     "output_type": "execute_result",
     "execution_count": 29,
     "data": {
      "text/plain": "(9937, 32)"
     },
     "metadata": {}
    }
   ],
   "execution_count": null
  },
  {
   "cell_type": "code",
   "metadata": {
    "tags": [],
    "deepnote_to_be_reexecuted": false,
    "source_hash": "db981d08",
    "execution_start": 1637350221568,
    "execution_millis": 2,
    "deepnote_output_heights": [
     21
    ],
    "cell_id": "00027-d7042534-3fbe-4a4f-aa95-110d7bd66167",
    "deepnote_cell_type": "code"
   },
   "source": "df_train.shape",
   "outputs": [
    {
     "output_type": "execute_result",
     "execution_count": 30,
     "data": {
      "text/plain": "(23237, 33)"
     },
     "metadata": {}
    }
   ],
   "execution_count": null
  },
  {
   "cell_type": "code",
   "metadata": {
    "tags": [],
    "deepnote_to_be_reexecuted": false,
    "source_hash": "6d8343f0",
    "execution_start": 1637350469659,
    "execution_millis": 166,
    "cell_id": "00028-0b5f9d30-d372-42ff-88ab-b02549aced9f",
    "deepnote_cell_type": "code"
   },
   "source": "X1_test.head()",
   "outputs": [
    {
     "output_type": "execute_result",
     "execution_count": 40,
     "data": {
      "application/vnd.deepnote.dataframe.v2+json": {
       "row_count": 5,
       "column_count": 23,
       "columns": [
        {
         "name": "area_total",
         "dtype": "float64",
         "stats": {
          "unique_count": 5,
          "nan_count": 0,
          "min": "34.0",
          "max": "71.4",
          "histogram": [
           {
            "bin_start": 34,
            "bin_end": 37.74,
            "count": 1
           },
           {
            "bin_start": 37.74,
            "bin_end": 41.480000000000004,
            "count": 1
           },
           {
            "bin_start": 41.480000000000004,
            "bin_end": 45.22,
            "count": 0
           },
           {
            "bin_start": 45.22,
            "bin_end": 48.96,
            "count": 0
           },
           {
            "bin_start": 48.96,
            "bin_end": 52.7,
            "count": 0
           },
           {
            "bin_start": 52.7,
            "bin_end": 56.440000000000005,
            "count": 1
           },
           {
            "bin_start": 56.440000000000005,
            "bin_end": 60.18000000000001,
            "count": 0
           },
           {
            "bin_start": 60.18000000000001,
            "bin_end": 63.92,
            "count": 1
           },
           {
            "bin_start": 63.92,
            "bin_end": 67.66,
            "count": 0
           },
           {
            "bin_start": 67.66,
            "bin_end": 71.4,
            "count": 1
           }
          ]
         }
        },
        {
         "name": "area_kitchen",
         "dtype": "float64",
         "stats": {
          "unique_count": 3,
          "nan_count": 2,
          "min": "4.0",
          "max": "19.6",
          "histogram": [
           {
            "bin_start": 4,
            "bin_end": 5.5600000000000005,
            "count": 1
           },
           {
            "bin_start": 5.5600000000000005,
            "bin_end": 7.12,
            "count": 0
           },
           {
            "bin_start": 7.12,
            "bin_end": 8.68,
            "count": 0
           },
           {
            "bin_start": 8.68,
            "bin_end": 10.24,
            "count": 1
           },
           {
            "bin_start": 10.24,
            "bin_end": 11.8,
            "count": 0
           },
           {
            "bin_start": 11.8,
            "bin_end": 13.36,
            "count": 0
           },
           {
            "bin_start": 13.36,
            "bin_end": 14.92,
            "count": 0
           },
           {
            "bin_start": 14.92,
            "bin_end": 16.48,
            "count": 0
           },
           {
            "bin_start": 16.48,
            "bin_end": 18.04,
            "count": 0
           },
           {
            "bin_start": 18.04,
            "bin_end": 19.6,
            "count": 1
           }
          ]
         }
        },
        {
         "name": "area_living",
         "dtype": "float64",
         "stats": {
          "unique_count": 3,
          "nan_count": 2,
          "min": "11.2",
          "max": "50.0",
          "histogram": [
           {
            "bin_start": 11.2,
            "bin_end": 15.079999999999998,
            "count": 1
           },
           {
            "bin_start": 15.079999999999998,
            "bin_end": 18.96,
            "count": 1
           },
           {
            "bin_start": 18.96,
            "bin_end": 22.84,
            "count": 0
           },
           {
            "bin_start": 22.84,
            "bin_end": 26.72,
            "count": 0
           },
           {
            "bin_start": 26.72,
            "bin_end": 30.599999999999998,
            "count": 0
           },
           {
            "bin_start": 30.599999999999998,
            "bin_end": 34.480000000000004,
            "count": 0
           },
           {
            "bin_start": 34.480000000000004,
            "bin_end": 38.36,
            "count": 0
           },
           {
            "bin_start": 38.36,
            "bin_end": 42.239999999999995,
            "count": 0
           },
           {
            "bin_start": 42.239999999999995,
            "bin_end": 46.120000000000005,
            "count": 0
           },
           {
            "bin_start": 46.120000000000005,
            "bin_end": 50,
            "count": 1
           }
          ]
         }
        },
        {
         "name": "floor",
         "dtype": "float64",
         "stats": {
          "unique_count": 5,
          "nan_count": 0,
          "min": "2.0",
          "max": "14.0",
          "histogram": [
           {
            "bin_start": 2,
            "bin_end": 3.2,
            "count": 1
           },
           {
            "bin_start": 3.2,
            "bin_end": 4.4,
            "count": 1
           },
           {
            "bin_start": 4.4,
            "bin_end": 5.6,
            "count": 1
           },
           {
            "bin_start": 5.6,
            "bin_end": 6.8,
            "count": 0
           },
           {
            "bin_start": 6.8,
            "bin_end": 8,
            "count": 0
           },
           {
            "bin_start": 8,
            "bin_end": 9.2,
            "count": 0
           },
           {
            "bin_start": 9.2,
            "bin_end": 10.4,
            "count": 1
           },
           {
            "bin_start": 10.4,
            "bin_end": 11.6,
            "count": 0
           },
           {
            "bin_start": 11.6,
            "bin_end": 12.799999999999999,
            "count": 0
           },
           {
            "bin_start": 12.799999999999999,
            "bin_end": 14,
            "count": 1
           }
          ]
         }
        },
        {
         "name": "rooms",
         "dtype": "float64",
         "stats": {
          "unique_count": 2,
          "nan_count": 0,
          "min": "1.0",
          "max": "2.0",
          "histogram": [
           {
            "bin_start": 1,
            "bin_end": 1.1,
            "count": 4
           },
           {
            "bin_start": 1.1,
            "bin_end": 1.2,
            "count": 0
           },
           {
            "bin_start": 1.2,
            "bin_end": 1.3,
            "count": 0
           },
           {
            "bin_start": 1.3,
            "bin_end": 1.4,
            "count": 0
           },
           {
            "bin_start": 1.4,
            "bin_end": 1.5,
            "count": 0
           },
           {
            "bin_start": 1.5,
            "bin_end": 1.6,
            "count": 0
           },
           {
            "bin_start": 1.6,
            "bin_end": 1.7000000000000002,
            "count": 0
           },
           {
            "bin_start": 1.7000000000000002,
            "bin_end": 1.8,
            "count": 0
           },
           {
            "bin_start": 1.8,
            "bin_end": 1.9,
            "count": 0
           },
           {
            "bin_start": 1.9,
            "bin_end": 2,
            "count": 1
           }
          ]
         }
        },
        {
         "name": "layout",
         "dtype": "float64",
         "stats": {
          "unique_count": 1,
          "nan_count": 4,
          "min": "1.0",
          "max": "1.0",
          "histogram": [
           {
            "bin_start": 0.5,
            "bin_end": 0.6,
            "count": 0
           },
           {
            "bin_start": 0.6,
            "bin_end": 0.7,
            "count": 0
           },
           {
            "bin_start": 0.7,
            "bin_end": 0.8,
            "count": 0
           },
           {
            "bin_start": 0.8,
            "bin_end": 0.9,
            "count": 0
           },
           {
            "bin_start": 0.9,
            "bin_end": 1,
            "count": 0
           },
           {
            "bin_start": 1,
            "bin_end": 1.1,
            "count": 1
           },
           {
            "bin_start": 1.1,
            "bin_end": 1.2000000000000002,
            "count": 0
           },
           {
            "bin_start": 1.2000000000000002,
            "bin_end": 1.3,
            "count": 0
           },
           {
            "bin_start": 1.3,
            "bin_end": 1.4,
            "count": 0
           },
           {
            "bin_start": 1.4,
            "bin_end": 1.5,
            "count": 0
           }
          ]
         }
        },
        {
         "name": "windows_court",
         "dtype": "float64",
         "stats": {
          "unique_count": 2,
          "nan_count": 0,
          "min": "0.0",
          "max": "1.0",
          "histogram": [
           {
            "bin_start": 0,
            "bin_end": 0.1,
            "count": 1
           },
           {
            "bin_start": 0.1,
            "bin_end": 0.2,
            "count": 0
           },
           {
            "bin_start": 0.2,
            "bin_end": 0.30000000000000004,
            "count": 0
           },
           {
            "bin_start": 0.30000000000000004,
            "bin_end": 0.4,
            "count": 0
           },
           {
            "bin_start": 0.4,
            "bin_end": 0.5,
            "count": 0
           },
           {
            "bin_start": 0.5,
            "bin_end": 0.6000000000000001,
            "count": 0
           },
           {
            "bin_start": 0.6000000000000001,
            "bin_end": 0.7000000000000001,
            "count": 0
           },
           {
            "bin_start": 0.7000000000000001,
            "bin_end": 0.8,
            "count": 0
           },
           {
            "bin_start": 0.8,
            "bin_end": 0.9,
            "count": 0
           },
           {
            "bin_start": 0.9,
            "bin_end": 1,
            "count": 4
           }
          ]
         }
        },
        {
         "name": "windows_street",
         "dtype": "float64",
         "stats": {
          "unique_count": 2,
          "nan_count": 0,
          "min": "0.0",
          "max": "1.0",
          "histogram": [
           {
            "bin_start": 0,
            "bin_end": 0.1,
            "count": 4
           },
           {
            "bin_start": 0.1,
            "bin_end": 0.2,
            "count": 0
           },
           {
            "bin_start": 0.2,
            "bin_end": 0.30000000000000004,
            "count": 0
           },
           {
            "bin_start": 0.30000000000000004,
            "bin_end": 0.4,
            "count": 0
           },
           {
            "bin_start": 0.4,
            "bin_end": 0.5,
            "count": 0
           },
           {
            "bin_start": 0.5,
            "bin_end": 0.6000000000000001,
            "count": 0
           },
           {
            "bin_start": 0.6000000000000001,
            "bin_end": 0.7000000000000001,
            "count": 0
           },
           {
            "bin_start": 0.7000000000000001,
            "bin_end": 0.8,
            "count": 0
           },
           {
            "bin_start": 0.8,
            "bin_end": 0.9,
            "count": 0
           },
           {
            "bin_start": 0.9,
            "bin_end": 1,
            "count": 1
           }
          ]
         }
        },
        {
         "name": "balconies",
         "dtype": "float64",
         "stats": {
          "unique_count": 2,
          "nan_count": 3,
          "min": "0.0",
          "max": "1.0",
          "histogram": [
           {
            "bin_start": 0,
            "bin_end": 0.1,
            "count": 1
           },
           {
            "bin_start": 0.1,
            "bin_end": 0.2,
            "count": 0
           },
           {
            "bin_start": 0.2,
            "bin_end": 0.30000000000000004,
            "count": 0
           },
           {
            "bin_start": 0.30000000000000004,
            "bin_end": 0.4,
            "count": 0
           },
           {
            "bin_start": 0.4,
            "bin_end": 0.5,
            "count": 0
           },
           {
            "bin_start": 0.5,
            "bin_end": 0.6000000000000001,
            "count": 0
           },
           {
            "bin_start": 0.6000000000000001,
            "bin_end": 0.7000000000000001,
            "count": 0
           },
           {
            "bin_start": 0.7000000000000001,
            "bin_end": 0.8,
            "count": 0
           },
           {
            "bin_start": 0.8,
            "bin_end": 0.9,
            "count": 0
           },
           {
            "bin_start": 0.9,
            "bin_end": 1,
            "count": 1
           }
          ]
         }
        },
        {
         "name": "condition",
         "dtype": "float64",
         "stats": {
          "unique_count": 3,
          "nan_count": 1,
          "min": "0.0",
          "max": "3.0",
          "histogram": [
           {
            "bin_start": 0,
            "bin_end": 0.3,
            "count": 2
           },
           {
            "bin_start": 0.3,
            "bin_end": 0.6,
            "count": 0
           },
           {
            "bin_start": 0.6,
            "bin_end": 0.8999999999999999,
            "count": 0
           },
           {
            "bin_start": 0.8999999999999999,
            "bin_end": 1.2,
            "count": 1
           },
           {
            "bin_start": 1.2,
            "bin_end": 1.5,
            "count": 0
           },
           {
            "bin_start": 1.5,
            "bin_end": 1.7999999999999998,
            "count": 0
           },
           {
            "bin_start": 1.7999999999999998,
            "bin_end": 2.1,
            "count": 0
           },
           {
            "bin_start": 2.1,
            "bin_end": 2.4,
            "count": 0
           },
           {
            "bin_start": 2.4,
            "bin_end": 2.6999999999999997,
            "count": 0
           },
           {
            "bin_start": 2.6999999999999997,
            "bin_end": 3,
            "count": 1
           }
          ]
         }
        },
        {
         "name": "phones",
         "dtype": "float64",
         "stats": {
          "unique_count": 1,
          "nan_count": 0,
          "min": "1.0",
          "max": "1.0",
          "histogram": [
           {
            "bin_start": 0.5,
            "bin_end": 0.6,
            "count": 0
           },
           {
            "bin_start": 0.6,
            "bin_end": 0.7,
            "count": 0
           },
           {
            "bin_start": 0.7,
            "bin_end": 0.8,
            "count": 0
           },
           {
            "bin_start": 0.8,
            "bin_end": 0.9,
            "count": 0
           },
           {
            "bin_start": 0.9,
            "bin_end": 1,
            "count": 0
           },
           {
            "bin_start": 1,
            "bin_end": 1.1,
            "count": 5
           },
           {
            "bin_start": 1.1,
            "bin_end": 1.2000000000000002,
            "count": 0
           },
           {
            "bin_start": 1.2000000000000002,
            "bin_end": 1.3,
            "count": 0
           },
           {
            "bin_start": 1.3,
            "bin_end": 1.4,
            "count": 0
           },
           {
            "bin_start": 1.4,
            "bin_end": 1.5,
            "count": 0
           }
          ]
         }
        },
        {
         "name": "building_id",
         "dtype": "int64",
         "stats": {
          "unique_count": 5,
          "nan_count": 0,
          "min": "681",
          "max": "7530",
          "histogram": [
           {
            "bin_start": 681,
            "bin_end": 1365.9,
            "count": 2
           },
           {
            "bin_start": 1365.9,
            "bin_end": 2050.8,
            "count": 0
           },
           {
            "bin_start": 2050.8,
            "bin_end": 2735.7,
            "count": 0
           },
           {
            "bin_start": 2735.7,
            "bin_end": 3420.6,
            "count": 0
           },
           {
            "bin_start": 3420.6,
            "bin_end": 4105.5,
            "count": 0
           },
           {
            "bin_start": 4105.5,
            "bin_end": 4790.4,
            "count": 1
           },
           {
            "bin_start": 4790.4,
            "bin_end": 5475.3,
            "count": 1
           },
           {
            "bin_start": 5475.3,
            "bin_end": 6160.2,
            "count": 0
           },
           {
            "bin_start": 6160.2,
            "bin_end": 6845.099999999999,
            "count": 0
           },
           {
            "bin_start": 6845.099999999999,
            "bin_end": 7530,
            "count": 1
           }
          ]
         }
        },
        {
         "name": "new",
         "dtype": "float64",
         "stats": {
          "unique_count": 2,
          "nan_count": 0,
          "min": "0.0",
          "max": "1.0",
          "histogram": [
           {
            "bin_start": 0,
            "bin_end": 0.1,
            "count": 4
           },
           {
            "bin_start": 0.1,
            "bin_end": 0.2,
            "count": 0
           },
           {
            "bin_start": 0.2,
            "bin_end": 0.30000000000000004,
            "count": 0
           },
           {
            "bin_start": 0.30000000000000004,
            "bin_end": 0.4,
            "count": 0
           },
           {
            "bin_start": 0.4,
            "bin_end": 0.5,
            "count": 0
           },
           {
            "bin_start": 0.5,
            "bin_end": 0.6000000000000001,
            "count": 0
           },
           {
            "bin_start": 0.6000000000000001,
            "bin_end": 0.7000000000000001,
            "count": 0
           },
           {
            "bin_start": 0.7000000000000001,
            "bin_end": 0.8,
            "count": 0
           },
           {
            "bin_start": 0.8,
            "bin_end": 0.9,
            "count": 0
           },
           {
            "bin_start": 0.9,
            "bin_end": 1,
            "count": 1
           }
          ]
         }
        },
        {
         "name": "district",
         "dtype": "float64",
         "stats": {
          "unique_count": 2,
          "nan_count": 0,
          "min": "0.0",
          "max": "11.0",
          "histogram": [
           {
            "bin_start": 0,
            "bin_end": 1.1,
            "count": 1
           },
           {
            "bin_start": 1.1,
            "bin_end": 2.2,
            "count": 0
           },
           {
            "bin_start": 2.2,
            "bin_end": 3.3000000000000003,
            "count": 0
           },
           {
            "bin_start": 3.3000000000000003,
            "bin_end": 4.4,
            "count": 0
           },
           {
            "bin_start": 4.4,
            "bin_end": 5.5,
            "count": 0
           },
           {
            "bin_start": 5.5,
            "bin_end": 6.6000000000000005,
            "count": 0
           },
           {
            "bin_start": 6.6000000000000005,
            "bin_end": 7.700000000000001,
            "count": 0
           },
           {
            "bin_start": 7.700000000000001,
            "bin_end": 8.8,
            "count": 0
           },
           {
            "bin_start": 8.8,
            "bin_end": 9.9,
            "count": 0
           },
           {
            "bin_start": 9.9,
            "bin_end": 11,
            "count": 4
           }
          ]
         }
        },
        {
         "name": "street",
         "dtype": "object",
         "stats": {
          "unique_count": 5,
          "nan_count": 0,
          "categories": [
           {
            "name": "2-я Черногрязская улица",
            "count": 1
           },
           {
            "name": "улица Сервантеса",
            "count": 1
           },
           {
            "name": "3 others",
            "count": 3
           }
          ]
         }
        },
        {
         "name": "address",
         "dtype": "object",
         "stats": {
          "unique_count": 5,
          "nan_count": 0,
          "categories": [
           {
            "name": "6к3",
            "count": 1
           },
           {
            "name": "3к2",
            "count": 1
           },
           {
            "name": "3 others",
            "count": 3
           }
          ]
         }
        },
        {
         "name": "stories",
         "dtype": "float64",
         "stats": {
          "unique_count": 4,
          "nan_count": 0,
          "min": "9.0",
          "max": "20.0",
          "histogram": [
           {
            "bin_start": 9,
            "bin_end": 10.1,
            "count": 1
           },
           {
            "bin_start": 10.1,
            "bin_end": 11.2,
            "count": 0
           },
           {
            "bin_start": 11.2,
            "bin_end": 12.3,
            "count": 0
           },
           {
            "bin_start": 12.3,
            "bin_end": 13.4,
            "count": 0
           },
           {
            "bin_start": 13.4,
            "bin_end": 14.5,
            "count": 0
           },
           {
            "bin_start": 14.5,
            "bin_end": 15.600000000000001,
            "count": 1
           },
           {
            "bin_start": 15.600000000000001,
            "bin_end": 16.700000000000003,
            "count": 0
           },
           {
            "bin_start": 16.700000000000003,
            "bin_end": 17.8,
            "count": 2
           },
           {
            "bin_start": 17.8,
            "bin_end": 18.9,
            "count": 0
           },
           {
            "bin_start": 18.9,
            "bin_end": 20,
            "count": 1
           }
          ]
         }
        },
        {
         "name": "elevator_passenger",
         "dtype": "float64",
         "stats": {
          "unique_count": 1,
          "nan_count": 0,
          "min": "1.0",
          "max": "1.0",
          "histogram": [
           {
            "bin_start": 0.5,
            "bin_end": 0.6,
            "count": 0
           },
           {
            "bin_start": 0.6,
            "bin_end": 0.7,
            "count": 0
           },
           {
            "bin_start": 0.7,
            "bin_end": 0.8,
            "count": 0
           },
           {
            "bin_start": 0.8,
            "bin_end": 0.9,
            "count": 0
           },
           {
            "bin_start": 0.9,
            "bin_end": 1,
            "count": 0
           },
           {
            "bin_start": 1,
            "bin_end": 1.1,
            "count": 5
           },
           {
            "bin_start": 1.1,
            "bin_end": 1.2000000000000002,
            "count": 0
           },
           {
            "bin_start": 1.2000000000000002,
            "bin_end": 1.3,
            "count": 0
           },
           {
            "bin_start": 1.3,
            "bin_end": 1.4,
            "count": 0
           },
           {
            "bin_start": 1.4,
            "bin_end": 1.5,
            "count": 0
           }
          ]
         }
        },
        {
         "name": "elevator_service",
         "dtype": "float64",
         "stats": {
          "unique_count": 2,
          "nan_count": 0,
          "min": "0.0",
          "max": "1.0",
          "histogram": [
           {
            "bin_start": 0,
            "bin_end": 0.1,
            "count": 1
           },
           {
            "bin_start": 0.1,
            "bin_end": 0.2,
            "count": 0
           },
           {
            "bin_start": 0.2,
            "bin_end": 0.30000000000000004,
            "count": 0
           },
           {
            "bin_start": 0.30000000000000004,
            "bin_end": 0.4,
            "count": 0
           },
           {
            "bin_start": 0.4,
            "bin_end": 0.5,
            "count": 0
           },
           {
            "bin_start": 0.5,
            "bin_end": 0.6000000000000001,
            "count": 0
           },
           {
            "bin_start": 0.6000000000000001,
            "bin_end": 0.7000000000000001,
            "count": 0
           },
           {
            "bin_start": 0.7000000000000001,
            "bin_end": 0.8,
            "count": 0
           },
           {
            "bin_start": 0.8,
            "bin_end": 0.9,
            "count": 0
           },
           {
            "bin_start": 0.9,
            "bin_end": 1,
            "count": 4
           }
          ]
         }
        },
        {
         "name": "parking",
         "dtype": "float64",
         "stats": {
          "unique_count": 2,
          "nan_count": 3,
          "min": "0.0",
          "max": "1.0",
          "histogram": [
           {
            "bin_start": 0,
            "bin_end": 0.1,
            "count": 1
           },
           {
            "bin_start": 0.1,
            "bin_end": 0.2,
            "count": 0
           },
           {
            "bin_start": 0.2,
            "bin_end": 0.30000000000000004,
            "count": 0
           },
           {
            "bin_start": 0.30000000000000004,
            "bin_end": 0.4,
            "count": 0
           },
           {
            "bin_start": 0.4,
            "bin_end": 0.5,
            "count": 0
           },
           {
            "bin_start": 0.5,
            "bin_end": 0.6000000000000001,
            "count": 0
           },
           {
            "bin_start": 0.6000000000000001,
            "bin_end": 0.7000000000000001,
            "count": 0
           },
           {
            "bin_start": 0.7000000000000001,
            "bin_end": 0.8,
            "count": 0
           },
           {
            "bin_start": 0.8,
            "bin_end": 0.9,
            "count": 0
           },
           {
            "bin_start": 0.9,
            "bin_end": 1,
            "count": 1
           }
          ]
         }
        },
        {
         "name": "garbage_chute",
         "dtype": "float64",
         "stats": {
          "unique_count": 2,
          "nan_count": 1,
          "min": "0.0",
          "max": "1.0",
          "histogram": [
           {
            "bin_start": 0,
            "bin_end": 0.1,
            "count": 1
           },
           {
            "bin_start": 0.1,
            "bin_end": 0.2,
            "count": 0
           },
           {
            "bin_start": 0.2,
            "bin_end": 0.30000000000000004,
            "count": 0
           },
           {
            "bin_start": 0.30000000000000004,
            "bin_end": 0.4,
            "count": 0
           },
           {
            "bin_start": 0.4,
            "bin_end": 0.5,
            "count": 0
           },
           {
            "bin_start": 0.5,
            "bin_end": 0.6000000000000001,
            "count": 0
           },
           {
            "bin_start": 0.6000000000000001,
            "bin_end": 0.7000000000000001,
            "count": 0
           },
           {
            "bin_start": 0.7000000000000001,
            "bin_end": 0.8,
            "count": 0
           },
           {
            "bin_start": 0.8,
            "bin_end": 0.9,
            "count": 0
           },
           {
            "bin_start": 0.9,
            "bin_end": 1,
            "count": 3
           }
          ]
         }
        },
        {
         "name": "heating",
         "dtype": "float64",
         "stats": {
          "unique_count": 2,
          "nan_count": 1,
          "min": "0.0",
          "max": "3.0",
          "histogram": [
           {
            "bin_start": 0,
            "bin_end": 0.3,
            "count": 3
           },
           {
            "bin_start": 0.3,
            "bin_end": 0.6,
            "count": 0
           },
           {
            "bin_start": 0.6,
            "bin_end": 0.8999999999999999,
            "count": 0
           },
           {
            "bin_start": 0.8999999999999999,
            "bin_end": 1.2,
            "count": 0
           },
           {
            "bin_start": 1.2,
            "bin_end": 1.5,
            "count": 0
           },
           {
            "bin_start": 1.5,
            "bin_end": 1.7999999999999998,
            "count": 0
           },
           {
            "bin_start": 1.7999999999999998,
            "bin_end": 2.1,
            "count": 0
           },
           {
            "bin_start": 2.1,
            "bin_end": 2.4,
            "count": 0
           },
           {
            "bin_start": 2.4,
            "bin_end": 2.6999999999999997,
            "count": 0
           },
           {
            "bin_start": 2.6999999999999997,
            "bin_end": 3,
            "count": 1
           }
          ]
         }
        },
        {
         "name": "distance",
         "dtype": "float64",
         "stats": {
          "unique_count": 5,
          "nan_count": 0,
          "min": "0.05241097794355376",
          "max": "0.345584373087098",
          "histogram": [
           {
            "bin_start": 0.05241097794355376,
            "bin_end": 0.08172831745790818,
            "count": 1
           },
           {
            "bin_start": 0.08172831745790818,
            "bin_end": 0.11104565697226261,
            "count": 0
           },
           {
            "bin_start": 0.11104565697226261,
            "bin_end": 0.14036299648661704,
            "count": 0
           },
           {
            "bin_start": 0.14036299648661704,
            "bin_end": 0.16968033600097146,
            "count": 0
           },
           {
            "bin_start": 0.16968033600097146,
            "bin_end": 0.19899767551532588,
            "count": 0
           },
           {
            "bin_start": 0.19899767551532588,
            "bin_end": 0.22831501502968032,
            "count": 2
           },
           {
            "bin_start": 0.22831501502968032,
            "bin_end": 0.25763235454403477,
            "count": 1
           },
           {
            "bin_start": 0.25763235454403477,
            "bin_end": 0.28694969405838916,
            "count": 0
           },
           {
            "bin_start": 0.28694969405838916,
            "bin_end": 0.3162670335727436,
            "count": 0
           },
           {
            "bin_start": 0.3162670335727436,
            "bin_end": 0.345584373087098,
            "count": 1
           }
          ]
         }
        },
        {
         "name": "_deepnote_index_column",
         "dtype": "int64"
        }
       ],
       "rows_top": [
        {
         "area_total": 71.4,
         "area_kitchen": "nan",
         "area_living": "nan",
         "floor": 2,
         "rooms": 1,
         "layout": "nan",
         "windows_court": 1,
         "windows_street": 0,
         "balconies": 1,
         "condition": 0,
         "phones": 1,
         "building_id": 5148,
         "new": 0,
         "district": 0,
         "street": "2-я Черногрязская улица",
         "address": "6к3",
         "stories": 20,
         "elevator_passenger": 1,
         "elevator_service": 1,
         "parking": "nan",
         "garbage_chute": 1,
         "heating": 0,
         "distance": 0.05241097794355376,
         "_deepnote_index_column": 0
        },
        {
         "area_total": 54,
         "area_kitchen": 4,
         "area_living": 50,
         "floor": 4,
         "rooms": 1,
         "layout": "nan",
         "windows_court": 1,
         "windows_street": 0,
         "balconies": "nan",
         "condition": 3,
         "phones": 1,
         "building_id": 1290,
         "new": 0,
         "district": 11,
         "street": "улица Сервантеса",
         "address": "3к2",
         "stories": 15,
         "elevator_passenger": 1,
         "elevator_service": 1,
         "parking": 0,
         "garbage_chute": 0,
         "heating": 0,
         "distance": 0.21643576388850122,
         "_deepnote_index_column": 1
        },
        {
         "area_total": 39.4,
         "area_kitchen": 19.6,
         "area_living": 11.2,
         "floor": 10,
         "rooms": 1,
         "layout": "nan",
         "windows_court": 1,
         "windows_street": 0,
         "balconies": "nan",
         "condition": "nan",
         "phones": 1,
         "building_id": 681,
         "new": 1,
         "district": 11,
         "street": "Саларьево Парк ЖК",
         "address": "27",
         "stories": 9,
         "elevator_passenger": 1,
         "elevator_service": 1,
         "parking": 1,
         "garbage_chute": "nan",
         "heating": "nan",
         "distance": 0.22887870545990124,
         "_deepnote_index_column": 2
        },
        {
         "area_total": 60.9,
         "area_kitchen": "nan",
         "area_living": "nan",
         "floor": 5,
         "rooms": 2,
         "layout": 1,
         "windows_court": 0,
         "windows_street": 1,
         "balconies": "nan",
         "condition": 0,
         "phones": 1,
         "building_id": 4261,
         "new": 0,
         "district": 11,
         "street": "улица Александры Монаховой",
         "address": "23",
         "stories": 17,
         "elevator_passenger": 1,
         "elevator_service": 0,
         "parking": "nan",
         "garbage_chute": 1,
         "heating": 3,
         "distance": 0.21739369540996625,
         "_deepnote_index_column": 3
        },
        {
         "area_total": 34,
         "area_kitchen": 9,
         "area_living": 17,
         "floor": 14,
         "rooms": 1,
         "layout": "nan",
         "windows_court": 1,
         "windows_street": 0,
         "balconies": 0,
         "condition": 1,
         "phones": 1,
         "building_id": 7530,
         "new": 0,
         "district": 11,
         "street": "улица 3-я Нововатутинская",
         "address": "13к1",
         "stories": 17,
         "elevator_passenger": 1,
         "elevator_service": 1,
         "parking": "nan",
         "garbage_chute": 1,
         "heating": 0,
         "distance": 0.345584373087098,
         "_deepnote_index_column": 4
        }
       ],
       "rows_bottom": null
      },
      "text/plain": "   area_total  area_kitchen  area_living  floor  rooms  layout  windows_court  \\\n0        71.4           NaN          NaN    2.0    1.0     NaN            1.0   \n1        54.0           4.0         50.0    4.0    1.0     NaN            1.0   \n2        39.4          19.6         11.2   10.0    1.0     NaN            1.0   \n3        60.9           NaN          NaN    5.0    2.0     1.0            0.0   \n4        34.0           9.0         17.0   14.0    1.0     NaN            1.0   \n\n   windows_street  balconies  condition  ...  district  \\\n0             0.0        1.0        0.0  ...       0.0   \n1             0.0        NaN        3.0  ...      11.0   \n2             0.0        NaN        NaN  ...      11.0   \n3             1.0        NaN        0.0  ...      11.0   \n4             0.0        0.0        1.0  ...      11.0   \n\n                       street  address  stories elevator_passenger  \\\n0     2-я Черногрязская улица      6к3     20.0                1.0   \n1            улица Сервантеса      3к2     15.0                1.0   \n2           Саларьево Парк ЖК       27      9.0                1.0   \n3  улица Александры Монаховой       23     17.0                1.0   \n4   улица 3-я Нововатутинская     13к1     17.0                1.0   \n\n  elevator_service  parking  garbage_chute  heating  distance  \n0              1.0      NaN            1.0      0.0  0.052411  \n1              1.0      0.0            0.0      0.0  0.216436  \n2              1.0      1.0            NaN      NaN  0.228879  \n3              0.0      NaN            1.0      3.0  0.217394  \n4              1.0      NaN            1.0      0.0  0.345584  \n\n[5 rows x 23 columns]",
      "text/html": "<div>\n<style scoped>\n    .dataframe tbody tr th:only-of-type {\n        vertical-align: middle;\n    }\n\n    .dataframe tbody tr th {\n        vertical-align: top;\n    }\n\n    .dataframe thead th {\n        text-align: right;\n    }\n</style>\n<table border=\"1\" class=\"dataframe\">\n  <thead>\n    <tr style=\"text-align: right;\">\n      <th></th>\n      <th>area_total</th>\n      <th>area_kitchen</th>\n      <th>area_living</th>\n      <th>floor</th>\n      <th>rooms</th>\n      <th>layout</th>\n      <th>windows_court</th>\n      <th>windows_street</th>\n      <th>balconies</th>\n      <th>condition</th>\n      <th>...</th>\n      <th>district</th>\n      <th>street</th>\n      <th>address</th>\n      <th>stories</th>\n      <th>elevator_passenger</th>\n      <th>elevator_service</th>\n      <th>parking</th>\n      <th>garbage_chute</th>\n      <th>heating</th>\n      <th>distance</th>\n    </tr>\n  </thead>\n  <tbody>\n    <tr>\n      <th>0</th>\n      <td>71.4</td>\n      <td>NaN</td>\n      <td>NaN</td>\n      <td>2.0</td>\n      <td>1.0</td>\n      <td>NaN</td>\n      <td>1.0</td>\n      <td>0.0</td>\n      <td>1.0</td>\n      <td>0.0</td>\n      <td>...</td>\n      <td>0.0</td>\n      <td>2-я Черногрязская улица</td>\n      <td>6к3</td>\n      <td>20.0</td>\n      <td>1.0</td>\n      <td>1.0</td>\n      <td>NaN</td>\n      <td>1.0</td>\n      <td>0.0</td>\n      <td>0.052411</td>\n    </tr>\n    <tr>\n      <th>1</th>\n      <td>54.0</td>\n      <td>4.0</td>\n      <td>50.0</td>\n      <td>4.0</td>\n      <td>1.0</td>\n      <td>NaN</td>\n      <td>1.0</td>\n      <td>0.0</td>\n      <td>NaN</td>\n      <td>3.0</td>\n      <td>...</td>\n      <td>11.0</td>\n      <td>улица Сервантеса</td>\n      <td>3к2</td>\n      <td>15.0</td>\n      <td>1.0</td>\n      <td>1.0</td>\n      <td>0.0</td>\n      <td>0.0</td>\n      <td>0.0</td>\n      <td>0.216436</td>\n    </tr>\n    <tr>\n      <th>2</th>\n      <td>39.4</td>\n      <td>19.6</td>\n      <td>11.2</td>\n      <td>10.0</td>\n      <td>1.0</td>\n      <td>NaN</td>\n      <td>1.0</td>\n      <td>0.0</td>\n      <td>NaN</td>\n      <td>NaN</td>\n      <td>...</td>\n      <td>11.0</td>\n      <td>Саларьево Парк ЖК</td>\n      <td>27</td>\n      <td>9.0</td>\n      <td>1.0</td>\n      <td>1.0</td>\n      <td>1.0</td>\n      <td>NaN</td>\n      <td>NaN</td>\n      <td>0.228879</td>\n    </tr>\n    <tr>\n      <th>3</th>\n      <td>60.9</td>\n      <td>NaN</td>\n      <td>NaN</td>\n      <td>5.0</td>\n      <td>2.0</td>\n      <td>1.0</td>\n      <td>0.0</td>\n      <td>1.0</td>\n      <td>NaN</td>\n      <td>0.0</td>\n      <td>...</td>\n      <td>11.0</td>\n      <td>улица Александры Монаховой</td>\n      <td>23</td>\n      <td>17.0</td>\n      <td>1.0</td>\n      <td>0.0</td>\n      <td>NaN</td>\n      <td>1.0</td>\n      <td>3.0</td>\n      <td>0.217394</td>\n    </tr>\n    <tr>\n      <th>4</th>\n      <td>34.0</td>\n      <td>9.0</td>\n      <td>17.0</td>\n      <td>14.0</td>\n      <td>1.0</td>\n      <td>NaN</td>\n      <td>1.0</td>\n      <td>0.0</td>\n      <td>0.0</td>\n      <td>1.0</td>\n      <td>...</td>\n      <td>11.0</td>\n      <td>улица 3-я Нововатутинская</td>\n      <td>13к1</td>\n      <td>17.0</td>\n      <td>1.0</td>\n      <td>1.0</td>\n      <td>NaN</td>\n      <td>1.0</td>\n      <td>0.0</td>\n      <td>0.345584</td>\n    </tr>\n  </tbody>\n</table>\n<p>5 rows × 23 columns</p>\n</div>"
     },
     "metadata": {}
    }
   ],
   "execution_count": null
  },
  {
   "cell_type": "code",
   "metadata": {
    "tags": [],
    "deepnote_to_be_reexecuted": false,
    "source_hash": "86cc7b45",
    "execution_start": 1637350567134,
    "execution_millis": 1,
    "cell_id": "00029-9d05204a-166d-4faf-863c-e5e91f42874c",
    "deepnote_cell_type": "code"
   },
   "source": "#y1 = df_train['price']\n\nX1_test = df_test.drop(['id', 'bathrooms_private', 'loggias', 'seller', 'bathrooms_shared', 'elevator_without', 'ceiling', 'material', 'constructed'], axis=1)\n\nX1_test_area_total = X1_test.area_total.values # Save area total values from training set so that we can use feature engineering on price/area as measure\n#df_train['price/area'] = df_train['price']/df_train['area_total'] #already done\ny1 = df_train['price/area'] # Don't drop area here because we need it for split\n\nX1 = df_train.drop(['price', 'id', 'price/area', 'bathrooms_private', 'loggias', 'seller', 'bathrooms_shared', 'elevator_without', 'ceiling', 'material', 'constructed'], axis=1)",
   "outputs": [],
   "execution_count": null
  },
  {
   "cell_type": "code",
   "metadata": {
    "tags": [],
    "deepnote_to_be_reexecuted": false,
    "source_hash": "2e0d2350",
    "execution_start": 1637350569714,
    "execution_millis": 23,
    "deepnote_output_heights": [
     21
    ],
    "cell_id": "00030-7cf555ee-c60d-4bc9-b069-b420799c049e",
    "deepnote_cell_type": "code"
   },
   "source": "X_train, X_val, y_train, y_val = train_test_split(X1, y1, test_size=0.2, random_state=1, shuffle=True)\nX_train.shape, X_val.shape, y_train.shape,y_val.shape, X1_test.shape",
   "outputs": [
    {
     "output_type": "execute_result",
     "execution_count": 44,
     "data": {
      "text/plain": "((18589, 22), (4648, 22), (18589,), (4648,), (9937, 22))"
     },
     "metadata": {}
    }
   ],
   "execution_count": null
  },
  {
   "cell_type": "code",
   "metadata": {
    "tags": [],
    "deepnote_to_be_reexecuted": false,
    "source_hash": "6d8343f0",
    "execution_start": 1637350574806,
    "execution_millis": 16,
    "cell_id": "00031-71af1e97-ae42-4ce9-83b1-424be0943df6",
    "deepnote_cell_type": "code"
   },
   "source": "X1_test.head()",
   "outputs": [
    {
     "output_type": "execute_result",
     "execution_count": 45,
     "data": {
      "application/vnd.deepnote.dataframe.v2+json": {
       "row_count": 5,
       "column_count": 22,
       "columns": [
        {
         "name": "area_total",
         "dtype": "float64",
         "stats": {
          "unique_count": 5,
          "nan_count": 0,
          "min": "34.0",
          "max": "71.4",
          "histogram": [
           {
            "bin_start": 34,
            "bin_end": 37.74,
            "count": 1
           },
           {
            "bin_start": 37.74,
            "bin_end": 41.480000000000004,
            "count": 1
           },
           {
            "bin_start": 41.480000000000004,
            "bin_end": 45.22,
            "count": 0
           },
           {
            "bin_start": 45.22,
            "bin_end": 48.96,
            "count": 0
           },
           {
            "bin_start": 48.96,
            "bin_end": 52.7,
            "count": 0
           },
           {
            "bin_start": 52.7,
            "bin_end": 56.440000000000005,
            "count": 1
           },
           {
            "bin_start": 56.440000000000005,
            "bin_end": 60.18000000000001,
            "count": 0
           },
           {
            "bin_start": 60.18000000000001,
            "bin_end": 63.92,
            "count": 1
           },
           {
            "bin_start": 63.92,
            "bin_end": 67.66,
            "count": 0
           },
           {
            "bin_start": 67.66,
            "bin_end": 71.4,
            "count": 1
           }
          ]
         }
        },
        {
         "name": "area_kitchen",
         "dtype": "float64",
         "stats": {
          "unique_count": 5,
          "nan_count": 0,
          "min": "4.0",
          "max": "19.6",
          "histogram": [
           {
            "bin_start": 4,
            "bin_end": 5.5600000000000005,
            "count": 1
           },
           {
            "bin_start": 5.5600000000000005,
            "bin_end": 7.12,
            "count": 0
           },
           {
            "bin_start": 7.12,
            "bin_end": 8.68,
            "count": 0
           },
           {
            "bin_start": 8.68,
            "bin_end": 10.24,
            "count": 1
           },
           {
            "bin_start": 10.24,
            "bin_end": 11.8,
            "count": 0
           },
           {
            "bin_start": 11.8,
            "bin_end": 13.36,
            "count": 1
           },
           {
            "bin_start": 13.36,
            "bin_end": 14.92,
            "count": 0
           },
           {
            "bin_start": 14.92,
            "bin_end": 16.48,
            "count": 1
           },
           {
            "bin_start": 16.48,
            "bin_end": 18.04,
            "count": 0
           },
           {
            "bin_start": 18.04,
            "bin_end": 19.6,
            "count": 1
           }
          ]
         }
        },
        {
         "name": "area_living",
         "dtype": "float64",
         "stats": {
          "unique_count": 5,
          "nan_count": 0,
          "min": "11.2",
          "max": "55.56",
          "histogram": [
           {
            "bin_start": 11.2,
            "bin_end": 15.636,
            "count": 1
           },
           {
            "bin_start": 15.636,
            "bin_end": 20.072,
            "count": 1
           },
           {
            "bin_start": 20.072,
            "bin_end": 24.508,
            "count": 0
           },
           {
            "bin_start": 24.508,
            "bin_end": 28.944,
            "count": 0
           },
           {
            "bin_start": 28.944,
            "bin_end": 33.379999999999995,
            "count": 1
           },
           {
            "bin_start": 33.379999999999995,
            "bin_end": 37.816,
            "count": 0
           },
           {
            "bin_start": 37.816,
            "bin_end": 42.251999999999995,
            "count": 0
           },
           {
            "bin_start": 42.251999999999995,
            "bin_end": 46.688,
            "count": 0
           },
           {
            "bin_start": 46.688,
            "bin_end": 51.123999999999995,
            "count": 1
           },
           {
            "bin_start": 51.123999999999995,
            "bin_end": 55.56,
            "count": 1
           }
          ]
         }
        },
        {
         "name": "floor",
         "dtype": "int64",
         "stats": {
          "unique_count": 5,
          "nan_count": 0,
          "min": "2",
          "max": "14",
          "histogram": [
           {
            "bin_start": 2,
            "bin_end": 3.2,
            "count": 1
           },
           {
            "bin_start": 3.2,
            "bin_end": 4.4,
            "count": 1
           },
           {
            "bin_start": 4.4,
            "bin_end": 5.6,
            "count": 1
           },
           {
            "bin_start": 5.6,
            "bin_end": 6.8,
            "count": 0
           },
           {
            "bin_start": 6.8,
            "bin_end": 8,
            "count": 0
           },
           {
            "bin_start": 8,
            "bin_end": 9.2,
            "count": 0
           },
           {
            "bin_start": 9.2,
            "bin_end": 10.4,
            "count": 1
           },
           {
            "bin_start": 10.4,
            "bin_end": 11.6,
            "count": 0
           },
           {
            "bin_start": 11.6,
            "bin_end": 12.799999999999999,
            "count": 0
           },
           {
            "bin_start": 12.799999999999999,
            "bin_end": 14,
            "count": 1
           }
          ]
         }
        },
        {
         "name": "rooms",
         "dtype": "int64",
         "stats": {
          "unique_count": 2,
          "nan_count": 0,
          "min": "1",
          "max": "2",
          "histogram": [
           {
            "bin_start": 1,
            "bin_end": 1.1,
            "count": 4
           },
           {
            "bin_start": 1.1,
            "bin_end": 1.2,
            "count": 0
           },
           {
            "bin_start": 1.2,
            "bin_end": 1.3,
            "count": 0
           },
           {
            "bin_start": 1.3,
            "bin_end": 1.4,
            "count": 0
           },
           {
            "bin_start": 1.4,
            "bin_end": 1.5,
            "count": 0
           },
           {
            "bin_start": 1.5,
            "bin_end": 1.6,
            "count": 0
           },
           {
            "bin_start": 1.6,
            "bin_end": 1.7000000000000002,
            "count": 0
           },
           {
            "bin_start": 1.7000000000000002,
            "bin_end": 1.8,
            "count": 0
           },
           {
            "bin_start": 1.8,
            "bin_end": 1.9,
            "count": 0
           },
           {
            "bin_start": 1.9,
            "bin_end": 2,
            "count": 1
           }
          ]
         }
        },
        {
         "name": "layout",
         "dtype": "int64",
         "stats": {
          "unique_count": 1,
          "nan_count": 0,
          "min": "1",
          "max": "1",
          "histogram": [
           {
            "bin_start": 0.5,
            "bin_end": 0.6,
            "count": 0
           },
           {
            "bin_start": 0.6,
            "bin_end": 0.7,
            "count": 0
           },
           {
            "bin_start": 0.7,
            "bin_end": 0.8,
            "count": 0
           },
           {
            "bin_start": 0.8,
            "bin_end": 0.9,
            "count": 0
           },
           {
            "bin_start": 0.9,
            "bin_end": 1,
            "count": 0
           },
           {
            "bin_start": 1,
            "bin_end": 1.1,
            "count": 5
           },
           {
            "bin_start": 1.1,
            "bin_end": 1.2000000000000002,
            "count": 0
           },
           {
            "bin_start": 1.2000000000000002,
            "bin_end": 1.3,
            "count": 0
           },
           {
            "bin_start": 1.3,
            "bin_end": 1.4,
            "count": 0
           },
           {
            "bin_start": 1.4,
            "bin_end": 1.5,
            "count": 0
           }
          ]
         }
        },
        {
         "name": "windows_court",
         "dtype": "int64",
         "stats": {
          "unique_count": 2,
          "nan_count": 0,
          "min": "0",
          "max": "1",
          "histogram": [
           {
            "bin_start": 0,
            "bin_end": 0.1,
            "count": 1
           },
           {
            "bin_start": 0.1,
            "bin_end": 0.2,
            "count": 0
           },
           {
            "bin_start": 0.2,
            "bin_end": 0.30000000000000004,
            "count": 0
           },
           {
            "bin_start": 0.30000000000000004,
            "bin_end": 0.4,
            "count": 0
           },
           {
            "bin_start": 0.4,
            "bin_end": 0.5,
            "count": 0
           },
           {
            "bin_start": 0.5,
            "bin_end": 0.6000000000000001,
            "count": 0
           },
           {
            "bin_start": 0.6000000000000001,
            "bin_end": 0.7000000000000001,
            "count": 0
           },
           {
            "bin_start": 0.7000000000000001,
            "bin_end": 0.8,
            "count": 0
           },
           {
            "bin_start": 0.8,
            "bin_end": 0.9,
            "count": 0
           },
           {
            "bin_start": 0.9,
            "bin_end": 1,
            "count": 4
           }
          ]
         }
        },
        {
         "name": "windows_street",
         "dtype": "int64",
         "stats": {
          "unique_count": 2,
          "nan_count": 0,
          "min": "0",
          "max": "1",
          "histogram": [
           {
            "bin_start": 0,
            "bin_end": 0.1,
            "count": 4
           },
           {
            "bin_start": 0.1,
            "bin_end": 0.2,
            "count": 0
           },
           {
            "bin_start": 0.2,
            "bin_end": 0.30000000000000004,
            "count": 0
           },
           {
            "bin_start": 0.30000000000000004,
            "bin_end": 0.4,
            "count": 0
           },
           {
            "bin_start": 0.4,
            "bin_end": 0.5,
            "count": 0
           },
           {
            "bin_start": 0.5,
            "bin_end": 0.6000000000000001,
            "count": 0
           },
           {
            "bin_start": 0.6000000000000001,
            "bin_end": 0.7000000000000001,
            "count": 0
           },
           {
            "bin_start": 0.7000000000000001,
            "bin_end": 0.8,
            "count": 0
           },
           {
            "bin_start": 0.8,
            "bin_end": 0.9,
            "count": 0
           },
           {
            "bin_start": 0.9,
            "bin_end": 1,
            "count": 1
           }
          ]
         }
        },
        {
         "name": "balconies",
         "dtype": "int64",
         "stats": {
          "unique_count": 2,
          "nan_count": 0,
          "min": "0",
          "max": "1",
          "histogram": [
           {
            "bin_start": 0,
            "bin_end": 0.1,
            "count": 4
           },
           {
            "bin_start": 0.1,
            "bin_end": 0.2,
            "count": 0
           },
           {
            "bin_start": 0.2,
            "bin_end": 0.30000000000000004,
            "count": 0
           },
           {
            "bin_start": 0.30000000000000004,
            "bin_end": 0.4,
            "count": 0
           },
           {
            "bin_start": 0.4,
            "bin_end": 0.5,
            "count": 0
           },
           {
            "bin_start": 0.5,
            "bin_end": 0.6000000000000001,
            "count": 0
           },
           {
            "bin_start": 0.6000000000000001,
            "bin_end": 0.7000000000000001,
            "count": 0
           },
           {
            "bin_start": 0.7000000000000001,
            "bin_end": 0.8,
            "count": 0
           },
           {
            "bin_start": 0.8,
            "bin_end": 0.9,
            "count": 0
           },
           {
            "bin_start": 0.9,
            "bin_end": 1,
            "count": 1
           }
          ]
         }
        },
        {
         "name": "condition",
         "dtype": "int64",
         "stats": {
          "unique_count": 4,
          "nan_count": 0,
          "min": "0",
          "max": "3",
          "histogram": [
           {
            "bin_start": 0,
            "bin_end": 0.3,
            "count": 2
           },
           {
            "bin_start": 0.3,
            "bin_end": 0.6,
            "count": 0
           },
           {
            "bin_start": 0.6,
            "bin_end": 0.8999999999999999,
            "count": 0
           },
           {
            "bin_start": 0.8999999999999999,
            "bin_end": 1.2,
            "count": 1
           },
           {
            "bin_start": 1.2,
            "bin_end": 1.5,
            "count": 0
           },
           {
            "bin_start": 1.5,
            "bin_end": 1.7999999999999998,
            "count": 0
           },
           {
            "bin_start": 1.7999999999999998,
            "bin_end": 2.1,
            "count": 1
           },
           {
            "bin_start": 2.1,
            "bin_end": 2.4,
            "count": 0
           },
           {
            "bin_start": 2.4,
            "bin_end": 2.6999999999999997,
            "count": 0
           },
           {
            "bin_start": 2.6999999999999997,
            "bin_end": 3,
            "count": 1
           }
          ]
         }
        },
        {
         "name": "phones",
         "dtype": "int64",
         "stats": {
          "unique_count": 1,
          "nan_count": 0,
          "min": "1",
          "max": "1",
          "histogram": [
           {
            "bin_start": 0.5,
            "bin_end": 0.6,
            "count": 0
           },
           {
            "bin_start": 0.6,
            "bin_end": 0.7,
            "count": 0
           },
           {
            "bin_start": 0.7,
            "bin_end": 0.8,
            "count": 0
           },
           {
            "bin_start": 0.8,
            "bin_end": 0.9,
            "count": 0
           },
           {
            "bin_start": 0.9,
            "bin_end": 1,
            "count": 0
           },
           {
            "bin_start": 1,
            "bin_end": 1.1,
            "count": 5
           },
           {
            "bin_start": 1.1,
            "bin_end": 1.2000000000000002,
            "count": 0
           },
           {
            "bin_start": 1.2000000000000002,
            "bin_end": 1.3,
            "count": 0
           },
           {
            "bin_start": 1.3,
            "bin_end": 1.4,
            "count": 0
           },
           {
            "bin_start": 1.4,
            "bin_end": 1.5,
            "count": 0
           }
          ]
         }
        },
        {
         "name": "building_id",
         "dtype": "int64",
         "stats": {
          "unique_count": 5,
          "nan_count": 0,
          "min": "681",
          "max": "7530",
          "histogram": [
           {
            "bin_start": 681,
            "bin_end": 1365.9,
            "count": 2
           },
           {
            "bin_start": 1365.9,
            "bin_end": 2050.8,
            "count": 0
           },
           {
            "bin_start": 2050.8,
            "bin_end": 2735.7,
            "count": 0
           },
           {
            "bin_start": 2735.7,
            "bin_end": 3420.6,
            "count": 0
           },
           {
            "bin_start": 3420.6,
            "bin_end": 4105.5,
            "count": 0
           },
           {
            "bin_start": 4105.5,
            "bin_end": 4790.4,
            "count": 1
           },
           {
            "bin_start": 4790.4,
            "bin_end": 5475.3,
            "count": 1
           },
           {
            "bin_start": 5475.3,
            "bin_end": 6160.2,
            "count": 0
           },
           {
            "bin_start": 6160.2,
            "bin_end": 6845.099999999999,
            "count": 0
           },
           {
            "bin_start": 6845.099999999999,
            "bin_end": 7530,
            "count": 1
           }
          ]
         }
        },
        {
         "name": "new",
         "dtype": "int64",
         "stats": {
          "unique_count": 2,
          "nan_count": 0,
          "min": "0",
          "max": "1",
          "histogram": [
           {
            "bin_start": 0,
            "bin_end": 0.1,
            "count": 4
           },
           {
            "bin_start": 0.1,
            "bin_end": 0.2,
            "count": 0
           },
           {
            "bin_start": 0.2,
            "bin_end": 0.30000000000000004,
            "count": 0
           },
           {
            "bin_start": 0.30000000000000004,
            "bin_end": 0.4,
            "count": 0
           },
           {
            "bin_start": 0.4,
            "bin_end": 0.5,
            "count": 0
           },
           {
            "bin_start": 0.5,
            "bin_end": 0.6000000000000001,
            "count": 0
           },
           {
            "bin_start": 0.6000000000000001,
            "bin_end": 0.7000000000000001,
            "count": 0
           },
           {
            "bin_start": 0.7000000000000001,
            "bin_end": 0.8,
            "count": 0
           },
           {
            "bin_start": 0.8,
            "bin_end": 0.9,
            "count": 0
           },
           {
            "bin_start": 0.9,
            "bin_end": 1,
            "count": 1
           }
          ]
         }
        },
        {
         "name": "district",
         "dtype": "int64",
         "stats": {
          "unique_count": 2,
          "nan_count": 0,
          "min": "0",
          "max": "11",
          "histogram": [
           {
            "bin_start": 0,
            "bin_end": 1.1,
            "count": 1
           },
           {
            "bin_start": 1.1,
            "bin_end": 2.2,
            "count": 0
           },
           {
            "bin_start": 2.2,
            "bin_end": 3.3000000000000003,
            "count": 0
           },
           {
            "bin_start": 3.3000000000000003,
            "bin_end": 4.4,
            "count": 0
           },
           {
            "bin_start": 4.4,
            "bin_end": 5.5,
            "count": 0
           },
           {
            "bin_start": 5.5,
            "bin_end": 6.6000000000000005,
            "count": 0
           },
           {
            "bin_start": 6.6000000000000005,
            "bin_end": 7.700000000000001,
            "count": 0
           },
           {
            "bin_start": 7.700000000000001,
            "bin_end": 8.8,
            "count": 0
           },
           {
            "bin_start": 8.8,
            "bin_end": 9.9,
            "count": 0
           },
           {
            "bin_start": 9.9,
            "bin_end": 11,
            "count": 4
           }
          ]
         }
        },
        {
         "name": "stories",
         "dtype": "int64",
         "stats": {
          "unique_count": 4,
          "nan_count": 0,
          "min": "9",
          "max": "20",
          "histogram": [
           {
            "bin_start": 9,
            "bin_end": 10.1,
            "count": 1
           },
           {
            "bin_start": 10.1,
            "bin_end": 11.2,
            "count": 0
           },
           {
            "bin_start": 11.2,
            "bin_end": 12.3,
            "count": 0
           },
           {
            "bin_start": 12.3,
            "bin_end": 13.4,
            "count": 0
           },
           {
            "bin_start": 13.4,
            "bin_end": 14.5,
            "count": 0
           },
           {
            "bin_start": 14.5,
            "bin_end": 15.600000000000001,
            "count": 1
           },
           {
            "bin_start": 15.600000000000001,
            "bin_end": 16.700000000000003,
            "count": 0
           },
           {
            "bin_start": 16.700000000000003,
            "bin_end": 17.8,
            "count": 2
           },
           {
            "bin_start": 17.8,
            "bin_end": 18.9,
            "count": 0
           },
           {
            "bin_start": 18.9,
            "bin_end": 20,
            "count": 1
           }
          ]
         }
        },
        {
         "name": "elevator_passenger",
         "dtype": "int64",
         "stats": {
          "unique_count": 1,
          "nan_count": 0,
          "min": "1",
          "max": "1",
          "histogram": [
           {
            "bin_start": 0.5,
            "bin_end": 0.6,
            "count": 0
           },
           {
            "bin_start": 0.6,
            "bin_end": 0.7,
            "count": 0
           },
           {
            "bin_start": 0.7,
            "bin_end": 0.8,
            "count": 0
           },
           {
            "bin_start": 0.8,
            "bin_end": 0.9,
            "count": 0
           },
           {
            "bin_start": 0.9,
            "bin_end": 1,
            "count": 0
           },
           {
            "bin_start": 1,
            "bin_end": 1.1,
            "count": 5
           },
           {
            "bin_start": 1.1,
            "bin_end": 1.2000000000000002,
            "count": 0
           },
           {
            "bin_start": 1.2000000000000002,
            "bin_end": 1.3,
            "count": 0
           },
           {
            "bin_start": 1.3,
            "bin_end": 1.4,
            "count": 0
           },
           {
            "bin_start": 1.4,
            "bin_end": 1.5,
            "count": 0
           }
          ]
         }
        },
        {
         "name": "elevator_service",
         "dtype": "int64",
         "stats": {
          "unique_count": 2,
          "nan_count": 0,
          "min": "0",
          "max": "1",
          "histogram": [
           {
            "bin_start": 0,
            "bin_end": 0.1,
            "count": 1
           },
           {
            "bin_start": 0.1,
            "bin_end": 0.2,
            "count": 0
           },
           {
            "bin_start": 0.2,
            "bin_end": 0.30000000000000004,
            "count": 0
           },
           {
            "bin_start": 0.30000000000000004,
            "bin_end": 0.4,
            "count": 0
           },
           {
            "bin_start": 0.4,
            "bin_end": 0.5,
            "count": 0
           },
           {
            "bin_start": 0.5,
            "bin_end": 0.6000000000000001,
            "count": 0
           },
           {
            "bin_start": 0.6000000000000001,
            "bin_end": 0.7000000000000001,
            "count": 0
           },
           {
            "bin_start": 0.7000000000000001,
            "bin_end": 0.8,
            "count": 0
           },
           {
            "bin_start": 0.8,
            "bin_end": 0.9,
            "count": 0
           },
           {
            "bin_start": 0.9,
            "bin_end": 1,
            "count": 4
           }
          ]
         }
        },
        {
         "name": "parking",
         "dtype": "int64",
         "stats": {
          "unique_count": 2,
          "nan_count": 0,
          "min": "0",
          "max": "1",
          "histogram": [
           {
            "bin_start": 0,
            "bin_end": 0.1,
            "count": 2
           },
           {
            "bin_start": 0.1,
            "bin_end": 0.2,
            "count": 0
           },
           {
            "bin_start": 0.2,
            "bin_end": 0.30000000000000004,
            "count": 0
           },
           {
            "bin_start": 0.30000000000000004,
            "bin_end": 0.4,
            "count": 0
           },
           {
            "bin_start": 0.4,
            "bin_end": 0.5,
            "count": 0
           },
           {
            "bin_start": 0.5,
            "bin_end": 0.6000000000000001,
            "count": 0
           },
           {
            "bin_start": 0.6000000000000001,
            "bin_end": 0.7000000000000001,
            "count": 0
           },
           {
            "bin_start": 0.7000000000000001,
            "bin_end": 0.8,
            "count": 0
           },
           {
            "bin_start": 0.8,
            "bin_end": 0.9,
            "count": 0
           },
           {
            "bin_start": 0.9,
            "bin_end": 1,
            "count": 3
           }
          ]
         }
        },
        {
         "name": "garbage_chute",
         "dtype": "int64",
         "stats": {
          "unique_count": 2,
          "nan_count": 0,
          "min": "0",
          "max": "1",
          "histogram": [
           {
            "bin_start": 0,
            "bin_end": 0.1,
            "count": 1
           },
           {
            "bin_start": 0.1,
            "bin_end": 0.2,
            "count": 0
           },
           {
            "bin_start": 0.2,
            "bin_end": 0.30000000000000004,
            "count": 0
           },
           {
            "bin_start": 0.30000000000000004,
            "bin_end": 0.4,
            "count": 0
           },
           {
            "bin_start": 0.4,
            "bin_end": 0.5,
            "count": 0
           },
           {
            "bin_start": 0.5,
            "bin_end": 0.6000000000000001,
            "count": 0
           },
           {
            "bin_start": 0.6000000000000001,
            "bin_end": 0.7000000000000001,
            "count": 0
           },
           {
            "bin_start": 0.7000000000000001,
            "bin_end": 0.8,
            "count": 0
           },
           {
            "bin_start": 0.8,
            "bin_end": 0.9,
            "count": 0
           },
           {
            "bin_start": 0.9,
            "bin_end": 1,
            "count": 4
           }
          ]
         }
        },
        {
         "name": "heating",
         "dtype": "int64",
         "stats": {
          "unique_count": 2,
          "nan_count": 0,
          "min": "0",
          "max": "3",
          "histogram": [
           {
            "bin_start": 0,
            "bin_end": 0.3,
            "count": 4
           },
           {
            "bin_start": 0.3,
            "bin_end": 0.6,
            "count": 0
           },
           {
            "bin_start": 0.6,
            "bin_end": 0.8999999999999999,
            "count": 0
           },
           {
            "bin_start": 0.8999999999999999,
            "bin_end": 1.2,
            "count": 0
           },
           {
            "bin_start": 1.2,
            "bin_end": 1.5,
            "count": 0
           },
           {
            "bin_start": 1.5,
            "bin_end": 1.7999999999999998,
            "count": 0
           },
           {
            "bin_start": 1.7999999999999998,
            "bin_end": 2.1,
            "count": 0
           },
           {
            "bin_start": 2.1,
            "bin_end": 2.4,
            "count": 0
           },
           {
            "bin_start": 2.4,
            "bin_end": 2.6999999999999997,
            "count": 0
           },
           {
            "bin_start": 2.6999999999999997,
            "bin_end": 3,
            "count": 1
           }
          ]
         }
        },
        {
         "name": "distance",
         "dtype": "float64",
         "stats": {
          "unique_count": 5,
          "nan_count": 0,
          "min": "0.05241097794355376",
          "max": "0.345584373087098",
          "histogram": [
           {
            "bin_start": 0.05241097794355376,
            "bin_end": 0.08172831745790818,
            "count": 1
           },
           {
            "bin_start": 0.08172831745790818,
            "bin_end": 0.11104565697226261,
            "count": 0
           },
           {
            "bin_start": 0.11104565697226261,
            "bin_end": 0.14036299648661704,
            "count": 0
           },
           {
            "bin_start": 0.14036299648661704,
            "bin_end": 0.16968033600097146,
            "count": 0
           },
           {
            "bin_start": 0.16968033600097146,
            "bin_end": 0.19899767551532588,
            "count": 0
           },
           {
            "bin_start": 0.19899767551532588,
            "bin_end": 0.22831501502968032,
            "count": 2
           },
           {
            "bin_start": 0.22831501502968032,
            "bin_end": 0.25763235454403477,
            "count": 1
           },
           {
            "bin_start": 0.25763235454403477,
            "bin_end": 0.28694969405838916,
            "count": 0
           },
           {
            "bin_start": 0.28694969405838916,
            "bin_end": 0.3162670335727436,
            "count": 0
           },
           {
            "bin_start": 0.3162670335727436,
            "bin_end": 0.345584373087098,
            "count": 1
           }
          ]
         }
        },
        {
         "name": "street",
         "dtype": "object",
         "stats": {
          "unique_count": 5,
          "nan_count": 0,
          "categories": [
           {
            "name": "2-я Черногрязская улица",
            "count": 1
           },
           {
            "name": "улица Сервантеса",
            "count": 1
           },
           {
            "name": "3 others",
            "count": 3
           }
          ]
         }
        },
        {
         "name": "_deepnote_index_column",
         "dtype": "int64"
        }
       ],
       "rows_top": [
        {
         "area_total": 71.4,
         "area_kitchen": 13.16,
         "area_living": 29.440000000000005,
         "floor": 2,
         "rooms": 1,
         "layout": 1,
         "windows_court": 1,
         "windows_street": 0,
         "balconies": 1,
         "condition": 0,
         "phones": 1,
         "building_id": 5148,
         "new": 0,
         "district": 0,
         "stories": 20,
         "elevator_passenger": 1,
         "elevator_service": 1,
         "parking": 1,
         "garbage_chute": 1,
         "heating": 0,
         "distance": 0.05241097794355376,
         "street": "2-я Черногрязская улица",
         "_deepnote_index_column": 0
        },
        {
         "area_total": 54,
         "area_kitchen": 4,
         "area_living": 50,
         "floor": 4,
         "rooms": 1,
         "layout": 1,
         "windows_court": 1,
         "windows_street": 0,
         "balconies": 0,
         "condition": 3,
         "phones": 1,
         "building_id": 1290,
         "new": 0,
         "district": 11,
         "stories": 15,
         "elevator_passenger": 1,
         "elevator_service": 1,
         "parking": 0,
         "garbage_chute": 0,
         "heating": 0,
         "distance": 0.21643576388850122,
         "street": "улица Сервантеса",
         "_deepnote_index_column": 1
        },
        {
         "area_total": 39.4,
         "area_kitchen": 19.6,
         "area_living": 11.2,
         "floor": 10,
         "rooms": 1,
         "layout": 1,
         "windows_court": 1,
         "windows_street": 0,
         "balconies": 0,
         "condition": 2,
         "phones": 1,
         "building_id": 681,
         "new": 1,
         "district": 11,
         "stories": 9,
         "elevator_passenger": 1,
         "elevator_service": 1,
         "parking": 1,
         "garbage_chute": 1,
         "heating": 0,
         "distance": 0.22887870545990124,
         "street": "Саларьево Парк ЖК",
         "_deepnote_index_column": 2
        },
        {
         "area_total": 60.9,
         "area_kitchen": 15.680000000000001,
         "area_living": 55.56,
         "floor": 5,
         "rooms": 2,
         "layout": 1,
         "windows_court": 0,
         "windows_street": 1,
         "balconies": 0,
         "condition": 0,
         "phones": 1,
         "building_id": 4261,
         "new": 0,
         "district": 11,
         "stories": 17,
         "elevator_passenger": 1,
         "elevator_service": 0,
         "parking": 0,
         "garbage_chute": 1,
         "heating": 3,
         "distance": 0.21739369540996625,
         "street": "улица Александры Монаховой",
         "_deepnote_index_column": 3
        },
        {
         "area_total": 34,
         "area_kitchen": 9,
         "area_living": 17,
         "floor": 14,
         "rooms": 1,
         "layout": 1,
         "windows_court": 1,
         "windows_street": 0,
         "balconies": 0,
         "condition": 1,
         "phones": 1,
         "building_id": 7530,
         "new": 0,
         "district": 11,
         "stories": 17,
         "elevator_passenger": 1,
         "elevator_service": 1,
         "parking": 1,
         "garbage_chute": 1,
         "heating": 0,
         "distance": 0.345584373087098,
         "street": "улица 3-я Нововатутинская",
         "_deepnote_index_column": 4
        }
       ],
       "rows_bottom": null
      },
      "text/plain": "   area_total  area_kitchen  area_living  floor  rooms  layout  windows_court  \\\n0        71.4         13.16        29.44      2      1       1              1   \n1        54.0          4.00        50.00      4      1       1              1   \n2        39.4         19.60        11.20     10      1       1              1   \n3        60.9         15.68        55.56      5      2       1              0   \n4        34.0          9.00        17.00     14      1       1              1   \n\n   windows_street  balconies  condition  ...  new  district  stories  \\\n0               0          1          0  ...    0         0       20   \n1               0          0          3  ...    0        11       15   \n2               0          0          2  ...    1        11        9   \n3               1          0          0  ...    0        11       17   \n4               0          0          1  ...    0        11       17   \n\n   elevator_passenger  elevator_service  parking  garbage_chute  heating  \\\n0                   1                 1        1              1        0   \n1                   1                 1        0              0        0   \n2                   1                 1        1              1        0   \n3                   1                 0        0              1        3   \n4                   1                 1        1              1        0   \n\n   distance                      street  \n0  0.052411     2-я Черногрязская улица  \n1  0.216436            улица Сервантеса  \n2  0.228879           Саларьево Парк ЖК  \n3  0.217394  улица Александры Монаховой  \n4  0.345584   улица 3-я Нововатутинская  \n\n[5 rows x 22 columns]",
      "text/html": "<div>\n<style scoped>\n    .dataframe tbody tr th:only-of-type {\n        vertical-align: middle;\n    }\n\n    .dataframe tbody tr th {\n        vertical-align: top;\n    }\n\n    .dataframe thead th {\n        text-align: right;\n    }\n</style>\n<table border=\"1\" class=\"dataframe\">\n  <thead>\n    <tr style=\"text-align: right;\">\n      <th></th>\n      <th>area_total</th>\n      <th>area_kitchen</th>\n      <th>area_living</th>\n      <th>floor</th>\n      <th>rooms</th>\n      <th>layout</th>\n      <th>windows_court</th>\n      <th>windows_street</th>\n      <th>balconies</th>\n      <th>condition</th>\n      <th>...</th>\n      <th>new</th>\n      <th>district</th>\n      <th>stories</th>\n      <th>elevator_passenger</th>\n      <th>elevator_service</th>\n      <th>parking</th>\n      <th>garbage_chute</th>\n      <th>heating</th>\n      <th>distance</th>\n      <th>street</th>\n    </tr>\n  </thead>\n  <tbody>\n    <tr>\n      <th>0</th>\n      <td>71.4</td>\n      <td>13.16</td>\n      <td>29.44</td>\n      <td>2</td>\n      <td>1</td>\n      <td>1</td>\n      <td>1</td>\n      <td>0</td>\n      <td>1</td>\n      <td>0</td>\n      <td>...</td>\n      <td>0</td>\n      <td>0</td>\n      <td>20</td>\n      <td>1</td>\n      <td>1</td>\n      <td>1</td>\n      <td>1</td>\n      <td>0</td>\n      <td>0.052411</td>\n      <td>2-я Черногрязская улица</td>\n    </tr>\n    <tr>\n      <th>1</th>\n      <td>54.0</td>\n      <td>4.00</td>\n      <td>50.00</td>\n      <td>4</td>\n      <td>1</td>\n      <td>1</td>\n      <td>1</td>\n      <td>0</td>\n      <td>0</td>\n      <td>3</td>\n      <td>...</td>\n      <td>0</td>\n      <td>11</td>\n      <td>15</td>\n      <td>1</td>\n      <td>1</td>\n      <td>0</td>\n      <td>0</td>\n      <td>0</td>\n      <td>0.216436</td>\n      <td>улица Сервантеса</td>\n    </tr>\n    <tr>\n      <th>2</th>\n      <td>39.4</td>\n      <td>19.60</td>\n      <td>11.20</td>\n      <td>10</td>\n      <td>1</td>\n      <td>1</td>\n      <td>1</td>\n      <td>0</td>\n      <td>0</td>\n      <td>2</td>\n      <td>...</td>\n      <td>1</td>\n      <td>11</td>\n      <td>9</td>\n      <td>1</td>\n      <td>1</td>\n      <td>1</td>\n      <td>1</td>\n      <td>0</td>\n      <td>0.228879</td>\n      <td>Саларьево Парк ЖК</td>\n    </tr>\n    <tr>\n      <th>3</th>\n      <td>60.9</td>\n      <td>15.68</td>\n      <td>55.56</td>\n      <td>5</td>\n      <td>2</td>\n      <td>1</td>\n      <td>0</td>\n      <td>1</td>\n      <td>0</td>\n      <td>0</td>\n      <td>...</td>\n      <td>0</td>\n      <td>11</td>\n      <td>17</td>\n      <td>1</td>\n      <td>0</td>\n      <td>0</td>\n      <td>1</td>\n      <td>3</td>\n      <td>0.217394</td>\n      <td>улица Александры Монаховой</td>\n    </tr>\n    <tr>\n      <th>4</th>\n      <td>34.0</td>\n      <td>9.00</td>\n      <td>17.00</td>\n      <td>14</td>\n      <td>1</td>\n      <td>1</td>\n      <td>1</td>\n      <td>0</td>\n      <td>0</td>\n      <td>1</td>\n      <td>...</td>\n      <td>0</td>\n      <td>11</td>\n      <td>17</td>\n      <td>1</td>\n      <td>1</td>\n      <td>1</td>\n      <td>1</td>\n      <td>0</td>\n      <td>0.345584</td>\n      <td>улица 3-я Нововатутинская</td>\n    </tr>\n  </tbody>\n</table>\n<p>5 rows × 22 columns</p>\n</div>"
     },
     "metadata": {}
    }
   ],
   "execution_count": null
  },
  {
   "cell_type": "code",
   "metadata": {
    "tags": [],
    "deepnote_to_be_reexecuted": false,
    "source_hash": "b1f3fed8",
    "execution_start": 1637350593017,
    "execution_millis": 60,
    "cell_id": "00032-3e5844ae-6e53-4cfd-8ced-c19f7c57f8be",
    "deepnote_cell_type": "code"
   },
   "source": "area_total_train = X_train.area_total.values\narea_total_val = X_val.area_total.values\nX_train = X_train.drop(['area_total'], axis=1)\nX_val = X_val.drop(['area_total'], axis=1)\nX_train.head()",
   "outputs": [
    {
     "output_type": "execute_result",
     "execution_count": 46,
     "data": {
      "application/vnd.deepnote.dataframe.v2+json": {
       "row_count": 5,
       "column_count": 21,
       "columns": [
        {
         "name": "area_kitchen",
         "dtype": "float64",
         "stats": {
          "unique_count": 5,
          "nan_count": 0,
          "min": "6.0",
          "max": "16.1",
          "histogram": [
           {
            "bin_start": 6,
            "bin_end": 7.01,
            "count": 1
           },
           {
            "bin_start": 7.01,
            "bin_end": 8.02,
            "count": 1
           },
           {
            "bin_start": 8.02,
            "bin_end": 9.030000000000001,
            "count": 0
           },
           {
            "bin_start": 9.030000000000001,
            "bin_end": 10.040000000000001,
            "count": 0
           },
           {
            "bin_start": 10.040000000000001,
            "bin_end": 11.05,
            "count": 0
           },
           {
            "bin_start": 11.05,
            "bin_end": 12.060000000000002,
            "count": 0
           },
           {
            "bin_start": 12.060000000000002,
            "bin_end": 13.070000000000002,
            "count": 1
           },
           {
            "bin_start": 13.070000000000002,
            "bin_end": 14.080000000000002,
            "count": 0
           },
           {
            "bin_start": 14.080000000000002,
            "bin_end": 15.090000000000002,
            "count": 1
           },
           {
            "bin_start": 15.090000000000002,
            "bin_end": 16.1,
            "count": 1
           }
          ]
         }
        },
        {
         "name": "area_living",
         "dtype": "float64",
         "stats": {
          "unique_count": 5,
          "nan_count": 0,
          "min": "15.7",
          "max": "33.0",
          "histogram": [
           {
            "bin_start": 15.7,
            "bin_end": 17.43,
            "count": 1
           },
           {
            "bin_start": 17.43,
            "bin_end": 19.16,
            "count": 0
           },
           {
            "bin_start": 19.16,
            "bin_end": 20.89,
            "count": 0
           },
           {
            "bin_start": 20.89,
            "bin_end": 22.619999999999997,
            "count": 0
           },
           {
            "bin_start": 22.619999999999997,
            "bin_end": 24.35,
            "count": 0
           },
           {
            "bin_start": 24.35,
            "bin_end": 26.08,
            "count": 0
           },
           {
            "bin_start": 26.08,
            "bin_end": 27.81,
            "count": 1
           },
           {
            "bin_start": 27.81,
            "bin_end": 29.54,
            "count": 1
           },
           {
            "bin_start": 29.54,
            "bin_end": 31.27,
            "count": 1
           },
           {
            "bin_start": 31.27,
            "bin_end": 33,
            "count": 1
           }
          ]
         }
        },
        {
         "name": "floor",
         "dtype": "int64",
         "stats": {
          "unique_count": 4,
          "nan_count": 0,
          "min": "3",
          "max": "18",
          "histogram": [
           {
            "bin_start": 3,
            "bin_end": 4.5,
            "count": 2
           },
           {
            "bin_start": 4.5,
            "bin_end": 6,
            "count": 0
           },
           {
            "bin_start": 6,
            "bin_end": 7.5,
            "count": 0
           },
           {
            "bin_start": 7.5,
            "bin_end": 9,
            "count": 0
           },
           {
            "bin_start": 9,
            "bin_end": 10.5,
            "count": 1
           },
           {
            "bin_start": 10.5,
            "bin_end": 12,
            "count": 0
           },
           {
            "bin_start": 12,
            "bin_end": 13.5,
            "count": 0
           },
           {
            "bin_start": 13.5,
            "bin_end": 15,
            "count": 1
           },
           {
            "bin_start": 15,
            "bin_end": 16.5,
            "count": 0
           },
           {
            "bin_start": 16.5,
            "bin_end": 18,
            "count": 1
           }
          ]
         }
        },
        {
         "name": "rooms",
         "dtype": "int64",
         "stats": {
          "unique_count": 2,
          "nan_count": 0,
          "min": "1",
          "max": "2",
          "histogram": [
           {
            "bin_start": 1,
            "bin_end": 1.1,
            "count": 1
           },
           {
            "bin_start": 1.1,
            "bin_end": 1.2,
            "count": 0
           },
           {
            "bin_start": 1.2,
            "bin_end": 1.3,
            "count": 0
           },
           {
            "bin_start": 1.3,
            "bin_end": 1.4,
            "count": 0
           },
           {
            "bin_start": 1.4,
            "bin_end": 1.5,
            "count": 0
           },
           {
            "bin_start": 1.5,
            "bin_end": 1.6,
            "count": 0
           },
           {
            "bin_start": 1.6,
            "bin_end": 1.7000000000000002,
            "count": 0
           },
           {
            "bin_start": 1.7000000000000002,
            "bin_end": 1.8,
            "count": 0
           },
           {
            "bin_start": 1.8,
            "bin_end": 1.9,
            "count": 0
           },
           {
            "bin_start": 1.9,
            "bin_end": 2,
            "count": 4
           }
          ]
         }
        },
        {
         "name": "layout",
         "dtype": "int64",
         "stats": {
          "unique_count": 1,
          "nan_count": 0,
          "min": "1",
          "max": "1",
          "histogram": [
           {
            "bin_start": 0.5,
            "bin_end": 0.6,
            "count": 0
           },
           {
            "bin_start": 0.6,
            "bin_end": 0.7,
            "count": 0
           },
           {
            "bin_start": 0.7,
            "bin_end": 0.8,
            "count": 0
           },
           {
            "bin_start": 0.8,
            "bin_end": 0.9,
            "count": 0
           },
           {
            "bin_start": 0.9,
            "bin_end": 1,
            "count": 0
           },
           {
            "bin_start": 1,
            "bin_end": 1.1,
            "count": 5
           },
           {
            "bin_start": 1.1,
            "bin_end": 1.2000000000000002,
            "count": 0
           },
           {
            "bin_start": 1.2000000000000002,
            "bin_end": 1.3,
            "count": 0
           },
           {
            "bin_start": 1.3,
            "bin_end": 1.4,
            "count": 0
           },
           {
            "bin_start": 1.4,
            "bin_end": 1.5,
            "count": 0
           }
          ]
         }
        },
        {
         "name": "windows_court",
         "dtype": "int64",
         "stats": {
          "unique_count": 2,
          "nan_count": 0,
          "min": "0",
          "max": "1",
          "histogram": [
           {
            "bin_start": 0,
            "bin_end": 0.1,
            "count": 1
           },
           {
            "bin_start": 0.1,
            "bin_end": 0.2,
            "count": 0
           },
           {
            "bin_start": 0.2,
            "bin_end": 0.30000000000000004,
            "count": 0
           },
           {
            "bin_start": 0.30000000000000004,
            "bin_end": 0.4,
            "count": 0
           },
           {
            "bin_start": 0.4,
            "bin_end": 0.5,
            "count": 0
           },
           {
            "bin_start": 0.5,
            "bin_end": 0.6000000000000001,
            "count": 0
           },
           {
            "bin_start": 0.6000000000000001,
            "bin_end": 0.7000000000000001,
            "count": 0
           },
           {
            "bin_start": 0.7000000000000001,
            "bin_end": 0.8,
            "count": 0
           },
           {
            "bin_start": 0.8,
            "bin_end": 0.9,
            "count": 0
           },
           {
            "bin_start": 0.9,
            "bin_end": 1,
            "count": 4
           }
          ]
         }
        },
        {
         "name": "windows_street",
         "dtype": "int64",
         "stats": {
          "unique_count": 2,
          "nan_count": 0,
          "min": "0",
          "max": "1",
          "histogram": [
           {
            "bin_start": 0,
            "bin_end": 0.1,
            "count": 3
           },
           {
            "bin_start": 0.1,
            "bin_end": 0.2,
            "count": 0
           },
           {
            "bin_start": 0.2,
            "bin_end": 0.30000000000000004,
            "count": 0
           },
           {
            "bin_start": 0.30000000000000004,
            "bin_end": 0.4,
            "count": 0
           },
           {
            "bin_start": 0.4,
            "bin_end": 0.5,
            "count": 0
           },
           {
            "bin_start": 0.5,
            "bin_end": 0.6000000000000001,
            "count": 0
           },
           {
            "bin_start": 0.6000000000000001,
            "bin_end": 0.7000000000000001,
            "count": 0
           },
           {
            "bin_start": 0.7000000000000001,
            "bin_end": 0.8,
            "count": 0
           },
           {
            "bin_start": 0.8,
            "bin_end": 0.9,
            "count": 0
           },
           {
            "bin_start": 0.9,
            "bin_end": 1,
            "count": 2
           }
          ]
         }
        },
        {
         "name": "balconies",
         "dtype": "int64",
         "stats": {
          "unique_count": 2,
          "nan_count": 0,
          "min": "0",
          "max": "1",
          "histogram": [
           {
            "bin_start": 0,
            "bin_end": 0.1,
            "count": 1
           },
           {
            "bin_start": 0.1,
            "bin_end": 0.2,
            "count": 0
           },
           {
            "bin_start": 0.2,
            "bin_end": 0.30000000000000004,
            "count": 0
           },
           {
            "bin_start": 0.30000000000000004,
            "bin_end": 0.4,
            "count": 0
           },
           {
            "bin_start": 0.4,
            "bin_end": 0.5,
            "count": 0
           },
           {
            "bin_start": 0.5,
            "bin_end": 0.6000000000000001,
            "count": 0
           },
           {
            "bin_start": 0.6000000000000001,
            "bin_end": 0.7000000000000001,
            "count": 0
           },
           {
            "bin_start": 0.7000000000000001,
            "bin_end": 0.8,
            "count": 0
           },
           {
            "bin_start": 0.8,
            "bin_end": 0.9,
            "count": 0
           },
           {
            "bin_start": 0.9,
            "bin_end": 1,
            "count": 4
           }
          ]
         }
        },
        {
         "name": "condition",
         "dtype": "int64",
         "stats": {
          "unique_count": 2,
          "nan_count": 0,
          "min": "0",
          "max": "1",
          "histogram": [
           {
            "bin_start": 0,
            "bin_end": 0.1,
            "count": 2
           },
           {
            "bin_start": 0.1,
            "bin_end": 0.2,
            "count": 0
           },
           {
            "bin_start": 0.2,
            "bin_end": 0.30000000000000004,
            "count": 0
           },
           {
            "bin_start": 0.30000000000000004,
            "bin_end": 0.4,
            "count": 0
           },
           {
            "bin_start": 0.4,
            "bin_end": 0.5,
            "count": 0
           },
           {
            "bin_start": 0.5,
            "bin_end": 0.6000000000000001,
            "count": 0
           },
           {
            "bin_start": 0.6000000000000001,
            "bin_end": 0.7000000000000001,
            "count": 0
           },
           {
            "bin_start": 0.7000000000000001,
            "bin_end": 0.8,
            "count": 0
           },
           {
            "bin_start": 0.8,
            "bin_end": 0.9,
            "count": 0
           },
           {
            "bin_start": 0.9,
            "bin_end": 1,
            "count": 3
           }
          ]
         }
        },
        {
         "name": "phones",
         "dtype": "int64",
         "stats": {
          "unique_count": 2,
          "nan_count": 0,
          "min": "1",
          "max": "2",
          "histogram": [
           {
            "bin_start": 1,
            "bin_end": 1.1,
            "count": 4
           },
           {
            "bin_start": 1.1,
            "bin_end": 1.2,
            "count": 0
           },
           {
            "bin_start": 1.2,
            "bin_end": 1.3,
            "count": 0
           },
           {
            "bin_start": 1.3,
            "bin_end": 1.4,
            "count": 0
           },
           {
            "bin_start": 1.4,
            "bin_end": 1.5,
            "count": 0
           },
           {
            "bin_start": 1.5,
            "bin_end": 1.6,
            "count": 0
           },
           {
            "bin_start": 1.6,
            "bin_end": 1.7000000000000002,
            "count": 0
           },
           {
            "bin_start": 1.7000000000000002,
            "bin_end": 1.8,
            "count": 0
           },
           {
            "bin_start": 1.8,
            "bin_end": 1.9,
            "count": 0
           },
           {
            "bin_start": 1.9,
            "bin_end": 2,
            "count": 1
           }
          ]
         }
        },
        {
         "name": "building_id",
         "dtype": "int64",
         "stats": {
          "unique_count": 5,
          "nan_count": 0,
          "min": "528",
          "max": "9636",
          "histogram": [
           {
            "bin_start": 528,
            "bin_end": 1438.8,
            "count": 2
           },
           {
            "bin_start": 1438.8,
            "bin_end": 2349.6,
            "count": 1
           },
           {
            "bin_start": 2349.6,
            "bin_end": 3260.3999999999996,
            "count": 0
           },
           {
            "bin_start": 3260.3999999999996,
            "bin_end": 4171.2,
            "count": 0
           },
           {
            "bin_start": 4171.2,
            "bin_end": 5082,
            "count": 0
           },
           {
            "bin_start": 5082,
            "bin_end": 5992.799999999999,
            "count": 0
           },
           {
            "bin_start": 5992.799999999999,
            "bin_end": 6903.599999999999,
            "count": 0
           },
           {
            "bin_start": 6903.599999999999,
            "bin_end": 7814.4,
            "count": 1
           },
           {
            "bin_start": 7814.4,
            "bin_end": 8725.199999999999,
            "count": 0
           },
           {
            "bin_start": 8725.199999999999,
            "bin_end": 9636,
            "count": 1
           }
          ]
         }
        },
        {
         "name": "new",
         "dtype": "int64",
         "stats": {
          "unique_count": 2,
          "nan_count": 0,
          "min": "0",
          "max": "1",
          "histogram": [
           {
            "bin_start": 0,
            "bin_end": 0.1,
            "count": 3
           },
           {
            "bin_start": 0.1,
            "bin_end": 0.2,
            "count": 0
           },
           {
            "bin_start": 0.2,
            "bin_end": 0.30000000000000004,
            "count": 0
           },
           {
            "bin_start": 0.30000000000000004,
            "bin_end": 0.4,
            "count": 0
           },
           {
            "bin_start": 0.4,
            "bin_end": 0.5,
            "count": 0
           },
           {
            "bin_start": 0.5,
            "bin_end": 0.6000000000000001,
            "count": 0
           },
           {
            "bin_start": 0.6000000000000001,
            "bin_end": 0.7000000000000001,
            "count": 0
           },
           {
            "bin_start": 0.7000000000000001,
            "bin_end": 0.8,
            "count": 0
           },
           {
            "bin_start": 0.8,
            "bin_end": 0.9,
            "count": 0
           },
           {
            "bin_start": 0.9,
            "bin_end": 1,
            "count": 2
           }
          ]
         }
        },
        {
         "name": "district",
         "dtype": "int64",
         "stats": {
          "unique_count": 5,
          "nan_count": 0,
          "min": "2",
          "max": "11",
          "histogram": [
           {
            "bin_start": 2,
            "bin_end": 2.9,
            "count": 1
           },
           {
            "bin_start": 2.9,
            "bin_end": 3.8,
            "count": 0
           },
           {
            "bin_start": 3.8,
            "bin_end": 4.7,
            "count": 1
           },
           {
            "bin_start": 4.7,
            "bin_end": 5.6,
            "count": 0
           },
           {
            "bin_start": 5.6,
            "bin_end": 6.5,
            "count": 1
           },
           {
            "bin_start": 6.5,
            "bin_end": 7.4,
            "count": 0
           },
           {
            "bin_start": 7.4,
            "bin_end": 8.3,
            "count": 1
           },
           {
            "bin_start": 8.3,
            "bin_end": 9.2,
            "count": 0
           },
           {
            "bin_start": 9.2,
            "bin_end": 10.1,
            "count": 0
           },
           {
            "bin_start": 10.1,
            "bin_end": 11,
            "count": 1
           }
          ]
         }
        },
        {
         "name": "stories",
         "dtype": "int64",
         "stats": {
          "unique_count": 4,
          "nan_count": 0,
          "min": "9",
          "max": "20",
          "histogram": [
           {
            "bin_start": 9,
            "bin_end": 10.1,
            "count": 1
           },
           {
            "bin_start": 10.1,
            "bin_end": 11.2,
            "count": 0
           },
           {
            "bin_start": 11.2,
            "bin_end": 12.3,
            "count": 0
           },
           {
            "bin_start": 12.3,
            "bin_end": 13.4,
            "count": 0
           },
           {
            "bin_start": 13.4,
            "bin_end": 14.5,
            "count": 1
           },
           {
            "bin_start": 14.5,
            "bin_end": 15.600000000000001,
            "count": 0
           },
           {
            "bin_start": 15.600000000000001,
            "bin_end": 16.700000000000003,
            "count": 0
           },
           {
            "bin_start": 16.700000000000003,
            "bin_end": 17.8,
            "count": 1
           },
           {
            "bin_start": 17.8,
            "bin_end": 18.9,
            "count": 0
           },
           {
            "bin_start": 18.9,
            "bin_end": 20,
            "count": 2
           }
          ]
         }
        },
        {
         "name": "elevator_passenger",
         "dtype": "int64",
         "stats": {
          "unique_count": 1,
          "nan_count": 0,
          "min": "1",
          "max": "1",
          "histogram": [
           {
            "bin_start": 0.5,
            "bin_end": 0.6,
            "count": 0
           },
           {
            "bin_start": 0.6,
            "bin_end": 0.7,
            "count": 0
           },
           {
            "bin_start": 0.7,
            "bin_end": 0.8,
            "count": 0
           },
           {
            "bin_start": 0.8,
            "bin_end": 0.9,
            "count": 0
           },
           {
            "bin_start": 0.9,
            "bin_end": 1,
            "count": 0
           },
           {
            "bin_start": 1,
            "bin_end": 1.1,
            "count": 5
           },
           {
            "bin_start": 1.1,
            "bin_end": 1.2000000000000002,
            "count": 0
           },
           {
            "bin_start": 1.2000000000000002,
            "bin_end": 1.3,
            "count": 0
           },
           {
            "bin_start": 1.3,
            "bin_end": 1.4,
            "count": 0
           },
           {
            "bin_start": 1.4,
            "bin_end": 1.5,
            "count": 0
           }
          ]
         }
        },
        {
         "name": "elevator_service",
         "dtype": "int64",
         "stats": {
          "unique_count": 2,
          "nan_count": 0,
          "min": "0",
          "max": "1",
          "histogram": [
           {
            "bin_start": 0,
            "bin_end": 0.1,
            "count": 1
           },
           {
            "bin_start": 0.1,
            "bin_end": 0.2,
            "count": 0
           },
           {
            "bin_start": 0.2,
            "bin_end": 0.30000000000000004,
            "count": 0
           },
           {
            "bin_start": 0.30000000000000004,
            "bin_end": 0.4,
            "count": 0
           },
           {
            "bin_start": 0.4,
            "bin_end": 0.5,
            "count": 0
           },
           {
            "bin_start": 0.5,
            "bin_end": 0.6000000000000001,
            "count": 0
           },
           {
            "bin_start": 0.6000000000000001,
            "bin_end": 0.7000000000000001,
            "count": 0
           },
           {
            "bin_start": 0.7000000000000001,
            "bin_end": 0.8,
            "count": 0
           },
           {
            "bin_start": 0.8,
            "bin_end": 0.9,
            "count": 0
           },
           {
            "bin_start": 0.9,
            "bin_end": 1,
            "count": 4
           }
          ]
         }
        },
        {
         "name": "parking",
         "dtype": "int64",
         "stats": {
          "unique_count": 2,
          "nan_count": 0,
          "min": "0",
          "max": "1",
          "histogram": [
           {
            "bin_start": 0,
            "bin_end": 0.1,
            "count": 1
           },
           {
            "bin_start": 0.1,
            "bin_end": 0.2,
            "count": 0
           },
           {
            "bin_start": 0.2,
            "bin_end": 0.30000000000000004,
            "count": 0
           },
           {
            "bin_start": 0.30000000000000004,
            "bin_end": 0.4,
            "count": 0
           },
           {
            "bin_start": 0.4,
            "bin_end": 0.5,
            "count": 0
           },
           {
            "bin_start": 0.5,
            "bin_end": 0.6000000000000001,
            "count": 0
           },
           {
            "bin_start": 0.6000000000000001,
            "bin_end": 0.7000000000000001,
            "count": 0
           },
           {
            "bin_start": 0.7000000000000001,
            "bin_end": 0.8,
            "count": 0
           },
           {
            "bin_start": 0.8,
            "bin_end": 0.9,
            "count": 0
           },
           {
            "bin_start": 0.9,
            "bin_end": 1,
            "count": 4
           }
          ]
         }
        },
        {
         "name": "garbage_chute",
         "dtype": "int64",
         "stats": {
          "unique_count": 1,
          "nan_count": 0,
          "min": "1",
          "max": "1",
          "histogram": [
           {
            "bin_start": 0.5,
            "bin_end": 0.6,
            "count": 0
           },
           {
            "bin_start": 0.6,
            "bin_end": 0.7,
            "count": 0
           },
           {
            "bin_start": 0.7,
            "bin_end": 0.8,
            "count": 0
           },
           {
            "bin_start": 0.8,
            "bin_end": 0.9,
            "count": 0
           },
           {
            "bin_start": 0.9,
            "bin_end": 1,
            "count": 0
           },
           {
            "bin_start": 1,
            "bin_end": 1.1,
            "count": 5
           },
           {
            "bin_start": 1.1,
            "bin_end": 1.2000000000000002,
            "count": 0
           },
           {
            "bin_start": 1.2000000000000002,
            "bin_end": 1.3,
            "count": 0
           },
           {
            "bin_start": 1.3,
            "bin_end": 1.4,
            "count": 0
           },
           {
            "bin_start": 1.4,
            "bin_end": 1.5,
            "count": 0
           }
          ]
         }
        },
        {
         "name": "heating",
         "dtype": "int64",
         "stats": {
          "unique_count": 1,
          "nan_count": 0,
          "min": "0",
          "max": "0",
          "histogram": [
           {
            "bin_start": -0.5,
            "bin_end": -0.4,
            "count": 0
           },
           {
            "bin_start": -0.4,
            "bin_end": -0.3,
            "count": 0
           },
           {
            "bin_start": -0.3,
            "bin_end": -0.19999999999999996,
            "count": 0
           },
           {
            "bin_start": -0.19999999999999996,
            "bin_end": -0.09999999999999998,
            "count": 0
           },
           {
            "bin_start": -0.09999999999999998,
            "bin_end": 0,
            "count": 0
           },
           {
            "bin_start": 0,
            "bin_end": 0.10000000000000009,
            "count": 5
           },
           {
            "bin_start": 0.10000000000000009,
            "bin_end": 0.20000000000000007,
            "count": 0
           },
           {
            "bin_start": 0.20000000000000007,
            "bin_end": 0.30000000000000004,
            "count": 0
           },
           {
            "bin_start": 0.30000000000000004,
            "bin_end": 0.4,
            "count": 0
           },
           {
            "bin_start": 0.4,
            "bin_end": 0.5,
            "count": 0
           }
          ]
         }
        },
        {
         "name": "distance",
         "dtype": "float64",
         "stats": {
          "unique_count": 5,
          "nan_count": 0,
          "min": "0.10353336320722606",
          "max": "0.34992914625249233",
          "histogram": [
           {
            "bin_start": 0.10353336320722606,
            "bin_end": 0.12817294151175268,
            "count": 2
           },
           {
            "bin_start": 0.12817294151175268,
            "bin_end": 0.1528125198162793,
            "count": 1
           },
           {
            "bin_start": 0.1528125198162793,
            "bin_end": 0.17745209812080595,
            "count": 0
           },
           {
            "bin_start": 0.17745209812080595,
            "bin_end": 0.20209167642533257,
            "count": 0
           },
           {
            "bin_start": 0.20209167642533257,
            "bin_end": 0.2267312547298592,
            "count": 1
           },
           {
            "bin_start": 0.2267312547298592,
            "bin_end": 0.25137083303438584,
            "count": 0
           },
           {
            "bin_start": 0.25137083303438584,
            "bin_end": 0.27601041133891246,
            "count": 0
           },
           {
            "bin_start": 0.27601041133891246,
            "bin_end": 0.3006499896434391,
            "count": 0
           },
           {
            "bin_start": 0.3006499896434391,
            "bin_end": 0.3252895679479657,
            "count": 0
           },
           {
            "bin_start": 0.3252895679479657,
            "bin_end": 0.34992914625249233,
            "count": 1
           }
          ]
         }
        },
        {
         "name": "street",
         "dtype": "object",
         "stats": {
          "unique_count": 5,
          "nan_count": 0,
          "categories": [
           {
            "name": "Скандинавия ЖК",
            "count": 1
           },
           {
            "name": "улица Вертолетчиков",
            "count": 1
           },
           {
            "name": "3 others",
            "count": 3
           }
          ]
         }
        },
        {
         "name": "_deepnote_index_column",
         "dtype": "int64"
        }
       ],
       "rows_top": [
        {
         "area_kitchen": 16.1,
         "area_living": 28.2,
         "floor": 3,
         "rooms": 2,
         "layout": 1,
         "windows_court": 1,
         "windows_street": 0,
         "balconies": 0,
         "condition": 1,
         "phones": 1,
         "building_id": 1602,
         "new": 1,
         "district": 11,
         "stories": 14,
         "elevator_passenger": 1,
         "elevator_service": 1,
         "parking": 0,
         "garbage_chute": 1,
         "heating": 0,
         "distance": 0.20941892997768477,
         "street": "Скандинавия ЖК",
         "_deepnote_index_column": 8161
        },
        {
         "area_kitchen": 7.8,
         "area_living": 15.7,
         "floor": 10,
         "rooms": 1,
         "layout": 1,
         "windows_court": 1,
         "windows_street": 0,
         "balconies": 1,
         "condition": 0,
         "phones": 1,
         "building_id": 1167,
         "new": 0,
         "district": 4,
         "stories": 17,
         "elevator_passenger": 1,
         "elevator_service": 1,
         "parking": 1,
         "garbage_chute": 1,
         "heating": 0,
         "distance": 0.34992914625249233,
         "street": "улица Вертолетчиков",
         "_deepnote_index_column": 10138
        },
        {
         "area_kitchen": 6,
         "area_living": 30,
         "floor": 3,
         "rooms": 2,
         "layout": 1,
         "windows_court": 0,
         "windows_street": 1,
         "balconies": 1,
         "condition": 1,
         "phones": 1,
         "building_id": 528,
         "new": 0,
         "district": 6,
         "stories": 9,
         "elevator_passenger": 1,
         "elevator_service": 0,
         "parking": 1,
         "garbage_chute": 1,
         "heating": 0,
         "distance": 0.14123842098381778,
         "street": "улица Островитянова",
         "_deepnote_index_column": 4845
        },
        {
         "area_kitchen": 12.4,
         "area_living": 33,
         "floor": 18,
         "rooms": 2,
         "layout": 1,
         "windows_court": 1,
         "windows_street": 1,
         "balconies": 1,
         "condition": 0,
         "phones": 2,
         "building_id": 9636,
         "new": 0,
         "district": 2,
         "stories": 20,
         "elevator_passenger": 1,
         "elevator_service": 1,
         "parking": 1,
         "garbage_chute": 1,
         "heating": 0,
         "distance": 0.10353336320722606,
         "street": "Нововладыкинский проезд",
         "_deepnote_index_column": 7189
        },
        {
         "area_kitchen": 14.4,
         "area_living": 27.1,
         "floor": 14,
         "rooms": 2,
         "layout": 1,
         "windows_court": 1,
         "windows_street": 0,
         "balconies": 1,
         "condition": 1,
         "phones": 1,
         "building_id": 7644,
         "new": 1,
         "district": 8,
         "stories": 20,
         "elevator_passenger": 1,
         "elevator_service": 1,
         "parking": 1,
         "garbage_chute": 1,
         "heating": 0,
         "distance": 0.10843678079415796,
         "street": "3-я Хорошевская улица",
         "_deepnote_index_column": 14728
        }
       ],
       "rows_bottom": null
      },
      "text/plain": "       area_kitchen  area_living  floor  rooms  layout  windows_court  \\\n8161           16.1         28.2      3      2       1              1   \n10138           7.8         15.7     10      1       1              1   \n4845            6.0         30.0      3      2       1              0   \n7189           12.4         33.0     18      2       1              1   \n14728          14.4         27.1     14      2       1              1   \n\n       windows_street  balconies  condition  phones  ...  new  district  \\\n8161                0          0          1       1  ...    1        11   \n10138               0          1          0       1  ...    0         4   \n4845                1          1          1       1  ...    0         6   \n7189                1          1          0       2  ...    0         2   \n14728               0          1          1       1  ...    1         8   \n\n       stories  elevator_passenger  elevator_service  parking  garbage_chute  \\\n8161        14                   1                 1        0              1   \n10138       17                   1                 1        1              1   \n4845         9                   1                 0        1              1   \n7189        20                   1                 1        1              1   \n14728       20                   1                 1        1              1   \n\n       heating  distance                   street  \n8161         0  0.209419           Скандинавия ЖК  \n10138        0  0.349929      улица Вертолетчиков  \n4845         0  0.141238      улица Островитянова  \n7189         0  0.103533  Нововладыкинский проезд  \n14728        0  0.108437    3-я Хорошевская улица  \n\n[5 rows x 21 columns]",
      "text/html": "<div>\n<style scoped>\n    .dataframe tbody tr th:only-of-type {\n        vertical-align: middle;\n    }\n\n    .dataframe tbody tr th {\n        vertical-align: top;\n    }\n\n    .dataframe thead th {\n        text-align: right;\n    }\n</style>\n<table border=\"1\" class=\"dataframe\">\n  <thead>\n    <tr style=\"text-align: right;\">\n      <th></th>\n      <th>area_kitchen</th>\n      <th>area_living</th>\n      <th>floor</th>\n      <th>rooms</th>\n      <th>layout</th>\n      <th>windows_court</th>\n      <th>windows_street</th>\n      <th>balconies</th>\n      <th>condition</th>\n      <th>phones</th>\n      <th>...</th>\n      <th>new</th>\n      <th>district</th>\n      <th>stories</th>\n      <th>elevator_passenger</th>\n      <th>elevator_service</th>\n      <th>parking</th>\n      <th>garbage_chute</th>\n      <th>heating</th>\n      <th>distance</th>\n      <th>street</th>\n    </tr>\n  </thead>\n  <tbody>\n    <tr>\n      <th>8161</th>\n      <td>16.1</td>\n      <td>28.2</td>\n      <td>3</td>\n      <td>2</td>\n      <td>1</td>\n      <td>1</td>\n      <td>0</td>\n      <td>0</td>\n      <td>1</td>\n      <td>1</td>\n      <td>...</td>\n      <td>1</td>\n      <td>11</td>\n      <td>14</td>\n      <td>1</td>\n      <td>1</td>\n      <td>0</td>\n      <td>1</td>\n      <td>0</td>\n      <td>0.209419</td>\n      <td>Скандинавия ЖК</td>\n    </tr>\n    <tr>\n      <th>10138</th>\n      <td>7.8</td>\n      <td>15.7</td>\n      <td>10</td>\n      <td>1</td>\n      <td>1</td>\n      <td>1</td>\n      <td>0</td>\n      <td>1</td>\n      <td>0</td>\n      <td>1</td>\n      <td>...</td>\n      <td>0</td>\n      <td>4</td>\n      <td>17</td>\n      <td>1</td>\n      <td>1</td>\n      <td>1</td>\n      <td>1</td>\n      <td>0</td>\n      <td>0.349929</td>\n      <td>улица Вертолетчиков</td>\n    </tr>\n    <tr>\n      <th>4845</th>\n      <td>6.0</td>\n      <td>30.0</td>\n      <td>3</td>\n      <td>2</td>\n      <td>1</td>\n      <td>0</td>\n      <td>1</td>\n      <td>1</td>\n      <td>1</td>\n      <td>1</td>\n      <td>...</td>\n      <td>0</td>\n      <td>6</td>\n      <td>9</td>\n      <td>1</td>\n      <td>0</td>\n      <td>1</td>\n      <td>1</td>\n      <td>0</td>\n      <td>0.141238</td>\n      <td>улица Островитянова</td>\n    </tr>\n    <tr>\n      <th>7189</th>\n      <td>12.4</td>\n      <td>33.0</td>\n      <td>18</td>\n      <td>2</td>\n      <td>1</td>\n      <td>1</td>\n      <td>1</td>\n      <td>1</td>\n      <td>0</td>\n      <td>2</td>\n      <td>...</td>\n      <td>0</td>\n      <td>2</td>\n      <td>20</td>\n      <td>1</td>\n      <td>1</td>\n      <td>1</td>\n      <td>1</td>\n      <td>0</td>\n      <td>0.103533</td>\n      <td>Нововладыкинский проезд</td>\n    </tr>\n    <tr>\n      <th>14728</th>\n      <td>14.4</td>\n      <td>27.1</td>\n      <td>14</td>\n      <td>2</td>\n      <td>1</td>\n      <td>1</td>\n      <td>0</td>\n      <td>1</td>\n      <td>1</td>\n      <td>1</td>\n      <td>...</td>\n      <td>1</td>\n      <td>8</td>\n      <td>20</td>\n      <td>1</td>\n      <td>1</td>\n      <td>1</td>\n      <td>1</td>\n      <td>0</td>\n      <td>0.108437</td>\n      <td>3-я Хорошевская улица</td>\n    </tr>\n  </tbody>\n</table>\n<p>5 rows × 21 columns</p>\n</div>"
     },
     "metadata": {}
    }
   ],
   "execution_count": null
  },
  {
   "cell_type": "code",
   "metadata": {
    "tags": [],
    "deepnote_to_be_reexecuted": false,
    "source_hash": "80526b75",
    "execution_start": 1637350600275,
    "execution_millis": 11,
    "deepnote_output_heights": [
     21
    ],
    "cell_id": "00033-acf660cf-a5bf-45a6-bc84-0be9aee2968f",
    "deepnote_cell_type": "code"
   },
   "source": "df_final = X1\ndf_final['price/area'] = y1.values\n\n#df1.to_csv('Training_clean.csv', index=False)\n#X1_test.to_csv('Test_clean.csv', index=False)\n",
   "outputs": [],
   "execution_count": null
  },
  {
   "cell_type": "code",
   "metadata": {
    "tags": [],
    "deepnote_to_be_reexecuted": false,
    "source_hash": "cb3e04b6",
    "execution_start": 1637350608159,
    "execution_millis": 1,
    "cell_id": "00034-6db1bfeb-4df3-4c2a-9947-0bb8f878ed95",
    "deepnote_cell_type": "code"
   },
   "source": "categorical_features_indices = np.where(X_train.dtypes != np.float64)[0]\n",
   "outputs": [],
   "execution_count": null
  },
  {
   "cell_type": "code",
   "metadata": {
    "tags": [],
    "deepnote_to_be_reexecuted": false,
    "source_hash": "39422f16",
    "execution_start": 1637350614522,
    "execution_millis": 0,
    "cell_id": "00035-3beddd15-12a8-4743-89c0-13cf2b9b5357",
    "deepnote_cell_type": "code"
   },
   "source": "def root_mean_squared_log_error(y_true, y_pred):\n    # Alternatively: sklearn.metrics.mean_squared_log_error(y_true, y_pred) ** 0.5\n    assert (y_true >= 0).all() \n    assert (y_pred >= 0).all()\n    log_error = np.log1p(y_pred) - np.log1p(y_true)  # Note: log1p(x) = log(1 + x)\n    return np.mean(log_error ** 2) ** 0.5\n\n#df_train = df_final\n#df_test = X1_test",
   "outputs": [],
   "execution_count": null
  },
  {
   "cell_type": "code",
   "metadata": {
    "tags": [],
    "deepnote_to_be_reexecuted": false,
    "source_hash": "d99de540",
    "execution_start": 1637350391514,
    "execution_millis": 9,
    "cell_id": "00036-a057b14a-2b6a-4113-86eb-20b4bd468373",
    "deepnote_cell_type": "code"
   },
   "source": "#hyper parameter\nn_estimators=[100,500,900,1100,1500]\nmax_depth=[2,3,5,10,15]\nbooster=[\"gbtree\",\"gblinear\"]\nlearning_rate=\"[0.05,0.1,0.15,0.20]\"\nmin_child_weight=[1,2,3,4]\nbase_score=[0.25,0.5,0.75,1]\n\norg_params = {\n    'n_estimators': n_estimators,\n    'learning_rate': learning_rate,\n    \"booster\":booster,\n    'eval_metric': 'RMSE',\n    'use_best_model': True,\n    'loss_function': 'RMSE',\n    'max_depth': max_depth,\n    \"min_child_weight\":min_child_weight,\n    \"base_score\":base_score\n}",
   "outputs": [],
   "execution_count": null
  },
  {
   "cell_type": "code",
   "metadata": {
    "tags": [],
    "deepnote_to_be_reexecuted": true,
    "source_hash": "b9dc394",
    "execution_start": 1637346485126,
    "execution_millis": 2,
    "deepnote_output_heights": [
     116
    ],
    "cell_id": "00037-cf26d3e7-819e-4acc-ba1f-5f564c6954a9",
    "deepnote_cell_type": "code"
   },
   "source": "y_train.head()",
   "execution_count": null,
   "outputs": [
    {
     "output_type": "execute_result",
     "execution_count": 49,
     "data": {
      "text/plain": "8161     136249.667250\n10138    157407.407407\n4845     188888.888889\n7189     176130.000000\n14728    207950.000000\nName: price/area, dtype: float64"
     },
     "metadata": {}
    }
   ]
  },
  {
   "cell_type": "code",
   "metadata": {
    "tags": [],
    "deepnote_to_be_reexecuted": false,
    "source_hash": "54aefd6c",
    "execution_start": 1637350640766,
    "execution_millis": 339055,
    "deepnote_output_heights": [
     null,
     null,
     21,
     21
    ],
    "cell_id": "00038-eb16ec75-cb58-4826-940c-25e68a98f2c1",
    "deepnote_cell_type": "code"
   },
   "source": "from catboost import CatBoostRegressor\n#random_state=1, iterations=1500, depth=8, learning_rate=.1, loss_function='RMSE'\nmodel = CatBoostRegressor(random_state=1, iterations=2000,cat_features = categorical_features_indices, depth=9, learning_rate=0.07, loss_function='RMSE')\nmodel.fit(X_train, y_train, eval_set=(X_val, y_val), plot=True)",
   "outputs": [
    {
     "data": {
      "text/plain": "MetricVisualizer(layout=Layout(align_self='stretch', height='500px'))",
      "application/vnd.jupyter.widget-view+json": {
       "version_major": 2,
       "version_minor": 0,
       "model_id": "4cfbd2f5a67142b79919985792d2d9e3"
      }
     },
     "metadata": {},
     "output_type": "display_data"
    },
    {
     "name": "stdout",
     "text": "1006:\tlearn: 24806.2589249\ttest: 61352.4721771\tbest: 61348.2423227 (999)\ttotal: 2m 41s\tremaining: 2m 39s\n1007:\tlearn: 24782.7343351\ttest: 61347.2882618\tbest: 61347.2882618 (1007)\ttotal: 2m 41s\tremaining: 2m 39s\n1008:\tlearn: 24773.4448893\ttest: 61342.5460363\tbest: 61342.5460363 (1008)\ttotal: 2m 42s\tremaining: 2m 39s\n1009:\tlearn: 24756.5608524\ttest: 61343.2827286\tbest: 61342.5460363 (1008)\ttotal: 2m 42s\tremaining: 2m 39s\n1010:\tlearn: 24754.4528382\ttest: 61344.0136787\tbest: 61342.5460363 (1008)\ttotal: 2m 42s\tremaining: 2m 38s\n1011:\tlearn: 24749.6910780\ttest: 61342.1661475\tbest: 61342.1661475 (1011)\ttotal: 2m 42s\tremaining: 2m 38s\n1012:\tlearn: 24741.0082961\ttest: 61342.6401220\tbest: 61342.1661475 (1011)\ttotal: 2m 42s\tremaining: 2m 38s\n1013:\tlearn: 24721.4508551\ttest: 61339.6887253\tbest: 61339.6887253 (1013)\ttotal: 2m 42s\tremaining: 2m 38s\n1014:\tlearn: 24716.3574827\ttest: 61337.4424276\tbest: 61337.4424276 (1014)\ttotal: 2m 42s\tremaining: 2m 38s\n1015:\tlearn: 24692.6829653\ttest: 61335.4284240\tbest: 61335.4284240 (1015)\ttotal: 2m 43s\tremaining: 2m 38s\n1016:\tlearn: 24675.3170991\ttest: 61331.4426761\tbest: 61331.4426761 (1016)\ttotal: 2m 43s\tremaining: 2m 37s\n1017:\tlearn: 24655.9142452\ttest: 61327.6051396\tbest: 61327.6051396 (1017)\ttotal: 2m 43s\tremaining: 2m 37s\n1018:\tlearn: 24653.3940941\ttest: 61326.9579397\tbest: 61326.9579397 (1018)\ttotal: 2m 43s\tremaining: 2m 37s\n1019:\tlearn: 24643.6165263\ttest: 61324.9602659\tbest: 61324.9602659 (1019)\ttotal: 2m 43s\tremaining: 2m 37s\n1020:\tlearn: 24627.5507125\ttest: 61329.2693981\tbest: 61324.9602659 (1019)\ttotal: 2m 43s\tremaining: 2m 37s\n1021:\tlearn: 24609.7422391\ttest: 61329.5545533\tbest: 61324.9602659 (1019)\ttotal: 2m 44s\tremaining: 2m 37s\n1022:\tlearn: 24603.0109545\ttest: 61329.1801743\tbest: 61324.9602659 (1019)\ttotal: 2m 44s\tremaining: 2m 36s\n1023:\tlearn: 24599.1357832\ttest: 61329.5271657\tbest: 61324.9602659 (1019)\ttotal: 2m 44s\tremaining: 2m 36s\n1024:\tlearn: 24583.3404201\ttest: 61317.2822799\tbest: 61317.2822799 (1024)\ttotal: 2m 44s\tremaining: 2m 36s\n1025:\tlearn: 24564.2620431\ttest: 61315.6651701\tbest: 61315.6651701 (1025)\ttotal: 2m 44s\tremaining: 2m 36s\n1026:\tlearn: 24545.3410526\ttest: 61316.6831378\tbest: 61315.6651701 (1025)\ttotal: 2m 44s\tremaining: 2m 36s\n1027:\tlearn: 24541.7666509\ttest: 61308.7831339\tbest: 61308.7831339 (1027)\ttotal: 2m 45s\tremaining: 2m 36s\n1028:\tlearn: 24522.0004769\ttest: 61314.8281718\tbest: 61308.7831339 (1027)\ttotal: 2m 45s\tremaining: 2m 35s\n1029:\tlearn: 24503.1469282\ttest: 61319.7031619\tbest: 61308.7831339 (1027)\ttotal: 2m 45s\tremaining: 2m 35s\n1030:\tlearn: 24501.3576835\ttest: 61320.8514217\tbest: 61308.7831339 (1027)\ttotal: 2m 45s\tremaining: 2m 35s\n1031:\tlearn: 24477.0877797\ttest: 61327.8154176\tbest: 61308.7831339 (1027)\ttotal: 2m 45s\tremaining: 2m 35s\n1032:\tlearn: 24446.5196308\ttest: 61311.5560877\tbest: 61308.7831339 (1027)\ttotal: 2m 46s\tremaining: 2m 35s\n1033:\tlearn: 24429.4002393\ttest: 61309.3684467\tbest: 61308.7831339 (1027)\ttotal: 2m 46s\tremaining: 2m 35s\n1034:\tlearn: 24419.0228626\ttest: 61302.4320796\tbest: 61302.4320796 (1034)\ttotal: 2m 46s\tremaining: 2m 35s\n1035:\tlearn: 24410.5856818\ttest: 61299.9135863\tbest: 61299.9135863 (1035)\ttotal: 2m 46s\tremaining: 2m 35s\n1036:\tlearn: 24399.3475555\ttest: 61293.9363343\tbest: 61293.9363343 (1036)\ttotal: 2m 46s\tremaining: 2m 34s\n1037:\tlearn: 24388.3085679\ttest: 61292.7586552\tbest: 61292.7586552 (1037)\ttotal: 2m 46s\tremaining: 2m 34s\n1038:\tlearn: 24358.0735406\ttest: 61292.4669721\tbest: 61292.4669721 (1038)\ttotal: 2m 47s\tremaining: 2m 34s\n1039:\tlearn: 24327.8605338\ttest: 61276.8945687\tbest: 61276.8945687 (1039)\ttotal: 2m 47s\tremaining: 2m 34s\n1040:\tlearn: 24321.9761902\ttest: 61274.9348679\tbest: 61274.9348679 (1040)\ttotal: 2m 47s\tremaining: 2m 34s\n1041:\tlearn: 24309.8593878\ttest: 61278.8803389\tbest: 61274.9348679 (1040)\ttotal: 2m 47s\tremaining: 2m 34s\n1042:\tlearn: 24299.1725779\ttest: 61279.0598290\tbest: 61274.9348679 (1040)\ttotal: 2m 47s\tremaining: 2m 34s\n1043:\tlearn: 24278.5674665\ttest: 61272.6845984\tbest: 61272.6845984 (1043)\ttotal: 2m 48s\tremaining: 2m 33s\n1044:\tlearn: 24270.6375052\ttest: 61272.9783270\tbest: 61272.6845984 (1043)\ttotal: 2m 48s\tremaining: 2m 33s\n1045:\tlearn: 24250.9967035\ttest: 61274.8174302\tbest: 61272.6845984 (1043)\ttotal: 2m 48s\tremaining: 2m 33s\n1046:\tlearn: 24248.4127490\ttest: 61275.0429168\tbest: 61272.6845984 (1043)\ttotal: 2m 48s\tremaining: 2m 33s\n1047:\tlearn: 24243.0008840\ttest: 61273.2484029\tbest: 61272.6845984 (1043)\ttotal: 2m 48s\tremaining: 2m 33s\n1048:\tlearn: 24235.8514661\ttest: 61275.8650528\tbest: 61272.6845984 (1043)\ttotal: 2m 48s\tremaining: 2m 33s\n1049:\tlearn: 24225.4215076\ttest: 61267.0685911\tbest: 61267.0685911 (1049)\ttotal: 2m 49s\tremaining: 2m 32s\n1050:\tlearn: 24209.0153126\ttest: 61261.9183385\tbest: 61261.9183385 (1050)\ttotal: 2m 49s\tremaining: 2m 32s\n1051:\tlearn: 24196.0729667\ttest: 61254.7486018\tbest: 61254.7486018 (1051)\ttotal: 2m 49s\tremaining: 2m 32s\n1052:\tlearn: 24189.3692531\ttest: 61251.4330752\tbest: 61251.4330752 (1052)\ttotal: 2m 49s\tremaining: 2m 32s\n1053:\tlearn: 24175.2848443\ttest: 61249.6941749\tbest: 61249.6941749 (1053)\ttotal: 2m 49s\tremaining: 2m 32s\n1054:\tlearn: 24161.5554403\ttest: 61249.7230377\tbest: 61249.6941749 (1053)\ttotal: 2m 49s\tremaining: 2m 32s\n1055:\tlearn: 24136.5610059\ttest: 61241.2664132\tbest: 61241.2664132 (1055)\ttotal: 2m 50s\tremaining: 2m 32s\n1056:\tlearn: 24103.0828129\ttest: 61227.9226365\tbest: 61227.9226365 (1056)\ttotal: 2m 50s\tremaining: 2m 31s\n1057:\tlearn: 24091.8567205\ttest: 61224.8079201\tbest: 61224.8079201 (1057)\ttotal: 2m 50s\tremaining: 2m 31s\n1058:\tlearn: 24071.6517958\ttest: 61217.7658861\tbest: 61217.7658861 (1058)\ttotal: 2m 50s\tremaining: 2m 31s\n1059:\tlearn: 24057.4650292\ttest: 61216.4589368\tbest: 61216.4589368 (1059)\ttotal: 2m 50s\tremaining: 2m 31s\n1060:\tlearn: 24034.7701848\ttest: 61208.1178456\tbest: 61208.1178456 (1060)\ttotal: 2m 50s\tremaining: 2m 31s\n1061:\tlearn: 24019.5644098\ttest: 61205.7093441\tbest: 61205.7093441 (1061)\ttotal: 2m 51s\tremaining: 2m 31s\n1062:\tlearn: 24006.8502405\ttest: 61207.1284552\tbest: 61205.7093441 (1061)\ttotal: 2m 51s\tremaining: 2m 30s\n1063:\tlearn: 23991.4669314\ttest: 61205.8746220\tbest: 61205.7093441 (1061)\ttotal: 2m 51s\tremaining: 2m 30s\n1064:\tlearn: 23986.7256029\ttest: 61205.1212795\tbest: 61205.1212795 (1064)\ttotal: 2m 51s\tremaining: 2m 30s\n1065:\tlearn: 23975.4790577\ttest: 61202.0224477\tbest: 61202.0224477 (1065)\ttotal: 2m 51s\tremaining: 2m 30s\n1066:\tlearn: 23969.7344668\ttest: 61202.7194114\tbest: 61202.0224477 (1065)\ttotal: 2m 51s\tremaining: 2m 30s\n1067:\tlearn: 23958.8599977\ttest: 61203.3189202\tbest: 61202.0224477 (1065)\ttotal: 2m 52s\tremaining: 2m 30s\n1068:\tlearn: 23947.7534169\ttest: 61199.3082520\tbest: 61199.3082520 (1068)\ttotal: 2m 52s\tremaining: 2m 29s\n1069:\tlearn: 23941.1191548\ttest: 61200.3610594\tbest: 61199.3082520 (1068)\ttotal: 2m 52s\tremaining: 2m 29s\n1070:\tlearn: 23912.9067240\ttest: 61183.3920277\tbest: 61183.3920277 (1070)\ttotal: 2m 52s\tremaining: 2m 29s\n1071:\tlearn: 23903.6064359\ttest: 61182.2880980\tbest: 61182.2880980 (1071)\ttotal: 2m 52s\tremaining: 2m 29s\n1072:\tlearn: 23876.7166924\ttest: 61190.2611423\tbest: 61182.2880980 (1071)\ttotal: 2m 52s\tremaining: 2m 29s\n1073:\tlearn: 23861.1427016\ttest: 61183.4201780\tbest: 61182.2880980 (1071)\ttotal: 2m 52s\tremaining: 2m 29s\n1074:\tlearn: 23857.9683546\ttest: 61183.9406395\tbest: 61182.2880980 (1071)\ttotal: 2m 53s\tremaining: 2m 28s\n1075:\tlearn: 23843.9754912\ttest: 61183.7172773\tbest: 61182.2880980 (1071)\ttotal: 2m 53s\tremaining: 2m 28s\n1076:\tlearn: 23830.7576093\ttest: 61179.9858425\tbest: 61179.9858425 (1076)\ttotal: 2m 53s\tremaining: 2m 28s\n1077:\tlearn: 23828.1092763\ttest: 61179.2965181\tbest: 61179.2965181 (1077)\ttotal: 2m 53s\tremaining: 2m 28s\n1078:\tlearn: 23825.2363724\ttest: 61178.5462422\tbest: 61178.5462422 (1078)\ttotal: 2m 53s\tremaining: 2m 28s\n1079:\tlearn: 23804.5237627\ttest: 61180.4934255\tbest: 61178.5462422 (1078)\ttotal: 2m 53s\tremaining: 2m 28s\n1080:\tlearn: 23793.2747779\ttest: 61173.6938018\tbest: 61173.6938018 (1080)\ttotal: 2m 54s\tremaining: 2m 28s\n1081:\tlearn: 23759.8446755\ttest: 61164.1846845\tbest: 61164.1846845 (1081)\ttotal: 2m 54s\tremaining: 2m 27s\n1082:\tlearn: 23737.7706344\ttest: 61153.7607589\tbest: 61153.7607589 (1082)\ttotal: 2m 54s\tremaining: 2m 27s\n1083:\tlearn: 23720.6172859\ttest: 61154.3738647\tbest: 61153.7607589 (1082)\ttotal: 2m 54s\tremaining: 2m 27s\n1084:\tlearn: 23714.8172845\ttest: 61156.2304468\tbest: 61153.7607589 (1082)\ttotal: 2m 54s\tremaining: 2m 27s\n1085:\tlearn: 23713.5915288\ttest: 61155.9186919\tbest: 61153.7607589 (1082)\ttotal: 2m 55s\tremaining: 2m 27s\n1086:\tlearn: 23712.1673073\ttest: 61155.7925737\tbest: 61153.7607589 (1082)\ttotal: 2m 55s\tremaining: 2m 27s\n1087:\tlearn: 23708.0698190\ttest: 61155.3655797\tbest: 61153.7607589 (1082)\ttotal: 2m 55s\tremaining: 2m 27s\n1088:\tlearn: 23702.1758264\ttest: 61156.7559412\tbest: 61153.7607589 (1082)\ttotal: 2m 55s\tremaining: 2m 26s\n1089:\tlearn: 23685.2491129\ttest: 61156.5286272\tbest: 61153.7607589 (1082)\ttotal: 2m 55s\tremaining: 2m 26s\n1090:\tlearn: 23680.0220119\ttest: 61157.8530902\tbest: 61153.7607589 (1082)\ttotal: 2m 55s\tremaining: 2m 26s\n1091:\tlearn: 23665.6065245\ttest: 61163.4242998\tbest: 61153.7607589 (1082)\ttotal: 2m 55s\tremaining: 2m 26s\n1092:\tlearn: 23654.4488748\ttest: 61158.9059175\tbest: 61153.7607589 (1082)\ttotal: 2m 56s\tremaining: 2m 26s\n1093:\tlearn: 23644.5015566\ttest: 61150.9391430\tbest: 61150.9391430 (1093)\ttotal: 2m 56s\tremaining: 2m 25s\n1094:\tlearn: 23629.0423699\ttest: 61149.4211138\tbest: 61149.4211138 (1094)\ttotal: 2m 56s\tremaining: 2m 25s\n1095:\tlearn: 23623.2475012\ttest: 61145.7311716\tbest: 61145.7311716 (1095)\ttotal: 2m 56s\tremaining: 2m 25s\n1096:\tlearn: 23598.7768932\ttest: 61146.5718475\tbest: 61145.7311716 (1095)\ttotal: 2m 56s\tremaining: 2m 25s\n1097:\tlearn: 23595.6955115\ttest: 61146.2966453\tbest: 61145.7311716 (1095)\ttotal: 2m 57s\tremaining: 2m 25s\n1098:\tlearn: 23576.8123908\ttest: 61143.5366108\tbest: 61143.5366108 (1098)\ttotal: 2m 57s\tremaining: 2m 25s\n1099:\tlearn: 23570.2397583\ttest: 61135.8400139\tbest: 61135.8400139 (1099)\ttotal: 2m 57s\tremaining: 2m 25s\n1100:\tlearn: 23561.7434094\ttest: 61135.4299479\tbest: 61135.4299479 (1100)\ttotal: 2m 57s\tremaining: 2m 24s\n1101:\tlearn: 23548.4477720\ttest: 61133.6166294\tbest: 61133.6166294 (1101)\ttotal: 2m 57s\tremaining: 2m 24s\n1102:\tlearn: 23544.3443912\ttest: 61129.0064711\tbest: 61129.0064711 (1102)\ttotal: 2m 57s\tremaining: 2m 24s\n1103:\tlearn: 23529.9778968\ttest: 61124.1427513\tbest: 61124.1427513 (1103)\ttotal: 2m 58s\tremaining: 2m 24s\n1104:\tlearn: 23517.9682564\ttest: 61120.9859382\tbest: 61120.9859382 (1104)\ttotal: 2m 58s\tremaining: 2m 24s\n1105:\tlearn: 23508.9058534\ttest: 61118.7761883\tbest: 61118.7761883 (1105)\ttotal: 2m 58s\tremaining: 2m 24s\n1106:\tlearn: 23487.3566350\ttest: 61125.2137268\tbest: 61118.7761883 (1105)\ttotal: 2m 58s\tremaining: 2m 23s\n1107:\tlearn: 23458.0550014\ttest: 61114.5641814\tbest: 61114.5641814 (1107)\ttotal: 2m 58s\tremaining: 2m 23s\n1108:\tlearn: 23448.0519155\ttest: 61105.6042709\tbest: 61105.6042709 (1108)\ttotal: 2m 58s\tremaining: 2m 23s\n1109:\tlearn: 23435.9940592\ttest: 61105.9840158\tbest: 61105.6042709 (1108)\ttotal: 2m 59s\tremaining: 2m 23s\n1110:\tlearn: 23422.4494957\ttest: 61103.3769660\tbest: 61103.3769660 (1110)\ttotal: 2m 59s\tremaining: 2m 23s\n1111:\tlearn: 23400.4062927\ttest: 61097.2531492\tbest: 61097.2531492 (1111)\ttotal: 2m 59s\tremaining: 2m 23s\n1112:\tlearn: 23393.8301454\ttest: 61098.2891257\tbest: 61097.2531492 (1111)\ttotal: 2m 59s\tremaining: 2m 23s\n1113:\tlearn: 23372.3555318\ttest: 61097.7836411\tbest: 61097.2531492 (1111)\ttotal: 2m 59s\tremaining: 2m 22s\n1114:\tlearn: 23362.0289375\ttest: 61098.3730335\tbest: 61097.2531492 (1111)\ttotal: 2m 59s\tremaining: 2m 22s\n1115:\tlearn: 23356.7663158\ttest: 61099.7474508\tbest: 61097.2531492 (1111)\ttotal: 3m\tremaining: 2m 22s\n1116:\tlearn: 23336.9368916\ttest: 61099.7100648\tbest: 61097.2531492 (1111)\ttotal: 3m\tremaining: 2m 22s\n1117:\tlearn: 23313.9638994\ttest: 61095.9888316\tbest: 61095.9888316 (1117)\ttotal: 3m\tremaining: 2m 22s\n1118:\tlearn: 23306.7265451\ttest: 61096.4282287\tbest: 61095.9888316 (1117)\ttotal: 3m\tremaining: 2m 22s\n1119:\tlearn: 23304.3670664\ttest: 61096.3830278\tbest: 61095.9888316 (1117)\ttotal: 3m\tremaining: 2m 21s\n1120:\tlearn: 23298.6598262\ttest: 61096.3087147\tbest: 61095.9888316 (1117)\ttotal: 3m\tremaining: 2m 21s\n1121:\tlearn: 23295.9245083\ttest: 61095.6910775\tbest: 61095.6910775 (1121)\ttotal: 3m 1s\tremaining: 2m 21s\n1122:\tlearn: 23282.9519932\ttest: 61099.2681802\tbest: 61095.6910775 (1121)\ttotal: 3m 1s\tremaining: 2m 21s\n1123:\tlearn: 23275.3510106\ttest: 61098.5013689\tbest: 61095.6910775 (1121)\ttotal: 3m 1s\tremaining: 2m 21s\n1124:\tlearn: 23272.3521200\ttest: 61093.5751252\tbest: 61093.5751252 (1124)\ttotal: 3m 1s\tremaining: 2m 21s\n1125:\tlearn: 23267.8060230\ttest: 61090.9227552\tbest: 61090.9227552 (1125)\ttotal: 3m 1s\tremaining: 2m 21s\n1126:\tlearn: 23252.9165707\ttest: 61083.1058141\tbest: 61083.1058141 (1126)\ttotal: 3m 1s\tremaining: 2m 20s\n1127:\tlearn: 23243.8268551\ttest: 61081.3959644\tbest: 61081.3959644 (1127)\ttotal: 3m 2s\tremaining: 2m 20s\n1128:\tlearn: 23232.1240934\ttest: 61084.1869780\tbest: 61081.3959644 (1127)\ttotal: 3m 2s\tremaining: 2m 20s\n1129:\tlearn: 23224.4537191\ttest: 61083.6920630\tbest: 61081.3959644 (1127)\ttotal: 3m 2s\tremaining: 2m 20s\n1130:\tlearn: 23217.6432163\ttest: 61085.7850571\tbest: 61081.3959644 (1127)\ttotal: 3m 2s\tremaining: 2m 20s\n1131:\tlearn: 23206.4372418\ttest: 61083.6830688\tbest: 61081.3959644 (1127)\ttotal: 3m 2s\tremaining: 2m 20s\n1132:\tlearn: 23197.8574355\ttest: 61077.1717964\tbest: 61077.1717964 (1132)\ttotal: 3m 2s\tremaining: 2m 19s\n1133:\tlearn: 23185.5479232\ttest: 61077.1139909\tbest: 61077.1139909 (1133)\ttotal: 3m 3s\tremaining: 2m 19s\n1134:\tlearn: 23171.6756818\ttest: 61076.5365599\tbest: 61076.5365599 (1134)\ttotal: 3m 3s\tremaining: 2m 19s\n1135:\tlearn: 23157.1889587\ttest: 61070.8958213\tbest: 61070.8958213 (1135)\ttotal: 3m 3s\tremaining: 2m 19s\n1136:\tlearn: 23143.4144358\ttest: 61070.8812654\tbest: 61070.8812654 (1136)\ttotal: 3m 3s\tremaining: 2m 19s\n1137:\tlearn: 23138.9138550\ttest: 61069.6231866\tbest: 61069.6231866 (1137)\ttotal: 3m 3s\tremaining: 2m 19s\n1138:\tlearn: 23121.9262459\ttest: 61067.0063490\tbest: 61067.0063490 (1138)\ttotal: 3m 3s\tremaining: 2m 19s\n1139:\tlearn: 23117.3864496\ttest: 61064.5430962\tbest: 61064.5430962 (1139)\ttotal: 3m 4s\tremaining: 2m 18s\n1140:\tlearn: 23108.9001632\ttest: 61064.6976616\tbest: 61064.5430962 (1139)\ttotal: 3m 4s\tremaining: 2m 18s\n1141:\tlearn: 23099.0278223\ttest: 61059.5519535\tbest: 61059.5519535 (1141)\ttotal: 3m 4s\tremaining: 2m 18s\n1142:\tlearn: 23095.1045158\ttest: 61058.0999635\tbest: 61058.0999635 (1142)\ttotal: 3m 4s\tremaining: 2m 18s\n1143:\tlearn: 23071.3449353\ttest: 61056.7283697\tbest: 61056.7283697 (1143)\ttotal: 3m 4s\tremaining: 2m 18s\n1144:\tlearn: 23060.7578083\ttest: 61053.8560337\tbest: 61053.8560337 (1144)\ttotal: 3m 4s\tremaining: 2m 18s\n1145:\tlearn: 23049.6819920\ttest: 61052.8069482\tbest: 61052.8069482 (1145)\ttotal: 3m 5s\tremaining: 2m 17s\n1146:\tlearn: 23044.2882443\ttest: 61051.6815202\tbest: 61051.6815202 (1146)\ttotal: 3m 5s\tremaining: 2m 17s\n1147:\tlearn: 23028.8908322\ttest: 61047.7623727\tbest: 61047.7623727 (1147)\ttotal: 3m 5s\tremaining: 2m 17s\n1148:\tlearn: 23015.3846889\ttest: 61045.0894860\tbest: 61045.0894860 (1148)\ttotal: 3m 5s\tremaining: 2m 17s\n1149:\tlearn: 23007.5300329\ttest: 61043.8279035\tbest: 61043.8279035 (1149)\ttotal: 3m 5s\tremaining: 2m 17s\n1150:\tlearn: 22996.1329408\ttest: 61041.9059936\tbest: 61041.9059936 (1150)\ttotal: 3m 6s\tremaining: 2m 17s\n1151:\tlearn: 22994.4630372\ttest: 61040.6914760\tbest: 61040.6914760 (1151)\ttotal: 3m 6s\tremaining: 2m 17s\n1152:\tlearn: 22988.5052284\ttest: 61041.8513342\tbest: 61040.6914760 (1151)\ttotal: 3m 6s\tremaining: 2m 16s\n1153:\tlearn: 22980.8681715\ttest: 61039.8089185\tbest: 61039.8089185 (1153)\ttotal: 3m 6s\tremaining: 2m 16s\n1154:\tlearn: 22964.1402949\ttest: 61034.1738052\tbest: 61034.1738052 (1154)\ttotal: 3m 6s\tremaining: 2m 16s\n1155:\tlearn: 22948.1514984\ttest: 61029.3771584\tbest: 61029.3771584 (1155)\ttotal: 3m 6s\tremaining: 2m 16s\n1156:\tlearn: 22919.9636002\ttest: 61015.1145622\tbest: 61015.1145622 (1156)\ttotal: 3m 7s\tremaining: 2m 16s\n1157:\tlearn: 22903.9877172\ttest: 61013.3998314\tbest: 61013.3998314 (1157)\ttotal: 3m 7s\tremaining: 2m 16s\n1158:\tlearn: 22890.4806551\ttest: 61011.6970873\tbest: 61011.6970873 (1158)\ttotal: 3m 7s\tremaining: 2m 16s\n1159:\tlearn: 22881.0757538\ttest: 61011.3554890\tbest: 61011.3554890 (1159)\ttotal: 3m 7s\tremaining: 2m 15s\n1160:\tlearn: 22871.8102161\ttest: 61011.1957485\tbest: 61011.1957485 (1160)\ttotal: 3m 7s\tremaining: 2m 15s\n1161:\tlearn: 22858.4959239\ttest: 61005.7031903\tbest: 61005.7031903 (1161)\ttotal: 3m 8s\tremaining: 2m 15s\n1162:\tlearn: 22823.0624900\ttest: 61007.0315630\tbest: 61005.7031903 (1161)\ttotal: 3m 8s\tremaining: 2m 15s\n1163:\tlearn: 22807.3561945\ttest: 60997.6053652\tbest: 60997.6053652 (1163)\ttotal: 3m 8s\tremaining: 2m 15s\n1164:\tlearn: 22794.6873152\ttest: 60989.5302133\tbest: 60989.5302133 (1164)\ttotal: 3m 8s\tremaining: 2m 15s\n1165:\tlearn: 22768.9999614\ttest: 60977.0686280\tbest: 60977.0686280 (1165)\ttotal: 3m 8s\tremaining: 2m 14s\n1166:\tlearn: 22764.0698439\ttest: 60979.4999105\tbest: 60977.0686280 (1165)\ttotal: 3m 8s\tremaining: 2m 14s\n1167:\tlearn: 22754.7351488\ttest: 60978.3843852\tbest: 60977.0686280 (1165)\ttotal: 3m 9s\tremaining: 2m 14s\n1168:\tlearn: 22742.2229788\ttest: 60976.7179525\tbest: 60976.7179525 (1168)\ttotal: 3m 9s\tremaining: 2m 14s\n1169:\tlearn: 22731.2918934\ttest: 60977.2133365\tbest: 60976.7179525 (1168)\ttotal: 3m 9s\tremaining: 2m 14s\n1170:\tlearn: 22724.2413052\ttest: 60977.8338174\tbest: 60976.7179525 (1168)\ttotal: 3m 9s\tremaining: 2m 14s\n1171:\tlearn: 22714.5791293\ttest: 60978.4392608\tbest: 60976.7179525 (1168)\ttotal: 3m 9s\tremaining: 2m 14s\n1172:\tlearn: 22706.1073512\ttest: 60983.0841460\tbest: 60976.7179525 (1168)\ttotal: 3m 9s\tremaining: 2m 13s\n1173:\tlearn: 22688.5303887\ttest: 60992.1434496\tbest: 60976.7179525 (1168)\ttotal: 3m 10s\tremaining: 2m 13s\n1174:\tlearn: 22681.1755402\ttest: 60994.1344975\tbest: 60976.7179525 (1168)\ttotal: 3m 10s\tremaining: 2m 13s\n1175:\tlearn: 22664.3963322\ttest: 60994.6365011\tbest: 60976.7179525 (1168)\ttotal: 3m 10s\tremaining: 2m 13s\n1176:\tlearn: 22654.2677176\ttest: 60993.1456316\tbest: 60976.7179525 (1168)\ttotal: 3m 10s\tremaining: 2m 13s\n1177:\tlearn: 22638.6726499\ttest: 60991.9110361\tbest: 60976.7179525 (1168)\ttotal: 3m 10s\tremaining: 2m 13s\n1178:\tlearn: 22624.7010584\ttest: 60991.6791243\tbest: 60976.7179525 (1168)\ttotal: 3m 10s\tremaining: 2m 12s\n1179:\tlearn: 22599.3497384\ttest: 60987.2619168\tbest: 60976.7179525 (1168)\ttotal: 3m 11s\tremaining: 2m 12s\n1180:\tlearn: 22590.9952167\ttest: 60988.3912237\tbest: 60976.7179525 (1168)\ttotal: 3m 11s\tremaining: 2m 12s\n1181:\tlearn: 22582.4550854\ttest: 60988.6131936\tbest: 60976.7179525 (1168)\ttotal: 3m 11s\tremaining: 2m 12s\n1182:\tlearn: 22567.4159387\ttest: 60982.9364525\tbest: 60976.7179525 (1168)\ttotal: 3m 11s\tremaining: 2m 12s\n1183:\tlearn: 22551.6643872\ttest: 60980.5519688\tbest: 60976.7179525 (1168)\ttotal: 3m 11s\tremaining: 2m 12s\n1184:\tlearn: 22546.7240765\ttest: 60980.4131361\tbest: 60976.7179525 (1168)\ttotal: 3m 11s\tremaining: 2m 11s\n1185:\tlearn: 22541.4057103\ttest: 60981.2071942\tbest: 60976.7179525 (1168)\ttotal: 3m 12s\tremaining: 2m 11s\n1186:\tlearn: 22507.4584055\ttest: 60977.3184046\tbest: 60976.7179525 (1168)\ttotal: 3m 12s\tremaining: 2m 11s\n1187:\tlearn: 22498.4553735\ttest: 60977.6452805\tbest: 60976.7179525 (1168)\ttotal: 3m 12s\tremaining: 2m 11s\n1188:\tlearn: 22497.3876082\ttest: 60975.2038228\tbest: 60975.2038228 (1188)\ttotal: 3m 12s\tremaining: 2m 11s\n1189:\tlearn: 22488.7255860\ttest: 60975.1637488\tbest: 60975.1637488 (1189)\ttotal: 3m 12s\tremaining: 2m 11s\n1190:\tlearn: 22481.5329631\ttest: 60969.0812805\tbest: 60969.0812805 (1190)\ttotal: 3m 12s\tremaining: 2m 11s\n1191:\tlearn: 22474.5098401\ttest: 60967.0743800\tbest: 60967.0743800 (1191)\ttotal: 3m 13s\tremaining: 2m 10s\n1192:\tlearn: 22472.5520377\ttest: 60967.0864410\tbest: 60967.0743800 (1191)\ttotal: 3m 13s\tremaining: 2m 10s\n1193:\tlearn: 22470.2176494\ttest: 60961.3696203\tbest: 60961.3696203 (1193)\ttotal: 3m 13s\tremaining: 2m 10s\n1194:\tlearn: 22468.7139387\ttest: 60960.6170943\tbest: 60960.6170943 (1194)\ttotal: 3m 13s\tremaining: 2m 10s\n1195:\tlearn: 22457.5268325\ttest: 60955.9819992\tbest: 60955.9819992 (1195)\ttotal: 3m 13s\tremaining: 2m 10s\n1196:\tlearn: 22441.0096289\ttest: 60953.0632159\tbest: 60953.0632159 (1196)\ttotal: 3m 13s\tremaining: 2m 10s\n1197:\tlearn: 22434.5610890\ttest: 60952.6463735\tbest: 60952.6463735 (1197)\ttotal: 3m 14s\tremaining: 2m 9s\n1198:\tlearn: 22408.7830951\ttest: 60948.6891388\tbest: 60948.6891388 (1198)\ttotal: 3m 14s\tremaining: 2m 9s\n1199:\tlearn: 22403.7405366\ttest: 60949.9560853\tbest: 60948.6891388 (1198)\ttotal: 3m 14s\tremaining: 2m 9s\n1200:\tlearn: 22392.1811657\ttest: 60948.1755655\tbest: 60948.1755655 (1200)\ttotal: 3m 14s\tremaining: 2m 9s\n1201:\tlearn: 22373.4393255\ttest: 60945.7981748\tbest: 60945.7981748 (1201)\ttotal: 3m 14s\tremaining: 2m 9s\n1202:\tlearn: 22370.0817488\ttest: 60947.0495156\tbest: 60945.7981748 (1201)\ttotal: 3m 14s\tremaining: 2m 9s\n1203:\tlearn: 22352.8828724\ttest: 60945.5320335\tbest: 60945.5320335 (1203)\ttotal: 3m 15s\tremaining: 2m 8s\n1204:\tlearn: 22345.9299510\ttest: 60941.1999913\tbest: 60941.1999913 (1204)\ttotal: 3m 15s\tremaining: 2m 8s\n1205:\tlearn: 22336.4741655\ttest: 60934.4768190\tbest: 60934.4768190 (1205)\ttotal: 3m 15s\tremaining: 2m 8s\n1206:\tlearn: 22334.2983113\ttest: 60934.2501735\tbest: 60934.2501735 (1206)\ttotal: 3m 15s\tremaining: 2m 8s\n1207:\tlearn: 22316.9888057\ttest: 60934.9840919\tbest: 60934.2501735 (1206)\ttotal: 3m 15s\tremaining: 2m 8s\n1208:\tlearn: 22316.4423881\ttest: 60932.9321459\tbest: 60932.9321459 (1208)\ttotal: 3m 15s\tremaining: 2m 8s\n1209:\tlearn: 22299.7649093\ttest: 60929.6388343\tbest: 60929.6388343 (1209)\ttotal: 3m 16s\tremaining: 2m 7s\n1210:\tlearn: 22291.1639891\ttest: 60930.7106466\tbest: 60929.6388343 (1209)\ttotal: 3m 16s\tremaining: 2m 7s\n1211:\tlearn: 22285.8083041\ttest: 60934.9520457\tbest: 60929.6388343 (1209)\ttotal: 3m 16s\tremaining: 2m 7s\n1212:\tlearn: 22273.0360659\ttest: 60935.1611988\tbest: 60929.6388343 (1209)\ttotal: 3m 16s\tremaining: 2m 7s\n1213:\tlearn: 22252.0466959\ttest: 60927.8580269\tbest: 60927.8580269 (1213)\ttotal: 3m 16s\tremaining: 2m 7s\n1214:\tlearn: 22243.5696998\ttest: 60926.6098847\tbest: 60926.6098847 (1214)\ttotal: 3m 16s\tremaining: 2m 7s\n1215:\tlearn: 22234.4931856\ttest: 60923.5747522\tbest: 60923.5747522 (1215)\ttotal: 3m 17s\tremaining: 2m 7s\n1216:\tlearn: 22230.0481078\ttest: 60924.3988678\tbest: 60923.5747522 (1215)\ttotal: 3m 17s\tremaining: 2m 6s\n1217:\tlearn: 22197.2811512\ttest: 60912.6504076\tbest: 60912.6504076 (1217)\ttotal: 3m 17s\tremaining: 2m 6s\n1218:\tlearn: 22192.3023392\ttest: 60907.8431202\tbest: 60907.8431202 (1218)\ttotal: 3m 17s\tremaining: 2m 6s\n1219:\tlearn: 22190.3215770\ttest: 60907.5892645\tbest: 60907.5892645 (1219)\ttotal: 3m 17s\tremaining: 2m 6s\n1220:\tlearn: 22185.1068821\ttest: 60909.8927769\tbest: 60907.5892645 (1219)\ttotal: 3m 17s\tremaining: 2m 6s\n1221:\tlearn: 22174.9098588\ttest: 60909.1549202\tbest: 60907.5892645 (1219)\ttotal: 3m 18s\tremaining: 2m 6s\n1222:\tlearn: 22160.9329391\ttest: 60904.2828491\tbest: 60904.2828491 (1222)\ttotal: 3m 18s\tremaining: 2m 5s\n1223:\tlearn: 22151.0473818\ttest: 60900.4969034\tbest: 60900.4969034 (1223)\ttotal: 3m 18s\tremaining: 2m 5s\n1224:\tlearn: 22144.4371620\ttest: 60900.5223850\tbest: 60900.4969034 (1223)\ttotal: 3m 18s\tremaining: 2m 5s\n1225:\tlearn: 22134.2024911\ttest: 60903.0987148\tbest: 60900.4969034 (1223)\ttotal: 3m 18s\tremaining: 2m 5s\n1226:\tlearn: 22104.9263566\ttest: 60891.2439210\tbest: 60891.2439210 (1226)\ttotal: 3m 18s\tremaining: 2m 5s\n1227:\tlearn: 22084.8725417\ttest: 60883.5452355\tbest: 60883.5452355 (1227)\ttotal: 3m 19s\tremaining: 2m 5s\n1228:\tlearn: 22079.4459845\ttest: 60886.1856737\tbest: 60883.5452355 (1227)\ttotal: 3m 19s\tremaining: 2m 5s\n1229:\tlearn: 22061.2259169\ttest: 60889.9024124\tbest: 60883.5452355 (1227)\ttotal: 3m 19s\tremaining: 2m 4s\n1230:\tlearn: 22052.5494403\ttest: 60886.9806836\tbest: 60883.5452355 (1227)\ttotal: 3m 19s\tremaining: 2m 4s\n1231:\tlearn: 22040.7227823\ttest: 60885.0219864\tbest: 60883.5452355 (1227)\ttotal: 3m 19s\tremaining: 2m 4s\n1232:\tlearn: 22026.1013590\ttest: 60881.3618785\tbest: 60881.3618785 (1232)\ttotal: 3m 20s\tremaining: 2m 4s\n1233:\tlearn: 22018.4538215\ttest: 60880.6589435\tbest: 60880.6589435 (1233)\ttotal: 3m 20s\tremaining: 2m 4s\n1234:\tlearn: 22017.5088829\ttest: 60880.5103053\tbest: 60880.5103053 (1234)\ttotal: 3m 20s\tremaining: 2m 4s\n1235:\tlearn: 22014.2130873\ttest: 60878.3455481\tbest: 60878.3455481 (1235)\ttotal: 3m 20s\tremaining: 2m 3s\n1236:\tlearn: 22007.4643113\ttest: 60881.2480937\tbest: 60878.3455481 (1235)\ttotal: 3m 20s\tremaining: 2m 3s\n1237:\tlearn: 21996.1701966\ttest: 60878.2063966\tbest: 60878.2063966 (1237)\ttotal: 3m 20s\tremaining: 2m 3s\n1238:\tlearn: 21988.0464703\ttest: 60876.9447326\tbest: 60876.9447326 (1238)\ttotal: 3m 21s\tremaining: 2m 3s\n1239:\tlearn: 21969.9591009\ttest: 60872.4584773\tbest: 60872.4584773 (1239)\ttotal: 3m 21s\tremaining: 2m 3s\n1240:\tlearn: 21957.8547340\ttest: 60872.6831343\tbest: 60872.4584773 (1239)\ttotal: 3m 21s\tremaining: 2m 3s\n1241:\tlearn: 21944.2193585\ttest: 60874.5857350\tbest: 60872.4584773 (1239)\ttotal: 3m 21s\tremaining: 2m 2s\n1242:\tlearn: 21932.5977505\ttest: 60878.6413494\tbest: 60872.4584773 (1239)\ttotal: 3m 21s\tremaining: 2m 2s\n1243:\tlearn: 21907.9101059\ttest: 60877.1802402\tbest: 60872.4584773 (1239)\ttotal: 3m 21s\tremaining: 2m 2s\n1244:\tlearn: 21886.8830779\ttest: 60868.5227349\tbest: 60868.5227349 (1244)\ttotal: 3m 21s\tremaining: 2m 2s\n1245:\tlearn: 21876.1141548\ttest: 60862.6347594\tbest: 60862.6347594 (1245)\ttotal: 3m 22s\tremaining: 2m 2s\n1246:\tlearn: 21867.0929557\ttest: 60865.8596740\tbest: 60862.6347594 (1245)\ttotal: 3m 22s\tremaining: 2m 2s\n1247:\tlearn: 21853.8542552\ttest: 60860.5304940\tbest: 60860.5304940 (1247)\ttotal: 3m 22s\tremaining: 2m 2s\n1248:\tlearn: 21846.7598291\ttest: 60862.4356366\tbest: 60860.5304940 (1247)\ttotal: 3m 22s\tremaining: 2m 1s\n1249:\tlearn: 21829.4927550\ttest: 60868.4523031\tbest: 60860.5304940 (1247)\ttotal: 3m 22s\tremaining: 2m 1s\n1250:\tlearn: 21819.1519271\ttest: 60870.3021356\tbest: 60860.5304940 (1247)\ttotal: 3m 23s\tremaining: 2m 1s\n1251:\tlearn: 21806.2120676\ttest: 60872.0719549\tbest: 60860.5304940 (1247)\ttotal: 3m 23s\tremaining: 2m 1s\n1252:\tlearn: 21796.4208777\ttest: 60871.5926076\tbest: 60860.5304940 (1247)\ttotal: 3m 23s\tremaining: 2m 1s\n1253:\tlearn: 21781.9957699\ttest: 60876.1896160\tbest: 60860.5304940 (1247)\ttotal: 3m 23s\tremaining: 2m 1s\n1254:\tlearn: 21776.3334053\ttest: 60873.9843220\tbest: 60860.5304940 (1247)\ttotal: 3m 23s\tremaining: 2m\n1255:\tlearn: 21770.4559356\ttest: 60873.7831448\tbest: 60860.5304940 (1247)\ttotal: 3m 23s\tremaining: 2m\n1256:\tlearn: 21764.3930680\ttest: 60870.3370557\tbest: 60860.5304940 (1247)\ttotal: 3m 24s\tremaining: 2m\n1257:\tlearn: 21761.7774030\ttest: 60870.3719667\tbest: 60860.5304940 (1247)\ttotal: 3m 24s\tremaining: 2m\n1258:\tlearn: 21756.1329683\ttest: 60872.2293446\tbest: 60860.5304940 (1247)\ttotal: 3m 24s\tremaining: 2m\n1259:\tlearn: 21748.5515759\ttest: 60877.4558547\tbest: 60860.5304940 (1247)\ttotal: 3m 24s\tremaining: 2m\n1260:\tlearn: 21741.6732536\ttest: 60877.1677801\tbest: 60860.5304940 (1247)\ttotal: 3m 24s\tremaining: 2m\n1261:\tlearn: 21738.0912520\ttest: 60874.8941434\tbest: 60860.5304940 (1247)\ttotal: 3m 24s\tremaining: 1m 59s\n1262:\tlearn: 21726.4236926\ttest: 60874.3550002\tbest: 60860.5304940 (1247)\ttotal: 3m 25s\tremaining: 1m 59s\n1263:\tlearn: 21713.9141634\ttest: 60875.3569305\tbest: 60860.5304940 (1247)\ttotal: 3m 25s\tremaining: 1m 59s\n1264:\tlearn: 21700.0229811\ttest: 60876.3509339\tbest: 60860.5304940 (1247)\ttotal: 3m 25s\tremaining: 1m 59s\n1265:\tlearn: 21685.0757630\ttest: 60876.5073141\tbest: 60860.5304940 (1247)\ttotal: 3m 25s\tremaining: 1m 59s\n1266:\tlearn: 21673.9397297\ttest: 60871.2200621\tbest: 60860.5304940 (1247)\ttotal: 3m 25s\tremaining: 1m 59s\n1267:\tlearn: 21663.3967773\ttest: 60870.7528343\tbest: 60860.5304940 (1247)\ttotal: 3m 25s\tremaining: 1m 58s\n1268:\tlearn: 21655.7868779\ttest: 60868.7035219\tbest: 60860.5304940 (1247)\ttotal: 3m 26s\tremaining: 1m 58s\n1269:\tlearn: 21645.3915372\ttest: 60872.1465032\tbest: 60860.5304940 (1247)\ttotal: 3m 26s\tremaining: 1m 58s\n1270:\tlearn: 21631.9924367\ttest: 60868.0468284\tbest: 60860.5304940 (1247)\ttotal: 3m 26s\tremaining: 1m 58s\n1271:\tlearn: 21623.9641906\ttest: 60866.7974685\tbest: 60860.5304940 (1247)\ttotal: 3m 26s\tremaining: 1m 58s\n1272:\tlearn: 21609.1787043\ttest: 60856.6480992\tbest: 60856.6480992 (1272)\ttotal: 3m 27s\tremaining: 1m 58s\n1273:\tlearn: 21600.9644337\ttest: 60853.1949583\tbest: 60853.1949583 (1273)\ttotal: 3m 27s\tremaining: 1m 58s\n1274:\tlearn: 21568.4019397\ttest: 60849.1240304\tbest: 60849.1240304 (1274)\ttotal: 3m 27s\tremaining: 1m 57s\n1275:\tlearn: 21556.6750727\ttest: 60846.0884118\tbest: 60846.0884118 (1275)\ttotal: 3m 27s\tremaining: 1m 57s\n1276:\tlearn: 21552.4277354\ttest: 60845.1177883\tbest: 60845.1177883 (1276)\ttotal: 3m 27s\tremaining: 1m 57s\n1277:\tlearn: 21548.3960666\ttest: 60842.4079735\tbest: 60842.4079735 (1277)\ttotal: 3m 27s\tremaining: 1m 57s\n1278:\tlearn: 21533.4539466\ttest: 60841.3065166\tbest: 60841.3065166 (1278)\ttotal: 3m 28s\tremaining: 1m 57s\n1279:\tlearn: 21526.9320088\ttest: 60841.2719741\tbest: 60841.2719741 (1279)\ttotal: 3m 28s\tremaining: 1m 57s\n1280:\tlearn: 21521.1386173\ttest: 60842.3962861\tbest: 60841.2719741 (1279)\ttotal: 3m 28s\tremaining: 1m 56s\n1281:\tlearn: 21511.7678354\ttest: 60844.1620586\tbest: 60841.2719741 (1279)\ttotal: 3m 28s\tremaining: 1m 56s\n1282:\tlearn: 21499.7276083\ttest: 60843.1496149\tbest: 60841.2719741 (1279)\ttotal: 3m 28s\tremaining: 1m 56s\n1283:\tlearn: 21494.1701384\ttest: 60842.6428707\tbest: 60841.2719741 (1279)\ttotal: 3m 28s\tremaining: 1m 56s\n1284:\tlearn: 21480.1688638\ttest: 60833.5838062\tbest: 60833.5838062 (1284)\ttotal: 3m 29s\tremaining: 1m 56s\n1285:\tlearn: 21472.3794968\ttest: 60834.9337177\tbest: 60833.5838062 (1284)\ttotal: 3m 29s\tremaining: 1m 56s\n1286:\tlearn: 21449.4175901\ttest: 60838.7515268\tbest: 60833.5838062 (1284)\ttotal: 3m 29s\tremaining: 1m 56s\n1287:\tlearn: 21431.2169040\ttest: 60842.2664247\tbest: 60833.5838062 (1284)\ttotal: 3m 29s\tremaining: 1m 55s\n1288:\tlearn: 21429.7949430\ttest: 60841.8155119\tbest: 60833.5838062 (1284)\ttotal: 3m 29s\tremaining: 1m 55s\n1289:\tlearn: 21418.0577066\ttest: 60840.0369163\tbest: 60833.5838062 (1284)\ttotal: 3m 29s\tremaining: 1m 55s\n1290:\tlearn: 21405.3221766\ttest: 60839.2976390\tbest: 60833.5838062 (1284)\ttotal: 3m 30s\tremaining: 1m 55s\n1291:\tlearn: 21395.7382626\ttest: 60836.4815822\tbest: 60833.5838062 (1284)\ttotal: 3m 30s\tremaining: 1m 55s\n1292:\tlearn: 21385.0483495\ttest: 60833.2411950\tbest: 60833.2411950 (1292)\ttotal: 3m 30s\tremaining: 1m 55s\n1293:\tlearn: 21368.2952912\ttest: 60833.5339568\tbest: 60833.2411950 (1292)\ttotal: 3m 30s\tremaining: 1m 54s\n1294:\tlearn: 21362.3661980\ttest: 60829.7234313\tbest: 60829.7234313 (1294)\ttotal: 3m 30s\tremaining: 1m 54s\n1295:\tlearn: 21350.0822699\ttest: 60828.7596128\tbest: 60828.7596128 (1295)\ttotal: 3m 30s\tremaining: 1m 54s\n1296:\tlearn: 21341.3484412\ttest: 60826.1907479\tbest: 60826.1907479 (1296)\ttotal: 3m 31s\tremaining: 1m 54s\n1297:\tlearn: 21338.8527177\ttest: 60825.4167295\tbest: 60825.4167295 (1297)\ttotal: 3m 31s\tremaining: 1m 54s\n1298:\tlearn: 21336.5077793\ttest: 60825.4355925\tbest: 60825.4167295 (1297)\ttotal: 3m 31s\tremaining: 1m 54s\n1299:\tlearn: 21332.4371486\ttest: 60826.2814802\tbest: 60825.4167295 (1297)\ttotal: 3m 31s\tremaining: 1m 53s\n1300:\tlearn: 21324.6947892\ttest: 60825.1355872\tbest: 60825.1355872 (1300)\ttotal: 3m 31s\tremaining: 1m 53s\n1301:\tlearn: 21301.2260434\ttest: 60821.9080297\tbest: 60821.9080297 (1301)\ttotal: 3m 31s\tremaining: 1m 53s\n1302:\tlearn: 21295.9075412\ttest: 60820.6306138\tbest: 60820.6306138 (1302)\ttotal: 3m 32s\tremaining: 1m 53s\n1303:\tlearn: 21291.9669317\ttest: 60820.8300429\tbest: 60820.6306138 (1302)\ttotal: 3m 32s\tremaining: 1m 53s\n1304:\tlearn: 21282.3847916\ttest: 60809.5178168\tbest: 60809.5178168 (1304)\ttotal: 3m 32s\tremaining: 1m 53s\n1305:\tlearn: 21279.4081754\ttest: 60809.3849448\tbest: 60809.3849448 (1305)\ttotal: 3m 32s\tremaining: 1m 52s\n1306:\tlearn: 21270.9163089\ttest: 60813.4541320\tbest: 60809.3849448 (1305)\ttotal: 3m 32s\tremaining: 1m 52s\n1307:\tlearn: 21259.1041219\ttest: 60813.4451495\tbest: 60809.3849448 (1305)\ttotal: 3m 32s\tremaining: 1m 52s\n1308:\tlearn: 21252.8208509\ttest: 60819.5076839\tbest: 60809.3849448 (1305)\ttotal: 3m 33s\tremaining: 1m 52s\n1309:\tlearn: 21245.8413546\ttest: 60817.4972161\tbest: 60809.3849448 (1305)\ttotal: 3m 33s\tremaining: 1m 52s\n1310:\tlearn: 21239.1888195\ttest: 60817.7504630\tbest: 60809.3849448 (1305)\ttotal: 3m 33s\tremaining: 1m 52s\n1311:\tlearn: 21237.1189101\ttest: 60816.8208026\tbest: 60809.3849448 (1305)\ttotal: 3m 33s\tremaining: 1m 52s\n1312:\tlearn: 21229.4551635\ttest: 60815.5722684\tbest: 60809.3849448 (1305)\ttotal: 3m 33s\tremaining: 1m 51s\n1313:\tlearn: 21228.4886415\ttest: 60815.4485793\tbest: 60809.3849448 (1305)\ttotal: 3m 33s\tremaining: 1m 51s\n1314:\tlearn: 21217.2106455\ttest: 60816.6358749\tbest: 60809.3849448 (1305)\ttotal: 3m 34s\tremaining: 1m 51s\n1315:\tlearn: 21213.5553288\ttest: 60816.9134247\tbest: 60809.3849448 (1305)\ttotal: 3m 34s\tremaining: 1m 51s\n1316:\tlearn: 21207.3432865\ttest: 60818.0076416\tbest: 60809.3849448 (1305)\ttotal: 3m 34s\tremaining: 1m 51s\n1317:\tlearn: 21202.5643944\ttest: 60816.9483174\tbest: 60809.3849448 (1305)\ttotal: 3m 34s\tremaining: 1m 51s\n1318:\tlearn: 21194.7525729\ttest: 60815.6527268\tbest: 60809.3849448 (1305)\ttotal: 3m 34s\tremaining: 1m 50s\n1319:\tlearn: 21187.5588527\ttest: 60810.5712620\tbest: 60809.3849448 (1305)\ttotal: 3m 34s\tremaining: 1m 50s\n1320:\tlearn: 21176.7219736\ttest: 60807.7484031\tbest: 60807.7484031 (1320)\ttotal: 3m 35s\tremaining: 1m 50s\n1321:\tlearn: 21171.9578062\ttest: 60809.8243075\tbest: 60807.7484031 (1320)\ttotal: 3m 35s\tremaining: 1m 50s\n1322:\tlearn: 21164.5669086\ttest: 60810.8850357\tbest: 60807.7484031 (1320)\ttotal: 3m 35s\tremaining: 1m 50s\n1323:\tlearn: 21159.7694894\ttest: 60807.2175270\tbest: 60807.2175270 (1323)\ttotal: 3m 35s\tremaining: 1m 50s\n1324:\tlearn: 21145.6545614\ttest: 60810.0521034\tbest: 60807.2175270 (1323)\ttotal: 3m 35s\tremaining: 1m 49s\n1325:\tlearn: 21135.2951195\ttest: 60808.9937829\tbest: 60807.2175270 (1323)\ttotal: 3m 35s\tremaining: 1m 49s\n1326:\tlearn: 21127.3304028\ttest: 60807.4279993\tbest: 60807.2175270 (1323)\ttotal: 3m 36s\tremaining: 1m 49s\n1327:\tlearn: 21120.6982942\ttest: 60806.8595953\tbest: 60806.8595953 (1327)\ttotal: 3m 36s\tremaining: 1m 49s\n1328:\tlearn: 21118.4703601\ttest: 60807.2037457\tbest: 60806.8595953 (1327)\ttotal: 3m 36s\tremaining: 1m 49s\n1329:\tlearn: 21109.5297971\ttest: 60804.2621467\tbest: 60804.2621467 (1329)\ttotal: 3m 36s\tremaining: 1m 49s\n1330:\tlearn: 21102.7540157\ttest: 60803.1129196\tbest: 60803.1129196 (1330)\ttotal: 3m 36s\tremaining: 1m 48s\n1331:\tlearn: 21097.5344638\ttest: 60801.1938140\tbest: 60801.1938140 (1331)\ttotal: 3m 36s\tremaining: 1m 48s\n1332:\tlearn: 21083.7548138\ttest: 60800.9583735\tbest: 60800.9583735 (1332)\ttotal: 3m 37s\tremaining: 1m 48s\n1333:\tlearn: 21069.8472854\ttest: 60795.3263888\tbest: 60795.3263888 (1333)\ttotal: 3m 37s\tremaining: 1m 48s\n1334:\tlearn: 21057.7425673\ttest: 60799.1402878\tbest: 60795.3263888 (1333)\ttotal: 3m 37s\tremaining: 1m 48s\n1335:\tlearn: 21050.9891443\ttest: 60792.1001996\tbest: 60792.1001996 (1335)\ttotal: 3m 37s\tremaining: 1m 48s\n1336:\tlearn: 21044.0407324\ttest: 60791.4167463\tbest: 60791.4167463 (1336)\ttotal: 3m 37s\tremaining: 1m 47s\n1337:\tlearn: 21042.3691627\ttest: 60792.2462555\tbest: 60791.4167463 (1336)\ttotal: 3m 37s\tremaining: 1m 47s\n1338:\tlearn: 21036.5077417\ttest: 60790.6882173\tbest: 60790.6882173 (1338)\ttotal: 3m 38s\tremaining: 1m 47s\n1339:\tlearn: 21034.6962776\ttest: 60790.1951960\tbest: 60790.1951960 (1339)\ttotal: 3m 38s\tremaining: 1m 47s\n1340:\tlearn: 21028.1275243\ttest: 60789.8415237\tbest: 60789.8415237 (1340)\ttotal: 3m 38s\tremaining: 1m 47s\n1341:\tlearn: 21015.8465266\ttest: 60792.1408822\tbest: 60789.8415237 (1340)\ttotal: 3m 38s\tremaining: 1m 47s\n1342:\tlearn: 21007.7809110\ttest: 60791.9478548\tbest: 60789.8415237 (1340)\ttotal: 3m 38s\tremaining: 1m 46s\n1343:\tlearn: 20991.2992476\ttest: 60789.3019989\tbest: 60789.3019989 (1343)\ttotal: 3m 38s\tremaining: 1m 46s\n1344:\tlearn: 20973.8762245\ttest: 60788.1803022\tbest: 60788.1803022 (1344)\ttotal: 3m 39s\tremaining: 1m 46s\n1345:\tlearn: 20949.9034265\ttest: 60788.2628341\tbest: 60788.1803022 (1344)\ttotal: 3m 39s\tremaining: 1m 46s\n1346:\tlearn: 20937.7772939\ttest: 60789.3093993\tbest: 60788.1803022 (1344)\ttotal: 3m 39s\tremaining: 1m 46s\n1347:\tlearn: 20928.3716304\ttest: 60787.6508672\tbest: 60787.6508672 (1347)\ttotal: 3m 39s\tremaining: 1m 46s\n1348:\tlearn: 20913.3941012\ttest: 60780.9976482\tbest: 60780.9976482 (1348)\ttotal: 3m 39s\tremaining: 1m 45s\n1349:\tlearn: 20908.8325900\ttest: 60778.8901697\tbest: 60778.8901697 (1349)\ttotal: 3m 39s\tremaining: 1m 45s\n1350:\tlearn: 20885.2035909\ttest: 60771.6390620\tbest: 60771.6390620 (1350)\ttotal: 3m 39s\tremaining: 1m 45s\n1351:\tlearn: 20868.4756035\ttest: 60767.4587380\tbest: 60767.4587380 (1351)\ttotal: 3m 40s\tremaining: 1m 45s\n1352:\tlearn: 20847.6114156\ttest: 60765.6846183\tbest: 60765.6846183 (1352)\ttotal: 3m 40s\tremaining: 1m 45s\n1353:\tlearn: 20837.0079164\ttest: 60765.2047887\tbest: 60765.2047887 (1353)\ttotal: 3m 40s\tremaining: 1m 45s\n1354:\tlearn: 20823.7304112\ttest: 60764.2078983\tbest: 60764.2078983 (1354)\ttotal: 3m 40s\tremaining: 1m 45s\n1355:\tlearn: 20814.1872078\ttest: 60762.4467518\tbest: 60762.4467518 (1355)\ttotal: 3m 40s\tremaining: 1m 44s\n1356:\tlearn: 20806.4894840\ttest: 60761.5835785\tbest: 60761.5835785 (1356)\ttotal: 3m 41s\tremaining: 1m 44s\n1357:\tlearn: 20800.5600855\ttest: 60763.0477577\tbest: 60761.5835785 (1356)\ttotal: 3m 41s\tremaining: 1m 44s\n1358:\tlearn: 20787.8481963\ttest: 60757.6608772\tbest: 60757.6608772 (1358)\ttotal: 3m 41s\tremaining: 1m 44s\n1359:\tlearn: 20776.5999411\ttest: 60758.7311238\tbest: 60757.6608772 (1358)\ttotal: 3m 41s\tremaining: 1m 44s\n1360:\tlearn: 20761.5328867\ttest: 60762.1485403\tbest: 60757.6608772 (1358)\ttotal: 3m 41s\tremaining: 1m 44s\n1361:\tlearn: 20737.6723271\ttest: 60770.3375517\tbest: 60757.6608772 (1358)\ttotal: 3m 41s\tremaining: 1m 43s\n1362:\tlearn: 20736.2081498\ttest: 60770.2709970\tbest: 60757.6608772 (1358)\ttotal: 3m 42s\tremaining: 1m 43s\n1363:\tlearn: 20721.9665915\ttest: 60769.8973242\tbest: 60757.6608772 (1358)\ttotal: 3m 42s\tremaining: 1m 43s\n1364:\tlearn: 20720.4203026\ttest: 60769.8046506\tbest: 60757.6608772 (1358)\ttotal: 3m 42s\tremaining: 1m 43s\n1365:\tlearn: 20702.5904893\ttest: 60767.7616391\tbest: 60757.6608772 (1358)\ttotal: 3m 42s\tremaining: 1m 43s\n1366:\tlearn: 20694.3577501\ttest: 60767.6842421\tbest: 60757.6608772 (1358)\ttotal: 3m 42s\tremaining: 1m 43s\n1367:\tlearn: 20686.6367046\ttest: 60769.9966972\tbest: 60757.6608772 (1358)\ttotal: 3m 42s\tremaining: 1m 43s\n1368:\tlearn: 20683.3566335\ttest: 60768.9510306\tbest: 60757.6608772 (1358)\ttotal: 3m 43s\tremaining: 1m 42s\n1369:\tlearn: 20668.1230670\ttest: 60768.0654451\tbest: 60757.6608772 (1358)\ttotal: 3m 43s\tremaining: 1m 42s\n1370:\tlearn: 20651.9362244\ttest: 60772.4842237\tbest: 60757.6608772 (1358)\ttotal: 3m 43s\tremaining: 1m 42s\n1371:\tlearn: 20642.7977706\ttest: 60772.9967429\tbest: 60757.6608772 (1358)\ttotal: 3m 43s\tremaining: 1m 42s\n1372:\tlearn: 20639.8277632\ttest: 60773.4031632\tbest: 60757.6608772 (1358)\ttotal: 3m 43s\tremaining: 1m 42s\n1373:\tlearn: 20620.9024271\ttest: 60778.2316336\tbest: 60757.6608772 (1358)\ttotal: 3m 44s\tremaining: 1m 42s\n1374:\tlearn: 20604.5902153\ttest: 60776.3289628\tbest: 60757.6608772 (1358)\ttotal: 3m 44s\tremaining: 1m 41s\n1375:\tlearn: 20592.6226580\ttest: 60776.2605648\tbest: 60757.6608772 (1358)\ttotal: 3m 44s\tremaining: 1m 41s\n1376:\tlearn: 20582.2665604\ttest: 60773.9430586\tbest: 60757.6608772 (1358)\ttotal: 3m 44s\tremaining: 1m 41s\n1377:\tlearn: 20569.8843388\ttest: 60766.4821839\tbest: 60757.6608772 (1358)\ttotal: 3m 44s\tremaining: 1m 41s\n1378:\tlearn: 20558.5285081\ttest: 60768.5999671\tbest: 60757.6608772 (1358)\ttotal: 3m 44s\tremaining: 1m 41s\n1379:\tlearn: 20545.7515875\ttest: 60765.7282495\tbest: 60757.6608772 (1358)\ttotal: 3m 45s\tremaining: 1m 41s\n1380:\tlearn: 20545.3639641\ttest: 60765.6188687\tbest: 60757.6608772 (1358)\ttotal: 3m 45s\tremaining: 1m 40s\n1381:\tlearn: 20534.5726964\ttest: 60764.8270431\tbest: 60757.6608772 (1358)\ttotal: 3m 45s\tremaining: 1m 40s\n1382:\tlearn: 20527.7456671\ttest: 60765.4000301\tbest: 60757.6608772 (1358)\ttotal: 3m 45s\tremaining: 1m 40s\n1383:\tlearn: 20526.4323870\ttest: 60765.3661741\tbest: 60757.6608772 (1358)\ttotal: 3m 45s\tremaining: 1m 40s\n1384:\tlearn: 20521.7337643\ttest: 60764.9890216\tbest: 60757.6608772 (1358)\ttotal: 3m 45s\tremaining: 1m 40s\n1385:\tlearn: 20512.0600914\ttest: 60765.7943328\tbest: 60757.6608772 (1358)\ttotal: 3m 46s\tremaining: 1m 40s\n1386:\tlearn: 20501.5818134\ttest: 60766.9858166\tbest: 60757.6608772 (1358)\ttotal: 3m 46s\tremaining: 1m 39s\n1387:\tlearn: 20487.6592795\ttest: 60768.0325472\tbest: 60757.6608772 (1358)\ttotal: 3m 46s\tremaining: 1m 39s\n1388:\tlearn: 20480.4681799\ttest: 60767.6717784\tbest: 60757.6608772 (1358)\ttotal: 3m 46s\tremaining: 1m 39s\n1389:\tlearn: 20475.1452737\ttest: 60767.5094556\tbest: 60757.6608772 (1358)\ttotal: 3m 46s\tremaining: 1m 39s\n1390:\tlearn: 20460.2389237\ttest: 60765.4384528\tbest: 60757.6608772 (1358)\ttotal: 3m 46s\tremaining: 1m 39s\n1391:\tlearn: 20453.9253484\ttest: 60765.6295558\tbest: 60757.6608772 (1358)\ttotal: 3m 47s\tremaining: 1m 39s\n1392:\tlearn: 20447.9687746\ttest: 60763.4926703\tbest: 60757.6608772 (1358)\ttotal: 3m 47s\tremaining: 1m 39s\n1393:\tlearn: 20424.6559822\ttest: 60757.8978393\tbest: 60757.6608772 (1358)\ttotal: 3m 47s\tremaining: 1m 38s\n1394:\tlearn: 20403.7181169\ttest: 60758.9713745\tbest: 60757.6608772 (1358)\ttotal: 3m 47s\tremaining: 1m 38s\n1395:\tlearn: 20396.5860283\ttest: 60758.9161656\tbest: 60757.6608772 (1358)\ttotal: 3m 47s\tremaining: 1m 38s\n1396:\tlearn: 20386.9559327\ttest: 60758.7351097\tbest: 60757.6608772 (1358)\ttotal: 3m 47s\tremaining: 1m 38s\n1397:\tlearn: 20380.6482702\ttest: 60758.2894023\tbest: 60757.6608772 (1358)\ttotal: 3m 48s\tremaining: 1m 38s\n1398:\tlearn: 20372.9178045\ttest: 60758.3706995\tbest: 60757.6608772 (1358)\ttotal: 3m 48s\tremaining: 1m 38s\n1399:\tlearn: 20370.2590498\ttest: 60757.3029430\tbest: 60757.3029430 (1399)\ttotal: 3m 48s\tremaining: 1m 37s\n1400:\tlearn: 20354.1211217\ttest: 60752.6590866\tbest: 60752.6590866 (1400)\ttotal: 3m 48s\tremaining: 1m 37s\n1401:\tlearn: 20341.1770803\ttest: 60744.9840017\tbest: 60744.9840017 (1401)\ttotal: 3m 48s\tremaining: 1m 37s\n1402:\tlearn: 20332.1788687\ttest: 60748.4367602\tbest: 60744.9840017 (1401)\ttotal: 3m 48s\tremaining: 1m 37s\n1403:\tlearn: 20322.0735861\ttest: 60750.2804353\tbest: 60744.9840017 (1401)\ttotal: 3m 49s\tremaining: 1m 37s\n1404:\tlearn: 20313.0492192\ttest: 60752.1653073\tbest: 60744.9840017 (1401)\ttotal: 3m 49s\tremaining: 1m 37s\n1405:\tlearn: 20306.0126968\ttest: 60748.0515395\tbest: 60744.9840017 (1401)\ttotal: 3m 49s\tremaining: 1m 36s\n1406:\tlearn: 20300.6789311\ttest: 60745.6333232\tbest: 60744.9840017 (1401)\ttotal: 3m 49s\tremaining: 1m 36s\n1407:\tlearn: 20290.1941624\ttest: 60750.0775473\tbest: 60744.9840017 (1401)\ttotal: 3m 49s\tremaining: 1m 36s\n1408:\tlearn: 20283.9502657\ttest: 60748.7487748\tbest: 60744.9840017 (1401)\ttotal: 3m 49s\tremaining: 1m 36s\n1409:\tlearn: 20264.8072674\ttest: 60747.7679159\tbest: 60744.9840017 (1401)\ttotal: 3m 50s\tremaining: 1m 36s\n1410:\tlearn: 20253.8847879\ttest: 60746.3069702\tbest: 60744.9840017 (1401)\ttotal: 3m 50s\tremaining: 1m 36s\n1411:\tlearn: 20239.0681940\ttest: 60744.2356702\tbest: 60744.2356702 (1411)\ttotal: 3m 50s\tremaining: 1m 35s\n1412:\tlearn: 20233.3598086\ttest: 60745.2727190\tbest: 60744.2356702 (1411)\ttotal: 3m 50s\tremaining: 1m 35s\n1413:\tlearn: 20227.1705538\ttest: 60749.0633931\tbest: 60744.2356702 (1411)\ttotal: 3m 50s\tremaining: 1m 35s\n1414:\tlearn: 20211.6527942\ttest: 60748.3183947\tbest: 60744.2356702 (1411)\ttotal: 3m 50s\tremaining: 1m 35s\n1415:\tlearn: 20205.9144928\ttest: 60746.9727931\tbest: 60744.2356702 (1411)\ttotal: 3m 51s\tremaining: 1m 35s\n1416:\tlearn: 20200.7223248\ttest: 60747.4175940\tbest: 60744.2356702 (1411)\ttotal: 3m 51s\tremaining: 1m 35s\n1417:\tlearn: 20189.9692473\ttest: 60742.2729481\tbest: 60742.2729481 (1417)\ttotal: 3m 51s\tremaining: 1m 34s\n1418:\tlearn: 20187.7066957\ttest: 60741.5725967\tbest: 60741.5725967 (1418)\ttotal: 3m 51s\tremaining: 1m 34s\n1419:\tlearn: 20178.9521656\ttest: 60739.5603267\tbest: 60739.5603267 (1419)\ttotal: 3m 51s\tremaining: 1m 34s\n1420:\tlearn: 20170.9343947\ttest: 60739.5905562\tbest: 60739.5603267 (1419)\ttotal: 3m 51s\tremaining: 1m 34s\n1421:\tlearn: 20166.9862846\ttest: 60738.6907853\tbest: 60738.6907853 (1421)\ttotal: 3m 52s\tremaining: 1m 34s\n1422:\tlearn: 20160.2410668\ttest: 60738.5532326\tbest: 60738.5532326 (1422)\ttotal: 3m 52s\tremaining: 1m 34s\n1423:\tlearn: 20148.9710897\ttest: 60739.9351336\tbest: 60738.5532326 (1422)\ttotal: 3m 52s\tremaining: 1m 33s\n1424:\tlearn: 20142.2665287\ttest: 60736.7086401\tbest: 60736.7086401 (1424)\ttotal: 3m 52s\tremaining: 1m 33s\n1425:\tlearn: 20128.7681940\ttest: 60735.3909797\tbest: 60735.3909797 (1425)\ttotal: 3m 52s\tremaining: 1m 33s\n1426:\tlearn: 20124.6220348\ttest: 60733.1949338\tbest: 60733.1949338 (1426)\ttotal: 3m 52s\tremaining: 1m 33s\n1427:\tlearn: 20112.3740687\ttest: 60730.5636983\tbest: 60730.5636983 (1427)\ttotal: 3m 53s\tremaining: 1m 33s\n1428:\tlearn: 20104.1035118\ttest: 60730.0239853\tbest: 60730.0239853 (1428)\ttotal: 3m 53s\tremaining: 1m 33s\n1429:\tlearn: 20082.3240551\ttest: 60725.9372251\tbest: 60725.9372251 (1429)\ttotal: 3m 53s\tremaining: 1m 33s\n1430:\tlearn: 20074.2892337\ttest: 60725.8188669\tbest: 60725.8188669 (1430)\ttotal: 3m 53s\tremaining: 1m 32s\n1431:\tlearn: 20056.5447539\ttest: 60730.1836608\tbest: 60725.8188669 (1430)\ttotal: 3m 53s\tremaining: 1m 32s\n1432:\tlearn: 20047.2689666\ttest: 60733.1876753\tbest: 60725.8188669 (1430)\ttotal: 3m 53s\tremaining: 1m 32s\n1433:\tlearn: 20026.8505711\ttest: 60739.1027793\tbest: 60725.8188669 (1430)\ttotal: 3m 54s\tremaining: 1m 32s\n1434:\tlearn: 20024.3576020\ttest: 60738.5025300\tbest: 60725.8188669 (1430)\ttotal: 3m 54s\tremaining: 1m 32s\n1435:\tlearn: 20022.6034141\ttest: 60738.8712737\tbest: 60725.8188669 (1430)\ttotal: 3m 54s\tremaining: 1m 32s\n1436:\tlearn: 20000.7847793\ttest: 60741.7570278\tbest: 60725.8188669 (1430)\ttotal: 3m 54s\tremaining: 1m 31s\n1437:\tlearn: 19989.4735823\ttest: 60739.3785203\tbest: 60725.8188669 (1430)\ttotal: 3m 54s\tremaining: 1m 31s\n1438:\tlearn: 19985.9198223\ttest: 60740.4917077\tbest: 60725.8188669 (1430)\ttotal: 3m 54s\tremaining: 1m 31s\n1439:\tlearn: 19984.7054830\ttest: 60739.7420121\tbest: 60725.8188669 (1430)\ttotal: 3m 55s\tremaining: 1m 31s\n1440:\tlearn: 19976.8933064\ttest: 60739.2220690\tbest: 60725.8188669 (1430)\ttotal: 3m 55s\tremaining: 1m 31s\n1441:\tlearn: 19973.0759882\ttest: 60740.9607864\tbest: 60725.8188669 (1430)\ttotal: 3m 55s\tremaining: 1m 31s\n1442:\tlearn: 19966.9518717\ttest: 60739.0795467\tbest: 60725.8188669 (1430)\ttotal: 3m 55s\tremaining: 1m 30s\n1443:\tlearn: 19952.6223921\ttest: 60747.1936535\tbest: 60725.8188669 (1430)\ttotal: 3m 55s\tremaining: 1m 30s\n1444:\tlearn: 19945.0999651\ttest: 60746.7653042\tbest: 60725.8188669 (1430)\ttotal: 3m 55s\tremaining: 1m 30s\n1445:\tlearn: 19938.8897143\ttest: 60746.1985958\tbest: 60725.8188669 (1430)\ttotal: 3m 56s\tremaining: 1m 30s\n1446:\tlearn: 19929.3232353\ttest: 60739.9537764\tbest: 60725.8188669 (1430)\ttotal: 3m 56s\tremaining: 1m 30s\n1447:\tlearn: 19918.7367163\ttest: 60739.4312236\tbest: 60725.8188669 (1430)\ttotal: 3m 56s\tremaining: 1m 30s\n1448:\tlearn: 19913.9153402\ttest: 60739.9713026\tbest: 60725.8188669 (1430)\ttotal: 3m 56s\tremaining: 1m 29s\n1449:\tlearn: 19900.8531333\ttest: 60740.1843002\tbest: 60725.8188669 (1430)\ttotal: 3m 56s\tremaining: 1m 29s\n1450:\tlearn: 19885.5594358\ttest: 60733.8692693\tbest: 60725.8188669 (1430)\ttotal: 3m 56s\tremaining: 1m 29s\n1451:\tlearn: 19875.2390451\ttest: 60732.5339677\tbest: 60725.8188669 (1430)\ttotal: 3m 57s\tremaining: 1m 29s\n1452:\tlearn: 19863.5972023\ttest: 60728.8999160\tbest: 60725.8188669 (1430)\ttotal: 3m 57s\tremaining: 1m 29s\n1453:\tlearn: 19849.5669680\ttest: 60728.5734882\tbest: 60725.8188669 (1430)\ttotal: 3m 57s\tremaining: 1m 29s\n1454:\tlearn: 19840.1702148\ttest: 60730.0635978\tbest: 60725.8188669 (1430)\ttotal: 3m 57s\tremaining: 1m 29s\n1455:\tlearn: 19825.4196792\ttest: 60728.3252574\tbest: 60725.8188669 (1430)\ttotal: 3m 57s\tremaining: 1m 28s\n1456:\tlearn: 19811.3567554\ttest: 60720.3347060\tbest: 60720.3347060 (1456)\ttotal: 3m 57s\tremaining: 1m 28s\n1457:\tlearn: 19799.9600824\ttest: 60712.7933248\tbest: 60712.7933248 (1457)\ttotal: 3m 58s\tremaining: 1m 28s\n1458:\tlearn: 19793.9331098\ttest: 60711.2116822\tbest: 60711.2116822 (1458)\ttotal: 3m 58s\tremaining: 1m 28s\n1459:\tlearn: 19789.6194866\ttest: 60709.3096739\tbest: 60709.3096739 (1459)\ttotal: 3m 58s\tremaining: 1m 28s\n1460:\tlearn: 19782.2654264\ttest: 60704.9735710\tbest: 60704.9735710 (1460)\ttotal: 3m 58s\tremaining: 1m 28s\n1461:\tlearn: 19762.3077727\ttest: 60707.3632570\tbest: 60704.9735710 (1460)\ttotal: 3m 59s\tremaining: 1m 27s\n1462:\tlearn: 19741.7482857\ttest: 60707.4736049\tbest: 60704.9735710 (1460)\ttotal: 3m 59s\tremaining: 1m 27s\n1463:\tlearn: 19736.3503352\ttest: 60705.8427342\tbest: 60704.9735710 (1460)\ttotal: 3m 59s\tremaining: 1m 27s\n1464:\tlearn: 19733.8019542\ttest: 60703.6132998\tbest: 60703.6132998 (1464)\ttotal: 3m 59s\tremaining: 1m 27s\n1465:\tlearn: 19725.0000420\ttest: 60700.8927809\tbest: 60700.8927809 (1465)\ttotal: 3m 59s\tremaining: 1m 27s\n1466:\tlearn: 19717.1341133\ttest: 60701.6392015\tbest: 60700.8927809 (1465)\ttotal: 3m 59s\tremaining: 1m 27s\n1467:\tlearn: 19706.6044797\ttest: 60706.6142449\tbest: 60700.8927809 (1465)\ttotal: 4m\tremaining: 1m 27s\n1468:\tlearn: 19698.8163450\ttest: 60713.5471206\tbest: 60700.8927809 (1465)\ttotal: 4m\tremaining: 1m 26s\n1469:\tlearn: 19691.5986950\ttest: 60713.3655546\tbest: 60700.8927809 (1465)\ttotal: 4m\tremaining: 1m 26s\n1470:\tlearn: 19680.0575965\ttest: 60713.6721905\tbest: 60700.8927809 (1465)\ttotal: 4m\tremaining: 1m 26s\n1471:\tlearn: 19671.2607410\ttest: 60719.1309885\tbest: 60700.8927809 (1465)\ttotal: 4m 1s\tremaining: 1m 26s\n1472:\tlearn: 19664.9543984\ttest: 60719.3541344\tbest: 60700.8927809 (1465)\ttotal: 4m 1s\tremaining: 1m 26s\n1473:\tlearn: 19660.3540252\ttest: 60723.0714955\tbest: 60700.8927809 (1465)\ttotal: 4m 1s\tremaining: 1m 26s\n1474:\tlearn: 19632.3975389\ttest: 60720.6156213\tbest: 60700.8927809 (1465)\ttotal: 4m 1s\tremaining: 1m 25s\n1475:\tlearn: 19623.8522600\ttest: 60720.4495896\tbest: 60700.8927809 (1465)\ttotal: 4m 1s\tremaining: 1m 25s\n1476:\tlearn: 19616.1308294\ttest: 60720.9223291\tbest: 60700.8927809 (1465)\ttotal: 4m 1s\tremaining: 1m 25s\n1477:\tlearn: 19606.7531861\ttest: 60719.7982634\tbest: 60700.8927809 (1465)\ttotal: 4m 2s\tremaining: 1m 25s\n1478:\tlearn: 19593.7031349\ttest: 60712.5187314\tbest: 60700.8927809 (1465)\ttotal: 4m 2s\tremaining: 1m 25s\n1479:\tlearn: 19577.0741525\ttest: 60714.9410472\tbest: 60700.8927809 (1465)\ttotal: 4m 2s\tremaining: 1m 25s\n1480:\tlearn: 19567.4894731\ttest: 60720.3891849\tbest: 60700.8927809 (1465)\ttotal: 4m 2s\tremaining: 1m 24s\n1481:\tlearn: 19559.1868207\ttest: 60722.0794344\tbest: 60700.8927809 (1465)\ttotal: 4m 2s\tremaining: 1m 24s\n1482:\tlearn: 19551.4595447\ttest: 60721.5811404\tbest: 60700.8927809 (1465)\ttotal: 4m 2s\tremaining: 1m 24s\n1483:\tlearn: 19541.6267608\ttest: 60721.2266221\tbest: 60700.8927809 (1465)\ttotal: 4m 3s\tremaining: 1m 24s\n1484:\tlearn: 19533.4844364\ttest: 60718.4630405\tbest: 60700.8927809 (1465)\ttotal: 4m 3s\tremaining: 1m 24s\n1485:\tlearn: 19519.3291151\ttest: 60717.2821469\tbest: 60700.8927809 (1465)\ttotal: 4m 3s\tremaining: 1m 24s\n1486:\tlearn: 19516.8325315\ttest: 60716.4686494\tbest: 60700.8927809 (1465)\ttotal: 4m 3s\tremaining: 1m 24s\n1487:\tlearn: 19509.7883726\ttest: 60716.1318911\tbest: 60700.8927809 (1465)\ttotal: 4m 3s\tremaining: 1m 23s\n1488:\tlearn: 19501.2439584\ttest: 60718.7729722\tbest: 60700.8927809 (1465)\ttotal: 4m 3s\tremaining: 1m 23s\n1489:\tlearn: 19493.6082063\ttest: 60720.7710961\tbest: 60700.8927809 (1465)\ttotal: 4m 4s\tremaining: 1m 23s\n1490:\tlearn: 19477.4656559\ttest: 60713.9733042\tbest: 60700.8927809 (1465)\ttotal: 4m 4s\tremaining: 1m 23s\n1491:\tlearn: 19469.4058105\ttest: 60711.3986035\tbest: 60700.8927809 (1465)\ttotal: 4m 4s\tremaining: 1m 23s\n1492:\tlearn: 19458.7996294\ttest: 60711.3433196\tbest: 60700.8927809 (1465)\ttotal: 4m 4s\tremaining: 1m 23s\n1493:\tlearn: 19453.7365145\ttest: 60709.4130016\tbest: 60700.8927809 (1465)\ttotal: 4m 4s\tremaining: 1m 22s\n1494:\tlearn: 19442.5512617\ttest: 60708.8211931\tbest: 60700.8927809 (1465)\ttotal: 4m 5s\tremaining: 1m 22s\n1495:\tlearn: 19432.1731787\ttest: 60706.9190763\tbest: 60700.8927809 (1465)\ttotal: 4m 5s\tremaining: 1m 22s\n1496:\tlearn: 19414.4804884\ttest: 60697.0099202\tbest: 60697.0099202 (1496)\ttotal: 4m 5s\tremaining: 1m 22s\n1497:\tlearn: 19408.0107290\ttest: 60694.0543526\tbest: 60694.0543526 (1497)\ttotal: 4m 5s\tremaining: 1m 22s\n1498:\tlearn: 19403.8291946\ttest: 60693.6533718\tbest: 60693.6533718 (1498)\ttotal: 4m 5s\tremaining: 1m 22s\n1499:\tlearn: 19394.7970834\ttest: 60693.3498354\tbest: 60693.3498354 (1499)\ttotal: 4m 5s\tremaining: 1m 21s\n1500:\tlearn: 19393.4582881\ttest: 60693.5479711\tbest: 60693.3498354 (1499)\ttotal: 4m 6s\tremaining: 1m 21s\n1501:\tlearn: 19387.9134074\ttest: 60692.0579443\tbest: 60692.0579443 (1501)\ttotal: 4m 6s\tremaining: 1m 21s\n1502:\tlearn: 19382.8184668\ttest: 60693.7835329\tbest: 60692.0579443 (1501)\ttotal: 4m 6s\tremaining: 1m 21s\n1503:\tlearn: 19377.1475139\ttest: 60692.5969875\tbest: 60692.0579443 (1501)\ttotal: 4m 6s\tremaining: 1m 21s\n1504:\tlearn: 19368.2287237\ttest: 60688.7052836\tbest: 60688.7052836 (1504)\ttotal: 4m 6s\tremaining: 1m 21s\n1505:\tlearn: 19360.8006397\ttest: 60688.4641181\tbest: 60688.4641181 (1505)\ttotal: 4m 6s\tremaining: 1m 21s\n1506:\tlearn: 19353.4707670\ttest: 60688.6595920\tbest: 60688.4641181 (1505)\ttotal: 4m 7s\tremaining: 1m 20s\n1507:\tlearn: 19351.6668615\ttest: 60689.1587754\tbest: 60688.4641181 (1505)\ttotal: 4m 7s\tremaining: 1m 20s\n1508:\tlearn: 19346.6207285\ttest: 60687.9856430\tbest: 60687.9856430 (1508)\ttotal: 4m 7s\tremaining: 1m 20s\n1509:\tlearn: 19339.0854127\ttest: 60689.0873711\tbest: 60687.9856430 (1508)\ttotal: 4m 7s\tremaining: 1m 20s\n1510:\tlearn: 19332.1119197\ttest: 60685.2378330\tbest: 60685.2378330 (1510)\ttotal: 4m 7s\tremaining: 1m 20s\n1511:\tlearn: 19321.4335012\ttest: 60681.3050485\tbest: 60681.3050485 (1511)\ttotal: 4m 7s\tremaining: 1m 20s\n1512:\tlearn: 19315.7199708\ttest: 60680.3420878\tbest: 60680.3420878 (1512)\ttotal: 4m 8s\tremaining: 1m 19s\n1513:\tlearn: 19303.3261625\ttest: 60674.7459405\tbest: 60674.7459405 (1513)\ttotal: 4m 8s\tremaining: 1m 19s\n1514:\tlearn: 19294.4447160\ttest: 60674.6813252\tbest: 60674.6813252 (1514)\ttotal: 4m 8s\tremaining: 1m 19s\n1515:\tlearn: 19281.9211708\ttest: 60673.0264060\tbest: 60673.0264060 (1515)\ttotal: 4m 8s\tremaining: 1m 19s\n1516:\tlearn: 19279.0854711\ttest: 60670.2526774\tbest: 60670.2526774 (1516)\ttotal: 4m 8s\tremaining: 1m 19s\n1517:\tlearn: 19269.8596565\ttest: 60669.5182534\tbest: 60669.5182534 (1517)\ttotal: 4m 8s\tremaining: 1m 19s\n1518:\tlearn: 19266.4994338\ttest: 60669.2570133\tbest: 60669.2570133 (1518)\ttotal: 4m 9s\tremaining: 1m 18s\n1519:\tlearn: 19259.4179018\ttest: 60669.4413952\tbest: 60669.2570133 (1518)\ttotal: 4m 9s\tremaining: 1m 18s\n1520:\tlearn: 19248.0890688\ttest: 60670.8715198\tbest: 60669.2570133 (1518)\ttotal: 4m 9s\tremaining: 1m 18s\n1521:\tlearn: 19243.3654954\ttest: 60666.8023141\tbest: 60666.8023141 (1521)\ttotal: 4m 9s\tremaining: 1m 18s\n1522:\tlearn: 19234.8965809\ttest: 60666.0986114\tbest: 60666.0986114 (1522)\ttotal: 4m 9s\tremaining: 1m 18s\n1523:\tlearn: 19230.1906065\ttest: 60666.0517455\tbest: 60666.0517455 (1523)\ttotal: 4m 9s\tremaining: 1m 18s\n1524:\tlearn: 19228.4577068\ttest: 60664.9553244\tbest: 60664.9553244 (1524)\ttotal: 4m 10s\tremaining: 1m 17s\n1525:\tlearn: 19222.5940462\ttest: 60665.3980938\tbest: 60664.9553244 (1524)\ttotal: 4m 10s\tremaining: 1m 17s\n1526:\tlearn: 19215.5223035\ttest: 60665.4702792\tbest: 60664.9553244 (1524)\ttotal: 4m 10s\tremaining: 1m 17s\n1527:\tlearn: 19212.0874426\ttest: 60666.4598232\tbest: 60664.9553244 (1524)\ttotal: 4m 10s\tremaining: 1m 17s\n1528:\tlearn: 19204.8554072\ttest: 60663.9251782\tbest: 60663.9251782 (1528)\ttotal: 4m 10s\tremaining: 1m 17s\n1529:\tlearn: 19190.4896751\ttest: 60667.6570458\tbest: 60663.9251782 (1528)\ttotal: 4m 10s\tremaining: 1m 17s\n1530:\tlearn: 19189.1361995\ttest: 60667.8672276\tbest: 60663.9251782 (1528)\ttotal: 4m 11s\tremaining: 1m 16s\n1531:\tlearn: 19182.7246253\ttest: 60668.4662534\tbest: 60663.9251782 (1528)\ttotal: 4m 11s\tremaining: 1m 16s\n1532:\tlearn: 19177.9263598\ttest: 60667.2587383\tbest: 60663.9251782 (1528)\ttotal: 4m 11s\tremaining: 1m 16s\n1533:\tlearn: 19174.4957185\ttest: 60666.8320415\tbest: 60663.9251782 (1528)\ttotal: 4m 11s\tremaining: 1m 16s\n1534:\tlearn: 19166.3211609\ttest: 60667.2472421\tbest: 60663.9251782 (1528)\ttotal: 4m 11s\tremaining: 1m 16s\n1535:\tlearn: 19163.7145572\ttest: 60669.2979078\tbest: 60663.9251782 (1528)\ttotal: 4m 11s\tremaining: 1m 16s\n1536:\tlearn: 19146.9150603\ttest: 60668.8027294\tbest: 60663.9251782 (1528)\ttotal: 4m 12s\tremaining: 1m 15s\n1537:\tlearn: 19137.2931591\ttest: 60667.0321949\tbest: 60663.9251782 (1528)\ttotal: 4m 12s\tremaining: 1m 15s\n1538:\tlearn: 19132.0636700\ttest: 60667.5641194\tbest: 60663.9251782 (1528)\ttotal: 4m 12s\tremaining: 1m 15s\n1539:\tlearn: 19131.5739593\ttest: 60667.7150326\tbest: 60663.9251782 (1528)\ttotal: 4m 12s\tremaining: 1m 15s\n1540:\tlearn: 19128.1156806\ttest: 60666.7349972\tbest: 60663.9251782 (1528)\ttotal: 4m 12s\tremaining: 1m 15s\n1541:\tlearn: 19125.1798604\ttest: 60668.0812095\tbest: 60663.9251782 (1528)\ttotal: 4m 13s\tremaining: 1m 15s\n1542:\tlearn: 19117.3348373\ttest: 60667.1918051\tbest: 60663.9251782 (1528)\ttotal: 4m 13s\tremaining: 1m 15s\n1543:\tlearn: 19091.8937887\ttest: 60657.3498995\tbest: 60657.3498995 (1543)\ttotal: 4m 13s\tremaining: 1m 14s\n1544:\tlearn: 19079.7397335\ttest: 60658.6891087\tbest: 60657.3498995 (1543)\ttotal: 4m 13s\tremaining: 1m 14s\n1545:\tlearn: 19077.0410104\ttest: 60658.3135042\tbest: 60657.3498995 (1543)\ttotal: 4m 13s\tremaining: 1m 14s\n1546:\tlearn: 19075.5915286\ttest: 60657.9169348\tbest: 60657.3498995 (1543)\ttotal: 4m 13s\tremaining: 1m 14s\n1547:\tlearn: 19073.7619702\ttest: 60657.6422022\tbest: 60657.3498995 (1543)\ttotal: 4m 14s\tremaining: 1m 14s\n1548:\tlearn: 19061.8888409\ttest: 60659.3334498\tbest: 60657.3498995 (1543)\ttotal: 4m 14s\tremaining: 1m 14s\n1549:\tlearn: 19055.9488230\ttest: 60659.2151202\tbest: 60657.3498995 (1543)\ttotal: 4m 14s\tremaining: 1m 13s\n1550:\tlearn: 19049.2587740\ttest: 60657.4666065\tbest: 60657.3498995 (1543)\ttotal: 4m 14s\tremaining: 1m 13s\n1551:\tlearn: 19042.9200953\ttest: 60656.9300557\tbest: 60656.9300557 (1551)\ttotal: 4m 14s\tremaining: 1m 13s\n1552:\tlearn: 19027.8927755\ttest: 60660.7286093\tbest: 60656.9300557 (1551)\ttotal: 4m 15s\tremaining: 1m 13s\n1553:\tlearn: 19016.4427523\ttest: 60662.6182387\tbest: 60656.9300557 (1551)\ttotal: 4m 15s\tremaining: 1m 13s\n1554:\tlearn: 19002.8016352\ttest: 60668.4263769\tbest: 60656.9300557 (1551)\ttotal: 4m 15s\tremaining: 1m 13s\n1555:\tlearn: 18999.7187835\ttest: 60668.3346121\tbest: 60656.9300557 (1551)\ttotal: 4m 15s\tremaining: 1m 12s\n1556:\tlearn: 18990.1199679\ttest: 60666.1025146\tbest: 60656.9300557 (1551)\ttotal: 4m 15s\tremaining: 1m 12s\n1557:\tlearn: 18986.9627155\ttest: 60665.5870592\tbest: 60656.9300557 (1551)\ttotal: 4m 15s\tremaining: 1m 12s\n1558:\tlearn: 18975.7567268\ttest: 60662.9168093\tbest: 60656.9300557 (1551)\ttotal: 4m 16s\tremaining: 1m 12s\n1559:\tlearn: 18970.0700985\ttest: 60666.7412280\tbest: 60656.9300557 (1551)\ttotal: 4m 16s\tremaining: 1m 12s\n1560:\tlearn: 18963.7639809\ttest: 60669.1107264\tbest: 60656.9300557 (1551)\ttotal: 4m 16s\tremaining: 1m 12s\n1561:\tlearn: 18951.9610194\ttest: 60670.0375034\tbest: 60656.9300557 (1551)\ttotal: 4m 16s\tremaining: 1m 11s\n1562:\tlearn: 18950.4717836\ttest: 60671.0380933\tbest: 60656.9300557 (1551)\ttotal: 4m 16s\tremaining: 1m 11s\n1563:\tlearn: 18943.9226838\ttest: 60666.5925474\tbest: 60656.9300557 (1551)\ttotal: 4m 16s\tremaining: 1m 11s\n1564:\tlearn: 18939.7359092\ttest: 60665.4489136\tbest: 60656.9300557 (1551)\ttotal: 4m 17s\tremaining: 1m 11s\n1565:\tlearn: 18923.7203983\ttest: 60669.5641889\tbest: 60656.9300557 (1551)\ttotal: 4m 17s\tremaining: 1m 11s\n1566:\tlearn: 18922.4533219\ttest: 60668.9333484\tbest: 60656.9300557 (1551)\ttotal: 4m 17s\tremaining: 1m 11s\n1567:\tlearn: 18913.2537214\ttest: 60672.5884782\tbest: 60656.9300557 (1551)\ttotal: 4m 17s\tremaining: 1m 10s\n1568:\tlearn: 18907.6335316\ttest: 60671.2546549\tbest: 60656.9300557 (1551)\ttotal: 4m 17s\tremaining: 1m 10s\n1569:\tlearn: 18899.5390656\ttest: 60669.9727570\tbest: 60656.9300557 (1551)\ttotal: 4m 18s\tremaining: 1m 10s\n1570:\tlearn: 18882.2347635\ttest: 60667.9932286\tbest: 60656.9300557 (1551)\ttotal: 4m 18s\tremaining: 1m 10s\n1571:\tlearn: 18880.2611434\ttest: 60667.7289840\tbest: 60656.9300557 (1551)\ttotal: 4m 18s\tremaining: 1m 10s\n1572:\tlearn: 18865.5929559\ttest: 60668.1534696\tbest: 60656.9300557 (1551)\ttotal: 4m 18s\tremaining: 1m 10s\n1573:\tlearn: 18855.4151408\ttest: 60664.3355563\tbest: 60656.9300557 (1551)\ttotal: 4m 18s\tremaining: 1m 10s\n1574:\tlearn: 18849.2561785\ttest: 60663.8718810\tbest: 60656.9300557 (1551)\ttotal: 4m 18s\tremaining: 1m 9s\n1575:\tlearn: 18841.9947906\ttest: 60665.7036680\tbest: 60656.9300557 (1551)\ttotal: 4m 19s\tremaining: 1m 9s\n1576:\tlearn: 18832.3338007\ttest: 60665.5057288\tbest: 60656.9300557 (1551)\ttotal: 4m 19s\tremaining: 1m 9s\n1577:\tlearn: 18824.7805372\ttest: 60666.0900517\tbest: 60656.9300557 (1551)\ttotal: 4m 19s\tremaining: 1m 9s\n1578:\tlearn: 18809.7892699\ttest: 60665.5934188\tbest: 60656.9300557 (1551)\ttotal: 4m 19s\tremaining: 1m 9s\n1579:\tlearn: 18798.6620667\ttest: 60664.5685236\tbest: 60656.9300557 (1551)\ttotal: 4m 19s\tremaining: 1m 9s\n1580:\tlearn: 18795.3384327\ttest: 60663.4499408\tbest: 60656.9300557 (1551)\ttotal: 4m 19s\tremaining: 1m 8s\n1581:\tlearn: 18787.2351214\ttest: 60662.1717133\tbest: 60656.9300557 (1551)\ttotal: 4m 20s\tremaining: 1m 8s\n1582:\tlearn: 18779.8430388\ttest: 60661.8955427\tbest: 60656.9300557 (1551)\ttotal: 4m 20s\tremaining: 1m 8s\n1583:\tlearn: 18778.7423730\ttest: 60662.2077601\tbest: 60656.9300557 (1551)\ttotal: 4m 20s\tremaining: 1m 8s\n1584:\tlearn: 18775.0806941\ttest: 60659.0782904\tbest: 60656.9300557 (1551)\ttotal: 4m 20s\tremaining: 1m 8s\n1585:\tlearn: 18773.2017673\ttest: 60657.0835311\tbest: 60656.9300557 (1551)\ttotal: 4m 20s\tremaining: 1m 8s\n1586:\tlearn: 18771.4436091\ttest: 60662.0742185\tbest: 60656.9300557 (1551)\ttotal: 4m 21s\tremaining: 1m 7s\n1587:\tlearn: 18768.6503484\ttest: 60661.3204452\tbest: 60656.9300557 (1551)\ttotal: 4m 21s\tremaining: 1m 7s\n1588:\tlearn: 18764.1293532\ttest: 60660.5412018\tbest: 60656.9300557 (1551)\ttotal: 4m 21s\tremaining: 1m 7s\n1589:\tlearn: 18758.0297849\ttest: 60660.3593538\tbest: 60656.9300557 (1551)\ttotal: 4m 21s\tremaining: 1m 7s\n1590:\tlearn: 18743.4487447\ttest: 60658.7543155\tbest: 60656.9300557 (1551)\ttotal: 4m 21s\tremaining: 1m 7s\n1591:\tlearn: 18739.3779560\ttest: 60657.9726938\tbest: 60656.9300557 (1551)\ttotal: 4m 21s\tremaining: 1m 7s\n1592:\tlearn: 18714.2615216\ttest: 60657.1409094\tbest: 60656.9300557 (1551)\ttotal: 4m 22s\tremaining: 1m 6s\n1593:\tlearn: 18708.8078015\ttest: 60655.3339199\tbest: 60655.3339199 (1593)\ttotal: 4m 22s\tremaining: 1m 6s\n1594:\tlearn: 18689.1213211\ttest: 60654.3526609\tbest: 60654.3526609 (1594)\ttotal: 4m 22s\tremaining: 1m 6s\n1595:\tlearn: 18679.4028867\ttest: 60659.8387840\tbest: 60654.3526609 (1594)\ttotal: 4m 22s\tremaining: 1m 6s\n1596:\tlearn: 18670.6332766\ttest: 60654.2646555\tbest: 60654.2646555 (1596)\ttotal: 4m 22s\tremaining: 1m 6s\n1597:\tlearn: 18658.0994196\ttest: 60654.2630256\tbest: 60654.2630256 (1597)\ttotal: 4m 22s\tremaining: 1m 6s\n1598:\tlearn: 18651.6949704\ttest: 60654.8515338\tbest: 60654.2630256 (1597)\ttotal: 4m 23s\tremaining: 1m 5s\n1599:\tlearn: 18646.4697632\ttest: 60655.2356374\tbest: 60654.2630256 (1597)\ttotal: 4m 23s\tremaining: 1m 5s\n1600:\tlearn: 18633.4276128\ttest: 60655.1670650\tbest: 60654.2630256 (1597)\ttotal: 4m 23s\tremaining: 1m 5s\n1601:\tlearn: 18624.1996170\ttest: 60655.5972390\tbest: 60654.2630256 (1597)\ttotal: 4m 23s\tremaining: 1m 5s\n1602:\tlearn: 18622.2530801\ttest: 60655.1334606\tbest: 60654.2630256 (1597)\ttotal: 4m 24s\tremaining: 1m 5s\n1603:\tlearn: 18613.2895772\ttest: 60654.7007229\tbest: 60654.2630256 (1597)\ttotal: 4m 24s\tremaining: 1m 5s\n1604:\tlearn: 18604.5111424\ttest: 60647.0049224\tbest: 60647.0049224 (1604)\ttotal: 4m 24s\tremaining: 1m 5s\n1605:\tlearn: 18599.6480644\ttest: 60647.1886613\tbest: 60647.0049224 (1604)\ttotal: 4m 24s\tremaining: 1m 4s\n1606:\tlearn: 18587.3581644\ttest: 60643.0493667\tbest: 60643.0493667 (1606)\ttotal: 4m 24s\tremaining: 1m 4s\n1607:\tlearn: 18586.0512716\ttest: 60642.4865928\tbest: 60642.4865928 (1607)\ttotal: 4m 24s\tremaining: 1m 4s\n1608:\tlearn: 18579.6560297\ttest: 60641.9749064\tbest: 60641.9749064 (1608)\ttotal: 4m 25s\tremaining: 1m 4s\n1609:\tlearn: 18576.9220998\ttest: 60643.6048322\tbest: 60641.9749064 (1608)\ttotal: 4m 25s\tremaining: 1m 4s\n1610:\tlearn: 18571.0500674\ttest: 60641.7849788\tbest: 60641.7849788 (1610)\ttotal: 4m 25s\tremaining: 1m 4s\n1611:\tlearn: 18562.3756528\ttest: 60640.0140007\tbest: 60640.0140007 (1611)\ttotal: 4m 25s\tremaining: 1m 3s\n1612:\tlearn: 18558.9063545\ttest: 60641.1759847\tbest: 60640.0140007 (1611)\ttotal: 4m 25s\tremaining: 1m 3s\n1613:\tlearn: 18549.1654904\ttest: 60644.4484656\tbest: 60640.0140007 (1611)\ttotal: 4m 25s\tremaining: 1m 3s\n1614:\tlearn: 18543.8073838\ttest: 60643.2240487\tbest: 60640.0140007 (1611)\ttotal: 4m 26s\tremaining: 1m 3s\n1615:\tlearn: 18538.4706410\ttest: 60641.8450886\tbest: 60640.0140007 (1611)\ttotal: 4m 26s\tremaining: 1m 3s\n1616:\tlearn: 18518.1582710\ttest: 60629.8708356\tbest: 60629.8708356 (1616)\ttotal: 4m 26s\tremaining: 1m 3s\n1617:\tlearn: 18508.7648953\ttest: 60633.6721188\tbest: 60629.8708356 (1616)\ttotal: 4m 26s\tremaining: 1m 2s\n1618:\tlearn: 18497.1778387\ttest: 60633.8208078\tbest: 60629.8708356 (1616)\ttotal: 4m 26s\tremaining: 1m 2s\n1619:\tlearn: 18487.9126638\ttest: 60636.7229567\tbest: 60629.8708356 (1616)\ttotal: 4m 26s\tremaining: 1m 2s\n1620:\tlearn: 18479.2765389\ttest: 60632.5118162\tbest: 60629.8708356 (1616)\ttotal: 4m 27s\tremaining: 1m 2s\n1621:\tlearn: 18477.6402264\ttest: 60630.1718494\tbest: 60629.8708356 (1616)\ttotal: 4m 27s\tremaining: 1m 2s\n1622:\tlearn: 18469.4077212\ttest: 60629.6579757\tbest: 60629.6579757 (1622)\ttotal: 4m 27s\tremaining: 1m 2s\n1623:\tlearn: 18462.0624537\ttest: 60633.6608111\tbest: 60629.6579757 (1622)\ttotal: 4m 27s\tremaining: 1m 1s\n1624:\tlearn: 18457.8327015\ttest: 60632.7674469\tbest: 60629.6579757 (1622)\ttotal: 4m 27s\tremaining: 1m 1s\n1625:\tlearn: 18455.5380405\ttest: 60632.2432718\tbest: 60629.6579757 (1622)\ttotal: 4m 27s\tremaining: 1m 1s\n1626:\tlearn: 18441.8983592\ttest: 60632.0824140\tbest: 60629.6579757 (1622)\ttotal: 4m 28s\tremaining: 1m 1s\n1627:\tlearn: 18434.2490690\ttest: 60631.4746092\tbest: 60629.6579757 (1622)\ttotal: 4m 28s\tremaining: 1m 1s\n1628:\tlearn: 18421.7418496\ttest: 60629.2547362\tbest: 60629.2547362 (1628)\ttotal: 4m 28s\tremaining: 1m 1s\n1629:\tlearn: 18415.0606344\ttest: 60629.3176622\tbest: 60629.2547362 (1628)\ttotal: 4m 28s\tremaining: 1m\n1630:\tlearn: 18413.9235573\ttest: 60629.1236046\tbest: 60629.1236046 (1630)\ttotal: 4m 28s\tremaining: 1m\n1631:\tlearn: 18411.4222949\ttest: 60628.4447460\tbest: 60628.4447460 (1631)\ttotal: 4m 29s\tremaining: 1m\n1632:\tlearn: 18408.7724412\ttest: 60628.7790395\tbest: 60628.4447460 (1631)\ttotal: 4m 29s\tremaining: 1m\n1633:\tlearn: 18403.9115208\ttest: 60628.4794612\tbest: 60628.4447460 (1631)\ttotal: 4m 29s\tremaining: 1m\n1634:\tlearn: 18393.0936097\ttest: 60626.7072837\tbest: 60626.7072837 (1634)\ttotal: 4m 29s\tremaining: 1m\n1635:\tlearn: 18383.6876782\ttest: 60624.8067870\tbest: 60624.8067870 (1635)\ttotal: 4m 29s\tremaining: 1m\n1636:\tlearn: 18380.6947130\ttest: 60624.4520017\tbest: 60624.4520017 (1636)\ttotal: 4m 29s\tremaining: 59.8s\n1637:\tlearn: 18374.8940568\ttest: 60626.1417816\tbest: 60624.4520017 (1636)\ttotal: 4m 29s\tremaining: 59.7s\n1638:\tlearn: 18372.8349248\ttest: 60625.2677850\tbest: 60624.4520017 (1636)\ttotal: 4m 30s\tremaining: 59.5s\n1639:\tlearn: 18368.0931625\ttest: 60623.6379237\tbest: 60623.6379237 (1639)\ttotal: 4m 30s\tremaining: 59.3s\n1640:\tlearn: 18360.9555242\ttest: 60625.6470392\tbest: 60623.6379237 (1639)\ttotal: 4m 30s\tremaining: 59.1s\n1641:\tlearn: 18357.6983942\ttest: 60627.5449572\tbest: 60623.6379237 (1639)\ttotal: 4m 30s\tremaining: 59s\n1642:\tlearn: 18353.0862792\ttest: 60626.5903438\tbest: 60623.6379237 (1639)\ttotal: 4m 30s\tremaining: 58.8s\n1643:\tlearn: 18339.1897032\ttest: 60627.4393641\tbest: 60623.6379237 (1639)\ttotal: 4m 30s\tremaining: 58.7s\n1644:\tlearn: 18334.6872979\ttest: 60624.5618419\tbest: 60623.6379237 (1639)\ttotal: 4m 31s\tremaining: 58.5s\n1645:\tlearn: 18326.6774571\ttest: 60626.9660829\tbest: 60623.6379237 (1639)\ttotal: 4m 31s\tremaining: 58.3s\n1646:\tlearn: 18318.6436854\ttest: 60626.0018524\tbest: 60623.6379237 (1639)\ttotal: 4m 31s\tremaining: 58.2s\n1647:\tlearn: 18304.1397594\ttest: 60621.8390590\tbest: 60621.8390590 (1647)\ttotal: 4m 31s\tremaining: 58s\n1648:\tlearn: 18298.2332578\ttest: 60621.0963107\tbest: 60621.0963107 (1648)\ttotal: 4m 31s\tremaining: 57.9s\n1649:\tlearn: 18287.0076794\ttest: 60620.1943877\tbest: 60620.1943877 (1649)\ttotal: 4m 32s\tremaining: 57.7s\n1650:\tlearn: 18282.5500565\ttest: 60620.2123844\tbest: 60620.1943877 (1649)\ttotal: 4m 32s\tremaining: 57.5s\n1651:\tlearn: 18277.4975577\ttest: 60619.9285633\tbest: 60619.9285633 (1651)\ttotal: 4m 32s\tremaining: 57.4s\n1652:\tlearn: 18270.6909160\ttest: 60620.4016416\tbest: 60619.9285633 (1651)\ttotal: 4m 32s\tremaining: 57.2s\n1653:\tlearn: 18268.4517515\ttest: 60620.6069678\tbest: 60619.9285633 (1651)\ttotal: 4m 32s\tremaining: 57s\n1654:\tlearn: 18265.2854034\ttest: 60620.3144225\tbest: 60619.9285633 (1651)\ttotal: 4m 32s\tremaining: 56.9s\n1655:\tlearn: 18258.8589427\ttest: 60613.8220600\tbest: 60613.8220600 (1655)\ttotal: 4m 33s\tremaining: 56.7s\n1656:\tlearn: 18233.4961700\ttest: 60608.4637707\tbest: 60608.4637707 (1656)\ttotal: 4m 33s\tremaining: 56.6s\n1657:\tlearn: 18225.4897696\ttest: 60605.0842073\tbest: 60605.0842073 (1657)\ttotal: 4m 33s\tremaining: 56.4s\n1658:\tlearn: 18216.6458428\ttest: 60603.6995652\tbest: 60603.6995652 (1658)\ttotal: 4m 33s\tremaining: 56.2s\n1659:\tlearn: 18201.9551936\ttest: 60598.4405764\tbest: 60598.4405764 (1659)\ttotal: 4m 33s\tremaining: 56.1s\n1660:\tlearn: 18196.3367228\ttest: 60597.1051832\tbest: 60597.1051832 (1660)\ttotal: 4m 33s\tremaining: 55.9s\n1661:\tlearn: 18191.9050276\ttest: 60597.4492867\tbest: 60597.1051832 (1660)\ttotal: 4m 34s\tremaining: 55.8s\n1662:\tlearn: 18186.4700822\ttest: 60596.8213015\tbest: 60596.8213015 (1662)\ttotal: 4m 34s\tremaining: 55.6s\n1663:\tlearn: 18176.3303902\ttest: 60594.8396099\tbest: 60594.8396099 (1663)\ttotal: 4m 34s\tremaining: 55.4s\n1664:\tlearn: 18172.8779857\ttest: 60594.7541725\tbest: 60594.7541725 (1664)\ttotal: 4m 34s\tremaining: 55.2s\n1665:\tlearn: 18168.6842242\ttest: 60595.7859225\tbest: 60594.7541725 (1664)\ttotal: 4m 34s\tremaining: 55.1s\n1666:\tlearn: 18162.1184653\ttest: 60593.1315616\tbest: 60593.1315616 (1666)\ttotal: 4m 34s\tremaining: 54.9s\n1667:\tlearn: 18148.6450436\ttest: 60590.7866444\tbest: 60590.7866444 (1667)\ttotal: 4m 35s\tremaining: 54.7s\n1668:\tlearn: 18145.8746637\ttest: 60592.0459468\tbest: 60590.7866444 (1667)\ttotal: 4m 35s\tremaining: 54.6s\n1669:\tlearn: 18137.8996554\ttest: 60592.8150896\tbest: 60590.7866444 (1667)\ttotal: 4m 35s\tremaining: 54.5s\n1670:\tlearn: 18130.7498888\ttest: 60595.7856912\tbest: 60590.7866444 (1667)\ttotal: 4m 35s\tremaining: 54.3s\n1671:\tlearn: 18119.5252971\ttest: 60593.8222911\tbest: 60590.7866444 (1667)\ttotal: 4m 35s\tremaining: 54.1s\n1672:\tlearn: 18112.0045357\ttest: 60590.9526402\tbest: 60590.7866444 (1667)\ttotal: 4m 36s\tremaining: 54s\n1673:\tlearn: 18110.0157373\ttest: 60591.2046095\tbest: 60590.7866444 (1667)\ttotal: 4m 36s\tremaining: 53.8s\n1674:\tlearn: 18100.6178063\ttest: 60590.2556538\tbest: 60590.2556538 (1674)\ttotal: 4m 36s\tremaining: 53.6s\n1675:\tlearn: 18090.5681017\ttest: 60591.4335738\tbest: 60590.2556538 (1674)\ttotal: 4m 36s\tremaining: 53.5s\n1676:\tlearn: 18080.5861295\ttest: 60591.4161214\tbest: 60590.2556538 (1674)\ttotal: 4m 36s\tremaining: 53.3s\n1677:\tlearn: 18076.5408276\ttest: 60591.4333401\tbest: 60590.2556538 (1674)\ttotal: 4m 37s\tremaining: 53.2s\n1678:\tlearn: 18070.4215122\ttest: 60592.5381925\tbest: 60590.2556538 (1674)\ttotal: 4m 37s\tremaining: 53s\n1679:\tlearn: 18067.0984600\ttest: 60591.8239091\tbest: 60590.2556538 (1674)\ttotal: 4m 37s\tremaining: 52.8s\n1680:\tlearn: 18054.1494373\ttest: 60598.1051210\tbest: 60590.2556538 (1674)\ttotal: 4m 37s\tremaining: 52.6s\n1681:\tlearn: 18045.2643616\ttest: 60596.8507589\tbest: 60590.2556538 (1674)\ttotal: 4m 37s\tremaining: 52.5s\n1682:\tlearn: 18043.4443950\ttest: 60598.1255333\tbest: 60590.2556538 (1674)\ttotal: 4m 37s\tremaining: 52.3s\n1683:\tlearn: 18040.1601147\ttest: 60596.5717653\tbest: 60590.2556538 (1674)\ttotal: 4m 37s\tremaining: 52.2s\n1684:\tlearn: 18035.7773203\ttest: 60596.0664006\tbest: 60590.2556538 (1674)\ttotal: 4m 38s\tremaining: 52s\n1685:\tlearn: 18021.3584698\ttest: 60598.4566223\tbest: 60590.2556538 (1674)\ttotal: 4m 38s\tremaining: 51.8s\n1686:\tlearn: 18007.2050701\ttest: 60599.6216408\tbest: 60590.2556538 (1674)\ttotal: 4m 38s\tremaining: 51.7s\n1687:\tlearn: 18001.3944942\ttest: 60597.6973171\tbest: 60590.2556538 (1674)\ttotal: 4m 38s\tremaining: 51.5s\n1688:\tlearn: 18000.7956117\ttest: 60597.4321289\tbest: 60590.2556538 (1674)\ttotal: 4m 38s\tremaining: 51.3s\n1689:\tlearn: 17995.0736299\ttest: 60599.8830153\tbest: 60590.2556538 (1674)\ttotal: 4m 38s\tremaining: 51.2s\n1690:\tlearn: 17986.5103142\ttest: 60600.0274055\tbest: 60590.2556538 (1674)\ttotal: 4m 39s\tremaining: 51s\n1691:\tlearn: 17978.9011165\ttest: 60599.2840034\tbest: 60590.2556538 (1674)\ttotal: 4m 39s\tremaining: 50.8s\n1692:\tlearn: 17973.3495380\ttest: 60601.6843337\tbest: 60590.2556538 (1674)\ttotal: 4m 39s\tremaining: 50.7s\n1693:\tlearn: 17971.4510341\ttest: 60601.5881065\tbest: 60590.2556538 (1674)\ttotal: 4m 39s\tremaining: 50.5s\n1694:\tlearn: 17959.8463921\ttest: 60609.0537746\tbest: 60590.2556538 (1674)\ttotal: 4m 39s\tremaining: 50.3s\n1695:\tlearn: 17956.0492965\ttest: 60608.6613989\tbest: 60590.2556538 (1674)\ttotal: 4m 39s\tremaining: 50.2s\n1696:\tlearn: 17953.4990199\ttest: 60607.5414647\tbest: 60590.2556538 (1674)\ttotal: 4m 40s\tremaining: 50s\n1697:\tlearn: 17948.4296287\ttest: 60602.6011545\tbest: 60590.2556538 (1674)\ttotal: 4m 40s\tremaining: 49.9s\n1698:\tlearn: 17943.6304840\ttest: 60602.0088672\tbest: 60590.2556538 (1674)\ttotal: 4m 40s\tremaining: 49.7s\n1699:\tlearn: 17930.2483498\ttest: 60601.8738633\tbest: 60590.2556538 (1674)\ttotal: 4m 40s\tremaining: 49.5s\n1700:\tlearn: 17924.8982468\ttest: 60602.6201282\tbest: 60590.2556538 (1674)\ttotal: 4m 40s\tremaining: 49.4s\n1701:\tlearn: 17915.8559590\ttest: 60601.2756859\tbest: 60590.2556538 (1674)\ttotal: 4m 40s\tremaining: 49.2s\n1702:\tlearn: 17914.6480274\ttest: 60601.1276079\tbest: 60590.2556538 (1674)\ttotal: 4m 41s\tremaining: 49s\n1703:\tlearn: 17904.4081786\ttest: 60602.0584622\tbest: 60590.2556538 (1674)\ttotal: 4m 41s\tremaining: 48.9s\n1704:\tlearn: 17899.8970027\ttest: 60599.8964596\tbest: 60590.2556538 (1674)\ttotal: 4m 41s\tremaining: 48.7s\n1705:\tlearn: 17888.2212840\ttest: 60597.2813283\tbest: 60590.2556538 (1674)\ttotal: 4m 41s\tremaining: 48.5s\n1706:\tlearn: 17881.5441347\ttest: 60597.2433291\tbest: 60590.2556538 (1674)\ttotal: 4m 41s\tremaining: 48.4s\n1707:\tlearn: 17864.5759886\ttest: 60594.9274873\tbest: 60590.2556538 (1674)\ttotal: 4m 41s\tremaining: 48.2s\n1708:\tlearn: 17855.2860910\ttest: 60593.1493059\tbest: 60590.2556538 (1674)\ttotal: 4m 42s\tremaining: 48s\n1709:\tlearn: 17848.6288457\ttest: 60592.9463432\tbest: 60590.2556538 (1674)\ttotal: 4m 42s\tremaining: 47.9s\n1710:\tlearn: 17832.3599709\ttest: 60592.3111159\tbest: 60590.2556538 (1674)\ttotal: 4m 42s\tremaining: 47.7s\n1711:\tlearn: 17822.8289821\ttest: 60593.7306253\tbest: 60590.2556538 (1674)\ttotal: 4m 42s\tremaining: 47.5s\n1712:\tlearn: 17820.2278743\ttest: 60592.3159853\tbest: 60590.2556538 (1674)\ttotal: 4m 42s\tremaining: 47.4s\n1713:\tlearn: 17811.4744322\ttest: 60592.5587434\tbest: 60590.2556538 (1674)\ttotal: 4m 42s\tremaining: 47.2s\n1714:\tlearn: 17789.2900092\ttest: 60588.3191454\tbest: 60588.3191454 (1714)\ttotal: 4m 43s\tremaining: 47s\n1715:\tlearn: 17781.0073318\ttest: 60588.0804683\tbest: 60588.0804683 (1715)\ttotal: 4m 43s\tremaining: 46.9s\n1716:\tlearn: 17773.6900191\ttest: 60586.1381519\tbest: 60586.1381519 (1716)\ttotal: 4m 43s\tremaining: 46.7s\n1717:\tlearn: 17767.4799097\ttest: 60586.5515503\tbest: 60586.1381519 (1716)\ttotal: 4m 43s\tremaining: 46.6s\n1718:\tlearn: 17764.3023189\ttest: 60582.5243843\tbest: 60582.5243843 (1718)\ttotal: 4m 43s\tremaining: 46.4s\n1719:\tlearn: 17753.3340838\ttest: 60576.7085471\tbest: 60576.7085471 (1719)\ttotal: 4m 43s\tremaining: 46.2s\n1720:\tlearn: 17749.9504490\ttest: 60573.9037522\tbest: 60573.9037522 (1720)\ttotal: 4m 44s\tremaining: 46.1s\n1721:\tlearn: 17740.7563840\ttest: 60571.3036243\tbest: 60571.3036243 (1721)\ttotal: 4m 44s\tremaining: 45.9s\n1722:\tlearn: 17727.7847822\ttest: 60567.6716667\tbest: 60567.6716667 (1722)\ttotal: 4m 44s\tremaining: 45.7s\n1723:\tlearn: 17715.9072257\ttest: 60572.5679042\tbest: 60567.6716667 (1722)\ttotal: 4m 44s\tremaining: 45.6s\n1724:\tlearn: 17712.4517930\ttest: 60573.9284348\tbest: 60567.6716667 (1722)\ttotal: 4m 44s\tremaining: 45.4s\n1725:\tlearn: 17703.0139191\ttest: 60572.1914952\tbest: 60567.6716667 (1722)\ttotal: 4m 44s\tremaining: 45.2s\n1726:\tlearn: 17700.4314675\ttest: 60570.9811275\tbest: 60567.6716667 (1722)\ttotal: 4m 45s\tremaining: 45.1s\n1727:\tlearn: 17686.5600243\ttest: 60567.6894027\tbest: 60567.6716667 (1722)\ttotal: 4m 45s\tremaining: 44.9s\n1728:\tlearn: 17678.3884815\ttest: 60565.6330810\tbest: 60565.6330810 (1728)\ttotal: 4m 45s\tremaining: 44.7s\n1729:\tlearn: 17670.6437669\ttest: 60565.7813277\tbest: 60565.6330810 (1728)\ttotal: 4m 45s\tremaining: 44.6s\n1730:\tlearn: 17665.3542507\ttest: 60565.4605199\tbest: 60565.4605199 (1730)\ttotal: 4m 45s\tremaining: 44.4s\n1731:\tlearn: 17656.8836623\ttest: 60562.8897302\tbest: 60562.8897302 (1731)\ttotal: 4m 46s\tremaining: 44.3s\n1732:\tlearn: 17656.2551781\ttest: 60562.9425691\tbest: 60562.8897302 (1731)\ttotal: 4m 46s\tremaining: 44.1s\n1733:\tlearn: 17648.0971192\ttest: 60561.2863585\tbest: 60561.2863585 (1733)\ttotal: 4m 46s\tremaining: 44s\n1734:\tlearn: 17641.2269406\ttest: 60562.6725689\tbest: 60561.2863585 (1733)\ttotal: 4m 46s\tremaining: 43.8s\n1735:\tlearn: 17637.8190228\ttest: 60563.0872428\tbest: 60561.2863585 (1733)\ttotal: 4m 46s\tremaining: 43.6s\n1736:\tlearn: 17627.7102817\ttest: 60562.9360581\tbest: 60561.2863585 (1733)\ttotal: 4m 47s\tremaining: 43.5s\n1737:\tlearn: 17625.3701496\ttest: 60563.3365660\tbest: 60561.2863585 (1733)\ttotal: 4m 47s\tremaining: 43.3s\n1738:\tlearn: 17617.5015495\ttest: 60563.4145209\tbest: 60561.2863585 (1733)\ttotal: 4m 47s\tremaining: 43.1s\n1739:\tlearn: 17615.1463630\ttest: 60562.0310866\tbest: 60561.2863585 (1733)\ttotal: 4m 47s\tremaining: 43s\n1740:\tlearn: 17604.7402595\ttest: 60557.5290896\tbest: 60557.5290896 (1740)\ttotal: 4m 47s\tremaining: 42.8s\n1741:\tlearn: 17601.5876146\ttest: 60557.6300018\tbest: 60557.5290896 (1740)\ttotal: 4m 47s\tremaining: 42.6s\n1742:\tlearn: 17594.5343989\ttest: 60556.4972443\tbest: 60556.4972443 (1742)\ttotal: 4m 48s\tremaining: 42.5s\n1743:\tlearn: 17585.7204138\ttest: 60553.7246506\tbest: 60553.7246506 (1743)\ttotal: 4m 48s\tremaining: 42.3s\n1744:\tlearn: 17578.8636769\ttest: 60554.1828623\tbest: 60553.7246506 (1743)\ttotal: 4m 48s\tremaining: 42.2s\n1745:\tlearn: 17567.8663019\ttest: 60552.6378001\tbest: 60552.6378001 (1745)\ttotal: 4m 48s\tremaining: 42s\n1746:\tlearn: 17562.4911406\ttest: 60553.6480903\tbest: 60552.6378001 (1745)\ttotal: 4m 48s\tremaining: 41.8s\n1747:\tlearn: 17559.8480960\ttest: 60554.6938274\tbest: 60552.6378001 (1745)\ttotal: 4m 48s\tremaining: 41.7s\n1748:\tlearn: 17552.1378902\ttest: 60558.5882699\tbest: 60552.6378001 (1745)\ttotal: 4m 49s\tremaining: 41.5s\n1749:\tlearn: 17549.6153968\ttest: 60558.5604740\tbest: 60552.6378001 (1745)\ttotal: 4m 49s\tremaining: 41.3s\n1750:\tlearn: 17547.2495247\ttest: 60557.0424190\tbest: 60552.6378001 (1745)\ttotal: 4m 49s\tremaining: 41.2s\n1751:\tlearn: 17543.9092915\ttest: 60556.9337528\tbest: 60552.6378001 (1745)\ttotal: 4m 49s\tremaining: 41s\n1752:\tlearn: 17536.6415796\ttest: 60556.5561856\tbest: 60552.6378001 (1745)\ttotal: 4m 49s\tremaining: 40.8s\n1753:\tlearn: 17523.3318176\ttest: 60553.6410200\tbest: 60552.6378001 (1745)\ttotal: 4m 49s\tremaining: 40.7s\n1754:\tlearn: 17515.0240787\ttest: 60553.9623097\tbest: 60552.6378001 (1745)\ttotal: 4m 50s\tremaining: 40.5s\n1755:\tlearn: 17507.5732661\ttest: 60553.6307364\tbest: 60552.6378001 (1745)\ttotal: 4m 50s\tremaining: 40.3s\n1756:\tlearn: 17503.5347082\ttest: 60552.1907416\tbest: 60552.1907416 (1756)\ttotal: 4m 50s\tremaining: 40.2s\n1757:\tlearn: 17496.8641656\ttest: 60552.8500944\tbest: 60552.1907416 (1756)\ttotal: 4m 50s\tremaining: 40s\n1758:\tlearn: 17492.3865961\ttest: 60552.7019239\tbest: 60552.1907416 (1756)\ttotal: 4m 50s\tremaining: 39.8s\n1759:\tlearn: 17480.5780660\ttest: 60554.4879371\tbest: 60552.1907416 (1756)\ttotal: 4m 50s\tremaining: 39.7s\n1760:\tlearn: 17474.7906302\ttest: 60554.3023785\tbest: 60552.1907416 (1756)\ttotal: 4m 51s\tremaining: 39.5s\n1761:\tlearn: 17466.1181547\ttest: 60552.0300962\tbest: 60552.0300962 (1761)\ttotal: 4m 51s\tremaining: 39.3s\n1762:\tlearn: 17449.3423827\ttest: 60555.0105171\tbest: 60552.0300962 (1761)\ttotal: 4m 51s\tremaining: 39.2s\n1763:\tlearn: 17435.1265046\ttest: 60556.5178984\tbest: 60552.0300962 (1761)\ttotal: 4m 51s\tremaining: 39s\n1764:\tlearn: 17433.7680569\ttest: 60557.3258689\tbest: 60552.0300962 (1761)\ttotal: 4m 51s\tremaining: 38.9s\n1765:\tlearn: 17420.7460293\ttest: 60556.4360440\tbest: 60552.0300962 (1761)\ttotal: 4m 52s\tremaining: 38.7s\n1766:\tlearn: 17405.8776208\ttest: 60560.4498149\tbest: 60552.0300962 (1761)\ttotal: 4m 52s\tremaining: 38.5s\n1767:\tlearn: 17400.0307566\ttest: 60558.0421997\tbest: 60552.0300962 (1761)\ttotal: 4m 52s\tremaining: 38.4s\n1768:\tlearn: 17395.5224402\ttest: 60556.5458404\tbest: 60552.0300962 (1761)\ttotal: 4m 52s\tremaining: 38.2s\n1769:\tlearn: 17391.2346443\ttest: 60555.8754884\tbest: 60552.0300962 (1761)\ttotal: 4m 52s\tremaining: 38s\n1770:\tlearn: 17387.6217563\ttest: 60554.8296561\tbest: 60552.0300962 (1761)\ttotal: 4m 52s\tremaining: 37.9s\n1771:\tlearn: 17386.3500014\ttest: 60555.2122592\tbest: 60552.0300962 (1761)\ttotal: 4m 53s\tremaining: 37.7s\n1772:\tlearn: 17381.0903470\ttest: 60554.0834646\tbest: 60552.0300962 (1761)\ttotal: 4m 53s\tremaining: 37.5s\n1773:\tlearn: 17375.0389502\ttest: 60553.7946245\tbest: 60552.0300962 (1761)\ttotal: 4m 53s\tremaining: 37.4s\n1774:\tlearn: 17370.8829758\ttest: 60555.9900197\tbest: 60552.0300962 (1761)\ttotal: 4m 53s\tremaining: 37.2s\n1775:\tlearn: 17360.9764872\ttest: 60557.8570295\tbest: 60552.0300962 (1761)\ttotal: 4m 53s\tremaining: 37s\n1776:\tlearn: 17354.6018842\ttest: 60557.0610651\tbest: 60552.0300962 (1761)\ttotal: 4m 53s\tremaining: 36.9s\n1777:\tlearn: 17341.8320202\ttest: 60553.6991609\tbest: 60552.0300962 (1761)\ttotal: 4m 54s\tremaining: 36.7s\n1778:\tlearn: 17341.0135873\ttest: 60554.4183600\tbest: 60552.0300962 (1761)\ttotal: 4m 54s\tremaining: 36.5s\n1779:\tlearn: 17332.5078528\ttest: 60555.9171591\tbest: 60552.0300962 (1761)\ttotal: 4m 54s\tremaining: 36.4s\n1780:\tlearn: 17322.4803756\ttest: 60552.1606737\tbest: 60552.0300962 (1761)\ttotal: 4m 54s\tremaining: 36.2s\n1781:\tlearn: 17320.4570046\ttest: 60551.7401109\tbest: 60551.7401109 (1781)\ttotal: 4m 54s\tremaining: 36s\n1782:\tlearn: 17317.7551051\ttest: 60552.0463013\tbest: 60551.7401109 (1781)\ttotal: 4m 54s\tremaining: 35.9s\n1783:\tlearn: 17316.9075381\ttest: 60551.3662353\tbest: 60551.3662353 (1783)\ttotal: 4m 54s\tremaining: 35.7s\n1784:\tlearn: 17308.6136445\ttest: 60551.2591149\tbest: 60551.2591149 (1784)\ttotal: 4m 55s\tremaining: 35.5s\n1785:\tlearn: 17301.6816187\ttest: 60550.7511642\tbest: 60550.7511642 (1785)\ttotal: 4m 55s\tremaining: 35.4s\n1786:\tlearn: 17292.2955196\ttest: 60546.2910780\tbest: 60546.2910780 (1786)\ttotal: 4m 55s\tremaining: 35.2s\n1787:\tlearn: 17286.3165191\ttest: 60551.9368053\tbest: 60546.2910780 (1786)\ttotal: 4m 55s\tremaining: 35.1s\n1788:\tlearn: 17280.3711715\ttest: 60551.9190514\tbest: 60546.2910780 (1786)\ttotal: 4m 55s\tremaining: 34.9s\n1789:\tlearn: 17272.9627036\ttest: 60552.5029257\tbest: 60546.2910780 (1786)\ttotal: 4m 55s\tremaining: 34.7s\n1790:\tlearn: 17270.1488918\ttest: 60555.1448362\tbest: 60546.2910780 (1786)\ttotal: 4m 56s\tremaining: 34.6s\n1791:\tlearn: 17260.1428256\ttest: 60550.7053052\tbest: 60546.2910780 (1786)\ttotal: 4m 56s\tremaining: 34.4s\n1792:\tlearn: 17256.5665297\ttest: 60551.2768373\tbest: 60546.2910780 (1786)\ttotal: 4m 56s\tremaining: 34.2s\n1793:\tlearn: 17235.6310784\ttest: 60546.8160864\tbest: 60546.2910780 (1786)\ttotal: 4m 56s\tremaining: 34.1s\n1794:\tlearn: 17225.8015046\ttest: 60543.4100336\tbest: 60543.4100336 (1794)\ttotal: 4m 56s\tremaining: 33.9s\n1795:\tlearn: 17222.1114241\ttest: 60541.7366535\tbest: 60541.7366535 (1795)\ttotal: 4m 57s\tremaining: 33.7s\n1796:\tlearn: 17219.7911096\ttest: 60539.4258740\tbest: 60539.4258740 (1796)\ttotal: 4m 57s\tremaining: 33.6s\n1797:\tlearn: 17212.9201867\ttest: 60538.0259558\tbest: 60538.0259558 (1797)\ttotal: 4m 57s\tremaining: 33.4s\n1798:\tlearn: 17210.9289945\ttest: 60537.7971774\tbest: 60537.7971774 (1798)\ttotal: 4m 57s\tremaining: 33.3s\n1799:\tlearn: 17200.4201830\ttest: 60533.1239921\tbest: 60533.1239921 (1799)\ttotal: 4m 57s\tremaining: 33.1s\n1800:\tlearn: 17192.1574508\ttest: 60526.4944530\tbest: 60526.4944530 (1800)\ttotal: 4m 58s\tremaining: 32.9s\n1801:\tlearn: 17182.0774150\ttest: 60525.1994141\tbest: 60525.1994141 (1801)\ttotal: 4m 58s\tremaining: 32.8s\n1802:\tlearn: 17178.1505162\ttest: 60525.5062523\tbest: 60525.1994141 (1801)\ttotal: 4m 58s\tremaining: 32.6s\n1803:\tlearn: 17174.5532229\ttest: 60525.3246481\tbest: 60525.1994141 (1801)\ttotal: 4m 58s\tremaining: 32.4s\n1804:\tlearn: 17166.6728670\ttest: 60526.1805071\tbest: 60525.1994141 (1801)\ttotal: 4m 58s\tremaining: 32.3s\n1805:\tlearn: 17161.3733897\ttest: 60526.1336101\tbest: 60525.1994141 (1801)\ttotal: 4m 59s\tremaining: 32.1s\n1806:\tlearn: 17150.0349964\ttest: 60526.1124989\tbest: 60525.1994141 (1801)\ttotal: 4m 59s\tremaining: 32s\n1807:\tlearn: 17139.5286988\ttest: 60526.4551501\tbest: 60525.1994141 (1801)\ttotal: 4m 59s\tremaining: 31.8s\n1808:\tlearn: 17128.3510687\ttest: 60524.4570201\tbest: 60524.4570201 (1808)\ttotal: 4m 59s\tremaining: 31.6s\n1809:\tlearn: 17118.3387308\ttest: 60521.4844346\tbest: 60521.4844346 (1809)\ttotal: 4m 59s\tremaining: 31.5s\n1810:\tlearn: 17113.7649612\ttest: 60521.8296970\tbest: 60521.4844346 (1809)\ttotal: 4m 59s\tremaining: 31.3s\n1811:\tlearn: 17107.8310257\ttest: 60519.9453744\tbest: 60519.9453744 (1811)\ttotal: 5m\tremaining: 31.1s\n1812:\tlearn: 17100.4899315\ttest: 60520.4757243\tbest: 60519.9453744 (1811)\ttotal: 5m\tremaining: 31s\n1813:\tlearn: 17097.0497796\ttest: 60520.3390873\tbest: 60519.9453744 (1811)\ttotal: 5m\tremaining: 30.8s\n1814:\tlearn: 17090.2144967\ttest: 60520.5183477\tbest: 60519.9453744 (1811)\ttotal: 5m\tremaining: 30.6s\n1815:\tlearn: 17084.2191031\ttest: 60518.8206456\tbest: 60518.8206456 (1815)\ttotal: 5m\tremaining: 30.5s\n1816:\tlearn: 17076.2986930\ttest: 60518.4877505\tbest: 60518.4877505 (1816)\ttotal: 5m\tremaining: 30.3s\n1817:\tlearn: 17066.6878856\ttest: 60524.0577669\tbest: 60518.4877505 (1816)\ttotal: 5m 1s\tremaining: 30.1s\n1818:\tlearn: 17060.3771869\ttest: 60523.2296112\tbest: 60518.4877505 (1816)\ttotal: 5m 1s\tremaining: 30s\n1819:\tlearn: 17055.0912327\ttest: 60520.4408018\tbest: 60518.4877505 (1816)\ttotal: 5m 1s\tremaining: 29.8s\n1820:\tlearn: 17047.4856932\ttest: 60521.0111272\tbest: 60518.4877505 (1816)\ttotal: 5m 1s\tremaining: 29.7s\n1821:\tlearn: 17046.1629040\ttest: 60523.6342662\tbest: 60518.4877505 (1816)\ttotal: 5m 1s\tremaining: 29.5s\n1822:\tlearn: 17036.0341776\ttest: 60527.9816297\tbest: 60518.4877505 (1816)\ttotal: 5m 2s\tremaining: 29.3s\n1823:\tlearn: 17028.1609228\ttest: 60527.2878749\tbest: 60518.4877505 (1816)\ttotal: 5m 2s\tremaining: 29.2s\n1824:\tlearn: 17027.3120305\ttest: 60527.6883511\tbest: 60518.4877505 (1816)\ttotal: 5m 2s\tremaining: 29s\n1825:\tlearn: 17019.5054533\ttest: 60528.3032304\tbest: 60518.4877505 (1816)\ttotal: 5m 2s\tremaining: 28.8s\n1826:\tlearn: 17008.2880029\ttest: 60526.5521864\tbest: 60518.4877505 (1816)\ttotal: 5m 2s\tremaining: 28.7s\n1827:\tlearn: 16996.5951088\ttest: 60525.3525560\tbest: 60518.4877505 (1816)\ttotal: 5m 2s\tremaining: 28.5s\n1828:\tlearn: 16986.3674643\ttest: 60523.3753977\tbest: 60518.4877505 (1816)\ttotal: 5m 3s\tremaining: 28.3s\n1829:\tlearn: 16980.3479641\ttest: 60523.5513339\tbest: 60518.4877505 (1816)\ttotal: 5m 3s\tremaining: 28.2s\n1830:\tlearn: 16970.7428043\ttest: 60522.1803568\tbest: 60518.4877505 (1816)\ttotal: 5m 3s\tremaining: 28s\n1831:\tlearn: 16962.3366265\ttest: 60518.4711101\tbest: 60518.4711101 (1831)\ttotal: 5m 3s\tremaining: 27.8s\n1832:\tlearn: 16960.7027131\ttest: 60518.2471185\tbest: 60518.2471185 (1832)\ttotal: 5m 3s\tremaining: 27.7s\n1833:\tlearn: 16954.1213152\ttest: 60517.0341075\tbest: 60517.0341075 (1833)\ttotal: 5m 3s\tremaining: 27.5s\n1834:\tlearn: 16950.2983077\ttest: 60517.4136423\tbest: 60517.0341075 (1833)\ttotal: 5m 4s\tremaining: 27.3s\n1835:\tlearn: 16938.7155131\ttest: 60518.9428877\tbest: 60517.0341075 (1833)\ttotal: 5m 4s\tremaining: 27.2s\n1836:\tlearn: 16929.2293386\ttest: 60521.8270904\tbest: 60517.0341075 (1833)\ttotal: 5m 4s\tremaining: 27s\n1837:\tlearn: 16918.0849118\ttest: 60514.9924317\tbest: 60514.9924317 (1837)\ttotal: 5m 4s\tremaining: 26.9s\n1838:\tlearn: 16911.8481878\ttest: 60514.8068745\tbest: 60514.8068745 (1838)\ttotal: 5m 4s\tremaining: 26.7s\n1839:\tlearn: 16907.2102160\ttest: 60514.1047879\tbest: 60514.1047879 (1839)\ttotal: 5m 5s\tremaining: 26.5s\n1840:\tlearn: 16904.9366543\ttest: 60513.8191312\tbest: 60513.8191312 (1840)\ttotal: 5m 5s\tremaining: 26.4s\n1841:\tlearn: 16895.4554055\ttest: 60516.0515154\tbest: 60513.8191312 (1840)\ttotal: 5m 5s\tremaining: 26.2s\n1842:\tlearn: 16890.9820337\ttest: 60515.8182618\tbest: 60513.8191312 (1840)\ttotal: 5m 5s\tremaining: 26s\n1843:\tlearn: 16888.6475666\ttest: 60516.2734506\tbest: 60513.8191312 (1840)\ttotal: 5m 5s\tremaining: 25.9s\n1844:\tlearn: 16885.8222745\ttest: 60515.9686318\tbest: 60513.8191312 (1840)\ttotal: 5m 5s\tremaining: 25.7s\n1845:\tlearn: 16884.1534114\ttest: 60515.9897433\tbest: 60513.8191312 (1840)\ttotal: 5m 6s\tremaining: 25.5s\n1846:\tlearn: 16879.7268735\ttest: 60514.7365350\tbest: 60513.8191312 (1840)\ttotal: 5m 6s\tremaining: 25.4s\n1847:\tlearn: 16872.2068935\ttest: 60514.7071014\tbest: 60513.8191312 (1840)\ttotal: 5m 6s\tremaining: 25.2s\n1848:\tlearn: 16869.9785081\ttest: 60512.9803647\tbest: 60512.9803647 (1848)\ttotal: 5m 6s\tremaining: 25s\n1849:\tlearn: 16857.3380396\ttest: 60519.1730452\tbest: 60512.9803647 (1848)\ttotal: 5m 6s\tremaining: 24.9s\n1850:\tlearn: 16848.9295722\ttest: 60517.5405393\tbest: 60512.9803647 (1848)\ttotal: 5m 7s\tremaining: 24.7s\n1851:\tlearn: 16846.4225543\ttest: 60517.3885225\tbest: 60512.9803647 (1848)\ttotal: 5m 7s\tremaining: 24.6s\n1852:\tlearn: 16837.2701204\ttest: 60517.0944868\tbest: 60512.9803647 (1848)\ttotal: 5m 7s\tremaining: 24.4s\n1853:\tlearn: 16829.1798275\ttest: 60520.8249995\tbest: 60512.9803647 (1848)\ttotal: 5m 7s\tremaining: 24.2s\n1854:\tlearn: 16823.5549657\ttest: 60519.3217855\tbest: 60512.9803647 (1848)\ttotal: 5m 7s\tremaining: 24.1s\n1855:\tlearn: 16816.9565647\ttest: 60517.5112631\tbest: 60512.9803647 (1848)\ttotal: 5m 7s\tremaining: 23.9s\n1856:\tlearn: 16810.1606092\ttest: 60519.1959646\tbest: 60512.9803647 (1848)\ttotal: 5m 8s\tremaining: 23.7s\n1857:\tlearn: 16806.4280176\ttest: 60521.8509815\tbest: 60512.9803647 (1848)\ttotal: 5m 8s\tremaining: 23.6s\n1858:\tlearn: 16794.2107859\ttest: 60519.9329125\tbest: 60512.9803647 (1848)\ttotal: 5m 8s\tremaining: 23.4s\n1859:\tlearn: 16788.5595597\ttest: 60520.6936067\tbest: 60512.9803647 (1848)\ttotal: 5m 8s\tremaining: 23.2s\n1860:\tlearn: 16780.4427574\ttest: 60518.7824310\tbest: 60512.9803647 (1848)\ttotal: 5m 8s\tremaining: 23.1s\n1861:\tlearn: 16779.1259585\ttest: 60518.7237030\tbest: 60512.9803647 (1848)\ttotal: 5m 8s\tremaining: 22.9s\n1862:\tlearn: 16768.0753059\ttest: 60517.5358880\tbest: 60512.9803647 (1848)\ttotal: 5m 9s\tremaining: 22.7s\n1863:\tlearn: 16760.4815956\ttest: 60519.5704998\tbest: 60512.9803647 (1848)\ttotal: 5m 9s\tremaining: 22.6s\n1864:\tlearn: 16743.2856911\ttest: 60503.7272521\tbest: 60503.7272521 (1864)\ttotal: 5m 9s\tremaining: 22.4s\n1865:\tlearn: 16736.4120564\ttest: 60503.8509908\tbest: 60503.7272521 (1864)\ttotal: 5m 9s\tremaining: 22.2s\n1866:\tlearn: 16729.5361562\ttest: 60502.8088212\tbest: 60502.8088212 (1866)\ttotal: 5m 9s\tremaining: 22.1s\n1867:\tlearn: 16722.8347262\ttest: 60503.6839134\tbest: 60502.8088212 (1866)\ttotal: 5m 10s\tremaining: 21.9s\n1868:\tlearn: 16718.2465625\ttest: 60502.3788256\tbest: 60502.3788256 (1868)\ttotal: 5m 10s\tremaining: 21.7s\n1869:\tlearn: 16707.1170075\ttest: 60499.0910912\tbest: 60499.0910912 (1869)\ttotal: 5m 10s\tremaining: 21.6s\n1870:\tlearn: 16699.2794770\ttest: 60494.5706858\tbest: 60494.5706858 (1870)\ttotal: 5m 10s\tremaining: 21.4s\n1871:\tlearn: 16691.6601043\ttest: 60492.6871822\tbest: 60492.6871822 (1871)\ttotal: 5m 10s\tremaining: 21.2s\n1872:\tlearn: 16688.5446388\ttest: 60491.4325787\tbest: 60491.4325787 (1872)\ttotal: 5m 10s\tremaining: 21.1s\n1873:\tlearn: 16687.7455974\ttest: 60490.9745336\tbest: 60490.9745336 (1873)\ttotal: 5m 11s\tremaining: 20.9s\n1874:\tlearn: 16685.6891623\ttest: 60491.4123338\tbest: 60490.9745336 (1873)\ttotal: 5m 11s\tremaining: 20.7s\n1875:\tlearn: 16681.2171168\ttest: 60491.9553169\tbest: 60490.9745336 (1873)\ttotal: 5m 11s\tremaining: 20.6s\n1876:\tlearn: 16668.5850488\ttest: 60492.8954680\tbest: 60490.9745336 (1873)\ttotal: 5m 11s\tremaining: 20.4s\n1877:\tlearn: 16659.9509342\ttest: 60493.9214536\tbest: 60490.9745336 (1873)\ttotal: 5m 11s\tremaining: 20.3s\n1878:\tlearn: 16650.4699393\ttest: 60495.1909922\tbest: 60490.9745336 (1873)\ttotal: 5m 11s\tremaining: 20.1s\n1879:\tlearn: 16649.0644018\ttest: 60495.1799597\tbest: 60490.9745336 (1873)\ttotal: 5m 12s\tremaining: 19.9s\n1880:\tlearn: 16643.8870909\ttest: 60495.3683183\tbest: 60490.9745336 (1873)\ttotal: 5m 12s\tremaining: 19.8s\n1881:\tlearn: 16624.2617437\ttest: 60499.4877476\tbest: 60490.9745336 (1873)\ttotal: 5m 12s\tremaining: 19.6s\n1882:\tlearn: 16610.5093541\ttest: 60501.1790186\tbest: 60490.9745336 (1873)\ttotal: 5m 12s\tremaining: 19.4s\n1883:\tlearn: 16608.3001277\ttest: 60501.2725383\tbest: 60490.9745336 (1873)\ttotal: 5m 12s\tremaining: 19.3s\n1884:\tlearn: 16597.4635867\ttest: 60499.1254911\tbest: 60490.9745336 (1873)\ttotal: 5m 13s\tremaining: 19.1s\n1885:\tlearn: 16584.7404580\ttest: 60498.6278843\tbest: 60490.9745336 (1873)\ttotal: 5m 13s\tremaining: 18.9s\n1886:\tlearn: 16575.3519868\ttest: 60493.8657265\tbest: 60490.9745336 (1873)\ttotal: 5m 13s\tremaining: 18.8s\n1887:\tlearn: 16573.2900009\ttest: 60493.1979829\tbest: 60490.9745336 (1873)\ttotal: 5m 13s\tremaining: 18.6s\n1888:\tlearn: 16568.1134969\ttest: 60492.1944761\tbest: 60490.9745336 (1873)\ttotal: 5m 13s\tremaining: 18.4s\n1889:\tlearn: 16559.5596317\ttest: 60489.5739628\tbest: 60489.5739628 (1889)\ttotal: 5m 13s\tremaining: 18.3s\n1890:\tlearn: 16556.4495597\ttest: 60491.0096381\tbest: 60489.5739628 (1889)\ttotal: 5m 14s\tremaining: 18.1s\n1891:\tlearn: 16546.8433252\ttest: 60492.2470015\tbest: 60489.5739628 (1889)\ttotal: 5m 14s\tremaining: 17.9s\n1892:\tlearn: 16540.8956688\ttest: 60492.5348525\tbest: 60489.5739628 (1889)\ttotal: 5m 14s\tremaining: 17.8s\n1893:\tlearn: 16540.2399515\ttest: 60491.9620395\tbest: 60489.5739628 (1889)\ttotal: 5m 14s\tremaining: 17.6s\n1894:\tlearn: 16530.7116259\ttest: 60489.4961306\tbest: 60489.4961306 (1894)\ttotal: 5m 14s\tremaining: 17.4s\n1895:\tlearn: 16526.6836352\ttest: 60489.9989784\tbest: 60489.4961306 (1894)\ttotal: 5m 14s\tremaining: 17.3s\n1896:\tlearn: 16515.2570426\ttest: 60488.0032838\tbest: 60488.0032838 (1896)\ttotal: 5m 15s\tremaining: 17.1s\n1897:\tlearn: 16510.1621115\ttest: 60485.7600429\tbest: 60485.7600429 (1897)\ttotal: 5m 15s\tremaining: 16.9s\n1898:\tlearn: 16506.7211162\ttest: 60483.5359846\tbest: 60483.5359846 (1898)\ttotal: 5m 15s\tremaining: 16.8s\n1899:\tlearn: 16501.9940752\ttest: 60483.0328684\tbest: 60483.0328684 (1899)\ttotal: 5m 15s\tremaining: 16.6s\n1900:\tlearn: 16492.6937767\ttest: 60479.1702746\tbest: 60479.1702746 (1900)\ttotal: 5m 15s\tremaining: 16.4s\n1901:\tlearn: 16482.4703494\ttest: 60477.9517627\tbest: 60477.9517627 (1901)\ttotal: 5m 15s\tremaining: 16.3s\n1902:\tlearn: 16479.2171975\ttest: 60477.6676131\tbest: 60477.6676131 (1902)\ttotal: 5m 16s\tremaining: 16.1s\n1903:\tlearn: 16477.1268239\ttest: 60477.9343449\tbest: 60477.6676131 (1902)\ttotal: 5m 16s\tremaining: 16s\n1904:\tlearn: 16471.8380919\ttest: 60476.0028213\tbest: 60476.0028213 (1904)\ttotal: 5m 16s\tremaining: 15.8s\n1905:\tlearn: 16469.8149991\ttest: 60475.2311891\tbest: 60475.2311891 (1905)\ttotal: 5m 16s\tremaining: 15.6s\n1906:\tlearn: 16459.1770855\ttest: 60471.9177952\tbest: 60471.9177952 (1906)\ttotal: 5m 16s\tremaining: 15.5s\n1907:\tlearn: 16451.7066859\ttest: 60469.0899774\tbest: 60469.0899774 (1907)\ttotal: 5m 17s\tremaining: 15.3s\n1908:\tlearn: 16449.6123270\ttest: 60468.7898978\tbest: 60468.7898978 (1908)\ttotal: 5m 17s\tremaining: 15.1s\n1909:\tlearn: 16445.2342662\ttest: 60470.4042713\tbest: 60468.7898978 (1908)\ttotal: 5m 17s\tremaining: 15s\n1910:\tlearn: 16437.4535855\ttest: 60470.2095286\tbest: 60468.7898978 (1908)\ttotal: 5m 17s\tremaining: 14.8s\n1911:\tlearn: 16429.4074768\ttest: 60466.2577930\tbest: 60466.2577930 (1911)\ttotal: 5m 17s\tremaining: 14.6s\n1912:\tlearn: 16426.2828097\ttest: 60467.2417167\tbest: 60466.2577930 (1911)\ttotal: 5m 18s\tremaining: 14.5s\n1913:\tlearn: 16408.4291028\ttest: 60458.5952576\tbest: 60458.5952576 (1913)\ttotal: 5m 18s\tremaining: 14.3s\n1914:\tlearn: 16401.4396251\ttest: 60457.0186159\tbest: 60457.0186159 (1914)\ttotal: 5m 18s\tremaining: 14.1s\n1915:\tlearn: 16393.7351135\ttest: 60458.8459728\tbest: 60457.0186159 (1914)\ttotal: 5m 18s\tremaining: 14s\n1916:\tlearn: 16386.2607684\ttest: 60454.4703022\tbest: 60454.4703022 (1916)\ttotal: 5m 18s\tremaining: 13.8s\n1917:\tlearn: 16382.0999392\ttest: 60455.7788548\tbest: 60454.4703022 (1916)\ttotal: 5m 19s\tremaining: 13.6s\n1918:\tlearn: 16376.9593899\ttest: 60458.0218350\tbest: 60454.4703022 (1916)\ttotal: 5m 19s\tremaining: 13.5s\n1919:\tlearn: 16370.2835512\ttest: 60458.8855159\tbest: 60454.4703022 (1916)\ttotal: 5m 19s\tremaining: 13.3s\n1920:\tlearn: 16366.0336359\ttest: 60460.2590180\tbest: 60454.4703022 (1916)\ttotal: 5m 19s\tremaining: 13.1s\n1921:\tlearn: 16359.8824248\ttest: 60459.3124828\tbest: 60454.4703022 (1916)\ttotal: 5m 19s\tremaining: 13s\n1922:\tlearn: 16353.5987512\ttest: 60455.3433507\tbest: 60454.4703022 (1916)\ttotal: 5m 19s\tremaining: 12.8s\n1923:\tlearn: 16350.2767243\ttest: 60454.2580011\tbest: 60454.2580011 (1923)\ttotal: 5m 20s\tremaining: 12.6s\n1924:\tlearn: 16342.4929490\ttest: 60454.3917131\tbest: 60454.2580011 (1923)\ttotal: 5m 20s\tremaining: 12.5s\n1925:\tlearn: 16332.7867232\ttest: 60453.1961875\tbest: 60453.1961875 (1925)\ttotal: 5m 20s\tremaining: 12.3s\n1926:\tlearn: 16330.1719827\ttest: 60453.3010518\tbest: 60453.1961875 (1925)\ttotal: 5m 20s\tremaining: 12.1s\n1927:\tlearn: 16325.8450647\ttest: 60450.6565048\tbest: 60450.6565048 (1927)\ttotal: 5m 20s\tremaining: 12s\n1928:\tlearn: 16317.8165735\ttest: 60449.6809552\tbest: 60449.6809552 (1928)\ttotal: 5m 20s\tremaining: 11.8s\n1929:\tlearn: 16309.2764030\ttest: 60450.5622577\tbest: 60449.6809552 (1928)\ttotal: 5m 21s\tremaining: 11.6s\n1930:\tlearn: 16308.0409444\ttest: 60450.5359589\tbest: 60449.6809552 (1928)\ttotal: 5m 21s\tremaining: 11.5s\n1931:\tlearn: 16301.4027610\ttest: 60449.9281161\tbest: 60449.6809552 (1928)\ttotal: 5m 21s\tremaining: 11.3s\n1932:\tlearn: 16297.9286886\ttest: 60449.6773023\tbest: 60449.6773023 (1932)\ttotal: 5m 21s\tremaining: 11.1s\n1933:\tlearn: 16296.4538934\ttest: 60450.5656258\tbest: 60449.6773023 (1932)\ttotal: 5m 21s\tremaining: 11s\n1934:\tlearn: 16286.9185501\ttest: 60447.3863176\tbest: 60447.3863176 (1934)\ttotal: 5m 22s\tremaining: 10.8s\n1935:\tlearn: 16278.2735254\ttest: 60442.1635020\tbest: 60442.1635020 (1935)\ttotal: 5m 22s\tremaining: 10.7s\n1936:\tlearn: 16271.4046241\ttest: 60444.0772575\tbest: 60442.1635020 (1935)\ttotal: 5m 22s\tremaining: 10.5s\n1937:\tlearn: 16267.0580596\ttest: 60443.7305163\tbest: 60442.1635020 (1935)\ttotal: 5m 22s\tremaining: 10.3s\n1938:\tlearn: 16251.0920218\ttest: 60440.6850788\tbest: 60440.6850788 (1938)\ttotal: 5m 22s\tremaining: 10.2s\n1939:\tlearn: 16244.9219250\ttest: 60440.3966068\tbest: 60440.3966068 (1939)\ttotal: 5m 22s\tremaining: 9.99s\n1940:\tlearn: 16238.6005782\ttest: 60437.4269007\tbest: 60437.4269007 (1940)\ttotal: 5m 23s\tremaining: 9.82s\n1941:\tlearn: 16231.7691170\ttest: 60436.8770939\tbest: 60436.8770939 (1941)\ttotal: 5m 23s\tremaining: 9.65s\n1942:\tlearn: 16224.9829946\ttest: 60436.4350196\tbest: 60436.4350196 (1942)\ttotal: 5m 23s\tremaining: 9.49s\n1943:\tlearn: 16223.7641487\ttest: 60436.3849495\tbest: 60436.3849495 (1943)\ttotal: 5m 23s\tremaining: 9.32s\n1944:\tlearn: 16218.2899257\ttest: 60436.7434726\tbest: 60436.3849495 (1943)\ttotal: 5m 23s\tremaining: 9.16s\n1945:\tlearn: 16214.8449301\ttest: 60436.5391218\tbest: 60436.3849495 (1943)\ttotal: 5m 24s\tremaining: 8.99s\n1946:\tlearn: 16208.8320093\ttest: 60436.0569001\tbest: 60436.0569001 (1946)\ttotal: 5m 24s\tremaining: 8.82s\n1947:\tlearn: 16206.0901823\ttest: 60436.0937062\tbest: 60436.0569001 (1946)\ttotal: 5m 24s\tremaining: 8.66s\n1948:\tlearn: 16202.0304530\ttest: 60433.2241036\tbest: 60433.2241036 (1948)\ttotal: 5m 24s\tremaining: 8.49s\n1949:\tlearn: 16199.9218373\ttest: 60432.8309799\tbest: 60432.8309799 (1949)\ttotal: 5m 24s\tremaining: 8.33s\n1950:\tlearn: 16195.2061327\ttest: 60433.1667309\tbest: 60432.8309799 (1949)\ttotal: 5m 25s\tremaining: 8.16s\n1951:\tlearn: 16189.3411671\ttest: 60433.7767489\tbest: 60432.8309799 (1949)\ttotal: 5m 25s\tremaining: 8s\n1952:\tlearn: 16185.0795864\ttest: 60433.2846334\tbest: 60432.8309799 (1949)\ttotal: 5m 25s\tremaining: 7.83s\n1953:\tlearn: 16177.3825340\ttest: 60436.8017005\tbest: 60432.8309799 (1949)\ttotal: 5m 25s\tremaining: 7.66s\n1954:\tlearn: 16163.9688956\ttest: 60437.2883107\tbest: 60432.8309799 (1949)\ttotal: 5m 25s\tremaining: 7.5s\n1955:\tlearn: 16161.1105217\ttest: 60436.1896014\tbest: 60432.8309799 (1949)\ttotal: 5m 25s\tremaining: 7.33s\n1956:\tlearn: 16156.9320184\ttest: 60434.9817095\tbest: 60432.8309799 (1949)\ttotal: 5m 26s\tremaining: 7.17s\n1957:\tlearn: 16154.6444267\ttest: 60432.1737350\tbest: 60432.1737350 (1957)\ttotal: 5m 26s\tremaining: 7s\n1958:\tlearn: 16146.8973796\ttest: 60433.4426510\tbest: 60432.1737350 (1957)\ttotal: 5m 26s\tremaining: 6.83s\n1959:\tlearn: 16137.4353262\ttest: 60433.4066968\tbest: 60432.1737350 (1957)\ttotal: 5m 26s\tremaining: 6.66s\n1960:\tlearn: 16124.9877035\ttest: 60432.8520163\tbest: 60432.1737350 (1957)\ttotal: 5m 26s\tremaining: 6.5s\n1961:\tlearn: 16117.2040818\ttest: 60430.3474159\tbest: 60430.3474159 (1961)\ttotal: 5m 26s\tremaining: 6.33s\n1962:\tlearn: 16114.9797299\ttest: 60429.2149778\tbest: 60429.2149778 (1962)\ttotal: 5m 27s\tremaining: 6.17s\n1963:\tlearn: 16107.5407138\ttest: 60426.5143802\tbest: 60426.5143802 (1963)\ttotal: 5m 27s\tremaining: 6s\n1964:\tlearn: 16104.5602996\ttest: 60426.2776786\tbest: 60426.2776786 (1964)\ttotal: 5m 27s\tremaining: 5.83s\n1965:\tlearn: 16100.4243258\ttest: 60426.5209391\tbest: 60426.2776786 (1964)\ttotal: 5m 27s\tremaining: 5.67s\n1966:\tlearn: 16095.4770375\ttest: 60425.9278425\tbest: 60425.9278425 (1966)\ttotal: 5m 27s\tremaining: 5.5s\n1967:\tlearn: 16091.6819167\ttest: 60423.2558046\tbest: 60423.2558046 (1967)\ttotal: 5m 27s\tremaining: 5.33s\n1968:\tlearn: 16086.8393791\ttest: 60424.7231808\tbest: 60423.2558046 (1967)\ttotal: 5m 28s\tremaining: 5.17s\n1969:\tlearn: 16085.8908359\ttest: 60426.3103739\tbest: 60423.2558046 (1967)\ttotal: 5m 28s\tremaining: 5s\n1970:\tlearn: 16073.9720741\ttest: 60430.5267198\tbest: 60423.2558046 (1967)\ttotal: 5m 28s\tremaining: 4.84s\n1971:\tlearn: 16059.4671852\ttest: 60431.4281531\tbest: 60423.2558046 (1967)\ttotal: 5m 28s\tremaining: 4.67s\n1972:\tlearn: 16057.0547221\ttest: 60431.7547382\tbest: 60423.2558046 (1967)\ttotal: 5m 29s\tremaining: 4.5s\n1973:\tlearn: 16047.0681919\ttest: 60431.9527302\tbest: 60423.2558046 (1967)\ttotal: 5m 29s\tremaining: 4.33s\n1974:\tlearn: 16039.3090608\ttest: 60432.6157394\tbest: 60423.2558046 (1967)\ttotal: 5m 29s\tremaining: 4.17s\n1975:\tlearn: 16036.3668160\ttest: 60431.5452262\tbest: 60423.2558046 (1967)\ttotal: 5m 29s\tremaining: 4s\n1976:\tlearn: 16033.3529219\ttest: 60431.8015838\tbest: 60423.2558046 (1967)\ttotal: 5m 29s\tremaining: 3.84s\n1977:\tlearn: 16030.9734821\ttest: 60433.3553772\tbest: 60423.2558046 (1967)\ttotal: 5m 29s\tremaining: 3.67s\n1978:\tlearn: 16025.9504120\ttest: 60433.2058032\tbest: 60423.2558046 (1967)\ttotal: 5m 30s\tremaining: 3.5s\n1979:\tlearn: 16017.0838256\ttest: 60434.2580506\tbest: 60423.2558046 (1967)\ttotal: 5m 30s\tremaining: 3.34s\n1980:\tlearn: 16011.8746015\ttest: 60434.3919094\tbest: 60423.2558046 (1967)\ttotal: 5m 30s\tremaining: 3.17s\n1981:\tlearn: 15999.3114304\ttest: 60432.8866404\tbest: 60423.2558046 (1967)\ttotal: 5m 30s\tremaining: 3s\n1982:\tlearn: 15988.8734359\ttest: 60434.4896608\tbest: 60423.2558046 (1967)\ttotal: 5m 30s\tremaining: 2.84s\n1983:\tlearn: 15982.9505461\ttest: 60434.5673907\tbest: 60423.2558046 (1967)\ttotal: 5m 31s\tremaining: 2.67s\n1984:\tlearn: 15978.2937443\ttest: 60434.8094372\tbest: 60423.2558046 (1967)\ttotal: 5m 31s\tremaining: 2.5s\n1985:\tlearn: 15968.7146701\ttest: 60434.0756156\tbest: 60423.2558046 (1967)\ttotal: 5m 31s\tremaining: 2.34s\n1986:\tlearn: 15963.0942396\ttest: 60436.4604369\tbest: 60423.2558046 (1967)\ttotal: 5m 31s\tremaining: 2.17s\n1987:\tlearn: 15961.7056456\ttest: 60435.5694263\tbest: 60423.2558046 (1967)\ttotal: 5m 31s\tremaining: 2s\n1988:\tlearn: 15950.8224670\ttest: 60434.8289769\tbest: 60423.2558046 (1967)\ttotal: 5m 32s\tremaining: 1.84s\n1989:\tlearn: 15946.1364148\ttest: 60430.5085360\tbest: 60423.2558046 (1967)\ttotal: 5m 32s\tremaining: 1.67s\n1990:\tlearn: 15939.6781661\ttest: 60430.6394316\tbest: 60423.2558046 (1967)\ttotal: 5m 32s\tremaining: 1.5s\n1991:\tlearn: 15936.2075658\ttest: 60431.3986275\tbest: 60423.2558046 (1967)\ttotal: 5m 32s\tremaining: 1.33s\n1992:\tlearn: 15925.7986738\ttest: 60427.7867578\tbest: 60423.2558046 (1967)\ttotal: 5m 32s\tremaining: 1.17s\n1993:\tlearn: 15916.6716473\ttest: 60425.6931777\tbest: 60423.2558046 (1967)\ttotal: 5m 32s\tremaining: 1s\n1994:\tlearn: 15903.9437443\ttest: 60422.2200429\tbest: 60422.2200429 (1994)\ttotal: 5m 32s\tremaining: 835ms\n1995:\tlearn: 15901.6344482\ttest: 60422.2010125\tbest: 60422.2010125 (1995)\ttotal: 5m 33s\tremaining: 668ms\n1996:\tlearn: 15895.7844755\ttest: 60424.1900800\tbest: 60422.2010125 (1995)\ttotal: 5m 33s\tremaining: 501ms\n1997:\tlearn: 15889.6653552\ttest: 60423.1594079\tbest: 60422.2010125 (1995)\ttotal: 5m 33s\tremaining: 334ms\n1998:\tlearn: 15887.2893233\ttest: 60423.0736993\tbest: 60422.2010125 (1995)\ttotal: 5m 33s\tremaining: 167ms\n1999:\tlearn: 15886.9999757\ttest: 60423.0809757\tbest: 60422.2010125 (1995)\ttotal: 5m 33s\tremaining: 0us\n\nbestTest = 60422.20101\nbestIteration = 1995\n\nShrink model to first 1996 iterations.\n",
     "output_type": "stream"
    },
    {
     "output_type": "execute_result",
     "execution_count": 52,
     "data": {
      "text/plain": "<catboost.core.CatBoostRegressor at 0x7f030c7113d0>"
     },
     "metadata": {}
    }
   ],
   "execution_count": null
  },
  {
   "cell_type": "code",
   "metadata": {
    "tags": [],
    "deepnote_to_be_reexecuted": false,
    "source_hash": "432fb887",
    "execution_start": 1637350985292,
    "execution_millis": 2168,
    "deepnote_output_heights": [
     null,
     21
    ],
    "cell_id": "00039-16bf5773-e397-4b39-8944-01c8ce16f8d6",
    "deepnote_cell_type": "code"
   },
   "source": "print(model.score(X_train, y_train))\nfrom sklearn.metrics import r2_score\n\ny_pred = model.predict(X_val)\ny_pred = y_pred.astype(float)\nprint(model.score(X_val, y_val)), print(r2_score(y_pred, model.predict(X_val)))",
   "outputs": [
    {
     "name": "stdout",
     "text": "0.9562967883861663\n0.8559142538872013\n1.0\n",
     "output_type": "stream"
    },
    {
     "output_type": "execute_result",
     "execution_count": 53,
     "data": {
      "text/plain": "(None, None)"
     },
     "metadata": {}
    }
   ],
   "execution_count": null
  },
  {
   "cell_type": "code",
   "metadata": {
    "tags": [],
    "deepnote_to_be_reexecuted": false,
    "source_hash": "949a2162",
    "execution_start": 1637350996613,
    "execution_millis": 53,
    "cell_id": "00040-d6ee32fa-dfda-46e9-92c4-ec2190032a13",
    "deepnote_cell_type": "code"
   },
   "source": "df=pd.DataFrame({'Actual': y_val, 'Predicted':y_pred})\ndf",
   "outputs": [
    {
     "output_type": "execute_result",
     "execution_count": 54,
     "data": {
      "application/vnd.deepnote.dataframe.v2+json": {
       "row_count": 4648,
       "column_count": 2,
       "columns": [
        {
         "name": "Actual",
         "dtype": "float64",
         "stats": {
          "unique_count": 3892,
          "nan_count": 0,
          "min": "53846.153846153844",
          "max": "1671453.8959276017",
          "histogram": [
           {
            "bin_start": 53846.153846153844,
            "bin_end": 215606.92805429865,
            "count": 2786
           },
           {
            "bin_start": 215606.92805429865,
            "bin_end": 377367.7022624435,
            "count": 1322
           },
           {
            "bin_start": 377367.7022624435,
            "bin_end": 539128.4764705882,
            "count": 309
           },
           {
            "bin_start": 539128.4764705882,
            "bin_end": 700889.2506787331,
            "count": 106
           },
           {
            "bin_start": 700889.2506787331,
            "bin_end": 862650.0248868779,
            "count": 63
           },
           {
            "bin_start": 862650.0248868779,
            "bin_end": 1024410.7990950227,
            "count": 31
           },
           {
            "bin_start": 1024410.7990950227,
            "bin_end": 1186171.5733031675,
            "count": 9
           },
           {
            "bin_start": 1186171.5733031675,
            "bin_end": 1347932.3475113122,
            "count": 12
           },
           {
            "bin_start": 1347932.3475113122,
            "bin_end": 1509693.121719457,
            "count": 7
           },
           {
            "bin_start": 1509693.121719457,
            "bin_end": 1671453.8959276017,
            "count": 3
           }
          ]
         }
        },
        {
         "name": "Predicted",
         "dtype": "float64",
         "stats": {
          "unique_count": 4615,
          "nan_count": 0,
          "min": "50595.04890868848",
          "max": "1342567.3614125736",
          "histogram": [
           {
            "bin_start": 50595.04890868848,
            "bin_end": 179792.28015907697,
            "count": 1708
           },
           {
            "bin_start": 179792.28015907697,
            "bin_end": 308989.51140946546,
            "count": 2084
           },
           {
            "bin_start": 308989.51140946546,
            "bin_end": 438186.742659854,
            "count": 440
           },
           {
            "bin_start": 438186.742659854,
            "bin_end": 567383.9739102426,
            "count": 199
           },
           {
            "bin_start": 567383.9739102426,
            "bin_end": 696581.205160631,
            "count": 94
           },
           {
            "bin_start": 696581.205160631,
            "bin_end": 825778.4364110195,
            "count": 80
           },
           {
            "bin_start": 825778.4364110195,
            "bin_end": 954975.667661408,
            "count": 23
           },
           {
            "bin_start": 954975.667661408,
            "bin_end": 1084172.8989117965,
            "count": 13
           },
           {
            "bin_start": 1084172.8989117965,
            "bin_end": 1213370.130162185,
            "count": 5
           },
           {
            "bin_start": 1213370.130162185,
            "bin_end": 1342567.3614125736,
            "count": 2
           }
          ]
         }
        },
        {
         "name": "_deepnote_index_column",
         "dtype": "int64"
        }
       ],
       "rows_top": [
        {
         "Actual": 200000,
         "Predicted": 204027.26947619056,
         "_deepnote_index_column": 17722
        },
        {
         "Actual": 118300.00000000001,
         "Predicted": 122338.45240162248,
         "_deepnote_index_column": 10791
        },
        {
         "Actual": 182400,
         "Predicted": 176115.25954471016,
         "_deepnote_index_column": 13285
        },
        {
         "Actual": 195876.28865979382,
         "Predicted": 176551.53090227646,
         "_deepnote_index_column": 14456
        },
        {
         "Actual": 91836.73469387754,
         "Predicted": 104845.29865047801,
         "_deepnote_index_column": 2329
        },
        {
         "Actual": 184369.9990460746,
         "Predicted": 191860.9869348397,
         "_deepnote_index_column": 8357
        },
        {
         "Actual": 639947.6989247312,
         "Predicted": 556921.9610475881,
         "_deepnote_index_column": 16751
        },
        {
         "Actual": 180899.0014684288,
         "Predicted": 181130.42105783656,
         "_deepnote_index_column": 1475
        },
        {
         "Actual": 589743.5897435897,
         "Predicted": 591342.8185475899,
         "_deepnote_index_column": 10859
        },
        {
         "Actual": 236900,
         "Predicted": 249916.98902312192,
         "_deepnote_index_column": 1427
        },
        {
         "Actual": 157800,
         "Predicted": 169103.3674607434,
         "_deepnote_index_column": 4501
        },
        {
         "Actual": 116500,
         "Predicted": 120802.82845109736,
         "_deepnote_index_column": 246
        },
        {
         "Actual": 303000,
         "Predicted": 323335.08188162936,
         "_deepnote_index_column": 15752
        },
        {
         "Actual": 229281.7679558011,
         "Predicted": 202285.37384715624,
         "_deepnote_index_column": 16317
        },
        {
         "Actual": 199971.83869897114,
         "Predicted": 214951.14029080095,
         "_deepnote_index_column": 14921
        },
        {
         "Actual": 265200.5174644243,
         "Predicted": 275195.43473608105,
         "_deepnote_index_column": 5283
        },
        {
         "Actual": 197699.99999999997,
         "Predicted": 180638.69944442465,
         "_deepnote_index_column": 21858
        },
        {
         "Actual": 214473.68421052632,
         "Predicted": 188552.1882942759,
         "_deepnote_index_column": 12893
        },
        {
         "Actual": 170000,
         "Predicted": 176196.07167495374,
         "_deepnote_index_column": 1804
        },
        {
         "Actual": 145000,
         "Predicted": 173451.08616586094,
         "_deepnote_index_column": 15289
        },
        {
         "Actual": 243770.30162412993,
         "Predicted": 254622.46069114344,
         "_deepnote_index_column": 6525
        },
        {
         "Actual": 509090.9090909091,
         "Predicted": 464639.58606464777,
         "_deepnote_index_column": 1270
        },
        {
         "Actual": 200944.46322907862,
         "Predicted": 199408.55540482924,
         "_deepnote_index_column": 5696
        },
        {
         "Actual": 230357.14285714287,
         "Predicted": 240146.35378009567,
         "_deepnote_index_column": 17822
        },
        {
         "Actual": 231379.99685732243,
         "Predicted": 279629.96248819394,
         "_deepnote_index_column": 2072
        },
        {
         "Actual": 193600.00000000003,
         "Predicted": 187148.72980768114,
         "_deepnote_index_column": 20918
        },
        {
         "Actual": 407894.7368421053,
         "Predicted": 376480.03428150335,
         "_deepnote_index_column": 1251
        },
        {
         "Actual": 468750,
         "Predicted": 552875.7754615378,
         "_deepnote_index_column": 3008
        },
        {
         "Actual": 205800,
         "Predicted": 210571.8187536673,
         "_deepnote_index_column": 12322
        },
        {
         "Actual": 200000,
         "Predicted": 200081.43320194885,
         "_deepnote_index_column": 19199
        },
        {
         "Actual": 209864.70731707316,
         "Predicted": 215425.03644408117,
         "_deepnote_index_column": 13993
        },
        {
         "Actual": 180434.78260869565,
         "Predicted": 180357.03464051857,
         "_deepnote_index_column": 14258
        },
        {
         "Actual": 180672.26890756303,
         "Predicted": 201511.76611636576,
         "_deepnote_index_column": 18914
        },
        {
         "Actual": 218991.3544668588,
         "Predicted": 267742.13949922763,
         "_deepnote_index_column": 993
        },
        {
         "Actual": 124775.71100917431,
         "Predicted": 130627.95262981078,
         "_deepnote_index_column": 20169
        },
        {
         "Actual": 189923.95437262356,
         "Predicted": 183288.52692131136,
         "_deepnote_index_column": 8775
        },
        {
         "Actual": 165714.2857142857,
         "Predicted": 145195.75988089488,
         "_deepnote_index_column": 4355
        },
        {
         "Actual": 225000,
         "Predicted": 223618.47386125795,
         "_deepnote_index_column": 3946
        },
        {
         "Actual": 159090.9090909091,
         "Predicted": 153729.33357577136,
         "_deepnote_index_column": 21617
        },
        {
         "Actual": 267000,
         "Predicted": 285092.56789087504,
         "_deepnote_index_column": 7040
        },
        {
         "Actual": 354477.6119402985,
         "Predicted": 346494.403127442,
         "_deepnote_index_column": 16401
        },
        {
         "Actual": 116920.23474178404,
         "Predicted": 113658.17944981204,
         "_deepnote_index_column": 5604
        },
        {
         "Actual": 437823.83419689117,
         "Predicted": 599815.5330485873,
         "_deepnote_index_column": 7157
        },
        {
         "Actual": 143712.5748502994,
         "Predicted": 173583.3395037466,
         "_deepnote_index_column": 18600
        },
        {
         "Actual": 137209.3023255814,
         "Predicted": 141806.75029891334,
         "_deepnote_index_column": 20190
        },
        {
         "Actual": 160256.41025641025,
         "Predicted": 174247.36428584112,
         "_deepnote_index_column": 7367
        },
        {
         "Actual": 273000,
         "Predicted": 268784.85937551747,
         "_deepnote_index_column": 11945
        },
        {
         "Actual": 328658.9005930778,
         "Predicted": 324229.72428439924,
         "_deepnote_index_column": 481
        },
        {
         "Actual": 207547.16981132075,
         "Predicted": 236747.8319605341,
         "_deepnote_index_column": 16688
        },
        {
         "Actual": 336538.46153846156,
         "Predicted": 299765.8633378445,
         "_deepnote_index_column": 12998
        },
        {
         "Actual": 223333.33333333334,
         "Predicted": 240958.10748448825,
         "_deepnote_index_column": 2578
        },
        {
         "Actual": 104000,
         "Predicted": 117412.65918815242,
         "_deepnote_index_column": 22358
        },
        {
         "Actual": 225531.89361702127,
         "Predicted": 250291.46305541202,
         "_deepnote_index_column": 7915
        },
        {
         "Actual": 174048.00718132855,
         "Predicted": 160704.3899645392,
         "_deepnote_index_column": 21127
        },
        {
         "Actual": 213200,
         "Predicted": 194001.4676585297,
         "_deepnote_index_column": 9946
        },
        {
         "Actual": 96721.31147540984,
         "Predicted": 97623.08177970676,
         "_deepnote_index_column": 8224
        },
        {
         "Actual": 182300,
         "Predicted": 170108.70905710233,
         "_deepnote_index_column": 1945
        },
        {
         "Actual": 153225.8064516129,
         "Predicted": 173782.24109383413,
         "_deepnote_index_column": 16934
        },
        {
         "Actual": 150384.61538461538,
         "Predicted": 166425.8586756463,
         "_deepnote_index_column": 22004
        },
        {
         "Actual": 292307.6923076923,
         "Predicted": 293637.81121911184,
         "_deepnote_index_column": 8060
        },
        {
         "Actual": 161706.3492063492,
         "Predicted": 171681.52210940106,
         "_deepnote_index_column": 18511
        },
        {
         "Actual": 174000,
         "Predicted": 180391.5343803928,
         "_deepnote_index_column": 1925
        },
        {
         "Actual": 60329.0676416819,
         "Predicted": 50595.04890868848,
         "_deepnote_index_column": 8178
        },
        {
         "Actual": 219017.09401709403,
         "Predicted": 213121.58664703267,
         "_deepnote_index_column": 7597
        },
        {
         "Actual": 225974.02597402598,
         "Predicted": 229355.9963317466,
         "_deepnote_index_column": 4862
        },
        {
         "Actual": 207200,
         "Predicted": 227247.3170870575,
         "_deepnote_index_column": 6607
        },
        {
         "Actual": 168000.00000000003,
         "Predicted": 175853.68792148132,
         "_deepnote_index_column": 2939
        },
        {
         "Actual": 142500,
         "Predicted": 149521.30049605886,
         "_deepnote_index_column": 18736
        },
        {
         "Actual": 433333.3333333333,
         "Predicted": 427236.2724794508,
         "_deepnote_index_column": 3337
        },
        {
         "Actual": 116753.92670157069,
         "Predicted": 133497.66773858084,
         "_deepnote_index_column": 227
        },
        {
         "Actual": 243333.33333333334,
         "Predicted": 239313.6231622795,
         "_deepnote_index_column": 17962
        },
        {
         "Actual": 118518.51851851853,
         "Predicted": 132850.71887391826,
         "_deepnote_index_column": 4230
        },
        {
         "Actual": 147500,
         "Predicted": 170867.19501626713,
         "_deepnote_index_column": 14919
        },
        {
         "Actual": 85735.9635811836,
         "Predicted": 90475.48995615431,
         "_deepnote_index_column": 13718
        },
        {
         "Actual": 172222.22222222222,
         "Predicted": 196446.76198882525,
         "_deepnote_index_column": 19704
        },
        {
         "Actual": 191891.8918918919,
         "Predicted": 214271.13573039617,
         "_deepnote_index_column": 17853
        },
        {
         "Actual": 133333.33333333334,
         "Predicted": 151863.1854384333,
         "_deepnote_index_column": 4714
        },
        {
         "Actual": 218814.84897394513,
         "Predicted": 254774.5269177343,
         "_deepnote_index_column": 11969
        },
        {
         "Actual": 348837.20930232556,
         "Predicted": 263555.2844771055,
         "_deepnote_index_column": 19396
        },
        {
         "Actual": 219000,
         "Predicted": 216662.91717205697,
         "_deepnote_index_column": 20460
        },
        {
         "Actual": 148846.9601677149,
         "Predicted": 159414.2987797702,
         "_deepnote_index_column": 22892
        },
        {
         "Actual": 85144.92753623187,
         "Predicted": 153826.0668868189,
         "_deepnote_index_column": 8222
        },
        {
         "Actual": 549636.6083445492,
         "Predicted": 516892.1850799176,
         "_deepnote_index_column": 17491
        },
        {
         "Actual": 193750,
         "Predicted": 180571.5773073542,
         "_deepnote_index_column": 5388
        },
        {
         "Actual": 151138.98186889818,
         "Predicted": 161793.43835916856,
         "_deepnote_index_column": 11352
        },
        {
         "Actual": 177083.33333333334,
         "Predicted": 209090.26936655265,
         "_deepnote_index_column": 10620
        },
        {
         "Actual": 154700,
         "Predicted": 157487.9027625463,
         "_deepnote_index_column": 21682
        },
        {
         "Actual": 145000,
         "Predicted": 141883.40917711004,
         "_deepnote_index_column": 21310
        },
        {
         "Actual": 267459.1381872214,
         "Predicted": 309634.4935104699,
         "_deepnote_index_column": 14582
        },
        {
         "Actual": 200000,
         "Predicted": 219138.01747677286,
         "_deepnote_index_column": 11450
        },
        {
         "Actual": 256999.99999999997,
         "Predicted": 251950.76015235324,
         "_deepnote_index_column": 18333
        },
        {
         "Actual": 130000,
         "Predicted": 153803.65962495084,
         "_deepnote_index_column": 17140
        },
        {
         "Actual": 164414.4144144144,
         "Predicted": 162111.06528567255,
         "_deepnote_index_column": 8390
        },
        {
         "Actual": 180000,
         "Predicted": 208829.02707959004,
         "_deepnote_index_column": 4405
        },
        {
         "Actual": 157100,
         "Predicted": 153897.975056015,
         "_deepnote_index_column": 21853
        },
        {
         "Actual": 510562.4742268041,
         "Predicted": 437801.5856766193,
         "_deepnote_index_column": 10890
        },
        {
         "Actual": 267631.8622174381,
         "Predicted": 231950.56139927098,
         "_deepnote_index_column": 22416
        },
        {
         "Actual": 633356.8538011695,
         "Predicted": 643332.8397111179,
         "_deepnote_index_column": 2802
        },
        {
         "Actual": 216666.66666666666,
         "Predicted": 231245.28081526753,
         "_deepnote_index_column": 4841
        },
        {
         "Actual": 220930.23255813954,
         "Predicted": 271132.80447841255,
         "_deepnote_index_column": 551
        },
        {
         "Actual": 145121.9512195122,
         "Predicted": 140728.4432294509,
         "_deepnote_index_column": 18058
        },
        {
         "Actual": 155000,
         "Predicted": 163033.98801908386,
         "_deepnote_index_column": 5661
        },
        {
         "Actual": 156500,
         "Predicted": 148916.60324956587,
         "_deepnote_index_column": 11592
        },
        {
         "Actual": 189000,
         "Predicted": 195613.00599421927,
         "_deepnote_index_column": 22512
        },
        {
         "Actual": 133293.6344537815,
         "Predicted": 142874.60411301325,
         "_deepnote_index_column": 6260
        },
        {
         "Actual": 150862.06896551725,
         "Predicted": 204606.2523342592,
         "_deepnote_index_column": 6000
        },
        {
         "Actual": 184300,
         "Predicted": 183157.69191011932,
         "_deepnote_index_column": 22881
        },
        {
         "Actual": 244500.00000000003,
         "Predicted": 251393.9898048561,
         "_deepnote_index_column": 1541
        },
        {
         "Actual": 168000,
         "Predicted": 190857.57154796986,
         "_deepnote_index_column": 6927
        },
        {
         "Actual": 512500,
         "Predicted": 464780.21811245225,
         "_deepnote_index_column": 5344
        },
        {
         "Actual": 188976.37795275592,
         "Predicted": 224793.49599938636,
         "_deepnote_index_column": 5034
        },
        {
         "Actual": 347725.24544179527,
         "Predicted": 323085.79900665826,
         "_deepnote_index_column": 15361
        },
        {
         "Actual": 163017.0316301703,
         "Predicted": 170762.80394213542,
         "_deepnote_index_column": 10679
        },
        {
         "Actual": 185714.2857142857,
         "Predicted": 194945.58781177056,
         "_deepnote_index_column": 16970
        },
        {
         "Actual": 220430.1075268817,
         "Predicted": 299332.4182470952,
         "_deepnote_index_column": 5312
        },
        {
         "Actual": 148126.36165577342,
         "Predicted": 142782.50742090459,
         "_deepnote_index_column": 9428
        },
        {
         "Actual": 163888.88888888888,
         "Predicted": 165765.33044746547,
         "_deepnote_index_column": 3860
        },
        {
         "Actual": 114114.992,
         "Predicted": 108614.08385682656,
         "_deepnote_index_column": 5593
        },
        {
         "Actual": 138888.88888888888,
         "Predicted": 158837.58057625877,
         "_deepnote_index_column": 10543
        },
        {
         "Actual": 298210.7355864811,
         "Predicted": 288197.57455847773,
         "_deepnote_index_column": 22486
        },
        {
         "Actual": 118100,
         "Predicted": 113034.67742930472,
         "_deepnote_index_column": 17288
        },
        {
         "Actual": 127586.20689655172,
         "Predicted": 150489.52106876584,
         "_deepnote_index_column": 18342
        },
        {
         "Actual": 235000,
         "Predicted": 206367.87059042102,
         "_deepnote_index_column": 20474
        },
        {
         "Actual": 169076.92307692306,
         "Predicted": 203487.96375556674,
         "_deepnote_index_column": 12971
        },
        {
         "Actual": 176666.66666666666,
         "Predicted": 165579.61671189143,
         "_deepnote_index_column": 5985
        },
        {
         "Actual": 381388.2532418002,
         "Predicted": 517948.01067821024,
         "_deepnote_index_column": 17204
        },
        {
         "Actual": 234945.70582428432,
         "Predicted": 260756.66475562495,
         "_deepnote_index_column": 19157
        },
        {
         "Actual": 406504.0650406504,
         "Predicted": 500111.3726011235,
         "_deepnote_index_column": 3291
        },
        {
         "Actual": 228571.42857142858,
         "Predicted": 228722.92372266125,
         "_deepnote_index_column": 2887
        },
        {
         "Actual": 127536.23188405797,
         "Predicted": 153427.74430502026,
         "_deepnote_index_column": 5794
        },
        {
         "Actual": 191100,
         "Predicted": 197570.04467124533,
         "_deepnote_index_column": 456
        },
        {
         "Actual": 276296.90036900365,
         "Predicted": 264007.1033741589,
         "_deepnote_index_column": 1524
        },
        {
         "Actual": 128581.888,
         "Predicted": 141395.4225294439,
         "_deepnote_index_column": 5618
        },
        {
         "Actual": 229678.45016976233,
         "Predicted": 217801.66874677181,
         "_deepnote_index_column": 6604
        },
        {
         "Actual": 277198.21162444114,
         "Predicted": 224617.41576608905,
         "_deepnote_index_column": 6517
        },
        {
         "Actual": 251470.58823529413,
         "Predicted": 250266.563185317,
         "_deepnote_index_column": 22568
        },
        {
         "Actual": 572646.1579438008,
         "Predicted": 423969.108796068,
         "_deepnote_index_column": 3268
        },
        {
         "Actual": 179500,
         "Predicted": 175612.418813387,
         "_deepnote_index_column": 1421
        },
        {
         "Actual": 175000,
         "Predicted": 162142.89683148026,
         "_deepnote_index_column": 10521
        },
        {
         "Actual": 186936.93693693695,
         "Predicted": 178037.07308244653,
         "_deepnote_index_column": 12487
        },
        {
         "Actual": 255952.38095238095,
         "Predicted": 240842.00022289366,
         "_deepnote_index_column": 22625
        },
        {
         "Actual": 176785.7142857143,
         "Predicted": 168900.20617563877,
         "_deepnote_index_column": 4131
        },
        {
         "Actual": 225475.1966292135,
         "Predicted": 242351.7631669904,
         "_deepnote_index_column": 11398
        },
        {
         "Actual": 202614.3790849673,
         "Predicted": 194229.2148331385,
         "_deepnote_index_column": 8528
        },
        {
         "Actual": 184700,
         "Predicted": 185920.73359180367,
         "_deepnote_index_column": 1989
        },
        {
         "Actual": 195454.54545454544,
         "Predicted": 197761.39821902377,
         "_deepnote_index_column": 11734
        },
        {
         "Actual": 222101.69491525425,
         "Predicted": 244173.16446586177,
         "_deepnote_index_column": 11559
        },
        {
         "Actual": 321100.91743119265,
         "Predicted": 306174.976732658,
         "_deepnote_index_column": 15408
        },
        {
         "Actual": 133238.92448512584,
         "Predicted": 141353.39407694057,
         "_deepnote_index_column": 9940
        },
        {
         "Actual": 341341.46341463417,
         "Predicted": 354216.2319384401,
         "_deepnote_index_column": 881
        },
        {
         "Actual": 319000,
         "Predicted": 295912.84694088344,
         "_deepnote_index_column": 15610
        },
        {
         "Actual": 257126.99140401147,
         "Predicted": 276038.9494626086,
         "_deepnote_index_column": 10673
        },
        {
         "Actual": 208904.1095890411,
         "Predicted": 186499.66468381652,
         "_deepnote_index_column": 22148
        },
        {
         "Actual": 196875,
         "Predicted": 201212.33574544697,
         "_deepnote_index_column": 14817
        },
        {
         "Actual": 201133.1444759207,
         "Predicted": 208753.37779347965,
         "_deepnote_index_column": 17684
        },
        {
         "Actual": 133400,
         "Predicted": 130463.07161992224,
         "_deepnote_index_column": 20033
        },
        {
         "Actual": 234000,
         "Predicted": 240476.8528881408,
         "_deepnote_index_column": 22070
        },
        {
         "Actual": 121800,
         "Predicted": 116399.59902498528,
         "_deepnote_index_column": 11288
        },
        {
         "Actual": 153174.6031746032,
         "Predicted": 167588.61791192024,
         "_deepnote_index_column": 8507
        },
        {
         "Actual": 311764.70588235295,
         "Predicted": 374825.6491727733,
         "_deepnote_index_column": 17183
        },
        {
         "Actual": 244974.8743718593,
         "Predicted": 233977.54647948738,
         "_deepnote_index_column": 1260
        },
        {
         "Actual": 209302.32558139536,
         "Predicted": 248706.6516892264,
         "_deepnote_index_column": 6958
        },
        {
         "Actual": 410108.99529042386,
         "Predicted": 387422.0972869522,
         "_deepnote_index_column": 16475
        },
        {
         "Actual": 243856.3585951941,
         "Predicted": 273022.3791349238,
         "_deepnote_index_column": 565
        },
        {
         "Actual": 158567.14768883877,
         "Predicted": 156380.88795405242,
         "_deepnote_index_column": 10341
        },
        {
         "Actual": 280632.41106719367,
         "Predicted": 245057.09007741144,
         "_deepnote_index_column": 17700
        },
        {
         "Actual": 184222.22222222222,
         "Predicted": 189173.06787461822,
         "_deepnote_index_column": 4829
        },
        {
         "Actual": 171212.12121212122,
         "Predicted": 176568.53393664275,
         "_deepnote_index_column": 10148
        },
        {
         "Actual": 198817.20430107528,
         "Predicted": 177909.26522406825,
         "_deepnote_index_column": 6152
        },
        {
         "Actual": 250793.6507936508,
         "Predicted": 226656.17065557896,
         "_deepnote_index_column": 17430
        },
        {
         "Actual": 229166.66666666666,
         "Predicted": 217941.72674751916,
         "_deepnote_index_column": 10450
        },
        {
         "Actual": 152884.61538461538,
         "Predicted": 165471.38229602523,
         "_deepnote_index_column": 16063
        },
        {
         "Actual": 114800.00000000001,
         "Predicted": 104437.62231592016,
         "_deepnote_index_column": 6398
        },
        {
         "Actual": 425887.26513569936,
         "Predicted": 360265.75012115436,
         "_deepnote_index_column": 21233
        },
        {
         "Actual": 200000,
         "Predicted": 205180.2927395031,
         "_deepnote_index_column": 18903
        },
        {
         "Actual": 176500,
         "Predicted": 149457.29542610032,
         "_deepnote_index_column": 4172
        },
        {
         "Actual": 135000,
         "Predicted": 124829.82296546121,
         "_deepnote_index_column": 4281
        },
        {
         "Actual": 185185.1851851852,
         "Predicted": 189329.12070109154,
         "_deepnote_index_column": 7088
        },
        {
         "Actual": 135967.004482557,
         "Predicted": 134739.29414605282,
         "_deepnote_index_column": 8155
        },
        {
         "Actual": 386473.42995169084,
         "Predicted": 324915.5211243877,
         "_deepnote_index_column": 612
        },
        {
         "Actual": 375000,
         "Predicted": 326048.1291956894,
         "_deepnote_index_column": 15474
        },
        {
         "Actual": 234545.45454545456,
         "Predicted": 216984.4997596589,
         "_deepnote_index_column": 21975
        },
        {
         "Actual": 235772.71468144044,
         "Predicted": 257126.00823560133,
         "_deepnote_index_column": 20963
        },
        {
         "Actual": 542507.6452599388,
         "Predicted": 749287.5177302548,
         "_deepnote_index_column": 16639
        },
        {
         "Actual": 268235.29411764705,
         "Predicted": 301782.3297109071,
         "_deepnote_index_column": 1312
        },
        {
         "Actual": 90816.32653061225,
         "Predicted": 109709.76185641155,
         "_deepnote_index_column": 20279
        },
        {
         "Actual": 200000,
         "Predicted": 188303.33128529685,
         "_deepnote_index_column": 21904
        },
        {
         "Actual": 278232.40589198034,
         "Predicted": 254334.65064087673,
         "_deepnote_index_column": 14302
        },
        {
         "Actual": 174490.19607843139,
         "Predicted": 167019.2166689991,
         "_deepnote_index_column": 16198
        },
        {
         "Actual": 258964.14342629482,
         "Predicted": 268616.61838499195,
         "_deepnote_index_column": 16707
        },
        {
         "Actual": 196759.25925925924,
         "Predicted": 191998.4840508463,
         "_deepnote_index_column": 21533
        },
        {
         "Actual": 154411.76470588235,
         "Predicted": 148891.04923917854,
         "_deepnote_index_column": 11952
        },
        {
         "Actual": 180750,
         "Predicted": 327450.3702486224,
         "_deepnote_index_column": 18161
        },
        {
         "Actual": 169000,
         "Predicted": 183858.94199892765,
         "_deepnote_index_column": 10716
        },
        {
         "Actual": 222300.00000000003,
         "Predicted": 233918.52788990052,
         "_deepnote_index_column": 1883
        },
        {
         "Actual": 256529.9919623378,
         "Predicted": 277350.1821303023,
         "_deepnote_index_column": 10406
        },
        {
         "Actual": 241000,
         "Predicted": 241110.47848931758,
         "_deepnote_index_column": 12866
        },
        {
         "Actual": 388095.2380952381,
         "Predicted": 347174.21921056556,
         "_deepnote_index_column": 12082
        },
        {
         "Actual": 183769.99765972386,
         "Predicted": 198523.0043982123,
         "_deepnote_index_column": 5113
        },
        {
         "Actual": 180547.94520547945,
         "Predicted": 201037.57709238905,
         "_deepnote_index_column": 13144
        },
        {
         "Actual": 267108.16777041944,
         "Predicted": 277339.15874183935,
         "_deepnote_index_column": 11971
        },
        {
         "Actual": 184385.38205980064,
         "Predicted": 202895.5146553423,
         "_deepnote_index_column": 14115
        },
        {
         "Actual": 190000,
         "Predicted": 210864.34062858974,
         "_deepnote_index_column": 16700
        },
        {
         "Actual": 204300,
         "Predicted": 208791.67173175915,
         "_deepnote_index_column": 1841
        },
        {
         "Actual": 107812.5,
         "Predicted": 143750.33020529663,
         "_deepnote_index_column": 5322
        },
        {
         "Actual": 153225.8064516129,
         "Predicted": 156109.1456044581,
         "_deepnote_index_column": 1091
        },
        {
         "Actual": 242500,
         "Predicted": 252038.34379664954,
         "_deepnote_index_column": 5836
        },
        {
         "Actual": 302594.9942329873,
         "Predicted": 283315.2034944198,
         "_deepnote_index_column": 11728
        },
        {
         "Actual": 227388.37423312882,
         "Predicted": 229470.05108669846,
         "_deepnote_index_column": 19660
        },
        {
         "Actual": 508928.5714285714,
         "Predicted": 466763.7675645808,
         "_deepnote_index_column": 875
        },
        {
         "Actual": 334330,
         "Predicted": 292985.4775885517,
         "_deepnote_index_column": 16763
        },
        {
         "Actual": 283300.19880715705,
         "Predicted": 252323.96907769574,
         "_deepnote_index_column": 12877
        },
        {
         "Actual": 189155.1071878941,
         "Predicted": 228611.4337805043,
         "_deepnote_index_column": 20752
        },
        {
         "Actual": 248799.99999999997,
         "Predicted": 249030.40536372614,
         "_deepnote_index_column": 20010
        },
        {
         "Actual": 167992.0477137177,
         "Predicted": 169992.6232058983,
         "_deepnote_index_column": 14049
        },
        {
         "Actual": 188539.74121996303,
         "Predicted": 177768.20838032124,
         "_deepnote_index_column": 18245
        },
        {
         "Actual": 179028.1074168798,
         "Predicted": 197682.7257146324,
         "_deepnote_index_column": 13956
        },
        {
         "Actual": 133400,
         "Predicted": 132031.67462441028,
         "_deepnote_index_column": 13788
        },
        {
         "Actual": 180909.0909090909,
         "Predicted": 178666.30519623752,
         "_deepnote_index_column": 11504
        },
        {
         "Actual": 127041.74228675135,
         "Predicted": 130647.45360249694,
         "_deepnote_index_column": 21271
        },
        {
         "Actual": 149825.78397212544,
         "Predicted": 143668.1005539909,
         "_deepnote_index_column": 21872
        },
        {
         "Actual": 137681.14492753622,
         "Predicted": 157210.21617189172,
         "_deepnote_index_column": 20665
        },
        {
         "Actual": 433339.9,
         "Predicted": 589125.5715950457,
         "_deepnote_index_column": 13225
        },
        {
         "Actual": 267857.14285714284,
         "Predicted": 220678.3771829126,
         "_deepnote_index_column": 15409
        },
        {
         "Actual": 191116.7971530249,
         "Predicted": 200786.64818134293,
         "_deepnote_index_column": 10979
        },
        {
         "Actual": 315753.6650717703,
         "Predicted": 319352.7891225638,
         "_deepnote_index_column": 14541
        },
        {
         "Actual": 207956.60036166367,
         "Predicted": 218630.49810841313,
         "_deepnote_index_column": 11033
        },
        {
         "Actual": 120086.99690402478,
         "Predicted": 116740.4437021652,
         "_deepnote_index_column": 20926
        },
        {
         "Actual": 98663.3950351557,
         "Predicted": 108861.82166592925,
         "_deepnote_index_column": 18125
        },
        {
         "Actual": 178378.37837837837,
         "Predicted": 161412.61224856184,
         "_deepnote_index_column": 5306
        },
        {
         "Actual": 260000,
         "Predicted": 236497.3172034246,
         "_deepnote_index_column": 20310
        },
        {
         "Actual": 154200,
         "Predicted": 151956.40809647972,
         "_deepnote_index_column": 6098
        },
        {
         "Actual": 189473.68421052632,
         "Predicted": 205863.51942284324,
         "_deepnote_index_column": 9253
        },
        {
         "Actual": 95213.59440559441,
         "Predicted": 93616.22145354157,
         "_deepnote_index_column": 20218
        },
        {
         "Actual": 195000,
         "Predicted": 202866.74316775368,
         "_deepnote_index_column": 21448
        },
        {
         "Actual": 163793.10344827586,
         "Predicted": 159841.5649356612,
         "_deepnote_index_column": 11951
        },
        {
         "Actual": 164400,
         "Predicted": 178639.51724181557,
         "_deepnote_index_column": 7239
        },
        {
         "Actual": 136000,
         "Predicted": 157341.1844843438,
         "_deepnote_index_column": 16243
        },
        {
         "Actual": 202614.3790849673,
         "Predicted": 191201.19060412806,
         "_deepnote_index_column": 3670
        },
        {
         "Actual": 154672.13758079408,
         "Predicted": 182261.06864254017,
         "_deepnote_index_column": 19243
        },
        {
         "Actual": 193649.11304347825,
         "Predicted": 202143.64880202222,
         "_deepnote_index_column": 20638
        },
        {
         "Actual": 192105.26315789475,
         "Predicted": 191099.50419073965,
         "_deepnote_index_column": 21202
        },
        {
         "Actual": 913175.6607252613,
         "Predicted": 757211.4921054328,
         "_deepnote_index_column": 10277
        },
        {
         "Actual": 160795.45454545456,
         "Predicted": 145484.0819548282,
         "_deepnote_index_column": 10792
        },
        {
         "Actual": 274000,
         "Predicted": 286975.3978149091,
         "_deepnote_index_column": 9624
        },
        {
         "Actual": 183556.78221552374,
         "Predicted": 178527.59188671812,
         "_deepnote_index_column": 20312
        },
        {
         "Actual": 179987.5,
         "Predicted": 205177.10844539592,
         "_deepnote_index_column": 7420
        },
        {
         "Actual": 164444.44444444444,
         "Predicted": 167182.57358412756,
         "_deepnote_index_column": 9670
        },
        {
         "Actual": 525000,
         "Predicted": 574237.9763167414,
         "_deepnote_index_column": 22170
        },
        {
         "Actual": 199000,
         "Predicted": 207886.05309137853,
         "_deepnote_index_column": 20430
        }
       ],
       "rows_bottom": [
        {
         "Actual": 205000,
         "Predicted": 204919.10474905785,
         "_deepnote_index_column": 8395
        },
        {
         "Actual": 197916.66666666666,
         "Predicted": 184343.6355607677,
         "_deepnote_index_column": 15220
        },
        {
         "Actual": 193700,
         "Predicted": 207935.65490686503,
         "_deepnote_index_column": 7167
        },
        {
         "Actual": 255355,
         "Predicted": 243913.4590878542,
         "_deepnote_index_column": 16261
        },
        {
         "Actual": 176000,
         "Predicted": 200534.0898954115,
         "_deepnote_index_column": 10647
        },
        {
         "Actual": 211111.11111111112,
         "Predicted": 216965.17321720475,
         "_deepnote_index_column": 1092
        },
        {
         "Actual": 186834.73389355742,
         "Predicted": 185328.08519591967,
         "_deepnote_index_column": 4744
        },
        {
         "Actual": 142640.36418816386,
         "Predicted": 164335.27688239736,
         "_deepnote_index_column": 13082
        },
        {
         "Actual": 191000,
         "Predicted": 183285.88108520268,
         "_deepnote_index_column": 18684
        },
        {
         "Actual": 158823.5294117647,
         "Predicted": 173929.53217920515,
         "_deepnote_index_column": 10133
        },
        {
         "Actual": 94972.06703910616,
         "Predicted": 93101.6635718134,
         "_deepnote_index_column": 2238
        },
        {
         "Actual": 180000,
         "Predicted": 170999.0927480263,
         "_deepnote_index_column": 10428
        },
        {
         "Actual": 162900,
         "Predicted": 179280.00819238345,
         "_deepnote_index_column": 22805
        },
        {
         "Actual": 128400,
         "Predicted": 120155.91550597455,
         "_deepnote_index_column": 255
        },
        {
         "Actual": 167469.8795180723,
         "Predicted": 157153.04423662135,
         "_deepnote_index_column": 20104
        },
        {
         "Actual": 165400,
         "Predicted": 156382.78258215508,
         "_deepnote_index_column": 21656
        },
        {
         "Actual": 194103.19410319408,
         "Predicted": 239698.106587179,
         "_deepnote_index_column": 18912
        },
        {
         "Actual": 230600,
         "Predicted": 235725.3584685842,
         "_deepnote_index_column": 1831
        },
        {
         "Actual": 196500,
         "Predicted": 214834.85108456342,
         "_deepnote_index_column": 1358
        },
        {
         "Actual": 192105.82381729202,
         "Predicted": 192695.80040931172,
         "_deepnote_index_column": 6844
        },
        {
         "Actual": 288235.29411764705,
         "Predicted": 276349.6665361747,
         "_deepnote_index_column": 10430
        },
        {
         "Actual": 233333.33333333334,
         "Predicted": 308028.9058817894,
         "_deepnote_index_column": 10208
        },
        {
         "Actual": 214423.07692307694,
         "Predicted": 180574.03537942524,
         "_deepnote_index_column": 1320
        },
        {
         "Actual": 479678.6111111111,
         "Predicted": 559280.8495217322,
         "_deepnote_index_column": 16737
        },
        {
         "Actual": 325170.0680272109,
         "Predicted": 383279.413415894,
         "_deepnote_index_column": 4365
        },
        {
         "Actual": 217592.59259259258,
         "Predicted": 205916.67155571617,
         "_deepnote_index_column": 7668
        },
        {
         "Actual": 192307.6923076923,
         "Predicted": 183909.79475375955,
         "_deepnote_index_column": 4141
        },
        {
         "Actual": 271794.8717948718,
         "Predicted": 281901.2519015409,
         "_deepnote_index_column": 16325
        },
        {
         "Actual": 1238114,
         "Predicted": 859255.4692162864,
         "_deepnote_index_column": 3520
        },
        {
         "Actual": 198630.13698630137,
         "Predicted": 241090.15126482645,
         "_deepnote_index_column": 19052
        },
        {
         "Actual": 125683.43558282209,
         "Predicted": 126748.56778647653,
         "_deepnote_index_column": 17000
        },
        {
         "Actual": 154900,
         "Predicted": 148595.70690642332,
         "_deepnote_index_column": 21893
        },
        {
         "Actual": 1092438.9623529413,
         "Predicted": 1029970.308901316,
         "_deepnote_index_column": 7832
        },
        {
         "Actual": 259765.625,
         "Predicted": 242749.14288889887,
         "_deepnote_index_column": 22559
        },
        {
         "Actual": 375000,
         "Predicted": 342796.72662372666,
         "_deepnote_index_column": 8055
        },
        {
         "Actual": 250000,
         "Predicted": 237380.14750485594,
         "_deepnote_index_column": 21573
        },
        {
         "Actual": 200000,
         "Predicted": 161950.71917286707,
         "_deepnote_index_column": 11089
        },
        {
         "Actual": 103300.00000000001,
         "Predicted": 101496.06523817452,
         "_deepnote_index_column": 5773
        },
        {
         "Actual": 274362.0089104901,
         "Predicted": 311905.4858848598,
         "_deepnote_index_column": 867
        },
        {
         "Actual": 840000,
         "Predicted": 793976.8054082819,
         "_deepnote_index_column": 14696
        },
        {
         "Actual": 217391.30434782608,
         "Predicted": 217653.8354454754,
         "_deepnote_index_column": 4788
        },
        {
         "Actual": 293493.1506849315,
         "Predicted": 352674.49017996335,
         "_deepnote_index_column": 16818
        },
        {
         "Actual": 579804.5602605863,
         "Predicted": 554049.600883831,
         "_deepnote_index_column": 23035
        },
        {
         "Actual": 220930.23255813954,
         "Predicted": 215529.4983699685,
         "_deepnote_index_column": 16003
        },
        {
         "Actual": 118129.99474697952,
         "Predicted": 124307.78979778568,
         "_deepnote_index_column": 10815
        },
        {
         "Actual": 1238113.9964157706,
         "Predicted": 851623.9921515685,
         "_deepnote_index_column": 3517
        },
        {
         "Actual": 183023.8594164456,
         "Predicted": 196428.0102596289,
         "_deepnote_index_column": 15982
        },
        {
         "Actual": 205882.35294117648,
         "Predicted": 184558.74091272315,
         "_deepnote_index_column": 18512
        },
        {
         "Actual": 201724.1379310345,
         "Predicted": 219367.6787275064,
         "_deepnote_index_column": 22118
        },
        {
         "Actual": 133888.88888888888,
         "Predicted": 134127.5296755788,
         "_deepnote_index_column": 6247
        },
        {
         "Actual": 318446.9773880942,
         "Predicted": 313285.4558231719,
         "_deepnote_index_column": 22075
        },
        {
         "Actual": 87157.33015494636,
         "Predicted": 91010.49699265987,
         "_deepnote_index_column": 2219
        },
        {
         "Actual": 179411.76470588235,
         "Predicted": 155127.88486599206,
         "_deepnote_index_column": 16561
        },
        {
         "Actual": 223252.9903978052,
         "Predicted": 210744.3493868992,
         "_deepnote_index_column": 22455
        },
        {
         "Actual": 165000,
         "Predicted": 166260.1379149428,
         "_deepnote_index_column": 287
        },
        {
         "Actual": 151587.3015873016,
         "Predicted": 150345.64240333182,
         "_deepnote_index_column": 5978
        },
        {
         "Actual": 162893.01666666666,
         "Predicted": 159709.30641982672,
         "_deepnote_index_column": 10007
        },
        {
         "Actual": 250000,
         "Predicted": 212400.72862199318,
         "_deepnote_index_column": 22562
        },
        {
         "Actual": 199777.77777777778,
         "Predicted": 203544.97212843096,
         "_deepnote_index_column": 18568
        },
        {
         "Actual": 708454.8104956269,
         "Predicted": 789707.5791927775,
         "_deepnote_index_column": 10894
        },
        {
         "Actual": 201238.39009287927,
         "Predicted": 227083.5645918599,
         "_deepnote_index_column": 16709
        },
        {
         "Actual": 142857.14285714287,
         "Predicted": 196500.9010281401,
         "_deepnote_index_column": 16590
        },
        {
         "Actual": 434426.2295081967,
         "Predicted": 697138.6565841942,
         "_deepnote_index_column": 15859
        },
        {
         "Actual": 272000,
         "Predicted": 262610.8124537529,
         "_deepnote_index_column": 19696
        },
        {
         "Actual": 126232.99973663418,
         "Predicted": 135309.2984395679,
         "_deepnote_index_column": 22235
        },
        {
         "Actual": 146191.64619164617,
         "Predicted": 186718.68785514467,
         "_deepnote_index_column": 6238
        },
        {
         "Actual": 159436.00867678958,
         "Predicted": 219492.25928165737,
         "_deepnote_index_column": 11923
        },
        {
         "Actual": 159836.0655737705,
         "Predicted": 177400.96316083014,
         "_deepnote_index_column": 4527
        },
        {
         "Actual": 284090.9090909091,
         "Predicted": 405217.91794050473,
         "_deepnote_index_column": 17469
        },
        {
         "Actual": 99999.81530343008,
         "Predicted": 103676.33465111323,
         "_deepnote_index_column": 21824
        },
        {
         "Actual": 224000,
         "Predicted": 200706.36255099112,
         "_deepnote_index_column": 6620
        },
        {
         "Actual": 337837.8378378378,
         "Predicted": 463765.4355451,
         "_deepnote_index_column": 12579
        },
        {
         "Actual": 646153.8461538461,
         "Predicted": 552799.4090144826,
         "_deepnote_index_column": 17191
        },
        {
         "Actual": 195965.41786743514,
         "Predicted": 192084.00706649065,
         "_deepnote_index_column": 17910
        },
        {
         "Actual": 121999.99999999999,
         "Predicted": 116737.05830019218,
         "_deepnote_index_column": 12005
        },
        {
         "Actual": 240000,
         "Predicted": 211664.82478888216,
         "_deepnote_index_column": 19372
        },
        {
         "Actual": 159163.98713826365,
         "Predicted": 163233.21564872767,
         "_deepnote_index_column": 6005
        },
        {
         "Actual": 165338.6454183267,
         "Predicted": 163692.8511168457,
         "_deepnote_index_column": 4835
        },
        {
         "Actual": 157407.40740740742,
         "Predicted": 171208.52495265775,
         "_deepnote_index_column": 12719
        },
        {
         "Actual": 199900,
         "Predicted": 213229.91006842963,
         "_deepnote_index_column": 7218
        },
        {
         "Actual": 223529.41176470587,
         "Predicted": 214470.81373354793,
         "_deepnote_index_column": 1366
        },
        {
         "Actual": 228400,
         "Predicted": 222844.29187475203,
         "_deepnote_index_column": 14282
        },
        {
         "Actual": 300000,
         "Predicted": 323884.836538384,
         "_deepnote_index_column": 7122
        },
        {
         "Actual": 175230,
         "Predicted": 179141.54023088666,
         "_deepnote_index_column": 16917
        },
        {
         "Actual": 270000,
         "Predicted": 267608.8311375155,
         "_deepnote_index_column": 19738
        },
        {
         "Actual": 168000,
         "Predicted": 178912.72452366073,
         "_deepnote_index_column": 10595
        },
        {
         "Actual": 220064.72491909386,
         "Predicted": 193033.22284748429,
         "_deepnote_index_column": 11817
        },
        {
         "Actual": 100000,
         "Predicted": 135826.08321318286,
         "_deepnote_index_column": 22
        },
        {
         "Actual": 566326.5306122449,
         "Predicted": 483761.76930069714,
         "_deepnote_index_column": 2530
        },
        {
         "Actual": 216121.82654402105,
         "Predicted": 296447.2274059798,
         "_deepnote_index_column": 19694
        },
        {
         "Actual": 411764.70588235295,
         "Predicted": 374666.9698771847,
         "_deepnote_index_column": 18837
        },
        {
         "Actual": 433333.3333333333,
         "Predicted": 583383.9286254742,
         "_deepnote_index_column": 14676
        },
        {
         "Actual": 167286.24535315987,
         "Predicted": 164578.3240460973,
         "_deepnote_index_column": 9332
        },
        {
         "Actual": 134400,
         "Predicted": 135593.44121823012,
         "_deepnote_index_column": 18129
        },
        {
         "Actual": 280000,
         "Predicted": 271205.03984300286,
         "_deepnote_index_column": 6839
        },
        {
         "Actual": 391454.9653579677,
         "Predicted": 372390.9190833961,
         "_deepnote_index_column": 525
        },
        {
         "Actual": 697331.2380431811,
         "Predicted": 652017.9176043035,
         "_deepnote_index_column": 14643
        },
        {
         "Actual": 449610.13645224174,
         "Predicted": 447971.12229493354,
         "_deepnote_index_column": 22427
        },
        {
         "Actual": 979772.4399494312,
         "Predicted": 792729.7900007014,
         "_deepnote_index_column": 20520
        },
        {
         "Actual": 268172.3881706048,
         "Predicted": 265993.7761692939,
         "_deepnote_index_column": 771
        },
        {
         "Actual": 171606.864274571,
         "Predicted": 192663.51161002327,
         "_deepnote_index_column": 11092
        },
        {
         "Actual": 162544.88691281655,
         "Predicted": 158297.66673661483,
         "_deepnote_index_column": 11869
        },
        {
         "Actual": 227154.04699738906,
         "Predicted": 198698.70738063945,
         "_deepnote_index_column": 18268
        },
        {
         "Actual": 143300,
         "Predicted": 147449.46652403407,
         "_deepnote_index_column": 4403
        },
        {
         "Actual": 142400,
         "Predicted": 135323.20961048506,
         "_deepnote_index_column": 13152
        },
        {
         "Actual": 125000,
         "Predicted": 147154.94265926085,
         "_deepnote_index_column": 16362
        },
        {
         "Actual": 216981.1320754717,
         "Predicted": 203058.6481417511,
         "_deepnote_index_column": 5116
        },
        {
         "Actual": 853263.6,
         "Predicted": 747849.0355009431,
         "_deepnote_index_column": 15793
        },
        {
         "Actual": 154285.7142857143,
         "Predicted": 164543.60075588437,
         "_deepnote_index_column": 6043
        },
        {
         "Actual": 288000,
         "Predicted": 267617.59037785436,
         "_deepnote_index_column": 21376
        },
        {
         "Actual": 139639.63963963964,
         "Predicted": 121194.75749338916,
         "_deepnote_index_column": 18726
        },
        {
         "Actual": 211480.36253776433,
         "Predicted": 195884.60955236078,
         "_deepnote_index_column": 5459
        },
        {
         "Actual": 153900,
         "Predicted": 159956.47275393235,
         "_deepnote_index_column": 10932
        },
        {
         "Actual": 689989.7389123248,
         "Predicted": 693101.8325207089,
         "_deepnote_index_column": 3325
        },
        {
         "Actual": 222368.42105263157,
         "Predicted": 273876.33445340383,
         "_deepnote_index_column": 3102
        },
        {
         "Actual": 411764.70588235295,
         "Predicted": 560116.7877493311,
         "_deepnote_index_column": 2193
        },
        {
         "Actual": 267000,
         "Predicted": 257643.11904756067,
         "_deepnote_index_column": 13459
        },
        {
         "Actual": 735158.3952171176,
         "Predicted": 703103.1377610387,
         "_deepnote_index_column": 16634
        },
        {
         "Actual": 387931.0344827586,
         "Predicted": 473220.12708202936,
         "_deepnote_index_column": 12580
        },
        {
         "Actual": 162668.07870370368,
         "Predicted": 148915.36003923736,
         "_deepnote_index_column": 20120
        },
        {
         "Actual": 175275,
         "Predicted": 164446.4638688197,
         "_deepnote_index_column": 22372
        },
        {
         "Actual": 213200,
         "Predicted": 219632.282699833,
         "_deepnote_index_column": 9071
        },
        {
         "Actual": 186383.92857142858,
         "Predicted": 157265.98838865798,
         "_deepnote_index_column": 6353
        },
        {
         "Actual": 203697.47899159664,
         "Predicted": 175186.50673658156,
         "_deepnote_index_column": 5946
        },
        {
         "Actual": 165818.74788494076,
         "Predicted": 164574.4149880734,
         "_deepnote_index_column": 8767
        },
        {
         "Actual": 424390.243902439,
         "Predicted": 790394.1533952176,
         "_deepnote_index_column": 10292
        },
        {
         "Actual": 145161.29032258064,
         "Predicted": 144282.6946804468,
         "_deepnote_index_column": 4970
        },
        {
         "Actual": 128048.78048780488,
         "Predicted": 129792.39856503386,
         "_deepnote_index_column": 8786
        },
        {
         "Actual": 152006.39379347244,
         "Predicted": 152671.70617860358,
         "_deepnote_index_column": 15673
        },
        {
         "Actual": 317145.68880079285,
         "Predicted": 297442.6346583199,
         "_deepnote_index_column": 1150
        },
        {
         "Actual": 157894.7105263158,
         "Predicted": 171155.30974507635,
         "_deepnote_index_column": 3669
        },
        {
         "Actual": 162162.16216216216,
         "Predicted": 151664.1027621531,
         "_deepnote_index_column": 23128
        },
        {
         "Actual": 115628.22719449225,
         "Predicted": 116281.57550340905,
         "_deepnote_index_column": 22774
        },
        {
         "Actual": 150649.35064935064,
         "Predicted": 155806.8333515921,
         "_deepnote_index_column": 10155
        },
        {
         "Actual": 184259.74838245867,
         "Predicted": 196092.25374424076,
         "_deepnote_index_column": 15307
        },
        {
         "Actual": 185398.78787878787,
         "Predicted": 186150.57674321797,
         "_deepnote_index_column": 20587
        },
        {
         "Actual": 190807.79944289694,
         "Predicted": 192436.96573283005,
         "_deepnote_index_column": 651
        },
        {
         "Actual": 175504.32276657058,
         "Predicted": 165908.47995032032,
         "_deepnote_index_column": 19639
        },
        {
         "Actual": 438271.60493827163,
         "Predicted": 515287.73825929465,
         "_deepnote_index_column": 3208
        },
        {
         "Actual": 828579.9880167765,
         "Predicted": 640729.3292832193,
         "_deepnote_index_column": 3472
        },
        {
         "Actual": 445420,
         "Predicted": 333791.0200092569,
         "_deepnote_index_column": 11131
        },
        {
         "Actual": 276671.09340416116,
         "Predicted": 275895.11360238283,
         "_deepnote_index_column": 20743
        },
        {
         "Actual": 192913.38582677164,
         "Predicted": 201840.1035407661,
         "_deepnote_index_column": 5489
        },
        {
         "Actual": 139593.90862944163,
         "Predicted": 143216.7916747349,
         "_deepnote_index_column": 20878
        },
        {
         "Actual": 185230,
         "Predicted": 171895.53783561607,
         "_deepnote_index_column": 8414
        },
        {
         "Actual": 225333.33333333334,
         "Predicted": 208377.3187793754,
         "_deepnote_index_column": 7170
        },
        {
         "Actual": 196969.69696969696,
         "Predicted": 201560.92278109744,
         "_deepnote_index_column": 8598
        },
        {
         "Actual": 137500,
         "Predicted": 143573.92018347085,
         "_deepnote_index_column": 10929
        },
        {
         "Actual": 581560.2836879432,
         "Predicted": 490974.49002002383,
         "_deepnote_index_column": 21253
        },
        {
         "Actual": 178787.87878787878,
         "Predicted": 193541.59581414948,
         "_deepnote_index_column": 15257
        },
        {
         "Actual": 129458.38837516512,
         "Predicted": 142597.51349325362,
         "_deepnote_index_column": 12022
        },
        {
         "Actual": 196935.0368718916,
         "Predicted": 187308.99768038985,
         "_deepnote_index_column": 8419
        },
        {
         "Actual": 308151.0934393638,
         "Predicted": 244616.4159530223,
         "_deepnote_index_column": 22487
        },
        {
         "Actual": 95300.26109660575,
         "Predicted": 113492.52964805014,
         "_deepnote_index_column": 4253
        },
        {
         "Actual": 118593.75,
         "Predicted": 133123.30354799714,
         "_deepnote_index_column": 7537
        },
        {
         "Actual": 939759.0361445784,
         "Predicted": 662844.3943641213,
         "_deepnote_index_column": 20348
        },
        {
         "Actual": 268617.02127659577,
         "Predicted": 268280.0381430541,
         "_deepnote_index_column": 16356
        },
        {
         "Actual": 161016.94915254237,
         "Predicted": 179509.58335571078,
         "_deepnote_index_column": 5529
        },
        {
         "Actual": 204198.72204472843,
         "Predicted": 199680.97996294612,
         "_deepnote_index_column": 3625
        },
        {
         "Actual": 164000,
         "Predicted": 192454.92159469347,
         "_deepnote_index_column": 14109
        },
        {
         "Actual": 407843.137254902,
         "Predicted": 501555.1366426188,
         "_deepnote_index_column": 19017
        },
        {
         "Actual": 192187.5,
         "Predicted": 182287.7749337884,
         "_deepnote_index_column": 1728
        },
        {
         "Actual": 136912.75167785236,
         "Predicted": 150131.18971406855,
         "_deepnote_index_column": 4933
        },
        {
         "Actual": 82978.72340425532,
         "Predicted": 107686.58113905051,
         "_deepnote_index_column": 23164
        },
        {
         "Actual": 175700,
         "Predicted": 179846.2025191824,
         "_deepnote_index_column": 5181
        },
        {
         "Actual": 182608.69565217392,
         "Predicted": 160692.42326537648,
         "_deepnote_index_column": 9521
        },
        {
         "Actual": 287234.0425531915,
         "Predicted": 301981.59138090373,
         "_deepnote_index_column": 19165
        },
        {
         "Actual": 583657.5875486381,
         "Predicted": 597976.7647525958,
         "_deepnote_index_column": 1416
        },
        {
         "Actual": 176939.44206008583,
         "Predicted": 163598.9988803888,
         "_deepnote_index_column": 536
        },
        {
         "Actual": 272270.999581765,
         "Predicted": 264825.60181761876,
         "_deepnote_index_column": 2088
        },
        {
         "Actual": 513339.5099540582,
         "Predicted": 814999.4212203871,
         "_deepnote_index_column": 15804
        },
        {
         "Actual": 170930.23255813954,
         "Predicted": 190477.2002976384,
         "_deepnote_index_column": 19659
        },
        {
         "Actual": 181097.56097560975,
         "Predicted": 189100.78084217958,
         "_deepnote_index_column": 14325
        },
        {
         "Actual": 132100.39630118888,
         "Predicted": 153267.25205668248,
         "_deepnote_index_column": 5335
        },
        {
         "Actual": 219607.8431372549,
         "Predicted": 238043.30535606216,
         "_deepnote_index_column": 19154
        },
        {
         "Actual": 207673.07692307694,
         "Predicted": 254909.31775201904,
         "_deepnote_index_column": 15545
        },
        {
         "Actual": 265900,
         "Predicted": 261070.87470311308,
         "_deepnote_index_column": 2089
        },
        {
         "Actual": 153225.8064516129,
         "Predicted": 161334.4197252189,
         "_deepnote_index_column": 12155
        },
        {
         "Actual": 140892.601010101,
         "Predicted": 168234.58602407115,
         "_deepnote_index_column": 713
        },
        {
         "Actual": 473750,
         "Predicted": 634906.2772064115,
         "_deepnote_index_column": 3111
        },
        {
         "Actual": 308000,
         "Predicted": 326969.19152403885,
         "_deepnote_index_column": 793
        },
        {
         "Actual": 368000,
         "Predicted": 449482.12999034213,
         "_deepnote_index_column": 2985
        },
        {
         "Actual": 127986.3481228669,
         "Predicted": 142279.60726936377,
         "_deepnote_index_column": 15272
        },
        {
         "Actual": 189162.16216216216,
         "Predicted": 196656.5487605739,
         "_deepnote_index_column": 4499
        },
        {
         "Actual": 250000,
         "Predicted": 250187.76185548992,
         "_deepnote_index_column": 16264
        },
        {
         "Actual": 196016.7714884696,
         "Predicted": 192380.11787040462,
         "_deepnote_index_column": 17894
        },
        {
         "Actual": 163590.60402684563,
         "Predicted": 159994.66509524215,
         "_deepnote_index_column": 10213
        },
        {
         "Actual": 135281.38528138527,
         "Predicted": 149186.25701514736,
         "_deepnote_index_column": 22209
        },
        {
         "Actual": 376415.09433962265,
         "Predicted": 345266.55247384263,
         "_deepnote_index_column": 10747
        },
        {
         "Actual": 263245.0331125828,
         "Predicted": 297351.0371034412,
         "_deepnote_index_column": 12242
        },
        {
         "Actual": 124882.46896551724,
         "Predicted": 119099.77626775228,
         "_deepnote_index_column": 384
        },
        {
         "Actual": 177272.72727272726,
         "Predicted": 193020.85842184638,
         "_deepnote_index_column": 10159
        },
        {
         "Actual": 515000,
         "Predicted": 445079.4565605845,
         "_deepnote_index_column": 8221
        },
        {
         "Actual": 500000,
         "Predicted": 476168.4499939227,
         "_deepnote_index_column": 15825
        },
        {
         "Actual": 111289.0055467512,
         "Predicted": 100105.50674332201,
         "_deepnote_index_column": 14848
        },
        {
         "Actual": 199300,
         "Predicted": 189429.02156109782,
         "_deepnote_index_column": 1191
        },
        {
         "Actual": 161797.75280898876,
         "Predicted": 166841.38354397018,
         "_deepnote_index_column": 10325
        },
        {
         "Actual": 102739.72602739726,
         "Predicted": 126983.21593875781,
         "_deepnote_index_column": 23076
        },
        {
         "Actual": 180765.80587711488,
         "Predicted": 202784.71118552051,
         "_deepnote_index_column": 20486
        },
        {
         "Actual": 355714.28571428574,
         "Predicted": 473822.34625661524,
         "_deepnote_index_column": 8068
        },
        {
         "Actual": 217307.6923076923,
         "Predicted": 202058.65058232268,
         "_deepnote_index_column": 20808
        },
        {
         "Actual": 211853.1257344301,
         "Predicted": 208674.0614419637,
         "_deepnote_index_column": 5931
        },
        {
         "Actual": 113100,
         "Predicted": 105171.12384587587,
         "_deepnote_index_column": 6327
        },
        {
         "Actual": 151500,
         "Predicted": 171036.0946627367,
         "_deepnote_index_column": 11150
        },
        {
         "Actual": 221666.66666666666,
         "Predicted": 207973.18451106964,
         "_deepnote_index_column": 12135
        },
        {
         "Actual": 181333.33333333334,
         "Predicted": 173295.49169217626,
         "_deepnote_index_column": 2137
        },
        {
         "Actual": 175733.09832556968,
         "Predicted": 184445.92831419478,
         "_deepnote_index_column": 19379
        },
        {
         "Actual": 149855.90778097982,
         "Predicted": 156032.87483496574,
         "_deepnote_index_column": 19609
        },
        {
         "Actual": 173700,
         "Predicted": 163833.84416016145,
         "_deepnote_index_column": 14210
        },
        {
         "Actual": 203900,
         "Predicted": 197880.52870960883,
         "_deepnote_index_column": 15393
        },
        {
         "Actual": 90000,
         "Predicted": 91717.27003337516,
         "_deepnote_index_column": 2320
        },
        {
         "Actual": 173690,
         "Predicted": 156035.60594276903,
         "_deepnote_index_column": 20785
        },
        {
         "Actual": 312824.49701937404,
         "Predicted": 300301.66061458306,
         "_deepnote_index_column": 12234
        },
        {
         "Actual": 111700,
         "Predicted": 117902.83714471583,
         "_deepnote_index_column": 18145
        },
        {
         "Actual": 313700.38412291935,
         "Predicted": 318068.7176413796,
         "_deepnote_index_column": 7626
        },
        {
         "Actual": 112447.9926588667,
         "Predicted": 136811.51061373873,
         "_deepnote_index_column": 22281
        },
        {
         "Actual": 164102.5641025641,
         "Predicted": 166877.13787216306,
         "_deepnote_index_column": 17715
        },
        {
         "Actual": 147600,
         "Predicted": 135226.77236732,
         "_deepnote_index_column": 22335
        },
        {
         "Actual": 575000,
         "Predicted": 605635.4265433003,
         "_deepnote_index_column": 18281
        },
        {
         "Actual": 182339.4495412844,
         "Predicted": 173551.37025956062,
         "_deepnote_index_column": 15963
        },
        {
         "Actual": 208395.80209895052,
         "Predicted": 244232.4862494525,
         "_deepnote_index_column": 1506
        },
        {
         "Actual": 188573.2323232323,
         "Predicted": 201320.29090753366,
         "_deepnote_index_column": 5910
        },
        {
         "Actual": 182199.99999999997,
         "Predicted": 177764.2689484082,
         "_deepnote_index_column": 20674
        },
        {
         "Actual": 178300,
         "Predicted": 186112.8408057141,
         "_deepnote_index_column": 7324
        },
        {
         "Actual": 185185.18518518517,
         "Predicted": 176653.20181859337,
         "_deepnote_index_column": 20668
        },
        {
         "Actual": 190000,
         "Predicted": 190295.1607599638,
         "_deepnote_index_column": 17460
        },
        {
         "Actual": 221600,
         "Predicted": 219835.94865411342,
         "_deepnote_index_column": 21899
        },
        {
         "Actual": 427184.46601941745,
         "Predicted": 472676.48518314597,
         "_deepnote_index_column": 3272
        },
        {
         "Actual": 145000,
         "Predicted": 155620.7412741017,
         "_deepnote_index_column": 11833
        },
        {
         "Actual": 357000,
         "Predicted": 359052.0871430713,
         "_deepnote_index_column": 9445
        },
        {
         "Actual": 150000,
         "Predicted": 171161.50166569796,
         "_deepnote_index_column": 10329
        },
        {
         "Actual": 219230.76923076922,
         "Predicted": 218024.48084278495,
         "_deepnote_index_column": 6908
        },
        {
         "Actual": 240786.24078624079,
         "Predicted": 276932.2687291154,
         "_deepnote_index_column": 13438
        },
        {
         "Actual": 233459.67058823528,
         "Predicted": 209485.40639099025,
         "_deepnote_index_column": 6972
        },
        {
         "Actual": 123333.33333333333,
         "Predicted": 170484.09180344833,
         "_deepnote_index_column": 13176
        },
        {
         "Actual": 162820.5128205128,
         "Predicted": 202814.12330015848,
         "_deepnote_index_column": 16959
        },
        {
         "Actual": 238924.05063291139,
         "Predicted": 206269.62804889708,
         "_deepnote_index_column": 19254
        },
        {
         "Actual": 341463.4146341463,
         "Predicted": 382724.8423771673,
         "_deepnote_index_column": 19976
        },
        {
         "Actual": 206000,
         "Predicted": 209884.8368628311,
         "_deepnote_index_column": 13474
        },
        {
         "Actual": 228000,
         "Predicted": 254989.62671958108,
         "_deepnote_index_column": 8373
        },
        {
         "Actual": 220700,
         "Predicted": 219917.935203434,
         "_deepnote_index_column": 10005
        },
        {
         "Actual": 225714.2857142857,
         "Predicted": 206339.39418895886,
         "_deepnote_index_column": 16021
        },
        {
         "Actual": 404395.6043956044,
         "Predicted": 425821.0560535318,
         "_deepnote_index_column": 8577
        },
        {
         "Actual": 178571.42857142858,
         "Predicted": 195176.50889889713,
         "_deepnote_index_column": 11690
        },
        {
         "Actual": 263700,
         "Predicted": 292985.4774407333,
         "_deepnote_index_column": 9464
        },
        {
         "Actual": 181500,
         "Predicted": 172837.01033239617,
         "_deepnote_index_column": 5772
        },
        {
         "Actual": 323200,
         "Predicted": 297580.9431955845,
         "_deepnote_index_column": 10324
        },
        {
         "Actual": 173333.33333333334,
         "Predicted": 175463.32567123734,
         "_deepnote_index_column": 17535
        },
        {
         "Actual": 496470.6057441253,
         "Predicted": 364250.3180501737,
         "_deepnote_index_column": 10757
        },
        {
         "Actual": 223400,
         "Predicted": 222057.48335564457,
         "_deepnote_index_column": 20787
        }
       ]
      },
      "text/plain": "              Actual      Predicted\n17722  200000.000000  204027.269476\n10791  118300.000000  122338.452402\n13285  182400.000000  176115.259545\n14456  195876.288660  176551.530902\n2329    91836.734694  104845.298650\n...              ...            ...\n5772   181500.000000  172837.010332\n10324  323200.000000  297580.943196\n17535  173333.333333  175463.325671\n10757  496470.605744  364250.318050\n20787  223400.000000  222057.483356\n\n[4648 rows x 2 columns]",
      "text/html": "<div>\n<style scoped>\n    .dataframe tbody tr th:only-of-type {\n        vertical-align: middle;\n    }\n\n    .dataframe tbody tr th {\n        vertical-align: top;\n    }\n\n    .dataframe thead th {\n        text-align: right;\n    }\n</style>\n<table border=\"1\" class=\"dataframe\">\n  <thead>\n    <tr style=\"text-align: right;\">\n      <th></th>\n      <th>Actual</th>\n      <th>Predicted</th>\n    </tr>\n  </thead>\n  <tbody>\n    <tr>\n      <th>17722</th>\n      <td>200000.000000</td>\n      <td>204027.269476</td>\n    </tr>\n    <tr>\n      <th>10791</th>\n      <td>118300.000000</td>\n      <td>122338.452402</td>\n    </tr>\n    <tr>\n      <th>13285</th>\n      <td>182400.000000</td>\n      <td>176115.259545</td>\n    </tr>\n    <tr>\n      <th>14456</th>\n      <td>195876.288660</td>\n      <td>176551.530902</td>\n    </tr>\n    <tr>\n      <th>2329</th>\n      <td>91836.734694</td>\n      <td>104845.298650</td>\n    </tr>\n    <tr>\n      <th>...</th>\n      <td>...</td>\n      <td>...</td>\n    </tr>\n    <tr>\n      <th>5772</th>\n      <td>181500.000000</td>\n      <td>172837.010332</td>\n    </tr>\n    <tr>\n      <th>10324</th>\n      <td>323200.000000</td>\n      <td>297580.943196</td>\n    </tr>\n    <tr>\n      <th>17535</th>\n      <td>173333.333333</td>\n      <td>175463.325671</td>\n    </tr>\n    <tr>\n      <th>10757</th>\n      <td>496470.605744</td>\n      <td>364250.318050</td>\n    </tr>\n    <tr>\n      <th>20787</th>\n      <td>223400.000000</td>\n      <td>222057.483356</td>\n    </tr>\n  </tbody>\n</table>\n<p>4648 rows × 2 columns</p>\n</div>"
     },
     "metadata": {}
    }
   ],
   "execution_count": null
  },
  {
   "cell_type": "code",
   "metadata": {
    "tags": [],
    "deepnote_to_be_reexecuted": false,
    "source_hash": "ba868cf3",
    "execution_start": 1637351008774,
    "execution_millis": 634,
    "deepnote_output_heights": [
     40
    ],
    "cell_id": "00041-dbff591d-d7ea-4801-8781-18d658dd0d35",
    "deepnote_cell_type": "code"
   },
   "source": "final_labels = model.predict(X1_test.drop(['area_total'], axis=1))\nfinal_labels = final_labels.astype(float)\nfinal_labels",
   "outputs": [
    {
     "output_type": "execute_result",
     "execution_count": 55,
     "data": {
      "text/plain": "array([339873.2159254 , 196417.55119189, 159253.66558452, ...,\n       204424.58654717, 229127.39023595, 120500.71362481])"
     },
     "metadata": {}
    }
   ],
   "execution_count": null
  },
  {
   "cell_type": "code",
   "metadata": {
    "tags": [],
    "deepnote_to_be_reexecuted": false,
    "source_hash": "b9b6cf57",
    "execution_start": 1637351013833,
    "execution_millis": 17,
    "deepnote_output_heights": [
     21
    ],
    "cell_id": "00042-840a9eb9-bced-434f-80e2-782ca75d6b39",
    "deepnote_cell_type": "code"
   },
   "source": "final_labels = final_labels * df_test.area_total.values\nlen(final_labels)",
   "outputs": [
    {
     "output_type": "execute_result",
     "execution_count": 56,
     "data": {
      "text/plain": "9937"
     },
     "metadata": {}
    }
   ],
   "execution_count": null
  },
  {
   "cell_type": "code",
   "metadata": {
    "tags": [],
    "deepnote_to_be_reexecuted": false,
    "source_hash": "b3d836d9",
    "execution_start": 1637351019031,
    "execution_millis": 2,
    "deepnote_output_heights": [
     21
    ],
    "cell_id": "00043-03235fcc-7e1b-49b4-a55c-b4447947a6ca",
    "deepnote_cell_type": "code"
   },
   "source": "df_train.area_total.values",
   "outputs": [
    {
     "output_type": "execute_result",
     "execution_count": 57,
     "data": {
      "text/plain": "array([ 59.2,  88. ,  78.5, ...,  73.4, 100.8,  57.7])"
     },
     "metadata": {}
    }
   ],
   "execution_count": null
  },
  {
   "cell_type": "code",
   "metadata": {
    "tags": [],
    "deepnote_to_be_reexecuted": false,
    "source_hash": "841995ab",
    "execution_start": 1637351024929,
    "execution_millis": 1545,
    "cell_id": "00044-fad90e95-cc72-4bc4-8ac3-b4549942f304",
    "deepnote_cell_type": "code"
   },
   "source": "y_train_hat = model.predict(X_train) * area_total_train ## * edit\ny_valid_hat = model.predict(X_val) * area_total_val ## * edit\n\ny_train = y_train * area_total_train ## edit\ny_val = y_val * area_total_val ## edit\n\n#print(f'Train RMSLE: {root_mean_squared_log_error(y_true=y_train, y_pred=y_train_hat) :.4f}')\nprint(f'Valid RMSLE: {root_mean_squared_log_error(y_true=y_val, y_pred=y_valid_hat) :.4f}')\n\n#Train RMSLE: 0.1283\n#Valid RMSLE: 0.1761\n\n#Train RMSLE: 0.0489\n#Valid RMSLE: 0.1451\n\n#Train RMSLE: 0.0071\n#Valid RMSLE: 0.0187",
   "outputs": [
    {
     "name": "stdout",
     "text": "Valid RMSLE: 0.1406\n",
     "output_type": "stream"
    }
   ],
   "execution_count": null
  },
  {
   "cell_type": "code",
   "metadata": {
    "tags": [],
    "deepnote_to_be_reexecuted": false,
    "source_hash": "2939d586",
    "execution_start": 1637351038425,
    "execution_millis": 480,
    "cell_id": "00045-6427034a-0ff0-4e7d-8bb2-54a1515353ba",
    "deepnote_cell_type": "code"
   },
   "source": "submission = pd.DataFrame()\nsubmission['id'] = df_test.id\nsubmission['price_prediction'] = final_labels # Predict on non-nan entries\n # Fill missing entries with mean predictor\nprint(f'Generated {len(submission)} predictions')\n\n# Export submission to csv with headers\n#submission.to_csv('sample_submission.csv', index=False)\n\nsubmission.to_csv('sample_submission.csv', index=False)",
   "outputs": [
    {
     "name": "stdout",
     "text": "Generated 9937 predictions\n",
     "output_type": "stream"
    }
   ],
   "execution_count": null
  },
  {
   "cell_type": "markdown",
   "source": "<a style='text-decoration:none;line-height:16px;display:flex;color:#5B5B62;padding:10px;justify-content:end;' href='https://deepnote.com?utm_source=created-in-deepnote-cell&projectId=99c1e030-46bc-40fa-835c-0661eae0d488' target=\"_blank\">\n<img alt='Created in deepnote.com' style='display:inline;max-height:16px;margin:0px;margin-right:7.5px;' src='data:image/svg+xml;base64,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' > </img>\nCreated in <span style='font-weight:600;margin-left:4px;'>Deepnote</span></a>",
   "metadata": {
    "tags": [],
    "created_in_deepnote_cell": true,
    "deepnote_cell_type": "markdown"
   }
  }
 ],
 "nbformat": 4,
 "nbformat_minor": 2,
 "metadata": {
  "orig_nbformat": 2,
  "deepnote": {
   "is_reactive": false
  },
  "deepnote_notebook_id": "0d1d5941-c2f7-4ea2-aaf0-a45f8f5d16f2",
  "deepnote_execution_queue": []
 }
}