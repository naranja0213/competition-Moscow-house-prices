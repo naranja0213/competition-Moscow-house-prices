{
 "cells": [
  {
   "cell_type": "code",
   "metadata": {
    "tags": [],
    "deepnote_to_be_reexecuted": false,
    "source_hash": "275b9ea6",
    "execution_start": 1637359818609,
    "execution_millis": 41450,
    "cell_id": "00000-a2c76d93-4b29-44f1-aa8a-c785cc00f38a",
    "deepnote_cell_type": "code"
   },
   "source": "# !pip install -r requirements.txt\n\n!pip install xgboost\n!pip install catboost\n!pip install ipywidgets\n!pip install LightGBM",
   "outputs": [
    {
     "name": "stdout",
     "text": "Requirement already satisfied: xgboost in /root/venv/lib/python3.9/site-packages (1.5.0)\nRequirement already satisfied: scipy in /shared-libs/python3.9/py/lib/python3.9/site-packages (from xgboost) (1.7.2)\nRequirement already satisfied: numpy in /shared-libs/python3.9/py/lib/python3.9/site-packages (from xgboost) (1.21.4)\n\u001b[33mWARNING: You are using pip version 21.2.3; however, version 21.3.1 is available.\nYou should consider upgrading via the '/root/venv/bin/python -m pip install --upgrade pip' command.\u001b[0m\nRequirement already satisfied: catboost in /root/venv/lib/python3.9/site-packages (1.0.3)\nRequirement already satisfied: graphviz in /root/venv/lib/python3.9/site-packages (from catboost) (0.18.2)\nRequirement already satisfied: plotly in /shared-libs/python3.9/py/lib/python3.9/site-packages (from catboost) (5.3.1)\nRequirement already satisfied: matplotlib in /shared-libs/python3.9/py/lib/python3.9/site-packages (from catboost) (3.4.3)\nRequirement already satisfied: numpy>=1.16.0 in /shared-libs/python3.9/py/lib/python3.9/site-packages (from catboost) (1.21.4)\nRequirement already satisfied: scipy in /shared-libs/python3.9/py/lib/python3.9/site-packages (from catboost) (1.7.2)\nRequirement already satisfied: pandas>=0.24.0 in /shared-libs/python3.9/py/lib/python3.9/site-packages (from catboost) (1.2.5)\nRequirement already satisfied: six in /shared-libs/python3.9/py-core/lib/python3.9/site-packages (from catboost) (1.16.0)\nRequirement already satisfied: python-dateutil>=2.7.3 in /shared-libs/python3.9/py-core/lib/python3.9/site-packages (from pandas>=0.24.0->catboost) (2.8.2)\nRequirement already satisfied: pytz>=2017.3 in /shared-libs/python3.9/py/lib/python3.9/site-packages (from pandas>=0.24.0->catboost) (2021.3)\nRequirement already satisfied: pillow>=6.2.0 in /shared-libs/python3.9/py/lib/python3.9/site-packages (from matplotlib->catboost) (8.4.0)\nRequirement already satisfied: kiwisolver>=1.0.1 in /shared-libs/python3.9/py/lib/python3.9/site-packages (from matplotlib->catboost) (1.3.2)\nRequirement already satisfied: pyparsing>=2.2.1 in /shared-libs/python3.9/py-core/lib/python3.9/site-packages (from matplotlib->catboost) (2.4.7)\nRequirement already satisfied: cycler>=0.10 in /shared-libs/python3.9/py/lib/python3.9/site-packages (from matplotlib->catboost) (0.11.0)\nRequirement already satisfied: tenacity>=6.2.0 in /shared-libs/python3.9/py/lib/python3.9/site-packages (from plotly->catboost) (8.0.1)\n\u001b[33mWARNING: You are using pip version 21.2.3; however, version 21.3.1 is available.\nYou should consider upgrading via the '/root/venv/bin/python -m pip install --upgrade pip' command.\u001b[0m\nRequirement already satisfied: ipywidgets in /root/venv/lib/python3.9/site-packages (7.6.5)\nRequirement already satisfied: ipykernel>=4.5.1 in /shared-libs/python3.9/py-core/lib/python3.9/site-packages (from ipywidgets) (5.5.5)\nRequirement already satisfied: jupyterlab-widgets>=1.0.0 in /root/venv/lib/python3.9/site-packages (from ipywidgets) (1.0.2)\nRequirement already satisfied: ipython-genutils~=0.2.0 in /shared-libs/python3.9/py-core/lib/python3.9/site-packages (from ipywidgets) (0.2.0)\nRequirement already satisfied: traitlets>=4.3.1 in /shared-libs/python3.9/py-core/lib/python3.9/site-packages (from ipywidgets) (4.3.3)\nRequirement already satisfied: widgetsnbextension~=3.5.0 in /root/venv/lib/python3.9/site-packages (from ipywidgets) (3.5.2)\nRequirement already satisfied: nbformat>=4.2.0 in /shared-libs/python3.9/py-core/lib/python3.9/site-packages (from ipywidgets) (5.1.3)\nRequirement already satisfied: ipython>=4.0.0 in /shared-libs/python3.9/py-core/lib/python3.9/site-packages (from ipywidgets) (7.29.0)\nRequirement already satisfied: jupyter-client in /shared-libs/python3.9/py-core/lib/python3.9/site-packages (from ipykernel>=4.5.1->ipywidgets) (6.1.12)\nRequirement already satisfied: tornado>=4.2 in /shared-libs/python3.9/py-core/lib/python3.9/site-packages (from ipykernel>=4.5.1->ipywidgets) (6.1)\nRequirement already satisfied: backcall in /shared-libs/python3.9/py-core/lib/python3.9/site-packages (from ipython>=4.0.0->ipywidgets) (0.2.0)\nRequirement already satisfied: decorator in /shared-libs/python3.9/py-core/lib/python3.9/site-packages (from ipython>=4.0.0->ipywidgets) (5.1.0)\nRequirement already satisfied: prompt-toolkit!=3.0.0,!=3.0.1,<3.1.0,>=2.0.0 in /shared-libs/python3.9/py-core/lib/python3.9/site-packages (from ipython>=4.0.0->ipywidgets) (3.0.22)\nRequirement already satisfied: matplotlib-inline in /shared-libs/python3.9/py-core/lib/python3.9/site-packages (from ipython>=4.0.0->ipywidgets) (0.1.3)\nRequirement already satisfied: setuptools>=18.5 in /root/venv/lib/python3.9/site-packages (from ipython>=4.0.0->ipywidgets) (57.4.0)\nRequirement already satisfied: pickleshare in /shared-libs/python3.9/py-core/lib/python3.9/site-packages (from ipython>=4.0.0->ipywidgets) (0.7.5)\nRequirement already satisfied: pexpect>4.3 in /shared-libs/python3.9/py-core/lib/python3.9/site-packages (from ipython>=4.0.0->ipywidgets) (4.8.0)\nRequirement already satisfied: pygments in /shared-libs/python3.9/py-core/lib/python3.9/site-packages (from ipython>=4.0.0->ipywidgets) (2.10.0)\nRequirement already satisfied: jedi>=0.16 in /shared-libs/python3.9/py-core/lib/python3.9/site-packages (from ipython>=4.0.0->ipywidgets) (0.17.2)\nRequirement already satisfied: parso<0.8.0,>=0.7.0 in /shared-libs/python3.9/py-core/lib/python3.9/site-packages (from jedi>=0.16->ipython>=4.0.0->ipywidgets) (0.7.1)\nRequirement already satisfied: jsonschema!=2.5.0,>=2.4 in /shared-libs/python3.9/py-core/lib/python3.9/site-packages (from nbformat>=4.2.0->ipywidgets) (3.2.0)\nRequirement already satisfied: jupyter-core in /shared-libs/python3.9/py-core/lib/python3.9/site-packages (from nbformat>=4.2.0->ipywidgets) (4.7.1)\nRequirement already satisfied: six>=1.11.0 in /shared-libs/python3.9/py-core/lib/python3.9/site-packages (from jsonschema!=2.5.0,>=2.4->nbformat>=4.2.0->ipywidgets) (1.16.0)\nRequirement already satisfied: attrs>=17.4.0 in /shared-libs/python3.9/py-core/lib/python3.9/site-packages (from jsonschema!=2.5.0,>=2.4->nbformat>=4.2.0->ipywidgets) (21.2.0)\nRequirement already satisfied: pyrsistent>=0.14.0 in /shared-libs/python3.9/py-core/lib/python3.9/site-packages (from jsonschema!=2.5.0,>=2.4->nbformat>=4.2.0->ipywidgets) (0.18.0)\nRequirement already satisfied: ptyprocess>=0.5 in /shared-libs/python3.9/py-core/lib/python3.9/site-packages (from pexpect>4.3->ipython>=4.0.0->ipywidgets) (0.7.0)\nRequirement already satisfied: wcwidth in /shared-libs/python3.9/py-core/lib/python3.9/site-packages (from prompt-toolkit!=3.0.0,!=3.0.1,<3.1.0,>=2.0.0->ipython>=4.0.0->ipywidgets) (0.2.5)\nRequirement already satisfied: notebook>=4.4.1 in /shared-libs/python3.9/py-core/lib/python3.9/site-packages (from widgetsnbextension~=3.5.0->ipywidgets) (6.3.0)\nRequirement already satisfied: Send2Trash>=1.5.0 in /shared-libs/python3.9/py-core/lib/python3.9/site-packages (from notebook>=4.4.1->widgetsnbextension~=3.5.0->ipywidgets) (1.8.0)\nRequirement already satisfied: pyzmq>=17 in /shared-libs/python3.9/py-core/lib/python3.9/site-packages (from notebook>=4.4.1->widgetsnbextension~=3.5.0->ipywidgets) (22.3.0)\nRequirement already satisfied: jinja2 in /shared-libs/python3.9/py-core/lib/python3.9/site-packages (from notebook>=4.4.1->widgetsnbextension~=3.5.0->ipywidgets) (3.0.3)\nRequirement already satisfied: nbconvert==6.0.7 in /shared-libs/python3.9/py-core/lib/python3.9/site-packages (from notebook>=4.4.1->widgetsnbextension~=3.5.0->ipywidgets) (6.0.7)\nRequirement already satisfied: argon2-cffi in /shared-libs/python3.9/py-core/lib/python3.9/site-packages (from notebook>=4.4.1->widgetsnbextension~=3.5.0->ipywidgets) (21.1.0)\nRequirement already satisfied: terminado>=0.8.3 in /shared-libs/python3.9/py-core/lib/python3.9/site-packages (from notebook>=4.4.1->widgetsnbextension~=3.5.0->ipywidgets) (0.12.1)\nRequirement already satisfied: prometheus-client in /shared-libs/python3.9/py-core/lib/python3.9/site-packages (from notebook>=4.4.1->widgetsnbextension~=3.5.0->ipywidgets) (0.12.0)\nRequirement already satisfied: python-dateutil>=2.1 in /shared-libs/python3.9/py-core/lib/python3.9/site-packages (from jupyter-client->ipykernel>=4.5.1->ipywidgets) (2.8.2)\nRequirement already satisfied: testpath in /shared-libs/python3.9/py-core/lib/python3.9/site-packages (from nbconvert==6.0.7->notebook>=4.4.1->widgetsnbextension~=3.5.0->ipywidgets) (0.5.0)\nRequirement already satisfied: nbclient<0.6.0,>=0.5.0 in /shared-libs/python3.9/py-core/lib/python3.9/site-packages (from nbconvert==6.0.7->notebook>=4.4.1->widgetsnbextension~=3.5.0->ipywidgets) (0.5.8)\nRequirement already satisfied: entrypoints>=0.2.2 in /shared-libs/python3.9/py-core/lib/python3.9/site-packages (from nbconvert==6.0.7->notebook>=4.4.1->widgetsnbextension~=3.5.0->ipywidgets) (0.3)\nRequirement already satisfied: mistune<2,>=0.8.1 in /shared-libs/python3.9/py-core/lib/python3.9/site-packages (from nbconvert==6.0.7->notebook>=4.4.1->widgetsnbextension~=3.5.0->ipywidgets) (0.8.4)\nRequirement already satisfied: defusedxml in /shared-libs/python3.9/py-core/lib/python3.9/site-packages (from nbconvert==6.0.7->notebook>=4.4.1->widgetsnbextension~=3.5.0->ipywidgets) (0.7.1)\nRequirement already satisfied: bleach in /shared-libs/python3.9/py-core/lib/python3.9/site-packages (from nbconvert==6.0.7->notebook>=4.4.1->widgetsnbextension~=3.5.0->ipywidgets) (4.1.0)\nRequirement already satisfied: jupyterlab-pygments in /shared-libs/python3.9/py-core/lib/python3.9/site-packages (from nbconvert==6.0.7->notebook>=4.4.1->widgetsnbextension~=3.5.0->ipywidgets) (0.1.2)\nRequirement already satisfied: pandocfilters>=1.4.1 in /shared-libs/python3.9/py-core/lib/python3.9/site-packages (from nbconvert==6.0.7->notebook>=4.4.1->widgetsnbextension~=3.5.0->ipywidgets) (1.5.0)\nRequirement already satisfied: MarkupSafe>=2.0 in /shared-libs/python3.9/py-core/lib/python3.9/site-packages (from jinja2->notebook>=4.4.1->widgetsnbextension~=3.5.0->ipywidgets) (2.0.1)\nRequirement already satisfied: nest-asyncio in /shared-libs/python3.9/py-core/lib/python3.9/site-packages (from nbclient<0.6.0,>=0.5.0->nbconvert==6.0.7->notebook>=4.4.1->widgetsnbextension~=3.5.0->ipywidgets) (1.5.1)\nRequirement already satisfied: cffi>=1.0.0 in /shared-libs/python3.9/py-core/lib/python3.9/site-packages (from argon2-cffi->notebook>=4.4.1->widgetsnbextension~=3.5.0->ipywidgets) (1.15.0)\nRequirement already satisfied: pycparser in /shared-libs/python3.9/py-core/lib/python3.9/site-packages (from cffi>=1.0.0->argon2-cffi->notebook>=4.4.1->widgetsnbextension~=3.5.0->ipywidgets) (2.21)\nRequirement already satisfied: packaging in /shared-libs/python3.9/py-core/lib/python3.9/site-packages (from bleach->nbconvert==6.0.7->notebook>=4.4.1->widgetsnbextension~=3.5.0->ipywidgets) (21.2)\nRequirement already satisfied: webencodings in /shared-libs/python3.9/py-core/lib/python3.9/site-packages (from bleach->nbconvert==6.0.7->notebook>=4.4.1->widgetsnbextension~=3.5.0->ipywidgets) (0.5.1)\nRequirement already satisfied: pyparsing<3,>=2.0.2 in /shared-libs/python3.9/py-core/lib/python3.9/site-packages (from packaging->bleach->nbconvert==6.0.7->notebook>=4.4.1->widgetsnbextension~=3.5.0->ipywidgets) (2.4.7)\n\u001b[33mWARNING: You are using pip version 21.2.3; however, version 21.3.1 is available.\nYou should consider upgrading via the '/root/venv/bin/python -m pip install --upgrade pip' command.\u001b[0m\nRequirement already satisfied: LightGBM in /root/venv/lib/python3.9/site-packages (3.3.1)\nRequirement already satisfied: numpy in /shared-libs/python3.9/py/lib/python3.9/site-packages (from LightGBM) (1.21.4)\nRequirement already satisfied: scipy in /shared-libs/python3.9/py/lib/python3.9/site-packages (from LightGBM) (1.7.2)\nRequirement already satisfied: scikit-learn!=0.22.0 in /shared-libs/python3.9/py/lib/python3.9/site-packages (from LightGBM) (1.0.1)\nRequirement already satisfied: wheel in /usr/local/lib/python3.9/site-packages (from LightGBM) (0.37.0)\nRequirement already satisfied: joblib>=0.11 in /shared-libs/python3.9/py/lib/python3.9/site-packages (from scikit-learn!=0.22.0->LightGBM) (1.1.0)\nRequirement already satisfied: threadpoolctl>=2.0.0 in /shared-libs/python3.9/py/lib/python3.9/site-packages (from scikit-learn!=0.22.0->LightGBM) (3.0.0)\n\u001b[33mWARNING: You are using pip version 21.2.3; however, version 21.3.1 is available.\nYou should consider upgrading via the '/root/venv/bin/python -m pip install --upgrade pip' command.\u001b[0m\n",
     "output_type": "stream"
    }
   ],
   "execution_count": null
  },
  {
   "cell_type": "code",
   "metadata": {
    "tags": [],
    "deepnote_to_be_reexecuted": false,
    "source_hash": "41fe310",
    "execution_start": 1637359868993,
    "execution_millis": 3506,
    "cell_id": "00001-f9c83c0b-63c3-4666-9569-735cc78fc66e",
    "deepnote_cell_type": "code"
   },
   "source": "import json\nimport pandas as pd\nimport numpy as np\nimport math as math\nimport matplotlib.pyplot as plt\nimport seaborn as sns\nimport sklearn.model_selection as model_selection\nimport sklearn.tree as tree\nfrom sklearn.linear_model import LogisticRegression\nfrom sklearn.linear_model import LinearRegression\nimport time\nfrom sklearn.model_selection import GridSearchCV\nfrom sklearn.tree import DecisionTreeRegressor\nfrom sklearn.model_selection import train_test_split\nimport catboost\nfrom catboost import CatBoostRegressor\nfrom sklearn.impute import KNNImputer\n\n\n",
   "outputs": [],
   "execution_count": null
  },
  {
   "cell_type": "code",
   "metadata": {
    "tags": [],
    "deepnote_to_be_reexecuted": false,
    "source_hash": "81a86064",
    "execution_start": 1637359874960,
    "execution_millis": 435,
    "deepnote_output_heights": [
     21.1875
    ],
    "cell_id": "00002-c80c5ad2-f045-4b16-8ad8-3f8cae164612",
    "deepnote_cell_type": "code"
   },
   "source": "apartments_train = pd.read_csv('apartments_train.csv')\napartments_test = pd.read_csv('apartments_test.csv')\nwith open('apartments_meta.json') as f: \n    apartments_meta = json.load(f)\n\nbuildings_train = pd.read_csv('buildings_train.csv')\nbuildings_test = pd.read_csv('buildings_test.csv')\nwith open('buildings_meta.json') as f: \n    buildings_meta = json.load(f)\n#print(f'All apartments have an associated building: {apartments.building_id.isin(buildings.id).all()}')\ndf = pd.merge(apartments_train, buildings_train.set_index('id'), how='left', left_on='building_id', right_index=True)\ndf_test = pd.merge(apartments_test, buildings_test.set_index('id'), how='left', left_on='building_id', right_index=True)\ndf.head()\ndf['street'].isnull().sum()",
   "outputs": [
    {
     "output_type": "execute_result",
     "execution_count": 3,
     "data": {
      "text/plain": "0"
     },
     "metadata": {}
    }
   ],
   "execution_count": null
  },
  {
   "cell_type": "code",
   "metadata": {
    "tags": [],
    "deepnote_to_be_reexecuted": false,
    "source_hash": "f3dd26da",
    "execution_start": 1637359879334,
    "execution_millis": 60,
    "deepnote_output_heights": [
     611
    ],
    "cell_id": "00003-d8cbe3a3-c729-417a-8d3f-6bafa74a5dce",
    "deepnote_cell_type": "code"
   },
   "source": "df.isnull().sum()",
   "outputs": [
    {
     "output_type": "execute_result",
     "execution_count": 4,
     "data": {
      "text/plain": "id                        0\nseller                 8830\nprice                     0\narea_total                0\narea_kitchen           4721\narea_living            3882\nfloor                     0\nrooms                     0\nlayout                17642\nceiling               11093\nbathrooms_shared       3872\nbathrooms_private      3872\nwindows_court          8072\nwindows_street         8072\nbalconies             10520\nloggias               10520\ncondition              9810\nphones                   80\nbuilding_id               0\nnew                     264\nlatitude                  0\nlongitude                 0\ndistrict                130\nstreet                    0\naddress                   0\nconstructed             794\nmaterial               3972\nstories                   0\nelevator_without        357\nelevator_passenger      357\nelevator_service        357\nparking                6788\ngarbage_chute          8811\nheating                8161\ndtype: int64"
     },
     "metadata": {}
    }
   ],
   "execution_count": null
  },
  {
   "cell_type": "code",
   "metadata": {
    "tags": [],
    "deepnote_to_be_reexecuted": false,
    "source_hash": "7039e6d3",
    "execution_start": 1637359884999,
    "execution_millis": 4693,
    "deepnote_output_heights": [
     21.1875,
     333
    ],
    "cell_id": "00004-006089ae-f8e9-4418-99a5-11f2748715c2",
    "deepnote_cell_type": "code"
   },
   "source": "sns.heatmap(df.isnull(), yticklabels=False, cbar=False, cmap='viridis')",
   "outputs": [
    {
     "output_type": "execute_result",
     "execution_count": 5,
     "data": {
      "text/plain": "<AxesSubplot:>"
     },
     "metadata": {}
    },
    {
     "data": {
      "text/plain": "<Figure size 432x288 with 1 Axes>",
      "image/png": "[encoded data removed]"
     },
     "metadata": {
      "needs_background": "light",
      "image/png": {
       "width": 349,
       "height": 331
      }
     },
     "output_type": "display_data"
    }
   ],
   "execution_count": null
  },
  {
   "cell_type": "code",
   "metadata": {
    "tags": [],
    "deepnote_to_be_reexecuted": false,
    "source_hash": "b6ebc297",
    "execution_start": 1637357940752,
    "execution_millis": 108,
    "deepnote_output_heights": [
     21.1875
    ],
    "cell_id": "00005-81732023-0dc5-4ca2-8055-f9dadb2c3d58",
    "deepnote_cell_type": "code"
   },
   "source": "df.shape\n",
   "outputs": [
    {
     "output_type": "execute_result",
     "execution_count": 6,
     "data": {
      "text/plain": "(23285, 34)"
     },
     "metadata": {}
    }
   ],
   "execution_count": null
  },
  {
   "cell_type": "code",
   "metadata": {
    "tags": [],
    "deepnote_to_be_reexecuted": false,
    "source_hash": "de1e323c",
    "execution_start": 1637357940848,
    "execution_millis": 161,
    "cell_id": "00006-1a34d602-57af-4a83-b82f-c5dbf4bb1ef9",
    "deepnote_cell_type": "code"
   },
   "source": "df.info()",
   "outputs": [
    {
     "name": "stdout",
     "text": "<class 'pandas.core.frame.DataFrame'>\nRangeIndex: 23285 entries, 0 to 23284\nData columns (total 34 columns):\n #   Column              Non-Null Count  Dtype  \n---  ------              --------------  -----  \n 0   id                  23285 non-null  int64  \n 1   seller              14455 non-null  float64\n 2   price               23285 non-null  float64\n 3   area_total          23285 non-null  float64\n 4   area_kitchen        18564 non-null  float64\n 5   area_living         19403 non-null  float64\n 6   floor               23285 non-null  float64\n 7   rooms               23285 non-null  float64\n 8   layout              5643 non-null   float64\n 9   ceiling             12192 non-null  float64\n 10  bathrooms_shared    19413 non-null  float64\n 11  bathrooms_private   19413 non-null  float64\n 12  windows_court       15213 non-null  float64\n 13  windows_street      15213 non-null  float64\n 14  balconies           12765 non-null  float64\n 15  loggias             12765 non-null  float64\n 16  condition           13475 non-null  float64\n 17  phones              23205 non-null  float64\n 18  building_id         23285 non-null  int64  \n 19  new                 23021 non-null  float64\n 20  latitude            23285 non-null  float64\n 21  longitude           23285 non-null  float64\n 22  district            23155 non-null  float64\n 23  street              23285 non-null  object \n 24  address             23285 non-null  object \n 25  constructed         22491 non-null  float64\n 26  material            19313 non-null  float64\n 27  stories             23285 non-null  float64\n 28  elevator_without    22928 non-null  float64\n 29  elevator_passenger  22928 non-null  float64\n 30  elevator_service    22928 non-null  float64\n 31  parking             16497 non-null  float64\n 32  garbage_chute       14474 non-null  float64\n 33  heating             15124 non-null  float64\ndtypes: float64(30), int64(2), object(2)\nmemory usage: 6.0+ MB\n",
     "output_type": "stream"
    }
   ],
   "execution_count": null
  },
  {
   "cell_type": "code",
   "metadata": {
    "tags": [],
    "deepnote_to_be_reexecuted": false,
    "source_hash": "8762bfe5",
    "execution_start": 1637359905814,
    "execution_millis": 457,
    "cell_id": "00007-2687a818-f6f6-44ca-8a73-8d80cc9d43ba",
    "deepnote_cell_type": "code"
   },
   "source": "df['price/area'] = df['price']/df['area_total']\n\n# The center of Moscow is at longitude: 37.6 and latitude: 55.75\ndf['distance'] = np.sqrt((37.6 - df['longitude'])**2 + (55.75 - df['latitude'])**2)\ndf_test['distance'] = np.sqrt((37.6 - df_test['longitude'])**2 + (55.75 - df_test['latitude'])**2)\n\ndf.drop(['longitude', 'latitude'], axis=1, inplace=True)\ndf_test.drop(['longitude', 'latitude'], axis=1, inplace=True)",
   "outputs": [],
   "execution_count": null
  },
  {
   "cell_type": "code",
   "metadata": {
    "tags": [],
    "deepnote_to_be_reexecuted": false,
    "source_hash": "7bcf20e9",
    "execution_start": 1637359910675,
    "execution_millis": 354,
    "deepnote_output_heights": [
     611
    ],
    "cell_id": "00008-63b4db28-349c-4df9-a79d-e38904782b9b",
    "deepnote_cell_type": "code"
   },
   "source": "df2 = df[['id', 'price/area', 'distance']]\nmintreshold, maxtreshold = df2['price/area'].quantile([0.001, 0.999])\ndf[df2['price/area'] < mintreshold]",
   "outputs": [
    {
     "output_type": "execute_result",
     "execution_count": 7,
     "data": {
      "application/vnd.deepnote.dataframe.v2+json": {
       "row_count": 24,
       "column_count": 34,
       "columns": [
        {
         "name": "id",
         "dtype": "int64",
         "stats": {
          "unique_count": 24,
          "nan_count": 0,
          "min": "2215",
          "max": "23222",
          "histogram": [
           {
            "bin_start": 2215,
            "bin_end": 4315.7,
            "count": 4
           },
           {
            "bin_start": 4315.7,
            "bin_end": 6416.4,
            "count": 0
           },
           {
            "bin_start": 6416.4,
            "bin_end": 8517.099999999999,
            "count": 4
           },
           {
            "bin_start": 8517.099999999999,
            "bin_end": 10617.8,
            "count": 0
           },
           {
            "bin_start": 10617.8,
            "bin_end": 12718.5,
            "count": 1
           },
           {
            "bin_start": 12718.5,
            "bin_end": 14819.199999999999,
            "count": 6
           },
           {
            "bin_start": 14819.199999999999,
            "bin_end": 16919.899999999998,
            "count": 1
           },
           {
            "bin_start": 16919.899999999998,
            "bin_end": 19020.6,
            "count": 0
           },
           {
            "bin_start": 19020.6,
            "bin_end": 21121.3,
            "count": 4
           },
           {
            "bin_start": 21121.3,
            "bin_end": 23222,
            "count": 4
           }
          ]
         }
        },
        {
         "name": "seller",
         "dtype": "float64",
         "stats": {
          "unique_count": 3,
          "nan_count": 6,
          "min": "0.0",
          "max": "2.0",
          "histogram": [
           {
            "bin_start": 0,
            "bin_end": 0.2,
            "count": 4
           },
           {
            "bin_start": 0.2,
            "bin_end": 0.4,
            "count": 0
           },
           {
            "bin_start": 0.4,
            "bin_end": 0.6000000000000001,
            "count": 0
           },
           {
            "bin_start": 0.6000000000000001,
            "bin_end": 0.8,
            "count": 0
           },
           {
            "bin_start": 0.8,
            "bin_end": 1,
            "count": 0
           },
           {
            "bin_start": 1,
            "bin_end": 1.2000000000000002,
            "count": 11
           },
           {
            "bin_start": 1.2000000000000002,
            "bin_end": 1.4000000000000001,
            "count": 0
           },
           {
            "bin_start": 1.4000000000000001,
            "bin_end": 1.6,
            "count": 0
           },
           {
            "bin_start": 1.6,
            "bin_end": 1.8,
            "count": 0
           },
           {
            "bin_start": 1.8,
            "bin_end": 2,
            "count": 3
           }
          ]
         }
        },
        {
         "name": "price",
         "dtype": "float64",
         "stats": {
          "unique_count": 19,
          "nan_count": 0,
          "min": "1000000.0",
          "max": "13750000.0",
          "histogram": [
           {
            "bin_start": 1000000,
            "bin_end": 2275000,
            "count": 5
           },
           {
            "bin_start": 2275000,
            "bin_end": 3550000,
            "count": 12
           },
           {
            "bin_start": 3550000,
            "bin_end": 4825000,
            "count": 2
           },
           {
            "bin_start": 4825000,
            "bin_end": 6100000,
            "count": 2
           },
           {
            "bin_start": 6100000,
            "bin_end": 7375000,
            "count": 0
           },
           {
            "bin_start": 7375000,
            "bin_end": 8650000,
            "count": 2
           },
           {
            "bin_start": 8650000,
            "bin_end": 9925000,
            "count": 0
           },
           {
            "bin_start": 9925000,
            "bin_end": 11200000,
            "count": 0
           },
           {
            "bin_start": 11200000,
            "bin_end": 12475000,
            "count": 0
           },
           {
            "bin_start": 12475000,
            "bin_end": 13750000,
            "count": 1
           }
          ]
         }
        },
        {
         "name": "area_total",
         "dtype": "float64",
         "stats": {
          "unique_count": 19,
          "nan_count": 0,
          "min": "21.0",
          "max": "343.0",
          "histogram": [
           {
            "bin_start": 21,
            "bin_end": 53.2,
            "count": 5
           },
           {
            "bin_start": 53.2,
            "bin_end": 85.4,
            "count": 10
           },
           {
            "bin_start": 85.4,
            "bin_end": 117.60000000000001,
            "count": 4
           },
           {
            "bin_start": 117.60000000000001,
            "bin_end": 149.8,
            "count": 1
           },
           {
            "bin_start": 149.8,
            "bin_end": 182,
            "count": 2
           },
           {
            "bin_start": 182,
            "bin_end": 214.20000000000002,
            "count": 0
           },
           {
            "bin_start": 214.20000000000002,
            "bin_end": 246.40000000000003,
            "count": 0
           },
           {
            "bin_start": 246.40000000000003,
            "bin_end": 278.6,
            "count": 1
           },
           {
            "bin_start": 278.6,
            "bin_end": 310.8,
            "count": 0
           },
           {
            "bin_start": 310.8,
            "bin_end": 343,
            "count": 1
           }
          ]
         }
        },
        {
         "name": "area_kitchen",
         "dtype": "float64",
         "stats": {
          "unique_count": 10,
          "nan_count": 9,
          "min": "4.0",
          "max": "25.0",
          "histogram": [
           {
            "bin_start": 4,
            "bin_end": 6.1,
            "count": 3
           },
           {
            "bin_start": 6.1,
            "bin_end": 8.2,
            "count": 2
           },
           {
            "bin_start": 8.2,
            "bin_end": 10.3,
            "count": 3
           },
           {
            "bin_start": 10.3,
            "bin_end": 12.4,
            "count": 2
           },
           {
            "bin_start": 12.4,
            "bin_end": 14.5,
            "count": 0
           },
           {
            "bin_start": 14.5,
            "bin_end": 16.6,
            "count": 1
           },
           {
            "bin_start": 16.6,
            "bin_end": 18.700000000000003,
            "count": 1
           },
           {
            "bin_start": 18.700000000000003,
            "bin_end": 20.8,
            "count": 2
           },
           {
            "bin_start": 20.8,
            "bin_end": 22.900000000000002,
            "count": 0
           },
           {
            "bin_start": 22.900000000000002,
            "bin_end": 25,
            "count": 1
           }
          ]
         }
        },
        {
         "name": "area_living",
         "dtype": "float64",
         "stats": {
          "unique_count": 15,
          "nan_count": 4,
          "min": "14.0",
          "max": "222.0",
          "histogram": [
           {
            "bin_start": 14,
            "bin_end": 34.8,
            "count": 6
           },
           {
            "bin_start": 34.8,
            "bin_end": 55.6,
            "count": 7
           },
           {
            "bin_start": 55.6,
            "bin_end": 76.4,
            "count": 5
           },
           {
            "bin_start": 76.4,
            "bin_end": 97.2,
            "count": 0
           },
           {
            "bin_start": 97.2,
            "bin_end": 118,
            "count": 0
           },
           {
            "bin_start": 118,
            "bin_end": 138.8,
            "count": 0
           },
           {
            "bin_start": 138.8,
            "bin_end": 159.6,
            "count": 1
           },
           {
            "bin_start": 159.6,
            "bin_end": 180.4,
            "count": 0
           },
           {
            "bin_start": 180.4,
            "bin_end": 201.20000000000002,
            "count": 0
           },
           {
            "bin_start": 201.20000000000002,
            "bin_end": 222,
            "count": 1
           }
          ]
         }
        },
        {
         "name": "floor",
         "dtype": "float64",
         "stats": {
          "unique_count": 5,
          "nan_count": 0,
          "min": "1.0",
          "max": "5.0",
          "histogram": [
           {
            "bin_start": 1,
            "bin_end": 1.4,
            "count": 8
           },
           {
            "bin_start": 1.4,
            "bin_end": 1.8,
            "count": 0
           },
           {
            "bin_start": 1.8,
            "bin_end": 2.2,
            "count": 4
           },
           {
            "bin_start": 2.2,
            "bin_end": 2.6,
            "count": 0
           },
           {
            "bin_start": 2.6,
            "bin_end": 3,
            "count": 0
           },
           {
            "bin_start": 3,
            "bin_end": 3.4000000000000004,
            "count": 2
           },
           {
            "bin_start": 3.4000000000000004,
            "bin_end": 3.8000000000000003,
            "count": 0
           },
           {
            "bin_start": 3.8000000000000003,
            "bin_end": 4.2,
            "count": 8
           },
           {
            "bin_start": 4.2,
            "bin_end": 4.6,
            "count": 0
           },
           {
            "bin_start": 4.6,
            "bin_end": 5,
            "count": 2
           }
          ]
         }
        },
        {
         "name": "rooms",
         "dtype": "float64",
         "stats": {
          "unique_count": 5,
          "nan_count": 0,
          "min": "1.0",
          "max": "6.0",
          "histogram": [
           {
            "bin_start": 1,
            "bin_end": 1.5,
            "count": 9
           },
           {
            "bin_start": 1.5,
            "bin_end": 2,
            "count": 0
           },
           {
            "bin_start": 2,
            "bin_end": 2.5,
            "count": 5
           },
           {
            "bin_start": 2.5,
            "bin_end": 3,
            "count": 0
           },
           {
            "bin_start": 3,
            "bin_end": 3.5,
            "count": 7
           },
           {
            "bin_start": 3.5,
            "bin_end": 4,
            "count": 0
           },
           {
            "bin_start": 4,
            "bin_end": 4.5,
            "count": 1
           },
           {
            "bin_start": 4.5,
            "bin_end": 5,
            "count": 0
           },
           {
            "bin_start": 5,
            "bin_end": 5.5,
            "count": 0
           },
           {
            "bin_start": 5.5,
            "bin_end": 6,
            "count": 2
           }
          ]
         }
        },
        {
         "name": "layout",
         "dtype": "float64",
         "stats": {
          "unique_count": 1,
          "nan_count": 14,
          "min": "1.0",
          "max": "1.0",
          "histogram": [
           {
            "bin_start": 0.5,
            "bin_end": 0.6,
            "count": 0
           },
           {
            "bin_start": 0.6,
            "bin_end": 0.7,
            "count": 0
           },
           {
            "bin_start": 0.7,
            "bin_end": 0.8,
            "count": 0
           },
           {
            "bin_start": 0.8,
            "bin_end": 0.9,
            "count": 0
           },
           {
            "bin_start": 0.9,
            "bin_end": 1,
            "count": 0
           },
           {
            "bin_start": 1,
            "bin_end": 1.1,
            "count": 10
           },
           {
            "bin_start": 1.1,
            "bin_end": 1.2000000000000002,
            "count": 0
           },
           {
            "bin_start": 1.2000000000000002,
            "bin_end": 1.3,
            "count": 0
           },
           {
            "bin_start": 1.3,
            "bin_end": 1.4,
            "count": 0
           },
           {
            "bin_start": 1.4,
            "bin_end": 1.5,
            "count": 0
           }
          ]
         }
        },
        {
         "name": "ceiling",
         "dtype": "float64",
         "stats": {
          "unique_count": 3,
          "nan_count": 20,
          "min": "3.0",
          "max": "3.5",
          "histogram": [
           {
            "bin_start": 3,
            "bin_end": 3.05,
            "count": 2
           },
           {
            "bin_start": 3.05,
            "bin_end": 3.1,
            "count": 0
           },
           {
            "bin_start": 3.1,
            "bin_end": 3.15,
            "count": 0
           },
           {
            "bin_start": 3.15,
            "bin_end": 3.2,
            "count": 0
           },
           {
            "bin_start": 3.2,
            "bin_end": 3.25,
            "count": 1
           },
           {
            "bin_start": 3.25,
            "bin_end": 3.3,
            "count": 0
           },
           {
            "bin_start": 3.3,
            "bin_end": 3.35,
            "count": 0
           },
           {
            "bin_start": 3.35,
            "bin_end": 3.4,
            "count": 0
           },
           {
            "bin_start": 3.4,
            "bin_end": 3.45,
            "count": 0
           },
           {
            "bin_start": 3.45,
            "bin_end": 3.5,
            "count": 1
           }
          ]
         }
        },
        {
         "name": "bathrooms_shared",
         "dtype": "float64",
         "stats": {
          "unique_count": 2,
          "nan_count": 9,
          "min": "0.0",
          "max": "1.0",
          "histogram": [
           {
            "bin_start": 0,
            "bin_end": 0.1,
            "count": 7
           },
           {
            "bin_start": 0.1,
            "bin_end": 0.2,
            "count": 0
           },
           {
            "bin_start": 0.2,
            "bin_end": 0.30000000000000004,
            "count": 0
           },
           {
            "bin_start": 0.30000000000000004,
            "bin_end": 0.4,
            "count": 0
           },
           {
            "bin_start": 0.4,
            "bin_end": 0.5,
            "count": 0
           },
           {
            "bin_start": 0.5,
            "bin_end": 0.6000000000000001,
            "count": 0
           },
           {
            "bin_start": 0.6000000000000001,
            "bin_end": 0.7000000000000001,
            "count": 0
           },
           {
            "bin_start": 0.7000000000000001,
            "bin_end": 0.8,
            "count": 0
           },
           {
            "bin_start": 0.8,
            "bin_end": 0.9,
            "count": 0
           },
           {
            "bin_start": 0.9,
            "bin_end": 1,
            "count": 8
           }
          ]
         }
        },
        {
         "name": "bathrooms_private",
         "dtype": "float64",
         "stats": {
          "unique_count": 4,
          "nan_count": 9,
          "min": "0.0",
          "max": "3.0",
          "histogram": [
           {
            "bin_start": 0,
            "bin_end": 0.3,
            "count": 6
           },
           {
            "bin_start": 0.3,
            "bin_end": 0.6,
            "count": 0
           },
           {
            "bin_start": 0.6,
            "bin_end": 0.8999999999999999,
            "count": 0
           },
           {
            "bin_start": 0.8999999999999999,
            "bin_end": 1.2,
            "count": 6
           },
           {
            "bin_start": 1.2,
            "bin_end": 1.5,
            "count": 0
           },
           {
            "bin_start": 1.5,
            "bin_end": 1.7999999999999998,
            "count": 0
           },
           {
            "bin_start": 1.7999999999999998,
            "bin_end": 2.1,
            "count": 1
           },
           {
            "bin_start": 2.1,
            "bin_end": 2.4,
            "count": 0
           },
           {
            "bin_start": 2.4,
            "bin_end": 2.6999999999999997,
            "count": 0
           },
           {
            "bin_start": 2.6999999999999997,
            "bin_end": 3,
            "count": 2
           }
          ]
         }
        },
        {
         "name": "windows_court",
         "dtype": "float64",
         "stats": {
          "unique_count": 1,
          "nan_count": 12,
          "min": "1.0",
          "max": "1.0",
          "histogram": [
           {
            "bin_start": 0.5,
            "bin_end": 0.6,
            "count": 0
           },
           {
            "bin_start": 0.6,
            "bin_end": 0.7,
            "count": 0
           },
           {
            "bin_start": 0.7,
            "bin_end": 0.8,
            "count": 0
           },
           {
            "bin_start": 0.8,
            "bin_end": 0.9,
            "count": 0
           },
           {
            "bin_start": 0.9,
            "bin_end": 1,
            "count": 0
           },
           {
            "bin_start": 1,
            "bin_end": 1.1,
            "count": 12
           },
           {
            "bin_start": 1.1,
            "bin_end": 1.2000000000000002,
            "count": 0
           },
           {
            "bin_start": 1.2000000000000002,
            "bin_end": 1.3,
            "count": 0
           },
           {
            "bin_start": 1.3,
            "bin_end": 1.4,
            "count": 0
           },
           {
            "bin_start": 1.4,
            "bin_end": 1.5,
            "count": 0
           }
          ]
         }
        },
        {
         "name": "windows_street",
         "dtype": "float64",
         "stats": {
          "unique_count": 2,
          "nan_count": 12,
          "min": "0.0",
          "max": "1.0",
          "histogram": [
           {
            "bin_start": 0,
            "bin_end": 0.1,
            "count": 11
           },
           {
            "bin_start": 0.1,
            "bin_end": 0.2,
            "count": 0
           },
           {
            "bin_start": 0.2,
            "bin_end": 0.30000000000000004,
            "count": 0
           },
           {
            "bin_start": 0.30000000000000004,
            "bin_end": 0.4,
            "count": 0
           },
           {
            "bin_start": 0.4,
            "bin_end": 0.5,
            "count": 0
           },
           {
            "bin_start": 0.5,
            "bin_end": 0.6000000000000001,
            "count": 0
           },
           {
            "bin_start": 0.6000000000000001,
            "bin_end": 0.7000000000000001,
            "count": 0
           },
           {
            "bin_start": 0.7000000000000001,
            "bin_end": 0.8,
            "count": 0
           },
           {
            "bin_start": 0.8,
            "bin_end": 0.9,
            "count": 0
           },
           {
            "bin_start": 0.9,
            "bin_end": 1,
            "count": 1
           }
          ]
         }
        },
        {
         "name": "balconies",
         "dtype": "float64",
         "stats": {
          "unique_count": 2,
          "nan_count": 10,
          "min": "0.0",
          "max": "1.0",
          "histogram": [
           {
            "bin_start": 0,
            "bin_end": 0.1,
            "count": 6
           },
           {
            "bin_start": 0.1,
            "bin_end": 0.2,
            "count": 0
           },
           {
            "bin_start": 0.2,
            "bin_end": 0.30000000000000004,
            "count": 0
           },
           {
            "bin_start": 0.30000000000000004,
            "bin_end": 0.4,
            "count": 0
           },
           {
            "bin_start": 0.4,
            "bin_end": 0.5,
            "count": 0
           },
           {
            "bin_start": 0.5,
            "bin_end": 0.6000000000000001,
            "count": 0
           },
           {
            "bin_start": 0.6000000000000001,
            "bin_end": 0.7000000000000001,
            "count": 0
           },
           {
            "bin_start": 0.7000000000000001,
            "bin_end": 0.8,
            "count": 0
           },
           {
            "bin_start": 0.8,
            "bin_end": 0.9,
            "count": 0
           },
           {
            "bin_start": 0.9,
            "bin_end": 1,
            "count": 8
           }
          ]
         }
        },
        {
         "name": "loggias",
         "dtype": "float64",
         "stats": {
          "unique_count": 3,
          "nan_count": 10,
          "min": "0.0",
          "max": "2.0",
          "histogram": [
           {
            "bin_start": 0,
            "bin_end": 0.2,
            "count": 8
           },
           {
            "bin_start": 0.2,
            "bin_end": 0.4,
            "count": 0
           },
           {
            "bin_start": 0.4,
            "bin_end": 0.6000000000000001,
            "count": 0
           },
           {
            "bin_start": 0.6000000000000001,
            "bin_end": 0.8,
            "count": 0
           },
           {
            "bin_start": 0.8,
            "bin_end": 1,
            "count": 0
           },
           {
            "bin_start": 1,
            "bin_end": 1.2000000000000002,
            "count": 5
           },
           {
            "bin_start": 1.2000000000000002,
            "bin_end": 1.4000000000000001,
            "count": 0
           },
           {
            "bin_start": 1.4000000000000001,
            "bin_end": 1.6,
            "count": 0
           },
           {
            "bin_start": 1.6,
            "bin_end": 1.8,
            "count": 0
           },
           {
            "bin_start": 1.8,
            "bin_end": 2,
            "count": 1
           }
          ]
         }
        },
        {
         "name": "condition",
         "dtype": "float64",
         "stats": {
          "unique_count": 3,
          "nan_count": 8,
          "min": "0.0",
          "max": "2.0",
          "histogram": [
           {
            "bin_start": 0,
            "bin_end": 0.2,
            "count": 10
           },
           {
            "bin_start": 0.2,
            "bin_end": 0.4,
            "count": 0
           },
           {
            "bin_start": 0.4,
            "bin_end": 0.6000000000000001,
            "count": 0
           },
           {
            "bin_start": 0.6000000000000001,
            "bin_end": 0.8,
            "count": 0
           },
           {
            "bin_start": 0.8,
            "bin_end": 1,
            "count": 0
           },
           {
            "bin_start": 1,
            "bin_end": 1.2000000000000002,
            "count": 5
           },
           {
            "bin_start": 1.2000000000000002,
            "bin_end": 1.4000000000000001,
            "count": 0
           },
           {
            "bin_start": 1.4000000000000001,
            "bin_end": 1.6,
            "count": 0
           },
           {
            "bin_start": 1.6,
            "bin_end": 1.8,
            "count": 0
           },
           {
            "bin_start": 1.8,
            "bin_end": 2,
            "count": 1
           }
          ]
         }
        },
        {
         "name": "phones",
         "dtype": "float64",
         "stats": {
          "unique_count": 3,
          "nan_count": 1,
          "min": "0.0",
          "max": "2.0",
          "histogram": [
           {
            "bin_start": 0,
            "bin_end": 0.2,
            "count": 2
           },
           {
            "bin_start": 0.2,
            "bin_end": 0.4,
            "count": 0
           },
           {
            "bin_start": 0.4,
            "bin_end": 0.6000000000000001,
            "count": 0
           },
           {
            "bin_start": 0.6000000000000001,
            "bin_end": 0.8,
            "count": 0
           },
           {
            "bin_start": 0.8,
            "bin_end": 1,
            "count": 0
           },
           {
            "bin_start": 1,
            "bin_end": 1.2000000000000002,
            "count": 17
           },
           {
            "bin_start": 1.2000000000000002,
            "bin_end": 1.4000000000000001,
            "count": 0
           },
           {
            "bin_start": 1.4000000000000001,
            "bin_end": 1.6,
            "count": 0
           },
           {
            "bin_start": 1.6,
            "bin_end": 1.8,
            "count": 0
           },
           {
            "bin_start": 1.8,
            "bin_end": 2,
            "count": 4
           }
          ]
         }
        },
        {
         "name": "building_id",
         "dtype": "int64",
         "stats": {
          "unique_count": 17,
          "nan_count": 0,
          "min": "155",
          "max": "9436",
          "histogram": [
           {
            "bin_start": 155,
            "bin_end": 1083.1,
            "count": 4
           },
           {
            "bin_start": 1083.1,
            "bin_end": 2011.2,
            "count": 3
           },
           {
            "bin_start": 2011.2,
            "bin_end": 2939.3,
            "count": 1
           },
           {
            "bin_start": 2939.3,
            "bin_end": 3867.4,
            "count": 0
           },
           {
            "bin_start": 3867.4,
            "bin_end": 4795.5,
            "count": 2
           },
           {
            "bin_start": 4795.5,
            "bin_end": 5723.6,
            "count": 3
           },
           {
            "bin_start": 5723.6,
            "bin_end": 6651.7,
            "count": 4
           },
           {
            "bin_start": 6651.7,
            "bin_end": 7579.8,
            "count": 0
           },
           {
            "bin_start": 7579.8,
            "bin_end": 8507.9,
            "count": 3
           },
           {
            "bin_start": 8507.9,
            "bin_end": 9436,
            "count": 4
           }
          ]
         }
        },
        {
         "name": "new",
         "dtype": "float64",
         "stats": {
          "unique_count": 2,
          "nan_count": 1,
          "min": "0.0",
          "max": "1.0",
          "histogram": [
           {
            "bin_start": 0,
            "bin_end": 0.1,
            "count": 21
           },
           {
            "bin_start": 0.1,
            "bin_end": 0.2,
            "count": 0
           },
           {
            "bin_start": 0.2,
            "bin_end": 0.30000000000000004,
            "count": 0
           },
           {
            "bin_start": 0.30000000000000004,
            "bin_end": 0.4,
            "count": 0
           },
           {
            "bin_start": 0.4,
            "bin_end": 0.5,
            "count": 0
           },
           {
            "bin_start": 0.5,
            "bin_end": 0.6000000000000001,
            "count": 0
           },
           {
            "bin_start": 0.6000000000000001,
            "bin_end": 0.7000000000000001,
            "count": 0
           },
           {
            "bin_start": 0.7000000000000001,
            "bin_end": 0.8,
            "count": 0
           },
           {
            "bin_start": 0.8,
            "bin_end": 0.9,
            "count": 0
           },
           {
            "bin_start": 0.9,
            "bin_end": 1,
            "count": 2
           }
          ]
         }
        },
        {
         "name": "district",
         "dtype": "float64",
         "stats": {
          "unique_count": 5,
          "nan_count": 0,
          "min": "2.0",
          "max": "11.0",
          "histogram": [
           {
            "bin_start": 2,
            "bin_end": 2.9,
            "count": 4
           },
           {
            "bin_start": 2.9,
            "bin_end": 3.8,
            "count": 0
           },
           {
            "bin_start": 3.8,
            "bin_end": 4.7,
            "count": 0
           },
           {
            "bin_start": 4.7,
            "bin_end": 5.6,
            "count": 0
           },
           {
            "bin_start": 5.6,
            "bin_end": 6.5,
            "count": 0
           },
           {
            "bin_start": 6.5,
            "bin_end": 7.4,
            "count": 1
           },
           {
            "bin_start": 7.4,
            "bin_end": 8.3,
            "count": 4
           },
           {
            "bin_start": 8.3,
            "bin_end": 9.2,
            "count": 0
           },
           {
            "bin_start": 9.2,
            "bin_end": 10.1,
            "count": 14
           },
           {
            "bin_start": 10.1,
            "bin_end": 11,
            "count": 1
           }
          ]
         }
        },
        {
         "name": "street",
         "dtype": "object",
         "stats": {
          "unique_count": 9,
          "nan_count": 0,
          "categories": [
           {
            "name": "улица Березки",
            "count": 5
           },
           {
            "name": "База отдыха Витро Вилладж тер.",
            "count": 4
           },
           {
            "name": "7 others",
            "count": 15
           }
          ]
         }
        },
        {
         "name": "address",
         "dtype": "object",
         "stats": {
          "unique_count": 17,
          "nan_count": 0,
          "categories": [
           {
            "name": "10к2",
            "count": 3
           },
           {
            "name": "к4",
            "count": 2
           },
           {
            "name": "15 others",
            "count": 19
           }
          ]
         }
        },
        {
         "name": "constructed",
         "dtype": "float64",
         "stats": {
          "unique_count": 9,
          "nan_count": 5,
          "min": "2004.0",
          "max": "2018.0",
          "histogram": [
           {
            "bin_start": 2004,
            "bin_end": 2005.4,
            "count": 2
           },
           {
            "bin_start": 2005.4,
            "bin_end": 2006.8,
            "count": 0
           },
           {
            "bin_start": 2006.8,
            "bin_end": 2008.2,
            "count": 0
           },
           {
            "bin_start": 2008.2,
            "bin_end": 2009.6,
            "count": 2
           },
           {
            "bin_start": 2009.6,
            "bin_end": 2011,
            "count": 5
           },
           {
            "bin_start": 2011,
            "bin_end": 2012.4,
            "count": 2
           },
           {
            "bin_start": 2012.4,
            "bin_end": 2013.8,
            "count": 1
           },
           {
            "bin_start": 2013.8,
            "bin_end": 2015.2,
            "count": 0
           },
           {
            "bin_start": 2015.2,
            "bin_end": 2016.6,
            "count": 4
           },
           {
            "bin_start": 2016.6,
            "bin_end": 2018,
            "count": 3
           }
          ]
         }
        },
        {
         "name": "material",
         "dtype": "float64",
         "stats": {
          "unique_count": 3,
          "nan_count": 11,
          "min": "0.0",
          "max": "4.0",
          "histogram": [
           {
            "bin_start": 0,
            "bin_end": 0.4,
            "count": 1
           },
           {
            "bin_start": 0.4,
            "bin_end": 0.8,
            "count": 0
           },
           {
            "bin_start": 0.8,
            "bin_end": 1.2000000000000002,
            "count": 0
           },
           {
            "bin_start": 1.2000000000000002,
            "bin_end": 1.6,
            "count": 0
           },
           {
            "bin_start": 1.6,
            "bin_end": 2,
            "count": 0
           },
           {
            "bin_start": 2,
            "bin_end": 2.4000000000000004,
            "count": 10
           },
           {
            "bin_start": 2.4000000000000004,
            "bin_end": 2.8000000000000003,
            "count": 0
           },
           {
            "bin_start": 2.8000000000000003,
            "bin_end": 3.2,
            "count": 0
           },
           {
            "bin_start": 3.2,
            "bin_end": 3.6,
            "count": 0
           },
           {
            "bin_start": 3.6,
            "bin_end": 4,
            "count": 2
           }
          ]
         }
        },
        {
         "name": "stories",
         "dtype": "float64",
         "stats": {
          "unique_count": 5,
          "nan_count": 0,
          "min": "2.0",
          "max": "25.0",
          "histogram": [
           {
            "bin_start": 2,
            "bin_end": 4.3,
            "count": 14
           },
           {
            "bin_start": 4.3,
            "bin_end": 6.6,
            "count": 9
           },
           {
            "bin_start": 6.6,
            "bin_end": 8.899999999999999,
            "count": 0
           },
           {
            "bin_start": 8.899999999999999,
            "bin_end": 11.2,
            "count": 0
           },
           {
            "bin_start": 11.2,
            "bin_end": 13.5,
            "count": 0
           },
           {
            "bin_start": 13.5,
            "bin_end": 15.799999999999999,
            "count": 0
           },
           {
            "bin_start": 15.799999999999999,
            "bin_end": 18.099999999999998,
            "count": 0
           },
           {
            "bin_start": 18.099999999999998,
            "bin_end": 20.4,
            "count": 0
           },
           {
            "bin_start": 20.4,
            "bin_end": 22.7,
            "count": 0
           },
           {
            "bin_start": 22.7,
            "bin_end": 25,
            "count": 1
           }
          ]
         }
        },
        {
         "name": "elevator_without",
         "dtype": "float64",
         "stats": {
          "unique_count": 2,
          "nan_count": 7,
          "min": "0.0",
          "max": "1.0",
          "histogram": [
           {
            "bin_start": 0,
            "bin_end": 0.1,
            "count": 5
           },
           {
            "bin_start": 0.1,
            "bin_end": 0.2,
            "count": 0
           },
           {
            "bin_start": 0.2,
            "bin_end": 0.30000000000000004,
            "count": 0
           },
           {
            "bin_start": 0.30000000000000004,
            "bin_end": 0.4,
            "count": 0
           },
           {
            "bin_start": 0.4,
            "bin_end": 0.5,
            "count": 0
           },
           {
            "bin_start": 0.5,
            "bin_end": 0.6000000000000001,
            "count": 0
           },
           {
            "bin_start": 0.6000000000000001,
            "bin_end": 0.7000000000000001,
            "count": 0
           },
           {
            "bin_start": 0.7000000000000001,
            "bin_end": 0.8,
            "count": 0
           },
           {
            "bin_start": 0.8,
            "bin_end": 0.9,
            "count": 0
           },
           {
            "bin_start": 0.9,
            "bin_end": 1,
            "count": 12
           }
          ]
         }
        },
        {
         "name": "elevator_passenger",
         "dtype": "float64",
         "stats": {
          "unique_count": 2,
          "nan_count": 7,
          "min": "0.0",
          "max": "1.0",
          "histogram": [
           {
            "bin_start": 0,
            "bin_end": 0.1,
            "count": 10
           },
           {
            "bin_start": 0.1,
            "bin_end": 0.2,
            "count": 0
           },
           {
            "bin_start": 0.2,
            "bin_end": 0.30000000000000004,
            "count": 0
           },
           {
            "bin_start": 0.30000000000000004,
            "bin_end": 0.4,
            "count": 0
           },
           {
            "bin_start": 0.4,
            "bin_end": 0.5,
            "count": 0
           },
           {
            "bin_start": 0.5,
            "bin_end": 0.6000000000000001,
            "count": 0
           },
           {
            "bin_start": 0.6000000000000001,
            "bin_end": 0.7000000000000001,
            "count": 0
           },
           {
            "bin_start": 0.7000000000000001,
            "bin_end": 0.8,
            "count": 0
           },
           {
            "bin_start": 0.8,
            "bin_end": 0.9,
            "count": 0
           },
           {
            "bin_start": 0.9,
            "bin_end": 1,
            "count": 7
           }
          ]
         }
        },
        {
         "name": "elevator_service",
         "dtype": "float64",
         "stats": {
          "unique_count": 2,
          "nan_count": 7,
          "min": "0.0",
          "max": "1.0",
          "histogram": [
           {
            "bin_start": 0,
            "bin_end": 0.1,
            "count": 12
           },
           {
            "bin_start": 0.1,
            "bin_end": 0.2,
            "count": 0
           },
           {
            "bin_start": 0.2,
            "bin_end": 0.30000000000000004,
            "count": 0
           },
           {
            "bin_start": 0.30000000000000004,
            "bin_end": 0.4,
            "count": 0
           },
           {
            "bin_start": 0.4,
            "bin_end": 0.5,
            "count": 0
           },
           {
            "bin_start": 0.5,
            "bin_end": 0.6000000000000001,
            "count": 0
           },
           {
            "bin_start": 0.6000000000000001,
            "bin_end": 0.7000000000000001,
            "count": 0
           },
           {
            "bin_start": 0.7000000000000001,
            "bin_end": 0.8,
            "count": 0
           },
           {
            "bin_start": 0.8,
            "bin_end": 0.9,
            "count": 0
           },
           {
            "bin_start": 0.9,
            "bin_end": 1,
            "count": 5
           }
          ]
         }
        },
        {
         "name": "parking",
         "dtype": "float64",
         "stats": {
          "unique_count": 1,
          "nan_count": 11,
          "min": "1.0",
          "max": "1.0",
          "histogram": [
           {
            "bin_start": 0.5,
            "bin_end": 0.6,
            "count": 0
           },
           {
            "bin_start": 0.6,
            "bin_end": 0.7,
            "count": 0
           },
           {
            "bin_start": 0.7,
            "bin_end": 0.8,
            "count": 0
           },
           {
            "bin_start": 0.8,
            "bin_end": 0.9,
            "count": 0
           },
           {
            "bin_start": 0.9,
            "bin_end": 1,
            "count": 0
           },
           {
            "bin_start": 1,
            "bin_end": 1.1,
            "count": 13
           },
           {
            "bin_start": 1.1,
            "bin_end": 1.2000000000000002,
            "count": 0
           },
           {
            "bin_start": 1.2000000000000002,
            "bin_end": 1.3,
            "count": 0
           },
           {
            "bin_start": 1.3,
            "bin_end": 1.4,
            "count": 0
           },
           {
            "bin_start": 1.4,
            "bin_end": 1.5,
            "count": 0
           }
          ]
         }
        },
        {
         "name": "garbage_chute",
         "dtype": "float64",
         "stats": {
          "unique_count": 2,
          "nan_count": 16,
          "min": "0.0",
          "max": "1.0",
          "histogram": [
           {
            "bin_start": 0,
            "bin_end": 0.1,
            "count": 6
           },
           {
            "bin_start": 0.1,
            "bin_end": 0.2,
            "count": 0
           },
           {
            "bin_start": 0.2,
            "bin_end": 0.30000000000000004,
            "count": 0
           },
           {
            "bin_start": 0.30000000000000004,
            "bin_end": 0.4,
            "count": 0
           },
           {
            "bin_start": 0.4,
            "bin_end": 0.5,
            "count": 0
           },
           {
            "bin_start": 0.5,
            "bin_end": 0.6000000000000001,
            "count": 0
           },
           {
            "bin_start": 0.6000000000000001,
            "bin_end": 0.7000000000000001,
            "count": 0
           },
           {
            "bin_start": 0.7000000000000001,
            "bin_end": 0.8,
            "count": 0
           },
           {
            "bin_start": 0.8,
            "bin_end": 0.9,
            "count": 0
           },
           {
            "bin_start": 0.9,
            "bin_end": 1,
            "count": 2
           }
          ]
         }
        },
        {
         "name": "heating",
         "dtype": "float64",
         "stats": {
          "unique_count": 3,
          "nan_count": 16,
          "min": "0.0",
          "max": "3.0",
          "histogram": [
           {
            "bin_start": 0,
            "bin_end": 0.3,
            "count": 5
           },
           {
            "bin_start": 0.3,
            "bin_end": 0.6,
            "count": 0
           },
           {
            "bin_start": 0.6,
            "bin_end": 0.8999999999999999,
            "count": 0
           },
           {
            "bin_start": 0.8999999999999999,
            "bin_end": 1.2,
            "count": 2
           },
           {
            "bin_start": 1.2,
            "bin_end": 1.5,
            "count": 0
           },
           {
            "bin_start": 1.5,
            "bin_end": 1.7999999999999998,
            "count": 0
           },
           {
            "bin_start": 1.7999999999999998,
            "bin_end": 2.1,
            "count": 0
           },
           {
            "bin_start": 2.1,
            "bin_end": 2.4,
            "count": 0
           },
           {
            "bin_start": 2.4,
            "bin_end": 2.6999999999999997,
            "count": 0
           },
           {
            "bin_start": 2.6999999999999997,
            "bin_end": 3,
            "count": 1
           }
          ]
         }
        },
        {
         "name": "price/area",
         "dtype": "float64",
         "stats": {
          "unique_count": 22,
          "nan_count": 0,
          "min": "23323.61224489796",
          "max": "50738.0073800738",
          "histogram": [
           {
            "bin_start": 23323.61224489796,
            "bin_end": 26065.051758415542,
            "count": 2
           },
           {
            "bin_start": 26065.051758415542,
            "bin_end": 28806.491271933126,
            "count": 0
           },
           {
            "bin_start": 28806.491271933126,
            "bin_end": 31547.930785450713,
            "count": 1
           },
           {
            "bin_start": 31547.930785450713,
            "bin_end": 34289.37029896829,
            "count": 1
           },
           {
            "bin_start": 34289.37029896829,
            "bin_end": 37030.80981248588,
            "count": 1
           },
           {
            "bin_start": 37030.80981248588,
            "bin_end": 39772.24932600347,
            "count": 4
           },
           {
            "bin_start": 39772.24932600347,
            "bin_end": 42513.688839521055,
            "count": 1
           },
           {
            "bin_start": 42513.688839521055,
            "bin_end": 45255.128353038635,
            "count": 2
           },
           {
            "bin_start": 45255.128353038635,
            "bin_end": 47996.567866556215,
            "count": 2
           },
           {
            "bin_start": 47996.567866556215,
            "bin_end": 50738.0073800738,
            "count": 10
           }
          ]
         }
        },
        {
         "name": "distance",
         "dtype": "float64",
         "stats": {
          "unique_count": 16,
          "nan_count": 0,
          "min": "0.12808134682692718",
          "max": "0.7550836663344056",
          "histogram": [
           {
            "bin_start": 0.12808134682692718,
            "bin_end": 0.19078157877767501,
            "count": 4
           },
           {
            "bin_start": 0.19078157877767501,
            "bin_end": 0.25348181072842285,
            "count": 5
           },
           {
            "bin_start": 0.25348181072842285,
            "bin_end": 0.3161820426791707,
            "count": 1
           },
           {
            "bin_start": 0.3161820426791707,
            "bin_end": 0.3788822746299185,
            "count": 0
           },
           {
            "bin_start": 0.3788822746299185,
            "bin_end": 0.44158250658066633,
            "count": 2
           },
           {
            "bin_start": 0.44158250658066633,
            "bin_end": 0.5042827385314141,
            "count": 6
           },
           {
            "bin_start": 0.5042827385314141,
            "bin_end": 0.5669829704821621,
            "count": 0
           },
           {
            "bin_start": 0.5669829704821621,
            "bin_end": 0.6296832024329099,
            "count": 0
           },
           {
            "bin_start": 0.6296832024329099,
            "bin_end": 0.6923834343836577,
            "count": 0
           },
           {
            "bin_start": 0.6923834343836577,
            "bin_end": 0.7550836663344056,
            "count": 6
           }
          ]
         }
        },
        {
         "name": "_deepnote_index_column",
         "dtype": "int64"
        }
       ],
       "rows_top": [
        {
         "id": 2215,
         "seller": "nan",
         "price": 1900000,
         "area_total": 55.8,
         "area_kitchen": "nan",
         "area_living": 35,
         "floor": 1,
         "rooms": 1,
         "layout": "nan",
         "ceiling": "nan",
         "bathrooms_shared": "nan",
         "bathrooms_private": "nan",
         "windows_court": 1,
         "windows_street": 0,
         "balconies": 1,
         "loggias": 0,
         "condition": 0,
         "phones": 1,
         "building_id": 741,
         "new": 0,
         "district": 10,
         "street": "База отдыха Витро Вилладж тер.",
         "address": "к4",
         "constructed": 2010,
         "material": 2,
         "stories": 5,
         "elevator_without": 0,
         "elevator_passenger": 1,
         "elevator_service": 1,
         "parking": 1,
         "garbage_chute": 0,
         "heating": "nan",
         "price/area": 34050.179211469534,
         "distance": 0.49510152083890724,
         "_deepnote_index_column": 2215
        },
        {
         "id": 2236,
         "seller": 1,
         "price": 3000000,
         "area_total": 60,
         "area_kitchen": 8,
         "area_living": 45,
         "floor": 3,
         "rooms": 3,
         "layout": 1,
         "ceiling": "nan",
         "bathrooms_shared": 1,
         "bathrooms_private": 0,
         "windows_court": "nan",
         "windows_street": "nan",
         "balconies": 1,
         "loggias": 0,
         "condition": "nan",
         "phones": 1,
         "building_id": 4960,
         "new": 0,
         "district": 10,
         "street": "улица Березки",
         "address": "8к3",
         "constructed": 2017,
         "material": "nan",
         "stories": 4,
         "elevator_without": "nan",
         "elevator_passenger": "nan",
         "elevator_service": "nan",
         "parking": "nan",
         "garbage_chute": "nan",
         "heating": "nan",
         "price/area": 50000,
         "distance": 0.7539302153097458,
         "_deepnote_index_column": 2236
        },
        {
         "id": 2241,
         "seller": 1,
         "price": 3500000,
         "area_total": 75,
         "area_kitchen": 12,
         "area_living": 41,
         "floor": 2,
         "rooms": 3,
         "layout": 1,
         "ceiling": "nan",
         "bathrooms_shared": 0,
         "bathrooms_private": 1,
         "windows_court": "nan",
         "windows_street": "nan",
         "balconies": 1,
         "loggias": 0,
         "condition": "nan",
         "phones": 1,
         "building_id": 9053,
         "new": 1,
         "district": 11,
         "street": "улица Юбилейная",
         "address": "12к1",
         "constructed": "nan",
         "material": "nan",
         "stories": 5,
         "elevator_without": "nan",
         "elevator_passenger": "nan",
         "elevator_service": "nan",
         "parking": "nan",
         "garbage_chute": "nan",
         "heating": "nan",
         "price/area": 46666.666666666664,
         "distance": 0.24564372320293307,
         "_deepnote_index_column": 2241
        },
        {
         "id": 2363,
         "seller": 2,
         "price": 7999999,
         "area_total": 343,
         "area_kitchen": "nan",
         "area_living": 222,
         "floor": 2,
         "rooms": 6,
         "layout": "nan",
         "ceiling": "nan",
         "bathrooms_shared": "nan",
         "bathrooms_private": "nan",
         "windows_court": "nan",
         "windows_street": "nan",
         "balconies": "nan",
         "loggias": "nan",
         "condition": "nan",
         "phones": 0,
         "building_id": 4826,
         "new": 0,
         "district": 2,
         "street": "улица Радужная",
         "address": "9",
         "constructed": 2013,
         "material": 2,
         "stories": 25,
         "elevator_without": 1,
         "elevator_passenger": 1,
         "elevator_service": 1,
         "parking": 1,
         "garbage_chute": 1,
         "heating": 0,
         "price/area": 23323.61224489796,
         "distance": 0.12808134682692718,
         "_deepnote_index_column": 2363
        },
        {
         "id": 7512,
         "seller": 1,
         "price": 2950000,
         "area_total": 60,
         "area_kitchen": 8.3,
         "area_living": 34,
         "floor": 4,
         "rooms": 2,
         "layout": 1,
         "ceiling": "nan",
         "bathrooms_shared": 1,
         "bathrooms_private": 0,
         "windows_court": "nan",
         "windows_street": "nan",
         "balconies": 1,
         "loggias": 0,
         "condition": "nan",
         "phones": 1,
         "building_id": 4960,
         "new": 0,
         "district": 10,
         "street": "улица Березки",
         "address": "8к3",
         "constructed": 2017,
         "material": "nan",
         "stories": 4,
         "elevator_without": "nan",
         "elevator_passenger": "nan",
         "elevator_service": "nan",
         "parking": "nan",
         "garbage_chute": "nan",
         "heating": "nan",
         "price/area": 49166.666666666664,
         "distance": 0.7539302153097458,
         "_deepnote_index_column": 7512
        },
        {
         "id": 7513,
         "seller": 1,
         "price": 3000000,
         "area_total": 60.3,
         "area_kitchen": 9,
         "area_living": 48,
         "floor": 4,
         "rooms": 2,
         "layout": 1,
         "ceiling": "nan",
         "bathrooms_shared": 1,
         "bathrooms_private": 0,
         "windows_court": "nan",
         "windows_street": "nan",
         "balconies": 1,
         "loggias": 0,
         "condition": "nan",
         "phones": 1,
         "building_id": 6238,
         "new": 0,
         "district": 10,
         "street": "улица Березки",
         "address": "10к2",
         "constructed": 2016,
         "material": "nan",
         "stories": 4,
         "elevator_without": 1,
         "elevator_passenger": 0,
         "elevator_service": 0,
         "parking": 1,
         "garbage_chute": "nan",
         "heating": "nan",
         "price/area": 49751.24378109453,
         "distance": 0.7550836663344056,
         "_deepnote_index_column": 7513
        },
        {
         "id": 7514,
         "seller": 1,
         "price": 3350000,
         "area_total": 75,
         "area_kitchen": 12,
         "area_living": 41,
         "floor": 5,
         "rooms": 3,
         "layout": 1,
         "ceiling": "nan",
         "bathrooms_shared": 0,
         "bathrooms_private": 1,
         "windows_court": "nan",
         "windows_street": "nan",
         "balconies": 1,
         "loggias": 0,
         "condition": "nan",
         "phones": 1,
         "building_id": 1327,
         "new": 1,
         "district": 10,
         "street": "улица Юбилейная",
         "address": "2Б",
         "constructed": 2018,
         "material": "nan",
         "stories": 5,
         "elevator_without": "nan",
         "elevator_passenger": "nan",
         "elevator_service": "nan",
         "parking": "nan",
         "garbage_chute": "nan",
         "heating": "nan",
         "price/area": 44666.666666666664,
         "distance": 0.7489374021385223,
         "_deepnote_index_column": 7514
        },
        {
         "id": 7572,
         "seller": 0,
         "price": 1000000,
         "area_total": 21,
         "area_kitchen": 4,
         "area_living": 14,
         "floor": 1,
         "rooms": 1,
         "layout": "nan",
         "ceiling": "nan",
         "bathrooms_shared": "nan",
         "bathrooms_private": "nan",
         "windows_court": "nan",
         "windows_street": "nan",
         "balconies": "nan",
         "loggias": "nan",
         "condition": "nan",
         "phones": 0,
         "building_id": 5994,
         "new": 0,
         "district": 7,
         "street": "улица Парковая",
         "address": "11",
         "constructed": 2016,
         "material": 2,
         "stories": 4,
         "elevator_without": 1,
         "elevator_passenger": 0,
         "elevator_service": 0,
         "parking": 1,
         "garbage_chute": "nan",
         "heating": 0,
         "price/area": 47619.04761904762,
         "distance": 0.2547833564992063,
         "_deepnote_index_column": 7572
        },
        {
         "id": 11167,
         "seller": 1,
         "price": 13750000,
         "area_total": 271,
         "area_kitchen": 25,
         "area_living": 150,
         "floor": 4,
         "rooms": 6,
         "layout": 1,
         "ceiling": "nan",
         "bathrooms_shared": 0,
         "bathrooms_private": 3,
         "windows_court": 1,
         "windows_street": 1,
         "balconies": 1,
         "loggias": 0,
         "condition": 0,
         "phones": 1,
         "building_id": 2121,
         "new": 0,
         "district": 2,
         "street": "улица Радужная",
         "address": "1",
         "constructed": 2004,
         "material": 4,
         "stories": 5,
         "elevator_without": 1,
         "elevator_passenger": 0,
         "elevator_service": 0,
         "parking": "nan",
         "garbage_chute": "nan",
         "heating": 0,
         "price/area": 50738.0073800738,
         "distance": 0.13164740910477638,
         "_deepnote_index_column": 11167
        },
        {
         "id": 13201,
         "seller": 1,
         "price": 2900000,
         "area_total": 60,
         "area_kitchen": "nan",
         "area_living": 60,
         "floor": 1,
         "rooms": 1,
         "layout": "nan",
         "ceiling": "nan",
         "bathrooms_shared": 0,
         "bathrooms_private": 1,
         "windows_court": 1,
         "windows_street": 0,
         "balconies": "nan",
         "loggias": "nan",
         "condition": 0,
         "phones": 2,
         "building_id": 4782,
         "new": 0,
         "district": 8,
         "street": "улица Центральная",
         "address": "27",
         "constructed": 2010,
         "material": 2,
         "stories": 3,
         "elevator_without": 1,
         "elevator_passenger": 0,
         "elevator_service": 0,
         "parking": 1,
         "garbage_chute": 0,
         "heating": 1,
         "price/area": 48333.333333333336,
         "distance": 0.23861186161840303,
         "_deepnote_index_column": 13201
        },
        {
         "id": 13206,
         "seller": 0,
         "price": 1150000,
         "area_total": 29,
         "area_kitchen": 6,
         "area_living": 18,
         "floor": 1,
         "rooms": 1,
         "layout": "nan",
         "ceiling": "nan",
         "bathrooms_shared": "nan",
         "bathrooms_private": "nan",
         "windows_court": "nan",
         "windows_street": "nan",
         "balconies": "nan",
         "loggias": "nan",
         "condition": 1,
         "phones": 1,
         "building_id": 8670,
         "new": 0,
         "district": 10,
         "street": "д. Кузенево",
         "address": "8",
         "constructed": "nan",
         "material": "nan",
         "stories": 2,
         "elevator_without": "nan",
         "elevator_passenger": "nan",
         "elevator_service": "nan",
         "parking": "nan",
         "garbage_chute": "nan",
         "heating": "nan",
         "price/area": 39655.1724137931,
         "distance": 0.418336820058906,
         "_deepnote_index_column": 13206
        },
        {
         "id": 13207,
         "seller": 0,
         "price": 1400000,
         "area_total": 37,
         "area_kitchen": 6,
         "area_living": "nan",
         "floor": 2,
         "rooms": 2,
         "layout": "nan",
         "ceiling": "nan",
         "bathrooms_shared": "nan",
         "bathrooms_private": "nan",
         "windows_court": "nan",
         "windows_street": "nan",
         "balconies": "nan",
         "loggias": "nan",
         "condition": 1,
         "phones": 1,
         "building_id": 8670,
         "new": 0,
         "district": 10,
         "street": "д. Кузенево",
         "address": "8",
         "constructed": "nan",
         "material": "nan",
         "stories": 2,
         "elevator_without": "nan",
         "elevator_passenger": "nan",
         "elevator_service": "nan",
         "parking": "nan",
         "garbage_chute": "nan",
         "heating": "nan",
         "price/area": 37837.83783783784,
         "distance": 0.418336820058906,
         "_deepnote_index_column": 13207
        },
        {
         "id": 13642,
         "seller": 1,
         "price": 4200000,
         "area_total": 105.6,
         "area_kitchen": 20,
         "area_living": 30,
         "floor": 5,
         "rooms": 1,
         "layout": "nan",
         "ceiling": "nan",
         "bathrooms_shared": 1,
         "bathrooms_private": 0,
         "windows_court": 1,
         "windows_street": 0,
         "balconies": 0,
         "loggias": 1,
         "condition": 2,
         "phones": 1,
         "building_id": 8231,
         "new": 0,
         "district": 10,
         "street": "д. Киселево",
         "address": "6",
         "constructed": "nan",
         "material": 0,
         "stories": 5,
         "elevator_without": 0,
         "elevator_passenger": 1,
         "elevator_service": 0,
         "parking": "nan",
         "garbage_chute": "nan",
         "heating": "nan",
         "price/area": 39772.72727272727,
         "distance": 0.47701724495975856,
         "_deepnote_index_column": 13642
        },
        {
         "id": 13724,
         "seller": "nan",
         "price": 2950000,
         "area_total": 61,
         "area_kitchen": 8,
         "area_living": 34,
         "floor": 4,
         "rooms": 2,
         "layout": 1,
         "ceiling": 3,
         "bathrooms_shared": 0,
         "bathrooms_private": 1,
         "windows_court": 1,
         "windows_street": 0,
         "balconies": 0,
         "loggias": 1,
         "condition": 1,
         "phones": 1,
         "building_id": 6238,
         "new": 0,
         "district": 10,
         "street": "улица Березки",
         "address": "10к2",
         "constructed": 2016,
         "material": "nan",
         "stories": 4,
         "elevator_without": 1,
         "elevator_passenger": 0,
         "elevator_service": 0,
         "parking": 1,
         "garbage_chute": "nan",
         "heating": "nan",
         "price/area": 48360.65573770492,
         "distance": 0.7550836663344056,
         "_deepnote_index_column": 13724
        },
        {
         "id": 13725,
         "seller": "nan",
         "price": 2500000,
         "area_total": 101.9,
         "area_kitchen": "nan",
         "area_living": 55,
         "floor": 1,
         "rooms": 1,
         "layout": "nan",
         "ceiling": 3.5,
         "bathrooms_shared": "nan",
         "bathrooms_private": "nan",
         "windows_court": 1,
         "windows_street": 0,
         "balconies": 1,
         "loggias": 0,
         "condition": 0,
         "phones": 1,
         "building_id": 741,
         "new": 0,
         "district": 10,
         "street": "База отдыха Витро Вилладж тер.",
         "address": "к4",
         "constructed": 2010,
         "material": 2,
         "stories": 5,
         "elevator_without": 0,
         "elevator_passenger": 1,
         "elevator_service": 1,
         "parking": 1,
         "garbage_chute": 0,
         "heating": "nan",
         "price/area": 24533.85672227674,
         "distance": 0.49510152083890724,
         "_deepnote_index_column": 13725
        },
        {
         "id": 16636,
         "seller": 2,
         "price": 5500000,
         "area_total": 153.5,
         "area_kitchen": 18.1,
         "area_living": 61.1,
         "floor": 1,
         "rooms": 3,
         "layout": 1,
         "ceiling": "nan",
         "bathrooms_shared": 1,
         "bathrooms_private": 2,
         "windows_court": 1,
         "windows_street": 0,
         "balconies": 0,
         "loggias": 1,
         "condition": 0,
         "phones": 1,
         "building_id": 8038,
         "new": 0,
         "district": 2,
         "street": "улица Радужная",
         "address": "7",
         "constructed": 2004,
         "material": 4,
         "stories": 4,
         "elevator_without": 1,
         "elevator_passenger": 0,
         "elevator_service": 0,
         "parking": "nan",
         "garbage_chute": 0,
         "heating": 0,
         "price/area": 35830.618892508144,
         "distance": 0.12892314079326675,
         "_deepnote_index_column": 16636
        },
        {
         "id": 20314,
         "seller": 1,
         "price": 2900000,
         "area_total": 60,
         "area_kitchen": "nan",
         "area_living": 60,
         "floor": 1,
         "rooms": 1,
         "layout": "nan",
         "ceiling": "nan",
         "bathrooms_shared": 0,
         "bathrooms_private": 1,
         "windows_court": 1,
         "windows_street": 0,
         "balconies": "nan",
         "loggias": "nan",
         "condition": 0,
         "phones": 2,
         "building_id": 4782,
         "new": 0,
         "district": 8,
         "street": "улица Центральная",
         "address": "27",
         "constructed": 2010,
         "material": 2,
         "stories": 3,
         "elevator_without": 1,
         "elevator_passenger": 0,
         "elevator_service": 0,
         "parking": 1,
         "garbage_chute": 0,
         "heating": 1,
         "price/area": 48333.333333333336,
         "distance": 0.23861186161840303,
         "_deepnote_index_column": 20314
        },
        {
         "id": 20317,
         "seller": 2,
         "price": 3900000,
         "area_total": 99.3,
         "area_kitchen": 20,
         "area_living": 65,
         "floor": 3,
         "rooms": 3,
         "layout": 1,
         "ceiling": 3.2,
         "bathrooms_shared": 1,
         "bathrooms_private": 1,
         "windows_court": 1,
         "windows_street": 0,
         "balconies": 0,
         "loggias": 2,
         "condition": 0,
         "phones": 1,
         "building_id": 1157,
         "new": 0,
         "district": 10,
         "street": "База отдыха Витро Вилладж тер.",
         "address": "к1",
         "constructed": 2009,
         "material": 2,
         "stories": 5,
         "elevator_without": 0,
         "elevator_passenger": 1,
         "elevator_service": 1,
         "parking": 1,
         "garbage_chute": "nan",
         "heating": "nan",
         "price/area": 39274.92447129909,
         "distance": 0.4964174061754902,
         "_deepnote_index_column": 20317
        },
        {
         "id": 20329,
         "seller": "nan",
         "price": 1200000,
         "area_total": 32,
         "area_kitchen": "nan",
         "area_living": "nan",
         "floor": 1,
         "rooms": 1,
         "layout": "nan",
         "ceiling": "nan",
         "bathrooms_shared": 1,
         "bathrooms_private": 0,
         "windows_court": "nan",
         "windows_street": "nan",
         "balconies": "nan",
         "loggias": "nan",
         "condition": 1,
         "phones": 1,
         "building_id": 9436,
         "new": 0,
         "district": 8,
         "street": "улица Центральная",
         "address": "24",
         "constructed": 2010,
         "material": 2,
         "stories": 3,
         "elevator_without": 1,
         "elevator_passenger": 0,
         "elevator_service": 0,
         "parking": "nan",
         "garbage_chute": 0,
         "heating": 3,
         "price/area": 37500,
         "distance": 0.238880473546916,
         "_deepnote_index_column": 20329
        },
        {
         "id": 20333,
         "seller": "nan",
         "price": 8300000,
         "area_total": 165,
         "area_kitchen": "nan",
         "area_living": "nan",
         "floor": 4,
         "rooms": 4,
         "layout": "nan",
         "ceiling": "nan",
         "bathrooms_shared": "nan",
         "bathrooms_private": "nan",
         "windows_court": "nan",
         "windows_street": "nan",
         "balconies": "nan",
         "loggias": "nan",
         "condition": "nan",
         "phones": "nan",
         "building_id": 8250,
         "new": "nan",
         "district": 10,
         "street": "улица Кленово",
         "address": "111",
         "constructed": "nan",
         "material": "nan",
         "stories": 5,
         "elevator_without": "nan",
         "elevator_passenger": "nan",
         "elevator_service": "nan",
         "parking": "nan",
         "garbage_chute": "nan",
         "heating": "nan",
         "price/area": 50303.030303030304,
         "distance": 0.49635550476044676,
         "_deepnote_index_column": 20333
        },
        {
         "id": 21393,
         "seller": 1,
         "price": 3000000,
         "area_total": 61,
         "area_kitchen": 9,
         "area_living": 34,
         "floor": 4,
         "rooms": 2,
         "layout": "nan",
         "ceiling": "nan",
         "bathrooms_shared": "nan",
         "bathrooms_private": "nan",
         "windows_court": 1,
         "windows_street": 0,
         "balconies": 0,
         "loggias": 1,
         "condition": 0,
         "phones": 2,
         "building_id": 6238,
         "new": 0,
         "district": 10,
         "street": "улица Березки",
         "address": "10к2",
         "constructed": 2016,
         "material": "nan",
         "stories": 4,
         "elevator_without": 1,
         "elevator_passenger": 0,
         "elevator_service": 0,
         "parking": 1,
         "garbage_chute": "nan",
         "heating": "nan",
         "price/area": 49180.32786885246,
         "distance": 0.7550836663344056,
         "_deepnote_index_column": 21393
        },
        {
         "id": 21407,
         "seller": 0,
         "price": 5350000,
         "area_total": 124,
         "area_kitchen": 15,
         "area_living": 65,
         "floor": 2,
         "rooms": 3,
         "layout": 1,
         "ceiling": 3,
         "bathrooms_shared": 0,
         "bathrooms_private": 3,
         "windows_court": 1,
         "windows_street": 0,
         "balconies": "nan",
         "loggias": "nan",
         "condition": 0,
         "phones": 1,
         "building_id": 542,
         "new": 0,
         "district": 2,
         "street": "улица Радужная",
         "address": "12",
         "constructed": 2012,
         "material": "nan",
         "stories": 3,
         "elevator_without": 1,
         "elevator_passenger": 0,
         "elevator_service": 0,
         "parking": 1,
         "garbage_chute": "nan",
         "heating": "nan",
         "price/area": 43145.16129032258,
         "distance": 0.13006369252793093,
         "_deepnote_index_column": 21407
        },
        {
         "id": 22401,
         "seller": 1,
         "price": 2500000,
         "area_total": 50,
         "area_kitchen": "nan",
         "area_living": 38,
         "floor": 4,
         "rooms": 1,
         "layout": "nan",
         "ceiling": "nan",
         "bathrooms_shared": 1,
         "bathrooms_private": 0,
         "windows_court": 1,
         "windows_street": 0,
         "balconies": "nan",
         "loggias": "nan",
         "condition": 1,
         "phones": 2,
         "building_id": 155,
         "new": 0,
         "district": 8,
         "street": "улица Центральная",
         "address": "30",
         "constructed": 2011,
         "material": 2,
         "stories": 4,
         "elevator_without": 1,
         "elevator_passenger": 1,
         "elevator_service": 0,
         "parking": 1,
         "garbage_chute": 1,
         "heating": 0,
         "price/area": 50000,
         "distance": 0.238880473546916,
         "_deepnote_index_column": 22401
        },
        {
         "id": 23222,
         "seller": "nan",
         "price": 2800000,
         "area_total": 89.4,
         "area_kitchen": "nan",
         "area_living": "nan",
         "floor": 4,
         "rooms": 3,
         "layout": "nan",
         "ceiling": "nan",
         "bathrooms_shared": "nan",
         "bathrooms_private": "nan",
         "windows_court": "nan",
         "windows_street": "nan",
         "balconies": 0,
         "loggias": 1,
         "condition": 0,
         "phones": 1,
         "building_id": 1157,
         "new": 0,
         "district": 10,
         "street": "База отдыха Витро Вилладж тер.",
         "address": "к1",
         "constructed": 2009,
         "material": 2,
         "stories": 5,
         "elevator_without": 0,
         "elevator_passenger": 1,
         "elevator_service": 1,
         "parking": 1,
         "garbage_chute": "nan",
         "heating": "nan",
         "price/area": 31319.910514541385,
         "distance": 0.4964174061754902,
         "_deepnote_index_column": 23222
        }
       ],
       "rows_bottom": null
      },
      "text/plain": "          id  seller       price  area_total  area_kitchen  area_living  \\\n2215    2215     NaN   1900000.0        55.8           NaN         35.0   \n2236    2236     1.0   3000000.0        60.0           8.0         45.0   \n2241    2241     1.0   3500000.0        75.0          12.0         41.0   \n2363    2363     2.0   7999999.0       343.0           NaN        222.0   \n7512    7512     1.0   2950000.0        60.0           8.3         34.0   \n7513    7513     1.0   3000000.0        60.3           9.0         48.0   \n7514    7514     1.0   3350000.0        75.0          12.0         41.0   \n7572    7572     0.0   1000000.0        21.0           4.0         14.0   \n11167  11167     1.0  13750000.0       271.0          25.0        150.0   \n13201  13201     1.0   2900000.0        60.0           NaN         60.0   \n13206  13206     0.0   1150000.0        29.0           6.0         18.0   \n13207  13207     0.0   1400000.0        37.0           6.0          NaN   \n13642  13642     1.0   4200000.0       105.6          20.0         30.0   \n13724  13724     NaN   2950000.0        61.0           8.0         34.0   \n13725  13725     NaN   2500000.0       101.9           NaN         55.0   \n16636  16636     2.0   5500000.0       153.5          18.1         61.1   \n20314  20314     1.0   2900000.0        60.0           NaN         60.0   \n20317  20317     2.0   3900000.0        99.3          20.0         65.0   \n20329  20329     NaN   1200000.0        32.0           NaN          NaN   \n20333  20333     NaN   8300000.0       165.0           NaN          NaN   \n21393  21393     1.0   3000000.0        61.0           9.0         34.0   \n21407  21407     0.0   5350000.0       124.0          15.0         65.0   \n22401  22401     1.0   2500000.0        50.0           NaN         38.0   \n23222  23222     NaN   2800000.0        89.4           NaN          NaN   \n\n       floor  rooms  layout  ceiling  ...  material  stories  \\\n2215     1.0    1.0     NaN      NaN  ...       2.0      5.0   \n2236     3.0    3.0     1.0      NaN  ...       NaN      4.0   \n2241     2.0    3.0     1.0      NaN  ...       NaN      5.0   \n2363     2.0    6.0     NaN      NaN  ...       2.0     25.0   \n7512     4.0    2.0     1.0      NaN  ...       NaN      4.0   \n7513     4.0    2.0     1.0      NaN  ...       NaN      4.0   \n7514     5.0    3.0     1.0      NaN  ...       NaN      5.0   \n7572     1.0    1.0     NaN      NaN  ...       2.0      4.0   \n11167    4.0    6.0     1.0      NaN  ...       4.0      5.0   \n13201    1.0    1.0     NaN      NaN  ...       2.0      3.0   \n13206    1.0    1.0     NaN      NaN  ...       NaN      2.0   \n13207    2.0    2.0     NaN      NaN  ...       NaN      2.0   \n13642    5.0    1.0     NaN      NaN  ...       0.0      5.0   \n13724    4.0    2.0     1.0      3.0  ...       NaN      4.0   \n13725    1.0    1.0     NaN      3.5  ...       2.0      5.0   \n16636    1.0    3.0     1.0      NaN  ...       4.0      4.0   \n20314    1.0    1.0     NaN      NaN  ...       2.0      3.0   \n20317    3.0    3.0     1.0      3.2  ...       2.0      5.0   \n20329    1.0    1.0     NaN      NaN  ...       2.0      3.0   \n20333    4.0    4.0     NaN      NaN  ...       NaN      5.0   \n21393    4.0    2.0     NaN      NaN  ...       NaN      4.0   \n21407    2.0    3.0     1.0      3.0  ...       NaN      3.0   \n22401    4.0    1.0     NaN      NaN  ...       2.0      4.0   \n23222    4.0    3.0     NaN      NaN  ...       2.0      5.0   \n\n       elevator_without  elevator_passenger  elevator_service  parking  \\\n2215                0.0                 1.0               1.0      1.0   \n2236                NaN                 NaN               NaN      NaN   \n2241                NaN                 NaN               NaN      NaN   \n2363                1.0                 1.0               1.0      1.0   \n7512                NaN                 NaN               NaN      NaN   \n7513                1.0                 0.0               0.0      1.0   \n7514                NaN                 NaN               NaN      NaN   \n7572                1.0                 0.0               0.0      1.0   \n11167               1.0                 0.0               0.0      NaN   \n13201               1.0                 0.0               0.0      1.0   \n13206               NaN                 NaN               NaN      NaN   \n13207               NaN                 NaN               NaN      NaN   \n13642               0.0                 1.0               0.0      NaN   \n13724               1.0                 0.0               0.0      1.0   \n13725               0.0                 1.0               1.0      1.0   \n16636               1.0                 0.0               0.0      NaN   \n20314               1.0                 0.0               0.0      1.0   \n20317               0.0                 1.0               1.0      1.0   \n20329               1.0                 0.0               0.0      NaN   \n20333               NaN                 NaN               NaN      NaN   \n21393               1.0                 0.0               0.0      1.0   \n21407               1.0                 0.0               0.0      1.0   \n22401               1.0                 1.0               0.0      1.0   \n23222               0.0                 1.0               1.0      1.0   \n\n       garbage_chute  heating    price/area  distance  \n2215             0.0      NaN  34050.179211  0.495102  \n2236             NaN      NaN  50000.000000  0.753930  \n2241             NaN      NaN  46666.666667  0.245644  \n2363             1.0      0.0  23323.612245  0.128081  \n7512             NaN      NaN  49166.666667  0.753930  \n7513             NaN      NaN  49751.243781  0.755084  \n7514             NaN      NaN  44666.666667  0.748937  \n7572             NaN      0.0  47619.047619  0.254783  \n11167            NaN      0.0  50738.007380  0.131647  \n13201            0.0      1.0  48333.333333  0.238612  \n13206            NaN      NaN  39655.172414  0.418337  \n13207            NaN      NaN  37837.837838  0.418337  \n13642            NaN      NaN  39772.727273  0.477017  \n13724            NaN      NaN  48360.655738  0.755084  \n13725            0.0      NaN  24533.856722  0.495102  \n16636            0.0      0.0  35830.618893  0.128923  \n20314            0.0      1.0  48333.333333  0.238612  \n20317            NaN      NaN  39274.924471  0.496417  \n20329            0.0      3.0  37500.000000  0.238880  \n20333            NaN      NaN  50303.030303  0.496356  \n21393            NaN      NaN  49180.327869  0.755084  \n21407            NaN      NaN  43145.161290  0.130064  \n22401            1.0      0.0  50000.000000  0.238880  \n23222            NaN      NaN  31319.910515  0.496417  \n\n[24 rows x 34 columns]",
      "text/html": "<div>\n<style scoped>\n    .dataframe tbody tr th:only-of-type {\n        vertical-align: middle;\n    }\n\n    .dataframe tbody tr th {\n        vertical-align: top;\n    }\n\n    .dataframe thead th {\n        text-align: right;\n    }\n</style>\n<table border=\"1\" class=\"dataframe\">\n  <thead>\n    <tr style=\"text-align: right;\">\n      <th></th>\n      <th>id</th>\n      <th>seller</th>\n      <th>price</th>\n      <th>area_total</th>\n      <th>area_kitchen</th>\n      <th>area_living</th>\n      <th>floor</th>\n      <th>rooms</th>\n      <th>layout</th>\n      <th>ceiling</th>\n      <th>...</th>\n      <th>material</th>\n      <th>stories</th>\n      <th>elevator_without</th>\n      <th>elevator_passenger</th>\n      <th>elevator_service</th>\n      <th>parking</th>\n      <th>garbage_chute</th>\n      <th>heating</th>\n      <th>price/area</th>\n      <th>distance</th>\n    </tr>\n  </thead>\n  <tbody>\n    <tr>\n      <th>2215</th>\n      <td>2215</td>\n      <td>NaN</td>\n      <td>1900000.0</td>\n      <td>55.8</td>\n      <td>NaN</td>\n      <td>35.0</td>\n      <td>1.0</td>\n      <td>1.0</td>\n      <td>NaN</td>\n      <td>NaN</td>\n      <td>...</td>\n      <td>2.0</td>\n      <td>5.0</td>\n      <td>0.0</td>\n      <td>1.0</td>\n      <td>1.0</td>\n      <td>1.0</td>\n      <td>0.0</td>\n      <td>NaN</td>\n      <td>34050.179211</td>\n      <td>0.495102</td>\n    </tr>\n    <tr>\n      <th>2236</th>\n      <td>2236</td>\n      <td>1.0</td>\n      <td>3000000.0</td>\n      <td>60.0</td>\n      <td>8.0</td>\n      <td>45.0</td>\n      <td>3.0</td>\n      <td>3.0</td>\n      <td>1.0</td>\n      <td>NaN</td>\n      <td>...</td>\n      <td>NaN</td>\n      <td>4.0</td>\n      <td>NaN</td>\n      <td>NaN</td>\n      <td>NaN</td>\n      <td>NaN</td>\n      <td>NaN</td>\n      <td>NaN</td>\n      <td>50000.000000</td>\n      <td>0.753930</td>\n    </tr>\n    <tr>\n      <th>2241</th>\n      <td>2241</td>\n      <td>1.0</td>\n      <td>3500000.0</td>\n      <td>75.0</td>\n      <td>12.0</td>\n      <td>41.0</td>\n      <td>2.0</td>\n      <td>3.0</td>\n      <td>1.0</td>\n      <td>NaN</td>\n      <td>...</td>\n      <td>NaN</td>\n      <td>5.0</td>\n      <td>NaN</td>\n      <td>NaN</td>\n      <td>NaN</td>\n      <td>NaN</td>\n      <td>NaN</td>\n      <td>NaN</td>\n      <td>46666.666667</td>\n      <td>0.245644</td>\n    </tr>\n    <tr>\n      <th>2363</th>\n      <td>2363</td>\n      <td>2.0</td>\n      <td>7999999.0</td>\n      <td>343.0</td>\n      <td>NaN</td>\n      <td>222.0</td>\n      <td>2.0</td>\n      <td>6.0</td>\n      <td>NaN</td>\n      <td>NaN</td>\n      <td>...</td>\n      <td>2.0</td>\n      <td>25.0</td>\n      <td>1.0</td>\n      <td>1.0</td>\n      <td>1.0</td>\n      <td>1.0</td>\n      <td>1.0</td>\n      <td>0.0</td>\n      <td>23323.612245</td>\n      <td>0.128081</td>\n    </tr>\n    <tr>\n      <th>7512</th>\n      <td>7512</td>\n      <td>1.0</td>\n      <td>2950000.0</td>\n      <td>60.0</td>\n      <td>8.3</td>\n      <td>34.0</td>\n      <td>4.0</td>\n      <td>2.0</td>\n      <td>1.0</td>\n      <td>NaN</td>\n      <td>...</td>\n      <td>NaN</td>\n      <td>4.0</td>\n      <td>NaN</td>\n      <td>NaN</td>\n      <td>NaN</td>\n      <td>NaN</td>\n      <td>NaN</td>\n      <td>NaN</td>\n      <td>49166.666667</td>\n      <td>0.753930</td>\n    </tr>\n    <tr>\n      <th>7513</th>\n      <td>7513</td>\n      <td>1.0</td>\n      <td>3000000.0</td>\n      <td>60.3</td>\n      <td>9.0</td>\n      <td>48.0</td>\n      <td>4.0</td>\n      <td>2.0</td>\n      <td>1.0</td>\n      <td>NaN</td>\n      <td>...</td>\n      <td>NaN</td>\n      <td>4.0</td>\n      <td>1.0</td>\n      <td>0.0</td>\n      <td>0.0</td>\n      <td>1.0</td>\n      <td>NaN</td>\n      <td>NaN</td>\n      <td>49751.243781</td>\n      <td>0.755084</td>\n    </tr>\n    <tr>\n      <th>7514</th>\n      <td>7514</td>\n      <td>1.0</td>\n      <td>3350000.0</td>\n      <td>75.0</td>\n      <td>12.0</td>\n      <td>41.0</td>\n      <td>5.0</td>\n      <td>3.0</td>\n      <td>1.0</td>\n      <td>NaN</td>\n      <td>...</td>\n      <td>NaN</td>\n      <td>5.0</td>\n      <td>NaN</td>\n      <td>NaN</td>\n      <td>NaN</td>\n      <td>NaN</td>\n      <td>NaN</td>\n      <td>NaN</td>\n      <td>44666.666667</td>\n      <td>0.748937</td>\n    </tr>\n    <tr>\n      <th>7572</th>\n      <td>7572</td>\n      <td>0.0</td>\n      <td>1000000.0</td>\n      <td>21.0</td>\n      <td>4.0</td>\n      <td>14.0</td>\n      <td>1.0</td>\n      <td>1.0</td>\n      <td>NaN</td>\n      <td>NaN</td>\n      <td>...</td>\n      <td>2.0</td>\n      <td>4.0</td>\n      <td>1.0</td>\n      <td>0.0</td>\n      <td>0.0</td>\n      <td>1.0</td>\n      <td>NaN</td>\n      <td>0.0</td>\n      <td>47619.047619</td>\n      <td>0.254783</td>\n    </tr>\n    <tr>\n      <th>11167</th>\n      <td>11167</td>\n      <td>1.0</td>\n      <td>13750000.0</td>\n      <td>271.0</td>\n      <td>25.0</td>\n      <td>150.0</td>\n      <td>4.0</td>\n      <td>6.0</td>\n      <td>1.0</td>\n      <td>NaN</td>\n      <td>...</td>\n      <td>4.0</td>\n      <td>5.0</td>\n      <td>1.0</td>\n      <td>0.0</td>\n      <td>0.0</td>\n      <td>NaN</td>\n      <td>NaN</td>\n      <td>0.0</td>\n      <td>50738.007380</td>\n      <td>0.131647</td>\n    </tr>\n    <tr>\n      <th>13201</th>\n      <td>13201</td>\n      <td>1.0</td>\n      <td>2900000.0</td>\n      <td>60.0</td>\n      <td>NaN</td>\n      <td>60.0</td>\n      <td>1.0</td>\n      <td>1.0</td>\n      <td>NaN</td>\n      <td>NaN</td>\n      <td>...</td>\n      <td>2.0</td>\n      <td>3.0</td>\n      <td>1.0</td>\n      <td>0.0</td>\n      <td>0.0</td>\n      <td>1.0</td>\n      <td>0.0</td>\n      <td>1.0</td>\n      <td>48333.333333</td>\n      <td>0.238612</td>\n    </tr>\n    <tr>\n      <th>13206</th>\n      <td>13206</td>\n      <td>0.0</td>\n      <td>1150000.0</td>\n      <td>29.0</td>\n      <td>6.0</td>\n      <td>18.0</td>\n      <td>1.0</td>\n      <td>1.0</td>\n      <td>NaN</td>\n      <td>NaN</td>\n      <td>...</td>\n      <td>NaN</td>\n      <td>2.0</td>\n      <td>NaN</td>\n      <td>NaN</td>\n      <td>NaN</td>\n      <td>NaN</td>\n      <td>NaN</td>\n      <td>NaN</td>\n      <td>39655.172414</td>\n      <td>0.418337</td>\n    </tr>\n    <tr>\n      <th>13207</th>\n      <td>13207</td>\n      <td>0.0</td>\n      <td>1400000.0</td>\n      <td>37.0</td>\n      <td>6.0</td>\n      <td>NaN</td>\n      <td>2.0</td>\n      <td>2.0</td>\n      <td>NaN</td>\n      <td>NaN</td>\n      <td>...</td>\n      <td>NaN</td>\n      <td>2.0</td>\n      <td>NaN</td>\n      <td>NaN</td>\n      <td>NaN</td>\n      <td>NaN</td>\n      <td>NaN</td>\n      <td>NaN</td>\n      <td>37837.837838</td>\n      <td>0.418337</td>\n    </tr>\n    <tr>\n      <th>13642</th>\n      <td>13642</td>\n      <td>1.0</td>\n      <td>4200000.0</td>\n      <td>105.6</td>\n      <td>20.0</td>\n      <td>30.0</td>\n      <td>5.0</td>\n      <td>1.0</td>\n      <td>NaN</td>\n      <td>NaN</td>\n      <td>...</td>\n      <td>0.0</td>\n      <td>5.0</td>\n      <td>0.0</td>\n      <td>1.0</td>\n      <td>0.0</td>\n      <td>NaN</td>\n      <td>NaN</td>\n      <td>NaN</td>\n      <td>39772.727273</td>\n      <td>0.477017</td>\n    </tr>\n    <tr>\n      <th>13724</th>\n      <td>13724</td>\n      <td>NaN</td>\n      <td>2950000.0</td>\n      <td>61.0</td>\n      <td>8.0</td>\n      <td>34.0</td>\n      <td>4.0</td>\n      <td>2.0</td>\n      <td>1.0</td>\n      <td>3.0</td>\n      <td>...</td>\n      <td>NaN</td>\n      <td>4.0</td>\n      <td>1.0</td>\n      <td>0.0</td>\n      <td>0.0</td>\n      <td>1.0</td>\n      <td>NaN</td>\n      <td>NaN</td>\n      <td>48360.655738</td>\n      <td>0.755084</td>\n    </tr>\n    <tr>\n      <th>13725</th>\n      <td>13725</td>\n      <td>NaN</td>\n      <td>2500000.0</td>\n      <td>101.9</td>\n      <td>NaN</td>\n      <td>55.0</td>\n      <td>1.0</td>\n      <td>1.0</td>\n      <td>NaN</td>\n      <td>3.5</td>\n      <td>...</td>\n      <td>2.0</td>\n      <td>5.0</td>\n      <td>0.0</td>\n      <td>1.0</td>\n      <td>1.0</td>\n      <td>1.0</td>\n      <td>0.0</td>\n      <td>NaN</td>\n      <td>24533.856722</td>\n      <td>0.495102</td>\n    </tr>\n    <tr>\n      <th>16636</th>\n      <td>16636</td>\n      <td>2.0</td>\n      <td>5500000.0</td>\n      <td>153.5</td>\n      <td>18.1</td>\n      <td>61.1</td>\n      <td>1.0</td>\n      <td>3.0</td>\n      <td>1.0</td>\n      <td>NaN</td>\n      <td>...</td>\n      <td>4.0</td>\n      <td>4.0</td>\n      <td>1.0</td>\n      <td>0.0</td>\n      <td>0.0</td>\n      <td>NaN</td>\n      <td>0.0</td>\n      <td>0.0</td>\n      <td>35830.618893</td>\n      <td>0.128923</td>\n    </tr>\n    <tr>\n      <th>20314</th>\n      <td>20314</td>\n      <td>1.0</td>\n      <td>2900000.0</td>\n      <td>60.0</td>\n      <td>NaN</td>\n      <td>60.0</td>\n      <td>1.0</td>\n      <td>1.0</td>\n      <td>NaN</td>\n      <td>NaN</td>\n      <td>...</td>\n      <td>2.0</td>\n      <td>3.0</td>\n      <td>1.0</td>\n      <td>0.0</td>\n      <td>0.0</td>\n      <td>1.0</td>\n      <td>0.0</td>\n      <td>1.0</td>\n      <td>48333.333333</td>\n      <td>0.238612</td>\n    </tr>\n    <tr>\n      <th>20317</th>\n      <td>20317</td>\n      <td>2.0</td>\n      <td>3900000.0</td>\n      <td>99.3</td>\n      <td>20.0</td>\n      <td>65.0</td>\n      <td>3.0</td>\n      <td>3.0</td>\n      <td>1.0</td>\n      <td>3.2</td>\n      <td>...</td>\n      <td>2.0</td>\n      <td>5.0</td>\n      <td>0.0</td>\n      <td>1.0</td>\n      <td>1.0</td>\n      <td>1.0</td>\n      <td>NaN</td>\n      <td>NaN</td>\n      <td>39274.924471</td>\n      <td>0.496417</td>\n    </tr>\n    <tr>\n      <th>20329</th>\n      <td>20329</td>\n      <td>NaN</td>\n      <td>1200000.0</td>\n      <td>32.0</td>\n      <td>NaN</td>\n      <td>NaN</td>\n      <td>1.0</td>\n      <td>1.0</td>\n      <td>NaN</td>\n      <td>NaN</td>\n      <td>...</td>\n      <td>2.0</td>\n      <td>3.0</td>\n      <td>1.0</td>\n      <td>0.0</td>\n      <td>0.0</td>\n      <td>NaN</td>\n      <td>0.0</td>\n      <td>3.0</td>\n      <td>37500.000000</td>\n      <td>0.238880</td>\n    </tr>\n    <tr>\n      <th>20333</th>\n      <td>20333</td>\n      <td>NaN</td>\n      <td>8300000.0</td>\n      <td>165.0</td>\n      <td>NaN</td>\n      <td>NaN</td>\n      <td>4.0</td>\n      <td>4.0</td>\n      <td>NaN</td>\n      <td>NaN</td>\n      <td>...</td>\n      <td>NaN</td>\n      <td>5.0</td>\n      <td>NaN</td>\n      <td>NaN</td>\n      <td>NaN</td>\n      <td>NaN</td>\n      <td>NaN</td>\n      <td>NaN</td>\n      <td>50303.030303</td>\n      <td>0.496356</td>\n    </tr>\n    <tr>\n      <th>21393</th>\n      <td>21393</td>\n      <td>1.0</td>\n      <td>3000000.0</td>\n      <td>61.0</td>\n      <td>9.0</td>\n      <td>34.0</td>\n      <td>4.0</td>\n      <td>2.0</td>\n      <td>NaN</td>\n      <td>NaN</td>\n      <td>...</td>\n      <td>NaN</td>\n      <td>4.0</td>\n      <td>1.0</td>\n      <td>0.0</td>\n      <td>0.0</td>\n      <td>1.0</td>\n      <td>NaN</td>\n      <td>NaN</td>\n      <td>49180.327869</td>\n      <td>0.755084</td>\n    </tr>\n    <tr>\n      <th>21407</th>\n      <td>21407</td>\n      <td>0.0</td>\n      <td>5350000.0</td>\n      <td>124.0</td>\n      <td>15.0</td>\n      <td>65.0</td>\n      <td>2.0</td>\n      <td>3.0</td>\n      <td>1.0</td>\n      <td>3.0</td>\n      <td>...</td>\n      <td>NaN</td>\n      <td>3.0</td>\n      <td>1.0</td>\n      <td>0.0</td>\n      <td>0.0</td>\n      <td>1.0</td>\n      <td>NaN</td>\n      <td>NaN</td>\n      <td>43145.161290</td>\n      <td>0.130064</td>\n    </tr>\n    <tr>\n      <th>22401</th>\n      <td>22401</td>\n      <td>1.0</td>\n      <td>2500000.0</td>\n      <td>50.0</td>\n      <td>NaN</td>\n      <td>38.0</td>\n      <td>4.0</td>\n      <td>1.0</td>\n      <td>NaN</td>\n      <td>NaN</td>\n      <td>...</td>\n      <td>2.0</td>\n      <td>4.0</td>\n      <td>1.0</td>\n      <td>1.0</td>\n      <td>0.0</td>\n      <td>1.0</td>\n      <td>1.0</td>\n      <td>0.0</td>\n      <td>50000.000000</td>\n      <td>0.238880</td>\n    </tr>\n    <tr>\n      <th>23222</th>\n      <td>23222</td>\n      <td>NaN</td>\n      <td>2800000.0</td>\n      <td>89.4</td>\n      <td>NaN</td>\n      <td>NaN</td>\n      <td>4.0</td>\n      <td>3.0</td>\n      <td>NaN</td>\n      <td>NaN</td>\n      <td>...</td>\n      <td>2.0</td>\n      <td>5.0</td>\n      <td>0.0</td>\n      <td>1.0</td>\n      <td>1.0</td>\n      <td>1.0</td>\n      <td>NaN</td>\n      <td>NaN</td>\n      <td>31319.910515</td>\n      <td>0.496417</td>\n    </tr>\n  </tbody>\n</table>\n<p>24 rows × 34 columns</p>\n</div>"
     },
     "metadata": {}
    }
   ],
   "execution_count": null
  },
  {
   "cell_type": "code",
   "metadata": {
    "tags": [],
    "deepnote_to_be_reexecuted": false,
    "source_hash": "44a2eb40",
    "execution_start": 1637359918240,
    "execution_millis": 11,
    "cell_id": "00009-de0151db-3eb3-4025-9f22-8c249b3e5dac",
    "deepnote_cell_type": "code"
   },
   "source": "a = list(df[df2['price/area'] > maxtreshold].id.values)\nb = list(df[df2['price/area'] < mintreshold].id.values)\nc = a + b",
   "outputs": [],
   "execution_count": null
  },
  {
   "cell_type": "code",
   "metadata": {
    "tags": [],
    "deepnote_to_be_reexecuted": false,
    "source_hash": "eec5f2e7",
    "execution_start": 1637359921645,
    "execution_millis": 15,
    "deepnote_output_heights": [
     21.1875
    ],
    "cell_id": "00010-80a46395-7327-4487-bb39-555f5332c764",
    "deepnote_cell_type": "code"
   },
   "source": "a = df.shape\ndf.drop(c, axis=0, inplace=True)\nb = df.shape\na,b",
   "outputs": [
    {
     "output_type": "execute_result",
     "execution_count": 9,
     "data": {
      "text/plain": "((23285, 34), (23237, 34))"
     },
     "metadata": {}
    }
   ],
   "execution_count": null
  },
  {
   "cell_type": "code",
   "metadata": {
    "tags": [],
    "deepnote_to_be_reexecuted": false,
    "source_hash": "de1e323c",
    "execution_start": 1637359926202,
    "execution_millis": 41,
    "cell_id": "00011-0c525563-f4be-45c2-a830-fa044101458b",
    "deepnote_cell_type": "code"
   },
   "source": "df.info()",
   "outputs": [
    {
     "name": "stdout",
     "text": "<class 'pandas.core.frame.DataFrame'>\nInt64Index: 23237 entries, 0 to 23284\nData columns (total 34 columns):\n #   Column              Non-Null Count  Dtype  \n---  ------              --------------  -----  \n 0   id                  23237 non-null  int64  \n 1   seller              14435 non-null  float64\n 2   price               23237 non-null  float64\n 3   area_total          23237 non-null  float64\n 4   area_kitchen        18538 non-null  float64\n 5   area_living         19372 non-null  float64\n 6   floor               23237 non-null  float64\n 7   rooms               23237 non-null  float64\n 8   layout              5626 non-null   float64\n 9   ceiling             12181 non-null  float64\n 10  bathrooms_shared    19378 non-null  float64\n 11  bathrooms_private   19378 non-null  float64\n 12  windows_court       15188 non-null  float64\n 13  windows_street      15188 non-null  float64\n 14  balconies           12745 non-null  float64\n 15  loggias             12745 non-null  float64\n 16  condition           13440 non-null  float64\n 17  phones              23158 non-null  float64\n 18  building_id         23237 non-null  int64  \n 19  new                 22974 non-null  float64\n 20  district            23107 non-null  float64\n 21  street              23237 non-null  object \n 22  address             23237 non-null  object \n 23  constructed         22449 non-null  float64\n 24  material            19278 non-null  float64\n 25  stories             23237 non-null  float64\n 26  elevator_without    22887 non-null  float64\n 27  elevator_passenger  22887 non-null  float64\n 28  elevator_service    22887 non-null  float64\n 29  parking             16464 non-null  float64\n 30  garbage_chute       14450 non-null  float64\n 31  heating             15102 non-null  float64\n 32  price/area          23237 non-null  float64\n 33  distance            23237 non-null  float64\ndtypes: float64(30), int64(2), object(2)\nmemory usage: 6.2+ MB\n",
     "output_type": "stream"
    }
   ],
   "execution_count": null
  },
  {
   "cell_type": "code",
   "metadata": {
    "tags": [],
    "deepnote_to_be_reexecuted": false,
    "source_hash": "4633ff2e",
    "execution_start": 1637359931297,
    "execution_millis": 2,
    "deepnote_output_heights": [
     21.1875
    ],
    "cell_id": "00012-0593cb0d-9526-4b79-8ce8-14f0bb9bbe25",
    "deepnote_cell_type": "code"
   },
   "source": "df['street'].isnull().sum()",
   "outputs": [
    {
     "output_type": "execute_result",
     "execution_count": 11,
     "data": {
      "text/plain": "0"
     },
     "metadata": {}
    }
   ],
   "execution_count": null
  },
  {
   "cell_type": "code",
   "metadata": {
    "tags": [],
    "deepnote_to_be_reexecuted": false,
    "source_hash": "a16d1239",
    "execution_start": 1637359978395,
    "execution_millis": 4,
    "deepnote_output_heights": [
     155.59375
    ],
    "cell_id": "00013-b8977ee0-9dc5-4d9b-80fe-b65c3f251672",
    "deepnote_cell_type": "code"
   },
   "source": "df0 = df.drop(['street', 'address'], axis=1)\ndf0_test = df_test.drop(['street', 'address'], axis=1)\n\ndf0.columns",
   "outputs": [
    {
     "output_type": "execute_result",
     "execution_count": 13,
     "data": {
      "text/plain": "Index(['id', 'seller', 'price', 'area_total', 'area_kitchen', 'area_living',\n       'floor', 'rooms', 'layout', 'ceiling', 'bathrooms_shared',\n       'bathrooms_private', 'windows_court', 'windows_street', 'balconies',\n       'loggias', 'condition', 'phones', 'building_id', 'new', 'district',\n       'constructed', 'material', 'stories', 'elevator_without',\n       'elevator_passenger', 'elevator_service', 'parking', 'garbage_chute',\n       'heating', 'price/area', 'distance'],\n      dtype='object')"
     },
     "metadata": {}
    }
   ],
   "execution_count": null
  },
  {
   "cell_type": "code",
   "metadata": {
    "tags": [],
    "deepnote_to_be_reexecuted": false,
    "source_hash": "25f3507d",
    "execution_start": 1637360030256,
    "execution_millis": 680,
    "deepnote_output_heights": [
     606.625
    ],
    "cell_id": "00014-3f977086-f44d-4806-8422-c8ad048779b6",
    "deepnote_cell_type": "code"
   },
   "source": "import sys\n# 'seller', 'layout', 'ceiling', 'balconies', 'loggias', 'condition', 'garbage_chute', 'heating'\n\n#sys.setrecursionlimit(100000) #Increase the recursion limit of the OS\n\n# start the KNN training\nimputer = KNNImputer()\nimputer.fit(df0)\ndftrans = imputer.transform(df0)\n\nimputer.fit(df0_test)\ndftrans_test = imputer.transform(df0_test)\n",
   "outputs": [
    {
     "output_type": "error",
     "ename": "NameError",
     "evalue": "name 'KNNImputer' is not defined",
     "traceback": [
      "\u001b[0;31m---------------------------------------------------------------------------\u001b[0m",
      "\u001b[0;31mNameError\u001b[0m                                 Traceback (most recent call last)",
      "\u001b[0;32m<ipython-input-1-92cb8d97cee7>\u001b[0m in \u001b[0;36m<module>\u001b[0;34m\u001b[0m\n\u001b[1;32m      5\u001b[0m \u001b[0;34m\u001b[0m\u001b[0m\n\u001b[1;32m      6\u001b[0m \u001b[0;31m# start the KNN training\u001b[0m\u001b[0;34m\u001b[0m\u001b[0;34m\u001b[0m\u001b[0m\n\u001b[0;32m----> 7\u001b[0;31m \u001b[0mimputer\u001b[0m \u001b[0;34m=\u001b[0m \u001b[0mKNNImputer\u001b[0m\u001b[0;34m(\u001b[0m\u001b[0;34m)\u001b[0m\u001b[0;34m\u001b[0m\u001b[0;34m\u001b[0m\u001b[0m\n\u001b[0m\u001b[1;32m      8\u001b[0m \u001b[0mimputer\u001b[0m\u001b[0;34m.\u001b[0m\u001b[0mfit\u001b[0m\u001b[0;34m(\u001b[0m\u001b[0mdf0\u001b[0m\u001b[0;34m)\u001b[0m\u001b[0;34m\u001b[0m\u001b[0;34m\u001b[0m\u001b[0m\n\u001b[1;32m      9\u001b[0m \u001b[0mdftrans\u001b[0m \u001b[0;34m=\u001b[0m \u001b[0mimputer\u001b[0m\u001b[0;34m.\u001b[0m\u001b[0mtransform\u001b[0m\u001b[0;34m(\u001b[0m\u001b[0mdf0\u001b[0m\u001b[0;34m)\u001b[0m\u001b[0;34m\u001b[0m\u001b[0;34m\u001b[0m\u001b[0m\n",
      "\u001b[0;31mNameError\u001b[0m: name 'KNNImputer' is not defined"
     ]
    }
   ],
   "execution_count": null
  },
  {
   "cell_type": "code",
   "metadata": {
    "tags": [],
    "deepnote_to_be_reexecuted": false,
    "source_hash": "d9069334",
    "execution_start": 1637358296530,
    "execution_millis": 2,
    "deepnote_output_heights": [
     21.1875
    ],
    "cell_id": "00015-2e337ac1-4719-4a2d-bcaa-19051e2e2727",
    "deepnote_cell_type": "code"
   },
   "source": "\"\"\"\ndf = df.drop(['seller', 'layout', 'ceiling', 'balconies', 'loggias', 'condition', 'garbage_chute', 'heating'], axis=1)\n\ndf.area_kitchen.fillna(df.area_total *0.20382557322076747, inplace=True)\ndf.area_living.fillna(df.area_total *0.5489437954371277, inplace=True)\ndf.bathrooms_shared.fillna(df.bathrooms_shared.mode()[0], inplace = True)\ndf.bathrooms_private.fillna(df.bathrooms_private.mode()[0], inplace = True)\ndf.windows_court.fillna(df.windows_court.mode()[0], inplace = True)\ndf.windows_street.fillna(df.windows_street.mode()[0], inplace = True)\ndf.phones.fillna(df.phones.mode()[0], inplace=True)\ndf.new.fillna(df.new.mode()[0], inplace = True)\ndf.latitude.fillna(df.latitude.mean(), inplace = True)\ndf.longitude.fillna(df.longitude.mean(), inplace = True)\ndf.district.fillna(df.district.mode()[0], inplace = True)\ndf.constructed.fillna(df.constructed.mode()[0], inplace = True)\ndf.material.fillna(df.material.mode()[0], inplace = True)\ndf.elevator_without.fillna(df.elevator_without.mode()[0], inplace = True)\ndf.elevator_passenger.fillna(df.elevator_passenger.mode()[0], inplace = True)\ndf.elevator_service.fillna(df.elevator_service.mode()[0], inplace = True)\ndf.parking.fillna(df.parking.mode()[0], inplace = True)\ndf.shape\ndf.isnull().sum()\n\"\"\"",
   "outputs": [
    {
     "output_type": "execute_result",
     "execution_count": 16,
     "data": {
      "text/plain": "\"\\ndf = df.drop(['seller', 'layout', 'ceiling', 'balconies', 'loggias', 'condition', 'garbage_chute', 'heating'], axis=1)\\n\\ndf.area_kitchen.fillna(df.area_total *0.20382557322076747, inplace=True)\\ndf.area_living.fillna(df.area_total *0.5489437954371277, inplace=True)\\ndf.bathrooms_shared.fillna(df.bathrooms_shared.mode()[0], inplace = True)\\ndf.bathrooms_private.fillna(df.bathrooms_private.mode()[0], inplace = True)\\ndf.windows_court.fillna(df.windows_court.mode()[0], inplace = True)\\ndf.windows_street.fillna(df.windows_street.mode()[0], inplace = True)\\ndf.phones.fillna(df.phones.mode()[0], inplace=True)\\ndf.new.fillna(df.new.mode()[0], inplace = True)\\ndf.latitude.fillna(df.latitude.mean(), inplace = True)\\ndf.longitude.fillna(df.longitude.mean(), inplace = True)\\ndf.district.fillna(df.district.mode()[0], inplace = True)\\ndf.constructed.fillna(df.constructed.mode()[0], inplace = True)\\ndf.material.fillna(df.material.mode()[0], inplace = True)\\ndf.elevator_without.fillna(df.elevator_without.mode()[0], inplace = True)\\ndf.elevator_passenger.fillna(df.elevator_passenger.mode()[0], inplace = True)\\ndf.elevator_service.fillna(df.elevator_service.mode()[0], inplace = True)\\ndf.parking.fillna(df.parking.mode()[0], inplace = True)\\ndf.shape\\ndf.isnull().sum()\\n\""
     },
     "metadata": {}
    }
   ],
   "execution_count": null
  },
  {
   "cell_type": "code",
   "metadata": {
    "tags": [],
    "deepnote_to_be_reexecuted": false,
    "source_hash": "71f4c532",
    "execution_start": 1637358336815,
    "execution_millis": 16,
    "deepnote_output_heights": [
     21.1875
    ],
    "cell_id": "00016-adb47516-8d98-49b6-9750-879de5cb7e7e",
    "deepnote_cell_type": "code"
   },
   "source": "\"\"\"df.elevator_without = df.elevator_without.astype(int)\ndf.floor = df.floor.astype(int)\ndf.rooms = df.rooms.astype(int)\ndf.bathrooms_shared = df.bathrooms_shared.astype(int)\ndf.bathrooms_private = df.bathrooms_private.astype(int)\ndf.windows_court = df.windows_court.astype(int)\ndf.windows_street = df.windows_street.astype(int)\ndf.phones = df.phones.astype(int)\ndf.new = df.new.astype(int)\ndf.district = df.district.astype(int)\ndf.constructed = df.constructed.astype(int)\ndf.material = df.material.astype(int)\ndf.stories = df.stories.astype(int)\ndf.elevator_without = df.elevator_without.astype(int)\ndf.elevator_passenger = df.elevator_passenger.astype(int)\ndf.elevator_service = df.elevator_service.astype(int)\ndf.parking = df.parking.astype(int)\n\"\"\"",
   "outputs": [
    {
     "output_type": "execute_result",
     "execution_count": 31,
     "data": {
      "text/plain": "'df.elevator_without = df.elevator_without.astype(int)\\ndf.floor = df.floor.astype(int)\\ndf.rooms = df.rooms.astype(int)\\ndf.bathrooms_shared = df.bathrooms_shared.astype(int)\\ndf.bathrooms_private = df.bathrooms_private.astype(int)\\ndf.windows_court = df.windows_court.astype(int)\\ndf.windows_street = df.windows_street.astype(int)\\ndf.phones = df.phones.astype(int)\\ndf.new = df.new.astype(int)\\ndf.district = df.district.astype(int)\\ndf.constructed = df.constructed.astype(int)\\ndf.material = df.material.astype(int)\\ndf.stories = df.stories.astype(int)\\ndf.elevator_without = df.elevator_without.astype(int)\\ndf.elevator_passenger = df.elevator_passenger.astype(int)\\ndf.elevator_service = df.elevator_service.astype(int)\\ndf.parking = df.parking.astype(int)\\n'"
     },
     "metadata": {}
    }
   ],
   "execution_count": null
  },
  {
   "cell_type": "code",
   "metadata": {
    "tags": [],
    "deepnote_to_be_reexecuted": false,
    "source_hash": "17bd1d69",
    "execution_start": 1637358340951,
    "execution_millis": 26,
    "deepnote_output_heights": [
     21.1875
    ],
    "cell_id": "00017-44850024-997c-4c13-8fae-89f06fcdb143",
    "deepnote_cell_type": "code"
   },
   "source": "df1 = pd.DataFrame(dftrans, columns=list(df0.columns.values))\ndf1_test = pd.DataFrame(dftrans_test, columns=list(df0_test.columns.values))\ndf1.isnull().sum()\ndf1.shape\nlen(df.street)",
   "outputs": [
    {
     "output_type": "execute_result",
     "execution_count": 32,
     "data": {
      "text/plain": "23237"
     },
     "metadata": {}
    }
   ],
   "execution_count": null
  },
  {
   "cell_type": "code",
   "metadata": {
    "tags": [],
    "deepnote_to_be_reexecuted": false,
    "source_hash": "fde72d5b",
    "execution_start": 1637358296610,
    "execution_millis": 310,
    "deepnote_output_heights": [
     21.1875
    ],
    "cell_id": "00018-936249bf-01d3-4000-91b4-ce5750cca6c8",
    "deepnote_cell_type": "code"
   },
   "source": "\"\"\"df1.elevator_without = df1.elevator_without.astype(int)\ndf1.floor = df1.floor.astype(int)\ndf1.rooms = df1.rooms.astype(int)\ndf1.bathrooms_shared = df1.bathrooms_shared.astype(int)\ndf1.bathrooms_private = df1.bathrooms_private.astype(int)\ndf1.windows_court = df1.windows_court.astype(int)\ndf1.windows_street = df1.windows_street.astype(int)\ndf1.phones = df1.phones.astype(int)\ndf1.new = df1.new.astype(int)\ndf1.district = df1.district.astype(int)\ndf1.constructed = df1.constructed.astype(int)\ndf1.material = df1.material.astype(int)\ndf1.stories = df1.stories.astype(int)\ndf1.elevator_without = df1.elevator_without.astype(int)\ndf1.elevator_passenger = df1.elevator_passenger.astype(int)\ndf1.elevator_service = df1.elevator_service.astype(int)\ndf1.parking = df1.parking.astype(int)\ndf1.garbage_chute = df1.garbage_chute.astype(int)\ndf1.heating = df1.heating.astype(int)\ndf1.building_id = df1.building_id.astype(int)\ndf1.condition = df1.condition.astype(int)\ndf1.loggias = df1.loggias.astype(int)\ndf1.balconies = df1.balconies.astype(int)\n#df1.ceiling = df1.ceiling.round(0)\n#df1.ceiling = df1.ceiling.astype(int)\"\"\"\n\n\n",
   "outputs": [
    {
     "output_type": "execute_result",
     "execution_count": 19,
     "data": {
      "text/plain": "'df1.elevator_without = df1.elevator_without.astype(int)\\ndf1.floor = df1.floor.astype(int)\\ndf1.rooms = df1.rooms.astype(int)\\ndf1.bathrooms_shared = df1.bathrooms_shared.astype(int)\\ndf1.bathrooms_private = df1.bathrooms_private.astype(int)\\ndf1.windows_court = df1.windows_court.astype(int)\\ndf1.windows_street = df1.windows_street.astype(int)\\ndf1.phones = df1.phones.astype(int)\\ndf1.new = df1.new.astype(int)\\ndf1.district = df1.district.astype(int)\\ndf1.constructed = df1.constructed.astype(int)\\ndf1.material = df1.material.astype(int)\\ndf1.stories = df1.stories.astype(int)\\ndf1.elevator_without = df1.elevator_without.astype(int)\\ndf1.elevator_passenger = df1.elevator_passenger.astype(int)\\ndf1.elevator_service = df1.elevator_service.astype(int)\\ndf1.parking = df1.parking.astype(int)\\ndf1.garbage_chute = df1.garbage_chute.astype(int)\\ndf1.heating = df1.heating.astype(int)\\ndf1.building_id = df1.building_id.astype(int)\\ndf1.condition = df1.condition.astype(int)\\ndf1.loggias = df1.loggias.astype(int)\\ndf1.balconies = df1.balconies.astype(int)\\n#df1.ceiling = df1.ceiling.round(0)\\n#df1.ceiling = df1.ceiling.astype(int)'"
     },
     "metadata": {}
    }
   ],
   "execution_count": null
  },
  {
   "cell_type": "code",
   "metadata": {
    "tags": [],
    "deepnote_to_be_reexecuted": false,
    "source_hash": "ea6c9ba",
    "execution_start": 1637358296647,
    "execution_millis": 323,
    "cell_id": "00019-9514f04b-525a-446f-9c47-0e1ab1bf6b17",
    "deepnote_cell_type": "code"
   },
   "source": "df1.head()",
   "outputs": [
    {
     "output_type": "execute_result",
     "execution_count": 20,
     "data": {
      "application/vnd.deepnote.dataframe.v2+json": {
       "row_count": 5,
       "column_count": 32,
       "columns": [
        {
         "name": "id",
         "dtype": "float64",
         "stats": {
          "unique_count": 5,
          "nan_count": 0,
          "min": "0.0",
          "max": "4.0",
          "histogram": [
           {
            "bin_start": 0,
            "bin_end": 0.4,
            "count": 1
           },
           {
            "bin_start": 0.4,
            "bin_end": 0.8,
            "count": 0
           },
           {
            "bin_start": 0.8,
            "bin_end": 1.2000000000000002,
            "count": 1
           },
           {
            "bin_start": 1.2000000000000002,
            "bin_end": 1.6,
            "count": 0
           },
           {
            "bin_start": 1.6,
            "bin_end": 2,
            "count": 0
           },
           {
            "bin_start": 2,
            "bin_end": 2.4000000000000004,
            "count": 1
           },
           {
            "bin_start": 2.4000000000000004,
            "bin_end": 2.8000000000000003,
            "count": 0
           },
           {
            "bin_start": 2.8000000000000003,
            "bin_end": 3.2,
            "count": 1
           },
           {
            "bin_start": 3.2,
            "bin_end": 3.6,
            "count": 0
           },
           {
            "bin_start": 3.6,
            "bin_end": 4,
            "count": 1
           }
          ]
         }
        },
        {
         "name": "seller",
         "dtype": "float64",
         "stats": {
          "unique_count": 3,
          "nan_count": 0,
          "min": "1.2",
          "max": "3.0",
          "histogram": [
           {
            "bin_start": 1.2,
            "bin_end": 1.38,
            "count": 2
           },
           {
            "bin_start": 1.38,
            "bin_end": 1.56,
            "count": 0
           },
           {
            "bin_start": 1.56,
            "bin_end": 1.74,
            "count": 0
           },
           {
            "bin_start": 1.74,
            "bin_end": 1.92,
            "count": 1
           },
           {
            "bin_start": 1.92,
            "bin_end": 2.0999999999999996,
            "count": 0
           },
           {
            "bin_start": 2.0999999999999996,
            "bin_end": 2.2800000000000002,
            "count": 0
           },
           {
            "bin_start": 2.2800000000000002,
            "bin_end": 2.46,
            "count": 0
           },
           {
            "bin_start": 2.46,
            "bin_end": 2.6399999999999997,
            "count": 0
           },
           {
            "bin_start": 2.6399999999999997,
            "bin_end": 2.82,
            "count": 0
           },
           {
            "bin_start": 2.82,
            "bin_end": 3,
            "count": 2
           }
          ]
         }
        },
        {
         "name": "price",
         "dtype": "float64",
         "stats": {
          "unique_count": 4,
          "nan_count": 0,
          "min": "7139520.0",
          "max": "13900000.0",
          "histogram": [
           {
            "bin_start": 7139520,
            "bin_end": 7815568,
            "count": 1
           },
           {
            "bin_start": 7815568,
            "bin_end": 8491616,
            "count": 0
           },
           {
            "bin_start": 8491616,
            "bin_end": 9167664,
            "count": 1
           },
           {
            "bin_start": 9167664,
            "bin_end": 9843712,
            "count": 0
           },
           {
            "bin_start": 9843712,
            "bin_end": 10519760,
            "count": 2
           },
           {
            "bin_start": 10519760,
            "bin_end": 11195808,
            "count": 0
           },
           {
            "bin_start": 11195808,
            "bin_end": 11871856,
            "count": 0
           },
           {
            "bin_start": 11871856,
            "bin_end": 12547904,
            "count": 0
           },
           {
            "bin_start": 12547904,
            "bin_end": 13223952,
            "count": 0
           },
           {
            "bin_start": 13223952,
            "bin_end": 13900000,
            "count": 1
           }
          ]
         }
        },
        {
         "name": "area_total",
         "dtype": "float64",
         "stats": {
          "unique_count": 4,
          "nan_count": 0,
          "min": "59.2",
          "max": "88.0",
          "histogram": [
           {
            "bin_start": 59.2,
            "bin_end": 62.080000000000005,
            "count": 1
           },
           {
            "bin_start": 62.080000000000005,
            "bin_end": 64.96000000000001,
            "count": 0
           },
           {
            "bin_start": 64.96000000000001,
            "bin_end": 67.84,
            "count": 0
           },
           {
            "bin_start": 67.84,
            "bin_end": 70.72,
            "count": 0
           },
           {
            "bin_start": 70.72,
            "bin_end": 73.6,
            "count": 0
           },
           {
            "bin_start": 73.6,
            "bin_end": 76.48,
            "count": 0
           },
           {
            "bin_start": 76.48,
            "bin_end": 79.36,
            "count": 2
           },
           {
            "bin_start": 79.36,
            "bin_end": 82.24000000000001,
            "count": 0
           },
           {
            "bin_start": 82.24000000000001,
            "bin_end": 85.12,
            "count": 0
           },
           {
            "bin_start": 85.12,
            "bin_end": 88,
            "count": 2
           }
          ]
         }
        },
        {
         "name": "area_kitchen",
         "dtype": "float64",
         "stats": {
          "unique_count": 5,
          "nan_count": 0,
          "min": "12.5",
          "max": "22.5",
          "histogram": [
           {
            "bin_start": 12.5,
            "bin_end": 13.5,
            "count": 1
           },
           {
            "bin_start": 13.5,
            "bin_end": 14.5,
            "count": 2
           },
           {
            "bin_start": 14.5,
            "bin_end": 15.5,
            "count": 0
           },
           {
            "bin_start": 15.5,
            "bin_end": 16.5,
            "count": 0
           },
           {
            "bin_start": 16.5,
            "bin_end": 17.5,
            "count": 1
           },
           {
            "bin_start": 17.5,
            "bin_end": 18.5,
            "count": 0
           },
           {
            "bin_start": 18.5,
            "bin_end": 19.5,
            "count": 0
           },
           {
            "bin_start": 19.5,
            "bin_end": 20.5,
            "count": 0
           },
           {
            "bin_start": 20.5,
            "bin_end": 21.5,
            "count": 0
           },
           {
            "bin_start": 21.5,
            "bin_end": 22.5,
            "count": 1
           }
          ]
         }
        },
        {
         "name": "area_living",
         "dtype": "float64",
         "stats": {
          "unique_count": 4,
          "nan_count": 0,
          "min": "31.0",
          "max": "48.0",
          "histogram": [
           {
            "bin_start": 31,
            "bin_end": 32.7,
            "count": 1
           },
           {
            "bin_start": 32.7,
            "bin_end": 34.4,
            "count": 0
           },
           {
            "bin_start": 34.4,
            "bin_end": 36.1,
            "count": 1
           },
           {
            "bin_start": 36.1,
            "bin_end": 37.8,
            "count": 0
           },
           {
            "bin_start": 37.8,
            "bin_end": 39.5,
            "count": 0
           },
           {
            "bin_start": 39.5,
            "bin_end": 41.2,
            "count": 1
           },
           {
            "bin_start": 41.2,
            "bin_end": 42.9,
            "count": 0
           },
           {
            "bin_start": 42.9,
            "bin_end": 44.6,
            "count": 0
           },
           {
            "bin_start": 44.6,
            "bin_end": 46.3,
            "count": 0
           },
           {
            "bin_start": 46.3,
            "bin_end": 48,
            "count": 2
           }
          ]
         }
        },
        {
         "name": "floor",
         "dtype": "float64",
         "stats": {
          "unique_count": 4,
          "nan_count": 0,
          "min": "2.0",
          "max": "18.0",
          "histogram": [
           {
            "bin_start": 2,
            "bin_end": 3.6,
            "count": 1
           },
           {
            "bin_start": 3.6,
            "bin_end": 5.2,
            "count": 0
           },
           {
            "bin_start": 5.2,
            "bin_end": 6.800000000000001,
            "count": 0
           },
           {
            "bin_start": 6.800000000000001,
            "bin_end": 8.4,
            "count": 1
           },
           {
            "bin_start": 8.4,
            "bin_end": 10,
            "count": 0
           },
           {
            "bin_start": 10,
            "bin_end": 11.600000000000001,
            "count": 0
           },
           {
            "bin_start": 11.600000000000001,
            "bin_end": 13.200000000000001,
            "count": 1
           },
           {
            "bin_start": 13.200000000000001,
            "bin_end": 14.8,
            "count": 0
           },
           {
            "bin_start": 14.8,
            "bin_end": 16.4,
            "count": 0
           },
           {
            "bin_start": 16.4,
            "bin_end": 18,
            "count": 2
           }
          ]
         }
        },
        {
         "name": "rooms",
         "dtype": "float64",
         "stats": {
          "unique_count": 2,
          "nan_count": 0,
          "min": "2.0",
          "max": "3.0",
          "histogram": [
           {
            "bin_start": 2,
            "bin_end": 2.1,
            "count": 2
           },
           {
            "bin_start": 2.1,
            "bin_end": 2.2,
            "count": 0
           },
           {
            "bin_start": 2.2,
            "bin_end": 2.3,
            "count": 0
           },
           {
            "bin_start": 2.3,
            "bin_end": 2.4,
            "count": 0
           },
           {
            "bin_start": 2.4,
            "bin_end": 2.5,
            "count": 0
           },
           {
            "bin_start": 2.5,
            "bin_end": 2.6,
            "count": 0
           },
           {
            "bin_start": 2.6,
            "bin_end": 2.7,
            "count": 0
           },
           {
            "bin_start": 2.7,
            "bin_end": 2.8,
            "count": 0
           },
           {
            "bin_start": 2.8,
            "bin_end": 2.9,
            "count": 0
           },
           {
            "bin_start": 2.9,
            "bin_end": 3,
            "count": 3
           }
          ]
         }
        },
        {
         "name": "layout",
         "dtype": "float64",
         "stats": {
          "unique_count": 2,
          "nan_count": 0,
          "min": "0.8",
          "max": "1.0",
          "histogram": [
           {
            "bin_start": 0.8,
            "bin_end": 0.8200000000000001,
            "count": 1
           },
           {
            "bin_start": 0.8200000000000001,
            "bin_end": 0.8400000000000001,
            "count": 0
           },
           {
            "bin_start": 0.8400000000000001,
            "bin_end": 0.86,
            "count": 0
           },
           {
            "bin_start": 0.86,
            "bin_end": 0.88,
            "count": 0
           },
           {
            "bin_start": 0.88,
            "bin_end": 0.9,
            "count": 0
           },
           {
            "bin_start": 0.9,
            "bin_end": 0.92,
            "count": 0
           },
           {
            "bin_start": 0.92,
            "bin_end": 0.9400000000000001,
            "count": 0
           },
           {
            "bin_start": 0.9400000000000001,
            "bin_end": 0.96,
            "count": 0
           },
           {
            "bin_start": 0.96,
            "bin_end": 0.98,
            "count": 0
           },
           {
            "bin_start": 0.98,
            "bin_end": 1,
            "count": 4
           }
          ]
         }
        },
        {
         "name": "ceiling",
         "dtype": "float64",
         "stats": {
          "unique_count": 3,
          "nan_count": 0,
          "min": "2.65",
          "max": "2.9",
          "histogram": [
           {
            "bin_start": 2.65,
            "bin_end": 2.675,
            "count": 4
           },
           {
            "bin_start": 2.675,
            "bin_end": 2.6999999999999997,
            "count": 0
           },
           {
            "bin_start": 2.6999999999999997,
            "bin_end": 2.725,
            "count": 0
           },
           {
            "bin_start": 2.725,
            "bin_end": 2.75,
            "count": 0
           },
           {
            "bin_start": 2.75,
            "bin_end": 2.775,
            "count": 0
           },
           {
            "bin_start": 2.775,
            "bin_end": 2.8,
            "count": 0
           },
           {
            "bin_start": 2.8,
            "bin_end": 2.8249999999999997,
            "count": 0
           },
           {
            "bin_start": 2.8249999999999997,
            "bin_end": 2.85,
            "count": 0
           },
           {
            "bin_start": 2.85,
            "bin_end": 2.875,
            "count": 0
           },
           {
            "bin_start": 2.875,
            "bin_end": 2.9,
            "count": 1
           }
          ]
         }
        },
        {
         "name": "bathrooms_shared",
         "dtype": "float64",
         "stats": {
          "unique_count": 3,
          "nan_count": 0,
          "min": "0.0",
          "max": "2.0",
          "histogram": [
           {
            "bin_start": 0,
            "bin_end": 0.2,
            "count": 3
           },
           {
            "bin_start": 0.2,
            "bin_end": 0.4,
            "count": 0
           },
           {
            "bin_start": 0.4,
            "bin_end": 0.6000000000000001,
            "count": 0
           },
           {
            "bin_start": 0.6000000000000001,
            "bin_end": 0.8,
            "count": 0
           },
           {
            "bin_start": 0.8,
            "bin_end": 1,
            "count": 0
           },
           {
            "bin_start": 1,
            "bin_end": 1.2000000000000002,
            "count": 1
           },
           {
            "bin_start": 1.2000000000000002,
            "bin_end": 1.4000000000000001,
            "count": 0
           },
           {
            "bin_start": 1.4000000000000001,
            "bin_end": 1.6,
            "count": 0
           },
           {
            "bin_start": 1.6,
            "bin_end": 1.8,
            "count": 0
           },
           {
            "bin_start": 1.8,
            "bin_end": 2,
            "count": 1
           }
          ]
         }
        },
        {
         "name": "bathrooms_private",
         "dtype": "float64",
         "stats": {
          "unique_count": 2,
          "nan_count": 0,
          "min": "0.0",
          "max": "2.0",
          "histogram": [
           {
            "bin_start": 0,
            "bin_end": 0.2,
            "count": 2
           },
           {
            "bin_start": 0.2,
            "bin_end": 0.4,
            "count": 0
           },
           {
            "bin_start": 0.4,
            "bin_end": 0.6000000000000001,
            "count": 0
           },
           {
            "bin_start": 0.6000000000000001,
            "bin_end": 0.8,
            "count": 0
           },
           {
            "bin_start": 0.8,
            "bin_end": 1,
            "count": 0
           },
           {
            "bin_start": 1,
            "bin_end": 1.2000000000000002,
            "count": 0
           },
           {
            "bin_start": 1.2000000000000002,
            "bin_end": 1.4000000000000001,
            "count": 0
           },
           {
            "bin_start": 1.4000000000000001,
            "bin_end": 1.6,
            "count": 0
           },
           {
            "bin_start": 1.6,
            "bin_end": 1.8,
            "count": 0
           },
           {
            "bin_start": 1.8,
            "bin_end": 2,
            "count": 3
           }
          ]
         }
        },
        {
         "name": "windows_court",
         "dtype": "float64",
         "stats": {
          "unique_count": 2,
          "nan_count": 0,
          "min": "0.0",
          "max": "1.0",
          "histogram": [
           {
            "bin_start": 0,
            "bin_end": 0.1,
            "count": 1
           },
           {
            "bin_start": 0.1,
            "bin_end": 0.2,
            "count": 0
           },
           {
            "bin_start": 0.2,
            "bin_end": 0.30000000000000004,
            "count": 0
           },
           {
            "bin_start": 0.30000000000000004,
            "bin_end": 0.4,
            "count": 0
           },
           {
            "bin_start": 0.4,
            "bin_end": 0.5,
            "count": 0
           },
           {
            "bin_start": 0.5,
            "bin_end": 0.6000000000000001,
            "count": 0
           },
           {
            "bin_start": 0.6000000000000001,
            "bin_end": 0.7000000000000001,
            "count": 0
           },
           {
            "bin_start": 0.7000000000000001,
            "bin_end": 0.8,
            "count": 0
           },
           {
            "bin_start": 0.8,
            "bin_end": 0.9,
            "count": 0
           },
           {
            "bin_start": 0.9,
            "bin_end": 1,
            "count": 4
           }
          ]
         }
        },
        {
         "name": "windows_street",
         "dtype": "float64",
         "stats": {
          "unique_count": 1,
          "nan_count": 0,
          "min": "1.0",
          "max": "1.0",
          "histogram": [
           {
            "bin_start": 0.5,
            "bin_end": 0.6,
            "count": 0
           },
           {
            "bin_start": 0.6,
            "bin_end": 0.7,
            "count": 0
           },
           {
            "bin_start": 0.7,
            "bin_end": 0.8,
            "count": 0
           },
           {
            "bin_start": 0.8,
            "bin_end": 0.9,
            "count": 0
           },
           {
            "bin_start": 0.9,
            "bin_end": 1,
            "count": 0
           },
           {
            "bin_start": 1,
            "bin_end": 1.1,
            "count": 5
           },
           {
            "bin_start": 1.1,
            "bin_end": 1.2000000000000002,
            "count": 0
           },
           {
            "bin_start": 1.2000000000000002,
            "bin_end": 1.3,
            "count": 0
           },
           {
            "bin_start": 1.3,
            "bin_end": 1.4,
            "count": 0
           },
           {
            "bin_start": 1.4,
            "bin_end": 1.5,
            "count": 0
           }
          ]
         }
        },
        {
         "name": "balconies",
         "dtype": "float64",
         "stats": {
          "unique_count": 3,
          "nan_count": 0,
          "min": "0.0",
          "max": "1.0",
          "histogram": [
           {
            "bin_start": 0,
            "bin_end": 0.1,
            "count": 2
           },
           {
            "bin_start": 0.1,
            "bin_end": 0.2,
            "count": 0
           },
           {
            "bin_start": 0.2,
            "bin_end": 0.30000000000000004,
            "count": 0
           },
           {
            "bin_start": 0.30000000000000004,
            "bin_end": 0.4,
            "count": 0
           },
           {
            "bin_start": 0.4,
            "bin_end": 0.5,
            "count": 0
           },
           {
            "bin_start": 0.5,
            "bin_end": 0.6000000000000001,
            "count": 2
           },
           {
            "bin_start": 0.6000000000000001,
            "bin_end": 0.7000000000000001,
            "count": 0
           },
           {
            "bin_start": 0.7000000000000001,
            "bin_end": 0.8,
            "count": 0
           },
           {
            "bin_start": 0.8,
            "bin_end": 0.9,
            "count": 0
           },
           {
            "bin_start": 0.9,
            "bin_end": 1,
            "count": 1
           }
          ]
         }
        },
        {
         "name": "loggias",
         "dtype": "float64",
         "stats": {
          "unique_count": 4,
          "nan_count": 0,
          "min": "0.0",
          "max": "1.0",
          "histogram": [
           {
            "bin_start": 0,
            "bin_end": 0.1,
            "count": 1
           },
           {
            "bin_start": 0.1,
            "bin_end": 0.2,
            "count": 0
           },
           {
            "bin_start": 0.2,
            "bin_end": 0.30000000000000004,
            "count": 0
           },
           {
            "bin_start": 0.30000000000000004,
            "bin_end": 0.4,
            "count": 0
           },
           {
            "bin_start": 0.4,
            "bin_end": 0.5,
            "count": 1
           },
           {
            "bin_start": 0.5,
            "bin_end": 0.6000000000000001,
            "count": 0
           },
           {
            "bin_start": 0.6000000000000001,
            "bin_end": 0.7000000000000001,
            "count": 0
           },
           {
            "bin_start": 0.7000000000000001,
            "bin_end": 0.8,
            "count": 0
           },
           {
            "bin_start": 0.8,
            "bin_end": 0.9,
            "count": 1
           },
           {
            "bin_start": 0.9,
            "bin_end": 1,
            "count": 2
           }
          ]
         }
        },
        {
         "name": "condition",
         "dtype": "float64",
         "stats": {
          "unique_count": 3,
          "nan_count": 0,
          "min": "0.8",
          "max": "3.0",
          "histogram": [
           {
            "bin_start": 0.8,
            "bin_end": 1.02,
            "count": 2
           },
           {
            "bin_start": 1.02,
            "bin_end": 1.2400000000000002,
            "count": 0
           },
           {
            "bin_start": 1.2400000000000002,
            "bin_end": 1.4600000000000002,
            "count": 0
           },
           {
            "bin_start": 1.4600000000000002,
            "bin_end": 1.6800000000000002,
            "count": 0
           },
           {
            "bin_start": 1.6800000000000002,
            "bin_end": 1.9000000000000001,
            "count": 0
           },
           {
            "bin_start": 1.9000000000000001,
            "bin_end": 2.12,
            "count": 1
           },
           {
            "bin_start": 2.12,
            "bin_end": 2.3400000000000003,
            "count": 0
           },
           {
            "bin_start": 2.3400000000000003,
            "bin_end": 2.5600000000000005,
            "count": 0
           },
           {
            "bin_start": 2.5600000000000005,
            "bin_end": 2.7800000000000002,
            "count": 0
           },
           {
            "bin_start": 2.7800000000000002,
            "bin_end": 3,
            "count": 2
           }
          ]
         }
        },
        {
         "name": "phones",
         "dtype": "float64",
         "stats": {
          "unique_count": 1,
          "nan_count": 0,
          "min": "1.0",
          "max": "1.0",
          "histogram": [
           {
            "bin_start": 0.5,
            "bin_end": 0.6,
            "count": 0
           },
           {
            "bin_start": 0.6,
            "bin_end": 0.7,
            "count": 0
           },
           {
            "bin_start": 0.7,
            "bin_end": 0.8,
            "count": 0
           },
           {
            "bin_start": 0.8,
            "bin_end": 0.9,
            "count": 0
           },
           {
            "bin_start": 0.9,
            "bin_end": 1,
            "count": 0
           },
           {
            "bin_start": 1,
            "bin_end": 1.1,
            "count": 5
           },
           {
            "bin_start": 1.1,
            "bin_end": 1.2000000000000002,
            "count": 0
           },
           {
            "bin_start": 1.2000000000000002,
            "bin_end": 1.3,
            "count": 0
           },
           {
            "bin_start": 1.3,
            "bin_end": 1.4,
            "count": 0
           },
           {
            "bin_start": 1.4,
            "bin_end": 1.5,
            "count": 0
           }
          ]
         }
        },
        {
         "name": "building_id",
         "dtype": "float64",
         "stats": {
          "unique_count": 4,
          "nan_count": 0,
          "min": "1893.0",
          "max": "6604.0",
          "histogram": [
           {
            "bin_start": 1893,
            "bin_end": 2364.1,
            "count": 2
           },
           {
            "bin_start": 2364.1,
            "bin_end": 2835.2,
            "count": 0
           },
           {
            "bin_start": 2835.2,
            "bin_end": 3306.3,
            "count": 0
           },
           {
            "bin_start": 3306.3,
            "bin_end": 3777.4,
            "count": 0
           },
           {
            "bin_start": 3777.4,
            "bin_end": 4248.5,
            "count": 1
           },
           {
            "bin_start": 4248.5,
            "bin_end": 4719.6,
            "count": 0
           },
           {
            "bin_start": 4719.6,
            "bin_end": 5190.700000000001,
            "count": 1
           },
           {
            "bin_start": 5190.700000000001,
            "bin_end": 5661.8,
            "count": 0
           },
           {
            "bin_start": 5661.8,
            "bin_end": 6132.900000000001,
            "count": 0
           },
           {
            "bin_start": 6132.900000000001,
            "bin_end": 6604,
            "count": 1
           }
          ]
         }
        },
        {
         "name": "new",
         "dtype": "float64",
         "stats": {
          "unique_count": 2,
          "nan_count": 0,
          "min": "0.0",
          "max": "1.0",
          "histogram": [
           {
            "bin_start": 0,
            "bin_end": 0.1,
            "count": 3
           },
           {
            "bin_start": 0.1,
            "bin_end": 0.2,
            "count": 0
           },
           {
            "bin_start": 0.2,
            "bin_end": 0.30000000000000004,
            "count": 0
           },
           {
            "bin_start": 0.30000000000000004,
            "bin_end": 0.4,
            "count": 0
           },
           {
            "bin_start": 0.4,
            "bin_end": 0.5,
            "count": 0
           },
           {
            "bin_start": 0.5,
            "bin_end": 0.6000000000000001,
            "count": 0
           },
           {
            "bin_start": 0.6000000000000001,
            "bin_end": 0.7000000000000001,
            "count": 0
           },
           {
            "bin_start": 0.7000000000000001,
            "bin_end": 0.8,
            "count": 0
           },
           {
            "bin_start": 0.8,
            "bin_end": 0.9,
            "count": 0
           },
           {
            "bin_start": 0.9,
            "bin_end": 1,
            "count": 2
           }
          ]
         }
        },
        {
         "name": "district",
         "dtype": "float64",
         "stats": {
          "unique_count": 3,
          "nan_count": 0,
          "min": "2.0",
          "max": "11.0",
          "histogram": [
           {
            "bin_start": 2,
            "bin_end": 2.9,
            "count": 2
           },
           {
            "bin_start": 2.9,
            "bin_end": 3.8,
            "count": 0
           },
           {
            "bin_start": 3.8,
            "bin_end": 4.7,
            "count": 0
           },
           {
            "bin_start": 4.7,
            "bin_end": 5.6,
            "count": 0
           },
           {
            "bin_start": 5.6,
            "bin_end": 6.5,
            "count": 1
           },
           {
            "bin_start": 6.5,
            "bin_end": 7.4,
            "count": 0
           },
           {
            "bin_start": 7.4,
            "bin_end": 8.3,
            "count": 0
           },
           {
            "bin_start": 8.3,
            "bin_end": 9.2,
            "count": 0
           },
           {
            "bin_start": 9.2,
            "bin_end": 10.1,
            "count": 0
           },
           {
            "bin_start": 10.1,
            "bin_end": 11,
            "count": 2
           }
          ]
         }
        },
        {
         "name": "constructed",
         "dtype": "float64",
         "stats": {
          "unique_count": 3,
          "nan_count": 0,
          "min": "2010.0",
          "max": "2021.0",
          "histogram": [
           {
            "bin_start": 2010,
            "bin_end": 2011.1,
            "count": 2
           },
           {
            "bin_start": 2011.1,
            "bin_end": 2012.2,
            "count": 0
           },
           {
            "bin_start": 2012.2,
            "bin_end": 2013.3,
            "count": 0
           },
           {
            "bin_start": 2013.3,
            "bin_end": 2014.4,
            "count": 0
           },
           {
            "bin_start": 2014.4,
            "bin_end": 2015.5,
            "count": 0
           },
           {
            "bin_start": 2015.5,
            "bin_end": 2016.6,
            "count": 0
           },
           {
            "bin_start": 2016.6,
            "bin_end": 2017.7,
            "count": 1
           },
           {
            "bin_start": 2017.7,
            "bin_end": 2018.8,
            "count": 0
           },
           {
            "bin_start": 2018.8,
            "bin_end": 2019.9,
            "count": 0
           },
           {
            "bin_start": 2019.9,
            "bin_end": 2021,
            "count": 2
           }
          ]
         }
        },
        {
         "name": "material",
         "dtype": "float64",
         "stats": {
          "unique_count": 2,
          "nan_count": 0,
          "min": "2.0",
          "max": "3.0",
          "histogram": [
           {
            "bin_start": 2,
            "bin_end": 2.1,
            "count": 1
           },
           {
            "bin_start": 2.1,
            "bin_end": 2.2,
            "count": 0
           },
           {
            "bin_start": 2.2,
            "bin_end": 2.3,
            "count": 0
           },
           {
            "bin_start": 2.3,
            "bin_end": 2.4,
            "count": 0
           },
           {
            "bin_start": 2.4,
            "bin_end": 2.5,
            "count": 0
           },
           {
            "bin_start": 2.5,
            "bin_end": 2.6,
            "count": 0
           },
           {
            "bin_start": 2.6,
            "bin_end": 2.7,
            "count": 0
           },
           {
            "bin_start": 2.7,
            "bin_end": 2.8,
            "count": 0
           },
           {
            "bin_start": 2.8,
            "bin_end": 2.9,
            "count": 0
           },
           {
            "bin_start": 2.9,
            "bin_end": 3,
            "count": 4
           }
          ]
         }
        },
        {
         "name": "stories",
         "dtype": "float64",
         "stats": {
          "unique_count": 3,
          "nan_count": 0,
          "min": "9.0",
          "max": "25.0",
          "histogram": [
           {
            "bin_start": 9,
            "bin_end": 10.6,
            "count": 1
           },
           {
            "bin_start": 10.6,
            "bin_end": 12.2,
            "count": 0
           },
           {
            "bin_start": 12.2,
            "bin_end": 13.8,
            "count": 0
           },
           {
            "bin_start": 13.8,
            "bin_end": 15.4,
            "count": 2
           },
           {
            "bin_start": 15.4,
            "bin_end": 17,
            "count": 0
           },
           {
            "bin_start": 17,
            "bin_end": 18.6,
            "count": 0
           },
           {
            "bin_start": 18.6,
            "bin_end": 20.200000000000003,
            "count": 0
           },
           {
            "bin_start": 20.200000000000003,
            "bin_end": 21.8,
            "count": 0
           },
           {
            "bin_start": 21.8,
            "bin_end": 23.4,
            "count": 0
           },
           {
            "bin_start": 23.4,
            "bin_end": 25,
            "count": 2
           }
          ]
         }
        },
        {
         "name": "elevator_without",
         "dtype": "float64",
         "stats": {
          "unique_count": 1,
          "nan_count": 0,
          "min": "0.0",
          "max": "0.0",
          "histogram": [
           {
            "bin_start": -0.5,
            "bin_end": -0.4,
            "count": 0
           },
           {
            "bin_start": -0.4,
            "bin_end": -0.3,
            "count": 0
           },
           {
            "bin_start": -0.3,
            "bin_end": -0.19999999999999996,
            "count": 0
           },
           {
            "bin_start": -0.19999999999999996,
            "bin_end": -0.09999999999999998,
            "count": 0
           },
           {
            "bin_start": -0.09999999999999998,
            "bin_end": 0,
            "count": 0
           },
           {
            "bin_start": 0,
            "bin_end": 0.10000000000000009,
            "count": 5
           },
           {
            "bin_start": 0.10000000000000009,
            "bin_end": 0.20000000000000007,
            "count": 0
           },
           {
            "bin_start": 0.20000000000000007,
            "bin_end": 0.30000000000000004,
            "count": 0
           },
           {
            "bin_start": 0.30000000000000004,
            "bin_end": 0.4,
            "count": 0
           },
           {
            "bin_start": 0.4,
            "bin_end": 0.5,
            "count": 0
           }
          ]
         }
        },
        {
         "name": "elevator_passenger",
         "dtype": "float64",
         "stats": {
          "unique_count": 1,
          "nan_count": 0,
          "min": "1.0",
          "max": "1.0",
          "histogram": [
           {
            "bin_start": 0.5,
            "bin_end": 0.6,
            "count": 0
           },
           {
            "bin_start": 0.6,
            "bin_end": 0.7,
            "count": 0
           },
           {
            "bin_start": 0.7,
            "bin_end": 0.8,
            "count": 0
           },
           {
            "bin_start": 0.8,
            "bin_end": 0.9,
            "count": 0
           },
           {
            "bin_start": 0.9,
            "bin_end": 1,
            "count": 0
           },
           {
            "bin_start": 1,
            "bin_end": 1.1,
            "count": 5
           },
           {
            "bin_start": 1.1,
            "bin_end": 1.2000000000000002,
            "count": 0
           },
           {
            "bin_start": 1.2000000000000002,
            "bin_end": 1.3,
            "count": 0
           },
           {
            "bin_start": 1.3,
            "bin_end": 1.4,
            "count": 0
           },
           {
            "bin_start": 1.4,
            "bin_end": 1.5,
            "count": 0
           }
          ]
         }
        },
        {
         "name": "elevator_service",
         "dtype": "float64",
         "stats": {
          "unique_count": 1,
          "nan_count": 0,
          "min": "1.0",
          "max": "1.0",
          "histogram": [
           {
            "bin_start": 0.5,
            "bin_end": 0.6,
            "count": 0
           },
           {
            "bin_start": 0.6,
            "bin_end": 0.7,
            "count": 0
           },
           {
            "bin_start": 0.7,
            "bin_end": 0.8,
            "count": 0
           },
           {
            "bin_start": 0.8,
            "bin_end": 0.9,
            "count": 0
           },
           {
            "bin_start": 0.9,
            "bin_end": 1,
            "count": 0
           },
           {
            "bin_start": 1,
            "bin_end": 1.1,
            "count": 5
           },
           {
            "bin_start": 1.1,
            "bin_end": 1.2000000000000002,
            "count": 0
           },
           {
            "bin_start": 1.2000000000000002,
            "bin_end": 1.3,
            "count": 0
           },
           {
            "bin_start": 1.3,
            "bin_end": 1.4,
            "count": 0
           },
           {
            "bin_start": 1.4,
            "bin_end": 1.5,
            "count": 0
           }
          ]
         }
        },
        {
         "name": "parking",
         "dtype": "float64",
         "stats": {
          "unique_count": 1,
          "nan_count": 0,
          "min": "1.0",
          "max": "1.0",
          "histogram": [
           {
            "bin_start": 0.5,
            "bin_end": 0.6,
            "count": 0
           },
           {
            "bin_start": 0.6,
            "bin_end": 0.7,
            "count": 0
           },
           {
            "bin_start": 0.7,
            "bin_end": 0.8,
            "count": 0
           },
           {
            "bin_start": 0.8,
            "bin_end": 0.9,
            "count": 0
           },
           {
            "bin_start": 0.9,
            "bin_end": 1,
            "count": 0
           },
           {
            "bin_start": 1,
            "bin_end": 1.1,
            "count": 5
           },
           {
            "bin_start": 1.1,
            "bin_end": 1.2000000000000002,
            "count": 0
           },
           {
            "bin_start": 1.2000000000000002,
            "bin_end": 1.3,
            "count": 0
           },
           {
            "bin_start": 1.3,
            "bin_end": 1.4,
            "count": 0
           },
           {
            "bin_start": 1.4,
            "bin_end": 1.5,
            "count": 0
           }
          ]
         }
        },
        {
         "name": "garbage_chute",
         "dtype": "float64",
         "stats": {
          "unique_count": 3,
          "nan_count": 0,
          "min": "0.0",
          "max": "1.0",
          "histogram": [
           {
            "bin_start": 0,
            "bin_end": 0.1,
            "count": 1
           },
           {
            "bin_start": 0.1,
            "bin_end": 0.2,
            "count": 0
           },
           {
            "bin_start": 0.2,
            "bin_end": 0.30000000000000004,
            "count": 0
           },
           {
            "bin_start": 0.30000000000000004,
            "bin_end": 0.4,
            "count": 0
           },
           {
            "bin_start": 0.4,
            "bin_end": 0.5,
            "count": 0
           },
           {
            "bin_start": 0.5,
            "bin_end": 0.6000000000000001,
            "count": 0
           },
           {
            "bin_start": 0.6000000000000001,
            "bin_end": 0.7000000000000001,
            "count": 0
           },
           {
            "bin_start": 0.7000000000000001,
            "bin_end": 0.8,
            "count": 0
           },
           {
            "bin_start": 0.8,
            "bin_end": 0.9,
            "count": 2
           },
           {
            "bin_start": 0.9,
            "bin_end": 1,
            "count": 2
           }
          ]
         }
        },
        {
         "name": "heating",
         "dtype": "float64",
         "stats": {
          "unique_count": 2,
          "nan_count": 0,
          "min": "0.0",
          "max": "0.2",
          "histogram": [
           {
            "bin_start": 0,
            "bin_end": 0.02,
            "count": 3
           },
           {
            "bin_start": 0.02,
            "bin_end": 0.04,
            "count": 0
           },
           {
            "bin_start": 0.04,
            "bin_end": 0.06,
            "count": 0
           },
           {
            "bin_start": 0.06,
            "bin_end": 0.08,
            "count": 0
           },
           {
            "bin_start": 0.08,
            "bin_end": 0.1,
            "count": 0
           },
           {
            "bin_start": 0.1,
            "bin_end": 0.12,
            "count": 0
           },
           {
            "bin_start": 0.12,
            "bin_end": 0.14,
            "count": 0
           },
           {
            "bin_start": 0.14,
            "bin_end": 0.16,
            "count": 0
           },
           {
            "bin_start": 0.16,
            "bin_end": 0.18,
            "count": 0
           },
           {
            "bin_start": 0.18,
            "bin_end": 0.2,
            "count": 2
           }
          ]
         }
        },
        {
         "name": "price/area",
         "dtype": "float64",
         "stats": {
          "unique_count": 4,
          "nan_count": 0,
          "min": "114900.0",
          "max": "178205.12820512822",
          "histogram": [
           {
            "bin_start": 114900,
            "bin_end": 121230.51282051283,
            "count": 4
           },
           {
            "bin_start": 121230.51282051283,
            "bin_end": 127561.02564102564,
            "count": 0
           },
           {
            "bin_start": 127561.02564102564,
            "bin_end": 133891.53846153847,
            "count": 0
           },
           {
            "bin_start": 133891.53846153847,
            "bin_end": 140222.05128205128,
            "count": 0
           },
           {
            "bin_start": 140222.05128205128,
            "bin_end": 146552.56410256412,
            "count": 0
           },
           {
            "bin_start": 146552.56410256412,
            "bin_end": 152883.07692307694,
            "count": 0
           },
           {
            "bin_start": 152883.07692307694,
            "bin_end": 159213.58974358975,
            "count": 0
           },
           {
            "bin_start": 159213.58974358975,
            "bin_end": 165544.10256410256,
            "count": 0
           },
           {
            "bin_start": 165544.10256410256,
            "bin_end": 171874.6153846154,
            "count": 0
           },
           {
            "bin_start": 171874.6153846154,
            "bin_end": 178205.12820512822,
            "count": 1
           }
          ]
         }
        },
        {
         "name": "distance",
         "dtype": "float64",
         "stats": {
          "unique_count": 4,
          "nan_count": 0,
          "min": "0.12118261272146193",
          "max": "0.2393483510304599",
          "histogram": [
           {
            "bin_start": 0.12118261272146193,
            "bin_end": 0.13299918655236173,
            "count": 3
           },
           {
            "bin_start": 0.13299918655236173,
            "bin_end": 0.14481576038326152,
            "count": 0
           },
           {
            "bin_start": 0.14481576038326152,
            "bin_end": 0.1566323342141613,
            "count": 0
           },
           {
            "bin_start": 0.1566323342141613,
            "bin_end": 0.16844890804506113,
            "count": 0
           },
           {
            "bin_start": 0.16844890804506113,
            "bin_end": 0.18026548187596092,
            "count": 0
           },
           {
            "bin_start": 0.18026548187596092,
            "bin_end": 0.1920820557068607,
            "count": 0
           },
           {
            "bin_start": 0.1920820557068607,
            "bin_end": 0.2038986295377605,
            "count": 0
           },
           {
            "bin_start": 0.2038986295377605,
            "bin_end": 0.2157152033686603,
            "count": 0
           },
           {
            "bin_start": 0.2157152033686603,
            "bin_end": 0.22753177719956008,
            "count": 1
           },
           {
            "bin_start": 0.22753177719956008,
            "bin_end": 0.2393483510304599,
            "count": 1
           }
          ]
         }
        },
        {
         "name": "_deepnote_index_column",
         "dtype": "int64"
        }
       ],
       "rows_top": [
        {
         "id": 0,
         "seller": 3,
         "price": 7139520,
         "area_total": 59.2,
         "area_kitchen": 12.5,
         "area_living": 31,
         "floor": 2,
         "rooms": 2,
         "layout": 0.8,
         "ceiling": 2.65,
         "bathrooms_shared": 0,
         "bathrooms_private": 2,
         "windows_court": 0,
         "windows_street": 1,
         "balconies": 0.6,
         "loggias": 0.8,
         "condition": 0.8,
         "phones": 1,
         "building_id": 4076,
         "new": 1,
         "district": 11,
         "constructed": 2021,
         "material": 3,
         "stories": 9,
         "elevator_without": 0,
         "elevator_passenger": 1,
         "elevator_service": 1,
         "parking": 1,
         "garbage_chute": 0.8,
         "heating": 0.2,
         "price/area": 120600,
         "distance": 0.2393483510304599,
         "_deepnote_index_column": 0
        },
        {
         "id": 1,
         "seller": 1.2,
         "price": 10500000,
         "area_total": 88,
         "area_kitchen": 14.2,
         "area_living": 48,
         "floor": 18,
         "rooms": 3,
         "layout": 1,
         "ceiling": 2.652,
         "bathrooms_shared": 2,
         "bathrooms_private": 0,
         "windows_court": 1,
         "windows_street": 1,
         "balconies": 1,
         "loggias": 0,
         "condition": 3,
         "phones": 1,
         "building_id": 1893,
         "new": 0,
         "district": 2,
         "constructed": 2010,
         "material": 3,
         "stories": 25,
         "elevator_without": 0,
         "elevator_passenger": 1,
         "elevator_service": 1,
         "parking": 1,
         "garbage_chute": 1,
         "heating": 0,
         "price/area": 119318.18181818182,
         "distance": 0.1297131686953954,
         "_deepnote_index_column": 1
        },
        {
         "id": 2,
         "seller": 3,
         "price": 9019650,
         "area_total": 78.5,
         "area_kitchen": 22.5,
         "area_living": 40.8,
         "floor": 12,
         "rooms": 3,
         "layout": 1,
         "ceiling": 2.65,
         "bathrooms_shared": 0,
         "bathrooms_private": 2,
         "windows_court": 1,
         "windows_street": 1,
         "balconies": 0.6,
         "loggias": 0.4,
         "condition": 0.8,
         "phones": 1,
         "building_id": 5176,
         "new": 1,
         "district": 6,
         "constructed": 2021,
         "material": 3,
         "stories": 15,
         "elevator_without": 0,
         "elevator_passenger": 1,
         "elevator_service": 1,
         "parking": 1,
         "garbage_chute": 0.8,
         "heating": 0.2,
         "price/area": 114900,
         "distance": 0.12118261272146193,
         "_deepnote_index_column": 2
        },
        {
         "id": 3,
         "seller": 1.2,
         "price": 10500000,
         "area_total": 88,
         "area_kitchen": 14,
         "area_living": 48,
         "floor": 18,
         "rooms": 3,
         "layout": 1,
         "ceiling": 2.652,
         "bathrooms_shared": 0,
         "bathrooms_private": 2,
         "windows_court": 1,
         "windows_street": 1,
         "balconies": 0,
         "loggias": 1,
         "condition": 2,
         "phones": 1,
         "building_id": 1893,
         "new": 0,
         "district": 2,
         "constructed": 2010,
         "material": 3,
         "stories": 25,
         "elevator_without": 0,
         "elevator_passenger": 1,
         "elevator_service": 1,
         "parking": 1,
         "garbage_chute": 1,
         "heating": 0,
         "price/area": 119318.18181818182,
         "distance": 0.1297131686953954,
         "_deepnote_index_column": 3
        },
        {
         "id": 4,
         "seller": 1.8,
         "price": 13900000,
         "area_total": 78,
         "area_kitchen": 17,
         "area_living": 35,
         "floor": 7,
         "rooms": 2,
         "layout": 1,
         "ceiling": 2.9,
         "bathrooms_shared": 1,
         "bathrooms_private": 0,
         "windows_court": 1,
         "windows_street": 1,
         "balconies": 0,
         "loggias": 1,
         "condition": 3,
         "phones": 1,
         "building_id": 6604,
         "new": 0,
         "district": 11,
         "constructed": 2017,
         "material": 2,
         "stories": 15,
         "elevator_without": 0,
         "elevator_passenger": 1,
         "elevator_service": 1,
         "parking": 1,
         "garbage_chute": 0,
         "heating": 0,
         "price/area": 178205.12820512822,
         "distance": 0.21776153027796374,
         "_deepnote_index_column": 4
        }
       ],
       "rows_bottom": null
      },
      "text/plain": "    id  seller       price  area_total  area_kitchen  area_living  floor  \\\n0  0.0     3.0   7139520.0        59.2          12.5         31.0    2.0   \n1  1.0     1.2  10500000.0        88.0          14.2         48.0   18.0   \n2  2.0     3.0   9019650.0        78.5          22.5         40.8   12.0   \n3  3.0     1.2  10500000.0        88.0          14.0         48.0   18.0   \n4  4.0     1.8  13900000.0        78.0          17.0         35.0    7.0   \n\n   rooms  layout  ceiling  ...  material  stories  elevator_without  \\\n0    2.0     0.8    2.650  ...       3.0      9.0               0.0   \n1    3.0     1.0    2.652  ...       3.0     25.0               0.0   \n2    3.0     1.0    2.650  ...       3.0     15.0               0.0   \n3    3.0     1.0    2.652  ...       3.0     25.0               0.0   \n4    2.0     1.0    2.900  ...       2.0     15.0               0.0   \n\n   elevator_passenger  elevator_service  parking  garbage_chute  heating  \\\n0                 1.0               1.0      1.0            0.8      0.2   \n1                 1.0               1.0      1.0            1.0      0.0   \n2                 1.0               1.0      1.0            0.8      0.2   \n3                 1.0               1.0      1.0            1.0      0.0   \n4                 1.0               1.0      1.0            0.0      0.0   \n\n      price/area  distance  \n0  120600.000000  0.239348  \n1  119318.181818  0.129713  \n2  114900.000000  0.121183  \n3  119318.181818  0.129713  \n4  178205.128205  0.217762  \n\n[5 rows x 32 columns]",
      "text/html": "<div>\n<style scoped>\n    .dataframe tbody tr th:only-of-type {\n        vertical-align: middle;\n    }\n\n    .dataframe tbody tr th {\n        vertical-align: top;\n    }\n\n    .dataframe thead th {\n        text-align: right;\n    }\n</style>\n<table border=\"1\" class=\"dataframe\">\n  <thead>\n    <tr style=\"text-align: right;\">\n      <th></th>\n      <th>id</th>\n      <th>seller</th>\n      <th>price</th>\n      <th>area_total</th>\n      <th>area_kitchen</th>\n      <th>area_living</th>\n      <th>floor</th>\n      <th>rooms</th>\n      <th>layout</th>\n      <th>ceiling</th>\n      <th>...</th>\n      <th>material</th>\n      <th>stories</th>\n      <th>elevator_without</th>\n      <th>elevator_passenger</th>\n      <th>elevator_service</th>\n      <th>parking</th>\n      <th>garbage_chute</th>\n      <th>heating</th>\n      <th>price/area</th>\n      <th>distance</th>\n    </tr>\n  </thead>\n  <tbody>\n    <tr>\n      <th>0</th>\n      <td>0.0</td>\n      <td>3.0</td>\n      <td>7139520.0</td>\n      <td>59.2</td>\n      <td>12.5</td>\n      <td>31.0</td>\n      <td>2.0</td>\n      <td>2.0</td>\n      <td>0.8</td>\n      <td>2.650</td>\n      <td>...</td>\n      <td>3.0</td>\n      <td>9.0</td>\n      <td>0.0</td>\n      <td>1.0</td>\n      <td>1.0</td>\n      <td>1.0</td>\n      <td>0.8</td>\n      <td>0.2</td>\n      <td>120600.000000</td>\n      <td>0.239348</td>\n    </tr>\n    <tr>\n      <th>1</th>\n      <td>1.0</td>\n      <td>1.2</td>\n      <td>10500000.0</td>\n      <td>88.0</td>\n      <td>14.2</td>\n      <td>48.0</td>\n      <td>18.0</td>\n      <td>3.0</td>\n      <td>1.0</td>\n      <td>2.652</td>\n      <td>...</td>\n      <td>3.0</td>\n      <td>25.0</td>\n      <td>0.0</td>\n      <td>1.0</td>\n      <td>1.0</td>\n      <td>1.0</td>\n      <td>1.0</td>\n      <td>0.0</td>\n      <td>119318.181818</td>\n      <td>0.129713</td>\n    </tr>\n    <tr>\n      <th>2</th>\n      <td>2.0</td>\n      <td>3.0</td>\n      <td>9019650.0</td>\n      <td>78.5</td>\n      <td>22.5</td>\n      <td>40.8</td>\n      <td>12.0</td>\n      <td>3.0</td>\n      <td>1.0</td>\n      <td>2.650</td>\n      <td>...</td>\n      <td>3.0</td>\n      <td>15.0</td>\n      <td>0.0</td>\n      <td>1.0</td>\n      <td>1.0</td>\n      <td>1.0</td>\n      <td>0.8</td>\n      <td>0.2</td>\n      <td>114900.000000</td>\n      <td>0.121183</td>\n    </tr>\n    <tr>\n      <th>3</th>\n      <td>3.0</td>\n      <td>1.2</td>\n      <td>10500000.0</td>\n      <td>88.0</td>\n      <td>14.0</td>\n      <td>48.0</td>\n      <td>18.0</td>\n      <td>3.0</td>\n      <td>1.0</td>\n      <td>2.652</td>\n      <td>...</td>\n      <td>3.0</td>\n      <td>25.0</td>\n      <td>0.0</td>\n      <td>1.0</td>\n      <td>1.0</td>\n      <td>1.0</td>\n      <td>1.0</td>\n      <td>0.0</td>\n      <td>119318.181818</td>\n      <td>0.129713</td>\n    </tr>\n    <tr>\n      <th>4</th>\n      <td>4.0</td>\n      <td>1.8</td>\n      <td>13900000.0</td>\n      <td>78.0</td>\n      <td>17.0</td>\n      <td>35.0</td>\n      <td>7.0</td>\n      <td>2.0</td>\n      <td>1.0</td>\n      <td>2.900</td>\n      <td>...</td>\n      <td>2.0</td>\n      <td>15.0</td>\n      <td>0.0</td>\n      <td>1.0</td>\n      <td>1.0</td>\n      <td>1.0</td>\n      <td>0.0</td>\n      <td>0.0</td>\n      <td>178205.128205</td>\n      <td>0.217762</td>\n    </tr>\n  </tbody>\n</table>\n<p>5 rows × 32 columns</p>\n</div>"
     },
     "metadata": {}
    }
   ],
   "execution_count": null
  },
  {
   "cell_type": "code",
   "metadata": {
    "tags": [],
    "deepnote_to_be_reexecuted": false,
    "source_hash": "b26f84b6",
    "execution_start": 1637358348047,
    "execution_millis": 166,
    "cell_id": "00020-c3939349-0c41-482b-b99a-e4271695ecf6",
    "deepnote_cell_type": "code"
   },
   "source": "# categorical features and integers that must be rounded and cast to int\n\nnames = ['seller', 'floor', 'rooms', 'layout', 'ceiling', \n'bathrooms_shared', 'bathrooms_private', 'windows_court', 'windows_street', 'balconies', 'loggias', 'condition', \n'phones', 'building_id', 'new', 'district', 'constructed', 'material', 'stories', 'elevator_without', \n'elevator_passenger', 'elevator_service', 'parking', 'garbage_chute', 'heating']\n#print(df.street.isnull().sum(),df1.street.isnull().sum())\nfor x in names:\n    df1[x] = df1[x].round(decimals = 0)\n    df1[x] = df1[x].astype(int)\n\n    df1_test[x] = df1_test[x].round(decimals = 0)\n    df1_test[x] = df1_test[x].astype(int)\n\n#df1['street'].isnull().sum()\nprint(df1.shape, df.shape)",
   "outputs": [
    {
     "name": "stdout",
     "text": "(23237, 32) (23237, 34)\n",
     "output_type": "stream"
    }
   ],
   "execution_count": null
  },
  {
   "cell_type": "code",
   "metadata": {
    "tags": [],
    "deepnote_to_be_reexecuted": false,
    "source_hash": "97ffdf9d",
    "execution_start": 1637358355062,
    "execution_millis": 73,
    "deepnote_output_heights": [
     21,
     21
    ],
    "cell_id": "00021-b17c0ec7-0e3a-4cbe-bd0d-7b28983ff099",
    "deepnote_cell_type": "code"
   },
   "source": "\ndf1['id'] = df1['id'].astype(int)\n\n\ndf1 = pd.merge(df1, df[['id', 'street']], on='id')\n\n\ndf1_test['id'] = df1_test['id'].astype(int)\ndf1_test['street'] = df_test.street\n\n#print(df1.shape, df.shape)\n#df1.head()\n#df1['street'].isnull().sum()\n#df1.to_csv('Training_clean.csv', index=False)\n#df1_test.to_csv('Test_clean.csv', index=False)",
   "outputs": [],
   "execution_count": null
  },
  {
   "cell_type": "code",
   "metadata": {
    "tags": [],
    "deepnote_to_be_reexecuted": false,
    "source_hash": "effe9690",
    "execution_start": 1637358360479,
    "execution_millis": 10,
    "deepnote_output_heights": [
     21.1875
    ],
    "cell_id": "00022-e221cdb0-6699-4bb4-9c72-0e6adb897b88",
    "deepnote_cell_type": "code"
   },
   "source": "df1.shape",
   "outputs": [
    {
     "output_type": "execute_result",
     "execution_count": 35,
     "data": {
      "text/plain": "(23237, 33)"
     },
     "metadata": {}
    }
   ],
   "execution_count": null
  },
  {
   "cell_type": "code",
   "metadata": {
    "tags": [],
    "deepnote_to_be_reexecuted": false,
    "source_hash": "cbcab4db",
    "execution_start": 1637358363829,
    "execution_millis": 355,
    "cell_id": "00023-a1fba501-f0b9-419e-8a58-7c162e2d6447",
    "deepnote_cell_type": "code"
   },
   "source": "df1[df1.id==455]",
   "outputs": [
    {
     "output_type": "execute_result",
     "execution_count": 36,
     "data": {
      "application/vnd.deepnote.dataframe.v2+json": {
       "row_count": 1,
       "column_count": 33,
       "columns": [
        {
         "name": "id",
         "dtype": "int64",
         "stats": {
          "unique_count": 1,
          "nan_count": 0,
          "min": "455",
          "max": "455",
          "histogram": [
           {
            "bin_start": 454.5,
            "bin_end": 454.6,
            "count": 0
           },
           {
            "bin_start": 454.6,
            "bin_end": 454.7,
            "count": 0
           },
           {
            "bin_start": 454.7,
            "bin_end": 454.8,
            "count": 0
           },
           {
            "bin_start": 454.8,
            "bin_end": 454.9,
            "count": 0
           },
           {
            "bin_start": 454.9,
            "bin_end": 455,
            "count": 0
           },
           {
            "bin_start": 455,
            "bin_end": 455.1,
            "count": 1
           },
           {
            "bin_start": 455.1,
            "bin_end": 455.2,
            "count": 0
           },
           {
            "bin_start": 455.2,
            "bin_end": 455.3,
            "count": 0
           },
           {
            "bin_start": 455.3,
            "bin_end": 455.4,
            "count": 0
           },
           {
            "bin_start": 455.4,
            "bin_end": 455.5,
            "count": 0
           }
          ]
         }
        },
        {
         "name": "seller",
         "dtype": "int64",
         "stats": {
          "unique_count": 1,
          "nan_count": 0,
          "min": "3",
          "max": "3",
          "histogram": [
           {
            "bin_start": 2.5,
            "bin_end": 2.6,
            "count": 0
           },
           {
            "bin_start": 2.6,
            "bin_end": 2.7,
            "count": 0
           },
           {
            "bin_start": 2.7,
            "bin_end": 2.8,
            "count": 0
           },
           {
            "bin_start": 2.8,
            "bin_end": 2.9,
            "count": 0
           },
           {
            "bin_start": 2.9,
            "bin_end": 3,
            "count": 0
           },
           {
            "bin_start": 3,
            "bin_end": 3.1,
            "count": 1
           },
           {
            "bin_start": 3.1,
            "bin_end": 3.2,
            "count": 0
           },
           {
            "bin_start": 3.2,
            "bin_end": 3.3,
            "count": 0
           },
           {
            "bin_start": 3.3,
            "bin_end": 3.4,
            "count": 0
           },
           {
            "bin_start": 3.4,
            "bin_end": 3.5,
            "count": 0
           }
          ]
         }
        },
        {
         "name": "price",
         "dtype": "float64",
         "stats": {
          "unique_count": 1,
          "nan_count": 0,
          "min": "32268200.0",
          "max": "32268200.0",
          "histogram": [
           {
            "bin_start": 32268199.5,
            "bin_end": 32268199.6,
            "count": 0
           },
           {
            "bin_start": 32268199.6,
            "bin_end": 32268199.7,
            "count": 0
           },
           {
            "bin_start": 32268199.7,
            "bin_end": 32268199.8,
            "count": 0
           },
           {
            "bin_start": 32268199.8,
            "bin_end": 32268199.9,
            "count": 0
           },
           {
            "bin_start": 32268199.9,
            "bin_end": 32268200,
            "count": 0
           },
           {
            "bin_start": 32268200,
            "bin_end": 32268200.1,
            "count": 1
           },
           {
            "bin_start": 32268200.1,
            "bin_end": 32268200.2,
            "count": 0
           },
           {
            "bin_start": 32268200.2,
            "bin_end": 32268200.3,
            "count": 0
           },
           {
            "bin_start": 32268200.3,
            "bin_end": 32268200.4,
            "count": 0
           },
           {
            "bin_start": 32268200.4,
            "bin_end": 32268200.5,
            "count": 0
           }
          ]
         }
        },
        {
         "name": "area_total",
         "dtype": "float64",
         "stats": {
          "unique_count": 1,
          "nan_count": 0,
          "min": "101.45",
          "max": "101.45",
          "histogram": [
           {
            "bin_start": 100.95,
            "bin_end": 101.05,
            "count": 0
           },
           {
            "bin_start": 101.05,
            "bin_end": 101.15,
            "count": 0
           },
           {
            "bin_start": 101.15,
            "bin_end": 101.25,
            "count": 0
           },
           {
            "bin_start": 101.25,
            "bin_end": 101.35000000000001,
            "count": 0
           },
           {
            "bin_start": 101.35000000000001,
            "bin_end": 101.45,
            "count": 0
           },
           {
            "bin_start": 101.45,
            "bin_end": 101.55,
            "count": 1
           },
           {
            "bin_start": 101.55,
            "bin_end": 101.65,
            "count": 0
           },
           {
            "bin_start": 101.65,
            "bin_end": 101.75,
            "count": 0
           },
           {
            "bin_start": 101.75,
            "bin_end": 101.85000000000001,
            "count": 0
           },
           {
            "bin_start": 101.85000000000001,
            "bin_end": 101.95,
            "count": 0
           }
          ]
         }
        },
        {
         "name": "area_kitchen",
         "dtype": "float64",
         "stats": {
          "unique_count": 1,
          "nan_count": 0,
          "min": "14.319999999999999",
          "max": "14.319999999999999",
          "histogram": [
           {
            "bin_start": 13.819999999999999,
            "bin_end": 13.919999999999998,
            "count": 0
           },
           {
            "bin_start": 13.919999999999998,
            "bin_end": 14.019999999999998,
            "count": 0
           },
           {
            "bin_start": 14.019999999999998,
            "bin_end": 14.12,
            "count": 0
           },
           {
            "bin_start": 14.12,
            "bin_end": 14.219999999999999,
            "count": 0
           },
           {
            "bin_start": 14.219999999999999,
            "bin_end": 14.319999999999999,
            "count": 0
           },
           {
            "bin_start": 14.319999999999999,
            "bin_end": 14.419999999999998,
            "count": 1
           },
           {
            "bin_start": 14.419999999999998,
            "bin_end": 14.519999999999998,
            "count": 0
           },
           {
            "bin_start": 14.519999999999998,
            "bin_end": 14.62,
            "count": 0
           },
           {
            "bin_start": 14.62,
            "bin_end": 14.719999999999999,
            "count": 0
           },
           {
            "bin_start": 14.719999999999999,
            "bin_end": 14.819999999999999,
            "count": 0
           }
          ]
         }
        },
        {
         "name": "area_living",
         "dtype": "float64",
         "stats": {
          "unique_count": 1,
          "nan_count": 0,
          "min": "78.16",
          "max": "78.16",
          "histogram": [
           {
            "bin_start": 77.66,
            "bin_end": 77.75999999999999,
            "count": 0
           },
           {
            "bin_start": 77.75999999999999,
            "bin_end": 77.86,
            "count": 0
           },
           {
            "bin_start": 77.86,
            "bin_end": 77.96,
            "count": 0
           },
           {
            "bin_start": 77.96,
            "bin_end": 78.06,
            "count": 0
           },
           {
            "bin_start": 78.06,
            "bin_end": 78.16,
            "count": 0
           },
           {
            "bin_start": 78.16,
            "bin_end": 78.25999999999999,
            "count": 1
           },
           {
            "bin_start": 78.25999999999999,
            "bin_end": 78.36,
            "count": 0
           },
           {
            "bin_start": 78.36,
            "bin_end": 78.46,
            "count": 0
           },
           {
            "bin_start": 78.46,
            "bin_end": 78.56,
            "count": 0
           },
           {
            "bin_start": 78.56,
            "bin_end": 78.66,
            "count": 0
           }
          ]
         }
        },
        {
         "name": "floor",
         "dtype": "int64",
         "stats": {
          "unique_count": 1,
          "nan_count": 0,
          "min": "1",
          "max": "1",
          "histogram": [
           {
            "bin_start": 0.5,
            "bin_end": 0.6,
            "count": 0
           },
           {
            "bin_start": 0.6,
            "bin_end": 0.7,
            "count": 0
           },
           {
            "bin_start": 0.7,
            "bin_end": 0.8,
            "count": 0
           },
           {
            "bin_start": 0.8,
            "bin_end": 0.9,
            "count": 0
           },
           {
            "bin_start": 0.9,
            "bin_end": 1,
            "count": 0
           },
           {
            "bin_start": 1,
            "bin_end": 1.1,
            "count": 1
           },
           {
            "bin_start": 1.1,
            "bin_end": 1.2000000000000002,
            "count": 0
           },
           {
            "bin_start": 1.2000000000000002,
            "bin_end": 1.3,
            "count": 0
           },
           {
            "bin_start": 1.3,
            "bin_end": 1.4,
            "count": 0
           },
           {
            "bin_start": 1.4,
            "bin_end": 1.5,
            "count": 0
           }
          ]
         }
        },
        {
         "name": "rooms",
         "dtype": "int64",
         "stats": {
          "unique_count": 1,
          "nan_count": 0,
          "min": "3",
          "max": "3",
          "histogram": [
           {
            "bin_start": 2.5,
            "bin_end": 2.6,
            "count": 0
           },
           {
            "bin_start": 2.6,
            "bin_end": 2.7,
            "count": 0
           },
           {
            "bin_start": 2.7,
            "bin_end": 2.8,
            "count": 0
           },
           {
            "bin_start": 2.8,
            "bin_end": 2.9,
            "count": 0
           },
           {
            "bin_start": 2.9,
            "bin_end": 3,
            "count": 0
           },
           {
            "bin_start": 3,
            "bin_end": 3.1,
            "count": 1
           },
           {
            "bin_start": 3.1,
            "bin_end": 3.2,
            "count": 0
           },
           {
            "bin_start": 3.2,
            "bin_end": 3.3,
            "count": 0
           },
           {
            "bin_start": 3.3,
            "bin_end": 3.4,
            "count": 0
           },
           {
            "bin_start": 3.4,
            "bin_end": 3.5,
            "count": 0
           }
          ]
         }
        },
        {
         "name": "layout",
         "dtype": "int64",
         "stats": {
          "unique_count": 1,
          "nan_count": 0,
          "min": "1",
          "max": "1",
          "histogram": [
           {
            "bin_start": 0.5,
            "bin_end": 0.6,
            "count": 0
           },
           {
            "bin_start": 0.6,
            "bin_end": 0.7,
            "count": 0
           },
           {
            "bin_start": 0.7,
            "bin_end": 0.8,
            "count": 0
           },
           {
            "bin_start": 0.8,
            "bin_end": 0.9,
            "count": 0
           },
           {
            "bin_start": 0.9,
            "bin_end": 1,
            "count": 0
           },
           {
            "bin_start": 1,
            "bin_end": 1.1,
            "count": 1
           },
           {
            "bin_start": 1.1,
            "bin_end": 1.2000000000000002,
            "count": 0
           },
           {
            "bin_start": 1.2000000000000002,
            "bin_end": 1.3,
            "count": 0
           },
           {
            "bin_start": 1.3,
            "bin_end": 1.4,
            "count": 0
           },
           {
            "bin_start": 1.4,
            "bin_end": 1.5,
            "count": 0
           }
          ]
         }
        },
        {
         "name": "ceiling",
         "dtype": "int64",
         "stats": {
          "unique_count": 1,
          "nan_count": 0,
          "min": "3",
          "max": "3",
          "histogram": [
           {
            "bin_start": 2.5,
            "bin_end": 2.6,
            "count": 0
           },
           {
            "bin_start": 2.6,
            "bin_end": 2.7,
            "count": 0
           },
           {
            "bin_start": 2.7,
            "bin_end": 2.8,
            "count": 0
           },
           {
            "bin_start": 2.8,
            "bin_end": 2.9,
            "count": 0
           },
           {
            "bin_start": 2.9,
            "bin_end": 3,
            "count": 0
           },
           {
            "bin_start": 3,
            "bin_end": 3.1,
            "count": 1
           },
           {
            "bin_start": 3.1,
            "bin_end": 3.2,
            "count": 0
           },
           {
            "bin_start": 3.2,
            "bin_end": 3.3,
            "count": 0
           },
           {
            "bin_start": 3.3,
            "bin_end": 3.4,
            "count": 0
           },
           {
            "bin_start": 3.4,
            "bin_end": 3.5,
            "count": 0
           }
          ]
         }
        },
        {
         "name": "bathrooms_shared",
         "dtype": "int64",
         "stats": {
          "unique_count": 1,
          "nan_count": 0,
          "min": "1",
          "max": "1",
          "histogram": [
           {
            "bin_start": 0.5,
            "bin_end": 0.6,
            "count": 0
           },
           {
            "bin_start": 0.6,
            "bin_end": 0.7,
            "count": 0
           },
           {
            "bin_start": 0.7,
            "bin_end": 0.8,
            "count": 0
           },
           {
            "bin_start": 0.8,
            "bin_end": 0.9,
            "count": 0
           },
           {
            "bin_start": 0.9,
            "bin_end": 1,
            "count": 0
           },
           {
            "bin_start": 1,
            "bin_end": 1.1,
            "count": 1
           },
           {
            "bin_start": 1.1,
            "bin_end": 1.2000000000000002,
            "count": 0
           },
           {
            "bin_start": 1.2000000000000002,
            "bin_end": 1.3,
            "count": 0
           },
           {
            "bin_start": 1.3,
            "bin_end": 1.4,
            "count": 0
           },
           {
            "bin_start": 1.4,
            "bin_end": 1.5,
            "count": 0
           }
          ]
         }
        },
        {
         "name": "bathrooms_private",
         "dtype": "int64",
         "stats": {
          "unique_count": 1,
          "nan_count": 0,
          "min": "1",
          "max": "1",
          "histogram": [
           {
            "bin_start": 0.5,
            "bin_end": 0.6,
            "count": 0
           },
           {
            "bin_start": 0.6,
            "bin_end": 0.7,
            "count": 0
           },
           {
            "bin_start": 0.7,
            "bin_end": 0.8,
            "count": 0
           },
           {
            "bin_start": 0.8,
            "bin_end": 0.9,
            "count": 0
           },
           {
            "bin_start": 0.9,
            "bin_end": 1,
            "count": 0
           },
           {
            "bin_start": 1,
            "bin_end": 1.1,
            "count": 1
           },
           {
            "bin_start": 1.1,
            "bin_end": 1.2000000000000002,
            "count": 0
           },
           {
            "bin_start": 1.2000000000000002,
            "bin_end": 1.3,
            "count": 0
           },
           {
            "bin_start": 1.3,
            "bin_end": 1.4,
            "count": 0
           },
           {
            "bin_start": 1.4,
            "bin_end": 1.5,
            "count": 0
           }
          ]
         }
        },
        {
         "name": "windows_court",
         "dtype": "int64",
         "stats": {
          "unique_count": 1,
          "nan_count": 0,
          "min": "1",
          "max": "1",
          "histogram": [
           {
            "bin_start": 0.5,
            "bin_end": 0.6,
            "count": 0
           },
           {
            "bin_start": 0.6,
            "bin_end": 0.7,
            "count": 0
           },
           {
            "bin_start": 0.7,
            "bin_end": 0.8,
            "count": 0
           },
           {
            "bin_start": 0.8,
            "bin_end": 0.9,
            "count": 0
           },
           {
            "bin_start": 0.9,
            "bin_end": 1,
            "count": 0
           },
           {
            "bin_start": 1,
            "bin_end": 1.1,
            "count": 1
           },
           {
            "bin_start": 1.1,
            "bin_end": 1.2000000000000002,
            "count": 0
           },
           {
            "bin_start": 1.2000000000000002,
            "bin_end": 1.3,
            "count": 0
           },
           {
            "bin_start": 1.3,
            "bin_end": 1.4,
            "count": 0
           },
           {
            "bin_start": 1.4,
            "bin_end": 1.5,
            "count": 0
           }
          ]
         }
        },
        {
         "name": "windows_street",
         "dtype": "int64",
         "stats": {
          "unique_count": 1,
          "nan_count": 0,
          "min": "1",
          "max": "1",
          "histogram": [
           {
            "bin_start": 0.5,
            "bin_end": 0.6,
            "count": 0
           },
           {
            "bin_start": 0.6,
            "bin_end": 0.7,
            "count": 0
           },
           {
            "bin_start": 0.7,
            "bin_end": 0.8,
            "count": 0
           },
           {
            "bin_start": 0.8,
            "bin_end": 0.9,
            "count": 0
           },
           {
            "bin_start": 0.9,
            "bin_end": 1,
            "count": 0
           },
           {
            "bin_start": 1,
            "bin_end": 1.1,
            "count": 1
           },
           {
            "bin_start": 1.1,
            "bin_end": 1.2000000000000002,
            "count": 0
           },
           {
            "bin_start": 1.2000000000000002,
            "bin_end": 1.3,
            "count": 0
           },
           {
            "bin_start": 1.3,
            "bin_end": 1.4,
            "count": 0
           },
           {
            "bin_start": 1.4,
            "bin_end": 1.5,
            "count": 0
           }
          ]
         }
        },
        {
         "name": "balconies",
         "dtype": "int64",
         "stats": {
          "unique_count": 1,
          "nan_count": 0,
          "min": "1",
          "max": "1",
          "histogram": [
           {
            "bin_start": 0.5,
            "bin_end": 0.6,
            "count": 0
           },
           {
            "bin_start": 0.6,
            "bin_end": 0.7,
            "count": 0
           },
           {
            "bin_start": 0.7,
            "bin_end": 0.8,
            "count": 0
           },
           {
            "bin_start": 0.8,
            "bin_end": 0.9,
            "count": 0
           },
           {
            "bin_start": 0.9,
            "bin_end": 1,
            "count": 0
           },
           {
            "bin_start": 1,
            "bin_end": 1.1,
            "count": 1
           },
           {
            "bin_start": 1.1,
            "bin_end": 1.2000000000000002,
            "count": 0
           },
           {
            "bin_start": 1.2000000000000002,
            "bin_end": 1.3,
            "count": 0
           },
           {
            "bin_start": 1.3,
            "bin_end": 1.4,
            "count": 0
           },
           {
            "bin_start": 1.4,
            "bin_end": 1.5,
            "count": 0
           }
          ]
         }
        },
        {
         "name": "loggias",
         "dtype": "int64",
         "stats": {
          "unique_count": 1,
          "nan_count": 0,
          "min": "0",
          "max": "0",
          "histogram": [
           {
            "bin_start": -0.5,
            "bin_end": -0.4,
            "count": 0
           },
           {
            "bin_start": -0.4,
            "bin_end": -0.3,
            "count": 0
           },
           {
            "bin_start": -0.3,
            "bin_end": -0.19999999999999996,
            "count": 0
           },
           {
            "bin_start": -0.19999999999999996,
            "bin_end": -0.09999999999999998,
            "count": 0
           },
           {
            "bin_start": -0.09999999999999998,
            "bin_end": 0,
            "count": 0
           },
           {
            "bin_start": 0,
            "bin_end": 0.10000000000000009,
            "count": 1
           },
           {
            "bin_start": 0.10000000000000009,
            "bin_end": 0.20000000000000007,
            "count": 0
           },
           {
            "bin_start": 0.20000000000000007,
            "bin_end": 0.30000000000000004,
            "count": 0
           },
           {
            "bin_start": 0.30000000000000004,
            "bin_end": 0.4,
            "count": 0
           },
           {
            "bin_start": 0.4,
            "bin_end": 0.5,
            "count": 0
           }
          ]
         }
        },
        {
         "name": "condition",
         "dtype": "int64",
         "stats": {
          "unique_count": 1,
          "nan_count": 0,
          "min": "1",
          "max": "1",
          "histogram": [
           {
            "bin_start": 0.5,
            "bin_end": 0.6,
            "count": 0
           },
           {
            "bin_start": 0.6,
            "bin_end": 0.7,
            "count": 0
           },
           {
            "bin_start": 0.7,
            "bin_end": 0.8,
            "count": 0
           },
           {
            "bin_start": 0.8,
            "bin_end": 0.9,
            "count": 0
           },
           {
            "bin_start": 0.9,
            "bin_end": 1,
            "count": 0
           },
           {
            "bin_start": 1,
            "bin_end": 1.1,
            "count": 1
           },
           {
            "bin_start": 1.1,
            "bin_end": 1.2000000000000002,
            "count": 0
           },
           {
            "bin_start": 1.2000000000000002,
            "bin_end": 1.3,
            "count": 0
           },
           {
            "bin_start": 1.3,
            "bin_end": 1.4,
            "count": 0
           },
           {
            "bin_start": 1.4,
            "bin_end": 1.5,
            "count": 0
           }
          ]
         }
        },
        {
         "name": "phones",
         "dtype": "int64",
         "stats": {
          "unique_count": 1,
          "nan_count": 0,
          "min": "1",
          "max": "1",
          "histogram": [
           {
            "bin_start": 0.5,
            "bin_end": 0.6,
            "count": 0
           },
           {
            "bin_start": 0.6,
            "bin_end": 0.7,
            "count": 0
           },
           {
            "bin_start": 0.7,
            "bin_end": 0.8,
            "count": 0
           },
           {
            "bin_start": 0.8,
            "bin_end": 0.9,
            "count": 0
           },
           {
            "bin_start": 0.9,
            "bin_end": 1,
            "count": 0
           },
           {
            "bin_start": 1,
            "bin_end": 1.1,
            "count": 1
           },
           {
            "bin_start": 1.1,
            "bin_end": 1.2000000000000002,
            "count": 0
           },
           {
            "bin_start": 1.2000000000000002,
            "bin_end": 1.3,
            "count": 0
           },
           {
            "bin_start": 1.3,
            "bin_end": 1.4,
            "count": 0
           },
           {
            "bin_start": 1.4,
            "bin_end": 1.5,
            "count": 0
           }
          ]
         }
        },
        {
         "name": "building_id",
         "dtype": "int64",
         "stats": {
          "unique_count": 1,
          "nan_count": 0,
          "min": "6542",
          "max": "6542",
          "histogram": [
           {
            "bin_start": 6541.5,
            "bin_end": 6541.6,
            "count": 0
           },
           {
            "bin_start": 6541.6,
            "bin_end": 6541.7,
            "count": 0
           },
           {
            "bin_start": 6541.7,
            "bin_end": 6541.8,
            "count": 0
           },
           {
            "bin_start": 6541.8,
            "bin_end": 6541.9,
            "count": 0
           },
           {
            "bin_start": 6541.9,
            "bin_end": 6542,
            "count": 0
           },
           {
            "bin_start": 6542,
            "bin_end": 6542.1,
            "count": 1
           },
           {
            "bin_start": 6542.1,
            "bin_end": 6542.2,
            "count": 0
           },
           {
            "bin_start": 6542.2,
            "bin_end": 6542.3,
            "count": 0
           },
           {
            "bin_start": 6542.3,
            "bin_end": 6542.4,
            "count": 0
           },
           {
            "bin_start": 6542.4,
            "bin_end": 6542.5,
            "count": 0
           }
          ]
         }
        },
        {
         "name": "new",
         "dtype": "int64",
         "stats": {
          "unique_count": 1,
          "nan_count": 0,
          "min": "1",
          "max": "1",
          "histogram": [
           {
            "bin_start": 0.5,
            "bin_end": 0.6,
            "count": 0
           },
           {
            "bin_start": 0.6,
            "bin_end": 0.7,
            "count": 0
           },
           {
            "bin_start": 0.7,
            "bin_end": 0.8,
            "count": 0
           },
           {
            "bin_start": 0.8,
            "bin_end": 0.9,
            "count": 0
           },
           {
            "bin_start": 0.9,
            "bin_end": 1,
            "count": 0
           },
           {
            "bin_start": 1,
            "bin_end": 1.1,
            "count": 1
           },
           {
            "bin_start": 1.1,
            "bin_end": 1.2000000000000002,
            "count": 0
           },
           {
            "bin_start": 1.2000000000000002,
            "bin_end": 1.3,
            "count": 0
           },
           {
            "bin_start": 1.3,
            "bin_end": 1.4,
            "count": 0
           },
           {
            "bin_start": 1.4,
            "bin_end": 1.5,
            "count": 0
           }
          ]
         }
        },
        {
         "name": "district",
         "dtype": "int64",
         "stats": {
          "unique_count": 1,
          "nan_count": 0,
          "min": "8",
          "max": "8",
          "histogram": [
           {
            "bin_start": 7.5,
            "bin_end": 7.6,
            "count": 0
           },
           {
            "bin_start": 7.6,
            "bin_end": 7.7,
            "count": 0
           },
           {
            "bin_start": 7.7,
            "bin_end": 7.8,
            "count": 0
           },
           {
            "bin_start": 7.8,
            "bin_end": 7.9,
            "count": 0
           },
           {
            "bin_start": 7.9,
            "bin_end": 8,
            "count": 0
           },
           {
            "bin_start": 8,
            "bin_end": 8.1,
            "count": 1
           },
           {
            "bin_start": 8.1,
            "bin_end": 8.2,
            "count": 0
           },
           {
            "bin_start": 8.2,
            "bin_end": 8.3,
            "count": 0
           },
           {
            "bin_start": 8.3,
            "bin_end": 8.4,
            "count": 0
           },
           {
            "bin_start": 8.4,
            "bin_end": 8.5,
            "count": 0
           }
          ]
         }
        },
        {
         "name": "constructed",
         "dtype": "int64",
         "stats": {
          "unique_count": 1,
          "nan_count": 0,
          "min": "2011",
          "max": "2011",
          "histogram": [
           {
            "bin_start": 2010.5,
            "bin_end": 2010.6,
            "count": 0
           },
           {
            "bin_start": 2010.6,
            "bin_end": 2010.7,
            "count": 0
           },
           {
            "bin_start": 2010.7,
            "bin_end": 2010.8,
            "count": 0
           },
           {
            "bin_start": 2010.8,
            "bin_end": 2010.9,
            "count": 0
           },
           {
            "bin_start": 2010.9,
            "bin_end": 2011,
            "count": 0
           },
           {
            "bin_start": 2011,
            "bin_end": 2011.1,
            "count": 1
           },
           {
            "bin_start": 2011.1,
            "bin_end": 2011.2,
            "count": 0
           },
           {
            "bin_start": 2011.2,
            "bin_end": 2011.3,
            "count": 0
           },
           {
            "bin_start": 2011.3,
            "bin_end": 2011.4,
            "count": 0
           },
           {
            "bin_start": 2011.4,
            "bin_end": 2011.5,
            "count": 0
           }
          ]
         }
        },
        {
         "name": "material",
         "dtype": "int64",
         "stats": {
          "unique_count": 1,
          "nan_count": 0,
          "min": "2",
          "max": "2",
          "histogram": [
           {
            "bin_start": 1.5,
            "bin_end": 1.6,
            "count": 0
           },
           {
            "bin_start": 1.6,
            "bin_end": 1.7,
            "count": 0
           },
           {
            "bin_start": 1.7,
            "bin_end": 1.8,
            "count": 0
           },
           {
            "bin_start": 1.8,
            "bin_end": 1.9,
            "count": 0
           },
           {
            "bin_start": 1.9,
            "bin_end": 2,
            "count": 0
           },
           {
            "bin_start": 2,
            "bin_end": 2.1,
            "count": 1
           },
           {
            "bin_start": 2.1,
            "bin_end": 2.2,
            "count": 0
           },
           {
            "bin_start": 2.2,
            "bin_end": 2.3,
            "count": 0
           },
           {
            "bin_start": 2.3,
            "bin_end": 2.4,
            "count": 0
           },
           {
            "bin_start": 2.4,
            "bin_end": 2.5,
            "count": 0
           }
          ]
         }
        },
        {
         "name": "stories",
         "dtype": "int64",
         "stats": {
          "unique_count": 1,
          "nan_count": 0,
          "min": "18",
          "max": "18",
          "histogram": [
           {
            "bin_start": 17.5,
            "bin_end": 17.6,
            "count": 0
           },
           {
            "bin_start": 17.6,
            "bin_end": 17.7,
            "count": 0
           },
           {
            "bin_start": 17.7,
            "bin_end": 17.8,
            "count": 0
           },
           {
            "bin_start": 17.8,
            "bin_end": 17.9,
            "count": 0
           },
           {
            "bin_start": 17.9,
            "bin_end": 18,
            "count": 0
           },
           {
            "bin_start": 18,
            "bin_end": 18.1,
            "count": 1
           },
           {
            "bin_start": 18.1,
            "bin_end": 18.2,
            "count": 0
           },
           {
            "bin_start": 18.2,
            "bin_end": 18.3,
            "count": 0
           },
           {
            "bin_start": 18.3,
            "bin_end": 18.4,
            "count": 0
           },
           {
            "bin_start": 18.4,
            "bin_end": 18.5,
            "count": 0
           }
          ]
         }
        },
        {
         "name": "elevator_without",
         "dtype": "int64",
         "stats": {
          "unique_count": 1,
          "nan_count": 0,
          "min": "0",
          "max": "0",
          "histogram": [
           {
            "bin_start": -0.5,
            "bin_end": -0.4,
            "count": 0
           },
           {
            "bin_start": -0.4,
            "bin_end": -0.3,
            "count": 0
           },
           {
            "bin_start": -0.3,
            "bin_end": -0.19999999999999996,
            "count": 0
           },
           {
            "bin_start": -0.19999999999999996,
            "bin_end": -0.09999999999999998,
            "count": 0
           },
           {
            "bin_start": -0.09999999999999998,
            "bin_end": 0,
            "count": 0
           },
           {
            "bin_start": 0,
            "bin_end": 0.10000000000000009,
            "count": 1
           },
           {
            "bin_start": 0.10000000000000009,
            "bin_end": 0.20000000000000007,
            "count": 0
           },
           {
            "bin_start": 0.20000000000000007,
            "bin_end": 0.30000000000000004,
            "count": 0
           },
           {
            "bin_start": 0.30000000000000004,
            "bin_end": 0.4,
            "count": 0
           },
           {
            "bin_start": 0.4,
            "bin_end": 0.5,
            "count": 0
           }
          ]
         }
        },
        {
         "name": "elevator_passenger",
         "dtype": "int64",
         "stats": {
          "unique_count": 1,
          "nan_count": 0,
          "min": "1",
          "max": "1",
          "histogram": [
           {
            "bin_start": 0.5,
            "bin_end": 0.6,
            "count": 0
           },
           {
            "bin_start": 0.6,
            "bin_end": 0.7,
            "count": 0
           },
           {
            "bin_start": 0.7,
            "bin_end": 0.8,
            "count": 0
           },
           {
            "bin_start": 0.8,
            "bin_end": 0.9,
            "count": 0
           },
           {
            "bin_start": 0.9,
            "bin_end": 1,
            "count": 0
           },
           {
            "bin_start": 1,
            "bin_end": 1.1,
            "count": 1
           },
           {
            "bin_start": 1.1,
            "bin_end": 1.2000000000000002,
            "count": 0
           },
           {
            "bin_start": 1.2000000000000002,
            "bin_end": 1.3,
            "count": 0
           },
           {
            "bin_start": 1.3,
            "bin_end": 1.4,
            "count": 0
           },
           {
            "bin_start": 1.4,
            "bin_end": 1.5,
            "count": 0
           }
          ]
         }
        },
        {
         "name": "elevator_service",
         "dtype": "int64",
         "stats": {
          "unique_count": 1,
          "nan_count": 0,
          "min": "1",
          "max": "1",
          "histogram": [
           {
            "bin_start": 0.5,
            "bin_end": 0.6,
            "count": 0
           },
           {
            "bin_start": 0.6,
            "bin_end": 0.7,
            "count": 0
           },
           {
            "bin_start": 0.7,
            "bin_end": 0.8,
            "count": 0
           },
           {
            "bin_start": 0.8,
            "bin_end": 0.9,
            "count": 0
           },
           {
            "bin_start": 0.9,
            "bin_end": 1,
            "count": 0
           },
           {
            "bin_start": 1,
            "bin_end": 1.1,
            "count": 1
           },
           {
            "bin_start": 1.1,
            "bin_end": 1.2000000000000002,
            "count": 0
           },
           {
            "bin_start": 1.2000000000000002,
            "bin_end": 1.3,
            "count": 0
           },
           {
            "bin_start": 1.3,
            "bin_end": 1.4,
            "count": 0
           },
           {
            "bin_start": 1.4,
            "bin_end": 1.5,
            "count": 0
           }
          ]
         }
        },
        {
         "name": "parking",
         "dtype": "int64",
         "stats": {
          "unique_count": 1,
          "nan_count": 0,
          "min": "0",
          "max": "0",
          "histogram": [
           {
            "bin_start": -0.5,
            "bin_end": -0.4,
            "count": 0
           },
           {
            "bin_start": -0.4,
            "bin_end": -0.3,
            "count": 0
           },
           {
            "bin_start": -0.3,
            "bin_end": -0.19999999999999996,
            "count": 0
           },
           {
            "bin_start": -0.19999999999999996,
            "bin_end": -0.09999999999999998,
            "count": 0
           },
           {
            "bin_start": -0.09999999999999998,
            "bin_end": 0,
            "count": 0
           },
           {
            "bin_start": 0,
            "bin_end": 0.10000000000000009,
            "count": 1
           },
           {
            "bin_start": 0.10000000000000009,
            "bin_end": 0.20000000000000007,
            "count": 0
           },
           {
            "bin_start": 0.20000000000000007,
            "bin_end": 0.30000000000000004,
            "count": 0
           },
           {
            "bin_start": 0.30000000000000004,
            "bin_end": 0.4,
            "count": 0
           },
           {
            "bin_start": 0.4,
            "bin_end": 0.5,
            "count": 0
           }
          ]
         }
        },
        {
         "name": "garbage_chute",
         "dtype": "int64",
         "stats": {
          "unique_count": 1,
          "nan_count": 0,
          "min": "1",
          "max": "1",
          "histogram": [
           {
            "bin_start": 0.5,
            "bin_end": 0.6,
            "count": 0
           },
           {
            "bin_start": 0.6,
            "bin_end": 0.7,
            "count": 0
           },
           {
            "bin_start": 0.7,
            "bin_end": 0.8,
            "count": 0
           },
           {
            "bin_start": 0.8,
            "bin_end": 0.9,
            "count": 0
           },
           {
            "bin_start": 0.9,
            "bin_end": 1,
            "count": 0
           },
           {
            "bin_start": 1,
            "bin_end": 1.1,
            "count": 1
           },
           {
            "bin_start": 1.1,
            "bin_end": 1.2000000000000002,
            "count": 0
           },
           {
            "bin_start": 1.2000000000000002,
            "bin_end": 1.3,
            "count": 0
           },
           {
            "bin_start": 1.3,
            "bin_end": 1.4,
            "count": 0
           },
           {
            "bin_start": 1.4,
            "bin_end": 1.5,
            "count": 0
           }
          ]
         }
        },
        {
         "name": "heating",
         "dtype": "int64",
         "stats": {
          "unique_count": 1,
          "nan_count": 0,
          "min": "0",
          "max": "0",
          "histogram": [
           {
            "bin_start": -0.5,
            "bin_end": -0.4,
            "count": 0
           },
           {
            "bin_start": -0.4,
            "bin_end": -0.3,
            "count": 0
           },
           {
            "bin_start": -0.3,
            "bin_end": -0.19999999999999996,
            "count": 0
           },
           {
            "bin_start": -0.19999999999999996,
            "bin_end": -0.09999999999999998,
            "count": 0
           },
           {
            "bin_start": -0.09999999999999998,
            "bin_end": 0,
            "count": 0
           },
           {
            "bin_start": 0,
            "bin_end": 0.10000000000000009,
            "count": 1
           },
           {
            "bin_start": 0.10000000000000009,
            "bin_end": 0.20000000000000007,
            "count": 0
           },
           {
            "bin_start": 0.20000000000000007,
            "bin_end": 0.30000000000000004,
            "count": 0
           },
           {
            "bin_start": 0.30000000000000004,
            "bin_end": 0.4,
            "count": 0
           },
           {
            "bin_start": 0.4,
            "bin_end": 0.5,
            "count": 0
           }
          ]
         }
        },
        {
         "name": "price/area",
         "dtype": "float64",
         "stats": {
          "unique_count": 1,
          "nan_count": 0,
          "min": "318069.9852143913",
          "max": "318069.9852143913",
          "histogram": [
           {
            "bin_start": 318069.4852143913,
            "bin_end": 318069.5852143913,
            "count": 0
           },
           {
            "bin_start": 318069.5852143913,
            "bin_end": 318069.6852143913,
            "count": 0
           },
           {
            "bin_start": 318069.6852143913,
            "bin_end": 318069.7852143913,
            "count": 0
           },
           {
            "bin_start": 318069.7852143913,
            "bin_end": 318069.88521439134,
            "count": 0
           },
           {
            "bin_start": 318069.88521439134,
            "bin_end": 318069.9852143913,
            "count": 0
           },
           {
            "bin_start": 318069.9852143913,
            "bin_end": 318070.0852143913,
            "count": 1
           },
           {
            "bin_start": 318070.0852143913,
            "bin_end": 318070.1852143913,
            "count": 0
           },
           {
            "bin_start": 318070.1852143913,
            "bin_end": 318070.2852143913,
            "count": 0
           },
           {
            "bin_start": 318070.2852143913,
            "bin_end": 318070.38521439134,
            "count": 0
           },
           {
            "bin_start": 318070.38521439134,
            "bin_end": 318070.4852143913,
            "count": 0
           }
          ]
         }
        },
        {
         "name": "distance",
         "dtype": "float64",
         "stats": {
          "unique_count": 1,
          "nan_count": 0,
          "min": "0.11514983501942284",
          "max": "0.11514983501942284",
          "histogram": [
           {
            "bin_start": -0.38485016498057717,
            "bin_end": -0.28485016498057714,
            "count": 0
           },
           {
            "bin_start": -0.28485016498057714,
            "bin_end": -0.18485016498057716,
            "count": 0
           },
           {
            "bin_start": -0.18485016498057716,
            "bin_end": -0.08485016498057713,
            "count": 0
           },
           {
            "bin_start": -0.08485016498057713,
            "bin_end": 0.015149835019422853,
            "count": 0
           },
           {
            "bin_start": 0.015149835019422853,
            "bin_end": 0.11514983501942283,
            "count": 0
           },
           {
            "bin_start": 0.11514983501942283,
            "bin_end": 0.21514983501942292,
            "count": 1
           },
           {
            "bin_start": 0.21514983501942292,
            "bin_end": 0.3151498350194229,
            "count": 0
           },
           {
            "bin_start": 0.3151498350194229,
            "bin_end": 0.4151498350194229,
            "count": 0
           },
           {
            "bin_start": 0.4151498350194229,
            "bin_end": 0.5151498350194228,
            "count": 0
           },
           {
            "bin_start": 0.5151498350194228,
            "bin_end": 0.6151498350194229,
            "count": 0
           }
          ]
         }
        },
        {
         "name": "street",
         "dtype": "object",
         "stats": {
          "unique_count": 1,
          "nan_count": 0,
          "categories": [
           {
            "name": "улица Маршала Рыбалко",
            "count": 1
           }
          ]
         }
        },
        {
         "name": "_deepnote_index_column",
         "dtype": "int64"
        }
       ],
       "rows_top": [
        {
         "id": 455,
         "seller": 3,
         "price": 32268200,
         "area_total": 101.45,
         "area_kitchen": 14.319999999999999,
         "area_living": 78.16,
         "floor": 1,
         "rooms": 3,
         "layout": 1,
         "ceiling": 3,
         "bathrooms_shared": 1,
         "bathrooms_private": 1,
         "windows_court": 1,
         "windows_street": 1,
         "balconies": 1,
         "loggias": 0,
         "condition": 1,
         "phones": 1,
         "building_id": 6542,
         "new": 1,
         "district": 8,
         "constructed": 2011,
         "material": 2,
         "stories": 18,
         "elevator_without": 0,
         "elevator_passenger": 1,
         "elevator_service": 1,
         "parking": 0,
         "garbage_chute": 1,
         "heating": 0,
         "price/area": 318069.9852143913,
         "distance": 0.11514983501942284,
         "street": "улица Маршала Рыбалко",
         "_deepnote_index_column": 455
        }
       ],
       "rows_bottom": null
      },
      "text/plain": "      id  seller       price  area_total  area_kitchen  area_living  floor  \\\n455  455       3  32268200.0      101.45         14.32        78.16      1   \n\n     rooms  layout  ceiling  ...  stories  elevator_without  \\\n455      3       1        3  ...       18                 0   \n\n     elevator_passenger  elevator_service  parking  garbage_chute  heating  \\\n455                   1                 1        0              1        0   \n\n        price/area  distance                 street  \n455  318069.985214   0.11515  улица Маршала Рыбалко  \n\n[1 rows x 33 columns]",
      "text/html": "<div>\n<style scoped>\n    .dataframe tbody tr th:only-of-type {\n        vertical-align: middle;\n    }\n\n    .dataframe tbody tr th {\n        vertical-align: top;\n    }\n\n    .dataframe thead th {\n        text-align: right;\n    }\n</style>\n<table border=\"1\" class=\"dataframe\">\n  <thead>\n    <tr style=\"text-align: right;\">\n      <th></th>\n      <th>id</th>\n      <th>seller</th>\n      <th>price</th>\n      <th>area_total</th>\n      <th>area_kitchen</th>\n      <th>area_living</th>\n      <th>floor</th>\n      <th>rooms</th>\n      <th>layout</th>\n      <th>ceiling</th>\n      <th>...</th>\n      <th>stories</th>\n      <th>elevator_without</th>\n      <th>elevator_passenger</th>\n      <th>elevator_service</th>\n      <th>parking</th>\n      <th>garbage_chute</th>\n      <th>heating</th>\n      <th>price/area</th>\n      <th>distance</th>\n      <th>street</th>\n    </tr>\n  </thead>\n  <tbody>\n    <tr>\n      <th>455</th>\n      <td>455</td>\n      <td>3</td>\n      <td>32268200.0</td>\n      <td>101.45</td>\n      <td>14.32</td>\n      <td>78.16</td>\n      <td>1</td>\n      <td>3</td>\n      <td>1</td>\n      <td>3</td>\n      <td>...</td>\n      <td>18</td>\n      <td>0</td>\n      <td>1</td>\n      <td>1</td>\n      <td>0</td>\n      <td>1</td>\n      <td>0</td>\n      <td>318069.985214</td>\n      <td>0.11515</td>\n      <td>улица Маршала Рыбалко</td>\n    </tr>\n  </tbody>\n</table>\n<p>1 rows × 33 columns</p>\n</div>"
     },
     "metadata": {}
    }
   ],
   "execution_count": null
  },
  {
   "cell_type": "code",
   "metadata": {
    "tags": [],
    "deepnote_to_be_reexecuted": false,
    "source_hash": "509fc3fe",
    "execution_start": 1637358367079,
    "execution_millis": 0,
    "cell_id": "00024-d6eca647-121d-4dea-8631-e3ec2572275e",
    "deepnote_cell_type": "code"
   },
   "source": "#df_train['floor/stories'] = df_train.floor/df_train.stories\n#df_test['floor/stories'] = df_test.floor/df_test.stories\n\n#df_train['distance'] = np.sqrt((37.6 - df_train['longitude'])**2 + (55.75 - df_train['latitude'])**2)\n#df_test['distance'] = np.sqrt((37.6 - df_test['longitude'])**2 + (55.75 - df_test['latitude'])**2)\n# happens further up",
   "outputs": [],
   "execution_count": null
  },
  {
   "cell_type": "code",
   "metadata": {
    "tags": [],
    "deepnote_to_be_reexecuted": false,
    "source_hash": "ada10ea4",
    "execution_start": 1637358369675,
    "execution_millis": 16,
    "cell_id": "00025-03caec95-319c-42b3-8328-66032f52298f",
    "deepnote_cell_type": "code"
   },
   "source": "df_train = df1\ndf_test = df1_test",
   "outputs": [],
   "execution_count": null
  },
  {
   "cell_type": "code",
   "metadata": {
    "tags": [],
    "deepnote_to_be_reexecuted": false,
    "source_hash": "b20afeba",
    "execution_start": 1637358373219,
    "execution_millis": 61,
    "deepnote_output_heights": [
     21.1875
    ],
    "cell_id": "00026-260a4bbc-803d-4237-a2cb-87787af8de57",
    "deepnote_cell_type": "code"
   },
   "source": "df_test.shape",
   "outputs": [
    {
     "output_type": "execute_result",
     "execution_count": 39,
     "data": {
      "text/plain": "(9937, 31)"
     },
     "metadata": {}
    }
   ],
   "execution_count": null
  },
  {
   "cell_type": "code",
   "metadata": {
    "tags": [],
    "deepnote_to_be_reexecuted": false,
    "source_hash": "db981d08",
    "execution_start": 1637358375553,
    "execution_millis": 7,
    "deepnote_output_heights": [
     21.1875
    ],
    "cell_id": "00027-cf9239d3-1f0b-4fb7-94c5-3af1a2e2f0ce",
    "deepnote_cell_type": "code"
   },
   "source": "df_train.shape",
   "outputs": [
    {
     "output_type": "execute_result",
     "execution_count": 40,
     "data": {
      "text/plain": "(23237, 33)"
     },
     "metadata": {}
    }
   ],
   "execution_count": null
  },
  {
   "cell_type": "code",
   "metadata": {
    "tags": [],
    "deepnote_to_be_reexecuted": false,
    "source_hash": "426b5c12",
    "execution_start": 1637358403503,
    "execution_millis": 7,
    "cell_id": "00028-a8b5b7c9-b2fe-4b06-b68d-e831d81489e5",
    "deepnote_cell_type": "code"
   },
   "source": "#y1 = df_train['price']\n\nX1_test = df_test.drop(['id', 'bathrooms_private', 'loggias', 'seller', 'bathrooms_shared', 'elevator_without', 'ceiling', 'material', 'constructed'], axis=1)\n\nX1_test_area_total = X1_test.area_total.values # Save area total values from training set so that we can use feature engineering on price/area as measure\n#df_train['price/area'] = df_train['price']/df_train['area_total'] #already done\ny1 = df_train['price/area'] # Don't drop area here because we need it for split\n\nX1 = df_train.drop(['price', 'id', 'price/area', 'bathrooms_private', 'loggias', 'seller', 'bathrooms_shared', 'elevator_without', 'ceiling', 'material', 'constructed'], axis=1)",
   "outputs": [],
   "execution_count": null
  },
  {
   "cell_type": "code",
   "metadata": {
    "tags": [],
    "deepnote_to_be_reexecuted": false,
    "source_hash": "2e0d2350",
    "execution_start": 1637358406458,
    "execution_millis": 26,
    "deepnote_output_heights": [
     21.1875
    ],
    "cell_id": "00029-6173401c-320c-476f-b8aa-7869207c1ee3",
    "deepnote_cell_type": "code"
   },
   "source": "X_train, X_val, y_train, y_val = train_test_split(X1, y1, test_size=0.2, random_state=1, shuffle=True)\nX_train.shape, X_val.shape, y_train.shape,y_val.shape, X1_test.shape",
   "outputs": [
    {
     "output_type": "execute_result",
     "execution_count": 43,
     "data": {
      "text/plain": "((18589, 22), (4648, 22), (18589,), (4648,), (9937, 22))"
     },
     "metadata": {}
    }
   ],
   "execution_count": null
  },
  {
   "cell_type": "code",
   "metadata": {
    "tags": [],
    "deepnote_to_be_reexecuted": false,
    "source_hash": "6d8343f0",
    "execution_start": 1637358412002,
    "execution_millis": 298,
    "cell_id": "00030-6a0d75e4-93ff-4406-ab33-92149265e05d",
    "deepnote_cell_type": "code"
   },
   "source": "X1_test.head()",
   "outputs": [
    {
     "output_type": "execute_result",
     "execution_count": 44,
     "data": {
      "application/vnd.deepnote.dataframe.v2+json": {
       "row_count": 5,
       "column_count": 22,
       "columns": [
        {
         "name": "area_total",
         "dtype": "float64",
         "stats": {
          "unique_count": 5,
          "nan_count": 0,
          "min": "34.0",
          "max": "71.4",
          "histogram": [
           {
            "bin_start": 34,
            "bin_end": 37.74,
            "count": 1
           },
           {
            "bin_start": 37.74,
            "bin_end": 41.480000000000004,
            "count": 1
           },
           {
            "bin_start": 41.480000000000004,
            "bin_end": 45.22,
            "count": 0
           },
           {
            "bin_start": 45.22,
            "bin_end": 48.96,
            "count": 0
           },
           {
            "bin_start": 48.96,
            "bin_end": 52.7,
            "count": 0
           },
           {
            "bin_start": 52.7,
            "bin_end": 56.440000000000005,
            "count": 1
           },
           {
            "bin_start": 56.440000000000005,
            "bin_end": 60.18000000000001,
            "count": 0
           },
           {
            "bin_start": 60.18000000000001,
            "bin_end": 63.92,
            "count": 1
           },
           {
            "bin_start": 63.92,
            "bin_end": 67.66,
            "count": 0
           },
           {
            "bin_start": 67.66,
            "bin_end": 71.4,
            "count": 1
           }
          ]
         }
        },
        {
         "name": "area_kitchen",
         "dtype": "float64",
         "stats": {
          "unique_count": 5,
          "nan_count": 0,
          "min": "4.0",
          "max": "19.6",
          "histogram": [
           {
            "bin_start": 4,
            "bin_end": 5.5600000000000005,
            "count": 1
           },
           {
            "bin_start": 5.5600000000000005,
            "bin_end": 7.12,
            "count": 0
           },
           {
            "bin_start": 7.12,
            "bin_end": 8.68,
            "count": 0
           },
           {
            "bin_start": 8.68,
            "bin_end": 10.24,
            "count": 1
           },
           {
            "bin_start": 10.24,
            "bin_end": 11.8,
            "count": 0
           },
           {
            "bin_start": 11.8,
            "bin_end": 13.36,
            "count": 1
           },
           {
            "bin_start": 13.36,
            "bin_end": 14.92,
            "count": 0
           },
           {
            "bin_start": 14.92,
            "bin_end": 16.48,
            "count": 1
           },
           {
            "bin_start": 16.48,
            "bin_end": 18.04,
            "count": 0
           },
           {
            "bin_start": 18.04,
            "bin_end": 19.6,
            "count": 1
           }
          ]
         }
        },
        {
         "name": "area_living",
         "dtype": "float64",
         "stats": {
          "unique_count": 5,
          "nan_count": 0,
          "min": "11.2",
          "max": "55.56",
          "histogram": [
           {
            "bin_start": 11.2,
            "bin_end": 15.636,
            "count": 1
           },
           {
            "bin_start": 15.636,
            "bin_end": 20.072,
            "count": 1
           },
           {
            "bin_start": 20.072,
            "bin_end": 24.508,
            "count": 0
           },
           {
            "bin_start": 24.508,
            "bin_end": 28.944,
            "count": 0
           },
           {
            "bin_start": 28.944,
            "bin_end": 33.379999999999995,
            "count": 1
           },
           {
            "bin_start": 33.379999999999995,
            "bin_end": 37.816,
            "count": 0
           },
           {
            "bin_start": 37.816,
            "bin_end": 42.251999999999995,
            "count": 0
           },
           {
            "bin_start": 42.251999999999995,
            "bin_end": 46.688,
            "count": 0
           },
           {
            "bin_start": 46.688,
            "bin_end": 51.123999999999995,
            "count": 1
           },
           {
            "bin_start": 51.123999999999995,
            "bin_end": 55.56,
            "count": 1
           }
          ]
         }
        },
        {
         "name": "floor",
         "dtype": "int64",
         "stats": {
          "unique_count": 5,
          "nan_count": 0,
          "min": "2",
          "max": "14",
          "histogram": [
           {
            "bin_start": 2,
            "bin_end": 3.2,
            "count": 1
           },
           {
            "bin_start": 3.2,
            "bin_end": 4.4,
            "count": 1
           },
           {
            "bin_start": 4.4,
            "bin_end": 5.6,
            "count": 1
           },
           {
            "bin_start": 5.6,
            "bin_end": 6.8,
            "count": 0
           },
           {
            "bin_start": 6.8,
            "bin_end": 8,
            "count": 0
           },
           {
            "bin_start": 8,
            "bin_end": 9.2,
            "count": 0
           },
           {
            "bin_start": 9.2,
            "bin_end": 10.4,
            "count": 1
           },
           {
            "bin_start": 10.4,
            "bin_end": 11.6,
            "count": 0
           },
           {
            "bin_start": 11.6,
            "bin_end": 12.799999999999999,
            "count": 0
           },
           {
            "bin_start": 12.799999999999999,
            "bin_end": 14,
            "count": 1
           }
          ]
         }
        },
        {
         "name": "rooms",
         "dtype": "int64",
         "stats": {
          "unique_count": 2,
          "nan_count": 0,
          "min": "1",
          "max": "2",
          "histogram": [
           {
            "bin_start": 1,
            "bin_end": 1.1,
            "count": 4
           },
           {
            "bin_start": 1.1,
            "bin_end": 1.2,
            "count": 0
           },
           {
            "bin_start": 1.2,
            "bin_end": 1.3,
            "count": 0
           },
           {
            "bin_start": 1.3,
            "bin_end": 1.4,
            "count": 0
           },
           {
            "bin_start": 1.4,
            "bin_end": 1.5,
            "count": 0
           },
           {
            "bin_start": 1.5,
            "bin_end": 1.6,
            "count": 0
           },
           {
            "bin_start": 1.6,
            "bin_end": 1.7000000000000002,
            "count": 0
           },
           {
            "bin_start": 1.7000000000000002,
            "bin_end": 1.8,
            "count": 0
           },
           {
            "bin_start": 1.8,
            "bin_end": 1.9,
            "count": 0
           },
           {
            "bin_start": 1.9,
            "bin_end": 2,
            "count": 1
           }
          ]
         }
        },
        {
         "name": "layout",
         "dtype": "int64",
         "stats": {
          "unique_count": 1,
          "nan_count": 0,
          "min": "1",
          "max": "1",
          "histogram": [
           {
            "bin_start": 0.5,
            "bin_end": 0.6,
            "count": 0
           },
           {
            "bin_start": 0.6,
            "bin_end": 0.7,
            "count": 0
           },
           {
            "bin_start": 0.7,
            "bin_end": 0.8,
            "count": 0
           },
           {
            "bin_start": 0.8,
            "bin_end": 0.9,
            "count": 0
           },
           {
            "bin_start": 0.9,
            "bin_end": 1,
            "count": 0
           },
           {
            "bin_start": 1,
            "bin_end": 1.1,
            "count": 5
           },
           {
            "bin_start": 1.1,
            "bin_end": 1.2000000000000002,
            "count": 0
           },
           {
            "bin_start": 1.2000000000000002,
            "bin_end": 1.3,
            "count": 0
           },
           {
            "bin_start": 1.3,
            "bin_end": 1.4,
            "count": 0
           },
           {
            "bin_start": 1.4,
            "bin_end": 1.5,
            "count": 0
           }
          ]
         }
        },
        {
         "name": "windows_court",
         "dtype": "int64",
         "stats": {
          "unique_count": 2,
          "nan_count": 0,
          "min": "0",
          "max": "1",
          "histogram": [
           {
            "bin_start": 0,
            "bin_end": 0.1,
            "count": 1
           },
           {
            "bin_start": 0.1,
            "bin_end": 0.2,
            "count": 0
           },
           {
            "bin_start": 0.2,
            "bin_end": 0.30000000000000004,
            "count": 0
           },
           {
            "bin_start": 0.30000000000000004,
            "bin_end": 0.4,
            "count": 0
           },
           {
            "bin_start": 0.4,
            "bin_end": 0.5,
            "count": 0
           },
           {
            "bin_start": 0.5,
            "bin_end": 0.6000000000000001,
            "count": 0
           },
           {
            "bin_start": 0.6000000000000001,
            "bin_end": 0.7000000000000001,
            "count": 0
           },
           {
            "bin_start": 0.7000000000000001,
            "bin_end": 0.8,
            "count": 0
           },
           {
            "bin_start": 0.8,
            "bin_end": 0.9,
            "count": 0
           },
           {
            "bin_start": 0.9,
            "bin_end": 1,
            "count": 4
           }
          ]
         }
        },
        {
         "name": "windows_street",
         "dtype": "int64",
         "stats": {
          "unique_count": 2,
          "nan_count": 0,
          "min": "0",
          "max": "1",
          "histogram": [
           {
            "bin_start": 0,
            "bin_end": 0.1,
            "count": 4
           },
           {
            "bin_start": 0.1,
            "bin_end": 0.2,
            "count": 0
           },
           {
            "bin_start": 0.2,
            "bin_end": 0.30000000000000004,
            "count": 0
           },
           {
            "bin_start": 0.30000000000000004,
            "bin_end": 0.4,
            "count": 0
           },
           {
            "bin_start": 0.4,
            "bin_end": 0.5,
            "count": 0
           },
           {
            "bin_start": 0.5,
            "bin_end": 0.6000000000000001,
            "count": 0
           },
           {
            "bin_start": 0.6000000000000001,
            "bin_end": 0.7000000000000001,
            "count": 0
           },
           {
            "bin_start": 0.7000000000000001,
            "bin_end": 0.8,
            "count": 0
           },
           {
            "bin_start": 0.8,
            "bin_end": 0.9,
            "count": 0
           },
           {
            "bin_start": 0.9,
            "bin_end": 1,
            "count": 1
           }
          ]
         }
        },
        {
         "name": "balconies",
         "dtype": "int64",
         "stats": {
          "unique_count": 2,
          "nan_count": 0,
          "min": "0",
          "max": "1",
          "histogram": [
           {
            "bin_start": 0,
            "bin_end": 0.1,
            "count": 4
           },
           {
            "bin_start": 0.1,
            "bin_end": 0.2,
            "count": 0
           },
           {
            "bin_start": 0.2,
            "bin_end": 0.30000000000000004,
            "count": 0
           },
           {
            "bin_start": 0.30000000000000004,
            "bin_end": 0.4,
            "count": 0
           },
           {
            "bin_start": 0.4,
            "bin_end": 0.5,
            "count": 0
           },
           {
            "bin_start": 0.5,
            "bin_end": 0.6000000000000001,
            "count": 0
           },
           {
            "bin_start": 0.6000000000000001,
            "bin_end": 0.7000000000000001,
            "count": 0
           },
           {
            "bin_start": 0.7000000000000001,
            "bin_end": 0.8,
            "count": 0
           },
           {
            "bin_start": 0.8,
            "bin_end": 0.9,
            "count": 0
           },
           {
            "bin_start": 0.9,
            "bin_end": 1,
            "count": 1
           }
          ]
         }
        },
        {
         "name": "condition",
         "dtype": "int64",
         "stats": {
          "unique_count": 4,
          "nan_count": 0,
          "min": "0",
          "max": "3",
          "histogram": [
           {
            "bin_start": 0,
            "bin_end": 0.3,
            "count": 2
           },
           {
            "bin_start": 0.3,
            "bin_end": 0.6,
            "count": 0
           },
           {
            "bin_start": 0.6,
            "bin_end": 0.8999999999999999,
            "count": 0
           },
           {
            "bin_start": 0.8999999999999999,
            "bin_end": 1.2,
            "count": 1
           },
           {
            "bin_start": 1.2,
            "bin_end": 1.5,
            "count": 0
           },
           {
            "bin_start": 1.5,
            "bin_end": 1.7999999999999998,
            "count": 0
           },
           {
            "bin_start": 1.7999999999999998,
            "bin_end": 2.1,
            "count": 1
           },
           {
            "bin_start": 2.1,
            "bin_end": 2.4,
            "count": 0
           },
           {
            "bin_start": 2.4,
            "bin_end": 2.6999999999999997,
            "count": 0
           },
           {
            "bin_start": 2.6999999999999997,
            "bin_end": 3,
            "count": 1
           }
          ]
         }
        },
        {
         "name": "phones",
         "dtype": "int64",
         "stats": {
          "unique_count": 1,
          "nan_count": 0,
          "min": "1",
          "max": "1",
          "histogram": [
           {
            "bin_start": 0.5,
            "bin_end": 0.6,
            "count": 0
           },
           {
            "bin_start": 0.6,
            "bin_end": 0.7,
            "count": 0
           },
           {
            "bin_start": 0.7,
            "bin_end": 0.8,
            "count": 0
           },
           {
            "bin_start": 0.8,
            "bin_end": 0.9,
            "count": 0
           },
           {
            "bin_start": 0.9,
            "bin_end": 1,
            "count": 0
           },
           {
            "bin_start": 1,
            "bin_end": 1.1,
            "count": 5
           },
           {
            "bin_start": 1.1,
            "bin_end": 1.2000000000000002,
            "count": 0
           },
           {
            "bin_start": 1.2000000000000002,
            "bin_end": 1.3,
            "count": 0
           },
           {
            "bin_start": 1.3,
            "bin_end": 1.4,
            "count": 0
           },
           {
            "bin_start": 1.4,
            "bin_end": 1.5,
            "count": 0
           }
          ]
         }
        },
        {
         "name": "building_id",
         "dtype": "int64",
         "stats": {
          "unique_count": 5,
          "nan_count": 0,
          "min": "681",
          "max": "7530",
          "histogram": [
           {
            "bin_start": 681,
            "bin_end": 1365.9,
            "count": 2
           },
           {
            "bin_start": 1365.9,
            "bin_end": 2050.8,
            "count": 0
           },
           {
            "bin_start": 2050.8,
            "bin_end": 2735.7,
            "count": 0
           },
           {
            "bin_start": 2735.7,
            "bin_end": 3420.6,
            "count": 0
           },
           {
            "bin_start": 3420.6,
            "bin_end": 4105.5,
            "count": 0
           },
           {
            "bin_start": 4105.5,
            "bin_end": 4790.4,
            "count": 1
           },
           {
            "bin_start": 4790.4,
            "bin_end": 5475.3,
            "count": 1
           },
           {
            "bin_start": 5475.3,
            "bin_end": 6160.2,
            "count": 0
           },
           {
            "bin_start": 6160.2,
            "bin_end": 6845.099999999999,
            "count": 0
           },
           {
            "bin_start": 6845.099999999999,
            "bin_end": 7530,
            "count": 1
           }
          ]
         }
        },
        {
         "name": "new",
         "dtype": "int64",
         "stats": {
          "unique_count": 2,
          "nan_count": 0,
          "min": "0",
          "max": "1",
          "histogram": [
           {
            "bin_start": 0,
            "bin_end": 0.1,
            "count": 4
           },
           {
            "bin_start": 0.1,
            "bin_end": 0.2,
            "count": 0
           },
           {
            "bin_start": 0.2,
            "bin_end": 0.30000000000000004,
            "count": 0
           },
           {
            "bin_start": 0.30000000000000004,
            "bin_end": 0.4,
            "count": 0
           },
           {
            "bin_start": 0.4,
            "bin_end": 0.5,
            "count": 0
           },
           {
            "bin_start": 0.5,
            "bin_end": 0.6000000000000001,
            "count": 0
           },
           {
            "bin_start": 0.6000000000000001,
            "bin_end": 0.7000000000000001,
            "count": 0
           },
           {
            "bin_start": 0.7000000000000001,
            "bin_end": 0.8,
            "count": 0
           },
           {
            "bin_start": 0.8,
            "bin_end": 0.9,
            "count": 0
           },
           {
            "bin_start": 0.9,
            "bin_end": 1,
            "count": 1
           }
          ]
         }
        },
        {
         "name": "district",
         "dtype": "int64",
         "stats": {
          "unique_count": 2,
          "nan_count": 0,
          "min": "0",
          "max": "11",
          "histogram": [
           {
            "bin_start": 0,
            "bin_end": 1.1,
            "count": 1
           },
           {
            "bin_start": 1.1,
            "bin_end": 2.2,
            "count": 0
           },
           {
            "bin_start": 2.2,
            "bin_end": 3.3000000000000003,
            "count": 0
           },
           {
            "bin_start": 3.3000000000000003,
            "bin_end": 4.4,
            "count": 0
           },
           {
            "bin_start": 4.4,
            "bin_end": 5.5,
            "count": 0
           },
           {
            "bin_start": 5.5,
            "bin_end": 6.6000000000000005,
            "count": 0
           },
           {
            "bin_start": 6.6000000000000005,
            "bin_end": 7.700000000000001,
            "count": 0
           },
           {
            "bin_start": 7.700000000000001,
            "bin_end": 8.8,
            "count": 0
           },
           {
            "bin_start": 8.8,
            "bin_end": 9.9,
            "count": 0
           },
           {
            "bin_start": 9.9,
            "bin_end": 11,
            "count": 4
           }
          ]
         }
        },
        {
         "name": "stories",
         "dtype": "int64",
         "stats": {
          "unique_count": 4,
          "nan_count": 0,
          "min": "9",
          "max": "20",
          "histogram": [
           {
            "bin_start": 9,
            "bin_end": 10.1,
            "count": 1
           },
           {
            "bin_start": 10.1,
            "bin_end": 11.2,
            "count": 0
           },
           {
            "bin_start": 11.2,
            "bin_end": 12.3,
            "count": 0
           },
           {
            "bin_start": 12.3,
            "bin_end": 13.4,
            "count": 0
           },
           {
            "bin_start": 13.4,
            "bin_end": 14.5,
            "count": 0
           },
           {
            "bin_start": 14.5,
            "bin_end": 15.600000000000001,
            "count": 1
           },
           {
            "bin_start": 15.600000000000001,
            "bin_end": 16.700000000000003,
            "count": 0
           },
           {
            "bin_start": 16.700000000000003,
            "bin_end": 17.8,
            "count": 2
           },
           {
            "bin_start": 17.8,
            "bin_end": 18.9,
            "count": 0
           },
           {
            "bin_start": 18.9,
            "bin_end": 20,
            "count": 1
           }
          ]
         }
        },
        {
         "name": "elevator_passenger",
         "dtype": "int64",
         "stats": {
          "unique_count": 1,
          "nan_count": 0,
          "min": "1",
          "max": "1",
          "histogram": [
           {
            "bin_start": 0.5,
            "bin_end": 0.6,
            "count": 0
           },
           {
            "bin_start": 0.6,
            "bin_end": 0.7,
            "count": 0
           },
           {
            "bin_start": 0.7,
            "bin_end": 0.8,
            "count": 0
           },
           {
            "bin_start": 0.8,
            "bin_end": 0.9,
            "count": 0
           },
           {
            "bin_start": 0.9,
            "bin_end": 1,
            "count": 0
           },
           {
            "bin_start": 1,
            "bin_end": 1.1,
            "count": 5
           },
           {
            "bin_start": 1.1,
            "bin_end": 1.2000000000000002,
            "count": 0
           },
           {
            "bin_start": 1.2000000000000002,
            "bin_end": 1.3,
            "count": 0
           },
           {
            "bin_start": 1.3,
            "bin_end": 1.4,
            "count": 0
           },
           {
            "bin_start": 1.4,
            "bin_end": 1.5,
            "count": 0
           }
          ]
         }
        },
        {
         "name": "elevator_service",
         "dtype": "int64",
         "stats": {
          "unique_count": 2,
          "nan_count": 0,
          "min": "0",
          "max": "1",
          "histogram": [
           {
            "bin_start": 0,
            "bin_end": 0.1,
            "count": 1
           },
           {
            "bin_start": 0.1,
            "bin_end": 0.2,
            "count": 0
           },
           {
            "bin_start": 0.2,
            "bin_end": 0.30000000000000004,
            "count": 0
           },
           {
            "bin_start": 0.30000000000000004,
            "bin_end": 0.4,
            "count": 0
           },
           {
            "bin_start": 0.4,
            "bin_end": 0.5,
            "count": 0
           },
           {
            "bin_start": 0.5,
            "bin_end": 0.6000000000000001,
            "count": 0
           },
           {
            "bin_start": 0.6000000000000001,
            "bin_end": 0.7000000000000001,
            "count": 0
           },
           {
            "bin_start": 0.7000000000000001,
            "bin_end": 0.8,
            "count": 0
           },
           {
            "bin_start": 0.8,
            "bin_end": 0.9,
            "count": 0
           },
           {
            "bin_start": 0.9,
            "bin_end": 1,
            "count": 4
           }
          ]
         }
        },
        {
         "name": "parking",
         "dtype": "int64",
         "stats": {
          "unique_count": 2,
          "nan_count": 0,
          "min": "0",
          "max": "1",
          "histogram": [
           {
            "bin_start": 0,
            "bin_end": 0.1,
            "count": 2
           },
           {
            "bin_start": 0.1,
            "bin_end": 0.2,
            "count": 0
           },
           {
            "bin_start": 0.2,
            "bin_end": 0.30000000000000004,
            "count": 0
           },
           {
            "bin_start": 0.30000000000000004,
            "bin_end": 0.4,
            "count": 0
           },
           {
            "bin_start": 0.4,
            "bin_end": 0.5,
            "count": 0
           },
           {
            "bin_start": 0.5,
            "bin_end": 0.6000000000000001,
            "count": 0
           },
           {
            "bin_start": 0.6000000000000001,
            "bin_end": 0.7000000000000001,
            "count": 0
           },
           {
            "bin_start": 0.7000000000000001,
            "bin_end": 0.8,
            "count": 0
           },
           {
            "bin_start": 0.8,
            "bin_end": 0.9,
            "count": 0
           },
           {
            "bin_start": 0.9,
            "bin_end": 1,
            "count": 3
           }
          ]
         }
        },
        {
         "name": "garbage_chute",
         "dtype": "int64",
         "stats": {
          "unique_count": 2,
          "nan_count": 0,
          "min": "0",
          "max": "1",
          "histogram": [
           {
            "bin_start": 0,
            "bin_end": 0.1,
            "count": 1
           },
           {
            "bin_start": 0.1,
            "bin_end": 0.2,
            "count": 0
           },
           {
            "bin_start": 0.2,
            "bin_end": 0.30000000000000004,
            "count": 0
           },
           {
            "bin_start": 0.30000000000000004,
            "bin_end": 0.4,
            "count": 0
           },
           {
            "bin_start": 0.4,
            "bin_end": 0.5,
            "count": 0
           },
           {
            "bin_start": 0.5,
            "bin_end": 0.6000000000000001,
            "count": 0
           },
           {
            "bin_start": 0.6000000000000001,
            "bin_end": 0.7000000000000001,
            "count": 0
           },
           {
            "bin_start": 0.7000000000000001,
            "bin_end": 0.8,
            "count": 0
           },
           {
            "bin_start": 0.8,
            "bin_end": 0.9,
            "count": 0
           },
           {
            "bin_start": 0.9,
            "bin_end": 1,
            "count": 4
           }
          ]
         }
        },
        {
         "name": "heating",
         "dtype": "int64",
         "stats": {
          "unique_count": 2,
          "nan_count": 0,
          "min": "0",
          "max": "3",
          "histogram": [
           {
            "bin_start": 0,
            "bin_end": 0.3,
            "count": 4
           },
           {
            "bin_start": 0.3,
            "bin_end": 0.6,
            "count": 0
           },
           {
            "bin_start": 0.6,
            "bin_end": 0.8999999999999999,
            "count": 0
           },
           {
            "bin_start": 0.8999999999999999,
            "bin_end": 1.2,
            "count": 0
           },
           {
            "bin_start": 1.2,
            "bin_end": 1.5,
            "count": 0
           },
           {
            "bin_start": 1.5,
            "bin_end": 1.7999999999999998,
            "count": 0
           },
           {
            "bin_start": 1.7999999999999998,
            "bin_end": 2.1,
            "count": 0
           },
           {
            "bin_start": 2.1,
            "bin_end": 2.4,
            "count": 0
           },
           {
            "bin_start": 2.4,
            "bin_end": 2.6999999999999997,
            "count": 0
           },
           {
            "bin_start": 2.6999999999999997,
            "bin_end": 3,
            "count": 1
           }
          ]
         }
        },
        {
         "name": "distance",
         "dtype": "float64",
         "stats": {
          "unique_count": 5,
          "nan_count": 0,
          "min": "0.05241097794355376",
          "max": "0.345584373087098",
          "histogram": [
           {
            "bin_start": 0.05241097794355376,
            "bin_end": 0.08172831745790818,
            "count": 1
           },
           {
            "bin_start": 0.08172831745790818,
            "bin_end": 0.11104565697226261,
            "count": 0
           },
           {
            "bin_start": 0.11104565697226261,
            "bin_end": 0.14036299648661704,
            "count": 0
           },
           {
            "bin_start": 0.14036299648661704,
            "bin_end": 0.16968033600097146,
            "count": 0
           },
           {
            "bin_start": 0.16968033600097146,
            "bin_end": 0.19899767551532588,
            "count": 0
           },
           {
            "bin_start": 0.19899767551532588,
            "bin_end": 0.22831501502968032,
            "count": 2
           },
           {
            "bin_start": 0.22831501502968032,
            "bin_end": 0.25763235454403477,
            "count": 1
           },
           {
            "bin_start": 0.25763235454403477,
            "bin_end": 0.28694969405838916,
            "count": 0
           },
           {
            "bin_start": 0.28694969405838916,
            "bin_end": 0.3162670335727436,
            "count": 0
           },
           {
            "bin_start": 0.3162670335727436,
            "bin_end": 0.345584373087098,
            "count": 1
           }
          ]
         }
        },
        {
         "name": "street",
         "dtype": "object",
         "stats": {
          "unique_count": 5,
          "nan_count": 0,
          "categories": [
           {
            "name": "2-я Черногрязская улица",
            "count": 1
           },
           {
            "name": "улица Сервантеса",
            "count": 1
           },
           {
            "name": "3 others",
            "count": 3
           }
          ]
         }
        },
        {
         "name": "_deepnote_index_column",
         "dtype": "int64"
        }
       ],
       "rows_top": [
        {
         "area_total": 71.4,
         "area_kitchen": 13.16,
         "area_living": 29.440000000000005,
         "floor": 2,
         "rooms": 1,
         "layout": 1,
         "windows_court": 1,
         "windows_street": 0,
         "balconies": 1,
         "condition": 0,
         "phones": 1,
         "building_id": 5148,
         "new": 0,
         "district": 0,
         "stories": 20,
         "elevator_passenger": 1,
         "elevator_service": 1,
         "parking": 1,
         "garbage_chute": 1,
         "heating": 0,
         "distance": 0.05241097794355376,
         "street": "2-я Черногрязская улица",
         "_deepnote_index_column": 0
        },
        {
         "area_total": 54,
         "area_kitchen": 4,
         "area_living": 50,
         "floor": 4,
         "rooms": 1,
         "layout": 1,
         "windows_court": 1,
         "windows_street": 0,
         "balconies": 0,
         "condition": 3,
         "phones": 1,
         "building_id": 1290,
         "new": 0,
         "district": 11,
         "stories": 15,
         "elevator_passenger": 1,
         "elevator_service": 1,
         "parking": 0,
         "garbage_chute": 0,
         "heating": 0,
         "distance": 0.21643576388850122,
         "street": "улица Сервантеса",
         "_deepnote_index_column": 1
        },
        {
         "area_total": 39.4,
         "area_kitchen": 19.6,
         "area_living": 11.2,
         "floor": 10,
         "rooms": 1,
         "layout": 1,
         "windows_court": 1,
         "windows_street": 0,
         "balconies": 0,
         "condition": 2,
         "phones": 1,
         "building_id": 681,
         "new": 1,
         "district": 11,
         "stories": 9,
         "elevator_passenger": 1,
         "elevator_service": 1,
         "parking": 1,
         "garbage_chute": 1,
         "heating": 0,
         "distance": 0.22887870545990124,
         "street": "Саларьево Парк ЖК",
         "_deepnote_index_column": 2
        },
        {
         "area_total": 60.9,
         "area_kitchen": 15.680000000000001,
         "area_living": 55.56,
         "floor": 5,
         "rooms": 2,
         "layout": 1,
         "windows_court": 0,
         "windows_street": 1,
         "balconies": 0,
         "condition": 0,
         "phones": 1,
         "building_id": 4261,
         "new": 0,
         "district": 11,
         "stories": 17,
         "elevator_passenger": 1,
         "elevator_service": 0,
         "parking": 0,
         "garbage_chute": 1,
         "heating": 3,
         "distance": 0.21739369540996625,
         "street": "улица Александры Монаховой",
         "_deepnote_index_column": 3
        },
        {
         "area_total": 34,
         "area_kitchen": 9,
         "area_living": 17,
         "floor": 14,
         "rooms": 1,
         "layout": 1,
         "windows_court": 1,
         "windows_street": 0,
         "balconies": 0,
         "condition": 1,
         "phones": 1,
         "building_id": 7530,
         "new": 0,
         "district": 11,
         "stories": 17,
         "elevator_passenger": 1,
         "elevator_service": 1,
         "parking": 1,
         "garbage_chute": 1,
         "heating": 0,
         "distance": 0.345584373087098,
         "street": "улица 3-я Нововатутинская",
         "_deepnote_index_column": 4
        }
       ],
       "rows_bottom": null
      },
      "text/plain": "   area_total  area_kitchen  area_living  floor  rooms  layout  windows_court  \\\n0        71.4         13.16        29.44      2      1       1              1   \n1        54.0          4.00        50.00      4      1       1              1   \n2        39.4         19.60        11.20     10      1       1              1   \n3        60.9         15.68        55.56      5      2       1              0   \n4        34.0          9.00        17.00     14      1       1              1   \n\n   windows_street  balconies  condition  ...  new  district  stories  \\\n0               0          1          0  ...    0         0       20   \n1               0          0          3  ...    0        11       15   \n2               0          0          2  ...    1        11        9   \n3               1          0          0  ...    0        11       17   \n4               0          0          1  ...    0        11       17   \n\n   elevator_passenger  elevator_service  parking  garbage_chute  heating  \\\n0                   1                 1        1              1        0   \n1                   1                 1        0              0        0   \n2                   1                 1        1              1        0   \n3                   1                 0        0              1        3   \n4                   1                 1        1              1        0   \n\n   distance                      street  \n0  0.052411     2-я Черногрязская улица  \n1  0.216436            улица Сервантеса  \n2  0.228879           Саларьево Парк ЖК  \n3  0.217394  улица Александры Монаховой  \n4  0.345584   улица 3-я Нововатутинская  \n\n[5 rows x 22 columns]",
      "text/html": "<div>\n<style scoped>\n    .dataframe tbody tr th:only-of-type {\n        vertical-align: middle;\n    }\n\n    .dataframe tbody tr th {\n        vertical-align: top;\n    }\n\n    .dataframe thead th {\n        text-align: right;\n    }\n</style>\n<table border=\"1\" class=\"dataframe\">\n  <thead>\n    <tr style=\"text-align: right;\">\n      <th></th>\n      <th>area_total</th>\n      <th>area_kitchen</th>\n      <th>area_living</th>\n      <th>floor</th>\n      <th>rooms</th>\n      <th>layout</th>\n      <th>windows_court</th>\n      <th>windows_street</th>\n      <th>balconies</th>\n      <th>condition</th>\n      <th>...</th>\n      <th>new</th>\n      <th>district</th>\n      <th>stories</th>\n      <th>elevator_passenger</th>\n      <th>elevator_service</th>\n      <th>parking</th>\n      <th>garbage_chute</th>\n      <th>heating</th>\n      <th>distance</th>\n      <th>street</th>\n    </tr>\n  </thead>\n  <tbody>\n    <tr>\n      <th>0</th>\n      <td>71.4</td>\n      <td>13.16</td>\n      <td>29.44</td>\n      <td>2</td>\n      <td>1</td>\n      <td>1</td>\n      <td>1</td>\n      <td>0</td>\n      <td>1</td>\n      <td>0</td>\n      <td>...</td>\n      <td>0</td>\n      <td>0</td>\n      <td>20</td>\n      <td>1</td>\n      <td>1</td>\n      <td>1</td>\n      <td>1</td>\n      <td>0</td>\n      <td>0.052411</td>\n      <td>2-я Черногрязская улица</td>\n    </tr>\n    <tr>\n      <th>1</th>\n      <td>54.0</td>\n      <td>4.00</td>\n      <td>50.00</td>\n      <td>4</td>\n      <td>1</td>\n      <td>1</td>\n      <td>1</td>\n      <td>0</td>\n      <td>0</td>\n      <td>3</td>\n      <td>...</td>\n      <td>0</td>\n      <td>11</td>\n      <td>15</td>\n      <td>1</td>\n      <td>1</td>\n      <td>0</td>\n      <td>0</td>\n      <td>0</td>\n      <td>0.216436</td>\n      <td>улица Сервантеса</td>\n    </tr>\n    <tr>\n      <th>2</th>\n      <td>39.4</td>\n      <td>19.60</td>\n      <td>11.20</td>\n      <td>10</td>\n      <td>1</td>\n      <td>1</td>\n      <td>1</td>\n      <td>0</td>\n      <td>0</td>\n      <td>2</td>\n      <td>...</td>\n      <td>1</td>\n      <td>11</td>\n      <td>9</td>\n      <td>1</td>\n      <td>1</td>\n      <td>1</td>\n      <td>1</td>\n      <td>0</td>\n      <td>0.228879</td>\n      <td>Саларьево Парк ЖК</td>\n    </tr>\n    <tr>\n      <th>3</th>\n      <td>60.9</td>\n      <td>15.68</td>\n      <td>55.56</td>\n      <td>5</td>\n      <td>2</td>\n      <td>1</td>\n      <td>0</td>\n      <td>1</td>\n      <td>0</td>\n      <td>0</td>\n      <td>...</td>\n      <td>0</td>\n      <td>11</td>\n      <td>17</td>\n      <td>1</td>\n      <td>0</td>\n      <td>0</td>\n      <td>1</td>\n      <td>3</td>\n      <td>0.217394</td>\n      <td>улица Александры Монаховой</td>\n    </tr>\n    <tr>\n      <th>4</th>\n      <td>34.0</td>\n      <td>9.00</td>\n      <td>17.00</td>\n      <td>14</td>\n      <td>1</td>\n      <td>1</td>\n      <td>1</td>\n      <td>0</td>\n      <td>0</td>\n      <td>1</td>\n      <td>...</td>\n      <td>0</td>\n      <td>11</td>\n      <td>17</td>\n      <td>1</td>\n      <td>1</td>\n      <td>1</td>\n      <td>1</td>\n      <td>0</td>\n      <td>0.345584</td>\n      <td>улица 3-я Нововатутинская</td>\n    </tr>\n  </tbody>\n</table>\n<p>5 rows × 22 columns</p>\n</div>"
     },
     "metadata": {}
    }
   ],
   "execution_count": null
  },
  {
   "cell_type": "code",
   "metadata": {
    "tags": [],
    "deepnote_to_be_reexecuted": false,
    "source_hash": "b1f3fed8",
    "execution_start": 1637358423673,
    "execution_millis": 302,
    "cell_id": "00031-61a63442-bcab-4b95-a62a-d71b2f6ac94e",
    "deepnote_cell_type": "code"
   },
   "source": "area_total_train = X_train.area_total.values\narea_total_val = X_val.area_total.values\nX_train = X_train.drop(['area_total'], axis=1)\nX_val = X_val.drop(['area_total'], axis=1)\nX_train.head()",
   "outputs": [
    {
     "output_type": "execute_result",
     "execution_count": 45,
     "data": {
      "application/vnd.deepnote.dataframe.v2+json": {
       "row_count": 5,
       "column_count": 21,
       "columns": [
        {
         "name": "area_kitchen",
         "dtype": "float64",
         "stats": {
          "unique_count": 5,
          "nan_count": 0,
          "min": "6.0",
          "max": "16.1",
          "histogram": [
           {
            "bin_start": 6,
            "bin_end": 7.01,
            "count": 1
           },
           {
            "bin_start": 7.01,
            "bin_end": 8.02,
            "count": 1
           },
           {
            "bin_start": 8.02,
            "bin_end": 9.030000000000001,
            "count": 0
           },
           {
            "bin_start": 9.030000000000001,
            "bin_end": 10.040000000000001,
            "count": 0
           },
           {
            "bin_start": 10.040000000000001,
            "bin_end": 11.05,
            "count": 0
           },
           {
            "bin_start": 11.05,
            "bin_end": 12.060000000000002,
            "count": 0
           },
           {
            "bin_start": 12.060000000000002,
            "bin_end": 13.070000000000002,
            "count": 1
           },
           {
            "bin_start": 13.070000000000002,
            "bin_end": 14.080000000000002,
            "count": 0
           },
           {
            "bin_start": 14.080000000000002,
            "bin_end": 15.090000000000002,
            "count": 1
           },
           {
            "bin_start": 15.090000000000002,
            "bin_end": 16.1,
            "count": 1
           }
          ]
         }
        },
        {
         "name": "area_living",
         "dtype": "float64",
         "stats": {
          "unique_count": 5,
          "nan_count": 0,
          "min": "15.7",
          "max": "33.0",
          "histogram": [
           {
            "bin_start": 15.7,
            "bin_end": 17.43,
            "count": 1
           },
           {
            "bin_start": 17.43,
            "bin_end": 19.16,
            "count": 0
           },
           {
            "bin_start": 19.16,
            "bin_end": 20.89,
            "count": 0
           },
           {
            "bin_start": 20.89,
            "bin_end": 22.619999999999997,
            "count": 0
           },
           {
            "bin_start": 22.619999999999997,
            "bin_end": 24.35,
            "count": 0
           },
           {
            "bin_start": 24.35,
            "bin_end": 26.08,
            "count": 0
           },
           {
            "bin_start": 26.08,
            "bin_end": 27.81,
            "count": 1
           },
           {
            "bin_start": 27.81,
            "bin_end": 29.54,
            "count": 1
           },
           {
            "bin_start": 29.54,
            "bin_end": 31.27,
            "count": 1
           },
           {
            "bin_start": 31.27,
            "bin_end": 33,
            "count": 1
           }
          ]
         }
        },
        {
         "name": "floor",
         "dtype": "int64",
         "stats": {
          "unique_count": 4,
          "nan_count": 0,
          "min": "3",
          "max": "18",
          "histogram": [
           {
            "bin_start": 3,
            "bin_end": 4.5,
            "count": 2
           },
           {
            "bin_start": 4.5,
            "bin_end": 6,
            "count": 0
           },
           {
            "bin_start": 6,
            "bin_end": 7.5,
            "count": 0
           },
           {
            "bin_start": 7.5,
            "bin_end": 9,
            "count": 0
           },
           {
            "bin_start": 9,
            "bin_end": 10.5,
            "count": 1
           },
           {
            "bin_start": 10.5,
            "bin_end": 12,
            "count": 0
           },
           {
            "bin_start": 12,
            "bin_end": 13.5,
            "count": 0
           },
           {
            "bin_start": 13.5,
            "bin_end": 15,
            "count": 1
           },
           {
            "bin_start": 15,
            "bin_end": 16.5,
            "count": 0
           },
           {
            "bin_start": 16.5,
            "bin_end": 18,
            "count": 1
           }
          ]
         }
        },
        {
         "name": "rooms",
         "dtype": "int64",
         "stats": {
          "unique_count": 2,
          "nan_count": 0,
          "min": "1",
          "max": "2",
          "histogram": [
           {
            "bin_start": 1,
            "bin_end": 1.1,
            "count": 1
           },
           {
            "bin_start": 1.1,
            "bin_end": 1.2,
            "count": 0
           },
           {
            "bin_start": 1.2,
            "bin_end": 1.3,
            "count": 0
           },
           {
            "bin_start": 1.3,
            "bin_end": 1.4,
            "count": 0
           },
           {
            "bin_start": 1.4,
            "bin_end": 1.5,
            "count": 0
           },
           {
            "bin_start": 1.5,
            "bin_end": 1.6,
            "count": 0
           },
           {
            "bin_start": 1.6,
            "bin_end": 1.7000000000000002,
            "count": 0
           },
           {
            "bin_start": 1.7000000000000002,
            "bin_end": 1.8,
            "count": 0
           },
           {
            "bin_start": 1.8,
            "bin_end": 1.9,
            "count": 0
           },
           {
            "bin_start": 1.9,
            "bin_end": 2,
            "count": 4
           }
          ]
         }
        },
        {
         "name": "layout",
         "dtype": "int64",
         "stats": {
          "unique_count": 1,
          "nan_count": 0,
          "min": "1",
          "max": "1",
          "histogram": [
           {
            "bin_start": 0.5,
            "bin_end": 0.6,
            "count": 0
           },
           {
            "bin_start": 0.6,
            "bin_end": 0.7,
            "count": 0
           },
           {
            "bin_start": 0.7,
            "bin_end": 0.8,
            "count": 0
           },
           {
            "bin_start": 0.8,
            "bin_end": 0.9,
            "count": 0
           },
           {
            "bin_start": 0.9,
            "bin_end": 1,
            "count": 0
           },
           {
            "bin_start": 1,
            "bin_end": 1.1,
            "count": 5
           },
           {
            "bin_start": 1.1,
            "bin_end": 1.2000000000000002,
            "count": 0
           },
           {
            "bin_start": 1.2000000000000002,
            "bin_end": 1.3,
            "count": 0
           },
           {
            "bin_start": 1.3,
            "bin_end": 1.4,
            "count": 0
           },
           {
            "bin_start": 1.4,
            "bin_end": 1.5,
            "count": 0
           }
          ]
         }
        },
        {
         "name": "windows_court",
         "dtype": "int64",
         "stats": {
          "unique_count": 2,
          "nan_count": 0,
          "min": "0",
          "max": "1",
          "histogram": [
           {
            "bin_start": 0,
            "bin_end": 0.1,
            "count": 1
           },
           {
            "bin_start": 0.1,
            "bin_end": 0.2,
            "count": 0
           },
           {
            "bin_start": 0.2,
            "bin_end": 0.30000000000000004,
            "count": 0
           },
           {
            "bin_start": 0.30000000000000004,
            "bin_end": 0.4,
            "count": 0
           },
           {
            "bin_start": 0.4,
            "bin_end": 0.5,
            "count": 0
           },
           {
            "bin_start": 0.5,
            "bin_end": 0.6000000000000001,
            "count": 0
           },
           {
            "bin_start": 0.6000000000000001,
            "bin_end": 0.7000000000000001,
            "count": 0
           },
           {
            "bin_start": 0.7000000000000001,
            "bin_end": 0.8,
            "count": 0
           },
           {
            "bin_start": 0.8,
            "bin_end": 0.9,
            "count": 0
           },
           {
            "bin_start": 0.9,
            "bin_end": 1,
            "count": 4
           }
          ]
         }
        },
        {
         "name": "windows_street",
         "dtype": "int64",
         "stats": {
          "unique_count": 2,
          "nan_count": 0,
          "min": "0",
          "max": "1",
          "histogram": [
           {
            "bin_start": 0,
            "bin_end": 0.1,
            "count": 3
           },
           {
            "bin_start": 0.1,
            "bin_end": 0.2,
            "count": 0
           },
           {
            "bin_start": 0.2,
            "bin_end": 0.30000000000000004,
            "count": 0
           },
           {
            "bin_start": 0.30000000000000004,
            "bin_end": 0.4,
            "count": 0
           },
           {
            "bin_start": 0.4,
            "bin_end": 0.5,
            "count": 0
           },
           {
            "bin_start": 0.5,
            "bin_end": 0.6000000000000001,
            "count": 0
           },
           {
            "bin_start": 0.6000000000000001,
            "bin_end": 0.7000000000000001,
            "count": 0
           },
           {
            "bin_start": 0.7000000000000001,
            "bin_end": 0.8,
            "count": 0
           },
           {
            "bin_start": 0.8,
            "bin_end": 0.9,
            "count": 0
           },
           {
            "bin_start": 0.9,
            "bin_end": 1,
            "count": 2
           }
          ]
         }
        },
        {
         "name": "balconies",
         "dtype": "int64",
         "stats": {
          "unique_count": 2,
          "nan_count": 0,
          "min": "0",
          "max": "1",
          "histogram": [
           {
            "bin_start": 0,
            "bin_end": 0.1,
            "count": 1
           },
           {
            "bin_start": 0.1,
            "bin_end": 0.2,
            "count": 0
           },
           {
            "bin_start": 0.2,
            "bin_end": 0.30000000000000004,
            "count": 0
           },
           {
            "bin_start": 0.30000000000000004,
            "bin_end": 0.4,
            "count": 0
           },
           {
            "bin_start": 0.4,
            "bin_end": 0.5,
            "count": 0
           },
           {
            "bin_start": 0.5,
            "bin_end": 0.6000000000000001,
            "count": 0
           },
           {
            "bin_start": 0.6000000000000001,
            "bin_end": 0.7000000000000001,
            "count": 0
           },
           {
            "bin_start": 0.7000000000000001,
            "bin_end": 0.8,
            "count": 0
           },
           {
            "bin_start": 0.8,
            "bin_end": 0.9,
            "count": 0
           },
           {
            "bin_start": 0.9,
            "bin_end": 1,
            "count": 4
           }
          ]
         }
        },
        {
         "name": "condition",
         "dtype": "int64",
         "stats": {
          "unique_count": 2,
          "nan_count": 0,
          "min": "0",
          "max": "1",
          "histogram": [
           {
            "bin_start": 0,
            "bin_end": 0.1,
            "count": 2
           },
           {
            "bin_start": 0.1,
            "bin_end": 0.2,
            "count": 0
           },
           {
            "bin_start": 0.2,
            "bin_end": 0.30000000000000004,
            "count": 0
           },
           {
            "bin_start": 0.30000000000000004,
            "bin_end": 0.4,
            "count": 0
           },
           {
            "bin_start": 0.4,
            "bin_end": 0.5,
            "count": 0
           },
           {
            "bin_start": 0.5,
            "bin_end": 0.6000000000000001,
            "count": 0
           },
           {
            "bin_start": 0.6000000000000001,
            "bin_end": 0.7000000000000001,
            "count": 0
           },
           {
            "bin_start": 0.7000000000000001,
            "bin_end": 0.8,
            "count": 0
           },
           {
            "bin_start": 0.8,
            "bin_end": 0.9,
            "count": 0
           },
           {
            "bin_start": 0.9,
            "bin_end": 1,
            "count": 3
           }
          ]
         }
        },
        {
         "name": "phones",
         "dtype": "int64",
         "stats": {
          "unique_count": 2,
          "nan_count": 0,
          "min": "1",
          "max": "2",
          "histogram": [
           {
            "bin_start": 1,
            "bin_end": 1.1,
            "count": 4
           },
           {
            "bin_start": 1.1,
            "bin_end": 1.2,
            "count": 0
           },
           {
            "bin_start": 1.2,
            "bin_end": 1.3,
            "count": 0
           },
           {
            "bin_start": 1.3,
            "bin_end": 1.4,
            "count": 0
           },
           {
            "bin_start": 1.4,
            "bin_end": 1.5,
            "count": 0
           },
           {
            "bin_start": 1.5,
            "bin_end": 1.6,
            "count": 0
           },
           {
            "bin_start": 1.6,
            "bin_end": 1.7000000000000002,
            "count": 0
           },
           {
            "bin_start": 1.7000000000000002,
            "bin_end": 1.8,
            "count": 0
           },
           {
            "bin_start": 1.8,
            "bin_end": 1.9,
            "count": 0
           },
           {
            "bin_start": 1.9,
            "bin_end": 2,
            "count": 1
           }
          ]
         }
        },
        {
         "name": "building_id",
         "dtype": "int64",
         "stats": {
          "unique_count": 5,
          "nan_count": 0,
          "min": "528",
          "max": "9636",
          "histogram": [
           {
            "bin_start": 528,
            "bin_end": 1438.8,
            "count": 2
           },
           {
            "bin_start": 1438.8,
            "bin_end": 2349.6,
            "count": 1
           },
           {
            "bin_start": 2349.6,
            "bin_end": 3260.3999999999996,
            "count": 0
           },
           {
            "bin_start": 3260.3999999999996,
            "bin_end": 4171.2,
            "count": 0
           },
           {
            "bin_start": 4171.2,
            "bin_end": 5082,
            "count": 0
           },
           {
            "bin_start": 5082,
            "bin_end": 5992.799999999999,
            "count": 0
           },
           {
            "bin_start": 5992.799999999999,
            "bin_end": 6903.599999999999,
            "count": 0
           },
           {
            "bin_start": 6903.599999999999,
            "bin_end": 7814.4,
            "count": 1
           },
           {
            "bin_start": 7814.4,
            "bin_end": 8725.199999999999,
            "count": 0
           },
           {
            "bin_start": 8725.199999999999,
            "bin_end": 9636,
            "count": 1
           }
          ]
         }
        },
        {
         "name": "new",
         "dtype": "int64",
         "stats": {
          "unique_count": 2,
          "nan_count": 0,
          "min": "0",
          "max": "1",
          "histogram": [
           {
            "bin_start": 0,
            "bin_end": 0.1,
            "count": 3
           },
           {
            "bin_start": 0.1,
            "bin_end": 0.2,
            "count": 0
           },
           {
            "bin_start": 0.2,
            "bin_end": 0.30000000000000004,
            "count": 0
           },
           {
            "bin_start": 0.30000000000000004,
            "bin_end": 0.4,
            "count": 0
           },
           {
            "bin_start": 0.4,
            "bin_end": 0.5,
            "count": 0
           },
           {
            "bin_start": 0.5,
            "bin_end": 0.6000000000000001,
            "count": 0
           },
           {
            "bin_start": 0.6000000000000001,
            "bin_end": 0.7000000000000001,
            "count": 0
           },
           {
            "bin_start": 0.7000000000000001,
            "bin_end": 0.8,
            "count": 0
           },
           {
            "bin_start": 0.8,
            "bin_end": 0.9,
            "count": 0
           },
           {
            "bin_start": 0.9,
            "bin_end": 1,
            "count": 2
           }
          ]
         }
        },
        {
         "name": "district",
         "dtype": "int64",
         "stats": {
          "unique_count": 5,
          "nan_count": 0,
          "min": "2",
          "max": "11",
          "histogram": [
           {
            "bin_start": 2,
            "bin_end": 2.9,
            "count": 1
           },
           {
            "bin_start": 2.9,
            "bin_end": 3.8,
            "count": 0
           },
           {
            "bin_start": 3.8,
            "bin_end": 4.7,
            "count": 1
           },
           {
            "bin_start": 4.7,
            "bin_end": 5.6,
            "count": 0
           },
           {
            "bin_start": 5.6,
            "bin_end": 6.5,
            "count": 1
           },
           {
            "bin_start": 6.5,
            "bin_end": 7.4,
            "count": 0
           },
           {
            "bin_start": 7.4,
            "bin_end": 8.3,
            "count": 1
           },
           {
            "bin_start": 8.3,
            "bin_end": 9.2,
            "count": 0
           },
           {
            "bin_start": 9.2,
            "bin_end": 10.1,
            "count": 0
           },
           {
            "bin_start": 10.1,
            "bin_end": 11,
            "count": 1
           }
          ]
         }
        },
        {
         "name": "stories",
         "dtype": "int64",
         "stats": {
          "unique_count": 4,
          "nan_count": 0,
          "min": "9",
          "max": "20",
          "histogram": [
           {
            "bin_start": 9,
            "bin_end": 10.1,
            "count": 1
           },
           {
            "bin_start": 10.1,
            "bin_end": 11.2,
            "count": 0
           },
           {
            "bin_start": 11.2,
            "bin_end": 12.3,
            "count": 0
           },
           {
            "bin_start": 12.3,
            "bin_end": 13.4,
            "count": 0
           },
           {
            "bin_start": 13.4,
            "bin_end": 14.5,
            "count": 1
           },
           {
            "bin_start": 14.5,
            "bin_end": 15.600000000000001,
            "count": 0
           },
           {
            "bin_start": 15.600000000000001,
            "bin_end": 16.700000000000003,
            "count": 0
           },
           {
            "bin_start": 16.700000000000003,
            "bin_end": 17.8,
            "count": 1
           },
           {
            "bin_start": 17.8,
            "bin_end": 18.9,
            "count": 0
           },
           {
            "bin_start": 18.9,
            "bin_end": 20,
            "count": 2
           }
          ]
         }
        },
        {
         "name": "elevator_passenger",
         "dtype": "int64",
         "stats": {
          "unique_count": 1,
          "nan_count": 0,
          "min": "1",
          "max": "1",
          "histogram": [
           {
            "bin_start": 0.5,
            "bin_end": 0.6,
            "count": 0
           },
           {
            "bin_start": 0.6,
            "bin_end": 0.7,
            "count": 0
           },
           {
            "bin_start": 0.7,
            "bin_end": 0.8,
            "count": 0
           },
           {
            "bin_start": 0.8,
            "bin_end": 0.9,
            "count": 0
           },
           {
            "bin_start": 0.9,
            "bin_end": 1,
            "count": 0
           },
           {
            "bin_start": 1,
            "bin_end": 1.1,
            "count": 5
           },
           {
            "bin_start": 1.1,
            "bin_end": 1.2000000000000002,
            "count": 0
           },
           {
            "bin_start": 1.2000000000000002,
            "bin_end": 1.3,
            "count": 0
           },
           {
            "bin_start": 1.3,
            "bin_end": 1.4,
            "count": 0
           },
           {
            "bin_start": 1.4,
            "bin_end": 1.5,
            "count": 0
           }
          ]
         }
        },
        {
         "name": "elevator_service",
         "dtype": "int64",
         "stats": {
          "unique_count": 2,
          "nan_count": 0,
          "min": "0",
          "max": "1",
          "histogram": [
           {
            "bin_start": 0,
            "bin_end": 0.1,
            "count": 1
           },
           {
            "bin_start": 0.1,
            "bin_end": 0.2,
            "count": 0
           },
           {
            "bin_start": 0.2,
            "bin_end": 0.30000000000000004,
            "count": 0
           },
           {
            "bin_start": 0.30000000000000004,
            "bin_end": 0.4,
            "count": 0
           },
           {
            "bin_start": 0.4,
            "bin_end": 0.5,
            "count": 0
           },
           {
            "bin_start": 0.5,
            "bin_end": 0.6000000000000001,
            "count": 0
           },
           {
            "bin_start": 0.6000000000000001,
            "bin_end": 0.7000000000000001,
            "count": 0
           },
           {
            "bin_start": 0.7000000000000001,
            "bin_end": 0.8,
            "count": 0
           },
           {
            "bin_start": 0.8,
            "bin_end": 0.9,
            "count": 0
           },
           {
            "bin_start": 0.9,
            "bin_end": 1,
            "count": 4
           }
          ]
         }
        },
        {
         "name": "parking",
         "dtype": "int64",
         "stats": {
          "unique_count": 2,
          "nan_count": 0,
          "min": "0",
          "max": "1",
          "histogram": [
           {
            "bin_start": 0,
            "bin_end": 0.1,
            "count": 1
           },
           {
            "bin_start": 0.1,
            "bin_end": 0.2,
            "count": 0
           },
           {
            "bin_start": 0.2,
            "bin_end": 0.30000000000000004,
            "count": 0
           },
           {
            "bin_start": 0.30000000000000004,
            "bin_end": 0.4,
            "count": 0
           },
           {
            "bin_start": 0.4,
            "bin_end": 0.5,
            "count": 0
           },
           {
            "bin_start": 0.5,
            "bin_end": 0.6000000000000001,
            "count": 0
           },
           {
            "bin_start": 0.6000000000000001,
            "bin_end": 0.7000000000000001,
            "count": 0
           },
           {
            "bin_start": 0.7000000000000001,
            "bin_end": 0.8,
            "count": 0
           },
           {
            "bin_start": 0.8,
            "bin_end": 0.9,
            "count": 0
           },
           {
            "bin_start": 0.9,
            "bin_end": 1,
            "count": 4
           }
          ]
         }
        },
        {
         "name": "garbage_chute",
         "dtype": "int64",
         "stats": {
          "unique_count": 1,
          "nan_count": 0,
          "min": "1",
          "max": "1",
          "histogram": [
           {
            "bin_start": 0.5,
            "bin_end": 0.6,
            "count": 0
           },
           {
            "bin_start": 0.6,
            "bin_end": 0.7,
            "count": 0
           },
           {
            "bin_start": 0.7,
            "bin_end": 0.8,
            "count": 0
           },
           {
            "bin_start": 0.8,
            "bin_end": 0.9,
            "count": 0
           },
           {
            "bin_start": 0.9,
            "bin_end": 1,
            "count": 0
           },
           {
            "bin_start": 1,
            "bin_end": 1.1,
            "count": 5
           },
           {
            "bin_start": 1.1,
            "bin_end": 1.2000000000000002,
            "count": 0
           },
           {
            "bin_start": 1.2000000000000002,
            "bin_end": 1.3,
            "count": 0
           },
           {
            "bin_start": 1.3,
            "bin_end": 1.4,
            "count": 0
           },
           {
            "bin_start": 1.4,
            "bin_end": 1.5,
            "count": 0
           }
          ]
         }
        },
        {
         "name": "heating",
         "dtype": "int64",
         "stats": {
          "unique_count": 1,
          "nan_count": 0,
          "min": "0",
          "max": "0",
          "histogram": [
           {
            "bin_start": -0.5,
            "bin_end": -0.4,
            "count": 0
           },
           {
            "bin_start": -0.4,
            "bin_end": -0.3,
            "count": 0
           },
           {
            "bin_start": -0.3,
            "bin_end": -0.19999999999999996,
            "count": 0
           },
           {
            "bin_start": -0.19999999999999996,
            "bin_end": -0.09999999999999998,
            "count": 0
           },
           {
            "bin_start": -0.09999999999999998,
            "bin_end": 0,
            "count": 0
           },
           {
            "bin_start": 0,
            "bin_end": 0.10000000000000009,
            "count": 5
           },
           {
            "bin_start": 0.10000000000000009,
            "bin_end": 0.20000000000000007,
            "count": 0
           },
           {
            "bin_start": 0.20000000000000007,
            "bin_end": 0.30000000000000004,
            "count": 0
           },
           {
            "bin_start": 0.30000000000000004,
            "bin_end": 0.4,
            "count": 0
           },
           {
            "bin_start": 0.4,
            "bin_end": 0.5,
            "count": 0
           }
          ]
         }
        },
        {
         "name": "distance",
         "dtype": "float64",
         "stats": {
          "unique_count": 5,
          "nan_count": 0,
          "min": "0.10353336320722606",
          "max": "0.34992914625249233",
          "histogram": [
           {
            "bin_start": 0.10353336320722606,
            "bin_end": 0.12817294151175268,
            "count": 2
           },
           {
            "bin_start": 0.12817294151175268,
            "bin_end": 0.1528125198162793,
            "count": 1
           },
           {
            "bin_start": 0.1528125198162793,
            "bin_end": 0.17745209812080595,
            "count": 0
           },
           {
            "bin_start": 0.17745209812080595,
            "bin_end": 0.20209167642533257,
            "count": 0
           },
           {
            "bin_start": 0.20209167642533257,
            "bin_end": 0.2267312547298592,
            "count": 1
           },
           {
            "bin_start": 0.2267312547298592,
            "bin_end": 0.25137083303438584,
            "count": 0
           },
           {
            "bin_start": 0.25137083303438584,
            "bin_end": 0.27601041133891246,
            "count": 0
           },
           {
            "bin_start": 0.27601041133891246,
            "bin_end": 0.3006499896434391,
            "count": 0
           },
           {
            "bin_start": 0.3006499896434391,
            "bin_end": 0.3252895679479657,
            "count": 0
           },
           {
            "bin_start": 0.3252895679479657,
            "bin_end": 0.34992914625249233,
            "count": 1
           }
          ]
         }
        },
        {
         "name": "street",
         "dtype": "object",
         "stats": {
          "unique_count": 5,
          "nan_count": 0,
          "categories": [
           {
            "name": "Скандинавия ЖК",
            "count": 1
           },
           {
            "name": "улица Вертолетчиков",
            "count": 1
           },
           {
            "name": "3 others",
            "count": 3
           }
          ]
         }
        },
        {
         "name": "_deepnote_index_column",
         "dtype": "int64"
        }
       ],
       "rows_top": [
        {
         "area_kitchen": 16.1,
         "area_living": 28.2,
         "floor": 3,
         "rooms": 2,
         "layout": 1,
         "windows_court": 1,
         "windows_street": 0,
         "balconies": 0,
         "condition": 1,
         "phones": 1,
         "building_id": 1602,
         "new": 1,
         "district": 11,
         "stories": 14,
         "elevator_passenger": 1,
         "elevator_service": 1,
         "parking": 0,
         "garbage_chute": 1,
         "heating": 0,
         "distance": 0.20941892997768477,
         "street": "Скандинавия ЖК",
         "_deepnote_index_column": 8161
        },
        {
         "area_kitchen": 7.8,
         "area_living": 15.7,
         "floor": 10,
         "rooms": 1,
         "layout": 1,
         "windows_court": 1,
         "windows_street": 0,
         "balconies": 1,
         "condition": 0,
         "phones": 1,
         "building_id": 1167,
         "new": 0,
         "district": 4,
         "stories": 17,
         "elevator_passenger": 1,
         "elevator_service": 1,
         "parking": 1,
         "garbage_chute": 1,
         "heating": 0,
         "distance": 0.34992914625249233,
         "street": "улица Вертолетчиков",
         "_deepnote_index_column": 10138
        },
        {
         "area_kitchen": 6,
         "area_living": 30,
         "floor": 3,
         "rooms": 2,
         "layout": 1,
         "windows_court": 0,
         "windows_street": 1,
         "balconies": 1,
         "condition": 1,
         "phones": 1,
         "building_id": 528,
         "new": 0,
         "district": 6,
         "stories": 9,
         "elevator_passenger": 1,
         "elevator_service": 0,
         "parking": 1,
         "garbage_chute": 1,
         "heating": 0,
         "distance": 0.14123842098381778,
         "street": "улица Островитянова",
         "_deepnote_index_column": 4845
        },
        {
         "area_kitchen": 12.4,
         "area_living": 33,
         "floor": 18,
         "rooms": 2,
         "layout": 1,
         "windows_court": 1,
         "windows_street": 1,
         "balconies": 1,
         "condition": 0,
         "phones": 2,
         "building_id": 9636,
         "new": 0,
         "district": 2,
         "stories": 20,
         "elevator_passenger": 1,
         "elevator_service": 1,
         "parking": 1,
         "garbage_chute": 1,
         "heating": 0,
         "distance": 0.10353336320722606,
         "street": "Нововладыкинский проезд",
         "_deepnote_index_column": 7189
        },
        {
         "area_kitchen": 14.4,
         "area_living": 27.1,
         "floor": 14,
         "rooms": 2,
         "layout": 1,
         "windows_court": 1,
         "windows_street": 0,
         "balconies": 1,
         "condition": 1,
         "phones": 1,
         "building_id": 7644,
         "new": 1,
         "district": 8,
         "stories": 20,
         "elevator_passenger": 1,
         "elevator_service": 1,
         "parking": 1,
         "garbage_chute": 1,
         "heating": 0,
         "distance": 0.10843678079415796,
         "street": "3-я Хорошевская улица",
         "_deepnote_index_column": 14728
        }
       ],
       "rows_bottom": null
      },
      "text/plain": "       area_kitchen  area_living  floor  rooms  layout  windows_court  \\\n8161           16.1         28.2      3      2       1              1   \n10138           7.8         15.7     10      1       1              1   \n4845            6.0         30.0      3      2       1              0   \n7189           12.4         33.0     18      2       1              1   \n14728          14.4         27.1     14      2       1              1   \n\n       windows_street  balconies  condition  phones  ...  new  district  \\\n8161                0          0          1       1  ...    1        11   \n10138               0          1          0       1  ...    0         4   \n4845                1          1          1       1  ...    0         6   \n7189                1          1          0       2  ...    0         2   \n14728               0          1          1       1  ...    1         8   \n\n       stories  elevator_passenger  elevator_service  parking  garbage_chute  \\\n8161        14                   1                 1        0              1   \n10138       17                   1                 1        1              1   \n4845         9                   1                 0        1              1   \n7189        20                   1                 1        1              1   \n14728       20                   1                 1        1              1   \n\n       heating  distance                   street  \n8161         0  0.209419           Скандинавия ЖК  \n10138        0  0.349929      улица Вертолетчиков  \n4845         0  0.141238      улица Островитянова  \n7189         0  0.103533  Нововладыкинский проезд  \n14728        0  0.108437    3-я Хорошевская улица  \n\n[5 rows x 21 columns]",
      "text/html": "<div>\n<style scoped>\n    .dataframe tbody tr th:only-of-type {\n        vertical-align: middle;\n    }\n\n    .dataframe tbody tr th {\n        vertical-align: top;\n    }\n\n    .dataframe thead th {\n        text-align: right;\n    }\n</style>\n<table border=\"1\" class=\"dataframe\">\n  <thead>\n    <tr style=\"text-align: right;\">\n      <th></th>\n      <th>area_kitchen</th>\n      <th>area_living</th>\n      <th>floor</th>\n      <th>rooms</th>\n      <th>layout</th>\n      <th>windows_court</th>\n      <th>windows_street</th>\n      <th>balconies</th>\n      <th>condition</th>\n      <th>phones</th>\n      <th>...</th>\n      <th>new</th>\n      <th>district</th>\n      <th>stories</th>\n      <th>elevator_passenger</th>\n      <th>elevator_service</th>\n      <th>parking</th>\n      <th>garbage_chute</th>\n      <th>heating</th>\n      <th>distance</th>\n      <th>street</th>\n    </tr>\n  </thead>\n  <tbody>\n    <tr>\n      <th>8161</th>\n      <td>16.1</td>\n      <td>28.2</td>\n      <td>3</td>\n      <td>2</td>\n      <td>1</td>\n      <td>1</td>\n      <td>0</td>\n      <td>0</td>\n      <td>1</td>\n      <td>1</td>\n      <td>...</td>\n      <td>1</td>\n      <td>11</td>\n      <td>14</td>\n      <td>1</td>\n      <td>1</td>\n      <td>0</td>\n      <td>1</td>\n      <td>0</td>\n      <td>0.209419</td>\n      <td>Скандинавия ЖК</td>\n    </tr>\n    <tr>\n      <th>10138</th>\n      <td>7.8</td>\n      <td>15.7</td>\n      <td>10</td>\n      <td>1</td>\n      <td>1</td>\n      <td>1</td>\n      <td>0</td>\n      <td>1</td>\n      <td>0</td>\n      <td>1</td>\n      <td>...</td>\n      <td>0</td>\n      <td>4</td>\n      <td>17</td>\n      <td>1</td>\n      <td>1</td>\n      <td>1</td>\n      <td>1</td>\n      <td>0</td>\n      <td>0.349929</td>\n      <td>улица Вертолетчиков</td>\n    </tr>\n    <tr>\n      <th>4845</th>\n      <td>6.0</td>\n      <td>30.0</td>\n      <td>3</td>\n      <td>2</td>\n      <td>1</td>\n      <td>0</td>\n      <td>1</td>\n      <td>1</td>\n      <td>1</td>\n      <td>1</td>\n      <td>...</td>\n      <td>0</td>\n      <td>6</td>\n      <td>9</td>\n      <td>1</td>\n      <td>0</td>\n      <td>1</td>\n      <td>1</td>\n      <td>0</td>\n      <td>0.141238</td>\n      <td>улица Островитянова</td>\n    </tr>\n    <tr>\n      <th>7189</th>\n      <td>12.4</td>\n      <td>33.0</td>\n      <td>18</td>\n      <td>2</td>\n      <td>1</td>\n      <td>1</td>\n      <td>1</td>\n      <td>1</td>\n      <td>0</td>\n      <td>2</td>\n      <td>...</td>\n      <td>0</td>\n      <td>2</td>\n      <td>20</td>\n      <td>1</td>\n      <td>1</td>\n      <td>1</td>\n      <td>1</td>\n      <td>0</td>\n      <td>0.103533</td>\n      <td>Нововладыкинский проезд</td>\n    </tr>\n    <tr>\n      <th>14728</th>\n      <td>14.4</td>\n      <td>27.1</td>\n      <td>14</td>\n      <td>2</td>\n      <td>1</td>\n      <td>1</td>\n      <td>0</td>\n      <td>1</td>\n      <td>1</td>\n      <td>1</td>\n      <td>...</td>\n      <td>1</td>\n      <td>8</td>\n      <td>20</td>\n      <td>1</td>\n      <td>1</td>\n      <td>1</td>\n      <td>1</td>\n      <td>0</td>\n      <td>0.108437</td>\n      <td>3-я Хорошевская улица</td>\n    </tr>\n  </tbody>\n</table>\n<p>5 rows × 21 columns</p>\n</div>"
     },
     "metadata": {}
    }
   ],
   "execution_count": null
  },
  {
   "cell_type": "code",
   "metadata": {
    "tags": [],
    "deepnote_to_be_reexecuted": false,
    "source_hash": "80526b75",
    "execution_start": 1637358435927,
    "execution_millis": 3,
    "deepnote_output_heights": [
     21
    ],
    "cell_id": "00032-9b712960-8ce8-4920-8af4-358223a80c53",
    "deepnote_cell_type": "code"
   },
   "source": "df_final = X1\ndf_final['price/area'] = y1.values\n\n#df1.to_csv('Training_clean.csv', index=False)\n#X1_test.to_csv('Test_clean.csv', index=False)\n",
   "outputs": [],
   "execution_count": null
  },
  {
   "cell_type": "code",
   "metadata": {
    "tags": [],
    "deepnote_to_be_reexecuted": false,
    "source_hash": "cb3e04b6",
    "execution_start": 1637358439308,
    "execution_millis": 10,
    "cell_id": "00033-1dd31679-8ad6-40e4-97e0-99abbf706ce0",
    "deepnote_cell_type": "code"
   },
   "source": "categorical_features_indices = np.where(X_train.dtypes != np.float64)[0]\n",
   "outputs": [],
   "execution_count": null
  },
  {
   "cell_type": "code",
   "metadata": {
    "tags": [],
    "deepnote_to_be_reexecuted": false,
    "source_hash": "39422f16",
    "execution_start": 1637358443531,
    "execution_millis": 3,
    "cell_id": "00034-d8079b43-1111-49b7-a32b-ce589877e2a1",
    "deepnote_cell_type": "code"
   },
   "source": "def root_mean_squared_log_error(y_true, y_pred):\n    # Alternatively: sklearn.metrics.mean_squared_log_error(y_true, y_pred) ** 0.5\n    assert (y_true >= 0).all() \n    assert (y_pred >= 0).all()\n    log_error = np.log1p(y_pred) - np.log1p(y_true)  # Note: log1p(x) = log(1 + x)\n    return np.mean(log_error ** 2) ** 0.5\n\n#df_train = df_final\n#df_test = X1_test",
   "outputs": [],
   "execution_count": null
  },
  {
   "cell_type": "code",
   "metadata": {
    "tags": [],
    "deepnote_to_be_reexecuted": false,
    "source_hash": "d99de540",
    "execution_start": 1637358448511,
    "execution_millis": 3,
    "cell_id": "00035-cf83ea3b-d9ac-4bab-9b57-2af48b6f45d5",
    "deepnote_cell_type": "code"
   },
   "source": "#hyper parameter\nn_estimators=[100,500,900,1100,1500]\nmax_depth=[2,3,5,10,15]\nbooster=[\"gbtree\",\"gblinear\"]\nlearning_rate=\"[0.05,0.1,0.15,0.20]\"\nmin_child_weight=[1,2,3,4]\nbase_score=[0.25,0.5,0.75,1]\n\norg_params = {\n    'n_estimators': n_estimators,\n    'learning_rate': learning_rate,\n    \"booster\":booster,\n    'eval_metric': 'RMSE',\n    'use_best_model': True,\n    'loss_function': 'RMSE',\n    'max_depth': max_depth,\n    \"min_child_weight\":min_child_weight,\n    \"base_score\":base_score\n}",
   "outputs": [],
   "execution_count": null
  },
  {
   "cell_type": "code",
   "metadata": {
    "tags": [],
    "deepnote_to_be_reexecuted": false,
    "source_hash": "b9dc394",
    "execution_start": 1637358453135,
    "execution_millis": 14,
    "deepnote_output_heights": [
     116
    ],
    "cell_id": "00036-cf43e476-f5c4-40a0-aa3f-94409a03447c",
    "deepnote_cell_type": "code"
   },
   "source": "y_train.head()",
   "outputs": [
    {
     "output_type": "execute_result",
     "execution_count": 50,
     "data": {
      "text/plain": "8161     136249.667250\n10138    157407.407407\n4845     188888.888889\n7189     176130.000000\n14728    207950.000000\nName: price/area, dtype: float64"
     },
     "metadata": {}
    }
   ],
   "execution_count": null
  },
  {
   "cell_type": "code",
   "metadata": {
    "tags": [],
    "deepnote_to_be_reexecuted": false,
    "source_hash": "fb0ba44b",
    "execution_start": 1637358522658,
    "execution_millis": 1158694,
    "deepnote_output_heights": [
     null,
     null,
     null,
     21.1875
    ],
    "cell_id": "00037-4b0ed251-3f92-4470-b7b5-b976b8b40ac1",
    "deepnote_cell_type": "code"
   },
   "source": "from catboost import CatBoostRegressor\n#random_state=1, iterations=1500, depth=8, learning_rate=.1, loss_function='RMSE'\nmodel = CatBoostRegressor(random_state=1, iterations=4000,cat_features = categorical_features_indices, depth=8, learning_rate=0.05, loss_function='RMSE')\nmodel.fit(X_train, y_train, eval_set=(X_val, y_val), plot=True)",
   "outputs": [
    {
     "name": "stderr",
     "text": "Custom logger is already specified. Specify more than one logger at same time is not thread safe.",
     "output_type": "stream"
    },
    {
     "data": {
      "text/plain": "MetricVisualizer(layout=Layout(align_self='stretch', height='500px'))",
      "application/vnd.jupyter.widget-view+json": {
       "version_major": 2,
       "version_minor": 0,
       "model_id": "4fd8259ec8224ac1835bcb4139958db0"
      }
     },
     "metadata": {},
     "output_type": "display_data"
    },
    {
     "name": "stdout",
     "text": "3005:\tlearn: 20525.8994844\ttest: 60015.7498643\tbest: 60015.7498643 (3005)\ttotal: 12m 45s\tremaining: 4m 13s\n3006:\tlearn: 20517.8891537\ttest: 60017.3360789\tbest: 60015.7498643 (3005)\ttotal: 12m 46s\tremaining: 4m 13s\n3007:\tlearn: 20516.1521789\ttest: 60016.9019545\tbest: 60015.7498643 (3005)\ttotal: 12m 46s\tremaining: 4m 12s\n3008:\tlearn: 20512.4154944\ttest: 60014.7285906\tbest: 60014.7285906 (3008)\ttotal: 12m 46s\tremaining: 4m 12s\n3009:\tlearn: 20511.0280864\ttest: 60014.9868865\tbest: 60014.7285906 (3008)\ttotal: 12m 47s\tremaining: 4m 12s\n3010:\tlearn: 20509.6482464\ttest: 60015.6287223\tbest: 60014.7285906 (3008)\ttotal: 12m 47s\tremaining: 4m 12s\n3011:\tlearn: 20508.5775727\ttest: 60015.8644988\tbest: 60014.7285906 (3008)\ttotal: 12m 48s\tremaining: 4m 11s\n3012:\tlearn: 20501.6225806\ttest: 60012.9402270\tbest: 60012.9402270 (3012)\ttotal: 12m 48s\tremaining: 4m 11s\n3013:\tlearn: 20496.4241381\ttest: 60014.2237721\tbest: 60012.9402270 (3012)\ttotal: 12m 49s\tremaining: 4m 11s\n3014:\tlearn: 20490.9582056\ttest: 60013.5277985\tbest: 60012.9402270 (3012)\ttotal: 12m 49s\tremaining: 4m 11s\n3015:\tlearn: 20488.7285375\ttest: 60014.1675690\tbest: 60012.9402270 (3012)\ttotal: 12m 49s\tremaining: 4m 11s\n3016:\tlearn: 20488.1188092\ttest: 60013.6868772\tbest: 60012.9402270 (3012)\ttotal: 12m 50s\tremaining: 4m 10s\n3017:\tlearn: 20486.0573143\ttest: 60012.1517802\tbest: 60012.1517802 (3017)\ttotal: 12m 50s\tremaining: 4m 10s\n3018:\tlearn: 20480.8813225\ttest: 60012.1606211\tbest: 60012.1517802 (3017)\ttotal: 12m 50s\tremaining: 4m 10s\n3019:\tlearn: 20478.2481491\ttest: 60011.5570437\tbest: 60011.5570437 (3019)\ttotal: 12m 50s\tremaining: 4m 10s\n3020:\tlearn: 20474.9181700\ttest: 60012.6955489\tbest: 60011.5570437 (3019)\ttotal: 12m 51s\tremaining: 4m 9s\n3021:\tlearn: 20472.2688915\ttest: 60012.7418117\tbest: 60011.5570437 (3019)\ttotal: 12m 52s\tremaining: 4m 9s\n3022:\tlearn: 20469.5342046\ttest: 60013.0284147\tbest: 60011.5570437 (3019)\ttotal: 12m 53s\tremaining: 4m 9s\n3023:\tlearn: 20463.7180156\ttest: 60010.9672341\tbest: 60010.9672341 (3023)\ttotal: 12m 53s\tremaining: 4m 9s\n3024:\tlearn: 20458.1040260\ttest: 60008.3678285\tbest: 60008.3678285 (3024)\ttotal: 12m 53s\tremaining: 4m 9s\n3025:\tlearn: 20453.0849544\ttest: 60009.6231043\tbest: 60008.3678285 (3024)\ttotal: 12m 54s\tremaining: 4m 9s\n3026:\tlearn: 20447.0564216\ttest: 60008.8677051\tbest: 60008.3678285 (3024)\ttotal: 12m 54s\tremaining: 4m 8s\n3027:\tlearn: 20442.4288944\ttest: 60009.0696561\tbest: 60008.3678285 (3024)\ttotal: 12m 55s\tremaining: 4m 8s\n3028:\tlearn: 20439.1020892\ttest: 60008.9644874\tbest: 60008.3678285 (3024)\ttotal: 12m 55s\tremaining: 4m 8s\n3029:\tlearn: 20433.6016223\ttest: 60007.8933021\tbest: 60007.8933021 (3029)\ttotal: 12m 55s\tremaining: 4m 8s\n3030:\tlearn: 20424.3657344\ttest: 60010.4456133\tbest: 60007.8933021 (3029)\ttotal: 12m 56s\tremaining: 4m 8s\n3031:\tlearn: 20424.0924195\ttest: 60010.5214843\tbest: 60007.8933021 (3029)\ttotal: 12m 56s\tremaining: 4m 7s\n3032:\tlearn: 20422.4982276\ttest: 60011.1233513\tbest: 60007.8933021 (3029)\ttotal: 12m 56s\tremaining: 4m 7s\n3033:\tlearn: 20416.1270191\ttest: 60007.8617146\tbest: 60007.8617146 (3033)\ttotal: 12m 57s\tremaining: 4m 7s\n3034:\tlearn: 20415.1443693\ttest: 60007.5690445\tbest: 60007.5690445 (3034)\ttotal: 12m 57s\tremaining: 4m 7s\n3035:\tlearn: 20409.7017568\ttest: 60005.8229587\tbest: 60005.8229587 (3035)\ttotal: 12m 57s\tremaining: 4m 7s\n3036:\tlearn: 20406.5067215\ttest: 60006.7399677\tbest: 60005.8229587 (3035)\ttotal: 12m 58s\tremaining: 4m 6s\n3037:\tlearn: 20403.6927847\ttest: 60007.1253553\tbest: 60005.8229587 (3035)\ttotal: 12m 58s\tremaining: 4m 6s\n3038:\tlearn: 20400.4114132\ttest: 60006.7585869\tbest: 60005.8229587 (3035)\ttotal: 12m 59s\tremaining: 4m 6s\n3039:\tlearn: 20400.0186213\ttest: 60006.0984560\tbest: 60005.8229587 (3035)\ttotal: 12m 59s\tremaining: 4m 6s\n3040:\tlearn: 20391.3257333\ttest: 60005.5282301\tbest: 60005.5282301 (3040)\ttotal: 12m 59s\tremaining: 4m 5s\n3041:\tlearn: 20386.7521859\ttest: 60006.2730658\tbest: 60005.5282301 (3040)\ttotal: 13m\tremaining: 4m 5s\n3042:\tlearn: 20376.2786313\ttest: 60005.5758758\tbest: 60005.5282301 (3040)\ttotal: 13m\tremaining: 4m 5s\n3043:\tlearn: 20372.6600928\ttest: 60004.9675372\tbest: 60004.9675372 (3043)\ttotal: 13m 1s\tremaining: 4m 5s\n3044:\tlearn: 20364.9193912\ttest: 60006.6159900\tbest: 60004.9675372 (3043)\ttotal: 13m 1s\tremaining: 4m 5s\n3045:\tlearn: 20360.4367611\ttest: 60003.1906157\tbest: 60003.1906157 (3045)\ttotal: 13m 1s\tremaining: 4m 4s\n3046:\tlearn: 20359.1907511\ttest: 60002.5893457\tbest: 60002.5893457 (3046)\ttotal: 13m 2s\tremaining: 4m 4s\n3047:\tlearn: 20357.9133447\ttest: 60000.6042419\tbest: 60000.6042419 (3047)\ttotal: 13m 2s\tremaining: 4m 4s\n3048:\tlearn: 20350.4453638\ttest: 59999.3492333\tbest: 59999.3492333 (3048)\ttotal: 13m 2s\tremaining: 4m 4s\n3049:\tlearn: 20347.1037118\ttest: 60002.9821480\tbest: 59999.3492333 (3048)\ttotal: 13m 3s\tremaining: 4m 3s\n3050:\tlearn: 20341.5767656\ttest: 60003.5969174\tbest: 59999.3492333 (3048)\ttotal: 13m 3s\tremaining: 4m 3s\n3051:\tlearn: 20338.6564748\ttest: 60002.0317933\tbest: 59999.3492333 (3048)\ttotal: 13m 3s\tremaining: 4m 3s\n3052:\tlearn: 20331.7373313\ttest: 60006.6604666\tbest: 59999.3492333 (3048)\ttotal: 13m 4s\tremaining: 4m 3s\n3053:\tlearn: 20324.3308191\ttest: 60007.9967066\tbest: 59999.3492333 (3048)\ttotal: 13m 4s\tremaining: 4m 3s\n3054:\tlearn: 20318.4072265\ttest: 60008.3361691\tbest: 59999.3492333 (3048)\ttotal: 13m 4s\tremaining: 4m 2s\n3055:\tlearn: 20313.8649710\ttest: 60008.2358829\tbest: 59999.3492333 (3048)\ttotal: 13m 5s\tremaining: 4m 2s\n3056:\tlearn: 20313.0663751\ttest: 60008.5909552\tbest: 59999.3492333 (3048)\ttotal: 13m 5s\tremaining: 4m 2s\n3057:\tlearn: 20310.0150971\ttest: 60007.6124017\tbest: 59999.3492333 (3048)\ttotal: 13m 5s\tremaining: 4m 2s\n3058:\tlearn: 20308.4015402\ttest: 60006.9327755\tbest: 59999.3492333 (3048)\ttotal: 13m 6s\tremaining: 4m 1s\n3059:\tlearn: 20303.9122485\ttest: 60006.2638686\tbest: 59999.3492333 (3048)\ttotal: 13m 6s\tremaining: 4m 1s\n3060:\tlearn: 20298.1177307\ttest: 60005.1194766\tbest: 59999.3492333 (3048)\ttotal: 13m 6s\tremaining: 4m 1s\n3061:\tlearn: 20294.8538264\ttest: 60002.9766878\tbest: 59999.3492333 (3048)\ttotal: 13m 7s\tremaining: 4m 1s\n3062:\tlearn: 20292.7559555\ttest: 60003.9575194\tbest: 59999.3492333 (3048)\ttotal: 13m 7s\tremaining: 4m\n3063:\tlearn: 20288.1116397\ttest: 60002.4506341\tbest: 59999.3492333 (3048)\ttotal: 13m 8s\tremaining: 4m\n3064:\tlearn: 20282.1476316\ttest: 59998.8408576\tbest: 59998.8408576 (3064)\ttotal: 13m 8s\tremaining: 4m\n3065:\tlearn: 20277.0690161\ttest: 59999.3212305\tbest: 59998.8408576 (3064)\ttotal: 13m 8s\tremaining: 4m\n3066:\tlearn: 20268.9685298\ttest: 59994.6479356\tbest: 59994.6479356 (3066)\ttotal: 13m 9s\tremaining: 4m\n3067:\tlearn: 20266.7867575\ttest: 59994.0460150\tbest: 59994.0460150 (3067)\ttotal: 13m 9s\tremaining: 3m 59s\n3068:\tlearn: 20257.5577817\ttest: 59995.0626287\tbest: 59994.0460150 (3067)\ttotal: 13m 10s\tremaining: 3m 59s\n3069:\tlearn: 20250.8989840\ttest: 59991.6495767\tbest: 59991.6495767 (3069)\ttotal: 13m 10s\tremaining: 3m 59s\n3070:\tlearn: 20245.1392030\ttest: 59989.7370652\tbest: 59989.7370652 (3070)\ttotal: 13m 10s\tremaining: 3m 59s\n3071:\tlearn: 20240.3378685\ttest: 59989.5494125\tbest: 59989.5494125 (3071)\ttotal: 13m 11s\tremaining: 3m 58s\n3072:\tlearn: 20239.7719997\ttest: 59989.5063018\tbest: 59989.5063018 (3072)\ttotal: 13m 11s\tremaining: 3m 58s\n3073:\tlearn: 20238.6237088\ttest: 59990.6317176\tbest: 59989.5063018 (3072)\ttotal: 13m 11s\tremaining: 3m 58s\n3074:\tlearn: 20234.9735252\ttest: 59990.9836602\tbest: 59989.5063018 (3072)\ttotal: 13m 11s\tremaining: 3m 58s\n3075:\tlearn: 20230.9098803\ttest: 59990.9444774\tbest: 59989.5063018 (3072)\ttotal: 13m 12s\tremaining: 3m 57s\n3076:\tlearn: 20228.4031602\ttest: 59988.5822098\tbest: 59988.5822098 (3076)\ttotal: 13m 12s\tremaining: 3m 57s\n3077:\tlearn: 20225.7293147\ttest: 59987.7356146\tbest: 59987.7356146 (3077)\ttotal: 13m 12s\tremaining: 3m 57s\n3078:\tlearn: 20220.4589179\ttest: 59989.4163376\tbest: 59987.7356146 (3077)\ttotal: 13m 13s\tremaining: 3m 57s\n3079:\tlearn: 20216.0356493\ttest: 59988.3420823\tbest: 59987.7356146 (3077)\ttotal: 13m 13s\tremaining: 3m 57s\n3080:\tlearn: 20207.7018728\ttest: 59986.8236164\tbest: 59986.8236164 (3080)\ttotal: 13m 14s\tremaining: 3m 56s\n3081:\tlearn: 20202.4372899\ttest: 59987.1787283\tbest: 59986.8236164 (3080)\ttotal: 13m 14s\tremaining: 3m 56s\n3082:\tlearn: 20195.1258880\ttest: 59989.7440234\tbest: 59986.8236164 (3080)\ttotal: 13m 14s\tremaining: 3m 56s\n3083:\tlearn: 20189.9917336\ttest: 59987.3638549\tbest: 59986.8236164 (3080)\ttotal: 13m 15s\tremaining: 3m 56s\n3084:\tlearn: 20186.2413016\ttest: 59987.9727042\tbest: 59986.8236164 (3080)\ttotal: 13m 15s\tremaining: 3m 55s\n3085:\tlearn: 20185.7448929\ttest: 59987.5680459\tbest: 59986.8236164 (3080)\ttotal: 13m 15s\tremaining: 3m 55s\n3086:\tlearn: 20181.8149802\ttest: 59985.9758593\tbest: 59985.9758593 (3086)\ttotal: 13m 16s\tremaining: 3m 55s\n3087:\tlearn: 20177.6466080\ttest: 59985.9514621\tbest: 59985.9514621 (3087)\ttotal: 13m 16s\tremaining: 3m 55s\n3088:\tlearn: 20177.4960294\ttest: 59986.0268355\tbest: 59985.9514621 (3087)\ttotal: 13m 16s\tremaining: 3m 54s\n3089:\tlearn: 20174.5311520\ttest: 59983.7864430\tbest: 59983.7864430 (3089)\ttotal: 13m 17s\tremaining: 3m 54s\n3090:\tlearn: 20168.5264261\ttest: 59981.4613656\tbest: 59981.4613656 (3090)\ttotal: 13m 17s\tremaining: 3m 54s\n3091:\tlearn: 20167.6892484\ttest: 59981.4756177\tbest: 59981.4613656 (3090)\ttotal: 13m 17s\tremaining: 3m 54s\n3092:\tlearn: 20165.4526403\ttest: 59977.5875642\tbest: 59977.5875642 (3092)\ttotal: 13m 18s\tremaining: 3m 54s\n3093:\tlearn: 20162.3637057\ttest: 59979.3533888\tbest: 59977.5875642 (3092)\ttotal: 13m 18s\tremaining: 3m 53s\n3094:\tlearn: 20159.9267198\ttest: 59978.3158435\tbest: 59977.5875642 (3092)\ttotal: 13m 18s\tremaining: 3m 53s\n3095:\tlearn: 20159.1021815\ttest: 59977.5251351\tbest: 59977.5251351 (3095)\ttotal: 13m 19s\tremaining: 3m 53s\n3096:\tlearn: 20156.2206110\ttest: 59977.0206235\tbest: 59977.0206235 (3096)\ttotal: 13m 19s\tremaining: 3m 53s\n3097:\tlearn: 20155.5538317\ttest: 59976.6801165\tbest: 59976.6801165 (3097)\ttotal: 13m 19s\tremaining: 3m 52s\n3098:\tlearn: 20149.2554321\ttest: 59977.3154071\tbest: 59976.6801165 (3097)\ttotal: 13m 20s\tremaining: 3m 52s\n3099:\tlearn: 20143.9131570\ttest: 59977.7012862\tbest: 59976.6801165 (3097)\ttotal: 13m 20s\tremaining: 3m 52s\n3100:\tlearn: 20139.6356475\ttest: 59978.9365533\tbest: 59976.6801165 (3097)\ttotal: 13m 20s\tremaining: 3m 52s\n3101:\tlearn: 20134.4035185\ttest: 59976.4409546\tbest: 59976.4409546 (3101)\ttotal: 13m 21s\tremaining: 3m 52s\n3102:\tlearn: 20133.8125751\ttest: 59976.5527048\tbest: 59976.4409546 (3101)\ttotal: 13m 21s\tremaining: 3m 51s\n3103:\tlearn: 20132.5761496\ttest: 59976.0179605\tbest: 59976.0179605 (3103)\ttotal: 13m 22s\tremaining: 3m 51s\n3104:\tlearn: 20126.4078409\ttest: 59978.7905162\tbest: 59976.0179605 (3103)\ttotal: 13m 22s\tremaining: 3m 51s\n3105:\tlearn: 20126.0176092\ttest: 59976.7521632\tbest: 59976.0179605 (3103)\ttotal: 13m 22s\tremaining: 3m 51s\n3106:\tlearn: 20119.3939497\ttest: 59979.4487504\tbest: 59976.0179605 (3103)\ttotal: 13m 22s\tremaining: 3m 50s\n3107:\tlearn: 20115.2578229\ttest: 59976.2723038\tbest: 59976.0179605 (3103)\ttotal: 13m 23s\tremaining: 3m 50s\n3108:\tlearn: 20112.5300092\ttest: 59976.4174089\tbest: 59976.0179605 (3103)\ttotal: 13m 24s\tremaining: 3m 50s\n3109:\tlearn: 20106.0272644\ttest: 59980.0120073\tbest: 59976.0179605 (3103)\ttotal: 13m 24s\tremaining: 3m 50s\n3110:\tlearn: 20105.4827181\ttest: 59979.8716771\tbest: 59976.0179605 (3103)\ttotal: 13m 24s\tremaining: 3m 49s\n3111:\tlearn: 20100.8655714\ttest: 59977.9173372\tbest: 59976.0179605 (3103)\ttotal: 13m 24s\tremaining: 3m 49s\n3112:\tlearn: 20096.4651035\ttest: 59976.1042358\tbest: 59976.0179605 (3103)\ttotal: 13m 25s\tremaining: 3m 49s\n3113:\tlearn: 20094.4880894\ttest: 59977.6712968\tbest: 59976.0179605 (3103)\ttotal: 13m 25s\tremaining: 3m 49s\n3114:\tlearn: 20089.0988060\ttest: 59978.0056405\tbest: 59976.0179605 (3103)\ttotal: 13m 26s\tremaining: 3m 48s\n3115:\tlearn: 20085.7585468\ttest: 59980.2289097\tbest: 59976.0179605 (3103)\ttotal: 13m 26s\tremaining: 3m 48s\n3116:\tlearn: 20081.9265900\ttest: 59982.2531716\tbest: 59976.0179605 (3103)\ttotal: 13m 26s\tremaining: 3m 48s\n3117:\tlearn: 20079.9909732\ttest: 59983.0629707\tbest: 59976.0179605 (3103)\ttotal: 13m 27s\tremaining: 3m 48s\n3118:\tlearn: 20077.0954806\ttest: 59983.5282511\tbest: 59976.0179605 (3103)\ttotal: 13m 27s\tremaining: 3m 48s\n3119:\tlearn: 20072.8562780\ttest: 59983.7332146\tbest: 59976.0179605 (3103)\ttotal: 13m 28s\tremaining: 3m 47s\n3120:\tlearn: 20071.6988651\ttest: 59984.2002403\tbest: 59976.0179605 (3103)\ttotal: 13m 28s\tremaining: 3m 47s\n3121:\tlearn: 20067.3477913\ttest: 59984.1019901\tbest: 59976.0179605 (3103)\ttotal: 13m 28s\tremaining: 3m 47s\n3122:\tlearn: 20063.1350051\ttest: 59984.2091174\tbest: 59976.0179605 (3103)\ttotal: 13m 29s\tremaining: 3m 47s\n3123:\tlearn: 20058.1287956\ttest: 59985.5659087\tbest: 59976.0179605 (3103)\ttotal: 13m 29s\tremaining: 3m 47s\n3124:\tlearn: 20056.3917789\ttest: 59985.1958111\tbest: 59976.0179605 (3103)\ttotal: 13m 30s\tremaining: 3m 46s\n3125:\tlearn: 20050.3734617\ttest: 59984.5646765\tbest: 59976.0179605 (3103)\ttotal: 13m 30s\tremaining: 3m 46s\n3126:\tlearn: 20043.2840626\ttest: 59981.4301172\tbest: 59976.0179605 (3103)\ttotal: 13m 30s\tremaining: 3m 46s\n3127:\tlearn: 20035.3757458\ttest: 59982.7701454\tbest: 59976.0179605 (3103)\ttotal: 13m 31s\tremaining: 3m 46s\n3128:\tlearn: 20028.6036447\ttest: 59982.1601877\tbest: 59976.0179605 (3103)\ttotal: 13m 31s\tremaining: 3m 45s\n3129:\tlearn: 20024.8232847\ttest: 59979.0501700\tbest: 59976.0179605 (3103)\ttotal: 13m 31s\tremaining: 3m 45s\n3130:\tlearn: 20023.0197898\ttest: 59978.7668729\tbest: 59976.0179605 (3103)\ttotal: 13m 32s\tremaining: 3m 45s\n3131:\tlearn: 20021.2740209\ttest: 59977.5676371\tbest: 59976.0179605 (3103)\ttotal: 13m 32s\tremaining: 3m 45s\n3132:\tlearn: 20014.4109635\ttest: 59977.6937072\tbest: 59976.0179605 (3103)\ttotal: 13m 32s\tremaining: 3m 44s\n3133:\tlearn: 20007.9305196\ttest: 59978.2065034\tbest: 59976.0179605 (3103)\ttotal: 13m 33s\tremaining: 3m 44s\n3134:\tlearn: 20002.7296892\ttest: 59977.2492259\tbest: 59976.0179605 (3103)\ttotal: 13m 33s\tremaining: 3m 44s\n3135:\tlearn: 19999.6047097\ttest: 59978.1090189\tbest: 59976.0179605 (3103)\ttotal: 13m 33s\tremaining: 3m 44s\n3136:\tlearn: 19994.7773227\ttest: 59977.7907870\tbest: 59976.0179605 (3103)\ttotal: 13m 34s\tremaining: 3m 44s\n3137:\tlearn: 19993.1746257\ttest: 59978.3573705\tbest: 59976.0179605 (3103)\ttotal: 13m 34s\tremaining: 3m 43s\n3138:\tlearn: 19979.5237370\ttest: 59970.2159643\tbest: 59970.2159643 (3138)\ttotal: 13m 35s\tremaining: 3m 43s\n3139:\tlearn: 19978.8952394\ttest: 59970.5550483\tbest: 59970.2159643 (3138)\ttotal: 13m 35s\tremaining: 3m 43s\n3140:\tlearn: 19976.5859137\ttest: 59969.5344838\tbest: 59969.5344838 (3140)\ttotal: 13m 35s\tremaining: 3m 43s\n3141:\tlearn: 19975.0047841\ttest: 59971.0760240\tbest: 59969.5344838 (3140)\ttotal: 13m 36s\tremaining: 3m 42s\n3142:\tlearn: 19970.3291885\ttest: 59970.3596078\tbest: 59969.5344838 (3140)\ttotal: 13m 36s\tremaining: 3m 42s\n3143:\tlearn: 19966.0224432\ttest: 59971.3169457\tbest: 59969.5344838 (3140)\ttotal: 13m 36s\tremaining: 3m 42s\n3144:\tlearn: 19958.1987229\ttest: 59965.7885640\tbest: 59965.7885640 (3144)\ttotal: 13m 37s\tremaining: 3m 42s\n3145:\tlearn: 19957.1457280\ttest: 59965.2395700\tbest: 59965.2395700 (3145)\ttotal: 13m 37s\tremaining: 3m 41s\n3146:\tlearn: 19954.5611560\ttest: 59964.9410327\tbest: 59964.9410327 (3146)\ttotal: 13m 38s\tremaining: 3m 41s\n3147:\tlearn: 19953.2448319\ttest: 59967.4551462\tbest: 59964.9410327 (3146)\ttotal: 13m 38s\tremaining: 3m 41s\n3148:\tlearn: 19949.0832988\ttest: 59967.2244626\tbest: 59964.9410327 (3146)\ttotal: 13m 38s\tremaining: 3m 41s\n3149:\tlearn: 19946.7962663\ttest: 59966.5037270\tbest: 59964.9410327 (3146)\ttotal: 13m 39s\tremaining: 3m 41s\n3150:\tlearn: 19945.7343014\ttest: 59967.1489996\tbest: 59964.9410327 (3146)\ttotal: 13m 39s\tremaining: 3m 40s\n3151:\tlearn: 19939.9700369\ttest: 59968.1038514\tbest: 59964.9410327 (3146)\ttotal: 13m 39s\tremaining: 3m 40s\n3152:\tlearn: 19934.3757187\ttest: 59963.1132971\tbest: 59963.1132971 (3152)\ttotal: 13m 40s\tremaining: 3m 40s\n3153:\tlearn: 19930.3323332\ttest: 59962.9772726\tbest: 59962.9772726 (3153)\ttotal: 13m 40s\tremaining: 3m 40s\n3154:\tlearn: 19925.9871293\ttest: 59963.0093977\tbest: 59962.9772726 (3153)\ttotal: 13m 41s\tremaining: 3m 39s\n3155:\tlearn: 19923.1598126\ttest: 59961.7924733\tbest: 59961.7924733 (3155)\ttotal: 13m 41s\tremaining: 3m 39s\n3156:\tlearn: 19921.5453315\ttest: 59962.9492109\tbest: 59961.7924733 (3155)\ttotal: 13m 41s\tremaining: 3m 39s\n3157:\tlearn: 19916.9346004\ttest: 59961.9192577\tbest: 59961.7924733 (3155)\ttotal: 13m 42s\tremaining: 3m 39s\n3158:\tlearn: 19911.0528615\ttest: 59961.7828164\tbest: 59961.7828164 (3158)\ttotal: 13m 42s\tremaining: 3m 39s\n3159:\tlearn: 19908.4485956\ttest: 59959.0534273\tbest: 59959.0534273 (3159)\ttotal: 13m 43s\tremaining: 3m 38s\n3160:\tlearn: 19907.4918224\ttest: 59957.5160853\tbest: 59957.5160853 (3160)\ttotal: 13m 43s\tremaining: 3m 38s\n3161:\tlearn: 19904.1243779\ttest: 59956.2964941\tbest: 59956.2964941 (3161)\ttotal: 13m 43s\tremaining: 3m 38s\n3162:\tlearn: 19900.5282309\ttest: 59958.3910304\tbest: 59956.2964941 (3161)\ttotal: 13m 44s\tremaining: 3m 38s\n3163:\tlearn: 19894.8463588\ttest: 59958.9711661\tbest: 59956.2964941 (3161)\ttotal: 13m 44s\tremaining: 3m 37s\n3164:\tlearn: 19887.5045405\ttest: 59959.5248380\tbest: 59956.2964941 (3161)\ttotal: 13m 44s\tremaining: 3m 37s\n3165:\tlearn: 19882.9162753\ttest: 59958.8184628\tbest: 59956.2964941 (3161)\ttotal: 13m 45s\tremaining: 3m 37s\n3166:\tlearn: 19882.0771251\ttest: 59957.7030278\tbest: 59956.2964941 (3161)\ttotal: 13m 45s\tremaining: 3m 37s\n3167:\tlearn: 19875.4070327\ttest: 59958.0365408\tbest: 59956.2964941 (3161)\ttotal: 13m 45s\tremaining: 3m 36s\n3168:\tlearn: 19873.2838482\ttest: 59957.8619515\tbest: 59956.2964941 (3161)\ttotal: 13m 46s\tremaining: 3m 36s\n3169:\tlearn: 19870.4534244\ttest: 59956.5346260\tbest: 59956.2964941 (3161)\ttotal: 13m 46s\tremaining: 3m 36s\n3170:\tlearn: 19867.5283932\ttest: 59955.7199637\tbest: 59955.7199637 (3170)\ttotal: 13m 46s\tremaining: 3m 36s\n3171:\tlearn: 19862.2081775\ttest: 59961.1190127\tbest: 59955.7199637 (3170)\ttotal: 13m 46s\tremaining: 3m 35s\n3172:\tlearn: 19859.0046987\ttest: 59962.1591429\tbest: 59955.7199637 (3170)\ttotal: 13m 47s\tremaining: 3m 35s\n3173:\tlearn: 19853.5218075\ttest: 59963.6029472\tbest: 59955.7199637 (3170)\ttotal: 13m 47s\tremaining: 3m 35s\n3174:\tlearn: 19846.7903881\ttest: 59966.5352964\tbest: 59955.7199637 (3170)\ttotal: 13m 48s\tremaining: 3m 35s\n3175:\tlearn: 19839.7287133\ttest: 59966.6185482\tbest: 59955.7199637 (3170)\ttotal: 13m 48s\tremaining: 3m 35s\n3176:\tlearn: 19836.8418379\ttest: 59965.3239266\tbest: 59955.7199637 (3170)\ttotal: 13m 48s\tremaining: 3m 34s\n3177:\tlearn: 19833.8271134\ttest: 59963.2323766\tbest: 59955.7199637 (3170)\ttotal: 13m 49s\tremaining: 3m 34s\n3178:\tlearn: 19827.5352639\ttest: 59961.8424714\tbest: 59955.7199637 (3170)\ttotal: 13m 49s\tremaining: 3m 34s\n3179:\tlearn: 19821.9492665\ttest: 59958.7405768\tbest: 59955.7199637 (3170)\ttotal: 13m 49s\tremaining: 3m 34s\n3180:\tlearn: 19817.6979987\ttest: 59960.0267026\tbest: 59955.7199637 (3170)\ttotal: 13m 50s\tremaining: 3m 33s\n3181:\tlearn: 19815.2861596\ttest: 59960.4728150\tbest: 59955.7199637 (3170)\ttotal: 13m 50s\tremaining: 3m 33s\n3182:\tlearn: 19809.1635956\ttest: 59958.1521607\tbest: 59955.7199637 (3170)\ttotal: 13m 50s\tremaining: 3m 33s\n3183:\tlearn: 19804.3043333\ttest: 59963.5194039\tbest: 59955.7199637 (3170)\ttotal: 13m 51s\tremaining: 3m 33s\n3184:\tlearn: 19802.2600934\ttest: 59964.3346002\tbest: 59955.7199637 (3170)\ttotal: 13m 51s\tremaining: 3m 32s\n3185:\tlearn: 19799.4573523\ttest: 59963.0838864\tbest: 59955.7199637 (3170)\ttotal: 13m 52s\tremaining: 3m 32s\n3186:\tlearn: 19795.1087655\ttest: 59962.7250440\tbest: 59955.7199637 (3170)\ttotal: 13m 52s\tremaining: 3m 32s\n3187:\tlearn: 19788.2304188\ttest: 59962.3457151\tbest: 59955.7199637 (3170)\ttotal: 13m 52s\tremaining: 3m 32s\n3188:\tlearn: 19785.0930765\ttest: 59963.2095665\tbest: 59955.7199637 (3170)\ttotal: 13m 52s\tremaining: 3m 31s\n3189:\tlearn: 19780.0121334\ttest: 59964.0339185\tbest: 59955.7199637 (3170)\ttotal: 13m 53s\tremaining: 3m 31s\n3190:\tlearn: 19775.7253804\ttest: 59964.1268217\tbest: 59955.7199637 (3170)\ttotal: 13m 53s\tremaining: 3m 31s\n3191:\tlearn: 19770.2203159\ttest: 59963.7245721\tbest: 59955.7199637 (3170)\ttotal: 13m 54s\tremaining: 3m 31s\n3192:\tlearn: 19766.2500195\ttest: 59963.9625693\tbest: 59955.7199637 (3170)\ttotal: 13m 54s\tremaining: 3m 30s\n3193:\tlearn: 19760.0346942\ttest: 59966.6424316\tbest: 59955.7199637 (3170)\ttotal: 13m 55s\tremaining: 3m 30s\n3194:\tlearn: 19758.4162536\ttest: 59966.4063351\tbest: 59955.7199637 (3170)\ttotal: 13m 55s\tremaining: 3m 30s\n3195:\tlearn: 19752.7249213\ttest: 59965.5301526\tbest: 59955.7199637 (3170)\ttotal: 13m 55s\tremaining: 3m 30s\n3196:\tlearn: 19746.9466581\ttest: 59964.2820103\tbest: 59955.7199637 (3170)\ttotal: 13m 55s\tremaining: 3m 29s\n3197:\tlearn: 19742.0762071\ttest: 59963.9056696\tbest: 59955.7199637 (3170)\ttotal: 13m 56s\tremaining: 3m 29s\n3198:\tlearn: 19739.4459843\ttest: 59963.3080271\tbest: 59955.7199637 (3170)\ttotal: 13m 56s\tremaining: 3m 29s\n3199:\tlearn: 19732.8117900\ttest: 59963.8790056\tbest: 59955.7199637 (3170)\ttotal: 13m 57s\tremaining: 3m 29s\n3200:\tlearn: 19730.5877735\ttest: 59963.4614892\tbest: 59955.7199637 (3170)\ttotal: 13m 57s\tremaining: 3m 29s\n3201:\tlearn: 19728.2323790\ttest: 59963.3723640\tbest: 59955.7199637 (3170)\ttotal: 13m 57s\tremaining: 3m 28s\n3202:\tlearn: 19724.7280175\ttest: 59962.6252075\tbest: 59955.7199637 (3170)\ttotal: 13m 58s\tremaining: 3m 28s\n3203:\tlearn: 19721.9937344\ttest: 59960.4859217\tbest: 59955.7199637 (3170)\ttotal: 13m 58s\tremaining: 3m 28s\n3204:\tlearn: 19718.8261556\ttest: 59959.8088613\tbest: 59955.7199637 (3170)\ttotal: 13m 58s\tremaining: 3m 28s\n3205:\tlearn: 19715.7727680\ttest: 59960.8434573\tbest: 59955.7199637 (3170)\ttotal: 13m 59s\tremaining: 3m 27s\n3206:\tlearn: 19713.8777630\ttest: 59961.9599655\tbest: 59955.7199637 (3170)\ttotal: 13m 59s\tremaining: 3m 27s\n3207:\tlearn: 19709.1950949\ttest: 59962.2606095\tbest: 59955.7199637 (3170)\ttotal: 13m 59s\tremaining: 3m 27s\n3208:\tlearn: 19703.6547874\ttest: 59960.0601318\tbest: 59955.7199637 (3170)\ttotal: 14m\tremaining: 3m 27s\n3209:\tlearn: 19699.7854956\ttest: 59960.0174441\tbest: 59955.7199637 (3170)\ttotal: 14m\tremaining: 3m 26s\n3210:\tlearn: 19689.8820755\ttest: 59958.7240505\tbest: 59955.7199637 (3170)\ttotal: 14m\tremaining: 3m 26s\n3211:\tlearn: 19684.2447855\ttest: 59958.4301930\tbest: 59955.7199637 (3170)\ttotal: 14m\tremaining: 3m 26s\n3212:\tlearn: 19683.0265748\ttest: 59958.2047175\tbest: 59955.7199637 (3170)\ttotal: 14m 1s\tremaining: 3m 26s\n3213:\tlearn: 19680.9807696\ttest: 59957.6194374\tbest: 59955.7199637 (3170)\ttotal: 14m 1s\tremaining: 3m 25s\n3214:\tlearn: 19672.6459383\ttest: 59955.2285941\tbest: 59955.2285941 (3214)\ttotal: 14m 2s\tremaining: 3m 25s\n3215:\tlearn: 19670.3305098\ttest: 59952.4376599\tbest: 59952.4376599 (3215)\ttotal: 14m 2s\tremaining: 3m 25s\n3216:\tlearn: 19658.1383388\ttest: 59947.8122569\tbest: 59947.8122569 (3216)\ttotal: 14m 3s\tremaining: 3m 25s\n3217:\tlearn: 19655.7049738\ttest: 59947.0259569\tbest: 59947.0259569 (3217)\ttotal: 14m 3s\tremaining: 3m 24s\n3218:\tlearn: 19654.6099614\ttest: 59946.5913471\tbest: 59946.5913471 (3218)\ttotal: 14m 4s\tremaining: 3m 24s\n3219:\tlearn: 19651.9498726\ttest: 59946.8938198\tbest: 59946.5913471 (3218)\ttotal: 14m 4s\tremaining: 3m 24s\n3220:\tlearn: 19648.5217917\ttest: 59948.4463741\tbest: 59946.5913471 (3218)\ttotal: 14m 4s\tremaining: 3m 24s\n3221:\tlearn: 19647.2563526\ttest: 59949.0347108\tbest: 59946.5913471 (3218)\ttotal: 14m 4s\tremaining: 3m 24s\n3222:\tlearn: 19644.6777443\ttest: 59948.4492999\tbest: 59946.5913471 (3218)\ttotal: 14m 5s\tremaining: 3m 23s\n3223:\tlearn: 19639.5818283\ttest: 59946.1287548\tbest: 59946.1287548 (3223)\ttotal: 14m 5s\tremaining: 3m 23s\n3224:\tlearn: 19637.8799410\ttest: 59946.0512373\tbest: 59946.0512373 (3224)\ttotal: 14m 6s\tremaining: 3m 23s\n3225:\tlearn: 19637.0613538\ttest: 59946.4213658\tbest: 59946.0512373 (3224)\ttotal: 14m 6s\tremaining: 3m 23s\n3226:\tlearn: 19636.4582586\ttest: 59946.3152405\tbest: 59946.0512373 (3224)\ttotal: 14m 6s\tremaining: 3m 22s\n3227:\tlearn: 19623.9776479\ttest: 59942.0370444\tbest: 59942.0370444 (3227)\ttotal: 14m 6s\tremaining: 3m 22s\n3228:\tlearn: 19621.2269505\ttest: 59941.5324261\tbest: 59941.5324261 (3228)\ttotal: 14m 7s\tremaining: 3m 22s\n3229:\tlearn: 19617.8690494\ttest: 59942.0511451\tbest: 59941.5324261 (3228)\ttotal: 14m 8s\tremaining: 3m 22s\n3230:\tlearn: 19609.9944860\ttest: 59941.3364635\tbest: 59941.3364635 (3230)\ttotal: 14m 8s\tremaining: 3m 21s\n3231:\tlearn: 19609.9718816\ttest: 59941.3377754\tbest: 59941.3364635 (3230)\ttotal: 14m 8s\tremaining: 3m 21s\n3232:\tlearn: 19603.6910674\ttest: 59938.4605094\tbest: 59938.4605094 (3232)\ttotal: 14m 8s\tremaining: 3m 21s\n3233:\tlearn: 19600.1122890\ttest: 59939.1584845\tbest: 59938.4605094 (3232)\ttotal: 14m 9s\tremaining: 3m 21s\n3234:\tlearn: 19598.0338172\ttest: 59939.4094556\tbest: 59938.4605094 (3232)\ttotal: 14m 9s\tremaining: 3m 20s\n3235:\tlearn: 19593.0908081\ttest: 59936.0837269\tbest: 59936.0837269 (3235)\ttotal: 14m 10s\tremaining: 3m 20s\n3236:\tlearn: 19591.6231128\ttest: 59937.4572540\tbest: 59936.0837269 (3235)\ttotal: 14m 10s\tremaining: 3m 20s\n3237:\tlearn: 19590.5428448\ttest: 59937.2738691\tbest: 59936.0837269 (3235)\ttotal: 14m 10s\tremaining: 3m 20s\n3238:\tlearn: 19586.2742482\ttest: 59935.3469437\tbest: 59935.3469437 (3238)\ttotal: 14m 10s\tremaining: 3m 19s\n3239:\tlearn: 19582.7212533\ttest: 59935.9198599\tbest: 59935.3469437 (3238)\ttotal: 14m 11s\tremaining: 3m 19s\n3240:\tlearn: 19582.5253932\ttest: 59935.8000530\tbest: 59935.3469437 (3238)\ttotal: 14m 11s\tremaining: 3m 19s\n3241:\tlearn: 19577.6881832\ttest: 59938.5759559\tbest: 59935.3469437 (3238)\ttotal: 14m 12s\tremaining: 3m 19s\n3242:\tlearn: 19574.0384941\ttest: 59935.6318901\tbest: 59935.3469437 (3238)\ttotal: 14m 12s\tremaining: 3m 18s\n3243:\tlearn: 19573.1343744\ttest: 59935.2378225\tbest: 59935.2378225 (3243)\ttotal: 14m 12s\tremaining: 3m 18s\n3244:\tlearn: 19567.5763515\ttest: 59932.0710170\tbest: 59932.0710170 (3244)\ttotal: 14m 13s\tremaining: 3m 18s\n3245:\tlearn: 19564.6804217\ttest: 59929.2985753\tbest: 59929.2985753 (3245)\ttotal: 14m 13s\tremaining: 3m 18s\n3246:\tlearn: 19557.7896156\ttest: 59926.0765350\tbest: 59926.0765350 (3246)\ttotal: 14m 14s\tremaining: 3m 18s\n3247:\tlearn: 19552.2076632\ttest: 59925.0881304\tbest: 59925.0881304 (3247)\ttotal: 14m 14s\tremaining: 3m 17s\n3248:\tlearn: 19551.4939173\ttest: 59924.5684150\tbest: 59924.5684150 (3248)\ttotal: 14m 14s\tremaining: 3m 17s\n3249:\tlearn: 19546.8035114\ttest: 59923.5600835\tbest: 59923.5600835 (3249)\ttotal: 14m 15s\tremaining: 3m 17s\n3250:\tlearn: 19541.7113797\ttest: 59923.0037688\tbest: 59923.0037688 (3250)\ttotal: 14m 15s\tremaining: 3m 17s\n3251:\tlearn: 19536.7416416\ttest: 59921.4745185\tbest: 59921.4745185 (3251)\ttotal: 14m 15s\tremaining: 3m 16s\n3252:\tlearn: 19532.8736427\ttest: 59920.1834204\tbest: 59920.1834204 (3252)\ttotal: 14m 16s\tremaining: 3m 16s\n3253:\tlearn: 19530.6691237\ttest: 59919.5957380\tbest: 59919.5957380 (3253)\ttotal: 14m 16s\tremaining: 3m 16s\n3254:\tlearn: 19524.4247394\ttest: 59918.9222832\tbest: 59918.9222832 (3254)\ttotal: 14m 16s\tremaining: 3m 16s\n3255:\tlearn: 19520.7819830\ttest: 59918.1281409\tbest: 59918.1281409 (3255)\ttotal: 14m 17s\tremaining: 3m 15s\n3256:\tlearn: 19515.4367883\ttest: 59917.3612724\tbest: 59917.3612724 (3256)\ttotal: 14m 17s\tremaining: 3m 15s\n3257:\tlearn: 19513.3193500\ttest: 59916.1790087\tbest: 59916.1790087 (3257)\ttotal: 14m 18s\tremaining: 3m 15s\n3258:\tlearn: 19509.0650721\ttest: 59913.2227840\tbest: 59913.2227840 (3258)\ttotal: 14m 18s\tremaining: 3m 15s\n3259:\tlearn: 19503.5196374\ttest: 59914.4923909\tbest: 59913.2227840 (3258)\ttotal: 14m 18s\tremaining: 3m 14s\n3260:\tlearn: 19502.7249438\ttest: 59914.7634869\tbest: 59913.2227840 (3258)\ttotal: 14m 19s\tremaining: 3m 14s\n3261:\tlearn: 19499.6316821\ttest: 59912.9701399\tbest: 59912.9701399 (3261)\ttotal: 14m 19s\tremaining: 3m 14s\n3262:\tlearn: 19493.3037882\ttest: 59913.0057107\tbest: 59912.9701399 (3261)\ttotal: 14m 20s\tremaining: 3m 14s\n3263:\tlearn: 19491.7999566\ttest: 59911.1666849\tbest: 59911.1666849 (3263)\ttotal: 14m 20s\tremaining: 3m 14s\n3264:\tlearn: 19487.9743795\ttest: 59911.9883357\tbest: 59911.1666849 (3263)\ttotal: 14m 20s\tremaining: 3m 13s\n3265:\tlearn: 19485.0016301\ttest: 59910.9043714\tbest: 59910.9043714 (3265)\ttotal: 14m 21s\tremaining: 3m 13s\n3266:\tlearn: 19484.7151975\ttest: 59910.7734330\tbest: 59910.7734330 (3266)\ttotal: 14m 21s\tremaining: 3m 13s\n3267:\tlearn: 19481.2567581\ttest: 59911.1335165\tbest: 59910.7734330 (3266)\ttotal: 14m 21s\tremaining: 3m 13s\n3268:\tlearn: 19475.0793688\ttest: 59911.2214896\tbest: 59910.7734330 (3266)\ttotal: 14m 22s\tremaining: 3m 12s\n3269:\tlearn: 19470.1695316\ttest: 59915.3678082\tbest: 59910.7734330 (3266)\ttotal: 14m 22s\tremaining: 3m 12s\n3270:\tlearn: 19468.3167864\ttest: 59914.7258707\tbest: 59910.7734330 (3266)\ttotal: 14m 22s\tremaining: 3m 12s\n3271:\tlearn: 19465.2678458\ttest: 59914.7040645\tbest: 59910.7734330 (3266)\ttotal: 14m 23s\tremaining: 3m 12s\n3272:\tlearn: 19462.2604847\ttest: 59915.8636343\tbest: 59910.7734330 (3266)\ttotal: 14m 23s\tremaining: 3m 11s\n3273:\tlearn: 19457.9349517\ttest: 59914.8303211\tbest: 59910.7734330 (3266)\ttotal: 14m 23s\tremaining: 3m 11s\n3274:\tlearn: 19456.7741852\ttest: 59914.9463391\tbest: 59910.7734330 (3266)\ttotal: 14m 24s\tremaining: 3m 11s\n3275:\tlearn: 19454.2657185\ttest: 59915.5530967\tbest: 59910.7734330 (3266)\ttotal: 14m 24s\tremaining: 3m 11s\n3276:\tlearn: 19452.6598367\ttest: 59915.2689591\tbest: 59910.7734330 (3266)\ttotal: 14m 24s\tremaining: 3m 10s\n3277:\tlearn: 19448.2849712\ttest: 59915.6016753\tbest: 59910.7734330 (3266)\ttotal: 14m 25s\tremaining: 3m 10s\n3278:\tlearn: 19446.1210002\ttest: 59915.7677734\tbest: 59910.7734330 (3266)\ttotal: 14m 25s\tremaining: 3m 10s\n3279:\tlearn: 19444.9636193\ttest: 59916.6975253\tbest: 59910.7734330 (3266)\ttotal: 14m 26s\tremaining: 3m 10s\n3280:\tlearn: 19442.4489084\ttest: 59913.1579895\tbest: 59910.7734330 (3266)\ttotal: 14m 26s\tremaining: 3m 9s\n3281:\tlearn: 19441.6642255\ttest: 59913.3927781\tbest: 59910.7734330 (3266)\ttotal: 14m 26s\tremaining: 3m 9s\n3282:\tlearn: 19440.4691489\ttest: 59913.3785072\tbest: 59910.7734330 (3266)\ttotal: 14m 26s\tremaining: 3m 9s\n3283:\tlearn: 19438.0329074\ttest: 59913.1373342\tbest: 59910.7734330 (3266)\ttotal: 14m 27s\tremaining: 3m 9s\n3284:\tlearn: 19435.3036815\ttest: 59911.6456264\tbest: 59910.7734330 (3266)\ttotal: 14m 27s\tremaining: 3m 8s\n3285:\tlearn: 19431.1004394\ttest: 59912.8494776\tbest: 59910.7734330 (3266)\ttotal: 14m 28s\tremaining: 3m 8s\n3286:\tlearn: 19427.6401248\ttest: 59911.5708746\tbest: 59910.7734330 (3266)\ttotal: 14m 28s\tremaining: 3m 8s\n3287:\tlearn: 19425.8662691\ttest: 59911.1746694\tbest: 59910.7734330 (3266)\ttotal: 14m 28s\tremaining: 3m 8s\n3288:\tlearn: 19415.8963449\ttest: 59910.4756962\tbest: 59910.4756962 (3288)\ttotal: 14m 29s\tremaining: 3m 7s\n3289:\tlearn: 19414.5947820\ttest: 59911.3292714\tbest: 59910.4756962 (3288)\ttotal: 14m 29s\tremaining: 3m 7s\n3290:\tlearn: 19409.9295646\ttest: 59910.6121074\tbest: 59910.4756962 (3288)\ttotal: 14m 30s\tremaining: 3m 7s\n3291:\tlearn: 19406.0535943\ttest: 59908.5977562\tbest: 59908.5977562 (3291)\ttotal: 14m 30s\tremaining: 3m 7s\n3292:\tlearn: 19402.1213045\ttest: 59906.0449299\tbest: 59906.0449299 (3292)\ttotal: 14m 30s\tremaining: 3m 6s\n3293:\tlearn: 19391.1549008\ttest: 59901.4369148\tbest: 59901.4369148 (3293)\ttotal: 14m 30s\tremaining: 3m 6s\n3294:\tlearn: 19384.7332782\ttest: 59901.1230931\tbest: 59901.1230931 (3294)\ttotal: 14m 31s\tremaining: 3m 6s\n3295:\tlearn: 19381.2976000\ttest: 59901.0090805\tbest: 59901.0090805 (3295)\ttotal: 14m 31s\tremaining: 3m 6s\n3296:\tlearn: 19379.0067616\ttest: 59900.5873313\tbest: 59900.5873313 (3296)\ttotal: 14m 31s\tremaining: 3m 5s\n3297:\tlearn: 19376.2518618\ttest: 59901.9083370\tbest: 59900.5873313 (3296)\ttotal: 14m 32s\tremaining: 3m 5s\n3298:\tlearn: 19375.1942646\ttest: 59902.2242279\tbest: 59900.5873313 (3296)\ttotal: 14m 32s\tremaining: 3m 5s\n3299:\tlearn: 19370.9610858\ttest: 59901.6847360\tbest: 59900.5873313 (3296)\ttotal: 14m 33s\tremaining: 3m 5s\n3300:\tlearn: 19368.7158227\ttest: 59901.5916455\tbest: 59900.5873313 (3296)\ttotal: 14m 33s\tremaining: 3m 4s\n3301:\tlearn: 19368.6635842\ttest: 59901.5884811\tbest: 59900.5873313 (3296)\ttotal: 14m 33s\tremaining: 3m 4s\n3302:\tlearn: 19365.7489108\ttest: 59899.9708471\tbest: 59899.9708471 (3302)\ttotal: 14m 33s\tremaining: 3m 4s\n3303:\tlearn: 19363.7232073\ttest: 59899.6828681\tbest: 59899.6828681 (3303)\ttotal: 14m 34s\tremaining: 3m 4s\n3304:\tlearn: 19359.6169258\ttest: 59899.2149682\tbest: 59899.2149682 (3304)\ttotal: 14m 34s\tremaining: 3m 3s\n3305:\tlearn: 19355.3201936\ttest: 59898.8723593\tbest: 59898.8723593 (3305)\ttotal: 14m 34s\tremaining: 3m 3s\n3306:\tlearn: 19352.1076966\ttest: 59900.2385194\tbest: 59898.8723593 (3305)\ttotal: 14m 35s\tremaining: 3m 3s\n3307:\tlearn: 19350.2827885\ttest: 59900.6305617\tbest: 59898.8723593 (3305)\ttotal: 14m 35s\tremaining: 3m 3s\n3308:\tlearn: 19347.6684160\ttest: 59899.9860238\tbest: 59898.8723593 (3305)\ttotal: 14m 35s\tremaining: 3m 2s\n3309:\tlearn: 19344.8605259\ttest: 59900.1005895\tbest: 59898.8723593 (3305)\ttotal: 14m 36s\tremaining: 3m 2s\n3310:\tlearn: 19340.0602014\ttest: 59900.7792828\tbest: 59898.8723593 (3305)\ttotal: 14m 36s\tremaining: 3m 2s\n3311:\tlearn: 19337.0478612\ttest: 59900.2305658\tbest: 59898.8723593 (3305)\ttotal: 14m 36s\tremaining: 3m 2s\n3312:\tlearn: 19332.2076424\ttest: 59900.3734811\tbest: 59898.8723593 (3305)\ttotal: 14m 37s\tremaining: 3m 1s\n3313:\tlearn: 19330.0021568\ttest: 59900.3936735\tbest: 59898.8723593 (3305)\ttotal: 14m 38s\tremaining: 3m 1s\n3314:\tlearn: 19323.0526851\ttest: 59895.5231402\tbest: 59895.5231402 (3314)\ttotal: 14m 38s\tremaining: 3m 1s\n3315:\tlearn: 19319.2154644\ttest: 59892.6121836\tbest: 59892.6121836 (3315)\ttotal: 14m 38s\tremaining: 3m 1s\n3316:\tlearn: 19317.9904985\ttest: 59892.3739678\tbest: 59892.3739678 (3316)\ttotal: 14m 39s\tremaining: 3m 1s\n3317:\tlearn: 19311.8605826\ttest: 59890.1473461\tbest: 59890.1473461 (3317)\ttotal: 14m 39s\tremaining: 3m\n3318:\tlearn: 19307.7516802\ttest: 59891.1728070\tbest: 59890.1473461 (3317)\ttotal: 14m 40s\tremaining: 3m\n3319:\tlearn: 19304.9387103\ttest: 59890.7230038\tbest: 59890.1473461 (3317)\ttotal: 14m 40s\tremaining: 3m\n3320:\tlearn: 19302.6633997\ttest: 59889.0666759\tbest: 59889.0666759 (3320)\ttotal: 14m 40s\tremaining: 3m\n3321:\tlearn: 19298.4669031\ttest: 59888.0136409\tbest: 59888.0136409 (3321)\ttotal: 14m 40s\tremaining: 2m 59s\n3322:\tlearn: 19294.0197304\ttest: 59888.8161440\tbest: 59888.0136409 (3321)\ttotal: 14m 41s\tremaining: 2m 59s\n3323:\tlearn: 19289.5820944\ttest: 59889.7138251\tbest: 59888.0136409 (3321)\ttotal: 14m 41s\tremaining: 2m 59s\n3324:\tlearn: 19284.4064265\ttest: 59890.3401258\tbest: 59888.0136409 (3321)\ttotal: 14m 41s\tremaining: 2m 59s\n3325:\tlearn: 19279.7142668\ttest: 59889.7652509\tbest: 59888.0136409 (3321)\ttotal: 14m 42s\tremaining: 2m 58s\n3326:\tlearn: 19276.9277036\ttest: 59890.7060515\tbest: 59888.0136409 (3321)\ttotal: 14m 42s\tremaining: 2m 58s\n3327:\tlearn: 19276.6996923\ttest: 59890.7717823\tbest: 59888.0136409 (3321)\ttotal: 14m 43s\tremaining: 2m 58s\n3328:\tlearn: 19273.9399726\ttest: 59892.3108040\tbest: 59888.0136409 (3321)\ttotal: 14m 43s\tremaining: 2m 58s\n3329:\tlearn: 19271.7499227\ttest: 59892.8600174\tbest: 59888.0136409 (3321)\ttotal: 14m 43s\tremaining: 2m 57s\n3330:\tlearn: 19270.1150088\ttest: 59891.9082726\tbest: 59888.0136409 (3321)\ttotal: 14m 44s\tremaining: 2m 57s\n3331:\tlearn: 19268.5025009\ttest: 59892.0440852\tbest: 59888.0136409 (3321)\ttotal: 14m 44s\tremaining: 2m 57s\n3332:\tlearn: 19264.3324376\ttest: 59892.9021949\tbest: 59888.0136409 (3321)\ttotal: 14m 44s\tremaining: 2m 57s\n3333:\tlearn: 19262.6887391\ttest: 59892.2519739\tbest: 59888.0136409 (3321)\ttotal: 14m 45s\tremaining: 2m 56s\n3334:\tlearn: 19261.5996105\ttest: 59892.3001033\tbest: 59888.0136409 (3321)\ttotal: 14m 46s\tremaining: 2m 56s\n3335:\tlearn: 19252.6161915\ttest: 59895.4770003\tbest: 59888.0136409 (3321)\ttotal: 14m 46s\tremaining: 2m 56s\n3336:\tlearn: 19252.0321386\ttest: 59895.6282453\tbest: 59888.0136409 (3321)\ttotal: 14m 46s\tremaining: 2m 56s\n3337:\tlearn: 19250.1243155\ttest: 59895.9294939\tbest: 59888.0136409 (3321)\ttotal: 14m 47s\tremaining: 2m 55s\n3338:\tlearn: 19248.3385846\ttest: 59896.7494856\tbest: 59888.0136409 (3321)\ttotal: 14m 47s\tremaining: 2m 55s\n3339:\tlearn: 19245.1097768\ttest: 59895.7690508\tbest: 59888.0136409 (3321)\ttotal: 14m 47s\tremaining: 2m 55s\n3340:\tlearn: 19240.7102836\ttest: 59894.7617955\tbest: 59888.0136409 (3321)\ttotal: 14m 48s\tremaining: 2m 55s\n3341:\tlearn: 19236.2953016\ttest: 59895.8668190\tbest: 59888.0136409 (3321)\ttotal: 14m 48s\tremaining: 2m 54s\n3342:\tlearn: 19233.3212996\ttest: 59897.1337643\tbest: 59888.0136409 (3321)\ttotal: 14m 49s\tremaining: 2m 54s\n3343:\tlearn: 19232.3467598\ttest: 59896.3071618\tbest: 59888.0136409 (3321)\ttotal: 14m 49s\tremaining: 2m 54s\n3344:\tlearn: 19229.4834962\ttest: 59897.7847420\tbest: 59888.0136409 (3321)\ttotal: 14m 50s\tremaining: 2m 54s\n3345:\tlearn: 19229.2034784\ttest: 59897.3569065\tbest: 59888.0136409 (3321)\ttotal: 14m 50s\tremaining: 2m 54s\n3346:\tlearn: 19226.3722886\ttest: 59895.6995847\tbest: 59888.0136409 (3321)\ttotal: 14m 50s\tremaining: 2m 53s\n3347:\tlearn: 19222.9791596\ttest: 59893.3728020\tbest: 59888.0136409 (3321)\ttotal: 14m 51s\tremaining: 2m 53s\n3348:\tlearn: 19216.3117562\ttest: 59891.1121929\tbest: 59888.0136409 (3321)\ttotal: 14m 51s\tremaining: 2m 53s\n3349:\tlearn: 19215.4918265\ttest: 59891.0193241\tbest: 59888.0136409 (3321)\ttotal: 14m 51s\tremaining: 2m 53s\n3350:\tlearn: 19212.8406666\ttest: 59891.2219214\tbest: 59888.0136409 (3321)\ttotal: 14m 52s\tremaining: 2m 52s\n3351:\tlearn: 19211.3707750\ttest: 59891.4018981\tbest: 59888.0136409 (3321)\ttotal: 14m 52s\tremaining: 2m 52s\n3352:\tlearn: 19206.7875133\ttest: 59891.3848170\tbest: 59888.0136409 (3321)\ttotal: 14m 53s\tremaining: 2m 52s\n3353:\tlearn: 19204.8525080\ttest: 59892.8037637\tbest: 59888.0136409 (3321)\ttotal: 14m 53s\tremaining: 2m 52s\n3354:\tlearn: 19200.5136223\ttest: 59893.1651361\tbest: 59888.0136409 (3321)\ttotal: 14m 53s\tremaining: 2m 51s\n3355:\tlearn: 19195.1423147\ttest: 59892.2779766\tbest: 59888.0136409 (3321)\ttotal: 14m 54s\tremaining: 2m 51s\n3356:\tlearn: 19194.3003083\ttest: 59892.3314556\tbest: 59888.0136409 (3321)\ttotal: 14m 54s\tremaining: 2m 51s\n3357:\tlearn: 19187.8738398\ttest: 59894.4419474\tbest: 59888.0136409 (3321)\ttotal: 14m 54s\tremaining: 2m 51s\n3358:\tlearn: 19186.9894181\ttest: 59894.4193879\tbest: 59888.0136409 (3321)\ttotal: 14m 55s\tremaining: 2m 50s\n3359:\tlearn: 19182.1223455\ttest: 59894.2814258\tbest: 59888.0136409 (3321)\ttotal: 14m 55s\tremaining: 2m 50s\n3360:\tlearn: 19179.2874145\ttest: 59895.5925064\tbest: 59888.0136409 (3321)\ttotal: 14m 55s\tremaining: 2m 50s\n3361:\tlearn: 19175.3961014\ttest: 59896.1520544\tbest: 59888.0136409 (3321)\ttotal: 14m 56s\tremaining: 2m 50s\n3362:\tlearn: 19171.2243712\ttest: 59892.2104735\tbest: 59888.0136409 (3321)\ttotal: 14m 56s\tremaining: 2m 49s\n3363:\tlearn: 19169.6001864\ttest: 59893.1878429\tbest: 59888.0136409 (3321)\ttotal: 14m 56s\tremaining: 2m 49s\n3364:\tlearn: 19167.6021130\ttest: 59892.9751237\tbest: 59888.0136409 (3321)\ttotal: 14m 57s\tremaining: 2m 49s\n3365:\tlearn: 19160.1980702\ttest: 59893.2316695\tbest: 59888.0136409 (3321)\ttotal: 14m 57s\tremaining: 2m 49s\n3366:\tlearn: 19154.1648477\ttest: 59891.0254082\tbest: 59888.0136409 (3321)\ttotal: 14m 58s\tremaining: 2m 48s\n3367:\tlearn: 19152.4924745\ttest: 59890.7692320\tbest: 59888.0136409 (3321)\ttotal: 14m 58s\tremaining: 2m 48s\n3368:\tlearn: 19146.3721032\ttest: 59889.6808579\tbest: 59888.0136409 (3321)\ttotal: 14m 59s\tremaining: 2m 48s\n3369:\tlearn: 19137.5316685\ttest: 59889.5592266\tbest: 59888.0136409 (3321)\ttotal: 15m\tremaining: 2m 48s\n3370:\tlearn: 19133.5380072\ttest: 59889.2403303\tbest: 59888.0136409 (3321)\ttotal: 15m\tremaining: 2m 48s\n3371:\tlearn: 19130.0963213\ttest: 59889.5310045\tbest: 59888.0136409 (3321)\ttotal: 15m 1s\tremaining: 2m 47s\n3372:\tlearn: 19125.0458982\ttest: 59888.6833000\tbest: 59888.0136409 (3321)\ttotal: 15m 2s\tremaining: 2m 47s\n3373:\tlearn: 19124.1907109\ttest: 59889.1996153\tbest: 59888.0136409 (3321)\ttotal: 15m 2s\tremaining: 2m 47s\n3374:\tlearn: 19122.2637447\ttest: 59889.0084911\tbest: 59888.0136409 (3321)\ttotal: 15m 2s\tremaining: 2m 47s\n3375:\tlearn: 19120.4755622\ttest: 59889.4216054\tbest: 59888.0136409 (3321)\ttotal: 15m 3s\tremaining: 2m 46s\n3376:\tlearn: 19118.2907365\ttest: 59889.3786710\tbest: 59888.0136409 (3321)\ttotal: 15m 3s\tremaining: 2m 46s\n3377:\tlearn: 19117.3844770\ttest: 59888.7856498\tbest: 59888.0136409 (3321)\ttotal: 15m 3s\tremaining: 2m 46s\n3378:\tlearn: 19113.2189687\ttest: 59887.1831536\tbest: 59887.1831536 (3378)\ttotal: 15m 4s\tremaining: 2m 46s\n3379:\tlearn: 19107.1634509\ttest: 59887.9788624\tbest: 59887.1831536 (3378)\ttotal: 15m 4s\tremaining: 2m 45s\n3380:\tlearn: 19103.5528725\ttest: 59883.0982502\tbest: 59883.0982502 (3380)\ttotal: 15m 4s\tremaining: 2m 45s\n3381:\tlearn: 19099.8696550\ttest: 59880.4088213\tbest: 59880.4088213 (3381)\ttotal: 15m 5s\tremaining: 2m 45s\n3382:\tlearn: 19098.2959460\ttest: 59883.1560048\tbest: 59880.4088213 (3381)\ttotal: 15m 5s\tremaining: 2m 45s\n3383:\tlearn: 19094.6393240\ttest: 59883.9316237\tbest: 59880.4088213 (3381)\ttotal: 15m 5s\tremaining: 2m 44s\n3384:\tlearn: 19087.8756614\ttest: 59883.3293407\tbest: 59880.4088213 (3381)\ttotal: 15m 6s\tremaining: 2m 44s\n3385:\tlearn: 19085.9302678\ttest: 59883.2560514\tbest: 59880.4088213 (3381)\ttotal: 15m 6s\tremaining: 2m 44s\n3386:\tlearn: 19085.3820663\ttest: 59882.8217013\tbest: 59880.4088213 (3381)\ttotal: 15m 6s\tremaining: 2m 44s\n3387:\tlearn: 19081.2710130\ttest: 59885.8274721\tbest: 59880.4088213 (3381)\ttotal: 15m 7s\tremaining: 2m 43s\n3388:\tlearn: 19077.7388672\ttest: 59884.6407873\tbest: 59880.4088213 (3381)\ttotal: 15m 7s\tremaining: 2m 43s\n3389:\tlearn: 19068.7233979\ttest: 59882.4932158\tbest: 59880.4088213 (3381)\ttotal: 15m 8s\tremaining: 2m 43s\n3390:\tlearn: 19064.7871714\ttest: 59883.4696467\tbest: 59880.4088213 (3381)\ttotal: 15m 8s\tremaining: 2m 43s\n3391:\tlearn: 19057.6578486\ttest: 59881.5234018\tbest: 59880.4088213 (3381)\ttotal: 15m 9s\tremaining: 2m 42s\n3392:\tlearn: 19056.3412940\ttest: 59881.7009558\tbest: 59880.4088213 (3381)\ttotal: 15m 9s\tremaining: 2m 42s\n3393:\tlearn: 19049.0296594\ttest: 59880.5208257\tbest: 59880.4088213 (3381)\ttotal: 15m 10s\tremaining: 2m 42s\n3394:\tlearn: 19046.2312359\ttest: 59878.5814454\tbest: 59878.5814454 (3394)\ttotal: 15m 10s\tremaining: 2m 42s\n3395:\tlearn: 19042.9828358\ttest: 59878.2870574\tbest: 59878.2870574 (3395)\ttotal: 15m 10s\tremaining: 2m 42s\n3396:\tlearn: 19040.1922512\ttest: 59878.4935857\tbest: 59878.2870574 (3395)\ttotal: 15m 11s\tremaining: 2m 41s\n3397:\tlearn: 19035.4962423\ttest: 59876.5673285\tbest: 59876.5673285 (3397)\ttotal: 15m 11s\tremaining: 2m 41s\n3398:\tlearn: 19028.9221976\ttest: 59875.9355609\tbest: 59875.9355609 (3398)\ttotal: 15m 12s\tremaining: 2m 41s\n3399:\tlearn: 19026.8461225\ttest: 59875.9538136\tbest: 59875.9355609 (3398)\ttotal: 15m 12s\tremaining: 2m 41s\n3400:\tlearn: 19025.7362299\ttest: 59875.9114223\tbest: 59875.9114223 (3400)\ttotal: 15m 13s\tremaining: 2m 40s\n3401:\tlearn: 19018.9676174\ttest: 59878.2064665\tbest: 59875.9114223 (3400)\ttotal: 15m 13s\tremaining: 2m 40s\n3402:\tlearn: 19016.5155728\ttest: 59878.1032140\tbest: 59875.9114223 (3400)\ttotal: 15m 14s\tremaining: 2m 40s\n3403:\tlearn: 19008.6887337\ttest: 59877.9592044\tbest: 59875.9114223 (3400)\ttotal: 15m 14s\tremaining: 2m 40s\n3404:\tlearn: 19004.9945206\ttest: 59878.2808490\tbest: 59875.9114223 (3400)\ttotal: 15m 15s\tremaining: 2m 39s\n3405:\tlearn: 19001.4763001\ttest: 59881.5159989\tbest: 59875.9114223 (3400)\ttotal: 15m 15s\tremaining: 2m 39s\n3406:\tlearn: 18996.5295585\ttest: 59878.0448491\tbest: 59875.9114223 (3400)\ttotal: 15m 15s\tremaining: 2m 39s\n3407:\tlearn: 18990.1976493\ttest: 59879.5965217\tbest: 59875.9114223 (3400)\ttotal: 15m 16s\tremaining: 2m 39s\n3408:\tlearn: 18987.0220781\ttest: 59877.0866175\tbest: 59875.9114223 (3400)\ttotal: 15m 16s\tremaining: 2m 38s\n3409:\tlearn: 18986.1407114\ttest: 59875.9836346\tbest: 59875.9114223 (3400)\ttotal: 15m 16s\tremaining: 2m 38s\n3410:\tlearn: 18979.0977839\ttest: 59875.2201585\tbest: 59875.2201585 (3410)\ttotal: 15m 17s\tremaining: 2m 38s\n3411:\tlearn: 18976.7655022\ttest: 59875.2202590\tbest: 59875.2201585 (3410)\ttotal: 15m 18s\tremaining: 2m 38s\n3412:\tlearn: 18974.1053542\ttest: 59876.0202453\tbest: 59875.2201585 (3410)\ttotal: 15m 18s\tremaining: 2m 37s\n3413:\tlearn: 18972.9620506\ttest: 59875.7368582\tbest: 59875.2201585 (3410)\ttotal: 15m 18s\tremaining: 2m 37s\n3414:\tlearn: 18970.7450704\ttest: 59874.7298499\tbest: 59874.7298499 (3414)\ttotal: 15m 19s\tremaining: 2m 37s\n3415:\tlearn: 18965.2140306\ttest: 59879.3787930\tbest: 59874.7298499 (3414)\ttotal: 15m 20s\tremaining: 2m 37s\n3416:\tlearn: 18962.8376744\ttest: 59880.2101987\tbest: 59874.7298499 (3414)\ttotal: 15m 20s\tremaining: 2m 37s\n3417:\tlearn: 18955.8646609\ttest: 59878.2689204\tbest: 59874.7298499 (3414)\ttotal: 15m 20s\tremaining: 2m 36s\n3418:\tlearn: 18955.1765543\ttest: 59878.1126482\tbest: 59874.7298499 (3414)\ttotal: 15m 20s\tremaining: 2m 36s\n3419:\tlearn: 18947.2245220\ttest: 59876.4957364\tbest: 59874.7298499 (3414)\ttotal: 15m 21s\tremaining: 2m 36s\n3420:\tlearn: 18943.7589089\ttest: 59875.6139668\tbest: 59874.7298499 (3414)\ttotal: 15m 21s\tremaining: 2m 36s\n3421:\tlearn: 18937.5429131\ttest: 59870.0183178\tbest: 59870.0183178 (3421)\ttotal: 15m 22s\tremaining: 2m 35s\n3422:\tlearn: 18936.4891248\ttest: 59869.4626257\tbest: 59869.4626257 (3422)\ttotal: 15m 22s\tremaining: 2m 35s\n3423:\tlearn: 18933.1319450\ttest: 59869.3255518\tbest: 59869.3255518 (3423)\ttotal: 15m 22s\tremaining: 2m 35s\n3424:\tlearn: 18930.6750243\ttest: 59868.3421254\tbest: 59868.3421254 (3424)\ttotal: 15m 23s\tremaining: 2m 34s\n3425:\tlearn: 18929.4760454\ttest: 59867.6766719\tbest: 59867.6766719 (3425)\ttotal: 15m 23s\tremaining: 2m 34s\n3426:\tlearn: 18923.3679692\ttest: 59866.7368217\tbest: 59866.7368217 (3426)\ttotal: 15m 23s\tremaining: 2m 34s\n3427:\tlearn: 18919.8841834\ttest: 59866.2522194\tbest: 59866.2522194 (3427)\ttotal: 15m 24s\tremaining: 2m 34s\n3428:\tlearn: 18916.4187474\ttest: 59863.2687591\tbest: 59863.2687591 (3428)\ttotal: 15m 24s\tremaining: 2m 33s\n3429:\tlearn: 18913.4289217\ttest: 59863.3828498\tbest: 59863.2687591 (3428)\ttotal: 15m 24s\tremaining: 2m 33s\n3430:\tlearn: 18911.5623745\ttest: 59864.1859221\tbest: 59863.2687591 (3428)\ttotal: 15m 25s\tremaining: 2m 33s\n3431:\tlearn: 18909.2088438\ttest: 59864.0079196\tbest: 59863.2687591 (3428)\ttotal: 15m 25s\tremaining: 2m 33s\n3432:\tlearn: 18906.6829603\ttest: 59863.8492138\tbest: 59863.2687591 (3428)\ttotal: 15m 25s\tremaining: 2m 32s\n3433:\tlearn: 18901.4972651\ttest: 59868.2181343\tbest: 59863.2687591 (3428)\ttotal: 15m 26s\tremaining: 2m 32s\n3434:\tlearn: 18900.3571473\ttest: 59867.3386295\tbest: 59863.2687591 (3428)\ttotal: 15m 26s\tremaining: 2m 32s\n3435:\tlearn: 18899.1901883\ttest: 59866.8056878\tbest: 59863.2687591 (3428)\ttotal: 15m 27s\tremaining: 2m 32s\n3436:\tlearn: 18898.0433789\ttest: 59867.3155390\tbest: 59863.2687591 (3428)\ttotal: 15m 27s\tremaining: 2m 31s\n3437:\tlearn: 18896.3343817\ttest: 59866.1291423\tbest: 59863.2687591 (3428)\ttotal: 15m 27s\tremaining: 2m 31s\n3438:\tlearn: 18894.5872063\ttest: 59865.3271339\tbest: 59863.2687591 (3428)\ttotal: 15m 27s\tremaining: 2m 31s\n3439:\tlearn: 18885.1025264\ttest: 59864.6436777\tbest: 59863.2687591 (3428)\ttotal: 15m 28s\tremaining: 2m 31s\n3440:\tlearn: 18880.6426283\ttest: 59865.2794961\tbest: 59863.2687591 (3428)\ttotal: 15m 28s\tremaining: 2m 30s\n3441:\tlearn: 18879.4328202\ttest: 59865.1584508\tbest: 59863.2687591 (3428)\ttotal: 15m 29s\tremaining: 2m 30s\n3442:\tlearn: 18876.5510079\ttest: 59863.3505482\tbest: 59863.2687591 (3428)\ttotal: 15m 29s\tremaining: 2m 30s\n3443:\tlearn: 18872.4889097\ttest: 59867.8578179\tbest: 59863.2687591 (3428)\ttotal: 15m 29s\tremaining: 2m 30s\n3444:\tlearn: 18871.5139253\ttest: 59867.7553075\tbest: 59863.2687591 (3428)\ttotal: 15m 29s\tremaining: 2m 29s\n3445:\tlearn: 18868.0584860\ttest: 59866.6683401\tbest: 59863.2687591 (3428)\ttotal: 15m 30s\tremaining: 2m 29s\n3446:\tlearn: 18858.6958195\ttest: 59867.3494259\tbest: 59863.2687591 (3428)\ttotal: 15m 30s\tremaining: 2m 29s\n3447:\tlearn: 18851.6784033\ttest: 59869.8999516\tbest: 59863.2687591 (3428)\ttotal: 15m 31s\tremaining: 2m 29s\n3448:\tlearn: 18849.7900235\ttest: 59870.3776010\tbest: 59863.2687591 (3428)\ttotal: 15m 31s\tremaining: 2m 28s\n3449:\tlearn: 18847.7618758\ttest: 59871.8456667\tbest: 59863.2687591 (3428)\ttotal: 15m 31s\tremaining: 2m 28s\n3450:\tlearn: 18844.5574138\ttest: 59871.2537850\tbest: 59863.2687591 (3428)\ttotal: 15m 32s\tremaining: 2m 28s\n3451:\tlearn: 18843.3922259\ttest: 59870.7645928\tbest: 59863.2687591 (3428)\ttotal: 15m 32s\tremaining: 2m 28s\n3452:\tlearn: 18841.7149018\ttest: 59870.6908239\tbest: 59863.2687591 (3428)\ttotal: 15m 32s\tremaining: 2m 27s\n3453:\tlearn: 18837.7815814\ttest: 59869.4258631\tbest: 59863.2687591 (3428)\ttotal: 15m 33s\tremaining: 2m 27s\n3454:\tlearn: 18834.6662545\ttest: 59870.3772165\tbest: 59863.2687591 (3428)\ttotal: 15m 33s\tremaining: 2m 27s\n3455:\tlearn: 18829.9450150\ttest: 59869.4301890\tbest: 59863.2687591 (3428)\ttotal: 15m 34s\tremaining: 2m 27s\n3456:\tlearn: 18829.1225638\ttest: 59869.7322871\tbest: 59863.2687591 (3428)\ttotal: 15m 34s\tremaining: 2m 26s\n3457:\tlearn: 18826.3453638\ttest: 59870.3019149\tbest: 59863.2687591 (3428)\ttotal: 15m 34s\tremaining: 2m 26s\n3458:\tlearn: 18823.6043673\ttest: 59868.6310060\tbest: 59863.2687591 (3428)\ttotal: 15m 35s\tremaining: 2m 26s\n3459:\tlearn: 18816.0800991\ttest: 59867.6310975\tbest: 59863.2687591 (3428)\ttotal: 15m 35s\tremaining: 2m 26s\n3460:\tlearn: 18808.5255754\ttest: 59868.6358376\tbest: 59863.2687591 (3428)\ttotal: 15m 36s\tremaining: 2m 25s\n3461:\tlearn: 18806.5946732\ttest: 59870.6207281\tbest: 59863.2687591 (3428)\ttotal: 15m 36s\tremaining: 2m 25s\n3462:\tlearn: 18800.8758786\ttest: 59871.8120193\tbest: 59863.2687591 (3428)\ttotal: 15m 36s\tremaining: 2m 25s\n3463:\tlearn: 18799.3216958\ttest: 59870.9949311\tbest: 59863.2687591 (3428)\ttotal: 15m 37s\tremaining: 2m 24s\n3464:\tlearn: 18794.8852934\ttest: 59869.8585927\tbest: 59863.2687591 (3428)\ttotal: 15m 37s\tremaining: 2m 24s\n3465:\tlearn: 18790.8979729\ttest: 59868.2137545\tbest: 59863.2687591 (3428)\ttotal: 15m 38s\tremaining: 2m 24s\n3466:\tlearn: 18786.6062009\ttest: 59869.5269322\tbest: 59863.2687591 (3428)\ttotal: 15m 38s\tremaining: 2m 24s\n3467:\tlearn: 18781.2013001\ttest: 59871.4495322\tbest: 59863.2687591 (3428)\ttotal: 15m 39s\tremaining: 2m 24s\n3468:\tlearn: 18775.0271499\ttest: 59870.3921311\tbest: 59863.2687591 (3428)\ttotal: 15m 39s\tremaining: 2m 23s\n3469:\tlearn: 18772.7748993\ttest: 59869.5438871\tbest: 59863.2687591 (3428)\ttotal: 15m 39s\tremaining: 2m 23s\n3470:\tlearn: 18764.9240411\ttest: 59870.9237715\tbest: 59863.2687591 (3428)\ttotal: 15m 40s\tremaining: 2m 23s\n3471:\tlearn: 18761.5556089\ttest: 59870.9477957\tbest: 59863.2687591 (3428)\ttotal: 15m 40s\tremaining: 2m 23s\n3472:\tlearn: 18758.2420836\ttest: 59871.2136045\tbest: 59863.2687591 (3428)\ttotal: 15m 41s\tremaining: 2m 22s\n3473:\tlearn: 18755.2424450\ttest: 59870.5965914\tbest: 59863.2687591 (3428)\ttotal: 15m 41s\tremaining: 2m 22s\n3474:\tlearn: 18750.5461130\ttest: 59870.3109276\tbest: 59863.2687591 (3428)\ttotal: 15m 41s\tremaining: 2m 22s\n3475:\tlearn: 18748.0465886\ttest: 59870.3764598\tbest: 59863.2687591 (3428)\ttotal: 15m 42s\tremaining: 2m 22s\n3476:\tlearn: 18745.8402661\ttest: 59869.9985096\tbest: 59863.2687591 (3428)\ttotal: 15m 42s\tremaining: 2m 21s\n3477:\tlearn: 18738.8030849\ttest: 59868.4390440\tbest: 59863.2687591 (3428)\ttotal: 15m 43s\tremaining: 2m 21s\n3478:\tlearn: 18737.4769120\ttest: 59868.2794219\tbest: 59863.2687591 (3428)\ttotal: 15m 43s\tremaining: 2m 21s\n3479:\tlearn: 18736.2737296\ttest: 59868.1074712\tbest: 59863.2687591 (3428)\ttotal: 15m 44s\tremaining: 2m 21s\n3480:\tlearn: 18733.9615503\ttest: 59868.5308382\tbest: 59863.2687591 (3428)\ttotal: 15m 44s\tremaining: 2m 20s\n3481:\tlearn: 18731.4264475\ttest: 59868.3666980\tbest: 59863.2687591 (3428)\ttotal: 15m 45s\tremaining: 2m 20s\n3482:\tlearn: 18728.4783234\ttest: 59866.8572609\tbest: 59863.2687591 (3428)\ttotal: 15m 46s\tremaining: 2m 20s\n3483:\tlearn: 18724.1193720\ttest: 59868.3667492\tbest: 59863.2687591 (3428)\ttotal: 15m 46s\tremaining: 2m 20s\n3484:\tlearn: 18719.4897207\ttest: 59865.6652135\tbest: 59863.2687591 (3428)\ttotal: 15m 47s\tremaining: 2m 19s\n3485:\tlearn: 18718.2562088\ttest: 59867.1731483\tbest: 59863.2687591 (3428)\ttotal: 15m 47s\tremaining: 2m 19s\n3486:\tlearn: 18716.0871487\ttest: 59866.5850702\tbest: 59863.2687591 (3428)\ttotal: 15m 47s\tremaining: 2m 19s\n3487:\tlearn: 18713.9716718\ttest: 59866.2830221\tbest: 59863.2687591 (3428)\ttotal: 15m 48s\tremaining: 2m 19s\n3488:\tlearn: 18710.1828797\ttest: 59867.5796392\tbest: 59863.2687591 (3428)\ttotal: 15m 48s\tremaining: 2m 18s\n3489:\tlearn: 18708.8367924\ttest: 59868.2251022\tbest: 59863.2687591 (3428)\ttotal: 15m 49s\tremaining: 2m 18s\n3490:\tlearn: 18706.6463692\ttest: 59867.1642782\tbest: 59863.2687591 (3428)\ttotal: 15m 49s\tremaining: 2m 18s\n3491:\tlearn: 18699.8984509\ttest: 59866.3608971\tbest: 59863.2687591 (3428)\ttotal: 15m 49s\tremaining: 2m 18s\n3492:\tlearn: 18695.5441616\ttest: 59865.5872084\tbest: 59863.2687591 (3428)\ttotal: 15m 49s\tremaining: 2m 17s\n3493:\tlearn: 18689.1000200\ttest: 59863.2336971\tbest: 59863.2336971 (3493)\ttotal: 15m 50s\tremaining: 2m 17s\n3494:\tlearn: 18685.3815551\ttest: 59862.2478364\tbest: 59862.2478364 (3494)\ttotal: 15m 50s\tremaining: 2m 17s\n3495:\tlearn: 18682.5944641\ttest: 59861.1466471\tbest: 59861.1466471 (3495)\ttotal: 15m 51s\tremaining: 2m 17s\n3496:\tlearn: 18680.8475828\ttest: 59861.6451965\tbest: 59861.1466471 (3495)\ttotal: 15m 51s\tremaining: 2m 16s\n3497:\tlearn: 18677.1493441\ttest: 59862.1501631\tbest: 59861.1466471 (3495)\ttotal: 15m 52s\tremaining: 2m 16s\n3498:\tlearn: 18676.6785757\ttest: 59862.2999957\tbest: 59861.1466471 (3495)\ttotal: 15m 52s\tremaining: 2m 16s\n3499:\tlearn: 18669.2558180\ttest: 59861.4082901\tbest: 59861.1466471 (3495)\ttotal: 15m 52s\tremaining: 2m 16s\n3500:\tlearn: 18663.1709939\ttest: 59858.1413298\tbest: 59858.1413298 (3500)\ttotal: 15m 53s\tremaining: 2m 15s\n3501:\tlearn: 18659.1952075\ttest: 59857.9503850\tbest: 59857.9503850 (3501)\ttotal: 15m 53s\tremaining: 2m 15s\n3502:\tlearn: 18655.5332027\ttest: 59855.9031399\tbest: 59855.9031399 (3502)\ttotal: 15m 54s\tremaining: 2m 15s\n3503:\tlearn: 18651.2276607\ttest: 59857.4683553\tbest: 59855.9031399 (3502)\ttotal: 15m 54s\tremaining: 2m 15s\n3504:\tlearn: 18647.2101417\ttest: 59856.9612837\tbest: 59855.9031399 (3502)\ttotal: 15m 55s\tremaining: 2m 14s\n3505:\tlearn: 18644.6418349\ttest: 59857.9594163\tbest: 59855.9031399 (3502)\ttotal: 15m 56s\tremaining: 2m 14s\n3506:\tlearn: 18641.8761836\ttest: 59859.5963254\tbest: 59855.9031399 (3502)\ttotal: 15m 56s\tremaining: 2m 14s\n3507:\tlearn: 18637.9333050\ttest: 59861.3377430\tbest: 59855.9031399 (3502)\ttotal: 15m 56s\tremaining: 2m 14s\n3508:\tlearn: 18632.3879193\ttest: 59862.4210123\tbest: 59855.9031399 (3502)\ttotal: 15m 57s\tremaining: 2m 13s\n3509:\tlearn: 18629.4654524\ttest: 59861.9989345\tbest: 59855.9031399 (3502)\ttotal: 15m 57s\tremaining: 2m 13s\n3510:\tlearn: 18623.6462974\ttest: 59860.4111545\tbest: 59855.9031399 (3502)\ttotal: 15m 58s\tremaining: 2m 13s\n3511:\tlearn: 18617.0446403\ttest: 59855.4194162\tbest: 59855.4194162 (3511)\ttotal: 15m 58s\tremaining: 2m 13s\n3512:\tlearn: 18614.6909248\ttest: 59854.8518434\tbest: 59854.8518434 (3512)\ttotal: 15m 59s\tremaining: 2m 12s\n3513:\tlearn: 18611.7297821\ttest: 59853.9776613\tbest: 59853.9776613 (3513)\ttotal: 15m 59s\tremaining: 2m 12s\n3514:\tlearn: 18609.1805508\ttest: 59853.8929737\tbest: 59853.8929737 (3514)\ttotal: 16m\tremaining: 2m 12s\n3515:\tlearn: 18602.4211155\ttest: 59851.0651910\tbest: 59851.0651910 (3515)\ttotal: 16m\tremaining: 2m 12s\n3516:\tlearn: 18599.8026845\ttest: 59849.8025057\tbest: 59849.8025057 (3516)\ttotal: 16m 1s\tremaining: 2m 11s\n3517:\tlearn: 18592.3019465\ttest: 59848.4473239\tbest: 59848.4473239 (3517)\ttotal: 16m 1s\tremaining: 2m 11s\n3518:\tlearn: 18585.9696883\ttest: 59846.0850541\tbest: 59846.0850541 (3518)\ttotal: 16m 1s\tremaining: 2m 11s\n3519:\tlearn: 18580.4525109\ttest: 59844.2106072\tbest: 59844.2106072 (3519)\ttotal: 16m 1s\tremaining: 2m 11s\n3520:\tlearn: 18572.2845455\ttest: 59843.5665545\tbest: 59843.5665545 (3520)\ttotal: 16m 2s\tremaining: 2m 10s\n3521:\tlearn: 18566.9773747\ttest: 59844.4986195\tbest: 59843.5665545 (3520)\ttotal: 16m 3s\tremaining: 2m 10s\n3522:\tlearn: 18565.0557845\ttest: 59843.9834946\tbest: 59843.5665545 (3520)\ttotal: 16m 3s\tremaining: 2m 10s\n3523:\tlearn: 18562.6141842\ttest: 59843.5283412\tbest: 59843.5283412 (3523)\ttotal: 16m 3s\tremaining: 2m 10s\n3524:\tlearn: 18559.0686848\ttest: 59840.5040758\tbest: 59840.5040758 (3524)\ttotal: 16m 3s\tremaining: 2m 9s\n3525:\tlearn: 18556.3206095\ttest: 59839.2439555\tbest: 59839.2439555 (3525)\ttotal: 16m 4s\tremaining: 2m 9s\n3526:\tlearn: 18552.9381793\ttest: 59840.8897307\tbest: 59839.2439555 (3525)\ttotal: 16m 4s\tremaining: 2m 9s\n3527:\tlearn: 18544.5393283\ttest: 59837.3349164\tbest: 59837.3349164 (3527)\ttotal: 16m 5s\tremaining: 2m 9s\n3528:\tlearn: 18542.1901227\ttest: 59837.5823088\tbest: 59837.3349164 (3527)\ttotal: 16m 5s\tremaining: 2m 8s\n3529:\tlearn: 18538.5533043\ttest: 59837.0875287\tbest: 59837.0875287 (3529)\ttotal: 16m 5s\tremaining: 2m 8s\n3530:\tlearn: 18536.2866370\ttest: 59836.7145712\tbest: 59836.7145712 (3530)\ttotal: 16m 6s\tremaining: 2m 8s\n3531:\tlearn: 18533.9593585\ttest: 59836.6534547\tbest: 59836.6534547 (3531)\ttotal: 16m 6s\tremaining: 2m 8s\n3532:\tlearn: 18531.1357812\ttest: 59836.5603541\tbest: 59836.5603541 (3532)\ttotal: 16m 6s\tremaining: 2m 7s\n3533:\tlearn: 18528.0218768\ttest: 59836.4607414\tbest: 59836.4607414 (3533)\ttotal: 16m 7s\tremaining: 2m 7s\n3534:\tlearn: 18521.9414199\ttest: 59836.8585561\tbest: 59836.4607414 (3533)\ttotal: 16m 7s\tremaining: 2m 7s\n3535:\tlearn: 18514.1809332\ttest: 59835.9526243\tbest: 59835.9526243 (3535)\ttotal: 16m 7s\tremaining: 2m 7s\n3536:\tlearn: 18511.8728550\ttest: 59836.1264625\tbest: 59835.9526243 (3535)\ttotal: 16m 8s\tremaining: 2m 6s\n3537:\tlearn: 18507.1748382\ttest: 59835.6070416\tbest: 59835.6070416 (3537)\ttotal: 16m 8s\tremaining: 2m 6s\n3538:\tlearn: 18502.7882731\ttest: 59837.1701323\tbest: 59835.6070416 (3537)\ttotal: 16m 8s\tremaining: 2m 6s\n3539:\tlearn: 18501.0464801\ttest: 59837.0769111\tbest: 59835.6070416 (3537)\ttotal: 16m 9s\tremaining: 2m 5s\n3540:\tlearn: 18496.3147843\ttest: 59834.9041698\tbest: 59834.9041698 (3540)\ttotal: 16m 9s\tremaining: 2m 5s\n3541:\tlearn: 18488.8974667\ttest: 59827.8988013\tbest: 59827.8988013 (3541)\ttotal: 16m 10s\tremaining: 2m 5s\n3542:\tlearn: 18483.2855275\ttest: 59823.6424594\tbest: 59823.6424594 (3542)\ttotal: 16m 10s\tremaining: 2m 5s\n3543:\tlearn: 18480.7696507\ttest: 59820.9945226\tbest: 59820.9945226 (3543)\ttotal: 16m 10s\tremaining: 2m 4s\n3544:\tlearn: 18478.8496803\ttest: 59821.2260317\tbest: 59820.9945226 (3543)\ttotal: 16m 11s\tremaining: 2m 4s\n3545:\tlearn: 18477.8410469\ttest: 59822.1715756\tbest: 59820.9945226 (3543)\ttotal: 16m 11s\tremaining: 2m 4s\n3546:\tlearn: 18476.2661744\ttest: 59821.8740362\tbest: 59820.9945226 (3543)\ttotal: 16m 11s\tremaining: 2m 4s\n3547:\tlearn: 18475.1130150\ttest: 59821.0351995\tbest: 59820.9945226 (3543)\ttotal: 16m 12s\tremaining: 2m 3s\n3548:\tlearn: 18468.3987170\ttest: 59819.3246985\tbest: 59819.3246985 (3548)\ttotal: 16m 12s\tremaining: 2m 3s\n3549:\tlearn: 18463.6836979\ttest: 59817.7145566\tbest: 59817.7145566 (3549)\ttotal: 16m 13s\tremaining: 2m 3s\n3550:\tlearn: 18461.0664505\ttest: 59816.9096751\tbest: 59816.9096751 (3550)\ttotal: 16m 13s\tremaining: 2m 3s\n3551:\tlearn: 18459.5649774\ttest: 59817.0872298\tbest: 59816.9096751 (3550)\ttotal: 16m 14s\tremaining: 2m 2s\n3552:\tlearn: 18457.8732404\ttest: 59816.4705625\tbest: 59816.4705625 (3552)\ttotal: 16m 14s\tremaining: 2m 2s\n3553:\tlearn: 18452.0098101\ttest: 59810.5527915\tbest: 59810.5527915 (3553)\ttotal: 16m 15s\tremaining: 2m 2s\n3554:\tlearn: 18446.6869689\ttest: 59811.4615474\tbest: 59810.5527915 (3553)\ttotal: 16m 15s\tremaining: 2m 2s\n3555:\tlearn: 18443.3753785\ttest: 59810.9384833\tbest: 59810.5527915 (3553)\ttotal: 16m 15s\tremaining: 2m 1s\n3556:\tlearn: 18438.7255445\ttest: 59809.6043381\tbest: 59809.6043381 (3556)\ttotal: 16m 16s\tremaining: 2m 1s\n3557:\tlearn: 18431.8744557\ttest: 59808.8503764\tbest: 59808.8503764 (3557)\ttotal: 16m 16s\tremaining: 2m 1s\n3558:\tlearn: 18426.0730823\ttest: 59805.5730152\tbest: 59805.5730152 (3558)\ttotal: 16m 17s\tremaining: 2m 1s\n3559:\tlearn: 18422.6980240\ttest: 59806.3381039\tbest: 59805.5730152 (3558)\ttotal: 16m 17s\tremaining: 2m\n3560:\tlearn: 18414.3303852\ttest: 59810.0538352\tbest: 59805.5730152 (3558)\ttotal: 16m 18s\tremaining: 2m\n3561:\tlearn: 18407.4670017\ttest: 59808.0811881\tbest: 59805.5730152 (3558)\ttotal: 16m 18s\tremaining: 2m\n3562:\tlearn: 18402.9326465\ttest: 59807.3974008\tbest: 59805.5730152 (3558)\ttotal: 16m 19s\tremaining: 2m\n3563:\tlearn: 18399.0462446\ttest: 59808.9586560\tbest: 59805.5730152 (3558)\ttotal: 16m 19s\tremaining: 1m 59s\n3564:\tlearn: 18396.1450922\ttest: 59807.8695611\tbest: 59805.5730152 (3558)\ttotal: 16m 20s\tremaining: 1m 59s\n3565:\tlearn: 18392.5210937\ttest: 59808.4249280\tbest: 59805.5730152 (3558)\ttotal: 16m 20s\tremaining: 1m 59s\n3566:\tlearn: 18389.2392416\ttest: 59809.4403959\tbest: 59805.5730152 (3558)\ttotal: 16m 20s\tremaining: 1m 59s\n3567:\tlearn: 18384.6638211\ttest: 59809.4363674\tbest: 59805.5730152 (3558)\ttotal: 16m 21s\tremaining: 1m 58s\n3568:\tlearn: 18379.0188049\ttest: 59805.9195285\tbest: 59805.5730152 (3558)\ttotal: 16m 21s\tremaining: 1m 58s\n3569:\tlearn: 18375.4948904\ttest: 59807.4669423\tbest: 59805.5730152 (3558)\ttotal: 16m 21s\tremaining: 1m 58s\n3570:\tlearn: 18372.7062876\ttest: 59807.5195649\tbest: 59805.5730152 (3558)\ttotal: 16m 22s\tremaining: 1m 57s\n3571:\tlearn: 18368.5943820\ttest: 59806.4356269\tbest: 59805.5730152 (3558)\ttotal: 16m 22s\tremaining: 1m 57s\n3572:\tlearn: 18363.8342392\ttest: 59810.7619269\tbest: 59805.5730152 (3558)\ttotal: 16m 22s\tremaining: 1m 57s\n3573:\tlearn: 18361.5501365\ttest: 59810.5524534\tbest: 59805.5730152 (3558)\ttotal: 16m 23s\tremaining: 1m 57s\n3574:\tlearn: 18354.6132872\ttest: 59810.7299263\tbest: 59805.5730152 (3558)\ttotal: 16m 23s\tremaining: 1m 56s\n3575:\tlearn: 18350.0605514\ttest: 59810.4902587\tbest: 59805.5730152 (3558)\ttotal: 16m 24s\tremaining: 1m 56s\n3576:\tlearn: 18345.8877586\ttest: 59807.8472682\tbest: 59805.5730152 (3558)\ttotal: 16m 24s\tremaining: 1m 56s\n3577:\tlearn: 18342.5830321\ttest: 59808.7039721\tbest: 59805.5730152 (3558)\ttotal: 16m 24s\tremaining: 1m 56s\n3578:\tlearn: 18339.9377161\ttest: 59807.8346919\tbest: 59805.5730152 (3558)\ttotal: 16m 24s\tremaining: 1m 55s\n3579:\tlearn: 18336.6851717\ttest: 59808.0179938\tbest: 59805.5730152 (3558)\ttotal: 16m 25s\tremaining: 1m 55s\n3580:\tlearn: 18334.9859670\ttest: 59807.4390572\tbest: 59805.5730152 (3558)\ttotal: 16m 25s\tremaining: 1m 55s\n3581:\tlearn: 18334.6215316\ttest: 59807.4744958\tbest: 59805.5730152 (3558)\ttotal: 16m 25s\tremaining: 1m 55s\n3582:\tlearn: 18330.7141888\ttest: 59804.9469510\tbest: 59804.9469510 (3582)\ttotal: 16m 26s\tremaining: 1m 54s\n3583:\tlearn: 18330.4201979\ttest: 59804.7029584\tbest: 59804.7029584 (3583)\ttotal: 16m 26s\tremaining: 1m 54s\n3584:\tlearn: 18327.4623668\ttest: 59804.3258086\tbest: 59804.3258086 (3584)\ttotal: 16m 27s\tremaining: 1m 54s\n3585:\tlearn: 18325.2724233\ttest: 59803.2700364\tbest: 59803.2700364 (3585)\ttotal: 16m 27s\tremaining: 1m 53s\n3586:\tlearn: 18323.0492575\ttest: 59802.8644096\tbest: 59802.8644096 (3586)\ttotal: 16m 27s\tremaining: 1m 53s\n3587:\tlearn: 18320.1536053\ttest: 59802.1647590\tbest: 59802.1647590 (3587)\ttotal: 16m 27s\tremaining: 1m 53s\n3588:\tlearn: 18318.9217028\ttest: 59801.0314337\tbest: 59801.0314337 (3588)\ttotal: 16m 28s\tremaining: 1m 53s\n3589:\tlearn: 18313.5024829\ttest: 59796.9689784\tbest: 59796.9689784 (3589)\ttotal: 16m 28s\tremaining: 1m 52s\n3590:\tlearn: 18311.7699232\ttest: 59797.6900590\tbest: 59796.9689784 (3589)\ttotal: 16m 28s\tremaining: 1m 52s\n3591:\tlearn: 18310.3208857\ttest: 59796.8294424\tbest: 59796.8294424 (3591)\ttotal: 16m 29s\tremaining: 1m 52s\n3592:\tlearn: 18302.1073559\ttest: 59797.2074180\tbest: 59796.8294424 (3591)\ttotal: 16m 29s\tremaining: 1m 52s\n3593:\tlearn: 18299.6373757\ttest: 59797.7564498\tbest: 59796.8294424 (3591)\ttotal: 16m 29s\tremaining: 1m 51s\n3594:\tlearn: 18295.3453407\ttest: 59797.7241972\tbest: 59796.8294424 (3591)\ttotal: 16m 30s\tremaining: 1m 51s\n3595:\tlearn: 18293.8616430\ttest: 59798.0696532\tbest: 59796.8294424 (3591)\ttotal: 16m 30s\tremaining: 1m 51s\n3596:\tlearn: 18291.0301703\ttest: 59798.2827011\tbest: 59796.8294424 (3591)\ttotal: 16m 31s\tremaining: 1m 51s\n3597:\tlearn: 18287.0441857\ttest: 59799.4275640\tbest: 59796.8294424 (3591)\ttotal: 16m 31s\tremaining: 1m 50s\n3598:\tlearn: 18285.5683275\ttest: 59799.9797932\tbest: 59796.8294424 (3591)\ttotal: 16m 31s\tremaining: 1m 50s\n3599:\tlearn: 18283.8510216\ttest: 59801.0469910\tbest: 59796.8294424 (3591)\ttotal: 16m 31s\tremaining: 1m 50s\n3600:\tlearn: 18283.3427013\ttest: 59801.3936520\tbest: 59796.8294424 (3591)\ttotal: 16m 32s\tremaining: 1m 49s\n3601:\tlearn: 18281.0924659\ttest: 59801.9505796\tbest: 59796.8294424 (3591)\ttotal: 16m 32s\tremaining: 1m 49s\n3602:\tlearn: 18274.2056393\ttest: 59800.6674981\tbest: 59796.8294424 (3591)\ttotal: 16m 33s\tremaining: 1m 49s\n3603:\tlearn: 18271.7988007\ttest: 59800.7723397\tbest: 59796.8294424 (3591)\ttotal: 16m 33s\tremaining: 1m 49s\n3604:\tlearn: 18269.0049166\ttest: 59799.4613818\tbest: 59796.8294424 (3591)\ttotal: 16m 33s\tremaining: 1m 48s\n3605:\tlearn: 18259.9435012\ttest: 59798.3832908\tbest: 59796.8294424 (3591)\ttotal: 16m 33s\tremaining: 1m 48s\n3606:\tlearn: 18256.1907053\ttest: 59798.7830291\tbest: 59796.8294424 (3591)\ttotal: 16m 34s\tremaining: 1m 48s\n3607:\tlearn: 18254.7943934\ttest: 59796.4781199\tbest: 59796.4781199 (3607)\ttotal: 16m 34s\tremaining: 1m 48s\n3608:\tlearn: 18253.2974569\ttest: 59796.2261666\tbest: 59796.2261666 (3608)\ttotal: 16m 34s\tremaining: 1m 47s\n3609:\tlearn: 18248.1190835\ttest: 59795.8977529\tbest: 59795.8977529 (3609)\ttotal: 16m 35s\tremaining: 1m 47s\n3610:\tlearn: 18243.9961738\ttest: 59797.9635516\tbest: 59795.8977529 (3609)\ttotal: 16m 35s\tremaining: 1m 47s\n3611:\tlearn: 18236.6647198\ttest: 59795.2129299\tbest: 59795.2129299 (3611)\ttotal: 16m 35s\tremaining: 1m 46s\n3612:\tlearn: 18229.7459643\ttest: 59797.6409661\tbest: 59795.2129299 (3611)\ttotal: 16m 36s\tremaining: 1m 46s\n3613:\tlearn: 18229.0558826\ttest: 59797.5463949\tbest: 59795.2129299 (3611)\ttotal: 16m 36s\tremaining: 1m 46s\n3614:\tlearn: 18221.9009115\ttest: 59799.5178185\tbest: 59795.2129299 (3611)\ttotal: 16m 36s\tremaining: 1m 46s\n3615:\tlearn: 18220.2295740\ttest: 59800.0021548\tbest: 59795.2129299 (3611)\ttotal: 16m 37s\tremaining: 1m 45s\n3616:\tlearn: 18216.5470611\ttest: 59798.9653046\tbest: 59795.2129299 (3611)\ttotal: 16m 37s\tremaining: 1m 45s\n3617:\tlearn: 18212.2549107\ttest: 59797.7943083\tbest: 59795.2129299 (3611)\ttotal: 16m 38s\tremaining: 1m 45s\n3618:\tlearn: 18211.2482060\ttest: 59798.0488080\tbest: 59795.2129299 (3611)\ttotal: 16m 38s\tremaining: 1m 45s\n3619:\tlearn: 18204.6866298\ttest: 59795.8775017\tbest: 59795.2129299 (3611)\ttotal: 16m 38s\tremaining: 1m 44s\n3620:\tlearn: 18202.9061415\ttest: 59794.8138636\tbest: 59794.8138636 (3620)\ttotal: 16m 39s\tremaining: 1m 44s\n3621:\tlearn: 18201.1163585\ttest: 59795.0752333\tbest: 59794.8138636 (3620)\ttotal: 16m 39s\tremaining: 1m 44s\n3622:\tlearn: 18199.1978226\ttest: 59794.7217291\tbest: 59794.7217291 (3622)\ttotal: 16m 40s\tremaining: 1m 44s\n3623:\tlearn: 18193.0393626\ttest: 59791.8807214\tbest: 59791.8807214 (3623)\ttotal: 16m 40s\tremaining: 1m 43s\n3624:\tlearn: 18189.7137216\ttest: 59790.2048851\tbest: 59790.2048851 (3624)\ttotal: 16m 40s\tremaining: 1m 43s\n3625:\tlearn: 18181.4883941\ttest: 59789.6677998\tbest: 59789.6677998 (3625)\ttotal: 16m 41s\tremaining: 1m 43s\n3626:\tlearn: 18180.0755451\ttest: 59791.2548333\tbest: 59789.6677998 (3625)\ttotal: 16m 41s\tremaining: 1m 43s\n3627:\tlearn: 18179.0296485\ttest: 59790.9483273\tbest: 59789.6677998 (3625)\ttotal: 16m 41s\tremaining: 1m 42s\n3628:\tlearn: 18178.9259022\ttest: 59790.9513656\tbest: 59789.6677998 (3625)\ttotal: 16m 42s\tremaining: 1m 42s\n3629:\tlearn: 18172.1154102\ttest: 59789.5467426\tbest: 59789.5467426 (3629)\ttotal: 16m 42s\tremaining: 1m 42s\n3630:\tlearn: 18163.8069429\ttest: 59788.6821290\tbest: 59788.6821290 (3630)\ttotal: 16m 43s\tremaining: 1m 41s\n3631:\tlearn: 18157.8425579\ttest: 59790.0192541\tbest: 59788.6821290 (3630)\ttotal: 16m 43s\tremaining: 1m 41s\n3632:\tlearn: 18150.7091683\ttest: 59789.1011272\tbest: 59788.6821290 (3630)\ttotal: 16m 43s\tremaining: 1m 41s\n3633:\tlearn: 18145.5768253\ttest: 59787.1724195\tbest: 59787.1724195 (3633)\ttotal: 16m 43s\tremaining: 1m 41s\n3634:\tlearn: 18144.6775874\ttest: 59787.4789780\tbest: 59787.1724195 (3633)\ttotal: 16m 44s\tremaining: 1m 40s\n3635:\tlearn: 18144.3392255\ttest: 59786.7816671\tbest: 59786.7816671 (3635)\ttotal: 16m 44s\tremaining: 1m 40s\n3636:\tlearn: 18140.6930373\ttest: 59784.5576708\tbest: 59784.5576708 (3636)\ttotal: 16m 45s\tremaining: 1m 40s\n3637:\tlearn: 18136.6946372\ttest: 59784.7174259\tbest: 59784.5576708 (3636)\ttotal: 16m 45s\tremaining: 1m 40s\n3638:\tlearn: 18132.8379281\ttest: 59785.2980757\tbest: 59784.5576708 (3636)\ttotal: 16m 46s\tremaining: 1m 39s\n3639:\tlearn: 18129.6022031\ttest: 59784.7933764\tbest: 59784.5576708 (3636)\ttotal: 16m 46s\tremaining: 1m 39s\n3640:\tlearn: 18125.4340000\ttest: 59785.3050839\tbest: 59784.5576708 (3636)\ttotal: 16m 46s\tremaining: 1m 39s\n3641:\tlearn: 18124.3107949\ttest: 59785.8624397\tbest: 59784.5576708 (3636)\ttotal: 16m 47s\tremaining: 1m 38s\n3642:\tlearn: 18121.9865595\ttest: 59786.4578962\tbest: 59784.5576708 (3636)\ttotal: 16m 47s\tremaining: 1m 38s\n3643:\tlearn: 18120.4999739\ttest: 59786.0309932\tbest: 59784.5576708 (3636)\ttotal: 16m 47s\tremaining: 1m 38s\n3644:\tlearn: 18118.6775150\ttest: 59787.1057695\tbest: 59784.5576708 (3636)\ttotal: 16m 48s\tremaining: 1m 38s\n3645:\tlearn: 18117.3719594\ttest: 59786.7661611\tbest: 59784.5576708 (3636)\ttotal: 16m 48s\tremaining: 1m 37s\n3646:\tlearn: 18114.1948309\ttest: 59786.7206378\tbest: 59784.5576708 (3636)\ttotal: 16m 48s\tremaining: 1m 37s\n3647:\tlearn: 18111.5108212\ttest: 59786.2717008\tbest: 59784.5576708 (3636)\ttotal: 16m 49s\tremaining: 1m 37s\n3648:\tlearn: 18108.6769294\ttest: 59788.2558127\tbest: 59784.5576708 (3636)\ttotal: 16m 49s\tremaining: 1m 37s\n3649:\tlearn: 18104.7428276\ttest: 59787.4708555\tbest: 59784.5576708 (3636)\ttotal: 16m 49s\tremaining: 1m 36s\n3650:\tlearn: 18099.7208481\ttest: 59785.3401097\tbest: 59784.5576708 (3636)\ttotal: 16m 50s\tremaining: 1m 36s\n3651:\tlearn: 18098.8366908\ttest: 59785.0554395\tbest: 59784.5576708 (3636)\ttotal: 16m 50s\tremaining: 1m 36s\n3652:\tlearn: 18094.5465113\ttest: 59786.7170499\tbest: 59784.5576708 (3636)\ttotal: 16m 50s\tremaining: 1m 36s\n3653:\tlearn: 18090.7271475\ttest: 59785.6787072\tbest: 59784.5576708 (3636)\ttotal: 16m 51s\tremaining: 1m 35s\n3654:\tlearn: 18082.4025411\ttest: 59787.4205944\tbest: 59784.5576708 (3636)\ttotal: 16m 51s\tremaining: 1m 35s\n3655:\tlearn: 18075.3367193\ttest: 59785.1323298\tbest: 59784.5576708 (3636)\ttotal: 16m 52s\tremaining: 1m 35s\n3656:\tlearn: 18069.9700855\ttest: 59784.9373486\tbest: 59784.5576708 (3636)\ttotal: 16m 52s\tremaining: 1m 34s\n3657:\tlearn: 18069.2073012\ttest: 59785.0484643\tbest: 59784.5576708 (3636)\ttotal: 16m 52s\tremaining: 1m 34s\n3658:\tlearn: 18064.2397992\ttest: 59786.1339654\tbest: 59784.5576708 (3636)\ttotal: 16m 53s\tremaining: 1m 34s\n3659:\tlearn: 18059.3247841\ttest: 59785.5308885\tbest: 59784.5576708 (3636)\ttotal: 16m 53s\tremaining: 1m 34s\n3660:\tlearn: 18054.9335235\ttest: 59786.7717813\tbest: 59784.5576708 (3636)\ttotal: 16m 53s\tremaining: 1m 33s\n3661:\tlearn: 18050.5995975\ttest: 59785.6798761\tbest: 59784.5576708 (3636)\ttotal: 16m 54s\tremaining: 1m 33s\n3662:\tlearn: 18046.6314425\ttest: 59784.0589766\tbest: 59784.0589766 (3662)\ttotal: 16m 55s\tremaining: 1m 33s\n3663:\tlearn: 18038.6878056\ttest: 59780.2891995\tbest: 59780.2891995 (3663)\ttotal: 16m 56s\tremaining: 1m 33s\n3664:\tlearn: 18034.1992029\ttest: 59780.5706786\tbest: 59780.2891995 (3663)\ttotal: 16m 56s\tremaining: 1m 32s\n3665:\tlearn: 18028.5142020\ttest: 59780.0382111\tbest: 59780.0382111 (3665)\ttotal: 16m 57s\tremaining: 1m 32s\n3666:\tlearn: 18025.5488755\ttest: 59780.7358082\tbest: 59780.0382111 (3665)\ttotal: 16m 57s\tremaining: 1m 32s\n3667:\tlearn: 18023.3522902\ttest: 59781.0855196\tbest: 59780.0382111 (3665)\ttotal: 16m 58s\tremaining: 1m 32s\n3668:\tlearn: 18018.3821626\ttest: 59780.5151689\tbest: 59780.0382111 (3665)\ttotal: 16m 58s\tremaining: 1m 31s\n3669:\tlearn: 18016.8738047\ttest: 59781.0272954\tbest: 59780.0382111 (3665)\ttotal: 16m 58s\tremaining: 1m 31s\n3670:\tlearn: 18010.3037357\ttest: 59778.3051753\tbest: 59778.3051753 (3670)\ttotal: 16m 59s\tremaining: 1m 31s\n3671:\tlearn: 18006.5905325\ttest: 59777.9266192\tbest: 59777.9266192 (3671)\ttotal: 16m 59s\tremaining: 1m 31s\n3672:\tlearn: 18002.5071154\ttest: 59776.3869305\tbest: 59776.3869305 (3672)\ttotal: 16m 59s\tremaining: 1m 30s\n3673:\tlearn: 17998.1713639\ttest: 59775.9296626\tbest: 59775.9296626 (3673)\ttotal: 17m\tremaining: 1m 30s\n3674:\tlearn: 17996.2812528\ttest: 59774.8173871\tbest: 59774.8173871 (3674)\ttotal: 17m\tremaining: 1m 30s\n3675:\tlearn: 17993.9070665\ttest: 59774.5669185\tbest: 59774.5669185 (3675)\ttotal: 17m\tremaining: 1m 29s\n3676:\tlearn: 17992.6084565\ttest: 59774.2640163\tbest: 59774.2640163 (3676)\ttotal: 17m 1s\tremaining: 1m 29s\n3677:\tlearn: 17988.6617861\ttest: 59774.3413279\tbest: 59774.2640163 (3676)\ttotal: 17m 1s\tremaining: 1m 29s\n3678:\tlearn: 17986.0033729\ttest: 59776.7045997\tbest: 59774.2640163 (3676)\ttotal: 17m 1s\tremaining: 1m 29s\n3679:\tlearn: 17982.6054421\ttest: 59776.1550578\tbest: 59774.2640163 (3676)\ttotal: 17m 2s\tremaining: 1m 28s\n3680:\tlearn: 17980.4605750\ttest: 59777.6659742\tbest: 59774.2640163 (3676)\ttotal: 17m 2s\tremaining: 1m 28s\n3681:\tlearn: 17977.8127253\ttest: 59778.0377754\tbest: 59774.2640163 (3676)\ttotal: 17m 3s\tremaining: 1m 28s\n3682:\tlearn: 17975.4335404\ttest: 59777.8328924\tbest: 59774.2640163 (3676)\ttotal: 17m 3s\tremaining: 1m 28s\n3683:\tlearn: 17972.6922232\ttest: 59776.4314402\tbest: 59774.2640163 (3676)\ttotal: 17m 3s\tremaining: 1m 27s\n3684:\tlearn: 17968.4629619\ttest: 59775.6136381\tbest: 59774.2640163 (3676)\ttotal: 17m 4s\tremaining: 1m 27s\n3685:\tlearn: 17962.2678350\ttest: 59777.8046729\tbest: 59774.2640163 (3676)\ttotal: 17m 4s\tremaining: 1m 27s\n3686:\tlearn: 17960.4752657\ttest: 59777.5652072\tbest: 59774.2640163 (3676)\ttotal: 17m 5s\tremaining: 1m 27s\n3687:\tlearn: 17958.8711766\ttest: 59777.7388232\tbest: 59774.2640163 (3676)\ttotal: 17m 5s\tremaining: 1m 26s\n3688:\tlearn: 17953.8437678\ttest: 59776.0981215\tbest: 59774.2640163 (3676)\ttotal: 17m 5s\tremaining: 1m 26s\n3689:\tlearn: 17949.6179891\ttest: 59776.4157115\tbest: 59774.2640163 (3676)\ttotal: 17m 6s\tremaining: 1m 26s\n3690:\tlearn: 17944.3371809\ttest: 59775.7934112\tbest: 59774.2640163 (3676)\ttotal: 17m 6s\tremaining: 1m 25s\n3691:\tlearn: 17942.1950703\ttest: 59775.3605656\tbest: 59774.2640163 (3676)\ttotal: 17m 7s\tremaining: 1m 25s\n3692:\tlearn: 17938.6537171\ttest: 59774.7457486\tbest: 59774.2640163 (3676)\ttotal: 17m 7s\tremaining: 1m 25s\n3693:\tlearn: 17936.9969740\ttest: 59774.7033470\tbest: 59774.2640163 (3676)\ttotal: 17m 8s\tremaining: 1m 25s\n3694:\tlearn: 17936.3818013\ttest: 59774.9272638\tbest: 59774.2640163 (3676)\ttotal: 17m 8s\tremaining: 1m 24s\n3695:\tlearn: 17934.9638867\ttest: 59774.9505393\tbest: 59774.2640163 (3676)\ttotal: 17m 8s\tremaining: 1m 24s\n3696:\tlearn: 17931.8160011\ttest: 59775.2378644\tbest: 59774.2640163 (3676)\ttotal: 17m 8s\tremaining: 1m 24s\n3697:\tlearn: 17926.1096470\ttest: 59773.3708378\tbest: 59773.3708378 (3697)\ttotal: 17m 9s\tremaining: 1m 24s\n3698:\tlearn: 17924.5931536\ttest: 59772.8411350\tbest: 59772.8411350 (3698)\ttotal: 17m 9s\tremaining: 1m 23s\n3699:\tlearn: 17924.1893321\ttest: 59772.7433845\tbest: 59772.7433845 (3699)\ttotal: 17m 9s\tremaining: 1m 23s\n3700:\tlearn: 17919.1678166\ttest: 59770.7535431\tbest: 59770.7535431 (3700)\ttotal: 17m 10s\tremaining: 1m 23s\n3701:\tlearn: 17915.4133848\ttest: 59770.7018395\tbest: 59770.7018395 (3701)\ttotal: 17m 10s\tremaining: 1m 22s\n3702:\tlearn: 17911.7555305\ttest: 59769.8039068\tbest: 59769.8039068 (3702)\ttotal: 17m 11s\tremaining: 1m 22s\n3703:\tlearn: 17906.0793868\ttest: 59768.2826487\tbest: 59768.2826487 (3703)\ttotal: 17m 11s\tremaining: 1m 22s\n3704:\tlearn: 17900.3431126\ttest: 59767.7514327\tbest: 59767.7514327 (3704)\ttotal: 17m 11s\tremaining: 1m 22s\n3705:\tlearn: 17896.3813882\ttest: 59764.9536104\tbest: 59764.9536104 (3705)\ttotal: 17m 12s\tremaining: 1m 21s\n3706:\tlearn: 17892.0769082\ttest: 59763.0237253\tbest: 59763.0237253 (3706)\ttotal: 17m 12s\tremaining: 1m 21s\n3707:\tlearn: 17888.3096345\ttest: 59764.6716219\tbest: 59763.0237253 (3706)\ttotal: 17m 13s\tremaining: 1m 21s\n3708:\tlearn: 17886.2698612\ttest: 59763.8639663\tbest: 59763.0237253 (3706)\ttotal: 17m 13s\tremaining: 1m 21s\n3709:\tlearn: 17883.5263203\ttest: 59762.0833423\tbest: 59762.0833423 (3709)\ttotal: 17m 13s\tremaining: 1m 20s\n3710:\tlearn: 17880.2144216\ttest: 59761.0626727\tbest: 59761.0626727 (3710)\ttotal: 17m 14s\tremaining: 1m 20s\n3711:\tlearn: 17874.9105795\ttest: 59759.5780730\tbest: 59759.5780730 (3711)\ttotal: 17m 14s\tremaining: 1m 20s\n3712:\tlearn: 17872.6101608\ttest: 59759.0646572\tbest: 59759.0646572 (3712)\ttotal: 17m 14s\tremaining: 1m 20s\n3713:\tlearn: 17870.1071718\ttest: 59758.8333139\tbest: 59758.8333139 (3713)\ttotal: 17m 15s\tremaining: 1m 19s\n3714:\tlearn: 17868.8481689\ttest: 59761.4185492\tbest: 59758.8333139 (3713)\ttotal: 17m 15s\tremaining: 1m 19s\n3715:\tlearn: 17863.5680484\ttest: 59761.4407793\tbest: 59758.8333139 (3713)\ttotal: 17m 15s\tremaining: 1m 19s\n3716:\tlearn: 17858.6980349\ttest: 59762.0536402\tbest: 59758.8333139 (3713)\ttotal: 17m 16s\tremaining: 1m 18s\n3717:\tlearn: 17853.6427202\ttest: 59762.0518140\tbest: 59758.8333139 (3713)\ttotal: 17m 16s\tremaining: 1m 18s\n3718:\tlearn: 17850.8482030\ttest: 59762.2408241\tbest: 59758.8333139 (3713)\ttotal: 17m 16s\tremaining: 1m 18s\n3719:\tlearn: 17849.2210676\ttest: 59761.4057817\tbest: 59758.8333139 (3713)\ttotal: 17m 17s\tremaining: 1m 18s\n3720:\tlearn: 17844.1837323\ttest: 59760.7556360\tbest: 59758.8333139 (3713)\ttotal: 17m 17s\tremaining: 1m 17s\n3721:\tlearn: 17842.1734611\ttest: 59760.0097315\tbest: 59758.8333139 (3713)\ttotal: 17m 17s\tremaining: 1m 17s\n3722:\tlearn: 17836.8988116\ttest: 59758.8601624\tbest: 59758.8333139 (3713)\ttotal: 17m 18s\tremaining: 1m 17s\n3723:\tlearn: 17830.4800259\ttest: 59757.1870738\tbest: 59757.1870738 (3723)\ttotal: 17m 18s\tremaining: 1m 16s\n3724:\tlearn: 17830.4569558\ttest: 59757.1857482\tbest: 59757.1857482 (3724)\ttotal: 17m 19s\tremaining: 1m 16s\n3725:\tlearn: 17829.2952783\ttest: 59756.4000716\tbest: 59756.4000716 (3725)\ttotal: 17m 20s\tremaining: 1m 16s\n3726:\tlearn: 17826.3811854\ttest: 59757.7494614\tbest: 59756.4000716 (3725)\ttotal: 17m 20s\tremaining: 1m 16s\n3727:\tlearn: 17823.9341944\ttest: 59757.8244665\tbest: 59756.4000716 (3725)\ttotal: 17m 20s\tremaining: 1m 15s\n3728:\tlearn: 17821.1058516\ttest: 59758.2405800\tbest: 59756.4000716 (3725)\ttotal: 17m 21s\tremaining: 1m 15s\n3729:\tlearn: 17820.9293063\ttest: 59757.8556997\tbest: 59756.4000716 (3725)\ttotal: 17m 21s\tremaining: 1m 15s\n3730:\tlearn: 17820.8291289\ttest: 59757.8833483\tbest: 59756.4000716 (3725)\ttotal: 17m 21s\tremaining: 1m 15s\n3731:\tlearn: 17817.9813831\ttest: 59757.9388238\tbest: 59756.4000716 (3725)\ttotal: 17m 21s\tremaining: 1m 14s\n3732:\tlearn: 17809.1971864\ttest: 59753.3041580\tbest: 59753.3041580 (3732)\ttotal: 17m 22s\tremaining: 1m 14s\n3733:\tlearn: 17806.5977137\ttest: 59753.4521660\tbest: 59753.3041580 (3732)\ttotal: 17m 22s\tremaining: 1m 14s\n3734:\tlearn: 17803.9596010\ttest: 59753.3096691\tbest: 59753.3041580 (3732)\ttotal: 17m 23s\tremaining: 1m 14s\n3735:\tlearn: 17802.3166046\ttest: 59752.6476805\tbest: 59752.6476805 (3735)\ttotal: 17m 23s\tremaining: 1m 13s\n3736:\tlearn: 17794.8150130\ttest: 59751.8855875\tbest: 59751.8855875 (3736)\ttotal: 17m 24s\tremaining: 1m 13s\n3737:\tlearn: 17790.4305783\ttest: 59751.8005973\tbest: 59751.8005973 (3737)\ttotal: 17m 24s\tremaining: 1m 13s\n3738:\tlearn: 17787.3733659\ttest: 59749.6276949\tbest: 59749.6276949 (3738)\ttotal: 17m 25s\tremaining: 1m 12s\n3739:\tlearn: 17783.1868666\ttest: 59750.3767269\tbest: 59749.6276949 (3738)\ttotal: 17m 25s\tremaining: 1m 12s\n3740:\tlearn: 17782.1370058\ttest: 59749.0665412\tbest: 59749.0665412 (3740)\ttotal: 17m 25s\tremaining: 1m 12s\n3741:\tlearn: 17774.5198063\ttest: 59753.5215253\tbest: 59749.0665412 (3740)\ttotal: 17m 26s\tremaining: 1m 12s\n3742:\tlearn: 17769.3390251\ttest: 59752.5060396\tbest: 59749.0665412 (3740)\ttotal: 17m 26s\tremaining: 1m 11s\n3743:\tlearn: 17768.6005422\ttest: 59751.7645426\tbest: 59749.0665412 (3740)\ttotal: 17m 27s\tremaining: 1m 11s\n3744:\tlearn: 17767.1178075\ttest: 59751.1328250\tbest: 59749.0665412 (3740)\ttotal: 17m 27s\tremaining: 1m 11s\n3745:\tlearn: 17763.8771082\ttest: 59750.3485425\tbest: 59749.0665412 (3740)\ttotal: 17m 28s\tremaining: 1m 11s\n3746:\tlearn: 17762.0496181\ttest: 59750.1612147\tbest: 59749.0665412 (3740)\ttotal: 17m 29s\tremaining: 1m 10s\n3747:\tlearn: 17760.0144841\ttest: 59752.3535299\tbest: 59749.0665412 (3740)\ttotal: 17m 29s\tremaining: 1m 10s\n3748:\tlearn: 17756.6524267\ttest: 59752.5439651\tbest: 59749.0665412 (3740)\ttotal: 17m 30s\tremaining: 1m 10s\n3749:\tlearn: 17751.4630668\ttest: 59751.1106265\tbest: 59749.0665412 (3740)\ttotal: 17m 30s\tremaining: 1m 10s\n3750:\tlearn: 17748.8593376\ttest: 59751.6001412\tbest: 59749.0665412 (3740)\ttotal: 17m 30s\tremaining: 1m 9s\n3751:\tlearn: 17745.8669877\ttest: 59752.4833600\tbest: 59749.0665412 (3740)\ttotal: 17m 31s\tremaining: 1m 9s\n3752:\tlearn: 17743.6243241\ttest: 59752.9774494\tbest: 59749.0665412 (3740)\ttotal: 17m 31s\tremaining: 1m 9s\n3753:\tlearn: 17741.2800265\ttest: 59752.8133708\tbest: 59749.0665412 (3740)\ttotal: 17m 31s\tremaining: 1m 8s\n3754:\tlearn: 17738.8332763\ttest: 59753.3990724\tbest: 59749.0665412 (3740)\ttotal: 17m 32s\tremaining: 1m 8s\n3755:\tlearn: 17736.5223238\ttest: 59751.6277334\tbest: 59749.0665412 (3740)\ttotal: 17m 32s\tremaining: 1m 8s\n3756:\tlearn: 17730.8820385\ttest: 59749.1772479\tbest: 59749.0665412 (3740)\ttotal: 17m 32s\tremaining: 1m 8s\n3757:\tlearn: 17729.9754138\ttest: 59749.2106214\tbest: 59749.0665412 (3740)\ttotal: 17m 33s\tremaining: 1m 7s\n3758:\tlearn: 17727.3227948\ttest: 59748.9777960\tbest: 59748.9777960 (3758)\ttotal: 17m 33s\tremaining: 1m 7s\n3759:\tlearn: 17725.6887674\ttest: 59748.6266941\tbest: 59748.6266941 (3759)\ttotal: 17m 33s\tremaining: 1m 7s\n3760:\tlearn: 17720.4768212\ttest: 59752.9575991\tbest: 59748.6266941 (3759)\ttotal: 17m 34s\tremaining: 1m 6s\n3761:\tlearn: 17718.6276285\ttest: 59752.1617979\tbest: 59748.6266941 (3759)\ttotal: 17m 34s\tremaining: 1m 6s\n3762:\tlearn: 17717.2295321\ttest: 59752.4758222\tbest: 59748.6266941 (3759)\ttotal: 17m 34s\tremaining: 1m 6s\n3763:\tlearn: 17712.4538083\ttest: 59749.7402839\tbest: 59748.6266941 (3759)\ttotal: 17m 35s\tremaining: 1m 6s\n3764:\tlearn: 17710.4136911\ttest: 59749.5041963\tbest: 59748.6266941 (3759)\ttotal: 17m 35s\tremaining: 1m 5s\n3765:\tlearn: 17706.4851793\ttest: 59748.6572779\tbest: 59748.6266941 (3759)\ttotal: 17m 35s\tremaining: 1m 5s\n3766:\tlearn: 17703.0442805\ttest: 59747.8810946\tbest: 59747.8810946 (3766)\ttotal: 17m 36s\tremaining: 1m 5s\n3767:\tlearn: 17701.3491555\ttest: 59748.6379728\tbest: 59747.8810946 (3766)\ttotal: 17m 36s\tremaining: 1m 5s\n3768:\tlearn: 17700.3255090\ttest: 59748.4966489\tbest: 59747.8810946 (3766)\ttotal: 17m 37s\tremaining: 1m 4s\n3769:\tlearn: 17696.5641922\ttest: 59747.7258019\tbest: 59747.7258019 (3769)\ttotal: 17m 37s\tremaining: 1m 4s\n3770:\tlearn: 17695.0159623\ttest: 59747.7277335\tbest: 59747.7258019 (3769)\ttotal: 17m 37s\tremaining: 1m 4s\n3771:\tlearn: 17685.6586462\ttest: 59749.9071953\tbest: 59747.7258019 (3769)\ttotal: 17m 38s\tremaining: 1m 3s\n3772:\tlearn: 17682.9344897\ttest: 59750.5458353\tbest: 59747.7258019 (3769)\ttotal: 17m 38s\tremaining: 1m 3s\n3773:\tlearn: 17680.5136341\ttest: 59749.3466719\tbest: 59747.7258019 (3769)\ttotal: 17m 39s\tremaining: 1m 3s\n3774:\tlearn: 17678.7849326\ttest: 59750.4513498\tbest: 59747.7258019 (3769)\ttotal: 17m 39s\tremaining: 1m 3s\n3775:\tlearn: 17674.0737307\ttest: 59750.4116174\tbest: 59747.7258019 (3769)\ttotal: 17m 39s\tremaining: 1m 2s\n3776:\tlearn: 17672.8799443\ttest: 59750.5785490\tbest: 59747.7258019 (3769)\ttotal: 17m 40s\tremaining: 1m 2s\n3777:\tlearn: 17668.3995206\ttest: 59748.1653536\tbest: 59747.7258019 (3769)\ttotal: 17m 40s\tremaining: 1m 2s\n3778:\tlearn: 17667.2941920\ttest: 59748.2192277\tbest: 59747.7258019 (3769)\ttotal: 17m 40s\tremaining: 1m 2s\n3779:\tlearn: 17665.6769490\ttest: 59748.6124622\tbest: 59747.7258019 (3769)\ttotal: 17m 41s\tremaining: 1m 1s\n3780:\tlearn: 17658.2578790\ttest: 59748.4499876\tbest: 59747.7258019 (3769)\ttotal: 17m 41s\tremaining: 1m 1s\n3781:\tlearn: 17651.0127402\ttest: 59745.1616075\tbest: 59745.1616075 (3781)\ttotal: 17m 42s\tremaining: 1m 1s\n3782:\tlearn: 17646.1610565\ttest: 59744.0356287\tbest: 59744.0356287 (3782)\ttotal: 17m 42s\tremaining: 1m\n3783:\tlearn: 17643.3561496\ttest: 59743.0509063\tbest: 59743.0509063 (3783)\ttotal: 17m 42s\tremaining: 1m\n3784:\tlearn: 17642.3374280\ttest: 59742.6676787\tbest: 59742.6676787 (3784)\ttotal: 17m 42s\tremaining: 1m\n3785:\tlearn: 17640.5579827\ttest: 59742.5770668\tbest: 59742.5770668 (3785)\ttotal: 17m 43s\tremaining: 1m\n3786:\tlearn: 17634.1878722\ttest: 59739.8929094\tbest: 59739.8929094 (3786)\ttotal: 17m 43s\tremaining: 59.8s\n3787:\tlearn: 17632.2844557\ttest: 59739.5983937\tbest: 59739.5983937 (3787)\ttotal: 17m 43s\tremaining: 59.5s\n3788:\tlearn: 17629.1638150\ttest: 59739.4535228\tbest: 59739.4535228 (3788)\ttotal: 17m 44s\tremaining: 59.3s\n3789:\tlearn: 17626.1729617\ttest: 59739.0669411\tbest: 59739.0669411 (3789)\ttotal: 17m 44s\tremaining: 59s\n3790:\tlearn: 17620.8819557\ttest: 59741.7504676\tbest: 59739.0669411 (3789)\ttotal: 17m 45s\tremaining: 58.7s\n3791:\tlearn: 17618.3810131\ttest: 59741.8136328\tbest: 59739.0669411 (3789)\ttotal: 17m 45s\tremaining: 58.4s\n3792:\tlearn: 17614.2293933\ttest: 59743.4103508\tbest: 59739.0669411 (3789)\ttotal: 17m 45s\tremaining: 58.2s\n3793:\tlearn: 17608.6197241\ttest: 59742.4961228\tbest: 59739.0669411 (3789)\ttotal: 17m 46s\tremaining: 57.9s\n3794:\tlearn: 17602.8596193\ttest: 59747.4803587\tbest: 59739.0669411 (3789)\ttotal: 17m 46s\tremaining: 57.6s\n3795:\tlearn: 17601.9295071\ttest: 59747.8047464\tbest: 59739.0669411 (3789)\ttotal: 17m 46s\tremaining: 57.3s\n3796:\tlearn: 17598.1961568\ttest: 59748.1906501\tbest: 59739.0669411 (3789)\ttotal: 17m 47s\tremaining: 57.1s\n3797:\tlearn: 17594.3609690\ttest: 59745.5878770\tbest: 59739.0669411 (3789)\ttotal: 17m 47s\tremaining: 56.8s\n3798:\tlearn: 17591.2274749\ttest: 59745.8808630\tbest: 59739.0669411 (3789)\ttotal: 17m 47s\tremaining: 56.5s\n3799:\tlearn: 17590.7903457\ttest: 59746.6286915\tbest: 59739.0669411 (3789)\ttotal: 17m 48s\tremaining: 56.2s\n3800:\tlearn: 17589.2792033\ttest: 59746.7965941\tbest: 59739.0669411 (3789)\ttotal: 17m 48s\tremaining: 55.9s\n3801:\tlearn: 17587.0444352\ttest: 59746.8456075\tbest: 59739.0669411 (3789)\ttotal: 17m 49s\tremaining: 55.7s\n3802:\tlearn: 17581.6622254\ttest: 59746.5440109\tbest: 59739.0669411 (3789)\ttotal: 17m 49s\tremaining: 55.4s\n3803:\tlearn: 17576.1807258\ttest: 59747.3509120\tbest: 59739.0669411 (3789)\ttotal: 17m 49s\tremaining: 55.1s\n3804:\tlearn: 17568.1475947\ttest: 59746.0281688\tbest: 59739.0669411 (3789)\ttotal: 17m 49s\tremaining: 54.8s\n3805:\tlearn: 17563.0870889\ttest: 59745.4711344\tbest: 59739.0669411 (3789)\ttotal: 17m 50s\tremaining: 54.5s\n3806:\tlearn: 17559.1803399\ttest: 59746.6820594\tbest: 59739.0669411 (3789)\ttotal: 17m 50s\tremaining: 54.3s\n3807:\tlearn: 17555.2643414\ttest: 59744.7077543\tbest: 59739.0669411 (3789)\ttotal: 17m 50s\tremaining: 54s\n3808:\tlearn: 17554.6927342\ttest: 59745.4665661\tbest: 59739.0669411 (3789)\ttotal: 17m 51s\tremaining: 53.7s\n3809:\tlearn: 17552.3628491\ttest: 59744.8618856\tbest: 59739.0669411 (3789)\ttotal: 17m 51s\tremaining: 53.4s\n3810:\tlearn: 17550.0154369\ttest: 59745.7691172\tbest: 59739.0669411 (3789)\ttotal: 17m 51s\tremaining: 53.2s\n3811:\tlearn: 17548.8611682\ttest: 59745.6512428\tbest: 59739.0669411 (3789)\ttotal: 17m 52s\tremaining: 52.9s\n3812:\tlearn: 17546.7620072\ttest: 59746.2835469\tbest: 59739.0669411 (3789)\ttotal: 17m 52s\tremaining: 52.6s\n3813:\tlearn: 17542.4125092\ttest: 59747.0722464\tbest: 59739.0669411 (3789)\ttotal: 17m 53s\tremaining: 52.3s\n3814:\tlearn: 17541.3617054\ttest: 59746.9634903\tbest: 59739.0669411 (3789)\ttotal: 17m 53s\tremaining: 52s\n3815:\tlearn: 17540.5523318\ttest: 59746.7207817\tbest: 59739.0669411 (3789)\ttotal: 17m 53s\tremaining: 51.8s\n3816:\tlearn: 17539.0618857\ttest: 59745.8536637\tbest: 59739.0669411 (3789)\ttotal: 17m 54s\tremaining: 51.5s\n3817:\tlearn: 17537.3798070\ttest: 59745.9968763\tbest: 59739.0669411 (3789)\ttotal: 17m 54s\tremaining: 51.2s\n3818:\tlearn: 17535.9725827\ttest: 59745.8490781\tbest: 59739.0669411 (3789)\ttotal: 17m 54s\tremaining: 50.9s\n3819:\tlearn: 17535.2569962\ttest: 59746.4479886\tbest: 59739.0669411 (3789)\ttotal: 17m 54s\tremaining: 50.7s\n3820:\tlearn: 17531.9684528\ttest: 59747.0021843\tbest: 59739.0669411 (3789)\ttotal: 17m 55s\tremaining: 50.4s\n3821:\tlearn: 17528.2315207\ttest: 59746.1973078\tbest: 59739.0669411 (3789)\ttotal: 17m 55s\tremaining: 50.1s\n3822:\tlearn: 17527.5893518\ttest: 59746.5487570\tbest: 59739.0669411 (3789)\ttotal: 17m 56s\tremaining: 49.8s\n3823:\tlearn: 17524.5503258\ttest: 59745.4782355\tbest: 59739.0669411 (3789)\ttotal: 17m 56s\tremaining: 49.5s\n3824:\tlearn: 17519.8914588\ttest: 59746.4724372\tbest: 59739.0669411 (3789)\ttotal: 17m 56s\tremaining: 49.3s\n3825:\tlearn: 17517.6834589\ttest: 59746.0456429\tbest: 59739.0669411 (3789)\ttotal: 17m 57s\tremaining: 49s\n3826:\tlearn: 17515.6799609\ttest: 59746.9943391\tbest: 59739.0669411 (3789)\ttotal: 17m 57s\tremaining: 48.7s\n3827:\tlearn: 17511.9367227\ttest: 59747.0652020\tbest: 59739.0669411 (3789)\ttotal: 17m 57s\tremaining: 48.4s\n3828:\tlearn: 17509.1087491\ttest: 59746.6142312\tbest: 59739.0669411 (3789)\ttotal: 17m 58s\tremaining: 48.2s\n3829:\tlearn: 17505.6619027\ttest: 59745.5097535\tbest: 59739.0669411 (3789)\ttotal: 17m 58s\tremaining: 47.9s\n3830:\tlearn: 17501.1785510\ttest: 59744.9641331\tbest: 59739.0669411 (3789)\ttotal: 17m 59s\tremaining: 47.6s\n3831:\tlearn: 17498.9395016\ttest: 59745.2140855\tbest: 59739.0669411 (3789)\ttotal: 17m 59s\tremaining: 47.3s\n3832:\tlearn: 17495.0432566\ttest: 59745.4438734\tbest: 59739.0669411 (3789)\ttotal: 17m 59s\tremaining: 47s\n3833:\tlearn: 17490.3262839\ttest: 59745.7413619\tbest: 59739.0669411 (3789)\ttotal: 18m\tremaining: 46.8s\n3834:\tlearn: 17486.4989917\ttest: 59746.3646832\tbest: 59739.0669411 (3789)\ttotal: 18m\tremaining: 46.5s\n3835:\tlearn: 17481.2503701\ttest: 59743.4062836\tbest: 59739.0669411 (3789)\ttotal: 18m\tremaining: 46.2s\n3836:\tlearn: 17478.6880525\ttest: 59743.7699741\tbest: 59739.0669411 (3789)\ttotal: 18m 1s\tremaining: 45.9s\n3837:\tlearn: 17476.5337178\ttest: 59744.9322171\tbest: 59739.0669411 (3789)\ttotal: 18m 1s\tremaining: 45.6s\n3838:\tlearn: 17474.8457163\ttest: 59744.3771991\tbest: 59739.0669411 (3789)\ttotal: 18m 1s\tremaining: 45.4s\n3839:\tlearn: 17471.5110324\ttest: 59744.1785795\tbest: 59739.0669411 (3789)\ttotal: 18m 2s\tremaining: 45.1s\n3840:\tlearn: 17467.2014048\ttest: 59746.8217105\tbest: 59739.0669411 (3789)\ttotal: 18m 2s\tremaining: 44.8s\n3841:\tlearn: 17466.0109078\ttest: 59746.5797149\tbest: 59739.0669411 (3789)\ttotal: 18m 2s\tremaining: 44.5s\n3842:\tlearn: 17463.0423616\ttest: 59746.2575023\tbest: 59739.0669411 (3789)\ttotal: 18m 3s\tremaining: 44.3s\n3843:\tlearn: 17461.1955760\ttest: 59745.2666680\tbest: 59739.0669411 (3789)\ttotal: 18m 3s\tremaining: 44s\n3844:\tlearn: 17456.1280447\ttest: 59746.0182332\tbest: 59739.0669411 (3789)\ttotal: 18m 3s\tremaining: 43.7s\n3845:\tlearn: 17453.7466267\ttest: 59743.6406531\tbest: 59739.0669411 (3789)\ttotal: 18m 4s\tremaining: 43.4s\n3846:\tlearn: 17451.2358660\ttest: 59742.5023719\tbest: 59739.0669411 (3789)\ttotal: 18m 4s\tremaining: 43.1s\n3847:\tlearn: 17447.8041883\ttest: 59741.6274722\tbest: 59739.0669411 (3789)\ttotal: 18m 4s\tremaining: 42.9s\n3848:\tlearn: 17444.2646326\ttest: 59741.0788672\tbest: 59739.0669411 (3789)\ttotal: 18m 5s\tremaining: 42.6s\n3849:\tlearn: 17442.4835558\ttest: 59741.1611281\tbest: 59739.0669411 (3789)\ttotal: 18m 5s\tremaining: 42.3s\n3850:\tlearn: 17439.5988132\ttest: 59740.8247054\tbest: 59739.0669411 (3789)\ttotal: 18m 6s\tremaining: 42s\n3851:\tlearn: 17437.2752241\ttest: 59739.2967755\tbest: 59739.0669411 (3789)\ttotal: 18m 6s\tremaining: 41.7s\n3852:\tlearn: 17436.8576622\ttest: 59739.3185204\tbest: 59739.0669411 (3789)\ttotal: 18m 6s\tremaining: 41.5s\n3853:\tlearn: 17436.2989267\ttest: 59739.2768274\tbest: 59739.0669411 (3789)\ttotal: 18m 7s\tremaining: 41.2s\n3854:\tlearn: 17434.3563942\ttest: 59739.6452581\tbest: 59739.0669411 (3789)\ttotal: 18m 7s\tremaining: 40.9s\n3855:\tlearn: 17432.6766825\ttest: 59740.1728347\tbest: 59739.0669411 (3789)\ttotal: 18m 7s\tremaining: 40.6s\n3856:\tlearn: 17427.7508835\ttest: 59742.4672651\tbest: 59739.0669411 (3789)\ttotal: 18m 8s\tremaining: 40.3s\n3857:\tlearn: 17425.1214311\ttest: 59742.0292820\tbest: 59739.0669411 (3789)\ttotal: 18m 8s\tremaining: 40.1s\n3858:\tlearn: 17423.7099878\ttest: 59742.6039203\tbest: 59739.0669411 (3789)\ttotal: 18m 8s\tremaining: 39.8s\n3859:\tlearn: 17418.1409014\ttest: 59742.0330477\tbest: 59739.0669411 (3789)\ttotal: 18m 9s\tremaining: 39.5s\n3860:\tlearn: 17416.4262204\ttest: 59742.3437550\tbest: 59739.0669411 (3789)\ttotal: 18m 9s\tremaining: 39.2s\n3861:\tlearn: 17408.3997885\ttest: 59739.0222762\tbest: 59739.0222762 (3861)\ttotal: 18m 9s\tremaining: 38.9s\n3862:\tlearn: 17406.0260938\ttest: 59736.2099500\tbest: 59736.2099500 (3862)\ttotal: 18m 9s\tremaining: 38.7s\n3863:\tlearn: 17401.7530866\ttest: 59735.1903142\tbest: 59735.1903142 (3863)\ttotal: 18m 10s\tremaining: 38.4s\n3864:\tlearn: 17398.1684182\ttest: 59734.3654158\tbest: 59734.3654158 (3864)\ttotal: 18m 10s\tremaining: 38.1s\n3865:\tlearn: 17396.3272911\ttest: 59733.8357697\tbest: 59733.8357697 (3865)\ttotal: 18m 11s\tremaining: 37.8s\n3866:\tlearn: 17395.3182845\ttest: 59733.8838881\tbest: 59733.8357697 (3865)\ttotal: 18m 11s\tremaining: 37.5s\n3867:\tlearn: 17390.8603922\ttest: 59732.5174644\tbest: 59732.5174644 (3867)\ttotal: 18m 11s\tremaining: 37.3s\n3868:\tlearn: 17385.9978408\ttest: 59732.5642321\tbest: 59732.5174644 (3867)\ttotal: 18m 12s\tremaining: 37s\n3869:\tlearn: 17385.4921838\ttest: 59732.9165293\tbest: 59732.5174644 (3867)\ttotal: 18m 12s\tremaining: 36.7s\n3870:\tlearn: 17383.7650578\ttest: 59733.4669180\tbest: 59732.5174644 (3867)\ttotal: 18m 13s\tremaining: 36.4s\n3871:\tlearn: 17378.9092831\ttest: 59729.6939154\tbest: 59729.6939154 (3871)\ttotal: 18m 13s\tremaining: 36.2s\n3872:\tlearn: 17378.2641892\ttest: 59729.5984497\tbest: 59729.5984497 (3872)\ttotal: 18m 13s\tremaining: 35.9s\n3873:\tlearn: 17372.5733540\ttest: 59728.2571528\tbest: 59728.2571528 (3873)\ttotal: 18m 14s\tremaining: 35.6s\n3874:\tlearn: 17371.6878421\ttest: 59727.4992492\tbest: 59727.4992492 (3874)\ttotal: 18m 14s\tremaining: 35.3s\n3875:\tlearn: 17368.7402442\ttest: 59726.3876148\tbest: 59726.3876148 (3875)\ttotal: 18m 15s\tremaining: 35s\n3876:\tlearn: 17363.9517734\ttest: 59728.7526803\tbest: 59726.3876148 (3875)\ttotal: 18m 15s\tremaining: 34.8s\n3877:\tlearn: 17360.9662214\ttest: 59730.7905365\tbest: 59726.3876148 (3875)\ttotal: 18m 15s\tremaining: 34.5s\n3878:\tlearn: 17359.5540880\ttest: 59730.1301513\tbest: 59726.3876148 (3875)\ttotal: 18m 16s\tremaining: 34.2s\n3879:\tlearn: 17358.9886168\ttest: 59730.4148296\tbest: 59726.3876148 (3875)\ttotal: 18m 16s\tremaining: 33.9s\n3880:\tlearn: 17356.5807289\ttest: 59730.1170744\tbest: 59726.3876148 (3875)\ttotal: 18m 16s\tremaining: 33.6s\n3881:\tlearn: 17355.8966331\ttest: 59730.4673639\tbest: 59726.3876148 (3875)\ttotal: 18m 16s\tremaining: 33.3s\n3882:\tlearn: 17349.0861269\ttest: 59729.5400297\tbest: 59726.3876148 (3875)\ttotal: 18m 17s\tremaining: 33.1s\n3883:\tlearn: 17345.7330919\ttest: 59732.4228387\tbest: 59726.3876148 (3875)\ttotal: 18m 17s\tremaining: 32.8s\n3884:\tlearn: 17343.7743365\ttest: 59731.8230657\tbest: 59726.3876148 (3875)\ttotal: 18m 17s\tremaining: 32.5s\n3885:\tlearn: 17340.7395877\ttest: 59731.9749882\tbest: 59726.3876148 (3875)\ttotal: 18m 18s\tremaining: 32.2s\n3886:\tlearn: 17335.7784218\ttest: 59731.3599225\tbest: 59726.3876148 (3875)\ttotal: 18m 18s\tremaining: 31.9s\n3887:\tlearn: 17332.7105424\ttest: 59731.0218282\tbest: 59726.3876148 (3875)\ttotal: 18m 19s\tremaining: 31.7s\n3888:\tlearn: 17331.2551453\ttest: 59731.9269948\tbest: 59726.3876148 (3875)\ttotal: 18m 19s\tremaining: 31.4s\n3889:\tlearn: 17331.2096471\ttest: 59731.9298923\tbest: 59726.3876148 (3875)\ttotal: 18m 19s\tremaining: 31.1s\n3890:\tlearn: 17329.2219858\ttest: 59729.8706281\tbest: 59726.3876148 (3875)\ttotal: 18m 20s\tremaining: 30.8s\n3891:\tlearn: 17327.4505886\ttest: 59730.7088829\tbest: 59726.3876148 (3875)\ttotal: 18m 20s\tremaining: 30.5s\n3892:\tlearn: 17321.5230331\ttest: 59729.6729233\tbest: 59726.3876148 (3875)\ttotal: 18m 20s\tremaining: 30.3s\n3893:\tlearn: 17317.4836357\ttest: 59729.9361741\tbest: 59726.3876148 (3875)\ttotal: 18m 21s\tremaining: 30s\n3894:\tlearn: 17314.6422536\ttest: 59730.5859633\tbest: 59726.3876148 (3875)\ttotal: 18m 21s\tremaining: 29.7s\n3895:\tlearn: 17312.5324740\ttest: 59729.3822478\tbest: 59726.3876148 (3875)\ttotal: 18m 21s\tremaining: 29.4s\n3896:\tlearn: 17308.4639950\ttest: 59730.1285746\tbest: 59726.3876148 (3875)\ttotal: 18m 22s\tremaining: 29.1s\n3897:\tlearn: 17306.4938959\ttest: 59728.8312979\tbest: 59726.3876148 (3875)\ttotal: 18m 22s\tremaining: 28.8s\n3898:\tlearn: 17302.1349565\ttest: 59729.7485231\tbest: 59726.3876148 (3875)\ttotal: 18m 22s\tremaining: 28.6s\n3899:\tlearn: 17299.9838514\ttest: 59729.7094699\tbest: 59726.3876148 (3875)\ttotal: 18m 22s\tremaining: 28.3s\n3900:\tlearn: 17297.9443659\ttest: 59729.4958069\tbest: 59726.3876148 (3875)\ttotal: 18m 23s\tremaining: 28s\n3901:\tlearn: 17295.4743693\ttest: 59728.7277121\tbest: 59726.3876148 (3875)\ttotal: 18m 23s\tremaining: 27.7s\n3902:\tlearn: 17293.9989503\ttest: 59730.2331485\tbest: 59726.3876148 (3875)\ttotal: 18m 24s\tremaining: 27.4s\n3903:\tlearn: 17292.4335752\ttest: 59729.5102946\tbest: 59726.3876148 (3875)\ttotal: 18m 24s\tremaining: 27.2s\n3904:\tlearn: 17291.4683824\ttest: 59730.7153907\tbest: 59726.3876148 (3875)\ttotal: 18m 25s\tremaining: 26.9s\n3905:\tlearn: 17289.4713791\ttest: 59728.5055545\tbest: 59726.3876148 (3875)\ttotal: 18m 25s\tremaining: 26.6s\n3906:\tlearn: 17285.6087004\ttest: 59729.5686203\tbest: 59726.3876148 (3875)\ttotal: 18m 25s\tremaining: 26.3s\n3907:\tlearn: 17283.4500667\ttest: 59729.3435438\tbest: 59726.3876148 (3875)\ttotal: 18m 26s\tremaining: 26s\n3908:\tlearn: 17280.2539205\ttest: 59729.6795524\tbest: 59726.3876148 (3875)\ttotal: 18m 26s\tremaining: 25.8s\n3909:\tlearn: 17279.1018815\ttest: 59729.5033892\tbest: 59726.3876148 (3875)\ttotal: 18m 27s\tremaining: 25.5s\n3910:\tlearn: 17275.1832280\ttest: 59728.8005880\tbest: 59726.3876148 (3875)\ttotal: 18m 27s\tremaining: 25.2s\n3911:\tlearn: 17273.1240152\ttest: 59729.6992158\tbest: 59726.3876148 (3875)\ttotal: 18m 27s\tremaining: 24.9s\n3912:\tlearn: 17268.1152517\ttest: 59728.1889781\tbest: 59726.3876148 (3875)\ttotal: 18m 28s\tremaining: 24.6s\n3913:\tlearn: 17266.2725012\ttest: 59729.4026507\tbest: 59726.3876148 (3875)\ttotal: 18m 28s\tremaining: 24.4s\n3914:\tlearn: 17262.2368946\ttest: 59726.8813686\tbest: 59726.3876148 (3875)\ttotal: 18m 29s\tremaining: 24.1s\n3915:\tlearn: 17257.1203859\ttest: 59721.0366158\tbest: 59721.0366158 (3915)\ttotal: 18m 29s\tremaining: 23.8s\n3916:\tlearn: 17250.9957549\ttest: 59719.1472121\tbest: 59719.1472121 (3916)\ttotal: 18m 29s\tremaining: 23.5s\n3917:\tlearn: 17248.1451316\ttest: 59717.1371070\tbest: 59717.1371070 (3917)\ttotal: 18m 30s\tremaining: 23.2s\n3918:\tlearn: 17246.7263501\ttest: 59716.6200612\tbest: 59716.6200612 (3918)\ttotal: 18m 30s\tremaining: 23s\n3919:\tlearn: 17243.9463501\ttest: 59717.1136031\tbest: 59716.6200612 (3918)\ttotal: 18m 30s\tremaining: 22.7s\n3920:\tlearn: 17241.4141982\ttest: 59717.7907231\tbest: 59716.6200612 (3918)\ttotal: 18m 31s\tremaining: 22.4s\n3921:\tlearn: 17238.1620500\ttest: 59716.1746562\tbest: 59716.1746562 (3921)\ttotal: 18m 31s\tremaining: 22.1s\n3922:\tlearn: 17234.8750656\ttest: 59716.2342450\tbest: 59716.1746562 (3921)\ttotal: 18m 32s\tremaining: 21.8s\n3923:\tlearn: 17232.5496479\ttest: 59713.1093961\tbest: 59713.1093961 (3923)\ttotal: 18m 32s\tremaining: 21.5s\n3924:\tlearn: 17228.0103876\ttest: 59711.7664875\tbest: 59711.7664875 (3924)\ttotal: 18m 32s\tremaining: 21.3s\n3925:\tlearn: 17226.2696504\ttest: 59711.9702422\tbest: 59711.7664875 (3924)\ttotal: 18m 32s\tremaining: 21s\n3926:\tlearn: 17223.6699650\ttest: 59709.2904773\tbest: 59709.2904773 (3926)\ttotal: 18m 33s\tremaining: 20.7s\n3927:\tlearn: 17221.8974283\ttest: 59709.2474716\tbest: 59709.2474716 (3927)\ttotal: 18m 33s\tremaining: 20.4s\n3928:\tlearn: 17218.8159240\ttest: 59707.5405465\tbest: 59707.5405465 (3928)\ttotal: 18m 34s\tremaining: 20.1s\n3929:\tlearn: 17216.6630702\ttest: 59708.6522484\tbest: 59707.5405465 (3928)\ttotal: 18m 34s\tremaining: 19.9s\n3930:\tlearn: 17212.8208651\ttest: 59708.3006873\tbest: 59707.5405465 (3928)\ttotal: 18m 35s\tremaining: 19.6s\n3931:\tlearn: 17211.3582205\ttest: 59707.5965045\tbest: 59707.5405465 (3928)\ttotal: 18m 35s\tremaining: 19.3s\n3932:\tlearn: 17208.5192559\ttest: 59706.8205833\tbest: 59706.8205833 (3932)\ttotal: 18m 35s\tremaining: 19s\n3933:\tlearn: 17205.5411413\ttest: 59705.1334059\tbest: 59705.1334059 (3933)\ttotal: 18m 36s\tremaining: 18.7s\n3934:\tlearn: 17202.3442631\ttest: 59702.3946163\tbest: 59702.3946163 (3934)\ttotal: 18m 36s\tremaining: 18.4s\n3935:\tlearn: 17199.6912064\ttest: 59702.2700304\tbest: 59702.2700304 (3935)\ttotal: 18m 37s\tremaining: 18.2s\n3936:\tlearn: 17196.2504346\ttest: 59703.8330692\tbest: 59702.2700304 (3935)\ttotal: 18m 37s\tremaining: 17.9s\n3937:\tlearn: 17195.0199173\ttest: 59704.6916985\tbest: 59702.2700304 (3935)\ttotal: 18m 38s\tremaining: 17.6s\n3938:\tlearn: 17192.3896999\ttest: 59705.4746174\tbest: 59702.2700304 (3935)\ttotal: 18m 38s\tremaining: 17.3s\n3939:\tlearn: 17186.1895540\ttest: 59706.0671236\tbest: 59702.2700304 (3935)\ttotal: 18m 38s\tremaining: 17s\n3940:\tlearn: 17183.5957876\ttest: 59705.4558144\tbest: 59702.2700304 (3935)\ttotal: 18m 38s\tremaining: 16.7s\n3941:\tlearn: 17180.8973938\ttest: 59705.5541092\tbest: 59702.2700304 (3935)\ttotal: 18m 39s\tremaining: 16.5s\n3942:\tlearn: 17178.7845468\ttest: 59706.0678281\tbest: 59702.2700304 (3935)\ttotal: 18m 39s\tremaining: 16.2s\n3943:\tlearn: 17172.4627846\ttest: 59701.7697026\tbest: 59701.7697026 (3943)\ttotal: 18m 40s\tremaining: 15.9s\n3944:\tlearn: 17170.7818495\ttest: 59701.8907511\tbest: 59701.7697026 (3943)\ttotal: 18m 40s\tremaining: 15.6s\n3945:\tlearn: 17167.6550979\ttest: 59702.0548352\tbest: 59701.7697026 (3943)\ttotal: 18m 40s\tremaining: 15.3s\n3946:\tlearn: 17164.2578187\ttest: 59701.0676426\tbest: 59701.0676426 (3946)\ttotal: 18m 41s\tremaining: 15.1s\n3947:\tlearn: 17158.0564178\ttest: 59699.1486344\tbest: 59699.1486344 (3947)\ttotal: 18m 41s\tremaining: 14.8s\n3948:\tlearn: 17153.0483517\ttest: 59697.6446611\tbest: 59697.6446611 (3948)\ttotal: 18m 42s\tremaining: 14.5s\n3949:\tlearn: 17152.2663857\ttest: 59697.1562097\tbest: 59697.1562097 (3949)\ttotal: 18m 42s\tremaining: 14.2s\n3950:\tlearn: 17148.6404020\ttest: 59698.5221157\tbest: 59697.1562097 (3949)\ttotal: 18m 43s\tremaining: 13.9s\n3951:\tlearn: 17146.0619770\ttest: 59698.4907189\tbest: 59697.1562097 (3949)\ttotal: 18m 43s\tremaining: 13.6s\n3952:\tlearn: 17142.9643930\ttest: 59696.8009117\tbest: 59696.8009117 (3952)\ttotal: 18m 43s\tremaining: 13.4s\n3953:\tlearn: 17140.1885820\ttest: 59698.0531386\tbest: 59696.8009117 (3952)\ttotal: 18m 44s\tremaining: 13.1s\n3954:\tlearn: 17137.7539351\ttest: 59697.1807718\tbest: 59696.8009117 (3952)\ttotal: 18m 44s\tremaining: 12.8s\n3955:\tlearn: 17130.4638698\ttest: 59698.3801923\tbest: 59696.8009117 (3952)\ttotal: 18m 45s\tremaining: 12.5s\n3956:\tlearn: 17126.6324797\ttest: 59697.3501190\tbest: 59696.8009117 (3952)\ttotal: 18m 45s\tremaining: 12.2s\n3957:\tlearn: 17125.4638774\ttest: 59697.1890518\tbest: 59696.8009117 (3952)\ttotal: 18m 45s\tremaining: 11.9s\n3958:\tlearn: 17123.8508280\ttest: 59696.9576656\tbest: 59696.8009117 (3952)\ttotal: 18m 46s\tremaining: 11.7s\n3959:\tlearn: 17121.5399658\ttest: 59695.7111742\tbest: 59695.7111742 (3959)\ttotal: 18m 46s\tremaining: 11.4s\n3960:\tlearn: 17112.7974080\ttest: 59695.3753874\tbest: 59695.3753874 (3960)\ttotal: 18m 46s\tremaining: 11.1s\n3961:\tlearn: 17110.2464339\ttest: 59695.8556852\tbest: 59695.3753874 (3960)\ttotal: 18m 47s\tremaining: 10.8s\n3962:\tlearn: 17109.0944559\ttest: 59697.0150014\tbest: 59695.3753874 (3960)\ttotal: 18m 47s\tremaining: 10.5s\n3963:\tlearn: 17106.6882002\ttest: 59697.2059666\tbest: 59695.3753874 (3960)\ttotal: 18m 47s\tremaining: 10.2s\n3964:\tlearn: 17104.3375924\ttest: 59696.9491654\tbest: 59695.3753874 (3960)\ttotal: 18m 48s\tremaining: 9.96s\n3965:\tlearn: 17102.7560124\ttest: 59697.1167997\tbest: 59695.3753874 (3960)\ttotal: 18m 48s\tremaining: 9.68s\n3966:\tlearn: 17098.9540142\ttest: 59697.3782702\tbest: 59695.3753874 (3960)\ttotal: 18m 48s\tremaining: 9.39s\n3967:\tlearn: 17096.8466525\ttest: 59695.8552744\tbest: 59695.3753874 (3960)\ttotal: 18m 49s\tremaining: 9.11s\n3968:\tlearn: 17096.4011220\ttest: 59695.6465974\tbest: 59695.3753874 (3960)\ttotal: 18m 49s\tremaining: 8.82s\n3969:\tlearn: 17090.3252738\ttest: 59695.3365090\tbest: 59695.3365090 (3969)\ttotal: 18m 49s\tremaining: 8.54s\n3970:\tlearn: 17086.8520914\ttest: 59695.3970748\tbest: 59695.3365090 (3969)\ttotal: 18m 50s\tremaining: 8.25s\n3971:\tlearn: 17082.2245868\ttest: 59691.4929959\tbest: 59691.4929959 (3971)\ttotal: 18m 50s\tremaining: 7.97s\n3972:\tlearn: 17076.8842145\ttest: 59690.9274987\tbest: 59690.9274987 (3972)\ttotal: 18m 50s\tremaining: 7.68s\n3973:\tlearn: 17076.1429134\ttest: 59690.8560445\tbest: 59690.8560445 (3973)\ttotal: 18m 51s\tremaining: 7.4s\n3974:\tlearn: 17074.8333248\ttest: 59690.4675001\tbest: 59690.4675001 (3974)\ttotal: 18m 51s\tremaining: 7.12s\n3975:\tlearn: 17070.9207534\ttest: 59689.2669126\tbest: 59689.2669126 (3975)\ttotal: 18m 51s\tremaining: 6.83s\n3976:\tlearn: 17069.1767585\ttest: 59688.5792456\tbest: 59688.5792456 (3976)\ttotal: 18m 52s\tremaining: 6.55s\n3977:\tlearn: 17066.4805084\ttest: 59687.3960638\tbest: 59687.3960638 (3977)\ttotal: 18m 52s\tremaining: 6.26s\n3978:\tlearn: 17065.2022418\ttest: 59686.7640056\tbest: 59686.7640056 (3978)\ttotal: 18m 53s\tremaining: 5.98s\n3979:\tlearn: 17063.1887689\ttest: 59686.8831977\tbest: 59686.7640056 (3978)\ttotal: 18m 53s\tremaining: 5.7s\n3980:\tlearn: 17059.3669162\ttest: 59686.2558054\tbest: 59686.2558054 (3980)\ttotal: 18m 53s\tremaining: 5.41s\n3981:\tlearn: 17056.5835202\ttest: 59684.5773456\tbest: 59684.5773456 (3981)\ttotal: 18m 54s\tremaining: 5.13s\n3982:\tlearn: 17052.1165592\ttest: 59682.3125257\tbest: 59682.3125257 (3982)\ttotal: 18m 54s\tremaining: 4.84s\n3983:\tlearn: 17050.3523248\ttest: 59682.6365833\tbest: 59682.3125257 (3982)\ttotal: 18m 55s\tremaining: 4.56s\n3984:\tlearn: 17045.0321084\ttest: 59683.2436978\tbest: 59682.3125257 (3982)\ttotal: 18m 55s\tremaining: 4.27s\n3985:\tlearn: 17042.8350925\ttest: 59683.5256590\tbest: 59682.3125257 (3982)\ttotal: 18m 55s\tremaining: 3.99s\n3986:\tlearn: 17039.9756864\ttest: 59683.1624840\tbest: 59682.3125257 (3982)\ttotal: 18m 56s\tremaining: 3.7s\n3987:\tlearn: 17036.7346852\ttest: 59682.4141581\tbest: 59682.3125257 (3982)\ttotal: 18m 56s\tremaining: 3.42s\n3988:\tlearn: 17032.6313793\ttest: 59682.6199911\tbest: 59682.3125257 (3982)\ttotal: 18m 56s\tremaining: 3.13s\n3989:\tlearn: 17029.3772685\ttest: 59682.4190456\tbest: 59682.3125257 (3982)\ttotal: 18m 57s\tremaining: 2.85s\n3990:\tlearn: 17027.2761712\ttest: 59682.0588977\tbest: 59682.0588977 (3990)\ttotal: 18m 57s\tremaining: 2.56s\n3991:\tlearn: 17023.8021538\ttest: 59682.5781981\tbest: 59682.0588977 (3990)\ttotal: 18m 57s\tremaining: 2.28s\n3992:\tlearn: 17019.8469234\ttest: 59681.3674956\tbest: 59681.3674956 (3992)\ttotal: 18m 58s\tremaining: 2s\n3993:\tlearn: 17016.8574440\ttest: 59679.9645621\tbest: 59679.9645621 (3993)\ttotal: 18m 58s\tremaining: 1.71s\n3994:\tlearn: 17015.4521444\ttest: 59678.4812394\tbest: 59678.4812394 (3994)\ttotal: 18m 59s\tremaining: 1.43s\n3995:\tlearn: 17013.5743929\ttest: 59677.8251048\tbest: 59677.8251048 (3995)\ttotal: 18m 59s\tremaining: 1.14s\n3996:\tlearn: 17012.5054063\ttest: 59678.2450361\tbest: 59677.8251048 (3995)\ttotal: 18m 59s\tremaining: 856ms\n3997:\tlearn: 17011.2607206\ttest: 59678.5291658\tbest: 59677.8251048 (3995)\ttotal: 19m\tremaining: 570ms\n3998:\tlearn: 17004.4378292\ttest: 59677.8562016\tbest: 59677.8251048 (3995)\ttotal: 19m\tremaining: 285ms\n3999:\tlearn: 17003.5038605\ttest: 59677.6303852\tbest: 59677.6303852 (3999)\ttotal: 19m\tremaining: 0us\n\nbestTest = 59677.63039\nbestIteration = 3999\n\n",
     "output_type": "stream"
    },
    {
     "output_type": "execute_result",
     "execution_count": 52,
     "data": {
      "text/plain": "<catboost.core.CatBoostRegressor at 0x7f812bb90070>"
     },
     "metadata": {}
    }
   ],
   "execution_count": null
  },
  {
   "cell_type": "code",
   "metadata": {
    "tags": [],
    "deepnote_to_be_reexecuted": false,
    "source_hash": "432fb887",
    "execution_start": 1637359684819,
    "execution_millis": 8331,
    "deepnote_output_heights": [
     null,
     21.1875
    ],
    "cell_id": "00038-ff6351f2-d730-4726-a89b-8b34a2b77bc9",
    "deepnote_cell_type": "code"
   },
   "source": "print(model.score(X_train, y_train))\nfrom sklearn.metrics import r2_score\n\ny_pred = model.predict(X_val)\ny_pred = y_pred.astype(float)\nprint(model.score(X_val, y_val)), print(r2_score(y_pred, model.predict(X_val)))",
   "outputs": [
    {
     "name": "stdout",
     "text": "0.9577640996187795\n0.8594434534949332\n1.0\n",
     "output_type": "stream"
    },
    {
     "output_type": "execute_result",
     "execution_count": 53,
     "data": {
      "text/plain": "(None, None)"
     },
     "metadata": {}
    }
   ],
   "execution_count": null
  },
  {
   "cell_type": "code",
   "metadata": {
    "tags": [],
    "deepnote_to_be_reexecuted": false,
    "source_hash": "949a2162",
    "execution_start": 1637359697903,
    "execution_millis": 304,
    "cell_id": "00039-8e45f777-bb8d-4e37-b763-686c58cbbb62",
    "deepnote_cell_type": "code"
   },
   "source": "df=pd.DataFrame({'Actual': y_val, 'Predicted':y_pred})\ndf",
   "outputs": [
    {
     "output_type": "execute_result",
     "execution_count": 54,
     "data": {
      "application/vnd.deepnote.dataframe.v2+json": {
       "row_count": 4648,
       "column_count": 2,
       "columns": [
        {
         "name": "Actual",
         "dtype": "float64",
         "stats": {
          "unique_count": 3892,
          "nan_count": 0,
          "min": "53846.153846153844",
          "max": "1671453.8959276017",
          "histogram": [
           {
            "bin_start": 53846.153846153844,
            "bin_end": 215606.92805429865,
            "count": 2786
           },
           {
            "bin_start": 215606.92805429865,
            "bin_end": 377367.7022624435,
            "count": 1322
           },
           {
            "bin_start": 377367.7022624435,
            "bin_end": 539128.4764705882,
            "count": 309
           },
           {
            "bin_start": 539128.4764705882,
            "bin_end": 700889.2506787331,
            "count": 106
           },
           {
            "bin_start": 700889.2506787331,
            "bin_end": 862650.0248868779,
            "count": 63
           },
           {
            "bin_start": 862650.0248868779,
            "bin_end": 1024410.7990950227,
            "count": 31
           },
           {
            "bin_start": 1024410.7990950227,
            "bin_end": 1186171.5733031675,
            "count": 9
           },
           {
            "bin_start": 1186171.5733031675,
            "bin_end": 1347932.3475113122,
            "count": 12
           },
           {
            "bin_start": 1347932.3475113122,
            "bin_end": 1509693.121719457,
            "count": 7
           },
           {
            "bin_start": 1509693.121719457,
            "bin_end": 1671453.8959276017,
            "count": 3
           }
          ]
         }
        },
        {
         "name": "Predicted",
         "dtype": "float64",
         "stats": {
          "unique_count": 4615,
          "nan_count": 0,
          "min": "54705.18046555846",
          "max": "1364099.1647328304",
          "histogram": [
           {
            "bin_start": 54705.18046555846,
            "bin_end": 185644.57889228564,
            "count": 1909
           },
           {
            "bin_start": 185644.57889228564,
            "bin_end": 316583.97731901286,
            "count": 1917
           },
           {
            "bin_start": 316583.97731901286,
            "bin_end": 447523.37574574,
            "count": 409
           },
           {
            "bin_start": 447523.37574574,
            "bin_end": 578462.7741724672,
            "count": 201
           },
           {
            "bin_start": 578462.7741724672,
            "bin_end": 709402.1725991943,
            "count": 101
           },
           {
            "bin_start": 709402.1725991943,
            "bin_end": 840341.5710259216,
            "count": 72
           },
           {
            "bin_start": 840341.5710259216,
            "bin_end": 971280.9694526488,
            "count": 17
           },
           {
            "bin_start": 971280.9694526488,
            "bin_end": 1102220.367879376,
            "count": 15
           },
           {
            "bin_start": 1102220.367879376,
            "bin_end": 1233159.7663061032,
            "count": 5
           },
           {
            "bin_start": 1233159.7663061032,
            "bin_end": 1364099.1647328304,
            "count": 2
           }
          ]
         }
        },
        {
         "name": "_deepnote_index_column",
         "dtype": "int64"
        }
       ],
       "rows_top": [
        {
         "Actual": 200000,
         "Predicted": 203684.69739992445,
         "_deepnote_index_column": 17722
        },
        {
         "Actual": 118300.00000000001,
         "Predicted": 120042.59375601856,
         "_deepnote_index_column": 10791
        },
        {
         "Actual": 182400,
         "Predicted": 176922.22866235606,
         "_deepnote_index_column": 13285
        },
        {
         "Actual": 195876.28865979382,
         "Predicted": 175795.71967897605,
         "_deepnote_index_column": 14456
        },
        {
         "Actual": 91836.73469387754,
         "Predicted": 107637.02457420525,
         "_deepnote_index_column": 2329
        },
        {
         "Actual": 184369.9990460746,
         "Predicted": 195164.9686553423,
         "_deepnote_index_column": 8357
        },
        {
         "Actual": 639947.6989247312,
         "Predicted": 593798.7141590718,
         "_deepnote_index_column": 16751
        },
        {
         "Actual": 180899.0014684288,
         "Predicted": 180927.75640387647,
         "_deepnote_index_column": 1475
        },
        {
         "Actual": 589743.5897435897,
         "Predicted": 564074.4433374841,
         "_deepnote_index_column": 10859
        },
        {
         "Actual": 236900,
         "Predicted": 253098.51325200064,
         "_deepnote_index_column": 1427
        },
        {
         "Actual": 157800,
         "Predicted": 163000.10435066395,
         "_deepnote_index_column": 4501
        },
        {
         "Actual": 116500,
         "Predicted": 124618.1537254254,
         "_deepnote_index_column": 246
        },
        {
         "Actual": 303000,
         "Predicted": 386718.888611024,
         "_deepnote_index_column": 15752
        },
        {
         "Actual": 229281.7679558011,
         "Predicted": 199129.3461001598,
         "_deepnote_index_column": 16317
        },
        {
         "Actual": 199971.83869897114,
         "Predicted": 204720.92009325873,
         "_deepnote_index_column": 14921
        },
        {
         "Actual": 265200.5174644243,
         "Predicted": 242944.5601754511,
         "_deepnote_index_column": 5283
        },
        {
         "Actual": 197699.99999999997,
         "Predicted": 173927.5772122841,
         "_deepnote_index_column": 21858
        },
        {
         "Actual": 214473.68421052632,
         "Predicted": 203105.5378247117,
         "_deepnote_index_column": 12893
        },
        {
         "Actual": 170000,
         "Predicted": 174352.21820447725,
         "_deepnote_index_column": 1804
        },
        {
         "Actual": 145000,
         "Predicted": 172664.85297190983,
         "_deepnote_index_column": 15289
        },
        {
         "Actual": 243770.30162412993,
         "Predicted": 252516.85145508702,
         "_deepnote_index_column": 6525
        },
        {
         "Actual": 509090.9090909091,
         "Predicted": 445723.0422925578,
         "_deepnote_index_column": 1270
        },
        {
         "Actual": 200944.46322907862,
         "Predicted": 203979.20394798944,
         "_deepnote_index_column": 5696
        },
        {
         "Actual": 230357.14285714287,
         "Predicted": 244525.951047111,
         "_deepnote_index_column": 17822
        },
        {
         "Actual": 231379.99685732243,
         "Predicted": 279120.95251182176,
         "_deepnote_index_column": 2072
        },
        {
         "Actual": 193600.00000000003,
         "Predicted": 179478.3093899454,
         "_deepnote_index_column": 20918
        },
        {
         "Actual": 407894.7368421053,
         "Predicted": 369325.40473456023,
         "_deepnote_index_column": 1251
        },
        {
         "Actual": 468750,
         "Predicted": 615841.8613194926,
         "_deepnote_index_column": 3008
        },
        {
         "Actual": 205800,
         "Predicted": 208992.43629594127,
         "_deepnote_index_column": 12322
        },
        {
         "Actual": 200000,
         "Predicted": 196494.85608870297,
         "_deepnote_index_column": 19199
        },
        {
         "Actual": 209864.70731707316,
         "Predicted": 226453.0360282428,
         "_deepnote_index_column": 13993
        },
        {
         "Actual": 180434.78260869565,
         "Predicted": 181896.71534561965,
         "_deepnote_index_column": 14258
        },
        {
         "Actual": 180672.26890756303,
         "Predicted": 199393.628260927,
         "_deepnote_index_column": 18914
        },
        {
         "Actual": 218991.3544668588,
         "Predicted": 266052.75421665155,
         "_deepnote_index_column": 993
        },
        {
         "Actual": 124775.71100917431,
         "Predicted": 138405.8623626895,
         "_deepnote_index_column": 20169
        },
        {
         "Actual": 189923.95437262356,
         "Predicted": 181864.79659106166,
         "_deepnote_index_column": 8775
        },
        {
         "Actual": 165714.2857142857,
         "Predicted": 144092.74086293956,
         "_deepnote_index_column": 4355
        },
        {
         "Actual": 225000,
         "Predicted": 214653.50708188457,
         "_deepnote_index_column": 3946
        },
        {
         "Actual": 159090.9090909091,
         "Predicted": 154490.52488285024,
         "_deepnote_index_column": 21617
        },
        {
         "Actual": 267000,
         "Predicted": 282920.0725692424,
         "_deepnote_index_column": 7040
        },
        {
         "Actual": 354477.6119402985,
         "Predicted": 326363.0411025155,
         "_deepnote_index_column": 16401
        },
        {
         "Actual": 116920.23474178404,
         "Predicted": 114078.68892802912,
         "_deepnote_index_column": 5604
        },
        {
         "Actual": 437823.83419689117,
         "Predicted": 597945.9357919793,
         "_deepnote_index_column": 7157
        },
        {
         "Actual": 143712.5748502994,
         "Predicted": 175142.6480832541,
         "_deepnote_index_column": 18600
        },
        {
         "Actual": 137209.3023255814,
         "Predicted": 137718.86486749141,
         "_deepnote_index_column": 20190
        },
        {
         "Actual": 160256.41025641025,
         "Predicted": 174146.23500540425,
         "_deepnote_index_column": 7367
        },
        {
         "Actual": 273000,
         "Predicted": 272070.4810177847,
         "_deepnote_index_column": 11945
        },
        {
         "Actual": 328658.9005930778,
         "Predicted": 327755.1886292406,
         "_deepnote_index_column": 481
        },
        {
         "Actual": 207547.16981132075,
         "Predicted": 241360.37564006724,
         "_deepnote_index_column": 16688
        },
        {
         "Actual": 336538.46153846156,
         "Predicted": 287786.2500563787,
         "_deepnote_index_column": 12998
        },
        {
         "Actual": 223333.33333333334,
         "Predicted": 235006.3995203198,
         "_deepnote_index_column": 2578
        },
        {
         "Actual": 104000,
         "Predicted": 119194.44933663208,
         "_deepnote_index_column": 22358
        },
        {
         "Actual": 225531.89361702127,
         "Predicted": 228484.72346158145,
         "_deepnote_index_column": 7915
        },
        {
         "Actual": 174048.00718132855,
         "Predicted": 160729.75076852995,
         "_deepnote_index_column": 21127
        },
        {
         "Actual": 213200,
         "Predicted": 196758.96162726101,
         "_deepnote_index_column": 9946
        },
        {
         "Actual": 96721.31147540984,
         "Predicted": 100208.32413112331,
         "_deepnote_index_column": 8224
        },
        {
         "Actual": 182300,
         "Predicted": 173147.8592980566,
         "_deepnote_index_column": 1945
        },
        {
         "Actual": 153225.8064516129,
         "Predicted": 175287.3638158444,
         "_deepnote_index_column": 16934
        },
        {
         "Actual": 150384.61538461538,
         "Predicted": 163053.6815839612,
         "_deepnote_index_column": 22004
        },
        {
         "Actual": 292307.6923076923,
         "Predicted": 246091.18976176326,
         "_deepnote_index_column": 8060
        },
        {
         "Actual": 161706.3492063492,
         "Predicted": 170085.72430002817,
         "_deepnote_index_column": 18511
        },
        {
         "Actual": 174000,
         "Predicted": 180512.56397429382,
         "_deepnote_index_column": 1925
        },
        {
         "Actual": 60329.0676416819,
         "Predicted": 54705.18046555846,
         "_deepnote_index_column": 8178
        },
        {
         "Actual": 219017.09401709403,
         "Predicted": 218909.50429258397,
         "_deepnote_index_column": 7597
        },
        {
         "Actual": 225974.02597402598,
         "Predicted": 236434.28914222095,
         "_deepnote_index_column": 4862
        },
        {
         "Actual": 207200,
         "Predicted": 225013.22378959766,
         "_deepnote_index_column": 6607
        },
        {
         "Actual": 168000.00000000003,
         "Predicted": 177521.3930414026,
         "_deepnote_index_column": 2939
        },
        {
         "Actual": 142500,
         "Predicted": 144191.3196975083,
         "_deepnote_index_column": 18736
        },
        {
         "Actual": 433333.3333333333,
         "Predicted": 449222.02463804465,
         "_deepnote_index_column": 3337
        },
        {
         "Actual": 116753.92670157069,
         "Predicted": 132407.54283940923,
         "_deepnote_index_column": 227
        },
        {
         "Actual": 243333.33333333334,
         "Predicted": 236385.24630502457,
         "_deepnote_index_column": 17962
        },
        {
         "Actual": 118518.51851851853,
         "Predicted": 129435.43670198196,
         "_deepnote_index_column": 4230
        },
        {
         "Actual": 147500,
         "Predicted": 154842.1473688623,
         "_deepnote_index_column": 14919
        },
        {
         "Actual": 85735.9635811836,
         "Predicted": 104355.01369616124,
         "_deepnote_index_column": 13718
        },
        {
         "Actual": 172222.22222222222,
         "Predicted": 193378.94534696284,
         "_deepnote_index_column": 19704
        },
        {
         "Actual": 191891.8918918919,
         "Predicted": 215373.2114122575,
         "_deepnote_index_column": 17853
        },
        {
         "Actual": 133333.33333333334,
         "Predicted": 153502.07505328848,
         "_deepnote_index_column": 4714
        },
        {
         "Actual": 218814.84897394513,
         "Predicted": 271800.0354050883,
         "_deepnote_index_column": 11969
        },
        {
         "Actual": 348837.20930232556,
         "Predicted": 269753.1136928645,
         "_deepnote_index_column": 19396
        },
        {
         "Actual": 219000,
         "Predicted": 219721.27745863024,
         "_deepnote_index_column": 20460
        },
        {
         "Actual": 148846.9601677149,
         "Predicted": 158057.7312871958,
         "_deepnote_index_column": 22892
        },
        {
         "Actual": 85144.92753623187,
         "Predicted": 150040.83659592643,
         "_deepnote_index_column": 8222
        },
        {
         "Actual": 549636.6083445492,
         "Predicted": 538460.5795099292,
         "_deepnote_index_column": 17491
        },
        {
         "Actual": 193750,
         "Predicted": 174079.448036458,
         "_deepnote_index_column": 5388
        },
        {
         "Actual": 151138.98186889818,
         "Predicted": 163049.29817452934,
         "_deepnote_index_column": 11352
        },
        {
         "Actual": 177083.33333333334,
         "Predicted": 202104.13346457935,
         "_deepnote_index_column": 10620
        },
        {
         "Actual": 154700,
         "Predicted": 150980.4314301893,
         "_deepnote_index_column": 21682
        },
        {
         "Actual": 145000,
         "Predicted": 137643.0846188508,
         "_deepnote_index_column": 21310
        },
        {
         "Actual": 267459.1381872214,
         "Predicted": 304290.3458528056,
         "_deepnote_index_column": 14582
        },
        {
         "Actual": 200000,
         "Predicted": 215557.4298969501,
         "_deepnote_index_column": 11450
        },
        {
         "Actual": 256999.99999999997,
         "Predicted": 257042.08309447704,
         "_deepnote_index_column": 18333
        },
        {
         "Actual": 130000,
         "Predicted": 150747.93776708315,
         "_deepnote_index_column": 17140
        },
        {
         "Actual": 164414.4144144144,
         "Predicted": 159727.27969942513,
         "_deepnote_index_column": 8390
        },
        {
         "Actual": 180000,
         "Predicted": 214255.42225537307,
         "_deepnote_index_column": 4405
        },
        {
         "Actual": 157100,
         "Predicted": 156389.89859659516,
         "_deepnote_index_column": 21853
        },
        {
         "Actual": 510562.4742268041,
         "Predicted": 411667.3300912642,
         "_deepnote_index_column": 10890
        },
        {
         "Actual": 267631.8622174381,
         "Predicted": 247532.2417767419,
         "_deepnote_index_column": 22416
        },
        {
         "Actual": 633356.8538011695,
         "Predicted": 616625.8666547076,
         "_deepnote_index_column": 2802
        },
        {
         "Actual": 216666.66666666666,
         "Predicted": 225976.237795475,
         "_deepnote_index_column": 4841
        },
        {
         "Actual": 220930.23255813954,
         "Predicted": 263767.42672630516,
         "_deepnote_index_column": 551
        },
        {
         "Actual": 145121.9512195122,
         "Predicted": 142625.79707385256,
         "_deepnote_index_column": 18058
        },
        {
         "Actual": 155000,
         "Predicted": 163392.21201777714,
         "_deepnote_index_column": 5661
        },
        {
         "Actual": 156500,
         "Predicted": 150280.99324113125,
         "_deepnote_index_column": 11592
        },
        {
         "Actual": 189000,
         "Predicted": 199693.34842786271,
         "_deepnote_index_column": 22512
        },
        {
         "Actual": 133293.6344537815,
         "Predicted": 143249.66867158728,
         "_deepnote_index_column": 6260
        },
        {
         "Actual": 150862.06896551725,
         "Predicted": 204553.67428994208,
         "_deepnote_index_column": 6000
        },
        {
         "Actual": 184300,
         "Predicted": 179046.22298874147,
         "_deepnote_index_column": 22881
        },
        {
         "Actual": 244500.00000000003,
         "Predicted": 248731.31989668726,
         "_deepnote_index_column": 1541
        },
        {
         "Actual": 168000,
         "Predicted": 192977.31352541666,
         "_deepnote_index_column": 6927
        },
        {
         "Actual": 512500,
         "Predicted": 489951.5429552258,
         "_deepnote_index_column": 5344
        },
        {
         "Actual": 188976.37795275592,
         "Predicted": 226449.76433672,
         "_deepnote_index_column": 5034
        },
        {
         "Actual": 347725.24544179527,
         "Predicted": 328704.163714386,
         "_deepnote_index_column": 15361
        },
        {
         "Actual": 163017.0316301703,
         "Predicted": 177775.73698622105,
         "_deepnote_index_column": 10679
        },
        {
         "Actual": 185714.2857142857,
         "Predicted": 202373.68262094783,
         "_deepnote_index_column": 16970
        },
        {
         "Actual": 220430.1075268817,
         "Predicted": 287870.36205334944,
         "_deepnote_index_column": 5312
        },
        {
         "Actual": 148126.36165577342,
         "Predicted": 142823.2656257645,
         "_deepnote_index_column": 9428
        },
        {
         "Actual": 163888.88888888888,
         "Predicted": 170195.54458171592,
         "_deepnote_index_column": 3860
        },
        {
         "Actual": 114114.992,
         "Predicted": 113095.54667201274,
         "_deepnote_index_column": 5593
        },
        {
         "Actual": 138888.88888888888,
         "Predicted": 157796.46887115855,
         "_deepnote_index_column": 10543
        },
        {
         "Actual": 298210.7355864811,
         "Predicted": 279830.40528667637,
         "_deepnote_index_column": 22486
        },
        {
         "Actual": 118100,
         "Predicted": 115922.31213046856,
         "_deepnote_index_column": 17288
        },
        {
         "Actual": 127586.20689655172,
         "Predicted": 145204.17932358495,
         "_deepnote_index_column": 18342
        },
        {
         "Actual": 235000,
         "Predicted": 201867.50928289443,
         "_deepnote_index_column": 20474
        },
        {
         "Actual": 169076.92307692306,
         "Predicted": 199404.09270434035,
         "_deepnote_index_column": 12971
        },
        {
         "Actual": 176666.66666666666,
         "Predicted": 166992.34387679922,
         "_deepnote_index_column": 5985
        },
        {
         "Actual": 381388.2532418002,
         "Predicted": 460904.15006697003,
         "_deepnote_index_column": 17204
        },
        {
         "Actual": 234945.70582428432,
         "Predicted": 271293.2337344354,
         "_deepnote_index_column": 19157
        },
        {
         "Actual": 406504.0650406504,
         "Predicted": 537008.3094938234,
         "_deepnote_index_column": 3291
        },
        {
         "Actual": 228571.42857142858,
         "Predicted": 234355.52372398163,
         "_deepnote_index_column": 2887
        },
        {
         "Actual": 127536.23188405797,
         "Predicted": 149943.4706841556,
         "_deepnote_index_column": 5794
        },
        {
         "Actual": 191100,
         "Predicted": 196448.18867084646,
         "_deepnote_index_column": 456
        },
        {
         "Actual": 276296.90036900365,
         "Predicted": 262178.8734889206,
         "_deepnote_index_column": 1524
        },
        {
         "Actual": 128581.888,
         "Predicted": 138828.44885917747,
         "_deepnote_index_column": 5618
        },
        {
         "Actual": 229678.45016976233,
         "Predicted": 225230.95526422752,
         "_deepnote_index_column": 6604
        },
        {
         "Actual": 277198.21162444114,
         "Predicted": 238673.7037789669,
         "_deepnote_index_column": 6517
        },
        {
         "Actual": 251470.58823529413,
         "Predicted": 237834.33710390527,
         "_deepnote_index_column": 22568
        },
        {
         "Actual": 572646.1579438008,
         "Predicted": 440969.035807756,
         "_deepnote_index_column": 3268
        },
        {
         "Actual": 179500,
         "Predicted": 171156.57967330315,
         "_deepnote_index_column": 1421
        },
        {
         "Actual": 175000,
         "Predicted": 165110.88256531482,
         "_deepnote_index_column": 10521
        },
        {
         "Actual": 186936.93693693695,
         "Predicted": 175133.12764572172,
         "_deepnote_index_column": 12487
        },
        {
         "Actual": 255952.38095238095,
         "Predicted": 241380.06680510376,
         "_deepnote_index_column": 22625
        },
        {
         "Actual": 176785.7142857143,
         "Predicted": 160069.65508614274,
         "_deepnote_index_column": 4131
        },
        {
         "Actual": 225475.1966292135,
         "Predicted": 223085.93741312737,
         "_deepnote_index_column": 11398
        },
        {
         "Actual": 202614.3790849673,
         "Predicted": 196463.49548620646,
         "_deepnote_index_column": 8528
        },
        {
         "Actual": 184700,
         "Predicted": 187188.97156978713,
         "_deepnote_index_column": 1989
        },
        {
         "Actual": 195454.54545454544,
         "Predicted": 199823.72697271488,
         "_deepnote_index_column": 11734
        },
        {
         "Actual": 222101.69491525425,
         "Predicted": 245316.8529670613,
         "_deepnote_index_column": 11559
        },
        {
         "Actual": 321100.91743119265,
         "Predicted": 315088.09349858906,
         "_deepnote_index_column": 15408
        },
        {
         "Actual": 133238.92448512584,
         "Predicted": 144174.09642361058,
         "_deepnote_index_column": 9940
        },
        {
         "Actual": 341341.46341463417,
         "Predicted": 343680.3668823666,
         "_deepnote_index_column": 881
        },
        {
         "Actual": 319000,
         "Predicted": 287516.31694666424,
         "_deepnote_index_column": 15610
        },
        {
         "Actual": 257126.99140401147,
         "Predicted": 269483.0205620499,
         "_deepnote_index_column": 10673
        },
        {
         "Actual": 208904.1095890411,
         "Predicted": 193537.32910117065,
         "_deepnote_index_column": 22148
        },
        {
         "Actual": 196875,
         "Predicted": 208080.63212364676,
         "_deepnote_index_column": 14817
        },
        {
         "Actual": 201133.1444759207,
         "Predicted": 209564.58130645502,
         "_deepnote_index_column": 17684
        },
        {
         "Actual": 133400,
         "Predicted": 131458.65947989665,
         "_deepnote_index_column": 20033
        },
        {
         "Actual": 234000,
         "Predicted": 242886.5106157829,
         "_deepnote_index_column": 22070
        },
        {
         "Actual": 121800,
         "Predicted": 122232.5571811413,
         "_deepnote_index_column": 11288
        },
        {
         "Actual": 153174.6031746032,
         "Predicted": 167642.2235378935,
         "_deepnote_index_column": 8507
        },
        {
         "Actual": 311764.70588235295,
         "Predicted": 388362.2232790197,
         "_deepnote_index_column": 17183
        },
        {
         "Actual": 244974.8743718593,
         "Predicted": 239675.4467810025,
         "_deepnote_index_column": 1260
        },
        {
         "Actual": 209302.32558139536,
         "Predicted": 237507.7619344691,
         "_deepnote_index_column": 6958
        },
        {
         "Actual": 410108.99529042386,
         "Predicted": 376461.0689877743,
         "_deepnote_index_column": 16475
        },
        {
         "Actual": 243856.3585951941,
         "Predicted": 269334.14178056474,
         "_deepnote_index_column": 565
        },
        {
         "Actual": 158567.14768883877,
         "Predicted": 154783.85266652727,
         "_deepnote_index_column": 10341
        },
        {
         "Actual": 280632.41106719367,
         "Predicted": 240079.5933939304,
         "_deepnote_index_column": 17700
        },
        {
         "Actual": 184222.22222222222,
         "Predicted": 189902.1884412071,
         "_deepnote_index_column": 4829
        },
        {
         "Actual": 171212.12121212122,
         "Predicted": 177988.58108464364,
         "_deepnote_index_column": 10148
        },
        {
         "Actual": 198817.20430107528,
         "Predicted": 187282.90838074958,
         "_deepnote_index_column": 6152
        },
        {
         "Actual": 250793.6507936508,
         "Predicted": 225829.36034766195,
         "_deepnote_index_column": 17430
        },
        {
         "Actual": 229166.66666666666,
         "Predicted": 214167.32599875922,
         "_deepnote_index_column": 10450
        },
        {
         "Actual": 152884.61538461538,
         "Predicted": 168127.96914093982,
         "_deepnote_index_column": 16063
        },
        {
         "Actual": 114800.00000000001,
         "Predicted": 113108.7968784403,
         "_deepnote_index_column": 6398
        },
        {
         "Actual": 425887.26513569936,
         "Predicted": 362802.04141496273,
         "_deepnote_index_column": 21233
        },
        {
         "Actual": 200000,
         "Predicted": 200895.69227806278,
         "_deepnote_index_column": 18903
        },
        {
         "Actual": 176500,
         "Predicted": 147267.06509789682,
         "_deepnote_index_column": 4172
        },
        {
         "Actual": 135000,
         "Predicted": 124257.50688047206,
         "_deepnote_index_column": 4281
        },
        {
         "Actual": 185185.1851851852,
         "Predicted": 185923.6788062331,
         "_deepnote_index_column": 7088
        },
        {
         "Actual": 135967.004482557,
         "Predicted": 135900.75144351344,
         "_deepnote_index_column": 8155
        },
        {
         "Actual": 386473.42995169084,
         "Predicted": 330952.26302699454,
         "_deepnote_index_column": 612
        },
        {
         "Actual": 375000,
         "Predicted": 350190.1039603008,
         "_deepnote_index_column": 15474
        },
        {
         "Actual": 234545.45454545456,
         "Predicted": 212869.63177187828,
         "_deepnote_index_column": 21975
        },
        {
         "Actual": 235772.71468144044,
         "Predicted": 256415.22872898373,
         "_deepnote_index_column": 20963
        },
        {
         "Actual": 542507.6452599388,
         "Predicted": 759837.902087362,
         "_deepnote_index_column": 16639
        },
        {
         "Actual": 268235.29411764705,
         "Predicted": 273561.62361729704,
         "_deepnote_index_column": 1312
        },
        {
         "Actual": 90816.32653061225,
         "Predicted": 117875.67327756893,
         "_deepnote_index_column": 20279
        },
        {
         "Actual": 200000,
         "Predicted": 179483.01188314025,
         "_deepnote_index_column": 21904
        },
        {
         "Actual": 278232.40589198034,
         "Predicted": 263515.7314100121,
         "_deepnote_index_column": 14302
        },
        {
         "Actual": 174490.19607843139,
         "Predicted": 162506.82507402904,
         "_deepnote_index_column": 16198
        },
        {
         "Actual": 258964.14342629482,
         "Predicted": 270882.85938935075,
         "_deepnote_index_column": 16707
        },
        {
         "Actual": 196759.25925925924,
         "Predicted": 197577.481059203,
         "_deepnote_index_column": 21533
        },
        {
         "Actual": 154411.76470588235,
         "Predicted": 147830.68064770094,
         "_deepnote_index_column": 11952
        },
        {
         "Actual": 180750,
         "Predicted": 377431.63885949645,
         "_deepnote_index_column": 18161
        },
        {
         "Actual": 169000,
         "Predicted": 183937.42358559385,
         "_deepnote_index_column": 10716
        },
        {
         "Actual": 222300.00000000003,
         "Predicted": 235066.48836604998,
         "_deepnote_index_column": 1883
        },
        {
         "Actual": 256529.9919623378,
         "Predicted": 274615.8584157107,
         "_deepnote_index_column": 10406
        },
        {
         "Actual": 241000,
         "Predicted": 244449.06891511023,
         "_deepnote_index_column": 12866
        },
        {
         "Actual": 388095.2380952381,
         "Predicted": 332215.2818502331,
         "_deepnote_index_column": 12082
        },
        {
         "Actual": 183769.99765972386,
         "Predicted": 199086.3854270029,
         "_deepnote_index_column": 5113
        },
        {
         "Actual": 180547.94520547945,
         "Predicted": 199553.6546565076,
         "_deepnote_index_column": 13144
        },
        {
         "Actual": 267108.16777041944,
         "Predicted": 288111.6735577675,
         "_deepnote_index_column": 11971
        },
        {
         "Actual": 184385.38205980064,
         "Predicted": 197867.2042311155,
         "_deepnote_index_column": 14115
        },
        {
         "Actual": 190000,
         "Predicted": 212694.93295083367,
         "_deepnote_index_column": 16700
        },
        {
         "Actual": 204300,
         "Predicted": 206789.23780559003,
         "_deepnote_index_column": 1841
        },
        {
         "Actual": 107812.5,
         "Predicted": 146446.69783453533,
         "_deepnote_index_column": 5322
        },
        {
         "Actual": 153225.8064516129,
         "Predicted": 154313.11501869065,
         "_deepnote_index_column": 1091
        },
        {
         "Actual": 242500,
         "Predicted": 255824.65287967096,
         "_deepnote_index_column": 5836
        },
        {
         "Actual": 302594.9942329873,
         "Predicted": 287575.5650089235,
         "_deepnote_index_column": 11728
        },
        {
         "Actual": 227388.37423312882,
         "Predicted": 223017.29863293286,
         "_deepnote_index_column": 19660
        },
        {
         "Actual": 508928.5714285714,
         "Predicted": 464674.14445421123,
         "_deepnote_index_column": 875
        },
        {
         "Actual": 334330,
         "Predicted": 307393.96131215896,
         "_deepnote_index_column": 16763
        },
        {
         "Actual": 283300.19880715705,
         "Predicted": 251743.8603272198,
         "_deepnote_index_column": 12877
        },
        {
         "Actual": 189155.1071878941,
         "Predicted": 210300.4540067967,
         "_deepnote_index_column": 20752
        },
        {
         "Actual": 248799.99999999997,
         "Predicted": 252932.68660489516,
         "_deepnote_index_column": 20010
        },
        {
         "Actual": 167992.0477137177,
         "Predicted": 169776.29506383534,
         "_deepnote_index_column": 14049
        },
        {
         "Actual": 188539.74121996303,
         "Predicted": 181511.51633075115,
         "_deepnote_index_column": 18245
        },
        {
         "Actual": 179028.1074168798,
         "Predicted": 203131.92032273393,
         "_deepnote_index_column": 13956
        },
        {
         "Actual": 133400,
         "Predicted": 134827.97326354388,
         "_deepnote_index_column": 13788
        },
        {
         "Actual": 180909.0909090909,
         "Predicted": 182924.88485441328,
         "_deepnote_index_column": 11504
        },
        {
         "Actual": 127041.74228675135,
         "Predicted": 125262.66011914796,
         "_deepnote_index_column": 21271
        },
        {
         "Actual": 149825.78397212544,
         "Predicted": 150006.39449580276,
         "_deepnote_index_column": 21872
        },
        {
         "Actual": 137681.14492753622,
         "Predicted": 157236.3640779936,
         "_deepnote_index_column": 20665
        },
        {
         "Actual": 433339.9,
         "Predicted": 599503.7563822865,
         "_deepnote_index_column": 13225
        },
        {
         "Actual": 267857.14285714284,
         "Predicted": 223495.2812905601,
         "_deepnote_index_column": 15409
        },
        {
         "Actual": 191116.7971530249,
         "Predicted": 196656.07590626783,
         "_deepnote_index_column": 10979
        },
        {
         "Actual": 315753.6650717703,
         "Predicted": 310129.9429977527,
         "_deepnote_index_column": 14541
        },
        {
         "Actual": 207956.60036166367,
         "Predicted": 220040.80309258637,
         "_deepnote_index_column": 11033
        },
        {
         "Actual": 120086.99690402478,
         "Predicted": 118959.46026496858,
         "_deepnote_index_column": 20926
        },
        {
         "Actual": 98663.3950351557,
         "Predicted": 101112.72595287234,
         "_deepnote_index_column": 18125
        },
        {
         "Actual": 178378.37837837837,
         "Predicted": 164224.83149319593,
         "_deepnote_index_column": 5306
        },
        {
         "Actual": 260000,
         "Predicted": 231812.90872762058,
         "_deepnote_index_column": 20310
        },
        {
         "Actual": 154200,
         "Predicted": 148726.9982490313,
         "_deepnote_index_column": 6098
        },
        {
         "Actual": 189473.68421052632,
         "Predicted": 204020.03183032866,
         "_deepnote_index_column": 9253
        },
        {
         "Actual": 95213.59440559441,
         "Predicted": 99435.15035964226,
         "_deepnote_index_column": 20218
        },
        {
         "Actual": 195000,
         "Predicted": 208916.4405064463,
         "_deepnote_index_column": 21448
        },
        {
         "Actual": 163793.10344827586,
         "Predicted": 160110.81366529915,
         "_deepnote_index_column": 11951
        },
        {
         "Actual": 164400,
         "Predicted": 174006.76164205364,
         "_deepnote_index_column": 7239
        },
        {
         "Actual": 136000,
         "Predicted": 154477.77234019036,
         "_deepnote_index_column": 16243
        },
        {
         "Actual": 202614.3790849673,
         "Predicted": 193302.1134413742,
         "_deepnote_index_column": 3670
        },
        {
         "Actual": 154672.13758079408,
         "Predicted": 185379.91444134942,
         "_deepnote_index_column": 19243
        },
        {
         "Actual": 193649.11304347825,
         "Predicted": 198958.85236113486,
         "_deepnote_index_column": 20638
        },
        {
         "Actual": 192105.26315789475,
         "Predicted": 196354.7117910033,
         "_deepnote_index_column": 21202
        },
        {
         "Actual": 913175.6607252613,
         "Predicted": 694617.5705653564,
         "_deepnote_index_column": 10277
        },
        {
         "Actual": 160795.45454545456,
         "Predicted": 156152.50825355583,
         "_deepnote_index_column": 10792
        },
        {
         "Actual": 274000,
         "Predicted": 292249.24971019337,
         "_deepnote_index_column": 9624
        },
        {
         "Actual": 183556.78221552374,
         "Predicted": 179946.96177923598,
         "_deepnote_index_column": 20312
        },
        {
         "Actual": 179987.5,
         "Predicted": 209510.5657972248,
         "_deepnote_index_column": 7420
        },
        {
         "Actual": 164444.44444444444,
         "Predicted": 167597.0586659523,
         "_deepnote_index_column": 9670
        },
        {
         "Actual": 525000,
         "Predicted": 549117.3701372202,
         "_deepnote_index_column": 22170
        },
        {
         "Actual": 199000,
         "Predicted": 204626.55322067483,
         "_deepnote_index_column": 20430
        }
       ],
       "rows_bottom": [
        {
         "Actual": 205000,
         "Predicted": 203147.1260388218,
         "_deepnote_index_column": 8395
        },
        {
         "Actual": 197916.66666666666,
         "Predicted": 185335.00753057614,
         "_deepnote_index_column": 15220
        },
        {
         "Actual": 193700,
         "Predicted": 206567.04333411963,
         "_deepnote_index_column": 7167
        },
        {
         "Actual": 255355,
         "Predicted": 242747.33703621986,
         "_deepnote_index_column": 16261
        },
        {
         "Actual": 176000,
         "Predicted": 196142.11084718438,
         "_deepnote_index_column": 10647
        },
        {
         "Actual": 211111.11111111112,
         "Predicted": 218649.63101769783,
         "_deepnote_index_column": 1092
        },
        {
         "Actual": 186834.73389355742,
         "Predicted": 195639.72910625167,
         "_deepnote_index_column": 4744
        },
        {
         "Actual": 142640.36418816386,
         "Predicted": 153243.81507352297,
         "_deepnote_index_column": 13082
        },
        {
         "Actual": 191000,
         "Predicted": 185238.38699868094,
         "_deepnote_index_column": 18684
        },
        {
         "Actual": 158823.5294117647,
         "Predicted": 172289.43763798068,
         "_deepnote_index_column": 10133
        },
        {
         "Actual": 94972.06703910616,
         "Predicted": 92649.67572854322,
         "_deepnote_index_column": 2238
        },
        {
         "Actual": 180000,
         "Predicted": 169578.43663053057,
         "_deepnote_index_column": 10428
        },
        {
         "Actual": 162900,
         "Predicted": 175829.45310420974,
         "_deepnote_index_column": 22805
        },
        {
         "Actual": 128400,
         "Predicted": 122143.75996208648,
         "_deepnote_index_column": 255
        },
        {
         "Actual": 167469.8795180723,
         "Predicted": 157044.26576829836,
         "_deepnote_index_column": 20104
        },
        {
         "Actual": 165400,
         "Predicted": 157704.5606004954,
         "_deepnote_index_column": 21656
        },
        {
         "Actual": 194103.19410319408,
         "Predicted": 236371.1208392593,
         "_deepnote_index_column": 18912
        },
        {
         "Actual": 230600,
         "Predicted": 232476.19463856652,
         "_deepnote_index_column": 1831
        },
        {
         "Actual": 196500,
         "Predicted": 210374.10384700086,
         "_deepnote_index_column": 1358
        },
        {
         "Actual": 192105.82381729202,
         "Predicted": 192022.36955082277,
         "_deepnote_index_column": 6844
        },
        {
         "Actual": 288235.29411764705,
         "Predicted": 273221.55295323377,
         "_deepnote_index_column": 10430
        },
        {
         "Actual": 233333.33333333334,
         "Predicted": 315102.4315559383,
         "_deepnote_index_column": 10208
        },
        {
         "Actual": 214423.07692307694,
         "Predicted": 181747.3052695305,
         "_deepnote_index_column": 1320
        },
        {
         "Actual": 479678.6111111111,
         "Predicted": 576147.4757209751,
         "_deepnote_index_column": 16737
        },
        {
         "Actual": 325170.0680272109,
         "Predicted": 386096.7992346607,
         "_deepnote_index_column": 4365
        },
        {
         "Actual": 217592.59259259258,
         "Predicted": 198551.47687792822,
         "_deepnote_index_column": 7668
        },
        {
         "Actual": 192307.6923076923,
         "Predicted": 185436.68038827067,
         "_deepnote_index_column": 4141
        },
        {
         "Actual": 271794.8717948718,
         "Predicted": 263118.5166852542,
         "_deepnote_index_column": 16325
        },
        {
         "Actual": 1238114,
         "Predicted": 975541.2973697092,
         "_deepnote_index_column": 3520
        },
        {
         "Actual": 198630.13698630137,
         "Predicted": 250979.9034870753,
         "_deepnote_index_column": 19052
        },
        {
         "Actual": 125683.43558282209,
         "Predicted": 125819.65038626951,
         "_deepnote_index_column": 17000
        },
        {
         "Actual": 154900,
         "Predicted": 149127.8952630443,
         "_deepnote_index_column": 21893
        },
        {
         "Actual": 1092438.9623529413,
         "Predicted": 995794.3414038856,
         "_deepnote_index_column": 7832
        },
        {
         "Actual": 259765.625,
         "Predicted": 233430.71330617234,
         "_deepnote_index_column": 22559
        },
        {
         "Actual": 375000,
         "Predicted": 377237.7329842367,
         "_deepnote_index_column": 8055
        },
        {
         "Actual": 250000,
         "Predicted": 230472.43266040407,
         "_deepnote_index_column": 21573
        },
        {
         "Actual": 200000,
         "Predicted": 163633.17880892305,
         "_deepnote_index_column": 11089
        },
        {
         "Actual": 103300.00000000001,
         "Predicted": 101358.03189822566,
         "_deepnote_index_column": 5773
        },
        {
         "Actual": 274362.0089104901,
         "Predicted": 297554.6565147849,
         "_deepnote_index_column": 867
        },
        {
         "Actual": 840000,
         "Predicted": 859806.4520725233,
         "_deepnote_index_column": 14696
        },
        {
         "Actual": 217391.30434782608,
         "Predicted": 216040.37346097897,
         "_deepnote_index_column": 4788
        },
        {
         "Actual": 293493.1506849315,
         "Predicted": 344841.022222728,
         "_deepnote_index_column": 16818
        },
        {
         "Actual": 579804.5602605863,
         "Predicted": 547853.7466013408,
         "_deepnote_index_column": 23035
        },
        {
         "Actual": 220930.23255813954,
         "Predicted": 223792.69372281682,
         "_deepnote_index_column": 16003
        },
        {
         "Actual": 118129.99474697952,
         "Predicted": 119575.8491847588,
         "_deepnote_index_column": 10815
        },
        {
         "Actual": 1238113.9964157706,
         "Predicted": 838876.1164155818,
         "_deepnote_index_column": 3517
        },
        {
         "Actual": 183023.8594164456,
         "Predicted": 192599.85329921643,
         "_deepnote_index_column": 15982
        },
        {
         "Actual": 205882.35294117648,
         "Predicted": 182126.4666463334,
         "_deepnote_index_column": 18512
        },
        {
         "Actual": 201724.1379310345,
         "Predicted": 223696.98333255856,
         "_deepnote_index_column": 22118
        },
        {
         "Actual": 133888.88888888888,
         "Predicted": 135486.28146646245,
         "_deepnote_index_column": 6247
        },
        {
         "Actual": 318446.9773880942,
         "Predicted": 346029.7077784729,
         "_deepnote_index_column": 22075
        },
        {
         "Actual": 87157.33015494636,
         "Predicted": 95267.5006730289,
         "_deepnote_index_column": 2219
        },
        {
         "Actual": 179411.76470588235,
         "Predicted": 160064.10231121062,
         "_deepnote_index_column": 16561
        },
        {
         "Actual": 223252.9903978052,
         "Predicted": 210745.8639956615,
         "_deepnote_index_column": 22455
        },
        {
         "Actual": 165000,
         "Predicted": 166996.17623418506,
         "_deepnote_index_column": 287
        },
        {
         "Actual": 151587.3015873016,
         "Predicted": 148116.84916965722,
         "_deepnote_index_column": 5978
        },
        {
         "Actual": 162893.01666666666,
         "Predicted": 163781.7944201319,
         "_deepnote_index_column": 10007
        },
        {
         "Actual": 250000,
         "Predicted": 211460.3832217949,
         "_deepnote_index_column": 22562
        },
        {
         "Actual": 199777.77777777778,
         "Predicted": 203687.4273922564,
         "_deepnote_index_column": 18568
        },
        {
         "Actual": 708454.8104956269,
         "Predicted": 798716.6188995024,
         "_deepnote_index_column": 10894
        },
        {
         "Actual": 201238.39009287927,
         "Predicted": 212391.5517268812,
         "_deepnote_index_column": 16709
        },
        {
         "Actual": 142857.14285714287,
         "Predicted": 152369.4719437973,
         "_deepnote_index_column": 16590
        },
        {
         "Actual": 434426.2295081967,
         "Predicted": 614907.4001856868,
         "_deepnote_index_column": 15859
        },
        {
         "Actual": 272000,
         "Predicted": 264278.9603208679,
         "_deepnote_index_column": 19696
        },
        {
         "Actual": 126232.99973663418,
         "Predicted": 137552.70874753362,
         "_deepnote_index_column": 22235
        },
        {
         "Actual": 146191.64619164617,
         "Predicted": 186219.83540047563,
         "_deepnote_index_column": 6238
        },
        {
         "Actual": 159436.00867678958,
         "Predicted": 211779.92964951776,
         "_deepnote_index_column": 11923
        },
        {
         "Actual": 159836.0655737705,
         "Predicted": 178332.60954330547,
         "_deepnote_index_column": 4527
        },
        {
         "Actual": 284090.9090909091,
         "Predicted": 371606.9466185856,
         "_deepnote_index_column": 17469
        },
        {
         "Actual": 99999.81530343008,
         "Predicted": 104465.8948265904,
         "_deepnote_index_column": 21824
        },
        {
         "Actual": 224000,
         "Predicted": 199155.32035539285,
         "_deepnote_index_column": 6620
        },
        {
         "Actual": 337837.8378378378,
         "Predicted": 422368.97532737895,
         "_deepnote_index_column": 12579
        },
        {
         "Actual": 646153.8461538461,
         "Predicted": 546632.9568214051,
         "_deepnote_index_column": 17191
        },
        {
         "Actual": 195965.41786743514,
         "Predicted": 188884.7600036968,
         "_deepnote_index_column": 17910
        },
        {
         "Actual": 121999.99999999999,
         "Predicted": 117829.96787425867,
         "_deepnote_index_column": 12005
        },
        {
         "Actual": 240000,
         "Predicted": 221643.1193774219,
         "_deepnote_index_column": 19372
        },
        {
         "Actual": 159163.98713826365,
         "Predicted": 164463.50626596762,
         "_deepnote_index_column": 6005
        },
        {
         "Actual": 165338.6454183267,
         "Predicted": 164425.04014198546,
         "_deepnote_index_column": 4835
        },
        {
         "Actual": 157407.40740740742,
         "Predicted": 171738.51941823747,
         "_deepnote_index_column": 12719
        },
        {
         "Actual": 199900,
         "Predicted": 211730.98044531693,
         "_deepnote_index_column": 7218
        },
        {
         "Actual": 223529.41176470587,
         "Predicted": 214098.17099808762,
         "_deepnote_index_column": 1366
        },
        {
         "Actual": 228400,
         "Predicted": 216244.84745196532,
         "_deepnote_index_column": 14282
        },
        {
         "Actual": 300000,
         "Predicted": 322303.8318051873,
         "_deepnote_index_column": 7122
        },
        {
         "Actual": 175230,
         "Predicted": 178749.04917543335,
         "_deepnote_index_column": 16917
        },
        {
         "Actual": 270000,
         "Predicted": 269714.83172726474,
         "_deepnote_index_column": 19738
        },
        {
         "Actual": 168000,
         "Predicted": 191794.15325793877,
         "_deepnote_index_column": 10595
        },
        {
         "Actual": 220064.72491909386,
         "Predicted": 192517.0133564398,
         "_deepnote_index_column": 11817
        },
        {
         "Actual": 100000,
         "Predicted": 137127.80734712793,
         "_deepnote_index_column": 22
        },
        {
         "Actual": 566326.5306122449,
         "Predicted": 485502.6970862662,
         "_deepnote_index_column": 2530
        },
        {
         "Actual": 216121.82654402105,
         "Predicted": 297191.810816432,
         "_deepnote_index_column": 19694
        },
        {
         "Actual": 411764.70588235295,
         "Predicted": 356353.5004440428,
         "_deepnote_index_column": 18837
        },
        {
         "Actual": 433333.3333333333,
         "Predicted": 613049.0482092684,
         "_deepnote_index_column": 14676
        },
        {
         "Actual": 167286.24535315987,
         "Predicted": 160659.27808240894,
         "_deepnote_index_column": 9332
        },
        {
         "Actual": 134400,
         "Predicted": 137515.21792913927,
         "_deepnote_index_column": 18129
        },
        {
         "Actual": 280000,
         "Predicted": 275885.6549043733,
         "_deepnote_index_column": 6839
        },
        {
         "Actual": 391454.9653579677,
         "Predicted": 383839.19066910405,
         "_deepnote_index_column": 525
        },
        {
         "Actual": 697331.2380431811,
         "Predicted": 691098.284545935,
         "_deepnote_index_column": 14643
        },
        {
         "Actual": 449610.13645224174,
         "Predicted": 458396.6313075536,
         "_deepnote_index_column": 22427
        },
        {
         "Actual": 979772.4399494312,
         "Predicted": 820901.569539814,
         "_deepnote_index_column": 20520
        },
        {
         "Actual": 268172.3881706048,
         "Predicted": 259034.1607167145,
         "_deepnote_index_column": 771
        },
        {
         "Actual": 171606.864274571,
         "Predicted": 197393.1220237719,
         "_deepnote_index_column": 11092
        },
        {
         "Actual": 162544.88691281655,
         "Predicted": 160307.32968716254,
         "_deepnote_index_column": 11869
        },
        {
         "Actual": 227154.04699738906,
         "Predicted": 202560.23707872073,
         "_deepnote_index_column": 18268
        },
        {
         "Actual": 143300,
         "Predicted": 143262.95459186364,
         "_deepnote_index_column": 4403
        },
        {
         "Actual": 142400,
         "Predicted": 140207.44528078305,
         "_deepnote_index_column": 13152
        },
        {
         "Actual": 125000,
         "Predicted": 146796.05957159458,
         "_deepnote_index_column": 16362
        },
        {
         "Actual": 216981.1320754717,
         "Predicted": 195460.80495957844,
         "_deepnote_index_column": 5116
        },
        {
         "Actual": 853263.6,
         "Predicted": 688910.3877802351,
         "_deepnote_index_column": 15793
        },
        {
         "Actual": 154285.7142857143,
         "Predicted": 165873.7691168519,
         "_deepnote_index_column": 6043
        },
        {
         "Actual": 288000,
         "Predicted": 271286.1322894518,
         "_deepnote_index_column": 21376
        },
        {
         "Actual": 139639.63963963964,
         "Predicted": 123113.89065678787,
         "_deepnote_index_column": 18726
        },
        {
         "Actual": 211480.36253776433,
         "Predicted": 195432.652322685,
         "_deepnote_index_column": 5459
        },
        {
         "Actual": 153900,
         "Predicted": 156467.46030774462,
         "_deepnote_index_column": 10932
        },
        {
         "Actual": 689989.7389123248,
         "Predicted": 692235.6797563012,
         "_deepnote_index_column": 3325
        },
        {
         "Actual": 222368.42105263157,
         "Predicted": 272218.2351918862,
         "_deepnote_index_column": 3102
        },
        {
         "Actual": 411764.70588235295,
         "Predicted": 583140.7901486976,
         "_deepnote_index_column": 2193
        },
        {
         "Actual": 267000,
         "Predicted": 250515.99004708085,
         "_deepnote_index_column": 13459
        },
        {
         "Actual": 735158.3952171176,
         "Predicted": 745202.8859342425,
         "_deepnote_index_column": 16634
        },
        {
         "Actual": 387931.0344827586,
         "Predicted": 458197.9982533966,
         "_deepnote_index_column": 12580
        },
        {
         "Actual": 162668.07870370368,
         "Predicted": 145383.09230606267,
         "_deepnote_index_column": 20120
        },
        {
         "Actual": 175275,
         "Predicted": 166453.52202463604,
         "_deepnote_index_column": 22372
        },
        {
         "Actual": 213200,
         "Predicted": 220373.30728582764,
         "_deepnote_index_column": 9071
        },
        {
         "Actual": 186383.92857142858,
         "Predicted": 157830.54812936974,
         "_deepnote_index_column": 6353
        },
        {
         "Actual": 203697.47899159664,
         "Predicted": 174471.2744249739,
         "_deepnote_index_column": 5946
        },
        {
         "Actual": 165818.74788494076,
         "Predicted": 160811.62785377752,
         "_deepnote_index_column": 8767
        },
        {
         "Actual": 424390.243902439,
         "Predicted": 776681.3182451858,
         "_deepnote_index_column": 10292
        },
        {
         "Actual": 145161.29032258064,
         "Predicted": 140598.8724074036,
         "_deepnote_index_column": 4970
        },
        {
         "Actual": 128048.78048780488,
         "Predicted": 135349.10365511273,
         "_deepnote_index_column": 8786
        },
        {
         "Actual": 152006.39379347244,
         "Predicted": 153801.10779406113,
         "_deepnote_index_column": 15673
        },
        {
         "Actual": 317145.68880079285,
         "Predicted": 288042.18645832967,
         "_deepnote_index_column": 1150
        },
        {
         "Actual": 157894.7105263158,
         "Predicted": 168573.81742813613,
         "_deepnote_index_column": 3669
        },
        {
         "Actual": 162162.16216216216,
         "Predicted": 152224.65650792135,
         "_deepnote_index_column": 23128
        },
        {
         "Actual": 115628.22719449225,
         "Predicted": 116576.68268097583,
         "_deepnote_index_column": 22774
        },
        {
         "Actual": 150649.35064935064,
         "Predicted": 158037.72873352974,
         "_deepnote_index_column": 10155
        },
        {
         "Actual": 184259.74838245867,
         "Predicted": 197501.1426651601,
         "_deepnote_index_column": 15307
        },
        {
         "Actual": 185398.78787878787,
         "Predicted": 187652.35790481215,
         "_deepnote_index_column": 20587
        },
        {
         "Actual": 190807.79944289694,
         "Predicted": 205754.59143238998,
         "_deepnote_index_column": 651
        },
        {
         "Actual": 175504.32276657058,
         "Predicted": 161955.1594103544,
         "_deepnote_index_column": 19639
        },
        {
         "Actual": 438271.60493827163,
         "Predicted": 500291.7464234459,
         "_deepnote_index_column": 3208
        },
        {
         "Actual": 828579.9880167765,
         "Predicted": 684707.4014599882,
         "_deepnote_index_column": 3472
        },
        {
         "Actual": 445420,
         "Predicted": 340321.3799561091,
         "_deepnote_index_column": 11131
        },
        {
         "Actual": 276671.09340416116,
         "Predicted": 271931.96982272225,
         "_deepnote_index_column": 20743
        },
        {
         "Actual": 192913.38582677164,
         "Predicted": 197306.39142672243,
         "_deepnote_index_column": 5489
        },
        {
         "Actual": 139593.90862944163,
         "Predicted": 144326.22599513415,
         "_deepnote_index_column": 20878
        },
        {
         "Actual": 185230,
         "Predicted": 174257.68626755488,
         "_deepnote_index_column": 8414
        },
        {
         "Actual": 225333.33333333334,
         "Predicted": 204647.5819884222,
         "_deepnote_index_column": 7170
        },
        {
         "Actual": 196969.69696969696,
         "Predicted": 204769.49446203618,
         "_deepnote_index_column": 8598
        },
        {
         "Actual": 137500,
         "Predicted": 143210.13272691506,
         "_deepnote_index_column": 10929
        },
        {
         "Actual": 581560.2836879432,
         "Predicted": 520629.1957309308,
         "_deepnote_index_column": 21253
        },
        {
         "Actual": 178787.87878787878,
         "Predicted": 192447.21201058093,
         "_deepnote_index_column": 15257
        },
        {
         "Actual": 129458.38837516512,
         "Predicted": 141330.9687029048,
         "_deepnote_index_column": 12022
        },
        {
         "Actual": 196935.0368718916,
         "Predicted": 186813.1833270823,
         "_deepnote_index_column": 8419
        },
        {
         "Actual": 308151.0934393638,
         "Predicted": 242879.51000564243,
         "_deepnote_index_column": 22487
        },
        {
         "Actual": 95300.26109660575,
         "Predicted": 114064.51065846102,
         "_deepnote_index_column": 4253
        },
        {
         "Actual": 118593.75,
         "Predicted": 136010.76017694786,
         "_deepnote_index_column": 7537
        },
        {
         "Actual": 939759.0361445784,
         "Predicted": 671913.4727002876,
         "_deepnote_index_column": 20348
        },
        {
         "Actual": 268617.02127659577,
         "Predicted": 266399.29807533737,
         "_deepnote_index_column": 16356
        },
        {
         "Actual": 161016.94915254237,
         "Predicted": 178858.41615684674,
         "_deepnote_index_column": 5529
        },
        {
         "Actual": 204198.72204472843,
         "Predicted": 202182.4224761089,
         "_deepnote_index_column": 3625
        },
        {
         "Actual": 164000,
         "Predicted": 194989.02770834972,
         "_deepnote_index_column": 14109
        },
        {
         "Actual": 407843.137254902,
         "Predicted": 452357.3489578919,
         "_deepnote_index_column": 19017
        },
        {
         "Actual": 192187.5,
         "Predicted": 181399.28882528344,
         "_deepnote_index_column": 1728
        },
        {
         "Actual": 136912.75167785236,
         "Predicted": 152283.6520388346,
         "_deepnote_index_column": 4933
        },
        {
         "Actual": 82978.72340425532,
         "Predicted": 110189.49633292592,
         "_deepnote_index_column": 23164
        },
        {
         "Actual": 175700,
         "Predicted": 180381.94768357015,
         "_deepnote_index_column": 5181
        },
        {
         "Actual": 182608.69565217392,
         "Predicted": 159927.60615383298,
         "_deepnote_index_column": 9521
        },
        {
         "Actual": 287234.0425531915,
         "Predicted": 303332.0663805187,
         "_deepnote_index_column": 19165
        },
        {
         "Actual": 583657.5875486381,
         "Predicted": 605831.9823339983,
         "_deepnote_index_column": 1416
        },
        {
         "Actual": 176939.44206008583,
         "Predicted": 174327.02579513198,
         "_deepnote_index_column": 536
        },
        {
         "Actual": 272270.999581765,
         "Predicted": 273218.64376803266,
         "_deepnote_index_column": 2088
        },
        {
         "Actual": 513339.5099540582,
         "Predicted": 831979.3876127921,
         "_deepnote_index_column": 15804
        },
        {
         "Actual": 170930.23255813954,
         "Predicted": 192705.00943365772,
         "_deepnote_index_column": 19659
        },
        {
         "Actual": 181097.56097560975,
         "Predicted": 188172.75194540966,
         "_deepnote_index_column": 14325
        },
        {
         "Actual": 132100.39630118888,
         "Predicted": 154261.24963501637,
         "_deepnote_index_column": 5335
        },
        {
         "Actual": 219607.8431372549,
         "Predicted": 238933.61992848778,
         "_deepnote_index_column": 19154
        },
        {
         "Actual": 207673.07692307694,
         "Predicted": 262722.90560292447,
         "_deepnote_index_column": 15545
        },
        {
         "Actual": 265900,
         "Predicted": 272002.4477468301,
         "_deepnote_index_column": 2089
        },
        {
         "Actual": 153225.8064516129,
         "Predicted": 157877.38762248444,
         "_deepnote_index_column": 12155
        },
        {
         "Actual": 140892.601010101,
         "Predicted": 170865.08952929813,
         "_deepnote_index_column": 713
        },
        {
         "Actual": 473750,
         "Predicted": 613362.4153386324,
         "_deepnote_index_column": 3111
        },
        {
         "Actual": 308000,
         "Predicted": 328771.854793331,
         "_deepnote_index_column": 793
        },
        {
         "Actual": 368000,
         "Predicted": 453443.6879215061,
         "_deepnote_index_column": 2985
        },
        {
         "Actual": 127986.3481228669,
         "Predicted": 143071.73825495905,
         "_deepnote_index_column": 15272
        },
        {
         "Actual": 189162.16216216216,
         "Predicted": 201328.80816560687,
         "_deepnote_index_column": 4499
        },
        {
         "Actual": 250000,
         "Predicted": 251689.47599794785,
         "_deepnote_index_column": 16264
        },
        {
         "Actual": 196016.7714884696,
         "Predicted": 190983.78976987794,
         "_deepnote_index_column": 17894
        },
        {
         "Actual": 163590.60402684563,
         "Predicted": 161301.06589719618,
         "_deepnote_index_column": 10213
        },
        {
         "Actual": 135281.38528138527,
         "Predicted": 141871.26165260974,
         "_deepnote_index_column": 22209
        },
        {
         "Actual": 376415.09433962265,
         "Predicted": 348177.1123304382,
         "_deepnote_index_column": 10747
        },
        {
         "Actual": 263245.0331125828,
         "Predicted": 298923.48038521723,
         "_deepnote_index_column": 12242
        },
        {
         "Actual": 124882.46896551724,
         "Predicted": 116484.12070613164,
         "_deepnote_index_column": 384
        },
        {
         "Actual": 177272.72727272726,
         "Predicted": 193529.82905454643,
         "_deepnote_index_column": 10159
        },
        {
         "Actual": 515000,
         "Predicted": 477141.50279451057,
         "_deepnote_index_column": 8221
        },
        {
         "Actual": 500000,
         "Predicted": 455353.47219487187,
         "_deepnote_index_column": 15825
        },
        {
         "Actual": 111289.0055467512,
         "Predicted": 109425.78020188204,
         "_deepnote_index_column": 14848
        },
        {
         "Actual": 199300,
         "Predicted": 188322.62372364855,
         "_deepnote_index_column": 1191
        },
        {
         "Actual": 161797.75280898876,
         "Predicted": 166900.5361307325,
         "_deepnote_index_column": 10325
        },
        {
         "Actual": 102739.72602739726,
         "Predicted": 127504.72922752445,
         "_deepnote_index_column": 23076
        },
        {
         "Actual": 180765.80587711488,
         "Predicted": 209014.63407189524,
         "_deepnote_index_column": 20486
        },
        {
         "Actual": 355714.28571428574,
         "Predicted": 410370.7711374978,
         "_deepnote_index_column": 8068
        },
        {
         "Actual": 217307.6923076923,
         "Predicted": 192624.24101917446,
         "_deepnote_index_column": 20808
        },
        {
         "Actual": 211853.1257344301,
         "Predicted": 206952.13753156344,
         "_deepnote_index_column": 5931
        },
        {
         "Actual": 113100,
         "Predicted": 117297.55258949599,
         "_deepnote_index_column": 6327
        },
        {
         "Actual": 151500,
         "Predicted": 177317.18610341346,
         "_deepnote_index_column": 11150
        },
        {
         "Actual": 221666.66666666666,
         "Predicted": 210154.17163045675,
         "_deepnote_index_column": 12135
        },
        {
         "Actual": 181333.33333333334,
         "Predicted": 168137.07793475612,
         "_deepnote_index_column": 2137
        },
        {
         "Actual": 175733.09832556968,
         "Predicted": 186196.60306886124,
         "_deepnote_index_column": 19379
        },
        {
         "Actual": 149855.90778097982,
         "Predicted": 151946.09012355556,
         "_deepnote_index_column": 19609
        },
        {
         "Actual": 173700,
         "Predicted": 167718.7709873864,
         "_deepnote_index_column": 14210
        },
        {
         "Actual": 203900,
         "Predicted": 195363.6750149313,
         "_deepnote_index_column": 15393
        },
        {
         "Actual": 90000,
         "Predicted": 91652.16997324827,
         "_deepnote_index_column": 2320
        },
        {
         "Actual": 173690,
         "Predicted": 158503.04590776487,
         "_deepnote_index_column": 20785
        },
        {
         "Actual": 312824.49701937404,
         "Predicted": 296269.39761848137,
         "_deepnote_index_column": 12234
        },
        {
         "Actual": 111700,
         "Predicted": 117494.47450737312,
         "_deepnote_index_column": 18145
        },
        {
         "Actual": 313700.38412291935,
         "Predicted": 310560.0107786011,
         "_deepnote_index_column": 7626
        },
        {
         "Actual": 112447.9926588667,
         "Predicted": 136552.38485798048,
         "_deepnote_index_column": 22281
        },
        {
         "Actual": 164102.5641025641,
         "Predicted": 167086.49357656308,
         "_deepnote_index_column": 17715
        },
        {
         "Actual": 147600,
         "Predicted": 133390.4168426239,
         "_deepnote_index_column": 22335
        },
        {
         "Actual": 575000,
         "Predicted": 669287.0543632167,
         "_deepnote_index_column": 18281
        },
        {
         "Actual": 182339.4495412844,
         "Predicted": 180052.46476766953,
         "_deepnote_index_column": 15963
        },
        {
         "Actual": 208395.80209895052,
         "Predicted": 235660.26781347726,
         "_deepnote_index_column": 1506
        },
        {
         "Actual": 188573.2323232323,
         "Predicted": 203979.66811359755,
         "_deepnote_index_column": 5910
        },
        {
         "Actual": 182199.99999999997,
         "Predicted": 179813.75170273584,
         "_deepnote_index_column": 20674
        },
        {
         "Actual": 178300,
         "Predicted": 188489.584476815,
         "_deepnote_index_column": 7324
        },
        {
         "Actual": 185185.18518518517,
         "Predicted": 184110.63971419347,
         "_deepnote_index_column": 20668
        },
        {
         "Actual": 190000,
         "Predicted": 178134.86986068578,
         "_deepnote_index_column": 17460
        },
        {
         "Actual": 221600,
         "Predicted": 222834.81384862986,
         "_deepnote_index_column": 21899
        },
        {
         "Actual": 427184.46601941745,
         "Predicted": 449077.46772725927,
         "_deepnote_index_column": 3272
        },
        {
         "Actual": 145000,
         "Predicted": 157611.8090219451,
         "_deepnote_index_column": 11833
        },
        {
         "Actual": 357000,
         "Predicted": 350353.33798002533,
         "_deepnote_index_column": 9445
        },
        {
         "Actual": 150000,
         "Predicted": 170123.4536235665,
         "_deepnote_index_column": 10329
        },
        {
         "Actual": 219230.76923076922,
         "Predicted": 217399.03529726207,
         "_deepnote_index_column": 6908
        },
        {
         "Actual": 240786.24078624079,
         "Predicted": 246502.5664405643,
         "_deepnote_index_column": 13438
        },
        {
         "Actual": 233459.67058823528,
         "Predicted": 214713.00378865618,
         "_deepnote_index_column": 6972
        },
        {
         "Actual": 123333.33333333333,
         "Predicted": 174400.9773240232,
         "_deepnote_index_column": 13176
        },
        {
         "Actual": 162820.5128205128,
         "Predicted": 202552.3453749863,
         "_deepnote_index_column": 16959
        },
        {
         "Actual": 238924.05063291139,
         "Predicted": 203217.1704517389,
         "_deepnote_index_column": 19254
        },
        {
         "Actual": 341463.4146341463,
         "Predicted": 378842.94064301666,
         "_deepnote_index_column": 19976
        },
        {
         "Actual": 206000,
         "Predicted": 214885.9200760761,
         "_deepnote_index_column": 13474
        },
        {
         "Actual": 228000,
         "Predicted": 263747.2292150934,
         "_deepnote_index_column": 8373
        },
        {
         "Actual": 220700,
         "Predicted": 224500.24751701028,
         "_deepnote_index_column": 10005
        },
        {
         "Actual": 225714.2857142857,
         "Predicted": 205819.82439878184,
         "_deepnote_index_column": 16021
        },
        {
         "Actual": 404395.6043956044,
         "Predicted": 450051.06274997554,
         "_deepnote_index_column": 8577
        },
        {
         "Actual": 178571.42857142858,
         "Predicted": 195800.75844239217,
         "_deepnote_index_column": 11690
        },
        {
         "Actual": 263700,
         "Predicted": 296782.13040177786,
         "_deepnote_index_column": 9464
        },
        {
         "Actual": 181500,
         "Predicted": 168972.90024250987,
         "_deepnote_index_column": 5772
        },
        {
         "Actual": 323200,
         "Predicted": 302116.1883915157,
         "_deepnote_index_column": 10324
        },
        {
         "Actual": 173333.33333333334,
         "Predicted": 182353.50919923437,
         "_deepnote_index_column": 17535
        },
        {
         "Actual": 496470.6057441253,
         "Predicted": 385625.7036080511,
         "_deepnote_index_column": 10757
        },
        {
         "Actual": 223400,
         "Predicted": 210987.5102746534,
         "_deepnote_index_column": 20787
        }
       ]
      },
      "text/plain": "              Actual      Predicted\n17722  200000.000000  203684.697400\n10791  118300.000000  120042.593756\n13285  182400.000000  176922.228662\n14456  195876.288660  175795.719679\n2329    91836.734694  107637.024574\n...              ...            ...\n5772   181500.000000  168972.900243\n10324  323200.000000  302116.188392\n17535  173333.333333  182353.509199\n10757  496470.605744  385625.703608\n20787  223400.000000  210987.510275\n\n[4648 rows x 2 columns]",
      "text/html": "<div>\n<style scoped>\n    .dataframe tbody tr th:only-of-type {\n        vertical-align: middle;\n    }\n\n    .dataframe tbody tr th {\n        vertical-align: top;\n    }\n\n    .dataframe thead th {\n        text-align: right;\n    }\n</style>\n<table border=\"1\" class=\"dataframe\">\n  <thead>\n    <tr style=\"text-align: right;\">\n      <th></th>\n      <th>Actual</th>\n      <th>Predicted</th>\n    </tr>\n  </thead>\n  <tbody>\n    <tr>\n      <th>17722</th>\n      <td>200000.000000</td>\n      <td>203684.697400</td>\n    </tr>\n    <tr>\n      <th>10791</th>\n      <td>118300.000000</td>\n      <td>120042.593756</td>\n    </tr>\n    <tr>\n      <th>13285</th>\n      <td>182400.000000</td>\n      <td>176922.228662</td>\n    </tr>\n    <tr>\n      <th>14456</th>\n      <td>195876.288660</td>\n      <td>175795.719679</td>\n    </tr>\n    <tr>\n      <th>2329</th>\n      <td>91836.734694</td>\n      <td>107637.024574</td>\n    </tr>\n    <tr>\n      <th>...</th>\n      <td>...</td>\n      <td>...</td>\n    </tr>\n    <tr>\n      <th>5772</th>\n      <td>181500.000000</td>\n      <td>168972.900243</td>\n    </tr>\n    <tr>\n      <th>10324</th>\n      <td>323200.000000</td>\n      <td>302116.188392</td>\n    </tr>\n    <tr>\n      <th>17535</th>\n      <td>173333.333333</td>\n      <td>182353.509199</td>\n    </tr>\n    <tr>\n      <th>10757</th>\n      <td>496470.605744</td>\n      <td>385625.703608</td>\n    </tr>\n    <tr>\n      <th>20787</th>\n      <td>223400.000000</td>\n      <td>210987.510275</td>\n    </tr>\n  </tbody>\n</table>\n<p>4648 rows × 2 columns</p>\n</div>"
     },
     "metadata": {}
    }
   ],
   "execution_count": null
  },
  {
   "cell_type": "code",
   "metadata": {
    "tags": [],
    "deepnote_to_be_reexecuted": false,
    "source_hash": "ba868cf3",
    "execution_start": 1637359714800,
    "execution_millis": 2755,
    "deepnote_output_heights": [
     40.390625
    ],
    "cell_id": "00040-500d33a5-e248-49e9-ba1c-3ec23ab6524e",
    "deepnote_cell_type": "code"
   },
   "source": "final_labels = model.predict(X1_test.drop(['area_total'], axis=1))\nfinal_labels = final_labels.astype(float)\nfinal_labels",
   "outputs": [
    {
     "output_type": "execute_result",
     "execution_count": 55,
     "data": {
      "text/plain": "array([353413.59389275, 177100.67013323, 162895.51098374, ...,\n       217946.51808472, 237674.52300526, 120927.55835868])"
     },
     "metadata": {}
    }
   ],
   "execution_count": null
  },
  {
   "cell_type": "code",
   "metadata": {
    "tags": [],
    "deepnote_to_be_reexecuted": false,
    "source_hash": "b9b6cf57",
    "execution_start": 1637359720811,
    "execution_millis": 3,
    "deepnote_output_heights": [
     21.1875
    ],
    "cell_id": "00041-a6f55383-f5ca-4ac1-9380-144998612b68",
    "deepnote_cell_type": "code"
   },
   "source": "final_labels = final_labels * df_test.area_total.values\nlen(final_labels)",
   "outputs": [
    {
     "output_type": "execute_result",
     "execution_count": 56,
     "data": {
      "text/plain": "9937"
     },
     "metadata": {}
    }
   ],
   "execution_count": null
  },
  {
   "cell_type": "code",
   "metadata": {
    "tags": [],
    "deepnote_to_be_reexecuted": false,
    "source_hash": "b3d836d9",
    "execution_start": 1637359724567,
    "execution_millis": 28,
    "deepnote_output_heights": [
     21.1875
    ],
    "cell_id": "00042-a2ef3474-cf6b-400b-ad94-61eb66e43d42",
    "deepnote_cell_type": "code"
   },
   "source": "df_train.area_total.values",
   "outputs": [
    {
     "output_type": "execute_result",
     "execution_count": 57,
     "data": {
      "text/plain": "array([ 59.2,  88. ,  78.5, ...,  73.4, 100.8,  57.7])"
     },
     "metadata": {}
    }
   ],
   "execution_count": null
  },
  {
   "cell_type": "code",
   "metadata": {
    "tags": [],
    "deepnote_to_be_reexecuted": false,
    "source_hash": "841995ab",
    "execution_start": 1637359727172,
    "execution_millis": 5916,
    "cell_id": "00043-d9746831-ff8a-4bbf-a192-9a12cf3582ac",
    "deepnote_cell_type": "code"
   },
   "source": "y_train_hat = model.predict(X_train) * area_total_train ## * edit\ny_valid_hat = model.predict(X_val) * area_total_val ## * edit\n\ny_train = y_train * area_total_train ## edit\ny_val = y_val * area_total_val ## edit\n\n#print(f'Train RMSLE: {root_mean_squared_log_error(y_true=y_train, y_pred=y_train_hat) :.4f}')\nprint(f'Valid RMSLE: {root_mean_squared_log_error(y_true=y_val, y_pred=y_valid_hat) :.4f}')\n\n#Train RMSLE: 0.1283\n#Valid RMSLE: 0.1761\n\n#Train RMSLE: 0.0489\n#Valid RMSLE: 0.1451\n\n",
   "outputs": [
    {
     "name": "stdout",
     "text": "Valid RMSLE: 0.1399\n",
     "output_type": "stream"
    }
   ],
   "execution_count": null
  },
  {
   "cell_type": "code",
   "metadata": {
    "tags": [],
    "deepnote_to_be_reexecuted": false,
    "source_hash": "2939d586",
    "execution_start": 1637359741101,
    "execution_millis": 527,
    "cell_id": "00044-d36b5b9c-a37b-4983-b5cf-c2a56dc95b5d",
    "deepnote_cell_type": "code"
   },
   "source": "submission = pd.DataFrame()\nsubmission['id'] = df_test.id\nsubmission['price_prediction'] = final_labels # Predict on non-nan entries\n # Fill missing entries with mean predictor\nprint(f'Generated {len(submission)} predictions')\n\n# Export submission to csv with headers\n#submission.to_csv('sample_submission.csv', index=False)\n\nsubmission.to_csv('sample_submission.csv', index=False)",
   "outputs": [
    {
     "name": "stdout",
     "text": "Generated 9937 predictions\n",
     "output_type": "stream"
    }
   ],
   "execution_count": null
  },
  {
   "cell_type": "markdown",
   "source": "<a style='text-decoration:none;line-height:16px;display:flex;color:#5B5B62;padding:10px;justify-content:end;' href='https://deepnote.com?utm_source=created-in-deepnote-cell&projectId=99c1e030-46bc-40fa-835c-0661eae0d488' target=\"_blank\">\n<img alt='Created in deepnote.com' style='display:inline;max-height:16px;margin:0px;margin-right:7.5px;' src='data:image/svg+xml;base64,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' > </img>\nCreated in <span style='font-weight:600;margin-left:4px;'>Deepnote</span></a>",
   "metadata": {
    "tags": [],
    "created_in_deepnote_cell": true,
    "deepnote_cell_type": "markdown"
   }
  }
 ],
 "nbformat": 4,
 "nbformat_minor": 2,
 "metadata": {
  "orig_nbformat": 2,
  "deepnote": {
   "is_reactive": false
  },
  "deepnote_notebook_id": "fac9e24c-407c-4a10-bab0-c6d2826153d2",
  "deepnote_execution_queue": []
 }
}