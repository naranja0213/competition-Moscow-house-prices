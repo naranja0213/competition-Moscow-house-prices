{
 "cells": [
  {
   "cell_type": "code",
   "metadata": {
    "tags": [],
    "cell_id": "00000-4bc92a2e-4d97-4d91-bc9f-963cb002bb88",
    "deepnote_to_be_reexecuted": false,
    "source_hash": "7f6b2ffe",
    "execution_start": 1637283651874,
    "execution_millis": 3812,
    "deepnote_output_heights": [
     606.625,
     20.90625
    ],
    "deepnote_cell_type": "code"
   },
   "source": "import pandas as pd\nimport json\nimport pandas as pd\nimport numpy as np\nimport math as math\nimport matplotlib.pyplot as plt\nimport seaborn as sns\nimport sklearn.model_selection as model_selection\n\ndf_train = pd.read_csv('Training_clean3.csv')\ndf_train.describe()",
   "execution_count": null,
   "outputs": [
    {
     "output_type": "execute_result",
     "execution_count": 1,
     "data": {
      "application/vnd.deepnote.dataframe.v2+json": {
       "row_count": 8,
       "column_count": 32,
       "columns": [
        {
         "name": "id",
         "dtype": "float64",
         "stats": {
          "unique_count": 7,
          "nan_count": 0,
          "min": "0.0",
          "max": "23285.0",
          "histogram": [
           {
            "bin_start": 0,
            "bin_end": 2328.5,
            "count": 1
           },
           {
            "bin_start": 2328.5,
            "bin_end": 4657,
            "count": 0
           },
           {
            "bin_start": 4657,
            "bin_end": 6985.5,
            "count": 2
           },
           {
            "bin_start": 6985.5,
            "bin_end": 9314,
            "count": 0
           },
           {
            "bin_start": 9314,
            "bin_end": 11642.5,
            "count": 2
           },
           {
            "bin_start": 11642.5,
            "bin_end": 13971,
            "count": 0
           },
           {
            "bin_start": 13971,
            "bin_end": 16299.5,
            "count": 0
           },
           {
            "bin_start": 16299.5,
            "bin_end": 18628,
            "count": 1
           },
           {
            "bin_start": 18628,
            "bin_end": 20956.5,
            "count": 0
           },
           {
            "bin_start": 20956.5,
            "bin_end": 23285,
            "count": 2
           }
          ]
         }
        },
        {
         "name": "seller",
         "dtype": "float64",
         "stats": {
          "unique_count": 7,
          "nan_count": 0,
          "min": "0.0",
          "max": "23285.0",
          "histogram": [
           {
            "bin_start": 0,
            "bin_end": 2328.5,
            "count": 7
           },
           {
            "bin_start": 2328.5,
            "bin_end": 4657,
            "count": 0
           },
           {
            "bin_start": 4657,
            "bin_end": 6985.5,
            "count": 0
           },
           {
            "bin_start": 6985.5,
            "bin_end": 9314,
            "count": 0
           },
           {
            "bin_start": 9314,
            "bin_end": 11642.5,
            "count": 0
           },
           {
            "bin_start": 11642.5,
            "bin_end": 13971,
            "count": 0
           },
           {
            "bin_start": 13971,
            "bin_end": 16299.5,
            "count": 0
           },
           {
            "bin_start": 16299.5,
            "bin_end": 18628,
            "count": 0
           },
           {
            "bin_start": 18628,
            "bin_end": 20956.5,
            "count": 0
           },
           {
            "bin_start": 20956.5,
            "bin_end": 23285,
            "count": 1
           }
          ]
         }
        },
        {
         "name": "price",
         "dtype": "float64",
         "stats": {
          "unique_count": 8,
          "nan_count": 0,
          "min": "23285.0",
          "max": "2600000000.0",
          "histogram": [
           {
            "bin_start": 23285,
            "bin_end": 260020956.5,
            "count": 7
           },
           {
            "bin_start": 260020956.5,
            "bin_end": 520018628,
            "count": 0
           },
           {
            "bin_start": 520018628,
            "bin_end": 780016299.5,
            "count": 0
           },
           {
            "bin_start": 780016299.5,
            "bin_end": 1040013971,
            "count": 0
           },
           {
            "bin_start": 1040013971,
            "bin_end": 1300011642.5,
            "count": 0
           },
           {
            "bin_start": 1300011642.5,
            "bin_end": 1560009314,
            "count": 0
           },
           {
            "bin_start": 1560009314,
            "bin_end": 1820006985.5,
            "count": 0
           },
           {
            "bin_start": 1820006985.5,
            "bin_end": 2080004657,
            "count": 0
           },
           {
            "bin_start": 2080004657,
            "bin_end": 2340002328.5,
            "count": 0
           },
           {
            "bin_start": 2340002328.5,
            "bin_end": 2600000000,
            "count": 1
           }
          ]
         }
        },
        {
         "name": "area_total",
         "dtype": "float64",
         "stats": {
          "unique_count": 8,
          "nan_count": 0,
          "min": "9.3",
          "max": "23285.0",
          "histogram": [
           {
            "bin_start": 9.3,
            "bin_end": 2336.8700000000003,
            "count": 7
           },
           {
            "bin_start": 2336.8700000000003,
            "bin_end": 4664.4400000000005,
            "count": 0
           },
           {
            "bin_start": 4664.4400000000005,
            "bin_end": 6992.010000000001,
            "count": 0
           },
           {
            "bin_start": 6992.010000000001,
            "bin_end": 9319.58,
            "count": 0
           },
           {
            "bin_start": 9319.58,
            "bin_end": 11647.15,
            "count": 0
           },
           {
            "bin_start": 11647.15,
            "bin_end": 13974.720000000001,
            "count": 0
           },
           {
            "bin_start": 13974.720000000001,
            "bin_end": 16302.29,
            "count": 0
           },
           {
            "bin_start": 16302.29,
            "bin_end": 18629.86,
            "count": 0
           },
           {
            "bin_start": 18629.86,
            "bin_end": 20957.43,
            "count": 0
           },
           {
            "bin_start": 20957.43,
            "bin_end": 23285,
            "count": 1
           }
          ]
         }
        },
        {
         "name": "area_kitchen",
         "dtype": "float64",
         "stats": {
          "unique_count": 8,
          "nan_count": 0,
          "min": "1.0",
          "max": "23285.0",
          "histogram": [
           {
            "bin_start": 1,
            "bin_end": 2329.4,
            "count": 7
           },
           {
            "bin_start": 2329.4,
            "bin_end": 4657.8,
            "count": 0
           },
           {
            "bin_start": 4657.8,
            "bin_end": 6986.200000000001,
            "count": 0
           },
           {
            "bin_start": 6986.200000000001,
            "bin_end": 9314.6,
            "count": 0
           },
           {
            "bin_start": 9314.6,
            "bin_end": 11643,
            "count": 0
           },
           {
            "bin_start": 11643,
            "bin_end": 13971.400000000001,
            "count": 0
           },
           {
            "bin_start": 13971.400000000001,
            "bin_end": 16299.800000000001,
            "count": 0
           },
           {
            "bin_start": 16299.800000000001,
            "bin_end": 18628.2,
            "count": 0
           },
           {
            "bin_start": 18628.2,
            "bin_end": 20956.600000000002,
            "count": 0
           },
           {
            "bin_start": 20956.600000000002,
            "bin_end": 23285,
            "count": 1
           }
          ]
         }
        },
        {
         "name": "area_living",
         "dtype": "float64",
         "stats": {
          "unique_count": 8,
          "nan_count": 0,
          "min": "0.0",
          "max": "23285.0",
          "histogram": [
           {
            "bin_start": 0,
            "bin_end": 2328.5,
            "count": 7
           },
           {
            "bin_start": 2328.5,
            "bin_end": 4657,
            "count": 0
           },
           {
            "bin_start": 4657,
            "bin_end": 6985.5,
            "count": 0
           },
           {
            "bin_start": 6985.5,
            "bin_end": 9314,
            "count": 0
           },
           {
            "bin_start": 9314,
            "bin_end": 11642.5,
            "count": 0
           },
           {
            "bin_start": 11642.5,
            "bin_end": 13971,
            "count": 0
           },
           {
            "bin_start": 13971,
            "bin_end": 16299.5,
            "count": 0
           },
           {
            "bin_start": 16299.5,
            "bin_end": 18628,
            "count": 0
           },
           {
            "bin_start": 18628,
            "bin_end": 20956.5,
            "count": 0
           },
           {
            "bin_start": 20956.5,
            "bin_end": 23285,
            "count": 1
           }
          ]
         }
        },
        {
         "name": "floor",
         "dtype": "float64",
         "stats": {
          "unique_count": 8,
          "nan_count": 0,
          "min": "1.0",
          "max": "23285.0",
          "histogram": [
           {
            "bin_start": 1,
            "bin_end": 2329.4,
            "count": 7
           },
           {
            "bin_start": 2329.4,
            "bin_end": 4657.8,
            "count": 0
           },
           {
            "bin_start": 4657.8,
            "bin_end": 6986.200000000001,
            "count": 0
           },
           {
            "bin_start": 6986.200000000001,
            "bin_end": 9314.6,
            "count": 0
           },
           {
            "bin_start": 9314.6,
            "bin_end": 11643,
            "count": 0
           },
           {
            "bin_start": 11643,
            "bin_end": 13971.400000000001,
            "count": 0
           },
           {
            "bin_start": 13971.400000000001,
            "bin_end": 16299.800000000001,
            "count": 0
           },
           {
            "bin_start": 16299.800000000001,
            "bin_end": 18628.2,
            "count": 0
           },
           {
            "bin_start": 18628.2,
            "bin_end": 20956.600000000002,
            "count": 0
           },
           {
            "bin_start": 20956.600000000002,
            "bin_end": 23285,
            "count": 1
           }
          ]
         }
        },
        {
         "name": "rooms",
         "dtype": "float64",
         "stats": {
          "unique_count": 7,
          "nan_count": 0,
          "min": "1.0",
          "max": "23285.0",
          "histogram": [
           {
            "bin_start": 1,
            "bin_end": 2329.4,
            "count": 7
           },
           {
            "bin_start": 2329.4,
            "bin_end": 4657.8,
            "count": 0
           },
           {
            "bin_start": 4657.8,
            "bin_end": 6986.200000000001,
            "count": 0
           },
           {
            "bin_start": 6986.200000000001,
            "bin_end": 9314.6,
            "count": 0
           },
           {
            "bin_start": 9314.6,
            "bin_end": 11643,
            "count": 0
           },
           {
            "bin_start": 11643,
            "bin_end": 13971.400000000001,
            "count": 0
           },
           {
            "bin_start": 13971.400000000001,
            "bin_end": 16299.800000000001,
            "count": 0
           },
           {
            "bin_start": 16299.800000000001,
            "bin_end": 18628.2,
            "count": 0
           },
           {
            "bin_start": 18628.2,
            "bin_end": 20956.600000000002,
            "count": 0
           },
           {
            "bin_start": 20956.600000000002,
            "bin_end": 23285,
            "count": 1
           }
          ]
         }
        },
        {
         "name": "layout",
         "dtype": "float64",
         "stats": {
          "unique_count": 6,
          "nan_count": 0,
          "min": "0.0",
          "max": "23285.0",
          "histogram": [
           {
            "bin_start": 0,
            "bin_end": 2328.5,
            "count": 7
           },
           {
            "bin_start": 2328.5,
            "bin_end": 4657,
            "count": 0
           },
           {
            "bin_start": 4657,
            "bin_end": 6985.5,
            "count": 0
           },
           {
            "bin_start": 6985.5,
            "bin_end": 9314,
            "count": 0
           },
           {
            "bin_start": 9314,
            "bin_end": 11642.5,
            "count": 0
           },
           {
            "bin_start": 11642.5,
            "bin_end": 13971,
            "count": 0
           },
           {
            "bin_start": 13971,
            "bin_end": 16299.5,
            "count": 0
           },
           {
            "bin_start": 16299.5,
            "bin_end": 18628,
            "count": 0
           },
           {
            "bin_start": 18628,
            "bin_end": 20956.5,
            "count": 0
           },
           {
            "bin_start": 20956.5,
            "bin_end": 23285,
            "count": 1
           }
          ]
         }
        },
        {
         "name": "ceiling",
         "dtype": "float64",
         "stats": {
          "unique_count": 6,
          "nan_count": 0,
          "min": "0.0",
          "max": "23285.0",
          "histogram": [
           {
            "bin_start": 0,
            "bin_end": 2328.5,
            "count": 7
           },
           {
            "bin_start": 2328.5,
            "bin_end": 4657,
            "count": 0
           },
           {
            "bin_start": 4657,
            "bin_end": 6985.5,
            "count": 0
           },
           {
            "bin_start": 6985.5,
            "bin_end": 9314,
            "count": 0
           },
           {
            "bin_start": 9314,
            "bin_end": 11642.5,
            "count": 0
           },
           {
            "bin_start": 11642.5,
            "bin_end": 13971,
            "count": 0
           },
           {
            "bin_start": 13971,
            "bin_end": 16299.5,
            "count": 0
           },
           {
            "bin_start": 16299.5,
            "bin_end": 18628,
            "count": 0
           },
           {
            "bin_start": 18628,
            "bin_end": 20956.5,
            "count": 0
           },
           {
            "bin_start": 20956.5,
            "bin_end": 23285,
            "count": 1
           }
          ]
         }
        },
        {
         "name": "bathrooms_shared",
         "dtype": "float64",
         "stats": {
          "unique_count": 6,
          "nan_count": 0,
          "min": "0.0",
          "max": "23285.0",
          "histogram": [
           {
            "bin_start": 0,
            "bin_end": 2328.5,
            "count": 7
           },
           {
            "bin_start": 2328.5,
            "bin_end": 4657,
            "count": 0
           },
           {
            "bin_start": 4657,
            "bin_end": 6985.5,
            "count": 0
           },
           {
            "bin_start": 6985.5,
            "bin_end": 9314,
            "count": 0
           },
           {
            "bin_start": 9314,
            "bin_end": 11642.5,
            "count": 0
           },
           {
            "bin_start": 11642.5,
            "bin_end": 13971,
            "count": 0
           },
           {
            "bin_start": 13971,
            "bin_end": 16299.5,
            "count": 0
           },
           {
            "bin_start": 16299.5,
            "bin_end": 18628,
            "count": 0
           },
           {
            "bin_start": 18628,
            "bin_end": 20956.5,
            "count": 0
           },
           {
            "bin_start": 20956.5,
            "bin_end": 23285,
            "count": 1
           }
          ]
         }
        },
        {
         "name": "bathrooms_private",
         "dtype": "float64",
         "stats": {
          "unique_count": 6,
          "nan_count": 0,
          "min": "0.0",
          "max": "23285.0",
          "histogram": [
           {
            "bin_start": 0,
            "bin_end": 2328.5,
            "count": 7
           },
           {
            "bin_start": 2328.5,
            "bin_end": 4657,
            "count": 0
           },
           {
            "bin_start": 4657,
            "bin_end": 6985.5,
            "count": 0
           },
           {
            "bin_start": 6985.5,
            "bin_end": 9314,
            "count": 0
           },
           {
            "bin_start": 9314,
            "bin_end": 11642.5,
            "count": 0
           },
           {
            "bin_start": 11642.5,
            "bin_end": 13971,
            "count": 0
           },
           {
            "bin_start": 13971,
            "bin_end": 16299.5,
            "count": 0
           },
           {
            "bin_start": 16299.5,
            "bin_end": 18628,
            "count": 0
           },
           {
            "bin_start": 18628,
            "bin_end": 20956.5,
            "count": 0
           },
           {
            "bin_start": 20956.5,
            "bin_end": 23285,
            "count": 1
           }
          ]
         }
        },
        {
         "name": "windows_court",
         "dtype": "float64",
         "stats": {
          "unique_count": 5,
          "nan_count": 0,
          "min": "0.0",
          "max": "23285.0",
          "histogram": [
           {
            "bin_start": 0,
            "bin_end": 2328.5,
            "count": 7
           },
           {
            "bin_start": 2328.5,
            "bin_end": 4657,
            "count": 0
           },
           {
            "bin_start": 4657,
            "bin_end": 6985.5,
            "count": 0
           },
           {
            "bin_start": 6985.5,
            "bin_end": 9314,
            "count": 0
           },
           {
            "bin_start": 9314,
            "bin_end": 11642.5,
            "count": 0
           },
           {
            "bin_start": 11642.5,
            "bin_end": 13971,
            "count": 0
           },
           {
            "bin_start": 13971,
            "bin_end": 16299.5,
            "count": 0
           },
           {
            "bin_start": 16299.5,
            "bin_end": 18628,
            "count": 0
           },
           {
            "bin_start": 18628,
            "bin_end": 20956.5,
            "count": 0
           },
           {
            "bin_start": 20956.5,
            "bin_end": 23285,
            "count": 1
           }
          ]
         }
        },
        {
         "name": "windows_street",
         "dtype": "float64",
         "stats": {
          "unique_count": 5,
          "nan_count": 0,
          "min": "0.0",
          "max": "23285.0",
          "histogram": [
           {
            "bin_start": 0,
            "bin_end": 2328.5,
            "count": 7
           },
           {
            "bin_start": 2328.5,
            "bin_end": 4657,
            "count": 0
           },
           {
            "bin_start": 4657,
            "bin_end": 6985.5,
            "count": 0
           },
           {
            "bin_start": 6985.5,
            "bin_end": 9314,
            "count": 0
           },
           {
            "bin_start": 9314,
            "bin_end": 11642.5,
            "count": 0
           },
           {
            "bin_start": 11642.5,
            "bin_end": 13971,
            "count": 0
           },
           {
            "bin_start": 13971,
            "bin_end": 16299.5,
            "count": 0
           },
           {
            "bin_start": 16299.5,
            "bin_end": 18628,
            "count": 0
           },
           {
            "bin_start": 18628,
            "bin_end": 20956.5,
            "count": 0
           },
           {
            "bin_start": 20956.5,
            "bin_end": 23285,
            "count": 1
           }
          ]
         }
        },
        {
         "name": "balconies",
         "dtype": "float64",
         "stats": {
          "unique_count": 6,
          "nan_count": 0,
          "min": "0.0",
          "max": "23285.0",
          "histogram": [
           {
            "bin_start": 0,
            "bin_end": 2328.5,
            "count": 7
           },
           {
            "bin_start": 2328.5,
            "bin_end": 4657,
            "count": 0
           },
           {
            "bin_start": 4657,
            "bin_end": 6985.5,
            "count": 0
           },
           {
            "bin_start": 6985.5,
            "bin_end": 9314,
            "count": 0
           },
           {
            "bin_start": 9314,
            "bin_end": 11642.5,
            "count": 0
           },
           {
            "bin_start": 11642.5,
            "bin_end": 13971,
            "count": 0
           },
           {
            "bin_start": 13971,
            "bin_end": 16299.5,
            "count": 0
           },
           {
            "bin_start": 16299.5,
            "bin_end": 18628,
            "count": 0
           },
           {
            "bin_start": 18628,
            "bin_end": 20956.5,
            "count": 0
           },
           {
            "bin_start": 20956.5,
            "bin_end": 23285,
            "count": 1
           }
          ]
         }
        },
        {
         "name": "loggias",
         "dtype": "float64",
         "stats": {
          "unique_count": 6,
          "nan_count": 0,
          "min": "0.0",
          "max": "23285.0",
          "histogram": [
           {
            "bin_start": 0,
            "bin_end": 2328.5,
            "count": 7
           },
           {
            "bin_start": 2328.5,
            "bin_end": 4657,
            "count": 0
           },
           {
            "bin_start": 4657,
            "bin_end": 6985.5,
            "count": 0
           },
           {
            "bin_start": 6985.5,
            "bin_end": 9314,
            "count": 0
           },
           {
            "bin_start": 9314,
            "bin_end": 11642.5,
            "count": 0
           },
           {
            "bin_start": 11642.5,
            "bin_end": 13971,
            "count": 0
           },
           {
            "bin_start": 13971,
            "bin_end": 16299.5,
            "count": 0
           },
           {
            "bin_start": 16299.5,
            "bin_end": 18628,
            "count": 0
           },
           {
            "bin_start": 18628,
            "bin_end": 20956.5,
            "count": 0
           },
           {
            "bin_start": 20956.5,
            "bin_end": 23285,
            "count": 1
           }
          ]
         }
        },
        {
         "name": "condition",
         "dtype": "float64",
         "stats": {
          "unique_count": 7,
          "nan_count": 0,
          "min": "0.0",
          "max": "23285.0",
          "histogram": [
           {
            "bin_start": 0,
            "bin_end": 2328.5,
            "count": 7
           },
           {
            "bin_start": 2328.5,
            "bin_end": 4657,
            "count": 0
           },
           {
            "bin_start": 4657,
            "bin_end": 6985.5,
            "count": 0
           },
           {
            "bin_start": 6985.5,
            "bin_end": 9314,
            "count": 0
           },
           {
            "bin_start": 9314,
            "bin_end": 11642.5,
            "count": 0
           },
           {
            "bin_start": 11642.5,
            "bin_end": 13971,
            "count": 0
           },
           {
            "bin_start": 13971,
            "bin_end": 16299.5,
            "count": 0
           },
           {
            "bin_start": 16299.5,
            "bin_end": 18628,
            "count": 0
           },
           {
            "bin_start": 18628,
            "bin_end": 20956.5,
            "count": 0
           },
           {
            "bin_start": 20956.5,
            "bin_end": 23285,
            "count": 1
           }
          ]
         }
        },
        {
         "name": "phones",
         "dtype": "float64",
         "stats": {
          "unique_count": 6,
          "nan_count": 0,
          "min": "0.0",
          "max": "23285.0",
          "histogram": [
           {
            "bin_start": 0,
            "bin_end": 2328.5,
            "count": 7
           },
           {
            "bin_start": 2328.5,
            "bin_end": 4657,
            "count": 0
           },
           {
            "bin_start": 4657,
            "bin_end": 6985.5,
            "count": 0
           },
           {
            "bin_start": 6985.5,
            "bin_end": 9314,
            "count": 0
           },
           {
            "bin_start": 9314,
            "bin_end": 11642.5,
            "count": 0
           },
           {
            "bin_start": 11642.5,
            "bin_end": 13971,
            "count": 0
           },
           {
            "bin_start": 13971,
            "bin_end": 16299.5,
            "count": 0
           },
           {
            "bin_start": 16299.5,
            "bin_end": 18628,
            "count": 0
           },
           {
            "bin_start": 18628,
            "bin_end": 20956.5,
            "count": 0
           },
           {
            "bin_start": 20956.5,
            "bin_end": 23285,
            "count": 1
           }
          ]
         }
        },
        {
         "name": "building_id",
         "dtype": "float64",
         "stats": {
          "unique_count": 8,
          "nan_count": 0,
          "min": "0.0",
          "max": "23285.0",
          "histogram": [
           {
            "bin_start": 0,
            "bin_end": 2328.5,
            "count": 1
           },
           {
            "bin_start": 2328.5,
            "bin_end": 4657,
            "count": 2
           },
           {
            "bin_start": 4657,
            "bin_end": 6985.5,
            "count": 2
           },
           {
            "bin_start": 6985.5,
            "bin_end": 9314,
            "count": 1
           },
           {
            "bin_start": 9314,
            "bin_end": 11642.5,
            "count": 1
           },
           {
            "bin_start": 11642.5,
            "bin_end": 13971,
            "count": 0
           },
           {
            "bin_start": 13971,
            "bin_end": 16299.5,
            "count": 0
           },
           {
            "bin_start": 16299.5,
            "bin_end": 18628,
            "count": 0
           },
           {
            "bin_start": 18628,
            "bin_end": 20956.5,
            "count": 0
           },
           {
            "bin_start": 20956.5,
            "bin_end": 23285,
            "count": 1
           }
          ]
         }
        },
        {
         "name": "new",
         "dtype": "float64",
         "stats": {
          "unique_count": 5,
          "nan_count": 0,
          "min": "0.0",
          "max": "23285.0",
          "histogram": [
           {
            "bin_start": 0,
            "bin_end": 2328.5,
            "count": 7
           },
           {
            "bin_start": 2328.5,
            "bin_end": 4657,
            "count": 0
           },
           {
            "bin_start": 4657,
            "bin_end": 6985.5,
            "count": 0
           },
           {
            "bin_start": 6985.5,
            "bin_end": 9314,
            "count": 0
           },
           {
            "bin_start": 9314,
            "bin_end": 11642.5,
            "count": 0
           },
           {
            "bin_start": 11642.5,
            "bin_end": 13971,
            "count": 0
           },
           {
            "bin_start": 13971,
            "bin_end": 16299.5,
            "count": 0
           },
           {
            "bin_start": 16299.5,
            "bin_end": 18628,
            "count": 0
           },
           {
            "bin_start": 18628,
            "bin_end": 20956.5,
            "count": 0
           },
           {
            "bin_start": 20956.5,
            "bin_end": 23285,
            "count": 1
           }
          ]
         }
        },
        {
         "name": "latitude",
         "dtype": "float64",
         "stats": {
          "unique_count": 8,
          "nan_count": 0,
          "min": "0.10183053763171086",
          "max": "23285.0",
          "histogram": [
           {
            "bin_start": 0.10183053763171086,
            "bin_end": 2328.591647483868,
            "count": 7
           },
           {
            "bin_start": 2328.591647483868,
            "bin_end": 4657.081464430105,
            "count": 0
           },
           {
            "bin_start": 4657.081464430105,
            "bin_end": 6985.571281376342,
            "count": 0
           },
           {
            "bin_start": 6985.571281376342,
            "bin_end": 9314.061098322578,
            "count": 0
           },
           {
            "bin_start": 9314.061098322578,
            "bin_end": 11642.550915268814,
            "count": 0
           },
           {
            "bin_start": 11642.550915268814,
            "bin_end": 13971.040732215051,
            "count": 0
           },
           {
            "bin_start": 13971.040732215051,
            "bin_end": 16299.530549161289,
            "count": 0
           },
           {
            "bin_start": 16299.530549161289,
            "bin_end": 18628.020366107525,
            "count": 0
           },
           {
            "bin_start": 18628.020366107525,
            "bin_end": 20956.51018305376,
            "count": 0
           },
           {
            "bin_start": 20956.51018305376,
            "bin_end": 23285,
            "count": 1
           }
          ]
         }
        },
        {
         "name": "longitude",
         "dtype": "float64",
         "stats": {
          "unique_count": 8,
          "nan_count": 0,
          "min": "0.15018146115571812",
          "max": "23285.0",
          "histogram": [
           {
            "bin_start": 0.15018146115571812,
            "bin_end": 2328.6351633150402,
            "count": 7
           },
           {
            "bin_start": 2328.6351633150402,
            "bin_end": 4657.120145168925,
            "count": 0
           },
           {
            "bin_start": 4657.120145168925,
            "bin_end": 6985.60512702281,
            "count": 0
           },
           {
            "bin_start": 6985.60512702281,
            "bin_end": 9314.090108876695,
            "count": 0
           },
           {
            "bin_start": 9314.090108876695,
            "bin_end": 11642.57509073058,
            "count": 0
           },
           {
            "bin_start": 11642.57509073058,
            "bin_end": 13971.060072584465,
            "count": 0
           },
           {
            "bin_start": 13971.060072584465,
            "bin_end": 16299.54505443835,
            "count": 0
           },
           {
            "bin_start": 16299.54505443835,
            "bin_end": 18628.03003629223,
            "count": 0
           },
           {
            "bin_start": 18628.03003629223,
            "bin_end": 20956.515018146118,
            "count": 0
           },
           {
            "bin_start": 20956.515018146118,
            "bin_end": 23285,
            "count": 1
           }
          ]
         }
        },
        {
         "name": "district",
         "dtype": "float64",
         "stats": {
          "unique_count": 8,
          "nan_count": 0,
          "min": "0.0",
          "max": "23285.0",
          "histogram": [
           {
            "bin_start": 0,
            "bin_end": 2328.5,
            "count": 7
           },
           {
            "bin_start": 2328.5,
            "bin_end": 4657,
            "count": 0
           },
           {
            "bin_start": 4657,
            "bin_end": 6985.5,
            "count": 0
           },
           {
            "bin_start": 6985.5,
            "bin_end": 9314,
            "count": 0
           },
           {
            "bin_start": 9314,
            "bin_end": 11642.5,
            "count": 0
           },
           {
            "bin_start": 11642.5,
            "bin_end": 13971,
            "count": 0
           },
           {
            "bin_start": 13971,
            "bin_end": 16299.5,
            "count": 0
           },
           {
            "bin_start": 16299.5,
            "bin_end": 18628,
            "count": 0
           },
           {
            "bin_start": 18628,
            "bin_end": 20956.5,
            "count": 0
           },
           {
            "bin_start": 20956.5,
            "bin_end": 23285,
            "count": 1
           }
          ]
         }
        },
        {
         "name": "constructed",
         "dtype": "float64",
         "stats": {
          "unique_count": 8,
          "nan_count": 0,
          "min": "22.699717027305674",
          "max": "23285.0",
          "histogram": [
           {
            "bin_start": 22.699717027305674,
            "bin_end": 2348.929745324575,
            "count": 7
           },
           {
            "bin_start": 2348.929745324575,
            "bin_end": 4675.159773621844,
            "count": 0
           },
           {
            "bin_start": 4675.159773621844,
            "bin_end": 7001.389801919113,
            "count": 0
           },
           {
            "bin_start": 7001.389801919113,
            "bin_end": 9327.619830216383,
            "count": 0
           },
           {
            "bin_start": 9327.619830216383,
            "bin_end": 11653.849858513651,
            "count": 0
           },
           {
            "bin_start": 11653.849858513651,
            "bin_end": 13980.079886810921,
            "count": 0
           },
           {
            "bin_start": 13980.079886810921,
            "bin_end": 16306.309915108191,
            "count": 0
           },
           {
            "bin_start": 16306.309915108191,
            "bin_end": 18632.53994340546,
            "count": 0
           },
           {
            "bin_start": 18632.53994340546,
            "bin_end": 20958.769971702728,
            "count": 0
           },
           {
            "bin_start": 20958.769971702728,
            "bin_end": 23285,
            "count": 1
           }
          ]
         }
        },
        {
         "name": "material",
         "dtype": "float64",
         "stats": {
          "unique_count": 7,
          "nan_count": 0,
          "min": "0.0",
          "max": "23285.0",
          "histogram": [
           {
            "bin_start": 0,
            "bin_end": 2328.5,
            "count": 7
           },
           {
            "bin_start": 2328.5,
            "bin_end": 4657,
            "count": 0
           },
           {
            "bin_start": 4657,
            "bin_end": 6985.5,
            "count": 0
           },
           {
            "bin_start": 6985.5,
            "bin_end": 9314,
            "count": 0
           },
           {
            "bin_start": 9314,
            "bin_end": 11642.5,
            "count": 0
           },
           {
            "bin_start": 11642.5,
            "bin_end": 13971,
            "count": 0
           },
           {
            "bin_start": 13971,
            "bin_end": 16299.5,
            "count": 0
           },
           {
            "bin_start": 16299.5,
            "bin_end": 18628,
            "count": 0
           },
           {
            "bin_start": 18628,
            "bin_end": 20956.5,
            "count": 0
           },
           {
            "bin_start": 20956.5,
            "bin_end": 23285,
            "count": 1
           }
          ]
         }
        },
        {
         "name": "stories",
         "dtype": "float64",
         "stats": {
          "unique_count": 8,
          "nan_count": 0,
          "min": "1.0",
          "max": "23285.0",
          "histogram": [
           {
            "bin_start": 1,
            "bin_end": 2329.4,
            "count": 7
           },
           {
            "bin_start": 2329.4,
            "bin_end": 4657.8,
            "count": 0
           },
           {
            "bin_start": 4657.8,
            "bin_end": 6986.200000000001,
            "count": 0
           },
           {
            "bin_start": 6986.200000000001,
            "bin_end": 9314.6,
            "count": 0
           },
           {
            "bin_start": 9314.6,
            "bin_end": 11643,
            "count": 0
           },
           {
            "bin_start": 11643,
            "bin_end": 13971.400000000001,
            "count": 0
           },
           {
            "bin_start": 13971.400000000001,
            "bin_end": 16299.800000000001,
            "count": 0
           },
           {
            "bin_start": 16299.800000000001,
            "bin_end": 18628.2,
            "count": 0
           },
           {
            "bin_start": 18628.2,
            "bin_end": 20956.600000000002,
            "count": 0
           },
           {
            "bin_start": 20956.600000000002,
            "bin_end": 23285,
            "count": 1
           }
          ]
         }
        },
        {
         "name": "elevator_without",
         "dtype": "float64",
         "stats": {
          "unique_count": 5,
          "nan_count": 0,
          "min": "0.0",
          "max": "23285.0",
          "histogram": [
           {
            "bin_start": 0,
            "bin_end": 2328.5,
            "count": 7
           },
           {
            "bin_start": 2328.5,
            "bin_end": 4657,
            "count": 0
           },
           {
            "bin_start": 4657,
            "bin_end": 6985.5,
            "count": 0
           },
           {
            "bin_start": 6985.5,
            "bin_end": 9314,
            "count": 0
           },
           {
            "bin_start": 9314,
            "bin_end": 11642.5,
            "count": 0
           },
           {
            "bin_start": 11642.5,
            "bin_end": 13971,
            "count": 0
           },
           {
            "bin_start": 13971,
            "bin_end": 16299.5,
            "count": 0
           },
           {
            "bin_start": 16299.5,
            "bin_end": 18628,
            "count": 0
           },
           {
            "bin_start": 18628,
            "bin_end": 20956.5,
            "count": 0
           },
           {
            "bin_start": 20956.5,
            "bin_end": 23285,
            "count": 1
           }
          ]
         }
        },
        {
         "name": "elevator_passenger",
         "dtype": "float64",
         "stats": {
          "unique_count": 5,
          "nan_count": 0,
          "min": "0.0",
          "max": "23285.0",
          "histogram": [
           {
            "bin_start": 0,
            "bin_end": 2328.5,
            "count": 7
           },
           {
            "bin_start": 2328.5,
            "bin_end": 4657,
            "count": 0
           },
           {
            "bin_start": 4657,
            "bin_end": 6985.5,
            "count": 0
           },
           {
            "bin_start": 6985.5,
            "bin_end": 9314,
            "count": 0
           },
           {
            "bin_start": 9314,
            "bin_end": 11642.5,
            "count": 0
           },
           {
            "bin_start": 11642.5,
            "bin_end": 13971,
            "count": 0
           },
           {
            "bin_start": 13971,
            "bin_end": 16299.5,
            "count": 0
           },
           {
            "bin_start": 16299.5,
            "bin_end": 18628,
            "count": 0
           },
           {
            "bin_start": 18628,
            "bin_end": 20956.5,
            "count": 0
           },
           {
            "bin_start": 20956.5,
            "bin_end": 23285,
            "count": 1
           }
          ]
         }
        },
        {
         "name": "elevator_service",
         "dtype": "float64",
         "stats": {
          "unique_count": 5,
          "nan_count": 0,
          "min": "0.0",
          "max": "23285.0",
          "histogram": [
           {
            "bin_start": 0,
            "bin_end": 2328.5,
            "count": 7
           },
           {
            "bin_start": 2328.5,
            "bin_end": 4657,
            "count": 0
           },
           {
            "bin_start": 4657,
            "bin_end": 6985.5,
            "count": 0
           },
           {
            "bin_start": 6985.5,
            "bin_end": 9314,
            "count": 0
           },
           {
            "bin_start": 9314,
            "bin_end": 11642.5,
            "count": 0
           },
           {
            "bin_start": 11642.5,
            "bin_end": 13971,
            "count": 0
           },
           {
            "bin_start": 13971,
            "bin_end": 16299.5,
            "count": 0
           },
           {
            "bin_start": 16299.5,
            "bin_end": 18628,
            "count": 0
           },
           {
            "bin_start": 18628,
            "bin_end": 20956.5,
            "count": 0
           },
           {
            "bin_start": 20956.5,
            "bin_end": 23285,
            "count": 1
           }
          ]
         }
        },
        {
         "name": "parking",
         "dtype": "float64",
         "stats": {
          "unique_count": 6,
          "nan_count": 0,
          "min": "0.0",
          "max": "23285.0",
          "histogram": [
           {
            "bin_start": 0,
            "bin_end": 2328.5,
            "count": 7
           },
           {
            "bin_start": 2328.5,
            "bin_end": 4657,
            "count": 0
           },
           {
            "bin_start": 4657,
            "bin_end": 6985.5,
            "count": 0
           },
           {
            "bin_start": 6985.5,
            "bin_end": 9314,
            "count": 0
           },
           {
            "bin_start": 9314,
            "bin_end": 11642.5,
            "count": 0
           },
           {
            "bin_start": 11642.5,
            "bin_end": 13971,
            "count": 0
           },
           {
            "bin_start": 13971,
            "bin_end": 16299.5,
            "count": 0
           },
           {
            "bin_start": 16299.5,
            "bin_end": 18628,
            "count": 0
           },
           {
            "bin_start": 18628,
            "bin_end": 20956.5,
            "count": 0
           },
           {
            "bin_start": 20956.5,
            "bin_end": 23285,
            "count": 1
           }
          ]
         }
        },
        {
         "name": "garbage_chute",
         "dtype": "float64",
         "stats": {
          "unique_count": 5,
          "nan_count": 0,
          "min": "0.0",
          "max": "23285.0",
          "histogram": [
           {
            "bin_start": 0,
            "bin_end": 2328.5,
            "count": 7
           },
           {
            "bin_start": 2328.5,
            "bin_end": 4657,
            "count": 0
           },
           {
            "bin_start": 4657,
            "bin_end": 6985.5,
            "count": 0
           },
           {
            "bin_start": 6985.5,
            "bin_end": 9314,
            "count": 0
           },
           {
            "bin_start": 9314,
            "bin_end": 11642.5,
            "count": 0
           },
           {
            "bin_start": 11642.5,
            "bin_end": 13971,
            "count": 0
           },
           {
            "bin_start": 13971,
            "bin_end": 16299.5,
            "count": 0
           },
           {
            "bin_start": 16299.5,
            "bin_end": 18628,
            "count": 0
           },
           {
            "bin_start": 18628,
            "bin_end": 20956.5,
            "count": 0
           },
           {
            "bin_start": 20956.5,
            "bin_end": 23285,
            "count": 1
           }
          ]
         }
        },
        {
         "name": "heating",
         "dtype": "float64",
         "stats": {
          "unique_count": 5,
          "nan_count": 0,
          "min": "0.0",
          "max": "23285.0",
          "histogram": [
           {
            "bin_start": 0,
            "bin_end": 2328.5,
            "count": 7
           },
           {
            "bin_start": 2328.5,
            "bin_end": 4657,
            "count": 0
           },
           {
            "bin_start": 4657,
            "bin_end": 6985.5,
            "count": 0
           },
           {
            "bin_start": 6985.5,
            "bin_end": 9314,
            "count": 0
           },
           {
            "bin_start": 9314,
            "bin_end": 11642.5,
            "count": 0
           },
           {
            "bin_start": 11642.5,
            "bin_end": 13971,
            "count": 0
           },
           {
            "bin_start": 13971,
            "bin_end": 16299.5,
            "count": 0
           },
           {
            "bin_start": 16299.5,
            "bin_end": 18628,
            "count": 0
           },
           {
            "bin_start": 18628,
            "bin_end": 20956.5,
            "count": 0
           },
           {
            "bin_start": 20956.5,
            "bin_end": 23285,
            "count": 1
           }
          ]
         }
        },
        {
         "name": "_deepnote_index_column",
         "dtype": "object"
        }
       ],
       "rows_top": [
        {
         "id": 23285,
         "seller": 23285,
         "price": 23285,
         "area_total": 23285,
         "area_kitchen": 23285,
         "area_living": 23285,
         "floor": 23285,
         "rooms": 23285,
         "layout": 23285,
         "ceiling": 23285,
         "bathrooms_shared": 23285,
         "bathrooms_private": 23285,
         "windows_court": 23285,
         "windows_street": 23285,
         "balconies": 23285,
         "loggias": 23285,
         "condition": 23285,
         "phones": 23285,
         "building_id": 23285,
         "new": 23285,
         "latitude": 23285,
         "longitude": 23285,
         "district": 23285,
         "constructed": 23285,
         "material": 23285,
         "stories": 23285,
         "elevator_without": 23285,
         "elevator_passenger": 23285,
         "elevator_service": 23285,
         "parking": 23285,
         "garbage_chute": 23285,
         "heating": 23285,
         "_deepnote_index_column": "count"
        },
        {
         "id": 11642,
         "seller": 1.822503757783981,
         "price": 23556173.4710758,
         "area_total": 74.45099935580846,
         "area_kitchen": 13.019936439768092,
         "area_living": 42.35981885333906,
         "floor": 8.969594159330041,
         "rooms": 2.189349366544986,
         "layout": 1.0136139145372558,
         "ceiling": 3.5858277861284087,
         "bathrooms_shared": 0.7670173931715697,
         "bathrooms_private": 0.6680695726862788,
         "windows_court": 0.8421301266910028,
         "windows_street": 0.4795361820914752,
         "balconies": 0.5604466394674683,
         "loggias": 0.6995490659222675,
         "condition": 1.2284303199484647,
         "phones": 1.162035645265192,
         "building_id": 4844.089156109083,
         "new": 0.33493665449860427,
         "latitude": 55.728337146145584,
         "longitude": 37.58342464234486,
         "district": 4.662958986471978,
         "constructed": 2002.5908095340349,
         "material": 2.202319089542624,
         "stories": 17.608932789349367,
         "elevator_without": 0.39141077947176295,
         "elevator_passenger": 0.9302984754133562,
         "elevator_service": 0.7425381146660941,
         "parking": 0.6374490015031136,
         "garbage_chute": 0.8443633240283445,
         "heating": 0.1664161477345931,
         "_deepnote_index_column": "mean"
        },
        {
         "id": 6721.944845057865,
         "seller": 0.9942155331333881,
         "price": 52643927.8107374,
         "area_total": 58.67137288575937,
         "area_kitchen": 6.499997293307257,
         "area_living": 35.13858662579857,
         "floor": 8.322039031884254,
         "rooms": 1.0761297592164831,
         "layout": 0.2005708642375221,
         "ceiling": 9.089246472713663,
         "bathrooms_shared": 0.7691624990343678,
         "bathrooms_private": 0.6914921450551113,
         "windows_court": 0.3646267765950641,
         "windows_street": 0.49959178451828,
         "balconies": 0.5904006249239261,
         "loggias": 0.5884286647263001,
         "condition": 0.8588289392482742,
         "phones": 0.45647339132084785,
         "building_id": 2790.67669806559,
         "new": 0.4719784516297778,
         "latitude": 0.10183053763171086,
         "longitude": 0.15018146115571812,
         "district": 3.1522584713891404,
         "constructed": 22.699717027305674,
         "material": 0.9610583601790361,
         "stories": 11.216637606635215,
         "elevator_without": 0.48807644047425713,
         "elevator_passenger": 0.25464879135823754,
         "elevator_service": 0.4372453241823104,
         "parking": 0.5216225063321512,
         "garbage_chute": 0.3625183374967659,
         "heating": 0.505600715287039,
         "_deepnote_index_column": "std"
        },
        {
         "id": 0,
         "seller": 0,
         "price": 900000,
         "area_total": 9.3,
         "area_kitchen": 1,
         "area_living": 0,
         "floor": 1,
         "rooms": 1,
         "layout": 0,
         "ceiling": 0,
         "bathrooms_shared": 0,
         "bathrooms_private": 0,
         "windows_court": 0,
         "windows_street": 0,
         "balconies": 0,
         "loggias": 0,
         "condition": 0,
         "phones": 0,
         "building_id": 0,
         "new": 0,
         "latitude": 55.21143000000001,
         "longitude": 36.864371000000006,
         "district": 0,
         "constructed": 1855,
         "material": 0,
         "stories": 1,
         "elevator_without": 0,
         "elevator_passenger": 0,
         "elevator_service": 0,
         "parking": 0,
         "garbage_chute": 0,
         "heating": 0,
         "_deepnote_index_column": "min"
        },
        {
         "id": 5821,
         "seller": 1,
         "price": 7490000,
         "area_total": 42,
         "area_kitchen": 8.52,
         "area_living": 20.8,
         "floor": 3,
         "rooms": 1,
         "layout": 1,
         "ceiling": 3,
         "bathrooms_shared": 0,
         "bathrooms_private": 0,
         "windows_court": 1,
         "windows_street": 0,
         "balconies": 0,
         "loggias": 0,
         "condition": 1,
         "phones": 1,
         "building_id": 2426,
         "new": 0,
         "latitude": 55.664837,
         "longitude": 37.497827,
         "district": 2,
         "constructed": 1989,
         "material": 2,
         "stories": 9,
         "elevator_without": 0,
         "elevator_passenger": 1,
         "elevator_service": 0,
         "parking": 0,
         "garbage_chute": 1,
         "heating": 0,
         "_deepnote_index_column": "25%"
        },
        {
         "id": 11642,
         "seller": 2,
         "price": 10645001,
         "area_total": 59.8,
         "area_kitchen": 11.4,
         "area_living": 32.08,
         "floor": 7,
         "rooms": 2,
         "layout": 1,
         "ceiling": 3,
         "bathrooms_shared": 1,
         "bathrooms_private": 1,
         "windows_court": 1,
         "windows_street": 0,
         "balconies": 1,
         "loggias": 1,
         "condition": 1,
         "phones": 1,
         "building_id": 4772,
         "new": 0,
         "latitude": 55.738622,
         "longitude": 37.571938,
         "district": 5,
         "constructed": 2013,
         "material": 2,
         "stories": 16,
         "elevator_without": 0,
         "elevator_passenger": 1,
         "elevator_service": 1,
         "parking": 1,
         "garbage_chute": 1,
         "heating": 0,
         "_deepnote_index_column": "50%"
        },
        {
         "id": 17463,
         "seller": 3,
         "price": 20500000,
         "area_total": 84.8,
         "area_kitchen": 16.2,
         "area_living": 48.6,
         "floor": 12,
         "rooms": 3,
         "layout": 1,
         "ceiling": 3,
         "bathrooms_shared": 1,
         "bathrooms_private": 1,
         "windows_court": 1,
         "windows_street": 1,
         "balconies": 1,
         "loggias": 1,
         "condition": 2,
         "phones": 1,
         "building_id": 7340,
         "new": 1,
         "latitude": 55.797458,
         "longitude": 37.671085,
         "district": 7,
         "constructed": 2019,
         "material": 3,
         "stories": 22,
         "elevator_without": 1,
         "elevator_passenger": 1,
         "elevator_service": 1,
         "parking": 1,
         "garbage_chute": 1,
         "heating": 0,
         "_deepnote_index_column": "75%"
        },
        {
         "id": 23284,
         "seller": 3,
         "price": 2600000000,
         "area_total": 2181,
         "area_kitchen": 100,
         "area_living": 900,
         "floor": 95,
         "rooms": 6,
         "layout": 2,
         "ceiling": 340,
         "bathrooms_shared": 4,
         "bathrooms_private": 4,
         "windows_court": 1,
         "windows_street": 1,
         "balconies": 4,
         "loggias": 4,
         "condition": 3,
         "phones": 2,
         "building_id": 9735,
         "new": 1,
         "latitude": 56.00650699999999,
         "longitude": 37.950668,
         "district": 11,
         "constructed": 2023,
         "material": 6,
         "stories": 95,
         "elevator_without": 1,
         "elevator_passenger": 1,
         "elevator_service": 1,
         "parking": 2,
         "garbage_chute": 1,
         "heating": 3,
         "_deepnote_index_column": "max"
        }
       ],
       "rows_bottom": null
      },
      "text/plain": "                 id        seller         price    area_total  area_kitchen  \\\ncount  23285.000000  23285.000000  2.328500e+04  23285.000000  23285.000000   \nmean   11642.000000      1.822504  2.355617e+07     74.450999     13.019936   \nstd     6721.944845      0.994216  5.264393e+07     58.671373      6.499997   \nmin        0.000000      0.000000  9.000000e+05      9.300000      1.000000   \n25%     5821.000000      1.000000  7.490000e+06     42.000000      8.520000   \n50%    11642.000000      2.000000  1.064500e+07     59.800000     11.400000   \n75%    17463.000000      3.000000  2.050000e+07     84.800000     16.200000   \nmax    23284.000000      3.000000  2.600000e+09   2181.000000    100.000000   \n\n        area_living         floor         rooms        layout       ceiling  \\\ncount  23285.000000  23285.000000  23285.000000  23285.000000  23285.000000   \nmean      42.359819      8.969594      2.189349      1.013614      3.585828   \nstd       35.138587      8.322039      1.076130      0.200571      9.089246   \nmin        0.000000      1.000000      1.000000      0.000000      0.000000   \n25%       20.800000      3.000000      1.000000      1.000000      3.000000   \n50%       32.080000      7.000000      2.000000      1.000000      3.000000   \n75%       48.600000     12.000000      3.000000      1.000000      3.000000   \nmax      900.000000     95.000000      6.000000      2.000000    340.000000   \n\n       ...      district   constructed      material       stories  \\\ncount  ...  23285.000000  23285.000000  23285.000000  23285.000000   \nmean   ...      4.662959   2002.590810      2.202319     17.608933   \nstd    ...      3.152258     22.699717      0.961058     11.216638   \nmin    ...      0.000000   1855.000000      0.000000      1.000000   \n25%    ...      2.000000   1989.000000      2.000000      9.000000   \n50%    ...      5.000000   2013.000000      2.000000     16.000000   \n75%    ...      7.000000   2019.000000      3.000000     22.000000   \nmax    ...     11.000000   2023.000000      6.000000     95.000000   \n\n       elevator_without  elevator_passenger  elevator_service       parking  \\\ncount      23285.000000        23285.000000      23285.000000  23285.000000   \nmean           0.391411            0.930298          0.742538      0.637449   \nstd            0.488076            0.254649          0.437245      0.521623   \nmin            0.000000            0.000000          0.000000      0.000000   \n25%            0.000000            1.000000          0.000000      0.000000   \n50%            0.000000            1.000000          1.000000      1.000000   \n75%            1.000000            1.000000          1.000000      1.000000   \nmax            1.000000            1.000000          1.000000      2.000000   \n\n       garbage_chute       heating  \ncount   23285.000000  23285.000000  \nmean        0.844363      0.166416  \nstd         0.362518      0.505601  \nmin         0.000000      0.000000  \n25%         1.000000      0.000000  \n50%         1.000000      0.000000  \n75%         1.000000      0.000000  \nmax         1.000000      3.000000  \n\n[8 rows x 32 columns]",
      "text/html": "<div>\n<style scoped>\n    .dataframe tbody tr th:only-of-type {\n        vertical-align: middle;\n    }\n\n    .dataframe tbody tr th {\n        vertical-align: top;\n    }\n\n    .dataframe thead th {\n        text-align: right;\n    }\n</style>\n<table border=\"1\" class=\"dataframe\">\n  <thead>\n    <tr style=\"text-align: right;\">\n      <th></th>\n      <th>id</th>\n      <th>seller</th>\n      <th>price</th>\n      <th>area_total</th>\n      <th>area_kitchen</th>\n      <th>area_living</th>\n      <th>floor</th>\n      <th>rooms</th>\n      <th>layout</th>\n      <th>ceiling</th>\n      <th>...</th>\n      <th>district</th>\n      <th>constructed</th>\n      <th>material</th>\n      <th>stories</th>\n      <th>elevator_without</th>\n      <th>elevator_passenger</th>\n      <th>elevator_service</th>\n      <th>parking</th>\n      <th>garbage_chute</th>\n      <th>heating</th>\n    </tr>\n  </thead>\n  <tbody>\n    <tr>\n      <th>count</th>\n      <td>23285.000000</td>\n      <td>23285.000000</td>\n      <td>2.328500e+04</td>\n      <td>23285.000000</td>\n      <td>23285.000000</td>\n      <td>23285.000000</td>\n      <td>23285.000000</td>\n      <td>23285.000000</td>\n      <td>23285.000000</td>\n      <td>23285.000000</td>\n      <td>...</td>\n      <td>23285.000000</td>\n      <td>23285.000000</td>\n      <td>23285.000000</td>\n      <td>23285.000000</td>\n      <td>23285.000000</td>\n      <td>23285.000000</td>\n      <td>23285.000000</td>\n      <td>23285.000000</td>\n      <td>23285.000000</td>\n      <td>23285.000000</td>\n    </tr>\n    <tr>\n      <th>mean</th>\n      <td>11642.000000</td>\n      <td>1.822504</td>\n      <td>2.355617e+07</td>\n      <td>74.450999</td>\n      <td>13.019936</td>\n      <td>42.359819</td>\n      <td>8.969594</td>\n      <td>2.189349</td>\n      <td>1.013614</td>\n      <td>3.585828</td>\n      <td>...</td>\n      <td>4.662959</td>\n      <td>2002.590810</td>\n      <td>2.202319</td>\n      <td>17.608933</td>\n      <td>0.391411</td>\n      <td>0.930298</td>\n      <td>0.742538</td>\n      <td>0.637449</td>\n      <td>0.844363</td>\n      <td>0.166416</td>\n    </tr>\n    <tr>\n      <th>std</th>\n      <td>6721.944845</td>\n      <td>0.994216</td>\n      <td>5.264393e+07</td>\n      <td>58.671373</td>\n      <td>6.499997</td>\n      <td>35.138587</td>\n      <td>8.322039</td>\n      <td>1.076130</td>\n      <td>0.200571</td>\n      <td>9.089246</td>\n      <td>...</td>\n      <td>3.152258</td>\n      <td>22.699717</td>\n      <td>0.961058</td>\n      <td>11.216638</td>\n      <td>0.488076</td>\n      <td>0.254649</td>\n      <td>0.437245</td>\n      <td>0.521623</td>\n      <td>0.362518</td>\n      <td>0.505601</td>\n    </tr>\n    <tr>\n      <th>min</th>\n      <td>0.000000</td>\n      <td>0.000000</td>\n      <td>9.000000e+05</td>\n      <td>9.300000</td>\n      <td>1.000000</td>\n      <td>0.000000</td>\n      <td>1.000000</td>\n      <td>1.000000</td>\n      <td>0.000000</td>\n      <td>0.000000</td>\n      <td>...</td>\n      <td>0.000000</td>\n      <td>1855.000000</td>\n      <td>0.000000</td>\n      <td>1.000000</td>\n      <td>0.000000</td>\n      <td>0.000000</td>\n      <td>0.000000</td>\n      <td>0.000000</td>\n      <td>0.000000</td>\n      <td>0.000000</td>\n    </tr>\n    <tr>\n      <th>25%</th>\n      <td>5821.000000</td>\n      <td>1.000000</td>\n      <td>7.490000e+06</td>\n      <td>42.000000</td>\n      <td>8.520000</td>\n      <td>20.800000</td>\n      <td>3.000000</td>\n      <td>1.000000</td>\n      <td>1.000000</td>\n      <td>3.000000</td>\n      <td>...</td>\n      <td>2.000000</td>\n      <td>1989.000000</td>\n      <td>2.000000</td>\n      <td>9.000000</td>\n      <td>0.000000</td>\n      <td>1.000000</td>\n      <td>0.000000</td>\n      <td>0.000000</td>\n      <td>1.000000</td>\n      <td>0.000000</td>\n    </tr>\n    <tr>\n      <th>50%</th>\n      <td>11642.000000</td>\n      <td>2.000000</td>\n      <td>1.064500e+07</td>\n      <td>59.800000</td>\n      <td>11.400000</td>\n      <td>32.080000</td>\n      <td>7.000000</td>\n      <td>2.000000</td>\n      <td>1.000000</td>\n      <td>3.000000</td>\n      <td>...</td>\n      <td>5.000000</td>\n      <td>2013.000000</td>\n      <td>2.000000</td>\n      <td>16.000000</td>\n      <td>0.000000</td>\n      <td>1.000000</td>\n      <td>1.000000</td>\n      <td>1.000000</td>\n      <td>1.000000</td>\n      <td>0.000000</td>\n    </tr>\n    <tr>\n      <th>75%</th>\n      <td>17463.000000</td>\n      <td>3.000000</td>\n      <td>2.050000e+07</td>\n      <td>84.800000</td>\n      <td>16.200000</td>\n      <td>48.600000</td>\n      <td>12.000000</td>\n      <td>3.000000</td>\n      <td>1.000000</td>\n      <td>3.000000</td>\n      <td>...</td>\n      <td>7.000000</td>\n      <td>2019.000000</td>\n      <td>3.000000</td>\n      <td>22.000000</td>\n      <td>1.000000</td>\n      <td>1.000000</td>\n      <td>1.000000</td>\n      <td>1.000000</td>\n      <td>1.000000</td>\n      <td>0.000000</td>\n    </tr>\n    <tr>\n      <th>max</th>\n      <td>23284.000000</td>\n      <td>3.000000</td>\n      <td>2.600000e+09</td>\n      <td>2181.000000</td>\n      <td>100.000000</td>\n      <td>900.000000</td>\n      <td>95.000000</td>\n      <td>6.000000</td>\n      <td>2.000000</td>\n      <td>340.000000</td>\n      <td>...</td>\n      <td>11.000000</td>\n      <td>2023.000000</td>\n      <td>6.000000</td>\n      <td>95.000000</td>\n      <td>1.000000</td>\n      <td>1.000000</td>\n      <td>1.000000</td>\n      <td>2.000000</td>\n      <td>1.000000</td>\n      <td>3.000000</td>\n    </tr>\n  </tbody>\n</table>\n<p>8 rows × 32 columns</p>\n</div>"
     },
     "metadata": {}
    }
   ]
  },
  {
   "cell_type": "code",
   "metadata": {
    "tags": [],
    "cell_id": "00001-3f650fb8-0aba-47cf-97da-6172634d58ff",
    "deepnote_to_be_reexecuted": false,
    "source_hash": "2ae05143",
    "execution_start": 1637283655716,
    "execution_millis": 740,
    "deepnote_cell_type": "code"
   },
   "source": "df1 = pd.read_csv('Test_clean3.csv')\ndf1.describe()",
   "execution_count": null,
   "outputs": [
    {
     "output_type": "execute_result",
     "execution_count": 2,
     "data": {
      "application/vnd.deepnote.dataframe.v2+json": {
       "row_count": 8,
       "column_count": 31,
       "columns": [
        {
         "name": "id",
         "dtype": "float64",
         "stats": {
          "unique_count": 7,
          "nan_count": 0,
          "min": "2868.7091464048194",
          "max": "33221.0",
          "histogram": [
           {
            "bin_start": 2868.7091464048194,
            "bin_end": 5903.938231764338,
            "count": 1
           },
           {
            "bin_start": 5903.938231764338,
            "bin_end": 8939.167317123854,
            "count": 0
           },
           {
            "bin_start": 8939.167317123854,
            "bin_end": 11974.396402483371,
            "count": 1
           },
           {
            "bin_start": 11974.396402483371,
            "bin_end": 15009.62548784289,
            "count": 0
           },
           {
            "bin_start": 15009.62548784289,
            "bin_end": 18044.85457320241,
            "count": 0
           },
           {
            "bin_start": 18044.85457320241,
            "bin_end": 21080.083658561925,
            "count": 0
           },
           {
            "bin_start": 21080.083658561925,
            "bin_end": 24115.312743921444,
            "count": 1
           },
           {
            "bin_start": 24115.312743921444,
            "bin_end": 27150.541829280963,
            "count": 1
           },
           {
            "bin_start": 27150.541829280963,
            "bin_end": 30185.77091464048,
            "count": 2
           },
           {
            "bin_start": 30185.77091464048,
            "bin_end": 33221,
            "count": 2
           }
          ]
         }
        },
        {
         "name": "seller",
         "dtype": "float64",
         "stats": {
          "unique_count": 7,
          "nan_count": 0,
          "min": "0.0",
          "max": "9937.0",
          "histogram": [
           {
            "bin_start": 0,
            "bin_end": 993.7,
            "count": 7
           },
           {
            "bin_start": 993.7,
            "bin_end": 1987.4,
            "count": 0
           },
           {
            "bin_start": 1987.4,
            "bin_end": 2981.1000000000004,
            "count": 0
           },
           {
            "bin_start": 2981.1000000000004,
            "bin_end": 3974.8,
            "count": 0
           },
           {
            "bin_start": 3974.8,
            "bin_end": 4968.5,
            "count": 0
           },
           {
            "bin_start": 4968.5,
            "bin_end": 5962.200000000001,
            "count": 0
           },
           {
            "bin_start": 5962.200000000001,
            "bin_end": 6955.900000000001,
            "count": 0
           },
           {
            "bin_start": 6955.900000000001,
            "bin_end": 7949.6,
            "count": 0
           },
           {
            "bin_start": 7949.6,
            "bin_end": 8943.300000000001,
            "count": 0
           },
           {
            "bin_start": 8943.300000000001,
            "bin_end": 9937,
            "count": 1
           }
          ]
         }
        },
        {
         "name": "area_total",
         "dtype": "float64",
         "stats": {
          "unique_count": 8,
          "nan_count": 0,
          "min": "13.0",
          "max": "9937.0",
          "histogram": [
           {
            "bin_start": 13,
            "bin_end": 1005.4,
            "count": 6
           },
           {
            "bin_start": 1005.4,
            "bin_end": 1997.8,
            "count": 1
           },
           {
            "bin_start": 1997.8,
            "bin_end": 2990.2,
            "count": 0
           },
           {
            "bin_start": 2990.2,
            "bin_end": 3982.6,
            "count": 0
           },
           {
            "bin_start": 3982.6,
            "bin_end": 4975,
            "count": 0
           },
           {
            "bin_start": 4975,
            "bin_end": 5967.4,
            "count": 0
           },
           {
            "bin_start": 5967.4,
            "bin_end": 6959.8,
            "count": 0
           },
           {
            "bin_start": 6959.8,
            "bin_end": 7952.2,
            "count": 0
           },
           {
            "bin_start": 7952.2,
            "bin_end": 8944.6,
            "count": 0
           },
           {
            "bin_start": 8944.6,
            "bin_end": 9937,
            "count": 1
           }
          ]
         }
        },
        {
         "name": "area_kitchen",
         "dtype": "float64",
         "stats": {
          "unique_count": 8,
          "nan_count": 0,
          "min": "1.2",
          "max": "9937.0",
          "histogram": [
           {
            "bin_start": 1.2,
            "bin_end": 994.78,
            "count": 7
           },
           {
            "bin_start": 994.78,
            "bin_end": 1988.36,
            "count": 0
           },
           {
            "bin_start": 1988.36,
            "bin_end": 2981.9399999999996,
            "count": 0
           },
           {
            "bin_start": 2981.9399999999996,
            "bin_end": 3975.5199999999995,
            "count": 0
           },
           {
            "bin_start": 3975.5199999999995,
            "bin_end": 4969.099999999999,
            "count": 0
           },
           {
            "bin_start": 4969.099999999999,
            "bin_end": 5962.679999999999,
            "count": 0
           },
           {
            "bin_start": 5962.679999999999,
            "bin_end": 6956.259999999999,
            "count": 0
           },
           {
            "bin_start": 6956.259999999999,
            "bin_end": 7949.839999999999,
            "count": 0
           },
           {
            "bin_start": 7949.839999999999,
            "bin_end": 8943.42,
            "count": 0
           },
           {
            "bin_start": 8943.42,
            "bin_end": 9937,
            "count": 1
           }
          ]
         }
        },
        {
         "name": "area_living",
         "dtype": "float64",
         "stats": {
          "unique_count": 8,
          "nan_count": 0,
          "min": "0.0",
          "max": "9937.0",
          "histogram": [
           {
            "bin_start": 0,
            "bin_end": 993.7,
            "count": 7
           },
           {
            "bin_start": 993.7,
            "bin_end": 1987.4,
            "count": 0
           },
           {
            "bin_start": 1987.4,
            "bin_end": 2981.1000000000004,
            "count": 0
           },
           {
            "bin_start": 2981.1000000000004,
            "bin_end": 3974.8,
            "count": 0
           },
           {
            "bin_start": 3974.8,
            "bin_end": 4968.5,
            "count": 0
           },
           {
            "bin_start": 4968.5,
            "bin_end": 5962.200000000001,
            "count": 0
           },
           {
            "bin_start": 5962.200000000001,
            "bin_end": 6955.900000000001,
            "count": 0
           },
           {
            "bin_start": 6955.900000000001,
            "bin_end": 7949.6,
            "count": 0
           },
           {
            "bin_start": 7949.6,
            "bin_end": 8943.300000000001,
            "count": 0
           },
           {
            "bin_start": 8943.300000000001,
            "bin_end": 9937,
            "count": 1
           }
          ]
         }
        },
        {
         "name": "floor",
         "dtype": "float64",
         "stats": {
          "unique_count": 8,
          "nan_count": 0,
          "min": "1.0",
          "max": "9937.0",
          "histogram": [
           {
            "bin_start": 1,
            "bin_end": 994.6,
            "count": 7
           },
           {
            "bin_start": 994.6,
            "bin_end": 1988.2,
            "count": 0
           },
           {
            "bin_start": 1988.2,
            "bin_end": 2981.8,
            "count": 0
           },
           {
            "bin_start": 2981.8,
            "bin_end": 3975.4,
            "count": 0
           },
           {
            "bin_start": 3975.4,
            "bin_end": 4969,
            "count": 0
           },
           {
            "bin_start": 4969,
            "bin_end": 5962.6,
            "count": 0
           },
           {
            "bin_start": 5962.6,
            "bin_end": 6956.2,
            "count": 0
           },
           {
            "bin_start": 6956.2,
            "bin_end": 7949.8,
            "count": 0
           },
           {
            "bin_start": 7949.8,
            "bin_end": 8943.4,
            "count": 0
           },
           {
            "bin_start": 8943.4,
            "bin_end": 9937,
            "count": 1
           }
          ]
         }
        },
        {
         "name": "rooms",
         "dtype": "float64",
         "stats": {
          "unique_count": 7,
          "nan_count": 0,
          "min": "1.0",
          "max": "9937.0",
          "histogram": [
           {
            "bin_start": 1,
            "bin_end": 994.6,
            "count": 7
           },
           {
            "bin_start": 994.6,
            "bin_end": 1988.2,
            "count": 0
           },
           {
            "bin_start": 1988.2,
            "bin_end": 2981.8,
            "count": 0
           },
           {
            "bin_start": 2981.8,
            "bin_end": 3975.4,
            "count": 0
           },
           {
            "bin_start": 3975.4,
            "bin_end": 4969,
            "count": 0
           },
           {
            "bin_start": 4969,
            "bin_end": 5962.6,
            "count": 0
           },
           {
            "bin_start": 5962.6,
            "bin_end": 6956.2,
            "count": 0
           },
           {
            "bin_start": 6956.2,
            "bin_end": 7949.8,
            "count": 0
           },
           {
            "bin_start": 7949.8,
            "bin_end": 8943.4,
            "count": 0
           },
           {
            "bin_start": 8943.4,
            "bin_end": 9937,
            "count": 1
           }
          ]
         }
        },
        {
         "name": "layout",
         "dtype": "float64",
         "stats": {
          "unique_count": 6,
          "nan_count": 0,
          "min": "0.0",
          "max": "9937.0",
          "histogram": [
           {
            "bin_start": 0,
            "bin_end": 993.7,
            "count": 7
           },
           {
            "bin_start": 993.7,
            "bin_end": 1987.4,
            "count": 0
           },
           {
            "bin_start": 1987.4,
            "bin_end": 2981.1000000000004,
            "count": 0
           },
           {
            "bin_start": 2981.1000000000004,
            "bin_end": 3974.8,
            "count": 0
           },
           {
            "bin_start": 3974.8,
            "bin_end": 4968.5,
            "count": 0
           },
           {
            "bin_start": 4968.5,
            "bin_end": 5962.200000000001,
            "count": 0
           },
           {
            "bin_start": 5962.200000000001,
            "bin_end": 6955.900000000001,
            "count": 0
           },
           {
            "bin_start": 6955.900000000001,
            "bin_end": 7949.6,
            "count": 0
           },
           {
            "bin_start": 7949.6,
            "bin_end": 8943.300000000001,
            "count": 0
           },
           {
            "bin_start": 8943.300000000001,
            "bin_end": 9937,
            "count": 1
           }
          ]
         }
        },
        {
         "name": "ceiling",
         "dtype": "float64",
         "stats": {
          "unique_count": 6,
          "nan_count": 0,
          "min": "0.0",
          "max": "9937.0",
          "histogram": [
           {
            "bin_start": 0,
            "bin_end": 993.7,
            "count": 7
           },
           {
            "bin_start": 993.7,
            "bin_end": 1987.4,
            "count": 0
           },
           {
            "bin_start": 1987.4,
            "bin_end": 2981.1000000000004,
            "count": 0
           },
           {
            "bin_start": 2981.1000000000004,
            "bin_end": 3974.8,
            "count": 0
           },
           {
            "bin_start": 3974.8,
            "bin_end": 4968.5,
            "count": 0
           },
           {
            "bin_start": 4968.5,
            "bin_end": 5962.200000000001,
            "count": 0
           },
           {
            "bin_start": 5962.200000000001,
            "bin_end": 6955.900000000001,
            "count": 0
           },
           {
            "bin_start": 6955.900000000001,
            "bin_end": 7949.6,
            "count": 0
           },
           {
            "bin_start": 7949.6,
            "bin_end": 8943.300000000001,
            "count": 0
           },
           {
            "bin_start": 8943.300000000001,
            "bin_end": 9937,
            "count": 1
           }
          ]
         }
        },
        {
         "name": "bathrooms_shared",
         "dtype": "float64",
         "stats": {
          "unique_count": 6,
          "nan_count": 0,
          "min": "0.0",
          "max": "9937.0",
          "histogram": [
           {
            "bin_start": 0,
            "bin_end": 993.7,
            "count": 7
           },
           {
            "bin_start": 993.7,
            "bin_end": 1987.4,
            "count": 0
           },
           {
            "bin_start": 1987.4,
            "bin_end": 2981.1000000000004,
            "count": 0
           },
           {
            "bin_start": 2981.1000000000004,
            "bin_end": 3974.8,
            "count": 0
           },
           {
            "bin_start": 3974.8,
            "bin_end": 4968.5,
            "count": 0
           },
           {
            "bin_start": 4968.5,
            "bin_end": 5962.200000000001,
            "count": 0
           },
           {
            "bin_start": 5962.200000000001,
            "bin_end": 6955.900000000001,
            "count": 0
           },
           {
            "bin_start": 6955.900000000001,
            "bin_end": 7949.6,
            "count": 0
           },
           {
            "bin_start": 7949.6,
            "bin_end": 8943.300000000001,
            "count": 0
           },
           {
            "bin_start": 8943.300000000001,
            "bin_end": 9937,
            "count": 1
           }
          ]
         }
        },
        {
         "name": "bathrooms_private",
         "dtype": "float64",
         "stats": {
          "unique_count": 6,
          "nan_count": 0,
          "min": "0.0",
          "max": "9937.0",
          "histogram": [
           {
            "bin_start": 0,
            "bin_end": 993.7,
            "count": 7
           },
           {
            "bin_start": 993.7,
            "bin_end": 1987.4,
            "count": 0
           },
           {
            "bin_start": 1987.4,
            "bin_end": 2981.1000000000004,
            "count": 0
           },
           {
            "bin_start": 2981.1000000000004,
            "bin_end": 3974.8,
            "count": 0
           },
           {
            "bin_start": 3974.8,
            "bin_end": 4968.5,
            "count": 0
           },
           {
            "bin_start": 4968.5,
            "bin_end": 5962.200000000001,
            "count": 0
           },
           {
            "bin_start": 5962.200000000001,
            "bin_end": 6955.900000000001,
            "count": 0
           },
           {
            "bin_start": 6955.900000000001,
            "bin_end": 7949.6,
            "count": 0
           },
           {
            "bin_start": 7949.6,
            "bin_end": 8943.300000000001,
            "count": 0
           },
           {
            "bin_start": 8943.300000000001,
            "bin_end": 9937,
            "count": 1
           }
          ]
         }
        },
        {
         "name": "windows_court",
         "dtype": "float64",
         "stats": {
          "unique_count": 5,
          "nan_count": 0,
          "min": "0.0",
          "max": "9937.0",
          "histogram": [
           {
            "bin_start": 0,
            "bin_end": 993.7,
            "count": 7
           },
           {
            "bin_start": 993.7,
            "bin_end": 1987.4,
            "count": 0
           },
           {
            "bin_start": 1987.4,
            "bin_end": 2981.1000000000004,
            "count": 0
           },
           {
            "bin_start": 2981.1000000000004,
            "bin_end": 3974.8,
            "count": 0
           },
           {
            "bin_start": 3974.8,
            "bin_end": 4968.5,
            "count": 0
           },
           {
            "bin_start": 4968.5,
            "bin_end": 5962.200000000001,
            "count": 0
           },
           {
            "bin_start": 5962.200000000001,
            "bin_end": 6955.900000000001,
            "count": 0
           },
           {
            "bin_start": 6955.900000000001,
            "bin_end": 7949.6,
            "count": 0
           },
           {
            "bin_start": 7949.6,
            "bin_end": 8943.300000000001,
            "count": 0
           },
           {
            "bin_start": 8943.300000000001,
            "bin_end": 9937,
            "count": 1
           }
          ]
         }
        },
        {
         "name": "windows_street",
         "dtype": "float64",
         "stats": {
          "unique_count": 5,
          "nan_count": 0,
          "min": "0.0",
          "max": "9937.0",
          "histogram": [
           {
            "bin_start": 0,
            "bin_end": 993.7,
            "count": 7
           },
           {
            "bin_start": 993.7,
            "bin_end": 1987.4,
            "count": 0
           },
           {
            "bin_start": 1987.4,
            "bin_end": 2981.1000000000004,
            "count": 0
           },
           {
            "bin_start": 2981.1000000000004,
            "bin_end": 3974.8,
            "count": 0
           },
           {
            "bin_start": 3974.8,
            "bin_end": 4968.5,
            "count": 0
           },
           {
            "bin_start": 4968.5,
            "bin_end": 5962.200000000001,
            "count": 0
           },
           {
            "bin_start": 5962.200000000001,
            "bin_end": 6955.900000000001,
            "count": 0
           },
           {
            "bin_start": 6955.900000000001,
            "bin_end": 7949.6,
            "count": 0
           },
           {
            "bin_start": 7949.6,
            "bin_end": 8943.300000000001,
            "count": 0
           },
           {
            "bin_start": 8943.300000000001,
            "bin_end": 9937,
            "count": 1
           }
          ]
         }
        },
        {
         "name": "balconies",
         "dtype": "float64",
         "stats": {
          "unique_count": 6,
          "nan_count": 0,
          "min": "0.0",
          "max": "9937.0",
          "histogram": [
           {
            "bin_start": 0,
            "bin_end": 993.7,
            "count": 7
           },
           {
            "bin_start": 993.7,
            "bin_end": 1987.4,
            "count": 0
           },
           {
            "bin_start": 1987.4,
            "bin_end": 2981.1000000000004,
            "count": 0
           },
           {
            "bin_start": 2981.1000000000004,
            "bin_end": 3974.8,
            "count": 0
           },
           {
            "bin_start": 3974.8,
            "bin_end": 4968.5,
            "count": 0
           },
           {
            "bin_start": 4968.5,
            "bin_end": 5962.200000000001,
            "count": 0
           },
           {
            "bin_start": 5962.200000000001,
            "bin_end": 6955.900000000001,
            "count": 0
           },
           {
            "bin_start": 6955.900000000001,
            "bin_end": 7949.6,
            "count": 0
           },
           {
            "bin_start": 7949.6,
            "bin_end": 8943.300000000001,
            "count": 0
           },
           {
            "bin_start": 8943.300000000001,
            "bin_end": 9937,
            "count": 1
           }
          ]
         }
        },
        {
         "name": "loggias",
         "dtype": "float64",
         "stats": {
          "unique_count": 6,
          "nan_count": 0,
          "min": "0.0",
          "max": "9937.0",
          "histogram": [
           {
            "bin_start": 0,
            "bin_end": 993.7,
            "count": 7
           },
           {
            "bin_start": 993.7,
            "bin_end": 1987.4,
            "count": 0
           },
           {
            "bin_start": 1987.4,
            "bin_end": 2981.1000000000004,
            "count": 0
           },
           {
            "bin_start": 2981.1000000000004,
            "bin_end": 3974.8,
            "count": 0
           },
           {
            "bin_start": 3974.8,
            "bin_end": 4968.5,
            "count": 0
           },
           {
            "bin_start": 4968.5,
            "bin_end": 5962.200000000001,
            "count": 0
           },
           {
            "bin_start": 5962.200000000001,
            "bin_end": 6955.900000000001,
            "count": 0
           },
           {
            "bin_start": 6955.900000000001,
            "bin_end": 7949.6,
            "count": 0
           },
           {
            "bin_start": 7949.6,
            "bin_end": 8943.300000000001,
            "count": 0
           },
           {
            "bin_start": 8943.300000000001,
            "bin_end": 9937,
            "count": 1
           }
          ]
         }
        },
        {
         "name": "condition",
         "dtype": "float64",
         "stats": {
          "unique_count": 7,
          "nan_count": 0,
          "min": "0.0",
          "max": "9937.0",
          "histogram": [
           {
            "bin_start": 0,
            "bin_end": 993.7,
            "count": 7
           },
           {
            "bin_start": 993.7,
            "bin_end": 1987.4,
            "count": 0
           },
           {
            "bin_start": 1987.4,
            "bin_end": 2981.1000000000004,
            "count": 0
           },
           {
            "bin_start": 2981.1000000000004,
            "bin_end": 3974.8,
            "count": 0
           },
           {
            "bin_start": 3974.8,
            "bin_end": 4968.5,
            "count": 0
           },
           {
            "bin_start": 4968.5,
            "bin_end": 5962.200000000001,
            "count": 0
           },
           {
            "bin_start": 5962.200000000001,
            "bin_end": 6955.900000000001,
            "count": 0
           },
           {
            "bin_start": 6955.900000000001,
            "bin_end": 7949.6,
            "count": 0
           },
           {
            "bin_start": 7949.6,
            "bin_end": 8943.300000000001,
            "count": 0
           },
           {
            "bin_start": 8943.300000000001,
            "bin_end": 9937,
            "count": 1
           }
          ]
         }
        },
        {
         "name": "phones",
         "dtype": "float64",
         "stats": {
          "unique_count": 6,
          "nan_count": 0,
          "min": "0.0",
          "max": "9937.0",
          "histogram": [
           {
            "bin_start": 0,
            "bin_end": 993.7,
            "count": 7
           },
           {
            "bin_start": 993.7,
            "bin_end": 1987.4,
            "count": 0
           },
           {
            "bin_start": 1987.4,
            "bin_end": 2981.1000000000004,
            "count": 0
           },
           {
            "bin_start": 2981.1000000000004,
            "bin_end": 3974.8,
            "count": 0
           },
           {
            "bin_start": 3974.8,
            "bin_end": 4968.5,
            "count": 0
           },
           {
            "bin_start": 4968.5,
            "bin_end": 5962.200000000001,
            "count": 0
           },
           {
            "bin_start": 5962.200000000001,
            "bin_end": 6955.900000000001,
            "count": 0
           },
           {
            "bin_start": 6955.900000000001,
            "bin_end": 7949.6,
            "count": 0
           },
           {
            "bin_start": 7949.6,
            "bin_end": 8943.300000000001,
            "count": 0
           },
           {
            "bin_start": 8943.300000000001,
            "bin_end": 9937,
            "count": 1
           }
          ]
         }
        },
        {
         "name": "building_id",
         "dtype": "float64",
         "stats": {
          "unique_count": 8,
          "nan_count": 0,
          "min": "4.0",
          "max": "9937.0",
          "histogram": [
           {
            "bin_start": 4,
            "bin_end": 997.3,
            "count": 1
           },
           {
            "bin_start": 997.3,
            "bin_end": 1990.6,
            "count": 0
           },
           {
            "bin_start": 1990.6,
            "bin_end": 2983.8999999999996,
            "count": 2
           },
           {
            "bin_start": 2983.8999999999996,
            "bin_end": 3977.2,
            "count": 0
           },
           {
            "bin_start": 3977.2,
            "bin_end": 4970.5,
            "count": 2
           },
           {
            "bin_start": 4970.5,
            "bin_end": 5963.799999999999,
            "count": 0
           },
           {
            "bin_start": 5963.799999999999,
            "bin_end": 6957.099999999999,
            "count": 0
           },
           {
            "bin_start": 6957.099999999999,
            "bin_end": 7950.4,
            "count": 1
           },
           {
            "bin_start": 7950.4,
            "bin_end": 8943.699999999999,
            "count": 0
           },
           {
            "bin_start": 8943.699999999999,
            "bin_end": 9937,
            "count": 2
           }
          ]
         }
        },
        {
         "name": "new",
         "dtype": "float64",
         "stats": {
          "unique_count": 5,
          "nan_count": 0,
          "min": "0.0",
          "max": "9937.0",
          "histogram": [
           {
            "bin_start": 0,
            "bin_end": 993.7,
            "count": 7
           },
           {
            "bin_start": 993.7,
            "bin_end": 1987.4,
            "count": 0
           },
           {
            "bin_start": 1987.4,
            "bin_end": 2981.1000000000004,
            "count": 0
           },
           {
            "bin_start": 2981.1000000000004,
            "bin_end": 3974.8,
            "count": 0
           },
           {
            "bin_start": 3974.8,
            "bin_end": 4968.5,
            "count": 0
           },
           {
            "bin_start": 4968.5,
            "bin_end": 5962.200000000001,
            "count": 0
           },
           {
            "bin_start": 5962.200000000001,
            "bin_end": 6955.900000000001,
            "count": 0
           },
           {
            "bin_start": 6955.900000000001,
            "bin_end": 7949.6,
            "count": 0
           },
           {
            "bin_start": 7949.6,
            "bin_end": 8943.300000000001,
            "count": 0
           },
           {
            "bin_start": 8943.300000000001,
            "bin_end": 9937,
            "count": 1
           }
          ]
         }
        },
        {
         "name": "latitude",
         "dtype": "float64",
         "stats": {
          "unique_count": 8,
          "nan_count": 0,
          "min": "0.8103063365954747",
          "max": "9937.0",
          "histogram": [
           {
            "bin_start": 0.8103063365954747,
            "bin_end": 994.4292757029358,
            "count": 7
           },
           {
            "bin_start": 994.4292757029358,
            "bin_end": 1988.0482450692762,
            "count": 0
           },
           {
            "bin_start": 1988.0482450692762,
            "bin_end": 2981.6672144356166,
            "count": 0
           },
           {
            "bin_start": 2981.6672144356166,
            "bin_end": 3975.286183801957,
            "count": 0
           },
           {
            "bin_start": 3975.286183801957,
            "bin_end": 4968.905153168297,
            "count": 0
           },
           {
            "bin_start": 4968.905153168297,
            "bin_end": 5962.524122534637,
            "count": 0
           },
           {
            "bin_start": 5962.524122534637,
            "bin_end": 6956.143091900978,
            "count": 0
           },
           {
            "bin_start": 6956.143091900978,
            "bin_end": 7949.762061267318,
            "count": 0
           },
           {
            "bin_start": 7949.762061267318,
            "bin_end": 8943.38103063366,
            "count": 0
           },
           {
            "bin_start": 8943.38103063366,
            "bin_end": 9937,
            "count": 1
           }
          ]
         }
        },
        {
         "name": "longitude",
         "dtype": "float64",
         "stats": {
          "unique_count": 8,
          "nan_count": 0,
          "min": "-61.7905",
          "max": "9937.0",
          "histogram": [
           {
            "bin_start": -61.7905,
            "bin_end": 938.0885499999999,
            "count": 7
           },
           {
            "bin_start": 938.0885499999999,
            "bin_end": 1937.9675999999997,
            "count": 0
           },
           {
            "bin_start": 1937.9675999999997,
            "bin_end": 2937.8466499999995,
            "count": 0
           },
           {
            "bin_start": 2937.8466499999995,
            "bin_end": 3937.7256999999995,
            "count": 0
           },
           {
            "bin_start": 3937.7256999999995,
            "bin_end": 4937.6047499999995,
            "count": 0
           },
           {
            "bin_start": 4937.6047499999995,
            "bin_end": 5937.483799999999,
            "count": 0
           },
           {
            "bin_start": 5937.483799999999,
            "bin_end": 6937.3628499999995,
            "count": 0
           },
           {
            "bin_start": 6937.3628499999995,
            "bin_end": 7937.241899999999,
            "count": 0
           },
           {
            "bin_start": 7937.241899999999,
            "bin_end": 8937.12095,
            "count": 0
           },
           {
            "bin_start": 8937.12095,
            "bin_end": 9937,
            "count": 1
           }
          ]
         }
        },
        {
         "name": "district",
         "dtype": "float64",
         "stats": {
          "unique_count": 8,
          "nan_count": 0,
          "min": "0.0",
          "max": "9937.0",
          "histogram": [
           {
            "bin_start": 0,
            "bin_end": 993.7,
            "count": 7
           },
           {
            "bin_start": 993.7,
            "bin_end": 1987.4,
            "count": 0
           },
           {
            "bin_start": 1987.4,
            "bin_end": 2981.1000000000004,
            "count": 0
           },
           {
            "bin_start": 2981.1000000000004,
            "bin_end": 3974.8,
            "count": 0
           },
           {
            "bin_start": 3974.8,
            "bin_end": 4968.5,
            "count": 0
           },
           {
            "bin_start": 4968.5,
            "bin_end": 5962.200000000001,
            "count": 0
           },
           {
            "bin_start": 5962.200000000001,
            "bin_end": 6955.900000000001,
            "count": 0
           },
           {
            "bin_start": 6955.900000000001,
            "bin_end": 7949.6,
            "count": 0
           },
           {
            "bin_start": 7949.6,
            "bin_end": 8943.300000000001,
            "count": 0
           },
           {
            "bin_start": 8943.300000000001,
            "bin_end": 9937,
            "count": 1
           }
          ]
         }
        },
        {
         "name": "constructed",
         "dtype": "float64",
         "stats": {
          "unique_count": 8,
          "nan_count": 0,
          "min": "23.34258677923463",
          "max": "9937.0",
          "histogram": [
           {
            "bin_start": 23.34258677923463,
            "bin_end": 1014.7083281013112,
            "count": 1
           },
           {
            "bin_start": 1014.7083281013112,
            "bin_end": 2006.0740694233878,
            "count": 3
           },
           {
            "bin_start": 2006.0740694233878,
            "bin_end": 2997.4398107454645,
            "count": 3
           },
           {
            "bin_start": 2997.4398107454645,
            "bin_end": 3988.805552067541,
            "count": 0
           },
           {
            "bin_start": 3988.805552067541,
            "bin_end": 4980.171293389618,
            "count": 0
           },
           {
            "bin_start": 4980.171293389618,
            "bin_end": 5971.537034711694,
            "count": 0
           },
           {
            "bin_start": 5971.537034711694,
            "bin_end": 6962.902776033771,
            "count": 0
           },
           {
            "bin_start": 6962.902776033771,
            "bin_end": 7954.2685173558475,
            "count": 0
           },
           {
            "bin_start": 7954.2685173558475,
            "bin_end": 8945.634258677923,
            "count": 0
           },
           {
            "bin_start": 8945.634258677923,
            "bin_end": 9937,
            "count": 1
           }
          ]
         }
        },
        {
         "name": "material",
         "dtype": "float64",
         "stats": {
          "unique_count": 7,
          "nan_count": 0,
          "min": "0.0",
          "max": "9937.0",
          "histogram": [
           {
            "bin_start": 0,
            "bin_end": 993.7,
            "count": 7
           },
           {
            "bin_start": 993.7,
            "bin_end": 1987.4,
            "count": 0
           },
           {
            "bin_start": 1987.4,
            "bin_end": 2981.1000000000004,
            "count": 0
           },
           {
            "bin_start": 2981.1000000000004,
            "bin_end": 3974.8,
            "count": 0
           },
           {
            "bin_start": 3974.8,
            "bin_end": 4968.5,
            "count": 0
           },
           {
            "bin_start": 4968.5,
            "bin_end": 5962.200000000001,
            "count": 0
           },
           {
            "bin_start": 5962.200000000001,
            "bin_end": 6955.900000000001,
            "count": 0
           },
           {
            "bin_start": 6955.900000000001,
            "bin_end": 7949.6,
            "count": 0
           },
           {
            "bin_start": 7949.6,
            "bin_end": 8943.300000000001,
            "count": 0
           },
           {
            "bin_start": 8943.300000000001,
            "bin_end": 9937,
            "count": 1
           }
          ]
         }
        },
        {
         "name": "stories",
         "dtype": "float64",
         "stats": {
          "unique_count": 8,
          "nan_count": 0,
          "min": "2.0",
          "max": "9937.0",
          "histogram": [
           {
            "bin_start": 2,
            "bin_end": 995.5,
            "count": 7
           },
           {
            "bin_start": 995.5,
            "bin_end": 1989,
            "count": 0
           },
           {
            "bin_start": 1989,
            "bin_end": 2982.5,
            "count": 0
           },
           {
            "bin_start": 2982.5,
            "bin_end": 3976,
            "count": 0
           },
           {
            "bin_start": 3976,
            "bin_end": 4969.5,
            "count": 0
           },
           {
            "bin_start": 4969.5,
            "bin_end": 5963,
            "count": 0
           },
           {
            "bin_start": 5963,
            "bin_end": 6956.5,
            "count": 0
           },
           {
            "bin_start": 6956.5,
            "bin_end": 7950,
            "count": 0
           },
           {
            "bin_start": 7950,
            "bin_end": 8943.5,
            "count": 0
           },
           {
            "bin_start": 8943.5,
            "bin_end": 9937,
            "count": 1
           }
          ]
         }
        },
        {
         "name": "elevator_without",
         "dtype": "float64",
         "stats": {
          "unique_count": 5,
          "nan_count": 0,
          "min": "0.0",
          "max": "9937.0",
          "histogram": [
           {
            "bin_start": 0,
            "bin_end": 993.7,
            "count": 7
           },
           {
            "bin_start": 993.7,
            "bin_end": 1987.4,
            "count": 0
           },
           {
            "bin_start": 1987.4,
            "bin_end": 2981.1000000000004,
            "count": 0
           },
           {
            "bin_start": 2981.1000000000004,
            "bin_end": 3974.8,
            "count": 0
           },
           {
            "bin_start": 3974.8,
            "bin_end": 4968.5,
            "count": 0
           },
           {
            "bin_start": 4968.5,
            "bin_end": 5962.200000000001,
            "count": 0
           },
           {
            "bin_start": 5962.200000000001,
            "bin_end": 6955.900000000001,
            "count": 0
           },
           {
            "bin_start": 6955.900000000001,
            "bin_end": 7949.6,
            "count": 0
           },
           {
            "bin_start": 7949.6,
            "bin_end": 8943.300000000001,
            "count": 0
           },
           {
            "bin_start": 8943.300000000001,
            "bin_end": 9937,
            "count": 1
           }
          ]
         }
        },
        {
         "name": "elevator_passenger",
         "dtype": "float64",
         "stats": {
          "unique_count": 5,
          "nan_count": 0,
          "min": "0.0",
          "max": "9937.0",
          "histogram": [
           {
            "bin_start": 0,
            "bin_end": 993.7,
            "count": 7
           },
           {
            "bin_start": 993.7,
            "bin_end": 1987.4,
            "count": 0
           },
           {
            "bin_start": 1987.4,
            "bin_end": 2981.1000000000004,
            "count": 0
           },
           {
            "bin_start": 2981.1000000000004,
            "bin_end": 3974.8,
            "count": 0
           },
           {
            "bin_start": 3974.8,
            "bin_end": 4968.5,
            "count": 0
           },
           {
            "bin_start": 4968.5,
            "bin_end": 5962.200000000001,
            "count": 0
           },
           {
            "bin_start": 5962.200000000001,
            "bin_end": 6955.900000000001,
            "count": 0
           },
           {
            "bin_start": 6955.900000000001,
            "bin_end": 7949.6,
            "count": 0
           },
           {
            "bin_start": 7949.6,
            "bin_end": 8943.300000000001,
            "count": 0
           },
           {
            "bin_start": 8943.300000000001,
            "bin_end": 9937,
            "count": 1
           }
          ]
         }
        },
        {
         "name": "elevator_service",
         "dtype": "float64",
         "stats": {
          "unique_count": 5,
          "nan_count": 0,
          "min": "0.0",
          "max": "9937.0",
          "histogram": [
           {
            "bin_start": 0,
            "bin_end": 993.7,
            "count": 7
           },
           {
            "bin_start": 993.7,
            "bin_end": 1987.4,
            "count": 0
           },
           {
            "bin_start": 1987.4,
            "bin_end": 2981.1000000000004,
            "count": 0
           },
           {
            "bin_start": 2981.1000000000004,
            "bin_end": 3974.8,
            "count": 0
           },
           {
            "bin_start": 3974.8,
            "bin_end": 4968.5,
            "count": 0
           },
           {
            "bin_start": 4968.5,
            "bin_end": 5962.200000000001,
            "count": 0
           },
           {
            "bin_start": 5962.200000000001,
            "bin_end": 6955.900000000001,
            "count": 0
           },
           {
            "bin_start": 6955.900000000001,
            "bin_end": 7949.6,
            "count": 0
           },
           {
            "bin_start": 7949.6,
            "bin_end": 8943.300000000001,
            "count": 0
           },
           {
            "bin_start": 8943.300000000001,
            "bin_end": 9937,
            "count": 1
           }
          ]
         }
        },
        {
         "name": "parking",
         "dtype": "float64",
         "stats": {
          "unique_count": 6,
          "nan_count": 0,
          "min": "0.0",
          "max": "9937.0",
          "histogram": [
           {
            "bin_start": 0,
            "bin_end": 993.7,
            "count": 7
           },
           {
            "bin_start": 993.7,
            "bin_end": 1987.4,
            "count": 0
           },
           {
            "bin_start": 1987.4,
            "bin_end": 2981.1000000000004,
            "count": 0
           },
           {
            "bin_start": 2981.1000000000004,
            "bin_end": 3974.8,
            "count": 0
           },
           {
            "bin_start": 3974.8,
            "bin_end": 4968.5,
            "count": 0
           },
           {
            "bin_start": 4968.5,
            "bin_end": 5962.200000000001,
            "count": 0
           },
           {
            "bin_start": 5962.200000000001,
            "bin_end": 6955.900000000001,
            "count": 0
           },
           {
            "bin_start": 6955.900000000001,
            "bin_end": 7949.6,
            "count": 0
           },
           {
            "bin_start": 7949.6,
            "bin_end": 8943.300000000001,
            "count": 0
           },
           {
            "bin_start": 8943.300000000001,
            "bin_end": 9937,
            "count": 1
           }
          ]
         }
        },
        {
         "name": "garbage_chute",
         "dtype": "float64",
         "stats": {
          "unique_count": 5,
          "nan_count": 0,
          "min": "0.0",
          "max": "9937.0",
          "histogram": [
           {
            "bin_start": 0,
            "bin_end": 993.7,
            "count": 7
           },
           {
            "bin_start": 993.7,
            "bin_end": 1987.4,
            "count": 0
           },
           {
            "bin_start": 1987.4,
            "bin_end": 2981.1000000000004,
            "count": 0
           },
           {
            "bin_start": 2981.1000000000004,
            "bin_end": 3974.8,
            "count": 0
           },
           {
            "bin_start": 3974.8,
            "bin_end": 4968.5,
            "count": 0
           },
           {
            "bin_start": 4968.5,
            "bin_end": 5962.200000000001,
            "count": 0
           },
           {
            "bin_start": 5962.200000000001,
            "bin_end": 6955.900000000001,
            "count": 0
           },
           {
            "bin_start": 6955.900000000001,
            "bin_end": 7949.6,
            "count": 0
           },
           {
            "bin_start": 7949.6,
            "bin_end": 8943.300000000001,
            "count": 0
           },
           {
            "bin_start": 8943.300000000001,
            "bin_end": 9937,
            "count": 1
           }
          ]
         }
        },
        {
         "name": "heating",
         "dtype": "float64",
         "stats": {
          "unique_count": 5,
          "nan_count": 0,
          "min": "0.0",
          "max": "9937.0",
          "histogram": [
           {
            "bin_start": 0,
            "bin_end": 993.7,
            "count": 7
           },
           {
            "bin_start": 993.7,
            "bin_end": 1987.4,
            "count": 0
           },
           {
            "bin_start": 1987.4,
            "bin_end": 2981.1000000000004,
            "count": 0
           },
           {
            "bin_start": 2981.1000000000004,
            "bin_end": 3974.8,
            "count": 0
           },
           {
            "bin_start": 3974.8,
            "bin_end": 4968.5,
            "count": 0
           },
           {
            "bin_start": 4968.5,
            "bin_end": 5962.200000000001,
            "count": 0
           },
           {
            "bin_start": 5962.200000000001,
            "bin_end": 6955.900000000001,
            "count": 0
           },
           {
            "bin_start": 6955.900000000001,
            "bin_end": 7949.6,
            "count": 0
           },
           {
            "bin_start": 7949.6,
            "bin_end": 8943.300000000001,
            "count": 0
           },
           {
            "bin_start": 8943.300000000001,
            "bin_end": 9937,
            "count": 1
           }
          ]
         }
        },
        {
         "name": "_deepnote_index_column",
         "dtype": "object"
        }
       ],
       "rows_top": [
        {
         "id": 9937,
         "seller": 9937,
         "area_total": 9937,
         "area_kitchen": 9937,
         "area_living": 9937,
         "floor": 9937,
         "rooms": 9937,
         "layout": 9937,
         "ceiling": 9937,
         "bathrooms_shared": 9937,
         "bathrooms_private": 9937,
         "windows_court": 9937,
         "windows_street": 9937,
         "balconies": 9937,
         "loggias": 9937,
         "condition": 9937,
         "phones": 9937,
         "building_id": 9937,
         "new": 9937,
         "latitude": 9937,
         "longitude": 9937,
         "district": 9937,
         "constructed": 9937,
         "material": 9937,
         "stories": 9937,
         "elevator_without": 9937,
         "elevator_passenger": 9937,
         "elevator_service": 9937,
         "parking": 9937,
         "garbage_chute": 9937,
         "heating": 9937,
         "_deepnote_index_column": "count"
        },
        {
         "id": 28253,
         "seller": 1.7372446412398108,
         "area_total": 75.14421857703533,
         "area_kitchen": 12.995179631679578,
         "area_living": 39.87912045889101,
         "floor": 9.184160209318708,
         "rooms": 2.202878132233068,
         "layout": 1.0130824192412198,
         "ceiling": 4.011371641340445,
         "bathrooms_shared": 0.7892724162221999,
         "bathrooms_private": 0.6054141088859817,
         "windows_court": 0.8524705645567072,
         "windows_street": 0.4131025460400523,
         "balconies": 0.5820670222401128,
         "loggias": 0.6307738754151152,
         "condition": 1.2540002012679883,
         "phones": 1.1747006138673644,
         "building_id": 4694.767032303512,
         "new": 0.3010969105363792,
         "latitude": 55.710945938210735,
         "longitude": 37.56282899043977,
         "district": 4.662574217570695,
         "constructed": 2002.1469256314783,
         "material": 2.2368924222602393,
         "stories": 18.10757773976049,
         "elevator_without": 0.42618496528127203,
         "elevator_passenger": 0.9256314783133742,
         "elevator_service": 0.7478112106269498,
         "parking": 0.5800543423568482,
         "garbage_chute": 0.7987320116735434,
         "heating": 0.1317298983596659,
         "_deepnote_index_column": "mean"
        },
        {
         "id": 2868.7091464048194,
         "seller": 0.9615675188068441,
         "area_total": 56.359318098871384,
         "area_kitchen": 6.390590348193637,
         "area_living": 30.841837814309507,
         "floor": 7.9630726512072245,
         "rooms": 1.1073152712963497,
         "layout": 0.18776465098758952,
         "ceiling": 12.752441728101962,
         "bathrooms_shared": 0.7798499251482639,
         "bathrooms_private": 0.6798092171730354,
         "windows_court": 0.3546507557850657,
         "windows_street": 0.4924157121226415,
         "balconies": 0.5862868932459153,
         "loggias": 0.5897942192874368,
         "condition": 0.8901468769592724,
         "phones": 0.46221127715242694,
         "building_id": 2772.4492181895043,
         "new": 0.45875782315451624,
         "latitude": 0.8103063365954747,
         "longitude": 2.441200830223454,
         "district": 3.1565375018770636,
         "constructed": 23.34258677923463,
         "material": 1.0034338807010392,
         "stories": 10.7252786534271,
         "elevator_without": 0.49454620947342254,
         "elevator_passenger": 0.26238287442825814,
         "elevator_service": 0.4342908982730117,
         "parking": 0.559697731808751,
         "garbage_chute": 0.40096803447231005,
         "heating": 0.4652330423782592,
         "_deepnote_index_column": "std"
        },
        {
         "id": 23285,
         "seller": 0,
         "area_total": 13,
         "area_kitchen": 1.2,
         "area_living": 0,
         "floor": 1,
         "rooms": 1,
         "layout": 0,
         "ceiling": 0,
         "bathrooms_shared": 0,
         "bathrooms_private": 0,
         "windows_court": 0,
         "windows_street": 0,
         "balconies": 0,
         "loggias": 0,
         "condition": 0,
         "phones": 0,
         "building_id": 4,
         "new": 0,
         "latitude": 17.141734,
         "longitude": -61.7905,
         "district": 0,
         "constructed": 1860,
         "material": 0,
         "stories": 2,
         "elevator_without": 0,
         "elevator_passenger": 0,
         "elevator_service": 0,
         "parking": 0,
         "garbage_chute": 0,
         "heating": 0,
         "_deepnote_index_column": "min"
        },
        {
         "id": 25769,
         "seller": 1,
         "area_total": 42.4,
         "area_kitchen": 8.8,
         "area_living": 22,
         "floor": 3,
         "rooms": 1,
         "layout": 1,
         "ceiling": 3,
         "bathrooms_shared": 0,
         "bathrooms_private": 0,
         "windows_court": 1,
         "windows_street": 0,
         "balconies": 0,
         "loggias": 0,
         "condition": 1,
         "phones": 1,
         "building_id": 2145,
         "new": 0,
         "latitude": 55.669772,
         "longitude": 37.492455,
         "district": 2,
         "constructed": 1988,
         "material": 2,
         "stories": 10,
         "elevator_without": 0,
         "elevator_passenger": 1,
         "elevator_service": 0,
         "parking": 0,
         "garbage_chute": 1,
         "heating": 0,
         "_deepnote_index_column": "25%"
        },
        {
         "id": 28253,
         "seller": 2,
         "area_total": 59.6,
         "area_kitchen": 11.3,
         "area_living": 32,
         "floor": 7,
         "rooms": 2,
         "layout": 1,
         "ceiling": 3,
         "bathrooms_shared": 1,
         "bathrooms_private": 1,
         "windows_court": 1,
         "windows_street": 0,
         "balconies": 1,
         "loggias": 1,
         "condition": 1,
         "phones": 1,
         "building_id": 4728,
         "new": 0,
         "latitude": 55.738449,
         "longitude": 37.56892,
         "district": 5,
         "constructed": 2013,
         "material": 2,
         "stories": 17,
         "elevator_without": 0,
         "elevator_passenger": 1,
         "elevator_service": 1,
         "parking": 1,
         "garbage_chute": 1,
         "heating": 0,
         "_deepnote_index_column": "50%"
        },
        {
         "id": 30737,
         "seller": 3,
         "area_total": 86,
         "area_kitchen": 16,
         "area_living": 46,
         "floor": 13,
         "rooms": 3,
         "layout": 1,
         "ceiling": 3,
         "bathrooms_shared": 1,
         "bathrooms_private": 1,
         "windows_court": 1,
         "windows_street": 1,
         "balconies": 1,
         "loggias": 1,
         "condition": 2,
         "phones": 1,
         "building_id": 6983,
         "new": 1,
         "latitude": 55.798905000000005,
         "longitude": 37.662812,
         "district": 7,
         "constructed": 2019,
         "material": 3,
         "stories": 23,
         "elevator_without": 1,
         "elevator_passenger": 1,
         "elevator_service": 1,
         "parking": 1,
         "garbage_chute": 1,
         "heating": 0,
         "_deepnote_index_column": "75%"
        },
        {
         "id": 33221,
         "seller": 3,
         "area_total": 1175,
         "area_kitchen": 63.6,
         "area_living": 528,
         "floor": 69,
         "rooms": 6,
         "layout": 2,
         "ceiling": 350,
         "bathrooms_shared": 4,
         "bathrooms_private": 4,
         "windows_court": 1,
         "windows_street": 1,
         "balconies": 4,
         "loggias": 4,
         "condition": 3,
         "phones": 2,
         "building_id": 9734,
         "new": 1,
         "latitude": 56.001625,
         "longitude": 132.76809699999998,
         "district": 11,
         "constructed": 2022,
         "material": 6,
         "stories": 87,
         "elevator_without": 1,
         "elevator_passenger": 1,
         "elevator_service": 1,
         "parking": 2,
         "garbage_chute": 1,
         "heating": 3,
         "_deepnote_index_column": "max"
        }
       ],
       "rows_bottom": null
      },
      "text/plain": "                 id       seller   area_total  area_kitchen  area_living  \\\ncount   9937.000000  9937.000000  9937.000000    9937.00000  9937.000000   \nmean   28253.000000     1.737245    75.144219      12.99518    39.879120   \nstd     2868.709146     0.961568    56.359318       6.39059    30.841838   \nmin    23285.000000     0.000000    13.000000       1.20000     0.000000   \n25%    25769.000000     1.000000    42.400000       8.80000    22.000000   \n50%    28253.000000     2.000000    59.600000      11.30000    32.000000   \n75%    30737.000000     3.000000    86.000000      16.00000    46.000000   \nmax    33221.000000     3.000000  1175.000000      63.60000   528.000000   \n\n             floor        rooms       layout      ceiling  bathrooms_shared  \\\ncount  9937.000000  9937.000000  9937.000000  9937.000000       9937.000000   \nmean      9.184160     2.202878     1.013082     4.011372          0.789272   \nstd       7.963073     1.107315     0.187765    12.752442          0.779850   \nmin       1.000000     1.000000     0.000000     0.000000          0.000000   \n25%       3.000000     1.000000     1.000000     3.000000          0.000000   \n50%       7.000000     2.000000     1.000000     3.000000          1.000000   \n75%      13.000000     3.000000     1.000000     3.000000          1.000000   \nmax      69.000000     6.000000     2.000000   350.000000          4.000000   \n\n       ...     district  constructed     material      stories  \\\ncount  ...  9937.000000  9937.000000  9937.000000  9937.000000   \nmean   ...     4.662574  2002.146926     2.236892    18.107578   \nstd    ...     3.156538    23.342587     1.003434    10.725279   \nmin    ...     0.000000  1860.000000     0.000000     2.000000   \n25%    ...     2.000000  1988.000000     2.000000    10.000000   \n50%    ...     5.000000  2013.000000     2.000000    17.000000   \n75%    ...     7.000000  2019.000000     3.000000    23.000000   \nmax    ...    11.000000  2022.000000     6.000000    87.000000   \n\n       elevator_without  elevator_passenger  elevator_service      parking  \\\ncount       9937.000000         9937.000000       9937.000000  9937.000000   \nmean           0.426185            0.925631          0.747811     0.580054   \nstd            0.494546            0.262383          0.434291     0.559698   \nmin            0.000000            0.000000          0.000000     0.000000   \n25%            0.000000            1.000000          0.000000     0.000000   \n50%            0.000000            1.000000          1.000000     1.000000   \n75%            1.000000            1.000000          1.000000     1.000000   \nmax            1.000000            1.000000          1.000000     2.000000   \n\n       garbage_chute      heating  \ncount    9937.000000  9937.000000  \nmean        0.798732     0.131730  \nstd         0.400968     0.465233  \nmin         0.000000     0.000000  \n25%         1.000000     0.000000  \n50%         1.000000     0.000000  \n75%         1.000000     0.000000  \nmax         1.000000     3.000000  \n\n[8 rows x 31 columns]",
      "text/html": "<div>\n<style scoped>\n    .dataframe tbody tr th:only-of-type {\n        vertical-align: middle;\n    }\n\n    .dataframe tbody tr th {\n        vertical-align: top;\n    }\n\n    .dataframe thead th {\n        text-align: right;\n    }\n</style>\n<table border=\"1\" class=\"dataframe\">\n  <thead>\n    <tr style=\"text-align: right;\">\n      <th></th>\n      <th>id</th>\n      <th>seller</th>\n      <th>area_total</th>\n      <th>area_kitchen</th>\n      <th>area_living</th>\n      <th>floor</th>\n      <th>rooms</th>\n      <th>layout</th>\n      <th>ceiling</th>\n      <th>bathrooms_shared</th>\n      <th>...</th>\n      <th>district</th>\n      <th>constructed</th>\n      <th>material</th>\n      <th>stories</th>\n      <th>elevator_without</th>\n      <th>elevator_passenger</th>\n      <th>elevator_service</th>\n      <th>parking</th>\n      <th>garbage_chute</th>\n      <th>heating</th>\n    </tr>\n  </thead>\n  <tbody>\n    <tr>\n      <th>count</th>\n      <td>9937.000000</td>\n      <td>9937.000000</td>\n      <td>9937.000000</td>\n      <td>9937.00000</td>\n      <td>9937.000000</td>\n      <td>9937.000000</td>\n      <td>9937.000000</td>\n      <td>9937.000000</td>\n      <td>9937.000000</td>\n      <td>9937.000000</td>\n      <td>...</td>\n      <td>9937.000000</td>\n      <td>9937.000000</td>\n      <td>9937.000000</td>\n      <td>9937.000000</td>\n      <td>9937.000000</td>\n      <td>9937.000000</td>\n      <td>9937.000000</td>\n      <td>9937.000000</td>\n      <td>9937.000000</td>\n      <td>9937.000000</td>\n    </tr>\n    <tr>\n      <th>mean</th>\n      <td>28253.000000</td>\n      <td>1.737245</td>\n      <td>75.144219</td>\n      <td>12.99518</td>\n      <td>39.879120</td>\n      <td>9.184160</td>\n      <td>2.202878</td>\n      <td>1.013082</td>\n      <td>4.011372</td>\n      <td>0.789272</td>\n      <td>...</td>\n      <td>4.662574</td>\n      <td>2002.146926</td>\n      <td>2.236892</td>\n      <td>18.107578</td>\n      <td>0.426185</td>\n      <td>0.925631</td>\n      <td>0.747811</td>\n      <td>0.580054</td>\n      <td>0.798732</td>\n      <td>0.131730</td>\n    </tr>\n    <tr>\n      <th>std</th>\n      <td>2868.709146</td>\n      <td>0.961568</td>\n      <td>56.359318</td>\n      <td>6.39059</td>\n      <td>30.841838</td>\n      <td>7.963073</td>\n      <td>1.107315</td>\n      <td>0.187765</td>\n      <td>12.752442</td>\n      <td>0.779850</td>\n      <td>...</td>\n      <td>3.156538</td>\n      <td>23.342587</td>\n      <td>1.003434</td>\n      <td>10.725279</td>\n      <td>0.494546</td>\n      <td>0.262383</td>\n      <td>0.434291</td>\n      <td>0.559698</td>\n      <td>0.400968</td>\n      <td>0.465233</td>\n    </tr>\n    <tr>\n      <th>min</th>\n      <td>23285.000000</td>\n      <td>0.000000</td>\n      <td>13.000000</td>\n      <td>1.20000</td>\n      <td>0.000000</td>\n      <td>1.000000</td>\n      <td>1.000000</td>\n      <td>0.000000</td>\n      <td>0.000000</td>\n      <td>0.000000</td>\n      <td>...</td>\n      <td>0.000000</td>\n      <td>1860.000000</td>\n      <td>0.000000</td>\n      <td>2.000000</td>\n      <td>0.000000</td>\n      <td>0.000000</td>\n      <td>0.000000</td>\n      <td>0.000000</td>\n      <td>0.000000</td>\n      <td>0.000000</td>\n    </tr>\n    <tr>\n      <th>25%</th>\n      <td>25769.000000</td>\n      <td>1.000000</td>\n      <td>42.400000</td>\n      <td>8.80000</td>\n      <td>22.000000</td>\n      <td>3.000000</td>\n      <td>1.000000</td>\n      <td>1.000000</td>\n      <td>3.000000</td>\n      <td>0.000000</td>\n      <td>...</td>\n      <td>2.000000</td>\n      <td>1988.000000</td>\n      <td>2.000000</td>\n      <td>10.000000</td>\n      <td>0.000000</td>\n      <td>1.000000</td>\n      <td>0.000000</td>\n      <td>0.000000</td>\n      <td>1.000000</td>\n      <td>0.000000</td>\n    </tr>\n    <tr>\n      <th>50%</th>\n      <td>28253.000000</td>\n      <td>2.000000</td>\n      <td>59.600000</td>\n      <td>11.30000</td>\n      <td>32.000000</td>\n      <td>7.000000</td>\n      <td>2.000000</td>\n      <td>1.000000</td>\n      <td>3.000000</td>\n      <td>1.000000</td>\n      <td>...</td>\n      <td>5.000000</td>\n      <td>2013.000000</td>\n      <td>2.000000</td>\n      <td>17.000000</td>\n      <td>0.000000</td>\n      <td>1.000000</td>\n      <td>1.000000</td>\n      <td>1.000000</td>\n      <td>1.000000</td>\n      <td>0.000000</td>\n    </tr>\n    <tr>\n      <th>75%</th>\n      <td>30737.000000</td>\n      <td>3.000000</td>\n      <td>86.000000</td>\n      <td>16.00000</td>\n      <td>46.000000</td>\n      <td>13.000000</td>\n      <td>3.000000</td>\n      <td>1.000000</td>\n      <td>3.000000</td>\n      <td>1.000000</td>\n      <td>...</td>\n      <td>7.000000</td>\n      <td>2019.000000</td>\n      <td>3.000000</td>\n      <td>23.000000</td>\n      <td>1.000000</td>\n      <td>1.000000</td>\n      <td>1.000000</td>\n      <td>1.000000</td>\n      <td>1.000000</td>\n      <td>0.000000</td>\n    </tr>\n    <tr>\n      <th>max</th>\n      <td>33221.000000</td>\n      <td>3.000000</td>\n      <td>1175.000000</td>\n      <td>63.60000</td>\n      <td>528.000000</td>\n      <td>69.000000</td>\n      <td>6.000000</td>\n      <td>2.000000</td>\n      <td>350.000000</td>\n      <td>4.000000</td>\n      <td>...</td>\n      <td>11.000000</td>\n      <td>2022.000000</td>\n      <td>6.000000</td>\n      <td>87.000000</td>\n      <td>1.000000</td>\n      <td>1.000000</td>\n      <td>1.000000</td>\n      <td>2.000000</td>\n      <td>1.000000</td>\n      <td>3.000000</td>\n    </tr>\n  </tbody>\n</table>\n<p>8 rows × 31 columns</p>\n</div>"
     },
     "metadata": {}
    }
   ]
  },
  {
   "cell_type": "code",
   "metadata": {
    "tags": [],
    "cell_id": "00002-cf03f121-35bf-4e43-a639-0de35c7b799e",
    "deepnote_to_be_reexecuted": false,
    "source_hash": "4f6e744",
    "execution_start": 1637283656509,
    "execution_millis": 102,
    "deepnote_cell_type": "code"
   },
   "source": "f = pd.read_csv('sample_submission9.csv')\nf.describe()",
   "execution_count": null,
   "outputs": [
    {
     "output_type": "execute_result",
     "execution_count": 3,
     "data": {
      "application/vnd.deepnote.dataframe.v2+json": {
       "row_count": 8,
       "column_count": 2,
       "columns": [
        {
         "name": "id",
         "dtype": "float64",
         "stats": {
          "unique_count": 7,
          "nan_count": 0,
          "min": "2868.7091464048194",
          "max": "33221.0",
          "histogram": [
           {
            "bin_start": 2868.7091464048194,
            "bin_end": 5903.938231764338,
            "count": 1
           },
           {
            "bin_start": 5903.938231764338,
            "bin_end": 8939.167317123854,
            "count": 0
           },
           {
            "bin_start": 8939.167317123854,
            "bin_end": 11974.396402483371,
            "count": 1
           },
           {
            "bin_start": 11974.396402483371,
            "bin_end": 15009.62548784289,
            "count": 0
           },
           {
            "bin_start": 15009.62548784289,
            "bin_end": 18044.85457320241,
            "count": 0
           },
           {
            "bin_start": 18044.85457320241,
            "bin_end": 21080.083658561925,
            "count": 0
           },
           {
            "bin_start": 21080.083658561925,
            "bin_end": 24115.312743921444,
            "count": 1
           },
           {
            "bin_start": 24115.312743921444,
            "bin_end": 27150.541829280963,
            "count": 1
           },
           {
            "bin_start": 27150.541829280963,
            "bin_end": 30185.77091464048,
            "count": 2
           },
           {
            "bin_start": 30185.77091464048,
            "bin_end": 33221,
            "count": 2
           }
          ]
         }
        },
        {
         "name": "price_prediction",
         "dtype": "float64",
         "stats": {
          "unique_count": 8,
          "nan_count": 0,
          "min": "9937.0",
          "max": "755226859.7966864",
          "histogram": [
           {
            "bin_start": 9937,
            "bin_end": 75531629.27966864,
            "count": 7
           },
           {
            "bin_start": 75531629.27966864,
            "bin_end": 151053321.5593373,
            "count": 0
           },
           {
            "bin_start": 151053321.5593373,
            "bin_end": 226575013.83900595,
            "count": 0
           },
           {
            "bin_start": 226575013.83900595,
            "bin_end": 302096706.1186746,
            "count": 0
           },
           {
            "bin_start": 302096706.1186746,
            "bin_end": 377618398.3983432,
            "count": 0
           },
           {
            "bin_start": 377618398.3983432,
            "bin_end": 453140090.6780119,
            "count": 0
           },
           {
            "bin_start": 453140090.6780119,
            "bin_end": 528661782.9576805,
            "count": 0
           },
           {
            "bin_start": 528661782.9576805,
            "bin_end": 604183475.2373492,
            "count": 0
           },
           {
            "bin_start": 604183475.2373492,
            "bin_end": 679705167.5170178,
            "count": 0
           },
           {
            "bin_start": 679705167.5170178,
            "bin_end": 755226859.7966864,
            "count": 1
           }
          ]
         }
        },
        {
         "name": "_deepnote_index_column",
         "dtype": "object"
        }
       ],
       "rows_top": [
        {
         "id": 9937,
         "price_prediction": 9937,
         "_deepnote_index_column": "count"
        },
        {
         "id": 28253,
         "price_prediction": 21986972.851602253,
         "_deepnote_index_column": "mean"
        },
        {
         "id": 2868.7091464048194,
         "price_prediction": 34301461.20864619,
         "_deepnote_index_column": "std"
        },
        {
         "id": 23285,
         "price_prediction": 1851886.114907049,
         "_deepnote_index_column": "min"
        },
        {
         "id": 25769,
         "price_prediction": 7837615.999562798,
         "_deepnote_index_column": "25%"
        },
        {
         "id": 28253,
         "price_prediction": 11151267.130206753,
         "_deepnote_index_column": "50%"
        },
        {
         "id": 30737,
         "price_prediction": 21031457.25222162,
         "_deepnote_index_column": "75%"
        },
        {
         "id": 33221,
         "price_prediction": 755226859.7966864,
         "_deepnote_index_column": "max"
        }
       ],
       "rows_bottom": null
      },
      "text/plain": "                 id  price_prediction\ncount   9937.000000      9.937000e+03\nmean   28253.000000      2.198697e+07\nstd     2868.709146      3.430146e+07\nmin    23285.000000      1.851886e+06\n25%    25769.000000      7.837616e+06\n50%    28253.000000      1.115127e+07\n75%    30737.000000      2.103146e+07\nmax    33221.000000      7.552269e+08",
      "text/html": "<div>\n<style scoped>\n    .dataframe tbody tr th:only-of-type {\n        vertical-align: middle;\n    }\n\n    .dataframe tbody tr th {\n        vertical-align: top;\n    }\n\n    .dataframe thead th {\n        text-align: right;\n    }\n</style>\n<table border=\"1\" class=\"dataframe\">\n  <thead>\n    <tr style=\"text-align: right;\">\n      <th></th>\n      <th>id</th>\n      <th>price_prediction</th>\n    </tr>\n  </thead>\n  <tbody>\n    <tr>\n      <th>count</th>\n      <td>9937.000000</td>\n      <td>9.937000e+03</td>\n    </tr>\n    <tr>\n      <th>mean</th>\n      <td>28253.000000</td>\n      <td>2.198697e+07</td>\n    </tr>\n    <tr>\n      <th>std</th>\n      <td>2868.709146</td>\n      <td>3.430146e+07</td>\n    </tr>\n    <tr>\n      <th>min</th>\n      <td>23285.000000</td>\n      <td>1.851886e+06</td>\n    </tr>\n    <tr>\n      <th>25%</th>\n      <td>25769.000000</td>\n      <td>7.837616e+06</td>\n    </tr>\n    <tr>\n      <th>50%</th>\n      <td>28253.000000</td>\n      <td>1.115127e+07</td>\n    </tr>\n    <tr>\n      <th>75%</th>\n      <td>30737.000000</td>\n      <td>2.103146e+07</td>\n    </tr>\n    <tr>\n      <th>max</th>\n      <td>33221.000000</td>\n      <td>7.552269e+08</td>\n    </tr>\n  </tbody>\n</table>\n</div>"
     },
     "metadata": {}
    }
   ]
  },
  {
   "cell_type": "code",
   "metadata": {
    "tags": [],
    "cell_id": "00003-52511932-c619-41ea-8887-53298bfe921e",
    "deepnote_to_be_reexecuted": false,
    "source_hash": "9eddc19f",
    "execution_start": 1637283656607,
    "execution_millis": 293,
    "deepnote_cell_type": "code"
   },
   "source": "\napartments = pd.read_csv('apartments_train.csv')\nprint(f'Loaded {len(apartments)} apartments')\nwith open('apartments_meta.json') as f:\n    apartments_meta = json.load(f)\n#(describe_data(apartments, apartments_meta))\n\nbuildings = pd.read_csv('buildings_train.csv')\nprint(f'Loaded {len(buildings)} buildings')\nwith open('buildings_meta.json') as f:\n    buildings_meta = json.load(f)\nbuildings.head()\n#describe_data(buildings, buildings_meta)\n\n#print(f'All apartments have an associated building: {apartments.building_id.isin(buildings.id).all()}')\ndata = pd.merge(apartments, buildings.set_index('id'), how='left', left_on='building_id', right_index=True)\nprint(data.head())\n\ndef root_mean_squared_log_error(y_true, y_pred):\n    # Alternatively: sklearn.metrics.mean_squared_log_error(y_true, y_pred) ** 0.5\n    assert (y_true >= 0).all()\n    assert (y_pred >= 0).all()\n    log_error = np.log1p(y_pred) - np.log1p(y_true)  # Note: log1p(x) = log(1 + x)\n    return np.mean(log_error ** 2) ** 0.5",
   "execution_count": null,
   "outputs": [
    {
     "name": "stdout",
     "text": "Loaded 23285 apartments\nLoaded 6791 buildings\n   id  seller       price  area_total  area_kitchen  area_living  floor  \\\n0   0     3.0   7139520.0        59.2          12.5         31.0    2.0   \n1   1     NaN  10500000.0        88.0          14.2         48.0   18.0   \n2   2     3.0   9019650.0        78.5          22.5         40.8   12.0   \n3   3     NaN  10500000.0        88.0          14.0         48.0   18.0   \n4   4     NaN  13900000.0        78.0          17.0         35.0    7.0   \n\n   rooms  layout  ceiling  ...  address  constructed  material  stories  \\\n0    2.0     NaN     2.65  ...   к2.5/2       2021.0       3.0      9.0   \n1    3.0     1.0      NaN  ...     14к3       2010.0       3.0     25.0   \n2    3.0     NaN     2.65  ...       38       2021.0       3.0     15.0   \n3    3.0     NaN      NaN  ...     14к3       2010.0       3.0     25.0   \n4    2.0     1.0     2.90  ...      1к3       2017.0       2.0     15.0   \n\n   elevator_without  elevator_passenger  elevator_service  parking  \\\n0               0.0                 1.0               1.0      1.0   \n1               0.0                 1.0               1.0      1.0   \n2               0.0                 1.0               1.0      1.0   \n3               0.0                 1.0               1.0      1.0   \n4               0.0                 1.0               1.0      1.0   \n\n   garbage_chute  heating  \n0            NaN      NaN  \n1            NaN      0.0  \n2            NaN      NaN  \n3            NaN      0.0  \n4            0.0      0.0  \n\n[5 rows x 34 columns]\n",
     "output_type": "stream"
    }
   ]
  },
  {
   "cell_type": "code",
   "metadata": {
    "tags": [],
    "cell_id": "00004-bf6613e6-00b5-43b0-ae0c-22e962b11329",
    "deepnote_to_be_reexecuted": false,
    "source_hash": "dc7a38c6",
    "execution_start": 1637283656953,
    "execution_millis": 49,
    "deepnote_cell_type": "code"
   },
   "source": "data['price/area'] = data['price']/data['area_total']\n\ndata['distance'] = np.sqrt((37.6 - data['longitude'])**2 + (55.75 - data['latitude'])**2)\n",
   "execution_count": null,
   "outputs": []
  },
  {
   "cell_type": "code",
   "metadata": {
    "tags": [],
    "cell_id": "00005-7f2ce48d-414e-4350-af48-bed73f39073b",
    "deepnote_to_be_reexecuted": false,
    "source_hash": "70a347d4",
    "execution_start": 1637283657085,
    "execution_millis": 532,
    "deepnote_cell_type": "code"
   },
   "source": "apartments_test = pd.read_csv('apartments_test.csv')\nbuildings_test = pd.read_csv('buildings_test.csv')\ndata_test = pd.merge(apartments_test, buildings_test.set_index('id'), how='left', left_on='building_id', right_index=True)\ndata_test.head()",
   "execution_count": null,
   "outputs": [
    {
     "output_type": "execute_result",
     "execution_count": 6,
     "data": {
      "application/vnd.deepnote.dataframe.v2+json": {
       "row_count": 5,
       "column_count": 33,
       "columns": [
        {
         "name": "id",
         "dtype": "int64",
         "stats": {
          "unique_count": 5,
          "nan_count": 0,
          "min": "23285",
          "max": "23289",
          "histogram": [
           {
            "bin_start": 23285,
            "bin_end": 23285.4,
            "count": 1
           },
           {
            "bin_start": 23285.4,
            "bin_end": 23285.8,
            "count": 0
           },
           {
            "bin_start": 23285.8,
            "bin_end": 23286.2,
            "count": 1
           },
           {
            "bin_start": 23286.2,
            "bin_end": 23286.6,
            "count": 0
           },
           {
            "bin_start": 23286.6,
            "bin_end": 23287,
            "count": 0
           },
           {
            "bin_start": 23287,
            "bin_end": 23287.4,
            "count": 1
           },
           {
            "bin_start": 23287.4,
            "bin_end": 23287.8,
            "count": 0
           },
           {
            "bin_start": 23287.8,
            "bin_end": 23288.2,
            "count": 1
           },
           {
            "bin_start": 23288.2,
            "bin_end": 23288.6,
            "count": 0
           },
           {
            "bin_start": 23288.6,
            "bin_end": 23289,
            "count": 1
           }
          ]
         }
        },
        {
         "name": "seller",
         "dtype": "float64",
         "stats": {
          "unique_count": 1,
          "nan_count": 4,
          "min": "3.0",
          "max": "3.0",
          "histogram": [
           {
            "bin_start": 2.5,
            "bin_end": 2.6,
            "count": 0
           },
           {
            "bin_start": 2.6,
            "bin_end": 2.7,
            "count": 0
           },
           {
            "bin_start": 2.7,
            "bin_end": 2.8,
            "count": 0
           },
           {
            "bin_start": 2.8,
            "bin_end": 2.9,
            "count": 0
           },
           {
            "bin_start": 2.9,
            "bin_end": 3,
            "count": 0
           },
           {
            "bin_start": 3,
            "bin_end": 3.1,
            "count": 1
           },
           {
            "bin_start": 3.1,
            "bin_end": 3.2,
            "count": 0
           },
           {
            "bin_start": 3.2,
            "bin_end": 3.3,
            "count": 0
           },
           {
            "bin_start": 3.3,
            "bin_end": 3.4,
            "count": 0
           },
           {
            "bin_start": 3.4,
            "bin_end": 3.5,
            "count": 0
           }
          ]
         }
        },
        {
         "name": "area_total",
         "dtype": "float64",
         "stats": {
          "unique_count": 5,
          "nan_count": 0,
          "min": "34.0",
          "max": "71.4",
          "histogram": [
           {
            "bin_start": 34,
            "bin_end": 37.74,
            "count": 1
           },
           {
            "bin_start": 37.74,
            "bin_end": 41.480000000000004,
            "count": 1
           },
           {
            "bin_start": 41.480000000000004,
            "bin_end": 45.22,
            "count": 0
           },
           {
            "bin_start": 45.22,
            "bin_end": 48.96,
            "count": 0
           },
           {
            "bin_start": 48.96,
            "bin_end": 52.7,
            "count": 0
           },
           {
            "bin_start": 52.7,
            "bin_end": 56.440000000000005,
            "count": 1
           },
           {
            "bin_start": 56.440000000000005,
            "bin_end": 60.18000000000001,
            "count": 0
           },
           {
            "bin_start": 60.18000000000001,
            "bin_end": 63.92,
            "count": 1
           },
           {
            "bin_start": 63.92,
            "bin_end": 67.66,
            "count": 0
           },
           {
            "bin_start": 67.66,
            "bin_end": 71.4,
            "count": 1
           }
          ]
         }
        },
        {
         "name": "area_kitchen",
         "dtype": "float64",
         "stats": {
          "unique_count": 3,
          "nan_count": 2,
          "min": "4.0",
          "max": "19.6",
          "histogram": [
           {
            "bin_start": 4,
            "bin_end": 5.5600000000000005,
            "count": 1
           },
           {
            "bin_start": 5.5600000000000005,
            "bin_end": 7.12,
            "count": 0
           },
           {
            "bin_start": 7.12,
            "bin_end": 8.68,
            "count": 0
           },
           {
            "bin_start": 8.68,
            "bin_end": 10.24,
            "count": 1
           },
           {
            "bin_start": 10.24,
            "bin_end": 11.8,
            "count": 0
           },
           {
            "bin_start": 11.8,
            "bin_end": 13.36,
            "count": 0
           },
           {
            "bin_start": 13.36,
            "bin_end": 14.92,
            "count": 0
           },
           {
            "bin_start": 14.92,
            "bin_end": 16.48,
            "count": 0
           },
           {
            "bin_start": 16.48,
            "bin_end": 18.04,
            "count": 0
           },
           {
            "bin_start": 18.04,
            "bin_end": 19.6,
            "count": 1
           }
          ]
         }
        },
        {
         "name": "area_living",
         "dtype": "float64",
         "stats": {
          "unique_count": 3,
          "nan_count": 2,
          "min": "11.2",
          "max": "50.0",
          "histogram": [
           {
            "bin_start": 11.2,
            "bin_end": 15.079999999999998,
            "count": 1
           },
           {
            "bin_start": 15.079999999999998,
            "bin_end": 18.96,
            "count": 1
           },
           {
            "bin_start": 18.96,
            "bin_end": 22.84,
            "count": 0
           },
           {
            "bin_start": 22.84,
            "bin_end": 26.72,
            "count": 0
           },
           {
            "bin_start": 26.72,
            "bin_end": 30.599999999999998,
            "count": 0
           },
           {
            "bin_start": 30.599999999999998,
            "bin_end": 34.480000000000004,
            "count": 0
           },
           {
            "bin_start": 34.480000000000004,
            "bin_end": 38.36,
            "count": 0
           },
           {
            "bin_start": 38.36,
            "bin_end": 42.239999999999995,
            "count": 0
           },
           {
            "bin_start": 42.239999999999995,
            "bin_end": 46.120000000000005,
            "count": 0
           },
           {
            "bin_start": 46.120000000000005,
            "bin_end": 50,
            "count": 1
           }
          ]
         }
        },
        {
         "name": "floor",
         "dtype": "float64",
         "stats": {
          "unique_count": 5,
          "nan_count": 0,
          "min": "2.0",
          "max": "14.0",
          "histogram": [
           {
            "bin_start": 2,
            "bin_end": 3.2,
            "count": 1
           },
           {
            "bin_start": 3.2,
            "bin_end": 4.4,
            "count": 1
           },
           {
            "bin_start": 4.4,
            "bin_end": 5.6,
            "count": 1
           },
           {
            "bin_start": 5.6,
            "bin_end": 6.8,
            "count": 0
           },
           {
            "bin_start": 6.8,
            "bin_end": 8,
            "count": 0
           },
           {
            "bin_start": 8,
            "bin_end": 9.2,
            "count": 0
           },
           {
            "bin_start": 9.2,
            "bin_end": 10.4,
            "count": 1
           },
           {
            "bin_start": 10.4,
            "bin_end": 11.6,
            "count": 0
           },
           {
            "bin_start": 11.6,
            "bin_end": 12.799999999999999,
            "count": 0
           },
           {
            "bin_start": 12.799999999999999,
            "bin_end": 14,
            "count": 1
           }
          ]
         }
        },
        {
         "name": "rooms",
         "dtype": "float64",
         "stats": {
          "unique_count": 2,
          "nan_count": 0,
          "min": "1.0",
          "max": "2.0",
          "histogram": [
           {
            "bin_start": 1,
            "bin_end": 1.1,
            "count": 4
           },
           {
            "bin_start": 1.1,
            "bin_end": 1.2,
            "count": 0
           },
           {
            "bin_start": 1.2,
            "bin_end": 1.3,
            "count": 0
           },
           {
            "bin_start": 1.3,
            "bin_end": 1.4,
            "count": 0
           },
           {
            "bin_start": 1.4,
            "bin_end": 1.5,
            "count": 0
           },
           {
            "bin_start": 1.5,
            "bin_end": 1.6,
            "count": 0
           },
           {
            "bin_start": 1.6,
            "bin_end": 1.7000000000000002,
            "count": 0
           },
           {
            "bin_start": 1.7000000000000002,
            "bin_end": 1.8,
            "count": 0
           },
           {
            "bin_start": 1.8,
            "bin_end": 1.9,
            "count": 0
           },
           {
            "bin_start": 1.9,
            "bin_end": 2,
            "count": 1
           }
          ]
         }
        },
        {
         "name": "layout",
         "dtype": "float64",
         "stats": {
          "unique_count": 1,
          "nan_count": 4,
          "min": "1.0",
          "max": "1.0",
          "histogram": [
           {
            "bin_start": 0.5,
            "bin_end": 0.6,
            "count": 0
           },
           {
            "bin_start": 0.6,
            "bin_end": 0.7,
            "count": 0
           },
           {
            "bin_start": 0.7,
            "bin_end": 0.8,
            "count": 0
           },
           {
            "bin_start": 0.8,
            "bin_end": 0.9,
            "count": 0
           },
           {
            "bin_start": 0.9,
            "bin_end": 1,
            "count": 0
           },
           {
            "bin_start": 1,
            "bin_end": 1.1,
            "count": 1
           },
           {
            "bin_start": 1.1,
            "bin_end": 1.2000000000000002,
            "count": 0
           },
           {
            "bin_start": 1.2000000000000002,
            "bin_end": 1.3,
            "count": 0
           },
           {
            "bin_start": 1.3,
            "bin_end": 1.4,
            "count": 0
           },
           {
            "bin_start": 1.4,
            "bin_end": 1.5,
            "count": 0
           }
          ]
         }
        },
        {
         "name": "ceiling",
         "dtype": "float64",
         "stats": {
          "unique_count": 3,
          "nan_count": 2,
          "min": "2.65",
          "max": "3.0",
          "histogram": [
           {
            "bin_start": 2.65,
            "bin_end": 2.685,
            "count": 1
           },
           {
            "bin_start": 2.685,
            "bin_end": 2.7199999999999998,
            "count": 0
           },
           {
            "bin_start": 2.7199999999999998,
            "bin_end": 2.755,
            "count": 1
           },
           {
            "bin_start": 2.755,
            "bin_end": 2.79,
            "count": 0
           },
           {
            "bin_start": 2.79,
            "bin_end": 2.825,
            "count": 0
           },
           {
            "bin_start": 2.825,
            "bin_end": 2.86,
            "count": 0
           },
           {
            "bin_start": 2.86,
            "bin_end": 2.895,
            "count": 0
           },
           {
            "bin_start": 2.895,
            "bin_end": 2.93,
            "count": 0
           },
           {
            "bin_start": 2.93,
            "bin_end": 2.965,
            "count": 0
           },
           {
            "bin_start": 2.965,
            "bin_end": 3,
            "count": 1
           }
          ]
         }
        },
        {
         "name": "bathrooms_shared",
         "dtype": "float64",
         "stats": {
          "unique_count": 1,
          "nan_count": 2,
          "min": "1.0",
          "max": "1.0",
          "histogram": [
           {
            "bin_start": 0.5,
            "bin_end": 0.6,
            "count": 0
           },
           {
            "bin_start": 0.6,
            "bin_end": 0.7,
            "count": 0
           },
           {
            "bin_start": 0.7,
            "bin_end": 0.8,
            "count": 0
           },
           {
            "bin_start": 0.8,
            "bin_end": 0.9,
            "count": 0
           },
           {
            "bin_start": 0.9,
            "bin_end": 1,
            "count": 0
           },
           {
            "bin_start": 1,
            "bin_end": 1.1,
            "count": 3
           },
           {
            "bin_start": 1.1,
            "bin_end": 1.2000000000000002,
            "count": 0
           },
           {
            "bin_start": 1.2000000000000002,
            "bin_end": 1.3,
            "count": 0
           },
           {
            "bin_start": 1.3,
            "bin_end": 1.4,
            "count": 0
           },
           {
            "bin_start": 1.4,
            "bin_end": 1.5,
            "count": 0
           }
          ]
         }
        },
        {
         "name": "bathrooms_private",
         "dtype": "float64",
         "stats": {
          "unique_count": 1,
          "nan_count": 2,
          "min": "0.0",
          "max": "0.0",
          "histogram": [
           {
            "bin_start": -0.5,
            "bin_end": -0.4,
            "count": 0
           },
           {
            "bin_start": -0.4,
            "bin_end": -0.3,
            "count": 0
           },
           {
            "bin_start": -0.3,
            "bin_end": -0.19999999999999996,
            "count": 0
           },
           {
            "bin_start": -0.19999999999999996,
            "bin_end": -0.09999999999999998,
            "count": 0
           },
           {
            "bin_start": -0.09999999999999998,
            "bin_end": 0,
            "count": 0
           },
           {
            "bin_start": 0,
            "bin_end": 0.10000000000000009,
            "count": 3
           },
           {
            "bin_start": 0.10000000000000009,
            "bin_end": 0.20000000000000007,
            "count": 0
           },
           {
            "bin_start": 0.20000000000000007,
            "bin_end": 0.30000000000000004,
            "count": 0
           },
           {
            "bin_start": 0.30000000000000004,
            "bin_end": 0.4,
            "count": 0
           },
           {
            "bin_start": 0.4,
            "bin_end": 0.5,
            "count": 0
           }
          ]
         }
        },
        {
         "name": "windows_court",
         "dtype": "float64",
         "stats": {
          "unique_count": 2,
          "nan_count": 0,
          "min": "0.0",
          "max": "1.0",
          "histogram": [
           {
            "bin_start": 0,
            "bin_end": 0.1,
            "count": 1
           },
           {
            "bin_start": 0.1,
            "bin_end": 0.2,
            "count": 0
           },
           {
            "bin_start": 0.2,
            "bin_end": 0.30000000000000004,
            "count": 0
           },
           {
            "bin_start": 0.30000000000000004,
            "bin_end": 0.4,
            "count": 0
           },
           {
            "bin_start": 0.4,
            "bin_end": 0.5,
            "count": 0
           },
           {
            "bin_start": 0.5,
            "bin_end": 0.6000000000000001,
            "count": 0
           },
           {
            "bin_start": 0.6000000000000001,
            "bin_end": 0.7000000000000001,
            "count": 0
           },
           {
            "bin_start": 0.7000000000000001,
            "bin_end": 0.8,
            "count": 0
           },
           {
            "bin_start": 0.8,
            "bin_end": 0.9,
            "count": 0
           },
           {
            "bin_start": 0.9,
            "bin_end": 1,
            "count": 4
           }
          ]
         }
        },
        {
         "name": "windows_street",
         "dtype": "float64",
         "stats": {
          "unique_count": 2,
          "nan_count": 0,
          "min": "0.0",
          "max": "1.0",
          "histogram": [
           {
            "bin_start": 0,
            "bin_end": 0.1,
            "count": 4
           },
           {
            "bin_start": 0.1,
            "bin_end": 0.2,
            "count": 0
           },
           {
            "bin_start": 0.2,
            "bin_end": 0.30000000000000004,
            "count": 0
           },
           {
            "bin_start": 0.30000000000000004,
            "bin_end": 0.4,
            "count": 0
           },
           {
            "bin_start": 0.4,
            "bin_end": 0.5,
            "count": 0
           },
           {
            "bin_start": 0.5,
            "bin_end": 0.6000000000000001,
            "count": 0
           },
           {
            "bin_start": 0.6000000000000001,
            "bin_end": 0.7000000000000001,
            "count": 0
           },
           {
            "bin_start": 0.7000000000000001,
            "bin_end": 0.8,
            "count": 0
           },
           {
            "bin_start": 0.8,
            "bin_end": 0.9,
            "count": 0
           },
           {
            "bin_start": 0.9,
            "bin_end": 1,
            "count": 1
           }
          ]
         }
        },
        {
         "name": "balconies",
         "dtype": "float64",
         "stats": {
          "unique_count": 2,
          "nan_count": 3,
          "min": "0.0",
          "max": "1.0",
          "histogram": [
           {
            "bin_start": 0,
            "bin_end": 0.1,
            "count": 1
           },
           {
            "bin_start": 0.1,
            "bin_end": 0.2,
            "count": 0
           },
           {
            "bin_start": 0.2,
            "bin_end": 0.30000000000000004,
            "count": 0
           },
           {
            "bin_start": 0.30000000000000004,
            "bin_end": 0.4,
            "count": 0
           },
           {
            "bin_start": 0.4,
            "bin_end": 0.5,
            "count": 0
           },
           {
            "bin_start": 0.5,
            "bin_end": 0.6000000000000001,
            "count": 0
           },
           {
            "bin_start": 0.6000000000000001,
            "bin_end": 0.7000000000000001,
            "count": 0
           },
           {
            "bin_start": 0.7000000000000001,
            "bin_end": 0.8,
            "count": 0
           },
           {
            "bin_start": 0.8,
            "bin_end": 0.9,
            "count": 0
           },
           {
            "bin_start": 0.9,
            "bin_end": 1,
            "count": 1
           }
          ]
         }
        },
        {
         "name": "loggias",
         "dtype": "float64",
         "stats": {
          "unique_count": 2,
          "nan_count": 3,
          "min": "0.0",
          "max": "1.0",
          "histogram": [
           {
            "bin_start": 0,
            "bin_end": 0.1,
            "count": 1
           },
           {
            "bin_start": 0.1,
            "bin_end": 0.2,
            "count": 0
           },
           {
            "bin_start": 0.2,
            "bin_end": 0.30000000000000004,
            "count": 0
           },
           {
            "bin_start": 0.30000000000000004,
            "bin_end": 0.4,
            "count": 0
           },
           {
            "bin_start": 0.4,
            "bin_end": 0.5,
            "count": 0
           },
           {
            "bin_start": 0.5,
            "bin_end": 0.6000000000000001,
            "count": 0
           },
           {
            "bin_start": 0.6000000000000001,
            "bin_end": 0.7000000000000001,
            "count": 0
           },
           {
            "bin_start": 0.7000000000000001,
            "bin_end": 0.8,
            "count": 0
           },
           {
            "bin_start": 0.8,
            "bin_end": 0.9,
            "count": 0
           },
           {
            "bin_start": 0.9,
            "bin_end": 1,
            "count": 1
           }
          ]
         }
        },
        {
         "name": "condition",
         "dtype": "float64",
         "stats": {
          "unique_count": 3,
          "nan_count": 1,
          "min": "0.0",
          "max": "3.0",
          "histogram": [
           {
            "bin_start": 0,
            "bin_end": 0.3,
            "count": 2
           },
           {
            "bin_start": 0.3,
            "bin_end": 0.6,
            "count": 0
           },
           {
            "bin_start": 0.6,
            "bin_end": 0.8999999999999999,
            "count": 0
           },
           {
            "bin_start": 0.8999999999999999,
            "bin_end": 1.2,
            "count": 1
           },
           {
            "bin_start": 1.2,
            "bin_end": 1.5,
            "count": 0
           },
           {
            "bin_start": 1.5,
            "bin_end": 1.7999999999999998,
            "count": 0
           },
           {
            "bin_start": 1.7999999999999998,
            "bin_end": 2.1,
            "count": 0
           },
           {
            "bin_start": 2.1,
            "bin_end": 2.4,
            "count": 0
           },
           {
            "bin_start": 2.4,
            "bin_end": 2.6999999999999997,
            "count": 0
           },
           {
            "bin_start": 2.6999999999999997,
            "bin_end": 3,
            "count": 1
           }
          ]
         }
        },
        {
         "name": "phones",
         "dtype": "float64",
         "stats": {
          "unique_count": 1,
          "nan_count": 0,
          "min": "1.0",
          "max": "1.0",
          "histogram": [
           {
            "bin_start": 0.5,
            "bin_end": 0.6,
            "count": 0
           },
           {
            "bin_start": 0.6,
            "bin_end": 0.7,
            "count": 0
           },
           {
            "bin_start": 0.7,
            "bin_end": 0.8,
            "count": 0
           },
           {
            "bin_start": 0.8,
            "bin_end": 0.9,
            "count": 0
           },
           {
            "bin_start": 0.9,
            "bin_end": 1,
            "count": 0
           },
           {
            "bin_start": 1,
            "bin_end": 1.1,
            "count": 5
           },
           {
            "bin_start": 1.1,
            "bin_end": 1.2000000000000002,
            "count": 0
           },
           {
            "bin_start": 1.2000000000000002,
            "bin_end": 1.3,
            "count": 0
           },
           {
            "bin_start": 1.3,
            "bin_end": 1.4,
            "count": 0
           },
           {
            "bin_start": 1.4,
            "bin_end": 1.5,
            "count": 0
           }
          ]
         }
        },
        {
         "name": "building_id",
         "dtype": "int64",
         "stats": {
          "unique_count": 5,
          "nan_count": 0,
          "min": "681",
          "max": "7530",
          "histogram": [
           {
            "bin_start": 681,
            "bin_end": 1365.9,
            "count": 2
           },
           {
            "bin_start": 1365.9,
            "bin_end": 2050.8,
            "count": 0
           },
           {
            "bin_start": 2050.8,
            "bin_end": 2735.7,
            "count": 0
           },
           {
            "bin_start": 2735.7,
            "bin_end": 3420.6,
            "count": 0
           },
           {
            "bin_start": 3420.6,
            "bin_end": 4105.5,
            "count": 0
           },
           {
            "bin_start": 4105.5,
            "bin_end": 4790.4,
            "count": 1
           },
           {
            "bin_start": 4790.4,
            "bin_end": 5475.3,
            "count": 1
           },
           {
            "bin_start": 5475.3,
            "bin_end": 6160.2,
            "count": 0
           },
           {
            "bin_start": 6160.2,
            "bin_end": 6845.099999999999,
            "count": 0
           },
           {
            "bin_start": 6845.099999999999,
            "bin_end": 7530,
            "count": 1
           }
          ]
         }
        },
        {
         "name": "new",
         "dtype": "float64",
         "stats": {
          "unique_count": 2,
          "nan_count": 0,
          "min": "0.0",
          "max": "1.0",
          "histogram": [
           {
            "bin_start": 0,
            "bin_end": 0.1,
            "count": 4
           },
           {
            "bin_start": 0.1,
            "bin_end": 0.2,
            "count": 0
           },
           {
            "bin_start": 0.2,
            "bin_end": 0.30000000000000004,
            "count": 0
           },
           {
            "bin_start": 0.30000000000000004,
            "bin_end": 0.4,
            "count": 0
           },
           {
            "bin_start": 0.4,
            "bin_end": 0.5,
            "count": 0
           },
           {
            "bin_start": 0.5,
            "bin_end": 0.6000000000000001,
            "count": 0
           },
           {
            "bin_start": 0.6000000000000001,
            "bin_end": 0.7000000000000001,
            "count": 0
           },
           {
            "bin_start": 0.7000000000000001,
            "bin_end": 0.8,
            "count": 0
           },
           {
            "bin_start": 0.8,
            "bin_end": 0.9,
            "count": 0
           },
           {
            "bin_start": 0.9,
            "bin_end": 1,
            "count": 1
           }
          ]
         }
        },
        {
         "name": "latitude",
         "dtype": "float64",
         "stats": {
          "unique_count": 5,
          "nan_count": 0,
          "min": "55.518041",
          "max": "55.762247",
          "histogram": [
           {
            "bin_start": 55.518041,
            "bin_end": 55.542461599999996,
            "count": 1
           },
           {
            "bin_start": 55.542461599999996,
            "bin_end": 55.566882199999995,
            "count": 0
           },
           {
            "bin_start": 55.566882199999995,
            "bin_end": 55.5913028,
            "count": 1
           },
           {
            "bin_start": 55.5913028,
            "bin_end": 55.6157234,
            "count": 1
           },
           {
            "bin_start": 55.6157234,
            "bin_end": 55.640144,
            "count": 1
           },
           {
            "bin_start": 55.640144,
            "bin_end": 55.6645646,
            "count": 0
           },
           {
            "bin_start": 55.6645646,
            "bin_end": 55.6889852,
            "count": 0
           },
           {
            "bin_start": 55.6889852,
            "bin_end": 55.713405800000004,
            "count": 0
           },
           {
            "bin_start": 55.713405800000004,
            "bin_end": 55.7378264,
            "count": 0
           },
           {
            "bin_start": 55.7378264,
            "bin_end": 55.762247,
            "count": 1
           }
          ]
         }
        },
        {
         "name": "longitude",
         "dtype": "float64",
         "stats": {
          "unique_count": 5,
          "nan_count": 0,
          "min": "37.343829",
          "max": "37.549040000000005",
          "histogram": [
           {
            "bin_start": 37.343829,
            "bin_end": 37.3643501,
            "count": 1
           },
           {
            "bin_start": 37.3643501,
            "bin_end": 37.3848712,
            "count": 0
           },
           {
            "bin_start": 37.3848712,
            "bin_end": 37.4053923,
            "count": 0
           },
           {
            "bin_start": 37.4053923,
            "bin_end": 37.4259134,
            "count": 1
           },
           {
            "bin_start": 37.4259134,
            "bin_end": 37.4464345,
            "count": 0
           },
           {
            "bin_start": 37.4464345,
            "bin_end": 37.466955600000006,
            "count": 1
           },
           {
            "bin_start": 37.466955600000006,
            "bin_end": 37.4874767,
            "count": 1
           },
           {
            "bin_start": 37.4874767,
            "bin_end": 37.507997800000005,
            "count": 0
           },
           {
            "bin_start": 37.507997800000005,
            "bin_end": 37.5285189,
            "count": 0
           },
           {
            "bin_start": 37.5285189,
            "bin_end": 37.549040000000005,
            "count": 1
           }
          ]
         }
        },
        {
         "name": "district",
         "dtype": "float64",
         "stats": {
          "unique_count": 2,
          "nan_count": 0,
          "min": "0.0",
          "max": "11.0",
          "histogram": [
           {
            "bin_start": 0,
            "bin_end": 1.1,
            "count": 1
           },
           {
            "bin_start": 1.1,
            "bin_end": 2.2,
            "count": 0
           },
           {
            "bin_start": 2.2,
            "bin_end": 3.3000000000000003,
            "count": 0
           },
           {
            "bin_start": 3.3000000000000003,
            "bin_end": 4.4,
            "count": 0
           },
           {
            "bin_start": 4.4,
            "bin_end": 5.5,
            "count": 0
           },
           {
            "bin_start": 5.5,
            "bin_end": 6.6000000000000005,
            "count": 0
           },
           {
            "bin_start": 6.6000000000000005,
            "bin_end": 7.700000000000001,
            "count": 0
           },
           {
            "bin_start": 7.700000000000001,
            "bin_end": 8.8,
            "count": 0
           },
           {
            "bin_start": 8.8,
            "bin_end": 9.9,
            "count": 0
           },
           {
            "bin_start": 9.9,
            "bin_end": 11,
            "count": 4
           }
          ]
         }
        },
        {
         "name": "street",
         "dtype": "object",
         "stats": {
          "unique_count": 5,
          "nan_count": 0,
          "categories": [
           {
            "name": "2-я Черногрязская улица",
            "count": 1
           },
           {
            "name": "улица Сервантеса",
            "count": 1
           },
           {
            "name": "3 others",
            "count": 3
           }
          ]
         }
        },
        {
         "name": "address",
         "dtype": "object",
         "stats": {
          "unique_count": 5,
          "nan_count": 0,
          "categories": [
           {
            "name": "6к3",
            "count": 1
           },
           {
            "name": "3к2",
            "count": 1
           },
           {
            "name": "3 others",
            "count": 3
           }
          ]
         }
        },
        {
         "name": "constructed",
         "dtype": "float64",
         "stats": {
          "unique_count": 4,
          "nan_count": 0,
          "min": "2014.0",
          "max": "2021.0",
          "histogram": [
           {
            "bin_start": 2014,
            "bin_end": 2014.7,
            "count": 1
           },
           {
            "bin_start": 2014.7,
            "bin_end": 2015.4,
            "count": 0
           },
           {
            "bin_start": 2015.4,
            "bin_end": 2016.1,
            "count": 1
           },
           {
            "bin_start": 2016.1,
            "bin_end": 2016.8,
            "count": 0
           },
           {
            "bin_start": 2016.8,
            "bin_end": 2017.5,
            "count": 2
           },
           {
            "bin_start": 2017.5,
            "bin_end": 2018.2,
            "count": 0
           },
           {
            "bin_start": 2018.2,
            "bin_end": 2018.9,
            "count": 0
           },
           {
            "bin_start": 2018.9,
            "bin_end": 2019.6,
            "count": 0
           },
           {
            "bin_start": 2019.6,
            "bin_end": 2020.3,
            "count": 0
           },
           {
            "bin_start": 2020.3,
            "bin_end": 2021,
            "count": 1
           }
          ]
         }
        },
        {
         "name": "material",
         "dtype": "float64",
         "stats": {
          "unique_count": 2,
          "nan_count": 0,
          "min": "2.0",
          "max": "3.0",
          "histogram": [
           {
            "bin_start": 2,
            "bin_end": 2.1,
            "count": 4
           },
           {
            "bin_start": 2.1,
            "bin_end": 2.2,
            "count": 0
           },
           {
            "bin_start": 2.2,
            "bin_end": 2.3,
            "count": 0
           },
           {
            "bin_start": 2.3,
            "bin_end": 2.4,
            "count": 0
           },
           {
            "bin_start": 2.4,
            "bin_end": 2.5,
            "count": 0
           },
           {
            "bin_start": 2.5,
            "bin_end": 2.6,
            "count": 0
           },
           {
            "bin_start": 2.6,
            "bin_end": 2.7,
            "count": 0
           },
           {
            "bin_start": 2.7,
            "bin_end": 2.8,
            "count": 0
           },
           {
            "bin_start": 2.8,
            "bin_end": 2.9,
            "count": 0
           },
           {
            "bin_start": 2.9,
            "bin_end": 3,
            "count": 1
           }
          ]
         }
        },
        {
         "name": "stories",
         "dtype": "float64",
         "stats": {
          "unique_count": 4,
          "nan_count": 0,
          "min": "9.0",
          "max": "20.0",
          "histogram": [
           {
            "bin_start": 9,
            "bin_end": 10.1,
            "count": 1
           },
           {
            "bin_start": 10.1,
            "bin_end": 11.2,
            "count": 0
           },
           {
            "bin_start": 11.2,
            "bin_end": 12.3,
            "count": 0
           },
           {
            "bin_start": 12.3,
            "bin_end": 13.4,
            "count": 0
           },
           {
            "bin_start": 13.4,
            "bin_end": 14.5,
            "count": 0
           },
           {
            "bin_start": 14.5,
            "bin_end": 15.600000000000001,
            "count": 1
           },
           {
            "bin_start": 15.600000000000001,
            "bin_end": 16.700000000000003,
            "count": 0
           },
           {
            "bin_start": 16.700000000000003,
            "bin_end": 17.8,
            "count": 2
           },
           {
            "bin_start": 17.8,
            "bin_end": 18.9,
            "count": 0
           },
           {
            "bin_start": 18.9,
            "bin_end": 20,
            "count": 1
           }
          ]
         }
        },
        {
         "name": "elevator_without",
         "dtype": "float64",
         "stats": {
          "unique_count": 2,
          "nan_count": 0,
          "min": "0.0",
          "max": "1.0",
          "histogram": [
           {
            "bin_start": 0,
            "bin_end": 0.1,
            "count": 3
           },
           {
            "bin_start": 0.1,
            "bin_end": 0.2,
            "count": 0
           },
           {
            "bin_start": 0.2,
            "bin_end": 0.30000000000000004,
            "count": 0
           },
           {
            "bin_start": 0.30000000000000004,
            "bin_end": 0.4,
            "count": 0
           },
           {
            "bin_start": 0.4,
            "bin_end": 0.5,
            "count": 0
           },
           {
            "bin_start": 0.5,
            "bin_end": 0.6000000000000001,
            "count": 0
           },
           {
            "bin_start": 0.6000000000000001,
            "bin_end": 0.7000000000000001,
            "count": 0
           },
           {
            "bin_start": 0.7000000000000001,
            "bin_end": 0.8,
            "count": 0
           },
           {
            "bin_start": 0.8,
            "bin_end": 0.9,
            "count": 0
           },
           {
            "bin_start": 0.9,
            "bin_end": 1,
            "count": 2
           }
          ]
         }
        },
        {
         "name": "elevator_passenger",
         "dtype": "float64",
         "stats": {
          "unique_count": 1,
          "nan_count": 0,
          "min": "1.0",
          "max": "1.0",
          "histogram": [
           {
            "bin_start": 0.5,
            "bin_end": 0.6,
            "count": 0
           },
           {
            "bin_start": 0.6,
            "bin_end": 0.7,
            "count": 0
           },
           {
            "bin_start": 0.7,
            "bin_end": 0.8,
            "count": 0
           },
           {
            "bin_start": 0.8,
            "bin_end": 0.9,
            "count": 0
           },
           {
            "bin_start": 0.9,
            "bin_end": 1,
            "count": 0
           },
           {
            "bin_start": 1,
            "bin_end": 1.1,
            "count": 5
           },
           {
            "bin_start": 1.1,
            "bin_end": 1.2000000000000002,
            "count": 0
           },
           {
            "bin_start": 1.2000000000000002,
            "bin_end": 1.3,
            "count": 0
           },
           {
            "bin_start": 1.3,
            "bin_end": 1.4,
            "count": 0
           },
           {
            "bin_start": 1.4,
            "bin_end": 1.5,
            "count": 0
           }
          ]
         }
        },
        {
         "name": "elevator_service",
         "dtype": "float64",
         "stats": {
          "unique_count": 2,
          "nan_count": 0,
          "min": "0.0",
          "max": "1.0",
          "histogram": [
           {
            "bin_start": 0,
            "bin_end": 0.1,
            "count": 1
           },
           {
            "bin_start": 0.1,
            "bin_end": 0.2,
            "count": 0
           },
           {
            "bin_start": 0.2,
            "bin_end": 0.30000000000000004,
            "count": 0
           },
           {
            "bin_start": 0.30000000000000004,
            "bin_end": 0.4,
            "count": 0
           },
           {
            "bin_start": 0.4,
            "bin_end": 0.5,
            "count": 0
           },
           {
            "bin_start": 0.5,
            "bin_end": 0.6000000000000001,
            "count": 0
           },
           {
            "bin_start": 0.6000000000000001,
            "bin_end": 0.7000000000000001,
            "count": 0
           },
           {
            "bin_start": 0.7000000000000001,
            "bin_end": 0.8,
            "count": 0
           },
           {
            "bin_start": 0.8,
            "bin_end": 0.9,
            "count": 0
           },
           {
            "bin_start": 0.9,
            "bin_end": 1,
            "count": 4
           }
          ]
         }
        },
        {
         "name": "parking",
         "dtype": "float64",
         "stats": {
          "unique_count": 2,
          "nan_count": 3,
          "min": "0.0",
          "max": "1.0",
          "histogram": [
           {
            "bin_start": 0,
            "bin_end": 0.1,
            "count": 1
           },
           {
            "bin_start": 0.1,
            "bin_end": 0.2,
            "count": 0
           },
           {
            "bin_start": 0.2,
            "bin_end": 0.30000000000000004,
            "count": 0
           },
           {
            "bin_start": 0.30000000000000004,
            "bin_end": 0.4,
            "count": 0
           },
           {
            "bin_start": 0.4,
            "bin_end": 0.5,
            "count": 0
           },
           {
            "bin_start": 0.5,
            "bin_end": 0.6000000000000001,
            "count": 0
           },
           {
            "bin_start": 0.6000000000000001,
            "bin_end": 0.7000000000000001,
            "count": 0
           },
           {
            "bin_start": 0.7000000000000001,
            "bin_end": 0.8,
            "count": 0
           },
           {
            "bin_start": 0.8,
            "bin_end": 0.9,
            "count": 0
           },
           {
            "bin_start": 0.9,
            "bin_end": 1,
            "count": 1
           }
          ]
         }
        },
        {
         "name": "garbage_chute",
         "dtype": "float64",
         "stats": {
          "unique_count": 2,
          "nan_count": 1,
          "min": "0.0",
          "max": "1.0",
          "histogram": [
           {
            "bin_start": 0,
            "bin_end": 0.1,
            "count": 1
           },
           {
            "bin_start": 0.1,
            "bin_end": 0.2,
            "count": 0
           },
           {
            "bin_start": 0.2,
            "bin_end": 0.30000000000000004,
            "count": 0
           },
           {
            "bin_start": 0.30000000000000004,
            "bin_end": 0.4,
            "count": 0
           },
           {
            "bin_start": 0.4,
            "bin_end": 0.5,
            "count": 0
           },
           {
            "bin_start": 0.5,
            "bin_end": 0.6000000000000001,
            "count": 0
           },
           {
            "bin_start": 0.6000000000000001,
            "bin_end": 0.7000000000000001,
            "count": 0
           },
           {
            "bin_start": 0.7000000000000001,
            "bin_end": 0.8,
            "count": 0
           },
           {
            "bin_start": 0.8,
            "bin_end": 0.9,
            "count": 0
           },
           {
            "bin_start": 0.9,
            "bin_end": 1,
            "count": 3
           }
          ]
         }
        },
        {
         "name": "heating",
         "dtype": "float64",
         "stats": {
          "unique_count": 2,
          "nan_count": 1,
          "min": "0.0",
          "max": "3.0",
          "histogram": [
           {
            "bin_start": 0,
            "bin_end": 0.3,
            "count": 3
           },
           {
            "bin_start": 0.3,
            "bin_end": 0.6,
            "count": 0
           },
           {
            "bin_start": 0.6,
            "bin_end": 0.8999999999999999,
            "count": 0
           },
           {
            "bin_start": 0.8999999999999999,
            "bin_end": 1.2,
            "count": 0
           },
           {
            "bin_start": 1.2,
            "bin_end": 1.5,
            "count": 0
           },
           {
            "bin_start": 1.5,
            "bin_end": 1.7999999999999998,
            "count": 0
           },
           {
            "bin_start": 1.7999999999999998,
            "bin_end": 2.1,
            "count": 0
           },
           {
            "bin_start": 2.1,
            "bin_end": 2.4,
            "count": 0
           },
           {
            "bin_start": 2.4,
            "bin_end": 2.6999999999999997,
            "count": 0
           },
           {
            "bin_start": 2.6999999999999997,
            "bin_end": 3,
            "count": 1
           }
          ]
         }
        },
        {
         "name": "_deepnote_index_column",
         "dtype": "int64"
        }
       ],
       "rows_top": [
        {
         "id": 23285,
         "seller": "nan",
         "area_total": 71.4,
         "area_kitchen": "nan",
         "area_living": "nan",
         "floor": 2,
         "rooms": 1,
         "layout": "nan",
         "ceiling": "nan",
         "bathrooms_shared": "nan",
         "bathrooms_private": "nan",
         "windows_court": 1,
         "windows_street": 0,
         "balconies": 1,
         "loggias": 0,
         "condition": 0,
         "phones": 1,
         "building_id": 5148,
         "new": 0,
         "latitude": 55.762247,
         "longitude": 37.549040000000005,
         "district": 0,
         "street": "2-я Черногрязская улица",
         "address": "6к3",
         "constructed": 2017,
         "material": 2,
         "stories": 20,
         "elevator_without": 1,
         "elevator_passenger": 1,
         "elevator_service": 1,
         "parking": "nan",
         "garbage_chute": 1,
         "heating": 0,
         "_deepnote_index_column": 0
        },
        {
         "id": 23286,
         "seller": "nan",
         "area_total": 54,
         "area_kitchen": 4,
         "area_living": 50,
         "floor": 4,
         "rooms": 1,
         "layout": "nan",
         "ceiling": 3,
         "bathrooms_shared": "nan",
         "bathrooms_private": "nan",
         "windows_court": 1,
         "windows_street": 0,
         "balconies": "nan",
         "loggias": "nan",
         "condition": 3,
         "phones": 1,
         "building_id": 1290,
         "new": 0,
         "latitude": 55.591467,
         "longitude": 37.452651,
         "district": 11,
         "street": "улица Сервантеса",
         "address": "3к2",
         "constructed": 2017,
         "material": 2,
         "stories": 15,
         "elevator_without": 0,
         "elevator_passenger": 1,
         "elevator_service": 1,
         "parking": 0,
         "garbage_chute": 0,
         "heating": 0,
         "_deepnote_index_column": 1
        },
        {
         "id": 23287,
         "seller": 3,
         "area_total": 39.4,
         "area_kitchen": 19.6,
         "area_living": 11.2,
         "floor": 10,
         "rooms": 1,
         "layout": "nan",
         "ceiling": 2.65,
         "bathrooms_shared": 1,
         "bathrooms_private": 0,
         "windows_court": 1,
         "windows_street": 0,
         "balconies": "nan",
         "loggias": "nan",
         "condition": "nan",
         "phones": 1,
         "building_id": 681,
         "new": 1,
         "latitude": 55.617017,
         "longitude": 37.413718,
         "district": 11,
         "street": "Саларьево Парк ЖК",
         "address": "27",
         "constructed": 2021,
         "material": 3,
         "stories": 9,
         "elevator_without": 0,
         "elevator_passenger": 1,
         "elevator_service": 1,
         "parking": 1,
         "garbage_chute": "nan",
         "heating": "nan",
         "_deepnote_index_column": 2
        },
        {
         "id": 23288,
         "seller": "nan",
         "area_total": 60.9,
         "area_kitchen": "nan",
         "area_living": "nan",
         "floor": 5,
         "rooms": 2,
         "layout": 1,
         "ceiling": "nan",
         "bathrooms_shared": 1,
         "bathrooms_private": 0,
         "windows_court": 0,
         "windows_street": 1,
         "balconies": "nan",
         "loggias": "nan",
         "condition": 0,
         "phones": 1,
         "building_id": 4261,
         "new": 0,
         "latitude": 55.569052,
         "longitude": 37.47951,
         "district": 11,
         "street": "улица Александры Монаховой",
         "address": "23",
         "constructed": 2014,
         "material": 2,
         "stories": 17,
         "elevator_without": 1,
         "elevator_passenger": 1,
         "elevator_service": 0,
         "parking": "nan",
         "garbage_chute": 1,
         "heating": 3,
         "_deepnote_index_column": 3
        },
        {
         "id": 23289,
         "seller": "nan",
         "area_total": 34,
         "area_kitchen": 9,
         "area_living": 17,
         "floor": 14,
         "rooms": 1,
         "layout": "nan",
         "ceiling": 2.75,
         "bathrooms_shared": 1,
         "bathrooms_private": 0,
         "windows_court": 1,
         "windows_street": 0,
         "balconies": 0,
         "loggias": 1,
         "condition": 1,
         "phones": 1,
         "building_id": 7530,
         "new": 0,
         "latitude": 55.518041,
         "longitude": 37.343829,
         "district": 11,
         "street": "улица 3-я Нововатутинская",
         "address": "13к1",
         "constructed": 2016,
         "material": 2,
         "stories": 17,
         "elevator_without": 0,
         "elevator_passenger": 1,
         "elevator_service": 1,
         "parking": "nan",
         "garbage_chute": 1,
         "heating": 0,
         "_deepnote_index_column": 4
        }
       ],
       "rows_bottom": null
      },
      "text/plain": "      id  seller  area_total  area_kitchen  area_living  floor  rooms  layout  \\\n0  23285     NaN        71.4           NaN          NaN    2.0    1.0     NaN   \n1  23286     NaN        54.0           4.0         50.0    4.0    1.0     NaN   \n2  23287     3.0        39.4          19.6         11.2   10.0    1.0     NaN   \n3  23288     NaN        60.9           NaN          NaN    5.0    2.0     1.0   \n4  23289     NaN        34.0           9.0         17.0   14.0    1.0     NaN   \n\n   ceiling  bathrooms_shared  ...  address  constructed  material  stories  \\\n0      NaN               NaN  ...      6к3       2017.0       2.0     20.0   \n1     3.00               NaN  ...      3к2       2017.0       2.0     15.0   \n2     2.65               1.0  ...       27       2021.0       3.0      9.0   \n3      NaN               1.0  ...       23       2014.0       2.0     17.0   \n4     2.75               1.0  ...     13к1       2016.0       2.0     17.0   \n\n   elevator_without  elevator_passenger  elevator_service  parking  \\\n0               1.0                 1.0               1.0      NaN   \n1               0.0                 1.0               1.0      0.0   \n2               0.0                 1.0               1.0      1.0   \n3               1.0                 1.0               0.0      NaN   \n4               0.0                 1.0               1.0      NaN   \n\n   garbage_chute  heating  \n0            1.0      0.0  \n1            0.0      0.0  \n2            NaN      NaN  \n3            1.0      3.0  \n4            1.0      0.0  \n\n[5 rows x 33 columns]",
      "text/html": "<div>\n<style scoped>\n    .dataframe tbody tr th:only-of-type {\n        vertical-align: middle;\n    }\n\n    .dataframe tbody tr th {\n        vertical-align: top;\n    }\n\n    .dataframe thead th {\n        text-align: right;\n    }\n</style>\n<table border=\"1\" class=\"dataframe\">\n  <thead>\n    <tr style=\"text-align: right;\">\n      <th></th>\n      <th>id</th>\n      <th>seller</th>\n      <th>area_total</th>\n      <th>area_kitchen</th>\n      <th>area_living</th>\n      <th>floor</th>\n      <th>rooms</th>\n      <th>layout</th>\n      <th>ceiling</th>\n      <th>bathrooms_shared</th>\n      <th>...</th>\n      <th>address</th>\n      <th>constructed</th>\n      <th>material</th>\n      <th>stories</th>\n      <th>elevator_without</th>\n      <th>elevator_passenger</th>\n      <th>elevator_service</th>\n      <th>parking</th>\n      <th>garbage_chute</th>\n      <th>heating</th>\n    </tr>\n  </thead>\n  <tbody>\n    <tr>\n      <th>0</th>\n      <td>23285</td>\n      <td>NaN</td>\n      <td>71.4</td>\n      <td>NaN</td>\n      <td>NaN</td>\n      <td>2.0</td>\n      <td>1.0</td>\n      <td>NaN</td>\n      <td>NaN</td>\n      <td>NaN</td>\n      <td>...</td>\n      <td>6к3</td>\n      <td>2017.0</td>\n      <td>2.0</td>\n      <td>20.0</td>\n      <td>1.0</td>\n      <td>1.0</td>\n      <td>1.0</td>\n      <td>NaN</td>\n      <td>1.0</td>\n      <td>0.0</td>\n    </tr>\n    <tr>\n      <th>1</th>\n      <td>23286</td>\n      <td>NaN</td>\n      <td>54.0</td>\n      <td>4.0</td>\n      <td>50.0</td>\n      <td>4.0</td>\n      <td>1.0</td>\n      <td>NaN</td>\n      <td>3.00</td>\n      <td>NaN</td>\n      <td>...</td>\n      <td>3к2</td>\n      <td>2017.0</td>\n      <td>2.0</td>\n      <td>15.0</td>\n      <td>0.0</td>\n      <td>1.0</td>\n      <td>1.0</td>\n      <td>0.0</td>\n      <td>0.0</td>\n      <td>0.0</td>\n    </tr>\n    <tr>\n      <th>2</th>\n      <td>23287</td>\n      <td>3.0</td>\n      <td>39.4</td>\n      <td>19.6</td>\n      <td>11.2</td>\n      <td>10.0</td>\n      <td>1.0</td>\n      <td>NaN</td>\n      <td>2.65</td>\n      <td>1.0</td>\n      <td>...</td>\n      <td>27</td>\n      <td>2021.0</td>\n      <td>3.0</td>\n      <td>9.0</td>\n      <td>0.0</td>\n      <td>1.0</td>\n      <td>1.0</td>\n      <td>1.0</td>\n      <td>NaN</td>\n      <td>NaN</td>\n    </tr>\n    <tr>\n      <th>3</th>\n      <td>23288</td>\n      <td>NaN</td>\n      <td>60.9</td>\n      <td>NaN</td>\n      <td>NaN</td>\n      <td>5.0</td>\n      <td>2.0</td>\n      <td>1.0</td>\n      <td>NaN</td>\n      <td>1.0</td>\n      <td>...</td>\n      <td>23</td>\n      <td>2014.0</td>\n      <td>2.0</td>\n      <td>17.0</td>\n      <td>1.0</td>\n      <td>1.0</td>\n      <td>0.0</td>\n      <td>NaN</td>\n      <td>1.0</td>\n      <td>3.0</td>\n    </tr>\n    <tr>\n      <th>4</th>\n      <td>23289</td>\n      <td>NaN</td>\n      <td>34.0</td>\n      <td>9.0</td>\n      <td>17.0</td>\n      <td>14.0</td>\n      <td>1.0</td>\n      <td>NaN</td>\n      <td>2.75</td>\n      <td>1.0</td>\n      <td>...</td>\n      <td>13к1</td>\n      <td>2016.0</td>\n      <td>2.0</td>\n      <td>17.0</td>\n      <td>0.0</td>\n      <td>1.0</td>\n      <td>1.0</td>\n      <td>NaN</td>\n      <td>1.0</td>\n      <td>0.0</td>\n    </tr>\n  </tbody>\n</table>\n<p>5 rows × 33 columns</p>\n</div>"
     },
     "metadata": {}
    }
   ]
  },
  {
   "cell_type": "code",
   "metadata": {
    "tags": [],
    "cell_id": "00005-ee01f85c-d216-485e-9cc5-94cdd41abd23",
    "deepnote_to_be_reexecuted": false,
    "source_hash": "d786443f",
    "execution_start": 1637283657675,
    "execution_millis": 1125,
    "deepnote_cell_type": "code"
   },
   "source": "data.describe()",
   "execution_count": null,
   "outputs": [
    {
     "output_type": "execute_result",
     "execution_count": 7,
     "data": {
      "application/vnd.deepnote.dataframe.v2+json": {
       "row_count": 8,
       "column_count": 34,
       "columns": [
        {
         "name": "id",
         "dtype": "float64",
         "stats": {
          "unique_count": 7,
          "nan_count": 0,
          "min": "0.0",
          "max": "23285.0",
          "histogram": [
           {
            "bin_start": 0,
            "bin_end": 2328.5,
            "count": 1
           },
           {
            "bin_start": 2328.5,
            "bin_end": 4657,
            "count": 0
           },
           {
            "bin_start": 4657,
            "bin_end": 6985.5,
            "count": 2
           },
           {
            "bin_start": 6985.5,
            "bin_end": 9314,
            "count": 0
           },
           {
            "bin_start": 9314,
            "bin_end": 11642.5,
            "count": 2
           },
           {
            "bin_start": 11642.5,
            "bin_end": 13971,
            "count": 0
           },
           {
            "bin_start": 13971,
            "bin_end": 16299.5,
            "count": 0
           },
           {
            "bin_start": 16299.5,
            "bin_end": 18628,
            "count": 1
           },
           {
            "bin_start": 18628,
            "bin_end": 20956.5,
            "count": 0
           },
           {
            "bin_start": 20956.5,
            "bin_end": 23285,
            "count": 2
           }
          ]
         }
        },
        {
         "name": "seller",
         "dtype": "float64",
         "stats": {
          "unique_count": 7,
          "nan_count": 0,
          "min": "0.0",
          "max": "14455.0",
          "histogram": [
           {
            "bin_start": 0,
            "bin_end": 1445.5,
            "count": 7
           },
           {
            "bin_start": 1445.5,
            "bin_end": 2891,
            "count": 0
           },
           {
            "bin_start": 2891,
            "bin_end": 4336.5,
            "count": 0
           },
           {
            "bin_start": 4336.5,
            "bin_end": 5782,
            "count": 0
           },
           {
            "bin_start": 5782,
            "bin_end": 7227.5,
            "count": 0
           },
           {
            "bin_start": 7227.5,
            "bin_end": 8673,
            "count": 0
           },
           {
            "bin_start": 8673,
            "bin_end": 10118.5,
            "count": 0
           },
           {
            "bin_start": 10118.5,
            "bin_end": 11564,
            "count": 0
           },
           {
            "bin_start": 11564,
            "bin_end": 13009.5,
            "count": 0
           },
           {
            "bin_start": 13009.5,
            "bin_end": 14455,
            "count": 1
           }
          ]
         }
        },
        {
         "name": "price",
         "dtype": "float64",
         "stats": {
          "unique_count": 8,
          "nan_count": 0,
          "min": "23285.0",
          "max": "2600000000.0",
          "histogram": [
           {
            "bin_start": 23285,
            "bin_end": 260020956.5,
            "count": 7
           },
           {
            "bin_start": 260020956.5,
            "bin_end": 520018628,
            "count": 0
           },
           {
            "bin_start": 520018628,
            "bin_end": 780016299.5,
            "count": 0
           },
           {
            "bin_start": 780016299.5,
            "bin_end": 1040013971,
            "count": 0
           },
           {
            "bin_start": 1040013971,
            "bin_end": 1300011642.5,
            "count": 0
           },
           {
            "bin_start": 1300011642.5,
            "bin_end": 1560009314,
            "count": 0
           },
           {
            "bin_start": 1560009314,
            "bin_end": 1820006985.5,
            "count": 0
           },
           {
            "bin_start": 1820006985.5,
            "bin_end": 2080004657,
            "count": 0
           },
           {
            "bin_start": 2080004657,
            "bin_end": 2340002328.5,
            "count": 0
           },
           {
            "bin_start": 2340002328.5,
            "bin_end": 2600000000,
            "count": 1
           }
          ]
         }
        },
        {
         "name": "area_total",
         "dtype": "float64",
         "stats": {
          "unique_count": 8,
          "nan_count": 0,
          "min": "9.3",
          "max": "23285.0",
          "histogram": [
           {
            "bin_start": 9.3,
            "bin_end": 2336.8700000000003,
            "count": 7
           },
           {
            "bin_start": 2336.8700000000003,
            "bin_end": 4664.4400000000005,
            "count": 0
           },
           {
            "bin_start": 4664.4400000000005,
            "bin_end": 6992.010000000001,
            "count": 0
           },
           {
            "bin_start": 6992.010000000001,
            "bin_end": 9319.58,
            "count": 0
           },
           {
            "bin_start": 9319.58,
            "bin_end": 11647.15,
            "count": 0
           },
           {
            "bin_start": 11647.15,
            "bin_end": 13974.720000000001,
            "count": 0
           },
           {
            "bin_start": 13974.720000000001,
            "bin_end": 16302.29,
            "count": 0
           },
           {
            "bin_start": 16302.29,
            "bin_end": 18629.86,
            "count": 0
           },
           {
            "bin_start": 18629.86,
            "bin_end": 20957.43,
            "count": 0
           },
           {
            "bin_start": 20957.43,
            "bin_end": 23285,
            "count": 1
           }
          ]
         }
        },
        {
         "name": "area_kitchen",
         "dtype": "float64",
         "stats": {
          "unique_count": 8,
          "nan_count": 0,
          "min": "1.0",
          "max": "18564.0",
          "histogram": [
           {
            "bin_start": 1,
            "bin_end": 1857.3,
            "count": 7
           },
           {
            "bin_start": 1857.3,
            "bin_end": 3713.6,
            "count": 0
           },
           {
            "bin_start": 3713.6,
            "bin_end": 5569.9,
            "count": 0
           },
           {
            "bin_start": 5569.9,
            "bin_end": 7426.2,
            "count": 0
           },
           {
            "bin_start": 7426.2,
            "bin_end": 9282.5,
            "count": 0
           },
           {
            "bin_start": 9282.5,
            "bin_end": 11138.8,
            "count": 0
           },
           {
            "bin_start": 11138.8,
            "bin_end": 12995.1,
            "count": 0
           },
           {
            "bin_start": 12995.1,
            "bin_end": 14851.4,
            "count": 0
           },
           {
            "bin_start": 14851.4,
            "bin_end": 16707.7,
            "count": 0
           },
           {
            "bin_start": 16707.7,
            "bin_end": 18564,
            "count": 1
           }
          ]
         }
        },
        {
         "name": "area_living",
         "dtype": "float64",
         "stats": {
          "unique_count": 8,
          "nan_count": 0,
          "min": "0.0",
          "max": "19403.0",
          "histogram": [
           {
            "bin_start": 0,
            "bin_end": 1940.3,
            "count": 7
           },
           {
            "bin_start": 1940.3,
            "bin_end": 3880.6,
            "count": 0
           },
           {
            "bin_start": 3880.6,
            "bin_end": 5820.9,
            "count": 0
           },
           {
            "bin_start": 5820.9,
            "bin_end": 7761.2,
            "count": 0
           },
           {
            "bin_start": 7761.2,
            "bin_end": 9701.5,
            "count": 0
           },
           {
            "bin_start": 9701.5,
            "bin_end": 11641.8,
            "count": 0
           },
           {
            "bin_start": 11641.8,
            "bin_end": 13582.1,
            "count": 0
           },
           {
            "bin_start": 13582.1,
            "bin_end": 15522.4,
            "count": 0
           },
           {
            "bin_start": 15522.4,
            "bin_end": 17462.7,
            "count": 0
           },
           {
            "bin_start": 17462.7,
            "bin_end": 19403,
            "count": 1
           }
          ]
         }
        },
        {
         "name": "floor",
         "dtype": "float64",
         "stats": {
          "unique_count": 8,
          "nan_count": 0,
          "min": "1.0",
          "max": "23285.0",
          "histogram": [
           {
            "bin_start": 1,
            "bin_end": 2329.4,
            "count": 7
           },
           {
            "bin_start": 2329.4,
            "bin_end": 4657.8,
            "count": 0
           },
           {
            "bin_start": 4657.8,
            "bin_end": 6986.200000000001,
            "count": 0
           },
           {
            "bin_start": 6986.200000000001,
            "bin_end": 9314.6,
            "count": 0
           },
           {
            "bin_start": 9314.6,
            "bin_end": 11643,
            "count": 0
           },
           {
            "bin_start": 11643,
            "bin_end": 13971.400000000001,
            "count": 0
           },
           {
            "bin_start": 13971.400000000001,
            "bin_end": 16299.800000000001,
            "count": 0
           },
           {
            "bin_start": 16299.800000000001,
            "bin_end": 18628.2,
            "count": 0
           },
           {
            "bin_start": 18628.2,
            "bin_end": 20956.600000000002,
            "count": 0
           },
           {
            "bin_start": 20956.600000000002,
            "bin_end": 23285,
            "count": 1
           }
          ]
         }
        },
        {
         "name": "rooms",
         "dtype": "float64",
         "stats": {
          "unique_count": 7,
          "nan_count": 0,
          "min": "1.0",
          "max": "23285.0",
          "histogram": [
           {
            "bin_start": 1,
            "bin_end": 2329.4,
            "count": 7
           },
           {
            "bin_start": 2329.4,
            "bin_end": 4657.8,
            "count": 0
           },
           {
            "bin_start": 4657.8,
            "bin_end": 6986.200000000001,
            "count": 0
           },
           {
            "bin_start": 6986.200000000001,
            "bin_end": 9314.6,
            "count": 0
           },
           {
            "bin_start": 9314.6,
            "bin_end": 11643,
            "count": 0
           },
           {
            "bin_start": 11643,
            "bin_end": 13971.400000000001,
            "count": 0
           },
           {
            "bin_start": 13971.400000000001,
            "bin_end": 16299.800000000001,
            "count": 0
           },
           {
            "bin_start": 16299.800000000001,
            "bin_end": 18628.2,
            "count": 0
           },
           {
            "bin_start": 18628.2,
            "bin_end": 20956.600000000002,
            "count": 0
           },
           {
            "bin_start": 20956.600000000002,
            "bin_end": 23285,
            "count": 1
           }
          ]
         }
        },
        {
         "name": "layout",
         "dtype": "float64",
         "stats": {
          "unique_count": 6,
          "nan_count": 0,
          "min": "0.0",
          "max": "5643.0",
          "histogram": [
           {
            "bin_start": 0,
            "bin_end": 564.3,
            "count": 7
           },
           {
            "bin_start": 564.3,
            "bin_end": 1128.6,
            "count": 0
           },
           {
            "bin_start": 1128.6,
            "bin_end": 1692.8999999999999,
            "count": 0
           },
           {
            "bin_start": 1692.8999999999999,
            "bin_end": 2257.2,
            "count": 0
           },
           {
            "bin_start": 2257.2,
            "bin_end": 2821.5,
            "count": 0
           },
           {
            "bin_start": 2821.5,
            "bin_end": 3385.7999999999997,
            "count": 0
           },
           {
            "bin_start": 3385.7999999999997,
            "bin_end": 3950.0999999999995,
            "count": 0
           },
           {
            "bin_start": 3950.0999999999995,
            "bin_end": 4514.4,
            "count": 0
           },
           {
            "bin_start": 4514.4,
            "bin_end": 5078.7,
            "count": 0
           },
           {
            "bin_start": 5078.7,
            "bin_end": 5643,
            "count": 1
           }
          ]
         }
        },
        {
         "name": "ceiling",
         "dtype": "float64",
         "stats": {
          "unique_count": 8,
          "nan_count": 0,
          "min": "0.0",
          "max": "12192.0",
          "histogram": [
           {
            "bin_start": 0,
            "bin_end": 1219.2,
            "count": 7
           },
           {
            "bin_start": 1219.2,
            "bin_end": 2438.4,
            "count": 0
           },
           {
            "bin_start": 2438.4,
            "bin_end": 3657.6000000000004,
            "count": 0
           },
           {
            "bin_start": 3657.6000000000004,
            "bin_end": 4876.8,
            "count": 0
           },
           {
            "bin_start": 4876.8,
            "bin_end": 6096,
            "count": 0
           },
           {
            "bin_start": 6096,
            "bin_end": 7315.200000000001,
            "count": 0
           },
           {
            "bin_start": 7315.200000000001,
            "bin_end": 8534.4,
            "count": 0
           },
           {
            "bin_start": 8534.4,
            "bin_end": 9753.6,
            "count": 0
           },
           {
            "bin_start": 9753.6,
            "bin_end": 10972.800000000001,
            "count": 0
           },
           {
            "bin_start": 10972.800000000001,
            "bin_end": 12192,
            "count": 1
           }
          ]
         }
        },
        {
         "name": "bathrooms_shared",
         "dtype": "float64",
         "stats": {
          "unique_count": 6,
          "nan_count": 0,
          "min": "0.0",
          "max": "19413.0",
          "histogram": [
           {
            "bin_start": 0,
            "bin_end": 1941.3,
            "count": 7
           },
           {
            "bin_start": 1941.3,
            "bin_end": 3882.6,
            "count": 0
           },
           {
            "bin_start": 3882.6,
            "bin_end": 5823.9,
            "count": 0
           },
           {
            "bin_start": 5823.9,
            "bin_end": 7765.2,
            "count": 0
           },
           {
            "bin_start": 7765.2,
            "bin_end": 9706.5,
            "count": 0
           },
           {
            "bin_start": 9706.5,
            "bin_end": 11647.8,
            "count": 0
           },
           {
            "bin_start": 11647.8,
            "bin_end": 13589.1,
            "count": 0
           },
           {
            "bin_start": 13589.1,
            "bin_end": 15530.4,
            "count": 0
           },
           {
            "bin_start": 15530.4,
            "bin_end": 17471.7,
            "count": 0
           },
           {
            "bin_start": 17471.7,
            "bin_end": 19413,
            "count": 1
           }
          ]
         }
        },
        {
         "name": "bathrooms_private",
         "dtype": "float64",
         "stats": {
          "unique_count": 6,
          "nan_count": 0,
          "min": "0.0",
          "max": "19413.0",
          "histogram": [
           {
            "bin_start": 0,
            "bin_end": 1941.3,
            "count": 7
           },
           {
            "bin_start": 1941.3,
            "bin_end": 3882.6,
            "count": 0
           },
           {
            "bin_start": 3882.6,
            "bin_end": 5823.9,
            "count": 0
           },
           {
            "bin_start": 5823.9,
            "bin_end": 7765.2,
            "count": 0
           },
           {
            "bin_start": 7765.2,
            "bin_end": 9706.5,
            "count": 0
           },
           {
            "bin_start": 9706.5,
            "bin_end": 11647.8,
            "count": 0
           },
           {
            "bin_start": 11647.8,
            "bin_end": 13589.1,
            "count": 0
           },
           {
            "bin_start": 13589.1,
            "bin_end": 15530.4,
            "count": 0
           },
           {
            "bin_start": 15530.4,
            "bin_end": 17471.7,
            "count": 0
           },
           {
            "bin_start": 17471.7,
            "bin_end": 19413,
            "count": 1
           }
          ]
         }
        },
        {
         "name": "windows_court",
         "dtype": "float64",
         "stats": {
          "unique_count": 5,
          "nan_count": 0,
          "min": "0.0",
          "max": "15213.0",
          "histogram": [
           {
            "bin_start": 0,
            "bin_end": 1521.3,
            "count": 7
           },
           {
            "bin_start": 1521.3,
            "bin_end": 3042.6,
            "count": 0
           },
           {
            "bin_start": 3042.6,
            "bin_end": 4563.9,
            "count": 0
           },
           {
            "bin_start": 4563.9,
            "bin_end": 6085.2,
            "count": 0
           },
           {
            "bin_start": 6085.2,
            "bin_end": 7606.5,
            "count": 0
           },
           {
            "bin_start": 7606.5,
            "bin_end": 9127.8,
            "count": 0
           },
           {
            "bin_start": 9127.8,
            "bin_end": 10649.1,
            "count": 0
           },
           {
            "bin_start": 10649.1,
            "bin_end": 12170.4,
            "count": 0
           },
           {
            "bin_start": 12170.4,
            "bin_end": 13691.699999999999,
            "count": 0
           },
           {
            "bin_start": 13691.699999999999,
            "bin_end": 15213,
            "count": 1
           }
          ]
         }
        },
        {
         "name": "windows_street",
         "dtype": "float64",
         "stats": {
          "unique_count": 5,
          "nan_count": 0,
          "min": "0.0",
          "max": "15213.0",
          "histogram": [
           {
            "bin_start": 0,
            "bin_end": 1521.3,
            "count": 7
           },
           {
            "bin_start": 1521.3,
            "bin_end": 3042.6,
            "count": 0
           },
           {
            "bin_start": 3042.6,
            "bin_end": 4563.9,
            "count": 0
           },
           {
            "bin_start": 4563.9,
            "bin_end": 6085.2,
            "count": 0
           },
           {
            "bin_start": 6085.2,
            "bin_end": 7606.5,
            "count": 0
           },
           {
            "bin_start": 7606.5,
            "bin_end": 9127.8,
            "count": 0
           },
           {
            "bin_start": 9127.8,
            "bin_end": 10649.1,
            "count": 0
           },
           {
            "bin_start": 10649.1,
            "bin_end": 12170.4,
            "count": 0
           },
           {
            "bin_start": 12170.4,
            "bin_end": 13691.699999999999,
            "count": 0
           },
           {
            "bin_start": 13691.699999999999,
            "bin_end": 15213,
            "count": 1
           }
          ]
         }
        },
        {
         "name": "balconies",
         "dtype": "float64",
         "stats": {
          "unique_count": 6,
          "nan_count": 0,
          "min": "0.0",
          "max": "12765.0",
          "histogram": [
           {
            "bin_start": 0,
            "bin_end": 1276.5,
            "count": 7
           },
           {
            "bin_start": 1276.5,
            "bin_end": 2553,
            "count": 0
           },
           {
            "bin_start": 2553,
            "bin_end": 3829.5,
            "count": 0
           },
           {
            "bin_start": 3829.5,
            "bin_end": 5106,
            "count": 0
           },
           {
            "bin_start": 5106,
            "bin_end": 6382.5,
            "count": 0
           },
           {
            "bin_start": 6382.5,
            "bin_end": 7659,
            "count": 0
           },
           {
            "bin_start": 7659,
            "bin_end": 8935.5,
            "count": 0
           },
           {
            "bin_start": 8935.5,
            "bin_end": 10212,
            "count": 0
           },
           {
            "bin_start": 10212,
            "bin_end": 11488.5,
            "count": 0
           },
           {
            "bin_start": 11488.5,
            "bin_end": 12765,
            "count": 1
           }
          ]
         }
        },
        {
         "name": "loggias",
         "dtype": "float64",
         "stats": {
          "unique_count": 6,
          "nan_count": 0,
          "min": "0.0",
          "max": "12765.0",
          "histogram": [
           {
            "bin_start": 0,
            "bin_end": 1276.5,
            "count": 7
           },
           {
            "bin_start": 1276.5,
            "bin_end": 2553,
            "count": 0
           },
           {
            "bin_start": 2553,
            "bin_end": 3829.5,
            "count": 0
           },
           {
            "bin_start": 3829.5,
            "bin_end": 5106,
            "count": 0
           },
           {
            "bin_start": 5106,
            "bin_end": 6382.5,
            "count": 0
           },
           {
            "bin_start": 6382.5,
            "bin_end": 7659,
            "count": 0
           },
           {
            "bin_start": 7659,
            "bin_end": 8935.5,
            "count": 0
           },
           {
            "bin_start": 8935.5,
            "bin_end": 10212,
            "count": 0
           },
           {
            "bin_start": 10212,
            "bin_end": 11488.5,
            "count": 0
           },
           {
            "bin_start": 11488.5,
            "bin_end": 12765,
            "count": 1
           }
          ]
         }
        },
        {
         "name": "condition",
         "dtype": "float64",
         "stats": {
          "unique_count": 7,
          "nan_count": 0,
          "min": "0.0",
          "max": "13475.0",
          "histogram": [
           {
            "bin_start": 0,
            "bin_end": 1347.5,
            "count": 7
           },
           {
            "bin_start": 1347.5,
            "bin_end": 2695,
            "count": 0
           },
           {
            "bin_start": 2695,
            "bin_end": 4042.5,
            "count": 0
           },
           {
            "bin_start": 4042.5,
            "bin_end": 5390,
            "count": 0
           },
           {
            "bin_start": 5390,
            "bin_end": 6737.5,
            "count": 0
           },
           {
            "bin_start": 6737.5,
            "bin_end": 8085,
            "count": 0
           },
           {
            "bin_start": 8085,
            "bin_end": 9432.5,
            "count": 0
           },
           {
            "bin_start": 9432.5,
            "bin_end": 10780,
            "count": 0
           },
           {
            "bin_start": 10780,
            "bin_end": 12127.5,
            "count": 0
           },
           {
            "bin_start": 12127.5,
            "bin_end": 13475,
            "count": 1
           }
          ]
         }
        },
        {
         "name": "phones",
         "dtype": "float64",
         "stats": {
          "unique_count": 6,
          "nan_count": 0,
          "min": "0.0",
          "max": "23205.0",
          "histogram": [
           {
            "bin_start": 0,
            "bin_end": 2320.5,
            "count": 7
           },
           {
            "bin_start": 2320.5,
            "bin_end": 4641,
            "count": 0
           },
           {
            "bin_start": 4641,
            "bin_end": 6961.5,
            "count": 0
           },
           {
            "bin_start": 6961.5,
            "bin_end": 9282,
            "count": 0
           },
           {
            "bin_start": 9282,
            "bin_end": 11602.5,
            "count": 0
           },
           {
            "bin_start": 11602.5,
            "bin_end": 13923,
            "count": 0
           },
           {
            "bin_start": 13923,
            "bin_end": 16243.5,
            "count": 0
           },
           {
            "bin_start": 16243.5,
            "bin_end": 18564,
            "count": 0
           },
           {
            "bin_start": 18564,
            "bin_end": 20884.5,
            "count": 0
           },
           {
            "bin_start": 20884.5,
            "bin_end": 23205,
            "count": 1
           }
          ]
         }
        },
        {
         "name": "building_id",
         "dtype": "float64",
         "stats": {
          "unique_count": 8,
          "nan_count": 0,
          "min": "0.0",
          "max": "23285.0",
          "histogram": [
           {
            "bin_start": 0,
            "bin_end": 2328.5,
            "count": 1
           },
           {
            "bin_start": 2328.5,
            "bin_end": 4657,
            "count": 2
           },
           {
            "bin_start": 4657,
            "bin_end": 6985.5,
            "count": 2
           },
           {
            "bin_start": 6985.5,
            "bin_end": 9314,
            "count": 1
           },
           {
            "bin_start": 9314,
            "bin_end": 11642.5,
            "count": 1
           },
           {
            "bin_start": 11642.5,
            "bin_end": 13971,
            "count": 0
           },
           {
            "bin_start": 13971,
            "bin_end": 16299.5,
            "count": 0
           },
           {
            "bin_start": 16299.5,
            "bin_end": 18628,
            "count": 0
           },
           {
            "bin_start": 18628,
            "bin_end": 20956.5,
            "count": 0
           },
           {
            "bin_start": 20956.5,
            "bin_end": 23285,
            "count": 1
           }
          ]
         }
        },
        {
         "name": "new",
         "dtype": "float64",
         "stats": {
          "unique_count": 5,
          "nan_count": 0,
          "min": "0.0",
          "max": "23021.0",
          "histogram": [
           {
            "bin_start": 0,
            "bin_end": 2302.1,
            "count": 7
           },
           {
            "bin_start": 2302.1,
            "bin_end": 4604.2,
            "count": 0
           },
           {
            "bin_start": 4604.2,
            "bin_end": 6906.299999999999,
            "count": 0
           },
           {
            "bin_start": 6906.299999999999,
            "bin_end": 9208.4,
            "count": 0
           },
           {
            "bin_start": 9208.4,
            "bin_end": 11510.5,
            "count": 0
           },
           {
            "bin_start": 11510.5,
            "bin_end": 13812.599999999999,
            "count": 0
           },
           {
            "bin_start": 13812.599999999999,
            "bin_end": 16114.699999999999,
            "count": 0
           },
           {
            "bin_start": 16114.699999999999,
            "bin_end": 18416.8,
            "count": 0
           },
           {
            "bin_start": 18416.8,
            "bin_end": 20718.899999999998,
            "count": 0
           },
           {
            "bin_start": 20718.899999999998,
            "bin_end": 23021,
            "count": 1
           }
          ]
         }
        },
        {
         "name": "latitude",
         "dtype": "float64",
         "stats": {
          "unique_count": 8,
          "nan_count": 0,
          "min": "0.10183053763171086",
          "max": "23285.0",
          "histogram": [
           {
            "bin_start": 0.10183053763171086,
            "bin_end": 2328.591647483868,
            "count": 7
           },
           {
            "bin_start": 2328.591647483868,
            "bin_end": 4657.081464430105,
            "count": 0
           },
           {
            "bin_start": 4657.081464430105,
            "bin_end": 6985.571281376342,
            "count": 0
           },
           {
            "bin_start": 6985.571281376342,
            "bin_end": 9314.061098322578,
            "count": 0
           },
           {
            "bin_start": 9314.061098322578,
            "bin_end": 11642.550915268814,
            "count": 0
           },
           {
            "bin_start": 11642.550915268814,
            "bin_end": 13971.040732215051,
            "count": 0
           },
           {
            "bin_start": 13971.040732215051,
            "bin_end": 16299.530549161289,
            "count": 0
           },
           {
            "bin_start": 16299.530549161289,
            "bin_end": 18628.020366107525,
            "count": 0
           },
           {
            "bin_start": 18628.020366107525,
            "bin_end": 20956.51018305376,
            "count": 0
           },
           {
            "bin_start": 20956.51018305376,
            "bin_end": 23285,
            "count": 1
           }
          ]
         }
        },
        {
         "name": "longitude",
         "dtype": "float64",
         "stats": {
          "unique_count": 8,
          "nan_count": 0,
          "min": "0.15018146115571812",
          "max": "23285.0",
          "histogram": [
           {
            "bin_start": 0.15018146115571812,
            "bin_end": 2328.6351633150402,
            "count": 7
           },
           {
            "bin_start": 2328.6351633150402,
            "bin_end": 4657.120145168925,
            "count": 0
           },
           {
            "bin_start": 4657.120145168925,
            "bin_end": 6985.60512702281,
            "count": 0
           },
           {
            "bin_start": 6985.60512702281,
            "bin_end": 9314.090108876695,
            "count": 0
           },
           {
            "bin_start": 9314.090108876695,
            "bin_end": 11642.57509073058,
            "count": 0
           },
           {
            "bin_start": 11642.57509073058,
            "bin_end": 13971.060072584465,
            "count": 0
           },
           {
            "bin_start": 13971.060072584465,
            "bin_end": 16299.54505443835,
            "count": 0
           },
           {
            "bin_start": 16299.54505443835,
            "bin_end": 18628.03003629223,
            "count": 0
           },
           {
            "bin_start": 18628.03003629223,
            "bin_end": 20956.515018146118,
            "count": 0
           },
           {
            "bin_start": 20956.515018146118,
            "bin_end": 23285,
            "count": 1
           }
          ]
         }
        },
        {
         "name": "district",
         "dtype": "float64",
         "stats": {
          "unique_count": 8,
          "nan_count": 0,
          "min": "0.0",
          "max": "23155.0",
          "histogram": [
           {
            "bin_start": 0,
            "bin_end": 2315.5,
            "count": 7
           },
           {
            "bin_start": 2315.5,
            "bin_end": 4631,
            "count": 0
           },
           {
            "bin_start": 4631,
            "bin_end": 6946.5,
            "count": 0
           },
           {
            "bin_start": 6946.5,
            "bin_end": 9262,
            "count": 0
           },
           {
            "bin_start": 9262,
            "bin_end": 11577.5,
            "count": 0
           },
           {
            "bin_start": 11577.5,
            "bin_end": 13893,
            "count": 0
           },
           {
            "bin_start": 13893,
            "bin_end": 16208.5,
            "count": 0
           },
           {
            "bin_start": 16208.5,
            "bin_end": 18524,
            "count": 0
           },
           {
            "bin_start": 18524,
            "bin_end": 20839.5,
            "count": 0
           },
           {
            "bin_start": 20839.5,
            "bin_end": 23155,
            "count": 1
           }
          ]
         }
        },
        {
         "name": "constructed",
         "dtype": "float64",
         "stats": {
          "unique_count": 8,
          "nan_count": 0,
          "min": "22.94836482620946",
          "max": "22491.0",
          "histogram": [
           {
            "bin_start": 22.94836482620946,
            "bin_end": 2269.753528343588,
            "count": 7
           },
           {
            "bin_start": 2269.753528343588,
            "bin_end": 4516.558691860967,
            "count": 0
           },
           {
            "bin_start": 4516.558691860967,
            "bin_end": 6763.363855378346,
            "count": 0
           },
           {
            "bin_start": 6763.363855378346,
            "bin_end": 9010.169018895725,
            "count": 0
           },
           {
            "bin_start": 9010.169018895725,
            "bin_end": 11256.974182413105,
            "count": 0
           },
           {
            "bin_start": 11256.974182413105,
            "bin_end": 13503.779345930483,
            "count": 0
           },
           {
            "bin_start": 13503.779345930483,
            "bin_end": 15750.584509447861,
            "count": 0
           },
           {
            "bin_start": 15750.584509447861,
            "bin_end": 17997.38967296524,
            "count": 0
           },
           {
            "bin_start": 17997.38967296524,
            "bin_end": 20244.19483648262,
            "count": 0
           },
           {
            "bin_start": 20244.19483648262,
            "bin_end": 22491,
            "count": 1
           }
          ]
         }
        },
        {
         "name": "material",
         "dtype": "float64",
         "stats": {
          "unique_count": 7,
          "nan_count": 0,
          "min": "0.0",
          "max": "19313.0",
          "histogram": [
           {
            "bin_start": 0,
            "bin_end": 1931.3,
            "count": 7
           },
           {
            "bin_start": 1931.3,
            "bin_end": 3862.6,
            "count": 0
           },
           {
            "bin_start": 3862.6,
            "bin_end": 5793.9,
            "count": 0
           },
           {
            "bin_start": 5793.9,
            "bin_end": 7725.2,
            "count": 0
           },
           {
            "bin_start": 7725.2,
            "bin_end": 9656.5,
            "count": 0
           },
           {
            "bin_start": 9656.5,
            "bin_end": 11587.8,
            "count": 0
           },
           {
            "bin_start": 11587.8,
            "bin_end": 13519.1,
            "count": 0
           },
           {
            "bin_start": 13519.1,
            "bin_end": 15450.4,
            "count": 0
           },
           {
            "bin_start": 15450.4,
            "bin_end": 17381.7,
            "count": 0
           },
           {
            "bin_start": 17381.7,
            "bin_end": 19313,
            "count": 1
           }
          ]
         }
        },
        {
         "name": "stories",
         "dtype": "float64",
         "stats": {
          "unique_count": 8,
          "nan_count": 0,
          "min": "1.0",
          "max": "23285.0",
          "histogram": [
           {
            "bin_start": 1,
            "bin_end": 2329.4,
            "count": 7
           },
           {
            "bin_start": 2329.4,
            "bin_end": 4657.8,
            "count": 0
           },
           {
            "bin_start": 4657.8,
            "bin_end": 6986.200000000001,
            "count": 0
           },
           {
            "bin_start": 6986.200000000001,
            "bin_end": 9314.6,
            "count": 0
           },
           {
            "bin_start": 9314.6,
            "bin_end": 11643,
            "count": 0
           },
           {
            "bin_start": 11643,
            "bin_end": 13971.400000000001,
            "count": 0
           },
           {
            "bin_start": 13971.400000000001,
            "bin_end": 16299.800000000001,
            "count": 0
           },
           {
            "bin_start": 16299.800000000001,
            "bin_end": 18628.2,
            "count": 0
           },
           {
            "bin_start": 18628.2,
            "bin_end": 20956.600000000002,
            "count": 0
           },
           {
            "bin_start": 20956.600000000002,
            "bin_end": 23285,
            "count": 1
           }
          ]
         }
        },
        {
         "name": "elevator_without",
         "dtype": "float64",
         "stats": {
          "unique_count": 5,
          "nan_count": 0,
          "min": "0.0",
          "max": "22928.0",
          "histogram": [
           {
            "bin_start": 0,
            "bin_end": 2292.8,
            "count": 7
           },
           {
            "bin_start": 2292.8,
            "bin_end": 4585.6,
            "count": 0
           },
           {
            "bin_start": 4585.6,
            "bin_end": 6878.400000000001,
            "count": 0
           },
           {
            "bin_start": 6878.400000000001,
            "bin_end": 9171.2,
            "count": 0
           },
           {
            "bin_start": 9171.2,
            "bin_end": 11464,
            "count": 0
           },
           {
            "bin_start": 11464,
            "bin_end": 13756.800000000001,
            "count": 0
           },
           {
            "bin_start": 13756.800000000001,
            "bin_end": 16049.600000000002,
            "count": 0
           },
           {
            "bin_start": 16049.600000000002,
            "bin_end": 18342.4,
            "count": 0
           },
           {
            "bin_start": 18342.4,
            "bin_end": 20635.2,
            "count": 0
           },
           {
            "bin_start": 20635.2,
            "bin_end": 22928,
            "count": 1
           }
          ]
         }
        },
        {
         "name": "elevator_passenger",
         "dtype": "float64",
         "stats": {
          "unique_count": 5,
          "nan_count": 0,
          "min": "0.0",
          "max": "22928.0",
          "histogram": [
           {
            "bin_start": 0,
            "bin_end": 2292.8,
            "count": 7
           },
           {
            "bin_start": 2292.8,
            "bin_end": 4585.6,
            "count": 0
           },
           {
            "bin_start": 4585.6,
            "bin_end": 6878.400000000001,
            "count": 0
           },
           {
            "bin_start": 6878.400000000001,
            "bin_end": 9171.2,
            "count": 0
           },
           {
            "bin_start": 9171.2,
            "bin_end": 11464,
            "count": 0
           },
           {
            "bin_start": 11464,
            "bin_end": 13756.800000000001,
            "count": 0
           },
           {
            "bin_start": 13756.800000000001,
            "bin_end": 16049.600000000002,
            "count": 0
           },
           {
            "bin_start": 16049.600000000002,
            "bin_end": 18342.4,
            "count": 0
           },
           {
            "bin_start": 18342.4,
            "bin_end": 20635.2,
            "count": 0
           },
           {
            "bin_start": 20635.2,
            "bin_end": 22928,
            "count": 1
           }
          ]
         }
        },
        {
         "name": "elevator_service",
         "dtype": "float64",
         "stats": {
          "unique_count": 5,
          "nan_count": 0,
          "min": "0.0",
          "max": "22928.0",
          "histogram": [
           {
            "bin_start": 0,
            "bin_end": 2292.8,
            "count": 7
           },
           {
            "bin_start": 2292.8,
            "bin_end": 4585.6,
            "count": 0
           },
           {
            "bin_start": 4585.6,
            "bin_end": 6878.400000000001,
            "count": 0
           },
           {
            "bin_start": 6878.400000000001,
            "bin_end": 9171.2,
            "count": 0
           },
           {
            "bin_start": 9171.2,
            "bin_end": 11464,
            "count": 0
           },
           {
            "bin_start": 11464,
            "bin_end": 13756.800000000001,
            "count": 0
           },
           {
            "bin_start": 13756.800000000001,
            "bin_end": 16049.600000000002,
            "count": 0
           },
           {
            "bin_start": 16049.600000000002,
            "bin_end": 18342.4,
            "count": 0
           },
           {
            "bin_start": 18342.4,
            "bin_end": 20635.2,
            "count": 0
           },
           {
            "bin_start": 20635.2,
            "bin_end": 22928,
            "count": 1
           }
          ]
         }
        },
        {
         "name": "parking",
         "dtype": "float64",
         "stats": {
          "unique_count": 6,
          "nan_count": 0,
          "min": "0.0",
          "max": "16497.0",
          "histogram": [
           {
            "bin_start": 0,
            "bin_end": 1649.7,
            "count": 7
           },
           {
            "bin_start": 1649.7,
            "bin_end": 3299.4,
            "count": 0
           },
           {
            "bin_start": 3299.4,
            "bin_end": 4949.1,
            "count": 0
           },
           {
            "bin_start": 4949.1,
            "bin_end": 6598.8,
            "count": 0
           },
           {
            "bin_start": 6598.8,
            "bin_end": 8248.5,
            "count": 0
           },
           {
            "bin_start": 8248.5,
            "bin_end": 9898.2,
            "count": 0
           },
           {
            "bin_start": 9898.2,
            "bin_end": 11547.9,
            "count": 0
           },
           {
            "bin_start": 11547.9,
            "bin_end": 13197.6,
            "count": 0
           },
           {
            "bin_start": 13197.6,
            "bin_end": 14847.300000000001,
            "count": 0
           },
           {
            "bin_start": 14847.300000000001,
            "bin_end": 16497,
            "count": 1
           }
          ]
         }
        },
        {
         "name": "garbage_chute",
         "dtype": "float64",
         "stats": {
          "unique_count": 5,
          "nan_count": 0,
          "min": "0.0",
          "max": "14474.0",
          "histogram": [
           {
            "bin_start": 0,
            "bin_end": 1447.4,
            "count": 7
           },
           {
            "bin_start": 1447.4,
            "bin_end": 2894.8,
            "count": 0
           },
           {
            "bin_start": 2894.8,
            "bin_end": 4342.200000000001,
            "count": 0
           },
           {
            "bin_start": 4342.200000000001,
            "bin_end": 5789.6,
            "count": 0
           },
           {
            "bin_start": 5789.6,
            "bin_end": 7237,
            "count": 0
           },
           {
            "bin_start": 7237,
            "bin_end": 8684.400000000001,
            "count": 0
           },
           {
            "bin_start": 8684.400000000001,
            "bin_end": 10131.800000000001,
            "count": 0
           },
           {
            "bin_start": 10131.800000000001,
            "bin_end": 11579.2,
            "count": 0
           },
           {
            "bin_start": 11579.2,
            "bin_end": 13026.6,
            "count": 0
           },
           {
            "bin_start": 13026.6,
            "bin_end": 14474,
            "count": 1
           }
          ]
         }
        },
        {
         "name": "heating",
         "dtype": "float64",
         "stats": {
          "unique_count": 5,
          "nan_count": 0,
          "min": "0.0",
          "max": "15124.0",
          "histogram": [
           {
            "bin_start": 0,
            "bin_end": 1512.4,
            "count": 7
           },
           {
            "bin_start": 1512.4,
            "bin_end": 3024.8,
            "count": 0
           },
           {
            "bin_start": 3024.8,
            "bin_end": 4537.200000000001,
            "count": 0
           },
           {
            "bin_start": 4537.200000000001,
            "bin_end": 6049.6,
            "count": 0
           },
           {
            "bin_start": 6049.6,
            "bin_end": 7562,
            "count": 0
           },
           {
            "bin_start": 7562,
            "bin_end": 9074.400000000001,
            "count": 0
           },
           {
            "bin_start": 9074.400000000001,
            "bin_end": 10586.800000000001,
            "count": 0
           },
           {
            "bin_start": 10586.800000000001,
            "bin_end": 12099.2,
            "count": 0
           },
           {
            "bin_start": 12099.2,
            "bin_end": 13611.6,
            "count": 0
           },
           {
            "bin_start": 13611.6,
            "bin_end": 15124,
            "count": 1
           }
          ]
         }
        },
        {
         "name": "price/area",
         "dtype": "float64",
         "stats": {
          "unique_count": 8,
          "nan_count": 0,
          "min": "23285.0",
          "max": "2785756.4961169483",
          "histogram": [
           {
            "bin_start": 23285,
            "bin_end": 299532.14961169485,
            "count": 7
           },
           {
            "bin_start": 299532.14961169485,
            "bin_end": 575779.2992233897,
            "count": 0
           },
           {
            "bin_start": 575779.2992233897,
            "bin_end": 852026.4488350846,
            "count": 0
           },
           {
            "bin_start": 852026.4488350846,
            "bin_end": 1128273.5984467794,
            "count": 0
           },
           {
            "bin_start": 1128273.5984467794,
            "bin_end": 1404520.7480584742,
            "count": 0
           },
           {
            "bin_start": 1404520.7480584742,
            "bin_end": 1680767.8976701691,
            "count": 0
           },
           {
            "bin_start": 1680767.8976701691,
            "bin_end": 1957015.047281864,
            "count": 0
           },
           {
            "bin_start": 1957015.047281864,
            "bin_end": 2233262.196893559,
            "count": 0
           },
           {
            "bin_start": 2233262.196893559,
            "bin_end": 2509509.3465052536,
            "count": 0
           },
           {
            "bin_start": 2509509.3465052536,
            "bin_end": 2785756.4961169483,
            "count": 1
           }
          ]
         }
        },
        {
         "name": "distance",
         "dtype": "float64",
         "stats": {
          "unique_count": 8,
          "nan_count": 0,
          "min": "0.0013150912515880108",
          "max": "23285.0",
          "histogram": [
           {
            "bin_start": 0.0013150912515880108,
            "bin_end": 2328.501183582126,
            "count": 7
           },
           {
            "bin_start": 2328.501183582126,
            "bin_end": 4657.001052073001,
            "count": 0
           },
           {
            "bin_start": 4657.001052073001,
            "bin_end": 6985.500920563875,
            "count": 0
           },
           {
            "bin_start": 6985.500920563875,
            "bin_end": 9314.00078905475,
            "count": 0
           },
           {
            "bin_start": 9314.00078905475,
            "bin_end": 11642.500657545625,
            "count": 0
           },
           {
            "bin_start": 11642.500657545625,
            "bin_end": 13971.000526036498,
            "count": 0
           },
           {
            "bin_start": 13971.000526036498,
            "bin_end": 16299.500394527373,
            "count": 0
           },
           {
            "bin_start": 16299.500394527373,
            "bin_end": 18628.00026301825,
            "count": 0
           },
           {
            "bin_start": 18628.00026301825,
            "bin_end": 20956.500131509125,
            "count": 0
           },
           {
            "bin_start": 20956.500131509125,
            "bin_end": 23285,
            "count": 1
           }
          ]
         }
        },
        {
         "name": "_deepnote_index_column",
         "dtype": "object"
        }
       ],
       "rows_top": [
        {
         "id": 23285,
         "seller": 14455,
         "price": 23285,
         "area_total": 23285,
         "area_kitchen": 18564,
         "area_living": 19403,
         "floor": 23285,
         "rooms": 23285,
         "layout": 5643,
         "ceiling": 12192,
         "bathrooms_shared": 19413,
         "bathrooms_private": 19413,
         "windows_court": 15213,
         "windows_street": 15213,
         "balconies": 12765,
         "loggias": 12765,
         "condition": 13475,
         "phones": 23205,
         "building_id": 23285,
         "new": 23021,
         "latitude": 23285,
         "longitude": 23285,
         "district": 23155,
         "constructed": 22491,
         "material": 19313,
         "stories": 23285,
         "elevator_without": 22928,
         "elevator_passenger": 22928,
         "elevator_service": 22928,
         "parking": 16497,
         "garbage_chute": 14474,
         "heating": 15124,
         "price/area": 23285,
         "distance": 23285,
         "_deepnote_index_column": "count"
        },
        {
         "id": 11642,
         "seller": 1.8756831546177792,
         "price": 23556173.4710758,
         "area_total": 74.45099935580846,
         "area_kitchen": 12.552278603749192,
         "area_living": 38.74136679894862,
         "floor": 8.969594159330041,
         "rooms": 2.189349366544986,
         "layout": 1.0396951975899345,
         "ceiling": 3.268373523622047,
         "bathrooms_shared": 0.7375470045845567,
         "bathrooms_private": 0.6628547880286406,
         "windows_court": 0.7971471767567212,
         "windows_street": 0.46867810425294154,
         "balconies": 0.5563650607128868,
         "loggias": 0.673090481786134,
         "condition": 1.2705009276437849,
         "phones": 1.162292609351433,
         "building_id": 4844.089156109083,
         "new": 0.33769167282046825,
         "latitude": 55.728337146145584,
         "longitude": 37.58342464234486,
         "district": 4.654847765061541,
         "constructed": 2002.7295807211774,
         "material": 2.203955884637291,
         "stories": 17.608932789349367,
         "elevator_without": 0.3926203768318213,
         "elevator_passenger": 0.9298674110258199,
         "elevator_service": 0.7431088625261689,
         "parking": 0.572588955567679,
         "garbage_chute": 0.8064114964764405,
         "heating": 0.17601163713303358,
         "price/area": 247863.49913202896,
         "distance": 0.15385148242474786,
         "_deepnote_index_column": "mean"
        },
        {
         "id": 6721.944845057865,
         "seller": 1.0895176683961334,
         "price": 52643927.8107374,
         "area_total": 58.67137288575937,
         "area_kitchen": 6.5656862909531,
         "area_living": 31.39847964726969,
         "floor": 8.322039031884254,
         "rooms": 1.0761297592164831,
         "layout": 0.3515066764528086,
         "ceiling": 10.802727679128378,
         "bathrooms_shared": 0.781172764189031,
         "bathrooms_private": 0.7168882298984123,
         "windows_court": 0.4021370230968592,
         "windows_street": 0.49903437631903497,
         "balconies": 0.6412572446932651,
         "loggias": 0.6647788691614247,
         "condition": 1.0170370032108635,
         "phones": 0.45693746581281974,
         "building_id": 2790.67669806559,
         "new": 0.472933105897588,
         "latitude": 0.10183053763171086,
         "longitude": 0.15018146115571812,
         "district": 3.1558352558629976,
         "constructed": 22.94836482620946,
         "material": 1.0211013558889366,
         "stories": 11.216637606635215,
         "elevator_without": 0.48834415915944135,
         "elevator_passenger": 0.25537590598486826,
         "elevator_service": 0.4369283777747637,
         "parking": 0.5496297981295958,
         "garbage_chute": 0.3951237543562964,
         "heating": 0.5662752510792917,
         "price/area": 170150.67634555313,
         "distance": 0.09998343916760125,
         "_deepnote_index_column": "std"
        },
        {
         "id": 0,
         "seller": 0,
         "price": 900000,
         "area_total": 9.3,
         "area_kitchen": 1,
         "area_living": 0,
         "floor": 1,
         "rooms": 1,
         "layout": 0,
         "ceiling": 0,
         "bathrooms_shared": 0,
         "bathrooms_private": 0,
         "windows_court": 0,
         "windows_street": 0,
         "balconies": 0,
         "loggias": 0,
         "condition": 0,
         "phones": 0,
         "building_id": 0,
         "new": 0,
         "latitude": 55.21143000000001,
         "longitude": 36.864371000000006,
         "district": 0,
         "constructed": 1855,
         "material": 0,
         "stories": 1,
         "elevator_without": 0,
         "elevator_passenger": 0,
         "elevator_service": 0,
         "parking": 0,
         "garbage_chute": 0,
         "heating": 0,
         "price/area": 23323.61224489796,
         "distance": 0.0013150912515880108,
         "_deepnote_index_column": "min"
        },
        {
         "id": 5821,
         "seller": 1,
         "price": 7490000,
         "area_total": 42,
         "area_kitchen": 8.2,
         "area_living": 20,
         "floor": 3,
         "rooms": 1,
         "layout": 1,
         "ceiling": 2.65,
         "bathrooms_shared": 0,
         "bathrooms_private": 0,
         "windows_court": 1,
         "windows_street": 0,
         "balconies": 0,
         "loggias": 0,
         "condition": 0,
         "phones": 1,
         "building_id": 2426,
         "new": 0,
         "latitude": 55.664837,
         "longitude": 37.497827,
         "district": 2,
         "constructed": 1989,
         "material": 2,
         "stories": 9,
         "elevator_without": 0,
         "elevator_passenger": 1,
         "elevator_service": 0,
         "parking": 0,
         "garbage_chute": 1,
         "heating": 0,
         "price/area": 161111.11111111112,
         "distance": 0.0868209449441795,
         "_deepnote_index_column": "25%"
        },
        {
         "id": 11642,
         "seller": 2,
         "price": 10645001,
         "area_total": 59.8,
         "area_kitchen": 10.7,
         "area_living": 30.9,
         "floor": 7,
         "rooms": 2,
         "layout": 1,
         "ceiling": 2.8,
         "bathrooms_shared": 1,
         "bathrooms_private": 1,
         "windows_court": 1,
         "windows_street": 0,
         "balconies": 0,
         "loggias": 1,
         "condition": 1,
         "phones": 1,
         "building_id": 4772,
         "new": 0,
         "latitude": 55.738622,
         "longitude": 37.571938,
         "district": 5,
         "constructed": 2013,
         "material": 2,
         "stories": 16,
         "elevator_without": 0,
         "elevator_passenger": 1,
         "elevator_service": 1,
         "parking": 1,
         "garbage_chute": 1,
         "heating": 0,
         "price/area": 197368.4210526316,
         "distance": 0.1386725628377868,
         "_deepnote_index_column": "50%"
        },
        {
         "id": 17463,
         "seller": 3,
         "price": 20500000,
         "area_total": 84.8,
         "area_kitchen": 15.3,
         "area_living": 45.3,
         "floor": 12,
         "rooms": 3,
         "layout": 1,
         "ceiling": 3,
         "bathrooms_shared": 1,
         "bathrooms_private": 1,
         "windows_court": 1,
         "windows_street": 1,
         "balconies": 1,
         "loggias": 1,
         "condition": 2,
         "phones": 1,
         "building_id": 7340,
         "new": 1,
         "latitude": 55.797458,
         "longitude": 37.671085,
         "district": 7,
         "constructed": 2020,
         "material": 3,
         "stories": 22,
         "elevator_without": 1,
         "elevator_passenger": 1,
         "elevator_service": 1,
         "parking": 1,
         "garbage_chute": 1,
         "heating": 0,
         "price/area": 268000,
         "distance": 0.19917131122729387,
         "_deepnote_index_column": "75%"
        },
        {
         "id": 23284,
         "seller": 3,
         "price": 2600000000,
         "area_total": 2181,
         "area_kitchen": 100,
         "area_living": 900,
         "floor": 95,
         "rooms": 6,
         "layout": 2,
         "ceiling": 340,
         "bathrooms_shared": 4,
         "bathrooms_private": 4,
         "windows_court": 1,
         "windows_street": 1,
         "balconies": 4,
         "loggias": 4,
         "condition": 3,
         "phones": 2,
         "building_id": 9735,
         "new": 1,
         "latitude": 56.00650699999999,
         "longitude": 37.950668,
         "district": 11,
         "constructed": 2023,
         "material": 6,
         "stories": 95,
         "elevator_without": 1,
         "elevator_passenger": 1,
         "elevator_service": 1,
         "parking": 2,
         "garbage_chute": 1,
         "heating": 3,
         "price/area": 2785756.4961169483,
         "distance": 0.8020418790418576,
         "_deepnote_index_column": "max"
        }
       ],
       "rows_bottom": null
      },
      "text/plain": "                 id        seller         price    area_total  area_kitchen  \\\ncount  23285.000000  14455.000000  2.328500e+04  23285.000000  18564.000000   \nmean   11642.000000      1.875683  2.355617e+07     74.450999     12.552279   \nstd     6721.944845      1.089518  5.264393e+07     58.671373      6.565686   \nmin        0.000000      0.000000  9.000000e+05      9.300000      1.000000   \n25%     5821.000000      1.000000  7.490000e+06     42.000000      8.200000   \n50%    11642.000000      2.000000  1.064500e+07     59.800000     10.700000   \n75%    17463.000000      3.000000  2.050000e+07     84.800000     15.300000   \nmax    23284.000000      3.000000  2.600000e+09   2181.000000    100.000000   \n\n        area_living         floor         rooms       layout       ceiling  \\\ncount  19403.000000  23285.000000  23285.000000  5643.000000  12192.000000   \nmean      38.741367      8.969594      2.189349     1.039695      3.268374   \nstd       31.398480      8.322039      1.076130     0.351507     10.802728   \nmin        0.000000      1.000000      1.000000     0.000000      0.000000   \n25%       20.000000      3.000000      1.000000     1.000000      2.650000   \n50%       30.900000      7.000000      2.000000     1.000000      2.800000   \n75%       45.300000     12.000000      3.000000     1.000000      3.000000   \nmax      900.000000     95.000000      6.000000     2.000000    340.000000   \n\n       ...      material       stories  elevator_without  elevator_passenger  \\\ncount  ...  19313.000000  23285.000000      22928.000000        22928.000000   \nmean   ...      2.203956     17.608933          0.392620            0.929867   \nstd    ...      1.021101     11.216638          0.488344            0.255376   \nmin    ...      0.000000      1.000000          0.000000            0.000000   \n25%    ...      2.000000      9.000000          0.000000            1.000000   \n50%    ...      2.000000     16.000000          0.000000            1.000000   \n75%    ...      3.000000     22.000000          1.000000            1.000000   \nmax    ...      6.000000     95.000000          1.000000            1.000000   \n\n       elevator_service       parking  garbage_chute       heating  \\\ncount      22928.000000  16497.000000   14474.000000  15124.000000   \nmean           0.743109      0.572589       0.806411      0.176012   \nstd            0.436928      0.549630       0.395124      0.566275   \nmin            0.000000      0.000000       0.000000      0.000000   \n25%            0.000000      0.000000       1.000000      0.000000   \n50%            1.000000      1.000000       1.000000      0.000000   \n75%            1.000000      1.000000       1.000000      0.000000   \nmax            1.000000      2.000000       1.000000      3.000000   \n\n         price/area      distance  \ncount  2.328500e+04  23285.000000  \nmean   2.478635e+05      0.153851  \nstd    1.701507e+05      0.099983  \nmin    2.332361e+04      0.001315  \n25%    1.611111e+05      0.086821  \n50%    1.973684e+05      0.138673  \n75%    2.680000e+05      0.199171  \nmax    2.785756e+06      0.802042  \n\n[8 rows x 34 columns]",
      "text/html": "<div>\n<style scoped>\n    .dataframe tbody tr th:only-of-type {\n        vertical-align: middle;\n    }\n\n    .dataframe tbody tr th {\n        vertical-align: top;\n    }\n\n    .dataframe thead th {\n        text-align: right;\n    }\n</style>\n<table border=\"1\" class=\"dataframe\">\n  <thead>\n    <tr style=\"text-align: right;\">\n      <th></th>\n      <th>id</th>\n      <th>seller</th>\n      <th>price</th>\n      <th>area_total</th>\n      <th>area_kitchen</th>\n      <th>area_living</th>\n      <th>floor</th>\n      <th>rooms</th>\n      <th>layout</th>\n      <th>ceiling</th>\n      <th>...</th>\n      <th>material</th>\n      <th>stories</th>\n      <th>elevator_without</th>\n      <th>elevator_passenger</th>\n      <th>elevator_service</th>\n      <th>parking</th>\n      <th>garbage_chute</th>\n      <th>heating</th>\n      <th>price/area</th>\n      <th>distance</th>\n    </tr>\n  </thead>\n  <tbody>\n    <tr>\n      <th>count</th>\n      <td>23285.000000</td>\n      <td>14455.000000</td>\n      <td>2.328500e+04</td>\n      <td>23285.000000</td>\n      <td>18564.000000</td>\n      <td>19403.000000</td>\n      <td>23285.000000</td>\n      <td>23285.000000</td>\n      <td>5643.000000</td>\n      <td>12192.000000</td>\n      <td>...</td>\n      <td>19313.000000</td>\n      <td>23285.000000</td>\n      <td>22928.000000</td>\n      <td>22928.000000</td>\n      <td>22928.000000</td>\n      <td>16497.000000</td>\n      <td>14474.000000</td>\n      <td>15124.000000</td>\n      <td>2.328500e+04</td>\n      <td>23285.000000</td>\n    </tr>\n    <tr>\n      <th>mean</th>\n      <td>11642.000000</td>\n      <td>1.875683</td>\n      <td>2.355617e+07</td>\n      <td>74.450999</td>\n      <td>12.552279</td>\n      <td>38.741367</td>\n      <td>8.969594</td>\n      <td>2.189349</td>\n      <td>1.039695</td>\n      <td>3.268374</td>\n      <td>...</td>\n      <td>2.203956</td>\n      <td>17.608933</td>\n      <td>0.392620</td>\n      <td>0.929867</td>\n      <td>0.743109</td>\n      <td>0.572589</td>\n      <td>0.806411</td>\n      <td>0.176012</td>\n      <td>2.478635e+05</td>\n      <td>0.153851</td>\n    </tr>\n    <tr>\n      <th>std</th>\n      <td>6721.944845</td>\n      <td>1.089518</td>\n      <td>5.264393e+07</td>\n      <td>58.671373</td>\n      <td>6.565686</td>\n      <td>31.398480</td>\n      <td>8.322039</td>\n      <td>1.076130</td>\n      <td>0.351507</td>\n      <td>10.802728</td>\n      <td>...</td>\n      <td>1.021101</td>\n      <td>11.216638</td>\n      <td>0.488344</td>\n      <td>0.255376</td>\n      <td>0.436928</td>\n      <td>0.549630</td>\n      <td>0.395124</td>\n      <td>0.566275</td>\n      <td>1.701507e+05</td>\n      <td>0.099983</td>\n    </tr>\n    <tr>\n      <th>min</th>\n      <td>0.000000</td>\n      <td>0.000000</td>\n      <td>9.000000e+05</td>\n      <td>9.300000</td>\n      <td>1.000000</td>\n      <td>0.000000</td>\n      <td>1.000000</td>\n      <td>1.000000</td>\n      <td>0.000000</td>\n      <td>0.000000</td>\n      <td>...</td>\n      <td>0.000000</td>\n      <td>1.000000</td>\n      <td>0.000000</td>\n      <td>0.000000</td>\n      <td>0.000000</td>\n      <td>0.000000</td>\n      <td>0.000000</td>\n      <td>0.000000</td>\n      <td>2.332361e+04</td>\n      <td>0.001315</td>\n    </tr>\n    <tr>\n      <th>25%</th>\n      <td>5821.000000</td>\n      <td>1.000000</td>\n      <td>7.490000e+06</td>\n      <td>42.000000</td>\n      <td>8.200000</td>\n      <td>20.000000</td>\n      <td>3.000000</td>\n      <td>1.000000</td>\n      <td>1.000000</td>\n      <td>2.650000</td>\n      <td>...</td>\n      <td>2.000000</td>\n      <td>9.000000</td>\n      <td>0.000000</td>\n      <td>1.000000</td>\n      <td>0.000000</td>\n      <td>0.000000</td>\n      <td>1.000000</td>\n      <td>0.000000</td>\n      <td>1.611111e+05</td>\n      <td>0.086821</td>\n    </tr>\n    <tr>\n      <th>50%</th>\n      <td>11642.000000</td>\n      <td>2.000000</td>\n      <td>1.064500e+07</td>\n      <td>59.800000</td>\n      <td>10.700000</td>\n      <td>30.900000</td>\n      <td>7.000000</td>\n      <td>2.000000</td>\n      <td>1.000000</td>\n      <td>2.800000</td>\n      <td>...</td>\n      <td>2.000000</td>\n      <td>16.000000</td>\n      <td>0.000000</td>\n      <td>1.000000</td>\n      <td>1.000000</td>\n      <td>1.000000</td>\n      <td>1.000000</td>\n      <td>0.000000</td>\n      <td>1.973684e+05</td>\n      <td>0.138673</td>\n    </tr>\n    <tr>\n      <th>75%</th>\n      <td>17463.000000</td>\n      <td>3.000000</td>\n      <td>2.050000e+07</td>\n      <td>84.800000</td>\n      <td>15.300000</td>\n      <td>45.300000</td>\n      <td>12.000000</td>\n      <td>3.000000</td>\n      <td>1.000000</td>\n      <td>3.000000</td>\n      <td>...</td>\n      <td>3.000000</td>\n      <td>22.000000</td>\n      <td>1.000000</td>\n      <td>1.000000</td>\n      <td>1.000000</td>\n      <td>1.000000</td>\n      <td>1.000000</td>\n      <td>0.000000</td>\n      <td>2.680000e+05</td>\n      <td>0.199171</td>\n    </tr>\n    <tr>\n      <th>max</th>\n      <td>23284.000000</td>\n      <td>3.000000</td>\n      <td>2.600000e+09</td>\n      <td>2181.000000</td>\n      <td>100.000000</td>\n      <td>900.000000</td>\n      <td>95.000000</td>\n      <td>6.000000</td>\n      <td>2.000000</td>\n      <td>340.000000</td>\n      <td>...</td>\n      <td>6.000000</td>\n      <td>95.000000</td>\n      <td>1.000000</td>\n      <td>1.000000</td>\n      <td>1.000000</td>\n      <td>2.000000</td>\n      <td>1.000000</td>\n      <td>3.000000</td>\n      <td>2.785756e+06</td>\n      <td>0.802042</td>\n    </tr>\n  </tbody>\n</table>\n<p>8 rows × 34 columns</p>\n</div>"
     },
     "metadata": {}
    }
   ]
  },
  {
   "cell_type": "code",
   "metadata": {
    "tags": [],
    "cell_id": "00006-10778ba8-2c72-44f4-9651-238c373c61db",
    "deepnote_to_be_reexecuted": false,
    "source_hash": "714ea1fa",
    "execution_start": 1637283658857,
    "execution_millis": 264,
    "deepnote_cell_type": "code"
   },
   "source": "\ndf2 = data[['id', 'price/area', 'distance']]\ndf2.head()",
   "execution_count": null,
   "outputs": [
    {
     "output_type": "execute_result",
     "execution_count": 8,
     "data": {
      "application/vnd.deepnote.dataframe.v2+json": {
       "row_count": 5,
       "column_count": 3,
       "columns": [
        {
         "name": "id",
         "dtype": "int64",
         "stats": {
          "unique_count": 5,
          "nan_count": 0,
          "min": "0",
          "max": "4",
          "histogram": [
           {
            "bin_start": 0,
            "bin_end": 0.4,
            "count": 1
           },
           {
            "bin_start": 0.4,
            "bin_end": 0.8,
            "count": 0
           },
           {
            "bin_start": 0.8,
            "bin_end": 1.2000000000000002,
            "count": 1
           },
           {
            "bin_start": 1.2000000000000002,
            "bin_end": 1.6,
            "count": 0
           },
           {
            "bin_start": 1.6,
            "bin_end": 2,
            "count": 0
           },
           {
            "bin_start": 2,
            "bin_end": 2.4000000000000004,
            "count": 1
           },
           {
            "bin_start": 2.4000000000000004,
            "bin_end": 2.8000000000000003,
            "count": 0
           },
           {
            "bin_start": 2.8000000000000003,
            "bin_end": 3.2,
            "count": 1
           },
           {
            "bin_start": 3.2,
            "bin_end": 3.6,
            "count": 0
           },
           {
            "bin_start": 3.6,
            "bin_end": 4,
            "count": 1
           }
          ]
         }
        },
        {
         "name": "price/area",
         "dtype": "float64",
         "stats": {
          "unique_count": 4,
          "nan_count": 0,
          "min": "114900.0",
          "max": "178205.12820512822",
          "histogram": [
           {
            "bin_start": 114900,
            "bin_end": 121230.51282051283,
            "count": 4
           },
           {
            "bin_start": 121230.51282051283,
            "bin_end": 127561.02564102564,
            "count": 0
           },
           {
            "bin_start": 127561.02564102564,
            "bin_end": 133891.53846153847,
            "count": 0
           },
           {
            "bin_start": 133891.53846153847,
            "bin_end": 140222.05128205128,
            "count": 0
           },
           {
            "bin_start": 140222.05128205128,
            "bin_end": 146552.56410256412,
            "count": 0
           },
           {
            "bin_start": 146552.56410256412,
            "bin_end": 152883.07692307694,
            "count": 0
           },
           {
            "bin_start": 152883.07692307694,
            "bin_end": 159213.58974358975,
            "count": 0
           },
           {
            "bin_start": 159213.58974358975,
            "bin_end": 165544.10256410256,
            "count": 0
           },
           {
            "bin_start": 165544.10256410256,
            "bin_end": 171874.6153846154,
            "count": 0
           },
           {
            "bin_start": 171874.6153846154,
            "bin_end": 178205.12820512822,
            "count": 1
           }
          ]
         }
        },
        {
         "name": "distance",
         "dtype": "float64",
         "stats": {
          "unique_count": 4,
          "nan_count": 0,
          "min": "0.12118261272146193",
          "max": "0.2393483510304599",
          "histogram": [
           {
            "bin_start": 0.12118261272146193,
            "bin_end": 0.13299918655236173,
            "count": 3
           },
           {
            "bin_start": 0.13299918655236173,
            "bin_end": 0.14481576038326152,
            "count": 0
           },
           {
            "bin_start": 0.14481576038326152,
            "bin_end": 0.1566323342141613,
            "count": 0
           },
           {
            "bin_start": 0.1566323342141613,
            "bin_end": 0.16844890804506113,
            "count": 0
           },
           {
            "bin_start": 0.16844890804506113,
            "bin_end": 0.18026548187596092,
            "count": 0
           },
           {
            "bin_start": 0.18026548187596092,
            "bin_end": 0.1920820557068607,
            "count": 0
           },
           {
            "bin_start": 0.1920820557068607,
            "bin_end": 0.2038986295377605,
            "count": 0
           },
           {
            "bin_start": 0.2038986295377605,
            "bin_end": 0.2157152033686603,
            "count": 0
           },
           {
            "bin_start": 0.2157152033686603,
            "bin_end": 0.22753177719956008,
            "count": 1
           },
           {
            "bin_start": 0.22753177719956008,
            "bin_end": 0.2393483510304599,
            "count": 1
           }
          ]
         }
        },
        {
         "name": "_deepnote_index_column",
         "dtype": "int64"
        }
       ],
       "rows_top": [
        {
         "id": 0,
         "price/area": 120600,
         "distance": 0.2393483510304599,
         "_deepnote_index_column": 0
        },
        {
         "id": 1,
         "price/area": 119318.18181818182,
         "distance": 0.1297131686953954,
         "_deepnote_index_column": 1
        },
        {
         "id": 2,
         "price/area": 114900,
         "distance": 0.12118261272146193,
         "_deepnote_index_column": 2
        },
        {
         "id": 3,
         "price/area": 119318.18181818182,
         "distance": 0.1297131686953954,
         "_deepnote_index_column": 3
        },
        {
         "id": 4,
         "price/area": 178205.12820512822,
         "distance": 0.21776153027796374,
         "_deepnote_index_column": 4
        }
       ],
       "rows_bottom": null
      },
      "text/plain": "   id     price/area  distance\n0   0  120600.000000  0.239348\n1   1  119318.181818  0.129713\n2   2  114900.000000  0.121183\n3   3  119318.181818  0.129713\n4   4  178205.128205  0.217762",
      "text/html": "<div>\n<style scoped>\n    .dataframe tbody tr th:only-of-type {\n        vertical-align: middle;\n    }\n\n    .dataframe tbody tr th {\n        vertical-align: top;\n    }\n\n    .dataframe thead th {\n        text-align: right;\n    }\n</style>\n<table border=\"1\" class=\"dataframe\">\n  <thead>\n    <tr style=\"text-align: right;\">\n      <th></th>\n      <th>id</th>\n      <th>price/area</th>\n      <th>distance</th>\n    </tr>\n  </thead>\n  <tbody>\n    <tr>\n      <th>0</th>\n      <td>0</td>\n      <td>120600.000000</td>\n      <td>0.239348</td>\n    </tr>\n    <tr>\n      <th>1</th>\n      <td>1</td>\n      <td>119318.181818</td>\n      <td>0.129713</td>\n    </tr>\n    <tr>\n      <th>2</th>\n      <td>2</td>\n      <td>114900.000000</td>\n      <td>0.121183</td>\n    </tr>\n    <tr>\n      <th>3</th>\n      <td>3</td>\n      <td>119318.181818</td>\n      <td>0.129713</td>\n    </tr>\n    <tr>\n      <th>4</th>\n      <td>4</td>\n      <td>178205.128205</td>\n      <td>0.217762</td>\n    </tr>\n  </tbody>\n</table>\n</div>"
     },
     "metadata": {}
    }
   ]
  },
  {
   "cell_type": "code",
   "metadata": {
    "tags": [],
    "cell_id": "00007-e0a807b7-af78-4ef2-9586-c5d394d7e940",
    "deepnote_to_be_reexecuted": false,
    "source_hash": "86334eb5",
    "execution_start": 1637283658963,
    "execution_millis": 163,
    "deepnote_cell_type": "code"
   },
   "source": "df2.describe()",
   "execution_count": null,
   "outputs": [
    {
     "output_type": "execute_result",
     "execution_count": 9,
     "data": {
      "application/vnd.deepnote.dataframe.v2+json": {
       "row_count": 8,
       "column_count": 3,
       "columns": [
        {
         "name": "id",
         "dtype": "float64",
         "stats": {
          "unique_count": 7,
          "nan_count": 0,
          "min": "0.0",
          "max": "23285.0",
          "histogram": [
           {
            "bin_start": 0,
            "bin_end": 2328.5,
            "count": 1
           },
           {
            "bin_start": 2328.5,
            "bin_end": 4657,
            "count": 0
           },
           {
            "bin_start": 4657,
            "bin_end": 6985.5,
            "count": 2
           },
           {
            "bin_start": 6985.5,
            "bin_end": 9314,
            "count": 0
           },
           {
            "bin_start": 9314,
            "bin_end": 11642.5,
            "count": 2
           },
           {
            "bin_start": 11642.5,
            "bin_end": 13971,
            "count": 0
           },
           {
            "bin_start": 13971,
            "bin_end": 16299.5,
            "count": 0
           },
           {
            "bin_start": 16299.5,
            "bin_end": 18628,
            "count": 1
           },
           {
            "bin_start": 18628,
            "bin_end": 20956.5,
            "count": 0
           },
           {
            "bin_start": 20956.5,
            "bin_end": 23285,
            "count": 2
           }
          ]
         }
        },
        {
         "name": "price/area",
         "dtype": "float64",
         "stats": {
          "unique_count": 8,
          "nan_count": 0,
          "min": "23285.0",
          "max": "2785756.4961169483",
          "histogram": [
           {
            "bin_start": 23285,
            "bin_end": 299532.14961169485,
            "count": 7
           },
           {
            "bin_start": 299532.14961169485,
            "bin_end": 575779.2992233897,
            "count": 0
           },
           {
            "bin_start": 575779.2992233897,
            "bin_end": 852026.4488350846,
            "count": 0
           },
           {
            "bin_start": 852026.4488350846,
            "bin_end": 1128273.5984467794,
            "count": 0
           },
           {
            "bin_start": 1128273.5984467794,
            "bin_end": 1404520.7480584742,
            "count": 0
           },
           {
            "bin_start": 1404520.7480584742,
            "bin_end": 1680767.8976701691,
            "count": 0
           },
           {
            "bin_start": 1680767.8976701691,
            "bin_end": 1957015.047281864,
            "count": 0
           },
           {
            "bin_start": 1957015.047281864,
            "bin_end": 2233262.196893559,
            "count": 0
           },
           {
            "bin_start": 2233262.196893559,
            "bin_end": 2509509.3465052536,
            "count": 0
           },
           {
            "bin_start": 2509509.3465052536,
            "bin_end": 2785756.4961169483,
            "count": 1
           }
          ]
         }
        },
        {
         "name": "distance",
         "dtype": "float64",
         "stats": {
          "unique_count": 8,
          "nan_count": 0,
          "min": "0.0013150912515880108",
          "max": "23285.0",
          "histogram": [
           {
            "bin_start": 0.0013150912515880108,
            "bin_end": 2328.501183582126,
            "count": 7
           },
           {
            "bin_start": 2328.501183582126,
            "bin_end": 4657.001052073001,
            "count": 0
           },
           {
            "bin_start": 4657.001052073001,
            "bin_end": 6985.500920563875,
            "count": 0
           },
           {
            "bin_start": 6985.500920563875,
            "bin_end": 9314.00078905475,
            "count": 0
           },
           {
            "bin_start": 9314.00078905475,
            "bin_end": 11642.500657545625,
            "count": 0
           },
           {
            "bin_start": 11642.500657545625,
            "bin_end": 13971.000526036498,
            "count": 0
           },
           {
            "bin_start": 13971.000526036498,
            "bin_end": 16299.500394527373,
            "count": 0
           },
           {
            "bin_start": 16299.500394527373,
            "bin_end": 18628.00026301825,
            "count": 0
           },
           {
            "bin_start": 18628.00026301825,
            "bin_end": 20956.500131509125,
            "count": 0
           },
           {
            "bin_start": 20956.500131509125,
            "bin_end": 23285,
            "count": 1
           }
          ]
         }
        },
        {
         "name": "_deepnote_index_column",
         "dtype": "object"
        }
       ],
       "rows_top": [
        {
         "id": 23285,
         "price/area": 23285,
         "distance": 23285,
         "_deepnote_index_column": "count"
        },
        {
         "id": 11642,
         "price/area": 247863.49913202896,
         "distance": 0.15385148242474786,
         "_deepnote_index_column": "mean"
        },
        {
         "id": 6721.944845057865,
         "price/area": 170150.67634555313,
         "distance": 0.09998343916760125,
         "_deepnote_index_column": "std"
        },
        {
         "id": 0,
         "price/area": 23323.61224489796,
         "distance": 0.0013150912515880108,
         "_deepnote_index_column": "min"
        },
        {
         "id": 5821,
         "price/area": 161111.11111111112,
         "distance": 0.0868209449441795,
         "_deepnote_index_column": "25%"
        },
        {
         "id": 11642,
         "price/area": 197368.4210526316,
         "distance": 0.1386725628377868,
         "_deepnote_index_column": "50%"
        },
        {
         "id": 17463,
         "price/area": 268000,
         "distance": 0.19917131122729387,
         "_deepnote_index_column": "75%"
        },
        {
         "id": 23284,
         "price/area": 2785756.4961169483,
         "distance": 0.8020418790418576,
         "_deepnote_index_column": "max"
        }
       ],
       "rows_bottom": null
      },
      "text/plain": "                 id    price/area      distance\ncount  23285.000000  2.328500e+04  23285.000000\nmean   11642.000000  2.478635e+05      0.153851\nstd     6721.944845  1.701507e+05      0.099983\nmin        0.000000  2.332361e+04      0.001315\n25%     5821.000000  1.611111e+05      0.086821\n50%    11642.000000  1.973684e+05      0.138673\n75%    17463.000000  2.680000e+05      0.199171\nmax    23284.000000  2.785756e+06      0.802042",
      "text/html": "<div>\n<style scoped>\n    .dataframe tbody tr th:only-of-type {\n        vertical-align: middle;\n    }\n\n    .dataframe tbody tr th {\n        vertical-align: top;\n    }\n\n    .dataframe thead th {\n        text-align: right;\n    }\n</style>\n<table border=\"1\" class=\"dataframe\">\n  <thead>\n    <tr style=\"text-align: right;\">\n      <th></th>\n      <th>id</th>\n      <th>price/area</th>\n      <th>distance</th>\n    </tr>\n  </thead>\n  <tbody>\n    <tr>\n      <th>count</th>\n      <td>23285.000000</td>\n      <td>2.328500e+04</td>\n      <td>23285.000000</td>\n    </tr>\n    <tr>\n      <th>mean</th>\n      <td>11642.000000</td>\n      <td>2.478635e+05</td>\n      <td>0.153851</td>\n    </tr>\n    <tr>\n      <th>std</th>\n      <td>6721.944845</td>\n      <td>1.701507e+05</td>\n      <td>0.099983</td>\n    </tr>\n    <tr>\n      <th>min</th>\n      <td>0.000000</td>\n      <td>2.332361e+04</td>\n      <td>0.001315</td>\n    </tr>\n    <tr>\n      <th>25%</th>\n      <td>5821.000000</td>\n      <td>1.611111e+05</td>\n      <td>0.086821</td>\n    </tr>\n    <tr>\n      <th>50%</th>\n      <td>11642.000000</td>\n      <td>1.973684e+05</td>\n      <td>0.138673</td>\n    </tr>\n    <tr>\n      <th>75%</th>\n      <td>17463.000000</td>\n      <td>2.680000e+05</td>\n      <td>0.199171</td>\n    </tr>\n    <tr>\n      <th>max</th>\n      <td>23284.000000</td>\n      <td>2.785756e+06</td>\n      <td>0.802042</td>\n    </tr>\n  </tbody>\n</table>\n</div>"
     },
     "metadata": {}
    }
   ]
  },
  {
   "cell_type": "code",
   "metadata": {
    "tags": [],
    "cell_id": "00008-070adff3-e2a4-474c-afb8-07a9b56ac74b",
    "deepnote_to_be_reexecuted": false,
    "source_hash": "611db823",
    "execution_start": 1637283659146,
    "execution_millis": 6,
    "deepnote_output_heights": [
     21
    ],
    "deepnote_cell_type": "code"
   },
   "source": "mintreshold, maxtreshold = df2['price/area'].quantile([0.001, 0.999])\nmintreshold, maxtreshold",
   "execution_count": null,
   "outputs": [
    {
     "output_type": "execute_result",
     "execution_count": 10,
     "data": {
      "text/plain": "(50769.09125023454, 1717152.1785701879)"
     },
     "metadata": {}
    }
   ]
  },
  {
   "cell_type": "code",
   "metadata": {
    "tags": [],
    "cell_id": "00011-690cde55-0bda-4d00-8a1e-26091ec1b878",
    "deepnote_to_be_reexecuted": false,
    "source_hash": "e12e2ad0",
    "execution_start": 1637283659208,
    "execution_millis": 1399208,
    "deepnote_output_heights": [
     173
    ],
    "deepnote_cell_type": "code"
   },
   "source": "data.columns.values",
   "execution_count": null,
   "outputs": [
    {
     "output_type": "execute_result",
     "execution_count": 11,
     "data": {
      "text/plain": "array(['id', 'seller', 'price', 'area_total', 'area_kitchen',\n       'area_living', 'floor', 'rooms', 'layout', 'ceiling',\n       'bathrooms_shared', 'bathrooms_private', 'windows_court',\n       'windows_street', 'balconies', 'loggias', 'condition', 'phones',\n       'building_id', 'new', 'latitude', 'longitude', 'district',\n       'street', 'address', 'constructed', 'material', 'stories',\n       'elevator_without', 'elevator_passenger', 'elevator_service',\n       'parking', 'garbage_chute', 'heating', 'price/area', 'distance'],\n      dtype=object)"
     },
     "metadata": {}
    }
   ]
  },
  {
   "cell_type": "code",
   "metadata": {
    "tags": [],
    "cell_id": "00009-90514c5b-5e8d-4c48-aefe-13d3d4386d3c",
    "deepnote_to_be_reexecuted": false,
    "source_hash": "a2070c34",
    "execution_start": 1637283659286,
    "execution_millis": 1399159,
    "deepnote_cell_type": "code"
   },
   "source": "data = data[['id','price', 'area_total', 'floor', 'rooms', 'condition', 'district', 'constructed', 'stories', 'price/area', 'distance']]",
   "execution_count": null,
   "outputs": []
  },
  {
   "cell_type": "code",
   "metadata": {
    "tags": [],
    "cell_id": "00009-a81318f5-75b2-4a75-a5b9-fdd9b1394e95",
    "deepnote_to_be_reexecuted": false,
    "source_hash": "7a852afb",
    "execution_start": 1637283659286,
    "execution_millis": 220,
    "deepnote_cell_type": "code"
   },
   "source": "data[df2['price/area'] < mintreshold]",
   "execution_count": null,
   "outputs": [
    {
     "output_type": "execute_result",
     "execution_count": 13,
     "data": {
      "application/vnd.deepnote.dataframe.v2+json": {
       "row_count": 24,
       "column_count": 11,
       "columns": [
        {
         "name": "id",
         "dtype": "int64",
         "stats": {
          "unique_count": 24,
          "nan_count": 0,
          "min": "2215",
          "max": "23222",
          "histogram": [
           {
            "bin_start": 2215,
            "bin_end": 4315.7,
            "count": 4
           },
           {
            "bin_start": 4315.7,
            "bin_end": 6416.4,
            "count": 0
           },
           {
            "bin_start": 6416.4,
            "bin_end": 8517.099999999999,
            "count": 4
           },
           {
            "bin_start": 8517.099999999999,
            "bin_end": 10617.8,
            "count": 0
           },
           {
            "bin_start": 10617.8,
            "bin_end": 12718.5,
            "count": 1
           },
           {
            "bin_start": 12718.5,
            "bin_end": 14819.199999999999,
            "count": 6
           },
           {
            "bin_start": 14819.199999999999,
            "bin_end": 16919.899999999998,
            "count": 1
           },
           {
            "bin_start": 16919.899999999998,
            "bin_end": 19020.6,
            "count": 0
           },
           {
            "bin_start": 19020.6,
            "bin_end": 21121.3,
            "count": 4
           },
           {
            "bin_start": 21121.3,
            "bin_end": 23222,
            "count": 4
           }
          ]
         }
        },
        {
         "name": "price",
         "dtype": "float64",
         "stats": {
          "unique_count": 19,
          "nan_count": 0,
          "min": "1000000.0",
          "max": "13750000.0",
          "histogram": [
           {
            "bin_start": 1000000,
            "bin_end": 2275000,
            "count": 5
           },
           {
            "bin_start": 2275000,
            "bin_end": 3550000,
            "count": 12
           },
           {
            "bin_start": 3550000,
            "bin_end": 4825000,
            "count": 2
           },
           {
            "bin_start": 4825000,
            "bin_end": 6100000,
            "count": 2
           },
           {
            "bin_start": 6100000,
            "bin_end": 7375000,
            "count": 0
           },
           {
            "bin_start": 7375000,
            "bin_end": 8650000,
            "count": 2
           },
           {
            "bin_start": 8650000,
            "bin_end": 9925000,
            "count": 0
           },
           {
            "bin_start": 9925000,
            "bin_end": 11200000,
            "count": 0
           },
           {
            "bin_start": 11200000,
            "bin_end": 12475000,
            "count": 0
           },
           {
            "bin_start": 12475000,
            "bin_end": 13750000,
            "count": 1
           }
          ]
         }
        },
        {
         "name": "area_total",
         "dtype": "float64",
         "stats": {
          "unique_count": 19,
          "nan_count": 0,
          "min": "21.0",
          "max": "343.0",
          "histogram": [
           {
            "bin_start": 21,
            "bin_end": 53.2,
            "count": 5
           },
           {
            "bin_start": 53.2,
            "bin_end": 85.4,
            "count": 10
           },
           {
            "bin_start": 85.4,
            "bin_end": 117.60000000000001,
            "count": 4
           },
           {
            "bin_start": 117.60000000000001,
            "bin_end": 149.8,
            "count": 1
           },
           {
            "bin_start": 149.8,
            "bin_end": 182,
            "count": 2
           },
           {
            "bin_start": 182,
            "bin_end": 214.20000000000002,
            "count": 0
           },
           {
            "bin_start": 214.20000000000002,
            "bin_end": 246.40000000000003,
            "count": 0
           },
           {
            "bin_start": 246.40000000000003,
            "bin_end": 278.6,
            "count": 1
           },
           {
            "bin_start": 278.6,
            "bin_end": 310.8,
            "count": 0
           },
           {
            "bin_start": 310.8,
            "bin_end": 343,
            "count": 1
           }
          ]
         }
        },
        {
         "name": "floor",
         "dtype": "float64",
         "stats": {
          "unique_count": 5,
          "nan_count": 0,
          "min": "1.0",
          "max": "5.0",
          "histogram": [
           {
            "bin_start": 1,
            "bin_end": 1.4,
            "count": 8
           },
           {
            "bin_start": 1.4,
            "bin_end": 1.8,
            "count": 0
           },
           {
            "bin_start": 1.8,
            "bin_end": 2.2,
            "count": 4
           },
           {
            "bin_start": 2.2,
            "bin_end": 2.6,
            "count": 0
           },
           {
            "bin_start": 2.6,
            "bin_end": 3,
            "count": 0
           },
           {
            "bin_start": 3,
            "bin_end": 3.4000000000000004,
            "count": 2
           },
           {
            "bin_start": 3.4000000000000004,
            "bin_end": 3.8000000000000003,
            "count": 0
           },
           {
            "bin_start": 3.8000000000000003,
            "bin_end": 4.2,
            "count": 8
           },
           {
            "bin_start": 4.2,
            "bin_end": 4.6,
            "count": 0
           },
           {
            "bin_start": 4.6,
            "bin_end": 5,
            "count": 2
           }
          ]
         }
        },
        {
         "name": "rooms",
         "dtype": "float64",
         "stats": {
          "unique_count": 5,
          "nan_count": 0,
          "min": "1.0",
          "max": "6.0",
          "histogram": [
           {
            "bin_start": 1,
            "bin_end": 1.5,
            "count": 9
           },
           {
            "bin_start": 1.5,
            "bin_end": 2,
            "count": 0
           },
           {
            "bin_start": 2,
            "bin_end": 2.5,
            "count": 5
           },
           {
            "bin_start": 2.5,
            "bin_end": 3,
            "count": 0
           },
           {
            "bin_start": 3,
            "bin_end": 3.5,
            "count": 7
           },
           {
            "bin_start": 3.5,
            "bin_end": 4,
            "count": 0
           },
           {
            "bin_start": 4,
            "bin_end": 4.5,
            "count": 1
           },
           {
            "bin_start": 4.5,
            "bin_end": 5,
            "count": 0
           },
           {
            "bin_start": 5,
            "bin_end": 5.5,
            "count": 0
           },
           {
            "bin_start": 5.5,
            "bin_end": 6,
            "count": 2
           }
          ]
         }
        },
        {
         "name": "condition",
         "dtype": "float64",
         "stats": {
          "unique_count": 3,
          "nan_count": 8,
          "min": "0.0",
          "max": "2.0",
          "histogram": [
           {
            "bin_start": 0,
            "bin_end": 0.2,
            "count": 10
           },
           {
            "bin_start": 0.2,
            "bin_end": 0.4,
            "count": 0
           },
           {
            "bin_start": 0.4,
            "bin_end": 0.6000000000000001,
            "count": 0
           },
           {
            "bin_start": 0.6000000000000001,
            "bin_end": 0.8,
            "count": 0
           },
           {
            "bin_start": 0.8,
            "bin_end": 1,
            "count": 0
           },
           {
            "bin_start": 1,
            "bin_end": 1.2000000000000002,
            "count": 5
           },
           {
            "bin_start": 1.2000000000000002,
            "bin_end": 1.4000000000000001,
            "count": 0
           },
           {
            "bin_start": 1.4000000000000001,
            "bin_end": 1.6,
            "count": 0
           },
           {
            "bin_start": 1.6,
            "bin_end": 1.8,
            "count": 0
           },
           {
            "bin_start": 1.8,
            "bin_end": 2,
            "count": 1
           }
          ]
         }
        },
        {
         "name": "district",
         "dtype": "float64",
         "stats": {
          "unique_count": 5,
          "nan_count": 0,
          "min": "2.0",
          "max": "11.0",
          "histogram": [
           {
            "bin_start": 2,
            "bin_end": 2.9,
            "count": 4
           },
           {
            "bin_start": 2.9,
            "bin_end": 3.8,
            "count": 0
           },
           {
            "bin_start": 3.8,
            "bin_end": 4.7,
            "count": 0
           },
           {
            "bin_start": 4.7,
            "bin_end": 5.6,
            "count": 0
           },
           {
            "bin_start": 5.6,
            "bin_end": 6.5,
            "count": 0
           },
           {
            "bin_start": 6.5,
            "bin_end": 7.4,
            "count": 1
           },
           {
            "bin_start": 7.4,
            "bin_end": 8.3,
            "count": 4
           },
           {
            "bin_start": 8.3,
            "bin_end": 9.2,
            "count": 0
           },
           {
            "bin_start": 9.2,
            "bin_end": 10.1,
            "count": 14
           },
           {
            "bin_start": 10.1,
            "bin_end": 11,
            "count": 1
           }
          ]
         }
        },
        {
         "name": "constructed",
         "dtype": "float64",
         "stats": {
          "unique_count": 9,
          "nan_count": 5,
          "min": "2004.0",
          "max": "2018.0",
          "histogram": [
           {
            "bin_start": 2004,
            "bin_end": 2005.4,
            "count": 2
           },
           {
            "bin_start": 2005.4,
            "bin_end": 2006.8,
            "count": 0
           },
           {
            "bin_start": 2006.8,
            "bin_end": 2008.2,
            "count": 0
           },
           {
            "bin_start": 2008.2,
            "bin_end": 2009.6,
            "count": 2
           },
           {
            "bin_start": 2009.6,
            "bin_end": 2011,
            "count": 5
           },
           {
            "bin_start": 2011,
            "bin_end": 2012.4,
            "count": 2
           },
           {
            "bin_start": 2012.4,
            "bin_end": 2013.8,
            "count": 1
           },
           {
            "bin_start": 2013.8,
            "bin_end": 2015.2,
            "count": 0
           },
           {
            "bin_start": 2015.2,
            "bin_end": 2016.6,
            "count": 4
           },
           {
            "bin_start": 2016.6,
            "bin_end": 2018,
            "count": 3
           }
          ]
         }
        },
        {
         "name": "stories",
         "dtype": "float64",
         "stats": {
          "unique_count": 5,
          "nan_count": 0,
          "min": "2.0",
          "max": "25.0",
          "histogram": [
           {
            "bin_start": 2,
            "bin_end": 4.3,
            "count": 14
           },
           {
            "bin_start": 4.3,
            "bin_end": 6.6,
            "count": 9
           },
           {
            "bin_start": 6.6,
            "bin_end": 8.899999999999999,
            "count": 0
           },
           {
            "bin_start": 8.899999999999999,
            "bin_end": 11.2,
            "count": 0
           },
           {
            "bin_start": 11.2,
            "bin_end": 13.5,
            "count": 0
           },
           {
            "bin_start": 13.5,
            "bin_end": 15.799999999999999,
            "count": 0
           },
           {
            "bin_start": 15.799999999999999,
            "bin_end": 18.099999999999998,
            "count": 0
           },
           {
            "bin_start": 18.099999999999998,
            "bin_end": 20.4,
            "count": 0
           },
           {
            "bin_start": 20.4,
            "bin_end": 22.7,
            "count": 0
           },
           {
            "bin_start": 22.7,
            "bin_end": 25,
            "count": 1
           }
          ]
         }
        },
        {
         "name": "price/area",
         "dtype": "float64",
         "stats": {
          "unique_count": 22,
          "nan_count": 0,
          "min": "23323.61224489796",
          "max": "50738.0073800738",
          "histogram": [
           {
            "bin_start": 23323.61224489796,
            "bin_end": 26065.051758415542,
            "count": 2
           },
           {
            "bin_start": 26065.051758415542,
            "bin_end": 28806.491271933126,
            "count": 0
           },
           {
            "bin_start": 28806.491271933126,
            "bin_end": 31547.930785450713,
            "count": 1
           },
           {
            "bin_start": 31547.930785450713,
            "bin_end": 34289.37029896829,
            "count": 1
           },
           {
            "bin_start": 34289.37029896829,
            "bin_end": 37030.80981248588,
            "count": 1
           },
           {
            "bin_start": 37030.80981248588,
            "bin_end": 39772.24932600347,
            "count": 4
           },
           {
            "bin_start": 39772.24932600347,
            "bin_end": 42513.688839521055,
            "count": 1
           },
           {
            "bin_start": 42513.688839521055,
            "bin_end": 45255.128353038635,
            "count": 2
           },
           {
            "bin_start": 45255.128353038635,
            "bin_end": 47996.567866556215,
            "count": 2
           },
           {
            "bin_start": 47996.567866556215,
            "bin_end": 50738.0073800738,
            "count": 10
           }
          ]
         }
        },
        {
         "name": "distance",
         "dtype": "float64",
         "stats": {
          "unique_count": 16,
          "nan_count": 0,
          "min": "0.12808134682692718",
          "max": "0.7550836663344056",
          "histogram": [
           {
            "bin_start": 0.12808134682692718,
            "bin_end": 0.19078157877767501,
            "count": 4
           },
           {
            "bin_start": 0.19078157877767501,
            "bin_end": 0.25348181072842285,
            "count": 5
           },
           {
            "bin_start": 0.25348181072842285,
            "bin_end": 0.3161820426791707,
            "count": 1
           },
           {
            "bin_start": 0.3161820426791707,
            "bin_end": 0.3788822746299185,
            "count": 0
           },
           {
            "bin_start": 0.3788822746299185,
            "bin_end": 0.44158250658066633,
            "count": 2
           },
           {
            "bin_start": 0.44158250658066633,
            "bin_end": 0.5042827385314141,
            "count": 6
           },
           {
            "bin_start": 0.5042827385314141,
            "bin_end": 0.5669829704821621,
            "count": 0
           },
           {
            "bin_start": 0.5669829704821621,
            "bin_end": 0.6296832024329099,
            "count": 0
           },
           {
            "bin_start": 0.6296832024329099,
            "bin_end": 0.6923834343836577,
            "count": 0
           },
           {
            "bin_start": 0.6923834343836577,
            "bin_end": 0.7550836663344056,
            "count": 6
           }
          ]
         }
        },
        {
         "name": "_deepnote_index_column",
         "dtype": "int64"
        }
       ],
       "rows_top": [
        {
         "id": 2215,
         "price": 1900000,
         "area_total": 55.8,
         "floor": 1,
         "rooms": 1,
         "condition": 0,
         "district": 10,
         "constructed": 2010,
         "stories": 5,
         "price/area": 34050.179211469534,
         "distance": 0.49510152083890724,
         "_deepnote_index_column": 2215
        },
        {
         "id": 2236,
         "price": 3000000,
         "area_total": 60,
         "floor": 3,
         "rooms": 3,
         "condition": "nan",
         "district": 10,
         "constructed": 2017,
         "stories": 4,
         "price/area": 50000,
         "distance": 0.7539302153097458,
         "_deepnote_index_column": 2236
        },
        {
         "id": 2241,
         "price": 3500000,
         "area_total": 75,
         "floor": 2,
         "rooms": 3,
         "condition": "nan",
         "district": 11,
         "constructed": "nan",
         "stories": 5,
         "price/area": 46666.666666666664,
         "distance": 0.24564372320293307,
         "_deepnote_index_column": 2241
        },
        {
         "id": 2363,
         "price": 7999999,
         "area_total": 343,
         "floor": 2,
         "rooms": 6,
         "condition": "nan",
         "district": 2,
         "constructed": 2013,
         "stories": 25,
         "price/area": 23323.61224489796,
         "distance": 0.12808134682692718,
         "_deepnote_index_column": 2363
        },
        {
         "id": 7512,
         "price": 2950000,
         "area_total": 60,
         "floor": 4,
         "rooms": 2,
         "condition": "nan",
         "district": 10,
         "constructed": 2017,
         "stories": 4,
         "price/area": 49166.666666666664,
         "distance": 0.7539302153097458,
         "_deepnote_index_column": 7512
        },
        {
         "id": 7513,
         "price": 3000000,
         "area_total": 60.3,
         "floor": 4,
         "rooms": 2,
         "condition": "nan",
         "district": 10,
         "constructed": 2016,
         "stories": 4,
         "price/area": 49751.24378109453,
         "distance": 0.7550836663344056,
         "_deepnote_index_column": 7513
        },
        {
         "id": 7514,
         "price": 3350000,
         "area_total": 75,
         "floor": 5,
         "rooms": 3,
         "condition": "nan",
         "district": 10,
         "constructed": 2018,
         "stories": 5,
         "price/area": 44666.666666666664,
         "distance": 0.7489374021385223,
         "_deepnote_index_column": 7514
        },
        {
         "id": 7572,
         "price": 1000000,
         "area_total": 21,
         "floor": 1,
         "rooms": 1,
         "condition": "nan",
         "district": 7,
         "constructed": 2016,
         "stories": 4,
         "price/area": 47619.04761904762,
         "distance": 0.2547833564992063,
         "_deepnote_index_column": 7572
        },
        {
         "id": 11167,
         "price": 13750000,
         "area_total": 271,
         "floor": 4,
         "rooms": 6,
         "condition": 0,
         "district": 2,
         "constructed": 2004,
         "stories": 5,
         "price/area": 50738.0073800738,
         "distance": 0.13164740910477638,
         "_deepnote_index_column": 11167
        },
        {
         "id": 13201,
         "price": 2900000,
         "area_total": 60,
         "floor": 1,
         "rooms": 1,
         "condition": 0,
         "district": 8,
         "constructed": 2010,
         "stories": 3,
         "price/area": 48333.333333333336,
         "distance": 0.23861186161840303,
         "_deepnote_index_column": 13201
        },
        {
         "id": 13206,
         "price": 1150000,
         "area_total": 29,
         "floor": 1,
         "rooms": 1,
         "condition": 1,
         "district": 10,
         "constructed": "nan",
         "stories": 2,
         "price/area": 39655.1724137931,
         "distance": 0.418336820058906,
         "_deepnote_index_column": 13206
        },
        {
         "id": 13207,
         "price": 1400000,
         "area_total": 37,
         "floor": 2,
         "rooms": 2,
         "condition": 1,
         "district": 10,
         "constructed": "nan",
         "stories": 2,
         "price/area": 37837.83783783784,
         "distance": 0.418336820058906,
         "_deepnote_index_column": 13207
        },
        {
         "id": 13642,
         "price": 4200000,
         "area_total": 105.6,
         "floor": 5,
         "rooms": 1,
         "condition": 2,
         "district": 10,
         "constructed": "nan",
         "stories": 5,
         "price/area": 39772.72727272727,
         "distance": 0.47701724495975856,
         "_deepnote_index_column": 13642
        },
        {
         "id": 13724,
         "price": 2950000,
         "area_total": 61,
         "floor": 4,
         "rooms": 2,
         "condition": 1,
         "district": 10,
         "constructed": 2016,
         "stories": 4,
         "price/area": 48360.65573770492,
         "distance": 0.7550836663344056,
         "_deepnote_index_column": 13724
        },
        {
         "id": 13725,
         "price": 2500000,
         "area_total": 101.9,
         "floor": 1,
         "rooms": 1,
         "condition": 0,
         "district": 10,
         "constructed": 2010,
         "stories": 5,
         "price/area": 24533.85672227674,
         "distance": 0.49510152083890724,
         "_deepnote_index_column": 13725
        },
        {
         "id": 16636,
         "price": 5500000,
         "area_total": 153.5,
         "floor": 1,
         "rooms": 3,
         "condition": 0,
         "district": 2,
         "constructed": 2004,
         "stories": 4,
         "price/area": 35830.618892508144,
         "distance": 0.12892314079326675,
         "_deepnote_index_column": 16636
        },
        {
         "id": 20314,
         "price": 2900000,
         "area_total": 60,
         "floor": 1,
         "rooms": 1,
         "condition": 0,
         "district": 8,
         "constructed": 2010,
         "stories": 3,
         "price/area": 48333.333333333336,
         "distance": 0.23861186161840303,
         "_deepnote_index_column": 20314
        },
        {
         "id": 20317,
         "price": 3900000,
         "area_total": 99.3,
         "floor": 3,
         "rooms": 3,
         "condition": 0,
         "district": 10,
         "constructed": 2009,
         "stories": 5,
         "price/area": 39274.92447129909,
         "distance": 0.4964174061754902,
         "_deepnote_index_column": 20317
        },
        {
         "id": 20329,
         "price": 1200000,
         "area_total": 32,
         "floor": 1,
         "rooms": 1,
         "condition": 1,
         "district": 8,
         "constructed": 2010,
         "stories": 3,
         "price/area": 37500,
         "distance": 0.238880473546916,
         "_deepnote_index_column": 20329
        },
        {
         "id": 20333,
         "price": 8300000,
         "area_total": 165,
         "floor": 4,
         "rooms": 4,
         "condition": "nan",
         "district": 10,
         "constructed": "nan",
         "stories": 5,
         "price/area": 50303.030303030304,
         "distance": 0.49635550476044676,
         "_deepnote_index_column": 20333
        },
        {
         "id": 21393,
         "price": 3000000,
         "area_total": 61,
         "floor": 4,
         "rooms": 2,
         "condition": 0,
         "district": 10,
         "constructed": 2016,
         "stories": 4,
         "price/area": 49180.32786885246,
         "distance": 0.7550836663344056,
         "_deepnote_index_column": 21393
        },
        {
         "id": 21407,
         "price": 5350000,
         "area_total": 124,
         "floor": 2,
         "rooms": 3,
         "condition": 0,
         "district": 2,
         "constructed": 2012,
         "stories": 3,
         "price/area": 43145.16129032258,
         "distance": 0.13006369252793093,
         "_deepnote_index_column": 21407
        },
        {
         "id": 22401,
         "price": 2500000,
         "area_total": 50,
         "floor": 4,
         "rooms": 1,
         "condition": 1,
         "district": 8,
         "constructed": 2011,
         "stories": 4,
         "price/area": 50000,
         "distance": 0.238880473546916,
         "_deepnote_index_column": 22401
        },
        {
         "id": 23222,
         "price": 2800000,
         "area_total": 89.4,
         "floor": 4,
         "rooms": 3,
         "condition": 0,
         "district": 10,
         "constructed": 2009,
         "stories": 5,
         "price/area": 31319.910514541385,
         "distance": 0.4964174061754902,
         "_deepnote_index_column": 23222
        }
       ],
       "rows_bottom": null
      },
      "text/plain": "          id       price  area_total  floor  rooms  condition  district  \\\n2215    2215   1900000.0        55.8    1.0    1.0        0.0      10.0   \n2236    2236   3000000.0        60.0    3.0    3.0        NaN      10.0   \n2241    2241   3500000.0        75.0    2.0    3.0        NaN      11.0   \n2363    2363   7999999.0       343.0    2.0    6.0        NaN       2.0   \n7512    7512   2950000.0        60.0    4.0    2.0        NaN      10.0   \n7513    7513   3000000.0        60.3    4.0    2.0        NaN      10.0   \n7514    7514   3350000.0        75.0    5.0    3.0        NaN      10.0   \n7572    7572   1000000.0        21.0    1.0    1.0        NaN       7.0   \n11167  11167  13750000.0       271.0    4.0    6.0        0.0       2.0   \n13201  13201   2900000.0        60.0    1.0    1.0        0.0       8.0   \n13206  13206   1150000.0        29.0    1.0    1.0        1.0      10.0   \n13207  13207   1400000.0        37.0    2.0    2.0        1.0      10.0   \n13642  13642   4200000.0       105.6    5.0    1.0        2.0      10.0   \n13724  13724   2950000.0        61.0    4.0    2.0        1.0      10.0   \n13725  13725   2500000.0       101.9    1.0    1.0        0.0      10.0   \n16636  16636   5500000.0       153.5    1.0    3.0        0.0       2.0   \n20314  20314   2900000.0        60.0    1.0    1.0        0.0       8.0   \n20317  20317   3900000.0        99.3    3.0    3.0        0.0      10.0   \n20329  20329   1200000.0        32.0    1.0    1.0        1.0       8.0   \n20333  20333   8300000.0       165.0    4.0    4.0        NaN      10.0   \n21393  21393   3000000.0        61.0    4.0    2.0        0.0      10.0   \n21407  21407   5350000.0       124.0    2.0    3.0        0.0       2.0   \n22401  22401   2500000.0        50.0    4.0    1.0        1.0       8.0   \n23222  23222   2800000.0        89.4    4.0    3.0        0.0      10.0   \n\n       constructed  stories    price/area  distance  \n2215        2010.0      5.0  34050.179211  0.495102  \n2236        2017.0      4.0  50000.000000  0.753930  \n2241           NaN      5.0  46666.666667  0.245644  \n2363        2013.0     25.0  23323.612245  0.128081  \n7512        2017.0      4.0  49166.666667  0.753930  \n7513        2016.0      4.0  49751.243781  0.755084  \n7514        2018.0      5.0  44666.666667  0.748937  \n7572        2016.0      4.0  47619.047619  0.254783  \n11167       2004.0      5.0  50738.007380  0.131647  \n13201       2010.0      3.0  48333.333333  0.238612  \n13206          NaN      2.0  39655.172414  0.418337  \n13207          NaN      2.0  37837.837838  0.418337  \n13642          NaN      5.0  39772.727273  0.477017  \n13724       2016.0      4.0  48360.655738  0.755084  \n13725       2010.0      5.0  24533.856722  0.495102  \n16636       2004.0      4.0  35830.618893  0.128923  \n20314       2010.0      3.0  48333.333333  0.238612  \n20317       2009.0      5.0  39274.924471  0.496417  \n20329       2010.0      3.0  37500.000000  0.238880  \n20333          NaN      5.0  50303.030303  0.496356  \n21393       2016.0      4.0  49180.327869  0.755084  \n21407       2012.0      3.0  43145.161290  0.130064  \n22401       2011.0      4.0  50000.000000  0.238880  \n23222       2009.0      5.0  31319.910515  0.496417  ",
      "text/html": "<div>\n<style scoped>\n    .dataframe tbody tr th:only-of-type {\n        vertical-align: middle;\n    }\n\n    .dataframe tbody tr th {\n        vertical-align: top;\n    }\n\n    .dataframe thead th {\n        text-align: right;\n    }\n</style>\n<table border=\"1\" class=\"dataframe\">\n  <thead>\n    <tr style=\"text-align: right;\">\n      <th></th>\n      <th>id</th>\n      <th>price</th>\n      <th>area_total</th>\n      <th>floor</th>\n      <th>rooms</th>\n      <th>condition</th>\n      <th>district</th>\n      <th>constructed</th>\n      <th>stories</th>\n      <th>price/area</th>\n      <th>distance</th>\n    </tr>\n  </thead>\n  <tbody>\n    <tr>\n      <th>2215</th>\n      <td>2215</td>\n      <td>1900000.0</td>\n      <td>55.8</td>\n      <td>1.0</td>\n      <td>1.0</td>\n      <td>0.0</td>\n      <td>10.0</td>\n      <td>2010.0</td>\n      <td>5.0</td>\n      <td>34050.179211</td>\n      <td>0.495102</td>\n    </tr>\n    <tr>\n      <th>2236</th>\n      <td>2236</td>\n      <td>3000000.0</td>\n      <td>60.0</td>\n      <td>3.0</td>\n      <td>3.0</td>\n      <td>NaN</td>\n      <td>10.0</td>\n      <td>2017.0</td>\n      <td>4.0</td>\n      <td>50000.000000</td>\n      <td>0.753930</td>\n    </tr>\n    <tr>\n      <th>2241</th>\n      <td>2241</td>\n      <td>3500000.0</td>\n      <td>75.0</td>\n      <td>2.0</td>\n      <td>3.0</td>\n      <td>NaN</td>\n      <td>11.0</td>\n      <td>NaN</td>\n      <td>5.0</td>\n      <td>46666.666667</td>\n      <td>0.245644</td>\n    </tr>\n    <tr>\n      <th>2363</th>\n      <td>2363</td>\n      <td>7999999.0</td>\n      <td>343.0</td>\n      <td>2.0</td>\n      <td>6.0</td>\n      <td>NaN</td>\n      <td>2.0</td>\n      <td>2013.0</td>\n      <td>25.0</td>\n      <td>23323.612245</td>\n      <td>0.128081</td>\n    </tr>\n    <tr>\n      <th>7512</th>\n      <td>7512</td>\n      <td>2950000.0</td>\n      <td>60.0</td>\n      <td>4.0</td>\n      <td>2.0</td>\n      <td>NaN</td>\n      <td>10.0</td>\n      <td>2017.0</td>\n      <td>4.0</td>\n      <td>49166.666667</td>\n      <td>0.753930</td>\n    </tr>\n    <tr>\n      <th>7513</th>\n      <td>7513</td>\n      <td>3000000.0</td>\n      <td>60.3</td>\n      <td>4.0</td>\n      <td>2.0</td>\n      <td>NaN</td>\n      <td>10.0</td>\n      <td>2016.0</td>\n      <td>4.0</td>\n      <td>49751.243781</td>\n      <td>0.755084</td>\n    </tr>\n    <tr>\n      <th>7514</th>\n      <td>7514</td>\n      <td>3350000.0</td>\n      <td>75.0</td>\n      <td>5.0</td>\n      <td>3.0</td>\n      <td>NaN</td>\n      <td>10.0</td>\n      <td>2018.0</td>\n      <td>5.0</td>\n      <td>44666.666667</td>\n      <td>0.748937</td>\n    </tr>\n    <tr>\n      <th>7572</th>\n      <td>7572</td>\n      <td>1000000.0</td>\n      <td>21.0</td>\n      <td>1.0</td>\n      <td>1.0</td>\n      <td>NaN</td>\n      <td>7.0</td>\n      <td>2016.0</td>\n      <td>4.0</td>\n      <td>47619.047619</td>\n      <td>0.254783</td>\n    </tr>\n    <tr>\n      <th>11167</th>\n      <td>11167</td>\n      <td>13750000.0</td>\n      <td>271.0</td>\n      <td>4.0</td>\n      <td>6.0</td>\n      <td>0.0</td>\n      <td>2.0</td>\n      <td>2004.0</td>\n      <td>5.0</td>\n      <td>50738.007380</td>\n      <td>0.131647</td>\n    </tr>\n    <tr>\n      <th>13201</th>\n      <td>13201</td>\n      <td>2900000.0</td>\n      <td>60.0</td>\n      <td>1.0</td>\n      <td>1.0</td>\n      <td>0.0</td>\n      <td>8.0</td>\n      <td>2010.0</td>\n      <td>3.0</td>\n      <td>48333.333333</td>\n      <td>0.238612</td>\n    </tr>\n    <tr>\n      <th>13206</th>\n      <td>13206</td>\n      <td>1150000.0</td>\n      <td>29.0</td>\n      <td>1.0</td>\n      <td>1.0</td>\n      <td>1.0</td>\n      <td>10.0</td>\n      <td>NaN</td>\n      <td>2.0</td>\n      <td>39655.172414</td>\n      <td>0.418337</td>\n    </tr>\n    <tr>\n      <th>13207</th>\n      <td>13207</td>\n      <td>1400000.0</td>\n      <td>37.0</td>\n      <td>2.0</td>\n      <td>2.0</td>\n      <td>1.0</td>\n      <td>10.0</td>\n      <td>NaN</td>\n      <td>2.0</td>\n      <td>37837.837838</td>\n      <td>0.418337</td>\n    </tr>\n    <tr>\n      <th>13642</th>\n      <td>13642</td>\n      <td>4200000.0</td>\n      <td>105.6</td>\n      <td>5.0</td>\n      <td>1.0</td>\n      <td>2.0</td>\n      <td>10.0</td>\n      <td>NaN</td>\n      <td>5.0</td>\n      <td>39772.727273</td>\n      <td>0.477017</td>\n    </tr>\n    <tr>\n      <th>13724</th>\n      <td>13724</td>\n      <td>2950000.0</td>\n      <td>61.0</td>\n      <td>4.0</td>\n      <td>2.0</td>\n      <td>1.0</td>\n      <td>10.0</td>\n      <td>2016.0</td>\n      <td>4.0</td>\n      <td>48360.655738</td>\n      <td>0.755084</td>\n    </tr>\n    <tr>\n      <th>13725</th>\n      <td>13725</td>\n      <td>2500000.0</td>\n      <td>101.9</td>\n      <td>1.0</td>\n      <td>1.0</td>\n      <td>0.0</td>\n      <td>10.0</td>\n      <td>2010.0</td>\n      <td>5.0</td>\n      <td>24533.856722</td>\n      <td>0.495102</td>\n    </tr>\n    <tr>\n      <th>16636</th>\n      <td>16636</td>\n      <td>5500000.0</td>\n      <td>153.5</td>\n      <td>1.0</td>\n      <td>3.0</td>\n      <td>0.0</td>\n      <td>2.0</td>\n      <td>2004.0</td>\n      <td>4.0</td>\n      <td>35830.618893</td>\n      <td>0.128923</td>\n    </tr>\n    <tr>\n      <th>20314</th>\n      <td>20314</td>\n      <td>2900000.0</td>\n      <td>60.0</td>\n      <td>1.0</td>\n      <td>1.0</td>\n      <td>0.0</td>\n      <td>8.0</td>\n      <td>2010.0</td>\n      <td>3.0</td>\n      <td>48333.333333</td>\n      <td>0.238612</td>\n    </tr>\n    <tr>\n      <th>20317</th>\n      <td>20317</td>\n      <td>3900000.0</td>\n      <td>99.3</td>\n      <td>3.0</td>\n      <td>3.0</td>\n      <td>0.0</td>\n      <td>10.0</td>\n      <td>2009.0</td>\n      <td>5.0</td>\n      <td>39274.924471</td>\n      <td>0.496417</td>\n    </tr>\n    <tr>\n      <th>20329</th>\n      <td>20329</td>\n      <td>1200000.0</td>\n      <td>32.0</td>\n      <td>1.0</td>\n      <td>1.0</td>\n      <td>1.0</td>\n      <td>8.0</td>\n      <td>2010.0</td>\n      <td>3.0</td>\n      <td>37500.000000</td>\n      <td>0.238880</td>\n    </tr>\n    <tr>\n      <th>20333</th>\n      <td>20333</td>\n      <td>8300000.0</td>\n      <td>165.0</td>\n      <td>4.0</td>\n      <td>4.0</td>\n      <td>NaN</td>\n      <td>10.0</td>\n      <td>NaN</td>\n      <td>5.0</td>\n      <td>50303.030303</td>\n      <td>0.496356</td>\n    </tr>\n    <tr>\n      <th>21393</th>\n      <td>21393</td>\n      <td>3000000.0</td>\n      <td>61.0</td>\n      <td>4.0</td>\n      <td>2.0</td>\n      <td>0.0</td>\n      <td>10.0</td>\n      <td>2016.0</td>\n      <td>4.0</td>\n      <td>49180.327869</td>\n      <td>0.755084</td>\n    </tr>\n    <tr>\n      <th>21407</th>\n      <td>21407</td>\n      <td>5350000.0</td>\n      <td>124.0</td>\n      <td>2.0</td>\n      <td>3.0</td>\n      <td>0.0</td>\n      <td>2.0</td>\n      <td>2012.0</td>\n      <td>3.0</td>\n      <td>43145.161290</td>\n      <td>0.130064</td>\n    </tr>\n    <tr>\n      <th>22401</th>\n      <td>22401</td>\n      <td>2500000.0</td>\n      <td>50.0</td>\n      <td>4.0</td>\n      <td>1.0</td>\n      <td>1.0</td>\n      <td>8.0</td>\n      <td>2011.0</td>\n      <td>4.0</td>\n      <td>50000.000000</td>\n      <td>0.238880</td>\n    </tr>\n    <tr>\n      <th>23222</th>\n      <td>23222</td>\n      <td>2800000.0</td>\n      <td>89.4</td>\n      <td>4.0</td>\n      <td>3.0</td>\n      <td>0.0</td>\n      <td>10.0</td>\n      <td>2009.0</td>\n      <td>5.0</td>\n      <td>31319.910515</td>\n      <td>0.496417</td>\n    </tr>\n  </tbody>\n</table>\n</div>"
     },
     "metadata": {}
    }
   ]
  },
  {
   "cell_type": "code",
   "metadata": {
    "tags": [],
    "cell_id": "00010-a6b1ca1e-49e9-4c98-97be-7b7af26245ec",
    "deepnote_to_be_reexecuted": false,
    "source_hash": "997b6e0",
    "execution_start": 1637283659511,
    "execution_millis": 0,
    "deepnote_output_heights": [
     458
    ],
    "deepnote_cell_type": "code"
   },
   "source": "a = list(data[df2['price/area'] > maxtreshold].id.values)\na",
   "execution_count": null,
   "outputs": [
    {
     "output_type": "execute_result",
     "execution_count": 14,
     "data": {
      "text/plain": "[2999,\n 3059,\n 3102,\n 3543,\n 3551,\n 3556,\n 3557,\n 3559,\n 8308,\n 8312,\n 10300,\n 10317,\n 10932,\n 10933,\n 11247,\n 12619,\n 15761,\n 15828,\n 15840,\n 16683,\n 18232,\n 19028,\n 21534,\n 21538]"
     },
     "metadata": {}
    }
   ]
  },
  {
   "cell_type": "code",
   "metadata": {
    "tags": [],
    "cell_id": "00014-acea2ad6-a0f7-43e7-acae-300ac7542061",
    "deepnote_to_be_reexecuted": false,
    "source_hash": "770af629",
    "execution_start": 1637283659578,
    "execution_millis": 3,
    "deepnote_output_heights": [
     458
    ],
    "deepnote_cell_type": "code"
   },
   "source": "b = list(data[df2['price/area'] < mintreshold].id.values)\nb",
   "execution_count": null,
   "outputs": [
    {
     "output_type": "execute_result",
     "execution_count": 15,
     "data": {
      "text/plain": "[2215,\n 2236,\n 2241,\n 2363,\n 7512,\n 7513,\n 7514,\n 7572,\n 11167,\n 13201,\n 13206,\n 13207,\n 13642,\n 13724,\n 13725,\n 16636,\n 20314,\n 20317,\n 20329,\n 20333,\n 21393,\n 21407,\n 22401,\n 23222]"
     },
     "metadata": {}
    }
   ]
  },
  {
   "cell_type": "code",
   "metadata": {
    "tags": [],
    "cell_id": "00015-893e7aae-7045-41e7-a1b5-07c4955b4efc",
    "deepnote_to_be_reexecuted": false,
    "source_hash": "f7ce7a9c",
    "execution_start": 1637283659579,
    "execution_millis": 60,
    "deepnote_output_heights": [
     611
    ],
    "deepnote_cell_type": "code"
   },
   "source": "c = a + b\nc",
   "execution_count": null,
   "outputs": [
    {
     "output_type": "execute_result",
     "execution_count": 16,
     "data": {
      "text/plain": "[2999,\n 3059,\n 3102,\n 3543,\n 3551,\n 3556,\n 3557,\n 3559,\n 8308,\n 8312,\n 10300,\n 10317,\n 10932,\n 10933,\n 11247,\n 12619,\n 15761,\n 15828,\n 15840,\n 16683,\n 18232,\n 19028,\n 21534,\n 21538,\n 2215,\n 2236,\n 2241,\n 2363,\n 7512,\n 7513,\n 7514,\n 7572,\n 11167,\n 13201,\n 13206,\n 13207,\n 13642,\n 13724,\n 13725,\n 16636,\n 20314,\n 20317,\n 20329,\n 20333,\n 21393,\n 21407,\n 22401,\n 23222]"
     },
     "metadata": {}
    }
   ]
  },
  {
   "cell_type": "code",
   "metadata": {
    "tags": [],
    "cell_id": "00016-6874a054-9965-4746-818a-f5b93a7571ae",
    "deepnote_to_be_reexecuted": false,
    "source_hash": "4ae609c8",
    "execution_start": 1637283659632,
    "execution_millis": 0,
    "deepnote_output_heights": [
     21
    ],
    "deepnote_cell_type": "code"
   },
   "source": "len(c)",
   "execution_count": null,
   "outputs": [
    {
     "output_type": "execute_result",
     "execution_count": 17,
     "data": {
      "text/plain": "48"
     },
     "metadata": {}
    }
   ]
  },
  {
   "cell_type": "markdown",
   "source": "<a style='text-decoration:none;line-height:16px;display:flex;color:#5B5B62;padding:10px;justify-content:end;' href='https://deepnote.com?utm_source=created-in-deepnote-cell&projectId=99c1e030-46bc-40fa-835c-0661eae0d488' target=\"_blank\">\n<img alt='Created in deepnote.com' style='display:inline;max-height:16px;margin:0px;margin-right:7.5px;' src='data:image/svg+xml;base64,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' > </img>\nCreated in <span style='font-weight:600;margin-left:4px;'>Deepnote</span></a>",
   "metadata": {
    "tags": [],
    "created_in_deepnote_cell": true,
    "deepnote_cell_type": "markdown"
   }
  }
 ],
 "nbformat": 4,
 "nbformat_minor": 2,
 "metadata": {
  "orig_nbformat": 2,
  "deepnote": {
   "is_reactive": false
  },
  "deepnote_notebook_id": "d61d5ddf-1d8a-49df-a9e3-9a6ad0fb7aad",
  "deepnote_execution_queue": []
 }
}