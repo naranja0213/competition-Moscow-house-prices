{
 "cells": [
  {
   "cell_type": "code",
   "metadata": {
    "tags": [],
    "cell_id": "00000-14226732-0c5d-4067-b0b1-b4d3d2a2d2b4",
    "deepnote_to_be_reexecuted": false,
    "source_hash": "85c8f1a6",
    "execution_start": 1636652856740,
    "execution_millis": 2677,
    "deepnote_cell_type": "code"
   },
   "source": "import json\nimport pandas as pd\nimport numpy as np\nimport math as math\nimport matplotlib.pyplot as plt\nimport seaborn as sns\nimport sklearn.model_selection as model_selection\nimport sklearn.tree as tree\nfrom sklearn.linear_model import LogisticRegression\nfrom sklearn.linear_model import LinearRegression\nimport time\nfrom sklearn.model_selection import GridSearchCV\nfrom sklearn.tree import DecisionTreeRegressor\nimport catboost\nfrom catboost import CatBoostClassifier\nfrom catboost import CatBoostRegressor\nfrom sklearn.model_selection import train_test_split\n",
   "execution_count": null,
   "outputs": []
  },
  {
   "cell_type": "code",
   "metadata": {
    "tags": [],
    "cell_id": "00001-a063b5ba-4ada-462e-943b-e39f38bcc78c",
    "deepnote_to_be_reexecuted": false,
    "source_hash": "a0cf9b3d",
    "execution_start": 1636652859424,
    "execution_millis": 26,
    "deepnote_cell_type": "code"
   },
   "source": "def describe_column(meta):\n    \"\"\"\n    Utility function for describing a dataset column (see below for usage)\n    \"\"\"\n    def f(x):\n        d = pd.Series(name=x.name, dtype=object)\n        m = next(m for m in meta if m['name'] == x.name)\n        d['Type'] = m['type']\n        d['#NaN'] = x.isna().sum()\n        d['Description'] = m['desc']\n        if m['type'] == 'categorical':\n            counts = x.dropna().map(dict(enumerate(m['cats']))).value_counts().sort_index()\n            d['Statistics'] = ', '.join(f'{c}({n})' for c, n in counts.items())\n        elif m['type'] == 'real' or m['type'] == 'integer':\n            stats = x.dropna().agg(['mean', 'std', 'min', 'max'])\n            d['Statistics'] = ', '.join(f'{s}={v :.1f}' for s, v in stats.items())\n        elif m['type'] == 'boolean':\n            counts = x.dropna().astype(bool).value_counts().sort_index()\n            d['Statistics'] = ', '.join(f'{c}({n})' for c, n in counts.items())\n        else:\n            d['Statistics'] = f'#unique={x.nunique()}'\n        return d\n    return f\n\ndef describe_data(data, meta):\n    desc = data.apply(describe_column(meta)).T\n    desc = desc.style.set_properties(**{'text-align': 'left'})\n    desc = desc.set_table_styles([ dict(selector='th', props=[('text-align', 'left')])])\n    return desc ",
   "execution_count": null,
   "outputs": []
  },
  {
   "cell_type": "code",
   "metadata": {
    "tags": [],
    "cell_id": "00002-a865dfbc-dc1c-4111-bb49-3be4647693b6",
    "deepnote_to_be_reexecuted": false,
    "source_hash": "2ae1f463",
    "execution_start": 1636652859456,
    "execution_millis": 448,
    "deepnote_cell_type": "code"
   },
   "source": "apartments = pd.read_csv('apartments_train.csv')\n#print(f'Loaded {len(apartments)} apartments')\nwith open('apartments_meta.json') as f: \n    apartments_meta = json.load(f)\n#describe_data(apartments, apartments_meta)\nbuildings = pd.read_csv('buildings_train.csv')\n#print(f'Loaded {len(buildings)} buildings')\nwith open('buildings_meta.json') as f: \n    buildings_meta = json.load(f)\n#print(f'All apartments have an associated building: {apartments.building_id.isin(buildings.id).all()}')\ndata = pd.merge(apartments, buildings.set_index('id'), how='left', left_on='building_id', right_index=True)\ndata.head()\n",
   "execution_count": null,
   "outputs": [
    {
     "output_type": "execute_result",
     "execution_count": 3,
     "data": {
      "application/vnd.deepnote.dataframe.v2+json": {
       "row_count": 5,
       "column_count": 34,
       "columns": [
        {
         "name": "id",
         "dtype": "int64",
         "stats": {
          "unique_count": 5,
          "nan_count": 0,
          "min": "0",
          "max": "4",
          "histogram": [
           {
            "bin_start": 0,
            "bin_end": 0.4,
            "count": 1
           },
           {
            "bin_start": 0.4,
            "bin_end": 0.8,
            "count": 0
           },
           {
            "bin_start": 0.8,
            "bin_end": 1.2000000000000002,
            "count": 1
           },
           {
            "bin_start": 1.2000000000000002,
            "bin_end": 1.6,
            "count": 0
           },
           {
            "bin_start": 1.6,
            "bin_end": 2,
            "count": 0
           },
           {
            "bin_start": 2,
            "bin_end": 2.4000000000000004,
            "count": 1
           },
           {
            "bin_start": 2.4000000000000004,
            "bin_end": 2.8000000000000003,
            "count": 0
           },
           {
            "bin_start": 2.8000000000000003,
            "bin_end": 3.2,
            "count": 1
           },
           {
            "bin_start": 3.2,
            "bin_end": 3.6,
            "count": 0
           },
           {
            "bin_start": 3.6,
            "bin_end": 4,
            "count": 1
           }
          ]
         }
        },
        {
         "name": "seller",
         "dtype": "float64",
         "stats": {
          "unique_count": 1,
          "nan_count": 3,
          "min": "3.0",
          "max": "3.0",
          "histogram": [
           {
            "bin_start": 2.5,
            "bin_end": 2.6,
            "count": 0
           },
           {
            "bin_start": 2.6,
            "bin_end": 2.7,
            "count": 0
           },
           {
            "bin_start": 2.7,
            "bin_end": 2.8,
            "count": 0
           },
           {
            "bin_start": 2.8,
            "bin_end": 2.9,
            "count": 0
           },
           {
            "bin_start": 2.9,
            "bin_end": 3,
            "count": 0
           },
           {
            "bin_start": 3,
            "bin_end": 3.1,
            "count": 2
           },
           {
            "bin_start": 3.1,
            "bin_end": 3.2,
            "count": 0
           },
           {
            "bin_start": 3.2,
            "bin_end": 3.3,
            "count": 0
           },
           {
            "bin_start": 3.3,
            "bin_end": 3.4,
            "count": 0
           },
           {
            "bin_start": 3.4,
            "bin_end": 3.5,
            "count": 0
           }
          ]
         }
        },
        {
         "name": "price",
         "dtype": "float64",
         "stats": {
          "unique_count": 4,
          "nan_count": 0,
          "min": "7139520.0",
          "max": "13900000.0",
          "histogram": [
           {
            "bin_start": 7139520,
            "bin_end": 7815568,
            "count": 1
           },
           {
            "bin_start": 7815568,
            "bin_end": 8491616,
            "count": 0
           },
           {
            "bin_start": 8491616,
            "bin_end": 9167664,
            "count": 1
           },
           {
            "bin_start": 9167664,
            "bin_end": 9843712,
            "count": 0
           },
           {
            "bin_start": 9843712,
            "bin_end": 10519760,
            "count": 2
           },
           {
            "bin_start": 10519760,
            "bin_end": 11195808,
            "count": 0
           },
           {
            "bin_start": 11195808,
            "bin_end": 11871856,
            "count": 0
           },
           {
            "bin_start": 11871856,
            "bin_end": 12547904,
            "count": 0
           },
           {
            "bin_start": 12547904,
            "bin_end": 13223952,
            "count": 0
           },
           {
            "bin_start": 13223952,
            "bin_end": 13900000,
            "count": 1
           }
          ]
         }
        },
        {
         "name": "area_total",
         "dtype": "float64",
         "stats": {
          "unique_count": 4,
          "nan_count": 0,
          "min": "59.2",
          "max": "88.0",
          "histogram": [
           {
            "bin_start": 59.2,
            "bin_end": 62.080000000000005,
            "count": 1
           },
           {
            "bin_start": 62.080000000000005,
            "bin_end": 64.96000000000001,
            "count": 0
           },
           {
            "bin_start": 64.96000000000001,
            "bin_end": 67.84,
            "count": 0
           },
           {
            "bin_start": 67.84,
            "bin_end": 70.72,
            "count": 0
           },
           {
            "bin_start": 70.72,
            "bin_end": 73.6,
            "count": 0
           },
           {
            "bin_start": 73.6,
            "bin_end": 76.48,
            "count": 0
           },
           {
            "bin_start": 76.48,
            "bin_end": 79.36,
            "count": 2
           },
           {
            "bin_start": 79.36,
            "bin_end": 82.24000000000001,
            "count": 0
           },
           {
            "bin_start": 82.24000000000001,
            "bin_end": 85.12,
            "count": 0
           },
           {
            "bin_start": 85.12,
            "bin_end": 88,
            "count": 2
           }
          ]
         }
        },
        {
         "name": "area_kitchen",
         "dtype": "float64",
         "stats": {
          "unique_count": 5,
          "nan_count": 0,
          "min": "12.5",
          "max": "22.5",
          "histogram": [
           {
            "bin_start": 12.5,
            "bin_end": 13.5,
            "count": 1
           },
           {
            "bin_start": 13.5,
            "bin_end": 14.5,
            "count": 2
           },
           {
            "bin_start": 14.5,
            "bin_end": 15.5,
            "count": 0
           },
           {
            "bin_start": 15.5,
            "bin_end": 16.5,
            "count": 0
           },
           {
            "bin_start": 16.5,
            "bin_end": 17.5,
            "count": 1
           },
           {
            "bin_start": 17.5,
            "bin_end": 18.5,
            "count": 0
           },
           {
            "bin_start": 18.5,
            "bin_end": 19.5,
            "count": 0
           },
           {
            "bin_start": 19.5,
            "bin_end": 20.5,
            "count": 0
           },
           {
            "bin_start": 20.5,
            "bin_end": 21.5,
            "count": 0
           },
           {
            "bin_start": 21.5,
            "bin_end": 22.5,
            "count": 1
           }
          ]
         }
        },
        {
         "name": "area_living",
         "dtype": "float64",
         "stats": {
          "unique_count": 4,
          "nan_count": 0,
          "min": "31.0",
          "max": "48.0",
          "histogram": [
           {
            "bin_start": 31,
            "bin_end": 32.7,
            "count": 1
           },
           {
            "bin_start": 32.7,
            "bin_end": 34.4,
            "count": 0
           },
           {
            "bin_start": 34.4,
            "bin_end": 36.1,
            "count": 1
           },
           {
            "bin_start": 36.1,
            "bin_end": 37.8,
            "count": 0
           },
           {
            "bin_start": 37.8,
            "bin_end": 39.5,
            "count": 0
           },
           {
            "bin_start": 39.5,
            "bin_end": 41.2,
            "count": 1
           },
           {
            "bin_start": 41.2,
            "bin_end": 42.9,
            "count": 0
           },
           {
            "bin_start": 42.9,
            "bin_end": 44.6,
            "count": 0
           },
           {
            "bin_start": 44.6,
            "bin_end": 46.3,
            "count": 0
           },
           {
            "bin_start": 46.3,
            "bin_end": 48,
            "count": 2
           }
          ]
         }
        },
        {
         "name": "floor",
         "dtype": "float64",
         "stats": {
          "unique_count": 4,
          "nan_count": 0,
          "min": "2.0",
          "max": "18.0",
          "histogram": [
           {
            "bin_start": 2,
            "bin_end": 3.6,
            "count": 1
           },
           {
            "bin_start": 3.6,
            "bin_end": 5.2,
            "count": 0
           },
           {
            "bin_start": 5.2,
            "bin_end": 6.800000000000001,
            "count": 0
           },
           {
            "bin_start": 6.800000000000001,
            "bin_end": 8.4,
            "count": 1
           },
           {
            "bin_start": 8.4,
            "bin_end": 10,
            "count": 0
           },
           {
            "bin_start": 10,
            "bin_end": 11.600000000000001,
            "count": 0
           },
           {
            "bin_start": 11.600000000000001,
            "bin_end": 13.200000000000001,
            "count": 1
           },
           {
            "bin_start": 13.200000000000001,
            "bin_end": 14.8,
            "count": 0
           },
           {
            "bin_start": 14.8,
            "bin_end": 16.4,
            "count": 0
           },
           {
            "bin_start": 16.4,
            "bin_end": 18,
            "count": 2
           }
          ]
         }
        },
        {
         "name": "rooms",
         "dtype": "float64",
         "stats": {
          "unique_count": 2,
          "nan_count": 0,
          "min": "2.0",
          "max": "3.0",
          "histogram": [
           {
            "bin_start": 2,
            "bin_end": 2.1,
            "count": 2
           },
           {
            "bin_start": 2.1,
            "bin_end": 2.2,
            "count": 0
           },
           {
            "bin_start": 2.2,
            "bin_end": 2.3,
            "count": 0
           },
           {
            "bin_start": 2.3,
            "bin_end": 2.4,
            "count": 0
           },
           {
            "bin_start": 2.4,
            "bin_end": 2.5,
            "count": 0
           },
           {
            "bin_start": 2.5,
            "bin_end": 2.6,
            "count": 0
           },
           {
            "bin_start": 2.6,
            "bin_end": 2.7,
            "count": 0
           },
           {
            "bin_start": 2.7,
            "bin_end": 2.8,
            "count": 0
           },
           {
            "bin_start": 2.8,
            "bin_end": 2.9,
            "count": 0
           },
           {
            "bin_start": 2.9,
            "bin_end": 3,
            "count": 3
           }
          ]
         }
        },
        {
         "name": "layout",
         "dtype": "float64",
         "stats": {
          "unique_count": 1,
          "nan_count": 3,
          "min": "1.0",
          "max": "1.0",
          "histogram": [
           {
            "bin_start": 0.5,
            "bin_end": 0.6,
            "count": 0
           },
           {
            "bin_start": 0.6,
            "bin_end": 0.7,
            "count": 0
           },
           {
            "bin_start": 0.7,
            "bin_end": 0.8,
            "count": 0
           },
           {
            "bin_start": 0.8,
            "bin_end": 0.9,
            "count": 0
           },
           {
            "bin_start": 0.9,
            "bin_end": 1,
            "count": 0
           },
           {
            "bin_start": 1,
            "bin_end": 1.1,
            "count": 2
           },
           {
            "bin_start": 1.1,
            "bin_end": 1.2000000000000002,
            "count": 0
           },
           {
            "bin_start": 1.2000000000000002,
            "bin_end": 1.3,
            "count": 0
           },
           {
            "bin_start": 1.3,
            "bin_end": 1.4,
            "count": 0
           },
           {
            "bin_start": 1.4,
            "bin_end": 1.5,
            "count": 0
           }
          ]
         }
        },
        {
         "name": "ceiling",
         "dtype": "float64",
         "stats": {
          "unique_count": 2,
          "nan_count": 2,
          "min": "2.65",
          "max": "2.9",
          "histogram": [
           {
            "bin_start": 2.65,
            "bin_end": 2.675,
            "count": 2
           },
           {
            "bin_start": 2.675,
            "bin_end": 2.6999999999999997,
            "count": 0
           },
           {
            "bin_start": 2.6999999999999997,
            "bin_end": 2.725,
            "count": 0
           },
           {
            "bin_start": 2.725,
            "bin_end": 2.75,
            "count": 0
           },
           {
            "bin_start": 2.75,
            "bin_end": 2.775,
            "count": 0
           },
           {
            "bin_start": 2.775,
            "bin_end": 2.8,
            "count": 0
           },
           {
            "bin_start": 2.8,
            "bin_end": 2.8249999999999997,
            "count": 0
           },
           {
            "bin_start": 2.8249999999999997,
            "bin_end": 2.85,
            "count": 0
           },
           {
            "bin_start": 2.85,
            "bin_end": 2.875,
            "count": 0
           },
           {
            "bin_start": 2.875,
            "bin_end": 2.9,
            "count": 1
           }
          ]
         }
        },
        {
         "name": "bathrooms_shared",
         "dtype": "float64",
         "stats": {
          "unique_count": 3,
          "nan_count": 0,
          "min": "0.0",
          "max": "2.0",
          "histogram": [
           {
            "bin_start": 0,
            "bin_end": 0.2,
            "count": 3
           },
           {
            "bin_start": 0.2,
            "bin_end": 0.4,
            "count": 0
           },
           {
            "bin_start": 0.4,
            "bin_end": 0.6000000000000001,
            "count": 0
           },
           {
            "bin_start": 0.6000000000000001,
            "bin_end": 0.8,
            "count": 0
           },
           {
            "bin_start": 0.8,
            "bin_end": 1,
            "count": 0
           },
           {
            "bin_start": 1,
            "bin_end": 1.2000000000000002,
            "count": 1
           },
           {
            "bin_start": 1.2000000000000002,
            "bin_end": 1.4000000000000001,
            "count": 0
           },
           {
            "bin_start": 1.4000000000000001,
            "bin_end": 1.6,
            "count": 0
           },
           {
            "bin_start": 1.6,
            "bin_end": 1.8,
            "count": 0
           },
           {
            "bin_start": 1.8,
            "bin_end": 2,
            "count": 1
           }
          ]
         }
        },
        {
         "name": "bathrooms_private",
         "dtype": "float64",
         "stats": {
          "unique_count": 2,
          "nan_count": 0,
          "min": "0.0",
          "max": "2.0",
          "histogram": [
           {
            "bin_start": 0,
            "bin_end": 0.2,
            "count": 2
           },
           {
            "bin_start": 0.2,
            "bin_end": 0.4,
            "count": 0
           },
           {
            "bin_start": 0.4,
            "bin_end": 0.6000000000000001,
            "count": 0
           },
           {
            "bin_start": 0.6000000000000001,
            "bin_end": 0.8,
            "count": 0
           },
           {
            "bin_start": 0.8,
            "bin_end": 1,
            "count": 0
           },
           {
            "bin_start": 1,
            "bin_end": 1.2000000000000002,
            "count": 0
           },
           {
            "bin_start": 1.2000000000000002,
            "bin_end": 1.4000000000000001,
            "count": 0
           },
           {
            "bin_start": 1.4000000000000001,
            "bin_end": 1.6,
            "count": 0
           },
           {
            "bin_start": 1.6,
            "bin_end": 1.8,
            "count": 0
           },
           {
            "bin_start": 1.8,
            "bin_end": 2,
            "count": 3
           }
          ]
         }
        },
        {
         "name": "windows_court",
         "dtype": "float64",
         "stats": {
          "unique_count": 2,
          "nan_count": 0,
          "min": "0.0",
          "max": "1.0",
          "histogram": [
           {
            "bin_start": 0,
            "bin_end": 0.1,
            "count": 1
           },
           {
            "bin_start": 0.1,
            "bin_end": 0.2,
            "count": 0
           },
           {
            "bin_start": 0.2,
            "bin_end": 0.30000000000000004,
            "count": 0
           },
           {
            "bin_start": 0.30000000000000004,
            "bin_end": 0.4,
            "count": 0
           },
           {
            "bin_start": 0.4,
            "bin_end": 0.5,
            "count": 0
           },
           {
            "bin_start": 0.5,
            "bin_end": 0.6000000000000001,
            "count": 0
           },
           {
            "bin_start": 0.6000000000000001,
            "bin_end": 0.7000000000000001,
            "count": 0
           },
           {
            "bin_start": 0.7000000000000001,
            "bin_end": 0.8,
            "count": 0
           },
           {
            "bin_start": 0.8,
            "bin_end": 0.9,
            "count": 0
           },
           {
            "bin_start": 0.9,
            "bin_end": 1,
            "count": 4
           }
          ]
         }
        },
        {
         "name": "windows_street",
         "dtype": "float64",
         "stats": {
          "unique_count": 1,
          "nan_count": 0,
          "min": "1.0",
          "max": "1.0",
          "histogram": [
           {
            "bin_start": 0.5,
            "bin_end": 0.6,
            "count": 0
           },
           {
            "bin_start": 0.6,
            "bin_end": 0.7,
            "count": 0
           },
           {
            "bin_start": 0.7,
            "bin_end": 0.8,
            "count": 0
           },
           {
            "bin_start": 0.8,
            "bin_end": 0.9,
            "count": 0
           },
           {
            "bin_start": 0.9,
            "bin_end": 1,
            "count": 0
           },
           {
            "bin_start": 1,
            "bin_end": 1.1,
            "count": 5
           },
           {
            "bin_start": 1.1,
            "bin_end": 1.2000000000000002,
            "count": 0
           },
           {
            "bin_start": 1.2000000000000002,
            "bin_end": 1.3,
            "count": 0
           },
           {
            "bin_start": 1.3,
            "bin_end": 1.4,
            "count": 0
           },
           {
            "bin_start": 1.4,
            "bin_end": 1.5,
            "count": 0
           }
          ]
         }
        },
        {
         "name": "balconies",
         "dtype": "float64",
         "stats": {
          "unique_count": 2,
          "nan_count": 2,
          "min": "0.0",
          "max": "1.0",
          "histogram": [
           {
            "bin_start": 0,
            "bin_end": 0.1,
            "count": 2
           },
           {
            "bin_start": 0.1,
            "bin_end": 0.2,
            "count": 0
           },
           {
            "bin_start": 0.2,
            "bin_end": 0.30000000000000004,
            "count": 0
           },
           {
            "bin_start": 0.30000000000000004,
            "bin_end": 0.4,
            "count": 0
           },
           {
            "bin_start": 0.4,
            "bin_end": 0.5,
            "count": 0
           },
           {
            "bin_start": 0.5,
            "bin_end": 0.6000000000000001,
            "count": 0
           },
           {
            "bin_start": 0.6000000000000001,
            "bin_end": 0.7000000000000001,
            "count": 0
           },
           {
            "bin_start": 0.7000000000000001,
            "bin_end": 0.8,
            "count": 0
           },
           {
            "bin_start": 0.8,
            "bin_end": 0.9,
            "count": 0
           },
           {
            "bin_start": 0.9,
            "bin_end": 1,
            "count": 1
           }
          ]
         }
        },
        {
         "name": "loggias",
         "dtype": "float64",
         "stats": {
          "unique_count": 2,
          "nan_count": 2,
          "min": "0.0",
          "max": "1.0",
          "histogram": [
           {
            "bin_start": 0,
            "bin_end": 0.1,
            "count": 1
           },
           {
            "bin_start": 0.1,
            "bin_end": 0.2,
            "count": 0
           },
           {
            "bin_start": 0.2,
            "bin_end": 0.30000000000000004,
            "count": 0
           },
           {
            "bin_start": 0.30000000000000004,
            "bin_end": 0.4,
            "count": 0
           },
           {
            "bin_start": 0.4,
            "bin_end": 0.5,
            "count": 0
           },
           {
            "bin_start": 0.5,
            "bin_end": 0.6000000000000001,
            "count": 0
           },
           {
            "bin_start": 0.6000000000000001,
            "bin_end": 0.7000000000000001,
            "count": 0
           },
           {
            "bin_start": 0.7000000000000001,
            "bin_end": 0.8,
            "count": 0
           },
           {
            "bin_start": 0.8,
            "bin_end": 0.9,
            "count": 0
           },
           {
            "bin_start": 0.9,
            "bin_end": 1,
            "count": 2
           }
          ]
         }
        },
        {
         "name": "condition",
         "dtype": "float64",
         "stats": {
          "unique_count": 2,
          "nan_count": 2,
          "min": "2.0",
          "max": "3.0",
          "histogram": [
           {
            "bin_start": 2,
            "bin_end": 2.1,
            "count": 1
           },
           {
            "bin_start": 2.1,
            "bin_end": 2.2,
            "count": 0
           },
           {
            "bin_start": 2.2,
            "bin_end": 2.3,
            "count": 0
           },
           {
            "bin_start": 2.3,
            "bin_end": 2.4,
            "count": 0
           },
           {
            "bin_start": 2.4,
            "bin_end": 2.5,
            "count": 0
           },
           {
            "bin_start": 2.5,
            "bin_end": 2.6,
            "count": 0
           },
           {
            "bin_start": 2.6,
            "bin_end": 2.7,
            "count": 0
           },
           {
            "bin_start": 2.7,
            "bin_end": 2.8,
            "count": 0
           },
           {
            "bin_start": 2.8,
            "bin_end": 2.9,
            "count": 0
           },
           {
            "bin_start": 2.9,
            "bin_end": 3,
            "count": 2
           }
          ]
         }
        },
        {
         "name": "phones",
         "dtype": "float64",
         "stats": {
          "unique_count": 1,
          "nan_count": 0,
          "min": "1.0",
          "max": "1.0",
          "histogram": [
           {
            "bin_start": 0.5,
            "bin_end": 0.6,
            "count": 0
           },
           {
            "bin_start": 0.6,
            "bin_end": 0.7,
            "count": 0
           },
           {
            "bin_start": 0.7,
            "bin_end": 0.8,
            "count": 0
           },
           {
            "bin_start": 0.8,
            "bin_end": 0.9,
            "count": 0
           },
           {
            "bin_start": 0.9,
            "bin_end": 1,
            "count": 0
           },
           {
            "bin_start": 1,
            "bin_end": 1.1,
            "count": 5
           },
           {
            "bin_start": 1.1,
            "bin_end": 1.2000000000000002,
            "count": 0
           },
           {
            "bin_start": 1.2000000000000002,
            "bin_end": 1.3,
            "count": 0
           },
           {
            "bin_start": 1.3,
            "bin_end": 1.4,
            "count": 0
           },
           {
            "bin_start": 1.4,
            "bin_end": 1.5,
            "count": 0
           }
          ]
         }
        },
        {
         "name": "building_id",
         "dtype": "int64",
         "stats": {
          "unique_count": 4,
          "nan_count": 0,
          "min": "1893",
          "max": "6604",
          "histogram": [
           {
            "bin_start": 1893,
            "bin_end": 2364.1,
            "count": 2
           },
           {
            "bin_start": 2364.1,
            "bin_end": 2835.2,
            "count": 0
           },
           {
            "bin_start": 2835.2,
            "bin_end": 3306.3,
            "count": 0
           },
           {
            "bin_start": 3306.3,
            "bin_end": 3777.4,
            "count": 0
           },
           {
            "bin_start": 3777.4,
            "bin_end": 4248.5,
            "count": 1
           },
           {
            "bin_start": 4248.5,
            "bin_end": 4719.6,
            "count": 0
           },
           {
            "bin_start": 4719.6,
            "bin_end": 5190.700000000001,
            "count": 1
           },
           {
            "bin_start": 5190.700000000001,
            "bin_end": 5661.8,
            "count": 0
           },
           {
            "bin_start": 5661.8,
            "bin_end": 6132.900000000001,
            "count": 0
           },
           {
            "bin_start": 6132.900000000001,
            "bin_end": 6604,
            "count": 1
           }
          ]
         }
        },
        {
         "name": "new",
         "dtype": "float64",
         "stats": {
          "unique_count": 2,
          "nan_count": 0,
          "min": "0.0",
          "max": "1.0",
          "histogram": [
           {
            "bin_start": 0,
            "bin_end": 0.1,
            "count": 3
           },
           {
            "bin_start": 0.1,
            "bin_end": 0.2,
            "count": 0
           },
           {
            "bin_start": 0.2,
            "bin_end": 0.30000000000000004,
            "count": 0
           },
           {
            "bin_start": 0.30000000000000004,
            "bin_end": 0.4,
            "count": 0
           },
           {
            "bin_start": 0.4,
            "bin_end": 0.5,
            "count": 0
           },
           {
            "bin_start": 0.5,
            "bin_end": 0.6000000000000001,
            "count": 0
           },
           {
            "bin_start": 0.6000000000000001,
            "bin_end": 0.7000000000000001,
            "count": 0
           },
           {
            "bin_start": 0.7000000000000001,
            "bin_end": 0.8,
            "count": 0
           },
           {
            "bin_start": 0.8,
            "bin_end": 0.9,
            "count": 0
           },
           {
            "bin_start": 0.9,
            "bin_end": 1,
            "count": 2
           }
          ]
         }
        },
        {
         "name": "latitude",
         "dtype": "float64",
         "stats": {
          "unique_count": 4,
          "nan_count": 0,
          "min": "55.544046",
          "max": "55.861282",
          "histogram": [
           {
            "bin_start": 55.544046,
            "bin_end": 55.5757696,
            "count": 1
           },
           {
            "bin_start": 55.5757696,
            "bin_end": 55.6074932,
            "count": 1
           },
           {
            "bin_start": 55.6074932,
            "bin_end": 55.6392168,
            "count": 0
           },
           {
            "bin_start": 55.6392168,
            "bin_end": 55.6709404,
            "count": 1
           },
           {
            "bin_start": 55.6709404,
            "bin_end": 55.702664,
            "count": 0
           },
           {
            "bin_start": 55.702664,
            "bin_end": 55.734387600000005,
            "count": 0
           },
           {
            "bin_start": 55.734387600000005,
            "bin_end": 55.766111200000005,
            "count": 0
           },
           {
            "bin_start": 55.766111200000005,
            "bin_end": 55.797834800000004,
            "count": 0
           },
           {
            "bin_start": 55.797834800000004,
            "bin_end": 55.8295584,
            "count": 0
           },
           {
            "bin_start": 55.8295584,
            "bin_end": 55.861282,
            "count": 2
           }
          ]
         }
        },
        {
         "name": "longitude",
         "dtype": "float64",
         "stats": {
          "unique_count": 4,
          "nan_count": 0,
          "min": "37.451438",
          "max": "37.666647",
          "histogram": [
           {
            "bin_start": 37.451438,
            "bin_end": 37.4729589,
            "count": 1
           },
           {
            "bin_start": 37.4729589,
            "bin_end": 37.4944798,
            "count": 1
           },
           {
            "bin_start": 37.4944798,
            "bin_end": 37.5160007,
            "count": 1
           },
           {
            "bin_start": 37.5160007,
            "bin_end": 37.5375216,
            "count": 0
           },
           {
            "bin_start": 37.5375216,
            "bin_end": 37.559042500000004,
            "count": 0
           },
           {
            "bin_start": 37.559042500000004,
            "bin_end": 37.5805634,
            "count": 0
           },
           {
            "bin_start": 37.5805634,
            "bin_end": 37.6020843,
            "count": 0
           },
           {
            "bin_start": 37.6020843,
            "bin_end": 37.6236052,
            "count": 0
           },
           {
            "bin_start": 37.6236052,
            "bin_end": 37.6451261,
            "count": 0
           },
           {
            "bin_start": 37.6451261,
            "bin_end": 37.666647,
            "count": 2
           }
          ]
         }
        },
        {
         "name": "district",
         "dtype": "float64",
         "stats": {
          "unique_count": 3,
          "nan_count": 0,
          "min": "2.0",
          "max": "11.0",
          "histogram": [
           {
            "bin_start": 2,
            "bin_end": 2.9,
            "count": 2
           },
           {
            "bin_start": 2.9,
            "bin_end": 3.8,
            "count": 0
           },
           {
            "bin_start": 3.8,
            "bin_end": 4.7,
            "count": 0
           },
           {
            "bin_start": 4.7,
            "bin_end": 5.6,
            "count": 0
           },
           {
            "bin_start": 5.6,
            "bin_end": 6.5,
            "count": 1
           },
           {
            "bin_start": 6.5,
            "bin_end": 7.4,
            "count": 0
           },
           {
            "bin_start": 7.4,
            "bin_end": 8.3,
            "count": 0
           },
           {
            "bin_start": 8.3,
            "bin_end": 9.2,
            "count": 0
           },
           {
            "bin_start": 9.2,
            "bin_end": 10.1,
            "count": 0
           },
           {
            "bin_start": 10.1,
            "bin_end": 11,
            "count": 2
           }
          ]
         }
        },
        {
         "name": "street",
         "dtype": "object",
         "stats": {
          "unique_count": 4,
          "nan_count": 0,
          "categories": [
           {
            "name": "улица Радужная",
            "count": 2
           },
           {
            "name": "Бунинские Луга ЖК",
            "count": 1
           },
           {
            "name": "2 others",
            "count": 2
           }
          ]
         }
        },
        {
         "name": "address",
         "dtype": "object",
         "stats": {
          "unique_count": 4,
          "nan_count": 0,
          "categories": [
           {
            "name": "14к3",
            "count": 2
           },
           {
            "name": "к2.5/2",
            "count": 1
           },
           {
            "name": "2 others",
            "count": 2
           }
          ]
         }
        },
        {
         "name": "constructed",
         "dtype": "float64",
         "stats": {
          "unique_count": 3,
          "nan_count": 0,
          "min": "2010.0",
          "max": "2021.0",
          "histogram": [
           {
            "bin_start": 2010,
            "bin_end": 2011.1,
            "count": 2
           },
           {
            "bin_start": 2011.1,
            "bin_end": 2012.2,
            "count": 0
           },
           {
            "bin_start": 2012.2,
            "bin_end": 2013.3,
            "count": 0
           },
           {
            "bin_start": 2013.3,
            "bin_end": 2014.4,
            "count": 0
           },
           {
            "bin_start": 2014.4,
            "bin_end": 2015.5,
            "count": 0
           },
           {
            "bin_start": 2015.5,
            "bin_end": 2016.6,
            "count": 0
           },
           {
            "bin_start": 2016.6,
            "bin_end": 2017.7,
            "count": 1
           },
           {
            "bin_start": 2017.7,
            "bin_end": 2018.8,
            "count": 0
           },
           {
            "bin_start": 2018.8,
            "bin_end": 2019.9,
            "count": 0
           },
           {
            "bin_start": 2019.9,
            "bin_end": 2021,
            "count": 2
           }
          ]
         }
        },
        {
         "name": "material",
         "dtype": "float64",
         "stats": {
          "unique_count": 2,
          "nan_count": 0,
          "min": "2.0",
          "max": "3.0",
          "histogram": [
           {
            "bin_start": 2,
            "bin_end": 2.1,
            "count": 1
           },
           {
            "bin_start": 2.1,
            "bin_end": 2.2,
            "count": 0
           },
           {
            "bin_start": 2.2,
            "bin_end": 2.3,
            "count": 0
           },
           {
            "bin_start": 2.3,
            "bin_end": 2.4,
            "count": 0
           },
           {
            "bin_start": 2.4,
            "bin_end": 2.5,
            "count": 0
           },
           {
            "bin_start": 2.5,
            "bin_end": 2.6,
            "count": 0
           },
           {
            "bin_start": 2.6,
            "bin_end": 2.7,
            "count": 0
           },
           {
            "bin_start": 2.7,
            "bin_end": 2.8,
            "count": 0
           },
           {
            "bin_start": 2.8,
            "bin_end": 2.9,
            "count": 0
           },
           {
            "bin_start": 2.9,
            "bin_end": 3,
            "count": 4
           }
          ]
         }
        },
        {
         "name": "stories",
         "dtype": "float64",
         "stats": {
          "unique_count": 3,
          "nan_count": 0,
          "min": "9.0",
          "max": "25.0",
          "histogram": [
           {
            "bin_start": 9,
            "bin_end": 10.6,
            "count": 1
           },
           {
            "bin_start": 10.6,
            "bin_end": 12.2,
            "count": 0
           },
           {
            "bin_start": 12.2,
            "bin_end": 13.8,
            "count": 0
           },
           {
            "bin_start": 13.8,
            "bin_end": 15.4,
            "count": 2
           },
           {
            "bin_start": 15.4,
            "bin_end": 17,
            "count": 0
           },
           {
            "bin_start": 17,
            "bin_end": 18.6,
            "count": 0
           },
           {
            "bin_start": 18.6,
            "bin_end": 20.200000000000003,
            "count": 0
           },
           {
            "bin_start": 20.200000000000003,
            "bin_end": 21.8,
            "count": 0
           },
           {
            "bin_start": 21.8,
            "bin_end": 23.4,
            "count": 0
           },
           {
            "bin_start": 23.4,
            "bin_end": 25,
            "count": 2
           }
          ]
         }
        },
        {
         "name": "elevator_without",
         "dtype": "float64",
         "stats": {
          "unique_count": 1,
          "nan_count": 0,
          "min": "0.0",
          "max": "0.0",
          "histogram": [
           {
            "bin_start": -0.5,
            "bin_end": -0.4,
            "count": 0
           },
           {
            "bin_start": -0.4,
            "bin_end": -0.3,
            "count": 0
           },
           {
            "bin_start": -0.3,
            "bin_end": -0.19999999999999996,
            "count": 0
           },
           {
            "bin_start": -0.19999999999999996,
            "bin_end": -0.09999999999999998,
            "count": 0
           },
           {
            "bin_start": -0.09999999999999998,
            "bin_end": 0,
            "count": 0
           },
           {
            "bin_start": 0,
            "bin_end": 0.10000000000000009,
            "count": 5
           },
           {
            "bin_start": 0.10000000000000009,
            "bin_end": 0.20000000000000007,
            "count": 0
           },
           {
            "bin_start": 0.20000000000000007,
            "bin_end": 0.30000000000000004,
            "count": 0
           },
           {
            "bin_start": 0.30000000000000004,
            "bin_end": 0.4,
            "count": 0
           },
           {
            "bin_start": 0.4,
            "bin_end": 0.5,
            "count": 0
           }
          ]
         }
        },
        {
         "name": "elevator_passenger",
         "dtype": "float64",
         "stats": {
          "unique_count": 1,
          "nan_count": 0,
          "min": "1.0",
          "max": "1.0",
          "histogram": [
           {
            "bin_start": 0.5,
            "bin_end": 0.6,
            "count": 0
           },
           {
            "bin_start": 0.6,
            "bin_end": 0.7,
            "count": 0
           },
           {
            "bin_start": 0.7,
            "bin_end": 0.8,
            "count": 0
           },
           {
            "bin_start": 0.8,
            "bin_end": 0.9,
            "count": 0
           },
           {
            "bin_start": 0.9,
            "bin_end": 1,
            "count": 0
           },
           {
            "bin_start": 1,
            "bin_end": 1.1,
            "count": 5
           },
           {
            "bin_start": 1.1,
            "bin_end": 1.2000000000000002,
            "count": 0
           },
           {
            "bin_start": 1.2000000000000002,
            "bin_end": 1.3,
            "count": 0
           },
           {
            "bin_start": 1.3,
            "bin_end": 1.4,
            "count": 0
           },
           {
            "bin_start": 1.4,
            "bin_end": 1.5,
            "count": 0
           }
          ]
         }
        },
        {
         "name": "elevator_service",
         "dtype": "float64",
         "stats": {
          "unique_count": 1,
          "nan_count": 0,
          "min": "1.0",
          "max": "1.0",
          "histogram": [
           {
            "bin_start": 0.5,
            "bin_end": 0.6,
            "count": 0
           },
           {
            "bin_start": 0.6,
            "bin_end": 0.7,
            "count": 0
           },
           {
            "bin_start": 0.7,
            "bin_end": 0.8,
            "count": 0
           },
           {
            "bin_start": 0.8,
            "bin_end": 0.9,
            "count": 0
           },
           {
            "bin_start": 0.9,
            "bin_end": 1,
            "count": 0
           },
           {
            "bin_start": 1,
            "bin_end": 1.1,
            "count": 5
           },
           {
            "bin_start": 1.1,
            "bin_end": 1.2000000000000002,
            "count": 0
           },
           {
            "bin_start": 1.2000000000000002,
            "bin_end": 1.3,
            "count": 0
           },
           {
            "bin_start": 1.3,
            "bin_end": 1.4,
            "count": 0
           },
           {
            "bin_start": 1.4,
            "bin_end": 1.5,
            "count": 0
           }
          ]
         }
        },
        {
         "name": "parking",
         "dtype": "float64",
         "stats": {
          "unique_count": 1,
          "nan_count": 0,
          "min": "1.0",
          "max": "1.0",
          "histogram": [
           {
            "bin_start": 0.5,
            "bin_end": 0.6,
            "count": 0
           },
           {
            "bin_start": 0.6,
            "bin_end": 0.7,
            "count": 0
           },
           {
            "bin_start": 0.7,
            "bin_end": 0.8,
            "count": 0
           },
           {
            "bin_start": 0.8,
            "bin_end": 0.9,
            "count": 0
           },
           {
            "bin_start": 0.9,
            "bin_end": 1,
            "count": 0
           },
           {
            "bin_start": 1,
            "bin_end": 1.1,
            "count": 5
           },
           {
            "bin_start": 1.1,
            "bin_end": 1.2000000000000002,
            "count": 0
           },
           {
            "bin_start": 1.2000000000000002,
            "bin_end": 1.3,
            "count": 0
           },
           {
            "bin_start": 1.3,
            "bin_end": 1.4,
            "count": 0
           },
           {
            "bin_start": 1.4,
            "bin_end": 1.5,
            "count": 0
           }
          ]
         }
        },
        {
         "name": "garbage_chute",
         "dtype": "float64",
         "stats": {
          "unique_count": 1,
          "nan_count": 4,
          "min": "0.0",
          "max": "0.0",
          "histogram": [
           {
            "bin_start": -0.5,
            "bin_end": -0.4,
            "count": 0
           },
           {
            "bin_start": -0.4,
            "bin_end": -0.3,
            "count": 0
           },
           {
            "bin_start": -0.3,
            "bin_end": -0.19999999999999996,
            "count": 0
           },
           {
            "bin_start": -0.19999999999999996,
            "bin_end": -0.09999999999999998,
            "count": 0
           },
           {
            "bin_start": -0.09999999999999998,
            "bin_end": 0,
            "count": 0
           },
           {
            "bin_start": 0,
            "bin_end": 0.10000000000000009,
            "count": 1
           },
           {
            "bin_start": 0.10000000000000009,
            "bin_end": 0.20000000000000007,
            "count": 0
           },
           {
            "bin_start": 0.20000000000000007,
            "bin_end": 0.30000000000000004,
            "count": 0
           },
           {
            "bin_start": 0.30000000000000004,
            "bin_end": 0.4,
            "count": 0
           },
           {
            "bin_start": 0.4,
            "bin_end": 0.5,
            "count": 0
           }
          ]
         }
        },
        {
         "name": "heating",
         "dtype": "float64",
         "stats": {
          "unique_count": 1,
          "nan_count": 2,
          "min": "0.0",
          "max": "0.0",
          "histogram": [
           {
            "bin_start": -0.5,
            "bin_end": -0.4,
            "count": 0
           },
           {
            "bin_start": -0.4,
            "bin_end": -0.3,
            "count": 0
           },
           {
            "bin_start": -0.3,
            "bin_end": -0.19999999999999996,
            "count": 0
           },
           {
            "bin_start": -0.19999999999999996,
            "bin_end": -0.09999999999999998,
            "count": 0
           },
           {
            "bin_start": -0.09999999999999998,
            "bin_end": 0,
            "count": 0
           },
           {
            "bin_start": 0,
            "bin_end": 0.10000000000000009,
            "count": 3
           },
           {
            "bin_start": 0.10000000000000009,
            "bin_end": 0.20000000000000007,
            "count": 0
           },
           {
            "bin_start": 0.20000000000000007,
            "bin_end": 0.30000000000000004,
            "count": 0
           },
           {
            "bin_start": 0.30000000000000004,
            "bin_end": 0.4,
            "count": 0
           },
           {
            "bin_start": 0.4,
            "bin_end": 0.5,
            "count": 0
           }
          ]
         }
        },
        {
         "name": "_deepnote_index_column",
         "dtype": "int64"
        }
       ],
       "rows_top": [
        {
         "id": 0,
         "seller": 3,
         "price": 7139520,
         "area_total": 59.2,
         "area_kitchen": 12.5,
         "area_living": 31,
         "floor": 2,
         "rooms": 2,
         "layout": "nan",
         "ceiling": 2.65,
         "bathrooms_shared": 0,
         "bathrooms_private": 2,
         "windows_court": 0,
         "windows_street": 1,
         "balconies": "nan",
         "loggias": "nan",
         "condition": "nan",
         "phones": 1,
         "building_id": 4076,
         "new": 1,
         "latitude": 55.544046,
         "longitude": 37.478055,
         "district": 11,
         "street": "Бунинские Луга ЖК",
         "address": "к2.5/2",
         "constructed": 2021,
         "material": 3,
         "stories": 9,
         "elevator_without": 0,
         "elevator_passenger": 1,
         "elevator_service": 1,
         "parking": 1,
         "garbage_chute": "nan",
         "heating": "nan",
         "_deepnote_index_column": 0
        },
        {
         "id": 1,
         "seller": "nan",
         "price": 10500000,
         "area_total": 88,
         "area_kitchen": 14.2,
         "area_living": 48,
         "floor": 18,
         "rooms": 3,
         "layout": 1,
         "ceiling": "nan",
         "bathrooms_shared": 2,
         "bathrooms_private": 0,
         "windows_court": 1,
         "windows_street": 1,
         "balconies": 1,
         "loggias": 0,
         "condition": 3,
         "phones": 1,
         "building_id": 1893,
         "new": 0,
         "latitude": 55.861282,
         "longitude": 37.666647,
         "district": 2,
         "street": "улица Радужная",
         "address": "14к3",
         "constructed": 2010,
         "material": 3,
         "stories": 25,
         "elevator_without": 0,
         "elevator_passenger": 1,
         "elevator_service": 1,
         "parking": 1,
         "garbage_chute": "nan",
         "heating": 0,
         "_deepnote_index_column": 1
        },
        {
         "id": 2,
         "seller": 3,
         "price": 9019650,
         "area_total": 78.5,
         "area_kitchen": 22.5,
         "area_living": 40.8,
         "floor": 12,
         "rooms": 3,
         "layout": "nan",
         "ceiling": 2.65,
         "bathrooms_shared": 0,
         "bathrooms_private": 2,
         "windows_court": 1,
         "windows_street": 1,
         "balconies": "nan",
         "loggias": "nan",
         "condition": "nan",
         "phones": 1,
         "building_id": 5176,
         "new": 1,
         "latitude": 55.663299,
         "longitude": 37.515335,
         "district": 6,
         "street": "Саларьево Парк ЖК",
         "address": "38",
         "constructed": 2021,
         "material": 3,
         "stories": 15,
         "elevator_without": 0,
         "elevator_passenger": 1,
         "elevator_service": 1,
         "parking": 1,
         "garbage_chute": "nan",
         "heating": "nan",
         "_deepnote_index_column": 2
        },
        {
         "id": 3,
         "seller": "nan",
         "price": 10500000,
         "area_total": 88,
         "area_kitchen": 14,
         "area_living": 48,
         "floor": 18,
         "rooms": 3,
         "layout": "nan",
         "ceiling": "nan",
         "bathrooms_shared": 0,
         "bathrooms_private": 2,
         "windows_court": 1,
         "windows_street": 1,
         "balconies": 0,
         "loggias": 1,
         "condition": 2,
         "phones": 1,
         "building_id": 1893,
         "new": 0,
         "latitude": 55.861282,
         "longitude": 37.666647,
         "district": 2,
         "street": "улица Радужная",
         "address": "14к3",
         "constructed": 2010,
         "material": 3,
         "stories": 25,
         "elevator_without": 0,
         "elevator_passenger": 1,
         "elevator_service": 1,
         "parking": 1,
         "garbage_chute": "nan",
         "heating": 0,
         "_deepnote_index_column": 3
        },
        {
         "id": 4,
         "seller": "nan",
         "price": 13900000,
         "area_total": 78,
         "area_kitchen": 17,
         "area_living": 35,
         "floor": 7,
         "rooms": 2,
         "layout": 1,
         "ceiling": 2.9,
         "bathrooms_shared": 1,
         "bathrooms_private": 0,
         "windows_court": 1,
         "windows_street": 1,
         "balconies": 0,
         "loggias": 1,
         "condition": 3,
         "phones": 1,
         "building_id": 6604,
         "new": 0,
         "latitude": 55.590785,
         "longitude": 37.451438,
         "district": 11,
         "street": "улица Сервантеса",
         "address": "1к3",
         "constructed": 2017,
         "material": 2,
         "stories": 15,
         "elevator_without": 0,
         "elevator_passenger": 1,
         "elevator_service": 1,
         "parking": 1,
         "garbage_chute": 0,
         "heating": 0,
         "_deepnote_index_column": 4
        }
       ],
       "rows_bottom": null
      },
      "text/plain": "   id  seller       price  area_total  area_kitchen  area_living  floor  \\\n0   0     3.0   7139520.0        59.2          12.5         31.0    2.0   \n1   1     NaN  10500000.0        88.0          14.2         48.0   18.0   \n2   2     3.0   9019650.0        78.5          22.5         40.8   12.0   \n3   3     NaN  10500000.0        88.0          14.0         48.0   18.0   \n4   4     NaN  13900000.0        78.0          17.0         35.0    7.0   \n\n   rooms  layout  ceiling  ...  address  constructed  material  stories  \\\n0    2.0     NaN     2.65  ...   к2.5/2       2021.0       3.0      9.0   \n1    3.0     1.0      NaN  ...     14к3       2010.0       3.0     25.0   \n2    3.0     NaN     2.65  ...       38       2021.0       3.0     15.0   \n3    3.0     NaN      NaN  ...     14к3       2010.0       3.0     25.0   \n4    2.0     1.0     2.90  ...      1к3       2017.0       2.0     15.0   \n\n   elevator_without  elevator_passenger  elevator_service  parking  \\\n0               0.0                 1.0               1.0      1.0   \n1               0.0                 1.0               1.0      1.0   \n2               0.0                 1.0               1.0      1.0   \n3               0.0                 1.0               1.0      1.0   \n4               0.0                 1.0               1.0      1.0   \n\n   garbage_chute  heating  \n0            NaN      NaN  \n1            NaN      0.0  \n2            NaN      NaN  \n3            NaN      0.0  \n4            0.0      0.0  \n\n[5 rows x 34 columns]",
      "text/html": "<div>\n<style scoped>\n    .dataframe tbody tr th:only-of-type {\n        vertical-align: middle;\n    }\n\n    .dataframe tbody tr th {\n        vertical-align: top;\n    }\n\n    .dataframe thead th {\n        text-align: right;\n    }\n</style>\n<table border=\"1\" class=\"dataframe\">\n  <thead>\n    <tr style=\"text-align: right;\">\n      <th></th>\n      <th>id</th>\n      <th>seller</th>\n      <th>price</th>\n      <th>area_total</th>\n      <th>area_kitchen</th>\n      <th>area_living</th>\n      <th>floor</th>\n      <th>rooms</th>\n      <th>layout</th>\n      <th>ceiling</th>\n      <th>...</th>\n      <th>address</th>\n      <th>constructed</th>\n      <th>material</th>\n      <th>stories</th>\n      <th>elevator_without</th>\n      <th>elevator_passenger</th>\n      <th>elevator_service</th>\n      <th>parking</th>\n      <th>garbage_chute</th>\n      <th>heating</th>\n    </tr>\n  </thead>\n  <tbody>\n    <tr>\n      <th>0</th>\n      <td>0</td>\n      <td>3.0</td>\n      <td>7139520.0</td>\n      <td>59.2</td>\n      <td>12.5</td>\n      <td>31.0</td>\n      <td>2.0</td>\n      <td>2.0</td>\n      <td>NaN</td>\n      <td>2.65</td>\n      <td>...</td>\n      <td>к2.5/2</td>\n      <td>2021.0</td>\n      <td>3.0</td>\n      <td>9.0</td>\n      <td>0.0</td>\n      <td>1.0</td>\n      <td>1.0</td>\n      <td>1.0</td>\n      <td>NaN</td>\n      <td>NaN</td>\n    </tr>\n    <tr>\n      <th>1</th>\n      <td>1</td>\n      <td>NaN</td>\n      <td>10500000.0</td>\n      <td>88.0</td>\n      <td>14.2</td>\n      <td>48.0</td>\n      <td>18.0</td>\n      <td>3.0</td>\n      <td>1.0</td>\n      <td>NaN</td>\n      <td>...</td>\n      <td>14к3</td>\n      <td>2010.0</td>\n      <td>3.0</td>\n      <td>25.0</td>\n      <td>0.0</td>\n      <td>1.0</td>\n      <td>1.0</td>\n      <td>1.0</td>\n      <td>NaN</td>\n      <td>0.0</td>\n    </tr>\n    <tr>\n      <th>2</th>\n      <td>2</td>\n      <td>3.0</td>\n      <td>9019650.0</td>\n      <td>78.5</td>\n      <td>22.5</td>\n      <td>40.8</td>\n      <td>12.0</td>\n      <td>3.0</td>\n      <td>NaN</td>\n      <td>2.65</td>\n      <td>...</td>\n      <td>38</td>\n      <td>2021.0</td>\n      <td>3.0</td>\n      <td>15.0</td>\n      <td>0.0</td>\n      <td>1.0</td>\n      <td>1.0</td>\n      <td>1.0</td>\n      <td>NaN</td>\n      <td>NaN</td>\n    </tr>\n    <tr>\n      <th>3</th>\n      <td>3</td>\n      <td>NaN</td>\n      <td>10500000.0</td>\n      <td>88.0</td>\n      <td>14.0</td>\n      <td>48.0</td>\n      <td>18.0</td>\n      <td>3.0</td>\n      <td>NaN</td>\n      <td>NaN</td>\n      <td>...</td>\n      <td>14к3</td>\n      <td>2010.0</td>\n      <td>3.0</td>\n      <td>25.0</td>\n      <td>0.0</td>\n      <td>1.0</td>\n      <td>1.0</td>\n      <td>1.0</td>\n      <td>NaN</td>\n      <td>0.0</td>\n    </tr>\n    <tr>\n      <th>4</th>\n      <td>4</td>\n      <td>NaN</td>\n      <td>13900000.0</td>\n      <td>78.0</td>\n      <td>17.0</td>\n      <td>35.0</td>\n      <td>7.0</td>\n      <td>2.0</td>\n      <td>1.0</td>\n      <td>2.90</td>\n      <td>...</td>\n      <td>1к3</td>\n      <td>2017.0</td>\n      <td>2.0</td>\n      <td>15.0</td>\n      <td>0.0</td>\n      <td>1.0</td>\n      <td>1.0</td>\n      <td>1.0</td>\n      <td>0.0</td>\n      <td>0.0</td>\n    </tr>\n  </tbody>\n</table>\n<p>5 rows × 34 columns</p>\n</div>"
     },
     "metadata": {}
    }
   ]
  },
  {
   "cell_type": "code",
   "metadata": {
    "tags": [],
    "cell_id": "00003-309fc22f-ef7b-4cd3-b860-fd5cc98281ca",
    "deepnote_to_be_reexecuted": false,
    "source_hash": "bb1c3602",
    "execution_start": 1636652859954,
    "execution_millis": 45,
    "deepnote_cell_type": "code"
   },
   "source": "def root_mean_squared_log_error(y_true, y_pred):\n    # Alternatively: sklearn.metrics.mean_squared_log_error(y_true, y_pred) ** 0.5\n    assert (y_true >= 0).all() \n    assert (y_pred >= 0).all()\n    log_error = np.log1p(y_pred) - np.log1p(y_true)  # Note: log1p(x) = log(1 + x)\n    return np.mean(log_error ** 2) ** 0.5\n    \napartments_test = pd.read_csv('apartments_test.csv')\nbuildings_test = pd.read_csv('buildings_test.csv')\n#print(f'All test apartments have an associated building: {apartments_test.building_id.isin(buildings_test.id).all()}')\ndata_test = pd.merge(apartments_test, buildings_test.set_index('id'), how='left', left_on='building_id', right_index=True)\n#print(f'Number of train samples: {len(data)}')\n#print(f'Number of test samples:  {len(data_test)}')\n#data_test.head()",
   "execution_count": null,
   "outputs": []
  },
  {
   "cell_type": "code",
   "metadata": {
    "tags": [],
    "cell_id": "00003-1e5cf50b-6298-4c88-b847-df9617c9621a",
    "deepnote_to_be_reexecuted": false,
    "source_hash": "26ac0ee4",
    "execution_start": 1636652860000,
    "execution_millis": 98,
    "deepnote_output_heights": [
     21
    ],
    "deepnote_cell_type": "code"
   },
   "source": "\n\"\"\"data_train, data_valid = model_selection.train_test_split(data, test_size=0.33, stratify=np.log(data.price).round())\nX_train = data_train[['latitude', 'longitude']]\ny_train = data_train.loc[X_train.index].price\nX_valid = data_valid[['latitude', 'longitude']]\ny_valid = data_valid.loc[X_valid.index].price\nmodel = tree.DecisionTreeRegressor().fit(X_train, y_train)\n\ny_train_hat = model.predict(X_train)\ny_valid_hat = model.predict(X_valid)\nprint(f'Train RMSLE: {root_mean_squared_log_error(y_true=y_train, y_pred=y_train_hat) :.4f}')\nprint(f'Valid RMSLE: {root_mean_squared_log_error(y_true=y_valid, y_pred=y_valid_hat) :.4f}')\n\"\"\"",
   "execution_count": null,
   "outputs": [
    {
     "output_type": "execute_result",
     "execution_count": 5,
     "data": {
      "text/plain": "\"data_train, data_valid = model_selection.train_test_split(data, test_size=0.33, stratify=np.log(data.price).round())\\nX_train = data_train[['latitude', 'longitude']]\\ny_train = data_train.loc[X_train.index].price\\nX_valid = data_valid[['latitude', 'longitude']]\\ny_valid = data_valid.loc[X_valid.index].price\\nmodel = tree.DecisionTreeRegressor().fit(X_train, y_train)\\n\\ny_train_hat = model.predict(X_train)\\ny_valid_hat = model.predict(X_valid)\\nprint(f'Train RMSLE: {root_mean_squared_log_error(y_true=y_train, y_pred=y_train_hat) :.4f}')\\nprint(f'Valid RMSLE: {root_mean_squared_log_error(y_true=y_valid, y_pred=y_valid_hat) :.4f}')\\n\""
     },
     "metadata": {}
    }
   ]
  },
  {
   "cell_type": "code",
   "metadata": {
    "tags": [],
    "cell_id": "00004-edc1fab7-5187-47e7-9431-e0fd94b02cbf",
    "deepnote_to_be_reexecuted": false,
    "source_hash": "a96e55ca",
    "execution_start": 1636652860043,
    "execution_millis": 114,
    "deepnote_cell_type": "code"
   },
   "source": "total = data.isnull().sum().sort_values(ascending=False)\npercent = (data.isnull().sum()/data.isnull().count()).sort_values(ascending=False)\nmissing_data = pd.concat([total, percent], axis=1, keys=['Total', 'Percent'])\nmissing_data.head(20)\n",
   "execution_count": null,
   "outputs": [
    {
     "output_type": "execute_result",
     "execution_count": 6,
     "data": {
      "application/vnd.deepnote.dataframe.v2+json": {
       "row_count": 20,
       "column_count": 2,
       "columns": [
        {
         "name": "Total",
         "dtype": "int64",
         "stats": {
          "unique_count": 15,
          "nan_count": 0,
          "min": "357",
          "max": "17642",
          "histogram": [
           {
            "bin_start": 357,
            "bin_end": 2085.5,
            "count": 4
           },
           {
            "bin_start": 2085.5,
            "bin_end": 3814,
            "count": 0
           },
           {
            "bin_start": 3814,
            "bin_end": 5542.5,
            "count": 5
           },
           {
            "bin_start": 5542.5,
            "bin_end": 7271,
            "count": 1
           },
           {
            "bin_start": 7271,
            "bin_end": 8999.5,
            "count": 5
           },
           {
            "bin_start": 8999.5,
            "bin_end": 10728,
            "count": 3
           },
           {
            "bin_start": 10728,
            "bin_end": 12456.5,
            "count": 1
           },
           {
            "bin_start": 12456.5,
            "bin_end": 14185,
            "count": 0
           },
           {
            "bin_start": 14185,
            "bin_end": 15913.5,
            "count": 0
           },
           {
            "bin_start": 15913.5,
            "bin_end": 17642,
            "count": 1
           }
          ]
         }
        },
        {
         "name": "Percent",
         "dtype": "float64",
         "stats": {
          "unique_count": 15,
          "nan_count": 0,
          "min": "0.015331758642903157",
          "max": "0.7576551427957913",
          "histogram": [
           {
            "bin_start": 0.015331758642903157,
            "bin_end": 0.08956409705819197,
            "count": 4
           },
           {
            "bin_start": 0.08956409705819197,
            "bin_end": 0.16379643547348077,
            "count": 0
           },
           {
            "bin_start": 0.16379643547348077,
            "bin_end": 0.23802877388876958,
            "count": 5
           },
           {
            "bin_start": 0.23802877388876958,
            "bin_end": 0.3122611123040584,
            "count": 1
           },
           {
            "bin_start": 0.3122611123040584,
            "bin_end": 0.3864934507193472,
            "count": 5
           },
           {
            "bin_start": 0.3864934507193472,
            "bin_end": 0.460725789134636,
            "count": 3
           },
           {
            "bin_start": 0.460725789134636,
            "bin_end": 0.5349581275499249,
            "count": 1
           },
           {
            "bin_start": 0.5349581275499249,
            "bin_end": 0.6091904659652136,
            "count": 0
           },
           {
            "bin_start": 0.6091904659652136,
            "bin_end": 0.6834228043805024,
            "count": 0
           },
           {
            "bin_start": 0.6834228043805024,
            "bin_end": 0.7576551427957913,
            "count": 1
           }
          ]
         }
        },
        {
         "name": "_deepnote_index_column",
         "dtype": "object"
        }
       ],
       "rows_top": [
        {
         "Total": 17642,
         "Percent": 0.7576551427957913,
         "_deepnote_index_column": "layout"
        },
        {
         "Total": 11093,
         "Percent": 0.4764011165986687,
         "_deepnote_index_column": "ceiling"
        },
        {
         "Total": 10520,
         "Percent": 0.4517929997852695,
         "_deepnote_index_column": "balconies"
        },
        {
         "Total": 10520,
         "Percent": 0.4517929997852695,
         "_deepnote_index_column": "loggias"
        },
        {
         "Total": 9810,
         "Percent": 0.4213012669100279,
         "_deepnote_index_column": "condition"
        },
        {
         "Total": 8830,
         "Percent": 0.3792140863216663,
         "_deepnote_index_column": "seller"
        },
        {
         "Total": 8811,
         "Percent": 0.3783981103714838,
         "_deepnote_index_column": "garbage_chute"
        },
        {
         "Total": 8161,
         "Percent": 0.35048314365471334,
         "_deepnote_index_column": "heating"
        },
        {
         "Total": 8072,
         "Percent": 0.34666094051964785,
         "_deepnote_index_column": "windows_court"
        },
        {
         "Total": 8072,
         "Percent": 0.34666094051964785,
         "_deepnote_index_column": "windows_street"
        },
        {
         "Total": 6788,
         "Percent": 0.2915181447283659,
         "_deepnote_index_column": "parking"
        },
        {
         "Total": 4721,
         "Percent": 0.20274855056903587,
         "_deepnote_index_column": "area_kitchen"
        },
        {
         "Total": 3972,
         "Percent": 0.17058191969078806,
         "_deepnote_index_column": "material"
        },
        {
         "Total": 3882,
         "Percent": 0.1667167704530814,
         "_deepnote_index_column": "area_living"
        },
        {
         "Total": 3872,
         "Percent": 0.16628730942666953,
         "_deepnote_index_column": "bathrooms_private"
        },
        {
         "Total": 3872,
         "Percent": 0.16628730942666953,
         "_deepnote_index_column": "bathrooms_shared"
        },
        {
         "Total": 794,
         "Percent": 0.03409920549710114,
         "_deepnote_index_column": "constructed"
        },
        {
         "Total": 357,
         "Percent": 0.015331758642903157,
         "_deepnote_index_column": "elevator_passenger"
        },
        {
         "Total": 357,
         "Percent": 0.015331758642903157,
         "_deepnote_index_column": "elevator_without"
        },
        {
         "Total": 357,
         "Percent": 0.015331758642903157,
         "_deepnote_index_column": "elevator_service"
        }
       ],
       "rows_bottom": null
      },
      "text/plain": "                    Total   Percent\nlayout              17642  0.757655\nceiling             11093  0.476401\nbalconies           10520  0.451793\nloggias             10520  0.451793\ncondition            9810  0.421301\nseller               8830  0.379214\ngarbage_chute        8811  0.378398\nheating              8161  0.350483\nwindows_court        8072  0.346661\nwindows_street       8072  0.346661\nparking              6788  0.291518\narea_kitchen         4721  0.202749\nmaterial             3972  0.170582\narea_living          3882  0.166717\nbathrooms_private    3872  0.166287\nbathrooms_shared     3872  0.166287\nconstructed           794  0.034099\nelevator_passenger    357  0.015332\nelevator_without      357  0.015332\nelevator_service      357  0.015332",
      "text/html": "<div>\n<style scoped>\n    .dataframe tbody tr th:only-of-type {\n        vertical-align: middle;\n    }\n\n    .dataframe tbody tr th {\n        vertical-align: top;\n    }\n\n    .dataframe thead th {\n        text-align: right;\n    }\n</style>\n<table border=\"1\" class=\"dataframe\">\n  <thead>\n    <tr style=\"text-align: right;\">\n      <th></th>\n      <th>Total</th>\n      <th>Percent</th>\n    </tr>\n  </thead>\n  <tbody>\n    <tr>\n      <th>layout</th>\n      <td>17642</td>\n      <td>0.757655</td>\n    </tr>\n    <tr>\n      <th>ceiling</th>\n      <td>11093</td>\n      <td>0.476401</td>\n    </tr>\n    <tr>\n      <th>balconies</th>\n      <td>10520</td>\n      <td>0.451793</td>\n    </tr>\n    <tr>\n      <th>loggias</th>\n      <td>10520</td>\n      <td>0.451793</td>\n    </tr>\n    <tr>\n      <th>condition</th>\n      <td>9810</td>\n      <td>0.421301</td>\n    </tr>\n    <tr>\n      <th>seller</th>\n      <td>8830</td>\n      <td>0.379214</td>\n    </tr>\n    <tr>\n      <th>garbage_chute</th>\n      <td>8811</td>\n      <td>0.378398</td>\n    </tr>\n    <tr>\n      <th>heating</th>\n      <td>8161</td>\n      <td>0.350483</td>\n    </tr>\n    <tr>\n      <th>windows_court</th>\n      <td>8072</td>\n      <td>0.346661</td>\n    </tr>\n    <tr>\n      <th>windows_street</th>\n      <td>8072</td>\n      <td>0.346661</td>\n    </tr>\n    <tr>\n      <th>parking</th>\n      <td>6788</td>\n      <td>0.291518</td>\n    </tr>\n    <tr>\n      <th>area_kitchen</th>\n      <td>4721</td>\n      <td>0.202749</td>\n    </tr>\n    <tr>\n      <th>material</th>\n      <td>3972</td>\n      <td>0.170582</td>\n    </tr>\n    <tr>\n      <th>area_living</th>\n      <td>3882</td>\n      <td>0.166717</td>\n    </tr>\n    <tr>\n      <th>bathrooms_private</th>\n      <td>3872</td>\n      <td>0.166287</td>\n    </tr>\n    <tr>\n      <th>bathrooms_shared</th>\n      <td>3872</td>\n      <td>0.166287</td>\n    </tr>\n    <tr>\n      <th>constructed</th>\n      <td>794</td>\n      <td>0.034099</td>\n    </tr>\n    <tr>\n      <th>elevator_passenger</th>\n      <td>357</td>\n      <td>0.015332</td>\n    </tr>\n    <tr>\n      <th>elevator_without</th>\n      <td>357</td>\n      <td>0.015332</td>\n    </tr>\n    <tr>\n      <th>elevator_service</th>\n      <td>357</td>\n      <td>0.015332</td>\n    </tr>\n  </tbody>\n</table>\n</div>"
     },
     "metadata": {}
    }
   ]
  },
  {
   "cell_type": "code",
   "metadata": {
    "tags": [],
    "cell_id": "00006-220edb48-1e15-4583-9d78-2ec4a2b04d0a",
    "deepnote_to_be_reexecuted": false,
    "source_hash": "1001323f",
    "execution_start": 1636652860155,
    "execution_millis": 105,
    "deepnote_cell_type": "code"
   },
   "source": "total = data_test.isnull().sum().sort_values(ascending=False)\npercent = (data_test.isnull().sum()/data.isnull().count()).sort_values(ascending=False)\nmissing_data = pd.concat([total, percent], axis=1, keys=['Total', 'Percent'])\nmissing_data.head(20)",
   "execution_count": null,
   "outputs": [
    {
     "output_type": "execute_result",
     "execution_count": 7,
     "data": {
      "application/vnd.deepnote.dataframe.v2+json": {
       "row_count": 20,
       "column_count": 2,
       "columns": [
        {
         "name": "Total",
         "dtype": "float64",
         "stats": {
          "unique_count": 15,
          "nan_count": 0,
          "min": "180.0",
          "max": "7368.0",
          "histogram": [
           {
            "bin_start": 180,
            "bin_end": 898.8,
            "count": 4
           },
           {
            "bin_start": 898.8,
            "bin_end": 1617.6,
            "count": 0
           },
           {
            "bin_start": 1617.6,
            "bin_end": 2336.3999999999996,
            "count": 5
           },
           {
            "bin_start": 2336.3999999999996,
            "bin_end": 3055.2,
            "count": 1
           },
           {
            "bin_start": 3055.2,
            "bin_end": 3774,
            "count": 4
           },
           {
            "bin_start": 3774,
            "bin_end": 4492.799999999999,
            "count": 2
           },
           {
            "bin_start": 4492.799999999999,
            "bin_end": 5211.599999999999,
            "count": 3
           },
           {
            "bin_start": 5211.599999999999,
            "bin_end": 5930.4,
            "count": 0
           },
           {
            "bin_start": 5930.4,
            "bin_end": 6649.2,
            "count": 0
           },
           {
            "bin_start": 6649.2,
            "bin_end": 7368,
            "count": 1
           }
          ]
         }
        },
        {
         "name": "Percent",
         "dtype": "float64",
         "stats": {
          "unique_count": 15,
          "nan_count": 0,
          "min": "0.007730298475413356",
          "max": "0.3164268842602534",
          "histogram": [
           {
            "bin_start": 0.007730298475413356,
            "bin_end": 0.03859995705389736,
            "count": 4
           },
           {
            "bin_start": 0.03859995705389736,
            "bin_end": 0.06946961563238137,
            "count": 0
           },
           {
            "bin_start": 0.06946961563238137,
            "bin_end": 0.10033927421086537,
            "count": 5
           },
           {
            "bin_start": 0.10033927421086537,
            "bin_end": 0.13120893278934936,
            "count": 1
           },
           {
            "bin_start": 0.13120893278934936,
            "bin_end": 0.16207859136783337,
            "count": 4
           },
           {
            "bin_start": 0.16207859136783337,
            "bin_end": 0.19294824994631737,
            "count": 2
           },
           {
            "bin_start": 0.19294824994631737,
            "bin_end": 0.22381790852480138,
            "count": 3
           },
           {
            "bin_start": 0.22381790852480138,
            "bin_end": 0.2546875671032854,
            "count": 0
           },
           {
            "bin_start": 0.2546875671032854,
            "bin_end": 0.2855572256817694,
            "count": 0
           },
           {
            "bin_start": 0.2855572256817694,
            "bin_end": 0.3164268842602534,
            "count": 1
           }
          ]
         }
        },
        {
         "name": "_deepnote_index_column",
         "dtype": "object"
        }
       ],
       "rows_top": [
        {
         "Total": 7368,
         "Percent": 0.3164268842602534,
         "_deepnote_index_column": "layout"
        },
        {
         "Total": 5018,
         "Percent": 0.2155035430534679,
         "_deepnote_index_column": "ceiling"
        },
        {
         "Total": 4835,
         "Percent": 0.20764440627013098,
         "_deepnote_index_column": "balconies"
        },
        {
         "Total": 4835,
         "Percent": 0.20764440627013098,
         "_deepnote_index_column": "loggias"
        },
        {
         "Total": 3959,
         "Percent": 0.17002362035645266,
         "_deepnote_index_column": "condition"
        },
        {
         "Total": 3942,
         "Percent": 0.1692935366115525,
         "_deepnote_index_column": "seller"
        },
        {
         "Total": 3488,
         "Percent": 0.14979600601245438,
         "_deepnote_index_column": "windows_court"
        },
        {
         "Total": 3488,
         "Percent": 0.14979600601245438,
         "_deepnote_index_column": "windows_street"
        },
        {
         "Total": 3426,
         "Percent": 0.14713334764870087,
         "_deepnote_index_column": "garbage_chute"
        },
        {
         "Total": 3230,
         "Percent": 0.13871591153102855,
         "_deepnote_index_column": "heating"
        },
        {
         "Total": 2867,
         "Percent": 0.1231264762722783,
         "_deepnote_index_column": "parking"
        },
        {
         "Total": 2233,
         "Percent": 0.0958986471977668,
         "_deepnote_index_column": "area_kitchen"
        },
        {
         "Total": 2019,
         "Percent": 0.08670818123255315,
         "_deepnote_index_column": "area_living"
        },
        {
         "Total": 1717,
         "Percent": 0.07373845823491518,
         "_deepnote_index_column": "bathrooms_private"
        },
        {
         "Total": 1717,
         "Percent": 0.07373845823491518,
         "_deepnote_index_column": "bathrooms_shared"
        },
        {
         "Total": 1671,
         "Percent": 0.07176293751342065,
         "_deepnote_index_column": "material"
        },
        {
         "Total": 374,
         "Percent": 0.016061842387803307,
         "_deepnote_index_column": "constructed"
        },
        {
         "Total": 180,
         "Percent": 0.007730298475413356,
         "_deepnote_index_column": "elevator_service"
        },
        {
         "Total": 180,
         "Percent": 0.007730298475413356,
         "_deepnote_index_column": "elevator_passenger"
        },
        {
         "Total": 180,
         "Percent": 0.007730298475413356,
         "_deepnote_index_column": "elevator_without"
        }
       ],
       "rows_bottom": null
      },
      "text/plain": "                     Total   Percent\nlayout              7368.0  0.316427\nceiling             5018.0  0.215504\nbalconies           4835.0  0.207644\nloggias             4835.0  0.207644\ncondition           3959.0  0.170024\nseller              3942.0  0.169294\nwindows_court       3488.0  0.149796\nwindows_street      3488.0  0.149796\ngarbage_chute       3426.0  0.147133\nheating             3230.0  0.138716\nparking             2867.0  0.123126\narea_kitchen        2233.0  0.095899\narea_living         2019.0  0.086708\nbathrooms_private   1717.0  0.073738\nbathrooms_shared    1717.0  0.073738\nmaterial            1671.0  0.071763\nconstructed          374.0  0.016062\nelevator_service     180.0  0.007730\nelevator_passenger   180.0  0.007730\nelevator_without     180.0  0.007730",
      "text/html": "<div>\n<style scoped>\n    .dataframe tbody tr th:only-of-type {\n        vertical-align: middle;\n    }\n\n    .dataframe tbody tr th {\n        vertical-align: top;\n    }\n\n    .dataframe thead th {\n        text-align: right;\n    }\n</style>\n<table border=\"1\" class=\"dataframe\">\n  <thead>\n    <tr style=\"text-align: right;\">\n      <th></th>\n      <th>Total</th>\n      <th>Percent</th>\n    </tr>\n  </thead>\n  <tbody>\n    <tr>\n      <th>layout</th>\n      <td>7368.0</td>\n      <td>0.316427</td>\n    </tr>\n    <tr>\n      <th>ceiling</th>\n      <td>5018.0</td>\n      <td>0.215504</td>\n    </tr>\n    <tr>\n      <th>balconies</th>\n      <td>4835.0</td>\n      <td>0.207644</td>\n    </tr>\n    <tr>\n      <th>loggias</th>\n      <td>4835.0</td>\n      <td>0.207644</td>\n    </tr>\n    <tr>\n      <th>condition</th>\n      <td>3959.0</td>\n      <td>0.170024</td>\n    </tr>\n    <tr>\n      <th>seller</th>\n      <td>3942.0</td>\n      <td>0.169294</td>\n    </tr>\n    <tr>\n      <th>windows_court</th>\n      <td>3488.0</td>\n      <td>0.149796</td>\n    </tr>\n    <tr>\n      <th>windows_street</th>\n      <td>3488.0</td>\n      <td>0.149796</td>\n    </tr>\n    <tr>\n      <th>garbage_chute</th>\n      <td>3426.0</td>\n      <td>0.147133</td>\n    </tr>\n    <tr>\n      <th>heating</th>\n      <td>3230.0</td>\n      <td>0.138716</td>\n    </tr>\n    <tr>\n      <th>parking</th>\n      <td>2867.0</td>\n      <td>0.123126</td>\n    </tr>\n    <tr>\n      <th>area_kitchen</th>\n      <td>2233.0</td>\n      <td>0.095899</td>\n    </tr>\n    <tr>\n      <th>area_living</th>\n      <td>2019.0</td>\n      <td>0.086708</td>\n    </tr>\n    <tr>\n      <th>bathrooms_private</th>\n      <td>1717.0</td>\n      <td>0.073738</td>\n    </tr>\n    <tr>\n      <th>bathrooms_shared</th>\n      <td>1717.0</td>\n      <td>0.073738</td>\n    </tr>\n    <tr>\n      <th>material</th>\n      <td>1671.0</td>\n      <td>0.071763</td>\n    </tr>\n    <tr>\n      <th>constructed</th>\n      <td>374.0</td>\n      <td>0.016062</td>\n    </tr>\n    <tr>\n      <th>elevator_service</th>\n      <td>180.0</td>\n      <td>0.007730</td>\n    </tr>\n    <tr>\n      <th>elevator_passenger</th>\n      <td>180.0</td>\n      <td>0.007730</td>\n    </tr>\n    <tr>\n      <th>elevator_without</th>\n      <td>180.0</td>\n      <td>0.007730</td>\n    </tr>\n  </tbody>\n</table>\n</div>"
     },
     "metadata": {}
    }
   ]
  },
  {
   "cell_type": "code",
   "metadata": {
    "tags": [],
    "cell_id": "00007-2e626c7d-b196-4129-800b-db50ea0eea6b",
    "deepnote_to_be_reexecuted": false,
    "source_hash": "d7968f7f",
    "execution_start": 1636652860259,
    "execution_millis": 13,
    "deepnote_output_heights": [
     21
    ],
    "deepnote_cell_type": "code"
   },
   "source": "data.fillna(-999,inplace=True)\ndata_test.fillna(-999,inplace=True)\ndata.isnull().sum().sum(), data_test.isnull().sum().sum()",
   "execution_count": null,
   "outputs": [
    {
     "output_type": "execute_result",
     "execution_count": 8,
     "data": {
      "text/plain": "(0, 0)"
     },
     "metadata": {}
    }
   ]
  },
  {
   "cell_type": "code",
   "metadata": {
    "tags": [],
    "cell_id": "00008-869aabc6-62ec-49a6-8519-93d786dfec58",
    "deepnote_to_be_reexecuted": false,
    "source_hash": "367032d7",
    "execution_start": 1636652860298,
    "execution_millis": 22,
    "deepnote_cell_type": "code"
   },
   "source": "y1 = data.price.values\nX1 = data.drop(['price', 'id', 'street', 'address'], axis=1)\nX1_test = data_test.drop(['id', 'street', 'address'], axis=1)\ncategorical_features_indices = np.where(X1.dtypes != np.float64)[0]\ncategorical_features_indices = np.where(X1_test.dtypes != np.float64)[0]\n",
   "execution_count": null,
   "outputs": []
  },
  {
   "cell_type": "code",
   "metadata": {
    "tags": [],
    "cell_id": "00009-6ab8139b-a286-40e8-a6c2-a163eb696ab5",
    "deepnote_to_be_reexecuted": false,
    "source_hash": "70add83c",
    "execution_start": 1636652860327,
    "execution_millis": 34,
    "deepnote_output_heights": [
     21
    ],
    "deepnote_cell_type": "code"
   },
   "source": "X_train, X_val, y_train, y_val = train_test_split(X1, y1, test_size=0.1, random_state=1, shuffle=True)\nX_train.shape, X_val.shape, y_train.shape,y_val.shape, X1_test.shape",
   "execution_count": null,
   "outputs": [
    {
     "output_type": "execute_result",
     "execution_count": 10,
     "data": {
      "text/plain": "((20956, 30), (2329, 30), (20956,), (2329,), (9937, 30))"
     },
     "metadata": {}
    }
   ]
  },
  {
   "cell_type": "code",
   "metadata": {
    "tags": [],
    "cell_id": "00010-11579a64-2bb5-4f16-86d4-9c88f68e21f9",
    "deepnote_to_be_reexecuted": false,
    "source_hash": "f3414ff4",
    "execution_start": 1636654890211,
    "execution_millis": 106312,
    "deepnote_output_heights": [
     null,
     null,
     21
    ],
    "deepnote_cell_type": "code"
   },
   "source": "from catboost import CatBoostRegressor\n\nmodel = CatBoostRegressor(random_state=1, iterations=1500, depth=8, learning_rate=.1, loss_function='RMSE')\nmodel.fit(X_train, y_train,cat_features=categorical_features_indices,eval_set=(X_val, y_val),plot=True)",
   "execution_count": null,
   "outputs": [
    {
     "data": {
      "text/plain": "MetricVisualizer(layout=Layout(align_self='stretch', height='500px'))",
      "application/vnd.jupyter.widget-view+json": {
       "version_major": 2,
       "version_minor": 0,
       "model_id": "c5be088efac9401980155418762119b7"
      }
     },
     "metadata": {},
     "output_type": "display_data"
    },
    {
     "name": "stdout",
     "text": "506:\tlearn: 4444027.9440108\ttest: 36931373.2005097\tbest: 36921747.8680604 (493)\ttotal: 32.5s\tremaining: 1m 3s\n507:\tlearn: 4439898.6970788\ttest: 36929545.2574382\tbest: 36921747.8680604 (493)\ttotal: 32.5s\tremaining: 1m 3s\n508:\tlearn: 4433796.8284691\ttest: 36930261.4866240\tbest: 36921747.8680604 (493)\ttotal: 32.6s\tremaining: 1m 3s\n509:\tlearn: 4429970.6275065\ttest: 36929571.4933852\tbest: 36921747.8680604 (493)\ttotal: 32.7s\tremaining: 1m 3s\n510:\tlearn: 4428172.3373464\ttest: 36929554.9357216\tbest: 36921747.8680604 (493)\ttotal: 32.7s\tremaining: 1m 3s\n511:\tlearn: 4422971.9180357\ttest: 36929219.2061029\tbest: 36921747.8680604 (493)\ttotal: 32.8s\tremaining: 1m 3s\n512:\tlearn: 4419561.8150071\ttest: 36931876.2615807\tbest: 36921747.8680604 (493)\ttotal: 32.8s\tremaining: 1m 3s\n513:\tlearn: 4415267.1391049\ttest: 36931520.0585589\tbest: 36921747.8680604 (493)\ttotal: 32.8s\tremaining: 1m 2s\n514:\tlearn: 4410991.7711207\ttest: 36932146.0133229\tbest: 36921747.8680604 (493)\ttotal: 32.9s\tremaining: 1m 2s\n515:\tlearn: 4406066.4977238\ttest: 36931718.8988684\tbest: 36921747.8680604 (493)\ttotal: 32.9s\tremaining: 1m 2s\n516:\tlearn: 4404978.2340779\ttest: 36932326.2194609\tbest: 36921747.8680604 (493)\ttotal: 32.9s\tremaining: 1m 2s\n517:\tlearn: 4401111.7172747\ttest: 36934162.9146402\tbest: 36921747.8680604 (493)\ttotal: 33s\tremaining: 1m 2s\n518:\tlearn: 4392703.4819247\ttest: 36932924.8619004\tbest: 36921747.8680604 (493)\ttotal: 33.1s\tremaining: 1m 2s\n519:\tlearn: 4381487.4098353\ttest: 36929219.2359396\tbest: 36921747.8680604 (493)\ttotal: 33.1s\tremaining: 1m 2s\n520:\tlearn: 4376390.6728412\ttest: 36928354.0524167\tbest: 36921747.8680604 (493)\ttotal: 33.2s\tremaining: 1m 2s\n521:\tlearn: 4372089.7695047\ttest: 36927173.6712564\tbest: 36921747.8680604 (493)\ttotal: 33.3s\tremaining: 1m 2s\n522:\tlearn: 4365929.7347058\ttest: 36925089.3483266\tbest: 36921747.8680604 (493)\ttotal: 33.4s\tremaining: 1m 2s\n523:\tlearn: 4358092.7583397\ttest: 36922671.5997416\tbest: 36921747.8680604 (493)\ttotal: 33.4s\tremaining: 1m 2s\n524:\tlearn: 4354393.1743665\ttest: 36921747.9341956\tbest: 36921747.8680604 (493)\ttotal: 33.5s\tremaining: 1m 2s\n525:\tlearn: 4346101.4827262\ttest: 36917322.1880367\tbest: 36917322.1880367 (525)\ttotal: 33.6s\tremaining: 1m 2s\n526:\tlearn: 4341871.7762487\ttest: 36916411.4235630\tbest: 36916411.4235630 (526)\ttotal: 33.6s\tremaining: 1m 2s\n527:\tlearn: 4334173.1550160\ttest: 36916422.4909709\tbest: 36916411.4235630 (526)\ttotal: 33.7s\tremaining: 1m 2s\n528:\tlearn: 4326191.3620105\ttest: 36916237.2270080\tbest: 36916237.2270080 (528)\ttotal: 33.8s\tremaining: 1m 2s\n529:\tlearn: 4320513.2346372\ttest: 36912794.7309976\tbest: 36912794.7309976 (529)\ttotal: 33.9s\tremaining: 1m 1s\n530:\tlearn: 4311288.0674813\ttest: 36911924.1301657\tbest: 36911924.1301657 (530)\ttotal: 33.9s\tremaining: 1m 1s\n531:\tlearn: 4304287.4311537\ttest: 36911829.5388181\tbest: 36911829.5388181 (531)\ttotal: 34s\tremaining: 1m 1s\n532:\tlearn: 4294457.2025862\ttest: 36911183.6549943\tbest: 36911183.6549943 (532)\ttotal: 34.1s\tremaining: 1m 1s\n533:\tlearn: 4288782.6079898\ttest: 36916763.1134406\tbest: 36911183.6549943 (532)\ttotal: 34.1s\tremaining: 1m 1s\n534:\tlearn: 4280030.6390008\ttest: 36916678.9460308\tbest: 36911183.6549943 (532)\ttotal: 34.2s\tremaining: 1m 1s\n535:\tlearn: 4277582.9788753\ttest: 36915702.2565409\tbest: 36911183.6549943 (532)\ttotal: 34.3s\tremaining: 1m 1s\n536:\tlearn: 4275988.2381650\ttest: 36915417.0515066\tbest: 36911183.6549943 (532)\ttotal: 34.3s\tremaining: 1m 1s\n537:\tlearn: 4267637.2679718\ttest: 36912444.8971432\tbest: 36911183.6549943 (532)\ttotal: 34.4s\tremaining: 1m 1s\n538:\tlearn: 4264968.1871517\ttest: 36912411.4956585\tbest: 36911183.6549943 (532)\ttotal: 34.4s\tremaining: 1m 1s\n539:\tlearn: 4258122.4609920\ttest: 36911436.7188765\tbest: 36911183.6549943 (532)\ttotal: 34.5s\tremaining: 1m 1s\n540:\tlearn: 4253166.0620254\ttest: 36912975.0011342\tbest: 36911183.6549943 (532)\ttotal: 34.6s\tremaining: 1m 1s\n541:\tlearn: 4247161.9174639\ttest: 36917363.4651641\tbest: 36911183.6549943 (532)\ttotal: 34.7s\tremaining: 1m 1s\n542:\tlearn: 4244174.6190437\ttest: 36918178.2656690\tbest: 36911183.6549943 (532)\ttotal: 34.7s\tremaining: 1m 1s\n543:\tlearn: 4236640.9941511\ttest: 36917525.9028840\tbest: 36911183.6549943 (532)\ttotal: 34.8s\tremaining: 1m 1s\n544:\tlearn: 4230364.4499773\ttest: 36915805.1675542\tbest: 36911183.6549943 (532)\ttotal: 34.9s\tremaining: 1m 1s\n545:\tlearn: 4225881.3752547\ttest: 36918317.9738108\tbest: 36911183.6549943 (532)\ttotal: 34.9s\tremaining: 1m 1s\n546:\tlearn: 4223189.9886406\ttest: 36917959.8716423\tbest: 36911183.6549943 (532)\ttotal: 35s\tremaining: 1m\n547:\tlearn: 4217915.5072776\ttest: 36917347.2096996\tbest: 36911183.6549943 (532)\ttotal: 35.1s\tremaining: 1m\n548:\tlearn: 4214456.6416286\ttest: 36915996.1690365\tbest: 36911183.6549943 (532)\ttotal: 35.1s\tremaining: 1m\n549:\tlearn: 4212250.7637277\ttest: 36915844.7883094\tbest: 36911183.6549943 (532)\ttotal: 35.2s\tremaining: 1m\n550:\tlearn: 4201805.9499264\ttest: 36915020.8976657\tbest: 36911183.6549943 (532)\ttotal: 35.3s\tremaining: 1m\n551:\tlearn: 4196450.7394573\ttest: 36914294.2677003\tbest: 36911183.6549943 (532)\ttotal: 35.3s\tremaining: 1m\n552:\tlearn: 4188816.3784337\ttest: 36907966.6080298\tbest: 36907966.6080298 (552)\ttotal: 35.4s\tremaining: 1m\n553:\tlearn: 4184859.9401703\ttest: 36909116.2811083\tbest: 36907966.6080298 (552)\ttotal: 35.4s\tremaining: 1m\n554:\tlearn: 4179026.6905511\ttest: 36908012.8764346\tbest: 36907966.6080298 (552)\ttotal: 35.5s\tremaining: 1m\n555:\tlearn: 4175300.9271598\ttest: 36907051.6279486\tbest: 36907051.6279486 (555)\ttotal: 35.6s\tremaining: 1m\n556:\tlearn: 4171134.0399960\ttest: 36913693.6885741\tbest: 36907051.6279486 (555)\ttotal: 35.6s\tremaining: 1m\n557:\tlearn: 4164987.3178509\ttest: 36913976.9816323\tbest: 36907051.6279486 (555)\ttotal: 35.7s\tremaining: 1m\n558:\tlearn: 4160131.3185551\ttest: 36906330.8303555\tbest: 36906330.8303555 (558)\ttotal: 35.7s\tremaining: 1m\n559:\tlearn: 4152237.6665312\ttest: 36906308.3842904\tbest: 36906308.3842904 (559)\ttotal: 35.8s\tremaining: 1m\n560:\tlearn: 4144381.2109651\ttest: 36911309.6250777\tbest: 36906308.3842904 (559)\ttotal: 35.9s\tremaining: 1m\n561:\tlearn: 4143617.8682514\ttest: 36911467.6703149\tbest: 36906308.3842904 (559)\ttotal: 36s\tremaining: 1m\n562:\tlearn: 4141020.4057777\ttest: 36914503.2795350\tbest: 36906308.3842904 (559)\ttotal: 36s\tremaining: 60s\n563:\tlearn: 4133227.5185335\ttest: 36918381.7993470\tbest: 36906308.3842904 (559)\ttotal: 36.1s\tremaining: 59.9s\n564:\tlearn: 4130881.4342242\ttest: 36917984.6998617\tbest: 36906308.3842904 (559)\ttotal: 36.2s\tremaining: 59.9s\n565:\tlearn: 4130381.8222579\ttest: 36918134.1366407\tbest: 36906308.3842904 (559)\ttotal: 36.2s\tremaining: 59.8s\n566:\tlearn: 4122638.9653658\ttest: 36916617.6235948\tbest: 36906308.3842904 (559)\ttotal: 36.3s\tremaining: 59.7s\n567:\tlearn: 4117924.7820905\ttest: 36915675.0715542\tbest: 36906308.3842904 (559)\ttotal: 36.4s\tremaining: 59.7s\n568:\tlearn: 4110033.9766386\ttest: 36914837.7462047\tbest: 36906308.3842904 (559)\ttotal: 36.4s\tremaining: 59.6s\n569:\tlearn: 4106180.6688165\ttest: 36914570.6656829\tbest: 36906308.3842904 (559)\ttotal: 36.5s\tremaining: 59.6s\n570:\tlearn: 4099053.5132318\ttest: 36914473.0492482\tbest: 36906308.3842904 (559)\ttotal: 36.6s\tremaining: 59.5s\n571:\tlearn: 4096611.4801309\ttest: 36914194.5399954\tbest: 36906308.3842904 (559)\ttotal: 36.6s\tremaining: 59.4s\n572:\tlearn: 4093400.4857484\ttest: 36914148.4700825\tbest: 36906308.3842904 (559)\ttotal: 36.7s\tremaining: 59.4s\n573:\tlearn: 4089027.1880977\ttest: 36907092.4555616\tbest: 36906308.3842904 (559)\ttotal: 36.8s\tremaining: 59.3s\n574:\tlearn: 4086842.4722304\ttest: 36905687.6206854\tbest: 36905687.6206854 (574)\ttotal: 36.8s\tremaining: 59.2s\n575:\tlearn: 4076730.0691320\ttest: 36906421.2882705\tbest: 36905687.6206854 (574)\ttotal: 36.9s\tremaining: 59.2s\n576:\tlearn: 4070935.4264832\ttest: 36907155.2599168\tbest: 36905687.6206854 (574)\ttotal: 37s\tremaining: 59.2s\n577:\tlearn: 4067053.9510653\ttest: 36906446.7377719\tbest: 36905687.6206854 (574)\ttotal: 37.1s\tremaining: 59.1s\n578:\tlearn: 4065701.4942950\ttest: 36906022.1958202\tbest: 36905687.6206854 (574)\ttotal: 37.1s\tremaining: 59s\n579:\tlearn: 4056676.5444744\ttest: 36910726.0019177\tbest: 36905687.6206854 (574)\ttotal: 37.2s\tremaining: 58.9s\n580:\tlearn: 4052559.5816375\ttest: 36912511.2036109\tbest: 36905687.6206854 (574)\ttotal: 37.2s\tremaining: 58.9s\n581:\tlearn: 4047114.4327439\ttest: 36919591.9354010\tbest: 36905687.6206854 (574)\ttotal: 37.3s\tremaining: 58.8s\n582:\tlearn: 4040531.9292181\ttest: 36917542.5728494\tbest: 36905687.6206854 (574)\ttotal: 37.4s\tremaining: 58.8s\n583:\tlearn: 4037977.1185546\ttest: 36919228.5970697\tbest: 36905687.6206854 (574)\ttotal: 37.4s\tremaining: 58.7s\n584:\tlearn: 4033399.0803478\ttest: 36918880.7578287\tbest: 36905687.6206854 (574)\ttotal: 37.5s\tremaining: 58.6s\n585:\tlearn: 4022797.1867685\ttest: 36918071.3610561\tbest: 36905687.6206854 (574)\ttotal: 37.5s\tremaining: 58.5s\n586:\tlearn: 4019519.8877863\ttest: 36916981.1250601\tbest: 36905687.6206854 (574)\ttotal: 37.6s\tremaining: 58.4s\n587:\tlearn: 4013837.4878261\ttest: 36916104.9466973\tbest: 36905687.6206854 (574)\ttotal: 37.6s\tremaining: 58.4s\n588:\tlearn: 4006207.7563513\ttest: 36919764.0051681\tbest: 36905687.6206854 (574)\ttotal: 37.7s\tremaining: 58.3s\n589:\tlearn: 4003535.5303116\ttest: 36920154.8308255\tbest: 36905687.6206854 (574)\ttotal: 37.8s\tremaining: 58.2s\n590:\tlearn: 3991939.0876960\ttest: 36917425.2354856\tbest: 36905687.6206854 (574)\ttotal: 37.8s\tremaining: 58.2s\n591:\tlearn: 3982364.1999119\ttest: 36916042.3898914\tbest: 36905687.6206854 (574)\ttotal: 37.9s\tremaining: 58.1s\n592:\tlearn: 3976923.0972460\ttest: 36916906.6833824\tbest: 36905687.6206854 (574)\ttotal: 38s\tremaining: 58.1s\n593:\tlearn: 3975980.6054021\ttest: 36916510.0697209\tbest: 36905687.6206854 (574)\ttotal: 38s\tremaining: 58s\n594:\tlearn: 3972795.3167185\ttest: 36916532.6011317\tbest: 36905687.6206854 (574)\ttotal: 38.1s\tremaining: 58s\n595:\tlearn: 3970138.4256802\ttest: 36916918.3204754\tbest: 36905687.6206854 (574)\ttotal: 38.2s\tremaining: 57.9s\n596:\tlearn: 3966675.5220177\ttest: 36916210.8810287\tbest: 36905687.6206854 (574)\ttotal: 38.3s\tremaining: 57.9s\n597:\tlearn: 3960701.5748949\ttest: 36918459.0510696\tbest: 36905687.6206854 (574)\ttotal: 38.3s\tremaining: 57.8s\n598:\tlearn: 3956380.7928116\ttest: 36918632.2308654\tbest: 36905687.6206854 (574)\ttotal: 38.4s\tremaining: 57.8s\n599:\tlearn: 3949553.8283920\ttest: 36917380.0504421\tbest: 36905687.6206854 (574)\ttotal: 38.5s\tremaining: 57.7s\n600:\tlearn: 3945041.0166326\ttest: 36916865.0426570\tbest: 36905687.6206854 (574)\ttotal: 38.6s\tremaining: 57.7s\n601:\tlearn: 3938554.3958086\ttest: 36916157.6899848\tbest: 36905687.6206854 (574)\ttotal: 38.6s\tremaining: 57.6s\n602:\tlearn: 3933205.4198792\ttest: 36918708.4031416\tbest: 36905687.6206854 (574)\ttotal: 38.7s\tremaining: 57.5s\n603:\tlearn: 3930060.9088103\ttest: 36917451.9428897\tbest: 36905687.6206854 (574)\ttotal: 38.8s\tremaining: 57.5s\n604:\tlearn: 3924240.5173288\ttest: 36920285.0995447\tbest: 36905687.6206854 (574)\ttotal: 38.8s\tremaining: 57.4s\n605:\tlearn: 3919829.1600360\ttest: 36921545.1278155\tbest: 36905687.6206854 (574)\ttotal: 38.9s\tremaining: 57.4s\n606:\tlearn: 3916550.3167946\ttest: 36919940.4272971\tbest: 36905687.6206854 (574)\ttotal: 39s\tremaining: 57.3s\n607:\tlearn: 3910362.0221418\ttest: 36928828.5478460\tbest: 36905687.6206854 (574)\ttotal: 39s\tremaining: 57.3s\n608:\tlearn: 3907917.5235010\ttest: 36928087.5786123\tbest: 36905687.6206854 (574)\ttotal: 39.1s\tremaining: 57.2s\n609:\tlearn: 3905943.4488358\ttest: 36928653.7597475\tbest: 36905687.6206854 (574)\ttotal: 39.3s\tremaining: 57.3s\n610:\tlearn: 3901851.7519738\ttest: 36934887.9660215\tbest: 36905687.6206854 (574)\ttotal: 39.3s\tremaining: 57.2s\n611:\tlearn: 3896936.1088916\ttest: 36932867.8227903\tbest: 36905687.6206854 (574)\ttotal: 39.4s\tremaining: 57.2s\n612:\tlearn: 3889803.3892544\ttest: 36932355.4185123\tbest: 36905687.6206854 (574)\ttotal: 39.5s\tremaining: 57.1s\n613:\tlearn: 3886000.3908124\ttest: 36932268.5124247\tbest: 36905687.6206854 (574)\ttotal: 39.6s\tremaining: 57.1s\n614:\tlearn: 3883907.3635377\ttest: 36932699.2442791\tbest: 36905687.6206854 (574)\ttotal: 39.6s\tremaining: 57s\n615:\tlearn: 3880996.6326584\ttest: 36932083.3889798\tbest: 36905687.6206854 (574)\ttotal: 39.7s\tremaining: 57s\n616:\tlearn: 3876081.2132264\ttest: 36932716.1140539\tbest: 36905687.6206854 (574)\ttotal: 39.7s\tremaining: 56.9s\n617:\tlearn: 3871583.6926155\ttest: 36931656.4683506\tbest: 36905687.6206854 (574)\ttotal: 39.8s\tremaining: 56.8s\n618:\tlearn: 3865658.5462304\ttest: 36935228.0457744\tbest: 36905687.6206854 (574)\ttotal: 39.9s\tremaining: 56.7s\n619:\tlearn: 3860139.2772808\ttest: 36934809.8277519\tbest: 36905687.6206854 (574)\ttotal: 39.9s\tremaining: 56.7s\n620:\tlearn: 3856850.2875013\ttest: 36932780.5522121\tbest: 36905687.6206854 (574)\ttotal: 40s\tremaining: 56.6s\n621:\tlearn: 3853172.5451257\ttest: 36933041.5654990\tbest: 36905687.6206854 (574)\ttotal: 40.1s\tremaining: 56.5s\n622:\tlearn: 3851362.4740310\ttest: 36932151.8745349\tbest: 36905687.6206854 (574)\ttotal: 40.1s\tremaining: 56.5s\n623:\tlearn: 3846753.8293893\ttest: 36931131.8100312\tbest: 36905687.6206854 (574)\ttotal: 40.2s\tremaining: 56.4s\n624:\tlearn: 3843442.0041398\ttest: 36929187.2357787\tbest: 36905687.6206854 (574)\ttotal: 40.3s\tremaining: 56.4s\n625:\tlearn: 3836006.9232032\ttest: 36929919.5125226\tbest: 36905687.6206854 (574)\ttotal: 40.4s\tremaining: 56.4s\n626:\tlearn: 3827288.2053408\ttest: 36931260.5573749\tbest: 36905687.6206854 (574)\ttotal: 40.4s\tremaining: 56.3s\n627:\tlearn: 3822599.4037890\ttest: 36930280.8506880\tbest: 36905687.6206854 (574)\ttotal: 40.5s\tremaining: 56.2s\n628:\tlearn: 3820383.6415182\ttest: 36930907.0348171\tbest: 36905687.6206854 (574)\ttotal: 40.6s\tremaining: 56.2s\n629:\tlearn: 3818247.1388495\ttest: 36931294.6336781\tbest: 36905687.6206854 (574)\ttotal: 40.6s\tremaining: 56.1s\n630:\tlearn: 3814786.1593095\ttest: 36932409.3743779\tbest: 36905687.6206854 (574)\ttotal: 40.7s\tremaining: 56s\n631:\tlearn: 3808248.5491521\ttest: 36933131.7725180\tbest: 36905687.6206854 (574)\ttotal: 40.8s\tremaining: 56s\n632:\tlearn: 3804821.1963800\ttest: 36933355.9000978\tbest: 36905687.6206854 (574)\ttotal: 40.8s\tremaining: 55.9s\n633:\tlearn: 3799997.0835943\ttest: 36934101.3951436\tbest: 36905687.6206854 (574)\ttotal: 40.9s\tremaining: 55.8s\n634:\tlearn: 3797484.3898164\ttest: 36935059.8100535\tbest: 36905687.6206854 (574)\ttotal: 41s\tremaining: 55.8s\n635:\tlearn: 3795757.8508837\ttest: 36931865.1588567\tbest: 36905687.6206854 (574)\ttotal: 41s\tremaining: 55.7s\n636:\tlearn: 3789530.5175798\ttest: 36933827.5998049\tbest: 36905687.6206854 (574)\ttotal: 41.1s\tremaining: 55.6s\n637:\tlearn: 3782638.0442682\ttest: 36934444.9692522\tbest: 36905687.6206854 (574)\ttotal: 41.1s\tremaining: 55.6s\n638:\tlearn: 3779149.0662299\ttest: 36932255.4009730\tbest: 36905687.6206854 (574)\ttotal: 41.2s\tremaining: 55.6s\n639:\tlearn: 3775349.4440138\ttest: 36932165.5184323\tbest: 36905687.6206854 (574)\ttotal: 41.3s\tremaining: 55.5s\n640:\tlearn: 3769911.4394697\ttest: 36929057.2303237\tbest: 36905687.6206854 (574)\ttotal: 41.4s\tremaining: 55.4s\n641:\tlearn: 3765224.1309524\ttest: 36929056.5921036\tbest: 36905687.6206854 (574)\ttotal: 41.5s\tremaining: 55.5s\n642:\tlearn: 3761620.0023246\ttest: 36927904.9137695\tbest: 36905687.6206854 (574)\ttotal: 41.6s\tremaining: 55.5s\n643:\tlearn: 3758490.7264406\ttest: 36927182.2376483\tbest: 36905687.6206854 (574)\ttotal: 41.7s\tremaining: 55.4s\n644:\tlearn: 3754178.4565260\ttest: 36927391.5270245\tbest: 36905687.6206854 (574)\ttotal: 41.8s\tremaining: 55.3s\n645:\tlearn: 3751223.4790070\ttest: 36925826.9277601\tbest: 36905687.6206854 (574)\ttotal: 41.8s\tremaining: 55.3s\n646:\tlearn: 3749534.4851288\ttest: 36925247.8465116\tbest: 36905687.6206854 (574)\ttotal: 41.9s\tremaining: 55.2s\n647:\tlearn: 3744706.3305831\ttest: 36924932.2959766\tbest: 36905687.6206854 (574)\ttotal: 41.9s\tremaining: 55.1s\n648:\tlearn: 3741978.8918920\ttest: 36927842.1837019\tbest: 36905687.6206854 (574)\ttotal: 42s\tremaining: 55.1s\n649:\tlearn: 3737261.5230729\ttest: 36923299.1802598\tbest: 36905687.6206854 (574)\ttotal: 42.1s\tremaining: 55s\n650:\tlearn: 3731514.2855057\ttest: 36924009.7776542\tbest: 36905687.6206854 (574)\ttotal: 42.1s\tremaining: 55s\n651:\tlearn: 3730714.9015105\ttest: 36923621.4497747\tbest: 36905687.6206854 (574)\ttotal: 42.2s\tremaining: 54.9s\n652:\tlearn: 3727916.8097810\ttest: 36922861.8288864\tbest: 36905687.6206854 (574)\ttotal: 42.2s\tremaining: 54.8s\n653:\tlearn: 3723999.1921250\ttest: 36924308.4268629\tbest: 36905687.6206854 (574)\ttotal: 42.3s\tremaining: 54.7s\n654:\tlearn: 3721210.0006526\ttest: 36923756.3041180\tbest: 36905687.6206854 (574)\ttotal: 42.3s\tremaining: 54.6s\n655:\tlearn: 3718192.1172951\ttest: 36923381.0971440\tbest: 36905687.6206854 (574)\ttotal: 42.4s\tremaining: 54.6s\n656:\tlearn: 3714361.9649612\ttest: 36919566.8592569\tbest: 36905687.6206854 (574)\ttotal: 42.5s\tremaining: 54.5s\n657:\tlearn: 3713038.5942336\ttest: 36919570.5223451\tbest: 36905687.6206854 (574)\ttotal: 42.6s\tremaining: 54.5s\n658:\tlearn: 3708997.9427368\ttest: 36920838.4485885\tbest: 36905687.6206854 (574)\ttotal: 42.7s\tremaining: 54.4s\n659:\tlearn: 3705451.0435266\ttest: 36918837.9890937\tbest: 36905687.6206854 (574)\ttotal: 42.7s\tremaining: 54.4s\n660:\tlearn: 3696936.4351983\ttest: 36914338.7417643\tbest: 36905687.6206854 (574)\ttotal: 42.8s\tremaining: 54.3s\n661:\tlearn: 3693899.3889921\ttest: 36915598.4714541\tbest: 36905687.6206854 (574)\ttotal: 42.9s\tremaining: 54.3s\n662:\tlearn: 3688714.5491872\ttest: 36915357.3181585\tbest: 36905687.6206854 (574)\ttotal: 42.9s\tremaining: 54.2s\n663:\tlearn: 3685949.4090556\ttest: 36915164.5763138\tbest: 36905687.6206854 (574)\ttotal: 43s\tremaining: 54.1s\n664:\tlearn: 3684441.7825550\ttest: 36914750.4723743\tbest: 36905687.6206854 (574)\ttotal: 43.1s\tremaining: 54.1s\n665:\tlearn: 3681984.1485090\ttest: 36914162.1612498\tbest: 36905687.6206854 (574)\ttotal: 43.1s\tremaining: 54s\n666:\tlearn: 3679334.1193541\ttest: 36914580.4121552\tbest: 36905687.6206854 (574)\ttotal: 43.2s\tremaining: 53.9s\n667:\tlearn: 3674378.9567125\ttest: 36917774.1370570\tbest: 36905687.6206854 (574)\ttotal: 43.2s\tremaining: 53.8s\n668:\tlearn: 3672659.7162325\ttest: 36918458.7668505\tbest: 36905687.6206854 (574)\ttotal: 43.3s\tremaining: 53.8s\n669:\tlearn: 3670173.1945169\ttest: 36918043.7976472\tbest: 36905687.6206854 (574)\ttotal: 43.4s\tremaining: 53.7s\n670:\tlearn: 3663684.0743809\ttest: 36920255.5285695\tbest: 36905687.6206854 (574)\ttotal: 43.4s\tremaining: 53.6s\n671:\tlearn: 3653805.5733040\ttest: 36920630.2517366\tbest: 36905687.6206854 (574)\ttotal: 43.5s\tremaining: 53.6s\n672:\tlearn: 3648499.3258632\ttest: 36918525.2381049\tbest: 36905687.6206854 (574)\ttotal: 43.6s\tremaining: 53.6s\n673:\tlearn: 3646109.4377466\ttest: 36920298.6392559\tbest: 36905687.6206854 (574)\ttotal: 43.7s\tremaining: 53.6s\n674:\tlearn: 3643523.3162878\ttest: 36920151.4184295\tbest: 36905687.6206854 (574)\ttotal: 43.8s\tremaining: 53.5s\n675:\tlearn: 3637084.6769486\ttest: 36919193.1946831\tbest: 36905687.6206854 (574)\ttotal: 43.8s\tremaining: 53.4s\n676:\tlearn: 3633836.4147761\ttest: 36911575.4346239\tbest: 36905687.6206854 (574)\ttotal: 43.9s\tremaining: 53.4s\n677:\tlearn: 3631073.6259727\ttest: 36913173.5769608\tbest: 36905687.6206854 (574)\ttotal: 43.9s\tremaining: 53.3s\n678:\tlearn: 3626853.6085613\ttest: 36909668.9038841\tbest: 36905687.6206854 (574)\ttotal: 44s\tremaining: 53.2s\n679:\tlearn: 3618996.3300754\ttest: 36909461.5280660\tbest: 36905687.6206854 (574)\ttotal: 44.1s\tremaining: 53.2s\n680:\tlearn: 3614781.4136685\ttest: 36911176.9285132\tbest: 36905687.6206854 (574)\ttotal: 44.2s\tremaining: 53.1s\n681:\tlearn: 3612361.9557986\ttest: 36912242.7622632\tbest: 36905687.6206854 (574)\ttotal: 44.2s\tremaining: 53.1s\n682:\tlearn: 3609184.0665404\ttest: 36911237.9651097\tbest: 36905687.6206854 (574)\ttotal: 44.3s\tremaining: 53s\n683:\tlearn: 3604582.4844797\ttest: 36909259.8745215\tbest: 36905687.6206854 (574)\ttotal: 44.3s\tremaining: 52.9s\n684:\tlearn: 3598581.5762503\ttest: 36911134.3357631\tbest: 36905687.6206854 (574)\ttotal: 44.4s\tremaining: 52.8s\n685:\tlearn: 3595685.9595839\ttest: 36911164.4118489\tbest: 36905687.6206854 (574)\ttotal: 44.4s\tremaining: 52.7s\n686:\tlearn: 3592777.3208760\ttest: 36911384.9408975\tbest: 36905687.6206854 (574)\ttotal: 44.5s\tremaining: 52.7s\n687:\tlearn: 3589498.2152024\ttest: 36911213.6108784\tbest: 36905687.6206854 (574)\ttotal: 44.5s\tremaining: 52.6s\n688:\tlearn: 3582720.2792563\ttest: 36909508.9012551\tbest: 36905687.6206854 (574)\ttotal: 44.6s\tremaining: 52.5s\n689:\tlearn: 3579393.6108631\ttest: 36909674.6503163\tbest: 36905687.6206854 (574)\ttotal: 44.7s\tremaining: 52.5s\n690:\tlearn: 3577309.6820014\ttest: 36909331.3748055\tbest: 36905687.6206854 (574)\ttotal: 44.8s\tremaining: 52.5s\n691:\tlearn: 3576168.5001383\ttest: 36909160.9953990\tbest: 36905687.6206854 (574)\ttotal: 44.9s\tremaining: 52.4s\n692:\tlearn: 3571206.1269472\ttest: 36909968.4853250\tbest: 36905687.6206854 (574)\ttotal: 44.9s\tremaining: 52.3s\n693:\tlearn: 3567121.2138763\ttest: 36911453.5996004\tbest: 36905687.6206854 (574)\ttotal: 45s\tremaining: 52.3s\n694:\tlearn: 3556538.1100666\ttest: 36911434.2625593\tbest: 36905687.6206854 (574)\ttotal: 45.1s\tremaining: 52.2s\n695:\tlearn: 3554458.3527576\ttest: 36913576.3038279\tbest: 36905687.6206854 (574)\ttotal: 45.1s\tremaining: 52.1s\n696:\tlearn: 3548717.4721762\ttest: 36913750.1686130\tbest: 36905687.6206854 (574)\ttotal: 45.2s\tremaining: 52.1s\n697:\tlearn: 3546332.0885071\ttest: 36913705.2180806\tbest: 36905687.6206854 (574)\ttotal: 45.2s\tremaining: 52s\n698:\tlearn: 3541309.0955202\ttest: 36914054.8430355\tbest: 36905687.6206854 (574)\ttotal: 45.3s\tremaining: 51.9s\n699:\tlearn: 3535487.4758885\ttest: 36913969.1091962\tbest: 36905687.6206854 (574)\ttotal: 45.4s\tremaining: 51.9s\n700:\tlearn: 3533231.0729489\ttest: 36915372.3770617\tbest: 36905687.6206854 (574)\ttotal: 45.4s\tremaining: 51.8s\n701:\tlearn: 3523471.7256880\ttest: 36916911.4929242\tbest: 36905687.6206854 (574)\ttotal: 45.5s\tremaining: 51.8s\n702:\tlearn: 3518904.7151622\ttest: 36916223.7889986\tbest: 36905687.6206854 (574)\ttotal: 45.6s\tremaining: 51.7s\n703:\tlearn: 3517060.6834804\ttest: 36915861.6134145\tbest: 36905687.6206854 (574)\ttotal: 45.7s\tremaining: 51.6s\n704:\tlearn: 3513316.5042554\ttest: 36911831.0121149\tbest: 36905687.6206854 (574)\ttotal: 45.7s\tremaining: 51.5s\n705:\tlearn: 3509120.5499681\ttest: 36910134.3833022\tbest: 36905687.6206854 (574)\ttotal: 45.8s\tremaining: 51.5s\n706:\tlearn: 3504694.2589926\ttest: 36912046.3536061\tbest: 36905687.6206854 (574)\ttotal: 45.9s\tremaining: 51.5s\n707:\tlearn: 3502836.7639678\ttest: 36911971.6033214\tbest: 36905687.6206854 (574)\ttotal: 45.9s\tremaining: 51.4s\n708:\tlearn: 3498590.7919477\ttest: 36908921.4259807\tbest: 36905687.6206854 (574)\ttotal: 46s\tremaining: 51.3s\n709:\tlearn: 3493681.9955472\ttest: 36908254.2739667\tbest: 36905687.6206854 (574)\ttotal: 46.1s\tremaining: 51.3s\n710:\tlearn: 3490878.6399639\ttest: 36908710.0814660\tbest: 36905687.6206854 (574)\ttotal: 46.1s\tremaining: 51.2s\n711:\tlearn: 3487971.6813171\ttest: 36908869.8711313\tbest: 36905687.6206854 (574)\ttotal: 46.2s\tremaining: 51.1s\n712:\tlearn: 3484463.9027219\ttest: 36907871.4789706\tbest: 36905687.6206854 (574)\ttotal: 46.3s\tremaining: 51.1s\n713:\tlearn: 3481111.3108482\ttest: 36906647.0198786\tbest: 36905687.6206854 (574)\ttotal: 46.3s\tremaining: 51s\n714:\tlearn: 3476597.7792490\ttest: 36907180.4080201\tbest: 36905687.6206854 (574)\ttotal: 46.4s\tremaining: 50.9s\n715:\tlearn: 3474425.3008447\ttest: 36906372.1116223\tbest: 36905687.6206854 (574)\ttotal: 46.5s\tremaining: 50.9s\n716:\tlearn: 3470164.5144307\ttest: 36906416.3488914\tbest: 36905687.6206854 (574)\ttotal: 46.6s\tremaining: 50.8s\n717:\tlearn: 3465718.1170333\ttest: 36904712.7567798\tbest: 36904712.7567798 (717)\ttotal: 46.6s\tremaining: 50.8s\n718:\tlearn: 3460501.2601974\ttest: 36912287.4847478\tbest: 36904712.7567798 (717)\ttotal: 46.7s\tremaining: 50.7s\n719:\tlearn: 3458699.1104069\ttest: 36911370.4949903\tbest: 36904712.7567798 (717)\ttotal: 46.8s\tremaining: 50.6s\n720:\tlearn: 3456774.6146499\ttest: 36910568.7697606\tbest: 36904712.7567798 (717)\ttotal: 46.8s\tremaining: 50.6s\n721:\tlearn: 3453513.6549553\ttest: 36910379.9754989\tbest: 36904712.7567798 (717)\ttotal: 47s\tremaining: 50.6s\n722:\tlearn: 3449907.4429615\ttest: 36909080.4436755\tbest: 36904712.7567798 (717)\ttotal: 47s\tremaining: 50.5s\n723:\tlearn: 3439271.0672278\ttest: 36910097.1247379\tbest: 36904712.7567798 (717)\ttotal: 47.1s\tremaining: 50.5s\n724:\tlearn: 3435980.3744250\ttest: 36910226.4575473\tbest: 36904712.7567798 (717)\ttotal: 47.1s\tremaining: 50.4s\n725:\tlearn: 3432272.0405238\ttest: 36909740.0233435\tbest: 36904712.7567798 (717)\ttotal: 47.2s\tremaining: 50.3s\n726:\tlearn: 3427160.2199433\ttest: 36908633.1540566\tbest: 36904712.7567798 (717)\ttotal: 47.3s\tremaining: 50.3s\n727:\tlearn: 3419541.3315528\ttest: 36907327.6958228\tbest: 36904712.7567798 (717)\ttotal: 47.4s\tremaining: 50.2s\n728:\tlearn: 3414216.7852590\ttest: 36908345.5672137\tbest: 36904712.7567798 (717)\ttotal: 47.4s\tremaining: 50.1s\n729:\tlearn: 3409095.8460874\ttest: 36905033.9997040\tbest: 36904712.7567798 (717)\ttotal: 47.5s\tremaining: 50.1s\n730:\tlearn: 3407488.5481789\ttest: 36904826.7559152\tbest: 36904712.7567798 (717)\ttotal: 47.5s\tremaining: 50s\n731:\tlearn: 3406492.6682719\ttest: 36904712.6495153\tbest: 36904712.6495153 (731)\ttotal: 47.6s\tremaining: 49.9s\n732:\tlearn: 3402025.5310699\ttest: 36902809.1591695\tbest: 36902809.1591695 (732)\ttotal: 47.7s\tremaining: 49.9s\n733:\tlearn: 3399584.0780370\ttest: 36901924.5666218\tbest: 36901924.5666218 (733)\ttotal: 47.7s\tremaining: 49.8s\n734:\tlearn: 3392587.0368039\ttest: 36903163.7782439\tbest: 36901924.5666218 (733)\ttotal: 47.8s\tremaining: 49.7s\n735:\tlearn: 3384323.5547343\ttest: 36899715.5763071\tbest: 36899715.5763071 (735)\ttotal: 47.9s\tremaining: 49.7s\n736:\tlearn: 3381172.2110927\ttest: 36901145.5259043\tbest: 36899715.5763071 (735)\ttotal: 47.9s\tremaining: 49.6s\n737:\tlearn: 3377825.2545025\ttest: 36900445.5533122\tbest: 36899715.5763071 (735)\ttotal: 48s\tremaining: 49.6s\n738:\tlearn: 3375976.7770214\ttest: 36898829.0425729\tbest: 36898829.0425729 (738)\ttotal: 48.1s\tremaining: 49.5s\n739:\tlearn: 3367286.7751839\ttest: 36895194.0242067\tbest: 36895194.0242067 (739)\ttotal: 48.2s\tremaining: 49.5s\n740:\tlearn: 3363968.3187729\ttest: 36895084.9765661\tbest: 36895084.9765661 (740)\ttotal: 48.2s\tremaining: 49.4s\n741:\tlearn: 3360241.5804365\ttest: 36889907.0466380\tbest: 36889907.0466380 (741)\ttotal: 48.3s\tremaining: 49.3s\n742:\tlearn: 3353444.1478339\ttest: 36890712.4633790\tbest: 36889907.0466380 (741)\ttotal: 48.4s\tremaining: 49.3s\n743:\tlearn: 3348987.4512507\ttest: 36890850.2307246\tbest: 36889907.0466380 (741)\ttotal: 48.4s\tremaining: 49.2s\n744:\tlearn: 3346008.2252655\ttest: 36889066.9642568\tbest: 36889066.9642568 (744)\ttotal: 48.5s\tremaining: 49.1s\n745:\tlearn: 3343758.6559239\ttest: 36889520.0928799\tbest: 36889066.9642568 (744)\ttotal: 48.5s\tremaining: 49.1s\n746:\tlearn: 3341905.2252222\ttest: 36888620.0907244\tbest: 36888620.0907244 (746)\ttotal: 48.6s\tremaining: 49s\n747:\tlearn: 3338921.3311156\ttest: 36886171.4483214\tbest: 36886171.4483214 (747)\ttotal: 48.6s\tremaining: 48.9s\n748:\tlearn: 3336706.4598752\ttest: 36885463.7130655\tbest: 36885463.7130655 (748)\ttotal: 48.7s\tremaining: 48.8s\n749:\tlearn: 3330087.8145806\ttest: 36883586.0410942\tbest: 36883586.0410942 (749)\ttotal: 48.7s\tremaining: 48.7s\n750:\tlearn: 3327425.4883673\ttest: 36883523.2169334\tbest: 36883523.2169334 (750)\ttotal: 48.8s\tremaining: 48.6s\n751:\tlearn: 3325931.0817912\ttest: 36883326.5929891\tbest: 36883326.5929891 (751)\ttotal: 48.8s\tremaining: 48.6s\n752:\tlearn: 3322273.7312265\ttest: 36883162.7268898\tbest: 36883162.7268898 (752)\ttotal: 48.9s\tremaining: 48.5s\n753:\tlearn: 3320285.4886118\ttest: 36882824.3088315\tbest: 36882824.3088315 (753)\ttotal: 48.9s\tremaining: 48.4s\n754:\tlearn: 3318527.3597805\ttest: 36881395.2587574\tbest: 36881395.2587574 (754)\ttotal: 49s\tremaining: 48.3s\n755:\tlearn: 3315692.4642804\ttest: 36880703.7105560\tbest: 36880703.7105560 (755)\ttotal: 49.1s\tremaining: 48.4s\n756:\tlearn: 3313184.4519229\ttest: 36881624.7600856\tbest: 36880703.7105560 (755)\ttotal: 49.2s\tremaining: 48.3s\n757:\tlearn: 3310832.1468933\ttest: 36881483.7963629\tbest: 36880703.7105560 (755)\ttotal: 49.3s\tremaining: 48.2s\n758:\tlearn: 3306622.7839597\ttest: 36882372.1667621\tbest: 36880703.7105560 (755)\ttotal: 49.3s\tremaining: 48.2s\n759:\tlearn: 3301107.8684630\ttest: 36882322.6610441\tbest: 36880703.7105560 (755)\ttotal: 49.4s\tremaining: 48.1s\n760:\tlearn: 3297461.3850456\ttest: 36882636.0158456\tbest: 36880703.7105560 (755)\ttotal: 49.5s\tremaining: 48s\n761:\tlearn: 3292447.4592721\ttest: 36883074.2870026\tbest: 36880703.7105560 (755)\ttotal: 49.5s\tremaining: 48s\n762:\tlearn: 3288029.2982935\ttest: 36882878.3244307\tbest: 36880703.7105560 (755)\ttotal: 49.6s\tremaining: 47.9s\n763:\tlearn: 3285477.7185488\ttest: 36881554.7710356\tbest: 36880703.7105560 (755)\ttotal: 49.6s\tremaining: 47.8s\n764:\tlearn: 3280994.2523039\ttest: 36881326.6671346\tbest: 36880703.7105560 (755)\ttotal: 49.7s\tremaining: 47.7s\n765:\tlearn: 3277312.0274934\ttest: 36881401.7961138\tbest: 36880703.7105560 (755)\ttotal: 49.7s\tremaining: 47.7s\n766:\tlearn: 3274069.1973190\ttest: 36881434.0847237\tbest: 36880703.7105560 (755)\ttotal: 49.8s\tremaining: 47.6s\n767:\tlearn: 3272431.9283883\ttest: 36881117.1933951\tbest: 36880703.7105560 (755)\ttotal: 49.9s\tremaining: 47.5s\n768:\tlearn: 3266786.9376250\ttest: 36884108.4702572\tbest: 36880703.7105560 (755)\ttotal: 50s\tremaining: 47.5s\n769:\tlearn: 3263807.4677271\ttest: 36884536.8672691\tbest: 36880703.7105560 (755)\ttotal: 50.1s\tremaining: 47.5s\n770:\tlearn: 3261806.0083385\ttest: 36884808.1799708\tbest: 36880703.7105560 (755)\ttotal: 50.1s\tremaining: 47.4s\n771:\tlearn: 3260042.7478091\ttest: 36880340.5620019\tbest: 36880340.5620019 (771)\ttotal: 50.2s\tremaining: 47.3s\n772:\tlearn: 3257160.5929660\ttest: 36880073.7767826\tbest: 36880073.7767826 (772)\ttotal: 50.3s\tremaining: 47.3s\n773:\tlearn: 3254044.4233756\ttest: 36880064.1771741\tbest: 36880064.1771741 (773)\ttotal: 50.4s\tremaining: 47.3s\n774:\tlearn: 3250763.9275259\ttest: 36876405.4498606\tbest: 36876405.4498606 (774)\ttotal: 50.5s\tremaining: 47.2s\n775:\tlearn: 3246531.5647033\ttest: 36875400.9008101\tbest: 36875400.9008101 (775)\ttotal: 50.5s\tremaining: 47.2s\n776:\tlearn: 3242911.1257764\ttest: 36873599.9746387\tbest: 36873599.9746387 (776)\ttotal: 50.6s\tremaining: 47.1s\n777:\tlearn: 3239057.6102337\ttest: 36874761.5415193\tbest: 36873599.9746387 (776)\ttotal: 50.7s\tremaining: 47s\n778:\tlearn: 3234918.6577578\ttest: 36874621.7817698\tbest: 36873599.9746387 (776)\ttotal: 50.7s\tremaining: 47s\n779:\tlearn: 3232579.8726024\ttest: 36874780.1281465\tbest: 36873599.9746387 (776)\ttotal: 50.8s\tremaining: 46.9s\n780:\tlearn: 3230111.1923373\ttest: 36874399.3339474\tbest: 36873599.9746387 (776)\ttotal: 50.9s\tremaining: 46.8s\n781:\tlearn: 3227016.2559736\ttest: 36874190.7903819\tbest: 36873599.9746387 (776)\ttotal: 50.9s\tremaining: 46.8s\n782:\tlearn: 3224038.9549622\ttest: 36874560.9195521\tbest: 36873599.9746387 (776)\ttotal: 51s\tremaining: 46.7s\n783:\tlearn: 3221874.8813324\ttest: 36876657.4549455\tbest: 36873599.9746387 (776)\ttotal: 51.1s\tremaining: 46.6s\n784:\tlearn: 3219733.5423489\ttest: 36877699.2723951\tbest: 36873599.9746387 (776)\ttotal: 51.1s\tremaining: 46.6s\n785:\tlearn: 3217882.1196332\ttest: 36878216.6699362\tbest: 36873599.9746387 (776)\ttotal: 51.2s\tremaining: 46.5s\n786:\tlearn: 3216016.6932832\ttest: 36878451.6985256\tbest: 36873599.9746387 (776)\ttotal: 51.3s\tremaining: 46.4s\n787:\tlearn: 3208772.2231225\ttest: 36875839.8829963\tbest: 36873599.9746387 (776)\ttotal: 51.3s\tremaining: 46.4s\n788:\tlearn: 3205083.5003297\ttest: 36876334.3609500\tbest: 36873599.9746387 (776)\ttotal: 51.5s\tremaining: 46.4s\n789:\tlearn: 3201481.1075670\ttest: 36876037.0675443\tbest: 36873599.9746387 (776)\ttotal: 51.6s\tremaining: 46.3s\n790:\tlearn: 3196257.6319896\ttest: 36862236.8757949\tbest: 36862236.8757949 (790)\ttotal: 51.6s\tremaining: 46.3s\n791:\tlearn: 3194037.9277691\ttest: 36862834.7378914\tbest: 36862236.8757949 (790)\ttotal: 51.7s\tremaining: 46.2s\n792:\tlearn: 3192298.7502445\ttest: 36863306.1357453\tbest: 36862236.8757949 (790)\ttotal: 51.8s\tremaining: 46.1s\n793:\tlearn: 3190252.5845690\ttest: 36862526.1922763\tbest: 36862236.8757949 (790)\ttotal: 51.8s\tremaining: 46.1s\n794:\tlearn: 3190026.7493123\ttest: 36862516.5678985\tbest: 36862236.8757949 (790)\ttotal: 51.9s\tremaining: 46s\n795:\tlearn: 3188998.2757218\ttest: 36862340.0501645\tbest: 36862236.8757949 (790)\ttotal: 51.9s\tremaining: 45.9s\n796:\tlearn: 3185975.2509652\ttest: 36859922.2083679\tbest: 36859922.2083679 (796)\ttotal: 52s\tremaining: 45.8s\n797:\tlearn: 3182938.5799983\ttest: 36859728.9070704\tbest: 36859728.9070704 (797)\ttotal: 52s\tremaining: 45.8s\n798:\tlearn: 3180240.9693079\ttest: 36860003.7358029\tbest: 36859728.9070704 (797)\ttotal: 52.1s\tremaining: 45.7s\n799:\tlearn: 3177870.5059674\ttest: 36861909.0000310\tbest: 36859728.9070704 (797)\ttotal: 52.2s\tremaining: 45.6s\n800:\tlearn: 3176223.5551288\ttest: 36861332.3626346\tbest: 36859728.9070704 (797)\ttotal: 52.2s\tremaining: 45.6s\n801:\tlearn: 3176024.0592679\ttest: 36861425.2404304\tbest: 36859728.9070704 (797)\ttotal: 52.3s\tremaining: 45.5s\n802:\tlearn: 3174838.7057016\ttest: 36861670.1781527\tbest: 36859728.9070704 (797)\ttotal: 52.3s\tremaining: 45.4s\n803:\tlearn: 3169593.0488548\ttest: 36865384.6048461\tbest: 36859728.9070704 (797)\ttotal: 52.4s\tremaining: 45.4s\n804:\tlearn: 3167499.5261670\ttest: 36864857.4835976\tbest: 36859728.9070704 (797)\ttotal: 52.4s\tremaining: 45.3s\n805:\tlearn: 3164786.6101839\ttest: 36864444.4781635\tbest: 36859728.9070704 (797)\ttotal: 52.5s\tremaining: 45.2s\n806:\tlearn: 3160364.6617854\ttest: 36864245.1499478\tbest: 36859728.9070704 (797)\ttotal: 52.5s\tremaining: 45.1s\n807:\tlearn: 3156320.0249676\ttest: 36862813.9268757\tbest: 36859728.9070704 (797)\ttotal: 52.7s\tremaining: 45.1s\n808:\tlearn: 3154767.4604013\ttest: 36862734.3894912\tbest: 36859728.9070704 (797)\ttotal: 52.7s\tremaining: 45s\n809:\tlearn: 3149229.3742217\ttest: 36864456.0170231\tbest: 36859728.9070704 (797)\ttotal: 52.8s\tremaining: 45s\n810:\tlearn: 3145611.2636403\ttest: 36863392.7583584\tbest: 36859728.9070704 (797)\ttotal: 52.8s\tremaining: 44.9s\n811:\tlearn: 3140183.6862974\ttest: 36862367.9093520\tbest: 36859728.9070704 (797)\ttotal: 52.9s\tremaining: 44.8s\n812:\tlearn: 3137286.7962040\ttest: 36863803.2243300\tbest: 36859728.9070704 (797)\ttotal: 53s\tremaining: 44.8s\n813:\tlearn: 3130713.5690838\ttest: 36861937.9060095\tbest: 36859728.9070704 (797)\ttotal: 53s\tremaining: 44.7s\n814:\tlearn: 3126817.1963835\ttest: 36861233.5124087\tbest: 36859728.9070704 (797)\ttotal: 53.1s\tremaining: 44.6s\n815:\tlearn: 3122599.6565985\ttest: 36860815.3940026\tbest: 36859728.9070704 (797)\ttotal: 53.2s\tremaining: 44.6s\n816:\tlearn: 3119550.3706379\ttest: 36860360.5098463\tbest: 36859728.9070704 (797)\ttotal: 53.2s\tremaining: 44.5s\n817:\tlearn: 3118102.7252747\ttest: 36859357.9192350\tbest: 36859357.9192350 (817)\ttotal: 53.3s\tremaining: 44.4s\n818:\tlearn: 3116343.1535199\ttest: 36859386.2873076\tbest: 36859357.9192350 (817)\ttotal: 53.4s\tremaining: 44.4s\n819:\tlearn: 3115653.0952985\ttest: 36859587.1994650\tbest: 36859357.9192350 (817)\ttotal: 53.4s\tremaining: 44.3s\n820:\tlearn: 3113429.5374947\ttest: 36858961.7249299\tbest: 36858961.7249299 (820)\ttotal: 53.5s\tremaining: 44.2s\n821:\tlearn: 3110535.6008522\ttest: 36861001.8220306\tbest: 36858961.7249299 (820)\ttotal: 53.5s\tremaining: 44.2s\n822:\tlearn: 3108540.7359286\ttest: 36861006.5097404\tbest: 36858961.7249299 (820)\ttotal: 53.6s\tremaining: 44.1s\n823:\tlearn: 3107243.9841955\ttest: 36862136.2804169\tbest: 36858961.7249299 (820)\ttotal: 53.7s\tremaining: 44s\n824:\tlearn: 3105920.3069523\ttest: 36862597.1528900\tbest: 36858961.7249299 (820)\ttotal: 53.8s\tremaining: 44s\n825:\tlearn: 3104480.2541273\ttest: 36864812.8014283\tbest: 36858961.7249299 (820)\ttotal: 53.8s\tremaining: 43.9s\n826:\tlearn: 3100617.1396969\ttest: 36865212.1150840\tbest: 36858961.7249299 (820)\ttotal: 53.9s\tremaining: 43.9s\n827:\tlearn: 3096092.3624150\ttest: 36861660.4604554\tbest: 36858961.7249299 (820)\ttotal: 54s\tremaining: 43.8s\n828:\tlearn: 3093591.5429382\ttest: 36861333.5004553\tbest: 36858961.7249299 (820)\ttotal: 54s\tremaining: 43.7s\n829:\tlearn: 3091480.4569186\ttest: 36860679.5450365\tbest: 36858961.7249299 (820)\ttotal: 54.1s\tremaining: 43.7s\n830:\tlearn: 3085867.6857180\ttest: 36860934.6454250\tbest: 36858961.7249299 (820)\ttotal: 54.2s\tremaining: 43.6s\n831:\tlearn: 3079248.5796807\ttest: 36860565.6095048\tbest: 36858961.7249299 (820)\ttotal: 54.2s\tremaining: 43.6s\n832:\tlearn: 3074980.9469231\ttest: 36861516.1592713\tbest: 36858961.7249299 (820)\ttotal: 54.3s\tremaining: 43.5s\n833:\tlearn: 3074486.0822965\ttest: 36861610.1560241\tbest: 36858961.7249299 (820)\ttotal: 54.4s\tremaining: 43.4s\n834:\tlearn: 3070970.7316541\ttest: 36861992.1816895\tbest: 36858961.7249299 (820)\ttotal: 54.4s\tremaining: 43.4s\n835:\tlearn: 3067696.6594666\ttest: 36863217.2360762\tbest: 36858961.7249299 (820)\ttotal: 54.5s\tremaining: 43.3s\n836:\tlearn: 3064668.7542639\ttest: 36861866.6878525\tbest: 36858961.7249299 (820)\ttotal: 54.5s\tremaining: 43.2s\n837:\tlearn: 3062818.3446562\ttest: 36861171.8438692\tbest: 36858961.7249299 (820)\ttotal: 54.6s\tremaining: 43.1s\n838:\tlearn: 3062808.0146793\ttest: 36861155.0306147\tbest: 36858961.7249299 (820)\ttotal: 54.6s\tremaining: 43.1s\n839:\tlearn: 3057755.9318397\ttest: 36853449.0402073\tbest: 36853449.0402073 (839)\ttotal: 54.7s\tremaining: 43s\n840:\tlearn: 3056811.2403866\ttest: 36853914.9511321\tbest: 36853449.0402073 (839)\ttotal: 54.8s\tremaining: 42.9s\n841:\tlearn: 3053142.2955343\ttest: 36855741.9610475\tbest: 36853449.0402073 (839)\ttotal: 54.9s\tremaining: 42.9s\n842:\tlearn: 3050264.6465753\ttest: 36856056.9403498\tbest: 36853449.0402073 (839)\ttotal: 54.9s\tremaining: 42.8s\n843:\tlearn: 3047253.2861432\ttest: 36857285.6189382\tbest: 36853449.0402073 (839)\ttotal: 55s\tremaining: 42.7s\n844:\tlearn: 3045334.1790312\ttest: 36858961.9486893\tbest: 36853449.0402073 (839)\ttotal: 55s\tremaining: 42.7s\n845:\tlearn: 3040312.7369523\ttest: 36860465.6072837\tbest: 36853449.0402073 (839)\ttotal: 55.1s\tremaining: 42.6s\n846:\tlearn: 3037611.7319064\ttest: 36860935.2848456\tbest: 36853449.0402073 (839)\ttotal: 55.2s\tremaining: 42.6s\n847:\tlearn: 3035429.8138146\ttest: 36861967.2407788\tbest: 36853449.0402073 (839)\ttotal: 55.2s\tremaining: 42.5s\n848:\tlearn: 3031164.7756168\ttest: 36861630.9763042\tbest: 36853449.0402073 (839)\ttotal: 55.3s\tremaining: 42.4s\n849:\tlearn: 3029065.7955545\ttest: 36861591.4751490\tbest: 36853449.0402073 (839)\ttotal: 55.4s\tremaining: 42.4s\n850:\tlearn: 3027536.7851402\ttest: 36861861.9612426\tbest: 36853449.0402073 (839)\ttotal: 55.4s\tremaining: 42.3s\n851:\tlearn: 3024592.3785867\ttest: 36861239.3363387\tbest: 36853449.0402073 (839)\ttotal: 55.5s\tremaining: 42.2s\n852:\tlearn: 3021890.3146309\ttest: 36869001.3840471\tbest: 36853449.0402073 (839)\ttotal: 55.5s\tremaining: 42.1s\n853:\tlearn: 3019825.2348235\ttest: 36868240.0781887\tbest: 36853449.0402073 (839)\ttotal: 55.6s\tremaining: 42.1s\n854:\tlearn: 3017211.4734354\ttest: 36868077.3763573\tbest: 36853449.0402073 (839)\ttotal: 55.7s\tremaining: 42s\n855:\tlearn: 3015017.0554813\ttest: 36867727.6335363\tbest: 36853449.0402073 (839)\ttotal: 55.7s\tremaining: 41.9s\n856:\tlearn: 3012449.3772036\ttest: 36868315.7726279\tbest: 36853449.0402073 (839)\ttotal: 55.8s\tremaining: 41.9s\n857:\tlearn: 3009395.7720888\ttest: 36868414.1821030\tbest: 36853449.0402073 (839)\ttotal: 55.9s\tremaining: 41.8s\n858:\tlearn: 3008406.0458663\ttest: 36868687.7378748\tbest: 36853449.0402073 (839)\ttotal: 56s\tremaining: 41.8s\n859:\tlearn: 3006627.1626506\ttest: 36868682.1390906\tbest: 36853449.0402073 (839)\ttotal: 56.1s\tremaining: 41.8s\n860:\tlearn: 3002096.1781077\ttest: 36863307.0970694\tbest: 36853449.0402073 (839)\ttotal: 56.2s\tremaining: 41.7s\n861:\tlearn: 3000216.1703145\ttest: 36863327.5623438\tbest: 36853449.0402073 (839)\ttotal: 56.2s\tremaining: 41.6s\n862:\tlearn: 2995010.1364248\ttest: 36865471.6663117\tbest: 36853449.0402073 (839)\ttotal: 56.3s\tremaining: 41.6s\n863:\tlearn: 2991500.8222981\ttest: 36864197.4840777\tbest: 36853449.0402073 (839)\ttotal: 56.4s\tremaining: 41.5s\n864:\tlearn: 2989869.6760305\ttest: 36864163.0831177\tbest: 36853449.0402073 (839)\ttotal: 56.4s\tremaining: 41.4s\n865:\tlearn: 2987282.4871992\ttest: 36864472.4286761\tbest: 36853449.0402073 (839)\ttotal: 56.5s\tremaining: 41.4s\n866:\tlearn: 2984809.5115558\ttest: 36865474.7381087\tbest: 36853449.0402073 (839)\ttotal: 56.6s\tremaining: 41.3s\n867:\tlearn: 2980915.8623707\ttest: 36864483.9766966\tbest: 36853449.0402073 (839)\ttotal: 56.6s\tremaining: 41.2s\n868:\tlearn: 2978676.4629612\ttest: 36864395.9503926\tbest: 36853449.0402073 (839)\ttotal: 56.7s\tremaining: 41.2s\n869:\tlearn: 2975088.4647988\ttest: 36863607.8598780\tbest: 36853449.0402073 (839)\ttotal: 56.7s\tremaining: 41.1s\n870:\tlearn: 2973234.9985934\ttest: 36863703.5375120\tbest: 36853449.0402073 (839)\ttotal: 56.8s\tremaining: 41s\n871:\tlearn: 2971080.7118822\ttest: 36863642.7029654\tbest: 36853449.0402073 (839)\ttotal: 56.9s\tremaining: 41s\n872:\tlearn: 2966235.2409862\ttest: 36863276.1151318\tbest: 36853449.0402073 (839)\ttotal: 56.9s\tremaining: 40.9s\n873:\tlearn: 2961713.7121180\ttest: 36863209.5591724\tbest: 36853449.0402073 (839)\ttotal: 57s\tremaining: 40.8s\n874:\tlearn: 2958500.7963076\ttest: 36863305.0318900\tbest: 36853449.0402073 (839)\ttotal: 57s\tremaining: 40.7s\n875:\tlearn: 2956758.1811158\ttest: 36863615.6370660\tbest: 36853449.0402073 (839)\ttotal: 57.1s\tremaining: 40.7s\n876:\tlearn: 2955776.6841759\ttest: 36863690.1208161\tbest: 36853449.0402073 (839)\ttotal: 57.2s\tremaining: 40.6s\n877:\tlearn: 2951650.0195840\ttest: 36863289.2677770\tbest: 36853449.0402073 (839)\ttotal: 57.3s\tremaining: 40.6s\n878:\tlearn: 2949673.2972389\ttest: 36864535.6316736\tbest: 36853449.0402073 (839)\ttotal: 57.3s\tremaining: 40.5s\n879:\tlearn: 2948138.1621622\ttest: 36863875.4427667\tbest: 36853449.0402073 (839)\ttotal: 57.4s\tremaining: 40.4s\n880:\tlearn: 2943515.8741002\ttest: 36872187.1672620\tbest: 36853449.0402073 (839)\ttotal: 57.4s\tremaining: 40.4s\n881:\tlearn: 2939523.4885150\ttest: 36872674.0211555\tbest: 36853449.0402073 (839)\ttotal: 57.5s\tremaining: 40.3s\n882:\tlearn: 2938660.4770030\ttest: 36872757.5441109\tbest: 36853449.0402073 (839)\ttotal: 57.6s\tremaining: 40.2s\n883:\tlearn: 2935195.2581858\ttest: 36872175.1982929\tbest: 36853449.0402073 (839)\ttotal: 57.6s\tremaining: 40.1s\n884:\tlearn: 2933549.2256974\ttest: 36873728.6066856\tbest: 36853449.0402073 (839)\ttotal: 57.7s\tremaining: 40.1s\n885:\tlearn: 2931002.6804148\ttest: 36875742.8952748\tbest: 36853449.0402073 (839)\ttotal: 57.8s\tremaining: 40s\n886:\tlearn: 2928279.6274166\ttest: 36875353.4032601\tbest: 36853449.0402073 (839)\ttotal: 57.8s\tremaining: 39.9s\n887:\tlearn: 2927393.4633801\ttest: 36875077.0992170\tbest: 36853449.0402073 (839)\ttotal: 57.9s\tremaining: 39.9s\n888:\tlearn: 2924519.7040530\ttest: 36874663.8418937\tbest: 36853449.0402073 (839)\ttotal: 58s\tremaining: 39.8s\n889:\tlearn: 2922735.6882532\ttest: 36874599.1345685\tbest: 36853449.0402073 (839)\ttotal: 58s\tremaining: 39.8s\n890:\tlearn: 2920502.3368268\ttest: 36873966.2420797\tbest: 36853449.0402073 (839)\ttotal: 58.1s\tremaining: 39.7s\n891:\tlearn: 2918293.9343729\ttest: 36874244.8093579\tbest: 36853449.0402073 (839)\ttotal: 58.2s\tremaining: 39.7s\n892:\tlearn: 2916353.1890105\ttest: 36873266.9763451\tbest: 36853449.0402073 (839)\ttotal: 58.3s\tremaining: 39.7s\n893:\tlearn: 2912518.6145004\ttest: 36871037.5471803\tbest: 36853449.0402073 (839)\ttotal: 58.4s\tremaining: 39.6s\n894:\tlearn: 2908387.5967560\ttest: 36871481.4591644\tbest: 36853449.0402073 (839)\ttotal: 58.5s\tremaining: 39.5s\n895:\tlearn: 2906070.1076233\ttest: 36871086.1485391\tbest: 36853449.0402073 (839)\ttotal: 58.5s\tremaining: 39.4s\n896:\tlearn: 2904012.3168249\ttest: 36870243.4978096\tbest: 36853449.0402073 (839)\ttotal: 58.5s\tremaining: 39.4s\n897:\tlearn: 2902363.8298595\ttest: 36870176.0105946\tbest: 36853449.0402073 (839)\ttotal: 58.6s\tremaining: 39.3s\n898:\tlearn: 2900453.4682274\ttest: 36870130.1350430\tbest: 36853449.0402073 (839)\ttotal: 58.7s\tremaining: 39.2s\n899:\tlearn: 2896589.8954988\ttest: 36869233.5805891\tbest: 36853449.0402073 (839)\ttotal: 58.7s\tremaining: 39.2s\n900:\tlearn: 2894053.3077114\ttest: 36869256.7844290\tbest: 36853449.0402073 (839)\ttotal: 58.8s\tremaining: 39.1s\n901:\tlearn: 2892486.5256728\ttest: 36868976.2268395\tbest: 36853449.0402073 (839)\ttotal: 58.9s\tremaining: 39s\n902:\tlearn: 2889360.5845960\ttest: 36868313.3057246\tbest: 36853449.0402073 (839)\ttotal: 59s\tremaining: 39s\n903:\tlearn: 2887848.8562684\ttest: 36868041.6899412\tbest: 36853449.0402073 (839)\ttotal: 59s\tremaining: 38.9s\n904:\tlearn: 2885623.0406042\ttest: 36867921.4599921\tbest: 36853449.0402073 (839)\ttotal: 59.1s\tremaining: 38.8s\n905:\tlearn: 2884856.1298060\ttest: 36867764.1949019\tbest: 36853449.0402073 (839)\ttotal: 59.1s\tremaining: 38.8s\n906:\tlearn: 2883525.7311090\ttest: 36867478.0419887\tbest: 36853449.0402073 (839)\ttotal: 59.2s\tremaining: 38.7s\n907:\tlearn: 2882242.4705427\ttest: 36867666.4414324\tbest: 36853449.0402073 (839)\ttotal: 59.2s\tremaining: 38.6s\n908:\tlearn: 2879888.4034901\ttest: 36867117.7512825\tbest: 36853449.0402073 (839)\ttotal: 59.3s\tremaining: 38.6s\n909:\tlearn: 2876106.3267394\ttest: 36865694.5085829\tbest: 36853449.0402073 (839)\ttotal: 59.4s\tremaining: 38.5s\n910:\tlearn: 2876040.0657997\ttest: 36865834.4964755\tbest: 36853449.0402073 (839)\ttotal: 59.5s\tremaining: 38.5s\n911:\tlearn: 2873791.9250416\ttest: 36865518.2295146\tbest: 36853449.0402073 (839)\ttotal: 59.7s\tremaining: 38.5s\n912:\tlearn: 2869498.0219133\ttest: 36865226.7787862\tbest: 36853449.0402073 (839)\ttotal: 59.8s\tremaining: 38.4s\n913:\tlearn: 2865956.3008271\ttest: 36864953.4151875\tbest: 36853449.0402073 (839)\ttotal: 59.9s\tremaining: 38.4s\n914:\tlearn: 2864811.2031041\ttest: 36865421.2073009\tbest: 36853449.0402073 (839)\ttotal: 59.9s\tremaining: 38.3s\n915:\tlearn: 2863389.2228953\ttest: 36865257.8163442\tbest: 36853449.0402073 (839)\ttotal: 60s\tremaining: 38.3s\n916:\tlearn: 2861763.4596156\ttest: 36864721.5560772\tbest: 36853449.0402073 (839)\ttotal: 1m\tremaining: 38.2s\n917:\tlearn: 2859377.8487883\ttest: 36864766.1119667\tbest: 36853449.0402073 (839)\ttotal: 1m\tremaining: 38.1s\n918:\tlearn: 2857179.6916003\ttest: 36864045.9753783\tbest: 36853449.0402073 (839)\ttotal: 1m\tremaining: 38s\n919:\tlearn: 2854914.1994971\ttest: 36866655.7792853\tbest: 36853449.0402073 (839)\ttotal: 1m\tremaining: 38s\n920:\tlearn: 2854104.7695842\ttest: 36867883.4063947\tbest: 36853449.0402073 (839)\ttotal: 1m\tremaining: 37.9s\n921:\tlearn: 2853736.3516588\ttest: 36867540.9250156\tbest: 36853449.0402073 (839)\ttotal: 1m\tremaining: 37.8s\n922:\tlearn: 2852026.9868654\ttest: 36867230.0044973\tbest: 36853449.0402073 (839)\ttotal: 1m\tremaining: 37.8s\n923:\tlearn: 2851000.2811495\ttest: 36866181.4848248\tbest: 36853449.0402073 (839)\ttotal: 1m\tremaining: 37.7s\n924:\tlearn: 2849208.0551800\ttest: 36869440.4942369\tbest: 36853449.0402073 (839)\ttotal: 1m\tremaining: 37.6s\n925:\tlearn: 2849075.4900933\ttest: 36869250.0539265\tbest: 36853449.0402073 (839)\ttotal: 1m\tremaining: 37.6s\n926:\tlearn: 2848902.8065492\ttest: 36871113.3629745\tbest: 36853449.0402073 (839)\ttotal: 1m\tremaining: 37.5s\n927:\tlearn: 2847129.8991577\ttest: 36871044.1401845\tbest: 36853449.0402073 (839)\ttotal: 1m\tremaining: 37.4s\n928:\tlearn: 2844651.6741593\ttest: 36870839.9395588\tbest: 36853449.0402073 (839)\ttotal: 1m\tremaining: 37.5s\n929:\tlearn: 2842606.7176817\ttest: 36869247.2183904\tbest: 36853449.0402073 (839)\ttotal: 1m 1s\tremaining: 37.4s\n930:\tlearn: 2841039.6021286\ttest: 36870008.2280512\tbest: 36853449.0402073 (839)\ttotal: 1m 1s\tremaining: 37.4s\n931:\tlearn: 2837109.4470682\ttest: 36866402.6968011\tbest: 36853449.0402073 (839)\ttotal: 1m 1s\tremaining: 37.3s\n932:\tlearn: 2834007.0151940\ttest: 36864331.5675629\tbest: 36853449.0402073 (839)\ttotal: 1m 1s\tremaining: 37.3s\n933:\tlearn: 2833003.8927930\ttest: 36865180.8303748\tbest: 36853449.0402073 (839)\ttotal: 1m 1s\tremaining: 37.2s\n934:\tlearn: 2829827.3581310\ttest: 36866294.7593974\tbest: 36853449.0402073 (839)\ttotal: 1m 1s\tremaining: 37.2s\n935:\tlearn: 2825795.8195609\ttest: 36863626.0747064\tbest: 36853449.0402073 (839)\ttotal: 1m 1s\tremaining: 37.2s\n936:\tlearn: 2821751.5861590\ttest: 36862752.4253519\tbest: 36853449.0402073 (839)\ttotal: 1m 1s\tremaining: 37.1s\n937:\tlearn: 2819778.4939789\ttest: 36861837.8531775\tbest: 36853449.0402073 (839)\ttotal: 1m 1s\tremaining: 37s\n938:\tlearn: 2817449.5136206\ttest: 36861739.6703410\tbest: 36853449.0402073 (839)\ttotal: 1m 1s\tremaining: 37s\n939:\tlearn: 2817000.1374881\ttest: 36861479.7292748\tbest: 36853449.0402073 (839)\ttotal: 1m 1s\tremaining: 36.9s\n940:\tlearn: 2815501.0499022\ttest: 36861656.4708122\tbest: 36853449.0402073 (839)\ttotal: 1m 2s\tremaining: 36.9s\n941:\tlearn: 2811389.7681988\ttest: 36861521.1997749\tbest: 36853449.0402073 (839)\ttotal: 1m 2s\tremaining: 36.8s\n942:\tlearn: 2809156.4844956\ttest: 36861991.5900199\tbest: 36853449.0402073 (839)\ttotal: 1m 2s\tremaining: 36.7s\n943:\tlearn: 2807451.1705390\ttest: 36860194.4514969\tbest: 36853449.0402073 (839)\ttotal: 1m 2s\tremaining: 36.6s\n944:\tlearn: 2805610.7103417\ttest: 36860897.6926870\tbest: 36853449.0402073 (839)\ttotal: 1m 2s\tremaining: 36.6s\n945:\tlearn: 2802705.6944645\ttest: 36860345.4711804\tbest: 36853449.0402073 (839)\ttotal: 1m 2s\tremaining: 36.5s\n946:\tlearn: 2799422.3896561\ttest: 36860060.4448335\tbest: 36853449.0402073 (839)\ttotal: 1m 2s\tremaining: 36.5s\n947:\tlearn: 2798763.5794513\ttest: 36858771.3549346\tbest: 36853449.0402073 (839)\ttotal: 1m 2s\tremaining: 36.4s\n948:\tlearn: 2798180.4501715\ttest: 36859769.7755320\tbest: 36853449.0402073 (839)\ttotal: 1m 2s\tremaining: 36.3s\n949:\tlearn: 2796717.3676957\ttest: 36858140.7547658\tbest: 36853449.0402073 (839)\ttotal: 1m 2s\tremaining: 36.3s\n950:\tlearn: 2795349.1350712\ttest: 36858781.8313137\tbest: 36853449.0402073 (839)\ttotal: 1m 2s\tremaining: 36.2s\n951:\tlearn: 2794546.2084570\ttest: 36858799.4159038\tbest: 36853449.0402073 (839)\ttotal: 1m 2s\tremaining: 36.1s\n952:\tlearn: 2792273.5587400\ttest: 36858307.8102803\tbest: 36853449.0402073 (839)\ttotal: 1m 2s\tremaining: 36.1s\n953:\tlearn: 2790738.5490330\ttest: 36858252.0936763\tbest: 36853449.0402073 (839)\ttotal: 1m 2s\tremaining: 36s\n954:\tlearn: 2787901.2974593\ttest: 36858458.0480131\tbest: 36853449.0402073 (839)\ttotal: 1m 2s\tremaining: 35.9s\n955:\tlearn: 2784212.1056498\ttest: 36861741.9875050\tbest: 36853449.0402073 (839)\ttotal: 1m 2s\tremaining: 35.8s\n956:\tlearn: 2782861.2384522\ttest: 36862322.7299700\tbest: 36853449.0402073 (839)\ttotal: 1m 3s\tremaining: 35.8s\n957:\tlearn: 2780863.1512948\ttest: 36862247.9303138\tbest: 36853449.0402073 (839)\ttotal: 1m 3s\tremaining: 35.7s\n958:\tlearn: 2778084.6354104\ttest: 36861464.3336669\tbest: 36853449.0402073 (839)\ttotal: 1m 3s\tremaining: 35.6s\n959:\tlearn: 2773233.2301419\ttest: 36861800.8363068\tbest: 36853449.0402073 (839)\ttotal: 1m 3s\tremaining: 35.5s\n960:\tlearn: 2770764.5252428\ttest: 36860935.4517293\tbest: 36853449.0402073 (839)\ttotal: 1m 3s\tremaining: 35.5s\n961:\tlearn: 2768260.0089780\ttest: 36861237.3579369\tbest: 36853449.0402073 (839)\ttotal: 1m 3s\tremaining: 35.4s\n962:\tlearn: 2767514.6593179\ttest: 36861578.8072893\tbest: 36853449.0402073 (839)\ttotal: 1m 3s\tremaining: 35.3s\n963:\tlearn: 2762302.0148635\ttest: 36858374.2269196\tbest: 36853449.0402073 (839)\ttotal: 1m 3s\tremaining: 35.3s\n964:\tlearn: 2760057.7221812\ttest: 36859061.1321446\tbest: 36853449.0402073 (839)\ttotal: 1m 3s\tremaining: 35.2s\n965:\tlearn: 2758363.8810612\ttest: 36858872.3428336\tbest: 36853449.0402073 (839)\ttotal: 1m 3s\tremaining: 35.1s\n966:\tlearn: 2754171.3325233\ttest: 36858594.0234785\tbest: 36853449.0402073 (839)\ttotal: 1m 3s\tremaining: 35.1s\n967:\tlearn: 2753286.0609550\ttest: 36856345.9355642\tbest: 36853449.0402073 (839)\ttotal: 1m 3s\tremaining: 35.1s\n968:\tlearn: 2751235.6200128\ttest: 36853679.3484251\tbest: 36853449.0402073 (839)\ttotal: 1m 3s\tremaining: 35s\n969:\tlearn: 2746953.1046888\ttest: 36853359.6663205\tbest: 36853359.6663205 (969)\ttotal: 1m 3s\tremaining: 34.9s\n970:\tlearn: 2744480.8222580\ttest: 36854289.3696573\tbest: 36853359.6663205 (969)\ttotal: 1m 3s\tremaining: 34.9s\n971:\tlearn: 2744326.6344660\ttest: 36854308.1297383\tbest: 36853359.6663205 (969)\ttotal: 1m 4s\tremaining: 34.8s\n972:\tlearn: 2742851.3291838\ttest: 36854765.6253249\tbest: 36853359.6663205 (969)\ttotal: 1m 4s\tremaining: 34.7s\n973:\tlearn: 2741652.8973376\ttest: 36854260.5339996\tbest: 36853359.6663205 (969)\ttotal: 1m 4s\tremaining: 34.7s\n974:\tlearn: 2739871.6279502\ttest: 36854289.4076058\tbest: 36853359.6663205 (969)\ttotal: 1m 4s\tremaining: 34.6s\n975:\tlearn: 2737747.3733102\ttest: 36855632.9935333\tbest: 36853359.6663205 (969)\ttotal: 1m 4s\tremaining: 34.5s\n976:\tlearn: 2735625.5585294\ttest: 36856524.4232108\tbest: 36853359.6663205 (969)\ttotal: 1m 4s\tremaining: 34.5s\n977:\tlearn: 2733585.0172033\ttest: 36856122.0794456\tbest: 36853359.6663205 (969)\ttotal: 1m 4s\tremaining: 34.4s\n978:\tlearn: 2732137.7663987\ttest: 36856141.0916497\tbest: 36853359.6663205 (969)\ttotal: 1m 4s\tremaining: 34.3s\n979:\tlearn: 2727724.9096440\ttest: 36856311.3748738\tbest: 36853359.6663205 (969)\ttotal: 1m 4s\tremaining: 34.3s\n980:\tlearn: 2726518.3269909\ttest: 36856652.6301089\tbest: 36853359.6663205 (969)\ttotal: 1m 4s\tremaining: 34.2s\n981:\tlearn: 2724752.9743176\ttest: 36856440.2075706\tbest: 36853359.6663205 (969)\ttotal: 1m 4s\tremaining: 34.2s\n982:\tlearn: 2720896.1513359\ttest: 36855623.7924946\tbest: 36853359.6663205 (969)\ttotal: 1m 4s\tremaining: 34.1s\n983:\tlearn: 2719030.0163018\ttest: 36855416.3179960\tbest: 36853359.6663205 (969)\ttotal: 1m 5s\tremaining: 34.1s\n984:\tlearn: 2717222.8463563\ttest: 36855307.5475962\tbest: 36853359.6663205 (969)\ttotal: 1m 5s\tremaining: 34s\n985:\tlearn: 2715253.7798148\ttest: 36855066.5870456\tbest: 36853359.6663205 (969)\ttotal: 1m 5s\tremaining: 34s\n986:\tlearn: 2713552.7519215\ttest: 36853666.8306994\tbest: 36853359.6663205 (969)\ttotal: 1m 5s\tremaining: 33.9s\n987:\tlearn: 2710887.9852224\ttest: 36853874.8898659\tbest: 36853359.6663205 (969)\ttotal: 1m 5s\tremaining: 33.8s\n988:\tlearn: 2709156.6911471\ttest: 36854109.7260152\tbest: 36853359.6663205 (969)\ttotal: 1m 5s\tremaining: 33.8s\n989:\tlearn: 2708328.0218618\ttest: 36854631.0234809\tbest: 36853359.6663205 (969)\ttotal: 1m 5s\tremaining: 33.7s\n990:\tlearn: 2702614.5403542\ttest: 36856614.4040433\tbest: 36853359.6663205 (969)\ttotal: 1m 5s\tremaining: 33.6s\n991:\tlearn: 2699285.0532197\ttest: 36856313.1012729\tbest: 36853359.6663205 (969)\ttotal: 1m 5s\tremaining: 33.6s\n992:\tlearn: 2696522.0244999\ttest: 36854910.7300193\tbest: 36853359.6663205 (969)\ttotal: 1m 5s\tremaining: 33.5s\n993:\tlearn: 2692373.3187406\ttest: 36857140.8085091\tbest: 36853359.6663205 (969)\ttotal: 1m 5s\tremaining: 33.4s\n994:\tlearn: 2690083.0335371\ttest: 36855915.0188506\tbest: 36853359.6663205 (969)\ttotal: 1m 5s\tremaining: 33.4s\n995:\tlearn: 2688646.7318118\ttest: 36855935.8945258\tbest: 36853359.6663205 (969)\ttotal: 1m 5s\tremaining: 33.3s\n996:\tlearn: 2686972.7956944\ttest: 36856829.2662463\tbest: 36853359.6663205 (969)\ttotal: 1m 5s\tremaining: 33.2s\n997:\tlearn: 2686283.2331778\ttest: 36855649.7251684\tbest: 36853359.6663205 (969)\ttotal: 1m 5s\tremaining: 33.1s\n998:\tlearn: 2684509.0100082\ttest: 36855433.6032988\tbest: 36853359.6663205 (969)\ttotal: 1m 5s\tremaining: 33.1s\n999:\tlearn: 2683709.7353465\ttest: 36854396.7566686\tbest: 36853359.6663205 (969)\ttotal: 1m 5s\tremaining: 33s\n1000:\tlearn: 2680772.7740987\ttest: 36853864.9264198\tbest: 36853359.6663205 (969)\ttotal: 1m 6s\tremaining: 32.9s\n1001:\tlearn: 2678217.4823973\ttest: 36853849.6962612\tbest: 36853359.6663205 (969)\ttotal: 1m 6s\tremaining: 32.9s\n1002:\tlearn: 2675113.2386233\ttest: 36853463.5553905\tbest: 36853359.6663205 (969)\ttotal: 1m 6s\tremaining: 32.8s\n1003:\tlearn: 2674110.0129082\ttest: 36853138.8287048\tbest: 36853138.8287048 (1003)\ttotal: 1m 6s\tremaining: 32.8s\n1004:\tlearn: 2670012.8969127\ttest: 36854428.2361892\tbest: 36853138.8287048 (1003)\ttotal: 1m 6s\tremaining: 32.7s\n1005:\tlearn: 2666486.0371340\ttest: 36855651.6878549\tbest: 36853138.8287048 (1003)\ttotal: 1m 6s\tremaining: 32.6s\n1006:\tlearn: 2662632.6914341\ttest: 36855610.4595488\tbest: 36853138.8287048 (1003)\ttotal: 1m 6s\tremaining: 32.6s\n1007:\tlearn: 2662254.0570093\ttest: 36856140.4764390\tbest: 36853138.8287048 (1003)\ttotal: 1m 6s\tremaining: 32.5s\n1008:\tlearn: 2659256.9641382\ttest: 36856392.3739385\tbest: 36853138.8287048 (1003)\ttotal: 1m 6s\tremaining: 32.5s\n1009:\tlearn: 2658957.1335017\ttest: 36856480.7668940\tbest: 36853138.8287048 (1003)\ttotal: 1m 6s\tremaining: 32.4s\n1010:\tlearn: 2656523.2336541\ttest: 36857105.6038881\tbest: 36853138.8287048 (1003)\ttotal: 1m 6s\tremaining: 32.3s\n1011:\tlearn: 2655015.4509660\ttest: 36857229.9794112\tbest: 36853138.8287048 (1003)\ttotal: 1m 6s\tremaining: 32.3s\n1012:\tlearn: 2651981.5627475\ttest: 36858045.1972732\tbest: 36853138.8287048 (1003)\ttotal: 1m 6s\tremaining: 32.2s\n1013:\tlearn: 2649509.7323299\ttest: 36860583.1737244\tbest: 36853138.8287048 (1003)\ttotal: 1m 7s\tremaining: 32.1s\n1014:\tlearn: 2649334.0522833\ttest: 36860499.0498726\tbest: 36853138.8287048 (1003)\ttotal: 1m 7s\tremaining: 32s\n1015:\tlearn: 2646855.7412011\ttest: 36860028.8391512\tbest: 36853138.8287048 (1003)\ttotal: 1m 7s\tremaining: 32s\n1016:\tlearn: 2645157.0969698\ttest: 36860692.1480236\tbest: 36853138.8287048 (1003)\ttotal: 1m 7s\tremaining: 31.9s\n1017:\tlearn: 2644291.2385421\ttest: 36858880.9314487\tbest: 36853138.8287048 (1003)\ttotal: 1m 7s\tremaining: 31.9s\n1018:\tlearn: 2643890.0271776\ttest: 36859064.2332056\tbest: 36853138.8287048 (1003)\ttotal: 1m 7s\tremaining: 31.8s\n1019:\tlearn: 2642774.9221854\ttest: 36858404.9087946\tbest: 36853138.8287048 (1003)\ttotal: 1m 7s\tremaining: 31.8s\n1020:\tlearn: 2640341.7487381\ttest: 36857565.1700287\tbest: 36853138.8287048 (1003)\ttotal: 1m 7s\tremaining: 31.7s\n1021:\tlearn: 2637187.3098443\ttest: 36857368.8957685\tbest: 36853138.8287048 (1003)\ttotal: 1m 7s\tremaining: 31.6s\n1022:\tlearn: 2634797.8604084\ttest: 36858133.4354017\tbest: 36853138.8287048 (1003)\ttotal: 1m 7s\tremaining: 31.5s\n1023:\tlearn: 2633714.5610578\ttest: 36857851.6779898\tbest: 36853138.8287048 (1003)\ttotal: 1m 7s\tremaining: 31.5s\n1024:\tlearn: 2632519.1854518\ttest: 36856174.9429601\tbest: 36853138.8287048 (1003)\ttotal: 1m 7s\tremaining: 31.4s\n1025:\tlearn: 2631291.6412103\ttest: 36853111.1791123\tbest: 36853111.1791123 (1025)\ttotal: 1m 7s\tremaining: 31.3s\n1026:\tlearn: 2626190.9882201\ttest: 36852677.4722172\tbest: 36852677.4722172 (1026)\ttotal: 1m 7s\tremaining: 31.3s\n1027:\tlearn: 2622975.9334265\ttest: 36852040.0730774\tbest: 36852040.0730774 (1027)\ttotal: 1m 7s\tremaining: 31.2s\n1028:\tlearn: 2621422.4296666\ttest: 36852945.5622463\tbest: 36852040.0730774 (1027)\ttotal: 1m 8s\tremaining: 31.1s\n1029:\tlearn: 2621175.4421477\ttest: 36853436.3838123\tbest: 36852040.0730774 (1027)\ttotal: 1m 8s\tremaining: 31.1s\n1030:\tlearn: 2618714.8304173\ttest: 36853628.9470415\tbest: 36852040.0730774 (1027)\ttotal: 1m 8s\tremaining: 31s\n1031:\tlearn: 2616330.2016278\ttest: 36853176.9306581\tbest: 36852040.0730774 (1027)\ttotal: 1m 8s\tremaining: 31s\n1032:\tlearn: 2614802.4794108\ttest: 36853049.3596481\tbest: 36852040.0730774 (1027)\ttotal: 1m 8s\tremaining: 30.9s\n1033:\tlearn: 2612872.0499546\ttest: 36854718.1647981\tbest: 36852040.0730774 (1027)\ttotal: 1m 8s\tremaining: 30.9s\n1034:\tlearn: 2611557.6364482\ttest: 36857164.9238618\tbest: 36852040.0730774 (1027)\ttotal: 1m 8s\tremaining: 30.9s\n1035:\tlearn: 2607609.8489302\ttest: 36857003.4052063\tbest: 36852040.0730774 (1027)\ttotal: 1m 8s\tremaining: 30.8s\n1036:\tlearn: 2606238.1537567\ttest: 36856971.9587419\tbest: 36852040.0730774 (1027)\ttotal: 1m 8s\tremaining: 30.7s\n1037:\tlearn: 2604989.0865498\ttest: 36856907.7171798\tbest: 36852040.0730774 (1027)\ttotal: 1m 8s\tremaining: 30.7s\n1038:\tlearn: 2603598.2645079\ttest: 36856917.9184560\tbest: 36852040.0730774 (1027)\ttotal: 1m 9s\tremaining: 30.6s\n1039:\tlearn: 2601112.6099738\ttest: 36858226.9071588\tbest: 36852040.0730774 (1027)\ttotal: 1m 9s\tremaining: 30.6s\n1040:\tlearn: 2600104.9240198\ttest: 36858411.9379746\tbest: 36852040.0730774 (1027)\ttotal: 1m 9s\tremaining: 30.5s\n1041:\tlearn: 2598595.7485857\ttest: 36858284.7177070\tbest: 36852040.0730774 (1027)\ttotal: 1m 9s\tremaining: 30.5s\n1042:\tlearn: 2596924.9173647\ttest: 36858458.0840018\tbest: 36852040.0730774 (1027)\ttotal: 1m 9s\tremaining: 30.4s\n1043:\tlearn: 2594067.3549821\ttest: 36858332.3098944\tbest: 36852040.0730774 (1027)\ttotal: 1m 9s\tremaining: 30.3s\n1044:\tlearn: 2590760.9429369\ttest: 36857849.7732817\tbest: 36852040.0730774 (1027)\ttotal: 1m 9s\tremaining: 30.3s\n1045:\tlearn: 2589487.9462404\ttest: 36858174.9548187\tbest: 36852040.0730774 (1027)\ttotal: 1m 9s\tremaining: 30.2s\n1046:\tlearn: 2588131.7533427\ttest: 36858084.7847661\tbest: 36852040.0730774 (1027)\ttotal: 1m 9s\tremaining: 30.1s\n1047:\tlearn: 2585730.9435195\ttest: 36857206.7960851\tbest: 36852040.0730774 (1027)\ttotal: 1m 9s\tremaining: 30.1s\n1048:\tlearn: 2583102.2558738\ttest: 36857795.9088856\tbest: 36852040.0730774 (1027)\ttotal: 1m 9s\tremaining: 30s\n1049:\tlearn: 2579716.1482096\ttest: 36857644.8608501\tbest: 36852040.0730774 (1027)\ttotal: 1m 9s\tremaining: 30s\n1050:\tlearn: 2577223.2359357\ttest: 36857084.6862150\tbest: 36852040.0730774 (1027)\ttotal: 1m 9s\tremaining: 29.9s\n1051:\tlearn: 2576855.3586182\ttest: 36857080.6022517\tbest: 36852040.0730774 (1027)\ttotal: 1m 10s\tremaining: 29.8s\n1052:\tlearn: 2575910.8255146\ttest: 36855541.9996555\tbest: 36852040.0730774 (1027)\ttotal: 1m 10s\tremaining: 29.8s\n1053:\tlearn: 2573733.2015789\ttest: 36855150.0702454\tbest: 36852040.0730774 (1027)\ttotal: 1m 10s\tremaining: 29.7s\n1054:\tlearn: 2571373.9234364\ttest: 36853568.8617725\tbest: 36852040.0730774 (1027)\ttotal: 1m 10s\tremaining: 29.6s\n1055:\tlearn: 2569672.9852011\ttest: 36853322.3884136\tbest: 36852040.0730774 (1027)\ttotal: 1m 10s\tremaining: 29.6s\n1056:\tlearn: 2567961.8564518\ttest: 36853213.4662685\tbest: 36852040.0730774 (1027)\ttotal: 1m 10s\tremaining: 29.5s\n1057:\tlearn: 2566595.6628697\ttest: 36853997.5817278\tbest: 36852040.0730774 (1027)\ttotal: 1m 10s\tremaining: 29.4s\n1058:\tlearn: 2563142.5949707\ttest: 36851598.8868851\tbest: 36851598.8868851 (1058)\ttotal: 1m 10s\tremaining: 29.4s\n1059:\tlearn: 2559285.0716460\ttest: 36848994.0860436\tbest: 36848994.0860436 (1059)\ttotal: 1m 10s\tremaining: 29.3s\n1060:\tlearn: 2557256.7859904\ttest: 36848516.1483300\tbest: 36848516.1483300 (1060)\ttotal: 1m 10s\tremaining: 29.2s\n1061:\tlearn: 2552458.4799941\ttest: 36847688.3527276\tbest: 36847688.3527276 (1061)\ttotal: 1m 10s\tremaining: 29.2s\n1062:\tlearn: 2550909.7520480\ttest: 36848086.9851729\tbest: 36847688.3527276 (1061)\ttotal: 1m 10s\tremaining: 29.1s\n1063:\tlearn: 2548582.1628079\ttest: 36848790.9530595\tbest: 36847688.3527276 (1061)\ttotal: 1m 10s\tremaining: 29.1s\n1064:\tlearn: 2547599.9033388\ttest: 36849272.4148283\tbest: 36847688.3527276 (1061)\ttotal: 1m 11s\tremaining: 29s\n1065:\tlearn: 2545828.8049650\ttest: 36848192.3908720\tbest: 36847688.3527276 (1061)\ttotal: 1m 11s\tremaining: 29s\n1066:\tlearn: 2543931.8889854\ttest: 36847913.4529210\tbest: 36847688.3527276 (1061)\ttotal: 1m 11s\tremaining: 28.9s\n1067:\tlearn: 2542383.9515893\ttest: 36847600.2274905\tbest: 36847600.2274905 (1067)\ttotal: 1m 11s\tremaining: 28.8s\n1068:\tlearn: 2541135.6073263\ttest: 36847543.9283243\tbest: 36847543.9283243 (1068)\ttotal: 1m 11s\tremaining: 28.8s\n1069:\tlearn: 2540427.1384090\ttest: 36847130.7692246\tbest: 36847130.7692246 (1069)\ttotal: 1m 11s\tremaining: 28.7s\n1070:\tlearn: 2537984.5202460\ttest: 36847521.4070538\tbest: 36847130.7692246 (1069)\ttotal: 1m 11s\tremaining: 28.6s\n1071:\tlearn: 2536660.0322727\ttest: 36843262.1701567\tbest: 36843262.1701567 (1071)\ttotal: 1m 11s\tremaining: 28.6s\n1072:\tlearn: 2532627.1575439\ttest: 36843217.5597868\tbest: 36843217.5597868 (1072)\ttotal: 1m 11s\tremaining: 28.5s\n1073:\tlearn: 2532133.0602957\ttest: 36843489.3802995\tbest: 36843217.5597868 (1072)\ttotal: 1m 11s\tremaining: 28.4s\n1074:\tlearn: 2531817.3542940\ttest: 36843335.0806754\tbest: 36843217.5597868 (1072)\ttotal: 1m 11s\tremaining: 28.3s\n1075:\tlearn: 2530064.2083653\ttest: 36845590.9848840\tbest: 36843217.5597868 (1072)\ttotal: 1m 11s\tremaining: 28.3s\n1076:\tlearn: 2527613.7311526\ttest: 36847050.5738819\tbest: 36843217.5597868 (1072)\ttotal: 1m 11s\tremaining: 28.2s\n1077:\tlearn: 2525311.4319855\ttest: 36847707.5523960\tbest: 36843217.5597868 (1072)\ttotal: 1m 11s\tremaining: 28.1s\n1078:\tlearn: 2523497.5902208\ttest: 36847117.6476000\tbest: 36843217.5597868 (1072)\ttotal: 1m 11s\tremaining: 28.1s\n1079:\tlearn: 2522001.5273941\ttest: 36845718.8801155\tbest: 36843217.5597868 (1072)\ttotal: 1m 12s\tremaining: 28s\n1080:\tlearn: 2518857.9234867\ttest: 36846332.9141126\tbest: 36843217.5597868 (1072)\ttotal: 1m 12s\tremaining: 27.9s\n1081:\tlearn: 2516918.3675048\ttest: 36846822.0825199\tbest: 36843217.5597868 (1072)\ttotal: 1m 12s\tremaining: 27.9s\n1082:\tlearn: 2515824.3397713\ttest: 36847075.8754884\tbest: 36843217.5597868 (1072)\ttotal: 1m 12s\tremaining: 27.8s\n1083:\tlearn: 2514882.7571500\ttest: 36847263.7240415\tbest: 36843217.5597868 (1072)\ttotal: 1m 12s\tremaining: 27.7s\n1084:\tlearn: 2513527.7378730\ttest: 36847275.4924785\tbest: 36843217.5597868 (1072)\ttotal: 1m 12s\tremaining: 27.7s\n1085:\tlearn: 2512378.3072908\ttest: 36846988.2947421\tbest: 36843217.5597868 (1072)\ttotal: 1m 12s\tremaining: 27.6s\n1086:\tlearn: 2508455.5835753\ttest: 36845579.4241457\tbest: 36843217.5597868 (1072)\ttotal: 1m 12s\tremaining: 27.5s\n1087:\tlearn: 2505517.1925768\ttest: 36845714.5285659\tbest: 36843217.5597868 (1072)\ttotal: 1m 12s\tremaining: 27.5s\n1088:\tlearn: 2502851.7038100\ttest: 36845084.2796659\tbest: 36843217.5597868 (1072)\ttotal: 1m 12s\tremaining: 27.4s\n1089:\tlearn: 2499591.8086563\ttest: 36845026.9373812\tbest: 36843217.5597868 (1072)\ttotal: 1m 12s\tremaining: 27.3s\n1090:\tlearn: 2497891.2447760\ttest: 36845056.9628206\tbest: 36843217.5597868 (1072)\ttotal: 1m 12s\tremaining: 27.3s\n1091:\tlearn: 2496236.4682201\ttest: 36845386.2738400\tbest: 36843217.5597868 (1072)\ttotal: 1m 12s\tremaining: 27.2s\n1092:\tlearn: 2491919.1350086\ttest: 36846541.3123740\tbest: 36843217.5597868 (1072)\ttotal: 1m 12s\tremaining: 27.1s\n1093:\tlearn: 2490722.2668629\ttest: 36846093.1658421\tbest: 36843217.5597868 (1072)\ttotal: 1m 12s\tremaining: 27s\n1094:\tlearn: 2489188.8286506\ttest: 36846887.6435435\tbest: 36843217.5597868 (1072)\ttotal: 1m 12s\tremaining: 27s\n1095:\tlearn: 2487732.1988768\ttest: 36847445.8724359\tbest: 36843217.5597868 (1072)\ttotal: 1m 12s\tremaining: 26.9s\n1096:\tlearn: 2484773.9949539\ttest: 36846793.9918744\tbest: 36843217.5597868 (1072)\ttotal: 1m 13s\tremaining: 26.9s\n1097:\tlearn: 2481879.6149848\ttest: 36849104.3791241\tbest: 36843217.5597868 (1072)\ttotal: 1m 13s\tremaining: 26.8s\n1098:\tlearn: 2480357.5059195\ttest: 36848995.1765437\tbest: 36843217.5597868 (1072)\ttotal: 1m 13s\tremaining: 26.7s\n1099:\tlearn: 2476225.3391944\ttest: 36848102.3254884\tbest: 36843217.5597868 (1072)\ttotal: 1m 13s\tremaining: 26.7s\n1100:\tlearn: 2474897.4097336\ttest: 36847932.6133140\tbest: 36843217.5597868 (1072)\ttotal: 1m 13s\tremaining: 26.6s\n1101:\tlearn: 2470778.3805989\ttest: 36847076.2421169\tbest: 36843217.5597868 (1072)\ttotal: 1m 13s\tremaining: 26.5s\n1102:\tlearn: 2468672.3869134\ttest: 36846833.3289534\tbest: 36843217.5597868 (1072)\ttotal: 1m 13s\tremaining: 26.5s\n1103:\tlearn: 2466460.3193571\ttest: 36847584.8335792\tbest: 36843217.5597868 (1072)\ttotal: 1m 13s\tremaining: 26.4s\n1104:\tlearn: 2464548.4416044\ttest: 36848807.4813539\tbest: 36843217.5597868 (1072)\ttotal: 1m 13s\tremaining: 26.3s\n1105:\tlearn: 2463563.6291120\ttest: 36848709.1210099\tbest: 36843217.5597868 (1072)\ttotal: 1m 13s\tremaining: 26.3s\n1106:\tlearn: 2460403.2934236\ttest: 36849138.6634169\tbest: 36843217.5597868 (1072)\ttotal: 1m 13s\tremaining: 26.2s\n1107:\tlearn: 2458529.0699939\ttest: 36849553.9129387\tbest: 36843217.5597868 (1072)\ttotal: 1m 13s\tremaining: 26.1s\n1108:\tlearn: 2456897.3664457\ttest: 36850137.4320758\tbest: 36843217.5597868 (1072)\ttotal: 1m 13s\tremaining: 26.1s\n1109:\tlearn: 2453781.6125303\ttest: 36853462.5341543\tbest: 36843217.5597868 (1072)\ttotal: 1m 13s\tremaining: 26s\n1110:\tlearn: 2452288.8827437\ttest: 36853029.2088109\tbest: 36843217.5597868 (1072)\ttotal: 1m 14s\tremaining: 25.9s\n1111:\tlearn: 2450866.3516796\ttest: 36853086.6052745\tbest: 36843217.5597868 (1072)\ttotal: 1m 14s\tremaining: 25.9s\n1112:\tlearn: 2448206.3855923\ttest: 36855475.2861189\tbest: 36843217.5597868 (1072)\ttotal: 1m 14s\tremaining: 25.8s\n1113:\tlearn: 2445557.6804099\ttest: 36856169.5311847\tbest: 36843217.5597868 (1072)\ttotal: 1m 14s\tremaining: 25.8s\n1114:\tlearn: 2443332.8791759\ttest: 36856070.1308986\tbest: 36843217.5597868 (1072)\ttotal: 1m 14s\tremaining: 25.7s\n1115:\tlearn: 2440849.9771455\ttest: 36854156.2647707\tbest: 36843217.5597868 (1072)\ttotal: 1m 14s\tremaining: 25.6s\n1116:\tlearn: 2439768.5486187\ttest: 36854180.1649504\tbest: 36843217.5597868 (1072)\ttotal: 1m 14s\tremaining: 25.6s\n1117:\tlearn: 2438034.3366155\ttest: 36854994.7321088\tbest: 36843217.5597868 (1072)\ttotal: 1m 14s\tremaining: 25.5s\n1118:\tlearn: 2436325.2973251\ttest: 36855589.9621120\tbest: 36843217.5597868 (1072)\ttotal: 1m 14s\tremaining: 25.4s\n1119:\tlearn: 2435062.8310261\ttest: 36855984.6864087\tbest: 36843217.5597868 (1072)\ttotal: 1m 14s\tremaining: 25.4s\n1120:\tlearn: 2433449.5067590\ttest: 36855952.9644235\tbest: 36843217.5597868 (1072)\ttotal: 1m 14s\tremaining: 25.3s\n1121:\tlearn: 2430212.1250387\ttest: 36854948.4413861\tbest: 36843217.5597868 (1072)\ttotal: 1m 14s\tremaining: 25.2s\n1122:\tlearn: 2426566.4239946\ttest: 36853141.9963813\tbest: 36843217.5597868 (1072)\ttotal: 1m 14s\tremaining: 25.2s\n1123:\tlearn: 2423511.1928506\ttest: 36852692.4504703\tbest: 36843217.5597868 (1072)\ttotal: 1m 15s\tremaining: 25.1s\n1124:\tlearn: 2420297.6647267\ttest: 36856357.7075229\tbest: 36843217.5597868 (1072)\ttotal: 1m 15s\tremaining: 25s\n1125:\tlearn: 2418852.1886995\ttest: 36856941.8556560\tbest: 36843217.5597868 (1072)\ttotal: 1m 15s\tremaining: 25s\n1126:\tlearn: 2418156.2337621\ttest: 36857075.8840946\tbest: 36843217.5597868 (1072)\ttotal: 1m 15s\tremaining: 24.9s\n1127:\tlearn: 2416308.6786971\ttest: 36857192.8798943\tbest: 36843217.5597868 (1072)\ttotal: 1m 15s\tremaining: 24.8s\n1128:\tlearn: 2413677.8417156\ttest: 36856638.6934359\tbest: 36843217.5597868 (1072)\ttotal: 1m 15s\tremaining: 24.8s\n1129:\tlearn: 2411836.1023572\ttest: 36857036.7794617\tbest: 36843217.5597868 (1072)\ttotal: 1m 15s\tremaining: 24.7s\n1130:\tlearn: 2409416.2833409\ttest: 36857160.9820906\tbest: 36843217.5597868 (1072)\ttotal: 1m 15s\tremaining: 24.7s\n1131:\tlearn: 2407019.2706548\ttest: 36856673.7884023\tbest: 36843217.5597868 (1072)\ttotal: 1m 15s\tremaining: 24.6s\n1132:\tlearn: 2405377.1694836\ttest: 36856234.2003287\tbest: 36843217.5597868 (1072)\ttotal: 1m 15s\tremaining: 24.5s\n1133:\tlearn: 2404846.6233633\ttest: 36856396.5120486\tbest: 36843217.5597868 (1072)\ttotal: 1m 15s\tremaining: 24.5s\n1134:\tlearn: 2404143.3433489\ttest: 36855939.2854412\tbest: 36843217.5597868 (1072)\ttotal: 1m 15s\tremaining: 24.4s\n1135:\tlearn: 2403405.2240648\ttest: 36856311.5884787\tbest: 36843217.5597868 (1072)\ttotal: 1m 15s\tremaining: 24.3s\n1136:\tlearn: 2402573.7333524\ttest: 36856033.8037401\tbest: 36843217.5597868 (1072)\ttotal: 1m 16s\tremaining: 24.3s\n1137:\tlearn: 2400300.0788274\ttest: 36855785.2298959\tbest: 36843217.5597868 (1072)\ttotal: 1m 16s\tremaining: 24.2s\n1138:\tlearn: 2398447.6221975\ttest: 36856384.0480918\tbest: 36843217.5597868 (1072)\ttotal: 1m 16s\tremaining: 24.1s\n1139:\tlearn: 2397361.4903150\ttest: 36855552.3394725\tbest: 36843217.5597868 (1072)\ttotal: 1m 16s\tremaining: 24s\n1140:\tlearn: 2394428.1904800\ttest: 36856312.7609884\tbest: 36843217.5597868 (1072)\ttotal: 1m 16s\tremaining: 24s\n1141:\tlearn: 2392341.9530383\ttest: 36856472.5994632\tbest: 36843217.5597868 (1072)\ttotal: 1m 16s\tremaining: 23.9s\n1142:\tlearn: 2389801.3960951\ttest: 36856620.9777040\tbest: 36843217.5597868 (1072)\ttotal: 1m 16s\tremaining: 23.9s\n1143:\tlearn: 2388081.4715031\ttest: 36856389.0189042\tbest: 36843217.5597868 (1072)\ttotal: 1m 16s\tremaining: 23.8s\n1144:\tlearn: 2386158.3273773\ttest: 36856256.1162170\tbest: 36843217.5597868 (1072)\ttotal: 1m 16s\tremaining: 23.7s\n1145:\tlearn: 2384919.0317348\ttest: 36855716.2343629\tbest: 36843217.5597868 (1072)\ttotal: 1m 16s\tremaining: 23.7s\n1146:\tlearn: 2383109.0003464\ttest: 36858539.3910340\tbest: 36843217.5597868 (1072)\ttotal: 1m 16s\tremaining: 23.6s\n1147:\tlearn: 2381518.2376901\ttest: 36858698.0809604\tbest: 36843217.5597868 (1072)\ttotal: 1m 16s\tremaining: 23.6s\n1148:\tlearn: 2379764.5623232\ttest: 36858366.5684011\tbest: 36843217.5597868 (1072)\ttotal: 1m 16s\tremaining: 23.5s\n1149:\tlearn: 2378591.7869423\ttest: 36858171.8066728\tbest: 36843217.5597868 (1072)\ttotal: 1m 16s\tremaining: 23.4s\n1150:\tlearn: 2376986.8969073\ttest: 36857886.2663433\tbest: 36843217.5597868 (1072)\ttotal: 1m 17s\tremaining: 23.4s\n1151:\tlearn: 2375150.4049439\ttest: 36857573.2679149\tbest: 36843217.5597868 (1072)\ttotal: 1m 17s\tremaining: 23.3s\n1152:\tlearn: 2373522.4422030\ttest: 36856924.3149920\tbest: 36843217.5597868 (1072)\ttotal: 1m 17s\tremaining: 23.2s\n1153:\tlearn: 2370937.5424032\ttest: 36856856.5702292\tbest: 36843217.5597868 (1072)\ttotal: 1m 17s\tremaining: 23.1s\n1154:\tlearn: 2370009.4726185\ttest: 36856662.1415158\tbest: 36843217.5597868 (1072)\ttotal: 1m 17s\tremaining: 23.1s\n1155:\tlearn: 2367974.1468454\ttest: 36856088.3340120\tbest: 36843217.5597868 (1072)\ttotal: 1m 17s\tremaining: 23s\n1156:\tlearn: 2366817.2805904\ttest: 36855936.9693587\tbest: 36843217.5597868 (1072)\ttotal: 1m 17s\tremaining: 22.9s\n1157:\tlearn: 2365374.5324201\ttest: 36855549.3154100\tbest: 36843217.5597868 (1072)\ttotal: 1m 17s\tremaining: 22.9s\n1158:\tlearn: 2364020.9644714\ttest: 36855372.5438881\tbest: 36843217.5597868 (1072)\ttotal: 1m 17s\tremaining: 22.8s\n1159:\tlearn: 2362065.2695414\ttest: 36854442.1174250\tbest: 36843217.5597868 (1072)\ttotal: 1m 17s\tremaining: 22.7s\n1160:\tlearn: 2358925.2384623\ttest: 36853877.4439773\tbest: 36843217.5597868 (1072)\ttotal: 1m 17s\tremaining: 22.7s\n1161:\tlearn: 2357264.7401928\ttest: 36854565.4932147\tbest: 36843217.5597868 (1072)\ttotal: 1m 17s\tremaining: 22.6s\n1162:\tlearn: 2356330.8622950\ttest: 36854724.5269143\tbest: 36843217.5597868 (1072)\ttotal: 1m 17s\tremaining: 22.5s\n1163:\tlearn: 2354959.2936079\ttest: 36854791.4290152\tbest: 36843217.5597868 (1072)\ttotal: 1m 17s\tremaining: 22.5s\n1164:\tlearn: 2353656.1601534\ttest: 36854904.2637872\tbest: 36843217.5597868 (1072)\ttotal: 1m 18s\tremaining: 22.4s\n1165:\tlearn: 2352675.3564717\ttest: 36854034.9557611\tbest: 36843217.5597868 (1072)\ttotal: 1m 18s\tremaining: 22.4s\n1166:\tlearn: 2349400.0874349\ttest: 36855148.0199461\tbest: 36843217.5597868 (1072)\ttotal: 1m 18s\tremaining: 22.3s\n1167:\tlearn: 2348051.2415406\ttest: 36853265.7215184\tbest: 36843217.5597868 (1072)\ttotal: 1m 18s\tremaining: 22.3s\n1168:\tlearn: 2345945.8536806\ttest: 36852299.2080395\tbest: 36843217.5597868 (1072)\ttotal: 1m 18s\tremaining: 22.2s\n1169:\tlearn: 2345041.8919992\ttest: 36852032.8024281\tbest: 36843217.5597868 (1072)\ttotal: 1m 18s\tremaining: 22.1s\n1170:\tlearn: 2342753.7780270\ttest: 36852227.2699690\tbest: 36843217.5597868 (1072)\ttotal: 1m 18s\tremaining: 22s\n1171:\tlearn: 2340547.1716704\ttest: 36852490.2039132\tbest: 36843217.5597868 (1072)\ttotal: 1m 18s\tremaining: 22s\n1172:\tlearn: 2339521.4816653\ttest: 36852474.0975629\tbest: 36843217.5597868 (1072)\ttotal: 1m 18s\tremaining: 21.9s\n1173:\tlearn: 2337022.6301725\ttest: 36853718.4833792\tbest: 36843217.5597868 (1072)\ttotal: 1m 18s\tremaining: 21.9s\n1174:\tlearn: 2336716.4052035\ttest: 36853293.5952544\tbest: 36843217.5597868 (1072)\ttotal: 1m 18s\tremaining: 21.8s\n1175:\tlearn: 2332566.2985354\ttest: 36849899.0849569\tbest: 36843217.5597868 (1072)\ttotal: 1m 18s\tremaining: 21.7s\n1176:\tlearn: 2331622.9464452\ttest: 36849653.4149475\tbest: 36843217.5597868 (1072)\ttotal: 1m 18s\tremaining: 21.6s\n1177:\tlearn: 2330595.5118400\ttest: 36849767.5949805\tbest: 36843217.5597868 (1072)\ttotal: 1m 18s\tremaining: 21.6s\n1178:\tlearn: 2329897.1507300\ttest: 36849530.5072436\tbest: 36843217.5597868 (1072)\ttotal: 1m 19s\tremaining: 21.5s\n1179:\tlearn: 2329031.4800827\ttest: 36848451.7996911\tbest: 36843217.5597868 (1072)\ttotal: 1m 19s\tremaining: 21.5s\n1180:\tlearn: 2327895.3081297\ttest: 36848464.2231044\tbest: 36843217.5597868 (1072)\ttotal: 1m 19s\tremaining: 21.4s\n1181:\tlearn: 2325943.7745956\ttest: 36847955.6154555\tbest: 36843217.5597868 (1072)\ttotal: 1m 19s\tremaining: 21.3s\n1182:\tlearn: 2324035.9704494\ttest: 36848046.1938014\tbest: 36843217.5597868 (1072)\ttotal: 1m 19s\tremaining: 21.3s\n1183:\tlearn: 2323613.0257794\ttest: 36848083.2438199\tbest: 36843217.5597868 (1072)\ttotal: 1m 19s\tremaining: 21.2s\n1184:\tlearn: 2322632.5098144\ttest: 36847191.6337539\tbest: 36843217.5597868 (1072)\ttotal: 1m 19s\tremaining: 21.1s\n1185:\tlearn: 2320648.0961890\ttest: 36848667.9866117\tbest: 36843217.5597868 (1072)\ttotal: 1m 19s\tremaining: 21.1s\n1186:\tlearn: 2318947.8659507\ttest: 36848723.4696011\tbest: 36843217.5597868 (1072)\ttotal: 1m 19s\tremaining: 21s\n1187:\tlearn: 2316678.7763027\ttest: 36848421.3667237\tbest: 36843217.5597868 (1072)\ttotal: 1m 19s\tremaining: 20.9s\n1188:\tlearn: 2315390.7003510\ttest: 36847522.2042281\tbest: 36843217.5597868 (1072)\ttotal: 1m 19s\tremaining: 20.9s\n1189:\tlearn: 2314698.0112063\ttest: 36847690.4563319\tbest: 36843217.5597868 (1072)\ttotal: 1m 19s\tremaining: 20.8s\n1190:\tlearn: 2313097.9099879\ttest: 36846843.2859512\tbest: 36843217.5597868 (1072)\ttotal: 1m 19s\tremaining: 20.7s\n1191:\tlearn: 2309301.2757555\ttest: 36846581.1811338\tbest: 36843217.5597868 (1072)\ttotal: 1m 19s\tremaining: 20.7s\n1192:\tlearn: 2307571.9911311\ttest: 36845334.4462861\tbest: 36843217.5597868 (1072)\ttotal: 1m 20s\tremaining: 20.6s\n1193:\tlearn: 2305385.1764576\ttest: 36844366.6504379\tbest: 36843217.5597868 (1072)\ttotal: 1m 20s\tremaining: 20.5s\n1194:\tlearn: 2304131.4429747\ttest: 36844351.9749077\tbest: 36843217.5597868 (1072)\ttotal: 1m 20s\tremaining: 20.6s\n1195:\tlearn: 2303557.9045072\ttest: 36842965.0869680\tbest: 36842965.0869680 (1195)\ttotal: 1m 20s\tremaining: 20.5s\n1196:\tlearn: 2302366.3772358\ttest: 36843460.1290001\tbest: 36842965.0869680 (1195)\ttotal: 1m 20s\tremaining: 20.4s\n1197:\tlearn: 2299896.8339128\ttest: 36843373.2489568\tbest: 36842965.0869680 (1195)\ttotal: 1m 20s\tremaining: 20.4s\n1198:\tlearn: 2298768.3882028\ttest: 36843357.9009665\tbest: 36842965.0869680 (1195)\ttotal: 1m 20s\tremaining: 20.3s\n1199:\tlearn: 2296401.1045645\ttest: 36843408.1000685\tbest: 36842965.0869680 (1195)\ttotal: 1m 20s\tremaining: 20.2s\n1200:\tlearn: 2294639.2713677\ttest: 36843346.9149202\tbest: 36842965.0869680 (1195)\ttotal: 1m 20s\tremaining: 20.2s\n1201:\tlearn: 2293976.5055380\ttest: 36843314.0237748\tbest: 36842965.0869680 (1195)\ttotal: 1m 21s\tremaining: 20.1s\n1202:\tlearn: 2293659.0426547\ttest: 36843316.6111363\tbest: 36842965.0869680 (1195)\ttotal: 1m 21s\tremaining: 20s\n1203:\tlearn: 2291932.9612185\ttest: 36843161.2622315\tbest: 36842965.0869680 (1195)\ttotal: 1m 21s\tremaining: 19.9s\n1204:\tlearn: 2288878.6148713\ttest: 36843112.4285122\tbest: 36842965.0869680 (1195)\ttotal: 1m 21s\tremaining: 19.9s\n1205:\tlearn: 2287314.1598072\ttest: 36842763.1882932\tbest: 36842763.1882932 (1205)\ttotal: 1m 21s\tremaining: 19.8s\n1206:\tlearn: 2285041.8115478\ttest: 36843220.0681951\tbest: 36842763.1882932 (1205)\ttotal: 1m 21s\tremaining: 19.7s\n1207:\tlearn: 2282269.1515710\ttest: 36842909.9783549\tbest: 36842763.1882932 (1205)\ttotal: 1m 21s\tremaining: 19.7s\n1208:\tlearn: 2281176.1886810\ttest: 36842935.9298441\tbest: 36842763.1882932 (1205)\ttotal: 1m 21s\tremaining: 19.6s\n1209:\tlearn: 2280304.1753976\ttest: 36842643.2484737\tbest: 36842643.2484737 (1209)\ttotal: 1m 21s\tremaining: 19.5s\n1210:\tlearn: 2278024.8409007\ttest: 36842005.5355292\tbest: 36842005.5355292 (1210)\ttotal: 1m 21s\tremaining: 19.5s\n1211:\tlearn: 2277387.8112483\ttest: 36841914.7418227\tbest: 36841914.7418227 (1211)\ttotal: 1m 21s\tremaining: 19.4s\n1212:\tlearn: 2275711.6804351\ttest: 36842520.2525640\tbest: 36841914.7418227 (1211)\ttotal: 1m 21s\tremaining: 19.3s\n1213:\tlearn: 2274753.9637088\ttest: 36842547.3866620\tbest: 36841914.7418227 (1211)\ttotal: 1m 21s\tremaining: 19.3s\n1214:\tlearn: 2273908.5026337\ttest: 36842487.3785340\tbest: 36841914.7418227 (1211)\ttotal: 1m 21s\tremaining: 19.2s\n1215:\tlearn: 2270260.2522276\ttest: 36842397.0613940\tbest: 36841914.7418227 (1211)\ttotal: 1m 21s\tremaining: 19.1s\n1216:\tlearn: 2269177.1859108\ttest: 36842329.1136418\tbest: 36841914.7418227 (1211)\ttotal: 1m 22s\tremaining: 19.1s\n1217:\tlearn: 2268233.8940461\ttest: 36842067.4770092\tbest: 36841914.7418227 (1211)\ttotal: 1m 22s\tremaining: 19s\n1218:\tlearn: 2264544.9323582\ttest: 36843168.0091361\tbest: 36841914.7418227 (1211)\ttotal: 1m 22s\tremaining: 18.9s\n1219:\tlearn: 2263382.4114307\ttest: 36843054.3677807\tbest: 36841914.7418227 (1211)\ttotal: 1m 22s\tremaining: 18.9s\n1220:\tlearn: 2262380.9791409\ttest: 36843199.4782459\tbest: 36841914.7418227 (1211)\ttotal: 1m 22s\tremaining: 18.8s\n1221:\tlearn: 2260122.9938010\ttest: 36843178.5343715\tbest: 36841914.7418227 (1211)\ttotal: 1m 22s\tremaining: 18.7s\n1222:\tlearn: 2259317.5623772\ttest: 36842980.8483988\tbest: 36841914.7418227 (1211)\ttotal: 1m 22s\tremaining: 18.7s\n1223:\tlearn: 2258404.1684905\ttest: 36842831.5065790\tbest: 36841914.7418227 (1211)\ttotal: 1m 22s\tremaining: 18.6s\n1224:\tlearn: 2257261.3896733\ttest: 36842449.5258272\tbest: 36841914.7418227 (1211)\ttotal: 1m 22s\tremaining: 18.5s\n1225:\tlearn: 2252781.4075542\ttest: 36842431.5983177\tbest: 36841914.7418227 (1211)\ttotal: 1m 22s\tremaining: 18.5s\n1226:\tlearn: 2250574.7537916\ttest: 36843810.8665927\tbest: 36841914.7418227 (1211)\ttotal: 1m 22s\tremaining: 18.4s\n1227:\tlearn: 2249976.2333393\ttest: 36844351.2463517\tbest: 36841914.7418227 (1211)\ttotal: 1m 22s\tremaining: 18.3s\n1228:\tlearn: 2247863.5150784\ttest: 36844428.0333578\tbest: 36841914.7418227 (1211)\ttotal: 1m 22s\tremaining: 18.3s\n1229:\tlearn: 2246053.9129847\ttest: 36844241.3339963\tbest: 36841914.7418227 (1211)\ttotal: 1m 22s\tremaining: 18.2s\n1230:\tlearn: 2244360.4695022\ttest: 36843876.6680190\tbest: 36841914.7418227 (1211)\ttotal: 1m 23s\tremaining: 18.1s\n1231:\tlearn: 2242859.6205817\ttest: 36843867.9414386\tbest: 36841914.7418227 (1211)\ttotal: 1m 23s\tremaining: 18.1s\n1232:\tlearn: 2241692.6910819\ttest: 36843908.3929001\tbest: 36841914.7418227 (1211)\ttotal: 1m 23s\tremaining: 18s\n1233:\tlearn: 2240530.0347240\ttest: 36844211.3300626\tbest: 36841914.7418227 (1211)\ttotal: 1m 23s\tremaining: 17.9s\n1234:\tlearn: 2239340.6987449\ttest: 36843814.3450393\tbest: 36841914.7418227 (1211)\ttotal: 1m 23s\tremaining: 17.9s\n1235:\tlearn: 2237592.8001351\ttest: 36843649.4300109\tbest: 36841914.7418227 (1211)\ttotal: 1m 23s\tremaining: 17.8s\n1236:\tlearn: 2235367.7942822\ttest: 36843853.8451970\tbest: 36841914.7418227 (1211)\ttotal: 1m 23s\tremaining: 17.7s\n1237:\tlearn: 2233919.3216773\ttest: 36843505.3928720\tbest: 36841914.7418227 (1211)\ttotal: 1m 23s\tremaining: 17.7s\n1238:\tlearn: 2231751.3033549\ttest: 36843617.2599867\tbest: 36841914.7418227 (1211)\ttotal: 1m 23s\tremaining: 17.6s\n1239:\tlearn: 2230991.5481389\ttest: 36843632.3428744\tbest: 36841914.7418227 (1211)\ttotal: 1m 23s\tremaining: 17.5s\n1240:\tlearn: 2230279.7414013\ttest: 36844247.2603954\tbest: 36841914.7418227 (1211)\ttotal: 1m 23s\tremaining: 17.5s\n1241:\tlearn: 2229681.2628992\ttest: 36845034.8130784\tbest: 36841914.7418227 (1211)\ttotal: 1m 23s\tremaining: 17.4s\n1242:\tlearn: 2229121.0720028\ttest: 36845365.7824100\tbest: 36841914.7418227 (1211)\ttotal: 1m 23s\tremaining: 17.3s\n1243:\tlearn: 2227536.9832176\ttest: 36845938.4644349\tbest: 36841914.7418227 (1211)\ttotal: 1m 23s\tremaining: 17.3s\n1244:\tlearn: 2226468.7877491\ttest: 36845844.7480101\tbest: 36841914.7418227 (1211)\ttotal: 1m 23s\tremaining: 17.2s\n1245:\tlearn: 2223928.5220956\ttest: 36845904.5515154\tbest: 36841914.7418227 (1211)\ttotal: 1m 24s\tremaining: 17.1s\n1246:\tlearn: 2221994.5163753\ttest: 36845906.5863900\tbest: 36841914.7418227 (1211)\ttotal: 1m 24s\tremaining: 17.1s\n1247:\tlearn: 2220976.8724778\ttest: 36845829.6023443\tbest: 36841914.7418227 (1211)\ttotal: 1m 24s\tremaining: 17s\n1248:\tlearn: 2218810.7585781\ttest: 36844667.2144740\tbest: 36841914.7418227 (1211)\ttotal: 1m 24s\tremaining: 16.9s\n1249:\tlearn: 2216733.0471907\ttest: 36844462.3816047\tbest: 36841914.7418227 (1211)\ttotal: 1m 24s\tremaining: 16.9s\n1250:\tlearn: 2213848.2335889\ttest: 36844395.2893792\tbest: 36841914.7418227 (1211)\ttotal: 1m 24s\tremaining: 16.8s\n1251:\tlearn: 2212198.7834771\ttest: 36842877.5132691\tbest: 36841914.7418227 (1211)\ttotal: 1m 24s\tremaining: 16.7s\n1252:\tlearn: 2211164.9615546\ttest: 36842724.7911697\tbest: 36841914.7418227 (1211)\ttotal: 1m 24s\tremaining: 16.7s\n1253:\tlearn: 2210063.8534577\ttest: 36842637.1423242\tbest: 36841914.7418227 (1211)\ttotal: 1m 24s\tremaining: 16.6s\n1254:\tlearn: 2206946.2718791\ttest: 36845239.2775923\tbest: 36841914.7418227 (1211)\ttotal: 1m 24s\tremaining: 16.5s\n1255:\tlearn: 2205634.2913803\ttest: 36844706.4475244\tbest: 36841914.7418227 (1211)\ttotal: 1m 24s\tremaining: 16.5s\n1256:\tlearn: 2203850.4000510\ttest: 36845058.5390912\tbest: 36841914.7418227 (1211)\ttotal: 1m 24s\tremaining: 16.4s\n1257:\tlearn: 2202767.1136702\ttest: 36845044.4538474\tbest: 36841914.7418227 (1211)\ttotal: 1m 24s\tremaining: 16.3s\n1258:\tlearn: 2200791.7729116\ttest: 36844944.9841567\tbest: 36841914.7418227 (1211)\ttotal: 1m 25s\tremaining: 16.3s\n1259:\tlearn: 2200258.2774804\ttest: 36844431.3941445\tbest: 36841914.7418227 (1211)\ttotal: 1m 25s\tremaining: 16.2s\n1260:\tlearn: 2196612.5094998\ttest: 36844066.7930895\tbest: 36841914.7418227 (1211)\ttotal: 1m 25s\tremaining: 16.2s\n1261:\tlearn: 2194829.2339576\ttest: 36843231.5857229\tbest: 36841914.7418227 (1211)\ttotal: 1m 25s\tremaining: 16.1s\n1262:\tlearn: 2193049.4484932\ttest: 36843194.6807701\tbest: 36841914.7418227 (1211)\ttotal: 1m 25s\tremaining: 16.1s\n1263:\tlearn: 2191575.8665376\ttest: 36843080.9156539\tbest: 36841914.7418227 (1211)\ttotal: 1m 25s\tremaining: 16s\n1264:\tlearn: 2190732.6672409\ttest: 36843170.3070926\tbest: 36841914.7418227 (1211)\ttotal: 1m 25s\tremaining: 15.9s\n1265:\tlearn: 2189616.4371439\ttest: 36843224.3217996\tbest: 36841914.7418227 (1211)\ttotal: 1m 25s\tremaining: 15.9s\n1266:\tlearn: 2188101.0475073\ttest: 36843650.2741730\tbest: 36841914.7418227 (1211)\ttotal: 1m 25s\tremaining: 15.8s\n1267:\tlearn: 2187542.5708955\ttest: 36843480.3360935\tbest: 36841914.7418227 (1211)\ttotal: 1m 26s\tremaining: 15.7s\n1268:\tlearn: 2186597.0536955\ttest: 36843489.2652786\tbest: 36841914.7418227 (1211)\ttotal: 1m 26s\tremaining: 15.7s\n1269:\tlearn: 2184874.1115918\ttest: 36842844.6403836\tbest: 36841914.7418227 (1211)\ttotal: 1m 26s\tremaining: 15.6s\n1270:\tlearn: 2183175.4180506\ttest: 36840686.5721823\tbest: 36840686.5721823 (1270)\ttotal: 1m 26s\tremaining: 15.5s\n1271:\tlearn: 2181541.0923298\ttest: 36840361.8951020\tbest: 36840361.8951020 (1271)\ttotal: 1m 26s\tremaining: 15.5s\n1272:\tlearn: 2179201.9347049\ttest: 36839602.0410251\tbest: 36839602.0410251 (1272)\ttotal: 1m 26s\tremaining: 15.4s\n1273:\tlearn: 2177350.2996946\ttest: 36838291.5304930\tbest: 36838291.5304930 (1273)\ttotal: 1m 26s\tremaining: 15.3s\n1274:\tlearn: 2176159.8184593\ttest: 36836721.8846360\tbest: 36836721.8846360 (1274)\ttotal: 1m 26s\tremaining: 15.2s\n1275:\tlearn: 2174787.8129634\ttest: 36836814.2031296\tbest: 36836721.8846360 (1274)\ttotal: 1m 26s\tremaining: 15.2s\n1276:\tlearn: 2173005.6672052\ttest: 36836752.2352452\tbest: 36836721.8846360 (1274)\ttotal: 1m 26s\tremaining: 15.1s\n1277:\tlearn: 2170340.8118343\ttest: 36837807.4141465\tbest: 36836721.8846360 (1274)\ttotal: 1m 26s\tremaining: 15s\n1278:\tlearn: 2168663.8924070\ttest: 36838098.7455409\tbest: 36836721.8846360 (1274)\ttotal: 1m 26s\tremaining: 15s\n1279:\tlearn: 2167410.4961019\ttest: 36838269.9378712\tbest: 36836721.8846360 (1274)\ttotal: 1m 26s\tremaining: 14.9s\n1280:\tlearn: 2166184.2742985\ttest: 36837876.7336899\tbest: 36836721.8846360 (1274)\ttotal: 1m 26s\tremaining: 14.9s\n1281:\tlearn: 2165251.1973865\ttest: 36836915.6636791\tbest: 36836721.8846360 (1274)\ttotal: 1m 27s\tremaining: 14.8s\n1282:\tlearn: 2164316.3199267\ttest: 36840101.5191479\tbest: 36836721.8846360 (1274)\ttotal: 1m 27s\tremaining: 14.7s\n1283:\tlearn: 2161936.5003405\ttest: 36840535.4949405\tbest: 36836721.8846360 (1274)\ttotal: 1m 27s\tremaining: 14.7s\n1284:\tlearn: 2160252.6288519\ttest: 36841309.2296927\tbest: 36836721.8846360 (1274)\ttotal: 1m 27s\tremaining: 14.6s\n1285:\tlearn: 2159429.9872700\ttest: 36840996.2514038\tbest: 36836721.8846360 (1274)\ttotal: 1m 27s\tremaining: 14.5s\n1286:\tlearn: 2158719.9493541\ttest: 36841295.2469641\tbest: 36836721.8846360 (1274)\ttotal: 1m 27s\tremaining: 14.5s\n1287:\tlearn: 2157908.3648314\ttest: 36841793.3158631\tbest: 36836721.8846360 (1274)\ttotal: 1m 27s\tremaining: 14.4s\n1288:\tlearn: 2155952.4098721\ttest: 36842995.7783162\tbest: 36836721.8846360 (1274)\ttotal: 1m 27s\tremaining: 14.4s\n1289:\tlearn: 2154695.2986146\ttest: 36841025.7098115\tbest: 36836721.8846360 (1274)\ttotal: 1m 27s\tremaining: 14.3s\n1290:\tlearn: 2152896.2276232\ttest: 36841350.2239005\tbest: 36836721.8846360 (1274)\ttotal: 1m 27s\tremaining: 14.2s\n1291:\tlearn: 2150890.7218870\ttest: 36841012.6266551\tbest: 36836721.8846360 (1274)\ttotal: 1m 27s\tremaining: 14.2s\n1292:\tlearn: 2148667.6627282\ttest: 36841401.5743004\tbest: 36836721.8846360 (1274)\ttotal: 1m 28s\tremaining: 14.1s\n1293:\tlearn: 2147600.6913009\ttest: 36840628.9873401\tbest: 36836721.8846360 (1274)\ttotal: 1m 28s\tremaining: 14s\n1294:\tlearn: 2145467.8784772\ttest: 36841592.8414362\tbest: 36836721.8846360 (1274)\ttotal: 1m 28s\tremaining: 14s\n1295:\tlearn: 2144326.6412685\ttest: 36841488.5311919\tbest: 36836721.8846360 (1274)\ttotal: 1m 28s\tremaining: 13.9s\n1296:\tlearn: 2143065.5712108\ttest: 36842116.7003901\tbest: 36836721.8846360 (1274)\ttotal: 1m 28s\tremaining: 13.9s\n1297:\tlearn: 2142530.9606853\ttest: 36842491.1467410\tbest: 36836721.8846360 (1274)\ttotal: 1m 28s\tremaining: 13.8s\n1298:\tlearn: 2141565.0830454\ttest: 36842484.3569163\tbest: 36836721.8846360 (1274)\ttotal: 1m 28s\tremaining: 13.7s\n1299:\tlearn: 2141023.1654779\ttest: 36842512.5441760\tbest: 36836721.8846360 (1274)\ttotal: 1m 28s\tremaining: 13.7s\n1300:\tlearn: 2139320.9030101\ttest: 36842271.3773049\tbest: 36836721.8846360 (1274)\ttotal: 1m 28s\tremaining: 13.6s\n1301:\tlearn: 2137807.8123908\ttest: 36842283.3455098\tbest: 36836721.8846360 (1274)\ttotal: 1m 28s\tremaining: 13.5s\n1302:\tlearn: 2135918.9082953\ttest: 36842771.1673468\tbest: 36836721.8846360 (1274)\ttotal: 1m 29s\tremaining: 13.5s\n1303:\tlearn: 2135222.7377581\ttest: 36842869.0567659\tbest: 36836721.8846360 (1274)\ttotal: 1m 29s\tremaining: 13.4s\n1304:\tlearn: 2133516.7569280\ttest: 36842721.0853592\tbest: 36836721.8846360 (1274)\ttotal: 1m 29s\tremaining: 13.3s\n1305:\tlearn: 2132813.7930698\ttest: 36842686.8521364\tbest: 36836721.8846360 (1274)\ttotal: 1m 29s\tremaining: 13.2s\n1306:\tlearn: 2131408.3355224\ttest: 36842736.0287783\tbest: 36836721.8846360 (1274)\ttotal: 1m 29s\tremaining: 13.2s\n1307:\tlearn: 2127791.4666764\ttest: 36842329.2079371\tbest: 36836721.8846360 (1274)\ttotal: 1m 29s\tremaining: 13.1s\n1308:\tlearn: 2125949.2317456\ttest: 36842631.3488075\tbest: 36836721.8846360 (1274)\ttotal: 1m 29s\tremaining: 13s\n1309:\tlearn: 2125280.1643739\ttest: 36842833.9214087\tbest: 36836721.8846360 (1274)\ttotal: 1m 29s\tremaining: 13s\n1310:\tlearn: 2124279.1203820\ttest: 36839668.0761262\tbest: 36836721.8846360 (1274)\ttotal: 1m 29s\tremaining: 12.9s\n1311:\tlearn: 2122536.7371929\ttest: 36838306.6258510\tbest: 36836721.8846360 (1274)\ttotal: 1m 29s\tremaining: 12.8s\n1312:\tlearn: 2120668.8644381\ttest: 36839792.7076149\tbest: 36836721.8846360 (1274)\ttotal: 1m 29s\tremaining: 12.8s\n1313:\tlearn: 2119881.5717595\ttest: 36839187.9321571\tbest: 36836721.8846360 (1274)\ttotal: 1m 29s\tremaining: 12.7s\n1314:\tlearn: 2118063.2614683\ttest: 36839245.2583055\tbest: 36836721.8846360 (1274)\ttotal: 1m 29s\tremaining: 12.6s\n1315:\tlearn: 2116215.9664960\ttest: 36839362.8148406\tbest: 36836721.8846360 (1274)\ttotal: 1m 29s\tremaining: 12.6s\n1316:\tlearn: 2114823.0158380\ttest: 36837823.0699692\tbest: 36836721.8846360 (1274)\ttotal: 1m 29s\tremaining: 12.5s\n1317:\tlearn: 2113861.9257581\ttest: 36837480.9791331\tbest: 36836721.8846360 (1274)\ttotal: 1m 29s\tremaining: 12.4s\n1318:\tlearn: 2112284.5237729\ttest: 36837789.2720526\tbest: 36836721.8846360 (1274)\ttotal: 1m 30s\tremaining: 12.4s\n1319:\tlearn: 2110986.3834138\ttest: 36838365.4848827\tbest: 36836721.8846360 (1274)\ttotal: 1m 30s\tremaining: 12.3s\n1320:\tlearn: 2108958.9111650\ttest: 36839115.1900841\tbest: 36836721.8846360 (1274)\ttotal: 1m 30s\tremaining: 12.2s\n1321:\tlearn: 2108213.8573406\ttest: 36839158.3155847\tbest: 36836721.8846360 (1274)\ttotal: 1m 30s\tremaining: 12.2s\n1322:\tlearn: 2107400.9298165\ttest: 36839818.3793856\tbest: 36836721.8846360 (1274)\ttotal: 1m 30s\tremaining: 12.1s\n1323:\tlearn: 2106174.4687363\ttest: 36839371.0635029\tbest: 36836721.8846360 (1274)\ttotal: 1m 30s\tremaining: 12s\n1324:\tlearn: 2104372.2317631\ttest: 36839238.2663014\tbest: 36836721.8846360 (1274)\ttotal: 1m 30s\tremaining: 11.9s\n1325:\tlearn: 2103094.9804836\ttest: 36839313.6984609\tbest: 36836721.8846360 (1274)\ttotal: 1m 30s\tremaining: 11.9s\n1326:\tlearn: 2101768.4668834\ttest: 36839517.2438300\tbest: 36836721.8846360 (1274)\ttotal: 1m 30s\tremaining: 11.8s\n1327:\tlearn: 2099703.7685513\ttest: 36839753.2503893\tbest: 36836721.8846360 (1274)\ttotal: 1m 30s\tremaining: 11.8s\n1328:\tlearn: 2098987.0415079\ttest: 36839018.9272844\tbest: 36836721.8846360 (1274)\ttotal: 1m 30s\tremaining: 11.7s\n1329:\tlearn: 2096972.7802532\ttest: 36838967.8296001\tbest: 36836721.8846360 (1274)\ttotal: 1m 30s\tremaining: 11.6s\n1330:\tlearn: 2096164.7116529\ttest: 36839224.9297677\tbest: 36836721.8846360 (1274)\ttotal: 1m 31s\tremaining: 11.6s\n1331:\tlearn: 2095622.3276639\ttest: 36839227.9580474\tbest: 36836721.8846360 (1274)\ttotal: 1m 31s\tremaining: 11.5s\n1332:\tlearn: 2094450.0348471\ttest: 36838605.7537528\tbest: 36836721.8846360 (1274)\ttotal: 1m 31s\tremaining: 11.4s\n1333:\tlearn: 2093376.9629220\ttest: 36839117.9905794\tbest: 36836721.8846360 (1274)\ttotal: 1m 31s\tremaining: 11.3s\n1334:\tlearn: 2092405.7177327\ttest: 36839913.5868727\tbest: 36836721.8846360 (1274)\ttotal: 1m 31s\tremaining: 11.3s\n1335:\tlearn: 2090546.8876323\ttest: 36840191.0498874\tbest: 36836721.8846360 (1274)\ttotal: 1m 31s\tremaining: 11.2s\n1336:\tlearn: 2089578.3260277\ttest: 36840091.4238070\tbest: 36836721.8846360 (1274)\ttotal: 1m 31s\tremaining: 11.1s\n1337:\tlearn: 2088498.9608336\ttest: 36842257.0873879\tbest: 36836721.8846360 (1274)\ttotal: 1m 31s\tremaining: 11.1s\n1338:\tlearn: 2086902.2526738\ttest: 36842953.1571798\tbest: 36836721.8846360 (1274)\ttotal: 1m 31s\tremaining: 11s\n1339:\tlearn: 2085491.7513882\ttest: 36842966.4491250\tbest: 36836721.8846360 (1274)\ttotal: 1m 31s\tremaining: 10.9s\n1340:\tlearn: 2084692.6505782\ttest: 36845864.0975116\tbest: 36836721.8846360 (1274)\ttotal: 1m 31s\tremaining: 10.9s\n1341:\tlearn: 2082749.4384320\ttest: 36845235.7625112\tbest: 36836721.8846360 (1274)\ttotal: 1m 31s\tremaining: 10.8s\n1342:\tlearn: 2081507.4063453\ttest: 36845205.4217668\tbest: 36836721.8846360 (1274)\ttotal: 1m 31s\tremaining: 10.7s\n1343:\tlearn: 2081055.1199108\ttest: 36844345.3896533\tbest: 36836721.8846360 (1274)\ttotal: 1m 31s\tremaining: 10.7s\n1344:\tlearn: 2079115.0779874\ttest: 36844582.8013702\tbest: 36836721.8846360 (1274)\ttotal: 1m 31s\tremaining: 10.6s\n1345:\tlearn: 2077797.8883854\ttest: 36844477.2292391\tbest: 36836721.8846360 (1274)\ttotal: 1m 31s\tremaining: 10.5s\n1346:\tlearn: 2076652.5697224\ttest: 36842846.6217963\tbest: 36836721.8846360 (1274)\ttotal: 1m 32s\tremaining: 10.5s\n1347:\tlearn: 2075008.8403496\ttest: 36840465.2760861\tbest: 36836721.8846360 (1274)\ttotal: 1m 32s\tremaining: 10.4s\n1348:\tlearn: 2073500.5018291\ttest: 36839940.6858846\tbest: 36836721.8846360 (1274)\ttotal: 1m 32s\tremaining: 10.3s\n1349:\tlearn: 2072283.6329806\ttest: 36839683.3718385\tbest: 36836721.8846360 (1274)\ttotal: 1m 32s\tremaining: 10.3s\n1350:\tlearn: 2072128.1991786\ttest: 36839573.0724962\tbest: 36836721.8846360 (1274)\ttotal: 1m 32s\tremaining: 10.2s\n1351:\tlearn: 2070412.2435465\ttest: 36840081.8906812\tbest: 36836721.8846360 (1274)\ttotal: 1m 32s\tremaining: 10.1s\n1352:\tlearn: 2069759.1468148\ttest: 36839965.4749499\tbest: 36836721.8846360 (1274)\ttotal: 1m 32s\tremaining: 10s\n1353:\tlearn: 2068471.1245598\ttest: 36840040.2391671\tbest: 36836721.8846360 (1274)\ttotal: 1m 32s\tremaining: 9.98s\n1354:\tlearn: 2067528.4447614\ttest: 36840119.3702538\tbest: 36836721.8846360 (1274)\ttotal: 1m 32s\tremaining: 9.91s\n1355:\tlearn: 2064559.5446938\ttest: 36839856.8477657\tbest: 36836721.8846360 (1274)\ttotal: 1m 32s\tremaining: 9.84s\n1356:\tlearn: 2063852.5057043\ttest: 36840016.0869342\tbest: 36836721.8846360 (1274)\ttotal: 1m 32s\tremaining: 9.78s\n1357:\tlearn: 2062710.9573874\ttest: 36839060.5160466\tbest: 36836721.8846360 (1274)\ttotal: 1m 32s\tremaining: 9.71s\n1358:\tlearn: 2061851.9934615\ttest: 36839083.9917923\tbest: 36836721.8846360 (1274)\ttotal: 1m 32s\tremaining: 9.64s\n1359:\tlearn: 2060127.5721706\ttest: 36838915.0024193\tbest: 36836721.8846360 (1274)\ttotal: 1m 32s\tremaining: 9.57s\n1360:\tlearn: 2059356.5080381\ttest: 36839148.5811932\tbest: 36836721.8846360 (1274)\ttotal: 1m 33s\tremaining: 9.5s\n1361:\tlearn: 2057913.0189441\ttest: 36838652.9134156\tbest: 36836721.8846360 (1274)\ttotal: 1m 33s\tremaining: 9.44s\n1362:\tlearn: 2056835.3176113\ttest: 36838400.3805852\tbest: 36836721.8846360 (1274)\ttotal: 1m 33s\tremaining: 9.38s\n1363:\tlearn: 2056322.2091925\ttest: 36837674.1103129\tbest: 36836721.8846360 (1274)\ttotal: 1m 33s\tremaining: 9.31s\n1364:\tlearn: 2055739.3008161\ttest: 36837211.3204349\tbest: 36836721.8846360 (1274)\ttotal: 1m 33s\tremaining: 9.24s\n1365:\tlearn: 2055291.4721133\ttest: 36836684.7239719\tbest: 36836684.7239719 (1365)\ttotal: 1m 33s\tremaining: 9.17s\n1366:\tlearn: 2053734.9538909\ttest: 36836210.6303477\tbest: 36836210.6303477 (1366)\ttotal: 1m 33s\tremaining: 9.11s\n1367:\tlearn: 2052299.5392823\ttest: 36836699.5786493\tbest: 36836210.6303477 (1366)\ttotal: 1m 33s\tremaining: 9.04s\n1368:\tlearn: 2051689.4217421\ttest: 36836474.4641606\tbest: 36836210.6303477 (1366)\ttotal: 1m 33s\tremaining: 8.97s\n1369:\tlearn: 2049075.3224232\ttest: 36829028.8703476\tbest: 36829028.8703476 (1369)\ttotal: 1m 33s\tremaining: 8.9s\n1370:\tlearn: 2047207.6967953\ttest: 36828640.9108159\tbest: 36828640.9108159 (1370)\ttotal: 1m 33s\tremaining: 8.83s\n1371:\tlearn: 2045841.5483653\ttest: 36829063.9425949\tbest: 36828640.9108159 (1370)\ttotal: 1m 33s\tremaining: 8.76s\n1372:\tlearn: 2044886.1786725\ttest: 36828900.6635159\tbest: 36828640.9108159 (1370)\ttotal: 1m 33s\tremaining: 8.69s\n1373:\tlearn: 2042571.7781966\ttest: 36828791.8437221\tbest: 36828640.9108159 (1370)\ttotal: 1m 34s\tremaining: 8.62s\n1374:\tlearn: 2041383.1155329\ttest: 36827826.6672276\tbest: 36827826.6672276 (1374)\ttotal: 1m 34s\tremaining: 8.55s\n1375:\tlearn: 2040296.4096324\ttest: 36827528.9245238\tbest: 36827528.9245238 (1375)\ttotal: 1m 34s\tremaining: 8.49s\n1376:\tlearn: 2039180.8422131\ttest: 36826090.0112040\tbest: 36826090.0112040 (1376)\ttotal: 1m 34s\tremaining: 8.42s\n1377:\tlearn: 2038414.5294050\ttest: 36825050.4367703\tbest: 36825050.4367703 (1377)\ttotal: 1m 34s\tremaining: 8.35s\n1378:\tlearn: 2037167.4460982\ttest: 36825859.9492891\tbest: 36825050.4367703 (1377)\ttotal: 1m 34s\tremaining: 8.28s\n1379:\tlearn: 2036417.2641273\ttest: 36825598.4414967\tbest: 36825050.4367703 (1377)\ttotal: 1m 34s\tremaining: 8.22s\n1380:\tlearn: 2034845.3947787\ttest: 36825668.5629653\tbest: 36825050.4367703 (1377)\ttotal: 1m 34s\tremaining: 8.15s\n1381:\tlearn: 2033514.4361454\ttest: 36823736.1537893\tbest: 36823736.1537893 (1381)\ttotal: 1m 34s\tremaining: 8.08s\n1382:\tlearn: 2031573.0994109\ttest: 36824822.3302759\tbest: 36823736.1537893 (1381)\ttotal: 1m 34s\tremaining: 8.01s\n1383:\tlearn: 2031531.7216179\ttest: 36824873.3959736\tbest: 36823736.1537893 (1381)\ttotal: 1m 34s\tremaining: 7.94s\n1384:\tlearn: 2030001.5365696\ttest: 36822612.6447669\tbest: 36822612.6447669 (1384)\ttotal: 1m 34s\tremaining: 7.87s\n1385:\tlearn: 2028763.2967650\ttest: 36822972.4307064\tbest: 36822612.6447669 (1384)\ttotal: 1m 34s\tremaining: 7.8s\n1386:\tlearn: 2027428.8642442\ttest: 36824104.7566119\tbest: 36822612.6447669 (1384)\ttotal: 1m 34s\tremaining: 7.73s\n1387:\tlearn: 2026015.9482092\ttest: 36823442.6368245\tbest: 36822612.6447669 (1384)\ttotal: 1m 35s\tremaining: 7.67s\n1388:\tlearn: 2025178.2068725\ttest: 36822883.6815578\tbest: 36822612.6447669 (1384)\ttotal: 1m 35s\tremaining: 7.6s\n1389:\tlearn: 2024140.6551239\ttest: 36822621.1243873\tbest: 36822612.6447669 (1384)\ttotal: 1m 35s\tremaining: 7.53s\n1390:\tlearn: 2021961.8540083\ttest: 36821130.6577356\tbest: 36821130.6577356 (1390)\ttotal: 1m 35s\tremaining: 7.46s\n1391:\tlearn: 2021336.6101466\ttest: 36821463.2059117\tbest: 36821130.6577356 (1390)\ttotal: 1m 35s\tremaining: 7.39s\n1392:\tlearn: 2019704.8455166\ttest: 36821165.6939645\tbest: 36821130.6577356 (1390)\ttotal: 1m 35s\tremaining: 7.32s\n1393:\tlearn: 2016782.8018658\ttest: 36821047.3051637\tbest: 36821047.3051637 (1393)\ttotal: 1m 35s\tremaining: 7.25s\n1394:\tlearn: 2015667.2203161\ttest: 36819857.5510026\tbest: 36819857.5510026 (1394)\ttotal: 1m 35s\tremaining: 7.18s\n1395:\tlearn: 2014414.9271460\ttest: 36820719.7103920\tbest: 36819857.5510026 (1394)\ttotal: 1m 35s\tremaining: 7.12s\n1396:\tlearn: 2014345.8949531\ttest: 36820637.1625107\tbest: 36819857.5510026 (1394)\ttotal: 1m 35s\tremaining: 7.05s\n1397:\tlearn: 2013519.1845426\ttest: 36820746.1862540\tbest: 36819857.5510026 (1394)\ttotal: 1m 35s\tremaining: 6.98s\n1398:\tlearn: 2012312.7105790\ttest: 36821067.5351148\tbest: 36819857.5510026 (1394)\ttotal: 1m 35s\tremaining: 6.92s\n1399:\tlearn: 2011749.8793714\ttest: 36821162.5064405\tbest: 36819857.5510026 (1394)\ttotal: 1m 35s\tremaining: 6.85s\n1400:\tlearn: 2010423.9783706\ttest: 36820674.0848842\tbest: 36819857.5510026 (1394)\ttotal: 1m 35s\tremaining: 6.78s\n1401:\tlearn: 2009926.2332509\ttest: 36820389.0285671\tbest: 36819857.5510026 (1394)\ttotal: 1m 36s\tremaining: 6.71s\n1402:\tlearn: 2008652.1056557\ttest: 36820517.3279746\tbest: 36819857.5510026 (1394)\ttotal: 1m 36s\tremaining: 6.64s\n1403:\tlearn: 2007521.5818545\ttest: 36820721.1717046\tbest: 36819857.5510026 (1394)\ttotal: 1m 36s\tremaining: 6.57s\n1404:\tlearn: 2006656.4230902\ttest: 36820763.7202528\tbest: 36819857.5510026 (1394)\ttotal: 1m 36s\tremaining: 6.5s\n1405:\tlearn: 2004790.0432057\ttest: 36821720.7410689\tbest: 36819857.5510026 (1394)\ttotal: 1m 36s\tremaining: 6.44s\n1406:\tlearn: 2002974.5163471\ttest: 36821160.8980813\tbest: 36819857.5510026 (1394)\ttotal: 1m 36s\tremaining: 6.37s\n1407:\tlearn: 2001949.0287341\ttest: 36821176.0747813\tbest: 36819857.5510026 (1394)\ttotal: 1m 36s\tremaining: 6.3s\n1408:\tlearn: 2000831.9703176\ttest: 36821138.5809601\tbest: 36819857.5510026 (1394)\ttotal: 1m 36s\tremaining: 6.23s\n1409:\tlearn: 1999798.1123529\ttest: 36821044.8882377\tbest: 36819857.5510026 (1394)\ttotal: 1m 36s\tremaining: 6.16s\n1410:\tlearn: 1997545.3764366\ttest: 36819156.1090824\tbest: 36819156.1090824 (1410)\ttotal: 1m 36s\tremaining: 6.09s\n1411:\tlearn: 1996350.2369435\ttest: 36818922.3411472\tbest: 36818922.3411472 (1411)\ttotal: 1m 36s\tremaining: 6.02s\n1412:\tlearn: 1995429.5878850\ttest: 36819894.8011828\tbest: 36818922.3411472 (1411)\ttotal: 1m 36s\tremaining: 5.95s\n1413:\tlearn: 1993109.3270876\ttest: 36819731.4207995\tbest: 36818922.3411472 (1411)\ttotal: 1m 36s\tremaining: 5.88s\n1414:\tlearn: 1992299.5360468\ttest: 36819647.9108395\tbest: 36818922.3411472 (1411)\ttotal: 1m 36s\tremaining: 5.81s\n1415:\tlearn: 1991858.1775967\ttest: 36819842.5855325\tbest: 36818922.3411472 (1411)\ttotal: 1m 36s\tremaining: 5.74s\n1416:\tlearn: 1991071.7654534\ttest: 36819829.3123218\tbest: 36818922.3411472 (1411)\ttotal: 1m 36s\tremaining: 5.67s\n1417:\tlearn: 1989498.8020119\ttest: 36819762.5033813\tbest: 36818922.3411472 (1411)\ttotal: 1m 37s\tremaining: 5.61s\n1418:\tlearn: 1987640.5172059\ttest: 36819806.6809683\tbest: 36818922.3411472 (1411)\ttotal: 1m 37s\tremaining: 5.56s\n1419:\tlearn: 1985622.0691738\ttest: 36819756.5668946\tbest: 36818922.3411472 (1411)\ttotal: 1m 37s\tremaining: 5.49s\n1420:\tlearn: 1984612.1678220\ttest: 36819255.3680277\tbest: 36818922.3411472 (1411)\ttotal: 1m 37s\tremaining: 5.42s\n1421:\tlearn: 1983335.3063129\ttest: 36819350.4861049\tbest: 36818922.3411472 (1411)\ttotal: 1m 37s\tremaining: 5.36s\n1422:\tlearn: 1982476.9472097\ttest: 36819036.3231475\tbest: 36818922.3411472 (1411)\ttotal: 1m 37s\tremaining: 5.28s\n1423:\tlearn: 1981927.4286120\ttest: 36819032.0122102\tbest: 36818922.3411472 (1411)\ttotal: 1m 37s\tremaining: 5.21s\n1424:\tlearn: 1980947.7510149\ttest: 36818636.9756427\tbest: 36818636.9756427 (1424)\ttotal: 1m 37s\tremaining: 5.14s\n1425:\tlearn: 1979911.6081283\ttest: 36818713.2449808\tbest: 36818636.9756427 (1424)\ttotal: 1m 37s\tremaining: 5.08s\n1426:\tlearn: 1978981.3593406\ttest: 36818316.0266069\tbest: 36818316.0266069 (1426)\ttotal: 1m 37s\tremaining: 5.01s\n1427:\tlearn: 1977866.7588919\ttest: 36818328.6389282\tbest: 36818316.0266069 (1426)\ttotal: 1m 37s\tremaining: 4.94s\n1428:\tlearn: 1975982.6644769\ttest: 36818543.8242080\tbest: 36818316.0266069 (1426)\ttotal: 1m 38s\tremaining: 4.87s\n1429:\tlearn: 1974343.9149250\ttest: 36818663.1166072\tbest: 36818316.0266069 (1426)\ttotal: 1m 38s\tremaining: 4.8s\n1430:\tlearn: 1973339.9208953\ttest: 36818899.0988450\tbest: 36818316.0266069 (1426)\ttotal: 1m 38s\tremaining: 4.74s\n1431:\tlearn: 1971930.4657141\ttest: 36819201.1431560\tbest: 36818316.0266069 (1426)\ttotal: 1m 38s\tremaining: 4.67s\n1432:\tlearn: 1971193.9808317\ttest: 36819686.7831204\tbest: 36818316.0266069 (1426)\ttotal: 1m 38s\tremaining: 4.6s\n1433:\tlearn: 1969590.2390021\ttest: 36819745.0654149\tbest: 36818316.0266069 (1426)\ttotal: 1m 38s\tremaining: 4.53s\n1434:\tlearn: 1968751.8651538\ttest: 36819807.4886915\tbest: 36818316.0266069 (1426)\ttotal: 1m 38s\tremaining: 4.46s\n1435:\tlearn: 1966186.6520867\ttest: 36819468.5764429\tbest: 36818316.0266069 (1426)\ttotal: 1m 38s\tremaining: 4.39s\n1436:\tlearn: 1965303.3477688\ttest: 36819305.2547155\tbest: 36818316.0266069 (1426)\ttotal: 1m 38s\tremaining: 4.33s\n1437:\tlearn: 1964423.0141517\ttest: 36819206.7102708\tbest: 36818316.0266069 (1426)\ttotal: 1m 38s\tremaining: 4.26s\n1438:\tlearn: 1963476.2652794\ttest: 36817806.2524482\tbest: 36817806.2524482 (1438)\ttotal: 1m 38s\tremaining: 4.19s\n1439:\tlearn: 1961782.1167092\ttest: 36818300.2333942\tbest: 36817806.2524482 (1438)\ttotal: 1m 38s\tremaining: 4.12s\n1440:\tlearn: 1961161.1167667\ttest: 36818129.3576924\tbest: 36817806.2524482 (1438)\ttotal: 1m 38s\tremaining: 4.05s\n1441:\tlearn: 1959139.1609929\ttest: 36817722.6578054\tbest: 36817722.6578054 (1441)\ttotal: 1m 39s\tremaining: 3.98s\n1442:\tlearn: 1958261.2025819\ttest: 36817447.7739545\tbest: 36817447.7739545 (1442)\ttotal: 1m 39s\tremaining: 3.91s\n1443:\tlearn: 1956587.0350691\ttest: 36816610.0791390\tbest: 36816610.0791390 (1443)\ttotal: 1m 39s\tremaining: 3.84s\n1444:\tlearn: 1955799.3641765\ttest: 36815471.5843769\tbest: 36815471.5843769 (1444)\ttotal: 1m 39s\tremaining: 3.78s\n1445:\tlearn: 1953608.6991493\ttest: 36815517.0188290\tbest: 36815471.5843769 (1444)\ttotal: 1m 39s\tremaining: 3.71s\n1446:\tlearn: 1952876.1805805\ttest: 36815593.8043197\tbest: 36815471.5843769 (1444)\ttotal: 1m 39s\tremaining: 3.64s\n1447:\tlearn: 1950553.0723016\ttest: 36815477.7404909\tbest: 36815471.5843769 (1444)\ttotal: 1m 39s\tremaining: 3.57s\n1448:\tlearn: 1949113.6259171\ttest: 36815301.8432011\tbest: 36815301.8432011 (1448)\ttotal: 1m 39s\tremaining: 3.5s\n1449:\tlearn: 1947967.8566078\ttest: 36814601.2835781\tbest: 36814601.2835781 (1449)\ttotal: 1m 39s\tremaining: 3.43s\n1450:\tlearn: 1946933.3572152\ttest: 36815218.0967640\tbest: 36814601.2835781 (1449)\ttotal: 1m 39s\tremaining: 3.36s\n1451:\tlearn: 1944518.0641797\ttest: 36815473.4056687\tbest: 36814601.2835781 (1449)\ttotal: 1m 39s\tremaining: 3.29s\n1452:\tlearn: 1943838.4228785\ttest: 36815454.2601217\tbest: 36814601.2835781 (1449)\ttotal: 1m 39s\tremaining: 3.23s\n1453:\tlearn: 1942643.5819911\ttest: 36814924.6535972\tbest: 36814601.2835781 (1449)\ttotal: 1m 39s\tremaining: 3.16s\n1454:\tlearn: 1942216.8653219\ttest: 36815027.8351940\tbest: 36814601.2835781 (1449)\ttotal: 1m 39s\tremaining: 3.09s\n1455:\tlearn: 1942041.8926423\ttest: 36815315.4299125\tbest: 36814601.2835781 (1449)\ttotal: 1m 39s\tremaining: 3.02s\n1456:\tlearn: 1940744.8731358\ttest: 36815204.8809694\tbest: 36814601.2835781 (1449)\ttotal: 1m 40s\tremaining: 2.95s\n1457:\tlearn: 1939572.2402289\ttest: 36815125.7437401\tbest: 36814601.2835781 (1449)\ttotal: 1m 40s\tremaining: 2.88s\n1458:\tlearn: 1938194.3568317\ttest: 36815875.0392449\tbest: 36814601.2835781 (1449)\ttotal: 1m 40s\tremaining: 2.82s\n1459:\tlearn: 1937713.2749788\ttest: 36815717.7578460\tbest: 36814601.2835781 (1449)\ttotal: 1m 40s\tremaining: 2.75s\n1460:\tlearn: 1937076.4617470\ttest: 36815839.7203108\tbest: 36814601.2835781 (1449)\ttotal: 1m 40s\tremaining: 2.68s\n1461:\tlearn: 1935899.8424311\ttest: 36816218.9074857\tbest: 36814601.2835781 (1449)\ttotal: 1m 40s\tremaining: 2.61s\n1462:\tlearn: 1934346.1904391\ttest: 36816089.8602544\tbest: 36814601.2835781 (1449)\ttotal: 1m 40s\tremaining: 2.54s\n1463:\tlearn: 1932763.6572575\ttest: 36815500.3803632\tbest: 36814601.2835781 (1449)\ttotal: 1m 40s\tremaining: 2.47s\n1464:\tlearn: 1931316.0343961\ttest: 36816797.7519396\tbest: 36814601.2835781 (1449)\ttotal: 1m 40s\tremaining: 2.4s\n1465:\tlearn: 1929573.0240453\ttest: 36816989.1806714\tbest: 36814601.2835781 (1449)\ttotal: 1m 40s\tremaining: 2.33s\n1466:\tlearn: 1928133.7308841\ttest: 36817024.2515234\tbest: 36814601.2835781 (1449)\ttotal: 1m 40s\tremaining: 2.26s\n1467:\tlearn: 1927454.2399309\ttest: 36817054.5191759\tbest: 36814601.2835781 (1449)\ttotal: 1m 40s\tremaining: 2.2s\n1468:\tlearn: 1926950.1118125\ttest: 36816600.3443280\tbest: 36814601.2835781 (1449)\ttotal: 1m 40s\tremaining: 2.13s\n1469:\tlearn: 1924939.2371874\ttest: 36816647.9320064\tbest: 36814601.2835781 (1449)\ttotal: 1m 40s\tremaining: 2.06s\n1470:\tlearn: 1923281.1233653\ttest: 36817035.8851231\tbest: 36814601.2835781 (1449)\ttotal: 1m 41s\tremaining: 1.99s\n1471:\tlearn: 1922076.3361827\ttest: 36816949.9487830\tbest: 36814601.2835781 (1449)\ttotal: 1m 41s\tremaining: 1.92s\n1472:\tlearn: 1921012.8769986\ttest: 36813609.5666056\tbest: 36813609.5666056 (1472)\ttotal: 1m 41s\tremaining: 1.85s\n1473:\tlearn: 1919932.6261979\ttest: 36814105.3291823\tbest: 36813609.5666056 (1472)\ttotal: 1m 41s\tremaining: 1.79s\n1474:\tlearn: 1919888.6824527\ttest: 36814100.2201783\tbest: 36813609.5666056 (1472)\ttotal: 1m 41s\tremaining: 1.72s\n1475:\tlearn: 1918209.6236182\ttest: 36814471.9596137\tbest: 36813609.5666056 (1472)\ttotal: 1m 41s\tremaining: 1.65s\n1476:\tlearn: 1918160.2791332\ttest: 36814475.6140886\tbest: 36813609.5666056 (1472)\ttotal: 1m 41s\tremaining: 1.58s\n1477:\tlearn: 1917408.0451584\ttest: 36814457.0151121\tbest: 36813609.5666056 (1472)\ttotal: 1m 41s\tremaining: 1.51s\n1478:\tlearn: 1916118.8030404\ttest: 36814800.4836322\tbest: 36813609.5666056 (1472)\ttotal: 1m 41s\tremaining: 1.44s\n1479:\tlearn: 1914401.0113316\ttest: 36815210.6936021\tbest: 36813609.5666056 (1472)\ttotal: 1m 41s\tremaining: 1.37s\n1480:\tlearn: 1913124.3750357\ttest: 36815575.3433339\tbest: 36813609.5666056 (1472)\ttotal: 1m 41s\tremaining: 1.3s\n1481:\tlearn: 1911920.8162319\ttest: 36815667.6287964\tbest: 36813609.5666056 (1472)\ttotal: 1m 41s\tremaining: 1.24s\n1482:\tlearn: 1911876.0654153\ttest: 36815667.5993214\tbest: 36813609.5666056 (1472)\ttotal: 1m 41s\tremaining: 1.17s\n1483:\tlearn: 1911093.9790048\ttest: 36815338.8131426\tbest: 36813609.5666056 (1472)\ttotal: 1m 41s\tremaining: 1.1s\n1484:\tlearn: 1910306.2227680\ttest: 36815065.3037746\tbest: 36813609.5666056 (1472)\ttotal: 1m 41s\tremaining: 1.03s\n1485:\tlearn: 1909583.9301511\ttest: 36816194.7691400\tbest: 36813609.5666056 (1472)\ttotal: 1m 42s\tremaining: 961ms\n1486:\tlearn: 1909004.2458547\ttest: 36815867.0593268\tbest: 36813609.5666056 (1472)\ttotal: 1m 42s\tremaining: 893ms\n1487:\tlearn: 1908954.3052563\ttest: 36815599.4448911\tbest: 36813609.5666056 (1472)\ttotal: 1m 42s\tremaining: 824ms\n1488:\tlearn: 1908258.5454680\ttest: 36815847.3065711\tbest: 36813609.5666056 (1472)\ttotal: 1m 42s\tremaining: 756ms\n1489:\tlearn: 1907615.9517395\ttest: 36816141.6392174\tbest: 36813609.5666056 (1472)\ttotal: 1m 42s\tremaining: 687ms\n1490:\tlearn: 1906843.5298600\ttest: 36815970.1404144\tbest: 36813609.5666056 (1472)\ttotal: 1m 42s\tremaining: 619ms\n1491:\tlearn: 1905427.5134887\ttest: 36816182.0257931\tbest: 36813609.5666056 (1472)\ttotal: 1m 42s\tremaining: 550ms\n1492:\tlearn: 1904930.1066164\ttest: 36816195.2138437\tbest: 36813609.5666056 (1472)\ttotal: 1m 42s\tremaining: 481ms\n1493:\tlearn: 1903499.1213531\ttest: 36816598.3413464\tbest: 36813609.5666056 (1472)\ttotal: 1m 42s\tremaining: 412ms\n1494:\tlearn: 1903112.8692427\ttest: 36814325.8229035\tbest: 36813609.5666056 (1472)\ttotal: 1m 42s\tremaining: 344ms\n1495:\tlearn: 1902436.1785030\ttest: 36814495.1971007\tbest: 36813609.5666056 (1472)\ttotal: 1m 42s\tremaining: 275ms\n1496:\tlearn: 1901270.0218512\ttest: 36814410.9720009\tbest: 36813609.5666056 (1472)\ttotal: 1m 42s\tremaining: 206ms\n1497:\tlearn: 1899960.8639267\ttest: 36814337.8858582\tbest: 36813609.5666056 (1472)\ttotal: 1m 42s\tremaining: 137ms\n1498:\tlearn: 1898819.5008163\ttest: 36814253.1403542\tbest: 36813609.5666056 (1472)\ttotal: 1m 43s\tremaining: 68.7ms\n1499:\tlearn: 1898453.1297847\ttest: 36814446.6175549\tbest: 36813609.5666056 (1472)\ttotal: 1m 43s\tremaining: 0us\n\nbestTest = 36813609.57\nbestIteration = 1472\n\nShrink model to first 1473 iterations.\n",
     "output_type": "stream"
    },
    {
     "output_type": "execute_result",
     "execution_count": 26,
     "data": {
      "text/plain": "<catboost.core.CatBoostRegressor at 0x7f84891333d0>"
     },
     "metadata": {}
    }
   ]
  },
  {
   "cell_type": "code",
   "metadata": {
    "tags": [],
    "cell_id": "00011-29948bd9-dc3a-4716-81e1-554de26b1797",
    "deepnote_to_be_reexecuted": false,
    "source_hash": "1f4f7177",
    "execution_start": 1636655011679,
    "execution_millis": 186,
    "deepnote_cell_type": "code"
   },
   "source": "print(model.score(X_train, y_train))",
   "execution_count": null,
   "outputs": [
    {
     "name": "stdout",
     "text": "0.9973409897009676\n",
     "output_type": "stream"
    }
   ]
  },
  {
   "cell_type": "code",
   "metadata": {
    "tags": [],
    "cell_id": "00012-dc852ad0-23fd-4899-82b6-4324ff7e8ed5",
    "deepnote_to_be_reexecuted": false,
    "source_hash": "5e6074f8",
    "execution_start": 1636655019935,
    "execution_millis": 110,
    "deepnote_output_heights": [
     null,
     21
    ],
    "deepnote_cell_type": "code"
   },
   "source": "from sklearn.metrics import r2_score\n\ny_pred = model.predict(X_val)\ny_pred = y_pred.astype(int)\nprint(model.score(X_val, y_val)), print(r2_score(y_pred, model.predict(X_val)))",
   "execution_count": null,
   "outputs": [
    {
     "name": "stdout",
     "text": "0.6106217712634119\n0.9999999999999998\n",
     "output_type": "stream"
    },
    {
     "output_type": "execute_result",
     "execution_count": 29,
     "data": {
      "text/plain": "(None, None)"
     },
     "metadata": {}
    }
   ]
  },
  {
   "cell_type": "code",
   "metadata": {
    "tags": [],
    "cell_id": "00013-2f4b170e-6e67-4d67-adce-53c03003edb4",
    "deepnote_to_be_reexecuted": false,
    "source_hash": "949a2162",
    "execution_start": 1636655025505,
    "execution_millis": 118,
    "deepnote_cell_type": "code"
   },
   "source": "df=pd.DataFrame({'Actual': y_val, 'Predicted':y_pred})\ndf",
   "execution_count": null,
   "outputs": [
    {
     "output_type": "execute_result",
     "execution_count": 30,
     "data": {
      "application/vnd.deepnote.dataframe.v2+json": {
       "row_count": 2329,
       "column_count": 2,
       "columns": [
        {
         "name": "Actual",
         "dtype": "float64",
         "stats": {
          "unique_count": 1429,
          "nan_count": 0,
          "min": "1200000.0",
          "max": "2133159000.0",
          "histogram": [
           {
            "bin_start": 1200000,
            "bin_end": 214395900,
            "count": 2311
           },
           {
            "bin_start": 214395900,
            "bin_end": 427591800,
            "count": 11
           },
           {
            "bin_start": 427591800,
            "bin_end": 640787700,
            "count": 6
           },
           {
            "bin_start": 640787700,
            "bin_end": 853983600,
            "count": 0
           },
           {
            "bin_start": 853983600,
            "bin_end": 1067179500,
            "count": 0
           },
           {
            "bin_start": 1067179500,
            "bin_end": 1280375400,
            "count": 0
           },
           {
            "bin_start": 1280375400,
            "bin_end": 1493571300,
            "count": 0
           },
           {
            "bin_start": 1493571300,
            "bin_end": 1706767200,
            "count": 0
           },
           {
            "bin_start": 1706767200,
            "bin_end": 1919963100,
            "count": 0
           },
           {
            "bin_start": 1919963100,
            "bin_end": 2133159000,
            "count": 1
           }
          ]
         }
        },
        {
         "name": "Predicted",
         "dtype": "int64",
         "stats": {
          "unique_count": 2321,
          "nan_count": 0,
          "min": "2071628",
          "max": "514754834",
          "histogram": [
           {
            "bin_start": 2071628,
            "bin_end": 53339948.6,
            "count": 2113
           },
           {
            "bin_start": 53339948.6,
            "bin_end": 104608269.2,
            "count": 134
           },
           {
            "bin_start": 104608269.2,
            "bin_end": 155876589.8,
            "count": 53
           },
           {
            "bin_start": 155876589.8,
            "bin_end": 207144910.4,
            "count": 10
           },
           {
            "bin_start": 207144910.4,
            "bin_end": 258413231,
            "count": 6
           },
           {
            "bin_start": 258413231,
            "bin_end": 309681551.6,
            "count": 4
           },
           {
            "bin_start": 309681551.6,
            "bin_end": 360949872.2,
            "count": 2
           },
           {
            "bin_start": 360949872.2,
            "bin_end": 412218192.8,
            "count": 4
           },
           {
            "bin_start": 412218192.8,
            "bin_end": 463486513.40000004,
            "count": 2
           },
           {
            "bin_start": 463486513.40000004,
            "bin_end": 514754834,
            "count": 1
           }
          ]
         }
        },
        {
         "name": "_deepnote_index_column",
         "dtype": "int64"
        }
       ],
       "rows_top": [
        {
         "Actual": 50000000,
         "Predicted": 49310794,
         "_deepnote_index_column": 0
        },
        {
         "Actual": 39990000,
         "Predicted": 48971165,
         "_deepnote_index_column": 1
        },
        {
         "Actual": 11270000,
         "Predicted": 11623935,
         "_deepnote_index_column": 2
        },
        {
         "Actual": 11950000,
         "Predicted": 12933913,
         "_deepnote_index_column": 3
        },
        {
         "Actual": 53000000,
         "Predicted": 104858087,
         "_deepnote_index_column": 4
        },
        {
         "Actual": 12694524,
         "Predicted": 12026084,
         "_deepnote_index_column": 5
        },
        {
         "Actual": 9800000,
         "Predicted": 8654206,
         "_deepnote_index_column": 6
        },
        {
         "Actual": 13598000,
         "Predicted": 13467588,
         "_deepnote_index_column": 7
        },
        {
         "Actual": 8499000,
         "Predicted": 7082622,
         "_deepnote_index_column": 8
        },
        {
         "Actual": 21187200,
         "Predicted": 21943975,
         "_deepnote_index_column": 9
        },
        {
         "Actual": 9500000,
         "Predicted": 10448414,
         "_deepnote_index_column": 10
        },
        {
         "Actual": 5617900,
         "Predicted": 5119413,
         "_deepnote_index_column": 11
        },
        {
         "Actual": 11490000,
         "Predicted": 11092946,
         "_deepnote_index_column": 12
        },
        {
         "Actual": 8505270,
         "Predicted": 8818452,
         "_deepnote_index_column": 13
        },
        {
         "Actual": 7500000,
         "Predicted": 6171906,
         "_deepnote_index_column": 14
        },
        {
         "Actual": 6997740,
         "Predicted": 7311866,
         "_deepnote_index_column": 15
        },
        {
         "Actual": 7506250,
         "Predicted": 7485703,
         "_deepnote_index_column": 16
        },
        {
         "Actual": 11266140,
         "Predicted": 9791332,
         "_deepnote_index_column": 17
        },
        {
         "Actual": 13100000,
         "Predicted": 14790775,
         "_deepnote_index_column": 18
        },
        {
         "Actual": 10667346,
         "Predicted": 9828060,
         "_deepnote_index_column": 19
        },
        {
         "Actual": 6232670,
         "Predicted": 6604008,
         "_deepnote_index_column": 20
        },
        {
         "Actual": 8700000,
         "Predicted": 8321121,
         "_deepnote_index_column": 21
        },
        {
         "Actual": 22771500,
         "Predicted": 21241324,
         "_deepnote_index_column": 22
        },
        {
         "Actual": 8187200,
         "Predicted": 9495970,
         "_deepnote_index_column": 23
        },
        {
         "Actual": 6040000,
         "Predicted": 5537365,
         "_deepnote_index_column": 24
        },
        {
         "Actual": 8000000,
         "Predicted": 8650567,
         "_deepnote_index_column": 25
        },
        {
         "Actual": 14500000,
         "Predicted": 13790973,
         "_deepnote_index_column": 26
        },
        {
         "Actual": 43900000,
         "Predicted": 35918058,
         "_deepnote_index_column": 27
        },
        {
         "Actual": 6703060,
         "Predicted": 6487503,
         "_deepnote_index_column": 28
        },
        {
         "Actual": 23290370,
         "Predicted": 23307565,
         "_deepnote_index_column": 29
        },
        {
         "Actual": 18500000,
         "Predicted": 19150359,
         "_deepnote_index_column": 30
        },
        {
         "Actual": 5400000,
         "Predicted": 5761819,
         "_deepnote_index_column": 31
        },
        {
         "Actual": 6943777,
         "Predicted": 6612566,
         "_deepnote_index_column": 32
        },
        {
         "Actual": 23703624,
         "Predicted": 22631214,
         "_deepnote_index_column": 33
        },
        {
         "Actual": 9500000,
         "Predicted": 10045358,
         "_deepnote_index_column": 34
        },
        {
         "Actual": 45000000,
         "Predicted": 47826091,
         "_deepnote_index_column": 35
        },
        {
         "Actual": 4894418,
         "Predicted": 5200186,
         "_deepnote_index_column": 36
        },
        {
         "Actual": 18500000,
         "Predicted": 18128271,
         "_deepnote_index_column": 37
        },
        {
         "Actual": 5750000,
         "Predicted": 5359947,
         "_deepnote_index_column": 38
        },
        {
         "Actual": 4752280,
         "Predicted": 5134130,
         "_deepnote_index_column": 39
        },
        {
         "Actual": 12900000,
         "Predicted": 15242560,
         "_deepnote_index_column": 40
        },
        {
         "Actual": 12200000,
         "Predicted": 12714623,
         "_deepnote_index_column": 41
        },
        {
         "Actual": 7320000,
         "Predicted": 7441346,
         "_deepnote_index_column": 42
        },
        {
         "Actual": 8290000,
         "Predicted": 9290995,
         "_deepnote_index_column": 43
        },
        {
         "Actual": 43000000,
         "Predicted": 42082112,
         "_deepnote_index_column": 44
        },
        {
         "Actual": 17409168,
         "Predicted": 16001140,
         "_deepnote_index_column": 45
        },
        {
         "Actual": 50000000,
         "Predicted": 37111583,
         "_deepnote_index_column": 46
        },
        {
         "Actual": 5650000,
         "Predicted": 6570601,
         "_deepnote_index_column": 47
        },
        {
         "Actual": 6990000,
         "Predicted": 7181086,
         "_deepnote_index_column": 48
        },
        {
         "Actual": 7245520,
         "Predicted": 6679350,
         "_deepnote_index_column": 49
        },
        {
         "Actual": 15047799,
         "Predicted": 16219266,
         "_deepnote_index_column": 50
        },
        {
         "Actual": 12800000,
         "Predicted": 14635741,
         "_deepnote_index_column": 51
        },
        {
         "Actual": 69900000,
         "Predicted": 74542745,
         "_deepnote_index_column": 52
        },
        {
         "Actual": 20299000,
         "Predicted": 25011298,
         "_deepnote_index_column": 53
        },
        {
         "Actual": 5199000,
         "Predicted": 4980071,
         "_deepnote_index_column": 54
        },
        {
         "Actual": 9690000,
         "Predicted": 11046356,
         "_deepnote_index_column": 55
        },
        {
         "Actual": 20596950,
         "Predicted": 21037887,
         "_deepnote_index_column": 56
        },
        {
         "Actual": 12076400,
         "Predicted": 11219021,
         "_deepnote_index_column": 57
        },
        {
         "Actual": 145000000,
         "Predicted": 136291287,
         "_deepnote_index_column": 58
        },
        {
         "Actual": 29990000,
         "Predicted": 33519992,
         "_deepnote_index_column": 59
        },
        {
         "Actual": 4574037,
         "Predicted": 4162671,
         "_deepnote_index_column": 60
        },
        {
         "Actual": 7449677,
         "Predicted": 7291417,
         "_deepnote_index_column": 61
        },
        {
         "Actual": 14385420,
         "Predicted": 14648408,
         "_deepnote_index_column": 62
        },
        {
         "Actual": 9650000,
         "Predicted": 9766559,
         "_deepnote_index_column": 63
        },
        {
         "Actual": 6390000,
         "Predicted": 6313275,
         "_deepnote_index_column": 64
        },
        {
         "Actual": 7315000,
         "Predicted": 7239116,
         "_deepnote_index_column": 65
        },
        {
         "Actual": 39900000,
         "Predicted": 37461486,
         "_deepnote_index_column": 66
        },
        {
         "Actual": 2566000,
         "Predicted": 2071628,
         "_deepnote_index_column": 67
        },
        {
         "Actual": 10350000,
         "Predicted": 7407405,
         "_deepnote_index_column": 68
        },
        {
         "Actual": 18403030,
         "Predicted": 17769496,
         "_deepnote_index_column": 69
        },
        {
         "Actual": 5230547,
         "Predicted": 5449219,
         "_deepnote_index_column": 70
        },
        {
         "Actual": 17350000,
         "Predicted": 21406886,
         "_deepnote_index_column": 71
        },
        {
         "Actual": 6244900,
         "Predicted": 5971867,
         "_deepnote_index_column": 72
        },
        {
         "Actual": 6900000,
         "Predicted": 7482228,
         "_deepnote_index_column": 73
        },
        {
         "Actual": 12968417,
         "Predicted": 14271211,
         "_deepnote_index_column": 74
        },
        {
         "Actual": 128875000,
         "Predicted": 101455619,
         "_deepnote_index_column": 75
        },
        {
         "Actual": 17827700,
         "Predicted": 18438346,
         "_deepnote_index_column": 76
        },
        {
         "Actual": 18867464,
         "Predicted": 19857593,
         "_deepnote_index_column": 77
        },
        {
         "Actual": 8800000,
         "Predicted": 9422653,
         "_deepnote_index_column": 78
        },
        {
         "Actual": 11577200,
         "Predicted": 9991329,
         "_deepnote_index_column": 79
        },
        {
         "Actual": 6500000,
         "Predicted": 6009295,
         "_deepnote_index_column": 80
        },
        {
         "Actual": 9512500,
         "Predicted": 8748517,
         "_deepnote_index_column": 81
        },
        {
         "Actual": 10900000,
         "Predicted": 14610389,
         "_deepnote_index_column": 82
        },
        {
         "Actual": 6400000,
         "Predicted": 5988462,
         "_deepnote_index_column": 83
        },
        {
         "Actual": 14399776,
         "Predicted": 15492355,
         "_deepnote_index_column": 84
        },
        {
         "Actual": 5893153,
         "Predicted": 5552195,
         "_deepnote_index_column": 85
        },
        {
         "Actual": 7490000,
         "Predicted": 6747475,
         "_deepnote_index_column": 86
        },
        {
         "Actual": 8018900,
         "Predicted": 8541979,
         "_deepnote_index_column": 87
        },
        {
         "Actual": 9800000,
         "Predicted": 6991564,
         "_deepnote_index_column": 88
        },
        {
         "Actual": 74890000,
         "Predicted": 76296317,
         "_deepnote_index_column": 89
        },
        {
         "Actual": 24280715,
         "Predicted": 24069063,
         "_deepnote_index_column": 90
        },
        {
         "Actual": 11300000,
         "Predicted": 10553008,
         "_deepnote_index_column": 91
        },
        {
         "Actual": 6750000,
         "Predicted": 6117283,
         "_deepnote_index_column": 92
        },
        {
         "Actual": 4900000,
         "Predicted": 6080241,
         "_deepnote_index_column": 93
        },
        {
         "Actual": 17200000,
         "Predicted": 16310623,
         "_deepnote_index_column": 94
        },
        {
         "Actual": 11403000,
         "Predicted": 11440170,
         "_deepnote_index_column": 95
        },
        {
         "Actual": 30000000,
         "Predicted": 30913929,
         "_deepnote_index_column": 96
        },
        {
         "Actual": 7440400,
         "Predicted": 7982193,
         "_deepnote_index_column": 97
        },
        {
         "Actual": 7300000,
         "Predicted": 8519498,
         "_deepnote_index_column": 98
        },
        {
         "Actual": 7100000,
         "Predicted": 7405932,
         "_deepnote_index_column": 99
        },
        {
         "Actual": 6354280,
         "Predicted": 6691403,
         "_deepnote_index_column": 100
        },
        {
         "Actual": 11800000,
         "Predicted": 9563682,
         "_deepnote_index_column": 101
        },
        {
         "Actual": 8723160,
         "Predicted": 8507847,
         "_deepnote_index_column": 102
        },
        {
         "Actual": 5800000,
         "Predicted": 5625078,
         "_deepnote_index_column": 103
        },
        {
         "Actual": 55989999,
         "Predicted": 55428508,
         "_deepnote_index_column": 104
        },
        {
         "Actual": 10577875,
         "Predicted": 10654694,
         "_deepnote_index_column": 105
        },
        {
         "Actual": 5600000,
         "Predicted": 6133451,
         "_deepnote_index_column": 106
        },
        {
         "Actual": 6690000,
         "Predicted": 7493237,
         "_deepnote_index_column": 107
        },
        {
         "Actual": 16328618,
         "Predicted": 16642672,
         "_deepnote_index_column": 108
        },
        {
         "Actual": 10139465,
         "Predicted": 11022668,
         "_deepnote_index_column": 109
        },
        {
         "Actual": 22800000,
         "Predicted": 23430766,
         "_deepnote_index_column": 110
        },
        {
         "Actual": 8200000,
         "Predicted": 8422494,
         "_deepnote_index_column": 111
        },
        {
         "Actual": 5500000,
         "Predicted": 9467870,
         "_deepnote_index_column": 112
        },
        {
         "Actual": 14559086,
         "Predicted": 14429831,
         "_deepnote_index_column": 113
        },
        {
         "Actual": 17311261,
         "Predicted": 18951556,
         "_deepnote_index_column": 114
        },
        {
         "Actual": 95000000,
         "Predicted": 106824748,
         "_deepnote_index_column": 115
        },
        {
         "Actual": 7882925,
         "Predicted": 7742587,
         "_deepnote_index_column": 116
        },
        {
         "Actual": 12600000,
         "Predicted": 14621937,
         "_deepnote_index_column": 117
        },
        {
         "Actual": 4300000,
         "Predicted": 5337444,
         "_deepnote_index_column": 118
        },
        {
         "Actual": 111430260,
         "Predicted": 105972931,
         "_deepnote_index_column": 119
        },
        {
         "Actual": 7900000,
         "Predicted": 9584054,
         "_deepnote_index_column": 120
        },
        {
         "Actual": 7300000,
         "Predicted": 7826403,
         "_deepnote_index_column": 121
        },
        {
         "Actual": 9400000,
         "Predicted": 11029891,
         "_deepnote_index_column": 122
        },
        {
         "Actual": 9500000,
         "Predicted": 9161995,
         "_deepnote_index_column": 123
        },
        {
         "Actual": 42000000,
         "Predicted": 44570240,
         "_deepnote_index_column": 124
        },
        {
         "Actual": 13192629,
         "Predicted": 14151993,
         "_deepnote_index_column": 125
        },
        {
         "Actual": 36727000,
         "Predicted": 36524612,
         "_deepnote_index_column": 126
        },
        {
         "Actual": 27000000,
         "Predicted": 21908273,
         "_deepnote_index_column": 127
        },
        {
         "Actual": 72000000,
         "Predicted": 55513843,
         "_deepnote_index_column": 128
        },
        {
         "Actual": 8900000,
         "Predicted": 8390145,
         "_deepnote_index_column": 129
        },
        {
         "Actual": 14200000,
         "Predicted": 13313492,
         "_deepnote_index_column": 130
        },
        {
         "Actual": 11500000,
         "Predicted": 12301911,
         "_deepnote_index_column": 131
        },
        {
         "Actual": 6249000,
         "Predicted": 6464855,
         "_deepnote_index_column": 132
        },
        {
         "Actual": 145000000,
         "Predicted": 106061066,
         "_deepnote_index_column": 133
        },
        {
         "Actual": 8077200,
         "Predicted": 7509717,
         "_deepnote_index_column": 134
        },
        {
         "Actual": 5300000,
         "Predicted": 5312105,
         "_deepnote_index_column": 135
        },
        {
         "Actual": 21000000,
         "Predicted": 21195441,
         "_deepnote_index_column": 136
        },
        {
         "Actual": 11590000,
         "Predicted": 4721670,
         "_deepnote_index_column": 137
        },
        {
         "Actual": 5350000,
         "Predicted": 5571367,
         "_deepnote_index_column": 138
        },
        {
         "Actual": 6850000,
         "Predicted": 7145427,
         "_deepnote_index_column": 139
        },
        {
         "Actual": 13000000,
         "Predicted": 11813081,
         "_deepnote_index_column": 140
        },
        {
         "Actual": 9900000,
         "Predicted": 8726471,
         "_deepnote_index_column": 141
        },
        {
         "Actual": 8000000,
         "Predicted": 7845065,
         "_deepnote_index_column": 142
        },
        {
         "Actual": 7000000,
         "Predicted": 7284153,
         "_deepnote_index_column": 143
        },
        {
         "Actual": 6850000,
         "Predicted": 7108685,
         "_deepnote_index_column": 144
        },
        {
         "Actual": 3901000,
         "Predicted": 2919985,
         "_deepnote_index_column": 145
        },
        {
         "Actual": 6000000,
         "Predicted": 4821187,
         "_deepnote_index_column": 146
        },
        {
         "Actual": 16250000,
         "Predicted": 14695291,
         "_deepnote_index_column": 147
        },
        {
         "Actual": 28861000,
         "Predicted": 29356533,
         "_deepnote_index_column": 148
        },
        {
         "Actual": 65000000,
         "Predicted": 70706116,
         "_deepnote_index_column": 149
        },
        {
         "Actual": 13000000,
         "Predicted": 12979383,
         "_deepnote_index_column": 150
        },
        {
         "Actual": 6900000,
         "Predicted": 7643612,
         "_deepnote_index_column": 151
        },
        {
         "Actual": 7700000,
         "Predicted": 6406389,
         "_deepnote_index_column": 152
        },
        {
         "Actual": 6400000,
         "Predicted": 7892806,
         "_deepnote_index_column": 153
        },
        {
         "Actual": 5500000,
         "Predicted": 4456662,
         "_deepnote_index_column": 154
        },
        {
         "Actual": 23595599,
         "Predicted": 23090671,
         "_deepnote_index_column": 155
        },
        {
         "Actual": 229051090,
         "Predicted": 177014334,
         "_deepnote_index_column": 156
        },
        {
         "Actual": 10801600,
         "Predicted": 10032584,
         "_deepnote_index_column": 157
        },
        {
         "Actual": 37128596,
         "Predicted": 34978062,
         "_deepnote_index_column": 158
        },
        {
         "Actual": 18322260,
         "Predicted": 20066912,
         "_deepnote_index_column": 159
        },
        {
         "Actual": 13197000,
         "Predicted": 20417100,
         "_deepnote_index_column": 160
        },
        {
         "Actual": 45000000,
         "Predicted": 53764661,
         "_deepnote_index_column": 161
        },
        {
         "Actual": 4400000,
         "Predicted": 6869059,
         "_deepnote_index_column": 162
        },
        {
         "Actual": 10393400,
         "Predicted": 10015177,
         "_deepnote_index_column": 163
        },
        {
         "Actual": 68750000,
         "Predicted": 55028685,
         "_deepnote_index_column": 164
        },
        {
         "Actual": 15250000,
         "Predicted": 14343907,
         "_deepnote_index_column": 165
        },
        {
         "Actual": 9250000,
         "Predicted": 7644555,
         "_deepnote_index_column": 166
        },
        {
         "Actual": 25494280,
         "Predicted": 24274299,
         "_deepnote_index_column": 167
        },
        {
         "Actual": 68880000,
         "Predicted": 63575208,
         "_deepnote_index_column": 168
        },
        {
         "Actual": 9200000,
         "Predicted": 8804075,
         "_deepnote_index_column": 169
        },
        {
         "Actual": 6798000,
         "Predicted": 7001830,
         "_deepnote_index_column": 170
        },
        {
         "Actual": 9800000,
         "Predicted": 8150018,
         "_deepnote_index_column": 171
        },
        {
         "Actual": 18300000,
         "Predicted": 32339538,
         "_deepnote_index_column": 172
        },
        {
         "Actual": 10168900,
         "Predicted": 10446759,
         "_deepnote_index_column": 173
        },
        {
         "Actual": 21728100,
         "Predicted": 21152654,
         "_deepnote_index_column": 174
        },
        {
         "Actual": 6545340,
         "Predicted": 5342937,
         "_deepnote_index_column": 175
        },
        {
         "Actual": 10800000,
         "Predicted": 9829789,
         "_deepnote_index_column": 176
        },
        {
         "Actual": 12353000,
         "Predicted": 13141086,
         "_deepnote_index_column": 177
        },
        {
         "Actual": 6100000,
         "Predicted": 5868760,
         "_deepnote_index_column": 178
        },
        {
         "Actual": 16228446,
         "Predicted": 15758413,
         "_deepnote_index_column": 179
        },
        {
         "Actual": 6300000,
         "Predicted": 6232508,
         "_deepnote_index_column": 180
        },
        {
         "Actual": 7436800,
         "Predicted": 7869598,
         "_deepnote_index_column": 181
        },
        {
         "Actual": 48500000,
         "Predicted": 55884695,
         "_deepnote_index_column": 182
        },
        {
         "Actual": 19841246,
         "Predicted": 20294831,
         "_deepnote_index_column": 183
        },
        {
         "Actual": 16561592,
         "Predicted": 16343952,
         "_deepnote_index_column": 184
        },
        {
         "Actual": 10900000,
         "Predicted": 12722919,
         "_deepnote_index_column": 185
        },
        {
         "Actual": 8729000,
         "Predicted": 8017197,
         "_deepnote_index_column": 186
        },
        {
         "Actual": 7500000,
         "Predicted": 6455970,
         "_deepnote_index_column": 187
        },
        {
         "Actual": 35750000,
         "Predicted": 39803785,
         "_deepnote_index_column": 188
        },
        {
         "Actual": 55000000,
         "Predicted": 51689769,
         "_deepnote_index_column": 189
        },
        {
         "Actual": 6955050,
         "Predicted": 6814430,
         "_deepnote_index_column": 190
        },
        {
         "Actual": 67000000,
         "Predicted": 58084860,
         "_deepnote_index_column": 191
        },
        {
         "Actual": 7300000,
         "Predicted": 6999528,
         "_deepnote_index_column": 192
        },
        {
         "Actual": 6700397,
         "Predicted": 7821064,
         "_deepnote_index_column": 193
        },
        {
         "Actual": 7700000,
         "Predicted": 7528646,
         "_deepnote_index_column": 194
        },
        {
         "Actual": 6700000,
         "Predicted": 6387182,
         "_deepnote_index_column": 195
        },
        {
         "Actual": 9587130,
         "Predicted": 8590018,
         "_deepnote_index_column": 196
        },
        {
         "Actual": 7392000,
         "Predicted": 6985670,
         "_deepnote_index_column": 197
        },
        {
         "Actual": 12500000,
         "Predicted": 13858793,
         "_deepnote_index_column": 198
        },
        {
         "Actual": 71990000,
         "Predicted": 81126797,
         "_deepnote_index_column": 199
        },
        {
         "Actual": 54999999,
         "Predicted": 72936007,
         "_deepnote_index_column": 200
        },
        {
         "Actual": 14600000,
         "Predicted": 18728315,
         "_deepnote_index_column": 201
        },
        {
         "Actual": 50000000,
         "Predicted": 59068957,
         "_deepnote_index_column": 202
        },
        {
         "Actual": 5950000,
         "Predicted": 6506728,
         "_deepnote_index_column": 203
        },
        {
         "Actual": 6031740,
         "Predicted": 6187295,
         "_deepnote_index_column": 204
        },
        {
         "Actual": 6900000,
         "Predicted": 8341781,
         "_deepnote_index_column": 205
        },
        {
         "Actual": 14750000,
         "Predicted": 13806097,
         "_deepnote_index_column": 206
        },
        {
         "Actual": 38000000,
         "Predicted": 55978480,
         "_deepnote_index_column": 207
        },
        {
         "Actual": 29450039,
         "Predicted": 36171780,
         "_deepnote_index_column": 208
        },
        {
         "Actual": 7600000,
         "Predicted": 7319769,
         "_deepnote_index_column": 209
        },
        {
         "Actual": 27000000,
         "Predicted": 35053824,
         "_deepnote_index_column": 210
        },
        {
         "Actual": 29900000,
         "Predicted": 35586707,
         "_deepnote_index_column": 211
        },
        {
         "Actual": 85000000,
         "Predicted": 89442221,
         "_deepnote_index_column": 212
        },
        {
         "Actual": 13451165,
         "Predicted": 14001975,
         "_deepnote_index_column": 213
        },
        {
         "Actual": 10445950,
         "Predicted": 10564007,
         "_deepnote_index_column": 214
        },
        {
         "Actual": 51950000,
         "Predicted": 48175245,
         "_deepnote_index_column": 215
        },
        {
         "Actual": 7340680,
         "Predicted": 7590120,
         "_deepnote_index_column": 216
        },
        {
         "Actual": 7000000,
         "Predicted": 5488157,
         "_deepnote_index_column": 217
        },
        {
         "Actual": 115000000,
         "Predicted": 71933127,
         "_deepnote_index_column": 218
        },
        {
         "Actual": 13800000,
         "Predicted": 10716380,
         "_deepnote_index_column": 219
        },
        {
         "Actual": 10600000,
         "Predicted": 9024119,
         "_deepnote_index_column": 220
        },
        {
         "Actual": 7514030,
         "Predicted": 7470426,
         "_deepnote_index_column": 221
        },
        {
         "Actual": 22597000,
         "Predicted": 23330767,
         "_deepnote_index_column": 222
        },
        {
         "Actual": 16275202,
         "Predicted": 15960920,
         "_deepnote_index_column": 223
        },
        {
         "Actual": 7900000,
         "Predicted": 7198293,
         "_deepnote_index_column": 224
        },
        {
         "Actual": 10400000,
         "Predicted": 12985052,
         "_deepnote_index_column": 225
        },
        {
         "Actual": 8500000,
         "Predicted": 9382491,
         "_deepnote_index_column": 226
        },
        {
         "Actual": 11500000,
         "Predicted": 10169718,
         "_deepnote_index_column": 227
        },
        {
         "Actual": 9900000,
         "Predicted": 11313455,
         "_deepnote_index_column": 228
        },
        {
         "Actual": 6250000,
         "Predicted": 6071213,
         "_deepnote_index_column": 229
        },
        {
         "Actual": 51000000,
         "Predicted": 50628514,
         "_deepnote_index_column": 230
        },
        {
         "Actual": 16261400,
         "Predicted": 15995965,
         "_deepnote_index_column": 231
        },
        {
         "Actual": 7250000,
         "Predicted": 5782669,
         "_deepnote_index_column": 232
        },
        {
         "Actual": 6715803,
         "Predicted": 6004256,
         "_deepnote_index_column": 233
        },
        {
         "Actual": 7048400,
         "Predicted": 7338012,
         "_deepnote_index_column": 234
        },
        {
         "Actual": 21500000,
         "Predicted": 16265248,
         "_deepnote_index_column": 235
        },
        {
         "Actual": 8500000,
         "Predicted": 11513469,
         "_deepnote_index_column": 236
        },
        {
         "Actual": 7500000,
         "Predicted": 7363759,
         "_deepnote_index_column": 237
        },
        {
         "Actual": 6200000,
         "Predicted": 5995192,
         "_deepnote_index_column": 238
        },
        {
         "Actual": 119270000,
         "Predicted": 153126306,
         "_deepnote_index_column": 239
        },
        {
         "Actual": 10990000,
         "Predicted": 13334338,
         "_deepnote_index_column": 240
        },
        {
         "Actual": 7200000,
         "Predicted": 7853608,
         "_deepnote_index_column": 241
        },
        {
         "Actual": 141863961,
         "Predicted": 88504694,
         "_deepnote_index_column": 242
        },
        {
         "Actual": 4778909,
         "Predicted": 5323380,
         "_deepnote_index_column": 243
        },
        {
         "Actual": 23889907,
         "Predicted": 24801703,
         "_deepnote_index_column": 244
        },
        {
         "Actual": 6150000,
         "Predicted": 6580633,
         "_deepnote_index_column": 245
        },
        {
         "Actual": 20649154,
         "Predicted": 21060255,
         "_deepnote_index_column": 246
        },
        {
         "Actual": 24500000,
         "Predicted": 20994960,
         "_deepnote_index_column": 247
        },
        {
         "Actual": 8000000,
         "Predicted": 9650409,
         "_deepnote_index_column": 248
        },
        {
         "Actual": 8346564,
         "Predicted": 8151489,
         "_deepnote_index_column": 249
        }
       ],
       "rows_bottom": [
        {
         "Actual": 17654114,
         "Predicted": 17173094,
         "_deepnote_index_column": 2079
        },
        {
         "Actual": 61902420,
         "Predicted": 82853857,
         "_deepnote_index_column": 2080
        },
        {
         "Actual": 15103341,
         "Predicted": 14615091,
         "_deepnote_index_column": 2081
        },
        {
         "Actual": 33000000,
         "Predicted": 38595389,
         "_deepnote_index_column": 2082
        },
        {
         "Actual": 7000000,
         "Predicted": 8218034,
         "_deepnote_index_column": 2083
        },
        {
         "Actual": 45000000,
         "Predicted": 32668281,
         "_deepnote_index_column": 2084
        },
        {
         "Actual": 311090000,
         "Predicted": 239718339,
         "_deepnote_index_column": 2085
        },
        {
         "Actual": 15600000,
         "Predicted": 15698882,
         "_deepnote_index_column": 2086
        },
        {
         "Actual": 21889298,
         "Predicted": 22381962,
         "_deepnote_index_column": 2087
        },
        {
         "Actual": 6500000,
         "Predicted": 5419207,
         "_deepnote_index_column": 2088
        },
        {
         "Actual": 13400000,
         "Predicted": 17045755,
         "_deepnote_index_column": 2089
        },
        {
         "Actual": 19900000,
         "Predicted": 14156882,
         "_deepnote_index_column": 2090
        },
        {
         "Actual": 16250300,
         "Predicted": 16782315,
         "_deepnote_index_column": 2091
        },
        {
         "Actual": 8900000,
         "Predicted": 8156224,
         "_deepnote_index_column": 2092
        },
        {
         "Actual": 9000000,
         "Predicted": 9906497,
         "_deepnote_index_column": 2093
        },
        {
         "Actual": 13900000,
         "Predicted": 12099219,
         "_deepnote_index_column": 2094
        },
        {
         "Actual": 7700000,
         "Predicted": 5861702,
         "_deepnote_index_column": 2095
        },
        {
         "Actual": 14100000,
         "Predicted": 13282331,
         "_deepnote_index_column": 2096
        },
        {
         "Actual": 8200000,
         "Predicted": 7811909,
         "_deepnote_index_column": 2097
        },
        {
         "Actual": 36500000,
         "Predicted": 41790540,
         "_deepnote_index_column": 2098
        },
        {
         "Actual": 12500000,
         "Predicted": 9488907,
         "_deepnote_index_column": 2099
        },
        {
         "Actual": 5191910,
         "Predicted": 5647838,
         "_deepnote_index_column": 2100
        },
        {
         "Actual": 24203780,
         "Predicted": 21241032,
         "_deepnote_index_column": 2101
        },
        {
         "Actual": 11388300,
         "Predicted": 10592214,
         "_deepnote_index_column": 2102
        },
        {
         "Actual": 6200000,
         "Predicted": 5879893,
         "_deepnote_index_column": 2103
        },
        {
         "Actual": 6881700,
         "Predicted": 6838949,
         "_deepnote_index_column": 2104
        },
        {
         "Actual": 11500000,
         "Predicted": 16834603,
         "_deepnote_index_column": 2105
        },
        {
         "Actual": 5894640,
         "Predicted": 5777277,
         "_deepnote_index_column": 2106
        },
        {
         "Actual": 53700000,
         "Predicted": 56287706,
         "_deepnote_index_column": 2107
        },
        {
         "Actual": 25539902,
         "Predicted": 28987092,
         "_deepnote_index_column": 2108
        },
        {
         "Actual": 10950000,
         "Predicted": 10139825,
         "_deepnote_index_column": 2109
        },
        {
         "Actual": 39924407,
         "Predicted": 40397965,
         "_deepnote_index_column": 2110
        },
        {
         "Actual": 6152960,
         "Predicted": 5802447,
         "_deepnote_index_column": 2111
        },
        {
         "Actual": 23499000,
         "Predicted": 23335310,
         "_deepnote_index_column": 2112
        },
        {
         "Actual": 8409900,
         "Predicted": 8905172,
         "_deepnote_index_column": 2113
        },
        {
         "Actual": 72000000,
         "Predicted": 89090852,
         "_deepnote_index_column": 2114
        },
        {
         "Actual": 7000000,
         "Predicted": 7054539,
         "_deepnote_index_column": 2115
        },
        {
         "Actual": 9500000,
         "Predicted": 8161713,
         "_deepnote_index_column": 2116
        },
        {
         "Actual": 8360420,
         "Predicted": 7494180,
         "_deepnote_index_column": 2117
        },
        {
         "Actual": 7700000,
         "Predicted": 7682730,
         "_deepnote_index_column": 2118
        },
        {
         "Actual": 9300000,
         "Predicted": 8893593,
         "_deepnote_index_column": 2119
        },
        {
         "Actual": 12472080,
         "Predicted": 11708133,
         "_deepnote_index_column": 2120
        },
        {
         "Actual": 21885186,
         "Predicted": 19966967,
         "_deepnote_index_column": 2121
        },
        {
         "Actual": 4450000,
         "Predicted": 4782252,
         "_deepnote_index_column": 2122
        },
        {
         "Actual": 5199000,
         "Predicted": 4243755,
         "_deepnote_index_column": 2123
        },
        {
         "Actual": 11200000,
         "Predicted": 10852097,
         "_deepnote_index_column": 2124
        },
        {
         "Actual": 6500000,
         "Predicted": 6767148,
         "_deepnote_index_column": 2125
        },
        {
         "Actual": 13000000,
         "Predicted": 9019832,
         "_deepnote_index_column": 2126
        },
        {
         "Actual": 11500000,
         "Predicted": 15274183,
         "_deepnote_index_column": 2127
        },
        {
         "Actual": 17232500,
         "Predicted": 15527756,
         "_deepnote_index_column": 2128
        },
        {
         "Actual": 5880000,
         "Predicted": 5433780,
         "_deepnote_index_column": 2129
        },
        {
         "Actual": 10800000,
         "Predicted": 10413767,
         "_deepnote_index_column": 2130
        },
        {
         "Actual": 8150000,
         "Predicted": 8016516,
         "_deepnote_index_column": 2131
        },
        {
         "Actual": 15500000,
         "Predicted": 14802739,
         "_deepnote_index_column": 2132
        },
        {
         "Actual": 43500000,
         "Predicted": 38885187,
         "_deepnote_index_column": 2133
        },
        {
         "Actual": 44000000,
         "Predicted": 41010405,
         "_deepnote_index_column": 2134
        },
        {
         "Actual": 6000850,
         "Predicted": 6579614,
         "_deepnote_index_column": 2135
        },
        {
         "Actual": 9600000,
         "Predicted": 8311104,
         "_deepnote_index_column": 2136
        },
        {
         "Actual": 12370000,
         "Predicted": 11195092,
         "_deepnote_index_column": 2137
        },
        {
         "Actual": 5383552,
         "Predicted": 4175873,
         "_deepnote_index_column": 2138
        },
        {
         "Actual": 19000000,
         "Predicted": 20683289,
         "_deepnote_index_column": 2139
        },
        {
         "Actual": 115000000,
         "Predicted": 136483412,
         "_deepnote_index_column": 2140
        },
        {
         "Actual": 6600000,
         "Predicted": 6069972,
         "_deepnote_index_column": 2141
        },
        {
         "Actual": 20000000,
         "Predicted": 22939850,
         "_deepnote_index_column": 2142
        },
        {
         "Actual": 9687824,
         "Predicted": 8327074,
         "_deepnote_index_column": 2143
        },
        {
         "Actual": 3120975,
         "Predicted": 3112376,
         "_deepnote_index_column": 2144
        },
        {
         "Actual": 10100000,
         "Predicted": 9379009,
         "_deepnote_index_column": 2145
        },
        {
         "Actual": 9999000,
         "Predicted": 8324048,
         "_deepnote_index_column": 2146
        },
        {
         "Actual": 11434035,
         "Predicted": 11784352,
         "_deepnote_index_column": 2147
        },
        {
         "Actual": 3700000,
         "Predicted": 3525489,
         "_deepnote_index_column": 2148
        },
        {
         "Actual": 7249480,
         "Predicted": 6989442,
         "_deepnote_index_column": 2149
        },
        {
         "Actual": 13419280,
         "Predicted": 14565653,
         "_deepnote_index_column": 2150
        },
        {
         "Actual": 42248651,
         "Predicted": 42865895,
         "_deepnote_index_column": 2151
        },
        {
         "Actual": 15960360,
         "Predicted": 15913710,
         "_deepnote_index_column": 2152
        },
        {
         "Actual": 43500000,
         "Predicted": 41699191,
         "_deepnote_index_column": 2153
        },
        {
         "Actual": 5900000,
         "Predicted": 5758579,
         "_deepnote_index_column": 2154
        },
        {
         "Actual": 13980000,
         "Predicted": 10992656,
         "_deepnote_index_column": 2155
        },
        {
         "Actual": 9300000,
         "Predicted": 9444427,
         "_deepnote_index_column": 2156
        },
        {
         "Actual": 4692000,
         "Predicted": 5070813,
         "_deepnote_index_column": 2157
        },
        {
         "Actual": 6800000,
         "Predicted": 6576625,
         "_deepnote_index_column": 2158
        },
        {
         "Actual": 10300000,
         "Predicted": 11214248,
         "_deepnote_index_column": 2159
        },
        {
         "Actual": 52579800,
         "Predicted": 50164833,
         "_deepnote_index_column": 2160
        },
        {
         "Actual": 11350000,
         "Predicted": 12743465,
         "_deepnote_index_column": 2161
        },
        {
         "Actual": 12000000,
         "Predicted": 12434399,
         "_deepnote_index_column": 2162
        },
        {
         "Actual": 28791040,
         "Predicted": 27560685,
         "_deepnote_index_column": 2163
        },
        {
         "Actual": 95000000,
         "Predicted": 147979000,
         "_deepnote_index_column": 2164
        },
        {
         "Actual": 8000000,
         "Predicted": 8669292,
         "_deepnote_index_column": 2165
        },
        {
         "Actual": 13993622,
         "Predicted": 14258863,
         "_deepnote_index_column": 2166
        },
        {
         "Actual": 14459709,
         "Predicted": 14574618,
         "_deepnote_index_column": 2167
        },
        {
         "Actual": 7856508,
         "Predicted": 7639407,
         "_deepnote_index_column": 2168
        },
        {
         "Actual": 12802956,
         "Predicted": 13110266,
         "_deepnote_index_column": 2169
        },
        {
         "Actual": 8100000,
         "Predicted": 8168898,
         "_deepnote_index_column": 2170
        },
        {
         "Actual": 8500000,
         "Predicted": 9860330,
         "_deepnote_index_column": 2171
        },
        {
         "Actual": 13500000,
         "Predicted": 13538189,
         "_deepnote_index_column": 2172
        },
        {
         "Actual": 12600000,
         "Predicted": 14939044,
         "_deepnote_index_column": 2173
        },
        {
         "Actual": 62150000,
         "Predicted": 188809950,
         "_deepnote_index_column": 2174
        },
        {
         "Actual": 433339900,
         "Predicted": 229168829,
         "_deepnote_index_column": 2175
        },
        {
         "Actual": 6584559,
         "Predicted": 6492345,
         "_deepnote_index_column": 2176
        },
        {
         "Actual": 14200000,
         "Predicted": 13610604,
         "_deepnote_index_column": 2177
        },
        {
         "Actual": 11500000,
         "Predicted": 14102128,
         "_deepnote_index_column": 2178
        },
        {
         "Actual": 6900000,
         "Predicted": 6757932,
         "_deepnote_index_column": 2179
        },
        {
         "Actual": 2800000,
         "Predicted": 3424010,
         "_deepnote_index_column": 2180
        },
        {
         "Actual": 5350000,
         "Predicted": 5239747,
         "_deepnote_index_column": 2181
        },
        {
         "Actual": 50500000,
         "Predicted": 46108687,
         "_deepnote_index_column": 2182
        },
        {
         "Actual": 15072577,
         "Predicted": 14171240,
         "_deepnote_index_column": 2183
        },
        {
         "Actual": 5676300,
         "Predicted": 5900171,
         "_deepnote_index_column": 2184
        },
        {
         "Actual": 10999999,
         "Predicted": 9090926,
         "_deepnote_index_column": 2185
        },
        {
         "Actual": 390000000,
         "Predicted": 342917175,
         "_deepnote_index_column": 2186
        },
        {
         "Actual": 17000000,
         "Predicted": 29594053,
         "_deepnote_index_column": 2187
        },
        {
         "Actual": 19700000,
         "Predicted": 19253784,
         "_deepnote_index_column": 2188
        },
        {
         "Actual": 17000000,
         "Predicted": 17702954,
         "_deepnote_index_column": 2189
        },
        {
         "Actual": 12082140,
         "Predicted": 11516883,
         "_deepnote_index_column": 2190
        },
        {
         "Actual": 6700000,
         "Predicted": 6300243,
         "_deepnote_index_column": 2191
        },
        {
         "Actual": 28273380,
         "Predicted": 27440923,
         "_deepnote_index_column": 2192
        },
        {
         "Actual": 4725000,
         "Predicted": 4558065,
         "_deepnote_index_column": 2193
        },
        {
         "Actual": 18245396,
         "Predicted": 19992003,
         "_deepnote_index_column": 2194
        },
        {
         "Actual": 16700000,
         "Predicted": 17882392,
         "_deepnote_index_column": 2195
        },
        {
         "Actual": 6332940,
         "Predicted": 6066974,
         "_deepnote_index_column": 2196
        },
        {
         "Actual": 64499300,
         "Predicted": 74296316,
         "_deepnote_index_column": 2197
        },
        {
         "Actual": 7300000,
         "Predicted": 7754015,
         "_deepnote_index_column": 2198
        },
        {
         "Actual": 6120000,
         "Predicted": 5159804,
         "_deepnote_index_column": 2199
        },
        {
         "Actual": 7990000,
         "Predicted": 6869800,
         "_deepnote_index_column": 2200
        },
        {
         "Actual": 45000000,
         "Predicted": 43303684,
         "_deepnote_index_column": 2201
        },
        {
         "Actual": 9600000,
         "Predicted": 10349709,
         "_deepnote_index_column": 2202
        },
        {
         "Actual": 21981848,
         "Predicted": 22919286,
         "_deepnote_index_column": 2203
        },
        {
         "Actual": 7200000,
         "Predicted": 7105833,
         "_deepnote_index_column": 2204
        },
        {
         "Actual": 16000000,
         "Predicted": 16177122,
         "_deepnote_index_column": 2205
        },
        {
         "Actual": 6844943,
         "Predicted": 7068966,
         "_deepnote_index_column": 2206
        },
        {
         "Actual": 7690000,
         "Predicted": 19026609,
         "_deepnote_index_column": 2207
        },
        {
         "Actual": 16674200,
         "Predicted": 15700068,
         "_deepnote_index_column": 2208
        },
        {
         "Actual": 18000000,
         "Predicted": 16777608,
         "_deepnote_index_column": 2209
        },
        {
         "Actual": 7600000,
         "Predicted": 7495917,
         "_deepnote_index_column": 2210
        },
        {
         "Actual": 9700000,
         "Predicted": 8236986,
         "_deepnote_index_column": 2211
        },
        {
         "Actual": 9101640,
         "Predicted": 11433599,
         "_deepnote_index_column": 2212
        },
        {
         "Actual": 4961240,
         "Predicted": 5246517,
         "_deepnote_index_column": 2213
        },
        {
         "Actual": 32255643,
         "Predicted": 29709489,
         "_deepnote_index_column": 2214
        },
        {
         "Actual": 6650000,
         "Predicted": 6599385,
         "_deepnote_index_column": 2215
        },
        {
         "Actual": 4128870,
         "Predicted": 4592530,
         "_deepnote_index_column": 2216
        },
        {
         "Actual": 8599000,
         "Predicted": 8433396,
         "_deepnote_index_column": 2217
        },
        {
         "Actual": 9090000,
         "Predicted": 13297987,
         "_deepnote_index_column": 2218
        },
        {
         "Actual": 49000000,
         "Predicted": 39431480,
         "_deepnote_index_column": 2219
        },
        {
         "Actual": 6911040,
         "Predicted": 6974269,
         "_deepnote_index_column": 2220
        },
        {
         "Actual": 55000000,
         "Predicted": 55329709,
         "_deepnote_index_column": 2221
        },
        {
         "Actual": 17117480,
         "Predicted": 16858363,
         "_deepnote_index_column": 2222
        },
        {
         "Actual": 6755070,
         "Predicted": 7330728,
         "_deepnote_index_column": 2223
        },
        {
         "Actual": 7300000,
         "Predicted": 8129814,
         "_deepnote_index_column": 2224
        },
        {
         "Actual": 5200000,
         "Predicted": 4293314,
         "_deepnote_index_column": 2225
        },
        {
         "Actual": 7500000,
         "Predicted": 7852539,
         "_deepnote_index_column": 2226
        },
        {
         "Actual": 6300000,
         "Predicted": 6832015,
         "_deepnote_index_column": 2227
        },
        {
         "Actual": 13018000,
         "Predicted": 11842886,
         "_deepnote_index_column": 2228
        },
        {
         "Actual": 7304760,
         "Predicted": 6843148,
         "_deepnote_index_column": 2229
        },
        {
         "Actual": 14045600,
         "Predicted": 15632236,
         "_deepnote_index_column": 2230
        },
        {
         "Actual": 8139585,
         "Predicted": 8088487,
         "_deepnote_index_column": 2231
        },
        {
         "Actual": 5737582,
         "Predicted": 5386194,
         "_deepnote_index_column": 2232
        },
        {
         "Actual": 13293972,
         "Predicted": 12970984,
         "_deepnote_index_column": 2233
        },
        {
         "Actual": 33877000,
         "Predicted": 28114541,
         "_deepnote_index_column": 2234
        },
        {
         "Actual": 80000000,
         "Predicted": 76375690,
         "_deepnote_index_column": 2235
        },
        {
         "Actual": 6200000,
         "Predicted": 6936378,
         "_deepnote_index_column": 2236
        },
        {
         "Actual": 9300000,
         "Predicted": 8501859,
         "_deepnote_index_column": 2237
        },
        {
         "Actual": 159407177,
         "Predicted": 112427334,
         "_deepnote_index_column": 2238
        },
        {
         "Actual": 7500000,
         "Predicted": 8012632,
         "_deepnote_index_column": 2239
        },
        {
         "Actual": 10700000,
         "Predicted": 10252184,
         "_deepnote_index_column": 2240
        },
        {
         "Actual": 6300000,
         "Predicted": 6790906,
         "_deepnote_index_column": 2241
        },
        {
         "Actual": 7800000,
         "Predicted": 7782248,
         "_deepnote_index_column": 2242
        },
        {
         "Actual": 11439449,
         "Predicted": 13438194,
         "_deepnote_index_column": 2243
        },
        {
         "Actual": 6700000,
         "Predicted": 6826080,
         "_deepnote_index_column": 2244
        },
        {
         "Actual": 19142213,
         "Predicted": 20745286,
         "_deepnote_index_column": 2245
        },
        {
         "Actual": 8596800,
         "Predicted": 8673581,
         "_deepnote_index_column": 2246
        },
        {
         "Actual": 9700000,
         "Predicted": 11235748,
         "_deepnote_index_column": 2247
        },
        {
         "Actual": 5650000,
         "Predicted": 6740876,
         "_deepnote_index_column": 2248
        },
        {
         "Actual": 15500000,
         "Predicted": 15004065,
         "_deepnote_index_column": 2249
        },
        {
         "Actual": 24928036,
         "Predicted": 24126266,
         "_deepnote_index_column": 2250
        },
        {
         "Actual": 34000000,
         "Predicted": 39366972,
         "_deepnote_index_column": 2251
        },
        {
         "Actual": 8350000,
         "Predicted": 8808415,
         "_deepnote_index_column": 2252
        },
        {
         "Actual": 7300000,
         "Predicted": 8723914,
         "_deepnote_index_column": 2253
        },
        {
         "Actual": 7100000,
         "Predicted": 7647857,
         "_deepnote_index_column": 2254
        },
        {
         "Actual": 8073940,
         "Predicted": 7826509,
         "_deepnote_index_column": 2255
        },
        {
         "Actual": 14490000,
         "Predicted": 13190273,
         "_deepnote_index_column": 2256
        },
        {
         "Actual": 17211951,
         "Predicted": 15925161,
         "_deepnote_index_column": 2257
        },
        {
         "Actual": 6999000,
         "Predicted": 7798823,
         "_deepnote_index_column": 2258
        },
        {
         "Actual": 7973350,
         "Predicted": 8083855,
         "_deepnote_index_column": 2259
        },
        {
         "Actual": 46554729,
         "Predicted": 42090929,
         "_deepnote_index_column": 2260
        },
        {
         "Actual": 11800000,
         "Predicted": 11294148,
         "_deepnote_index_column": 2261
        },
        {
         "Actual": 8200000,
         "Predicted": 7848434,
         "_deepnote_index_column": 2262
        },
        {
         "Actual": 7868158,
         "Predicted": 7312866,
         "_deepnote_index_column": 2263
        },
        {
         "Actual": 7200000,
         "Predicted": 7139364,
         "_deepnote_index_column": 2264
        },
        {
         "Actual": 6000000,
         "Predicted": 6211092,
         "_deepnote_index_column": 2265
        },
        {
         "Actual": 7953608,
         "Predicted": 8097113,
         "_deepnote_index_column": 2266
        },
        {
         "Actual": 18150000,
         "Predicted": 18604088,
         "_deepnote_index_column": 2267
        },
        {
         "Actual": 9470000,
         "Predicted": 7773615,
         "_deepnote_index_column": 2268
        },
        {
         "Actual": 4082013,
         "Predicted": 4128857,
         "_deepnote_index_column": 2269
        },
        {
         "Actual": 16088800,
         "Predicted": 14858216,
         "_deepnote_index_column": 2270
        },
        {
         "Actual": 27800000,
         "Predicted": 27983929,
         "_deepnote_index_column": 2271
        },
        {
         "Actual": 8745400,
         "Predicted": 8901172,
         "_deepnote_index_column": 2272
        },
        {
         "Actual": 3500000,
         "Predicted": 3572853,
         "_deepnote_index_column": 2273
        },
        {
         "Actual": 9650000,
         "Predicted": 8474304,
         "_deepnote_index_column": 2274
        },
        {
         "Actual": 17900000,
         "Predicted": 13985420,
         "_deepnote_index_column": 2275
        },
        {
         "Actual": 17500000,
         "Predicted": 15751631,
         "_deepnote_index_column": 2276
        },
        {
         "Actual": 24574000,
         "Predicted": 21368190,
         "_deepnote_index_column": 2277
        },
        {
         "Actual": 10550000,
         "Predicted": 9753268,
         "_deepnote_index_column": 2278
        },
        {
         "Actual": 23000000,
         "Predicted": 28888043,
         "_deepnote_index_column": 2279
        },
        {
         "Actual": 6950000,
         "Predicted": 10330709,
         "_deepnote_index_column": 2280
        },
        {
         "Actual": 25809000,
         "Predicted": 26915803,
         "_deepnote_index_column": 2281
        },
        {
         "Actual": 6175800,
         "Predicted": 6144811,
         "_deepnote_index_column": 2282
        },
        {
         "Actual": 8300000,
         "Predicted": 8460501,
         "_deepnote_index_column": 2283
        },
        {
         "Actual": 13782150,
         "Predicted": 14308604,
         "_deepnote_index_column": 2284
        },
        {
         "Actual": 15623680,
         "Predicted": 15630646,
         "_deepnote_index_column": 2285
        },
        {
         "Actual": 10500000,
         "Predicted": 9563978,
         "_deepnote_index_column": 2286
        },
        {
         "Actual": 100000000,
         "Predicted": 136653707,
         "_deepnote_index_column": 2287
        },
        {
         "Actual": 6500000,
         "Predicted": 6781252,
         "_deepnote_index_column": 2288
        },
        {
         "Actual": 7500000,
         "Predicted": 7505154,
         "_deepnote_index_column": 2289
        },
        {
         "Actual": 30772000,
         "Predicted": 30263051,
         "_deepnote_index_column": 2290
        },
        {
         "Actual": 6006600,
         "Predicted": 6119661,
         "_deepnote_index_column": 2291
        },
        {
         "Actual": 7150000,
         "Predicted": 7561899,
         "_deepnote_index_column": 2292
        },
        {
         "Actual": 11250000,
         "Predicted": 12680129,
         "_deepnote_index_column": 2293
        },
        {
         "Actual": 14900000,
         "Predicted": 12702670,
         "_deepnote_index_column": 2294
        },
        {
         "Actual": 5800000,
         "Predicted": 7053364,
         "_deepnote_index_column": 2295
        },
        {
         "Actual": 9650000,
         "Predicted": 9807746,
         "_deepnote_index_column": 2296
        },
        {
         "Actual": 19623300,
         "Predicted": 16624679,
         "_deepnote_index_column": 2297
        },
        {
         "Actual": 7750000,
         "Predicted": 8592414,
         "_deepnote_index_column": 2298
        },
        {
         "Actual": 4052700,
         "Predicted": 5253640,
         "_deepnote_index_column": 2299
        },
        {
         "Actual": 9882360,
         "Predicted": 10928614,
         "_deepnote_index_column": 2300
        },
        {
         "Actual": 7520030,
         "Predicted": 7141094,
         "_deepnote_index_column": 2301
        },
        {
         "Actual": 9499000,
         "Predicted": 8912527,
         "_deepnote_index_column": 2302
        },
        {
         "Actual": 8000000,
         "Predicted": 7488224,
         "_deepnote_index_column": 2303
        },
        {
         "Actual": 10600000,
         "Predicted": 9461539,
         "_deepnote_index_column": 2304
        },
        {
         "Actual": 10200000,
         "Predicted": 10349529,
         "_deepnote_index_column": 2305
        },
        {
         "Actual": 8900000,
         "Predicted": 10079392,
         "_deepnote_index_column": 2306
        },
        {
         "Actual": 32999999,
         "Predicted": 37229098,
         "_deepnote_index_column": 2307
        },
        {
         "Actual": 4493440,
         "Predicted": 4476560,
         "_deepnote_index_column": 2308
        },
        {
         "Actual": 8653683,
         "Predicted": 9022964,
         "_deepnote_index_column": 2309
        },
        {
         "Actual": 27220500,
         "Predicted": 25408290,
         "_deepnote_index_column": 2310
        },
        {
         "Actual": 12690000,
         "Predicted": 12727883,
         "_deepnote_index_column": 2311
        },
        {
         "Actual": 50000000,
         "Predicted": 57883425,
         "_deepnote_index_column": 2312
        },
        {
         "Actual": 26900000,
         "Predicted": 26586176,
         "_deepnote_index_column": 2313
        },
        {
         "Actual": 8650000,
         "Predicted": 8181150,
         "_deepnote_index_column": 2314
        },
        {
         "Actual": 25146200,
         "Predicted": 39656345,
         "_deepnote_index_column": 2315
        },
        {
         "Actual": 5990000,
         "Predicted": 5526773,
         "_deepnote_index_column": 2316
        },
        {
         "Actual": 6500000,
         "Predicted": 7193227,
         "_deepnote_index_column": 2317
        },
        {
         "Actual": 6190000,
         "Predicted": 6251783,
         "_deepnote_index_column": 2318
        },
        {
         "Actual": 9000000,
         "Predicted": 8648928,
         "_deepnote_index_column": 2319
        },
        {
         "Actual": 94773387,
         "Predicted": 95049059,
         "_deepnote_index_column": 2320
        },
        {
         "Actual": 9000000,
         "Predicted": 9134218,
         "_deepnote_index_column": 2321
        },
        {
         "Actual": 8168160,
         "Predicted": 7838265,
         "_deepnote_index_column": 2322
        },
        {
         "Actual": 10867153,
         "Predicted": 9307753,
         "_deepnote_index_column": 2323
        },
        {
         "Actual": 15830630,
         "Predicted": 15551844,
         "_deepnote_index_column": 2324
        },
        {
         "Actual": 30000000,
         "Predicted": 17887773,
         "_deepnote_index_column": 2325
        },
        {
         "Actual": 19990000,
         "Predicted": 17892658,
         "_deepnote_index_column": 2326
        },
        {
         "Actual": 7170000,
         "Predicted": 6842541,
         "_deepnote_index_column": 2327
        },
        {
         "Actual": 36000000,
         "Predicted": 52906002,
         "_deepnote_index_column": 2328
        }
       ]
      },
      "text/plain": "          Actual  Predicted\n0     50000000.0   49310794\n1     39990000.0   48971165\n2     11270000.0   11623935\n3     11950000.0   12933913\n4     53000000.0  104858087\n...          ...        ...\n2324  15830630.0   15551844\n2325  30000000.0   17887773\n2326  19990000.0   17892658\n2327   7170000.0    6842541\n2328  36000000.0   52906002\n\n[2329 rows x 2 columns]",
      "text/html": "<div>\n<style scoped>\n    .dataframe tbody tr th:only-of-type {\n        vertical-align: middle;\n    }\n\n    .dataframe tbody tr th {\n        vertical-align: top;\n    }\n\n    .dataframe thead th {\n        text-align: right;\n    }\n</style>\n<table border=\"1\" class=\"dataframe\">\n  <thead>\n    <tr style=\"text-align: right;\">\n      <th></th>\n      <th>Actual</th>\n      <th>Predicted</th>\n    </tr>\n  </thead>\n  <tbody>\n    <tr>\n      <th>0</th>\n      <td>50000000.0</td>\n      <td>49310794</td>\n    </tr>\n    <tr>\n      <th>1</th>\n      <td>39990000.0</td>\n      <td>48971165</td>\n    </tr>\n    <tr>\n      <th>2</th>\n      <td>11270000.0</td>\n      <td>11623935</td>\n    </tr>\n    <tr>\n      <th>3</th>\n      <td>11950000.0</td>\n      <td>12933913</td>\n    </tr>\n    <tr>\n      <th>4</th>\n      <td>53000000.0</td>\n      <td>104858087</td>\n    </tr>\n    <tr>\n      <th>...</th>\n      <td>...</td>\n      <td>...</td>\n    </tr>\n    <tr>\n      <th>2324</th>\n      <td>15830630.0</td>\n      <td>15551844</td>\n    </tr>\n    <tr>\n      <th>2325</th>\n      <td>30000000.0</td>\n      <td>17887773</td>\n    </tr>\n    <tr>\n      <th>2326</th>\n      <td>19990000.0</td>\n      <td>17892658</td>\n    </tr>\n    <tr>\n      <th>2327</th>\n      <td>7170000.0</td>\n      <td>6842541</td>\n    </tr>\n    <tr>\n      <th>2328</th>\n      <td>36000000.0</td>\n      <td>52906002</td>\n    </tr>\n  </tbody>\n</table>\n<p>2329 rows × 2 columns</p>\n</div>"
     },
     "metadata": {}
    }
   ]
  },
  {
   "cell_type": "code",
   "metadata": {
    "tags": [],
    "cell_id": "00014-58adc66b-3667-4d40-b31c-5862de0ecbea",
    "deepnote_to_be_reexecuted": false,
    "source_hash": "84fcc5e",
    "execution_start": 1636655033965,
    "execution_millis": 144,
    "deepnote_output_heights": [
     40
    ],
    "deepnote_cell_type": "code"
   },
   "source": "final_labels = model.predict(X1_test)\nfinal_labels = final_labels.astype(float)\nfinal_labels",
   "execution_count": null,
   "outputs": [
    {
     "output_type": "execute_result",
     "execution_count": 31,
     "data": {
      "text/plain": "array([22145534.57367854, 12735162.37680138,  6059337.51226902, ...,\n        9436800.82150435,  8494396.91410112,  5042042.45122851])"
     },
     "metadata": {}
    }
   ]
  },
  {
   "cell_type": "code",
   "metadata": {
    "tags": [],
    "cell_id": "00015-0497d61d-4a52-4143-8459-ed823dce223c",
    "deepnote_to_be_reexecuted": false,
    "source_hash": "2663b5de",
    "execution_start": 1636655038855,
    "execution_millis": 182,
    "deepnote_cell_type": "code"
   },
   "source": "y_train_hat = model.predict(X_train)\ny_valid_hat = model.predict(X_val)\n#print(f'Train RMSLE: {root_mean_squared_log_error(y_true=y_train, y_pred=y_train_hat) :.4f}')\nprint(f'Valid RMSLE: {root_mean_squared_log_error(y_true=y_val, y_pred=y_valid_hat) :.4f}')",
   "execution_count": null,
   "outputs": [
    {
     "name": "stdout",
     "text": "Valid RMSLE: 0.1653\n",
     "output_type": "stream"
    }
   ]
  },
  {
   "cell_type": "code",
   "metadata": {
    "tags": [],
    "cell_id": "00015-741fe8b5-7bc7-466a-a95e-ce42e08cd3d5",
    "deepnote_to_be_reexecuted": false,
    "source_hash": "2cf42167",
    "execution_start": 1636655082008,
    "execution_millis": 6,
    "deepnote_cell_type": "code"
   },
   "source": "final_result = pd.DataFrame({'id': data_test['id'], 'price': final_labels})",
   "execution_count": null,
   "outputs": []
  },
  {
   "cell_type": "code",
   "metadata": {
    "tags": [],
    "cell_id": "00016-e4f6722d-fd64-421c-838e-5ada6667b3e9",
    "deepnote_to_be_reexecuted": false,
    "source_hash": "93473467",
    "execution_start": 1636655084989,
    "execution_millis": 429,
    "deepnote_cell_type": "code"
   },
   "source": "final_result.to_csv('submission.csv', index=False)",
   "execution_count": null,
   "outputs": []
  },
  {
   "cell_type": "code",
   "metadata": {
    "tags": [],
    "cell_id": "00017-413fcf76-a210-49da-bb2f-1f824670b628",
    "deepnote_to_be_reexecuted": false,
    "source_hash": "37cb5310",
    "execution_start": 1636655087165,
    "execution_millis": 117,
    "deepnote_cell_type": "code"
   },
   "source": "submission = pd.read_csv(\"submission.csv\")\nsubmission",
   "execution_count": null,
   "outputs": [
    {
     "output_type": "execute_result",
     "execution_count": 35,
     "data": {
      "application/vnd.deepnote.dataframe.v2+json": {
       "row_count": 9937,
       "column_count": 2,
       "columns": [
        {
         "name": "id",
         "dtype": "int64",
         "stats": {
          "unique_count": 9937,
          "nan_count": 0,
          "min": "23285",
          "max": "33221",
          "histogram": [
           {
            "bin_start": 23285,
            "bin_end": 24278.6,
            "count": 994
           },
           {
            "bin_start": 24278.6,
            "bin_end": 25272.2,
            "count": 994
           },
           {
            "bin_start": 25272.2,
            "bin_end": 26265.8,
            "count": 993
           },
           {
            "bin_start": 26265.8,
            "bin_end": 27259.4,
            "count": 994
           },
           {
            "bin_start": 27259.4,
            "bin_end": 28253,
            "count": 993
           },
           {
            "bin_start": 28253,
            "bin_end": 29246.6,
            "count": 994
           },
           {
            "bin_start": 29246.6,
            "bin_end": 30240.2,
            "count": 994
           },
           {
            "bin_start": 30240.2,
            "bin_end": 31233.8,
            "count": 993
           },
           {
            "bin_start": 31233.8,
            "bin_end": 32227.4,
            "count": 994
           },
           {
            "bin_start": 32227.4,
            "bin_end": 33221,
            "count": 994
           }
          ]
         }
        },
        {
         "name": "price",
         "dtype": "float64",
         "stats": {
          "unique_count": 9653,
          "nan_count": 0,
          "min": "-4865639.61229964",
          "max": "616178469.9665141",
          "histogram": [
           {
            "bin_start": -4865639.61229964,
            "bin_end": 57238771.34558174,
            "count": 9125
           },
           {
            "bin_start": 57238771.34558174,
            "bin_end": 119343182.30346312,
            "count": 525
           },
           {
            "bin_start": 119343182.30346312,
            "bin_end": 181447593.26134446,
            "count": 150
           },
           {
            "bin_start": 181447593.26134446,
            "bin_end": 243552004.21922585,
            "count": 58
           },
           {
            "bin_start": 243552004.21922585,
            "bin_end": 305656415.1771073,
            "count": 31
           },
           {
            "bin_start": 305656415.1771073,
            "bin_end": 367760826.1349886,
            "count": 24
           },
           {
            "bin_start": 367760826.1349886,
            "bin_end": 429865237.09287,
            "count": 9
           },
           {
            "bin_start": 429865237.09287,
            "bin_end": 491969648.0507514,
            "count": 6
           },
           {
            "bin_start": 491969648.0507514,
            "bin_end": 554074059.0086327,
            "count": 7
           },
           {
            "bin_start": 554074059.0086327,
            "bin_end": 616178469.9665141,
            "count": 2
           }
          ]
         }
        },
        {
         "name": "_deepnote_index_column",
         "dtype": "int64"
        }
       ],
       "rows_top": [
        {
         "id": 23285,
         "price": 22145534.573678546,
         "_deepnote_index_column": 0
        },
        {
         "id": 23286,
         "price": 12735162.37680138,
         "_deepnote_index_column": 1
        },
        {
         "id": 23287,
         "price": 6059337.512269016,
         "_deepnote_index_column": 2
        },
        {
         "id": 23288,
         "price": 13365466.83050742,
         "_deepnote_index_column": 3
        },
        {
         "id": 23289,
         "price": 5072882.211735621,
         "_deepnote_index_column": 4
        },
        {
         "id": 23290,
         "price": 6302771.9240542725,
         "_deepnote_index_column": 5
        },
        {
         "id": 23291,
         "price": 6970687.990464283,
         "_deepnote_index_column": 6
        },
        {
         "id": 23292,
         "price": 8676477.765485503,
         "_deepnote_index_column": 7
        },
        {
         "id": 23293,
         "price": 7873573.53891167,
         "_deepnote_index_column": 8
        },
        {
         "id": 23294,
         "price": 4030441.227226529,
         "_deepnote_index_column": 9
        },
        {
         "id": 23295,
         "price": 5080041.584609039,
         "_deepnote_index_column": 10
        },
        {
         "id": 23296,
         "price": 7193992.987605622,
         "_deepnote_index_column": 11
        },
        {
         "id": 23297,
         "price": 4821943.259350266,
         "_deepnote_index_column": 12
        },
        {
         "id": 23298,
         "price": 6444912.160411011,
         "_deepnote_index_column": 13
        },
        {
         "id": 23299,
         "price": 6330870.858636446,
         "_deepnote_index_column": 14
        },
        {
         "id": 23300,
         "price": 7411368.498327674,
         "_deepnote_index_column": 15
        },
        {
         "id": 23301,
         "price": 10037072.240906302,
         "_deepnote_index_column": 16
        },
        {
         "id": 23302,
         "price": 2293270.255121745,
         "_deepnote_index_column": 17
        },
        {
         "id": 23303,
         "price": 4509071.398519766,
         "_deepnote_index_column": 18
        },
        {
         "id": 23304,
         "price": 18950676.94387972,
         "_deepnote_index_column": 19
        },
        {
         "id": 23305,
         "price": 4841363.017372437,
         "_deepnote_index_column": 20
        },
        {
         "id": 23306,
         "price": 3963389.228494156,
         "_deepnote_index_column": 21
        },
        {
         "id": 23307,
         "price": 6272135.936961733,
         "_deepnote_index_column": 22
        },
        {
         "id": 23308,
         "price": 15115994.190548774,
         "_deepnote_index_column": 23
        },
        {
         "id": 23309,
         "price": 5608147.764445245,
         "_deepnote_index_column": 24
        },
        {
         "id": 23310,
         "price": 5861073.859511856,
         "_deepnote_index_column": 25
        },
        {
         "id": 23311,
         "price": 4734982.760920357,
         "_deepnote_index_column": 26
        },
        {
         "id": 23312,
         "price": 8259168.155074319,
         "_deepnote_index_column": 27
        },
        {
         "id": 23313,
         "price": 4527346.699685257,
         "_deepnote_index_column": 28
        },
        {
         "id": 23314,
         "price": 6988031.486997528,
         "_deepnote_index_column": 29
        },
        {
         "id": 23315,
         "price": 6146763.86338345,
         "_deepnote_index_column": 30
        },
        {
         "id": 23316,
         "price": 7155703.393203218,
         "_deepnote_index_column": 31
        },
        {
         "id": 23317,
         "price": 8305985.50692106,
         "_deepnote_index_column": 32
        },
        {
         "id": 23318,
         "price": 8318280.883604877,
         "_deepnote_index_column": 33
        },
        {
         "id": 23319,
         "price": 16678753.376105886,
         "_deepnote_index_column": 34
        },
        {
         "id": 23320,
         "price": 12921057.200488444,
         "_deepnote_index_column": 35
        },
        {
         "id": 23321,
         "price": 8206721.631701617,
         "_deepnote_index_column": 36
        },
        {
         "id": 23322,
         "price": 10407092.835524635,
         "_deepnote_index_column": 37
        },
        {
         "id": 23323,
         "price": 9212108.689860942,
         "_deepnote_index_column": 38
        },
        {
         "id": 23324,
         "price": 11845260.802112907,
         "_deepnote_index_column": 39
        },
        {
         "id": 23325,
         "price": 20356383.196919754,
         "_deepnote_index_column": 40
        },
        {
         "id": 23326,
         "price": 16120351.315731734,
         "_deepnote_index_column": 41
        },
        {
         "id": 23327,
         "price": 18032405.611427363,
         "_deepnote_index_column": 42
        },
        {
         "id": 23328,
         "price": 19753979.20450996,
         "_deepnote_index_column": 43
        },
        {
         "id": 23329,
         "price": 20029531.36213718,
         "_deepnote_index_column": 44
        },
        {
         "id": 23330,
         "price": 5874376.503923833,
         "_deepnote_index_column": 45
        },
        {
         "id": 23331,
         "price": 9251927.250332132,
         "_deepnote_index_column": 46
        },
        {
         "id": 23332,
         "price": 11776419.12881406,
         "_deepnote_index_column": 47
        },
        {
         "id": 23333,
         "price": 2660164.0805458017,
         "_deepnote_index_column": 48
        },
        {
         "id": 23334,
         "price": 2750695.898991008,
         "_deepnote_index_column": 49
        },
        {
         "id": 23335,
         "price": 3133866.4449620657,
         "_deepnote_index_column": 50
        },
        {
         "id": 23336,
         "price": 4211444.121688683,
         "_deepnote_index_column": 51
        },
        {
         "id": 23337,
         "price": 4409769.957338385,
         "_deepnote_index_column": 52
        },
        {
         "id": 23338,
         "price": 4164730.561507885,
         "_deepnote_index_column": 53
        },
        {
         "id": 23339,
         "price": 3129970.985572554,
         "_deepnote_index_column": 54
        },
        {
         "id": 23340,
         "price": 3664961.4377078265,
         "_deepnote_index_column": 55
        },
        {
         "id": 23341,
         "price": 4553140.655978397,
         "_deepnote_index_column": 56
        },
        {
         "id": 23342,
         "price": 3271508.092684064,
         "_deepnote_index_column": 57
        },
        {
         "id": 23343,
         "price": 3798358.682559464,
         "_deepnote_index_column": 58
        },
        {
         "id": 23344,
         "price": 4747030.08729884,
         "_deepnote_index_column": 59
        },
        {
         "id": 23345,
         "price": 3603970.5157442577,
         "_deepnote_index_column": 60
        },
        {
         "id": 23346,
         "price": 3194012.859586451,
         "_deepnote_index_column": 61
        },
        {
         "id": 23347,
         "price": 3753073.448644515,
         "_deepnote_index_column": 62
        },
        {
         "id": 23348,
         "price": 3683160.505037721,
         "_deepnote_index_column": 63
        },
        {
         "id": 23349,
         "price": 4102639.235777676,
         "_deepnote_index_column": 64
        },
        {
         "id": 23350,
         "price": 4740789.470732428,
         "_deepnote_index_column": 65
        },
        {
         "id": 23351,
         "price": 3623904.8490167297,
         "_deepnote_index_column": 66
        },
        {
         "id": 23352,
         "price": 5118706.476218309,
         "_deepnote_index_column": 67
        },
        {
         "id": 23353,
         "price": 4706679.560935397,
         "_deepnote_index_column": 68
        },
        {
         "id": 23354,
         "price": 5721860.0189643465,
         "_deepnote_index_column": 69
        },
        {
         "id": 23355,
         "price": 4565800.166164327,
         "_deepnote_index_column": 70
        },
        {
         "id": 23356,
         "price": 4507656.448557735,
         "_deepnote_index_column": 71
        },
        {
         "id": 23357,
         "price": 126217754.42525616,
         "_deepnote_index_column": 72
        },
        {
         "id": 23358,
         "price": 4457510.800020069,
         "_deepnote_index_column": 73
        },
        {
         "id": 23359,
         "price": 4181453.572197959,
         "_deepnote_index_column": 74
        },
        {
         "id": 23360,
         "price": 5153690.716532312,
         "_deepnote_index_column": 75
        },
        {
         "id": 23361,
         "price": 5434645.495925903,
         "_deepnote_index_column": 76
        },
        {
         "id": 23362,
         "price": 3934712.159693323,
         "_deepnote_index_column": 77
        },
        {
         "id": 23363,
         "price": 4292567.076408725,
         "_deepnote_index_column": 78
        },
        {
         "id": 23364,
         "price": 5110711.1524373,
         "_deepnote_index_column": 79
        },
        {
         "id": 23365,
         "price": 4818199.46457791,
         "_deepnote_index_column": 80
        },
        {
         "id": 23366,
         "price": 5012123.505687695,
         "_deepnote_index_column": 81
        },
        {
         "id": 23367,
         "price": 5266452.119323388,
         "_deepnote_index_column": 82
        },
        {
         "id": 23368,
         "price": 5934971.659353573,
         "_deepnote_index_column": 83
        },
        {
         "id": 23369,
         "price": 5377572.48814613,
         "_deepnote_index_column": 84
        },
        {
         "id": 23370,
         "price": 5247958.728610761,
         "_deepnote_index_column": 85
        },
        {
         "id": 23371,
         "price": 4948171.502863813,
         "_deepnote_index_column": 86
        },
        {
         "id": 23372,
         "price": 6521451.698639996,
         "_deepnote_index_column": 87
        },
        {
         "id": 23373,
         "price": 5818441.577830184,
         "_deepnote_index_column": 88
        },
        {
         "id": 23374,
         "price": 6280917.469322853,
         "_deepnote_index_column": 89
        },
        {
         "id": 23375,
         "price": 18438133.139766883,
         "_deepnote_index_column": 90
        },
        {
         "id": 23376,
         "price": 5759123.99764891,
         "_deepnote_index_column": 91
        },
        {
         "id": 23377,
         "price": 5324062.860625412,
         "_deepnote_index_column": 92
        },
        {
         "id": 23378,
         "price": 5556871.569669556,
         "_deepnote_index_column": 93
        },
        {
         "id": 23379,
         "price": 6275481.790912971,
         "_deepnote_index_column": 94
        },
        {
         "id": 23380,
         "price": 5335640.788885854,
         "_deepnote_index_column": 95
        },
        {
         "id": 23381,
         "price": 5396481.654316176,
         "_deepnote_index_column": 96
        },
        {
         "id": 23382,
         "price": 5582259.30659939,
         "_deepnote_index_column": 97
        },
        {
         "id": 23383,
         "price": 5451007.8449535,
         "_deepnote_index_column": 98
        },
        {
         "id": 23384,
         "price": 20917645.40140077,
         "_deepnote_index_column": 99
        },
        {
         "id": 23385,
         "price": 5436405.458463043,
         "_deepnote_index_column": 100
        },
        {
         "id": 23386,
         "price": 5592972.816255789,
         "_deepnote_index_column": 101
        },
        {
         "id": 23387,
         "price": 4421792.049834836,
         "_deepnote_index_column": 102
        },
        {
         "id": 23388,
         "price": 7794383.848310333,
         "_deepnote_index_column": 103
        },
        {
         "id": 23389,
         "price": 5646998.566721741,
         "_deepnote_index_column": 104
        },
        {
         "id": 23390,
         "price": 7144993.953329155,
         "_deepnote_index_column": 105
        },
        {
         "id": 23391,
         "price": 6269477.4412413165,
         "_deepnote_index_column": 106
        },
        {
         "id": 23392,
         "price": 6336594.311426353,
         "_deepnote_index_column": 107
        },
        {
         "id": 23393,
         "price": 7162058.879576666,
         "_deepnote_index_column": 108
        },
        {
         "id": 23394,
         "price": 6343286.152299743,
         "_deepnote_index_column": 109
        },
        {
         "id": 23395,
         "price": 5204279.017295193,
         "_deepnote_index_column": 110
        },
        {
         "id": 23396,
         "price": 6882989.492234472,
         "_deepnote_index_column": 111
        },
        {
         "id": 23397,
         "price": 6657839.130109251,
         "_deepnote_index_column": 112
        },
        {
         "id": 23398,
         "price": 7143342.252481006,
         "_deepnote_index_column": 113
        },
        {
         "id": 23399,
         "price": 6123379.085596796,
         "_deepnote_index_column": 114
        },
        {
         "id": 23400,
         "price": 5662667.659014862,
         "_deepnote_index_column": 115
        },
        {
         "id": 23401,
         "price": 5542117.844664376,
         "_deepnote_index_column": 116
        },
        {
         "id": 23402,
         "price": 7071316.914605165,
         "_deepnote_index_column": 117
        },
        {
         "id": 23403,
         "price": 5311304.312671397,
         "_deepnote_index_column": 118
        },
        {
         "id": 23404,
         "price": 7855147.258598145,
         "_deepnote_index_column": 119
        },
        {
         "id": 23405,
         "price": 5782956.247110795,
         "_deepnote_index_column": 120
        },
        {
         "id": 23406,
         "price": 7390407.116385065,
         "_deepnote_index_column": 121
        },
        {
         "id": 23407,
         "price": 7965270.854705747,
         "_deepnote_index_column": 122
        },
        {
         "id": 23408,
         "price": 8327966.578169296,
         "_deepnote_index_column": 123
        },
        {
         "id": 23409,
         "price": 8551047.236592578,
         "_deepnote_index_column": 124
        },
        {
         "id": 23410,
         "price": 7613441.962290997,
         "_deepnote_index_column": 125
        },
        {
         "id": 23411,
         "price": 8492890.820418099,
         "_deepnote_index_column": 126
        },
        {
         "id": 23412,
         "price": 8764155.332634004,
         "_deepnote_index_column": 127
        },
        {
         "id": 23413,
         "price": 7724864.0490459,
         "_deepnote_index_column": 128
        },
        {
         "id": 23414,
         "price": 8333221.119123068,
         "_deepnote_index_column": 129
        },
        {
         "id": 23415,
         "price": 8189731.335527431,
         "_deepnote_index_column": 130
        },
        {
         "id": 23416,
         "price": 34277655.65754039,
         "_deepnote_index_column": 131
        },
        {
         "id": 23417,
         "price": 9625684.02741106,
         "_deepnote_index_column": 132
        },
        {
         "id": 23418,
         "price": 7889305.764065307,
         "_deepnote_index_column": 133
        },
        {
         "id": 23419,
         "price": 9136389.975828666,
         "_deepnote_index_column": 134
        },
        {
         "id": 23420,
         "price": 8937153.241001004,
         "_deepnote_index_column": 135
        },
        {
         "id": 23421,
         "price": 7923344.925819466,
         "_deepnote_index_column": 136
        },
        {
         "id": 23422,
         "price": 8484542.74079688,
         "_deepnote_index_column": 137
        },
        {
         "id": 23423,
         "price": 7515249.111941425,
         "_deepnote_index_column": 138
        },
        {
         "id": 23424,
         "price": 8848574.914097497,
         "_deepnote_index_column": 139
        },
        {
         "id": 23425,
         "price": 7516729.131559491,
         "_deepnote_index_column": 140
        },
        {
         "id": 23426,
         "price": 7650521.171715736,
         "_deepnote_index_column": 141
        },
        {
         "id": 23427,
         "price": 12942280.413456522,
         "_deepnote_index_column": 142
        },
        {
         "id": 23428,
         "price": 9034545.56555636,
         "_deepnote_index_column": 143
        },
        {
         "id": 23429,
         "price": 9426212.119376544,
         "_deepnote_index_column": 144
        },
        {
         "id": 23430,
         "price": 8684404.741715679,
         "_deepnote_index_column": 145
        },
        {
         "id": 23431,
         "price": 8548534.447115881,
         "_deepnote_index_column": 146
        },
        {
         "id": 23432,
         "price": 9565283.867399618,
         "_deepnote_index_column": 147
        },
        {
         "id": 23433,
         "price": 9735767.291393263,
         "_deepnote_index_column": 148
        },
        {
         "id": 23434,
         "price": 10706503.43076242,
         "_deepnote_index_column": 149
        },
        {
         "id": 23435,
         "price": 10629609.828327172,
         "_deepnote_index_column": 150
        },
        {
         "id": 23436,
         "price": 9886016.82829649,
         "_deepnote_index_column": 151
        },
        {
         "id": 23437,
         "price": 10132307.586040482,
         "_deepnote_index_column": 152
        },
        {
         "id": 23438,
         "price": 8995743.584116897,
         "_deepnote_index_column": 153
        },
        {
         "id": 23439,
         "price": 8727845.036546271,
         "_deepnote_index_column": 154
        },
        {
         "id": 23440,
         "price": 10502993.560358156,
         "_deepnote_index_column": 155
        },
        {
         "id": 23441,
         "price": 10572717.940351542,
         "_deepnote_index_column": 156
        },
        {
         "id": 23442,
         "price": 9506442.971429186,
         "_deepnote_index_column": 157
        },
        {
         "id": 23443,
         "price": 8849089.85603287,
         "_deepnote_index_column": 158
        },
        {
         "id": 23444,
         "price": 8797932.492099753,
         "_deepnote_index_column": 159
        },
        {
         "id": 23445,
         "price": 9214571.74686811,
         "_deepnote_index_column": 160
        },
        {
         "id": 23446,
         "price": 9556390.469571074,
         "_deepnote_index_column": 161
        },
        {
         "id": 23447,
         "price": 9201910.298963789,
         "_deepnote_index_column": 162
        },
        {
         "id": 23448,
         "price": 10974867.33270398,
         "_deepnote_index_column": 163
        },
        {
         "id": 23449,
         "price": 9010825.128584642,
         "_deepnote_index_column": 164
        },
        {
         "id": 23450,
         "price": 8961178.36257868,
         "_deepnote_index_column": 165
        },
        {
         "id": 23451,
         "price": 12137493.40994057,
         "_deepnote_index_column": 166
        },
        {
         "id": 23452,
         "price": 10955066.308753692,
         "_deepnote_index_column": 167
        },
        {
         "id": 23453,
         "price": 10806073.171024607,
         "_deepnote_index_column": 168
        },
        {
         "id": 23454,
         "price": 10163463.21225414,
         "_deepnote_index_column": 169
        },
        {
         "id": 23455,
         "price": 11787241.98860641,
         "_deepnote_index_column": 170
        },
        {
         "id": 23456,
         "price": 9284666.454515249,
         "_deepnote_index_column": 171
        },
        {
         "id": 23457,
         "price": 12094086.298188368,
         "_deepnote_index_column": 172
        },
        {
         "id": 23458,
         "price": 12155664.50707829,
         "_deepnote_index_column": 173
        },
        {
         "id": 23459,
         "price": 13138973.355571529,
         "_deepnote_index_column": 174
        },
        {
         "id": 23460,
         "price": 11529290.151986934,
         "_deepnote_index_column": 175
        },
        {
         "id": 23461,
         "price": 13062351.007856015,
         "_deepnote_index_column": 176
        },
        {
         "id": 23462,
         "price": 11527797.69484206,
         "_deepnote_index_column": 177
        },
        {
         "id": 23463,
         "price": 11265102.702741882,
         "_deepnote_index_column": 178
        },
        {
         "id": 23464,
         "price": 10559013.32105045,
         "_deepnote_index_column": 179
        },
        {
         "id": 23465,
         "price": 10156233.1289418,
         "_deepnote_index_column": 180
        },
        {
         "id": 23466,
         "price": 10977494.145216756,
         "_deepnote_index_column": 181
        },
        {
         "id": 23467,
         "price": 13055484.711000277,
         "_deepnote_index_column": 182
        },
        {
         "id": 23468,
         "price": 11158554.8253702,
         "_deepnote_index_column": 183
        },
        {
         "id": 23469,
         "price": 34739552.276427284,
         "_deepnote_index_column": 184
        },
        {
         "id": 23470,
         "price": 30662968.200058278,
         "_deepnote_index_column": 185
        },
        {
         "id": 23471,
         "price": 35561837.60128004,
         "_deepnote_index_column": 186
        },
        {
         "id": 23472,
         "price": 40842121.38891671,
         "_deepnote_index_column": 187
        },
        {
         "id": 23473,
         "price": 13375049.983333964,
         "_deepnote_index_column": 188
        },
        {
         "id": 23474,
         "price": 16380199.121660352,
         "_deepnote_index_column": 189
        },
        {
         "id": 23475,
         "price": 26893946.536055163,
         "_deepnote_index_column": 190
        },
        {
         "id": 23476,
         "price": 11712617.400957868,
         "_deepnote_index_column": 191
        },
        {
         "id": 23477,
         "price": 8732201.735048272,
         "_deepnote_index_column": 192
        },
        {
         "id": 23478,
         "price": 21283719.36839658,
         "_deepnote_index_column": 193
        },
        {
         "id": 23479,
         "price": 17600605.157395545,
         "_deepnote_index_column": 194
        },
        {
         "id": 23480,
         "price": 18304429.316462204,
         "_deepnote_index_column": 195
        },
        {
         "id": 23481,
         "price": 27322441.962305397,
         "_deepnote_index_column": 196
        },
        {
         "id": 23482,
         "price": 14533189.945871398,
         "_deepnote_index_column": 197
        },
        {
         "id": 23483,
         "price": 27383816.55907097,
         "_deepnote_index_column": 198
        },
        {
         "id": 23484,
         "price": 93581277.50433344,
         "_deepnote_index_column": 199
        },
        {
         "id": 23485,
         "price": 12365805.432387851,
         "_deepnote_index_column": 200
        },
        {
         "id": 23486,
         "price": 22294229.7467894,
         "_deepnote_index_column": 201
        },
        {
         "id": 23487,
         "price": 22797515.844599184,
         "_deepnote_index_column": 202
        },
        {
         "id": 23488,
         "price": 50617145.45852539,
         "_deepnote_index_column": 203
        },
        {
         "id": 23489,
         "price": 10207467.812652254,
         "_deepnote_index_column": 204
        },
        {
         "id": 23490,
         "price": 12149678.99252758,
         "_deepnote_index_column": 205
        },
        {
         "id": 23491,
         "price": 40840738.64071719,
         "_deepnote_index_column": 206
        },
        {
         "id": 23492,
         "price": 44975747.449164525,
         "_deepnote_index_column": 207
        },
        {
         "id": 23493,
         "price": 44975747.449164525,
         "_deepnote_index_column": 208
        },
        {
         "id": 23494,
         "price": 28431928.495376527,
         "_deepnote_index_column": 209
        },
        {
         "id": 23495,
         "price": 79571228.39860842,
         "_deepnote_index_column": 210
        },
        {
         "id": 23496,
         "price": 41030519.9073417,
         "_deepnote_index_column": 211
        },
        {
         "id": 23497,
         "price": 10291295.523479031,
         "_deepnote_index_column": 212
        },
        {
         "id": 23498,
         "price": 38476697.78907638,
         "_deepnote_index_column": 213
        },
        {
         "id": 23499,
         "price": 6234406.653823327,
         "_deepnote_index_column": 214
        },
        {
         "id": 23500,
         "price": 6483927.6859775,
         "_deepnote_index_column": 215
        },
        {
         "id": 23501,
         "price": 7924148.913722858,
         "_deepnote_index_column": 216
        },
        {
         "id": 23502,
         "price": 12147940.4144893,
         "_deepnote_index_column": 217
        },
        {
         "id": 23503,
         "price": 11773296.788326282,
         "_deepnote_index_column": 218
        },
        {
         "id": 23504,
         "price": 9237798.610755824,
         "_deepnote_index_column": 219
        },
        {
         "id": 23505,
         "price": 9220466.87915785,
         "_deepnote_index_column": 220
        },
        {
         "id": 23506,
         "price": 13275217.278305857,
         "_deepnote_index_column": 221
        },
        {
         "id": 23507,
         "price": 13652428.122771552,
         "_deepnote_index_column": 222
        },
        {
         "id": 23508,
         "price": 16411371.669633966,
         "_deepnote_index_column": 223
        },
        {
         "id": 23509,
         "price": 17114103.214532472,
         "_deepnote_index_column": 224
        },
        {
         "id": 23510,
         "price": 17812559.236429952,
         "_deepnote_index_column": 225
        },
        {
         "id": 23511,
         "price": 13994216.543094782,
         "_deepnote_index_column": 226
        },
        {
         "id": 23512,
         "price": 15356639.08548766,
         "_deepnote_index_column": 227
        },
        {
         "id": 23513,
         "price": 12661988.320797067,
         "_deepnote_index_column": 228
        },
        {
         "id": 23514,
         "price": 15074280.537072646,
         "_deepnote_index_column": 229
        },
        {
         "id": 23515,
         "price": 20763010.9201432,
         "_deepnote_index_column": 230
        },
        {
         "id": 23516,
         "price": 22076591.197195563,
         "_deepnote_index_column": 231
        },
        {
         "id": 23517,
         "price": 19894166.874927856,
         "_deepnote_index_column": 232
        },
        {
         "id": 23518,
         "price": 18181258.15362415,
         "_deepnote_index_column": 233
        },
        {
         "id": 23519,
         "price": 31140994.18175952,
         "_deepnote_index_column": 234
        },
        {
         "id": 23520,
         "price": 24676496.522742458,
         "_deepnote_index_column": 235
        },
        {
         "id": 23521,
         "price": 36842989.97854777,
         "_deepnote_index_column": 236
        },
        {
         "id": 23522,
         "price": 35902786.08694785,
         "_deepnote_index_column": 237
        },
        {
         "id": 23523,
         "price": 30054682.32003271,
         "_deepnote_index_column": 238
        },
        {
         "id": 23524,
         "price": 26685444.5187765,
         "_deepnote_index_column": 239
        },
        {
         "id": 23525,
         "price": 88373561.59810473,
         "_deepnote_index_column": 240
        },
        {
         "id": 23526,
         "price": 73530160.53507951,
         "_deepnote_index_column": 241
        },
        {
         "id": 23527,
         "price": 142286601.82441926,
         "_deepnote_index_column": 242
        },
        {
         "id": 23528,
         "price": 17128943.792432595,
         "_deepnote_index_column": 243
        },
        {
         "id": 23529,
         "price": 8501694.145219458,
         "_deepnote_index_column": 244
        },
        {
         "id": 23530,
         "price": 8147443.789955873,
         "_deepnote_index_column": 245
        },
        {
         "id": 23531,
         "price": 13033205.437905643,
         "_deepnote_index_column": 246
        },
        {
         "id": 23532,
         "price": 14221497.935132897,
         "_deepnote_index_column": 247
        },
        {
         "id": 23533,
         "price": 71779113.94463548,
         "_deepnote_index_column": 248
        },
        {
         "id": 23534,
         "price": 6784103.28058384,
         "_deepnote_index_column": 249
        }
       ],
       "rows_bottom": [
        {
         "id": 32972,
         "price": 27250538.995862316,
         "_deepnote_index_column": 9687
        },
        {
         "id": 32973,
         "price": 44206661.22938481,
         "_deepnote_index_column": 9688
        },
        {
         "id": 32974,
         "price": 11634784.182181116,
         "_deepnote_index_column": 9689
        },
        {
         "id": 32975,
         "price": 9047784.136925807,
         "_deepnote_index_column": 9690
        },
        {
         "id": 32976,
         "price": 15245355.324771818,
         "_deepnote_index_column": 9691
        },
        {
         "id": 32977,
         "price": 6259197.549014259,
         "_deepnote_index_column": 9692
        },
        {
         "id": 32978,
         "price": 5478747.495380603,
         "_deepnote_index_column": 9693
        },
        {
         "id": 32979,
         "price": 7603591.20745901,
         "_deepnote_index_column": 9694
        },
        {
         "id": 32980,
         "price": 8373445.207307432,
         "_deepnote_index_column": 9695
        },
        {
         "id": 32981,
         "price": 7991696.132759586,
         "_deepnote_index_column": 9696
        },
        {
         "id": 32982,
         "price": 8436421.800633062,
         "_deepnote_index_column": 9697
        },
        {
         "id": 32983,
         "price": 11049894.413868276,
         "_deepnote_index_column": 9698
        },
        {
         "id": 32984,
         "price": 11997189.3589054,
         "_deepnote_index_column": 9699
        },
        {
         "id": 32985,
         "price": 10523389.971606558,
         "_deepnote_index_column": 9700
        },
        {
         "id": 32986,
         "price": 10309858.643523654,
         "_deepnote_index_column": 9701
        },
        {
         "id": 32987,
         "price": 13833073.098826602,
         "_deepnote_index_column": 9702
        },
        {
         "id": 32988,
         "price": 10880502.147995949,
         "_deepnote_index_column": 9703
        },
        {
         "id": 32989,
         "price": 15367804.861692509,
         "_deepnote_index_column": 9704
        },
        {
         "id": 32990,
         "price": 14964410.98649764,
         "_deepnote_index_column": 9705
        },
        {
         "id": 32991,
         "price": 26939782.658125103,
         "_deepnote_index_column": 9706
        },
        {
         "id": 32992,
         "price": 6458717.230471309,
         "_deepnote_index_column": 9707
        },
        {
         "id": 32993,
         "price": 7218291.445510929,
         "_deepnote_index_column": 9708
        },
        {
         "id": 32994,
         "price": 8720757.864420488,
         "_deepnote_index_column": 9709
        },
        {
         "id": 32995,
         "price": 33739932.494580865,
         "_deepnote_index_column": 9710
        },
        {
         "id": 32996,
         "price": 7038669.4275443535,
         "_deepnote_index_column": 9711
        },
        {
         "id": 32997,
         "price": 6608930.420728646,
         "_deepnote_index_column": 9712
        },
        {
         "id": 32998,
         "price": 6136160.001124758,
         "_deepnote_index_column": 9713
        },
        {
         "id": 32999,
         "price": 6012434.008820731,
         "_deepnote_index_column": 9714
        },
        {
         "id": 33000,
         "price": 5938084.449207231,
         "_deepnote_index_column": 9715
        },
        {
         "id": 33001,
         "price": 7620877.029273706,
         "_deepnote_index_column": 9716
        },
        {
         "id": 33002,
         "price": 8273488.798433017,
         "_deepnote_index_column": 9717
        },
        {
         "id": 33003,
         "price": 10533786.05050926,
         "_deepnote_index_column": 9718
        },
        {
         "id": 33004,
         "price": 11036699.314226886,
         "_deepnote_index_column": 9719
        },
        {
         "id": 33005,
         "price": 14221526.139152763,
         "_deepnote_index_column": 9720
        },
        {
         "id": 33006,
         "price": 18404263.124561463,
         "_deepnote_index_column": 9721
        },
        {
         "id": 33007,
         "price": 16717166.912667854,
         "_deepnote_index_column": 9722
        },
        {
         "id": 33008,
         "price": 9041943.256433882,
         "_deepnote_index_column": 9723
        },
        {
         "id": 33009,
         "price": 2594208.324313361,
         "_deepnote_index_column": 9724
        },
        {
         "id": 33010,
         "price": 28345806.303971395,
         "_deepnote_index_column": 9725
        },
        {
         "id": 33011,
         "price": 6422295.289675858,
         "_deepnote_index_column": 9726
        },
        {
         "id": 33012,
         "price": 6097000.451588627,
         "_deepnote_index_column": 9727
        },
        {
         "id": 33013,
         "price": 8898094.256208256,
         "_deepnote_index_column": 9728
        },
        {
         "id": 33014,
         "price": 7079917.562366879,
         "_deepnote_index_column": 9729
        },
        {
         "id": 33015,
         "price": 6073062.463081501,
         "_deepnote_index_column": 9730
        },
        {
         "id": 33016,
         "price": 8236334.184424942,
         "_deepnote_index_column": 9731
        },
        {
         "id": 33017,
         "price": 6315891.151905391,
         "_deepnote_index_column": 9732
        },
        {
         "id": 33018,
         "price": 6817846.232169634,
         "_deepnote_index_column": 9733
        },
        {
         "id": 33019,
         "price": 8296365.97372096,
         "_deepnote_index_column": 9734
        },
        {
         "id": 33020,
         "price": 7914909.587521646,
         "_deepnote_index_column": 9735
        },
        {
         "id": 33021,
         "price": 7472079.4541935325,
         "_deepnote_index_column": 9736
        },
        {
         "id": 33022,
         "price": 6766980.371288002,
         "_deepnote_index_column": 9737
        },
        {
         "id": 33023,
         "price": 7352028.831960274,
         "_deepnote_index_column": 9738
        },
        {
         "id": 33024,
         "price": 6671026.535521753,
         "_deepnote_index_column": 9739
        },
        {
         "id": 33025,
         "price": 3008561.9395248443,
         "_deepnote_index_column": 9740
        },
        {
         "id": 33026,
         "price": 5182458.939615667,
         "_deepnote_index_column": 9741
        },
        {
         "id": 33027,
         "price": 5073310.5243428685,
         "_deepnote_index_column": 9742
        },
        {
         "id": 33028,
         "price": 7494452.429899858,
         "_deepnote_index_column": 9743
        },
        {
         "id": 33029,
         "price": 11628389.40509275,
         "_deepnote_index_column": 9744
        },
        {
         "id": 33030,
         "price": 9981919.596887568,
         "_deepnote_index_column": 9745
        },
        {
         "id": 33031,
         "price": 11464100.583859364,
         "_deepnote_index_column": 9746
        },
        {
         "id": 33032,
         "price": 13122763.790519789,
         "_deepnote_index_column": 9747
        },
        {
         "id": 33033,
         "price": 60878184.18944858,
         "_deepnote_index_column": 9748
        },
        {
         "id": 33034,
         "price": 13315434.28020844,
         "_deepnote_index_column": 9749
        },
        {
         "id": 33035,
         "price": 8135517.439684793,
         "_deepnote_index_column": 9750
        },
        {
         "id": 33036,
         "price": 16889103.828652304,
         "_deepnote_index_column": 9751
        },
        {
         "id": 33037,
         "price": 5661419.159598578,
         "_deepnote_index_column": 9752
        },
        {
         "id": 33038,
         "price": 3190893.7035782225,
         "_deepnote_index_column": 9753
        },
        {
         "id": 33039,
         "price": 4720441.523080606,
         "_deepnote_index_column": 9754
        },
        {
         "id": 33040,
         "price": 5935050.187917765,
         "_deepnote_index_column": 9755
        },
        {
         "id": 33041,
         "price": 6901848.494521095,
         "_deepnote_index_column": 9756
        },
        {
         "id": 33042,
         "price": 9708660.731576452,
         "_deepnote_index_column": 9757
        },
        {
         "id": 33043,
         "price": 6617065.645931717,
         "_deepnote_index_column": 9758
        },
        {
         "id": 33044,
         "price": 8070049.521757279,
         "_deepnote_index_column": 9759
        },
        {
         "id": 33045,
         "price": 8078637.080209576,
         "_deepnote_index_column": 9760
        },
        {
         "id": 33046,
         "price": 8291430.796602281,
         "_deepnote_index_column": 9761
        },
        {
         "id": 33047,
         "price": 7522829.385460088,
         "_deepnote_index_column": 9762
        },
        {
         "id": 33048,
         "price": 7530261.919748906,
         "_deepnote_index_column": 9763
        },
        {
         "id": 33049,
         "price": 9219249.693830796,
         "_deepnote_index_column": 9764
        },
        {
         "id": 33050,
         "price": 9587213.828207493,
         "_deepnote_index_column": 9765
        },
        {
         "id": 33051,
         "price": 9316509.637851886,
         "_deepnote_index_column": 9766
        },
        {
         "id": 33052,
         "price": 9755776.21632578,
         "_deepnote_index_column": 9767
        },
        {
         "id": 33053,
         "price": 9737898.84514438,
         "_deepnote_index_column": 9768
        },
        {
         "id": 33054,
         "price": 12240544.042582126,
         "_deepnote_index_column": 9769
        },
        {
         "id": 33055,
         "price": 11720529.512614338,
         "_deepnote_index_column": 9770
        },
        {
         "id": 33056,
         "price": 17929354.3277917,
         "_deepnote_index_column": 9771
        },
        {
         "id": 33057,
         "price": 18036596.64707,
         "_deepnote_index_column": 9772
        },
        {
         "id": 33058,
         "price": 24790929.27355781,
         "_deepnote_index_column": 9773
        },
        {
         "id": 33059,
         "price": 8690903.124267811,
         "_deepnote_index_column": 9774
        },
        {
         "id": 33060,
         "price": 28370797.374479283,
         "_deepnote_index_column": 9775
        },
        {
         "id": 33061,
         "price": 10828482.899706498,
         "_deepnote_index_column": 9776
        },
        {
         "id": 33062,
         "price": 23947878.47479793,
         "_deepnote_index_column": 9777
        },
        {
         "id": 33063,
         "price": 8307131.929020258,
         "_deepnote_index_column": 9778
        },
        {
         "id": 33064,
         "price": 9836831.942024788,
         "_deepnote_index_column": 9779
        },
        {
         "id": 33065,
         "price": 9264592.439214934,
         "_deepnote_index_column": 9780
        },
        {
         "id": 33066,
         "price": 13450093.18458438,
         "_deepnote_index_column": 9781
        },
        {
         "id": 33067,
         "price": 23987449.758983217,
         "_deepnote_index_column": 9782
        },
        {
         "id": 33068,
         "price": 7507592.391361909,
         "_deepnote_index_column": 9783
        },
        {
         "id": 33069,
         "price": 14309826.322692867,
         "_deepnote_index_column": 9784
        },
        {
         "id": 33070,
         "price": 38092808.933499575,
         "_deepnote_index_column": 9785
        },
        {
         "id": 33071,
         "price": 43057436.68619102,
         "_deepnote_index_column": 9786
        },
        {
         "id": 33072,
         "price": 6533316.690189235,
         "_deepnote_index_column": 9787
        },
        {
         "id": 33073,
         "price": 8131997.346652325,
         "_deepnote_index_column": 9788
        },
        {
         "id": 33074,
         "price": 10393201.972918032,
         "_deepnote_index_column": 9789
        },
        {
         "id": 33075,
         "price": 7226802.675638592,
         "_deepnote_index_column": 9790
        },
        {
         "id": 33076,
         "price": 10736585.021711657,
         "_deepnote_index_column": 9791
        },
        {
         "id": 33077,
         "price": 11842360.519405285,
         "_deepnote_index_column": 9792
        },
        {
         "id": 33078,
         "price": 9512157.522458063,
         "_deepnote_index_column": 9793
        },
        {
         "id": 33079,
         "price": 8947516.282233156,
         "_deepnote_index_column": 9794
        },
        {
         "id": 33080,
         "price": 14338037.38915115,
         "_deepnote_index_column": 9795
        },
        {
         "id": 33081,
         "price": 14358683.55052764,
         "_deepnote_index_column": 9796
        },
        {
         "id": 33082,
         "price": 33210717.230168376,
         "_deepnote_index_column": 9797
        },
        {
         "id": 33083,
         "price": 81586212.9664158,
         "_deepnote_index_column": 9798
        },
        {
         "id": 33084,
         "price": 10612470.771316843,
         "_deepnote_index_column": 9799
        },
        {
         "id": 33085,
         "price": 26070368.030285858,
         "_deepnote_index_column": 9800
        },
        {
         "id": 33086,
         "price": 8432451.888817172,
         "_deepnote_index_column": 9801
        },
        {
         "id": 33087,
         "price": 9807653.348748395,
         "_deepnote_index_column": 9802
        },
        {
         "id": 33088,
         "price": 6349510.336056646,
         "_deepnote_index_column": 9803
        },
        {
         "id": 33089,
         "price": 9566644.282196328,
         "_deepnote_index_column": 9804
        },
        {
         "id": 33090,
         "price": 7802918.434487263,
         "_deepnote_index_column": 9805
        },
        {
         "id": 33091,
         "price": 8695616.465030836,
         "_deepnote_index_column": 9806
        },
        {
         "id": 33092,
         "price": 8346720.092453949,
         "_deepnote_index_column": 9807
        },
        {
         "id": 33093,
         "price": 8590229.324368173,
         "_deepnote_index_column": 9808
        },
        {
         "id": 33094,
         "price": 15152724.97516903,
         "_deepnote_index_column": 9809
        },
        {
         "id": 33095,
         "price": 11651426.5585049,
         "_deepnote_index_column": 9810
        },
        {
         "id": 33096,
         "price": 5967721.1563881,
         "_deepnote_index_column": 9811
        },
        {
         "id": 33097,
         "price": 9140799.27389629,
         "_deepnote_index_column": 9812
        },
        {
         "id": 33098,
         "price": 11030371.348941576,
         "_deepnote_index_column": 9813
        },
        {
         "id": 33099,
         "price": 19582931.32771624,
         "_deepnote_index_column": 9814
        },
        {
         "id": 33100,
         "price": 12995162.612932025,
         "_deepnote_index_column": 9815
        },
        {
         "id": 33101,
         "price": 9951785.295148274,
         "_deepnote_index_column": 9816
        },
        {
         "id": 33102,
         "price": 11923955.423900964,
         "_deepnote_index_column": 9817
        },
        {
         "id": 33103,
         "price": 8350153.553554077,
         "_deepnote_index_column": 9818
        },
        {
         "id": 33104,
         "price": 10199054.213772526,
         "_deepnote_index_column": 9819
        },
        {
         "id": 33105,
         "price": 12510945.248912605,
         "_deepnote_index_column": 9820
        },
        {
         "id": 33106,
         "price": 11474378.440341204,
         "_deepnote_index_column": 9821
        },
        {
         "id": 33107,
         "price": 13786770.411869608,
         "_deepnote_index_column": 9822
        },
        {
         "id": 33108,
         "price": 12349439.253917027,
         "_deepnote_index_column": 9823
        },
        {
         "id": 33109,
         "price": 19630268.53347194,
         "_deepnote_index_column": 9824
        },
        {
         "id": 33110,
         "price": 62152823.17854971,
         "_deepnote_index_column": 9825
        },
        {
         "id": 33111,
         "price": 44436507.06956318,
         "_deepnote_index_column": 9826
        },
        {
         "id": 33112,
         "price": 14761614.487392323,
         "_deepnote_index_column": 9827
        },
        {
         "id": 33113,
         "price": 5881214.456217803,
         "_deepnote_index_column": 9828
        },
        {
         "id": 33114,
         "price": 6268235.7909212,
         "_deepnote_index_column": 9829
        },
        {
         "id": 33115,
         "price": 7368114.692696847,
         "_deepnote_index_column": 9830
        },
        {
         "id": 33116,
         "price": 8830242.89625079,
         "_deepnote_index_column": 9831
        },
        {
         "id": 33117,
         "price": 10023986.907237662,
         "_deepnote_index_column": 9832
        },
        {
         "id": 33118,
         "price": 12455790.171003332,
         "_deepnote_index_column": 9833
        },
        {
         "id": 33119,
         "price": 13369110.615468804,
         "_deepnote_index_column": 9834
        },
        {
         "id": 33120,
         "price": 16999029.499390736,
         "_deepnote_index_column": 9835
        },
        {
         "id": 33121,
         "price": 27615264.936543435,
         "_deepnote_index_column": 9836
        },
        {
         "id": 33122,
         "price": 39965455.44880691,
         "_deepnote_index_column": 9837
        },
        {
         "id": 33123,
         "price": 240095288.8898426,
         "_deepnote_index_column": 9838
        },
        {
         "id": 33124,
         "price": 359376362.1475753,
         "_deepnote_index_column": 9839
        },
        {
         "id": 33125,
         "price": 4209943.497335918,
         "_deepnote_index_column": 9840
        },
        {
         "id": 33126,
         "price": 7198912.349561676,
         "_deepnote_index_column": 9841
        },
        {
         "id": 33127,
         "price": 9050232.07436035,
         "_deepnote_index_column": 9842
        },
        {
         "id": 33128,
         "price": 10988312.682229357,
         "_deepnote_index_column": 9843
        },
        {
         "id": 33129,
         "price": 12212887.326017888,
         "_deepnote_index_column": 9844
        },
        {
         "id": 33130,
         "price": 11647551.149071444,
         "_deepnote_index_column": 9845
        },
        {
         "id": 33131,
         "price": 18551159.12669256,
         "_deepnote_index_column": 9846
        },
        {
         "id": 33132,
         "price": 16243947.434614316,
         "_deepnote_index_column": 9847
        },
        {
         "id": 33133,
         "price": 20253400.185674936,
         "_deepnote_index_column": 9848
        },
        {
         "id": 33134,
         "price": 21489152.84006054,
         "_deepnote_index_column": 9849
        },
        {
         "id": 33135,
         "price": 23854468.899629246,
         "_deepnote_index_column": 9850
        },
        {
         "id": 33136,
         "price": 29021998.800537225,
         "_deepnote_index_column": 9851
        },
        {
         "id": 33137,
         "price": 38946838.07017758,
         "_deepnote_index_column": 9852
        },
        {
         "id": 33138,
         "price": 37475111.730307445,
         "_deepnote_index_column": 9853
        },
        {
         "id": 33139,
         "price": 32418350.01978449,
         "_deepnote_index_column": 9854
        },
        {
         "id": 33140,
         "price": 39068107.27324474,
         "_deepnote_index_column": 9855
        },
        {
         "id": 33141,
         "price": 74746954.33266842,
         "_deepnote_index_column": 9856
        },
        {
         "id": 33142,
         "price": 69719911.4565586,
         "_deepnote_index_column": 9857
        },
        {
         "id": 33143,
         "price": 38657078.69589216,
         "_deepnote_index_column": 9858
        },
        {
         "id": 33144,
         "price": 8859454.039493723,
         "_deepnote_index_column": 9859
        },
        {
         "id": 33145,
         "price": 4972787.165829364,
         "_deepnote_index_column": 9860
        },
        {
         "id": 33146,
         "price": 5185279.51538102,
         "_deepnote_index_column": 9861
        },
        {
         "id": 33147,
         "price": 8338916.216128875,
         "_deepnote_index_column": 9862
        },
        {
         "id": 33148,
         "price": 10969251.084991004,
         "_deepnote_index_column": 9863
        },
        {
         "id": 33149,
         "price": 10190451.550221108,
         "_deepnote_index_column": 9864
        },
        {
         "id": 33150,
         "price": 3446883.934570607,
         "_deepnote_index_column": 9865
        },
        {
         "id": 33151,
         "price": 5839184.958997194,
         "_deepnote_index_column": 9866
        },
        {
         "id": 33152,
         "price": 6028648.436650377,
         "_deepnote_index_column": 9867
        },
        {
         "id": 33153,
         "price": 13383757.606320163,
         "_deepnote_index_column": 9868
        },
        {
         "id": 33154,
         "price": 5295004.831514597,
         "_deepnote_index_column": 9869
        },
        {
         "id": 33155,
         "price": 3950336.995952759,
         "_deepnote_index_column": 9870
        },
        {
         "id": 33156,
         "price": 6741561.927001957,
         "_deepnote_index_column": 9871
        },
        {
         "id": 33157,
         "price": 4919423.774740711,
         "_deepnote_index_column": 9872
        },
        {
         "id": 33158,
         "price": 6322050.599858694,
         "_deepnote_index_column": 9873
        },
        {
         "id": 33159,
         "price": 7026175.396654453,
         "_deepnote_index_column": 9874
        },
        {
         "id": 33160,
         "price": 7862191.629088113,
         "_deepnote_index_column": 9875
        },
        {
         "id": 33161,
         "price": 7055179.453586837,
         "_deepnote_index_column": 9876
        },
        {
         "id": 33162,
         "price": 7961411.573648252,
         "_deepnote_index_column": 9877
        },
        {
         "id": 33163,
         "price": 8284964.983194571,
         "_deepnote_index_column": 9878
        },
        {
         "id": 33164,
         "price": 4708499.968021102,
         "_deepnote_index_column": 9879
        },
        {
         "id": 33165,
         "price": 5068927.988625634,
         "_deepnote_index_column": 9880
        },
        {
         "id": 33166,
         "price": 5027928.77851617,
         "_deepnote_index_column": 9881
        },
        {
         "id": 33167,
         "price": 4007842.82198868,
         "_deepnote_index_column": 9882
        },
        {
         "id": 33168,
         "price": 3852132.108384032,
         "_deepnote_index_column": 9883
        },
        {
         "id": 33169,
         "price": 5914562.783705395,
         "_deepnote_index_column": 9884
        },
        {
         "id": 33170,
         "price": 7166030.618681518,
         "_deepnote_index_column": 9885
        },
        {
         "id": 33171,
         "price": 6850627.403644681,
         "_deepnote_index_column": 9886
        },
        {
         "id": 33172,
         "price": 5734396.854032528,
         "_deepnote_index_column": 9887
        },
        {
         "id": 33173,
         "price": 5417725.44379963,
         "_deepnote_index_column": 9888
        },
        {
         "id": 33174,
         "price": 5135758.786770981,
         "_deepnote_index_column": 9889
        },
        {
         "id": 33175,
         "price": 5277096.895038873,
         "_deepnote_index_column": 9890
        },
        {
         "id": 33176,
         "price": 8171718.282748828,
         "_deepnote_index_column": 9891
        },
        {
         "id": 33177,
         "price": 7285234.747358646,
         "_deepnote_index_column": 9892
        },
        {
         "id": 33178,
         "price": 8954904.89434397,
         "_deepnote_index_column": 9893
        },
        {
         "id": 33179,
         "price": 15187550.735915132,
         "_deepnote_index_column": 9894
        },
        {
         "id": 33180,
         "price": 8760524.934437495,
         "_deepnote_index_column": 9895
        },
        {
         "id": 33181,
         "price": 7478851.711314015,
         "_deepnote_index_column": 9896
        },
        {
         "id": 33182,
         "price": 8821017.475740438,
         "_deepnote_index_column": 9897
        },
        {
         "id": 33183,
         "price": 9045084.118027411,
         "_deepnote_index_column": 9898
        },
        {
         "id": 33184,
         "price": 7711008.414348302,
         "_deepnote_index_column": 9899
        },
        {
         "id": 33185,
         "price": 11604527.068711324,
         "_deepnote_index_column": 9900
        },
        {
         "id": 33186,
         "price": 3902436.8850056753,
         "_deepnote_index_column": 9901
        },
        {
         "id": 33187,
         "price": 3081924.168148268,
         "_deepnote_index_column": 9902
        },
        {
         "id": 33188,
         "price": 6502137.771003418,
         "_deepnote_index_column": 9903
        },
        {
         "id": 33189,
         "price": 6402782.192208301,
         "_deepnote_index_column": 9904
        },
        {
         "id": 33190,
         "price": 11102198.234430172,
         "_deepnote_index_column": 9905
        },
        {
         "id": 33191,
         "price": 14954687.420243658,
         "_deepnote_index_column": 9906
        },
        {
         "id": 33192,
         "price": 29113277.506369337,
         "_deepnote_index_column": 9907
        },
        {
         "id": 33193,
         "price": 66161063.01362352,
         "_deepnote_index_column": 9908
        },
        {
         "id": 33194,
         "price": 139497358.4299685,
         "_deepnote_index_column": 9909
        },
        {
         "id": 33195,
         "price": 176998781.55434713,
         "_deepnote_index_column": 9910
        },
        {
         "id": 33196,
         "price": 10408408.884068089,
         "_deepnote_index_column": 9911
        },
        {
         "id": 33197,
         "price": 35443995.8014625,
         "_deepnote_index_column": 9912
        },
        {
         "id": 33198,
         "price": 18036025.773802504,
         "_deepnote_index_column": 9913
        },
        {
         "id": 33199,
         "price": 32523172.67009073,
         "_deepnote_index_column": 9914
        },
        {
         "id": 33200,
         "price": 24617509.84306937,
         "_deepnote_index_column": 9915
        },
        {
         "id": 33201,
         "price": 8901975.13314397,
         "_deepnote_index_column": 9916
        },
        {
         "id": 33202,
         "price": 31418835.337872434,
         "_deepnote_index_column": 9917
        },
        {
         "id": 33203,
         "price": 19653253.496885147,
         "_deepnote_index_column": 9918
        },
        {
         "id": 33204,
         "price": 18963752.818910558,
         "_deepnote_index_column": 9919
        },
        {
         "id": 33205,
         "price": 12917749.360749524,
         "_deepnote_index_column": 9920
        },
        {
         "id": 33206,
         "price": 19599770.338266514,
         "_deepnote_index_column": 9921
        },
        {
         "id": 33207,
         "price": 33363674.8423444,
         "_deepnote_index_column": 9922
        },
        {
         "id": 33208,
         "price": 11776866.109305378,
         "_deepnote_index_column": 9923
        },
        {
         "id": 33209,
         "price": 23631504.460820653,
         "_deepnote_index_column": 9924
        },
        {
         "id": 33210,
         "price": 20890541.938305512,
         "_deepnote_index_column": 9925
        },
        {
         "id": 33211,
         "price": 20206515.03618457,
         "_deepnote_index_column": 9926
        },
        {
         "id": 33212,
         "price": 15128974.998419702,
         "_deepnote_index_column": 9927
        },
        {
         "id": 33213,
         "price": 60764618.05336991,
         "_deepnote_index_column": 9928
        },
        {
         "id": 33214,
         "price": 324638802.910306,
         "_deepnote_index_column": 9929
        },
        {
         "id": 33215,
         "price": 136839804.120361,
         "_deepnote_index_column": 9930
        },
        {
         "id": 33216,
         "price": 37498762.70632249,
         "_deepnote_index_column": 9931
        },
        {
         "id": 33217,
         "price": 30329298.20344773,
         "_deepnote_index_column": 9932
        },
        {
         "id": 33218,
         "price": 21878223.996483505,
         "_deepnote_index_column": 9933
        },
        {
         "id": 33219,
         "price": 9436800.82150435,
         "_deepnote_index_column": 9934
        },
        {
         "id": 33220,
         "price": 8494396.914101122,
         "_deepnote_index_column": 9935
        },
        {
         "id": 33221,
         "price": 5042042.451228511,
         "_deepnote_index_column": 9936
        }
       ]
      },
      "text/plain": "         id         price\n0     23285  2.214553e+07\n1     23286  1.273516e+07\n2     23287  6.059338e+06\n3     23288  1.336547e+07\n4     23289  5.072882e+06\n...     ...           ...\n9932  33217  3.032930e+07\n9933  33218  2.187822e+07\n9934  33219  9.436801e+06\n9935  33220  8.494397e+06\n9936  33221  5.042042e+06\n\n[9937 rows x 2 columns]",
      "text/html": "<div>\n<style scoped>\n    .dataframe tbody tr th:only-of-type {\n        vertical-align: middle;\n    }\n\n    .dataframe tbody tr th {\n        vertical-align: top;\n    }\n\n    .dataframe thead th {\n        text-align: right;\n    }\n</style>\n<table border=\"1\" class=\"dataframe\">\n  <thead>\n    <tr style=\"text-align: right;\">\n      <th></th>\n      <th>id</th>\n      <th>price</th>\n    </tr>\n  </thead>\n  <tbody>\n    <tr>\n      <th>0</th>\n      <td>23285</td>\n      <td>2.214553e+07</td>\n    </tr>\n    <tr>\n      <th>1</th>\n      <td>23286</td>\n      <td>1.273516e+07</td>\n    </tr>\n    <tr>\n      <th>2</th>\n      <td>23287</td>\n      <td>6.059338e+06</td>\n    </tr>\n    <tr>\n      <th>3</th>\n      <td>23288</td>\n      <td>1.336547e+07</td>\n    </tr>\n    <tr>\n      <th>4</th>\n      <td>23289</td>\n      <td>5.072882e+06</td>\n    </tr>\n    <tr>\n      <th>...</th>\n      <td>...</td>\n      <td>...</td>\n    </tr>\n    <tr>\n      <th>9932</th>\n      <td>33217</td>\n      <td>3.032930e+07</td>\n    </tr>\n    <tr>\n      <th>9933</th>\n      <td>33218</td>\n      <td>2.187822e+07</td>\n    </tr>\n    <tr>\n      <th>9934</th>\n      <td>33219</td>\n      <td>9.436801e+06</td>\n    </tr>\n    <tr>\n      <th>9935</th>\n      <td>33220</td>\n      <td>8.494397e+06</td>\n    </tr>\n    <tr>\n      <th>9936</th>\n      <td>33221</td>\n      <td>5.042042e+06</td>\n    </tr>\n  </tbody>\n</table>\n<p>9937 rows × 2 columns</p>\n</div>"
     },
     "metadata": {}
    }
   ]
  },
  {
   "cell_type": "code",
   "metadata": {
    "tags": [],
    "cell_id": "00019-ec6a3d06-fd1e-4934-b9ab-e204390b9a6b",
    "deepnote_to_be_reexecuted": false,
    "source_hash": "7e44ff4e",
    "execution_start": 1636655097640,
    "execution_millis": 1107,
    "deepnote_cell_type": "code"
   },
   "source": "submission = pd.DataFrame()\nsubmission['id'] = data_test.id\nsubmission['price_prediction'] = final_labels # Predict on non-nan entries\n # Fill missing entries with mean predictor\nprint(f'Generated {len(submission)} predictions')\n\n# Export submission to csv with headers\n#submission.to_csv('sample_submission.csv', index=False)\n\nsubmission.to_csv('sample_submission.csv', index=False)\n\n# Look at submitted csv\nprint('\\nLine count of submission')\n!wc -l sample_submission.csv\n\nprint('\\nFirst 5 rows of submission')\n!head -n 5 sample_submission.csv",
   "execution_count": null,
   "outputs": [
    {
     "name": "stdout",
     "text": "Generated 9937 predictions\n\nLine count of submission\n9938 sample_submission.csv\n\nFirst 5 rows of submission\nid,price_prediction\n23285,22145534.573678542\n23286,12735162.37680138\n23287,6059337.512269016\n23288,13365466.83050742\n",
     "output_type": "stream"
    }
   ]
  },
  {
   "cell_type": "code",
   "metadata": {
    "tags": [],
    "cell_id": "00020-2dd3c92e-e550-4c7a-8a4b-a39ee841fa8e",
    "deepnote_cell_type": "code"
   },
   "source": "import xgboost\nclassifier=xgboost.",
   "execution_count": null,
   "outputs": []
  },
  {
   "cell_type": "markdown",
   "source": "<a style='text-decoration:none;line-height:16px;display:flex;color:#5B5B62;padding:10px;justify-content:end;' href='https://deepnote.com?utm_source=created-in-deepnote-cell&projectId=99c1e030-46bc-40fa-835c-0661eae0d488' target=\"_blank\">\n<img alt='Created in deepnote.com' style='display:inline;max-height:16px;margin:0px;margin-right:7.5px;' src='data:image/svg+xml;base64,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' > </img>\nCreated in <span style='font-weight:600;margin-left:4px;'>Deepnote</span></a>",
   "metadata": {
    "tags": [],
    "created_in_deepnote_cell": true,
    "deepnote_cell_type": "markdown"
   }
  }
 ],
 "nbformat": 4,
 "nbformat_minor": 2,
 "metadata": {
  "orig_nbformat": 2,
  "deepnote": {
   "is_reactive": false
  },
  "deepnote_notebook_id": "2de773d8-ec69-4c1c-a2de-232d0df8c0ab",
  "deepnote_execution_queue": []
 }
}