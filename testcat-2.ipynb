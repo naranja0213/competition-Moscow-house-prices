{
 "cells": [
  {
   "cell_type": "code",
   "metadata": {
    "tags": [],
    "deepnote_to_be_reexecuted": false,
    "source_hash": "681e86b0",
    "execution_start": 1637257420104,
    "execution_millis": 4164,
    "cell_id": "00000-e448b451-6603-4efb-9515-5f15bb3b83d3",
    "deepnote_cell_type": "code"
   },
   "source": "!pip install ipywidgets",
   "execution_count": null,
   "outputs": [
    {
     "name": "stdout",
     "text": "Requirement already satisfied: ipywidgets in /usr/local/lib/python3.9/site-packages (7.6.5)\nRequirement already satisfied: traitlets>=4.3.1 in /shared-libs/python3.9/py-core/lib/python3.9/site-packages (from ipywidgets) (4.3.3)\nRequirement already satisfied: jupyterlab-widgets>=1.0.0 in /usr/local/lib/python3.9/site-packages (from ipywidgets) (1.0.2)\nRequirement already satisfied: ipython-genutils~=0.2.0 in /shared-libs/python3.9/py-core/lib/python3.9/site-packages (from ipywidgets) (0.2.0)\nRequirement already satisfied: nbformat>=4.2.0 in /shared-libs/python3.9/py-core/lib/python3.9/site-packages (from ipywidgets) (5.1.3)\nRequirement already satisfied: widgetsnbextension~=3.5.0 in /usr/local/lib/python3.9/site-packages (from ipywidgets) (3.5.2)\nRequirement already satisfied: ipykernel>=4.5.1 in /shared-libs/python3.9/py-core/lib/python3.9/site-packages (from ipywidgets) (5.5.5)\nRequirement already satisfied: ipython>=4.0.0 in /shared-libs/python3.9/py-core/lib/python3.9/site-packages (from ipywidgets) (7.29.0)\nRequirement already satisfied: jupyter-client in /shared-libs/python3.9/py-core/lib/python3.9/site-packages (from ipykernel>=4.5.1->ipywidgets) (6.1.12)\nRequirement already satisfied: tornado>=4.2 in /shared-libs/python3.9/py-core/lib/python3.9/site-packages (from ipykernel>=4.5.1->ipywidgets) (6.1)\nRequirement already satisfied: setuptools>=18.5 in /root/venv/lib/python3.9/site-packages (from ipython>=4.0.0->ipywidgets) (57.4.0)\nRequirement already satisfied: prompt-toolkit!=3.0.0,!=3.0.1,<3.1.0,>=2.0.0 in /shared-libs/python3.9/py-core/lib/python3.9/site-packages (from ipython>=4.0.0->ipywidgets) (3.0.22)\nRequirement already satisfied: jedi>=0.16 in /shared-libs/python3.9/py-core/lib/python3.9/site-packages (from ipython>=4.0.0->ipywidgets) (0.17.2)\nRequirement already satisfied: backcall in /shared-libs/python3.9/py-core/lib/python3.9/site-packages (from ipython>=4.0.0->ipywidgets) (0.2.0)\nRequirement already satisfied: pickleshare in /shared-libs/python3.9/py-core/lib/python3.9/site-packages (from ipython>=4.0.0->ipywidgets) (0.7.5)\nRequirement already satisfied: matplotlib-inline in /shared-libs/python3.9/py-core/lib/python3.9/site-packages (from ipython>=4.0.0->ipywidgets) (0.1.3)\nRequirement already satisfied: decorator in /shared-libs/python3.9/py-core/lib/python3.9/site-packages (from ipython>=4.0.0->ipywidgets) (5.1.0)\nRequirement already satisfied: pexpect>4.3 in /shared-libs/python3.9/py-core/lib/python3.9/site-packages (from ipython>=4.0.0->ipywidgets) (4.8.0)\nRequirement already satisfied: pygments in /shared-libs/python3.9/py-core/lib/python3.9/site-packages (from ipython>=4.0.0->ipywidgets) (2.10.0)\nRequirement already satisfied: parso<0.8.0,>=0.7.0 in /shared-libs/python3.9/py-core/lib/python3.9/site-packages (from jedi>=0.16->ipython>=4.0.0->ipywidgets) (0.7.1)\nRequirement already satisfied: jsonschema!=2.5.0,>=2.4 in /shared-libs/python3.9/py-core/lib/python3.9/site-packages (from nbformat>=4.2.0->ipywidgets) (3.2.0)\nRequirement already satisfied: jupyter-core in /shared-libs/python3.9/py-core/lib/python3.9/site-packages (from nbformat>=4.2.0->ipywidgets) (4.7.1)\nRequirement already satisfied: six>=1.11.0 in /shared-libs/python3.9/py-core/lib/python3.9/site-packages (from jsonschema!=2.5.0,>=2.4->nbformat>=4.2.0->ipywidgets) (1.16.0)\nRequirement already satisfied: pyrsistent>=0.14.0 in /shared-libs/python3.9/py-core/lib/python3.9/site-packages (from jsonschema!=2.5.0,>=2.4->nbformat>=4.2.0->ipywidgets) (0.18.0)\nRequirement already satisfied: attrs>=17.4.0 in /shared-libs/python3.9/py-core/lib/python3.9/site-packages (from jsonschema!=2.5.0,>=2.4->nbformat>=4.2.0->ipywidgets) (21.2.0)\nRequirement already satisfied: ptyprocess>=0.5 in /shared-libs/python3.9/py-core/lib/python3.9/site-packages (from pexpect>4.3->ipython>=4.0.0->ipywidgets) (0.7.0)\nRequirement already satisfied: wcwidth in /shared-libs/python3.9/py-core/lib/python3.9/site-packages (from prompt-toolkit!=3.0.0,!=3.0.1,<3.1.0,>=2.0.0->ipython>=4.0.0->ipywidgets) (0.2.5)\nRequirement already satisfied: notebook>=4.4.1 in /shared-libs/python3.9/py-core/lib/python3.9/site-packages (from widgetsnbextension~=3.5.0->ipywidgets) (6.3.0)\nRequirement already satisfied: jinja2 in /shared-libs/python3.9/py-core/lib/python3.9/site-packages (from notebook>=4.4.1->widgetsnbextension~=3.5.0->ipywidgets) (3.0.3)\nRequirement already satisfied: argon2-cffi in /shared-libs/python3.9/py-core/lib/python3.9/site-packages (from notebook>=4.4.1->widgetsnbextension~=3.5.0->ipywidgets) (21.1.0)\nRequirement already satisfied: terminado>=0.8.3 in /shared-libs/python3.9/py-core/lib/python3.9/site-packages (from notebook>=4.4.1->widgetsnbextension~=3.5.0->ipywidgets) (0.12.1)\nRequirement already satisfied: Send2Trash>=1.5.0 in /shared-libs/python3.9/py-core/lib/python3.9/site-packages (from notebook>=4.4.1->widgetsnbextension~=3.5.0->ipywidgets) (1.8.0)\nRequirement already satisfied: prometheus-client in /shared-libs/python3.9/py-core/lib/python3.9/site-packages (from notebook>=4.4.1->widgetsnbextension~=3.5.0->ipywidgets) (0.12.0)\nRequirement already satisfied: pyzmq>=17 in /shared-libs/python3.9/py-core/lib/python3.9/site-packages (from notebook>=4.4.1->widgetsnbextension~=3.5.0->ipywidgets) (22.3.0)\nRequirement already satisfied: nbconvert==6.0.7 in /shared-libs/python3.9/py-core/lib/python3.9/site-packages (from notebook>=4.4.1->widgetsnbextension~=3.5.0->ipywidgets) (6.0.7)\nRequirement already satisfied: python-dateutil>=2.1 in /shared-libs/python3.9/py-core/lib/python3.9/site-packages (from jupyter-client->ipykernel>=4.5.1->ipywidgets) (2.8.2)\nRequirement already satisfied: jupyterlab-pygments in /shared-libs/python3.9/py-core/lib/python3.9/site-packages (from nbconvert==6.0.7->notebook>=4.4.1->widgetsnbextension~=3.5.0->ipywidgets) (0.1.2)\nRequirement already satisfied: entrypoints>=0.2.2 in /shared-libs/python3.9/py-core/lib/python3.9/site-packages (from nbconvert==6.0.7->notebook>=4.4.1->widgetsnbextension~=3.5.0->ipywidgets) (0.3)\nRequirement already satisfied: testpath in /shared-libs/python3.9/py-core/lib/python3.9/site-packages (from nbconvert==6.0.7->notebook>=4.4.1->widgetsnbextension~=3.5.0->ipywidgets) (0.5.0)\nRequirement already satisfied: bleach in /shared-libs/python3.9/py-core/lib/python3.9/site-packages (from nbconvert==6.0.7->notebook>=4.4.1->widgetsnbextension~=3.5.0->ipywidgets) (4.1.0)\nRequirement already satisfied: defusedxml in /shared-libs/python3.9/py-core/lib/python3.9/site-packages (from nbconvert==6.0.7->notebook>=4.4.1->widgetsnbextension~=3.5.0->ipywidgets) (0.7.1)\nRequirement already satisfied: nbclient<0.6.0,>=0.5.0 in /shared-libs/python3.9/py-core/lib/python3.9/site-packages (from nbconvert==6.0.7->notebook>=4.4.1->widgetsnbextension~=3.5.0->ipywidgets) (0.5.8)\nRequirement already satisfied: mistune<2,>=0.8.1 in /shared-libs/python3.9/py-core/lib/python3.9/site-packages (from nbconvert==6.0.7->notebook>=4.4.1->widgetsnbextension~=3.5.0->ipywidgets) (0.8.4)\nRequirement already satisfied: pandocfilters>=1.4.1 in /shared-libs/python3.9/py-core/lib/python3.9/site-packages (from nbconvert==6.0.7->notebook>=4.4.1->widgetsnbextension~=3.5.0->ipywidgets) (1.5.0)\nRequirement already satisfied: MarkupSafe>=2.0 in /shared-libs/python3.9/py-core/lib/python3.9/site-packages (from jinja2->notebook>=4.4.1->widgetsnbextension~=3.5.0->ipywidgets) (2.0.1)\nRequirement already satisfied: nest-asyncio in /shared-libs/python3.9/py-core/lib/python3.9/site-packages (from nbclient<0.6.0,>=0.5.0->nbconvert==6.0.7->notebook>=4.4.1->widgetsnbextension~=3.5.0->ipywidgets) (1.5.1)\nRequirement already satisfied: cffi>=1.0.0 in /shared-libs/python3.9/py-core/lib/python3.9/site-packages (from argon2-cffi->notebook>=4.4.1->widgetsnbextension~=3.5.0->ipywidgets) (1.15.0)\nRequirement already satisfied: pycparser in /shared-libs/python3.9/py-core/lib/python3.9/site-packages (from cffi>=1.0.0->argon2-cffi->notebook>=4.4.1->widgetsnbextension~=3.5.0->ipywidgets) (2.21)\nRequirement already satisfied: webencodings in /shared-libs/python3.9/py-core/lib/python3.9/site-packages (from bleach->nbconvert==6.0.7->notebook>=4.4.1->widgetsnbextension~=3.5.0->ipywidgets) (0.5.1)\nRequirement already satisfied: packaging in /shared-libs/python3.9/py-core/lib/python3.9/site-packages (from bleach->nbconvert==6.0.7->notebook>=4.4.1->widgetsnbextension~=3.5.0->ipywidgets) (21.2)\nRequirement already satisfied: pyparsing<3,>=2.0.2 in /shared-libs/python3.9/py-core/lib/python3.9/site-packages (from packaging->bleach->nbconvert==6.0.7->notebook>=4.4.1->widgetsnbextension~=3.5.0->ipywidgets) (2.4.7)\n\u001b[33mWARNING: You are using pip version 21.2.3; however, version 21.3.1 is available.\nYou should consider upgrading via the '/root/venv/bin/python -m pip install --upgrade pip' command.\u001b[0m\n",
     "output_type": "stream"
    }
   ]
  },
  {
   "cell_type": "code",
   "metadata": {
    "tags": [],
    "deepnote_to_be_reexecuted": false,
    "source_hash": "d57d481e",
    "execution_start": 1637257424274,
    "execution_millis": 3558,
    "cell_id": "00001-5e2ce84b-d787-4102-957f-c524eda806c0",
    "deepnote_cell_type": "code"
   },
   "source": "!pip install -r requirements.txt\n",
   "execution_count": null,
   "outputs": [
    {
     "name": "stdout",
     "text": "Requirement already satisfied: xgboost in /root/venv/lib/python3.9/site-packages (from -r requirements.txt (line 1)) (1.5.0)\nRequirement already satisfied: catboost in /root/venv/lib/python3.9/site-packages (from -r requirements.txt (line 2)) (1.0.3)\nRequirement already satisfied: numpy in /root/venv/lib/python3.9/site-packages (from xgboost->-r requirements.txt (line 1)) (1.20.0)\nRequirement already satisfied: scipy in /shared-libs/python3.9/py/lib/python3.9/site-packages (from xgboost->-r requirements.txt (line 1)) (1.7.2)\nRequirement already satisfied: plotly in /shared-libs/python3.9/py/lib/python3.9/site-packages (from catboost->-r requirements.txt (line 2)) (5.3.1)\nRequirement already satisfied: graphviz in /root/venv/lib/python3.9/site-packages (from catboost->-r requirements.txt (line 2)) (0.18.2)\nRequirement already satisfied: six in /shared-libs/python3.9/py-core/lib/python3.9/site-packages (from catboost->-r requirements.txt (line 2)) (1.16.0)\nRequirement already satisfied: pandas>=0.24.0 in /shared-libs/python3.9/py/lib/python3.9/site-packages (from catboost->-r requirements.txt (line 2)) (1.2.5)\nRequirement already satisfied: matplotlib in /shared-libs/python3.9/py/lib/python3.9/site-packages (from catboost->-r requirements.txt (line 2)) (3.4.3)\nRequirement already satisfied: pytz>=2017.3 in /shared-libs/python3.9/py/lib/python3.9/site-packages (from pandas>=0.24.0->catboost->-r requirements.txt (line 2)) (2021.3)\nRequirement already satisfied: python-dateutil>=2.7.3 in /shared-libs/python3.9/py-core/lib/python3.9/site-packages (from pandas>=0.24.0->catboost->-r requirements.txt (line 2)) (2.8.2)\nRequirement already satisfied: kiwisolver>=1.0.1 in /shared-libs/python3.9/py/lib/python3.9/site-packages (from matplotlib->catboost->-r requirements.txt (line 2)) (1.3.2)\nRequirement already satisfied: pillow>=6.2.0 in /shared-libs/python3.9/py/lib/python3.9/site-packages (from matplotlib->catboost->-r requirements.txt (line 2)) (8.4.0)\nRequirement already satisfied: cycler>=0.10 in /shared-libs/python3.9/py/lib/python3.9/site-packages (from matplotlib->catboost->-r requirements.txt (line 2)) (0.11.0)\nRequirement already satisfied: pyparsing>=2.2.1 in /shared-libs/python3.9/py-core/lib/python3.9/site-packages (from matplotlib->catboost->-r requirements.txt (line 2)) (2.4.7)\nRequirement already satisfied: tenacity>=6.2.0 in /shared-libs/python3.9/py/lib/python3.9/site-packages (from plotly->catboost->-r requirements.txt (line 2)) (8.0.1)\n\u001b[33mWARNING: You are using pip version 21.2.3; however, version 21.3.1 is available.\nYou should consider upgrading via the '/root/venv/bin/python -m pip install --upgrade pip' command.\u001b[0m\n",
     "output_type": "stream"
    }
   ]
  },
  {
   "cell_type": "code",
   "metadata": {
    "tags": [],
    "deepnote_to_be_reexecuted": false,
    "source_hash": "85c8f1a6",
    "execution_start": 1637258583541,
    "execution_millis": 1246,
    "cell_id": "00002-55c51dd6-7fe9-474b-ab96-3abd5ebdbb9d",
    "deepnote_cell_type": "code"
   },
   "source": "import json\nimport pandas as pd\nimport numpy as np\nimport math as math\nimport matplotlib.pyplot as plt\nimport seaborn as sns\nimport sklearn.model_selection as model_selection\nimport sklearn.tree as tree\nfrom sklearn.linear_model import LogisticRegression\nfrom sklearn.linear_model import LinearRegression\nimport time\nfrom sklearn.model_selection import GridSearchCV\nfrom sklearn.tree import DecisionTreeRegressor\nimport catboost\nfrom catboost import CatBoostClassifier\nfrom catboost import CatBoostRegressor\nfrom sklearn.model_selection import train_test_split\n",
   "execution_count": null,
   "outputs": []
  },
  {
   "cell_type": "code",
   "metadata": {
    "tags": [],
    "deepnote_to_be_reexecuted": false,
    "source_hash": "2490097",
    "execution_start": 1637258591815,
    "execution_millis": 1014,
    "cell_id": "00003-7f1947c4-3f0f-4a13-9e6a-cb8c5ee0eda1",
    "deepnote_cell_type": "code"
   },
   "source": "df_train = pd.read_csv('Training_clean1.csv')\ndef root_mean_squared_log_error(y_true, y_pred):\n    # Alternatively: sklearn.metrics.mean_squared_log_error(y_true, y_pred) ** 0.5\n    assert (y_true >= 0).all() \n    assert (y_pred >= 0).all()\n    log_error = np.log1p(y_pred) - np.log1p(y_true)  # Note: log1p(x) = log(1 + x)\n    return np.mean(log_error ** 2) ** 0.5\n\ndf_test = pd.read_csv('Test_clean1.csv')\n    \n",
   "execution_count": null,
   "outputs": []
  },
  {
   "cell_type": "code",
   "metadata": {
    "tags": [],
    "cell_id": "00004-00367eaa-de01-42e9-bcfe-25962d6422d1",
    "deepnote_to_be_reexecuted": false,
    "source_hash": "867a9934",
    "execution_start": 1637258595987,
    "execution_millis": 15,
    "deepnote_cell_type": "code"
   },
   "source": "df_train['floor/stories'] = df_train.floor/df_train.stories",
   "execution_count": null,
   "outputs": []
  },
  {
   "cell_type": "code",
   "metadata": {
    "tags": [],
    "deepnote_to_be_reexecuted": false,
    "source_hash": "1830eb6f",
    "execution_start": 1637258599109,
    "execution_millis": 8,
    "deepnote_output_heights": [
     40
    ],
    "cell_id": "00005-6efa40f7-ff7d-431b-95f1-7be30663bf17",
    "deepnote_cell_type": "code"
   },
   "source": "\ny1 = df_train['price']/df_train['area_total'].values\nX1 = df_train.drop(['id','price', 'street', 'address', 'area_total'], axis=1)\nX1_test = df_test.drop(['id', 'street', 'address', 'area_total'], axis=1)\n",
   "execution_count": null,
   "outputs": []
  },
  {
   "cell_type": "code",
   "metadata": {
    "tags": [],
    "deepnote_to_be_reexecuted": false,
    "source_hash": "5c3a27a6",
    "execution_start": 1637258602301,
    "execution_millis": 39,
    "cell_id": "00006-a351dbad-7da2-4fcc-b9e0-f2beca31eab3",
    "deepnote_cell_type": "code"
   },
   "source": "#y1 = df_train.price.values\n#X1 = df_train.drop(['id','price', 'street', 'address'], axis=1)\n#X1_test = df_test.drop(['id', 'street', 'address'], axis=1)\ncategorical_features_indices = np.where(X1.dtypes != np.float64)[0]\ncategorical_features_indices = np.where(X1_test.dtypes != np.float64)[0]\n",
   "execution_count": null,
   "outputs": []
  },
  {
   "cell_type": "code",
   "metadata": {
    "tags": [],
    "deepnote_to_be_reexecuted": false,
    "source_hash": "8e89e5b2",
    "execution_start": 1637258608553,
    "execution_millis": 29,
    "deepnote_output_heights": [
     21
    ],
    "cell_id": "00007-7ae0c34d-45ea-4d78-901e-1165151fa034",
    "deepnote_cell_type": "code"
   },
   "source": "X_train, X_val, y_train, y_val = train_test_split(X1, y1, test_size=0.2, random_state=1, shuffle=True)\nX_train.shape, X_val.shape, y_train.shape,y_val.shape, X1_test.shape\n",
   "execution_count": null,
   "outputs": [
    {
     "output_type": "execute_result",
     "execution_count": 15,
     "data": {
      "text/plain": "((18628, 22), (4657, 22), (18628,), (4657,), (9937, 21))"
     },
     "metadata": {}
    }
   ]
  },
  {
   "cell_type": "code",
   "metadata": {
    "tags": [],
    "deepnote_to_be_reexecuted": false,
    "source_hash": "d99de540",
    "execution_start": 1637257429978,
    "execution_millis": 0,
    "cell_id": "00008-5d11dd30-fa17-4c42-a260-bfe0c9db88d9",
    "deepnote_cell_type": "code"
   },
   "source": "#Graid searchCV hyper parameter\nn_estimators=[100,500,900,1100,1500]\nmax_depth=[2,3,5,10,15]\nbooster=[\"gbtree\",\"gblinear\"]\nlearning_rate=\"[0.05,0.1,0.15,0.20]\"\nmin_child_weight=[1,2,3,4]\nbase_score=[0.25,0.5,0.75,1]\n\norg_params = {\n    'n_estimators': n_estimators,\n    'learning_rate': learning_rate,\n    \"booster\":booster,\n    'eval_metric': 'RMSE',\n    'use_best_model': True,\n    'loss_function': 'RMSE',\n    'max_depth': max_depth,\n    \"min_child_weight\":min_child_weight,\n    \"base_score\":base_score\n}",
   "execution_count": null,
   "outputs": []
  },
  {
   "cell_type": "code",
   "metadata": {
    "tags": [],
    "cell_id": "00009-48e2df34-8135-45fe-a2fd-4c85f6051a8a",
    "deepnote_cell_type": "code"
   },
   "source": "model_CBR = CatBoostRegressor()",
   "execution_count": null,
   "outputs": []
  },
  {
   "cell_type": "code",
   "metadata": {
    "tags": [],
    "cell_id": "00010-41e4c9e2-914a-4cb9-88fd-913b21ebcbe4",
    "deepnote_cell_type": "code"
   },
   "source": "parameters = {'depth'         : [6,8,10],\n                  'learning_rate' : [0.005, 0.01, 0.05],\n                  'iterations'    : [1500,2500,3500,5000]\n                 }",
   "execution_count": null,
   "outputs": []
  },
  {
   "cell_type": "code",
   "metadata": {
    "tags": [],
    "cell_id": "00011-ab60d5d5-5dd3-435d-ac57-4c9ef709d8ed",
    "deepnote_cell_type": "code"
   },
   "source": "grid = GridSearchCV(estimator=model_CBR, param_grid = parameters, cv = 5, n_jobs=-1)\ngrid.fit(X1, y1)\nprint(\" Results from Grid Search \" )\nprint(\"\\n The best estimator across ALL searched params:\\n\", grid.best_estimator_)\nprint(\"\\n The best score across ALL searched params:\\n\", grid.best_score_)\nprint(\"\\n The best parameters across ALL searched params:\\n\", grid.best_params_)",
   "execution_count": null,
   "outputs": []
  },
  {
   "cell_type": "code",
   "metadata": {
    "tags": [],
    "cell_id": "00012-3fb755b2-3beb-4b45-9e04-8ac29fe046fb",
    "deepnote_to_be_reexecuted": false,
    "source_hash": "b2e750e6",
    "execution_start": 1637258446091,
    "execution_millis": 722,
    "deepnote_cell_type": "code"
   },
   "source": "\nregressor = CatBoostRegressor(depth= 8, iterations= 5000, learning_rate= 0.05)",
   "execution_count": null,
   "outputs": [
    {
     "output_type": "error",
     "ename": "NameError",
     "evalue": "name 'CatBoostRegressor' is not defined",
     "traceback": [
      "\u001b[0;31m---------------------------------------------------------------------------\u001b[0m",
      "\u001b[0;31mNameError\u001b[0m                                 Traceback (most recent call last)",
      "\u001b[0;32m<ipython-input-3-4c745a1c22e7>\u001b[0m in \u001b[0;36m<module>\u001b[0;34m\u001b[0m\n\u001b[0;32m----> 1\u001b[0;31m \u001b[0mregressor\u001b[0m \u001b[0;34m=\u001b[0m \u001b[0mCatBoostRegressor\u001b[0m\u001b[0;34m(\u001b[0m\u001b[0mdepth\u001b[0m\u001b[0;34m=\u001b[0m \u001b[0;36m8\u001b[0m\u001b[0;34m,\u001b[0m \u001b[0miterations\u001b[0m\u001b[0;34m=\u001b[0m \u001b[0;36m5000\u001b[0m\u001b[0;34m,\u001b[0m \u001b[0mlearning_rate\u001b[0m\u001b[0;34m=\u001b[0m \u001b[0;36m0.05\u001b[0m\u001b[0;34m)\u001b[0m\u001b[0;34m\u001b[0m\u001b[0;34m\u001b[0m\u001b[0m\n\u001b[0m",
      "\u001b[0;31mNameError\u001b[0m: name 'CatBoostRegressor' is not defined"
     ]
    }
   ]
  },
  {
   "cell_type": "code",
   "metadata": {
    "tags": [],
    "cell_id": "00013-43a61ceb-0e92-47c5-b149-a3ea42ba8be2",
    "deepnote_to_be_reexecuted": false,
    "source_hash": "5633d7ca",
    "execution_start": 1637259383550,
    "execution_millis": 8,
    "deepnote_cell_type": "code"
   },
   "source": "#randon searchCV\nimport xgboost\nregressor=xgboost.XGBRegressor()\n\nfrom sklearn.model_selection import RandomizedSearchCV\nbooster=['gbtree','gblinear']\nbase_score=[0.25,0.5,0.75,1]\n## Hyper Parameter Optimization\n\nn_estimators = [900, 1300, 1600,2000]\nmax_depth = [7,8,9]\nbooster=['gbtree','gblinear']\nlearning_rate=[0.05,0.1,0.15]\nmin_child_weight=[1,2,3,4]\n\n# Define the grid of hyperparameters to search\nhyperparameter_grid = {\n    'n_estimators': n_estimators,\n    'max_depth':max_depth,\n    'learning_rate':learning_rate,\n    'min_child_weight':min_child_weight,\n    'booster':booster,\n    'base_score':base_score\n    }",
   "execution_count": null,
   "outputs": []
  },
  {
   "cell_type": "code",
   "metadata": {
    "tags": [],
    "cell_id": "00014-ea039f22-77be-4bb7-9e27-1c91c3b4e9eb",
    "deepnote_to_be_reexecuted": false,
    "source_hash": "d204e8d0",
    "execution_start": 1637259386444,
    "execution_millis": 1,
    "deepnote_cell_type": "code"
   },
   "source": "# Set up the random search with 5-fold cross validation\nrandom_cv = RandomizedSearchCV(estimator=regressor,\n            param_distributions=hyperparameter_grid,\n            cv=5, n_iter=50,\n            scoring = 'neg_mean_absolute_error',n_jobs = 4,\n            verbose = 5, \n            return_train_score = True,\n            random_state=42)",
   "execution_count": null,
   "outputs": []
  },
  {
   "cell_type": "code",
   "metadata": {
    "tags": [],
    "cell_id": "00015-d9b2f487-4a4e-459a-a4af-2b437f432c36",
    "deepnote_to_be_reexecuted": false,
    "source_hash": "b1257b90",
    "execution_start": 1637259389889,
    "execution_millis": 115961,
    "deepnote_cell_type": "code"
   },
   "source": "random_cv.fit(X1,y1)",
   "execution_count": null,
   "outputs": [
    {
     "name": "stdout",
     "text": "Fitting 5 folds for each of 50 candidates, totalling 250 fits\n",
     "output_type": "stream"
    },
    {
     "output_type": "error",
     "ename": "KeyboardInterrupt",
     "evalue": "",
     "traceback": [
      "\u001b[0;31m---------------------------------------------------------------------------\u001b[0m",
      "\u001b[0;31mKeyboardInterrupt\u001b[0m                         Traceback (most recent call last)",
      "\u001b[0;32m<ipython-input-21-f37141b4b883>\u001b[0m in \u001b[0;36m<module>\u001b[0;34m\u001b[0m\n\u001b[0;32m----> 1\u001b[0;31m \u001b[0mrandom_cv\u001b[0m\u001b[0;34m.\u001b[0m\u001b[0mfit\u001b[0m\u001b[0;34m(\u001b[0m\u001b[0mX1\u001b[0m\u001b[0;34m,\u001b[0m\u001b[0my1\u001b[0m\u001b[0;34m)\u001b[0m\u001b[0;34m\u001b[0m\u001b[0;34m\u001b[0m\u001b[0m\n\u001b[0m",
      "\u001b[0;32m/shared-libs/python3.9/py/lib/python3.9/site-packages/sklearn/model_selection/_search.py\u001b[0m in \u001b[0;36mfit\u001b[0;34m(self, X, y, groups, **fit_params)\u001b[0m\n\u001b[1;32m    889\u001b[0m                 \u001b[0;32mreturn\u001b[0m \u001b[0mresults\u001b[0m\u001b[0;34m\u001b[0m\u001b[0;34m\u001b[0m\u001b[0m\n\u001b[1;32m    890\u001b[0m \u001b[0;34m\u001b[0m\u001b[0m\n\u001b[0;32m--> 891\u001b[0;31m             \u001b[0mself\u001b[0m\u001b[0;34m.\u001b[0m\u001b[0m_run_search\u001b[0m\u001b[0;34m(\u001b[0m\u001b[0mevaluate_candidates\u001b[0m\u001b[0;34m)\u001b[0m\u001b[0;34m\u001b[0m\u001b[0;34m\u001b[0m\u001b[0m\n\u001b[0m\u001b[1;32m    892\u001b[0m \u001b[0;34m\u001b[0m\u001b[0m\n\u001b[1;32m    893\u001b[0m             \u001b[0;31m# multimetric is determined here because in the case of a callable\u001b[0m\u001b[0;34m\u001b[0m\u001b[0;34m\u001b[0m\u001b[0m\n",
      "\u001b[0;32m/shared-libs/python3.9/py/lib/python3.9/site-packages/sklearn/model_selection/_search.py\u001b[0m in \u001b[0;36m_run_search\u001b[0;34m(self, evaluate_candidates)\u001b[0m\n\u001b[1;32m   1764\u001b[0m     \u001b[0;32mdef\u001b[0m \u001b[0m_run_search\u001b[0m\u001b[0;34m(\u001b[0m\u001b[0mself\u001b[0m\u001b[0;34m,\u001b[0m \u001b[0mevaluate_candidates\u001b[0m\u001b[0;34m)\u001b[0m\u001b[0;34m:\u001b[0m\u001b[0;34m\u001b[0m\u001b[0;34m\u001b[0m\u001b[0m\n\u001b[1;32m   1765\u001b[0m         \u001b[0;34m\"\"\"Search n_iter candidates from param_distributions\"\"\"\u001b[0m\u001b[0;34m\u001b[0m\u001b[0;34m\u001b[0m\u001b[0m\n\u001b[0;32m-> 1766\u001b[0;31m         evaluate_candidates(\n\u001b[0m\u001b[1;32m   1767\u001b[0m             ParameterSampler(\n\u001b[1;32m   1768\u001b[0m                 \u001b[0mself\u001b[0m\u001b[0;34m.\u001b[0m\u001b[0mparam_distributions\u001b[0m\u001b[0;34m,\u001b[0m \u001b[0mself\u001b[0m\u001b[0;34m.\u001b[0m\u001b[0mn_iter\u001b[0m\u001b[0;34m,\u001b[0m \u001b[0mrandom_state\u001b[0m\u001b[0;34m=\u001b[0m\u001b[0mself\u001b[0m\u001b[0;34m.\u001b[0m\u001b[0mrandom_state\u001b[0m\u001b[0;34m\u001b[0m\u001b[0;34m\u001b[0m\u001b[0m\n",
      "\u001b[0;32m/shared-libs/python3.9/py/lib/python3.9/site-packages/sklearn/model_selection/_search.py\u001b[0m in \u001b[0;36mevaluate_candidates\u001b[0;34m(candidate_params, cv, more_results)\u001b[0m\n\u001b[1;32m    836\u001b[0m                     )\n\u001b[1;32m    837\u001b[0m \u001b[0;34m\u001b[0m\u001b[0m\n\u001b[0;32m--> 838\u001b[0;31m                 out = parallel(\n\u001b[0m\u001b[1;32m    839\u001b[0m                     delayed(_fit_and_score)(\n\u001b[1;32m    840\u001b[0m                         \u001b[0mclone\u001b[0m\u001b[0;34m(\u001b[0m\u001b[0mbase_estimator\u001b[0m\u001b[0;34m)\u001b[0m\u001b[0;34m,\u001b[0m\u001b[0;34m\u001b[0m\u001b[0;34m\u001b[0m\u001b[0m\n",
      "\u001b[0;32m/shared-libs/python3.9/py/lib/python3.9/site-packages/joblib/parallel.py\u001b[0m in \u001b[0;36m__call__\u001b[0;34m(self, iterable)\u001b[0m\n\u001b[1;32m   1054\u001b[0m \u001b[0;34m\u001b[0m\u001b[0m\n\u001b[1;32m   1055\u001b[0m             \u001b[0;32mwith\u001b[0m \u001b[0mself\u001b[0m\u001b[0;34m.\u001b[0m\u001b[0m_backend\u001b[0m\u001b[0;34m.\u001b[0m\u001b[0mretrieval_context\u001b[0m\u001b[0;34m(\u001b[0m\u001b[0;34m)\u001b[0m\u001b[0;34m:\u001b[0m\u001b[0;34m\u001b[0m\u001b[0;34m\u001b[0m\u001b[0m\n\u001b[0;32m-> 1056\u001b[0;31m                 \u001b[0mself\u001b[0m\u001b[0;34m.\u001b[0m\u001b[0mretrieve\u001b[0m\u001b[0;34m(\u001b[0m\u001b[0;34m)\u001b[0m\u001b[0;34m\u001b[0m\u001b[0;34m\u001b[0m\u001b[0m\n\u001b[0m\u001b[1;32m   1057\u001b[0m             \u001b[0;31m# Make sure that we get a last message telling us we are done\u001b[0m\u001b[0;34m\u001b[0m\u001b[0;34m\u001b[0m\u001b[0m\n\u001b[1;32m   1058\u001b[0m             \u001b[0melapsed_time\u001b[0m \u001b[0;34m=\u001b[0m \u001b[0mtime\u001b[0m\u001b[0;34m.\u001b[0m\u001b[0mtime\u001b[0m\u001b[0;34m(\u001b[0m\u001b[0;34m)\u001b[0m \u001b[0;34m-\u001b[0m \u001b[0mself\u001b[0m\u001b[0;34m.\u001b[0m\u001b[0m_start_time\u001b[0m\u001b[0;34m\u001b[0m\u001b[0;34m\u001b[0m\u001b[0m\n",
      "\u001b[0;32m/shared-libs/python3.9/py/lib/python3.9/site-packages/joblib/parallel.py\u001b[0m in \u001b[0;36mretrieve\u001b[0;34m(self)\u001b[0m\n\u001b[1;32m    933\u001b[0m             \u001b[0;32mtry\u001b[0m\u001b[0;34m:\u001b[0m\u001b[0;34m\u001b[0m\u001b[0;34m\u001b[0m\u001b[0m\n\u001b[1;32m    934\u001b[0m                 \u001b[0;32mif\u001b[0m \u001b[0mgetattr\u001b[0m\u001b[0;34m(\u001b[0m\u001b[0mself\u001b[0m\u001b[0;34m.\u001b[0m\u001b[0m_backend\u001b[0m\u001b[0;34m,\u001b[0m \u001b[0;34m'supports_timeout'\u001b[0m\u001b[0;34m,\u001b[0m \u001b[0;32mFalse\u001b[0m\u001b[0;34m)\u001b[0m\u001b[0;34m:\u001b[0m\u001b[0;34m\u001b[0m\u001b[0;34m\u001b[0m\u001b[0m\n\u001b[0;32m--> 935\u001b[0;31m                     \u001b[0mself\u001b[0m\u001b[0;34m.\u001b[0m\u001b[0m_output\u001b[0m\u001b[0;34m.\u001b[0m\u001b[0mextend\u001b[0m\u001b[0;34m(\u001b[0m\u001b[0mjob\u001b[0m\u001b[0;34m.\u001b[0m\u001b[0mget\u001b[0m\u001b[0;34m(\u001b[0m\u001b[0mtimeout\u001b[0m\u001b[0;34m=\u001b[0m\u001b[0mself\u001b[0m\u001b[0;34m.\u001b[0m\u001b[0mtimeout\u001b[0m\u001b[0;34m)\u001b[0m\u001b[0;34m)\u001b[0m\u001b[0;34m\u001b[0m\u001b[0;34m\u001b[0m\u001b[0m\n\u001b[0m\u001b[1;32m    936\u001b[0m                 \u001b[0;32melse\u001b[0m\u001b[0;34m:\u001b[0m\u001b[0;34m\u001b[0m\u001b[0;34m\u001b[0m\u001b[0m\n\u001b[1;32m    937\u001b[0m                     \u001b[0mself\u001b[0m\u001b[0;34m.\u001b[0m\u001b[0m_output\u001b[0m\u001b[0;34m.\u001b[0m\u001b[0mextend\u001b[0m\u001b[0;34m(\u001b[0m\u001b[0mjob\u001b[0m\u001b[0;34m.\u001b[0m\u001b[0mget\u001b[0m\u001b[0;34m(\u001b[0m\u001b[0;34m)\u001b[0m\u001b[0;34m)\u001b[0m\u001b[0;34m\u001b[0m\u001b[0;34m\u001b[0m\u001b[0m\n",
      "\u001b[0;32m/shared-libs/python3.9/py/lib/python3.9/site-packages/joblib/_parallel_backends.py\u001b[0m in \u001b[0;36mwrap_future_result\u001b[0;34m(future, timeout)\u001b[0m\n\u001b[1;32m    540\u001b[0m         AsyncResults.get from multiprocessing.\"\"\"\n\u001b[1;32m    541\u001b[0m         \u001b[0;32mtry\u001b[0m\u001b[0;34m:\u001b[0m\u001b[0;34m\u001b[0m\u001b[0;34m\u001b[0m\u001b[0m\n\u001b[0;32m--> 542\u001b[0;31m             \u001b[0;32mreturn\u001b[0m \u001b[0mfuture\u001b[0m\u001b[0;34m.\u001b[0m\u001b[0mresult\u001b[0m\u001b[0;34m(\u001b[0m\u001b[0mtimeout\u001b[0m\u001b[0;34m=\u001b[0m\u001b[0mtimeout\u001b[0m\u001b[0;34m)\u001b[0m\u001b[0;34m\u001b[0m\u001b[0;34m\u001b[0m\u001b[0m\n\u001b[0m\u001b[1;32m    543\u001b[0m         \u001b[0;32mexcept\u001b[0m \u001b[0mCfTimeoutError\u001b[0m \u001b[0;32mas\u001b[0m \u001b[0me\u001b[0m\u001b[0;34m:\u001b[0m\u001b[0;34m\u001b[0m\u001b[0;34m\u001b[0m\u001b[0m\n\u001b[1;32m    544\u001b[0m             \u001b[0;32mraise\u001b[0m \u001b[0mTimeoutError\u001b[0m \u001b[0;32mfrom\u001b[0m \u001b[0me\u001b[0m\u001b[0;34m\u001b[0m\u001b[0;34m\u001b[0m\u001b[0m\n",
      "\u001b[0;32m/usr/local/lib/python3.9/concurrent/futures/_base.py\u001b[0m in \u001b[0;36mresult\u001b[0;34m(self, timeout)\u001b[0m\n\u001b[1;32m    438\u001b[0m                     \u001b[0;32mreturn\u001b[0m \u001b[0mself\u001b[0m\u001b[0;34m.\u001b[0m\u001b[0m__get_result\u001b[0m\u001b[0;34m(\u001b[0m\u001b[0;34m)\u001b[0m\u001b[0;34m\u001b[0m\u001b[0;34m\u001b[0m\u001b[0m\n\u001b[1;32m    439\u001b[0m \u001b[0;34m\u001b[0m\u001b[0m\n\u001b[0;32m--> 440\u001b[0;31m                 \u001b[0mself\u001b[0m\u001b[0;34m.\u001b[0m\u001b[0m_condition\u001b[0m\u001b[0;34m.\u001b[0m\u001b[0mwait\u001b[0m\u001b[0;34m(\u001b[0m\u001b[0mtimeout\u001b[0m\u001b[0;34m)\u001b[0m\u001b[0;34m\u001b[0m\u001b[0;34m\u001b[0m\u001b[0m\n\u001b[0m\u001b[1;32m    441\u001b[0m \u001b[0;34m\u001b[0m\u001b[0m\n\u001b[1;32m    442\u001b[0m                 \u001b[0;32mif\u001b[0m \u001b[0mself\u001b[0m\u001b[0;34m.\u001b[0m\u001b[0m_state\u001b[0m \u001b[0;32min\u001b[0m \u001b[0;34m[\u001b[0m\u001b[0mCANCELLED\u001b[0m\u001b[0;34m,\u001b[0m \u001b[0mCANCELLED_AND_NOTIFIED\u001b[0m\u001b[0;34m]\u001b[0m\u001b[0;34m:\u001b[0m\u001b[0;34m\u001b[0m\u001b[0;34m\u001b[0m\u001b[0m\n",
      "\u001b[0;32m/usr/local/lib/python3.9/threading.py\u001b[0m in \u001b[0;36mwait\u001b[0;34m(self, timeout)\u001b[0m\n\u001b[1;32m    310\u001b[0m         \u001b[0;32mtry\u001b[0m\u001b[0;34m:\u001b[0m    \u001b[0;31m# restore state no matter what (e.g., KeyboardInterrupt)\u001b[0m\u001b[0;34m\u001b[0m\u001b[0;34m\u001b[0m\u001b[0m\n\u001b[1;32m    311\u001b[0m             \u001b[0;32mif\u001b[0m \u001b[0mtimeout\u001b[0m \u001b[0;32mis\u001b[0m \u001b[0;32mNone\u001b[0m\u001b[0;34m:\u001b[0m\u001b[0;34m\u001b[0m\u001b[0;34m\u001b[0m\u001b[0m\n\u001b[0;32m--> 312\u001b[0;31m                 \u001b[0mwaiter\u001b[0m\u001b[0;34m.\u001b[0m\u001b[0macquire\u001b[0m\u001b[0;34m(\u001b[0m\u001b[0;34m)\u001b[0m\u001b[0;34m\u001b[0m\u001b[0;34m\u001b[0m\u001b[0m\n\u001b[0m\u001b[1;32m    313\u001b[0m                 \u001b[0mgotit\u001b[0m \u001b[0;34m=\u001b[0m \u001b[0;32mTrue\u001b[0m\u001b[0;34m\u001b[0m\u001b[0;34m\u001b[0m\u001b[0m\n\u001b[1;32m    314\u001b[0m             \u001b[0;32melse\u001b[0m\u001b[0;34m:\u001b[0m\u001b[0;34m\u001b[0m\u001b[0;34m\u001b[0m\u001b[0m\n",
      "\u001b[0;31mKeyboardInterrupt\u001b[0m: "
     ]
    }
   ]
  },
  {
   "cell_type": "code",
   "metadata": {
    "tags": [],
    "cell_id": "00016-c2e80258-2bcf-4a93-9ae8-7fbc09e6dd47",
    "deepnote_cell_type": "code"
   },
   "source": "random_cv.best_estimator_",
   "execution_count": null,
   "outputs": []
  },
  {
   "cell_type": "code",
   "metadata": {
    "tags": [],
    "deepnote_to_be_reexecuted": false,
    "source_hash": "65a2176b",
    "execution_start": 1637257430021,
    "execution_millis": 245594,
    "deepnote_output_heights": [
     null,
     null,
     21
    ],
    "cell_id": "00009-072b1625-8093-4a9f-8f06-85dcac452d63",
    "deepnote_cell_type": "code"
   },
   "source": "from catboost import CatBoostRegressor\n#random_state=1, iterations=1500, depth=8, learning_rate=.1, loss_function='RMSE'\nmodel = CatBoostRegressor(random_state=1, iterations=2000, depth=8, learning_rate=0.1, loss_function='RMSE')\nmodel.fit(X_train, y_train,cat_features=categorical_features_indices,eval_set=(X_val, y_val),plot=True)",
   "execution_count": null,
   "outputs": [
    {
     "data": {
      "text/plain": "MetricVisualizer(layout=Layout(align_self='stretch', height='500px'))",
      "application/vnd.jupyter.widget-view+json": {
       "version_major": 2,
       "version_minor": 0,
       "model_id": "beaec295e5da4182bdefbc6223d9bf78"
      }
     },
     "metadata": {},
     "output_type": "display_data"
    },
    {
     "name": "stdout",
     "text": "1005:\tlearn: 30295.9519351\ttest: 76687.5510987\tbest: 76684.2197308 (1004)\ttotal: 1m 58s\tremaining: 1m 57s\n1006:\tlearn: 30276.1178974\ttest: 76692.1975483\tbest: 76684.2197308 (1004)\ttotal: 1m 58s\tremaining: 1m 57s\n1007:\tlearn: 30259.1642865\ttest: 76683.9189217\tbest: 76683.9189217 (1007)\ttotal: 1m 59s\tremaining: 1m 57s\n1008:\tlearn: 30233.6062014\ttest: 76695.1371029\tbest: 76683.9189217 (1007)\ttotal: 1m 59s\tremaining: 1m 56s\n1009:\tlearn: 30208.6705671\ttest: 76681.5376482\tbest: 76681.5376482 (1009)\ttotal: 1m 59s\tremaining: 1m 56s\n1010:\tlearn: 30176.1030959\ttest: 76658.6878426\tbest: 76658.6878426 (1010)\ttotal: 1m 59s\tremaining: 1m 56s\n1011:\tlearn: 30172.1609082\ttest: 76659.4053793\tbest: 76658.6878426 (1010)\ttotal: 1m 59s\tremaining: 1m 56s\n1012:\tlearn: 30171.5483933\ttest: 76659.3389909\tbest: 76658.6878426 (1010)\ttotal: 1m 59s\tremaining: 1m 56s\n1013:\tlearn: 30154.0925239\ttest: 76654.1698254\tbest: 76654.1698254 (1013)\ttotal: 1m 59s\tremaining: 1m 56s\n1014:\tlearn: 30132.8990937\ttest: 76649.2030003\tbest: 76649.2030003 (1014)\ttotal: 1m 59s\tremaining: 1m 56s\n1015:\tlearn: 30127.0344890\ttest: 76646.9541639\tbest: 76646.9541639 (1015)\ttotal: 1m 59s\tremaining: 1m 56s\n1016:\tlearn: 30112.6511355\ttest: 76647.9193103\tbest: 76646.9541639 (1015)\ttotal: 2m\tremaining: 1m 56s\n1017:\tlearn: 30091.3494231\ttest: 76664.6930128\tbest: 76646.9541639 (1015)\ttotal: 2m\tremaining: 1m 55s\n1018:\tlearn: 30069.7639320\ttest: 76646.6251495\tbest: 76646.6251495 (1018)\ttotal: 2m\tremaining: 1m 55s\n1019:\tlearn: 30043.1310799\ttest: 76653.5432417\tbest: 76646.6251495 (1018)\ttotal: 2m\tremaining: 1m 55s\n1020:\tlearn: 30038.9482448\ttest: 76648.5664697\tbest: 76646.6251495 (1018)\ttotal: 2m\tremaining: 1m 55s\n1021:\tlearn: 30023.7788497\ttest: 76648.3410850\tbest: 76646.6251495 (1018)\ttotal: 2m\tremaining: 1m 55s\n1022:\tlearn: 30021.2507360\ttest: 76647.7575741\tbest: 76646.6251495 (1018)\ttotal: 2m\tremaining: 1m 55s\n1023:\tlearn: 30014.9112872\ttest: 76643.3201435\tbest: 76643.3201435 (1023)\ttotal: 2m\tremaining: 1m 55s\n1024:\tlearn: 30002.1416835\ttest: 76646.5132523\tbest: 76643.3201435 (1023)\ttotal: 2m\tremaining: 1m 54s\n1025:\tlearn: 29986.4021099\ttest: 76656.5291830\tbest: 76643.3201435 (1023)\ttotal: 2m\tremaining: 1m 54s\n1026:\tlearn: 29964.5880579\ttest: 76649.9400092\tbest: 76643.3201435 (1023)\ttotal: 2m 1s\tremaining: 1m 54s\n1027:\tlearn: 29944.1497178\ttest: 76650.3294973\tbest: 76643.3201435 (1023)\ttotal: 2m 1s\tremaining: 1m 54s\n1028:\tlearn: 29927.2917847\ttest: 76618.0168202\tbest: 76618.0168202 (1028)\ttotal: 2m 1s\tremaining: 1m 54s\n1029:\tlearn: 29925.5734956\ttest: 76617.6889399\tbest: 76617.6889399 (1029)\ttotal: 2m 1s\tremaining: 1m 54s\n1030:\tlearn: 29920.1240734\ttest: 76622.7877463\tbest: 76617.6889399 (1029)\ttotal: 2m 1s\tremaining: 1m 54s\n1031:\tlearn: 29895.7080975\ttest: 76615.4561759\tbest: 76615.4561759 (1031)\ttotal: 2m 1s\tremaining: 1m 54s\n1032:\tlearn: 29880.7834759\ttest: 76624.4064379\tbest: 76615.4561759 (1031)\ttotal: 2m 1s\tremaining: 1m 54s\n1033:\tlearn: 29860.0158355\ttest: 76622.3158463\tbest: 76615.4561759 (1031)\ttotal: 2m 1s\tremaining: 1m 53s\n1034:\tlearn: 29857.9204071\ttest: 76621.7050798\tbest: 76615.4561759 (1031)\ttotal: 2m 2s\tremaining: 1m 53s\n1035:\tlearn: 29823.8145305\ttest: 76608.0921094\tbest: 76608.0921094 (1035)\ttotal: 2m 2s\tremaining: 1m 53s\n1036:\tlearn: 29815.7279299\ttest: 76607.0423910\tbest: 76607.0423910 (1036)\ttotal: 2m 2s\tremaining: 1m 53s\n1037:\tlearn: 29799.7785596\ttest: 76591.5104207\tbest: 76591.5104207 (1037)\ttotal: 2m 2s\tremaining: 1m 53s\n1038:\tlearn: 29774.1944821\ttest: 76591.2926986\tbest: 76591.2926986 (1038)\ttotal: 2m 2s\tremaining: 1m 53s\n1039:\tlearn: 29746.8113977\ttest: 76584.5169122\tbest: 76584.5169122 (1039)\ttotal: 2m 2s\tremaining: 1m 53s\n1040:\tlearn: 29724.6903698\ttest: 76578.2426199\tbest: 76578.2426199 (1040)\ttotal: 2m 2s\tremaining: 1m 53s\n1041:\tlearn: 29716.7421752\ttest: 76569.0490747\tbest: 76569.0490747 (1041)\ttotal: 2m 2s\tremaining: 1m 52s\n1042:\tlearn: 29690.5363507\ttest: 76554.5451599\tbest: 76554.5451599 (1042)\ttotal: 2m 2s\tremaining: 1m 52s\n1043:\tlearn: 29684.0777904\ttest: 76557.3629890\tbest: 76554.5451599 (1042)\ttotal: 2m 3s\tremaining: 1m 52s\n1044:\tlearn: 29674.1205897\ttest: 76551.6256279\tbest: 76551.6256279 (1044)\ttotal: 2m 3s\tremaining: 1m 52s\n1045:\tlearn: 29659.6777665\ttest: 76549.5499182\tbest: 76549.5499182 (1045)\ttotal: 2m 3s\tremaining: 1m 52s\n1046:\tlearn: 29643.6161212\ttest: 76541.8457026\tbest: 76541.8457026 (1046)\ttotal: 2m 3s\tremaining: 1m 52s\n1047:\tlearn: 29631.6203358\ttest: 76537.8360576\tbest: 76537.8360576 (1047)\ttotal: 2m 3s\tremaining: 1m 52s\n1048:\tlearn: 29610.3460268\ttest: 76536.5679400\tbest: 76536.5679400 (1048)\ttotal: 2m 3s\tremaining: 1m 52s\n1049:\tlearn: 29590.8689615\ttest: 76530.1010452\tbest: 76530.1010452 (1049)\ttotal: 2m 3s\tremaining: 1m 52s\n1050:\tlearn: 29574.5363936\ttest: 76522.7711960\tbest: 76522.7711960 (1050)\ttotal: 2m 3s\tremaining: 1m 51s\n1051:\tlearn: 29562.9094630\ttest: 76514.0915149\tbest: 76514.0915149 (1051)\ttotal: 2m 4s\tremaining: 1m 51s\n1052:\tlearn: 29528.7477553\ttest: 76506.4612029\tbest: 76506.4612029 (1052)\ttotal: 2m 4s\tremaining: 1m 51s\n1053:\tlearn: 29516.3774213\ttest: 76496.5975711\tbest: 76496.5975711 (1053)\ttotal: 2m 4s\tremaining: 1m 51s\n1054:\tlearn: 29515.1159795\ttest: 76496.9852263\tbest: 76496.5975711 (1053)\ttotal: 2m 4s\tremaining: 1m 51s\n1055:\tlearn: 29500.1206959\ttest: 76497.5422397\tbest: 76496.5975711 (1053)\ttotal: 2m 4s\tremaining: 1m 51s\n1056:\tlearn: 29485.0700708\ttest: 76496.0667962\tbest: 76496.0667962 (1056)\ttotal: 2m 4s\tremaining: 1m 51s\n1057:\tlearn: 29471.3782610\ttest: 76465.0842334\tbest: 76465.0842334 (1057)\ttotal: 2m 4s\tremaining: 1m 51s\n1058:\tlearn: 29453.6248249\ttest: 76464.6743892\tbest: 76464.6743892 (1058)\ttotal: 2m 4s\tremaining: 1m 51s\n1059:\tlearn: 29441.0867476\ttest: 76451.7514056\tbest: 76451.7514056 (1059)\ttotal: 2m 5s\tremaining: 1m 50s\n1060:\tlearn: 29426.2135719\ttest: 76453.8693762\tbest: 76451.7514056 (1059)\ttotal: 2m 5s\tremaining: 1m 50s\n1061:\tlearn: 29394.1003779\ttest: 76462.8275495\tbest: 76451.7514056 (1059)\ttotal: 2m 5s\tremaining: 1m 50s\n1062:\tlearn: 29377.5302289\ttest: 76468.3596301\tbest: 76451.7514056 (1059)\ttotal: 2m 5s\tremaining: 1m 50s\n1063:\tlearn: 29371.6169130\ttest: 76468.4172744\tbest: 76451.7514056 (1059)\ttotal: 2m 5s\tremaining: 1m 50s\n1064:\tlearn: 29342.6877217\ttest: 76463.8075477\tbest: 76451.7514056 (1059)\ttotal: 2m 5s\tremaining: 1m 50s\n1065:\tlearn: 29320.5711337\ttest: 76475.5817153\tbest: 76451.7514056 (1059)\ttotal: 2m 5s\tremaining: 1m 50s\n1066:\tlearn: 29297.2197408\ttest: 76474.4459228\tbest: 76451.7514056 (1059)\ttotal: 2m 5s\tremaining: 1m 50s\n1067:\tlearn: 29275.6575899\ttest: 76459.0762650\tbest: 76451.7514056 (1059)\ttotal: 2m 6s\tremaining: 1m 49s\n1068:\tlearn: 29264.4004448\ttest: 76443.0211669\tbest: 76443.0211669 (1068)\ttotal: 2m 6s\tremaining: 1m 49s\n1069:\tlearn: 29259.2767691\ttest: 76445.1645331\tbest: 76443.0211669 (1068)\ttotal: 2m 6s\tremaining: 1m 49s\n1070:\tlearn: 29251.1535583\ttest: 76441.2447714\tbest: 76441.2447714 (1070)\ttotal: 2m 6s\tremaining: 1m 49s\n1071:\tlearn: 29227.0681267\ttest: 76441.5914367\tbest: 76441.2447714 (1070)\ttotal: 2m 6s\tremaining: 1m 49s\n1072:\tlearn: 29204.4701491\ttest: 76444.8239744\tbest: 76441.2447714 (1070)\ttotal: 2m 6s\tremaining: 1m 49s\n1073:\tlearn: 29196.7273402\ttest: 76441.6593734\tbest: 76441.2447714 (1070)\ttotal: 2m 6s\tremaining: 1m 49s\n1074:\tlearn: 29179.7456420\ttest: 76443.7034589\tbest: 76441.2447714 (1070)\ttotal: 2m 6s\tremaining: 1m 49s\n1075:\tlearn: 29154.3391679\ttest: 76446.0422154\tbest: 76441.2447714 (1070)\ttotal: 2m 6s\tremaining: 1m 49s\n1076:\tlearn: 29127.2460325\ttest: 76446.6645653\tbest: 76441.2447714 (1070)\ttotal: 2m 7s\tremaining: 1m 48s\n1077:\tlearn: 29123.6152574\ttest: 76448.7505735\tbest: 76441.2447714 (1070)\ttotal: 2m 7s\tremaining: 1m 48s\n1078:\tlearn: 29108.9647758\ttest: 76448.6401706\tbest: 76441.2447714 (1070)\ttotal: 2m 7s\tremaining: 1m 48s\n1079:\tlearn: 29093.0544714\ttest: 76440.1656541\tbest: 76440.1656541 (1079)\ttotal: 2m 7s\tremaining: 1m 48s\n1080:\tlearn: 29076.0779899\ttest: 76440.3853673\tbest: 76440.1656541 (1079)\ttotal: 2m 7s\tremaining: 1m 48s\n1081:\tlearn: 29058.8018162\ttest: 76443.3496832\tbest: 76440.1656541 (1079)\ttotal: 2m 7s\tremaining: 1m 48s\n1082:\tlearn: 29044.2751069\ttest: 76408.2017215\tbest: 76408.2017215 (1082)\ttotal: 2m 7s\tremaining: 1m 48s\n1083:\tlearn: 29037.9598957\ttest: 76399.0884864\tbest: 76399.0884864 (1083)\ttotal: 2m 7s\tremaining: 1m 48s\n1084:\tlearn: 29015.3703533\ttest: 76387.2495705\tbest: 76387.2495705 (1084)\ttotal: 2m 7s\tremaining: 1m 47s\n1085:\tlearn: 29004.0583720\ttest: 76381.7669803\tbest: 76381.7669803 (1085)\ttotal: 2m 8s\tremaining: 1m 47s\n1086:\tlearn: 28968.4557493\ttest: 76383.6788067\tbest: 76381.7669803 (1085)\ttotal: 2m 8s\tremaining: 1m 47s\n1087:\tlearn: 28953.5244083\ttest: 76374.5317025\tbest: 76374.5317025 (1087)\ttotal: 2m 8s\tremaining: 1m 47s\n1088:\tlearn: 28932.1327922\ttest: 76363.3588988\tbest: 76363.3588988 (1088)\ttotal: 2m 8s\tremaining: 1m 47s\n1089:\tlearn: 28907.1427234\ttest: 76367.1155256\tbest: 76363.3588988 (1088)\ttotal: 2m 8s\tremaining: 1m 47s\n1090:\tlearn: 28883.5541950\ttest: 76371.3217590\tbest: 76363.3588988 (1088)\ttotal: 2m 8s\tremaining: 1m 47s\n1091:\tlearn: 28878.5282663\ttest: 76368.6307232\tbest: 76363.3588988 (1088)\ttotal: 2m 8s\tremaining: 1m 47s\n1092:\tlearn: 28862.7078273\ttest: 76369.9997077\tbest: 76363.3588988 (1088)\ttotal: 2m 8s\tremaining: 1m 47s\n1093:\tlearn: 28854.2196191\ttest: 76367.6025423\tbest: 76363.3588988 (1088)\ttotal: 2m 9s\tremaining: 1m 46s\n1094:\tlearn: 28838.4272820\ttest: 76360.1670837\tbest: 76360.1670837 (1094)\ttotal: 2m 9s\tremaining: 1m 46s\n1095:\tlearn: 28821.8936929\ttest: 76347.2569735\tbest: 76347.2569735 (1095)\ttotal: 2m 9s\tremaining: 1m 46s\n1096:\tlearn: 28802.7881948\ttest: 76339.8171244\tbest: 76339.8171244 (1096)\ttotal: 2m 9s\tremaining: 1m 46s\n1097:\tlearn: 28737.2687976\ttest: 76351.1066952\tbest: 76339.8171244 (1096)\ttotal: 2m 9s\tremaining: 1m 46s\n1098:\tlearn: 28725.9605740\ttest: 76352.4246232\tbest: 76339.8171244 (1096)\ttotal: 2m 9s\tremaining: 1m 46s\n1099:\tlearn: 28719.5924794\ttest: 76352.4183727\tbest: 76339.8171244 (1096)\ttotal: 2m 9s\tremaining: 1m 46s\n1100:\tlearn: 28717.5787519\ttest: 76351.4899299\tbest: 76339.8171244 (1096)\ttotal: 2m 9s\tremaining: 1m 45s\n1101:\tlearn: 28703.9013403\ttest: 76351.8597308\tbest: 76339.8171244 (1096)\ttotal: 2m 9s\tremaining: 1m 45s\n1102:\tlearn: 28688.1424257\ttest: 76337.4476596\tbest: 76337.4476596 (1102)\ttotal: 2m 10s\tremaining: 1m 45s\n1103:\tlearn: 28668.5113327\ttest: 76336.2734491\tbest: 76336.2734491 (1103)\ttotal: 2m 10s\tremaining: 1m 45s\n1104:\tlearn: 28662.0477703\ttest: 76335.6968761\tbest: 76335.6968761 (1104)\ttotal: 2m 10s\tremaining: 1m 45s\n1105:\tlearn: 28645.3901214\ttest: 76324.6567765\tbest: 76324.6567765 (1105)\ttotal: 2m 10s\tremaining: 1m 45s\n1106:\tlearn: 28633.6920125\ttest: 76323.2004431\tbest: 76323.2004431 (1106)\ttotal: 2m 10s\tremaining: 1m 45s\n1107:\tlearn: 28622.3890955\ttest: 76322.1715811\tbest: 76322.1715811 (1107)\ttotal: 2m 10s\tremaining: 1m 45s\n1108:\tlearn: 28598.9984850\ttest: 76317.9533889\tbest: 76317.9533889 (1108)\ttotal: 2m 10s\tremaining: 1m 44s\n1109:\tlearn: 28592.5953931\ttest: 76321.2266022\tbest: 76317.9533889 (1108)\ttotal: 2m 10s\tremaining: 1m 44s\n1110:\tlearn: 28582.9513757\ttest: 76328.3007019\tbest: 76317.9533889 (1108)\ttotal: 2m 10s\tremaining: 1m 44s\n1111:\tlearn: 28581.4494107\ttest: 76327.7918912\tbest: 76317.9533889 (1108)\ttotal: 2m 10s\tremaining: 1m 44s\n1112:\tlearn: 28565.2515405\ttest: 76325.0231227\tbest: 76317.9533889 (1108)\ttotal: 2m 11s\tremaining: 1m 44s\n1113:\tlearn: 28555.4283710\ttest: 76328.1797744\tbest: 76317.9533889 (1108)\ttotal: 2m 11s\tremaining: 1m 44s\n1114:\tlearn: 28540.7341403\ttest: 76325.9174386\tbest: 76317.9533889 (1108)\ttotal: 2m 11s\tremaining: 1m 44s\n1115:\tlearn: 28497.1266775\ttest: 76317.6933132\tbest: 76317.6933132 (1115)\ttotal: 2m 11s\tremaining: 1m 44s\n1116:\tlearn: 28491.5193443\ttest: 76322.1935281\tbest: 76317.6933132 (1115)\ttotal: 2m 11s\tremaining: 1m 43s\n1117:\tlearn: 28484.9937614\ttest: 76311.5098758\tbest: 76311.5098758 (1117)\ttotal: 2m 11s\tremaining: 1m 43s\n1118:\tlearn: 28480.5651037\ttest: 76311.4097107\tbest: 76311.4097107 (1118)\ttotal: 2m 11s\tremaining: 1m 43s\n1119:\tlearn: 28459.1735712\ttest: 76306.1142841\tbest: 76306.1142841 (1119)\ttotal: 2m 11s\tremaining: 1m 43s\n1120:\tlearn: 28443.4755353\ttest: 76300.9611970\tbest: 76300.9611970 (1120)\ttotal: 2m 11s\tremaining: 1m 43s\n1121:\tlearn: 28430.4617010\ttest: 76304.7177643\tbest: 76300.9611970 (1120)\ttotal: 2m 12s\tremaining: 1m 43s\n1122:\tlearn: 28413.8340503\ttest: 76302.5085940\tbest: 76300.9611970 (1120)\ttotal: 2m 12s\tremaining: 1m 43s\n1123:\tlearn: 28404.1429112\ttest: 76306.1891736\tbest: 76300.9611970 (1120)\ttotal: 2m 12s\tremaining: 1m 43s\n1124:\tlearn: 28403.2669108\ttest: 76305.7687596\tbest: 76300.9611970 (1120)\ttotal: 2m 12s\tremaining: 1m 42s\n1125:\tlearn: 28384.8319013\ttest: 76306.3700438\tbest: 76300.9611970 (1120)\ttotal: 2m 12s\tremaining: 1m 42s\n1126:\tlearn: 28364.2824076\ttest: 76299.2263131\tbest: 76299.2263131 (1126)\ttotal: 2m 12s\tremaining: 1m 42s\n1127:\tlearn: 28355.4286815\ttest: 76295.4887130\tbest: 76295.4887130 (1127)\ttotal: 2m 12s\tremaining: 1m 42s\n1128:\tlearn: 28349.0047847\ttest: 76293.4292069\tbest: 76293.4292069 (1128)\ttotal: 2m 12s\tremaining: 1m 42s\n1129:\tlearn: 28329.1019946\ttest: 76292.6080685\tbest: 76292.6080685 (1129)\ttotal: 2m 12s\tremaining: 1m 42s\n1130:\tlearn: 28317.8921916\ttest: 76292.1825489\tbest: 76292.1825489 (1130)\ttotal: 2m 13s\tremaining: 1m 42s\n1131:\tlearn: 28309.2867085\ttest: 76276.7888972\tbest: 76276.7888972 (1131)\ttotal: 2m 13s\tremaining: 1m 42s\n1132:\tlearn: 28299.6300172\ttest: 76275.0357797\tbest: 76275.0357797 (1132)\ttotal: 2m 13s\tremaining: 1m 42s\n1133:\tlearn: 28287.1166132\ttest: 76275.1119139\tbest: 76275.0357797 (1132)\ttotal: 2m 13s\tremaining: 1m 41s\n1134:\tlearn: 28257.0269864\ttest: 76291.5429105\tbest: 76275.0357797 (1132)\ttotal: 2m 13s\tremaining: 1m 41s\n1135:\tlearn: 28242.9245196\ttest: 76286.1176351\tbest: 76275.0357797 (1132)\ttotal: 2m 13s\tremaining: 1m 41s\n1136:\tlearn: 28239.3981130\ttest: 76281.5486815\tbest: 76275.0357797 (1132)\ttotal: 2m 13s\tremaining: 1m 41s\n1137:\tlearn: 28225.3288568\ttest: 76277.2390651\tbest: 76275.0357797 (1132)\ttotal: 2m 13s\tremaining: 1m 41s\n1138:\tlearn: 28209.8253220\ttest: 76278.1104053\tbest: 76275.0357797 (1132)\ttotal: 2m 13s\tremaining: 1m 41s\n1139:\tlearn: 28192.5009297\ttest: 76283.0342526\tbest: 76275.0357797 (1132)\ttotal: 2m 14s\tremaining: 1m 41s\n1140:\tlearn: 28175.7062401\ttest: 76277.4566296\tbest: 76275.0357797 (1132)\ttotal: 2m 14s\tremaining: 1m 40s\n1141:\tlearn: 28162.0755673\ttest: 76270.5561388\tbest: 76270.5561388 (1141)\ttotal: 2m 14s\tremaining: 1m 40s\n1142:\tlearn: 28148.3135585\ttest: 76262.2480255\tbest: 76262.2480255 (1142)\ttotal: 2m 14s\tremaining: 1m 40s\n1143:\tlearn: 28143.4239686\ttest: 76265.3991866\tbest: 76262.2480255 (1142)\ttotal: 2m 14s\tremaining: 1m 40s\n1144:\tlearn: 28133.6659647\ttest: 76267.7288149\tbest: 76262.2480255 (1142)\ttotal: 2m 14s\tremaining: 1m 40s\n1145:\tlearn: 28123.9375552\ttest: 76263.7594674\tbest: 76262.2480255 (1142)\ttotal: 2m 14s\tremaining: 1m 40s\n1146:\tlearn: 28102.0467857\ttest: 76258.5013559\tbest: 76258.5013559 (1146)\ttotal: 2m 14s\tremaining: 1m 40s\n1147:\tlearn: 28090.9623083\ttest: 76257.5140028\tbest: 76257.5140028 (1147)\ttotal: 2m 14s\tremaining: 1m 40s\n1148:\tlearn: 28083.2392285\ttest: 76257.7562521\tbest: 76257.5140028 (1147)\ttotal: 2m 15s\tremaining: 1m 39s\n1149:\tlearn: 28076.1879033\ttest: 76244.5598792\tbest: 76244.5598792 (1149)\ttotal: 2m 15s\tremaining: 1m 39s\n1150:\tlearn: 28069.6312958\ttest: 76239.7774073\tbest: 76239.7774073 (1150)\ttotal: 2m 15s\tremaining: 1m 39s\n1151:\tlearn: 28061.5890824\ttest: 76236.8065526\tbest: 76236.8065526 (1151)\ttotal: 2m 15s\tremaining: 1m 39s\n1152:\tlearn: 28046.9195553\ttest: 76234.8117393\tbest: 76234.8117393 (1152)\ttotal: 2m 15s\tremaining: 1m 39s\n1153:\tlearn: 28034.2968162\ttest: 76246.3693152\tbest: 76234.8117393 (1152)\ttotal: 2m 15s\tremaining: 1m 39s\n1154:\tlearn: 28018.2765843\ttest: 76254.1508409\tbest: 76234.8117393 (1152)\ttotal: 2m 15s\tremaining: 1m 39s\n1155:\tlearn: 27999.9565253\ttest: 76245.6700479\tbest: 76234.8117393 (1152)\ttotal: 2m 15s\tremaining: 1m 39s\n1156:\tlearn: 27992.3332195\ttest: 76239.1666573\tbest: 76234.8117393 (1152)\ttotal: 2m 15s\tremaining: 1m 39s\n1157:\tlearn: 27972.1195115\ttest: 76242.2292437\tbest: 76234.8117393 (1152)\ttotal: 2m 16s\tremaining: 1m 38s\n1158:\tlearn: 27954.6707444\ttest: 76250.2463866\tbest: 76234.8117393 (1152)\ttotal: 2m 16s\tremaining: 1m 38s\n1159:\tlearn: 27938.4234129\ttest: 76240.9370661\tbest: 76234.8117393 (1152)\ttotal: 2m 16s\tremaining: 1m 38s\n1160:\tlearn: 27928.0998721\ttest: 76239.6951529\tbest: 76234.8117393 (1152)\ttotal: 2m 16s\tremaining: 1m 38s\n1161:\tlearn: 27909.7536004\ttest: 76246.4240561\tbest: 76234.8117393 (1152)\ttotal: 2m 16s\tremaining: 1m 38s\n1162:\tlearn: 27903.2671568\ttest: 76260.8456631\tbest: 76234.8117393 (1152)\ttotal: 2m 16s\tremaining: 1m 38s\n1163:\tlearn: 27895.8656260\ttest: 76258.9046489\tbest: 76234.8117393 (1152)\ttotal: 2m 16s\tremaining: 1m 38s\n1164:\tlearn: 27856.7365620\ttest: 76257.1560045\tbest: 76234.8117393 (1152)\ttotal: 2m 16s\tremaining: 1m 38s\n1165:\tlearn: 27848.3632538\ttest: 76255.2807543\tbest: 76234.8117393 (1152)\ttotal: 2m 17s\tremaining: 1m 38s\n1166:\tlearn: 27830.0879956\ttest: 76257.7838471\tbest: 76234.8117393 (1152)\ttotal: 2m 17s\tremaining: 1m 37s\n1167:\tlearn: 27810.1370441\ttest: 76254.3840179\tbest: 76234.8117393 (1152)\ttotal: 2m 17s\tremaining: 1m 37s\n1168:\tlearn: 27786.4355156\ttest: 76246.0515199\tbest: 76234.8117393 (1152)\ttotal: 2m 17s\tremaining: 1m 37s\n1169:\tlearn: 27777.5832346\ttest: 76246.3028889\tbest: 76234.8117393 (1152)\ttotal: 2m 17s\tremaining: 1m 37s\n1170:\tlearn: 27769.9962044\ttest: 76245.0681747\tbest: 76234.8117393 (1152)\ttotal: 2m 17s\tremaining: 1m 37s\n1171:\tlearn: 27756.6348378\ttest: 76246.7388802\tbest: 76234.8117393 (1152)\ttotal: 2m 17s\tremaining: 1m 37s\n1172:\tlearn: 27744.8311426\ttest: 76250.8246794\tbest: 76234.8117393 (1152)\ttotal: 2m 17s\tremaining: 1m 37s\n1173:\tlearn: 27733.2723445\ttest: 76249.5500750\tbest: 76234.8117393 (1152)\ttotal: 2m 17s\tremaining: 1m 37s\n1174:\tlearn: 27715.9710149\ttest: 76239.4526244\tbest: 76234.8117393 (1152)\ttotal: 2m 18s\tremaining: 1m 36s\n1175:\tlearn: 27704.0318196\ttest: 76238.2960194\tbest: 76234.8117393 (1152)\ttotal: 2m 18s\tremaining: 1m 36s\n1176:\tlearn: 27691.3118918\ttest: 76227.5735627\tbest: 76227.5735627 (1176)\ttotal: 2m 18s\tremaining: 1m 36s\n1177:\tlearn: 27671.9969754\ttest: 76219.4985661\tbest: 76219.4985661 (1177)\ttotal: 2m 18s\tremaining: 1m 36s\n1178:\tlearn: 27658.3595313\ttest: 76210.9161510\tbest: 76210.9161510 (1178)\ttotal: 2m 18s\tremaining: 1m 36s\n1179:\tlearn: 27640.6363581\ttest: 76214.5513861\tbest: 76210.9161510 (1178)\ttotal: 2m 18s\tremaining: 1m 36s\n1180:\tlearn: 27632.9168522\ttest: 76213.9376171\tbest: 76210.9161510 (1178)\ttotal: 2m 18s\tremaining: 1m 36s\n1181:\tlearn: 27605.4832698\ttest: 76193.0568725\tbest: 76193.0568725 (1181)\ttotal: 2m 18s\tremaining: 1m 36s\n1182:\tlearn: 27598.2237217\ttest: 76192.1814527\tbest: 76192.1814527 (1182)\ttotal: 2m 18s\tremaining: 1m 35s\n1183:\tlearn: 27577.4483424\ttest: 76184.8909968\tbest: 76184.8909968 (1183)\ttotal: 2m 19s\tremaining: 1m 35s\n1184:\tlearn: 27568.8711214\ttest: 76186.3183890\tbest: 76184.8909968 (1183)\ttotal: 2m 19s\tremaining: 1m 35s\n1185:\tlearn: 27563.8938117\ttest: 76186.4610192\tbest: 76184.8909968 (1183)\ttotal: 2m 19s\tremaining: 1m 35s\n1186:\tlearn: 27551.9342154\ttest: 76178.1302698\tbest: 76178.1302698 (1186)\ttotal: 2m 19s\tremaining: 1m 35s\n1187:\tlearn: 27520.7801544\ttest: 76180.4506883\tbest: 76178.1302698 (1186)\ttotal: 2m 19s\tremaining: 1m 35s\n1188:\tlearn: 27514.0808955\ttest: 76181.5235783\tbest: 76178.1302698 (1186)\ttotal: 2m 19s\tremaining: 1m 35s\n1189:\tlearn: 27503.2745268\ttest: 76177.7665356\tbest: 76177.7665356 (1189)\ttotal: 2m 19s\tremaining: 1m 35s\n1190:\tlearn: 27498.0067714\ttest: 76177.0444269\tbest: 76177.0444269 (1190)\ttotal: 2m 19s\tremaining: 1m 34s\n1191:\tlearn: 27490.6156315\ttest: 76175.4854170\tbest: 76175.4854170 (1191)\ttotal: 2m 20s\tremaining: 1m 34s\n1192:\tlearn: 27471.4844870\ttest: 76166.3834026\tbest: 76166.3834026 (1192)\ttotal: 2m 20s\tremaining: 1m 34s\n1193:\tlearn: 27467.9407743\ttest: 76167.4036639\tbest: 76166.3834026 (1192)\ttotal: 2m 20s\tremaining: 1m 34s\n1194:\tlearn: 27439.0332345\ttest: 76169.4464869\tbest: 76166.3834026 (1192)\ttotal: 2m 20s\tremaining: 1m 34s\n1195:\tlearn: 27435.5102164\ttest: 76172.1121169\tbest: 76166.3834026 (1192)\ttotal: 2m 20s\tremaining: 1m 34s\n1196:\tlearn: 27426.6662588\ttest: 76175.9729563\tbest: 76166.3834026 (1192)\ttotal: 2m 20s\tremaining: 1m 34s\n1197:\tlearn: 27404.9438192\ttest: 76166.2340004\tbest: 76166.2340004 (1197)\ttotal: 2m 20s\tremaining: 1m 34s\n1198:\tlearn: 27386.1315572\ttest: 76164.6985702\tbest: 76164.6985702 (1198)\ttotal: 2m 20s\tremaining: 1m 34s\n1199:\tlearn: 27373.0294496\ttest: 76160.8744839\tbest: 76160.8744839 (1199)\ttotal: 2m 20s\tremaining: 1m 33s\n1200:\tlearn: 27348.3732986\ttest: 76168.2544461\tbest: 76160.8744839 (1199)\ttotal: 2m 21s\tremaining: 1m 33s\n1201:\tlearn: 27339.8089962\ttest: 76165.0361780\tbest: 76160.8744839 (1199)\ttotal: 2m 21s\tremaining: 1m 33s\n1202:\tlearn: 27324.0099562\ttest: 76164.0265207\tbest: 76160.8744839 (1199)\ttotal: 2m 21s\tremaining: 1m 33s\n1203:\tlearn: 27314.0572196\ttest: 76162.3043426\tbest: 76160.8744839 (1199)\ttotal: 2m 21s\tremaining: 1m 33s\n1204:\tlearn: 27300.3937789\ttest: 76169.1430424\tbest: 76160.8744839 (1199)\ttotal: 2m 21s\tremaining: 1m 33s\n1205:\tlearn: 27285.3868069\ttest: 76165.0107290\tbest: 76160.8744839 (1199)\ttotal: 2m 21s\tremaining: 1m 33s\n1206:\tlearn: 27275.3751961\ttest: 76162.1736666\tbest: 76160.8744839 (1199)\ttotal: 2m 21s\tremaining: 1m 33s\n1207:\tlearn: 27256.9555485\ttest: 76155.1137778\tbest: 76155.1137778 (1207)\ttotal: 2m 21s\tremaining: 1m 33s\n1208:\tlearn: 27254.4890911\ttest: 76153.9096235\tbest: 76153.9096235 (1208)\ttotal: 2m 21s\tremaining: 1m 32s\n1209:\tlearn: 27242.0405664\ttest: 76156.3360373\tbest: 76153.9096235 (1208)\ttotal: 2m 22s\tremaining: 1m 32s\n1210:\tlearn: 27206.7729005\ttest: 76169.2586883\tbest: 76153.9096235 (1208)\ttotal: 2m 22s\tremaining: 1m 32s\n1211:\tlearn: 27171.0403100\ttest: 76168.4725925\tbest: 76153.9096235 (1208)\ttotal: 2m 22s\tremaining: 1m 32s\n1212:\tlearn: 27166.7896177\ttest: 76168.0101426\tbest: 76153.9096235 (1208)\ttotal: 2m 22s\tremaining: 1m 32s\n1213:\tlearn: 27157.1166475\ttest: 76170.3486282\tbest: 76153.9096235 (1208)\ttotal: 2m 22s\tremaining: 1m 32s\n1214:\tlearn: 27146.9410683\ttest: 76171.0654353\tbest: 76153.9096235 (1208)\ttotal: 2m 22s\tremaining: 1m 32s\n1215:\tlearn: 27133.8902582\ttest: 76169.2142004\tbest: 76153.9096235 (1208)\ttotal: 2m 22s\tremaining: 1m 32s\n1216:\tlearn: 27133.7057477\ttest: 76169.1292673\tbest: 76153.9096235 (1208)\ttotal: 2m 22s\tremaining: 1m 31s\n1217:\tlearn: 27129.0969768\ttest: 76169.7211469\tbest: 76153.9096235 (1208)\ttotal: 2m 23s\tremaining: 1m 31s\n1218:\tlearn: 27127.6634144\ttest: 76169.6111051\tbest: 76153.9096235 (1208)\ttotal: 2m 23s\tremaining: 1m 31s\n1219:\tlearn: 27121.6694045\ttest: 76173.6610342\tbest: 76153.9096235 (1208)\ttotal: 2m 23s\tremaining: 1m 31s\n1220:\tlearn: 27095.1028274\ttest: 76167.2983788\tbest: 76153.9096235 (1208)\ttotal: 2m 23s\tremaining: 1m 31s\n1221:\tlearn: 27085.9802705\ttest: 76166.9544647\tbest: 76153.9096235 (1208)\ttotal: 2m 23s\tremaining: 1m 31s\n1222:\tlearn: 27073.5741853\ttest: 76165.8192302\tbest: 76153.9096235 (1208)\ttotal: 2m 23s\tremaining: 1m 31s\n1223:\tlearn: 27067.2749592\ttest: 76168.6852402\tbest: 76153.9096235 (1208)\ttotal: 2m 23s\tremaining: 1m 31s\n1224:\tlearn: 27056.1847427\ttest: 76168.7483298\tbest: 76153.9096235 (1208)\ttotal: 2m 23s\tremaining: 1m 31s\n1225:\tlearn: 27046.1951179\ttest: 76169.5930137\tbest: 76153.9096235 (1208)\ttotal: 2m 23s\tremaining: 1m 30s\n1226:\tlearn: 27031.7315950\ttest: 76165.2304779\tbest: 76153.9096235 (1208)\ttotal: 2m 24s\tremaining: 1m 30s\n1227:\tlearn: 27022.1281024\ttest: 76162.7752739\tbest: 76153.9096235 (1208)\ttotal: 2m 24s\tremaining: 1m 30s\n1228:\tlearn: 27013.3363371\ttest: 76166.7721689\tbest: 76153.9096235 (1208)\ttotal: 2m 24s\tremaining: 1m 30s\n1229:\tlearn: 26991.0333592\ttest: 76164.4875484\tbest: 76153.9096235 (1208)\ttotal: 2m 24s\tremaining: 1m 30s\n1230:\tlearn: 26981.7165356\ttest: 76161.8746389\tbest: 76153.9096235 (1208)\ttotal: 2m 24s\tremaining: 1m 30s\n1231:\tlearn: 26973.6833520\ttest: 76160.9696825\tbest: 76153.9096235 (1208)\ttotal: 2m 24s\tremaining: 1m 30s\n1232:\tlearn: 26965.0900686\ttest: 76149.6691061\tbest: 76149.6691061 (1232)\ttotal: 2m 24s\tremaining: 1m 30s\n1233:\tlearn: 26961.5859055\ttest: 76152.1760175\tbest: 76149.6691061 (1232)\ttotal: 2m 24s\tremaining: 1m 29s\n1234:\tlearn: 26952.8012298\ttest: 76152.5312671\tbest: 76149.6691061 (1232)\ttotal: 2m 25s\tremaining: 1m 29s\n1235:\tlearn: 26945.4653038\ttest: 76149.5140139\tbest: 76149.5140139 (1235)\ttotal: 2m 25s\tremaining: 1m 29s\n1236:\tlearn: 26928.4741996\ttest: 76150.8458391\tbest: 76149.5140139 (1235)\ttotal: 2m 25s\tremaining: 1m 29s\n1237:\tlearn: 26910.6959091\ttest: 76166.9179357\tbest: 76149.5140139 (1235)\ttotal: 2m 25s\tremaining: 1m 29s\n1238:\tlearn: 26895.6375649\ttest: 76164.8838228\tbest: 76149.5140139 (1235)\ttotal: 2m 25s\tremaining: 1m 29s\n1239:\tlearn: 26890.2092977\ttest: 76164.9745739\tbest: 76149.5140139 (1235)\ttotal: 2m 25s\tremaining: 1m 29s\n1240:\tlearn: 26882.4134842\ttest: 76164.6348386\tbest: 76149.5140139 (1235)\ttotal: 2m 25s\tremaining: 1m 29s\n1241:\tlearn: 26877.3546298\ttest: 76166.3703921\tbest: 76149.5140139 (1235)\ttotal: 2m 25s\tremaining: 1m 29s\n1242:\tlearn: 26871.9949183\ttest: 76166.6413325\tbest: 76149.5140139 (1235)\ttotal: 2m 26s\tremaining: 1m 28s\n1243:\tlearn: 26865.3459630\ttest: 76164.8961019\tbest: 76149.5140139 (1235)\ttotal: 2m 26s\tremaining: 1m 28s\n1244:\tlearn: 26852.8637071\ttest: 76164.8016535\tbest: 76149.5140139 (1235)\ttotal: 2m 26s\tremaining: 1m 28s\n1245:\tlearn: 26837.7713529\ttest: 76166.0892796\tbest: 76149.5140139 (1235)\ttotal: 2m 26s\tremaining: 1m 28s\n1246:\tlearn: 26823.1374764\ttest: 76165.5002898\tbest: 76149.5140139 (1235)\ttotal: 2m 26s\tremaining: 1m 28s\n1247:\tlearn: 26814.4220321\ttest: 76164.9590696\tbest: 76149.5140139 (1235)\ttotal: 2m 26s\tremaining: 1m 28s\n1248:\tlearn: 26807.1151407\ttest: 76164.5635182\tbest: 76149.5140139 (1235)\ttotal: 2m 26s\tremaining: 1m 28s\n1249:\tlearn: 26803.0733557\ttest: 76161.7633861\tbest: 76149.5140139 (1235)\ttotal: 2m 26s\tremaining: 1m 28s\n1250:\tlearn: 26794.2407870\ttest: 76153.4365982\tbest: 76149.5140139 (1235)\ttotal: 2m 27s\tremaining: 1m 28s\n1251:\tlearn: 26791.7748749\ttest: 76152.4756817\tbest: 76149.5140139 (1235)\ttotal: 2m 27s\tremaining: 1m 27s\n1252:\tlearn: 26786.1543692\ttest: 76151.0432043\tbest: 76149.5140139 (1235)\ttotal: 2m 27s\tremaining: 1m 27s\n1253:\tlearn: 26770.2511980\ttest: 76144.5607773\tbest: 76144.5607773 (1253)\ttotal: 2m 27s\tremaining: 1m 27s\n1254:\tlearn: 26764.9114535\ttest: 76142.1313884\tbest: 76142.1313884 (1254)\ttotal: 2m 27s\tremaining: 1m 27s\n1255:\tlearn: 26747.6257691\ttest: 76147.1875819\tbest: 76142.1313884 (1254)\ttotal: 2m 27s\tremaining: 1m 27s\n1256:\tlearn: 26740.4084476\ttest: 76149.0084790\tbest: 76142.1313884 (1254)\ttotal: 2m 27s\tremaining: 1m 27s\n1257:\tlearn: 26724.1782908\ttest: 76142.7552565\tbest: 76142.1313884 (1254)\ttotal: 2m 27s\tremaining: 1m 27s\n1258:\tlearn: 26718.0348955\ttest: 76141.9105819\tbest: 76141.9105819 (1258)\ttotal: 2m 27s\tremaining: 1m 27s\n1259:\tlearn: 26710.8629534\ttest: 76142.5341218\tbest: 76141.9105819 (1258)\ttotal: 2m 28s\tremaining: 1m 26s\n1260:\tlearn: 26691.5020451\ttest: 76143.8994440\tbest: 76141.9105819 (1258)\ttotal: 2m 28s\tremaining: 1m 26s\n1261:\tlearn: 26664.2656460\ttest: 76151.6173571\tbest: 76141.9105819 (1258)\ttotal: 2m 28s\tremaining: 1m 26s\n1262:\tlearn: 26644.5840919\ttest: 76149.5052904\tbest: 76141.9105819 (1258)\ttotal: 2m 28s\tremaining: 1m 26s\n1263:\tlearn: 26620.8007148\ttest: 76153.0977030\tbest: 76141.9105819 (1258)\ttotal: 2m 28s\tremaining: 1m 26s\n1264:\tlearn: 26577.5501471\ttest: 76168.7673482\tbest: 76141.9105819 (1258)\ttotal: 2m 28s\tremaining: 1m 26s\n1265:\tlearn: 26571.4576813\ttest: 76165.1905770\tbest: 76141.9105819 (1258)\ttotal: 2m 28s\tremaining: 1m 26s\n1266:\tlearn: 26550.7194532\ttest: 76147.8859405\tbest: 76141.9105819 (1258)\ttotal: 2m 28s\tremaining: 1m 26s\n1267:\tlearn: 26545.2573194\ttest: 76148.6107257\tbest: 76141.9105819 (1258)\ttotal: 2m 28s\tremaining: 1m 25s\n1268:\tlearn: 26531.3353605\ttest: 76147.8097362\tbest: 76141.9105819 (1258)\ttotal: 2m 28s\tremaining: 1m 25s\n1269:\tlearn: 26518.7739606\ttest: 76150.2734610\tbest: 76141.9105819 (1258)\ttotal: 2m 29s\tremaining: 1m 25s\n1270:\tlearn: 26515.8424202\ttest: 76149.1928783\tbest: 76141.9105819 (1258)\ttotal: 2m 29s\tremaining: 1m 25s\n1271:\tlearn: 26511.2656313\ttest: 76148.4104848\tbest: 76141.9105819 (1258)\ttotal: 2m 29s\tremaining: 1m 25s\n1272:\tlearn: 26504.9554616\ttest: 76146.6859673\tbest: 76141.9105819 (1258)\ttotal: 2m 29s\tremaining: 1m 25s\n1273:\tlearn: 26486.1650857\ttest: 76152.9884523\tbest: 76141.9105819 (1258)\ttotal: 2m 29s\tremaining: 1m 25s\n1274:\tlearn: 26475.0316127\ttest: 76148.5929151\tbest: 76141.9105819 (1258)\ttotal: 2m 29s\tremaining: 1m 25s\n1275:\tlearn: 26460.6555081\ttest: 76149.9790361\tbest: 76141.9105819 (1258)\ttotal: 2m 29s\tremaining: 1m 24s\n1276:\tlearn: 26455.7880659\ttest: 76148.6579885\tbest: 76141.9105819 (1258)\ttotal: 2m 29s\tremaining: 1m 24s\n1277:\tlearn: 26445.7959477\ttest: 76142.5728862\tbest: 76141.9105819 (1258)\ttotal: 2m 29s\tremaining: 1m 24s\n1278:\tlearn: 26441.6754563\ttest: 76145.3072924\tbest: 76141.9105819 (1258)\ttotal: 2m 30s\tremaining: 1m 24s\n1279:\tlearn: 26436.5481959\ttest: 76145.4556932\tbest: 76141.9105819 (1258)\ttotal: 2m 30s\tremaining: 1m 24s\n1280:\tlearn: 26420.8332586\ttest: 76140.9312433\tbest: 76140.9312433 (1280)\ttotal: 2m 30s\tremaining: 1m 24s\n1281:\tlearn: 26410.0588223\ttest: 76140.5025848\tbest: 76140.5025848 (1281)\ttotal: 2m 30s\tremaining: 1m 24s\n1282:\tlearn: 26395.1652451\ttest: 76139.3952386\tbest: 76139.3952386 (1282)\ttotal: 2m 30s\tremaining: 1m 24s\n1283:\tlearn: 26390.7317525\ttest: 76140.8295558\tbest: 76139.3952386 (1282)\ttotal: 2m 30s\tremaining: 1m 23s\n1284:\tlearn: 26382.3038260\ttest: 76139.8032074\tbest: 76139.3952386 (1282)\ttotal: 2m 30s\tremaining: 1m 23s\n1285:\tlearn: 26371.7473453\ttest: 76141.8468630\tbest: 76139.3952386 (1282)\ttotal: 2m 30s\tremaining: 1m 23s\n1286:\tlearn: 26361.9727581\ttest: 76143.0507620\tbest: 76139.3952386 (1282)\ttotal: 2m 31s\tremaining: 1m 23s\n1287:\tlearn: 26358.7335746\ttest: 76137.7514039\tbest: 76137.7514039 (1287)\ttotal: 2m 31s\tremaining: 1m 23s\n1288:\tlearn: 26342.5051014\ttest: 76147.4565956\tbest: 76137.7514039 (1287)\ttotal: 2m 31s\tremaining: 1m 23s\n1289:\tlearn: 26330.1949759\ttest: 76149.2173107\tbest: 76137.7514039 (1287)\ttotal: 2m 31s\tremaining: 1m 23s\n1290:\tlearn: 26316.9193531\ttest: 76145.7082896\tbest: 76137.7514039 (1287)\ttotal: 2m 31s\tremaining: 1m 23s\n1291:\tlearn: 26312.3756002\ttest: 76144.6871489\tbest: 76137.7514039 (1287)\ttotal: 2m 31s\tremaining: 1m 23s\n1292:\tlearn: 26303.2238786\ttest: 76142.8452875\tbest: 76137.7514039 (1287)\ttotal: 2m 31s\tremaining: 1m 22s\n1293:\tlearn: 26292.5372815\ttest: 76149.2549443\tbest: 76137.7514039 (1287)\ttotal: 2m 31s\tremaining: 1m 22s\n1294:\tlearn: 26286.8160177\ttest: 76151.4794602\tbest: 76137.7514039 (1287)\ttotal: 2m 31s\tremaining: 1m 22s\n1295:\tlearn: 26278.7500589\ttest: 76146.8570386\tbest: 76137.7514039 (1287)\ttotal: 2m 32s\tremaining: 1m 22s\n1296:\tlearn: 26265.4374714\ttest: 76147.8682725\tbest: 76137.7514039 (1287)\ttotal: 2m 32s\tremaining: 1m 22s\n1297:\tlearn: 26252.2742616\ttest: 76148.0211808\tbest: 76137.7514039 (1287)\ttotal: 2m 32s\tremaining: 1m 22s\n1298:\tlearn: 26243.4565535\ttest: 76146.9781475\tbest: 76137.7514039 (1287)\ttotal: 2m 32s\tremaining: 1m 22s\n1299:\tlearn: 26226.0122781\ttest: 76150.1265907\tbest: 76137.7514039 (1287)\ttotal: 2m 32s\tremaining: 1m 22s\n1300:\tlearn: 26217.2974235\ttest: 76152.5271884\tbest: 76137.7514039 (1287)\ttotal: 2m 32s\tremaining: 1m 22s\n1301:\tlearn: 26208.7613313\ttest: 76147.8736530\tbest: 76137.7514039 (1287)\ttotal: 2m 32s\tremaining: 1m 21s\n1302:\tlearn: 26204.5763449\ttest: 76148.1873433\tbest: 76137.7514039 (1287)\ttotal: 2m 32s\tremaining: 1m 21s\n1303:\tlearn: 26199.5115655\ttest: 76147.5390572\tbest: 76137.7514039 (1287)\ttotal: 2m 33s\tremaining: 1m 21s\n1304:\tlearn: 26171.1487997\ttest: 76149.3241292\tbest: 76137.7514039 (1287)\ttotal: 2m 33s\tremaining: 1m 21s\n1305:\tlearn: 26167.1809653\ttest: 76148.6178509\tbest: 76137.7514039 (1287)\ttotal: 2m 33s\tremaining: 1m 21s\n1306:\tlearn: 26160.2131065\ttest: 76147.3778865\tbest: 76137.7514039 (1287)\ttotal: 2m 33s\tremaining: 1m 21s\n1307:\tlearn: 26149.9782491\ttest: 76153.0622610\tbest: 76137.7514039 (1287)\ttotal: 2m 33s\tremaining: 1m 21s\n1308:\tlearn: 26136.7783278\ttest: 76149.9588736\tbest: 76137.7514039 (1287)\ttotal: 2m 33s\tremaining: 1m 21s\n1309:\tlearn: 26125.5179145\ttest: 76153.6625832\tbest: 76137.7514039 (1287)\ttotal: 2m 33s\tremaining: 1m 20s\n1310:\tlearn: 26108.9768428\ttest: 76146.5635720\tbest: 76137.7514039 (1287)\ttotal: 2m 33s\tremaining: 1m 20s\n1311:\tlearn: 26104.8324668\ttest: 76145.9484703\tbest: 76137.7514039 (1287)\ttotal: 2m 33s\tremaining: 1m 20s\n1312:\tlearn: 26092.9714772\ttest: 76141.4736862\tbest: 76137.7514039 (1287)\ttotal: 2m 34s\tremaining: 1m 20s\n1313:\tlearn: 26084.0446717\ttest: 76126.3697642\tbest: 76126.3697642 (1313)\ttotal: 2m 34s\tremaining: 1m 20s\n1314:\tlearn: 26074.1277198\ttest: 76128.1653440\tbest: 76126.3697642 (1313)\ttotal: 2m 34s\tremaining: 1m 20s\n1315:\tlearn: 26068.4842672\ttest: 76125.1550013\tbest: 76125.1550013 (1315)\ttotal: 2m 34s\tremaining: 1m 20s\n1316:\tlearn: 26045.4385022\ttest: 76119.7195840\tbest: 76119.7195840 (1316)\ttotal: 2m 34s\tremaining: 1m 20s\n1317:\tlearn: 26040.7837006\ttest: 76125.2711554\tbest: 76119.7195840 (1316)\ttotal: 2m 34s\tremaining: 1m 20s\n1318:\tlearn: 26035.1685001\ttest: 76132.4161066\tbest: 76119.7195840 (1316)\ttotal: 2m 34s\tremaining: 1m 19s\n1319:\tlearn: 26027.7443730\ttest: 76129.6998519\tbest: 76119.7195840 (1316)\ttotal: 2m 34s\tremaining: 1m 19s\n1320:\tlearn: 26013.3324441\ttest: 76122.2461241\tbest: 76119.7195840 (1316)\ttotal: 2m 35s\tremaining: 1m 19s\n1321:\tlearn: 26010.3549835\ttest: 76126.6103007\tbest: 76119.7195840 (1316)\ttotal: 2m 35s\tremaining: 1m 19s\n1322:\tlearn: 26001.2647104\ttest: 76120.8166928\tbest: 76119.7195840 (1316)\ttotal: 2m 35s\tremaining: 1m 19s\n1323:\tlearn: 25997.4840823\ttest: 76124.2234391\tbest: 76119.7195840 (1316)\ttotal: 2m 35s\tremaining: 1m 19s\n1324:\tlearn: 25984.5974152\ttest: 76126.4327280\tbest: 76119.7195840 (1316)\ttotal: 2m 35s\tremaining: 1m 19s\n1325:\tlearn: 25979.9825262\ttest: 76122.4414765\tbest: 76119.7195840 (1316)\ttotal: 2m 35s\tremaining: 1m 19s\n1326:\tlearn: 25972.6475632\ttest: 76120.8464735\tbest: 76119.7195840 (1316)\ttotal: 2m 35s\tremaining: 1m 18s\n1327:\tlearn: 25956.4221361\ttest: 76121.2558177\tbest: 76119.7195840 (1316)\ttotal: 2m 35s\tremaining: 1m 18s\n1328:\tlearn: 25936.7628652\ttest: 76121.7037382\tbest: 76119.7195840 (1316)\ttotal: 2m 36s\tremaining: 1m 18s\n1329:\tlearn: 25925.9784288\ttest: 76119.6325862\tbest: 76119.6325862 (1329)\ttotal: 2m 36s\tremaining: 1m 18s\n1330:\tlearn: 25918.5861936\ttest: 76119.0377053\tbest: 76119.0377053 (1330)\ttotal: 2m 36s\tremaining: 1m 18s\n1331:\tlearn: 25898.3138194\ttest: 76114.2450605\tbest: 76114.2450605 (1331)\ttotal: 2m 36s\tremaining: 1m 18s\n1332:\tlearn: 25888.8398329\ttest: 76111.4036459\tbest: 76111.4036459 (1332)\ttotal: 2m 36s\tremaining: 1m 18s\n1333:\tlearn: 25878.3603936\ttest: 76113.3591481\tbest: 76111.4036459 (1332)\ttotal: 2m 36s\tremaining: 1m 18s\n1334:\tlearn: 25874.2362505\ttest: 76116.2883430\tbest: 76111.4036459 (1332)\ttotal: 2m 36s\tremaining: 1m 18s\n1335:\tlearn: 25869.8353901\ttest: 76116.2949256\tbest: 76111.4036459 (1332)\ttotal: 2m 36s\tremaining: 1m 17s\n1336:\tlearn: 25858.8202721\ttest: 76112.6722567\tbest: 76111.4036459 (1332)\ttotal: 2m 37s\tremaining: 1m 17s\n1337:\tlearn: 25835.5202963\ttest: 76118.3956957\tbest: 76111.4036459 (1332)\ttotal: 2m 37s\tremaining: 1m 17s\n1338:\tlearn: 25822.1959906\ttest: 76108.0382236\tbest: 76108.0382236 (1338)\ttotal: 2m 37s\tremaining: 1m 17s\n1339:\tlearn: 25819.8592252\ttest: 76109.3018635\tbest: 76108.0382236 (1338)\ttotal: 2m 37s\tremaining: 1m 17s\n1340:\tlearn: 25806.6645778\ttest: 76105.9155230\tbest: 76105.9155230 (1340)\ttotal: 2m 37s\tremaining: 1m 17s\n1341:\tlearn: 25797.3055862\ttest: 76101.9648738\tbest: 76101.9648738 (1341)\ttotal: 2m 37s\tremaining: 1m 17s\n1342:\tlearn: 25793.2984364\ttest: 76098.7454760\tbest: 76098.7454760 (1342)\ttotal: 2m 37s\tremaining: 1m 17s\n1343:\tlearn: 25787.6583394\ttest: 76098.4842827\tbest: 76098.4842827 (1343)\ttotal: 2m 37s\tremaining: 1m 17s\n1344:\tlearn: 25773.5078878\ttest: 76093.6045316\tbest: 76093.6045316 (1344)\ttotal: 2m 37s\tremaining: 1m 16s\n1345:\tlearn: 25760.8494293\ttest: 76090.0698880\tbest: 76090.0698880 (1345)\ttotal: 2m 38s\tremaining: 1m 16s\n1346:\tlearn: 25754.2932019\ttest: 76090.3296376\tbest: 76090.0698880 (1345)\ttotal: 2m 38s\tremaining: 1m 16s\n1347:\tlearn: 25744.5835984\ttest: 76095.6926280\tbest: 76090.0698880 (1345)\ttotal: 2m 38s\tremaining: 1m 16s\n1348:\tlearn: 25731.0935285\ttest: 76098.4463290\tbest: 76090.0698880 (1345)\ttotal: 2m 38s\tremaining: 1m 16s\n1349:\tlearn: 25726.5949504\ttest: 76099.3022298\tbest: 76090.0698880 (1345)\ttotal: 2m 38s\tremaining: 1m 16s\n1350:\tlearn: 25711.4794180\ttest: 76096.5678345\tbest: 76090.0698880 (1345)\ttotal: 2m 38s\tremaining: 1m 16s\n1351:\tlearn: 25705.2809695\ttest: 76097.3072836\tbest: 76090.0698880 (1345)\ttotal: 2m 38s\tremaining: 1m 16s\n1352:\tlearn: 25698.5358120\ttest: 76092.2813347\tbest: 76090.0698880 (1345)\ttotal: 2m 38s\tremaining: 1m 15s\n1353:\tlearn: 25685.4118722\ttest: 76094.5227633\tbest: 76090.0698880 (1345)\ttotal: 2m 38s\tremaining: 1m 15s\n1354:\tlearn: 25669.6129500\ttest: 76096.7520906\tbest: 76090.0698880 (1345)\ttotal: 2m 39s\tremaining: 1m 15s\n1355:\tlearn: 25663.7108414\ttest: 76099.2239797\tbest: 76090.0698880 (1345)\ttotal: 2m 39s\tremaining: 1m 15s\n1356:\tlearn: 25656.9526567\ttest: 76098.8332767\tbest: 76090.0698880 (1345)\ttotal: 2m 39s\tremaining: 1m 15s\n1357:\tlearn: 25646.7717779\ttest: 76102.2328696\tbest: 76090.0698880 (1345)\ttotal: 2m 39s\tremaining: 1m 15s\n1358:\tlearn: 25640.5064841\ttest: 76103.6345972\tbest: 76090.0698880 (1345)\ttotal: 2m 39s\tremaining: 1m 15s\n1359:\tlearn: 25630.2301207\ttest: 76098.9295895\tbest: 76090.0698880 (1345)\ttotal: 2m 39s\tremaining: 1m 15s\n1360:\tlearn: 25624.8866369\ttest: 76098.8897893\tbest: 76090.0698880 (1345)\ttotal: 2m 39s\tremaining: 1m 14s\n1361:\tlearn: 25617.2569964\ttest: 76099.6069630\tbest: 76090.0698880 (1345)\ttotal: 2m 39s\tremaining: 1m 14s\n1362:\tlearn: 25609.0228491\ttest: 76096.8777462\tbest: 76090.0698880 (1345)\ttotal: 2m 39s\tremaining: 1m 14s\n1363:\tlearn: 25598.1782533\ttest: 76105.3669271\tbest: 76090.0698880 (1345)\ttotal: 2m 40s\tremaining: 1m 14s\n1364:\tlearn: 25585.7716165\ttest: 76104.0772995\tbest: 76090.0698880 (1345)\ttotal: 2m 40s\tremaining: 1m 14s\n1365:\tlearn: 25577.9665047\ttest: 76108.5943098\tbest: 76090.0698880 (1345)\ttotal: 2m 40s\tremaining: 1m 14s\n1366:\tlearn: 25564.5947677\ttest: 76113.2649646\tbest: 76090.0698880 (1345)\ttotal: 2m 40s\tremaining: 1m 14s\n1367:\tlearn: 25551.5417440\ttest: 76111.3208462\tbest: 76090.0698880 (1345)\ttotal: 2m 40s\tremaining: 1m 14s\n1368:\tlearn: 25536.7310084\ttest: 76117.7247237\tbest: 76090.0698880 (1345)\ttotal: 2m 40s\tremaining: 1m 14s\n1369:\tlearn: 25532.1607532\ttest: 76118.5552348\tbest: 76090.0698880 (1345)\ttotal: 2m 40s\tremaining: 1m 13s\n1370:\tlearn: 25525.4802640\ttest: 76117.0873553\tbest: 76090.0698880 (1345)\ttotal: 2m 40s\tremaining: 1m 13s\n1371:\tlearn: 25515.5402395\ttest: 76121.1323881\tbest: 76090.0698880 (1345)\ttotal: 2m 40s\tremaining: 1m 13s\n1372:\tlearn: 25502.1997588\ttest: 76121.1490644\tbest: 76090.0698880 (1345)\ttotal: 2m 41s\tremaining: 1m 13s\n1373:\tlearn: 25488.1018399\ttest: 76116.0013861\tbest: 76090.0698880 (1345)\ttotal: 2m 41s\tremaining: 1m 13s\n1374:\tlearn: 25476.9996241\ttest: 76119.0396093\tbest: 76090.0698880 (1345)\ttotal: 2m 41s\tremaining: 1m 13s\n1375:\tlearn: 25463.5263099\ttest: 76117.1421033\tbest: 76090.0698880 (1345)\ttotal: 2m 41s\tremaining: 1m 13s\n1376:\tlearn: 25457.4540179\ttest: 76115.6418516\tbest: 76090.0698880 (1345)\ttotal: 2m 41s\tremaining: 1m 13s\n1377:\tlearn: 25453.2863094\ttest: 76113.9637478\tbest: 76090.0698880 (1345)\ttotal: 2m 41s\tremaining: 1m 12s\n1378:\tlearn: 25442.2425633\ttest: 76108.7674146\tbest: 76090.0698880 (1345)\ttotal: 2m 41s\tremaining: 1m 12s\n1379:\tlearn: 25429.2762966\ttest: 76111.7386966\tbest: 76090.0698880 (1345)\ttotal: 2m 41s\tremaining: 1m 12s\n1380:\tlearn: 25426.5100792\ttest: 76111.3968055\tbest: 76090.0698880 (1345)\ttotal: 2m 41s\tremaining: 1m 12s\n1381:\tlearn: 25412.0398772\ttest: 76124.6504610\tbest: 76090.0698880 (1345)\ttotal: 2m 42s\tremaining: 1m 12s\n1382:\tlearn: 25402.3420693\ttest: 76121.0020467\tbest: 76090.0698880 (1345)\ttotal: 2m 42s\tremaining: 1m 12s\n1383:\tlearn: 25395.5703571\ttest: 76122.4020177\tbest: 76090.0698880 (1345)\ttotal: 2m 42s\tremaining: 1m 12s\n1384:\tlearn: 25393.0951652\ttest: 76121.7529545\tbest: 76090.0698880 (1345)\ttotal: 2m 42s\tremaining: 1m 12s\n1385:\tlearn: 25379.2211643\ttest: 76123.6554567\tbest: 76090.0698880 (1345)\ttotal: 2m 42s\tremaining: 1m 11s\n1386:\tlearn: 25364.7853812\ttest: 76123.7333244\tbest: 76090.0698880 (1345)\ttotal: 2m 42s\tremaining: 1m 11s\n1387:\tlearn: 25358.6678715\ttest: 76123.8706489\tbest: 76090.0698880 (1345)\ttotal: 2m 42s\tremaining: 1m 11s\n1388:\tlearn: 25344.3891675\ttest: 76117.3168275\tbest: 76090.0698880 (1345)\ttotal: 2m 42s\tremaining: 1m 11s\n1389:\tlearn: 25334.9592816\ttest: 76115.6092100\tbest: 76090.0698880 (1345)\ttotal: 2m 42s\tremaining: 1m 11s\n1390:\tlearn: 25324.8636881\ttest: 76114.4140967\tbest: 76090.0698880 (1345)\ttotal: 2m 43s\tremaining: 1m 11s\n1391:\tlearn: 25308.8591886\ttest: 76111.6688082\tbest: 76090.0698880 (1345)\ttotal: 2m 43s\tremaining: 1m 11s\n1392:\tlearn: 25288.8238324\ttest: 76110.0111478\tbest: 76090.0698880 (1345)\ttotal: 2m 43s\tremaining: 1m 11s\n1393:\tlearn: 25279.7434286\ttest: 76112.2332292\tbest: 76090.0698880 (1345)\ttotal: 2m 43s\tremaining: 1m 11s\n1394:\tlearn: 25263.2553671\ttest: 76116.6530885\tbest: 76090.0698880 (1345)\ttotal: 2m 43s\tremaining: 1m 10s\n1395:\tlearn: 25255.7592680\ttest: 76116.8082144\tbest: 76090.0698880 (1345)\ttotal: 2m 43s\tremaining: 1m 10s\n1396:\tlearn: 25248.2552305\ttest: 76117.5479421\tbest: 76090.0698880 (1345)\ttotal: 2m 43s\tremaining: 1m 10s\n1397:\tlearn: 25234.7639014\ttest: 76121.6775650\tbest: 76090.0698880 (1345)\ttotal: 2m 43s\tremaining: 1m 10s\n1398:\tlearn: 25226.2481813\ttest: 76123.2801363\tbest: 76090.0698880 (1345)\ttotal: 2m 43s\tremaining: 1m 10s\n1399:\tlearn: 25212.2994379\ttest: 76125.6863464\tbest: 76090.0698880 (1345)\ttotal: 2m 44s\tremaining: 1m 10s\n1400:\tlearn: 25199.2278395\ttest: 76122.5492059\tbest: 76090.0698880 (1345)\ttotal: 2m 44s\tremaining: 1m 10s\n1401:\tlearn: 25180.0575038\ttest: 76121.3709881\tbest: 76090.0698880 (1345)\ttotal: 2m 44s\tremaining: 1m 10s\n1402:\tlearn: 25155.1349988\ttest: 76124.8095528\tbest: 76090.0698880 (1345)\ttotal: 2m 44s\tremaining: 1m 9s\n1403:\tlearn: 25136.7690622\ttest: 76119.6148996\tbest: 76090.0698880 (1345)\ttotal: 2m 44s\tremaining: 1m 9s\n1404:\tlearn: 25129.3943412\ttest: 76116.2058605\tbest: 76090.0698880 (1345)\ttotal: 2m 44s\tremaining: 1m 9s\n1405:\tlearn: 25117.6404607\ttest: 76111.2508427\tbest: 76090.0698880 (1345)\ttotal: 2m 44s\tremaining: 1m 9s\n1406:\tlearn: 25117.1623597\ttest: 76112.0095895\tbest: 76090.0698880 (1345)\ttotal: 2m 44s\tremaining: 1m 9s\n1407:\tlearn: 25107.4513634\ttest: 76111.0942376\tbest: 76090.0698880 (1345)\ttotal: 2m 44s\tremaining: 1m 9s\n1408:\tlearn: 25095.5532645\ttest: 76112.4603522\tbest: 76090.0698880 (1345)\ttotal: 2m 45s\tremaining: 1m 9s\n1409:\tlearn: 25081.7973088\ttest: 76110.7115157\tbest: 76090.0698880 (1345)\ttotal: 2m 45s\tremaining: 1m 9s\n1410:\tlearn: 25073.5538811\ttest: 76110.8354388\tbest: 76090.0698880 (1345)\ttotal: 2m 45s\tremaining: 1m 9s\n1411:\tlearn: 25047.3271772\ttest: 76080.6413797\tbest: 76080.6413797 (1411)\ttotal: 2m 45s\tremaining: 1m 8s\n1412:\tlearn: 25038.4861747\ttest: 76077.7371328\tbest: 76077.7371328 (1412)\ttotal: 2m 45s\tremaining: 1m 8s\n1413:\tlearn: 25032.9623374\ttest: 76078.7173862\tbest: 76077.7371328 (1412)\ttotal: 2m 45s\tremaining: 1m 8s\n1414:\tlearn: 25024.9375714\ttest: 76077.4099037\tbest: 76077.4099037 (1414)\ttotal: 2m 45s\tremaining: 1m 8s\n1415:\tlearn: 25003.4139140\ttest: 76080.3878369\tbest: 76077.4099037 (1414)\ttotal: 2m 45s\tremaining: 1m 8s\n1416:\tlearn: 24994.4308901\ttest: 76080.4066499\tbest: 76077.4099037 (1414)\ttotal: 2m 46s\tremaining: 1m 8s\n1417:\tlearn: 24970.3435185\ttest: 76082.7544488\tbest: 76077.4099037 (1414)\ttotal: 2m 46s\tremaining: 1m 8s\n1418:\tlearn: 24951.2530287\ttest: 76085.6882658\tbest: 76077.4099037 (1414)\ttotal: 2m 46s\tremaining: 1m 8s\n1419:\tlearn: 24941.9491744\ttest: 76088.7754409\tbest: 76077.4099037 (1414)\ttotal: 2m 46s\tremaining: 1m 7s\n1420:\tlearn: 24933.2011266\ttest: 76083.0138792\tbest: 76077.4099037 (1414)\ttotal: 2m 46s\tremaining: 1m 7s\n1421:\tlearn: 24925.8074054\ttest: 76080.4230807\tbest: 76077.4099037 (1414)\ttotal: 2m 46s\tremaining: 1m 7s\n1422:\tlearn: 24898.6989119\ttest: 76081.0655231\tbest: 76077.4099037 (1414)\ttotal: 2m 46s\tremaining: 1m 7s\n1423:\tlearn: 24884.4175406\ttest: 76079.5961461\tbest: 76077.4099037 (1414)\ttotal: 2m 46s\tremaining: 1m 7s\n1424:\tlearn: 24882.3206268\ttest: 76081.3462475\tbest: 76077.4099037 (1414)\ttotal: 2m 47s\tremaining: 1m 7s\n1425:\tlearn: 24870.3382330\ttest: 76073.1159751\tbest: 76073.1159751 (1425)\ttotal: 2m 47s\tremaining: 1m 7s\n1426:\tlearn: 24867.1579497\ttest: 76074.0863802\tbest: 76073.1159751 (1425)\ttotal: 2m 47s\tremaining: 1m 7s\n1427:\tlearn: 24859.2273034\ttest: 76077.9722246\tbest: 76073.1159751 (1425)\ttotal: 2m 47s\tremaining: 1m 7s\n1428:\tlearn: 24852.0995868\ttest: 76075.0592167\tbest: 76073.1159751 (1425)\ttotal: 2m 47s\tremaining: 1m 6s\n1429:\tlearn: 24839.4455054\ttest: 76079.4304278\tbest: 76073.1159751 (1425)\ttotal: 2m 47s\tremaining: 1m 6s\n1430:\tlearn: 24831.1868380\ttest: 76080.1348000\tbest: 76073.1159751 (1425)\ttotal: 2m 47s\tremaining: 1m 6s\n1431:\tlearn: 24824.6521797\ttest: 76080.4703266\tbest: 76073.1159751 (1425)\ttotal: 2m 47s\tremaining: 1m 6s\n1432:\tlearn: 24819.2611545\ttest: 76078.1598339\tbest: 76073.1159751 (1425)\ttotal: 2m 47s\tremaining: 1m 6s\n1433:\tlearn: 24810.8857316\ttest: 76071.9260801\tbest: 76071.9260801 (1433)\ttotal: 2m 48s\tremaining: 1m 6s\n1434:\tlearn: 24797.6384995\ttest: 76074.6084476\tbest: 76071.9260801 (1433)\ttotal: 2m 48s\tremaining: 1m 6s\n1435:\tlearn: 24788.7149761\ttest: 76073.6295990\tbest: 76071.9260801 (1433)\ttotal: 2m 48s\tremaining: 1m 6s\n1436:\tlearn: 24776.7309183\ttest: 76070.4526390\tbest: 76070.4526390 (1436)\ttotal: 2m 48s\tremaining: 1m 5s\n1437:\tlearn: 24768.3645712\ttest: 76068.3412331\tbest: 76068.3412331 (1437)\ttotal: 2m 48s\tremaining: 1m 5s\n1438:\tlearn: 24750.1402862\ttest: 76073.5417094\tbest: 76068.3412331 (1437)\ttotal: 2m 48s\tremaining: 1m 5s\n1439:\tlearn: 24722.0977227\ttest: 76061.6507552\tbest: 76061.6507552 (1439)\ttotal: 2m 48s\tremaining: 1m 5s\n1440:\tlearn: 24716.7139357\ttest: 76057.1201103\tbest: 76057.1201103 (1440)\ttotal: 2m 48s\tremaining: 1m 5s\n1441:\tlearn: 24711.1484446\ttest: 76055.6408349\tbest: 76055.6408349 (1441)\ttotal: 2m 48s\tremaining: 1m 5s\n1442:\tlearn: 24701.2395491\ttest: 76051.2064007\tbest: 76051.2064007 (1442)\ttotal: 2m 49s\tremaining: 1m 5s\n1443:\tlearn: 24690.8570295\ttest: 76040.8153777\tbest: 76040.8153777 (1443)\ttotal: 2m 49s\tremaining: 1m 5s\n1444:\tlearn: 24668.0276125\ttest: 76041.7750311\tbest: 76040.8153777 (1443)\ttotal: 2m 49s\tremaining: 1m 5s\n1445:\tlearn: 24655.4828214\ttest: 76042.8574118\tbest: 76040.8153777 (1443)\ttotal: 2m 49s\tremaining: 1m 4s\n1446:\tlearn: 24640.9586184\ttest: 76037.6702186\tbest: 76037.6702186 (1446)\ttotal: 2m 49s\tremaining: 1m 4s\n1447:\tlearn: 24629.0702958\ttest: 76035.6192354\tbest: 76035.6192354 (1447)\ttotal: 2m 49s\tremaining: 1m 4s\n1448:\tlearn: 24622.4754223\ttest: 76035.5918626\tbest: 76035.5918626 (1448)\ttotal: 2m 49s\tremaining: 1m 4s\n1449:\tlearn: 24620.2634058\ttest: 76036.3927675\tbest: 76035.5918626 (1448)\ttotal: 2m 49s\tremaining: 1m 4s\n1450:\tlearn: 24612.5848584\ttest: 76036.4723583\tbest: 76035.5918626 (1448)\ttotal: 2m 50s\tremaining: 1m 4s\n1451:\tlearn: 24598.7549629\ttest: 76044.9925002\tbest: 76035.5918626 (1448)\ttotal: 2m 50s\tremaining: 1m 4s\n1452:\tlearn: 24598.2507710\ttest: 76044.7491051\tbest: 76035.5918626 (1448)\ttotal: 2m 50s\tremaining: 1m 4s\n1453:\tlearn: 24590.7733938\ttest: 76043.2757811\tbest: 76035.5918626 (1448)\ttotal: 2m 50s\tremaining: 1m 4s\n1454:\tlearn: 24577.0067797\ttest: 76045.6571423\tbest: 76035.5918626 (1448)\ttotal: 2m 50s\tremaining: 1m 3s\n1455:\tlearn: 24568.5243816\ttest: 76046.8738075\tbest: 76035.5918626 (1448)\ttotal: 2m 50s\tremaining: 1m 3s\n1456:\tlearn: 24558.1976876\ttest: 76045.6366801\tbest: 76035.5918626 (1448)\ttotal: 2m 50s\tremaining: 1m 3s\n1457:\tlearn: 24545.8361044\ttest: 76045.1241669\tbest: 76035.5918626 (1448)\ttotal: 2m 50s\tremaining: 1m 3s\n1458:\tlearn: 24534.8684336\ttest: 76041.8561257\tbest: 76035.5918626 (1448)\ttotal: 2m 51s\tremaining: 1m 3s\n1459:\tlearn: 24522.7129009\ttest: 76044.2564830\tbest: 76035.5918626 (1448)\ttotal: 2m 51s\tremaining: 1m 3s\n1460:\tlearn: 24518.1733083\ttest: 76040.9282918\tbest: 76035.5918626 (1448)\ttotal: 2m 51s\tremaining: 1m 3s\n1461:\tlearn: 24508.1223108\ttest: 76041.2598017\tbest: 76035.5918626 (1448)\ttotal: 2m 51s\tremaining: 1m 3s\n1462:\tlearn: 24488.4208397\ttest: 76045.5855354\tbest: 76035.5918626 (1448)\ttotal: 2m 51s\tremaining: 1m 2s\n1463:\tlearn: 24466.9826224\ttest: 76039.9714670\tbest: 76035.5918626 (1448)\ttotal: 2m 51s\tremaining: 1m 2s\n1464:\tlearn: 24457.6861663\ttest: 76040.7061454\tbest: 76035.5918626 (1448)\ttotal: 2m 51s\tremaining: 1m 2s\n1465:\tlearn: 24447.7311088\ttest: 76045.9038131\tbest: 76035.5918626 (1448)\ttotal: 2m 51s\tremaining: 1m 2s\n1466:\tlearn: 24443.1610297\ttest: 76047.1595161\tbest: 76035.5918626 (1448)\ttotal: 2m 51s\tremaining: 1m 2s\n1467:\tlearn: 24439.8980837\ttest: 76054.2749712\tbest: 76035.5918626 (1448)\ttotal: 2m 52s\tremaining: 1m 2s\n1468:\tlearn: 24434.8514530\ttest: 76054.4993068\tbest: 76035.5918626 (1448)\ttotal: 2m 52s\tremaining: 1m 2s\n1469:\tlearn: 24427.3976701\ttest: 76054.0061828\tbest: 76035.5918626 (1448)\ttotal: 2m 52s\tremaining: 1m 2s\n1470:\tlearn: 24418.7861433\ttest: 76054.0512976\tbest: 76035.5918626 (1448)\ttotal: 2m 52s\tremaining: 1m 1s\n1471:\tlearn: 24413.8974774\ttest: 76053.3882249\tbest: 76035.5918626 (1448)\ttotal: 2m 52s\tremaining: 1m 1s\n1472:\tlearn: 24409.9440451\ttest: 76050.9197634\tbest: 76035.5918626 (1448)\ttotal: 2m 52s\tremaining: 1m 1s\n1473:\tlearn: 24407.5131949\ttest: 76050.0903674\tbest: 76035.5918626 (1448)\ttotal: 2m 52s\tremaining: 1m 1s\n1474:\tlearn: 24391.9691992\ttest: 76048.6250048\tbest: 76035.5918626 (1448)\ttotal: 2m 52s\tremaining: 1m 1s\n1475:\tlearn: 24383.8892831\ttest: 76045.1501947\tbest: 76035.5918626 (1448)\ttotal: 2m 53s\tremaining: 1m 1s\n1476:\tlearn: 24380.1880891\ttest: 76044.2283894\tbest: 76035.5918626 (1448)\ttotal: 2m 53s\tremaining: 1m 1s\n1477:\tlearn: 24367.3771765\ttest: 76046.7226389\tbest: 76035.5918626 (1448)\ttotal: 2m 53s\tremaining: 1m 1s\n1478:\tlearn: 24346.4688602\ttest: 76040.8251966\tbest: 76035.5918626 (1448)\ttotal: 2m 53s\tremaining: 1m 1s\n1479:\tlearn: 24335.8681771\ttest: 76036.2270368\tbest: 76035.5918626 (1448)\ttotal: 2m 53s\tremaining: 1m\n1480:\tlearn: 24331.3724215\ttest: 76035.2867373\tbest: 76035.2867373 (1480)\ttotal: 2m 53s\tremaining: 1m\n1481:\tlearn: 24320.2773574\ttest: 76033.6596391\tbest: 76033.6596391 (1481)\ttotal: 2m 53s\tremaining: 1m\n1482:\tlearn: 24309.5694393\ttest: 76030.9517197\tbest: 76030.9517197 (1482)\ttotal: 2m 53s\tremaining: 1m\n1483:\tlearn: 24302.1022331\ttest: 76030.6260457\tbest: 76030.6260457 (1483)\ttotal: 2m 53s\tremaining: 1m\n1484:\tlearn: 24287.2686922\ttest: 76028.3384062\tbest: 76028.3384062 (1484)\ttotal: 2m 54s\tremaining: 1m\n1485:\tlearn: 24281.7180258\ttest: 76027.1564270\tbest: 76027.1564270 (1485)\ttotal: 2m 54s\tremaining: 1m\n1486:\tlearn: 24266.7723977\ttest: 76025.6169462\tbest: 76025.6169462 (1486)\ttotal: 2m 54s\tremaining: 1m\n1487:\tlearn: 24261.1216657\ttest: 76026.8058463\tbest: 76025.6169462 (1486)\ttotal: 2m 54s\tremaining: 1m\n1488:\tlearn: 24252.6627506\ttest: 76023.7420297\tbest: 76023.7420297 (1488)\ttotal: 2m 54s\tremaining: 59.9s\n1489:\tlearn: 24246.0438803\ttest: 76026.7889498\tbest: 76023.7420297 (1488)\ttotal: 2m 54s\tremaining: 59.8s\n1490:\tlearn: 24239.2415489\ttest: 76024.7482699\tbest: 76023.7420297 (1488)\ttotal: 2m 54s\tremaining: 59.6s\n1491:\tlearn: 24230.8073935\ttest: 76024.9591557\tbest: 76023.7420297 (1488)\ttotal: 2m 54s\tremaining: 59.5s\n1492:\tlearn: 24227.2031992\ttest: 76024.3572914\tbest: 76023.7420297 (1488)\ttotal: 2m 54s\tremaining: 59.4s\n1493:\tlearn: 24213.0134458\ttest: 76022.3054519\tbest: 76022.3054519 (1493)\ttotal: 2m 55s\tremaining: 59.3s\n1494:\tlearn: 24199.4563172\ttest: 76021.3367245\tbest: 76021.3367245 (1494)\ttotal: 2m 55s\tremaining: 59.2s\n1495:\tlearn: 24174.3886998\ttest: 76028.0743841\tbest: 76021.3367245 (1494)\ttotal: 2m 55s\tremaining: 59.1s\n1496:\tlearn: 24162.6523333\ttest: 76026.2660801\tbest: 76021.3367245 (1494)\ttotal: 2m 55s\tremaining: 59s\n1497:\tlearn: 24158.7328200\ttest: 76027.8526306\tbest: 76021.3367245 (1494)\ttotal: 2m 55s\tremaining: 58.8s\n1498:\tlearn: 24151.5604263\ttest: 76024.7819109\tbest: 76021.3367245 (1494)\ttotal: 2m 55s\tremaining: 58.7s\n1499:\tlearn: 24136.3291458\ttest: 76018.0700403\tbest: 76018.0700403 (1499)\ttotal: 2m 55s\tremaining: 58.6s\n1500:\tlearn: 24126.4859928\ttest: 76015.7931057\tbest: 76015.7931057 (1500)\ttotal: 2m 55s\tremaining: 58.5s\n1501:\tlearn: 24126.1072825\ttest: 76016.3175254\tbest: 76015.7931057 (1500)\ttotal: 2m 56s\tremaining: 58.4s\n1502:\tlearn: 24118.8957137\ttest: 76013.0742328\tbest: 76013.0742328 (1502)\ttotal: 2m 56s\tremaining: 58.3s\n1503:\tlearn: 24100.5380832\ttest: 76020.0322794\tbest: 76013.0742328 (1502)\ttotal: 2m 56s\tremaining: 58.2s\n1504:\tlearn: 24091.3723418\ttest: 76018.1304082\tbest: 76013.0742328 (1502)\ttotal: 2m 56s\tremaining: 58s\n1505:\tlearn: 24087.8077515\ttest: 76017.1635949\tbest: 76013.0742328 (1502)\ttotal: 2m 56s\tremaining: 57.9s\n1506:\tlearn: 24085.3475165\ttest: 76015.4898421\tbest: 76013.0742328 (1502)\ttotal: 2m 56s\tremaining: 57.8s\n1507:\tlearn: 24077.4689323\ttest: 76015.0560263\tbest: 76013.0742328 (1502)\ttotal: 2m 56s\tremaining: 57.7s\n1508:\tlearn: 24069.2219846\ttest: 76015.6819720\tbest: 76013.0742328 (1502)\ttotal: 2m 56s\tremaining: 57.5s\n1509:\tlearn: 24063.5213111\ttest: 76013.6144597\tbest: 76013.0742328 (1502)\ttotal: 2m 56s\tremaining: 57.4s\n1510:\tlearn: 24054.1678638\ttest: 76016.4731403\tbest: 76013.0742328 (1502)\ttotal: 2m 57s\tremaining: 57.3s\n1511:\tlearn: 24035.8593756\ttest: 76016.5836486\tbest: 76013.0742328 (1502)\ttotal: 2m 57s\tremaining: 57.2s\n1512:\tlearn: 24033.9714765\ttest: 76018.5615106\tbest: 76013.0742328 (1502)\ttotal: 2m 57s\tremaining: 57.1s\n1513:\tlearn: 24014.6150883\ttest: 76011.6443786\tbest: 76011.6443786 (1513)\ttotal: 2m 57s\tremaining: 57s\n1514:\tlearn: 24004.1383176\ttest: 76015.0415264\tbest: 76011.6443786 (1513)\ttotal: 2m 57s\tremaining: 56.9s\n1515:\tlearn: 23999.4147797\ttest: 76014.3247410\tbest: 76011.6443786 (1513)\ttotal: 2m 57s\tremaining: 56.7s\n1516:\tlearn: 23987.2170761\ttest: 76011.1448429\tbest: 76011.1448429 (1516)\ttotal: 2m 57s\tremaining: 56.6s\n1517:\tlearn: 23981.4104877\ttest: 76015.7617641\tbest: 76011.1448429 (1516)\ttotal: 2m 57s\tremaining: 56.5s\n1518:\tlearn: 23976.4119670\ttest: 76013.8363373\tbest: 76011.1448429 (1516)\ttotal: 2m 57s\tremaining: 56.4s\n1519:\tlearn: 23966.3929011\ttest: 76014.8442416\tbest: 76011.1448429 (1516)\ttotal: 2m 58s\tremaining: 56.2s\n1520:\tlearn: 23953.4930072\ttest: 76011.0309552\tbest: 76011.0309552 (1520)\ttotal: 2m 58s\tremaining: 56.1s\n1521:\tlearn: 23949.0656367\ttest: 76010.9231548\tbest: 76010.9231548 (1521)\ttotal: 2m 58s\tremaining: 56s\n1522:\tlearn: 23944.1596642\ttest: 76007.0169925\tbest: 76007.0169925 (1522)\ttotal: 2m 58s\tremaining: 55.9s\n1523:\tlearn: 23941.4779851\ttest: 76009.4120706\tbest: 76007.0169925 (1522)\ttotal: 2m 58s\tremaining: 55.8s\n1524:\tlearn: 23933.2492319\ttest: 76008.2304587\tbest: 76007.0169925 (1522)\ttotal: 2m 58s\tremaining: 55.7s\n1525:\tlearn: 23928.9424617\ttest: 76006.7723247\tbest: 76006.7723247 (1525)\ttotal: 2m 58s\tremaining: 55.5s\n1526:\tlearn: 23921.7650936\ttest: 76005.4722434\tbest: 76005.4722434 (1526)\ttotal: 2m 58s\tremaining: 55.4s\n1527:\tlearn: 23914.5554454\ttest: 76003.5281091\tbest: 76003.5281091 (1527)\ttotal: 2m 59s\tremaining: 55.3s\n1528:\tlearn: 23903.6757874\ttest: 76007.2667616\tbest: 76003.5281091 (1527)\ttotal: 2m 59s\tremaining: 55.2s\n1529:\tlearn: 23896.9786616\ttest: 76004.1141503\tbest: 76003.5281091 (1527)\ttotal: 2m 59s\tremaining: 55.1s\n1530:\tlearn: 23891.5420599\ttest: 76004.6005945\tbest: 76003.5281091 (1527)\ttotal: 2m 59s\tremaining: 55s\n1531:\tlearn: 23878.2993482\ttest: 76011.9718714\tbest: 76003.5281091 (1527)\ttotal: 2m 59s\tremaining: 54.9s\n1532:\tlearn: 23869.3164846\ttest: 76009.6390948\tbest: 76003.5281091 (1527)\ttotal: 2m 59s\tremaining: 54.8s\n1533:\tlearn: 23852.4005528\ttest: 76002.7323176\tbest: 76002.7323176 (1533)\ttotal: 2m 59s\tremaining: 54.7s\n1534:\tlearn: 23851.0035852\ttest: 76002.2658577\tbest: 76002.2658577 (1534)\ttotal: 3m\tremaining: 54.5s\n1535:\tlearn: 23845.6637809\ttest: 75998.9205241\tbest: 75998.9205241 (1535)\ttotal: 3m\tremaining: 54.4s\n1536:\tlearn: 23830.2539099\ttest: 75988.9402156\tbest: 75988.9402156 (1536)\ttotal: 3m\tremaining: 54.3s\n1537:\tlearn: 23825.0346077\ttest: 75987.5626045\tbest: 75987.5626045 (1537)\ttotal: 3m\tremaining: 54.2s\n1538:\tlearn: 23814.0153593\ttest: 75982.4078094\tbest: 75982.4078094 (1538)\ttotal: 3m\tremaining: 54.1s\n1539:\tlearn: 23802.1348980\ttest: 75987.5141408\tbest: 75982.4078094 (1538)\ttotal: 3m\tremaining: 53.9s\n1540:\tlearn: 23795.6886435\ttest: 75987.1110447\tbest: 75982.4078094 (1538)\ttotal: 3m\tremaining: 53.8s\n1541:\tlearn: 23782.4809606\ttest: 75982.5360668\tbest: 75982.4078094 (1538)\ttotal: 3m\tremaining: 53.7s\n1542:\tlearn: 23775.6442702\ttest: 75985.0769963\tbest: 75982.4078094 (1538)\ttotal: 3m 1s\tremaining: 53.6s\n1543:\tlearn: 23770.8224799\ttest: 75989.4662818\tbest: 75982.4078094 (1538)\ttotal: 3m 1s\tremaining: 53.5s\n1544:\tlearn: 23762.9165319\ttest: 75986.3964067\tbest: 75982.4078094 (1538)\ttotal: 3m 1s\tremaining: 53.4s\n1545:\tlearn: 23755.2403267\ttest: 75978.9052028\tbest: 75978.9052028 (1545)\ttotal: 3m 1s\tremaining: 53.2s\n1546:\tlearn: 23740.2237918\ttest: 75982.0075993\tbest: 75978.9052028 (1545)\ttotal: 3m 1s\tremaining: 53.1s\n1547:\tlearn: 23723.5791616\ttest: 75976.0663274\tbest: 75976.0663274 (1547)\ttotal: 3m 1s\tremaining: 53s\n1548:\tlearn: 23709.2832128\ttest: 75972.7812557\tbest: 75972.7812557 (1548)\ttotal: 3m 1s\tremaining: 52.9s\n1549:\tlearn: 23698.3545211\ttest: 75971.2513918\tbest: 75971.2513918 (1549)\ttotal: 3m 1s\tremaining: 52.8s\n1550:\tlearn: 23684.6458103\ttest: 75968.2920809\tbest: 75968.2920809 (1550)\ttotal: 3m 1s\tremaining: 52.7s\n1551:\tlearn: 23679.6696774\ttest: 75965.0283843\tbest: 75965.0283843 (1551)\ttotal: 3m 2s\tremaining: 52.6s\n1552:\tlearn: 23667.0486300\ttest: 75964.8873283\tbest: 75964.8873283 (1552)\ttotal: 3m 2s\tremaining: 52.4s\n1553:\tlearn: 23653.0873089\ttest: 75964.5747645\tbest: 75964.5747645 (1553)\ttotal: 3m 2s\tremaining: 52.3s\n1554:\tlearn: 23639.2964616\ttest: 75967.0746528\tbest: 75964.5747645 (1553)\ttotal: 3m 2s\tremaining: 52.2s\n1555:\tlearn: 23623.6713074\ttest: 75968.5989158\tbest: 75964.5747645 (1553)\ttotal: 3m 2s\tremaining: 52.1s\n1556:\tlearn: 23607.5706180\ttest: 75968.2275278\tbest: 75964.5747645 (1553)\ttotal: 3m 2s\tremaining: 52s\n1557:\tlearn: 23604.0804109\ttest: 75967.9613652\tbest: 75964.5747645 (1553)\ttotal: 3m 2s\tremaining: 51.9s\n1558:\tlearn: 23596.5982541\ttest: 75968.3897293\tbest: 75964.5747645 (1553)\ttotal: 3m 2s\tremaining: 51.7s\n1559:\tlearn: 23590.2845522\ttest: 75968.1554467\tbest: 75964.5747645 (1553)\ttotal: 3m 3s\tremaining: 51.6s\n1560:\tlearn: 23570.1381425\ttest: 75961.8441250\tbest: 75961.8441250 (1560)\ttotal: 3m 3s\tremaining: 51.5s\n1561:\tlearn: 23555.5993365\ttest: 75966.8336254\tbest: 75961.8441250 (1560)\ttotal: 3m 3s\tremaining: 51.4s\n1562:\tlearn: 23540.7337089\ttest: 75957.1171231\tbest: 75957.1171231 (1562)\ttotal: 3m 3s\tremaining: 51.3s\n1563:\tlearn: 23535.8195591\ttest: 75957.0193874\tbest: 75957.0193874 (1563)\ttotal: 3m 3s\tremaining: 51.2s\n1564:\tlearn: 23532.3080214\ttest: 75956.2405963\tbest: 75956.2405963 (1564)\ttotal: 3m 3s\tremaining: 51s\n1565:\tlearn: 23530.1067679\ttest: 75956.6923570\tbest: 75956.2405963 (1564)\ttotal: 3m 3s\tremaining: 50.9s\n1566:\tlearn: 23521.2581956\ttest: 75954.7550166\tbest: 75954.7550166 (1566)\ttotal: 3m 3s\tremaining: 50.8s\n1567:\tlearn: 23504.4599283\ttest: 75962.9529757\tbest: 75954.7550166 (1566)\ttotal: 3m 3s\tremaining: 50.7s\n1568:\tlearn: 23501.5711667\ttest: 75961.9185036\tbest: 75954.7550166 (1566)\ttotal: 3m 4s\tremaining: 50.6s\n1569:\tlearn: 23480.9861740\ttest: 75967.0125193\tbest: 75954.7550166 (1566)\ttotal: 3m 4s\tremaining: 50.5s\n1570:\tlearn: 23479.0110698\ttest: 75964.4314890\tbest: 75954.7550166 (1566)\ttotal: 3m 4s\tremaining: 50.4s\n1571:\tlearn: 23476.8693728\ttest: 75962.8270729\tbest: 75954.7550166 (1566)\ttotal: 3m 4s\tremaining: 50.2s\n1572:\tlearn: 23471.3330778\ttest: 75961.6538091\tbest: 75954.7550166 (1566)\ttotal: 3m 4s\tremaining: 50.1s\n1573:\tlearn: 23455.2673530\ttest: 75953.7587541\tbest: 75953.7587541 (1573)\ttotal: 3m 4s\tremaining: 50s\n1574:\tlearn: 23445.4716216\ttest: 75957.4848724\tbest: 75953.7587541 (1573)\ttotal: 3m 4s\tremaining: 49.9s\n1575:\tlearn: 23436.8518823\ttest: 75952.3043094\tbest: 75952.3043094 (1575)\ttotal: 3m 4s\tremaining: 49.8s\n1576:\tlearn: 23433.5932517\ttest: 75947.6159153\tbest: 75947.6159153 (1576)\ttotal: 3m 5s\tremaining: 49.6s\n1577:\tlearn: 23426.5957417\ttest: 75949.3317550\tbest: 75947.6159153 (1576)\ttotal: 3m 5s\tremaining: 49.5s\n1578:\tlearn: 23371.0681248\ttest: 75950.2187255\tbest: 75947.6159153 (1576)\ttotal: 3m 5s\tremaining: 49.4s\n1579:\tlearn: 23355.6029452\ttest: 75951.2672659\tbest: 75947.6159153 (1576)\ttotal: 3m 5s\tremaining: 49.3s\n1580:\tlearn: 23348.0664631\ttest: 75947.0930890\tbest: 75947.0930890 (1580)\ttotal: 3m 5s\tremaining: 49.2s\n1581:\tlearn: 23334.3407774\ttest: 75944.0043515\tbest: 75944.0043515 (1581)\ttotal: 3m 5s\tremaining: 49.1s\n1582:\tlearn: 23329.6562528\ttest: 75940.9504343\tbest: 75940.9504343 (1582)\ttotal: 3m 5s\tremaining: 48.9s\n1583:\tlearn: 23320.1089647\ttest: 75940.8612314\tbest: 75940.8612314 (1583)\ttotal: 3m 5s\tremaining: 48.8s\n1584:\tlearn: 23309.7786951\ttest: 75947.1031571\tbest: 75940.8612314 (1583)\ttotal: 3m 6s\tremaining: 48.7s\n1585:\tlearn: 23297.3229695\ttest: 75943.5915659\tbest: 75940.8612314 (1583)\ttotal: 3m 6s\tremaining: 48.6s\n1586:\tlearn: 23292.5229251\ttest: 75940.9924736\tbest: 75940.8612314 (1583)\ttotal: 3m 6s\tremaining: 48.5s\n1587:\tlearn: 23278.4543043\ttest: 75942.0580617\tbest: 75940.8612314 (1583)\ttotal: 3m 6s\tremaining: 48.3s\n1588:\tlearn: 23274.1591029\ttest: 75939.0568951\tbest: 75939.0568951 (1588)\ttotal: 3m 6s\tremaining: 48.2s\n1589:\tlearn: 23264.3707418\ttest: 75938.6042582\tbest: 75938.6042582 (1589)\ttotal: 3m 6s\tremaining: 48.1s\n1590:\tlearn: 23258.9688207\ttest: 75945.9656980\tbest: 75938.6042582 (1589)\ttotal: 3m 6s\tremaining: 48s\n1591:\tlearn: 23239.4449842\ttest: 75939.1648468\tbest: 75938.6042582 (1589)\ttotal: 3m 6s\tremaining: 47.9s\n1592:\tlearn: 23232.3595213\ttest: 75929.1586835\tbest: 75929.1586835 (1592)\ttotal: 3m 7s\tremaining: 47.8s\n1593:\tlearn: 23225.8947655\ttest: 75930.9257236\tbest: 75929.1586835 (1592)\ttotal: 3m 7s\tremaining: 47.7s\n1594:\tlearn: 23224.7116460\ttest: 75930.3047782\tbest: 75929.1586835 (1592)\ttotal: 3m 7s\tremaining: 47.5s\n1595:\tlearn: 23222.1842565\ttest: 75925.1138216\tbest: 75925.1138216 (1595)\ttotal: 3m 7s\tremaining: 47.4s\n1596:\tlearn: 23214.9566779\ttest: 75922.0780724\tbest: 75922.0780724 (1596)\ttotal: 3m 7s\tremaining: 47.3s\n1597:\tlearn: 23208.6938068\ttest: 75922.1484042\tbest: 75922.0780724 (1596)\ttotal: 3m 7s\tremaining: 47.2s\n1598:\tlearn: 23203.9161598\ttest: 75921.3696398\tbest: 75921.3696398 (1598)\ttotal: 3m 7s\tremaining: 47.1s\n1599:\tlearn: 23195.0487131\ttest: 75919.7177514\tbest: 75919.7177514 (1599)\ttotal: 3m 7s\tremaining: 47s\n1600:\tlearn: 23188.2095544\ttest: 75920.9792183\tbest: 75919.7177514 (1599)\ttotal: 3m 8s\tremaining: 46.9s\n1601:\tlearn: 23178.6362845\ttest: 75923.7194655\tbest: 75919.7177514 (1599)\ttotal: 3m 8s\tremaining: 46.7s\n1602:\tlearn: 23171.7617254\ttest: 75922.7882822\tbest: 75919.7177514 (1599)\ttotal: 3m 8s\tremaining: 46.6s\n1603:\tlearn: 23159.0417884\ttest: 75918.1071950\tbest: 75918.1071950 (1603)\ttotal: 3m 8s\tremaining: 46.5s\n1604:\tlearn: 23152.4297498\ttest: 75917.7967487\tbest: 75917.7967487 (1604)\ttotal: 3m 8s\tremaining: 46.4s\n1605:\tlearn: 23147.7494369\ttest: 75917.0368183\tbest: 75917.0368183 (1605)\ttotal: 3m 8s\tremaining: 46.2s\n1606:\tlearn: 23146.1425957\ttest: 75916.7536744\tbest: 75916.7536744 (1606)\ttotal: 3m 8s\tremaining: 46.1s\n1607:\tlearn: 23133.9146723\ttest: 75920.1736738\tbest: 75916.7536744 (1606)\ttotal: 3m 8s\tremaining: 46s\n1608:\tlearn: 23130.5948432\ttest: 75917.9946996\tbest: 75916.7536744 (1606)\ttotal: 3m 8s\tremaining: 45.9s\n1609:\tlearn: 23120.1497241\ttest: 75917.5086407\tbest: 75916.7536744 (1606)\ttotal: 3m 9s\tremaining: 45.8s\n1610:\tlearn: 23115.1059612\ttest: 75919.7776685\tbest: 75916.7536744 (1606)\ttotal: 3m 9s\tremaining: 45.7s\n1611:\tlearn: 23105.9966516\ttest: 75919.9421942\tbest: 75916.7536744 (1606)\ttotal: 3m 9s\tremaining: 45.6s\n1612:\tlearn: 23074.4044161\ttest: 75916.6745957\tbest: 75916.6745957 (1612)\ttotal: 3m 9s\tremaining: 45.4s\n1613:\tlearn: 23069.1151557\ttest: 75915.8276268\tbest: 75915.8276268 (1613)\ttotal: 3m 9s\tremaining: 45.3s\n1614:\tlearn: 23050.0552106\ttest: 75917.8241288\tbest: 75915.8276268 (1613)\ttotal: 3m 9s\tremaining: 45.2s\n1615:\tlearn: 23037.3087012\ttest: 75911.9084477\tbest: 75911.9084477 (1615)\ttotal: 3m 9s\tremaining: 45.1s\n1616:\tlearn: 23031.3308603\ttest: 75912.8023112\tbest: 75911.9084477 (1615)\ttotal: 3m 9s\tremaining: 45s\n1617:\tlearn: 23028.3433461\ttest: 75913.5568316\tbest: 75911.9084477 (1615)\ttotal: 3m 10s\tremaining: 44.9s\n1618:\tlearn: 23018.2715186\ttest: 75917.2382915\tbest: 75911.9084477 (1615)\ttotal: 3m 10s\tremaining: 44.8s\n1619:\tlearn: 23013.0422742\ttest: 75916.4940615\tbest: 75911.9084477 (1615)\ttotal: 3m 10s\tremaining: 44.6s\n1620:\tlearn: 23003.3786528\ttest: 75916.8864049\tbest: 75911.9084477 (1615)\ttotal: 3m 10s\tremaining: 44.5s\n1621:\tlearn: 22992.9085210\ttest: 75912.3015680\tbest: 75911.9084477 (1615)\ttotal: 3m 10s\tremaining: 44.4s\n1622:\tlearn: 22980.2541241\ttest: 75907.2741425\tbest: 75907.2741425 (1622)\ttotal: 3m 10s\tremaining: 44.3s\n1623:\tlearn: 22976.2427391\ttest: 75904.5905811\tbest: 75904.5905811 (1623)\ttotal: 3m 10s\tremaining: 44.2s\n1624:\tlearn: 22974.5290817\ttest: 75904.5556622\tbest: 75904.5556622 (1624)\ttotal: 3m 10s\tremaining: 44s\n1625:\tlearn: 22972.9241774\ttest: 75905.0837591\tbest: 75904.5556622 (1624)\ttotal: 3m 10s\tremaining: 43.9s\n1626:\tlearn: 22966.2790165\ttest: 75906.4863690\tbest: 75904.5556622 (1624)\ttotal: 3m 11s\tremaining: 43.8s\n1627:\tlearn: 22963.6753533\ttest: 75904.3596819\tbest: 75904.3596819 (1627)\ttotal: 3m 11s\tremaining: 43.7s\n1628:\tlearn: 22957.7223789\ttest: 75902.4289103\tbest: 75902.4289103 (1628)\ttotal: 3m 11s\tremaining: 43.6s\n1629:\tlearn: 22946.4398242\ttest: 75900.0887071\tbest: 75900.0887071 (1629)\ttotal: 3m 11s\tremaining: 43.5s\n1630:\tlearn: 22938.1018383\ttest: 75898.9231587\tbest: 75898.9231587 (1630)\ttotal: 3m 11s\tremaining: 43.3s\n1631:\tlearn: 22935.4343607\ttest: 75898.5796114\tbest: 75898.5796114 (1631)\ttotal: 3m 11s\tremaining: 43.2s\n1632:\tlearn: 22927.0663291\ttest: 75897.3808894\tbest: 75897.3808894 (1632)\ttotal: 3m 11s\tremaining: 43.1s\n1633:\tlearn: 22912.2551772\ttest: 75888.5471042\tbest: 75888.5471042 (1633)\ttotal: 3m 11s\tremaining: 43s\n1634:\tlearn: 22905.4790625\ttest: 75889.1911097\tbest: 75888.5471042 (1633)\ttotal: 3m 11s\tremaining: 42.9s\n1635:\tlearn: 22894.6030111\ttest: 75878.9757461\tbest: 75878.9757461 (1635)\ttotal: 3m 12s\tremaining: 42.7s\n1636:\tlearn: 22888.4680518\ttest: 75880.9194704\tbest: 75878.9757461 (1635)\ttotal: 3m 12s\tremaining: 42.6s\n1637:\tlearn: 22875.6038018\ttest: 75877.8254511\tbest: 75877.8254511 (1637)\ttotal: 3m 12s\tremaining: 42.5s\n1638:\tlearn: 22861.2173537\ttest: 75874.3426251\tbest: 75874.3426251 (1638)\ttotal: 3m 12s\tremaining: 42.4s\n1639:\tlearn: 22851.9103310\ttest: 75867.2208651\tbest: 75867.2208651 (1639)\ttotal: 3m 12s\tremaining: 42.3s\n1640:\tlearn: 22844.5391112\ttest: 75867.0308052\tbest: 75867.0308052 (1640)\ttotal: 3m 12s\tremaining: 42.1s\n1641:\tlearn: 22837.7376783\ttest: 75872.7479413\tbest: 75867.0308052 (1640)\ttotal: 3m 12s\tremaining: 42s\n1642:\tlearn: 22820.4397233\ttest: 75871.4879538\tbest: 75867.0308052 (1640)\ttotal: 3m 12s\tremaining: 41.9s\n1643:\tlearn: 22810.7876611\ttest: 75873.9125230\tbest: 75867.0308052 (1640)\ttotal: 3m 12s\tremaining: 41.8s\n1644:\tlearn: 22808.9573306\ttest: 75874.8310968\tbest: 75867.0308052 (1640)\ttotal: 3m 13s\tremaining: 41.7s\n1645:\tlearn: 22803.4608585\ttest: 75872.9893295\tbest: 75867.0308052 (1640)\ttotal: 3m 13s\tremaining: 41.6s\n1646:\tlearn: 22797.7357031\ttest: 75873.8655870\tbest: 75867.0308052 (1640)\ttotal: 3m 13s\tremaining: 41.5s\n1647:\tlearn: 22793.1990263\ttest: 75874.7912051\tbest: 75867.0308052 (1640)\ttotal: 3m 13s\tremaining: 41.3s\n1648:\tlearn: 22787.8742369\ttest: 75874.9068190\tbest: 75867.0308052 (1640)\ttotal: 3m 13s\tremaining: 41.2s\n1649:\tlearn: 22773.1448870\ttest: 75877.6952529\tbest: 75867.0308052 (1640)\ttotal: 3m 13s\tremaining: 41.1s\n1650:\tlearn: 22766.9910863\ttest: 75878.4112153\tbest: 75867.0308052 (1640)\ttotal: 3m 13s\tremaining: 41s\n1651:\tlearn: 22754.1348352\ttest: 75875.4431798\tbest: 75867.0308052 (1640)\ttotal: 3m 13s\tremaining: 40.9s\n1652:\tlearn: 22746.3531254\ttest: 75874.8217687\tbest: 75867.0308052 (1640)\ttotal: 3m 14s\tremaining: 40.7s\n1653:\tlearn: 22741.0521899\ttest: 75873.7463023\tbest: 75867.0308052 (1640)\ttotal: 3m 14s\tremaining: 40.6s\n1654:\tlearn: 22734.3925015\ttest: 75874.6702315\tbest: 75867.0308052 (1640)\ttotal: 3m 14s\tremaining: 40.5s\n1655:\tlearn: 22730.2473764\ttest: 75874.7644822\tbest: 75867.0308052 (1640)\ttotal: 3m 14s\tremaining: 40.4s\n1656:\tlearn: 22722.7847379\ttest: 75874.6097043\tbest: 75867.0308052 (1640)\ttotal: 3m 14s\tremaining: 40.3s\n1657:\tlearn: 22716.1421726\ttest: 75872.5917546\tbest: 75867.0308052 (1640)\ttotal: 3m 14s\tremaining: 40.2s\n1658:\tlearn: 22708.1492800\ttest: 75871.4034870\tbest: 75867.0308052 (1640)\ttotal: 3m 14s\tremaining: 40s\n1659:\tlearn: 22699.7521266\ttest: 75872.3099537\tbest: 75867.0308052 (1640)\ttotal: 3m 14s\tremaining: 39.9s\n1660:\tlearn: 22691.2061044\ttest: 75873.3605825\tbest: 75867.0308052 (1640)\ttotal: 3m 14s\tremaining: 39.8s\n1661:\tlearn: 22663.0359825\ttest: 75878.1424545\tbest: 75867.0308052 (1640)\ttotal: 3m 15s\tremaining: 39.7s\n1662:\tlearn: 22656.5471288\ttest: 75876.4333303\tbest: 75867.0308052 (1640)\ttotal: 3m 15s\tremaining: 39.5s\n1663:\tlearn: 22651.2956606\ttest: 75876.3722323\tbest: 75867.0308052 (1640)\ttotal: 3m 15s\tremaining: 39.4s\n1664:\tlearn: 22646.7053744\ttest: 75876.8668860\tbest: 75867.0308052 (1640)\ttotal: 3m 15s\tremaining: 39.3s\n1665:\tlearn: 22632.3865334\ttest: 75883.0677136\tbest: 75867.0308052 (1640)\ttotal: 3m 15s\tremaining: 39.2s\n1666:\tlearn: 22616.8746973\ttest: 75880.2368577\tbest: 75867.0308052 (1640)\ttotal: 3m 15s\tremaining: 39.1s\n1667:\tlearn: 22610.5779893\ttest: 75878.4713554\tbest: 75867.0308052 (1640)\ttotal: 3m 15s\tremaining: 39s\n1668:\tlearn: 22595.9533830\ttest: 75870.7049391\tbest: 75867.0308052 (1640)\ttotal: 3m 15s\tremaining: 38.9s\n1669:\tlearn: 22584.9101627\ttest: 75874.8891888\tbest: 75867.0308052 (1640)\ttotal: 3m 16s\tremaining: 38.7s\n1670:\tlearn: 22579.1167799\ttest: 75875.0238640\tbest: 75867.0308052 (1640)\ttotal: 3m 16s\tremaining: 38.6s\n1671:\tlearn: 22570.9345835\ttest: 75875.1928962\tbest: 75867.0308052 (1640)\ttotal: 3m 16s\tremaining: 38.5s\n1672:\tlearn: 22566.7479281\ttest: 75877.0783930\tbest: 75867.0308052 (1640)\ttotal: 3m 16s\tremaining: 38.4s\n1673:\tlearn: 22549.6786119\ttest: 75876.5789435\tbest: 75867.0308052 (1640)\ttotal: 3m 16s\tremaining: 38.3s\n1674:\tlearn: 22540.3426950\ttest: 75878.3101261\tbest: 75867.0308052 (1640)\ttotal: 3m 16s\tremaining: 38.2s\n1675:\tlearn: 22536.9879010\ttest: 75878.4037244\tbest: 75867.0308052 (1640)\ttotal: 3m 16s\tremaining: 38s\n1676:\tlearn: 22529.7947442\ttest: 75875.6721626\tbest: 75867.0308052 (1640)\ttotal: 3m 16s\tremaining: 37.9s\n1677:\tlearn: 22516.5084303\ttest: 75870.8018766\tbest: 75867.0308052 (1640)\ttotal: 3m 17s\tremaining: 37.8s\n1678:\tlearn: 22499.2647658\ttest: 75864.2805377\tbest: 75864.2805377 (1678)\ttotal: 3m 17s\tremaining: 37.7s\n1679:\tlearn: 22485.4241567\ttest: 75869.7504118\tbest: 75864.2805377 (1678)\ttotal: 3m 17s\tremaining: 37.6s\n1680:\tlearn: 22470.4552926\ttest: 75872.2404761\tbest: 75864.2805377 (1678)\ttotal: 3m 17s\tremaining: 37.5s\n1681:\tlearn: 22460.0318388\ttest: 75870.6621689\tbest: 75864.2805377 (1678)\ttotal: 3m 17s\tremaining: 37.4s\n1682:\tlearn: 22457.3259824\ttest: 75871.9772070\tbest: 75864.2805377 (1678)\ttotal: 3m 17s\tremaining: 37.3s\n1683:\tlearn: 22446.6485469\ttest: 75873.2424670\tbest: 75864.2805377 (1678)\ttotal: 3m 17s\tremaining: 37.1s\n1684:\tlearn: 22440.5705769\ttest: 75872.4911756\tbest: 75864.2805377 (1678)\ttotal: 3m 18s\tremaining: 37s\n1685:\tlearn: 22436.3193982\ttest: 75872.8948438\tbest: 75864.2805377 (1678)\ttotal: 3m 18s\tremaining: 36.9s\n1686:\tlearn: 22427.8877316\ttest: 75870.0793328\tbest: 75864.2805377 (1678)\ttotal: 3m 18s\tremaining: 36.8s\n1687:\tlearn: 22420.6035424\ttest: 75871.7619021\tbest: 75864.2805377 (1678)\ttotal: 3m 18s\tremaining: 36.7s\n1688:\tlearn: 22411.8304169\ttest: 75872.9979500\tbest: 75864.2805377 (1678)\ttotal: 3m 18s\tremaining: 36.6s\n1689:\tlearn: 22388.8162506\ttest: 75882.7442125\tbest: 75864.2805377 (1678)\ttotal: 3m 18s\tremaining: 36.4s\n1690:\tlearn: 22378.0964509\ttest: 75880.2117152\tbest: 75864.2805377 (1678)\ttotal: 3m 18s\tremaining: 36.3s\n1691:\tlearn: 22371.3606995\ttest: 75875.4400839\tbest: 75864.2805377 (1678)\ttotal: 3m 18s\tremaining: 36.2s\n1692:\tlearn: 22364.1795566\ttest: 75877.7455115\tbest: 75864.2805377 (1678)\ttotal: 3m 19s\tremaining: 36.1s\n1693:\tlearn: 22350.0794424\ttest: 75878.3008847\tbest: 75864.2805377 (1678)\ttotal: 3m 19s\tremaining: 36s\n1694:\tlearn: 22341.1784630\ttest: 75879.3357928\tbest: 75864.2805377 (1678)\ttotal: 3m 19s\tremaining: 35.9s\n1695:\tlearn: 22328.6995850\ttest: 75885.2625572\tbest: 75864.2805377 (1678)\ttotal: 3m 19s\tremaining: 35.7s\n1696:\tlearn: 22312.9081737\ttest: 75882.8965587\tbest: 75864.2805377 (1678)\ttotal: 3m 19s\tremaining: 35.6s\n1697:\tlearn: 22308.4283971\ttest: 75880.1591495\tbest: 75864.2805377 (1678)\ttotal: 3m 19s\tremaining: 35.5s\n1698:\tlearn: 22304.0551943\ttest: 75878.0962850\tbest: 75864.2805377 (1678)\ttotal: 3m 19s\tremaining: 35.4s\n1699:\tlearn: 22280.9559315\ttest: 75878.0184646\tbest: 75864.2805377 (1678)\ttotal: 3m 19s\tremaining: 35.3s\n1700:\tlearn: 22276.5489553\ttest: 75880.3748319\tbest: 75864.2805377 (1678)\ttotal: 3m 19s\tremaining: 35.1s\n1701:\tlearn: 22264.4628748\ttest: 75884.2733082\tbest: 75864.2805377 (1678)\ttotal: 3m 20s\tremaining: 35s\n1702:\tlearn: 22253.7025033\ttest: 75887.1623285\tbest: 75864.2805377 (1678)\ttotal: 3m 20s\tremaining: 34.9s\n1703:\tlearn: 22243.2859481\ttest: 75888.9957785\tbest: 75864.2805377 (1678)\ttotal: 3m 20s\tremaining: 34.8s\n1704:\tlearn: 22235.8615309\ttest: 75889.7801357\tbest: 75864.2805377 (1678)\ttotal: 3m 20s\tremaining: 34.7s\n1705:\tlearn: 22231.1211867\ttest: 75890.7652087\tbest: 75864.2805377 (1678)\ttotal: 3m 20s\tremaining: 34.6s\n1706:\tlearn: 22215.5811383\ttest: 75900.2191524\tbest: 75864.2805377 (1678)\ttotal: 3m 20s\tremaining: 34.4s\n1707:\tlearn: 22213.6236216\ttest: 75901.2461371\tbest: 75864.2805377 (1678)\ttotal: 3m 20s\tremaining: 34.3s\n1708:\tlearn: 22206.0813668\ttest: 75902.8044948\tbest: 75864.2805377 (1678)\ttotal: 3m 20s\tremaining: 34.2s\n1709:\tlearn: 22200.9798578\ttest: 75901.8513609\tbest: 75864.2805377 (1678)\ttotal: 3m 20s\tremaining: 34.1s\n1710:\tlearn: 22197.1922206\ttest: 75903.3038104\tbest: 75864.2805377 (1678)\ttotal: 3m 21s\tremaining: 34s\n1711:\tlearn: 22193.2846553\ttest: 75904.3444999\tbest: 75864.2805377 (1678)\ttotal: 3m 21s\tremaining: 33.9s\n1712:\tlearn: 22189.7897944\ttest: 75905.2518995\tbest: 75864.2805377 (1678)\ttotal: 3m 21s\tremaining: 33.7s\n1713:\tlearn: 22184.7601467\ttest: 75906.8363239\tbest: 75864.2805377 (1678)\ttotal: 3m 21s\tremaining: 33.6s\n1714:\tlearn: 22178.1240814\ttest: 75908.2907508\tbest: 75864.2805377 (1678)\ttotal: 3m 21s\tremaining: 33.5s\n1715:\tlearn: 22168.1492491\ttest: 75908.0380183\tbest: 75864.2805377 (1678)\ttotal: 3m 21s\tremaining: 33.4s\n1716:\tlearn: 22164.9235956\ttest: 75907.6511519\tbest: 75864.2805377 (1678)\ttotal: 3m 21s\tremaining: 33.3s\n1717:\tlearn: 22155.2239734\ttest: 75916.1363336\tbest: 75864.2805377 (1678)\ttotal: 3m 21s\tremaining: 33.1s\n1718:\tlearn: 22147.6739133\ttest: 75915.3710323\tbest: 75864.2805377 (1678)\ttotal: 3m 22s\tremaining: 33s\n1719:\tlearn: 22094.1921218\ttest: 75914.6131047\tbest: 75864.2805377 (1678)\ttotal: 3m 22s\tremaining: 32.9s\n1720:\tlearn: 22086.2342744\ttest: 75914.8476282\tbest: 75864.2805377 (1678)\ttotal: 3m 22s\tremaining: 32.8s\n1721:\tlearn: 22079.4082373\ttest: 75911.4295219\tbest: 75864.2805377 (1678)\ttotal: 3m 22s\tremaining: 32.7s\n1722:\tlearn: 22073.3645592\ttest: 75911.1477585\tbest: 75864.2805377 (1678)\ttotal: 3m 22s\tremaining: 32.6s\n1723:\tlearn: 22070.3313629\ttest: 75910.8435027\tbest: 75864.2805377 (1678)\ttotal: 3m 22s\tremaining: 32.5s\n1724:\tlearn: 22060.1663069\ttest: 75909.1752038\tbest: 75864.2805377 (1678)\ttotal: 3m 22s\tremaining: 32.3s\n1725:\tlearn: 22054.1312989\ttest: 75910.8854805\tbest: 75864.2805377 (1678)\ttotal: 3m 23s\tremaining: 32.2s\n1726:\tlearn: 22035.4619416\ttest: 75908.6322447\tbest: 75864.2805377 (1678)\ttotal: 3m 23s\tremaining: 32.1s\n1727:\tlearn: 21991.5992634\ttest: 75904.1589065\tbest: 75864.2805377 (1678)\ttotal: 3m 23s\tremaining: 32s\n1728:\tlearn: 21981.8672227\ttest: 75901.0163497\tbest: 75864.2805377 (1678)\ttotal: 3m 23s\tremaining: 31.9s\n1729:\tlearn: 21968.1177464\ttest: 75901.9561173\tbest: 75864.2805377 (1678)\ttotal: 3m 23s\tremaining: 31.8s\n1730:\tlearn: 21952.8166730\ttest: 75903.1981607\tbest: 75864.2805377 (1678)\ttotal: 3m 24s\tremaining: 31.7s\n1731:\tlearn: 21947.8409329\ttest: 75901.3332262\tbest: 75864.2805377 (1678)\ttotal: 3m 24s\tremaining: 31.6s\n1732:\tlearn: 21943.3468589\ttest: 75901.2568268\tbest: 75864.2805377 (1678)\ttotal: 3m 24s\tremaining: 31.5s\n1733:\tlearn: 21942.3982272\ttest: 75901.1584133\tbest: 75864.2805377 (1678)\ttotal: 3m 24s\tremaining: 31.4s\n1734:\tlearn: 21920.3694419\ttest: 75896.4764305\tbest: 75864.2805377 (1678)\ttotal: 3m 24s\tremaining: 31.2s\n1735:\tlearn: 21917.7965859\ttest: 75896.7880985\tbest: 75864.2805377 (1678)\ttotal: 3m 24s\tremaining: 31.1s\n1736:\tlearn: 21900.0773538\ttest: 75897.5243907\tbest: 75864.2805377 (1678)\ttotal: 3m 24s\tremaining: 31s\n1737:\tlearn: 21890.6419349\ttest: 75898.4555459\tbest: 75864.2805377 (1678)\ttotal: 3m 24s\tremaining: 30.9s\n1738:\tlearn: 21873.8167348\ttest: 75897.1136589\tbest: 75864.2805377 (1678)\ttotal: 3m 24s\tremaining: 30.8s\n1739:\tlearn: 21869.8593385\ttest: 75897.7674733\tbest: 75864.2805377 (1678)\ttotal: 3m 25s\tremaining: 30.6s\n1740:\tlearn: 21867.5448440\ttest: 75897.1029242\tbest: 75864.2805377 (1678)\ttotal: 3m 25s\tremaining: 30.5s\n1741:\tlearn: 21862.2766784\ttest: 75896.7578085\tbest: 75864.2805377 (1678)\ttotal: 3m 25s\tremaining: 30.4s\n1742:\tlearn: 21858.1539347\ttest: 75894.9382568\tbest: 75864.2805377 (1678)\ttotal: 3m 25s\tremaining: 30.3s\n1743:\tlearn: 21852.8369795\ttest: 75895.1954002\tbest: 75864.2805377 (1678)\ttotal: 3m 25s\tremaining: 30.2s\n1744:\tlearn: 21846.6838591\ttest: 75888.4025602\tbest: 75864.2805377 (1678)\ttotal: 3m 25s\tremaining: 30.1s\n1745:\tlearn: 21834.5197881\ttest: 75891.6836049\tbest: 75864.2805377 (1678)\ttotal: 3m 25s\tremaining: 29.9s\n1746:\tlearn: 21823.4422067\ttest: 75901.1738412\tbest: 75864.2805377 (1678)\ttotal: 3m 25s\tremaining: 29.8s\n1747:\tlearn: 21815.0803202\ttest: 75899.8783226\tbest: 75864.2805377 (1678)\ttotal: 3m 26s\tremaining: 29.7s\n1748:\tlearn: 21807.8987974\ttest: 75900.0586040\tbest: 75864.2805377 (1678)\ttotal: 3m 26s\tremaining: 29.6s\n1749:\tlearn: 21802.1439633\ttest: 75899.2661072\tbest: 75864.2805377 (1678)\ttotal: 3m 26s\tremaining: 29.5s\n1750:\tlearn: 21799.6978103\ttest: 75900.0785442\tbest: 75864.2805377 (1678)\ttotal: 3m 26s\tremaining: 29.4s\n1751:\tlearn: 21792.0715920\ttest: 75895.0127752\tbest: 75864.2805377 (1678)\ttotal: 3m 26s\tremaining: 29.2s\n1752:\tlearn: 21776.3351498\ttest: 75894.6963257\tbest: 75864.2805377 (1678)\ttotal: 3m 26s\tremaining: 29.1s\n1753:\tlearn: 21766.6134417\ttest: 75898.3371219\tbest: 75864.2805377 (1678)\ttotal: 3m 26s\tremaining: 29s\n1754:\tlearn: 21763.0185570\ttest: 75898.3424160\tbest: 75864.2805377 (1678)\ttotal: 3m 26s\tremaining: 28.9s\n1755:\tlearn: 21761.1193725\ttest: 75897.6363359\tbest: 75864.2805377 (1678)\ttotal: 3m 26s\tremaining: 28.8s\n1756:\tlearn: 21756.2598748\ttest: 75900.0645700\tbest: 75864.2805377 (1678)\ttotal: 3m 27s\tremaining: 28.6s\n1757:\tlearn: 21747.6740589\ttest: 75899.2342113\tbest: 75864.2805377 (1678)\ttotal: 3m 27s\tremaining: 28.5s\n1758:\tlearn: 21737.3721108\ttest: 75900.2791776\tbest: 75864.2805377 (1678)\ttotal: 3m 27s\tremaining: 28.4s\n1759:\tlearn: 21728.3572001\ttest: 75897.4163017\tbest: 75864.2805377 (1678)\ttotal: 3m 27s\tremaining: 28.3s\n1760:\tlearn: 21723.8382359\ttest: 75897.1117289\tbest: 75864.2805377 (1678)\ttotal: 3m 27s\tremaining: 28.2s\n1761:\tlearn: 21714.5395335\ttest: 75897.8682278\tbest: 75864.2805377 (1678)\ttotal: 3m 27s\tremaining: 28s\n1762:\tlearn: 21703.4760681\ttest: 75899.1957416\tbest: 75864.2805377 (1678)\ttotal: 3m 27s\tremaining: 27.9s\n1763:\tlearn: 21695.9454686\ttest: 75901.5015290\tbest: 75864.2805377 (1678)\ttotal: 3m 27s\tremaining: 27.8s\n1764:\tlearn: 21690.4661864\ttest: 75899.7576284\tbest: 75864.2805377 (1678)\ttotal: 3m 27s\tremaining: 27.7s\n1765:\tlearn: 21683.9538290\ttest: 75905.3658463\tbest: 75864.2805377 (1678)\ttotal: 3m 28s\tremaining: 27.6s\n1766:\tlearn: 21665.7576701\ttest: 75905.2723194\tbest: 75864.2805377 (1678)\ttotal: 3m 28s\tremaining: 27.5s\n1767:\tlearn: 21664.9833318\ttest: 75905.5151884\tbest: 75864.2805377 (1678)\ttotal: 3m 28s\tremaining: 27.4s\n1768:\tlearn: 21650.6554916\ttest: 75893.2155332\tbest: 75864.2805377 (1678)\ttotal: 3m 28s\tremaining: 27.2s\n1769:\tlearn: 21643.0598068\ttest: 75901.0357474\tbest: 75864.2805377 (1678)\ttotal: 3m 28s\tremaining: 27.1s\n1770:\tlearn: 21636.4342722\ttest: 75899.4945870\tbest: 75864.2805377 (1678)\ttotal: 3m 28s\tremaining: 27s\n1771:\tlearn: 21628.7474663\ttest: 75898.7483701\tbest: 75864.2805377 (1678)\ttotal: 3m 28s\tremaining: 26.9s\n1772:\tlearn: 21611.1263780\ttest: 75899.3313287\tbest: 75864.2805377 (1678)\ttotal: 3m 28s\tremaining: 26.8s\n1773:\tlearn: 21600.4204551\ttest: 75904.5455446\tbest: 75864.2805377 (1678)\ttotal: 3m 29s\tremaining: 26.6s\n1774:\tlearn: 21594.4612579\ttest: 75902.4617030\tbest: 75864.2805377 (1678)\ttotal: 3m 29s\tremaining: 26.5s\n1775:\tlearn: 21592.3573116\ttest: 75900.5856474\tbest: 75864.2805377 (1678)\ttotal: 3m 29s\tremaining: 26.4s\n1776:\tlearn: 21583.1803742\ttest: 75906.6816957\tbest: 75864.2805377 (1678)\ttotal: 3m 29s\tremaining: 26.3s\n1777:\tlearn: 21576.0755531\ttest: 75905.1087063\tbest: 75864.2805377 (1678)\ttotal: 3m 29s\tremaining: 26.2s\n1778:\tlearn: 21568.5804408\ttest: 75904.5609180\tbest: 75864.2805377 (1678)\ttotal: 3m 29s\tremaining: 26.1s\n1779:\tlearn: 21565.1318268\ttest: 75905.5028952\tbest: 75864.2805377 (1678)\ttotal: 3m 29s\tremaining: 25.9s\n1780:\tlearn: 21562.5074893\ttest: 75905.3197149\tbest: 75864.2805377 (1678)\ttotal: 3m 29s\tremaining: 25.8s\n1781:\tlearn: 21558.1175776\ttest: 75899.0864998\tbest: 75864.2805377 (1678)\ttotal: 3m 29s\tremaining: 25.7s\n1782:\tlearn: 21549.2057476\ttest: 75897.7878571\tbest: 75864.2805377 (1678)\ttotal: 3m 30s\tremaining: 25.6s\n1783:\tlearn: 21539.1311918\ttest: 75896.6778418\tbest: 75864.2805377 (1678)\ttotal: 3m 30s\tremaining: 25.5s\n1784:\tlearn: 21527.1452577\ttest: 75894.4801185\tbest: 75864.2805377 (1678)\ttotal: 3m 30s\tremaining: 25.3s\n1785:\tlearn: 21523.2674251\ttest: 75896.4521885\tbest: 75864.2805377 (1678)\ttotal: 3m 30s\tremaining: 25.2s\n1786:\tlearn: 21496.6666286\ttest: 75899.3006810\tbest: 75864.2805377 (1678)\ttotal: 3m 30s\tremaining: 25.1s\n1787:\tlearn: 21491.9547778\ttest: 75900.0993035\tbest: 75864.2805377 (1678)\ttotal: 3m 30s\tremaining: 25s\n1788:\tlearn: 21485.2160096\ttest: 75900.4378852\tbest: 75864.2805377 (1678)\ttotal: 3m 30s\tremaining: 24.9s\n1789:\tlearn: 21476.0470791\ttest: 75898.3488978\tbest: 75864.2805377 (1678)\ttotal: 3m 30s\tremaining: 24.7s\n1790:\tlearn: 21468.8102064\ttest: 75899.6372666\tbest: 75864.2805377 (1678)\ttotal: 3m 31s\tremaining: 24.6s\n1791:\tlearn: 21467.7272625\ttest: 75899.9801588\tbest: 75864.2805377 (1678)\ttotal: 3m 31s\tremaining: 24.5s\n1792:\tlearn: 21451.0926731\ttest: 75898.3376174\tbest: 75864.2805377 (1678)\ttotal: 3m 31s\tremaining: 24.4s\n1793:\tlearn: 21442.7290484\ttest: 75899.3732916\tbest: 75864.2805377 (1678)\ttotal: 3m 31s\tremaining: 24.3s\n1794:\tlearn: 21434.0264170\ttest: 75898.2939008\tbest: 75864.2805377 (1678)\ttotal: 3m 31s\tremaining: 24.1s\n1795:\tlearn: 21428.2721994\ttest: 75899.4545203\tbest: 75864.2805377 (1678)\ttotal: 3m 31s\tremaining: 24s\n1796:\tlearn: 21420.9051018\ttest: 75900.3792221\tbest: 75864.2805377 (1678)\ttotal: 3m 31s\tremaining: 23.9s\n1797:\tlearn: 21415.3681914\ttest: 75897.6667418\tbest: 75864.2805377 (1678)\ttotal: 3m 31s\tremaining: 23.8s\n1798:\tlearn: 21402.9043188\ttest: 75901.3614964\tbest: 75864.2805377 (1678)\ttotal: 3m 32s\tremaining: 23.7s\n1799:\tlearn: 21398.9195027\ttest: 75902.2400752\tbest: 75864.2805377 (1678)\ttotal: 3m 32s\tremaining: 23.6s\n1800:\tlearn: 21392.4499840\ttest: 75900.8001107\tbest: 75864.2805377 (1678)\ttotal: 3m 32s\tremaining: 23.4s\n1801:\tlearn: 21385.8404408\ttest: 75899.8295665\tbest: 75864.2805377 (1678)\ttotal: 3m 32s\tremaining: 23.3s\n1802:\tlearn: 21376.7261079\ttest: 75902.4662901\tbest: 75864.2805377 (1678)\ttotal: 3m 32s\tremaining: 23.2s\n1803:\tlearn: 21367.6624157\ttest: 75899.6997869\tbest: 75864.2805377 (1678)\ttotal: 3m 32s\tremaining: 23.1s\n1804:\tlearn: 21358.7421071\ttest: 75898.5924334\tbest: 75864.2805377 (1678)\ttotal: 3m 32s\tremaining: 23s\n1805:\tlearn: 21354.9690339\ttest: 75897.5367562\tbest: 75864.2805377 (1678)\ttotal: 3m 32s\tremaining: 22.9s\n1806:\tlearn: 21326.2091232\ttest: 75899.4810928\tbest: 75864.2805377 (1678)\ttotal: 3m 33s\tremaining: 22.8s\n1807:\tlearn: 21322.2271389\ttest: 75899.4715168\tbest: 75864.2805377 (1678)\ttotal: 3m 33s\tremaining: 22.6s\n1808:\tlearn: 21309.8253383\ttest: 75900.9678422\tbest: 75864.2805377 (1678)\ttotal: 3m 33s\tremaining: 22.5s\n1809:\tlearn: 21307.2104060\ttest: 75900.8764938\tbest: 75864.2805377 (1678)\ttotal: 3m 33s\tremaining: 22.4s\n1810:\tlearn: 21301.0220950\ttest: 75904.8865777\tbest: 75864.2805377 (1678)\ttotal: 3m 33s\tremaining: 22.3s\n1811:\tlearn: 21293.9738669\ttest: 75906.0342442\tbest: 75864.2805377 (1678)\ttotal: 3m 33s\tremaining: 22.2s\n1812:\tlearn: 21290.8311010\ttest: 75901.9238242\tbest: 75864.2805377 (1678)\ttotal: 3m 33s\tremaining: 22s\n1813:\tlearn: 21266.0207584\ttest: 75902.4026462\tbest: 75864.2805377 (1678)\ttotal: 3m 33s\tremaining: 21.9s\n1814:\tlearn: 21261.3089479\ttest: 75899.1521812\tbest: 75864.2805377 (1678)\ttotal: 3m 33s\tremaining: 21.8s\n1815:\tlearn: 21253.2091961\ttest: 75901.5394359\tbest: 75864.2805377 (1678)\ttotal: 3m 34s\tremaining: 21.7s\n1816:\tlearn: 21235.5880061\ttest: 75901.7692753\tbest: 75864.2805377 (1678)\ttotal: 3m 34s\tremaining: 21.6s\n1817:\tlearn: 21226.7342615\ttest: 75909.7857481\tbest: 75864.2805377 (1678)\ttotal: 3m 34s\tremaining: 21.4s\n1818:\tlearn: 21218.2879415\ttest: 75911.2265725\tbest: 75864.2805377 (1678)\ttotal: 3m 34s\tremaining: 21.3s\n1819:\tlearn: 21198.3346955\ttest: 75892.1701951\tbest: 75864.2805377 (1678)\ttotal: 3m 34s\tremaining: 21.2s\n1820:\tlearn: 21193.3112674\ttest: 75893.6116661\tbest: 75864.2805377 (1678)\ttotal: 3m 34s\tremaining: 21.1s\n1821:\tlearn: 21185.5798575\ttest: 75897.1539617\tbest: 75864.2805377 (1678)\ttotal: 3m 34s\tremaining: 21s\n1822:\tlearn: 21172.7727504\ttest: 75900.3857372\tbest: 75864.2805377 (1678)\ttotal: 3m 34s\tremaining: 20.9s\n1823:\tlearn: 21163.1092899\ttest: 75899.5388847\tbest: 75864.2805377 (1678)\ttotal: 3m 34s\tremaining: 20.7s\n1824:\tlearn: 21151.0270448\ttest: 75896.8423433\tbest: 75864.2805377 (1678)\ttotal: 3m 35s\tremaining: 20.6s\n1825:\tlearn: 21138.3189512\ttest: 75889.1358420\tbest: 75864.2805377 (1678)\ttotal: 3m 35s\tremaining: 20.5s\n1826:\tlearn: 21133.2302245\ttest: 75887.4232854\tbest: 75864.2805377 (1678)\ttotal: 3m 35s\tremaining: 20.4s\n1827:\tlearn: 21123.9016046\ttest: 75892.9762076\tbest: 75864.2805377 (1678)\ttotal: 3m 35s\tremaining: 20.3s\n1828:\tlearn: 21116.7732696\ttest: 75886.9444979\tbest: 75864.2805377 (1678)\ttotal: 3m 35s\tremaining: 20.2s\n1829:\tlearn: 21115.2954399\ttest: 75887.9560281\tbest: 75864.2805377 (1678)\ttotal: 3m 35s\tremaining: 20s\n1830:\tlearn: 21101.0888449\ttest: 75895.5659770\tbest: 75864.2805377 (1678)\ttotal: 3m 35s\tremaining: 19.9s\n1831:\tlearn: 21082.2801347\ttest: 75898.9549874\tbest: 75864.2805377 (1678)\ttotal: 3m 35s\tremaining: 19.8s\n1832:\tlearn: 21079.6882797\ttest: 75898.4462863\tbest: 75864.2805377 (1678)\ttotal: 3m 36s\tremaining: 19.7s\n1833:\tlearn: 21069.4152784\ttest: 75901.8628478\tbest: 75864.2805377 (1678)\ttotal: 3m 36s\tremaining: 19.6s\n1834:\tlearn: 21061.3336022\ttest: 75903.3078414\tbest: 75864.2805377 (1678)\ttotal: 3m 36s\tremaining: 19.5s\n1835:\tlearn: 21057.3980761\ttest: 75902.2114940\tbest: 75864.2805377 (1678)\ttotal: 3m 36s\tremaining: 19.3s\n1836:\tlearn: 21054.8932407\ttest: 75903.6071607\tbest: 75864.2805377 (1678)\ttotal: 3m 36s\tremaining: 19.2s\n1837:\tlearn: 21043.7322486\ttest: 75900.4358152\tbest: 75864.2805377 (1678)\ttotal: 3m 36s\tremaining: 19.1s\n1838:\tlearn: 21035.6287759\ttest: 75897.9196200\tbest: 75864.2805377 (1678)\ttotal: 3m 36s\tremaining: 19s\n1839:\tlearn: 21027.0235683\ttest: 75898.6640854\tbest: 75864.2805377 (1678)\ttotal: 3m 36s\tremaining: 18.9s\n1840:\tlearn: 21013.6499415\ttest: 75906.6393167\tbest: 75864.2805377 (1678)\ttotal: 3m 37s\tremaining: 18.8s\n1841:\tlearn: 21011.3175919\ttest: 75903.2936422\tbest: 75864.2805377 (1678)\ttotal: 3m 37s\tremaining: 18.6s\n1842:\tlearn: 21004.5693676\ttest: 75904.5110808\tbest: 75864.2805377 (1678)\ttotal: 3m 37s\tremaining: 18.5s\n1843:\tlearn: 20993.1257789\ttest: 75913.9441850\tbest: 75864.2805377 (1678)\ttotal: 3m 37s\tremaining: 18.4s\n1844:\tlearn: 20987.8558024\ttest: 75909.5642843\tbest: 75864.2805377 (1678)\ttotal: 3m 37s\tremaining: 18.3s\n1845:\tlearn: 20984.1958540\ttest: 75908.8682993\tbest: 75864.2805377 (1678)\ttotal: 3m 37s\tremaining: 18.2s\n1846:\tlearn: 20979.5297763\ttest: 75907.7865707\tbest: 75864.2805377 (1678)\ttotal: 3m 38s\tremaining: 18.1s\n1847:\tlearn: 20973.8476485\ttest: 75908.3569879\tbest: 75864.2805377 (1678)\ttotal: 3m 38s\tremaining: 17.9s\n1848:\tlearn: 20956.0938348\ttest: 75914.3919692\tbest: 75864.2805377 (1678)\ttotal: 3m 38s\tremaining: 17.8s\n1849:\tlearn: 20947.7426074\ttest: 75915.4432883\tbest: 75864.2805377 (1678)\ttotal: 3m 38s\tremaining: 17.7s\n1850:\tlearn: 20943.8896107\ttest: 75914.7178775\tbest: 75864.2805377 (1678)\ttotal: 3m 38s\tremaining: 17.6s\n1851:\tlearn: 20936.5665646\ttest: 75915.1082163\tbest: 75864.2805377 (1678)\ttotal: 3m 38s\tremaining: 17.5s\n1852:\tlearn: 20935.3028264\ttest: 75915.9611395\tbest: 75864.2805377 (1678)\ttotal: 3m 38s\tremaining: 17.3s\n1853:\tlearn: 20930.4925962\ttest: 75908.6505538\tbest: 75864.2805377 (1678)\ttotal: 3m 38s\tremaining: 17.2s\n1854:\tlearn: 20884.7736670\ttest: 75906.1707137\tbest: 75864.2805377 (1678)\ttotal: 3m 38s\tremaining: 17.1s\n1855:\tlearn: 20880.0448860\ttest: 75907.7161277\tbest: 75864.2805377 (1678)\ttotal: 3m 39s\tremaining: 17s\n1856:\tlearn: 20876.4486372\ttest: 75907.5186000\tbest: 75864.2805377 (1678)\ttotal: 3m 39s\tremaining: 16.9s\n1857:\tlearn: 20869.9551455\ttest: 75907.9164505\tbest: 75864.2805377 (1678)\ttotal: 3m 39s\tremaining: 16.8s\n1858:\tlearn: 20865.4551072\ttest: 75906.1894389\tbest: 75864.2805377 (1678)\ttotal: 3m 39s\tremaining: 16.6s\n1859:\tlearn: 20859.4147689\ttest: 75910.1982942\tbest: 75864.2805377 (1678)\ttotal: 3m 39s\tremaining: 16.5s\n1860:\tlearn: 20847.7700615\ttest: 75908.3974911\tbest: 75864.2805377 (1678)\ttotal: 3m 39s\tremaining: 16.4s\n1861:\tlearn: 20835.0306755\ttest: 75907.3113121\tbest: 75864.2805377 (1678)\ttotal: 3m 39s\tremaining: 16.3s\n1862:\tlearn: 20830.8659155\ttest: 75907.4326522\tbest: 75864.2805377 (1678)\ttotal: 3m 39s\tremaining: 16.2s\n1863:\tlearn: 20820.6403831\ttest: 75911.8027376\tbest: 75864.2805377 (1678)\ttotal: 3m 40s\tremaining: 16.1s\n1864:\tlearn: 20816.0432051\ttest: 75915.7084061\tbest: 75864.2805377 (1678)\ttotal: 3m 40s\tremaining: 15.9s\n1865:\tlearn: 20806.1483565\ttest: 75911.6382730\tbest: 75864.2805377 (1678)\ttotal: 3m 40s\tremaining: 15.8s\n1866:\tlearn: 20795.6636991\ttest: 75910.6181382\tbest: 75864.2805377 (1678)\ttotal: 3m 40s\tremaining: 15.7s\n1867:\tlearn: 20776.7912697\ttest: 75914.3889911\tbest: 75864.2805377 (1678)\ttotal: 3m 40s\tremaining: 15.6s\n1868:\tlearn: 20769.9032166\ttest: 75917.9026039\tbest: 75864.2805377 (1678)\ttotal: 3m 40s\tremaining: 15.5s\n1869:\tlearn: 20757.1337297\ttest: 75913.9431978\tbest: 75864.2805377 (1678)\ttotal: 3m 40s\tremaining: 15.3s\n1870:\tlearn: 20751.0469192\ttest: 75916.3552117\tbest: 75864.2805377 (1678)\ttotal: 3m 40s\tremaining: 15.2s\n1871:\tlearn: 20739.2817230\ttest: 75920.4019271\tbest: 75864.2805377 (1678)\ttotal: 3m 41s\tremaining: 15.1s\n1872:\tlearn: 20729.8419589\ttest: 75920.0606888\tbest: 75864.2805377 (1678)\ttotal: 3m 41s\tremaining: 15s\n1873:\tlearn: 20718.8877007\ttest: 75923.6507623\tbest: 75864.2805377 (1678)\ttotal: 3m 41s\tremaining: 14.9s\n1874:\tlearn: 20714.8083990\ttest: 75923.7979568\tbest: 75864.2805377 (1678)\ttotal: 3m 41s\tremaining: 14.8s\n1875:\tlearn: 20712.1418752\ttest: 75923.7769956\tbest: 75864.2805377 (1678)\ttotal: 3m 41s\tremaining: 14.6s\n1876:\tlearn: 20689.3047969\ttest: 75925.7183799\tbest: 75864.2805377 (1678)\ttotal: 3m 41s\tremaining: 14.5s\n1877:\tlearn: 20685.7692230\ttest: 75926.3141868\tbest: 75864.2805377 (1678)\ttotal: 3m 41s\tremaining: 14.4s\n1878:\tlearn: 20674.8768796\ttest: 75927.3155278\tbest: 75864.2805377 (1678)\ttotal: 3m 41s\tremaining: 14.3s\n1879:\tlearn: 20664.8246572\ttest: 75920.7698063\tbest: 75864.2805377 (1678)\ttotal: 3m 41s\tremaining: 14.2s\n1880:\tlearn: 20654.2466966\ttest: 75921.7441644\tbest: 75864.2805377 (1678)\ttotal: 3m 42s\tremaining: 14s\n1881:\tlearn: 20646.0403798\ttest: 75917.3954832\tbest: 75864.2805377 (1678)\ttotal: 3m 42s\tremaining: 13.9s\n1882:\tlearn: 20639.2152278\ttest: 75917.8079571\tbest: 75864.2805377 (1678)\ttotal: 3m 42s\tremaining: 13.8s\n1883:\tlearn: 20635.9176641\ttest: 75917.5546027\tbest: 75864.2805377 (1678)\ttotal: 3m 42s\tremaining: 13.7s\n1884:\tlearn: 20631.5873108\ttest: 75917.1563060\tbest: 75864.2805377 (1678)\ttotal: 3m 42s\tremaining: 13.6s\n1885:\tlearn: 20626.5468805\ttest: 75916.8368460\tbest: 75864.2805377 (1678)\ttotal: 3m 42s\tremaining: 13.5s\n1886:\tlearn: 20622.4122249\ttest: 75914.1406992\tbest: 75864.2805377 (1678)\ttotal: 3m 42s\tremaining: 13.3s\n1887:\tlearn: 20616.1243670\ttest: 75915.8676013\tbest: 75864.2805377 (1678)\ttotal: 3m 42s\tremaining: 13.2s\n1888:\tlearn: 20608.6849249\ttest: 75916.5719165\tbest: 75864.2805377 (1678)\ttotal: 3m 42s\tremaining: 13.1s\n1889:\tlearn: 20595.6455296\ttest: 75918.8802932\tbest: 75864.2805377 (1678)\ttotal: 3m 43s\tremaining: 13s\n1890:\tlearn: 20589.7301966\ttest: 75917.0049270\tbest: 75864.2805377 (1678)\ttotal: 3m 43s\tremaining: 12.9s\n1891:\tlearn: 20578.6424052\ttest: 75912.1229568\tbest: 75864.2805377 (1678)\ttotal: 3m 43s\tremaining: 12.8s\n1892:\tlearn: 20570.0142946\ttest: 75912.1735218\tbest: 75864.2805377 (1678)\ttotal: 3m 43s\tremaining: 12.6s\n1893:\tlearn: 20562.7807428\ttest: 75909.8043450\tbest: 75864.2805377 (1678)\ttotal: 3m 43s\tremaining: 12.5s\n1894:\tlearn: 20557.9310733\ttest: 75911.2772155\tbest: 75864.2805377 (1678)\ttotal: 3m 43s\tremaining: 12.4s\n1895:\tlearn: 20543.6196293\ttest: 75903.4309758\tbest: 75864.2805377 (1678)\ttotal: 3m 43s\tremaining: 12.3s\n1896:\tlearn: 20537.1965225\ttest: 75902.4546078\tbest: 75864.2805377 (1678)\ttotal: 3m 43s\tremaining: 12.2s\n1897:\tlearn: 20524.0850722\ttest: 75900.3939148\tbest: 75864.2805377 (1678)\ttotal: 3m 44s\tremaining: 12s\n1898:\tlearn: 20516.5876207\ttest: 75900.9723215\tbest: 75864.2805377 (1678)\ttotal: 3m 44s\tremaining: 11.9s\n1899:\tlearn: 20508.4008518\ttest: 75901.1197054\tbest: 75864.2805377 (1678)\ttotal: 3m 44s\tremaining: 11.8s\n1900:\tlearn: 20501.3415889\ttest: 75900.5315395\tbest: 75864.2805377 (1678)\ttotal: 3m 44s\tremaining: 11.7s\n1901:\tlearn: 20498.1458869\ttest: 75899.1372878\tbest: 75864.2805377 (1678)\ttotal: 3m 44s\tremaining: 11.6s\n1902:\tlearn: 20489.6550383\ttest: 75899.0398800\tbest: 75864.2805377 (1678)\ttotal: 3m 44s\tremaining: 11.5s\n1903:\tlearn: 20474.2704764\ttest: 75899.8490636\tbest: 75864.2805377 (1678)\ttotal: 3m 44s\tremaining: 11.3s\n1904:\tlearn: 20472.0003760\ttest: 75900.0891760\tbest: 75864.2805377 (1678)\ttotal: 3m 44s\tremaining: 11.2s\n1905:\tlearn: 20468.9461309\ttest: 75900.1078187\tbest: 75864.2805377 (1678)\ttotal: 3m 44s\tremaining: 11.1s\n1906:\tlearn: 20459.8509545\ttest: 75901.7531289\tbest: 75864.2805377 (1678)\ttotal: 3m 45s\tremaining: 11s\n1907:\tlearn: 20456.0816066\ttest: 75901.6473773\tbest: 75864.2805377 (1678)\ttotal: 3m 45s\tremaining: 10.9s\n1908:\tlearn: 20454.3423775\ttest: 75901.0819060\tbest: 75864.2805377 (1678)\ttotal: 3m 45s\tremaining: 10.7s\n1909:\tlearn: 20450.4340285\ttest: 75900.7027799\tbest: 75864.2805377 (1678)\ttotal: 3m 45s\tremaining: 10.6s\n1910:\tlearn: 20445.6331759\ttest: 75901.2833149\tbest: 75864.2805377 (1678)\ttotal: 3m 45s\tremaining: 10.5s\n1911:\tlearn: 20439.6214420\ttest: 75901.1617562\tbest: 75864.2805377 (1678)\ttotal: 3m 45s\tremaining: 10.4s\n1912:\tlearn: 20435.7339710\ttest: 75898.7747640\tbest: 75864.2805377 (1678)\ttotal: 3m 45s\tremaining: 10.3s\n1913:\tlearn: 20425.9618978\ttest: 75898.0792027\tbest: 75864.2805377 (1678)\ttotal: 3m 45s\tremaining: 10.1s\n1914:\tlearn: 20419.8847785\ttest: 75897.4113899\tbest: 75864.2805377 (1678)\ttotal: 3m 46s\tremaining: 10s\n1915:\tlearn: 20416.2841002\ttest: 75897.0778895\tbest: 75864.2805377 (1678)\ttotal: 3m 46s\tremaining: 9.91s\n1916:\tlearn: 20409.7451363\ttest: 75895.1333685\tbest: 75864.2805377 (1678)\ttotal: 3m 46s\tremaining: 9.79s\n1917:\tlearn: 20402.2649047\ttest: 75898.9505508\tbest: 75864.2805377 (1678)\ttotal: 3m 46s\tremaining: 9.68s\n1918:\tlearn: 20388.4966358\ttest: 75902.9771727\tbest: 75864.2805377 (1678)\ttotal: 3m 46s\tremaining: 9.56s\n1919:\tlearn: 20371.7421685\ttest: 75903.3167818\tbest: 75864.2805377 (1678)\ttotal: 3m 46s\tremaining: 9.44s\n1920:\tlearn: 20366.8841773\ttest: 75903.8596052\tbest: 75864.2805377 (1678)\ttotal: 3m 46s\tremaining: 9.32s\n1921:\tlearn: 20356.4143041\ttest: 75900.5354139\tbest: 75864.2805377 (1678)\ttotal: 3m 46s\tremaining: 9.21s\n1922:\tlearn: 20345.6669173\ttest: 75898.8953529\tbest: 75864.2805377 (1678)\ttotal: 3m 46s\tremaining: 9.09s\n1923:\tlearn: 20335.9814712\ttest: 75901.1873689\tbest: 75864.2805377 (1678)\ttotal: 3m 47s\tremaining: 8.97s\n1924:\tlearn: 20326.2893734\ttest: 75898.7783354\tbest: 75864.2805377 (1678)\ttotal: 3m 47s\tremaining: 8.85s\n1925:\tlearn: 20321.1882171\ttest: 75899.3951524\tbest: 75864.2805377 (1678)\ttotal: 3m 47s\tremaining: 8.73s\n1926:\tlearn: 20309.1698187\ttest: 75899.1852877\tbest: 75864.2805377 (1678)\ttotal: 3m 47s\tremaining: 8.61s\n1927:\tlearn: 20305.2807976\ttest: 75898.2432221\tbest: 75864.2805377 (1678)\ttotal: 3m 47s\tremaining: 8.49s\n1928:\tlearn: 20299.3450601\ttest: 75897.5019976\tbest: 75864.2805377 (1678)\ttotal: 3m 47s\tremaining: 8.38s\n1929:\tlearn: 20294.2580585\ttest: 75896.5642147\tbest: 75864.2805377 (1678)\ttotal: 3m 47s\tremaining: 8.26s\n1930:\tlearn: 20271.7321359\ttest: 75899.1495172\tbest: 75864.2805377 (1678)\ttotal: 3m 47s\tremaining: 8.14s\n1931:\tlearn: 20264.4938188\ttest: 75901.9031085\tbest: 75864.2805377 (1678)\ttotal: 3m 48s\tremaining: 8.03s\n1932:\tlearn: 20262.4642640\ttest: 75901.9968455\tbest: 75864.2805377 (1678)\ttotal: 3m 48s\tremaining: 7.91s\n1933:\tlearn: 20256.6473267\ttest: 75901.8698622\tbest: 75864.2805377 (1678)\ttotal: 3m 48s\tremaining: 7.79s\n1934:\tlearn: 20255.2324556\ttest: 75900.8667754\tbest: 75864.2805377 (1678)\ttotal: 3m 48s\tremaining: 7.67s\n1935:\tlearn: 20250.8205300\ttest: 75901.0443469\tbest: 75864.2805377 (1678)\ttotal: 3m 48s\tremaining: 7.55s\n1936:\tlearn: 20245.1611494\ttest: 75903.9728158\tbest: 75864.2805377 (1678)\ttotal: 3m 48s\tremaining: 7.43s\n1937:\tlearn: 20240.0722639\ttest: 75903.4801916\tbest: 75864.2805377 (1678)\ttotal: 3m 48s\tremaining: 7.32s\n1938:\tlearn: 20233.3589668\ttest: 75900.4579754\tbest: 75864.2805377 (1678)\ttotal: 3m 48s\tremaining: 7.2s\n1939:\tlearn: 20229.1182043\ttest: 75900.0577226\tbest: 75864.2805377 (1678)\ttotal: 3m 48s\tremaining: 7.08s\n1940:\tlearn: 20219.1936653\ttest: 75892.4902861\tbest: 75864.2805377 (1678)\ttotal: 3m 49s\tremaining: 6.96s\n1941:\tlearn: 20197.9223757\ttest: 75889.0027053\tbest: 75864.2805377 (1678)\ttotal: 3m 49s\tremaining: 6.85s\n1942:\tlearn: 20187.5687524\ttest: 75894.6309653\tbest: 75864.2805377 (1678)\ttotal: 3m 49s\tremaining: 6.73s\n1943:\tlearn: 20181.9078490\ttest: 75893.8106650\tbest: 75864.2805377 (1678)\ttotal: 3m 49s\tremaining: 6.61s\n1944:\tlearn: 20178.3227006\ttest: 75897.4513530\tbest: 75864.2805377 (1678)\ttotal: 3m 49s\tremaining: 6.49s\n1945:\tlearn: 20175.0678784\ttest: 75896.9915816\tbest: 75864.2805377 (1678)\ttotal: 3m 49s\tremaining: 6.37s\n1946:\tlearn: 20163.0154463\ttest: 75891.8745761\tbest: 75864.2805377 (1678)\ttotal: 3m 49s\tremaining: 6.25s\n1947:\tlearn: 20151.7200411\ttest: 75888.3366529\tbest: 75864.2805377 (1678)\ttotal: 3m 49s\tremaining: 6.14s\n1948:\tlearn: 20143.3864959\ttest: 75890.4785662\tbest: 75864.2805377 (1678)\ttotal: 3m 49s\tremaining: 6.02s\n1949:\tlearn: 20136.2566424\ttest: 75889.6762367\tbest: 75864.2805377 (1678)\ttotal: 3m 50s\tremaining: 5.9s\n1950:\tlearn: 20123.8083984\ttest: 75889.2457549\tbest: 75864.2805377 (1678)\ttotal: 3m 50s\tremaining: 5.79s\n1951:\tlearn: 20119.7780687\ttest: 75886.7839907\tbest: 75864.2805377 (1678)\ttotal: 3m 50s\tremaining: 5.67s\n1952:\tlearn: 20116.1331851\ttest: 75885.9273449\tbest: 75864.2805377 (1678)\ttotal: 3m 50s\tremaining: 5.55s\n1953:\tlearn: 20109.9923798\ttest: 75886.9678121\tbest: 75864.2805377 (1678)\ttotal: 3m 50s\tremaining: 5.43s\n1954:\tlearn: 20106.4501030\ttest: 75888.2941291\tbest: 75864.2805377 (1678)\ttotal: 3m 50s\tremaining: 5.31s\n1955:\tlearn: 20102.2605285\ttest: 75887.1962908\tbest: 75864.2805377 (1678)\ttotal: 3m 50s\tremaining: 5.2s\n1956:\tlearn: 20091.5242152\ttest: 75885.2640679\tbest: 75864.2805377 (1678)\ttotal: 3m 51s\tremaining: 5.08s\n1957:\tlearn: 20078.3874319\ttest: 75884.4143581\tbest: 75864.2805377 (1678)\ttotal: 3m 51s\tremaining: 4.96s\n1958:\tlearn: 20070.4274728\ttest: 75886.2060771\tbest: 75864.2805377 (1678)\ttotal: 3m 51s\tremaining: 4.84s\n1959:\tlearn: 20068.4415378\ttest: 75885.9830230\tbest: 75864.2805377 (1678)\ttotal: 3m 51s\tremaining: 4.72s\n1960:\tlearn: 20058.4457102\ttest: 75882.1344413\tbest: 75864.2805377 (1678)\ttotal: 3m 51s\tremaining: 4.61s\n1961:\tlearn: 20055.7610560\ttest: 75876.2683447\tbest: 75864.2805377 (1678)\ttotal: 3m 51s\tremaining: 4.49s\n1962:\tlearn: 20050.7559609\ttest: 75873.0152408\tbest: 75864.2805377 (1678)\ttotal: 3m 51s\tremaining: 4.37s\n1963:\tlearn: 20044.1577620\ttest: 75879.1710377\tbest: 75864.2805377 (1678)\ttotal: 3m 51s\tremaining: 4.25s\n1964:\tlearn: 20036.5333294\ttest: 75874.7556177\tbest: 75864.2805377 (1678)\ttotal: 3m 52s\tremaining: 4.13s\n1965:\tlearn: 20031.1222196\ttest: 75874.3264285\tbest: 75864.2805377 (1678)\ttotal: 3m 52s\tremaining: 4.01s\n1966:\tlearn: 20026.8042330\ttest: 75875.6020173\tbest: 75864.2805377 (1678)\ttotal: 3m 52s\tremaining: 3.9s\n1967:\tlearn: 20019.0234118\ttest: 75877.3549840\tbest: 75864.2805377 (1678)\ttotal: 3m 52s\tremaining: 3.78s\n1968:\tlearn: 20016.5498136\ttest: 75877.9819298\tbest: 75864.2805377 (1678)\ttotal: 3m 52s\tremaining: 3.66s\n1969:\tlearn: 20012.2694090\ttest: 75877.8190117\tbest: 75864.2805377 (1678)\ttotal: 3m 52s\tremaining: 3.54s\n1970:\tlearn: 20000.9526224\ttest: 75875.7862134\tbest: 75864.2805377 (1678)\ttotal: 3m 52s\tremaining: 3.42s\n1971:\tlearn: 19996.1689771\ttest: 75875.2923574\tbest: 75864.2805377 (1678)\ttotal: 3m 52s\tremaining: 3.31s\n1972:\tlearn: 19992.4390423\ttest: 75874.0809475\tbest: 75864.2805377 (1678)\ttotal: 3m 53s\tremaining: 3.19s\n1973:\tlearn: 19985.0235344\ttest: 75873.5047308\tbest: 75864.2805377 (1678)\ttotal: 3m 53s\tremaining: 3.07s\n1974:\tlearn: 19980.3620561\ttest: 75875.0539960\tbest: 75864.2805377 (1678)\ttotal: 3m 53s\tremaining: 2.95s\n1975:\tlearn: 19976.2467527\ttest: 75872.5963913\tbest: 75864.2805377 (1678)\ttotal: 3m 53s\tremaining: 2.83s\n1976:\tlearn: 19963.9334030\ttest: 75875.1460857\tbest: 75864.2805377 (1678)\ttotal: 3m 53s\tremaining: 2.71s\n1977:\tlearn: 19959.2637168\ttest: 75873.4535088\tbest: 75864.2805377 (1678)\ttotal: 3m 53s\tremaining: 2.6s\n1978:\tlearn: 19946.7083563\ttest: 75867.7294292\tbest: 75864.2805377 (1678)\ttotal: 3m 53s\tremaining: 2.48s\n1979:\tlearn: 19942.5437946\ttest: 75864.7116405\tbest: 75864.2805377 (1678)\ttotal: 3m 53s\tremaining: 2.36s\n1980:\tlearn: 19936.4749309\ttest: 75862.4686479\tbest: 75862.4686479 (1980)\ttotal: 3m 54s\tremaining: 2.24s\n1981:\tlearn: 19925.0834564\ttest: 75854.4201728\tbest: 75854.4201728 (1981)\ttotal: 3m 54s\tremaining: 2.13s\n1982:\tlearn: 19919.0444737\ttest: 75853.6161857\tbest: 75853.6161857 (1982)\ttotal: 3m 54s\tremaining: 2.01s\n1983:\tlearn: 19912.1360851\ttest: 75851.6870785\tbest: 75851.6870785 (1983)\ttotal: 3m 54s\tremaining: 1.89s\n1984:\tlearn: 19904.7447612\ttest: 75852.4248568\tbest: 75851.6870785 (1983)\ttotal: 3m 54s\tremaining: 1.77s\n1985:\tlearn: 19895.8235031\ttest: 75853.2960975\tbest: 75851.6870785 (1983)\ttotal: 3m 54s\tremaining: 1.65s\n1986:\tlearn: 19879.2881368\ttest: 75853.1317318\tbest: 75851.6870785 (1983)\ttotal: 3m 54s\tremaining: 1.53s\n1987:\tlearn: 19868.2911924\ttest: 75854.7029874\tbest: 75851.6870785 (1983)\ttotal: 3m 54s\tremaining: 1.42s\n1988:\tlearn: 19864.8358549\ttest: 75855.5353034\tbest: 75851.6870785 (1983)\ttotal: 3m 54s\tremaining: 1.3s\n1989:\tlearn: 19859.4847248\ttest: 75855.3653666\tbest: 75851.6870785 (1983)\ttotal: 3m 55s\tremaining: 1.18s\n1990:\tlearn: 19856.6454685\ttest: 75856.2585238\tbest: 75851.6870785 (1983)\ttotal: 3m 55s\tremaining: 1.06s\n1991:\tlearn: 19848.2453058\ttest: 75855.6051295\tbest: 75851.6870785 (1983)\ttotal: 3m 55s\tremaining: 945ms\n1992:\tlearn: 19837.7144622\ttest: 75860.0909240\tbest: 75851.6870785 (1983)\ttotal: 3m 55s\tremaining: 827ms\n1993:\tlearn: 19833.5195454\ttest: 75857.7625749\tbest: 75851.6870785 (1983)\ttotal: 3m 55s\tremaining: 709ms\n1994:\tlearn: 19828.5339303\ttest: 75858.5993177\tbest: 75851.6870785 (1983)\ttotal: 3m 55s\tremaining: 591ms\n1995:\tlearn: 19823.5516314\ttest: 75859.2264164\tbest: 75851.6870785 (1983)\ttotal: 3m 55s\tremaining: 473ms\n1996:\tlearn: 19816.2906190\ttest: 75850.6759782\tbest: 75850.6759782 (1996)\ttotal: 3m 55s\tremaining: 355ms\n1997:\tlearn: 19813.7433985\ttest: 75850.1631648\tbest: 75850.1631648 (1997)\ttotal: 3m 56s\tremaining: 236ms\n1998:\tlearn: 19804.3292781\ttest: 75850.5072615\tbest: 75850.1631648 (1997)\ttotal: 3m 56s\tremaining: 118ms\n1999:\tlearn: 19801.3149125\ttest: 75849.1687868\tbest: 75849.1687868 (1999)\ttotal: 3m 56s\tremaining: 0us\n\nbestTest = 75849.16879\nbestIteration = 1999\n\n",
     "output_type": "stream"
    },
    {
     "output_type": "execute_result",
     "execution_count": 9,
     "data": {
      "text/plain": "<catboost.core.CatBoostRegressor at 0x7f6fe853b490>"
     },
     "metadata": {}
    }
   ]
  },
  {
   "cell_type": "code",
   "metadata": {
    "tags": [],
    "deepnote_to_be_reexecuted": false,
    "source_hash": "432fb887",
    "execution_start": 1637257675633,
    "execution_millis": 2621,
    "deepnote_output_heights": [
     null,
     21
    ],
    "cell_id": "00010-7016faee-8a8c-4a50-88b7-aef967277f9f",
    "deepnote_cell_type": "code"
   },
   "source": "print(model.score(X_train, y_train))\nfrom sklearn.metrics import r2_score\n\ny_pred = model.predict(X_val)\ny_pred = y_pred.astype(float)\nprint(model.score(X_val, y_val)), print(r2_score(y_pred, model.predict(X_val)))",
   "execution_count": null,
   "outputs": [
    {
     "name": "stdout",
     "text": "0.9512563684369933\n0.800986734024097\n1.0\n",
     "output_type": "stream"
    },
    {
     "output_type": "execute_result",
     "execution_count": 10,
     "data": {
      "text/plain": "(None, None)"
     },
     "metadata": {}
    }
   ]
  },
  {
   "cell_type": "code",
   "metadata": {
    "tags": [],
    "deepnote_to_be_reexecuted": false,
    "source_hash": "949a2162",
    "execution_start": 1637257678122,
    "execution_millis": 85,
    "cell_id": "00011-7b5edcc0-ce6c-41ee-8afc-95dea27dae0c",
    "deepnote_cell_type": "code"
   },
   "source": "df=pd.DataFrame({'Actual': y_val, 'Predicted':y_pred})\ndf",
   "execution_count": null,
   "outputs": [
    {
     "output_type": "execute_result",
     "execution_count": 11,
     "data": {
      "application/vnd.deepnote.dataframe.v2+json": {
       "row_count": 4657,
       "column_count": 2,
       "columns": [
        {
         "name": "Actual",
         "dtype": "float64",
         "stats": {
          "unique_count": 3951,
          "nan_count": 0,
          "min": "31319.910514541385",
          "max": "2785756.4961169483",
          "histogram": [
           {
            "bin_start": 31319.910514541385,
            "bin_end": 306763.5690747821,
            "count": 3805
           },
           {
            "bin_start": 306763.5690747821,
            "bin_end": 582207.2276350228,
            "count": 660
           },
           {
            "bin_start": 582207.2276350228,
            "bin_end": 857650.8861952636,
            "count": 129
           },
           {
            "bin_start": 857650.8861952636,
            "bin_end": 1133094.5447555042,
            "count": 40
           },
           {
            "bin_start": 1133094.5447555042,
            "bin_end": 1408538.2033157449,
            "count": 11
           },
           {
            "bin_start": 1408538.2033157449,
            "bin_end": 1683981.8618759857,
            "count": 4
           },
           {
            "bin_start": 1683981.8618759857,
            "bin_end": 1959425.5204362264,
            "count": 4
           },
           {
            "bin_start": 1959425.5204362264,
            "bin_end": 2234869.178996467,
            "count": 0
           },
           {
            "bin_start": 2234869.178996467,
            "bin_end": 2510312.8375567077,
            "count": 3
           },
           {
            "bin_start": 2510312.8375567077,
            "bin_end": 2785756.4961169483,
            "count": 1
           }
          ]
         }
        },
        {
         "name": "Predicted",
         "dtype": "float64",
         "stats": {
          "unique_count": 4598,
          "nan_count": 0,
          "min": "56875.56102958205",
          "max": "1842153.5040565426",
          "histogram": [
           {
            "bin_start": 56875.56102958205,
            "bin_end": 235403.35533227812,
            "count": 3095
           },
           {
            "bin_start": 235403.35533227812,
            "bin_end": 413931.1496349742,
            "count": 1090
           },
           {
            "bin_start": 413931.1496349742,
            "bin_end": 592458.9439376702,
            "count": 298
           },
           {
            "bin_start": 592458.9439376702,
            "bin_end": 770986.7382403663,
            "count": 99
           },
           {
            "bin_start": 770986.7382403663,
            "bin_end": 949514.5325430625,
            "count": 52
           },
           {
            "bin_start": 949514.5325430625,
            "bin_end": 1128042.3268457584,
            "count": 18
           },
           {
            "bin_start": 1128042.3268457584,
            "bin_end": 1306570.1211484545,
            "count": 4
           },
           {
            "bin_start": 1306570.1211484545,
            "bin_end": 1485097.9154511506,
            "count": 0
           },
           {
            "bin_start": 1485097.9154511506,
            "bin_end": 1663625.7097538467,
            "count": 0
           },
           {
            "bin_start": 1663625.7097538467,
            "bin_end": 1842153.5040565426,
            "count": 1
           }
          ]
         }
        },
        {
         "name": "_deepnote_index_column",
         "dtype": "int64"
        }
       ],
       "rows_top": [
        {
         "Actual": 641025.641025641,
         "Predicted": 610668.8854759801,
         "_deepnote_index_column": 10307
        },
        {
         "Actual": 370277.77777777775,
         "Predicted": 434309.84472974075,
         "_deepnote_index_column": 2684
        },
        {
         "Actual": 213851.99240986715,
         "Predicted": 183244.9089596524,
         "_deepnote_index_column": 15931
        },
        {
         "Actual": 187598.11616954472,
         "Predicted": 168366.7124687687,
         "_deepnote_index_column": 10683
        },
        {
         "Actual": 189556.50929899854,
         "Predicted": 453746.53341807704,
         "_deepnote_index_column": 22217
        },
        {
         "Actual": 225480,
         "Predicted": 210308.19540939285,
         "_deepnote_index_column": 10653
        },
        {
         "Actual": 209401.7094017094,
         "Predicted": 190561.18132066232,
         "_deepnote_index_column": 1414
        },
        {
         "Actual": 209200,
         "Predicted": 208719.77453419202,
         "_deepnote_index_column": 9902
        },
        {
         "Actual": 166647.0588235294,
         "Predicted": 156147.7528582993,
         "_deepnote_index_column": 19529
        },
        {
         "Actual": 220700,
         "Predicted": 251568.0404607794,
         "_deepnote_index_column": 12062
        },
        {
         "Actual": 166374.78108581435,
         "Predicted": 158349.21597588583,
         "_deepnote_index_column": 17047
        },
        {
         "Actual": 187263.33333333334,
         "Predicted": 207162.17524648688,
         "_deepnote_index_column": 14103
        },
        {
         "Actual": 191500,
         "Predicted": 212096.87845853408,
         "_deepnote_index_column": 19193
        },
        {
         "Actual": 130049.99999999999,
         "Predicted": 115949.09240328657,
         "_deepnote_index_column": 19706
        },
        {
         "Actual": 190355.3299492386,
         "Predicted": 173615.36964297632,
         "_deepnote_index_column": 20810
        },
        {
         "Actual": 156900,
         "Predicted": 169265.7024703776,
         "_deepnote_index_column": 17027
        },
        {
         "Actual": 120100,
         "Predicted": 116578.93021053413,
         "_deepnote_index_column": 14263
        },
        {
         "Actual": 182300,
         "Predicted": 174929.79200960533,
         "_deepnote_index_column": 1945
        },
        {
         "Actual": 253384.91295938104,
         "Predicted": 256969.37297453778,
         "_deepnote_index_column": 17184
        },
        {
         "Actual": 221314.2323651452,
         "Predicted": 207215.27710240448,
         "_deepnote_index_column": 18568
        },
        {
         "Actual": 102511.0197368421,
         "Predicted": 105602.24089063378,
         "_deepnote_index_column": 9860
        },
        {
         "Actual": 161111.11111111112,
         "Predicted": 158717.2424386996,
         "_deepnote_index_column": 22814
        },
        {
         "Actual": 235000,
         "Predicted": 226471.8469776693,
         "_deepnote_index_column": 20535
        },
        {
         "Actual": 119000,
         "Predicted": 140197.06326101112,
         "_deepnote_index_column": 21315
        },
        {
         "Actual": 183030.30303030304,
         "Predicted": 171447.12933951555,
         "_deepnote_index_column": 2164
        },
        {
         "Actual": 153846.15384615384,
         "Predicted": 151698.77517729136,
         "_deepnote_index_column": 4035
        },
        {
         "Actual": 290000,
         "Predicted": 274834.23997473996,
         "_deepnote_index_column": 15448
        },
        {
         "Actual": 281410.25641025644,
         "Predicted": 329926.1545803697,
         "_deepnote_index_column": 7661
        },
        {
         "Actual": 165100,
         "Predicted": 174038.46761182052,
         "_deepnote_index_column": 12999
        },
        {
         "Actual": 213086.64226898446,
         "Predicted": 219990.95272647482,
         "_deepnote_index_column": 20856
        },
        {
         "Actual": 313559.3220338983,
         "Predicted": 288355.2554863223,
         "_deepnote_index_column": 20459
        },
        {
         "Actual": 160237.38872403558,
         "Predicted": 172260.7972390352,
         "_deepnote_index_column": 8509
        },
        {
         "Actual": 160735.57870370368,
         "Predicted": 159568.73307147902,
         "_deepnote_index_column": 22367
        },
        {
         "Actual": 323820,
         "Predicted": 297736.85530066304,
         "_deepnote_index_column": 16243
        },
        {
         "Actual": 175925.92592592593,
         "Predicted": 190994.40933233555,
         "_deepnote_index_column": 22967
        },
        {
         "Actual": 375000,
         "Predicted": 348263.4087571212,
         "_deepnote_index_column": 15483
        },
        {
         "Actual": 125049.00357690341,
         "Predicted": 123489.705093329,
         "_deepnote_index_column": 13791
        },
        {
         "Actual": 284615.3846153846,
         "Predicted": 296943.19237206737,
         "_deepnote_index_column": 18324
        },
        {
         "Actual": 178018.5758513932,
         "Predicted": 168221.12736396698,
         "_deepnote_index_column": 12713
        },
        {
         "Actual": 192400,
         "Predicted": 186023.7464300316,
         "_deepnote_index_column": 22638
        },
        {
         "Actual": 167532.46753246753,
         "Predicted": 211749.55132439412,
         "_deepnote_index_column": 13507
        },
        {
         "Actual": 184848.48484848486,
         "Predicted": 203323.540577339,
         "_deepnote_index_column": 7194
        },
        {
         "Actual": 135857.4610244989,
         "Predicted": 115563.48108715296,
         "_deepnote_index_column": 5499
        },
        {
         "Actual": 138166.66666666666,
         "Predicted": 146371.07051899988,
         "_deepnote_index_column": 12796
        },
        {
         "Actual": 597222.2222222222,
         "Predicted": 639046.6825172186,
         "_deepnote_index_column": 2491
        },
        {
         "Actual": 286335,
         "Predicted": 300337.8629079463,
         "_deepnote_index_column": 12684
        },
        {
         "Actual": 573526.0380821289,
         "Predicted": 431416.2031859142,
         "_deepnote_index_column": 6722
        },
        {
         "Actual": 231557.37704918033,
         "Predicted": 244730.9639448332,
         "_deepnote_index_column": 5722
        },
        {
         "Actual": 181558.44155844155,
         "Predicted": 176001.23866978244,
         "_deepnote_index_column": 7162
        },
        {
         "Actual": 220900.00000000003,
         "Predicted": 209477.45890785544,
         "_deepnote_index_column": 7890
        },
        {
         "Actual": 160100,
         "Predicted": 159847.6579715378,
         "_deepnote_index_column": 7362
        },
        {
         "Actual": 214405.36013400333,
         "Predicted": 198510.35383380495,
         "_deepnote_index_column": 15537
        },
        {
         "Actual": 459868.4210526316,
         "Predicted": 475896.72197857534,
         "_deepnote_index_column": 1113
        },
        {
         "Actual": 230670.45454545456,
         "Predicted": 407059.7156986471,
         "_deepnote_index_column": 13246
        },
        {
         "Actual": 199961.53846153847,
         "Predicted": 211858.4773986346,
         "_deepnote_index_column": 9712
        },
        {
         "Actual": 186346.15384615384,
         "Predicted": 183185.6493552253,
         "_deepnote_index_column": 18607
        },
        {
         "Actual": 256500,
         "Predicted": 278227.56534195214,
         "_deepnote_index_column": 6885
        },
        {
         "Actual": 266000,
         "Predicted": 276284.1572933952,
         "_deepnote_index_column": 7014
        },
        {
         "Actual": 843023.2558139535,
         "Predicted": 791634.6631042637,
         "_deepnote_index_column": 3069
        },
        {
         "Actual": 333222.22222222225,
         "Predicted": 450728.5892121971,
         "_deepnote_index_column": 16769
        },
        {
         "Actual": 156003.99045020464,
         "Predicted": 147559.84645987663,
         "_deepnote_index_column": 13788
        },
        {
         "Actual": 171493.485267035,
         "Predicted": 181804.49605523137,
         "_deepnote_index_column": 5761
        },
        {
         "Actual": 209700.00000000003,
         "Predicted": 214370.68334400095,
         "_deepnote_index_column": 10963
        },
        {
         "Actual": 155645.16129032258,
         "Predicted": 156518.90619921364,
         "_deepnote_index_column": 18524
        },
        {
         "Actual": 213000,
         "Predicted": 216488.15006260833,
         "_deepnote_index_column": 18481
        },
        {
         "Actual": 184535.82240161454,
         "Predicted": 204537.5729516801,
         "_deepnote_index_column": 9877
        },
        {
         "Actual": 298652.6946107785,
         "Predicted": 272226.0009320009,
         "_deepnote_index_column": 1336
        },
        {
         "Actual": 185942.02898550723,
         "Predicted": 207364.30728038805,
         "_deepnote_index_column": 6828
        },
        {
         "Actual": 230000,
         "Predicted": 167094.53933114262,
         "_deepnote_index_column": 14778
        },
        {
         "Actual": 202900,
         "Predicted": 193153.68034801394,
         "_deepnote_index_column": 8462
        },
        {
         "Actual": 187273.4335839599,
         "Predicted": 190242.00517016638,
         "_deepnote_index_column": 19536
        },
        {
         "Actual": 174196.7871485944,
         "Predicted": 204039.97254067607,
         "_deepnote_index_column": 21499
        },
        {
         "Actual": 158500,
         "Predicted": 153320.21381346858,
         "_deepnote_index_column": 21354
        },
        {
         "Actual": 156818.18181818182,
         "Predicted": 168686.24220989,
         "_deepnote_index_column": 14258
        },
        {
         "Actual": 175700,
         "Predicted": 186443.03862618536,
         "_deepnote_index_column": 20786
        },
        {
         "Actual": 933876.8115942029,
         "Predicted": 751595.413344356,
         "_deepnote_index_column": 8214
        },
        {
         "Actual": 209000,
         "Predicted": 224149.15705812676,
         "_deepnote_index_column": 4405
        },
        {
         "Actual": 306837.92486583185,
         "Predicted": 316672.44018028746,
         "_deepnote_index_column": 9132
        },
        {
         "Actual": 139682.53968253967,
         "Predicted": 151518.92672071958,
         "_deepnote_index_column": 7440
        },
        {
         "Actual": 206000,
         "Predicted": 186291.3354859973,
         "_deepnote_index_column": 1953
        },
        {
         "Actual": 178082.19178082192,
         "Predicted": 161976.24230714104,
         "_deepnote_index_column": 938
        },
        {
         "Actual": 125000.00000000001,
         "Predicted": 126485.78170494913,
         "_deepnote_index_column": 9572
        },
        {
         "Actual": 141742.52275682703,
         "Predicted": 171922.37975081216,
         "_deepnote_index_column": 16040
        },
        {
         "Actual": 211221.12211221122,
         "Predicted": 200560.36914852535,
         "_deepnote_index_column": 7435
        },
        {
         "Actual": 188800,
         "Predicted": 150614.268423302,
         "_deepnote_index_column": 12009
        },
        {
         "Actual": 148816.99494949495,
         "Predicted": 151594.123758619,
         "_deepnote_index_column": 20220
        },
        {
         "Actual": 204644.8087431694,
         "Predicted": 180931.01570845023,
         "_deepnote_index_column": 13410
        },
        {
         "Actual": 180200,
         "Predicted": 200126.17462837967,
         "_deepnote_index_column": 9560
        },
        {
         "Actual": 251282.05128205128,
         "Predicted": 258807.46171130965,
         "_deepnote_index_column": 13306
        },
        {
         "Actual": 531134.7517730496,
         "Predicted": 540257.7545016403,
         "_deepnote_index_column": 17197
        },
        {
         "Actual": 189545.00390320065,
         "Predicted": 190327.2491887766,
         "_deepnote_index_column": 9632
        },
        {
         "Actual": 217307.6923076923,
         "Predicted": 219679.6947000832,
         "_deepnote_index_column": 20850
        },
        {
         "Actual": 205792.6829268293,
         "Predicted": 198757.72996561014,
         "_deepnote_index_column": 5146
        },
        {
         "Actual": 210300.42918454934,
         "Predicted": 271344.96520673024,
         "_deepnote_index_column": 19435
        },
        {
         "Actual": 312727.2727272727,
         "Predicted": 299285.8897940675,
         "_deepnote_index_column": 15572
        },
        {
         "Actual": 157500,
         "Predicted": 156387.25104508875,
         "_deepnote_index_column": 15393
        },
        {
         "Actual": 500000,
         "Predicted": 462656.9732669884,
         "_deepnote_index_column": 3231
        },
        {
         "Actual": 178000,
         "Predicted": 180379.94918516837,
         "_deepnote_index_column": 3670
        },
        {
         "Actual": 120462.04620462046,
         "Predicted": 145344.64430412947,
         "_deepnote_index_column": 19565
        },
        {
         "Actual": 182989.6907216495,
         "Predicted": 183627.4445028106,
         "_deepnote_index_column": 9799
        },
        {
         "Actual": 104511.18421052632,
         "Predicted": 105588.50347745503,
         "_deepnote_index_column": 19499
        },
        {
         "Actual": 337142.85714285716,
         "Predicted": 263231.38020310417,
         "_deepnote_index_column": 12585
        },
        {
         "Actual": 147600,
         "Predicted": 141018.43994279735,
         "_deepnote_index_column": 22851
        },
        {
         "Actual": 131818.18181818182,
         "Predicted": 141171.08050396116,
         "_deepnote_index_column": 13852
        },
        {
         "Actual": 424166.6590909091,
         "Predicted": 405145.17019941134,
         "_deepnote_index_column": 13064
        },
        {
         "Actual": 196250,
         "Predicted": 184855.6328459148,
         "_deepnote_index_column": 14779
        },
        {
         "Actual": 148541.11405835542,
         "Predicted": 150502.78838275193,
         "_deepnote_index_column": 19333
        },
        {
         "Actual": 116753.92670157069,
         "Predicted": 130184.4239625305,
         "_deepnote_index_column": 227
        },
        {
         "Actual": 167800,
         "Predicted": 176483.7872039737,
         "_deepnote_index_column": 7372
        },
        {
         "Actual": 189700,
         "Predicted": 201956.03393632034,
         "_deepnote_index_column": 11793
        },
        {
         "Actual": 300000,
         "Predicted": 261203.4382515375,
         "_deepnote_index_column": 19876
        },
        {
         "Actual": 210256.41025641025,
         "Predicted": 192886.3742720713,
         "_deepnote_index_column": 6755
        },
        {
         "Actual": 142487.04663212434,
         "Predicted": 202655.45631663455,
         "_deepnote_index_column": 17341
        },
        {
         "Actual": 158509.3739793141,
         "Predicted": 151297.22903878888,
         "_deepnote_index_column": 5918
        },
        {
         "Actual": 245201.99716713882,
         "Predicted": 251490.53276963328,
         "_deepnote_index_column": 10743
        },
        {
         "Actual": 513513.5135135135,
         "Predicted": 583839.7264910096,
         "_deepnote_index_column": 7678
        },
        {
         "Actual": 207500,
         "Predicted": 211370.84025423686,
         "_deepnote_index_column": 17895
        },
        {
         "Actual": 323076.92307692306,
         "Predicted": 320479.4945624819,
         "_deepnote_index_column": 12586
        },
        {
         "Actual": 84313.72549019608,
         "Predicted": 91282.56943837911,
         "_deepnote_index_column": 18771
        },
        {
         "Actual": 619057,
         "Predicted": 550849.701951267,
         "_deepnote_index_column": 2403
        },
        {
         "Actual": 147663.55140186916,
         "Predicted": 157805.95095082896,
         "_deepnote_index_column": 18948
        },
        {
         "Actual": 136194.02985074627,
         "Predicted": 162045.19549863157,
         "_deepnote_index_column": 6587
        },
        {
         "Actual": 156666.66666666666,
         "Predicted": 184166.1816609319,
         "_deepnote_index_column": 4907
        },
        {
         "Actual": 206521.73913043478,
         "Predicted": 220079.03616656884,
         "_deepnote_index_column": 9364
        },
        {
         "Actual": 289655.1724137931,
         "Predicted": 369479.0026258217,
         "_deepnote_index_column": 15601
        },
        {
         "Actual": 243856.3585951941,
         "Predicted": 278113.91215000406,
         "_deepnote_index_column": 565
        },
        {
         "Actual": 286929.6875,
         "Predicted": 268633.68358565326,
         "_deepnote_index_column": 19669
        },
        {
         "Actual": 462328.76712328766,
         "Predicted": 386897.60067694244,
         "_deepnote_index_column": 7775
        },
        {
         "Actual": 553846.1538461539,
         "Predicted": 475340.0324824306,
         "_deepnote_index_column": 19102
        },
        {
         "Actual": 174509.80392156861,
         "Predicted": 149922.84159764188,
         "_deepnote_index_column": 4534
        },
        {
         "Actual": 184415.58441558442,
         "Predicted": 165189.75682786197,
         "_deepnote_index_column": 20513
        },
        {
         "Actual": 151116.9513797635,
         "Predicted": 145652.31878905458,
         "_deepnote_index_column": 17663
        },
        {
         "Actual": 134098.7124463519,
         "Predicted": 135840.67351991512,
         "_deepnote_index_column": 10211
        },
        {
         "Actual": 736040.6091370558,
         "Predicted": 639428.7623222531,
         "_deepnote_index_column": 16499
        },
        {
         "Actual": 127000,
         "Predicted": 121880.62019023049,
         "_deepnote_index_column": 9453
        },
        {
         "Actual": 160606.0606060606,
         "Predicted": 173720.1603000241,
         "_deepnote_index_column": 7459
        },
        {
         "Actual": 222457.62711864404,
         "Predicted": 220331.59575219578,
         "_deepnote_index_column": 15585
        },
        {
         "Actual": 386333.3333333333,
         "Predicted": 246173.48541409208,
         "_deepnote_index_column": 11749
        },
        {
         "Actual": 133750,
         "Predicted": 142219.72944493365,
         "_deepnote_index_column": 6023
        },
        {
         "Actual": 234589.04109589042,
         "Predicted": 267679.47686139337,
         "_deepnote_index_column": 12839
        },
        {
         "Actual": 309523.8095238095,
         "Predicted": 265233.4039250837,
         "_deepnote_index_column": 22685
        },
        {
         "Actual": 122071.51664611591,
         "Predicted": 113031.00584683268,
         "_deepnote_index_column": 6414
        },
        {
         "Actual": 186046.51162790696,
         "Predicted": 179719.07286233775,
         "_deepnote_index_column": 19827
        },
        {
         "Actual": 175000,
         "Predicted": 182525.71538766325,
         "_deepnote_index_column": 9791
        },
        {
         "Actual": 195714.2857142857,
         "Predicted": 192505.0618053353,
         "_deepnote_index_column": 9973
        },
        {
         "Actual": 148893.12977099238,
         "Predicted": 174873.12944480294,
         "_deepnote_index_column": 6801
        },
        {
         "Actual": 230769.23076923078,
         "Predicted": 200209.7507330645,
         "_deepnote_index_column": 9728
        },
        {
         "Actual": 219594.5945945946,
         "Predicted": 220093.95327899314,
         "_deepnote_index_column": 1548
        },
        {
         "Actual": 400847.22222222225,
         "Predicted": 454223.6679052307,
         "_deepnote_index_column": 8035
        },
        {
         "Actual": 503875.96899224806,
         "Predicted": 662485.68230975,
         "_deepnote_index_column": 23260
        },
        {
         "Actual": 181564.24581005587,
         "Predicted": 218483.35980038147,
         "_deepnote_index_column": 14323
        },
        {
         "Actual": 153333.33333333334,
         "Predicted": 155934.7337651449,
         "_deepnote_index_column": 5978
        },
        {
         "Actual": 114925.37313432836,
         "Predicted": 133627.87045586848,
         "_deepnote_index_column": 16611
        },
        {
         "Actual": 118518.51851851853,
         "Predicted": 132234.05417119883,
         "_deepnote_index_column": 4244
        },
        {
         "Actual": 129411.76470588235,
         "Predicted": 136966.569818287,
         "_deepnote_index_column": 19914
        },
        {
         "Actual": 322873.54953475646,
         "Predicted": 313733.10378167854,
         "_deepnote_index_column": 811
        },
        {
         "Actual": 591863.2816537467,
         "Predicted": 371050.9300743652,
         "_deepnote_index_column": 6567
        },
        {
         "Actual": 137600,
         "Predicted": 130186.3606297234,
         "_deepnote_index_column": 9296
        },
        {
         "Actual": 328658.9005930778,
         "Predicted": 332683.88988736225,
         "_deepnote_index_column": 481
        },
        {
         "Actual": 234600.00000000003,
         "Predicted": 260558.52432034278,
         "_deepnote_index_column": 2820
        },
        {
         "Actual": 415000,
         "Predicted": 533939.1835318337,
         "_deepnote_index_column": 4563
        },
        {
         "Actual": 375000,
         "Predicted": 431605.83538675145,
         "_deepnote_index_column": 3283
        },
        {
         "Actual": 113989.63730569948,
         "Predicted": 158765.9535151095,
         "_deepnote_index_column": 12742
        },
        {
         "Actual": 132400,
         "Predicted": 124092.34357596071,
         "_deepnote_index_column": 5836
        },
        {
         "Actual": 505514.70588235295,
         "Predicted": 441112.40250569873,
         "_deepnote_index_column": 16229
        },
        {
         "Actual": 208904.1095890411,
         "Predicted": 198906.5036905843,
         "_deepnote_index_column": 22194
        },
        {
         "Actual": 220238.09523809524,
         "Predicted": 220458.82876785312,
         "_deepnote_index_column": 13419
        },
        {
         "Actual": 332000,
         "Predicted": 311544.5554663891,
         "_deepnote_index_column": 6893
        },
        {
         "Actual": 583728.813559322,
         "Predicted": 687055.5734484054,
         "_deepnote_index_column": 2483
        },
        {
         "Actual": 165467.62589928057,
         "Predicted": 188814.81022711555,
         "_deepnote_index_column": 4111
        },
        {
         "Actual": 165000,
         "Predicted": 164253.93479857626,
         "_deepnote_index_column": 14255
        },
        {
         "Actual": 187380.4971319312,
         "Predicted": 177810.7201955792,
         "_deepnote_index_column": 11564
        },
        {
         "Actual": 261055.63480741798,
         "Predicted": 449954.4586920838,
         "_deepnote_index_column": 3187
        },
        {
         "Actual": 255500.00000000003,
         "Predicted": 229550.55589565868,
         "_deepnote_index_column": 10645
        },
        {
         "Actual": 201000,
         "Predicted": 205073.58086219063,
         "_deepnote_index_column": 8467
        },
        {
         "Actual": 167400,
         "Predicted": 140138.67447883866,
         "_deepnote_index_column": 21312
        },
        {
         "Actual": 144000,
         "Predicted": 130338.94257213551,
         "_deepnote_index_column": 11697
        },
        {
         "Actual": 193620.68965517243,
         "Predicted": 214600.20575696861,
         "_deepnote_index_column": 7686
        },
        {
         "Actual": 138636.36363636365,
         "Predicted": 138724.6248623446,
         "_deepnote_index_column": 199
        },
        {
         "Actual": 347355.4366438356,
         "Predicted": 319141.1215473822,
         "_deepnote_index_column": 12143
        },
        {
         "Actual": 165354.3307086614,
         "Predicted": 170976.00191252897,
         "_deepnote_index_column": 6091
        },
        {
         "Actual": 128000,
         "Predicted": 133763.60824369953,
         "_deepnote_index_column": 4182
        },
        {
         "Actual": 356880.05886681384,
         "Predicted": 465769.2343231151,
         "_deepnote_index_column": 16827
        },
        {
         "Actual": 248917.9023961862,
         "Predicted": 254025.5293712918,
         "_deepnote_index_column": 18189
        },
        {
         "Actual": 198200,
         "Predicted": 193994.1993545244,
         "_deepnote_index_column": 16732
        },
        {
         "Actual": 134071.34071340715,
         "Predicted": 129157.10573039508,
         "_deepnote_index_column": 10554
        },
        {
         "Actual": 145000,
         "Predicted": 136974.86033726385,
         "_deepnote_index_column": 6375
        },
        {
         "Actual": 190355.3299492386,
         "Predicted": 173615.36964297632,
         "_deepnote_index_column": 12761
        },
        {
         "Actual": 283730.15873015876,
         "Predicted": 323908.752442778,
         "_deepnote_index_column": 16227
        },
        {
         "Actual": 350318.4713375796,
         "Predicted": 323215.0659502026,
         "_deepnote_index_column": 15671
        },
        {
         "Actual": 116500,
         "Predicted": 122050.85073230395,
         "_deepnote_index_column": 246
        },
        {
         "Actual": 347150.2590673575,
         "Predicted": 330239.3163041135,
         "_deepnote_index_column": 2751
        },
        {
         "Actual": 192105.26315789475,
         "Predicted": 178741.09077746508,
         "_deepnote_index_column": 9817
        },
        {
         "Actual": 154672.13758079408,
         "Predicted": 174963.93550524008,
         "_deepnote_index_column": 19281
        },
        {
         "Actual": 183333.33333333334,
         "Predicted": 180490.29504912643,
         "_deepnote_index_column": 20837
        },
        {
         "Actual": 176315.7894736842,
         "Predicted": 206214.14578486068,
         "_deepnote_index_column": 19109
        },
        {
         "Actual": 321500,
         "Predicted": 303864.655187567,
         "_deepnote_index_column": 16503
        },
        {
         "Actual": 165000,
         "Predicted": 175579.80403058062,
         "_deepnote_index_column": 20274
        },
        {
         "Actual": 245098.03921568627,
         "Predicted": 236224.4335358944,
         "_deepnote_index_column": 10649
        },
        {
         "Actual": 387043.01075268816,
         "Predicted": 407035.5384563819,
         "_deepnote_index_column": 20430
        },
        {
         "Actual": 509259.25,
         "Predicted": 687129.4636149406,
         "_deepnote_index_column": 20566
        },
        {
         "Actual": 188144.32989690723,
         "Predicted": 205749.73422669113,
         "_deepnote_index_column": 20641
        },
        {
         "Actual": 420168.06722689077,
         "Predicted": 535386.7352173182,
         "_deepnote_index_column": 8045
        },
        {
         "Actual": 180303.0303030303,
         "Predicted": 164562.55947340874,
         "_deepnote_index_column": 3867
        },
        {
         "Actual": 140600,
         "Predicted": 136798.74796493657,
         "_deepnote_index_column": 6256
        },
        {
         "Actual": 128491.62011173184,
         "Predicted": 137672.06464461138,
         "_deepnote_index_column": 5754
        },
        {
         "Actual": 270642.2018348624,
         "Predicted": 267237.1516819811,
         "_deepnote_index_column": 19029
        },
        {
         "Actual": 262068.9655172414,
         "Predicted": 468603.8695845844,
         "_deepnote_index_column": 3579
        },
        {
         "Actual": 225290.99602203182,
         "Predicted": 273362.72012265463,
         "_deepnote_index_column": 2073
        },
        {
         "Actual": 241269.84126984127,
         "Predicted": 247845.80174753073,
         "_deepnote_index_column": 4805
        },
        {
         "Actual": 264705.8823529412,
         "Predicted": 343084.9191917637,
         "_deepnote_index_column": 2641
        },
        {
         "Actual": 221481.4814814815,
         "Predicted": 289538.6078925508,
         "_deepnote_index_column": 10329
        },
        {
         "Actual": 481859.410430839,
         "Predicted": 454586.5256579543,
         "_deepnote_index_column": 2484
        },
        {
         "Actual": 164500,
         "Predicted": 160175.71667450215,
         "_deepnote_index_column": 7345
        },
        {
         "Actual": 177050,
         "Predicted": 173330.1794844055,
         "_deepnote_index_column": 18903
        },
        {
         "Actual": 415600,
         "Predicted": 397716.901233526,
         "_deepnote_index_column": 7662
        },
        {
         "Actual": 181700,
         "Predicted": 190082.9775024883,
         "_deepnote_index_column": 7252
        },
        {
         "Actual": 250000,
         "Predicted": 196875.4987991588,
         "_deepnote_index_column": 19825
        },
        {
         "Actual": 1173469.387755102,
         "Predicted": 733914.3476309113,
         "_deepnote_index_column": 3142
        },
        {
         "Actual": 187500,
         "Predicted": 168831.63971276063,
         "_deepnote_index_column": 11413
        },
        {
         "Actual": 192727.27272727274,
         "Predicted": 165007.3672443331,
         "_deepnote_index_column": 3729
        },
        {
         "Actual": 160900,
         "Predicted": 156919.2704796361,
         "_deepnote_index_column": 22973
        },
        {
         "Actual": 295000,
         "Predicted": 287844.35995133425,
         "_deepnote_index_column": 10514
        },
        {
         "Actual": 182457.42152466366,
         "Predicted": 182944.15958155086,
         "_deepnote_index_column": 21562
        },
        {
         "Actual": 288637.194008038,
         "Predicted": 270054.5684667654,
         "_deepnote_index_column": 17868
        },
        {
         "Actual": 231111.11111111112,
         "Predicted": 227062.8865308563,
         "_deepnote_index_column": 21584
        },
        {
         "Actual": 212500,
         "Predicted": 266674.10035473836,
         "_deepnote_index_column": 12176
        },
        {
         "Actual": 194915.25423728814,
         "Predicted": 211807.15456487605,
         "_deepnote_index_column": 17629
        },
        {
         "Actual": 309375,
         "Predicted": 309504.84268770774,
         "_deepnote_index_column": 21566
        },
        {
         "Actual": 188253.01204819276,
         "Predicted": 176694.59998584597,
         "_deepnote_index_column": 3608
        },
        {
         "Actual": 293103.4482758621,
         "Predicted": 326181.976952527,
         "_deepnote_index_column": 12076
        },
        {
         "Actual": 277025.5536626916,
         "Predicted": 284468.50512911286,
         "_deepnote_index_column": 17365
        },
        {
         "Actual": 197547.6839237057,
         "Predicted": 183776.10722252243,
         "_deepnote_index_column": 976
        },
        {
         "Actual": 106330.00316656112,
         "Predicted": 103510.8353952964,
         "_deepnote_index_column": 18124
        },
        {
         "Actual": 134000,
         "Predicted": 131364.21865958703,
         "_deepnote_index_column": 17316
        },
        {
         "Actual": 185185.1851851852,
         "Predicted": 151288.20777053363,
         "_deepnote_index_column": 7100
        },
        {
         "Actual": 217948.71794871794,
         "Predicted": 249388.83020814607,
         "_deepnote_index_column": 4862
        },
        {
         "Actual": 245098.03921568627,
         "Predicted": 241679.4929259483,
         "_deepnote_index_column": 4799
        },
        {
         "Actual": 189024.39024390245,
         "Predicted": 177300.58092418185,
         "_deepnote_index_column": 8543
        },
        {
         "Actual": 648206.5217391305,
         "Predicted": 775209.7184980682,
         "_deepnote_index_column": 14639
        },
        {
         "Actual": 189482.75862068965,
         "Predicted": 250289.73236032226,
         "_deepnote_index_column": 16009
        },
        {
         "Actual": 225000,
         "Predicted": 209261.2922062914,
         "_deepnote_index_column": 8971
        },
        {
         "Actual": 1154303.9951179822,
         "Predicted": 735315.0688172842,
         "_deepnote_index_column": 10590
        },
        {
         "Actual": 202753.88205345778,
         "Predicted": 215508.92692999792,
         "_deepnote_index_column": 11862
        },
        {
         "Actual": 306163.1039343842,
         "Predicted": 321255.1692456793,
         "_deepnote_index_column": 2060
        },
        {
         "Actual": 198387.09677419355,
         "Predicted": 204514.37075095056,
         "_deepnote_index_column": 2206
        },
        {
         "Actual": 322592.6261521637,
         "Predicted": 320621.9213758759,
         "_deepnote_index_column": 2055
        },
        {
         "Actual": 443037.9746835443,
         "Predicted": 454068.47288218205,
         "_deepnote_index_column": 19805
        },
        {
         "Actual": 123076.92307692308,
         "Predicted": 141943.72381723794,
         "_deepnote_index_column": 5690
        },
        {
         "Actual": 198727.7142857143,
         "Predicted": 197725.8898187735,
         "_deepnote_index_column": 1201
        }
       ],
       "rows_bottom": [
        {
         "Actual": 137837.83783783784,
         "Predicted": 139262.55338766327,
         "_deepnote_index_column": 4218
        },
        {
         "Actual": 125700,
         "Predicted": 126165.00132076426,
         "_deepnote_index_column": 6113
        },
        {
         "Actual": 458941.0005685048,
         "Predicted": 475842.53330827254,
         "_deepnote_index_column": 13878
        },
        {
         "Actual": 573527.659574468,
         "Predicted": 558560.2923696162,
         "_deepnote_index_column": 19040
        },
        {
         "Actual": 127906.97674418605,
         "Predicted": 113079.29135878931,
         "_deepnote_index_column": 2275
        },
        {
         "Actual": 176470.5882352941,
         "Predicted": 200782.69400788224,
         "_deepnote_index_column": 2548
        },
        {
         "Actual": 163157.8947368421,
         "Predicted": 165524.87180503615,
         "_deepnote_index_column": 18506
        },
        {
         "Actual": 415162.45487364626,
         "Predicted": 375500.9308217924,
         "_deepnote_index_column": 2664
        },
        {
         "Actual": 113287.90459965928,
         "Predicted": 126889.38860034735,
         "_deepnote_index_column": 8864
        },
        {
         "Actual": 240200,
         "Predicted": 234430.92169844557,
         "_deepnote_index_column": 13696
        },
        {
         "Actual": 2401218.507572959,
         "Predicted": 844662.2731093441,
         "_deepnote_index_column": 3557
        },
        {
         "Actual": 184068.18181818182,
         "Predicted": 169344.28141428862,
         "_deepnote_index_column": 22813
        },
        {
         "Actual": 197619.04761904763,
         "Predicted": 197660.5262980844,
         "_deepnote_index_column": 4850
        },
        {
         "Actual": 393795.6204379562,
         "Predicted": 418667.22243599396,
         "_deepnote_index_column": 17390
        },
        {
         "Actual": 166129.03225806452,
         "Predicted": 245392.64897125744,
         "_deepnote_index_column": 11535
        },
        {
         "Actual": 130405.4054054054,
         "Predicted": 135388.60924406972,
         "_deepnote_index_column": 17206
        },
        {
         "Actual": 141346.15384615384,
         "Predicted": 138941.01451089926,
         "_deepnote_index_column": 19791
        },
        {
         "Actual": 165570,
         "Predicted": 164763.78270643862,
         "_deepnote_index_column": 5186
        },
        {
         "Actual": 179968.70109546167,
         "Predicted": 184259.79959534944,
         "_deepnote_index_column": 16324
        },
        {
         "Actual": 157593.12320916905,
         "Predicted": 174889.6468487259,
         "_deepnote_index_column": 6026
        },
        {
         "Actual": 211111.11111111112,
         "Predicted": 239742.8915177072,
         "_deepnote_index_column": 1092
        },
        {
         "Actual": 143100,
         "Predicted": 146582.04790236038,
         "_deepnote_index_column": 19694
        },
        {
         "Actual": 169300.22573363432,
         "Predicted": 161142.80990458466,
         "_deepnote_index_column": 8683
        },
        {
         "Actual": 97142.85714285714,
         "Predicted": 91468.04379743649,
         "_deepnote_index_column": 8239
        },
        {
         "Actual": 82571.42857142857,
         "Predicted": 99258.1860229719,
         "_deepnote_index_column": 13738
        },
        {
         "Actual": 93841.642228739,
         "Predicted": 95376.51735557063,
         "_deepnote_index_column": 2238
        },
        {
         "Actual": 285714.2857142857,
         "Predicted": 245452.79729638022,
         "_deepnote_index_column": 4948
        },
        {
         "Actual": 138235.29411764705,
         "Predicted": 169979.06061615294,
         "_deepnote_index_column": 12218
        },
        {
         "Actual": 128400,
         "Predicted": 131870.6238495857,
         "_deepnote_index_column": 255
        },
        {
         "Actual": 314487.63250883395,
         "Predicted": 399296.9265853779,
         "_deepnote_index_column": 21296
        },
        {
         "Actual": 236111.11111111112,
         "Predicted": 237692.83704275865,
         "_deepnote_index_column": 21700
        },
        {
         "Actual": 313619.544198895,
         "Predicted": 294409.4040692373,
         "_deepnote_index_column": 10726
        },
        {
         "Actual": 230600,
         "Predicted": 237603.11556257113,
         "_deepnote_index_column": 1831
        },
        {
         "Actual": 196500,
         "Predicted": 217818.81739163247,
         "_deepnote_index_column": 1358
        },
        {
         "Actual": 158269.98236331568,
         "Predicted": 165828.14294339856,
         "_deepnote_index_column": 6880
        },
        {
         "Actual": 320000,
         "Predicted": 408925.9829403639,
         "_deepnote_index_column": 12363
        },
        {
         "Actual": 139054.4298768375,
         "Predicted": 139208.36639102863,
         "_deepnote_index_column": 22313
        },
        {
         "Actual": 214423.07692307694,
         "Predicted": 206275.21891413236,
         "_deepnote_index_column": 1320
        },
        {
         "Actual": 180851.06382978722,
         "Predicted": 182990.66238709303,
         "_deepnote_index_column": 14130
        },
        {
         "Actual": 145118.73350923482,
         "Predicted": 154302.31683778437,
         "_deepnote_index_column": 4365
        },
        {
         "Actual": 277372.26277372264,
         "Predicted": 354673.70764567505,
         "_deepnote_index_column": 16476
        },
        {
         "Actual": 165000,
         "Predicted": 147794.2589657715,
         "_deepnote_index_column": 4141
        },
        {
         "Actual": 144230.76923076922,
         "Predicted": 137972.71316551504,
         "_deepnote_index_column": 15245
        },
        {
         "Actual": 985778.8697788698,
         "Predicted": 973768.1957196464,
         "_deepnote_index_column": 3520
        },
        {
         "Actual": 183922.166012802,
         "Predicted": 193061.216572614,
         "_deepnote_index_column": 20799
        },
        {
         "Actual": 151100,
         "Predicted": 152301.07522072174,
         "_deepnote_index_column": 14584
        },
        {
         "Actual": 112000,
         "Predicted": 121969.41396683385,
         "_deepnote_index_column": 6333
        },
        {
         "Actual": 450000,
         "Predicted": 466876.8479912069,
         "_deepnote_index_column": 12580
        },
        {
         "Actual": 170456.95652173914,
         "Predicted": 158591.695603996,
         "_deepnote_index_column": 20221
        },
        {
         "Actual": 152400,
         "Predicted": 161695.0107333612,
         "_deepnote_index_column": 10029
        },
        {
         "Actual": 222500,
         "Predicted": 162695.45159370013,
         "_deepnote_index_column": 16219
        },
        {
         "Actual": 856164.3835616439,
         "Predicted": 756517.7415343458,
         "_deepnote_index_column": 11123
        },
        {
         "Actual": 200000,
         "Predicted": 206568.76259045937,
         "_deepnote_index_column": 12922
        },
        {
         "Actual": 274362.0089104901,
         "Predicted": 250237.673387755,
         "_deepnote_index_column": 867
        },
        {
         "Actual": 187500,
         "Predicted": 181189.6230207655,
         "_deepnote_index_column": 14286
        },
        {
         "Actual": 273940.3453689168,
         "Predicted": 244125.65034843193,
         "_deepnote_index_column": 15097
        },
        {
         "Actual": 311350.9940357853,
         "Predicted": 269494.8083333171,
         "_deepnote_index_column": 21602
        },
        {
         "Actual": 139750,
         "Predicted": 158960.97598272754,
         "_deepnote_index_column": 21336
        },
        {
         "Actual": 328000,
         "Predicted": 332839.2414736925,
         "_deepnote_index_column": 11482
        },
        {
         "Actual": 183632.73453093812,
         "Predicted": 153590.6710023256,
         "_deepnote_index_column": 10848
        },
        {
         "Actual": 888598.5645933014,
         "Predicted": 747613.4884868711,
         "_deepnote_index_column": 3517
        },
        {
         "Actual": 284212.30561189994,
         "Predicted": 305289.1029139563,
         "_deepnote_index_column": 4473
        },
        {
         "Actual": 160256.41025641025,
         "Predicted": 172608.76071219778,
         "_deepnote_index_column": 13008
        },
        {
         "Actual": 201724.1379310345,
         "Predicted": 219144.09853432202,
         "_deepnote_index_column": 22164
        },
        {
         "Actual": 124805.18638573743,
         "Predicted": 128384.67363973786,
         "_deepnote_index_column": 5772
        },
        {
         "Actual": 318446.9773880942,
         "Predicted": 321587.83976590005,
         "_deepnote_index_column": 22121
        },
        {
         "Actual": 124285.71428571429,
         "Predicted": 100876.88986335829,
         "_deepnote_index_column": 2219
        },
        {
         "Actual": 145606.79611650485,
         "Predicted": 160398.86768971736,
         "_deepnote_index_column": 16593
        },
        {
         "Actual": 177480,
         "Predicted": 173214.42152339435,
         "_deepnote_index_column": 22501
        },
        {
         "Actual": 165000,
         "Predicted": 179928.17054700118,
         "_deepnote_index_column": 287
        },
        {
         "Actual": 128431.37254901961,
         "Predicted": 130341.45272027836,
         "_deepnote_index_column": 8862
        },
        {
         "Actual": 267564.1836065574,
         "Predicted": 260202.8855228453,
         "_deepnote_index_column": 4664
        },
        {
         "Actual": 210481.09965635737,
         "Predicted": 193624.48815184942,
         "_deepnote_index_column": 11165
        },
        {
         "Actual": 169512.19512195123,
         "Predicted": 177175.82826903195,
         "_deepnote_index_column": 8402
        },
        {
         "Actual": 178100,
         "Predicted": 177443.4792625741,
         "_deepnote_index_column": 19318
        },
        {
         "Actual": 214900,
         "Predicted": 204553.56038683307,
         "_deepnote_index_column": 18240
        },
        {
         "Actual": 415929.203539823,
         "Predicted": 311370.409849001,
         "_deepnote_index_column": 3573
        },
        {
         "Actual": 125925.92592592593,
         "Predicted": 124721.90272416566,
         "_deepnote_index_column": 20330
        },
        {
         "Actual": 151200,
         "Predicted": 175646.48633474522,
         "_deepnote_index_column": 19736
        },
        {
         "Actual": 126232.99973663418,
         "Predicted": 133641.9468119941,
         "_deepnote_index_column": 22281
        },
        {
         "Actual": 190772.20683287166,
         "Predicted": 233458.68702581254,
         "_deepnote_index_column": 23262
        },
        {
         "Actual": 134500,
         "Predicted": 141438.32937653473,
         "_deepnote_index_column": 11870
        },
        {
         "Actual": 212500,
         "Predicted": 258220.01894533608,
         "_deepnote_index_column": 19009
        },
        {
         "Actual": 297719.28143712576,
         "Predicted": 299768.4291494006,
         "_deepnote_index_column": 17501
        },
        {
         "Actual": 188976.3779527559,
         "Predicted": 280138.7698316263,
         "_deepnote_index_column": 15745
        },
        {
         "Actual": 224535.31440162275,
         "Predicted": 215990.1950222227,
         "_deepnote_index_column": 14318
        },
        {
         "Actual": 165000,
         "Predicted": 150655.99603939173,
         "_deepnote_index_column": 5573
        },
        {
         "Actual": 156923.07692307694,
         "Predicted": 168789.03120780204,
         "_deepnote_index_column": 16224
        },
        {
         "Actual": 289473.6842105263,
         "Predicted": 332619.88236905105,
         "_deepnote_index_column": 18021
        },
        {
         "Actual": 586907.2961373391,
         "Predicted": 407372.07289203716,
         "_deepnote_index_column": 18075
        },
        {
         "Actual": 303797.4683544304,
         "Predicted": 307511.53921338415,
         "_deepnote_index_column": 19098
        },
        {
         "Actual": 156756.75675675675,
         "Predicted": 152193.3643432047,
         "_deepnote_index_column": 6036
        },
        {
         "Actual": 170731.70731707316,
         "Predicted": 172087.64763181712,
         "_deepnote_index_column": 5660
        },
        {
         "Actual": 337837.8378378378,
         "Predicted": 380608.6437727068,
         "_deepnote_index_column": 12603
        },
        {
         "Actual": 199095.02262443438,
         "Predicted": 169174.90177795076,
         "_deepnote_index_column": 18523
        },
        {
         "Actual": 223529.41176470587,
         "Predicted": 211644.1032968187,
         "_deepnote_index_column": 1366
        },
        {
         "Actual": 165592.78350515466,
         "Predicted": 153993.59619407257,
         "_deepnote_index_column": 5884
        },
        {
         "Actual": 109113.99817017384,
         "Predicted": 105404.40091242077,
         "_deepnote_index_column": 18733
        },
        {
         "Actual": 208333.33333333334,
         "Predicted": 186701.1174155291,
         "_deepnote_index_column": 16949
        },
        {
         "Actual": 521052.63157894736,
         "Predicted": 459124.53431578376,
         "_deepnote_index_column": 8164
        },
        {
         "Actual": 226500,
         "Predicted": 248722.5385833179,
         "_deepnote_index_column": 10628
        },
        {
         "Actual": 147321.42857142858,
         "Predicted": 153163.36626961338,
         "_deepnote_index_column": 5599
        },
        {
         "Actual": 100000,
         "Predicted": 122906.24680252196,
         "_deepnote_index_column": 22
        },
        {
         "Actual": 392622.95081967214,
         "Predicted": 407481.17743994156,
         "_deepnote_index_column": 2530
        },
        {
         "Actual": 205961.8398637138,
         "Predicted": 216085.81752359882,
         "_deepnote_index_column": 17910
        },
        {
         "Actual": 311000,
         "Predicted": 283642.14179807046,
         "_deepnote_index_column": 9485
        },
        {
         "Actual": 137000,
         "Predicted": 138314.74109611462,
         "_deepnote_index_column": 21039
        },
        {
         "Actual": 280280.3738317757,
         "Predicted": 259266.24631068014,
         "_deepnote_index_column": 6549
        },
        {
         "Actual": 173750,
         "Predicted": 168860.43953655587,
         "_deepnote_index_column": 18163
        },
        {
         "Actual": 246223.14084507042,
         "Predicted": 275191.56726712786,
         "_deepnote_index_column": 10797
        },
        {
         "Actual": 391454.9653579677,
         "Predicted": 397558.48926920065,
         "_deepnote_index_column": 525
        },
        {
         "Actual": 482456.1403508772,
         "Predicted": 435746.91723563586,
         "_deepnote_index_column": 8110
        },
        {
         "Actual": 184516.06616442843,
         "Predicted": 189375.25787391313,
         "_deepnote_index_column": 8434
        },
        {
         "Actual": 979772.4399494312,
         "Predicted": 837462.3617112363,
         "_deepnote_index_column": 20562
        },
        {
         "Actual": 268172.3881706048,
         "Predicted": 267519.26384489343,
         "_deepnote_index_column": 771
        },
        {
         "Actual": 180000,
         "Predicted": 179908.2468511348,
         "_deepnote_index_column": 6653
        },
        {
         "Actual": 110750,
         "Predicted": 112189.11572023158,
         "_deepnote_index_column": 12185
        },
        {
         "Actual": 217847.76902887138,
         "Predicted": 209186.2632166169,
         "_deepnote_index_column": 22005
        },
        {
         "Actual": 136774.1935483871,
         "Predicted": 140936.8257968104,
         "_deepnote_index_column": 4403
        },
        {
         "Actual": 218750,
         "Predicted": 193892.54108121552,
         "_deepnote_index_column": 15278
        },
        {
         "Actual": 222571.00149476828,
         "Predicted": 267609.0468101289,
         "_deepnote_index_column": 18046
        },
        {
         "Actual": 210900,
         "Predicted": 211710.97802030476,
         "_deepnote_index_column": 9548
        },
        {
         "Actual": 336448.5981308411,
         "Predicted": 320918.68926068384,
         "_deepnote_index_column": 15855
        },
        {
         "Actual": 167297.2972972973,
         "Predicted": 167095.6233060247,
         "_deepnote_index_column": 6074
        },
        {
         "Actual": 188157.8947368421,
         "Predicted": 186282.40261657242,
         "_deepnote_index_column": 5607
        },
        {
         "Actual": 126779.35943060499,
         "Predicted": 137805.9703156043,
         "_deepnote_index_column": 6189
        },
        {
         "Actual": 182407.3082706767,
         "Predicted": 176581.65343021316,
         "_deepnote_index_column": 16874
        },
        {
         "Actual": 591844.6428571428,
         "Predicted": 561878.238540006,
         "_deepnote_index_column": 8091
        },
        {
         "Actual": 599130.4378818737,
         "Predicted": 654409.7574783688,
         "_deepnote_index_column": 3325
        },
        {
         "Actual": 1723956.2025316455,
         "Predicted": 859268.7345229103,
         "_deepnote_index_column": 3102
        },
        {
         "Actual": 411764.70588235295,
         "Predicted": 383112.6729067486,
         "_deepnote_index_column": 2193
        },
        {
         "Actual": 94594.5945945946,
         "Predicted": 90326.19736355549,
         "_deepnote_index_column": 8578
        },
        {
         "Actual": 365000,
         "Predicted": 386130.9366240015,
         "_deepnote_index_column": 16666
        },
        {
         "Actual": 140151.51515151514,
         "Predicted": 179051.98100100167,
         "_deepnote_index_column": 12627
        },
        {
         "Actual": 283127.20848056534,
         "Predicted": 251591.30933185297,
         "_deepnote_index_column": 14462
        },
        {
         "Actual": 228000,
         "Predicted": 199993.40919717154,
         "_deepnote_index_column": 7461
        },
        {
         "Actual": 275806.4516129032,
         "Predicted": 361433.53148385865,
         "_deepnote_index_column": 22595
        },
        {
         "Actual": 187719.29824561405,
         "Predicted": 177510.204886569,
         "_deepnote_index_column": 12992
        },
        {
         "Actual": 176781.00263852245,
         "Predicted": 175937.78248494855,
         "_deepnote_index_column": 5977
        },
        {
         "Actual": 130492.67643142477,
         "Predicted": 151716.83912848937,
         "_deepnote_index_column": 22902
        },
        {
         "Actual": 145780.05115089513,
         "Predicted": 140811.74291996192,
         "_deepnote_index_column": 14183
        },
        {
         "Actual": 354838.70967741933,
         "Predicted": 824888.4510397655,
         "_deepnote_index_column": 8053
        },
        {
         "Actual": 125000,
         "Predicted": 128587.19870682634,
         "_deepnote_index_column": 8809
        },
        {
         "Actual": 194392.52336448597,
         "Predicted": 209501.00604413758,
         "_deepnote_index_column": 15734
        },
        {
         "Actual": 317145.68880079285,
         "Predicted": 316718.4700793301,
         "_deepnote_index_column": 1150
        },
        {
         "Actual": 227722.77227722772,
         "Predicted": 213224.99863226604,
         "_deepnote_index_column": 3669
        },
        {
         "Actual": 170967.74193548388,
         "Predicted": 173497.25314856652,
         "_deepnote_index_column": 23176
        },
        {
         "Actual": 146700,
         "Predicted": 139394.67383060599,
         "_deepnote_index_column": 21432
        },
        {
         "Actual": 157836.98818356692,
         "Predicted": 144170.04285026068,
         "_deepnote_index_column": 10828
        },
        {
         "Actual": 135555.55555555556,
         "Predicted": 182712.72908106644,
         "_deepnote_index_column": 13141
        },
        {
         "Actual": 263392.85714285716,
         "Predicted": 272959.1508954345,
         "_deepnote_index_column": 4883
        },
        {
         "Actual": 190807.79944289694,
         "Predicted": 197756.1150781478,
         "_deepnote_index_column": 651
        },
        {
         "Actual": 197142.85714285713,
         "Predicted": 183925.5831454516,
         "_deepnote_index_column": 5457
        },
        {
         "Actual": 289565.0058616647,
         "Predicted": 274145.968309769,
         "_deepnote_index_column": 3208
        },
        {
         "Actual": 1050000,
         "Predicted": 980775.0625091528,
         "_deepnote_index_column": 3472
        },
        {
         "Actual": 584537.9271708683,
         "Predicted": 598400.1944453169,
         "_deepnote_index_column": 13694
        },
        {
         "Actual": 125499.99999999999,
         "Predicted": 129385.43351574871,
         "_deepnote_index_column": 19526
        },
        {
         "Actual": 257950.01248439454,
         "Predicted": 256082.93184858793,
         "_deepnote_index_column": 11159
        },
        {
         "Actual": 97517.7304964539,
         "Predicted": 107860.78426310571,
         "_deepnote_index_column": 21396
        },
        {
         "Actual": 143487.8587196468,
         "Predicted": 164073.3841407583,
         "_deepnote_index_column": 21153
        },
        {
         "Actual": 299012.69393511984,
         "Predicted": 330680.25936332176,
         "_deepnote_index_column": 13926
        },
        {
         "Actual": 125700,
         "Predicted": 123440.94525842302,
         "_deepnote_index_column": 15197
        },
        {
         "Actual": 134000,
         "Predicted": 133634.72137407708,
         "_deepnote_index_column": 10497
        },
        {
         "Actual": 561235.9550561798,
         "Predicted": 457460.3298824836,
         "_deepnote_index_column": 21297
        },
        {
         "Actual": 166648.14814814815,
         "Predicted": 189333.04270103056,
         "_deepnote_index_column": 15316
        },
        {
         "Actual": 154100,
         "Predicted": 152068.7149823517,
         "_deepnote_index_column": 14247
        },
        {
         "Actual": 205000,
         "Predicted": 207047.2236869551,
         "_deepnote_index_column": 22500
        },
        {
         "Actual": 211818.18181818182,
         "Predicted": 230973.56290358747,
         "_deepnote_index_column": 10229
        },
        {
         "Actual": 134596.15384615384,
         "Predicted": 142807.83273677403,
         "_deepnote_index_column": 4253
        },
        {
         "Actual": 245000,
         "Predicted": 292204.96409754915,
         "_deepnote_index_column": 10789
        },
        {
         "Actual": 939759.0361445784,
         "Predicted": 554013.260932659,
         "_deepnote_index_column": 20390
        },
        {
         "Actual": 228571.42857142858,
         "Predicted": 233241.3956601668,
         "_deepnote_index_column": 16399
        },
        {
         "Actual": 218718.75,
         "Predicted": 204108.01819191675,
         "_deepnote_index_column": 9788
        },
        {
         "Actual": 185200,
         "Predicted": 187659.71875535417,
         "_deepnote_index_column": 3625
        },
        {
         "Actual": 178684.2105263158,
         "Predicted": 227687.05553220044,
         "_deepnote_index_column": 14162
        },
        {
         "Actual": 224204.94699646643,
         "Predicted": 265130.90865755064,
         "_deepnote_index_column": 18968
        },
        {
         "Actual": 192187.5,
         "Predicted": 177831.8418811668,
         "_deepnote_index_column": 1728
        },
        {
         "Actual": 208961.7160826595,
         "Predicted": 229706.55742730724,
         "_deepnote_index_column": 14358
        },
        {
         "Actual": 127118.64406779662,
         "Predicted": 158959.62304461218,
         "_deepnote_index_column": 20836
        },
        {
         "Actual": 179910.04497751125,
         "Predicted": 256627.52374867757,
         "_deepnote_index_column": 19969
        },
        {
         "Actual": 124760.00000000001,
         "Predicted": 116684.30585924996,
         "_deepnote_index_column": 9546
        },
        {
         "Actual": 289500,
         "Predicted": 265022.6782461443,
         "_deepnote_index_column": 11940
        },
        {
         "Actual": 583657.5875486381,
         "Predicted": 639593.3277721994,
         "_deepnote_index_column": 1416
        },
        {
         "Actual": 176939.44206008583,
         "Predicted": 159867.27513181153,
         "_deepnote_index_column": 536
        },
        {
         "Actual": 272270.999581765,
         "Predicted": 297856.35710163164,
         "_deepnote_index_column": 2088
        },
        {
         "Actual": 430769.23076923075,
         "Predicted": 425675.39330130664,
         "_deepnote_index_column": 15866
        },
        {
         "Actual": 191815.831202046,
         "Predicted": 213900.75198506308,
         "_deepnote_index_column": 19699
        },
        {
         "Actual": 94012.5,
         "Predicted": 99898.04441205095,
         "_deepnote_index_column": 5618
        },
        {
         "Actual": 353254.57493629836,
         "Predicted": 346290.67263022973,
         "_deepnote_index_column": 4641
        },
        {
         "Actual": 619057,
         "Predicted": 424996.5054234726,
         "_deepnote_index_column": 12098
        },
        {
         "Actual": 272276.42276422767,
         "Predicted": 282164.5966078183,
         "_deepnote_index_column": 15605
        },
        {
         "Actual": 265900,
         "Predicted": 272913.9501473644,
         "_deepnote_index_column": 2089
        },
        {
         "Actual": 201923.07692307694,
         "Predicted": 228769.74697998425,
         "_deepnote_index_column": 19795
        },
        {
         "Actual": 140892.601010101,
         "Predicted": 164660.539651901,
         "_deepnote_index_column": 713
        },
        {
         "Actual": 433692.3076923077,
         "Predicted": 457480.2112199812,
         "_deepnote_index_column": 3111
        },
        {
         "Actual": 308000,
         "Predicted": 326100.1298712931,
         "_deepnote_index_column": 793
        },
        {
         "Actual": 472631.5789473684,
         "Predicted": 465010.39366590907,
         "_deepnote_index_column": 2985
        },
        {
         "Actual": 203773.5849056604,
         "Predicted": 187014.8823762533,
         "_deepnote_index_column": 15331
        },
        {
         "Actual": 254975.12437810944,
         "Predicted": 240969.93239087437,
         "_deepnote_index_column": 4499
        },
        {
         "Actual": 322046.29496402876,
         "Predicted": 307185.6816090865,
         "_deepnote_index_column": 13903
        },
        {
         "Actual": 147286.82170542635,
         "Predicted": 165774.84270830464,
         "_deepnote_index_column": 9369
        },
        {
         "Actual": 226315.7894736842,
         "Predicted": 265294.19855110784,
         "_deepnote_index_column": 10243
        },
        {
         "Actual": 193750,
         "Predicted": 195435.14648743987,
         "_deepnote_index_column": 10208
        },
        {
         "Actual": 172140.4303510759,
         "Predicted": 180403.34573009075,
         "_deepnote_index_column": 11799
        },
        {
         "Actual": 143065.69343065695,
         "Predicted": 154030.50968038986,
         "_deepnote_index_column": 13833
        },
        {
         "Actual": 124882.46896551724,
         "Predicted": 119538.68573399949,
         "_deepnote_index_column": 384
        },
        {
         "Actual": 160686.01583113457,
         "Predicted": 162033.33350514877,
         "_deepnote_index_column": 10188
        },
        {
         "Actual": 203440.09489916964,
         "Predicted": 194794.91681843388,
         "_deepnote_index_column": 15960
        },
        {
         "Actual": 500000,
         "Predicted": 490142.7730900243,
         "_deepnote_index_column": 15887
        },
        {
         "Actual": 140900,
         "Predicted": 135507.96158674092,
         "_deepnote_index_column": 14905
        },
        {
         "Actual": 199300,
         "Predicted": 185670.80755219652,
         "_deepnote_index_column": 1191
        },
        {
         "Actual": 191916.8,
         "Predicted": 197598.0210849947,
         "_deepnote_index_column": 10356
        },
        {
         "Actual": 124285.71428571429,
         "Predicted": 127080.02353745671,
         "_deepnote_index_column": 23124
        },
        {
         "Actual": 180765.80587711488,
         "Predicted": 208042.79728915176,
         "_deepnote_index_column": 20528
        },
        {
         "Actual": 254823.03135888503,
         "Predicted": 281847.71238353266,
         "_deepnote_index_column": 19785
        },
        {
         "Actual": 222548.0564784053,
         "Predicted": 221279.04244347656,
         "_deepnote_index_column": 17912
        },
        {
         "Actual": 259615.38461538462,
         "Predicted": 174241.6112189663,
         "_deepnote_index_column": 5962
        },
        {
         "Actual": 194778.4994697773,
         "Predicted": 184437.43940141972,
         "_deepnote_index_column": 19418
        },
        {
         "Actual": 304659.4982078853,
         "Predicted": 275776.8418686462,
         "_deepnote_index_column": 6818
        },
        {
         "Actual": 213235.29411764705,
         "Predicted": 205877.2406642198,
         "_deepnote_index_column": 15976
        },
        {
         "Actual": 181333.33333333334,
         "Predicted": 188558.11947707098,
         "_deepnote_index_column": 2137
        },
        {
         "Actual": 488043.47826086957,
         "Predicted": 417561.5540160215,
         "_deepnote_index_column": 21288
        },
        {
         "Actual": 360934.18259023357,
         "Predicted": 322108.44860065536,
         "_deepnote_index_column": 19649
        },
        {
         "Actual": 125000,
         "Predicted": 126922.91696519627,
         "_deepnote_index_column": 20120
        },
        {
         "Actual": 173999.03521466473,
         "Predicted": 143283.19008601457,
         "_deepnote_index_column": 6133
        },
        {
         "Actual": 84285.71428571429,
         "Predicted": 97015.74190676978,
         "_deepnote_index_column": 2320
        },
        {
         "Actual": 145067.6982591876,
         "Predicted": 170258.12330844492,
         "_deepnote_index_column": 20828
        },
        {
         "Actual": 187285.2233676976,
         "Predicted": 180594.2558401408,
         "_deepnote_index_column": 12274
        },
        {
         "Actual": 149825.78397212544,
         "Predicted": 150718.68596679243,
         "_deepnote_index_column": 21918
        },
        {
         "Actual": 250000,
         "Predicted": 232958.83325325447,
         "_deepnote_index_column": 14055
        },
        {
         "Actual": 248858.44748858447,
         "Predicted": 286608.8007538928,
         "_deepnote_index_column": 4722
        },
        {
         "Actual": 210714.2857142857,
         "Predicted": 310214.7792689678,
         "_deepnote_index_column": 19913
        },
        {
         "Actual": 142828.57142857142,
         "Predicted": 138129.79021868465,
         "_deepnote_index_column": 22238
        },
        {
         "Actual": 182260,
         "Predicted": 185842.2773749166,
         "_deepnote_index_column": 9530
        },
        {
         "Actual": 310932.79839518556,
         "Predicted": 291248.6000635544,
         "_deepnote_index_column": 16025
        },
        {
         "Actual": 208395.80209895052,
         "Predicted": 212821.52742497734,
         "_deepnote_index_column": 1506
        },
        {
         "Actual": 192600,
         "Predicted": 179860.77879181603,
         "_deepnote_index_column": 5941
        },
        {
         "Actual": 186274.50980392157,
         "Predicted": 188584.25625942115,
         "_deepnote_index_column": 19599
        },
        {
         "Actual": 473684.2105263158,
         "Predicted": 678213.2152255157,
         "_deepnote_index_column": 8158
        },
        {
         "Actual": 156126.48221343872,
         "Predicted": 165273.99429723778,
         "_deepnote_index_column": 8697
        },
        {
         "Actual": 171428.57142857142,
         "Predicted": 160038.262428338,
         "_deepnote_index_column": 15703
        },
        {
         "Actual": 587000,
         "Predicted": 523919.9407964232,
         "_deepnote_index_column": 15777
        },
        {
         "Actual": 758377.4250440917,
         "Predicted": 685434.0714607262,
         "_deepnote_index_column": 3272
        },
        {
         "Actual": 172475,
         "Predicted": 186520.6949505038,
         "_deepnote_index_column": 15730
        },
        {
         "Actual": 172766.25172890734,
         "Predicted": 189524.73478482224,
         "_deepnote_index_column": 21588
        },
        {
         "Actual": 119453.75209380234,
         "Predicted": 132800.90303529624,
         "_deepnote_index_column": 5606
        },
        {
         "Actual": 500000,
         "Predicted": 864574.2715798403,
         "_deepnote_index_column": 8243
        },
        {
         "Actual": 163109.75609756098,
         "Predicted": 170856.12921696395,
         "_deepnote_index_column": 13490
        },
        {
         "Actual": 179500,
         "Predicted": 167433.25540373148,
         "_deepnote_index_column": 7008
        },
        {
         "Actual": 255190.31141868513,
         "Predicted": 285159.0047708245,
         "_deepnote_index_column": 13227
        }
       ]
      },
      "text/plain": "              Actual      Predicted\n10307  641025.641026  610668.885476\n2684   370277.777778  434309.844730\n15931  213851.992410  183244.908960\n10683  187598.116170  168366.712469\n22217  189556.509299  453746.533418\n...              ...            ...\n5606   119453.752094  132800.903035\n8243   500000.000000  864574.271580\n13490  163109.756098  170856.129217\n7008   179500.000000  167433.255404\n13227  255190.311419  285159.004771\n\n[4657 rows x 2 columns]",
      "text/html": "<div>\n<style scoped>\n    .dataframe tbody tr th:only-of-type {\n        vertical-align: middle;\n    }\n\n    .dataframe tbody tr th {\n        vertical-align: top;\n    }\n\n    .dataframe thead th {\n        text-align: right;\n    }\n</style>\n<table border=\"1\" class=\"dataframe\">\n  <thead>\n    <tr style=\"text-align: right;\">\n      <th></th>\n      <th>Actual</th>\n      <th>Predicted</th>\n    </tr>\n  </thead>\n  <tbody>\n    <tr>\n      <th>10307</th>\n      <td>641025.641026</td>\n      <td>610668.885476</td>\n    </tr>\n    <tr>\n      <th>2684</th>\n      <td>370277.777778</td>\n      <td>434309.844730</td>\n    </tr>\n    <tr>\n      <th>15931</th>\n      <td>213851.992410</td>\n      <td>183244.908960</td>\n    </tr>\n    <tr>\n      <th>10683</th>\n      <td>187598.116170</td>\n      <td>168366.712469</td>\n    </tr>\n    <tr>\n      <th>22217</th>\n      <td>189556.509299</td>\n      <td>453746.533418</td>\n    </tr>\n    <tr>\n      <th>...</th>\n      <td>...</td>\n      <td>...</td>\n    </tr>\n    <tr>\n      <th>5606</th>\n      <td>119453.752094</td>\n      <td>132800.903035</td>\n    </tr>\n    <tr>\n      <th>8243</th>\n      <td>500000.000000</td>\n      <td>864574.271580</td>\n    </tr>\n    <tr>\n      <th>13490</th>\n      <td>163109.756098</td>\n      <td>170856.129217</td>\n    </tr>\n    <tr>\n      <th>7008</th>\n      <td>179500.000000</td>\n      <td>167433.255404</td>\n    </tr>\n    <tr>\n      <th>13227</th>\n      <td>255190.311419</td>\n      <td>285159.004771</td>\n    </tr>\n  </tbody>\n</table>\n<p>4657 rows × 2 columns</p>\n</div>"
     },
     "metadata": {}
    }
   ]
  },
  {
   "cell_type": "code",
   "metadata": {
    "tags": [],
    "deepnote_to_be_reexecuted": false,
    "source_hash": "84fcc5e",
    "execution_start": 1637257678224,
    "execution_millis": 767,
    "deepnote_output_heights": [
     40
    ],
    "cell_id": "00012-ce67507c-e3cf-40bb-91d1-eed6ae02f0e6",
    "deepnote_cell_type": "code"
   },
   "source": "final_labels = model.predict(X1_test)\nfinal_labels = final_labels.astype(float)\nfinal_labels",
   "execution_count": null,
   "outputs": [
    {
     "output_type": "execute_result",
     "execution_count": 12,
     "data": {
      "text/plain": "array([486725.09990443, 166303.00596529, 162085.64090198, ...,\n       227744.66705782, 255909.39672418, 100767.35696157])"
     },
     "metadata": {}
    }
   ]
  },
  {
   "cell_type": "code",
   "metadata": {
    "tags": [],
    "deepnote_to_be_reexecuted": false,
    "source_hash": "c0767376",
    "execution_start": 1637257678999,
    "execution_millis": 7,
    "deepnote_output_heights": [
     21
    ],
    "cell_id": "00013-c4af85cf-a329-4d69-bf6b-bb2943564854",
    "deepnote_cell_type": "code"
   },
   "source": "\nfinal_labels = final_labels * df_test.area_total.values\nlen(final_labels)",
   "execution_count": null,
   "outputs": [
    {
     "output_type": "execute_result",
     "execution_count": 13,
     "data": {
      "text/plain": "9937"
     },
     "metadata": {}
    }
   ]
  },
  {
   "cell_type": "code",
   "metadata": {
    "tags": [],
    "deepnote_to_be_reexecuted": false,
    "source_hash": "89c8d0ca",
    "execution_start": 1637257679010,
    "execution_millis": 2445,
    "cell_id": "00014-a395a9e7-bdfd-4f1a-891c-3a8a7e8cd919",
    "deepnote_cell_type": "code"
   },
   "source": "y_train_hat = model.predict(X_train) * X_train.area_total.values ## * edit\ny_valid_hat = model.predict(X_val) * X_val.area_total.values ## * edit\n\ny_train = y_train * df_train.area_total.values ## edit\ny_valid = y_valid * df_valid.area_total.values ## edit\n\nprint(f'Train RMSLE: {root_mean_squared_log_error(y_true=y_train, y_pred=y_train_hat) :.4f}')\nprint(f'Valid RMSLE: {root_mean_squared_log_error(y_true=y_val, y_pred=y_valid_hat) :.4f}')\n\n#Train RMSLE: 0.1283\n#Valid RMSLE: 0.1761",
   "execution_count": null,
   "outputs": [
    {
     "output_type": "error",
     "ename": "ValueError",
     "evalue": "operands could not be broadcast together with shapes (18628,) (23285,) ",
     "traceback": [
      "\u001b[0;31m---------------------------------------------------------------------------\u001b[0m",
      "\u001b[0;31mValueError\u001b[0m                                Traceback (most recent call last)",
      "\u001b[0;32m<ipython-input-14-45421e3fb9b9>\u001b[0m in \u001b[0;36m<module>\u001b[0;34m\u001b[0m\n\u001b[0;32m----> 1\u001b[0;31m \u001b[0my_train_hat\u001b[0m \u001b[0;34m=\u001b[0m \u001b[0mmodel\u001b[0m\u001b[0;34m.\u001b[0m\u001b[0mpredict\u001b[0m\u001b[0;34m(\u001b[0m\u001b[0mX_train\u001b[0m\u001b[0;34m)\u001b[0m \u001b[0;34m*\u001b[0m \u001b[0mdf_train\u001b[0m\u001b[0;34m.\u001b[0m\u001b[0marea_total\u001b[0m\u001b[0;34m.\u001b[0m\u001b[0mvalues\u001b[0m \u001b[0;31m## * edit\u001b[0m\u001b[0;34m\u001b[0m\u001b[0;34m\u001b[0m\u001b[0m\n\u001b[0m\u001b[1;32m      2\u001b[0m \u001b[0my_valid_hat\u001b[0m \u001b[0;34m=\u001b[0m \u001b[0mmodel\u001b[0m\u001b[0;34m.\u001b[0m\u001b[0mpredict\u001b[0m\u001b[0;34m(\u001b[0m\u001b[0mX_val\u001b[0m\u001b[0;34m)\u001b[0m \u001b[0;34m*\u001b[0m \u001b[0mdf_valid\u001b[0m\u001b[0;34m.\u001b[0m\u001b[0marea_total\u001b[0m\u001b[0;34m.\u001b[0m\u001b[0mvalues\u001b[0m \u001b[0;31m## * edit\u001b[0m\u001b[0;34m\u001b[0m\u001b[0;34m\u001b[0m\u001b[0m\n\u001b[1;32m      3\u001b[0m \u001b[0;34m\u001b[0m\u001b[0m\n\u001b[1;32m      4\u001b[0m \u001b[0my_train\u001b[0m \u001b[0;34m=\u001b[0m \u001b[0my_train\u001b[0m \u001b[0;34m*\u001b[0m \u001b[0mdf_train\u001b[0m\u001b[0;34m.\u001b[0m\u001b[0marea_total\u001b[0m\u001b[0;34m.\u001b[0m\u001b[0mvalues\u001b[0m \u001b[0;31m## edit\u001b[0m\u001b[0;34m\u001b[0m\u001b[0;34m\u001b[0m\u001b[0m\n\u001b[1;32m      5\u001b[0m \u001b[0my_valid\u001b[0m \u001b[0;34m=\u001b[0m \u001b[0my_valid\u001b[0m \u001b[0;34m*\u001b[0m \u001b[0mdf_valid\u001b[0m\u001b[0;34m.\u001b[0m\u001b[0marea_total\u001b[0m\u001b[0;34m.\u001b[0m\u001b[0mvalues\u001b[0m \u001b[0;31m## edit\u001b[0m\u001b[0;34m\u001b[0m\u001b[0;34m\u001b[0m\u001b[0m\n",
      "\u001b[0;31mValueError\u001b[0m: operands could not be broadcast together with shapes (18628,) (23285,) "
     ]
    }
   ]
  },
  {
   "cell_type": "code",
   "metadata": {
    "tags": [],
    "deepnote_to_be_reexecuted": true,
    "source_hash": "b623e53d",
    "cell_id": "00015-0d66640d-1bd4-41b7-bd64-904ff2170461",
    "deepnote_cell_type": "code"
   },
   "source": "",
   "execution_count": null,
   "outputs": []
  },
  {
   "cell_type": "code",
   "metadata": {
    "tags": [],
    "deepnote_to_be_reexecuted": false,
    "source_hash": "d6c7e449",
    "execution_start": 1637257693917,
    "execution_millis": 44,
    "cell_id": "00016-31b1ffb6-a0cd-4e89-8f7b-a2c5cf28d1de",
    "deepnote_cell_type": "code"
   },
   "source": "submission = pd.DataFrame()\nsubmission['id'] = df_test.id\nsubmission['price_prediction'] = final_labels # Predict on non-nan entries\n # Fill missing entries with mean predictor\nprint(f'Generated {len(submission)} predictions')\n\n# Export submission to csv with headers\n#submission.to_csv('sample_submission.csv', index=False)\n\nsubmission.to_csv('sample_submission8.csv', index=False)",
   "execution_count": null,
   "outputs": [
    {
     "name": "stdout",
     "text": "Generated 9937 predictions\n",
     "output_type": "stream"
    }
   ]
  },
  {
   "cell_type": "markdown",
   "source": "<a style='text-decoration:none;line-height:16px;display:flex;color:#5B5B62;padding:10px;justify-content:end;' href='https://deepnote.com?utm_source=created-in-deepnote-cell&projectId=99c1e030-46bc-40fa-835c-0661eae0d488' target=\"_blank\">\n<img alt='Created in deepnote.com' style='display:inline;max-height:16px;margin:0px;margin-right:7.5px;' src='data:image/svg+xml;base64,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' > </img>\nCreated in <span style='font-weight:600;margin-left:4px;'>Deepnote</span></a>",
   "metadata": {
    "tags": [],
    "created_in_deepnote_cell": true,
    "deepnote_cell_type": "markdown"
   }
  }
 ],
 "nbformat": 4,
 "nbformat_minor": 2,
 "metadata": {
  "orig_nbformat": 2,
  "deepnote": {
   "is_reactive": false
  },
  "deepnote_notebook_id": "1b0b9516-e366-4f76-9139-56788ff2a853",
  "deepnote_execution_queue": []
 }
}