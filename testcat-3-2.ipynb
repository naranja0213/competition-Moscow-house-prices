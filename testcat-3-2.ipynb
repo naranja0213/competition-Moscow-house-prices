{
 "cells": [
  {
   "cell_type": "code",
   "metadata": {
    "tags": [],
    "deepnote_to_be_reexecuted": false,
    "source_hash": "7958d4a9",
    "execution_start": 1637346467592,
    "execution_millis": 5000,
    "cell_id": "00000-a49920f4-c94c-46f2-9d61-43c93ce875d7",
    "deepnote_cell_type": "code"
   },
   "source": "!pip install -r requirements.txt",
   "outputs": [
    {
     "name": "stdout",
     "text": "Requirement already satisfied: xgboost in /root/venv/lib/python3.9/site-packages (from -r requirements.txt (line 1)) (1.5.0)\nRequirement already satisfied: catboost in /root/venv/lib/python3.9/site-packages (from -r requirements.txt (line 2)) (1.0.3)\nRequirement already satisfied: ipywidgets in /root/venv/lib/python3.9/site-packages (from -r requirements.txt (line 3)) (7.6.5)\nRequirement already satisfied: LightGBM in /root/venv/lib/python3.9/site-packages (from -r requirements.txt (line 4)) (3.3.1)\nRequirement already satisfied: scipy in /shared-libs/python3.9/py/lib/python3.9/site-packages (from xgboost->-r requirements.txt (line 1)) (1.7.2)\nRequirement already satisfied: numpy in /root/venv/lib/python3.9/site-packages (from xgboost->-r requirements.txt (line 1)) (1.20.3)\nRequirement already satisfied: pandas>=0.24.0 in /shared-libs/python3.9/py/lib/python3.9/site-packages (from catboost->-r requirements.txt (line 2)) (1.2.5)\nRequirement already satisfied: plotly in /shared-libs/python3.9/py/lib/python3.9/site-packages (from catboost->-r requirements.txt (line 2)) (5.3.1)\nRequirement already satisfied: matplotlib in /shared-libs/python3.9/py/lib/python3.9/site-packages (from catboost->-r requirements.txt (line 2)) (3.4.3)\nRequirement already satisfied: six in /shared-libs/python3.9/py-core/lib/python3.9/site-packages (from catboost->-r requirements.txt (line 2)) (1.16.0)\nRequirement already satisfied: graphviz in /root/venv/lib/python3.9/site-packages (from catboost->-r requirements.txt (line 2)) (0.18.2)\nRequirement already satisfied: jupyterlab-widgets>=1.0.0 in /root/venv/lib/python3.9/site-packages (from ipywidgets->-r requirements.txt (line 3)) (1.0.2)\nRequirement already satisfied: ipython-genutils~=0.2.0 in /shared-libs/python3.9/py-core/lib/python3.9/site-packages (from ipywidgets->-r requirements.txt (line 3)) (0.2.0)\nRequirement already satisfied: nbformat>=4.2.0 in /shared-libs/python3.9/py-core/lib/python3.9/site-packages (from ipywidgets->-r requirements.txt (line 3)) (5.1.3)\nRequirement already satisfied: ipython>=4.0.0 in /shared-libs/python3.9/py-core/lib/python3.9/site-packages (from ipywidgets->-r requirements.txt (line 3)) (7.29.0)\nRequirement already satisfied: ipykernel>=4.5.1 in /shared-libs/python3.9/py-core/lib/python3.9/site-packages (from ipywidgets->-r requirements.txt (line 3)) (5.5.5)\nRequirement already satisfied: traitlets>=4.3.1 in /shared-libs/python3.9/py-core/lib/python3.9/site-packages (from ipywidgets->-r requirements.txt (line 3)) (4.3.3)\nRequirement already satisfied: widgetsnbextension~=3.5.0 in /root/venv/lib/python3.9/site-packages (from ipywidgets->-r requirements.txt (line 3)) (3.5.2)\nRequirement already satisfied: scikit-learn!=0.22.0 in /shared-libs/python3.9/py/lib/python3.9/site-packages (from LightGBM->-r requirements.txt (line 4)) (1.0.1)\nRequirement already satisfied: wheel in /usr/local/lib/python3.9/site-packages (from LightGBM->-r requirements.txt (line 4)) (0.37.0)\nRequirement already satisfied: tornado>=4.2 in /shared-libs/python3.9/py-core/lib/python3.9/site-packages (from ipykernel>=4.5.1->ipywidgets->-r requirements.txt (line 3)) (6.1)\nRequirement already satisfied: jupyter-client in /shared-libs/python3.9/py-core/lib/python3.9/site-packages (from ipykernel>=4.5.1->ipywidgets->-r requirements.txt (line 3)) (6.1.12)\nRequirement already satisfied: pickleshare in /shared-libs/python3.9/py-core/lib/python3.9/site-packages (from ipython>=4.0.0->ipywidgets->-r requirements.txt (line 3)) (0.7.5)\nRequirement already satisfied: backcall in /shared-libs/python3.9/py-core/lib/python3.9/site-packages (from ipython>=4.0.0->ipywidgets->-r requirements.txt (line 3)) (0.2.0)\nRequirement already satisfied: pexpect>4.3 in /shared-libs/python3.9/py-core/lib/python3.9/site-packages (from ipython>=4.0.0->ipywidgets->-r requirements.txt (line 3)) (4.8.0)\nRequirement already satisfied: prompt-toolkit!=3.0.0,!=3.0.1,<3.1.0,>=2.0.0 in /shared-libs/python3.9/py-core/lib/python3.9/site-packages (from ipython>=4.0.0->ipywidgets->-r requirements.txt (line 3)) (3.0.22)\nRequirement already satisfied: matplotlib-inline in /shared-libs/python3.9/py-core/lib/python3.9/site-packages (from ipython>=4.0.0->ipywidgets->-r requirements.txt (line 3)) (0.1.3)\nRequirement already satisfied: pygments in /shared-libs/python3.9/py-core/lib/python3.9/site-packages (from ipython>=4.0.0->ipywidgets->-r requirements.txt (line 3)) (2.10.0)\nRequirement already satisfied: setuptools>=18.5 in /root/venv/lib/python3.9/site-packages (from ipython>=4.0.0->ipywidgets->-r requirements.txt (line 3)) (57.4.0)\nRequirement already satisfied: decorator in /shared-libs/python3.9/py-core/lib/python3.9/site-packages (from ipython>=4.0.0->ipywidgets->-r requirements.txt (line 3)) (5.1.0)\nRequirement already satisfied: jedi>=0.16 in /shared-libs/python3.9/py-core/lib/python3.9/site-packages (from ipython>=4.0.0->ipywidgets->-r requirements.txt (line 3)) (0.17.2)\nRequirement already satisfied: parso<0.8.0,>=0.7.0 in /shared-libs/python3.9/py-core/lib/python3.9/site-packages (from jedi>=0.16->ipython>=4.0.0->ipywidgets->-r requirements.txt (line 3)) (0.7.1)\nRequirement already satisfied: jupyter-core in /shared-libs/python3.9/py-core/lib/python3.9/site-packages (from nbformat>=4.2.0->ipywidgets->-r requirements.txt (line 3)) (4.7.1)\nRequirement already satisfied: jsonschema!=2.5.0,>=2.4 in /shared-libs/python3.9/py-core/lib/python3.9/site-packages (from nbformat>=4.2.0->ipywidgets->-r requirements.txt (line 3)) (3.2.0)\nRequirement already satisfied: pyrsistent>=0.14.0 in /shared-libs/python3.9/py-core/lib/python3.9/site-packages (from jsonschema!=2.5.0,>=2.4->nbformat>=4.2.0->ipywidgets->-r requirements.txt (line 3)) (0.18.0)\nRequirement already satisfied: attrs>=17.4.0 in /shared-libs/python3.9/py-core/lib/python3.9/site-packages (from jsonschema!=2.5.0,>=2.4->nbformat>=4.2.0->ipywidgets->-r requirements.txt (line 3)) (21.2.0)\nRequirement already satisfied: pytz>=2017.3 in /shared-libs/python3.9/py/lib/python3.9/site-packages (from pandas>=0.24.0->catboost->-r requirements.txt (line 2)) (2021.3)\nRequirement already satisfied: python-dateutil>=2.7.3 in /shared-libs/python3.9/py-core/lib/python3.9/site-packages (from pandas>=0.24.0->catboost->-r requirements.txt (line 2)) (2.8.2)\nRequirement already satisfied: ptyprocess>=0.5 in /shared-libs/python3.9/py-core/lib/python3.9/site-packages (from pexpect>4.3->ipython>=4.0.0->ipywidgets->-r requirements.txt (line 3)) (0.7.0)\nRequirement already satisfied: wcwidth in /shared-libs/python3.9/py-core/lib/python3.9/site-packages (from prompt-toolkit!=3.0.0,!=3.0.1,<3.1.0,>=2.0.0->ipython>=4.0.0->ipywidgets->-r requirements.txt (line 3)) (0.2.5)\nRequirement already satisfied: threadpoolctl>=2.0.0 in /shared-libs/python3.9/py/lib/python3.9/site-packages (from scikit-learn!=0.22.0->LightGBM->-r requirements.txt (line 4)) (3.0.0)\nRequirement already satisfied: joblib>=0.11 in /shared-libs/python3.9/py/lib/python3.9/site-packages (from scikit-learn!=0.22.0->LightGBM->-r requirements.txt (line 4)) (1.1.0)\nRequirement already satisfied: notebook>=4.4.1 in /shared-libs/python3.9/py-core/lib/python3.9/site-packages (from widgetsnbextension~=3.5.0->ipywidgets->-r requirements.txt (line 3)) (6.3.0)\nRequirement already satisfied: prometheus-client in /shared-libs/python3.9/py-core/lib/python3.9/site-packages (from notebook>=4.4.1->widgetsnbextension~=3.5.0->ipywidgets->-r requirements.txt (line 3)) (0.12.0)\nRequirement already satisfied: nbconvert==6.0.7 in /shared-libs/python3.9/py-core/lib/python3.9/site-packages (from notebook>=4.4.1->widgetsnbextension~=3.5.0->ipywidgets->-r requirements.txt (line 3)) (6.0.7)\nRequirement already satisfied: terminado>=0.8.3 in /shared-libs/python3.9/py-core/lib/python3.9/site-packages (from notebook>=4.4.1->widgetsnbextension~=3.5.0->ipywidgets->-r requirements.txt (line 3)) (0.12.1)\nRequirement already satisfied: argon2-cffi in /shared-libs/python3.9/py-core/lib/python3.9/site-packages (from notebook>=4.4.1->widgetsnbextension~=3.5.0->ipywidgets->-r requirements.txt (line 3)) (21.1.0)\nRequirement already satisfied: Send2Trash>=1.5.0 in /shared-libs/python3.9/py-core/lib/python3.9/site-packages (from notebook>=4.4.1->widgetsnbextension~=3.5.0->ipywidgets->-r requirements.txt (line 3)) (1.8.0)\nRequirement already satisfied: pyzmq>=17 in /shared-libs/python3.9/py-core/lib/python3.9/site-packages (from notebook>=4.4.1->widgetsnbextension~=3.5.0->ipywidgets->-r requirements.txt (line 3)) (22.3.0)\nRequirement already satisfied: jinja2 in /shared-libs/python3.9/py-core/lib/python3.9/site-packages (from notebook>=4.4.1->widgetsnbextension~=3.5.0->ipywidgets->-r requirements.txt (line 3)) (3.0.3)\nRequirement already satisfied: bleach in /shared-libs/python3.9/py-core/lib/python3.9/site-packages (from nbconvert==6.0.7->notebook>=4.4.1->widgetsnbextension~=3.5.0->ipywidgets->-r requirements.txt (line 3)) (4.1.0)\nRequirement already satisfied: testpath in /shared-libs/python3.9/py-core/lib/python3.9/site-packages (from nbconvert==6.0.7->notebook>=4.4.1->widgetsnbextension~=3.5.0->ipywidgets->-r requirements.txt (line 3)) (0.5.0)\nRequirement already satisfied: defusedxml in /shared-libs/python3.9/py-core/lib/python3.9/site-packages (from nbconvert==6.0.7->notebook>=4.4.1->widgetsnbextension~=3.5.0->ipywidgets->-r requirements.txt (line 3)) (0.7.1)\nRequirement already satisfied: jupyterlab-pygments in /shared-libs/python3.9/py-core/lib/python3.9/site-packages (from nbconvert==6.0.7->notebook>=4.4.1->widgetsnbextension~=3.5.0->ipywidgets->-r requirements.txt (line 3)) (0.1.2)\nRequirement already satisfied: mistune<2,>=0.8.1 in /shared-libs/python3.9/py-core/lib/python3.9/site-packages (from nbconvert==6.0.7->notebook>=4.4.1->widgetsnbextension~=3.5.0->ipywidgets->-r requirements.txt (line 3)) (0.8.4)\nRequirement already satisfied: pandocfilters>=1.4.1 in /shared-libs/python3.9/py-core/lib/python3.9/site-packages (from nbconvert==6.0.7->notebook>=4.4.1->widgetsnbextension~=3.5.0->ipywidgets->-r requirements.txt (line 3)) (1.5.0)\nRequirement already satisfied: nbclient<0.6.0,>=0.5.0 in /shared-libs/python3.9/py-core/lib/python3.9/site-packages (from nbconvert==6.0.7->notebook>=4.4.1->widgetsnbextension~=3.5.0->ipywidgets->-r requirements.txt (line 3)) (0.5.8)\nRequirement already satisfied: entrypoints>=0.2.2 in /shared-libs/python3.9/py-core/lib/python3.9/site-packages (from nbconvert==6.0.7->notebook>=4.4.1->widgetsnbextension~=3.5.0->ipywidgets->-r requirements.txt (line 3)) (0.3)\nRequirement already satisfied: MarkupSafe>=2.0 in /shared-libs/python3.9/py-core/lib/python3.9/site-packages (from jinja2->notebook>=4.4.1->widgetsnbextension~=3.5.0->ipywidgets->-r requirements.txt (line 3)) (2.0.1)\nRequirement already satisfied: nest-asyncio in /shared-libs/python3.9/py-core/lib/python3.9/site-packages (from nbclient<0.6.0,>=0.5.0->nbconvert==6.0.7->notebook>=4.4.1->widgetsnbextension~=3.5.0->ipywidgets->-r requirements.txt (line 3)) (1.5.1)\nRequirement already satisfied: cffi>=1.0.0 in /shared-libs/python3.9/py-core/lib/python3.9/site-packages (from argon2-cffi->notebook>=4.4.1->widgetsnbextension~=3.5.0->ipywidgets->-r requirements.txt (line 3)) (1.15.0)\nRequirement already satisfied: pycparser in /shared-libs/python3.9/py-core/lib/python3.9/site-packages (from cffi>=1.0.0->argon2-cffi->notebook>=4.4.1->widgetsnbextension~=3.5.0->ipywidgets->-r requirements.txt (line 3)) (2.21)\nRequirement already satisfied: packaging in /shared-libs/python3.9/py-core/lib/python3.9/site-packages (from bleach->nbconvert==6.0.7->notebook>=4.4.1->widgetsnbextension~=3.5.0->ipywidgets->-r requirements.txt (line 3)) (21.2)\nRequirement already satisfied: webencodings in /shared-libs/python3.9/py-core/lib/python3.9/site-packages (from bleach->nbconvert==6.0.7->notebook>=4.4.1->widgetsnbextension~=3.5.0->ipywidgets->-r requirements.txt (line 3)) (0.5.1)\nRequirement already satisfied: pillow>=6.2.0 in /shared-libs/python3.9/py/lib/python3.9/site-packages (from matplotlib->catboost->-r requirements.txt (line 2)) (8.4.0)\nRequirement already satisfied: cycler>=0.10 in /shared-libs/python3.9/py/lib/python3.9/site-packages (from matplotlib->catboost->-r requirements.txt (line 2)) (0.11.0)\nRequirement already satisfied: pyparsing>=2.2.1 in /shared-libs/python3.9/py-core/lib/python3.9/site-packages (from matplotlib->catboost->-r requirements.txt (line 2)) (2.4.7)\nRequirement already satisfied: kiwisolver>=1.0.1 in /shared-libs/python3.9/py/lib/python3.9/site-packages (from matplotlib->catboost->-r requirements.txt (line 2)) (1.3.2)\nRequirement already satisfied: tenacity>=6.2.0 in /shared-libs/python3.9/py/lib/python3.9/site-packages (from plotly->catboost->-r requirements.txt (line 2)) (8.0.1)\n\u001b[33mWARNING: You are using pip version 21.2.3; however, version 21.3.1 is available.\nYou should consider upgrading via the '/root/venv/bin/python -m pip install --upgrade pip' command.\u001b[0m\n",
     "output_type": "stream"
    }
   ],
   "execution_count": null
  },
  {
   "cell_type": "code",
   "metadata": {
    "tags": [],
    "deepnote_to_be_reexecuted": false,
    "source_hash": "85c8f1a6",
    "execution_start": 1637346472575,
    "execution_millis": 1956,
    "cell_id": "00001-dacf7dd1-361e-43c5-99dc-682f2d5642af",
    "deepnote_cell_type": "code"
   },
   "source": "import json\nimport pandas as pd\nimport numpy as np\nimport math as math\nimport matplotlib.pyplot as plt\nimport seaborn as sns\nimport sklearn.model_selection as model_selection\nimport sklearn.tree as tree\nfrom sklearn.linear_model import LogisticRegression\nfrom sklearn.linear_model import LinearRegression\nimport time\nfrom sklearn.model_selection import GridSearchCV\nfrom sklearn.tree import DecisionTreeRegressor\nimport catboost\nfrom catboost import CatBoostClassifier\nfrom catboost import CatBoostRegressor\nfrom sklearn.model_selection import train_test_split\n",
   "outputs": [],
   "execution_count": null
  },
  {
   "cell_type": "code",
   "metadata": {
    "tags": [],
    "deepnote_to_be_reexecuted": false,
    "source_hash": "a410fd6f",
    "execution_start": 1637346474539,
    "execution_millis": 131,
    "cell_id": "00002-fd819972-1385-4b40-93ae-f51d17ef632d",
    "deepnote_cell_type": "code"
   },
   "source": "df_train = pd.read_csv('Training_clean.csv')\ndef root_mean_squared_log_error(y_true, y_pred):\n    # Alternatively: sklearn.metrics.mean_squared_log_error(y_true, y_pred) ** 0.5\n    assert (y_true >= 0).all() \n    assert (y_pred >= 0).all()\n    log_error = np.log1p(y_pred) - np.log1p(y_true)  # Note: log1p(x) = log(1 + x)\n    return np.mean(log_error ** 2) ** 0.5\n\ndf_test = pd.read_csv('Test_clean.csv')\n    \n",
   "outputs": [],
   "execution_count": null
  },
  {
   "cell_type": "code",
   "metadata": {
    "tags": [],
    "deepnote_to_be_reexecuted": false,
    "source_hash": "5e2a9c26",
    "execution_start": 1637346474776,
    "execution_millis": 98,
    "cell_id": "00003-10fc7c31-51cd-4332-b724-fb42e70d0c80",
    "deepnote_cell_type": "code"
   },
   "source": "df_train.head()",
   "outputs": [
    {
     "output_type": "execute_result",
     "execution_count": 4,
     "data": {
      "application/vnd.deepnote.dataframe.v2+json": {
       "row_count": 5,
       "column_count": 33,
       "columns": [
        {
         "name": "id",
         "dtype": "int64",
         "stats": {
          "unique_count": 5,
          "nan_count": 0,
          "min": "0",
          "max": "4",
          "histogram": [
           {
            "bin_start": 0,
            "bin_end": 0.4,
            "count": 1
           },
           {
            "bin_start": 0.4,
            "bin_end": 0.8,
            "count": 0
           },
           {
            "bin_start": 0.8,
            "bin_end": 1.2000000000000002,
            "count": 1
           },
           {
            "bin_start": 1.2000000000000002,
            "bin_end": 1.6,
            "count": 0
           },
           {
            "bin_start": 1.6,
            "bin_end": 2,
            "count": 0
           },
           {
            "bin_start": 2,
            "bin_end": 2.4000000000000004,
            "count": 1
           },
           {
            "bin_start": 2.4000000000000004,
            "bin_end": 2.8000000000000003,
            "count": 0
           },
           {
            "bin_start": 2.8000000000000003,
            "bin_end": 3.2,
            "count": 1
           },
           {
            "bin_start": 3.2,
            "bin_end": 3.6,
            "count": 0
           },
           {
            "bin_start": 3.6,
            "bin_end": 4,
            "count": 1
           }
          ]
         }
        },
        {
         "name": "seller",
         "dtype": "int64",
         "stats": {
          "unique_count": 3,
          "nan_count": 0,
          "min": "1",
          "max": "3",
          "histogram": [
           {
            "bin_start": 1,
            "bin_end": 1.2,
            "count": 2
           },
           {
            "bin_start": 1.2,
            "bin_end": 1.4,
            "count": 0
           },
           {
            "bin_start": 1.4,
            "bin_end": 1.6,
            "count": 0
           },
           {
            "bin_start": 1.6,
            "bin_end": 1.8,
            "count": 0
           },
           {
            "bin_start": 1.8,
            "bin_end": 2,
            "count": 0
           },
           {
            "bin_start": 2,
            "bin_end": 2.2,
            "count": 1
           },
           {
            "bin_start": 2.2,
            "bin_end": 2.4000000000000004,
            "count": 0
           },
           {
            "bin_start": 2.4000000000000004,
            "bin_end": 2.6,
            "count": 0
           },
           {
            "bin_start": 2.6,
            "bin_end": 2.8,
            "count": 0
           },
           {
            "bin_start": 2.8,
            "bin_end": 3,
            "count": 2
           }
          ]
         }
        },
        {
         "name": "price",
         "dtype": "float64",
         "stats": {
          "unique_count": 4,
          "nan_count": 0,
          "min": "7139520.0",
          "max": "13900000.0",
          "histogram": [
           {
            "bin_start": 7139520,
            "bin_end": 7815568,
            "count": 1
           },
           {
            "bin_start": 7815568,
            "bin_end": 8491616,
            "count": 0
           },
           {
            "bin_start": 8491616,
            "bin_end": 9167664,
            "count": 1
           },
           {
            "bin_start": 9167664,
            "bin_end": 9843712,
            "count": 0
           },
           {
            "bin_start": 9843712,
            "bin_end": 10519760,
            "count": 2
           },
           {
            "bin_start": 10519760,
            "bin_end": 11195808,
            "count": 0
           },
           {
            "bin_start": 11195808,
            "bin_end": 11871856,
            "count": 0
           },
           {
            "bin_start": 11871856,
            "bin_end": 12547904,
            "count": 0
           },
           {
            "bin_start": 12547904,
            "bin_end": 13223952,
            "count": 0
           },
           {
            "bin_start": 13223952,
            "bin_end": 13900000,
            "count": 1
           }
          ]
         }
        },
        {
         "name": "area_total",
         "dtype": "float64",
         "stats": {
          "unique_count": 4,
          "nan_count": 0,
          "min": "59.2",
          "max": "88.0",
          "histogram": [
           {
            "bin_start": 59.2,
            "bin_end": 62.080000000000005,
            "count": 1
           },
           {
            "bin_start": 62.080000000000005,
            "bin_end": 64.96000000000001,
            "count": 0
           },
           {
            "bin_start": 64.96000000000001,
            "bin_end": 67.84,
            "count": 0
           },
           {
            "bin_start": 67.84,
            "bin_end": 70.72,
            "count": 0
           },
           {
            "bin_start": 70.72,
            "bin_end": 73.6,
            "count": 0
           },
           {
            "bin_start": 73.6,
            "bin_end": 76.48,
            "count": 0
           },
           {
            "bin_start": 76.48,
            "bin_end": 79.36,
            "count": 2
           },
           {
            "bin_start": 79.36,
            "bin_end": 82.24000000000001,
            "count": 0
           },
           {
            "bin_start": 82.24000000000001,
            "bin_end": 85.12,
            "count": 0
           },
           {
            "bin_start": 85.12,
            "bin_end": 88,
            "count": 2
           }
          ]
         }
        },
        {
         "name": "area_kitchen",
         "dtype": "float64",
         "stats": {
          "unique_count": 5,
          "nan_count": 0,
          "min": "12.5",
          "max": "22.5",
          "histogram": [
           {
            "bin_start": 12.5,
            "bin_end": 13.5,
            "count": 1
           },
           {
            "bin_start": 13.5,
            "bin_end": 14.5,
            "count": 2
           },
           {
            "bin_start": 14.5,
            "bin_end": 15.5,
            "count": 0
           },
           {
            "bin_start": 15.5,
            "bin_end": 16.5,
            "count": 0
           },
           {
            "bin_start": 16.5,
            "bin_end": 17.5,
            "count": 1
           },
           {
            "bin_start": 17.5,
            "bin_end": 18.5,
            "count": 0
           },
           {
            "bin_start": 18.5,
            "bin_end": 19.5,
            "count": 0
           },
           {
            "bin_start": 19.5,
            "bin_end": 20.5,
            "count": 0
           },
           {
            "bin_start": 20.5,
            "bin_end": 21.5,
            "count": 0
           },
           {
            "bin_start": 21.5,
            "bin_end": 22.5,
            "count": 1
           }
          ]
         }
        },
        {
         "name": "area_living",
         "dtype": "float64",
         "stats": {
          "unique_count": 4,
          "nan_count": 0,
          "min": "31.0",
          "max": "48.0",
          "histogram": [
           {
            "bin_start": 31,
            "bin_end": 32.7,
            "count": 1
           },
           {
            "bin_start": 32.7,
            "bin_end": 34.4,
            "count": 0
           },
           {
            "bin_start": 34.4,
            "bin_end": 36.1,
            "count": 1
           },
           {
            "bin_start": 36.1,
            "bin_end": 37.8,
            "count": 0
           },
           {
            "bin_start": 37.8,
            "bin_end": 39.5,
            "count": 0
           },
           {
            "bin_start": 39.5,
            "bin_end": 41.2,
            "count": 1
           },
           {
            "bin_start": 41.2,
            "bin_end": 42.9,
            "count": 0
           },
           {
            "bin_start": 42.9,
            "bin_end": 44.6,
            "count": 0
           },
           {
            "bin_start": 44.6,
            "bin_end": 46.3,
            "count": 0
           },
           {
            "bin_start": 46.3,
            "bin_end": 48,
            "count": 2
           }
          ]
         }
        },
        {
         "name": "floor",
         "dtype": "int64",
         "stats": {
          "unique_count": 4,
          "nan_count": 0,
          "min": "2",
          "max": "18",
          "histogram": [
           {
            "bin_start": 2,
            "bin_end": 3.6,
            "count": 1
           },
           {
            "bin_start": 3.6,
            "bin_end": 5.2,
            "count": 0
           },
           {
            "bin_start": 5.2,
            "bin_end": 6.800000000000001,
            "count": 0
           },
           {
            "bin_start": 6.800000000000001,
            "bin_end": 8.4,
            "count": 1
           },
           {
            "bin_start": 8.4,
            "bin_end": 10,
            "count": 0
           },
           {
            "bin_start": 10,
            "bin_end": 11.600000000000001,
            "count": 0
           },
           {
            "bin_start": 11.600000000000001,
            "bin_end": 13.200000000000001,
            "count": 1
           },
           {
            "bin_start": 13.200000000000001,
            "bin_end": 14.8,
            "count": 0
           },
           {
            "bin_start": 14.8,
            "bin_end": 16.4,
            "count": 0
           },
           {
            "bin_start": 16.4,
            "bin_end": 18,
            "count": 2
           }
          ]
         }
        },
        {
         "name": "rooms",
         "dtype": "int64",
         "stats": {
          "unique_count": 2,
          "nan_count": 0,
          "min": "2",
          "max": "3",
          "histogram": [
           {
            "bin_start": 2,
            "bin_end": 2.1,
            "count": 2
           },
           {
            "bin_start": 2.1,
            "bin_end": 2.2,
            "count": 0
           },
           {
            "bin_start": 2.2,
            "bin_end": 2.3,
            "count": 0
           },
           {
            "bin_start": 2.3,
            "bin_end": 2.4,
            "count": 0
           },
           {
            "bin_start": 2.4,
            "bin_end": 2.5,
            "count": 0
           },
           {
            "bin_start": 2.5,
            "bin_end": 2.6,
            "count": 0
           },
           {
            "bin_start": 2.6,
            "bin_end": 2.7,
            "count": 0
           },
           {
            "bin_start": 2.7,
            "bin_end": 2.8,
            "count": 0
           },
           {
            "bin_start": 2.8,
            "bin_end": 2.9,
            "count": 0
           },
           {
            "bin_start": 2.9,
            "bin_end": 3,
            "count": 3
           }
          ]
         }
        },
        {
         "name": "layout",
         "dtype": "int64",
         "stats": {
          "unique_count": 1,
          "nan_count": 0,
          "min": "1",
          "max": "1",
          "histogram": [
           {
            "bin_start": 0.5,
            "bin_end": 0.6,
            "count": 0
           },
           {
            "bin_start": 0.6,
            "bin_end": 0.7,
            "count": 0
           },
           {
            "bin_start": 0.7,
            "bin_end": 0.8,
            "count": 0
           },
           {
            "bin_start": 0.8,
            "bin_end": 0.9,
            "count": 0
           },
           {
            "bin_start": 0.9,
            "bin_end": 1,
            "count": 0
           },
           {
            "bin_start": 1,
            "bin_end": 1.1,
            "count": 5
           },
           {
            "bin_start": 1.1,
            "bin_end": 1.2000000000000002,
            "count": 0
           },
           {
            "bin_start": 1.2000000000000002,
            "bin_end": 1.3,
            "count": 0
           },
           {
            "bin_start": 1.3,
            "bin_end": 1.4,
            "count": 0
           },
           {
            "bin_start": 1.4,
            "bin_end": 1.5,
            "count": 0
           }
          ]
         }
        },
        {
         "name": "ceiling",
         "dtype": "int64",
         "stats": {
          "unique_count": 1,
          "nan_count": 0,
          "min": "3",
          "max": "3",
          "histogram": [
           {
            "bin_start": 2.5,
            "bin_end": 2.6,
            "count": 0
           },
           {
            "bin_start": 2.6,
            "bin_end": 2.7,
            "count": 0
           },
           {
            "bin_start": 2.7,
            "bin_end": 2.8,
            "count": 0
           },
           {
            "bin_start": 2.8,
            "bin_end": 2.9,
            "count": 0
           },
           {
            "bin_start": 2.9,
            "bin_end": 3,
            "count": 0
           },
           {
            "bin_start": 3,
            "bin_end": 3.1,
            "count": 5
           },
           {
            "bin_start": 3.1,
            "bin_end": 3.2,
            "count": 0
           },
           {
            "bin_start": 3.2,
            "bin_end": 3.3,
            "count": 0
           },
           {
            "bin_start": 3.3,
            "bin_end": 3.4,
            "count": 0
           },
           {
            "bin_start": 3.4,
            "bin_end": 3.5,
            "count": 0
           }
          ]
         }
        },
        {
         "name": "bathrooms_shared",
         "dtype": "int64",
         "stats": {
          "unique_count": 3,
          "nan_count": 0,
          "min": "0",
          "max": "2",
          "histogram": [
           {
            "bin_start": 0,
            "bin_end": 0.2,
            "count": 3
           },
           {
            "bin_start": 0.2,
            "bin_end": 0.4,
            "count": 0
           },
           {
            "bin_start": 0.4,
            "bin_end": 0.6000000000000001,
            "count": 0
           },
           {
            "bin_start": 0.6000000000000001,
            "bin_end": 0.8,
            "count": 0
           },
           {
            "bin_start": 0.8,
            "bin_end": 1,
            "count": 0
           },
           {
            "bin_start": 1,
            "bin_end": 1.2000000000000002,
            "count": 1
           },
           {
            "bin_start": 1.2000000000000002,
            "bin_end": 1.4000000000000001,
            "count": 0
           },
           {
            "bin_start": 1.4000000000000001,
            "bin_end": 1.6,
            "count": 0
           },
           {
            "bin_start": 1.6,
            "bin_end": 1.8,
            "count": 0
           },
           {
            "bin_start": 1.8,
            "bin_end": 2,
            "count": 1
           }
          ]
         }
        },
        {
         "name": "bathrooms_private",
         "dtype": "int64",
         "stats": {
          "unique_count": 2,
          "nan_count": 0,
          "min": "0",
          "max": "2",
          "histogram": [
           {
            "bin_start": 0,
            "bin_end": 0.2,
            "count": 2
           },
           {
            "bin_start": 0.2,
            "bin_end": 0.4,
            "count": 0
           },
           {
            "bin_start": 0.4,
            "bin_end": 0.6000000000000001,
            "count": 0
           },
           {
            "bin_start": 0.6000000000000001,
            "bin_end": 0.8,
            "count": 0
           },
           {
            "bin_start": 0.8,
            "bin_end": 1,
            "count": 0
           },
           {
            "bin_start": 1,
            "bin_end": 1.2000000000000002,
            "count": 0
           },
           {
            "bin_start": 1.2000000000000002,
            "bin_end": 1.4000000000000001,
            "count": 0
           },
           {
            "bin_start": 1.4000000000000001,
            "bin_end": 1.6,
            "count": 0
           },
           {
            "bin_start": 1.6,
            "bin_end": 1.8,
            "count": 0
           },
           {
            "bin_start": 1.8,
            "bin_end": 2,
            "count": 3
           }
          ]
         }
        },
        {
         "name": "windows_court",
         "dtype": "int64",
         "stats": {
          "unique_count": 2,
          "nan_count": 0,
          "min": "0",
          "max": "1",
          "histogram": [
           {
            "bin_start": 0,
            "bin_end": 0.1,
            "count": 1
           },
           {
            "bin_start": 0.1,
            "bin_end": 0.2,
            "count": 0
           },
           {
            "bin_start": 0.2,
            "bin_end": 0.30000000000000004,
            "count": 0
           },
           {
            "bin_start": 0.30000000000000004,
            "bin_end": 0.4,
            "count": 0
           },
           {
            "bin_start": 0.4,
            "bin_end": 0.5,
            "count": 0
           },
           {
            "bin_start": 0.5,
            "bin_end": 0.6000000000000001,
            "count": 0
           },
           {
            "bin_start": 0.6000000000000001,
            "bin_end": 0.7000000000000001,
            "count": 0
           },
           {
            "bin_start": 0.7000000000000001,
            "bin_end": 0.8,
            "count": 0
           },
           {
            "bin_start": 0.8,
            "bin_end": 0.9,
            "count": 0
           },
           {
            "bin_start": 0.9,
            "bin_end": 1,
            "count": 4
           }
          ]
         }
        },
        {
         "name": "windows_street",
         "dtype": "int64",
         "stats": {
          "unique_count": 1,
          "nan_count": 0,
          "min": "1",
          "max": "1",
          "histogram": [
           {
            "bin_start": 0.5,
            "bin_end": 0.6,
            "count": 0
           },
           {
            "bin_start": 0.6,
            "bin_end": 0.7,
            "count": 0
           },
           {
            "bin_start": 0.7,
            "bin_end": 0.8,
            "count": 0
           },
           {
            "bin_start": 0.8,
            "bin_end": 0.9,
            "count": 0
           },
           {
            "bin_start": 0.9,
            "bin_end": 1,
            "count": 0
           },
           {
            "bin_start": 1,
            "bin_end": 1.1,
            "count": 5
           },
           {
            "bin_start": 1.1,
            "bin_end": 1.2000000000000002,
            "count": 0
           },
           {
            "bin_start": 1.2000000000000002,
            "bin_end": 1.3,
            "count": 0
           },
           {
            "bin_start": 1.3,
            "bin_end": 1.4,
            "count": 0
           },
           {
            "bin_start": 1.4,
            "bin_end": 1.5,
            "count": 0
           }
          ]
         }
        },
        {
         "name": "balconies",
         "dtype": "int64",
         "stats": {
          "unique_count": 2,
          "nan_count": 0,
          "min": "0",
          "max": "1",
          "histogram": [
           {
            "bin_start": 0,
            "bin_end": 0.1,
            "count": 2
           },
           {
            "bin_start": 0.1,
            "bin_end": 0.2,
            "count": 0
           },
           {
            "bin_start": 0.2,
            "bin_end": 0.30000000000000004,
            "count": 0
           },
           {
            "bin_start": 0.30000000000000004,
            "bin_end": 0.4,
            "count": 0
           },
           {
            "bin_start": 0.4,
            "bin_end": 0.5,
            "count": 0
           },
           {
            "bin_start": 0.5,
            "bin_end": 0.6000000000000001,
            "count": 0
           },
           {
            "bin_start": 0.6000000000000001,
            "bin_end": 0.7000000000000001,
            "count": 0
           },
           {
            "bin_start": 0.7000000000000001,
            "bin_end": 0.8,
            "count": 0
           },
           {
            "bin_start": 0.8,
            "bin_end": 0.9,
            "count": 0
           },
           {
            "bin_start": 0.9,
            "bin_end": 1,
            "count": 3
           }
          ]
         }
        },
        {
         "name": "loggias",
         "dtype": "int64",
         "stats": {
          "unique_count": 2,
          "nan_count": 0,
          "min": "0",
          "max": "1",
          "histogram": [
           {
            "bin_start": 0,
            "bin_end": 0.1,
            "count": 2
           },
           {
            "bin_start": 0.1,
            "bin_end": 0.2,
            "count": 0
           },
           {
            "bin_start": 0.2,
            "bin_end": 0.30000000000000004,
            "count": 0
           },
           {
            "bin_start": 0.30000000000000004,
            "bin_end": 0.4,
            "count": 0
           },
           {
            "bin_start": 0.4,
            "bin_end": 0.5,
            "count": 0
           },
           {
            "bin_start": 0.5,
            "bin_end": 0.6000000000000001,
            "count": 0
           },
           {
            "bin_start": 0.6000000000000001,
            "bin_end": 0.7000000000000001,
            "count": 0
           },
           {
            "bin_start": 0.7000000000000001,
            "bin_end": 0.8,
            "count": 0
           },
           {
            "bin_start": 0.8,
            "bin_end": 0.9,
            "count": 0
           },
           {
            "bin_start": 0.9,
            "bin_end": 1,
            "count": 3
           }
          ]
         }
        },
        {
         "name": "condition",
         "dtype": "int64",
         "stats": {
          "unique_count": 3,
          "nan_count": 0,
          "min": "1",
          "max": "3",
          "histogram": [
           {
            "bin_start": 1,
            "bin_end": 1.2,
            "count": 2
           },
           {
            "bin_start": 1.2,
            "bin_end": 1.4,
            "count": 0
           },
           {
            "bin_start": 1.4,
            "bin_end": 1.6,
            "count": 0
           },
           {
            "bin_start": 1.6,
            "bin_end": 1.8,
            "count": 0
           },
           {
            "bin_start": 1.8,
            "bin_end": 2,
            "count": 0
           },
           {
            "bin_start": 2,
            "bin_end": 2.2,
            "count": 1
           },
           {
            "bin_start": 2.2,
            "bin_end": 2.4000000000000004,
            "count": 0
           },
           {
            "bin_start": 2.4000000000000004,
            "bin_end": 2.6,
            "count": 0
           },
           {
            "bin_start": 2.6,
            "bin_end": 2.8,
            "count": 0
           },
           {
            "bin_start": 2.8,
            "bin_end": 3,
            "count": 2
           }
          ]
         }
        },
        {
         "name": "phones",
         "dtype": "int64",
         "stats": {
          "unique_count": 1,
          "nan_count": 0,
          "min": "1",
          "max": "1",
          "histogram": [
           {
            "bin_start": 0.5,
            "bin_end": 0.6,
            "count": 0
           },
           {
            "bin_start": 0.6,
            "bin_end": 0.7,
            "count": 0
           },
           {
            "bin_start": 0.7,
            "bin_end": 0.8,
            "count": 0
           },
           {
            "bin_start": 0.8,
            "bin_end": 0.9,
            "count": 0
           },
           {
            "bin_start": 0.9,
            "bin_end": 1,
            "count": 0
           },
           {
            "bin_start": 1,
            "bin_end": 1.1,
            "count": 5
           },
           {
            "bin_start": 1.1,
            "bin_end": 1.2000000000000002,
            "count": 0
           },
           {
            "bin_start": 1.2000000000000002,
            "bin_end": 1.3,
            "count": 0
           },
           {
            "bin_start": 1.3,
            "bin_end": 1.4,
            "count": 0
           },
           {
            "bin_start": 1.4,
            "bin_end": 1.5,
            "count": 0
           }
          ]
         }
        },
        {
         "name": "building_id",
         "dtype": "int64",
         "stats": {
          "unique_count": 4,
          "nan_count": 0,
          "min": "1893",
          "max": "6604",
          "histogram": [
           {
            "bin_start": 1893,
            "bin_end": 2364.1,
            "count": 2
           },
           {
            "bin_start": 2364.1,
            "bin_end": 2835.2,
            "count": 0
           },
           {
            "bin_start": 2835.2,
            "bin_end": 3306.3,
            "count": 0
           },
           {
            "bin_start": 3306.3,
            "bin_end": 3777.4,
            "count": 0
           },
           {
            "bin_start": 3777.4,
            "bin_end": 4248.5,
            "count": 1
           },
           {
            "bin_start": 4248.5,
            "bin_end": 4719.6,
            "count": 0
           },
           {
            "bin_start": 4719.6,
            "bin_end": 5190.700000000001,
            "count": 1
           },
           {
            "bin_start": 5190.700000000001,
            "bin_end": 5661.8,
            "count": 0
           },
           {
            "bin_start": 5661.8,
            "bin_end": 6132.900000000001,
            "count": 0
           },
           {
            "bin_start": 6132.900000000001,
            "bin_end": 6604,
            "count": 1
           }
          ]
         }
        },
        {
         "name": "new",
         "dtype": "int64",
         "stats": {
          "unique_count": 2,
          "nan_count": 0,
          "min": "0",
          "max": "1",
          "histogram": [
           {
            "bin_start": 0,
            "bin_end": 0.1,
            "count": 3
           },
           {
            "bin_start": 0.1,
            "bin_end": 0.2,
            "count": 0
           },
           {
            "bin_start": 0.2,
            "bin_end": 0.30000000000000004,
            "count": 0
           },
           {
            "bin_start": 0.30000000000000004,
            "bin_end": 0.4,
            "count": 0
           },
           {
            "bin_start": 0.4,
            "bin_end": 0.5,
            "count": 0
           },
           {
            "bin_start": 0.5,
            "bin_end": 0.6000000000000001,
            "count": 0
           },
           {
            "bin_start": 0.6000000000000001,
            "bin_end": 0.7000000000000001,
            "count": 0
           },
           {
            "bin_start": 0.7000000000000001,
            "bin_end": 0.8,
            "count": 0
           },
           {
            "bin_start": 0.8,
            "bin_end": 0.9,
            "count": 0
           },
           {
            "bin_start": 0.9,
            "bin_end": 1,
            "count": 2
           }
          ]
         }
        },
        {
         "name": "district",
         "dtype": "int64",
         "stats": {
          "unique_count": 3,
          "nan_count": 0,
          "min": "2",
          "max": "11",
          "histogram": [
           {
            "bin_start": 2,
            "bin_end": 2.9,
            "count": 2
           },
           {
            "bin_start": 2.9,
            "bin_end": 3.8,
            "count": 0
           },
           {
            "bin_start": 3.8,
            "bin_end": 4.7,
            "count": 0
           },
           {
            "bin_start": 4.7,
            "bin_end": 5.6,
            "count": 0
           },
           {
            "bin_start": 5.6,
            "bin_end": 6.5,
            "count": 1
           },
           {
            "bin_start": 6.5,
            "bin_end": 7.4,
            "count": 0
           },
           {
            "bin_start": 7.4,
            "bin_end": 8.3,
            "count": 0
           },
           {
            "bin_start": 8.3,
            "bin_end": 9.2,
            "count": 0
           },
           {
            "bin_start": 9.2,
            "bin_end": 10.1,
            "count": 0
           },
           {
            "bin_start": 10.1,
            "bin_end": 11,
            "count": 2
           }
          ]
         }
        },
        {
         "name": "constructed",
         "dtype": "int64",
         "stats": {
          "unique_count": 3,
          "nan_count": 0,
          "min": "2010",
          "max": "2021",
          "histogram": [
           {
            "bin_start": 2010,
            "bin_end": 2011.1,
            "count": 2
           },
           {
            "bin_start": 2011.1,
            "bin_end": 2012.2,
            "count": 0
           },
           {
            "bin_start": 2012.2,
            "bin_end": 2013.3,
            "count": 0
           },
           {
            "bin_start": 2013.3,
            "bin_end": 2014.4,
            "count": 0
           },
           {
            "bin_start": 2014.4,
            "bin_end": 2015.5,
            "count": 0
           },
           {
            "bin_start": 2015.5,
            "bin_end": 2016.6,
            "count": 0
           },
           {
            "bin_start": 2016.6,
            "bin_end": 2017.7,
            "count": 1
           },
           {
            "bin_start": 2017.7,
            "bin_end": 2018.8,
            "count": 0
           },
           {
            "bin_start": 2018.8,
            "bin_end": 2019.9,
            "count": 0
           },
           {
            "bin_start": 2019.9,
            "bin_end": 2021,
            "count": 2
           }
          ]
         }
        },
        {
         "name": "material",
         "dtype": "int64",
         "stats": {
          "unique_count": 2,
          "nan_count": 0,
          "min": "2",
          "max": "3",
          "histogram": [
           {
            "bin_start": 2,
            "bin_end": 2.1,
            "count": 1
           },
           {
            "bin_start": 2.1,
            "bin_end": 2.2,
            "count": 0
           },
           {
            "bin_start": 2.2,
            "bin_end": 2.3,
            "count": 0
           },
           {
            "bin_start": 2.3,
            "bin_end": 2.4,
            "count": 0
           },
           {
            "bin_start": 2.4,
            "bin_end": 2.5,
            "count": 0
           },
           {
            "bin_start": 2.5,
            "bin_end": 2.6,
            "count": 0
           },
           {
            "bin_start": 2.6,
            "bin_end": 2.7,
            "count": 0
           },
           {
            "bin_start": 2.7,
            "bin_end": 2.8,
            "count": 0
           },
           {
            "bin_start": 2.8,
            "bin_end": 2.9,
            "count": 0
           },
           {
            "bin_start": 2.9,
            "bin_end": 3,
            "count": 4
           }
          ]
         }
        },
        {
         "name": "stories",
         "dtype": "int64",
         "stats": {
          "unique_count": 3,
          "nan_count": 0,
          "min": "9",
          "max": "25",
          "histogram": [
           {
            "bin_start": 9,
            "bin_end": 10.6,
            "count": 1
           },
           {
            "bin_start": 10.6,
            "bin_end": 12.2,
            "count": 0
           },
           {
            "bin_start": 12.2,
            "bin_end": 13.8,
            "count": 0
           },
           {
            "bin_start": 13.8,
            "bin_end": 15.4,
            "count": 2
           },
           {
            "bin_start": 15.4,
            "bin_end": 17,
            "count": 0
           },
           {
            "bin_start": 17,
            "bin_end": 18.6,
            "count": 0
           },
           {
            "bin_start": 18.6,
            "bin_end": 20.200000000000003,
            "count": 0
           },
           {
            "bin_start": 20.200000000000003,
            "bin_end": 21.8,
            "count": 0
           },
           {
            "bin_start": 21.8,
            "bin_end": 23.4,
            "count": 0
           },
           {
            "bin_start": 23.4,
            "bin_end": 25,
            "count": 2
           }
          ]
         }
        },
        {
         "name": "elevator_without",
         "dtype": "int64",
         "stats": {
          "unique_count": 1,
          "nan_count": 0,
          "min": "0",
          "max": "0",
          "histogram": [
           {
            "bin_start": -0.5,
            "bin_end": -0.4,
            "count": 0
           },
           {
            "bin_start": -0.4,
            "bin_end": -0.3,
            "count": 0
           },
           {
            "bin_start": -0.3,
            "bin_end": -0.19999999999999996,
            "count": 0
           },
           {
            "bin_start": -0.19999999999999996,
            "bin_end": -0.09999999999999998,
            "count": 0
           },
           {
            "bin_start": -0.09999999999999998,
            "bin_end": 0,
            "count": 0
           },
           {
            "bin_start": 0,
            "bin_end": 0.10000000000000009,
            "count": 5
           },
           {
            "bin_start": 0.10000000000000009,
            "bin_end": 0.20000000000000007,
            "count": 0
           },
           {
            "bin_start": 0.20000000000000007,
            "bin_end": 0.30000000000000004,
            "count": 0
           },
           {
            "bin_start": 0.30000000000000004,
            "bin_end": 0.4,
            "count": 0
           },
           {
            "bin_start": 0.4,
            "bin_end": 0.5,
            "count": 0
           }
          ]
         }
        },
        {
         "name": "elevator_passenger",
         "dtype": "int64",
         "stats": {
          "unique_count": 1,
          "nan_count": 0,
          "min": "1",
          "max": "1",
          "histogram": [
           {
            "bin_start": 0.5,
            "bin_end": 0.6,
            "count": 0
           },
           {
            "bin_start": 0.6,
            "bin_end": 0.7,
            "count": 0
           },
           {
            "bin_start": 0.7,
            "bin_end": 0.8,
            "count": 0
           },
           {
            "bin_start": 0.8,
            "bin_end": 0.9,
            "count": 0
           },
           {
            "bin_start": 0.9,
            "bin_end": 1,
            "count": 0
           },
           {
            "bin_start": 1,
            "bin_end": 1.1,
            "count": 5
           },
           {
            "bin_start": 1.1,
            "bin_end": 1.2000000000000002,
            "count": 0
           },
           {
            "bin_start": 1.2000000000000002,
            "bin_end": 1.3,
            "count": 0
           },
           {
            "bin_start": 1.3,
            "bin_end": 1.4,
            "count": 0
           },
           {
            "bin_start": 1.4,
            "bin_end": 1.5,
            "count": 0
           }
          ]
         }
        },
        {
         "name": "elevator_service",
         "dtype": "int64",
         "stats": {
          "unique_count": 1,
          "nan_count": 0,
          "min": "1",
          "max": "1",
          "histogram": [
           {
            "bin_start": 0.5,
            "bin_end": 0.6,
            "count": 0
           },
           {
            "bin_start": 0.6,
            "bin_end": 0.7,
            "count": 0
           },
           {
            "bin_start": 0.7,
            "bin_end": 0.8,
            "count": 0
           },
           {
            "bin_start": 0.8,
            "bin_end": 0.9,
            "count": 0
           },
           {
            "bin_start": 0.9,
            "bin_end": 1,
            "count": 0
           },
           {
            "bin_start": 1,
            "bin_end": 1.1,
            "count": 5
           },
           {
            "bin_start": 1.1,
            "bin_end": 1.2000000000000002,
            "count": 0
           },
           {
            "bin_start": 1.2000000000000002,
            "bin_end": 1.3,
            "count": 0
           },
           {
            "bin_start": 1.3,
            "bin_end": 1.4,
            "count": 0
           },
           {
            "bin_start": 1.4,
            "bin_end": 1.5,
            "count": 0
           }
          ]
         }
        },
        {
         "name": "parking",
         "dtype": "int64",
         "stats": {
          "unique_count": 1,
          "nan_count": 0,
          "min": "1",
          "max": "1",
          "histogram": [
           {
            "bin_start": 0.5,
            "bin_end": 0.6,
            "count": 0
           },
           {
            "bin_start": 0.6,
            "bin_end": 0.7,
            "count": 0
           },
           {
            "bin_start": 0.7,
            "bin_end": 0.8,
            "count": 0
           },
           {
            "bin_start": 0.8,
            "bin_end": 0.9,
            "count": 0
           },
           {
            "bin_start": 0.9,
            "bin_end": 1,
            "count": 0
           },
           {
            "bin_start": 1,
            "bin_end": 1.1,
            "count": 5
           },
           {
            "bin_start": 1.1,
            "bin_end": 1.2000000000000002,
            "count": 0
           },
           {
            "bin_start": 1.2000000000000002,
            "bin_end": 1.3,
            "count": 0
           },
           {
            "bin_start": 1.3,
            "bin_end": 1.4,
            "count": 0
           },
           {
            "bin_start": 1.4,
            "bin_end": 1.5,
            "count": 0
           }
          ]
         }
        },
        {
         "name": "garbage_chute",
         "dtype": "int64",
         "stats": {
          "unique_count": 2,
          "nan_count": 0,
          "min": "0",
          "max": "1",
          "histogram": [
           {
            "bin_start": 0,
            "bin_end": 0.1,
            "count": 1
           },
           {
            "bin_start": 0.1,
            "bin_end": 0.2,
            "count": 0
           },
           {
            "bin_start": 0.2,
            "bin_end": 0.30000000000000004,
            "count": 0
           },
           {
            "bin_start": 0.30000000000000004,
            "bin_end": 0.4,
            "count": 0
           },
           {
            "bin_start": 0.4,
            "bin_end": 0.5,
            "count": 0
           },
           {
            "bin_start": 0.5,
            "bin_end": 0.6000000000000001,
            "count": 0
           },
           {
            "bin_start": 0.6000000000000001,
            "bin_end": 0.7000000000000001,
            "count": 0
           },
           {
            "bin_start": 0.7000000000000001,
            "bin_end": 0.8,
            "count": 0
           },
           {
            "bin_start": 0.8,
            "bin_end": 0.9,
            "count": 0
           },
           {
            "bin_start": 0.9,
            "bin_end": 1,
            "count": 4
           }
          ]
         }
        },
        {
         "name": "heating",
         "dtype": "int64",
         "stats": {
          "unique_count": 1,
          "nan_count": 0,
          "min": "0",
          "max": "0",
          "histogram": [
           {
            "bin_start": -0.5,
            "bin_end": -0.4,
            "count": 0
           },
           {
            "bin_start": -0.4,
            "bin_end": -0.3,
            "count": 0
           },
           {
            "bin_start": -0.3,
            "bin_end": -0.19999999999999996,
            "count": 0
           },
           {
            "bin_start": -0.19999999999999996,
            "bin_end": -0.09999999999999998,
            "count": 0
           },
           {
            "bin_start": -0.09999999999999998,
            "bin_end": 0,
            "count": 0
           },
           {
            "bin_start": 0,
            "bin_end": 0.10000000000000009,
            "count": 5
           },
           {
            "bin_start": 0.10000000000000009,
            "bin_end": 0.20000000000000007,
            "count": 0
           },
           {
            "bin_start": 0.20000000000000007,
            "bin_end": 0.30000000000000004,
            "count": 0
           },
           {
            "bin_start": 0.30000000000000004,
            "bin_end": 0.4,
            "count": 0
           },
           {
            "bin_start": 0.4,
            "bin_end": 0.5,
            "count": 0
           }
          ]
         }
        },
        {
         "name": "price/area",
         "dtype": "float64",
         "stats": {
          "unique_count": 4,
          "nan_count": 0,
          "min": "114900.0",
          "max": "178205.12820512822",
          "histogram": [
           {
            "bin_start": 114900,
            "bin_end": 121230.51282051283,
            "count": 4
           },
           {
            "bin_start": 121230.51282051283,
            "bin_end": 127561.02564102564,
            "count": 0
           },
           {
            "bin_start": 127561.02564102564,
            "bin_end": 133891.53846153847,
            "count": 0
           },
           {
            "bin_start": 133891.53846153847,
            "bin_end": 140222.05128205128,
            "count": 0
           },
           {
            "bin_start": 140222.05128205128,
            "bin_end": 146552.56410256412,
            "count": 0
           },
           {
            "bin_start": 146552.56410256412,
            "bin_end": 152883.07692307694,
            "count": 0
           },
           {
            "bin_start": 152883.07692307694,
            "bin_end": 159213.58974358975,
            "count": 0
           },
           {
            "bin_start": 159213.58974358975,
            "bin_end": 165544.10256410256,
            "count": 0
           },
           {
            "bin_start": 165544.10256410256,
            "bin_end": 171874.6153846154,
            "count": 0
           },
           {
            "bin_start": 171874.6153846154,
            "bin_end": 178205.12820512822,
            "count": 1
           }
          ]
         }
        },
        {
         "name": "distance",
         "dtype": "float64",
         "stats": {
          "unique_count": 4,
          "nan_count": 0,
          "min": "0.1211826127214619",
          "max": "0.2393483510304599",
          "histogram": [
           {
            "bin_start": 0.1211826127214619,
            "bin_end": 0.1329991865523617,
            "count": 3
           },
           {
            "bin_start": 0.1329991865523617,
            "bin_end": 0.1448157603832615,
            "count": 0
           },
           {
            "bin_start": 0.1448157603832615,
            "bin_end": 0.15663233421416128,
            "count": 0
           },
           {
            "bin_start": 0.15663233421416128,
            "bin_end": 0.1684489080450611,
            "count": 0
           },
           {
            "bin_start": 0.1684489080450611,
            "bin_end": 0.18026548187596092,
            "count": 0
           },
           {
            "bin_start": 0.18026548187596092,
            "bin_end": 0.1920820557068607,
            "count": 0
           },
           {
            "bin_start": 0.1920820557068607,
            "bin_end": 0.2038986295377605,
            "count": 0
           },
           {
            "bin_start": 0.2038986295377605,
            "bin_end": 0.2157152033686603,
            "count": 0
           },
           {
            "bin_start": 0.2157152033686603,
            "bin_end": 0.2275317771995601,
            "count": 1
           },
           {
            "bin_start": 0.2275317771995601,
            "bin_end": 0.2393483510304599,
            "count": 1
           }
          ]
         }
        },
        {
         "name": "street",
         "dtype": "object",
         "stats": {
          "unique_count": 4,
          "nan_count": 0,
          "categories": [
           {
            "name": "улица Радужная",
            "count": 2
           },
           {
            "name": "Бунинские Луга ЖК",
            "count": 1
           },
           {
            "name": "2 others",
            "count": 2
           }
          ]
         }
        },
        {
         "name": "_deepnote_index_column",
         "dtype": "int64"
        }
       ],
       "rows_top": [
        {
         "id": 0,
         "seller": 3,
         "price": 7139520,
         "area_total": 59.2,
         "area_kitchen": 12.5,
         "area_living": 31,
         "floor": 2,
         "rooms": 2,
         "layout": 1,
         "ceiling": 3,
         "bathrooms_shared": 0,
         "bathrooms_private": 2,
         "windows_court": 0,
         "windows_street": 1,
         "balconies": 1,
         "loggias": 1,
         "condition": 1,
         "phones": 1,
         "building_id": 4076,
         "new": 1,
         "district": 11,
         "constructed": 2021,
         "material": 3,
         "stories": 9,
         "elevator_without": 0,
         "elevator_passenger": 1,
         "elevator_service": 1,
         "parking": 1,
         "garbage_chute": 1,
         "heating": 0,
         "price/area": 120600,
         "distance": 0.2393483510304599,
         "street": "Бунинские Луга ЖК",
         "_deepnote_index_column": 0
        },
        {
         "id": 1,
         "seller": 1,
         "price": 10500000,
         "area_total": 88,
         "area_kitchen": 14.2,
         "area_living": 48,
         "floor": 18,
         "rooms": 3,
         "layout": 1,
         "ceiling": 3,
         "bathrooms_shared": 2,
         "bathrooms_private": 0,
         "windows_court": 1,
         "windows_street": 1,
         "balconies": 1,
         "loggias": 0,
         "condition": 3,
         "phones": 1,
         "building_id": 1893,
         "new": 0,
         "district": 2,
         "constructed": 2010,
         "material": 3,
         "stories": 25,
         "elevator_without": 0,
         "elevator_passenger": 1,
         "elevator_service": 1,
         "parking": 1,
         "garbage_chute": 1,
         "heating": 0,
         "price/area": 119318.18181818182,
         "distance": 0.1297131686953954,
         "street": "улица Радужная",
         "_deepnote_index_column": 1
        },
        {
         "id": 2,
         "seller": 3,
         "price": 9019650,
         "area_total": 78.5,
         "area_kitchen": 22.5,
         "area_living": 40.8,
         "floor": 12,
         "rooms": 3,
         "layout": 1,
         "ceiling": 3,
         "bathrooms_shared": 0,
         "bathrooms_private": 2,
         "windows_court": 1,
         "windows_street": 1,
         "balconies": 1,
         "loggias": 0,
         "condition": 1,
         "phones": 1,
         "building_id": 5176,
         "new": 1,
         "district": 6,
         "constructed": 2021,
         "material": 3,
         "stories": 15,
         "elevator_without": 0,
         "elevator_passenger": 1,
         "elevator_service": 1,
         "parking": 1,
         "garbage_chute": 1,
         "heating": 0,
         "price/area": 114900,
         "distance": 0.1211826127214619,
         "street": "Саларьево Парк ЖК",
         "_deepnote_index_column": 2
        },
        {
         "id": 3,
         "seller": 1,
         "price": 10500000,
         "area_total": 88,
         "area_kitchen": 14,
         "area_living": 48,
         "floor": 18,
         "rooms": 3,
         "layout": 1,
         "ceiling": 3,
         "bathrooms_shared": 0,
         "bathrooms_private": 2,
         "windows_court": 1,
         "windows_street": 1,
         "balconies": 0,
         "loggias": 1,
         "condition": 2,
         "phones": 1,
         "building_id": 1893,
         "new": 0,
         "district": 2,
         "constructed": 2010,
         "material": 3,
         "stories": 25,
         "elevator_without": 0,
         "elevator_passenger": 1,
         "elevator_service": 1,
         "parking": 1,
         "garbage_chute": 1,
         "heating": 0,
         "price/area": 119318.18181818182,
         "distance": 0.1297131686953954,
         "street": "улица Радужная",
         "_deepnote_index_column": 3
        },
        {
         "id": 4,
         "seller": 2,
         "price": 13900000,
         "area_total": 78,
         "area_kitchen": 17,
         "area_living": 35,
         "floor": 7,
         "rooms": 2,
         "layout": 1,
         "ceiling": 3,
         "bathrooms_shared": 1,
         "bathrooms_private": 0,
         "windows_court": 1,
         "windows_street": 1,
         "balconies": 0,
         "loggias": 1,
         "condition": 3,
         "phones": 1,
         "building_id": 6604,
         "new": 0,
         "district": 11,
         "constructed": 2017,
         "material": 2,
         "stories": 15,
         "elevator_without": 0,
         "elevator_passenger": 1,
         "elevator_service": 1,
         "parking": 1,
         "garbage_chute": 0,
         "heating": 0,
         "price/area": 178205.12820512822,
         "distance": 0.2177615302779637,
         "street": "улица Сервантеса",
         "_deepnote_index_column": 4
        }
       ],
       "rows_bottom": null
      },
      "text/plain": "   id  seller       price  area_total  area_kitchen  area_living  floor  \\\n0   0       3   7139520.0        59.2          12.5         31.0      2   \n1   1       1  10500000.0        88.0          14.2         48.0     18   \n2   2       3   9019650.0        78.5          22.5         40.8     12   \n3   3       1  10500000.0        88.0          14.0         48.0     18   \n4   4       2  13900000.0        78.0          17.0         35.0      7   \n\n   rooms  layout  ceiling  ...  stories  elevator_without  elevator_passenger  \\\n0      2       1        3  ...        9                 0                   1   \n1      3       1        3  ...       25                 0                   1   \n2      3       1        3  ...       15                 0                   1   \n3      3       1        3  ...       25                 0                   1   \n4      2       1        3  ...       15                 0                   1   \n\n   elevator_service  parking  garbage_chute  heating     price/area  distance  \\\n0                 1        1              1        0  120600.000000  0.239348   \n1                 1        1              1        0  119318.181818  0.129713   \n2                 1        1              1        0  114900.000000  0.121183   \n3                 1        1              1        0  119318.181818  0.129713   \n4                 1        1              0        0  178205.128205  0.217762   \n\n              street  \n0  Бунинские Луга ЖК  \n1     улица Радужная  \n2  Саларьево Парк ЖК  \n3     улица Радужная  \n4   улица Сервантеса  \n\n[5 rows x 33 columns]",
      "text/html": "<div>\n<style scoped>\n    .dataframe tbody tr th:only-of-type {\n        vertical-align: middle;\n    }\n\n    .dataframe tbody tr th {\n        vertical-align: top;\n    }\n\n    .dataframe thead th {\n        text-align: right;\n    }\n</style>\n<table border=\"1\" class=\"dataframe\">\n  <thead>\n    <tr style=\"text-align: right;\">\n      <th></th>\n      <th>id</th>\n      <th>seller</th>\n      <th>price</th>\n      <th>area_total</th>\n      <th>area_kitchen</th>\n      <th>area_living</th>\n      <th>floor</th>\n      <th>rooms</th>\n      <th>layout</th>\n      <th>ceiling</th>\n      <th>...</th>\n      <th>stories</th>\n      <th>elevator_without</th>\n      <th>elevator_passenger</th>\n      <th>elevator_service</th>\n      <th>parking</th>\n      <th>garbage_chute</th>\n      <th>heating</th>\n      <th>price/area</th>\n      <th>distance</th>\n      <th>street</th>\n    </tr>\n  </thead>\n  <tbody>\n    <tr>\n      <th>0</th>\n      <td>0</td>\n      <td>3</td>\n      <td>7139520.0</td>\n      <td>59.2</td>\n      <td>12.5</td>\n      <td>31.0</td>\n      <td>2</td>\n      <td>2</td>\n      <td>1</td>\n      <td>3</td>\n      <td>...</td>\n      <td>9</td>\n      <td>0</td>\n      <td>1</td>\n      <td>1</td>\n      <td>1</td>\n      <td>1</td>\n      <td>0</td>\n      <td>120600.000000</td>\n      <td>0.239348</td>\n      <td>Бунинские Луга ЖК</td>\n    </tr>\n    <tr>\n      <th>1</th>\n      <td>1</td>\n      <td>1</td>\n      <td>10500000.0</td>\n      <td>88.0</td>\n      <td>14.2</td>\n      <td>48.0</td>\n      <td>18</td>\n      <td>3</td>\n      <td>1</td>\n      <td>3</td>\n      <td>...</td>\n      <td>25</td>\n      <td>0</td>\n      <td>1</td>\n      <td>1</td>\n      <td>1</td>\n      <td>1</td>\n      <td>0</td>\n      <td>119318.181818</td>\n      <td>0.129713</td>\n      <td>улица Радужная</td>\n    </tr>\n    <tr>\n      <th>2</th>\n      <td>2</td>\n      <td>3</td>\n      <td>9019650.0</td>\n      <td>78.5</td>\n      <td>22.5</td>\n      <td>40.8</td>\n      <td>12</td>\n      <td>3</td>\n      <td>1</td>\n      <td>3</td>\n      <td>...</td>\n      <td>15</td>\n      <td>0</td>\n      <td>1</td>\n      <td>1</td>\n      <td>1</td>\n      <td>1</td>\n      <td>0</td>\n      <td>114900.000000</td>\n      <td>0.121183</td>\n      <td>Саларьево Парк ЖК</td>\n    </tr>\n    <tr>\n      <th>3</th>\n      <td>3</td>\n      <td>1</td>\n      <td>10500000.0</td>\n      <td>88.0</td>\n      <td>14.0</td>\n      <td>48.0</td>\n      <td>18</td>\n      <td>3</td>\n      <td>1</td>\n      <td>3</td>\n      <td>...</td>\n      <td>25</td>\n      <td>0</td>\n      <td>1</td>\n      <td>1</td>\n      <td>1</td>\n      <td>1</td>\n      <td>0</td>\n      <td>119318.181818</td>\n      <td>0.129713</td>\n      <td>улица Радужная</td>\n    </tr>\n    <tr>\n      <th>4</th>\n      <td>4</td>\n      <td>2</td>\n      <td>13900000.0</td>\n      <td>78.0</td>\n      <td>17.0</td>\n      <td>35.0</td>\n      <td>7</td>\n      <td>2</td>\n      <td>1</td>\n      <td>3</td>\n      <td>...</td>\n      <td>15</td>\n      <td>0</td>\n      <td>1</td>\n      <td>1</td>\n      <td>1</td>\n      <td>0</td>\n      <td>0</td>\n      <td>178205.128205</td>\n      <td>0.217762</td>\n      <td>улица Сервантеса</td>\n    </tr>\n  </tbody>\n</table>\n<p>5 rows × 33 columns</p>\n</div>"
     },
     "metadata": {}
    }
   ],
   "execution_count": null
  },
  {
   "cell_type": "code",
   "metadata": {
    "tags": [],
    "deepnote_to_be_reexecuted": false,
    "source_hash": "15dfb5a0",
    "execution_start": 1637346474878,
    "execution_millis": 178,
    "deepnote_output_heights": [
     611
    ],
    "cell_id": "00004-b8e45013-a080-4c7a-b438-5aa0cf4fb53c",
    "deepnote_cell_type": "code"
   },
   "source": "#df_train['floor/stories'] = df_train.floor/df_train.stories\n#df_test['floor/stories'] = df_test.floor/df_test.stories\n\n#df_train['distance'] = np.sqrt((37.6 - df_train['longitude'])**2 + (55.75 - df_train['latitude'])**2)\n#df_test['distance'] = np.sqrt((37.6 - df_test['longitude'])**2 + (55.75 - df_test['latitude'])**2)\n\n#df_train.drop(['longitude', 'latitude'], axis=1, inplace=True)\n#df_test.drop(['longitude', 'latitude'], axis=1, inplace=True)\ndf_train\ndf_test",
   "outputs": [
    {
     "output_type": "execute_result",
     "execution_count": 5,
     "data": {
      "application/vnd.deepnote.dataframe.v2+json": {
       "row_count": 9937,
       "column_count": 31,
       "columns": [
        {
         "name": "id",
         "dtype": "int64",
         "stats": {
          "unique_count": 9937,
          "nan_count": 0,
          "min": "23285",
          "max": "33221",
          "histogram": [
           {
            "bin_start": 23285,
            "bin_end": 24278.6,
            "count": 994
           },
           {
            "bin_start": 24278.6,
            "bin_end": 25272.2,
            "count": 994
           },
           {
            "bin_start": 25272.2,
            "bin_end": 26265.8,
            "count": 993
           },
           {
            "bin_start": 26265.8,
            "bin_end": 27259.4,
            "count": 994
           },
           {
            "bin_start": 27259.4,
            "bin_end": 28253,
            "count": 993
           },
           {
            "bin_start": 28253,
            "bin_end": 29246.6,
            "count": 994
           },
           {
            "bin_start": 29246.6,
            "bin_end": 30240.2,
            "count": 994
           },
           {
            "bin_start": 30240.2,
            "bin_end": 31233.8,
            "count": 993
           },
           {
            "bin_start": 31233.8,
            "bin_end": 32227.4,
            "count": 994
           },
           {
            "bin_start": 32227.4,
            "bin_end": 33221,
            "count": 994
           }
          ]
         }
        },
        {
         "name": "seller",
         "dtype": "int64",
         "stats": {
          "unique_count": 4,
          "nan_count": 0,
          "min": "0",
          "max": "3",
          "histogram": [
           {
            "bin_start": 0,
            "bin_end": 0.3,
            "count": 777
           },
           {
            "bin_start": 0.3,
            "bin_end": 0.6,
            "count": 0
           },
           {
            "bin_start": 0.6,
            "bin_end": 0.8999999999999999,
            "count": 0
           },
           {
            "bin_start": 0.8999999999999999,
            "bin_end": 1.2,
            "count": 3918
           },
           {
            "bin_start": 1.2,
            "bin_end": 1.5,
            "count": 0
           },
           {
            "bin_start": 1.5,
            "bin_end": 1.7999999999999998,
            "count": 0
           },
           {
            "bin_start": 1.7999999999999998,
            "bin_end": 2.1,
            "count": 2389
           },
           {
            "bin_start": 2.1,
            "bin_end": 2.4,
            "count": 0
           },
           {
            "bin_start": 2.4,
            "bin_end": 2.6999999999999997,
            "count": 0
           },
           {
            "bin_start": 2.6999999999999997,
            "bin_end": 3,
            "count": 2853
           }
          ]
         }
        },
        {
         "name": "area_total",
         "dtype": "float64",
         "stats": {
          "unique_count": 1880,
          "nan_count": 0,
          "min": "13.0",
          "max": "1175.0",
          "histogram": [
           {
            "bin_start": 13,
            "bin_end": 129.2,
            "count": 8870
           },
           {
            "bin_start": 129.2,
            "bin_end": 245.4,
            "count": 903
           },
           {
            "bin_start": 245.4,
            "bin_end": 361.6,
            "count": 113
           },
           {
            "bin_start": 361.6,
            "bin_end": 477.8,
            "count": 31
           },
           {
            "bin_start": 477.8,
            "bin_end": 594,
            "count": 9
           },
           {
            "bin_start": 594,
            "bin_end": 710.2,
            "count": 7
           },
           {
            "bin_start": 710.2,
            "bin_end": 826.4,
            "count": 2
           },
           {
            "bin_start": 826.4,
            "bin_end": 942.6,
            "count": 0
           },
           {
            "bin_start": 942.6,
            "bin_end": 1058.8,
            "count": 1
           },
           {
            "bin_start": 1058.8,
            "bin_end": 1175,
            "count": 1
           }
          ]
         }
        },
        {
         "name": "area_kitchen",
         "dtype": "float64",
         "stats": {
          "unique_count": 895,
          "nan_count": 0,
          "min": "1.2",
          "max": "63.6",
          "histogram": [
           {
            "bin_start": 1.2,
            "bin_end": 7.44,
            "count": 1520
           },
           {
            "bin_start": 7.44,
            "bin_end": 13.68,
            "count": 4839
           },
           {
            "bin_start": 13.68,
            "bin_end": 19.919999999999998,
            "count": 2267
           },
           {
            "bin_start": 19.919999999999998,
            "bin_end": 26.16,
            "count": 902
           },
           {
            "bin_start": 26.16,
            "bin_end": 32.400000000000006,
            "count": 271
           },
           {
            "bin_start": 32.400000000000006,
            "bin_end": 38.64,
            "count": 72
           },
           {
            "bin_start": 38.64,
            "bin_end": 44.88,
            "count": 34
           },
           {
            "bin_start": 44.88,
            "bin_end": 51.120000000000005,
            "count": 20
           },
           {
            "bin_start": 51.120000000000005,
            "bin_end": 57.36000000000001,
            "count": 5
           },
           {
            "bin_start": 57.36000000000001,
            "bin_end": 63.6,
            "count": 7
           }
          ]
         }
        },
        {
         "name": "area_living",
         "dtype": "float64",
         "stats": {
          "unique_count": 1763,
          "nan_count": 0,
          "min": "0.0",
          "max": "528.0",
          "histogram": [
           {
            "bin_start": 0,
            "bin_end": 52.8,
            "count": 8133
           },
           {
            "bin_start": 52.8,
            "bin_end": 105.6,
            "count": 1511
           },
           {
            "bin_start": 105.6,
            "bin_end": 158.39999999999998,
            "count": 205
           },
           {
            "bin_start": 158.39999999999998,
            "bin_end": 211.2,
            "count": 51
           },
           {
            "bin_start": 211.2,
            "bin_end": 264,
            "count": 11
           },
           {
            "bin_start": 264,
            "bin_end": 316.79999999999995,
            "count": 11
           },
           {
            "bin_start": 316.79999999999995,
            "bin_end": 369.59999999999997,
            "count": 6
           },
           {
            "bin_start": 369.59999999999997,
            "bin_end": 422.4,
            "count": 2
           },
           {
            "bin_start": 422.4,
            "bin_end": 475.2,
            "count": 2
           },
           {
            "bin_start": 475.2,
            "bin_end": 528,
            "count": 5
           }
          ]
         }
        },
        {
         "name": "floor",
         "dtype": "int64",
         "stats": {
          "unique_count": 53,
          "nan_count": 0,
          "min": "1",
          "max": "69",
          "histogram": [
           {
            "bin_start": 1,
            "bin_end": 7.8,
            "count": 5346
           },
           {
            "bin_start": 7.8,
            "bin_end": 14.6,
            "count": 2603
           },
           {
            "bin_start": 14.6,
            "bin_end": 21.4,
            "count": 1193
           },
           {
            "bin_start": 21.4,
            "bin_end": 28.2,
            "count": 434
           },
           {
            "bin_start": 28.2,
            "bin_end": 35,
            "count": 207
           },
           {
            "bin_start": 35,
            "bin_end": 41.8,
            "count": 100
           },
           {
            "bin_start": 41.8,
            "bin_end": 48.6,
            "count": 48
           },
           {
            "bin_start": 48.6,
            "bin_end": 55.4,
            "count": 3
           },
           {
            "bin_start": 55.4,
            "bin_end": 62.199999999999996,
            "count": 2
           },
           {
            "bin_start": 62.199999999999996,
            "bin_end": 69,
            "count": 1
           }
          ]
         }
        },
        {
         "name": "rooms",
         "dtype": "int64",
         "stats": {
          "unique_count": 6,
          "nan_count": 0,
          "min": "1",
          "max": "6",
          "histogram": [
           {
            "bin_start": 1,
            "bin_end": 1.5,
            "count": 3110
           },
           {
            "bin_start": 1.5,
            "bin_end": 2,
            "count": 0
           },
           {
            "bin_start": 2,
            "bin_end": 2.5,
            "count": 3279
           },
           {
            "bin_start": 2.5,
            "bin_end": 3,
            "count": 0
           },
           {
            "bin_start": 3,
            "bin_end": 3.5,
            "count": 2448
           },
           {
            "bin_start": 3.5,
            "bin_end": 4,
            "count": 0
           },
           {
            "bin_start": 4,
            "bin_end": 4.5,
            "count": 744
           },
           {
            "bin_start": 4.5,
            "bin_end": 5,
            "count": 0
           },
           {
            "bin_start": 5,
            "bin_end": 5.5,
            "count": 234
           },
           {
            "bin_start": 5.5,
            "bin_end": 6,
            "count": 122
           }
          ]
         }
        },
        {
         "name": "layout",
         "dtype": "int64",
         "stats": {
          "unique_count": 3,
          "nan_count": 0,
          "min": "0",
          "max": "2",
          "histogram": [
           {
            "bin_start": 0,
            "bin_end": 0.2,
            "count": 111
           },
           {
            "bin_start": 0.2,
            "bin_end": 0.4,
            "count": 0
           },
           {
            "bin_start": 0.4,
            "bin_end": 0.6000000000000001,
            "count": 0
           },
           {
            "bin_start": 0.6000000000000001,
            "bin_end": 0.8,
            "count": 0
           },
           {
            "bin_start": 0.8,
            "bin_end": 1,
            "count": 0
           },
           {
            "bin_start": 1,
            "bin_end": 1.2000000000000002,
            "count": 9585
           },
           {
            "bin_start": 1.2000000000000002,
            "bin_end": 1.4000000000000001,
            "count": 0
           },
           {
            "bin_start": 1.4000000000000001,
            "bin_end": 1.6,
            "count": 0
           },
           {
            "bin_start": 1.6,
            "bin_end": 1.8,
            "count": 0
           },
           {
            "bin_start": 1.8,
            "bin_end": 2,
            "count": 241
           }
          ]
         }
        },
        {
         "name": "ceiling",
         "dtype": "int64",
         "stats": {
          "unique_count": 34,
          "nan_count": 0,
          "min": "0",
          "max": "350",
          "histogram": [
           {
            "bin_start": 0,
            "bin_end": 35,
            "count": 9829
           },
           {
            "bin_start": 35,
            "bin_end": 70,
            "count": 65
           },
           {
            "bin_start": 70,
            "bin_end": 105,
            "count": 25
           },
           {
            "bin_start": 105,
            "bin_end": 140,
            "count": 4
           },
           {
            "bin_start": 140,
            "bin_end": 175,
            "count": 0
           },
           {
            "bin_start": 175,
            "bin_end": 210,
            "count": 0
           },
           {
            "bin_start": 210,
            "bin_end": 245,
            "count": 0
           },
           {
            "bin_start": 245,
            "bin_end": 280,
            "count": 4
           },
           {
            "bin_start": 280,
            "bin_end": 315,
            "count": 5
           },
           {
            "bin_start": 315,
            "bin_end": 350,
            "count": 5
           }
          ]
         }
        },
        {
         "name": "bathrooms_shared",
         "dtype": "int64",
         "stats": {
          "unique_count": 5,
          "nan_count": 0,
          "min": "0",
          "max": "4",
          "histogram": [
           {
            "bin_start": 0,
            "bin_end": 0.4,
            "count": 3925
           },
           {
            "bin_start": 0.4,
            "bin_end": 0.8,
            "count": 0
           },
           {
            "bin_start": 0.8,
            "bin_end": 1.2000000000000002,
            "count": 4484
           },
           {
            "bin_start": 1.2000000000000002,
            "bin_end": 1.6,
            "count": 0
           },
           {
            "bin_start": 1.6,
            "bin_end": 2,
            "count": 0
           },
           {
            "bin_start": 2,
            "bin_end": 2.4000000000000004,
            "count": 1289
           },
           {
            "bin_start": 2.4000000000000004,
            "bin_end": 2.8000000000000003,
            "count": 0
           },
           {
            "bin_start": 2.8000000000000003,
            "bin_end": 3.2,
            "count": 176
           },
           {
            "bin_start": 3.2,
            "bin_end": 3.6,
            "count": 0
           },
           {
            "bin_start": 3.6,
            "bin_end": 4,
            "count": 63
           }
          ]
         }
        },
        {
         "name": "bathrooms_private",
         "dtype": "int64"
        },
        {
         "name": "windows_court",
         "dtype": "int64"
        },
        {
         "name": "windows_street",
         "dtype": "int64"
        },
        {
         "name": "balconies",
         "dtype": "int64"
        },
        {
         "name": "loggias",
         "dtype": "int64"
        },
        {
         "name": "condition",
         "dtype": "int64"
        },
        {
         "name": "phones",
         "dtype": "int64"
        },
        {
         "name": "building_id",
         "dtype": "int64"
        },
        {
         "name": "new",
         "dtype": "int64"
        },
        {
         "name": "district",
         "dtype": "int64"
        },
        {
         "name": "constructed",
         "dtype": "int64"
        },
        {
         "name": "material",
         "dtype": "int64"
        },
        {
         "name": "stories",
         "dtype": "int64"
        },
        {
         "name": "elevator_without",
         "dtype": "int64"
        },
        {
         "name": "elevator_passenger",
         "dtype": "int64"
        },
        {
         "name": "elevator_service",
         "dtype": "int64"
        },
        {
         "name": "parking",
         "dtype": "int64"
        },
        {
         "name": "garbage_chute",
         "dtype": "int64"
        },
        {
         "name": "heating",
         "dtype": "int64"
        },
        {
         "name": "distance",
         "dtype": "float64"
        },
        {
         "name": "street",
         "dtype": "object"
        },
        {
         "name": "_deepnote_index_column",
         "dtype": "int64"
        }
       ],
       "rows_top": [
        {
         "id": 23285,
         "seller": 3,
         "area_total": 71.4,
         "area_kitchen": 13.16,
         "area_living": 29.440000000000005,
         "floor": 2,
         "rooms": 1,
         "layout": 1,
         "ceiling": 3,
         "bathrooms_shared": 1,
         "bathrooms_private": 1,
         "windows_court": 1,
         "windows_street": 0,
         "balconies": 1,
         "loggias": 0,
         "condition": 0,
         "phones": 1,
         "building_id": 5148,
         "new": 0,
         "district": 0,
         "constructed": 2017,
         "material": 2,
         "stories": 20,
         "elevator_without": 1,
         "elevator_passenger": 1,
         "elevator_service": 1,
         "parking": 1,
         "garbage_chute": 1,
         "heating": 0,
         "distance": 0.0524109779435537,
         "street": "2-я Черногрязская улица",
         "_deepnote_index_column": 0
        },
        {
         "id": 23286,
         "seller": 1,
         "area_total": 54,
         "area_kitchen": 4,
         "area_living": 50,
         "floor": 4,
         "rooms": 1,
         "layout": 1,
         "ceiling": 3,
         "bathrooms_shared": 1,
         "bathrooms_private": 1,
         "windows_court": 1,
         "windows_street": 0,
         "balconies": 0,
         "loggias": 1,
         "condition": 3,
         "phones": 1,
         "building_id": 1290,
         "new": 0,
         "district": 11,
         "constructed": 2017,
         "material": 2,
         "stories": 15,
         "elevator_without": 0,
         "elevator_passenger": 1,
         "elevator_service": 1,
         "parking": 0,
         "garbage_chute": 0,
         "heating": 0,
         "distance": 0.2164357638885012,
         "street": "улица Сервантеса",
         "_deepnote_index_column": 1
        },
        {
         "id": 23287,
         "seller": 3,
         "area_total": 39.4,
         "area_kitchen": 19.6,
         "area_living": 11.2,
         "floor": 10,
         "rooms": 1,
         "layout": 1,
         "ceiling": 3,
         "bathrooms_shared": 1,
         "bathrooms_private": 0,
         "windows_court": 1,
         "windows_street": 0,
         "balconies": 0,
         "loggias": 1,
         "condition": 2,
         "phones": 1,
         "building_id": 681,
         "new": 1,
         "district": 11,
         "constructed": 2021,
         "material": 3,
         "stories": 9,
         "elevator_without": 0,
         "elevator_passenger": 1,
         "elevator_service": 1,
         "parking": 1,
         "garbage_chute": 1,
         "heating": 0,
         "distance": 0.2288787054599012,
         "street": "Саларьево Парк ЖК",
         "_deepnote_index_column": 2
        },
        {
         "id": 23288,
         "seller": 3,
         "area_total": 60.9,
         "area_kitchen": 15.68,
         "area_living": 55.56,
         "floor": 5,
         "rooms": 2,
         "layout": 1,
         "ceiling": 3,
         "bathrooms_shared": 1,
         "bathrooms_private": 0,
         "windows_court": 0,
         "windows_street": 1,
         "balconies": 0,
         "loggias": 1,
         "condition": 0,
         "phones": 1,
         "building_id": 4261,
         "new": 0,
         "district": 11,
         "constructed": 2014,
         "material": 2,
         "stories": 17,
         "elevator_without": 1,
         "elevator_passenger": 1,
         "elevator_service": 0,
         "parking": 0,
         "garbage_chute": 1,
         "heating": 3,
         "distance": 0.2173936954099662,
         "street": "улица Александры Монаховой",
         "_deepnote_index_column": 3
        },
        {
         "id": 23289,
         "seller": 3,
         "area_total": 34,
         "area_kitchen": 9,
         "area_living": 17,
         "floor": 14,
         "rooms": 1,
         "layout": 1,
         "ceiling": 3,
         "bathrooms_shared": 1,
         "bathrooms_private": 0,
         "windows_court": 1,
         "windows_street": 0,
         "balconies": 0,
         "loggias": 1,
         "condition": 1,
         "phones": 1,
         "building_id": 7530,
         "new": 0,
         "district": 11,
         "constructed": 2016,
         "material": 2,
         "stories": 17,
         "elevator_without": 0,
         "elevator_passenger": 1,
         "elevator_service": 1,
         "parking": 1,
         "garbage_chute": 1,
         "heating": 0,
         "distance": 0.345584373087098,
         "street": "улица 3-я Нововатутинская",
         "_deepnote_index_column": 4
        },
        {
         "id": 23290,
         "seller": 3,
         "area_total": 40,
         "area_kitchen": 10,
         "area_living": 19,
         "floor": 15,
         "rooms": 1,
         "layout": 1,
         "ceiling": 3,
         "bathrooms_shared": 1,
         "bathrooms_private": 0,
         "windows_court": 1,
         "windows_street": 0,
         "balconies": 0,
         "loggias": 1,
         "condition": 0,
         "phones": 2,
         "building_id": 5719,
         "new": 0,
         "district": 11,
         "constructed": 2016,
         "material": 3,
         "stories": 17,
         "elevator_without": 0,
         "elevator_passenger": 1,
         "elevator_service": 1,
         "parking": 1,
         "garbage_chute": 1,
         "heating": 0,
         "distance": 0.2945416270699296,
         "street": "улица Корнея Чуковского",
         "_deepnote_index_column": 5
        },
        {
         "id": 23291,
         "seller": 3,
         "area_total": 61,
         "area_kitchen": 11.7,
         "area_living": 33.8,
         "floor": 3,
         "rooms": 3,
         "layout": 1,
         "ceiling": 3,
         "bathrooms_shared": 0,
         "bathrooms_private": 2,
         "windows_court": 1,
         "windows_street": 1,
         "balconies": 0,
         "loggias": 1,
         "condition": 2,
         "phones": 1,
         "building_id": 8478,
         "new": 1,
         "district": 11,
         "constructed": 2021,
         "material": 3,
         "stories": 9,
         "elevator_without": 0,
         "elevator_passenger": 1,
         "elevator_service": 1,
         "parking": 1,
         "garbage_chute": 1,
         "heating": 0,
         "distance": 0.2393483510304599,
         "street": "Бунинские Луга ЖК",
         "_deepnote_index_column": 6
        },
        {
         "id": 23292,
         "seller": 2,
         "area_total": 60,
         "area_kitchen": 12,
         "area_living": 32,
         "floor": 21,
         "rooms": 2,
         "layout": 1,
         "ceiling": 3,
         "bathrooms_shared": 0,
         "bathrooms_private": 2,
         "windows_court": 1,
         "windows_street": 1,
         "balconies": 0,
         "loggias": 1,
         "condition": 2,
         "phones": 2,
         "building_id": 2265,
         "new": 0,
         "district": 11,
         "constructed": 2018,
         "material": 2,
         "stories": 25,
         "elevator_without": 0,
         "elevator_passenger": 1,
         "elevator_service": 1,
         "parking": 2,
         "garbage_chute": 1,
         "heating": 0,
         "distance": 0.2094926621173163,
         "street": "23-й км",
         "_deepnote_index_column": 7
        },
        {
         "id": 23293,
         "seller": 3,
         "area_total": 38,
         "area_kitchen": 7.5,
         "area_living": 19,
         "floor": 17,
         "rooms": 1,
         "layout": 1,
         "ceiling": 3,
         "bathrooms_shared": 1,
         "bathrooms_private": 0,
         "windows_court": 0,
         "windows_street": 1,
         "balconies": 1,
         "loggias": 0,
         "condition": 2,
         "phones": 1,
         "building_id": 6564,
         "new": 0,
         "district": 2,
         "constructed": 2009,
         "material": 3,
         "stories": 17,
         "elevator_without": 0,
         "elevator_passenger": 1,
         "elevator_service": 1,
         "parking": 1,
         "garbage_chute": 1,
         "heating": 0,
         "distance": 0.1257854701505763,
         "street": "улица Радужная",
         "_deepnote_index_column": 8
        },
        {
         "id": 23294,
         "seller": 1,
         "area_total": 23.29,
         "area_kitchen": 10.12,
         "area_living": 23.64,
         "floor": 11,
         "rooms": 1,
         "layout": 1,
         "ceiling": 3,
         "bathrooms_shared": 1,
         "bathrooms_private": 0,
         "windows_court": 1,
         "windows_street": 1,
         "balconies": 0,
         "loggias": 1,
         "condition": 0,
         "phones": 1,
         "building_id": 7066,
         "new": 0,
         "district": 11,
         "constructed": 2021,
         "material": 3,
         "stories": 15,
         "elevator_without": 1,
         "elevator_passenger": 1,
         "elevator_service": 1,
         "parking": 0,
         "garbage_chute": 0,
         "heating": 0,
         "distance": 0.2388759986687685,
         "street": "улица Василия Ощепкова",
         "_deepnote_index_column": 9
        },
        {
         "id": 23295,
         "seller": 1,
         "area_total": 31.9,
         "area_kitchen": 10.8,
         "area_living": 28.5,
         "floor": 17,
         "rooms": 1,
         "layout": 1,
         "ceiling": 3,
         "bathrooms_shared": 0,
         "bathrooms_private": 1,
         "windows_court": 1,
         "windows_street": 0,
         "balconies": 1,
         "loggias": 0,
         "condition": 0,
         "phones": 1,
         "building_id": 245,
         "new": 0,
         "district": 11,
         "constructed": 2016,
         "material": 2,
         "stories": 25,
         "elevator_without": 1,
         "elevator_passenger": 1,
         "elevator_service": 0,
         "parking": 1,
         "garbage_chute": 1,
         "heating": 0,
         "distance": 0.2100115698241386,
         "street": "улица Бачуринская",
         "_deepnote_index_column": 10
        },
        {
         "id": 23296,
         "seller": 3,
         "area_total": 38,
         "area_kitchen": 7.3,
         "area_living": 19,
         "floor": 17,
         "rooms": 1,
         "layout": 1,
         "ceiling": 3,
         "bathrooms_shared": 0,
         "bathrooms_private": 1,
         "windows_court": 1,
         "windows_street": 1,
         "balconies": 1,
         "loggias": 0,
         "condition": 1,
         "phones": 1,
         "building_id": 6564,
         "new": 0,
         "district": 2,
         "constructed": 2009,
         "material": 3,
         "stories": 17,
         "elevator_without": 0,
         "elevator_passenger": 1,
         "elevator_service": 1,
         "parking": 1,
         "garbage_chute": 1,
         "heating": 0,
         "distance": 0.1257854701505763,
         "street": "улица Радужная",
         "_deepnote_index_column": 11
        },
        {
         "id": 23297,
         "seller": 3,
         "area_total": 31.9,
         "area_kitchen": 9,
         "area_living": 12,
         "floor": 16,
         "rooms": 1,
         "layout": 1,
         "ceiling": 3,
         "bathrooms_shared": 1,
         "bathrooms_private": 0,
         "windows_court": 1,
         "windows_street": 0,
         "balconies": 1,
         "loggias": 0,
         "condition": 1,
         "phones": 1,
         "building_id": 1953,
         "new": 0,
         "district": 11,
         "constructed": 2014,
         "material": 2,
         "stories": 25,
         "elevator_without": 1,
         "elevator_passenger": 1,
         "elevator_service": 1,
         "parking": 1,
         "garbage_chute": 1,
         "heating": 0,
         "distance": 0.2208456951380283,
         "street": "улица Фитаревская",
         "_deepnote_index_column": 12
        },
        {
         "id": 23298,
         "seller": 1,
         "area_total": 47,
         "area_kitchen": 8,
         "area_living": 24,
         "floor": 6,
         "rooms": 2,
         "layout": 1,
         "ceiling": 3,
         "bathrooms_shared": 0,
         "bathrooms_private": 1,
         "windows_court": 1,
         "windows_street": 1,
         "balconies": 1,
         "loggias": 0,
         "condition": 0,
         "phones": 1,
         "building_id": 7255,
         "new": 0,
         "district": 11,
         "constructed": 2018,
         "material": 2,
         "stories": 13,
         "elevator_without": 1,
         "elevator_passenger": 1,
         "elevator_service": 1,
         "parking": 1,
         "garbage_chute": 0,
         "heating": 0,
         "distance": 0.2110057497913229,
         "street": "бульвар Веласкеса",
         "_deepnote_index_column": 13
        },
        {
         "id": 23299,
         "seller": 2,
         "area_total": 43,
         "area_kitchen": 7.5,
         "area_living": 19.76,
         "floor": 23,
         "rooms": 1,
         "layout": 1,
         "ceiling": 3,
         "bathrooms_shared": 1,
         "bathrooms_private": 0,
         "windows_court": 1,
         "windows_street": 0,
         "balconies": 0,
         "loggias": 1,
         "condition": 3,
         "phones": 1,
         "building_id": 4113,
         "new": 0,
         "district": 11,
         "constructed": 2016,
         "material": 3,
         "stories": 25,
         "elevator_without": 1,
         "elevator_passenger": 1,
         "elevator_service": 1,
         "parking": 1,
         "garbage_chute": 1,
         "heating": 0,
         "distance": 0.2806666497341589,
         "street": "улица Бианки",
         "_deepnote_index_column": 14
        },
        {
         "id": 23300,
         "seller": 3,
         "area_total": 46.74,
         "area_kitchen": 11.7,
         "area_living": 22.9,
         "floor": 4,
         "rooms": 1,
         "layout": 1,
         "ceiling": 3,
         "bathrooms_shared": 0,
         "bathrooms_private": 1,
         "windows_court": 1,
         "windows_street": 0,
         "balconies": 1,
         "loggias": 0,
         "condition": 1,
         "phones": 1,
         "building_id": 4972,
         "new": 0,
         "district": 11,
         "constructed": 2014,
         "material": 2,
         "stories": 8,
         "elevator_without": 0,
         "elevator_passenger": 1,
         "elevator_service": 1,
         "parking": 1,
         "garbage_chute": 1,
         "heating": 0,
         "distance": 0.2240352260025201,
         "street": "улица Лазурная",
         "_deepnote_index_column": 15
        }
       ],
       "rows_bottom": [
        {
         "id": 33206,
         "seller": 2,
         "area_total": 78.6,
         "area_kitchen": 22.8,
         "area_living": 33.2,
         "floor": 18,
         "rooms": 2,
         "layout": 1,
         "ceiling": 3,
         "bathrooms_shared": 0,
         "bathrooms_private": 2,
         "windows_court": 1,
         "windows_street": 0,
         "balconies": 1,
         "loggias": 0,
         "condition": 0,
         "phones": 1,
         "building_id": 2403,
         "new": 1,
         "district": 6,
         "constructed": 2018,
         "material": 2,
         "stories": 33,
         "elevator_without": 0,
         "elevator_passenger": 1,
         "elevator_service": 1,
         "parking": 0,
         "garbage_chute": 1,
         "heating": 0,
         "distance": 0.1080342730294371,
         "street": "Ленинский проспект",
         "_deepnote_index_column": 9921
        },
        {
         "id": 33207,
         "seller": 3,
         "area_total": 119.8,
         "area_kitchen": 19.6,
         "area_living": 54.6,
         "floor": 26,
         "rooms": 4,
         "layout": 1,
         "ceiling": 3,
         "bathrooms_shared": 0,
         "bathrooms_private": 1,
         "windows_court": 1,
         "windows_street": 0,
         "balconies": 0,
         "loggias": 1,
         "condition": 1,
         "phones": 1,
         "building_id": 2403,
         "new": 1,
         "district": 6,
         "constructed": 2018,
         "material": 2,
         "stories": 33,
         "elevator_without": 0,
         "elevator_passenger": 1,
         "elevator_service": 1,
         "parking": 0,
         "garbage_chute": 1,
         "heating": 0,
         "distance": 0.1080342730294371,
         "street": "Ленинский проспект",
         "_deepnote_index_column": 9922
        },
        {
         "id": 33208,
         "seller": 1,
         "area_total": 54.7,
         "area_kitchen": 5.5,
         "area_living": 36.9,
         "floor": 2,
         "rooms": 3,
         "layout": 1,
         "ceiling": 3,
         "bathrooms_shared": 1,
         "bathrooms_private": 0,
         "windows_court": 1,
         "windows_street": 0,
         "balconies": 1,
         "loggias": 0,
         "condition": 1,
         "phones": 1,
         "building_id": 5407,
         "new": 0,
         "district": 6,
         "constructed": 1963,
         "material": 4,
         "stories": 5,
         "elevator_without": 1,
         "elevator_passenger": 0,
         "elevator_service": 0,
         "parking": 1,
         "garbage_chute": 1,
         "heating": 0,
         "distance": 0.064851858485317,
         "street": "Большая Черемушкинская улица",
         "_deepnote_index_column": 9923
        },
        {
         "id": 33209,
         "seller": 1,
         "area_total": 94.68,
         "area_kitchen": 12.6,
         "area_living": 27.06,
         "floor": 35,
         "rooms": 3,
         "layout": 1,
         "ceiling": 3,
         "bathrooms_shared": 1,
         "bathrooms_private": 1,
         "windows_court": 1,
         "windows_street": 0,
         "balconies": 1,
         "loggias": 1,
         "condition": 1,
         "phones": 0,
         "building_id": 6044,
         "new": 1,
         "district": 7,
         "constructed": 2021,
         "material": 2,
         "stories": 39,
         "elevator_without": 0,
         "elevator_passenger": 1,
         "elevator_service": 1,
         "parking": 0,
         "garbage_chute": 1,
         "heating": 0,
         "distance": 0.1409299964982589,
         "street": "улица Лобачевского",
         "_deepnote_index_column": 9924
        },
        {
         "id": 33210,
         "seller": 3,
         "area_total": 78.6,
         "area_kitchen": 19.8,
         "area_living": 37.7,
         "floor": 19,
         "rooms": 2,
         "layout": 1,
         "ceiling": 3,
         "bathrooms_shared": 0,
         "bathrooms_private": 1,
         "windows_court": 1,
         "windows_street": 0,
         "balconies": 0,
         "loggias": 1,
         "condition": 1,
         "phones": 1,
         "building_id": 2403,
         "new": 1,
         "district": 6,
         "constructed": 2018,
         "material": 2,
         "stories": 33,
         "elevator_without": 0,
         "elevator_passenger": 1,
         "elevator_service": 1,
         "parking": 0,
         "garbage_chute": 1,
         "heating": 0,
         "distance": 0.1080342730294371,
         "street": "Ленинский проспект",
         "_deepnote_index_column": 9925
        },
        {
         "id": 33211,
         "seller": 3,
         "area_total": 90.5,
         "area_kitchen": 27.2,
         "area_living": 38.3,
         "floor": 12,
         "rooms": 2,
         "layout": 1,
         "ceiling": 3,
         "bathrooms_shared": 2,
         "bathrooms_private": 0,
         "windows_court": 1,
         "windows_street": 0,
         "balconies": 0,
         "loggias": 1,
         "condition": 1,
         "phones": 1,
         "building_id": 2051,
         "new": 1,
         "district": 7,
         "constructed": 2020,
         "material": 0,
         "stories": 23,
         "elevator_without": 0,
         "elevator_passenger": 1,
         "elevator_service": 1,
         "parking": 1,
         "garbage_chute": 1,
         "heating": 0,
         "distance": 0.164393454662891,
         "street": "Гжатская улица",
         "_deepnote_index_column": 9926
        },
        {
         "id": 33212,
         "seller": 1,
         "area_total": 73.4,
         "area_kitchen": 22.66,
         "area_living": 87.44000000000001,
         "floor": 9,
         "rooms": 2,
         "layout": 2,
         "ceiling": 0,
         "bathrooms_shared": 1,
         "bathrooms_private": 1,
         "windows_court": 1,
         "windows_street": 1,
         "balconies": 1,
         "loggias": 1,
         "condition": 1,
         "phones": 1,
         "building_id": 1480,
         "new": 1,
         "district": 7,
         "constructed": 2016,
         "material": 2,
         "stories": 24,
         "elevator_without": 0,
         "elevator_passenger": 1,
         "elevator_service": 1,
         "parking": 0,
         "garbage_chute": 1,
         "heating": 1,
         "distance": 0.225713422367829,
         "street": "Рублевское шоссе",
         "_deepnote_index_column": 9927
        },
        {
         "id": 33213,
         "seller": 1,
         "area_total": 97.4,
         "area_kitchen": 18.3,
         "area_living": 41.5,
         "floor": 11,
         "rooms": 2,
         "layout": 1,
         "ceiling": 3,
         "bathrooms_shared": 1,
         "bathrooms_private": 1,
         "windows_court": 1,
         "windows_street": 1,
         "balconies": 0,
         "loggias": 1,
         "condition": 2,
         "phones": 1,
         "building_id": 1344,
         "new": 0,
         "district": 0,
         "constructed": 2015,
         "material": 0,
         "stories": 12,
         "elevator_without": 1,
         "elevator_passenger": 1,
         "elevator_service": 1,
         "parking": 2,
         "garbage_chute": 1,
         "heating": 0,
         "distance": 0.0358822626934284,
         "street": "Малая Пироговская улица",
         "_deepnote_index_column": 9928
        },
        {
         "id": 33214,
         "seller": 1,
         "area_total": 303.5,
         "area_kitchen": 27,
         "area_living": 119.6,
         "floor": 2,
         "rooms": 5,
         "layout": 1,
         "ceiling": 3,
         "bathrooms_shared": 3,
         "bathrooms_private": 0,
         "windows_court": 1,
         "windows_street": 1,
         "balconies": 1,
         "loggias": 0,
         "condition": 2,
         "phones": 1,
         "building_id": 1344,
         "new": 0,
         "district": 0,
         "constructed": 2015,
         "material": 0,
         "stories": 12,
         "elevator_without": 1,
         "elevator_passenger": 1,
         "elevator_service": 1,
         "parking": 2,
         "garbage_chute": 1,
         "heating": 0,
         "distance": 0.0358822626934284,
         "street": "Малая Пироговская улица",
         "_deepnote_index_column": 9929
        },
        {
         "id": 33215,
         "seller": 1,
         "area_total": 181.2,
         "area_kitchen": 27,
         "area_living": 119.6,
         "floor": 11,
         "rooms": 4,
         "layout": 1,
         "ceiling": 3,
         "bathrooms_shared": 3,
         "bathrooms_private": 0,
         "windows_court": 1,
         "windows_street": 1,
         "balconies": 1,
         "loggias": 0,
         "condition": 2,
         "phones": 1,
         "building_id": 1344,
         "new": 0,
         "district": 0,
         "constructed": 2015,
         "material": 0,
         "stories": 12,
         "elevator_without": 1,
         "elevator_passenger": 1,
         "elevator_service": 1,
         "parking": 2,
         "garbage_chute": 1,
         "heating": 0,
         "distance": 0.0358822626934284,
         "street": "Малая Пироговская улица",
         "_deepnote_index_column": 9930
        },
        {
         "id": 33216,
         "seller": 2,
         "area_total": 82.5,
         "area_kitchen": 10.78,
         "area_living": 49,
         "floor": 5,
         "rooms": 2,
         "layout": 1,
         "ceiling": 3,
         "bathrooms_shared": 0,
         "bathrooms_private": 2,
         "windows_court": 1,
         "windows_street": 0,
         "balconies": 0,
         "loggias": 1,
         "condition": 0,
         "phones": 1,
         "building_id": 8510,
         "new": 0,
         "district": 0,
         "constructed": 2017,
         "material": 2,
         "stories": 17,
         "elevator_without": 1,
         "elevator_passenger": 0,
         "elevator_service": 0,
         "parking": 2,
         "garbage_chute": 1,
         "heating": 0,
         "distance": 0.0507858663901678,
         "street": "улица Сергея Макеева",
         "_deepnote_index_column": 9931
        },
        {
         "id": 33217,
         "seller": 3,
         "area_total": 106,
         "area_kitchen": 19.9,
         "area_living": 56.7,
         "floor": 16,
         "rooms": 3,
         "layout": 1,
         "ceiling": 3,
         "bathrooms_shared": 1,
         "bathrooms_private": 0,
         "windows_court": 1,
         "windows_street": 0,
         "balconies": 0,
         "loggias": 1,
         "condition": 1,
         "phones": 1,
         "building_id": 4252,
         "new": 1,
         "district": 8,
         "constructed": 2020,
         "material": 2,
         "stories": 20,
         "elevator_without": 0,
         "elevator_passenger": 1,
         "elevator_service": 1,
         "parking": 0,
         "garbage_chute": 1,
         "heating": 0,
         "distance": 0.1489345410709012,
         "street": "улица Паршина",
         "_deepnote_index_column": 9932
        },
        {
         "id": 33218,
         "seller": 1,
         "area_total": 82,
         "area_kitchen": 8.879999999999999,
         "area_living": 33.22,
         "floor": 3,
         "rooms": 3,
         "layout": 1,
         "ceiling": 3,
         "bathrooms_shared": 2,
         "bathrooms_private": 0,
         "windows_court": 1,
         "windows_street": 0,
         "balconies": 1,
         "loggias": 0,
         "condition": 1,
         "phones": 2,
         "building_id": 7380,
         "new": 1,
         "district": 7,
         "constructed": 2021,
         "material": 2,
         "stories": 20,
         "elevator_without": 0,
         "elevator_passenger": 1,
         "elevator_service": 1,
         "parking": 1,
         "garbage_chute": 1,
         "heating": 0,
         "distance": 0.0837560381166623,
         "street": "Западный Порт ЖК",
         "_deepnote_index_column": 9933
        },
        {
         "id": 33219,
         "seller": 1,
         "area_total": 49.3,
         "area_kitchen": 22.06,
         "area_living": 78.22,
         "floor": 15,
         "rooms": 1,
         "layout": 1,
         "ceiling": 0,
         "bathrooms_shared": 1,
         "bathrooms_private": 1,
         "windows_court": 1,
         "windows_street": 1,
         "balconies": 1,
         "loggias": 1,
         "condition": 1,
         "phones": 1,
         "building_id": 1480,
         "new": 1,
         "district": 7,
         "constructed": 2016,
         "material": 2,
         "stories": 24,
         "elevator_without": 0,
         "elevator_passenger": 1,
         "elevator_service": 1,
         "parking": 0,
         "garbage_chute": 1,
         "heating": 1,
         "distance": 0.225713422367829,
         "street": "Рублевское шоссе",
         "_deepnote_index_column": 9934
        },
        {
         "id": 33220,
         "seller": 1,
         "area_total": 38.8,
         "area_kitchen": 10.5,
         "area_living": 15.1,
         "floor": 14,
         "rooms": 1,
         "layout": 1,
         "ceiling": 3,
         "bathrooms_shared": 1,
         "bathrooms_private": 0,
         "windows_court": 0,
         "windows_street": 1,
         "balconies": 0,
         "loggias": 1,
         "condition": 0,
         "phones": 2,
         "building_id": 2154,
         "new": 0,
         "district": 5,
         "constructed": 2019,
         "material": 1,
         "stories": 14,
         "elevator_without": 1,
         "elevator_passenger": 1,
         "elevator_service": 1,
         "parking": 0,
         "garbage_chute": 1,
         "heating": 0,
         "distance": 0.062356064163796,
         "street": "улица Архитектора Щусева",
         "_deepnote_index_column": 9935
        },
        {
         "id": 33221,
         "seller": 1,
         "area_total": 71.5,
         "area_kitchen": 7,
         "area_living": 49,
         "floor": 2,
         "rooms": 3,
         "layout": 1,
         "ceiling": 3,
         "bathrooms_shared": 0,
         "bathrooms_private": 1,
         "windows_court": 1,
         "windows_street": 0,
         "balconies": 1,
         "loggias": 0,
         "condition": 2,
         "phones": 0,
         "building_id": 3007,
         "new": 0,
         "district": 10,
         "constructed": 1993,
         "material": 2,
         "stories": 2,
         "elevator_without": 1,
         "elevator_passenger": 1,
         "elevator_service": 1,
         "parking": 1,
         "garbage_chute": 1,
         "heating": 0,
         "distance": 0.4070654756534905,
         "street": "Ильичевка хут.",
         "_deepnote_index_column": 9936
        }
       ]
      },
      "text/plain": "         id  seller  area_total  area_kitchen  area_living  floor  rooms  \\\n0     23285       3        71.4         13.16        29.44      2      1   \n1     23286       1        54.0          4.00        50.00      4      1   \n2     23287       3        39.4         19.60        11.20     10      1   \n3     23288       3        60.9         15.68        55.56      5      2   \n4     23289       3        34.0          9.00        17.00     14      1   \n...     ...     ...         ...           ...          ...    ...    ...   \n9932  33217       3       106.0         19.90        56.70     16      3   \n9933  33218       1        82.0          8.88        33.22      3      3   \n9934  33219       1        49.3         22.06        78.22     15      1   \n9935  33220       1        38.8         10.50        15.10     14      1   \n9936  33221       1        71.5          7.00        49.00      2      3   \n\n      layout  ceiling  bathrooms_shared  ...  material  stories  \\\n0          1        3                 1  ...         2       20   \n1          1        3                 1  ...         2       15   \n2          1        3                 1  ...         3        9   \n3          1        3                 1  ...         2       17   \n4          1        3                 1  ...         2       17   \n...      ...      ...               ...  ...       ...      ...   \n9932       1        3                 1  ...         2       20   \n9933       1        3                 2  ...         2       20   \n9934       1        0                 1  ...         2       24   \n9935       1        3                 1  ...         1       14   \n9936       1        3                 0  ...         2        2   \n\n      elevator_without  elevator_passenger  elevator_service  parking  \\\n0                    1                   1                 1        1   \n1                    0                   1                 1        0   \n2                    0                   1                 1        1   \n3                    1                   1                 0        0   \n4                    0                   1                 1        1   \n...                ...                 ...               ...      ...   \n9932                 0                   1                 1        0   \n9933                 0                   1                 1        1   \n9934                 0                   1                 1        0   \n9935                 1                   1                 1        0   \n9936                 1                   1                 1        1   \n\n      garbage_chute  heating  distance                      street  \n0                 1        0  0.052411     2-я Черногрязская улица  \n1                 0        0  0.216436            улица Сервантеса  \n2                 1        0  0.228879           Саларьево Парк ЖК  \n3                 1        3  0.217394  улица Александры Монаховой  \n4                 1        0  0.345584   улица 3-я Нововатутинская  \n...             ...      ...       ...                         ...  \n9932              1        0  0.148935               улица Паршина  \n9933              1        0  0.083756            Западный Порт ЖК  \n9934              1        1  0.225713            Рублевское шоссе  \n9935              1        0  0.062356    улица Архитектора Щусева  \n9936              1        0  0.407065              Ильичевка хут.  \n\n[9937 rows x 31 columns]",
      "text/html": "<div>\n<style scoped>\n    .dataframe tbody tr th:only-of-type {\n        vertical-align: middle;\n    }\n\n    .dataframe tbody tr th {\n        vertical-align: top;\n    }\n\n    .dataframe thead th {\n        text-align: right;\n    }\n</style>\n<table border=\"1\" class=\"dataframe\">\n  <thead>\n    <tr style=\"text-align: right;\">\n      <th></th>\n      <th>id</th>\n      <th>seller</th>\n      <th>area_total</th>\n      <th>area_kitchen</th>\n      <th>area_living</th>\n      <th>floor</th>\n      <th>rooms</th>\n      <th>layout</th>\n      <th>ceiling</th>\n      <th>bathrooms_shared</th>\n      <th>...</th>\n      <th>material</th>\n      <th>stories</th>\n      <th>elevator_without</th>\n      <th>elevator_passenger</th>\n      <th>elevator_service</th>\n      <th>parking</th>\n      <th>garbage_chute</th>\n      <th>heating</th>\n      <th>distance</th>\n      <th>street</th>\n    </tr>\n  </thead>\n  <tbody>\n    <tr>\n      <th>0</th>\n      <td>23285</td>\n      <td>3</td>\n      <td>71.4</td>\n      <td>13.16</td>\n      <td>29.44</td>\n      <td>2</td>\n      <td>1</td>\n      <td>1</td>\n      <td>3</td>\n      <td>1</td>\n      <td>...</td>\n      <td>2</td>\n      <td>20</td>\n      <td>1</td>\n      <td>1</td>\n      <td>1</td>\n      <td>1</td>\n      <td>1</td>\n      <td>0</td>\n      <td>0.052411</td>\n      <td>2-я Черногрязская улица</td>\n    </tr>\n    <tr>\n      <th>1</th>\n      <td>23286</td>\n      <td>1</td>\n      <td>54.0</td>\n      <td>4.00</td>\n      <td>50.00</td>\n      <td>4</td>\n      <td>1</td>\n      <td>1</td>\n      <td>3</td>\n      <td>1</td>\n      <td>...</td>\n      <td>2</td>\n      <td>15</td>\n      <td>0</td>\n      <td>1</td>\n      <td>1</td>\n      <td>0</td>\n      <td>0</td>\n      <td>0</td>\n      <td>0.216436</td>\n      <td>улица Сервантеса</td>\n    </tr>\n    <tr>\n      <th>2</th>\n      <td>23287</td>\n      <td>3</td>\n      <td>39.4</td>\n      <td>19.60</td>\n      <td>11.20</td>\n      <td>10</td>\n      <td>1</td>\n      <td>1</td>\n      <td>3</td>\n      <td>1</td>\n      <td>...</td>\n      <td>3</td>\n      <td>9</td>\n      <td>0</td>\n      <td>1</td>\n      <td>1</td>\n      <td>1</td>\n      <td>1</td>\n      <td>0</td>\n      <td>0.228879</td>\n      <td>Саларьево Парк ЖК</td>\n    </tr>\n    <tr>\n      <th>3</th>\n      <td>23288</td>\n      <td>3</td>\n      <td>60.9</td>\n      <td>15.68</td>\n      <td>55.56</td>\n      <td>5</td>\n      <td>2</td>\n      <td>1</td>\n      <td>3</td>\n      <td>1</td>\n      <td>...</td>\n      <td>2</td>\n      <td>17</td>\n      <td>1</td>\n      <td>1</td>\n      <td>0</td>\n      <td>0</td>\n      <td>1</td>\n      <td>3</td>\n      <td>0.217394</td>\n      <td>улица Александры Монаховой</td>\n    </tr>\n    <tr>\n      <th>4</th>\n      <td>23289</td>\n      <td>3</td>\n      <td>34.0</td>\n      <td>9.00</td>\n      <td>17.00</td>\n      <td>14</td>\n      <td>1</td>\n      <td>1</td>\n      <td>3</td>\n      <td>1</td>\n      <td>...</td>\n      <td>2</td>\n      <td>17</td>\n      <td>0</td>\n      <td>1</td>\n      <td>1</td>\n      <td>1</td>\n      <td>1</td>\n      <td>0</td>\n      <td>0.345584</td>\n      <td>улица 3-я Нововатутинская</td>\n    </tr>\n    <tr>\n      <th>...</th>\n      <td>...</td>\n      <td>...</td>\n      <td>...</td>\n      <td>...</td>\n      <td>...</td>\n      <td>...</td>\n      <td>...</td>\n      <td>...</td>\n      <td>...</td>\n      <td>...</td>\n      <td>...</td>\n      <td>...</td>\n      <td>...</td>\n      <td>...</td>\n      <td>...</td>\n      <td>...</td>\n      <td>...</td>\n      <td>...</td>\n      <td>...</td>\n      <td>...</td>\n      <td>...</td>\n    </tr>\n    <tr>\n      <th>9932</th>\n      <td>33217</td>\n      <td>3</td>\n      <td>106.0</td>\n      <td>19.90</td>\n      <td>56.70</td>\n      <td>16</td>\n      <td>3</td>\n      <td>1</td>\n      <td>3</td>\n      <td>1</td>\n      <td>...</td>\n      <td>2</td>\n      <td>20</td>\n      <td>0</td>\n      <td>1</td>\n      <td>1</td>\n      <td>0</td>\n      <td>1</td>\n      <td>0</td>\n      <td>0.148935</td>\n      <td>улица Паршина</td>\n    </tr>\n    <tr>\n      <th>9933</th>\n      <td>33218</td>\n      <td>1</td>\n      <td>82.0</td>\n      <td>8.88</td>\n      <td>33.22</td>\n      <td>3</td>\n      <td>3</td>\n      <td>1</td>\n      <td>3</td>\n      <td>2</td>\n      <td>...</td>\n      <td>2</td>\n      <td>20</td>\n      <td>0</td>\n      <td>1</td>\n      <td>1</td>\n      <td>1</td>\n      <td>1</td>\n      <td>0</td>\n      <td>0.083756</td>\n      <td>Западный Порт ЖК</td>\n    </tr>\n    <tr>\n      <th>9934</th>\n      <td>33219</td>\n      <td>1</td>\n      <td>49.3</td>\n      <td>22.06</td>\n      <td>78.22</td>\n      <td>15</td>\n      <td>1</td>\n      <td>1</td>\n      <td>0</td>\n      <td>1</td>\n      <td>...</td>\n      <td>2</td>\n      <td>24</td>\n      <td>0</td>\n      <td>1</td>\n      <td>1</td>\n      <td>0</td>\n      <td>1</td>\n      <td>1</td>\n      <td>0.225713</td>\n      <td>Рублевское шоссе</td>\n    </tr>\n    <tr>\n      <th>9935</th>\n      <td>33220</td>\n      <td>1</td>\n      <td>38.8</td>\n      <td>10.50</td>\n      <td>15.10</td>\n      <td>14</td>\n      <td>1</td>\n      <td>1</td>\n      <td>3</td>\n      <td>1</td>\n      <td>...</td>\n      <td>1</td>\n      <td>14</td>\n      <td>1</td>\n      <td>1</td>\n      <td>1</td>\n      <td>0</td>\n      <td>1</td>\n      <td>0</td>\n      <td>0.062356</td>\n      <td>улица Архитектора Щусева</td>\n    </tr>\n    <tr>\n      <th>9936</th>\n      <td>33221</td>\n      <td>1</td>\n      <td>71.5</td>\n      <td>7.00</td>\n      <td>49.00</td>\n      <td>2</td>\n      <td>3</td>\n      <td>1</td>\n      <td>3</td>\n      <td>0</td>\n      <td>...</td>\n      <td>2</td>\n      <td>2</td>\n      <td>1</td>\n      <td>1</td>\n      <td>1</td>\n      <td>1</td>\n      <td>1</td>\n      <td>0</td>\n      <td>0.407065</td>\n      <td>Ильичевка хут.</td>\n    </tr>\n  </tbody>\n</table>\n<p>9937 rows × 31 columns</p>\n</div>"
     },
     "metadata": {}
    }
   ],
   "execution_count": null
  },
  {
   "cell_type": "code",
   "metadata": {
    "tags": [],
    "deepnote_to_be_reexecuted": false,
    "source_hash": "c8f3b0c",
    "execution_start": 1637346475050,
    "execution_millis": 0,
    "deepnote_output_heights": [
     40
    ],
    "cell_id": "00005-d0490b87-a48a-4256-8b82-3a2794584818",
    "deepnote_cell_type": "code"
   },
   "source": "#y1 = df_train['price']\n\nX1_test = df_test.drop(['id'], axis=1)\n\nX1_test_area_total = X1_test.area_total.values # Save area total values from training set so that we can use feature engineering on price/area as measure\ndf_train['price/area'] = df_train['price']/df_train['area_total']\ny1 = df_train['price/area'] # Don't drop area here because we need it for split\n\nX1 = df_train.drop(['price', 'id', 'price/area'], axis=1)",
   "outputs": [],
   "execution_count": null
  },
  {
   "cell_type": "code",
   "metadata": {
    "tags": [],
    "deepnote_to_be_reexecuted": false,
    "source_hash": "8e89e5b2",
    "execution_start": 1637346475061,
    "execution_millis": 7,
    "deepnote_output_heights": [
     21.1875
    ],
    "cell_id": "00006-49b233c8-6b0d-4d2d-a4e8-5f406c871bcc",
    "deepnote_cell_type": "code"
   },
   "source": "X_train, X_val, y_train, y_val = train_test_split(X1, y1, test_size=0.2, random_state=1, shuffle=True)\nX_train.shape, X_val.shape, y_train.shape,y_val.shape, X1_test.shape\n",
   "outputs": [
    {
     "output_type": "execute_result",
     "execution_count": 7,
     "data": {
      "text/plain": "((18589, 30), (4648, 30), (18589,), (4648,), (9937, 30))"
     },
     "metadata": {}
    }
   ],
   "execution_count": null
  },
  {
   "cell_type": "code",
   "metadata": {
    "tags": [],
    "deepnote_to_be_reexecuted": false,
    "source_hash": "fb93a432",
    "execution_start": 1637346475081,
    "execution_millis": 2,
    "cell_id": "00007-8214b52e-0cb8-446c-b942-13acff8dcd0a",
    "deepnote_cell_type": "code"
   },
   "source": "area_total_train = X_train.area_total.values\narea_total_val = X_val.area_total.values\nX_train = X_train.drop(['area_total'], axis=1)\nX_val = X_val.drop(['area_total'], axis=1)\n\n\n\n#seller-0, rooms-3, layout-4, ceiling-5, bathrooms_shared-6, bathrooms_private-7, windows_court-8, windows_street-9, balconies-10, loggias-11, condition-12, phones-13, building_id-14, new-15, district-16, constructed-17, material-18, elevator_without-19, elevator_passenger-20, elevator_service-21, parking-22, garbage_chute-23, heating-24, street-25",
   "outputs": [],
   "execution_count": null
  },
  {
   "cell_type": "code",
   "source": "",
   "metadata": {
    "tags": [],
    "cell_id": "00008-6b909fad-8d93-427e-a71a-fe71fe7051b2",
    "deepnote_to_be_reexecuted": false,
    "source_hash": "b623e53d",
    "execution_start": 1637346475095,
    "deepnote_cell_type": "code"
   },
   "outputs": [],
   "execution_count": null
  },
  {
   "cell_type": "code",
   "source": "def catboost1(X_trainn, y_trainn, X_testt):\n    cat_features = np.where(X_trainn.dtypes != np.float64)[0]\n    X_train, X_val, y_train, y_val = train_test_split(X_trainn, y_trainn, test_size=0.2, random_state=1, shuffle=True)\n    area_total_train = X_train.area_total.values\n    area_total_val = X_val.area_total.values\n    X_train = X_train.drop(['area_total'], axis=1)\n    X_val = X_val.drop(['area_total'], axis=1)\n    X_test = X_testt.drop(['area_total'], axis=1)\n    model = CatBoostRegressor(random_state=1, iterations = 2000, cat_features = cat_features, depth=9, learning_rate = 0.1, loss_function='RMSE')\n    model.fit(X_train, y_train, eval_set=(X_val, y_val), plot=False)\n    #y_pred = model.predict(X_val)*area_total_val\n    final_labels = model.predict(X_test.drop(['area_total'], axis=1))\n    final_labels = final_labels.astype(float)\n    final_labels = final_labels * df_test.area_total.values\n    return final_labels\n",
   "metadata": {
    "tags": [],
    "cell_id": "00009-5a898703-8ac4-45b7-88ab-c19398c95036",
    "deepnote_to_be_reexecuted": false,
    "source_hash": "e016e32f",
    "execution_start": 1637346475107,
    "execution_millis": 37,
    "deepnote_cell_type": "code"
   },
   "outputs": [],
   "execution_count": null
  },
  {
   "cell_type": "code",
   "metadata": {
    "tags": [],
    "deepnote_to_be_reexecuted": false,
    "source_hash": "4f00c90e",
    "execution_start": 1637346488872,
    "execution_millis": 658,
    "cell_id": "00018-02d8652d-f666-4a6e-9f11-c5b415c70116",
    "deepnote_cell_type": "code"
   },
   "source": "final_labels = catboost1(X1, y1, X1_test)\n\n#print(f'Train RMSLE: {root_mean_squared_log_error(y_true=y_train, y_pred=y_train_hat) :.4f}')\n#print(f'Valid RMSLE: {root_mean_squared_log_error(y_true=y_val, y_pred=y_valid_hat) :.4f}')\nprint(final_labels.head())\n\n#Train RMSLE: 0.1283\n#Valid RMSLE: 0.1761\n\n#Train RMSLE: 0.0489\n#Valid RMSLE: 0.1451\n\n#Train RMSLE: 0.0071\n#Valid RMSLE: 0.0187",
   "outputs": [
    {
     "output_type": "error",
     "ename": "CatBoostError",
     "evalue": "Invalid cat_features[25] = 29 value: index must be < 29.",
     "traceback": [
      "\u001b[0;31m---------------------------------------------------------------------------\u001b[0m",
      "\u001b[0;31mCatBoostError\u001b[0m                             Traceback (most recent call last)",
      "\u001b[0;32m<ipython-input-11-0f4b6f943dab>\u001b[0m in \u001b[0;36m<module>\u001b[0;34m\u001b[0m\n\u001b[0;32m----> 1\u001b[0;31m \u001b[0mfinal_labels\u001b[0m \u001b[0;34m=\u001b[0m \u001b[0mcatboost1\u001b[0m\u001b[0;34m(\u001b[0m\u001b[0mX1\u001b[0m\u001b[0;34m,\u001b[0m \u001b[0my1\u001b[0m\u001b[0;34m,\u001b[0m \u001b[0mX1_test\u001b[0m\u001b[0;34m)\u001b[0m\u001b[0;34m\u001b[0m\u001b[0;34m\u001b[0m\u001b[0m\n\u001b[0m\u001b[1;32m      2\u001b[0m \u001b[0;34m\u001b[0m\u001b[0m\n\u001b[1;32m      3\u001b[0m \u001b[0;31m#print(f'Train RMSLE: {root_mean_squared_log_error(y_true=y_train, y_pred=y_train_hat) :.4f}')\u001b[0m\u001b[0;34m\u001b[0m\u001b[0;34m\u001b[0m\u001b[0m\n\u001b[1;32m      4\u001b[0m \u001b[0;31m#print(f'Valid RMSLE: {root_mean_squared_log_error(y_true=y_val, y_pred=y_valid_hat) :.4f}')\u001b[0m\u001b[0;34m\u001b[0m\u001b[0;34m\u001b[0m\u001b[0m\n\u001b[1;32m      5\u001b[0m \u001b[0mprint\u001b[0m\u001b[0;34m(\u001b[0m\u001b[0mfinal_labels\u001b[0m\u001b[0;34m.\u001b[0m\u001b[0mhead\u001b[0m\u001b[0;34m(\u001b[0m\u001b[0;34m)\u001b[0m\u001b[0;34m)\u001b[0m\u001b[0;34m\u001b[0m\u001b[0;34m\u001b[0m\u001b[0m\n",
      "\u001b[0;32m<ipython-input-9-ea8a59558aad>\u001b[0m in \u001b[0;36mcatboost1\u001b[0;34m(X_trainn, y_trainn, X_testt)\u001b[0m\n\u001b[1;32m      8\u001b[0m     \u001b[0mX_test\u001b[0m \u001b[0;34m=\u001b[0m \u001b[0mX_testt\u001b[0m\u001b[0;34m.\u001b[0m\u001b[0mdrop\u001b[0m\u001b[0;34m(\u001b[0m\u001b[0;34m[\u001b[0m\u001b[0;34m'area_total'\u001b[0m\u001b[0;34m]\u001b[0m\u001b[0;34m,\u001b[0m \u001b[0maxis\u001b[0m\u001b[0;34m=\u001b[0m\u001b[0;36m1\u001b[0m\u001b[0;34m)\u001b[0m\u001b[0;34m\u001b[0m\u001b[0;34m\u001b[0m\u001b[0m\n\u001b[1;32m      9\u001b[0m     \u001b[0mmodel\u001b[0m \u001b[0;34m=\u001b[0m \u001b[0mCatBoostRegressor\u001b[0m\u001b[0;34m(\u001b[0m\u001b[0mrandom_state\u001b[0m\u001b[0;34m=\u001b[0m\u001b[0;36m1\u001b[0m\u001b[0;34m,\u001b[0m \u001b[0miterations\u001b[0m \u001b[0;34m=\u001b[0m \u001b[0;36m2000\u001b[0m\u001b[0;34m,\u001b[0m \u001b[0mcat_features\u001b[0m \u001b[0;34m=\u001b[0m \u001b[0mcat_features\u001b[0m\u001b[0;34m,\u001b[0m \u001b[0mdepth\u001b[0m\u001b[0;34m=\u001b[0m\u001b[0;36m9\u001b[0m\u001b[0;34m,\u001b[0m \u001b[0mlearning_rate\u001b[0m \u001b[0;34m=\u001b[0m \u001b[0;36m0.1\u001b[0m\u001b[0;34m,\u001b[0m \u001b[0mloss_function\u001b[0m\u001b[0;34m=\u001b[0m\u001b[0;34m'RMSE'\u001b[0m\u001b[0;34m)\u001b[0m\u001b[0;34m\u001b[0m\u001b[0;34m\u001b[0m\u001b[0m\n\u001b[0;32m---> 10\u001b[0;31m     \u001b[0mmodel\u001b[0m\u001b[0;34m.\u001b[0m\u001b[0mfit\u001b[0m\u001b[0;34m(\u001b[0m\u001b[0mX_train\u001b[0m\u001b[0;34m,\u001b[0m \u001b[0my_train\u001b[0m\u001b[0;34m,\u001b[0m \u001b[0meval_set\u001b[0m\u001b[0;34m=\u001b[0m\u001b[0;34m(\u001b[0m\u001b[0mX_val\u001b[0m\u001b[0;34m,\u001b[0m \u001b[0my_val\u001b[0m\u001b[0;34m)\u001b[0m\u001b[0;34m,\u001b[0m \u001b[0mplot\u001b[0m\u001b[0;34m=\u001b[0m\u001b[0;32mFalse\u001b[0m\u001b[0;34m)\u001b[0m\u001b[0;34m\u001b[0m\u001b[0;34m\u001b[0m\u001b[0m\n\u001b[0m\u001b[1;32m     11\u001b[0m     \u001b[0;31m#y_pred = model.predict(X_val)*area_total_val\u001b[0m\u001b[0;34m\u001b[0m\u001b[0;34m\u001b[0m\u001b[0m\n\u001b[1;32m     12\u001b[0m     \u001b[0mfinal_labels\u001b[0m \u001b[0;34m=\u001b[0m \u001b[0mmodel\u001b[0m\u001b[0;34m.\u001b[0m\u001b[0mpredict\u001b[0m\u001b[0;34m(\u001b[0m\u001b[0mX_test\u001b[0m\u001b[0;34m.\u001b[0m\u001b[0mdrop\u001b[0m\u001b[0;34m(\u001b[0m\u001b[0;34m[\u001b[0m\u001b[0;34m'area_total'\u001b[0m\u001b[0;34m]\u001b[0m\u001b[0;34m,\u001b[0m \u001b[0maxis\u001b[0m\u001b[0;34m=\u001b[0m\u001b[0;36m1\u001b[0m\u001b[0;34m)\u001b[0m\u001b[0;34m)\u001b[0m\u001b[0;34m\u001b[0m\u001b[0;34m\u001b[0m\u001b[0m\n",
      "\u001b[0;32m~/venv/lib/python3.9/site-packages/catboost/core.py\u001b[0m in \u001b[0;36mfit\u001b[0;34m(self, X, y, cat_features, sample_weight, baseline, use_best_model, eval_set, verbose, logging_level, plot, column_description, verbose_eval, metric_period, silent, early_stopping_rounds, save_snapshot, snapshot_file, snapshot_interval, init_model, callbacks, log_cout, log_cerr)\u001b[0m\n\u001b[1;32m   5297\u001b[0m             \u001b[0mCatBoostRegressor\u001b[0m\u001b[0;34m.\u001b[0m\u001b[0m_check_is_compatible_loss\u001b[0m\u001b[0;34m(\u001b[0m\u001b[0mparams\u001b[0m\u001b[0;34m[\u001b[0m\u001b[0;34m'loss_function'\u001b[0m\u001b[0;34m]\u001b[0m\u001b[0;34m)\u001b[0m\u001b[0;34m\u001b[0m\u001b[0;34m\u001b[0m\u001b[0m\n\u001b[1;32m   5298\u001b[0m \u001b[0;34m\u001b[0m\u001b[0m\n\u001b[0;32m-> 5299\u001b[0;31m         return self._fit(X, y, cat_features, None, None, None, sample_weight, None, None, None, None, baseline,\n\u001b[0m\u001b[1;32m   5300\u001b[0m                          \u001b[0muse_best_model\u001b[0m\u001b[0;34m,\u001b[0m \u001b[0meval_set\u001b[0m\u001b[0;34m,\u001b[0m \u001b[0mverbose\u001b[0m\u001b[0;34m,\u001b[0m \u001b[0mlogging_level\u001b[0m\u001b[0;34m,\u001b[0m \u001b[0mplot\u001b[0m\u001b[0;34m,\u001b[0m \u001b[0mcolumn_description\u001b[0m\u001b[0;34m,\u001b[0m\u001b[0;34m\u001b[0m\u001b[0;34m\u001b[0m\u001b[0m\n\u001b[1;32m   5301\u001b[0m                          \u001b[0mverbose_eval\u001b[0m\u001b[0;34m,\u001b[0m \u001b[0mmetric_period\u001b[0m\u001b[0;34m,\u001b[0m \u001b[0msilent\u001b[0m\u001b[0;34m,\u001b[0m \u001b[0mearly_stopping_rounds\u001b[0m\u001b[0;34m,\u001b[0m\u001b[0;34m\u001b[0m\u001b[0;34m\u001b[0m\u001b[0m\n",
      "\u001b[0;32m~/venv/lib/python3.9/site-packages/catboost/core.py\u001b[0m in \u001b[0;36m_fit\u001b[0;34m(self, X, y, cat_features, text_features, embedding_features, pairs, sample_weight, group_id, group_weight, subgroup_id, pairs_weight, baseline, use_best_model, eval_set, verbose, logging_level, plot, column_description, verbose_eval, metric_period, silent, early_stopping_rounds, save_snapshot, snapshot_file, snapshot_interval, init_model, callbacks, log_cout, log_cerr)\u001b[0m\n\u001b[1;32m   2019\u001b[0m             \u001b[0;32mraise\u001b[0m \u001b[0mCatBoostError\u001b[0m\u001b[0;34m(\u001b[0m\u001b[0;34m\"y may be None only when X is an instance of catboost.Pool or string\"\u001b[0m\u001b[0;34m)\u001b[0m\u001b[0;34m\u001b[0m\u001b[0;34m\u001b[0m\u001b[0m\n\u001b[1;32m   2020\u001b[0m \u001b[0;34m\u001b[0m\u001b[0m\n\u001b[0;32m-> 2021\u001b[0;31m         train_params = self._prepare_train_params(\n\u001b[0m\u001b[1;32m   2022\u001b[0m             \u001b[0mX\u001b[0m\u001b[0;34m=\u001b[0m\u001b[0mX\u001b[0m\u001b[0;34m,\u001b[0m \u001b[0my\u001b[0m\u001b[0;34m=\u001b[0m\u001b[0my\u001b[0m\u001b[0;34m,\u001b[0m \u001b[0mcat_features\u001b[0m\u001b[0;34m=\u001b[0m\u001b[0mcat_features\u001b[0m\u001b[0;34m,\u001b[0m \u001b[0mtext_features\u001b[0m\u001b[0;34m=\u001b[0m\u001b[0mtext_features\u001b[0m\u001b[0;34m,\u001b[0m \u001b[0membedding_features\u001b[0m\u001b[0;34m=\u001b[0m\u001b[0membedding_features\u001b[0m\u001b[0;34m,\u001b[0m\u001b[0;34m\u001b[0m\u001b[0;34m\u001b[0m\u001b[0m\n\u001b[1;32m   2023\u001b[0m             \u001b[0mpairs\u001b[0m\u001b[0;34m=\u001b[0m\u001b[0mpairs\u001b[0m\u001b[0;34m,\u001b[0m \u001b[0msample_weight\u001b[0m\u001b[0;34m=\u001b[0m\u001b[0msample_weight\u001b[0m\u001b[0;34m,\u001b[0m \u001b[0mgroup_id\u001b[0m\u001b[0;34m=\u001b[0m\u001b[0mgroup_id\u001b[0m\u001b[0;34m,\u001b[0m \u001b[0mgroup_weight\u001b[0m\u001b[0;34m=\u001b[0m\u001b[0mgroup_weight\u001b[0m\u001b[0;34m,\u001b[0m\u001b[0;34m\u001b[0m\u001b[0;34m\u001b[0m\u001b[0m\n",
      "\u001b[0;32m~/venv/lib/python3.9/site-packages/catboost/core.py\u001b[0m in \u001b[0;36m_prepare_train_params\u001b[0;34m(self, X, y, cat_features, text_features, embedding_features, pairs, sample_weight, group_id, group_weight, subgroup_id, pairs_weight, baseline, use_best_model, eval_set, verbose, logging_level, plot, column_description, verbose_eval, metric_period, silent, early_stopping_rounds, save_snapshot, snapshot_file, snapshot_interval, init_model, callbacks)\u001b[0m\n\u001b[1;32m   1905\u001b[0m         \u001b[0membedding_features\u001b[0m \u001b[0;34m=\u001b[0m \u001b[0m_process_feature_indices\u001b[0m\u001b[0;34m(\u001b[0m\u001b[0membedding_features\u001b[0m\u001b[0;34m,\u001b[0m \u001b[0mX\u001b[0m\u001b[0;34m,\u001b[0m \u001b[0mparams\u001b[0m\u001b[0;34m,\u001b[0m \u001b[0;34m'embedding_features'\u001b[0m\u001b[0;34m)\u001b[0m\u001b[0;34m\u001b[0m\u001b[0;34m\u001b[0m\u001b[0m\n\u001b[1;32m   1906\u001b[0m \u001b[0;34m\u001b[0m\u001b[0m\n\u001b[0;32m-> 1907\u001b[0;31m         train_pool = _build_train_pool(X, y, cat_features, text_features, embedding_features, pairs,\n\u001b[0m\u001b[1;32m   1908\u001b[0m                                        \u001b[0msample_weight\u001b[0m\u001b[0;34m,\u001b[0m \u001b[0mgroup_id\u001b[0m\u001b[0;34m,\u001b[0m \u001b[0mgroup_weight\u001b[0m\u001b[0;34m,\u001b[0m \u001b[0msubgroup_id\u001b[0m\u001b[0;34m,\u001b[0m \u001b[0mpairs_weight\u001b[0m\u001b[0;34m,\u001b[0m\u001b[0;34m\u001b[0m\u001b[0;34m\u001b[0m\u001b[0m\n\u001b[1;32m   1909\u001b[0m                                        baseline, column_description)\n",
      "\u001b[0;32m~/venv/lib/python3.9/site-packages/catboost/core.py\u001b[0m in \u001b[0;36m_build_train_pool\u001b[0;34m(X, y, cat_features, text_features, embedding_features, pairs, sample_weight, group_id, group_weight, subgroup_id, pairs_weight, baseline, column_description)\u001b[0m\n\u001b[1;32m   1187\u001b[0m         \u001b[0;32mif\u001b[0m \u001b[0my\u001b[0m \u001b[0;32mis\u001b[0m \u001b[0;32mNone\u001b[0m\u001b[0;34m:\u001b[0m\u001b[0;34m\u001b[0m\u001b[0;34m\u001b[0m\u001b[0m\n\u001b[1;32m   1188\u001b[0m             \u001b[0;32mraise\u001b[0m \u001b[0mCatBoostError\u001b[0m\u001b[0;34m(\u001b[0m\u001b[0;34m\"y has not initialized in fit(): X is not catboost.Pool object, y must be not None in fit().\"\u001b[0m\u001b[0;34m)\u001b[0m\u001b[0;34m\u001b[0m\u001b[0;34m\u001b[0m\u001b[0m\n\u001b[0;32m-> 1189\u001b[0;31m         train_pool = Pool(X, y, cat_features=cat_features, text_features=text_features, embedding_features=embedding_features, pairs=pairs, weight=sample_weight, group_id=group_id,\n\u001b[0m\u001b[1;32m   1190\u001b[0m                           group_weight=group_weight, subgroup_id=subgroup_id, pairs_weight=pairs_weight, baseline=baseline)\n\u001b[1;32m   1191\u001b[0m     \u001b[0;32mreturn\u001b[0m \u001b[0mtrain_pool\u001b[0m\u001b[0;34m\u001b[0m\u001b[0;34m\u001b[0m\u001b[0m\n",
      "\u001b[0;32m~/venv/lib/python3.9/site-packages/catboost/core.py\u001b[0m in \u001b[0;36m__init__\u001b[0;34m(self, data, label, cat_features, text_features, embedding_features, column_description, pairs, delimiter, has_header, ignore_csv_quoting, weight, group_id, group_weight, subgroup_id, pairs_weight, baseline, timestamp, feature_names, thread_count, log_cout, log_cerr)\u001b[0m\n\u001b[1;32m    626\u001b[0m                     )\n\u001b[1;32m    627\u001b[0m \u001b[0;34m\u001b[0m\u001b[0m\n\u001b[0;32m--> 628\u001b[0;31m                 \u001b[0mself\u001b[0m\u001b[0;34m.\u001b[0m\u001b[0m_init\u001b[0m\u001b[0;34m(\u001b[0m\u001b[0mdata\u001b[0m\u001b[0;34m,\u001b[0m \u001b[0mlabel\u001b[0m\u001b[0;34m,\u001b[0m \u001b[0mcat_features\u001b[0m\u001b[0;34m,\u001b[0m \u001b[0mtext_features\u001b[0m\u001b[0;34m,\u001b[0m \u001b[0membedding_features\u001b[0m\u001b[0;34m,\u001b[0m \u001b[0mpairs\u001b[0m\u001b[0;34m,\u001b[0m \u001b[0mweight\u001b[0m\u001b[0;34m,\u001b[0m \u001b[0mgroup_id\u001b[0m\u001b[0;34m,\u001b[0m \u001b[0mgroup_weight\u001b[0m\u001b[0;34m,\u001b[0m \u001b[0msubgroup_id\u001b[0m\u001b[0;34m,\u001b[0m \u001b[0mpairs_weight\u001b[0m\u001b[0;34m,\u001b[0m \u001b[0mbaseline\u001b[0m\u001b[0;34m,\u001b[0m \u001b[0mtimestamp\u001b[0m\u001b[0;34m,\u001b[0m \u001b[0mfeature_names\u001b[0m\u001b[0;34m,\u001b[0m \u001b[0mthread_count\u001b[0m\u001b[0;34m)\u001b[0m\u001b[0;34m\u001b[0m\u001b[0;34m\u001b[0m\u001b[0m\n\u001b[0m\u001b[1;32m    629\u001b[0m         \u001b[0msuper\u001b[0m\u001b[0;34m(\u001b[0m\u001b[0mPool\u001b[0m\u001b[0;34m,\u001b[0m \u001b[0mself\u001b[0m\u001b[0;34m)\u001b[0m\u001b[0;34m.\u001b[0m\u001b[0m__init__\u001b[0m\u001b[0;34m(\u001b[0m\u001b[0;34m)\u001b[0m\u001b[0;34m\u001b[0m\u001b[0;34m\u001b[0m\u001b[0m\n\u001b[1;32m    630\u001b[0m \u001b[0;34m\u001b[0m\u001b[0m\n",
      "\u001b[0;32m~/venv/lib/python3.9/site-packages/catboost/core.py\u001b[0m in \u001b[0;36m_init\u001b[0;34m(self, data, label, cat_features, text_features, embedding_features, pairs, weight, group_id, group_weight, subgroup_id, pairs_weight, baseline, timestamp, feature_names, thread_count)\u001b[0m\n\u001b[1;32m   1125\u001b[0m             \u001b[0mcat_features\u001b[0m \u001b[0;34m=\u001b[0m \u001b[0m_get_features_indices\u001b[0m\u001b[0;34m(\u001b[0m\u001b[0mcat_features\u001b[0m\u001b[0;34m,\u001b[0m \u001b[0mfeature_names\u001b[0m\u001b[0;34m)\u001b[0m\u001b[0;34m\u001b[0m\u001b[0;34m\u001b[0m\u001b[0m\n\u001b[1;32m   1126\u001b[0m             \u001b[0mself\u001b[0m\u001b[0;34m.\u001b[0m\u001b[0m_check_string_feature_type\u001b[0m\u001b[0;34m(\u001b[0m\u001b[0mcat_features\u001b[0m\u001b[0;34m,\u001b[0m \u001b[0;34m'cat_features'\u001b[0m\u001b[0;34m)\u001b[0m\u001b[0;34m\u001b[0m\u001b[0;34m\u001b[0m\u001b[0m\n\u001b[0;32m-> 1127\u001b[0;31m             \u001b[0mself\u001b[0m\u001b[0;34m.\u001b[0m\u001b[0m_check_string_feature_value\u001b[0m\u001b[0;34m(\u001b[0m\u001b[0mcat_features\u001b[0m\u001b[0;34m,\u001b[0m \u001b[0mfeatures_count\u001b[0m\u001b[0;34m,\u001b[0m \u001b[0;34m'cat_features'\u001b[0m\u001b[0;34m)\u001b[0m\u001b[0;34m\u001b[0m\u001b[0;34m\u001b[0m\u001b[0m\n\u001b[0m\u001b[1;32m   1128\u001b[0m         \u001b[0;32mif\u001b[0m \u001b[0mtext_features\u001b[0m \u001b[0;32mis\u001b[0m \u001b[0;32mnot\u001b[0m \u001b[0;32mNone\u001b[0m\u001b[0;34m:\u001b[0m\u001b[0;34m\u001b[0m\u001b[0;34m\u001b[0m\u001b[0m\n\u001b[1;32m   1129\u001b[0m             \u001b[0mtext_features\u001b[0m \u001b[0;34m=\u001b[0m \u001b[0m_get_features_indices\u001b[0m\u001b[0;34m(\u001b[0m\u001b[0mtext_features\u001b[0m\u001b[0;34m,\u001b[0m \u001b[0mfeature_names\u001b[0m\u001b[0;34m)\u001b[0m\u001b[0;34m\u001b[0m\u001b[0;34m\u001b[0m\u001b[0m\n",
      "\u001b[0;32m~/venv/lib/python3.9/site-packages/catboost/core.py\u001b[0m in \u001b[0;36m_check_string_feature_value\u001b[0;34m(self, features, features_count, features_name)\u001b[0m\n\u001b[1;32m    671\u001b[0m                 \u001b[0;32mraise\u001b[0m \u001b[0mCatBoostError\u001b[0m\u001b[0;34m(\u001b[0m\u001b[0;34m\"Invalid {}[{}] = {} value type={}: must be int().\"\u001b[0m\u001b[0;34m.\u001b[0m\u001b[0mformat\u001b[0m\u001b[0;34m(\u001b[0m\u001b[0mfeatures_name\u001b[0m\u001b[0;34m,\u001b[0m \u001b[0mindx\u001b[0m\u001b[0;34m,\u001b[0m \u001b[0mfeature\u001b[0m\u001b[0;34m,\u001b[0m \u001b[0mtype\u001b[0m\u001b[0;34m(\u001b[0m\u001b[0mfeature\u001b[0m\u001b[0;34m)\u001b[0m\u001b[0;34m)\u001b[0m\u001b[0;34m)\u001b[0m\u001b[0;34m\u001b[0m\u001b[0;34m\u001b[0m\u001b[0m\n\u001b[1;32m    672\u001b[0m             \u001b[0;32mif\u001b[0m \u001b[0mfeature\u001b[0m \u001b[0;34m>=\u001b[0m \u001b[0mfeatures_count\u001b[0m\u001b[0;34m:\u001b[0m\u001b[0;34m\u001b[0m\u001b[0;34m\u001b[0m\u001b[0m\n\u001b[0;32m--> 673\u001b[0;31m                 \u001b[0;32mraise\u001b[0m \u001b[0mCatBoostError\u001b[0m\u001b[0;34m(\u001b[0m\u001b[0;34m\"Invalid {}[{}] = {} value: index must be < {}.\"\u001b[0m\u001b[0;34m.\u001b[0m\u001b[0mformat\u001b[0m\u001b[0;34m(\u001b[0m\u001b[0mfeatures_name\u001b[0m\u001b[0;34m,\u001b[0m \u001b[0mindx\u001b[0m\u001b[0;34m,\u001b[0m \u001b[0mfeature\u001b[0m\u001b[0;34m,\u001b[0m \u001b[0mfeatures_count\u001b[0m\u001b[0;34m)\u001b[0m\u001b[0;34m)\u001b[0m\u001b[0;34m\u001b[0m\u001b[0;34m\u001b[0m\u001b[0m\n\u001b[0m\u001b[1;32m    674\u001b[0m \u001b[0;34m\u001b[0m\u001b[0m\n\u001b[1;32m    675\u001b[0m     \u001b[0;32mdef\u001b[0m \u001b[0m_check_pairs_type\u001b[0m\u001b[0;34m(\u001b[0m\u001b[0mself\u001b[0m\u001b[0;34m,\u001b[0m \u001b[0mpairs\u001b[0m\u001b[0;34m)\u001b[0m\u001b[0;34m:\u001b[0m\u001b[0;34m\u001b[0m\u001b[0;34m\u001b[0m\u001b[0m\n",
      "\u001b[0;31mCatBoostError\u001b[0m: Invalid cat_features[25] = 29 value: index must be < 29."
     ]
    }
   ],
   "execution_count": null
  },
  {
   "cell_type": "code",
   "metadata": {
    "tags": [],
    "deepnote_to_be_reexecuted": true,
    "source_hash": "b623e53d",
    "execution_start": 1637343706478,
    "execution_millis": 1,
    "cell_id": "00019-9c6fcd28-534c-49f2-93fb-d2e8128aef67",
    "deepnote_cell_type": "code"
   },
   "source": "",
   "outputs": [],
   "execution_count": null
  },
  {
   "cell_type": "code",
   "metadata": {
    "tags": [],
    "deepnote_to_be_reexecuted": true,
    "source_hash": "61e9ef7c",
    "execution_start": 1637343706491,
    "execution_millis": 66,
    "cell_id": "00020-96b80d28-a5f7-467a-9db5-8cea729c1a3c",
    "deepnote_cell_type": "code"
   },
   "source": "submission = pd.DataFrame()\nsubmission['id'] = df_test.id\nsubmission['price_prediction'] = final_labels # Predict on non-nan entries\n # Fill missing entries with mean predictor\nprint(f'Generated {len(submission)} predictions')\n\n# Export submission to csv with headers\n#submission.to_csv('sample_submission.csv', index=False)\n\nsubmission.to_csv('sample_submission9.csv', index=False)",
   "outputs": [
    {
     "name": "stdout",
     "text": "Generated 9937 predictions\n",
     "output_type": "stream"
    }
   ],
   "execution_count": null
  },
  {
   "cell_type": "code",
   "metadata": {
    "tags": [],
    "deepnote_to_be_reexecuted": true,
    "source_hash": "5d97bad",
    "execution_start": 1637344306878,
    "execution_millis": 30653,
    "cell_id": "00021-bf6e1937-f8c9-4b16-9628-f4a5b27f539b",
    "deepnote_cell_type": "code"
   },
   "source": "!pip install shap",
   "outputs": [
    {
     "name": "stdout",
     "text": "Collecting shap\n  Downloading shap-0.40.0.tar.gz (371 kB)\n\u001b[K     |████████████████████████████████| 371 kB 5.7 MB/s \n\u001b[?25h  Installing build dependencies ... \u001b[?25ldone\n\u001b[?25h  Getting requirements to build wheel ... \u001b[?25ldone\n\u001b[?25h    Preparing wheel metadata ... \u001b[?25ldone\n\u001b[?25hCollecting numba\n  Downloading numba-0.54.1-cp39-cp39-manylinux2014_x86_64.manylinux_2_17_x86_64.whl (3.3 MB)\n\u001b[K     |████████████████████████████████| 3.3 MB 45.5 MB/s \n\u001b[?25hRequirement already satisfied: packaging>20.9 in /shared-libs/python3.9/py-core/lib/python3.9/site-packages (from shap) (21.2)\nRequirement already satisfied: pandas in /shared-libs/python3.9/py/lib/python3.9/site-packages (from shap) (1.2.5)\nRequirement already satisfied: numpy in /shared-libs/python3.9/py/lib/python3.9/site-packages (from shap) (1.21.4)\nCollecting cloudpickle\n  Downloading cloudpickle-2.0.0-py3-none-any.whl (25 kB)\nRequirement already satisfied: scikit-learn in /shared-libs/python3.9/py/lib/python3.9/site-packages (from shap) (1.0.1)\nRequirement already satisfied: tqdm>4.25.0 in /shared-libs/python3.9/py/lib/python3.9/site-packages (from shap) (4.62.3)\nCollecting slicer==0.0.7\n  Downloading slicer-0.0.7-py3-none-any.whl (14 kB)\nRequirement already satisfied: scipy in /shared-libs/python3.9/py/lib/python3.9/site-packages (from shap) (1.7.2)\nRequirement already satisfied: pyparsing<3,>=2.0.2 in /shared-libs/python3.9/py-core/lib/python3.9/site-packages (from packaging>20.9->shap) (2.4.7)\nCollecting llvmlite<0.38,>=0.37.0rc1\n  Downloading llvmlite-0.37.0-cp39-cp39-manylinux2014_x86_64.whl (26.3 MB)\n\u001b[K     |████████████████████████████████| 26.3 MB 47.6 MB/s \n\u001b[?25hCollecting numpy\n  Downloading numpy-1.20.3-cp39-cp39-manylinux_2_12_x86_64.manylinux2010_x86_64.whl (15.4 MB)\n\u001b[K     |████████████████████████████████| 15.4 MB 49.1 MB/s \n\u001b[?25hRequirement already satisfied: setuptools in /root/venv/lib/python3.9/site-packages (from numba->shap) (57.4.0)\nRequirement already satisfied: pytz>=2017.3 in /shared-libs/python3.9/py/lib/python3.9/site-packages (from pandas->shap) (2021.3)\nRequirement already satisfied: python-dateutil>=2.7.3 in /shared-libs/python3.9/py-core/lib/python3.9/site-packages (from pandas->shap) (2.8.2)\nRequirement already satisfied: six>=1.5 in /shared-libs/python3.9/py-core/lib/python3.9/site-packages (from python-dateutil>=2.7.3->pandas->shap) (1.16.0)\nRequirement already satisfied: threadpoolctl>=2.0.0 in /shared-libs/python3.9/py/lib/python3.9/site-packages (from scikit-learn->shap) (3.0.0)\nRequirement already satisfied: joblib>=0.11 in /shared-libs/python3.9/py/lib/python3.9/site-packages (from scikit-learn->shap) (1.1.0)\nBuilding wheels for collected packages: shap\n  Building wheel for shap (PEP 517) ... \u001b[?25ldone\n\u001b[?25h  Created wheel for shap: filename=shap-0.40.0-cp39-cp39-linux_x86_64.whl size=435079 sha256=98a5f419fb35aafbeaf29dad8b5cce093ef41e47b865c45a5fbc295ef69b5676\n  Stored in directory: /root/.cache/pip/wheels/bc/27/26/8c2ff91c64e876300f0a95bd2dd560cedf45bdb92b5fcd4400\nSuccessfully built shap\nInstalling collected packages: numpy, llvmlite, slicer, numba, cloudpickle, shap\n  Attempting uninstall: numpy\n    Found existing installation: numpy 1.21.4\n    Not uninstalling numpy at /shared-libs/python3.9/py/lib/python3.9/site-packages, outside environment /root/venv\n    Can't uninstall 'numpy'. No files were found to uninstall.\nSuccessfully installed cloudpickle-2.0.0 llvmlite-0.37.0 numba-0.54.1 numpy-1.20.3 shap-0.40.0 slicer-0.0.7\n\u001b[33mWARNING: You are using pip version 21.2.3; however, version 21.3.1 is available.\nYou should consider upgrading via the '/root/venv/bin/python -m pip install --upgrade pip' command.\u001b[0m\n",
     "output_type": "stream"
    }
   ],
   "execution_count": null
  },
  {
   "cell_type": "code",
   "metadata": {
    "tags": [],
    "cell_id": "00022-fa5463b1-4ded-491f-a832-d7e70c711b60",
    "deepnote_to_be_reexecuted": true,
    "source_hash": "f91ae0b6",
    "deepnote_cell_type": "code"
   },
   "source": "shap.summary_plot(shap_values, X_train)",
   "execution_count": null,
   "outputs": []
  },
  {
   "cell_type": "markdown",
   "source": "<a style='text-decoration:none;line-height:16px;display:flex;color:#5B5B62;padding:10px;justify-content:end;' href='https://deepnote.com?utm_source=created-in-deepnote-cell&projectId=99c1e030-46bc-40fa-835c-0661eae0d488' target=\"_blank\">\n<img alt='Created in deepnote.com' style='display:inline;max-height:16px;margin:0px;margin-right:7.5px;' src='data:image/svg+xml;base64,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' > </img>\nCreated in <span style='font-weight:600;margin-left:4px;'>Deepnote</span></a>",
   "metadata": {
    "tags": [],
    "created_in_deepnote_cell": true,
    "deepnote_cell_type": "markdown"
   }
  }
 ],
 "nbformat": 4,
 "nbformat_minor": 2,
 "metadata": {
  "orig_nbformat": 2,
  "deepnote": {
   "is_reactive": false
  },
  "deepnote_notebook_id": "db4374f2-f364-48c1-a224-a7e48e04be0e",
  "deepnote_execution_queue": []
 }
}