{
 "cells": [
  {
   "cell_type": "code",
   "metadata": {
    "tags": [],
    "deepnote_to_be_reexecuted": false,
    "source_hash": "7958d4a9",
    "execution_start": 1637349117613,
    "execution_millis": 4922,
    "cell_id": "00000-d31127a6-46a8-42cc-970e-eaa57ed10f29",
    "deepnote_cell_type": "code"
   },
   "source": "!pip install -r requirements.txt",
   "outputs": [
    {
     "name": "stdout",
     "text": "Requirement already satisfied: xgboost in /root/venv/lib/python3.9/site-packages (from -r requirements.txt (line 1)) (1.5.0)\nRequirement already satisfied: catboost in /root/venv/lib/python3.9/site-packages (from -r requirements.txt (line 2)) (1.0.3)\nRequirement already satisfied: ipywidgets in /root/venv/lib/python3.9/site-packages (from -r requirements.txt (line 3)) (7.6.5)\nRequirement already satisfied: LightGBM in /root/venv/lib/python3.9/site-packages (from -r requirements.txt (line 4)) (3.3.1)\nRequirement already satisfied: numpy in /shared-libs/python3.9/py/lib/python3.9/site-packages (from xgboost->-r requirements.txt (line 1)) (1.21.4)\nRequirement already satisfied: scipy in /shared-libs/python3.9/py/lib/python3.9/site-packages (from xgboost->-r requirements.txt (line 1)) (1.7.2)\nRequirement already satisfied: pandas>=0.24.0 in /shared-libs/python3.9/py/lib/python3.9/site-packages (from catboost->-r requirements.txt (line 2)) (1.2.5)\nRequirement already satisfied: plotly in /shared-libs/python3.9/py/lib/python3.9/site-packages (from catboost->-r requirements.txt (line 2)) (5.3.1)\nRequirement already satisfied: graphviz in /root/venv/lib/python3.9/site-packages (from catboost->-r requirements.txt (line 2)) (0.18.2)\nRequirement already satisfied: matplotlib in /shared-libs/python3.9/py/lib/python3.9/site-packages (from catboost->-r requirements.txt (line 2)) (3.4.3)\nRequirement already satisfied: six in /shared-libs/python3.9/py-core/lib/python3.9/site-packages (from catboost->-r requirements.txt (line 2)) (1.16.0)\nRequirement already satisfied: jupyterlab-widgets>=1.0.0 in /root/venv/lib/python3.9/site-packages (from ipywidgets->-r requirements.txt (line 3)) (1.0.2)\nRequirement already satisfied: nbformat>=4.2.0 in /shared-libs/python3.9/py-core/lib/python3.9/site-packages (from ipywidgets->-r requirements.txt (line 3)) (5.1.3)\nRequirement already satisfied: ipython-genutils~=0.2.0 in /shared-libs/python3.9/py-core/lib/python3.9/site-packages (from ipywidgets->-r requirements.txt (line 3)) (0.2.0)\nRequirement already satisfied: ipython>=4.0.0 in /shared-libs/python3.9/py-core/lib/python3.9/site-packages (from ipywidgets->-r requirements.txt (line 3)) (7.29.0)\nRequirement already satisfied: traitlets>=4.3.1 in /shared-libs/python3.9/py-core/lib/python3.9/site-packages (from ipywidgets->-r requirements.txt (line 3)) (4.3.3)\nRequirement already satisfied: ipykernel>=4.5.1 in /shared-libs/python3.9/py-core/lib/python3.9/site-packages (from ipywidgets->-r requirements.txt (line 3)) (5.5.5)\nRequirement already satisfied: widgetsnbextension~=3.5.0 in /root/venv/lib/python3.9/site-packages (from ipywidgets->-r requirements.txt (line 3)) (3.5.2)\nRequirement already satisfied: scikit-learn!=0.22.0 in /shared-libs/python3.9/py/lib/python3.9/site-packages (from LightGBM->-r requirements.txt (line 4)) (1.0.1)\nRequirement already satisfied: wheel in /usr/local/lib/python3.9/site-packages (from LightGBM->-r requirements.txt (line 4)) (0.37.0)\nRequirement already satisfied: jupyter-client in /shared-libs/python3.9/py-core/lib/python3.9/site-packages (from ipykernel>=4.5.1->ipywidgets->-r requirements.txt (line 3)) (6.1.12)\nRequirement already satisfied: tornado>=4.2 in /shared-libs/python3.9/py-core/lib/python3.9/site-packages (from ipykernel>=4.5.1->ipywidgets->-r requirements.txt (line 3)) (6.1)\nRequirement already satisfied: matplotlib-inline in /shared-libs/python3.9/py-core/lib/python3.9/site-packages (from ipython>=4.0.0->ipywidgets->-r requirements.txt (line 3)) (0.1.3)\nRequirement already satisfied: decorator in /shared-libs/python3.9/py-core/lib/python3.9/site-packages (from ipython>=4.0.0->ipywidgets->-r requirements.txt (line 3)) (5.1.0)\nRequirement already satisfied: backcall in /shared-libs/python3.9/py-core/lib/python3.9/site-packages (from ipython>=4.0.0->ipywidgets->-r requirements.txt (line 3)) (0.2.0)\nRequirement already satisfied: prompt-toolkit!=3.0.0,!=3.0.1,<3.1.0,>=2.0.0 in /shared-libs/python3.9/py-core/lib/python3.9/site-packages (from ipython>=4.0.0->ipywidgets->-r requirements.txt (line 3)) (3.0.22)\nRequirement already satisfied: pygments in /shared-libs/python3.9/py-core/lib/python3.9/site-packages (from ipython>=4.0.0->ipywidgets->-r requirements.txt (line 3)) (2.10.0)\nRequirement already satisfied: pexpect>4.3 in /shared-libs/python3.9/py-core/lib/python3.9/site-packages (from ipython>=4.0.0->ipywidgets->-r requirements.txt (line 3)) (4.8.0)\nRequirement already satisfied: setuptools>=18.5 in /root/venv/lib/python3.9/site-packages (from ipython>=4.0.0->ipywidgets->-r requirements.txt (line 3)) (57.4.0)\nRequirement already satisfied: pickleshare in /shared-libs/python3.9/py-core/lib/python3.9/site-packages (from ipython>=4.0.0->ipywidgets->-r requirements.txt (line 3)) (0.7.5)\nRequirement already satisfied: jedi>=0.16 in /shared-libs/python3.9/py-core/lib/python3.9/site-packages (from ipython>=4.0.0->ipywidgets->-r requirements.txt (line 3)) (0.17.2)\nRequirement already satisfied: parso<0.8.0,>=0.7.0 in /shared-libs/python3.9/py-core/lib/python3.9/site-packages (from jedi>=0.16->ipython>=4.0.0->ipywidgets->-r requirements.txt (line 3)) (0.7.1)\nRequirement already satisfied: jupyter-core in /shared-libs/python3.9/py-core/lib/python3.9/site-packages (from nbformat>=4.2.0->ipywidgets->-r requirements.txt (line 3)) (4.7.1)\nRequirement already satisfied: jsonschema!=2.5.0,>=2.4 in /shared-libs/python3.9/py-core/lib/python3.9/site-packages (from nbformat>=4.2.0->ipywidgets->-r requirements.txt (line 3)) (3.2.0)\nRequirement already satisfied: attrs>=17.4.0 in /shared-libs/python3.9/py-core/lib/python3.9/site-packages (from jsonschema!=2.5.0,>=2.4->nbformat>=4.2.0->ipywidgets->-r requirements.txt (line 3)) (21.2.0)\nRequirement already satisfied: pyrsistent>=0.14.0 in /shared-libs/python3.9/py-core/lib/python3.9/site-packages (from jsonschema!=2.5.0,>=2.4->nbformat>=4.2.0->ipywidgets->-r requirements.txt (line 3)) (0.18.0)\nRequirement already satisfied: pytz>=2017.3 in /shared-libs/python3.9/py/lib/python3.9/site-packages (from pandas>=0.24.0->catboost->-r requirements.txt (line 2)) (2021.3)\nRequirement already satisfied: python-dateutil>=2.7.3 in /shared-libs/python3.9/py-core/lib/python3.9/site-packages (from pandas>=0.24.0->catboost->-r requirements.txt (line 2)) (2.8.2)\nRequirement already satisfied: ptyprocess>=0.5 in /shared-libs/python3.9/py-core/lib/python3.9/site-packages (from pexpect>4.3->ipython>=4.0.0->ipywidgets->-r requirements.txt (line 3)) (0.7.0)\nRequirement already satisfied: wcwidth in /shared-libs/python3.9/py-core/lib/python3.9/site-packages (from prompt-toolkit!=3.0.0,!=3.0.1,<3.1.0,>=2.0.0->ipython>=4.0.0->ipywidgets->-r requirements.txt (line 3)) (0.2.5)\nRequirement already satisfied: threadpoolctl>=2.0.0 in /shared-libs/python3.9/py/lib/python3.9/site-packages (from scikit-learn!=0.22.0->LightGBM->-r requirements.txt (line 4)) (3.0.0)\nRequirement already satisfied: joblib>=0.11 in /shared-libs/python3.9/py/lib/python3.9/site-packages (from scikit-learn!=0.22.0->LightGBM->-r requirements.txt (line 4)) (1.1.0)\nRequirement already satisfied: notebook>=4.4.1 in /shared-libs/python3.9/py-core/lib/python3.9/site-packages (from widgetsnbextension~=3.5.0->ipywidgets->-r requirements.txt (line 3)) (6.3.0)\nRequirement already satisfied: argon2-cffi in /shared-libs/python3.9/py-core/lib/python3.9/site-packages (from notebook>=4.4.1->widgetsnbextension~=3.5.0->ipywidgets->-r requirements.txt (line 3)) (21.1.0)\nRequirement already satisfied: nbconvert==6.0.7 in /shared-libs/python3.9/py-core/lib/python3.9/site-packages (from notebook>=4.4.1->widgetsnbextension~=3.5.0->ipywidgets->-r requirements.txt (line 3)) (6.0.7)\nRequirement already satisfied: prometheus-client in /shared-libs/python3.9/py-core/lib/python3.9/site-packages (from notebook>=4.4.1->widgetsnbextension~=3.5.0->ipywidgets->-r requirements.txt (line 3)) (0.12.0)\nRequirement already satisfied: terminado>=0.8.3 in /shared-libs/python3.9/py-core/lib/python3.9/site-packages (from notebook>=4.4.1->widgetsnbextension~=3.5.0->ipywidgets->-r requirements.txt (line 3)) (0.12.1)\nRequirement already satisfied: pyzmq>=17 in /shared-libs/python3.9/py-core/lib/python3.9/site-packages (from notebook>=4.4.1->widgetsnbextension~=3.5.0->ipywidgets->-r requirements.txt (line 3)) (22.3.0)\nRequirement already satisfied: jinja2 in /shared-libs/python3.9/py-core/lib/python3.9/site-packages (from notebook>=4.4.1->widgetsnbextension~=3.5.0->ipywidgets->-r requirements.txt (line 3)) (3.0.3)\nRequirement already satisfied: Send2Trash>=1.5.0 in /shared-libs/python3.9/py-core/lib/python3.9/site-packages (from notebook>=4.4.1->widgetsnbextension~=3.5.0->ipywidgets->-r requirements.txt (line 3)) (1.8.0)\nRequirement already satisfied: defusedxml in /shared-libs/python3.9/py-core/lib/python3.9/site-packages (from nbconvert==6.0.7->notebook>=4.4.1->widgetsnbextension~=3.5.0->ipywidgets->-r requirements.txt (line 3)) (0.7.1)\nRequirement already satisfied: nbclient<0.6.0,>=0.5.0 in /shared-libs/python3.9/py-core/lib/python3.9/site-packages (from nbconvert==6.0.7->notebook>=4.4.1->widgetsnbextension~=3.5.0->ipywidgets->-r requirements.txt (line 3)) (0.5.8)\nRequirement already satisfied: testpath in /shared-libs/python3.9/py-core/lib/python3.9/site-packages (from nbconvert==6.0.7->notebook>=4.4.1->widgetsnbextension~=3.5.0->ipywidgets->-r requirements.txt (line 3)) (0.5.0)\nRequirement already satisfied: mistune<2,>=0.8.1 in /shared-libs/python3.9/py-core/lib/python3.9/site-packages (from nbconvert==6.0.7->notebook>=4.4.1->widgetsnbextension~=3.5.0->ipywidgets->-r requirements.txt (line 3)) (0.8.4)\nRequirement already satisfied: entrypoints>=0.2.2 in /shared-libs/python3.9/py-core/lib/python3.9/site-packages (from nbconvert==6.0.7->notebook>=4.4.1->widgetsnbextension~=3.5.0->ipywidgets->-r requirements.txt (line 3)) (0.3)\nRequirement already satisfied: bleach in /shared-libs/python3.9/py-core/lib/python3.9/site-packages (from nbconvert==6.0.7->notebook>=4.4.1->widgetsnbextension~=3.5.0->ipywidgets->-r requirements.txt (line 3)) (4.1.0)\nRequirement already satisfied: pandocfilters>=1.4.1 in /shared-libs/python3.9/py-core/lib/python3.9/site-packages (from nbconvert==6.0.7->notebook>=4.4.1->widgetsnbextension~=3.5.0->ipywidgets->-r requirements.txt (line 3)) (1.5.0)\nRequirement already satisfied: jupyterlab-pygments in /shared-libs/python3.9/py-core/lib/python3.9/site-packages (from nbconvert==6.0.7->notebook>=4.4.1->widgetsnbextension~=3.5.0->ipywidgets->-r requirements.txt (line 3)) (0.1.2)\nRequirement already satisfied: MarkupSafe>=2.0 in /shared-libs/python3.9/py-core/lib/python3.9/site-packages (from jinja2->notebook>=4.4.1->widgetsnbextension~=3.5.0->ipywidgets->-r requirements.txt (line 3)) (2.0.1)\nRequirement already satisfied: nest-asyncio in /shared-libs/python3.9/py-core/lib/python3.9/site-packages (from nbclient<0.6.0,>=0.5.0->nbconvert==6.0.7->notebook>=4.4.1->widgetsnbextension~=3.5.0->ipywidgets->-r requirements.txt (line 3)) (1.5.1)\nRequirement already satisfied: cffi>=1.0.0 in /shared-libs/python3.9/py-core/lib/python3.9/site-packages (from argon2-cffi->notebook>=4.4.1->widgetsnbextension~=3.5.0->ipywidgets->-r requirements.txt (line 3)) (1.15.0)\nRequirement already satisfied: pycparser in /shared-libs/python3.9/py-core/lib/python3.9/site-packages (from cffi>=1.0.0->argon2-cffi->notebook>=4.4.1->widgetsnbextension~=3.5.0->ipywidgets->-r requirements.txt (line 3)) (2.21)\nRequirement already satisfied: webencodings in /shared-libs/python3.9/py-core/lib/python3.9/site-packages (from bleach->nbconvert==6.0.7->notebook>=4.4.1->widgetsnbextension~=3.5.0->ipywidgets->-r requirements.txt (line 3)) (0.5.1)\nRequirement already satisfied: packaging in /shared-libs/python3.9/py-core/lib/python3.9/site-packages (from bleach->nbconvert==6.0.7->notebook>=4.4.1->widgetsnbextension~=3.5.0->ipywidgets->-r requirements.txt (line 3)) (21.2)\nRequirement already satisfied: kiwisolver>=1.0.1 in /shared-libs/python3.9/py/lib/python3.9/site-packages (from matplotlib->catboost->-r requirements.txt (line 2)) (1.3.2)\nRequirement already satisfied: cycler>=0.10 in /shared-libs/python3.9/py/lib/python3.9/site-packages (from matplotlib->catboost->-r requirements.txt (line 2)) (0.11.0)\nRequirement already satisfied: pillow>=6.2.0 in /shared-libs/python3.9/py/lib/python3.9/site-packages (from matplotlib->catboost->-r requirements.txt (line 2)) (8.4.0)\nRequirement already satisfied: pyparsing>=2.2.1 in /shared-libs/python3.9/py-core/lib/python3.9/site-packages (from matplotlib->catboost->-r requirements.txt (line 2)) (2.4.7)\nRequirement already satisfied: tenacity>=6.2.0 in /shared-libs/python3.9/py/lib/python3.9/site-packages (from plotly->catboost->-r requirements.txt (line 2)) (8.0.1)\n\u001b[33mWARNING: You are using pip version 21.2.3; however, version 21.3.1 is available.\nYou should consider upgrading via the '/root/venv/bin/python -m pip install --upgrade pip' command.\u001b[0m\n",
     "output_type": "stream"
    }
   ],
   "execution_count": null
  },
  {
   "cell_type": "code",
   "metadata": {
    "tags": [],
    "deepnote_to_be_reexecuted": false,
    "source_hash": "85c8f1a6",
    "execution_start": 1637349122550,
    "execution_millis": 2053,
    "cell_id": "00001-8d601360-9019-454c-821d-55dca100e214",
    "deepnote_cell_type": "code"
   },
   "source": "import json\nimport pandas as pd\nimport numpy as np\nimport math as math\nimport matplotlib.pyplot as plt\nimport seaborn as sns\nimport sklearn.model_selection as model_selection\nimport sklearn.tree as tree\nfrom sklearn.linear_model import LogisticRegression\nfrom sklearn.linear_model import LinearRegression\nimport time\nfrom sklearn.model_selection import GridSearchCV\nfrom sklearn.tree import DecisionTreeRegressor\nimport catboost\nfrom catboost import CatBoostClassifier\nfrom catboost import CatBoostRegressor\nfrom sklearn.model_selection import train_test_split\n",
   "outputs": [],
   "execution_count": null
  },
  {
   "cell_type": "code",
   "metadata": {
    "tags": [],
    "deepnote_to_be_reexecuted": false,
    "source_hash": "a410fd6f",
    "execution_start": 1637349124621,
    "execution_millis": 126,
    "cell_id": "00002-048d3018-a14e-4f22-a688-e7ec26338591",
    "deepnote_cell_type": "code"
   },
   "source": "df_train = pd.read_csv('Training_clean.csv')\ndef root_mean_squared_log_error(y_true, y_pred):\n    # Alternatively: sklearn.metrics.mean_squared_log_error(y_true, y_pred) ** 0.5\n    assert (y_true >= 0).all() \n    assert (y_pred >= 0).all()\n    log_error = np.log1p(y_pred) - np.log1p(y_true)  # Note: log1p(x) = log(1 + x)\n    return np.mean(log_error ** 2) ** 0.5\n\ndf_test = pd.read_csv('Test_clean.csv')\n    \n",
   "outputs": [],
   "execution_count": null
  },
  {
   "cell_type": "code",
   "source": "df_train.head()",
   "metadata": {
    "tags": [],
    "cell_id": "00003-4e896944-1596-46f8-984c-e595d05a41ca",
    "deepnote_to_be_reexecuted": false,
    "source_hash": "5e2a9c26",
    "execution_start": 1637349124828,
    "execution_millis": 306,
    "deepnote_cell_type": "code"
   },
   "outputs": [
    {
     "output_type": "execute_result",
     "execution_count": 4,
     "data": {
      "application/vnd.deepnote.dataframe.v2+json": {
       "row_count": 5,
       "column_count": 33,
       "columns": [
        {
         "name": "id",
         "dtype": "int64",
         "stats": {
          "unique_count": 5,
          "nan_count": 0,
          "min": "0",
          "max": "4",
          "histogram": [
           {
            "bin_start": 0,
            "bin_end": 0.4,
            "count": 1
           },
           {
            "bin_start": 0.4,
            "bin_end": 0.8,
            "count": 0
           },
           {
            "bin_start": 0.8,
            "bin_end": 1.2000000000000002,
            "count": 1
           },
           {
            "bin_start": 1.2000000000000002,
            "bin_end": 1.6,
            "count": 0
           },
           {
            "bin_start": 1.6,
            "bin_end": 2,
            "count": 0
           },
           {
            "bin_start": 2,
            "bin_end": 2.4000000000000004,
            "count": 1
           },
           {
            "bin_start": 2.4000000000000004,
            "bin_end": 2.8000000000000003,
            "count": 0
           },
           {
            "bin_start": 2.8000000000000003,
            "bin_end": 3.2,
            "count": 1
           },
           {
            "bin_start": 3.2,
            "bin_end": 3.6,
            "count": 0
           },
           {
            "bin_start": 3.6,
            "bin_end": 4,
            "count": 1
           }
          ]
         }
        },
        {
         "name": "seller",
         "dtype": "int64",
         "stats": {
          "unique_count": 3,
          "nan_count": 0,
          "min": "1",
          "max": "3",
          "histogram": [
           {
            "bin_start": 1,
            "bin_end": 1.2,
            "count": 2
           },
           {
            "bin_start": 1.2,
            "bin_end": 1.4,
            "count": 0
           },
           {
            "bin_start": 1.4,
            "bin_end": 1.6,
            "count": 0
           },
           {
            "bin_start": 1.6,
            "bin_end": 1.8,
            "count": 0
           },
           {
            "bin_start": 1.8,
            "bin_end": 2,
            "count": 0
           },
           {
            "bin_start": 2,
            "bin_end": 2.2,
            "count": 1
           },
           {
            "bin_start": 2.2,
            "bin_end": 2.4000000000000004,
            "count": 0
           },
           {
            "bin_start": 2.4000000000000004,
            "bin_end": 2.6,
            "count": 0
           },
           {
            "bin_start": 2.6,
            "bin_end": 2.8,
            "count": 0
           },
           {
            "bin_start": 2.8,
            "bin_end": 3,
            "count": 2
           }
          ]
         }
        },
        {
         "name": "price",
         "dtype": "float64",
         "stats": {
          "unique_count": 4,
          "nan_count": 0,
          "min": "7139520.0",
          "max": "13900000.0",
          "histogram": [
           {
            "bin_start": 7139520,
            "bin_end": 7815568,
            "count": 1
           },
           {
            "bin_start": 7815568,
            "bin_end": 8491616,
            "count": 0
           },
           {
            "bin_start": 8491616,
            "bin_end": 9167664,
            "count": 1
           },
           {
            "bin_start": 9167664,
            "bin_end": 9843712,
            "count": 0
           },
           {
            "bin_start": 9843712,
            "bin_end": 10519760,
            "count": 2
           },
           {
            "bin_start": 10519760,
            "bin_end": 11195808,
            "count": 0
           },
           {
            "bin_start": 11195808,
            "bin_end": 11871856,
            "count": 0
           },
           {
            "bin_start": 11871856,
            "bin_end": 12547904,
            "count": 0
           },
           {
            "bin_start": 12547904,
            "bin_end": 13223952,
            "count": 0
           },
           {
            "bin_start": 13223952,
            "bin_end": 13900000,
            "count": 1
           }
          ]
         }
        },
        {
         "name": "area_total",
         "dtype": "float64",
         "stats": {
          "unique_count": 4,
          "nan_count": 0,
          "min": "59.2",
          "max": "88.0",
          "histogram": [
           {
            "bin_start": 59.2,
            "bin_end": 62.080000000000005,
            "count": 1
           },
           {
            "bin_start": 62.080000000000005,
            "bin_end": 64.96000000000001,
            "count": 0
           },
           {
            "bin_start": 64.96000000000001,
            "bin_end": 67.84,
            "count": 0
           },
           {
            "bin_start": 67.84,
            "bin_end": 70.72,
            "count": 0
           },
           {
            "bin_start": 70.72,
            "bin_end": 73.6,
            "count": 0
           },
           {
            "bin_start": 73.6,
            "bin_end": 76.48,
            "count": 0
           },
           {
            "bin_start": 76.48,
            "bin_end": 79.36,
            "count": 2
           },
           {
            "bin_start": 79.36,
            "bin_end": 82.24000000000001,
            "count": 0
           },
           {
            "bin_start": 82.24000000000001,
            "bin_end": 85.12,
            "count": 0
           },
           {
            "bin_start": 85.12,
            "bin_end": 88,
            "count": 2
           }
          ]
         }
        },
        {
         "name": "area_kitchen",
         "dtype": "float64",
         "stats": {
          "unique_count": 5,
          "nan_count": 0,
          "min": "12.5",
          "max": "22.5",
          "histogram": [
           {
            "bin_start": 12.5,
            "bin_end": 13.5,
            "count": 1
           },
           {
            "bin_start": 13.5,
            "bin_end": 14.5,
            "count": 2
           },
           {
            "bin_start": 14.5,
            "bin_end": 15.5,
            "count": 0
           },
           {
            "bin_start": 15.5,
            "bin_end": 16.5,
            "count": 0
           },
           {
            "bin_start": 16.5,
            "bin_end": 17.5,
            "count": 1
           },
           {
            "bin_start": 17.5,
            "bin_end": 18.5,
            "count": 0
           },
           {
            "bin_start": 18.5,
            "bin_end": 19.5,
            "count": 0
           },
           {
            "bin_start": 19.5,
            "bin_end": 20.5,
            "count": 0
           },
           {
            "bin_start": 20.5,
            "bin_end": 21.5,
            "count": 0
           },
           {
            "bin_start": 21.5,
            "bin_end": 22.5,
            "count": 1
           }
          ]
         }
        },
        {
         "name": "area_living",
         "dtype": "float64",
         "stats": {
          "unique_count": 4,
          "nan_count": 0,
          "min": "31.0",
          "max": "48.0",
          "histogram": [
           {
            "bin_start": 31,
            "bin_end": 32.7,
            "count": 1
           },
           {
            "bin_start": 32.7,
            "bin_end": 34.4,
            "count": 0
           },
           {
            "bin_start": 34.4,
            "bin_end": 36.1,
            "count": 1
           },
           {
            "bin_start": 36.1,
            "bin_end": 37.8,
            "count": 0
           },
           {
            "bin_start": 37.8,
            "bin_end": 39.5,
            "count": 0
           },
           {
            "bin_start": 39.5,
            "bin_end": 41.2,
            "count": 1
           },
           {
            "bin_start": 41.2,
            "bin_end": 42.9,
            "count": 0
           },
           {
            "bin_start": 42.9,
            "bin_end": 44.6,
            "count": 0
           },
           {
            "bin_start": 44.6,
            "bin_end": 46.3,
            "count": 0
           },
           {
            "bin_start": 46.3,
            "bin_end": 48,
            "count": 2
           }
          ]
         }
        },
        {
         "name": "floor",
         "dtype": "int64",
         "stats": {
          "unique_count": 4,
          "nan_count": 0,
          "min": "2",
          "max": "18",
          "histogram": [
           {
            "bin_start": 2,
            "bin_end": 3.6,
            "count": 1
           },
           {
            "bin_start": 3.6,
            "bin_end": 5.2,
            "count": 0
           },
           {
            "bin_start": 5.2,
            "bin_end": 6.800000000000001,
            "count": 0
           },
           {
            "bin_start": 6.800000000000001,
            "bin_end": 8.4,
            "count": 1
           },
           {
            "bin_start": 8.4,
            "bin_end": 10,
            "count": 0
           },
           {
            "bin_start": 10,
            "bin_end": 11.600000000000001,
            "count": 0
           },
           {
            "bin_start": 11.600000000000001,
            "bin_end": 13.200000000000001,
            "count": 1
           },
           {
            "bin_start": 13.200000000000001,
            "bin_end": 14.8,
            "count": 0
           },
           {
            "bin_start": 14.8,
            "bin_end": 16.4,
            "count": 0
           },
           {
            "bin_start": 16.4,
            "bin_end": 18,
            "count": 2
           }
          ]
         }
        },
        {
         "name": "rooms",
         "dtype": "int64",
         "stats": {
          "unique_count": 2,
          "nan_count": 0,
          "min": "2",
          "max": "3",
          "histogram": [
           {
            "bin_start": 2,
            "bin_end": 2.1,
            "count": 2
           },
           {
            "bin_start": 2.1,
            "bin_end": 2.2,
            "count": 0
           },
           {
            "bin_start": 2.2,
            "bin_end": 2.3,
            "count": 0
           },
           {
            "bin_start": 2.3,
            "bin_end": 2.4,
            "count": 0
           },
           {
            "bin_start": 2.4,
            "bin_end": 2.5,
            "count": 0
           },
           {
            "bin_start": 2.5,
            "bin_end": 2.6,
            "count": 0
           },
           {
            "bin_start": 2.6,
            "bin_end": 2.7,
            "count": 0
           },
           {
            "bin_start": 2.7,
            "bin_end": 2.8,
            "count": 0
           },
           {
            "bin_start": 2.8,
            "bin_end": 2.9,
            "count": 0
           },
           {
            "bin_start": 2.9,
            "bin_end": 3,
            "count": 3
           }
          ]
         }
        },
        {
         "name": "layout",
         "dtype": "int64",
         "stats": {
          "unique_count": 1,
          "nan_count": 0,
          "min": "1",
          "max": "1",
          "histogram": [
           {
            "bin_start": 0.5,
            "bin_end": 0.6,
            "count": 0
           },
           {
            "bin_start": 0.6,
            "bin_end": 0.7,
            "count": 0
           },
           {
            "bin_start": 0.7,
            "bin_end": 0.8,
            "count": 0
           },
           {
            "bin_start": 0.8,
            "bin_end": 0.9,
            "count": 0
           },
           {
            "bin_start": 0.9,
            "bin_end": 1,
            "count": 0
           },
           {
            "bin_start": 1,
            "bin_end": 1.1,
            "count": 5
           },
           {
            "bin_start": 1.1,
            "bin_end": 1.2000000000000002,
            "count": 0
           },
           {
            "bin_start": 1.2000000000000002,
            "bin_end": 1.3,
            "count": 0
           },
           {
            "bin_start": 1.3,
            "bin_end": 1.4,
            "count": 0
           },
           {
            "bin_start": 1.4,
            "bin_end": 1.5,
            "count": 0
           }
          ]
         }
        },
        {
         "name": "ceiling",
         "dtype": "int64",
         "stats": {
          "unique_count": 1,
          "nan_count": 0,
          "min": "3",
          "max": "3",
          "histogram": [
           {
            "bin_start": 2.5,
            "bin_end": 2.6,
            "count": 0
           },
           {
            "bin_start": 2.6,
            "bin_end": 2.7,
            "count": 0
           },
           {
            "bin_start": 2.7,
            "bin_end": 2.8,
            "count": 0
           },
           {
            "bin_start": 2.8,
            "bin_end": 2.9,
            "count": 0
           },
           {
            "bin_start": 2.9,
            "bin_end": 3,
            "count": 0
           },
           {
            "bin_start": 3,
            "bin_end": 3.1,
            "count": 5
           },
           {
            "bin_start": 3.1,
            "bin_end": 3.2,
            "count": 0
           },
           {
            "bin_start": 3.2,
            "bin_end": 3.3,
            "count": 0
           },
           {
            "bin_start": 3.3,
            "bin_end": 3.4,
            "count": 0
           },
           {
            "bin_start": 3.4,
            "bin_end": 3.5,
            "count": 0
           }
          ]
         }
        },
        {
         "name": "bathrooms_shared",
         "dtype": "int64",
         "stats": {
          "unique_count": 3,
          "nan_count": 0,
          "min": "0",
          "max": "2",
          "histogram": [
           {
            "bin_start": 0,
            "bin_end": 0.2,
            "count": 3
           },
           {
            "bin_start": 0.2,
            "bin_end": 0.4,
            "count": 0
           },
           {
            "bin_start": 0.4,
            "bin_end": 0.6000000000000001,
            "count": 0
           },
           {
            "bin_start": 0.6000000000000001,
            "bin_end": 0.8,
            "count": 0
           },
           {
            "bin_start": 0.8,
            "bin_end": 1,
            "count": 0
           },
           {
            "bin_start": 1,
            "bin_end": 1.2000000000000002,
            "count": 1
           },
           {
            "bin_start": 1.2000000000000002,
            "bin_end": 1.4000000000000001,
            "count": 0
           },
           {
            "bin_start": 1.4000000000000001,
            "bin_end": 1.6,
            "count": 0
           },
           {
            "bin_start": 1.6,
            "bin_end": 1.8,
            "count": 0
           },
           {
            "bin_start": 1.8,
            "bin_end": 2,
            "count": 1
           }
          ]
         }
        },
        {
         "name": "bathrooms_private",
         "dtype": "int64",
         "stats": {
          "unique_count": 2,
          "nan_count": 0,
          "min": "0",
          "max": "2",
          "histogram": [
           {
            "bin_start": 0,
            "bin_end": 0.2,
            "count": 2
           },
           {
            "bin_start": 0.2,
            "bin_end": 0.4,
            "count": 0
           },
           {
            "bin_start": 0.4,
            "bin_end": 0.6000000000000001,
            "count": 0
           },
           {
            "bin_start": 0.6000000000000001,
            "bin_end": 0.8,
            "count": 0
           },
           {
            "bin_start": 0.8,
            "bin_end": 1,
            "count": 0
           },
           {
            "bin_start": 1,
            "bin_end": 1.2000000000000002,
            "count": 0
           },
           {
            "bin_start": 1.2000000000000002,
            "bin_end": 1.4000000000000001,
            "count": 0
           },
           {
            "bin_start": 1.4000000000000001,
            "bin_end": 1.6,
            "count": 0
           },
           {
            "bin_start": 1.6,
            "bin_end": 1.8,
            "count": 0
           },
           {
            "bin_start": 1.8,
            "bin_end": 2,
            "count": 3
           }
          ]
         }
        },
        {
         "name": "windows_court",
         "dtype": "int64",
         "stats": {
          "unique_count": 2,
          "nan_count": 0,
          "min": "0",
          "max": "1",
          "histogram": [
           {
            "bin_start": 0,
            "bin_end": 0.1,
            "count": 1
           },
           {
            "bin_start": 0.1,
            "bin_end": 0.2,
            "count": 0
           },
           {
            "bin_start": 0.2,
            "bin_end": 0.30000000000000004,
            "count": 0
           },
           {
            "bin_start": 0.30000000000000004,
            "bin_end": 0.4,
            "count": 0
           },
           {
            "bin_start": 0.4,
            "bin_end": 0.5,
            "count": 0
           },
           {
            "bin_start": 0.5,
            "bin_end": 0.6000000000000001,
            "count": 0
           },
           {
            "bin_start": 0.6000000000000001,
            "bin_end": 0.7000000000000001,
            "count": 0
           },
           {
            "bin_start": 0.7000000000000001,
            "bin_end": 0.8,
            "count": 0
           },
           {
            "bin_start": 0.8,
            "bin_end": 0.9,
            "count": 0
           },
           {
            "bin_start": 0.9,
            "bin_end": 1,
            "count": 4
           }
          ]
         }
        },
        {
         "name": "windows_street",
         "dtype": "int64",
         "stats": {
          "unique_count": 1,
          "nan_count": 0,
          "min": "1",
          "max": "1",
          "histogram": [
           {
            "bin_start": 0.5,
            "bin_end": 0.6,
            "count": 0
           },
           {
            "bin_start": 0.6,
            "bin_end": 0.7,
            "count": 0
           },
           {
            "bin_start": 0.7,
            "bin_end": 0.8,
            "count": 0
           },
           {
            "bin_start": 0.8,
            "bin_end": 0.9,
            "count": 0
           },
           {
            "bin_start": 0.9,
            "bin_end": 1,
            "count": 0
           },
           {
            "bin_start": 1,
            "bin_end": 1.1,
            "count": 5
           },
           {
            "bin_start": 1.1,
            "bin_end": 1.2000000000000002,
            "count": 0
           },
           {
            "bin_start": 1.2000000000000002,
            "bin_end": 1.3,
            "count": 0
           },
           {
            "bin_start": 1.3,
            "bin_end": 1.4,
            "count": 0
           },
           {
            "bin_start": 1.4,
            "bin_end": 1.5,
            "count": 0
           }
          ]
         }
        },
        {
         "name": "balconies",
         "dtype": "int64",
         "stats": {
          "unique_count": 2,
          "nan_count": 0,
          "min": "0",
          "max": "1",
          "histogram": [
           {
            "bin_start": 0,
            "bin_end": 0.1,
            "count": 2
           },
           {
            "bin_start": 0.1,
            "bin_end": 0.2,
            "count": 0
           },
           {
            "bin_start": 0.2,
            "bin_end": 0.30000000000000004,
            "count": 0
           },
           {
            "bin_start": 0.30000000000000004,
            "bin_end": 0.4,
            "count": 0
           },
           {
            "bin_start": 0.4,
            "bin_end": 0.5,
            "count": 0
           },
           {
            "bin_start": 0.5,
            "bin_end": 0.6000000000000001,
            "count": 0
           },
           {
            "bin_start": 0.6000000000000001,
            "bin_end": 0.7000000000000001,
            "count": 0
           },
           {
            "bin_start": 0.7000000000000001,
            "bin_end": 0.8,
            "count": 0
           },
           {
            "bin_start": 0.8,
            "bin_end": 0.9,
            "count": 0
           },
           {
            "bin_start": 0.9,
            "bin_end": 1,
            "count": 3
           }
          ]
         }
        },
        {
         "name": "loggias",
         "dtype": "int64",
         "stats": {
          "unique_count": 2,
          "nan_count": 0,
          "min": "0",
          "max": "1",
          "histogram": [
           {
            "bin_start": 0,
            "bin_end": 0.1,
            "count": 2
           },
           {
            "bin_start": 0.1,
            "bin_end": 0.2,
            "count": 0
           },
           {
            "bin_start": 0.2,
            "bin_end": 0.30000000000000004,
            "count": 0
           },
           {
            "bin_start": 0.30000000000000004,
            "bin_end": 0.4,
            "count": 0
           },
           {
            "bin_start": 0.4,
            "bin_end": 0.5,
            "count": 0
           },
           {
            "bin_start": 0.5,
            "bin_end": 0.6000000000000001,
            "count": 0
           },
           {
            "bin_start": 0.6000000000000001,
            "bin_end": 0.7000000000000001,
            "count": 0
           },
           {
            "bin_start": 0.7000000000000001,
            "bin_end": 0.8,
            "count": 0
           },
           {
            "bin_start": 0.8,
            "bin_end": 0.9,
            "count": 0
           },
           {
            "bin_start": 0.9,
            "bin_end": 1,
            "count": 3
           }
          ]
         }
        },
        {
         "name": "condition",
         "dtype": "int64",
         "stats": {
          "unique_count": 3,
          "nan_count": 0,
          "min": "1",
          "max": "3",
          "histogram": [
           {
            "bin_start": 1,
            "bin_end": 1.2,
            "count": 2
           },
           {
            "bin_start": 1.2,
            "bin_end": 1.4,
            "count": 0
           },
           {
            "bin_start": 1.4,
            "bin_end": 1.6,
            "count": 0
           },
           {
            "bin_start": 1.6,
            "bin_end": 1.8,
            "count": 0
           },
           {
            "bin_start": 1.8,
            "bin_end": 2,
            "count": 0
           },
           {
            "bin_start": 2,
            "bin_end": 2.2,
            "count": 1
           },
           {
            "bin_start": 2.2,
            "bin_end": 2.4000000000000004,
            "count": 0
           },
           {
            "bin_start": 2.4000000000000004,
            "bin_end": 2.6,
            "count": 0
           },
           {
            "bin_start": 2.6,
            "bin_end": 2.8,
            "count": 0
           },
           {
            "bin_start": 2.8,
            "bin_end": 3,
            "count": 2
           }
          ]
         }
        },
        {
         "name": "phones",
         "dtype": "int64",
         "stats": {
          "unique_count": 1,
          "nan_count": 0,
          "min": "1",
          "max": "1",
          "histogram": [
           {
            "bin_start": 0.5,
            "bin_end": 0.6,
            "count": 0
           },
           {
            "bin_start": 0.6,
            "bin_end": 0.7,
            "count": 0
           },
           {
            "bin_start": 0.7,
            "bin_end": 0.8,
            "count": 0
           },
           {
            "bin_start": 0.8,
            "bin_end": 0.9,
            "count": 0
           },
           {
            "bin_start": 0.9,
            "bin_end": 1,
            "count": 0
           },
           {
            "bin_start": 1,
            "bin_end": 1.1,
            "count": 5
           },
           {
            "bin_start": 1.1,
            "bin_end": 1.2000000000000002,
            "count": 0
           },
           {
            "bin_start": 1.2000000000000002,
            "bin_end": 1.3,
            "count": 0
           },
           {
            "bin_start": 1.3,
            "bin_end": 1.4,
            "count": 0
           },
           {
            "bin_start": 1.4,
            "bin_end": 1.5,
            "count": 0
           }
          ]
         }
        },
        {
         "name": "building_id",
         "dtype": "int64",
         "stats": {
          "unique_count": 4,
          "nan_count": 0,
          "min": "1893",
          "max": "6604",
          "histogram": [
           {
            "bin_start": 1893,
            "bin_end": 2364.1,
            "count": 2
           },
           {
            "bin_start": 2364.1,
            "bin_end": 2835.2,
            "count": 0
           },
           {
            "bin_start": 2835.2,
            "bin_end": 3306.3,
            "count": 0
           },
           {
            "bin_start": 3306.3,
            "bin_end": 3777.4,
            "count": 0
           },
           {
            "bin_start": 3777.4,
            "bin_end": 4248.5,
            "count": 1
           },
           {
            "bin_start": 4248.5,
            "bin_end": 4719.6,
            "count": 0
           },
           {
            "bin_start": 4719.6,
            "bin_end": 5190.700000000001,
            "count": 1
           },
           {
            "bin_start": 5190.700000000001,
            "bin_end": 5661.8,
            "count": 0
           },
           {
            "bin_start": 5661.8,
            "bin_end": 6132.900000000001,
            "count": 0
           },
           {
            "bin_start": 6132.900000000001,
            "bin_end": 6604,
            "count": 1
           }
          ]
         }
        },
        {
         "name": "new",
         "dtype": "int64",
         "stats": {
          "unique_count": 2,
          "nan_count": 0,
          "min": "0",
          "max": "1",
          "histogram": [
           {
            "bin_start": 0,
            "bin_end": 0.1,
            "count": 3
           },
           {
            "bin_start": 0.1,
            "bin_end": 0.2,
            "count": 0
           },
           {
            "bin_start": 0.2,
            "bin_end": 0.30000000000000004,
            "count": 0
           },
           {
            "bin_start": 0.30000000000000004,
            "bin_end": 0.4,
            "count": 0
           },
           {
            "bin_start": 0.4,
            "bin_end": 0.5,
            "count": 0
           },
           {
            "bin_start": 0.5,
            "bin_end": 0.6000000000000001,
            "count": 0
           },
           {
            "bin_start": 0.6000000000000001,
            "bin_end": 0.7000000000000001,
            "count": 0
           },
           {
            "bin_start": 0.7000000000000001,
            "bin_end": 0.8,
            "count": 0
           },
           {
            "bin_start": 0.8,
            "bin_end": 0.9,
            "count": 0
           },
           {
            "bin_start": 0.9,
            "bin_end": 1,
            "count": 2
           }
          ]
         }
        },
        {
         "name": "district",
         "dtype": "int64",
         "stats": {
          "unique_count": 3,
          "nan_count": 0,
          "min": "2",
          "max": "11",
          "histogram": [
           {
            "bin_start": 2,
            "bin_end": 2.9,
            "count": 2
           },
           {
            "bin_start": 2.9,
            "bin_end": 3.8,
            "count": 0
           },
           {
            "bin_start": 3.8,
            "bin_end": 4.7,
            "count": 0
           },
           {
            "bin_start": 4.7,
            "bin_end": 5.6,
            "count": 0
           },
           {
            "bin_start": 5.6,
            "bin_end": 6.5,
            "count": 1
           },
           {
            "bin_start": 6.5,
            "bin_end": 7.4,
            "count": 0
           },
           {
            "bin_start": 7.4,
            "bin_end": 8.3,
            "count": 0
           },
           {
            "bin_start": 8.3,
            "bin_end": 9.2,
            "count": 0
           },
           {
            "bin_start": 9.2,
            "bin_end": 10.1,
            "count": 0
           },
           {
            "bin_start": 10.1,
            "bin_end": 11,
            "count": 2
           }
          ]
         }
        },
        {
         "name": "constructed",
         "dtype": "int64",
         "stats": {
          "unique_count": 3,
          "nan_count": 0,
          "min": "2010",
          "max": "2021",
          "histogram": [
           {
            "bin_start": 2010,
            "bin_end": 2011.1,
            "count": 2
           },
           {
            "bin_start": 2011.1,
            "bin_end": 2012.2,
            "count": 0
           },
           {
            "bin_start": 2012.2,
            "bin_end": 2013.3,
            "count": 0
           },
           {
            "bin_start": 2013.3,
            "bin_end": 2014.4,
            "count": 0
           },
           {
            "bin_start": 2014.4,
            "bin_end": 2015.5,
            "count": 0
           },
           {
            "bin_start": 2015.5,
            "bin_end": 2016.6,
            "count": 0
           },
           {
            "bin_start": 2016.6,
            "bin_end": 2017.7,
            "count": 1
           },
           {
            "bin_start": 2017.7,
            "bin_end": 2018.8,
            "count": 0
           },
           {
            "bin_start": 2018.8,
            "bin_end": 2019.9,
            "count": 0
           },
           {
            "bin_start": 2019.9,
            "bin_end": 2021,
            "count": 2
           }
          ]
         }
        },
        {
         "name": "material",
         "dtype": "int64",
         "stats": {
          "unique_count": 2,
          "nan_count": 0,
          "min": "2",
          "max": "3",
          "histogram": [
           {
            "bin_start": 2,
            "bin_end": 2.1,
            "count": 1
           },
           {
            "bin_start": 2.1,
            "bin_end": 2.2,
            "count": 0
           },
           {
            "bin_start": 2.2,
            "bin_end": 2.3,
            "count": 0
           },
           {
            "bin_start": 2.3,
            "bin_end": 2.4,
            "count": 0
           },
           {
            "bin_start": 2.4,
            "bin_end": 2.5,
            "count": 0
           },
           {
            "bin_start": 2.5,
            "bin_end": 2.6,
            "count": 0
           },
           {
            "bin_start": 2.6,
            "bin_end": 2.7,
            "count": 0
           },
           {
            "bin_start": 2.7,
            "bin_end": 2.8,
            "count": 0
           },
           {
            "bin_start": 2.8,
            "bin_end": 2.9,
            "count": 0
           },
           {
            "bin_start": 2.9,
            "bin_end": 3,
            "count": 4
           }
          ]
         }
        },
        {
         "name": "stories",
         "dtype": "int64",
         "stats": {
          "unique_count": 3,
          "nan_count": 0,
          "min": "9",
          "max": "25",
          "histogram": [
           {
            "bin_start": 9,
            "bin_end": 10.6,
            "count": 1
           },
           {
            "bin_start": 10.6,
            "bin_end": 12.2,
            "count": 0
           },
           {
            "bin_start": 12.2,
            "bin_end": 13.8,
            "count": 0
           },
           {
            "bin_start": 13.8,
            "bin_end": 15.4,
            "count": 2
           },
           {
            "bin_start": 15.4,
            "bin_end": 17,
            "count": 0
           },
           {
            "bin_start": 17,
            "bin_end": 18.6,
            "count": 0
           },
           {
            "bin_start": 18.6,
            "bin_end": 20.200000000000003,
            "count": 0
           },
           {
            "bin_start": 20.200000000000003,
            "bin_end": 21.8,
            "count": 0
           },
           {
            "bin_start": 21.8,
            "bin_end": 23.4,
            "count": 0
           },
           {
            "bin_start": 23.4,
            "bin_end": 25,
            "count": 2
           }
          ]
         }
        },
        {
         "name": "elevator_without",
         "dtype": "int64",
         "stats": {
          "unique_count": 1,
          "nan_count": 0,
          "min": "0",
          "max": "0",
          "histogram": [
           {
            "bin_start": -0.5,
            "bin_end": -0.4,
            "count": 0
           },
           {
            "bin_start": -0.4,
            "bin_end": -0.3,
            "count": 0
           },
           {
            "bin_start": -0.3,
            "bin_end": -0.19999999999999996,
            "count": 0
           },
           {
            "bin_start": -0.19999999999999996,
            "bin_end": -0.09999999999999998,
            "count": 0
           },
           {
            "bin_start": -0.09999999999999998,
            "bin_end": 0,
            "count": 0
           },
           {
            "bin_start": 0,
            "bin_end": 0.10000000000000009,
            "count": 5
           },
           {
            "bin_start": 0.10000000000000009,
            "bin_end": 0.20000000000000007,
            "count": 0
           },
           {
            "bin_start": 0.20000000000000007,
            "bin_end": 0.30000000000000004,
            "count": 0
           },
           {
            "bin_start": 0.30000000000000004,
            "bin_end": 0.4,
            "count": 0
           },
           {
            "bin_start": 0.4,
            "bin_end": 0.5,
            "count": 0
           }
          ]
         }
        },
        {
         "name": "elevator_passenger",
         "dtype": "int64",
         "stats": {
          "unique_count": 1,
          "nan_count": 0,
          "min": "1",
          "max": "1",
          "histogram": [
           {
            "bin_start": 0.5,
            "bin_end": 0.6,
            "count": 0
           },
           {
            "bin_start": 0.6,
            "bin_end": 0.7,
            "count": 0
           },
           {
            "bin_start": 0.7,
            "bin_end": 0.8,
            "count": 0
           },
           {
            "bin_start": 0.8,
            "bin_end": 0.9,
            "count": 0
           },
           {
            "bin_start": 0.9,
            "bin_end": 1,
            "count": 0
           },
           {
            "bin_start": 1,
            "bin_end": 1.1,
            "count": 5
           },
           {
            "bin_start": 1.1,
            "bin_end": 1.2000000000000002,
            "count": 0
           },
           {
            "bin_start": 1.2000000000000002,
            "bin_end": 1.3,
            "count": 0
           },
           {
            "bin_start": 1.3,
            "bin_end": 1.4,
            "count": 0
           },
           {
            "bin_start": 1.4,
            "bin_end": 1.5,
            "count": 0
           }
          ]
         }
        },
        {
         "name": "elevator_service",
         "dtype": "int64",
         "stats": {
          "unique_count": 1,
          "nan_count": 0,
          "min": "1",
          "max": "1",
          "histogram": [
           {
            "bin_start": 0.5,
            "bin_end": 0.6,
            "count": 0
           },
           {
            "bin_start": 0.6,
            "bin_end": 0.7,
            "count": 0
           },
           {
            "bin_start": 0.7,
            "bin_end": 0.8,
            "count": 0
           },
           {
            "bin_start": 0.8,
            "bin_end": 0.9,
            "count": 0
           },
           {
            "bin_start": 0.9,
            "bin_end": 1,
            "count": 0
           },
           {
            "bin_start": 1,
            "bin_end": 1.1,
            "count": 5
           },
           {
            "bin_start": 1.1,
            "bin_end": 1.2000000000000002,
            "count": 0
           },
           {
            "bin_start": 1.2000000000000002,
            "bin_end": 1.3,
            "count": 0
           },
           {
            "bin_start": 1.3,
            "bin_end": 1.4,
            "count": 0
           },
           {
            "bin_start": 1.4,
            "bin_end": 1.5,
            "count": 0
           }
          ]
         }
        },
        {
         "name": "parking",
         "dtype": "int64",
         "stats": {
          "unique_count": 1,
          "nan_count": 0,
          "min": "1",
          "max": "1",
          "histogram": [
           {
            "bin_start": 0.5,
            "bin_end": 0.6,
            "count": 0
           },
           {
            "bin_start": 0.6,
            "bin_end": 0.7,
            "count": 0
           },
           {
            "bin_start": 0.7,
            "bin_end": 0.8,
            "count": 0
           },
           {
            "bin_start": 0.8,
            "bin_end": 0.9,
            "count": 0
           },
           {
            "bin_start": 0.9,
            "bin_end": 1,
            "count": 0
           },
           {
            "bin_start": 1,
            "bin_end": 1.1,
            "count": 5
           },
           {
            "bin_start": 1.1,
            "bin_end": 1.2000000000000002,
            "count": 0
           },
           {
            "bin_start": 1.2000000000000002,
            "bin_end": 1.3,
            "count": 0
           },
           {
            "bin_start": 1.3,
            "bin_end": 1.4,
            "count": 0
           },
           {
            "bin_start": 1.4,
            "bin_end": 1.5,
            "count": 0
           }
          ]
         }
        },
        {
         "name": "garbage_chute",
         "dtype": "int64",
         "stats": {
          "unique_count": 2,
          "nan_count": 0,
          "min": "0",
          "max": "1",
          "histogram": [
           {
            "bin_start": 0,
            "bin_end": 0.1,
            "count": 1
           },
           {
            "bin_start": 0.1,
            "bin_end": 0.2,
            "count": 0
           },
           {
            "bin_start": 0.2,
            "bin_end": 0.30000000000000004,
            "count": 0
           },
           {
            "bin_start": 0.30000000000000004,
            "bin_end": 0.4,
            "count": 0
           },
           {
            "bin_start": 0.4,
            "bin_end": 0.5,
            "count": 0
           },
           {
            "bin_start": 0.5,
            "bin_end": 0.6000000000000001,
            "count": 0
           },
           {
            "bin_start": 0.6000000000000001,
            "bin_end": 0.7000000000000001,
            "count": 0
           },
           {
            "bin_start": 0.7000000000000001,
            "bin_end": 0.8,
            "count": 0
           },
           {
            "bin_start": 0.8,
            "bin_end": 0.9,
            "count": 0
           },
           {
            "bin_start": 0.9,
            "bin_end": 1,
            "count": 4
           }
          ]
         }
        },
        {
         "name": "heating",
         "dtype": "int64",
         "stats": {
          "unique_count": 1,
          "nan_count": 0,
          "min": "0",
          "max": "0",
          "histogram": [
           {
            "bin_start": -0.5,
            "bin_end": -0.4,
            "count": 0
           },
           {
            "bin_start": -0.4,
            "bin_end": -0.3,
            "count": 0
           },
           {
            "bin_start": -0.3,
            "bin_end": -0.19999999999999996,
            "count": 0
           },
           {
            "bin_start": -0.19999999999999996,
            "bin_end": -0.09999999999999998,
            "count": 0
           },
           {
            "bin_start": -0.09999999999999998,
            "bin_end": 0,
            "count": 0
           },
           {
            "bin_start": 0,
            "bin_end": 0.10000000000000009,
            "count": 5
           },
           {
            "bin_start": 0.10000000000000009,
            "bin_end": 0.20000000000000007,
            "count": 0
           },
           {
            "bin_start": 0.20000000000000007,
            "bin_end": 0.30000000000000004,
            "count": 0
           },
           {
            "bin_start": 0.30000000000000004,
            "bin_end": 0.4,
            "count": 0
           },
           {
            "bin_start": 0.4,
            "bin_end": 0.5,
            "count": 0
           }
          ]
         }
        },
        {
         "name": "price/area",
         "dtype": "float64",
         "stats": {
          "unique_count": 4,
          "nan_count": 0,
          "min": "114900.0",
          "max": "178205.12820512822",
          "histogram": [
           {
            "bin_start": 114900,
            "bin_end": 121230.51282051283,
            "count": 4
           },
           {
            "bin_start": 121230.51282051283,
            "bin_end": 127561.02564102564,
            "count": 0
           },
           {
            "bin_start": 127561.02564102564,
            "bin_end": 133891.53846153847,
            "count": 0
           },
           {
            "bin_start": 133891.53846153847,
            "bin_end": 140222.05128205128,
            "count": 0
           },
           {
            "bin_start": 140222.05128205128,
            "bin_end": 146552.56410256412,
            "count": 0
           },
           {
            "bin_start": 146552.56410256412,
            "bin_end": 152883.07692307694,
            "count": 0
           },
           {
            "bin_start": 152883.07692307694,
            "bin_end": 159213.58974358975,
            "count": 0
           },
           {
            "bin_start": 159213.58974358975,
            "bin_end": 165544.10256410256,
            "count": 0
           },
           {
            "bin_start": 165544.10256410256,
            "bin_end": 171874.6153846154,
            "count": 0
           },
           {
            "bin_start": 171874.6153846154,
            "bin_end": 178205.12820512822,
            "count": 1
           }
          ]
         }
        },
        {
         "name": "distance",
         "dtype": "float64",
         "stats": {
          "unique_count": 4,
          "nan_count": 0,
          "min": "0.1211826127214619",
          "max": "0.2393483510304599",
          "histogram": [
           {
            "bin_start": 0.1211826127214619,
            "bin_end": 0.1329991865523617,
            "count": 3
           },
           {
            "bin_start": 0.1329991865523617,
            "bin_end": 0.1448157603832615,
            "count": 0
           },
           {
            "bin_start": 0.1448157603832615,
            "bin_end": 0.15663233421416128,
            "count": 0
           },
           {
            "bin_start": 0.15663233421416128,
            "bin_end": 0.1684489080450611,
            "count": 0
           },
           {
            "bin_start": 0.1684489080450611,
            "bin_end": 0.18026548187596092,
            "count": 0
           },
           {
            "bin_start": 0.18026548187596092,
            "bin_end": 0.1920820557068607,
            "count": 0
           },
           {
            "bin_start": 0.1920820557068607,
            "bin_end": 0.2038986295377605,
            "count": 0
           },
           {
            "bin_start": 0.2038986295377605,
            "bin_end": 0.2157152033686603,
            "count": 0
           },
           {
            "bin_start": 0.2157152033686603,
            "bin_end": 0.2275317771995601,
            "count": 1
           },
           {
            "bin_start": 0.2275317771995601,
            "bin_end": 0.2393483510304599,
            "count": 1
           }
          ]
         }
        },
        {
         "name": "street",
         "dtype": "object",
         "stats": {
          "unique_count": 4,
          "nan_count": 0,
          "categories": [
           {
            "name": "улица Радужная",
            "count": 2
           },
           {
            "name": "Бунинские Луга ЖК",
            "count": 1
           },
           {
            "name": "2 others",
            "count": 2
           }
          ]
         }
        },
        {
         "name": "_deepnote_index_column",
         "dtype": "int64"
        }
       ],
       "rows_top": [
        {
         "id": 0,
         "seller": 3,
         "price": 7139520,
         "area_total": 59.2,
         "area_kitchen": 12.5,
         "area_living": 31,
         "floor": 2,
         "rooms": 2,
         "layout": 1,
         "ceiling": 3,
         "bathrooms_shared": 0,
         "bathrooms_private": 2,
         "windows_court": 0,
         "windows_street": 1,
         "balconies": 1,
         "loggias": 1,
         "condition": 1,
         "phones": 1,
         "building_id": 4076,
         "new": 1,
         "district": 11,
         "constructed": 2021,
         "material": 3,
         "stories": 9,
         "elevator_without": 0,
         "elevator_passenger": 1,
         "elevator_service": 1,
         "parking": 1,
         "garbage_chute": 1,
         "heating": 0,
         "price/area": 120600,
         "distance": 0.2393483510304599,
         "street": "Бунинские Луга ЖК",
         "_deepnote_index_column": 0
        },
        {
         "id": 1,
         "seller": 1,
         "price": 10500000,
         "area_total": 88,
         "area_kitchen": 14.2,
         "area_living": 48,
         "floor": 18,
         "rooms": 3,
         "layout": 1,
         "ceiling": 3,
         "bathrooms_shared": 2,
         "bathrooms_private": 0,
         "windows_court": 1,
         "windows_street": 1,
         "balconies": 1,
         "loggias": 0,
         "condition": 3,
         "phones": 1,
         "building_id": 1893,
         "new": 0,
         "district": 2,
         "constructed": 2010,
         "material": 3,
         "stories": 25,
         "elevator_without": 0,
         "elevator_passenger": 1,
         "elevator_service": 1,
         "parking": 1,
         "garbage_chute": 1,
         "heating": 0,
         "price/area": 119318.18181818182,
         "distance": 0.1297131686953954,
         "street": "улица Радужная",
         "_deepnote_index_column": 1
        },
        {
         "id": 2,
         "seller": 3,
         "price": 9019650,
         "area_total": 78.5,
         "area_kitchen": 22.5,
         "area_living": 40.8,
         "floor": 12,
         "rooms": 3,
         "layout": 1,
         "ceiling": 3,
         "bathrooms_shared": 0,
         "bathrooms_private": 2,
         "windows_court": 1,
         "windows_street": 1,
         "balconies": 1,
         "loggias": 0,
         "condition": 1,
         "phones": 1,
         "building_id": 5176,
         "new": 1,
         "district": 6,
         "constructed": 2021,
         "material": 3,
         "stories": 15,
         "elevator_without": 0,
         "elevator_passenger": 1,
         "elevator_service": 1,
         "parking": 1,
         "garbage_chute": 1,
         "heating": 0,
         "price/area": 114900,
         "distance": 0.1211826127214619,
         "street": "Саларьево Парк ЖК",
         "_deepnote_index_column": 2
        },
        {
         "id": 3,
         "seller": 1,
         "price": 10500000,
         "area_total": 88,
         "area_kitchen": 14,
         "area_living": 48,
         "floor": 18,
         "rooms": 3,
         "layout": 1,
         "ceiling": 3,
         "bathrooms_shared": 0,
         "bathrooms_private": 2,
         "windows_court": 1,
         "windows_street": 1,
         "balconies": 0,
         "loggias": 1,
         "condition": 2,
         "phones": 1,
         "building_id": 1893,
         "new": 0,
         "district": 2,
         "constructed": 2010,
         "material": 3,
         "stories": 25,
         "elevator_without": 0,
         "elevator_passenger": 1,
         "elevator_service": 1,
         "parking": 1,
         "garbage_chute": 1,
         "heating": 0,
         "price/area": 119318.18181818182,
         "distance": 0.1297131686953954,
         "street": "улица Радужная",
         "_deepnote_index_column": 3
        },
        {
         "id": 4,
         "seller": 2,
         "price": 13900000,
         "area_total": 78,
         "area_kitchen": 17,
         "area_living": 35,
         "floor": 7,
         "rooms": 2,
         "layout": 1,
         "ceiling": 3,
         "bathrooms_shared": 1,
         "bathrooms_private": 0,
         "windows_court": 1,
         "windows_street": 1,
         "balconies": 0,
         "loggias": 1,
         "condition": 3,
         "phones": 1,
         "building_id": 6604,
         "new": 0,
         "district": 11,
         "constructed": 2017,
         "material": 2,
         "stories": 15,
         "elevator_without": 0,
         "elevator_passenger": 1,
         "elevator_service": 1,
         "parking": 1,
         "garbage_chute": 0,
         "heating": 0,
         "price/area": 178205.12820512822,
         "distance": 0.2177615302779637,
         "street": "улица Сервантеса",
         "_deepnote_index_column": 4
        }
       ],
       "rows_bottom": null
      },
      "text/plain": "   id  seller       price  area_total  area_kitchen  area_living  floor  \\\n0   0       3   7139520.0        59.2          12.5         31.0      2   \n1   1       1  10500000.0        88.0          14.2         48.0     18   \n2   2       3   9019650.0        78.5          22.5         40.8     12   \n3   3       1  10500000.0        88.0          14.0         48.0     18   \n4   4       2  13900000.0        78.0          17.0         35.0      7   \n\n   rooms  layout  ceiling  ...  stories  elevator_without  elevator_passenger  \\\n0      2       1        3  ...        9                 0                   1   \n1      3       1        3  ...       25                 0                   1   \n2      3       1        3  ...       15                 0                   1   \n3      3       1        3  ...       25                 0                   1   \n4      2       1        3  ...       15                 0                   1   \n\n   elevator_service  parking  garbage_chute  heating     price/area  distance  \\\n0                 1        1              1        0  120600.000000  0.239348   \n1                 1        1              1        0  119318.181818  0.129713   \n2                 1        1              1        0  114900.000000  0.121183   \n3                 1        1              1        0  119318.181818  0.129713   \n4                 1        1              0        0  178205.128205  0.217762   \n\n              street  \n0  Бунинские Луга ЖК  \n1     улица Радужная  \n2  Саларьево Парк ЖК  \n3     улица Радужная  \n4   улица Сервантеса  \n\n[5 rows x 33 columns]",
      "text/html": "<div>\n<style scoped>\n    .dataframe tbody tr th:only-of-type {\n        vertical-align: middle;\n    }\n\n    .dataframe tbody tr th {\n        vertical-align: top;\n    }\n\n    .dataframe thead th {\n        text-align: right;\n    }\n</style>\n<table border=\"1\" class=\"dataframe\">\n  <thead>\n    <tr style=\"text-align: right;\">\n      <th></th>\n      <th>id</th>\n      <th>seller</th>\n      <th>price</th>\n      <th>area_total</th>\n      <th>area_kitchen</th>\n      <th>area_living</th>\n      <th>floor</th>\n      <th>rooms</th>\n      <th>layout</th>\n      <th>ceiling</th>\n      <th>...</th>\n      <th>stories</th>\n      <th>elevator_without</th>\n      <th>elevator_passenger</th>\n      <th>elevator_service</th>\n      <th>parking</th>\n      <th>garbage_chute</th>\n      <th>heating</th>\n      <th>price/area</th>\n      <th>distance</th>\n      <th>street</th>\n    </tr>\n  </thead>\n  <tbody>\n    <tr>\n      <th>0</th>\n      <td>0</td>\n      <td>3</td>\n      <td>7139520.0</td>\n      <td>59.2</td>\n      <td>12.5</td>\n      <td>31.0</td>\n      <td>2</td>\n      <td>2</td>\n      <td>1</td>\n      <td>3</td>\n      <td>...</td>\n      <td>9</td>\n      <td>0</td>\n      <td>1</td>\n      <td>1</td>\n      <td>1</td>\n      <td>1</td>\n      <td>0</td>\n      <td>120600.000000</td>\n      <td>0.239348</td>\n      <td>Бунинские Луга ЖК</td>\n    </tr>\n    <tr>\n      <th>1</th>\n      <td>1</td>\n      <td>1</td>\n      <td>10500000.0</td>\n      <td>88.0</td>\n      <td>14.2</td>\n      <td>48.0</td>\n      <td>18</td>\n      <td>3</td>\n      <td>1</td>\n      <td>3</td>\n      <td>...</td>\n      <td>25</td>\n      <td>0</td>\n      <td>1</td>\n      <td>1</td>\n      <td>1</td>\n      <td>1</td>\n      <td>0</td>\n      <td>119318.181818</td>\n      <td>0.129713</td>\n      <td>улица Радужная</td>\n    </tr>\n    <tr>\n      <th>2</th>\n      <td>2</td>\n      <td>3</td>\n      <td>9019650.0</td>\n      <td>78.5</td>\n      <td>22.5</td>\n      <td>40.8</td>\n      <td>12</td>\n      <td>3</td>\n      <td>1</td>\n      <td>3</td>\n      <td>...</td>\n      <td>15</td>\n      <td>0</td>\n      <td>1</td>\n      <td>1</td>\n      <td>1</td>\n      <td>1</td>\n      <td>0</td>\n      <td>114900.000000</td>\n      <td>0.121183</td>\n      <td>Саларьево Парк ЖК</td>\n    </tr>\n    <tr>\n      <th>3</th>\n      <td>3</td>\n      <td>1</td>\n      <td>10500000.0</td>\n      <td>88.0</td>\n      <td>14.0</td>\n      <td>48.0</td>\n      <td>18</td>\n      <td>3</td>\n      <td>1</td>\n      <td>3</td>\n      <td>...</td>\n      <td>25</td>\n      <td>0</td>\n      <td>1</td>\n      <td>1</td>\n      <td>1</td>\n      <td>1</td>\n      <td>0</td>\n      <td>119318.181818</td>\n      <td>0.129713</td>\n      <td>улица Радужная</td>\n    </tr>\n    <tr>\n      <th>4</th>\n      <td>4</td>\n      <td>2</td>\n      <td>13900000.0</td>\n      <td>78.0</td>\n      <td>17.0</td>\n      <td>35.0</td>\n      <td>7</td>\n      <td>2</td>\n      <td>1</td>\n      <td>3</td>\n      <td>...</td>\n      <td>15</td>\n      <td>0</td>\n      <td>1</td>\n      <td>1</td>\n      <td>1</td>\n      <td>0</td>\n      <td>0</td>\n      <td>178205.128205</td>\n      <td>0.217762</td>\n      <td>улица Сервантеса</td>\n    </tr>\n  </tbody>\n</table>\n<p>5 rows × 33 columns</p>\n</div>"
     },
     "metadata": {}
    }
   ],
   "execution_count": null
  },
  {
   "cell_type": "code",
   "metadata": {
    "tags": [],
    "deepnote_to_be_reexecuted": false,
    "source_hash": "15dfb5a0",
    "execution_start": 1637349124883,
    "execution_millis": 256,
    "cell_id": "00003-833e580d-6a63-49bd-9088-41c93cf143c2",
    "deepnote_output_heights": [
     611
    ],
    "deepnote_cell_type": "code"
   },
   "source": "#df_train['floor/stories'] = df_train.floor/df_train.stories\n#df_test['floor/stories'] = df_test.floor/df_test.stories\n\n#df_train['distance'] = np.sqrt((37.6 - df_train['longitude'])**2 + (55.75 - df_train['latitude'])**2)\n#df_test['distance'] = np.sqrt((37.6 - df_test['longitude'])**2 + (55.75 - df_test['latitude'])**2)\n\n#df_train.drop(['longitude', 'latitude'], axis=1, inplace=True)\n#df_test.drop(['longitude', 'latitude'], axis=1, inplace=True)\ndf_train\ndf_test",
   "outputs": [
    {
     "output_type": "execute_result",
     "execution_count": 5,
     "data": {
      "application/vnd.deepnote.dataframe.v2+json": {
       "row_count": 9937,
       "column_count": 31,
       "columns": [
        {
         "name": "id",
         "dtype": "int64",
         "stats": {
          "unique_count": 9937,
          "nan_count": 0,
          "min": "23285",
          "max": "33221",
          "histogram": [
           {
            "bin_start": 23285,
            "bin_end": 24278.6,
            "count": 994
           },
           {
            "bin_start": 24278.6,
            "bin_end": 25272.2,
            "count": 994
           },
           {
            "bin_start": 25272.2,
            "bin_end": 26265.8,
            "count": 993
           },
           {
            "bin_start": 26265.8,
            "bin_end": 27259.4,
            "count": 994
           },
           {
            "bin_start": 27259.4,
            "bin_end": 28253,
            "count": 993
           },
           {
            "bin_start": 28253,
            "bin_end": 29246.6,
            "count": 994
           },
           {
            "bin_start": 29246.6,
            "bin_end": 30240.2,
            "count": 994
           },
           {
            "bin_start": 30240.2,
            "bin_end": 31233.8,
            "count": 993
           },
           {
            "bin_start": 31233.8,
            "bin_end": 32227.4,
            "count": 994
           },
           {
            "bin_start": 32227.4,
            "bin_end": 33221,
            "count": 994
           }
          ]
         }
        },
        {
         "name": "seller",
         "dtype": "int64",
         "stats": {
          "unique_count": 4,
          "nan_count": 0,
          "min": "0",
          "max": "3",
          "histogram": [
           {
            "bin_start": 0,
            "bin_end": 0.3,
            "count": 777
           },
           {
            "bin_start": 0.3,
            "bin_end": 0.6,
            "count": 0
           },
           {
            "bin_start": 0.6,
            "bin_end": 0.8999999999999999,
            "count": 0
           },
           {
            "bin_start": 0.8999999999999999,
            "bin_end": 1.2,
            "count": 3918
           },
           {
            "bin_start": 1.2,
            "bin_end": 1.5,
            "count": 0
           },
           {
            "bin_start": 1.5,
            "bin_end": 1.7999999999999998,
            "count": 0
           },
           {
            "bin_start": 1.7999999999999998,
            "bin_end": 2.1,
            "count": 2389
           },
           {
            "bin_start": 2.1,
            "bin_end": 2.4,
            "count": 0
           },
           {
            "bin_start": 2.4,
            "bin_end": 2.6999999999999997,
            "count": 0
           },
           {
            "bin_start": 2.6999999999999997,
            "bin_end": 3,
            "count": 2853
           }
          ]
         }
        },
        {
         "name": "area_total",
         "dtype": "float64",
         "stats": {
          "unique_count": 1880,
          "nan_count": 0,
          "min": "13.0",
          "max": "1175.0",
          "histogram": [
           {
            "bin_start": 13,
            "bin_end": 129.2,
            "count": 8870
           },
           {
            "bin_start": 129.2,
            "bin_end": 245.4,
            "count": 903
           },
           {
            "bin_start": 245.4,
            "bin_end": 361.6,
            "count": 113
           },
           {
            "bin_start": 361.6,
            "bin_end": 477.8,
            "count": 31
           },
           {
            "bin_start": 477.8,
            "bin_end": 594,
            "count": 9
           },
           {
            "bin_start": 594,
            "bin_end": 710.2,
            "count": 7
           },
           {
            "bin_start": 710.2,
            "bin_end": 826.4,
            "count": 2
           },
           {
            "bin_start": 826.4,
            "bin_end": 942.6,
            "count": 0
           },
           {
            "bin_start": 942.6,
            "bin_end": 1058.8,
            "count": 1
           },
           {
            "bin_start": 1058.8,
            "bin_end": 1175,
            "count": 1
           }
          ]
         }
        },
        {
         "name": "area_kitchen",
         "dtype": "float64",
         "stats": {
          "unique_count": 895,
          "nan_count": 0,
          "min": "1.2",
          "max": "63.6",
          "histogram": [
           {
            "bin_start": 1.2,
            "bin_end": 7.44,
            "count": 1520
           },
           {
            "bin_start": 7.44,
            "bin_end": 13.68,
            "count": 4839
           },
           {
            "bin_start": 13.68,
            "bin_end": 19.919999999999998,
            "count": 2267
           },
           {
            "bin_start": 19.919999999999998,
            "bin_end": 26.16,
            "count": 902
           },
           {
            "bin_start": 26.16,
            "bin_end": 32.400000000000006,
            "count": 271
           },
           {
            "bin_start": 32.400000000000006,
            "bin_end": 38.64,
            "count": 72
           },
           {
            "bin_start": 38.64,
            "bin_end": 44.88,
            "count": 34
           },
           {
            "bin_start": 44.88,
            "bin_end": 51.120000000000005,
            "count": 20
           },
           {
            "bin_start": 51.120000000000005,
            "bin_end": 57.36000000000001,
            "count": 5
           },
           {
            "bin_start": 57.36000000000001,
            "bin_end": 63.6,
            "count": 7
           }
          ]
         }
        },
        {
         "name": "area_living",
         "dtype": "float64",
         "stats": {
          "unique_count": 1763,
          "nan_count": 0,
          "min": "0.0",
          "max": "528.0",
          "histogram": [
           {
            "bin_start": 0,
            "bin_end": 52.8,
            "count": 8133
           },
           {
            "bin_start": 52.8,
            "bin_end": 105.6,
            "count": 1511
           },
           {
            "bin_start": 105.6,
            "bin_end": 158.39999999999998,
            "count": 205
           },
           {
            "bin_start": 158.39999999999998,
            "bin_end": 211.2,
            "count": 51
           },
           {
            "bin_start": 211.2,
            "bin_end": 264,
            "count": 11
           },
           {
            "bin_start": 264,
            "bin_end": 316.79999999999995,
            "count": 11
           },
           {
            "bin_start": 316.79999999999995,
            "bin_end": 369.59999999999997,
            "count": 6
           },
           {
            "bin_start": 369.59999999999997,
            "bin_end": 422.4,
            "count": 2
           },
           {
            "bin_start": 422.4,
            "bin_end": 475.2,
            "count": 2
           },
           {
            "bin_start": 475.2,
            "bin_end": 528,
            "count": 5
           }
          ]
         }
        },
        {
         "name": "floor",
         "dtype": "int64",
         "stats": {
          "unique_count": 53,
          "nan_count": 0,
          "min": "1",
          "max": "69",
          "histogram": [
           {
            "bin_start": 1,
            "bin_end": 7.8,
            "count": 5346
           },
           {
            "bin_start": 7.8,
            "bin_end": 14.6,
            "count": 2603
           },
           {
            "bin_start": 14.6,
            "bin_end": 21.4,
            "count": 1193
           },
           {
            "bin_start": 21.4,
            "bin_end": 28.2,
            "count": 434
           },
           {
            "bin_start": 28.2,
            "bin_end": 35,
            "count": 207
           },
           {
            "bin_start": 35,
            "bin_end": 41.8,
            "count": 100
           },
           {
            "bin_start": 41.8,
            "bin_end": 48.6,
            "count": 48
           },
           {
            "bin_start": 48.6,
            "bin_end": 55.4,
            "count": 3
           },
           {
            "bin_start": 55.4,
            "bin_end": 62.199999999999996,
            "count": 2
           },
           {
            "bin_start": 62.199999999999996,
            "bin_end": 69,
            "count": 1
           }
          ]
         }
        },
        {
         "name": "rooms",
         "dtype": "int64",
         "stats": {
          "unique_count": 6,
          "nan_count": 0,
          "min": "1",
          "max": "6",
          "histogram": [
           {
            "bin_start": 1,
            "bin_end": 1.5,
            "count": 3110
           },
           {
            "bin_start": 1.5,
            "bin_end": 2,
            "count": 0
           },
           {
            "bin_start": 2,
            "bin_end": 2.5,
            "count": 3279
           },
           {
            "bin_start": 2.5,
            "bin_end": 3,
            "count": 0
           },
           {
            "bin_start": 3,
            "bin_end": 3.5,
            "count": 2448
           },
           {
            "bin_start": 3.5,
            "bin_end": 4,
            "count": 0
           },
           {
            "bin_start": 4,
            "bin_end": 4.5,
            "count": 744
           },
           {
            "bin_start": 4.5,
            "bin_end": 5,
            "count": 0
           },
           {
            "bin_start": 5,
            "bin_end": 5.5,
            "count": 234
           },
           {
            "bin_start": 5.5,
            "bin_end": 6,
            "count": 122
           }
          ]
         }
        },
        {
         "name": "layout",
         "dtype": "int64",
         "stats": {
          "unique_count": 3,
          "nan_count": 0,
          "min": "0",
          "max": "2",
          "histogram": [
           {
            "bin_start": 0,
            "bin_end": 0.2,
            "count": 111
           },
           {
            "bin_start": 0.2,
            "bin_end": 0.4,
            "count": 0
           },
           {
            "bin_start": 0.4,
            "bin_end": 0.6000000000000001,
            "count": 0
           },
           {
            "bin_start": 0.6000000000000001,
            "bin_end": 0.8,
            "count": 0
           },
           {
            "bin_start": 0.8,
            "bin_end": 1,
            "count": 0
           },
           {
            "bin_start": 1,
            "bin_end": 1.2000000000000002,
            "count": 9585
           },
           {
            "bin_start": 1.2000000000000002,
            "bin_end": 1.4000000000000001,
            "count": 0
           },
           {
            "bin_start": 1.4000000000000001,
            "bin_end": 1.6,
            "count": 0
           },
           {
            "bin_start": 1.6,
            "bin_end": 1.8,
            "count": 0
           },
           {
            "bin_start": 1.8,
            "bin_end": 2,
            "count": 241
           }
          ]
         }
        },
        {
         "name": "ceiling",
         "dtype": "int64",
         "stats": {
          "unique_count": 34,
          "nan_count": 0,
          "min": "0",
          "max": "350",
          "histogram": [
           {
            "bin_start": 0,
            "bin_end": 35,
            "count": 9829
           },
           {
            "bin_start": 35,
            "bin_end": 70,
            "count": 65
           },
           {
            "bin_start": 70,
            "bin_end": 105,
            "count": 25
           },
           {
            "bin_start": 105,
            "bin_end": 140,
            "count": 4
           },
           {
            "bin_start": 140,
            "bin_end": 175,
            "count": 0
           },
           {
            "bin_start": 175,
            "bin_end": 210,
            "count": 0
           },
           {
            "bin_start": 210,
            "bin_end": 245,
            "count": 0
           },
           {
            "bin_start": 245,
            "bin_end": 280,
            "count": 4
           },
           {
            "bin_start": 280,
            "bin_end": 315,
            "count": 5
           },
           {
            "bin_start": 315,
            "bin_end": 350,
            "count": 5
           }
          ]
         }
        },
        {
         "name": "bathrooms_shared",
         "dtype": "int64",
         "stats": {
          "unique_count": 5,
          "nan_count": 0,
          "min": "0",
          "max": "4",
          "histogram": [
           {
            "bin_start": 0,
            "bin_end": 0.4,
            "count": 3925
           },
           {
            "bin_start": 0.4,
            "bin_end": 0.8,
            "count": 0
           },
           {
            "bin_start": 0.8,
            "bin_end": 1.2000000000000002,
            "count": 4484
           },
           {
            "bin_start": 1.2000000000000002,
            "bin_end": 1.6,
            "count": 0
           },
           {
            "bin_start": 1.6,
            "bin_end": 2,
            "count": 0
           },
           {
            "bin_start": 2,
            "bin_end": 2.4000000000000004,
            "count": 1289
           },
           {
            "bin_start": 2.4000000000000004,
            "bin_end": 2.8000000000000003,
            "count": 0
           },
           {
            "bin_start": 2.8000000000000003,
            "bin_end": 3.2,
            "count": 176
           },
           {
            "bin_start": 3.2,
            "bin_end": 3.6,
            "count": 0
           },
           {
            "bin_start": 3.6,
            "bin_end": 4,
            "count": 63
           }
          ]
         }
        },
        {
         "name": "bathrooms_private",
         "dtype": "int64"
        },
        {
         "name": "windows_court",
         "dtype": "int64"
        },
        {
         "name": "windows_street",
         "dtype": "int64"
        },
        {
         "name": "balconies",
         "dtype": "int64"
        },
        {
         "name": "loggias",
         "dtype": "int64"
        },
        {
         "name": "condition",
         "dtype": "int64"
        },
        {
         "name": "phones",
         "dtype": "int64"
        },
        {
         "name": "building_id",
         "dtype": "int64"
        },
        {
         "name": "new",
         "dtype": "int64"
        },
        {
         "name": "district",
         "dtype": "int64"
        },
        {
         "name": "constructed",
         "dtype": "int64"
        },
        {
         "name": "material",
         "dtype": "int64"
        },
        {
         "name": "stories",
         "dtype": "int64"
        },
        {
         "name": "elevator_without",
         "dtype": "int64"
        },
        {
         "name": "elevator_passenger",
         "dtype": "int64"
        },
        {
         "name": "elevator_service",
         "dtype": "int64"
        },
        {
         "name": "parking",
         "dtype": "int64"
        },
        {
         "name": "garbage_chute",
         "dtype": "int64"
        },
        {
         "name": "heating",
         "dtype": "int64"
        },
        {
         "name": "distance",
         "dtype": "float64"
        },
        {
         "name": "street",
         "dtype": "object"
        },
        {
         "name": "_deepnote_index_column",
         "dtype": "int64"
        }
       ],
       "rows_top": [
        {
         "id": 23285,
         "seller": 3,
         "area_total": 71.4,
         "area_kitchen": 13.16,
         "area_living": 29.440000000000005,
         "floor": 2,
         "rooms": 1,
         "layout": 1,
         "ceiling": 3,
         "bathrooms_shared": 1,
         "bathrooms_private": 1,
         "windows_court": 1,
         "windows_street": 0,
         "balconies": 1,
         "loggias": 0,
         "condition": 0,
         "phones": 1,
         "building_id": 5148,
         "new": 0,
         "district": 0,
         "constructed": 2017,
         "material": 2,
         "stories": 20,
         "elevator_without": 1,
         "elevator_passenger": 1,
         "elevator_service": 1,
         "parking": 1,
         "garbage_chute": 1,
         "heating": 0,
         "distance": 0.0524109779435537,
         "street": "2-я Черногрязская улица",
         "_deepnote_index_column": 0
        },
        {
         "id": 23286,
         "seller": 1,
         "area_total": 54,
         "area_kitchen": 4,
         "area_living": 50,
         "floor": 4,
         "rooms": 1,
         "layout": 1,
         "ceiling": 3,
         "bathrooms_shared": 1,
         "bathrooms_private": 1,
         "windows_court": 1,
         "windows_street": 0,
         "balconies": 0,
         "loggias": 1,
         "condition": 3,
         "phones": 1,
         "building_id": 1290,
         "new": 0,
         "district": 11,
         "constructed": 2017,
         "material": 2,
         "stories": 15,
         "elevator_without": 0,
         "elevator_passenger": 1,
         "elevator_service": 1,
         "parking": 0,
         "garbage_chute": 0,
         "heating": 0,
         "distance": 0.2164357638885012,
         "street": "улица Сервантеса",
         "_deepnote_index_column": 1
        },
        {
         "id": 23287,
         "seller": 3,
         "area_total": 39.4,
         "area_kitchen": 19.6,
         "area_living": 11.2,
         "floor": 10,
         "rooms": 1,
         "layout": 1,
         "ceiling": 3,
         "bathrooms_shared": 1,
         "bathrooms_private": 0,
         "windows_court": 1,
         "windows_street": 0,
         "balconies": 0,
         "loggias": 1,
         "condition": 2,
         "phones": 1,
         "building_id": 681,
         "new": 1,
         "district": 11,
         "constructed": 2021,
         "material": 3,
         "stories": 9,
         "elevator_without": 0,
         "elevator_passenger": 1,
         "elevator_service": 1,
         "parking": 1,
         "garbage_chute": 1,
         "heating": 0,
         "distance": 0.2288787054599012,
         "street": "Саларьево Парк ЖК",
         "_deepnote_index_column": 2
        },
        {
         "id": 23288,
         "seller": 3,
         "area_total": 60.9,
         "area_kitchen": 15.68,
         "area_living": 55.56,
         "floor": 5,
         "rooms": 2,
         "layout": 1,
         "ceiling": 3,
         "bathrooms_shared": 1,
         "bathrooms_private": 0,
         "windows_court": 0,
         "windows_street": 1,
         "balconies": 0,
         "loggias": 1,
         "condition": 0,
         "phones": 1,
         "building_id": 4261,
         "new": 0,
         "district": 11,
         "constructed": 2014,
         "material": 2,
         "stories": 17,
         "elevator_without": 1,
         "elevator_passenger": 1,
         "elevator_service": 0,
         "parking": 0,
         "garbage_chute": 1,
         "heating": 3,
         "distance": 0.2173936954099662,
         "street": "улица Александры Монаховой",
         "_deepnote_index_column": 3
        },
        {
         "id": 23289,
         "seller": 3,
         "area_total": 34,
         "area_kitchen": 9,
         "area_living": 17,
         "floor": 14,
         "rooms": 1,
         "layout": 1,
         "ceiling": 3,
         "bathrooms_shared": 1,
         "bathrooms_private": 0,
         "windows_court": 1,
         "windows_street": 0,
         "balconies": 0,
         "loggias": 1,
         "condition": 1,
         "phones": 1,
         "building_id": 7530,
         "new": 0,
         "district": 11,
         "constructed": 2016,
         "material": 2,
         "stories": 17,
         "elevator_without": 0,
         "elevator_passenger": 1,
         "elevator_service": 1,
         "parking": 1,
         "garbage_chute": 1,
         "heating": 0,
         "distance": 0.345584373087098,
         "street": "улица 3-я Нововатутинская",
         "_deepnote_index_column": 4
        },
        {
         "id": 23290,
         "seller": 3,
         "area_total": 40,
         "area_kitchen": 10,
         "area_living": 19,
         "floor": 15,
         "rooms": 1,
         "layout": 1,
         "ceiling": 3,
         "bathrooms_shared": 1,
         "bathrooms_private": 0,
         "windows_court": 1,
         "windows_street": 0,
         "balconies": 0,
         "loggias": 1,
         "condition": 0,
         "phones": 2,
         "building_id": 5719,
         "new": 0,
         "district": 11,
         "constructed": 2016,
         "material": 3,
         "stories": 17,
         "elevator_without": 0,
         "elevator_passenger": 1,
         "elevator_service": 1,
         "parking": 1,
         "garbage_chute": 1,
         "heating": 0,
         "distance": 0.2945416270699296,
         "street": "улица Корнея Чуковского",
         "_deepnote_index_column": 5
        },
        {
         "id": 23291,
         "seller": 3,
         "area_total": 61,
         "area_kitchen": 11.7,
         "area_living": 33.8,
         "floor": 3,
         "rooms": 3,
         "layout": 1,
         "ceiling": 3,
         "bathrooms_shared": 0,
         "bathrooms_private": 2,
         "windows_court": 1,
         "windows_street": 1,
         "balconies": 0,
         "loggias": 1,
         "condition": 2,
         "phones": 1,
         "building_id": 8478,
         "new": 1,
         "district": 11,
         "constructed": 2021,
         "material": 3,
         "stories": 9,
         "elevator_without": 0,
         "elevator_passenger": 1,
         "elevator_service": 1,
         "parking": 1,
         "garbage_chute": 1,
         "heating": 0,
         "distance": 0.2393483510304599,
         "street": "Бунинские Луга ЖК",
         "_deepnote_index_column": 6
        },
        {
         "id": 23292,
         "seller": 2,
         "area_total": 60,
         "area_kitchen": 12,
         "area_living": 32,
         "floor": 21,
         "rooms": 2,
         "layout": 1,
         "ceiling": 3,
         "bathrooms_shared": 0,
         "bathrooms_private": 2,
         "windows_court": 1,
         "windows_street": 1,
         "balconies": 0,
         "loggias": 1,
         "condition": 2,
         "phones": 2,
         "building_id": 2265,
         "new": 0,
         "district": 11,
         "constructed": 2018,
         "material": 2,
         "stories": 25,
         "elevator_without": 0,
         "elevator_passenger": 1,
         "elevator_service": 1,
         "parking": 2,
         "garbage_chute": 1,
         "heating": 0,
         "distance": 0.2094926621173163,
         "street": "23-й км",
         "_deepnote_index_column": 7
        },
        {
         "id": 23293,
         "seller": 3,
         "area_total": 38,
         "area_kitchen": 7.5,
         "area_living": 19,
         "floor": 17,
         "rooms": 1,
         "layout": 1,
         "ceiling": 3,
         "bathrooms_shared": 1,
         "bathrooms_private": 0,
         "windows_court": 0,
         "windows_street": 1,
         "balconies": 1,
         "loggias": 0,
         "condition": 2,
         "phones": 1,
         "building_id": 6564,
         "new": 0,
         "district": 2,
         "constructed": 2009,
         "material": 3,
         "stories": 17,
         "elevator_without": 0,
         "elevator_passenger": 1,
         "elevator_service": 1,
         "parking": 1,
         "garbage_chute": 1,
         "heating": 0,
         "distance": 0.1257854701505763,
         "street": "улица Радужная",
         "_deepnote_index_column": 8
        },
        {
         "id": 23294,
         "seller": 1,
         "area_total": 23.29,
         "area_kitchen": 10.12,
         "area_living": 23.64,
         "floor": 11,
         "rooms": 1,
         "layout": 1,
         "ceiling": 3,
         "bathrooms_shared": 1,
         "bathrooms_private": 0,
         "windows_court": 1,
         "windows_street": 1,
         "balconies": 0,
         "loggias": 1,
         "condition": 0,
         "phones": 1,
         "building_id": 7066,
         "new": 0,
         "district": 11,
         "constructed": 2021,
         "material": 3,
         "stories": 15,
         "elevator_without": 1,
         "elevator_passenger": 1,
         "elevator_service": 1,
         "parking": 0,
         "garbage_chute": 0,
         "heating": 0,
         "distance": 0.2388759986687685,
         "street": "улица Василия Ощепкова",
         "_deepnote_index_column": 9
        },
        {
         "id": 23295,
         "seller": 1,
         "area_total": 31.9,
         "area_kitchen": 10.8,
         "area_living": 28.5,
         "floor": 17,
         "rooms": 1,
         "layout": 1,
         "ceiling": 3,
         "bathrooms_shared": 0,
         "bathrooms_private": 1,
         "windows_court": 1,
         "windows_street": 0,
         "balconies": 1,
         "loggias": 0,
         "condition": 0,
         "phones": 1,
         "building_id": 245,
         "new": 0,
         "district": 11,
         "constructed": 2016,
         "material": 2,
         "stories": 25,
         "elevator_without": 1,
         "elevator_passenger": 1,
         "elevator_service": 0,
         "parking": 1,
         "garbage_chute": 1,
         "heating": 0,
         "distance": 0.2100115698241386,
         "street": "улица Бачуринская",
         "_deepnote_index_column": 10
        },
        {
         "id": 23296,
         "seller": 3,
         "area_total": 38,
         "area_kitchen": 7.3,
         "area_living": 19,
         "floor": 17,
         "rooms": 1,
         "layout": 1,
         "ceiling": 3,
         "bathrooms_shared": 0,
         "bathrooms_private": 1,
         "windows_court": 1,
         "windows_street": 1,
         "balconies": 1,
         "loggias": 0,
         "condition": 1,
         "phones": 1,
         "building_id": 6564,
         "new": 0,
         "district": 2,
         "constructed": 2009,
         "material": 3,
         "stories": 17,
         "elevator_without": 0,
         "elevator_passenger": 1,
         "elevator_service": 1,
         "parking": 1,
         "garbage_chute": 1,
         "heating": 0,
         "distance": 0.1257854701505763,
         "street": "улица Радужная",
         "_deepnote_index_column": 11
        },
        {
         "id": 23297,
         "seller": 3,
         "area_total": 31.9,
         "area_kitchen": 9,
         "area_living": 12,
         "floor": 16,
         "rooms": 1,
         "layout": 1,
         "ceiling": 3,
         "bathrooms_shared": 1,
         "bathrooms_private": 0,
         "windows_court": 1,
         "windows_street": 0,
         "balconies": 1,
         "loggias": 0,
         "condition": 1,
         "phones": 1,
         "building_id": 1953,
         "new": 0,
         "district": 11,
         "constructed": 2014,
         "material": 2,
         "stories": 25,
         "elevator_without": 1,
         "elevator_passenger": 1,
         "elevator_service": 1,
         "parking": 1,
         "garbage_chute": 1,
         "heating": 0,
         "distance": 0.2208456951380283,
         "street": "улица Фитаревская",
         "_deepnote_index_column": 12
        },
        {
         "id": 23298,
         "seller": 1,
         "area_total": 47,
         "area_kitchen": 8,
         "area_living": 24,
         "floor": 6,
         "rooms": 2,
         "layout": 1,
         "ceiling": 3,
         "bathrooms_shared": 0,
         "bathrooms_private": 1,
         "windows_court": 1,
         "windows_street": 1,
         "balconies": 1,
         "loggias": 0,
         "condition": 0,
         "phones": 1,
         "building_id": 7255,
         "new": 0,
         "district": 11,
         "constructed": 2018,
         "material": 2,
         "stories": 13,
         "elevator_without": 1,
         "elevator_passenger": 1,
         "elevator_service": 1,
         "parking": 1,
         "garbage_chute": 0,
         "heating": 0,
         "distance": 0.2110057497913229,
         "street": "бульвар Веласкеса",
         "_deepnote_index_column": 13
        },
        {
         "id": 23299,
         "seller": 2,
         "area_total": 43,
         "area_kitchen": 7.5,
         "area_living": 19.76,
         "floor": 23,
         "rooms": 1,
         "layout": 1,
         "ceiling": 3,
         "bathrooms_shared": 1,
         "bathrooms_private": 0,
         "windows_court": 1,
         "windows_street": 0,
         "balconies": 0,
         "loggias": 1,
         "condition": 3,
         "phones": 1,
         "building_id": 4113,
         "new": 0,
         "district": 11,
         "constructed": 2016,
         "material": 3,
         "stories": 25,
         "elevator_without": 1,
         "elevator_passenger": 1,
         "elevator_service": 1,
         "parking": 1,
         "garbage_chute": 1,
         "heating": 0,
         "distance": 0.2806666497341589,
         "street": "улица Бианки",
         "_deepnote_index_column": 14
        },
        {
         "id": 23300,
         "seller": 3,
         "area_total": 46.74,
         "area_kitchen": 11.7,
         "area_living": 22.9,
         "floor": 4,
         "rooms": 1,
         "layout": 1,
         "ceiling": 3,
         "bathrooms_shared": 0,
         "bathrooms_private": 1,
         "windows_court": 1,
         "windows_street": 0,
         "balconies": 1,
         "loggias": 0,
         "condition": 1,
         "phones": 1,
         "building_id": 4972,
         "new": 0,
         "district": 11,
         "constructed": 2014,
         "material": 2,
         "stories": 8,
         "elevator_without": 0,
         "elevator_passenger": 1,
         "elevator_service": 1,
         "parking": 1,
         "garbage_chute": 1,
         "heating": 0,
         "distance": 0.2240352260025201,
         "street": "улица Лазурная",
         "_deepnote_index_column": 15
        }
       ],
       "rows_bottom": [
        {
         "id": 33206,
         "seller": 2,
         "area_total": 78.6,
         "area_kitchen": 22.8,
         "area_living": 33.2,
         "floor": 18,
         "rooms": 2,
         "layout": 1,
         "ceiling": 3,
         "bathrooms_shared": 0,
         "bathrooms_private": 2,
         "windows_court": 1,
         "windows_street": 0,
         "balconies": 1,
         "loggias": 0,
         "condition": 0,
         "phones": 1,
         "building_id": 2403,
         "new": 1,
         "district": 6,
         "constructed": 2018,
         "material": 2,
         "stories": 33,
         "elevator_without": 0,
         "elevator_passenger": 1,
         "elevator_service": 1,
         "parking": 0,
         "garbage_chute": 1,
         "heating": 0,
         "distance": 0.1080342730294371,
         "street": "Ленинский проспект",
         "_deepnote_index_column": 9921
        },
        {
         "id": 33207,
         "seller": 3,
         "area_total": 119.8,
         "area_kitchen": 19.6,
         "area_living": 54.6,
         "floor": 26,
         "rooms": 4,
         "layout": 1,
         "ceiling": 3,
         "bathrooms_shared": 0,
         "bathrooms_private": 1,
         "windows_court": 1,
         "windows_street": 0,
         "balconies": 0,
         "loggias": 1,
         "condition": 1,
         "phones": 1,
         "building_id": 2403,
         "new": 1,
         "district": 6,
         "constructed": 2018,
         "material": 2,
         "stories": 33,
         "elevator_without": 0,
         "elevator_passenger": 1,
         "elevator_service": 1,
         "parking": 0,
         "garbage_chute": 1,
         "heating": 0,
         "distance": 0.1080342730294371,
         "street": "Ленинский проспект",
         "_deepnote_index_column": 9922
        },
        {
         "id": 33208,
         "seller": 1,
         "area_total": 54.7,
         "area_kitchen": 5.5,
         "area_living": 36.9,
         "floor": 2,
         "rooms": 3,
         "layout": 1,
         "ceiling": 3,
         "bathrooms_shared": 1,
         "bathrooms_private": 0,
         "windows_court": 1,
         "windows_street": 0,
         "balconies": 1,
         "loggias": 0,
         "condition": 1,
         "phones": 1,
         "building_id": 5407,
         "new": 0,
         "district": 6,
         "constructed": 1963,
         "material": 4,
         "stories": 5,
         "elevator_without": 1,
         "elevator_passenger": 0,
         "elevator_service": 0,
         "parking": 1,
         "garbage_chute": 1,
         "heating": 0,
         "distance": 0.064851858485317,
         "street": "Большая Черемушкинская улица",
         "_deepnote_index_column": 9923
        },
        {
         "id": 33209,
         "seller": 1,
         "area_total": 94.68,
         "area_kitchen": 12.6,
         "area_living": 27.06,
         "floor": 35,
         "rooms": 3,
         "layout": 1,
         "ceiling": 3,
         "bathrooms_shared": 1,
         "bathrooms_private": 1,
         "windows_court": 1,
         "windows_street": 0,
         "balconies": 1,
         "loggias": 1,
         "condition": 1,
         "phones": 0,
         "building_id": 6044,
         "new": 1,
         "district": 7,
         "constructed": 2021,
         "material": 2,
         "stories": 39,
         "elevator_without": 0,
         "elevator_passenger": 1,
         "elevator_service": 1,
         "parking": 0,
         "garbage_chute": 1,
         "heating": 0,
         "distance": 0.1409299964982589,
         "street": "улица Лобачевского",
         "_deepnote_index_column": 9924
        },
        {
         "id": 33210,
         "seller": 3,
         "area_total": 78.6,
         "area_kitchen": 19.8,
         "area_living": 37.7,
         "floor": 19,
         "rooms": 2,
         "layout": 1,
         "ceiling": 3,
         "bathrooms_shared": 0,
         "bathrooms_private": 1,
         "windows_court": 1,
         "windows_street": 0,
         "balconies": 0,
         "loggias": 1,
         "condition": 1,
         "phones": 1,
         "building_id": 2403,
         "new": 1,
         "district": 6,
         "constructed": 2018,
         "material": 2,
         "stories": 33,
         "elevator_without": 0,
         "elevator_passenger": 1,
         "elevator_service": 1,
         "parking": 0,
         "garbage_chute": 1,
         "heating": 0,
         "distance": 0.1080342730294371,
         "street": "Ленинский проспект",
         "_deepnote_index_column": 9925
        },
        {
         "id": 33211,
         "seller": 3,
         "area_total": 90.5,
         "area_kitchen": 27.2,
         "area_living": 38.3,
         "floor": 12,
         "rooms": 2,
         "layout": 1,
         "ceiling": 3,
         "bathrooms_shared": 2,
         "bathrooms_private": 0,
         "windows_court": 1,
         "windows_street": 0,
         "balconies": 0,
         "loggias": 1,
         "condition": 1,
         "phones": 1,
         "building_id": 2051,
         "new": 1,
         "district": 7,
         "constructed": 2020,
         "material": 0,
         "stories": 23,
         "elevator_without": 0,
         "elevator_passenger": 1,
         "elevator_service": 1,
         "parking": 1,
         "garbage_chute": 1,
         "heating": 0,
         "distance": 0.164393454662891,
         "street": "Гжатская улица",
         "_deepnote_index_column": 9926
        },
        {
         "id": 33212,
         "seller": 1,
         "area_total": 73.4,
         "area_kitchen": 22.66,
         "area_living": 87.44000000000001,
         "floor": 9,
         "rooms": 2,
         "layout": 2,
         "ceiling": 0,
         "bathrooms_shared": 1,
         "bathrooms_private": 1,
         "windows_court": 1,
         "windows_street": 1,
         "balconies": 1,
         "loggias": 1,
         "condition": 1,
         "phones": 1,
         "building_id": 1480,
         "new": 1,
         "district": 7,
         "constructed": 2016,
         "material": 2,
         "stories": 24,
         "elevator_without": 0,
         "elevator_passenger": 1,
         "elevator_service": 1,
         "parking": 0,
         "garbage_chute": 1,
         "heating": 1,
         "distance": 0.225713422367829,
         "street": "Рублевское шоссе",
         "_deepnote_index_column": 9927
        },
        {
         "id": 33213,
         "seller": 1,
         "area_total": 97.4,
         "area_kitchen": 18.3,
         "area_living": 41.5,
         "floor": 11,
         "rooms": 2,
         "layout": 1,
         "ceiling": 3,
         "bathrooms_shared": 1,
         "bathrooms_private": 1,
         "windows_court": 1,
         "windows_street": 1,
         "balconies": 0,
         "loggias": 1,
         "condition": 2,
         "phones": 1,
         "building_id": 1344,
         "new": 0,
         "district": 0,
         "constructed": 2015,
         "material": 0,
         "stories": 12,
         "elevator_without": 1,
         "elevator_passenger": 1,
         "elevator_service": 1,
         "parking": 2,
         "garbage_chute": 1,
         "heating": 0,
         "distance": 0.0358822626934284,
         "street": "Малая Пироговская улица",
         "_deepnote_index_column": 9928
        },
        {
         "id": 33214,
         "seller": 1,
         "area_total": 303.5,
         "area_kitchen": 27,
         "area_living": 119.6,
         "floor": 2,
         "rooms": 5,
         "layout": 1,
         "ceiling": 3,
         "bathrooms_shared": 3,
         "bathrooms_private": 0,
         "windows_court": 1,
         "windows_street": 1,
         "balconies": 1,
         "loggias": 0,
         "condition": 2,
         "phones": 1,
         "building_id": 1344,
         "new": 0,
         "district": 0,
         "constructed": 2015,
         "material": 0,
         "stories": 12,
         "elevator_without": 1,
         "elevator_passenger": 1,
         "elevator_service": 1,
         "parking": 2,
         "garbage_chute": 1,
         "heating": 0,
         "distance": 0.0358822626934284,
         "street": "Малая Пироговская улица",
         "_deepnote_index_column": 9929
        },
        {
         "id": 33215,
         "seller": 1,
         "area_total": 181.2,
         "area_kitchen": 27,
         "area_living": 119.6,
         "floor": 11,
         "rooms": 4,
         "layout": 1,
         "ceiling": 3,
         "bathrooms_shared": 3,
         "bathrooms_private": 0,
         "windows_court": 1,
         "windows_street": 1,
         "balconies": 1,
         "loggias": 0,
         "condition": 2,
         "phones": 1,
         "building_id": 1344,
         "new": 0,
         "district": 0,
         "constructed": 2015,
         "material": 0,
         "stories": 12,
         "elevator_without": 1,
         "elevator_passenger": 1,
         "elevator_service": 1,
         "parking": 2,
         "garbage_chute": 1,
         "heating": 0,
         "distance": 0.0358822626934284,
         "street": "Малая Пироговская улица",
         "_deepnote_index_column": 9930
        },
        {
         "id": 33216,
         "seller": 2,
         "area_total": 82.5,
         "area_kitchen": 10.78,
         "area_living": 49,
         "floor": 5,
         "rooms": 2,
         "layout": 1,
         "ceiling": 3,
         "bathrooms_shared": 0,
         "bathrooms_private": 2,
         "windows_court": 1,
         "windows_street": 0,
         "balconies": 0,
         "loggias": 1,
         "condition": 0,
         "phones": 1,
         "building_id": 8510,
         "new": 0,
         "district": 0,
         "constructed": 2017,
         "material": 2,
         "stories": 17,
         "elevator_without": 1,
         "elevator_passenger": 0,
         "elevator_service": 0,
         "parking": 2,
         "garbage_chute": 1,
         "heating": 0,
         "distance": 0.0507858663901678,
         "street": "улица Сергея Макеева",
         "_deepnote_index_column": 9931
        },
        {
         "id": 33217,
         "seller": 3,
         "area_total": 106,
         "area_kitchen": 19.9,
         "area_living": 56.7,
         "floor": 16,
         "rooms": 3,
         "layout": 1,
         "ceiling": 3,
         "bathrooms_shared": 1,
         "bathrooms_private": 0,
         "windows_court": 1,
         "windows_street": 0,
         "balconies": 0,
         "loggias": 1,
         "condition": 1,
         "phones": 1,
         "building_id": 4252,
         "new": 1,
         "district": 8,
         "constructed": 2020,
         "material": 2,
         "stories": 20,
         "elevator_without": 0,
         "elevator_passenger": 1,
         "elevator_service": 1,
         "parking": 0,
         "garbage_chute": 1,
         "heating": 0,
         "distance": 0.1489345410709012,
         "street": "улица Паршина",
         "_deepnote_index_column": 9932
        },
        {
         "id": 33218,
         "seller": 1,
         "area_total": 82,
         "area_kitchen": 8.879999999999999,
         "area_living": 33.22,
         "floor": 3,
         "rooms": 3,
         "layout": 1,
         "ceiling": 3,
         "bathrooms_shared": 2,
         "bathrooms_private": 0,
         "windows_court": 1,
         "windows_street": 0,
         "balconies": 1,
         "loggias": 0,
         "condition": 1,
         "phones": 2,
         "building_id": 7380,
         "new": 1,
         "district": 7,
         "constructed": 2021,
         "material": 2,
         "stories": 20,
         "elevator_without": 0,
         "elevator_passenger": 1,
         "elevator_service": 1,
         "parking": 1,
         "garbage_chute": 1,
         "heating": 0,
         "distance": 0.0837560381166623,
         "street": "Западный Порт ЖК",
         "_deepnote_index_column": 9933
        },
        {
         "id": 33219,
         "seller": 1,
         "area_total": 49.3,
         "area_kitchen": 22.06,
         "area_living": 78.22,
         "floor": 15,
         "rooms": 1,
         "layout": 1,
         "ceiling": 0,
         "bathrooms_shared": 1,
         "bathrooms_private": 1,
         "windows_court": 1,
         "windows_street": 1,
         "balconies": 1,
         "loggias": 1,
         "condition": 1,
         "phones": 1,
         "building_id": 1480,
         "new": 1,
         "district": 7,
         "constructed": 2016,
         "material": 2,
         "stories": 24,
         "elevator_without": 0,
         "elevator_passenger": 1,
         "elevator_service": 1,
         "parking": 0,
         "garbage_chute": 1,
         "heating": 1,
         "distance": 0.225713422367829,
         "street": "Рублевское шоссе",
         "_deepnote_index_column": 9934
        },
        {
         "id": 33220,
         "seller": 1,
         "area_total": 38.8,
         "area_kitchen": 10.5,
         "area_living": 15.1,
         "floor": 14,
         "rooms": 1,
         "layout": 1,
         "ceiling": 3,
         "bathrooms_shared": 1,
         "bathrooms_private": 0,
         "windows_court": 0,
         "windows_street": 1,
         "balconies": 0,
         "loggias": 1,
         "condition": 0,
         "phones": 2,
         "building_id": 2154,
         "new": 0,
         "district": 5,
         "constructed": 2019,
         "material": 1,
         "stories": 14,
         "elevator_without": 1,
         "elevator_passenger": 1,
         "elevator_service": 1,
         "parking": 0,
         "garbage_chute": 1,
         "heating": 0,
         "distance": 0.062356064163796,
         "street": "улица Архитектора Щусева",
         "_deepnote_index_column": 9935
        },
        {
         "id": 33221,
         "seller": 1,
         "area_total": 71.5,
         "area_kitchen": 7,
         "area_living": 49,
         "floor": 2,
         "rooms": 3,
         "layout": 1,
         "ceiling": 3,
         "bathrooms_shared": 0,
         "bathrooms_private": 1,
         "windows_court": 1,
         "windows_street": 0,
         "balconies": 1,
         "loggias": 0,
         "condition": 2,
         "phones": 0,
         "building_id": 3007,
         "new": 0,
         "district": 10,
         "constructed": 1993,
         "material": 2,
         "stories": 2,
         "elevator_without": 1,
         "elevator_passenger": 1,
         "elevator_service": 1,
         "parking": 1,
         "garbage_chute": 1,
         "heating": 0,
         "distance": 0.4070654756534905,
         "street": "Ильичевка хут.",
         "_deepnote_index_column": 9936
        }
       ]
      },
      "text/plain": "         id  seller  area_total  area_kitchen  area_living  floor  rooms  \\\n0     23285       3        71.4         13.16        29.44      2      1   \n1     23286       1        54.0          4.00        50.00      4      1   \n2     23287       3        39.4         19.60        11.20     10      1   \n3     23288       3        60.9         15.68        55.56      5      2   \n4     23289       3        34.0          9.00        17.00     14      1   \n...     ...     ...         ...           ...          ...    ...    ...   \n9932  33217       3       106.0         19.90        56.70     16      3   \n9933  33218       1        82.0          8.88        33.22      3      3   \n9934  33219       1        49.3         22.06        78.22     15      1   \n9935  33220       1        38.8         10.50        15.10     14      1   \n9936  33221       1        71.5          7.00        49.00      2      3   \n\n      layout  ceiling  bathrooms_shared  ...  material  stories  \\\n0          1        3                 1  ...         2       20   \n1          1        3                 1  ...         2       15   \n2          1        3                 1  ...         3        9   \n3          1        3                 1  ...         2       17   \n4          1        3                 1  ...         2       17   \n...      ...      ...               ...  ...       ...      ...   \n9932       1        3                 1  ...         2       20   \n9933       1        3                 2  ...         2       20   \n9934       1        0                 1  ...         2       24   \n9935       1        3                 1  ...         1       14   \n9936       1        3                 0  ...         2        2   \n\n      elevator_without  elevator_passenger  elevator_service  parking  \\\n0                    1                   1                 1        1   \n1                    0                   1                 1        0   \n2                    0                   1                 1        1   \n3                    1                   1                 0        0   \n4                    0                   1                 1        1   \n...                ...                 ...               ...      ...   \n9932                 0                   1                 1        0   \n9933                 0                   1                 1        1   \n9934                 0                   1                 1        0   \n9935                 1                   1                 1        0   \n9936                 1                   1                 1        1   \n\n      garbage_chute  heating  distance                      street  \n0                 1        0  0.052411     2-я Черногрязская улица  \n1                 0        0  0.216436            улица Сервантеса  \n2                 1        0  0.228879           Саларьево Парк ЖК  \n3                 1        3  0.217394  улица Александры Монаховой  \n4                 1        0  0.345584   улица 3-я Нововатутинская  \n...             ...      ...       ...                         ...  \n9932              1        0  0.148935               улица Паршина  \n9933              1        0  0.083756            Западный Порт ЖК  \n9934              1        1  0.225713            Рублевское шоссе  \n9935              1        0  0.062356    улица Архитектора Щусева  \n9936              1        0  0.407065              Ильичевка хут.  \n\n[9937 rows x 31 columns]",
      "text/html": "<div>\n<style scoped>\n    .dataframe tbody tr th:only-of-type {\n        vertical-align: middle;\n    }\n\n    .dataframe tbody tr th {\n        vertical-align: top;\n    }\n\n    .dataframe thead th {\n        text-align: right;\n    }\n</style>\n<table border=\"1\" class=\"dataframe\">\n  <thead>\n    <tr style=\"text-align: right;\">\n      <th></th>\n      <th>id</th>\n      <th>seller</th>\n      <th>area_total</th>\n      <th>area_kitchen</th>\n      <th>area_living</th>\n      <th>floor</th>\n      <th>rooms</th>\n      <th>layout</th>\n      <th>ceiling</th>\n      <th>bathrooms_shared</th>\n      <th>...</th>\n      <th>material</th>\n      <th>stories</th>\n      <th>elevator_without</th>\n      <th>elevator_passenger</th>\n      <th>elevator_service</th>\n      <th>parking</th>\n      <th>garbage_chute</th>\n      <th>heating</th>\n      <th>distance</th>\n      <th>street</th>\n    </tr>\n  </thead>\n  <tbody>\n    <tr>\n      <th>0</th>\n      <td>23285</td>\n      <td>3</td>\n      <td>71.4</td>\n      <td>13.16</td>\n      <td>29.44</td>\n      <td>2</td>\n      <td>1</td>\n      <td>1</td>\n      <td>3</td>\n      <td>1</td>\n      <td>...</td>\n      <td>2</td>\n      <td>20</td>\n      <td>1</td>\n      <td>1</td>\n      <td>1</td>\n      <td>1</td>\n      <td>1</td>\n      <td>0</td>\n      <td>0.052411</td>\n      <td>2-я Черногрязская улица</td>\n    </tr>\n    <tr>\n      <th>1</th>\n      <td>23286</td>\n      <td>1</td>\n      <td>54.0</td>\n      <td>4.00</td>\n      <td>50.00</td>\n      <td>4</td>\n      <td>1</td>\n      <td>1</td>\n      <td>3</td>\n      <td>1</td>\n      <td>...</td>\n      <td>2</td>\n      <td>15</td>\n      <td>0</td>\n      <td>1</td>\n      <td>1</td>\n      <td>0</td>\n      <td>0</td>\n      <td>0</td>\n      <td>0.216436</td>\n      <td>улица Сервантеса</td>\n    </tr>\n    <tr>\n      <th>2</th>\n      <td>23287</td>\n      <td>3</td>\n      <td>39.4</td>\n      <td>19.60</td>\n      <td>11.20</td>\n      <td>10</td>\n      <td>1</td>\n      <td>1</td>\n      <td>3</td>\n      <td>1</td>\n      <td>...</td>\n      <td>3</td>\n      <td>9</td>\n      <td>0</td>\n      <td>1</td>\n      <td>1</td>\n      <td>1</td>\n      <td>1</td>\n      <td>0</td>\n      <td>0.228879</td>\n      <td>Саларьево Парк ЖК</td>\n    </tr>\n    <tr>\n      <th>3</th>\n      <td>23288</td>\n      <td>3</td>\n      <td>60.9</td>\n      <td>15.68</td>\n      <td>55.56</td>\n      <td>5</td>\n      <td>2</td>\n      <td>1</td>\n      <td>3</td>\n      <td>1</td>\n      <td>...</td>\n      <td>2</td>\n      <td>17</td>\n      <td>1</td>\n      <td>1</td>\n      <td>0</td>\n      <td>0</td>\n      <td>1</td>\n      <td>3</td>\n      <td>0.217394</td>\n      <td>улица Александры Монаховой</td>\n    </tr>\n    <tr>\n      <th>4</th>\n      <td>23289</td>\n      <td>3</td>\n      <td>34.0</td>\n      <td>9.00</td>\n      <td>17.00</td>\n      <td>14</td>\n      <td>1</td>\n      <td>1</td>\n      <td>3</td>\n      <td>1</td>\n      <td>...</td>\n      <td>2</td>\n      <td>17</td>\n      <td>0</td>\n      <td>1</td>\n      <td>1</td>\n      <td>1</td>\n      <td>1</td>\n      <td>0</td>\n      <td>0.345584</td>\n      <td>улица 3-я Нововатутинская</td>\n    </tr>\n    <tr>\n      <th>...</th>\n      <td>...</td>\n      <td>...</td>\n      <td>...</td>\n      <td>...</td>\n      <td>...</td>\n      <td>...</td>\n      <td>...</td>\n      <td>...</td>\n      <td>...</td>\n      <td>...</td>\n      <td>...</td>\n      <td>...</td>\n      <td>...</td>\n      <td>...</td>\n      <td>...</td>\n      <td>...</td>\n      <td>...</td>\n      <td>...</td>\n      <td>...</td>\n      <td>...</td>\n      <td>...</td>\n    </tr>\n    <tr>\n      <th>9932</th>\n      <td>33217</td>\n      <td>3</td>\n      <td>106.0</td>\n      <td>19.90</td>\n      <td>56.70</td>\n      <td>16</td>\n      <td>3</td>\n      <td>1</td>\n      <td>3</td>\n      <td>1</td>\n      <td>...</td>\n      <td>2</td>\n      <td>20</td>\n      <td>0</td>\n      <td>1</td>\n      <td>1</td>\n      <td>0</td>\n      <td>1</td>\n      <td>0</td>\n      <td>0.148935</td>\n      <td>улица Паршина</td>\n    </tr>\n    <tr>\n      <th>9933</th>\n      <td>33218</td>\n      <td>1</td>\n      <td>82.0</td>\n      <td>8.88</td>\n      <td>33.22</td>\n      <td>3</td>\n      <td>3</td>\n      <td>1</td>\n      <td>3</td>\n      <td>2</td>\n      <td>...</td>\n      <td>2</td>\n      <td>20</td>\n      <td>0</td>\n      <td>1</td>\n      <td>1</td>\n      <td>1</td>\n      <td>1</td>\n      <td>0</td>\n      <td>0.083756</td>\n      <td>Западный Порт ЖК</td>\n    </tr>\n    <tr>\n      <th>9934</th>\n      <td>33219</td>\n      <td>1</td>\n      <td>49.3</td>\n      <td>22.06</td>\n      <td>78.22</td>\n      <td>15</td>\n      <td>1</td>\n      <td>1</td>\n      <td>0</td>\n      <td>1</td>\n      <td>...</td>\n      <td>2</td>\n      <td>24</td>\n      <td>0</td>\n      <td>1</td>\n      <td>1</td>\n      <td>0</td>\n      <td>1</td>\n      <td>1</td>\n      <td>0.225713</td>\n      <td>Рублевское шоссе</td>\n    </tr>\n    <tr>\n      <th>9935</th>\n      <td>33220</td>\n      <td>1</td>\n      <td>38.8</td>\n      <td>10.50</td>\n      <td>15.10</td>\n      <td>14</td>\n      <td>1</td>\n      <td>1</td>\n      <td>3</td>\n      <td>1</td>\n      <td>...</td>\n      <td>1</td>\n      <td>14</td>\n      <td>1</td>\n      <td>1</td>\n      <td>1</td>\n      <td>0</td>\n      <td>1</td>\n      <td>0</td>\n      <td>0.062356</td>\n      <td>улица Архитектора Щусева</td>\n    </tr>\n    <tr>\n      <th>9936</th>\n      <td>33221</td>\n      <td>1</td>\n      <td>71.5</td>\n      <td>7.00</td>\n      <td>49.00</td>\n      <td>2</td>\n      <td>3</td>\n      <td>1</td>\n      <td>3</td>\n      <td>0</td>\n      <td>...</td>\n      <td>2</td>\n      <td>2</td>\n      <td>1</td>\n      <td>1</td>\n      <td>1</td>\n      <td>1</td>\n      <td>1</td>\n      <td>0</td>\n      <td>0.407065</td>\n      <td>Ильичевка хут.</td>\n    </tr>\n  </tbody>\n</table>\n<p>9937 rows × 31 columns</p>\n</div>"
     },
     "metadata": {}
    }
   ],
   "execution_count": null
  },
  {
   "cell_type": "code",
   "metadata": {
    "tags": [],
    "deepnote_to_be_reexecuted": false,
    "source_hash": "7f143d93",
    "execution_start": 1637349125046,
    "execution_millis": 7,
    "deepnote_output_heights": [
     40
    ],
    "cell_id": "00004-1c149554-1e5c-42f9-8c67-a8b71b4ea652",
    "deepnote_cell_type": "code"
   },
   "source": "#y1 = df_train['price']\n\nX1_test = df_test.drop(['id', 'bathrooms_private', 'loggias', 'seller', 'bathrooms_shared', 'elevator_without', 'ceiling', 'material', 'constructed'], axis=1)\n\nX1_test_area_total = X1_test.area_total.values # Save area total values from training set so that we can use feature engineering on price/area as measure\ndf_train['price/area'] = df_train['price']/df_train['area_total']\ny1 = df_train['price/area'] # Don't drop area here because we need it for split\n\nX1 = df_train.drop(['price', 'id', 'price/area', 'bathrooms_private', 'loggias', 'seller', 'bathrooms_shared', 'elevator_without', 'ceiling', 'material', 'constructed'], axis=1)",
   "outputs": [],
   "execution_count": null
  },
  {
   "cell_type": "code",
   "metadata": {
    "tags": [],
    "deepnote_to_be_reexecuted": false,
    "source_hash": "8e89e5b2",
    "execution_start": 1637349125053,
    "execution_millis": 87,
    "cell_id": "00006-0b544c69-147e-47ee-91e1-d014f5f7b5d7",
    "deepnote_output_heights": [
     21
    ],
    "deepnote_cell_type": "code"
   },
   "source": "X_train, X_val, y_train, y_val = train_test_split(X1, y1, test_size=0.2, random_state=1, shuffle=True)\nX_train.shape, X_val.shape, y_train.shape,y_val.shape, X1_test.shape\n",
   "outputs": [
    {
     "output_type": "execute_result",
     "execution_count": 7,
     "data": {
      "text/plain": "((18589, 22), (4648, 22), (18589,), (4648,), (9937, 22))"
     },
     "metadata": {}
    }
   ],
   "execution_count": null
  },
  {
   "cell_type": "code",
   "metadata": {
    "tags": [],
    "deepnote_to_be_reexecuted": false,
    "source_hash": "24b17c34",
    "execution_start": 1637349125155,
    "execution_millis": 21,
    "cell_id": "00008-83df9077-0c4d-476f-8f32-5b7ccbbed623",
    "deepnote_cell_type": "code"
   },
   "source": "area_total_train = X_train.area_total.values\narea_total_val = X_val.area_total.values\nX_train = X_train.drop(['area_total'], axis=1)\nX_val = X_val.drop(['area_total'], axis=1)\nX_train.head()\n\n\n#seller-0, rooms-3, layout-4, ceiling-5, bathrooms_shared-6, bathrooms_private-7, windows_court-8, windows_street-9, balconies-10, loggias-11, condition-12, phones-13, building_id-14, new-15, district-16, constructed-17, material-18, elevator_without-19, elevator_passenger-20, elevator_service-21, parking-22, garbage_chute-23, heating-24, street-25",
   "outputs": [
    {
     "output_type": "execute_result",
     "execution_count": 8,
     "data": {
      "application/vnd.deepnote.dataframe.v2+json": {
       "row_count": 5,
       "column_count": 21,
       "columns": [
        {
         "name": "area_kitchen",
         "dtype": "float64",
         "stats": {
          "unique_count": 5,
          "nan_count": 0,
          "min": "6.0",
          "max": "16.1",
          "histogram": [
           {
            "bin_start": 6,
            "bin_end": 7.01,
            "count": 1
           },
           {
            "bin_start": 7.01,
            "bin_end": 8.02,
            "count": 1
           },
           {
            "bin_start": 8.02,
            "bin_end": 9.030000000000001,
            "count": 0
           },
           {
            "bin_start": 9.030000000000001,
            "bin_end": 10.040000000000001,
            "count": 0
           },
           {
            "bin_start": 10.040000000000001,
            "bin_end": 11.05,
            "count": 0
           },
           {
            "bin_start": 11.05,
            "bin_end": 12.060000000000002,
            "count": 0
           },
           {
            "bin_start": 12.060000000000002,
            "bin_end": 13.070000000000002,
            "count": 1
           },
           {
            "bin_start": 13.070000000000002,
            "bin_end": 14.080000000000002,
            "count": 0
           },
           {
            "bin_start": 14.080000000000002,
            "bin_end": 15.090000000000002,
            "count": 1
           },
           {
            "bin_start": 15.090000000000002,
            "bin_end": 16.1,
            "count": 1
           }
          ]
         }
        },
        {
         "name": "area_living",
         "dtype": "float64",
         "stats": {
          "unique_count": 5,
          "nan_count": 0,
          "min": "15.7",
          "max": "33.0",
          "histogram": [
           {
            "bin_start": 15.7,
            "bin_end": 17.43,
            "count": 1
           },
           {
            "bin_start": 17.43,
            "bin_end": 19.16,
            "count": 0
           },
           {
            "bin_start": 19.16,
            "bin_end": 20.89,
            "count": 0
           },
           {
            "bin_start": 20.89,
            "bin_end": 22.619999999999997,
            "count": 0
           },
           {
            "bin_start": 22.619999999999997,
            "bin_end": 24.35,
            "count": 0
           },
           {
            "bin_start": 24.35,
            "bin_end": 26.08,
            "count": 0
           },
           {
            "bin_start": 26.08,
            "bin_end": 27.81,
            "count": 1
           },
           {
            "bin_start": 27.81,
            "bin_end": 29.54,
            "count": 1
           },
           {
            "bin_start": 29.54,
            "bin_end": 31.27,
            "count": 1
           },
           {
            "bin_start": 31.27,
            "bin_end": 33,
            "count": 1
           }
          ]
         }
        },
        {
         "name": "floor",
         "dtype": "int64",
         "stats": {
          "unique_count": 4,
          "nan_count": 0,
          "min": "3",
          "max": "18",
          "histogram": [
           {
            "bin_start": 3,
            "bin_end": 4.5,
            "count": 2
           },
           {
            "bin_start": 4.5,
            "bin_end": 6,
            "count": 0
           },
           {
            "bin_start": 6,
            "bin_end": 7.5,
            "count": 0
           },
           {
            "bin_start": 7.5,
            "bin_end": 9,
            "count": 0
           },
           {
            "bin_start": 9,
            "bin_end": 10.5,
            "count": 1
           },
           {
            "bin_start": 10.5,
            "bin_end": 12,
            "count": 0
           },
           {
            "bin_start": 12,
            "bin_end": 13.5,
            "count": 0
           },
           {
            "bin_start": 13.5,
            "bin_end": 15,
            "count": 1
           },
           {
            "bin_start": 15,
            "bin_end": 16.5,
            "count": 0
           },
           {
            "bin_start": 16.5,
            "bin_end": 18,
            "count": 1
           }
          ]
         }
        },
        {
         "name": "rooms",
         "dtype": "int64",
         "stats": {
          "unique_count": 2,
          "nan_count": 0,
          "min": "1",
          "max": "2",
          "histogram": [
           {
            "bin_start": 1,
            "bin_end": 1.1,
            "count": 1
           },
           {
            "bin_start": 1.1,
            "bin_end": 1.2,
            "count": 0
           },
           {
            "bin_start": 1.2,
            "bin_end": 1.3,
            "count": 0
           },
           {
            "bin_start": 1.3,
            "bin_end": 1.4,
            "count": 0
           },
           {
            "bin_start": 1.4,
            "bin_end": 1.5,
            "count": 0
           },
           {
            "bin_start": 1.5,
            "bin_end": 1.6,
            "count": 0
           },
           {
            "bin_start": 1.6,
            "bin_end": 1.7000000000000002,
            "count": 0
           },
           {
            "bin_start": 1.7000000000000002,
            "bin_end": 1.8,
            "count": 0
           },
           {
            "bin_start": 1.8,
            "bin_end": 1.9,
            "count": 0
           },
           {
            "bin_start": 1.9,
            "bin_end": 2,
            "count": 4
           }
          ]
         }
        },
        {
         "name": "layout",
         "dtype": "int64",
         "stats": {
          "unique_count": 1,
          "nan_count": 0,
          "min": "1",
          "max": "1",
          "histogram": [
           {
            "bin_start": 0.5,
            "bin_end": 0.6,
            "count": 0
           },
           {
            "bin_start": 0.6,
            "bin_end": 0.7,
            "count": 0
           },
           {
            "bin_start": 0.7,
            "bin_end": 0.8,
            "count": 0
           },
           {
            "bin_start": 0.8,
            "bin_end": 0.9,
            "count": 0
           },
           {
            "bin_start": 0.9,
            "bin_end": 1,
            "count": 0
           },
           {
            "bin_start": 1,
            "bin_end": 1.1,
            "count": 5
           },
           {
            "bin_start": 1.1,
            "bin_end": 1.2000000000000002,
            "count": 0
           },
           {
            "bin_start": 1.2000000000000002,
            "bin_end": 1.3,
            "count": 0
           },
           {
            "bin_start": 1.3,
            "bin_end": 1.4,
            "count": 0
           },
           {
            "bin_start": 1.4,
            "bin_end": 1.5,
            "count": 0
           }
          ]
         }
        },
        {
         "name": "windows_court",
         "dtype": "int64",
         "stats": {
          "unique_count": 2,
          "nan_count": 0,
          "min": "0",
          "max": "1",
          "histogram": [
           {
            "bin_start": 0,
            "bin_end": 0.1,
            "count": 1
           },
           {
            "bin_start": 0.1,
            "bin_end": 0.2,
            "count": 0
           },
           {
            "bin_start": 0.2,
            "bin_end": 0.30000000000000004,
            "count": 0
           },
           {
            "bin_start": 0.30000000000000004,
            "bin_end": 0.4,
            "count": 0
           },
           {
            "bin_start": 0.4,
            "bin_end": 0.5,
            "count": 0
           },
           {
            "bin_start": 0.5,
            "bin_end": 0.6000000000000001,
            "count": 0
           },
           {
            "bin_start": 0.6000000000000001,
            "bin_end": 0.7000000000000001,
            "count": 0
           },
           {
            "bin_start": 0.7000000000000001,
            "bin_end": 0.8,
            "count": 0
           },
           {
            "bin_start": 0.8,
            "bin_end": 0.9,
            "count": 0
           },
           {
            "bin_start": 0.9,
            "bin_end": 1,
            "count": 4
           }
          ]
         }
        },
        {
         "name": "windows_street",
         "dtype": "int64",
         "stats": {
          "unique_count": 2,
          "nan_count": 0,
          "min": "0",
          "max": "1",
          "histogram": [
           {
            "bin_start": 0,
            "bin_end": 0.1,
            "count": 3
           },
           {
            "bin_start": 0.1,
            "bin_end": 0.2,
            "count": 0
           },
           {
            "bin_start": 0.2,
            "bin_end": 0.30000000000000004,
            "count": 0
           },
           {
            "bin_start": 0.30000000000000004,
            "bin_end": 0.4,
            "count": 0
           },
           {
            "bin_start": 0.4,
            "bin_end": 0.5,
            "count": 0
           },
           {
            "bin_start": 0.5,
            "bin_end": 0.6000000000000001,
            "count": 0
           },
           {
            "bin_start": 0.6000000000000001,
            "bin_end": 0.7000000000000001,
            "count": 0
           },
           {
            "bin_start": 0.7000000000000001,
            "bin_end": 0.8,
            "count": 0
           },
           {
            "bin_start": 0.8,
            "bin_end": 0.9,
            "count": 0
           },
           {
            "bin_start": 0.9,
            "bin_end": 1,
            "count": 2
           }
          ]
         }
        },
        {
         "name": "balconies",
         "dtype": "int64",
         "stats": {
          "unique_count": 2,
          "nan_count": 0,
          "min": "0",
          "max": "1",
          "histogram": [
           {
            "bin_start": 0,
            "bin_end": 0.1,
            "count": 1
           },
           {
            "bin_start": 0.1,
            "bin_end": 0.2,
            "count": 0
           },
           {
            "bin_start": 0.2,
            "bin_end": 0.30000000000000004,
            "count": 0
           },
           {
            "bin_start": 0.30000000000000004,
            "bin_end": 0.4,
            "count": 0
           },
           {
            "bin_start": 0.4,
            "bin_end": 0.5,
            "count": 0
           },
           {
            "bin_start": 0.5,
            "bin_end": 0.6000000000000001,
            "count": 0
           },
           {
            "bin_start": 0.6000000000000001,
            "bin_end": 0.7000000000000001,
            "count": 0
           },
           {
            "bin_start": 0.7000000000000001,
            "bin_end": 0.8,
            "count": 0
           },
           {
            "bin_start": 0.8,
            "bin_end": 0.9,
            "count": 0
           },
           {
            "bin_start": 0.9,
            "bin_end": 1,
            "count": 4
           }
          ]
         }
        },
        {
         "name": "condition",
         "dtype": "int64",
         "stats": {
          "unique_count": 2,
          "nan_count": 0,
          "min": "0",
          "max": "1",
          "histogram": [
           {
            "bin_start": 0,
            "bin_end": 0.1,
            "count": 2
           },
           {
            "bin_start": 0.1,
            "bin_end": 0.2,
            "count": 0
           },
           {
            "bin_start": 0.2,
            "bin_end": 0.30000000000000004,
            "count": 0
           },
           {
            "bin_start": 0.30000000000000004,
            "bin_end": 0.4,
            "count": 0
           },
           {
            "bin_start": 0.4,
            "bin_end": 0.5,
            "count": 0
           },
           {
            "bin_start": 0.5,
            "bin_end": 0.6000000000000001,
            "count": 0
           },
           {
            "bin_start": 0.6000000000000001,
            "bin_end": 0.7000000000000001,
            "count": 0
           },
           {
            "bin_start": 0.7000000000000001,
            "bin_end": 0.8,
            "count": 0
           },
           {
            "bin_start": 0.8,
            "bin_end": 0.9,
            "count": 0
           },
           {
            "bin_start": 0.9,
            "bin_end": 1,
            "count": 3
           }
          ]
         }
        },
        {
         "name": "phones",
         "dtype": "int64",
         "stats": {
          "unique_count": 2,
          "nan_count": 0,
          "min": "1",
          "max": "2",
          "histogram": [
           {
            "bin_start": 1,
            "bin_end": 1.1,
            "count": 4
           },
           {
            "bin_start": 1.1,
            "bin_end": 1.2,
            "count": 0
           },
           {
            "bin_start": 1.2,
            "bin_end": 1.3,
            "count": 0
           },
           {
            "bin_start": 1.3,
            "bin_end": 1.4,
            "count": 0
           },
           {
            "bin_start": 1.4,
            "bin_end": 1.5,
            "count": 0
           },
           {
            "bin_start": 1.5,
            "bin_end": 1.6,
            "count": 0
           },
           {
            "bin_start": 1.6,
            "bin_end": 1.7000000000000002,
            "count": 0
           },
           {
            "bin_start": 1.7000000000000002,
            "bin_end": 1.8,
            "count": 0
           },
           {
            "bin_start": 1.8,
            "bin_end": 1.9,
            "count": 0
           },
           {
            "bin_start": 1.9,
            "bin_end": 2,
            "count": 1
           }
          ]
         }
        },
        {
         "name": "building_id",
         "dtype": "int64",
         "stats": {
          "unique_count": 5,
          "nan_count": 0,
          "min": "528",
          "max": "9636",
          "histogram": [
           {
            "bin_start": 528,
            "bin_end": 1438.8,
            "count": 2
           },
           {
            "bin_start": 1438.8,
            "bin_end": 2349.6,
            "count": 1
           },
           {
            "bin_start": 2349.6,
            "bin_end": 3260.3999999999996,
            "count": 0
           },
           {
            "bin_start": 3260.3999999999996,
            "bin_end": 4171.2,
            "count": 0
           },
           {
            "bin_start": 4171.2,
            "bin_end": 5082,
            "count": 0
           },
           {
            "bin_start": 5082,
            "bin_end": 5992.799999999999,
            "count": 0
           },
           {
            "bin_start": 5992.799999999999,
            "bin_end": 6903.599999999999,
            "count": 0
           },
           {
            "bin_start": 6903.599999999999,
            "bin_end": 7814.4,
            "count": 1
           },
           {
            "bin_start": 7814.4,
            "bin_end": 8725.199999999999,
            "count": 0
           },
           {
            "bin_start": 8725.199999999999,
            "bin_end": 9636,
            "count": 1
           }
          ]
         }
        },
        {
         "name": "new",
         "dtype": "int64",
         "stats": {
          "unique_count": 2,
          "nan_count": 0,
          "min": "0",
          "max": "1",
          "histogram": [
           {
            "bin_start": 0,
            "bin_end": 0.1,
            "count": 3
           },
           {
            "bin_start": 0.1,
            "bin_end": 0.2,
            "count": 0
           },
           {
            "bin_start": 0.2,
            "bin_end": 0.30000000000000004,
            "count": 0
           },
           {
            "bin_start": 0.30000000000000004,
            "bin_end": 0.4,
            "count": 0
           },
           {
            "bin_start": 0.4,
            "bin_end": 0.5,
            "count": 0
           },
           {
            "bin_start": 0.5,
            "bin_end": 0.6000000000000001,
            "count": 0
           },
           {
            "bin_start": 0.6000000000000001,
            "bin_end": 0.7000000000000001,
            "count": 0
           },
           {
            "bin_start": 0.7000000000000001,
            "bin_end": 0.8,
            "count": 0
           },
           {
            "bin_start": 0.8,
            "bin_end": 0.9,
            "count": 0
           },
           {
            "bin_start": 0.9,
            "bin_end": 1,
            "count": 2
           }
          ]
         }
        },
        {
         "name": "district",
         "dtype": "int64",
         "stats": {
          "unique_count": 5,
          "nan_count": 0,
          "min": "2",
          "max": "11",
          "histogram": [
           {
            "bin_start": 2,
            "bin_end": 2.9,
            "count": 1
           },
           {
            "bin_start": 2.9,
            "bin_end": 3.8,
            "count": 0
           },
           {
            "bin_start": 3.8,
            "bin_end": 4.7,
            "count": 1
           },
           {
            "bin_start": 4.7,
            "bin_end": 5.6,
            "count": 0
           },
           {
            "bin_start": 5.6,
            "bin_end": 6.5,
            "count": 1
           },
           {
            "bin_start": 6.5,
            "bin_end": 7.4,
            "count": 0
           },
           {
            "bin_start": 7.4,
            "bin_end": 8.3,
            "count": 1
           },
           {
            "bin_start": 8.3,
            "bin_end": 9.2,
            "count": 0
           },
           {
            "bin_start": 9.2,
            "bin_end": 10.1,
            "count": 0
           },
           {
            "bin_start": 10.1,
            "bin_end": 11,
            "count": 1
           }
          ]
         }
        },
        {
         "name": "stories",
         "dtype": "int64",
         "stats": {
          "unique_count": 4,
          "nan_count": 0,
          "min": "9",
          "max": "20",
          "histogram": [
           {
            "bin_start": 9,
            "bin_end": 10.1,
            "count": 1
           },
           {
            "bin_start": 10.1,
            "bin_end": 11.2,
            "count": 0
           },
           {
            "bin_start": 11.2,
            "bin_end": 12.3,
            "count": 0
           },
           {
            "bin_start": 12.3,
            "bin_end": 13.4,
            "count": 0
           },
           {
            "bin_start": 13.4,
            "bin_end": 14.5,
            "count": 1
           },
           {
            "bin_start": 14.5,
            "bin_end": 15.600000000000001,
            "count": 0
           },
           {
            "bin_start": 15.600000000000001,
            "bin_end": 16.700000000000003,
            "count": 0
           },
           {
            "bin_start": 16.700000000000003,
            "bin_end": 17.8,
            "count": 1
           },
           {
            "bin_start": 17.8,
            "bin_end": 18.9,
            "count": 0
           },
           {
            "bin_start": 18.9,
            "bin_end": 20,
            "count": 2
           }
          ]
         }
        },
        {
         "name": "elevator_passenger",
         "dtype": "int64",
         "stats": {
          "unique_count": 1,
          "nan_count": 0,
          "min": "1",
          "max": "1",
          "histogram": [
           {
            "bin_start": 0.5,
            "bin_end": 0.6,
            "count": 0
           },
           {
            "bin_start": 0.6,
            "bin_end": 0.7,
            "count": 0
           },
           {
            "bin_start": 0.7,
            "bin_end": 0.8,
            "count": 0
           },
           {
            "bin_start": 0.8,
            "bin_end": 0.9,
            "count": 0
           },
           {
            "bin_start": 0.9,
            "bin_end": 1,
            "count": 0
           },
           {
            "bin_start": 1,
            "bin_end": 1.1,
            "count": 5
           },
           {
            "bin_start": 1.1,
            "bin_end": 1.2000000000000002,
            "count": 0
           },
           {
            "bin_start": 1.2000000000000002,
            "bin_end": 1.3,
            "count": 0
           },
           {
            "bin_start": 1.3,
            "bin_end": 1.4,
            "count": 0
           },
           {
            "bin_start": 1.4,
            "bin_end": 1.5,
            "count": 0
           }
          ]
         }
        },
        {
         "name": "elevator_service",
         "dtype": "int64",
         "stats": {
          "unique_count": 2,
          "nan_count": 0,
          "min": "0",
          "max": "1",
          "histogram": [
           {
            "bin_start": 0,
            "bin_end": 0.1,
            "count": 1
           },
           {
            "bin_start": 0.1,
            "bin_end": 0.2,
            "count": 0
           },
           {
            "bin_start": 0.2,
            "bin_end": 0.30000000000000004,
            "count": 0
           },
           {
            "bin_start": 0.30000000000000004,
            "bin_end": 0.4,
            "count": 0
           },
           {
            "bin_start": 0.4,
            "bin_end": 0.5,
            "count": 0
           },
           {
            "bin_start": 0.5,
            "bin_end": 0.6000000000000001,
            "count": 0
           },
           {
            "bin_start": 0.6000000000000001,
            "bin_end": 0.7000000000000001,
            "count": 0
           },
           {
            "bin_start": 0.7000000000000001,
            "bin_end": 0.8,
            "count": 0
           },
           {
            "bin_start": 0.8,
            "bin_end": 0.9,
            "count": 0
           },
           {
            "bin_start": 0.9,
            "bin_end": 1,
            "count": 4
           }
          ]
         }
        },
        {
         "name": "parking",
         "dtype": "int64",
         "stats": {
          "unique_count": 2,
          "nan_count": 0,
          "min": "0",
          "max": "1",
          "histogram": [
           {
            "bin_start": 0,
            "bin_end": 0.1,
            "count": 1
           },
           {
            "bin_start": 0.1,
            "bin_end": 0.2,
            "count": 0
           },
           {
            "bin_start": 0.2,
            "bin_end": 0.30000000000000004,
            "count": 0
           },
           {
            "bin_start": 0.30000000000000004,
            "bin_end": 0.4,
            "count": 0
           },
           {
            "bin_start": 0.4,
            "bin_end": 0.5,
            "count": 0
           },
           {
            "bin_start": 0.5,
            "bin_end": 0.6000000000000001,
            "count": 0
           },
           {
            "bin_start": 0.6000000000000001,
            "bin_end": 0.7000000000000001,
            "count": 0
           },
           {
            "bin_start": 0.7000000000000001,
            "bin_end": 0.8,
            "count": 0
           },
           {
            "bin_start": 0.8,
            "bin_end": 0.9,
            "count": 0
           },
           {
            "bin_start": 0.9,
            "bin_end": 1,
            "count": 4
           }
          ]
         }
        },
        {
         "name": "garbage_chute",
         "dtype": "int64",
         "stats": {
          "unique_count": 1,
          "nan_count": 0,
          "min": "1",
          "max": "1",
          "histogram": [
           {
            "bin_start": 0.5,
            "bin_end": 0.6,
            "count": 0
           },
           {
            "bin_start": 0.6,
            "bin_end": 0.7,
            "count": 0
           },
           {
            "bin_start": 0.7,
            "bin_end": 0.8,
            "count": 0
           },
           {
            "bin_start": 0.8,
            "bin_end": 0.9,
            "count": 0
           },
           {
            "bin_start": 0.9,
            "bin_end": 1,
            "count": 0
           },
           {
            "bin_start": 1,
            "bin_end": 1.1,
            "count": 5
           },
           {
            "bin_start": 1.1,
            "bin_end": 1.2000000000000002,
            "count": 0
           },
           {
            "bin_start": 1.2000000000000002,
            "bin_end": 1.3,
            "count": 0
           },
           {
            "bin_start": 1.3,
            "bin_end": 1.4,
            "count": 0
           },
           {
            "bin_start": 1.4,
            "bin_end": 1.5,
            "count": 0
           }
          ]
         }
        },
        {
         "name": "heating",
         "dtype": "int64",
         "stats": {
          "unique_count": 1,
          "nan_count": 0,
          "min": "0",
          "max": "0",
          "histogram": [
           {
            "bin_start": -0.5,
            "bin_end": -0.4,
            "count": 0
           },
           {
            "bin_start": -0.4,
            "bin_end": -0.3,
            "count": 0
           },
           {
            "bin_start": -0.3,
            "bin_end": -0.19999999999999996,
            "count": 0
           },
           {
            "bin_start": -0.19999999999999996,
            "bin_end": -0.09999999999999998,
            "count": 0
           },
           {
            "bin_start": -0.09999999999999998,
            "bin_end": 0,
            "count": 0
           },
           {
            "bin_start": 0,
            "bin_end": 0.10000000000000009,
            "count": 5
           },
           {
            "bin_start": 0.10000000000000009,
            "bin_end": 0.20000000000000007,
            "count": 0
           },
           {
            "bin_start": 0.20000000000000007,
            "bin_end": 0.30000000000000004,
            "count": 0
           },
           {
            "bin_start": 0.30000000000000004,
            "bin_end": 0.4,
            "count": 0
           },
           {
            "bin_start": 0.4,
            "bin_end": 0.5,
            "count": 0
           }
          ]
         }
        },
        {
         "name": "distance",
         "dtype": "float64",
         "stats": {
          "unique_count": 5,
          "nan_count": 0,
          "min": "0.103533363207226",
          "max": "0.3499291462524923",
          "histogram": [
           {
            "bin_start": 0.103533363207226,
            "bin_end": 0.12817294151175262,
            "count": 2
           },
           {
            "bin_start": 0.12817294151175262,
            "bin_end": 0.15281251981627925,
            "count": 1
           },
           {
            "bin_start": 0.15281251981627925,
            "bin_end": 0.1774520981208059,
            "count": 0
           },
           {
            "bin_start": 0.1774520981208059,
            "bin_end": 0.20209167642533252,
            "count": 0
           },
           {
            "bin_start": 0.20209167642533252,
            "bin_end": 0.22673125472985914,
            "count": 1
           },
           {
            "bin_start": 0.22673125472985914,
            "bin_end": 0.2513708330343858,
            "count": 0
           },
           {
            "bin_start": 0.2513708330343858,
            "bin_end": 0.2760104113389124,
            "count": 0
           },
           {
            "bin_start": 0.2760104113389124,
            "bin_end": 0.30064998964343903,
            "count": 0
           },
           {
            "bin_start": 0.30064998964343903,
            "bin_end": 0.32528956794796565,
            "count": 0
           },
           {
            "bin_start": 0.32528956794796565,
            "bin_end": 0.3499291462524923,
            "count": 1
           }
          ]
         }
        },
        {
         "name": "street",
         "dtype": "object",
         "stats": {
          "unique_count": 5,
          "nan_count": 0,
          "categories": [
           {
            "name": "Скандинавия ЖК",
            "count": 1
           },
           {
            "name": "улица Вертолетчиков",
            "count": 1
           },
           {
            "name": "3 others",
            "count": 3
           }
          ]
         }
        },
        {
         "name": "_deepnote_index_column",
         "dtype": "int64"
        }
       ],
       "rows_top": [
        {
         "area_kitchen": 16.1,
         "area_living": 28.2,
         "floor": 3,
         "rooms": 2,
         "layout": 1,
         "windows_court": 1,
         "windows_street": 0,
         "balconies": 0,
         "condition": 1,
         "phones": 1,
         "building_id": 1602,
         "new": 1,
         "district": 11,
         "stories": 14,
         "elevator_passenger": 1,
         "elevator_service": 1,
         "parking": 0,
         "garbage_chute": 1,
         "heating": 0,
         "distance": 0.2094189299776847,
         "street": "Скандинавия ЖК",
         "_deepnote_index_column": 8161
        },
        {
         "area_kitchen": 7.8,
         "area_living": 15.7,
         "floor": 10,
         "rooms": 1,
         "layout": 1,
         "windows_court": 1,
         "windows_street": 0,
         "balconies": 1,
         "condition": 0,
         "phones": 1,
         "building_id": 1167,
         "new": 0,
         "district": 4,
         "stories": 17,
         "elevator_passenger": 1,
         "elevator_service": 1,
         "parking": 1,
         "garbage_chute": 1,
         "heating": 0,
         "distance": 0.3499291462524923,
         "street": "улица Вертолетчиков",
         "_deepnote_index_column": 10138
        },
        {
         "area_kitchen": 6,
         "area_living": 30,
         "floor": 3,
         "rooms": 2,
         "layout": 1,
         "windows_court": 0,
         "windows_street": 1,
         "balconies": 1,
         "condition": 1,
         "phones": 1,
         "building_id": 528,
         "new": 0,
         "district": 6,
         "stories": 9,
         "elevator_passenger": 1,
         "elevator_service": 0,
         "parking": 1,
         "garbage_chute": 1,
         "heating": 0,
         "distance": 0.1412384209838177,
         "street": "улица Островитянова",
         "_deepnote_index_column": 4845
        },
        {
         "area_kitchen": 12.4,
         "area_living": 33,
         "floor": 18,
         "rooms": 2,
         "layout": 1,
         "windows_court": 1,
         "windows_street": 1,
         "balconies": 1,
         "condition": 0,
         "phones": 2,
         "building_id": 9636,
         "new": 0,
         "district": 2,
         "stories": 20,
         "elevator_passenger": 1,
         "elevator_service": 1,
         "parking": 1,
         "garbage_chute": 1,
         "heating": 0,
         "distance": 0.103533363207226,
         "street": "Нововладыкинский проезд",
         "_deepnote_index_column": 7189
        },
        {
         "area_kitchen": 14.4,
         "area_living": 27.1,
         "floor": 14,
         "rooms": 2,
         "layout": 1,
         "windows_court": 1,
         "windows_street": 0,
         "balconies": 1,
         "condition": 1,
         "phones": 1,
         "building_id": 7644,
         "new": 1,
         "district": 8,
         "stories": 20,
         "elevator_passenger": 1,
         "elevator_service": 1,
         "parking": 1,
         "garbage_chute": 1,
         "heating": 0,
         "distance": 0.1084367807941579,
         "street": "3-я Хорошевская улица",
         "_deepnote_index_column": 14728
        }
       ],
       "rows_bottom": null
      },
      "text/plain": "       area_kitchen  area_living  floor  rooms  layout  windows_court  \\\n8161           16.1         28.2      3      2       1              1   \n10138           7.8         15.7     10      1       1              1   \n4845            6.0         30.0      3      2       1              0   \n7189           12.4         33.0     18      2       1              1   \n14728          14.4         27.1     14      2       1              1   \n\n       windows_street  balconies  condition  phones  ...  new  district  \\\n8161                0          0          1       1  ...    1        11   \n10138               0          1          0       1  ...    0         4   \n4845                1          1          1       1  ...    0         6   \n7189                1          1          0       2  ...    0         2   \n14728               0          1          1       1  ...    1         8   \n\n       stories  elevator_passenger  elevator_service  parking  garbage_chute  \\\n8161        14                   1                 1        0              1   \n10138       17                   1                 1        1              1   \n4845         9                   1                 0        1              1   \n7189        20                   1                 1        1              1   \n14728       20                   1                 1        1              1   \n\n       heating  distance                   street  \n8161         0  0.209419           Скандинавия ЖК  \n10138        0  0.349929      улица Вертолетчиков  \n4845         0  0.141238      улица Островитянова  \n7189         0  0.103533  Нововладыкинский проезд  \n14728        0  0.108437    3-я Хорошевская улица  \n\n[5 rows x 21 columns]",
      "text/html": "<div>\n<style scoped>\n    .dataframe tbody tr th:only-of-type {\n        vertical-align: middle;\n    }\n\n    .dataframe tbody tr th {\n        vertical-align: top;\n    }\n\n    .dataframe thead th {\n        text-align: right;\n    }\n</style>\n<table border=\"1\" class=\"dataframe\">\n  <thead>\n    <tr style=\"text-align: right;\">\n      <th></th>\n      <th>area_kitchen</th>\n      <th>area_living</th>\n      <th>floor</th>\n      <th>rooms</th>\n      <th>layout</th>\n      <th>windows_court</th>\n      <th>windows_street</th>\n      <th>balconies</th>\n      <th>condition</th>\n      <th>phones</th>\n      <th>...</th>\n      <th>new</th>\n      <th>district</th>\n      <th>stories</th>\n      <th>elevator_passenger</th>\n      <th>elevator_service</th>\n      <th>parking</th>\n      <th>garbage_chute</th>\n      <th>heating</th>\n      <th>distance</th>\n      <th>street</th>\n    </tr>\n  </thead>\n  <tbody>\n    <tr>\n      <th>8161</th>\n      <td>16.1</td>\n      <td>28.2</td>\n      <td>3</td>\n      <td>2</td>\n      <td>1</td>\n      <td>1</td>\n      <td>0</td>\n      <td>0</td>\n      <td>1</td>\n      <td>1</td>\n      <td>...</td>\n      <td>1</td>\n      <td>11</td>\n      <td>14</td>\n      <td>1</td>\n      <td>1</td>\n      <td>0</td>\n      <td>1</td>\n      <td>0</td>\n      <td>0.209419</td>\n      <td>Скандинавия ЖК</td>\n    </tr>\n    <tr>\n      <th>10138</th>\n      <td>7.8</td>\n      <td>15.7</td>\n      <td>10</td>\n      <td>1</td>\n      <td>1</td>\n      <td>1</td>\n      <td>0</td>\n      <td>1</td>\n      <td>0</td>\n      <td>1</td>\n      <td>...</td>\n      <td>0</td>\n      <td>4</td>\n      <td>17</td>\n      <td>1</td>\n      <td>1</td>\n      <td>1</td>\n      <td>1</td>\n      <td>0</td>\n      <td>0.349929</td>\n      <td>улица Вертолетчиков</td>\n    </tr>\n    <tr>\n      <th>4845</th>\n      <td>6.0</td>\n      <td>30.0</td>\n      <td>3</td>\n      <td>2</td>\n      <td>1</td>\n      <td>0</td>\n      <td>1</td>\n      <td>1</td>\n      <td>1</td>\n      <td>1</td>\n      <td>...</td>\n      <td>0</td>\n      <td>6</td>\n      <td>9</td>\n      <td>1</td>\n      <td>0</td>\n      <td>1</td>\n      <td>1</td>\n      <td>0</td>\n      <td>0.141238</td>\n      <td>улица Островитянова</td>\n    </tr>\n    <tr>\n      <th>7189</th>\n      <td>12.4</td>\n      <td>33.0</td>\n      <td>18</td>\n      <td>2</td>\n      <td>1</td>\n      <td>1</td>\n      <td>1</td>\n      <td>1</td>\n      <td>0</td>\n      <td>2</td>\n      <td>...</td>\n      <td>0</td>\n      <td>2</td>\n      <td>20</td>\n      <td>1</td>\n      <td>1</td>\n      <td>1</td>\n      <td>1</td>\n      <td>0</td>\n      <td>0.103533</td>\n      <td>Нововладыкинский проезд</td>\n    </tr>\n    <tr>\n      <th>14728</th>\n      <td>14.4</td>\n      <td>27.1</td>\n      <td>14</td>\n      <td>2</td>\n      <td>1</td>\n      <td>1</td>\n      <td>0</td>\n      <td>1</td>\n      <td>1</td>\n      <td>1</td>\n      <td>...</td>\n      <td>1</td>\n      <td>8</td>\n      <td>20</td>\n      <td>1</td>\n      <td>1</td>\n      <td>1</td>\n      <td>1</td>\n      <td>0</td>\n      <td>0.108437</td>\n      <td>3-я Хорошевская улица</td>\n    </tr>\n  </tbody>\n</table>\n<p>5 rows × 21 columns</p>\n</div>"
     },
     "metadata": {}
    }
   ],
   "execution_count": null
  },
  {
   "cell_type": "code",
   "metadata": {
    "tags": [],
    "deepnote_to_be_reexecuted": false,
    "source_hash": "2d26ce23",
    "execution_start": 1637349125179,
    "execution_millis": 14,
    "cell_id": "00005-eee4b9ae-582f-4c12-b92e-cdb874e38a6b",
    "deepnote_cell_type": "code"
   },
   "source": "#y1 = df_train.price.values\n#X1 = df_train.drop(['id','price', 'street', 'address'], axis=1)\n#X1_test = df_test.drop(['id', 'street', 'address'], axis=1)\ncategorical_features_indices = np.where(X_train.dtypes != np.float64)[0]\n#categorical_features_indices = np.where(X1_test.dtypes != np.float64)[0]\n#cat_feature_indices = np.array([0, 3, 4, 5, 6, 7, 8, 9, 10, 11, 12, 13, 14, 15, 16, 17, 18, 19, 20, 21, 22, 23, 24, 25])",
   "outputs": [],
   "execution_count": null
  },
  {
   "cell_type": "code",
   "metadata": {
    "tags": [],
    "deepnote_to_be_reexecuted": false,
    "source_hash": "d99de540",
    "execution_start": 1637349125195,
    "execution_millis": 0,
    "cell_id": "00009-3de41405-85f5-4307-9987-d96826fe0095",
    "deepnote_cell_type": "code"
   },
   "source": "#hyper parameter\nn_estimators=[100,500,900,1100,1500]\nmax_depth=[2,3,5,10,15]\nbooster=[\"gbtree\",\"gblinear\"]\nlearning_rate=\"[0.05,0.1,0.15,0.20]\"\nmin_child_weight=[1,2,3,4]\nbase_score=[0.25,0.5,0.75,1]\n\norg_params = {\n    'n_estimators': n_estimators,\n    'learning_rate': learning_rate,\n    \"booster\":booster,\n    'eval_metric': 'RMSE',\n    'use_best_model': True,\n    'loss_function': 'RMSE',\n    'max_depth': max_depth,\n    \"min_child_weight\":min_child_weight,\n    \"base_score\":base_score\n}",
   "outputs": [],
   "execution_count": null
  },
  {
   "cell_type": "code",
   "metadata": {
    "tags": [],
    "cell_id": "00009-4e32b0cd-1200-4d97-a052-0f005eb97304",
    "deepnote_to_be_reexecuted": false,
    "source_hash": "b9dc394",
    "execution_start": 1637349125196,
    "execution_millis": 15,
    "deepnote_output_heights": [
     116
    ],
    "deepnote_cell_type": "code"
   },
   "source": "y_train.head()",
   "outputs": [
    {
     "output_type": "execute_result",
     "execution_count": 11,
     "data": {
      "text/plain": "8161     136249.667250\n10138    157407.407407\n4845     188888.888889\n7189     176130.000000\n14728    207950.000000\nName: price/area, dtype: float64"
     },
     "metadata": {}
    }
   ],
   "execution_count": null
  },
  {
   "cell_type": "code",
   "metadata": {
    "tags": [],
    "deepnote_to_be_reexecuted": false,
    "source_hash": "83560c8e",
    "execution_start": 1637349173861,
    "execution_millis": 359651,
    "cell_id": "00010-e2a31583-3dc5-423e-a8e3-f707272dad90",
    "deepnote_output_heights": [
     null,
     null,
     21
    ],
    "deepnote_cell_type": "code"
   },
   "source": "#from catboost import CatBoostRegressor\n#random_state=1, iterations=1500, depth=8, learning_rate=.1, loss_function='RMSE'\nmodel = CatBoostRegressor(random_state=1, iterations=2000,cat_features = categorical_features_indices, depth=9, learning_rate=0.1, loss_function='RMSE')\nmodel.fit(X_train, y_train, eval_set=(X_val, y_val), plot=True)",
   "outputs": [
    {
     "data": {
      "text/plain": "MetricVisualizer(layout=Layout(align_self='stretch', height='500px'))",
      "application/vnd.jupyter.widget-view+json": {
       "version_major": 2,
       "version_minor": 0,
       "model_id": "fc8838dd335c42c98c8eec7f0f92efcf"
      }
     },
     "metadata": {},
     "output_type": "display_data"
    },
    {
     "name": "stdout",
     "text": "1006:\tlearn: 20528.5783584\ttest: 60388.8714215\tbest: 60379.3466151 (1003)\ttotal: 2m 45s\tremaining: 2m 42s\n1007:\tlearn: 20517.0841365\ttest: 60379.8954074\tbest: 60379.3466151 (1003)\ttotal: 2m 45s\tremaining: 2m 42s\n1008:\tlearn: 20508.3210588\ttest: 60381.6257761\tbest: 60379.3466151 (1003)\ttotal: 2m 45s\tremaining: 2m 42s\n1009:\tlearn: 20489.0168164\ttest: 60369.9983922\tbest: 60369.9983922 (1009)\ttotal: 2m 45s\tremaining: 2m 42s\n1010:\tlearn: 20470.0317487\ttest: 60373.9057067\tbest: 60369.9983922 (1009)\ttotal: 2m 45s\tremaining: 2m 42s\n1011:\tlearn: 20457.9374044\ttest: 60381.5081017\tbest: 60369.9983922 (1009)\ttotal: 2m 45s\tremaining: 2m 42s\n1012:\tlearn: 20444.2001362\ttest: 60393.3098084\tbest: 60369.9983922 (1009)\ttotal: 2m 46s\tremaining: 2m 41s\n1013:\tlearn: 20436.6303164\ttest: 60397.5632479\tbest: 60369.9983922 (1009)\ttotal: 2m 46s\tremaining: 2m 41s\n1014:\tlearn: 20415.5401999\ttest: 60401.4686607\tbest: 60369.9983922 (1009)\ttotal: 2m 46s\tremaining: 2m 41s\n1015:\tlearn: 20399.5874993\ttest: 60400.9801021\tbest: 60369.9983922 (1009)\ttotal: 2m 46s\tremaining: 2m 41s\n1016:\tlearn: 20374.0449248\ttest: 60401.7349599\tbest: 60369.9983922 (1009)\ttotal: 2m 46s\tremaining: 2m 41s\n1017:\tlearn: 20356.1048781\ttest: 60389.2282449\tbest: 60369.9983922 (1009)\ttotal: 2m 46s\tremaining: 2m 41s\n1018:\tlearn: 20339.6066574\ttest: 60384.2583390\tbest: 60369.9983922 (1009)\ttotal: 2m 47s\tremaining: 2m 40s\n1019:\tlearn: 20320.3011229\ttest: 60384.6194570\tbest: 60369.9983922 (1009)\ttotal: 2m 47s\tremaining: 2m 40s\n1020:\tlearn: 20305.7798267\ttest: 60388.7182607\tbest: 60369.9983922 (1009)\ttotal: 2m 47s\tremaining: 2m 40s\n1021:\tlearn: 20304.9830512\ttest: 60390.1256766\tbest: 60369.9983922 (1009)\ttotal: 2m 47s\tremaining: 2m 40s\n1022:\tlearn: 20275.1078437\ttest: 60390.7902046\tbest: 60369.9983922 (1009)\ttotal: 2m 47s\tremaining: 2m 40s\n1023:\tlearn: 20258.9893782\ttest: 60387.4603064\tbest: 60369.9983922 (1009)\ttotal: 2m 48s\tremaining: 2m 40s\n1024:\tlearn: 20228.1174482\ttest: 60389.0566714\tbest: 60369.9983922 (1009)\ttotal: 2m 48s\tremaining: 2m 39s\n1025:\tlearn: 20199.0163409\ttest: 60381.4701498\tbest: 60369.9983922 (1009)\ttotal: 2m 48s\tremaining: 2m 39s\n1026:\tlearn: 20191.6561321\ttest: 60377.0065753\tbest: 60369.9983922 (1009)\ttotal: 2m 48s\tremaining: 2m 39s\n1027:\tlearn: 20180.5114009\ttest: 60366.6731759\tbest: 60366.6731759 (1027)\ttotal: 2m 48s\tremaining: 2m 39s\n1028:\tlearn: 20179.3236631\ttest: 60367.3093099\tbest: 60366.6731759 (1027)\ttotal: 2m 48s\tremaining: 2m 39s\n1029:\tlearn: 20161.2106042\ttest: 60362.3388811\tbest: 60362.3388811 (1029)\ttotal: 2m 49s\tremaining: 2m 39s\n1030:\tlearn: 20152.2513197\ttest: 60354.1891076\tbest: 60354.1891076 (1030)\ttotal: 2m 49s\tremaining: 2m 39s\n1031:\tlearn: 20130.5254926\ttest: 60348.1518717\tbest: 60348.1518717 (1031)\ttotal: 2m 49s\tremaining: 2m 38s\n1032:\tlearn: 20121.4243424\ttest: 60345.5425891\tbest: 60345.5425891 (1032)\ttotal: 2m 49s\tremaining: 2m 38s\n1033:\tlearn: 20109.0505541\ttest: 60346.7169034\tbest: 60345.5425891 (1032)\ttotal: 2m 49s\tremaining: 2m 38s\n1034:\tlearn: 20093.5453400\ttest: 60341.5092147\tbest: 60341.5092147 (1034)\ttotal: 2m 50s\tremaining: 2m 38s\n1035:\tlearn: 20071.5760734\ttest: 60342.9319466\tbest: 60341.5092147 (1034)\ttotal: 2m 50s\tremaining: 2m 38s\n1036:\tlearn: 20059.5383788\ttest: 60337.9948428\tbest: 60337.9948428 (1036)\ttotal: 2m 50s\tremaining: 2m 38s\n1037:\tlearn: 20049.9644921\ttest: 60333.3170677\tbest: 60333.3170677 (1037)\ttotal: 2m 50s\tremaining: 2m 38s\n1038:\tlearn: 20048.7248103\ttest: 60332.8922593\tbest: 60332.8922593 (1038)\ttotal: 2m 51s\tremaining: 2m 38s\n1039:\tlearn: 20029.4845357\ttest: 60335.0027471\tbest: 60332.8922593 (1038)\ttotal: 2m 51s\tremaining: 2m 38s\n1040:\tlearn: 20020.6933743\ttest: 60334.3798203\tbest: 60332.8922593 (1038)\ttotal: 2m 51s\tremaining: 2m 38s\n1041:\tlearn: 20011.8021352\ttest: 60339.1833461\tbest: 60332.8922593 (1038)\ttotal: 2m 52s\tremaining: 2m 38s\n1042:\tlearn: 19986.9028806\ttest: 60338.9727203\tbest: 60332.8922593 (1038)\ttotal: 2m 52s\tremaining: 2m 38s\n1043:\tlearn: 19977.3341902\ttest: 60346.2529192\tbest: 60332.8922593 (1038)\ttotal: 2m 52s\tremaining: 2m 38s\n1044:\tlearn: 19964.4980319\ttest: 60337.2257182\tbest: 60332.8922593 (1038)\ttotal: 2m 52s\tremaining: 2m 37s\n1045:\tlearn: 19952.8060673\ttest: 60332.3894322\tbest: 60332.3894322 (1045)\ttotal: 2m 53s\tremaining: 2m 37s\n1046:\tlearn: 19939.4888478\ttest: 60333.6453346\tbest: 60332.3894322 (1045)\ttotal: 2m 53s\tremaining: 2m 37s\n1047:\tlearn: 19917.3846065\ttest: 60327.2178084\tbest: 60327.2178084 (1047)\ttotal: 2m 53s\tremaining: 2m 37s\n1048:\tlearn: 19899.5127773\ttest: 60329.1540471\tbest: 60327.2178084 (1047)\ttotal: 2m 54s\tremaining: 2m 37s\n1049:\tlearn: 19889.9703619\ttest: 60324.4558483\tbest: 60324.4558483 (1049)\ttotal: 2m 54s\tremaining: 2m 37s\n1050:\tlearn: 19874.6456654\ttest: 60321.5347367\tbest: 60321.5347367 (1050)\ttotal: 2m 54s\tremaining: 2m 37s\n1051:\tlearn: 19855.7249581\ttest: 60313.5826360\tbest: 60313.5826360 (1051)\ttotal: 2m 54s\tremaining: 2m 37s\n1052:\tlearn: 19846.3487690\ttest: 60312.4630722\tbest: 60312.4630722 (1052)\ttotal: 2m 55s\tremaining: 2m 37s\n1053:\tlearn: 19841.9921096\ttest: 60311.7134033\tbest: 60311.7134033 (1053)\ttotal: 2m 55s\tremaining: 2m 37s\n1054:\tlearn: 19841.7400223\ttest: 60311.8406511\tbest: 60311.7134033 (1053)\ttotal: 2m 55s\tremaining: 2m 37s\n1055:\tlearn: 19810.7311582\ttest: 60307.3672214\tbest: 60307.3672214 (1055)\ttotal: 2m 55s\tremaining: 2m 37s\n1056:\tlearn: 19794.9672913\ttest: 60304.7752585\tbest: 60304.7752585 (1056)\ttotal: 2m 55s\tremaining: 2m 36s\n1057:\tlearn: 19787.4719818\ttest: 60309.5305285\tbest: 60304.7752585 (1056)\ttotal: 2m 55s\tremaining: 2m 36s\n1058:\tlearn: 19778.9522597\ttest: 60308.4658344\tbest: 60304.7752585 (1056)\ttotal: 2m 56s\tremaining: 2m 36s\n1059:\tlearn: 19763.6982224\ttest: 60312.3189107\tbest: 60304.7752585 (1056)\ttotal: 2m 56s\tremaining: 2m 36s\n1060:\tlearn: 19754.8022046\ttest: 60306.4972804\tbest: 60304.7752585 (1056)\ttotal: 2m 56s\tremaining: 2m 36s\n1061:\tlearn: 19746.0296854\ttest: 60305.4987689\tbest: 60304.7752585 (1056)\ttotal: 2m 56s\tremaining: 2m 35s\n1062:\tlearn: 19740.4264428\ttest: 60304.0131745\tbest: 60304.0131745 (1062)\ttotal: 2m 56s\tremaining: 2m 35s\n1063:\tlearn: 19725.7482056\ttest: 60303.5487723\tbest: 60303.5487723 (1063)\ttotal: 2m 56s\tremaining: 2m 35s\n1064:\tlearn: 19705.2734749\ttest: 60298.6669054\tbest: 60298.6669054 (1064)\ttotal: 2m 57s\tremaining: 2m 35s\n1065:\tlearn: 19693.0802552\ttest: 60296.2128167\tbest: 60296.2128167 (1065)\ttotal: 2m 57s\tremaining: 2m 35s\n1066:\tlearn: 19676.8257041\ttest: 60300.9716463\tbest: 60296.2128167 (1065)\ttotal: 2m 57s\tremaining: 2m 35s\n1067:\tlearn: 19675.5590607\ttest: 60300.6806907\tbest: 60296.2128167 (1065)\ttotal: 2m 57s\tremaining: 2m 34s\n1068:\tlearn: 19669.7058555\ttest: 60304.2061872\tbest: 60296.2128167 (1065)\ttotal: 2m 57s\tremaining: 2m 34s\n1069:\tlearn: 19658.1118614\ttest: 60299.2138531\tbest: 60296.2128167 (1065)\ttotal: 2m 57s\tremaining: 2m 34s\n1070:\tlearn: 19640.8464174\ttest: 60308.1316787\tbest: 60296.2128167 (1065)\ttotal: 2m 58s\tremaining: 2m 34s\n1071:\tlearn: 19631.4145932\ttest: 60306.2092308\tbest: 60296.2128167 (1065)\ttotal: 2m 58s\tremaining: 2m 34s\n1072:\tlearn: 19623.2507642\ttest: 60303.8017217\tbest: 60296.2128167 (1065)\ttotal: 2m 58s\tremaining: 2m 34s\n1073:\tlearn: 19599.3433176\ttest: 60302.3304913\tbest: 60296.2128167 (1065)\ttotal: 2m 58s\tremaining: 2m 33s\n1074:\tlearn: 19591.7216237\ttest: 60296.8468262\tbest: 60296.2128167 (1065)\ttotal: 2m 58s\tremaining: 2m 33s\n1075:\tlearn: 19577.9409392\ttest: 60292.0389591\tbest: 60292.0389591 (1075)\ttotal: 2m 58s\tremaining: 2m 33s\n1076:\tlearn: 19569.5665909\ttest: 60290.0425050\tbest: 60290.0425050 (1076)\ttotal: 2m 59s\tremaining: 2m 33s\n1077:\tlearn: 19565.9967620\ttest: 60280.0375369\tbest: 60280.0375369 (1077)\ttotal: 2m 59s\tremaining: 2m 33s\n1078:\tlearn: 19552.5573597\ttest: 60274.7370244\tbest: 60274.7370244 (1078)\ttotal: 2m 59s\tremaining: 2m 33s\n1079:\tlearn: 19543.0871779\ttest: 60277.6624636\tbest: 60274.7370244 (1078)\ttotal: 2m 59s\tremaining: 2m 32s\n1080:\tlearn: 19532.5333523\ttest: 60276.9047015\tbest: 60274.7370244 (1078)\ttotal: 2m 59s\tremaining: 2m 32s\n1081:\tlearn: 19523.7466079\ttest: 60278.7474977\tbest: 60274.7370244 (1078)\ttotal: 2m 59s\tremaining: 2m 32s\n1082:\tlearn: 19508.8042442\ttest: 60280.2010465\tbest: 60274.7370244 (1078)\ttotal: 3m\tremaining: 2m 32s\n1083:\tlearn: 19504.5708508\ttest: 60281.2678978\tbest: 60274.7370244 (1078)\ttotal: 3m\tremaining: 2m 32s\n1084:\tlearn: 19502.2508780\ttest: 60282.5496321\tbest: 60274.7370244 (1078)\ttotal: 3m\tremaining: 2m 32s\n1085:\tlearn: 19490.8390854\ttest: 60283.4304533\tbest: 60274.7370244 (1078)\ttotal: 3m\tremaining: 2m 31s\n1086:\tlearn: 19484.1631096\ttest: 60282.4127206\tbest: 60274.7370244 (1078)\ttotal: 3m\tremaining: 2m 31s\n1087:\tlearn: 19472.0750263\ttest: 60282.8480305\tbest: 60274.7370244 (1078)\ttotal: 3m\tremaining: 2m 31s\n1088:\tlearn: 19462.9919433\ttest: 60274.8066311\tbest: 60274.7370244 (1078)\ttotal: 3m\tremaining: 2m 31s\n1089:\tlearn: 19456.1196242\ttest: 60280.0005646\tbest: 60274.7370244 (1078)\ttotal: 3m 1s\tremaining: 2m 31s\n1090:\tlearn: 19448.1350582\ttest: 60278.6906663\tbest: 60274.7370244 (1078)\ttotal: 3m 1s\tremaining: 2m 31s\n1091:\tlearn: 19446.8379125\ttest: 60279.3504252\tbest: 60274.7370244 (1078)\ttotal: 3m 1s\tremaining: 2m 30s\n1092:\tlearn: 19438.3134095\ttest: 60279.2115120\tbest: 60274.7370244 (1078)\ttotal: 3m 1s\tremaining: 2m 30s\n1093:\tlearn: 19435.6953392\ttest: 60277.7229828\tbest: 60274.7370244 (1078)\ttotal: 3m 1s\tremaining: 2m 30s\n1094:\tlearn: 19421.4104783\ttest: 60278.8915975\tbest: 60274.7370244 (1078)\ttotal: 3m 1s\tremaining: 2m 30s\n1095:\tlearn: 19416.2198464\ttest: 60271.3378212\tbest: 60271.3378212 (1095)\ttotal: 3m 2s\tremaining: 2m 30s\n1096:\tlearn: 19409.3380606\ttest: 60274.3874100\tbest: 60271.3378212 (1095)\ttotal: 3m 2s\tremaining: 2m 30s\n1097:\tlearn: 19386.0188050\ttest: 60276.2928966\tbest: 60271.3378212 (1095)\ttotal: 3m 2s\tremaining: 2m 29s\n1098:\tlearn: 19373.5804884\ttest: 60275.5119196\tbest: 60271.3378212 (1095)\ttotal: 3m 2s\tremaining: 2m 29s\n1099:\tlearn: 19366.6610787\ttest: 60267.9415235\tbest: 60267.9415235 (1099)\ttotal: 3m 2s\tremaining: 2m 29s\n1100:\tlearn: 19364.1554861\ttest: 60266.8441858\tbest: 60266.8441858 (1100)\ttotal: 3m 2s\tremaining: 2m 29s\n1101:\tlearn: 19354.0793282\ttest: 60263.2911811\tbest: 60263.2911811 (1101)\ttotal: 3m 3s\tremaining: 2m 29s\n1102:\tlearn: 19332.6647662\ttest: 60260.8825180\tbest: 60260.8825180 (1102)\ttotal: 3m 3s\tremaining: 2m 29s\n1103:\tlearn: 19320.6319343\ttest: 60259.7792505\tbest: 60259.7792505 (1103)\ttotal: 3m 3s\tremaining: 2m 28s\n1104:\tlearn: 19309.2896110\ttest: 60260.7257243\tbest: 60259.7792505 (1103)\ttotal: 3m 3s\tremaining: 2m 28s\n1105:\tlearn: 19283.9984754\ttest: 60256.7289333\tbest: 60256.7289333 (1105)\ttotal: 3m 3s\tremaining: 2m 28s\n1106:\tlearn: 19279.0040347\ttest: 60254.6788384\tbest: 60254.6788384 (1106)\ttotal: 3m 3s\tremaining: 2m 28s\n1107:\tlearn: 19263.1329460\ttest: 60245.5018070\tbest: 60245.5018070 (1107)\ttotal: 3m 4s\tremaining: 2m 28s\n1108:\tlearn: 19250.0356949\ttest: 60247.2565760\tbest: 60245.5018070 (1107)\ttotal: 3m 4s\tremaining: 2m 28s\n1109:\tlearn: 19235.7494587\ttest: 60247.4382272\tbest: 60245.5018070 (1107)\ttotal: 3m 4s\tremaining: 2m 27s\n1110:\tlearn: 19223.7846248\ttest: 60246.4784460\tbest: 60245.5018070 (1107)\ttotal: 3m 4s\tremaining: 2m 27s\n1111:\tlearn: 19215.2678746\ttest: 60244.1069202\tbest: 60244.1069202 (1111)\ttotal: 3m 4s\tremaining: 2m 27s\n1112:\tlearn: 19197.6205270\ttest: 60239.9961969\tbest: 60239.9961969 (1112)\ttotal: 3m 5s\tremaining: 2m 27s\n1113:\tlearn: 19191.9872203\ttest: 60241.1713469\tbest: 60239.9961969 (1112)\ttotal: 3m 5s\tremaining: 2m 27s\n1114:\tlearn: 19173.7693201\ttest: 60228.8379126\tbest: 60228.8379126 (1114)\ttotal: 3m 5s\tremaining: 2m 27s\n1115:\tlearn: 19170.9942683\ttest: 60228.4454351\tbest: 60228.4454351 (1115)\ttotal: 3m 5s\tremaining: 2m 26s\n1116:\tlearn: 19164.1319064\ttest: 60225.3137468\tbest: 60225.3137468 (1116)\ttotal: 3m 5s\tremaining: 2m 26s\n1117:\tlearn: 19145.7388238\ttest: 60221.2691874\tbest: 60221.2691874 (1117)\ttotal: 3m 5s\tremaining: 2m 26s\n1118:\tlearn: 19127.2725055\ttest: 60215.2518745\tbest: 60215.2518745 (1118)\ttotal: 3m 5s\tremaining: 2m 26s\n1119:\tlearn: 19110.1125283\ttest: 60210.9091671\tbest: 60210.9091671 (1119)\ttotal: 3m 6s\tremaining: 2m 26s\n1120:\tlearn: 19089.2426762\ttest: 60195.4723876\tbest: 60195.4723876 (1120)\ttotal: 3m 6s\tremaining: 2m 26s\n1121:\tlearn: 19084.1038719\ttest: 60194.5147645\tbest: 60194.5147645 (1121)\ttotal: 3m 6s\tremaining: 2m 25s\n1122:\tlearn: 19066.5382209\ttest: 60195.3686433\tbest: 60194.5147645 (1121)\ttotal: 3m 6s\tremaining: 2m 25s\n1123:\tlearn: 19052.5043042\ttest: 60193.8705746\tbest: 60193.8705746 (1123)\ttotal: 3m 6s\tremaining: 2m 25s\n1124:\tlearn: 19046.1286919\ttest: 60196.7562307\tbest: 60193.8705746 (1123)\ttotal: 3m 6s\tremaining: 2m 25s\n1125:\tlearn: 19027.0265208\ttest: 60189.9745086\tbest: 60189.9745086 (1125)\ttotal: 3m 7s\tremaining: 2m 25s\n1126:\tlearn: 19007.1839644\ttest: 60186.3151027\tbest: 60186.3151027 (1126)\ttotal: 3m 7s\tremaining: 2m 25s\n1127:\tlearn: 18997.5886533\ttest: 60182.3384300\tbest: 60182.3384300 (1127)\ttotal: 3m 7s\tremaining: 2m 24s\n1128:\tlearn: 18986.7463089\ttest: 60182.0622224\tbest: 60182.0622224 (1128)\ttotal: 3m 7s\tremaining: 2m 24s\n1129:\tlearn: 18975.2777610\ttest: 60183.0961166\tbest: 60182.0622224 (1128)\ttotal: 3m 7s\tremaining: 2m 24s\n1130:\tlearn: 18974.1918637\ttest: 60183.5092879\tbest: 60182.0622224 (1128)\ttotal: 3m 8s\tremaining: 2m 24s\n1131:\tlearn: 18957.7027398\ttest: 60181.9612776\tbest: 60181.9612776 (1131)\ttotal: 3m 8s\tremaining: 2m 24s\n1132:\tlearn: 18936.4765392\ttest: 60177.3020119\tbest: 60177.3020119 (1132)\ttotal: 3m 8s\tremaining: 2m 24s\n1133:\tlearn: 18918.6601757\ttest: 60176.0497920\tbest: 60176.0497920 (1133)\ttotal: 3m 8s\tremaining: 2m 23s\n1134:\tlearn: 18901.0285723\ttest: 60174.3057810\tbest: 60174.3057810 (1134)\ttotal: 3m 8s\tremaining: 2m 23s\n1135:\tlearn: 18872.9604031\ttest: 60163.1015020\tbest: 60163.1015020 (1135)\ttotal: 3m 8s\tremaining: 2m 23s\n1136:\tlearn: 18852.0566414\ttest: 60156.0487700\tbest: 60156.0487700 (1136)\ttotal: 3m 9s\tremaining: 2m 23s\n1137:\tlearn: 18846.2911269\ttest: 60157.1376089\tbest: 60156.0487700 (1136)\ttotal: 3m 9s\tremaining: 2m 23s\n1138:\tlearn: 18827.7589046\ttest: 60155.1893852\tbest: 60155.1893852 (1138)\ttotal: 3m 9s\tremaining: 2m 23s\n1139:\tlearn: 18815.1752519\ttest: 60154.6683546\tbest: 60154.6683546 (1139)\ttotal: 3m 9s\tremaining: 2m 22s\n1140:\tlearn: 18799.4564114\ttest: 60146.7942247\tbest: 60146.7942247 (1140)\ttotal: 3m 9s\tremaining: 2m 22s\n1141:\tlearn: 18789.9969123\ttest: 60149.1308553\tbest: 60146.7942247 (1140)\ttotal: 3m 9s\tremaining: 2m 22s\n1142:\tlearn: 18782.8859664\ttest: 60146.4436549\tbest: 60146.4436549 (1142)\ttotal: 3m 9s\tremaining: 2m 22s\n1143:\tlearn: 18781.1998087\ttest: 60144.7054646\tbest: 60144.7054646 (1143)\ttotal: 3m 10s\tremaining: 2m 22s\n1144:\tlearn: 18767.3018758\ttest: 60149.0553756\tbest: 60144.7054646 (1143)\ttotal: 3m 10s\tremaining: 2m 22s\n1145:\tlearn: 18752.9251088\ttest: 60148.2433438\tbest: 60144.7054646 (1143)\ttotal: 3m 10s\tremaining: 2m 21s\n1146:\tlearn: 18744.2188913\ttest: 60147.1869377\tbest: 60144.7054646 (1143)\ttotal: 3m 10s\tremaining: 2m 21s\n1147:\tlearn: 18735.2536711\ttest: 60144.6233959\tbest: 60144.6233959 (1147)\ttotal: 3m 10s\tremaining: 2m 21s\n1148:\tlearn: 18726.5803563\ttest: 60141.8690621\tbest: 60141.8690621 (1148)\ttotal: 3m 10s\tremaining: 2m 21s\n1149:\tlearn: 18716.5468831\ttest: 60143.9456368\tbest: 60141.8690621 (1148)\ttotal: 3m 11s\tremaining: 2m 21s\n1150:\tlearn: 18697.2984528\ttest: 60140.3596502\tbest: 60140.3596502 (1150)\ttotal: 3m 11s\tremaining: 2m 21s\n1151:\tlearn: 18684.8069274\ttest: 60139.4886533\tbest: 60139.4886533 (1151)\ttotal: 3m 11s\tremaining: 2m 21s\n1152:\tlearn: 18674.3499443\ttest: 60138.7338199\tbest: 60138.7338199 (1152)\ttotal: 3m 12s\tremaining: 2m 21s\n1153:\tlearn: 18668.8821404\ttest: 60138.5186656\tbest: 60138.5186656 (1153)\ttotal: 3m 12s\tremaining: 2m 20s\n1154:\tlearn: 18662.1990665\ttest: 60136.1792310\tbest: 60136.1792310 (1154)\ttotal: 3m 12s\tremaining: 2m 20s\n1155:\tlearn: 18654.6945618\ttest: 60139.7700464\tbest: 60136.1792310 (1154)\ttotal: 3m 12s\tremaining: 2m 20s\n1156:\tlearn: 18649.1476354\ttest: 60139.7958898\tbest: 60136.1792310 (1154)\ttotal: 3m 12s\tremaining: 2m 20s\n1157:\tlearn: 18631.1971085\ttest: 60135.8282315\tbest: 60135.8282315 (1157)\ttotal: 3m 12s\tremaining: 2m 20s\n1158:\tlearn: 18621.1848650\ttest: 60136.8544516\tbest: 60135.8282315 (1157)\ttotal: 3m 13s\tremaining: 2m 20s\n1159:\tlearn: 18616.6266429\ttest: 60135.0340340\tbest: 60135.0340340 (1159)\ttotal: 3m 13s\tremaining: 2m 19s\n1160:\tlearn: 18607.1491613\ttest: 60138.1877908\tbest: 60135.0340340 (1159)\ttotal: 3m 13s\tremaining: 2m 19s\n1161:\tlearn: 18605.2792804\ttest: 60138.4044920\tbest: 60135.0340340 (1159)\ttotal: 3m 13s\tremaining: 2m 19s\n1162:\tlearn: 18597.2661038\ttest: 60143.9878326\tbest: 60135.0340340 (1159)\ttotal: 3m 13s\tremaining: 2m 19s\n1163:\tlearn: 18593.8905880\ttest: 60145.4685269\tbest: 60135.0340340 (1159)\ttotal: 3m 13s\tremaining: 2m 19s\n1164:\tlearn: 18582.6012739\ttest: 60143.6533386\tbest: 60135.0340340 (1159)\ttotal: 3m 14s\tremaining: 2m 19s\n1165:\tlearn: 18576.1777947\ttest: 60140.4047493\tbest: 60135.0340340 (1159)\ttotal: 3m 14s\tremaining: 2m 18s\n1166:\tlearn: 18575.1687604\ttest: 60139.7374653\tbest: 60135.0340340 (1159)\ttotal: 3m 14s\tremaining: 2m 18s\n1167:\tlearn: 18558.7720956\ttest: 60137.4907031\tbest: 60135.0340340 (1159)\ttotal: 3m 14s\tremaining: 2m 18s\n1168:\tlearn: 18553.1513740\ttest: 60137.2373390\tbest: 60135.0340340 (1159)\ttotal: 3m 14s\tremaining: 2m 18s\n1169:\tlearn: 18540.0347119\ttest: 60135.1146999\tbest: 60135.0340340 (1159)\ttotal: 3m 14s\tremaining: 2m 18s\n1170:\tlearn: 18537.9236538\ttest: 60135.1129509\tbest: 60135.0340340 (1159)\ttotal: 3m 15s\tremaining: 2m 18s\n1171:\tlearn: 18526.4379896\ttest: 60132.2149140\tbest: 60132.2149140 (1171)\ttotal: 3m 15s\tremaining: 2m 17s\n1172:\tlearn: 18516.2584240\ttest: 60125.5446726\tbest: 60125.5446726 (1172)\ttotal: 3m 15s\tremaining: 2m 17s\n1173:\tlearn: 18509.5875995\ttest: 60124.4476528\tbest: 60124.4476528 (1173)\ttotal: 3m 15s\tremaining: 2m 17s\n1174:\tlearn: 18483.3751964\ttest: 60131.0151591\tbest: 60124.4476528 (1173)\ttotal: 3m 15s\tremaining: 2m 17s\n1175:\tlearn: 18475.6437592\ttest: 60125.5186329\tbest: 60124.4476528 (1173)\ttotal: 3m 15s\tremaining: 2m 17s\n1176:\tlearn: 18464.3838876\ttest: 60127.2290951\tbest: 60124.4476528 (1173)\ttotal: 3m 15s\tremaining: 2m 17s\n1177:\tlearn: 18457.6713450\ttest: 60130.1608082\tbest: 60124.4476528 (1173)\ttotal: 3m 16s\tremaining: 2m 16s\n1178:\tlearn: 18454.0772795\ttest: 60130.3368417\tbest: 60124.4476528 (1173)\ttotal: 3m 16s\tremaining: 2m 16s\n1179:\tlearn: 18435.3941747\ttest: 60127.9882301\tbest: 60124.4476528 (1173)\ttotal: 3m 16s\tremaining: 2m 16s\n1180:\tlearn: 18430.5879628\ttest: 60128.4020524\tbest: 60124.4476528 (1173)\ttotal: 3m 16s\tremaining: 2m 16s\n1181:\tlearn: 18420.0834303\ttest: 60130.2078153\tbest: 60124.4476528 (1173)\ttotal: 3m 16s\tremaining: 2m 16s\n1182:\tlearn: 18418.7796907\ttest: 60130.5852160\tbest: 60124.4476528 (1173)\ttotal: 3m 16s\tremaining: 2m 16s\n1183:\tlearn: 18413.7476651\ttest: 60126.6198594\tbest: 60124.4476528 (1173)\ttotal: 3m 17s\tremaining: 2m 15s\n1184:\tlearn: 18407.4572534\ttest: 60125.7623237\tbest: 60124.4476528 (1173)\ttotal: 3m 17s\tremaining: 2m 15s\n1185:\tlearn: 18399.8602970\ttest: 60126.0412060\tbest: 60124.4476528 (1173)\ttotal: 3m 17s\tremaining: 2m 15s\n1186:\tlearn: 18395.1736068\ttest: 60128.2278634\tbest: 60124.4476528 (1173)\ttotal: 3m 17s\tremaining: 2m 15s\n1187:\tlearn: 18370.2374517\ttest: 60125.0850760\tbest: 60124.4476528 (1173)\ttotal: 3m 17s\tremaining: 2m 15s\n1188:\tlearn: 18357.9319090\ttest: 60124.4799878\tbest: 60124.4476528 (1173)\ttotal: 3m 17s\tremaining: 2m 15s\n1189:\tlearn: 18348.0518195\ttest: 60123.8809909\tbest: 60123.8809909 (1189)\ttotal: 3m 18s\tremaining: 2m 14s\n1190:\tlearn: 18340.3702285\ttest: 60124.0149307\tbest: 60123.8809909 (1189)\ttotal: 3m 18s\tremaining: 2m 14s\n1191:\tlearn: 18339.4181069\ttest: 60123.9837719\tbest: 60123.8809909 (1189)\ttotal: 3m 18s\tremaining: 2m 14s\n1192:\tlearn: 18334.1606066\ttest: 60123.1517514\tbest: 60123.1517514 (1192)\ttotal: 3m 18s\tremaining: 2m 14s\n1193:\tlearn: 18332.4619459\ttest: 60123.9180286\tbest: 60123.1517514 (1192)\ttotal: 3m 18s\tremaining: 2m 14s\n1194:\tlearn: 18323.1050753\ttest: 60124.5306777\tbest: 60123.1517514 (1192)\ttotal: 3m 18s\tremaining: 2m 14s\n1195:\tlearn: 18313.7675603\ttest: 60122.8167244\tbest: 60122.8167244 (1195)\ttotal: 3m 19s\tremaining: 2m 13s\n1196:\tlearn: 18299.5495477\ttest: 60123.5168112\tbest: 60122.8167244 (1195)\ttotal: 3m 19s\tremaining: 2m 13s\n1197:\tlearn: 18295.4008743\ttest: 60122.3387434\tbest: 60122.3387434 (1197)\ttotal: 3m 19s\tremaining: 2m 13s\n1198:\tlearn: 18285.9633460\ttest: 60123.0997248\tbest: 60122.3387434 (1197)\ttotal: 3m 19s\tremaining: 2m 13s\n1199:\tlearn: 18280.4309309\ttest: 60122.8239185\tbest: 60122.3387434 (1197)\ttotal: 3m 19s\tremaining: 2m 13s\n1200:\tlearn: 18269.5708859\ttest: 60118.8226297\tbest: 60118.8226297 (1200)\ttotal: 3m 19s\tremaining: 2m 12s\n1201:\tlearn: 18237.7804416\ttest: 60113.8216145\tbest: 60113.8216145 (1201)\ttotal: 3m 20s\tremaining: 2m 12s\n1202:\tlearn: 18233.5708106\ttest: 60114.8478388\tbest: 60113.8216145 (1201)\ttotal: 3m 20s\tremaining: 2m 12s\n1203:\tlearn: 18223.2006397\ttest: 60114.6967875\tbest: 60113.8216145 (1201)\ttotal: 3m 20s\tremaining: 2m 12s\n1204:\tlearn: 18213.2878237\ttest: 60110.7596376\tbest: 60110.7596376 (1204)\ttotal: 3m 20s\tremaining: 2m 12s\n1205:\tlearn: 18201.4982056\ttest: 60112.8879602\tbest: 60110.7596376 (1204)\ttotal: 3m 20s\tremaining: 2m 12s\n1206:\tlearn: 18183.1550195\ttest: 60113.8495489\tbest: 60110.7596376 (1204)\ttotal: 3m 20s\tremaining: 2m 11s\n1207:\tlearn: 18174.9735559\ttest: 60112.5650354\tbest: 60110.7596376 (1204)\ttotal: 3m 20s\tremaining: 2m 11s\n1208:\tlearn: 18168.0144784\ttest: 60111.5344813\tbest: 60110.7596376 (1204)\ttotal: 3m 21s\tremaining: 2m 11s\n1209:\tlearn: 18163.2381048\ttest: 60106.9201018\tbest: 60106.9201018 (1209)\ttotal: 3m 21s\tremaining: 2m 11s\n1210:\tlearn: 18157.7058342\ttest: 60107.3327699\tbest: 60106.9201018 (1209)\ttotal: 3m 21s\tremaining: 2m 11s\n1211:\tlearn: 18150.1008932\ttest: 60103.4214053\tbest: 60103.4214053 (1211)\ttotal: 3m 21s\tremaining: 2m 11s\n1212:\tlearn: 18140.8094511\ttest: 60100.4211331\tbest: 60100.4211331 (1212)\ttotal: 3m 21s\tremaining: 2m 10s\n1213:\tlearn: 18110.5292959\ttest: 60089.7958267\tbest: 60089.7958267 (1213)\ttotal: 3m 21s\tremaining: 2m 10s\n1214:\tlearn: 18103.2538629\ttest: 60086.1180993\tbest: 60086.1180993 (1214)\ttotal: 3m 22s\tremaining: 2m 10s\n1215:\tlearn: 18101.3209130\ttest: 60085.1309688\tbest: 60085.1309688 (1215)\ttotal: 3m 22s\tremaining: 2m 10s\n1216:\tlearn: 18092.3663128\ttest: 60083.6251852\tbest: 60083.6251852 (1216)\ttotal: 3m 22s\tremaining: 2m 10s\n1217:\tlearn: 18089.6841620\ttest: 60084.5393090\tbest: 60083.6251852 (1216)\ttotal: 3m 22s\tremaining: 2m 10s\n1218:\tlearn: 18084.3100383\ttest: 60085.4452894\tbest: 60083.6251852 (1216)\ttotal: 3m 22s\tremaining: 2m 9s\n1219:\tlearn: 18075.2169214\ttest: 60087.2056215\tbest: 60083.6251852 (1216)\ttotal: 3m 22s\tremaining: 2m 9s\n1220:\tlearn: 18073.2067940\ttest: 60087.1488938\tbest: 60083.6251852 (1216)\ttotal: 3m 23s\tremaining: 2m 9s\n1221:\tlearn: 18056.5528146\ttest: 60080.4224294\tbest: 60080.4224294 (1221)\ttotal: 3m 23s\tremaining: 2m 9s\n1222:\tlearn: 18035.7961970\ttest: 60079.5388933\tbest: 60079.5388933 (1222)\ttotal: 3m 23s\tremaining: 2m 9s\n1223:\tlearn: 18034.5835951\ttest: 60079.4388466\tbest: 60079.4388466 (1223)\ttotal: 3m 23s\tremaining: 2m 9s\n1224:\tlearn: 18011.0433498\ttest: 60084.1579383\tbest: 60079.4388466 (1223)\ttotal: 3m 23s\tremaining: 2m 8s\n1225:\tlearn: 18001.9721601\ttest: 60090.0851676\tbest: 60079.4388466 (1223)\ttotal: 3m 24s\tremaining: 2m 8s\n1226:\tlearn: 17999.9022423\ttest: 60089.6517222\tbest: 60079.4388466 (1223)\ttotal: 3m 24s\tremaining: 2m 8s\n1227:\tlearn: 17987.3920204\ttest: 60085.6937399\tbest: 60079.4388466 (1223)\ttotal: 3m 24s\tremaining: 2m 8s\n1228:\tlearn: 17980.1035156\ttest: 60085.7082097\tbest: 60079.4388466 (1223)\ttotal: 3m 24s\tremaining: 2m 8s\n1229:\tlearn: 17977.2572427\ttest: 60085.6877416\tbest: 60079.4388466 (1223)\ttotal: 3m 24s\tremaining: 2m 8s\n1230:\tlearn: 17959.2957501\ttest: 60083.8874088\tbest: 60079.4388466 (1223)\ttotal: 3m 24s\tremaining: 2m 7s\n1231:\tlearn: 17954.5574261\ttest: 60082.1873876\tbest: 60079.4388466 (1223)\ttotal: 3m 24s\tremaining: 2m 7s\n1232:\tlearn: 17954.2040462\ttest: 60081.9178049\tbest: 60079.4388466 (1223)\ttotal: 3m 25s\tremaining: 2m 7s\n1233:\tlearn: 17948.5171466\ttest: 60081.5973701\tbest: 60079.4388466 (1223)\ttotal: 3m 25s\tremaining: 2m 7s\n1234:\tlearn: 17943.0757040\ttest: 60081.9525911\tbest: 60079.4388466 (1223)\ttotal: 3m 25s\tremaining: 2m 7s\n1235:\tlearn: 17937.7480431\ttest: 60078.9694015\tbest: 60078.9694015 (1235)\ttotal: 3m 25s\tremaining: 2m 7s\n1236:\tlearn: 17933.6363266\ttest: 60081.2053311\tbest: 60078.9694015 (1235)\ttotal: 3m 25s\tremaining: 2m 6s\n1237:\tlearn: 17929.6968428\ttest: 60082.6857449\tbest: 60078.9694015 (1235)\ttotal: 3m 25s\tremaining: 2m 6s\n1238:\tlearn: 17924.4485397\ttest: 60082.1536539\tbest: 60078.9694015 (1235)\ttotal: 3m 25s\tremaining: 2m 6s\n1239:\tlearn: 17917.0727182\ttest: 60076.6835942\tbest: 60076.6835942 (1239)\ttotal: 3m 26s\tremaining: 2m 6s\n1240:\tlearn: 17916.7523839\ttest: 60076.0648780\tbest: 60076.0648780 (1240)\ttotal: 3m 26s\tremaining: 2m 6s\n1241:\tlearn: 17901.7471962\ttest: 60074.6251507\tbest: 60074.6251507 (1241)\ttotal: 3m 26s\tremaining: 2m 6s\n1242:\tlearn: 17894.8225629\ttest: 60071.9562977\tbest: 60071.9562977 (1242)\ttotal: 3m 26s\tremaining: 2m 5s\n1243:\tlearn: 17890.8187115\ttest: 60075.9711212\tbest: 60071.9562977 (1242)\ttotal: 3m 26s\tremaining: 2m 5s\n1244:\tlearn: 17876.2607611\ttest: 60076.3715967\tbest: 60071.9562977 (1242)\ttotal: 3m 26s\tremaining: 2m 5s\n1245:\tlearn: 17869.1423442\ttest: 60075.2494243\tbest: 60071.9562977 (1242)\ttotal: 3m 27s\tremaining: 2m 5s\n1246:\tlearn: 17859.3835508\ttest: 60073.0223387\tbest: 60071.9562977 (1242)\ttotal: 3m 27s\tremaining: 2m 5s\n1247:\tlearn: 17854.1703557\ttest: 60072.8763590\tbest: 60071.9562977 (1242)\ttotal: 3m 27s\tremaining: 2m 4s\n1248:\tlearn: 17851.4257540\ttest: 60071.9189223\tbest: 60071.9189223 (1248)\ttotal: 3m 27s\tremaining: 2m 4s\n1249:\tlearn: 17837.8538027\ttest: 60068.3018693\tbest: 60068.3018693 (1249)\ttotal: 3m 27s\tremaining: 2m 4s\n1250:\tlearn: 17826.7691117\ttest: 60071.9486459\tbest: 60068.3018693 (1249)\ttotal: 3m 27s\tremaining: 2m 4s\n1251:\tlearn: 17820.8921814\ttest: 60071.5134672\tbest: 60068.3018693 (1249)\ttotal: 3m 28s\tremaining: 2m 4s\n1252:\tlearn: 17810.4290216\ttest: 60073.8062311\tbest: 60068.3018693 (1249)\ttotal: 3m 28s\tremaining: 2m 4s\n1253:\tlearn: 17795.7535188\ttest: 60071.3809031\tbest: 60068.3018693 (1249)\ttotal: 3m 28s\tremaining: 2m 3s\n1254:\tlearn: 17790.5531872\ttest: 60070.6519148\tbest: 60068.3018693 (1249)\ttotal: 3m 28s\tremaining: 2m 3s\n1255:\tlearn: 17779.1214659\ttest: 60065.7644355\tbest: 60065.7644355 (1255)\ttotal: 3m 28s\tremaining: 2m 3s\n1256:\tlearn: 17769.0105306\ttest: 60058.8628715\tbest: 60058.8628715 (1256)\ttotal: 3m 28s\tremaining: 2m 3s\n1257:\tlearn: 17759.2184789\ttest: 60058.6679549\tbest: 60058.6679549 (1257)\ttotal: 3m 28s\tremaining: 2m 3s\n1258:\tlearn: 17747.0753913\ttest: 60063.9910480\tbest: 60058.6679549 (1257)\ttotal: 3m 29s\tremaining: 2m 3s\n1259:\tlearn: 17733.1782243\ttest: 60063.9997086\tbest: 60058.6679549 (1257)\ttotal: 3m 29s\tremaining: 2m 2s\n1260:\tlearn: 17724.1793401\ttest: 60062.8826696\tbest: 60058.6679549 (1257)\ttotal: 3m 29s\tremaining: 2m 2s\n1261:\tlearn: 17715.3372815\ttest: 60060.8621633\tbest: 60058.6679549 (1257)\ttotal: 3m 29s\tremaining: 2m 2s\n1262:\tlearn: 17702.0660686\ttest: 60060.8653941\tbest: 60058.6679549 (1257)\ttotal: 3m 29s\tremaining: 2m 2s\n1263:\tlearn: 17693.9623838\ttest: 60061.0443585\tbest: 60058.6679549 (1257)\ttotal: 3m 29s\tremaining: 2m 2s\n1264:\tlearn: 17684.5901142\ttest: 60060.1467333\tbest: 60058.6679549 (1257)\ttotal: 3m 30s\tremaining: 2m 2s\n1265:\tlearn: 17678.2931470\ttest: 60059.2563112\tbest: 60058.6679549 (1257)\ttotal: 3m 30s\tremaining: 2m 1s\n1266:\tlearn: 17676.3990883\ttest: 60059.4864321\tbest: 60058.6679549 (1257)\ttotal: 3m 30s\tremaining: 2m 1s\n1267:\tlearn: 17660.9045541\ttest: 60056.6025495\tbest: 60056.6025495 (1267)\ttotal: 3m 30s\tremaining: 2m 1s\n1268:\tlearn: 17648.2579963\ttest: 60051.5087410\tbest: 60051.5087410 (1268)\ttotal: 3m 30s\tremaining: 2m 1s\n1269:\tlearn: 17643.3138343\ttest: 60049.2588984\tbest: 60049.2588984 (1269)\ttotal: 3m 30s\tremaining: 2m 1s\n1270:\tlearn: 17627.8416526\ttest: 60048.6281130\tbest: 60048.6281130 (1270)\ttotal: 3m 31s\tremaining: 2m 1s\n1271:\tlearn: 17622.6556241\ttest: 60051.2340163\tbest: 60048.6281130 (1270)\ttotal: 3m 31s\tremaining: 2m\n1272:\tlearn: 17616.5412141\ttest: 60046.5699162\tbest: 60046.5699162 (1272)\ttotal: 3m 31s\tremaining: 2m\n1273:\tlearn: 17601.5578063\ttest: 60051.7749734\tbest: 60046.5699162 (1272)\ttotal: 3m 31s\tremaining: 2m\n1274:\tlearn: 17594.2130990\ttest: 60050.7453069\tbest: 60046.5699162 (1272)\ttotal: 3m 31s\tremaining: 2m\n1275:\tlearn: 17582.1131981\ttest: 60052.1171675\tbest: 60046.5699162 (1272)\ttotal: 3m 32s\tremaining: 2m\n1276:\tlearn: 17576.7090744\ttest: 60050.7403480\tbest: 60046.5699162 (1272)\ttotal: 3m 32s\tremaining: 2m\n1277:\tlearn: 17556.2932704\ttest: 60048.2393242\tbest: 60046.5699162 (1272)\ttotal: 3m 32s\tremaining: 1m 59s\n1278:\tlearn: 17545.7196081\ttest: 60049.8557862\tbest: 60046.5699162 (1272)\ttotal: 3m 32s\tremaining: 1m 59s\n1279:\tlearn: 17543.2027395\ttest: 60050.0542921\tbest: 60046.5699162 (1272)\ttotal: 3m 32s\tremaining: 1m 59s\n1280:\tlearn: 17539.0803142\ttest: 60048.7768419\tbest: 60046.5699162 (1272)\ttotal: 3m 32s\tremaining: 1m 59s\n1281:\tlearn: 17529.3867886\ttest: 60045.0875818\tbest: 60045.0875818 (1281)\ttotal: 3m 33s\tremaining: 1m 59s\n1282:\tlearn: 17520.3107655\ttest: 60046.1104600\tbest: 60045.0875818 (1281)\ttotal: 3m 33s\tremaining: 1m 59s\n1283:\tlearn: 17516.1074684\ttest: 60043.5216080\tbest: 60043.5216080 (1283)\ttotal: 3m 33s\tremaining: 1m 58s\n1284:\tlearn: 17496.3739434\ttest: 60036.3498390\tbest: 60036.3498390 (1284)\ttotal: 3m 33s\tremaining: 1m 58s\n1285:\tlearn: 17488.6598522\ttest: 60039.6607903\tbest: 60036.3498390 (1284)\ttotal: 3m 33s\tremaining: 1m 58s\n1286:\tlearn: 17486.0451982\ttest: 60037.5462513\tbest: 60036.3498390 (1284)\ttotal: 3m 33s\tremaining: 1m 58s\n1287:\tlearn: 17469.3961995\ttest: 60033.1566993\tbest: 60033.1566993 (1287)\ttotal: 3m 34s\tremaining: 1m 58s\n1288:\tlearn: 17464.2847175\ttest: 60036.9165768\tbest: 60033.1566993 (1287)\ttotal: 3m 34s\tremaining: 1m 58s\n1289:\tlearn: 17457.4926642\ttest: 60037.1391123\tbest: 60033.1566993 (1287)\ttotal: 3m 34s\tremaining: 1m 57s\n1290:\tlearn: 17449.8102391\ttest: 60035.5655644\tbest: 60033.1566993 (1287)\ttotal: 3m 34s\tremaining: 1m 57s\n1291:\tlearn: 17434.2776093\ttest: 60035.1082200\tbest: 60033.1566993 (1287)\ttotal: 3m 34s\tremaining: 1m 57s\n1292:\tlearn: 17419.8340308\ttest: 60029.2669857\tbest: 60029.2669857 (1292)\ttotal: 3m 34s\tremaining: 1m 57s\n1293:\tlearn: 17415.7892196\ttest: 60029.7923647\tbest: 60029.2669857 (1292)\ttotal: 3m 34s\tremaining: 1m 57s\n1294:\tlearn: 17402.5347602\ttest: 60025.3862735\tbest: 60025.3862735 (1294)\ttotal: 3m 35s\tremaining: 1m 57s\n1295:\tlearn: 17395.1078853\ttest: 60024.6500278\tbest: 60024.6500278 (1295)\ttotal: 3m 35s\tremaining: 1m 56s\n1296:\tlearn: 17374.3590297\ttest: 60022.3067368\tbest: 60022.3067368 (1296)\ttotal: 3m 35s\tremaining: 1m 56s\n1297:\tlearn: 17359.0660324\ttest: 60009.4688371\tbest: 60009.4688371 (1297)\ttotal: 3m 35s\tremaining: 1m 56s\n1298:\tlearn: 17354.5536689\ttest: 60009.5160096\tbest: 60009.4688371 (1297)\ttotal: 3m 35s\tremaining: 1m 56s\n1299:\tlearn: 17347.0192377\ttest: 60010.0288616\tbest: 60009.4688371 (1297)\ttotal: 3m 36s\tremaining: 1m 56s\n1300:\tlearn: 17344.9839355\ttest: 60009.6593109\tbest: 60009.4688371 (1297)\ttotal: 3m 36s\tremaining: 1m 56s\n1301:\tlearn: 17334.0371022\ttest: 60006.2847018\tbest: 60006.2847018 (1301)\ttotal: 3m 36s\tremaining: 1m 56s\n1302:\tlearn: 17332.1396388\ttest: 60008.7806613\tbest: 60006.2847018 (1301)\ttotal: 3m 36s\tremaining: 1m 55s\n1303:\tlearn: 17327.6866107\ttest: 60008.0667877\tbest: 60006.2847018 (1301)\ttotal: 3m 36s\tremaining: 1m 55s\n1304:\tlearn: 17311.5795672\ttest: 60001.7465014\tbest: 60001.7465014 (1304)\ttotal: 3m 36s\tremaining: 1m 55s\n1305:\tlearn: 17307.1786924\ttest: 60002.1692026\tbest: 60001.7465014 (1304)\ttotal: 3m 36s\tremaining: 1m 55s\n1306:\tlearn: 17291.0927565\ttest: 60005.5678215\tbest: 60001.7465014 (1304)\ttotal: 3m 37s\tremaining: 1m 55s\n1307:\tlearn: 17278.5457934\ttest: 60004.3298025\tbest: 60001.7465014 (1304)\ttotal: 3m 37s\tremaining: 1m 54s\n1308:\tlearn: 17272.5796594\ttest: 60005.5350082\tbest: 60001.7465014 (1304)\ttotal: 3m 37s\tremaining: 1m 54s\n1309:\tlearn: 17255.9673711\ttest: 59999.9483633\tbest: 59999.9483633 (1309)\ttotal: 3m 37s\tremaining: 1m 54s\n1310:\tlearn: 17243.8923681\ttest: 59997.2551065\tbest: 59997.2551065 (1310)\ttotal: 3m 37s\tremaining: 1m 54s\n1311:\tlearn: 17236.0337549\ttest: 59995.1375801\tbest: 59995.1375801 (1311)\ttotal: 3m 37s\tremaining: 1m 54s\n1312:\tlearn: 17230.3180816\ttest: 59995.2956018\tbest: 59995.1375801 (1311)\ttotal: 3m 38s\tremaining: 1m 54s\n1313:\tlearn: 17222.7486408\ttest: 59992.9484689\tbest: 59992.9484689 (1313)\ttotal: 3m 38s\tremaining: 1m 53s\n1314:\tlearn: 17207.4343337\ttest: 59988.3082755\tbest: 59988.3082755 (1314)\ttotal: 3m 38s\tremaining: 1m 53s\n1315:\tlearn: 17202.0392172\ttest: 59990.0167992\tbest: 59988.3082755 (1314)\ttotal: 3m 38s\tremaining: 1m 53s\n1316:\tlearn: 17200.6149835\ttest: 59990.5578525\tbest: 59988.3082755 (1314)\ttotal: 3m 38s\tremaining: 1m 53s\n1317:\tlearn: 17196.8525798\ttest: 59991.2177817\tbest: 59988.3082755 (1314)\ttotal: 3m 38s\tremaining: 1m 53s\n1318:\tlearn: 17181.3320285\ttest: 59984.5992975\tbest: 59984.5992975 (1318)\ttotal: 3m 39s\tremaining: 1m 53s\n1319:\tlearn: 17171.5423786\ttest: 59988.5434789\tbest: 59984.5992975 (1318)\ttotal: 3m 39s\tremaining: 1m 52s\n1320:\tlearn: 17153.0213316\ttest: 59988.4087853\tbest: 59984.5992975 (1318)\ttotal: 3m 39s\tremaining: 1m 52s\n1321:\tlearn: 17150.1518131\ttest: 59986.8137798\tbest: 59984.5992975 (1318)\ttotal: 3m 39s\tremaining: 1m 52s\n1322:\tlearn: 17146.3140397\ttest: 59986.1748104\tbest: 59984.5992975 (1318)\ttotal: 3m 39s\tremaining: 1m 52s\n1323:\tlearn: 17142.6679320\ttest: 59984.5939964\tbest: 59984.5939964 (1323)\ttotal: 3m 39s\tremaining: 1m 52s\n1324:\tlearn: 17131.6720952\ttest: 59984.7002181\tbest: 59984.5939964 (1323)\ttotal: 3m 40s\tremaining: 1m 52s\n1325:\tlearn: 17117.7200216\ttest: 59982.0048575\tbest: 59982.0048575 (1325)\ttotal: 3m 40s\tremaining: 1m 51s\n1326:\tlearn: 17102.5690820\ttest: 59979.0793364\tbest: 59979.0793364 (1326)\ttotal: 3m 40s\tremaining: 1m 51s\n1327:\tlearn: 17087.1640666\ttest: 59984.9170390\tbest: 59979.0793364 (1326)\ttotal: 3m 40s\tremaining: 1m 51s\n1328:\tlearn: 17079.6154770\ttest: 59988.8531710\tbest: 59979.0793364 (1326)\ttotal: 3m 40s\tremaining: 1m 51s\n1329:\tlearn: 17074.6543145\ttest: 59988.0621659\tbest: 59979.0793364 (1326)\ttotal: 3m 40s\tremaining: 1m 51s\n1330:\tlearn: 17067.1155751\ttest: 59976.8979107\tbest: 59976.8979107 (1330)\ttotal: 3m 41s\tremaining: 1m 51s\n1331:\tlearn: 17065.8826618\ttest: 59977.3464294\tbest: 59976.8979107 (1330)\ttotal: 3m 41s\tremaining: 1m 50s\n1332:\tlearn: 17055.0552069\ttest: 59978.4330574\tbest: 59976.8979107 (1330)\ttotal: 3m 41s\tremaining: 1m 50s\n1333:\tlearn: 17048.8581132\ttest: 59978.6353771\tbest: 59976.8979107 (1330)\ttotal: 3m 41s\tremaining: 1m 50s\n1334:\tlearn: 17045.9982743\ttest: 59977.4792251\tbest: 59976.8979107 (1330)\ttotal: 3m 41s\tremaining: 1m 50s\n1335:\tlearn: 17041.9565918\ttest: 59979.1515617\tbest: 59976.8979107 (1330)\ttotal: 3m 41s\tremaining: 1m 50s\n1336:\tlearn: 17028.0316400\ttest: 59984.6182661\tbest: 59976.8979107 (1330)\ttotal: 3m 42s\tremaining: 1m 50s\n1337:\tlearn: 17027.0036933\ttest: 59986.5628851\tbest: 59976.8979107 (1330)\ttotal: 3m 42s\tremaining: 1m 49s\n1338:\tlearn: 17025.8872040\ttest: 59986.6760261\tbest: 59976.8979107 (1330)\ttotal: 3m 42s\tremaining: 1m 49s\n1339:\tlearn: 17013.5493965\ttest: 59990.3595699\tbest: 59976.8979107 (1330)\ttotal: 3m 42s\tremaining: 1m 49s\n1340:\tlearn: 17010.5814177\ttest: 59990.0955137\tbest: 59976.8979107 (1330)\ttotal: 3m 42s\tremaining: 1m 49s\n1341:\tlearn: 17009.6667931\ttest: 59990.5014904\tbest: 59976.8979107 (1330)\ttotal: 3m 42s\tremaining: 1m 49s\n1342:\tlearn: 16993.7498773\ttest: 59988.5011729\tbest: 59976.8979107 (1330)\ttotal: 3m 42s\tremaining: 1m 49s\n1343:\tlearn: 16977.7945277\ttest: 59993.6837175\tbest: 59976.8979107 (1330)\ttotal: 3m 43s\tremaining: 1m 48s\n1344:\tlearn: 16967.7512340\ttest: 59994.9362073\tbest: 59976.8979107 (1330)\ttotal: 3m 43s\tremaining: 1m 48s\n1345:\tlearn: 16964.5821822\ttest: 59991.6563515\tbest: 59976.8979107 (1330)\ttotal: 3m 43s\tremaining: 1m 48s\n1346:\tlearn: 16959.3423697\ttest: 59989.1414353\tbest: 59976.8979107 (1330)\ttotal: 3m 43s\tremaining: 1m 48s\n1347:\tlearn: 16949.8612440\ttest: 59990.9842850\tbest: 59976.8979107 (1330)\ttotal: 3m 43s\tremaining: 1m 48s\n1348:\tlearn: 16943.1180134\ttest: 59989.8299346\tbest: 59976.8979107 (1330)\ttotal: 3m 43s\tremaining: 1m 48s\n1349:\tlearn: 16935.2194478\ttest: 59986.9274766\tbest: 59976.8979107 (1330)\ttotal: 3m 44s\tremaining: 1m 47s\n1350:\tlearn: 16924.9687705\ttest: 59985.9825607\tbest: 59976.8979107 (1330)\ttotal: 3m 44s\tremaining: 1m 47s\n1351:\tlearn: 16908.9838721\ttest: 59983.8341315\tbest: 59976.8979107 (1330)\ttotal: 3m 44s\tremaining: 1m 47s\n1352:\tlearn: 16903.8679537\ttest: 59986.3958127\tbest: 59976.8979107 (1330)\ttotal: 3m 44s\tremaining: 1m 47s\n1353:\tlearn: 16893.5900985\ttest: 59988.9256012\tbest: 59976.8979107 (1330)\ttotal: 3m 44s\tremaining: 1m 47s\n1354:\tlearn: 16886.0656787\ttest: 59990.8465895\tbest: 59976.8979107 (1330)\ttotal: 3m 44s\tremaining: 1m 47s\n1355:\tlearn: 16867.4541467\ttest: 59997.7917618\tbest: 59976.8979107 (1330)\ttotal: 3m 45s\tremaining: 1m 46s\n1356:\tlearn: 16856.5823046\ttest: 59995.6737768\tbest: 59976.8979107 (1330)\ttotal: 3m 45s\tremaining: 1m 46s\n1357:\tlearn: 16845.2186951\ttest: 59995.2371197\tbest: 59976.8979107 (1330)\ttotal: 3m 45s\tremaining: 1m 46s\n1358:\tlearn: 16837.0946668\ttest: 59996.0119711\tbest: 59976.8979107 (1330)\ttotal: 3m 45s\tremaining: 1m 46s\n1359:\tlearn: 16834.4612856\ttest: 59995.4735865\tbest: 59976.8979107 (1330)\ttotal: 3m 46s\tremaining: 1m 46s\n1360:\tlearn: 16832.1362598\ttest: 59995.5188420\tbest: 59976.8979107 (1330)\ttotal: 3m 46s\tremaining: 1m 46s\n1361:\tlearn: 16827.0169675\ttest: 59994.6823981\tbest: 59976.8979107 (1330)\ttotal: 3m 46s\tremaining: 1m 46s\n1362:\tlearn: 16807.5297262\ttest: 59991.1356499\tbest: 59976.8979107 (1330)\ttotal: 3m 46s\tremaining: 1m 45s\n1363:\tlearn: 16805.8249801\ttest: 59989.6156824\tbest: 59976.8979107 (1330)\ttotal: 3m 46s\tremaining: 1m 45s\n1364:\tlearn: 16798.7054280\ttest: 59989.2151777\tbest: 59976.8979107 (1330)\ttotal: 3m 46s\tremaining: 1m 45s\n1365:\tlearn: 16786.3082770\ttest: 59988.7903566\tbest: 59976.8979107 (1330)\ttotal: 3m 47s\tremaining: 1m 45s\n1366:\tlearn: 16776.3077457\ttest: 59989.9604576\tbest: 59976.8979107 (1330)\ttotal: 3m 47s\tremaining: 1m 45s\n1367:\tlearn: 16758.4947300\ttest: 59984.3988395\tbest: 59976.8979107 (1330)\ttotal: 3m 47s\tremaining: 1m 45s\n1368:\tlearn: 16737.5086852\ttest: 59979.9003365\tbest: 59976.8979107 (1330)\ttotal: 3m 47s\tremaining: 1m 44s\n1369:\tlearn: 16726.6240631\ttest: 59982.7182139\tbest: 59976.8979107 (1330)\ttotal: 3m 47s\tremaining: 1m 44s\n1370:\tlearn: 16717.9129000\ttest: 59980.6409290\tbest: 59976.8979107 (1330)\ttotal: 3m 48s\tremaining: 1m 44s\n1371:\tlearn: 16708.3290790\ttest: 59979.3552519\tbest: 59976.8979107 (1330)\ttotal: 3m 48s\tremaining: 1m 44s\n1372:\tlearn: 16698.8264006\ttest: 59978.2475644\tbest: 59976.8979107 (1330)\ttotal: 3m 48s\tremaining: 1m 44s\n1373:\tlearn: 16688.9954781\ttest: 59979.4631367\tbest: 59976.8979107 (1330)\ttotal: 3m 48s\tremaining: 1m 44s\n1374:\tlearn: 16674.2947163\ttest: 59978.6769924\tbest: 59976.8979107 (1330)\ttotal: 3m 48s\tremaining: 1m 43s\n1375:\tlearn: 16661.0130282\ttest: 59980.5672160\tbest: 59976.8979107 (1330)\ttotal: 3m 48s\tremaining: 1m 43s\n1376:\tlearn: 16653.6833996\ttest: 59977.4479419\tbest: 59976.8979107 (1330)\ttotal: 3m 49s\tremaining: 1m 43s\n1377:\tlearn: 16641.8738948\ttest: 59975.6986611\tbest: 59975.6986611 (1377)\ttotal: 3m 49s\tremaining: 1m 43s\n1378:\tlearn: 16632.0810851\ttest: 59973.8728900\tbest: 59973.8728900 (1378)\ttotal: 3m 49s\tremaining: 1m 43s\n1379:\tlearn: 16621.3717195\ttest: 59972.0245193\tbest: 59972.0245193 (1379)\ttotal: 3m 49s\tremaining: 1m 43s\n1380:\tlearn: 16617.6798598\ttest: 59969.6668439\tbest: 59969.6668439 (1380)\ttotal: 3m 49s\tremaining: 1m 42s\n1381:\tlearn: 16604.4252376\ttest: 59967.2455268\tbest: 59967.2455268 (1381)\ttotal: 3m 49s\tremaining: 1m 42s\n1382:\tlearn: 16601.0212689\ttest: 59966.7650203\tbest: 59966.7650203 (1382)\ttotal: 3m 50s\tremaining: 1m 42s\n1383:\tlearn: 16599.8070151\ttest: 59965.0269756\tbest: 59965.0269756 (1383)\ttotal: 3m 50s\tremaining: 1m 42s\n1384:\tlearn: 16590.9049740\ttest: 59962.8227142\tbest: 59962.8227142 (1384)\ttotal: 3m 50s\tremaining: 1m 42s\n1385:\tlearn: 16580.2346593\ttest: 59954.5929311\tbest: 59954.5929311 (1385)\ttotal: 3m 50s\tremaining: 1m 42s\n1386:\tlearn: 16575.6964233\ttest: 59954.2122085\tbest: 59954.2122085 (1386)\ttotal: 3m 50s\tremaining: 1m 42s\n1387:\tlearn: 16571.2250596\ttest: 59954.2476570\tbest: 59954.2122085 (1386)\ttotal: 3m 51s\tremaining: 1m 41s\n1388:\tlearn: 16565.9145479\ttest: 59954.6271975\tbest: 59954.2122085 (1386)\ttotal: 3m 51s\tremaining: 1m 41s\n1389:\tlearn: 16556.3832787\ttest: 59950.1463287\tbest: 59950.1463287 (1389)\ttotal: 3m 51s\tremaining: 1m 41s\n1390:\tlearn: 16549.5106979\ttest: 59949.0869490\tbest: 59949.0869490 (1390)\ttotal: 3m 51s\tremaining: 1m 41s\n1391:\tlearn: 16545.2716858\ttest: 59948.3247538\tbest: 59948.3247538 (1391)\ttotal: 3m 51s\tremaining: 1m 41s\n1392:\tlearn: 16541.1652994\ttest: 59949.0390405\tbest: 59948.3247538 (1391)\ttotal: 3m 51s\tremaining: 1m 41s\n1393:\tlearn: 16529.6799310\ttest: 59946.1454259\tbest: 59946.1454259 (1393)\ttotal: 3m 52s\tremaining: 1m 40s\n1394:\tlearn: 16513.6676113\ttest: 59949.1370872\tbest: 59946.1454259 (1393)\ttotal: 3m 52s\tremaining: 1m 40s\n1395:\tlearn: 16503.9616997\ttest: 59946.0199103\tbest: 59946.0199103 (1395)\ttotal: 3m 52s\tremaining: 1m 40s\n1396:\tlearn: 16500.1207789\ttest: 59946.9168924\tbest: 59946.0199103 (1395)\ttotal: 3m 52s\tremaining: 1m 40s\n1397:\tlearn: 16482.8542033\ttest: 59949.7615713\tbest: 59946.0199103 (1395)\ttotal: 3m 52s\tremaining: 1m 40s\n1398:\tlearn: 16473.4568550\ttest: 59952.0234638\tbest: 59946.0199103 (1395)\ttotal: 3m 52s\tremaining: 1m 40s\n1399:\tlearn: 16465.3401824\ttest: 59953.1517517\tbest: 59946.0199103 (1395)\ttotal: 3m 53s\tremaining: 1m 39s\n1400:\tlearn: 16452.0879758\ttest: 59947.3591277\tbest: 59946.0199103 (1395)\ttotal: 3m 53s\tremaining: 1m 39s\n1401:\tlearn: 16450.6295742\ttest: 59947.3907842\tbest: 59946.0199103 (1395)\ttotal: 3m 53s\tremaining: 1m 39s\n1402:\tlearn: 16431.2462862\ttest: 59943.0340771\tbest: 59943.0340771 (1402)\ttotal: 3m 53s\tremaining: 1m 39s\n1403:\tlearn: 16425.4371229\ttest: 59942.0466765\tbest: 59942.0466765 (1403)\ttotal: 3m 53s\tremaining: 1m 39s\n1404:\tlearn: 16398.3700095\ttest: 59934.3332385\tbest: 59934.3332385 (1404)\ttotal: 3m 54s\tremaining: 1m 39s\n1405:\tlearn: 16392.3454916\ttest: 59934.9470004\tbest: 59934.3332385 (1404)\ttotal: 3m 54s\tremaining: 1m 38s\n1406:\tlearn: 16378.1956838\ttest: 59938.7726883\tbest: 59934.3332385 (1404)\ttotal: 3m 54s\tremaining: 1m 38s\n1407:\tlearn: 16371.6152460\ttest: 59938.7347076\tbest: 59934.3332385 (1404)\ttotal: 3m 54s\tremaining: 1m 38s\n1408:\tlearn: 16370.3531477\ttest: 59938.6950914\tbest: 59934.3332385 (1404)\ttotal: 3m 54s\tremaining: 1m 38s\n1409:\tlearn: 16363.7147398\ttest: 59938.2701100\tbest: 59934.3332385 (1404)\ttotal: 3m 54s\tremaining: 1m 38s\n1410:\tlearn: 16355.0576613\ttest: 59943.2688521\tbest: 59934.3332385 (1404)\ttotal: 3m 55s\tremaining: 1m 38s\n1411:\tlearn: 16340.4626391\ttest: 59942.9662847\tbest: 59934.3332385 (1404)\ttotal: 3m 55s\tremaining: 1m 37s\n1412:\tlearn: 16332.2537044\ttest: 59940.6600452\tbest: 59934.3332385 (1404)\ttotal: 3m 55s\tremaining: 1m 37s\n1413:\tlearn: 16318.5928382\ttest: 59939.2694518\tbest: 59934.3332385 (1404)\ttotal: 3m 55s\tremaining: 1m 37s\n1414:\tlearn: 16313.3695767\ttest: 59933.1429382\tbest: 59933.1429382 (1414)\ttotal: 3m 55s\tremaining: 1m 37s\n1415:\tlearn: 16303.5862994\ttest: 59936.1552224\tbest: 59933.1429382 (1414)\ttotal: 3m 55s\tremaining: 1m 37s\n1416:\tlearn: 16300.2683706\ttest: 59935.4941909\tbest: 59933.1429382 (1414)\ttotal: 3m 56s\tremaining: 1m 37s\n1417:\tlearn: 16282.1284564\ttest: 59938.5721149\tbest: 59933.1429382 (1414)\ttotal: 3m 56s\tremaining: 1m 36s\n1418:\tlearn: 16279.8481508\ttest: 59938.2020103\tbest: 59933.1429382 (1414)\ttotal: 3m 56s\tremaining: 1m 36s\n1419:\tlearn: 16271.2607981\ttest: 59935.1287867\tbest: 59933.1429382 (1414)\ttotal: 3m 56s\tremaining: 1m 36s\n1420:\tlearn: 16258.9715421\ttest: 59933.8886316\tbest: 59933.1429382 (1414)\ttotal: 3m 56s\tremaining: 1m 36s\n1421:\tlearn: 16258.1046129\ttest: 59934.4727942\tbest: 59933.1429382 (1414)\ttotal: 3m 56s\tremaining: 1m 36s\n1422:\tlearn: 16247.0291151\ttest: 59935.3698547\tbest: 59933.1429382 (1414)\ttotal: 3m 56s\tremaining: 1m 36s\n1423:\tlearn: 16235.6179905\ttest: 59924.5663464\tbest: 59924.5663464 (1423)\ttotal: 3m 57s\tremaining: 1m 35s\n1424:\tlearn: 16227.3789865\ttest: 59924.1029435\tbest: 59924.1029435 (1424)\ttotal: 3m 57s\tremaining: 1m 35s\n1425:\tlearn: 16209.9361794\ttest: 59929.0336417\tbest: 59924.1029435 (1424)\ttotal: 3m 57s\tremaining: 1m 35s\n1426:\tlearn: 16201.6124148\ttest: 59929.1355711\tbest: 59924.1029435 (1424)\ttotal: 3m 57s\tremaining: 1m 35s\n1427:\tlearn: 16198.9033158\ttest: 59930.3623293\tbest: 59924.1029435 (1424)\ttotal: 3m 57s\tremaining: 1m 35s\n1428:\tlearn: 16192.8900219\ttest: 59928.2971631\tbest: 59924.1029435 (1424)\ttotal: 3m 58s\tremaining: 1m 35s\n1429:\tlearn: 16183.2807267\ttest: 59929.3462495\tbest: 59924.1029435 (1424)\ttotal: 3m 58s\tremaining: 1m 34s\n1430:\tlearn: 16181.9774404\ttest: 59928.7889004\tbest: 59924.1029435 (1424)\ttotal: 3m 58s\tremaining: 1m 34s\n1431:\tlearn: 16169.3561312\ttest: 59930.3731758\tbest: 59924.1029435 (1424)\ttotal: 3m 58s\tremaining: 1m 34s\n1432:\tlearn: 16168.4837610\ttest: 59930.1307745\tbest: 59924.1029435 (1424)\ttotal: 3m 58s\tremaining: 1m 34s\n1433:\tlearn: 16162.3404627\ttest: 59930.5047768\tbest: 59924.1029435 (1424)\ttotal: 3m 58s\tremaining: 1m 34s\n1434:\tlearn: 16150.3065980\ttest: 59930.2139965\tbest: 59924.1029435 (1424)\ttotal: 3m 59s\tremaining: 1m 34s\n1435:\tlearn: 16146.2945070\ttest: 59930.2988037\tbest: 59924.1029435 (1424)\ttotal: 3m 59s\tremaining: 1m 33s\n1436:\tlearn: 16143.6510498\ttest: 59930.2256825\tbest: 59924.1029435 (1424)\ttotal: 3m 59s\tremaining: 1m 33s\n1437:\tlearn: 16131.7851166\ttest: 59933.7353971\tbest: 59924.1029435 (1424)\ttotal: 3m 59s\tremaining: 1m 33s\n1438:\tlearn: 16123.0012604\ttest: 59930.4314451\tbest: 59924.1029435 (1424)\ttotal: 3m 59s\tremaining: 1m 33s\n1439:\tlearn: 16117.5568859\ttest: 59931.5363195\tbest: 59924.1029435 (1424)\ttotal: 3m 59s\tremaining: 1m 33s\n1440:\tlearn: 16102.8681884\ttest: 59932.5102755\tbest: 59924.1029435 (1424)\ttotal: 3m 59s\tremaining: 1m 33s\n1441:\tlearn: 16096.5137905\ttest: 59932.2146232\tbest: 59924.1029435 (1424)\ttotal: 4m\tremaining: 1m 32s\n1442:\tlearn: 16089.7975569\ttest: 59932.7694855\tbest: 59924.1029435 (1424)\ttotal: 4m\tremaining: 1m 32s\n1443:\tlearn: 16083.3969176\ttest: 59931.5287214\tbest: 59924.1029435 (1424)\ttotal: 4m\tremaining: 1m 32s\n1444:\tlearn: 16077.1693467\ttest: 59931.0983376\tbest: 59924.1029435 (1424)\ttotal: 4m\tremaining: 1m 32s\n1445:\tlearn: 16065.7956492\ttest: 59933.4749951\tbest: 59924.1029435 (1424)\ttotal: 4m\tremaining: 1m 32s\n1446:\tlearn: 16054.3228954\ttest: 59936.6582993\tbest: 59924.1029435 (1424)\ttotal: 4m 1s\tremaining: 1m 32s\n1447:\tlearn: 16044.1657889\ttest: 59937.4174997\tbest: 59924.1029435 (1424)\ttotal: 4m 1s\tremaining: 1m 31s\n1448:\tlearn: 16038.8070508\ttest: 59937.7406373\tbest: 59924.1029435 (1424)\ttotal: 4m 1s\tremaining: 1m 31s\n1449:\tlearn: 16022.0512292\ttest: 59934.6875553\tbest: 59924.1029435 (1424)\ttotal: 4m 1s\tremaining: 1m 31s\n1450:\tlearn: 16016.9169987\ttest: 59933.0322487\tbest: 59924.1029435 (1424)\ttotal: 4m 1s\tremaining: 1m 31s\n1451:\tlearn: 16010.3342298\ttest: 59931.3653660\tbest: 59924.1029435 (1424)\ttotal: 4m 2s\tremaining: 1m 31s\n1452:\tlearn: 16007.3839558\ttest: 59931.0730310\tbest: 59924.1029435 (1424)\ttotal: 4m 2s\tremaining: 1m 31s\n1453:\tlearn: 16000.2937379\ttest: 59930.6627862\tbest: 59924.1029435 (1424)\ttotal: 4m 2s\tremaining: 1m 31s\n1454:\tlearn: 15988.3380553\ttest: 59931.1204865\tbest: 59924.1029435 (1424)\ttotal: 4m 2s\tremaining: 1m 30s\n1455:\tlearn: 15983.9450277\ttest: 59930.7516639\tbest: 59924.1029435 (1424)\ttotal: 4m 2s\tremaining: 1m 30s\n1456:\tlearn: 15971.3857738\ttest: 59928.6693522\tbest: 59924.1029435 (1424)\ttotal: 4m 3s\tremaining: 1m 30s\n1457:\tlearn: 15966.2545044\ttest: 59927.9607216\tbest: 59924.1029435 (1424)\ttotal: 4m 3s\tremaining: 1m 30s\n1458:\tlearn: 15959.9314588\ttest: 59923.7148824\tbest: 59923.7148824 (1458)\ttotal: 4m 3s\tremaining: 1m 30s\n1459:\tlearn: 15959.5278027\ttest: 59923.9642962\tbest: 59923.7148824 (1458)\ttotal: 4m 3s\tremaining: 1m 30s\n1460:\tlearn: 15954.9607422\ttest: 59923.4085480\tbest: 59923.4085480 (1460)\ttotal: 4m 4s\tremaining: 1m 30s\n1461:\tlearn: 15940.8502094\ttest: 59920.0114574\tbest: 59920.0114574 (1461)\ttotal: 4m 4s\tremaining: 1m 29s\n1462:\tlearn: 15934.0531203\ttest: 59919.1284583\tbest: 59919.1284583 (1462)\ttotal: 4m 4s\tremaining: 1m 29s\n1463:\tlearn: 15925.2981263\ttest: 59918.2222685\tbest: 59918.2222685 (1463)\ttotal: 4m 4s\tremaining: 1m 29s\n1464:\tlearn: 15916.0142897\ttest: 59923.7267144\tbest: 59918.2222685 (1463)\ttotal: 4m 4s\tremaining: 1m 29s\n1465:\tlearn: 15900.9437728\ttest: 59920.3971780\tbest: 59918.2222685 (1463)\ttotal: 4m 4s\tremaining: 1m 29s\n1466:\tlearn: 15898.7337807\ttest: 59921.3619112\tbest: 59918.2222685 (1463)\ttotal: 4m 5s\tremaining: 1m 29s\n1467:\tlearn: 15889.2185624\ttest: 59922.2220075\tbest: 59918.2222685 (1463)\ttotal: 4m 5s\tremaining: 1m 28s\n1468:\tlearn: 15883.3011080\ttest: 59922.9135957\tbest: 59918.2222685 (1463)\ttotal: 4m 5s\tremaining: 1m 28s\n1469:\tlearn: 15877.4525121\ttest: 59923.9137686\tbest: 59918.2222685 (1463)\ttotal: 4m 5s\tremaining: 1m 28s\n1470:\tlearn: 15863.4966154\ttest: 59924.7028888\tbest: 59918.2222685 (1463)\ttotal: 4m 5s\tremaining: 1m 28s\n1471:\tlearn: 15857.1432864\ttest: 59924.7790413\tbest: 59918.2222685 (1463)\ttotal: 4m 6s\tremaining: 1m 28s\n1472:\tlearn: 15849.0692845\ttest: 59923.7433228\tbest: 59918.2222685 (1463)\ttotal: 4m 6s\tremaining: 1m 28s\n1473:\tlearn: 15836.9764396\ttest: 59928.1778441\tbest: 59918.2222685 (1463)\ttotal: 4m 6s\tremaining: 1m 27s\n1474:\tlearn: 15829.3760602\ttest: 59926.2077201\tbest: 59918.2222685 (1463)\ttotal: 4m 6s\tremaining: 1m 27s\n1475:\tlearn: 15824.6897181\ttest: 59926.6141547\tbest: 59918.2222685 (1463)\ttotal: 4m 6s\tremaining: 1m 27s\n1476:\tlearn: 15823.3506942\ttest: 59926.7042744\tbest: 59918.2222685 (1463)\ttotal: 4m 6s\tremaining: 1m 27s\n1477:\tlearn: 15814.1584140\ttest: 59924.8972321\tbest: 59918.2222685 (1463)\ttotal: 4m 7s\tremaining: 1m 27s\n1478:\tlearn: 15809.5185222\ttest: 59925.5987560\tbest: 59918.2222685 (1463)\ttotal: 4m 7s\tremaining: 1m 27s\n1479:\tlearn: 15803.3975043\ttest: 59925.3162878\tbest: 59918.2222685 (1463)\ttotal: 4m 7s\tremaining: 1m 26s\n1480:\tlearn: 15792.4216554\ttest: 59921.7691968\tbest: 59918.2222685 (1463)\ttotal: 4m 7s\tremaining: 1m 26s\n1481:\tlearn: 15790.8700193\ttest: 59922.5076718\tbest: 59918.2222685 (1463)\ttotal: 4m 7s\tremaining: 1m 26s\n1482:\tlearn: 15778.5911950\ttest: 59922.3890424\tbest: 59918.2222685 (1463)\ttotal: 4m 8s\tremaining: 1m 26s\n1483:\tlearn: 15770.3070200\ttest: 59920.7729128\tbest: 59918.2222685 (1463)\ttotal: 4m 8s\tremaining: 1m 26s\n1484:\tlearn: 15764.2084263\ttest: 59921.8437734\tbest: 59918.2222685 (1463)\ttotal: 4m 8s\tremaining: 1m 26s\n1485:\tlearn: 15751.2271143\ttest: 59921.1713991\tbest: 59918.2222685 (1463)\ttotal: 4m 8s\tremaining: 1m 25s\n1486:\tlearn: 15740.1305171\ttest: 59917.0258267\tbest: 59917.0258267 (1486)\ttotal: 4m 8s\tremaining: 1m 25s\n1487:\tlearn: 15730.0782520\ttest: 59919.7171562\tbest: 59917.0258267 (1486)\ttotal: 4m 8s\tremaining: 1m 25s\n1488:\tlearn: 15721.5357569\ttest: 59916.1328677\tbest: 59916.1328677 (1488)\ttotal: 4m 9s\tremaining: 1m 25s\n1489:\tlearn: 15713.7803315\ttest: 59911.7442014\tbest: 59911.7442014 (1489)\ttotal: 4m 9s\tremaining: 1m 25s\n1490:\tlearn: 15710.1197218\ttest: 59911.2872564\tbest: 59911.2872564 (1490)\ttotal: 4m 9s\tremaining: 1m 25s\n1491:\tlearn: 15705.6699724\ttest: 59911.4878175\tbest: 59911.2872564 (1490)\ttotal: 4m 9s\tremaining: 1m 24s\n1492:\tlearn: 15692.4262098\ttest: 59914.6470448\tbest: 59911.2872564 (1490)\ttotal: 4m 9s\tremaining: 1m 24s\n1493:\tlearn: 15683.9196105\ttest: 59913.3078473\tbest: 59911.2872564 (1490)\ttotal: 4m 9s\tremaining: 1m 24s\n1494:\tlearn: 15676.0643533\ttest: 59914.9081971\tbest: 59911.2872564 (1490)\ttotal: 4m 9s\tremaining: 1m 24s\n1495:\tlearn: 15672.4227065\ttest: 59915.3588139\tbest: 59911.2872564 (1490)\ttotal: 4m 10s\tremaining: 1m 24s\n1496:\tlearn: 15669.1249066\ttest: 59911.9551476\tbest: 59911.2872564 (1490)\ttotal: 4m 10s\tremaining: 1m 24s\n1497:\tlearn: 15660.5363373\ttest: 59908.0196058\tbest: 59908.0196058 (1497)\ttotal: 4m 10s\tremaining: 1m 23s\n1498:\tlearn: 15650.7908081\ttest: 59906.6972930\tbest: 59906.6972930 (1498)\ttotal: 4m 10s\tremaining: 1m 23s\n1499:\tlearn: 15644.4358031\ttest: 59906.7923949\tbest: 59906.6972930 (1498)\ttotal: 4m 10s\tremaining: 1m 23s\n1500:\tlearn: 15632.2930614\ttest: 59905.3025345\tbest: 59905.3025345 (1500)\ttotal: 4m 10s\tremaining: 1m 23s\n1501:\tlearn: 15623.9490252\ttest: 59904.3442802\tbest: 59904.3442802 (1501)\ttotal: 4m 11s\tremaining: 1m 23s\n1502:\tlearn: 15618.6022491\ttest: 59901.4907538\tbest: 59901.4907538 (1502)\ttotal: 4m 11s\tremaining: 1m 23s\n1503:\tlearn: 15606.4083979\ttest: 59901.3463244\tbest: 59901.3463244 (1503)\ttotal: 4m 11s\tremaining: 1m 22s\n1504:\tlearn: 15601.2213723\ttest: 59899.5774905\tbest: 59899.5774905 (1504)\ttotal: 4m 11s\tremaining: 1m 22s\n1505:\tlearn: 15586.2817468\ttest: 59891.7042398\tbest: 59891.7042398 (1505)\ttotal: 4m 11s\tremaining: 1m 22s\n1506:\tlearn: 15573.1767528\ttest: 59886.2352710\tbest: 59886.2352710 (1506)\ttotal: 4m 11s\tremaining: 1m 22s\n1507:\tlearn: 15566.2272994\ttest: 59885.6733393\tbest: 59885.6733393 (1507)\ttotal: 4m 12s\tremaining: 1m 22s\n1508:\tlearn: 15554.4638404\ttest: 59879.3761980\tbest: 59879.3761980 (1508)\ttotal: 4m 12s\tremaining: 1m 22s\n1509:\tlearn: 15551.0487814\ttest: 59879.4964743\tbest: 59879.3761980 (1508)\ttotal: 4m 12s\tremaining: 1m 21s\n1510:\tlearn: 15546.1755571\ttest: 59877.6571866\tbest: 59877.6571866 (1510)\ttotal: 4m 12s\tremaining: 1m 21s\n1511:\tlearn: 15537.8247027\ttest: 59880.1768633\tbest: 59877.6571866 (1510)\ttotal: 4m 12s\tremaining: 1m 21s\n1512:\tlearn: 15521.4734853\ttest: 59877.3863863\tbest: 59877.3863863 (1512)\ttotal: 4m 12s\tremaining: 1m 21s\n1513:\tlearn: 15514.5771603\ttest: 59879.5656817\tbest: 59877.3863863 (1512)\ttotal: 4m 13s\tremaining: 1m 21s\n1514:\tlearn: 15503.0218685\ttest: 59880.0203717\tbest: 59877.3863863 (1512)\ttotal: 4m 13s\tremaining: 1m 21s\n1515:\tlearn: 15494.6927451\ttest: 59878.6076634\tbest: 59877.3863863 (1512)\ttotal: 4m 13s\tremaining: 1m 20s\n1516:\tlearn: 15485.2296802\ttest: 59878.2933242\tbest: 59877.3863863 (1512)\ttotal: 4m 13s\tremaining: 1m 20s\n1517:\tlearn: 15475.3075977\ttest: 59870.8251597\tbest: 59870.8251597 (1517)\ttotal: 4m 13s\tremaining: 1m 20s\n1518:\tlearn: 15454.5649885\ttest: 59866.2536397\tbest: 59866.2536397 (1518)\ttotal: 4m 13s\tremaining: 1m 20s\n1519:\tlearn: 15446.0406873\ttest: 59864.7719165\tbest: 59864.7719165 (1519)\ttotal: 4m 14s\tremaining: 1m 20s\n1520:\tlearn: 15436.4704331\ttest: 59865.6161295\tbest: 59864.7719165 (1519)\ttotal: 4m 14s\tremaining: 1m 20s\n1521:\tlearn: 15424.3012781\ttest: 59861.5571843\tbest: 59861.5571843 (1521)\ttotal: 4m 14s\tremaining: 1m 19s\n1522:\tlearn: 15417.9711225\ttest: 59861.8750108\tbest: 59861.5571843 (1521)\ttotal: 4m 14s\tremaining: 1m 19s\n1523:\tlearn: 15413.9839565\ttest: 59862.0209094\tbest: 59861.5571843 (1521)\ttotal: 4m 14s\tremaining: 1m 19s\n1524:\tlearn: 15406.5554024\ttest: 59864.2188579\tbest: 59861.5571843 (1521)\ttotal: 4m 14s\tremaining: 1m 19s\n1525:\tlearn: 15399.6647178\ttest: 59864.8365265\tbest: 59861.5571843 (1521)\ttotal: 4m 15s\tremaining: 1m 19s\n1526:\tlearn: 15394.9226691\ttest: 59866.0091405\tbest: 59861.5571843 (1521)\ttotal: 4m 15s\tremaining: 1m 19s\n1527:\tlearn: 15389.1839568\ttest: 59866.2611178\tbest: 59861.5571843 (1521)\ttotal: 4m 15s\tremaining: 1m 18s\n1528:\tlearn: 15378.3782200\ttest: 59867.7751967\tbest: 59861.5571843 (1521)\ttotal: 4m 15s\tremaining: 1m 18s\n1529:\tlearn: 15374.9127873\ttest: 59865.0476409\tbest: 59861.5571843 (1521)\ttotal: 4m 15s\tremaining: 1m 18s\n1530:\tlearn: 15367.4414697\ttest: 59866.0046867\tbest: 59861.5571843 (1521)\ttotal: 4m 15s\tremaining: 1m 18s\n1531:\tlearn: 15361.1460730\ttest: 59864.1018483\tbest: 59861.5571843 (1521)\ttotal: 4m 15s\tremaining: 1m 18s\n1532:\tlearn: 15357.4929825\ttest: 59865.7763490\tbest: 59861.5571843 (1521)\ttotal: 4m 16s\tremaining: 1m 18s\n1533:\tlearn: 15349.5881338\ttest: 59865.3752260\tbest: 59861.5571843 (1521)\ttotal: 4m 16s\tremaining: 1m 17s\n1534:\tlearn: 15340.5090620\ttest: 59864.4300945\tbest: 59861.5571843 (1521)\ttotal: 4m 16s\tremaining: 1m 17s\n1535:\tlearn: 15333.2743925\ttest: 59864.5524295\tbest: 59861.5571843 (1521)\ttotal: 4m 16s\tremaining: 1m 17s\n1536:\tlearn: 15324.9827870\ttest: 59866.8943064\tbest: 59861.5571843 (1521)\ttotal: 4m 16s\tremaining: 1m 17s\n1537:\tlearn: 15319.7015238\ttest: 59866.4678497\tbest: 59861.5571843 (1521)\ttotal: 4m 16s\tremaining: 1m 17s\n1538:\tlearn: 15319.3938474\ttest: 59865.8645026\tbest: 59861.5571843 (1521)\ttotal: 4m 17s\tremaining: 1m 17s\n1539:\tlearn: 15317.5620774\ttest: 59864.4046588\tbest: 59861.5571843 (1521)\ttotal: 4m 17s\tremaining: 1m 16s\n1540:\tlearn: 15305.2468600\ttest: 59857.1004429\tbest: 59857.1004429 (1540)\ttotal: 4m 17s\tremaining: 1m 16s\n1541:\tlearn: 15296.1881432\ttest: 59853.2066743\tbest: 59853.2066743 (1541)\ttotal: 4m 17s\tremaining: 1m 16s\n1542:\tlearn: 15289.7217126\ttest: 59853.0088128\tbest: 59853.0088128 (1542)\ttotal: 4m 17s\tremaining: 1m 16s\n1543:\tlearn: 15283.0672670\ttest: 59851.7362835\tbest: 59851.7362835 (1543)\ttotal: 4m 17s\tremaining: 1m 16s\n1544:\tlearn: 15273.8236705\ttest: 59851.8463420\tbest: 59851.7362835 (1543)\ttotal: 4m 18s\tremaining: 1m 15s\n1545:\tlearn: 15265.6704091\ttest: 59851.2343774\tbest: 59851.2343774 (1545)\ttotal: 4m 18s\tremaining: 1m 15s\n1546:\tlearn: 15256.9084536\ttest: 59849.6376832\tbest: 59849.6376832 (1546)\ttotal: 4m 18s\tremaining: 1m 15s\n1547:\tlearn: 15248.7345073\ttest: 59850.0601728\tbest: 59849.6376832 (1546)\ttotal: 4m 18s\tremaining: 1m 15s\n1548:\tlearn: 15245.7741672\ttest: 59848.7176964\tbest: 59848.7176964 (1548)\ttotal: 4m 18s\tremaining: 1m 15s\n1549:\tlearn: 15234.2630214\ttest: 59848.9585796\tbest: 59848.7176964 (1548)\ttotal: 4m 18s\tremaining: 1m 15s\n1550:\tlearn: 15229.6656840\ttest: 59847.0397933\tbest: 59847.0397933 (1550)\ttotal: 4m 18s\tremaining: 1m 14s\n1551:\tlearn: 15225.4601700\ttest: 59847.9887502\tbest: 59847.0397933 (1550)\ttotal: 4m 19s\tremaining: 1m 14s\n1552:\tlearn: 15214.9215123\ttest: 59845.3886455\tbest: 59845.3886455 (1552)\ttotal: 4m 19s\tremaining: 1m 14s\n1553:\tlearn: 15211.7083306\ttest: 59844.0469598\tbest: 59844.0469598 (1553)\ttotal: 4m 19s\tremaining: 1m 14s\n1554:\tlearn: 15206.4581506\ttest: 59843.5796324\tbest: 59843.5796324 (1554)\ttotal: 4m 19s\tremaining: 1m 14s\n1555:\tlearn: 15195.5302884\ttest: 59842.5972279\tbest: 59842.5972279 (1555)\ttotal: 4m 19s\tremaining: 1m 14s\n1556:\tlearn: 15176.6567836\ttest: 59844.3105590\tbest: 59842.5972279 (1555)\ttotal: 4m 19s\tremaining: 1m 13s\n1557:\tlearn: 15171.7181056\ttest: 59842.1565046\tbest: 59842.1565046 (1557)\ttotal: 4m 20s\tremaining: 1m 13s\n1558:\tlearn: 15159.3927415\ttest: 59839.3889953\tbest: 59839.3889953 (1558)\ttotal: 4m 20s\tremaining: 1m 13s\n1559:\tlearn: 15155.3750005\ttest: 59839.4681225\tbest: 59839.3889953 (1558)\ttotal: 4m 20s\tremaining: 1m 13s\n1560:\tlearn: 15139.9720255\ttest: 59838.4589473\tbest: 59838.4589473 (1560)\ttotal: 4m 20s\tremaining: 1m 13s\n1561:\tlearn: 15134.5376628\ttest: 59837.8027644\tbest: 59837.8027644 (1561)\ttotal: 4m 20s\tremaining: 1m 13s\n1562:\tlearn: 15129.7686864\ttest: 59842.5811482\tbest: 59837.8027644 (1561)\ttotal: 4m 20s\tremaining: 1m 12s\n1563:\tlearn: 15120.7345091\ttest: 59839.9782919\tbest: 59837.8027644 (1561)\ttotal: 4m 21s\tremaining: 1m 12s\n1564:\tlearn: 15116.1878986\ttest: 59840.3261765\tbest: 59837.8027644 (1561)\ttotal: 4m 21s\tremaining: 1m 12s\n1565:\tlearn: 15109.5151935\ttest: 59845.2527575\tbest: 59837.8027644 (1561)\ttotal: 4m 21s\tremaining: 1m 12s\n1566:\tlearn: 15103.6327845\ttest: 59841.5196685\tbest: 59837.8027644 (1561)\ttotal: 4m 21s\tremaining: 1m 12s\n1567:\tlearn: 15101.1864843\ttest: 59841.3298607\tbest: 59837.8027644 (1561)\ttotal: 4m 21s\tremaining: 1m 12s\n1568:\tlearn: 15082.5094661\ttest: 59838.9885395\tbest: 59837.8027644 (1561)\ttotal: 4m 21s\tremaining: 1m 11s\n1569:\tlearn: 15074.2511151\ttest: 59840.9749908\tbest: 59837.8027644 (1561)\ttotal: 4m 22s\tremaining: 1m 11s\n1570:\tlearn: 15065.7209743\ttest: 59840.9547610\tbest: 59837.8027644 (1561)\ttotal: 4m 22s\tremaining: 1m 11s\n1571:\tlearn: 15054.9122584\ttest: 59840.7162017\tbest: 59837.8027644 (1561)\ttotal: 4m 22s\tremaining: 1m 11s\n1572:\tlearn: 15052.2636678\ttest: 59840.9411352\tbest: 59837.8027644 (1561)\ttotal: 4m 22s\tremaining: 1m 11s\n1573:\tlearn: 15038.5220210\ttest: 59844.8276874\tbest: 59837.8027644 (1561)\ttotal: 4m 22s\tremaining: 1m 11s\n1574:\tlearn: 15017.9430565\ttest: 59840.0424738\tbest: 59837.8027644 (1561)\ttotal: 4m 22s\tremaining: 1m 10s\n1575:\tlearn: 15011.2498179\ttest: 59840.8767693\tbest: 59837.8027644 (1561)\ttotal: 4m 23s\tremaining: 1m 10s\n1576:\tlearn: 15002.1427202\ttest: 59838.9660400\tbest: 59837.8027644 (1561)\ttotal: 4m 23s\tremaining: 1m 10s\n1577:\tlearn: 14997.5050171\ttest: 59838.5024493\tbest: 59837.8027644 (1561)\ttotal: 4m 23s\tremaining: 1m 10s\n1578:\tlearn: 14993.6931750\ttest: 59837.0925199\tbest: 59837.0925199 (1578)\ttotal: 4m 23s\tremaining: 1m 10s\n1579:\tlearn: 14993.0641424\ttest: 59836.6991096\tbest: 59836.6991096 (1579)\ttotal: 4m 23s\tremaining: 1m 10s\n1580:\tlearn: 14984.1851943\ttest: 59833.1079680\tbest: 59833.1079680 (1580)\ttotal: 4m 24s\tremaining: 1m 9s\n1581:\tlearn: 14983.8240511\ttest: 59832.9102979\tbest: 59832.9102979 (1581)\ttotal: 4m 24s\tremaining: 1m 9s\n1582:\tlearn: 14975.1081276\ttest: 59831.9471371\tbest: 59831.9471371 (1582)\ttotal: 4m 24s\tremaining: 1m 9s\n1583:\tlearn: 14965.0246507\ttest: 59827.7684942\tbest: 59827.7684942 (1583)\ttotal: 4m 24s\tremaining: 1m 9s\n1584:\tlearn: 14962.2789252\ttest: 59827.4085772\tbest: 59827.4085772 (1584)\ttotal: 4m 24s\tremaining: 1m 9s\n1585:\tlearn: 14955.2929981\ttest: 59826.8697711\tbest: 59826.8697711 (1585)\ttotal: 4m 24s\tremaining: 1m 9s\n1586:\tlearn: 14946.7304642\ttest: 59828.9417260\tbest: 59826.8697711 (1585)\ttotal: 4m 25s\tremaining: 1m 8s\n1587:\tlearn: 14932.1234929\ttest: 59822.4848056\tbest: 59822.4848056 (1587)\ttotal: 4m 25s\tremaining: 1m 8s\n1588:\tlearn: 14915.8908478\ttest: 59825.9770166\tbest: 59822.4848056 (1587)\ttotal: 4m 25s\tremaining: 1m 8s\n1589:\tlearn: 14908.6182975\ttest: 59826.7618850\tbest: 59822.4848056 (1587)\ttotal: 4m 25s\tremaining: 1m 8s\n1590:\tlearn: 14901.4917032\ttest: 59827.3882005\tbest: 59822.4848056 (1587)\ttotal: 4m 25s\tremaining: 1m 8s\n1591:\tlearn: 14895.7951601\ttest: 59824.6279688\tbest: 59822.4848056 (1587)\ttotal: 4m 25s\tremaining: 1m 8s\n1592:\tlearn: 14893.2808938\ttest: 59824.7653448\tbest: 59822.4848056 (1587)\ttotal: 4m 26s\tremaining: 1m 7s\n1593:\tlearn: 14887.3082790\ttest: 59823.1594987\tbest: 59822.4848056 (1587)\ttotal: 4m 26s\tremaining: 1m 7s\n1594:\tlearn: 14880.3922172\ttest: 59819.5500308\tbest: 59819.5500308 (1594)\ttotal: 4m 26s\tremaining: 1m 7s\n1595:\tlearn: 14878.2654605\ttest: 59819.6786046\tbest: 59819.5500308 (1594)\ttotal: 4m 26s\tremaining: 1m 7s\n1596:\tlearn: 14874.8155340\ttest: 59820.6658070\tbest: 59819.5500308 (1594)\ttotal: 4m 26s\tremaining: 1m 7s\n1597:\tlearn: 14872.5750524\ttest: 59820.4612345\tbest: 59819.5500308 (1594)\ttotal: 4m 26s\tremaining: 1m 7s\n1598:\tlearn: 14853.2219365\ttest: 59819.2453663\tbest: 59819.2453663 (1598)\ttotal: 4m 27s\tremaining: 1m 6s\n1599:\tlearn: 14844.1634676\ttest: 59816.2425254\tbest: 59816.2425254 (1599)\ttotal: 4m 27s\tremaining: 1m 6s\n1600:\tlearn: 14841.4456777\ttest: 59815.2192835\tbest: 59815.2192835 (1600)\ttotal: 4m 27s\tremaining: 1m 6s\n1601:\tlearn: 14831.7082031\ttest: 59818.5102952\tbest: 59815.2192835 (1600)\ttotal: 4m 27s\tremaining: 1m 6s\n1602:\tlearn: 14824.1020592\ttest: 59818.1489006\tbest: 59815.2192835 (1600)\ttotal: 4m 27s\tremaining: 1m 6s\n1603:\tlearn: 14811.3768439\ttest: 59823.2308230\tbest: 59815.2192835 (1600)\ttotal: 4m 27s\tremaining: 1m 6s\n1604:\tlearn: 14806.6529846\ttest: 59825.3491907\tbest: 59815.2192835 (1600)\ttotal: 4m 28s\tremaining: 1m 5s\n1605:\tlearn: 14796.2441313\ttest: 59817.1999066\tbest: 59815.2192835 (1600)\ttotal: 4m 28s\tremaining: 1m 5s\n1606:\tlearn: 14789.7562189\ttest: 59815.4660383\tbest: 59815.2192835 (1600)\ttotal: 4m 28s\tremaining: 1m 5s\n1607:\tlearn: 14780.8315124\ttest: 59811.6013451\tbest: 59811.6013451 (1607)\ttotal: 4m 28s\tremaining: 1m 5s\n1608:\tlearn: 14777.6726671\ttest: 59811.7972215\tbest: 59811.6013451 (1607)\ttotal: 4m 28s\tremaining: 1m 5s\n1609:\tlearn: 14764.3287118\ttest: 59812.2005209\tbest: 59811.6013451 (1607)\ttotal: 4m 29s\tremaining: 1m 5s\n1610:\tlearn: 14752.1973903\ttest: 59812.7702790\tbest: 59811.6013451 (1607)\ttotal: 4m 29s\tremaining: 1m 5s\n1611:\tlearn: 14751.3757774\ttest: 59812.0755904\tbest: 59811.6013451 (1607)\ttotal: 4m 29s\tremaining: 1m 4s\n1612:\tlearn: 14736.3307717\ttest: 59811.5965816\tbest: 59811.5965816 (1612)\ttotal: 4m 29s\tremaining: 1m 4s\n1613:\tlearn: 14727.5593874\ttest: 59812.0247541\tbest: 59811.5965816 (1612)\ttotal: 4m 29s\tremaining: 1m 4s\n1614:\tlearn: 14712.1518560\ttest: 59810.7384314\tbest: 59810.7384314 (1614)\ttotal: 4m 29s\tremaining: 1m 4s\n1615:\tlearn: 14699.2041954\ttest: 59808.4485504\tbest: 59808.4485504 (1615)\ttotal: 4m 30s\tremaining: 1m 4s\n1616:\tlearn: 14689.7356794\ttest: 59806.2482187\tbest: 59806.2482187 (1616)\ttotal: 4m 30s\tremaining: 1m 4s\n1617:\tlearn: 14680.2447220\ttest: 59802.2789416\tbest: 59802.2789416 (1617)\ttotal: 4m 30s\tremaining: 1m 3s\n1618:\tlearn: 14674.8345732\ttest: 59799.3582856\tbest: 59799.3582856 (1618)\ttotal: 4m 30s\tremaining: 1m 3s\n1619:\tlearn: 14674.3550971\ttest: 59799.2948958\tbest: 59799.2948958 (1619)\ttotal: 4m 30s\tremaining: 1m 3s\n1620:\tlearn: 14667.0602750\ttest: 59797.9378503\tbest: 59797.9378503 (1620)\ttotal: 4m 30s\tremaining: 1m 3s\n1621:\tlearn: 14661.4084532\ttest: 59799.8651236\tbest: 59797.9378503 (1620)\ttotal: 4m 31s\tremaining: 1m 3s\n1622:\tlearn: 14654.7193934\ttest: 59794.7522185\tbest: 59794.7522185 (1622)\ttotal: 4m 31s\tremaining: 1m 3s\n1623:\tlearn: 14644.5746579\ttest: 59791.3474964\tbest: 59791.3474964 (1623)\ttotal: 4m 31s\tremaining: 1m 2s\n1624:\tlearn: 14638.7409222\ttest: 59790.1339790\tbest: 59790.1339790 (1624)\ttotal: 4m 31s\tremaining: 1m 2s\n1625:\tlearn: 14631.7031097\ttest: 59788.5478729\tbest: 59788.5478729 (1625)\ttotal: 4m 31s\tremaining: 1m 2s\n1626:\tlearn: 14624.1820789\ttest: 59791.6747291\tbest: 59788.5478729 (1625)\ttotal: 4m 31s\tremaining: 1m 2s\n1627:\tlearn: 14620.0539170\ttest: 59794.0839603\tbest: 59788.5478729 (1625)\ttotal: 4m 32s\tremaining: 1m 2s\n1628:\tlearn: 14615.8587029\ttest: 59795.3229317\tbest: 59788.5478729 (1625)\ttotal: 4m 32s\tremaining: 1m 2s\n1629:\tlearn: 14608.3977976\ttest: 59791.6408780\tbest: 59788.5478729 (1625)\ttotal: 4m 32s\tremaining: 1m 1s\n1630:\tlearn: 14598.2341474\ttest: 59791.9937535\tbest: 59788.5478729 (1625)\ttotal: 4m 32s\tremaining: 1m 1s\n1631:\tlearn: 14594.5805862\ttest: 59788.5231953\tbest: 59788.5231953 (1631)\ttotal: 4m 32s\tremaining: 1m 1s\n1632:\tlearn: 14587.4455164\ttest: 59787.0624028\tbest: 59787.0624028 (1632)\ttotal: 4m 32s\tremaining: 1m 1s\n1633:\tlearn: 14575.6297083\ttest: 59780.8126257\tbest: 59780.8126257 (1633)\ttotal: 4m 33s\tremaining: 1m 1s\n1634:\tlearn: 14570.8301484\ttest: 59776.8593006\tbest: 59776.8593006 (1634)\ttotal: 4m 33s\tremaining: 1m 1s\n1635:\tlearn: 14561.9880265\ttest: 59779.2710709\tbest: 59776.8593006 (1634)\ttotal: 4m 33s\tremaining: 1m\n1636:\tlearn: 14556.9188432\ttest: 59782.2119301\tbest: 59776.8593006 (1634)\ttotal: 4m 33s\tremaining: 1m\n1637:\tlearn: 14545.5804601\ttest: 59783.0341843\tbest: 59776.8593006 (1634)\ttotal: 4m 33s\tremaining: 1m\n1638:\tlearn: 14532.3118173\ttest: 59783.4478888\tbest: 59776.8593006 (1634)\ttotal: 4m 34s\tremaining: 1m\n1639:\tlearn: 14522.1778398\ttest: 59785.9818686\tbest: 59776.8593006 (1634)\ttotal: 4m 34s\tremaining: 1m\n1640:\tlearn: 14517.6355525\ttest: 59783.7512572\tbest: 59776.8593006 (1634)\ttotal: 4m 34s\tremaining: 1m\n1641:\tlearn: 14509.8911379\ttest: 59782.3310392\tbest: 59776.8593006 (1634)\ttotal: 4m 34s\tremaining: 59.9s\n1642:\tlearn: 14508.1443484\ttest: 59782.1572415\tbest: 59776.8593006 (1634)\ttotal: 4m 34s\tremaining: 59.7s\n1643:\tlearn: 14498.4366743\ttest: 59781.8514601\tbest: 59776.8593006 (1634)\ttotal: 4m 34s\tremaining: 59.5s\n1644:\tlearn: 14492.8906413\ttest: 59780.9822196\tbest: 59776.8593006 (1634)\ttotal: 4m 35s\tremaining: 59.4s\n1645:\tlearn: 14479.7074754\ttest: 59774.9643413\tbest: 59774.9643413 (1645)\ttotal: 4m 35s\tremaining: 59.2s\n1646:\tlearn: 14463.3494607\ttest: 59776.6677074\tbest: 59774.9643413 (1645)\ttotal: 4m 35s\tremaining: 59s\n1647:\tlearn: 14458.5171779\ttest: 59779.6179964\tbest: 59774.9643413 (1645)\ttotal: 4m 35s\tremaining: 58.9s\n1648:\tlearn: 14449.9550796\ttest: 59773.4794407\tbest: 59773.4794407 (1648)\ttotal: 4m 35s\tremaining: 58.7s\n1649:\tlearn: 14445.7608488\ttest: 59770.4185786\tbest: 59770.4185786 (1649)\ttotal: 4m 35s\tremaining: 58.5s\n1650:\tlearn: 14440.9850935\ttest: 59770.5526890\tbest: 59770.4185786 (1649)\ttotal: 4m 36s\tremaining: 58.4s\n1651:\tlearn: 14429.5630291\ttest: 59767.1866878\tbest: 59767.1866878 (1651)\ttotal: 4m 36s\tremaining: 58.2s\n1652:\tlearn: 14420.9779494\ttest: 59766.1914669\tbest: 59766.1914669 (1652)\ttotal: 4m 36s\tremaining: 58s\n1653:\tlearn: 14410.9039011\ttest: 59756.1094985\tbest: 59756.1094985 (1653)\ttotal: 4m 36s\tremaining: 57.9s\n1654:\tlearn: 14404.0709051\ttest: 59755.3691108\tbest: 59755.3691108 (1654)\ttotal: 4m 36s\tremaining: 57.7s\n1655:\tlearn: 14388.1316488\ttest: 59759.2549583\tbest: 59755.3691108 (1654)\ttotal: 4m 36s\tremaining: 57.5s\n1656:\tlearn: 14380.3435176\ttest: 59758.8166667\tbest: 59755.3691108 (1654)\ttotal: 4m 37s\tremaining: 57.4s\n1657:\tlearn: 14374.6139251\ttest: 59756.9729705\tbest: 59755.3691108 (1654)\ttotal: 4m 37s\tremaining: 57.2s\n1658:\tlearn: 14368.2735161\ttest: 59757.2040328\tbest: 59755.3691108 (1654)\ttotal: 4m 37s\tremaining: 57s\n1659:\tlearn: 14365.3661380\ttest: 59757.1117984\tbest: 59755.3691108 (1654)\ttotal: 4m 37s\tremaining: 56.9s\n1660:\tlearn: 14346.7357167\ttest: 59758.4642199\tbest: 59755.3691108 (1654)\ttotal: 4m 37s\tremaining: 56.7s\n1661:\tlearn: 14338.6254534\ttest: 59757.8413097\tbest: 59755.3691108 (1654)\ttotal: 4m 38s\tremaining: 56.5s\n1662:\tlearn: 14328.3015707\ttest: 59758.2854375\tbest: 59755.3691108 (1654)\ttotal: 4m 38s\tremaining: 56.4s\n1663:\tlearn: 14313.4752170\ttest: 59757.2541880\tbest: 59755.3691108 (1654)\ttotal: 4m 38s\tremaining: 56.2s\n1664:\tlearn: 14304.6387939\ttest: 59756.6382537\tbest: 59755.3691108 (1654)\ttotal: 4m 38s\tremaining: 56s\n1665:\tlearn: 14295.9461517\ttest: 59759.4565825\tbest: 59755.3691108 (1654)\ttotal: 4m 38s\tremaining: 55.9s\n1666:\tlearn: 14287.8820622\ttest: 59762.6637523\tbest: 59755.3691108 (1654)\ttotal: 4m 38s\tremaining: 55.7s\n1667:\tlearn: 14282.4865964\ttest: 59762.3198854\tbest: 59755.3691108 (1654)\ttotal: 4m 39s\tremaining: 55.5s\n1668:\tlearn: 14276.3654456\ttest: 59761.1149218\tbest: 59755.3691108 (1654)\ttotal: 4m 39s\tremaining: 55.4s\n1669:\tlearn: 14263.0545667\ttest: 59760.5765122\tbest: 59755.3691108 (1654)\ttotal: 4m 39s\tremaining: 55.2s\n1670:\tlearn: 14259.9752490\ttest: 59758.8199804\tbest: 59755.3691108 (1654)\ttotal: 4m 39s\tremaining: 55s\n1671:\tlearn: 14246.7359346\ttest: 59758.3670026\tbest: 59755.3691108 (1654)\ttotal: 4m 39s\tremaining: 54.9s\n1672:\tlearn: 14235.4594361\ttest: 59762.0089754\tbest: 59755.3691108 (1654)\ttotal: 4m 39s\tremaining: 54.7s\n1673:\tlearn: 14232.3595997\ttest: 59761.5097306\tbest: 59755.3691108 (1654)\ttotal: 4m 39s\tremaining: 54.5s\n1674:\tlearn: 14230.3260401\ttest: 59760.7865141\tbest: 59755.3691108 (1654)\ttotal: 4m 40s\tremaining: 54.4s\n1675:\tlearn: 14224.4537636\ttest: 59764.2462325\tbest: 59755.3691108 (1654)\ttotal: 4m 40s\tremaining: 54.2s\n1676:\tlearn: 14220.7372376\ttest: 59764.1207972\tbest: 59755.3691108 (1654)\ttotal: 4m 40s\tremaining: 54s\n1677:\tlearn: 14217.4191675\ttest: 59763.2472054\tbest: 59755.3691108 (1654)\ttotal: 4m 40s\tremaining: 53.9s\n1678:\tlearn: 14214.0733454\ttest: 59764.7368925\tbest: 59755.3691108 (1654)\ttotal: 4m 40s\tremaining: 53.7s\n1679:\tlearn: 14211.2712004\ttest: 59764.2748647\tbest: 59755.3691108 (1654)\ttotal: 4m 40s\tremaining: 53.5s\n1680:\tlearn: 14204.6295933\ttest: 59764.6429382\tbest: 59755.3691108 (1654)\ttotal: 4m 41s\tremaining: 53.4s\n1681:\tlearn: 14196.8342466\ttest: 59766.4633032\tbest: 59755.3691108 (1654)\ttotal: 4m 41s\tremaining: 53.2s\n1682:\tlearn: 14194.5033546\ttest: 59767.2360222\tbest: 59755.3691108 (1654)\ttotal: 4m 41s\tremaining: 53s\n1683:\tlearn: 14182.4130771\ttest: 59769.7376717\tbest: 59755.3691108 (1654)\ttotal: 4m 41s\tremaining: 52.9s\n1684:\tlearn: 14173.7944713\ttest: 59769.5277260\tbest: 59755.3691108 (1654)\ttotal: 4m 41s\tremaining: 52.7s\n1685:\tlearn: 14169.2016737\ttest: 59769.5447573\tbest: 59755.3691108 (1654)\ttotal: 4m 42s\tremaining: 52.5s\n1686:\tlearn: 14153.1142893\ttest: 59767.2242102\tbest: 59755.3691108 (1654)\ttotal: 4m 42s\tremaining: 52.4s\n1687:\tlearn: 14149.2875292\ttest: 59767.8032674\tbest: 59755.3691108 (1654)\ttotal: 4m 42s\tremaining: 52.2s\n1688:\tlearn: 14144.7407801\ttest: 59766.9458115\tbest: 59755.3691108 (1654)\ttotal: 4m 42s\tremaining: 52s\n1689:\tlearn: 14139.4318853\ttest: 59767.0490993\tbest: 59755.3691108 (1654)\ttotal: 4m 42s\tremaining: 51.9s\n1690:\tlearn: 14138.6523611\ttest: 59767.2065505\tbest: 59755.3691108 (1654)\ttotal: 4m 42s\tremaining: 51.7s\n1691:\tlearn: 14133.3345181\ttest: 59767.3802190\tbest: 59755.3691108 (1654)\ttotal: 4m 43s\tremaining: 51.5s\n1692:\tlearn: 14129.7972505\ttest: 59766.1630301\tbest: 59755.3691108 (1654)\ttotal: 4m 43s\tremaining: 51.4s\n1693:\tlearn: 14125.3511287\ttest: 59764.5291615\tbest: 59755.3691108 (1654)\ttotal: 4m 43s\tremaining: 51.2s\n1694:\tlearn: 14121.3540555\ttest: 59760.6513250\tbest: 59755.3691108 (1654)\ttotal: 4m 43s\tremaining: 51s\n1695:\tlearn: 14119.6224273\ttest: 59761.4396090\tbest: 59755.3691108 (1654)\ttotal: 4m 43s\tremaining: 50.9s\n1696:\tlearn: 14114.5214017\ttest: 59761.0906121\tbest: 59755.3691108 (1654)\ttotal: 4m 43s\tremaining: 50.7s\n1697:\tlearn: 14109.5998143\ttest: 59761.1132502\tbest: 59755.3691108 (1654)\ttotal: 4m 44s\tremaining: 50.5s\n1698:\tlearn: 14104.1811260\ttest: 59762.6882796\tbest: 59755.3691108 (1654)\ttotal: 4m 44s\tremaining: 50.4s\n1699:\tlearn: 14098.3878740\ttest: 59762.1493851\tbest: 59755.3691108 (1654)\ttotal: 4m 44s\tremaining: 50.2s\n1700:\tlearn: 14086.9871796\ttest: 59756.6315469\tbest: 59755.3691108 (1654)\ttotal: 4m 44s\tremaining: 50s\n1701:\tlearn: 14080.4173110\ttest: 59752.7109629\tbest: 59752.7109629 (1701)\ttotal: 4m 44s\tremaining: 49.9s\n1702:\tlearn: 14079.2862457\ttest: 59752.8464161\tbest: 59752.7109629 (1701)\ttotal: 4m 45s\tremaining: 49.7s\n1703:\tlearn: 14065.3969289\ttest: 59748.7232730\tbest: 59748.7232730 (1703)\ttotal: 4m 45s\tremaining: 49.5s\n1704:\tlearn: 14063.3734700\ttest: 59748.6472701\tbest: 59748.6472701 (1704)\ttotal: 4m 45s\tremaining: 49.4s\n1705:\tlearn: 14058.9925228\ttest: 59751.4008044\tbest: 59748.6472701 (1704)\ttotal: 4m 45s\tremaining: 49.2s\n1706:\tlearn: 14055.8056919\ttest: 59751.8306297\tbest: 59748.6472701 (1704)\ttotal: 4m 45s\tremaining: 49s\n1707:\tlearn: 14050.1167497\ttest: 59754.7260999\tbest: 59748.6472701 (1704)\ttotal: 4m 45s\tremaining: 48.9s\n1708:\tlearn: 14042.4961172\ttest: 59755.6866441\tbest: 59748.6472701 (1704)\ttotal: 4m 46s\tremaining: 48.7s\n1709:\tlearn: 14036.3995258\ttest: 59753.3833393\tbest: 59748.6472701 (1704)\ttotal: 4m 46s\tremaining: 48.5s\n1710:\tlearn: 14034.0130891\ttest: 59751.7790053\tbest: 59748.6472701 (1704)\ttotal: 4m 46s\tremaining: 48.4s\n1711:\tlearn: 14030.5685418\ttest: 59751.3844259\tbest: 59748.6472701 (1704)\ttotal: 4m 46s\tremaining: 48.2s\n1712:\tlearn: 14023.5161461\ttest: 59751.5060275\tbest: 59748.6472701 (1704)\ttotal: 4m 46s\tremaining: 48s\n1713:\tlearn: 14015.5891803\ttest: 59750.7500794\tbest: 59748.6472701 (1704)\ttotal: 4m 46s\tremaining: 47.9s\n1714:\tlearn: 14010.5851788\ttest: 59749.2077718\tbest: 59748.6472701 (1704)\ttotal: 4m 46s\tremaining: 47.7s\n1715:\tlearn: 14002.7561443\ttest: 59749.0319922\tbest: 59748.6472701 (1704)\ttotal: 4m 47s\tremaining: 47.5s\n1716:\tlearn: 13990.0083188\ttest: 59746.9867444\tbest: 59746.9867444 (1716)\ttotal: 4m 47s\tremaining: 47.4s\n1717:\tlearn: 13980.4811761\ttest: 59747.7322945\tbest: 59746.9867444 (1716)\ttotal: 4m 47s\tremaining: 47.2s\n1718:\tlearn: 13971.4407224\ttest: 59747.6534803\tbest: 59746.9867444 (1716)\ttotal: 4m 47s\tremaining: 47s\n1719:\tlearn: 13969.1823152\ttest: 59747.3782638\tbest: 59746.9867444 (1716)\ttotal: 4m 47s\tremaining: 46.9s\n1720:\tlearn: 13966.6832870\ttest: 59744.4923678\tbest: 59744.4923678 (1720)\ttotal: 4m 48s\tremaining: 46.7s\n1721:\tlearn: 13964.7428452\ttest: 59744.4338679\tbest: 59744.4338679 (1721)\ttotal: 4m 48s\tremaining: 46.5s\n1722:\tlearn: 13952.8734624\ttest: 59742.9684297\tbest: 59742.9684297 (1722)\ttotal: 4m 48s\tremaining: 46.4s\n1723:\tlearn: 13941.1421380\ttest: 59742.4484871\tbest: 59742.4484871 (1723)\ttotal: 4m 48s\tremaining: 46.2s\n1724:\tlearn: 13934.8413233\ttest: 59742.9252210\tbest: 59742.4484871 (1723)\ttotal: 4m 48s\tremaining: 46s\n1725:\tlearn: 13930.5915743\ttest: 59742.1712899\tbest: 59742.1712899 (1725)\ttotal: 4m 48s\tremaining: 45.9s\n1726:\tlearn: 13927.9542640\ttest: 59738.3631206\tbest: 59738.3631206 (1726)\ttotal: 4m 49s\tremaining: 45.7s\n1727:\tlearn: 13925.6583322\ttest: 59739.0911087\tbest: 59738.3631206 (1726)\ttotal: 4m 49s\tremaining: 45.5s\n1728:\tlearn: 13914.7833601\ttest: 59738.8333077\tbest: 59738.3631206 (1726)\ttotal: 4m 49s\tremaining: 45.4s\n1729:\tlearn: 13910.1222268\ttest: 59736.6750234\tbest: 59736.6750234 (1729)\ttotal: 4m 49s\tremaining: 45.2s\n1730:\tlearn: 13904.8424295\ttest: 59739.5019569\tbest: 59736.6750234 (1729)\ttotal: 4m 49s\tremaining: 45s\n1731:\tlearn: 13901.7164297\ttest: 59739.0548896\tbest: 59736.6750234 (1729)\ttotal: 4m 49s\tremaining: 44.9s\n1732:\tlearn: 13895.7835455\ttest: 59741.2588463\tbest: 59736.6750234 (1729)\ttotal: 4m 50s\tremaining: 44.7s\n1733:\tlearn: 13884.1677193\ttest: 59741.7902060\tbest: 59736.6750234 (1729)\ttotal: 4m 50s\tremaining: 44.5s\n1734:\tlearn: 13873.7907202\ttest: 59745.2045634\tbest: 59736.6750234 (1729)\ttotal: 4m 50s\tremaining: 44.4s\n1735:\tlearn: 13860.6819322\ttest: 59737.6544757\tbest: 59736.6750234 (1729)\ttotal: 4m 50s\tremaining: 44.2s\n1736:\tlearn: 13856.7307251\ttest: 59734.3529325\tbest: 59734.3529325 (1736)\ttotal: 4m 50s\tremaining: 44s\n1737:\tlearn: 13851.4896106\ttest: 59734.5654784\tbest: 59734.3529325 (1736)\ttotal: 4m 50s\tremaining: 43.9s\n1738:\tlearn: 13847.7762747\ttest: 59731.6780990\tbest: 59731.6780990 (1738)\ttotal: 4m 51s\tremaining: 43.7s\n1739:\tlearn: 13844.7990466\ttest: 59731.7132971\tbest: 59731.6780990 (1738)\ttotal: 4m 51s\tremaining: 43.5s\n1740:\tlearn: 13841.4175024\ttest: 59729.8580827\tbest: 59729.8580827 (1740)\ttotal: 4m 51s\tremaining: 43.4s\n1741:\tlearn: 13835.1001758\ttest: 59724.4998686\tbest: 59724.4998686 (1741)\ttotal: 4m 51s\tremaining: 43.2s\n1742:\tlearn: 13825.4894442\ttest: 59725.2853759\tbest: 59724.4998686 (1741)\ttotal: 4m 51s\tremaining: 43s\n1743:\tlearn: 13820.8389438\ttest: 59725.8498476\tbest: 59724.4998686 (1741)\ttotal: 4m 52s\tremaining: 42.9s\n1744:\tlearn: 13816.1437822\ttest: 59727.2953700\tbest: 59724.4998686 (1741)\ttotal: 4m 52s\tremaining: 42.7s\n1745:\tlearn: 13806.1504170\ttest: 59726.9018678\tbest: 59724.4998686 (1741)\ttotal: 4m 52s\tremaining: 42.5s\n1746:\tlearn: 13794.5739434\ttest: 59728.7906563\tbest: 59724.4998686 (1741)\ttotal: 4m 52s\tremaining: 42.4s\n1747:\tlearn: 13787.8775476\ttest: 59721.5945359\tbest: 59721.5945359 (1747)\ttotal: 4m 52s\tremaining: 42.2s\n1748:\tlearn: 13787.3003384\ttest: 59720.9720018\tbest: 59720.9720018 (1748)\ttotal: 4m 52s\tremaining: 42s\n1749:\tlearn: 13782.3911708\ttest: 59719.2111707\tbest: 59719.2111707 (1749)\ttotal: 4m 53s\tremaining: 41.9s\n1750:\tlearn: 13769.3753292\ttest: 59720.0404844\tbest: 59719.2111707 (1749)\ttotal: 4m 53s\tremaining: 41.7s\n1751:\tlearn: 13764.8312288\ttest: 59719.9456988\tbest: 59719.2111707 (1749)\ttotal: 4m 53s\tremaining: 41.5s\n1752:\tlearn: 13756.1363023\ttest: 59720.2685000\tbest: 59719.2111707 (1749)\ttotal: 4m 53s\tremaining: 41.4s\n1753:\tlearn: 13739.9253440\ttest: 59719.2870198\tbest: 59719.2111707 (1749)\ttotal: 4m 53s\tremaining: 41.2s\n1754:\tlearn: 13737.8705819\ttest: 59718.7668900\tbest: 59718.7668900 (1754)\ttotal: 4m 53s\tremaining: 41s\n1755:\tlearn: 13731.7818501\ttest: 59716.1879015\tbest: 59716.1879015 (1755)\ttotal: 4m 54s\tremaining: 40.9s\n1756:\tlearn: 13730.2281768\ttest: 59715.1138618\tbest: 59715.1138618 (1756)\ttotal: 4m 54s\tremaining: 40.7s\n1757:\tlearn: 13726.5944853\ttest: 59716.0829441\tbest: 59715.1138618 (1756)\ttotal: 4m 54s\tremaining: 40.5s\n1758:\tlearn: 13716.2819369\ttest: 59715.8444618\tbest: 59715.1138618 (1756)\ttotal: 4m 54s\tremaining: 40.4s\n1759:\tlearn: 13703.1921562\ttest: 59720.1490311\tbest: 59715.1138618 (1756)\ttotal: 4m 54s\tremaining: 40.2s\n1760:\tlearn: 13692.4106347\ttest: 59717.8181332\tbest: 59715.1138618 (1756)\ttotal: 4m 55s\tremaining: 40s\n1761:\tlearn: 13681.7075963\ttest: 59716.2078538\tbest: 59715.1138618 (1756)\ttotal: 4m 55s\tremaining: 39.9s\n1762:\tlearn: 13678.6924488\ttest: 59715.7260154\tbest: 59715.1138618 (1756)\ttotal: 4m 55s\tremaining: 39.7s\n1763:\tlearn: 13674.1500005\ttest: 59714.9451419\tbest: 59714.9451419 (1763)\ttotal: 4m 55s\tremaining: 39.5s\n1764:\tlearn: 13665.9013171\ttest: 59719.4605942\tbest: 59714.9451419 (1763)\ttotal: 4m 55s\tremaining: 39.4s\n1765:\tlearn: 13662.2771707\ttest: 59720.1905848\tbest: 59714.9451419 (1763)\ttotal: 4m 55s\tremaining: 39.2s\n1766:\tlearn: 13655.8363683\ttest: 59719.8346766\tbest: 59714.9451419 (1763)\ttotal: 4m 56s\tremaining: 39s\n1767:\tlearn: 13650.5652008\ttest: 59721.2172920\tbest: 59714.9451419 (1763)\ttotal: 4m 56s\tremaining: 38.9s\n1768:\tlearn: 13647.3232385\ttest: 59720.5413762\tbest: 59714.9451419 (1763)\ttotal: 4m 56s\tremaining: 38.7s\n1769:\tlearn: 13643.6354846\ttest: 59721.0469081\tbest: 59714.9451419 (1763)\ttotal: 4m 56s\tremaining: 38.5s\n1770:\tlearn: 13630.8867469\ttest: 59719.3544110\tbest: 59714.9451419 (1763)\ttotal: 4m 56s\tremaining: 38.4s\n1771:\tlearn: 13626.7474059\ttest: 59722.5249977\tbest: 59714.9451419 (1763)\ttotal: 4m 56s\tremaining: 38.2s\n1772:\tlearn: 13615.0548298\ttest: 59719.2450494\tbest: 59714.9451419 (1763)\ttotal: 4m 57s\tremaining: 38s\n1773:\tlearn: 13609.2926285\ttest: 59718.9134026\tbest: 59714.9451419 (1763)\ttotal: 4m 57s\tremaining: 37.9s\n1774:\tlearn: 13607.9927477\ttest: 59719.1291456\tbest: 59714.9451419 (1763)\ttotal: 4m 57s\tremaining: 37.7s\n1775:\tlearn: 13600.5842823\ttest: 59717.9573626\tbest: 59714.9451419 (1763)\ttotal: 4m 57s\tremaining: 37.5s\n1776:\tlearn: 13594.3110004\ttest: 59723.0567153\tbest: 59714.9451419 (1763)\ttotal: 4m 57s\tremaining: 37.4s\n1777:\tlearn: 13591.7929862\ttest: 59724.7191827\tbest: 59714.9451419 (1763)\ttotal: 4m 57s\tremaining: 37.2s\n1778:\tlearn: 13588.2256732\ttest: 59725.2331449\tbest: 59714.9451419 (1763)\ttotal: 4m 58s\tremaining: 37s\n1779:\tlearn: 13586.6287386\ttest: 59725.0494941\tbest: 59714.9451419 (1763)\ttotal: 4m 58s\tremaining: 36.9s\n1780:\tlearn: 13579.9662345\ttest: 59727.3574421\tbest: 59714.9451419 (1763)\ttotal: 4m 58s\tremaining: 36.7s\n1781:\tlearn: 13579.1229667\ttest: 59727.4823468\tbest: 59714.9451419 (1763)\ttotal: 4m 58s\tremaining: 36.5s\n1782:\tlearn: 13578.2716099\ttest: 59727.7637701\tbest: 59714.9451419 (1763)\ttotal: 4m 58s\tremaining: 36.4s\n1783:\tlearn: 13569.6142412\ttest: 59723.9927035\tbest: 59714.9451419 (1763)\ttotal: 4m 59s\tremaining: 36.2s\n1784:\tlearn: 13565.6682268\ttest: 59723.5831204\tbest: 59714.9451419 (1763)\ttotal: 4m 59s\tremaining: 36s\n1785:\tlearn: 13559.8373182\ttest: 59724.3458811\tbest: 59714.9451419 (1763)\ttotal: 4m 59s\tremaining: 35.9s\n1786:\tlearn: 13551.1300586\ttest: 59723.8967051\tbest: 59714.9451419 (1763)\ttotal: 4m 59s\tremaining: 35.7s\n1787:\tlearn: 13550.9199979\ttest: 59723.8235120\tbest: 59714.9451419 (1763)\ttotal: 4m 59s\tremaining: 35.5s\n1788:\tlearn: 13548.4672685\ttest: 59723.8659403\tbest: 59714.9451419 (1763)\ttotal: 4m 59s\tremaining: 35.4s\n1789:\tlearn: 13544.6656690\ttest: 59723.6003226\tbest: 59714.9451419 (1763)\ttotal: 5m\tremaining: 35.2s\n1790:\tlearn: 13540.3192561\ttest: 59727.0528228\tbest: 59714.9451419 (1763)\ttotal: 5m\tremaining: 35.1s\n1791:\tlearn: 13535.0969871\ttest: 59726.2630376\tbest: 59714.9451419 (1763)\ttotal: 5m\tremaining: 34.9s\n1792:\tlearn: 13530.8575575\ttest: 59726.5158420\tbest: 59714.9451419 (1763)\ttotal: 5m\tremaining: 34.7s\n1793:\tlearn: 13529.6796395\ttest: 59726.4467987\tbest: 59714.9451419 (1763)\ttotal: 5m 1s\tremaining: 34.6s\n1794:\tlearn: 13524.9188074\ttest: 59726.7159909\tbest: 59714.9451419 (1763)\ttotal: 5m 1s\tremaining: 34.4s\n1795:\tlearn: 13520.2831786\ttest: 59726.8514751\tbest: 59714.9451419 (1763)\ttotal: 5m 1s\tremaining: 34.2s\n1796:\tlearn: 13516.1270232\ttest: 59727.6048180\tbest: 59714.9451419 (1763)\ttotal: 5m 1s\tremaining: 34.1s\n1797:\tlearn: 13503.1027347\ttest: 59724.3177106\tbest: 59714.9451419 (1763)\ttotal: 5m 1s\tremaining: 33.9s\n1798:\tlearn: 13494.1429643\ttest: 59723.7888698\tbest: 59714.9451419 (1763)\ttotal: 5m 2s\tremaining: 33.8s\n1799:\tlearn: 13484.7693127\ttest: 59723.5120035\tbest: 59714.9451419 (1763)\ttotal: 5m 2s\tremaining: 33.6s\n1800:\tlearn: 13481.6335692\ttest: 59723.7824591\tbest: 59714.9451419 (1763)\ttotal: 5m 2s\tremaining: 33.4s\n1801:\tlearn: 13471.6342979\ttest: 59722.2404422\tbest: 59714.9451419 (1763)\ttotal: 5m 2s\tremaining: 33.3s\n1802:\tlearn: 13462.8803557\ttest: 59721.9793727\tbest: 59714.9451419 (1763)\ttotal: 5m 3s\tremaining: 33.1s\n1803:\tlearn: 13458.6902243\ttest: 59720.0827049\tbest: 59714.9451419 (1763)\ttotal: 5m 3s\tremaining: 32.9s\n1804:\tlearn: 13445.7168044\ttest: 59721.4800029\tbest: 59714.9451419 (1763)\ttotal: 5m 3s\tremaining: 32.8s\n1805:\tlearn: 13439.3785485\ttest: 59721.9245511\tbest: 59714.9451419 (1763)\ttotal: 5m 3s\tremaining: 32.6s\n1806:\tlearn: 13428.0730512\ttest: 59721.5962749\tbest: 59714.9451419 (1763)\ttotal: 5m 3s\tremaining: 32.5s\n1807:\tlearn: 13426.3395225\ttest: 59721.4306693\tbest: 59714.9451419 (1763)\ttotal: 5m 4s\tremaining: 32.3s\n1808:\tlearn: 13414.7874238\ttest: 59719.9996954\tbest: 59714.9451419 (1763)\ttotal: 5m 4s\tremaining: 32.1s\n1809:\tlearn: 13412.5690547\ttest: 59719.3318409\tbest: 59714.9451419 (1763)\ttotal: 5m 4s\tremaining: 32s\n1810:\tlearn: 13405.5960356\ttest: 59719.4230433\tbest: 59714.9451419 (1763)\ttotal: 5m 4s\tremaining: 31.8s\n1811:\tlearn: 13396.6611960\ttest: 59719.6890627\tbest: 59714.9451419 (1763)\ttotal: 5m 5s\tremaining: 31.7s\n1812:\tlearn: 13392.1521955\ttest: 59715.8718596\tbest: 59714.9451419 (1763)\ttotal: 5m 5s\tremaining: 31.5s\n1813:\tlearn: 13370.1330344\ttest: 59720.6801715\tbest: 59714.9451419 (1763)\ttotal: 5m 5s\tremaining: 31.3s\n1814:\tlearn: 13354.7649503\ttest: 59721.1652621\tbest: 59714.9451419 (1763)\ttotal: 5m 5s\tremaining: 31.2s\n1815:\tlearn: 13338.6610929\ttest: 59720.8493795\tbest: 59714.9451419 (1763)\ttotal: 5m 6s\tremaining: 31s\n1816:\tlearn: 13333.5935156\ttest: 59720.5158947\tbest: 59714.9451419 (1763)\ttotal: 5m 6s\tremaining: 30.9s\n1817:\tlearn: 13333.0930026\ttest: 59720.1850859\tbest: 59714.9451419 (1763)\ttotal: 5m 6s\tremaining: 30.7s\n1818:\tlearn: 13330.5110557\ttest: 59719.4658884\tbest: 59714.9451419 (1763)\ttotal: 5m 6s\tremaining: 30.5s\n1819:\tlearn: 13319.4694407\ttest: 59716.9667783\tbest: 59714.9451419 (1763)\ttotal: 5m 7s\tremaining: 30.4s\n1820:\tlearn: 13315.1481470\ttest: 59715.4159524\tbest: 59714.9451419 (1763)\ttotal: 5m 7s\tremaining: 30.2s\n1821:\tlearn: 13303.8490895\ttest: 59714.5654468\tbest: 59714.5654468 (1821)\ttotal: 5m 7s\tremaining: 30s\n1822:\tlearn: 13294.2646493\ttest: 59713.1026117\tbest: 59713.1026117 (1822)\ttotal: 5m 7s\tremaining: 29.9s\n1823:\tlearn: 13290.9759114\ttest: 59714.3979210\tbest: 59713.1026117 (1822)\ttotal: 5m 7s\tremaining: 29.7s\n1824:\tlearn: 13285.4667069\ttest: 59714.6374364\tbest: 59713.1026117 (1822)\ttotal: 5m 8s\tremaining: 29.5s\n1825:\tlearn: 13270.2430762\ttest: 59707.2133588\tbest: 59707.2133588 (1825)\ttotal: 5m 8s\tremaining: 29.4s\n1826:\tlearn: 13263.9784540\ttest: 59707.9617526\tbest: 59707.2133588 (1825)\ttotal: 5m 8s\tremaining: 29.2s\n1827:\tlearn: 13258.2167663\ttest: 59707.5665009\tbest: 59707.2133588 (1825)\ttotal: 5m 8s\tremaining: 29s\n1828:\tlearn: 13253.5074044\ttest: 59707.4170822\tbest: 59707.2133588 (1825)\ttotal: 5m 8s\tremaining: 28.9s\n1829:\tlearn: 13248.9303303\ttest: 59707.0952366\tbest: 59707.0952366 (1829)\ttotal: 5m 8s\tremaining: 28.7s\n1830:\tlearn: 13244.0348601\ttest: 59705.7566652\tbest: 59705.7566652 (1830)\ttotal: 5m 9s\tremaining: 28.5s\n1831:\tlearn: 13241.6040913\ttest: 59700.2935249\tbest: 59700.2935249 (1831)\ttotal: 5m 9s\tremaining: 28.4s\n1832:\tlearn: 13235.8404545\ttest: 59701.8601048\tbest: 59700.2935249 (1831)\ttotal: 5m 9s\tremaining: 28.2s\n1833:\tlearn: 13226.6705269\ttest: 59702.0977505\tbest: 59700.2935249 (1831)\ttotal: 5m 9s\tremaining: 28s\n1834:\tlearn: 13221.2694504\ttest: 59703.5508260\tbest: 59700.2935249 (1831)\ttotal: 5m 9s\tremaining: 27.9s\n1835:\tlearn: 13220.1645506\ttest: 59703.7844102\tbest: 59700.2935249 (1831)\ttotal: 5m 9s\tremaining: 27.7s\n1836:\tlearn: 13215.3391454\ttest: 59702.6256783\tbest: 59700.2935249 (1831)\ttotal: 5m 10s\tremaining: 27.5s\n1837:\tlearn: 13209.4791424\ttest: 59704.7297325\tbest: 59700.2935249 (1831)\ttotal: 5m 10s\tremaining: 27.3s\n1838:\tlearn: 13208.3576642\ttest: 59704.2627243\tbest: 59700.2935249 (1831)\ttotal: 5m 10s\tremaining: 27.2s\n1839:\tlearn: 13199.3139060\ttest: 59700.8516359\tbest: 59700.2935249 (1831)\ttotal: 5m 10s\tremaining: 27s\n1840:\tlearn: 13196.1723919\ttest: 59699.3735262\tbest: 59699.3735262 (1840)\ttotal: 5m 10s\tremaining: 26.8s\n1841:\tlearn: 13184.7388300\ttest: 59701.7842446\tbest: 59699.3735262 (1840)\ttotal: 5m 10s\tremaining: 26.7s\n1842:\tlearn: 13177.1844804\ttest: 59700.8973189\tbest: 59699.3735262 (1840)\ttotal: 5m 11s\tremaining: 26.5s\n1843:\tlearn: 13173.1671670\ttest: 59702.6727876\tbest: 59699.3735262 (1840)\ttotal: 5m 11s\tremaining: 26.3s\n1844:\tlearn: 13157.3680735\ttest: 59701.2689887\tbest: 59699.3735262 (1840)\ttotal: 5m 11s\tremaining: 26.2s\n1845:\tlearn: 13149.7500946\ttest: 59698.6845505\tbest: 59698.6845505 (1845)\ttotal: 5m 11s\tremaining: 26s\n1846:\tlearn: 13144.3060922\ttest: 59701.5618881\tbest: 59698.6845505 (1845)\ttotal: 5m 11s\tremaining: 25.8s\n1847:\tlearn: 13140.8000290\ttest: 59701.8497233\tbest: 59698.6845505 (1845)\ttotal: 5m 11s\tremaining: 25.6s\n1848:\tlearn: 13119.5562207\ttest: 59700.4896899\tbest: 59698.6845505 (1845)\ttotal: 5m 12s\tremaining: 25.5s\n1849:\tlearn: 13112.2750782\ttest: 59700.3826762\tbest: 59698.6845505 (1845)\ttotal: 5m 12s\tremaining: 25.3s\n1850:\tlearn: 13107.6278987\ttest: 59700.4356191\tbest: 59698.6845505 (1845)\ttotal: 5m 12s\tremaining: 25.2s\n1851:\tlearn: 13102.9715770\ttest: 59703.2607255\tbest: 59698.6845505 (1845)\ttotal: 5m 12s\tremaining: 25s\n1852:\tlearn: 13093.5551300\ttest: 59700.2577028\tbest: 59698.6845505 (1845)\ttotal: 5m 12s\tremaining: 24.8s\n1853:\tlearn: 13090.4059583\ttest: 59698.6750736\tbest: 59698.6750736 (1853)\ttotal: 5m 12s\tremaining: 24.6s\n1854:\tlearn: 13082.0990397\ttest: 59698.8126432\tbest: 59698.6750736 (1853)\ttotal: 5m 13s\tremaining: 24.5s\n1855:\tlearn: 13074.7094592\ttest: 59696.5928398\tbest: 59696.5928398 (1855)\ttotal: 5m 13s\tremaining: 24.3s\n1856:\tlearn: 13069.0104008\ttest: 59694.3481274\tbest: 59694.3481274 (1856)\ttotal: 5m 13s\tremaining: 24.1s\n1857:\tlearn: 13054.4007735\ttest: 59689.7478135\tbest: 59689.7478135 (1857)\ttotal: 5m 13s\tremaining: 24s\n1858:\tlearn: 13049.2197425\ttest: 59690.8109461\tbest: 59689.7478135 (1857)\ttotal: 5m 13s\tremaining: 23.8s\n1859:\tlearn: 13047.3001691\ttest: 59690.6784105\tbest: 59689.7478135 (1857)\ttotal: 5m 13s\tremaining: 23.6s\n1860:\tlearn: 13042.0702065\ttest: 59693.7751415\tbest: 59689.7478135 (1857)\ttotal: 5m 14s\tremaining: 23.5s\n1861:\tlearn: 13037.3762923\ttest: 59693.8892714\tbest: 59689.7478135 (1857)\ttotal: 5m 14s\tremaining: 23.3s\n1862:\tlearn: 13034.6240158\ttest: 59693.5491016\tbest: 59689.7478135 (1857)\ttotal: 5m 14s\tremaining: 23.1s\n1863:\tlearn: 13032.3289477\ttest: 59692.9537391\tbest: 59689.7478135 (1857)\ttotal: 5m 14s\tremaining: 23s\n1864:\tlearn: 13024.9661199\ttest: 59693.8970295\tbest: 59689.7478135 (1857)\ttotal: 5m 14s\tremaining: 22.8s\n1865:\tlearn: 13017.7428487\ttest: 59695.8782833\tbest: 59689.7478135 (1857)\ttotal: 5m 14s\tremaining: 22.6s\n1866:\tlearn: 13017.1883414\ttest: 59695.0496392\tbest: 59689.7478135 (1857)\ttotal: 5m 15s\tremaining: 22.4s\n1867:\tlearn: 13014.5879313\ttest: 59694.9363149\tbest: 59689.7478135 (1857)\ttotal: 5m 15s\tremaining: 22.3s\n1868:\tlearn: 13008.1482782\ttest: 59694.9748371\tbest: 59689.7478135 (1857)\ttotal: 5m 15s\tremaining: 22.1s\n1869:\tlearn: 12999.5020288\ttest: 59691.7804745\tbest: 59689.7478135 (1857)\ttotal: 5m 15s\tremaining: 21.9s\n1870:\tlearn: 12995.0148889\ttest: 59690.6144865\tbest: 59689.7478135 (1857)\ttotal: 5m 15s\tremaining: 21.8s\n1871:\tlearn: 12988.7672691\ttest: 59692.5013492\tbest: 59689.7478135 (1857)\ttotal: 5m 15s\tremaining: 21.6s\n1872:\tlearn: 12979.2490691\ttest: 59688.8205520\tbest: 59688.8205520 (1872)\ttotal: 5m 16s\tremaining: 21.4s\n1873:\tlearn: 12976.1720729\ttest: 59688.5857691\tbest: 59688.5857691 (1873)\ttotal: 5m 16s\tremaining: 21.3s\n1874:\tlearn: 12962.5160155\ttest: 59692.3423087\tbest: 59688.5857691 (1873)\ttotal: 5m 16s\tremaining: 21.1s\n1875:\tlearn: 12960.0397397\ttest: 59693.0940689\tbest: 59688.5857691 (1873)\ttotal: 5m 16s\tremaining: 20.9s\n1876:\tlearn: 12955.8704341\ttest: 59693.4201635\tbest: 59688.5857691 (1873)\ttotal: 5m 16s\tremaining: 20.8s\n1877:\tlearn: 12941.5906005\ttest: 59692.9357378\tbest: 59688.5857691 (1873)\ttotal: 5m 16s\tremaining: 20.6s\n1878:\tlearn: 12939.6757678\ttest: 59692.5769059\tbest: 59688.5857691 (1873)\ttotal: 5m 17s\tremaining: 20.4s\n1879:\tlearn: 12929.7642844\ttest: 59690.7253887\tbest: 59688.5857691 (1873)\ttotal: 5m 17s\tremaining: 20.3s\n1880:\tlearn: 12915.5773018\ttest: 59693.3624639\tbest: 59688.5857691 (1873)\ttotal: 5m 17s\tremaining: 20.1s\n1881:\tlearn: 12906.5922840\ttest: 59690.7495985\tbest: 59688.5857691 (1873)\ttotal: 5m 17s\tremaining: 19.9s\n1882:\tlearn: 12897.6545562\ttest: 59688.9077177\tbest: 59688.5857691 (1873)\ttotal: 5m 17s\tremaining: 19.7s\n1883:\tlearn: 12894.0343300\ttest: 59692.5265477\tbest: 59688.5857691 (1873)\ttotal: 5m 18s\tremaining: 19.6s\n1884:\tlearn: 12889.6335849\ttest: 59690.7881347\tbest: 59688.5857691 (1873)\ttotal: 5m 18s\tremaining: 19.4s\n1885:\tlearn: 12877.0671026\ttest: 59686.6602069\tbest: 59686.6602069 (1885)\ttotal: 5m 18s\tremaining: 19.2s\n1886:\tlearn: 12870.1832614\ttest: 59687.0232855\tbest: 59686.6602069 (1885)\ttotal: 5m 18s\tremaining: 19.1s\n1887:\tlearn: 12868.4756494\ttest: 59687.5459482\tbest: 59686.6602069 (1885)\ttotal: 5m 18s\tremaining: 18.9s\n1888:\tlearn: 12867.4365624\ttest: 59686.9659734\tbest: 59686.6602069 (1885)\ttotal: 5m 18s\tremaining: 18.7s\n1889:\tlearn: 12861.1276093\ttest: 59687.4204895\tbest: 59686.6602069 (1885)\ttotal: 5m 19s\tremaining: 18.6s\n1890:\tlearn: 12855.1485634\ttest: 59690.1467656\tbest: 59686.6602069 (1885)\ttotal: 5m 19s\tremaining: 18.4s\n1891:\tlearn: 12848.5791457\ttest: 59689.5972308\tbest: 59686.6602069 (1885)\ttotal: 5m 19s\tremaining: 18.2s\n1892:\tlearn: 12845.0191260\ttest: 59689.5389088\tbest: 59686.6602069 (1885)\ttotal: 5m 19s\tremaining: 18.1s\n1893:\tlearn: 12840.0314163\ttest: 59689.4698810\tbest: 59686.6602069 (1885)\ttotal: 5m 19s\tremaining: 17.9s\n1894:\tlearn: 12835.8277125\ttest: 59690.1473261\tbest: 59686.6602069 (1885)\ttotal: 5m 19s\tremaining: 17.7s\n1895:\tlearn: 12833.7992677\ttest: 59688.9627827\tbest: 59686.6602069 (1885)\ttotal: 5m 20s\tremaining: 17.6s\n1896:\tlearn: 12824.7145946\ttest: 59688.2973789\tbest: 59686.6602069 (1885)\ttotal: 5m 20s\tremaining: 17.4s\n1897:\tlearn: 12819.7651051\ttest: 59692.2933608\tbest: 59686.6602069 (1885)\ttotal: 5m 20s\tremaining: 17.2s\n1898:\tlearn: 12813.0648155\ttest: 59689.3224233\tbest: 59686.6602069 (1885)\ttotal: 5m 20s\tremaining: 17.1s\n1899:\tlearn: 12807.5641626\ttest: 59691.0937098\tbest: 59686.6602069 (1885)\ttotal: 5m 20s\tremaining: 16.9s\n1900:\tlearn: 12802.5053919\ttest: 59691.3462913\tbest: 59686.6602069 (1885)\ttotal: 5m 21s\tremaining: 16.7s\n1901:\tlearn: 12797.5839945\ttest: 59691.3575682\tbest: 59686.6602069 (1885)\ttotal: 5m 21s\tremaining: 16.5s\n1902:\tlearn: 12793.2547810\ttest: 59691.3466208\tbest: 59686.6602069 (1885)\ttotal: 5m 21s\tremaining: 16.4s\n1903:\tlearn: 12787.1278610\ttest: 59690.3074748\tbest: 59686.6602069 (1885)\ttotal: 5m 21s\tremaining: 16.2s\n1904:\tlearn: 12779.3482257\ttest: 59690.4569342\tbest: 59686.6602069 (1885)\ttotal: 5m 21s\tremaining: 16s\n1905:\tlearn: 12769.0308472\ttest: 59688.6441887\tbest: 59686.6602069 (1885)\ttotal: 5m 21s\tremaining: 15.9s\n1906:\tlearn: 12766.9133372\ttest: 59689.2138613\tbest: 59686.6602069 (1885)\ttotal: 5m 22s\tremaining: 15.7s\n1907:\tlearn: 12762.9756980\ttest: 59687.3880174\tbest: 59686.6602069 (1885)\ttotal: 5m 22s\tremaining: 15.5s\n1908:\tlearn: 12756.7052911\ttest: 59687.8438167\tbest: 59686.6602069 (1885)\ttotal: 5m 22s\tremaining: 15.4s\n1909:\tlearn: 12754.7554866\ttest: 59685.9048478\tbest: 59685.9048478 (1909)\ttotal: 5m 22s\tremaining: 15.2s\n1910:\tlearn: 12751.2274064\ttest: 59685.6698294\tbest: 59685.6698294 (1910)\ttotal: 5m 22s\tremaining: 15s\n1911:\tlearn: 12747.8078734\ttest: 59685.6795873\tbest: 59685.6698294 (1910)\ttotal: 5m 22s\tremaining: 14.9s\n1912:\tlearn: 12741.2884014\ttest: 59685.5886693\tbest: 59685.5886693 (1912)\ttotal: 5m 23s\tremaining: 14.7s\n1913:\tlearn: 12738.2957184\ttest: 59684.1821370\tbest: 59684.1821370 (1913)\ttotal: 5m 23s\tremaining: 14.5s\n1914:\tlearn: 12731.5618275\ttest: 59682.9380478\tbest: 59682.9380478 (1914)\ttotal: 5m 23s\tremaining: 14.4s\n1915:\tlearn: 12724.3428161\ttest: 59684.0329288\tbest: 59682.9380478 (1914)\ttotal: 5m 23s\tremaining: 14.2s\n1916:\tlearn: 12716.3624971\ttest: 59684.0720523\tbest: 59682.9380478 (1914)\ttotal: 5m 23s\tremaining: 14s\n1917:\tlearn: 12703.7239964\ttest: 59679.2408698\tbest: 59679.2408698 (1917)\ttotal: 5m 24s\tremaining: 13.9s\n1918:\tlearn: 12695.2094739\ttest: 59682.3522596\tbest: 59679.2408698 (1917)\ttotal: 5m 24s\tremaining: 13.7s\n1919:\tlearn: 12693.4790172\ttest: 59683.2658973\tbest: 59679.2408698 (1917)\ttotal: 5m 24s\tremaining: 13.5s\n1920:\tlearn: 12691.7980366\ttest: 59684.6099692\tbest: 59679.2408698 (1917)\ttotal: 5m 24s\tremaining: 13.4s\n1921:\tlearn: 12685.0442543\ttest: 59684.1193478\tbest: 59679.2408698 (1917)\ttotal: 5m 25s\tremaining: 13.2s\n1922:\tlearn: 12666.5264947\ttest: 59683.4561431\tbest: 59679.2408698 (1917)\ttotal: 5m 25s\tremaining: 13s\n1923:\tlearn: 12661.3543451\ttest: 59683.2589532\tbest: 59679.2408698 (1917)\ttotal: 5m 25s\tremaining: 12.9s\n1924:\tlearn: 12654.3236300\ttest: 59682.8262301\tbest: 59679.2408698 (1917)\ttotal: 5m 26s\tremaining: 12.7s\n1925:\tlearn: 12647.6779987\ttest: 59684.7801353\tbest: 59679.2408698 (1917)\ttotal: 5m 26s\tremaining: 12.5s\n1926:\tlearn: 12638.3537316\ttest: 59684.0976989\tbest: 59679.2408698 (1917)\ttotal: 5m 26s\tremaining: 12.4s\n1927:\tlearn: 12632.3348423\ttest: 59684.3270478\tbest: 59679.2408698 (1917)\ttotal: 5m 27s\tremaining: 12.2s\n1928:\tlearn: 12629.8955244\ttest: 59683.1098391\tbest: 59679.2408698 (1917)\ttotal: 5m 27s\tremaining: 12.1s\n1929:\tlearn: 12623.6739631\ttest: 59681.7780514\tbest: 59679.2408698 (1917)\ttotal: 5m 27s\tremaining: 11.9s\n1930:\tlearn: 12619.3394822\ttest: 59682.0670551\tbest: 59679.2408698 (1917)\ttotal: 5m 28s\tremaining: 11.7s\n1931:\tlearn: 12614.2360184\ttest: 59681.8303606\tbest: 59679.2408698 (1917)\ttotal: 5m 28s\tremaining: 11.6s\n1932:\tlearn: 12612.3844313\ttest: 59682.8935137\tbest: 59679.2408698 (1917)\ttotal: 5m 28s\tremaining: 11.4s\n1933:\tlearn: 12606.7062143\ttest: 59684.7613469\tbest: 59679.2408698 (1917)\ttotal: 5m 29s\tremaining: 11.2s\n1934:\tlearn: 12599.1154114\ttest: 59686.2609697\tbest: 59679.2408698 (1917)\ttotal: 5m 29s\tremaining: 11.1s\n1935:\tlearn: 12595.9808764\ttest: 59680.8915345\tbest: 59679.2408698 (1917)\ttotal: 5m 29s\tremaining: 10.9s\n1936:\tlearn: 12592.5934486\ttest: 59681.8411700\tbest: 59679.2408698 (1917)\ttotal: 5m 30s\tremaining: 10.7s\n1937:\tlearn: 12579.5719031\ttest: 59682.2719150\tbest: 59679.2408698 (1917)\ttotal: 5m 30s\tremaining: 10.6s\n1938:\tlearn: 12574.6148560\ttest: 59682.7311362\tbest: 59679.2408698 (1917)\ttotal: 5m 31s\tremaining: 10.4s\n1939:\tlearn: 12571.2947036\ttest: 59682.1064026\tbest: 59679.2408698 (1917)\ttotal: 5m 31s\tremaining: 10.2s\n1940:\tlearn: 12570.7765309\ttest: 59682.0492744\tbest: 59679.2408698 (1917)\ttotal: 5m 31s\tremaining: 10.1s\n1941:\tlearn: 12553.8406517\ttest: 59683.2861039\tbest: 59679.2408698 (1917)\ttotal: 5m 32s\tremaining: 9.92s\n1942:\tlearn: 12550.2177738\ttest: 59683.5882888\tbest: 59679.2408698 (1917)\ttotal: 5m 32s\tremaining: 9.75s\n1943:\tlearn: 12547.3189525\ttest: 59683.5918372\tbest: 59679.2408698 (1917)\ttotal: 5m 32s\tremaining: 9.58s\n1944:\tlearn: 12543.2636892\ttest: 59683.7779934\tbest: 59679.2408698 (1917)\ttotal: 5m 33s\tremaining: 9.42s\n1945:\tlearn: 12537.7524980\ttest: 59683.7937392\tbest: 59679.2408698 (1917)\ttotal: 5m 33s\tremaining: 9.25s\n1946:\tlearn: 12534.0282773\ttest: 59683.7740603\tbest: 59679.2408698 (1917)\ttotal: 5m 33s\tremaining: 9.09s\n1947:\tlearn: 12529.1046882\ttest: 59682.8984189\tbest: 59679.2408698 (1917)\ttotal: 5m 34s\tremaining: 8.92s\n1948:\tlearn: 12525.7035950\ttest: 59683.6110700\tbest: 59679.2408698 (1917)\ttotal: 5m 34s\tremaining: 8.76s\n1949:\tlearn: 12522.3785061\ttest: 59683.2686446\tbest: 59679.2408698 (1917)\ttotal: 5m 35s\tremaining: 8.59s\n1950:\tlearn: 12517.0761878\ttest: 59683.2819045\tbest: 59679.2408698 (1917)\ttotal: 5m 35s\tremaining: 8.42s\n1951:\tlearn: 12515.0283690\ttest: 59683.4323431\tbest: 59679.2408698 (1917)\ttotal: 5m 35s\tremaining: 8.25s\n1952:\tlearn: 12513.7882337\ttest: 59682.3896421\tbest: 59679.2408698 (1917)\ttotal: 5m 35s\tremaining: 8.08s\n1953:\tlearn: 12506.1341063\ttest: 59681.8530570\tbest: 59679.2408698 (1917)\ttotal: 5m 36s\tremaining: 7.92s\n1954:\tlearn: 12502.6726352\ttest: 59683.6749984\tbest: 59679.2408698 (1917)\ttotal: 5m 36s\tremaining: 7.75s\n1955:\tlearn: 12497.6447977\ttest: 59684.0678444\tbest: 59679.2408698 (1917)\ttotal: 5m 36s\tremaining: 7.57s\n1956:\tlearn: 12485.1705759\ttest: 59683.9702286\tbest: 59679.2408698 (1917)\ttotal: 5m 36s\tremaining: 7.4s\n1957:\tlearn: 12481.6700901\ttest: 59679.6591493\tbest: 59679.2408698 (1917)\ttotal: 5m 37s\tremaining: 7.23s\n1958:\tlearn: 12477.9415543\ttest: 59680.8532879\tbest: 59679.2408698 (1917)\ttotal: 5m 37s\tremaining: 7.07s\n1959:\tlearn: 12476.8522300\ttest: 59681.9513929\tbest: 59679.2408698 (1917)\ttotal: 5m 37s\tremaining: 6.9s\n1960:\tlearn: 12472.6663183\ttest: 59685.3386732\tbest: 59679.2408698 (1917)\ttotal: 5m 38s\tremaining: 6.73s\n1961:\tlearn: 12465.5013181\ttest: 59683.5267368\tbest: 59679.2408698 (1917)\ttotal: 5m 38s\tremaining: 6.56s\n1962:\tlearn: 12458.0829694\ttest: 59682.0906975\tbest: 59679.2408698 (1917)\ttotal: 5m 38s\tremaining: 6.38s\n1963:\tlearn: 12450.6515333\ttest: 59680.8223388\tbest: 59679.2408698 (1917)\ttotal: 5m 39s\tremaining: 6.22s\n1964:\tlearn: 12445.2863548\ttest: 59679.0477417\tbest: 59679.0477417 (1964)\ttotal: 5m 39s\tremaining: 6.05s\n1965:\tlearn: 12440.3147220\ttest: 59678.2977292\tbest: 59678.2977292 (1965)\ttotal: 5m 39s\tremaining: 5.88s\n1966:\tlearn: 12428.7290994\ttest: 59675.9434076\tbest: 59675.9434076 (1966)\ttotal: 5m 40s\tremaining: 5.71s\n1967:\tlearn: 12422.9647281\ttest: 59672.8862134\tbest: 59672.8862134 (1967)\ttotal: 5m 40s\tremaining: 5.54s\n1968:\tlearn: 12417.9189455\ttest: 59672.8516994\tbest: 59672.8516994 (1968)\ttotal: 5m 40s\tremaining: 5.37s\n1969:\tlearn: 12407.1224409\ttest: 59673.8299789\tbest: 59672.8516994 (1968)\ttotal: 5m 41s\tremaining: 5.2s\n1970:\tlearn: 12400.6620380\ttest: 59674.5443411\tbest: 59672.8516994 (1968)\ttotal: 5m 41s\tremaining: 5.02s\n1971:\tlearn: 12392.0999611\ttest: 59676.3731269\tbest: 59672.8516994 (1968)\ttotal: 5m 41s\tremaining: 4.85s\n1972:\tlearn: 12383.3390998\ttest: 59673.7885918\tbest: 59672.8516994 (1968)\ttotal: 5m 42s\tremaining: 4.68s\n1973:\tlearn: 12378.5930178\ttest: 59672.8537028\tbest: 59672.8516994 (1968)\ttotal: 5m 42s\tremaining: 4.51s\n1974:\tlearn: 12375.4544434\ttest: 59672.7959698\tbest: 59672.7959698 (1974)\ttotal: 5m 42s\tremaining: 4.34s\n1975:\tlearn: 12370.1367527\ttest: 59672.2882255\tbest: 59672.2882255 (1975)\ttotal: 5m 43s\tremaining: 4.17s\n1976:\tlearn: 12366.3237513\ttest: 59671.3662510\tbest: 59671.3662510 (1976)\ttotal: 5m 43s\tremaining: 4s\n1977:\tlearn: 12361.6051116\ttest: 59669.0771656\tbest: 59669.0771656 (1977)\ttotal: 5m 43s\tremaining: 3.82s\n1978:\tlearn: 12361.0925348\ttest: 59669.3738701\tbest: 59669.0771656 (1977)\ttotal: 5m 44s\tremaining: 3.65s\n1979:\tlearn: 12358.8543427\ttest: 59669.7535792\tbest: 59669.0771656 (1977)\ttotal: 5m 44s\tremaining: 3.48s\n1980:\tlearn: 12353.3555586\ttest: 59672.9486447\tbest: 59669.0771656 (1977)\ttotal: 5m 44s\tremaining: 3.31s\n1981:\tlearn: 12347.0269470\ttest: 59673.1644258\tbest: 59669.0771656 (1977)\ttotal: 5m 44s\tremaining: 3.13s\n1982:\tlearn: 12337.4108472\ttest: 59671.1806022\tbest: 59669.0771656 (1977)\ttotal: 5m 45s\tremaining: 2.96s\n1983:\tlearn: 12331.2729556\ttest: 59671.6523760\tbest: 59669.0771656 (1977)\ttotal: 5m 45s\tremaining: 2.79s\n1984:\tlearn: 12326.5443345\ttest: 59671.3850444\tbest: 59669.0771656 (1977)\ttotal: 5m 45s\tremaining: 2.61s\n1985:\tlearn: 12320.7398432\ttest: 59668.4328781\tbest: 59668.4328781 (1985)\ttotal: 5m 45s\tremaining: 2.44s\n1986:\tlearn: 12310.5871840\ttest: 59668.6879377\tbest: 59668.4328781 (1985)\ttotal: 5m 46s\tremaining: 2.26s\n1987:\tlearn: 12301.7965817\ttest: 59668.7188552\tbest: 59668.4328781 (1985)\ttotal: 5m 46s\tremaining: 2.09s\n1988:\tlearn: 12289.2605810\ttest: 59672.0204065\tbest: 59668.4328781 (1985)\ttotal: 5m 46s\tremaining: 1.92s\n1989:\tlearn: 12285.4164744\ttest: 59672.5927064\tbest: 59668.4328781 (1985)\ttotal: 5m 47s\tremaining: 1.74s\n1990:\tlearn: 12278.5908339\ttest: 59671.1888079\tbest: 59668.4328781 (1985)\ttotal: 5m 47s\tremaining: 1.57s\n1991:\tlearn: 12273.1423878\ttest: 59669.3605557\tbest: 59668.4328781 (1985)\ttotal: 5m 47s\tremaining: 1.4s\n1992:\tlearn: 12266.2083485\ttest: 59669.3634378\tbest: 59668.4328781 (1985)\ttotal: 5m 47s\tremaining: 1.22s\n1993:\tlearn: 12252.7775775\ttest: 59665.1169874\tbest: 59665.1169874 (1993)\ttotal: 5m 48s\tremaining: 1.05s\n1994:\tlearn: 12249.8303711\ttest: 59662.8186586\tbest: 59662.8186586 (1994)\ttotal: 5m 48s\tremaining: 874ms\n1995:\tlearn: 12240.9011311\ttest: 59661.1463819\tbest: 59661.1463819 (1995)\ttotal: 5m 48s\tremaining: 699ms\n1996:\tlearn: 12237.1575834\ttest: 59659.6321298\tbest: 59659.6321298 (1996)\ttotal: 5m 49s\tremaining: 524ms\n1997:\tlearn: 12227.2649579\ttest: 59660.9708422\tbest: 59659.6321298 (1996)\ttotal: 5m 49s\tremaining: 350ms\n1998:\tlearn: 12216.5352012\ttest: 59660.5051568\tbest: 59659.6321298 (1996)\ttotal: 5m 49s\tremaining: 175ms\n1999:\tlearn: 12208.4708962\ttest: 59660.8247660\tbest: 59659.6321298 (1996)\ttotal: 5m 50s\tremaining: 0us\n\nbestTest = 59659.63213\nbestIteration = 1996\n\nShrink model to first 1997 iterations.\n",
     "output_type": "stream"
    },
    {
     "output_type": "execute_result",
     "execution_count": 14,
     "data": {
      "text/plain": "<catboost.core.CatBoostRegressor at 0x7f2605316b20>"
     },
     "metadata": {}
    }
   ],
   "execution_count": null
  },
  {
   "cell_type": "code",
   "source": "\n\n    \n\n    \n",
   "metadata": {
    "tags": [],
    "cell_id": "00012-10df3b56-8b7c-4fdb-bb85-c09197a2c9b8",
    "deepnote_to_be_reexecuted": false,
    "source_hash": "773aacd1",
    "execution_start": 1637349125234,
    "execution_millis": 274974,
    "deepnote_cell_type": "code"
   },
   "outputs": [],
   "execution_count": null
  },
  {
   "cell_type": "code",
   "source": "final_df.head()",
   "metadata": {
    "tags": [],
    "cell_id": "00013-e6bddd34-acda-4cf8-8adf-01542491ab54",
    "deepnote_to_be_reexecuted": false,
    "source_hash": "66ad094a",
    "execution_start": 1637349125235,
    "execution_millis": 224,
    "deepnote_cell_type": "code"
   },
   "outputs": [
    {
     "output_type": "error",
     "ename": "NameError",
     "evalue": "name 'final_df' is not defined",
     "traceback": [
      "\u001b[0;31m---------------------------------------------------------------------------\u001b[0m",
      "\u001b[0;31mNameError\u001b[0m                                 Traceback (most recent call last)",
      "\u001b[0;32m<ipython-input-13-aa09cf474331>\u001b[0m in \u001b[0;36m<module>\u001b[0;34m\u001b[0m\n\u001b[0;32m----> 1\u001b[0;31m \u001b[0mfinal_df\u001b[0m\u001b[0;34m.\u001b[0m\u001b[0mhead\u001b[0m\u001b[0;34m(\u001b[0m\u001b[0;34m)\u001b[0m\u001b[0;34m\u001b[0m\u001b[0;34m\u001b[0m\u001b[0m\n\u001b[0m",
      "\u001b[0;31mNameError\u001b[0m: name 'final_df' is not defined"
     ]
    }
   ],
   "execution_count": null
  },
  {
   "cell_type": "code",
   "metadata": {
    "tags": [],
    "deepnote_to_be_reexecuted": false,
    "source_hash": "432fb887",
    "execution_start": 1637349544136,
    "execution_millis": 4544,
    "deepnote_output_heights": [
     null,
     21.1875
    ],
    "cell_id": "00011-40236ebc-1f59-48cc-8ff7-f9c3e30fa79d",
    "deepnote_cell_type": "code"
   },
   "source": "print(model.score(X_train, y_train))\nfrom sklearn.metrics import r2_score\n\ny_pred = model.predict(X_val)\ny_pred = y_pred.astype(float)\nprint(model.score(X_val, y_val)), print(r2_score(y_pred, model.predict(X_val)))",
   "outputs": [
    {
     "name": "stdout",
     "text": "0.9572817800552783\n0.8595282217218345\n1.0\n",
     "output_type": "stream"
    },
    {
     "output_type": "execute_result",
     "execution_count": 15,
     "data": {
      "text/plain": "(None, None)"
     },
     "metadata": {}
    }
   ],
   "execution_count": null
  },
  {
   "cell_type": "code",
   "metadata": {
    "tags": [],
    "deepnote_to_be_reexecuted": true,
    "source_hash": "949a2162",
    "execution_start": 1637343703075,
    "execution_millis": 72,
    "cell_id": "00012-fde2da6f-15be-4f96-b513-39b6697da1bf",
    "deepnote_cell_type": "code"
   },
   "source": "df=pd.DataFrame({'Actual': y_val, 'Predicted':y_pred})\ndf",
   "outputs": [
    {
     "output_type": "execute_result",
     "execution_count": 14,
     "data": {
      "application/vnd.deepnote.dataframe.v2+json": {
       "row_count": 4648,
       "column_count": 2,
       "columns": [
        {
         "name": "Actual",
         "dtype": "float64",
         "stats": {
          "unique_count": 3892,
          "nan_count": 0,
          "min": "53846.153846153844",
          "max": "1671453.8959276017",
          "histogram": [
           {
            "bin_start": 53846.153846153844,
            "bin_end": 215606.92805429865,
            "count": 2786
           },
           {
            "bin_start": 215606.92805429865,
            "bin_end": 377367.7022624435,
            "count": 1322
           },
           {
            "bin_start": 377367.7022624435,
            "bin_end": 539128.4764705882,
            "count": 309
           },
           {
            "bin_start": 539128.4764705882,
            "bin_end": 700889.2506787331,
            "count": 106
           },
           {
            "bin_start": 700889.2506787331,
            "bin_end": 862650.0248868779,
            "count": 63
           },
           {
            "bin_start": 862650.0248868779,
            "bin_end": 1024410.7990950227,
            "count": 31
           },
           {
            "bin_start": 1024410.7990950227,
            "bin_end": 1186171.5733031675,
            "count": 9
           },
           {
            "bin_start": 1186171.5733031675,
            "bin_end": 1347932.3475113122,
            "count": 12
           },
           {
            "bin_start": 1347932.3475113122,
            "bin_end": 1509693.121719457,
            "count": 7
           },
           {
            "bin_start": 1509693.121719457,
            "bin_end": 1671453.8959276017,
            "count": 3
           }
          ]
         }
        },
        {
         "name": "Predicted",
         "dtype": "float64",
         "stats": {
          "unique_count": 4624,
          "nan_count": 0,
          "min": "55245.95541907984",
          "max": "1283737.1360749528",
          "histogram": [
           {
            "bin_start": 55245.95541907984,
            "bin_end": 178095.0734846671,
            "count": 1644
           },
           {
            "bin_start": 178095.0734846671,
            "bin_end": 300944.1915502544,
            "count": 2087
           },
           {
            "bin_start": 300944.1915502544,
            "bin_end": 423793.3096158417,
            "count": 480
           },
           {
            "bin_start": 423793.3096158417,
            "bin_end": 546642.427681429,
            "count": 186
           },
           {
            "bin_start": 546642.427681429,
            "bin_end": 669491.5457470163,
            "count": 107
           },
           {
            "bin_start": 669491.5457470163,
            "bin_end": 792340.6638126036,
            "count": 73
           },
           {
            "bin_start": 792340.6638126036,
            "bin_end": 915189.7818781909,
            "count": 42
           },
           {
            "bin_start": 915189.7818781909,
            "bin_end": 1038038.8999437782,
            "count": 21
           },
           {
            "bin_start": 1038038.8999437782,
            "bin_end": 1160888.0180093655,
            "count": 6
           },
           {
            "bin_start": 1160888.0180093655,
            "bin_end": 1283737.1360749528,
            "count": 2
           }
          ]
         }
        },
        {
         "name": "_deepnote_index_column",
         "dtype": "int64"
        }
       ],
       "rows_top": [
        {
         "Actual": 200000,
         "Predicted": 191784.23738951332,
         "_deepnote_index_column": 17722
        },
        {
         "Actual": 118300.00000000001,
         "Predicted": 122979.17154824903,
         "_deepnote_index_column": 10791
        },
        {
         "Actual": 182400,
         "Predicted": 180887.0058548207,
         "_deepnote_index_column": 13285
        },
        {
         "Actual": 195876.28865979382,
         "Predicted": 177614.24773705675,
         "_deepnote_index_column": 14456
        },
        {
         "Actual": 91836.73469387754,
         "Predicted": 100374.13281140148,
         "_deepnote_index_column": 2329
        },
        {
         "Actual": 184369.9990460746,
         "Predicted": 180080.63996731245,
         "_deepnote_index_column": 8357
        },
        {
         "Actual": 639947.6989247312,
         "Predicted": 674998.5856971238,
         "_deepnote_index_column": 16751
        },
        {
         "Actual": 180899.0014684288,
         "Predicted": 177188.13050016674,
         "_deepnote_index_column": 1475
        },
        {
         "Actual": 589743.5897435897,
         "Predicted": 541595.6586689616,
         "_deepnote_index_column": 10859
        },
        {
         "Actual": 236900,
         "Predicted": 234217.37757398683,
         "_deepnote_index_column": 1427
        },
        {
         "Actual": 157800,
         "Predicted": 159566.87702600885,
         "_deepnote_index_column": 4501
        },
        {
         "Actual": 116500,
         "Predicted": 121345.1121797488,
         "_deepnote_index_column": 246
        },
        {
         "Actual": 303000,
         "Predicted": 438252.48814976565,
         "_deepnote_index_column": 15752
        },
        {
         "Actual": 229281.7679558011,
         "Predicted": 201054.75205457423,
         "_deepnote_index_column": 16317
        },
        {
         "Actual": 199971.83869897114,
         "Predicted": 208484.2502956862,
         "_deepnote_index_column": 14921
        },
        {
         "Actual": 265200.5174644243,
         "Predicted": 224272.41359644508,
         "_deepnote_index_column": 5283
        },
        {
         "Actual": 197699.99999999997,
         "Predicted": 185426.11527942237,
         "_deepnote_index_column": 21858
        },
        {
         "Actual": 214473.68421052632,
         "Predicted": 199453.2802599271,
         "_deepnote_index_column": 12893
        },
        {
         "Actual": 170000,
         "Predicted": 175963.35025665266,
         "_deepnote_index_column": 1804
        },
        {
         "Actual": 145000,
         "Predicted": 161925.82771815697,
         "_deepnote_index_column": 15289
        },
        {
         "Actual": 243770.30162412993,
         "Predicted": 247984.95120292532,
         "_deepnote_index_column": 6525
        },
        {
         "Actual": 509090.9090909091,
         "Predicted": 449798.6923584909,
         "_deepnote_index_column": 1270
        },
        {
         "Actual": 200944.46322907862,
         "Predicted": 198100.6105896199,
         "_deepnote_index_column": 5696
        },
        {
         "Actual": 230357.14285714287,
         "Predicted": 224850.8329419039,
         "_deepnote_index_column": 17822
        },
        {
         "Actual": 231379.99685732243,
         "Predicted": 290876.92308400554,
         "_deepnote_index_column": 2072
        },
        {
         "Actual": 193600.00000000003,
         "Predicted": 184465.7690496127,
         "_deepnote_index_column": 20918
        },
        {
         "Actual": 407894.7368421053,
         "Predicted": 381963.94243929186,
         "_deepnote_index_column": 1251
        },
        {
         "Actual": 468750,
         "Predicted": 555199.9854472764,
         "_deepnote_index_column": 3008
        },
        {
         "Actual": 205800,
         "Predicted": 204732.18377886247,
         "_deepnote_index_column": 12322
        },
        {
         "Actual": 200000,
         "Predicted": 189299.27706618205,
         "_deepnote_index_column": 19199
        },
        {
         "Actual": 209864.70731707316,
         "Predicted": 202801.5211336753,
         "_deepnote_index_column": 13993
        },
        {
         "Actual": 180434.78260869565,
         "Predicted": 181443.09252914594,
         "_deepnote_index_column": 14258
        },
        {
         "Actual": 180672.26890756303,
         "Predicted": 187423.96036241515,
         "_deepnote_index_column": 18914
        },
        {
         "Actual": 218991.3544668588,
         "Predicted": 228732.9760562112,
         "_deepnote_index_column": 993
        },
        {
         "Actual": 124775.71100917431,
         "Predicted": 122573.39904520598,
         "_deepnote_index_column": 20169
        },
        {
         "Actual": 189923.95437262356,
         "Predicted": 193867.43028209975,
         "_deepnote_index_column": 8775
        },
        {
         "Actual": 165714.2857142857,
         "Predicted": 149795.63338379236,
         "_deepnote_index_column": 4355
        },
        {
         "Actual": 225000,
         "Predicted": 210035.57509063344,
         "_deepnote_index_column": 3946
        },
        {
         "Actual": 159090.9090909091,
         "Predicted": 162381.63066955958,
         "_deepnote_index_column": 21617
        },
        {
         "Actual": 267000,
         "Predicted": 273867.61311563273,
         "_deepnote_index_column": 7040
        },
        {
         "Actual": 354477.6119402985,
         "Predicted": 335642.97598331055,
         "_deepnote_index_column": 16401
        },
        {
         "Actual": 116920.23474178404,
         "Predicted": 120416.44384972812,
         "_deepnote_index_column": 5604
        },
        {
         "Actual": 437823.83419689117,
         "Predicted": 544982.8967872451,
         "_deepnote_index_column": 7157
        },
        {
         "Actual": 143712.5748502994,
         "Predicted": 181130.18735989445,
         "_deepnote_index_column": 18600
        },
        {
         "Actual": 137209.3023255814,
         "Predicted": 144194.91847874617,
         "_deepnote_index_column": 20190
        },
        {
         "Actual": 160256.41025641025,
         "Predicted": 191792.96172200303,
         "_deepnote_index_column": 7367
        },
        {
         "Actual": 273000,
         "Predicted": 267082.32254166313,
         "_deepnote_index_column": 11945
        },
        {
         "Actual": 328658.9005930778,
         "Predicted": 315894.2148477779,
         "_deepnote_index_column": 481
        },
        {
         "Actual": 207547.16981132075,
         "Predicted": 225011.00548653916,
         "_deepnote_index_column": 16688
        },
        {
         "Actual": 336538.46153846156,
         "Predicted": 269064.82980270335,
         "_deepnote_index_column": 12998
        },
        {
         "Actual": 223333.33333333334,
         "Predicted": 235167.21700068115,
         "_deepnote_index_column": 2578
        },
        {
         "Actual": 104000,
         "Predicted": 110925.50952104956,
         "_deepnote_index_column": 22358
        },
        {
         "Actual": 225531.89361702127,
         "Predicted": 246361.11452993538,
         "_deepnote_index_column": 7915
        },
        {
         "Actual": 174048.00718132855,
         "Predicted": 172246.64661105847,
         "_deepnote_index_column": 21127
        },
        {
         "Actual": 213200,
         "Predicted": 196109.7358045175,
         "_deepnote_index_column": 9946
        },
        {
         "Actual": 96721.31147540984,
         "Predicted": 105363.69375157493,
         "_deepnote_index_column": 8224
        },
        {
         "Actual": 182300,
         "Predicted": 170263.08452989464,
         "_deepnote_index_column": 1945
        },
        {
         "Actual": 153225.8064516129,
         "Predicted": 166966.366200276,
         "_deepnote_index_column": 16934
        },
        {
         "Actual": 150384.61538461538,
         "Predicted": 168410.1850149942,
         "_deepnote_index_column": 22004
        },
        {
         "Actual": 292307.6923076923,
         "Predicted": 264002.00892340776,
         "_deepnote_index_column": 8060
        },
        {
         "Actual": 161706.3492063492,
         "Predicted": 170694.56591693877,
         "_deepnote_index_column": 18511
        },
        {
         "Actual": 174000,
         "Predicted": 182684.26034681697,
         "_deepnote_index_column": 1925
        },
        {
         "Actual": 60329.0676416819,
         "Predicted": 55245.95541907984,
         "_deepnote_index_column": 8178
        },
        {
         "Actual": 219017.09401709403,
         "Predicted": 217324.18886983898,
         "_deepnote_index_column": 7597
        },
        {
         "Actual": 225974.02597402598,
         "Predicted": 238162.16094003996,
         "_deepnote_index_column": 4862
        },
        {
         "Actual": 207200,
         "Predicted": 214283.52103935368,
         "_deepnote_index_column": 6607
        },
        {
         "Actual": 168000.00000000003,
         "Predicted": 185696.6168759715,
         "_deepnote_index_column": 2939
        },
        {
         "Actual": 142500,
         "Predicted": 143477.94662445027,
         "_deepnote_index_column": 18736
        },
        {
         "Actual": 433333.3333333333,
         "Predicted": 433363.74879081466,
         "_deepnote_index_column": 3337
        },
        {
         "Actual": 116753.92670157069,
         "Predicted": 130843.47874316805,
         "_deepnote_index_column": 227
        },
        {
         "Actual": 243333.33333333334,
         "Predicted": 250661.2937143393,
         "_deepnote_index_column": 17962
        },
        {
         "Actual": 118518.51851851853,
         "Predicted": 142305.89363430266,
         "_deepnote_index_column": 4230
        },
        {
         "Actual": 147500,
         "Predicted": 183308.54148356232,
         "_deepnote_index_column": 14919
        },
        {
         "Actual": 85735.9635811836,
         "Predicted": 116242.53800166454,
         "_deepnote_index_column": 13718
        },
        {
         "Actual": 172222.22222222222,
         "Predicted": 190902.6784914374,
         "_deepnote_index_column": 19704
        },
        {
         "Actual": 191891.8918918919,
         "Predicted": 201667.42718305657,
         "_deepnote_index_column": 17853
        },
        {
         "Actual": 133333.33333333334,
         "Predicted": 142848.69944985642,
         "_deepnote_index_column": 4714
        },
        {
         "Actual": 218814.84897394513,
         "Predicted": 261839.07160508912,
         "_deepnote_index_column": 11969
        },
        {
         "Actual": 348837.20930232556,
         "Predicted": 260251.3477913912,
         "_deepnote_index_column": 19396
        },
        {
         "Actual": 219000,
         "Predicted": 216666.5591529742,
         "_deepnote_index_column": 20460
        },
        {
         "Actual": 148846.9601677149,
         "Predicted": 154399.75529804494,
         "_deepnote_index_column": 22892
        },
        {
         "Actual": 85144.92753623187,
         "Predicted": 145225.6028678054,
         "_deepnote_index_column": 8222
        },
        {
         "Actual": 549636.6083445492,
         "Predicted": 516532.6357206916,
         "_deepnote_index_column": 17491
        },
        {
         "Actual": 193750,
         "Predicted": 176503.22158672573,
         "_deepnote_index_column": 5388
        },
        {
         "Actual": 151138.98186889818,
         "Predicted": 169462.326895335,
         "_deepnote_index_column": 11352
        },
        {
         "Actual": 177083.33333333334,
         "Predicted": 195098.8507259219,
         "_deepnote_index_column": 10620
        },
        {
         "Actual": 154700,
         "Predicted": 151811.37572246476,
         "_deepnote_index_column": 21682
        },
        {
         "Actual": 145000,
         "Predicted": 134225.59737713676,
         "_deepnote_index_column": 21310
        },
        {
         "Actual": 267459.1381872214,
         "Predicted": 294906.8952788059,
         "_deepnote_index_column": 14582
        },
        {
         "Actual": 200000,
         "Predicted": 215026.0332067666,
         "_deepnote_index_column": 11450
        },
        {
         "Actual": 256999.99999999997,
         "Predicted": 252231.82071001545,
         "_deepnote_index_column": 18333
        },
        {
         "Actual": 130000,
         "Predicted": 152988.62106882178,
         "_deepnote_index_column": 17140
        },
        {
         "Actual": 164414.4144144144,
         "Predicted": 156460.03635869015,
         "_deepnote_index_column": 8390
        },
        {
         "Actual": 180000,
         "Predicted": 219406.5355695384,
         "_deepnote_index_column": 4405
        },
        {
         "Actual": 157100,
         "Predicted": 162269.16103464912,
         "_deepnote_index_column": 21853
        },
        {
         "Actual": 510562.4742268041,
         "Predicted": 440608.9554154879,
         "_deepnote_index_column": 10890
        },
        {
         "Actual": 267631.8622174381,
         "Predicted": 243005.68615396705,
         "_deepnote_index_column": 22416
        },
        {
         "Actual": 633356.8538011695,
         "Predicted": 595702.7773790685,
         "_deepnote_index_column": 2802
        },
        {
         "Actual": 216666.66666666666,
         "Predicted": 216849.0446032122,
         "_deepnote_index_column": 4841
        },
        {
         "Actual": 220930.23255813954,
         "Predicted": 241311.69645731372,
         "_deepnote_index_column": 551
        },
        {
         "Actual": 145121.9512195122,
         "Predicted": 138169.00908721949,
         "_deepnote_index_column": 18058
        },
        {
         "Actual": 155000,
         "Predicted": 168445.64144255169,
         "_deepnote_index_column": 5661
        },
        {
         "Actual": 156500,
         "Predicted": 158724.48512866686,
         "_deepnote_index_column": 11592
        },
        {
         "Actual": 189000,
         "Predicted": 190204.46324064117,
         "_deepnote_index_column": 22512
        },
        {
         "Actual": 133293.6344537815,
         "Predicted": 144017.26880539578,
         "_deepnote_index_column": 6260
        },
        {
         "Actual": 150862.06896551725,
         "Predicted": 195067.09803225234,
         "_deepnote_index_column": 6000
        },
        {
         "Actual": 184300,
         "Predicted": 189056.95514520124,
         "_deepnote_index_column": 22881
        },
        {
         "Actual": 244500.00000000003,
         "Predicted": 266670.27952614415,
         "_deepnote_index_column": 1541
        },
        {
         "Actual": 168000,
         "Predicted": 183654.72339230237,
         "_deepnote_index_column": 6927
        },
        {
         "Actual": 512500,
         "Predicted": 477923.71549343603,
         "_deepnote_index_column": 5344
        },
        {
         "Actual": 188976.37795275592,
         "Predicted": 227847.83000454155,
         "_deepnote_index_column": 5034
        },
        {
         "Actual": 347725.24544179527,
         "Predicted": 332850.314391157,
         "_deepnote_index_column": 15361
        },
        {
         "Actual": 163017.0316301703,
         "Predicted": 170709.14463324833,
         "_deepnote_index_column": 10679
        },
        {
         "Actual": 185714.2857142857,
         "Predicted": 198910.6458246995,
         "_deepnote_index_column": 16970
        },
        {
         "Actual": 220430.1075268817,
         "Predicted": 284957.4010894251,
         "_deepnote_index_column": 5312
        },
        {
         "Actual": 148126.36165577342,
         "Predicted": 146650.01175734214,
         "_deepnote_index_column": 9428
        },
        {
         "Actual": 163888.88888888888,
         "Predicted": 164461.56192822132,
         "_deepnote_index_column": 3860
        },
        {
         "Actual": 114114.992,
         "Predicted": 110462.45758290886,
         "_deepnote_index_column": 5593
        },
        {
         "Actual": 138888.88888888888,
         "Predicted": 163076.11045985087,
         "_deepnote_index_column": 10543
        },
        {
         "Actual": 298210.7355864811,
         "Predicted": 273471.9918973963,
         "_deepnote_index_column": 22486
        },
        {
         "Actual": 118100,
         "Predicted": 119552.93553115637,
         "_deepnote_index_column": 17288
        },
        {
         "Actual": 127586.20689655172,
         "Predicted": 145879.54712994522,
         "_deepnote_index_column": 18342
        },
        {
         "Actual": 235000,
         "Predicted": 216404.76906885428,
         "_deepnote_index_column": 20474
        },
        {
         "Actual": 169076.92307692306,
         "Predicted": 195814.0954707541,
         "_deepnote_index_column": 12971
        },
        {
         "Actual": 176666.66666666666,
         "Predicted": 159506.07729865622,
         "_deepnote_index_column": 5985
        },
        {
         "Actual": 381388.2532418002,
         "Predicted": 477320.82010391343,
         "_deepnote_index_column": 17204
        },
        {
         "Actual": 234945.70582428432,
         "Predicted": 293865.0994793267,
         "_deepnote_index_column": 19157
        },
        {
         "Actual": 406504.0650406504,
         "Predicted": 571733.3142305927,
         "_deepnote_index_column": 3291
        },
        {
         "Actual": 228571.42857142858,
         "Predicted": 235460.69976936877,
         "_deepnote_index_column": 2887
        },
        {
         "Actual": 127536.23188405797,
         "Predicted": 148094.86046627403,
         "_deepnote_index_column": 5794
        },
        {
         "Actual": 191100,
         "Predicted": 187109.56031090947,
         "_deepnote_index_column": 456
        },
        {
         "Actual": 276296.90036900365,
         "Predicted": 260948.93763849547,
         "_deepnote_index_column": 1524
        },
        {
         "Actual": 128581.888,
         "Predicted": 138447.64339837772,
         "_deepnote_index_column": 5618
        },
        {
         "Actual": 229678.45016976233,
         "Predicted": 215793.92764347768,
         "_deepnote_index_column": 6604
        },
        {
         "Actual": 277198.21162444114,
         "Predicted": 239569.80872781915,
         "_deepnote_index_column": 6517
        },
        {
         "Actual": 251470.58823529413,
         "Predicted": 248576.75895181033,
         "_deepnote_index_column": 22568
        },
        {
         "Actual": 572646.1579438008,
         "Predicted": 477657.36596271995,
         "_deepnote_index_column": 3268
        },
        {
         "Actual": 179500,
         "Predicted": 173677.96971648978,
         "_deepnote_index_column": 1421
        },
        {
         "Actual": 175000,
         "Predicted": 159809.71505949483,
         "_deepnote_index_column": 10521
        },
        {
         "Actual": 186936.93693693695,
         "Predicted": 182192.2400769301,
         "_deepnote_index_column": 12487
        },
        {
         "Actual": 255952.38095238095,
         "Predicted": 259921.18777516257,
         "_deepnote_index_column": 22625
        },
        {
         "Actual": 176785.7142857143,
         "Predicted": 166902.5502725999,
         "_deepnote_index_column": 4131
        },
        {
         "Actual": 225475.1966292135,
         "Predicted": 226360.11017164815,
         "_deepnote_index_column": 11398
        },
        {
         "Actual": 202614.3790849673,
         "Predicted": 201161.03035517214,
         "_deepnote_index_column": 8528
        },
        {
         "Actual": 184700,
         "Predicted": 181189.40339512826,
         "_deepnote_index_column": 1989
        },
        {
         "Actual": 195454.54545454544,
         "Predicted": 200085.22597426167,
         "_deepnote_index_column": 11734
        },
        {
         "Actual": 222101.69491525425,
         "Predicted": 241327.06947082336,
         "_deepnote_index_column": 11559
        },
        {
         "Actual": 321100.91743119265,
         "Predicted": 315257.3998762792,
         "_deepnote_index_column": 15408
        },
        {
         "Actual": 133238.92448512584,
         "Predicted": 149933.52938807383,
         "_deepnote_index_column": 9940
        },
        {
         "Actual": 341341.46341463417,
         "Predicted": 357611.94768264145,
         "_deepnote_index_column": 881
        },
        {
         "Actual": 319000,
         "Predicted": 331643.5835124024,
         "_deepnote_index_column": 15610
        },
        {
         "Actual": 257126.99140401147,
         "Predicted": 259631.4239128523,
         "_deepnote_index_column": 10673
        },
        {
         "Actual": 208904.1095890411,
         "Predicted": 188328.77185547727,
         "_deepnote_index_column": 22148
        },
        {
         "Actual": 196875,
         "Predicted": 202714.58693548306,
         "_deepnote_index_column": 14817
        },
        {
         "Actual": 201133.1444759207,
         "Predicted": 204439.65880051797,
         "_deepnote_index_column": 17684
        },
        {
         "Actual": 133400,
         "Predicted": 121080.90130354892,
         "_deepnote_index_column": 20033
        },
        {
         "Actual": 234000,
         "Predicted": 223187.58585178235,
         "_deepnote_index_column": 22070
        },
        {
         "Actual": 121800,
         "Predicted": 120230.4832481337,
         "_deepnote_index_column": 11288
        },
        {
         "Actual": 153174.6031746032,
         "Predicted": 168407.29009542416,
         "_deepnote_index_column": 8507
        },
        {
         "Actual": 311764.70588235295,
         "Predicted": 369198.5711100644,
         "_deepnote_index_column": 17183
        },
        {
         "Actual": 244974.8743718593,
         "Predicted": 231739.82882405506,
         "_deepnote_index_column": 1260
        },
        {
         "Actual": 209302.32558139536,
         "Predicted": 229977.94312905194,
         "_deepnote_index_column": 6958
        },
        {
         "Actual": 410108.99529042386,
         "Predicted": 404989.53841268504,
         "_deepnote_index_column": 16475
        },
        {
         "Actual": 243856.3585951941,
         "Predicted": 250471.8633215992,
         "_deepnote_index_column": 565
        },
        {
         "Actual": 158567.14768883877,
         "Predicted": 159192.37813605397,
         "_deepnote_index_column": 10341
        },
        {
         "Actual": 280632.41106719367,
         "Predicted": 231317.00700727676,
         "_deepnote_index_column": 17700
        },
        {
         "Actual": 184222.22222222222,
         "Predicted": 190730.1909615458,
         "_deepnote_index_column": 4829
        },
        {
         "Actual": 171212.12121212122,
         "Predicted": 170317.90993208718,
         "_deepnote_index_column": 10148
        },
        {
         "Actual": 198817.20430107528,
         "Predicted": 207750.84175942984,
         "_deepnote_index_column": 6152
        },
        {
         "Actual": 250793.6507936508,
         "Predicted": 232630.0702658897,
         "_deepnote_index_column": 17430
        },
        {
         "Actual": 229166.66666666666,
         "Predicted": 221429.43582205073,
         "_deepnote_index_column": 10450
        },
        {
         "Actual": 152884.61538461538,
         "Predicted": 173743.82560349692,
         "_deepnote_index_column": 16063
        },
        {
         "Actual": 114800.00000000001,
         "Predicted": 120983.50614031758,
         "_deepnote_index_column": 6398
        },
        {
         "Actual": 425887.26513569936,
         "Predicted": 376279.0545259889,
         "_deepnote_index_column": 21233
        },
        {
         "Actual": 200000,
         "Predicted": 218663.8750484786,
         "_deepnote_index_column": 18903
        },
        {
         "Actual": 176500,
         "Predicted": 146690.06597860932,
         "_deepnote_index_column": 4172
        },
        {
         "Actual": 135000,
         "Predicted": 112847.69967071351,
         "_deepnote_index_column": 4281
        },
        {
         "Actual": 185185.1851851852,
         "Predicted": 174168.85913581244,
         "_deepnote_index_column": 7088
        },
        {
         "Actual": 135967.004482557,
         "Predicted": 135745.5342317177,
         "_deepnote_index_column": 8155
        },
        {
         "Actual": 386473.42995169084,
         "Predicted": 327624.16750904307,
         "_deepnote_index_column": 612
        },
        {
         "Actual": 375000,
         "Predicted": 334873.9420638465,
         "_deepnote_index_column": 15474
        },
        {
         "Actual": 234545.45454545456,
         "Predicted": 206043.98102849833,
         "_deepnote_index_column": 21975
        },
        {
         "Actual": 235772.71468144044,
         "Predicted": 259084.5807934703,
         "_deepnote_index_column": 20963
        },
        {
         "Actual": 542507.6452599388,
         "Predicted": 724574.0700156407,
         "_deepnote_index_column": 16639
        },
        {
         "Actual": 268235.29411764705,
         "Predicted": 290731.0067225263,
         "_deepnote_index_column": 1312
        },
        {
         "Actual": 90816.32653061225,
         "Predicted": 115144.71268607516,
         "_deepnote_index_column": 20279
        },
        {
         "Actual": 200000,
         "Predicted": 167137.30771813073,
         "_deepnote_index_column": 21904
        },
        {
         "Actual": 278232.40589198034,
         "Predicted": 250982.34616739608,
         "_deepnote_index_column": 14302
        },
        {
         "Actual": 174490.19607843139,
         "Predicted": 171356.7042247747,
         "_deepnote_index_column": 16198
        },
        {
         "Actual": 258964.14342629482,
         "Predicted": 276387.7946307039,
         "_deepnote_index_column": 16707
        },
        {
         "Actual": 196759.25925925924,
         "Predicted": 200544.45871766342,
         "_deepnote_index_column": 21533
        },
        {
         "Actual": 154411.76470588235,
         "Predicted": 143410.12447745996,
         "_deepnote_index_column": 11952
        },
        {
         "Actual": 180750,
         "Predicted": 386239.7388298942,
         "_deepnote_index_column": 18161
        },
        {
         "Actual": 169000,
         "Predicted": 178874.70347278425,
         "_deepnote_index_column": 10716
        },
        {
         "Actual": 222300.00000000003,
         "Predicted": 228728.84506950126,
         "_deepnote_index_column": 1883
        },
        {
         "Actual": 256529.9919623378,
         "Predicted": 271385.7195916557,
         "_deepnote_index_column": 10406
        },
        {
         "Actual": 241000,
         "Predicted": 238495.4036194625,
         "_deepnote_index_column": 12866
        },
        {
         "Actual": 388095.2380952381,
         "Predicted": 314862.4607049035,
         "_deepnote_index_column": 12082
        },
        {
         "Actual": 183769.99765972386,
         "Predicted": 202039.2643928932,
         "_deepnote_index_column": 5113
        },
        {
         "Actual": 180547.94520547945,
         "Predicted": 200632.18830525037,
         "_deepnote_index_column": 13144
        },
        {
         "Actual": 267108.16777041944,
         "Predicted": 296191.1025884862,
         "_deepnote_index_column": 11971
        },
        {
         "Actual": 184385.38205980064,
         "Predicted": 189075.53701723763,
         "_deepnote_index_column": 14115
        },
        {
         "Actual": 190000,
         "Predicted": 203184.117992959,
         "_deepnote_index_column": 16700
        },
        {
         "Actual": 204300,
         "Predicted": 210873.23577533616,
         "_deepnote_index_column": 1841
        },
        {
         "Actual": 107812.5,
         "Predicted": 142144.19000909326,
         "_deepnote_index_column": 5322
        },
        {
         "Actual": 153225.8064516129,
         "Predicted": 164796.10057426884,
         "_deepnote_index_column": 1091
        },
        {
         "Actual": 242500,
         "Predicted": 245837.83162718092,
         "_deepnote_index_column": 5836
        },
        {
         "Actual": 302594.9942329873,
         "Predicted": 285513.23327484773,
         "_deepnote_index_column": 11728
        },
        {
         "Actual": 227388.37423312882,
         "Predicted": 225482.45655478328,
         "_deepnote_index_column": 19660
        },
        {
         "Actual": 508928.5714285714,
         "Predicted": 454227.66403447243,
         "_deepnote_index_column": 875
        },
        {
         "Actual": 334330,
         "Predicted": 331520.34614991606,
         "_deepnote_index_column": 16763
        },
        {
         "Actual": 283300.19880715705,
         "Predicted": 249801.56935755143,
         "_deepnote_index_column": 12877
        },
        {
         "Actual": 189155.1071878941,
         "Predicted": 225072.13629817578,
         "_deepnote_index_column": 20752
        },
        {
         "Actual": 248799.99999999997,
         "Predicted": 242702.6001264039,
         "_deepnote_index_column": 20010
        },
        {
         "Actual": 167992.0477137177,
         "Predicted": 173510.49228873628,
         "_deepnote_index_column": 14049
        },
        {
         "Actual": 188539.74121996303,
         "Predicted": 180054.85605696557,
         "_deepnote_index_column": 18245
        },
        {
         "Actual": 179028.1074168798,
         "Predicted": 192697.51605842903,
         "_deepnote_index_column": 13956
        },
        {
         "Actual": 133400,
         "Predicted": 131366.24501142313,
         "_deepnote_index_column": 13788
        },
        {
         "Actual": 180909.0909090909,
         "Predicted": 181437.40783109042,
         "_deepnote_index_column": 11504
        },
        {
         "Actual": 127041.74228675135,
         "Predicted": 125540.25773444035,
         "_deepnote_index_column": 21271
        },
        {
         "Actual": 149825.78397212544,
         "Predicted": 144365.43299773877,
         "_deepnote_index_column": 21872
        },
        {
         "Actual": 137681.14492753622,
         "Predicted": 161439.0408214188,
         "_deepnote_index_column": 20665
        },
        {
         "Actual": 433339.9,
         "Predicted": 571320.9430737382,
         "_deepnote_index_column": 13225
        },
        {
         "Actual": 267857.14285714284,
         "Predicted": 220284.5534611166,
         "_deepnote_index_column": 15409
        },
        {
         "Actual": 191116.7971530249,
         "Predicted": 192297.0203330695,
         "_deepnote_index_column": 10979
        },
        {
         "Actual": 315753.6650717703,
         "Predicted": 321572.40380321175,
         "_deepnote_index_column": 14541
        },
        {
         "Actual": 207956.60036166367,
         "Predicted": 214965.02127772686,
         "_deepnote_index_column": 11033
        },
        {
         "Actual": 120086.99690402478,
         "Predicted": 118353.24848033705,
         "_deepnote_index_column": 20926
        },
        {
         "Actual": 98663.3950351557,
         "Predicted": 104071.75582735924,
         "_deepnote_index_column": 18125
        },
        {
         "Actual": 178378.37837837837,
         "Predicted": 166967.41577455614,
         "_deepnote_index_column": 5306
        },
        {
         "Actual": 260000,
         "Predicted": 258050.84047029016,
         "_deepnote_index_column": 20310
        },
        {
         "Actual": 154200,
         "Predicted": 158261.5204866664,
         "_deepnote_index_column": 6098
        },
        {
         "Actual": 189473.68421052632,
         "Predicted": 194681.83731113223,
         "_deepnote_index_column": 9253
        },
        {
         "Actual": 95213.59440559441,
         "Predicted": 91365.48802457342,
         "_deepnote_index_column": 20218
        },
        {
         "Actual": 195000,
         "Predicted": 199277.94334422253,
         "_deepnote_index_column": 21448
        },
        {
         "Actual": 163793.10344827586,
         "Predicted": 169576.7318380216,
         "_deepnote_index_column": 11951
        },
        {
         "Actual": 164400,
         "Predicted": 179028.09420628156,
         "_deepnote_index_column": 7239
        },
        {
         "Actual": 136000,
         "Predicted": 155728.3244403535,
         "_deepnote_index_column": 16243
        },
        {
         "Actual": 202614.3790849673,
         "Predicted": 196741.27652522185,
         "_deepnote_index_column": 3670
        },
        {
         "Actual": 154672.13758079408,
         "Predicted": 191872.2250387291,
         "_deepnote_index_column": 19243
        },
        {
         "Actual": 193649.11304347825,
         "Predicted": 198140.61413973547,
         "_deepnote_index_column": 20638
        },
        {
         "Actual": 192105.26315789475,
         "Predicted": 192413.04568069018,
         "_deepnote_index_column": 21202
        },
        {
         "Actual": 913175.6607252613,
         "Predicted": 684550.3353292927,
         "_deepnote_index_column": 10277
        },
        {
         "Actual": 160795.45454545456,
         "Predicted": 170736.94536738528,
         "_deepnote_index_column": 10792
        },
        {
         "Actual": 274000,
         "Predicted": 275680.9884700926,
         "_deepnote_index_column": 9624
        },
        {
         "Actual": 183556.78221552374,
         "Predicted": 176172.83166518604,
         "_deepnote_index_column": 20312
        },
        {
         "Actual": 179987.5,
         "Predicted": 212536.10531751614,
         "_deepnote_index_column": 7420
        },
        {
         "Actual": 164444.44444444444,
         "Predicted": 168592.40741213315,
         "_deepnote_index_column": 9670
        },
        {
         "Actual": 525000,
         "Predicted": 559543.9209996469,
         "_deepnote_index_column": 22170
        },
        {
         "Actual": 199000,
         "Predicted": 214962.7051283321,
         "_deepnote_index_column": 20430
        }
       ],
       "rows_bottom": [
        {
         "Actual": 205000,
         "Predicted": 204736.6652130409,
         "_deepnote_index_column": 8395
        },
        {
         "Actual": 197916.66666666666,
         "Predicted": 184489.9573079819,
         "_deepnote_index_column": 15220
        },
        {
         "Actual": 193700,
         "Predicted": 209723.90216642735,
         "_deepnote_index_column": 7167
        },
        {
         "Actual": 255355,
         "Predicted": 250834.3624026373,
         "_deepnote_index_column": 16261
        },
        {
         "Actual": 176000,
         "Predicted": 191815.91563566017,
         "_deepnote_index_column": 10647
        },
        {
         "Actual": 211111.11111111112,
         "Predicted": 223918.48226915795,
         "_deepnote_index_column": 1092
        },
        {
         "Actual": 186834.73389355742,
         "Predicted": 194421.32121095707,
         "_deepnote_index_column": 4744
        },
        {
         "Actual": 142640.36418816386,
         "Predicted": 164908.52072095982,
         "_deepnote_index_column": 13082
        },
        {
         "Actual": 191000,
         "Predicted": 188029.22092421487,
         "_deepnote_index_column": 18684
        },
        {
         "Actual": 158823.5294117647,
         "Predicted": 170029.22622158984,
         "_deepnote_index_column": 10133
        },
        {
         "Actual": 94972.06703910616,
         "Predicted": 97917.76029490127,
         "_deepnote_index_column": 2238
        },
        {
         "Actual": 180000,
         "Predicted": 166359.22992944217,
         "_deepnote_index_column": 10428
        },
        {
         "Actual": 162900,
         "Predicted": 180031.95921465693,
         "_deepnote_index_column": 22805
        },
        {
         "Actual": 128400,
         "Predicted": 121908.47496808716,
         "_deepnote_index_column": 255
        },
        {
         "Actual": 167469.8795180723,
         "Predicted": 182286.17870921973,
         "_deepnote_index_column": 20104
        },
        {
         "Actual": 165400,
         "Predicted": 157405.84980519256,
         "_deepnote_index_column": 21656
        },
        {
         "Actual": 194103.19410319408,
         "Predicted": 210998.92769466309,
         "_deepnote_index_column": 18912
        },
        {
         "Actual": 230600,
         "Predicted": 234310.6405800675,
         "_deepnote_index_column": 1831
        },
        {
         "Actual": 196500,
         "Predicted": 216760.9971444182,
         "_deepnote_index_column": 1358
        },
        {
         "Actual": 192105.82381729202,
         "Predicted": 193649.88082034112,
         "_deepnote_index_column": 6844
        },
        {
         "Actual": 288235.29411764705,
         "Predicted": 257962.3153454182,
         "_deepnote_index_column": 10430
        },
        {
         "Actual": 233333.33333333334,
         "Predicted": 333966.0285534429,
         "_deepnote_index_column": 10208
        },
        {
         "Actual": 214423.07692307694,
         "Predicted": 181004.78323237566,
         "_deepnote_index_column": 1320
        },
        {
         "Actual": 479678.6111111111,
         "Predicted": 493987.46668678045,
         "_deepnote_index_column": 16737
        },
        {
         "Actual": 325170.0680272109,
         "Predicted": 388379.5975521805,
         "_deepnote_index_column": 4365
        },
        {
         "Actual": 217592.59259259258,
         "Predicted": 203506.83785523975,
         "_deepnote_index_column": 7668
        },
        {
         "Actual": 192307.6923076923,
         "Predicted": 187425.81241637084,
         "_deepnote_index_column": 4141
        },
        {
         "Actual": 271794.8717948718,
         "Predicted": 253953.32073806197,
         "_deepnote_index_column": 16325
        },
        {
         "Actual": 1238114,
         "Predicted": 1021543.048302712,
         "_deepnote_index_column": 3520
        },
        {
         "Actual": 198630.13698630137,
         "Predicted": 261830.19342886365,
         "_deepnote_index_column": 19052
        },
        {
         "Actual": 125683.43558282209,
         "Predicted": 124328.80031352758,
         "_deepnote_index_column": 17000
        },
        {
         "Actual": 154900,
         "Predicted": 151912.5958573608,
         "_deepnote_index_column": 21893
        },
        {
         "Actual": 1092438.9623529413,
         "Predicted": 1027785.3370481513,
         "_deepnote_index_column": 7832
        },
        {
         "Actual": 259765.625,
         "Predicted": 253543.2332506284,
         "_deepnote_index_column": 22559
        },
        {
         "Actual": 375000,
         "Predicted": 327119.74039957393,
         "_deepnote_index_column": 8055
        },
        {
         "Actual": 250000,
         "Predicted": 233690.26181163994,
         "_deepnote_index_column": 21573
        },
        {
         "Actual": 200000,
         "Predicted": 164387.62474788632,
         "_deepnote_index_column": 11089
        },
        {
         "Actual": 103300.00000000001,
         "Predicted": 104691.04318440359,
         "_deepnote_index_column": 5773
        },
        {
         "Actual": 274362.0089104901,
         "Predicted": 311893.4397902219,
         "_deepnote_index_column": 867
        },
        {
         "Actual": 840000,
         "Predicted": 762705.2173978786,
         "_deepnote_index_column": 14696
        },
        {
         "Actual": 217391.30434782608,
         "Predicted": 214814.33204216062,
         "_deepnote_index_column": 4788
        },
        {
         "Actual": 293493.1506849315,
         "Predicted": 358559.75964557676,
         "_deepnote_index_column": 16818
        },
        {
         "Actual": 579804.5602605863,
         "Predicted": 567425.079712427,
         "_deepnote_index_column": 23035
        },
        {
         "Actual": 220930.23255813954,
         "Predicted": 204946.66230751702,
         "_deepnote_index_column": 16003
        },
        {
         "Actual": 118129.99474697952,
         "Predicted": 122243.80618784386,
         "_deepnote_index_column": 10815
        },
        {
         "Actual": 1238113.9964157706,
         "Predicted": 932102.881420246,
         "_deepnote_index_column": 3517
        },
        {
         "Actual": 183023.8594164456,
         "Predicted": 181276.97378754642,
         "_deepnote_index_column": 15982
        },
        {
         "Actual": 205882.35294117648,
         "Predicted": 177955.2180720896,
         "_deepnote_index_column": 18512
        },
        {
         "Actual": 201724.1379310345,
         "Predicted": 218190.8339473817,
         "_deepnote_index_column": 22118
        },
        {
         "Actual": 133888.88888888888,
         "Predicted": 131424.98630327228,
         "_deepnote_index_column": 6247
        },
        {
         "Actual": 318446.9773880942,
         "Predicted": 333381.6404923905,
         "_deepnote_index_column": 22075
        },
        {
         "Actual": 87157.33015494636,
         "Predicted": 88913.08584548291,
         "_deepnote_index_column": 2219
        },
        {
         "Actual": 179411.76470588235,
         "Predicted": 164338.0079821283,
         "_deepnote_index_column": 16561
        },
        {
         "Actual": 223252.9903978052,
         "Predicted": 214497.43314966952,
         "_deepnote_index_column": 22455
        },
        {
         "Actual": 165000,
         "Predicted": 162020.91821152068,
         "_deepnote_index_column": 287
        },
        {
         "Actual": 151587.3015873016,
         "Predicted": 146041.6282388749,
         "_deepnote_index_column": 5978
        },
        {
         "Actual": 162893.01666666666,
         "Predicted": 157268.59404893272,
         "_deepnote_index_column": 10007
        },
        {
         "Actual": 250000,
         "Predicted": 224417.7300624538,
         "_deepnote_index_column": 22562
        },
        {
         "Actual": 199777.77777777778,
         "Predicted": 214338.40600479647,
         "_deepnote_index_column": 18568
        },
        {
         "Actual": 708454.8104956269,
         "Predicted": 712952.1395862373,
         "_deepnote_index_column": 10894
        },
        {
         "Actual": 201238.39009287927,
         "Predicted": 207341.00177606312,
         "_deepnote_index_column": 16709
        },
        {
         "Actual": 142857.14285714287,
         "Predicted": 198585.02910701744,
         "_deepnote_index_column": 16590
        },
        {
         "Actual": 434426.2295081967,
         "Predicted": 611041.726113817,
         "_deepnote_index_column": 15859
        },
        {
         "Actual": 272000,
         "Predicted": 258270.37248042537,
         "_deepnote_index_column": 19696
        },
        {
         "Actual": 126232.99973663418,
         "Predicted": 131800.3062540062,
         "_deepnote_index_column": 22235
        },
        {
         "Actual": 146191.64619164617,
         "Predicted": 184025.3355107448,
         "_deepnote_index_column": 6238
        },
        {
         "Actual": 159436.00867678958,
         "Predicted": 190562.72053396955,
         "_deepnote_index_column": 11923
        },
        {
         "Actual": 159836.0655737705,
         "Predicted": 178375.26047142493,
         "_deepnote_index_column": 4527
        },
        {
         "Actual": 284090.9090909091,
         "Predicted": 389959.57941829576,
         "_deepnote_index_column": 17469
        },
        {
         "Actual": 99999.81530343008,
         "Predicted": 100236.4775498528,
         "_deepnote_index_column": 21824
        },
        {
         "Actual": 224000,
         "Predicted": 200258.56921006666,
         "_deepnote_index_column": 6620
        },
        {
         "Actual": 337837.8378378378,
         "Predicted": 426456.6325427338,
         "_deepnote_index_column": 12579
        },
        {
         "Actual": 646153.8461538461,
         "Predicted": 525445.9441572938,
         "_deepnote_index_column": 17191
        },
        {
         "Actual": 195965.41786743514,
         "Predicted": 191594.62746662,
         "_deepnote_index_column": 17910
        },
        {
         "Actual": 121999.99999999999,
         "Predicted": 118176.16093376365,
         "_deepnote_index_column": 12005
        },
        {
         "Actual": 240000,
         "Predicted": 232090.29063319074,
         "_deepnote_index_column": 19372
        },
        {
         "Actual": 159163.98713826365,
         "Predicted": 165732.28532071802,
         "_deepnote_index_column": 6005
        },
        {
         "Actual": 165338.6454183267,
         "Predicted": 168145.44844456925,
         "_deepnote_index_column": 4835
        },
        {
         "Actual": 157407.40740740742,
         "Predicted": 172204.4934930756,
         "_deepnote_index_column": 12719
        },
        {
         "Actual": 199900,
         "Predicted": 209812.21725376885,
         "_deepnote_index_column": 7218
        },
        {
         "Actual": 223529.41176470587,
         "Predicted": 204129.04744392622,
         "_deepnote_index_column": 1366
        },
        {
         "Actual": 228400,
         "Predicted": 219374.83116370722,
         "_deepnote_index_column": 14282
        },
        {
         "Actual": 300000,
         "Predicted": 343027.29546579736,
         "_deepnote_index_column": 7122
        },
        {
         "Actual": 175230,
         "Predicted": 177682.8530292437,
         "_deepnote_index_column": 16917
        },
        {
         "Actual": 270000,
         "Predicted": 278355.9460232605,
         "_deepnote_index_column": 19738
        },
        {
         "Actual": 168000,
         "Predicted": 177495.3630758145,
         "_deepnote_index_column": 10595
        },
        {
         "Actual": 220064.72491909386,
         "Predicted": 192729.84861737015,
         "_deepnote_index_column": 11817
        },
        {
         "Actual": 100000,
         "Predicted": 112316.70434218363,
         "_deepnote_index_column": 22
        },
        {
         "Actual": 566326.5306122449,
         "Predicted": 446235.88112743443,
         "_deepnote_index_column": 2530
        },
        {
         "Actual": 216121.82654402105,
         "Predicted": 247834.0853938256,
         "_deepnote_index_column": 19694
        },
        {
         "Actual": 411764.70588235295,
         "Predicted": 411353.0853987973,
         "_deepnote_index_column": 18837
        },
        {
         "Actual": 433333.3333333333,
         "Predicted": 493945.2837235249,
         "_deepnote_index_column": 14676
        },
        {
         "Actual": 167286.24535315987,
         "Predicted": 162491.16416998883,
         "_deepnote_index_column": 9332
        },
        {
         "Actual": 134400,
         "Predicted": 137187.10491993572,
         "_deepnote_index_column": 18129
        },
        {
         "Actual": 280000,
         "Predicted": 269189.80147807935,
         "_deepnote_index_column": 6839
        },
        {
         "Actual": 391454.9653579677,
         "Predicted": 381873.0972767848,
         "_deepnote_index_column": 525
        },
        {
         "Actual": 697331.2380431811,
         "Predicted": 698081.9617441826,
         "_deepnote_index_column": 14643
        },
        {
         "Actual": 449610.13645224174,
         "Predicted": 384130.69816567394,
         "_deepnote_index_column": 22427
        },
        {
         "Actual": 979772.4399494312,
         "Predicted": 758798.3666543716,
         "_deepnote_index_column": 20520
        },
        {
         "Actual": 268172.3881706048,
         "Predicted": 268529.8032347122,
         "_deepnote_index_column": 771
        },
        {
         "Actual": 171606.864274571,
         "Predicted": 181450.25986486336,
         "_deepnote_index_column": 11092
        },
        {
         "Actual": 162544.88691281655,
         "Predicted": 167306.87115042776,
         "_deepnote_index_column": 11869
        },
        {
         "Actual": 227154.04699738906,
         "Predicted": 207716.042297003,
         "_deepnote_index_column": 18268
        },
        {
         "Actual": 143300,
         "Predicted": 144679.08284317658,
         "_deepnote_index_column": 4403
        },
        {
         "Actual": 142400,
         "Predicted": 126673.68036023303,
         "_deepnote_index_column": 13152
        },
        {
         "Actual": 125000,
         "Predicted": 148313.8553388507,
         "_deepnote_index_column": 16362
        },
        {
         "Actual": 216981.1320754717,
         "Predicted": 205721.054834634,
         "_deepnote_index_column": 5116
        },
        {
         "Actual": 853263.6,
         "Predicted": 824577.0612902894,
         "_deepnote_index_column": 15793
        },
        {
         "Actual": 154285.7142857143,
         "Predicted": 165219.9744632,
         "_deepnote_index_column": 6043
        },
        {
         "Actual": 288000,
         "Predicted": 275496.8516176797,
         "_deepnote_index_column": 21376
        },
        {
         "Actual": 139639.63963963964,
         "Predicted": 128124.2021507801,
         "_deepnote_index_column": 18726
        },
        {
         "Actual": 211480.36253776433,
         "Predicted": 201069.19236558024,
         "_deepnote_index_column": 5459
        },
        {
         "Actual": 153900,
         "Predicted": 159665.183941707,
         "_deepnote_index_column": 10932
        },
        {
         "Actual": 689989.7389123248,
         "Predicted": 713850.2299401098,
         "_deepnote_index_column": 3325
        },
        {
         "Actual": 222368.42105263157,
         "Predicted": 271319.3152874982,
         "_deepnote_index_column": 3102
        },
        {
         "Actual": 411764.70588235295,
         "Predicted": 493155.3368741429,
         "_deepnote_index_column": 2193
        },
        {
         "Actual": 267000,
         "Predicted": 261581.49501827767,
         "_deepnote_index_column": 13459
        },
        {
         "Actual": 735158.3952171176,
         "Predicted": 730516.0007089945,
         "_deepnote_index_column": 16634
        },
        {
         "Actual": 387931.0344827586,
         "Predicted": 377324.11463573674,
         "_deepnote_index_column": 12580
        },
        {
         "Actual": 162668.07870370368,
         "Predicted": 146067.34136412627,
         "_deepnote_index_column": 20120
        },
        {
         "Actual": 175275,
         "Predicted": 173677.0986034696,
         "_deepnote_index_column": 22372
        },
        {
         "Actual": 213200,
         "Predicted": 217418.20938310903,
         "_deepnote_index_column": 9071
        },
        {
         "Actual": 186383.92857142858,
         "Predicted": 148448.1870070682,
         "_deepnote_index_column": 6353
        },
        {
         "Actual": 203697.47899159664,
         "Predicted": 180082.11734100714,
         "_deepnote_index_column": 5946
        },
        {
         "Actual": 165818.74788494076,
         "Predicted": 158208.2665492646,
         "_deepnote_index_column": 8767
        },
        {
         "Actual": 424390.243902439,
         "Predicted": 1013242.0518715717,
         "_deepnote_index_column": 10292
        },
        {
         "Actual": 145161.29032258064,
         "Predicted": 144029.6355115467,
         "_deepnote_index_column": 4970
        },
        {
         "Actual": 128048.78048780488,
         "Predicted": 134852.73338671128,
         "_deepnote_index_column": 8786
        },
        {
         "Actual": 152006.39379347244,
         "Predicted": 150270.25011041114,
         "_deepnote_index_column": 15673
        },
        {
         "Actual": 317145.68880079285,
         "Predicted": 284532.9804729287,
         "_deepnote_index_column": 1150
        },
        {
         "Actual": 157894.7105263158,
         "Predicted": 167803.98992392808,
         "_deepnote_index_column": 3669
        },
        {
         "Actual": 162162.16216216216,
         "Predicted": 139727.58119196558,
         "_deepnote_index_column": 23128
        },
        {
         "Actual": 115628.22719449225,
         "Predicted": 111838.09074546368,
         "_deepnote_index_column": 22774
        },
        {
         "Actual": 150649.35064935064,
         "Predicted": 162499.8085833106,
         "_deepnote_index_column": 10155
        },
        {
         "Actual": 184259.74838245867,
         "Predicted": 180525.29134708422,
         "_deepnote_index_column": 15307
        },
        {
         "Actual": 185398.78787878787,
         "Predicted": 188940.7502856903,
         "_deepnote_index_column": 20587
        },
        {
         "Actual": 190807.79944289694,
         "Predicted": 200934.1818747935,
         "_deepnote_index_column": 651
        },
        {
         "Actual": 175504.32276657058,
         "Predicted": 169011.48057952963,
         "_deepnote_index_column": 19639
        },
        {
         "Actual": 438271.60493827163,
         "Predicted": 518138.0617762617,
         "_deepnote_index_column": 3208
        },
        {
         "Actual": 828579.9880167765,
         "Predicted": 739484.8485516973,
         "_deepnote_index_column": 3472
        },
        {
         "Actual": 445420,
         "Predicted": 363395.169434167,
         "_deepnote_index_column": 11131
        },
        {
         "Actual": 276671.09340416116,
         "Predicted": 282932.7797338077,
         "_deepnote_index_column": 20743
        },
        {
         "Actual": 192913.38582677164,
         "Predicted": 194706.86360801966,
         "_deepnote_index_column": 5489
        },
        {
         "Actual": 139593.90862944163,
         "Predicted": 148458.1159243757,
         "_deepnote_index_column": 20878
        },
        {
         "Actual": 185230,
         "Predicted": 171836.36197237138,
         "_deepnote_index_column": 8414
        },
        {
         "Actual": 225333.33333333334,
         "Predicted": 206899.643231319,
         "_deepnote_index_column": 7170
        },
        {
         "Actual": 196969.69696969696,
         "Predicted": 210040.05833051208,
         "_deepnote_index_column": 8598
        },
        {
         "Actual": 137500,
         "Predicted": 141481.96640759156,
         "_deepnote_index_column": 10929
        },
        {
         "Actual": 581560.2836879432,
         "Predicted": 534033.8285274729,
         "_deepnote_index_column": 21253
        },
        {
         "Actual": 178787.87878787878,
         "Predicted": 188031.31409252755,
         "_deepnote_index_column": 15257
        },
        {
         "Actual": 129458.38837516512,
         "Predicted": 139094.15572202942,
         "_deepnote_index_column": 12022
        },
        {
         "Actual": 196935.0368718916,
         "Predicted": 189798.0620709017,
         "_deepnote_index_column": 8419
        },
        {
         "Actual": 308151.0934393638,
         "Predicted": 269775.4266766868,
         "_deepnote_index_column": 22487
        },
        {
         "Actual": 95300.26109660575,
         "Predicted": 106800.40018652263,
         "_deepnote_index_column": 4253
        },
        {
         "Actual": 118593.75,
         "Predicted": 132368.59757232017,
         "_deepnote_index_column": 7537
        },
        {
         "Actual": 939759.0361445784,
         "Predicted": 804667.7283564013,
         "_deepnote_index_column": 20348
        },
        {
         "Actual": 268617.02127659577,
         "Predicted": 283093.7206071187,
         "_deepnote_index_column": 16356
        },
        {
         "Actual": 161016.94915254237,
         "Predicted": 172074.7492806607,
         "_deepnote_index_column": 5529
        },
        {
         "Actual": 204198.72204472843,
         "Predicted": 209116.35663261285,
         "_deepnote_index_column": 3625
        },
        {
         "Actual": 164000,
         "Predicted": 190294.54414956432,
         "_deepnote_index_column": 14109
        },
        {
         "Actual": 407843.137254902,
         "Predicted": 520634.3096830779,
         "_deepnote_index_column": 19017
        },
        {
         "Actual": 192187.5,
         "Predicted": 185402.10332755113,
         "_deepnote_index_column": 1728
        },
        {
         "Actual": 136912.75167785236,
         "Predicted": 152634.1423394989,
         "_deepnote_index_column": 4933
        },
        {
         "Actual": 82978.72340425532,
         "Predicted": 111477.44827850017,
         "_deepnote_index_column": 23164
        },
        {
         "Actual": 175700,
         "Predicted": 180916.6590797251,
         "_deepnote_index_column": 5181
        },
        {
         "Actual": 182608.69565217392,
         "Predicted": 169949.69604280626,
         "_deepnote_index_column": 9521
        },
        {
         "Actual": 287234.0425531915,
         "Predicted": 308484.67338309967,
         "_deepnote_index_column": 19165
        },
        {
         "Actual": 583657.5875486381,
         "Predicted": 684326.1266405741,
         "_deepnote_index_column": 1416
        },
        {
         "Actual": 176939.44206008583,
         "Predicted": 159767.17422561895,
         "_deepnote_index_column": 536
        },
        {
         "Actual": 272270.999581765,
         "Predicted": 273188.07652174216,
         "_deepnote_index_column": 2088
        },
        {
         "Actual": 513339.5099540582,
         "Predicted": 806248.3958728138,
         "_deepnote_index_column": 15804
        },
        {
         "Actual": 170930.23255813954,
         "Predicted": 181319.77506047892,
         "_deepnote_index_column": 19659
        },
        {
         "Actual": 181097.56097560975,
         "Predicted": 186154.17377888891,
         "_deepnote_index_column": 14325
        },
        {
         "Actual": 132100.39630118888,
         "Predicted": 153339.48622093414,
         "_deepnote_index_column": 5335
        },
        {
         "Actual": 219607.8431372549,
         "Predicted": 222678.98667030077,
         "_deepnote_index_column": 19154
        },
        {
         "Actual": 207673.07692307694,
         "Predicted": 229117.1146819119,
         "_deepnote_index_column": 15545
        },
        {
         "Actual": 265900,
         "Predicted": 253447.72610716746,
         "_deepnote_index_column": 2089
        },
        {
         "Actual": 153225.8064516129,
         "Predicted": 155954.18955860398,
         "_deepnote_index_column": 12155
        },
        {
         "Actual": 140892.601010101,
         "Predicted": 159853.10621663707,
         "_deepnote_index_column": 713
        },
        {
         "Actual": 473750,
         "Predicted": 665509.394658167,
         "_deepnote_index_column": 3111
        },
        {
         "Actual": 308000,
         "Predicted": 336742.84208486497,
         "_deepnote_index_column": 793
        },
        {
         "Actual": 368000,
         "Predicted": 417522.8809829096,
         "_deepnote_index_column": 2985
        },
        {
         "Actual": 127986.3481228669,
         "Predicted": 133813.48846215662,
         "_deepnote_index_column": 15272
        },
        {
         "Actual": 189162.16216216216,
         "Predicted": 198054.13170463376,
         "_deepnote_index_column": 4499
        },
        {
         "Actual": 250000,
         "Predicted": 219652.4304496107,
         "_deepnote_index_column": 16264
        },
        {
         "Actual": 196016.7714884696,
         "Predicted": 188022.82764834765,
         "_deepnote_index_column": 17894
        },
        {
         "Actual": 163590.60402684563,
         "Predicted": 161098.42651022808,
         "_deepnote_index_column": 10213
        },
        {
         "Actual": 135281.38528138527,
         "Predicted": 154932.2488646416,
         "_deepnote_index_column": 22209
        },
        {
         "Actual": 376415.09433962265,
         "Predicted": 365126.6685003659,
         "_deepnote_index_column": 10747
        },
        {
         "Actual": 263245.0331125828,
         "Predicted": 285945.9820121126,
         "_deepnote_index_column": 12242
        },
        {
         "Actual": 124882.46896551724,
         "Predicted": 117706.67608925514,
         "_deepnote_index_column": 384
        },
        {
         "Actual": 177272.72727272726,
         "Predicted": 192126.0329109924,
         "_deepnote_index_column": 10159
        },
        {
         "Actual": 515000,
         "Predicted": 501682.99823185906,
         "_deepnote_index_column": 8221
        },
        {
         "Actual": 500000,
         "Predicted": 443252.3068332627,
         "_deepnote_index_column": 15825
        },
        {
         "Actual": 111289.0055467512,
         "Predicted": 111679.2505669528,
         "_deepnote_index_column": 14848
        },
        {
         "Actual": 199300,
         "Predicted": 189932.4904573329,
         "_deepnote_index_column": 1191
        },
        {
         "Actual": 161797.75280898876,
         "Predicted": 160311.9431970775,
         "_deepnote_index_column": 10325
        },
        {
         "Actual": 102739.72602739726,
         "Predicted": 122961.1214855281,
         "_deepnote_index_column": 23076
        },
        {
         "Actual": 180765.80587711488,
         "Predicted": 219767.4972989901,
         "_deepnote_index_column": 20486
        },
        {
         "Actual": 355714.28571428574,
         "Predicted": 427465.70166920935,
         "_deepnote_index_column": 8068
        },
        {
         "Actual": 217307.6923076923,
         "Predicted": 204548.43429621632,
         "_deepnote_index_column": 20808
        },
        {
         "Actual": 211853.1257344301,
         "Predicted": 208857.46517028732,
         "_deepnote_index_column": 5931
        },
        {
         "Actual": 113100,
         "Predicted": 120636.85606122561,
         "_deepnote_index_column": 6327
        },
        {
         "Actual": 151500,
         "Predicted": 174103.3905755817,
         "_deepnote_index_column": 11150
        },
        {
         "Actual": 221666.66666666666,
         "Predicted": 220858.97342924672,
         "_deepnote_index_column": 12135
        },
        {
         "Actual": 181333.33333333334,
         "Predicted": 186382.13279099224,
         "_deepnote_index_column": 2137
        },
        {
         "Actual": 175733.09832556968,
         "Predicted": 185210.83187205228,
         "_deepnote_index_column": 19379
        },
        {
         "Actual": 149855.90778097982,
         "Predicted": 163843.54503285576,
         "_deepnote_index_column": 19609
        },
        {
         "Actual": 173700,
         "Predicted": 171538.24558304326,
         "_deepnote_index_column": 14210
        },
        {
         "Actual": 203900,
         "Predicted": 196437.95779885334,
         "_deepnote_index_column": 15393
        },
        {
         "Actual": 90000,
         "Predicted": 94122.72237052064,
         "_deepnote_index_column": 2320
        },
        {
         "Actual": 173690,
         "Predicted": 164795.81629461335,
         "_deepnote_index_column": 20785
        },
        {
         "Actual": 312824.49701937404,
         "Predicted": 316879.93217028165,
         "_deepnote_index_column": 12234
        },
        {
         "Actual": 111700,
         "Predicted": 117935.50810583583,
         "_deepnote_index_column": 18145
        },
        {
         "Actual": 313700.38412291935,
         "Predicted": 285775.4796272683,
         "_deepnote_index_column": 7626
        },
        {
         "Actual": 112447.9926588667,
         "Predicted": 137137.62662997463,
         "_deepnote_index_column": 22281
        },
        {
         "Actual": 164102.5641025641,
         "Predicted": 170588.4783264891,
         "_deepnote_index_column": 17715
        },
        {
         "Actual": 147600,
         "Predicted": 134564.382675196,
         "_deepnote_index_column": 22335
        },
        {
         "Actual": 575000,
         "Predicted": 684090.4283641484,
         "_deepnote_index_column": 18281
        },
        {
         "Actual": 182339.4495412844,
         "Predicted": 173846.24005729577,
         "_deepnote_index_column": 15963
        },
        {
         "Actual": 208395.80209895052,
         "Predicted": 252794.87511332432,
         "_deepnote_index_column": 1506
        },
        {
         "Actual": 188573.2323232323,
         "Predicted": 196196.44431013972,
         "_deepnote_index_column": 5910
        },
        {
         "Actual": 182199.99999999997,
         "Predicted": 179222.51355512874,
         "_deepnote_index_column": 20674
        },
        {
         "Actual": 178300,
         "Predicted": 184397.42317821083,
         "_deepnote_index_column": 7324
        },
        {
         "Actual": 185185.18518518517,
         "Predicted": 172975.73381680864,
         "_deepnote_index_column": 20668
        },
        {
         "Actual": 190000,
         "Predicted": 187657.5425249805,
         "_deepnote_index_column": 17460
        },
        {
         "Actual": 221600,
         "Predicted": 212417.67427054467,
         "_deepnote_index_column": 21899
        },
        {
         "Actual": 427184.46601941745,
         "Predicted": 424251.4149891266,
         "_deepnote_index_column": 3272
        },
        {
         "Actual": 145000,
         "Predicted": 151451.49310354175,
         "_deepnote_index_column": 11833
        },
        {
         "Actual": 357000,
         "Predicted": 361473.49528027885,
         "_deepnote_index_column": 9445
        },
        {
         "Actual": 150000,
         "Predicted": 173415.70830829896,
         "_deepnote_index_column": 10329
        },
        {
         "Actual": 219230.76923076922,
         "Predicted": 198775.37241614435,
         "_deepnote_index_column": 6908
        },
        {
         "Actual": 240786.24078624079,
         "Predicted": 247740.96798994567,
         "_deepnote_index_column": 13438
        },
        {
         "Actual": 233459.67058823528,
         "Predicted": 206007.06206247595,
         "_deepnote_index_column": 6972
        },
        {
         "Actual": 123333.33333333333,
         "Predicted": 162038.88598869232,
         "_deepnote_index_column": 13176
        },
        {
         "Actual": 162820.5128205128,
         "Predicted": 207844.3626238578,
         "_deepnote_index_column": 16959
        },
        {
         "Actual": 238924.05063291139,
         "Predicted": 200388.09370325648,
         "_deepnote_index_column": 19254
        },
        {
         "Actual": 341463.4146341463,
         "Predicted": 342025.9925632132,
         "_deepnote_index_column": 19976
        },
        {
         "Actual": 206000,
         "Predicted": 214445.85155221692,
         "_deepnote_index_column": 13474
        },
        {
         "Actual": 228000,
         "Predicted": 265429.57173089124,
         "_deepnote_index_column": 8373
        },
        {
         "Actual": 220700,
         "Predicted": 208881.81108678912,
         "_deepnote_index_column": 10005
        },
        {
         "Actual": 225714.2857142857,
         "Predicted": 202815.43388136622,
         "_deepnote_index_column": 16021
        },
        {
         "Actual": 404395.6043956044,
         "Predicted": 414973.1447157115,
         "_deepnote_index_column": 8577
        },
        {
         "Actual": 178571.42857142858,
         "Predicted": 201750.79256819075,
         "_deepnote_index_column": 11690
        },
        {
         "Actual": 263700,
         "Predicted": 289553.8889277058,
         "_deepnote_index_column": 9464
        },
        {
         "Actual": 181500,
         "Predicted": 171044.12846565316,
         "_deepnote_index_column": 5772
        },
        {
         "Actual": 323200,
         "Predicted": 316391.29902697576,
         "_deepnote_index_column": 10324
        },
        {
         "Actual": 173333.33333333334,
         "Predicted": 172005.60150376929,
         "_deepnote_index_column": 17535
        },
        {
         "Actual": 496470.6057441253,
         "Predicted": 374023.1011009154,
         "_deepnote_index_column": 10757
        },
        {
         "Actual": 223400,
         "Predicted": 203193.68950859655,
         "_deepnote_index_column": 20787
        }
       ]
      },
      "text/plain": "              Actual      Predicted\n17722  200000.000000  191784.237390\n10791  118300.000000  122979.171548\n13285  182400.000000  180887.005855\n14456  195876.288660  177614.247737\n2329    91836.734694  100374.132811\n...              ...            ...\n5772   181500.000000  171044.128466\n10324  323200.000000  316391.299027\n17535  173333.333333  172005.601504\n10757  496470.605744  374023.101101\n20787  223400.000000  203193.689509\n\n[4648 rows x 2 columns]",
      "text/html": "<div>\n<style scoped>\n    .dataframe tbody tr th:only-of-type {\n        vertical-align: middle;\n    }\n\n    .dataframe tbody tr th {\n        vertical-align: top;\n    }\n\n    .dataframe thead th {\n        text-align: right;\n    }\n</style>\n<table border=\"1\" class=\"dataframe\">\n  <thead>\n    <tr style=\"text-align: right;\">\n      <th></th>\n      <th>Actual</th>\n      <th>Predicted</th>\n    </tr>\n  </thead>\n  <tbody>\n    <tr>\n      <th>17722</th>\n      <td>200000.000000</td>\n      <td>191784.237390</td>\n    </tr>\n    <tr>\n      <th>10791</th>\n      <td>118300.000000</td>\n      <td>122979.171548</td>\n    </tr>\n    <tr>\n      <th>13285</th>\n      <td>182400.000000</td>\n      <td>180887.005855</td>\n    </tr>\n    <tr>\n      <th>14456</th>\n      <td>195876.288660</td>\n      <td>177614.247737</td>\n    </tr>\n    <tr>\n      <th>2329</th>\n      <td>91836.734694</td>\n      <td>100374.132811</td>\n    </tr>\n    <tr>\n      <th>...</th>\n      <td>...</td>\n      <td>...</td>\n    </tr>\n    <tr>\n      <th>5772</th>\n      <td>181500.000000</td>\n      <td>171044.128466</td>\n    </tr>\n    <tr>\n      <th>10324</th>\n      <td>323200.000000</td>\n      <td>316391.299027</td>\n    </tr>\n    <tr>\n      <th>17535</th>\n      <td>173333.333333</td>\n      <td>172005.601504</td>\n    </tr>\n    <tr>\n      <th>10757</th>\n      <td>496470.605744</td>\n      <td>374023.101101</td>\n    </tr>\n    <tr>\n      <th>20787</th>\n      <td>223400.000000</td>\n      <td>203193.689509</td>\n    </tr>\n  </tbody>\n</table>\n<p>4648 rows × 2 columns</p>\n</div>"
     },
     "metadata": {}
    }
   ],
   "execution_count": null
  },
  {
   "cell_type": "code",
   "metadata": {
    "tags": [],
    "cell_id": "00012-18c3392e-9e73-4601-b1a1-24e34b7615eb",
    "deepnote_to_be_reexecuted": true,
    "source_hash": "6d8343f0",
    "execution_start": 1637343703155,
    "execution_millis": 112,
    "deepnote_cell_type": "code"
   },
   "source": "X1_test.head()",
   "outputs": [
    {
     "output_type": "execute_result",
     "execution_count": 15,
     "data": {
      "application/vnd.deepnote.dataframe.v2+json": {
       "row_count": 5,
       "column_count": 30,
       "columns": [
        {
         "name": "seller",
         "dtype": "int64",
         "stats": {
          "unique_count": 2,
          "nan_count": 0,
          "min": "1",
          "max": "3",
          "histogram": [
           {
            "bin_start": 1,
            "bin_end": 1.2,
            "count": 1
           },
           {
            "bin_start": 1.2,
            "bin_end": 1.4,
            "count": 0
           },
           {
            "bin_start": 1.4,
            "bin_end": 1.6,
            "count": 0
           },
           {
            "bin_start": 1.6,
            "bin_end": 1.8,
            "count": 0
           },
           {
            "bin_start": 1.8,
            "bin_end": 2,
            "count": 0
           },
           {
            "bin_start": 2,
            "bin_end": 2.2,
            "count": 0
           },
           {
            "bin_start": 2.2,
            "bin_end": 2.4000000000000004,
            "count": 0
           },
           {
            "bin_start": 2.4000000000000004,
            "bin_end": 2.6,
            "count": 0
           },
           {
            "bin_start": 2.6,
            "bin_end": 2.8,
            "count": 0
           },
           {
            "bin_start": 2.8,
            "bin_end": 3,
            "count": 4
           }
          ]
         }
        },
        {
         "name": "area_total",
         "dtype": "float64",
         "stats": {
          "unique_count": 5,
          "nan_count": 0,
          "min": "34.0",
          "max": "71.4",
          "histogram": [
           {
            "bin_start": 34,
            "bin_end": 37.74,
            "count": 1
           },
           {
            "bin_start": 37.74,
            "bin_end": 41.480000000000004,
            "count": 1
           },
           {
            "bin_start": 41.480000000000004,
            "bin_end": 45.22,
            "count": 0
           },
           {
            "bin_start": 45.22,
            "bin_end": 48.96,
            "count": 0
           },
           {
            "bin_start": 48.96,
            "bin_end": 52.7,
            "count": 0
           },
           {
            "bin_start": 52.7,
            "bin_end": 56.440000000000005,
            "count": 1
           },
           {
            "bin_start": 56.440000000000005,
            "bin_end": 60.18000000000001,
            "count": 0
           },
           {
            "bin_start": 60.18000000000001,
            "bin_end": 63.92,
            "count": 1
           },
           {
            "bin_start": 63.92,
            "bin_end": 67.66,
            "count": 0
           },
           {
            "bin_start": 67.66,
            "bin_end": 71.4,
            "count": 1
           }
          ]
         }
        },
        {
         "name": "area_kitchen",
         "dtype": "float64",
         "stats": {
          "unique_count": 5,
          "nan_count": 0,
          "min": "4.0",
          "max": "19.6",
          "histogram": [
           {
            "bin_start": 4,
            "bin_end": 5.5600000000000005,
            "count": 1
           },
           {
            "bin_start": 5.5600000000000005,
            "bin_end": 7.12,
            "count": 0
           },
           {
            "bin_start": 7.12,
            "bin_end": 8.68,
            "count": 0
           },
           {
            "bin_start": 8.68,
            "bin_end": 10.24,
            "count": 1
           },
           {
            "bin_start": 10.24,
            "bin_end": 11.8,
            "count": 0
           },
           {
            "bin_start": 11.8,
            "bin_end": 13.36,
            "count": 1
           },
           {
            "bin_start": 13.36,
            "bin_end": 14.92,
            "count": 0
           },
           {
            "bin_start": 14.92,
            "bin_end": 16.48,
            "count": 1
           },
           {
            "bin_start": 16.48,
            "bin_end": 18.04,
            "count": 0
           },
           {
            "bin_start": 18.04,
            "bin_end": 19.6,
            "count": 1
           }
          ]
         }
        },
        {
         "name": "area_living",
         "dtype": "float64",
         "stats": {
          "unique_count": 5,
          "nan_count": 0,
          "min": "11.2",
          "max": "55.56",
          "histogram": [
           {
            "bin_start": 11.2,
            "bin_end": 15.636,
            "count": 1
           },
           {
            "bin_start": 15.636,
            "bin_end": 20.072,
            "count": 1
           },
           {
            "bin_start": 20.072,
            "bin_end": 24.508,
            "count": 0
           },
           {
            "bin_start": 24.508,
            "bin_end": 28.944,
            "count": 0
           },
           {
            "bin_start": 28.944,
            "bin_end": 33.379999999999995,
            "count": 1
           },
           {
            "bin_start": 33.379999999999995,
            "bin_end": 37.816,
            "count": 0
           },
           {
            "bin_start": 37.816,
            "bin_end": 42.251999999999995,
            "count": 0
           },
           {
            "bin_start": 42.251999999999995,
            "bin_end": 46.688,
            "count": 0
           },
           {
            "bin_start": 46.688,
            "bin_end": 51.123999999999995,
            "count": 1
           },
           {
            "bin_start": 51.123999999999995,
            "bin_end": 55.56,
            "count": 1
           }
          ]
         }
        },
        {
         "name": "floor",
         "dtype": "int64",
         "stats": {
          "unique_count": 5,
          "nan_count": 0,
          "min": "2",
          "max": "14",
          "histogram": [
           {
            "bin_start": 2,
            "bin_end": 3.2,
            "count": 1
           },
           {
            "bin_start": 3.2,
            "bin_end": 4.4,
            "count": 1
           },
           {
            "bin_start": 4.4,
            "bin_end": 5.6,
            "count": 1
           },
           {
            "bin_start": 5.6,
            "bin_end": 6.8,
            "count": 0
           },
           {
            "bin_start": 6.8,
            "bin_end": 8,
            "count": 0
           },
           {
            "bin_start": 8,
            "bin_end": 9.2,
            "count": 0
           },
           {
            "bin_start": 9.2,
            "bin_end": 10.4,
            "count": 1
           },
           {
            "bin_start": 10.4,
            "bin_end": 11.6,
            "count": 0
           },
           {
            "bin_start": 11.6,
            "bin_end": 12.799999999999999,
            "count": 0
           },
           {
            "bin_start": 12.799999999999999,
            "bin_end": 14,
            "count": 1
           }
          ]
         }
        },
        {
         "name": "rooms",
         "dtype": "int64",
         "stats": {
          "unique_count": 2,
          "nan_count": 0,
          "min": "1",
          "max": "2",
          "histogram": [
           {
            "bin_start": 1,
            "bin_end": 1.1,
            "count": 4
           },
           {
            "bin_start": 1.1,
            "bin_end": 1.2,
            "count": 0
           },
           {
            "bin_start": 1.2,
            "bin_end": 1.3,
            "count": 0
           },
           {
            "bin_start": 1.3,
            "bin_end": 1.4,
            "count": 0
           },
           {
            "bin_start": 1.4,
            "bin_end": 1.5,
            "count": 0
           },
           {
            "bin_start": 1.5,
            "bin_end": 1.6,
            "count": 0
           },
           {
            "bin_start": 1.6,
            "bin_end": 1.7000000000000002,
            "count": 0
           },
           {
            "bin_start": 1.7000000000000002,
            "bin_end": 1.8,
            "count": 0
           },
           {
            "bin_start": 1.8,
            "bin_end": 1.9,
            "count": 0
           },
           {
            "bin_start": 1.9,
            "bin_end": 2,
            "count": 1
           }
          ]
         }
        },
        {
         "name": "layout",
         "dtype": "int64",
         "stats": {
          "unique_count": 1,
          "nan_count": 0,
          "min": "1",
          "max": "1",
          "histogram": [
           {
            "bin_start": 0.5,
            "bin_end": 0.6,
            "count": 0
           },
           {
            "bin_start": 0.6,
            "bin_end": 0.7,
            "count": 0
           },
           {
            "bin_start": 0.7,
            "bin_end": 0.8,
            "count": 0
           },
           {
            "bin_start": 0.8,
            "bin_end": 0.9,
            "count": 0
           },
           {
            "bin_start": 0.9,
            "bin_end": 1,
            "count": 0
           },
           {
            "bin_start": 1,
            "bin_end": 1.1,
            "count": 5
           },
           {
            "bin_start": 1.1,
            "bin_end": 1.2000000000000002,
            "count": 0
           },
           {
            "bin_start": 1.2000000000000002,
            "bin_end": 1.3,
            "count": 0
           },
           {
            "bin_start": 1.3,
            "bin_end": 1.4,
            "count": 0
           },
           {
            "bin_start": 1.4,
            "bin_end": 1.5,
            "count": 0
           }
          ]
         }
        },
        {
         "name": "ceiling",
         "dtype": "int64",
         "stats": {
          "unique_count": 1,
          "nan_count": 0,
          "min": "3",
          "max": "3",
          "histogram": [
           {
            "bin_start": 2.5,
            "bin_end": 2.6,
            "count": 0
           },
           {
            "bin_start": 2.6,
            "bin_end": 2.7,
            "count": 0
           },
           {
            "bin_start": 2.7,
            "bin_end": 2.8,
            "count": 0
           },
           {
            "bin_start": 2.8,
            "bin_end": 2.9,
            "count": 0
           },
           {
            "bin_start": 2.9,
            "bin_end": 3,
            "count": 0
           },
           {
            "bin_start": 3,
            "bin_end": 3.1,
            "count": 5
           },
           {
            "bin_start": 3.1,
            "bin_end": 3.2,
            "count": 0
           },
           {
            "bin_start": 3.2,
            "bin_end": 3.3,
            "count": 0
           },
           {
            "bin_start": 3.3,
            "bin_end": 3.4,
            "count": 0
           },
           {
            "bin_start": 3.4,
            "bin_end": 3.5,
            "count": 0
           }
          ]
         }
        },
        {
         "name": "bathrooms_shared",
         "dtype": "int64",
         "stats": {
          "unique_count": 1,
          "nan_count": 0,
          "min": "1",
          "max": "1",
          "histogram": [
           {
            "bin_start": 0.5,
            "bin_end": 0.6,
            "count": 0
           },
           {
            "bin_start": 0.6,
            "bin_end": 0.7,
            "count": 0
           },
           {
            "bin_start": 0.7,
            "bin_end": 0.8,
            "count": 0
           },
           {
            "bin_start": 0.8,
            "bin_end": 0.9,
            "count": 0
           },
           {
            "bin_start": 0.9,
            "bin_end": 1,
            "count": 0
           },
           {
            "bin_start": 1,
            "bin_end": 1.1,
            "count": 5
           },
           {
            "bin_start": 1.1,
            "bin_end": 1.2000000000000002,
            "count": 0
           },
           {
            "bin_start": 1.2000000000000002,
            "bin_end": 1.3,
            "count": 0
           },
           {
            "bin_start": 1.3,
            "bin_end": 1.4,
            "count": 0
           },
           {
            "bin_start": 1.4,
            "bin_end": 1.5,
            "count": 0
           }
          ]
         }
        },
        {
         "name": "bathrooms_private",
         "dtype": "int64",
         "stats": {
          "unique_count": 2,
          "nan_count": 0,
          "min": "0",
          "max": "1",
          "histogram": [
           {
            "bin_start": 0,
            "bin_end": 0.1,
            "count": 3
           },
           {
            "bin_start": 0.1,
            "bin_end": 0.2,
            "count": 0
           },
           {
            "bin_start": 0.2,
            "bin_end": 0.30000000000000004,
            "count": 0
           },
           {
            "bin_start": 0.30000000000000004,
            "bin_end": 0.4,
            "count": 0
           },
           {
            "bin_start": 0.4,
            "bin_end": 0.5,
            "count": 0
           },
           {
            "bin_start": 0.5,
            "bin_end": 0.6000000000000001,
            "count": 0
           },
           {
            "bin_start": 0.6000000000000001,
            "bin_end": 0.7000000000000001,
            "count": 0
           },
           {
            "bin_start": 0.7000000000000001,
            "bin_end": 0.8,
            "count": 0
           },
           {
            "bin_start": 0.8,
            "bin_end": 0.9,
            "count": 0
           },
           {
            "bin_start": 0.9,
            "bin_end": 1,
            "count": 2
           }
          ]
         }
        },
        {
         "name": "windows_court",
         "dtype": "int64",
         "stats": {
          "unique_count": 2,
          "nan_count": 0,
          "min": "0",
          "max": "1",
          "histogram": [
           {
            "bin_start": 0,
            "bin_end": 0.1,
            "count": 1
           },
           {
            "bin_start": 0.1,
            "bin_end": 0.2,
            "count": 0
           },
           {
            "bin_start": 0.2,
            "bin_end": 0.30000000000000004,
            "count": 0
           },
           {
            "bin_start": 0.30000000000000004,
            "bin_end": 0.4,
            "count": 0
           },
           {
            "bin_start": 0.4,
            "bin_end": 0.5,
            "count": 0
           },
           {
            "bin_start": 0.5,
            "bin_end": 0.6000000000000001,
            "count": 0
           },
           {
            "bin_start": 0.6000000000000001,
            "bin_end": 0.7000000000000001,
            "count": 0
           },
           {
            "bin_start": 0.7000000000000001,
            "bin_end": 0.8,
            "count": 0
           },
           {
            "bin_start": 0.8,
            "bin_end": 0.9,
            "count": 0
           },
           {
            "bin_start": 0.9,
            "bin_end": 1,
            "count": 4
           }
          ]
         }
        },
        {
         "name": "windows_street",
         "dtype": "int64",
         "stats": {
          "unique_count": 2,
          "nan_count": 0,
          "min": "0",
          "max": "1",
          "histogram": [
           {
            "bin_start": 0,
            "bin_end": 0.1,
            "count": 4
           },
           {
            "bin_start": 0.1,
            "bin_end": 0.2,
            "count": 0
           },
           {
            "bin_start": 0.2,
            "bin_end": 0.30000000000000004,
            "count": 0
           },
           {
            "bin_start": 0.30000000000000004,
            "bin_end": 0.4,
            "count": 0
           },
           {
            "bin_start": 0.4,
            "bin_end": 0.5,
            "count": 0
           },
           {
            "bin_start": 0.5,
            "bin_end": 0.6000000000000001,
            "count": 0
           },
           {
            "bin_start": 0.6000000000000001,
            "bin_end": 0.7000000000000001,
            "count": 0
           },
           {
            "bin_start": 0.7000000000000001,
            "bin_end": 0.8,
            "count": 0
           },
           {
            "bin_start": 0.8,
            "bin_end": 0.9,
            "count": 0
           },
           {
            "bin_start": 0.9,
            "bin_end": 1,
            "count": 1
           }
          ]
         }
        },
        {
         "name": "balconies",
         "dtype": "int64",
         "stats": {
          "unique_count": 2,
          "nan_count": 0,
          "min": "0",
          "max": "1",
          "histogram": [
           {
            "bin_start": 0,
            "bin_end": 0.1,
            "count": 4
           },
           {
            "bin_start": 0.1,
            "bin_end": 0.2,
            "count": 0
           },
           {
            "bin_start": 0.2,
            "bin_end": 0.30000000000000004,
            "count": 0
           },
           {
            "bin_start": 0.30000000000000004,
            "bin_end": 0.4,
            "count": 0
           },
           {
            "bin_start": 0.4,
            "bin_end": 0.5,
            "count": 0
           },
           {
            "bin_start": 0.5,
            "bin_end": 0.6000000000000001,
            "count": 0
           },
           {
            "bin_start": 0.6000000000000001,
            "bin_end": 0.7000000000000001,
            "count": 0
           },
           {
            "bin_start": 0.7000000000000001,
            "bin_end": 0.8,
            "count": 0
           },
           {
            "bin_start": 0.8,
            "bin_end": 0.9,
            "count": 0
           },
           {
            "bin_start": 0.9,
            "bin_end": 1,
            "count": 1
           }
          ]
         }
        },
        {
         "name": "loggias",
         "dtype": "int64",
         "stats": {
          "unique_count": 2,
          "nan_count": 0,
          "min": "0",
          "max": "1",
          "histogram": [
           {
            "bin_start": 0,
            "bin_end": 0.1,
            "count": 1
           },
           {
            "bin_start": 0.1,
            "bin_end": 0.2,
            "count": 0
           },
           {
            "bin_start": 0.2,
            "bin_end": 0.30000000000000004,
            "count": 0
           },
           {
            "bin_start": 0.30000000000000004,
            "bin_end": 0.4,
            "count": 0
           },
           {
            "bin_start": 0.4,
            "bin_end": 0.5,
            "count": 0
           },
           {
            "bin_start": 0.5,
            "bin_end": 0.6000000000000001,
            "count": 0
           },
           {
            "bin_start": 0.6000000000000001,
            "bin_end": 0.7000000000000001,
            "count": 0
           },
           {
            "bin_start": 0.7000000000000001,
            "bin_end": 0.8,
            "count": 0
           },
           {
            "bin_start": 0.8,
            "bin_end": 0.9,
            "count": 0
           },
           {
            "bin_start": 0.9,
            "bin_end": 1,
            "count": 4
           }
          ]
         }
        },
        {
         "name": "condition",
         "dtype": "int64",
         "stats": {
          "unique_count": 4,
          "nan_count": 0,
          "min": "0",
          "max": "3",
          "histogram": [
           {
            "bin_start": 0,
            "bin_end": 0.3,
            "count": 2
           },
           {
            "bin_start": 0.3,
            "bin_end": 0.6,
            "count": 0
           },
           {
            "bin_start": 0.6,
            "bin_end": 0.8999999999999999,
            "count": 0
           },
           {
            "bin_start": 0.8999999999999999,
            "bin_end": 1.2,
            "count": 1
           },
           {
            "bin_start": 1.2,
            "bin_end": 1.5,
            "count": 0
           },
           {
            "bin_start": 1.5,
            "bin_end": 1.7999999999999998,
            "count": 0
           },
           {
            "bin_start": 1.7999999999999998,
            "bin_end": 2.1,
            "count": 1
           },
           {
            "bin_start": 2.1,
            "bin_end": 2.4,
            "count": 0
           },
           {
            "bin_start": 2.4,
            "bin_end": 2.6999999999999997,
            "count": 0
           },
           {
            "bin_start": 2.6999999999999997,
            "bin_end": 3,
            "count": 1
           }
          ]
         }
        },
        {
         "name": "phones",
         "dtype": "int64",
         "stats": {
          "unique_count": 1,
          "nan_count": 0,
          "min": "1",
          "max": "1",
          "histogram": [
           {
            "bin_start": 0.5,
            "bin_end": 0.6,
            "count": 0
           },
           {
            "bin_start": 0.6,
            "bin_end": 0.7,
            "count": 0
           },
           {
            "bin_start": 0.7,
            "bin_end": 0.8,
            "count": 0
           },
           {
            "bin_start": 0.8,
            "bin_end": 0.9,
            "count": 0
           },
           {
            "bin_start": 0.9,
            "bin_end": 1,
            "count": 0
           },
           {
            "bin_start": 1,
            "bin_end": 1.1,
            "count": 5
           },
           {
            "bin_start": 1.1,
            "bin_end": 1.2000000000000002,
            "count": 0
           },
           {
            "bin_start": 1.2000000000000002,
            "bin_end": 1.3,
            "count": 0
           },
           {
            "bin_start": 1.3,
            "bin_end": 1.4,
            "count": 0
           },
           {
            "bin_start": 1.4,
            "bin_end": 1.5,
            "count": 0
           }
          ]
         }
        },
        {
         "name": "building_id",
         "dtype": "int64",
         "stats": {
          "unique_count": 5,
          "nan_count": 0,
          "min": "681",
          "max": "7530",
          "histogram": [
           {
            "bin_start": 681,
            "bin_end": 1365.9,
            "count": 2
           },
           {
            "bin_start": 1365.9,
            "bin_end": 2050.8,
            "count": 0
           },
           {
            "bin_start": 2050.8,
            "bin_end": 2735.7,
            "count": 0
           },
           {
            "bin_start": 2735.7,
            "bin_end": 3420.6,
            "count": 0
           },
           {
            "bin_start": 3420.6,
            "bin_end": 4105.5,
            "count": 0
           },
           {
            "bin_start": 4105.5,
            "bin_end": 4790.4,
            "count": 1
           },
           {
            "bin_start": 4790.4,
            "bin_end": 5475.3,
            "count": 1
           },
           {
            "bin_start": 5475.3,
            "bin_end": 6160.2,
            "count": 0
           },
           {
            "bin_start": 6160.2,
            "bin_end": 6845.099999999999,
            "count": 0
           },
           {
            "bin_start": 6845.099999999999,
            "bin_end": 7530,
            "count": 1
           }
          ]
         }
        },
        {
         "name": "new",
         "dtype": "int64",
         "stats": {
          "unique_count": 2,
          "nan_count": 0,
          "min": "0",
          "max": "1",
          "histogram": [
           {
            "bin_start": 0,
            "bin_end": 0.1,
            "count": 4
           },
           {
            "bin_start": 0.1,
            "bin_end": 0.2,
            "count": 0
           },
           {
            "bin_start": 0.2,
            "bin_end": 0.30000000000000004,
            "count": 0
           },
           {
            "bin_start": 0.30000000000000004,
            "bin_end": 0.4,
            "count": 0
           },
           {
            "bin_start": 0.4,
            "bin_end": 0.5,
            "count": 0
           },
           {
            "bin_start": 0.5,
            "bin_end": 0.6000000000000001,
            "count": 0
           },
           {
            "bin_start": 0.6000000000000001,
            "bin_end": 0.7000000000000001,
            "count": 0
           },
           {
            "bin_start": 0.7000000000000001,
            "bin_end": 0.8,
            "count": 0
           },
           {
            "bin_start": 0.8,
            "bin_end": 0.9,
            "count": 0
           },
           {
            "bin_start": 0.9,
            "bin_end": 1,
            "count": 1
           }
          ]
         }
        },
        {
         "name": "district",
         "dtype": "int64",
         "stats": {
          "unique_count": 2,
          "nan_count": 0,
          "min": "0",
          "max": "11",
          "histogram": [
           {
            "bin_start": 0,
            "bin_end": 1.1,
            "count": 1
           },
           {
            "bin_start": 1.1,
            "bin_end": 2.2,
            "count": 0
           },
           {
            "bin_start": 2.2,
            "bin_end": 3.3000000000000003,
            "count": 0
           },
           {
            "bin_start": 3.3000000000000003,
            "bin_end": 4.4,
            "count": 0
           },
           {
            "bin_start": 4.4,
            "bin_end": 5.5,
            "count": 0
           },
           {
            "bin_start": 5.5,
            "bin_end": 6.6000000000000005,
            "count": 0
           },
           {
            "bin_start": 6.6000000000000005,
            "bin_end": 7.700000000000001,
            "count": 0
           },
           {
            "bin_start": 7.700000000000001,
            "bin_end": 8.8,
            "count": 0
           },
           {
            "bin_start": 8.8,
            "bin_end": 9.9,
            "count": 0
           },
           {
            "bin_start": 9.9,
            "bin_end": 11,
            "count": 4
           }
          ]
         }
        },
        {
         "name": "constructed",
         "dtype": "int64",
         "stats": {
          "unique_count": 4,
          "nan_count": 0,
          "min": "2014",
          "max": "2021",
          "histogram": [
           {
            "bin_start": 2014,
            "bin_end": 2014.7,
            "count": 1
           },
           {
            "bin_start": 2014.7,
            "bin_end": 2015.4,
            "count": 0
           },
           {
            "bin_start": 2015.4,
            "bin_end": 2016.1,
            "count": 1
           },
           {
            "bin_start": 2016.1,
            "bin_end": 2016.8,
            "count": 0
           },
           {
            "bin_start": 2016.8,
            "bin_end": 2017.5,
            "count": 2
           },
           {
            "bin_start": 2017.5,
            "bin_end": 2018.2,
            "count": 0
           },
           {
            "bin_start": 2018.2,
            "bin_end": 2018.9,
            "count": 0
           },
           {
            "bin_start": 2018.9,
            "bin_end": 2019.6,
            "count": 0
           },
           {
            "bin_start": 2019.6,
            "bin_end": 2020.3,
            "count": 0
           },
           {
            "bin_start": 2020.3,
            "bin_end": 2021,
            "count": 1
           }
          ]
         }
        },
        {
         "name": "material",
         "dtype": "int64",
         "stats": {
          "unique_count": 2,
          "nan_count": 0,
          "min": "2",
          "max": "3",
          "histogram": [
           {
            "bin_start": 2,
            "bin_end": 2.1,
            "count": 4
           },
           {
            "bin_start": 2.1,
            "bin_end": 2.2,
            "count": 0
           },
           {
            "bin_start": 2.2,
            "bin_end": 2.3,
            "count": 0
           },
           {
            "bin_start": 2.3,
            "bin_end": 2.4,
            "count": 0
           },
           {
            "bin_start": 2.4,
            "bin_end": 2.5,
            "count": 0
           },
           {
            "bin_start": 2.5,
            "bin_end": 2.6,
            "count": 0
           },
           {
            "bin_start": 2.6,
            "bin_end": 2.7,
            "count": 0
           },
           {
            "bin_start": 2.7,
            "bin_end": 2.8,
            "count": 0
           },
           {
            "bin_start": 2.8,
            "bin_end": 2.9,
            "count": 0
           },
           {
            "bin_start": 2.9,
            "bin_end": 3,
            "count": 1
           }
          ]
         }
        },
        {
         "name": "stories",
         "dtype": "int64",
         "stats": {
          "unique_count": 4,
          "nan_count": 0,
          "min": "9",
          "max": "20",
          "histogram": [
           {
            "bin_start": 9,
            "bin_end": 10.1,
            "count": 1
           },
           {
            "bin_start": 10.1,
            "bin_end": 11.2,
            "count": 0
           },
           {
            "bin_start": 11.2,
            "bin_end": 12.3,
            "count": 0
           },
           {
            "bin_start": 12.3,
            "bin_end": 13.4,
            "count": 0
           },
           {
            "bin_start": 13.4,
            "bin_end": 14.5,
            "count": 0
           },
           {
            "bin_start": 14.5,
            "bin_end": 15.600000000000001,
            "count": 1
           },
           {
            "bin_start": 15.600000000000001,
            "bin_end": 16.700000000000003,
            "count": 0
           },
           {
            "bin_start": 16.700000000000003,
            "bin_end": 17.8,
            "count": 2
           },
           {
            "bin_start": 17.8,
            "bin_end": 18.9,
            "count": 0
           },
           {
            "bin_start": 18.9,
            "bin_end": 20,
            "count": 1
           }
          ]
         }
        },
        {
         "name": "elevator_without",
         "dtype": "int64",
         "stats": {
          "unique_count": 2,
          "nan_count": 0,
          "min": "0",
          "max": "1",
          "histogram": [
           {
            "bin_start": 0,
            "bin_end": 0.1,
            "count": 3
           },
           {
            "bin_start": 0.1,
            "bin_end": 0.2,
            "count": 0
           },
           {
            "bin_start": 0.2,
            "bin_end": 0.30000000000000004,
            "count": 0
           },
           {
            "bin_start": 0.30000000000000004,
            "bin_end": 0.4,
            "count": 0
           },
           {
            "bin_start": 0.4,
            "bin_end": 0.5,
            "count": 0
           },
           {
            "bin_start": 0.5,
            "bin_end": 0.6000000000000001,
            "count": 0
           },
           {
            "bin_start": 0.6000000000000001,
            "bin_end": 0.7000000000000001,
            "count": 0
           },
           {
            "bin_start": 0.7000000000000001,
            "bin_end": 0.8,
            "count": 0
           },
           {
            "bin_start": 0.8,
            "bin_end": 0.9,
            "count": 0
           },
           {
            "bin_start": 0.9,
            "bin_end": 1,
            "count": 2
           }
          ]
         }
        },
        {
         "name": "elevator_passenger",
         "dtype": "int64",
         "stats": {
          "unique_count": 1,
          "nan_count": 0,
          "min": "1",
          "max": "1",
          "histogram": [
           {
            "bin_start": 0.5,
            "bin_end": 0.6,
            "count": 0
           },
           {
            "bin_start": 0.6,
            "bin_end": 0.7,
            "count": 0
           },
           {
            "bin_start": 0.7,
            "bin_end": 0.8,
            "count": 0
           },
           {
            "bin_start": 0.8,
            "bin_end": 0.9,
            "count": 0
           },
           {
            "bin_start": 0.9,
            "bin_end": 1,
            "count": 0
           },
           {
            "bin_start": 1,
            "bin_end": 1.1,
            "count": 5
           },
           {
            "bin_start": 1.1,
            "bin_end": 1.2000000000000002,
            "count": 0
           },
           {
            "bin_start": 1.2000000000000002,
            "bin_end": 1.3,
            "count": 0
           },
           {
            "bin_start": 1.3,
            "bin_end": 1.4,
            "count": 0
           },
           {
            "bin_start": 1.4,
            "bin_end": 1.5,
            "count": 0
           }
          ]
         }
        },
        {
         "name": "elevator_service",
         "dtype": "int64",
         "stats": {
          "unique_count": 2,
          "nan_count": 0,
          "min": "0",
          "max": "1",
          "histogram": [
           {
            "bin_start": 0,
            "bin_end": 0.1,
            "count": 1
           },
           {
            "bin_start": 0.1,
            "bin_end": 0.2,
            "count": 0
           },
           {
            "bin_start": 0.2,
            "bin_end": 0.30000000000000004,
            "count": 0
           },
           {
            "bin_start": 0.30000000000000004,
            "bin_end": 0.4,
            "count": 0
           },
           {
            "bin_start": 0.4,
            "bin_end": 0.5,
            "count": 0
           },
           {
            "bin_start": 0.5,
            "bin_end": 0.6000000000000001,
            "count": 0
           },
           {
            "bin_start": 0.6000000000000001,
            "bin_end": 0.7000000000000001,
            "count": 0
           },
           {
            "bin_start": 0.7000000000000001,
            "bin_end": 0.8,
            "count": 0
           },
           {
            "bin_start": 0.8,
            "bin_end": 0.9,
            "count": 0
           },
           {
            "bin_start": 0.9,
            "bin_end": 1,
            "count": 4
           }
          ]
         }
        },
        {
         "name": "parking",
         "dtype": "int64",
         "stats": {
          "unique_count": 2,
          "nan_count": 0,
          "min": "0",
          "max": "1",
          "histogram": [
           {
            "bin_start": 0,
            "bin_end": 0.1,
            "count": 2
           },
           {
            "bin_start": 0.1,
            "bin_end": 0.2,
            "count": 0
           },
           {
            "bin_start": 0.2,
            "bin_end": 0.30000000000000004,
            "count": 0
           },
           {
            "bin_start": 0.30000000000000004,
            "bin_end": 0.4,
            "count": 0
           },
           {
            "bin_start": 0.4,
            "bin_end": 0.5,
            "count": 0
           },
           {
            "bin_start": 0.5,
            "bin_end": 0.6000000000000001,
            "count": 0
           },
           {
            "bin_start": 0.6000000000000001,
            "bin_end": 0.7000000000000001,
            "count": 0
           },
           {
            "bin_start": 0.7000000000000001,
            "bin_end": 0.8,
            "count": 0
           },
           {
            "bin_start": 0.8,
            "bin_end": 0.9,
            "count": 0
           },
           {
            "bin_start": 0.9,
            "bin_end": 1,
            "count": 3
           }
          ]
         }
        },
        {
         "name": "garbage_chute",
         "dtype": "int64",
         "stats": {
          "unique_count": 2,
          "nan_count": 0,
          "min": "0",
          "max": "1",
          "histogram": [
           {
            "bin_start": 0,
            "bin_end": 0.1,
            "count": 1
           },
           {
            "bin_start": 0.1,
            "bin_end": 0.2,
            "count": 0
           },
           {
            "bin_start": 0.2,
            "bin_end": 0.30000000000000004,
            "count": 0
           },
           {
            "bin_start": 0.30000000000000004,
            "bin_end": 0.4,
            "count": 0
           },
           {
            "bin_start": 0.4,
            "bin_end": 0.5,
            "count": 0
           },
           {
            "bin_start": 0.5,
            "bin_end": 0.6000000000000001,
            "count": 0
           },
           {
            "bin_start": 0.6000000000000001,
            "bin_end": 0.7000000000000001,
            "count": 0
           },
           {
            "bin_start": 0.7000000000000001,
            "bin_end": 0.8,
            "count": 0
           },
           {
            "bin_start": 0.8,
            "bin_end": 0.9,
            "count": 0
           },
           {
            "bin_start": 0.9,
            "bin_end": 1,
            "count": 4
           }
          ]
         }
        },
        {
         "name": "heating",
         "dtype": "int64",
         "stats": {
          "unique_count": 2,
          "nan_count": 0,
          "min": "0",
          "max": "3",
          "histogram": [
           {
            "bin_start": 0,
            "bin_end": 0.3,
            "count": 4
           },
           {
            "bin_start": 0.3,
            "bin_end": 0.6,
            "count": 0
           },
           {
            "bin_start": 0.6,
            "bin_end": 0.8999999999999999,
            "count": 0
           },
           {
            "bin_start": 0.8999999999999999,
            "bin_end": 1.2,
            "count": 0
           },
           {
            "bin_start": 1.2,
            "bin_end": 1.5,
            "count": 0
           },
           {
            "bin_start": 1.5,
            "bin_end": 1.7999999999999998,
            "count": 0
           },
           {
            "bin_start": 1.7999999999999998,
            "bin_end": 2.1,
            "count": 0
           },
           {
            "bin_start": 2.1,
            "bin_end": 2.4,
            "count": 0
           },
           {
            "bin_start": 2.4,
            "bin_end": 2.6999999999999997,
            "count": 0
           },
           {
            "bin_start": 2.6999999999999997,
            "bin_end": 3,
            "count": 1
           }
          ]
         }
        },
        {
         "name": "distance",
         "dtype": "float64",
         "stats": {
          "unique_count": 5,
          "nan_count": 0,
          "min": "0.0524109779435537",
          "max": "0.345584373087098",
          "histogram": [
           {
            "bin_start": 0.0524109779435537,
            "bin_end": 0.08172831745790812,
            "count": 1
           },
           {
            "bin_start": 0.08172831745790812,
            "bin_end": 0.11104565697226255,
            "count": 0
           },
           {
            "bin_start": 0.11104565697226255,
            "bin_end": 0.140362996486617,
            "count": 0
           },
           {
            "bin_start": 0.140362996486617,
            "bin_end": 0.1696803360009714,
            "count": 0
           },
           {
            "bin_start": 0.1696803360009714,
            "bin_end": 0.19899767551532585,
            "count": 0
           },
           {
            "bin_start": 0.19899767551532585,
            "bin_end": 0.22831501502968027,
            "count": 2
           },
           {
            "bin_start": 0.22831501502968027,
            "bin_end": 0.2576323545440347,
            "count": 1
           },
           {
            "bin_start": 0.2576323545440347,
            "bin_end": 0.2869496940583891,
            "count": 0
           },
           {
            "bin_start": 0.2869496940583891,
            "bin_end": 0.31626703357274355,
            "count": 0
           },
           {
            "bin_start": 0.31626703357274355,
            "bin_end": 0.345584373087098,
            "count": 1
           }
          ]
         }
        },
        {
         "name": "street",
         "dtype": "object",
         "stats": {
          "unique_count": 5,
          "nan_count": 0,
          "categories": [
           {
            "name": "2-я Черногрязская улица",
            "count": 1
           },
           {
            "name": "улица Сервантеса",
            "count": 1
           },
           {
            "name": "3 others",
            "count": 3
           }
          ]
         }
        },
        {
         "name": "_deepnote_index_column",
         "dtype": "int64"
        }
       ],
       "rows_top": [
        {
         "seller": 3,
         "area_total": 71.4,
         "area_kitchen": 13.16,
         "area_living": 29.440000000000005,
         "floor": 2,
         "rooms": 1,
         "layout": 1,
         "ceiling": 3,
         "bathrooms_shared": 1,
         "bathrooms_private": 1,
         "windows_court": 1,
         "windows_street": 0,
         "balconies": 1,
         "loggias": 0,
         "condition": 0,
         "phones": 1,
         "building_id": 5148,
         "new": 0,
         "district": 0,
         "constructed": 2017,
         "material": 2,
         "stories": 20,
         "elevator_without": 1,
         "elevator_passenger": 1,
         "elevator_service": 1,
         "parking": 1,
         "garbage_chute": 1,
         "heating": 0,
         "distance": 0.0524109779435537,
         "street": "2-я Черногрязская улица",
         "_deepnote_index_column": 0
        },
        {
         "seller": 1,
         "area_total": 54,
         "area_kitchen": 4,
         "area_living": 50,
         "floor": 4,
         "rooms": 1,
         "layout": 1,
         "ceiling": 3,
         "bathrooms_shared": 1,
         "bathrooms_private": 1,
         "windows_court": 1,
         "windows_street": 0,
         "balconies": 0,
         "loggias": 1,
         "condition": 3,
         "phones": 1,
         "building_id": 1290,
         "new": 0,
         "district": 11,
         "constructed": 2017,
         "material": 2,
         "stories": 15,
         "elevator_without": 0,
         "elevator_passenger": 1,
         "elevator_service": 1,
         "parking": 0,
         "garbage_chute": 0,
         "heating": 0,
         "distance": 0.2164357638885012,
         "street": "улица Сервантеса",
         "_deepnote_index_column": 1
        },
        {
         "seller": 3,
         "area_total": 39.4,
         "area_kitchen": 19.6,
         "area_living": 11.2,
         "floor": 10,
         "rooms": 1,
         "layout": 1,
         "ceiling": 3,
         "bathrooms_shared": 1,
         "bathrooms_private": 0,
         "windows_court": 1,
         "windows_street": 0,
         "balconies": 0,
         "loggias": 1,
         "condition": 2,
         "phones": 1,
         "building_id": 681,
         "new": 1,
         "district": 11,
         "constructed": 2021,
         "material": 3,
         "stories": 9,
         "elevator_without": 0,
         "elevator_passenger": 1,
         "elevator_service": 1,
         "parking": 1,
         "garbage_chute": 1,
         "heating": 0,
         "distance": 0.2288787054599012,
         "street": "Саларьево Парк ЖК",
         "_deepnote_index_column": 2
        },
        {
         "seller": 3,
         "area_total": 60.9,
         "area_kitchen": 15.68,
         "area_living": 55.56,
         "floor": 5,
         "rooms": 2,
         "layout": 1,
         "ceiling": 3,
         "bathrooms_shared": 1,
         "bathrooms_private": 0,
         "windows_court": 0,
         "windows_street": 1,
         "balconies": 0,
         "loggias": 1,
         "condition": 0,
         "phones": 1,
         "building_id": 4261,
         "new": 0,
         "district": 11,
         "constructed": 2014,
         "material": 2,
         "stories": 17,
         "elevator_without": 1,
         "elevator_passenger": 1,
         "elevator_service": 0,
         "parking": 0,
         "garbage_chute": 1,
         "heating": 3,
         "distance": 0.2173936954099662,
         "street": "улица Александры Монаховой",
         "_deepnote_index_column": 3
        },
        {
         "seller": 3,
         "area_total": 34,
         "area_kitchen": 9,
         "area_living": 17,
         "floor": 14,
         "rooms": 1,
         "layout": 1,
         "ceiling": 3,
         "bathrooms_shared": 1,
         "bathrooms_private": 0,
         "windows_court": 1,
         "windows_street": 0,
         "balconies": 0,
         "loggias": 1,
         "condition": 1,
         "phones": 1,
         "building_id": 7530,
         "new": 0,
         "district": 11,
         "constructed": 2016,
         "material": 2,
         "stories": 17,
         "elevator_without": 0,
         "elevator_passenger": 1,
         "elevator_service": 1,
         "parking": 1,
         "garbage_chute": 1,
         "heating": 0,
         "distance": 0.345584373087098,
         "street": "улица 3-я Нововатутинская",
         "_deepnote_index_column": 4
        }
       ],
       "rows_bottom": null
      },
      "text/plain": "   seller  area_total  area_kitchen  area_living  floor  rooms  layout  \\\n0       3        71.4         13.16        29.44      2      1       1   \n1       1        54.0          4.00        50.00      4      1       1   \n2       3        39.4         19.60        11.20     10      1       1   \n3       3        60.9         15.68        55.56      5      2       1   \n4       3        34.0          9.00        17.00     14      1       1   \n\n   ceiling  bathrooms_shared  bathrooms_private  ...  material  stories  \\\n0        3                 1                  1  ...         2       20   \n1        3                 1                  1  ...         2       15   \n2        3                 1                  0  ...         3        9   \n3        3                 1                  0  ...         2       17   \n4        3                 1                  0  ...         2       17   \n\n   elevator_without  elevator_passenger  elevator_service  parking  \\\n0                 1                   1                 1        1   \n1                 0                   1                 1        0   \n2                 0                   1                 1        1   \n3                 1                   1                 0        0   \n4                 0                   1                 1        1   \n\n   garbage_chute  heating  distance                      street  \n0              1        0  0.052411     2-я Черногрязская улица  \n1              0        0  0.216436            улица Сервантеса  \n2              1        0  0.228879           Саларьево Парк ЖК  \n3              1        3  0.217394  улица Александры Монаховой  \n4              1        0  0.345584   улица 3-я Нововатутинская  \n\n[5 rows x 30 columns]",
      "text/html": "<div>\n<style scoped>\n    .dataframe tbody tr th:only-of-type {\n        vertical-align: middle;\n    }\n\n    .dataframe tbody tr th {\n        vertical-align: top;\n    }\n\n    .dataframe thead th {\n        text-align: right;\n    }\n</style>\n<table border=\"1\" class=\"dataframe\">\n  <thead>\n    <tr style=\"text-align: right;\">\n      <th></th>\n      <th>seller</th>\n      <th>area_total</th>\n      <th>area_kitchen</th>\n      <th>area_living</th>\n      <th>floor</th>\n      <th>rooms</th>\n      <th>layout</th>\n      <th>ceiling</th>\n      <th>bathrooms_shared</th>\n      <th>bathrooms_private</th>\n      <th>...</th>\n      <th>material</th>\n      <th>stories</th>\n      <th>elevator_without</th>\n      <th>elevator_passenger</th>\n      <th>elevator_service</th>\n      <th>parking</th>\n      <th>garbage_chute</th>\n      <th>heating</th>\n      <th>distance</th>\n      <th>street</th>\n    </tr>\n  </thead>\n  <tbody>\n    <tr>\n      <th>0</th>\n      <td>3</td>\n      <td>71.4</td>\n      <td>13.16</td>\n      <td>29.44</td>\n      <td>2</td>\n      <td>1</td>\n      <td>1</td>\n      <td>3</td>\n      <td>1</td>\n      <td>1</td>\n      <td>...</td>\n      <td>2</td>\n      <td>20</td>\n      <td>1</td>\n      <td>1</td>\n      <td>1</td>\n      <td>1</td>\n      <td>1</td>\n      <td>0</td>\n      <td>0.052411</td>\n      <td>2-я Черногрязская улица</td>\n    </tr>\n    <tr>\n      <th>1</th>\n      <td>1</td>\n      <td>54.0</td>\n      <td>4.00</td>\n      <td>50.00</td>\n      <td>4</td>\n      <td>1</td>\n      <td>1</td>\n      <td>3</td>\n      <td>1</td>\n      <td>1</td>\n      <td>...</td>\n      <td>2</td>\n      <td>15</td>\n      <td>0</td>\n      <td>1</td>\n      <td>1</td>\n      <td>0</td>\n      <td>0</td>\n      <td>0</td>\n      <td>0.216436</td>\n      <td>улица Сервантеса</td>\n    </tr>\n    <tr>\n      <th>2</th>\n      <td>3</td>\n      <td>39.4</td>\n      <td>19.60</td>\n      <td>11.20</td>\n      <td>10</td>\n      <td>1</td>\n      <td>1</td>\n      <td>3</td>\n      <td>1</td>\n      <td>0</td>\n      <td>...</td>\n      <td>3</td>\n      <td>9</td>\n      <td>0</td>\n      <td>1</td>\n      <td>1</td>\n      <td>1</td>\n      <td>1</td>\n      <td>0</td>\n      <td>0.228879</td>\n      <td>Саларьево Парк ЖК</td>\n    </tr>\n    <tr>\n      <th>3</th>\n      <td>3</td>\n      <td>60.9</td>\n      <td>15.68</td>\n      <td>55.56</td>\n      <td>5</td>\n      <td>2</td>\n      <td>1</td>\n      <td>3</td>\n      <td>1</td>\n      <td>0</td>\n      <td>...</td>\n      <td>2</td>\n      <td>17</td>\n      <td>1</td>\n      <td>1</td>\n      <td>0</td>\n      <td>0</td>\n      <td>1</td>\n      <td>3</td>\n      <td>0.217394</td>\n      <td>улица Александры Монаховой</td>\n    </tr>\n    <tr>\n      <th>4</th>\n      <td>3</td>\n      <td>34.0</td>\n      <td>9.00</td>\n      <td>17.00</td>\n      <td>14</td>\n      <td>1</td>\n      <td>1</td>\n      <td>3</td>\n      <td>1</td>\n      <td>0</td>\n      <td>...</td>\n      <td>2</td>\n      <td>17</td>\n      <td>0</td>\n      <td>1</td>\n      <td>1</td>\n      <td>1</td>\n      <td>1</td>\n      <td>0</td>\n      <td>0.345584</td>\n      <td>улица 3-я Нововатутинская</td>\n    </tr>\n  </tbody>\n</table>\n<p>5 rows × 30 columns</p>\n</div>"
     },
     "metadata": {}
    }
   ],
   "execution_count": null
  },
  {
   "cell_type": "code",
   "metadata": {
    "tags": [],
    "deepnote_to_be_reexecuted": true,
    "source_hash": "ba868cf3",
    "execution_start": 1637343703295,
    "execution_millis": 947,
    "cell_id": "00013-f149e989-6181-4e29-af95-946f5bc73d86",
    "deepnote_output_heights": [
     40
    ],
    "deepnote_cell_type": "code"
   },
   "source": "final_labels = model.predict(X1_test.drop(['area_total'], axis=1))\nfinal_labels = final_labels.astype(float)\nfinal_labels",
   "outputs": [
    {
     "output_type": "execute_result",
     "execution_count": 16,
     "data": {
      "text/plain": "array([361150.39855363, 192998.18246561, 163927.73336471, ...,\n       220131.35845002, 264055.86376226, 109628.88359583])"
     },
     "metadata": {}
    }
   ],
   "execution_count": null
  },
  {
   "cell_type": "code",
   "metadata": {
    "tags": [],
    "deepnote_to_be_reexecuted": true,
    "source_hash": "c0767376",
    "execution_start": 1637343704180,
    "execution_millis": 74,
    "cell_id": "00014-25ca753d-761c-4182-bb70-de57441de264",
    "deepnote_output_heights": [
     21
    ],
    "deepnote_cell_type": "code"
   },
   "source": "\nfinal_labels = final_labels * df_test.area_total.values\nlen(final_labels)",
   "outputs": [
    {
     "output_type": "execute_result",
     "execution_count": 17,
     "data": {
      "text/plain": "9937"
     },
     "metadata": {}
    }
   ],
   "execution_count": null
  },
  {
   "cell_type": "code",
   "metadata": {
    "tags": [],
    "deepnote_to_be_reexecuted": true,
    "source_hash": "b3d836d9",
    "execution_start": 1637343704194,
    "execution_millis": 62,
    "cell_id": "00015-2b0bcc1f-0c42-467c-9ec8-5c5d62a4844c",
    "deepnote_output_heights": [
     21
    ],
    "deepnote_cell_type": "code"
   },
   "source": "df_train.area_total.values",
   "outputs": [
    {
     "output_type": "execute_result",
     "execution_count": 18,
     "data": {
      "text/plain": "array([ 59.2,  88. ,  78.5, ...,  73.4, 100.8,  57.7])"
     },
     "metadata": {}
    }
   ],
   "execution_count": null
  },
  {
   "cell_type": "code",
   "metadata": {
    "tags": [],
    "deepnote_to_be_reexecuted": false,
    "source_hash": "841995ab",
    "execution_start": 1637349558221,
    "execution_millis": 1687,
    "cell_id": "00016-d3deb107-dd2a-47d6-a366-1743532d6166",
    "deepnote_cell_type": "code"
   },
   "source": "y_train_hat = model.predict(X_train) * area_total_train ## * edit\ny_valid_hat = model.predict(X_val) * area_total_val ## * edit\n\ny_train = y_train * area_total_train ## edit\ny_val = y_val * area_total_val ## edit\n\n#print(f'Train RMSLE: {root_mean_squared_log_error(y_true=y_train, y_pred=y_train_hat) :.4f}')\nprint(f'Valid RMSLE: {root_mean_squared_log_error(y_true=y_val, y_pred=y_valid_hat) :.4f}')\n\n#Train RMSLE: 0.1283\n#Valid RMSLE: 0.1761\n\n#Train RMSLE: 0.0489\n#Valid RMSLE: 0.1451\n\n#Train RMSLE: 0.0071\n#Valid RMSLE: 0.0187",
   "outputs": [
    {
     "name": "stdout",
     "text": "Valid RMSLE: 0.1404\n",
     "output_type": "stream"
    }
   ],
   "execution_count": null
  },
  {
   "cell_type": "code",
   "metadata": {
    "tags": [],
    "deepnote_to_be_reexecuted": true,
    "source_hash": "b623e53d",
    "execution_start": 1637343706478,
    "execution_millis": 1,
    "cell_id": "00017-59062e1e-9c98-48d0-845d-4bd7d52ffbbb",
    "deepnote_cell_type": "code"
   },
   "source": "",
   "outputs": [],
   "execution_count": null
  },
  {
   "cell_type": "code",
   "metadata": {
    "tags": [],
    "deepnote_to_be_reexecuted": true,
    "source_hash": "61e9ef7c",
    "execution_start": 1637343706491,
    "execution_millis": 66,
    "cell_id": "00018-8fd47e2b-5ee4-40ed-959c-118552d43e7b",
    "deepnote_cell_type": "code"
   },
   "source": "submission = pd.DataFrame()\nsubmission['id'] = df_test.id\nsubmission['price_prediction'] = final_labels # Predict on non-nan entries\n # Fill missing entries with mean predictor\nprint(f'Generated {len(submission)} predictions')\n\n# Export submission to csv with headers\n#submission.to_csv('sample_submission.csv', index=False)\n\nsubmission.to_csv('sample_submission9.csv', index=False)",
   "outputs": [
    {
     "name": "stdout",
     "text": "Generated 9937 predictions\n",
     "output_type": "stream"
    }
   ],
   "execution_count": null
  },
  {
   "cell_type": "markdown",
   "source": "<a style='text-decoration:none;line-height:16px;display:flex;color:#5B5B62;padding:10px;justify-content:end;' href='https://deepnote.com?utm_source=created-in-deepnote-cell&projectId=99c1e030-46bc-40fa-835c-0661eae0d488' target=\"_blank\">\n<img alt='Created in deepnote.com' style='display:inline;max-height:16px;margin:0px;margin-right:7.5px;' src='data:image/svg+xml;base64,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' > </img>\nCreated in <span style='font-weight:600;margin-left:4px;'>Deepnote</span></a>",
   "metadata": {
    "tags": [],
    "created_in_deepnote_cell": true,
    "deepnote_cell_type": "markdown"
   }
  }
 ],
 "nbformat": 4,
 "nbformat_minor": 2,
 "metadata": {
  "orig_nbformat": 2,
  "deepnote": {
   "is_reactive": false
  },
  "deepnote_notebook_id": "da924b17-7915-4e54-812f-a8b938055efc",
  "deepnote_execution_queue": []
 }
}