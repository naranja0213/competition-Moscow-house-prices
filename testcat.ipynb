{
 "cells": [
  {
   "cell_type": "code",
   "metadata": {
    "tags": [],
    "cell_id": "00000-ed822567-3878-4699-9b14-da991561266b",
    "deepnote_to_be_reexecuted": false,
    "source_hash": "7958d4a9",
    "execution_start": 1637264431594,
    "execution_millis": 4206,
    "deepnote_cell_type": "code"
   },
   "source": "!pip install -r requirements.txt",
   "outputs": [
    {
     "name": "stdout",
     "text": "Requirement already satisfied: xgboost in /root/venv/lib/python3.9/site-packages (from -r requirements.txt (line 1)) (1.5.0)\nRequirement already satisfied: catboost in /root/venv/lib/python3.9/site-packages (from -r requirements.txt (line 2)) (1.0.3)\nRequirement already satisfied: ipywidgets in /root/venv/lib/python3.9/site-packages (from -r requirements.txt (line 3)) (7.6.5)\nRequirement already satisfied: numpy in /root/venv/lib/python3.9/site-packages (from xgboost->-r requirements.txt (line 1)) (1.20.3)\nRequirement already satisfied: scipy in /shared-libs/python3.9/py/lib/python3.9/site-packages (from xgboost->-r requirements.txt (line 1)) (1.7.2)\nRequirement already satisfied: six in /shared-libs/python3.9/py-core/lib/python3.9/site-packages (from catboost->-r requirements.txt (line 2)) (1.16.0)\nRequirement already satisfied: plotly in /shared-libs/python3.9/py/lib/python3.9/site-packages (from catboost->-r requirements.txt (line 2)) (5.3.1)\nRequirement already satisfied: pandas>=0.24.0 in /shared-libs/python3.9/py/lib/python3.9/site-packages (from catboost->-r requirements.txt (line 2)) (1.2.5)\nRequirement already satisfied: graphviz in /root/venv/lib/python3.9/site-packages (from catboost->-r requirements.txt (line 2)) (0.18.2)\nRequirement already satisfied: matplotlib in /shared-libs/python3.9/py/lib/python3.9/site-packages (from catboost->-r requirements.txt (line 2)) (3.4.3)\nRequirement already satisfied: widgetsnbextension~=3.5.0 in /root/venv/lib/python3.9/site-packages (from ipywidgets->-r requirements.txt (line 3)) (3.5.2)\nRequirement already satisfied: ipython-genutils~=0.2.0 in /shared-libs/python3.9/py-core/lib/python3.9/site-packages (from ipywidgets->-r requirements.txt (line 3)) (0.2.0)\nRequirement already satisfied: ipykernel>=4.5.1 in /shared-libs/python3.9/py-core/lib/python3.9/site-packages (from ipywidgets->-r requirements.txt (line 3)) (5.5.5)\nRequirement already satisfied: nbformat>=4.2.0 in /shared-libs/python3.9/py-core/lib/python3.9/site-packages (from ipywidgets->-r requirements.txt (line 3)) (5.1.3)\nRequirement already satisfied: ipython>=4.0.0 in /shared-libs/python3.9/py-core/lib/python3.9/site-packages (from ipywidgets->-r requirements.txt (line 3)) (7.29.0)\nRequirement already satisfied: traitlets>=4.3.1 in /shared-libs/python3.9/py-core/lib/python3.9/site-packages (from ipywidgets->-r requirements.txt (line 3)) (4.3.3)\nRequirement already satisfied: jupyterlab-widgets>=1.0.0 in /root/venv/lib/python3.9/site-packages (from ipywidgets->-r requirements.txt (line 3)) (1.0.2)\nRequirement already satisfied: tornado>=4.2 in /shared-libs/python3.9/py-core/lib/python3.9/site-packages (from ipykernel>=4.5.1->ipywidgets->-r requirements.txt (line 3)) (6.1)\nRequirement already satisfied: jupyter-client in /shared-libs/python3.9/py-core/lib/python3.9/site-packages (from ipykernel>=4.5.1->ipywidgets->-r requirements.txt (line 3)) (6.1.12)\nRequirement already satisfied: pickleshare in /shared-libs/python3.9/py-core/lib/python3.9/site-packages (from ipython>=4.0.0->ipywidgets->-r requirements.txt (line 3)) (0.7.5)\nRequirement already satisfied: prompt-toolkit!=3.0.0,!=3.0.1,<3.1.0,>=2.0.0 in /shared-libs/python3.9/py-core/lib/python3.9/site-packages (from ipython>=4.0.0->ipywidgets->-r requirements.txt (line 3)) (3.0.22)\nRequirement already satisfied: setuptools>=18.5 in /root/venv/lib/python3.9/site-packages (from ipython>=4.0.0->ipywidgets->-r requirements.txt (line 3)) (57.4.0)\nRequirement already satisfied: pygments in /shared-libs/python3.9/py-core/lib/python3.9/site-packages (from ipython>=4.0.0->ipywidgets->-r requirements.txt (line 3)) (2.10.0)\nRequirement already satisfied: backcall in /shared-libs/python3.9/py-core/lib/python3.9/site-packages (from ipython>=4.0.0->ipywidgets->-r requirements.txt (line 3)) (0.2.0)\nRequirement already satisfied: matplotlib-inline in /shared-libs/python3.9/py-core/lib/python3.9/site-packages (from ipython>=4.0.0->ipywidgets->-r requirements.txt (line 3)) (0.1.3)\nRequirement already satisfied: jedi>=0.16 in /shared-libs/python3.9/py-core/lib/python3.9/site-packages (from ipython>=4.0.0->ipywidgets->-r requirements.txt (line 3)) (0.17.2)\nRequirement already satisfied: decorator in /shared-libs/python3.9/py-core/lib/python3.9/site-packages (from ipython>=4.0.0->ipywidgets->-r requirements.txt (line 3)) (5.1.0)\nRequirement already satisfied: pexpect>4.3 in /shared-libs/python3.9/py-core/lib/python3.9/site-packages (from ipython>=4.0.0->ipywidgets->-r requirements.txt (line 3)) (4.8.0)\nRequirement already satisfied: parso<0.8.0,>=0.7.0 in /shared-libs/python3.9/py-core/lib/python3.9/site-packages (from jedi>=0.16->ipython>=4.0.0->ipywidgets->-r requirements.txt (line 3)) (0.7.1)\nRequirement already satisfied: jsonschema!=2.5.0,>=2.4 in /shared-libs/python3.9/py-core/lib/python3.9/site-packages (from nbformat>=4.2.0->ipywidgets->-r requirements.txt (line 3)) (3.2.0)\nRequirement already satisfied: jupyter-core in /shared-libs/python3.9/py-core/lib/python3.9/site-packages (from nbformat>=4.2.0->ipywidgets->-r requirements.txt (line 3)) (4.7.1)\nRequirement already satisfied: attrs>=17.4.0 in /shared-libs/python3.9/py-core/lib/python3.9/site-packages (from jsonschema!=2.5.0,>=2.4->nbformat>=4.2.0->ipywidgets->-r requirements.txt (line 3)) (21.2.0)\nRequirement already satisfied: pyrsistent>=0.14.0 in /shared-libs/python3.9/py-core/lib/python3.9/site-packages (from jsonschema!=2.5.0,>=2.4->nbformat>=4.2.0->ipywidgets->-r requirements.txt (line 3)) (0.18.0)\nRequirement already satisfied: pytz>=2017.3 in /shared-libs/python3.9/py/lib/python3.9/site-packages (from pandas>=0.24.0->catboost->-r requirements.txt (line 2)) (2021.3)\nRequirement already satisfied: python-dateutil>=2.7.3 in /shared-libs/python3.9/py-core/lib/python3.9/site-packages (from pandas>=0.24.0->catboost->-r requirements.txt (line 2)) (2.8.2)\nRequirement already satisfied: ptyprocess>=0.5 in /shared-libs/python3.9/py-core/lib/python3.9/site-packages (from pexpect>4.3->ipython>=4.0.0->ipywidgets->-r requirements.txt (line 3)) (0.7.0)\nRequirement already satisfied: wcwidth in /shared-libs/python3.9/py-core/lib/python3.9/site-packages (from prompt-toolkit!=3.0.0,!=3.0.1,<3.1.0,>=2.0.0->ipython>=4.0.0->ipywidgets->-r requirements.txt (line 3)) (0.2.5)\nRequirement already satisfied: notebook>=4.4.1 in /shared-libs/python3.9/py-core/lib/python3.9/site-packages (from widgetsnbextension~=3.5.0->ipywidgets->-r requirements.txt (line 3)) (6.3.0)\nRequirement already satisfied: Send2Trash>=1.5.0 in /shared-libs/python3.9/py-core/lib/python3.9/site-packages (from notebook>=4.4.1->widgetsnbextension~=3.5.0->ipywidgets->-r requirements.txt (line 3)) (1.8.0)\nRequirement already satisfied: terminado>=0.8.3 in /shared-libs/python3.9/py-core/lib/python3.9/site-packages (from notebook>=4.4.1->widgetsnbextension~=3.5.0->ipywidgets->-r requirements.txt (line 3)) (0.12.1)\nRequirement already satisfied: pyzmq>=17 in /shared-libs/python3.9/py-core/lib/python3.9/site-packages (from notebook>=4.4.1->widgetsnbextension~=3.5.0->ipywidgets->-r requirements.txt (line 3)) (22.3.0)\nRequirement already satisfied: jinja2 in /shared-libs/python3.9/py-core/lib/python3.9/site-packages (from notebook>=4.4.1->widgetsnbextension~=3.5.0->ipywidgets->-r requirements.txt (line 3)) (3.0.3)\nRequirement already satisfied: prometheus-client in /shared-libs/python3.9/py-core/lib/python3.9/site-packages (from notebook>=4.4.1->widgetsnbextension~=3.5.0->ipywidgets->-r requirements.txt (line 3)) (0.12.0)\nRequirement already satisfied: argon2-cffi in /shared-libs/python3.9/py-core/lib/python3.9/site-packages (from notebook>=4.4.1->widgetsnbextension~=3.5.0->ipywidgets->-r requirements.txt (line 3)) (21.1.0)\nRequirement already satisfied: nbconvert==6.0.7 in /shared-libs/python3.9/py-core/lib/python3.9/site-packages (from notebook>=4.4.1->widgetsnbextension~=3.5.0->ipywidgets->-r requirements.txt (line 3)) (6.0.7)\nRequirement already satisfied: bleach in /shared-libs/python3.9/py-core/lib/python3.9/site-packages (from nbconvert==6.0.7->notebook>=4.4.1->widgetsnbextension~=3.5.0->ipywidgets->-r requirements.txt (line 3)) (4.1.0)\nRequirement already satisfied: testpath in /shared-libs/python3.9/py-core/lib/python3.9/site-packages (from nbconvert==6.0.7->notebook>=4.4.1->widgetsnbextension~=3.5.0->ipywidgets->-r requirements.txt (line 3)) (0.5.0)\nRequirement already satisfied: mistune<2,>=0.8.1 in /shared-libs/python3.9/py-core/lib/python3.9/site-packages (from nbconvert==6.0.7->notebook>=4.4.1->widgetsnbextension~=3.5.0->ipywidgets->-r requirements.txt (line 3)) (0.8.4)\nRequirement already satisfied: jupyterlab-pygments in /shared-libs/python3.9/py-core/lib/python3.9/site-packages (from nbconvert==6.0.7->notebook>=4.4.1->widgetsnbextension~=3.5.0->ipywidgets->-r requirements.txt (line 3)) (0.1.2)\nRequirement already satisfied: pandocfilters>=1.4.1 in /shared-libs/python3.9/py-core/lib/python3.9/site-packages (from nbconvert==6.0.7->notebook>=4.4.1->widgetsnbextension~=3.5.0->ipywidgets->-r requirements.txt (line 3)) (1.5.0)\nRequirement already satisfied: defusedxml in /shared-libs/python3.9/py-core/lib/python3.9/site-packages (from nbconvert==6.0.7->notebook>=4.4.1->widgetsnbextension~=3.5.0->ipywidgets->-r requirements.txt (line 3)) (0.7.1)\nRequirement already satisfied: nbclient<0.6.0,>=0.5.0 in /shared-libs/python3.9/py-core/lib/python3.9/site-packages (from nbconvert==6.0.7->notebook>=4.4.1->widgetsnbextension~=3.5.0->ipywidgets->-r requirements.txt (line 3)) (0.5.8)\nRequirement already satisfied: entrypoints>=0.2.2 in /shared-libs/python3.9/py-core/lib/python3.9/site-packages (from nbconvert==6.0.7->notebook>=4.4.1->widgetsnbextension~=3.5.0->ipywidgets->-r requirements.txt (line 3)) (0.3)\nRequirement already satisfied: MarkupSafe>=2.0 in /shared-libs/python3.9/py-core/lib/python3.9/site-packages (from jinja2->notebook>=4.4.1->widgetsnbextension~=3.5.0->ipywidgets->-r requirements.txt (line 3)) (2.0.1)\nRequirement already satisfied: nest-asyncio in /shared-libs/python3.9/py-core/lib/python3.9/site-packages (from nbclient<0.6.0,>=0.5.0->nbconvert==6.0.7->notebook>=4.4.1->widgetsnbextension~=3.5.0->ipywidgets->-r requirements.txt (line 3)) (1.5.1)\nRequirement already satisfied: cffi>=1.0.0 in /shared-libs/python3.9/py-core/lib/python3.9/site-packages (from argon2-cffi->notebook>=4.4.1->widgetsnbextension~=3.5.0->ipywidgets->-r requirements.txt (line 3)) (1.15.0)\nRequirement already satisfied: pycparser in /shared-libs/python3.9/py-core/lib/python3.9/site-packages (from cffi>=1.0.0->argon2-cffi->notebook>=4.4.1->widgetsnbextension~=3.5.0->ipywidgets->-r requirements.txt (line 3)) (2.21)\nRequirement already satisfied: packaging in /shared-libs/python3.9/py-core/lib/python3.9/site-packages (from bleach->nbconvert==6.0.7->notebook>=4.4.1->widgetsnbextension~=3.5.0->ipywidgets->-r requirements.txt (line 3)) (21.2)\nRequirement already satisfied: webencodings in /shared-libs/python3.9/py-core/lib/python3.9/site-packages (from bleach->nbconvert==6.0.7->notebook>=4.4.1->widgetsnbextension~=3.5.0->ipywidgets->-r requirements.txt (line 3)) (0.5.1)\nRequirement already satisfied: kiwisolver>=1.0.1 in /shared-libs/python3.9/py/lib/python3.9/site-packages (from matplotlib->catboost->-r requirements.txt (line 2)) (1.3.2)\nRequirement already satisfied: pillow>=6.2.0 in /shared-libs/python3.9/py/lib/python3.9/site-packages (from matplotlib->catboost->-r requirements.txt (line 2)) (8.4.0)\nRequirement already satisfied: cycler>=0.10 in /shared-libs/python3.9/py/lib/python3.9/site-packages (from matplotlib->catboost->-r requirements.txt (line 2)) (0.11.0)\nRequirement already satisfied: pyparsing>=2.2.1 in /shared-libs/python3.9/py-core/lib/python3.9/site-packages (from matplotlib->catboost->-r requirements.txt (line 2)) (2.4.7)\nRequirement already satisfied: tenacity>=6.2.0 in /shared-libs/python3.9/py/lib/python3.9/site-packages (from plotly->catboost->-r requirements.txt (line 2)) (8.0.1)\n\u001b[33mWARNING: You are using pip version 21.2.3; however, version 21.3.1 is available.\nYou should consider upgrading via the '/root/venv/bin/python -m pip install --upgrade pip' command.\u001b[0m\n",
     "output_type": "stream"
    }
   ],
   "execution_count": null
  },
  {
   "cell_type": "code",
   "metadata": {
    "tags": [],
    "cell_id": "00000-c5d53c90-1d9c-42d2-b8b3-5ac600776c83",
    "deepnote_to_be_reexecuted": false,
    "source_hash": "85c8f1a6",
    "execution_start": 1637264435809,
    "execution_millis": 1884,
    "deepnote_cell_type": "code"
   },
   "source": "import json\nimport pandas as pd\nimport numpy as np\nimport math as math\nimport matplotlib.pyplot as plt\nimport seaborn as sns\nimport sklearn.model_selection as model_selection\nimport sklearn.tree as tree\nfrom sklearn.linear_model import LogisticRegression\nfrom sklearn.linear_model import LinearRegression\nimport time\nfrom sklearn.model_selection import GridSearchCV\nfrom sklearn.tree import DecisionTreeRegressor\nimport catboost\nfrom catboost import CatBoostClassifier\nfrom catboost import CatBoostRegressor\nfrom sklearn.model_selection import train_test_split\n",
   "outputs": [],
   "execution_count": null
  },
  {
   "cell_type": "code",
   "metadata": {
    "tags": [],
    "cell_id": "00001-e79ac0d1-3c13-4efa-8ba4-5a5f44675dd0",
    "deepnote_to_be_reexecuted": false,
    "source_hash": "2490097",
    "execution_start": 1637264437694,
    "execution_millis": 99,
    "deepnote_cell_type": "code"
   },
   "source": "df_train = pd.read_csv('Training_clean1.csv')\ndef root_mean_squared_log_error(y_true, y_pred):\n    # Alternatively: sklearn.metrics.mean_squared_log_error(y_true, y_pred) ** 0.5\n    assert (y_true >= 0).all() \n    assert (y_pred >= 0).all()\n    log_error = np.log1p(y_pred) - np.log1p(y_true)  # Note: log1p(x) = log(1 + x)\n    return np.mean(log_error ** 2) ** 0.5\n\ndf_test = pd.read_csv('Test_clean1.csv')\n    \n",
   "outputs": [],
   "execution_count": null
  },
  {
   "cell_type": "code",
   "source": "df_train['floor/stories'] = df_train.floor/df_train.stories\ndf_test['floor/stories'] = df_test.floor/df_test.stories\n\ndf_train['distance'] = np.sqrt((37.6 - df_train['longitude'])**2 + (55.75 - df_train['latitude'])**2)\ndf_test['distance'] = np.sqrt((37.6 - df_test['longitude'])**2 + (55.75 - df_test['latitude'])**2)\n\ndf_train.drop(['floor', 'stories', 'longitude', 'latitude'], axis=1, inplace=True)\ndf_test.drop(['floor', 'stories', 'longitude', 'latitude'], axis=1, inplace=True)",
   "metadata": {
    "tags": [],
    "cell_id": "00004-55584dc5-8031-4837-8c40-d50fc6f86306",
    "deepnote_to_be_reexecuted": false,
    "source_hash": "2c896940",
    "execution_start": 1637264437796,
    "execution_millis": 22,
    "deepnote_cell_type": "code"
   },
   "outputs": [],
   "execution_count": null
  },
  {
   "cell_type": "code",
   "source": "#y1 = df_train['price']\nX1 = df_train.drop(['price', 'id', 'address'], axis=1)\nX1_test = df_test.drop(['id', 'address'], axis=1)\nX1_test_area_total = X1_test.area_total.values\ndf_train['price/area'] = df_train['price']/df_train['area_total']\ny1 = df_train['price/area']\nX1_test",
   "metadata": {
    "tags": [],
    "cell_id": "00004-abd3e03a-16fd-4530-8b99-200208c83179",
    "deepnote_to_be_reexecuted": false,
    "source_hash": "44b4081f",
    "execution_start": 1637264437834,
    "execution_millis": 130,
    "deepnote_output_heights": [
     40
    ],
    "deepnote_cell_type": "code"
   },
   "outputs": [
    {
     "output_type": "execute_result",
     "execution_count": 5,
     "data": {
      "application/vnd.deepnote.dataframe.v2+json": {
       "row_count": 9937,
       "column_count": 21,
       "columns": [
        {
         "name": "area_total",
         "dtype": "float64",
         "stats": {
          "unique_count": 1880,
          "nan_count": 0,
          "min": "13.0",
          "max": "1175.0",
          "histogram": [
           {
            "bin_start": 13,
            "bin_end": 129.2,
            "count": 8870
           },
           {
            "bin_start": 129.2,
            "bin_end": 245.4,
            "count": 903
           },
           {
            "bin_start": 245.4,
            "bin_end": 361.6,
            "count": 113
           },
           {
            "bin_start": 361.6,
            "bin_end": 477.8,
            "count": 31
           },
           {
            "bin_start": 477.8,
            "bin_end": 594,
            "count": 9
           },
           {
            "bin_start": 594,
            "bin_end": 710.2,
            "count": 7
           },
           {
            "bin_start": 710.2,
            "bin_end": 826.4,
            "count": 2
           },
           {
            "bin_start": 826.4,
            "bin_end": 942.6,
            "count": 0
           },
           {
            "bin_start": 942.6,
            "bin_end": 1058.8,
            "count": 1
           },
           {
            "bin_start": 1058.8,
            "bin_end": 1175,
            "count": 1
           }
          ]
         }
        },
        {
         "name": "area_kitchen",
         "dtype": "float64",
         "stats": {
          "unique_count": 1317,
          "nan_count": 0,
          "min": "1.2",
          "max": "214.01685188180585",
          "histogram": [
           {
            "bin_start": 1.2,
            "bin_end": 22.481685188180585,
            "count": 8722
           },
           {
            "bin_start": 22.481685188180585,
            "bin_end": 43.76337037636117,
            "count": 1074
           },
           {
            "bin_start": 43.76337037636117,
            "bin_end": 65.04505556454176,
            "count": 101
           },
           {
            "bin_start": 65.04505556454176,
            "bin_end": 86.32674075272234,
            "count": 24
           },
           {
            "bin_start": 86.32674075272234,
            "bin_end": 107.60842594090293,
            "count": 11
           },
           {
            "bin_start": 107.60842594090293,
            "bin_end": 128.8901111290835,
            "count": 1
           },
           {
            "bin_start": 128.8901111290835,
            "bin_end": 150.1717963172641,
            "count": 3
           },
           {
            "bin_start": 150.1717963172641,
            "bin_end": 171.45348150544467,
            "count": 0
           },
           {
            "bin_start": 171.45348150544467,
            "bin_end": 192.73516669362525,
            "count": 0
           },
           {
            "bin_start": 192.73516669362525,
            "bin_end": 214.01685188180585,
            "count": 1
           }
          ]
         }
        },
        {
         "name": "area_living",
         "dtype": "float64",
         "stats": {
          "unique_count": 1707,
          "nan_count": 0,
          "min": "0.0",
          "max": "528.0",
          "histogram": [
           {
            "bin_start": 0,
            "bin_end": 52.8,
            "count": 7848
           },
           {
            "bin_start": 52.8,
            "bin_end": 105.6,
            "count": 1683
           },
           {
            "bin_start": 105.6,
            "bin_end": 158.39999999999998,
            "count": 278
           },
           {
            "bin_start": 158.39999999999998,
            "bin_end": 211.2,
            "count": 74
           },
           {
            "bin_start": 211.2,
            "bin_end": 264,
            "count": 23
           },
           {
            "bin_start": 264,
            "bin_end": 316.79999999999995,
            "count": 13
           },
           {
            "bin_start": 316.79999999999995,
            "bin_end": 369.59999999999997,
            "count": 9
           },
           {
            "bin_start": 369.59999999999997,
            "bin_end": 422.4,
            "count": 2
           },
           {
            "bin_start": 422.4,
            "bin_end": 475.2,
            "count": 2
           },
           {
            "bin_start": 475.2,
            "bin_end": 528,
            "count": 5
           }
          ]
         }
        },
        {
         "name": "rooms",
         "dtype": "int64",
         "stats": {
          "unique_count": 6,
          "nan_count": 0,
          "min": "1",
          "max": "6",
          "histogram": [
           {
            "bin_start": 1,
            "bin_end": 1.5,
            "count": 3110
           },
           {
            "bin_start": 1.5,
            "bin_end": 2,
            "count": 0
           },
           {
            "bin_start": 2,
            "bin_end": 2.5,
            "count": 3279
           },
           {
            "bin_start": 2.5,
            "bin_end": 3,
            "count": 0
           },
           {
            "bin_start": 3,
            "bin_end": 3.5,
            "count": 2448
           },
           {
            "bin_start": 3.5,
            "bin_end": 4,
            "count": 0
           },
           {
            "bin_start": 4,
            "bin_end": 4.5,
            "count": 744
           },
           {
            "bin_start": 4.5,
            "bin_end": 5,
            "count": 0
           },
           {
            "bin_start": 5,
            "bin_end": 5.5,
            "count": 234
           },
           {
            "bin_start": 5.5,
            "bin_end": 6,
            "count": 122
           }
          ]
         }
        },
        {
         "name": "bathrooms_shared",
         "dtype": "int64",
         "stats": {
          "unique_count": 5,
          "nan_count": 0,
          "min": "0",
          "max": "4",
          "histogram": [
           {
            "bin_start": 0,
            "bin_end": 0.4,
            "count": 5188
           },
           {
            "bin_start": 0.4,
            "bin_end": 0.8,
            "count": 0
           },
           {
            "bin_start": 0.8,
            "bin_end": 1.2000000000000002,
            "count": 3410
           },
           {
            "bin_start": 1.2000000000000002,
            "bin_end": 1.6,
            "count": 0
           },
           {
            "bin_start": 1.6,
            "bin_end": 2,
            "count": 0
           },
           {
            "bin_start": 2,
            "bin_end": 2.4000000000000004,
            "count": 1106
           },
           {
            "bin_start": 2.4000000000000004,
            "bin_end": 2.8000000000000003,
            "count": 0
           },
           {
            "bin_start": 2.8000000000000003,
            "bin_end": 3.2,
            "count": 170
           },
           {
            "bin_start": 3.2,
            "bin_end": 3.6,
            "count": 0
           },
           {
            "bin_start": 3.6,
            "bin_end": 4,
            "count": 63
           }
          ]
         }
        },
        {
         "name": "bathrooms_private",
         "dtype": "int64",
         "stats": {
          "unique_count": 5,
          "nan_count": 0,
          "min": "0",
          "max": "4",
          "histogram": [
           {
            "bin_start": 0,
            "bin_end": 0.4,
            "count": 5822
           },
           {
            "bin_start": 0.4,
            "bin_end": 0.8,
            "count": 0
           },
           {
            "bin_start": 0.8,
            "bin_end": 1.2000000000000002,
            "count": 3349
           },
           {
            "bin_start": 1.2000000000000002,
            "bin_end": 1.6,
            "count": 0
           },
           {
            "bin_start": 1.6,
            "bin_end": 2,
            "count": 0
           },
           {
            "bin_start": 2,
            "bin_end": 2.4000000000000004,
            "count": 645
           },
           {
            "bin_start": 2.4000000000000004,
            "bin_end": 2.8000000000000003,
            "count": 0
           },
           {
            "bin_start": 2.8000000000000003,
            "bin_end": 3.2,
            "count": 93
           },
           {
            "bin_start": 3.2,
            "bin_end": 3.6,
            "count": 0
           },
           {
            "bin_start": 3.6,
            "bin_end": 4,
            "count": 28
           }
          ]
         }
        },
        {
         "name": "windows_court",
         "dtype": "int64",
         "stats": {
          "unique_count": 2,
          "nan_count": 0,
          "min": "0",
          "max": "1",
          "histogram": [
           {
            "bin_start": 0,
            "bin_end": 0.1,
            "count": 1230
           },
           {
            "bin_start": 0.1,
            "bin_end": 0.2,
            "count": 0
           },
           {
            "bin_start": 0.2,
            "bin_end": 0.30000000000000004,
            "count": 0
           },
           {
            "bin_start": 0.30000000000000004,
            "bin_end": 0.4,
            "count": 0
           },
           {
            "bin_start": 0.4,
            "bin_end": 0.5,
            "count": 0
           },
           {
            "bin_start": 0.5,
            "bin_end": 0.6000000000000001,
            "count": 0
           },
           {
            "bin_start": 0.6000000000000001,
            "bin_end": 0.7000000000000001,
            "count": 0
           },
           {
            "bin_start": 0.7000000000000001,
            "bin_end": 0.8,
            "count": 0
           },
           {
            "bin_start": 0.8,
            "bin_end": 0.9,
            "count": 0
           },
           {
            "bin_start": 0.9,
            "bin_end": 1,
            "count": 8707
           }
          ]
         }
        },
        {
         "name": "windows_street",
         "dtype": "int64",
         "stats": {
          "unique_count": 2,
          "nan_count": 0,
          "min": "0",
          "max": "1",
          "histogram": [
           {
            "bin_start": 0,
            "bin_end": 0.1,
            "count": 7109
           },
           {
            "bin_start": 0.1,
            "bin_end": 0.2,
            "count": 0
           },
           {
            "bin_start": 0.2,
            "bin_end": 0.30000000000000004,
            "count": 0
           },
           {
            "bin_start": 0.30000000000000004,
            "bin_end": 0.4,
            "count": 0
           },
           {
            "bin_start": 0.4,
            "bin_end": 0.5,
            "count": 0
           },
           {
            "bin_start": 0.5,
            "bin_end": 0.6000000000000001,
            "count": 0
           },
           {
            "bin_start": 0.6000000000000001,
            "bin_end": 0.7000000000000001,
            "count": 0
           },
           {
            "bin_start": 0.7000000000000001,
            "bin_end": 0.8,
            "count": 0
           },
           {
            "bin_start": 0.8,
            "bin_end": 0.9,
            "count": 0
           },
           {
            "bin_start": 0.9,
            "bin_end": 1,
            "count": 2828
           }
          ]
         }
        },
        {
         "name": "phones",
         "dtype": "int64",
         "stats": {
          "unique_count": 3,
          "nan_count": 0,
          "min": "0",
          "max": "2",
          "histogram": [
           {
            "bin_start": 0,
            "bin_end": 0.2,
            "count": 345
           },
           {
            "bin_start": 0.2,
            "bin_end": 0.4,
            "count": 0
           },
           {
            "bin_start": 0.4,
            "bin_end": 0.6000000000000001,
            "count": 0
           },
           {
            "bin_start": 0.6000000000000001,
            "bin_end": 0.8,
            "count": 0
           },
           {
            "bin_start": 0.8,
            "bin_end": 1,
            "count": 0
           },
           {
            "bin_start": 1,
            "bin_end": 1.2000000000000002,
            "count": 7515
           },
           {
            "bin_start": 1.2000000000000002,
            "bin_end": 1.4000000000000001,
            "count": 0
           },
           {
            "bin_start": 1.4000000000000001,
            "bin_end": 1.6,
            "count": 0
           },
           {
            "bin_start": 1.6,
            "bin_end": 1.8,
            "count": 0
           },
           {
            "bin_start": 1.8,
            "bin_end": 2,
            "count": 2077
           }
          ]
         }
        },
        {
         "name": "building_id",
         "dtype": "int64",
         "stats": {
          "unique_count": 2931,
          "nan_count": 0,
          "min": "4",
          "max": "9734",
          "histogram": [
           {
            "bin_start": 4,
            "bin_end": 977,
            "count": 1149
           },
           {
            "bin_start": 977,
            "bin_end": 1950,
            "count": 1162
           },
           {
            "bin_start": 1950,
            "bin_end": 2923,
            "count": 920
           },
           {
            "bin_start": 2923,
            "bin_end": 3896,
            "count": 769
           },
           {
            "bin_start": 3896,
            "bin_end": 4869,
            "count": 1064
           },
           {
            "bin_start": 4869,
            "bin_end": 5842,
            "count": 1037
           },
           {
            "bin_start": 5842,
            "bin_end": 6815,
            "count": 1151
           },
           {
            "bin_start": 6815,
            "bin_end": 7788,
            "count": 1059
           },
           {
            "bin_start": 7788,
            "bin_end": 8761,
            "count": 841
           },
           {
            "bin_start": 8761,
            "bin_end": 9734,
            "count": 785
           }
          ]
         }
        },
        {
         "name": "new",
         "dtype": "int64"
        },
        {
         "name": "district",
         "dtype": "int64"
        },
        {
         "name": "street",
         "dtype": "object"
        },
        {
         "name": "constructed",
         "dtype": "int64"
        },
        {
         "name": "material",
         "dtype": "int64"
        },
        {
         "name": "elevator_without",
         "dtype": "int64"
        },
        {
         "name": "elevator_passenger",
         "dtype": "int64"
        },
        {
         "name": "elevator_service",
         "dtype": "int64"
        },
        {
         "name": "parking",
         "dtype": "int64"
        },
        {
         "name": "floor/stories",
         "dtype": "float64"
        },
        {
         "name": "distance",
         "dtype": "float64"
        },
        {
         "name": "_deepnote_index_column",
         "dtype": "int64"
        }
       ],
       "rows_top": [
        {
         "area_total": 71.4,
         "area_kitchen": 14.5531459279628,
         "area_living": 39.19458699421092,
         "rooms": 1,
         "bathrooms_shared": 0,
         "bathrooms_private": 0,
         "windows_court": 1,
         "windows_street": 0,
         "phones": 1,
         "building_id": 5148,
         "new": 0,
         "district": 0,
         "street": "2-я Черногрязская улица",
         "constructed": 2017,
         "material": 2,
         "elevator_without": 1,
         "elevator_passenger": 1,
         "elevator_service": 1,
         "parking": 0,
         "floor/stories": 0.1,
         "distance": 0.05241097794355376,
         "_deepnote_index_column": 0
        },
        {
         "area_total": 54,
         "area_kitchen": 4,
         "area_living": 50,
         "rooms": 1,
         "bathrooms_shared": 0,
         "bathrooms_private": 0,
         "windows_court": 1,
         "windows_street": 0,
         "phones": 1,
         "building_id": 1290,
         "new": 0,
         "district": 11,
         "street": "улица Сервантеса",
         "constructed": 2017,
         "material": 2,
         "elevator_without": 0,
         "elevator_passenger": 1,
         "elevator_service": 1,
         "parking": 0,
         "floor/stories": 0.26666666666666666,
         "distance": 0.21643576388850122,
         "_deepnote_index_column": 1
        },
        {
         "area_total": 39.4,
         "area_kitchen": 19.6,
         "area_living": 11.2,
         "rooms": 1,
         "bathrooms_shared": 1,
         "bathrooms_private": 0,
         "windows_court": 1,
         "windows_street": 0,
         "phones": 1,
         "building_id": 681,
         "new": 1,
         "district": 11,
         "street": "Саларьево Парк ЖК",
         "constructed": 2021,
         "material": 3,
         "elevator_without": 0,
         "elevator_passenger": 1,
         "elevator_service": 1,
         "parking": 1,
         "floor/stories": 1.1111111111111112,
         "distance": 0.22887870545990124,
         "_deepnote_index_column": 2
        },
        {
         "area_total": 60.9,
         "area_kitchen": 12.41297740914474,
         "area_living": 33.43067714212108,
         "rooms": 2,
         "bathrooms_shared": 1,
         "bathrooms_private": 0,
         "windows_court": 0,
         "windows_street": 1,
         "phones": 1,
         "building_id": 4261,
         "new": 0,
         "district": 11,
         "street": "улица Александры Монаховой",
         "constructed": 2014,
         "material": 2,
         "elevator_without": 1,
         "elevator_passenger": 1,
         "elevator_service": 0,
         "parking": 0,
         "floor/stories": 0.29411764705882354,
         "distance": 0.21739369540996625,
         "_deepnote_index_column": 3
        },
        {
         "area_total": 34,
         "area_kitchen": 9,
         "area_living": 17,
         "rooms": 1,
         "bathrooms_shared": 1,
         "bathrooms_private": 0,
         "windows_court": 1,
         "windows_street": 0,
         "phones": 1,
         "building_id": 7530,
         "new": 0,
         "district": 11,
         "street": "улица 3-я Нововатутинская",
         "constructed": 2016,
         "material": 2,
         "elevator_without": 0,
         "elevator_passenger": 1,
         "elevator_service": 1,
         "parking": 0,
         "floor/stories": 0.8235294117647058,
         "distance": 0.345584373087098,
         "_deepnote_index_column": 4
        },
        {
         "area_total": 40,
         "area_kitchen": 10,
         "area_living": 19,
         "rooms": 1,
         "bathrooms_shared": 1,
         "bathrooms_private": 0,
         "windows_court": 1,
         "windows_street": 0,
         "phones": 2,
         "building_id": 5719,
         "new": 0,
         "district": 11,
         "street": "улица Корнея Чуковского",
         "constructed": 2016,
         "material": 3,
         "elevator_without": 0,
         "elevator_passenger": 1,
         "elevator_service": 1,
         "parking": 0,
         "floor/stories": 0.8823529411764706,
         "distance": 0.2945416270699296,
         "_deepnote_index_column": 5
        },
        {
         "area_total": 61,
         "area_kitchen": 11.7,
         "area_living": 33.8,
         "rooms": 3,
         "bathrooms_shared": 0,
         "bathrooms_private": 2,
         "windows_court": 1,
         "windows_street": 1,
         "phones": 1,
         "building_id": 8478,
         "new": 1,
         "district": 11,
         "street": "Бунинские Луга ЖК",
         "constructed": 2021,
         "material": 3,
         "elevator_without": 0,
         "elevator_passenger": 1,
         "elevator_service": 1,
         "parking": 1,
         "floor/stories": 0.3333333333333333,
         "distance": 0.2393483510304599,
         "_deepnote_index_column": 6
        },
        {
         "area_total": 60,
         "area_kitchen": 12,
         "area_living": 32,
         "rooms": 2,
         "bathrooms_shared": 0,
         "bathrooms_private": 2,
         "windows_court": 1,
         "windows_street": 1,
         "phones": 2,
         "building_id": 2265,
         "new": 0,
         "district": 4,
         "street": "23-й км",
         "constructed": 2018,
         "material": 2,
         "elevator_without": 0,
         "elevator_passenger": 1,
         "elevator_service": 1,
         "parking": 2,
         "floor/stories": 0.84,
         "distance": 0.20949266211731635,
         "_deepnote_index_column": 7
        },
        {
         "area_total": 38,
         "area_kitchen": 7.5,
         "area_living": 19,
         "rooms": 1,
         "bathrooms_shared": 1,
         "bathrooms_private": 0,
         "windows_court": 0,
         "windows_street": 1,
         "phones": 1,
         "building_id": 6564,
         "new": 0,
         "district": 2,
         "street": "улица Радужная",
         "constructed": 2009,
         "material": 3,
         "elevator_without": 0,
         "elevator_passenger": 1,
         "elevator_service": 1,
         "parking": 0,
         "floor/stories": 1,
         "distance": 0.12578547015057634,
         "_deepnote_index_column": 8
        },
        {
         "area_total": 23.29,
         "area_kitchen": 4.747097600311674,
         "area_living": 12.784900995730704,
         "rooms": 1,
         "bathrooms_shared": 1,
         "bathrooms_private": 0,
         "windows_court": 1,
         "windows_street": 0,
         "phones": 1,
         "building_id": 7066,
         "new": 0,
         "district": 11,
         "street": "улица Василия Ощепкова",
         "constructed": 2021,
         "material": 3,
         "elevator_without": 1,
         "elevator_passenger": 1,
         "elevator_service": 1,
         "parking": 0,
         "floor/stories": 0.7333333333333333,
         "distance": 0.23887599866876855,
         "_deepnote_index_column": 9
        },
        {
         "area_total": 31.9,
         "area_kitchen": 6.502035785742482,
         "area_living": 17.51130707444437,
         "rooms": 1,
         "bathrooms_shared": 0,
         "bathrooms_private": 1,
         "windows_court": 1,
         "windows_street": 0,
         "phones": 1,
         "building_id": 245,
         "new": 0,
         "district": 11,
         "street": "улица Бачуринская",
         "constructed": 2016,
         "material": 2,
         "elevator_without": 1,
         "elevator_passenger": 1,
         "elevator_service": 0,
         "parking": 0,
         "floor/stories": 0.68,
         "distance": 0.21001156982413866,
         "_deepnote_index_column": 10
        },
        {
         "area_total": 38,
         "area_kitchen": 7.3,
         "area_living": 19,
         "rooms": 1,
         "bathrooms_shared": 0,
         "bathrooms_private": 1,
         "windows_court": 1,
         "windows_street": 0,
         "phones": 1,
         "building_id": 6564,
         "new": 0,
         "district": 2,
         "street": "улица Радужная",
         "constructed": 2009,
         "material": 3,
         "elevator_without": 0,
         "elevator_passenger": 1,
         "elevator_service": 1,
         "parking": 0,
         "floor/stories": 1,
         "distance": 0.12578547015057634,
         "_deepnote_index_column": 11
        },
        {
         "area_total": 31.9,
         "area_kitchen": 9,
         "area_living": 12,
         "rooms": 1,
         "bathrooms_shared": 1,
         "bathrooms_private": 0,
         "windows_court": 1,
         "windows_street": 0,
         "phones": 1,
         "building_id": 1953,
         "new": 0,
         "district": 11,
         "street": "улица Фитаревская",
         "constructed": 2014,
         "material": 2,
         "elevator_without": 1,
         "elevator_passenger": 1,
         "elevator_service": 1,
         "parking": 0,
         "floor/stories": 0.64,
         "distance": 0.2208456951380283,
         "_deepnote_index_column": 12
        },
        {
         "area_total": 47,
         "area_kitchen": 8,
         "area_living": 24,
         "rooms": 2,
         "bathrooms_shared": 0,
         "bathrooms_private": 1,
         "windows_court": 1,
         "windows_street": 0,
         "phones": 1,
         "building_id": 7255,
         "new": 0,
         "district": 11,
         "street": "бульвар Веласкеса",
         "constructed": 2018,
         "material": 2,
         "elevator_without": 1,
         "elevator_passenger": 1,
         "elevator_service": 1,
         "parking": 1,
         "floor/stories": 0.46153846153846156,
         "distance": 0.21100574979132292,
         "_deepnote_index_column": 13
        },
        {
         "area_total": 43,
         "area_kitchen": 8.764499648493,
         "area_living": 23.60458320379649,
         "rooms": 1,
         "bathrooms_shared": 1,
         "bathrooms_private": 0,
         "windows_court": 1,
         "windows_street": 0,
         "phones": 1,
         "building_id": 4113,
         "new": 0,
         "district": 11,
         "street": "улица Бианки",
         "constructed": 2016,
         "material": 3,
         "elevator_without": 1,
         "elevator_passenger": 1,
         "elevator_service": 1,
         "parking": 1,
         "floor/stories": 0.92,
         "distance": 0.2806666497341589,
         "_deepnote_index_column": 14
        },
        {
         "area_total": 46.74,
         "area_kitchen": 11.7,
         "area_living": 22.9,
         "rooms": 1,
         "bathrooms_shared": 0,
         "bathrooms_private": 1,
         "windows_court": 1,
         "windows_street": 0,
         "phones": 1,
         "building_id": 4972,
         "new": 0,
         "district": 11,
         "street": "улица Лазурная",
         "constructed": 2014,
         "material": 2,
         "elevator_without": 0,
         "elevator_passenger": 1,
         "elevator_service": 1,
         "parking": 1,
         "floor/stories": 0.5,
         "distance": 0.22403522600252013,
         "_deepnote_index_column": 15
        },
        {
         "area_total": 53,
         "area_kitchen": 18,
         "area_living": 21.4,
         "rooms": 2,
         "bathrooms_shared": 1,
         "bathrooms_private": 1,
         "windows_court": 1,
         "windows_street": 1,
         "phones": 2,
         "building_id": 1647,
         "new": 0,
         "district": 4,
         "street": "23-й км",
         "constructed": 2018,
         "material": 2,
         "elevator_without": 1,
         "elevator_passenger": 1,
         "elevator_service": 1,
         "parking": 2,
         "floor/stories": 0.72,
         "distance": 0.20949266211731635,
         "_deepnote_index_column": 16
        },
        {
         "area_total": 21.96,
         "area_kitchen": 5,
         "area_living": 8.3,
         "rooms": 1,
         "bathrooms_shared": 1,
         "bathrooms_private": 0,
         "windows_court": 1,
         "windows_street": 0,
         "phones": 1,
         "building_id": 3954,
         "new": 1,
         "district": 11,
         "street": "Филимонковское поселение",
         "constructed": 2021,
         "material": 2,
         "elevator_without": 1,
         "elevator_passenger": 1,
         "elevator_service": 1,
         "parking": 1,
         "floor/stories": 0.4444444444444444,
         "distance": 0.34867324070109124,
         "_deepnote_index_column": 17
        },
        {
         "area_total": 27,
         "area_kitchen": 6.9,
         "area_living": 11.5,
         "rooms": 1,
         "bathrooms_shared": 1,
         "bathrooms_private": 0,
         "windows_court": 1,
         "windows_street": 0,
         "phones": 2,
         "building_id": 2928,
         "new": 1,
         "district": 11,
         "street": "Новая Звезда ЖК",
         "constructed": 2020,
         "material": 2,
         "elevator_without": 1,
         "elevator_passenger": 1,
         "elevator_service": 1,
         "parking": 0,
         "floor/stories": 0.4166666666666667,
         "distance": 0.20823155387452982,
         "_deepnote_index_column": 18
        },
        {
         "area_total": 38,
         "area_kitchen": 12,
         "area_living": 16,
         "rooms": 1,
         "bathrooms_shared": 1,
         "bathrooms_private": 0,
         "windows_court": 0,
         "windows_street": 1,
         "phones": 1,
         "building_id": 3264,
         "new": 0,
         "district": 0,
         "street": "улица Троицкая",
         "constructed": 2005,
         "material": 0,
         "elevator_without": 1,
         "elevator_passenger": 0,
         "elevator_service": 0,
         "parking": 0,
         "floor/stories": 1,
         "distance": 0.032695669820331494,
         "_deepnote_index_column": 19
        },
        {
         "area_total": 41.8,
         "area_kitchen": 5,
         "area_living": 24.5,
         "rooms": 2,
         "bathrooms_shared": 1,
         "bathrooms_private": 0,
         "windows_court": 1,
         "windows_street": 0,
         "phones": 1,
         "building_id": 3954,
         "new": 1,
         "district": 11,
         "street": "Филимонковское поселение",
         "constructed": 2021,
         "material": 2,
         "elevator_without": 1,
         "elevator_passenger": 1,
         "elevator_service": 1,
         "parking": 1,
         "floor/stories": 0.5555555555555556,
         "distance": 0.34867324070109124,
         "_deepnote_index_column": 20
        },
        {
         "area_total": 38.5,
         "area_kitchen": 10,
         "area_living": 16,
         "rooms": 1,
         "bathrooms_shared": 1,
         "bathrooms_private": 0,
         "windows_court": 1,
         "windows_street": 0,
         "phones": 1,
         "building_id": 369,
         "new": 1,
         "district": 11,
         "street": "Кленовые Аллеи ЖК",
         "constructed": 2020,
         "material": 2,
         "elevator_without": 0,
         "elevator_passenger": 1,
         "elevator_service": 1,
         "parking": 1,
         "floor/stories": 0.06666666666666667,
         "distance": 0.34394392953502706,
         "_deepnote_index_column": 21
        },
        {
         "area_total": 33.4,
         "area_kitchen": 8,
         "area_living": 18,
         "rooms": 1,
         "bathrooms_shared": 1,
         "bathrooms_private": 0,
         "windows_court": 1,
         "windows_street": 0,
         "phones": 1,
         "building_id": 521,
         "new": 0,
         "district": 11,
         "street": "улица Фитаревская",
         "constructed": 2013,
         "material": 2,
         "elevator_without": 0,
         "elevator_passenger": 1,
         "elevator_service": 1,
         "parking": 0,
         "floor/stories": 0.8,
         "distance": 0.21938015616960527,
         "_deepnote_index_column": 22
        }
       ],
       "rows_bottom": [
        {
         "area_total": 64.3,
         "area_kitchen": 5.3,
         "area_living": 34.5,
         "rooms": 2,
         "bathrooms_shared": 1,
         "bathrooms_private": 0,
         "windows_court": 1,
         "windows_street": 0,
         "phones": 1,
         "building_id": 9538,
         "new": 1,
         "district": 8,
         "street": "улица Маршала Рыбалко",
         "constructed": 2011,
         "material": 2,
         "elevator_without": 1,
         "elevator_passenger": 1,
         "elevator_service": 1,
         "parking": 0,
         "floor/stories": 0.7777777777777778,
         "distance": 0.1134068021681275,
         "_deepnote_index_column": 9913
        },
        {
         "area_total": 100,
         "area_kitchen": 15,
         "area_living": 70,
         "rooms": 3,
         "bathrooms_shared": 2,
         "bathrooms_private": 0,
         "windows_court": 1,
         "windows_street": 0,
         "phones": 1,
         "building_id": 4304,
         "new": 0,
         "district": 1,
         "street": "Кочновский проезд",
         "constructed": 2008,
         "material": 2,
         "elevator_without": 1,
         "elevator_passenger": 1,
         "elevator_service": 1,
         "parking": 2,
         "floor/stories": 0.375,
         "distance": 0.07818043825024672,
         "_deepnote_index_column": 9914
        },
        {
         "area_total": 97,
         "area_kitchen": 9,
         "area_living": 68.1,
         "rooms": 3,
         "bathrooms_shared": 0,
         "bathrooms_private": 2,
         "windows_court": 1,
         "windows_street": 0,
         "phones": 1,
         "building_id": 7824,
         "new": 0,
         "district": 7,
         "street": "Рублевское шоссе",
         "constructed": 2019,
         "material": 2,
         "elevator_without": 1,
         "elevator_passenger": 1,
         "elevator_service": 1,
         "parking": 0,
         "floor/stories": 0.6923076923076923,
         "distance": 0.17801926846552157,
         "_deepnote_index_column": 9915
        },
        {
         "area_total": 49.3,
         "area_kitchen": 10.048600759783836,
         "area_living": 27.062929115050395,
         "rooms": 1,
         "bathrooms_shared": 0,
         "bathrooms_private": 0,
         "windows_court": 1,
         "windows_street": 0,
         "phones": 1,
         "building_id": 1480,
         "new": 1,
         "district": 7,
         "street": "Рублевское шоссе",
         "constructed": 2016,
         "material": 2,
         "elevator_without": 0,
         "elevator_passenger": 1,
         "elevator_service": 1,
         "parking": 0,
         "floor/stories": 0.3333333333333333,
         "distance": 0.22571342236782904,
         "_deepnote_index_column": 9916
        },
        {
         "area_total": 119.8,
         "area_kitchen": 21.6,
         "area_living": 64,
         "rooms": 4,
         "bathrooms_shared": 1,
         "bathrooms_private": 3,
         "windows_court": 1,
         "windows_street": 0,
         "phones": 1,
         "building_id": 2403,
         "new": 1,
         "district": 6,
         "street": "Ленинский проспект",
         "constructed": 2018,
         "material": 2,
         "elevator_without": 0,
         "elevator_passenger": 1,
         "elevator_service": 1,
         "parking": 0,
         "floor/stories": 0.8181818181818182,
         "distance": 0.1080342730294371,
         "_deepnote_index_column": 9917
        },
        {
         "area_total": 94.3,
         "area_kitchen": 19.22075155471837,
         "area_living": 51.76539990972114,
         "rooms": 3,
         "bathrooms_shared": 0,
         "bathrooms_private": 0,
         "windows_court": 1,
         "windows_street": 0,
         "phones": 1,
         "building_id": 1480,
         "new": 1,
         "district": 7,
         "street": "Рублевское шоссе",
         "constructed": 2016,
         "material": 2,
         "elevator_without": 0,
         "elevator_passenger": 1,
         "elevator_service": 1,
         "parking": 0,
         "floor/stories": 0.6666666666666666,
         "distance": 0.22571342236782904,
         "_deepnote_index_column": 9918
        },
        {
         "area_total": 95.1,
         "area_kitchen": 19.383812013294985,
         "area_living": 52.20455494607084,
         "rooms": 3,
         "bathrooms_shared": 0,
         "bathrooms_private": 0,
         "windows_court": 1,
         "windows_street": 0,
         "phones": 1,
         "building_id": 1277,
         "new": 0,
         "district": 7,
         "street": "Рублевское шоссе",
         "constructed": 2017,
         "material": 2,
         "elevator_without": 1,
         "elevator_passenger": 1,
         "elevator_service": 1,
         "parking": 0,
         "floor/stories": 0.9166666666666666,
         "distance": 0.22289175110129228,
         "_deepnote_index_column": 9919
        },
        {
         "area_total": 51.1,
         "area_kitchen": 18.1,
         "area_living": 16.9,
         "rooms": 1,
         "bathrooms_shared": 1,
         "bathrooms_private": 0,
         "windows_court": 1,
         "windows_street": 0,
         "phones": 1,
         "building_id": 2403,
         "new": 1,
         "district": 6,
         "street": "Ленинский проспект",
         "constructed": 2018,
         "material": 2,
         "elevator_without": 0,
         "elevator_passenger": 1,
         "elevator_service": 1,
         "parking": 0,
         "floor/stories": 0.7878787878787878,
         "distance": 0.1080342730294371,
         "_deepnote_index_column": 9920
        },
        {
         "area_total": 78.6,
         "area_kitchen": 22.8,
         "area_living": 33.2,
         "rooms": 2,
         "bathrooms_shared": 0,
         "bathrooms_private": 2,
         "windows_court": 1,
         "windows_street": 0,
         "phones": 1,
         "building_id": 2403,
         "new": 1,
         "district": 6,
         "street": "Ленинский проспект",
         "constructed": 2018,
         "material": 2,
         "elevator_without": 0,
         "elevator_passenger": 1,
         "elevator_service": 1,
         "parking": 0,
         "floor/stories": 0.5454545454545454,
         "distance": 0.1080342730294371,
         "_deepnote_index_column": 9921
        },
        {
         "area_total": 119.8,
         "area_kitchen": 19.6,
         "area_living": 54.6,
         "rooms": 4,
         "bathrooms_shared": 0,
         "bathrooms_private": 0,
         "windows_court": 1,
         "windows_street": 0,
         "phones": 1,
         "building_id": 2403,
         "new": 1,
         "district": 6,
         "street": "Ленинский проспект",
         "constructed": 2018,
         "material": 2,
         "elevator_without": 0,
         "elevator_passenger": 1,
         "elevator_service": 1,
         "parking": 0,
         "floor/stories": 0.7878787878787878,
         "distance": 0.1080342730294371,
         "_deepnote_index_column": 9922
        },
        {
         "area_total": 54.7,
         "area_kitchen": 5.5,
         "area_living": 36.9,
         "rooms": 3,
         "bathrooms_shared": 1,
         "bathrooms_private": 0,
         "windows_court": 1,
         "windows_street": 0,
         "phones": 1,
         "building_id": 5407,
         "new": 0,
         "district": 6,
         "street": "Большая Черемушкинская улица",
         "constructed": 1963,
         "material": 4,
         "elevator_without": 1,
         "elevator_passenger": 0,
         "elevator_service": 0,
         "parking": 0,
         "floor/stories": 0.4,
         "distance": 0.06485185848531709,
         "_deepnote_index_column": 9923
        },
        {
         "area_total": 94.68,
         "area_kitchen": 12.6,
         "area_living": 51.97399855198725,
         "rooms": 3,
         "bathrooms_shared": 0,
         "bathrooms_private": 0,
         "windows_court": 1,
         "windows_street": 0,
         "phones": 0,
         "building_id": 6044,
         "new": 1,
         "district": 7,
         "street": "улица Лобачевского",
         "constructed": 2021,
         "material": 2,
         "elevator_without": 0,
         "elevator_passenger": 1,
         "elevator_service": 1,
         "parking": 0,
         "floor/stories": 0.8974358974358975,
         "distance": 0.1409299964982589,
         "_deepnote_index_column": 9924
        },
        {
         "area_total": 78.6,
         "area_kitchen": 19.8,
         "area_living": 37.7,
         "rooms": 2,
         "bathrooms_shared": 0,
         "bathrooms_private": 0,
         "windows_court": 1,
         "windows_street": 0,
         "phones": 1,
         "building_id": 2403,
         "new": 1,
         "district": 6,
         "street": "Ленинский проспект",
         "constructed": 2018,
         "material": 2,
         "elevator_without": 0,
         "elevator_passenger": 1,
         "elevator_service": 1,
         "parking": 0,
         "floor/stories": 0.5757575757575758,
         "distance": 0.1080342730294371,
         "_deepnote_index_column": 9925
        },
        {
         "area_total": 90.5,
         "area_kitchen": 27.2,
         "area_living": 38.3,
         "rooms": 2,
         "bathrooms_shared": 2,
         "bathrooms_private": 0,
         "windows_court": 1,
         "windows_street": 0,
         "phones": 1,
         "building_id": 2051,
         "new": 1,
         "district": 7,
         "street": "Гжатская улица",
         "constructed": 2020,
         "material": 0,
         "elevator_without": 0,
         "elevator_passenger": 1,
         "elevator_service": 1,
         "parking": 1,
         "floor/stories": 0.5217391304347826,
         "distance": 0.16439345466289101,
         "_deepnote_index_column": 9926
        },
        {
         "area_total": 73.4,
         "area_kitchen": 14.960797074404333,
         "area_living": 40.29247458508517,
         "rooms": 2,
         "bathrooms_shared": 0,
         "bathrooms_private": 0,
         "windows_court": 1,
         "windows_street": 0,
         "phones": 1,
         "building_id": 1480,
         "new": 1,
         "district": 7,
         "street": "Рублевское шоссе",
         "constructed": 2016,
         "material": 2,
         "elevator_without": 0,
         "elevator_passenger": 1,
         "elevator_service": 1,
         "parking": 0,
         "floor/stories": 0.375,
         "distance": 0.22571342236782904,
         "_deepnote_index_column": 9927
        },
        {
         "area_total": 97.4,
         "area_kitchen": 18.3,
         "area_living": 41.5,
         "rooms": 2,
         "bathrooms_shared": 1,
         "bathrooms_private": 1,
         "windows_court": 1,
         "windows_street": 1,
         "phones": 1,
         "building_id": 1344,
         "new": 0,
         "district": 0,
         "street": "Малая Пироговская улица",
         "constructed": 2015,
         "material": 0,
         "elevator_without": 1,
         "elevator_passenger": 1,
         "elevator_service": 1,
         "parking": 2,
         "floor/stories": 0.9166666666666666,
         "distance": 0.03588226269342843,
         "_deepnote_index_column": 9928
        },
        {
         "area_total": 303.5,
         "area_kitchen": 27,
         "area_living": 119.6,
         "rooms": 5,
         "bathrooms_shared": 3,
         "bathrooms_private": 0,
         "windows_court": 1,
         "windows_street": 1,
         "phones": 1,
         "building_id": 1344,
         "new": 0,
         "district": 0,
         "street": "Малая Пироговская улица",
         "constructed": 2015,
         "material": 0,
         "elevator_without": 1,
         "elevator_passenger": 1,
         "elevator_service": 1,
         "parking": 2,
         "floor/stories": 0.16666666666666666,
         "distance": 0.03588226269342843,
         "_deepnote_index_column": 9929
        },
        {
         "area_total": 181.2,
         "area_kitchen": 27,
         "area_living": 119.6,
         "rooms": 4,
         "bathrooms_shared": 3,
         "bathrooms_private": 0,
         "windows_court": 1,
         "windows_street": 1,
         "phones": 1,
         "building_id": 1344,
         "new": 0,
         "district": 0,
         "street": "Малая Пироговская улица",
         "constructed": 2015,
         "material": 0,
         "elevator_without": 1,
         "elevator_passenger": 1,
         "elevator_service": 1,
         "parking": 2,
         "floor/stories": 0.9166666666666666,
         "distance": 0.03588226269342843,
         "_deepnote_index_column": 9930
        },
        {
         "area_total": 82.5,
         "area_kitchen": 16.815609790713317,
         "area_living": 49,
         "rooms": 2,
         "bathrooms_shared": 0,
         "bathrooms_private": 2,
         "windows_court": 1,
         "windows_street": 0,
         "phones": 1,
         "building_id": 8510,
         "new": 0,
         "district": 0,
         "street": "улица Сергея Макеева",
         "constructed": 2017,
         "material": 2,
         "elevator_without": 1,
         "elevator_passenger": 0,
         "elevator_service": 0,
         "parking": 2,
         "floor/stories": 0.29411764705882354,
         "distance": 0.05078586639016782,
         "_deepnote_index_column": 9931
        },
        {
         "area_total": 106,
         "area_kitchen": 19.9,
         "area_living": 56.7,
         "rooms": 3,
         "bathrooms_shared": 0,
         "bathrooms_private": 0,
         "windows_court": 1,
         "windows_street": 0,
         "phones": 1,
         "building_id": 4252,
         "new": 1,
         "district": 8,
         "street": "улица Паршина",
         "constructed": 2020,
         "material": 2,
         "elevator_without": 0,
         "elevator_passenger": 1,
         "elevator_service": 1,
         "parking": 0,
         "floor/stories": 0.8,
         "distance": 0.14893454107090123,
         "_deepnote_index_column": 9932
        },
        {
         "area_total": 82,
         "area_kitchen": 16.713697004102933,
         "area_living": 45.01339122584447,
         "rooms": 3,
         "bathrooms_shared": 2,
         "bathrooms_private": 0,
         "windows_court": 1,
         "windows_street": 0,
         "phones": 2,
         "building_id": 7380,
         "new": 1,
         "district": 7,
         "street": "Западный Порт ЖК",
         "constructed": 2021,
         "material": 2,
         "elevator_without": 0,
         "elevator_passenger": 1,
         "elevator_service": 1,
         "parking": 1,
         "floor/stories": 0.15,
         "distance": 0.08375603811666232,
         "_deepnote_index_column": 9933
        },
        {
         "area_total": 49.3,
         "area_kitchen": 10.048600759783836,
         "area_living": 27.062929115050395,
         "rooms": 1,
         "bathrooms_shared": 0,
         "bathrooms_private": 0,
         "windows_court": 1,
         "windows_street": 0,
         "phones": 1,
         "building_id": 1480,
         "new": 1,
         "district": 7,
         "street": "Рублевское шоссе",
         "constructed": 2016,
         "material": 2,
         "elevator_without": 0,
         "elevator_passenger": 1,
         "elevator_service": 1,
         "parking": 0,
         "floor/stories": 0.625,
         "distance": 0.22571342236782904,
         "_deepnote_index_column": 9934
        },
        {
         "area_total": 38.8,
         "area_kitchen": 10.5,
         "area_living": 15.1,
         "rooms": 1,
         "bathrooms_shared": 1,
         "bathrooms_private": 0,
         "windows_court": 0,
         "windows_street": 1,
         "phones": 2,
         "building_id": 2154,
         "new": 0,
         "district": 5,
         "street": "улица Архитектора Щусева",
         "constructed": 2019,
         "material": 2,
         "elevator_without": 1,
         "elevator_passenger": 1,
         "elevator_service": 1,
         "parking": 0,
         "floor/stories": 1,
         "distance": 0.06235606416379605,
         "_deepnote_index_column": 9935
        },
        {
         "area_total": 71.5,
         "area_kitchen": 7,
         "area_living": 49,
         "rooms": 3,
         "bathrooms_shared": 0,
         "bathrooms_private": 0,
         "windows_court": 1,
         "windows_street": 0,
         "phones": 0,
         "building_id": 3007,
         "new": 0,
         "district": 10,
         "street": "Ильичевка хут.",
         "constructed": 2021,
         "material": 2,
         "elevator_without": 0,
         "elevator_passenger": 1,
         "elevator_service": 1,
         "parking": 0,
         "floor/stories": 1,
         "distance": 0.4070654756534905,
         "_deepnote_index_column": 9936
        }
       ]
      },
      "text/plain": "      area_total  area_kitchen  area_living  rooms  bathrooms_shared  \\\n0           71.4     14.553146    39.194587      1                 0   \n1           54.0      4.000000    50.000000      1                 0   \n2           39.4     19.600000    11.200000      1                 1   \n3           60.9     12.412977    33.430677      2                 1   \n4           34.0      9.000000    17.000000      1                 1   \n...          ...           ...          ...    ...               ...   \n9932       106.0     19.900000    56.700000      3                 0   \n9933        82.0     16.713697    45.013391      3                 2   \n9934        49.3     10.048601    27.062929      1                 0   \n9935        38.8     10.500000    15.100000      1                 1   \n9936        71.5      7.000000    49.000000      3                 0   \n\n      bathrooms_private  windows_court  windows_street  phones  building_id  \\\n0                     0              1               0       1         5148   \n1                     0              1               0       1         1290   \n2                     0              1               0       1          681   \n3                     0              0               1       1         4261   \n4                     0              1               0       1         7530   \n...                 ...            ...             ...     ...          ...   \n9932                  0              1               0       1         4252   \n9933                  0              1               0       2         7380   \n9934                  0              1               0       1         1480   \n9935                  0              0               1       2         2154   \n9936                  0              1               0       0         3007   \n\n      ...  district                      street constructed  material  \\\n0     ...         0     2-я Черногрязская улица        2017         2   \n1     ...        11            улица Сервантеса        2017         2   \n2     ...        11           Саларьево Парк ЖК        2021         3   \n3     ...        11  улица Александры Монаховой        2014         2   \n4     ...        11   улица 3-я Нововатутинская        2016         2   \n...   ...       ...                         ...         ...       ...   \n9932  ...         8               улица Паршина        2020         2   \n9933  ...         7            Западный Порт ЖК        2021         2   \n9934  ...         7            Рублевское шоссе        2016         2   \n9935  ...         5    улица Архитектора Щусева        2019         2   \n9936  ...        10              Ильичевка хут.        2021         2   \n\n      elevator_without  elevator_passenger  elevator_service  parking  \\\n0                    1                   1                 1        0   \n1                    0                   1                 1        0   \n2                    0                   1                 1        1   \n3                    1                   1                 0        0   \n4                    0                   1                 1        0   \n...                ...                 ...               ...      ...   \n9932                 0                   1                 1        0   \n9933                 0                   1                 1        1   \n9934                 0                   1                 1        0   \n9935                 1                   1                 1        0   \n9936                 0                   1                 1        0   \n\n      floor/stories  distance  \n0          0.100000  0.052411  \n1          0.266667  0.216436  \n2          1.111111  0.228879  \n3          0.294118  0.217394  \n4          0.823529  0.345584  \n...             ...       ...  \n9932       0.800000  0.148935  \n9933       0.150000  0.083756  \n9934       0.625000  0.225713  \n9935       1.000000  0.062356  \n9936       1.000000  0.407065  \n\n[9937 rows x 21 columns]",
      "text/html": "<div>\n<style scoped>\n    .dataframe tbody tr th:only-of-type {\n        vertical-align: middle;\n    }\n\n    .dataframe tbody tr th {\n        vertical-align: top;\n    }\n\n    .dataframe thead th {\n        text-align: right;\n    }\n</style>\n<table border=\"1\" class=\"dataframe\">\n  <thead>\n    <tr style=\"text-align: right;\">\n      <th></th>\n      <th>area_total</th>\n      <th>area_kitchen</th>\n      <th>area_living</th>\n      <th>rooms</th>\n      <th>bathrooms_shared</th>\n      <th>bathrooms_private</th>\n      <th>windows_court</th>\n      <th>windows_street</th>\n      <th>phones</th>\n      <th>building_id</th>\n      <th>...</th>\n      <th>district</th>\n      <th>street</th>\n      <th>constructed</th>\n      <th>material</th>\n      <th>elevator_without</th>\n      <th>elevator_passenger</th>\n      <th>elevator_service</th>\n      <th>parking</th>\n      <th>floor/stories</th>\n      <th>distance</th>\n    </tr>\n  </thead>\n  <tbody>\n    <tr>\n      <th>0</th>\n      <td>71.4</td>\n      <td>14.553146</td>\n      <td>39.194587</td>\n      <td>1</td>\n      <td>0</td>\n      <td>0</td>\n      <td>1</td>\n      <td>0</td>\n      <td>1</td>\n      <td>5148</td>\n      <td>...</td>\n      <td>0</td>\n      <td>2-я Черногрязская улица</td>\n      <td>2017</td>\n      <td>2</td>\n      <td>1</td>\n      <td>1</td>\n      <td>1</td>\n      <td>0</td>\n      <td>0.100000</td>\n      <td>0.052411</td>\n    </tr>\n    <tr>\n      <th>1</th>\n      <td>54.0</td>\n      <td>4.000000</td>\n      <td>50.000000</td>\n      <td>1</td>\n      <td>0</td>\n      <td>0</td>\n      <td>1</td>\n      <td>0</td>\n      <td>1</td>\n      <td>1290</td>\n      <td>...</td>\n      <td>11</td>\n      <td>улица Сервантеса</td>\n      <td>2017</td>\n      <td>2</td>\n      <td>0</td>\n      <td>1</td>\n      <td>1</td>\n      <td>0</td>\n      <td>0.266667</td>\n      <td>0.216436</td>\n    </tr>\n    <tr>\n      <th>2</th>\n      <td>39.4</td>\n      <td>19.600000</td>\n      <td>11.200000</td>\n      <td>1</td>\n      <td>1</td>\n      <td>0</td>\n      <td>1</td>\n      <td>0</td>\n      <td>1</td>\n      <td>681</td>\n      <td>...</td>\n      <td>11</td>\n      <td>Саларьево Парк ЖК</td>\n      <td>2021</td>\n      <td>3</td>\n      <td>0</td>\n      <td>1</td>\n      <td>1</td>\n      <td>1</td>\n      <td>1.111111</td>\n      <td>0.228879</td>\n    </tr>\n    <tr>\n      <th>3</th>\n      <td>60.9</td>\n      <td>12.412977</td>\n      <td>33.430677</td>\n      <td>2</td>\n      <td>1</td>\n      <td>0</td>\n      <td>0</td>\n      <td>1</td>\n      <td>1</td>\n      <td>4261</td>\n      <td>...</td>\n      <td>11</td>\n      <td>улица Александры Монаховой</td>\n      <td>2014</td>\n      <td>2</td>\n      <td>1</td>\n      <td>1</td>\n      <td>0</td>\n      <td>0</td>\n      <td>0.294118</td>\n      <td>0.217394</td>\n    </tr>\n    <tr>\n      <th>4</th>\n      <td>34.0</td>\n      <td>9.000000</td>\n      <td>17.000000</td>\n      <td>1</td>\n      <td>1</td>\n      <td>0</td>\n      <td>1</td>\n      <td>0</td>\n      <td>1</td>\n      <td>7530</td>\n      <td>...</td>\n      <td>11</td>\n      <td>улица 3-я Нововатутинская</td>\n      <td>2016</td>\n      <td>2</td>\n      <td>0</td>\n      <td>1</td>\n      <td>1</td>\n      <td>0</td>\n      <td>0.823529</td>\n      <td>0.345584</td>\n    </tr>\n    <tr>\n      <th>...</th>\n      <td>...</td>\n      <td>...</td>\n      <td>...</td>\n      <td>...</td>\n      <td>...</td>\n      <td>...</td>\n      <td>...</td>\n      <td>...</td>\n      <td>...</td>\n      <td>...</td>\n      <td>...</td>\n      <td>...</td>\n      <td>...</td>\n      <td>...</td>\n      <td>...</td>\n      <td>...</td>\n      <td>...</td>\n      <td>...</td>\n      <td>...</td>\n      <td>...</td>\n      <td>...</td>\n    </tr>\n    <tr>\n      <th>9932</th>\n      <td>106.0</td>\n      <td>19.900000</td>\n      <td>56.700000</td>\n      <td>3</td>\n      <td>0</td>\n      <td>0</td>\n      <td>1</td>\n      <td>0</td>\n      <td>1</td>\n      <td>4252</td>\n      <td>...</td>\n      <td>8</td>\n      <td>улица Паршина</td>\n      <td>2020</td>\n      <td>2</td>\n      <td>0</td>\n      <td>1</td>\n      <td>1</td>\n      <td>0</td>\n      <td>0.800000</td>\n      <td>0.148935</td>\n    </tr>\n    <tr>\n      <th>9933</th>\n      <td>82.0</td>\n      <td>16.713697</td>\n      <td>45.013391</td>\n      <td>3</td>\n      <td>2</td>\n      <td>0</td>\n      <td>1</td>\n      <td>0</td>\n      <td>2</td>\n      <td>7380</td>\n      <td>...</td>\n      <td>7</td>\n      <td>Западный Порт ЖК</td>\n      <td>2021</td>\n      <td>2</td>\n      <td>0</td>\n      <td>1</td>\n      <td>1</td>\n      <td>1</td>\n      <td>0.150000</td>\n      <td>0.083756</td>\n    </tr>\n    <tr>\n      <th>9934</th>\n      <td>49.3</td>\n      <td>10.048601</td>\n      <td>27.062929</td>\n      <td>1</td>\n      <td>0</td>\n      <td>0</td>\n      <td>1</td>\n      <td>0</td>\n      <td>1</td>\n      <td>1480</td>\n      <td>...</td>\n      <td>7</td>\n      <td>Рублевское шоссе</td>\n      <td>2016</td>\n      <td>2</td>\n      <td>0</td>\n      <td>1</td>\n      <td>1</td>\n      <td>0</td>\n      <td>0.625000</td>\n      <td>0.225713</td>\n    </tr>\n    <tr>\n      <th>9935</th>\n      <td>38.8</td>\n      <td>10.500000</td>\n      <td>15.100000</td>\n      <td>1</td>\n      <td>1</td>\n      <td>0</td>\n      <td>0</td>\n      <td>1</td>\n      <td>2</td>\n      <td>2154</td>\n      <td>...</td>\n      <td>5</td>\n      <td>улица Архитектора Щусева</td>\n      <td>2019</td>\n      <td>2</td>\n      <td>1</td>\n      <td>1</td>\n      <td>1</td>\n      <td>0</td>\n      <td>1.000000</td>\n      <td>0.062356</td>\n    </tr>\n    <tr>\n      <th>9936</th>\n      <td>71.5</td>\n      <td>7.000000</td>\n      <td>49.000000</td>\n      <td>3</td>\n      <td>0</td>\n      <td>0</td>\n      <td>1</td>\n      <td>0</td>\n      <td>0</td>\n      <td>3007</td>\n      <td>...</td>\n      <td>10</td>\n      <td>Ильичевка хут.</td>\n      <td>2021</td>\n      <td>2</td>\n      <td>0</td>\n      <td>1</td>\n      <td>1</td>\n      <td>0</td>\n      <td>1.000000</td>\n      <td>0.407065</td>\n    </tr>\n  </tbody>\n</table>\n<p>9937 rows × 21 columns</p>\n</div>"
     },
     "metadata": {}
    }
   ],
   "execution_count": null
  },
  {
   "cell_type": "code",
   "metadata": {
    "tags": [],
    "cell_id": "00002-fd645a16-d2bc-4ee0-90c3-a6f02702f085",
    "deepnote_to_be_reexecuted": false,
    "source_hash": "797f3474",
    "execution_start": 1637264438010,
    "execution_millis": 0,
    "deepnote_cell_type": "code"
   },
   "source": "#y1 = df_train.price.values\n#X1 = df_train.drop(['id','price', 'street', 'address'], axis=1)\n#X1_test = df_test.drop(['id', 'street', 'address'], axis=1)\n#categorical_features_indices = np.where(X1.dtypes != np.float64)[0]\n#categorical_features_indices = np.where(X1_test.dtypes != np.float64)[0]\ncat_feature_indices = np.array([3, 4, 5, 6, 7, 8, 9, 10, 11, 12, 13, 14, 15, 16, 17])",
   "outputs": [],
   "execution_count": null
  },
  {
   "cell_type": "code",
   "metadata": {
    "tags": [],
    "cell_id": "00003-2d6b6b52-e5ea-41b7-af63-9d6735eced26",
    "deepnote_to_be_reexecuted": false,
    "source_hash": "8e89e5b2",
    "execution_start": 1637264438011,
    "execution_millis": 2,
    "deepnote_output_heights": [
     21
    ],
    "deepnote_cell_type": "code"
   },
   "source": "X_train, X_val, y_train, y_val = train_test_split(X1, y1, test_size=0.2, random_state=1, shuffle=True)\nX_train.shape, X_val.shape, y_train.shape,y_val.shape, X1_test.shape\n",
   "outputs": [
    {
     "output_type": "execute_result",
     "execution_count": 7,
     "data": {
      "text/plain": "((18628, 21), (4657, 21), (18628,), (4657,), (9937, 21))"
     },
     "metadata": {}
    }
   ],
   "execution_count": null
  },
  {
   "cell_type": "code",
   "source": "# Drop are_total, price\n# Kepp area_total as numpy arrays ",
   "metadata": {
    "tags": [],
    "cell_id": "00008-08870bbc-02ec-4e45-8ea2-85cf0cabce35",
    "deepnote_to_be_reexecuted": false,
    "source_hash": "d7806c28",
    "execution_start": 1637264438012,
    "execution_millis": 0,
    "deepnote_cell_type": "code"
   },
   "outputs": [],
   "execution_count": null
  },
  {
   "cell_type": "code",
   "source": "area_total_train = X_train.area_total.values\narea_total_val = X_val.area_total.values\nX_train = X_train.drop(['area_total'], axis=1)\nX_val = X_val.drop(['area_total'], axis=1)\nX_train.head()",
   "metadata": {
    "tags": [],
    "cell_id": "00008-f12502d0-d399-4d54-94a9-29a2781a76d8",
    "deepnote_to_be_reexecuted": false,
    "source_hash": "b1f3fed8",
    "execution_start": 1637264438067,
    "execution_millis": 24,
    "deepnote_cell_type": "code"
   },
   "outputs": [
    {
     "output_type": "execute_result",
     "execution_count": 9,
     "data": {
      "application/vnd.deepnote.dataframe.v2+json": {
       "row_count": 5,
       "column_count": 20,
       "columns": [
        {
         "name": "area_kitchen",
         "dtype": "float64",
         "stats": {
          "unique_count": 5,
          "nan_count": 0,
          "min": "5.4",
          "max": "9.0",
          "histogram": [
           {
            "bin_start": 5.4,
            "bin_end": 5.760000000000001,
            "count": 1
           },
           {
            "bin_start": 5.760000000000001,
            "bin_end": 6.12,
            "count": 1
           },
           {
            "bin_start": 6.12,
            "bin_end": 6.48,
            "count": 0
           },
           {
            "bin_start": 6.48,
            "bin_end": 6.84,
            "count": 1
           },
           {
            "bin_start": 6.84,
            "bin_end": 7.2,
            "count": 0
           },
           {
            "bin_start": 7.2,
            "bin_end": 7.5600000000000005,
            "count": 1
           },
           {
            "bin_start": 7.5600000000000005,
            "bin_end": 7.92,
            "count": 0
           },
           {
            "bin_start": 7.92,
            "bin_end": 8.280000000000001,
            "count": 0
           },
           {
            "bin_start": 8.280000000000001,
            "bin_end": 8.64,
            "count": 0
           },
           {
            "bin_start": 8.64,
            "bin_end": 9,
            "count": 1
           }
          ]
         }
        },
        {
         "name": "area_living",
         "dtype": "float64",
         "stats": {
          "unique_count": 5,
          "nan_count": 0,
          "min": "19.542399117561747",
          "max": "48.9",
          "histogram": [
           {
            "bin_start": 19.542399117561747,
            "bin_end": 22.47815920580557,
            "count": 3
           },
           {
            "bin_start": 22.47815920580557,
            "bin_end": 25.413919294049396,
            "count": 0
           },
           {
            "bin_start": 25.413919294049396,
            "bin_end": 28.349679382293225,
            "count": 0
           },
           {
            "bin_start": 28.349679382293225,
            "bin_end": 31.28543947053705,
            "count": 0
           },
           {
            "bin_start": 31.28543947053705,
            "bin_end": 34.221199558780874,
            "count": 1
           },
           {
            "bin_start": 34.221199558780874,
            "bin_end": 37.1569596470247,
            "count": 0
           },
           {
            "bin_start": 37.1569596470247,
            "bin_end": 40.092719735268524,
            "count": 0
           },
           {
            "bin_start": 40.092719735268524,
            "bin_end": 43.02847982351235,
            "count": 0
           },
           {
            "bin_start": 43.02847982351235,
            "bin_end": 45.964239911756174,
            "count": 0
           },
           {
            "bin_start": 45.964239911756174,
            "bin_end": 48.9,
            "count": 1
           }
          ]
         }
        },
        {
         "name": "rooms",
         "dtype": "int64",
         "stats": {
          "unique_count": 2,
          "nan_count": 0,
          "min": "1",
          "max": "2",
          "histogram": [
           {
            "bin_start": 1,
            "bin_end": 1.1,
            "count": 3
           },
           {
            "bin_start": 1.1,
            "bin_end": 1.2,
            "count": 0
           },
           {
            "bin_start": 1.2,
            "bin_end": 1.3,
            "count": 0
           },
           {
            "bin_start": 1.3,
            "bin_end": 1.4,
            "count": 0
           },
           {
            "bin_start": 1.4,
            "bin_end": 1.5,
            "count": 0
           },
           {
            "bin_start": 1.5,
            "bin_end": 1.6,
            "count": 0
           },
           {
            "bin_start": 1.6,
            "bin_end": 1.7000000000000002,
            "count": 0
           },
           {
            "bin_start": 1.7000000000000002,
            "bin_end": 1.8,
            "count": 0
           },
           {
            "bin_start": 1.8,
            "bin_end": 1.9,
            "count": 0
           },
           {
            "bin_start": 1.9,
            "bin_end": 2,
            "count": 2
           }
          ]
         }
        },
        {
         "name": "bathrooms_shared",
         "dtype": "int64",
         "stats": {
          "unique_count": 2,
          "nan_count": 0,
          "min": "0",
          "max": "1",
          "histogram": [
           {
            "bin_start": 0,
            "bin_end": 0.1,
            "count": 3
           },
           {
            "bin_start": 0.1,
            "bin_end": 0.2,
            "count": 0
           },
           {
            "bin_start": 0.2,
            "bin_end": 0.30000000000000004,
            "count": 0
           },
           {
            "bin_start": 0.30000000000000004,
            "bin_end": 0.4,
            "count": 0
           },
           {
            "bin_start": 0.4,
            "bin_end": 0.5,
            "count": 0
           },
           {
            "bin_start": 0.5,
            "bin_end": 0.6000000000000001,
            "count": 0
           },
           {
            "bin_start": 0.6000000000000001,
            "bin_end": 0.7000000000000001,
            "count": 0
           },
           {
            "bin_start": 0.7000000000000001,
            "bin_end": 0.8,
            "count": 0
           },
           {
            "bin_start": 0.8,
            "bin_end": 0.9,
            "count": 0
           },
           {
            "bin_start": 0.9,
            "bin_end": 1,
            "count": 2
           }
          ]
         }
        },
        {
         "name": "bathrooms_private",
         "dtype": "int64",
         "stats": {
          "unique_count": 3,
          "nan_count": 0,
          "min": "0",
          "max": "2",
          "histogram": [
           {
            "bin_start": 0,
            "bin_end": 0.2,
            "count": 2
           },
           {
            "bin_start": 0.2,
            "bin_end": 0.4,
            "count": 0
           },
           {
            "bin_start": 0.4,
            "bin_end": 0.6000000000000001,
            "count": 0
           },
           {
            "bin_start": 0.6000000000000001,
            "bin_end": 0.8,
            "count": 0
           },
           {
            "bin_start": 0.8,
            "bin_end": 1,
            "count": 0
           },
           {
            "bin_start": 1,
            "bin_end": 1.2000000000000002,
            "count": 2
           },
           {
            "bin_start": 1.2000000000000002,
            "bin_end": 1.4000000000000001,
            "count": 0
           },
           {
            "bin_start": 1.4000000000000001,
            "bin_end": 1.6,
            "count": 0
           },
           {
            "bin_start": 1.6,
            "bin_end": 1.8,
            "count": 0
           },
           {
            "bin_start": 1.8,
            "bin_end": 2,
            "count": 1
           }
          ]
         }
        },
        {
         "name": "windows_court",
         "dtype": "int64",
         "stats": {
          "unique_count": 1,
          "nan_count": 0,
          "min": "1",
          "max": "1",
          "histogram": [
           {
            "bin_start": 0.5,
            "bin_end": 0.6,
            "count": 0
           },
           {
            "bin_start": 0.6,
            "bin_end": 0.7,
            "count": 0
           },
           {
            "bin_start": 0.7,
            "bin_end": 0.8,
            "count": 0
           },
           {
            "bin_start": 0.8,
            "bin_end": 0.9,
            "count": 0
           },
           {
            "bin_start": 0.9,
            "bin_end": 1,
            "count": 0
           },
           {
            "bin_start": 1,
            "bin_end": 1.1,
            "count": 5
           },
           {
            "bin_start": 1.1,
            "bin_end": 1.2000000000000002,
            "count": 0
           },
           {
            "bin_start": 1.2000000000000002,
            "bin_end": 1.3,
            "count": 0
           },
           {
            "bin_start": 1.3,
            "bin_end": 1.4,
            "count": 0
           },
           {
            "bin_start": 1.4,
            "bin_end": 1.5,
            "count": 0
           }
          ]
         }
        },
        {
         "name": "windows_street",
         "dtype": "int64",
         "stats": {
          "unique_count": 2,
          "nan_count": 0,
          "min": "0",
          "max": "1",
          "histogram": [
           {
            "bin_start": 0,
            "bin_end": 0.1,
            "count": 3
           },
           {
            "bin_start": 0.1,
            "bin_end": 0.2,
            "count": 0
           },
           {
            "bin_start": 0.2,
            "bin_end": 0.30000000000000004,
            "count": 0
           },
           {
            "bin_start": 0.30000000000000004,
            "bin_end": 0.4,
            "count": 0
           },
           {
            "bin_start": 0.4,
            "bin_end": 0.5,
            "count": 0
           },
           {
            "bin_start": 0.5,
            "bin_end": 0.6000000000000001,
            "count": 0
           },
           {
            "bin_start": 0.6000000000000001,
            "bin_end": 0.7000000000000001,
            "count": 0
           },
           {
            "bin_start": 0.7000000000000001,
            "bin_end": 0.8,
            "count": 0
           },
           {
            "bin_start": 0.8,
            "bin_end": 0.9,
            "count": 0
           },
           {
            "bin_start": 0.9,
            "bin_end": 1,
            "count": 2
           }
          ]
         }
        },
        {
         "name": "phones",
         "dtype": "int64",
         "stats": {
          "unique_count": 1,
          "nan_count": 0,
          "min": "1",
          "max": "1",
          "histogram": [
           {
            "bin_start": 0.5,
            "bin_end": 0.6,
            "count": 0
           },
           {
            "bin_start": 0.6,
            "bin_end": 0.7,
            "count": 0
           },
           {
            "bin_start": 0.7,
            "bin_end": 0.8,
            "count": 0
           },
           {
            "bin_start": 0.8,
            "bin_end": 0.9,
            "count": 0
           },
           {
            "bin_start": 0.9,
            "bin_end": 1,
            "count": 0
           },
           {
            "bin_start": 1,
            "bin_end": 1.1,
            "count": 5
           },
           {
            "bin_start": 1.1,
            "bin_end": 1.2000000000000002,
            "count": 0
           },
           {
            "bin_start": 1.2000000000000002,
            "bin_end": 1.3,
            "count": 0
           },
           {
            "bin_start": 1.3,
            "bin_end": 1.4,
            "count": 0
           },
           {
            "bin_start": 1.4,
            "bin_end": 1.5,
            "count": 0
           }
          ]
         }
        },
        {
         "name": "building_id",
         "dtype": "int64",
         "stats": {
          "unique_count": 5,
          "nan_count": 0,
          "min": "674",
          "max": "8601",
          "histogram": [
           {
            "bin_start": 674,
            "bin_end": 1466.7,
            "count": 1
           },
           {
            "bin_start": 1466.7,
            "bin_end": 2259.4,
            "count": 0
           },
           {
            "bin_start": 2259.4,
            "bin_end": 3052.1000000000004,
            "count": 1
           },
           {
            "bin_start": 3052.1000000000004,
            "bin_end": 3844.8,
            "count": 0
           },
           {
            "bin_start": 3844.8,
            "bin_end": 4637.5,
            "count": 0
           },
           {
            "bin_start": 4637.5,
            "bin_end": 5430.200000000001,
            "count": 1
           },
           {
            "bin_start": 5430.200000000001,
            "bin_end": 6222.900000000001,
            "count": 0
           },
           {
            "bin_start": 6222.900000000001,
            "bin_end": 7015.6,
            "count": 1
           },
           {
            "bin_start": 7015.6,
            "bin_end": 7808.3,
            "count": 0
           },
           {
            "bin_start": 7808.3,
            "bin_end": 8601,
            "count": 1
           }
          ]
         }
        },
        {
         "name": "new",
         "dtype": "int64",
         "stats": {
          "unique_count": 2,
          "nan_count": 0,
          "min": "0",
          "max": "1",
          "histogram": [
           {
            "bin_start": 0,
            "bin_end": 0.1,
            "count": 3
           },
           {
            "bin_start": 0.1,
            "bin_end": 0.2,
            "count": 0
           },
           {
            "bin_start": 0.2,
            "bin_end": 0.30000000000000004,
            "count": 0
           },
           {
            "bin_start": 0.30000000000000004,
            "bin_end": 0.4,
            "count": 0
           },
           {
            "bin_start": 0.4,
            "bin_end": 0.5,
            "count": 0
           },
           {
            "bin_start": 0.5,
            "bin_end": 0.6000000000000001,
            "count": 0
           },
           {
            "bin_start": 0.6000000000000001,
            "bin_end": 0.7000000000000001,
            "count": 0
           },
           {
            "bin_start": 0.7000000000000001,
            "bin_end": 0.8,
            "count": 0
           },
           {
            "bin_start": 0.8,
            "bin_end": 0.9,
            "count": 0
           },
           {
            "bin_start": 0.9,
            "bin_end": 1,
            "count": 2
           }
          ]
         }
        },
        {
         "name": "district",
         "dtype": "int64",
         "stats": {
          "unique_count": 5,
          "nan_count": 0,
          "min": "1",
          "max": "11",
          "histogram": [
           {
            "bin_start": 1,
            "bin_end": 2,
            "count": 1
           },
           {
            "bin_start": 2,
            "bin_end": 3,
            "count": 1
           },
           {
            "bin_start": 3,
            "bin_end": 4,
            "count": 0
           },
           {
            "bin_start": 4,
            "bin_end": 5,
            "count": 0
           },
           {
            "bin_start": 5,
            "bin_end": 6,
            "count": 0
           },
           {
            "bin_start": 6,
            "bin_end": 7,
            "count": 1
           },
           {
            "bin_start": 7,
            "bin_end": 8,
            "count": 0
           },
           {
            "bin_start": 8,
            "bin_end": 9,
            "count": 1
           },
           {
            "bin_start": 9,
            "bin_end": 10,
            "count": 0
           },
           {
            "bin_start": 10,
            "bin_end": 11,
            "count": 1
           }
          ]
         }
        },
        {
         "name": "street",
         "dtype": "object",
         "stats": {
          "unique_count": 5,
          "nan_count": 0,
          "categories": [
           {
            "name": "улица Центральная",
            "count": 1
           },
           {
            "name": "улица Бочкова",
            "count": 1
           },
           {
            "name": "3 others",
            "count": 3
           }
          ]
         }
        },
        {
         "name": "constructed",
         "dtype": "int64",
         "stats": {
          "unique_count": 4,
          "nan_count": 0,
          "min": "1963",
          "max": "2020",
          "histogram": [
           {
            "bin_start": 1963,
            "bin_end": 1968.7,
            "count": 1
           },
           {
            "bin_start": 1968.7,
            "bin_end": 1974.4,
            "count": 0
           },
           {
            "bin_start": 1974.4,
            "bin_end": 1980.1,
            "count": 1
           },
           {
            "bin_start": 1980.1,
            "bin_end": 1985.8,
            "count": 0
           },
           {
            "bin_start": 1985.8,
            "bin_end": 1991.5,
            "count": 0
           },
           {
            "bin_start": 1991.5,
            "bin_end": 1997.2,
            "count": 1
           },
           {
            "bin_start": 1997.2,
            "bin_end": 2002.9,
            "count": 0
           },
           {
            "bin_start": 2002.9,
            "bin_end": 2008.6,
            "count": 0
           },
           {
            "bin_start": 2008.6,
            "bin_end": 2014.3,
            "count": 0
           },
           {
            "bin_start": 2014.3,
            "bin_end": 2020,
            "count": 2
           }
          ]
         }
        },
        {
         "name": "material",
         "dtype": "int64",
         "stats": {
          "unique_count": 3,
          "nan_count": 0,
          "min": "2",
          "max": "4",
          "histogram": [
           {
            "bin_start": 2,
            "bin_end": 2.2,
            "count": 2
           },
           {
            "bin_start": 2.2,
            "bin_end": 2.4,
            "count": 0
           },
           {
            "bin_start": 2.4,
            "bin_end": 2.6,
            "count": 0
           },
           {
            "bin_start": 2.6,
            "bin_end": 2.8,
            "count": 0
           },
           {
            "bin_start": 2.8,
            "bin_end": 3,
            "count": 0
           },
           {
            "bin_start": 3,
            "bin_end": 3.2,
            "count": 2
           },
           {
            "bin_start": 3.2,
            "bin_end": 3.4000000000000004,
            "count": 0
           },
           {
            "bin_start": 3.4000000000000004,
            "bin_end": 3.6,
            "count": 0
           },
           {
            "bin_start": 3.6,
            "bin_end": 3.8,
            "count": 0
           },
           {
            "bin_start": 3.8,
            "bin_end": 4,
            "count": 1
           }
          ]
         }
        },
        {
         "name": "elevator_without",
         "dtype": "int64",
         "stats": {
          "unique_count": 2,
          "nan_count": 0,
          "min": "0",
          "max": "1",
          "histogram": [
           {
            "bin_start": 0,
            "bin_end": 0.1,
            "count": 2
           },
           {
            "bin_start": 0.1,
            "bin_end": 0.2,
            "count": 0
           },
           {
            "bin_start": 0.2,
            "bin_end": 0.30000000000000004,
            "count": 0
           },
           {
            "bin_start": 0.30000000000000004,
            "bin_end": 0.4,
            "count": 0
           },
           {
            "bin_start": 0.4,
            "bin_end": 0.5,
            "count": 0
           },
           {
            "bin_start": 0.5,
            "bin_end": 0.6000000000000001,
            "count": 0
           },
           {
            "bin_start": 0.6000000000000001,
            "bin_end": 0.7000000000000001,
            "count": 0
           },
           {
            "bin_start": 0.7000000000000001,
            "bin_end": 0.8,
            "count": 0
           },
           {
            "bin_start": 0.8,
            "bin_end": 0.9,
            "count": 0
           },
           {
            "bin_start": 0.9,
            "bin_end": 1,
            "count": 3
           }
          ]
         }
        },
        {
         "name": "elevator_passenger",
         "dtype": "int64",
         "stats": {
          "unique_count": 2,
          "nan_count": 0,
          "min": "0",
          "max": "1",
          "histogram": [
           {
            "bin_start": 0,
            "bin_end": 0.1,
            "count": 2
           },
           {
            "bin_start": 0.1,
            "bin_end": 0.2,
            "count": 0
           },
           {
            "bin_start": 0.2,
            "bin_end": 0.30000000000000004,
            "count": 0
           },
           {
            "bin_start": 0.30000000000000004,
            "bin_end": 0.4,
            "count": 0
           },
           {
            "bin_start": 0.4,
            "bin_end": 0.5,
            "count": 0
           },
           {
            "bin_start": 0.5,
            "bin_end": 0.6000000000000001,
            "count": 0
           },
           {
            "bin_start": 0.6000000000000001,
            "bin_end": 0.7000000000000001,
            "count": 0
           },
           {
            "bin_start": 0.7000000000000001,
            "bin_end": 0.8,
            "count": 0
           },
           {
            "bin_start": 0.8,
            "bin_end": 0.9,
            "count": 0
           },
           {
            "bin_start": 0.9,
            "bin_end": 1,
            "count": 3
           }
          ]
         }
        },
        {
         "name": "elevator_service",
         "dtype": "int64",
         "stats": {
          "unique_count": 2,
          "nan_count": 0,
          "min": "0",
          "max": "1",
          "histogram": [
           {
            "bin_start": 0,
            "bin_end": 0.1,
            "count": 3
           },
           {
            "bin_start": 0.1,
            "bin_end": 0.2,
            "count": 0
           },
           {
            "bin_start": 0.2,
            "bin_end": 0.30000000000000004,
            "count": 0
           },
           {
            "bin_start": 0.30000000000000004,
            "bin_end": 0.4,
            "count": 0
           },
           {
            "bin_start": 0.4,
            "bin_end": 0.5,
            "count": 0
           },
           {
            "bin_start": 0.5,
            "bin_end": 0.6000000000000001,
            "count": 0
           },
           {
            "bin_start": 0.6000000000000001,
            "bin_end": 0.7000000000000001,
            "count": 0
           },
           {
            "bin_start": 0.7000000000000001,
            "bin_end": 0.8,
            "count": 0
           },
           {
            "bin_start": 0.8,
            "bin_end": 0.9,
            "count": 0
           },
           {
            "bin_start": 0.9,
            "bin_end": 1,
            "count": 2
           }
          ]
         }
        },
        {
         "name": "parking",
         "dtype": "int64",
         "stats": {
          "unique_count": 2,
          "nan_count": 0,
          "min": "0",
          "max": "1",
          "histogram": [
           {
            "bin_start": 0,
            "bin_end": 0.1,
            "count": 1
           },
           {
            "bin_start": 0.1,
            "bin_end": 0.2,
            "count": 0
           },
           {
            "bin_start": 0.2,
            "bin_end": 0.30000000000000004,
            "count": 0
           },
           {
            "bin_start": 0.30000000000000004,
            "bin_end": 0.4,
            "count": 0
           },
           {
            "bin_start": 0.4,
            "bin_end": 0.5,
            "count": 0
           },
           {
            "bin_start": 0.5,
            "bin_end": 0.6000000000000001,
            "count": 0
           },
           {
            "bin_start": 0.6000000000000001,
            "bin_end": 0.7000000000000001,
            "count": 0
           },
           {
            "bin_start": 0.7000000000000001,
            "bin_end": 0.8,
            "count": 0
           },
           {
            "bin_start": 0.8,
            "bin_end": 0.9,
            "count": 0
           },
           {
            "bin_start": 0.9,
            "bin_end": 1,
            "count": 4
           }
          ]
         }
        },
        {
         "name": "floor/stories",
         "dtype": "float64",
         "stats": {
          "unique_count": 5,
          "nan_count": 0,
          "min": "0.04878048780487805",
          "max": "0.8",
          "histogram": [
           {
            "bin_start": 0.04878048780487805,
            "bin_end": 0.12390243902439024,
            "count": 1
           },
           {
            "bin_start": 0.12390243902439024,
            "bin_end": 0.19902439024390245,
            "count": 1
           },
           {
            "bin_start": 0.19902439024390245,
            "bin_end": 0.2741463414634146,
            "count": 1
           },
           {
            "bin_start": 0.2741463414634146,
            "bin_end": 0.3492682926829268,
            "count": 0
           },
           {
            "bin_start": 0.3492682926829268,
            "bin_end": 0.424390243902439,
            "count": 0
           },
           {
            "bin_start": 0.424390243902439,
            "bin_end": 0.49951219512195116,
            "count": 0
           },
           {
            "bin_start": 0.49951219512195116,
            "bin_end": 0.5746341463414635,
            "count": 0
           },
           {
            "bin_start": 0.5746341463414635,
            "bin_end": 0.6497560975609756,
            "count": 0
           },
           {
            "bin_start": 0.6497560975609756,
            "bin_end": 0.7248780487804878,
            "count": 0
           },
           {
            "bin_start": 0.7248780487804878,
            "bin_end": 0.8,
            "count": 2
           }
          ]
         }
        },
        {
         "name": "distance",
         "dtype": "float64",
         "stats": {
          "unique_count": 5,
          "nan_count": 0,
          "min": "0.06706303698013978",
          "max": "0.23698781015064516",
          "histogram": [
           {
            "bin_start": 0.06706303698013978,
            "bin_end": 0.08405551429719033,
            "count": 2
           },
           {
            "bin_start": 0.08405551429719033,
            "bin_end": 0.10104799161424086,
            "count": 0
           },
           {
            "bin_start": 0.10104799161424086,
            "bin_end": 0.11804046893129139,
            "count": 0
           },
           {
            "bin_start": 0.11804046893129139,
            "bin_end": 0.13503294624834195,
            "count": 0
           },
           {
            "bin_start": 0.13503294624834195,
            "bin_end": 0.15202542356539245,
            "count": 0
           },
           {
            "bin_start": 0.15202542356539245,
            "bin_end": 0.169017900882443,
            "count": 0
           },
           {
            "bin_start": 0.169017900882443,
            "bin_end": 0.18601037819949356,
            "count": 1
           },
           {
            "bin_start": 0.18601037819949356,
            "bin_end": 0.20300285551654407,
            "count": 0
           },
           {
            "bin_start": 0.20300285551654407,
            "bin_end": 0.21999533283359463,
            "count": 0
           },
           {
            "bin_start": 0.21999533283359463,
            "bin_end": 0.23698781015064516,
            "count": 2
           }
          ]
         }
        },
        {
         "name": "_deepnote_index_column",
         "dtype": "int64"
        }
       ],
       "rows_top": [
        {
         "area_kitchen": 6,
         "area_living": 33,
         "rooms": 2,
         "bathrooms_shared": 0,
         "bathrooms_private": 1,
         "windows_court": 1,
         "windows_street": 1,
         "phones": 1,
         "building_id": 674,
         "new": 0,
         "district": 8,
         "street": "улица Центральная",
         "constructed": 1977,
         "material": 3,
         "elevator_without": 1,
         "elevator_passenger": 0,
         "elevator_service": 0,
         "parking": 1,
         "floor/stories": 0.8,
         "distance": 0.23698781015064516,
         "_deepnote_index_column": 16628
        },
        {
         "area_kitchen": 5.4,
         "area_living": 20,
         "rooms": 1,
         "bathrooms_shared": 0,
         "bathrooms_private": 0,
         "windows_court": 1,
         "windows_street": 0,
         "phones": 1,
         "building_id": 5284,
         "new": 0,
         "district": 2,
         "street": "улица Бочкова",
         "constructed": 1963,
         "material": 4,
         "elevator_without": 1,
         "elevator_passenger": 0,
         "elevator_service": 0,
         "parking": 1,
         "floor/stories": 0.2,
         "distance": 0.06706303698013978,
         "_deepnote_index_column": 19292
        },
        {
         "area_kitchen": 7.256190406659322,
         "area_living": 19.542399117561747,
         "rooms": 1,
         "bathrooms_shared": 1,
         "bathrooms_private": 0,
         "windows_court": 1,
         "windows_street": 0,
         "phones": 1,
         "building_id": 8601,
         "new": 1,
         "district": 11,
         "street": "Сосенское поселение",
         "constructed": 2020,
         "material": 2,
         "elevator_without": 1,
         "elevator_passenger": 1,
         "elevator_service": 1,
         "parking": 1,
         "floor/stories": 0.16666666666666666,
         "distance": 0.22834443932358,
         "_deepnote_index_column": 6194
        },
        {
         "area_kitchen": 9,
         "area_living": 21,
         "rooms": 1,
         "bathrooms_shared": 0,
         "bathrooms_private": 1,
         "windows_court": 1,
         "windows_street": 0,
         "phones": 1,
         "building_id": 6746,
         "new": 0,
         "district": 6,
         "street": "Старобитцевская улица",
         "constructed": 1992,
         "material": 3,
         "elevator_without": 0,
         "elevator_passenger": 1,
         "elevator_service": 1,
         "parking": 1,
         "floor/stories": 0.7857142857142857,
         "distance": 0.1741276214188888,
         "_deepnote_index_column": 14066
        },
        {
         "area_kitchen": 6.8,
         "area_living": 48.9,
         "rooms": 2,
         "bathrooms_shared": 1,
         "bathrooms_private": 2,
         "windows_court": 1,
         "windows_street": 1,
         "phones": 1,
         "building_id": 2500,
         "new": 1,
         "district": 1,
         "street": "Ленинградский проспект",
         "constructed": 2020,
         "material": 2,
         "elevator_without": 0,
         "elevator_passenger": 1,
         "elevator_service": 0,
         "parking": 0,
         "floor/stories": 0.04878048780487805,
         "distance": 0.06978835737428199,
         "_deepnote_index_column": 6790
        }
       ],
       "rows_bottom": null
      },
      "text/plain": "       area_kitchen  area_living  rooms  bathrooms_shared  bathrooms_private  \\\n16628       6.00000    33.000000      2                 0                  1   \n19292       5.40000    20.000000      1                 0                  0   \n6194        7.25619    19.542399      1                 1                  0   \n14066       9.00000    21.000000      1                 0                  1   \n6790        6.80000    48.900000      2                 1                  2   \n\n       windows_court  windows_street  phones  building_id  new  district  \\\n16628              1               1       1          674    0         8   \n19292              1               0       1         5284    0         2   \n6194               1               0       1         8601    1        11   \n14066              1               0       1         6746    0         6   \n6790               1               1       1         2500    1         1   \n\n                       street  constructed  material  elevator_without  \\\n16628       улица Центральная         1977         3                 1   \n19292           улица Бочкова         1963         4                 1   \n6194      Сосенское поселение         2020         2                 1   \n14066   Старобитцевская улица         1992         3                 0   \n6790   Ленинградский проспект         2020         2                 0   \n\n       elevator_passenger  elevator_service  parking  floor/stories  distance  \n16628                   0                 0        1       0.800000  0.236988  \n19292                   0                 0        1       0.200000  0.067063  \n6194                    1                 1        1       0.166667  0.228344  \n14066                   1                 1        1       0.785714  0.174128  \n6790                    1                 0        0       0.048780  0.069788  ",
      "text/html": "<div>\n<style scoped>\n    .dataframe tbody tr th:only-of-type {\n        vertical-align: middle;\n    }\n\n    .dataframe tbody tr th {\n        vertical-align: top;\n    }\n\n    .dataframe thead th {\n        text-align: right;\n    }\n</style>\n<table border=\"1\" class=\"dataframe\">\n  <thead>\n    <tr style=\"text-align: right;\">\n      <th></th>\n      <th>area_kitchen</th>\n      <th>area_living</th>\n      <th>rooms</th>\n      <th>bathrooms_shared</th>\n      <th>bathrooms_private</th>\n      <th>windows_court</th>\n      <th>windows_street</th>\n      <th>phones</th>\n      <th>building_id</th>\n      <th>new</th>\n      <th>district</th>\n      <th>street</th>\n      <th>constructed</th>\n      <th>material</th>\n      <th>elevator_without</th>\n      <th>elevator_passenger</th>\n      <th>elevator_service</th>\n      <th>parking</th>\n      <th>floor/stories</th>\n      <th>distance</th>\n    </tr>\n  </thead>\n  <tbody>\n    <tr>\n      <th>16628</th>\n      <td>6.00000</td>\n      <td>33.000000</td>\n      <td>2</td>\n      <td>0</td>\n      <td>1</td>\n      <td>1</td>\n      <td>1</td>\n      <td>1</td>\n      <td>674</td>\n      <td>0</td>\n      <td>8</td>\n      <td>улица Центральная</td>\n      <td>1977</td>\n      <td>3</td>\n      <td>1</td>\n      <td>0</td>\n      <td>0</td>\n      <td>1</td>\n      <td>0.800000</td>\n      <td>0.236988</td>\n    </tr>\n    <tr>\n      <th>19292</th>\n      <td>5.40000</td>\n      <td>20.000000</td>\n      <td>1</td>\n      <td>0</td>\n      <td>0</td>\n      <td>1</td>\n      <td>0</td>\n      <td>1</td>\n      <td>5284</td>\n      <td>0</td>\n      <td>2</td>\n      <td>улица Бочкова</td>\n      <td>1963</td>\n      <td>4</td>\n      <td>1</td>\n      <td>0</td>\n      <td>0</td>\n      <td>1</td>\n      <td>0.200000</td>\n      <td>0.067063</td>\n    </tr>\n    <tr>\n      <th>6194</th>\n      <td>7.25619</td>\n      <td>19.542399</td>\n      <td>1</td>\n      <td>1</td>\n      <td>0</td>\n      <td>1</td>\n      <td>0</td>\n      <td>1</td>\n      <td>8601</td>\n      <td>1</td>\n      <td>11</td>\n      <td>Сосенское поселение</td>\n      <td>2020</td>\n      <td>2</td>\n      <td>1</td>\n      <td>1</td>\n      <td>1</td>\n      <td>1</td>\n      <td>0.166667</td>\n      <td>0.228344</td>\n    </tr>\n    <tr>\n      <th>14066</th>\n      <td>9.00000</td>\n      <td>21.000000</td>\n      <td>1</td>\n      <td>0</td>\n      <td>1</td>\n      <td>1</td>\n      <td>0</td>\n      <td>1</td>\n      <td>6746</td>\n      <td>0</td>\n      <td>6</td>\n      <td>Старобитцевская улица</td>\n      <td>1992</td>\n      <td>3</td>\n      <td>0</td>\n      <td>1</td>\n      <td>1</td>\n      <td>1</td>\n      <td>0.785714</td>\n      <td>0.174128</td>\n    </tr>\n    <tr>\n      <th>6790</th>\n      <td>6.80000</td>\n      <td>48.900000</td>\n      <td>2</td>\n      <td>1</td>\n      <td>2</td>\n      <td>1</td>\n      <td>1</td>\n      <td>1</td>\n      <td>2500</td>\n      <td>1</td>\n      <td>1</td>\n      <td>Ленинградский проспект</td>\n      <td>2020</td>\n      <td>2</td>\n      <td>0</td>\n      <td>1</td>\n      <td>0</td>\n      <td>0</td>\n      <td>0.048780</td>\n      <td>0.069788</td>\n    </tr>\n  </tbody>\n</table>\n</div>"
     },
     "metadata": {}
    }
   ],
   "execution_count": null
  },
  {
   "cell_type": "code",
   "metadata": {
    "tags": [],
    "cell_id": "00004-51531fd4-02ed-4377-bbf9-a245f4453359",
    "deepnote_to_be_reexecuted": false,
    "source_hash": "d99de540",
    "execution_start": 1637264438141,
    "execution_millis": 1,
    "deepnote_cell_type": "code"
   },
   "source": "#hyper parameter\nn_estimators=[100,500,900,1100,1500]\nmax_depth=[2,3,5,10,15]\nbooster=[\"gbtree\",\"gblinear\"]\nlearning_rate=\"[0.05,0.1,0.15,0.20]\"\nmin_child_weight=[1,2,3,4]\nbase_score=[0.25,0.5,0.75,1]\n\norg_params = {\n    'n_estimators': n_estimators,\n    'learning_rate': learning_rate,\n    \"booster\":booster,\n    'eval_metric': 'RMSE',\n    'use_best_model': True,\n    'loss_function': 'RMSE',\n    'max_depth': max_depth,\n    \"min_child_weight\":min_child_weight,\n    \"base_score\":base_score\n}",
   "outputs": [],
   "execution_count": null
  },
  {
   "cell_type": "code",
   "metadata": {
    "tags": [],
    "cell_id": "00004-99a66949-9371-4597-a84f-8002e18f170f",
    "deepnote_to_be_reexecuted": false,
    "source_hash": "60207a1",
    "execution_start": 1637264438142,
    "execution_millis": 298244,
    "deepnote_output_heights": [
     null,
     null,
     20.90625
    ],
    "deepnote_cell_type": "code"
   },
   "source": "from catboost import CatBoostRegressor\n#random_state=1, iterations=1500, depth=8, learning_rate=.1, loss_function='RMSE'\nmodel = CatBoostRegressor(random_state=1, iterations=2000,cat_features = cat_feature_indices, depth=9, learning_rate=0.1, loss_function='RMSE')\nmodel.fit(X_train, y_train, eval_set=(X_val, y_val),plot=True)",
   "outputs": [
    {
     "data": {
      "text/plain": "MetricVisualizer(layout=Layout(align_self='stretch', height='500px'))",
      "application/vnd.jupyter.widget-view+json": {
       "version_major": 2,
       "version_minor": 0,
       "model_id": "aa93113617624518a08bf168ab49709f"
      }
     },
     "metadata": {},
     "output_type": "display_data"
    },
    {
     "name": "stdout",
     "text": "1006:\tlearn: 23314.5972404\ttest: 74495.2002390\tbest: 74495.2002390 (1006)\ttotal: 2m\tremaining: 1m 58s\n1007:\tlearn: 23305.6828956\ttest: 74496.1202954\tbest: 74495.2002390 (1006)\ttotal: 2m\tremaining: 1m 58s\n1008:\tlearn: 23298.9816887\ttest: 74498.4551782\tbest: 74495.2002390 (1006)\ttotal: 2m\tremaining: 1m 58s\n1009:\tlearn: 23288.1323131\ttest: 74495.9227270\tbest: 74495.2002390 (1006)\ttotal: 2m\tremaining: 1m 58s\n1010:\tlearn: 23274.3003793\ttest: 74495.4046122\tbest: 74495.2002390 (1006)\ttotal: 2m\tremaining: 1m 58s\n1011:\tlearn: 23261.3600623\ttest: 74487.9546894\tbest: 74487.9546894 (1011)\ttotal: 2m 1s\tremaining: 1m 58s\n1012:\tlearn: 23244.5181148\ttest: 74482.3521852\tbest: 74482.3521852 (1012)\ttotal: 2m 1s\tremaining: 1m 58s\n1013:\tlearn: 23233.6208420\ttest: 74478.0156516\tbest: 74478.0156516 (1013)\ttotal: 2m 1s\tremaining: 1m 57s\n1014:\tlearn: 23230.0226570\ttest: 74478.7494537\tbest: 74478.0156516 (1013)\ttotal: 2m 1s\tremaining: 1m 57s\n1015:\tlearn: 23225.0675892\ttest: 74478.0159658\tbest: 74478.0156516 (1013)\ttotal: 2m 1s\tremaining: 1m 57s\n1016:\tlearn: 23208.7559992\ttest: 74480.6244353\tbest: 74478.0156516 (1013)\ttotal: 2m 1s\tremaining: 1m 57s\n1017:\tlearn: 23202.0294123\ttest: 74478.6255559\tbest: 74478.0156516 (1013)\ttotal: 2m 1s\tremaining: 1m 57s\n1018:\tlearn: 23189.1434880\ttest: 74473.2623563\tbest: 74473.2623563 (1018)\ttotal: 2m 1s\tremaining: 1m 57s\n1019:\tlearn: 23153.1609138\ttest: 74470.9661996\tbest: 74470.9661996 (1019)\ttotal: 2m 2s\tremaining: 1m 57s\n1020:\tlearn: 23141.7372747\ttest: 74461.4378652\tbest: 74461.4378652 (1020)\ttotal: 2m 2s\tremaining: 1m 57s\n1021:\tlearn: 23123.0186772\ttest: 74460.6979928\tbest: 74460.6979928 (1021)\ttotal: 2m 2s\tremaining: 1m 57s\n1022:\tlearn: 23098.8963177\ttest: 74464.5273361\tbest: 74460.6979928 (1021)\ttotal: 2m 2s\tremaining: 1m 56s\n1023:\tlearn: 23082.2314423\ttest: 74458.8600721\tbest: 74458.8600721 (1023)\ttotal: 2m 2s\tremaining: 1m 56s\n1024:\tlearn: 23068.7473746\ttest: 74455.0320684\tbest: 74455.0320684 (1024)\ttotal: 2m 2s\tremaining: 1m 56s\n1025:\tlearn: 23063.1207019\ttest: 74451.0840423\tbest: 74451.0840423 (1025)\ttotal: 2m 2s\tremaining: 1m 56s\n1026:\tlearn: 23050.0358454\ttest: 74447.0480832\tbest: 74447.0480832 (1026)\ttotal: 2m 2s\tremaining: 1m 56s\n1027:\tlearn: 23039.0774898\ttest: 74447.8196611\tbest: 74447.0480832 (1026)\ttotal: 2m 2s\tremaining: 1m 56s\n1028:\tlearn: 23035.4197816\ttest: 74448.7211615\tbest: 74447.0480832 (1026)\ttotal: 2m 3s\tremaining: 1m 56s\n1029:\tlearn: 23017.5015074\ttest: 74445.7015245\tbest: 74445.7015245 (1029)\ttotal: 2m 3s\tremaining: 1m 56s\n1030:\tlearn: 23004.1594038\ttest: 74440.1230660\tbest: 74440.1230660 (1030)\ttotal: 2m 3s\tremaining: 1m 55s\n1031:\tlearn: 22994.1125513\ttest: 74440.5183172\tbest: 74440.1230660 (1030)\ttotal: 2m 3s\tremaining: 1m 55s\n1032:\tlearn: 22977.5263110\ttest: 74430.5346040\tbest: 74430.5346040 (1032)\ttotal: 2m 3s\tremaining: 1m 55s\n1033:\tlearn: 22942.1426599\ttest: 74436.1322680\tbest: 74430.5346040 (1032)\ttotal: 2m 3s\tremaining: 1m 55s\n1034:\tlearn: 22927.0678407\ttest: 74439.2317245\tbest: 74430.5346040 (1032)\ttotal: 2m 3s\tremaining: 1m 55s\n1035:\tlearn: 22919.7849742\ttest: 74441.8367901\tbest: 74430.5346040 (1032)\ttotal: 2m 3s\tremaining: 1m 55s\n1036:\tlearn: 22913.3646483\ttest: 74441.2303357\tbest: 74430.5346040 (1032)\ttotal: 2m 4s\tremaining: 1m 55s\n1037:\tlearn: 22906.8320186\ttest: 74440.0094344\tbest: 74430.5346040 (1032)\ttotal: 2m 4s\tremaining: 1m 55s\n1038:\tlearn: 22886.3226129\ttest: 74442.3119452\tbest: 74430.5346040 (1032)\ttotal: 2m 4s\tremaining: 1m 54s\n1039:\tlearn: 22871.8782134\ttest: 74447.6731528\tbest: 74430.5346040 (1032)\ttotal: 2m 4s\tremaining: 1m 54s\n1040:\tlearn: 22860.1022958\ttest: 74449.1654316\tbest: 74430.5346040 (1032)\ttotal: 2m 4s\tremaining: 1m 54s\n1041:\tlearn: 22829.3113615\ttest: 74447.8912162\tbest: 74430.5346040 (1032)\ttotal: 2m 4s\tremaining: 1m 54s\n1042:\tlearn: 22825.1008586\ttest: 74444.7323930\tbest: 74430.5346040 (1032)\ttotal: 2m 4s\tremaining: 1m 54s\n1043:\tlearn: 22806.8604500\ttest: 74444.0826791\tbest: 74430.5346040 (1032)\ttotal: 2m 5s\tremaining: 1m 54s\n1044:\tlearn: 22787.5813422\ttest: 74439.8911092\tbest: 74430.5346040 (1032)\ttotal: 2m 5s\tremaining: 1m 54s\n1045:\tlearn: 22771.1388619\ttest: 74439.2914678\tbest: 74430.5346040 (1032)\ttotal: 2m 5s\tremaining: 1m 54s\n1046:\tlearn: 22762.8412228\ttest: 74439.9558114\tbest: 74430.5346040 (1032)\ttotal: 2m 5s\tremaining: 1m 54s\n1047:\tlearn: 22756.2137102\ttest: 74439.3070783\tbest: 74430.5346040 (1032)\ttotal: 2m 5s\tremaining: 1m 54s\n1048:\tlearn: 22737.6289654\ttest: 74440.5522087\tbest: 74430.5346040 (1032)\ttotal: 2m 5s\tremaining: 1m 53s\n1049:\tlearn: 22698.1138581\ttest: 74441.4584681\tbest: 74430.5346040 (1032)\ttotal: 2m 5s\tremaining: 1m 53s\n1050:\tlearn: 22675.4832911\ttest: 74445.5813367\tbest: 74430.5346040 (1032)\ttotal: 2m 5s\tremaining: 1m 53s\n1051:\tlearn: 22668.9399085\ttest: 74440.9609280\tbest: 74430.5346040 (1032)\ttotal: 2m 6s\tremaining: 1m 53s\n1052:\tlearn: 22657.3669967\ttest: 74437.4540387\tbest: 74430.5346040 (1032)\ttotal: 2m 6s\tremaining: 1m 53s\n1053:\tlearn: 22645.8183009\ttest: 74433.4415943\tbest: 74430.5346040 (1032)\ttotal: 2m 6s\tremaining: 1m 53s\n1054:\tlearn: 22632.5253044\ttest: 74427.7709002\tbest: 74427.7709002 (1054)\ttotal: 2m 6s\tremaining: 1m 53s\n1055:\tlearn: 22616.8524790\ttest: 74424.8213778\tbest: 74424.8213778 (1055)\ttotal: 2m 6s\tremaining: 1m 53s\n1056:\tlearn: 22609.9827444\ttest: 74424.1408843\tbest: 74424.1408843 (1056)\ttotal: 2m 6s\tremaining: 1m 52s\n1057:\tlearn: 22603.3949924\ttest: 74426.6512428\tbest: 74424.1408843 (1056)\ttotal: 2m 6s\tremaining: 1m 52s\n1058:\tlearn: 22590.3191220\ttest: 74422.5690729\tbest: 74422.5690729 (1058)\ttotal: 2m 6s\tremaining: 1m 52s\n1059:\tlearn: 22574.5705271\ttest: 74422.1180553\tbest: 74422.1180553 (1059)\ttotal: 2m 7s\tremaining: 1m 52s\n1060:\tlearn: 22547.8302912\ttest: 74421.7670088\tbest: 74421.7670088 (1060)\ttotal: 2m 7s\tremaining: 1m 52s\n1061:\tlearn: 22522.5346685\ttest: 74406.1526148\tbest: 74406.1526148 (1061)\ttotal: 2m 7s\tremaining: 1m 52s\n1062:\tlearn: 22512.0500773\ttest: 74407.5332946\tbest: 74406.1526148 (1061)\ttotal: 2m 7s\tremaining: 1m 52s\n1063:\tlearn: 22498.2288519\ttest: 74408.8435503\tbest: 74406.1526148 (1061)\ttotal: 2m 7s\tremaining: 1m 52s\n1064:\tlearn: 22471.0748575\ttest: 74401.8325508\tbest: 74401.8325508 (1064)\ttotal: 2m 7s\tremaining: 1m 52s\n1065:\tlearn: 22447.1648479\ttest: 74395.4966776\tbest: 74395.4966776 (1065)\ttotal: 2m 7s\tremaining: 1m 52s\n1066:\tlearn: 22444.0989594\ttest: 74393.0425019\tbest: 74393.0425019 (1066)\ttotal: 2m 8s\tremaining: 1m 51s\n1067:\tlearn: 22434.6575812\ttest: 74394.3898464\tbest: 74393.0425019 (1066)\ttotal: 2m 8s\tremaining: 1m 51s\n1068:\tlearn: 22425.3412154\ttest: 74399.8089744\tbest: 74393.0425019 (1066)\ttotal: 2m 8s\tremaining: 1m 51s\n1069:\tlearn: 22394.9453394\ttest: 74401.4539073\tbest: 74393.0425019 (1066)\ttotal: 2m 8s\tremaining: 1m 51s\n1070:\tlearn: 22389.3469129\ttest: 74397.8910458\tbest: 74393.0425019 (1066)\ttotal: 2m 8s\tremaining: 1m 51s\n1071:\tlearn: 22384.9201666\ttest: 74398.4296148\tbest: 74393.0425019 (1066)\ttotal: 2m 8s\tremaining: 1m 51s\n1072:\tlearn: 22364.0622893\ttest: 74395.9344700\tbest: 74393.0425019 (1066)\ttotal: 2m 8s\tremaining: 1m 51s\n1073:\tlearn: 22349.7951350\ttest: 74385.9435855\tbest: 74385.9435855 (1073)\ttotal: 2m 8s\tremaining: 1m 51s\n1074:\tlearn: 22334.0695613\ttest: 74395.5596319\tbest: 74385.9435855 (1073)\ttotal: 2m 9s\tremaining: 1m 51s\n1075:\tlearn: 22322.6441342\ttest: 74395.1639189\tbest: 74385.9435855 (1073)\ttotal: 2m 9s\tremaining: 1m 51s\n1076:\tlearn: 22301.3119144\ttest: 74391.4376887\tbest: 74385.9435855 (1073)\ttotal: 2m 9s\tremaining: 1m 51s\n1077:\tlearn: 22272.0600469\ttest: 74402.7808411\tbest: 74385.9435855 (1073)\ttotal: 2m 9s\tremaining: 1m 50s\n1078:\tlearn: 22250.6970112\ttest: 74390.5372174\tbest: 74385.9435855 (1073)\ttotal: 2m 9s\tremaining: 1m 50s\n1079:\tlearn: 22228.7227508\ttest: 74391.9742615\tbest: 74385.9435855 (1073)\ttotal: 2m 9s\tremaining: 1m 50s\n1080:\tlearn: 22215.4440730\ttest: 74391.2419987\tbest: 74385.9435855 (1073)\ttotal: 2m 10s\tremaining: 1m 50s\n1081:\tlearn: 22204.3604963\ttest: 74391.3650039\tbest: 74385.9435855 (1073)\ttotal: 2m 10s\tremaining: 1m 50s\n1082:\tlearn: 22197.2396738\ttest: 74388.9948782\tbest: 74385.9435855 (1073)\ttotal: 2m 10s\tremaining: 1m 50s\n1083:\tlearn: 22178.5934657\ttest: 74376.2375136\tbest: 74376.2375136 (1083)\ttotal: 2m 10s\tremaining: 1m 50s\n1084:\tlearn: 22164.5278485\ttest: 74377.0861913\tbest: 74376.2375136 (1083)\ttotal: 2m 10s\tremaining: 1m 50s\n1085:\tlearn: 22146.5564048\ttest: 74363.4914434\tbest: 74363.4914434 (1085)\ttotal: 2m 10s\tremaining: 1m 50s\n1086:\tlearn: 22125.8277467\ttest: 74360.1360387\tbest: 74360.1360387 (1086)\ttotal: 2m 10s\tremaining: 1m 49s\n1087:\tlearn: 22112.1324991\ttest: 74356.3113371\tbest: 74356.3113371 (1087)\ttotal: 2m 10s\tremaining: 1m 49s\n1088:\tlearn: 22069.2420243\ttest: 74349.5511462\tbest: 74349.5511462 (1088)\ttotal: 2m 11s\tremaining: 1m 49s\n1089:\tlearn: 22060.2550637\ttest: 74365.4720715\tbest: 74349.5511462 (1088)\ttotal: 2m 11s\tremaining: 1m 49s\n1090:\tlearn: 22056.9149190\ttest: 74358.9372530\tbest: 74349.5511462 (1088)\ttotal: 2m 11s\tremaining: 1m 49s\n1091:\tlearn: 22042.7817615\ttest: 74357.3247933\tbest: 74349.5511462 (1088)\ttotal: 2m 11s\tremaining: 1m 49s\n1092:\tlearn: 22026.4732366\ttest: 74357.4484457\tbest: 74349.5511462 (1088)\ttotal: 2m 11s\tremaining: 1m 49s\n1093:\tlearn: 22014.1693327\ttest: 74356.1757958\tbest: 74349.5511462 (1088)\ttotal: 2m 11s\tremaining: 1m 49s\n1094:\tlearn: 22005.9220849\ttest: 74357.3467651\tbest: 74349.5511462 (1088)\ttotal: 2m 11s\tremaining: 1m 49s\n1095:\tlearn: 22001.9645489\ttest: 74354.7608295\tbest: 74349.5511462 (1088)\ttotal: 2m 12s\tremaining: 1m 48s\n1096:\tlearn: 21996.1599514\ttest: 74354.4498268\tbest: 74349.5511462 (1088)\ttotal: 2m 12s\tremaining: 1m 48s\n1097:\tlearn: 21991.5518537\ttest: 74354.2167436\tbest: 74349.5511462 (1088)\ttotal: 2m 12s\tremaining: 1m 48s\n1098:\tlearn: 21972.6019550\ttest: 74354.5193369\tbest: 74349.5511462 (1088)\ttotal: 2m 12s\tremaining: 1m 48s\n1099:\tlearn: 21951.6014056\ttest: 74341.3947804\tbest: 74341.3947804 (1099)\ttotal: 2m 12s\tremaining: 1m 48s\n1100:\tlearn: 21939.6100125\ttest: 74341.0921329\tbest: 74341.0921329 (1100)\ttotal: 2m 12s\tremaining: 1m 48s\n1101:\tlearn: 21914.9569379\ttest: 74338.8048225\tbest: 74338.8048225 (1101)\ttotal: 2m 12s\tremaining: 1m 48s\n1102:\tlearn: 21904.1150839\ttest: 74338.5700154\tbest: 74338.5700154 (1102)\ttotal: 2m 12s\tremaining: 1m 48s\n1103:\tlearn: 21890.3120530\ttest: 74331.8872377\tbest: 74331.8872377 (1103)\ttotal: 2m 13s\tremaining: 1m 47s\n1104:\tlearn: 21877.5151089\ttest: 74331.3678603\tbest: 74331.3678603 (1104)\ttotal: 2m 13s\tremaining: 1m 47s\n1105:\tlearn: 21864.2260462\ttest: 74327.5388055\tbest: 74327.5388055 (1105)\ttotal: 2m 13s\tremaining: 1m 47s\n1106:\tlearn: 21851.2630298\ttest: 74324.5067236\tbest: 74324.5067236 (1106)\ttotal: 2m 13s\tremaining: 1m 47s\n1107:\tlearn: 21843.1200646\ttest: 74323.3037828\tbest: 74323.3037828 (1107)\ttotal: 2m 13s\tremaining: 1m 47s\n1108:\tlearn: 21829.1287723\ttest: 74321.5595083\tbest: 74321.5595083 (1108)\ttotal: 2m 13s\tremaining: 1m 47s\n1109:\tlearn: 21815.5538335\ttest: 74318.7548354\tbest: 74318.7548354 (1109)\ttotal: 2m 13s\tremaining: 1m 47s\n1110:\tlearn: 21807.4454425\ttest: 74319.9961706\tbest: 74318.7548354 (1109)\ttotal: 2m 13s\tremaining: 1m 47s\n1111:\tlearn: 21803.8226620\ttest: 74319.6702447\tbest: 74318.7548354 (1109)\ttotal: 2m 13s\tremaining: 1m 47s\n1112:\tlearn: 21791.8090823\ttest: 74317.4319698\tbest: 74317.4319698 (1112)\ttotal: 2m 14s\tremaining: 1m 46s\n1113:\tlearn: 21774.0505201\ttest: 74317.4669203\tbest: 74317.4319698 (1112)\ttotal: 2m 14s\tremaining: 1m 46s\n1114:\tlearn: 21755.5213900\ttest: 74316.5046128\tbest: 74316.5046128 (1114)\ttotal: 2m 14s\tremaining: 1m 46s\n1115:\tlearn: 21743.3929916\ttest: 74318.6090658\tbest: 74316.5046128 (1114)\ttotal: 2m 14s\tremaining: 1m 46s\n1116:\tlearn: 21727.7528579\ttest: 74318.1642584\tbest: 74316.5046128 (1114)\ttotal: 2m 14s\tremaining: 1m 46s\n1117:\tlearn: 21711.7294946\ttest: 74317.2206834\tbest: 74316.5046128 (1114)\ttotal: 2m 14s\tremaining: 1m 46s\n1118:\tlearn: 21688.9536727\ttest: 74314.7583558\tbest: 74314.7583558 (1118)\ttotal: 2m 14s\tremaining: 1m 46s\n1119:\tlearn: 21685.2688151\ttest: 74313.1931040\tbest: 74313.1931040 (1119)\ttotal: 2m 15s\tremaining: 1m 46s\n1120:\tlearn: 21671.9779521\ttest: 74313.6073543\tbest: 74313.1931040 (1119)\ttotal: 2m 15s\tremaining: 1m 46s\n1121:\tlearn: 21665.4230384\ttest: 74313.4770939\tbest: 74313.1931040 (1119)\ttotal: 2m 15s\tremaining: 1m 46s\n1122:\tlearn: 21661.1076060\ttest: 74310.0529519\tbest: 74310.0529519 (1122)\ttotal: 2m 15s\tremaining: 1m 46s\n1123:\tlearn: 21649.3343594\ttest: 74308.5390847\tbest: 74308.5390847 (1123)\ttotal: 2m 16s\tremaining: 1m 46s\n1124:\tlearn: 21635.0416152\ttest: 74307.9019672\tbest: 74307.9019672 (1124)\ttotal: 2m 16s\tremaining: 1m 45s\n1125:\tlearn: 21614.8504300\ttest: 74301.9995186\tbest: 74301.9995186 (1125)\ttotal: 2m 16s\tremaining: 1m 45s\n1126:\tlearn: 21604.6193441\ttest: 74297.7303491\tbest: 74297.7303491 (1126)\ttotal: 2m 16s\tremaining: 1m 45s\n1127:\tlearn: 21596.7890321\ttest: 74295.5176859\tbest: 74295.5176859 (1127)\ttotal: 2m 17s\tremaining: 1m 45s\n1128:\tlearn: 21584.1604790\ttest: 74288.4290446\tbest: 74288.4290446 (1128)\ttotal: 2m 17s\tremaining: 1m 45s\n1129:\tlearn: 21571.5550784\ttest: 74272.3399602\tbest: 74272.3399602 (1129)\ttotal: 2m 17s\tremaining: 1m 45s\n1130:\tlearn: 21553.8866726\ttest: 74274.3506433\tbest: 74272.3399602 (1129)\ttotal: 2m 17s\tremaining: 1m 45s\n1131:\tlearn: 21534.3488606\ttest: 74263.0494934\tbest: 74263.0494934 (1131)\ttotal: 2m 17s\tremaining: 1m 45s\n1132:\tlearn: 21523.1579186\ttest: 74253.0379210\tbest: 74253.0379210 (1132)\ttotal: 2m 18s\tremaining: 1m 45s\n1133:\tlearn: 21513.4219988\ttest: 74256.7464756\tbest: 74253.0379210 (1132)\ttotal: 2m 18s\tremaining: 1m 45s\n1134:\tlearn: 21498.6476619\ttest: 74255.5448587\tbest: 74253.0379210 (1132)\ttotal: 2m 18s\tremaining: 1m 45s\n1135:\tlearn: 21493.5564855\ttest: 74254.7533426\tbest: 74253.0379210 (1132)\ttotal: 2m 18s\tremaining: 1m 45s\n1136:\tlearn: 21486.0405902\ttest: 74253.0732950\tbest: 74253.0379210 (1132)\ttotal: 2m 18s\tremaining: 1m 45s\n1137:\tlearn: 21475.1010108\ttest: 74254.7119061\tbest: 74253.0379210 (1132)\ttotal: 2m 18s\tremaining: 1m 45s\n1138:\tlearn: 21462.2134664\ttest: 74258.2666003\tbest: 74253.0379210 (1132)\ttotal: 2m 18s\tremaining: 1m 44s\n1139:\tlearn: 21429.4809827\ttest: 74256.0776815\tbest: 74253.0379210 (1132)\ttotal: 2m 19s\tremaining: 1m 44s\n1140:\tlearn: 21420.4553865\ttest: 74255.8245677\tbest: 74253.0379210 (1132)\ttotal: 2m 19s\tremaining: 1m 44s\n1141:\tlearn: 21409.7247843\ttest: 74254.9882236\tbest: 74253.0379210 (1132)\ttotal: 2m 19s\tremaining: 1m 44s\n1142:\tlearn: 21399.9061650\ttest: 74255.9712641\tbest: 74253.0379210 (1132)\ttotal: 2m 19s\tremaining: 1m 44s\n1143:\tlearn: 21392.6664566\ttest: 74260.5550294\tbest: 74253.0379210 (1132)\ttotal: 2m 19s\tremaining: 1m 44s\n1144:\tlearn: 21378.8882875\ttest: 74258.0573891\tbest: 74253.0379210 (1132)\ttotal: 2m 19s\tremaining: 1m 44s\n1145:\tlearn: 21368.9373676\ttest: 74252.9633913\tbest: 74252.9633913 (1145)\ttotal: 2m 19s\tremaining: 1m 44s\n1146:\tlearn: 21354.2250413\ttest: 74238.5330783\tbest: 74238.5330783 (1146)\ttotal: 2m 19s\tremaining: 1m 44s\n1147:\tlearn: 21344.1777871\ttest: 74236.6900235\tbest: 74236.6900235 (1147)\ttotal: 2m 20s\tremaining: 1m 43s\n1148:\tlearn: 21332.8337330\ttest: 74245.5833001\tbest: 74236.6900235 (1147)\ttotal: 2m 20s\tremaining: 1m 43s\n1149:\tlearn: 21326.3506443\ttest: 74244.7277406\tbest: 74236.6900235 (1147)\ttotal: 2m 20s\tremaining: 1m 43s\n1150:\tlearn: 21319.4081563\ttest: 74246.8760532\tbest: 74236.6900235 (1147)\ttotal: 2m 20s\tremaining: 1m 43s\n1151:\tlearn: 21314.9736202\ttest: 74248.5805641\tbest: 74236.6900235 (1147)\ttotal: 2m 20s\tremaining: 1m 43s\n1152:\tlearn: 21308.4214503\ttest: 74247.8668692\tbest: 74236.6900235 (1147)\ttotal: 2m 20s\tremaining: 1m 43s\n1153:\tlearn: 21301.8484552\ttest: 74248.4423984\tbest: 74236.6900235 (1147)\ttotal: 2m 20s\tremaining: 1m 43s\n1154:\tlearn: 21275.4766520\ttest: 74254.1744327\tbest: 74236.6900235 (1147)\ttotal: 2m 20s\tremaining: 1m 43s\n1155:\tlearn: 21238.7711991\ttest: 74247.2695357\tbest: 74236.6900235 (1147)\ttotal: 2m 20s\tremaining: 1m 42s\n1156:\tlearn: 21231.4617465\ttest: 74247.0644826\tbest: 74236.6900235 (1147)\ttotal: 2m 21s\tremaining: 1m 42s\n1157:\tlearn: 21206.7745676\ttest: 74250.2207181\tbest: 74236.6900235 (1147)\ttotal: 2m 21s\tremaining: 1m 42s\n1158:\tlearn: 21202.9941373\ttest: 74247.1147260\tbest: 74236.6900235 (1147)\ttotal: 2m 21s\tremaining: 1m 42s\n1159:\tlearn: 21181.9958514\ttest: 74245.0078888\tbest: 74236.6900235 (1147)\ttotal: 2m 21s\tremaining: 1m 42s\n1160:\tlearn: 21172.3434102\ttest: 74240.7541934\tbest: 74236.6900235 (1147)\ttotal: 2m 21s\tremaining: 1m 42s\n1161:\tlearn: 21161.7379721\ttest: 74235.5754041\tbest: 74235.5754041 (1161)\ttotal: 2m 21s\tremaining: 1m 42s\n1162:\tlearn: 21128.9744899\ttest: 74236.0238076\tbest: 74235.5754041 (1161)\ttotal: 2m 21s\tremaining: 1m 42s\n1163:\tlearn: 21121.6486085\ttest: 74234.2462584\tbest: 74234.2462584 (1163)\ttotal: 2m 21s\tremaining: 1m 41s\n1164:\tlearn: 21106.7348916\ttest: 74221.4841603\tbest: 74221.4841603 (1164)\ttotal: 2m 22s\tremaining: 1m 41s\n1165:\tlearn: 21088.8191642\ttest: 74211.4067951\tbest: 74211.4067951 (1165)\ttotal: 2m 22s\tremaining: 1m 41s\n1166:\tlearn: 21065.0204063\ttest: 74197.1533531\tbest: 74197.1533531 (1166)\ttotal: 2m 22s\tremaining: 1m 41s\n1167:\tlearn: 21058.2518897\ttest: 74198.3158870\tbest: 74197.1533531 (1166)\ttotal: 2m 22s\tremaining: 1m 41s\n1168:\tlearn: 21041.1514539\ttest: 74202.2190266\tbest: 74197.1533531 (1166)\ttotal: 2m 22s\tremaining: 1m 41s\n1169:\tlearn: 21030.3651476\ttest: 74201.3134810\tbest: 74197.1533531 (1166)\ttotal: 2m 22s\tremaining: 1m 41s\n1170:\tlearn: 21014.7603010\ttest: 74202.7135473\tbest: 74197.1533531 (1166)\ttotal: 2m 22s\tremaining: 1m 41s\n1171:\tlearn: 20998.6558634\ttest: 74203.6768197\tbest: 74197.1533531 (1166)\ttotal: 2m 22s\tremaining: 1m 40s\n1172:\tlearn: 20987.9214868\ttest: 74204.3199749\tbest: 74197.1533531 (1166)\ttotal: 2m 23s\tremaining: 1m 40s\n1173:\tlearn: 20978.5004522\ttest: 74202.9855635\tbest: 74197.1533531 (1166)\ttotal: 2m 23s\tremaining: 1m 40s\n1174:\tlearn: 20952.8470370\ttest: 74203.6203433\tbest: 74197.1533531 (1166)\ttotal: 2m 23s\tremaining: 1m 40s\n1175:\tlearn: 20937.2844362\ttest: 74203.9689067\tbest: 74197.1533531 (1166)\ttotal: 2m 23s\tremaining: 1m 40s\n1176:\tlearn: 20928.9304224\ttest: 74204.2139312\tbest: 74197.1533531 (1166)\ttotal: 2m 23s\tremaining: 1m 40s\n1177:\tlearn: 20913.6370159\ttest: 74199.3454219\tbest: 74197.1533531 (1166)\ttotal: 2m 23s\tremaining: 1m 40s\n1178:\tlearn: 20905.5226486\ttest: 74198.2950250\tbest: 74197.1533531 (1166)\ttotal: 2m 23s\tremaining: 1m 40s\n1179:\tlearn: 20901.5649736\ttest: 74198.9231330\tbest: 74197.1533531 (1166)\ttotal: 2m 23s\tremaining: 1m 40s\n1180:\tlearn: 20898.0983891\ttest: 74199.9270468\tbest: 74197.1533531 (1166)\ttotal: 2m 24s\tremaining: 1m 39s\n1181:\tlearn: 20891.0579145\ttest: 74195.7880102\tbest: 74195.7880102 (1181)\ttotal: 2m 24s\tremaining: 1m 39s\n1182:\tlearn: 20881.5802298\ttest: 74193.0083263\tbest: 74193.0083263 (1182)\ttotal: 2m 24s\tremaining: 1m 39s\n1183:\tlearn: 20878.2166243\ttest: 74190.0520152\tbest: 74190.0520152 (1183)\ttotal: 2m 24s\tremaining: 1m 39s\n1184:\tlearn: 20870.6391752\ttest: 74191.4793105\tbest: 74190.0520152 (1183)\ttotal: 2m 24s\tremaining: 1m 39s\n1185:\tlearn: 20854.3539598\ttest: 74193.7363090\tbest: 74190.0520152 (1183)\ttotal: 2m 24s\tremaining: 1m 39s\n1186:\tlearn: 20851.1768905\ttest: 74194.1991538\tbest: 74190.0520152 (1183)\ttotal: 2m 24s\tremaining: 1m 39s\n1187:\tlearn: 20841.9790663\ttest: 74191.8742881\tbest: 74190.0520152 (1183)\ttotal: 2m 24s\tremaining: 1m 39s\n1188:\tlearn: 20832.6800266\ttest: 74190.7021999\tbest: 74190.0520152 (1183)\ttotal: 2m 25s\tremaining: 1m 38s\n1189:\tlearn: 20818.9229010\ttest: 74192.1777432\tbest: 74190.0520152 (1183)\ttotal: 2m 25s\tremaining: 1m 38s\n1190:\tlearn: 20788.2171595\ttest: 74190.1906808\tbest: 74190.0520152 (1183)\ttotal: 2m 25s\tremaining: 1m 38s\n1191:\tlearn: 20780.8985108\ttest: 74189.4384140\tbest: 74189.4384140 (1191)\ttotal: 2m 25s\tremaining: 1m 38s\n1192:\tlearn: 20770.6623385\ttest: 74176.7357477\tbest: 74176.7357477 (1192)\ttotal: 2m 25s\tremaining: 1m 38s\n1193:\tlearn: 20765.8474160\ttest: 74177.7405430\tbest: 74176.7357477 (1192)\ttotal: 2m 25s\tremaining: 1m 38s\n1194:\tlearn: 20757.8312940\ttest: 74174.2760511\tbest: 74174.2760511 (1194)\ttotal: 2m 25s\tremaining: 1m 38s\n1195:\tlearn: 20742.8413612\ttest: 74173.2782644\tbest: 74173.2782644 (1195)\ttotal: 2m 26s\tremaining: 1m 38s\n1196:\tlearn: 20734.2451503\ttest: 74174.8491514\tbest: 74173.2782644 (1195)\ttotal: 2m 26s\tremaining: 1m 38s\n1197:\tlearn: 20725.0670267\ttest: 74175.3466944\tbest: 74173.2782644 (1195)\ttotal: 2m 26s\tremaining: 1m 37s\n1198:\tlearn: 20706.0237766\ttest: 74177.2867481\tbest: 74173.2782644 (1195)\ttotal: 2m 26s\tremaining: 1m 37s\n1199:\tlearn: 20702.1481156\ttest: 74176.3489064\tbest: 74173.2782644 (1195)\ttotal: 2m 26s\tremaining: 1m 37s\n1200:\tlearn: 20679.4434011\ttest: 74172.6567239\tbest: 74172.6567239 (1200)\ttotal: 2m 26s\tremaining: 1m 37s\n1201:\tlearn: 20667.7161061\ttest: 74171.7600715\tbest: 74171.7600715 (1201)\ttotal: 2m 26s\tremaining: 1m 37s\n1202:\tlearn: 20663.6294899\ttest: 74171.2425977\tbest: 74171.2425977 (1202)\ttotal: 2m 26s\tremaining: 1m 37s\n1203:\tlearn: 20659.5821300\ttest: 74171.7123867\tbest: 74171.2425977 (1202)\ttotal: 2m 27s\tremaining: 1m 37s\n1204:\tlearn: 20652.7404166\ttest: 74170.3274645\tbest: 74170.3274645 (1204)\ttotal: 2m 27s\tremaining: 1m 37s\n1205:\tlearn: 20643.2836523\ttest: 74167.2583289\tbest: 74167.2583289 (1205)\ttotal: 2m 27s\tremaining: 1m 36s\n1206:\tlearn: 20636.5910435\ttest: 74157.9517100\tbest: 74157.9517100 (1206)\ttotal: 2m 27s\tremaining: 1m 36s\n1207:\tlearn: 20617.9169222\ttest: 74161.2075875\tbest: 74157.9517100 (1206)\ttotal: 2m 27s\tremaining: 1m 36s\n1208:\tlearn: 20602.2900925\ttest: 74148.2548276\tbest: 74148.2548276 (1208)\ttotal: 2m 27s\tremaining: 1m 36s\n1209:\tlearn: 20583.8388212\ttest: 74145.4811857\tbest: 74145.4811857 (1209)\ttotal: 2m 27s\tremaining: 1m 36s\n1210:\tlearn: 20567.6786073\ttest: 74134.0938796\tbest: 74134.0938796 (1210)\ttotal: 2m 27s\tremaining: 1m 36s\n1211:\tlearn: 20560.2678580\ttest: 74137.2394286\tbest: 74134.0938796 (1210)\ttotal: 2m 27s\tremaining: 1m 36s\n1212:\tlearn: 20548.0129853\ttest: 74140.1883904\tbest: 74134.0938796 (1210)\ttotal: 2m 28s\tremaining: 1m 36s\n1213:\tlearn: 20542.6888379\ttest: 74138.6428004\tbest: 74134.0938796 (1210)\ttotal: 2m 28s\tremaining: 1m 35s\n1214:\tlearn: 20540.3453639\ttest: 74137.9931400\tbest: 74134.0938796 (1210)\ttotal: 2m 28s\tremaining: 1m 35s\n1215:\tlearn: 20531.6610751\ttest: 74139.9680381\tbest: 74134.0938796 (1210)\ttotal: 2m 28s\tremaining: 1m 35s\n1216:\tlearn: 20517.6115392\ttest: 74135.7340381\tbest: 74134.0938796 (1210)\ttotal: 2m 28s\tremaining: 1m 35s\n1217:\tlearn: 20509.6886356\ttest: 74139.0697622\tbest: 74134.0938796 (1210)\ttotal: 2m 28s\tremaining: 1m 35s\n1218:\tlearn: 20499.7556456\ttest: 74143.4048692\tbest: 74134.0938796 (1210)\ttotal: 2m 28s\tremaining: 1m 35s\n1219:\tlearn: 20491.0364619\ttest: 74142.7343340\tbest: 74134.0938796 (1210)\ttotal: 2m 28s\tremaining: 1m 35s\n1220:\tlearn: 20487.1140725\ttest: 74141.7165830\tbest: 74134.0938796 (1210)\ttotal: 2m 29s\tremaining: 1m 35s\n1221:\tlearn: 20483.3122732\ttest: 74142.6141825\tbest: 74134.0938796 (1210)\ttotal: 2m 29s\tremaining: 1m 35s\n1222:\tlearn: 20470.2079002\ttest: 74141.9254603\tbest: 74134.0938796 (1210)\ttotal: 2m 29s\tremaining: 1m 34s\n1223:\tlearn: 20456.0436652\ttest: 74137.5823501\tbest: 74134.0938796 (1210)\ttotal: 2m 29s\tremaining: 1m 34s\n1224:\tlearn: 20442.1837698\ttest: 74127.2782427\tbest: 74127.2782427 (1224)\ttotal: 2m 29s\tremaining: 1m 34s\n1225:\tlearn: 20426.7672445\ttest: 74120.1818582\tbest: 74120.1818582 (1225)\ttotal: 2m 29s\tremaining: 1m 34s\n1226:\tlearn: 20418.2427658\ttest: 74119.4371148\tbest: 74119.4371148 (1226)\ttotal: 2m 29s\tremaining: 1m 34s\n1227:\tlearn: 20407.1468246\ttest: 74124.9708533\tbest: 74119.4371148 (1226)\ttotal: 2m 29s\tremaining: 1m 34s\n1228:\tlearn: 20401.0845759\ttest: 74120.8501402\tbest: 74119.4371148 (1226)\ttotal: 2m 30s\tremaining: 1m 34s\n1229:\tlearn: 20380.0700785\ttest: 74127.7910493\tbest: 74119.4371148 (1226)\ttotal: 2m 30s\tremaining: 1m 34s\n1230:\tlearn: 20377.3619144\ttest: 74129.5038082\tbest: 74119.4371148 (1226)\ttotal: 2m 30s\tremaining: 1m 33s\n1231:\tlearn: 20369.6803825\ttest: 74130.3606799\tbest: 74119.4371148 (1226)\ttotal: 2m 30s\tremaining: 1m 33s\n1232:\tlearn: 20357.2262810\ttest: 74133.9727403\tbest: 74119.4371148 (1226)\ttotal: 2m 30s\tremaining: 1m 33s\n1233:\tlearn: 20329.8476394\ttest: 74135.4384885\tbest: 74119.4371148 (1226)\ttotal: 2m 30s\tremaining: 1m 33s\n1234:\tlearn: 20323.7641966\ttest: 74137.3317192\tbest: 74119.4371148 (1226)\ttotal: 2m 30s\tremaining: 1m 33s\n1235:\tlearn: 20310.0534542\ttest: 74139.3030031\tbest: 74119.4371148 (1226)\ttotal: 2m 30s\tremaining: 1m 33s\n1236:\tlearn: 20304.1871510\ttest: 74143.0241517\tbest: 74119.4371148 (1226)\ttotal: 2m 31s\tremaining: 1m 33s\n1237:\tlearn: 20280.3662929\ttest: 74144.3007285\tbest: 74119.4371148 (1226)\ttotal: 2m 31s\tremaining: 1m 33s\n1238:\tlearn: 20274.3648315\ttest: 74150.9315534\tbest: 74119.4371148 (1226)\ttotal: 2m 31s\tremaining: 1m 32s\n1239:\tlearn: 20264.6631536\ttest: 74150.4304701\tbest: 74119.4371148 (1226)\ttotal: 2m 31s\tremaining: 1m 32s\n1240:\tlearn: 20246.7910245\ttest: 74150.0994977\tbest: 74119.4371148 (1226)\ttotal: 2m 31s\tremaining: 1m 32s\n1241:\tlearn: 20240.8257531\ttest: 74158.1535353\tbest: 74119.4371148 (1226)\ttotal: 2m 31s\tremaining: 1m 32s\n1242:\tlearn: 20229.0668279\ttest: 74147.0682585\tbest: 74119.4371148 (1226)\ttotal: 2m 31s\tremaining: 1m 32s\n1243:\tlearn: 20218.3798731\ttest: 74144.9442972\tbest: 74119.4371148 (1226)\ttotal: 2m 31s\tremaining: 1m 32s\n1244:\tlearn: 20209.6372949\ttest: 74146.7919917\tbest: 74119.4371148 (1226)\ttotal: 2m 32s\tremaining: 1m 32s\n1245:\tlearn: 20188.0088589\ttest: 74140.9302761\tbest: 74119.4371148 (1226)\ttotal: 2m 32s\tremaining: 1m 32s\n1246:\tlearn: 20183.0850136\ttest: 74132.8930517\tbest: 74119.4371148 (1226)\ttotal: 2m 32s\tremaining: 1m 31s\n1247:\tlearn: 20171.0777073\ttest: 74122.6391148\tbest: 74119.4371148 (1226)\ttotal: 2m 32s\tremaining: 1m 31s\n1248:\tlearn: 20157.5398865\ttest: 74120.3333126\tbest: 74119.4371148 (1226)\ttotal: 2m 32s\tremaining: 1m 31s\n1249:\tlearn: 20149.5078452\ttest: 74119.0037595\tbest: 74119.0037595 (1249)\ttotal: 2m 32s\tremaining: 1m 31s\n1250:\tlearn: 20129.3530128\ttest: 74122.9200901\tbest: 74119.0037595 (1249)\ttotal: 2m 32s\tremaining: 1m 31s\n1251:\tlearn: 20119.8836577\ttest: 74121.9214693\tbest: 74119.0037595 (1249)\ttotal: 2m 32s\tremaining: 1m 31s\n1252:\tlearn: 20116.4105586\ttest: 74122.0108913\tbest: 74119.0037595 (1249)\ttotal: 2m 33s\tremaining: 1m 31s\n1253:\tlearn: 20107.2307311\ttest: 74121.2735530\tbest: 74119.0037595 (1249)\ttotal: 2m 33s\tremaining: 1m 31s\n1254:\tlearn: 20083.5870085\ttest: 74118.4143909\tbest: 74118.4143909 (1254)\ttotal: 2m 33s\tremaining: 1m 31s\n1255:\tlearn: 20062.1885320\ttest: 74114.8810249\tbest: 74114.8810249 (1255)\ttotal: 2m 33s\tremaining: 1m 30s\n1256:\tlearn: 20050.3030009\ttest: 74115.1147254\tbest: 74114.8810249 (1255)\ttotal: 2m 33s\tremaining: 1m 30s\n1257:\tlearn: 20043.5646419\ttest: 74110.9059806\tbest: 74110.9059806 (1257)\ttotal: 2m 33s\tremaining: 1m 30s\n1258:\tlearn: 20040.7681907\ttest: 74109.2943954\tbest: 74109.2943954 (1258)\ttotal: 2m 33s\tremaining: 1m 30s\n1259:\tlearn: 20029.4584627\ttest: 74109.3027550\tbest: 74109.2943954 (1258)\ttotal: 2m 34s\tremaining: 1m 30s\n1260:\tlearn: 20019.5627556\ttest: 74109.7192365\tbest: 74109.2943954 (1258)\ttotal: 2m 34s\tremaining: 1m 30s\n1261:\tlearn: 20007.5116378\ttest: 74106.0955165\tbest: 74106.0955165 (1261)\ttotal: 2m 34s\tremaining: 1m 30s\n1262:\tlearn: 19984.7360421\ttest: 74104.0836991\tbest: 74104.0836991 (1262)\ttotal: 2m 34s\tremaining: 1m 30s\n1263:\tlearn: 19966.0089766\ttest: 74103.5650320\tbest: 74103.5650320 (1263)\ttotal: 2m 34s\tremaining: 1m 29s\n1264:\tlearn: 19950.0824018\ttest: 74102.6694471\tbest: 74102.6694471 (1264)\ttotal: 2m 34s\tremaining: 1m 29s\n1265:\tlearn: 19934.5683504\ttest: 74101.8751292\tbest: 74101.8751292 (1265)\ttotal: 2m 34s\tremaining: 1m 29s\n1266:\tlearn: 19920.5356774\ttest: 74109.8430380\tbest: 74101.8751292 (1265)\ttotal: 2m 34s\tremaining: 1m 29s\n1267:\tlearn: 19898.1876314\ttest: 74108.3894916\tbest: 74101.8751292 (1265)\ttotal: 2m 35s\tremaining: 1m 29s\n1268:\tlearn: 19891.3970737\ttest: 74107.7425471\tbest: 74101.8751292 (1265)\ttotal: 2m 35s\tremaining: 1m 29s\n1269:\tlearn: 19885.9419690\ttest: 74108.0176265\tbest: 74101.8751292 (1265)\ttotal: 2m 35s\tremaining: 1m 29s\n1270:\tlearn: 19869.9978992\ttest: 74110.3603108\tbest: 74101.8751292 (1265)\ttotal: 2m 35s\tremaining: 1m 29s\n1271:\tlearn: 19853.5661815\ttest: 74105.7950258\tbest: 74101.8751292 (1265)\ttotal: 2m 35s\tremaining: 1m 29s\n1272:\tlearn: 19848.1530406\ttest: 74104.5288534\tbest: 74101.8751292 (1265)\ttotal: 2m 35s\tremaining: 1m 28s\n1273:\tlearn: 19831.2554228\ttest: 74102.3195721\tbest: 74101.8751292 (1265)\ttotal: 2m 35s\tremaining: 1m 28s\n1274:\tlearn: 19826.5087525\ttest: 74101.4945495\tbest: 74101.4945495 (1274)\ttotal: 2m 36s\tremaining: 1m 28s\n1275:\tlearn: 19821.6983290\ttest: 74102.1478083\tbest: 74101.4945495 (1274)\ttotal: 2m 36s\tremaining: 1m 28s\n1276:\tlearn: 19814.4809341\ttest: 74099.9184853\tbest: 74099.9184853 (1276)\ttotal: 2m 36s\tremaining: 1m 28s\n1277:\tlearn: 19810.3013314\ttest: 74097.1317177\tbest: 74097.1317177 (1277)\ttotal: 2m 36s\tremaining: 1m 28s\n1278:\tlearn: 19803.0423514\ttest: 74095.4073820\tbest: 74095.4073820 (1278)\ttotal: 2m 36s\tremaining: 1m 28s\n1279:\tlearn: 19794.6822775\ttest: 74092.0446124\tbest: 74092.0446124 (1279)\ttotal: 2m 36s\tremaining: 1m 28s\n1280:\tlearn: 19774.6726557\ttest: 74090.8336524\tbest: 74090.8336524 (1280)\ttotal: 2m 36s\tremaining: 1m 28s\n1281:\tlearn: 19767.3263517\ttest: 74098.5091546\tbest: 74090.8336524 (1280)\ttotal: 2m 36s\tremaining: 1m 27s\n1282:\tlearn: 19752.3480148\ttest: 74099.7599296\tbest: 74090.8336524 (1280)\ttotal: 2m 37s\tremaining: 1m 27s\n1283:\tlearn: 19741.8359991\ttest: 74101.2365654\tbest: 74090.8336524 (1280)\ttotal: 2m 37s\tremaining: 1m 27s\n1284:\tlearn: 19723.3348857\ttest: 74103.3435905\tbest: 74090.8336524 (1280)\ttotal: 2m 37s\tremaining: 1m 27s\n1285:\tlearn: 19719.6137678\ttest: 74112.6652024\tbest: 74090.8336524 (1280)\ttotal: 2m 37s\tremaining: 1m 27s\n1286:\tlearn: 19716.7851679\ttest: 74113.3501781\tbest: 74090.8336524 (1280)\ttotal: 2m 37s\tremaining: 1m 27s\n1287:\tlearn: 19707.5821509\ttest: 74110.3943606\tbest: 74090.8336524 (1280)\ttotal: 2m 38s\tremaining: 1m 27s\n1288:\tlearn: 19701.0711640\ttest: 74110.5948933\tbest: 74090.8336524 (1280)\ttotal: 2m 38s\tremaining: 1m 27s\n1289:\tlearn: 19691.1829665\ttest: 74110.2316526\tbest: 74090.8336524 (1280)\ttotal: 2m 38s\tremaining: 1m 27s\n1290:\tlearn: 19679.1021574\ttest: 74111.5190437\tbest: 74090.8336524 (1280)\ttotal: 2m 38s\tremaining: 1m 27s\n1291:\tlearn: 19674.9411687\ttest: 74112.0013660\tbest: 74090.8336524 (1280)\ttotal: 2m 38s\tremaining: 1m 27s\n1292:\tlearn: 19670.2123558\ttest: 74110.8044012\tbest: 74090.8336524 (1280)\ttotal: 2m 39s\tremaining: 1m 26s\n1293:\tlearn: 19661.2549621\ttest: 74111.5993975\tbest: 74090.8336524 (1280)\ttotal: 2m 39s\tremaining: 1m 26s\n1294:\tlearn: 19651.4472794\ttest: 74111.1061055\tbest: 74090.8336524 (1280)\ttotal: 2m 39s\tremaining: 1m 26s\n1295:\tlearn: 19638.7327341\ttest: 74114.9399442\tbest: 74090.8336524 (1280)\ttotal: 2m 39s\tremaining: 1m 26s\n1296:\tlearn: 19631.6527119\ttest: 74114.1549150\tbest: 74090.8336524 (1280)\ttotal: 2m 39s\tremaining: 1m 26s\n1297:\tlearn: 19613.0296919\ttest: 74110.1956723\tbest: 74090.8336524 (1280)\ttotal: 2m 39s\tremaining: 1m 26s\n1298:\tlearn: 19606.1888023\ttest: 74107.4234837\tbest: 74090.8336524 (1280)\ttotal: 2m 40s\tremaining: 1m 26s\n1299:\tlearn: 19589.3447251\ttest: 74108.3540975\tbest: 74090.8336524 (1280)\ttotal: 2m 40s\tremaining: 1m 26s\n1300:\tlearn: 19581.0198910\ttest: 74108.8153323\tbest: 74090.8336524 (1280)\ttotal: 2m 40s\tremaining: 1m 26s\n1301:\tlearn: 19569.2647350\ttest: 74098.7276772\tbest: 74090.8336524 (1280)\ttotal: 2m 40s\tremaining: 1m 26s\n1302:\tlearn: 19558.5126565\ttest: 74099.2361063\tbest: 74090.8336524 (1280)\ttotal: 2m 40s\tremaining: 1m 26s\n1303:\tlearn: 19548.7306433\ttest: 74098.1991196\tbest: 74090.8336524 (1280)\ttotal: 2m 41s\tremaining: 1m 25s\n1304:\tlearn: 19545.2642584\ttest: 74097.3952510\tbest: 74090.8336524 (1280)\ttotal: 2m 41s\tremaining: 1m 25s\n1305:\tlearn: 19537.3358366\ttest: 74098.4235860\tbest: 74090.8336524 (1280)\ttotal: 2m 41s\tremaining: 1m 25s\n1306:\tlearn: 19526.0247893\ttest: 74095.4360332\tbest: 74090.8336524 (1280)\ttotal: 2m 41s\tremaining: 1m 25s\n1307:\tlearn: 19515.2645416\ttest: 74103.1275427\tbest: 74090.8336524 (1280)\ttotal: 2m 41s\tremaining: 1m 25s\n1308:\tlearn: 19498.1390845\ttest: 74105.2662141\tbest: 74090.8336524 (1280)\ttotal: 2m 41s\tremaining: 1m 25s\n1309:\tlearn: 19483.3665157\ttest: 74105.6236733\tbest: 74090.8336524 (1280)\ttotal: 2m 42s\tremaining: 1m 25s\n1310:\tlearn: 19476.3741525\ttest: 74106.9514995\tbest: 74090.8336524 (1280)\ttotal: 2m 42s\tremaining: 1m 25s\n1311:\tlearn: 19471.0306860\ttest: 74105.6722837\tbest: 74090.8336524 (1280)\ttotal: 2m 42s\tremaining: 1m 25s\n1312:\tlearn: 19465.7420916\ttest: 74106.7443736\tbest: 74090.8336524 (1280)\ttotal: 2m 42s\tremaining: 1m 25s\n1313:\tlearn: 19463.1382001\ttest: 74106.6764109\tbest: 74090.8336524 (1280)\ttotal: 2m 42s\tremaining: 1m 24s\n1314:\tlearn: 19450.4883395\ttest: 74105.9058013\tbest: 74090.8336524 (1280)\ttotal: 2m 43s\tremaining: 1m 24s\n1315:\tlearn: 19424.1946873\ttest: 74103.5060484\tbest: 74090.8336524 (1280)\ttotal: 2m 43s\tremaining: 1m 24s\n1316:\tlearn: 19413.3714871\ttest: 74100.1793926\tbest: 74090.8336524 (1280)\ttotal: 2m 43s\tremaining: 1m 24s\n1317:\tlearn: 19410.2972595\ttest: 74098.9789515\tbest: 74090.8336524 (1280)\ttotal: 2m 43s\tremaining: 1m 24s\n1318:\tlearn: 19405.0697397\ttest: 74098.9029866\tbest: 74090.8336524 (1280)\ttotal: 2m 43s\tremaining: 1m 24s\n1319:\tlearn: 19390.8570274\ttest: 74099.0857908\tbest: 74090.8336524 (1280)\ttotal: 2m 44s\tremaining: 1m 24s\n1320:\tlearn: 19378.7723266\ttest: 74099.8463418\tbest: 74090.8336524 (1280)\ttotal: 2m 44s\tremaining: 1m 24s\n1321:\tlearn: 19370.4899718\ttest: 74098.2151079\tbest: 74090.8336524 (1280)\ttotal: 2m 44s\tremaining: 1m 24s\n1322:\tlearn: 19364.3992852\ttest: 74097.0691221\tbest: 74090.8336524 (1280)\ttotal: 2m 44s\tremaining: 1m 24s\n1323:\tlearn: 19354.2317026\ttest: 74094.6955634\tbest: 74090.8336524 (1280)\ttotal: 2m 45s\tremaining: 1m 24s\n1324:\tlearn: 19340.4609527\ttest: 74092.7048056\tbest: 74090.8336524 (1280)\ttotal: 2m 45s\tremaining: 1m 24s\n1325:\tlearn: 19326.3874078\ttest: 74093.4806829\tbest: 74090.8336524 (1280)\ttotal: 2m 45s\tremaining: 1m 24s\n1326:\tlearn: 19308.9799097\ttest: 74094.2966469\tbest: 74090.8336524 (1280)\ttotal: 2m 46s\tremaining: 1m 24s\n1327:\tlearn: 19303.8634241\ttest: 74098.8556319\tbest: 74090.8336524 (1280)\ttotal: 2m 46s\tremaining: 1m 24s\n1328:\tlearn: 19290.0862250\ttest: 74093.6500991\tbest: 74090.8336524 (1280)\ttotal: 2m 46s\tremaining: 1m 24s\n1329:\tlearn: 19272.6635700\ttest: 74091.6309214\tbest: 74090.8336524 (1280)\ttotal: 2m 46s\tremaining: 1m 24s\n1330:\tlearn: 19254.3945130\ttest: 74086.5668569\tbest: 74086.5668569 (1330)\ttotal: 2m 47s\tremaining: 1m 23s\n1331:\tlearn: 19249.3194778\ttest: 74091.2792146\tbest: 74086.5668569 (1330)\ttotal: 2m 47s\tremaining: 1m 23s\n1332:\tlearn: 19242.9647676\ttest: 74092.3970516\tbest: 74086.5668569 (1330)\ttotal: 2m 47s\tremaining: 1m 23s\n1333:\tlearn: 19228.3044745\ttest: 74090.8290529\tbest: 74086.5668569 (1330)\ttotal: 2m 47s\tremaining: 1m 23s\n1334:\tlearn: 19212.7458298\ttest: 74084.8689769\tbest: 74084.8689769 (1334)\ttotal: 2m 47s\tremaining: 1m 23s\n1335:\tlearn: 19199.2800052\ttest: 74086.6521759\tbest: 74084.8689769 (1334)\ttotal: 2m 48s\tremaining: 1m 23s\n1336:\tlearn: 19184.7887345\ttest: 74090.0607300\tbest: 74084.8689769 (1334)\ttotal: 2m 48s\tremaining: 1m 23s\n1337:\tlearn: 19171.8539836\ttest: 74086.9699248\tbest: 74084.8689769 (1334)\ttotal: 2m 48s\tremaining: 1m 23s\n1338:\tlearn: 19168.6319049\ttest: 74088.2729339\tbest: 74084.8689769 (1334)\ttotal: 2m 48s\tremaining: 1m 23s\n1339:\tlearn: 19167.1603102\ttest: 74086.7666461\tbest: 74084.8689769 (1334)\ttotal: 2m 48s\tremaining: 1m 23s\n1340:\tlearn: 19150.9510884\ttest: 74086.1448473\tbest: 74084.8689769 (1334)\ttotal: 2m 49s\tremaining: 1m 23s\n1341:\tlearn: 19138.7363687\ttest: 74093.0557872\tbest: 74084.8689769 (1334)\ttotal: 2m 49s\tremaining: 1m 22s\n1342:\tlearn: 19124.3594076\ttest: 74086.0588592\tbest: 74084.8689769 (1334)\ttotal: 2m 49s\tremaining: 1m 22s\n1343:\tlearn: 19122.2754433\ttest: 74088.7283302\tbest: 74084.8689769 (1334)\ttotal: 2m 49s\tremaining: 1m 22s\n1344:\tlearn: 19115.6554780\ttest: 74091.0193140\tbest: 74084.8689769 (1334)\ttotal: 2m 49s\tremaining: 1m 22s\n1345:\tlearn: 19100.7314512\ttest: 74090.1513449\tbest: 74084.8689769 (1334)\ttotal: 2m 50s\tremaining: 1m 22s\n1346:\tlearn: 19083.2370389\ttest: 74085.9976540\tbest: 74084.8689769 (1334)\ttotal: 2m 50s\tremaining: 1m 22s\n1347:\tlearn: 19075.7921636\ttest: 74086.9077282\tbest: 74084.8689769 (1334)\ttotal: 2m 50s\tremaining: 1m 22s\n1348:\tlearn: 19052.7639803\ttest: 74088.0211005\tbest: 74084.8689769 (1334)\ttotal: 2m 50s\tremaining: 1m 22s\n1349:\tlearn: 19037.2571819\ttest: 74079.0418036\tbest: 74079.0418036 (1349)\ttotal: 2m 51s\tremaining: 1m 22s\n1350:\tlearn: 19033.2305320\ttest: 74077.0452256\tbest: 74077.0452256 (1350)\ttotal: 2m 51s\tremaining: 1m 22s\n1351:\tlearn: 19023.6172334\ttest: 74076.1922283\tbest: 74076.1922283 (1351)\ttotal: 2m 51s\tremaining: 1m 22s\n1352:\tlearn: 19017.1365904\ttest: 74076.1702394\tbest: 74076.1702394 (1352)\ttotal: 2m 51s\tremaining: 1m 22s\n1353:\tlearn: 19006.1601389\ttest: 74075.7614536\tbest: 74075.7614536 (1353)\ttotal: 2m 52s\tremaining: 1m 22s\n1354:\tlearn: 18990.0447007\ttest: 74074.6432876\tbest: 74074.6432876 (1354)\ttotal: 2m 52s\tremaining: 1m 22s\n1355:\tlearn: 18975.3604905\ttest: 74075.1171719\tbest: 74074.6432876 (1354)\ttotal: 2m 52s\tremaining: 1m 22s\n1356:\tlearn: 18966.3444055\ttest: 74078.2724299\tbest: 74074.6432876 (1354)\ttotal: 2m 52s\tremaining: 1m 21s\n1357:\tlearn: 18956.1102403\ttest: 74078.2242196\tbest: 74074.6432876 (1354)\ttotal: 2m 52s\tremaining: 1m 21s\n1358:\tlearn: 18949.0343300\ttest: 74081.5560501\tbest: 74074.6432876 (1354)\ttotal: 2m 53s\tremaining: 1m 21s\n1359:\tlearn: 18944.0232534\ttest: 74077.5133734\tbest: 74074.6432876 (1354)\ttotal: 2m 53s\tremaining: 1m 21s\n1360:\tlearn: 18930.5502414\ttest: 74086.8880137\tbest: 74074.6432876 (1354)\ttotal: 2m 53s\tremaining: 1m 21s\n1361:\tlearn: 18922.8770404\ttest: 74085.5830693\tbest: 74074.6432876 (1354)\ttotal: 2m 53s\tremaining: 1m 21s\n1362:\tlearn: 18912.1791480\ttest: 74082.4276597\tbest: 74074.6432876 (1354)\ttotal: 2m 54s\tremaining: 1m 21s\n1363:\tlearn: 18885.6867458\ttest: 74083.6261089\tbest: 74074.6432876 (1354)\ttotal: 2m 54s\tremaining: 1m 21s\n1364:\tlearn: 18877.5597390\ttest: 74087.0032743\tbest: 74074.6432876 (1354)\ttotal: 2m 54s\tremaining: 1m 21s\n1365:\tlearn: 18869.2259152\ttest: 74078.6974058\tbest: 74074.6432876 (1354)\ttotal: 2m 54s\tremaining: 1m 21s\n1366:\tlearn: 18862.5913626\ttest: 74079.3264228\tbest: 74074.6432876 (1354)\ttotal: 2m 55s\tremaining: 1m 21s\n1367:\tlearn: 18843.1323301\ttest: 74081.5318484\tbest: 74074.6432876 (1354)\ttotal: 2m 55s\tremaining: 1m 21s\n1368:\tlearn: 18833.7332041\ttest: 74079.6531619\tbest: 74074.6432876 (1354)\ttotal: 2m 55s\tremaining: 1m 20s\n1369:\tlearn: 18827.1756465\ttest: 74079.2764294\tbest: 74074.6432876 (1354)\ttotal: 2m 55s\tremaining: 1m 20s\n1370:\tlearn: 18816.0525362\ttest: 74079.9584269\tbest: 74074.6432876 (1354)\ttotal: 2m 55s\tremaining: 1m 20s\n1371:\tlearn: 18809.1533463\ttest: 74083.1427163\tbest: 74074.6432876 (1354)\ttotal: 2m 56s\tremaining: 1m 20s\n1372:\tlearn: 18805.7760487\ttest: 74084.1579823\tbest: 74074.6432876 (1354)\ttotal: 2m 56s\tremaining: 1m 20s\n1373:\tlearn: 18792.4901782\ttest: 74086.2706040\tbest: 74074.6432876 (1354)\ttotal: 2m 56s\tremaining: 1m 20s\n1374:\tlearn: 18787.5248532\ttest: 74087.7853392\tbest: 74074.6432876 (1354)\ttotal: 2m 57s\tremaining: 1m 20s\n1375:\tlearn: 18770.1735388\ttest: 74086.4319579\tbest: 74074.6432876 (1354)\ttotal: 2m 57s\tremaining: 1m 20s\n1376:\tlearn: 18763.0170126\ttest: 74085.4188942\tbest: 74074.6432876 (1354)\ttotal: 2m 57s\tremaining: 1m 20s\n1377:\tlearn: 18756.2310013\ttest: 74085.6989470\tbest: 74074.6432876 (1354)\ttotal: 2m 57s\tremaining: 1m 20s\n1378:\tlearn: 18747.8409363\ttest: 74084.8291766\tbest: 74074.6432876 (1354)\ttotal: 2m 57s\tremaining: 1m 20s\n1379:\tlearn: 18743.2134226\ttest: 74084.2431309\tbest: 74074.6432876 (1354)\ttotal: 2m 58s\tremaining: 1m 20s\n1380:\tlearn: 18736.0830383\ttest: 74082.9828434\tbest: 74074.6432876 (1354)\ttotal: 2m 58s\tremaining: 1m 19s\n1381:\tlearn: 18730.5112900\ttest: 74081.5898635\tbest: 74074.6432876 (1354)\ttotal: 2m 58s\tremaining: 1m 19s\n1382:\tlearn: 18722.1462618\ttest: 74079.8515798\tbest: 74074.6432876 (1354)\ttotal: 2m 58s\tremaining: 1m 19s\n1383:\tlearn: 18715.3998398\ttest: 74078.6818557\tbest: 74074.6432876 (1354)\ttotal: 2m 58s\tremaining: 1m 19s\n1384:\tlearn: 18698.5960745\ttest: 74077.1037284\tbest: 74074.6432876 (1354)\ttotal: 2m 59s\tremaining: 1m 19s\n1385:\tlearn: 18681.6052349\ttest: 74082.0940394\tbest: 74074.6432876 (1354)\ttotal: 2m 59s\tremaining: 1m 19s\n1386:\tlearn: 18655.8531865\ttest: 74081.0948342\tbest: 74074.6432876 (1354)\ttotal: 2m 59s\tremaining: 1m 19s\n1387:\tlearn: 18639.5384497\ttest: 74076.2957164\tbest: 74074.6432876 (1354)\ttotal: 2m 59s\tremaining: 1m 19s\n1388:\tlearn: 18637.3702448\ttest: 74077.0544463\tbest: 74074.6432876 (1354)\ttotal: 2m 59s\tremaining: 1m 19s\n1389:\tlearn: 18631.6806607\ttest: 74077.0578120\tbest: 74074.6432876 (1354)\ttotal: 3m\tremaining: 1m 19s\n1390:\tlearn: 18628.5956394\ttest: 74079.0615098\tbest: 74074.6432876 (1354)\ttotal: 3m\tremaining: 1m 19s\n1391:\tlearn: 18616.2524117\ttest: 74078.8025070\tbest: 74074.6432876 (1354)\ttotal: 3m\tremaining: 1m 18s\n1392:\tlearn: 18601.1770948\ttest: 74081.1342122\tbest: 74074.6432876 (1354)\ttotal: 3m 1s\tremaining: 1m 18s\n1393:\tlearn: 18595.4143264\ttest: 74082.5477036\tbest: 74074.6432876 (1354)\ttotal: 3m 1s\tremaining: 1m 18s\n1394:\tlearn: 18592.6968934\ttest: 74080.3664494\tbest: 74074.6432876 (1354)\ttotal: 3m 1s\tremaining: 1m 18s\n1395:\tlearn: 18585.1856494\ttest: 74080.0790832\tbest: 74074.6432876 (1354)\ttotal: 3m 1s\tremaining: 1m 18s\n1396:\tlearn: 18574.7465005\ttest: 74077.3395249\tbest: 74074.6432876 (1354)\ttotal: 3m 1s\tremaining: 1m 18s\n1397:\tlearn: 18558.3755871\ttest: 74076.2013868\tbest: 74074.6432876 (1354)\ttotal: 3m 2s\tremaining: 1m 18s\n1398:\tlearn: 18554.2459166\ttest: 74073.6613042\tbest: 74073.6613042 (1398)\ttotal: 3m 2s\tremaining: 1m 18s\n1399:\tlearn: 18548.2358334\ttest: 74069.1227730\tbest: 74069.1227730 (1399)\ttotal: 3m 2s\tremaining: 1m 18s\n1400:\tlearn: 18532.9522940\ttest: 74070.9480580\tbest: 74069.1227730 (1399)\ttotal: 3m 2s\tremaining: 1m 18s\n1401:\tlearn: 18525.3546046\ttest: 74070.1456752\tbest: 74069.1227730 (1399)\ttotal: 3m 3s\tremaining: 1m 18s\n1402:\tlearn: 18520.7687301\ttest: 74069.8249371\tbest: 74069.1227730 (1399)\ttotal: 3m 3s\tremaining: 1m 17s\n1403:\tlearn: 18516.3051116\ttest: 74071.2952320\tbest: 74069.1227730 (1399)\ttotal: 3m 3s\tremaining: 1m 17s\n1404:\tlearn: 18506.9940611\ttest: 74070.3002426\tbest: 74069.1227730 (1399)\ttotal: 3m 3s\tremaining: 1m 17s\n1405:\tlearn: 18496.1221272\ttest: 74069.1479870\tbest: 74069.1227730 (1399)\ttotal: 3m 3s\tremaining: 1m 17s\n1406:\tlearn: 18486.7269579\ttest: 74066.6333420\tbest: 74066.6333420 (1406)\ttotal: 3m 4s\tremaining: 1m 17s\n1407:\tlearn: 18483.4173941\ttest: 74073.6362549\tbest: 74066.6333420 (1406)\ttotal: 3m 4s\tremaining: 1m 17s\n1408:\tlearn: 18473.5412660\ttest: 74068.3623662\tbest: 74066.6333420 (1406)\ttotal: 3m 4s\tremaining: 1m 17s\n1409:\tlearn: 18458.5577149\ttest: 74067.4319579\tbest: 74066.6333420 (1406)\ttotal: 3m 4s\tremaining: 1m 17s\n1410:\tlearn: 18448.5706029\ttest: 74071.1225288\tbest: 74066.6333420 (1406)\ttotal: 3m 5s\tremaining: 1m 17s\n1411:\tlearn: 18432.1209845\ttest: 74069.8788416\tbest: 74066.6333420 (1406)\ttotal: 3m 5s\tremaining: 1m 17s\n1412:\tlearn: 18420.6498149\ttest: 74068.8645095\tbest: 74066.6333420 (1406)\ttotal: 3m 5s\tremaining: 1m 17s\n1413:\tlearn: 18406.3574065\ttest: 74065.6928577\tbest: 74065.6928577 (1413)\ttotal: 3m 5s\tremaining: 1m 17s\n1414:\tlearn: 18403.5548026\ttest: 74064.8064073\tbest: 74064.8064073 (1414)\ttotal: 3m 6s\tremaining: 1m 16s\n1415:\tlearn: 18395.2930048\ttest: 74064.7443788\tbest: 74064.7443788 (1415)\ttotal: 3m 6s\tremaining: 1m 16s\n1416:\tlearn: 18380.8805958\ttest: 74061.0930450\tbest: 74061.0930450 (1416)\ttotal: 3m 6s\tremaining: 1m 16s\n1417:\tlearn: 18365.7262093\ttest: 74060.8018648\tbest: 74060.8018648 (1417)\ttotal: 3m 6s\tremaining: 1m 16s\n1418:\tlearn: 18359.5696667\ttest: 74059.4944124\tbest: 74059.4944124 (1418)\ttotal: 3m 7s\tremaining: 1m 16s\n1419:\tlearn: 18350.7218735\ttest: 74062.2151901\tbest: 74059.4944124 (1418)\ttotal: 3m 7s\tremaining: 1m 16s\n1420:\tlearn: 18338.8359830\ttest: 74059.9535576\tbest: 74059.4944124 (1418)\ttotal: 3m 7s\tremaining: 1m 16s\n1421:\tlearn: 18329.8591175\ttest: 74053.1077633\tbest: 74053.1077633 (1421)\ttotal: 3m 7s\tremaining: 1m 16s\n1422:\tlearn: 18321.5227245\ttest: 74053.4007656\tbest: 74053.1077633 (1421)\ttotal: 3m 8s\tremaining: 1m 16s\n1423:\tlearn: 18311.9130059\ttest: 74050.1919566\tbest: 74050.1919566 (1423)\ttotal: 3m 8s\tremaining: 1m 16s\n1424:\tlearn: 18301.3685966\ttest: 74051.6797112\tbest: 74050.1919566 (1423)\ttotal: 3m 8s\tremaining: 1m 16s\n1425:\tlearn: 18293.3363622\ttest: 74056.1752855\tbest: 74050.1919566 (1423)\ttotal: 3m 8s\tremaining: 1m 15s\n1426:\tlearn: 18289.2204668\ttest: 74057.4653251\tbest: 74050.1919566 (1423)\ttotal: 3m 9s\tremaining: 1m 15s\n1427:\tlearn: 18281.1720094\ttest: 74059.8033887\tbest: 74050.1919566 (1423)\ttotal: 3m 9s\tremaining: 1m 15s\n1428:\tlearn: 18276.0731311\ttest: 74059.7468335\tbest: 74050.1919566 (1423)\ttotal: 3m 9s\tremaining: 1m 15s\n1429:\tlearn: 18268.4225055\ttest: 74061.5378846\tbest: 74050.1919566 (1423)\ttotal: 3m 9s\tremaining: 1m 15s\n1430:\tlearn: 18259.0578957\ttest: 74061.3845503\tbest: 74050.1919566 (1423)\ttotal: 3m 9s\tremaining: 1m 15s\n1431:\tlearn: 18245.4268640\ttest: 74061.0887350\tbest: 74050.1919566 (1423)\ttotal: 3m 10s\tremaining: 1m 15s\n1432:\tlearn: 18238.0814610\ttest: 74061.3743140\tbest: 74050.1919566 (1423)\ttotal: 3m 10s\tremaining: 1m 15s\n1433:\tlearn: 18236.5343192\ttest: 74061.7648789\tbest: 74050.1919566 (1423)\ttotal: 3m 10s\tremaining: 1m 15s\n1434:\tlearn: 18226.6493101\ttest: 74064.2397826\tbest: 74050.1919566 (1423)\ttotal: 3m 10s\tremaining: 1m 15s\n1435:\tlearn: 18216.8253178\ttest: 74065.0583272\tbest: 74050.1919566 (1423)\ttotal: 3m 11s\tremaining: 1m 15s\n1436:\tlearn: 18201.3601397\ttest: 74060.5937538\tbest: 74050.1919566 (1423)\ttotal: 3m 11s\tremaining: 1m 14s\n1437:\tlearn: 18193.2383861\ttest: 74053.4881378\tbest: 74050.1919566 (1423)\ttotal: 3m 11s\tremaining: 1m 14s\n1438:\tlearn: 18170.4885501\ttest: 74051.7320918\tbest: 74050.1919566 (1423)\ttotal: 3m 11s\tremaining: 1m 14s\n1439:\tlearn: 18163.7872228\ttest: 74050.1488151\tbest: 74050.1488151 (1439)\ttotal: 3m 12s\tremaining: 1m 14s\n1440:\tlearn: 18153.3550709\ttest: 74050.8888849\tbest: 74050.1488151 (1439)\ttotal: 3m 12s\tremaining: 1m 14s\n1441:\tlearn: 18152.1319889\ttest: 74051.9627344\tbest: 74050.1488151 (1439)\ttotal: 3m 12s\tremaining: 1m 14s\n1442:\tlearn: 18137.6175326\ttest: 74047.5671719\tbest: 74047.5671719 (1442)\ttotal: 3m 12s\tremaining: 1m 14s\n1443:\tlearn: 18128.8282166\ttest: 74049.2647447\tbest: 74047.5671719 (1442)\ttotal: 3m 13s\tremaining: 1m 14s\n1444:\tlearn: 18120.4973321\ttest: 74048.3327659\tbest: 74047.5671719 (1442)\ttotal: 3m 13s\tremaining: 1m 14s\n1445:\tlearn: 18108.0908381\ttest: 74039.2984692\tbest: 74039.2984692 (1445)\ttotal: 3m 13s\tremaining: 1m 14s\n1446:\tlearn: 18105.8495624\ttest: 74041.2744050\tbest: 74039.2984692 (1445)\ttotal: 3m 13s\tremaining: 1m 14s\n1447:\tlearn: 18093.5604126\ttest: 74039.1924628\tbest: 74039.1924628 (1447)\ttotal: 3m 14s\tremaining: 1m 13s\n1448:\tlearn: 18080.2002543\ttest: 74035.9151703\tbest: 74035.9151703 (1448)\ttotal: 3m 14s\tremaining: 1m 13s\n1449:\tlearn: 18073.9198358\ttest: 74036.5676424\tbest: 74035.9151703 (1448)\ttotal: 3m 14s\tremaining: 1m 13s\n1450:\tlearn: 18059.6247342\ttest: 74038.2858084\tbest: 74035.9151703 (1448)\ttotal: 3m 14s\tremaining: 1m 13s\n1451:\tlearn: 18051.3006506\ttest: 74033.1011545\tbest: 74033.1011545 (1451)\ttotal: 3m 14s\tremaining: 1m 13s\n1452:\tlearn: 18038.0062450\ttest: 74037.1551280\tbest: 74033.1011545 (1451)\ttotal: 3m 15s\tremaining: 1m 13s\n1453:\tlearn: 18036.1067815\ttest: 74034.8600476\tbest: 74033.1011545 (1451)\ttotal: 3m 15s\tremaining: 1m 13s\n1454:\tlearn: 18026.0464738\ttest: 74029.9843082\tbest: 74029.9843082 (1454)\ttotal: 3m 15s\tremaining: 1m 13s\n1455:\tlearn: 18017.0468591\ttest: 74031.8341092\tbest: 74029.9843082 (1454)\ttotal: 3m 15s\tremaining: 1m 13s\n1456:\tlearn: 18004.1866536\ttest: 74038.9072707\tbest: 74029.9843082 (1454)\ttotal: 3m 15s\tremaining: 1m 13s\n1457:\tlearn: 17995.9590130\ttest: 74033.8353307\tbest: 74029.9843082 (1454)\ttotal: 3m 16s\tremaining: 1m 12s\n1458:\tlearn: 17989.7678042\ttest: 74033.9857988\tbest: 74029.9843082 (1454)\ttotal: 3m 16s\tremaining: 1m 12s\n1459:\tlearn: 17983.6235522\ttest: 74032.0911976\tbest: 74029.9843082 (1454)\ttotal: 3m 16s\tremaining: 1m 12s\n1460:\tlearn: 17978.1252562\ttest: 74029.2794554\tbest: 74029.2794554 (1460)\ttotal: 3m 17s\tremaining: 1m 12s\n1461:\tlearn: 17962.2424138\ttest: 74021.4146205\tbest: 74021.4146205 (1461)\ttotal: 3m 17s\tremaining: 1m 12s\n1462:\tlearn: 17959.2318494\ttest: 74022.5918111\tbest: 74021.4146205 (1461)\ttotal: 3m 17s\tremaining: 1m 12s\n1463:\tlearn: 17950.4590660\ttest: 74015.5946270\tbest: 74015.5946270 (1463)\ttotal: 3m 17s\tremaining: 1m 12s\n1464:\tlearn: 17936.3417501\ttest: 74009.9754819\tbest: 74009.9754819 (1464)\ttotal: 3m 18s\tremaining: 1m 12s\n1465:\tlearn: 17922.4437174\ttest: 74014.8872795\tbest: 74009.9754819 (1464)\ttotal: 3m 18s\tremaining: 1m 12s\n1466:\tlearn: 17908.3908836\ttest: 74010.2717533\tbest: 74009.9754819 (1464)\ttotal: 3m 18s\tremaining: 1m 12s\n1467:\tlearn: 17897.1151338\ttest: 74009.6233087\tbest: 74009.6233087 (1467)\ttotal: 3m 18s\tremaining: 1m 12s\n1468:\tlearn: 17892.9454453\ttest: 74007.9247069\tbest: 74007.9247069 (1468)\ttotal: 3m 18s\tremaining: 1m 11s\n1469:\tlearn: 17889.9571265\ttest: 74007.7463100\tbest: 74007.7463100 (1469)\ttotal: 3m 19s\tremaining: 1m 11s\n1470:\tlearn: 17884.4404181\ttest: 74012.7763163\tbest: 74007.7463100 (1469)\ttotal: 3m 19s\tremaining: 1m 11s\n1471:\tlearn: 17877.4940701\ttest: 74012.8947309\tbest: 74007.7463100 (1469)\ttotal: 3m 19s\tremaining: 1m 11s\n1472:\tlearn: 17873.7604940\ttest: 74011.9240058\tbest: 74007.7463100 (1469)\ttotal: 3m 19s\tremaining: 1m 11s\n1473:\tlearn: 17866.5903882\ttest: 74013.7761627\tbest: 74007.7463100 (1469)\ttotal: 3m 20s\tremaining: 1m 11s\n1474:\tlearn: 17853.8400609\ttest: 74017.1529971\tbest: 74007.7463100 (1469)\ttotal: 3m 20s\tremaining: 1m 11s\n1475:\tlearn: 17844.3979189\ttest: 74014.0251831\tbest: 74007.7463100 (1469)\ttotal: 3m 20s\tremaining: 1m 11s\n1476:\tlearn: 17836.5068641\ttest: 74015.8384035\tbest: 74007.7463100 (1469)\ttotal: 3m 20s\tremaining: 1m 11s\n1477:\tlearn: 17832.3816473\ttest: 74014.8555948\tbest: 74007.7463100 (1469)\ttotal: 3m 21s\tremaining: 1m 11s\n1478:\tlearn: 17817.7888050\ttest: 74012.8632794\tbest: 74007.7463100 (1469)\ttotal: 3m 21s\tremaining: 1m 10s\n1479:\tlearn: 17811.4571830\ttest: 74024.1217031\tbest: 74007.7463100 (1469)\ttotal: 3m 21s\tremaining: 1m 10s\n1480:\tlearn: 17801.8124645\ttest: 74017.6184526\tbest: 74007.7463100 (1469)\ttotal: 3m 21s\tremaining: 1m 10s\n1481:\tlearn: 17790.7569820\ttest: 74020.1484820\tbest: 74007.7463100 (1469)\ttotal: 3m 22s\tremaining: 1m 10s\n1482:\tlearn: 17782.7115324\ttest: 74017.7892115\tbest: 74007.7463100 (1469)\ttotal: 3m 22s\tremaining: 1m 10s\n1483:\tlearn: 17771.2606630\ttest: 74018.0471844\tbest: 74007.7463100 (1469)\ttotal: 3m 22s\tremaining: 1m 10s\n1484:\tlearn: 17761.0692678\ttest: 74016.4536737\tbest: 74007.7463100 (1469)\ttotal: 3m 22s\tremaining: 1m 10s\n1485:\tlearn: 17743.8903723\ttest: 74011.3665314\tbest: 74007.7463100 (1469)\ttotal: 3m 23s\tremaining: 1m 10s\n1486:\tlearn: 17735.1723378\ttest: 74007.7936548\tbest: 74007.7463100 (1469)\ttotal: 3m 23s\tremaining: 1m 10s\n1487:\tlearn: 17724.6427940\ttest: 74007.0205027\tbest: 74007.0205027 (1487)\ttotal: 3m 23s\tremaining: 1m 10s\n1488:\tlearn: 17716.4983524\ttest: 74006.8919467\tbest: 74006.8919467 (1488)\ttotal: 3m 23s\tremaining: 1m 9s\n1489:\tlearn: 17711.0609843\ttest: 74000.9693043\tbest: 74000.9693043 (1489)\ttotal: 3m 24s\tremaining: 1m 9s\n1490:\tlearn: 17704.4973101\ttest: 74006.1917672\tbest: 74000.9693043 (1489)\ttotal: 3m 24s\tremaining: 1m 9s\n1491:\tlearn: 17691.9543317\ttest: 74010.0139556\tbest: 74000.9693043 (1489)\ttotal: 3m 24s\tremaining: 1m 9s\n1492:\tlearn: 17678.0698213\ttest: 74005.4087109\tbest: 74000.9693043 (1489)\ttotal: 3m 24s\tremaining: 1m 9s\n1493:\tlearn: 17665.4177059\ttest: 74005.9175900\tbest: 74000.9693043 (1489)\ttotal: 3m 24s\tremaining: 1m 9s\n1494:\tlearn: 17639.9839274\ttest: 74009.2283800\tbest: 74000.9693043 (1489)\ttotal: 3m 25s\tremaining: 1m 9s\n1495:\tlearn: 17621.5083483\ttest: 74009.0262374\tbest: 74000.9693043 (1489)\ttotal: 3m 25s\tremaining: 1m 9s\n1496:\tlearn: 17616.6069746\ttest: 74004.6836325\tbest: 74000.9693043 (1489)\ttotal: 3m 25s\tremaining: 1m 9s\n1497:\tlearn: 17610.1479887\ttest: 74005.7836019\tbest: 74000.9693043 (1489)\ttotal: 3m 25s\tremaining: 1m 8s\n1498:\tlearn: 17603.1125717\ttest: 74006.3674770\tbest: 74000.9693043 (1489)\ttotal: 3m 26s\tremaining: 1m 8s\n1499:\tlearn: 17596.6883718\ttest: 74006.9970404\tbest: 74000.9693043 (1489)\ttotal: 3m 26s\tremaining: 1m 8s\n1500:\tlearn: 17589.3838216\ttest: 74007.9789424\tbest: 74000.9693043 (1489)\ttotal: 3m 26s\tremaining: 1m 8s\n1501:\tlearn: 17583.6202527\ttest: 74011.5174155\tbest: 74000.9693043 (1489)\ttotal: 3m 26s\tremaining: 1m 8s\n1502:\tlearn: 17567.3435770\ttest: 74011.7698700\tbest: 74000.9693043 (1489)\ttotal: 3m 26s\tremaining: 1m 8s\n1503:\tlearn: 17559.7895519\ttest: 74011.0236734\tbest: 74000.9693043 (1489)\ttotal: 3m 26s\tremaining: 1m 8s\n1504:\tlearn: 17551.0048548\ttest: 74013.3451438\tbest: 74000.9693043 (1489)\ttotal: 3m 27s\tremaining: 1m 8s\n1505:\tlearn: 17546.0780338\ttest: 74014.0185925\tbest: 74000.9693043 (1489)\ttotal: 3m 27s\tremaining: 1m 8s\n1506:\tlearn: 17538.2097205\ttest: 74012.8818032\tbest: 74000.9693043 (1489)\ttotal: 3m 27s\tremaining: 1m 7s\n1507:\tlearn: 17514.1649438\ttest: 74012.7311068\tbest: 74000.9693043 (1489)\ttotal: 3m 27s\tremaining: 1m 7s\n1508:\tlearn: 17505.5059491\ttest: 74013.2933040\tbest: 74000.9693043 (1489)\ttotal: 3m 27s\tremaining: 1m 7s\n1509:\tlearn: 17501.1066653\ttest: 74012.8847727\tbest: 74000.9693043 (1489)\ttotal: 3m 28s\tremaining: 1m 7s\n1510:\tlearn: 17491.3441501\ttest: 74011.3592978\tbest: 74000.9693043 (1489)\ttotal: 3m 28s\tremaining: 1m 7s\n1511:\tlearn: 17483.7502294\ttest: 74011.0250610\tbest: 74000.9693043 (1489)\ttotal: 3m 28s\tremaining: 1m 7s\n1512:\tlearn: 17476.2937798\ttest: 74010.9529136\tbest: 74000.9693043 (1489)\ttotal: 3m 28s\tremaining: 1m 7s\n1513:\tlearn: 17464.8338142\ttest: 74013.9496722\tbest: 74000.9693043 (1489)\ttotal: 3m 28s\tremaining: 1m 7s\n1514:\tlearn: 17457.5449925\ttest: 74013.6081451\tbest: 74000.9693043 (1489)\ttotal: 3m 29s\tremaining: 1m 6s\n1515:\tlearn: 17445.5678757\ttest: 74010.0366547\tbest: 74000.9693043 (1489)\ttotal: 3m 29s\tremaining: 1m 6s\n1516:\tlearn: 17437.2704968\ttest: 74009.5722912\tbest: 74000.9693043 (1489)\ttotal: 3m 29s\tremaining: 1m 6s\n1517:\tlearn: 17416.1271309\ttest: 74007.4430984\tbest: 74000.9693043 (1489)\ttotal: 3m 29s\tremaining: 1m 6s\n1518:\tlearn: 17410.8212176\ttest: 74009.1512010\tbest: 74000.9693043 (1489)\ttotal: 3m 29s\tremaining: 1m 6s\n1519:\tlearn: 17401.5015894\ttest: 74013.5788132\tbest: 74000.9693043 (1489)\ttotal: 3m 30s\tremaining: 1m 6s\n1520:\tlearn: 17381.5572080\ttest: 74005.5966672\tbest: 74000.9693043 (1489)\ttotal: 3m 30s\tremaining: 1m 6s\n1521:\tlearn: 17374.0135936\ttest: 74013.0322958\tbest: 74000.9693043 (1489)\ttotal: 3m 30s\tremaining: 1m 6s\n1522:\tlearn: 17365.5696922\ttest: 74009.6927328\tbest: 74000.9693043 (1489)\ttotal: 3m 30s\tremaining: 1m 5s\n1523:\tlearn: 17362.7190698\ttest: 74011.2165127\tbest: 74000.9693043 (1489)\ttotal: 3m 30s\tremaining: 1m 5s\n1524:\tlearn: 17348.9339112\ttest: 74007.9232171\tbest: 74000.9693043 (1489)\ttotal: 3m 30s\tremaining: 1m 5s\n1525:\tlearn: 17342.0516245\ttest: 74006.6096953\tbest: 74000.9693043 (1489)\ttotal: 3m 30s\tremaining: 1m 5s\n1526:\tlearn: 17339.5713194\ttest: 74006.1081235\tbest: 74000.9693043 (1489)\ttotal: 3m 30s\tremaining: 1m 5s\n1527:\tlearn: 17327.3287492\ttest: 74005.1679021\tbest: 74000.9693043 (1489)\ttotal: 3m 31s\tremaining: 1m 5s\n1528:\tlearn: 17321.5733413\ttest: 74005.3177111\tbest: 74000.9693043 (1489)\ttotal: 3m 31s\tremaining: 1m 5s\n1529:\tlearn: 17312.0754405\ttest: 73993.5207146\tbest: 73993.5207146 (1529)\ttotal: 3m 31s\tremaining: 1m 4s\n1530:\tlearn: 17306.9258644\ttest: 73995.1258939\tbest: 73993.5207146 (1529)\ttotal: 3m 31s\tremaining: 1m 4s\n1531:\tlearn: 17297.7328522\ttest: 73996.2096095\tbest: 73993.5207146 (1529)\ttotal: 3m 31s\tremaining: 1m 4s\n1532:\tlearn: 17290.8597681\ttest: 73993.8509671\tbest: 73993.5207146 (1529)\ttotal: 3m 31s\tremaining: 1m 4s\n1533:\tlearn: 17279.4719127\ttest: 73990.8021698\tbest: 73990.8021698 (1533)\ttotal: 3m 31s\tremaining: 1m 4s\n1534:\tlearn: 17276.0221737\ttest: 73990.2156127\tbest: 73990.2156127 (1534)\ttotal: 3m 31s\tremaining: 1m 4s\n1535:\tlearn: 17266.0053430\ttest: 73988.3234635\tbest: 73988.3234635 (1535)\ttotal: 3m 32s\tremaining: 1m 4s\n1536:\tlearn: 17259.5322334\ttest: 73993.8814376\tbest: 73988.3234635 (1535)\ttotal: 3m 32s\tremaining: 1m 3s\n1537:\tlearn: 17256.8579094\ttest: 73994.5859185\tbest: 73988.3234635 (1535)\ttotal: 3m 32s\tremaining: 1m 3s\n1538:\tlearn: 17235.0768255\ttest: 73990.4030723\tbest: 73988.3234635 (1535)\ttotal: 3m 32s\tremaining: 1m 3s\n1539:\tlearn: 17228.3523916\ttest: 73986.8328222\tbest: 73986.8328222 (1539)\ttotal: 3m 32s\tremaining: 1m 3s\n1540:\tlearn: 17223.2867590\ttest: 73986.8086958\tbest: 73986.8086958 (1540)\ttotal: 3m 32s\tremaining: 1m 3s\n1541:\tlearn: 17200.2632241\ttest: 73986.2578669\tbest: 73986.2578669 (1541)\ttotal: 3m 32s\tremaining: 1m 3s\n1542:\tlearn: 17189.2510546\ttest: 73992.2187988\tbest: 73986.2578669 (1541)\ttotal: 3m 32s\tremaining: 1m 3s\n1543:\tlearn: 17185.3065138\ttest: 73992.4567229\tbest: 73986.2578669 (1541)\ttotal: 3m 33s\tremaining: 1m 2s\n1544:\tlearn: 17168.6150882\ttest: 73991.8562209\tbest: 73986.2578669 (1541)\ttotal: 3m 33s\tremaining: 1m 2s\n1545:\tlearn: 17153.9176163\ttest: 73985.7056657\tbest: 73985.7056657 (1545)\ttotal: 3m 33s\tremaining: 1m 2s\n1546:\tlearn: 17141.6659636\ttest: 73988.2651516\tbest: 73985.7056657 (1545)\ttotal: 3m 33s\tremaining: 1m 2s\n1547:\tlearn: 17133.7391562\ttest: 73989.8107891\tbest: 73985.7056657 (1545)\ttotal: 3m 33s\tremaining: 1m 2s\n1548:\tlearn: 17118.2339958\ttest: 73980.4968937\tbest: 73980.4968937 (1548)\ttotal: 3m 33s\tremaining: 1m 2s\n1549:\tlearn: 17106.7512011\ttest: 73973.9278165\tbest: 73973.9278165 (1549)\ttotal: 3m 33s\tremaining: 1m 2s\n1550:\tlearn: 17096.8378163\ttest: 73971.2145838\tbest: 73971.2145838 (1550)\ttotal: 3m 33s\tremaining: 1m 1s\n1551:\tlearn: 17083.5811110\ttest: 73965.7019637\tbest: 73965.7019637 (1551)\ttotal: 3m 34s\tremaining: 1m 1s\n1552:\tlearn: 17079.9228987\ttest: 73966.5740025\tbest: 73965.7019637 (1551)\ttotal: 3m 34s\tremaining: 1m 1s\n1553:\tlearn: 17075.7913880\ttest: 73965.4734704\tbest: 73965.4734704 (1553)\ttotal: 3m 34s\tremaining: 1m 1s\n1554:\tlearn: 17065.5467829\ttest: 73964.2738286\tbest: 73964.2738286 (1554)\ttotal: 3m 34s\tremaining: 1m 1s\n1555:\tlearn: 17059.9091704\ttest: 73963.4444184\tbest: 73963.4444184 (1555)\ttotal: 3m 34s\tremaining: 1m 1s\n1556:\tlearn: 17058.6270383\ttest: 73965.5463620\tbest: 73963.4444184 (1555)\ttotal: 3m 34s\tremaining: 1m 1s\n1557:\tlearn: 17045.0420951\ttest: 73955.3076266\tbest: 73955.3076266 (1557)\ttotal: 3m 34s\tremaining: 1m\n1558:\tlearn: 17033.4166900\ttest: 73958.1904669\tbest: 73955.3076266 (1557)\ttotal: 3m 35s\tremaining: 1m\n1559:\tlearn: 17021.7930147\ttest: 73957.1122827\tbest: 73955.3076266 (1557)\ttotal: 3m 35s\tremaining: 1m\n1560:\tlearn: 17012.6598013\ttest: 73953.4846827\tbest: 73953.4846827 (1560)\ttotal: 3m 35s\tremaining: 1m\n1561:\tlearn: 17011.6837475\ttest: 73953.2697614\tbest: 73953.2697614 (1561)\ttotal: 3m 35s\tremaining: 1m\n1562:\tlearn: 16999.5535150\ttest: 73954.2409696\tbest: 73953.2697614 (1561)\ttotal: 3m 35s\tremaining: 1m\n1563:\tlearn: 16994.1949155\ttest: 73953.4144190\tbest: 73953.2697614 (1561)\ttotal: 3m 35s\tremaining: 1m\n1564:\tlearn: 16986.2668830\ttest: 73951.0016994\tbest: 73951.0016994 (1564)\ttotal: 3m 35s\tremaining: 60s\n1565:\tlearn: 16982.3117642\ttest: 73948.0073096\tbest: 73948.0073096 (1565)\ttotal: 3m 35s\tremaining: 59.9s\n1566:\tlearn: 16977.9860393\ttest: 73947.5707993\tbest: 73947.5707993 (1566)\ttotal: 3m 36s\tremaining: 59.7s\n1567:\tlearn: 16977.4012240\ttest: 73946.5735062\tbest: 73946.5735062 (1567)\ttotal: 3m 36s\tremaining: 59.6s\n1568:\tlearn: 16970.8580374\ttest: 73945.0206316\tbest: 73945.0206316 (1568)\ttotal: 3m 36s\tremaining: 59.4s\n1569:\tlearn: 16963.9179145\ttest: 73939.9454107\tbest: 73939.9454107 (1569)\ttotal: 3m 36s\tremaining: 59.3s\n1570:\tlearn: 16948.0840539\ttest: 73939.0682824\tbest: 73939.0682824 (1570)\ttotal: 3m 36s\tremaining: 59.2s\n1571:\tlearn: 16942.9567639\ttest: 73937.8808542\tbest: 73937.8808542 (1571)\ttotal: 3m 36s\tremaining: 59s\n1572:\tlearn: 16937.2557260\ttest: 73934.9006488\tbest: 73934.9006488 (1572)\ttotal: 3m 36s\tremaining: 58.9s\n1573:\tlearn: 16925.6856870\ttest: 73934.2026042\tbest: 73934.2026042 (1573)\ttotal: 3m 37s\tremaining: 58.7s\n1574:\tlearn: 16923.3742982\ttest: 73933.6246002\tbest: 73933.6246002 (1574)\ttotal: 3m 37s\tremaining: 58.6s\n1575:\tlearn: 16918.0347604\ttest: 73933.7269177\tbest: 73933.6246002 (1574)\ttotal: 3m 37s\tremaining: 58.5s\n1576:\tlearn: 16905.7345105\ttest: 73936.4132285\tbest: 73933.6246002 (1574)\ttotal: 3m 37s\tremaining: 58.3s\n1577:\tlearn: 16898.2022712\ttest: 73938.3189113\tbest: 73933.6246002 (1574)\ttotal: 3m 37s\tremaining: 58.2s\n1578:\tlearn: 16888.1224592\ttest: 73935.9987067\tbest: 73933.6246002 (1574)\ttotal: 3m 37s\tremaining: 58s\n1579:\tlearn: 16871.5055443\ttest: 73917.1414016\tbest: 73917.1414016 (1579)\ttotal: 3m 37s\tremaining: 57.9s\n1580:\tlearn: 16865.3025748\ttest: 73916.2400008\tbest: 73916.2400008 (1580)\ttotal: 3m 37s\tremaining: 57.8s\n1581:\tlearn: 16859.8260539\ttest: 73916.3458521\tbest: 73916.2400008 (1580)\ttotal: 3m 38s\tremaining: 57.6s\n1582:\tlearn: 16853.4178413\ttest: 73919.4173794\tbest: 73916.2400008 (1580)\ttotal: 3m 38s\tremaining: 57.5s\n1583:\tlearn: 16844.1683516\ttest: 73922.8527852\tbest: 73916.2400008 (1580)\ttotal: 3m 38s\tremaining: 57.3s\n1584:\tlearn: 16835.7434893\ttest: 73922.2991202\tbest: 73916.2400008 (1580)\ttotal: 3m 38s\tremaining: 57.2s\n1585:\tlearn: 16827.2520571\ttest: 73919.9830598\tbest: 73916.2400008 (1580)\ttotal: 3m 38s\tremaining: 57.1s\n1586:\tlearn: 16823.1088291\ttest: 73918.3060414\tbest: 73916.2400008 (1580)\ttotal: 3m 38s\tremaining: 56.9s\n1587:\tlearn: 16804.7275807\ttest: 73920.4307038\tbest: 73916.2400008 (1580)\ttotal: 3m 38s\tremaining: 56.8s\n1588:\tlearn: 16796.9443030\ttest: 73918.1472789\tbest: 73916.2400008 (1580)\ttotal: 3m 39s\tremaining: 56.7s\n1589:\tlearn: 16780.0323011\ttest: 73916.7559852\tbest: 73916.2400008 (1580)\ttotal: 3m 39s\tremaining: 56.5s\n1590:\tlearn: 16770.0115752\ttest: 73914.0274420\tbest: 73914.0274420 (1590)\ttotal: 3m 39s\tremaining: 56.4s\n1591:\tlearn: 16755.5644259\ttest: 73899.7867219\tbest: 73899.7867219 (1591)\ttotal: 3m 39s\tremaining: 56.2s\n1592:\tlearn: 16754.8137074\ttest: 73899.5791770\tbest: 73899.5791770 (1592)\ttotal: 3m 39s\tremaining: 56.1s\n1593:\tlearn: 16745.4162038\ttest: 73901.6940108\tbest: 73899.5791770 (1592)\ttotal: 3m 39s\tremaining: 55.9s\n1594:\tlearn: 16742.3708014\ttest: 73902.7072037\tbest: 73899.5791770 (1592)\ttotal: 3m 39s\tremaining: 55.8s\n1595:\tlearn: 16738.1502455\ttest: 73904.7985854\tbest: 73899.5791770 (1592)\ttotal: 3m 39s\tremaining: 55.6s\n1596:\tlearn: 16732.7464381\ttest: 73905.0788413\tbest: 73899.5791770 (1592)\ttotal: 3m 40s\tremaining: 55.5s\n1597:\tlearn: 16723.5240122\ttest: 73904.6027929\tbest: 73899.5791770 (1592)\ttotal: 3m 40s\tremaining: 55.4s\n1598:\tlearn: 16717.1701694\ttest: 73904.5227563\tbest: 73899.5791770 (1592)\ttotal: 3m 40s\tremaining: 55.3s\n1599:\tlearn: 16711.0472751\ttest: 73903.2293635\tbest: 73899.5791770 (1592)\ttotal: 3m 40s\tremaining: 55.1s\n1600:\tlearn: 16706.7808681\ttest: 73903.9457893\tbest: 73899.5791770 (1592)\ttotal: 3m 40s\tremaining: 55s\n1601:\tlearn: 16692.0258553\ttest: 73906.5117390\tbest: 73899.5791770 (1592)\ttotal: 3m 40s\tremaining: 54.8s\n1602:\tlearn: 16683.0960010\ttest: 73906.6899838\tbest: 73899.5791770 (1592)\ttotal: 3m 40s\tremaining: 54.7s\n1603:\tlearn: 16675.3037510\ttest: 73905.4520300\tbest: 73899.5791770 (1592)\ttotal: 3m 41s\tremaining: 54.6s\n1604:\tlearn: 16664.6494769\ttest: 73903.6528595\tbest: 73899.5791770 (1592)\ttotal: 3m 41s\tremaining: 54.5s\n1605:\tlearn: 16657.6138044\ttest: 73900.3519186\tbest: 73899.5791770 (1592)\ttotal: 3m 41s\tremaining: 54.3s\n1606:\tlearn: 16646.5044156\ttest: 73899.2993748\tbest: 73899.2993748 (1606)\ttotal: 3m 41s\tremaining: 54.2s\n1607:\tlearn: 16644.5442288\ttest: 73898.9966523\tbest: 73898.9966523 (1607)\ttotal: 3m 41s\tremaining: 54s\n1608:\tlearn: 16631.3035618\ttest: 73900.3321013\tbest: 73898.9966523 (1607)\ttotal: 3m 41s\tremaining: 53.9s\n1609:\tlearn: 16618.9389606\ttest: 73892.1803417\tbest: 73892.1803417 (1609)\ttotal: 3m 41s\tremaining: 53.7s\n1610:\tlearn: 16613.7398422\ttest: 73893.0459456\tbest: 73892.1803417 (1609)\ttotal: 3m 42s\tremaining: 53.6s\n1611:\tlearn: 16607.6072595\ttest: 73893.1554937\tbest: 73892.1803417 (1609)\ttotal: 3m 42s\tremaining: 53.5s\n1612:\tlearn: 16605.5573457\ttest: 73896.3683619\tbest: 73892.1803417 (1609)\ttotal: 3m 42s\tremaining: 53.3s\n1613:\tlearn: 16594.3423460\ttest: 73902.2583689\tbest: 73892.1803417 (1609)\ttotal: 3m 42s\tremaining: 53.2s\n1614:\tlearn: 16582.7572103\ttest: 73903.7877571\tbest: 73892.1803417 (1609)\ttotal: 3m 42s\tremaining: 53.1s\n1615:\tlearn: 16567.7900110\ttest: 73898.5037938\tbest: 73892.1803417 (1609)\ttotal: 3m 42s\tremaining: 52.9s\n1616:\tlearn: 16554.2236971\ttest: 73901.9944001\tbest: 73892.1803417 (1609)\ttotal: 3m 42s\tremaining: 52.8s\n1617:\tlearn: 16540.0804369\ttest: 73906.2930166\tbest: 73892.1803417 (1609)\ttotal: 3m 42s\tremaining: 52.6s\n1618:\tlearn: 16535.4211705\ttest: 73905.5655401\tbest: 73892.1803417 (1609)\ttotal: 3m 43s\tremaining: 52.5s\n1619:\tlearn: 16532.8030922\ttest: 73905.7015751\tbest: 73892.1803417 (1609)\ttotal: 3m 43s\tremaining: 52.4s\n1620:\tlearn: 16527.6725114\ttest: 73905.9854313\tbest: 73892.1803417 (1609)\ttotal: 3m 43s\tremaining: 52.2s\n1621:\tlearn: 16524.3814252\ttest: 73903.4970498\tbest: 73892.1803417 (1609)\ttotal: 3m 43s\tremaining: 52.1s\n1622:\tlearn: 16515.5518611\ttest: 73901.3027471\tbest: 73892.1803417 (1609)\ttotal: 3m 43s\tremaining: 52s\n1623:\tlearn: 16508.5621830\ttest: 73907.7249043\tbest: 73892.1803417 (1609)\ttotal: 3m 43s\tremaining: 51.8s\n1624:\tlearn: 16499.2717543\ttest: 73909.2785925\tbest: 73892.1803417 (1609)\ttotal: 3m 43s\tremaining: 51.7s\n1625:\tlearn: 16491.1736404\ttest: 73909.7139798\tbest: 73892.1803417 (1609)\ttotal: 3m 44s\tremaining: 51.5s\n1626:\tlearn: 16481.8868462\ttest: 73905.1136963\tbest: 73892.1803417 (1609)\ttotal: 3m 44s\tremaining: 51.4s\n1627:\tlearn: 16475.3264125\ttest: 73905.9675132\tbest: 73892.1803417 (1609)\ttotal: 3m 44s\tremaining: 51.3s\n1628:\tlearn: 16466.5652649\ttest: 73911.5051188\tbest: 73892.1803417 (1609)\ttotal: 3m 44s\tremaining: 51.1s\n1629:\tlearn: 16464.2660285\ttest: 73911.5372213\tbest: 73892.1803417 (1609)\ttotal: 3m 44s\tremaining: 51s\n1630:\tlearn: 16456.9372176\ttest: 73911.2640149\tbest: 73892.1803417 (1609)\ttotal: 3m 44s\tremaining: 50.8s\n1631:\tlearn: 16453.8055123\ttest: 73911.7663334\tbest: 73892.1803417 (1609)\ttotal: 3m 44s\tremaining: 50.7s\n1632:\tlearn: 16446.6298733\ttest: 73913.2522409\tbest: 73892.1803417 (1609)\ttotal: 3m 44s\tremaining: 50.6s\n1633:\tlearn: 16439.2612698\ttest: 73913.6324033\tbest: 73892.1803417 (1609)\ttotal: 3m 45s\tremaining: 50.4s\n1634:\tlearn: 16434.4465675\ttest: 73916.1632426\tbest: 73892.1803417 (1609)\ttotal: 3m 45s\tremaining: 50.3s\n1635:\tlearn: 16426.4273820\ttest: 73915.8460284\tbest: 73892.1803417 (1609)\ttotal: 3m 45s\tremaining: 50.1s\n1636:\tlearn: 16414.9761996\ttest: 73915.9779548\tbest: 73892.1803417 (1609)\ttotal: 3m 45s\tremaining: 50s\n1637:\tlearn: 16411.8754976\ttest: 73914.9663594\tbest: 73892.1803417 (1609)\ttotal: 3m 45s\tremaining: 49.8s\n1638:\tlearn: 16404.6378943\ttest: 73916.7000107\tbest: 73892.1803417 (1609)\ttotal: 3m 45s\tremaining: 49.7s\n1639:\tlearn: 16400.1239073\ttest: 73911.9852228\tbest: 73892.1803417 (1609)\ttotal: 3m 45s\tremaining: 49.6s\n1640:\tlearn: 16396.2085347\ttest: 73912.3244861\tbest: 73892.1803417 (1609)\ttotal: 3m 45s\tremaining: 49.4s\n1641:\tlearn: 16386.3043220\ttest: 73911.4729313\tbest: 73892.1803417 (1609)\ttotal: 3m 46s\tremaining: 49.3s\n1642:\tlearn: 16381.3416927\ttest: 73910.1143927\tbest: 73892.1803417 (1609)\ttotal: 3m 46s\tremaining: 49.2s\n1643:\tlearn: 16375.8421134\ttest: 73909.5461863\tbest: 73892.1803417 (1609)\ttotal: 3m 46s\tremaining: 49s\n1644:\tlearn: 16364.0796766\ttest: 73909.2753686\tbest: 73892.1803417 (1609)\ttotal: 3m 46s\tremaining: 48.9s\n1645:\tlearn: 16355.1053129\ttest: 73910.1094505\tbest: 73892.1803417 (1609)\ttotal: 3m 46s\tremaining: 48.8s\n1646:\tlearn: 16344.9438932\ttest: 73911.0482452\tbest: 73892.1803417 (1609)\ttotal: 3m 47s\tremaining: 48.7s\n1647:\tlearn: 16339.6429960\ttest: 73910.5742133\tbest: 73892.1803417 (1609)\ttotal: 3m 47s\tremaining: 48.6s\n1648:\tlearn: 16333.6018916\ttest: 73908.2541152\tbest: 73892.1803417 (1609)\ttotal: 3m 47s\tremaining: 48.4s\n1649:\tlearn: 16322.0199042\ttest: 73907.6767015\tbest: 73892.1803417 (1609)\ttotal: 3m 47s\tremaining: 48.3s\n1650:\tlearn: 16304.8465683\ttest: 73906.8303010\tbest: 73892.1803417 (1609)\ttotal: 3m 48s\tremaining: 48.2s\n1651:\tlearn: 16300.1832394\ttest: 73907.0912842\tbest: 73892.1803417 (1609)\ttotal: 3m 48s\tremaining: 48.1s\n1652:\tlearn: 16292.0218158\ttest: 73905.6263091\tbest: 73892.1803417 (1609)\ttotal: 3m 48s\tremaining: 48s\n1653:\tlearn: 16285.2045411\ttest: 73905.9219700\tbest: 73892.1803417 (1609)\ttotal: 3m 48s\tremaining: 47.8s\n1654:\tlearn: 16277.3502684\ttest: 73905.3353069\tbest: 73892.1803417 (1609)\ttotal: 3m 48s\tremaining: 47.7s\n1655:\tlearn: 16272.3354624\ttest: 73910.4107339\tbest: 73892.1803417 (1609)\ttotal: 3m 48s\tremaining: 47.6s\n1656:\tlearn: 16266.0007100\ttest: 73910.3258252\tbest: 73892.1803417 (1609)\ttotal: 3m 49s\tremaining: 47.4s\n1657:\tlearn: 16255.7994197\ttest: 73909.9561752\tbest: 73892.1803417 (1609)\ttotal: 3m 49s\tremaining: 47.3s\n1658:\tlearn: 16252.2468844\ttest: 73911.0633586\tbest: 73892.1803417 (1609)\ttotal: 3m 49s\tremaining: 47.1s\n1659:\tlearn: 16242.7440513\ttest: 73914.9252933\tbest: 73892.1803417 (1609)\ttotal: 3m 49s\tremaining: 47s\n1660:\tlearn: 16230.4137785\ttest: 73911.8705426\tbest: 73892.1803417 (1609)\ttotal: 3m 49s\tremaining: 46.9s\n1661:\tlearn: 16228.2449107\ttest: 73913.5850522\tbest: 73892.1803417 (1609)\ttotal: 3m 49s\tremaining: 46.7s\n1662:\tlearn: 16225.2727291\ttest: 73913.7064726\tbest: 73892.1803417 (1609)\ttotal: 3m 49s\tremaining: 46.6s\n1663:\tlearn: 16219.4461693\ttest: 73915.5217915\tbest: 73892.1803417 (1609)\ttotal: 3m 50s\tremaining: 46.5s\n1664:\tlearn: 16215.7569896\ttest: 73916.5298446\tbest: 73892.1803417 (1609)\ttotal: 3m 50s\tremaining: 46.3s\n1665:\tlearn: 16212.1910787\ttest: 73917.4931991\tbest: 73892.1803417 (1609)\ttotal: 3m 50s\tremaining: 46.2s\n1666:\tlearn: 16199.6644795\ttest: 73919.0513009\tbest: 73892.1803417 (1609)\ttotal: 3m 50s\tremaining: 46s\n1667:\tlearn: 16177.3457160\ttest: 73918.7517459\tbest: 73892.1803417 (1609)\ttotal: 3m 50s\tremaining: 45.9s\n1668:\tlearn: 16169.4846432\ttest: 73920.5665192\tbest: 73892.1803417 (1609)\ttotal: 3m 50s\tremaining: 45.8s\n1669:\tlearn: 16161.2362227\ttest: 73919.5391993\tbest: 73892.1803417 (1609)\ttotal: 3m 50s\tremaining: 45.6s\n1670:\tlearn: 16150.4059493\ttest: 73917.0235184\tbest: 73892.1803417 (1609)\ttotal: 3m 50s\tremaining: 45.5s\n1671:\tlearn: 16142.5689183\ttest: 73917.0846106\tbest: 73892.1803417 (1609)\ttotal: 3m 51s\tremaining: 45.3s\n1672:\tlearn: 16129.0251791\ttest: 73921.0949195\tbest: 73892.1803417 (1609)\ttotal: 3m 51s\tremaining: 45.2s\n1673:\tlearn: 16124.6225640\ttest: 73920.4299453\tbest: 73892.1803417 (1609)\ttotal: 3m 51s\tremaining: 45s\n1674:\tlearn: 16121.0828250\ttest: 73922.6929996\tbest: 73892.1803417 (1609)\ttotal: 3m 51s\tremaining: 44.9s\n1675:\tlearn: 16117.7060835\ttest: 73921.7675032\tbest: 73892.1803417 (1609)\ttotal: 3m 51s\tremaining: 44.8s\n1676:\tlearn: 16109.9190742\ttest: 73919.0875390\tbest: 73892.1803417 (1609)\ttotal: 3m 52s\tremaining: 44.7s\n1677:\tlearn: 16105.4565240\ttest: 73919.1184483\tbest: 73892.1803417 (1609)\ttotal: 3m 52s\tremaining: 44.6s\n1678:\tlearn: 16094.1746436\ttest: 73918.3569505\tbest: 73892.1803417 (1609)\ttotal: 3m 52s\tremaining: 44.4s\n1679:\tlearn: 16087.5741971\ttest: 73916.7306476\tbest: 73892.1803417 (1609)\ttotal: 3m 52s\tremaining: 44.3s\n1680:\tlearn: 16081.7339834\ttest: 73915.1201738\tbest: 73892.1803417 (1609)\ttotal: 3m 52s\tremaining: 44.2s\n1681:\tlearn: 16070.0004607\ttest: 73917.4093043\tbest: 73892.1803417 (1609)\ttotal: 3m 52s\tremaining: 44s\n1682:\tlearn: 16061.9152636\ttest: 73914.1582250\tbest: 73892.1803417 (1609)\ttotal: 3m 52s\tremaining: 43.9s\n1683:\tlearn: 16059.4166542\ttest: 73915.0273688\tbest: 73892.1803417 (1609)\ttotal: 3m 53s\tremaining: 43.7s\n1684:\tlearn: 16058.6482282\ttest: 73914.6751613\tbest: 73892.1803417 (1609)\ttotal: 3m 53s\tremaining: 43.6s\n1685:\tlearn: 16054.3037364\ttest: 73913.7683419\tbest: 73892.1803417 (1609)\ttotal: 3m 53s\tremaining: 43.5s\n1686:\tlearn: 16046.3502877\ttest: 73913.6350940\tbest: 73892.1803417 (1609)\ttotal: 3m 53s\tremaining: 43.4s\n1687:\tlearn: 16038.3586066\ttest: 73912.2704952\tbest: 73892.1803417 (1609)\ttotal: 3m 53s\tremaining: 43.2s\n1688:\tlearn: 16032.2850683\ttest: 73912.9973915\tbest: 73892.1803417 (1609)\ttotal: 3m 54s\tremaining: 43.1s\n1689:\tlearn: 16025.9390172\ttest: 73912.6006690\tbest: 73892.1803417 (1609)\ttotal: 3m 54s\tremaining: 43s\n1690:\tlearn: 16020.4457928\ttest: 73912.8317585\tbest: 73892.1803417 (1609)\ttotal: 3m 54s\tremaining: 42.8s\n1691:\tlearn: 16006.3973357\ttest: 73907.4642771\tbest: 73892.1803417 (1609)\ttotal: 3m 54s\tremaining: 42.7s\n1692:\tlearn: 15999.1817340\ttest: 73905.4888955\tbest: 73892.1803417 (1609)\ttotal: 3m 54s\tremaining: 42.6s\n1693:\tlearn: 15980.7774892\ttest: 73906.0677960\tbest: 73892.1803417 (1609)\ttotal: 3m 54s\tremaining: 42.4s\n1694:\tlearn: 15978.1361258\ttest: 73907.5296150\tbest: 73892.1803417 (1609)\ttotal: 3m 55s\tremaining: 42.3s\n1695:\tlearn: 15958.8701060\ttest: 73911.8727787\tbest: 73892.1803417 (1609)\ttotal: 3m 55s\tremaining: 42.2s\n1696:\tlearn: 15952.9035137\ttest: 73912.1914943\tbest: 73892.1803417 (1609)\ttotal: 3m 55s\tremaining: 42s\n1697:\tlearn: 15946.3200517\ttest: 73912.1170986\tbest: 73892.1803417 (1609)\ttotal: 3m 55s\tremaining: 41.9s\n1698:\tlearn: 15934.1186217\ttest: 73913.1761677\tbest: 73892.1803417 (1609)\ttotal: 3m 55s\tremaining: 41.8s\n1699:\tlearn: 15930.3766427\ttest: 73911.2886874\tbest: 73892.1803417 (1609)\ttotal: 3m 56s\tremaining: 41.6s\n1700:\tlearn: 15926.8364432\ttest: 73914.3602344\tbest: 73892.1803417 (1609)\ttotal: 3m 56s\tremaining: 41.5s\n1701:\tlearn: 15905.4829757\ttest: 73913.9321208\tbest: 73892.1803417 (1609)\ttotal: 3m 56s\tremaining: 41.4s\n1702:\tlearn: 15896.8383138\ttest: 73913.5470234\tbest: 73892.1803417 (1609)\ttotal: 3m 56s\tremaining: 41.3s\n1703:\tlearn: 15886.6998187\ttest: 73911.7212002\tbest: 73892.1803417 (1609)\ttotal: 3m 56s\tremaining: 41.2s\n1704:\tlearn: 15883.1000236\ttest: 73911.0858289\tbest: 73892.1803417 (1609)\ttotal: 3m 57s\tremaining: 41s\n1705:\tlearn: 15870.4738799\ttest: 73909.8392168\tbest: 73892.1803417 (1609)\ttotal: 3m 57s\tremaining: 40.9s\n1706:\tlearn: 15866.0696272\ttest: 73911.3619642\tbest: 73892.1803417 (1609)\ttotal: 3m 57s\tremaining: 40.8s\n1707:\tlearn: 15855.2587095\ttest: 73911.6145551\tbest: 73892.1803417 (1609)\ttotal: 3m 57s\tremaining: 40.6s\n1708:\tlearn: 15836.5222537\ttest: 73921.4381692\tbest: 73892.1803417 (1609)\ttotal: 3m 58s\tremaining: 40.5s\n1709:\tlearn: 15826.6195607\ttest: 73921.0952731\tbest: 73892.1803417 (1609)\ttotal: 3m 58s\tremaining: 40.4s\n1710:\tlearn: 15821.1128071\ttest: 73922.0072041\tbest: 73892.1803417 (1609)\ttotal: 3m 58s\tremaining: 40.3s\n1711:\tlearn: 15813.0286016\ttest: 73921.8512272\tbest: 73892.1803417 (1609)\ttotal: 3m 58s\tremaining: 40.2s\n1712:\tlearn: 15804.0026324\ttest: 73920.7373413\tbest: 73892.1803417 (1609)\ttotal: 3m 59s\tremaining: 40s\n1713:\tlearn: 15798.2640585\ttest: 73922.8842037\tbest: 73892.1803417 (1609)\ttotal: 3m 59s\tremaining: 39.9s\n1714:\tlearn: 15790.7318808\ttest: 73922.4258989\tbest: 73892.1803417 (1609)\ttotal: 3m 59s\tremaining: 39.8s\n1715:\tlearn: 15781.9904319\ttest: 73922.8262971\tbest: 73892.1803417 (1609)\ttotal: 3m 59s\tremaining: 39.7s\n1716:\tlearn: 15774.5368542\ttest: 73921.8413459\tbest: 73892.1803417 (1609)\ttotal: 4m\tremaining: 39.6s\n1717:\tlearn: 15766.3698997\ttest: 73918.9530415\tbest: 73892.1803417 (1609)\ttotal: 4m\tremaining: 39.4s\n1718:\tlearn: 15764.7792642\ttest: 73919.0475857\tbest: 73892.1803417 (1609)\ttotal: 4m\tremaining: 39.3s\n1719:\tlearn: 15761.1355697\ttest: 73922.5601252\tbest: 73892.1803417 (1609)\ttotal: 4m\tremaining: 39.2s\n1720:\tlearn: 15753.0849697\ttest: 73922.0841404\tbest: 73892.1803417 (1609)\ttotal: 4m\tremaining: 39s\n1721:\tlearn: 15733.8073887\ttest: 73927.3569530\tbest: 73892.1803417 (1609)\ttotal: 4m 1s\tremaining: 38.9s\n1722:\tlearn: 15722.0404757\ttest: 73928.4650207\tbest: 73892.1803417 (1609)\ttotal: 4m 1s\tremaining: 38.8s\n1723:\tlearn: 15716.9165375\ttest: 73929.1805307\tbest: 73892.1803417 (1609)\ttotal: 4m 1s\tremaining: 38.7s\n1724:\tlearn: 15707.7364322\ttest: 73941.6735936\tbest: 73892.1803417 (1609)\ttotal: 4m 2s\tremaining: 38.6s\n1725:\tlearn: 15701.2967876\ttest: 73943.0721656\tbest: 73892.1803417 (1609)\ttotal: 4m 2s\tremaining: 38.5s\n1726:\tlearn: 15688.2521651\ttest: 73941.9396110\tbest: 73892.1803417 (1609)\ttotal: 4m 3s\tremaining: 38.4s\n1727:\tlearn: 15682.7794386\ttest: 73942.3482210\tbest: 73892.1803417 (1609)\ttotal: 4m 3s\tremaining: 38.3s\n1728:\tlearn: 15677.7149460\ttest: 73942.7750236\tbest: 73892.1803417 (1609)\ttotal: 4m 3s\tremaining: 38.2s\n1729:\tlearn: 15672.2846867\ttest: 73942.1158517\tbest: 73892.1803417 (1609)\ttotal: 4m 4s\tremaining: 38.1s\n1730:\tlearn: 15666.1524505\ttest: 73943.9781282\tbest: 73892.1803417 (1609)\ttotal: 4m 4s\tremaining: 38s\n1731:\tlearn: 15663.1962560\ttest: 73944.8922801\tbest: 73892.1803417 (1609)\ttotal: 4m 5s\tremaining: 37.9s\n1732:\tlearn: 15657.5932894\ttest: 73944.4920716\tbest: 73892.1803417 (1609)\ttotal: 4m 5s\tremaining: 37.8s\n1733:\tlearn: 15654.2933657\ttest: 73944.4289471\tbest: 73892.1803417 (1609)\ttotal: 4m 5s\tremaining: 37.7s\n1734:\tlearn: 15649.6376830\ttest: 73944.2490505\tbest: 73892.1803417 (1609)\ttotal: 4m 6s\tremaining: 37.6s\n1735:\tlearn: 15641.3141534\ttest: 73950.8976986\tbest: 73892.1803417 (1609)\ttotal: 4m 6s\tremaining: 37.5s\n1736:\tlearn: 15636.5503639\ttest: 73950.7611608\tbest: 73892.1803417 (1609)\ttotal: 4m 6s\tremaining: 37.4s\n1737:\tlearn: 15623.2565735\ttest: 73950.3137370\tbest: 73892.1803417 (1609)\ttotal: 4m 7s\tremaining: 37.3s\n1738:\tlearn: 15613.8865358\ttest: 73950.4026326\tbest: 73892.1803417 (1609)\ttotal: 4m 7s\tremaining: 37.2s\n1739:\tlearn: 15596.4065704\ttest: 73952.6563361\tbest: 73892.1803417 (1609)\ttotal: 4m 7s\tremaining: 37s\n1740:\tlearn: 15588.1076678\ttest: 73952.1290093\tbest: 73892.1803417 (1609)\ttotal: 4m 8s\tremaining: 36.9s\n1741:\tlearn: 15582.0039432\ttest: 73958.4373031\tbest: 73892.1803417 (1609)\ttotal: 4m 8s\tremaining: 36.8s\n1742:\tlearn: 15574.2009013\ttest: 73958.5915900\tbest: 73892.1803417 (1609)\ttotal: 4m 8s\tremaining: 36.7s\n1743:\tlearn: 15569.9754315\ttest: 73954.9635515\tbest: 73892.1803417 (1609)\ttotal: 4m 9s\tremaining: 36.6s\n1744:\tlearn: 15565.7165199\ttest: 73954.3142378\tbest: 73892.1803417 (1609)\ttotal: 4m 9s\tremaining: 36.5s\n1745:\tlearn: 15552.5509803\ttest: 73954.2870614\tbest: 73892.1803417 (1609)\ttotal: 4m 9s\tremaining: 36.3s\n1746:\tlearn: 15548.8182175\ttest: 73954.2558533\tbest: 73892.1803417 (1609)\ttotal: 4m 9s\tremaining: 36.2s\n1747:\tlearn: 15545.7532379\ttest: 73955.3052547\tbest: 73892.1803417 (1609)\ttotal: 4m 10s\tremaining: 36.1s\n1748:\tlearn: 15533.9699619\ttest: 73956.5503290\tbest: 73892.1803417 (1609)\ttotal: 4m 10s\tremaining: 35.9s\n1749:\tlearn: 15525.3952529\ttest: 73954.3088662\tbest: 73892.1803417 (1609)\ttotal: 4m 10s\tremaining: 35.8s\n1750:\tlearn: 15520.2702458\ttest: 73953.0947158\tbest: 73892.1803417 (1609)\ttotal: 4m 10s\tremaining: 35.7s\n1751:\tlearn: 15508.8182285\ttest: 73955.8407679\tbest: 73892.1803417 (1609)\ttotal: 4m 11s\tremaining: 35.5s\n1752:\tlearn: 15501.6734801\ttest: 73957.7628327\tbest: 73892.1803417 (1609)\ttotal: 4m 11s\tremaining: 35.4s\n1753:\tlearn: 15492.5655307\ttest: 73956.3958670\tbest: 73892.1803417 (1609)\ttotal: 4m 11s\tremaining: 35.3s\n1754:\tlearn: 15485.7178572\ttest: 73956.2697298\tbest: 73892.1803417 (1609)\ttotal: 4m 11s\tremaining: 35.2s\n1755:\tlearn: 15478.6466463\ttest: 73957.1952696\tbest: 73892.1803417 (1609)\ttotal: 4m 12s\tremaining: 35s\n1756:\tlearn: 15469.4649752\ttest: 73957.9684588\tbest: 73892.1803417 (1609)\ttotal: 4m 12s\tremaining: 34.9s\n1757:\tlearn: 15460.9609987\ttest: 73953.3643807\tbest: 73892.1803417 (1609)\ttotal: 4m 12s\tremaining: 34.7s\n1758:\tlearn: 15447.0020621\ttest: 73948.7349961\tbest: 73892.1803417 (1609)\ttotal: 4m 12s\tremaining: 34.6s\n1759:\tlearn: 15441.2086271\ttest: 73947.3338707\tbest: 73892.1803417 (1609)\ttotal: 4m 12s\tremaining: 34.4s\n1760:\tlearn: 15434.4412616\ttest: 73950.1349270\tbest: 73892.1803417 (1609)\ttotal: 4m 12s\tremaining: 34.3s\n1761:\tlearn: 15428.1980557\ttest: 73948.6447869\tbest: 73892.1803417 (1609)\ttotal: 4m 12s\tremaining: 34.2s\n1762:\tlearn: 15421.7623594\ttest: 73944.1604028\tbest: 73892.1803417 (1609)\ttotal: 4m 13s\tremaining: 34s\n1763:\tlearn: 15412.6936402\ttest: 73945.2086621\tbest: 73892.1803417 (1609)\ttotal: 4m 13s\tremaining: 33.9s\n1764:\tlearn: 15410.7933149\ttest: 73944.5386738\tbest: 73892.1803417 (1609)\ttotal: 4m 13s\tremaining: 33.7s\n1765:\tlearn: 15406.0766669\ttest: 73945.1687299\tbest: 73892.1803417 (1609)\ttotal: 4m 13s\tremaining: 33.6s\n1766:\tlearn: 15397.7904210\ttest: 73945.7491033\tbest: 73892.1803417 (1609)\ttotal: 4m 13s\tremaining: 33.4s\n1767:\tlearn: 15395.0999611\ttest: 73946.5287590\tbest: 73892.1803417 (1609)\ttotal: 4m 13s\tremaining: 33.3s\n1768:\tlearn: 15390.8700980\ttest: 73946.3782743\tbest: 73892.1803417 (1609)\ttotal: 4m 13s\tremaining: 33.1s\n1769:\tlearn: 15382.2128254\ttest: 73943.5884361\tbest: 73892.1803417 (1609)\ttotal: 4m 13s\tremaining: 33s\n1770:\tlearn: 15371.4566276\ttest: 73943.7609732\tbest: 73892.1803417 (1609)\ttotal: 4m 14s\tremaining: 32.9s\n1771:\tlearn: 15368.3689848\ttest: 73944.6865750\tbest: 73892.1803417 (1609)\ttotal: 4m 14s\tremaining: 32.7s\n1772:\tlearn: 15362.3620789\ttest: 73944.2627863\tbest: 73892.1803417 (1609)\ttotal: 4m 14s\tremaining: 32.6s\n1773:\tlearn: 15358.2641591\ttest: 73940.3831721\tbest: 73892.1803417 (1609)\ttotal: 4m 14s\tremaining: 32.4s\n1774:\tlearn: 15350.3080111\ttest: 73936.8817124\tbest: 73892.1803417 (1609)\ttotal: 4m 14s\tremaining: 32.3s\n1775:\tlearn: 15339.7363598\ttest: 73935.9498267\tbest: 73892.1803417 (1609)\ttotal: 4m 14s\tremaining: 32.1s\n1776:\tlearn: 15332.4817861\ttest: 73938.8740850\tbest: 73892.1803417 (1609)\ttotal: 4m 14s\tremaining: 32s\n1777:\tlearn: 15328.4927978\ttest: 73938.9696982\tbest: 73892.1803417 (1609)\ttotal: 4m 14s\tremaining: 31.8s\n1778:\tlearn: 15315.7289241\ttest: 73935.9992849\tbest: 73892.1803417 (1609)\ttotal: 4m 15s\tremaining: 31.7s\n1779:\tlearn: 15310.0810870\ttest: 73936.2818149\tbest: 73892.1803417 (1609)\ttotal: 4m 15s\tremaining: 31.6s\n1780:\tlearn: 15296.9396520\ttest: 73942.7848439\tbest: 73892.1803417 (1609)\ttotal: 4m 15s\tremaining: 31.4s\n1781:\tlearn: 15289.9911818\ttest: 73942.0403041\tbest: 73892.1803417 (1609)\ttotal: 4m 15s\tremaining: 31.3s\n1782:\tlearn: 15283.7911893\ttest: 73942.1095169\tbest: 73892.1803417 (1609)\ttotal: 4m 15s\tremaining: 31.1s\n1783:\tlearn: 15280.9576083\ttest: 73941.4305384\tbest: 73892.1803417 (1609)\ttotal: 4m 15s\tremaining: 31s\n1784:\tlearn: 15274.7634387\ttest: 73941.5560555\tbest: 73892.1803417 (1609)\ttotal: 4m 16s\tremaining: 30.8s\n1785:\tlearn: 15262.3916682\ttest: 73944.0721596\tbest: 73892.1803417 (1609)\ttotal: 4m 16s\tremaining: 30.7s\n1786:\tlearn: 15256.3517251\ttest: 73946.7338424\tbest: 73892.1803417 (1609)\ttotal: 4m 16s\tremaining: 30.5s\n1787:\tlearn: 15246.9450111\ttest: 73943.3119613\tbest: 73892.1803417 (1609)\ttotal: 4m 16s\tremaining: 30.4s\n1788:\tlearn: 15235.7658156\ttest: 73942.4948033\tbest: 73892.1803417 (1609)\ttotal: 4m 16s\tremaining: 30.3s\n1789:\tlearn: 15224.6389954\ttest: 73941.2557333\tbest: 73892.1803417 (1609)\ttotal: 4m 16s\tremaining: 30.1s\n1790:\tlearn: 15219.5754392\ttest: 73941.8059757\tbest: 73892.1803417 (1609)\ttotal: 4m 16s\tremaining: 30s\n1791:\tlearn: 15211.6836378\ttest: 73941.7034465\tbest: 73892.1803417 (1609)\ttotal: 4m 16s\tremaining: 29.8s\n1792:\tlearn: 15206.1080217\ttest: 73943.2086250\tbest: 73892.1803417 (1609)\ttotal: 4m 17s\tremaining: 29.7s\n1793:\tlearn: 15196.2937497\ttest: 73944.1078184\tbest: 73892.1803417 (1609)\ttotal: 4m 17s\tremaining: 29.5s\n1794:\tlearn: 15191.2114810\ttest: 73947.9615808\tbest: 73892.1803417 (1609)\ttotal: 4m 17s\tremaining: 29.4s\n1795:\tlearn: 15185.9889185\ttest: 73949.2819597\tbest: 73892.1803417 (1609)\ttotal: 4m 17s\tremaining: 29.3s\n1796:\tlearn: 15181.6451989\ttest: 73947.7902269\tbest: 73892.1803417 (1609)\ttotal: 4m 17s\tremaining: 29.1s\n1797:\tlearn: 15170.1697571\ttest: 73947.2737007\tbest: 73892.1803417 (1609)\ttotal: 4m 17s\tremaining: 29s\n1798:\tlearn: 15165.2069828\ttest: 73948.7408279\tbest: 73892.1803417 (1609)\ttotal: 4m 17s\tremaining: 28.8s\n1799:\tlearn: 15160.3823212\ttest: 73949.9962556\tbest: 73892.1803417 (1609)\ttotal: 4m 18s\tremaining: 28.7s\n1800:\tlearn: 15157.2790315\ttest: 73951.9700558\tbest: 73892.1803417 (1609)\ttotal: 4m 18s\tremaining: 28.5s\n1801:\tlearn: 15151.5081942\ttest: 73952.3213806\tbest: 73892.1803417 (1609)\ttotal: 4m 18s\tremaining: 28.4s\n1802:\tlearn: 15149.6828690\ttest: 73954.1943460\tbest: 73892.1803417 (1609)\ttotal: 4m 18s\tremaining: 28.2s\n1803:\tlearn: 15143.9799374\ttest: 73955.3571529\tbest: 73892.1803417 (1609)\ttotal: 4m 18s\tremaining: 28.1s\n1804:\tlearn: 15139.5770076\ttest: 73955.5917304\tbest: 73892.1803417 (1609)\ttotal: 4m 18s\tremaining: 28s\n1805:\tlearn: 15123.9904041\ttest: 73949.2319776\tbest: 73892.1803417 (1609)\ttotal: 4m 18s\tremaining: 27.8s\n1806:\tlearn: 15120.1463051\ttest: 73948.9864627\tbest: 73892.1803417 (1609)\ttotal: 4m 19s\tremaining: 27.7s\n1807:\tlearn: 15116.1041170\ttest: 73947.6822359\tbest: 73892.1803417 (1609)\ttotal: 4m 19s\tremaining: 27.6s\n1808:\tlearn: 15096.2000726\ttest: 73947.7943391\tbest: 73892.1803417 (1609)\ttotal: 4m 19s\tremaining: 27.4s\n1809:\tlearn: 15090.7630305\ttest: 73949.7059516\tbest: 73892.1803417 (1609)\ttotal: 4m 19s\tremaining: 27.3s\n1810:\tlearn: 15085.9317291\ttest: 73950.1666333\tbest: 73892.1803417 (1609)\ttotal: 4m 19s\tremaining: 27.1s\n1811:\tlearn: 15062.6214775\ttest: 73950.8505428\tbest: 73892.1803417 (1609)\ttotal: 4m 20s\tremaining: 27s\n1812:\tlearn: 15057.9084996\ttest: 73952.4040308\tbest: 73892.1803417 (1609)\ttotal: 4m 20s\tremaining: 26.8s\n1813:\tlearn: 15049.7665892\ttest: 73951.8429464\tbest: 73892.1803417 (1609)\ttotal: 4m 20s\tremaining: 26.7s\n1814:\tlearn: 15044.0739049\ttest: 73952.6673249\tbest: 73892.1803417 (1609)\ttotal: 4m 20s\tremaining: 26.5s\n1815:\tlearn: 15040.3254178\ttest: 73955.5241495\tbest: 73892.1803417 (1609)\ttotal: 4m 20s\tremaining: 26.4s\n1816:\tlearn: 15037.8337131\ttest: 73954.8951503\tbest: 73892.1803417 (1609)\ttotal: 4m 20s\tremaining: 26.3s\n1817:\tlearn: 15033.2672714\ttest: 73953.7590573\tbest: 73892.1803417 (1609)\ttotal: 4m 20s\tremaining: 26.1s\n1818:\tlearn: 15029.0962134\ttest: 73952.8970847\tbest: 73892.1803417 (1609)\ttotal: 4m 21s\tremaining: 26s\n1819:\tlearn: 15023.4098538\ttest: 73953.0289095\tbest: 73892.1803417 (1609)\ttotal: 4m 21s\tremaining: 25.9s\n1820:\tlearn: 15011.2061834\ttest: 73957.0658025\tbest: 73892.1803417 (1609)\ttotal: 4m 21s\tremaining: 25.7s\n1821:\tlearn: 14999.2746138\ttest: 73954.8775114\tbest: 73892.1803417 (1609)\ttotal: 4m 21s\tremaining: 25.6s\n1822:\tlearn: 14996.1686163\ttest: 73956.1406849\tbest: 73892.1803417 (1609)\ttotal: 4m 21s\tremaining: 25.4s\n1823:\tlearn: 14990.9228018\ttest: 73956.1569697\tbest: 73892.1803417 (1609)\ttotal: 4m 22s\tremaining: 25.3s\n1824:\tlearn: 14986.1948024\ttest: 73954.2470547\tbest: 73892.1803417 (1609)\ttotal: 4m 22s\tremaining: 25.2s\n1825:\tlearn: 14978.8899009\ttest: 73958.1312911\tbest: 73892.1803417 (1609)\ttotal: 4m 22s\tremaining: 25s\n1826:\tlearn: 14975.8045061\ttest: 73957.4734273\tbest: 73892.1803417 (1609)\ttotal: 4m 22s\tremaining: 24.9s\n1827:\tlearn: 14966.9964962\ttest: 73954.7161548\tbest: 73892.1803417 (1609)\ttotal: 4m 22s\tremaining: 24.7s\n1828:\tlearn: 14957.6168633\ttest: 73955.5881285\tbest: 73892.1803417 (1609)\ttotal: 4m 22s\tremaining: 24.6s\n1829:\tlearn: 14950.3962063\ttest: 73957.1542338\tbest: 73892.1803417 (1609)\ttotal: 4m 22s\tremaining: 24.4s\n1830:\tlearn: 14940.7373601\ttest: 73955.7788906\tbest: 73892.1803417 (1609)\ttotal: 4m 23s\tremaining: 24.3s\n1831:\tlearn: 14937.7152919\ttest: 73955.9223454\tbest: 73892.1803417 (1609)\ttotal: 4m 23s\tremaining: 24.1s\n1832:\tlearn: 14934.9974405\ttest: 73955.8707769\tbest: 73892.1803417 (1609)\ttotal: 4m 23s\tremaining: 24s\n1833:\tlearn: 14931.9867029\ttest: 73957.0927897\tbest: 73892.1803417 (1609)\ttotal: 4m 23s\tremaining: 23.8s\n1834:\tlearn: 14924.2834337\ttest: 73958.1632043\tbest: 73892.1803417 (1609)\ttotal: 4m 23s\tremaining: 23.7s\n1835:\tlearn: 14917.2173546\ttest: 73957.8983470\tbest: 73892.1803417 (1609)\ttotal: 4m 23s\tremaining: 23.6s\n1836:\tlearn: 14904.8502291\ttest: 73957.5546285\tbest: 73892.1803417 (1609)\ttotal: 4m 23s\tremaining: 23.4s\n1837:\tlearn: 14900.8091357\ttest: 73957.0557421\tbest: 73892.1803417 (1609)\ttotal: 4m 23s\tremaining: 23.3s\n1838:\tlearn: 14895.4089461\ttest: 73958.7931586\tbest: 73892.1803417 (1609)\ttotal: 4m 24s\tremaining: 23.1s\n1839:\tlearn: 14891.4685585\ttest: 73957.8214966\tbest: 73892.1803417 (1609)\ttotal: 4m 24s\tremaining: 23s\n1840:\tlearn: 14883.0446603\ttest: 73960.9186335\tbest: 73892.1803417 (1609)\ttotal: 4m 24s\tremaining: 22.8s\n1841:\tlearn: 14872.8376095\ttest: 73959.7131732\tbest: 73892.1803417 (1609)\ttotal: 4m 24s\tremaining: 22.7s\n1842:\tlearn: 14860.0256986\ttest: 73956.8631309\tbest: 73892.1803417 (1609)\ttotal: 4m 24s\tremaining: 22.5s\n1843:\tlearn: 14854.1335843\ttest: 73952.6053815\tbest: 73892.1803417 (1609)\ttotal: 4m 24s\tremaining: 22.4s\n1844:\tlearn: 14849.5754903\ttest: 73952.0151135\tbest: 73892.1803417 (1609)\ttotal: 4m 24s\tremaining: 22.3s\n1845:\tlearn: 14842.7437146\ttest: 73951.2341498\tbest: 73892.1803417 (1609)\ttotal: 4m 25s\tremaining: 22.1s\n1846:\tlearn: 14837.6923054\ttest: 73958.0293266\tbest: 73892.1803417 (1609)\ttotal: 4m 25s\tremaining: 22s\n1847:\tlearn: 14830.5989365\ttest: 73958.1000860\tbest: 73892.1803417 (1609)\ttotal: 4m 25s\tremaining: 21.8s\n1848:\tlearn: 14827.2297267\ttest: 73957.6232627\tbest: 73892.1803417 (1609)\ttotal: 4m 25s\tremaining: 21.7s\n1849:\tlearn: 14819.7783099\ttest: 73958.6668205\tbest: 73892.1803417 (1609)\ttotal: 4m 25s\tremaining: 21.5s\n1850:\tlearn: 14815.4781032\ttest: 73958.5508289\tbest: 73892.1803417 (1609)\ttotal: 4m 25s\tremaining: 21.4s\n1851:\tlearn: 14805.8127221\ttest: 73959.2443682\tbest: 73892.1803417 (1609)\ttotal: 4m 25s\tremaining: 21.2s\n1852:\tlearn: 14802.9854714\ttest: 73959.4414867\tbest: 73892.1803417 (1609)\ttotal: 4m 25s\tremaining: 21.1s\n1853:\tlearn: 14799.3872746\ttest: 73955.9138924\tbest: 73892.1803417 (1609)\ttotal: 4m 26s\tremaining: 21s\n1854:\tlearn: 14796.9816907\ttest: 73954.9860883\tbest: 73892.1803417 (1609)\ttotal: 4m 26s\tremaining: 20.8s\n1855:\tlearn: 14794.0947460\ttest: 73953.9219054\tbest: 73892.1803417 (1609)\ttotal: 4m 26s\tremaining: 20.7s\n1856:\tlearn: 14791.6620516\ttest: 73953.2843081\tbest: 73892.1803417 (1609)\ttotal: 4m 26s\tremaining: 20.5s\n1857:\tlearn: 14790.3477343\ttest: 73952.8526896\tbest: 73892.1803417 (1609)\ttotal: 4m 26s\tremaining: 20.4s\n1858:\tlearn: 14789.7302198\ttest: 73952.1145700\tbest: 73892.1803417 (1609)\ttotal: 4m 26s\tremaining: 20.2s\n1859:\tlearn: 14784.1855803\ttest: 73953.0940569\tbest: 73892.1803417 (1609)\ttotal: 4m 26s\tremaining: 20.1s\n1860:\tlearn: 14778.1614897\ttest: 73954.8677489\tbest: 73892.1803417 (1609)\ttotal: 4m 27s\tremaining: 19.9s\n1861:\tlearn: 14775.8052065\ttest: 73953.5115052\tbest: 73892.1803417 (1609)\ttotal: 4m 27s\tremaining: 19.8s\n1862:\tlearn: 14768.7161666\ttest: 73952.8875204\tbest: 73892.1803417 (1609)\ttotal: 4m 27s\tremaining: 19.7s\n1863:\tlearn: 14762.5397514\ttest: 73951.8025958\tbest: 73892.1803417 (1609)\ttotal: 4m 27s\tremaining: 19.5s\n1864:\tlearn: 14753.6878286\ttest: 73952.6540578\tbest: 73892.1803417 (1609)\ttotal: 4m 27s\tremaining: 19.4s\n1865:\tlearn: 14744.9029826\ttest: 73952.8509889\tbest: 73892.1803417 (1609)\ttotal: 4m 28s\tremaining: 19.3s\n1866:\tlearn: 14739.4521932\ttest: 73953.8830094\tbest: 73892.1803417 (1609)\ttotal: 4m 28s\tremaining: 19.1s\n1867:\tlearn: 14734.8606366\ttest: 73955.7660289\tbest: 73892.1803417 (1609)\ttotal: 4m 28s\tremaining: 19s\n1868:\tlearn: 14728.4131684\ttest: 73956.4141736\tbest: 73892.1803417 (1609)\ttotal: 4m 28s\tremaining: 18.8s\n1869:\tlearn: 14714.0445973\ttest: 73950.5490811\tbest: 73892.1803417 (1609)\ttotal: 4m 28s\tremaining: 18.7s\n1870:\tlearn: 14704.4398464\ttest: 73949.7052053\tbest: 73892.1803417 (1609)\ttotal: 4m 28s\tremaining: 18.5s\n1871:\tlearn: 14698.7741294\ttest: 73953.1625086\tbest: 73892.1803417 (1609)\ttotal: 4m 28s\tremaining: 18.4s\n1872:\tlearn: 14693.7759953\ttest: 73953.9724752\tbest: 73892.1803417 (1609)\ttotal: 4m 29s\tremaining: 18.2s\n1873:\tlearn: 14684.0594097\ttest: 73952.3254511\tbest: 73892.1803417 (1609)\ttotal: 4m 29s\tremaining: 18.1s\n1874:\tlearn: 14677.6071076\ttest: 73950.9295262\tbest: 73892.1803417 (1609)\ttotal: 4m 29s\tremaining: 18s\n1875:\tlearn: 14669.1561399\ttest: 73956.3568347\tbest: 73892.1803417 (1609)\ttotal: 4m 29s\tremaining: 17.8s\n1876:\tlearn: 14656.6918281\ttest: 73958.6842280\tbest: 73892.1803417 (1609)\ttotal: 4m 29s\tremaining: 17.7s\n1877:\tlearn: 14653.0549724\ttest: 73957.2127327\tbest: 73892.1803417 (1609)\ttotal: 4m 29s\tremaining: 17.5s\n1878:\tlearn: 14643.0385379\ttest: 73960.8054313\tbest: 73892.1803417 (1609)\ttotal: 4m 29s\tremaining: 17.4s\n1879:\tlearn: 14635.6259494\ttest: 73962.6029375\tbest: 73892.1803417 (1609)\ttotal: 4m 30s\tremaining: 17.2s\n1880:\tlearn: 14628.4901921\ttest: 73963.5879599\tbest: 73892.1803417 (1609)\ttotal: 4m 30s\tremaining: 17.1s\n1881:\tlearn: 14620.1924602\ttest: 73963.8901319\tbest: 73892.1803417 (1609)\ttotal: 4m 30s\tremaining: 16.9s\n1882:\tlearn: 14613.4259847\ttest: 73967.7145291\tbest: 73892.1803417 (1609)\ttotal: 4m 30s\tremaining: 16.8s\n1883:\tlearn: 14608.4077946\ttest: 73965.4837331\tbest: 73892.1803417 (1609)\ttotal: 4m 30s\tremaining: 16.7s\n1884:\tlearn: 14605.5522162\ttest: 73964.5766413\tbest: 73892.1803417 (1609)\ttotal: 4m 30s\tremaining: 16.5s\n1885:\tlearn: 14597.8350010\ttest: 73961.1869076\tbest: 73892.1803417 (1609)\ttotal: 4m 30s\tremaining: 16.4s\n1886:\tlearn: 14589.5778677\ttest: 73958.6587445\tbest: 73892.1803417 (1609)\ttotal: 4m 31s\tremaining: 16.2s\n1887:\tlearn: 14588.1066864\ttest: 73962.4886876\tbest: 73892.1803417 (1609)\ttotal: 4m 31s\tremaining: 16.1s\n1888:\tlearn: 14580.4095410\ttest: 73962.4497168\tbest: 73892.1803417 (1609)\ttotal: 4m 31s\tremaining: 15.9s\n1889:\tlearn: 14578.0643557\ttest: 73960.7421870\tbest: 73892.1803417 (1609)\ttotal: 4m 31s\tremaining: 15.8s\n1890:\tlearn: 14574.3122978\ttest: 73960.7738910\tbest: 73892.1803417 (1609)\ttotal: 4m 31s\tremaining: 15.7s\n1891:\tlearn: 14567.2287826\ttest: 73957.8130198\tbest: 73892.1803417 (1609)\ttotal: 4m 31s\tremaining: 15.5s\n1892:\tlearn: 14557.6347406\ttest: 73957.6371295\tbest: 73892.1803417 (1609)\ttotal: 4m 31s\tremaining: 15.4s\n1893:\tlearn: 14551.6581009\ttest: 73958.8580160\tbest: 73892.1803417 (1609)\ttotal: 4m 32s\tremaining: 15.2s\n1894:\tlearn: 14544.9210320\ttest: 73960.2619574\tbest: 73892.1803417 (1609)\ttotal: 4m 32s\tremaining: 15.1s\n1895:\tlearn: 14537.3419406\ttest: 73962.4339791\tbest: 73892.1803417 (1609)\ttotal: 4m 32s\tremaining: 14.9s\n1896:\tlearn: 14530.2648606\ttest: 73962.7082231\tbest: 73892.1803417 (1609)\ttotal: 4m 32s\tremaining: 14.8s\n1897:\tlearn: 14526.8676573\ttest: 73963.0614520\tbest: 73892.1803417 (1609)\ttotal: 4m 32s\tremaining: 14.7s\n1898:\tlearn: 14520.9757165\ttest: 73964.6988976\tbest: 73892.1803417 (1609)\ttotal: 4m 32s\tremaining: 14.5s\n1899:\tlearn: 14514.4152901\ttest: 73964.3927502\tbest: 73892.1803417 (1609)\ttotal: 4m 32s\tremaining: 14.4s\n1900:\tlearn: 14507.7739573\ttest: 73956.1095771\tbest: 73892.1803417 (1609)\ttotal: 4m 33s\tremaining: 14.2s\n1901:\tlearn: 14499.8882470\ttest: 73958.8078691\tbest: 73892.1803417 (1609)\ttotal: 4m 33s\tremaining: 14.1s\n1902:\tlearn: 14494.9024856\ttest: 73959.9635990\tbest: 73892.1803417 (1609)\ttotal: 4m 33s\tremaining: 13.9s\n1903:\tlearn: 14489.0969109\ttest: 73958.1984801\tbest: 73892.1803417 (1609)\ttotal: 4m 33s\tremaining: 13.8s\n1904:\tlearn: 14477.4661792\ttest: 73954.6989644\tbest: 73892.1803417 (1609)\ttotal: 4m 33s\tremaining: 13.6s\n1905:\tlearn: 14473.1554541\ttest: 73955.1238130\tbest: 73892.1803417 (1609)\ttotal: 4m 33s\tremaining: 13.5s\n1906:\tlearn: 14465.9587060\ttest: 73956.0084471\tbest: 73892.1803417 (1609)\ttotal: 4m 33s\tremaining: 13.4s\n1907:\tlearn: 14463.0871945\ttest: 73956.2912217\tbest: 73892.1803417 (1609)\ttotal: 4m 33s\tremaining: 13.2s\n1908:\tlearn: 14453.7733896\ttest: 73953.8572442\tbest: 73892.1803417 (1609)\ttotal: 4m 34s\tremaining: 13.1s\n1909:\tlearn: 14446.6592426\ttest: 73951.8127406\tbest: 73892.1803417 (1609)\ttotal: 4m 34s\tremaining: 12.9s\n1910:\tlearn: 14436.6753364\ttest: 73951.9097978\tbest: 73892.1803417 (1609)\ttotal: 4m 34s\tremaining: 12.8s\n1911:\tlearn: 14432.7481138\ttest: 73953.1287049\tbest: 73892.1803417 (1609)\ttotal: 4m 34s\tremaining: 12.6s\n1912:\tlearn: 14429.8206876\ttest: 73951.5215636\tbest: 73892.1803417 (1609)\ttotal: 4m 34s\tremaining: 12.5s\n1913:\tlearn: 14416.2154638\ttest: 73954.9604315\tbest: 73892.1803417 (1609)\ttotal: 4m 34s\tremaining: 12.3s\n1914:\tlearn: 14405.6698506\ttest: 73959.9244457\tbest: 73892.1803417 (1609)\ttotal: 4m 34s\tremaining: 12.2s\n1915:\tlearn: 14393.6316437\ttest: 73960.3319327\tbest: 73892.1803417 (1609)\ttotal: 4m 35s\tremaining: 12.1s\n1916:\tlearn: 14386.8136885\ttest: 73958.3022871\tbest: 73892.1803417 (1609)\ttotal: 4m 35s\tremaining: 11.9s\n1917:\tlearn: 14384.9813786\ttest: 73959.5903336\tbest: 73892.1803417 (1609)\ttotal: 4m 35s\tremaining: 11.8s\n1918:\tlearn: 14378.0337527\ttest: 73960.0608830\tbest: 73892.1803417 (1609)\ttotal: 4m 35s\tremaining: 11.6s\n1919:\tlearn: 14371.0565146\ttest: 73959.5191785\tbest: 73892.1803417 (1609)\ttotal: 4m 35s\tremaining: 11.5s\n1920:\tlearn: 14366.0366494\ttest: 73958.5483455\tbest: 73892.1803417 (1609)\ttotal: 4m 35s\tremaining: 11.3s\n1921:\tlearn: 14358.4406608\ttest: 73960.2534109\tbest: 73892.1803417 (1609)\ttotal: 4m 35s\tremaining: 11.2s\n1922:\tlearn: 14356.0601174\ttest: 73959.1936293\tbest: 73892.1803417 (1609)\ttotal: 4m 36s\tremaining: 11.1s\n1923:\tlearn: 14348.6327984\ttest: 73959.0799130\tbest: 73892.1803417 (1609)\ttotal: 4m 36s\tremaining: 10.9s\n1924:\tlearn: 14346.2415170\ttest: 73959.8278834\tbest: 73892.1803417 (1609)\ttotal: 4m 36s\tremaining: 10.8s\n1925:\tlearn: 14337.8534310\ttest: 73961.7143604\tbest: 73892.1803417 (1609)\ttotal: 4m 36s\tremaining: 10.6s\n1926:\tlearn: 14331.0749672\ttest: 73965.2797420\tbest: 73892.1803417 (1609)\ttotal: 4m 36s\tremaining: 10.5s\n1927:\tlearn: 14327.2471439\ttest: 73966.2223766\tbest: 73892.1803417 (1609)\ttotal: 4m 36s\tremaining: 10.3s\n1928:\tlearn: 14323.5008851\ttest: 73961.1645403\tbest: 73892.1803417 (1609)\ttotal: 4m 36s\tremaining: 10.2s\n1929:\tlearn: 14317.0301884\ttest: 73962.9007762\tbest: 73892.1803417 (1609)\ttotal: 4m 36s\tremaining: 10s\n1930:\tlearn: 14305.9871571\ttest: 73963.5252866\tbest: 73892.1803417 (1609)\ttotal: 4m 37s\tremaining: 9.9s\n1931:\tlearn: 14299.3898176\ttest: 73957.3198508\tbest: 73892.1803417 (1609)\ttotal: 4m 37s\tremaining: 9.76s\n1932:\tlearn: 14290.8830393\ttest: 73957.0516533\tbest: 73892.1803417 (1609)\ttotal: 4m 37s\tremaining: 9.61s\n1933:\tlearn: 14286.1395534\ttest: 73958.7484519\tbest: 73892.1803417 (1609)\ttotal: 4m 37s\tremaining: 9.47s\n1934:\tlearn: 14281.1609656\ttest: 73953.8527782\tbest: 73892.1803417 (1609)\ttotal: 4m 37s\tremaining: 9.33s\n1935:\tlearn: 14277.4924672\ttest: 73954.1008291\tbest: 73892.1803417 (1609)\ttotal: 4m 37s\tremaining: 9.18s\n1936:\tlearn: 14267.0654908\ttest: 73955.3890163\tbest: 73892.1803417 (1609)\ttotal: 4m 37s\tremaining: 9.04s\n1937:\tlearn: 14258.4623133\ttest: 73952.8433815\tbest: 73892.1803417 (1609)\ttotal: 4m 38s\tremaining: 8.89s\n1938:\tlearn: 14254.3940214\ttest: 73951.4809793\tbest: 73892.1803417 (1609)\ttotal: 4m 38s\tremaining: 8.75s\n1939:\tlearn: 14247.6103611\ttest: 73951.9249223\tbest: 73892.1803417 (1609)\ttotal: 4m 38s\tremaining: 8.61s\n1940:\tlearn: 14241.8056118\ttest: 73950.7077225\tbest: 73892.1803417 (1609)\ttotal: 4m 38s\tremaining: 8.46s\n1941:\tlearn: 14232.9114962\ttest: 73949.4564029\tbest: 73892.1803417 (1609)\ttotal: 4m 38s\tremaining: 8.32s\n1942:\tlearn: 14218.8970758\ttest: 73953.9723330\tbest: 73892.1803417 (1609)\ttotal: 4m 38s\tremaining: 8.18s\n1943:\tlearn: 14217.4417000\ttest: 73955.0868680\tbest: 73892.1803417 (1609)\ttotal: 4m 38s\tremaining: 8.04s\n1944:\tlearn: 14211.9948877\ttest: 73953.9724135\tbest: 73892.1803417 (1609)\ttotal: 4m 39s\tremaining: 7.89s\n1945:\tlearn: 14207.9521826\ttest: 73953.1178197\tbest: 73892.1803417 (1609)\ttotal: 4m 39s\tremaining: 7.75s\n1946:\tlearn: 14207.4740170\ttest: 73952.8484749\tbest: 73892.1803417 (1609)\ttotal: 4m 39s\tremaining: 7.6s\n1947:\tlearn: 14198.7780244\ttest: 73950.1981398\tbest: 73892.1803417 (1609)\ttotal: 4m 39s\tremaining: 7.46s\n1948:\tlearn: 14195.7073103\ttest: 73950.5863428\tbest: 73892.1803417 (1609)\ttotal: 4m 39s\tremaining: 7.31s\n1949:\tlearn: 14189.6509517\ttest: 73950.1291792\tbest: 73892.1803417 (1609)\ttotal: 4m 39s\tremaining: 7.17s\n1950:\tlearn: 14181.2956211\ttest: 73950.8382488\tbest: 73892.1803417 (1609)\ttotal: 4m 39s\tremaining: 7.03s\n1951:\tlearn: 14172.8673725\ttest: 73950.1720779\tbest: 73892.1803417 (1609)\ttotal: 4m 40s\tremaining: 6.89s\n1952:\tlearn: 14169.3471022\ttest: 73945.8423904\tbest: 73892.1803417 (1609)\ttotal: 4m 40s\tremaining: 6.75s\n1953:\tlearn: 14157.4528558\ttest: 73940.1551959\tbest: 73892.1803417 (1609)\ttotal: 4m 40s\tremaining: 6.6s\n1954:\tlearn: 14155.1765705\ttest: 73940.4685256\tbest: 73892.1803417 (1609)\ttotal: 4m 40s\tremaining: 6.46s\n1955:\tlearn: 14145.1416342\ttest: 73939.8246132\tbest: 73892.1803417 (1609)\ttotal: 4m 40s\tremaining: 6.31s\n1956:\tlearn: 14139.4783898\ttest: 73939.6258627\tbest: 73892.1803417 (1609)\ttotal: 4m 40s\tremaining: 6.17s\n1957:\tlearn: 14130.1184303\ttest: 73941.1663189\tbest: 73892.1803417 (1609)\ttotal: 4m 40s\tremaining: 6.03s\n1958:\tlearn: 14114.8087299\ttest: 73942.6188187\tbest: 73892.1803417 (1609)\ttotal: 4m 41s\tremaining: 5.88s\n1959:\tlearn: 14110.3310475\ttest: 73936.8447367\tbest: 73892.1803417 (1609)\ttotal: 4m 41s\tremaining: 5.74s\n1960:\tlearn: 14099.2438692\ttest: 73936.8109347\tbest: 73892.1803417 (1609)\ttotal: 4m 41s\tremaining: 5.59s\n1961:\tlearn: 14089.5550187\ttest: 73936.6790025\tbest: 73892.1803417 (1609)\ttotal: 4m 41s\tremaining: 5.45s\n1962:\tlearn: 14087.3734096\ttest: 73935.9906081\tbest: 73892.1803417 (1609)\ttotal: 4m 41s\tremaining: 5.31s\n1963:\tlearn: 14082.6689165\ttest: 73936.1279323\tbest: 73892.1803417 (1609)\ttotal: 4m 41s\tremaining: 5.17s\n1964:\tlearn: 14081.5253225\ttest: 73936.0647470\tbest: 73892.1803417 (1609)\ttotal: 4m 41s\tremaining: 5.02s\n1965:\tlearn: 14080.0391620\ttest: 73936.9881845\tbest: 73892.1803417 (1609)\ttotal: 4m 42s\tremaining: 4.88s\n1966:\tlearn: 14076.2801738\ttest: 73937.2910735\tbest: 73892.1803417 (1609)\ttotal: 4m 42s\tremaining: 4.73s\n1967:\tlearn: 14070.2130479\ttest: 73937.3565341\tbest: 73892.1803417 (1609)\ttotal: 4m 42s\tremaining: 4.59s\n1968:\tlearn: 14064.4136545\ttest: 73938.7167075\tbest: 73892.1803417 (1609)\ttotal: 4m 42s\tremaining: 4.45s\n1969:\tlearn: 14053.4984104\ttest: 73939.0168264\tbest: 73892.1803417 (1609)\ttotal: 4m 42s\tremaining: 4.3s\n1970:\tlearn: 14049.5252711\ttest: 73937.6282203\tbest: 73892.1803417 (1609)\ttotal: 4m 42s\tremaining: 4.16s\n1971:\tlearn: 14046.5565708\ttest: 73939.2623616\tbest: 73892.1803417 (1609)\ttotal: 4m 42s\tremaining: 4.02s\n1972:\tlearn: 14040.9747916\ttest: 73939.7892502\tbest: 73892.1803417 (1609)\ttotal: 4m 43s\tremaining: 3.87s\n1973:\tlearn: 14035.1314167\ttest: 73939.1603347\tbest: 73892.1803417 (1609)\ttotal: 4m 43s\tremaining: 3.73s\n1974:\tlearn: 14032.1973909\ttest: 73938.5906550\tbest: 73892.1803417 (1609)\ttotal: 4m 43s\tremaining: 3.59s\n1975:\tlearn: 14028.1874654\ttest: 73939.3032333\tbest: 73892.1803417 (1609)\ttotal: 4m 43s\tremaining: 3.44s\n1976:\tlearn: 14023.2070418\ttest: 73939.4036947\tbest: 73892.1803417 (1609)\ttotal: 4m 43s\tremaining: 3.3s\n1977:\tlearn: 14021.5619859\ttest: 73939.7173243\tbest: 73892.1803417 (1609)\ttotal: 4m 43s\tremaining: 3.16s\n1978:\tlearn: 14013.5654899\ttest: 73938.1771073\tbest: 73892.1803417 (1609)\ttotal: 4m 44s\tremaining: 3.01s\n1979:\tlearn: 14003.8211604\ttest: 73939.2874728\tbest: 73892.1803417 (1609)\ttotal: 4m 44s\tremaining: 2.87s\n1980:\tlearn: 13997.4756505\ttest: 73938.9416396\tbest: 73892.1803417 (1609)\ttotal: 4m 44s\tremaining: 2.73s\n1981:\tlearn: 13993.6037144\ttest: 73937.9102038\tbest: 73892.1803417 (1609)\ttotal: 4m 44s\tremaining: 2.58s\n1982:\tlearn: 13981.6731994\ttest: 73932.2039330\tbest: 73892.1803417 (1609)\ttotal: 4m 44s\tremaining: 2.44s\n1983:\tlearn: 13973.7050081\ttest: 73931.7902599\tbest: 73892.1803417 (1609)\ttotal: 4m 44s\tremaining: 2.29s\n1984:\tlearn: 13968.9256746\ttest: 73931.1249563\tbest: 73892.1803417 (1609)\ttotal: 4m 44s\tremaining: 2.15s\n1985:\tlearn: 13963.9025583\ttest: 73928.5995508\tbest: 73892.1803417 (1609)\ttotal: 4m 44s\tremaining: 2.01s\n1986:\tlearn: 13959.3254487\ttest: 73925.0678834\tbest: 73892.1803417 (1609)\ttotal: 4m 45s\tremaining: 1.86s\n1987:\tlearn: 13954.5640298\ttest: 73924.9464497\tbest: 73892.1803417 (1609)\ttotal: 4m 45s\tremaining: 1.72s\n1988:\tlearn: 13947.4655701\ttest: 73930.2092470\tbest: 73892.1803417 (1609)\ttotal: 4m 45s\tremaining: 1.58s\n1989:\tlearn: 13942.3155056\ttest: 73930.1362664\tbest: 73892.1803417 (1609)\ttotal: 4m 45s\tremaining: 1.43s\n1990:\tlearn: 13938.9763447\ttest: 73931.1463105\tbest: 73892.1803417 (1609)\ttotal: 4m 45s\tremaining: 1.29s\n1991:\tlearn: 13933.8243947\ttest: 73931.7311526\tbest: 73892.1803417 (1609)\ttotal: 4m 45s\tremaining: 1.15s\n1992:\tlearn: 13929.7953587\ttest: 73929.3956616\tbest: 73892.1803417 (1609)\ttotal: 4m 45s\tremaining: 1s\n1993:\tlearn: 13926.6245219\ttest: 73928.2041478\tbest: 73892.1803417 (1609)\ttotal: 4m 45s\tremaining: 860ms\n1994:\tlearn: 13923.2515060\ttest: 73927.8025905\tbest: 73892.1803417 (1609)\ttotal: 4m 46s\tremaining: 717ms\n1995:\tlearn: 13917.0330708\ttest: 73928.7639534\tbest: 73892.1803417 (1609)\ttotal: 4m 46s\tremaining: 574ms\n1996:\tlearn: 13912.6415717\ttest: 73928.2038193\tbest: 73892.1803417 (1609)\ttotal: 4m 46s\tremaining: 430ms\n1997:\tlearn: 13908.6939771\ttest: 73927.5307752\tbest: 73892.1803417 (1609)\ttotal: 4m 46s\tremaining: 287ms\n1998:\tlearn: 13893.1299647\ttest: 73929.7970939\tbest: 73892.1803417 (1609)\ttotal: 4m 46s\tremaining: 143ms\n1999:\tlearn: 13887.1562441\ttest: 73929.9829317\tbest: 73892.1803417 (1609)\ttotal: 4m 46s\tremaining: 0us\n\nbestTest = 73892.18034\nbestIteration = 1609\n\nShrink model to first 1610 iterations.\n",
     "output_type": "stream"
    },
    {
     "output_type": "execute_result",
     "execution_count": 11,
     "data": {
      "text/plain": "<catboost.core.CatBoostRegressor at 0x7fa73f29e9d0>"
     },
     "metadata": {}
    }
   ],
   "execution_count": null
  },
  {
   "cell_type": "code",
   "metadata": {
    "tags": [],
    "cell_id": "00005-37f4ca1e-9bd4-4ab0-97d4-6e9374ae416f",
    "deepnote_to_be_reexecuted": false,
    "source_hash": "432fb887",
    "execution_start": 1637264736396,
    "execution_millis": 1775,
    "deepnote_output_heights": [
     null,
     21
    ],
    "deepnote_cell_type": "code"
   },
   "source": "print(model.score(X_train, y_train))\nfrom sklearn.metrics import r2_score\n\ny_pred = model.predict(X_val)\ny_pred = y_pred.astype(float)\nprint(model.score(X_val, y_val)), print(r2_score(y_pred, model.predict(X_val)))",
   "outputs": [
    {
     "name": "stdout",
     "text": "0.9598727405713643\n0.8111237560278827\n1.0\n",
     "output_type": "stream"
    },
    {
     "output_type": "execute_result",
     "execution_count": 12,
     "data": {
      "text/plain": "(None, None)"
     },
     "metadata": {}
    }
   ],
   "execution_count": null
  },
  {
   "cell_type": "code",
   "metadata": {
    "tags": [],
    "cell_id": "00006-a52b030d-1ee4-4f8b-8604-006f9b86c20c",
    "deepnote_to_be_reexecuted": false,
    "source_hash": "949a2162",
    "execution_start": 1637264738181,
    "execution_millis": 123,
    "deepnote_cell_type": "code"
   },
   "source": "df=pd.DataFrame({'Actual': y_val, 'Predicted':y_pred})\ndf",
   "outputs": [
    {
     "output_type": "execute_result",
     "execution_count": 13,
     "data": {
      "application/vnd.deepnote.dataframe.v2+json": {
       "row_count": 4657,
       "column_count": 2,
       "columns": [
        {
         "name": "Actual",
         "dtype": "float64",
         "stats": {
          "unique_count": 3951,
          "nan_count": 0,
          "min": "31319.910514541385",
          "max": "2785756.4961169483",
          "histogram": [
           {
            "bin_start": 31319.910514541385,
            "bin_end": 306763.5690747821,
            "count": 3805
           },
           {
            "bin_start": 306763.5690747821,
            "bin_end": 582207.2276350228,
            "count": 660
           },
           {
            "bin_start": 582207.2276350228,
            "bin_end": 857650.8861952636,
            "count": 129
           },
           {
            "bin_start": 857650.8861952636,
            "bin_end": 1133094.5447555042,
            "count": 40
           },
           {
            "bin_start": 1133094.5447555042,
            "bin_end": 1408538.2033157449,
            "count": 11
           },
           {
            "bin_start": 1408538.2033157449,
            "bin_end": 1683981.8618759857,
            "count": 4
           },
           {
            "bin_start": 1683981.8618759857,
            "bin_end": 1959425.5204362264,
            "count": 4
           },
           {
            "bin_start": 1959425.5204362264,
            "bin_end": 2234869.178996467,
            "count": 0
           },
           {
            "bin_start": 2234869.178996467,
            "bin_end": 2510312.8375567077,
            "count": 3
           },
           {
            "bin_start": 2510312.8375567077,
            "bin_end": 2785756.4961169483,
            "count": 1
           }
          ]
         }
        },
        {
         "name": "Predicted",
         "dtype": "float64",
         "stats": {
          "unique_count": 4599,
          "nan_count": 0,
          "min": "60173.9393660159",
          "max": "1809224.8086802233",
          "histogram": [
           {
            "bin_start": 60173.9393660159,
            "bin_end": 235079.02629743665,
            "count": 3085
           },
           {
            "bin_start": 235079.02629743665,
            "bin_end": 409984.1132288574,
            "count": 1090
           },
           {
            "bin_start": 409984.1132288574,
            "bin_end": 584889.2001602782,
            "count": 310
           },
           {
            "bin_start": 584889.2001602782,
            "bin_end": 759794.287091699,
            "count": 95
           },
           {
            "bin_start": 759794.287091699,
            "bin_end": 934699.3740231197,
            "count": 54
           },
           {
            "bin_start": 934699.3740231197,
            "bin_end": 1109604.4609545404,
            "count": 13
           },
           {
            "bin_start": 1109604.4609545404,
            "bin_end": 1284509.5478859611,
            "count": 8
           },
           {
            "bin_start": 1284509.5478859611,
            "bin_end": 1459414.6348173819,
            "count": 1
           },
           {
            "bin_start": 1459414.6348173819,
            "bin_end": 1634319.7217488026,
            "count": 0
           },
           {
            "bin_start": 1634319.7217488026,
            "bin_end": 1809224.8086802233,
            "count": 1
           }
          ]
         }
        },
        {
         "name": "_deepnote_index_column",
         "dtype": "int64"
        }
       ],
       "rows_top": [
        {
         "Actual": 641025.641025641,
         "Predicted": 628101.7863507776,
         "_deepnote_index_column": 10307
        },
        {
         "Actual": 370277.77777777775,
         "Predicted": 410751.3502928797,
         "_deepnote_index_column": 2684
        },
        {
         "Actual": 213851.99240986715,
         "Predicted": 183403.9991386247,
         "_deepnote_index_column": 15931
        },
        {
         "Actual": 187598.11616954472,
         "Predicted": 179337.4536620191,
         "_deepnote_index_column": 10683
        },
        {
         "Actual": 189556.50929899854,
         "Predicted": 460509.5113719003,
         "_deepnote_index_column": 22217
        },
        {
         "Actual": 225480,
         "Predicted": 209637.8742872569,
         "_deepnote_index_column": 10653
        },
        {
         "Actual": 209401.7094017094,
         "Predicted": 189269.0643544094,
         "_deepnote_index_column": 1414
        },
        {
         "Actual": 209200,
         "Predicted": 220699.58706401996,
         "_deepnote_index_column": 9902
        },
        {
         "Actual": 166647.0588235294,
         "Predicted": 166032.4169074442,
         "_deepnote_index_column": 19529
        },
        {
         "Actual": 220700,
         "Predicted": 248360.48870813815,
         "_deepnote_index_column": 12062
        },
        {
         "Actual": 166374.78108581435,
         "Predicted": 168412.47906313319,
         "_deepnote_index_column": 17047
        },
        {
         "Actual": 187263.33333333334,
         "Predicted": 186407.27243737984,
         "_deepnote_index_column": 14103
        },
        {
         "Actual": 191500,
         "Predicted": 218497.6961207849,
         "_deepnote_index_column": 19193
        },
        {
         "Actual": 130049.99999999999,
         "Predicted": 115492.87494705981,
         "_deepnote_index_column": 19706
        },
        {
         "Actual": 190355.3299492386,
         "Predicted": 165936.75496958382,
         "_deepnote_index_column": 20810
        },
        {
         "Actual": 156900,
         "Predicted": 164539.56750766293,
         "_deepnote_index_column": 17027
        },
        {
         "Actual": 120100,
         "Predicted": 118855.39207909438,
         "_deepnote_index_column": 14263
        },
        {
         "Actual": 182300,
         "Predicted": 174669.81563469395,
         "_deepnote_index_column": 1945
        },
        {
         "Actual": 253384.91295938104,
         "Predicted": 228971.4214310895,
         "_deepnote_index_column": 17184
        },
        {
         "Actual": 221314.2323651452,
         "Predicted": 220934.74612792378,
         "_deepnote_index_column": 18568
        },
        {
         "Actual": 102511.0197368421,
         "Predicted": 106163.68610396679,
         "_deepnote_index_column": 9860
        },
        {
         "Actual": 161111.11111111112,
         "Predicted": 167260.19593938516,
         "_deepnote_index_column": 22814
        },
        {
         "Actual": 235000,
         "Predicted": 241410.8266829262,
         "_deepnote_index_column": 20535
        },
        {
         "Actual": 119000,
         "Predicted": 139644.12071566173,
         "_deepnote_index_column": 21315
        },
        {
         "Actual": 183030.30303030304,
         "Predicted": 181952.6707158574,
         "_deepnote_index_column": 2164
        },
        {
         "Actual": 153846.15384615384,
         "Predicted": 145138.0136584398,
         "_deepnote_index_column": 4035
        },
        {
         "Actual": 290000,
         "Predicted": 251508.76703358986,
         "_deepnote_index_column": 15448
        },
        {
         "Actual": 281410.25641025644,
         "Predicted": 299620.05940242915,
         "_deepnote_index_column": 7661
        },
        {
         "Actual": 165100,
         "Predicted": 165666.76485176547,
         "_deepnote_index_column": 12999
        },
        {
         "Actual": 213086.64226898446,
         "Predicted": 205983.3326695782,
         "_deepnote_index_column": 20856
        },
        {
         "Actual": 313559.3220338983,
         "Predicted": 222268.39632522568,
         "_deepnote_index_column": 20459
        },
        {
         "Actual": 160237.38872403558,
         "Predicted": 177557.041042772,
         "_deepnote_index_column": 8509
        },
        {
         "Actual": 160735.57870370368,
         "Predicted": 154775.58358758054,
         "_deepnote_index_column": 22367
        },
        {
         "Actual": 323820,
         "Predicted": 314009.61712832196,
         "_deepnote_index_column": 16243
        },
        {
         "Actual": 175925.92592592593,
         "Predicted": 178144.54393311273,
         "_deepnote_index_column": 22967
        },
        {
         "Actual": 375000,
         "Predicted": 304102.7187620007,
         "_deepnote_index_column": 15483
        },
        {
         "Actual": 125049.00357690341,
         "Predicted": 119502.9303615042,
         "_deepnote_index_column": 13791
        },
        {
         "Actual": 284615.3846153846,
         "Predicted": 293313.8007082048,
         "_deepnote_index_column": 18324
        },
        {
         "Actual": 178018.5758513932,
         "Predicted": 173484.30281878076,
         "_deepnote_index_column": 12713
        },
        {
         "Actual": 192400,
         "Predicted": 180139.06963509024,
         "_deepnote_index_column": 22638
        },
        {
         "Actual": 167532.46753246753,
         "Predicted": 199858.7540267425,
         "_deepnote_index_column": 13507
        },
        {
         "Actual": 184848.48484848486,
         "Predicted": 209760.10185818266,
         "_deepnote_index_column": 7194
        },
        {
         "Actual": 135857.4610244989,
         "Predicted": 128273.49387313882,
         "_deepnote_index_column": 5499
        },
        {
         "Actual": 138166.66666666666,
         "Predicted": 155651.8091471849,
         "_deepnote_index_column": 12796
        },
        {
         "Actual": 597222.2222222222,
         "Predicted": 563969.9253008647,
         "_deepnote_index_column": 2491
        },
        {
         "Actual": 286335,
         "Predicted": 305739.6459012959,
         "_deepnote_index_column": 12684
        },
        {
         "Actual": 573526.0380821289,
         "Predicted": 422139.64581403485,
         "_deepnote_index_column": 6722
        },
        {
         "Actual": 231557.37704918033,
         "Predicted": 236246.12665646456,
         "_deepnote_index_column": 5722
        },
        {
         "Actual": 181558.44155844155,
         "Predicted": 167645.92386621452,
         "_deepnote_index_column": 7162
        },
        {
         "Actual": 220900.00000000003,
         "Predicted": 222662.83656740352,
         "_deepnote_index_column": 7890
        },
        {
         "Actual": 160100,
         "Predicted": 162511.7387284545,
         "_deepnote_index_column": 7362
        },
        {
         "Actual": 214405.36013400333,
         "Predicted": 212131.65841566733,
         "_deepnote_index_column": 15537
        },
        {
         "Actual": 459868.4210526316,
         "Predicted": 523093.4746701935,
         "_deepnote_index_column": 1113
        },
        {
         "Actual": 230670.45454545456,
         "Predicted": 297697.6898694499,
         "_deepnote_index_column": 13246
        },
        {
         "Actual": 199961.53846153847,
         "Predicted": 234172.42016887807,
         "_deepnote_index_column": 9712
        },
        {
         "Actual": 186346.15384615384,
         "Predicted": 182167.70982905457,
         "_deepnote_index_column": 18607
        },
        {
         "Actual": 256500,
         "Predicted": 266561.7433047674,
         "_deepnote_index_column": 6885
        },
        {
         "Actual": 266000,
         "Predicted": 287034.46804107603,
         "_deepnote_index_column": 7014
        },
        {
         "Actual": 843023.2558139535,
         "Predicted": 815885.2168454062,
         "_deepnote_index_column": 3069
        },
        {
         "Actual": 333222.22222222225,
         "Predicted": 501271.2259883523,
         "_deepnote_index_column": 16769
        },
        {
         "Actual": 156003.99045020464,
         "Predicted": 150111.31572504918,
         "_deepnote_index_column": 13788
        },
        {
         "Actual": 171493.485267035,
         "Predicted": 182317.46918045386,
         "_deepnote_index_column": 5761
        },
        {
         "Actual": 209700.00000000003,
         "Predicted": 214164.85473826184,
         "_deepnote_index_column": 10963
        },
        {
         "Actual": 155645.16129032258,
         "Predicted": 137456.21554443607,
         "_deepnote_index_column": 18524
        },
        {
         "Actual": 213000,
         "Predicted": 193558.53703546792,
         "_deepnote_index_column": 18481
        },
        {
         "Actual": 184535.82240161454,
         "Predicted": 208690.44644839925,
         "_deepnote_index_column": 9877
        },
        {
         "Actual": 298652.6946107785,
         "Predicted": 308041.81878140266,
         "_deepnote_index_column": 1336
        },
        {
         "Actual": 185942.02898550723,
         "Predicted": 199303.84041882266,
         "_deepnote_index_column": 6828
        },
        {
         "Actual": 230000,
         "Predicted": 277953.7401790072,
         "_deepnote_index_column": 14778
        },
        {
         "Actual": 202900,
         "Predicted": 181049.7482797766,
         "_deepnote_index_column": 8462
        },
        {
         "Actual": 187273.4335839599,
         "Predicted": 192166.81886537196,
         "_deepnote_index_column": 19536
        },
        {
         "Actual": 174196.7871485944,
         "Predicted": 179149.87602188814,
         "_deepnote_index_column": 21499
        },
        {
         "Actual": 158500,
         "Predicted": 156812.65466827556,
         "_deepnote_index_column": 21354
        },
        {
         "Actual": 156818.18181818182,
         "Predicted": 171078.28095455666,
         "_deepnote_index_column": 14258
        },
        {
         "Actual": 175700,
         "Predicted": 176621.43126283007,
         "_deepnote_index_column": 20786
        },
        {
         "Actual": 933876.8115942029,
         "Predicted": 687460.9332643144,
         "_deepnote_index_column": 8214
        },
        {
         "Actual": 209000,
         "Predicted": 226498.64634617543,
         "_deepnote_index_column": 4405
        },
        {
         "Actual": 306837.92486583185,
         "Predicted": 311200.63181593,
         "_deepnote_index_column": 9132
        },
        {
         "Actual": 139682.53968253967,
         "Predicted": 158303.2927850036,
         "_deepnote_index_column": 7440
        },
        {
         "Actual": 206000,
         "Predicted": 193406.96576096778,
         "_deepnote_index_column": 1953
        },
        {
         "Actual": 178082.19178082192,
         "Predicted": 175453.83494967158,
         "_deepnote_index_column": 938
        },
        {
         "Actual": 125000.00000000001,
         "Predicted": 129224.16655389278,
         "_deepnote_index_column": 9572
        },
        {
         "Actual": 141742.52275682703,
         "Predicted": 176538.32360702936,
         "_deepnote_index_column": 16040
        },
        {
         "Actual": 211221.12211221122,
         "Predicted": 204151.34811927046,
         "_deepnote_index_column": 7435
        },
        {
         "Actual": 188800,
         "Predicted": 176527.48437108577,
         "_deepnote_index_column": 12009
        },
        {
         "Actual": 148816.99494949495,
         "Predicted": 149585.9917043951,
         "_deepnote_index_column": 20220
        },
        {
         "Actual": 204644.8087431694,
         "Predicted": 176862.05830242723,
         "_deepnote_index_column": 13410
        },
        {
         "Actual": 180200,
         "Predicted": 190816.7311005847,
         "_deepnote_index_column": 9560
        },
        {
         "Actual": 251282.05128205128,
         "Predicted": 242128.65169058208,
         "_deepnote_index_column": 13306
        },
        {
         "Actual": 531134.7517730496,
         "Predicted": 469833.22240611503,
         "_deepnote_index_column": 17197
        },
        {
         "Actual": 189545.00390320065,
         "Predicted": 195138.3010156597,
         "_deepnote_index_column": 9632
        },
        {
         "Actual": 217307.6923076923,
         "Predicted": 189093.88272506595,
         "_deepnote_index_column": 20850
        },
        {
         "Actual": 205792.6829268293,
         "Predicted": 201505.98543685506,
         "_deepnote_index_column": 5146
        },
        {
         "Actual": 210300.42918454934,
         "Predicted": 292368.1730673026,
         "_deepnote_index_column": 19435
        },
        {
         "Actual": 312727.2727272727,
         "Predicted": 301786.381921454,
         "_deepnote_index_column": 15572
        },
        {
         "Actual": 157500,
         "Predicted": 164845.6164836411,
         "_deepnote_index_column": 15393
        },
        {
         "Actual": 500000,
         "Predicted": 450022.723416204,
         "_deepnote_index_column": 3231
        },
        {
         "Actual": 178000,
         "Predicted": 182477.61748663348,
         "_deepnote_index_column": 3670
        },
        {
         "Actual": 120462.04620462046,
         "Predicted": 143659.66389627202,
         "_deepnote_index_column": 19565
        },
        {
         "Actual": 182989.6907216495,
         "Predicted": 191414.81042625266,
         "_deepnote_index_column": 9799
        },
        {
         "Actual": 104511.18421052632,
         "Predicted": 104805.6224127331,
         "_deepnote_index_column": 19499
        },
        {
         "Actual": 337142.85714285716,
         "Predicted": 298731.2481943127,
         "_deepnote_index_column": 12585
        },
        {
         "Actual": 147600,
         "Predicted": 145225.3157392098,
         "_deepnote_index_column": 22851
        },
        {
         "Actual": 131818.18181818182,
         "Predicted": 135575.97271998232,
         "_deepnote_index_column": 13852
        },
        {
         "Actual": 424166.6590909091,
         "Predicted": 420547.7581352217,
         "_deepnote_index_column": 13064
        },
        {
         "Actual": 196250,
         "Predicted": 186548.20934530994,
         "_deepnote_index_column": 14779
        },
        {
         "Actual": 148541.11405835542,
         "Predicted": 156315.64517733705,
         "_deepnote_index_column": 19333
        },
        {
         "Actual": 116753.92670157069,
         "Predicted": 134694.47215504877,
         "_deepnote_index_column": 227
        },
        {
         "Actual": 167800,
         "Predicted": 175414.29677222186,
         "_deepnote_index_column": 7372
        },
        {
         "Actual": 189700,
         "Predicted": 199384.44999602,
         "_deepnote_index_column": 11793
        },
        {
         "Actual": 300000,
         "Predicted": 266486.10339450336,
         "_deepnote_index_column": 19876
        },
        {
         "Actual": 210256.41025641025,
         "Predicted": 193554.68227016402,
         "_deepnote_index_column": 6755
        },
        {
         "Actual": 142487.04663212434,
         "Predicted": 132964.2901365616,
         "_deepnote_index_column": 17341
        },
        {
         "Actual": 158509.3739793141,
         "Predicted": 163142.57012294524,
         "_deepnote_index_column": 5918
        },
        {
         "Actual": 245201.99716713882,
         "Predicted": 255394.3784428777,
         "_deepnote_index_column": 10743
        },
        {
         "Actual": 513513.5135135135,
         "Predicted": 575515.9093109947,
         "_deepnote_index_column": 7678
        },
        {
         "Actual": 207500,
         "Predicted": 199898.22816691268,
         "_deepnote_index_column": 17895
        },
        {
         "Actual": 323076.92307692306,
         "Predicted": 367516.7549720756,
         "_deepnote_index_column": 12586
        },
        {
         "Actual": 84313.72549019608,
         "Predicted": 86292.08462150363,
         "_deepnote_index_column": 18771
        },
        {
         "Actual": 619057,
         "Predicted": 477190.083579284,
         "_deepnote_index_column": 2403
        },
        {
         "Actual": 147663.55140186916,
         "Predicted": 159195.3427260812,
         "_deepnote_index_column": 18948
        },
        {
         "Actual": 136194.02985074627,
         "Predicted": 158113.58046864514,
         "_deepnote_index_column": 6587
        },
        {
         "Actual": 156666.66666666666,
         "Predicted": 171079.93600702254,
         "_deepnote_index_column": 4907
        },
        {
         "Actual": 206521.73913043478,
         "Predicted": 198417.8356088855,
         "_deepnote_index_column": 9364
        },
        {
         "Actual": 289655.1724137931,
         "Predicted": 314900.5232856476,
         "_deepnote_index_column": 15601
        },
        {
         "Actual": 243856.3585951941,
         "Predicted": 268913.510748136,
         "_deepnote_index_column": 565
        },
        {
         "Actual": 286929.6875,
         "Predicted": 283044.88618304266,
         "_deepnote_index_column": 19669
        },
        {
         "Actual": 462328.76712328766,
         "Predicted": 378990.9550265318,
         "_deepnote_index_column": 7775
        },
        {
         "Actual": 553846.1538461539,
         "Predicted": 441896.1559824605,
         "_deepnote_index_column": 19102
        },
        {
         "Actual": 174509.80392156861,
         "Predicted": 147061.18608024565,
         "_deepnote_index_column": 4534
        },
        {
         "Actual": 184415.58441558442,
         "Predicted": 168957.49489221565,
         "_deepnote_index_column": 20513
        },
        {
         "Actual": 151116.9513797635,
         "Predicted": 165692.32159409876,
         "_deepnote_index_column": 17663
        },
        {
         "Actual": 134098.7124463519,
         "Predicted": 140380.07857305597,
         "_deepnote_index_column": 10211
        },
        {
         "Actual": 736040.6091370558,
         "Predicted": 606489.842794104,
         "_deepnote_index_column": 16499
        },
        {
         "Actual": 127000,
         "Predicted": 116368.5800678292,
         "_deepnote_index_column": 9453
        },
        {
         "Actual": 160606.0606060606,
         "Predicted": 163665.21244679973,
         "_deepnote_index_column": 7459
        },
        {
         "Actual": 222457.62711864404,
         "Predicted": 232385.7266050218,
         "_deepnote_index_column": 15585
        },
        {
         "Actual": 386333.3333333333,
         "Predicted": 360646.63693019346,
         "_deepnote_index_column": 11749
        },
        {
         "Actual": 133750,
         "Predicted": 127572.14006086334,
         "_deepnote_index_column": 6023
        },
        {
         "Actual": 234589.04109589042,
         "Predicted": 272515.05547459924,
         "_deepnote_index_column": 12839
        },
        {
         "Actual": 309523.8095238095,
         "Predicted": 287275.16508901434,
         "_deepnote_index_column": 22685
        },
        {
         "Actual": 122071.51664611591,
         "Predicted": 119069.89683976876,
         "_deepnote_index_column": 6414
        },
        {
         "Actual": 186046.51162790696,
         "Predicted": 172120.4137492353,
         "_deepnote_index_column": 19827
        },
        {
         "Actual": 175000,
         "Predicted": 168845.1549959514,
         "_deepnote_index_column": 9791
        },
        {
         "Actual": 195714.2857142857,
         "Predicted": 193245.290342865,
         "_deepnote_index_column": 9973
        },
        {
         "Actual": 148893.12977099238,
         "Predicted": 182816.14257543982,
         "_deepnote_index_column": 6801
        },
        {
         "Actual": 230769.23076923078,
         "Predicted": 206543.27784560854,
         "_deepnote_index_column": 9728
        },
        {
         "Actual": 219594.5945945946,
         "Predicted": 217500.49875500202,
         "_deepnote_index_column": 1548
        },
        {
         "Actual": 400847.22222222225,
         "Predicted": 425553.3280484733,
         "_deepnote_index_column": 8035
        },
        {
         "Actual": 503875.96899224806,
         "Predicted": 741441.9177675155,
         "_deepnote_index_column": 23260
        },
        {
         "Actual": 181564.24581005587,
         "Predicted": 204050.1904190519,
         "_deepnote_index_column": 14323
        },
        {
         "Actual": 153333.33333333334,
         "Predicted": 150969.56583054538,
         "_deepnote_index_column": 5978
        },
        {
         "Actual": 114925.37313432836,
         "Predicted": 128945.63835597789,
         "_deepnote_index_column": 16611
        },
        {
         "Actual": 118518.51851851853,
         "Predicted": 132181.09960103678,
         "_deepnote_index_column": 4244
        },
        {
         "Actual": 129411.76470588235,
         "Predicted": 145888.22472173438,
         "_deepnote_index_column": 19914
        },
        {
         "Actual": 322873.54953475646,
         "Predicted": 317373.622375798,
         "_deepnote_index_column": 811
        },
        {
         "Actual": 591863.2816537467,
         "Predicted": 454559.4510339424,
         "_deepnote_index_column": 6567
        },
        {
         "Actual": 137600,
         "Predicted": 131835.78851361867,
         "_deepnote_index_column": 9296
        },
        {
         "Actual": 328658.9005930778,
         "Predicted": 341404.22553372505,
         "_deepnote_index_column": 481
        },
        {
         "Actual": 234600.00000000003,
         "Predicted": 227562.87578161655,
         "_deepnote_index_column": 2820
        },
        {
         "Actual": 415000,
         "Predicted": 517282.3603868776,
         "_deepnote_index_column": 4563
        },
        {
         "Actual": 375000,
         "Predicted": 374739.28167489637,
         "_deepnote_index_column": 3283
        },
        {
         "Actual": 113989.63730569948,
         "Predicted": 153991.56028426025,
         "_deepnote_index_column": 12742
        },
        {
         "Actual": 132400,
         "Predicted": 128247.1613600752,
         "_deepnote_index_column": 5836
        },
        {
         "Actual": 505514.70588235295,
         "Predicted": 433930.84884314326,
         "_deepnote_index_column": 16229
        },
        {
         "Actual": 208904.1095890411,
         "Predicted": 205428.78628751813,
         "_deepnote_index_column": 22194
        },
        {
         "Actual": 220238.09523809524,
         "Predicted": 224729.09532637912,
         "_deepnote_index_column": 13419
        },
        {
         "Actual": 332000,
         "Predicted": 323257.6951945998,
         "_deepnote_index_column": 6893
        },
        {
         "Actual": 583728.813559322,
         "Predicted": 569310.0650055178,
         "_deepnote_index_column": 2483
        },
        {
         "Actual": 165467.62589928057,
         "Predicted": 198989.72510183652,
         "_deepnote_index_column": 4111
        },
        {
         "Actual": 165000,
         "Predicted": 167377.30510454235,
         "_deepnote_index_column": 14255
        },
        {
         "Actual": 187380.4971319312,
         "Predicted": 179807.06472567923,
         "_deepnote_index_column": 11564
        },
        {
         "Actual": 261055.63480741798,
         "Predicted": 387594.473537458,
         "_deepnote_index_column": 3187
        },
        {
         "Actual": 255500.00000000003,
         "Predicted": 271232.6423057362,
         "_deepnote_index_column": 10645
        },
        {
         "Actual": 201000,
         "Predicted": 189755.06692716855,
         "_deepnote_index_column": 8467
        },
        {
         "Actual": 167400,
         "Predicted": 147510.55226388806,
         "_deepnote_index_column": 21312
        },
        {
         "Actual": 144000,
         "Predicted": 147009.69222252385,
         "_deepnote_index_column": 11697
        },
        {
         "Actual": 193620.68965517243,
         "Predicted": 230644.98984616232,
         "_deepnote_index_column": 7686
        },
        {
         "Actual": 138636.36363636365,
         "Predicted": 157524.07783211893,
         "_deepnote_index_column": 199
        },
        {
         "Actual": 347355.4366438356,
         "Predicted": 329699.3112356195,
         "_deepnote_index_column": 12143
        },
        {
         "Actual": 165354.3307086614,
         "Predicted": 176791.0762289986,
         "_deepnote_index_column": 6091
        },
        {
         "Actual": 128000,
         "Predicted": 143578.73373886262,
         "_deepnote_index_column": 4182
        },
        {
         "Actual": 356880.05886681384,
         "Predicted": 469356.5876286512,
         "_deepnote_index_column": 16827
        },
        {
         "Actual": 248917.9023961862,
         "Predicted": 258401.7255063708,
         "_deepnote_index_column": 18189
        },
        {
         "Actual": 198200,
         "Predicted": 205410.5128064896,
         "_deepnote_index_column": 16732
        },
        {
         "Actual": 134071.34071340715,
         "Predicted": 149135.30476131933,
         "_deepnote_index_column": 10554
        },
        {
         "Actual": 145000,
         "Predicted": 122424.15087909883,
         "_deepnote_index_column": 6375
        },
        {
         "Actual": 190355.3299492386,
         "Predicted": 165936.75496958382,
         "_deepnote_index_column": 12761
        },
        {
         "Actual": 283730.15873015876,
         "Predicted": 305436.0841003818,
         "_deepnote_index_column": 16227
        },
        {
         "Actual": 350318.4713375796,
         "Predicted": 331436.7976743893,
         "_deepnote_index_column": 15671
        },
        {
         "Actual": 116500,
         "Predicted": 118499.90837447665,
         "_deepnote_index_column": 246
        },
        {
         "Actual": 347150.2590673575,
         "Predicted": 346718.92334697075,
         "_deepnote_index_column": 2751
        },
        {
         "Actual": 192105.26315789475,
         "Predicted": 179133.3367145378,
         "_deepnote_index_column": 9817
        },
        {
         "Actual": 154672.13758079408,
         "Predicted": 180235.4303511891,
         "_deepnote_index_column": 19281
        },
        {
         "Actual": 183333.33333333334,
         "Predicted": 184158.29941377926,
         "_deepnote_index_column": 20837
        },
        {
         "Actual": 176315.7894736842,
         "Predicted": 213252.63538273168,
         "_deepnote_index_column": 19109
        },
        {
         "Actual": 321500,
         "Predicted": 289283.2917848481,
         "_deepnote_index_column": 16503
        },
        {
         "Actual": 165000,
         "Predicted": 174003.26239517797,
         "_deepnote_index_column": 20274
        },
        {
         "Actual": 245098.03921568627,
         "Predicted": 287450.1370095149,
         "_deepnote_index_column": 10649
        },
        {
         "Actual": 387043.01075268816,
         "Predicted": 432340.7525708253,
         "_deepnote_index_column": 20430
        },
        {
         "Actual": 509259.25,
         "Predicted": 702735.5495378623,
         "_deepnote_index_column": 20566
        },
        {
         "Actual": 188144.32989690723,
         "Predicted": 225844.54408045436,
         "_deepnote_index_column": 20641
        },
        {
         "Actual": 420168.06722689077,
         "Predicted": 525942.2486778582,
         "_deepnote_index_column": 8045
        },
        {
         "Actual": 180303.0303030303,
         "Predicted": 171357.4572862958,
         "_deepnote_index_column": 3867
        },
        {
         "Actual": 140600,
         "Predicted": 136753.111582933,
         "_deepnote_index_column": 6256
        },
        {
         "Actual": 128491.62011173184,
         "Predicted": 139697.11320465244,
         "_deepnote_index_column": 5754
        },
        {
         "Actual": 270642.2018348624,
         "Predicted": 310454.14482079784,
         "_deepnote_index_column": 19029
        },
        {
         "Actual": 262068.9655172414,
         "Predicted": 476269.6774441068,
         "_deepnote_index_column": 3579
        },
        {
         "Actual": 225290.99602203182,
         "Predicted": 278619.12465675885,
         "_deepnote_index_column": 2073
        },
        {
         "Actual": 241269.84126984127,
         "Predicted": 245035.44045343748,
         "_deepnote_index_column": 4805
        },
        {
         "Actual": 264705.8823529412,
         "Predicted": 330092.72970940603,
         "_deepnote_index_column": 2641
        },
        {
         "Actual": 221481.4814814815,
         "Predicted": 316785.4481458136,
         "_deepnote_index_column": 10329
        },
        {
         "Actual": 481859.410430839,
         "Predicted": 419162.9238238202,
         "_deepnote_index_column": 2484
        },
        {
         "Actual": 164500,
         "Predicted": 159775.7320016296,
         "_deepnote_index_column": 7345
        },
        {
         "Actual": 177050,
         "Predicted": 175187.87822616496,
         "_deepnote_index_column": 18903
        },
        {
         "Actual": 415600,
         "Predicted": 430045.0799925823,
         "_deepnote_index_column": 7662
        },
        {
         "Actual": 181700,
         "Predicted": 190896.3836832343,
         "_deepnote_index_column": 7252
        },
        {
         "Actual": 250000,
         "Predicted": 224355.67595308286,
         "_deepnote_index_column": 19825
        },
        {
         "Actual": 1173469.387755102,
         "Predicted": 709357.1915876889,
         "_deepnote_index_column": 3142
        },
        {
         "Actual": 187500,
         "Predicted": 171924.30884222017,
         "_deepnote_index_column": 11413
        },
        {
         "Actual": 192727.27272727274,
         "Predicted": 162479.59976035618,
         "_deepnote_index_column": 3729
        },
        {
         "Actual": 160900,
         "Predicted": 159986.15180809528,
         "_deepnote_index_column": 22973
        },
        {
         "Actual": 295000,
         "Predicted": 280150.9397501976,
         "_deepnote_index_column": 10514
        },
        {
         "Actual": 182457.42152466366,
         "Predicted": 181765.08715168212,
         "_deepnote_index_column": 21562
        },
        {
         "Actual": 288637.194008038,
         "Predicted": 269885.8865504497,
         "_deepnote_index_column": 17868
        },
        {
         "Actual": 231111.11111111112,
         "Predicted": 237603.07524325608,
         "_deepnote_index_column": 21584
        },
        {
         "Actual": 212500,
         "Predicted": 226546.32361411361,
         "_deepnote_index_column": 12176
        },
        {
         "Actual": 194915.25423728814,
         "Predicted": 215823.19198821057,
         "_deepnote_index_column": 17629
        },
        {
         "Actual": 309375,
         "Predicted": 319130.7642647823,
         "_deepnote_index_column": 21566
        },
        {
         "Actual": 188253.01204819276,
         "Predicted": 178120.58285503837,
         "_deepnote_index_column": 3608
        },
        {
         "Actual": 293103.4482758621,
         "Predicted": 310432.812156186,
         "_deepnote_index_column": 12076
        },
        {
         "Actual": 277025.5536626916,
         "Predicted": 283335.5579968717,
         "_deepnote_index_column": 17365
        },
        {
         "Actual": 197547.6839237057,
         "Predicted": 180078.09568387858,
         "_deepnote_index_column": 976
        },
        {
         "Actual": 106330.00316656112,
         "Predicted": 102776.08269025083,
         "_deepnote_index_column": 18124
        },
        {
         "Actual": 134000,
         "Predicted": 135829.49678751332,
         "_deepnote_index_column": 17316
        },
        {
         "Actual": 185185.1851851852,
         "Predicted": 166647.25263168616,
         "_deepnote_index_column": 7100
        },
        {
         "Actual": 217948.71794871794,
         "Predicted": 260583.7611487619,
         "_deepnote_index_column": 4862
        },
        {
         "Actual": 245098.03921568627,
         "Predicted": 244216.94086166774,
         "_deepnote_index_column": 4799
        },
        {
         "Actual": 189024.39024390245,
         "Predicted": 169981.2698330063,
         "_deepnote_index_column": 8543
        },
        {
         "Actual": 648206.5217391305,
         "Predicted": 850831.3255451762,
         "_deepnote_index_column": 14639
        },
        {
         "Actual": 189482.75862068965,
         "Predicted": 267870.99829098553,
         "_deepnote_index_column": 16009
        },
        {
         "Actual": 225000,
         "Predicted": 207841.5681691434,
         "_deepnote_index_column": 8971
        },
        {
         "Actual": 1154303.9951179822,
         "Predicted": 693038.1304817419,
         "_deepnote_index_column": 10590
        },
        {
         "Actual": 202753.88205345778,
         "Predicted": 212765.73606237708,
         "_deepnote_index_column": 11862
        },
        {
         "Actual": 306163.1039343842,
         "Predicted": 325929.83508372394,
         "_deepnote_index_column": 2060
        },
        {
         "Actual": 198387.09677419355,
         "Predicted": 186804.51182321488,
         "_deepnote_index_column": 2206
        },
        {
         "Actual": 322592.6261521637,
         "Predicted": 330781.57536659145,
         "_deepnote_index_column": 2055
        },
        {
         "Actual": 443037.9746835443,
         "Predicted": 405557.71286311833,
         "_deepnote_index_column": 19805
        },
        {
         "Actual": 123076.92307692308,
         "Predicted": 141174.330411929,
         "_deepnote_index_column": 5690
        },
        {
         "Actual": 198727.7142857143,
         "Predicted": 197099.39974326672,
         "_deepnote_index_column": 1201
        }
       ],
       "rows_bottom": [
        {
         "Actual": 137837.83783783784,
         "Predicted": 144292.97656279182,
         "_deepnote_index_column": 4218
        },
        {
         "Actual": 125700,
         "Predicted": 121647.40594327783,
         "_deepnote_index_column": 6113
        },
        {
         "Actual": 458941.0005685048,
         "Predicted": 498146.3594565513,
         "_deepnote_index_column": 13878
        },
        {
         "Actual": 573527.659574468,
         "Predicted": 563383.3250922251,
         "_deepnote_index_column": 19040
        },
        {
         "Actual": 127906.97674418605,
         "Predicted": 103842.04696604752,
         "_deepnote_index_column": 2275
        },
        {
         "Actual": 176470.5882352941,
         "Predicted": 195350.86900920686,
         "_deepnote_index_column": 2548
        },
        {
         "Actual": 163157.8947368421,
         "Predicted": 164475.47266016967,
         "_deepnote_index_column": 18506
        },
        {
         "Actual": 415162.45487364626,
         "Predicted": 364080.8841474514,
         "_deepnote_index_column": 2664
        },
        {
         "Actual": 113287.90459965928,
         "Predicted": 132732.18143741408,
         "_deepnote_index_column": 8864
        },
        {
         "Actual": 240200,
         "Predicted": 237102.24020772925,
         "_deepnote_index_column": 13696
        },
        {
         "Actual": 2401218.507572959,
         "Predicted": 1315234.4078093518,
         "_deepnote_index_column": 3557
        },
        {
         "Actual": 184068.18181818182,
         "Predicted": 163280.85073041482,
         "_deepnote_index_column": 22813
        },
        {
         "Actual": 197619.04761904763,
         "Predicted": 186170.98117467668,
         "_deepnote_index_column": 4850
        },
        {
         "Actual": 393795.6204379562,
         "Predicted": 393323.5312203621,
         "_deepnote_index_column": 17390
        },
        {
         "Actual": 166129.03225806452,
         "Predicted": 259070.7310033949,
         "_deepnote_index_column": 11535
        },
        {
         "Actual": 130405.4054054054,
         "Predicted": 139542.8124972229,
         "_deepnote_index_column": 17206
        },
        {
         "Actual": 141346.15384615384,
         "Predicted": 135396.23575536726,
         "_deepnote_index_column": 19791
        },
        {
         "Actual": 165570,
         "Predicted": 174903.95826104263,
         "_deepnote_index_column": 5186
        },
        {
         "Actual": 179968.70109546167,
         "Predicted": 187695.3282140664,
         "_deepnote_index_column": 16324
        },
        {
         "Actual": 157593.12320916905,
         "Predicted": 172889.94289161963,
         "_deepnote_index_column": 6026
        },
        {
         "Actual": 211111.11111111112,
         "Predicted": 249316.82159638964,
         "_deepnote_index_column": 1092
        },
        {
         "Actual": 143100,
         "Predicted": 142650.94404523243,
         "_deepnote_index_column": 19694
        },
        {
         "Actual": 169300.22573363432,
         "Predicted": 160744.09169105062,
         "_deepnote_index_column": 8683
        },
        {
         "Actual": 97142.85714285714,
         "Predicted": 108649.01620541065,
         "_deepnote_index_column": 8239
        },
        {
         "Actual": 82571.42857142857,
         "Predicted": 103056.11849664655,
         "_deepnote_index_column": 13738
        },
        {
         "Actual": 93841.642228739,
         "Predicted": 86085.83113552394,
         "_deepnote_index_column": 2238
        },
        {
         "Actual": 285714.2857142857,
         "Predicted": 237807.85146739526,
         "_deepnote_index_column": 4948
        },
        {
         "Actual": 138235.29411764705,
         "Predicted": 187944.51421326923,
         "_deepnote_index_column": 12218
        },
        {
         "Actual": 128400,
         "Predicted": 130659.24134570708,
         "_deepnote_index_column": 255
        },
        {
         "Actual": 314487.63250883395,
         "Predicted": 398950.4931920954,
         "_deepnote_index_column": 21296
        },
        {
         "Actual": 236111.11111111112,
         "Predicted": 230444.44202110005,
         "_deepnote_index_column": 21700
        },
        {
         "Actual": 313619.544198895,
         "Predicted": 302242.88091340393,
         "_deepnote_index_column": 10726
        },
        {
         "Actual": 230600,
         "Predicted": 236786.39744761633,
         "_deepnote_index_column": 1831
        },
        {
         "Actual": 196500,
         "Predicted": 208065.1499917982,
         "_deepnote_index_column": 1358
        },
        {
         "Actual": 158269.98236331568,
         "Predicted": 149930.20030585662,
         "_deepnote_index_column": 6880
        },
        {
         "Actual": 320000,
         "Predicted": 398900.5571438889,
         "_deepnote_index_column": 12363
        },
        {
         "Actual": 139054.4298768375,
         "Predicted": 134469.41003159824,
         "_deepnote_index_column": 22313
        },
        {
         "Actual": 214423.07692307694,
         "Predicted": 192340.20309610388,
         "_deepnote_index_column": 1320
        },
        {
         "Actual": 180851.06382978722,
         "Predicted": 182405.21977917082,
         "_deepnote_index_column": 14130
        },
        {
         "Actual": 145118.73350923482,
         "Predicted": 136221.16661529167,
         "_deepnote_index_column": 4365
        },
        {
         "Actual": 277372.26277372264,
         "Predicted": 373050.1217372385,
         "_deepnote_index_column": 16476
        },
        {
         "Actual": 165000,
         "Predicted": 136245.18860487273,
         "_deepnote_index_column": 4141
        },
        {
         "Actual": 144230.76923076922,
         "Predicted": 130007.332091409,
         "_deepnote_index_column": 15245
        },
        {
         "Actual": 985778.8697788698,
         "Predicted": 806106.0876884087,
         "_deepnote_index_column": 3520
        },
        {
         "Actual": 183922.166012802,
         "Predicted": 167163.588392484,
         "_deepnote_index_column": 20799
        },
        {
         "Actual": 151100,
         "Predicted": 149326.42463677473,
         "_deepnote_index_column": 14584
        },
        {
         "Actual": 112000,
         "Predicted": 125744.32642134598,
         "_deepnote_index_column": 6333
        },
        {
         "Actual": 450000,
         "Predicted": 403483.9877186677,
         "_deepnote_index_column": 12580
        },
        {
         "Actual": 170456.95652173914,
         "Predicted": 158534.4853706651,
         "_deepnote_index_column": 20221
        },
        {
         "Actual": 152400,
         "Predicted": 164341.55545480782,
         "_deepnote_index_column": 10029
        },
        {
         "Actual": 222500,
         "Predicted": 172611.1966185536,
         "_deepnote_index_column": 16219
        },
        {
         "Actual": 856164.3835616439,
         "Predicted": 750715.8575275383,
         "_deepnote_index_column": 11123
        },
        {
         "Actual": 200000,
         "Predicted": 199408.0796656841,
         "_deepnote_index_column": 12922
        },
        {
         "Actual": 274362.0089104901,
         "Predicted": 261438.54894217063,
         "_deepnote_index_column": 867
        },
        {
         "Actual": 187500,
         "Predicted": 207860.57070449746,
         "_deepnote_index_column": 14286
        },
        {
         "Actual": 273940.3453689168,
         "Predicted": 203140.61666067454,
         "_deepnote_index_column": 15097
        },
        {
         "Actual": 311350.9940357853,
         "Predicted": 287756.17961401085,
         "_deepnote_index_column": 21602
        },
        {
         "Actual": 139750,
         "Predicted": 156154.08536239684,
         "_deepnote_index_column": 21336
        },
        {
         "Actual": 328000,
         "Predicted": 325466.4813549074,
         "_deepnote_index_column": 11482
        },
        {
         "Actual": 183632.73453093812,
         "Predicted": 138812.38302616568,
         "_deepnote_index_column": 10848
        },
        {
         "Actual": 888598.5645933014,
         "Predicted": 685122.1072226446,
         "_deepnote_index_column": 3517
        },
        {
         "Actual": 284212.30561189994,
         "Predicted": 287208.0032435368,
         "_deepnote_index_column": 4473
        },
        {
         "Actual": 160256.41025641025,
         "Predicted": 196917.56557874437,
         "_deepnote_index_column": 13008
        },
        {
         "Actual": 201724.1379310345,
         "Predicted": 215380.8588551429,
         "_deepnote_index_column": 22164
        },
        {
         "Actual": 124805.18638573743,
         "Predicted": 124979.08899802755,
         "_deepnote_index_column": 5772
        },
        {
         "Actual": 318446.9773880942,
         "Predicted": 320678.60992545035,
         "_deepnote_index_column": 22121
        },
        {
         "Actual": 124285.71428571429,
         "Predicted": 97904.11477104423,
         "_deepnote_index_column": 2219
        },
        {
         "Actual": 145606.79611650485,
         "Predicted": 160734.11697472568,
         "_deepnote_index_column": 16593
        },
        {
         "Actual": 177480,
         "Predicted": 175441.81985494477,
         "_deepnote_index_column": 22501
        },
        {
         "Actual": 165000,
         "Predicted": 176055.88896032644,
         "_deepnote_index_column": 287
        },
        {
         "Actual": 128431.37254901961,
         "Predicted": 128467.60747070535,
         "_deepnote_index_column": 8862
        },
        {
         "Actual": 267564.1836065574,
         "Predicted": 270564.1558286226,
         "_deepnote_index_column": 4664
        },
        {
         "Actual": 210481.09965635737,
         "Predicted": 223190.4597218096,
         "_deepnote_index_column": 11165
        },
        {
         "Actual": 169512.19512195123,
         "Predicted": 178777.02656461025,
         "_deepnote_index_column": 8402
        },
        {
         "Actual": 178100,
         "Predicted": 178748.7775357904,
         "_deepnote_index_column": 19318
        },
        {
         "Actual": 214900,
         "Predicted": 207415.96482807474,
         "_deepnote_index_column": 18240
        },
        {
         "Actual": 415929.203539823,
         "Predicted": 349164.8158818957,
         "_deepnote_index_column": 3573
        },
        {
         "Actual": 125925.92592592593,
         "Predicted": 108245.08624082018,
         "_deepnote_index_column": 20330
        },
        {
         "Actual": 151200,
         "Predicted": 144009.07435400994,
         "_deepnote_index_column": 19736
        },
        {
         "Actual": 126232.99973663418,
         "Predicted": 128359.8129992902,
         "_deepnote_index_column": 22281
        },
        {
         "Actual": 190772.20683287166,
         "Predicted": 224339.57562468006,
         "_deepnote_index_column": 23262
        },
        {
         "Actual": 134500,
         "Predicted": 148832.98335914745,
         "_deepnote_index_column": 11870
        },
        {
         "Actual": 212500,
         "Predicted": 245534.17339660643,
         "_deepnote_index_column": 19009
        },
        {
         "Actual": 297719.28143712576,
         "Predicted": 296760.90248067543,
         "_deepnote_index_column": 17501
        },
        {
         "Actual": 188976.3779527559,
         "Predicted": 180933.3887495712,
         "_deepnote_index_column": 15745
        },
        {
         "Actual": 224535.31440162275,
         "Predicted": 213354.64527335885,
         "_deepnote_index_column": 14318
        },
        {
         "Actual": 165000,
         "Predicted": 157549.97355423245,
         "_deepnote_index_column": 5573
        },
        {
         "Actual": 156923.07692307694,
         "Predicted": 149338.92004816298,
         "_deepnote_index_column": 16224
        },
        {
         "Actual": 289473.6842105263,
         "Predicted": 326356.82229266467,
         "_deepnote_index_column": 18021
        },
        {
         "Actual": 586907.2961373391,
         "Predicted": 425455.2634218305,
         "_deepnote_index_column": 18075
        },
        {
         "Actual": 303797.4683544304,
         "Predicted": 330309.78336618736,
         "_deepnote_index_column": 19098
        },
        {
         "Actual": 156756.75675675675,
         "Predicted": 159330.42265902387,
         "_deepnote_index_column": 6036
        },
        {
         "Actual": 170731.70731707316,
         "Predicted": 173552.28627090354,
         "_deepnote_index_column": 5660
        },
        {
         "Actual": 337837.8378378378,
         "Predicted": 406079.4297722728,
         "_deepnote_index_column": 12603
        },
        {
         "Actual": 199095.02262443438,
         "Predicted": 184317.85360571145,
         "_deepnote_index_column": 18523
        },
        {
         "Actual": 223529.41176470587,
         "Predicted": 215088.15195023108,
         "_deepnote_index_column": 1366
        },
        {
         "Actual": 165592.78350515466,
         "Predicted": 141042.92821397053,
         "_deepnote_index_column": 5884
        },
        {
         "Actual": 109113.99817017384,
         "Predicted": 104889.0247316598,
         "_deepnote_index_column": 18733
        },
        {
         "Actual": 208333.33333333334,
         "Predicted": 190120.14420008377,
         "_deepnote_index_column": 16949
        },
        {
         "Actual": 521052.63157894736,
         "Predicted": 496989.39205474034,
         "_deepnote_index_column": 8164
        },
        {
         "Actual": 226500,
         "Predicted": 211645.23210834252,
         "_deepnote_index_column": 10628
        },
        {
         "Actual": 147321.42857142858,
         "Predicted": 153891.04100038565,
         "_deepnote_index_column": 5599
        },
        {
         "Actual": 100000,
         "Predicted": 127465.69624765615,
         "_deepnote_index_column": 22
        },
        {
         "Actual": 392622.95081967214,
         "Predicted": 400580.8479050471,
         "_deepnote_index_column": 2530
        },
        {
         "Actual": 205961.8398637138,
         "Predicted": 206470.7203582035,
         "_deepnote_index_column": 17910
        },
        {
         "Actual": 311000,
         "Predicted": 283026.6818852997,
         "_deepnote_index_column": 9485
        },
        {
         "Actual": 137000,
         "Predicted": 154602.129938501,
         "_deepnote_index_column": 21039
        },
        {
         "Actual": 280280.3738317757,
         "Predicted": 240127.64441534874,
         "_deepnote_index_column": 6549
        },
        {
         "Actual": 173750,
         "Predicted": 168317.39432090562,
         "_deepnote_index_column": 18163
        },
        {
         "Actual": 246223.14084507042,
         "Predicted": 272967.3394298463,
         "_deepnote_index_column": 10797
        },
        {
         "Actual": 391454.9653579677,
         "Predicted": 374403.8457744859,
         "_deepnote_index_column": 525
        },
        {
         "Actual": 482456.1403508772,
         "Predicted": 445328.74943032884,
         "_deepnote_index_column": 8110
        },
        {
         "Actual": 184516.06616442843,
         "Predicted": 184419.54254831042,
         "_deepnote_index_column": 8434
        },
        {
         "Actual": 979772.4399494312,
         "Predicted": 797517.2829281986,
         "_deepnote_index_column": 20562
        },
        {
         "Actual": 268172.3881706048,
         "Predicted": 269685.9027221387,
         "_deepnote_index_column": 771
        },
        {
         "Actual": 180000,
         "Predicted": 187037.940636886,
         "_deepnote_index_column": 6653
        },
        {
         "Actual": 110750,
         "Predicted": 109342.84253082235,
         "_deepnote_index_column": 12185
        },
        {
         "Actual": 217847.76902887138,
         "Predicted": 209649.0719948858,
         "_deepnote_index_column": 22005
        },
        {
         "Actual": 136774.1935483871,
         "Predicted": 136334.089630504,
         "_deepnote_index_column": 4403
        },
        {
         "Actual": 218750,
         "Predicted": 201416.20172692934,
         "_deepnote_index_column": 15278
        },
        {
         "Actual": 222571.00149476828,
         "Predicted": 291952.1253705921,
         "_deepnote_index_column": 18046
        },
        {
         "Actual": 210900,
         "Predicted": 193069.10625807807,
         "_deepnote_index_column": 9548
        },
        {
         "Actual": 336448.5981308411,
         "Predicted": 282823.41797000694,
         "_deepnote_index_column": 15855
        },
        {
         "Actual": 167297.2972972973,
         "Predicted": 162806.18309983733,
         "_deepnote_index_column": 6074
        },
        {
         "Actual": 188157.8947368421,
         "Predicted": 182756.17237440412,
         "_deepnote_index_column": 5607
        },
        {
         "Actual": 126779.35943060499,
         "Predicted": 131287.1244708799,
         "_deepnote_index_column": 6189
        },
        {
         "Actual": 182407.3082706767,
         "Predicted": 182065.88893725903,
         "_deepnote_index_column": 16874
        },
        {
         "Actual": 591844.6428571428,
         "Predicted": 548214.3968110911,
         "_deepnote_index_column": 8091
        },
        {
         "Actual": 599130.4378818737,
         "Predicted": 636479.8636743601,
         "_deepnote_index_column": 3325
        },
        {
         "Actual": 1723956.2025316455,
         "Predicted": 843943.9520564082,
         "_deepnote_index_column": 3102
        },
        {
         "Actual": 411764.70588235295,
         "Predicted": 483272.80206416606,
         "_deepnote_index_column": 2193
        },
        {
         "Actual": 94594.5945945946,
         "Predicted": 105247.65020139617,
         "_deepnote_index_column": 8578
        },
        {
         "Actual": 365000,
         "Predicted": 370656.9560115589,
         "_deepnote_index_column": 16666
        },
        {
         "Actual": 140151.51515151514,
         "Predicted": 164332.7183876738,
         "_deepnote_index_column": 12627
        },
        {
         "Actual": 283127.20848056534,
         "Predicted": 261610.4118703996,
         "_deepnote_index_column": 14462
        },
        {
         "Actual": 228000,
         "Predicted": 207729.50190100132,
         "_deepnote_index_column": 7461
        },
        {
         "Actual": 275806.4516129032,
         "Predicted": 382018.79581558995,
         "_deepnote_index_column": 22595
        },
        {
         "Actual": 187719.29824561405,
         "Predicted": 193389.8460206095,
         "_deepnote_index_column": 12992
        },
        {
         "Actual": 176781.00263852245,
         "Predicted": 196571.6057056666,
         "_deepnote_index_column": 5977
        },
        {
         "Actual": 130492.67643142477,
         "Predicted": 153323.61874097853,
         "_deepnote_index_column": 22902
        },
        {
         "Actual": 145780.05115089513,
         "Predicted": 153189.92726851872,
         "_deepnote_index_column": 14183
        },
        {
         "Actual": 354838.70967741933,
         "Predicted": 469068.2516871511,
         "_deepnote_index_column": 8053
        },
        {
         "Actual": 125000,
         "Predicted": 112578.01574550211,
         "_deepnote_index_column": 8809
        },
        {
         "Actual": 194392.52336448597,
         "Predicted": 204351.12975873143,
         "_deepnote_index_column": 15734
        },
        {
         "Actual": 317145.68880079285,
         "Predicted": 274465.8816017381,
         "_deepnote_index_column": 1150
        },
        {
         "Actual": 227722.77227722772,
         "Predicted": 230807.7986678591,
         "_deepnote_index_column": 3669
        },
        {
         "Actual": 170967.74193548388,
         "Predicted": 163052.45311277307,
         "_deepnote_index_column": 23176
        },
        {
         "Actual": 146700,
         "Predicted": 133413.692529853,
         "_deepnote_index_column": 21432
        },
        {
         "Actual": 157836.98818356692,
         "Predicted": 149333.43768985517,
         "_deepnote_index_column": 10828
        },
        {
         "Actual": 135555.55555555556,
         "Predicted": 162137.76695726888,
         "_deepnote_index_column": 13141
        },
        {
         "Actual": 263392.85714285716,
         "Predicted": 260796.2321417344,
         "_deepnote_index_column": 4883
        },
        {
         "Actual": 190807.79944289694,
         "Predicted": 192859.64606830876,
         "_deepnote_index_column": 651
        },
        {
         "Actual": 197142.85714285713,
         "Predicted": 189871.0440817136,
         "_deepnote_index_column": 5457
        },
        {
         "Actual": 289565.0058616647,
         "Predicted": 267296.8093969054,
         "_deepnote_index_column": 3208
        },
        {
         "Actual": 1050000,
         "Predicted": 949871.9617140831,
         "_deepnote_index_column": 3472
        },
        {
         "Actual": 584537.9271708683,
         "Predicted": 681013.4468014722,
         "_deepnote_index_column": 13694
        },
        {
         "Actual": 125499.99999999999,
         "Predicted": 138652.50323489925,
         "_deepnote_index_column": 19526
        },
        {
         "Actual": 257950.01248439454,
         "Predicted": 260324.42097441974,
         "_deepnote_index_column": 11159
        },
        {
         "Actual": 97517.7304964539,
         "Predicted": 95701.62528496142,
         "_deepnote_index_column": 21396
        },
        {
         "Actual": 143487.8587196468,
         "Predicted": 156364.45557191933,
         "_deepnote_index_column": 21153
        },
        {
         "Actual": 299012.69393511984,
         "Predicted": 273509.7688578061,
         "_deepnote_index_column": 13926
        },
        {
         "Actual": 125700,
         "Predicted": 124534.60194342956,
         "_deepnote_index_column": 15197
        },
        {
         "Actual": 134000,
         "Predicted": 132882.83870923685,
         "_deepnote_index_column": 10497
        },
        {
         "Actual": 561235.9550561798,
         "Predicted": 436166.67354138993,
         "_deepnote_index_column": 21297
        },
        {
         "Actual": 166648.14814814815,
         "Predicted": 190652.3264536818,
         "_deepnote_index_column": 15316
        },
        {
         "Actual": 154100,
         "Predicted": 161071.2683260715,
         "_deepnote_index_column": 14247
        },
        {
         "Actual": 205000,
         "Predicted": 206238.75196854677,
         "_deepnote_index_column": 22500
        },
        {
         "Actual": 211818.18181818182,
         "Predicted": 210353.4186735093,
         "_deepnote_index_column": 10229
        },
        {
         "Actual": 134596.15384615384,
         "Predicted": 143597.9371805095,
         "_deepnote_index_column": 4253
        },
        {
         "Actual": 245000,
         "Predicted": 248721.72510090878,
         "_deepnote_index_column": 10789
        },
        {
         "Actual": 939759.0361445784,
         "Predicted": 502407.8178511823,
         "_deepnote_index_column": 20390
        },
        {
         "Actual": 228571.42857142858,
         "Predicted": 246229.06854528454,
         "_deepnote_index_column": 16399
        },
        {
         "Actual": 218718.75,
         "Predicted": 204510.81000368707,
         "_deepnote_index_column": 9788
        },
        {
         "Actual": 185200,
         "Predicted": 178956.45870414254,
         "_deepnote_index_column": 3625
        },
        {
         "Actual": 178684.2105263158,
         "Predicted": 212708.07641577284,
         "_deepnote_index_column": 14162
        },
        {
         "Actual": 224204.94699646643,
         "Predicted": 236736.87501175015,
         "_deepnote_index_column": 18968
        },
        {
         "Actual": 192187.5,
         "Predicted": 194373.3490947189,
         "_deepnote_index_column": 1728
        },
        {
         "Actual": 208961.7160826595,
         "Predicted": 209637.21787457322,
         "_deepnote_index_column": 14358
        },
        {
         "Actual": 127118.64406779662,
         "Predicted": 152590.8546069443,
         "_deepnote_index_column": 20836
        },
        {
         "Actual": 179910.04497751125,
         "Predicted": 270286.9752735441,
         "_deepnote_index_column": 19969
        },
        {
         "Actual": 124760.00000000001,
         "Predicted": 115542.7143072923,
         "_deepnote_index_column": 9546
        },
        {
         "Actual": 289500,
         "Predicted": 245167.3041924792,
         "_deepnote_index_column": 11940
        },
        {
         "Actual": 583657.5875486381,
         "Predicted": 619749.2439140677,
         "_deepnote_index_column": 1416
        },
        {
         "Actual": 176939.44206008583,
         "Predicted": 168951.2717316614,
         "_deepnote_index_column": 536
        },
        {
         "Actual": 272270.999581765,
         "Predicted": 283303.7150283084,
         "_deepnote_index_column": 2088
        },
        {
         "Actual": 430769.23076923075,
         "Predicted": 396762.27905108227,
         "_deepnote_index_column": 15866
        },
        {
         "Actual": 191815.831202046,
         "Predicted": 204041.56097642242,
         "_deepnote_index_column": 19699
        },
        {
         "Actual": 94012.5,
         "Predicted": 96093.7520695765,
         "_deepnote_index_column": 5618
        },
        {
         "Actual": 353254.57493629836,
         "Predicted": 355693.0475050333,
         "_deepnote_index_column": 4641
        },
        {
         "Actual": 619057,
         "Predicted": 498914.645707883,
         "_deepnote_index_column": 12098
        },
        {
         "Actual": 272276.42276422767,
         "Predicted": 279760.9169316012,
         "_deepnote_index_column": 15605
        },
        {
         "Actual": 265900,
         "Predicted": 264242.58094482997,
         "_deepnote_index_column": 2089
        },
        {
         "Actual": 201923.07692307694,
         "Predicted": 214851.12865249958,
         "_deepnote_index_column": 19795
        },
        {
         "Actual": 140892.601010101,
         "Predicted": 159696.30445499596,
         "_deepnote_index_column": 713
        },
        {
         "Actual": 433692.3076923077,
         "Predicted": 408701.67767169495,
         "_deepnote_index_column": 3111
        },
        {
         "Actual": 308000,
         "Predicted": 331005.384569783,
         "_deepnote_index_column": 793
        },
        {
         "Actual": 472631.5789473684,
         "Predicted": 459182.417265105,
         "_deepnote_index_column": 2985
        },
        {
         "Actual": 203773.5849056604,
         "Predicted": 193026.26856938185,
         "_deepnote_index_column": 15331
        },
        {
         "Actual": 254975.12437810944,
         "Predicted": 251852.8248881513,
         "_deepnote_index_column": 4499
        },
        {
         "Actual": 322046.29496402876,
         "Predicted": 318501.7287667901,
         "_deepnote_index_column": 13903
        },
        {
         "Actual": 147286.82170542635,
         "Predicted": 130284.22613105917,
         "_deepnote_index_column": 9369
        },
        {
         "Actual": 226315.7894736842,
         "Predicted": 257892.49509642663,
         "_deepnote_index_column": 10243
        },
        {
         "Actual": 193750,
         "Predicted": 182312.7604648866,
         "_deepnote_index_column": 10208
        },
        {
         "Actual": 172140.4303510759,
         "Predicted": 217422.2013140135,
         "_deepnote_index_column": 11799
        },
        {
         "Actual": 143065.69343065695,
         "Predicted": 158523.56837586424,
         "_deepnote_index_column": 13833
        },
        {
         "Actual": 124882.46896551724,
         "Predicted": 113755.68701753448,
         "_deepnote_index_column": 384
        },
        {
         "Actual": 160686.01583113457,
         "Predicted": 179068.9377485737,
         "_deepnote_index_column": 10188
        },
        {
         "Actual": 203440.09489916964,
         "Predicted": 213110.22440432585,
         "_deepnote_index_column": 15960
        },
        {
         "Actual": 500000,
         "Predicted": 508733.3289091784,
         "_deepnote_index_column": 15887
        },
        {
         "Actual": 140900,
         "Predicted": 139120.85954958413,
         "_deepnote_index_column": 14905
        },
        {
         "Actual": 199300,
         "Predicted": 189660.31311082834,
         "_deepnote_index_column": 1191
        },
        {
         "Actual": 191916.8,
         "Predicted": 195631.75909129548,
         "_deepnote_index_column": 10356
        },
        {
         "Actual": 124285.71428571429,
         "Predicted": 152258.09916395042,
         "_deepnote_index_column": 23124
        },
        {
         "Actual": 180765.80587711488,
         "Predicted": 193655.67628279148,
         "_deepnote_index_column": 20528
        },
        {
         "Actual": 254823.03135888503,
         "Predicted": 296161.4870320606,
         "_deepnote_index_column": 19785
        },
        {
         "Actual": 222548.0564784053,
         "Predicted": 226621.94565490936,
         "_deepnote_index_column": 17912
        },
        {
         "Actual": 259615.38461538462,
         "Predicted": 231817.08640085615,
         "_deepnote_index_column": 5962
        },
        {
         "Actual": 194778.4994697773,
         "Predicted": 181654.12878372427,
         "_deepnote_index_column": 19418
        },
        {
         "Actual": 304659.4982078853,
         "Predicted": 268036.26612580987,
         "_deepnote_index_column": 6818
        },
        {
         "Actual": 213235.29411764705,
         "Predicted": 213967.64140456606,
         "_deepnote_index_column": 15976
        },
        {
         "Actual": 181333.33333333334,
         "Predicted": 193832.80153958278,
         "_deepnote_index_column": 2137
        },
        {
         "Actual": 488043.47826086957,
         "Predicted": 437630.202697342,
         "_deepnote_index_column": 21288
        },
        {
         "Actual": 360934.18259023357,
         "Predicted": 327803.6344764006,
         "_deepnote_index_column": 19649
        },
        {
         "Actual": 125000,
         "Predicted": 131529.30909426877,
         "_deepnote_index_column": 20120
        },
        {
         "Actual": 173999.03521466473,
         "Predicted": 140480.32472015137,
         "_deepnote_index_column": 6133
        },
        {
         "Actual": 84285.71428571429,
         "Predicted": 96220.15438905539,
         "_deepnote_index_column": 2320
        },
        {
         "Actual": 145067.6982591876,
         "Predicted": 158968.59581701978,
         "_deepnote_index_column": 20828
        },
        {
         "Actual": 187285.2233676976,
         "Predicted": 211431.04854674905,
         "_deepnote_index_column": 12274
        },
        {
         "Actual": 149825.78397212544,
         "Predicted": 140060.810031744,
         "_deepnote_index_column": 21918
        },
        {
         "Actual": 250000,
         "Predicted": 230159.25458140462,
         "_deepnote_index_column": 14055
        },
        {
         "Actual": 248858.44748858447,
         "Predicted": 276064.3119299575,
         "_deepnote_index_column": 4722
        },
        {
         "Actual": 210714.2857142857,
         "Predicted": 281847.2016634392,
         "_deepnote_index_column": 19913
        },
        {
         "Actual": 142828.57142857142,
         "Predicted": 140831.71785093672,
         "_deepnote_index_column": 22238
        },
        {
         "Actual": 182260,
         "Predicted": 183277.79753602398,
         "_deepnote_index_column": 9530
        },
        {
         "Actual": 310932.79839518556,
         "Predicted": 356902.4366635926,
         "_deepnote_index_column": 16025
        },
        {
         "Actual": 208395.80209895052,
         "Predicted": 237135.00749880465,
         "_deepnote_index_column": 1506
        },
        {
         "Actual": 192600,
         "Predicted": 197317.19219892155,
         "_deepnote_index_column": 5941
        },
        {
         "Actual": 186274.50980392157,
         "Predicted": 165053.6924045527,
         "_deepnote_index_column": 19599
        },
        {
         "Actual": 473684.2105263158,
         "Predicted": 687445.3095827831,
         "_deepnote_index_column": 8158
        },
        {
         "Actual": 156126.48221343872,
         "Predicted": 161199.74900974525,
         "_deepnote_index_column": 8697
        },
        {
         "Actual": 171428.57142857142,
         "Predicted": 139037.73062467837,
         "_deepnote_index_column": 15703
        },
        {
         "Actual": 587000,
         "Predicted": 577069.1666000204,
         "_deepnote_index_column": 15777
        },
        {
         "Actual": 758377.4250440917,
         "Predicted": 743058.3018463561,
         "_deepnote_index_column": 3272
        },
        {
         "Actual": 172475,
         "Predicted": 177192.86721513,
         "_deepnote_index_column": 15730
        },
        {
         "Actual": 172766.25172890734,
         "Predicted": 188274.1754408417,
         "_deepnote_index_column": 21588
        },
        {
         "Actual": 119453.75209380234,
         "Predicted": 137121.61312365835,
         "_deepnote_index_column": 5606
        },
        {
         "Actual": 500000,
         "Predicted": 772104.6674437786,
         "_deepnote_index_column": 8243
        },
        {
         "Actual": 163109.75609756098,
         "Predicted": 176523.0189886707,
         "_deepnote_index_column": 13490
        },
        {
         "Actual": 179500,
         "Predicted": 164605.2415418334,
         "_deepnote_index_column": 7008
        },
        {
         "Actual": 255190.31141868513,
         "Predicted": 310001.54063510697,
         "_deepnote_index_column": 13227
        }
       ]
      },
      "text/plain": "              Actual      Predicted\n10307  641025.641026  628101.786351\n2684   370277.777778  410751.350293\n15931  213851.992410  183403.999139\n10683  187598.116170  179337.453662\n22217  189556.509299  460509.511372\n...              ...            ...\n5606   119453.752094  137121.613124\n8243   500000.000000  772104.667444\n13490  163109.756098  176523.018989\n7008   179500.000000  164605.241542\n13227  255190.311419  310001.540635\n\n[4657 rows x 2 columns]",
      "text/html": "<div>\n<style scoped>\n    .dataframe tbody tr th:only-of-type {\n        vertical-align: middle;\n    }\n\n    .dataframe tbody tr th {\n        vertical-align: top;\n    }\n\n    .dataframe thead th {\n        text-align: right;\n    }\n</style>\n<table border=\"1\" class=\"dataframe\">\n  <thead>\n    <tr style=\"text-align: right;\">\n      <th></th>\n      <th>Actual</th>\n      <th>Predicted</th>\n    </tr>\n  </thead>\n  <tbody>\n    <tr>\n      <th>10307</th>\n      <td>641025.641026</td>\n      <td>628101.786351</td>\n    </tr>\n    <tr>\n      <th>2684</th>\n      <td>370277.777778</td>\n      <td>410751.350293</td>\n    </tr>\n    <tr>\n      <th>15931</th>\n      <td>213851.992410</td>\n      <td>183403.999139</td>\n    </tr>\n    <tr>\n      <th>10683</th>\n      <td>187598.116170</td>\n      <td>179337.453662</td>\n    </tr>\n    <tr>\n      <th>22217</th>\n      <td>189556.509299</td>\n      <td>460509.511372</td>\n    </tr>\n    <tr>\n      <th>...</th>\n      <td>...</td>\n      <td>...</td>\n    </tr>\n    <tr>\n      <th>5606</th>\n      <td>119453.752094</td>\n      <td>137121.613124</td>\n    </tr>\n    <tr>\n      <th>8243</th>\n      <td>500000.000000</td>\n      <td>772104.667444</td>\n    </tr>\n    <tr>\n      <th>13490</th>\n      <td>163109.756098</td>\n      <td>176523.018989</td>\n    </tr>\n    <tr>\n      <th>7008</th>\n      <td>179500.000000</td>\n      <td>164605.241542</td>\n    </tr>\n    <tr>\n      <th>13227</th>\n      <td>255190.311419</td>\n      <td>310001.540635</td>\n    </tr>\n  </tbody>\n</table>\n<p>4657 rows × 2 columns</p>\n</div>"
     },
     "metadata": {}
    }
   ],
   "execution_count": null
  },
  {
   "cell_type": "code",
   "metadata": {
    "tags": [],
    "cell_id": "00007-bb0c0bc4-4d31-47e2-bef9-e056b08caf02",
    "deepnote_to_be_reexecuted": false,
    "source_hash": "ba868cf3",
    "execution_start": 1637264738323,
    "execution_millis": 494,
    "deepnote_output_heights": [
     39.8125
    ],
    "deepnote_cell_type": "code"
   },
   "source": "final_labels = model.predict(X1_test.drop(['area_total'], axis=1))\nfinal_labels = final_labels.astype(float)\nfinal_labels",
   "outputs": [
    {
     "output_type": "execute_result",
     "execution_count": 14,
     "data": {
      "text/plain": "array([411543.07217793, 177145.8460152 , 165676.5618941 , ...,\n       215995.07915192, 249824.67965253, 102640.29838745])"
     },
     "metadata": {}
    }
   ],
   "execution_count": null
  },
  {
   "cell_type": "code",
   "source": "\nfinal_labels = final_labels * df_test.area_total.values\nlen(final_labels)",
   "metadata": {
    "tags": [],
    "cell_id": "00012-36341c06-7ff1-4701-8689-ae04f425ed14",
    "deepnote_to_be_reexecuted": false,
    "source_hash": "c0767376",
    "execution_start": 1637264738828,
    "execution_millis": 226,
    "deepnote_output_heights": [
     20.90625
    ],
    "deepnote_cell_type": "code"
   },
   "outputs": [
    {
     "output_type": "execute_result",
     "execution_count": 15,
     "data": {
      "text/plain": "9937"
     },
     "metadata": {}
    }
   ],
   "execution_count": null
  },
  {
   "cell_type": "code",
   "source": "df_train.area_total.values",
   "metadata": {
    "tags": [],
    "cell_id": "00014-f9be7f01-5bac-4643-895f-8a555e6ccd67",
    "deepnote_to_be_reexecuted": false,
    "source_hash": "b3d836d9",
    "execution_start": 1637264738850,
    "execution_millis": 207,
    "deepnote_output_heights": [
     21
    ],
    "deepnote_cell_type": "code"
   },
   "outputs": [
    {
     "output_type": "execute_result",
     "execution_count": 16,
     "data": {
      "text/plain": "array([ 59.2,  88. ,  78.5, ...,  73.4, 100.8,  57.7])"
     },
     "metadata": {}
    }
   ],
   "execution_count": null
  },
  {
   "cell_type": "code",
   "metadata": {
    "tags": [],
    "cell_id": "00008-870c740e-ba94-4741-bf8d-7dc6f789b3c1",
    "deepnote_to_be_reexecuted": false,
    "source_hash": "cdd4c29d",
    "execution_start": 1637264738861,
    "execution_millis": 1222,
    "deepnote_cell_type": "code"
   },
   "source": "y_train_hat = model.predict(X_train) * area_total_train ## * edit\ny_valid_hat = model.predict(X_val) * area_total_val ## * edit\n\ny_train = y_train * area_total_train ## edit\ny_val = y_val * area_total_val ## edit\n\nprint(f'Train RMSLE: {root_mean_squared_log_error(y_true=y_train, y_pred=y_train_hat) :.4f}')\nprint(f'Valid RMSLE: {root_mean_squared_log_error(y_true=y_val, y_pred=y_valid_hat) :.4f}')\n\n#Train RMSLE: 0.1283\n#Valid RMSLE: 0.1761\n\n#Train RMSLE: 0.0489\n#Valid RMSLE: 0.1451",
   "outputs": [
    {
     "name": "stdout",
     "text": "Train RMSLE: 0.0987\nValid RMSLE: 0.1479\n",
     "output_type": "stream"
    }
   ],
   "execution_count": null
  },
  {
   "cell_type": "code",
   "source": "",
   "metadata": {
    "tags": [],
    "cell_id": "00013-0138b4ee-1040-4ee3-b4b0-e2c733243525",
    "deepnote_to_be_reexecuted": false,
    "source_hash": "b623e53d",
    "execution_start": 1637264740088,
    "execution_millis": 1,
    "deepnote_cell_type": "code"
   },
   "outputs": [],
   "execution_count": null
  },
  {
   "cell_type": "code",
   "metadata": {
    "tags": [],
    "cell_id": "00009-3cc44e2c-50e6-4a92-91ed-141b6a0bbe43",
    "deepnote_to_be_reexecuted": false,
    "source_hash": "61e9ef7c",
    "execution_start": 1637264740099,
    "execution_millis": 88,
    "deepnote_cell_type": "code"
   },
   "source": "submission = pd.DataFrame()\nsubmission['id'] = df_test.id\nsubmission['price_prediction'] = final_labels # Predict on non-nan entries\n # Fill missing entries with mean predictor\nprint(f'Generated {len(submission)} predictions')\n\n# Export submission to csv with headers\n#submission.to_csv('sample_submission.csv', index=False)\n\nsubmission.to_csv('sample_submission9.csv', index=False)",
   "outputs": [
    {
     "name": "stdout",
     "text": "Generated 9937 predictions\n",
     "output_type": "stream"
    }
   ],
   "execution_count": null
  },
  {
   "cell_type": "code",
   "source": "# SHAP analysis\n",
   "metadata": {
    "tags": [],
    "cell_id": "00022-fb1bf34c-cf07-4a7b-995d-85d3d966fe08",
    "deepnote_to_be_reexecuted": false,
    "source_hash": "79ed939c",
    "execution_start": 1637264740182,
    "execution_millis": 1,
    "deepnote_cell_type": "code"
   },
   "outputs": [],
   "execution_count": null
  },
  {
   "cell_type": "markdown",
   "source": "<a style='text-decoration:none;line-height:16px;display:flex;color:#5B5B62;padding:10px;justify-content:end;' href='https://deepnote.com?utm_source=created-in-deepnote-cell&projectId=99c1e030-46bc-40fa-835c-0661eae0d488' target=\"_blank\">\n<img alt='Created in deepnote.com' style='display:inline;max-height:16px;margin:0px;margin-right:7.5px;' src='data:image/svg+xml;base64,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' > </img>\nCreated in <span style='font-weight:600;margin-left:4px;'>Deepnote</span></a>",
   "metadata": {
    "tags": [],
    "created_in_deepnote_cell": true,
    "deepnote_cell_type": "markdown"
   }
  }
 ],
 "nbformat": 4,
 "nbformat_minor": 2,
 "metadata": {
  "orig_nbformat": 2,
  "deepnote": {
   "is_reactive": false
  },
  "deepnote_notebook_id": "9b71aa2b-3521-45ad-9c7c-5facb9109dee",
  "deepnote_execution_queue": []
 }
}