{
 "cells": [
  {
   "cell_type": "code",
   "metadata": {
    "tags": [],
    "deepnote_to_be_reexecuted": false,
    "source_hash": "a78b1b05",
    "execution_start": 1637273420874,
    "execution_millis": 12895,
    "cell_id": "00000-d5a817c4-f52f-48b6-9293-27e5b78e6fb6",
    "deepnote_cell_type": "code"
   },
   "source": "import json\nimport pandas as pd\nimport numpy as np\nimport math as math\nimport matplotlib.pyplot as plt\nimport seaborn as sns\nimport sklearn.model_selection as model_selection\nimport sklearn.tree as tree\nfrom sklearn.linear_model import LogisticRegression\nfrom sklearn.linear_model import LinearRegression\nimport time\nfrom sklearn.model_selection import GridSearchCV\nfrom sklearn.tree import DecisionTreeRegressor\nfrom sklearn.model_selection import train_test_split\nfrom sklearn.impute import KNNImputer\n!pip install impyute\n\n",
   "outputs": [
    {
     "name": "stdout",
     "text": "Requirement already satisfied: impyute in /root/venv/lib/python3.9/site-packages (0.0.8)\nRequirement already satisfied: scikit-learn in /shared-libs/python3.9/py/lib/python3.9/site-packages (from impyute) (1.0.1)\nRequirement already satisfied: numpy in /root/venv/lib/python3.9/site-packages (from impyute) (1.20.3)\nRequirement already satisfied: scipy in /shared-libs/python3.9/py/lib/python3.9/site-packages (from impyute) (1.7.2)\nRequirement already satisfied: joblib>=0.11 in /shared-libs/python3.9/py/lib/python3.9/site-packages (from scikit-learn->impyute) (1.1.0)\nRequirement already satisfied: threadpoolctl>=2.0.0 in /shared-libs/python3.9/py/lib/python3.9/site-packages (from scikit-learn->impyute) (3.0.0)\n\u001b[33mWARNING: You are using pip version 21.2.3; however, version 21.3.1 is available.\nYou should consider upgrading via the '/root/venv/bin/python -m pip install --upgrade pip' command.\u001b[0m\n",
     "output_type": "stream"
    }
   ],
   "execution_count": null
  },
  {
   "cell_type": "code",
   "metadata": {
    "tags": [],
    "deepnote_to_be_reexecuted": false,
    "source_hash": "db006693",
    "execution_start": 1637273433782,
    "execution_millis": 594,
    "cell_id": "00001-5856a3a6-7ae2-4ce4-8b59-5d7a085d10a0",
    "deepnote_cell_type": "code"
   },
   "source": "apartments = pd.read_csv('apartments_test.csv')\n#print(f'Loaded {len(apartments)} apartments')\nwith open('apartments_meta.json') as f: \n    apartments_meta = json.load(f)\n#describe_data(apartments, apartments_meta)\nbuildings = pd.read_csv('buildings_test.csv')\n#print(f'Loaded {len(buildings)} buildings')\nwith open('buildings_meta.json') as f: \n    buildings_meta = json.load(f)\n#print(f'All apartments have an associated building: {apartments.building_id.isin(buildings.id).all()}')\ndf = pd.merge(apartments, buildings.set_index('id'), how='left', left_on='building_id', right_index=True)\ndf.head()",
   "outputs": [
    {
     "output_type": "execute_result",
     "execution_count": 2,
     "data": {
      "application/vnd.deepnote.dataframe.v2+json": {
       "row_count": 5,
       "column_count": 33,
       "columns": [
        {
         "name": "id",
         "dtype": "int64",
         "stats": {
          "unique_count": 5,
          "nan_count": 0,
          "min": "23285",
          "max": "23289",
          "histogram": [
           {
            "bin_start": 23285,
            "bin_end": 23285.4,
            "count": 1
           },
           {
            "bin_start": 23285.4,
            "bin_end": 23285.8,
            "count": 0
           },
           {
            "bin_start": 23285.8,
            "bin_end": 23286.2,
            "count": 1
           },
           {
            "bin_start": 23286.2,
            "bin_end": 23286.6,
            "count": 0
           },
           {
            "bin_start": 23286.6,
            "bin_end": 23287,
            "count": 0
           },
           {
            "bin_start": 23287,
            "bin_end": 23287.4,
            "count": 1
           },
           {
            "bin_start": 23287.4,
            "bin_end": 23287.8,
            "count": 0
           },
           {
            "bin_start": 23287.8,
            "bin_end": 23288.2,
            "count": 1
           },
           {
            "bin_start": 23288.2,
            "bin_end": 23288.6,
            "count": 0
           },
           {
            "bin_start": 23288.6,
            "bin_end": 23289,
            "count": 1
           }
          ]
         }
        },
        {
         "name": "seller",
         "dtype": "float64",
         "stats": {
          "unique_count": 1,
          "nan_count": 4,
          "min": "3.0",
          "max": "3.0",
          "histogram": [
           {
            "bin_start": 2.5,
            "bin_end": 2.6,
            "count": 0
           },
           {
            "bin_start": 2.6,
            "bin_end": 2.7,
            "count": 0
           },
           {
            "bin_start": 2.7,
            "bin_end": 2.8,
            "count": 0
           },
           {
            "bin_start": 2.8,
            "bin_end": 2.9,
            "count": 0
           },
           {
            "bin_start": 2.9,
            "bin_end": 3,
            "count": 0
           },
           {
            "bin_start": 3,
            "bin_end": 3.1,
            "count": 1
           },
           {
            "bin_start": 3.1,
            "bin_end": 3.2,
            "count": 0
           },
           {
            "bin_start": 3.2,
            "bin_end": 3.3,
            "count": 0
           },
           {
            "bin_start": 3.3,
            "bin_end": 3.4,
            "count": 0
           },
           {
            "bin_start": 3.4,
            "bin_end": 3.5,
            "count": 0
           }
          ]
         }
        },
        {
         "name": "area_total",
         "dtype": "float64",
         "stats": {
          "unique_count": 5,
          "nan_count": 0,
          "min": "34.0",
          "max": "71.4",
          "histogram": [
           {
            "bin_start": 34,
            "bin_end": 37.74,
            "count": 1
           },
           {
            "bin_start": 37.74,
            "bin_end": 41.480000000000004,
            "count": 1
           },
           {
            "bin_start": 41.480000000000004,
            "bin_end": 45.22,
            "count": 0
           },
           {
            "bin_start": 45.22,
            "bin_end": 48.96,
            "count": 0
           },
           {
            "bin_start": 48.96,
            "bin_end": 52.7,
            "count": 0
           },
           {
            "bin_start": 52.7,
            "bin_end": 56.440000000000005,
            "count": 1
           },
           {
            "bin_start": 56.440000000000005,
            "bin_end": 60.18000000000001,
            "count": 0
           },
           {
            "bin_start": 60.18000000000001,
            "bin_end": 63.92,
            "count": 1
           },
           {
            "bin_start": 63.92,
            "bin_end": 67.66,
            "count": 0
           },
           {
            "bin_start": 67.66,
            "bin_end": 71.4,
            "count": 1
           }
          ]
         }
        },
        {
         "name": "area_kitchen",
         "dtype": "float64",
         "stats": {
          "unique_count": 3,
          "nan_count": 2,
          "min": "4.0",
          "max": "19.6",
          "histogram": [
           {
            "bin_start": 4,
            "bin_end": 5.5600000000000005,
            "count": 1
           },
           {
            "bin_start": 5.5600000000000005,
            "bin_end": 7.12,
            "count": 0
           },
           {
            "bin_start": 7.12,
            "bin_end": 8.68,
            "count": 0
           },
           {
            "bin_start": 8.68,
            "bin_end": 10.24,
            "count": 1
           },
           {
            "bin_start": 10.24,
            "bin_end": 11.8,
            "count": 0
           },
           {
            "bin_start": 11.8,
            "bin_end": 13.36,
            "count": 0
           },
           {
            "bin_start": 13.36,
            "bin_end": 14.92,
            "count": 0
           },
           {
            "bin_start": 14.92,
            "bin_end": 16.48,
            "count": 0
           },
           {
            "bin_start": 16.48,
            "bin_end": 18.04,
            "count": 0
           },
           {
            "bin_start": 18.04,
            "bin_end": 19.6,
            "count": 1
           }
          ]
         }
        },
        {
         "name": "area_living",
         "dtype": "float64",
         "stats": {
          "unique_count": 3,
          "nan_count": 2,
          "min": "11.2",
          "max": "50.0",
          "histogram": [
           {
            "bin_start": 11.2,
            "bin_end": 15.079999999999998,
            "count": 1
           },
           {
            "bin_start": 15.079999999999998,
            "bin_end": 18.96,
            "count": 1
           },
           {
            "bin_start": 18.96,
            "bin_end": 22.84,
            "count": 0
           },
           {
            "bin_start": 22.84,
            "bin_end": 26.72,
            "count": 0
           },
           {
            "bin_start": 26.72,
            "bin_end": 30.599999999999998,
            "count": 0
           },
           {
            "bin_start": 30.599999999999998,
            "bin_end": 34.480000000000004,
            "count": 0
           },
           {
            "bin_start": 34.480000000000004,
            "bin_end": 38.36,
            "count": 0
           },
           {
            "bin_start": 38.36,
            "bin_end": 42.239999999999995,
            "count": 0
           },
           {
            "bin_start": 42.239999999999995,
            "bin_end": 46.120000000000005,
            "count": 0
           },
           {
            "bin_start": 46.120000000000005,
            "bin_end": 50,
            "count": 1
           }
          ]
         }
        },
        {
         "name": "floor",
         "dtype": "float64",
         "stats": {
          "unique_count": 5,
          "nan_count": 0,
          "min": "2.0",
          "max": "14.0",
          "histogram": [
           {
            "bin_start": 2,
            "bin_end": 3.2,
            "count": 1
           },
           {
            "bin_start": 3.2,
            "bin_end": 4.4,
            "count": 1
           },
           {
            "bin_start": 4.4,
            "bin_end": 5.6,
            "count": 1
           },
           {
            "bin_start": 5.6,
            "bin_end": 6.8,
            "count": 0
           },
           {
            "bin_start": 6.8,
            "bin_end": 8,
            "count": 0
           },
           {
            "bin_start": 8,
            "bin_end": 9.2,
            "count": 0
           },
           {
            "bin_start": 9.2,
            "bin_end": 10.4,
            "count": 1
           },
           {
            "bin_start": 10.4,
            "bin_end": 11.6,
            "count": 0
           },
           {
            "bin_start": 11.6,
            "bin_end": 12.799999999999999,
            "count": 0
           },
           {
            "bin_start": 12.799999999999999,
            "bin_end": 14,
            "count": 1
           }
          ]
         }
        },
        {
         "name": "rooms",
         "dtype": "float64",
         "stats": {
          "unique_count": 2,
          "nan_count": 0,
          "min": "1.0",
          "max": "2.0",
          "histogram": [
           {
            "bin_start": 1,
            "bin_end": 1.1,
            "count": 4
           },
           {
            "bin_start": 1.1,
            "bin_end": 1.2,
            "count": 0
           },
           {
            "bin_start": 1.2,
            "bin_end": 1.3,
            "count": 0
           },
           {
            "bin_start": 1.3,
            "bin_end": 1.4,
            "count": 0
           },
           {
            "bin_start": 1.4,
            "bin_end": 1.5,
            "count": 0
           },
           {
            "bin_start": 1.5,
            "bin_end": 1.6,
            "count": 0
           },
           {
            "bin_start": 1.6,
            "bin_end": 1.7000000000000002,
            "count": 0
           },
           {
            "bin_start": 1.7000000000000002,
            "bin_end": 1.8,
            "count": 0
           },
           {
            "bin_start": 1.8,
            "bin_end": 1.9,
            "count": 0
           },
           {
            "bin_start": 1.9,
            "bin_end": 2,
            "count": 1
           }
          ]
         }
        },
        {
         "name": "layout",
         "dtype": "float64",
         "stats": {
          "unique_count": 1,
          "nan_count": 4,
          "min": "1.0",
          "max": "1.0",
          "histogram": [
           {
            "bin_start": 0.5,
            "bin_end": 0.6,
            "count": 0
           },
           {
            "bin_start": 0.6,
            "bin_end": 0.7,
            "count": 0
           },
           {
            "bin_start": 0.7,
            "bin_end": 0.8,
            "count": 0
           },
           {
            "bin_start": 0.8,
            "bin_end": 0.9,
            "count": 0
           },
           {
            "bin_start": 0.9,
            "bin_end": 1,
            "count": 0
           },
           {
            "bin_start": 1,
            "bin_end": 1.1,
            "count": 1
           },
           {
            "bin_start": 1.1,
            "bin_end": 1.2000000000000002,
            "count": 0
           },
           {
            "bin_start": 1.2000000000000002,
            "bin_end": 1.3,
            "count": 0
           },
           {
            "bin_start": 1.3,
            "bin_end": 1.4,
            "count": 0
           },
           {
            "bin_start": 1.4,
            "bin_end": 1.5,
            "count": 0
           }
          ]
         }
        },
        {
         "name": "ceiling",
         "dtype": "float64",
         "stats": {
          "unique_count": 3,
          "nan_count": 2,
          "min": "2.65",
          "max": "3.0",
          "histogram": [
           {
            "bin_start": 2.65,
            "bin_end": 2.685,
            "count": 1
           },
           {
            "bin_start": 2.685,
            "bin_end": 2.7199999999999998,
            "count": 0
           },
           {
            "bin_start": 2.7199999999999998,
            "bin_end": 2.755,
            "count": 1
           },
           {
            "bin_start": 2.755,
            "bin_end": 2.79,
            "count": 0
           },
           {
            "bin_start": 2.79,
            "bin_end": 2.825,
            "count": 0
           },
           {
            "bin_start": 2.825,
            "bin_end": 2.86,
            "count": 0
           },
           {
            "bin_start": 2.86,
            "bin_end": 2.895,
            "count": 0
           },
           {
            "bin_start": 2.895,
            "bin_end": 2.93,
            "count": 0
           },
           {
            "bin_start": 2.93,
            "bin_end": 2.965,
            "count": 0
           },
           {
            "bin_start": 2.965,
            "bin_end": 3,
            "count": 1
           }
          ]
         }
        },
        {
         "name": "bathrooms_shared",
         "dtype": "float64",
         "stats": {
          "unique_count": 1,
          "nan_count": 2,
          "min": "1.0",
          "max": "1.0",
          "histogram": [
           {
            "bin_start": 0.5,
            "bin_end": 0.6,
            "count": 0
           },
           {
            "bin_start": 0.6,
            "bin_end": 0.7,
            "count": 0
           },
           {
            "bin_start": 0.7,
            "bin_end": 0.8,
            "count": 0
           },
           {
            "bin_start": 0.8,
            "bin_end": 0.9,
            "count": 0
           },
           {
            "bin_start": 0.9,
            "bin_end": 1,
            "count": 0
           },
           {
            "bin_start": 1,
            "bin_end": 1.1,
            "count": 3
           },
           {
            "bin_start": 1.1,
            "bin_end": 1.2000000000000002,
            "count": 0
           },
           {
            "bin_start": 1.2000000000000002,
            "bin_end": 1.3,
            "count": 0
           },
           {
            "bin_start": 1.3,
            "bin_end": 1.4,
            "count": 0
           },
           {
            "bin_start": 1.4,
            "bin_end": 1.5,
            "count": 0
           }
          ]
         }
        },
        {
         "name": "bathrooms_private",
         "dtype": "float64",
         "stats": {
          "unique_count": 1,
          "nan_count": 2,
          "min": "0.0",
          "max": "0.0",
          "histogram": [
           {
            "bin_start": -0.5,
            "bin_end": -0.4,
            "count": 0
           },
           {
            "bin_start": -0.4,
            "bin_end": -0.3,
            "count": 0
           },
           {
            "bin_start": -0.3,
            "bin_end": -0.19999999999999996,
            "count": 0
           },
           {
            "bin_start": -0.19999999999999996,
            "bin_end": -0.09999999999999998,
            "count": 0
           },
           {
            "bin_start": -0.09999999999999998,
            "bin_end": 0,
            "count": 0
           },
           {
            "bin_start": 0,
            "bin_end": 0.10000000000000009,
            "count": 3
           },
           {
            "bin_start": 0.10000000000000009,
            "bin_end": 0.20000000000000007,
            "count": 0
           },
           {
            "bin_start": 0.20000000000000007,
            "bin_end": 0.30000000000000004,
            "count": 0
           },
           {
            "bin_start": 0.30000000000000004,
            "bin_end": 0.4,
            "count": 0
           },
           {
            "bin_start": 0.4,
            "bin_end": 0.5,
            "count": 0
           }
          ]
         }
        },
        {
         "name": "windows_court",
         "dtype": "float64",
         "stats": {
          "unique_count": 2,
          "nan_count": 0,
          "min": "0.0",
          "max": "1.0",
          "histogram": [
           {
            "bin_start": 0,
            "bin_end": 0.1,
            "count": 1
           },
           {
            "bin_start": 0.1,
            "bin_end": 0.2,
            "count": 0
           },
           {
            "bin_start": 0.2,
            "bin_end": 0.30000000000000004,
            "count": 0
           },
           {
            "bin_start": 0.30000000000000004,
            "bin_end": 0.4,
            "count": 0
           },
           {
            "bin_start": 0.4,
            "bin_end": 0.5,
            "count": 0
           },
           {
            "bin_start": 0.5,
            "bin_end": 0.6000000000000001,
            "count": 0
           },
           {
            "bin_start": 0.6000000000000001,
            "bin_end": 0.7000000000000001,
            "count": 0
           },
           {
            "bin_start": 0.7000000000000001,
            "bin_end": 0.8,
            "count": 0
           },
           {
            "bin_start": 0.8,
            "bin_end": 0.9,
            "count": 0
           },
           {
            "bin_start": 0.9,
            "bin_end": 1,
            "count": 4
           }
          ]
         }
        },
        {
         "name": "windows_street",
         "dtype": "float64",
         "stats": {
          "unique_count": 2,
          "nan_count": 0,
          "min": "0.0",
          "max": "1.0",
          "histogram": [
           {
            "bin_start": 0,
            "bin_end": 0.1,
            "count": 4
           },
           {
            "bin_start": 0.1,
            "bin_end": 0.2,
            "count": 0
           },
           {
            "bin_start": 0.2,
            "bin_end": 0.30000000000000004,
            "count": 0
           },
           {
            "bin_start": 0.30000000000000004,
            "bin_end": 0.4,
            "count": 0
           },
           {
            "bin_start": 0.4,
            "bin_end": 0.5,
            "count": 0
           },
           {
            "bin_start": 0.5,
            "bin_end": 0.6000000000000001,
            "count": 0
           },
           {
            "bin_start": 0.6000000000000001,
            "bin_end": 0.7000000000000001,
            "count": 0
           },
           {
            "bin_start": 0.7000000000000001,
            "bin_end": 0.8,
            "count": 0
           },
           {
            "bin_start": 0.8,
            "bin_end": 0.9,
            "count": 0
           },
           {
            "bin_start": 0.9,
            "bin_end": 1,
            "count": 1
           }
          ]
         }
        },
        {
         "name": "balconies",
         "dtype": "float64",
         "stats": {
          "unique_count": 2,
          "nan_count": 3,
          "min": "0.0",
          "max": "1.0",
          "histogram": [
           {
            "bin_start": 0,
            "bin_end": 0.1,
            "count": 1
           },
           {
            "bin_start": 0.1,
            "bin_end": 0.2,
            "count": 0
           },
           {
            "bin_start": 0.2,
            "bin_end": 0.30000000000000004,
            "count": 0
           },
           {
            "bin_start": 0.30000000000000004,
            "bin_end": 0.4,
            "count": 0
           },
           {
            "bin_start": 0.4,
            "bin_end": 0.5,
            "count": 0
           },
           {
            "bin_start": 0.5,
            "bin_end": 0.6000000000000001,
            "count": 0
           },
           {
            "bin_start": 0.6000000000000001,
            "bin_end": 0.7000000000000001,
            "count": 0
           },
           {
            "bin_start": 0.7000000000000001,
            "bin_end": 0.8,
            "count": 0
           },
           {
            "bin_start": 0.8,
            "bin_end": 0.9,
            "count": 0
           },
           {
            "bin_start": 0.9,
            "bin_end": 1,
            "count": 1
           }
          ]
         }
        },
        {
         "name": "loggias",
         "dtype": "float64",
         "stats": {
          "unique_count": 2,
          "nan_count": 3,
          "min": "0.0",
          "max": "1.0",
          "histogram": [
           {
            "bin_start": 0,
            "bin_end": 0.1,
            "count": 1
           },
           {
            "bin_start": 0.1,
            "bin_end": 0.2,
            "count": 0
           },
           {
            "bin_start": 0.2,
            "bin_end": 0.30000000000000004,
            "count": 0
           },
           {
            "bin_start": 0.30000000000000004,
            "bin_end": 0.4,
            "count": 0
           },
           {
            "bin_start": 0.4,
            "bin_end": 0.5,
            "count": 0
           },
           {
            "bin_start": 0.5,
            "bin_end": 0.6000000000000001,
            "count": 0
           },
           {
            "bin_start": 0.6000000000000001,
            "bin_end": 0.7000000000000001,
            "count": 0
           },
           {
            "bin_start": 0.7000000000000001,
            "bin_end": 0.8,
            "count": 0
           },
           {
            "bin_start": 0.8,
            "bin_end": 0.9,
            "count": 0
           },
           {
            "bin_start": 0.9,
            "bin_end": 1,
            "count": 1
           }
          ]
         }
        },
        {
         "name": "condition",
         "dtype": "float64",
         "stats": {
          "unique_count": 3,
          "nan_count": 1,
          "min": "0.0",
          "max": "3.0",
          "histogram": [
           {
            "bin_start": 0,
            "bin_end": 0.3,
            "count": 2
           },
           {
            "bin_start": 0.3,
            "bin_end": 0.6,
            "count": 0
           },
           {
            "bin_start": 0.6,
            "bin_end": 0.8999999999999999,
            "count": 0
           },
           {
            "bin_start": 0.8999999999999999,
            "bin_end": 1.2,
            "count": 1
           },
           {
            "bin_start": 1.2,
            "bin_end": 1.5,
            "count": 0
           },
           {
            "bin_start": 1.5,
            "bin_end": 1.7999999999999998,
            "count": 0
           },
           {
            "bin_start": 1.7999999999999998,
            "bin_end": 2.1,
            "count": 0
           },
           {
            "bin_start": 2.1,
            "bin_end": 2.4,
            "count": 0
           },
           {
            "bin_start": 2.4,
            "bin_end": 2.6999999999999997,
            "count": 0
           },
           {
            "bin_start": 2.6999999999999997,
            "bin_end": 3,
            "count": 1
           }
          ]
         }
        },
        {
         "name": "phones",
         "dtype": "float64",
         "stats": {
          "unique_count": 1,
          "nan_count": 0,
          "min": "1.0",
          "max": "1.0",
          "histogram": [
           {
            "bin_start": 0.5,
            "bin_end": 0.6,
            "count": 0
           },
           {
            "bin_start": 0.6,
            "bin_end": 0.7,
            "count": 0
           },
           {
            "bin_start": 0.7,
            "bin_end": 0.8,
            "count": 0
           },
           {
            "bin_start": 0.8,
            "bin_end": 0.9,
            "count": 0
           },
           {
            "bin_start": 0.9,
            "bin_end": 1,
            "count": 0
           },
           {
            "bin_start": 1,
            "bin_end": 1.1,
            "count": 5
           },
           {
            "bin_start": 1.1,
            "bin_end": 1.2000000000000002,
            "count": 0
           },
           {
            "bin_start": 1.2000000000000002,
            "bin_end": 1.3,
            "count": 0
           },
           {
            "bin_start": 1.3,
            "bin_end": 1.4,
            "count": 0
           },
           {
            "bin_start": 1.4,
            "bin_end": 1.5,
            "count": 0
           }
          ]
         }
        },
        {
         "name": "building_id",
         "dtype": "int64",
         "stats": {
          "unique_count": 5,
          "nan_count": 0,
          "min": "681",
          "max": "7530",
          "histogram": [
           {
            "bin_start": 681,
            "bin_end": 1365.9,
            "count": 2
           },
           {
            "bin_start": 1365.9,
            "bin_end": 2050.8,
            "count": 0
           },
           {
            "bin_start": 2050.8,
            "bin_end": 2735.7,
            "count": 0
           },
           {
            "bin_start": 2735.7,
            "bin_end": 3420.6,
            "count": 0
           },
           {
            "bin_start": 3420.6,
            "bin_end": 4105.5,
            "count": 0
           },
           {
            "bin_start": 4105.5,
            "bin_end": 4790.4,
            "count": 1
           },
           {
            "bin_start": 4790.4,
            "bin_end": 5475.3,
            "count": 1
           },
           {
            "bin_start": 5475.3,
            "bin_end": 6160.2,
            "count": 0
           },
           {
            "bin_start": 6160.2,
            "bin_end": 6845.099999999999,
            "count": 0
           },
           {
            "bin_start": 6845.099999999999,
            "bin_end": 7530,
            "count": 1
           }
          ]
         }
        },
        {
         "name": "new",
         "dtype": "float64",
         "stats": {
          "unique_count": 2,
          "nan_count": 0,
          "min": "0.0",
          "max": "1.0",
          "histogram": [
           {
            "bin_start": 0,
            "bin_end": 0.1,
            "count": 4
           },
           {
            "bin_start": 0.1,
            "bin_end": 0.2,
            "count": 0
           },
           {
            "bin_start": 0.2,
            "bin_end": 0.30000000000000004,
            "count": 0
           },
           {
            "bin_start": 0.30000000000000004,
            "bin_end": 0.4,
            "count": 0
           },
           {
            "bin_start": 0.4,
            "bin_end": 0.5,
            "count": 0
           },
           {
            "bin_start": 0.5,
            "bin_end": 0.6000000000000001,
            "count": 0
           },
           {
            "bin_start": 0.6000000000000001,
            "bin_end": 0.7000000000000001,
            "count": 0
           },
           {
            "bin_start": 0.7000000000000001,
            "bin_end": 0.8,
            "count": 0
           },
           {
            "bin_start": 0.8,
            "bin_end": 0.9,
            "count": 0
           },
           {
            "bin_start": 0.9,
            "bin_end": 1,
            "count": 1
           }
          ]
         }
        },
        {
         "name": "latitude",
         "dtype": "float64",
         "stats": {
          "unique_count": 5,
          "nan_count": 0,
          "min": "55.518041",
          "max": "55.762247",
          "histogram": [
           {
            "bin_start": 55.518041,
            "bin_end": 55.542461599999996,
            "count": 1
           },
           {
            "bin_start": 55.542461599999996,
            "bin_end": 55.566882199999995,
            "count": 0
           },
           {
            "bin_start": 55.566882199999995,
            "bin_end": 55.5913028,
            "count": 1
           },
           {
            "bin_start": 55.5913028,
            "bin_end": 55.6157234,
            "count": 1
           },
           {
            "bin_start": 55.6157234,
            "bin_end": 55.640144,
            "count": 1
           },
           {
            "bin_start": 55.640144,
            "bin_end": 55.6645646,
            "count": 0
           },
           {
            "bin_start": 55.6645646,
            "bin_end": 55.6889852,
            "count": 0
           },
           {
            "bin_start": 55.6889852,
            "bin_end": 55.713405800000004,
            "count": 0
           },
           {
            "bin_start": 55.713405800000004,
            "bin_end": 55.7378264,
            "count": 0
           },
           {
            "bin_start": 55.7378264,
            "bin_end": 55.762247,
            "count": 1
           }
          ]
         }
        },
        {
         "name": "longitude",
         "dtype": "float64",
         "stats": {
          "unique_count": 5,
          "nan_count": 0,
          "min": "37.343829",
          "max": "37.549040000000005",
          "histogram": [
           {
            "bin_start": 37.343829,
            "bin_end": 37.3643501,
            "count": 1
           },
           {
            "bin_start": 37.3643501,
            "bin_end": 37.3848712,
            "count": 0
           },
           {
            "bin_start": 37.3848712,
            "bin_end": 37.4053923,
            "count": 0
           },
           {
            "bin_start": 37.4053923,
            "bin_end": 37.4259134,
            "count": 1
           },
           {
            "bin_start": 37.4259134,
            "bin_end": 37.4464345,
            "count": 0
           },
           {
            "bin_start": 37.4464345,
            "bin_end": 37.466955600000006,
            "count": 1
           },
           {
            "bin_start": 37.466955600000006,
            "bin_end": 37.4874767,
            "count": 1
           },
           {
            "bin_start": 37.4874767,
            "bin_end": 37.507997800000005,
            "count": 0
           },
           {
            "bin_start": 37.507997800000005,
            "bin_end": 37.5285189,
            "count": 0
           },
           {
            "bin_start": 37.5285189,
            "bin_end": 37.549040000000005,
            "count": 1
           }
          ]
         }
        },
        {
         "name": "district",
         "dtype": "float64",
         "stats": {
          "unique_count": 2,
          "nan_count": 0,
          "min": "0.0",
          "max": "11.0",
          "histogram": [
           {
            "bin_start": 0,
            "bin_end": 1.1,
            "count": 1
           },
           {
            "bin_start": 1.1,
            "bin_end": 2.2,
            "count": 0
           },
           {
            "bin_start": 2.2,
            "bin_end": 3.3000000000000003,
            "count": 0
           },
           {
            "bin_start": 3.3000000000000003,
            "bin_end": 4.4,
            "count": 0
           },
           {
            "bin_start": 4.4,
            "bin_end": 5.5,
            "count": 0
           },
           {
            "bin_start": 5.5,
            "bin_end": 6.6000000000000005,
            "count": 0
           },
           {
            "bin_start": 6.6000000000000005,
            "bin_end": 7.700000000000001,
            "count": 0
           },
           {
            "bin_start": 7.700000000000001,
            "bin_end": 8.8,
            "count": 0
           },
           {
            "bin_start": 8.8,
            "bin_end": 9.9,
            "count": 0
           },
           {
            "bin_start": 9.9,
            "bin_end": 11,
            "count": 4
           }
          ]
         }
        },
        {
         "name": "street",
         "dtype": "object",
         "stats": {
          "unique_count": 5,
          "nan_count": 0,
          "categories": [
           {
            "name": "2-я Черногрязская улица",
            "count": 1
           },
           {
            "name": "улица Сервантеса",
            "count": 1
           },
           {
            "name": "3 others",
            "count": 3
           }
          ]
         }
        },
        {
         "name": "address",
         "dtype": "object",
         "stats": {
          "unique_count": 5,
          "nan_count": 0,
          "categories": [
           {
            "name": "6к3",
            "count": 1
           },
           {
            "name": "3к2",
            "count": 1
           },
           {
            "name": "3 others",
            "count": 3
           }
          ]
         }
        },
        {
         "name": "constructed",
         "dtype": "float64",
         "stats": {
          "unique_count": 4,
          "nan_count": 0,
          "min": "2014.0",
          "max": "2021.0",
          "histogram": [
           {
            "bin_start": 2014,
            "bin_end": 2014.7,
            "count": 1
           },
           {
            "bin_start": 2014.7,
            "bin_end": 2015.4,
            "count": 0
           },
           {
            "bin_start": 2015.4,
            "bin_end": 2016.1,
            "count": 1
           },
           {
            "bin_start": 2016.1,
            "bin_end": 2016.8,
            "count": 0
           },
           {
            "bin_start": 2016.8,
            "bin_end": 2017.5,
            "count": 2
           },
           {
            "bin_start": 2017.5,
            "bin_end": 2018.2,
            "count": 0
           },
           {
            "bin_start": 2018.2,
            "bin_end": 2018.9,
            "count": 0
           },
           {
            "bin_start": 2018.9,
            "bin_end": 2019.6,
            "count": 0
           },
           {
            "bin_start": 2019.6,
            "bin_end": 2020.3,
            "count": 0
           },
           {
            "bin_start": 2020.3,
            "bin_end": 2021,
            "count": 1
           }
          ]
         }
        },
        {
         "name": "material",
         "dtype": "float64",
         "stats": {
          "unique_count": 2,
          "nan_count": 0,
          "min": "2.0",
          "max": "3.0",
          "histogram": [
           {
            "bin_start": 2,
            "bin_end": 2.1,
            "count": 4
           },
           {
            "bin_start": 2.1,
            "bin_end": 2.2,
            "count": 0
           },
           {
            "bin_start": 2.2,
            "bin_end": 2.3,
            "count": 0
           },
           {
            "bin_start": 2.3,
            "bin_end": 2.4,
            "count": 0
           },
           {
            "bin_start": 2.4,
            "bin_end": 2.5,
            "count": 0
           },
           {
            "bin_start": 2.5,
            "bin_end": 2.6,
            "count": 0
           },
           {
            "bin_start": 2.6,
            "bin_end": 2.7,
            "count": 0
           },
           {
            "bin_start": 2.7,
            "bin_end": 2.8,
            "count": 0
           },
           {
            "bin_start": 2.8,
            "bin_end": 2.9,
            "count": 0
           },
           {
            "bin_start": 2.9,
            "bin_end": 3,
            "count": 1
           }
          ]
         }
        },
        {
         "name": "stories",
         "dtype": "float64",
         "stats": {
          "unique_count": 4,
          "nan_count": 0,
          "min": "9.0",
          "max": "20.0",
          "histogram": [
           {
            "bin_start": 9,
            "bin_end": 10.1,
            "count": 1
           },
           {
            "bin_start": 10.1,
            "bin_end": 11.2,
            "count": 0
           },
           {
            "bin_start": 11.2,
            "bin_end": 12.3,
            "count": 0
           },
           {
            "bin_start": 12.3,
            "bin_end": 13.4,
            "count": 0
           },
           {
            "bin_start": 13.4,
            "bin_end": 14.5,
            "count": 0
           },
           {
            "bin_start": 14.5,
            "bin_end": 15.600000000000001,
            "count": 1
           },
           {
            "bin_start": 15.600000000000001,
            "bin_end": 16.700000000000003,
            "count": 0
           },
           {
            "bin_start": 16.700000000000003,
            "bin_end": 17.8,
            "count": 2
           },
           {
            "bin_start": 17.8,
            "bin_end": 18.9,
            "count": 0
           },
           {
            "bin_start": 18.9,
            "bin_end": 20,
            "count": 1
           }
          ]
         }
        },
        {
         "name": "elevator_without",
         "dtype": "float64",
         "stats": {
          "unique_count": 2,
          "nan_count": 0,
          "min": "0.0",
          "max": "1.0",
          "histogram": [
           {
            "bin_start": 0,
            "bin_end": 0.1,
            "count": 3
           },
           {
            "bin_start": 0.1,
            "bin_end": 0.2,
            "count": 0
           },
           {
            "bin_start": 0.2,
            "bin_end": 0.30000000000000004,
            "count": 0
           },
           {
            "bin_start": 0.30000000000000004,
            "bin_end": 0.4,
            "count": 0
           },
           {
            "bin_start": 0.4,
            "bin_end": 0.5,
            "count": 0
           },
           {
            "bin_start": 0.5,
            "bin_end": 0.6000000000000001,
            "count": 0
           },
           {
            "bin_start": 0.6000000000000001,
            "bin_end": 0.7000000000000001,
            "count": 0
           },
           {
            "bin_start": 0.7000000000000001,
            "bin_end": 0.8,
            "count": 0
           },
           {
            "bin_start": 0.8,
            "bin_end": 0.9,
            "count": 0
           },
           {
            "bin_start": 0.9,
            "bin_end": 1,
            "count": 2
           }
          ]
         }
        },
        {
         "name": "elevator_passenger",
         "dtype": "float64",
         "stats": {
          "unique_count": 1,
          "nan_count": 0,
          "min": "1.0",
          "max": "1.0",
          "histogram": [
           {
            "bin_start": 0.5,
            "bin_end": 0.6,
            "count": 0
           },
           {
            "bin_start": 0.6,
            "bin_end": 0.7,
            "count": 0
           },
           {
            "bin_start": 0.7,
            "bin_end": 0.8,
            "count": 0
           },
           {
            "bin_start": 0.8,
            "bin_end": 0.9,
            "count": 0
           },
           {
            "bin_start": 0.9,
            "bin_end": 1,
            "count": 0
           },
           {
            "bin_start": 1,
            "bin_end": 1.1,
            "count": 5
           },
           {
            "bin_start": 1.1,
            "bin_end": 1.2000000000000002,
            "count": 0
           },
           {
            "bin_start": 1.2000000000000002,
            "bin_end": 1.3,
            "count": 0
           },
           {
            "bin_start": 1.3,
            "bin_end": 1.4,
            "count": 0
           },
           {
            "bin_start": 1.4,
            "bin_end": 1.5,
            "count": 0
           }
          ]
         }
        },
        {
         "name": "elevator_service",
         "dtype": "float64",
         "stats": {
          "unique_count": 2,
          "nan_count": 0,
          "min": "0.0",
          "max": "1.0",
          "histogram": [
           {
            "bin_start": 0,
            "bin_end": 0.1,
            "count": 1
           },
           {
            "bin_start": 0.1,
            "bin_end": 0.2,
            "count": 0
           },
           {
            "bin_start": 0.2,
            "bin_end": 0.30000000000000004,
            "count": 0
           },
           {
            "bin_start": 0.30000000000000004,
            "bin_end": 0.4,
            "count": 0
           },
           {
            "bin_start": 0.4,
            "bin_end": 0.5,
            "count": 0
           },
           {
            "bin_start": 0.5,
            "bin_end": 0.6000000000000001,
            "count": 0
           },
           {
            "bin_start": 0.6000000000000001,
            "bin_end": 0.7000000000000001,
            "count": 0
           },
           {
            "bin_start": 0.7000000000000001,
            "bin_end": 0.8,
            "count": 0
           },
           {
            "bin_start": 0.8,
            "bin_end": 0.9,
            "count": 0
           },
           {
            "bin_start": 0.9,
            "bin_end": 1,
            "count": 4
           }
          ]
         }
        },
        {
         "name": "parking",
         "dtype": "float64",
         "stats": {
          "unique_count": 2,
          "nan_count": 3,
          "min": "0.0",
          "max": "1.0",
          "histogram": [
           {
            "bin_start": 0,
            "bin_end": 0.1,
            "count": 1
           },
           {
            "bin_start": 0.1,
            "bin_end": 0.2,
            "count": 0
           },
           {
            "bin_start": 0.2,
            "bin_end": 0.30000000000000004,
            "count": 0
           },
           {
            "bin_start": 0.30000000000000004,
            "bin_end": 0.4,
            "count": 0
           },
           {
            "bin_start": 0.4,
            "bin_end": 0.5,
            "count": 0
           },
           {
            "bin_start": 0.5,
            "bin_end": 0.6000000000000001,
            "count": 0
           },
           {
            "bin_start": 0.6000000000000001,
            "bin_end": 0.7000000000000001,
            "count": 0
           },
           {
            "bin_start": 0.7000000000000001,
            "bin_end": 0.8,
            "count": 0
           },
           {
            "bin_start": 0.8,
            "bin_end": 0.9,
            "count": 0
           },
           {
            "bin_start": 0.9,
            "bin_end": 1,
            "count": 1
           }
          ]
         }
        },
        {
         "name": "garbage_chute",
         "dtype": "float64",
         "stats": {
          "unique_count": 2,
          "nan_count": 1,
          "min": "0.0",
          "max": "1.0",
          "histogram": [
           {
            "bin_start": 0,
            "bin_end": 0.1,
            "count": 1
           },
           {
            "bin_start": 0.1,
            "bin_end": 0.2,
            "count": 0
           },
           {
            "bin_start": 0.2,
            "bin_end": 0.30000000000000004,
            "count": 0
           },
           {
            "bin_start": 0.30000000000000004,
            "bin_end": 0.4,
            "count": 0
           },
           {
            "bin_start": 0.4,
            "bin_end": 0.5,
            "count": 0
           },
           {
            "bin_start": 0.5,
            "bin_end": 0.6000000000000001,
            "count": 0
           },
           {
            "bin_start": 0.6000000000000001,
            "bin_end": 0.7000000000000001,
            "count": 0
           },
           {
            "bin_start": 0.7000000000000001,
            "bin_end": 0.8,
            "count": 0
           },
           {
            "bin_start": 0.8,
            "bin_end": 0.9,
            "count": 0
           },
           {
            "bin_start": 0.9,
            "bin_end": 1,
            "count": 3
           }
          ]
         }
        },
        {
         "name": "heating",
         "dtype": "float64",
         "stats": {
          "unique_count": 2,
          "nan_count": 1,
          "min": "0.0",
          "max": "3.0",
          "histogram": [
           {
            "bin_start": 0,
            "bin_end": 0.3,
            "count": 3
           },
           {
            "bin_start": 0.3,
            "bin_end": 0.6,
            "count": 0
           },
           {
            "bin_start": 0.6,
            "bin_end": 0.8999999999999999,
            "count": 0
           },
           {
            "bin_start": 0.8999999999999999,
            "bin_end": 1.2,
            "count": 0
           },
           {
            "bin_start": 1.2,
            "bin_end": 1.5,
            "count": 0
           },
           {
            "bin_start": 1.5,
            "bin_end": 1.7999999999999998,
            "count": 0
           },
           {
            "bin_start": 1.7999999999999998,
            "bin_end": 2.1,
            "count": 0
           },
           {
            "bin_start": 2.1,
            "bin_end": 2.4,
            "count": 0
           },
           {
            "bin_start": 2.4,
            "bin_end": 2.6999999999999997,
            "count": 0
           },
           {
            "bin_start": 2.6999999999999997,
            "bin_end": 3,
            "count": 1
           }
          ]
         }
        },
        {
         "name": "_deepnote_index_column",
         "dtype": "int64"
        }
       ],
       "rows_top": [
        {
         "id": 23285,
         "seller": "nan",
         "area_total": 71.4,
         "area_kitchen": "nan",
         "area_living": "nan",
         "floor": 2,
         "rooms": 1,
         "layout": "nan",
         "ceiling": "nan",
         "bathrooms_shared": "nan",
         "bathrooms_private": "nan",
         "windows_court": 1,
         "windows_street": 0,
         "balconies": 1,
         "loggias": 0,
         "condition": 0,
         "phones": 1,
         "building_id": 5148,
         "new": 0,
         "latitude": 55.762247,
         "longitude": 37.549040000000005,
         "district": 0,
         "street": "2-я Черногрязская улица",
         "address": "6к3",
         "constructed": 2017,
         "material": 2,
         "stories": 20,
         "elevator_without": 1,
         "elevator_passenger": 1,
         "elevator_service": 1,
         "parking": "nan",
         "garbage_chute": 1,
         "heating": 0,
         "_deepnote_index_column": 0
        },
        {
         "id": 23286,
         "seller": "nan",
         "area_total": 54,
         "area_kitchen": 4,
         "area_living": 50,
         "floor": 4,
         "rooms": 1,
         "layout": "nan",
         "ceiling": 3,
         "bathrooms_shared": "nan",
         "bathrooms_private": "nan",
         "windows_court": 1,
         "windows_street": 0,
         "balconies": "nan",
         "loggias": "nan",
         "condition": 3,
         "phones": 1,
         "building_id": 1290,
         "new": 0,
         "latitude": 55.591467,
         "longitude": 37.452651,
         "district": 11,
         "street": "улица Сервантеса",
         "address": "3к2",
         "constructed": 2017,
         "material": 2,
         "stories": 15,
         "elevator_without": 0,
         "elevator_passenger": 1,
         "elevator_service": 1,
         "parking": 0,
         "garbage_chute": 0,
         "heating": 0,
         "_deepnote_index_column": 1
        },
        {
         "id": 23287,
         "seller": 3,
         "area_total": 39.4,
         "area_kitchen": 19.6,
         "area_living": 11.2,
         "floor": 10,
         "rooms": 1,
         "layout": "nan",
         "ceiling": 2.65,
         "bathrooms_shared": 1,
         "bathrooms_private": 0,
         "windows_court": 1,
         "windows_street": 0,
         "balconies": "nan",
         "loggias": "nan",
         "condition": "nan",
         "phones": 1,
         "building_id": 681,
         "new": 1,
         "latitude": 55.617017,
         "longitude": 37.413718,
         "district": 11,
         "street": "Саларьево Парк ЖК",
         "address": "27",
         "constructed": 2021,
         "material": 3,
         "stories": 9,
         "elevator_without": 0,
         "elevator_passenger": 1,
         "elevator_service": 1,
         "parking": 1,
         "garbage_chute": "nan",
         "heating": "nan",
         "_deepnote_index_column": 2
        },
        {
         "id": 23288,
         "seller": "nan",
         "area_total": 60.9,
         "area_kitchen": "nan",
         "area_living": "nan",
         "floor": 5,
         "rooms": 2,
         "layout": 1,
         "ceiling": "nan",
         "bathrooms_shared": 1,
         "bathrooms_private": 0,
         "windows_court": 0,
         "windows_street": 1,
         "balconies": "nan",
         "loggias": "nan",
         "condition": 0,
         "phones": 1,
         "building_id": 4261,
         "new": 0,
         "latitude": 55.569052,
         "longitude": 37.47951,
         "district": 11,
         "street": "улица Александры Монаховой",
         "address": "23",
         "constructed": 2014,
         "material": 2,
         "stories": 17,
         "elevator_without": 1,
         "elevator_passenger": 1,
         "elevator_service": 0,
         "parking": "nan",
         "garbage_chute": 1,
         "heating": 3,
         "_deepnote_index_column": 3
        },
        {
         "id": 23289,
         "seller": "nan",
         "area_total": 34,
         "area_kitchen": 9,
         "area_living": 17,
         "floor": 14,
         "rooms": 1,
         "layout": "nan",
         "ceiling": 2.75,
         "bathrooms_shared": 1,
         "bathrooms_private": 0,
         "windows_court": 1,
         "windows_street": 0,
         "balconies": 0,
         "loggias": 1,
         "condition": 1,
         "phones": 1,
         "building_id": 7530,
         "new": 0,
         "latitude": 55.518041,
         "longitude": 37.343829,
         "district": 11,
         "street": "улица 3-я Нововатутинская",
         "address": "13к1",
         "constructed": 2016,
         "material": 2,
         "stories": 17,
         "elevator_without": 0,
         "elevator_passenger": 1,
         "elevator_service": 1,
         "parking": "nan",
         "garbage_chute": 1,
         "heating": 0,
         "_deepnote_index_column": 4
        }
       ],
       "rows_bottom": null
      },
      "text/plain": "      id  seller  area_total  area_kitchen  area_living  floor  rooms  layout  \\\n0  23285     NaN        71.4           NaN          NaN    2.0    1.0     NaN   \n1  23286     NaN        54.0           4.0         50.0    4.0    1.0     NaN   \n2  23287     3.0        39.4          19.6         11.2   10.0    1.0     NaN   \n3  23288     NaN        60.9           NaN          NaN    5.0    2.0     1.0   \n4  23289     NaN        34.0           9.0         17.0   14.0    1.0     NaN   \n\n   ceiling  bathrooms_shared  ...  address  constructed  material  stories  \\\n0      NaN               NaN  ...      6к3       2017.0       2.0     20.0   \n1     3.00               NaN  ...      3к2       2017.0       2.0     15.0   \n2     2.65               1.0  ...       27       2021.0       3.0      9.0   \n3      NaN               1.0  ...       23       2014.0       2.0     17.0   \n4     2.75               1.0  ...     13к1       2016.0       2.0     17.0   \n\n   elevator_without  elevator_passenger  elevator_service  parking  \\\n0               1.0                 1.0               1.0      NaN   \n1               0.0                 1.0               1.0      0.0   \n2               0.0                 1.0               1.0      1.0   \n3               1.0                 1.0               0.0      NaN   \n4               0.0                 1.0               1.0      NaN   \n\n   garbage_chute  heating  \n0            1.0      0.0  \n1            0.0      0.0  \n2            NaN      NaN  \n3            1.0      3.0  \n4            1.0      0.0  \n\n[5 rows x 33 columns]",
      "text/html": "<div>\n<style scoped>\n    .dataframe tbody tr th:only-of-type {\n        vertical-align: middle;\n    }\n\n    .dataframe tbody tr th {\n        vertical-align: top;\n    }\n\n    .dataframe thead th {\n        text-align: right;\n    }\n</style>\n<table border=\"1\" class=\"dataframe\">\n  <thead>\n    <tr style=\"text-align: right;\">\n      <th></th>\n      <th>id</th>\n      <th>seller</th>\n      <th>area_total</th>\n      <th>area_kitchen</th>\n      <th>area_living</th>\n      <th>floor</th>\n      <th>rooms</th>\n      <th>layout</th>\n      <th>ceiling</th>\n      <th>bathrooms_shared</th>\n      <th>...</th>\n      <th>address</th>\n      <th>constructed</th>\n      <th>material</th>\n      <th>stories</th>\n      <th>elevator_without</th>\n      <th>elevator_passenger</th>\n      <th>elevator_service</th>\n      <th>parking</th>\n      <th>garbage_chute</th>\n      <th>heating</th>\n    </tr>\n  </thead>\n  <tbody>\n    <tr>\n      <th>0</th>\n      <td>23285</td>\n      <td>NaN</td>\n      <td>71.4</td>\n      <td>NaN</td>\n      <td>NaN</td>\n      <td>2.0</td>\n      <td>1.0</td>\n      <td>NaN</td>\n      <td>NaN</td>\n      <td>NaN</td>\n      <td>...</td>\n      <td>6к3</td>\n      <td>2017.0</td>\n      <td>2.0</td>\n      <td>20.0</td>\n      <td>1.0</td>\n      <td>1.0</td>\n      <td>1.0</td>\n      <td>NaN</td>\n      <td>1.0</td>\n      <td>0.0</td>\n    </tr>\n    <tr>\n      <th>1</th>\n      <td>23286</td>\n      <td>NaN</td>\n      <td>54.0</td>\n      <td>4.0</td>\n      <td>50.0</td>\n      <td>4.0</td>\n      <td>1.0</td>\n      <td>NaN</td>\n      <td>3.00</td>\n      <td>NaN</td>\n      <td>...</td>\n      <td>3к2</td>\n      <td>2017.0</td>\n      <td>2.0</td>\n      <td>15.0</td>\n      <td>0.0</td>\n      <td>1.0</td>\n      <td>1.0</td>\n      <td>0.0</td>\n      <td>0.0</td>\n      <td>0.0</td>\n    </tr>\n    <tr>\n      <th>2</th>\n      <td>23287</td>\n      <td>3.0</td>\n      <td>39.4</td>\n      <td>19.6</td>\n      <td>11.2</td>\n      <td>10.0</td>\n      <td>1.0</td>\n      <td>NaN</td>\n      <td>2.65</td>\n      <td>1.0</td>\n      <td>...</td>\n      <td>27</td>\n      <td>2021.0</td>\n      <td>3.0</td>\n      <td>9.0</td>\n      <td>0.0</td>\n      <td>1.0</td>\n      <td>1.0</td>\n      <td>1.0</td>\n      <td>NaN</td>\n      <td>NaN</td>\n    </tr>\n    <tr>\n      <th>3</th>\n      <td>23288</td>\n      <td>NaN</td>\n      <td>60.9</td>\n      <td>NaN</td>\n      <td>NaN</td>\n      <td>5.0</td>\n      <td>2.0</td>\n      <td>1.0</td>\n      <td>NaN</td>\n      <td>1.0</td>\n      <td>...</td>\n      <td>23</td>\n      <td>2014.0</td>\n      <td>2.0</td>\n      <td>17.0</td>\n      <td>1.0</td>\n      <td>1.0</td>\n      <td>0.0</td>\n      <td>NaN</td>\n      <td>1.0</td>\n      <td>3.0</td>\n    </tr>\n    <tr>\n      <th>4</th>\n      <td>23289</td>\n      <td>NaN</td>\n      <td>34.0</td>\n      <td>9.0</td>\n      <td>17.0</td>\n      <td>14.0</td>\n      <td>1.0</td>\n      <td>NaN</td>\n      <td>2.75</td>\n      <td>1.0</td>\n      <td>...</td>\n      <td>13к1</td>\n      <td>2016.0</td>\n      <td>2.0</td>\n      <td>17.0</td>\n      <td>0.0</td>\n      <td>1.0</td>\n      <td>1.0</td>\n      <td>NaN</td>\n      <td>1.0</td>\n      <td>0.0</td>\n    </tr>\n  </tbody>\n</table>\n<p>5 rows × 33 columns</p>\n</div>"
     },
     "metadata": {}
    }
   ],
   "execution_count": null
  },
  {
   "cell_type": "code",
   "metadata": {
    "tags": [],
    "deepnote_to_be_reexecuted": false,
    "source_hash": "f3dd26da",
    "execution_start": 1637273434398,
    "execution_millis": 2,
    "deepnote_output_heights": [
     611
    ],
    "cell_id": "00002-09f63740-3f2b-4c19-bb07-129882dc1552",
    "deepnote_cell_type": "code"
   },
   "source": "df.isnull().sum()",
   "outputs": [
    {
     "output_type": "execute_result",
     "execution_count": 3,
     "data": {
      "text/plain": "id                       0\nseller                3942\narea_total               0\narea_kitchen          2233\narea_living           2019\nfloor                    0\nrooms                    0\nlayout                7368\nceiling               5018\nbathrooms_shared      1717\nbathrooms_private     1717\nwindows_court         3488\nwindows_street        3488\nbalconies             4835\nloggias               4835\ncondition             3959\nphones                  40\nbuilding_id              0\nnew                    109\nlatitude                 2\nlongitude                2\ndistrict                25\nstreet                   0\naddress                  0\nconstructed            374\nmaterial              1671\nstories                  0\nelevator_without       180\nelevator_passenger     180\nelevator_service       180\nparking               2867\ngarbage_chute         3426\nheating               3230\ndtype: int64"
     },
     "metadata": {}
    }
   ],
   "execution_count": null
  },
  {
   "cell_type": "code",
   "metadata": {
    "tags": [],
    "deepnote_to_be_reexecuted": false,
    "source_hash": "7039e6d3",
    "execution_start": 1637273434457,
    "execution_millis": 1940,
    "deepnote_output_heights": [
     20.90625,
     333
    ],
    "cell_id": "00003-9db98c3b-849d-4533-831d-932e61c04cc7",
    "deepnote_cell_type": "code"
   },
   "source": "sns.heatmap(df.isnull(), yticklabels=False, cbar=False, cmap='viridis')",
   "outputs": [
    {
     "output_type": "execute_result",
     "execution_count": 4,
     "data": {
      "text/plain": "<AxesSubplot:>"
     },
     "metadata": {}
    },
    {
     "data": {
      "text/plain": "<Figure size 432x288 with 1 Axes>",
      "image/png": "[encoded data removed]"
     },
     "metadata": {
      "needs_background": "light",
      "image/png": {
       "width": 349,
       "height": 336
      }
     },
     "output_type": "display_data"
    }
   ],
   "execution_count": null
  },
  {
   "cell_type": "code",
   "metadata": {
    "tags": [],
    "deepnote_to_be_reexecuted": false,
    "source_hash": "b6ebc297",
    "execution_start": 1637273436317,
    "execution_millis": 3,
    "deepnote_output_heights": [
     20.90625
    ],
    "cell_id": "00004-0dc1d7e7-f8c9-4d6a-90cc-2fb79bbda768",
    "deepnote_cell_type": "code"
   },
   "source": "df.shape\n",
   "outputs": [
    {
     "output_type": "execute_result",
     "execution_count": 5,
     "data": {
      "text/plain": "(9937, 33)"
     },
     "metadata": {}
    }
   ],
   "execution_count": null
  },
  {
   "cell_type": "code",
   "metadata": {
    "tags": [],
    "deepnote_to_be_reexecuted": false,
    "source_hash": "de1e323c",
    "execution_start": 1637273436365,
    "execution_millis": 48,
    "cell_id": "00005-58a7f807-ee5b-4215-81c6-12e853ef21cd",
    "deepnote_cell_type": "code"
   },
   "source": "df.info()",
   "outputs": [
    {
     "name": "stdout",
     "text": "<class 'pandas.core.frame.DataFrame'>\nRangeIndex: 9937 entries, 0 to 9936\nData columns (total 33 columns):\n #   Column              Non-Null Count  Dtype  \n---  ------              --------------  -----  \n 0   id                  9937 non-null   int64  \n 1   seller              5995 non-null   float64\n 2   area_total          9937 non-null   float64\n 3   area_kitchen        7704 non-null   float64\n 4   area_living         7918 non-null   float64\n 5   floor               9937 non-null   float64\n 6   rooms               9937 non-null   float64\n 7   layout              2569 non-null   float64\n 8   ceiling             4919 non-null   float64\n 9   bathrooms_shared    8220 non-null   float64\n 10  bathrooms_private   8220 non-null   float64\n 11  windows_court       6449 non-null   float64\n 12  windows_street      6449 non-null   float64\n 13  balconies           5102 non-null   float64\n 14  loggias             5102 non-null   float64\n 15  condition           5978 non-null   float64\n 16  phones              9897 non-null   float64\n 17  building_id         9937 non-null   int64  \n 18  new                 9828 non-null   float64\n 19  latitude            9935 non-null   float64\n 20  longitude           9935 non-null   float64\n 21  district            9912 non-null   float64\n 22  street              9937 non-null   object \n 23  address             9937 non-null   object \n 24  constructed         9563 non-null   float64\n 25  material            8266 non-null   float64\n 26  stories             9937 non-null   float64\n 27  elevator_without    9757 non-null   float64\n 28  elevator_passenger  9757 non-null   float64\n 29  elevator_service    9757 non-null   float64\n 30  parking             7070 non-null   float64\n 31  garbage_chute       6511 non-null   float64\n 32  heating             6707 non-null   float64\ndtypes: float64(29), int64(2), object(2)\nmemory usage: 2.5+ MB\n",
     "output_type": "stream"
    }
   ],
   "execution_count": null
  },
  {
   "cell_type": "code",
   "metadata": {
    "tags": [],
    "deepnote_to_be_reexecuted": false,
    "source_hash": "f74665c6",
    "execution_start": 1637273436410,
    "execution_millis": 1338738,
    "cell_id": "00006-806ebd05-3183-4419-a24f-3501687062f3",
    "deepnote_cell_type": "code"
   },
   "source": "# drop:['seller', 'layout', 'ceiling', 'balconies', 'loggias', 'condition', 'garbage_chute', 'heating'], axis=1)\n\ndef clean_data(data):\n    nan_replacements = [\n        # ('floor', 0), #no nans\n        # ('rooms', 1), #no nans\n        ('ceiling', data['ceiling'].mean()),\n        #('bathrooms_shared',),\n        #('bathrooms_private',),\n        ('condition', 3),\n        ('phones', 1),\n        ('new', 0),\n        #('contructed',),\n        ('material', 2),\n        ('elevator_without', 0),\n        ('elevator_passenger', 1),\n        ('elevator_service', 0),\n        ('parking', 1),\n        ('garbage_chute', 0),\n        ('heating', 0),\n        ('balconies', 0),\n        ('loggias', 0),\n        ('seller', 2),\n        ('district', 2), #idk change\n    ]\n\n    for feature, value in nan_replacements:\n        data[feature] = data[feature].fillna(value)\n\n    return data",
   "outputs": [],
   "execution_count": null
  },
  {
   "cell_type": "code",
   "metadata": {
    "tags": [],
    "deepnote_to_be_reexecuted": false,
    "source_hash": "810c2b27",
    "execution_start": 1637273436478,
    "execution_millis": 2,
    "deepnote_output_heights": [
     611
    ],
    "cell_id": "00007-3f5bd918-51e8-487b-876e-dad10e76de8a",
    "deepnote_cell_type": "code"
   },
   "source": "df.isnull().sum()\n\n#seller, layout, ",
   "outputs": [
    {
     "output_type": "execute_result",
     "execution_count": 8,
     "data": {
      "text/plain": "id                       0\nseller                3942\narea_total               0\narea_kitchen          2233\narea_living           2019\nfloor                    0\nrooms                    0\nlayout                7368\nceiling               5018\nbathrooms_shared      1717\nbathrooms_private     1717\nwindows_court         3488\nwindows_street        3488\nbalconies             4835\nloggias               4835\ncondition             3959\nphones                  40\nbuilding_id              0\nnew                    109\nlatitude                 2\nlongitude                2\ndistrict                25\nstreet                   0\naddress                  0\nconstructed            374\nmaterial              1671\nstories                  0\nelevator_without       180\nelevator_passenger     180\nelevator_service       180\nparking               2867\ngarbage_chute         3426\nheating               3230\ndtype: int64"
     },
     "metadata": {}
    }
   ],
   "execution_count": null
  },
  {
   "cell_type": "code",
   "metadata": {
    "tags": [],
    "deepnote_to_be_reexecuted": false,
    "source_hash": "f70ab601",
    "execution_start": 1637273436478,
    "execution_millis": 49,
    "deepnote_output_heights": [
     153.265625
    ],
    "cell_id": "00008-d169eec3-11e9-44a6-8dfd-c68d279bff93",
    "deepnote_cell_type": "code"
   },
   "source": "df0 = df.drop(['street', 'address'], axis=1)\ndf0.columns",
   "outputs": [
    {
     "output_type": "execute_result",
     "execution_count": 9,
     "data": {
      "text/plain": "Index(['id', 'seller', 'area_total', 'area_kitchen', 'area_living', 'floor',\n       'rooms', 'layout', 'ceiling', 'bathrooms_shared', 'bathrooms_private',\n       'windows_court', 'windows_street', 'balconies', 'loggias', 'condition',\n       'phones', 'building_id', 'new', 'latitude', 'longitude', 'district',\n       'constructed', 'material', 'stories', 'elevator_without',\n       'elevator_passenger', 'elevator_service', 'parking', 'garbage_chute',\n       'heating'],\n      dtype='object')"
     },
     "metadata": {}
    }
   ],
   "execution_count": null
  },
  {
   "cell_type": "code",
   "metadata": {
    "tags": [],
    "deepnote_to_be_reexecuted": false,
    "source_hash": "9f42a856",
    "execution_start": 1637273436526,
    "execution_millis": 44004,
    "deepnote_output_heights": [
     606.625
    ],
    "cell_id": "00009-43532ffb-1d8b-4f2e-ab42-d80ce3968c7c",
    "deepnote_cell_type": "code"
   },
   "source": "import sys\n#from impyute.imputation.cs import fast_knn\n# 'seller', 'layout', 'ceiling', 'balconies', 'loggias', 'condition', 'garbage_chute', 'heating'\n\nsys.setrecursionlimit(100000) #Increase the recursion limit of the OS\n\n# start the KNN training\n#imputed_training=fast_knn(df.values, k=30)\nimputer = KNNImputer()\nimputer.fit(df0)\ndftrans = imputer.transform(df0)\n",
   "outputs": [],
   "execution_count": null
  },
  {
   "cell_type": "code",
   "metadata": {
    "tags": [],
    "deepnote_to_be_reexecuted": false,
    "source_hash": "d9069334",
    "execution_start": 1637273480574,
    "execution_millis": 4,
    "deepnote_output_heights": [
     20.90625
    ],
    "cell_id": "00010-f6c101e2-ab62-4562-88cf-cf48c6136d88",
    "deepnote_cell_type": "code"
   },
   "source": "\"\"\"\ndf = df.drop(['seller', 'layout', 'ceiling', 'balconies', 'loggias', 'condition', 'garbage_chute', 'heating'], axis=1)\n\ndf.area_kitchen.fillna(df.area_total *0.20382557322076747, inplace=True)\ndf.area_living.fillna(df.area_total *0.5489437954371277, inplace=True)\ndf.bathrooms_shared.fillna(df.bathrooms_shared.mode()[0], inplace = True)\ndf.bathrooms_private.fillna(df.bathrooms_private.mode()[0], inplace = True)\ndf.windows_court.fillna(df.windows_court.mode()[0], inplace = True)\ndf.windows_street.fillna(df.windows_street.mode()[0], inplace = True)\ndf.phones.fillna(df.phones.mode()[0], inplace=True)\ndf.new.fillna(df.new.mode()[0], inplace = True)\ndf.latitude.fillna(df.latitude.mean(), inplace = True)\ndf.longitude.fillna(df.longitude.mean(), inplace = True)\ndf.district.fillna(df.district.mode()[0], inplace = True)\ndf.constructed.fillna(df.constructed.mode()[0], inplace = True)\ndf.material.fillna(df.material.mode()[0], inplace = True)\ndf.elevator_without.fillna(df.elevator_without.mode()[0], inplace = True)\ndf.elevator_passenger.fillna(df.elevator_passenger.mode()[0], inplace = True)\ndf.elevator_service.fillna(df.elevator_service.mode()[0], inplace = True)\ndf.parking.fillna(df.parking.mode()[0], inplace = True)\ndf.shape\ndf.isnull().sum()\n\"\"\"",
   "outputs": [
    {
     "output_type": "execute_result",
     "execution_count": 11,
     "data": {
      "text/plain": "\"\\ndf = df.drop(['seller', 'layout', 'ceiling', 'balconies', 'loggias', 'condition', 'garbage_chute', 'heating'], axis=1)\\n\\ndf.area_kitchen.fillna(df.area_total *0.20382557322076747, inplace=True)\\ndf.area_living.fillna(df.area_total *0.5489437954371277, inplace=True)\\ndf.bathrooms_shared.fillna(df.bathrooms_shared.mode()[0], inplace = True)\\ndf.bathrooms_private.fillna(df.bathrooms_private.mode()[0], inplace = True)\\ndf.windows_court.fillna(df.windows_court.mode()[0], inplace = True)\\ndf.windows_street.fillna(df.windows_street.mode()[0], inplace = True)\\ndf.phones.fillna(df.phones.mode()[0], inplace=True)\\ndf.new.fillna(df.new.mode()[0], inplace = True)\\ndf.latitude.fillna(df.latitude.mean(), inplace = True)\\ndf.longitude.fillna(df.longitude.mean(), inplace = True)\\ndf.district.fillna(df.district.mode()[0], inplace = True)\\ndf.constructed.fillna(df.constructed.mode()[0], inplace = True)\\ndf.material.fillna(df.material.mode()[0], inplace = True)\\ndf.elevator_without.fillna(df.elevator_without.mode()[0], inplace = True)\\ndf.elevator_passenger.fillna(df.elevator_passenger.mode()[0], inplace = True)\\ndf.elevator_service.fillna(df.elevator_service.mode()[0], inplace = True)\\ndf.parking.fillna(df.parking.mode()[0], inplace = True)\\ndf.shape\\ndf.isnull().sum()\\n\""
     },
     "metadata": {}
    }
   ],
   "execution_count": null
  },
  {
   "cell_type": "code",
   "metadata": {
    "tags": [],
    "deepnote_to_be_reexecuted": false,
    "source_hash": "71f4c532",
    "execution_start": 1637273480625,
    "execution_millis": 1956518,
    "deepnote_output_heights": [
     20.90625
    ],
    "cell_id": "00011-0c02bb85-beed-4cec-bfb2-78af59012cf7",
    "deepnote_cell_type": "code"
   },
   "source": "\"\"\"df.elevator_without = df.elevator_without.astype(int)\ndf.floor = df.floor.astype(int)\ndf.rooms = df.rooms.astype(int)\ndf.bathrooms_shared = df.bathrooms_shared.astype(int)\ndf.bathrooms_private = df.bathrooms_private.astype(int)\ndf.windows_court = df.windows_court.astype(int)\ndf.windows_street = df.windows_street.astype(int)\ndf.phones = df.phones.astype(int)\ndf.new = df.new.astype(int)\ndf.district = df.district.astype(int)\ndf.constructed = df.constructed.astype(int)\ndf.material = df.material.astype(int)\ndf.stories = df.stories.astype(int)\ndf.elevator_without = df.elevator_without.astype(int)\ndf.elevator_passenger = df.elevator_passenger.astype(int)\ndf.elevator_service = df.elevator_service.astype(int)\ndf.parking = df.parking.astype(int)\n\"\"\"",
   "outputs": [
    {
     "output_type": "execute_result",
     "execution_count": 12,
     "data": {
      "text/plain": "'df.elevator_without = df.elevator_without.astype(int)\\ndf.floor = df.floor.astype(int)\\ndf.rooms = df.rooms.astype(int)\\ndf.bathrooms_shared = df.bathrooms_shared.astype(int)\\ndf.bathrooms_private = df.bathrooms_private.astype(int)\\ndf.windows_court = df.windows_court.astype(int)\\ndf.windows_street = df.windows_street.astype(int)\\ndf.phones = df.phones.astype(int)\\ndf.new = df.new.astype(int)\\ndf.district = df.district.astype(int)\\ndf.constructed = df.constructed.astype(int)\\ndf.material = df.material.astype(int)\\ndf.stories = df.stories.astype(int)\\ndf.elevator_without = df.elevator_without.astype(int)\\ndf.elevator_passenger = df.elevator_passenger.astype(int)\\ndf.elevator_service = df.elevator_service.astype(int)\\ndf.parking = df.parking.astype(int)\\n'"
     },
     "metadata": {}
    }
   ],
   "execution_count": null
  },
  {
   "cell_type": "code",
   "metadata": {
    "tags": [],
    "deepnote_to_be_reexecuted": false,
    "source_hash": "6f94115e",
    "execution_start": 1637273480698,
    "execution_millis": 1077104,
    "deepnote_output_heights": [
     249
    ],
    "cell_id": "00012-99c84df9-f610-4b62-8a70-70479d80f70f",
    "deepnote_cell_type": "code"
   },
   "source": "df1 = pd.DataFrame(dftrans, columns=list(df0.columns.values))",
   "outputs": [],
   "execution_count": null
  },
  {
   "cell_type": "code",
   "metadata": {
    "tags": [],
    "deepnote_to_be_reexecuted": false,
    "source_hash": "fde72d5b",
    "execution_start": 1637273480699,
    "execution_millis": 1955065,
    "deepnote_output_heights": [
     20.90625
    ],
    "cell_id": "00013-e2cc1229-1bef-495b-9422-7f7dd477e8d4",
    "deepnote_cell_type": "code"
   },
   "source": "\"\"\"df1.elevator_without = df1.elevator_without.astype(int)\ndf1.floor = df1.floor.astype(int)\ndf1.rooms = df1.rooms.astype(int)\ndf1.bathrooms_shared = df1.bathrooms_shared.astype(int)\ndf1.bathrooms_private = df1.bathrooms_private.astype(int)\ndf1.windows_court = df1.windows_court.astype(int)\ndf1.windows_street = df1.windows_street.astype(int)\ndf1.phones = df1.phones.astype(int)\ndf1.new = df1.new.astype(int)\ndf1.district = df1.district.astype(int)\ndf1.constructed = df1.constructed.astype(int)\ndf1.material = df1.material.astype(int)\ndf1.stories = df1.stories.astype(int)\ndf1.elevator_without = df1.elevator_without.astype(int)\ndf1.elevator_passenger = df1.elevator_passenger.astype(int)\ndf1.elevator_service = df1.elevator_service.astype(int)\ndf1.parking = df1.parking.astype(int)\ndf1.garbage_chute = df1.garbage_chute.astype(int)\ndf1.heating = df1.heating.astype(int)\ndf1.building_id = df1.building_id.astype(int)\ndf1.condition = df1.condition.astype(int)\ndf1.loggias = df1.loggias.astype(int)\ndf1.balconies = df1.balconies.astype(int)\n#df1.ceiling = df1.ceiling.round(0)\n#df1.ceiling = df1.ceiling.astype(int)\"\"\"\n\n\n",
   "outputs": [
    {
     "output_type": "execute_result",
     "execution_count": 14,
     "data": {
      "text/plain": "'df1.elevator_without = df1.elevator_without.astype(int)\\ndf1.floor = df1.floor.astype(int)\\ndf1.rooms = df1.rooms.astype(int)\\ndf1.bathrooms_shared = df1.bathrooms_shared.astype(int)\\ndf1.bathrooms_private = df1.bathrooms_private.astype(int)\\ndf1.windows_court = df1.windows_court.astype(int)\\ndf1.windows_street = df1.windows_street.astype(int)\\ndf1.phones = df1.phones.astype(int)\\ndf1.new = df1.new.astype(int)\\ndf1.district = df1.district.astype(int)\\ndf1.constructed = df1.constructed.astype(int)\\ndf1.material = df1.material.astype(int)\\ndf1.stories = df1.stories.astype(int)\\ndf1.elevator_without = df1.elevator_without.astype(int)\\ndf1.elevator_passenger = df1.elevator_passenger.astype(int)\\ndf1.elevator_service = df1.elevator_service.astype(int)\\ndf1.parking = df1.parking.astype(int)\\ndf1.garbage_chute = df1.garbage_chute.astype(int)\\ndf1.heating = df1.heating.astype(int)\\ndf1.building_id = df1.building_id.astype(int)\\ndf1.condition = df1.condition.astype(int)\\ndf1.loggias = df1.loggias.astype(int)\\ndf1.balconies = df1.balconies.astype(int)\\n#df1.ceiling = df1.ceiling.round(0)\\n#df1.ceiling = df1.ceiling.astype(int)'"
     },
     "metadata": {}
    }
   ],
   "execution_count": null
  },
  {
   "cell_type": "code",
   "metadata": {
    "tags": [],
    "deepnote_to_be_reexecuted": false,
    "source_hash": "ea6c9ba",
    "execution_start": 1637273480748,
    "execution_millis": 256,
    "cell_id": "00014-f858beaf-09cd-4383-bb65-9ef3d93c0089",
    "deepnote_cell_type": "code"
   },
   "source": "df1.head()",
   "outputs": [
    {
     "output_type": "execute_result",
     "execution_count": 15,
     "data": {
      "application/vnd.deepnote.dataframe.v2+json": {
       "row_count": 5,
       "column_count": 31,
       "columns": [
        {
         "name": "id",
         "dtype": "float64",
         "stats": {
          "unique_count": 5,
          "nan_count": 0,
          "min": "23285.0",
          "max": "23289.0",
          "histogram": [
           {
            "bin_start": 23285,
            "bin_end": 23285.4,
            "count": 1
           },
           {
            "bin_start": 23285.4,
            "bin_end": 23285.8,
            "count": 0
           },
           {
            "bin_start": 23285.8,
            "bin_end": 23286.2,
            "count": 1
           },
           {
            "bin_start": 23286.2,
            "bin_end": 23286.6,
            "count": 0
           },
           {
            "bin_start": 23286.6,
            "bin_end": 23287,
            "count": 0
           },
           {
            "bin_start": 23287,
            "bin_end": 23287.4,
            "count": 1
           },
           {
            "bin_start": 23287.4,
            "bin_end": 23287.8,
            "count": 0
           },
           {
            "bin_start": 23287.8,
            "bin_end": 23288.2,
            "count": 1
           },
           {
            "bin_start": 23288.2,
            "bin_end": 23288.6,
            "count": 0
           },
           {
            "bin_start": 23288.6,
            "bin_end": 23289,
            "count": 1
           }
          ]
         }
        },
        {
         "name": "seller",
         "dtype": "float64",
         "stats": {
          "unique_count": 4,
          "nan_count": 0,
          "min": "0.8",
          "max": "3.0",
          "histogram": [
           {
            "bin_start": 0.8,
            "bin_end": 1.02,
            "count": 1
           },
           {
            "bin_start": 1.02,
            "bin_end": 1.2400000000000002,
            "count": 0
           },
           {
            "bin_start": 1.2400000000000002,
            "bin_end": 1.4600000000000002,
            "count": 0
           },
           {
            "bin_start": 1.4600000000000002,
            "bin_end": 1.6800000000000002,
            "count": 0
           },
           {
            "bin_start": 1.6800000000000002,
            "bin_end": 1.9000000000000001,
            "count": 0
           },
           {
            "bin_start": 1.9000000000000001,
            "bin_end": 2.12,
            "count": 0
           },
           {
            "bin_start": 2.12,
            "bin_end": 2.3400000000000003,
            "count": 0
           },
           {
            "bin_start": 2.3400000000000003,
            "bin_end": 2.5600000000000005,
            "count": 0
           },
           {
            "bin_start": 2.5600000000000005,
            "bin_end": 2.7800000000000002,
            "count": 1
           },
           {
            "bin_start": 2.7800000000000002,
            "bin_end": 3,
            "count": 3
           }
          ]
         }
        },
        {
         "name": "area_total",
         "dtype": "float64",
         "stats": {
          "unique_count": 5,
          "nan_count": 0,
          "min": "34.0",
          "max": "71.4",
          "histogram": [
           {
            "bin_start": 34,
            "bin_end": 37.74,
            "count": 1
           },
           {
            "bin_start": 37.74,
            "bin_end": 41.480000000000004,
            "count": 1
           },
           {
            "bin_start": 41.480000000000004,
            "bin_end": 45.22,
            "count": 0
           },
           {
            "bin_start": 45.22,
            "bin_end": 48.96,
            "count": 0
           },
           {
            "bin_start": 48.96,
            "bin_end": 52.7,
            "count": 0
           },
           {
            "bin_start": 52.7,
            "bin_end": 56.440000000000005,
            "count": 1
           },
           {
            "bin_start": 56.440000000000005,
            "bin_end": 60.18000000000001,
            "count": 0
           },
           {
            "bin_start": 60.18000000000001,
            "bin_end": 63.92,
            "count": 1
           },
           {
            "bin_start": 63.92,
            "bin_end": 67.66,
            "count": 0
           },
           {
            "bin_start": 67.66,
            "bin_end": 71.4,
            "count": 1
           }
          ]
         }
        },
        {
         "name": "area_kitchen",
         "dtype": "float64",
         "stats": {
          "unique_count": 5,
          "nan_count": 0,
          "min": "4.0",
          "max": "19.6",
          "histogram": [
           {
            "bin_start": 4,
            "bin_end": 5.5600000000000005,
            "count": 1
           },
           {
            "bin_start": 5.5600000000000005,
            "bin_end": 7.12,
            "count": 0
           },
           {
            "bin_start": 7.12,
            "bin_end": 8.68,
            "count": 0
           },
           {
            "bin_start": 8.68,
            "bin_end": 10.24,
            "count": 1
           },
           {
            "bin_start": 10.24,
            "bin_end": 11.8,
            "count": 0
           },
           {
            "bin_start": 11.8,
            "bin_end": 13.36,
            "count": 1
           },
           {
            "bin_start": 13.36,
            "bin_end": 14.92,
            "count": 0
           },
           {
            "bin_start": 14.92,
            "bin_end": 16.48,
            "count": 1
           },
           {
            "bin_start": 16.48,
            "bin_end": 18.04,
            "count": 0
           },
           {
            "bin_start": 18.04,
            "bin_end": 19.6,
            "count": 1
           }
          ]
         }
        },
        {
         "name": "area_living",
         "dtype": "float64",
         "stats": {
          "unique_count": 5,
          "nan_count": 0,
          "min": "11.2",
          "max": "55.56",
          "histogram": [
           {
            "bin_start": 11.2,
            "bin_end": 15.636,
            "count": 1
           },
           {
            "bin_start": 15.636,
            "bin_end": 20.072,
            "count": 1
           },
           {
            "bin_start": 20.072,
            "bin_end": 24.508,
            "count": 0
           },
           {
            "bin_start": 24.508,
            "bin_end": 28.944,
            "count": 0
           },
           {
            "bin_start": 28.944,
            "bin_end": 33.379999999999995,
            "count": 1
           },
           {
            "bin_start": 33.379999999999995,
            "bin_end": 37.816,
            "count": 0
           },
           {
            "bin_start": 37.816,
            "bin_end": 42.251999999999995,
            "count": 0
           },
           {
            "bin_start": 42.251999999999995,
            "bin_end": 46.688,
            "count": 0
           },
           {
            "bin_start": 46.688,
            "bin_end": 51.123999999999995,
            "count": 1
           },
           {
            "bin_start": 51.123999999999995,
            "bin_end": 55.56,
            "count": 1
           }
          ]
         }
        },
        {
         "name": "floor",
         "dtype": "float64",
         "stats": {
          "unique_count": 5,
          "nan_count": 0,
          "min": "2.0",
          "max": "14.0",
          "histogram": [
           {
            "bin_start": 2,
            "bin_end": 3.2,
            "count": 1
           },
           {
            "bin_start": 3.2,
            "bin_end": 4.4,
            "count": 1
           },
           {
            "bin_start": 4.4,
            "bin_end": 5.6,
            "count": 1
           },
           {
            "bin_start": 5.6,
            "bin_end": 6.8,
            "count": 0
           },
           {
            "bin_start": 6.8,
            "bin_end": 8,
            "count": 0
           },
           {
            "bin_start": 8,
            "bin_end": 9.2,
            "count": 0
           },
           {
            "bin_start": 9.2,
            "bin_end": 10.4,
            "count": 1
           },
           {
            "bin_start": 10.4,
            "bin_end": 11.6,
            "count": 0
           },
           {
            "bin_start": 11.6,
            "bin_end": 12.799999999999999,
            "count": 0
           },
           {
            "bin_start": 12.799999999999999,
            "bin_end": 14,
            "count": 1
           }
          ]
         }
        },
        {
         "name": "rooms",
         "dtype": "float64",
         "stats": {
          "unique_count": 2,
          "nan_count": 0,
          "min": "1.0",
          "max": "2.0",
          "histogram": [
           {
            "bin_start": 1,
            "bin_end": 1.1,
            "count": 4
           },
           {
            "bin_start": 1.1,
            "bin_end": 1.2,
            "count": 0
           },
           {
            "bin_start": 1.2,
            "bin_end": 1.3,
            "count": 0
           },
           {
            "bin_start": 1.3,
            "bin_end": 1.4,
            "count": 0
           },
           {
            "bin_start": 1.4,
            "bin_end": 1.5,
            "count": 0
           },
           {
            "bin_start": 1.5,
            "bin_end": 1.6,
            "count": 0
           },
           {
            "bin_start": 1.6,
            "bin_end": 1.7000000000000002,
            "count": 0
           },
           {
            "bin_start": 1.7000000000000002,
            "bin_end": 1.8,
            "count": 0
           },
           {
            "bin_start": 1.8,
            "bin_end": 1.9,
            "count": 0
           },
           {
            "bin_start": 1.9,
            "bin_end": 2,
            "count": 1
           }
          ]
         }
        },
        {
         "name": "layout",
         "dtype": "float64",
         "stats": {
          "unique_count": 2,
          "nan_count": 0,
          "min": "1.0",
          "max": "1.2",
          "histogram": [
           {
            "bin_start": 1,
            "bin_end": 1.02,
            "count": 4
           },
           {
            "bin_start": 1.02,
            "bin_end": 1.04,
            "count": 0
           },
           {
            "bin_start": 1.04,
            "bin_end": 1.06,
            "count": 0
           },
           {
            "bin_start": 1.06,
            "bin_end": 1.08,
            "count": 0
           },
           {
            "bin_start": 1.08,
            "bin_end": 1.1,
            "count": 0
           },
           {
            "bin_start": 1.1,
            "bin_end": 1.1199999999999999,
            "count": 0
           },
           {
            "bin_start": 1.1199999999999999,
            "bin_end": 1.14,
            "count": 0
           },
           {
            "bin_start": 1.14,
            "bin_end": 1.16,
            "count": 0
           },
           {
            "bin_start": 1.16,
            "bin_end": 1.18,
            "count": 0
           },
           {
            "bin_start": 1.18,
            "bin_end": 1.2,
            "count": 1
           }
          ]
         }
        },
        {
         "name": "ceiling",
         "dtype": "float64",
         "stats": {
          "unique_count": 5,
          "nan_count": 0,
          "min": "2.65",
          "max": "3.2199999999999998",
          "histogram": [
           {
            "bin_start": 2.65,
            "bin_end": 2.707,
            "count": 1
           },
           {
            "bin_start": 2.707,
            "bin_end": 2.764,
            "count": 1
           },
           {
            "bin_start": 2.764,
            "bin_end": 2.8209999999999997,
            "count": 0
           },
           {
            "bin_start": 2.8209999999999997,
            "bin_end": 2.8779999999999997,
            "count": 0
           },
           {
            "bin_start": 2.8779999999999997,
            "bin_end": 2.9349999999999996,
            "count": 0
           },
           {
            "bin_start": 2.9349999999999996,
            "bin_end": 2.992,
            "count": 1
           },
           {
            "bin_start": 2.992,
            "bin_end": 3.049,
            "count": 1
           },
           {
            "bin_start": 3.049,
            "bin_end": 3.106,
            "count": 0
           },
           {
            "bin_start": 3.106,
            "bin_end": 3.163,
            "count": 0
           },
           {
            "bin_start": 3.163,
            "bin_end": 3.2199999999999998,
            "count": 1
           }
          ]
         }
        },
        {
         "name": "bathrooms_shared",
         "dtype": "float64",
         "stats": {
          "unique_count": 2,
          "nan_count": 0,
          "min": "0.8",
          "max": "1.0",
          "histogram": [
           {
            "bin_start": 0.8,
            "bin_end": 0.8200000000000001,
            "count": 1
           },
           {
            "bin_start": 0.8200000000000001,
            "bin_end": 0.8400000000000001,
            "count": 0
           },
           {
            "bin_start": 0.8400000000000001,
            "bin_end": 0.86,
            "count": 0
           },
           {
            "bin_start": 0.86,
            "bin_end": 0.88,
            "count": 0
           },
           {
            "bin_start": 0.88,
            "bin_end": 0.9,
            "count": 0
           },
           {
            "bin_start": 0.9,
            "bin_end": 0.92,
            "count": 0
           },
           {
            "bin_start": 0.92,
            "bin_end": 0.9400000000000001,
            "count": 0
           },
           {
            "bin_start": 0.9400000000000001,
            "bin_end": 0.96,
            "count": 0
           },
           {
            "bin_start": 0.96,
            "bin_end": 0.98,
            "count": 0
           },
           {
            "bin_start": 0.98,
            "bin_end": 1,
            "count": 4
           }
          ]
         }
        },
        {
         "name": "bathrooms_private",
         "dtype": "float64",
         "stats": {
          "unique_count": 3,
          "nan_count": 0,
          "min": "0.0",
          "max": "0.8",
          "histogram": [
           {
            "bin_start": 0,
            "bin_end": 0.08,
            "count": 3
           },
           {
            "bin_start": 0.08,
            "bin_end": 0.16,
            "count": 0
           },
           {
            "bin_start": 0.16,
            "bin_end": 0.24,
            "count": 0
           },
           {
            "bin_start": 0.24,
            "bin_end": 0.32,
            "count": 0
           },
           {
            "bin_start": 0.32,
            "bin_end": 0.4,
            "count": 0
           },
           {
            "bin_start": 0.4,
            "bin_end": 0.48,
            "count": 0
           },
           {
            "bin_start": 0.48,
            "bin_end": 0.56,
            "count": 0
           },
           {
            "bin_start": 0.56,
            "bin_end": 0.64,
            "count": 1
           },
           {
            "bin_start": 0.64,
            "bin_end": 0.72,
            "count": 0
           },
           {
            "bin_start": 0.72,
            "bin_end": 0.8,
            "count": 1
           }
          ]
         }
        },
        {
         "name": "windows_court",
         "dtype": "float64",
         "stats": {
          "unique_count": 2,
          "nan_count": 0,
          "min": "0.0",
          "max": "1.0",
          "histogram": [
           {
            "bin_start": 0,
            "bin_end": 0.1,
            "count": 1
           },
           {
            "bin_start": 0.1,
            "bin_end": 0.2,
            "count": 0
           },
           {
            "bin_start": 0.2,
            "bin_end": 0.30000000000000004,
            "count": 0
           },
           {
            "bin_start": 0.30000000000000004,
            "bin_end": 0.4,
            "count": 0
           },
           {
            "bin_start": 0.4,
            "bin_end": 0.5,
            "count": 0
           },
           {
            "bin_start": 0.5,
            "bin_end": 0.6000000000000001,
            "count": 0
           },
           {
            "bin_start": 0.6000000000000001,
            "bin_end": 0.7000000000000001,
            "count": 0
           },
           {
            "bin_start": 0.7000000000000001,
            "bin_end": 0.8,
            "count": 0
           },
           {
            "bin_start": 0.8,
            "bin_end": 0.9,
            "count": 0
           },
           {
            "bin_start": 0.9,
            "bin_end": 1,
            "count": 4
           }
          ]
         }
        },
        {
         "name": "windows_street",
         "dtype": "float64",
         "stats": {
          "unique_count": 2,
          "nan_count": 0,
          "min": "0.0",
          "max": "1.0",
          "histogram": [
           {
            "bin_start": 0,
            "bin_end": 0.1,
            "count": 4
           },
           {
            "bin_start": 0.1,
            "bin_end": 0.2,
            "count": 0
           },
           {
            "bin_start": 0.2,
            "bin_end": 0.30000000000000004,
            "count": 0
           },
           {
            "bin_start": 0.30000000000000004,
            "bin_end": 0.4,
            "count": 0
           },
           {
            "bin_start": 0.4,
            "bin_end": 0.5,
            "count": 0
           },
           {
            "bin_start": 0.5,
            "bin_end": 0.6000000000000001,
            "count": 0
           },
           {
            "bin_start": 0.6000000000000001,
            "bin_end": 0.7000000000000001,
            "count": 0
           },
           {
            "bin_start": 0.7000000000000001,
            "bin_end": 0.8,
            "count": 0
           },
           {
            "bin_start": 0.8,
            "bin_end": 0.9,
            "count": 0
           },
           {
            "bin_start": 0.9,
            "bin_end": 1,
            "count": 1
           }
          ]
         }
        },
        {
         "name": "balconies",
         "dtype": "float64",
         "stats": {
          "unique_count": 3,
          "nan_count": 0,
          "min": "0.0",
          "max": "1.0",
          "histogram": [
           {
            "bin_start": 0,
            "bin_end": 0.1,
            "count": 2
           },
           {
            "bin_start": 0.1,
            "bin_end": 0.2,
            "count": 0
           },
           {
            "bin_start": 0.2,
            "bin_end": 0.30000000000000004,
            "count": 2
           },
           {
            "bin_start": 0.30000000000000004,
            "bin_end": 0.4,
            "count": 0
           },
           {
            "bin_start": 0.4,
            "bin_end": 0.5,
            "count": 0
           },
           {
            "bin_start": 0.5,
            "bin_end": 0.6000000000000001,
            "count": 0
           },
           {
            "bin_start": 0.6000000000000001,
            "bin_end": 0.7000000000000001,
            "count": 0
           },
           {
            "bin_start": 0.7000000000000001,
            "bin_end": 0.8,
            "count": 0
           },
           {
            "bin_start": 0.8,
            "bin_end": 0.9,
            "count": 0
           },
           {
            "bin_start": 0.9,
            "bin_end": 1,
            "count": 1
           }
          ]
         }
        },
        {
         "name": "loggias",
         "dtype": "float64",
         "stats": {
          "unique_count": 3,
          "nan_count": 0,
          "min": "0.0",
          "max": "1.0",
          "histogram": [
           {
            "bin_start": 0,
            "bin_end": 0.1,
            "count": 1
           },
           {
            "bin_start": 0.1,
            "bin_end": 0.2,
            "count": 0
           },
           {
            "bin_start": 0.2,
            "bin_end": 0.30000000000000004,
            "count": 0
           },
           {
            "bin_start": 0.30000000000000004,
            "bin_end": 0.4,
            "count": 0
           },
           {
            "bin_start": 0.4,
            "bin_end": 0.5,
            "count": 0
           },
           {
            "bin_start": 0.5,
            "bin_end": 0.6000000000000001,
            "count": 0
           },
           {
            "bin_start": 0.6000000000000001,
            "bin_end": 0.7000000000000001,
            "count": 0
           },
           {
            "bin_start": 0.7000000000000001,
            "bin_end": 0.8,
            "count": 0
           },
           {
            "bin_start": 0.8,
            "bin_end": 0.9,
            "count": 2
           },
           {
            "bin_start": 0.9,
            "bin_end": 1,
            "count": 2
           }
          ]
         }
        },
        {
         "name": "condition",
         "dtype": "float64",
         "stats": {
          "unique_count": 4,
          "nan_count": 0,
          "min": "0.0",
          "max": "3.0",
          "histogram": [
           {
            "bin_start": 0,
            "bin_end": 0.3,
            "count": 2
           },
           {
            "bin_start": 0.3,
            "bin_end": 0.6,
            "count": 0
           },
           {
            "bin_start": 0.6,
            "bin_end": 0.8999999999999999,
            "count": 0
           },
           {
            "bin_start": 0.8999999999999999,
            "bin_end": 1.2,
            "count": 1
           },
           {
            "bin_start": 1.2,
            "bin_end": 1.5,
            "count": 0
           },
           {
            "bin_start": 1.5,
            "bin_end": 1.7999999999999998,
            "count": 1
           },
           {
            "bin_start": 1.7999999999999998,
            "bin_end": 2.1,
            "count": 0
           },
           {
            "bin_start": 2.1,
            "bin_end": 2.4,
            "count": 0
           },
           {
            "bin_start": 2.4,
            "bin_end": 2.6999999999999997,
            "count": 0
           },
           {
            "bin_start": 2.6999999999999997,
            "bin_end": 3,
            "count": 1
           }
          ]
         }
        },
        {
         "name": "phones",
         "dtype": "float64",
         "stats": {
          "unique_count": 1,
          "nan_count": 0,
          "min": "1.0",
          "max": "1.0",
          "histogram": [
           {
            "bin_start": 0.5,
            "bin_end": 0.6,
            "count": 0
           },
           {
            "bin_start": 0.6,
            "bin_end": 0.7,
            "count": 0
           },
           {
            "bin_start": 0.7,
            "bin_end": 0.8,
            "count": 0
           },
           {
            "bin_start": 0.8,
            "bin_end": 0.9,
            "count": 0
           },
           {
            "bin_start": 0.9,
            "bin_end": 1,
            "count": 0
           },
           {
            "bin_start": 1,
            "bin_end": 1.1,
            "count": 5
           },
           {
            "bin_start": 1.1,
            "bin_end": 1.2000000000000002,
            "count": 0
           },
           {
            "bin_start": 1.2000000000000002,
            "bin_end": 1.3,
            "count": 0
           },
           {
            "bin_start": 1.3,
            "bin_end": 1.4,
            "count": 0
           },
           {
            "bin_start": 1.4,
            "bin_end": 1.5,
            "count": 0
           }
          ]
         }
        },
        {
         "name": "building_id",
         "dtype": "float64",
         "stats": {
          "unique_count": 5,
          "nan_count": 0,
          "min": "681.0",
          "max": "7530.0",
          "histogram": [
           {
            "bin_start": 681,
            "bin_end": 1365.9,
            "count": 2
           },
           {
            "bin_start": 1365.9,
            "bin_end": 2050.8,
            "count": 0
           },
           {
            "bin_start": 2050.8,
            "bin_end": 2735.7,
            "count": 0
           },
           {
            "bin_start": 2735.7,
            "bin_end": 3420.6,
            "count": 0
           },
           {
            "bin_start": 3420.6,
            "bin_end": 4105.5,
            "count": 0
           },
           {
            "bin_start": 4105.5,
            "bin_end": 4790.4,
            "count": 1
           },
           {
            "bin_start": 4790.4,
            "bin_end": 5475.3,
            "count": 1
           },
           {
            "bin_start": 5475.3,
            "bin_end": 6160.2,
            "count": 0
           },
           {
            "bin_start": 6160.2,
            "bin_end": 6845.099999999999,
            "count": 0
           },
           {
            "bin_start": 6845.099999999999,
            "bin_end": 7530,
            "count": 1
           }
          ]
         }
        },
        {
         "name": "new",
         "dtype": "float64",
         "stats": {
          "unique_count": 2,
          "nan_count": 0,
          "min": "0.0",
          "max": "1.0",
          "histogram": [
           {
            "bin_start": 0,
            "bin_end": 0.1,
            "count": 4
           },
           {
            "bin_start": 0.1,
            "bin_end": 0.2,
            "count": 0
           },
           {
            "bin_start": 0.2,
            "bin_end": 0.30000000000000004,
            "count": 0
           },
           {
            "bin_start": 0.30000000000000004,
            "bin_end": 0.4,
            "count": 0
           },
           {
            "bin_start": 0.4,
            "bin_end": 0.5,
            "count": 0
           },
           {
            "bin_start": 0.5,
            "bin_end": 0.6000000000000001,
            "count": 0
           },
           {
            "bin_start": 0.6000000000000001,
            "bin_end": 0.7000000000000001,
            "count": 0
           },
           {
            "bin_start": 0.7000000000000001,
            "bin_end": 0.8,
            "count": 0
           },
           {
            "bin_start": 0.8,
            "bin_end": 0.9,
            "count": 0
           },
           {
            "bin_start": 0.9,
            "bin_end": 1,
            "count": 1
           }
          ]
         }
        },
        {
         "name": "latitude",
         "dtype": "float64",
         "stats": {
          "unique_count": 5,
          "nan_count": 0,
          "min": "55.518041",
          "max": "55.762247",
          "histogram": [
           {
            "bin_start": 55.518041,
            "bin_end": 55.542461599999996,
            "count": 1
           },
           {
            "bin_start": 55.542461599999996,
            "bin_end": 55.566882199999995,
            "count": 0
           },
           {
            "bin_start": 55.566882199999995,
            "bin_end": 55.5913028,
            "count": 1
           },
           {
            "bin_start": 55.5913028,
            "bin_end": 55.6157234,
            "count": 1
           },
           {
            "bin_start": 55.6157234,
            "bin_end": 55.640144,
            "count": 1
           },
           {
            "bin_start": 55.640144,
            "bin_end": 55.6645646,
            "count": 0
           },
           {
            "bin_start": 55.6645646,
            "bin_end": 55.6889852,
            "count": 0
           },
           {
            "bin_start": 55.6889852,
            "bin_end": 55.713405800000004,
            "count": 0
           },
           {
            "bin_start": 55.713405800000004,
            "bin_end": 55.7378264,
            "count": 0
           },
           {
            "bin_start": 55.7378264,
            "bin_end": 55.762247,
            "count": 1
           }
          ]
         }
        },
        {
         "name": "longitude",
         "dtype": "float64",
         "stats": {
          "unique_count": 5,
          "nan_count": 0,
          "min": "37.343829",
          "max": "37.549040000000005",
          "histogram": [
           {
            "bin_start": 37.343829,
            "bin_end": 37.3643501,
            "count": 1
           },
           {
            "bin_start": 37.3643501,
            "bin_end": 37.3848712,
            "count": 0
           },
           {
            "bin_start": 37.3848712,
            "bin_end": 37.4053923,
            "count": 0
           },
           {
            "bin_start": 37.4053923,
            "bin_end": 37.4259134,
            "count": 1
           },
           {
            "bin_start": 37.4259134,
            "bin_end": 37.4464345,
            "count": 0
           },
           {
            "bin_start": 37.4464345,
            "bin_end": 37.466955600000006,
            "count": 1
           },
           {
            "bin_start": 37.466955600000006,
            "bin_end": 37.4874767,
            "count": 1
           },
           {
            "bin_start": 37.4874767,
            "bin_end": 37.507997800000005,
            "count": 0
           },
           {
            "bin_start": 37.507997800000005,
            "bin_end": 37.5285189,
            "count": 0
           },
           {
            "bin_start": 37.5285189,
            "bin_end": 37.549040000000005,
            "count": 1
           }
          ]
         }
        },
        {
         "name": "district",
         "dtype": "float64",
         "stats": {
          "unique_count": 2,
          "nan_count": 0,
          "min": "0.0",
          "max": "11.0",
          "histogram": [
           {
            "bin_start": 0,
            "bin_end": 1.1,
            "count": 1
           },
           {
            "bin_start": 1.1,
            "bin_end": 2.2,
            "count": 0
           },
           {
            "bin_start": 2.2,
            "bin_end": 3.3000000000000003,
            "count": 0
           },
           {
            "bin_start": 3.3000000000000003,
            "bin_end": 4.4,
            "count": 0
           },
           {
            "bin_start": 4.4,
            "bin_end": 5.5,
            "count": 0
           },
           {
            "bin_start": 5.5,
            "bin_end": 6.6000000000000005,
            "count": 0
           },
           {
            "bin_start": 6.6000000000000005,
            "bin_end": 7.700000000000001,
            "count": 0
           },
           {
            "bin_start": 7.700000000000001,
            "bin_end": 8.8,
            "count": 0
           },
           {
            "bin_start": 8.8,
            "bin_end": 9.9,
            "count": 0
           },
           {
            "bin_start": 9.9,
            "bin_end": 11,
            "count": 4
           }
          ]
         }
        },
        {
         "name": "constructed",
         "dtype": "float64",
         "stats": {
          "unique_count": 4,
          "nan_count": 0,
          "min": "2014.0",
          "max": "2021.0",
          "histogram": [
           {
            "bin_start": 2014,
            "bin_end": 2014.7,
            "count": 1
           },
           {
            "bin_start": 2014.7,
            "bin_end": 2015.4,
            "count": 0
           },
           {
            "bin_start": 2015.4,
            "bin_end": 2016.1,
            "count": 1
           },
           {
            "bin_start": 2016.1,
            "bin_end": 2016.8,
            "count": 0
           },
           {
            "bin_start": 2016.8,
            "bin_end": 2017.5,
            "count": 2
           },
           {
            "bin_start": 2017.5,
            "bin_end": 2018.2,
            "count": 0
           },
           {
            "bin_start": 2018.2,
            "bin_end": 2018.9,
            "count": 0
           },
           {
            "bin_start": 2018.9,
            "bin_end": 2019.6,
            "count": 0
           },
           {
            "bin_start": 2019.6,
            "bin_end": 2020.3,
            "count": 0
           },
           {
            "bin_start": 2020.3,
            "bin_end": 2021,
            "count": 1
           }
          ]
         }
        },
        {
         "name": "material",
         "dtype": "float64",
         "stats": {
          "unique_count": 2,
          "nan_count": 0,
          "min": "2.0",
          "max": "3.0",
          "histogram": [
           {
            "bin_start": 2,
            "bin_end": 2.1,
            "count": 4
           },
           {
            "bin_start": 2.1,
            "bin_end": 2.2,
            "count": 0
           },
           {
            "bin_start": 2.2,
            "bin_end": 2.3,
            "count": 0
           },
           {
            "bin_start": 2.3,
            "bin_end": 2.4,
            "count": 0
           },
           {
            "bin_start": 2.4,
            "bin_end": 2.5,
            "count": 0
           },
           {
            "bin_start": 2.5,
            "bin_end": 2.6,
            "count": 0
           },
           {
            "bin_start": 2.6,
            "bin_end": 2.7,
            "count": 0
           },
           {
            "bin_start": 2.7,
            "bin_end": 2.8,
            "count": 0
           },
           {
            "bin_start": 2.8,
            "bin_end": 2.9,
            "count": 0
           },
           {
            "bin_start": 2.9,
            "bin_end": 3,
            "count": 1
           }
          ]
         }
        },
        {
         "name": "stories",
         "dtype": "float64",
         "stats": {
          "unique_count": 4,
          "nan_count": 0,
          "min": "9.0",
          "max": "20.0",
          "histogram": [
           {
            "bin_start": 9,
            "bin_end": 10.1,
            "count": 1
           },
           {
            "bin_start": 10.1,
            "bin_end": 11.2,
            "count": 0
           },
           {
            "bin_start": 11.2,
            "bin_end": 12.3,
            "count": 0
           },
           {
            "bin_start": 12.3,
            "bin_end": 13.4,
            "count": 0
           },
           {
            "bin_start": 13.4,
            "bin_end": 14.5,
            "count": 0
           },
           {
            "bin_start": 14.5,
            "bin_end": 15.600000000000001,
            "count": 1
           },
           {
            "bin_start": 15.600000000000001,
            "bin_end": 16.700000000000003,
            "count": 0
           },
           {
            "bin_start": 16.700000000000003,
            "bin_end": 17.8,
            "count": 2
           },
           {
            "bin_start": 17.8,
            "bin_end": 18.9,
            "count": 0
           },
           {
            "bin_start": 18.9,
            "bin_end": 20,
            "count": 1
           }
          ]
         }
        },
        {
         "name": "elevator_without",
         "dtype": "float64",
         "stats": {
          "unique_count": 2,
          "nan_count": 0,
          "min": "0.0",
          "max": "1.0",
          "histogram": [
           {
            "bin_start": 0,
            "bin_end": 0.1,
            "count": 3
           },
           {
            "bin_start": 0.1,
            "bin_end": 0.2,
            "count": 0
           },
           {
            "bin_start": 0.2,
            "bin_end": 0.30000000000000004,
            "count": 0
           },
           {
            "bin_start": 0.30000000000000004,
            "bin_end": 0.4,
            "count": 0
           },
           {
            "bin_start": 0.4,
            "bin_end": 0.5,
            "count": 0
           },
           {
            "bin_start": 0.5,
            "bin_end": 0.6000000000000001,
            "count": 0
           },
           {
            "bin_start": 0.6000000000000001,
            "bin_end": 0.7000000000000001,
            "count": 0
           },
           {
            "bin_start": 0.7000000000000001,
            "bin_end": 0.8,
            "count": 0
           },
           {
            "bin_start": 0.8,
            "bin_end": 0.9,
            "count": 0
           },
           {
            "bin_start": 0.9,
            "bin_end": 1,
            "count": 2
           }
          ]
         }
        },
        {
         "name": "elevator_passenger",
         "dtype": "float64",
         "stats": {
          "unique_count": 1,
          "nan_count": 0,
          "min": "1.0",
          "max": "1.0",
          "histogram": [
           {
            "bin_start": 0.5,
            "bin_end": 0.6,
            "count": 0
           },
           {
            "bin_start": 0.6,
            "bin_end": 0.7,
            "count": 0
           },
           {
            "bin_start": 0.7,
            "bin_end": 0.8,
            "count": 0
           },
           {
            "bin_start": 0.8,
            "bin_end": 0.9,
            "count": 0
           },
           {
            "bin_start": 0.9,
            "bin_end": 1,
            "count": 0
           },
           {
            "bin_start": 1,
            "bin_end": 1.1,
            "count": 5
           },
           {
            "bin_start": 1.1,
            "bin_end": 1.2000000000000002,
            "count": 0
           },
           {
            "bin_start": 1.2000000000000002,
            "bin_end": 1.3,
            "count": 0
           },
           {
            "bin_start": 1.3,
            "bin_end": 1.4,
            "count": 0
           },
           {
            "bin_start": 1.4,
            "bin_end": 1.5,
            "count": 0
           }
          ]
         }
        },
        {
         "name": "elevator_service",
         "dtype": "float64",
         "stats": {
          "unique_count": 2,
          "nan_count": 0,
          "min": "0.0",
          "max": "1.0",
          "histogram": [
           {
            "bin_start": 0,
            "bin_end": 0.1,
            "count": 1
           },
           {
            "bin_start": 0.1,
            "bin_end": 0.2,
            "count": 0
           },
           {
            "bin_start": 0.2,
            "bin_end": 0.30000000000000004,
            "count": 0
           },
           {
            "bin_start": 0.30000000000000004,
            "bin_end": 0.4,
            "count": 0
           },
           {
            "bin_start": 0.4,
            "bin_end": 0.5,
            "count": 0
           },
           {
            "bin_start": 0.5,
            "bin_end": 0.6000000000000001,
            "count": 0
           },
           {
            "bin_start": 0.6000000000000001,
            "bin_end": 0.7000000000000001,
            "count": 0
           },
           {
            "bin_start": 0.7000000000000001,
            "bin_end": 0.8,
            "count": 0
           },
           {
            "bin_start": 0.8,
            "bin_end": 0.9,
            "count": 0
           },
           {
            "bin_start": 0.9,
            "bin_end": 1,
            "count": 4
           }
          ]
         }
        },
        {
         "name": "parking",
         "dtype": "float64",
         "stats": {
          "unique_count": 5,
          "nan_count": 0,
          "min": "0.0",
          "max": "1.0",
          "histogram": [
           {
            "bin_start": 0,
            "bin_end": 0.1,
            "count": 1
           },
           {
            "bin_start": 0.1,
            "bin_end": 0.2,
            "count": 0
           },
           {
            "bin_start": 0.2,
            "bin_end": 0.30000000000000004,
            "count": 1
           },
           {
            "bin_start": 0.30000000000000004,
            "bin_end": 0.4,
            "count": 0
           },
           {
            "bin_start": 0.4,
            "bin_end": 0.5,
            "count": 0
           },
           {
            "bin_start": 0.5,
            "bin_end": 0.6000000000000001,
            "count": 1
           },
           {
            "bin_start": 0.6000000000000001,
            "bin_end": 0.7000000000000001,
            "count": 0
           },
           {
            "bin_start": 0.7000000000000001,
            "bin_end": 0.8,
            "count": 0
           },
           {
            "bin_start": 0.8,
            "bin_end": 0.9,
            "count": 1
           },
           {
            "bin_start": 0.9,
            "bin_end": 1,
            "count": 1
           }
          ]
         }
        },
        {
         "name": "garbage_chute",
         "dtype": "float64",
         "stats": {
          "unique_count": 3,
          "nan_count": 0,
          "min": "0.0",
          "max": "1.0",
          "histogram": [
           {
            "bin_start": 0,
            "bin_end": 0.1,
            "count": 1
           },
           {
            "bin_start": 0.1,
            "bin_end": 0.2,
            "count": 0
           },
           {
            "bin_start": 0.2,
            "bin_end": 0.30000000000000004,
            "count": 0
           },
           {
            "bin_start": 0.30000000000000004,
            "bin_end": 0.4,
            "count": 0
           },
           {
            "bin_start": 0.4,
            "bin_end": 0.5,
            "count": 0
           },
           {
            "bin_start": 0.5,
            "bin_end": 0.6000000000000001,
            "count": 1
           },
           {
            "bin_start": 0.6000000000000001,
            "bin_end": 0.7000000000000001,
            "count": 0
           },
           {
            "bin_start": 0.7000000000000001,
            "bin_end": 0.8,
            "count": 0
           },
           {
            "bin_start": 0.8,
            "bin_end": 0.9,
            "count": 0
           },
           {
            "bin_start": 0.9,
            "bin_end": 1,
            "count": 3
           }
          ]
         }
        },
        {
         "name": "heating",
         "dtype": "float64",
         "stats": {
          "unique_count": 3,
          "nan_count": 0,
          "min": "0.0",
          "max": "3.0",
          "histogram": [
           {
            "bin_start": 0,
            "bin_end": 0.3,
            "count": 3
           },
           {
            "bin_start": 0.3,
            "bin_end": 0.6,
            "count": 1
           },
           {
            "bin_start": 0.6,
            "bin_end": 0.8999999999999999,
            "count": 0
           },
           {
            "bin_start": 0.8999999999999999,
            "bin_end": 1.2,
            "count": 0
           },
           {
            "bin_start": 1.2,
            "bin_end": 1.5,
            "count": 0
           },
           {
            "bin_start": 1.5,
            "bin_end": 1.7999999999999998,
            "count": 0
           },
           {
            "bin_start": 1.7999999999999998,
            "bin_end": 2.1,
            "count": 0
           },
           {
            "bin_start": 2.1,
            "bin_end": 2.4,
            "count": 0
           },
           {
            "bin_start": 2.4,
            "bin_end": 2.6999999999999997,
            "count": 0
           },
           {
            "bin_start": 2.6999999999999997,
            "bin_end": 3,
            "count": 1
           }
          ]
         }
        },
        {
         "name": "_deepnote_index_column",
         "dtype": "int64"
        }
       ],
       "rows_top": [
        {
         "id": 23285,
         "seller": 2.6,
         "area_total": 71.4,
         "area_kitchen": 13.16,
         "area_living": 29.439999999999998,
         "floor": 2,
         "rooms": 1,
         "layout": 1,
         "ceiling": 2.9739999999999998,
         "bathrooms_shared": 0.8,
         "bathrooms_private": 0.8,
         "windows_court": 1,
         "windows_street": 0,
         "balconies": 1,
         "loggias": 0,
         "condition": 0,
         "phones": 1,
         "building_id": 5148,
         "new": 0,
         "latitude": 55.762247,
         "longitude": 37.549040000000005,
         "district": 0,
         "constructed": 2017,
         "material": 2,
         "stories": 20,
         "elevator_without": 1,
         "elevator_passenger": 1,
         "elevator_service": 1,
         "parking": 0.6,
         "garbage_chute": 1,
         "heating": 0,
         "_deepnote_index_column": 0
        },
        {
         "id": 23286,
         "seller": 0.8,
         "area_total": 54,
         "area_kitchen": 4,
         "area_living": 50,
         "floor": 4,
         "rooms": 1,
         "layout": 1,
         "ceiling": 3,
         "bathrooms_shared": 1,
         "bathrooms_private": 0.6,
         "windows_court": 1,
         "windows_street": 0,
         "balconies": 0.2,
         "loggias": 0.8,
         "condition": 3,
         "phones": 1,
         "building_id": 1290,
         "new": 0,
         "latitude": 55.591467,
         "longitude": 37.452651,
         "district": 11,
         "constructed": 2017,
         "material": 2,
         "stories": 15,
         "elevator_without": 0,
         "elevator_passenger": 1,
         "elevator_service": 1,
         "parking": 0,
         "garbage_chute": 0,
         "heating": 0,
         "_deepnote_index_column": 1
        },
        {
         "id": 23287,
         "seller": 3,
         "area_total": 39.4,
         "area_kitchen": 19.6,
         "area_living": 11.2,
         "floor": 10,
         "rooms": 1,
         "layout": 1,
         "ceiling": 2.65,
         "bathrooms_shared": 1,
         "bathrooms_private": 0,
         "windows_court": 1,
         "windows_street": 0,
         "balconies": 0.2,
         "loggias": 0.8,
         "condition": 1.6,
         "phones": 1,
         "building_id": 681,
         "new": 1,
         "latitude": 55.617017,
         "longitude": 37.413718,
         "district": 11,
         "constructed": 2021,
         "material": 3,
         "stories": 9,
         "elevator_without": 0,
         "elevator_passenger": 1,
         "elevator_service": 1,
         "parking": 1,
         "garbage_chute": 0.6,
         "heating": 0.4,
         "_deepnote_index_column": 2
        },
        {
         "id": 23288,
         "seller": 2.8,
         "area_total": 60.9,
         "area_kitchen": 15.680000000000001,
         "area_living": 55.56,
         "floor": 5,
         "rooms": 2,
         "layout": 1,
         "ceiling": 3.2199999999999998,
         "bathrooms_shared": 1,
         "bathrooms_private": 0,
         "windows_court": 0,
         "windows_street": 1,
         "balconies": 0,
         "loggias": 1,
         "condition": 0,
         "phones": 1,
         "building_id": 4261,
         "new": 0,
         "latitude": 55.569052,
         "longitude": 37.47951,
         "district": 11,
         "constructed": 2014,
         "material": 2,
         "stories": 17,
         "elevator_without": 1,
         "elevator_passenger": 1,
         "elevator_service": 0,
         "parking": 0.2,
         "garbage_chute": 1,
         "heating": 3,
         "_deepnote_index_column": 3
        },
        {
         "id": 23289,
         "seller": 2.8,
         "area_total": 34,
         "area_kitchen": 9,
         "area_living": 17,
         "floor": 14,
         "rooms": 1,
         "layout": 1.2,
         "ceiling": 2.75,
         "bathrooms_shared": 1,
         "bathrooms_private": 0,
         "windows_court": 1,
         "windows_street": 0,
         "balconies": 0,
         "loggias": 1,
         "condition": 1,
         "phones": 1,
         "building_id": 7530,
         "new": 0,
         "latitude": 55.518041,
         "longitude": 37.343829,
         "district": 11,
         "constructed": 2016,
         "material": 2,
         "stories": 17,
         "elevator_without": 0,
         "elevator_passenger": 1,
         "elevator_service": 1,
         "parking": 0.8,
         "garbage_chute": 1,
         "heating": 0,
         "_deepnote_index_column": 4
        }
       ],
       "rows_bottom": null
      },
      "text/plain": "        id  seller  area_total  area_kitchen  area_living  floor  rooms  \\\n0  23285.0     2.6        71.4         13.16        29.44    2.0    1.0   \n1  23286.0     0.8        54.0          4.00        50.00    4.0    1.0   \n2  23287.0     3.0        39.4         19.60        11.20   10.0    1.0   \n3  23288.0     2.8        60.9         15.68        55.56    5.0    2.0   \n4  23289.0     2.8        34.0          9.00        17.00   14.0    1.0   \n\n   layout  ceiling  bathrooms_shared  ...  district  constructed  material  \\\n0     1.0    2.974               0.8  ...       0.0       2017.0       2.0   \n1     1.0    3.000               1.0  ...      11.0       2017.0       2.0   \n2     1.0    2.650               1.0  ...      11.0       2021.0       3.0   \n3     1.0    3.220               1.0  ...      11.0       2014.0       2.0   \n4     1.2    2.750               1.0  ...      11.0       2016.0       2.0   \n\n   stories  elevator_without  elevator_passenger  elevator_service  parking  \\\n0     20.0               1.0                 1.0               1.0      0.6   \n1     15.0               0.0                 1.0               1.0      0.0   \n2      9.0               0.0                 1.0               1.0      1.0   \n3     17.0               1.0                 1.0               0.0      0.2   \n4     17.0               0.0                 1.0               1.0      0.8   \n\n   garbage_chute  heating  \n0            1.0      0.0  \n1            0.0      0.0  \n2            0.6      0.4  \n3            1.0      3.0  \n4            1.0      0.0  \n\n[5 rows x 31 columns]",
      "text/html": "<div>\n<style scoped>\n    .dataframe tbody tr th:only-of-type {\n        vertical-align: middle;\n    }\n\n    .dataframe tbody tr th {\n        vertical-align: top;\n    }\n\n    .dataframe thead th {\n        text-align: right;\n    }\n</style>\n<table border=\"1\" class=\"dataframe\">\n  <thead>\n    <tr style=\"text-align: right;\">\n      <th></th>\n      <th>id</th>\n      <th>seller</th>\n      <th>area_total</th>\n      <th>area_kitchen</th>\n      <th>area_living</th>\n      <th>floor</th>\n      <th>rooms</th>\n      <th>layout</th>\n      <th>ceiling</th>\n      <th>bathrooms_shared</th>\n      <th>...</th>\n      <th>district</th>\n      <th>constructed</th>\n      <th>material</th>\n      <th>stories</th>\n      <th>elevator_without</th>\n      <th>elevator_passenger</th>\n      <th>elevator_service</th>\n      <th>parking</th>\n      <th>garbage_chute</th>\n      <th>heating</th>\n    </tr>\n  </thead>\n  <tbody>\n    <tr>\n      <th>0</th>\n      <td>23285.0</td>\n      <td>2.6</td>\n      <td>71.4</td>\n      <td>13.16</td>\n      <td>29.44</td>\n      <td>2.0</td>\n      <td>1.0</td>\n      <td>1.0</td>\n      <td>2.974</td>\n      <td>0.8</td>\n      <td>...</td>\n      <td>0.0</td>\n      <td>2017.0</td>\n      <td>2.0</td>\n      <td>20.0</td>\n      <td>1.0</td>\n      <td>1.0</td>\n      <td>1.0</td>\n      <td>0.6</td>\n      <td>1.0</td>\n      <td>0.0</td>\n    </tr>\n    <tr>\n      <th>1</th>\n      <td>23286.0</td>\n      <td>0.8</td>\n      <td>54.0</td>\n      <td>4.00</td>\n      <td>50.00</td>\n      <td>4.0</td>\n      <td>1.0</td>\n      <td>1.0</td>\n      <td>3.000</td>\n      <td>1.0</td>\n      <td>...</td>\n      <td>11.0</td>\n      <td>2017.0</td>\n      <td>2.0</td>\n      <td>15.0</td>\n      <td>0.0</td>\n      <td>1.0</td>\n      <td>1.0</td>\n      <td>0.0</td>\n      <td>0.0</td>\n      <td>0.0</td>\n    </tr>\n    <tr>\n      <th>2</th>\n      <td>23287.0</td>\n      <td>3.0</td>\n      <td>39.4</td>\n      <td>19.60</td>\n      <td>11.20</td>\n      <td>10.0</td>\n      <td>1.0</td>\n      <td>1.0</td>\n      <td>2.650</td>\n      <td>1.0</td>\n      <td>...</td>\n      <td>11.0</td>\n      <td>2021.0</td>\n      <td>3.0</td>\n      <td>9.0</td>\n      <td>0.0</td>\n      <td>1.0</td>\n      <td>1.0</td>\n      <td>1.0</td>\n      <td>0.6</td>\n      <td>0.4</td>\n    </tr>\n    <tr>\n      <th>3</th>\n      <td>23288.0</td>\n      <td>2.8</td>\n      <td>60.9</td>\n      <td>15.68</td>\n      <td>55.56</td>\n      <td>5.0</td>\n      <td>2.0</td>\n      <td>1.0</td>\n      <td>3.220</td>\n      <td>1.0</td>\n      <td>...</td>\n      <td>11.0</td>\n      <td>2014.0</td>\n      <td>2.0</td>\n      <td>17.0</td>\n      <td>1.0</td>\n      <td>1.0</td>\n      <td>0.0</td>\n      <td>0.2</td>\n      <td>1.0</td>\n      <td>3.0</td>\n    </tr>\n    <tr>\n      <th>4</th>\n      <td>23289.0</td>\n      <td>2.8</td>\n      <td>34.0</td>\n      <td>9.00</td>\n      <td>17.00</td>\n      <td>14.0</td>\n      <td>1.0</td>\n      <td>1.2</td>\n      <td>2.750</td>\n      <td>1.0</td>\n      <td>...</td>\n      <td>11.0</td>\n      <td>2016.0</td>\n      <td>2.0</td>\n      <td>17.0</td>\n      <td>0.0</td>\n      <td>1.0</td>\n      <td>1.0</td>\n      <td>0.8</td>\n      <td>1.0</td>\n      <td>0.0</td>\n    </tr>\n  </tbody>\n</table>\n<p>5 rows × 31 columns</p>\n</div>"
     },
     "metadata": {}
    }
   ],
   "execution_count": null
  },
  {
   "cell_type": "code",
   "metadata": {
    "tags": [],
    "deepnote_to_be_reexecuted": false,
    "source_hash": "917c53db",
    "execution_start": 1637273481000,
    "execution_millis": 4,
    "deepnote_output_heights": [
     null,
     20.90625
    ],
    "cell_id": "00015-9235778a-b703-435a-bb17-279fdfcb9ada",
    "deepnote_cell_type": "code"
   },
   "source": "#names = list(df0.columns.values)\nprint(names)\n#names.remove('street')\n#print(names)\n#list1 = [21, 20, 5, 4, 3, 2, 0]\n#list1 = [20, 19, 5, 4, 3, 2, 0]\nnames = ['seller', 'floor', 'rooms', 'layout', 'ceiling', \n'bathrooms_shared', 'bathrooms_private', 'windows_court', 'windows_street', 'balconies', 'loggias', 'condition', \n'phones', 'building_id', 'new', 'district', 'constructed', 'material', 'stories', 'elevator_without', \n'elevator_passenger', 'elevator_service', 'parking', 'garbage_chute', 'heating']\n",
   "outputs": [
    {
     "name": "stdout",
     "text": "['id', 'seller', 'area_total', 'area_kitchen', 'area_living', 'floor', 'rooms', 'layout', 'ceiling', 'bathrooms_shared', 'bathrooms_private', 'windows_court', 'windows_street', 'balconies', 'loggias', 'condition', 'phones', 'building_id', 'new', 'latitude', 'longitude', 'district', 'constructed', 'material', 'stories', 'elevator_without', 'elevator_passenger', 'elevator_service', 'parking', 'garbage_chute', 'heating']\n['seller', 'rooms', 'layout', 'ceiling', 'bathrooms_shared', 'bathrooms_private', 'windows_court', 'windows_street', 'balconies', 'loggias', 'condition', 'phones', 'building_id', 'new', 'district', 'constructed', 'material', 'stories', 'elevator_without', 'elevator_passenger', 'elevator_service', 'parking', 'garbage_chute', 'heating']\n",
     "output_type": "stream"
    }
   ],
   "execution_count": null
  },
  {
   "cell_type": "code",
   "metadata": {
    "tags": [],
    "deepnote_to_be_reexecuted": false,
    "source_hash": "df367b46",
    "execution_start": 1637273481041,
    "execution_millis": 28,
    "cell_id": "00016-88baf39e-2ddb-4a69-85ef-e37939b4f2e2",
    "deepnote_cell_type": "code"
   },
   "source": "for x in names:\n    df1[x] = df1[x].round(decimals = 0)\n    df1[x] = df1[x].astype(int)",
   "outputs": [],
   "execution_count": null
  },
  {
   "cell_type": "code",
   "metadata": {
    "tags": [],
    "deepnote_to_be_reexecuted": false,
    "source_hash": "daefe0a9",
    "execution_start": 1637273481075,
    "execution_millis": 264,
    "cell_id": "00017-25ab83dc-e6f9-48b0-8b06-170cf6643171",
    "deepnote_cell_type": "code"
   },
   "source": "\ndf1['id'] = df1['id'].astype(int)\ndf1['street'] = df.street\ndf1.head()",
   "outputs": [
    {
     "output_type": "execute_result",
     "execution_count": 18,
     "data": {
      "application/vnd.deepnote.dataframe.v2+json": {
       "row_count": 5,
       "column_count": 32,
       "columns": [
        {
         "name": "id",
         "dtype": "int64",
         "stats": {
          "unique_count": 5,
          "nan_count": 0,
          "min": "23285",
          "max": "23289",
          "histogram": [
           {
            "bin_start": 23285,
            "bin_end": 23285.4,
            "count": 1
           },
           {
            "bin_start": 23285.4,
            "bin_end": 23285.8,
            "count": 0
           },
           {
            "bin_start": 23285.8,
            "bin_end": 23286.2,
            "count": 1
           },
           {
            "bin_start": 23286.2,
            "bin_end": 23286.6,
            "count": 0
           },
           {
            "bin_start": 23286.6,
            "bin_end": 23287,
            "count": 0
           },
           {
            "bin_start": 23287,
            "bin_end": 23287.4,
            "count": 1
           },
           {
            "bin_start": 23287.4,
            "bin_end": 23287.8,
            "count": 0
           },
           {
            "bin_start": 23287.8,
            "bin_end": 23288.2,
            "count": 1
           },
           {
            "bin_start": 23288.2,
            "bin_end": 23288.6,
            "count": 0
           },
           {
            "bin_start": 23288.6,
            "bin_end": 23289,
            "count": 1
           }
          ]
         }
        },
        {
         "name": "seller",
         "dtype": "int64",
         "stats": {
          "unique_count": 2,
          "nan_count": 0,
          "min": "1",
          "max": "3",
          "histogram": [
           {
            "bin_start": 1,
            "bin_end": 1.2,
            "count": 1
           },
           {
            "bin_start": 1.2,
            "bin_end": 1.4,
            "count": 0
           },
           {
            "bin_start": 1.4,
            "bin_end": 1.6,
            "count": 0
           },
           {
            "bin_start": 1.6,
            "bin_end": 1.8,
            "count": 0
           },
           {
            "bin_start": 1.8,
            "bin_end": 2,
            "count": 0
           },
           {
            "bin_start": 2,
            "bin_end": 2.2,
            "count": 0
           },
           {
            "bin_start": 2.2,
            "bin_end": 2.4000000000000004,
            "count": 0
           },
           {
            "bin_start": 2.4000000000000004,
            "bin_end": 2.6,
            "count": 0
           },
           {
            "bin_start": 2.6,
            "bin_end": 2.8,
            "count": 0
           },
           {
            "bin_start": 2.8,
            "bin_end": 3,
            "count": 4
           }
          ]
         }
        },
        {
         "name": "area_total",
         "dtype": "float64",
         "stats": {
          "unique_count": 5,
          "nan_count": 0,
          "min": "34.0",
          "max": "71.4",
          "histogram": [
           {
            "bin_start": 34,
            "bin_end": 37.74,
            "count": 1
           },
           {
            "bin_start": 37.74,
            "bin_end": 41.480000000000004,
            "count": 1
           },
           {
            "bin_start": 41.480000000000004,
            "bin_end": 45.22,
            "count": 0
           },
           {
            "bin_start": 45.22,
            "bin_end": 48.96,
            "count": 0
           },
           {
            "bin_start": 48.96,
            "bin_end": 52.7,
            "count": 0
           },
           {
            "bin_start": 52.7,
            "bin_end": 56.440000000000005,
            "count": 1
           },
           {
            "bin_start": 56.440000000000005,
            "bin_end": 60.18000000000001,
            "count": 0
           },
           {
            "bin_start": 60.18000000000001,
            "bin_end": 63.92,
            "count": 1
           },
           {
            "bin_start": 63.92,
            "bin_end": 67.66,
            "count": 0
           },
           {
            "bin_start": 67.66,
            "bin_end": 71.4,
            "count": 1
           }
          ]
         }
        },
        {
         "name": "area_kitchen",
         "dtype": "float64",
         "stats": {
          "unique_count": 5,
          "nan_count": 0,
          "min": "4.0",
          "max": "19.6",
          "histogram": [
           {
            "bin_start": 4,
            "bin_end": 5.5600000000000005,
            "count": 1
           },
           {
            "bin_start": 5.5600000000000005,
            "bin_end": 7.12,
            "count": 0
           },
           {
            "bin_start": 7.12,
            "bin_end": 8.68,
            "count": 0
           },
           {
            "bin_start": 8.68,
            "bin_end": 10.24,
            "count": 1
           },
           {
            "bin_start": 10.24,
            "bin_end": 11.8,
            "count": 0
           },
           {
            "bin_start": 11.8,
            "bin_end": 13.36,
            "count": 1
           },
           {
            "bin_start": 13.36,
            "bin_end": 14.92,
            "count": 0
           },
           {
            "bin_start": 14.92,
            "bin_end": 16.48,
            "count": 1
           },
           {
            "bin_start": 16.48,
            "bin_end": 18.04,
            "count": 0
           },
           {
            "bin_start": 18.04,
            "bin_end": 19.6,
            "count": 1
           }
          ]
         }
        },
        {
         "name": "area_living",
         "dtype": "float64",
         "stats": {
          "unique_count": 5,
          "nan_count": 0,
          "min": "11.2",
          "max": "55.56",
          "histogram": [
           {
            "bin_start": 11.2,
            "bin_end": 15.636,
            "count": 1
           },
           {
            "bin_start": 15.636,
            "bin_end": 20.072,
            "count": 1
           },
           {
            "bin_start": 20.072,
            "bin_end": 24.508,
            "count": 0
           },
           {
            "bin_start": 24.508,
            "bin_end": 28.944,
            "count": 0
           },
           {
            "bin_start": 28.944,
            "bin_end": 33.379999999999995,
            "count": 1
           },
           {
            "bin_start": 33.379999999999995,
            "bin_end": 37.816,
            "count": 0
           },
           {
            "bin_start": 37.816,
            "bin_end": 42.251999999999995,
            "count": 0
           },
           {
            "bin_start": 42.251999999999995,
            "bin_end": 46.688,
            "count": 0
           },
           {
            "bin_start": 46.688,
            "bin_end": 51.123999999999995,
            "count": 1
           },
           {
            "bin_start": 51.123999999999995,
            "bin_end": 55.56,
            "count": 1
           }
          ]
         }
        },
        {
         "name": "floor",
         "dtype": "float64",
         "stats": {
          "unique_count": 5,
          "nan_count": 0,
          "min": "2.0",
          "max": "14.0",
          "histogram": [
           {
            "bin_start": 2,
            "bin_end": 3.2,
            "count": 1
           },
           {
            "bin_start": 3.2,
            "bin_end": 4.4,
            "count": 1
           },
           {
            "bin_start": 4.4,
            "bin_end": 5.6,
            "count": 1
           },
           {
            "bin_start": 5.6,
            "bin_end": 6.8,
            "count": 0
           },
           {
            "bin_start": 6.8,
            "bin_end": 8,
            "count": 0
           },
           {
            "bin_start": 8,
            "bin_end": 9.2,
            "count": 0
           },
           {
            "bin_start": 9.2,
            "bin_end": 10.4,
            "count": 1
           },
           {
            "bin_start": 10.4,
            "bin_end": 11.6,
            "count": 0
           },
           {
            "bin_start": 11.6,
            "bin_end": 12.799999999999999,
            "count": 0
           },
           {
            "bin_start": 12.799999999999999,
            "bin_end": 14,
            "count": 1
           }
          ]
         }
        },
        {
         "name": "rooms",
         "dtype": "int64",
         "stats": {
          "unique_count": 2,
          "nan_count": 0,
          "min": "1",
          "max": "2",
          "histogram": [
           {
            "bin_start": 1,
            "bin_end": 1.1,
            "count": 4
           },
           {
            "bin_start": 1.1,
            "bin_end": 1.2,
            "count": 0
           },
           {
            "bin_start": 1.2,
            "bin_end": 1.3,
            "count": 0
           },
           {
            "bin_start": 1.3,
            "bin_end": 1.4,
            "count": 0
           },
           {
            "bin_start": 1.4,
            "bin_end": 1.5,
            "count": 0
           },
           {
            "bin_start": 1.5,
            "bin_end": 1.6,
            "count": 0
           },
           {
            "bin_start": 1.6,
            "bin_end": 1.7000000000000002,
            "count": 0
           },
           {
            "bin_start": 1.7000000000000002,
            "bin_end": 1.8,
            "count": 0
           },
           {
            "bin_start": 1.8,
            "bin_end": 1.9,
            "count": 0
           },
           {
            "bin_start": 1.9,
            "bin_end": 2,
            "count": 1
           }
          ]
         }
        },
        {
         "name": "layout",
         "dtype": "int64",
         "stats": {
          "unique_count": 1,
          "nan_count": 0,
          "min": "1",
          "max": "1",
          "histogram": [
           {
            "bin_start": 0.5,
            "bin_end": 0.6,
            "count": 0
           },
           {
            "bin_start": 0.6,
            "bin_end": 0.7,
            "count": 0
           },
           {
            "bin_start": 0.7,
            "bin_end": 0.8,
            "count": 0
           },
           {
            "bin_start": 0.8,
            "bin_end": 0.9,
            "count": 0
           },
           {
            "bin_start": 0.9,
            "bin_end": 1,
            "count": 0
           },
           {
            "bin_start": 1,
            "bin_end": 1.1,
            "count": 5
           },
           {
            "bin_start": 1.1,
            "bin_end": 1.2000000000000002,
            "count": 0
           },
           {
            "bin_start": 1.2000000000000002,
            "bin_end": 1.3,
            "count": 0
           },
           {
            "bin_start": 1.3,
            "bin_end": 1.4,
            "count": 0
           },
           {
            "bin_start": 1.4,
            "bin_end": 1.5,
            "count": 0
           }
          ]
         }
        },
        {
         "name": "ceiling",
         "dtype": "int64",
         "stats": {
          "unique_count": 1,
          "nan_count": 0,
          "min": "3",
          "max": "3",
          "histogram": [
           {
            "bin_start": 2.5,
            "bin_end": 2.6,
            "count": 0
           },
           {
            "bin_start": 2.6,
            "bin_end": 2.7,
            "count": 0
           },
           {
            "bin_start": 2.7,
            "bin_end": 2.8,
            "count": 0
           },
           {
            "bin_start": 2.8,
            "bin_end": 2.9,
            "count": 0
           },
           {
            "bin_start": 2.9,
            "bin_end": 3,
            "count": 0
           },
           {
            "bin_start": 3,
            "bin_end": 3.1,
            "count": 5
           },
           {
            "bin_start": 3.1,
            "bin_end": 3.2,
            "count": 0
           },
           {
            "bin_start": 3.2,
            "bin_end": 3.3,
            "count": 0
           },
           {
            "bin_start": 3.3,
            "bin_end": 3.4,
            "count": 0
           },
           {
            "bin_start": 3.4,
            "bin_end": 3.5,
            "count": 0
           }
          ]
         }
        },
        {
         "name": "bathrooms_shared",
         "dtype": "int64",
         "stats": {
          "unique_count": 1,
          "nan_count": 0,
          "min": "1",
          "max": "1",
          "histogram": [
           {
            "bin_start": 0.5,
            "bin_end": 0.6,
            "count": 0
           },
           {
            "bin_start": 0.6,
            "bin_end": 0.7,
            "count": 0
           },
           {
            "bin_start": 0.7,
            "bin_end": 0.8,
            "count": 0
           },
           {
            "bin_start": 0.8,
            "bin_end": 0.9,
            "count": 0
           },
           {
            "bin_start": 0.9,
            "bin_end": 1,
            "count": 0
           },
           {
            "bin_start": 1,
            "bin_end": 1.1,
            "count": 5
           },
           {
            "bin_start": 1.1,
            "bin_end": 1.2000000000000002,
            "count": 0
           },
           {
            "bin_start": 1.2000000000000002,
            "bin_end": 1.3,
            "count": 0
           },
           {
            "bin_start": 1.3,
            "bin_end": 1.4,
            "count": 0
           },
           {
            "bin_start": 1.4,
            "bin_end": 1.5,
            "count": 0
           }
          ]
         }
        },
        {
         "name": "bathrooms_private",
         "dtype": "int64",
         "stats": {
          "unique_count": 2,
          "nan_count": 0,
          "min": "0",
          "max": "1",
          "histogram": [
           {
            "bin_start": 0,
            "bin_end": 0.1,
            "count": 3
           },
           {
            "bin_start": 0.1,
            "bin_end": 0.2,
            "count": 0
           },
           {
            "bin_start": 0.2,
            "bin_end": 0.30000000000000004,
            "count": 0
           },
           {
            "bin_start": 0.30000000000000004,
            "bin_end": 0.4,
            "count": 0
           },
           {
            "bin_start": 0.4,
            "bin_end": 0.5,
            "count": 0
           },
           {
            "bin_start": 0.5,
            "bin_end": 0.6000000000000001,
            "count": 0
           },
           {
            "bin_start": 0.6000000000000001,
            "bin_end": 0.7000000000000001,
            "count": 0
           },
           {
            "bin_start": 0.7000000000000001,
            "bin_end": 0.8,
            "count": 0
           },
           {
            "bin_start": 0.8,
            "bin_end": 0.9,
            "count": 0
           },
           {
            "bin_start": 0.9,
            "bin_end": 1,
            "count": 2
           }
          ]
         }
        },
        {
         "name": "windows_court",
         "dtype": "int64",
         "stats": {
          "unique_count": 2,
          "nan_count": 0,
          "min": "0",
          "max": "1",
          "histogram": [
           {
            "bin_start": 0,
            "bin_end": 0.1,
            "count": 1
           },
           {
            "bin_start": 0.1,
            "bin_end": 0.2,
            "count": 0
           },
           {
            "bin_start": 0.2,
            "bin_end": 0.30000000000000004,
            "count": 0
           },
           {
            "bin_start": 0.30000000000000004,
            "bin_end": 0.4,
            "count": 0
           },
           {
            "bin_start": 0.4,
            "bin_end": 0.5,
            "count": 0
           },
           {
            "bin_start": 0.5,
            "bin_end": 0.6000000000000001,
            "count": 0
           },
           {
            "bin_start": 0.6000000000000001,
            "bin_end": 0.7000000000000001,
            "count": 0
           },
           {
            "bin_start": 0.7000000000000001,
            "bin_end": 0.8,
            "count": 0
           },
           {
            "bin_start": 0.8,
            "bin_end": 0.9,
            "count": 0
           },
           {
            "bin_start": 0.9,
            "bin_end": 1,
            "count": 4
           }
          ]
         }
        },
        {
         "name": "windows_street",
         "dtype": "int64",
         "stats": {
          "unique_count": 2,
          "nan_count": 0,
          "min": "0",
          "max": "1",
          "histogram": [
           {
            "bin_start": 0,
            "bin_end": 0.1,
            "count": 4
           },
           {
            "bin_start": 0.1,
            "bin_end": 0.2,
            "count": 0
           },
           {
            "bin_start": 0.2,
            "bin_end": 0.30000000000000004,
            "count": 0
           },
           {
            "bin_start": 0.30000000000000004,
            "bin_end": 0.4,
            "count": 0
           },
           {
            "bin_start": 0.4,
            "bin_end": 0.5,
            "count": 0
           },
           {
            "bin_start": 0.5,
            "bin_end": 0.6000000000000001,
            "count": 0
           },
           {
            "bin_start": 0.6000000000000001,
            "bin_end": 0.7000000000000001,
            "count": 0
           },
           {
            "bin_start": 0.7000000000000001,
            "bin_end": 0.8,
            "count": 0
           },
           {
            "bin_start": 0.8,
            "bin_end": 0.9,
            "count": 0
           },
           {
            "bin_start": 0.9,
            "bin_end": 1,
            "count": 1
           }
          ]
         }
        },
        {
         "name": "balconies",
         "dtype": "int64",
         "stats": {
          "unique_count": 2,
          "nan_count": 0,
          "min": "0",
          "max": "1",
          "histogram": [
           {
            "bin_start": 0,
            "bin_end": 0.1,
            "count": 4
           },
           {
            "bin_start": 0.1,
            "bin_end": 0.2,
            "count": 0
           },
           {
            "bin_start": 0.2,
            "bin_end": 0.30000000000000004,
            "count": 0
           },
           {
            "bin_start": 0.30000000000000004,
            "bin_end": 0.4,
            "count": 0
           },
           {
            "bin_start": 0.4,
            "bin_end": 0.5,
            "count": 0
           },
           {
            "bin_start": 0.5,
            "bin_end": 0.6000000000000001,
            "count": 0
           },
           {
            "bin_start": 0.6000000000000001,
            "bin_end": 0.7000000000000001,
            "count": 0
           },
           {
            "bin_start": 0.7000000000000001,
            "bin_end": 0.8,
            "count": 0
           },
           {
            "bin_start": 0.8,
            "bin_end": 0.9,
            "count": 0
           },
           {
            "bin_start": 0.9,
            "bin_end": 1,
            "count": 1
           }
          ]
         }
        },
        {
         "name": "loggias",
         "dtype": "int64",
         "stats": {
          "unique_count": 2,
          "nan_count": 0,
          "min": "0",
          "max": "1",
          "histogram": [
           {
            "bin_start": 0,
            "bin_end": 0.1,
            "count": 1
           },
           {
            "bin_start": 0.1,
            "bin_end": 0.2,
            "count": 0
           },
           {
            "bin_start": 0.2,
            "bin_end": 0.30000000000000004,
            "count": 0
           },
           {
            "bin_start": 0.30000000000000004,
            "bin_end": 0.4,
            "count": 0
           },
           {
            "bin_start": 0.4,
            "bin_end": 0.5,
            "count": 0
           },
           {
            "bin_start": 0.5,
            "bin_end": 0.6000000000000001,
            "count": 0
           },
           {
            "bin_start": 0.6000000000000001,
            "bin_end": 0.7000000000000001,
            "count": 0
           },
           {
            "bin_start": 0.7000000000000001,
            "bin_end": 0.8,
            "count": 0
           },
           {
            "bin_start": 0.8,
            "bin_end": 0.9,
            "count": 0
           },
           {
            "bin_start": 0.9,
            "bin_end": 1,
            "count": 4
           }
          ]
         }
        },
        {
         "name": "condition",
         "dtype": "int64",
         "stats": {
          "unique_count": 4,
          "nan_count": 0,
          "min": "0",
          "max": "3",
          "histogram": [
           {
            "bin_start": 0,
            "bin_end": 0.3,
            "count": 2
           },
           {
            "bin_start": 0.3,
            "bin_end": 0.6,
            "count": 0
           },
           {
            "bin_start": 0.6,
            "bin_end": 0.8999999999999999,
            "count": 0
           },
           {
            "bin_start": 0.8999999999999999,
            "bin_end": 1.2,
            "count": 1
           },
           {
            "bin_start": 1.2,
            "bin_end": 1.5,
            "count": 0
           },
           {
            "bin_start": 1.5,
            "bin_end": 1.7999999999999998,
            "count": 0
           },
           {
            "bin_start": 1.7999999999999998,
            "bin_end": 2.1,
            "count": 1
           },
           {
            "bin_start": 2.1,
            "bin_end": 2.4,
            "count": 0
           },
           {
            "bin_start": 2.4,
            "bin_end": 2.6999999999999997,
            "count": 0
           },
           {
            "bin_start": 2.6999999999999997,
            "bin_end": 3,
            "count": 1
           }
          ]
         }
        },
        {
         "name": "phones",
         "dtype": "int64",
         "stats": {
          "unique_count": 1,
          "nan_count": 0,
          "min": "1",
          "max": "1",
          "histogram": [
           {
            "bin_start": 0.5,
            "bin_end": 0.6,
            "count": 0
           },
           {
            "bin_start": 0.6,
            "bin_end": 0.7,
            "count": 0
           },
           {
            "bin_start": 0.7,
            "bin_end": 0.8,
            "count": 0
           },
           {
            "bin_start": 0.8,
            "bin_end": 0.9,
            "count": 0
           },
           {
            "bin_start": 0.9,
            "bin_end": 1,
            "count": 0
           },
           {
            "bin_start": 1,
            "bin_end": 1.1,
            "count": 5
           },
           {
            "bin_start": 1.1,
            "bin_end": 1.2000000000000002,
            "count": 0
           },
           {
            "bin_start": 1.2000000000000002,
            "bin_end": 1.3,
            "count": 0
           },
           {
            "bin_start": 1.3,
            "bin_end": 1.4,
            "count": 0
           },
           {
            "bin_start": 1.4,
            "bin_end": 1.5,
            "count": 0
           }
          ]
         }
        },
        {
         "name": "building_id",
         "dtype": "int64",
         "stats": {
          "unique_count": 5,
          "nan_count": 0,
          "min": "681",
          "max": "7530",
          "histogram": [
           {
            "bin_start": 681,
            "bin_end": 1365.9,
            "count": 2
           },
           {
            "bin_start": 1365.9,
            "bin_end": 2050.8,
            "count": 0
           },
           {
            "bin_start": 2050.8,
            "bin_end": 2735.7,
            "count": 0
           },
           {
            "bin_start": 2735.7,
            "bin_end": 3420.6,
            "count": 0
           },
           {
            "bin_start": 3420.6,
            "bin_end": 4105.5,
            "count": 0
           },
           {
            "bin_start": 4105.5,
            "bin_end": 4790.4,
            "count": 1
           },
           {
            "bin_start": 4790.4,
            "bin_end": 5475.3,
            "count": 1
           },
           {
            "bin_start": 5475.3,
            "bin_end": 6160.2,
            "count": 0
           },
           {
            "bin_start": 6160.2,
            "bin_end": 6845.099999999999,
            "count": 0
           },
           {
            "bin_start": 6845.099999999999,
            "bin_end": 7530,
            "count": 1
           }
          ]
         }
        },
        {
         "name": "new",
         "dtype": "int64",
         "stats": {
          "unique_count": 2,
          "nan_count": 0,
          "min": "0",
          "max": "1",
          "histogram": [
           {
            "bin_start": 0,
            "bin_end": 0.1,
            "count": 4
           },
           {
            "bin_start": 0.1,
            "bin_end": 0.2,
            "count": 0
           },
           {
            "bin_start": 0.2,
            "bin_end": 0.30000000000000004,
            "count": 0
           },
           {
            "bin_start": 0.30000000000000004,
            "bin_end": 0.4,
            "count": 0
           },
           {
            "bin_start": 0.4,
            "bin_end": 0.5,
            "count": 0
           },
           {
            "bin_start": 0.5,
            "bin_end": 0.6000000000000001,
            "count": 0
           },
           {
            "bin_start": 0.6000000000000001,
            "bin_end": 0.7000000000000001,
            "count": 0
           },
           {
            "bin_start": 0.7000000000000001,
            "bin_end": 0.8,
            "count": 0
           },
           {
            "bin_start": 0.8,
            "bin_end": 0.9,
            "count": 0
           },
           {
            "bin_start": 0.9,
            "bin_end": 1,
            "count": 1
           }
          ]
         }
        },
        {
         "name": "latitude",
         "dtype": "float64",
         "stats": {
          "unique_count": 5,
          "nan_count": 0,
          "min": "55.518041",
          "max": "55.762247",
          "histogram": [
           {
            "bin_start": 55.518041,
            "bin_end": 55.542461599999996,
            "count": 1
           },
           {
            "bin_start": 55.542461599999996,
            "bin_end": 55.566882199999995,
            "count": 0
           },
           {
            "bin_start": 55.566882199999995,
            "bin_end": 55.5913028,
            "count": 1
           },
           {
            "bin_start": 55.5913028,
            "bin_end": 55.6157234,
            "count": 1
           },
           {
            "bin_start": 55.6157234,
            "bin_end": 55.640144,
            "count": 1
           },
           {
            "bin_start": 55.640144,
            "bin_end": 55.6645646,
            "count": 0
           },
           {
            "bin_start": 55.6645646,
            "bin_end": 55.6889852,
            "count": 0
           },
           {
            "bin_start": 55.6889852,
            "bin_end": 55.713405800000004,
            "count": 0
           },
           {
            "bin_start": 55.713405800000004,
            "bin_end": 55.7378264,
            "count": 0
           },
           {
            "bin_start": 55.7378264,
            "bin_end": 55.762247,
            "count": 1
           }
          ]
         }
        },
        {
         "name": "longitude",
         "dtype": "float64",
         "stats": {
          "unique_count": 5,
          "nan_count": 0,
          "min": "37.343829",
          "max": "37.549040000000005",
          "histogram": [
           {
            "bin_start": 37.343829,
            "bin_end": 37.3643501,
            "count": 1
           },
           {
            "bin_start": 37.3643501,
            "bin_end": 37.3848712,
            "count": 0
           },
           {
            "bin_start": 37.3848712,
            "bin_end": 37.4053923,
            "count": 0
           },
           {
            "bin_start": 37.4053923,
            "bin_end": 37.4259134,
            "count": 1
           },
           {
            "bin_start": 37.4259134,
            "bin_end": 37.4464345,
            "count": 0
           },
           {
            "bin_start": 37.4464345,
            "bin_end": 37.466955600000006,
            "count": 1
           },
           {
            "bin_start": 37.466955600000006,
            "bin_end": 37.4874767,
            "count": 1
           },
           {
            "bin_start": 37.4874767,
            "bin_end": 37.507997800000005,
            "count": 0
           },
           {
            "bin_start": 37.507997800000005,
            "bin_end": 37.5285189,
            "count": 0
           },
           {
            "bin_start": 37.5285189,
            "bin_end": 37.549040000000005,
            "count": 1
           }
          ]
         }
        },
        {
         "name": "district",
         "dtype": "int64",
         "stats": {
          "unique_count": 2,
          "nan_count": 0,
          "min": "0",
          "max": "11",
          "histogram": [
           {
            "bin_start": 0,
            "bin_end": 1.1,
            "count": 1
           },
           {
            "bin_start": 1.1,
            "bin_end": 2.2,
            "count": 0
           },
           {
            "bin_start": 2.2,
            "bin_end": 3.3000000000000003,
            "count": 0
           },
           {
            "bin_start": 3.3000000000000003,
            "bin_end": 4.4,
            "count": 0
           },
           {
            "bin_start": 4.4,
            "bin_end": 5.5,
            "count": 0
           },
           {
            "bin_start": 5.5,
            "bin_end": 6.6000000000000005,
            "count": 0
           },
           {
            "bin_start": 6.6000000000000005,
            "bin_end": 7.700000000000001,
            "count": 0
           },
           {
            "bin_start": 7.700000000000001,
            "bin_end": 8.8,
            "count": 0
           },
           {
            "bin_start": 8.8,
            "bin_end": 9.9,
            "count": 0
           },
           {
            "bin_start": 9.9,
            "bin_end": 11,
            "count": 4
           }
          ]
         }
        },
        {
         "name": "constructed",
         "dtype": "int64",
         "stats": {
          "unique_count": 4,
          "nan_count": 0,
          "min": "2014",
          "max": "2021",
          "histogram": [
           {
            "bin_start": 2014,
            "bin_end": 2014.7,
            "count": 1
           },
           {
            "bin_start": 2014.7,
            "bin_end": 2015.4,
            "count": 0
           },
           {
            "bin_start": 2015.4,
            "bin_end": 2016.1,
            "count": 1
           },
           {
            "bin_start": 2016.1,
            "bin_end": 2016.8,
            "count": 0
           },
           {
            "bin_start": 2016.8,
            "bin_end": 2017.5,
            "count": 2
           },
           {
            "bin_start": 2017.5,
            "bin_end": 2018.2,
            "count": 0
           },
           {
            "bin_start": 2018.2,
            "bin_end": 2018.9,
            "count": 0
           },
           {
            "bin_start": 2018.9,
            "bin_end": 2019.6,
            "count": 0
           },
           {
            "bin_start": 2019.6,
            "bin_end": 2020.3,
            "count": 0
           },
           {
            "bin_start": 2020.3,
            "bin_end": 2021,
            "count": 1
           }
          ]
         }
        },
        {
         "name": "material",
         "dtype": "int64",
         "stats": {
          "unique_count": 2,
          "nan_count": 0,
          "min": "2",
          "max": "3",
          "histogram": [
           {
            "bin_start": 2,
            "bin_end": 2.1,
            "count": 4
           },
           {
            "bin_start": 2.1,
            "bin_end": 2.2,
            "count": 0
           },
           {
            "bin_start": 2.2,
            "bin_end": 2.3,
            "count": 0
           },
           {
            "bin_start": 2.3,
            "bin_end": 2.4,
            "count": 0
           },
           {
            "bin_start": 2.4,
            "bin_end": 2.5,
            "count": 0
           },
           {
            "bin_start": 2.5,
            "bin_end": 2.6,
            "count": 0
           },
           {
            "bin_start": 2.6,
            "bin_end": 2.7,
            "count": 0
           },
           {
            "bin_start": 2.7,
            "bin_end": 2.8,
            "count": 0
           },
           {
            "bin_start": 2.8,
            "bin_end": 2.9,
            "count": 0
           },
           {
            "bin_start": 2.9,
            "bin_end": 3,
            "count": 1
           }
          ]
         }
        },
        {
         "name": "stories",
         "dtype": "int64",
         "stats": {
          "unique_count": 4,
          "nan_count": 0,
          "min": "9",
          "max": "20",
          "histogram": [
           {
            "bin_start": 9,
            "bin_end": 10.1,
            "count": 1
           },
           {
            "bin_start": 10.1,
            "bin_end": 11.2,
            "count": 0
           },
           {
            "bin_start": 11.2,
            "bin_end": 12.3,
            "count": 0
           },
           {
            "bin_start": 12.3,
            "bin_end": 13.4,
            "count": 0
           },
           {
            "bin_start": 13.4,
            "bin_end": 14.5,
            "count": 0
           },
           {
            "bin_start": 14.5,
            "bin_end": 15.600000000000001,
            "count": 1
           },
           {
            "bin_start": 15.600000000000001,
            "bin_end": 16.700000000000003,
            "count": 0
           },
           {
            "bin_start": 16.700000000000003,
            "bin_end": 17.8,
            "count": 2
           },
           {
            "bin_start": 17.8,
            "bin_end": 18.9,
            "count": 0
           },
           {
            "bin_start": 18.9,
            "bin_end": 20,
            "count": 1
           }
          ]
         }
        },
        {
         "name": "elevator_without",
         "dtype": "int64",
         "stats": {
          "unique_count": 2,
          "nan_count": 0,
          "min": "0",
          "max": "1",
          "histogram": [
           {
            "bin_start": 0,
            "bin_end": 0.1,
            "count": 3
           },
           {
            "bin_start": 0.1,
            "bin_end": 0.2,
            "count": 0
           },
           {
            "bin_start": 0.2,
            "bin_end": 0.30000000000000004,
            "count": 0
           },
           {
            "bin_start": 0.30000000000000004,
            "bin_end": 0.4,
            "count": 0
           },
           {
            "bin_start": 0.4,
            "bin_end": 0.5,
            "count": 0
           },
           {
            "bin_start": 0.5,
            "bin_end": 0.6000000000000001,
            "count": 0
           },
           {
            "bin_start": 0.6000000000000001,
            "bin_end": 0.7000000000000001,
            "count": 0
           },
           {
            "bin_start": 0.7000000000000001,
            "bin_end": 0.8,
            "count": 0
           },
           {
            "bin_start": 0.8,
            "bin_end": 0.9,
            "count": 0
           },
           {
            "bin_start": 0.9,
            "bin_end": 1,
            "count": 2
           }
          ]
         }
        },
        {
         "name": "elevator_passenger",
         "dtype": "int64",
         "stats": {
          "unique_count": 1,
          "nan_count": 0,
          "min": "1",
          "max": "1",
          "histogram": [
           {
            "bin_start": 0.5,
            "bin_end": 0.6,
            "count": 0
           },
           {
            "bin_start": 0.6,
            "bin_end": 0.7,
            "count": 0
           },
           {
            "bin_start": 0.7,
            "bin_end": 0.8,
            "count": 0
           },
           {
            "bin_start": 0.8,
            "bin_end": 0.9,
            "count": 0
           },
           {
            "bin_start": 0.9,
            "bin_end": 1,
            "count": 0
           },
           {
            "bin_start": 1,
            "bin_end": 1.1,
            "count": 5
           },
           {
            "bin_start": 1.1,
            "bin_end": 1.2000000000000002,
            "count": 0
           },
           {
            "bin_start": 1.2000000000000002,
            "bin_end": 1.3,
            "count": 0
           },
           {
            "bin_start": 1.3,
            "bin_end": 1.4,
            "count": 0
           },
           {
            "bin_start": 1.4,
            "bin_end": 1.5,
            "count": 0
           }
          ]
         }
        },
        {
         "name": "elevator_service",
         "dtype": "int64",
         "stats": {
          "unique_count": 2,
          "nan_count": 0,
          "min": "0",
          "max": "1",
          "histogram": [
           {
            "bin_start": 0,
            "bin_end": 0.1,
            "count": 1
           },
           {
            "bin_start": 0.1,
            "bin_end": 0.2,
            "count": 0
           },
           {
            "bin_start": 0.2,
            "bin_end": 0.30000000000000004,
            "count": 0
           },
           {
            "bin_start": 0.30000000000000004,
            "bin_end": 0.4,
            "count": 0
           },
           {
            "bin_start": 0.4,
            "bin_end": 0.5,
            "count": 0
           },
           {
            "bin_start": 0.5,
            "bin_end": 0.6000000000000001,
            "count": 0
           },
           {
            "bin_start": 0.6000000000000001,
            "bin_end": 0.7000000000000001,
            "count": 0
           },
           {
            "bin_start": 0.7000000000000001,
            "bin_end": 0.8,
            "count": 0
           },
           {
            "bin_start": 0.8,
            "bin_end": 0.9,
            "count": 0
           },
           {
            "bin_start": 0.9,
            "bin_end": 1,
            "count": 4
           }
          ]
         }
        },
        {
         "name": "parking",
         "dtype": "int64",
         "stats": {
          "unique_count": 2,
          "nan_count": 0,
          "min": "0",
          "max": "1",
          "histogram": [
           {
            "bin_start": 0,
            "bin_end": 0.1,
            "count": 2
           },
           {
            "bin_start": 0.1,
            "bin_end": 0.2,
            "count": 0
           },
           {
            "bin_start": 0.2,
            "bin_end": 0.30000000000000004,
            "count": 0
           },
           {
            "bin_start": 0.30000000000000004,
            "bin_end": 0.4,
            "count": 0
           },
           {
            "bin_start": 0.4,
            "bin_end": 0.5,
            "count": 0
           },
           {
            "bin_start": 0.5,
            "bin_end": 0.6000000000000001,
            "count": 0
           },
           {
            "bin_start": 0.6000000000000001,
            "bin_end": 0.7000000000000001,
            "count": 0
           },
           {
            "bin_start": 0.7000000000000001,
            "bin_end": 0.8,
            "count": 0
           },
           {
            "bin_start": 0.8,
            "bin_end": 0.9,
            "count": 0
           },
           {
            "bin_start": 0.9,
            "bin_end": 1,
            "count": 3
           }
          ]
         }
        },
        {
         "name": "garbage_chute",
         "dtype": "int64",
         "stats": {
          "unique_count": 2,
          "nan_count": 0,
          "min": "0",
          "max": "1",
          "histogram": [
           {
            "bin_start": 0,
            "bin_end": 0.1,
            "count": 1
           },
           {
            "bin_start": 0.1,
            "bin_end": 0.2,
            "count": 0
           },
           {
            "bin_start": 0.2,
            "bin_end": 0.30000000000000004,
            "count": 0
           },
           {
            "bin_start": 0.30000000000000004,
            "bin_end": 0.4,
            "count": 0
           },
           {
            "bin_start": 0.4,
            "bin_end": 0.5,
            "count": 0
           },
           {
            "bin_start": 0.5,
            "bin_end": 0.6000000000000001,
            "count": 0
           },
           {
            "bin_start": 0.6000000000000001,
            "bin_end": 0.7000000000000001,
            "count": 0
           },
           {
            "bin_start": 0.7000000000000001,
            "bin_end": 0.8,
            "count": 0
           },
           {
            "bin_start": 0.8,
            "bin_end": 0.9,
            "count": 0
           },
           {
            "bin_start": 0.9,
            "bin_end": 1,
            "count": 4
           }
          ]
         }
        },
        {
         "name": "heating",
         "dtype": "int64",
         "stats": {
          "unique_count": 2,
          "nan_count": 0,
          "min": "0",
          "max": "3",
          "histogram": [
           {
            "bin_start": 0,
            "bin_end": 0.3,
            "count": 4
           },
           {
            "bin_start": 0.3,
            "bin_end": 0.6,
            "count": 0
           },
           {
            "bin_start": 0.6,
            "bin_end": 0.8999999999999999,
            "count": 0
           },
           {
            "bin_start": 0.8999999999999999,
            "bin_end": 1.2,
            "count": 0
           },
           {
            "bin_start": 1.2,
            "bin_end": 1.5,
            "count": 0
           },
           {
            "bin_start": 1.5,
            "bin_end": 1.7999999999999998,
            "count": 0
           },
           {
            "bin_start": 1.7999999999999998,
            "bin_end": 2.1,
            "count": 0
           },
           {
            "bin_start": 2.1,
            "bin_end": 2.4,
            "count": 0
           },
           {
            "bin_start": 2.4,
            "bin_end": 2.6999999999999997,
            "count": 0
           },
           {
            "bin_start": 2.6999999999999997,
            "bin_end": 3,
            "count": 1
           }
          ]
         }
        },
        {
         "name": "street",
         "dtype": "object",
         "stats": {
          "unique_count": 5,
          "nan_count": 0,
          "categories": [
           {
            "name": "2-я Черногрязская улица",
            "count": 1
           },
           {
            "name": "улица Сервантеса",
            "count": 1
           },
           {
            "name": "3 others",
            "count": 3
           }
          ]
         }
        },
        {
         "name": "_deepnote_index_column",
         "dtype": "int64"
        }
       ],
       "rows_top": [
        {
         "id": 23285,
         "seller": 3,
         "area_total": 71.4,
         "area_kitchen": 13.16,
         "area_living": 29.439999999999998,
         "floor": 2,
         "rooms": 1,
         "layout": 1,
         "ceiling": 3,
         "bathrooms_shared": 1,
         "bathrooms_private": 1,
         "windows_court": 1,
         "windows_street": 0,
         "balconies": 1,
         "loggias": 0,
         "condition": 0,
         "phones": 1,
         "building_id": 5148,
         "new": 0,
         "latitude": 55.762247,
         "longitude": 37.549040000000005,
         "district": 0,
         "constructed": 2017,
         "material": 2,
         "stories": 20,
         "elevator_without": 1,
         "elevator_passenger": 1,
         "elevator_service": 1,
         "parking": 1,
         "garbage_chute": 1,
         "heating": 0,
         "street": "2-я Черногрязская улица",
         "_deepnote_index_column": 0
        },
        {
         "id": 23286,
         "seller": 1,
         "area_total": 54,
         "area_kitchen": 4,
         "area_living": 50,
         "floor": 4,
         "rooms": 1,
         "layout": 1,
         "ceiling": 3,
         "bathrooms_shared": 1,
         "bathrooms_private": 1,
         "windows_court": 1,
         "windows_street": 0,
         "balconies": 0,
         "loggias": 1,
         "condition": 3,
         "phones": 1,
         "building_id": 1290,
         "new": 0,
         "latitude": 55.591467,
         "longitude": 37.452651,
         "district": 11,
         "constructed": 2017,
         "material": 2,
         "stories": 15,
         "elevator_without": 0,
         "elevator_passenger": 1,
         "elevator_service": 1,
         "parking": 0,
         "garbage_chute": 0,
         "heating": 0,
         "street": "улица Сервантеса",
         "_deepnote_index_column": 1
        },
        {
         "id": 23287,
         "seller": 3,
         "area_total": 39.4,
         "area_kitchen": 19.6,
         "area_living": 11.2,
         "floor": 10,
         "rooms": 1,
         "layout": 1,
         "ceiling": 3,
         "bathrooms_shared": 1,
         "bathrooms_private": 0,
         "windows_court": 1,
         "windows_street": 0,
         "balconies": 0,
         "loggias": 1,
         "condition": 2,
         "phones": 1,
         "building_id": 681,
         "new": 1,
         "latitude": 55.617017,
         "longitude": 37.413718,
         "district": 11,
         "constructed": 2021,
         "material": 3,
         "stories": 9,
         "elevator_without": 0,
         "elevator_passenger": 1,
         "elevator_service": 1,
         "parking": 1,
         "garbage_chute": 1,
         "heating": 0,
         "street": "Саларьево Парк ЖК",
         "_deepnote_index_column": 2
        },
        {
         "id": 23288,
         "seller": 3,
         "area_total": 60.9,
         "area_kitchen": 15.680000000000001,
         "area_living": 55.56,
         "floor": 5,
         "rooms": 2,
         "layout": 1,
         "ceiling": 3,
         "bathrooms_shared": 1,
         "bathrooms_private": 0,
         "windows_court": 0,
         "windows_street": 1,
         "balconies": 0,
         "loggias": 1,
         "condition": 0,
         "phones": 1,
         "building_id": 4261,
         "new": 0,
         "latitude": 55.569052,
         "longitude": 37.47951,
         "district": 11,
         "constructed": 2014,
         "material": 2,
         "stories": 17,
         "elevator_without": 1,
         "elevator_passenger": 1,
         "elevator_service": 0,
         "parking": 0,
         "garbage_chute": 1,
         "heating": 3,
         "street": "улица Александры Монаховой",
         "_deepnote_index_column": 3
        },
        {
         "id": 23289,
         "seller": 3,
         "area_total": 34,
         "area_kitchen": 9,
         "area_living": 17,
         "floor": 14,
         "rooms": 1,
         "layout": 1,
         "ceiling": 3,
         "bathrooms_shared": 1,
         "bathrooms_private": 0,
         "windows_court": 1,
         "windows_street": 0,
         "balconies": 0,
         "loggias": 1,
         "condition": 1,
         "phones": 1,
         "building_id": 7530,
         "new": 0,
         "latitude": 55.518041,
         "longitude": 37.343829,
         "district": 11,
         "constructed": 2016,
         "material": 2,
         "stories": 17,
         "elevator_without": 0,
         "elevator_passenger": 1,
         "elevator_service": 1,
         "parking": 1,
         "garbage_chute": 1,
         "heating": 0,
         "street": "улица 3-я Нововатутинская",
         "_deepnote_index_column": 4
        }
       ],
       "rows_bottom": null
      },
      "text/plain": "      id  seller  area_total  area_kitchen  area_living  floor  rooms  layout  \\\n0  23285       3        71.4         13.16        29.44    2.0      1       1   \n1  23286       1        54.0          4.00        50.00    4.0      1       1   \n2  23287       3        39.4         19.60        11.20   10.0      1       1   \n3  23288       3        60.9         15.68        55.56    5.0      2       1   \n4  23289       3        34.0          9.00        17.00   14.0      1       1   \n\n   ceiling  bathrooms_shared  ...  constructed  material  stories  \\\n0        3                 1  ...         2017         2       20   \n1        3                 1  ...         2017         2       15   \n2        3                 1  ...         2021         3        9   \n3        3                 1  ...         2014         2       17   \n4        3                 1  ...         2016         2       17   \n\n   elevator_without  elevator_passenger  elevator_service  parking  \\\n0                 1                   1                 1        1   \n1                 0                   1                 1        0   \n2                 0                   1                 1        1   \n3                 1                   1                 0        0   \n4                 0                   1                 1        1   \n\n   garbage_chute  heating                      street  \n0              1        0     2-я Черногрязская улица  \n1              0        0            улица Сервантеса  \n2              1        0           Саларьево Парк ЖК  \n3              1        3  улица Александры Монаховой  \n4              1        0   улица 3-я Нововатутинская  \n\n[5 rows x 32 columns]",
      "text/html": "<div>\n<style scoped>\n    .dataframe tbody tr th:only-of-type {\n        vertical-align: middle;\n    }\n\n    .dataframe tbody tr th {\n        vertical-align: top;\n    }\n\n    .dataframe thead th {\n        text-align: right;\n    }\n</style>\n<table border=\"1\" class=\"dataframe\">\n  <thead>\n    <tr style=\"text-align: right;\">\n      <th></th>\n      <th>id</th>\n      <th>seller</th>\n      <th>area_total</th>\n      <th>area_kitchen</th>\n      <th>area_living</th>\n      <th>floor</th>\n      <th>rooms</th>\n      <th>layout</th>\n      <th>ceiling</th>\n      <th>bathrooms_shared</th>\n      <th>...</th>\n      <th>constructed</th>\n      <th>material</th>\n      <th>stories</th>\n      <th>elevator_without</th>\n      <th>elevator_passenger</th>\n      <th>elevator_service</th>\n      <th>parking</th>\n      <th>garbage_chute</th>\n      <th>heating</th>\n      <th>street</th>\n    </tr>\n  </thead>\n  <tbody>\n    <tr>\n      <th>0</th>\n      <td>23285</td>\n      <td>3</td>\n      <td>71.4</td>\n      <td>13.16</td>\n      <td>29.44</td>\n      <td>2.0</td>\n      <td>1</td>\n      <td>1</td>\n      <td>3</td>\n      <td>1</td>\n      <td>...</td>\n      <td>2017</td>\n      <td>2</td>\n      <td>20</td>\n      <td>1</td>\n      <td>1</td>\n      <td>1</td>\n      <td>1</td>\n      <td>1</td>\n      <td>0</td>\n      <td>2-я Черногрязская улица</td>\n    </tr>\n    <tr>\n      <th>1</th>\n      <td>23286</td>\n      <td>1</td>\n      <td>54.0</td>\n      <td>4.00</td>\n      <td>50.00</td>\n      <td>4.0</td>\n      <td>1</td>\n      <td>1</td>\n      <td>3</td>\n      <td>1</td>\n      <td>...</td>\n      <td>2017</td>\n      <td>2</td>\n      <td>15</td>\n      <td>0</td>\n      <td>1</td>\n      <td>1</td>\n      <td>0</td>\n      <td>0</td>\n      <td>0</td>\n      <td>улица Сервантеса</td>\n    </tr>\n    <tr>\n      <th>2</th>\n      <td>23287</td>\n      <td>3</td>\n      <td>39.4</td>\n      <td>19.60</td>\n      <td>11.20</td>\n      <td>10.0</td>\n      <td>1</td>\n      <td>1</td>\n      <td>3</td>\n      <td>1</td>\n      <td>...</td>\n      <td>2021</td>\n      <td>3</td>\n      <td>9</td>\n      <td>0</td>\n      <td>1</td>\n      <td>1</td>\n      <td>1</td>\n      <td>1</td>\n      <td>0</td>\n      <td>Саларьево Парк ЖК</td>\n    </tr>\n    <tr>\n      <th>3</th>\n      <td>23288</td>\n      <td>3</td>\n      <td>60.9</td>\n      <td>15.68</td>\n      <td>55.56</td>\n      <td>5.0</td>\n      <td>2</td>\n      <td>1</td>\n      <td>3</td>\n      <td>1</td>\n      <td>...</td>\n      <td>2014</td>\n      <td>2</td>\n      <td>17</td>\n      <td>1</td>\n      <td>1</td>\n      <td>0</td>\n      <td>0</td>\n      <td>1</td>\n      <td>3</td>\n      <td>улица Александры Монаховой</td>\n    </tr>\n    <tr>\n      <th>4</th>\n      <td>23289</td>\n      <td>3</td>\n      <td>34.0</td>\n      <td>9.00</td>\n      <td>17.00</td>\n      <td>14.0</td>\n      <td>1</td>\n      <td>1</td>\n      <td>3</td>\n      <td>1</td>\n      <td>...</td>\n      <td>2016</td>\n      <td>2</td>\n      <td>17</td>\n      <td>0</td>\n      <td>1</td>\n      <td>1</td>\n      <td>1</td>\n      <td>1</td>\n      <td>0</td>\n      <td>улица 3-я Нововатутинская</td>\n    </tr>\n  </tbody>\n</table>\n<p>5 rows × 32 columns</p>\n</div>"
     },
     "metadata": {}
    }
   ],
   "execution_count": null
  },
  {
   "cell_type": "code",
   "metadata": {
    "tags": [],
    "deepnote_to_be_reexecuted": false,
    "source_hash": "6dc4c6e5",
    "execution_start": 1637273620626,
    "execution_millis": 1019,
    "cell_id": "00018-d05e4e5c-7529-4ad0-aa23-4687506248e3",
    "deepnote_cell_type": "code"
   },
   "source": "df1.floor = df1.floor.astype(int)\ndf1.district = df1.district.astype(int)\ndf1.to_csv('Test_clean3.csv', index=False)\ndf1.head()",
   "outputs": [
    {
     "output_type": "execute_result",
     "execution_count": 21,
     "data": {
      "application/vnd.deepnote.dataframe.v2+json": {
       "row_count": 5,
       "column_count": 32,
       "columns": [
        {
         "name": "id",
         "dtype": "int64",
         "stats": {
          "unique_count": 5,
          "nan_count": 0,
          "min": "23285",
          "max": "23289",
          "histogram": [
           {
            "bin_start": 23285,
            "bin_end": 23285.4,
            "count": 1
           },
           {
            "bin_start": 23285.4,
            "bin_end": 23285.8,
            "count": 0
           },
           {
            "bin_start": 23285.8,
            "bin_end": 23286.2,
            "count": 1
           },
           {
            "bin_start": 23286.2,
            "bin_end": 23286.6,
            "count": 0
           },
           {
            "bin_start": 23286.6,
            "bin_end": 23287,
            "count": 0
           },
           {
            "bin_start": 23287,
            "bin_end": 23287.4,
            "count": 1
           },
           {
            "bin_start": 23287.4,
            "bin_end": 23287.8,
            "count": 0
           },
           {
            "bin_start": 23287.8,
            "bin_end": 23288.2,
            "count": 1
           },
           {
            "bin_start": 23288.2,
            "bin_end": 23288.6,
            "count": 0
           },
           {
            "bin_start": 23288.6,
            "bin_end": 23289,
            "count": 1
           }
          ]
         }
        },
        {
         "name": "seller",
         "dtype": "int64",
         "stats": {
          "unique_count": 2,
          "nan_count": 0,
          "min": "1",
          "max": "3",
          "histogram": [
           {
            "bin_start": 1,
            "bin_end": 1.2,
            "count": 1
           },
           {
            "bin_start": 1.2,
            "bin_end": 1.4,
            "count": 0
           },
           {
            "bin_start": 1.4,
            "bin_end": 1.6,
            "count": 0
           },
           {
            "bin_start": 1.6,
            "bin_end": 1.8,
            "count": 0
           },
           {
            "bin_start": 1.8,
            "bin_end": 2,
            "count": 0
           },
           {
            "bin_start": 2,
            "bin_end": 2.2,
            "count": 0
           },
           {
            "bin_start": 2.2,
            "bin_end": 2.4000000000000004,
            "count": 0
           },
           {
            "bin_start": 2.4000000000000004,
            "bin_end": 2.6,
            "count": 0
           },
           {
            "bin_start": 2.6,
            "bin_end": 2.8,
            "count": 0
           },
           {
            "bin_start": 2.8,
            "bin_end": 3,
            "count": 4
           }
          ]
         }
        },
        {
         "name": "area_total",
         "dtype": "float64",
         "stats": {
          "unique_count": 5,
          "nan_count": 0,
          "min": "34.0",
          "max": "71.4",
          "histogram": [
           {
            "bin_start": 34,
            "bin_end": 37.74,
            "count": 1
           },
           {
            "bin_start": 37.74,
            "bin_end": 41.480000000000004,
            "count": 1
           },
           {
            "bin_start": 41.480000000000004,
            "bin_end": 45.22,
            "count": 0
           },
           {
            "bin_start": 45.22,
            "bin_end": 48.96,
            "count": 0
           },
           {
            "bin_start": 48.96,
            "bin_end": 52.7,
            "count": 0
           },
           {
            "bin_start": 52.7,
            "bin_end": 56.440000000000005,
            "count": 1
           },
           {
            "bin_start": 56.440000000000005,
            "bin_end": 60.18000000000001,
            "count": 0
           },
           {
            "bin_start": 60.18000000000001,
            "bin_end": 63.92,
            "count": 1
           },
           {
            "bin_start": 63.92,
            "bin_end": 67.66,
            "count": 0
           },
           {
            "bin_start": 67.66,
            "bin_end": 71.4,
            "count": 1
           }
          ]
         }
        },
        {
         "name": "area_kitchen",
         "dtype": "float64",
         "stats": {
          "unique_count": 5,
          "nan_count": 0,
          "min": "4.0",
          "max": "19.6",
          "histogram": [
           {
            "bin_start": 4,
            "bin_end": 5.5600000000000005,
            "count": 1
           },
           {
            "bin_start": 5.5600000000000005,
            "bin_end": 7.12,
            "count": 0
           },
           {
            "bin_start": 7.12,
            "bin_end": 8.68,
            "count": 0
           },
           {
            "bin_start": 8.68,
            "bin_end": 10.24,
            "count": 1
           },
           {
            "bin_start": 10.24,
            "bin_end": 11.8,
            "count": 0
           },
           {
            "bin_start": 11.8,
            "bin_end": 13.36,
            "count": 1
           },
           {
            "bin_start": 13.36,
            "bin_end": 14.92,
            "count": 0
           },
           {
            "bin_start": 14.92,
            "bin_end": 16.48,
            "count": 1
           },
           {
            "bin_start": 16.48,
            "bin_end": 18.04,
            "count": 0
           },
           {
            "bin_start": 18.04,
            "bin_end": 19.6,
            "count": 1
           }
          ]
         }
        },
        {
         "name": "area_living",
         "dtype": "float64",
         "stats": {
          "unique_count": 5,
          "nan_count": 0,
          "min": "11.2",
          "max": "55.56",
          "histogram": [
           {
            "bin_start": 11.2,
            "bin_end": 15.636,
            "count": 1
           },
           {
            "bin_start": 15.636,
            "bin_end": 20.072,
            "count": 1
           },
           {
            "bin_start": 20.072,
            "bin_end": 24.508,
            "count": 0
           },
           {
            "bin_start": 24.508,
            "bin_end": 28.944,
            "count": 0
           },
           {
            "bin_start": 28.944,
            "bin_end": 33.379999999999995,
            "count": 1
           },
           {
            "bin_start": 33.379999999999995,
            "bin_end": 37.816,
            "count": 0
           },
           {
            "bin_start": 37.816,
            "bin_end": 42.251999999999995,
            "count": 0
           },
           {
            "bin_start": 42.251999999999995,
            "bin_end": 46.688,
            "count": 0
           },
           {
            "bin_start": 46.688,
            "bin_end": 51.123999999999995,
            "count": 1
           },
           {
            "bin_start": 51.123999999999995,
            "bin_end": 55.56,
            "count": 1
           }
          ]
         }
        },
        {
         "name": "floor",
         "dtype": "int64",
         "stats": {
          "unique_count": 5,
          "nan_count": 0,
          "min": "2",
          "max": "14",
          "histogram": [
           {
            "bin_start": 2,
            "bin_end": 3.2,
            "count": 1
           },
           {
            "bin_start": 3.2,
            "bin_end": 4.4,
            "count": 1
           },
           {
            "bin_start": 4.4,
            "bin_end": 5.6,
            "count": 1
           },
           {
            "bin_start": 5.6,
            "bin_end": 6.8,
            "count": 0
           },
           {
            "bin_start": 6.8,
            "bin_end": 8,
            "count": 0
           },
           {
            "bin_start": 8,
            "bin_end": 9.2,
            "count": 0
           },
           {
            "bin_start": 9.2,
            "bin_end": 10.4,
            "count": 1
           },
           {
            "bin_start": 10.4,
            "bin_end": 11.6,
            "count": 0
           },
           {
            "bin_start": 11.6,
            "bin_end": 12.799999999999999,
            "count": 0
           },
           {
            "bin_start": 12.799999999999999,
            "bin_end": 14,
            "count": 1
           }
          ]
         }
        },
        {
         "name": "rooms",
         "dtype": "int64",
         "stats": {
          "unique_count": 2,
          "nan_count": 0,
          "min": "1",
          "max": "2",
          "histogram": [
           {
            "bin_start": 1,
            "bin_end": 1.1,
            "count": 4
           },
           {
            "bin_start": 1.1,
            "bin_end": 1.2,
            "count": 0
           },
           {
            "bin_start": 1.2,
            "bin_end": 1.3,
            "count": 0
           },
           {
            "bin_start": 1.3,
            "bin_end": 1.4,
            "count": 0
           },
           {
            "bin_start": 1.4,
            "bin_end": 1.5,
            "count": 0
           },
           {
            "bin_start": 1.5,
            "bin_end": 1.6,
            "count": 0
           },
           {
            "bin_start": 1.6,
            "bin_end": 1.7000000000000002,
            "count": 0
           },
           {
            "bin_start": 1.7000000000000002,
            "bin_end": 1.8,
            "count": 0
           },
           {
            "bin_start": 1.8,
            "bin_end": 1.9,
            "count": 0
           },
           {
            "bin_start": 1.9,
            "bin_end": 2,
            "count": 1
           }
          ]
         }
        },
        {
         "name": "layout",
         "dtype": "int64",
         "stats": {
          "unique_count": 1,
          "nan_count": 0,
          "min": "1",
          "max": "1",
          "histogram": [
           {
            "bin_start": 0.5,
            "bin_end": 0.6,
            "count": 0
           },
           {
            "bin_start": 0.6,
            "bin_end": 0.7,
            "count": 0
           },
           {
            "bin_start": 0.7,
            "bin_end": 0.8,
            "count": 0
           },
           {
            "bin_start": 0.8,
            "bin_end": 0.9,
            "count": 0
           },
           {
            "bin_start": 0.9,
            "bin_end": 1,
            "count": 0
           },
           {
            "bin_start": 1,
            "bin_end": 1.1,
            "count": 5
           },
           {
            "bin_start": 1.1,
            "bin_end": 1.2000000000000002,
            "count": 0
           },
           {
            "bin_start": 1.2000000000000002,
            "bin_end": 1.3,
            "count": 0
           },
           {
            "bin_start": 1.3,
            "bin_end": 1.4,
            "count": 0
           },
           {
            "bin_start": 1.4,
            "bin_end": 1.5,
            "count": 0
           }
          ]
         }
        },
        {
         "name": "ceiling",
         "dtype": "int64",
         "stats": {
          "unique_count": 1,
          "nan_count": 0,
          "min": "3",
          "max": "3",
          "histogram": [
           {
            "bin_start": 2.5,
            "bin_end": 2.6,
            "count": 0
           },
           {
            "bin_start": 2.6,
            "bin_end": 2.7,
            "count": 0
           },
           {
            "bin_start": 2.7,
            "bin_end": 2.8,
            "count": 0
           },
           {
            "bin_start": 2.8,
            "bin_end": 2.9,
            "count": 0
           },
           {
            "bin_start": 2.9,
            "bin_end": 3,
            "count": 0
           },
           {
            "bin_start": 3,
            "bin_end": 3.1,
            "count": 5
           },
           {
            "bin_start": 3.1,
            "bin_end": 3.2,
            "count": 0
           },
           {
            "bin_start": 3.2,
            "bin_end": 3.3,
            "count": 0
           },
           {
            "bin_start": 3.3,
            "bin_end": 3.4,
            "count": 0
           },
           {
            "bin_start": 3.4,
            "bin_end": 3.5,
            "count": 0
           }
          ]
         }
        },
        {
         "name": "bathrooms_shared",
         "dtype": "int64",
         "stats": {
          "unique_count": 1,
          "nan_count": 0,
          "min": "1",
          "max": "1",
          "histogram": [
           {
            "bin_start": 0.5,
            "bin_end": 0.6,
            "count": 0
           },
           {
            "bin_start": 0.6,
            "bin_end": 0.7,
            "count": 0
           },
           {
            "bin_start": 0.7,
            "bin_end": 0.8,
            "count": 0
           },
           {
            "bin_start": 0.8,
            "bin_end": 0.9,
            "count": 0
           },
           {
            "bin_start": 0.9,
            "bin_end": 1,
            "count": 0
           },
           {
            "bin_start": 1,
            "bin_end": 1.1,
            "count": 5
           },
           {
            "bin_start": 1.1,
            "bin_end": 1.2000000000000002,
            "count": 0
           },
           {
            "bin_start": 1.2000000000000002,
            "bin_end": 1.3,
            "count": 0
           },
           {
            "bin_start": 1.3,
            "bin_end": 1.4,
            "count": 0
           },
           {
            "bin_start": 1.4,
            "bin_end": 1.5,
            "count": 0
           }
          ]
         }
        },
        {
         "name": "bathrooms_private",
         "dtype": "int64",
         "stats": {
          "unique_count": 2,
          "nan_count": 0,
          "min": "0",
          "max": "1",
          "histogram": [
           {
            "bin_start": 0,
            "bin_end": 0.1,
            "count": 3
           },
           {
            "bin_start": 0.1,
            "bin_end": 0.2,
            "count": 0
           },
           {
            "bin_start": 0.2,
            "bin_end": 0.30000000000000004,
            "count": 0
           },
           {
            "bin_start": 0.30000000000000004,
            "bin_end": 0.4,
            "count": 0
           },
           {
            "bin_start": 0.4,
            "bin_end": 0.5,
            "count": 0
           },
           {
            "bin_start": 0.5,
            "bin_end": 0.6000000000000001,
            "count": 0
           },
           {
            "bin_start": 0.6000000000000001,
            "bin_end": 0.7000000000000001,
            "count": 0
           },
           {
            "bin_start": 0.7000000000000001,
            "bin_end": 0.8,
            "count": 0
           },
           {
            "bin_start": 0.8,
            "bin_end": 0.9,
            "count": 0
           },
           {
            "bin_start": 0.9,
            "bin_end": 1,
            "count": 2
           }
          ]
         }
        },
        {
         "name": "windows_court",
         "dtype": "int64",
         "stats": {
          "unique_count": 2,
          "nan_count": 0,
          "min": "0",
          "max": "1",
          "histogram": [
           {
            "bin_start": 0,
            "bin_end": 0.1,
            "count": 1
           },
           {
            "bin_start": 0.1,
            "bin_end": 0.2,
            "count": 0
           },
           {
            "bin_start": 0.2,
            "bin_end": 0.30000000000000004,
            "count": 0
           },
           {
            "bin_start": 0.30000000000000004,
            "bin_end": 0.4,
            "count": 0
           },
           {
            "bin_start": 0.4,
            "bin_end": 0.5,
            "count": 0
           },
           {
            "bin_start": 0.5,
            "bin_end": 0.6000000000000001,
            "count": 0
           },
           {
            "bin_start": 0.6000000000000001,
            "bin_end": 0.7000000000000001,
            "count": 0
           },
           {
            "bin_start": 0.7000000000000001,
            "bin_end": 0.8,
            "count": 0
           },
           {
            "bin_start": 0.8,
            "bin_end": 0.9,
            "count": 0
           },
           {
            "bin_start": 0.9,
            "bin_end": 1,
            "count": 4
           }
          ]
         }
        },
        {
         "name": "windows_street",
         "dtype": "int64",
         "stats": {
          "unique_count": 2,
          "nan_count": 0,
          "min": "0",
          "max": "1",
          "histogram": [
           {
            "bin_start": 0,
            "bin_end": 0.1,
            "count": 4
           },
           {
            "bin_start": 0.1,
            "bin_end": 0.2,
            "count": 0
           },
           {
            "bin_start": 0.2,
            "bin_end": 0.30000000000000004,
            "count": 0
           },
           {
            "bin_start": 0.30000000000000004,
            "bin_end": 0.4,
            "count": 0
           },
           {
            "bin_start": 0.4,
            "bin_end": 0.5,
            "count": 0
           },
           {
            "bin_start": 0.5,
            "bin_end": 0.6000000000000001,
            "count": 0
           },
           {
            "bin_start": 0.6000000000000001,
            "bin_end": 0.7000000000000001,
            "count": 0
           },
           {
            "bin_start": 0.7000000000000001,
            "bin_end": 0.8,
            "count": 0
           },
           {
            "bin_start": 0.8,
            "bin_end": 0.9,
            "count": 0
           },
           {
            "bin_start": 0.9,
            "bin_end": 1,
            "count": 1
           }
          ]
         }
        },
        {
         "name": "balconies",
         "dtype": "int64",
         "stats": {
          "unique_count": 2,
          "nan_count": 0,
          "min": "0",
          "max": "1",
          "histogram": [
           {
            "bin_start": 0,
            "bin_end": 0.1,
            "count": 4
           },
           {
            "bin_start": 0.1,
            "bin_end": 0.2,
            "count": 0
           },
           {
            "bin_start": 0.2,
            "bin_end": 0.30000000000000004,
            "count": 0
           },
           {
            "bin_start": 0.30000000000000004,
            "bin_end": 0.4,
            "count": 0
           },
           {
            "bin_start": 0.4,
            "bin_end": 0.5,
            "count": 0
           },
           {
            "bin_start": 0.5,
            "bin_end": 0.6000000000000001,
            "count": 0
           },
           {
            "bin_start": 0.6000000000000001,
            "bin_end": 0.7000000000000001,
            "count": 0
           },
           {
            "bin_start": 0.7000000000000001,
            "bin_end": 0.8,
            "count": 0
           },
           {
            "bin_start": 0.8,
            "bin_end": 0.9,
            "count": 0
           },
           {
            "bin_start": 0.9,
            "bin_end": 1,
            "count": 1
           }
          ]
         }
        },
        {
         "name": "loggias",
         "dtype": "int64",
         "stats": {
          "unique_count": 2,
          "nan_count": 0,
          "min": "0",
          "max": "1",
          "histogram": [
           {
            "bin_start": 0,
            "bin_end": 0.1,
            "count": 1
           },
           {
            "bin_start": 0.1,
            "bin_end": 0.2,
            "count": 0
           },
           {
            "bin_start": 0.2,
            "bin_end": 0.30000000000000004,
            "count": 0
           },
           {
            "bin_start": 0.30000000000000004,
            "bin_end": 0.4,
            "count": 0
           },
           {
            "bin_start": 0.4,
            "bin_end": 0.5,
            "count": 0
           },
           {
            "bin_start": 0.5,
            "bin_end": 0.6000000000000001,
            "count": 0
           },
           {
            "bin_start": 0.6000000000000001,
            "bin_end": 0.7000000000000001,
            "count": 0
           },
           {
            "bin_start": 0.7000000000000001,
            "bin_end": 0.8,
            "count": 0
           },
           {
            "bin_start": 0.8,
            "bin_end": 0.9,
            "count": 0
           },
           {
            "bin_start": 0.9,
            "bin_end": 1,
            "count": 4
           }
          ]
         }
        },
        {
         "name": "condition",
         "dtype": "int64",
         "stats": {
          "unique_count": 4,
          "nan_count": 0,
          "min": "0",
          "max": "3",
          "histogram": [
           {
            "bin_start": 0,
            "bin_end": 0.3,
            "count": 2
           },
           {
            "bin_start": 0.3,
            "bin_end": 0.6,
            "count": 0
           },
           {
            "bin_start": 0.6,
            "bin_end": 0.8999999999999999,
            "count": 0
           },
           {
            "bin_start": 0.8999999999999999,
            "bin_end": 1.2,
            "count": 1
           },
           {
            "bin_start": 1.2,
            "bin_end": 1.5,
            "count": 0
           },
           {
            "bin_start": 1.5,
            "bin_end": 1.7999999999999998,
            "count": 0
           },
           {
            "bin_start": 1.7999999999999998,
            "bin_end": 2.1,
            "count": 1
           },
           {
            "bin_start": 2.1,
            "bin_end": 2.4,
            "count": 0
           },
           {
            "bin_start": 2.4,
            "bin_end": 2.6999999999999997,
            "count": 0
           },
           {
            "bin_start": 2.6999999999999997,
            "bin_end": 3,
            "count": 1
           }
          ]
         }
        },
        {
         "name": "phones",
         "dtype": "int64",
         "stats": {
          "unique_count": 1,
          "nan_count": 0,
          "min": "1",
          "max": "1",
          "histogram": [
           {
            "bin_start": 0.5,
            "bin_end": 0.6,
            "count": 0
           },
           {
            "bin_start": 0.6,
            "bin_end": 0.7,
            "count": 0
           },
           {
            "bin_start": 0.7,
            "bin_end": 0.8,
            "count": 0
           },
           {
            "bin_start": 0.8,
            "bin_end": 0.9,
            "count": 0
           },
           {
            "bin_start": 0.9,
            "bin_end": 1,
            "count": 0
           },
           {
            "bin_start": 1,
            "bin_end": 1.1,
            "count": 5
           },
           {
            "bin_start": 1.1,
            "bin_end": 1.2000000000000002,
            "count": 0
           },
           {
            "bin_start": 1.2000000000000002,
            "bin_end": 1.3,
            "count": 0
           },
           {
            "bin_start": 1.3,
            "bin_end": 1.4,
            "count": 0
           },
           {
            "bin_start": 1.4,
            "bin_end": 1.5,
            "count": 0
           }
          ]
         }
        },
        {
         "name": "building_id",
         "dtype": "int64",
         "stats": {
          "unique_count": 5,
          "nan_count": 0,
          "min": "681",
          "max": "7530",
          "histogram": [
           {
            "bin_start": 681,
            "bin_end": 1365.9,
            "count": 2
           },
           {
            "bin_start": 1365.9,
            "bin_end": 2050.8,
            "count": 0
           },
           {
            "bin_start": 2050.8,
            "bin_end": 2735.7,
            "count": 0
           },
           {
            "bin_start": 2735.7,
            "bin_end": 3420.6,
            "count": 0
           },
           {
            "bin_start": 3420.6,
            "bin_end": 4105.5,
            "count": 0
           },
           {
            "bin_start": 4105.5,
            "bin_end": 4790.4,
            "count": 1
           },
           {
            "bin_start": 4790.4,
            "bin_end": 5475.3,
            "count": 1
           },
           {
            "bin_start": 5475.3,
            "bin_end": 6160.2,
            "count": 0
           },
           {
            "bin_start": 6160.2,
            "bin_end": 6845.099999999999,
            "count": 0
           },
           {
            "bin_start": 6845.099999999999,
            "bin_end": 7530,
            "count": 1
           }
          ]
         }
        },
        {
         "name": "new",
         "dtype": "int64",
         "stats": {
          "unique_count": 2,
          "nan_count": 0,
          "min": "0",
          "max": "1",
          "histogram": [
           {
            "bin_start": 0,
            "bin_end": 0.1,
            "count": 4
           },
           {
            "bin_start": 0.1,
            "bin_end": 0.2,
            "count": 0
           },
           {
            "bin_start": 0.2,
            "bin_end": 0.30000000000000004,
            "count": 0
           },
           {
            "bin_start": 0.30000000000000004,
            "bin_end": 0.4,
            "count": 0
           },
           {
            "bin_start": 0.4,
            "bin_end": 0.5,
            "count": 0
           },
           {
            "bin_start": 0.5,
            "bin_end": 0.6000000000000001,
            "count": 0
           },
           {
            "bin_start": 0.6000000000000001,
            "bin_end": 0.7000000000000001,
            "count": 0
           },
           {
            "bin_start": 0.7000000000000001,
            "bin_end": 0.8,
            "count": 0
           },
           {
            "bin_start": 0.8,
            "bin_end": 0.9,
            "count": 0
           },
           {
            "bin_start": 0.9,
            "bin_end": 1,
            "count": 1
           }
          ]
         }
        },
        {
         "name": "latitude",
         "dtype": "float64",
         "stats": {
          "unique_count": 5,
          "nan_count": 0,
          "min": "55.518041",
          "max": "55.762247",
          "histogram": [
           {
            "bin_start": 55.518041,
            "bin_end": 55.542461599999996,
            "count": 1
           },
           {
            "bin_start": 55.542461599999996,
            "bin_end": 55.566882199999995,
            "count": 0
           },
           {
            "bin_start": 55.566882199999995,
            "bin_end": 55.5913028,
            "count": 1
           },
           {
            "bin_start": 55.5913028,
            "bin_end": 55.6157234,
            "count": 1
           },
           {
            "bin_start": 55.6157234,
            "bin_end": 55.640144,
            "count": 1
           },
           {
            "bin_start": 55.640144,
            "bin_end": 55.6645646,
            "count": 0
           },
           {
            "bin_start": 55.6645646,
            "bin_end": 55.6889852,
            "count": 0
           },
           {
            "bin_start": 55.6889852,
            "bin_end": 55.713405800000004,
            "count": 0
           },
           {
            "bin_start": 55.713405800000004,
            "bin_end": 55.7378264,
            "count": 0
           },
           {
            "bin_start": 55.7378264,
            "bin_end": 55.762247,
            "count": 1
           }
          ]
         }
        },
        {
         "name": "longitude",
         "dtype": "float64",
         "stats": {
          "unique_count": 5,
          "nan_count": 0,
          "min": "37.343829",
          "max": "37.549040000000005",
          "histogram": [
           {
            "bin_start": 37.343829,
            "bin_end": 37.3643501,
            "count": 1
           },
           {
            "bin_start": 37.3643501,
            "bin_end": 37.3848712,
            "count": 0
           },
           {
            "bin_start": 37.3848712,
            "bin_end": 37.4053923,
            "count": 0
           },
           {
            "bin_start": 37.4053923,
            "bin_end": 37.4259134,
            "count": 1
           },
           {
            "bin_start": 37.4259134,
            "bin_end": 37.4464345,
            "count": 0
           },
           {
            "bin_start": 37.4464345,
            "bin_end": 37.466955600000006,
            "count": 1
           },
           {
            "bin_start": 37.466955600000006,
            "bin_end": 37.4874767,
            "count": 1
           },
           {
            "bin_start": 37.4874767,
            "bin_end": 37.507997800000005,
            "count": 0
           },
           {
            "bin_start": 37.507997800000005,
            "bin_end": 37.5285189,
            "count": 0
           },
           {
            "bin_start": 37.5285189,
            "bin_end": 37.549040000000005,
            "count": 1
           }
          ]
         }
        },
        {
         "name": "district",
         "dtype": "int64",
         "stats": {
          "unique_count": 2,
          "nan_count": 0,
          "min": "0",
          "max": "11",
          "histogram": [
           {
            "bin_start": 0,
            "bin_end": 1.1,
            "count": 1
           },
           {
            "bin_start": 1.1,
            "bin_end": 2.2,
            "count": 0
           },
           {
            "bin_start": 2.2,
            "bin_end": 3.3000000000000003,
            "count": 0
           },
           {
            "bin_start": 3.3000000000000003,
            "bin_end": 4.4,
            "count": 0
           },
           {
            "bin_start": 4.4,
            "bin_end": 5.5,
            "count": 0
           },
           {
            "bin_start": 5.5,
            "bin_end": 6.6000000000000005,
            "count": 0
           },
           {
            "bin_start": 6.6000000000000005,
            "bin_end": 7.700000000000001,
            "count": 0
           },
           {
            "bin_start": 7.700000000000001,
            "bin_end": 8.8,
            "count": 0
           },
           {
            "bin_start": 8.8,
            "bin_end": 9.9,
            "count": 0
           },
           {
            "bin_start": 9.9,
            "bin_end": 11,
            "count": 4
           }
          ]
         }
        },
        {
         "name": "constructed",
         "dtype": "int64",
         "stats": {
          "unique_count": 4,
          "nan_count": 0,
          "min": "2014",
          "max": "2021",
          "histogram": [
           {
            "bin_start": 2014,
            "bin_end": 2014.7,
            "count": 1
           },
           {
            "bin_start": 2014.7,
            "bin_end": 2015.4,
            "count": 0
           },
           {
            "bin_start": 2015.4,
            "bin_end": 2016.1,
            "count": 1
           },
           {
            "bin_start": 2016.1,
            "bin_end": 2016.8,
            "count": 0
           },
           {
            "bin_start": 2016.8,
            "bin_end": 2017.5,
            "count": 2
           },
           {
            "bin_start": 2017.5,
            "bin_end": 2018.2,
            "count": 0
           },
           {
            "bin_start": 2018.2,
            "bin_end": 2018.9,
            "count": 0
           },
           {
            "bin_start": 2018.9,
            "bin_end": 2019.6,
            "count": 0
           },
           {
            "bin_start": 2019.6,
            "bin_end": 2020.3,
            "count": 0
           },
           {
            "bin_start": 2020.3,
            "bin_end": 2021,
            "count": 1
           }
          ]
         }
        },
        {
         "name": "material",
         "dtype": "int64",
         "stats": {
          "unique_count": 2,
          "nan_count": 0,
          "min": "2",
          "max": "3",
          "histogram": [
           {
            "bin_start": 2,
            "bin_end": 2.1,
            "count": 4
           },
           {
            "bin_start": 2.1,
            "bin_end": 2.2,
            "count": 0
           },
           {
            "bin_start": 2.2,
            "bin_end": 2.3,
            "count": 0
           },
           {
            "bin_start": 2.3,
            "bin_end": 2.4,
            "count": 0
           },
           {
            "bin_start": 2.4,
            "bin_end": 2.5,
            "count": 0
           },
           {
            "bin_start": 2.5,
            "bin_end": 2.6,
            "count": 0
           },
           {
            "bin_start": 2.6,
            "bin_end": 2.7,
            "count": 0
           },
           {
            "bin_start": 2.7,
            "bin_end": 2.8,
            "count": 0
           },
           {
            "bin_start": 2.8,
            "bin_end": 2.9,
            "count": 0
           },
           {
            "bin_start": 2.9,
            "bin_end": 3,
            "count": 1
           }
          ]
         }
        },
        {
         "name": "stories",
         "dtype": "int64",
         "stats": {
          "unique_count": 4,
          "nan_count": 0,
          "min": "9",
          "max": "20",
          "histogram": [
           {
            "bin_start": 9,
            "bin_end": 10.1,
            "count": 1
           },
           {
            "bin_start": 10.1,
            "bin_end": 11.2,
            "count": 0
           },
           {
            "bin_start": 11.2,
            "bin_end": 12.3,
            "count": 0
           },
           {
            "bin_start": 12.3,
            "bin_end": 13.4,
            "count": 0
           },
           {
            "bin_start": 13.4,
            "bin_end": 14.5,
            "count": 0
           },
           {
            "bin_start": 14.5,
            "bin_end": 15.600000000000001,
            "count": 1
           },
           {
            "bin_start": 15.600000000000001,
            "bin_end": 16.700000000000003,
            "count": 0
           },
           {
            "bin_start": 16.700000000000003,
            "bin_end": 17.8,
            "count": 2
           },
           {
            "bin_start": 17.8,
            "bin_end": 18.9,
            "count": 0
           },
           {
            "bin_start": 18.9,
            "bin_end": 20,
            "count": 1
           }
          ]
         }
        },
        {
         "name": "elevator_without",
         "dtype": "int64",
         "stats": {
          "unique_count": 2,
          "nan_count": 0,
          "min": "0",
          "max": "1",
          "histogram": [
           {
            "bin_start": 0,
            "bin_end": 0.1,
            "count": 3
           },
           {
            "bin_start": 0.1,
            "bin_end": 0.2,
            "count": 0
           },
           {
            "bin_start": 0.2,
            "bin_end": 0.30000000000000004,
            "count": 0
           },
           {
            "bin_start": 0.30000000000000004,
            "bin_end": 0.4,
            "count": 0
           },
           {
            "bin_start": 0.4,
            "bin_end": 0.5,
            "count": 0
           },
           {
            "bin_start": 0.5,
            "bin_end": 0.6000000000000001,
            "count": 0
           },
           {
            "bin_start": 0.6000000000000001,
            "bin_end": 0.7000000000000001,
            "count": 0
           },
           {
            "bin_start": 0.7000000000000001,
            "bin_end": 0.8,
            "count": 0
           },
           {
            "bin_start": 0.8,
            "bin_end": 0.9,
            "count": 0
           },
           {
            "bin_start": 0.9,
            "bin_end": 1,
            "count": 2
           }
          ]
         }
        },
        {
         "name": "elevator_passenger",
         "dtype": "int64",
         "stats": {
          "unique_count": 1,
          "nan_count": 0,
          "min": "1",
          "max": "1",
          "histogram": [
           {
            "bin_start": 0.5,
            "bin_end": 0.6,
            "count": 0
           },
           {
            "bin_start": 0.6,
            "bin_end": 0.7,
            "count": 0
           },
           {
            "bin_start": 0.7,
            "bin_end": 0.8,
            "count": 0
           },
           {
            "bin_start": 0.8,
            "bin_end": 0.9,
            "count": 0
           },
           {
            "bin_start": 0.9,
            "bin_end": 1,
            "count": 0
           },
           {
            "bin_start": 1,
            "bin_end": 1.1,
            "count": 5
           },
           {
            "bin_start": 1.1,
            "bin_end": 1.2000000000000002,
            "count": 0
           },
           {
            "bin_start": 1.2000000000000002,
            "bin_end": 1.3,
            "count": 0
           },
           {
            "bin_start": 1.3,
            "bin_end": 1.4,
            "count": 0
           },
           {
            "bin_start": 1.4,
            "bin_end": 1.5,
            "count": 0
           }
          ]
         }
        },
        {
         "name": "elevator_service",
         "dtype": "int64",
         "stats": {
          "unique_count": 2,
          "nan_count": 0,
          "min": "0",
          "max": "1",
          "histogram": [
           {
            "bin_start": 0,
            "bin_end": 0.1,
            "count": 1
           },
           {
            "bin_start": 0.1,
            "bin_end": 0.2,
            "count": 0
           },
           {
            "bin_start": 0.2,
            "bin_end": 0.30000000000000004,
            "count": 0
           },
           {
            "bin_start": 0.30000000000000004,
            "bin_end": 0.4,
            "count": 0
           },
           {
            "bin_start": 0.4,
            "bin_end": 0.5,
            "count": 0
           },
           {
            "bin_start": 0.5,
            "bin_end": 0.6000000000000001,
            "count": 0
           },
           {
            "bin_start": 0.6000000000000001,
            "bin_end": 0.7000000000000001,
            "count": 0
           },
           {
            "bin_start": 0.7000000000000001,
            "bin_end": 0.8,
            "count": 0
           },
           {
            "bin_start": 0.8,
            "bin_end": 0.9,
            "count": 0
           },
           {
            "bin_start": 0.9,
            "bin_end": 1,
            "count": 4
           }
          ]
         }
        },
        {
         "name": "parking",
         "dtype": "int64",
         "stats": {
          "unique_count": 2,
          "nan_count": 0,
          "min": "0",
          "max": "1",
          "histogram": [
           {
            "bin_start": 0,
            "bin_end": 0.1,
            "count": 2
           },
           {
            "bin_start": 0.1,
            "bin_end": 0.2,
            "count": 0
           },
           {
            "bin_start": 0.2,
            "bin_end": 0.30000000000000004,
            "count": 0
           },
           {
            "bin_start": 0.30000000000000004,
            "bin_end": 0.4,
            "count": 0
           },
           {
            "bin_start": 0.4,
            "bin_end": 0.5,
            "count": 0
           },
           {
            "bin_start": 0.5,
            "bin_end": 0.6000000000000001,
            "count": 0
           },
           {
            "bin_start": 0.6000000000000001,
            "bin_end": 0.7000000000000001,
            "count": 0
           },
           {
            "bin_start": 0.7000000000000001,
            "bin_end": 0.8,
            "count": 0
           },
           {
            "bin_start": 0.8,
            "bin_end": 0.9,
            "count": 0
           },
           {
            "bin_start": 0.9,
            "bin_end": 1,
            "count": 3
           }
          ]
         }
        },
        {
         "name": "garbage_chute",
         "dtype": "int64",
         "stats": {
          "unique_count": 2,
          "nan_count": 0,
          "min": "0",
          "max": "1",
          "histogram": [
           {
            "bin_start": 0,
            "bin_end": 0.1,
            "count": 1
           },
           {
            "bin_start": 0.1,
            "bin_end": 0.2,
            "count": 0
           },
           {
            "bin_start": 0.2,
            "bin_end": 0.30000000000000004,
            "count": 0
           },
           {
            "bin_start": 0.30000000000000004,
            "bin_end": 0.4,
            "count": 0
           },
           {
            "bin_start": 0.4,
            "bin_end": 0.5,
            "count": 0
           },
           {
            "bin_start": 0.5,
            "bin_end": 0.6000000000000001,
            "count": 0
           },
           {
            "bin_start": 0.6000000000000001,
            "bin_end": 0.7000000000000001,
            "count": 0
           },
           {
            "bin_start": 0.7000000000000001,
            "bin_end": 0.8,
            "count": 0
           },
           {
            "bin_start": 0.8,
            "bin_end": 0.9,
            "count": 0
           },
           {
            "bin_start": 0.9,
            "bin_end": 1,
            "count": 4
           }
          ]
         }
        },
        {
         "name": "heating",
         "dtype": "int64",
         "stats": {
          "unique_count": 2,
          "nan_count": 0,
          "min": "0",
          "max": "3",
          "histogram": [
           {
            "bin_start": 0,
            "bin_end": 0.3,
            "count": 4
           },
           {
            "bin_start": 0.3,
            "bin_end": 0.6,
            "count": 0
           },
           {
            "bin_start": 0.6,
            "bin_end": 0.8999999999999999,
            "count": 0
           },
           {
            "bin_start": 0.8999999999999999,
            "bin_end": 1.2,
            "count": 0
           },
           {
            "bin_start": 1.2,
            "bin_end": 1.5,
            "count": 0
           },
           {
            "bin_start": 1.5,
            "bin_end": 1.7999999999999998,
            "count": 0
           },
           {
            "bin_start": 1.7999999999999998,
            "bin_end": 2.1,
            "count": 0
           },
           {
            "bin_start": 2.1,
            "bin_end": 2.4,
            "count": 0
           },
           {
            "bin_start": 2.4,
            "bin_end": 2.6999999999999997,
            "count": 0
           },
           {
            "bin_start": 2.6999999999999997,
            "bin_end": 3,
            "count": 1
           }
          ]
         }
        },
        {
         "name": "street",
         "dtype": "object",
         "stats": {
          "unique_count": 5,
          "nan_count": 0,
          "categories": [
           {
            "name": "2-я Черногрязская улица",
            "count": 1
           },
           {
            "name": "улица Сервантеса",
            "count": 1
           },
           {
            "name": "3 others",
            "count": 3
           }
          ]
         }
        },
        {
         "name": "_deepnote_index_column",
         "dtype": "int64"
        }
       ],
       "rows_top": [
        {
         "id": 23285,
         "seller": 3,
         "area_total": 71.4,
         "area_kitchen": 13.16,
         "area_living": 29.439999999999998,
         "floor": 2,
         "rooms": 1,
         "layout": 1,
         "ceiling": 3,
         "bathrooms_shared": 1,
         "bathrooms_private": 1,
         "windows_court": 1,
         "windows_street": 0,
         "balconies": 1,
         "loggias": 0,
         "condition": 0,
         "phones": 1,
         "building_id": 5148,
         "new": 0,
         "latitude": 55.762247,
         "longitude": 37.549040000000005,
         "district": 0,
         "constructed": 2017,
         "material": 2,
         "stories": 20,
         "elevator_without": 1,
         "elevator_passenger": 1,
         "elevator_service": 1,
         "parking": 1,
         "garbage_chute": 1,
         "heating": 0,
         "street": "2-я Черногрязская улица",
         "_deepnote_index_column": 0
        },
        {
         "id": 23286,
         "seller": 1,
         "area_total": 54,
         "area_kitchen": 4,
         "area_living": 50,
         "floor": 4,
         "rooms": 1,
         "layout": 1,
         "ceiling": 3,
         "bathrooms_shared": 1,
         "bathrooms_private": 1,
         "windows_court": 1,
         "windows_street": 0,
         "balconies": 0,
         "loggias": 1,
         "condition": 3,
         "phones": 1,
         "building_id": 1290,
         "new": 0,
         "latitude": 55.591467,
         "longitude": 37.452651,
         "district": 11,
         "constructed": 2017,
         "material": 2,
         "stories": 15,
         "elevator_without": 0,
         "elevator_passenger": 1,
         "elevator_service": 1,
         "parking": 0,
         "garbage_chute": 0,
         "heating": 0,
         "street": "улица Сервантеса",
         "_deepnote_index_column": 1
        },
        {
         "id": 23287,
         "seller": 3,
         "area_total": 39.4,
         "area_kitchen": 19.6,
         "area_living": 11.2,
         "floor": 10,
         "rooms": 1,
         "layout": 1,
         "ceiling": 3,
         "bathrooms_shared": 1,
         "bathrooms_private": 0,
         "windows_court": 1,
         "windows_street": 0,
         "balconies": 0,
         "loggias": 1,
         "condition": 2,
         "phones": 1,
         "building_id": 681,
         "new": 1,
         "latitude": 55.617017,
         "longitude": 37.413718,
         "district": 11,
         "constructed": 2021,
         "material": 3,
         "stories": 9,
         "elevator_without": 0,
         "elevator_passenger": 1,
         "elevator_service": 1,
         "parking": 1,
         "garbage_chute": 1,
         "heating": 0,
         "street": "Саларьево Парк ЖК",
         "_deepnote_index_column": 2
        },
        {
         "id": 23288,
         "seller": 3,
         "area_total": 60.9,
         "area_kitchen": 15.680000000000001,
         "area_living": 55.56,
         "floor": 5,
         "rooms": 2,
         "layout": 1,
         "ceiling": 3,
         "bathrooms_shared": 1,
         "bathrooms_private": 0,
         "windows_court": 0,
         "windows_street": 1,
         "balconies": 0,
         "loggias": 1,
         "condition": 0,
         "phones": 1,
         "building_id": 4261,
         "new": 0,
         "latitude": 55.569052,
         "longitude": 37.47951,
         "district": 11,
         "constructed": 2014,
         "material": 2,
         "stories": 17,
         "elevator_without": 1,
         "elevator_passenger": 1,
         "elevator_service": 0,
         "parking": 0,
         "garbage_chute": 1,
         "heating": 3,
         "street": "улица Александры Монаховой",
         "_deepnote_index_column": 3
        },
        {
         "id": 23289,
         "seller": 3,
         "area_total": 34,
         "area_kitchen": 9,
         "area_living": 17,
         "floor": 14,
         "rooms": 1,
         "layout": 1,
         "ceiling": 3,
         "bathrooms_shared": 1,
         "bathrooms_private": 0,
         "windows_court": 1,
         "windows_street": 0,
         "balconies": 0,
         "loggias": 1,
         "condition": 1,
         "phones": 1,
         "building_id": 7530,
         "new": 0,
         "latitude": 55.518041,
         "longitude": 37.343829,
         "district": 11,
         "constructed": 2016,
         "material": 2,
         "stories": 17,
         "elevator_without": 0,
         "elevator_passenger": 1,
         "elevator_service": 1,
         "parking": 1,
         "garbage_chute": 1,
         "heating": 0,
         "street": "улица 3-я Нововатутинская",
         "_deepnote_index_column": 4
        }
       ],
       "rows_bottom": null
      },
      "text/plain": "      id  seller  area_total  area_kitchen  area_living  floor  rooms  layout  \\\n0  23285       3        71.4         13.16        29.44      2      1       1   \n1  23286       1        54.0          4.00        50.00      4      1       1   \n2  23287       3        39.4         19.60        11.20     10      1       1   \n3  23288       3        60.9         15.68        55.56      5      2       1   \n4  23289       3        34.0          9.00        17.00     14      1       1   \n\n   ceiling  bathrooms_shared  ...  constructed  material  stories  \\\n0        3                 1  ...         2017         2       20   \n1        3                 1  ...         2017         2       15   \n2        3                 1  ...         2021         3        9   \n3        3                 1  ...         2014         2       17   \n4        3                 1  ...         2016         2       17   \n\n   elevator_without  elevator_passenger  elevator_service  parking  \\\n0                 1                   1                 1        1   \n1                 0                   1                 1        0   \n2                 0                   1                 1        1   \n3                 1                   1                 0        0   \n4                 0                   1                 1        1   \n\n   garbage_chute  heating                      street  \n0              1        0     2-я Черногрязская улица  \n1              0        0            улица Сервантеса  \n2              1        0           Саларьево Парк ЖК  \n3              1        3  улица Александры Монаховой  \n4              1        0   улица 3-я Нововатутинская  \n\n[5 rows x 32 columns]",
      "text/html": "<div>\n<style scoped>\n    .dataframe tbody tr th:only-of-type {\n        vertical-align: middle;\n    }\n\n    .dataframe tbody tr th {\n        vertical-align: top;\n    }\n\n    .dataframe thead th {\n        text-align: right;\n    }\n</style>\n<table border=\"1\" class=\"dataframe\">\n  <thead>\n    <tr style=\"text-align: right;\">\n      <th></th>\n      <th>id</th>\n      <th>seller</th>\n      <th>area_total</th>\n      <th>area_kitchen</th>\n      <th>area_living</th>\n      <th>floor</th>\n      <th>rooms</th>\n      <th>layout</th>\n      <th>ceiling</th>\n      <th>bathrooms_shared</th>\n      <th>...</th>\n      <th>constructed</th>\n      <th>material</th>\n      <th>stories</th>\n      <th>elevator_without</th>\n      <th>elevator_passenger</th>\n      <th>elevator_service</th>\n      <th>parking</th>\n      <th>garbage_chute</th>\n      <th>heating</th>\n      <th>street</th>\n    </tr>\n  </thead>\n  <tbody>\n    <tr>\n      <th>0</th>\n      <td>23285</td>\n      <td>3</td>\n      <td>71.4</td>\n      <td>13.16</td>\n      <td>29.44</td>\n      <td>2</td>\n      <td>1</td>\n      <td>1</td>\n      <td>3</td>\n      <td>1</td>\n      <td>...</td>\n      <td>2017</td>\n      <td>2</td>\n      <td>20</td>\n      <td>1</td>\n      <td>1</td>\n      <td>1</td>\n      <td>1</td>\n      <td>1</td>\n      <td>0</td>\n      <td>2-я Черногрязская улица</td>\n    </tr>\n    <tr>\n      <th>1</th>\n      <td>23286</td>\n      <td>1</td>\n      <td>54.0</td>\n      <td>4.00</td>\n      <td>50.00</td>\n      <td>4</td>\n      <td>1</td>\n      <td>1</td>\n      <td>3</td>\n      <td>1</td>\n      <td>...</td>\n      <td>2017</td>\n      <td>2</td>\n      <td>15</td>\n      <td>0</td>\n      <td>1</td>\n      <td>1</td>\n      <td>0</td>\n      <td>0</td>\n      <td>0</td>\n      <td>улица Сервантеса</td>\n    </tr>\n    <tr>\n      <th>2</th>\n      <td>23287</td>\n      <td>3</td>\n      <td>39.4</td>\n      <td>19.60</td>\n      <td>11.20</td>\n      <td>10</td>\n      <td>1</td>\n      <td>1</td>\n      <td>3</td>\n      <td>1</td>\n      <td>...</td>\n      <td>2021</td>\n      <td>3</td>\n      <td>9</td>\n      <td>0</td>\n      <td>1</td>\n      <td>1</td>\n      <td>1</td>\n      <td>1</td>\n      <td>0</td>\n      <td>Саларьево Парк ЖК</td>\n    </tr>\n    <tr>\n      <th>3</th>\n      <td>23288</td>\n      <td>3</td>\n      <td>60.9</td>\n      <td>15.68</td>\n      <td>55.56</td>\n      <td>5</td>\n      <td>2</td>\n      <td>1</td>\n      <td>3</td>\n      <td>1</td>\n      <td>...</td>\n      <td>2014</td>\n      <td>2</td>\n      <td>17</td>\n      <td>1</td>\n      <td>1</td>\n      <td>0</td>\n      <td>0</td>\n      <td>1</td>\n      <td>3</td>\n      <td>улица Александры Монаховой</td>\n    </tr>\n    <tr>\n      <th>4</th>\n      <td>23289</td>\n      <td>3</td>\n      <td>34.0</td>\n      <td>9.00</td>\n      <td>17.00</td>\n      <td>14</td>\n      <td>1</td>\n      <td>1</td>\n      <td>3</td>\n      <td>1</td>\n      <td>...</td>\n      <td>2016</td>\n      <td>2</td>\n      <td>17</td>\n      <td>0</td>\n      <td>1</td>\n      <td>1</td>\n      <td>1</td>\n      <td>1</td>\n      <td>0</td>\n      <td>улица 3-я Нововатутинская</td>\n    </tr>\n  </tbody>\n</table>\n<p>5 rows × 32 columns</p>\n</div>"
     },
     "metadata": {}
    }
   ],
   "execution_count": null
  },
  {
   "cell_type": "markdown",
   "source": "<a style='text-decoration:none;line-height:16px;display:flex;color:#5B5B62;padding:10px;justify-content:end;' href='https://deepnote.com?utm_source=created-in-deepnote-cell&projectId=99c1e030-46bc-40fa-835c-0661eae0d488' target=\"_blank\">\n<img alt='Created in deepnote.com' style='display:inline;max-height:16px;margin:0px;margin-right:7.5px;' src='data:image/svg+xml;base64,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' > </img>\nCreated in <span style='font-weight:600;margin-left:4px;'>Deepnote</span></a>",
   "metadata": {
    "tags": [],
    "created_in_deepnote_cell": true,
    "deepnote_cell_type": "markdown"
   }
  }
 ],
 "nbformat": 4,
 "nbformat_minor": 2,
 "metadata": {
  "orig_nbformat": 2,
  "deepnote": {
   "is_reactive": false
  },
  "deepnote_notebook_id": "9d0d6522-86c8-457e-97c7-f7855468ebdf",
  "deepnote_execution_queue": []
 }
}