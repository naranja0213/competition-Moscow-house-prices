{
 "cells": [
  {
   "cell_type": "code",
   "metadata": {
    "tags": [],
    "cell_id": "00000-f833dfc0-54e8-42a5-89a9-c5fcc6fd58d9",
    "deepnote_to_be_reexecuted": false,
    "source_hash": "4799463a",
    "execution_start": 1637180107643,
    "execution_millis": 2700,
    "deepnote_cell_type": "code"
   },
   "source": "import json\nimport pandas as pd\nimport numpy as np\nimport math as math\nimport matplotlib.pyplot as plt\nimport seaborn as sns\nimport sklearn\nimport sklearn.model_selection as model_selection\nimport sklearn.tree as tree\nfrom sklearn.linear_model import LogisticRegression\nfrom sklearn.linear_model import LinearRegression\nimport time\nfrom sklearn.model_selection import GridSearchCV\nfrom sklearn.tree import DecisionTreeRegressor\nfrom sklearn.model_selection import train_test_split\nimport xgboost\nfrom sklearn.model_selection import RandomizedSearchCV\n\n\n",
   "execution_count": null,
   "outputs": []
  },
  {
   "cell_type": "code",
   "metadata": {
    "tags": [],
    "cell_id": "00002-c1d6a912-b880-4473-b299-f67513edd77f",
    "deepnote_to_be_reexecuted": false,
    "source_hash": "d583ef45",
    "execution_start": 1637180110354,
    "execution_millis": 230,
    "deepnote_cell_type": "code"
   },
   "source": "data_train = pd.read_csv('Training_clean1.csv')\ndata_train = data_train.drop(['street', 'address'], axis=1)\ndata_test = pd.read_csv('Test_clean1.csv')\ndata_test = data_test.drop(['street', 'address'], axis=1)\ndata_train.head()\ndata_test.head()",
   "execution_count": null,
   "outputs": [
    {
     "output_type": "execute_result",
     "execution_count": 2,
     "data": {
      "application/vnd.deepnote.dataframe.v2+json": {
       "row_count": 5,
       "column_count": 23,
       "columns": [
        {
         "name": "id",
         "dtype": "int64",
         "stats": {
          "unique_count": 5,
          "nan_count": 0,
          "min": "23285",
          "max": "23289",
          "histogram": [
           {
            "bin_start": 23285,
            "bin_end": 23285.4,
            "count": 1
           },
           {
            "bin_start": 23285.4,
            "bin_end": 23285.8,
            "count": 0
           },
           {
            "bin_start": 23285.8,
            "bin_end": 23286.2,
            "count": 1
           },
           {
            "bin_start": 23286.2,
            "bin_end": 23286.6,
            "count": 0
           },
           {
            "bin_start": 23286.6,
            "bin_end": 23287,
            "count": 0
           },
           {
            "bin_start": 23287,
            "bin_end": 23287.4,
            "count": 1
           },
           {
            "bin_start": 23287.4,
            "bin_end": 23287.8,
            "count": 0
           },
           {
            "bin_start": 23287.8,
            "bin_end": 23288.2,
            "count": 1
           },
           {
            "bin_start": 23288.2,
            "bin_end": 23288.6,
            "count": 0
           },
           {
            "bin_start": 23288.6,
            "bin_end": 23289,
            "count": 1
           }
          ]
         }
        },
        {
         "name": "area_total",
         "dtype": "float64",
         "stats": {
          "unique_count": 5,
          "nan_count": 0,
          "min": "34.0",
          "max": "71.4",
          "histogram": [
           {
            "bin_start": 34,
            "bin_end": 37.74,
            "count": 1
           },
           {
            "bin_start": 37.74,
            "bin_end": 41.480000000000004,
            "count": 1
           },
           {
            "bin_start": 41.480000000000004,
            "bin_end": 45.22,
            "count": 0
           },
           {
            "bin_start": 45.22,
            "bin_end": 48.96,
            "count": 0
           },
           {
            "bin_start": 48.96,
            "bin_end": 52.7,
            "count": 0
           },
           {
            "bin_start": 52.7,
            "bin_end": 56.440000000000005,
            "count": 1
           },
           {
            "bin_start": 56.440000000000005,
            "bin_end": 60.18000000000001,
            "count": 0
           },
           {
            "bin_start": 60.18000000000001,
            "bin_end": 63.92,
            "count": 1
           },
           {
            "bin_start": 63.92,
            "bin_end": 67.66,
            "count": 0
           },
           {
            "bin_start": 67.66,
            "bin_end": 71.4,
            "count": 1
           }
          ]
         }
        },
        {
         "name": "area_kitchen",
         "dtype": "float64",
         "stats": {
          "unique_count": 5,
          "nan_count": 0,
          "min": "4.0",
          "max": "19.6",
          "histogram": [
           {
            "bin_start": 4,
            "bin_end": 5.5600000000000005,
            "count": 1
           },
           {
            "bin_start": 5.5600000000000005,
            "bin_end": 7.12,
            "count": 0
           },
           {
            "bin_start": 7.12,
            "bin_end": 8.68,
            "count": 0
           },
           {
            "bin_start": 8.68,
            "bin_end": 10.24,
            "count": 1
           },
           {
            "bin_start": 10.24,
            "bin_end": 11.8,
            "count": 0
           },
           {
            "bin_start": 11.8,
            "bin_end": 13.36,
            "count": 1
           },
           {
            "bin_start": 13.36,
            "bin_end": 14.92,
            "count": 1
           },
           {
            "bin_start": 14.92,
            "bin_end": 16.48,
            "count": 0
           },
           {
            "bin_start": 16.48,
            "bin_end": 18.04,
            "count": 0
           },
           {
            "bin_start": 18.04,
            "bin_end": 19.6,
            "count": 1
           }
          ]
         }
        },
        {
         "name": "area_living",
         "dtype": "float64",
         "stats": {
          "unique_count": 5,
          "nan_count": 0,
          "min": "11.2",
          "max": "50.0",
          "histogram": [
           {
            "bin_start": 11.2,
            "bin_end": 15.079999999999998,
            "count": 1
           },
           {
            "bin_start": 15.079999999999998,
            "bin_end": 18.96,
            "count": 1
           },
           {
            "bin_start": 18.96,
            "bin_end": 22.84,
            "count": 0
           },
           {
            "bin_start": 22.84,
            "bin_end": 26.72,
            "count": 0
           },
           {
            "bin_start": 26.72,
            "bin_end": 30.599999999999998,
            "count": 0
           },
           {
            "bin_start": 30.599999999999998,
            "bin_end": 34.480000000000004,
            "count": 1
           },
           {
            "bin_start": 34.480000000000004,
            "bin_end": 38.36,
            "count": 0
           },
           {
            "bin_start": 38.36,
            "bin_end": 42.239999999999995,
            "count": 1
           },
           {
            "bin_start": 42.239999999999995,
            "bin_end": 46.120000000000005,
            "count": 0
           },
           {
            "bin_start": 46.120000000000005,
            "bin_end": 50,
            "count": 1
           }
          ]
         }
        },
        {
         "name": "floor",
         "dtype": "int64",
         "stats": {
          "unique_count": 5,
          "nan_count": 0,
          "min": "2",
          "max": "14",
          "histogram": [
           {
            "bin_start": 2,
            "bin_end": 3.2,
            "count": 1
           },
           {
            "bin_start": 3.2,
            "bin_end": 4.4,
            "count": 1
           },
           {
            "bin_start": 4.4,
            "bin_end": 5.6,
            "count": 1
           },
           {
            "bin_start": 5.6,
            "bin_end": 6.8,
            "count": 0
           },
           {
            "bin_start": 6.8,
            "bin_end": 8,
            "count": 0
           },
           {
            "bin_start": 8,
            "bin_end": 9.2,
            "count": 0
           },
           {
            "bin_start": 9.2,
            "bin_end": 10.4,
            "count": 1
           },
           {
            "bin_start": 10.4,
            "bin_end": 11.6,
            "count": 0
           },
           {
            "bin_start": 11.6,
            "bin_end": 12.799999999999999,
            "count": 0
           },
           {
            "bin_start": 12.799999999999999,
            "bin_end": 14,
            "count": 1
           }
          ]
         }
        },
        {
         "name": "rooms",
         "dtype": "int64",
         "stats": {
          "unique_count": 2,
          "nan_count": 0,
          "min": "1",
          "max": "2",
          "histogram": [
           {
            "bin_start": 1,
            "bin_end": 1.1,
            "count": 4
           },
           {
            "bin_start": 1.1,
            "bin_end": 1.2,
            "count": 0
           },
           {
            "bin_start": 1.2,
            "bin_end": 1.3,
            "count": 0
           },
           {
            "bin_start": 1.3,
            "bin_end": 1.4,
            "count": 0
           },
           {
            "bin_start": 1.4,
            "bin_end": 1.5,
            "count": 0
           },
           {
            "bin_start": 1.5,
            "bin_end": 1.6,
            "count": 0
           },
           {
            "bin_start": 1.6,
            "bin_end": 1.7000000000000002,
            "count": 0
           },
           {
            "bin_start": 1.7000000000000002,
            "bin_end": 1.8,
            "count": 0
           },
           {
            "bin_start": 1.8,
            "bin_end": 1.9,
            "count": 0
           },
           {
            "bin_start": 1.9,
            "bin_end": 2,
            "count": 1
           }
          ]
         }
        },
        {
         "name": "bathrooms_shared",
         "dtype": "int64",
         "stats": {
          "unique_count": 2,
          "nan_count": 0,
          "min": "0",
          "max": "1",
          "histogram": [
           {
            "bin_start": 0,
            "bin_end": 0.1,
            "count": 2
           },
           {
            "bin_start": 0.1,
            "bin_end": 0.2,
            "count": 0
           },
           {
            "bin_start": 0.2,
            "bin_end": 0.30000000000000004,
            "count": 0
           },
           {
            "bin_start": 0.30000000000000004,
            "bin_end": 0.4,
            "count": 0
           },
           {
            "bin_start": 0.4,
            "bin_end": 0.5,
            "count": 0
           },
           {
            "bin_start": 0.5,
            "bin_end": 0.6000000000000001,
            "count": 0
           },
           {
            "bin_start": 0.6000000000000001,
            "bin_end": 0.7000000000000001,
            "count": 0
           },
           {
            "bin_start": 0.7000000000000001,
            "bin_end": 0.8,
            "count": 0
           },
           {
            "bin_start": 0.8,
            "bin_end": 0.9,
            "count": 0
           },
           {
            "bin_start": 0.9,
            "bin_end": 1,
            "count": 3
           }
          ]
         }
        },
        {
         "name": "bathrooms_private",
         "dtype": "int64",
         "stats": {
          "unique_count": 1,
          "nan_count": 0,
          "min": "0",
          "max": "0",
          "histogram": [
           {
            "bin_start": -0.5,
            "bin_end": -0.4,
            "count": 0
           },
           {
            "bin_start": -0.4,
            "bin_end": -0.3,
            "count": 0
           },
           {
            "bin_start": -0.3,
            "bin_end": -0.19999999999999996,
            "count": 0
           },
           {
            "bin_start": -0.19999999999999996,
            "bin_end": -0.09999999999999998,
            "count": 0
           },
           {
            "bin_start": -0.09999999999999998,
            "bin_end": 0,
            "count": 0
           },
           {
            "bin_start": 0,
            "bin_end": 0.10000000000000009,
            "count": 5
           },
           {
            "bin_start": 0.10000000000000009,
            "bin_end": 0.20000000000000007,
            "count": 0
           },
           {
            "bin_start": 0.20000000000000007,
            "bin_end": 0.30000000000000004,
            "count": 0
           },
           {
            "bin_start": 0.30000000000000004,
            "bin_end": 0.4,
            "count": 0
           },
           {
            "bin_start": 0.4,
            "bin_end": 0.5,
            "count": 0
           }
          ]
         }
        },
        {
         "name": "windows_court",
         "dtype": "int64",
         "stats": {
          "unique_count": 2,
          "nan_count": 0,
          "min": "0",
          "max": "1",
          "histogram": [
           {
            "bin_start": 0,
            "bin_end": 0.1,
            "count": 1
           },
           {
            "bin_start": 0.1,
            "bin_end": 0.2,
            "count": 0
           },
           {
            "bin_start": 0.2,
            "bin_end": 0.30000000000000004,
            "count": 0
           },
           {
            "bin_start": 0.30000000000000004,
            "bin_end": 0.4,
            "count": 0
           },
           {
            "bin_start": 0.4,
            "bin_end": 0.5,
            "count": 0
           },
           {
            "bin_start": 0.5,
            "bin_end": 0.6000000000000001,
            "count": 0
           },
           {
            "bin_start": 0.6000000000000001,
            "bin_end": 0.7000000000000001,
            "count": 0
           },
           {
            "bin_start": 0.7000000000000001,
            "bin_end": 0.8,
            "count": 0
           },
           {
            "bin_start": 0.8,
            "bin_end": 0.9,
            "count": 0
           },
           {
            "bin_start": 0.9,
            "bin_end": 1,
            "count": 4
           }
          ]
         }
        },
        {
         "name": "windows_street",
         "dtype": "int64",
         "stats": {
          "unique_count": 2,
          "nan_count": 0,
          "min": "0",
          "max": "1",
          "histogram": [
           {
            "bin_start": 0,
            "bin_end": 0.1,
            "count": 4
           },
           {
            "bin_start": 0.1,
            "bin_end": 0.2,
            "count": 0
           },
           {
            "bin_start": 0.2,
            "bin_end": 0.30000000000000004,
            "count": 0
           },
           {
            "bin_start": 0.30000000000000004,
            "bin_end": 0.4,
            "count": 0
           },
           {
            "bin_start": 0.4,
            "bin_end": 0.5,
            "count": 0
           },
           {
            "bin_start": 0.5,
            "bin_end": 0.6000000000000001,
            "count": 0
           },
           {
            "bin_start": 0.6000000000000001,
            "bin_end": 0.7000000000000001,
            "count": 0
           },
           {
            "bin_start": 0.7000000000000001,
            "bin_end": 0.8,
            "count": 0
           },
           {
            "bin_start": 0.8,
            "bin_end": 0.9,
            "count": 0
           },
           {
            "bin_start": 0.9,
            "bin_end": 1,
            "count": 1
           }
          ]
         }
        },
        {
         "name": "phones",
         "dtype": "int64",
         "stats": {
          "unique_count": 1,
          "nan_count": 0,
          "min": "1",
          "max": "1",
          "histogram": [
           {
            "bin_start": 0.5,
            "bin_end": 0.6,
            "count": 0
           },
           {
            "bin_start": 0.6,
            "bin_end": 0.7,
            "count": 0
           },
           {
            "bin_start": 0.7,
            "bin_end": 0.8,
            "count": 0
           },
           {
            "bin_start": 0.8,
            "bin_end": 0.9,
            "count": 0
           },
           {
            "bin_start": 0.9,
            "bin_end": 1,
            "count": 0
           },
           {
            "bin_start": 1,
            "bin_end": 1.1,
            "count": 5
           },
           {
            "bin_start": 1.1,
            "bin_end": 1.2000000000000002,
            "count": 0
           },
           {
            "bin_start": 1.2000000000000002,
            "bin_end": 1.3,
            "count": 0
           },
           {
            "bin_start": 1.3,
            "bin_end": 1.4,
            "count": 0
           },
           {
            "bin_start": 1.4,
            "bin_end": 1.5,
            "count": 0
           }
          ]
         }
        },
        {
         "name": "building_id",
         "dtype": "int64",
         "stats": {
          "unique_count": 5,
          "nan_count": 0,
          "min": "681",
          "max": "7530",
          "histogram": [
           {
            "bin_start": 681,
            "bin_end": 1365.9,
            "count": 2
           },
           {
            "bin_start": 1365.9,
            "bin_end": 2050.8,
            "count": 0
           },
           {
            "bin_start": 2050.8,
            "bin_end": 2735.7,
            "count": 0
           },
           {
            "bin_start": 2735.7,
            "bin_end": 3420.6,
            "count": 0
           },
           {
            "bin_start": 3420.6,
            "bin_end": 4105.5,
            "count": 0
           },
           {
            "bin_start": 4105.5,
            "bin_end": 4790.4,
            "count": 1
           },
           {
            "bin_start": 4790.4,
            "bin_end": 5475.3,
            "count": 1
           },
           {
            "bin_start": 5475.3,
            "bin_end": 6160.2,
            "count": 0
           },
           {
            "bin_start": 6160.2,
            "bin_end": 6845.099999999999,
            "count": 0
           },
           {
            "bin_start": 6845.099999999999,
            "bin_end": 7530,
            "count": 1
           }
          ]
         }
        },
        {
         "name": "new",
         "dtype": "int64",
         "stats": {
          "unique_count": 2,
          "nan_count": 0,
          "min": "0",
          "max": "1",
          "histogram": [
           {
            "bin_start": 0,
            "bin_end": 0.1,
            "count": 4
           },
           {
            "bin_start": 0.1,
            "bin_end": 0.2,
            "count": 0
           },
           {
            "bin_start": 0.2,
            "bin_end": 0.30000000000000004,
            "count": 0
           },
           {
            "bin_start": 0.30000000000000004,
            "bin_end": 0.4,
            "count": 0
           },
           {
            "bin_start": 0.4,
            "bin_end": 0.5,
            "count": 0
           },
           {
            "bin_start": 0.5,
            "bin_end": 0.6000000000000001,
            "count": 0
           },
           {
            "bin_start": 0.6000000000000001,
            "bin_end": 0.7000000000000001,
            "count": 0
           },
           {
            "bin_start": 0.7000000000000001,
            "bin_end": 0.8,
            "count": 0
           },
           {
            "bin_start": 0.8,
            "bin_end": 0.9,
            "count": 0
           },
           {
            "bin_start": 0.9,
            "bin_end": 1,
            "count": 1
           }
          ]
         }
        },
        {
         "name": "latitude",
         "dtype": "float64",
         "stats": {
          "unique_count": 5,
          "nan_count": 0,
          "min": "55.518041",
          "max": "55.762247",
          "histogram": [
           {
            "bin_start": 55.518041,
            "bin_end": 55.542461599999996,
            "count": 1
           },
           {
            "bin_start": 55.542461599999996,
            "bin_end": 55.566882199999995,
            "count": 0
           },
           {
            "bin_start": 55.566882199999995,
            "bin_end": 55.5913028,
            "count": 1
           },
           {
            "bin_start": 55.5913028,
            "bin_end": 55.6157234,
            "count": 1
           },
           {
            "bin_start": 55.6157234,
            "bin_end": 55.640144,
            "count": 1
           },
           {
            "bin_start": 55.640144,
            "bin_end": 55.6645646,
            "count": 0
           },
           {
            "bin_start": 55.6645646,
            "bin_end": 55.6889852,
            "count": 0
           },
           {
            "bin_start": 55.6889852,
            "bin_end": 55.713405800000004,
            "count": 0
           },
           {
            "bin_start": 55.713405800000004,
            "bin_end": 55.7378264,
            "count": 0
           },
           {
            "bin_start": 55.7378264,
            "bin_end": 55.762247,
            "count": 1
           }
          ]
         }
        },
        {
         "name": "longitude",
         "dtype": "float64",
         "stats": {
          "unique_count": 5,
          "nan_count": 0,
          "min": "37.343829",
          "max": "37.549040000000005",
          "histogram": [
           {
            "bin_start": 37.343829,
            "bin_end": 37.3643501,
            "count": 1
           },
           {
            "bin_start": 37.3643501,
            "bin_end": 37.3848712,
            "count": 0
           },
           {
            "bin_start": 37.3848712,
            "bin_end": 37.4053923,
            "count": 0
           },
           {
            "bin_start": 37.4053923,
            "bin_end": 37.4259134,
            "count": 1
           },
           {
            "bin_start": 37.4259134,
            "bin_end": 37.4464345,
            "count": 0
           },
           {
            "bin_start": 37.4464345,
            "bin_end": 37.466955600000006,
            "count": 1
           },
           {
            "bin_start": 37.466955600000006,
            "bin_end": 37.4874767,
            "count": 1
           },
           {
            "bin_start": 37.4874767,
            "bin_end": 37.507997800000005,
            "count": 0
           },
           {
            "bin_start": 37.507997800000005,
            "bin_end": 37.5285189,
            "count": 0
           },
           {
            "bin_start": 37.5285189,
            "bin_end": 37.549040000000005,
            "count": 1
           }
          ]
         }
        },
        {
         "name": "district",
         "dtype": "int64",
         "stats": {
          "unique_count": 2,
          "nan_count": 0,
          "min": "0",
          "max": "11",
          "histogram": [
           {
            "bin_start": 0,
            "bin_end": 1.1,
            "count": 1
           },
           {
            "bin_start": 1.1,
            "bin_end": 2.2,
            "count": 0
           },
           {
            "bin_start": 2.2,
            "bin_end": 3.3000000000000003,
            "count": 0
           },
           {
            "bin_start": 3.3000000000000003,
            "bin_end": 4.4,
            "count": 0
           },
           {
            "bin_start": 4.4,
            "bin_end": 5.5,
            "count": 0
           },
           {
            "bin_start": 5.5,
            "bin_end": 6.6000000000000005,
            "count": 0
           },
           {
            "bin_start": 6.6000000000000005,
            "bin_end": 7.700000000000001,
            "count": 0
           },
           {
            "bin_start": 7.700000000000001,
            "bin_end": 8.8,
            "count": 0
           },
           {
            "bin_start": 8.8,
            "bin_end": 9.9,
            "count": 0
           },
           {
            "bin_start": 9.9,
            "bin_end": 11,
            "count": 4
           }
          ]
         }
        },
        {
         "name": "constructed",
         "dtype": "int64",
         "stats": {
          "unique_count": 4,
          "nan_count": 0,
          "min": "2014",
          "max": "2021",
          "histogram": [
           {
            "bin_start": 2014,
            "bin_end": 2014.7,
            "count": 1
           },
           {
            "bin_start": 2014.7,
            "bin_end": 2015.4,
            "count": 0
           },
           {
            "bin_start": 2015.4,
            "bin_end": 2016.1,
            "count": 1
           },
           {
            "bin_start": 2016.1,
            "bin_end": 2016.8,
            "count": 0
           },
           {
            "bin_start": 2016.8,
            "bin_end": 2017.5,
            "count": 2
           },
           {
            "bin_start": 2017.5,
            "bin_end": 2018.2,
            "count": 0
           },
           {
            "bin_start": 2018.2,
            "bin_end": 2018.9,
            "count": 0
           },
           {
            "bin_start": 2018.9,
            "bin_end": 2019.6,
            "count": 0
           },
           {
            "bin_start": 2019.6,
            "bin_end": 2020.3,
            "count": 0
           },
           {
            "bin_start": 2020.3,
            "bin_end": 2021,
            "count": 1
           }
          ]
         }
        },
        {
         "name": "material",
         "dtype": "int64",
         "stats": {
          "unique_count": 2,
          "nan_count": 0,
          "min": "2",
          "max": "3",
          "histogram": [
           {
            "bin_start": 2,
            "bin_end": 2.1,
            "count": 4
           },
           {
            "bin_start": 2.1,
            "bin_end": 2.2,
            "count": 0
           },
           {
            "bin_start": 2.2,
            "bin_end": 2.3,
            "count": 0
           },
           {
            "bin_start": 2.3,
            "bin_end": 2.4,
            "count": 0
           },
           {
            "bin_start": 2.4,
            "bin_end": 2.5,
            "count": 0
           },
           {
            "bin_start": 2.5,
            "bin_end": 2.6,
            "count": 0
           },
           {
            "bin_start": 2.6,
            "bin_end": 2.7,
            "count": 0
           },
           {
            "bin_start": 2.7,
            "bin_end": 2.8,
            "count": 0
           },
           {
            "bin_start": 2.8,
            "bin_end": 2.9,
            "count": 0
           },
           {
            "bin_start": 2.9,
            "bin_end": 3,
            "count": 1
           }
          ]
         }
        },
        {
         "name": "stories",
         "dtype": "int64",
         "stats": {
          "unique_count": 4,
          "nan_count": 0,
          "min": "9",
          "max": "20",
          "histogram": [
           {
            "bin_start": 9,
            "bin_end": 10.1,
            "count": 1
           },
           {
            "bin_start": 10.1,
            "bin_end": 11.2,
            "count": 0
           },
           {
            "bin_start": 11.2,
            "bin_end": 12.3,
            "count": 0
           },
           {
            "bin_start": 12.3,
            "bin_end": 13.4,
            "count": 0
           },
           {
            "bin_start": 13.4,
            "bin_end": 14.5,
            "count": 0
           },
           {
            "bin_start": 14.5,
            "bin_end": 15.600000000000001,
            "count": 1
           },
           {
            "bin_start": 15.600000000000001,
            "bin_end": 16.700000000000003,
            "count": 0
           },
           {
            "bin_start": 16.700000000000003,
            "bin_end": 17.8,
            "count": 2
           },
           {
            "bin_start": 17.8,
            "bin_end": 18.9,
            "count": 0
           },
           {
            "bin_start": 18.9,
            "bin_end": 20,
            "count": 1
           }
          ]
         }
        },
        {
         "name": "elevator_without",
         "dtype": "int64",
         "stats": {
          "unique_count": 2,
          "nan_count": 0,
          "min": "0",
          "max": "1",
          "histogram": [
           {
            "bin_start": 0,
            "bin_end": 0.1,
            "count": 3
           },
           {
            "bin_start": 0.1,
            "bin_end": 0.2,
            "count": 0
           },
           {
            "bin_start": 0.2,
            "bin_end": 0.30000000000000004,
            "count": 0
           },
           {
            "bin_start": 0.30000000000000004,
            "bin_end": 0.4,
            "count": 0
           },
           {
            "bin_start": 0.4,
            "bin_end": 0.5,
            "count": 0
           },
           {
            "bin_start": 0.5,
            "bin_end": 0.6000000000000001,
            "count": 0
           },
           {
            "bin_start": 0.6000000000000001,
            "bin_end": 0.7000000000000001,
            "count": 0
           },
           {
            "bin_start": 0.7000000000000001,
            "bin_end": 0.8,
            "count": 0
           },
           {
            "bin_start": 0.8,
            "bin_end": 0.9,
            "count": 0
           },
           {
            "bin_start": 0.9,
            "bin_end": 1,
            "count": 2
           }
          ]
         }
        },
        {
         "name": "elevator_passenger",
         "dtype": "int64",
         "stats": {
          "unique_count": 1,
          "nan_count": 0,
          "min": "1",
          "max": "1",
          "histogram": [
           {
            "bin_start": 0.5,
            "bin_end": 0.6,
            "count": 0
           },
           {
            "bin_start": 0.6,
            "bin_end": 0.7,
            "count": 0
           },
           {
            "bin_start": 0.7,
            "bin_end": 0.8,
            "count": 0
           },
           {
            "bin_start": 0.8,
            "bin_end": 0.9,
            "count": 0
           },
           {
            "bin_start": 0.9,
            "bin_end": 1,
            "count": 0
           },
           {
            "bin_start": 1,
            "bin_end": 1.1,
            "count": 5
           },
           {
            "bin_start": 1.1,
            "bin_end": 1.2000000000000002,
            "count": 0
           },
           {
            "bin_start": 1.2000000000000002,
            "bin_end": 1.3,
            "count": 0
           },
           {
            "bin_start": 1.3,
            "bin_end": 1.4,
            "count": 0
           },
           {
            "bin_start": 1.4,
            "bin_end": 1.5,
            "count": 0
           }
          ]
         }
        },
        {
         "name": "elevator_service",
         "dtype": "int64",
         "stats": {
          "unique_count": 2,
          "nan_count": 0,
          "min": "0",
          "max": "1",
          "histogram": [
           {
            "bin_start": 0,
            "bin_end": 0.1,
            "count": 1
           },
           {
            "bin_start": 0.1,
            "bin_end": 0.2,
            "count": 0
           },
           {
            "bin_start": 0.2,
            "bin_end": 0.30000000000000004,
            "count": 0
           },
           {
            "bin_start": 0.30000000000000004,
            "bin_end": 0.4,
            "count": 0
           },
           {
            "bin_start": 0.4,
            "bin_end": 0.5,
            "count": 0
           },
           {
            "bin_start": 0.5,
            "bin_end": 0.6000000000000001,
            "count": 0
           },
           {
            "bin_start": 0.6000000000000001,
            "bin_end": 0.7000000000000001,
            "count": 0
           },
           {
            "bin_start": 0.7000000000000001,
            "bin_end": 0.8,
            "count": 0
           },
           {
            "bin_start": 0.8,
            "bin_end": 0.9,
            "count": 0
           },
           {
            "bin_start": 0.9,
            "bin_end": 1,
            "count": 4
           }
          ]
         }
        },
        {
         "name": "parking",
         "dtype": "int64",
         "stats": {
          "unique_count": 2,
          "nan_count": 0,
          "min": "0",
          "max": "1",
          "histogram": [
           {
            "bin_start": 0,
            "bin_end": 0.1,
            "count": 4
           },
           {
            "bin_start": 0.1,
            "bin_end": 0.2,
            "count": 0
           },
           {
            "bin_start": 0.2,
            "bin_end": 0.30000000000000004,
            "count": 0
           },
           {
            "bin_start": 0.30000000000000004,
            "bin_end": 0.4,
            "count": 0
           },
           {
            "bin_start": 0.4,
            "bin_end": 0.5,
            "count": 0
           },
           {
            "bin_start": 0.5,
            "bin_end": 0.6000000000000001,
            "count": 0
           },
           {
            "bin_start": 0.6000000000000001,
            "bin_end": 0.7000000000000001,
            "count": 0
           },
           {
            "bin_start": 0.7000000000000001,
            "bin_end": 0.8,
            "count": 0
           },
           {
            "bin_start": 0.8,
            "bin_end": 0.9,
            "count": 0
           },
           {
            "bin_start": 0.9,
            "bin_end": 1,
            "count": 1
           }
          ]
         }
        },
        {
         "name": "_deepnote_index_column",
         "dtype": "int64"
        }
       ],
       "rows_top": [
        {
         "id": 23285,
         "area_total": 71.4,
         "area_kitchen": 14.5531459279628,
         "area_living": 39.19458699421092,
         "floor": 2,
         "rooms": 1,
         "bathrooms_shared": 0,
         "bathrooms_private": 0,
         "windows_court": 1,
         "windows_street": 0,
         "phones": 1,
         "building_id": 5148,
         "new": 0,
         "latitude": 55.762247,
         "longitude": 37.549040000000005,
         "district": 0,
         "constructed": 2017,
         "material": 2,
         "stories": 20,
         "elevator_without": 1,
         "elevator_passenger": 1,
         "elevator_service": 1,
         "parking": 0,
         "_deepnote_index_column": 0
        },
        {
         "id": 23286,
         "area_total": 54,
         "area_kitchen": 4,
         "area_living": 50,
         "floor": 4,
         "rooms": 1,
         "bathrooms_shared": 0,
         "bathrooms_private": 0,
         "windows_court": 1,
         "windows_street": 0,
         "phones": 1,
         "building_id": 1290,
         "new": 0,
         "latitude": 55.591467,
         "longitude": 37.452651,
         "district": 11,
         "constructed": 2017,
         "material": 2,
         "stories": 15,
         "elevator_without": 0,
         "elevator_passenger": 1,
         "elevator_service": 1,
         "parking": 0,
         "_deepnote_index_column": 1
        },
        {
         "id": 23287,
         "area_total": 39.4,
         "area_kitchen": 19.6,
         "area_living": 11.2,
         "floor": 10,
         "rooms": 1,
         "bathrooms_shared": 1,
         "bathrooms_private": 0,
         "windows_court": 1,
         "windows_street": 0,
         "phones": 1,
         "building_id": 681,
         "new": 1,
         "latitude": 55.617017,
         "longitude": 37.413718,
         "district": 11,
         "constructed": 2021,
         "material": 3,
         "stories": 9,
         "elevator_without": 0,
         "elevator_passenger": 1,
         "elevator_service": 1,
         "parking": 1,
         "_deepnote_index_column": 2
        },
        {
         "id": 23288,
         "area_total": 60.9,
         "area_kitchen": 12.41297740914474,
         "area_living": 33.43067714212108,
         "floor": 5,
         "rooms": 2,
         "bathrooms_shared": 1,
         "bathrooms_private": 0,
         "windows_court": 0,
         "windows_street": 1,
         "phones": 1,
         "building_id": 4261,
         "new": 0,
         "latitude": 55.569052,
         "longitude": 37.47951,
         "district": 11,
         "constructed": 2014,
         "material": 2,
         "stories": 17,
         "elevator_without": 1,
         "elevator_passenger": 1,
         "elevator_service": 0,
         "parking": 0,
         "_deepnote_index_column": 3
        },
        {
         "id": 23289,
         "area_total": 34,
         "area_kitchen": 9,
         "area_living": 17,
         "floor": 14,
         "rooms": 1,
         "bathrooms_shared": 1,
         "bathrooms_private": 0,
         "windows_court": 1,
         "windows_street": 0,
         "phones": 1,
         "building_id": 7530,
         "new": 0,
         "latitude": 55.518041,
         "longitude": 37.343829,
         "district": 11,
         "constructed": 2016,
         "material": 2,
         "stories": 17,
         "elevator_without": 0,
         "elevator_passenger": 1,
         "elevator_service": 1,
         "parking": 0,
         "_deepnote_index_column": 4
        }
       ],
       "rows_bottom": null
      },
      "text/plain": "      id  area_total  area_kitchen  area_living  floor  rooms  \\\n0  23285        71.4     14.553146    39.194587      2      1   \n1  23286        54.0      4.000000    50.000000      4      1   \n2  23287        39.4     19.600000    11.200000     10      1   \n3  23288        60.9     12.412977    33.430677      5      2   \n4  23289        34.0      9.000000    17.000000     14      1   \n\n   bathrooms_shared  bathrooms_private  windows_court  windows_street  ...  \\\n0                 0                  0              1               0  ...   \n1                 0                  0              1               0  ...   \n2                 1                  0              1               0  ...   \n3                 1                  0              0               1  ...   \n4                 1                  0              1               0  ...   \n\n    latitude  longitude  district  constructed  material  stories  \\\n0  55.762247  37.549040         0         2017         2       20   \n1  55.591467  37.452651        11         2017         2       15   \n2  55.617017  37.413718        11         2021         3        9   \n3  55.569052  37.479510        11         2014         2       17   \n4  55.518041  37.343829        11         2016         2       17   \n\n   elevator_without  elevator_passenger  elevator_service  parking  \n0                 1                   1                 1        0  \n1                 0                   1                 1        0  \n2                 0                   1                 1        1  \n3                 1                   1                 0        0  \n4                 0                   1                 1        0  \n\n[5 rows x 23 columns]",
      "text/html": "<div>\n<style scoped>\n    .dataframe tbody tr th:only-of-type {\n        vertical-align: middle;\n    }\n\n    .dataframe tbody tr th {\n        vertical-align: top;\n    }\n\n    .dataframe thead th {\n        text-align: right;\n    }\n</style>\n<table border=\"1\" class=\"dataframe\">\n  <thead>\n    <tr style=\"text-align: right;\">\n      <th></th>\n      <th>id</th>\n      <th>area_total</th>\n      <th>area_kitchen</th>\n      <th>area_living</th>\n      <th>floor</th>\n      <th>rooms</th>\n      <th>bathrooms_shared</th>\n      <th>bathrooms_private</th>\n      <th>windows_court</th>\n      <th>windows_street</th>\n      <th>...</th>\n      <th>latitude</th>\n      <th>longitude</th>\n      <th>district</th>\n      <th>constructed</th>\n      <th>material</th>\n      <th>stories</th>\n      <th>elevator_without</th>\n      <th>elevator_passenger</th>\n      <th>elevator_service</th>\n      <th>parking</th>\n    </tr>\n  </thead>\n  <tbody>\n    <tr>\n      <th>0</th>\n      <td>23285</td>\n      <td>71.4</td>\n      <td>14.553146</td>\n      <td>39.194587</td>\n      <td>2</td>\n      <td>1</td>\n      <td>0</td>\n      <td>0</td>\n      <td>1</td>\n      <td>0</td>\n      <td>...</td>\n      <td>55.762247</td>\n      <td>37.549040</td>\n      <td>0</td>\n      <td>2017</td>\n      <td>2</td>\n      <td>20</td>\n      <td>1</td>\n      <td>1</td>\n      <td>1</td>\n      <td>0</td>\n    </tr>\n    <tr>\n      <th>1</th>\n      <td>23286</td>\n      <td>54.0</td>\n      <td>4.000000</td>\n      <td>50.000000</td>\n      <td>4</td>\n      <td>1</td>\n      <td>0</td>\n      <td>0</td>\n      <td>1</td>\n      <td>0</td>\n      <td>...</td>\n      <td>55.591467</td>\n      <td>37.452651</td>\n      <td>11</td>\n      <td>2017</td>\n      <td>2</td>\n      <td>15</td>\n      <td>0</td>\n      <td>1</td>\n      <td>1</td>\n      <td>0</td>\n    </tr>\n    <tr>\n      <th>2</th>\n      <td>23287</td>\n      <td>39.4</td>\n      <td>19.600000</td>\n      <td>11.200000</td>\n      <td>10</td>\n      <td>1</td>\n      <td>1</td>\n      <td>0</td>\n      <td>1</td>\n      <td>0</td>\n      <td>...</td>\n      <td>55.617017</td>\n      <td>37.413718</td>\n      <td>11</td>\n      <td>2021</td>\n      <td>3</td>\n      <td>9</td>\n      <td>0</td>\n      <td>1</td>\n      <td>1</td>\n      <td>1</td>\n    </tr>\n    <tr>\n      <th>3</th>\n      <td>23288</td>\n      <td>60.9</td>\n      <td>12.412977</td>\n      <td>33.430677</td>\n      <td>5</td>\n      <td>2</td>\n      <td>1</td>\n      <td>0</td>\n      <td>0</td>\n      <td>1</td>\n      <td>...</td>\n      <td>55.569052</td>\n      <td>37.479510</td>\n      <td>11</td>\n      <td>2014</td>\n      <td>2</td>\n      <td>17</td>\n      <td>1</td>\n      <td>1</td>\n      <td>0</td>\n      <td>0</td>\n    </tr>\n    <tr>\n      <th>4</th>\n      <td>23289</td>\n      <td>34.0</td>\n      <td>9.000000</td>\n      <td>17.000000</td>\n      <td>14</td>\n      <td>1</td>\n      <td>1</td>\n      <td>0</td>\n      <td>1</td>\n      <td>0</td>\n      <td>...</td>\n      <td>55.518041</td>\n      <td>37.343829</td>\n      <td>11</td>\n      <td>2016</td>\n      <td>2</td>\n      <td>17</td>\n      <td>0</td>\n      <td>1</td>\n      <td>1</td>\n      <td>0</td>\n    </tr>\n  </tbody>\n</table>\n<p>5 rows × 23 columns</p>\n</div>"
     },
     "metadata": {}
    }
   ]
  },
  {
   "cell_type": "code",
   "metadata": {
    "tags": [],
    "cell_id": "00002-46a00715-74c3-422d-b0ae-88ea30e987b4",
    "deepnote_to_be_reexecuted": false,
    "source_hash": "196e5619",
    "execution_start": 1637180110590,
    "execution_millis": 1,
    "deepnote_cell_type": "code"
   },
   "source": "def root_mean_squared_log_error(y_true, y_pred):\n    # Alternatively: sklearn.metrics.mean_squared_log_error(y_true, y_pred) ** 0.5\n    assert (y_true >= 0).all() \n    assert (y_pred >= 0).all()\n    log_error = np.log1p(y_pred) - np.log1p(y_true)  # Note: log1p(x) = log(1 + x)\n    return np.mean(log_error ** 2) ** 0.5\n",
   "execution_count": null,
   "outputs": []
  },
  {
   "cell_type": "code",
   "metadata": {
    "tags": [],
    "cell_id": "00001-509c4308-dfbe-442b-a132-651f246745f7",
    "deepnote_to_be_reexecuted": false,
    "source_hash": "b56b8417",
    "execution_start": 1637180110599,
    "execution_millis": 35,
    "deepnote_cell_type": "code"
   },
   "source": "X = data_train.copy()\nX_train, X_test = train_test_split(X, test_size=0.2, stratify=np.log(data_train.price).round())\ny_train = X_train.price\ny_test = X_test.price\nX_train = X_train.drop(['id', 'price'], axis=1,inplace=True)\nX_test = X_test.drop(['id', 'price'], axis=1, inplace=True)\n\n",
   "execution_count": null,
   "outputs": []
  },
  {
   "cell_type": "code",
   "metadata": {
    "tags": [],
    "cell_id": "00005-dd76c87c-02b0-4385-a41a-786817e21b7a",
    "deepnote_to_be_reexecuted": false,
    "source_hash": "28326979",
    "execution_start": 1637180110662,
    "execution_millis": 4,
    "deepnote_cell_type": "code"
   },
   "source": "import xgboost\nregressor=xgboost.XGBRegressor(objective='reg-linear', colsample_bytree=0.3, learning_rate = 0.1, max_depth = 5, alpha = 10, n_estimators =10)\nregressor.fit(X_train, y_train)\na = regressor.predict(X_test)\nb = root_mean_squared_log_error(y_test, a)",
   "execution_count": null,
   "outputs": [
    {
     "output_type": "error",
     "ename": "KernelInterrupted",
     "evalue": "Execution interrupted by the Jupyter kernel.",
     "traceback": [
      "\u001b[0;31m---------------------------------------------------------------------------\u001b[0m",
      "\u001b[0;31mKernelInterrupted\u001b[0m: Execution interrupted by the Jupyter kernel."
     ]
    }
   ]
  },
  {
   "cell_type": "code",
   "metadata": {
    "tags": [],
    "cell_id": "00006-394dad10-b269-4388-92b1-410865ea0b2e",
    "deepnote_to_be_reexecuted": true,
    "source_hash": "befd744c",
    "execution_start": 1637179888430,
    "execution_millis": 5009,
    "deepnote_cell_type": "code"
   },
   "source": "import time\ntry: \n    time.sleep(5)\n    print('That was a nice nap.')\nexcept KeyboardInterrupt:\n    print('What a rude awakening!')",
   "execution_count": null,
   "outputs": [
    {
     "name": "stdout",
     "text": "That was a nice nap.\n",
     "output_type": "stream"
    }
   ]
  },
  {
   "cell_type": "code",
   "metadata": {
    "tags": [],
    "cell_id": "00006-a01bf21a-a872-4e22-bcf3-760f1509729f",
    "deepnote_to_be_reexecuted": true,
    "source_hash": "66626a7e",
    "execution_start": 1637179975530,
    "execution_millis": 1,
    "deepnote_cell_type": "code"
   },
   "source": "booster=[\"gbtree\",\"gblinear\"]\nbase_score=[0.25,0.5,0.75,1]",
   "execution_count": null,
   "outputs": []
  },
  {
   "cell_type": "code",
   "metadata": {
    "tags": [],
    "cell_id": "00007-34ffdd54-ac87-4536-a8e6-2daa936e0109",
    "deepnote_to_be_reexecuted": true,
    "source_hash": "f05677",
    "execution_start": 1637179978353,
    "execution_millis": 2,
    "deepnote_cell_type": "code"
   },
   "source": "#hyper parameter\nn_estimators=[100,500,900,1100,1500]\nmax_depth=[2,3,5,10,15]\nbooster=[\"gbtree\",\"gblinear\"]\nlearning_rate=[0.05,0.1,0.15,0.20]\nmin_child_weight=[1,2,3,4]\nbase_score=[0.25,0.5,0.75,1]\n\norg_params = {\n    'n_estimators': n_estimators,\n    'learning_rate': learning_rate,\n    \"booster\":booster,\n    'eval_metric': 'RMSE',\n    'use_best_model': True,\n    'loss_function': 'RMSE',\n    'max_depth': max_depth,\n    \"min_child_weight\":min_child_weight,\n    \"base_score\":base_score\n}\n",
   "execution_count": null,
   "outputs": []
  },
  {
   "cell_type": "code",
   "metadata": {
    "tags": [],
    "cell_id": "00008-067d768d-4c3a-4fc9-8ef7-6325934430d1",
    "deepnote_to_be_reexecuted": true,
    "source_hash": "bef2256d",
    "execution_start": 1637179980698,
    "execution_millis": 2,
    "deepnote_cell_type": "code"
   },
   "source": "random_cv=RandomizedSearchCV(estimator=regressor,\nparam_distributions=org_params,\ncv=5,n_iter=50,\nscoring=\"neg_mean_absolute_error\",n_jobs=4,\nverbose=5,\nreturn_train_score=True,\nrandom_state=42)\n\n",
   "execution_count": null,
   "outputs": []
  },
  {
   "cell_type": "code",
   "metadata": {
    "tags": [],
    "cell_id": "00009-cb3ae190-de36-41a3-80c7-38df38093de1",
    "deepnote_to_be_reexecuted": true,
    "source_hash": "dfeef883",
    "execution_start": 1637179984105,
    "execution_millis": 43,
    "deepnote_cell_type": "code"
   },
   "source": "random_cv.fit(X_train, y_train)",
   "execution_count": null,
   "outputs": [
    {
     "output_type": "error",
     "ename": "TypeError",
     "evalue": "Parameter value is not iterable or distribution (key='use_best_model', value=True)",
     "traceback": [
      "\u001b[0;31m---------------------------------------------------------------------------\u001b[0m",
      "\u001b[0;31mTypeError\u001b[0m                                 Traceback (most recent call last)",
      "\u001b[0;32m<ipython-input-22-aaa5624c56fa>\u001b[0m in \u001b[0;36m<module>\u001b[0;34m\u001b[0m\n\u001b[0;32m----> 1\u001b[0;31m \u001b[0mrandom_cv\u001b[0m\u001b[0;34m.\u001b[0m\u001b[0mfit\u001b[0m\u001b[0;34m(\u001b[0m\u001b[0mX_train\u001b[0m\u001b[0;34m,\u001b[0m \u001b[0my_train\u001b[0m\u001b[0;34m)\u001b[0m\u001b[0;34m\u001b[0m\u001b[0;34m\u001b[0m\u001b[0m\n\u001b[0m",
      "\u001b[0;32m/shared-libs/python3.9/py/lib/python3.9/site-packages/sklearn/model_selection/_search.py\u001b[0m in \u001b[0;36mfit\u001b[0;34m(self, X, y, groups, **fit_params)\u001b[0m\n\u001b[1;32m    889\u001b[0m                 \u001b[0;32mreturn\u001b[0m \u001b[0mresults\u001b[0m\u001b[0;34m\u001b[0m\u001b[0;34m\u001b[0m\u001b[0m\n\u001b[1;32m    890\u001b[0m \u001b[0;34m\u001b[0m\u001b[0m\n\u001b[0;32m--> 891\u001b[0;31m             \u001b[0mself\u001b[0m\u001b[0;34m.\u001b[0m\u001b[0m_run_search\u001b[0m\u001b[0;34m(\u001b[0m\u001b[0mevaluate_candidates\u001b[0m\u001b[0;34m)\u001b[0m\u001b[0;34m\u001b[0m\u001b[0;34m\u001b[0m\u001b[0m\n\u001b[0m\u001b[1;32m    892\u001b[0m \u001b[0;34m\u001b[0m\u001b[0m\n\u001b[1;32m    893\u001b[0m             \u001b[0;31m# multimetric is determined here because in the case of a callable\u001b[0m\u001b[0;34m\u001b[0m\u001b[0;34m\u001b[0m\u001b[0m\n",
      "\u001b[0;32m/shared-libs/python3.9/py/lib/python3.9/site-packages/sklearn/model_selection/_search.py\u001b[0m in \u001b[0;36m_run_search\u001b[0;34m(self, evaluate_candidates)\u001b[0m\n\u001b[1;32m   1765\u001b[0m         \u001b[0;34m\"\"\"Search n_iter candidates from param_distributions\"\"\"\u001b[0m\u001b[0;34m\u001b[0m\u001b[0;34m\u001b[0m\u001b[0m\n\u001b[1;32m   1766\u001b[0m         evaluate_candidates(\n\u001b[0;32m-> 1767\u001b[0;31m             ParameterSampler(\n\u001b[0m\u001b[1;32m   1768\u001b[0m                 \u001b[0mself\u001b[0m\u001b[0;34m.\u001b[0m\u001b[0mparam_distributions\u001b[0m\u001b[0;34m,\u001b[0m \u001b[0mself\u001b[0m\u001b[0;34m.\u001b[0m\u001b[0mn_iter\u001b[0m\u001b[0;34m,\u001b[0m \u001b[0mrandom_state\u001b[0m\u001b[0;34m=\u001b[0m\u001b[0mself\u001b[0m\u001b[0;34m.\u001b[0m\u001b[0mrandom_state\u001b[0m\u001b[0;34m\u001b[0m\u001b[0;34m\u001b[0m\u001b[0m\n\u001b[1;32m   1769\u001b[0m             )\n",
      "\u001b[0;32m/shared-libs/python3.9/py/lib/python3.9/site-packages/sklearn/model_selection/_search.py\u001b[0m in \u001b[0;36m__init__\u001b[0;34m(self, param_distributions, n_iter, random_state)\u001b[0m\n\u001b[1;32m    264\u001b[0m                     \u001b[0mdist\u001b[0m\u001b[0;34m[\u001b[0m\u001b[0mkey\u001b[0m\u001b[0;34m]\u001b[0m\u001b[0;34m,\u001b[0m \u001b[0;34m\"rvs\"\u001b[0m\u001b[0;34m\u001b[0m\u001b[0;34m\u001b[0m\u001b[0m\n\u001b[1;32m    265\u001b[0m                 ):\n\u001b[0;32m--> 266\u001b[0;31m                     raise TypeError(\n\u001b[0m\u001b[1;32m    267\u001b[0m                         \u001b[0;34m\"Parameter value is not iterable \"\u001b[0m\u001b[0;34m\u001b[0m\u001b[0;34m\u001b[0m\u001b[0m\n\u001b[1;32m    268\u001b[0m                         \u001b[0;34m\"or distribution (key={!r}, value={!r})\"\u001b[0m\u001b[0;34m.\u001b[0m\u001b[0mformat\u001b[0m\u001b[0;34m(\u001b[0m\u001b[0mkey\u001b[0m\u001b[0;34m,\u001b[0m \u001b[0mdist\u001b[0m\u001b[0;34m[\u001b[0m\u001b[0mkey\u001b[0m\u001b[0;34m]\u001b[0m\u001b[0;34m)\u001b[0m\u001b[0;34m\u001b[0m\u001b[0;34m\u001b[0m\u001b[0m\n",
      "\u001b[0;31mTypeError\u001b[0m: Parameter value is not iterable or distribution (key='use_best_model', value=True)"
     ]
    }
   ]
  },
  {
   "cell_type": "code",
   "metadata": {
    "tags": [],
    "cell_id": "00010-a413e192-1062-4ea1-aeef-75f2d07540f9",
    "deepnote_to_be_reexecuted": true,
    "source_hash": "43123c50",
    "execution_start": 1637180094178,
    "execution_millis": 1,
    "deepnote_cell_type": "code"
   },
   "source": "random_cv.best_estimator_",
   "execution_count": null,
   "outputs": [
    {
     "output_type": "error",
     "ename": "AttributeError",
     "evalue": "'RandomizedSearchCV' object has no attribute 'best_estimator_'",
     "traceback": [
      "\u001b[0;31m---------------------------------------------------------------------------\u001b[0m",
      "\u001b[0;31mAttributeError\u001b[0m                            Traceback (most recent call last)",
      "\u001b[0;32m<ipython-input-23-4806529e5c2f>\u001b[0m in \u001b[0;36m<module>\u001b[0;34m\u001b[0m\n\u001b[0;32m----> 1\u001b[0;31m \u001b[0mrandom_cv\u001b[0m\u001b[0;34m.\u001b[0m\u001b[0mbest_estimator_\u001b[0m\u001b[0;34m\u001b[0m\u001b[0;34m\u001b[0m\u001b[0m\n\u001b[0m",
      "\u001b[0;31mAttributeError\u001b[0m: 'RandomizedSearchCV' object has no attribute 'best_estimator_'"
     ]
    }
   ]
  },
  {
   "cell_type": "markdown",
   "source": "<a style='text-decoration:none;line-height:16px;display:flex;color:#5B5B62;padding:10px;justify-content:end;' href='https://deepnote.com?utm_source=created-in-deepnote-cell&projectId=99c1e030-46bc-40fa-835c-0661eae0d488' target=\"_blank\">\n<img alt='Created in deepnote.com' style='display:inline;max-height:16px;margin:0px;margin-right:7.5px;' src='data:image/svg+xml;base64,PD94bWwgdmVyc2lvbj0iMS4wIiBlbmNvZGluZz0iVVRGLTgiPz4KPHN2ZyB3aWR0aD0iODBweCIgaGVpZ2h0PSI4MHB4IiB2aWV3Qm94PSIwIDAgODAgODAiIHZlcnNpb249IjEuMSIgeG1sbnM9Imh0dHA6Ly93d3cudzMub3JnLzIwMDAvc3ZnIiB4bWxuczp4bGluaz0iaHR0cDovL3d3dy53My5vcmcvMTk5OS94bGluayI+CiAgICA8IS0tIEdlbmVyYXRvcjogU2tldGNoIDU0LjEgKDc2NDkwKSAtIGh0dHBzOi8vc2tldGNoYXBwLmNvbSAtLT4KICAgIDx0aXRsZT5Hcm91cCAzPC90aXRsZT4KICAgIDxkZXNjPkNyZWF0ZWQgd2l0aCBTa2V0Y2guPC9kZXNjPgogICAgPGcgaWQ9IkxhbmRpbmciIHN0cm9rZT0ibm9uZSIgc3Ryb2tlLXdpZHRoPSIxIiBmaWxsPSJub25lIiBmaWxsLXJ1bGU9ImV2ZW5vZGQiPgogICAgICAgIDxnIGlkPSJBcnRib2FyZCIgdHJhbnNmb3JtPSJ0cmFuc2xhdGUoLTEyMzUuMDAwMDAwLCAtNzkuMDAwMDAwKSI+CiAgICAgICAgICAgIDxnIGlkPSJHcm91cC0zIiB0cmFuc2Zvcm09InRyYW5zbGF0ZSgxMjM1LjAwMDAwMCwgNzkuMDAwMDAwKSI+CiAgICAgICAgICAgICAgICA8cG9seWdvbiBpZD0iUGF0aC0yMCIgZmlsbD0iIzAyNjVCNCIgcG9pbnRzPSIyLjM3NjIzNzYyIDgwIDM4LjA0NzY2NjcgODAgNTcuODIxNzgyMiA3My44MDU3NTkyIDU3LjgyMTc4MjIgMzIuNzU5MjczOSAzOS4xNDAyMjc4IDMxLjY4MzE2ODMiPjwvcG9seWdvbj4KICAgICAgICAgICAgICAgIDxwYXRoIGQ9Ik0zNS4wMDc3MTgsODAgQzQyLjkwNjIwMDcsNzYuNDU0OTM1OCA0Ny41NjQ5MTY3LDcxLjU0MjI2NzEgNDguOTgzODY2LDY1LjI2MTk5MzkgQzUxLjExMjI4OTksNTUuODQxNTg0MiA0MS42NzcxNzk1LDQ5LjIxMjIyODQgMjUuNjIzOTg0Niw0OS4yMTIyMjg0IEMyNS40ODQ5Mjg5LDQ5LjEyNjg0NDggMjkuODI2MTI5Niw0My4yODM4MjQ4IDM4LjY0NzU4NjksMzEuNjgzMTY4MyBMNzIuODcxMjg3MSwzMi41NTQ0MjUgTDY1LjI4MDk3Myw2Ny42NzYzNDIxIEw1MS4xMTIyODk5LDc3LjM3NjE0NCBMMzUuMDA3NzE4LDgwIFoiIGlkPSJQYXRoLTIyIiBmaWxsPSIjMDAyODY4Ij48L3BhdGg+CiAgICAgICAgICAgICAgICA8cGF0aCBkPSJNMCwzNy43MzA0NDA1IEwyNy4xMTQ1MzcsMC4yNTcxMTE0MzYgQzYyLjM3MTUxMjMsLTEuOTkwNzE3MDEgODAsMTAuNTAwMzkyNyA4MCwzNy43MzA0NDA1IEM4MCw2NC45NjA0ODgyIDY0Ljc3NjUwMzgsNzkuMDUwMzQxNCAzNC4zMjk1MTEzLDgwIEM0Ny4wNTUzNDg5LDc3LjU2NzA4MDggNTMuNDE4MjY3Nyw3MC4zMTM2MTAzIDUzLjQxODI2NzcsNTguMjM5NTg4NSBDNTMuNDE4MjY3Nyw0MC4xMjg1NTU3IDM2LjMwMzk1NDQsMzcuNzMwNDQwNSAyNS4yMjc0MTcsMzcuNzMwNDQwNSBDMTcuODQzMDU4NiwzNy43MzA0NDA1IDkuNDMzOTE5NjYsMzcuNzMwNDQwNSAwLDM3LjczMDQ0MDUgWiIgaWQ9IlBhdGgtMTkiIGZpbGw9IiMzNzkzRUYiPjwvcGF0aD4KICAgICAgICAgICAgPC9nPgogICAgICAgIDwvZz4KICAgIDwvZz4KPC9zdmc+' > </img>\nCreated in <span style='font-weight:600;margin-left:4px;'>Deepnote</span></a>",
   "metadata": {
    "tags": [],
    "created_in_deepnote_cell": true,
    "deepnote_cell_type": "markdown"
   }
  }
 ],
 "nbformat": 4,
 "nbformat_minor": 2,
 "metadata": {
  "orig_nbformat": 2,
  "deepnote": {
   "is_reactive": false
  },
  "deepnote_notebook_id": "83b8f48c-19c7-4aeb-9244-4a5ce1d208bf",
  "deepnote_execution_queue": []
 }
}